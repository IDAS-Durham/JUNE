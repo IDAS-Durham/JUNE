{
 "cells": [
  {
   "cell_type": "markdown",
   "metadata": {},
   "source": [
    "This notebook takes UK postcode information and matches this up with [nomis population data](https://www.nomisweb.co.uk/census/2011/postcode_headcounts_and_household_estimates)"
   ]
  },
  {
   "cell_type": "code",
   "execution_count": 2,
   "metadata": {},
   "outputs": [],
   "source": [
    "import numpy as np\n",
    "import matplotlib.pyplot as plt\n",
    "import pandas as pd\n",
    "from tqdm import tqdm\n",
    "import descartes\n",
    "\n",
    "import geopandas as gpd\n",
    "from shapely.geometry import Point, Polygon"
   ]
  },
  {
   "cell_type": "markdown",
   "metadata": {},
   "source": [
    "### Postcodes"
   ]
  },
  {
   "cell_type": "code",
   "execution_count": 49,
   "metadata": {},
   "outputs": [],
   "source": [
    "pc = pd.read_csv('ukpostcodes.csv', index_col='postcode')"
   ]
  },
  {
   "cell_type": "code",
   "execution_count": 50,
   "metadata": {},
   "outputs": [
    {
     "data": {
      "text/html": [
       "<div>\n",
       "<style scoped>\n",
       "    .dataframe tbody tr th:only-of-type {\n",
       "        vertical-align: middle;\n",
       "    }\n",
       "\n",
       "    .dataframe tbody tr th {\n",
       "        vertical-align: top;\n",
       "    }\n",
       "\n",
       "    .dataframe thead th {\n",
       "        text-align: right;\n",
       "    }\n",
       "</style>\n",
       "<table border=\"1\" class=\"dataframe\">\n",
       "  <thead>\n",
       "    <tr style=\"text-align: right;\">\n",
       "      <th></th>\n",
       "      <th>id</th>\n",
       "      <th>latitude</th>\n",
       "      <th>longitude</th>\n",
       "    </tr>\n",
       "    <tr>\n",
       "      <th>postcode</th>\n",
       "      <th></th>\n",
       "      <th></th>\n",
       "      <th></th>\n",
       "    </tr>\n",
       "  </thead>\n",
       "  <tbody>\n",
       "    <tr>\n",
       "      <th>AB10 1XG</th>\n",
       "      <td>1</td>\n",
       "      <td>57.144165</td>\n",
       "      <td>-2.114848</td>\n",
       "    </tr>\n",
       "    <tr>\n",
       "      <th>AB10 6RN</th>\n",
       "      <td>2</td>\n",
       "      <td>57.137880</td>\n",
       "      <td>-2.121487</td>\n",
       "    </tr>\n",
       "    <tr>\n",
       "      <th>AB10 7JB</th>\n",
       "      <td>3</td>\n",
       "      <td>57.124274</td>\n",
       "      <td>-2.127190</td>\n",
       "    </tr>\n",
       "    <tr>\n",
       "      <th>AB11 5QN</th>\n",
       "      <td>4</td>\n",
       "      <td>57.142701</td>\n",
       "      <td>-2.093295</td>\n",
       "    </tr>\n",
       "    <tr>\n",
       "      <th>AB11 6UL</th>\n",
       "      <td>5</td>\n",
       "      <td>57.137547</td>\n",
       "      <td>-2.112233</td>\n",
       "    </tr>\n",
       "  </tbody>\n",
       "</table>\n",
       "</div>"
      ],
      "text/plain": [
       "          id   latitude  longitude\n",
       "postcode                          \n",
       "AB10 1XG   1  57.144165  -2.114848\n",
       "AB10 6RN   2  57.137880  -2.121487\n",
       "AB10 7JB   3  57.124274  -2.127190\n",
       "AB11 5QN   4  57.142701  -2.093295\n",
       "AB11 6UL   5  57.137547  -2.112233"
      ]
     },
     "execution_count": 50,
     "metadata": {},
     "output_type": "execute_result"
    }
   ],
   "source": [
    "pc.head()"
   ]
  },
  {
   "cell_type": "code",
   "execution_count": 51,
   "metadata": {},
   "outputs": [
    {
     "data": {
      "text/plain": [
       "1766510"
      ]
     },
     "execution_count": 51,
     "metadata": {},
     "output_type": "execute_result"
    }
   ],
   "source": [
    "len(pc)"
   ]
  },
  {
   "cell_type": "markdown",
   "metadata": {},
   "source": [
    "### Population"
   ]
  },
  {
   "cell_type": "code",
   "execution_count": 52,
   "metadata": {},
   "outputs": [],
   "source": [
    "pop1 = pd.read_csv('Postcode_Estimates_Table_1.csv', index_col='Postcode')"
   ]
  },
  {
   "cell_type": "code",
   "execution_count": 53,
   "metadata": {},
   "outputs": [
    {
     "data": {
      "text/html": [
       "<div>\n",
       "<style scoped>\n",
       "    .dataframe tbody tr th:only-of-type {\n",
       "        vertical-align: middle;\n",
       "    }\n",
       "\n",
       "    .dataframe tbody tr th {\n",
       "        vertical-align: top;\n",
       "    }\n",
       "\n",
       "    .dataframe thead th {\n",
       "        text-align: right;\n",
       "    }\n",
       "</style>\n",
       "<table border=\"1\" class=\"dataframe\">\n",
       "  <thead>\n",
       "    <tr style=\"text-align: right;\">\n",
       "      <th></th>\n",
       "      <th>Total</th>\n",
       "      <th>Males</th>\n",
       "      <th>Females</th>\n",
       "      <th>Occupied_Households</th>\n",
       "    </tr>\n",
       "    <tr>\n",
       "      <th>Postcode</th>\n",
       "      <th></th>\n",
       "      <th></th>\n",
       "      <th></th>\n",
       "      <th></th>\n",
       "    </tr>\n",
       "  </thead>\n",
       "  <tbody>\n",
       "    <tr>\n",
       "      <th>AL1 1AG</th>\n",
       "      <td>14</td>\n",
       "      <td>6</td>\n",
       "      <td>8</td>\n",
       "      <td>6</td>\n",
       "    </tr>\n",
       "    <tr>\n",
       "      <th>AL1 1AJ</th>\n",
       "      <td>124</td>\n",
       "      <td>60</td>\n",
       "      <td>64</td>\n",
       "      <td>51</td>\n",
       "    </tr>\n",
       "    <tr>\n",
       "      <th>AL1 1AR</th>\n",
       "      <td>32</td>\n",
       "      <td>17</td>\n",
       "      <td>15</td>\n",
       "      <td>17</td>\n",
       "    </tr>\n",
       "    <tr>\n",
       "      <th>AL1 1AS</th>\n",
       "      <td>34</td>\n",
       "      <td>17</td>\n",
       "      <td>17</td>\n",
       "      <td>13</td>\n",
       "    </tr>\n",
       "    <tr>\n",
       "      <th>AL1 1BH</th>\n",
       "      <td>52</td>\n",
       "      <td>15</td>\n",
       "      <td>37</td>\n",
       "      <td>41</td>\n",
       "    </tr>\n",
       "  </tbody>\n",
       "</table>\n",
       "</div>"
      ],
      "text/plain": [
       "          Total  Males  Females  Occupied_Households\n",
       "Postcode                                            \n",
       "AL1 1AG      14      6        8                    6\n",
       "AL1 1AJ     124     60       64                   51\n",
       "AL1 1AR      32     17       15                   17\n",
       "AL1 1AS      34     17       17                   13\n",
       "AL1 1BH      52     15       37                   41"
      ]
     },
     "execution_count": 53,
     "metadata": {},
     "output_type": "execute_result"
    }
   ],
   "source": [
    "pop1.head()"
   ]
  },
  {
   "cell_type": "code",
   "execution_count": 54,
   "metadata": {},
   "outputs": [],
   "source": [
    "males = np.sum(pop1['Males'])\n",
    "females = np.sum(pop1['Females'])"
   ]
  },
  {
   "cell_type": "code",
   "execution_count": 55,
   "metadata": {},
   "outputs": [
    {
     "name": "stdout",
     "output_type": "stream",
     "text": [
      "This dataset accounts for a popultion of 56075912, whereas the total population in 2011 was 63.18M\n"
     ]
    }
   ],
   "source": [
    "print ('This dataset accounts for a popultion of {}, whereas the total population in 2011 was 63.18M'.format(males+females))"
   ]
  },
  {
   "cell_type": "markdown",
   "metadata": {},
   "source": [
    "### Mapping"
   ]
  },
  {
   "cell_type": "code",
   "execution_count": 59,
   "metadata": {},
   "outputs": [],
   "source": [
    "data = pd.concat([pc,pop1], axis=1).dropna()"
   ]
  },
  {
   "cell_type": "code",
   "execution_count": 72,
   "metadata": {},
   "outputs": [],
   "source": [
    "data.to_csv('postcode_population.csv')"
   ]
  },
  {
   "cell_type": "code",
   "execution_count": 61,
   "metadata": {},
   "outputs": [],
   "source": [
    "gdf = gpd.GeoDataFrame(\n",
    "    data, geometry=gpd.points_from_xy(data.longitude, data.latitude))"
   ]
  },
  {
   "cell_type": "code",
   "execution_count": 62,
   "metadata": {},
   "outputs": [
    {
     "data": {
      "text/html": [
       "<div>\n",
       "<style scoped>\n",
       "    .dataframe tbody tr th:only-of-type {\n",
       "        vertical-align: middle;\n",
       "    }\n",
       "\n",
       "    .dataframe tbody tr th {\n",
       "        vertical-align: top;\n",
       "    }\n",
       "\n",
       "    .dataframe thead th {\n",
       "        text-align: right;\n",
       "    }\n",
       "</style>\n",
       "<table border=\"1\" class=\"dataframe\">\n",
       "  <thead>\n",
       "    <tr style=\"text-align: right;\">\n",
       "      <th></th>\n",
       "      <th>id</th>\n",
       "      <th>latitude</th>\n",
       "      <th>longitude</th>\n",
       "      <th>Total</th>\n",
       "      <th>Males</th>\n",
       "      <th>Females</th>\n",
       "      <th>Occupied_Households</th>\n",
       "      <th>geometry</th>\n",
       "    </tr>\n",
       "  </thead>\n",
       "  <tbody>\n",
       "    <tr>\n",
       "      <th>BB1 3HL</th>\n",
       "      <td>409.0</td>\n",
       "      <td>53.750024</td>\n",
       "      <td>-2.456991</td>\n",
       "      <td>29.0</td>\n",
       "      <td>21.0</td>\n",
       "      <td>8.0</td>\n",
       "      <td>20.0</td>\n",
       "      <td>POINT (-2.45699 53.75002)</td>\n",
       "    </tr>\n",
       "    <tr>\n",
       "      <th>BB1 3HN</th>\n",
       "      <td>410.0</td>\n",
       "      <td>53.751710</td>\n",
       "      <td>-2.453370</td>\n",
       "      <td>169.0</td>\n",
       "      <td>87.0</td>\n",
       "      <td>82.0</td>\n",
       "      <td>62.0</td>\n",
       "      <td>POINT (-2.45337 53.75171)</td>\n",
       "    </tr>\n",
       "    <tr>\n",
       "      <th>BB1 3HW</th>\n",
       "      <td>416.0</td>\n",
       "      <td>53.752421</td>\n",
       "      <td>-2.448419</td>\n",
       "      <td>123.0</td>\n",
       "      <td>54.0</td>\n",
       "      <td>69.0</td>\n",
       "      <td>42.0</td>\n",
       "      <td>POINT (-2.44842 53.75242)</td>\n",
       "    </tr>\n",
       "    <tr>\n",
       "      <th>BB1 3HY</th>\n",
       "      <td>417.0</td>\n",
       "      <td>53.751346</td>\n",
       "      <td>-2.445178</td>\n",
       "      <td>55.0</td>\n",
       "      <td>27.0</td>\n",
       "      <td>28.0</td>\n",
       "      <td>27.0</td>\n",
       "      <td>POINT (-2.44518 53.75135)</td>\n",
       "    </tr>\n",
       "    <tr>\n",
       "      <th>BB1 3JB</th>\n",
       "      <td>419.0</td>\n",
       "      <td>53.751613</td>\n",
       "      <td>-2.445801</td>\n",
       "      <td>83.0</td>\n",
       "      <td>44.0</td>\n",
       "      <td>39.0</td>\n",
       "      <td>38.0</td>\n",
       "      <td>POINT (-2.44580 53.75161)</td>\n",
       "    </tr>\n",
       "  </tbody>\n",
       "</table>\n",
       "</div>"
      ],
      "text/plain": [
       "            id   latitude  longitude  Total  Males  Females  \\\n",
       "BB1 3HL  409.0  53.750024  -2.456991   29.0   21.0      8.0   \n",
       "BB1 3HN  410.0  53.751710  -2.453370  169.0   87.0     82.0   \n",
       "BB1 3HW  416.0  53.752421  -2.448419  123.0   54.0     69.0   \n",
       "BB1 3HY  417.0  53.751346  -2.445178   55.0   27.0     28.0   \n",
       "BB1 3JB  419.0  53.751613  -2.445801   83.0   44.0     39.0   \n",
       "\n",
       "         Occupied_Households                   geometry  \n",
       "BB1 3HL                 20.0  POINT (-2.45699 53.75002)  \n",
       "BB1 3HN                 62.0  POINT (-2.45337 53.75171)  \n",
       "BB1 3HW                 42.0  POINT (-2.44842 53.75242)  \n",
       "BB1 3HY                 27.0  POINT (-2.44518 53.75135)  \n",
       "BB1 3JB                 38.0  POINT (-2.44580 53.75161)  "
      ]
     },
     "execution_count": 62,
     "metadata": {},
     "output_type": "execute_result"
    }
   ],
   "source": [
    "gdf.head()"
   ]
  },
  {
   "cell_type": "code",
   "execution_count": 20,
   "metadata": {},
   "outputs": [],
   "source": [
    "world = gpd.read_file(gpd.datasets.get_path('naturalearth_lowres'))"
   ]
  },
  {
   "cell_type": "code",
   "execution_count": 71,
   "metadata": {},
   "outputs": [
    {
     "data": {
      "image/png": "[encoded data removed]",
      "text/plain": [
       "<Figure size 432x288 with 1 Axes>"
      ]
     },
     "metadata": {
      "needs_background": "light"
     },
     "output_type": "display_data"
    }
   ],
   "source": [
    "ax = world[world.name == 'United Kingdom'].plot(\n",
    "    color='white', edgecolor='black')\n",
    "gdf[-20000:].plot(ax=ax, c=gdf.Total[-20000:])\n",
    "ax.set_title('Selection of postcodes plotted colour coded by population')\n",
    "plt.show()"
   ]
  },
  {
   "cell_type": "code",
   "execution_count": null,
   "metadata": {},
   "outputs": [],
   "source": []
  }
 ],
 "metadata": {
  "kernelspec": {
   "display_name": "Python 3",
   "language": "python",
   "name": "python3"
  },
  "language_info": {
   "codemirror_mode": {
    "name": "ipython",
    "version": 3
   },
   "file_extension": ".py",
   "mimetype": "text/x-python",
   "name": "python",
   "nbconvert_exporter": "python",
   "pygments_lexer": "ipython3",
   "version": "3.8.0"
  }
 },
 "nbformat": 4,
 "nbformat_minor": 4
}
