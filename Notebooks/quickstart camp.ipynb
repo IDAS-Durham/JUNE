{
 "cells": [
  {
   "cell_type": "code",
   "execution_count": 1,
   "metadata": {},
   "outputs": [],
   "source": [
    "%load_ext autoreload\n",
    "%autoreload 2"
   ]
  },
  {
   "cell_type": "code",
   "execution_count": 2,
   "metadata": {},
   "outputs": [],
   "source": [
    "import warnings\n",
    "warnings.filterwarnings('ignore')"
   ]
  },
  {
   "cell_type": "code",
   "execution_count": 3,
   "metadata": {},
   "outputs": [],
   "source": [
    "import numpy as np\n",
    "import matplotlib.pyplot as plt \n",
    "import pandas as pd\n",
    "import time\n",
    "import matplotlib.pyplot as plt\n",
    "import seaborn as sns\n",
    "from datetime import datetime\n",
    "import sys\n",
    "sys.path.append(\"../camp_scripts\") # change accordingly\n",
    "sns.set_context('notebook')"
   ]
  },
  {
   "cell_type": "code",
   "execution_count": 4,
   "metadata": {},
   "outputs": [
    {
     "name": "stderr",
     "output_type": "stream",
     "text": [
      "No --data argument given - defaulting to:\n",
      "/Users/josephbullock/Documents/campmodelling/JUNE/data\n",
      "No --configs argument given - defaulting to:\n",
      "/Users/josephbullock/Documents/campmodelling/JUNE/configs\n",
      "WARNING:camps.paths:No --data argument given - defaulting to:\n",
      "/Users/josephbullock/Documents/campmodelling/JUNE/data\n",
      "WARNING:camps.paths:No --configs argument given - defaulting to:\n",
      "/Users/josephbullock/Documents/campmodelling/JUNE/configs\n",
      "WARNING:camps.paths:No --camp_data argument given - defaulting to:\n",
      "/Users/josephbullock/Documents/campmodelling/JUNE/camp_data\n",
      "WARNING:camps.paths:No --configs_camps argument given - defaulting to:\n",
      "/Users/josephbullock/Documents/campmodelling/JUNE/configs_camps\n"
     ]
    }
   ],
   "source": [
    "from june.demography.geography import Geography\n",
    "from june.demography.demography import load_age_and_sex_generators_for_bins, Demography, Population\n",
    "from june.paths import data_path\n",
    "from camps.paths import camp_data_path\n",
    "from june import World\n",
    "from june.simulator import Simulator\n",
    "from june.seed import Seed\n",
    "from june.infection.infection import InfectionSelector\n",
    "from june.interaction import ContactAveraging\n",
    "from june.groups import Hospital, Hospitals\n",
    "from june.distributors import HospitalDistributor\n",
    "from june.world import generate_world_from_hdf5\n",
    "from june.groups import Cemeteries\n",
    "from june.policy import Policy, Policies\n",
    "from june.logger.read_logger import ReadLogger\n",
    "from june.groups.leisure import leisure\n",
    "from camp_creation import generate_empty_world, populate_world, distribute_people_to_households # this is loaded from the ../camp_scripts folder"
   ]
  },
  {
   "cell_type": "code",
   "execution_count": 5,
   "metadata": {},
   "outputs": [],
   "source": [
    "from camps.groups import PumpLatrines, PumpLatrineDistributor\n",
    "from camps.groups import DistributionCenters, DistributionCenterDistributor\n",
    "from camps.groups import Communals, CommunalDistributor\n",
    "from camps.groups import FemaleCommunals, FemaleCommunalDistributor"
   ]
  },
  {
   "cell_type": "markdown",
   "metadata": {},
   "source": [
    "## Initialize the world"
   ]
  },
  {
   "cell_type": "code",
   "execution_count": 6,
   "metadata": {},
   "outputs": [
    {
     "name": "stdout",
     "output_type": "stream",
     "text": [
      "2020-06-16 11:06:01,858 - june.demography.geography - INFO - There are 65 areas and 4 super_areas in the world.\n"
     ]
    }
   ],
   "source": [
    "# create empty world's geography\n",
    "world = generate_empty_world(filter_key = {\"region\" : [\"CXB-219\"]})"
   ]
  },
  {
   "cell_type": "code",
   "execution_count": 7,
   "metadata": {},
   "outputs": [],
   "source": [
    "# populate empty world\n",
    "populate_world(world)"
   ]
  },
  {
   "cell_type": "code",
   "execution_count": 8,
   "metadata": {},
   "outputs": [],
   "source": [
    "# distribute people to households\n",
    "distribute_people_to_households(world)"
   ]
  },
  {
   "cell_type": "code",
   "execution_count": 9,
   "metadata": {},
   "outputs": [
    {
     "name": "stdout",
     "output_type": "stream",
     "text": [
      "2020-06-16 11:06:05,953 - june.groups.hospital - INFO - There are 8 hospitals in the world.\n"
     ]
    }
   ],
   "source": [
    "hospitals= Hospitals.from_file(\n",
    "    filename=camp_data_path / 'input/hospitals/hospitals.csv'\n",
    ")\n",
    "world.hospitals = hospitals\n",
    "hospital_distributor = HospitalDistributor(hospitals, \n",
    "                                           medic_min_age=20,\n",
    "                                           patients_per_medic=10)\n",
    "hospital_distributor.distribute_medics_from_world(world.people)\n"
   ]
  },
  {
   "cell_type": "code",
   "execution_count": 10,
   "metadata": {},
   "outputs": [],
   "source": [
    "world.pump_latrines = PumpLatrines.for_areas(world.areas)\n",
    "world.distribution_centers = DistributionCenters.for_areas(world.areas)\n",
    "world.communals = Communals.for_areas(world.areas)\n",
    "world.female_communals = FemaleCommunals.for_areas(world.areas)"
   ]
  },
  {
   "cell_type": "code",
   "execution_count": 11,
   "metadata": {},
   "outputs": [],
   "source": [
    "world.box_mode = False\n",
    "world.cemeteries = Cemeteries()"
   ]
  },
  {
   "cell_type": "markdown",
   "metadata": {},
   "source": [
    "## Geography exploration"
   ]
  },
  {
   "cell_type": "markdown",
   "metadata": {},
   "source": [
    "### UNHCR camp blocks inside the World"
   ]
  },
  {
   "cell_type": "code",
   "execution_count": 12,
   "metadata": {},
   "outputs": [],
   "source": [
    "super_areas = []\n",
    "for super_area in world.super_areas:\n",
    "    super_areas.append(super_area.name)"
   ]
  },
  {
   "cell_type": "code",
   "execution_count": 13,
   "metadata": {},
   "outputs": [
    {
     "data": {
      "text/plain": [
       "['CXB-219-A', 'CXB-219-B', 'CXB-219-C', 'CXB-219-D']"
      ]
     },
     "execution_count": 13,
     "metadata": {},
     "output_type": "execute_result"
    }
   ],
   "source": [
    "super_areas[:5]"
   ]
  },
  {
   "cell_type": "markdown",
   "metadata": {},
   "source": [
    "### Mahjee blocks inside World"
   ]
  },
  {
   "cell_type": "code",
   "execution_count": 14,
   "metadata": {},
   "outputs": [],
   "source": [
    "areas = []\n",
    "for area in world.areas:\n",
    "    areas.append(area.name)"
   ]
  },
  {
   "cell_type": "code",
   "execution_count": 15,
   "metadata": {},
   "outputs": [
    {
     "data": {
      "text/plain": [
       "['CXB-219-062', 'CXB-219-063', 'CXB-219-061', 'CXB-219-060', 'CXB-219-065']"
      ]
     },
     "execution_count": 15,
     "metadata": {},
     "output_type": "execute_result"
    }
   ],
   "source": [
    "areas[:5]"
   ]
  },
  {
   "cell_type": "markdown",
   "metadata": {},
   "source": [
    "## Demography exploration"
   ]
  },
  {
   "cell_type": "markdown",
   "metadata": {},
   "source": [
    "### UNHCR block residents"
   ]
  },
  {
   "cell_type": "code",
   "execution_count": 16,
   "metadata": {},
   "outputs": [],
   "source": [
    "sample_ages = []\n",
    "sample_sexes = []\n",
    "for person in world.super_areas.members[0].people:\n",
    "    sample_ages.append(person.age)\n",
    "    sample_sexes.append(person.sex)"
   ]
  },
  {
   "cell_type": "code",
   "execution_count": 17,
   "metadata": {},
   "outputs": [
    {
     "data": {
      "text/plain": [
       "(['f', 'm', 'm', 'f', 'f'], [18, 34, 42, 22, 60])"
      ]
     },
     "execution_count": 17,
     "metadata": {},
     "output_type": "execute_result"
    }
   ],
   "source": [
    "sample_sexes[:5], sample_ages[:5]"
   ]
  },
  {
   "cell_type": "code",
   "execution_count": 18,
   "metadata": {},
   "outputs": [
    {
     "data": {
      "image/png": "[encoded data removed]",
      "text/plain": [
       "<Figure size 432x288 with 1 Axes>"
      ]
     },
     "metadata": {
      "needs_background": "light"
     },
     "output_type": "display_data"
    }
   ],
   "source": [
    "ages, counts = np.unique(sample_ages, return_counts=True)\n",
    "plt.bar(ages, counts)\n",
    "plt.title('super area: {} age distribution'.format(world.super_areas.members[0].name))\n",
    "plt.show()"
   ]
  },
  {
   "cell_type": "code",
   "execution_count": 19,
   "metadata": {},
   "outputs": [
    {
     "name": "stdout",
     "output_type": "stream",
     "text": [
      "The % children between ages 0-16 is 49.0%\n"
     ]
    }
   ],
   "source": [
    "print ('The % children between ages 0-16 is {}%'.format(round(np.sum(counts[:16])/(np.sum(counts[:16])+np.sum(counts[16:]))*100)))"
   ]
  },
  {
   "cell_type": "markdown",
   "metadata": {},
   "source": [
    "## Households"
   ]
  },
  {
   "cell_type": "markdown",
   "metadata": {},
   "source": [
    "### Household size distribution"
   ]
  },
  {
   "cell_type": "code",
   "execution_count": 20,
   "metadata": {},
   "outputs": [
    {
     "data": {
      "image/png": "[encoded data removed]",
      "text/plain": [
       "<Figure size 432x288 with 1 Axes>"
      ]
     },
     "metadata": {
      "needs_background": "light"
     },
     "output_type": "display_data"
    }
   ],
   "source": [
    "household_sizes = [household.size for household in world.households]\n",
    "plt.hist(household_sizes, density=True, bins=np.arange(0,12))\n",
    "plt.xlabel(\"Household size\")\n",
    "plt.ylabel(\"Frequency\")\n",
    "plt.axvline(np.mean(household_sizes), color=\"cyan\")\n",
    "plt.text(8, 0.150, f\"Avg. size: {(np.mean(household_sizes)):.2f}\")\n",
    "plt.show()"
   ]
  },
  {
   "cell_type": "markdown",
   "metadata": {},
   "source": [
    "## Activity exploration"
   ]
  },
  {
   "cell_type": "markdown",
   "metadata": {},
   "source": [
    "### Pumps and latrines "
   ]
  },
  {
   "cell_type": "code",
   "execution_count": 21,
   "metadata": {},
   "outputs": [],
   "source": [
    "pumps_and_latrines = []\n",
    "for pump_latrine in world.areas.members[0].pump_latrines:\n",
    "    pumps_and_latrines.append(pump_latrine)"
   ]
  },
  {
   "cell_type": "code",
   "execution_count": 22,
   "metadata": {},
   "outputs": [
    {
     "name": "stdout",
     "output_type": "stream",
     "text": [
      "There are 3 pumps and latrines in area CXB-219-062\n"
     ]
    }
   ],
   "source": [
    "print ('There are {} pumps and latrines in area {}'.format(len(pumps_and_latrines), world.areas.members[0].name))"
   ]
  },
  {
   "cell_type": "markdown",
   "metadata": {},
   "source": [
    "### Distribution centers"
   ]
  },
  {
   "cell_type": "code",
   "execution_count": 23,
   "metadata": {},
   "outputs": [],
   "source": [
    "distribution_centers = []\n",
    "for center in world.distribution_centers:\n",
    "    distribution_centers.append(center)"
   ]
  },
  {
   "cell_type": "code",
   "execution_count": 24,
   "metadata": {},
   "outputs": [
    {
     "data": {
      "text/plain": [
       "array([21.1962 , 92.14936])"
      ]
     },
     "execution_count": 24,
     "metadata": {},
     "output_type": "execute_result"
    }
   ],
   "source": [
    "distribution_centers[0].coordinates"
   ]
  },
  {
   "cell_type": "markdown",
   "metadata": {},
   "source": [
    "### Communal spaces"
   ]
  },
  {
   "cell_type": "code",
   "execution_count": 25,
   "metadata": {},
   "outputs": [],
   "source": [
    "communal_spaces = []\n",
    "for space in world.communals:\n",
    "    communal_spaces.append(space)"
   ]
  },
  {
   "cell_type": "code",
   "execution_count": 26,
   "metadata": {},
   "outputs": [
    {
     "data": {
      "text/plain": [
       "array([21.19621, 92.14924])"
      ]
     },
     "execution_count": 26,
     "metadata": {},
     "output_type": "execute_result"
    }
   ],
   "source": [
    "communal_spaces[0].coordinates"
   ]
  },
  {
   "cell_type": "markdown",
   "metadata": {},
   "source": [
    "### Female friendly communal spaces"
   ]
  },
  {
   "cell_type": "code",
   "execution_count": 27,
   "metadata": {},
   "outputs": [],
   "source": [
    "female_communal_spaces = []\n",
    "for space in world.female_communals:\n",
    "    female_communal_spaces.append(space)"
   ]
  },
  {
   "cell_type": "code",
   "execution_count": 28,
   "metadata": {},
   "outputs": [
    {
     "data": {
      "text/plain": [
       "array([21.19588, 92.152  ])"
      ]
     },
     "execution_count": 28,
     "metadata": {},
     "output_type": "execute_result"
    }
   ],
   "source": [
    "female_communal_spaces[0].coordinates"
   ]
  },
  {
   "cell_type": "markdown",
   "metadata": {},
   "source": [
    "# Adding the infection"
   ]
  },
  {
   "cell_type": "code",
   "execution_count": 29,
   "metadata": {},
   "outputs": [],
   "source": [
    "selector = InfectionSelector.from_file()"
   ]
  },
  {
   "cell_type": "markdown",
   "metadata": {},
   "source": [
    "# Adding the interaction"
   ]
  },
  {
   "cell_type": "code",
   "execution_count": 30,
   "metadata": {},
   "outputs": [],
   "source": [
    "beta={'female_communal':100,\n",
    "        'communal':100,\n",
    "        'distribution_center':100,\n",
    "        'pump_latrine':100,\n",
    "      'household':1,\n",
    "     'hospital':1}\n",
    "contact_matrices =  {\n",
    "            'hospital':\n",
    "            {'contacts':\n",
    "             [[5.00, 10., 10.], [1., 0., 0.], [1., 0., 0.]],\n",
    "             'proportion_physical': \n",
    "             [[0.05, 1., 1.], [1.0, 0., 0.], [1., 0., 0.]]\n",
    "            },\n",
    "            'household':\n",
    "            {\n",
    "                'contacts':[[1.20, 1.69, 1.69, 1.69],\n",
    "                            [1.27, 1.34, 1.47, 1.47],\n",
    "                            [1.27, 1.30, 1.34, 1.34],\n",
    "                            [1.27, 1.30, 1.34, 2.00]],\n",
    "                'proportion_physical':\n",
    "                [[0.79, 0.7, 0.7, 0.7], [0.7, 0.34, 0.4, 0.62],\n",
    "                 [0.7, 0.4, 0.62, 0.62], [0.7, 0.4, 0.62, 0.45]]\n",
    "            }\n",
    "            \n",
    "        }"
   ]
  },
  {
   "cell_type": "code",
   "execution_count": 31,
   "metadata": {},
   "outputs": [],
   "source": [
    "interaction = ContactAveraging(alpha_physical = 1.,\n",
    "                               beta=beta,\n",
    "                               contact_matrices= contact_matrices,                            \n",
    "                               selector=selector)\n"
   ]
  },
  {
   "cell_type": "markdown",
   "metadata": {},
   "source": [
    "# Set policies"
   ]
  },
  {
   "cell_type": "code",
   "execution_count": 32,
   "metadata": {},
   "outputs": [],
   "source": [
    "social_distance = Policy(policy=\"social_distance\",\n",
    "                         start_time=datetime(2021, 3, 25), \n",
    "                         end_time=datetime(2021, 4, 1))\n",
    "policies = Policies.from_file([social_distance])"
   ]
  },
  {
   "cell_type": "markdown",
   "metadata": {},
   "source": [
    "# Seed the disease"
   ]
  },
  {
   "cell_type": "code",
   "execution_count": 33,
   "metadata": {},
   "outputs": [],
   "source": [
    "seed = Seed(world.super_areas,\n",
    "           selector)\n",
    "\n",
    "seed.unleash_virus(n_cases=5)"
   ]
  },
  {
   "cell_type": "markdown",
   "metadata": {},
   "source": [
    "# Run the simulation"
   ]
  },
  {
   "cell_type": "code",
   "execution_count": 34,
   "metadata": {},
   "outputs": [],
   "source": [
    "activity_to_groups = {\n",
    "    'leisure': ['female_communals', 'communals',\n",
    "               'distribution_centers', 'pump_latrines'],\n",
    "    'residence': ['households'],\n",
    "    'hospitals': ['hospitals']\n",
    "}\n",
    "\n",
    "time = {\n",
    "    'total_days': 70,\n",
    "    'step_duration': \n",
    "    {\n",
    "        'weekday': {0:12, 1:12},\n",
    "        'weekend': {0:12, 1:12},\n",
    "    },\n",
    "    'step_activities':\n",
    "    {\n",
    "        'weekday': {0: ['hospital', 'leisure', 'residence',],\n",
    "                    1:  ['hospital', 'leisure', 'residence',]},\n",
    "        'weekend': {0: ['hospital', 'leisure', 'residence',],\n",
    "                    1:  ['hospital', 'leisure', 'residence',]}\n",
    "    }\n",
    "\n",
    "}"
   ]
  },
  {
   "cell_type": "code",
   "execution_count": 35,
   "metadata": {},
   "outputs": [],
   "source": [
    "from camps.groups import DistributionCenters, DistributionCenterDistributor\n",
    "from camps.groups import Communals, CommunalDistributor\n",
    "from camps.groups import FemaleCommunals, FemaleCommunalDistributor"
   ]
  },
  {
   "cell_type": "code",
   "execution_count": 36,
   "metadata": {},
   "outputs": [],
   "source": [
    "CONFIG_PATH = \"../configs/config_example.yaml\"\n",
    "\n",
    "leisure_instance = leisure.generate_leisure_for_config(\n",
    "            world=world\n",
    ")\n",
    "leisure_instance.leisure_distributors = [\n",
    "    PumpLatrineDistributor.from_config(pump_latrines=world.pump_latrines),\n",
    "    DistributionCenterDistributor.from_config(distribution_centers=world.distribution_centers),\n",
    "    CommunalDistributor.from_config(communals=world.communals),\n",
    "    FemaleCommunalDistributor.from_config(female_communals=world.female_communals)\n",
    "]\n",
    "\n",
    "simulator = Simulator(\n",
    "     world, interaction, selector, \n",
    "    activity_to_groups = activity_to_groups,\n",
    "    time_config= time,\n",
    "    leisure = leisure_instance,\n",
    "    policies=policies,\n",
    ")"
   ]
  },
  {
   "cell_type": "code",
   "execution_count": 37,
   "metadata": {},
   "outputs": [],
   "source": [
    "simulator.timer.reset()"
   ]
  },
  {
   "cell_type": "code",
   "execution_count": 38,
   "metadata": {
    "scrolled": true
   },
   "outputs": [
    {
     "name": "stdout",
     "output_type": "stream",
     "text": [
      "2020-06-16 11:07:16,048 - june.simulator - INFO - Starting group_dynamics for 70 days at day 0\n",
      "2020-06-16 11:07:16,049 - june.simulator - INFO - starting the loop ..., at 0 days, to run for 70 days\n",
      "2020-06-16 11:07:17,508 - june.simulator - INFO - Date = 2020-03-07 12:00:00, number of deaths =  0, number of infected = 5\n",
      "2020-06-16 11:07:18,267 - june.simulator - INFO - Date = 2020-03-08 00:00:00, number of deaths =  0, number of infected = 5\n",
      "2020-06-16 11:07:18,765 - june.simulator - INFO - Date = 2020-03-08 12:00:00, number of deaths =  0, number of infected = 5\n",
      "2020-06-16 11:07:19,152 - june.simulator - INFO - Date = 2020-03-09 00:00:00, number of deaths =  0, number of infected = 5\n",
      "2020-06-16 11:07:19,457 - june.simulator - INFO - Date = 2020-03-09 12:00:00, number of deaths =  0, number of infected = 5\n",
      "2020-06-16 11:07:19,713 - june.simulator - INFO - Date = 2020-03-10 00:00:00, number of deaths =  0, number of infected = 5\n",
      "2020-06-16 11:07:19,947 - june.simulator - INFO - Date = 2020-03-10 12:00:00, number of deaths =  0, number of infected = 5\n",
      "2020-06-16 11:07:20,152 - june.simulator - INFO - Date = 2020-03-11 00:00:00, number of deaths =  0, number of infected = 5\n",
      "2020-06-16 11:07:20,356 - june.simulator - INFO - Date = 2020-03-11 12:00:00, number of deaths =  0, number of infected = 48\n",
      "2020-06-16 11:07:20,540 - june.simulator - INFO - Date = 2020-03-12 00:00:00, number of deaths =  0, number of infected = 101\n",
      "2020-06-16 11:07:20,719 - june.simulator - INFO - Date = 2020-03-12 12:00:00, number of deaths =  0, number of infected = 147\n",
      "2020-06-16 11:07:20,885 - june.simulator - INFO - Date = 2020-03-13 00:00:00, number of deaths =  0, number of infected = 186\n",
      "2020-06-16 11:07:21,054 - june.simulator - INFO - Date = 2020-03-13 12:00:00, number of deaths =  0, number of infected = 213\n",
      "2020-06-16 11:07:21,217 - june.simulator - INFO - Date = 2020-03-14 00:00:00, number of deaths =  0, number of infected = 252\n",
      "2020-06-16 11:07:21,379 - june.simulator - INFO - Date = 2020-03-14 12:00:00, number of deaths =  0, number of infected = 334\n",
      "2020-06-16 11:07:21,537 - june.simulator - INFO - Date = 2020-03-15 00:00:00, number of deaths =  0, number of infected = 376\n",
      "2020-06-16 11:07:21,678 - june.simulator - INFO - Date = 2020-03-15 12:00:00, number of deaths =  0, number of infected = 389\n",
      "2020-06-16 11:07:21,834 - june.simulator - INFO - Date = 2020-03-16 00:00:00, number of deaths =  0, number of infected = 441\n",
      "2020-06-16 11:07:21,979 - june.simulator - INFO - Date = 2020-03-16 12:00:00, number of deaths =  0, number of infected = 477\n",
      "2020-06-16 11:07:22,127 - june.simulator - INFO - Date = 2020-03-17 00:00:00, number of deaths =  0, number of infected = 486\n",
      "2020-06-16 11:07:22,281 - june.simulator - INFO - Date = 2020-03-17 12:00:00, number of deaths =  0, number of infected = 499\n",
      "2020-06-16 11:07:22,434 - june.simulator - INFO - Date = 2020-03-18 00:00:00, number of deaths =  0, number of infected = 533\n",
      "2020-06-16 11:07:22,591 - june.simulator - INFO - Date = 2020-03-18 12:00:00, number of deaths =  0, number of infected = 570\n",
      "2020-06-16 11:07:22,748 - june.simulator - INFO - Date = 2020-03-19 00:00:00, number of deaths =  0, number of infected = 654\n",
      "2020-06-16 11:07:22,900 - june.simulator - INFO - Date = 2020-03-19 12:00:00, number of deaths =  0, number of infected = 724\n",
      "2020-06-16 11:07:23,075 - june.simulator - INFO - Date = 2020-03-20 00:00:00, number of deaths =  0, number of infected = 829\n",
      "2020-06-16 11:07:23,262 - june.simulator - INFO - Date = 2020-03-20 12:00:00, number of deaths =  0, number of infected = 955\n",
      "2020-06-16 11:07:23,447 - june.simulator - INFO - Date = 2020-03-21 00:00:00, number of deaths =  0, number of infected = 1124\n",
      "2020-06-16 11:07:23,635 - june.simulator - INFO - Date = 2020-03-21 12:00:00, number of deaths =  0, number of infected = 1397\n",
      "2020-06-16 11:07:23,833 - june.simulator - INFO - Date = 2020-03-22 00:00:00, number of deaths =  0, number of infected = 1688\n",
      "2020-06-16 11:07:24,006 - june.simulator - INFO - Date = 2020-03-22 12:00:00, number of deaths =  0, number of infected = 1865\n",
      "2020-06-16 11:07:24,206 - june.simulator - INFO - Date = 2020-03-23 00:00:00, number of deaths =  0, number of infected = 2237\n",
      "2020-06-16 11:07:24,413 - june.simulator - INFO - Date = 2020-03-23 12:00:00, number of deaths =  0, number of infected = 2577\n",
      "2020-06-16 11:07:24,605 - june.simulator - INFO - Date = 2020-03-24 00:00:00, number of deaths =  0, number of infected = 2864\n",
      "2020-06-16 11:07:24,804 - june.simulator - INFO - Date = 2020-03-24 12:00:00, number of deaths =  0, number of infected = 3148\n",
      "2020-06-16 11:07:25,008 - june.simulator - INFO - Date = 2020-03-25 00:00:00, number of deaths =  0, number of infected = 3507\n",
      "2020-06-16 11:07:25,198 - june.simulator - INFO - Date = 2020-03-25 12:00:00, number of deaths =  0, number of infected = 3722\n",
      "2020-06-16 11:07:25,395 - june.simulator - INFO - Date = 2020-03-26 00:00:00, number of deaths =  0, number of infected = 3860\n",
      "2020-06-16 11:07:25,578 - june.simulator - INFO - Date = 2020-03-26 12:00:00, number of deaths =  0, number of infected = 4008\n",
      "2020-06-16 11:07:25,766 - june.simulator - INFO - Date = 2020-03-27 00:00:00, number of deaths =  0, number of infected = 4221\n",
      "2020-06-16 11:07:25,975 - june.simulator - INFO - Date = 2020-03-27 12:00:00, number of deaths =  0, number of infected = 4457\n",
      "2020-06-16 11:07:26,289 - june.simulator - INFO - Date = 2020-03-28 00:00:00, number of deaths =  0, number of infected = 4783\n",
      "2020-06-16 11:07:26,497 - june.simulator - INFO - Date = 2020-03-28 12:00:00, number of deaths =  0, number of infected = 5015\n",
      "2020-06-16 11:07:26,711 - june.simulator - INFO - Date = 2020-03-29 00:00:00, number of deaths =  0, number of infected = 5227\n",
      "2020-06-16 11:07:26,945 - june.simulator - INFO - Date = 2020-03-29 12:00:00, number of deaths =  0, number of infected = 5513\n",
      "2020-06-16 11:07:27,205 - june.simulator - INFO - Date = 2020-03-30 00:00:00, number of deaths =  1, number of infected = 5966\n",
      "2020-06-16 11:07:27,478 - june.simulator - INFO - Date = 2020-03-30 12:00:00, number of deaths =  1, number of infected = 6583\n",
      "2020-06-16 11:07:27,772 - june.simulator - INFO - Date = 2020-03-31 00:00:00, number of deaths =  1, number of infected = 7250\n",
      "2020-06-16 11:07:28,093 - june.simulator - INFO - Date = 2020-03-31 12:00:00, number of deaths =  1, number of infected = 8051\n",
      "2020-06-16 11:07:28,426 - june.simulator - INFO - Date = 2020-04-01 00:00:00, number of deaths =  1, number of infected = 8995\n",
      "2020-06-16 11:07:28,814 - june.simulator - INFO - Date = 2020-04-01 12:00:00, number of deaths =  1, number of infected = 9912\n",
      "2020-06-16 11:07:29,205 - june.simulator - INFO - Date = 2020-04-02 00:00:00, number of deaths =  1, number of infected = 10853\n",
      "2020-06-16 11:07:29,616 - june.simulator - INFO - Date = 2020-04-02 12:00:00, number of deaths =  1, number of infected = 11786\n",
      "2020-06-16 11:07:30,003 - june.simulator - INFO - Date = 2020-04-03 00:00:00, number of deaths =  1, number of infected = 12517\n",
      "2020-06-16 11:07:30,448 - june.simulator - INFO - Date = 2020-04-03 12:00:00, number of deaths =  1, number of infected = 13166\n",
      "2020-06-16 11:07:30,822 - june.simulator - INFO - Date = 2020-04-04 00:00:00, number of deaths =  2, number of infected = 13850\n",
      "2020-06-16 11:07:31,151 - june.simulator - INFO - Date = 2020-04-04 12:00:00, number of deaths =  2, number of infected = 14266\n",
      "2020-06-16 11:07:31,488 - june.simulator - INFO - Date = 2020-04-05 00:00:00, number of deaths =  2, number of infected = 14769\n",
      "2020-06-16 11:07:31,824 - june.simulator - INFO - Date = 2020-04-05 12:00:00, number of deaths =  3, number of infected = 15197\n",
      "2020-06-16 11:07:32,145 - june.simulator - INFO - Date = 2020-04-06 00:00:00, number of deaths =  3, number of infected = 15451\n",
      "2020-06-16 11:07:32,468 - june.simulator - INFO - Date = 2020-04-06 12:00:00, number of deaths =  3, number of infected = 15736\n",
      "2020-06-16 11:07:32,796 - june.simulator - INFO - Date = 2020-04-07 00:00:00, number of deaths =  3, number of infected = 16100\n",
      "2020-06-16 11:07:33,114 - june.simulator - INFO - Date = 2020-04-07 12:00:00, number of deaths =  3, number of infected = 16320\n",
      "2020-06-16 11:07:33,453 - june.simulator - INFO - Date = 2020-04-08 00:00:00, number of deaths =  3, number of infected = 16646\n"
     ]
    },
    {
     "name": "stdout",
     "output_type": "stream",
     "text": [
      "2020-06-16 11:07:33,787 - june.simulator - INFO - Date = 2020-04-08 12:00:00, number of deaths =  3, number of infected = 16947\n",
      "2020-06-16 11:07:34,135 - june.simulator - INFO - Date = 2020-04-09 00:00:00, number of deaths =  3, number of infected = 17180\n",
      "2020-06-16 11:07:34,474 - june.simulator - INFO - Date = 2020-04-09 12:00:00, number of deaths =  3, number of infected = 17491\n",
      "2020-06-16 11:07:34,827 - june.simulator - INFO - Date = 2020-04-10 00:00:00, number of deaths =  3, number of infected = 17757\n",
      "2020-06-16 11:07:35,174 - june.simulator - INFO - Date = 2020-04-10 12:00:00, number of deaths =  4, number of infected = 18049\n",
      "2020-06-16 11:07:35,526 - june.simulator - INFO - Date = 2020-04-11 00:00:00, number of deaths =  5, number of infected = 18303\n",
      "2020-06-16 11:07:35,894 - june.simulator - INFO - Date = 2020-04-11 12:00:00, number of deaths =  5, number of infected = 18547\n",
      "2020-06-16 11:07:36,249 - june.simulator - INFO - Date = 2020-04-12 00:00:00, number of deaths =  7, number of infected = 18760\n",
      "2020-06-16 11:07:36,602 - june.simulator - INFO - Date = 2020-04-12 12:00:00, number of deaths =  7, number of infected = 18960\n",
      "2020-06-16 11:07:36,945 - june.simulator - INFO - Date = 2020-04-13 00:00:00, number of deaths =  7, number of infected = 19059\n",
      "2020-06-16 11:07:37,272 - june.simulator - INFO - Date = 2020-04-13 12:00:00, number of deaths =  7, number of infected = 19051\n",
      "2020-06-16 11:07:37,598 - june.simulator - INFO - Date = 2020-04-14 00:00:00, number of deaths =  9, number of infected = 19033\n",
      "2020-06-16 11:07:37,927 - june.simulator - INFO - Date = 2020-04-14 12:00:00, number of deaths =  12, number of infected = 18976\n",
      "2020-06-16 11:07:38,260 - june.simulator - INFO - Date = 2020-04-15 00:00:00, number of deaths =  12, number of infected = 18874\n",
      "2020-06-16 11:07:38,584 - june.simulator - INFO - Date = 2020-04-15 12:00:00, number of deaths =  12, number of infected = 18735\n",
      "2020-06-16 11:07:38,894 - june.simulator - INFO - Date = 2020-04-16 00:00:00, number of deaths =  12, number of infected = 18504\n",
      "2020-06-16 11:07:39,213 - june.simulator - INFO - Date = 2020-04-16 12:00:00, number of deaths =  12, number of infected = 18315\n",
      "2020-06-16 11:07:39,520 - june.simulator - INFO - Date = 2020-04-17 00:00:00, number of deaths =  12, number of infected = 18050\n",
      "2020-06-16 11:07:39,848 - june.simulator - INFO - Date = 2020-04-17 12:00:00, number of deaths =  12, number of infected = 17836\n",
      "2020-06-16 11:07:40,148 - june.simulator - INFO - Date = 2020-04-18 00:00:00, number of deaths =  13, number of infected = 17510\n",
      "2020-06-16 11:07:40,452 - june.simulator - INFO - Date = 2020-04-18 12:00:00, number of deaths =  13, number of infected = 17210\n",
      "2020-06-16 11:07:40,750 - june.simulator - INFO - Date = 2020-04-19 00:00:00, number of deaths =  17, number of infected = 16847\n",
      "2020-06-16 11:07:41,047 - june.simulator - INFO - Date = 2020-04-19 12:00:00, number of deaths =  18, number of infected = 16452\n",
      "2020-06-16 11:07:41,343 - june.simulator - INFO - Date = 2020-04-20 00:00:00, number of deaths =  19, number of infected = 16071\n",
      "2020-06-16 11:07:41,632 - june.simulator - INFO - Date = 2020-04-20 12:00:00, number of deaths =  19, number of infected = 15696\n",
      "2020-06-16 11:07:41,922 - june.simulator - INFO - Date = 2020-04-21 00:00:00, number of deaths =  21, number of infected = 15290\n",
      "2020-06-16 11:07:42,263 - june.simulator - INFO - Date = 2020-04-21 12:00:00, number of deaths =  22, number of infected = 14982\n",
      "2020-06-16 11:07:42,549 - june.simulator - INFO - Date = 2020-04-22 00:00:00, number of deaths =  23, number of infected = 14607\n",
      "2020-06-16 11:07:42,848 - june.simulator - INFO - Date = 2020-04-22 12:00:00, number of deaths =  25, number of infected = 14268\n",
      "2020-06-16 11:07:43,118 - june.simulator - INFO - Date = 2020-04-23 00:00:00, number of deaths =  26, number of infected = 13849\n",
      "2020-06-16 11:07:43,393 - june.simulator - INFO - Date = 2020-04-23 12:00:00, number of deaths =  27, number of infected = 13406\n",
      "2020-06-16 11:07:43,662 - june.simulator - INFO - Date = 2020-04-24 00:00:00, number of deaths =  27, number of infected = 12912\n",
      "2020-06-16 11:07:43,927 - june.simulator - INFO - Date = 2020-04-24 12:00:00, number of deaths =  28, number of infected = 12469\n",
      "2020-06-16 11:07:44,196 - june.simulator - INFO - Date = 2020-04-25 00:00:00, number of deaths =  31, number of infected = 12004\n",
      "2020-06-16 11:07:44,446 - june.simulator - INFO - Date = 2020-04-25 12:00:00, number of deaths =  31, number of infected = 11554\n",
      "2020-06-16 11:07:44,710 - june.simulator - INFO - Date = 2020-04-26 00:00:00, number of deaths =  31, number of infected = 11081\n",
      "2020-06-16 11:07:44,963 - june.simulator - INFO - Date = 2020-04-26 12:00:00, number of deaths =  31, number of infected = 10591\n",
      "2020-06-16 11:07:45,201 - june.simulator - INFO - Date = 2020-04-27 00:00:00, number of deaths =  32, number of infected = 10136\n",
      "2020-06-16 11:07:45,434 - june.simulator - INFO - Date = 2020-04-27 12:00:00, number of deaths =  33, number of infected = 9668\n",
      "2020-06-16 11:07:45,664 - june.simulator - INFO - Date = 2020-04-28 00:00:00, number of deaths =  34, number of infected = 9228\n",
      "2020-06-16 11:07:45,890 - june.simulator - INFO - Date = 2020-04-28 12:00:00, number of deaths =  36, number of infected = 8751\n",
      "2020-06-16 11:07:46,110 - june.simulator - INFO - Date = 2020-04-29 00:00:00, number of deaths =  36, number of infected = 8297\n",
      "2020-06-16 11:07:46,324 - june.simulator - INFO - Date = 2020-04-29 12:00:00, number of deaths =  36, number of infected = 7808\n",
      "2020-06-16 11:07:46,532 - june.simulator - INFO - Date = 2020-04-30 00:00:00, number of deaths =  36, number of infected = 7397\n",
      "2020-06-16 11:07:46,735 - june.simulator - INFO - Date = 2020-04-30 12:00:00, number of deaths =  36, number of infected = 6978\n",
      "2020-06-16 11:07:46,937 - june.simulator - INFO - Date = 2020-05-01 00:00:00, number of deaths =  37, number of infected = 6559\n",
      "2020-06-16 11:07:47,136 - june.simulator - INFO - Date = 2020-05-01 12:00:00, number of deaths =  37, number of infected = 6138\n",
      "2020-06-16 11:07:47,332 - june.simulator - INFO - Date = 2020-05-02 00:00:00, number of deaths =  37, number of infected = 5769\n",
      "2020-06-16 11:07:47,532 - june.simulator - INFO - Date = 2020-05-02 12:00:00, number of deaths =  37, number of infected = 5416\n",
      "2020-06-16 11:07:47,733 - june.simulator - INFO - Date = 2020-05-03 00:00:00, number of deaths =  37, number of infected = 5081\n",
      "2020-06-16 11:07:47,928 - june.simulator - INFO - Date = 2020-05-03 12:00:00, number of deaths =  37, number of infected = 4748\n",
      "2020-06-16 11:07:48,112 - june.simulator - INFO - Date = 2020-05-04 00:00:00, number of deaths =  37, number of infected = 4441\n",
      "2020-06-16 11:07:48,295 - june.simulator - INFO - Date = 2020-05-04 12:00:00, number of deaths =  37, number of infected = 4122\n",
      "2020-06-16 11:07:48,476 - june.simulator - INFO - Date = 2020-05-05 00:00:00, number of deaths =  37, number of infected = 3831\n",
      "2020-06-16 11:07:48,659 - june.simulator - INFO - Date = 2020-05-05 12:00:00, number of deaths =  37, number of infected = 3567\n",
      "2020-06-16 11:07:48,837 - june.simulator - INFO - Date = 2020-05-06 00:00:00, number of deaths =  37, number of infected = 3317\n",
      "2020-06-16 11:07:49,005 - june.simulator - INFO - Date = 2020-05-06 12:00:00, number of deaths =  37, number of infected = 3092\n",
      "2020-06-16 11:07:49,172 - june.simulator - INFO - Date = 2020-05-07 00:00:00, number of deaths =  38, number of infected = 2878\n",
      "2020-06-16 11:07:49,335 - june.simulator - INFO - Date = 2020-05-07 12:00:00, number of deaths =  38, number of infected = 2654\n",
      "2020-06-16 11:07:49,497 - june.simulator - INFO - Date = 2020-05-08 00:00:00, number of deaths =  38, number of infected = 2445\n",
      "2020-06-16 11:07:49,661 - june.simulator - INFO - Date = 2020-05-08 12:00:00, number of deaths =  38, number of infected = 2238\n",
      "2020-06-16 11:07:49,816 - june.simulator - INFO - Date = 2020-05-09 00:00:00, number of deaths =  38, number of infected = 2060\n",
      "2020-06-16 11:07:49,967 - june.simulator - INFO - Date = 2020-05-09 12:00:00, number of deaths =  38, number of infected = 1884\n",
      "2020-06-16 11:07:50,117 - june.simulator - INFO - Date = 2020-05-10 00:00:00, number of deaths =  38, number of infected = 1746\n"
     ]
    },
    {
     "name": "stdout",
     "output_type": "stream",
     "text": [
      "2020-06-16 11:07:50,263 - june.simulator - INFO - Date = 2020-05-10 12:00:00, number of deaths =  38, number of infected = 1590\n",
      "2020-06-16 11:07:50,407 - june.simulator - INFO - Date = 2020-05-11 00:00:00, number of deaths =  38, number of infected = 1454\n",
      "2020-06-16 11:07:50,554 - june.simulator - INFO - Date = 2020-05-11 12:00:00, number of deaths =  38, number of infected = 1326\n",
      "2020-06-16 11:07:50,705 - june.simulator - INFO - Date = 2020-05-12 00:00:00, number of deaths =  38, number of infected = 1229\n",
      "2020-06-16 11:07:50,851 - june.simulator - INFO - Date = 2020-05-12 12:00:00, number of deaths =  39, number of infected = 1131\n",
      "2020-06-16 11:07:50,990 - june.simulator - INFO - Date = 2020-05-13 00:00:00, number of deaths =  39, number of infected = 1049\n",
      "2020-06-16 11:07:51,128 - june.simulator - INFO - Date = 2020-05-13 12:00:00, number of deaths =  39, number of infected = 964\n",
      "2020-06-16 11:07:51,267 - june.simulator - INFO - Date = 2020-05-14 00:00:00, number of deaths =  39, number of infected = 883\n",
      "2020-06-16 11:07:51,402 - june.simulator - INFO - Date = 2020-05-14 12:00:00, number of deaths =  39, number of infected = 804\n",
      "2020-06-16 11:07:51,539 - june.simulator - INFO - Date = 2020-05-15 00:00:00, number of deaths =  39, number of infected = 737\n",
      "2020-06-16 11:07:51,679 - june.simulator - INFO - Date = 2020-05-15 12:00:00, number of deaths =  39, number of infected = 673\n",
      "2020-06-16 11:07:51,811 - june.simulator - INFO - Date = 2020-05-16 00:00:00, number of deaths =  39, number of infected = 597\n",
      "CPU times: user 34.6 s, sys: 775 ms, total: 35.4 s\n",
      "Wall time: 35.8 s\n"
     ]
    }
   ],
   "source": [
    "%%time\n",
    "simulator.run()"
   ]
  },
  {
   "cell_type": "markdown",
   "metadata": {},
   "source": [
    "# Getting the results"
   ]
  },
  {
   "cell_type": "markdown",
   "metadata": {},
   "source": [
    "All results are stored in a json file specified in the ``save_path`` variable in the config file. We can also access it from ``world.logger`` directly."
   ]
  },
  {
   "cell_type": "code",
   "execution_count": 40,
   "metadata": {},
   "outputs": [],
   "source": [
    "import pandas as pd\n",
    "read = ReadLogger(load_real=False)"
   ]
  },
  {
   "cell_type": "code",
   "execution_count": 41,
   "metadata": {},
   "outputs": [],
   "source": [
    "loc_df = read.get_locations_infections()"
   ]
  },
  {
   "cell_type": "code",
   "execution_count": 42,
   "metadata": {},
   "outputs": [
    {
     "data": {
      "text/plain": [
       "Text(0.5, 0, 'location')"
      ]
     },
     "execution_count": 42,
     "metadata": {},
     "output_type": "execute_result"
    },
    {
     "data": {
      "image/png": "[encoded data removed]",
      "text/plain": [
       "<Figure size 432x288 with 1 Axes>"
      ]
     },
     "metadata": {
      "needs_background": "light"
     },
     "output_type": "display_data"
    }
   ],
   "source": [
    "import matplotlib.ticker as mtick\n",
    "\n",
    "ax = loc_df['percentage_infections'].sort_values().plot.bar()\n",
    "ax.yaxis.set_major_formatter(mtick.PercentFormatter())\n",
    "plt.ylabel('Percentage of infections at location')\n",
    "plt.xlabel('location')"
   ]
  },
  {
   "cell_type": "code",
   "execution_count": 43,
   "metadata": {},
   "outputs": [
    {
     "data": {
      "text/plain": [
       "<matplotlib.legend.Legend at 0x13ae5b5c0>"
      ]
     },
     "execution_count": 43,
     "metadata": {},
     "output_type": "execute_result"
    },
    {
     "data": {
      "image/png": "[encoded data removed]",
      "text/plain": [
       "<Figure size 432x288 with 1 Axes>"
      ]
     },
     "metadata": {
      "needs_background": "light"
     },
     "output_type": "display_data"
    }
   ],
   "source": [
    "world_df = read.world_summary()\n",
    "world_df.plot()\n",
    "plt.axvspan(policies.social_distancing_start, \n",
    "            policies.social_distancing_end,\n",
    "            facecolor='y', alpha=0.2)\n",
    "plt.legend()"
   ]
  },
  {
   "cell_type": "code",
   "execution_count": null,
   "metadata": {},
   "outputs": [],
   "source": []
  },
  {
   "cell_type": "code",
   "execution_count": null,
   "metadata": {},
   "outputs": [],
   "source": []
  }
 ],
 "metadata": {
  "kernelspec": {
   "display_name": "campmodelling",
   "language": "python",
   "name": "campmodelling"
  },
  "language_info": {
   "codemirror_mode": {
    "name": "ipython",
    "version": 3
   },
   "file_extension": ".py",
   "mimetype": "text/x-python",
   "name": "python",
   "nbconvert_exporter": "python",
   "pygments_lexer": "ipython3",
   "version": "3.7.3"
  }
 },
 "nbformat": 4,
 "nbformat_minor": 4
}
