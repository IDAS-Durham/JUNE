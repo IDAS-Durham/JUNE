{
 "cells": [
  {
   "cell_type": "code",
   "execution_count": 1,
   "metadata": {},
   "outputs": [],
   "source": [
    "%load_ext autoreload\n",
    "%autoreload 2"
   ]
  },
  {
   "cell_type": "code",
   "execution_count": 2,
   "metadata": {},
   "outputs": [],
   "source": [
    "import warnings\n",
    "warnings.filterwarnings('ignore')"
   ]
  },
  {
   "cell_type": "code",
   "execution_count": 8,
   "metadata": {},
   "outputs": [],
   "source": [
    "import numpy as np\n",
    "import matplotlib.pyplot as plt \n",
    "import pandas as pd\n",
    "import time\n",
    "import matplotlib.pyplot as plt\n",
    "import seaborn as sns\n",
    "import sys\n",
    "sns.set_context('notebook')"
   ]
  },
  {
   "cell_type": "code",
   "execution_count": 5,
   "metadata": {},
   "outputs": [
    {
     "name": "stderr",
     "output_type": "stream",
     "text": [
      "No --data argument given - defaulting to:\n",
      "/home/arnau/code/CPModelling/data\n",
      "No --camp_data argument given - defaulting to:\n",
      "/home/arnau/code/CPModelling/camp_data\n",
      "No --configs argument given - defaulting to:\n",
      "/home/arnau/code/CPModelling/configs\n"
     ]
    }
   ],
   "source": [
    "from june.demography.geography import Geography\n",
    "from june.demography.demography import load_age_and_sex_generators_for_bins, Demography, Population\n",
    "from june.paths import data_path, camp_data_path\n",
    "from june import World\n",
    "from june.groups import Hospital, Hospitals\n",
    "from june.distributors import HospitalDistributor\n",
    "from june.world import generate_world_from_hdf5\n"
   ]
  },
  {
   "cell_type": "code",
   "execution_count": 6,
   "metadata": {},
   "outputs": [],
   "source": [
    "area_mapping_filename = camp_data_path / \"input/geography/area_super_area_region.csv\"\n",
    "area_coordinates_filename = camp_data_path / \"input/geography/area_coordinates.csv\"\n",
    "super_area_coordinates_filename = (\n",
    "    camp_data_path / \"input/geography/super_area_coordinates.csv\"\n",
    ")\n",
    "age_structure_filename = camp_data_path / \"input/demography/age_structure_super_area.csv\"\n",
    "area_residents_families = camp_data_path / \"input/demography/area_residents_families.csv\"\n",
    "area_residents_families_df = pd.read_csv(area_residents_families)\n",
    "area_residents_families_df.set_index(\"area\", inplace=True)"
   ]
  },
  {
   "cell_type": "markdown",
   "metadata": {},
   "source": [
    "## Initialize the world"
   ]
  },
  {
   "cell_type": "code",
   "execution_count": 8,
   "metadata": {},
   "outputs": [
    {
     "name": "stdout",
     "output_type": "stream",
     "text": [
      "2020-06-10 10:00:34,056 - june.demography.geography - INFO - There are 65 areas and 4 super_areas in the world.\n",
      "CPU times: user 47.2 ms, sys: 178 µs, total: 47.4 ms\n",
      "Wall time: 51.1 ms\n"
     ]
    }
   ],
   "source": [
    "%%time\n",
    "geography = Geography.from_file(\n",
    "    filter_key={\"region\": [\"CXB-219\"]},\n",
    "    hierarchy_filename=area_mapping_filename,\n",
    "    area_coordinates_filename=area_coordinates_filename,\n",
    "    super_area_coordinates_filename=super_area_coordinates_filename,\n",
    ")"
   ]
  },
  {
   "cell_type": "code",
   "execution_count": 9,
   "metadata": {},
   "outputs": [],
   "source": [
    "super_area_names = [super_area.name for super_area in geography.super_areas]\n",
    "age_sex_generators = load_age_and_sex_generators_for_bins(age_structure_filename)"
   ]
  },
  {
   "cell_type": "code",
   "execution_count": 10,
   "metadata": {},
   "outputs": [],
   "source": [
    "demography = Demography(\n",
    "    age_sex_generators=age_sex_generators, area_names=super_area_names\n",
    ")"
   ]
  },
  {
   "cell_type": "code",
   "execution_count": 11,
   "metadata": {},
   "outputs": [],
   "source": [
    "world = World()\n",
    "world.areas = geography.areas\n",
    "world.super_areas = geography.super_areas\n",
    "world.people = Population()"
   ]
  },
  {
   "cell_type": "code",
   "execution_count": 12,
   "metadata": {},
   "outputs": [],
   "source": [
    "# populate area with generators from super areas\n",
    "for super_area in world.super_areas:\n",
    "    population = demography.populate(\n",
    "        super_area.name, ethnicity=False, socioecon_index=False\n",
    "    )\n",
    "    np.random.shuffle(population.people)\n",
    "    world.people.extend(population)\n",
    "    population_super_area = len(population)\n",
    "    total_residents_in_super_area = 0\n",
    "    n_residents_area = []\n",
    "    for area in super_area.areas:\n",
    "        n_residents = area_residents_families_df.loc[area.name, \"residents\"]\n",
    "        n_residents_area.append(n_residents)\n",
    "        total_residents_in_super_area += n_residents\n",
    "    for i, area in enumerate(super_area.areas):\n",
    "        n_residents = min(int(np.round(n_residents_area[i] / total_residents_in_super_area * population_super_area)), len(population))\n",
    "        for _ in range(n_residents):\n",
    "            area.add(population.people.pop())\n",
    "    if population.people:\n",
    "        areas = np.random.choice(super_area.areas, size=len(population.people))\n",
    "        for area in areas:\n",
    "            area.add(population.people.pop())"
   ]
  },
  {
   "cell_type": "code",
   "execution_count": 13,
   "metadata": {},
   "outputs": [
    {
     "name": "stdout",
     "output_type": "stream",
     "text": [
      "2020-06-10 10:00:36,089 - june.groups.hospital - INFO - There are 8 hospitals in the world.\n"
     ]
    }
   ],
   "source": [
    "hospitals= Hospitals.from_file(\n",
    "    filename=data_path / 'input/hospitals/hospitals.csv'\n",
    ")\n",
    "world.hospitals = hospitals\n",
    "hospital_distributor = HospitalDistributor(hospitals, \n",
    "                                           medic_min_age=20,\n",
    "                                           patients_per_medic=10)\n",
    "hospital_distributor.distribute_medics(world.people)\n"
   ]
  },
  {
   "cell_type": "markdown",
   "metadata": {},
   "source": [
    "## Geography exploration"
   ]
  },
  {
   "cell_type": "markdown",
   "metadata": {},
   "source": [
    "### UNHCR camp blocks inside the World"
   ]
  },
  {
   "cell_type": "code",
   "execution_count": 14,
   "metadata": {},
   "outputs": [],
   "source": [
    "super_areas = []\n",
    "for super_area in world.super_areas:\n",
    "    super_areas.append(super_area.name)"
   ]
  },
  {
   "cell_type": "code",
   "execution_count": 15,
   "metadata": {},
   "outputs": [
    {
     "data": {
      "text/plain": [
       "['CXB-219-A', 'CXB-219-B', 'CXB-219-C', 'CXB-219-D']"
      ]
     },
     "execution_count": 15,
     "metadata": {},
     "output_type": "execute_result"
    }
   ],
   "source": [
    "super_areas"
   ]
  },
  {
   "cell_type": "markdown",
   "metadata": {},
   "source": [
    "### Mahjee blocks inside World"
   ]
  },
  {
   "cell_type": "code",
   "execution_count": 16,
   "metadata": {},
   "outputs": [],
   "source": [
    "areas = []\n",
    "for area in world.areas:\n",
    "    areas.append(area.name)"
   ]
  },
  {
   "cell_type": "code",
   "execution_count": 17,
   "metadata": {},
   "outputs": [
    {
     "data": {
      "text/plain": [
       "['CXB-219-062', 'CXB-219-063', 'CXB-219-061', 'CXB-219-060', 'CXB-219-065']"
      ]
     },
     "execution_count": 17,
     "metadata": {},
     "output_type": "execute_result"
    }
   ],
   "source": [
    "areas[:5]"
   ]
  },
  {
   "cell_type": "markdown",
   "metadata": {},
   "source": [
    "## Demography exploration"
   ]
  },
  {
   "cell_type": "markdown",
   "metadata": {},
   "source": [
    "### UNHCR block residents"
   ]
  },
  {
   "cell_type": "code",
   "execution_count": 18,
   "metadata": {},
   "outputs": [],
   "source": [
    "sample_ages = []\n",
    "sample_sexes = []\n",
    "for person in world.super_areas.members[0].people:\n",
    "    sample_ages.append(person.age)\n",
    "    sample_sexes.append(person.sex)"
   ]
  },
  {
   "cell_type": "code",
   "execution_count": 19,
   "metadata": {},
   "outputs": [
    {
     "data": {
      "text/plain": [
       "(['f', 'f', 'm', 'f', 'f'], [7, 8, 62, 6, 25])"
      ]
     },
     "execution_count": 19,
     "metadata": {},
     "output_type": "execute_result"
    }
   ],
   "source": [
    "sample_sexes[:5], sample_ages[:5]"
   ]
  },
  {
   "cell_type": "code",
   "execution_count": 20,
   "metadata": {},
   "outputs": [
    {
     "data": {
      "image/png": "[encoded data removed]",
      "text/plain": [
       "<Figure size 432x288 with 1 Axes>"
      ]
     },
     "metadata": {
      "needs_background": "light"
     },
     "output_type": "display_data"
    }
   ],
   "source": [
    "ages, counts = np.unique(sample_ages, return_counts=True)\n",
    "plt.bar(ages, counts)\n",
    "plt.title('super area: {} age distribution'.format(world.super_areas.members[0].name))\n",
    "plt.show()"
   ]
  },
  {
   "cell_type": "code",
   "execution_count": 21,
   "metadata": {},
   "outputs": [
    {
     "name": "stdout",
     "output_type": "stream",
     "text": [
      "The % children between ages 0-16 is 49.0%\n"
     ]
    }
   ],
   "source": [
    "print ('The % children between ages 0-16 is {}%'.format(round(np.sum(counts[:16])/(np.sum(counts[:16])+np.sum(counts[16:]))*100)))"
   ]
  },
  {
   "cell_type": "code",
   "execution_count": null,
   "metadata": {},
   "outputs": [],
   "source": []
  },
  {
   "cell_type": "code",
   "execution_count": null,
   "metadata": {},
   "outputs": [],
   "source": [
    "d"
   ]
  }
 ],
 "metadata": {
  "kernelspec": {
   "display_name": "Python 3",
   "language": "python",
   "name": "python3"
  },
  "language_info": {
   "codemirror_mode": {
    "name": "ipython",
    "version": 3
   },
   "file_extension": ".py",
   "mimetype": "text/x-python",
   "name": "python",
   "nbconvert_exporter": "python",
   "pygments_lexer": "ipython3",
   "version": "3.8.3"
  }
 },
 "nbformat": 4,
 "nbformat_minor": 4
}
