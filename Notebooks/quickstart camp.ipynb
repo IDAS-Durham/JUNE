{
 "cells": [
  {
   "cell_type": "code",
   "execution_count": 1,
   "metadata": {},
   "outputs": [],
   "source": [
    "%load_ext autoreload\n",
    "%autoreload 2"
   ]
  },
  {
   "cell_type": "code",
   "execution_count": 2,
   "metadata": {},
   "outputs": [],
   "source": [
    "import warnings\n",
    "warnings.filterwarnings('ignore')"
   ]
  },
  {
   "cell_type": "code",
   "execution_count": 3,
   "metadata": {},
   "outputs": [],
   "source": [
    "import numpy as np\n",
    "import matplotlib.pyplot as plt \n",
    "import pandas as pd\n",
    "import time\n",
    "import matplotlib.pyplot as plt\n",
    "import seaborn as sns\n",
    "from datetime import datetime\n",
    "import sys\n",
    "sys.path.append(\"../camp_scripts\") # change accordingly\n",
    "sns.set_context('notebook')"
   ]
  },
  {
   "cell_type": "code",
   "execution_count": 4,
   "metadata": {},
   "outputs": [
    {
     "name": "stderr",
     "output_type": "stream",
     "text": [
      "No --data argument given - defaulting to:\n",
      "/home/arnau/code/CPModelling/data\n",
      "No --configs argument given - defaulting to:\n",
      "/home/arnau/code/CPModelling/configs\n"
     ]
    },
    {
     "name": "stdout",
     "output_type": "stream",
     "text": [
      "2020-06-24 09:28:30,826 - camps.paths - WARNING - No --data argument given - defaulting to:\n",
      "/home/arnau/code/CPModelling/data\n",
      "2020-06-24 09:28:30,827 - camps.paths - WARNING - No --configs argument given - defaulting to:\n",
      "/home/arnau/code/CPModelling/configs\n",
      "2020-06-24 09:28:30,828 - camps.paths - WARNING - No --camp_data argument given - defaulting to:\n",
      "/home/arnau/code/CPModelling/camp_data\n",
      "2020-06-24 09:28:30,831 - camps.paths - WARNING - No --configs_camps argument given - defaulting to:\n",
      "/home/arnau/code/CPModelling/configs_camps\n"
     ]
    }
   ],
   "source": [
    "from june.demography.geography import Geography\n",
    "from june.demography.demography import load_age_and_sex_generators_for_bins, Demography, Population\n",
    "from june.paths import data_path\n",
    "from june.seed import Seed\n",
    "from june.infection.infection import InfectionSelector\n",
    "from june.interaction import ContactAveraging\n",
    "from june.groups import Hospital, Hospitals\n",
    "from june.distributors import HospitalDistributor\n",
    "from june.world import generate_world_from_hdf5\n",
    "from june.groups import Cemeteries\n",
    "from june.policy import Policy, Policies\n",
    "from june.logger.read_logger import ReadLogger\n",
    "\n",
    "from camps.paths import camp_data_path\n",
    "from camps.world import World\n",
    "from camps.groups.leisure import generate_leisure_for_world, generate_leisure_for_config\n",
    "from camp_creation import generate_empty_world, populate_world, distribute_people_to_households # this is loaded from the ../camp_scripts folder\n",
    "from camps.simulator import CampSimulator"
   ]
  },
  {
   "cell_type": "code",
   "execution_count": 5,
   "metadata": {},
   "outputs": [],
   "source": [
    "from camps.groups import PumpLatrines, PumpLatrineDistributor\n",
    "from camps.groups import DistributionCenters, DistributionCenterDistributor\n",
    "from camps.groups import Communals, CommunalDistributor\n",
    "from camps.groups import FemaleCommunals, FemaleCommunalDistributor\n",
    "from camps.groups import Religiouss, ReligiousDistributor\n",
    "from camps.groups import Shelter, Shelters, ShelterDistributor\n",
    "from june.groups.leisure import HouseholdVisitsDistributor"
   ]
  },
  {
   "cell_type": "markdown",
   "metadata": {},
   "source": [
    "## Initialize the world"
   ]
  },
  {
   "cell_type": "code",
   "execution_count": 6,
   "metadata": {},
   "outputs": [
    {
     "name": "stdout",
     "output_type": "stream",
     "text": [
      "2020-06-24 09:28:31,054 - june.demography.geography - INFO - There are 65 areas and 4 super_areas in the world.\n"
     ]
    }
   ],
   "source": [
    "# create empty world's geography\n",
    "world = generate_empty_world(filter_key = {\"region\" : [\"CXB-219\"]})"
   ]
  },
  {
   "cell_type": "code",
   "execution_count": 7,
   "metadata": {},
   "outputs": [],
   "source": [
    "# populate empty world\n",
    "populate_world(world)"
   ]
  },
  {
   "cell_type": "code",
   "execution_count": 8,
   "metadata": {},
   "outputs": [],
   "source": [
    "# distribute people to households\n",
    "distribute_people_to_households(world)"
   ]
  },
  {
   "cell_type": "code",
   "execution_count": 9,
   "metadata": {},
   "outputs": [
    {
     "name": "stdout",
     "output_type": "stream",
     "text": [
      "2020-06-24 09:28:32,093 - june.groups.hospital - INFO - There are 8 hospitals in the world.\n"
     ]
    }
   ],
   "source": [
    "# this is not working\n",
    "hospitals= Hospitals.from_file(\n",
    "    filename=camp_data_path / 'input/hospitals/hospitals.csv'\n",
    ")\n",
    "world.hospitals = hospitals\n",
    "hospital_distributor = HospitalDistributor(hospitals, \n",
    "                                           medic_min_age=20,\n",
    "                                           patients_per_medic=10)\n",
    "\n",
    "hospital_distributor.distribute_medics_from_world(world.people)\n"
   ]
  },
  {
   "cell_type": "code",
   "execution_count": 10,
   "metadata": {},
   "outputs": [],
   "source": [
    "world.pump_latrines = PumpLatrines.for_areas(world.areas)\n",
    "world.distribution_centers = DistributionCenters.for_areas(world.areas)\n",
    "world.communals = Communals.for_areas(world.areas)\n",
    "world.female_communals = FemaleCommunals.for_areas(world.areas)\n",
    "world.religiouss = Religiouss.for_areas(world.areas)"
   ]
  },
  {
   "cell_type": "code",
   "execution_count": 11,
   "metadata": {},
   "outputs": [],
   "source": [
    "#world.box_mode = False\n",
    "world.cemeteries = Cemeteries()"
   ]
  },
  {
   "cell_type": "markdown",
   "metadata": {},
   "source": [
    "## Geography exploration"
   ]
  },
  {
   "cell_type": "markdown",
   "metadata": {},
   "source": [
    "### UNHCR camp blocks inside the World"
   ]
  },
  {
   "cell_type": "code",
   "execution_count": 12,
   "metadata": {},
   "outputs": [],
   "source": [
    "super_areas = []\n",
    "for super_area in world.super_areas:\n",
    "    super_areas.append(super_area.name)"
   ]
  },
  {
   "cell_type": "code",
   "execution_count": 13,
   "metadata": {},
   "outputs": [
    {
     "data": {
      "text/plain": [
       "['CXB-219-A', 'CXB-219-B', 'CXB-219-C', 'CXB-219-D']"
      ]
     },
     "execution_count": 13,
     "metadata": {},
     "output_type": "execute_result"
    }
   ],
   "source": [
    "super_areas[:5]"
   ]
  },
  {
   "cell_type": "markdown",
   "metadata": {},
   "source": [
    "### Mahjee blocks inside World"
   ]
  },
  {
   "cell_type": "code",
   "execution_count": 14,
   "metadata": {},
   "outputs": [],
   "source": [
    "areas = []\n",
    "for area in world.areas:\n",
    "    areas.append(area.name)"
   ]
  },
  {
   "cell_type": "code",
   "execution_count": 15,
   "metadata": {},
   "outputs": [
    {
     "data": {
      "text/plain": [
       "['CXB-219-062', 'CXB-219-063', 'CXB-219-061', 'CXB-219-060', 'CXB-219-065']"
      ]
     },
     "execution_count": 15,
     "metadata": {},
     "output_type": "execute_result"
    }
   ],
   "source": [
    "areas[:5]"
   ]
  },
  {
   "cell_type": "markdown",
   "metadata": {},
   "source": [
    "## Demography exploration"
   ]
  },
  {
   "cell_type": "markdown",
   "metadata": {},
   "source": [
    "### UNHCR block residents"
   ]
  },
  {
   "cell_type": "code",
   "execution_count": 16,
   "metadata": {},
   "outputs": [],
   "source": [
    "sample_ages = []\n",
    "sample_sexes = []\n",
    "for person in world.super_areas.members[0].people:\n",
    "    sample_ages.append(person.age)\n",
    "    sample_sexes.append(person.sex)"
   ]
  },
  {
   "cell_type": "code",
   "execution_count": 17,
   "metadata": {},
   "outputs": [
    {
     "data": {
      "text/plain": [
       "(['m', 'm', 'm', 'f', 'm'], [60, 31, 51, 34, 31])"
      ]
     },
     "execution_count": 17,
     "metadata": {},
     "output_type": "execute_result"
    }
   ],
   "source": [
    "sample_sexes[:5], sample_ages[:5]"
   ]
  },
  {
   "cell_type": "code",
   "execution_count": 18,
   "metadata": {},
   "outputs": [
    {
     "data": {
      "image/png": "[encoded data removed]",
      "text/plain": [
       "<Figure size 432x288 with 1 Axes>"
      ]
     },
     "metadata": {
      "needs_background": "light"
     },
     "output_type": "display_data"
    }
   ],
   "source": [
    "ages, counts = np.unique(sample_ages, return_counts=True)\n",
    "plt.bar(ages, counts)\n",
    "plt.title('super area: {} age distribution'.format(world.super_areas.members[0].name))\n",
    "plt.show()"
   ]
  },
  {
   "cell_type": "code",
   "execution_count": 19,
   "metadata": {},
   "outputs": [
    {
     "name": "stdout",
     "output_type": "stream",
     "text": [
      "The % children between ages 0-16 is 49.0%\n"
     ]
    }
   ],
   "source": [
    "print ('The % children between ages 0-16 is {}%'.format(round(np.sum(counts[:16])/(np.sum(counts[:16])+np.sum(counts[16:]))*100)))"
   ]
  },
  {
   "cell_type": "markdown",
   "metadata": {},
   "source": [
    "## Households"
   ]
  },
  {
   "cell_type": "markdown",
   "metadata": {},
   "source": [
    "### Household size distribution"
   ]
  },
  {
   "cell_type": "code",
   "execution_count": 20,
   "metadata": {},
   "outputs": [
    {
     "data": {
      "image/png": "[encoded data removed]",
      "text/plain": [
       "<Figure size 432x288 with 1 Axes>"
      ]
     },
     "metadata": {
      "needs_background": "light"
     },
     "output_type": "display_data"
    }
   ],
   "source": [
    "household_sizes = [household.size for household in world.households]\n",
    "plt.hist(household_sizes, density=True, bins=np.arange(0,12))\n",
    "plt.xlabel(\"Household size\")\n",
    "plt.ylabel(\"Frequency\")\n",
    "plt.axvline(np.mean(household_sizes), color=\"cyan\")\n",
    "plt.text(8, 0.150, f\"Avg. size: {(np.mean(household_sizes)):.2f}\")\n",
    "plt.show()"
   ]
  },
  {
   "cell_type": "markdown",
   "metadata": {},
   "source": [
    "# Shelters"
   ]
  },
  {
   "cell_type": "code",
   "execution_count": 21,
   "metadata": {},
   "outputs": [],
   "source": [
    "world.shelters = Shelters.for_areas(world.areas)\n",
    "shelter_distributor = ShelterDistributor(sharing_shelter_ratio = 0.75) # proportion of families that share a shelter\n",
    "for area in world.areas:\n",
    "    shelter_distributor.distribute_people_in_shelters(area.shelters, area.households)"
   ]
  },
  {
   "cell_type": "code",
   "execution_count": 22,
   "metadata": {},
   "outputs": [
    {
     "data": {
      "image/png": "[encoded data removed]",
      "text/plain": [
       "<Figure size 576x216 with 2 Axes>"
      ]
     },
     "metadata": {
      "needs_background": "light"
     },
     "output_type": "display_data"
    }
   ],
   "source": [
    "fig, ax = plt.subplots(1, 2, figsize=(8,3))\n",
    "shelter_sizes = [shelter.size for shelter in world.shelters]\n",
    "shelter_families = [shelter.n_families for shelter in world.shelters]\n",
    "ax[0].hist(shelter_sizes)\n",
    "ax[0].set_title(\"Shelter size\")\n",
    "shelter_families = {1 : len([shelter for shelter in world.shelters if shelter.n_families == 1]),\n",
    "                    2 : len([shelter for shelter in world.shelters if shelter.n_families == 2])}\n",
    "ax[1].bar(shelter_families.keys(), shelter_families.values())\n",
    "ax[1].set_title(\"# families per shelter\")\n",
    "plt.show()"
   ]
  },
  {
   "cell_type": "markdown",
   "metadata": {},
   "source": [
    "## Activity exploration"
   ]
  },
  {
   "cell_type": "markdown",
   "metadata": {},
   "source": [
    "### Pumps and latrines "
   ]
  },
  {
   "cell_type": "code",
   "execution_count": 23,
   "metadata": {},
   "outputs": [],
   "source": [
    "pumps_and_latrines = []\n",
    "for pump_latrine in world.areas.members[0].pump_latrines:\n",
    "    pumps_and_latrines.append(pump_latrine)"
   ]
  },
  {
   "cell_type": "code",
   "execution_count": 24,
   "metadata": {},
   "outputs": [
    {
     "name": "stdout",
     "output_type": "stream",
     "text": [
      "There are 3 pumps and latrines in area CXB-219-062\n"
     ]
    }
   ],
   "source": [
    "print ('There are {} pumps and latrines in area {}'.format(len(pumps_and_latrines), world.areas.members[0].name))"
   ]
  },
  {
   "cell_type": "markdown",
   "metadata": {},
   "source": [
    "### Distribution centers"
   ]
  },
  {
   "cell_type": "code",
   "execution_count": 25,
   "metadata": {},
   "outputs": [],
   "source": [
    "distribution_centers = []\n",
    "for center in world.distribution_centers:\n",
    "    distribution_centers.append(center)"
   ]
  },
  {
   "cell_type": "code",
   "execution_count": 26,
   "metadata": {},
   "outputs": [
    {
     "data": {
      "text/plain": [
       "array([21.1962 , 92.14936])"
      ]
     },
     "execution_count": 26,
     "metadata": {},
     "output_type": "execute_result"
    }
   ],
   "source": [
    "distribution_centers[0].coordinates"
   ]
  },
  {
   "cell_type": "markdown",
   "metadata": {},
   "source": [
    "### Communal spaces"
   ]
  },
  {
   "cell_type": "code",
   "execution_count": 27,
   "metadata": {},
   "outputs": [],
   "source": [
    "communal_spaces = []\n",
    "for space in world.communals:\n",
    "    communal_spaces.append(space)"
   ]
  },
  {
   "cell_type": "code",
   "execution_count": 28,
   "metadata": {},
   "outputs": [
    {
     "data": {
      "text/plain": [
       "array([21.19621, 92.14924])"
      ]
     },
     "execution_count": 28,
     "metadata": {},
     "output_type": "execute_result"
    }
   ],
   "source": [
    "communal_spaces[0].coordinates"
   ]
  },
  {
   "cell_type": "markdown",
   "metadata": {},
   "source": [
    "### Female friendly communal spaces"
   ]
  },
  {
   "cell_type": "code",
   "execution_count": 29,
   "metadata": {},
   "outputs": [],
   "source": [
    "female_communal_spaces = []\n",
    "for space in world.female_communals:\n",
    "    female_communal_spaces.append(space)"
   ]
  },
  {
   "cell_type": "code",
   "execution_count": 30,
   "metadata": {},
   "outputs": [
    {
     "data": {
      "text/plain": [
       "array([21.19588, 92.152  ])"
      ]
     },
     "execution_count": 30,
     "metadata": {},
     "output_type": "execute_result"
    }
   ],
   "source": [
    "female_communal_spaces[0].coordinates"
   ]
  },
  {
   "cell_type": "markdown",
   "metadata": {},
   "source": [
    "### Religious sites"
   ]
  },
  {
   "cell_type": "code",
   "execution_count": 31,
   "metadata": {},
   "outputs": [],
   "source": [
    "religious = []\n",
    "for rel in world.religiouss:\n",
    "    religious.append(rel)"
   ]
  },
  {
   "cell_type": "code",
   "execution_count": 32,
   "metadata": {},
   "outputs": [
    {
     "data": {
      "text/plain": [
       "array([21.20069, 92.15216])"
      ]
     },
     "execution_count": 32,
     "metadata": {},
     "output_type": "execute_result"
    }
   ],
   "source": [
    "religious[0].coordinates"
   ]
  },
  {
   "cell_type": "markdown",
   "metadata": {},
   "source": [
    "# Adding the infection"
   ]
  },
  {
   "cell_type": "code",
   "execution_count": 33,
   "metadata": {},
   "outputs": [],
   "source": [
    "selector = InfectionSelector.from_file()"
   ]
  },
  {
   "cell_type": "markdown",
   "metadata": {},
   "source": [
    "# Adding the interaction"
   ]
  },
  {
   "cell_type": "code",
   "execution_count": 34,
   "metadata": {},
   "outputs": [],
   "source": [
    "interaction = ContactAveraging.from_file(config_filename='../configs_camps/defaults/interaction/ContactInteraction.yaml',\\\n",
    "                                         selector=selector)"
   ]
  },
  {
   "cell_type": "markdown",
   "metadata": {},
   "source": [
    "# Set policies"
   ]
  },
  {
   "cell_type": "code",
   "execution_count": 35,
   "metadata": {},
   "outputs": [],
   "source": [
    "social_distance = Policy(policy=\"social_distance\",\n",
    "                         start_time=datetime(2021, 3, 25), \n",
    "                         end_time=datetime(2021, 4, 1))\n",
    "policies = Policies.from_file([social_distance])"
   ]
  },
  {
   "cell_type": "markdown",
   "metadata": {},
   "source": [
    "# Seed the disease"
   ]
  },
  {
   "cell_type": "code",
   "execution_count": 36,
   "metadata": {},
   "outputs": [],
   "source": [
    "seed = Seed(world.super_areas,\n",
    "           selector)\n",
    "\n",
    "seed.unleash_virus(n_cases=5)"
   ]
  },
  {
   "cell_type": "markdown",
   "metadata": {},
   "source": [
    "# Run the simulation"
   ]
  },
  {
   "cell_type": "code",
   "execution_count": 37,
   "metadata": {},
   "outputs": [
    {
     "name": "stdout",
     "output_type": "stream",
     "text": [
      "LIST OF LEISURE \n",
      "['distribution_centers', 'communals', 'female_communals', 'pump_latrines', 'religiouss']\n"
     ]
    }
   ],
   "source": [
    "CONFIG_PATH = \"../configs_camps/config_example.yaml\"\n",
    "\n",
    "leisure_instance = generate_leisure_for_config(\n",
    "            world=world, config_filename=CONFIG_PATH\n",
    ")\n",
    "leisure_instance.leisure_distributors = [\n",
    "    PumpLatrineDistributor.from_config(pump_latrines=world.pump_latrines),\n",
    "    DistributionCenterDistributor.from_config(distribution_centers=world.distribution_centers),\n",
    "    CommunalDistributor.from_config(communals=world.communals),\n",
    "    FemaleCommunalDistributor.from_config(female_communals=world.female_communals),\n",
    "]\n",
    "\n",
    "simulator = CampSimulator.from_file(\n",
    "     world, interaction, selector,\n",
    "    leisure = leisure_instance,\n",
    "    policies=policies,\n",
    "    config_filename = CONFIG_PATH\n",
    ")"
   ]
  },
  {
   "cell_type": "code",
   "execution_count": 38,
   "metadata": {},
   "outputs": [
    {
     "data": {
      "text/plain": [
       "[<camps.groups.pump_latrine.PumpLatrineDistributor at 0x7fd021e664c0>,\n",
       " <camps.groups.distribution_center.DistributionCenterDistributor at 0x7fd021e663a0>,\n",
       " <camps.groups.communal.CommunalDistributor at 0x7fd021e662e0>,\n",
       " <camps.groups.female_communal.FemaleCommunalDistributor at 0x7fd021e66580>]"
      ]
     },
     "execution_count": 38,
     "metadata": {},
     "output_type": "execute_result"
    }
   ],
   "source": [
    "leisure_instance.leisure_distributors"
   ]
  },
  {
   "cell_type": "code",
   "execution_count": 39,
   "metadata": {},
   "outputs": [],
   "source": [
    "simulator.timer.reset()"
   ]
  },
  {
   "cell_type": "code",
   "execution_count": 40,
   "metadata": {
    "scrolled": true
   },
   "outputs": [
    {
     "name": "stdout",
     "output_type": "stream",
     "text": [
      "2020-06-24 09:28:34,741 - june.simulator - INFO - Starting group_dynamics for 70 days at day 0\n",
      "2020-06-24 09:28:34,744 - june.simulator - INFO - starting the loop ..., at 0 days, to run for 70 days\n",
      "2020-06-24 09:28:37,066 - june.simulator - INFO - Date = 2020-03-07 03:00:00, number of deaths =  0, number of infected = 5\n",
      "2020-06-24 09:28:38,632 - june.simulator - INFO - Date = 2020-03-07 05:00:00, number of deaths =  0, number of infected = 5\n",
      "2020-06-24 09:28:40,637 - june.simulator - INFO - Date = 2020-03-07 07:00:00, number of deaths =  0, number of infected = 5\n",
      "2020-06-24 09:28:41,908 - june.simulator - INFO - Date = 2020-03-07 09:00:00, number of deaths =  0, number of infected = 5\n",
      "2020-06-24 09:28:42,043 - june.simulator - INFO - Date = 2020-03-07 11:00:00, number of deaths =  0, number of infected = 5\n",
      "2020-06-24 09:28:42,278 - june.simulator - INFO - Date = 2020-03-08 00:00:00, number of deaths =  0, number of infected = 5\n",
      "2020-06-24 09:28:43,632 - june.simulator - INFO - Date = 2020-03-08 03:00:00, number of deaths =  0, number of infected = 5\n",
      "2020-06-24 09:28:45,924 - june.simulator - INFO - Date = 2020-03-08 05:00:00, number of deaths =  0, number of infected = 5\n",
      "2020-06-24 09:28:48,138 - june.simulator - INFO - Date = 2020-03-08 07:00:00, number of deaths =  0, number of infected = 5\n",
      "2020-06-24 09:28:49,537 - june.simulator - INFO - Date = 2020-03-08 09:00:00, number of deaths =  0, number of infected = 5\n",
      "2020-06-24 09:28:49,737 - june.simulator - INFO - Date = 2020-03-08 11:00:00, number of deaths =  0, number of infected = 5\n",
      "2020-06-24 09:28:49,899 - june.simulator - INFO - Date = 2020-03-09 00:00:00, number of deaths =  0, number of infected = 5\n",
      "2020-06-24 09:28:50,992 - june.simulator - INFO - Date = 2020-03-09 02:00:00, number of deaths =  0, number of infected = 5\n",
      "2020-06-24 09:28:52,024 - june.simulator - INFO - Date = 2020-03-09 04:00:00, number of deaths =  0, number of infected = 5\n",
      "2020-06-24 09:28:53,256 - june.simulator - INFO - Date = 2020-03-09 06:00:00, number of deaths =  0, number of infected = 5\n",
      "2020-06-24 09:28:54,380 - june.simulator - INFO - Date = 2020-03-09 08:00:00, number of deaths =  0, number of infected = 5\n",
      "2020-06-24 09:28:54,578 - june.simulator - INFO - Date = 2020-03-09 10:00:00, number of deaths =  0, number of infected = 5\n",
      "2020-06-24 09:28:54,738 - june.simulator - INFO - Date = 2020-03-10 00:00:00, number of deaths =  0, number of infected = 5\n",
      "2020-06-24 09:28:55,790 - june.simulator - INFO - Date = 2020-03-10 02:00:00, number of deaths =  0, number of infected = 5\n",
      "2020-06-24 09:28:56,886 - june.simulator - INFO - Date = 2020-03-10 04:00:00, number of deaths =  0, number of infected = 5\n",
      "2020-06-24 09:28:58,040 - june.simulator - INFO - Date = 2020-03-10 06:00:00, number of deaths =  0, number of infected = 5\n",
      "2020-06-24 09:28:59,105 - june.simulator - INFO - Date = 2020-03-10 08:00:00, number of deaths =  0, number of infected = 5\n",
      "2020-06-24 09:28:59,350 - june.simulator - INFO - Date = 2020-03-10 10:00:00, number of deaths =  0, number of infected = 5\n",
      "2020-06-24 09:28:59,557 - june.simulator - INFO - Date = 2020-03-11 00:00:00, number of deaths =  0, number of infected = 5\n",
      "2020-06-24 09:29:00,723 - june.simulator - INFO - Date = 2020-03-11 02:00:00, number of deaths =  0, number of infected = 5\n",
      "2020-06-24 09:29:01,813 - june.simulator - INFO - Date = 2020-03-11 04:00:00, number of deaths =  0, number of infected = 6\n",
      "2020-06-24 09:29:02,837 - june.simulator - INFO - Date = 2020-03-11 06:00:00, number of deaths =  0, number of infected = 8\n",
      "2020-06-24 09:29:03,981 - june.simulator - INFO - Date = 2020-03-11 08:00:00, number of deaths =  0, number of infected = 8\n",
      "2020-06-24 09:29:04,190 - june.simulator - INFO - Date = 2020-03-11 10:00:00, number of deaths =  0, number of infected = 8\n",
      "2020-06-24 09:29:04,391 - june.simulator - INFO - Date = 2020-03-12 00:00:00, number of deaths =  0, number of infected = 12\n",
      "2020-06-24 09:29:05,702 - june.simulator - INFO - Date = 2020-03-12 02:00:00, number of deaths =  0, number of infected = 13\n",
      "2020-06-24 09:29:06,689 - june.simulator - INFO - Date = 2020-03-12 04:00:00, number of deaths =  0, number of infected = 14\n",
      "2020-06-24 09:29:07,580 - june.simulator - INFO - Date = 2020-03-12 06:00:00, number of deaths =  0, number of infected = 15\n",
      "2020-06-24 09:29:08,654 - june.simulator - INFO - Date = 2020-03-12 08:00:00, number of deaths =  0, number of infected = 16\n",
      "2020-06-24 09:29:08,831 - june.simulator - INFO - Date = 2020-03-12 10:00:00, number of deaths =  0, number of infected = 17\n",
      "2020-06-24 09:29:09,007 - june.simulator - INFO - Date = 2020-03-13 00:00:00, number of deaths =  0, number of infected = 23\n",
      "2020-06-24 09:29:10,075 - june.simulator - INFO - Date = 2020-03-13 02:00:00, number of deaths =  0, number of infected = 23\n",
      "2020-06-24 09:29:11,130 - june.simulator - INFO - Date = 2020-03-13 04:00:00, number of deaths =  0, number of infected = 23\n",
      "2020-06-24 09:29:12,155 - june.simulator - INFO - Date = 2020-03-13 06:00:00, number of deaths =  0, number of infected = 23\n",
      "2020-06-24 09:29:13,715 - june.simulator - INFO - Date = 2020-03-13 08:00:00, number of deaths =  0, number of infected = 23\n",
      "2020-06-24 09:29:13,932 - june.simulator - INFO - Date = 2020-03-13 10:00:00, number of deaths =  0, number of infected = 43\n",
      "2020-06-24 09:29:14,089 - june.simulator - INFO - Date = 2020-03-14 00:00:00, number of deaths =  0, number of infected = 46\n",
      "2020-06-24 09:29:15,527 - june.simulator - INFO - Date = 2020-03-14 03:00:00, number of deaths =  0, number of infected = 47\n",
      "2020-06-24 09:29:16,713 - june.simulator - INFO - Date = 2020-03-14 05:00:00, number of deaths =  0, number of infected = 47\n",
      "2020-06-24 09:29:17,802 - june.simulator - INFO - Date = 2020-03-14 07:00:00, number of deaths =  0, number of infected = 48\n",
      "2020-06-24 09:29:18,865 - june.simulator - INFO - Date = 2020-03-14 09:00:00, number of deaths =  0, number of infected = 57\n",
      "2020-06-24 09:29:19,078 - june.simulator - INFO - Date = 2020-03-14 11:00:00, number of deaths =  0, number of infected = 58\n",
      "2020-06-24 09:29:19,240 - june.simulator - INFO - Date = 2020-03-15 00:00:00, number of deaths =  0, number of infected = 64\n",
      "2020-06-24 09:29:20,851 - june.simulator - INFO - Date = 2020-03-15 03:00:00, number of deaths =  0, number of infected = 64\n",
      "2020-06-24 09:29:21,886 - june.simulator - INFO - Date = 2020-03-15 05:00:00, number of deaths =  0, number of infected = 75\n",
      "2020-06-24 09:29:23,111 - june.simulator - INFO - Date = 2020-03-15 07:00:00, number of deaths =  0, number of infected = 76\n",
      "2020-06-24 09:29:24,461 - june.simulator - INFO - Date = 2020-03-15 09:00:00, number of deaths =  0, number of infected = 77\n",
      "2020-06-24 09:29:24,624 - june.simulator - INFO - Date = 2020-03-15 11:00:00, number of deaths =  0, number of infected = 87\n",
      "2020-06-24 09:29:24,774 - june.simulator - INFO - Date = 2020-03-16 00:00:00, number of deaths =  0, number of infected = 95\n",
      "2020-06-24 09:29:25,614 - june.simulator - INFO - Date = 2020-03-16 02:00:00, number of deaths =  0, number of infected = 95\n",
      "2020-06-24 09:29:26,394 - june.simulator - INFO - Date = 2020-03-16 04:00:00, number of deaths =  0, number of infected = 98\n",
      "2020-06-24 09:29:27,183 - june.simulator - INFO - Date = 2020-03-16 06:00:00, number of deaths =  0, number of infected = 112\n",
      "2020-06-24 09:29:28,019 - june.simulator - INFO - Date = 2020-03-16 08:00:00, number of deaths =  0, number of infected = 124\n",
      "2020-06-24 09:29:28,156 - june.simulator - INFO - Date = 2020-03-16 10:00:00, number of deaths =  0, number of infected = 128\n",
      "2020-06-24 09:29:28,301 - june.simulator - INFO - Date = 2020-03-17 00:00:00, number of deaths =  0, number of infected = 151\n",
      "2020-06-24 09:29:29,075 - june.simulator - INFO - Date = 2020-03-17 02:00:00, number of deaths =  0, number of infected = 158\n",
      "2020-06-24 09:29:30,093 - june.simulator - INFO - Date = 2020-03-17 04:00:00, number of deaths =  0, number of infected = 175\n",
      "2020-06-24 09:29:30,922 - june.simulator - INFO - Date = 2020-03-17 06:00:00, number of deaths =  0, number of infected = 190\n",
      "2020-06-24 09:29:31,715 - june.simulator - INFO - Date = 2020-03-17 08:00:00, number of deaths =  0, number of infected = 224\n",
      "2020-06-24 09:29:31,868 - june.simulator - INFO - Date = 2020-03-17 10:00:00, number of deaths =  0, number of infected = 240\n",
      "2020-06-24 09:29:32,018 - june.simulator - INFO - Date = 2020-03-18 00:00:00, number of deaths =  0, number of infected = 262\n",
      "2020-06-24 09:29:32,820 - june.simulator - INFO - Date = 2020-03-18 02:00:00, number of deaths =  0, number of infected = 267\n",
      "2020-06-24 09:29:33,590 - june.simulator - INFO - Date = 2020-03-18 04:00:00, number of deaths =  0, number of infected = 289\n",
      "2020-06-24 09:29:34,378 - june.simulator - INFO - Date = 2020-03-18 06:00:00, number of deaths =  0, number of infected = 329\n",
      "2020-06-24 09:29:35,152 - june.simulator - INFO - Date = 2020-03-18 08:00:00, number of deaths =  0, number of infected = 365\n",
      "2020-06-24 09:29:35,301 - june.simulator - INFO - Date = 2020-03-18 10:00:00, number of deaths =  0, number of infected = 449\n",
      "2020-06-24 09:29:35,455 - june.simulator - INFO - Date = 2020-03-19 00:00:00, number of deaths =  0, number of infected = 492\n",
      "2020-06-24 09:29:36,301 - june.simulator - INFO - Date = 2020-03-19 02:00:00, number of deaths =  0, number of infected = 500\n",
      "2020-06-24 09:29:37,355 - june.simulator - INFO - Date = 2020-03-19 04:00:00, number of deaths =  0, number of infected = 534\n",
      "2020-06-24 09:29:38,320 - june.simulator - INFO - Date = 2020-03-19 06:00:00, number of deaths =  0, number of infected = 594\n",
      "2020-06-24 09:29:39,364 - june.simulator - INFO - Date = 2020-03-19 08:00:00, number of deaths =  0, number of infected = 666\n",
      "2020-06-24 09:29:39,595 - june.simulator - INFO - Date = 2020-03-19 10:00:00, number of deaths =  0, number of infected = 724\n",
      "2020-06-24 09:29:39,773 - june.simulator - INFO - Date = 2020-03-20 00:00:00, number of deaths =  0, number of infected = 779\n",
      "2020-06-24 09:29:40,662 - june.simulator - INFO - Date = 2020-03-20 02:00:00, number of deaths =  0, number of infected = 788\n",
      "2020-06-24 09:29:41,526 - june.simulator - INFO - Date = 2020-03-20 04:00:00, number of deaths =  0, number of infected = 917\n",
      "2020-06-24 09:29:42,412 - june.simulator - INFO - Date = 2020-03-20 06:00:00, number of deaths =  0, number of infected = 1016\n",
      "2020-06-24 09:29:43,299 - june.simulator - INFO - Date = 2020-03-20 08:00:00, number of deaths =  0, number of infected = 1132\n",
      "2020-06-24 09:29:43,479 - june.simulator - INFO - Date = 2020-03-20 10:00:00, number of deaths =  0, number of infected = 1248\n",
      "2020-06-24 09:29:43,785 - june.simulator - INFO - Date = 2020-03-21 00:00:00, number of deaths =  0, number of infected = 1350\n",
      "2020-06-24 09:29:44,892 - june.simulator - INFO - Date = 2020-03-21 03:00:00, number of deaths =  0, number of infected = 1389\n",
      "2020-06-24 09:29:45,992 - june.simulator - INFO - Date = 2020-03-21 05:00:00, number of deaths =  0, number of infected = 1643\n",
      "2020-06-24 09:29:47,209 - june.simulator - INFO - Date = 2020-03-21 07:00:00, number of deaths =  0, number of infected = 1874\n",
      "2020-06-24 09:29:48,577 - june.simulator - INFO - Date = 2020-03-21 09:00:00, number of deaths =  0, number of infected = 2188\n",
      "2020-06-24 09:29:48,867 - june.simulator - INFO - Date = 2020-03-21 11:00:00, number of deaths =  0, number of infected = 2476\n",
      "2020-06-24 09:29:49,379 - june.simulator - INFO - Date = 2020-03-22 00:00:00, number of deaths =  0, number of infected = 2659\n",
      "2020-06-24 09:29:52,033 - june.simulator - INFO - Date = 2020-03-22 03:00:00, number of deaths =  0, number of infected = 2724\n",
      "2020-06-24 09:29:53,921 - june.simulator - INFO - Date = 2020-03-22 05:00:00, number of deaths =  0, number of infected = 3136\n",
      "2020-06-24 09:29:55,636 - june.simulator - INFO - Date = 2020-03-22 07:00:00, number of deaths =  0, number of infected = 3472\n",
      "2020-06-24 09:29:57,341 - june.simulator - INFO - Date = 2020-03-22 09:00:00, number of deaths =  0, number of infected = 3873\n",
      "2020-06-24 09:29:57,655 - june.simulator - INFO - Date = 2020-03-22 11:00:00, number of deaths =  0, number of infected = 4270\n",
      "2020-06-24 09:29:57,943 - june.simulator - INFO - Date = 2020-03-23 00:00:00, number of deaths =  0, number of infected = 4540\n",
      "2020-06-24 09:29:59,218 - june.simulator - INFO - Date = 2020-03-23 02:00:00, number of deaths =  0, number of infected = 4598\n",
      "2020-06-24 09:30:00,506 - june.simulator - INFO - Date = 2020-03-23 04:00:00, number of deaths =  0, number of infected = 4945\n",
      "2020-06-24 09:30:01,960 - june.simulator - INFO - Date = 2020-03-23 06:00:00, number of deaths =  0, number of infected = 5353\n",
      "2020-06-24 09:30:03,329 - june.simulator - INFO - Date = 2020-03-23 08:00:00, number of deaths =  0, number of infected = 5718\n",
      "2020-06-24 09:30:03,740 - june.simulator - INFO - Date = 2020-03-23 10:00:00, number of deaths =  0, number of infected = 6135\n",
      "2020-06-24 09:30:04,134 - june.simulator - INFO - Date = 2020-03-24 00:00:00, number of deaths =  0, number of infected = 6547\n",
      "2020-06-24 09:30:05,455 - june.simulator - INFO - Date = 2020-03-24 02:00:00, number of deaths =  0, number of infected = 6647\n",
      "2020-06-24 09:30:06,888 - june.simulator - INFO - Date = 2020-03-24 04:00:00, number of deaths =  0, number of infected = 7150\n",
      "2020-06-24 09:30:08,346 - june.simulator - INFO - Date = 2020-03-24 06:00:00, number of deaths =  0, number of infected = 7728\n",
      "2020-06-24 09:30:09,730 - june.simulator - INFO - Date = 2020-03-24 08:00:00, number of deaths =  0, number of infected = 8351\n",
      "2020-06-24 09:30:10,115 - june.simulator - INFO - Date = 2020-03-24 10:00:00, number of deaths =  0, number of infected = 8864\n",
      "2020-06-24 09:30:10,520 - june.simulator - INFO - Date = 2020-03-25 00:00:00, number of deaths =  0, number of infected = 9533\n",
      "2020-06-24 09:30:12,054 - june.simulator - INFO - Date = 2020-03-25 02:00:00, number of deaths =  0, number of infected = 9683\n",
      "2020-06-24 09:30:13,639 - june.simulator - INFO - Date = 2020-03-25 04:00:00, number of deaths =  0, number of infected = 10428\n",
      "2020-06-24 09:30:15,043 - june.simulator - INFO - Date = 2020-03-25 06:00:00, number of deaths =  0, number of infected = 11129\n",
      "2020-06-24 09:30:16,443 - june.simulator - INFO - Date = 2020-03-25 08:00:00, number of deaths =  0, number of infected = 11823\n",
      "2020-06-24 09:30:16,895 - june.simulator - INFO - Date = 2020-03-25 10:00:00, number of deaths =  0, number of infected = 12497\n",
      "2020-06-24 09:30:17,358 - june.simulator - INFO - Date = 2020-03-26 00:00:00, number of deaths =  0, number of infected = 13345\n",
      "2020-06-24 09:30:18,663 - june.simulator - INFO - Date = 2020-03-26 02:00:00, number of deaths =  0, number of infected = 13527\n",
      "2020-06-24 09:30:20,013 - june.simulator - INFO - Date = 2020-03-26 04:00:00, number of deaths =  0, number of infected = 14233\n",
      "2020-06-24 09:30:21,439 - june.simulator - INFO - Date = 2020-03-26 06:00:00, number of deaths =  0, number of infected = 14857\n",
      "2020-06-24 09:30:22,951 - june.simulator - INFO - Date = 2020-03-26 08:00:00, number of deaths =  0, number of infected = 15467\n",
      "2020-06-24 09:30:23,625 - june.simulator - INFO - Date = 2020-03-26 10:00:00, number of deaths =  0, number of infected = 15992\n",
      "2020-06-24 09:30:24,150 - june.simulator - INFO - Date = 2020-03-27 00:00:00, number of deaths =  0, number of infected = 16829\n",
      "2020-06-24 09:30:25,467 - june.simulator - INFO - Date = 2020-03-27 02:00:00, number of deaths =  0, number of infected = 16975\n",
      "2020-06-24 09:30:26,831 - june.simulator - INFO - Date = 2020-03-27 04:00:00, number of deaths =  0, number of infected = 17566\n",
      "2020-06-24 09:30:28,355 - june.simulator - INFO - Date = 2020-03-27 06:00:00, number of deaths =  0, number of infected = 18063\n",
      "2020-06-24 09:30:29,724 - june.simulator - INFO - Date = 2020-03-27 08:00:00, number of deaths =  0, number of infected = 18525\n",
      "2020-06-24 09:30:30,165 - june.simulator - INFO - Date = 2020-03-27 10:00:00, number of deaths =  0, number of infected = 18949\n",
      "2020-06-24 09:30:30,650 - june.simulator - INFO - Date = 2020-03-28 00:00:00, number of deaths =  0, number of infected = 19543\n",
      "2020-06-24 09:30:32,229 - june.simulator - INFO - Date = 2020-03-28 03:00:00, number of deaths =  0, number of infected = 19722\n",
      "2020-06-24 09:30:33,999 - june.simulator - INFO - Date = 2020-03-28 05:00:00, number of deaths =  0, number of infected = 20209\n",
      "2020-06-24 09:30:35,622 - june.simulator - INFO - Date = 2020-03-28 07:00:00, number of deaths =  0, number of infected = 20639\n",
      "2020-06-24 09:30:37,267 - june.simulator - INFO - Date = 2020-03-28 09:00:00, number of deaths =  0, number of infected = 20995\n",
      "2020-06-24 09:30:37,776 - june.simulator - INFO - Date = 2020-03-28 11:00:00, number of deaths =  0, number of infected = 21310\n",
      "2020-06-24 09:30:38,314 - june.simulator - INFO - Date = 2020-03-29 00:00:00, number of deaths =  0, number of infected = 21643\n",
      "2020-06-24 09:30:39,756 - june.simulator - INFO - Date = 2020-03-29 03:00:00, number of deaths =  0, number of infected = 21738\n",
      "2020-06-24 09:30:41,444 - june.simulator - INFO - Date = 2020-03-29 05:00:00, number of deaths =  0, number of infected = 21953\n",
      "2020-06-24 09:30:42,996 - june.simulator - INFO - Date = 2020-03-29 07:00:00, number of deaths =  0, number of infected = 22126\n",
      "2020-06-24 09:30:44,928 - june.simulator - INFO - Date = 2020-03-29 09:00:00, number of deaths =  0, number of infected = 22263\n",
      "2020-06-24 09:30:45,674 - june.simulator - INFO - Date = 2020-03-29 11:00:00, number of deaths =  0, number of infected = 22373\n",
      "2020-06-24 09:30:46,176 - june.simulator - INFO - Date = 2020-03-30 00:00:00, number of deaths =  0, number of infected = 22527\n",
      "2020-06-24 09:30:47,434 - june.simulator - INFO - Date = 2020-03-30 02:00:00, number of deaths =  0, number of infected = 22557\n",
      "2020-06-24 09:30:48,526 - june.simulator - INFO - Date = 2020-03-30 04:00:00, number of deaths =  0, number of infected = 22615\n",
      "2020-06-24 09:30:49,553 - june.simulator - INFO - Date = 2020-03-30 06:00:00, number of deaths =  0, number of infected = 22665\n",
      "2020-06-24 09:30:50,553 - june.simulator - INFO - Date = 2020-03-30 08:00:00, number of deaths =  0, number of infected = 22707\n",
      "2020-06-24 09:30:50,907 - june.simulator - INFO - Date = 2020-03-30 10:00:00, number of deaths =  0, number of infected = 22743\n",
      "2020-06-24 09:30:51,267 - june.simulator - INFO - Date = 2020-03-31 00:00:00, number of deaths =  0, number of infected = 22790\n",
      "2020-06-24 09:30:52,754 - june.simulator - INFO - Date = 2020-03-31 02:00:00, number of deaths =  0, number of infected = 22797\n",
      "2020-06-24 09:30:54,373 - june.simulator - INFO - Date = 2020-03-31 04:00:00, number of deaths =  0, number of infected = 22818\n",
      "2020-06-24 09:30:55,769 - june.simulator - INFO - Date = 2020-03-31 06:00:00, number of deaths =  0, number of infected = 22838\n",
      "2020-06-24 09:30:56,987 - june.simulator - INFO - Date = 2020-03-31 08:00:00, number of deaths =  0, number of infected = 22853\n",
      "2020-06-24 09:30:57,431 - june.simulator - INFO - Date = 2020-03-31 10:00:00, number of deaths =  0, number of infected = 22869\n",
      "2020-06-24 09:30:57,871 - june.simulator - INFO - Date = 2020-04-01 00:00:00, number of deaths =  0, number of infected = 22893\n",
      "2020-06-24 09:30:58,882 - june.simulator - INFO - Date = 2020-04-01 02:00:00, number of deaths =  0, number of infected = 22893\n",
      "2020-06-24 09:30:59,890 - june.simulator - INFO - Date = 2020-04-01 04:00:00, number of deaths =  0, number of infected = 22896\n",
      "2020-06-24 09:31:00,899 - june.simulator - INFO - Date = 2020-04-01 06:00:00, number of deaths =  0, number of infected = 22902\n",
      "2020-06-24 09:31:01,931 - june.simulator - INFO - Date = 2020-04-01 08:00:00, number of deaths =  0, number of infected = 22903\n",
      "2020-06-24 09:31:02,322 - june.simulator - INFO - Date = 2020-04-01 10:00:00, number of deaths =  0, number of infected = 22897\n",
      "2020-06-24 09:31:02,727 - june.simulator - INFO - Date = 2020-04-02 00:00:00, number of deaths =  0, number of infected = 22893\n",
      "2020-06-24 09:31:03,688 - june.simulator - INFO - Date = 2020-04-02 02:00:00, number of deaths =  0, number of infected = 22893\n",
      "2020-06-24 09:31:04,671 - june.simulator - INFO - Date = 2020-04-02 04:00:00, number of deaths =  0, number of infected = 22894\n",
      "2020-06-24 09:31:06,103 - june.simulator - INFO - Date = 2020-04-02 06:00:00, number of deaths =  0, number of infected = 22892\n",
      "2020-06-24 09:31:07,124 - june.simulator - INFO - Date = 2020-04-02 08:00:00, number of deaths =  0, number of infected = 22892\n",
      "2020-06-24 09:31:07,507 - june.simulator - INFO - Date = 2020-04-02 10:00:00, number of deaths =  0, number of infected = 22890\n",
      "2020-06-24 09:31:07,918 - june.simulator - INFO - Date = 2020-04-03 00:00:00, number of deaths =  1, number of infected = 22872\n",
      "2020-06-24 09:31:08,855 - june.simulator - INFO - Date = 2020-04-03 02:00:00, number of deaths =  1, number of infected = 22869\n",
      "2020-06-24 09:31:09,718 - june.simulator - INFO - Date = 2020-04-03 04:00:00, number of deaths =  1, number of infected = 22868\n",
      "2020-06-24 09:31:10,618 - june.simulator - INFO - Date = 2020-04-03 06:00:00, number of deaths =  1, number of infected = 22865\n",
      "2020-06-24 09:31:11,474 - june.simulator - INFO - Date = 2020-04-03 08:00:00, number of deaths =  1, number of infected = 22860\n",
      "2020-06-24 09:31:11,881 - june.simulator - INFO - Date = 2020-04-03 10:00:00, number of deaths =  1, number of infected = 22857\n",
      "2020-06-24 09:31:12,283 - june.simulator - INFO - Date = 2020-04-04 00:00:00, number of deaths =  2, number of infected = 22820\n",
      "2020-06-24 09:31:13,349 - june.simulator - INFO - Date = 2020-04-04 03:00:00, number of deaths =  2, number of infected = 22815\n",
      "2020-06-24 09:31:14,563 - june.simulator - INFO - Date = 2020-04-04 05:00:00, number of deaths =  2, number of infected = 22809\n",
      "2020-06-24 09:31:15,609 - june.simulator - INFO - Date = 2020-04-04 07:00:00, number of deaths =  2, number of infected = 22803\n",
      "2020-06-24 09:31:16,679 - june.simulator - INFO - Date = 2020-04-04 09:00:00, number of deaths =  2, number of infected = 22801\n",
      "2020-06-24 09:31:17,077 - june.simulator - INFO - Date = 2020-04-04 11:00:00, number of deaths =  2, number of infected = 22789\n",
      "2020-06-24 09:31:17,447 - june.simulator - INFO - Date = 2020-04-05 00:00:00, number of deaths =  3, number of infected = 22726\n",
      "2020-06-24 09:31:18,490 - june.simulator - INFO - Date = 2020-04-05 03:00:00, number of deaths =  3, number of infected = 22714\n",
      "2020-06-24 09:31:19,538 - june.simulator - INFO - Date = 2020-04-05 05:00:00, number of deaths =  3, number of infected = 22704\n",
      "2020-06-24 09:31:20,578 - june.simulator - INFO - Date = 2020-04-05 07:00:00, number of deaths =  3, number of infected = 22698\n",
      "2020-06-24 09:31:21,689 - june.simulator - INFO - Date = 2020-04-05 09:00:00, number of deaths =  3, number of infected = 22685\n",
      "2020-06-24 09:31:22,146 - june.simulator - INFO - Date = 2020-04-05 11:00:00, number of deaths =  3, number of infected = 22675\n",
      "2020-06-24 09:31:22,755 - june.simulator - INFO - Date = 2020-04-06 00:00:00, number of deaths =  3, number of infected = 22596\n",
      "2020-06-24 09:31:23,765 - june.simulator - INFO - Date = 2020-04-06 02:00:00, number of deaths =  3, number of infected = 22585\n",
      "2020-06-24 09:31:24,598 - june.simulator - INFO - Date = 2020-04-06 04:00:00, number of deaths =  3, number of infected = 22565\n",
      "2020-06-24 09:31:25,514 - june.simulator - INFO - Date = 2020-04-06 06:00:00, number of deaths =  3, number of infected = 22548\n",
      "2020-06-24 09:31:26,395 - june.simulator - INFO - Date = 2020-04-06 08:00:00, number of deaths =  3, number of infected = 22528\n",
      "2020-06-24 09:31:26,763 - june.simulator - INFO - Date = 2020-04-06 10:00:00, number of deaths =  3, number of infected = 22499\n",
      "2020-06-24 09:31:27,134 - june.simulator - INFO - Date = 2020-04-07 00:00:00, number of deaths =  3, number of infected = 22304\n",
      "2020-06-24 09:31:28,006 - june.simulator - INFO - Date = 2020-04-07 02:00:00, number of deaths =  3, number of infected = 22279\n",
      "2020-06-24 09:31:28,868 - june.simulator - INFO - Date = 2020-04-07 04:00:00, number of deaths =  3, number of infected = 22244\n",
      "2020-06-24 09:31:29,754 - june.simulator - INFO - Date = 2020-04-07 06:00:00, number of deaths =  3, number of infected = 22212\n",
      "2020-06-24 09:31:30,746 - june.simulator - INFO - Date = 2020-04-07 08:00:00, number of deaths =  3, number of infected = 22175\n",
      "2020-06-24 09:31:31,117 - june.simulator - INFO - Date = 2020-04-07 10:00:00, number of deaths =  3, number of infected = 22130\n",
      "2020-06-24 09:31:31,503 - june.simulator - INFO - Date = 2020-04-08 00:00:00, number of deaths =  4, number of infected = 21869\n",
      "2020-06-24 09:31:32,363 - june.simulator - INFO - Date = 2020-04-08 02:00:00, number of deaths =  4, number of infected = 21828\n",
      "2020-06-24 09:31:33,286 - june.simulator - INFO - Date = 2020-04-08 04:00:00, number of deaths =  4, number of infected = 21791\n",
      "2020-06-24 09:31:34,104 - june.simulator - INFO - Date = 2020-04-08 06:00:00, number of deaths =  4, number of infected = 21748\n",
      "2020-06-24 09:31:35,011 - june.simulator - INFO - Date = 2020-04-08 08:00:00, number of deaths =  4, number of infected = 21706\n",
      "2020-06-24 09:31:35,424 - june.simulator - INFO - Date = 2020-04-08 10:00:00, number of deaths =  4, number of infected = 21671\n",
      "2020-06-24 09:31:35,801 - june.simulator - INFO - Date = 2020-04-09 00:00:00, number of deaths =  4, number of infected = 21289\n",
      "2020-06-24 09:31:36,713 - june.simulator - INFO - Date = 2020-04-09 02:00:00, number of deaths =  4, number of infected = 21234\n",
      "2020-06-24 09:31:37,553 - june.simulator - INFO - Date = 2020-04-09 04:00:00, number of deaths =  4, number of infected = 21169\n",
      "2020-06-24 09:31:38,438 - june.simulator - INFO - Date = 2020-04-09 06:00:00, number of deaths =  4, number of infected = 21098\n",
      "2020-06-24 09:31:39,267 - june.simulator - INFO - Date = 2020-04-09 08:00:00, number of deaths =  4, number of infected = 21038\n",
      "2020-06-24 09:31:39,652 - june.simulator - INFO - Date = 2020-04-09 10:00:00, number of deaths =  4, number of infected = 20977\n",
      "2020-06-24 09:31:40,003 - june.simulator - INFO - Date = 2020-04-10 00:00:00, number of deaths =  4, number of infected = 20457\n",
      "2020-06-24 09:31:41,055 - june.simulator - INFO - Date = 2020-04-10 02:00:00, number of deaths =  4, number of infected = 20357\n",
      "2020-06-24 09:31:41,978 - june.simulator - INFO - Date = 2020-04-10 04:00:00, number of deaths =  4, number of infected = 20286\n",
      "2020-06-24 09:31:42,822 - june.simulator - INFO - Date = 2020-04-10 06:00:00, number of deaths =  4, number of infected = 20221\n",
      "2020-06-24 09:31:43,633 - june.simulator - INFO - Date = 2020-04-10 08:00:00, number of deaths =  4, number of infected = 20146\n",
      "2020-06-24 09:31:44,002 - june.simulator - INFO - Date = 2020-04-10 10:00:00, number of deaths =  4, number of infected = 20076\n",
      "2020-06-24 09:31:44,406 - june.simulator - INFO - Date = 2020-04-11 00:00:00, number of deaths =  5, number of infected = 19407\n",
      "2020-06-24 09:31:45,510 - june.simulator - INFO - Date = 2020-04-11 03:00:00, number of deaths =  5, number of infected = 19272\n",
      "2020-06-24 09:31:46,650 - june.simulator - INFO - Date = 2020-04-11 05:00:00, number of deaths =  5, number of infected = 19175\n",
      "2020-06-24 09:31:47,620 - june.simulator - INFO - Date = 2020-04-11 07:00:00, number of deaths =  5, number of infected = 19082\n",
      "2020-06-24 09:31:48,698 - june.simulator - INFO - Date = 2020-04-11 09:00:00, number of deaths =  6, number of infected = 18980\n",
      "2020-06-24 09:31:49,089 - june.simulator - INFO - Date = 2020-04-11 11:00:00, number of deaths =  6, number of infected = 18881\n",
      "2020-06-24 09:31:49,423 - june.simulator - INFO - Date = 2020-04-12 00:00:00, number of deaths =  6, number of infected = 18213\n",
      "2020-06-24 09:31:50,407 - june.simulator - INFO - Date = 2020-04-12 03:00:00, number of deaths =  6, number of infected = 18059\n",
      "2020-06-24 09:31:51,684 - june.simulator - INFO - Date = 2020-04-12 05:00:00, number of deaths =  6, number of infected = 17953\n",
      "2020-06-24 09:31:52,824 - june.simulator - INFO - Date = 2020-04-12 07:00:00, number of deaths =  6, number of infected = 17847\n",
      "2020-06-24 09:31:53,856 - june.simulator - INFO - Date = 2020-04-12 09:00:00, number of deaths =  6, number of infected = 17747\n",
      "2020-06-24 09:31:54,252 - june.simulator - INFO - Date = 2020-04-12 11:00:00, number of deaths =  6, number of infected = 17647\n",
      "2020-06-24 09:31:54,607 - june.simulator - INFO - Date = 2020-04-13 00:00:00, number of deaths =  6, number of infected = 16916\n",
      "2020-06-24 09:31:55,486 - june.simulator - INFO - Date = 2020-04-13 02:00:00, number of deaths =  6, number of infected = 16817\n",
      "2020-06-24 09:31:56,372 - june.simulator - INFO - Date = 2020-04-13 04:00:00, number of deaths =  6, number of infected = 16718\n",
      "2020-06-24 09:31:57,189 - june.simulator - INFO - Date = 2020-04-13 06:00:00, number of deaths =  6, number of infected = 16624\n",
      "2020-06-24 09:31:58,040 - june.simulator - INFO - Date = 2020-04-13 08:00:00, number of deaths =  6, number of infected = 16509\n",
      "2020-06-24 09:31:58,420 - june.simulator - INFO - Date = 2020-04-13 10:00:00, number of deaths =  6, number of infected = 16392\n",
      "2020-06-24 09:31:58,764 - june.simulator - INFO - Date = 2020-04-14 00:00:00, number of deaths =  6, number of infected = 15557\n",
      "2020-06-24 09:31:59,599 - june.simulator - INFO - Date = 2020-04-14 02:00:00, number of deaths =  6, number of infected = 15418\n",
      "2020-06-24 09:32:00,411 - june.simulator - INFO - Date = 2020-04-14 04:00:00, number of deaths =  6, number of infected = 15295\n",
      "2020-06-24 09:32:01,334 - june.simulator - INFO - Date = 2020-04-14 06:00:00, number of deaths =  6, number of infected = 15183\n",
      "2020-06-24 09:32:02,285 - june.simulator - INFO - Date = 2020-04-14 08:00:00, number of deaths =  6, number of infected = 15075\n",
      "2020-06-24 09:32:02,736 - june.simulator - INFO - Date = 2020-04-14 10:00:00, number of deaths =  6, number of infected = 14979\n",
      "2020-06-24 09:32:03,098 - june.simulator - INFO - Date = 2020-04-15 00:00:00, number of deaths =  6, number of infected = 14176\n",
      "2020-06-24 09:32:03,920 - june.simulator - INFO - Date = 2020-04-15 02:00:00, number of deaths =  6, number of infected = 14073\n",
      "2020-06-24 09:32:04,870 - june.simulator - INFO - Date = 2020-04-15 04:00:00, number of deaths =  6, number of infected = 13954\n",
      "2020-06-24 09:32:05,788 - june.simulator - INFO - Date = 2020-04-15 06:00:00, number of deaths =  6, number of infected = 13833\n",
      "2020-06-24 09:32:06,701 - june.simulator - INFO - Date = 2020-04-15 08:00:00, number of deaths =  7, number of infected = 13706\n",
      "2020-06-24 09:32:07,041 - june.simulator - INFO - Date = 2020-04-15 10:00:00, number of deaths =  7, number of infected = 13601\n",
      "2020-06-24 09:32:07,333 - june.simulator - INFO - Date = 2020-04-16 00:00:00, number of deaths =  8, number of infected = 12836\n",
      "2020-06-24 09:32:08,170 - june.simulator - INFO - Date = 2020-04-16 02:00:00, number of deaths =  8, number of infected = 12738\n",
      "2020-06-24 09:32:09,034 - june.simulator - INFO - Date = 2020-04-16 04:00:00, number of deaths =  8, number of infected = 12616\n",
      "2020-06-24 09:32:09,886 - june.simulator - INFO - Date = 2020-04-16 06:00:00, number of deaths =  8, number of infected = 12498\n",
      "2020-06-24 09:32:10,839 - june.simulator - INFO - Date = 2020-04-16 08:00:00, number of deaths =  8, number of infected = 12384\n",
      "2020-06-24 09:32:11,204 - june.simulator - INFO - Date = 2020-04-16 10:00:00, number of deaths =  8, number of infected = 12287\n",
      "2020-06-24 09:32:11,485 - june.simulator - INFO - Date = 2020-04-17 00:00:00, number of deaths =  8, number of infected = 11531\n",
      "2020-06-24 09:32:12,374 - june.simulator - INFO - Date = 2020-04-17 02:00:00, number of deaths =  8, number of infected = 11425\n",
      "2020-06-24 09:32:13,234 - june.simulator - INFO - Date = 2020-04-17 04:00:00, number of deaths =  8, number of infected = 11313\n",
      "2020-06-24 09:32:14,129 - june.simulator - INFO - Date = 2020-04-17 06:00:00, number of deaths =  8, number of infected = 11202\n",
      "2020-06-24 09:32:15,016 - june.simulator - INFO - Date = 2020-04-17 08:00:00, number of deaths =  8, number of infected = 11097\n",
      "2020-06-24 09:32:15,286 - june.simulator - INFO - Date = 2020-04-17 10:00:00, number of deaths =  8, number of infected = 10980\n",
      "2020-06-24 09:32:15,570 - june.simulator - INFO - Date = 2020-04-18 00:00:00, number of deaths =  9, number of infected = 10223\n",
      "2020-06-24 09:32:16,615 - june.simulator - INFO - Date = 2020-04-18 03:00:00, number of deaths =  9, number of infected = 10054\n",
      "2020-06-24 09:32:17,735 - june.simulator - INFO - Date = 2020-04-18 05:00:00, number of deaths =  9, number of infected = 9933\n",
      "2020-06-24 09:32:19,023 - june.simulator - INFO - Date = 2020-04-18 07:00:00, number of deaths =  9, number of infected = 9824\n",
      "2020-06-24 09:32:20,174 - june.simulator - INFO - Date = 2020-04-18 09:00:00, number of deaths =  9, number of infected = 9730\n",
      "2020-06-24 09:32:20,445 - june.simulator - INFO - Date = 2020-04-18 11:00:00, number of deaths =  9, number of infected = 9615\n",
      "2020-06-24 09:32:20,686 - june.simulator - INFO - Date = 2020-04-19 00:00:00, number of deaths =  9, number of infected = 8930\n",
      "2020-06-24 09:32:21,837 - june.simulator - INFO - Date = 2020-04-19 03:00:00, number of deaths =  9, number of infected = 8774\n",
      "2020-06-24 09:32:22,968 - june.simulator - INFO - Date = 2020-04-19 05:00:00, number of deaths =  9, number of infected = 8682\n",
      "2020-06-24 09:32:24,135 - june.simulator - INFO - Date = 2020-04-19 07:00:00, number of deaths =  9, number of infected = 8583\n",
      "2020-06-24 09:32:25,272 - june.simulator - INFO - Date = 2020-04-19 09:00:00, number of deaths =  9, number of infected = 8482\n",
      "2020-06-24 09:32:25,533 - june.simulator - INFO - Date = 2020-04-19 11:00:00, number of deaths =  9, number of infected = 8372\n",
      "2020-06-24 09:32:25,770 - june.simulator - INFO - Date = 2020-04-20 00:00:00, number of deaths =  10, number of infected = 7686\n",
      "2020-06-24 09:32:26,817 - june.simulator - INFO - Date = 2020-04-20 02:00:00, number of deaths =  10, number of infected = 7590\n",
      "2020-06-24 09:32:27,945 - june.simulator - INFO - Date = 2020-04-20 04:00:00, number of deaths =  10, number of infected = 7493\n",
      "2020-06-24 09:32:28,984 - june.simulator - INFO - Date = 2020-04-20 06:00:00, number of deaths =  10, number of infected = 7400\n",
      "2020-06-24 09:32:29,963 - june.simulator - INFO - Date = 2020-04-20 08:00:00, number of deaths =  10, number of infected = 7315\n",
      "2020-06-24 09:32:30,195 - june.simulator - INFO - Date = 2020-04-20 10:00:00, number of deaths =  10, number of infected = 7221\n",
      "2020-06-24 09:32:30,429 - june.simulator - INFO - Date = 2020-04-21 00:00:00, number of deaths =  11, number of infected = 6477\n",
      "2020-06-24 09:32:31,411 - june.simulator - INFO - Date = 2020-04-21 02:00:00, number of deaths =  11, number of infected = 6369\n",
      "2020-06-24 09:32:32,446 - june.simulator - INFO - Date = 2020-04-21 04:00:00, number of deaths =  11, number of infected = 6271\n",
      "2020-06-24 09:32:33,456 - june.simulator - INFO - Date = 2020-04-21 06:00:00, number of deaths =  11, number of infected = 6172\n",
      "2020-06-24 09:32:34,413 - june.simulator - INFO - Date = 2020-04-21 08:00:00, number of deaths =  11, number of infected = 6074\n",
      "2020-06-24 09:32:34,639 - june.simulator - INFO - Date = 2020-04-21 10:00:00, number of deaths =  11, number of infected = 5976\n",
      "2020-06-24 09:32:34,853 - june.simulator - INFO - Date = 2020-04-22 00:00:00, number of deaths =  11, number of infected = 5300\n",
      "2020-06-24 09:32:35,820 - june.simulator - INFO - Date = 2020-04-22 02:00:00, number of deaths =  11, number of infected = 5196\n",
      "2020-06-24 09:32:36,860 - june.simulator - INFO - Date = 2020-04-22 04:00:00, number of deaths =  11, number of infected = 5104\n",
      "2020-06-24 09:32:37,890 - june.simulator - INFO - Date = 2020-04-22 06:00:00, number of deaths =  11, number of infected = 5007\n",
      "2020-06-24 09:32:38,887 - june.simulator - INFO - Date = 2020-04-22 08:00:00, number of deaths =  11, number of infected = 4914\n",
      "2020-06-24 09:32:39,083 - june.simulator - INFO - Date = 2020-04-22 10:00:00, number of deaths =  11, number of infected = 4809\n",
      "2020-06-24 09:32:39,327 - june.simulator - INFO - Date = 2020-04-23 00:00:00, number of deaths =  11, number of infected = 4159\n",
      "2020-06-24 09:32:40,505 - june.simulator - INFO - Date = 2020-04-23 02:00:00, number of deaths =  11, number of infected = 4075\n",
      "2020-06-24 09:32:41,555 - june.simulator - INFO - Date = 2020-04-23 04:00:00, number of deaths =  11, number of infected = 3989\n",
      "2020-06-24 09:32:42,638 - june.simulator - INFO - Date = 2020-04-23 06:00:00, number of deaths =  11, number of infected = 3890\n",
      "2020-06-24 09:32:43,741 - june.simulator - INFO - Date = 2020-04-23 08:00:00, number of deaths =  11, number of infected = 3820\n",
      "2020-06-24 09:32:43,938 - june.simulator - INFO - Date = 2020-04-23 10:00:00, number of deaths =  11, number of infected = 3730\n",
      "2020-06-24 09:32:44,128 - june.simulator - INFO - Date = 2020-04-24 00:00:00, number of deaths =  11, number of infected = 3181\n",
      "2020-06-24 09:32:45,235 - june.simulator - INFO - Date = 2020-04-24 02:00:00, number of deaths =  11, number of infected = 3095\n",
      "2020-06-24 09:32:46,564 - june.simulator - INFO - Date = 2020-04-24 04:00:00, number of deaths =  11, number of infected = 3025\n",
      "2020-06-24 09:32:47,663 - june.simulator - INFO - Date = 2020-04-24 06:00:00, number of deaths =  11, number of infected = 2941\n",
      "2020-06-24 09:32:48,789 - june.simulator - INFO - Date = 2020-04-24 08:00:00, number of deaths =  11, number of infected = 2880\n",
      "2020-06-24 09:32:48,968 - june.simulator - INFO - Date = 2020-04-24 10:00:00, number of deaths =  11, number of infected = 2803\n",
      "2020-06-24 09:32:49,138 - june.simulator - INFO - Date = 2020-04-25 00:00:00, number of deaths =  11, number of infected = 2348\n",
      "2020-06-24 09:32:50,488 - june.simulator - INFO - Date = 2020-04-25 03:00:00, number of deaths =  11, number of infected = 2258\n",
      "2020-06-24 09:32:51,833 - june.simulator - INFO - Date = 2020-04-25 05:00:00, number of deaths =  11, number of infected = 2189\n",
      "2020-06-24 09:32:53,237 - june.simulator - INFO - Date = 2020-04-25 07:00:00, number of deaths =  11, number of infected = 2132\n",
      "2020-06-24 09:32:54,686 - june.simulator - INFO - Date = 2020-04-25 09:00:00, number of deaths =  11, number of infected = 2052\n",
      "2020-06-24 09:32:54,850 - june.simulator - INFO - Date = 2020-04-25 11:00:00, number of deaths =  11, number of infected = 2002\n",
      "2020-06-24 09:32:55,015 - june.simulator - INFO - Date = 2020-04-26 00:00:00, number of deaths =  11, number of infected = 1663\n",
      "2020-06-24 09:32:56,471 - june.simulator - INFO - Date = 2020-04-26 03:00:00, number of deaths =  11, number of infected = 1593\n",
      "2020-06-24 09:32:57,971 - june.simulator - INFO - Date = 2020-04-26 05:00:00, number of deaths =  11, number of infected = 1539\n",
      "2020-06-24 09:32:59,503 - june.simulator - INFO - Date = 2020-04-26 07:00:00, number of deaths =  11, number of infected = 1493\n",
      "2020-06-24 09:33:00,890 - june.simulator - INFO - Date = 2020-04-26 09:00:00, number of deaths =  11, number of infected = 1431\n",
      "2020-06-24 09:33:01,040 - june.simulator - INFO - Date = 2020-04-26 11:00:00, number of deaths =  11, number of infected = 1383\n",
      "2020-06-24 09:33:01,179 - june.simulator - INFO - Date = 2020-04-27 00:00:00, number of deaths =  11, number of infected = 1139\n",
      "2020-06-24 09:33:02,319 - june.simulator - INFO - Date = 2020-04-27 02:00:00, number of deaths =  11, number of infected = 1104\n",
      "2020-06-24 09:33:03,439 - june.simulator - INFO - Date = 2020-04-27 04:00:00, number of deaths =  11, number of infected = 1072\n",
      "2020-06-24 09:33:04,536 - june.simulator - INFO - Date = 2020-04-27 06:00:00, number of deaths =  11, number of infected = 1040\n",
      "2020-06-24 09:33:05,617 - june.simulator - INFO - Date = 2020-04-27 08:00:00, number of deaths =  11, number of infected = 1010\n",
      "2020-06-24 09:33:05,768 - june.simulator - INFO - Date = 2020-04-27 10:00:00, number of deaths =  11, number of infected = 983\n",
      "2020-06-24 09:33:05,889 - june.simulator - INFO - Date = 2020-04-28 00:00:00, number of deaths =  11, number of infected = 787\n",
      "2020-06-24 09:33:07,105 - june.simulator - INFO - Date = 2020-04-28 02:00:00, number of deaths =  11, number of infected = 760\n",
      "2020-06-24 09:33:08,204 - june.simulator - INFO - Date = 2020-04-28 04:00:00, number of deaths =  11, number of infected = 726\n",
      "2020-06-24 09:33:09,299 - june.simulator - INFO - Date = 2020-04-28 06:00:00, number of deaths =  11, number of infected = 704\n",
      "2020-06-24 09:33:10,360 - june.simulator - INFO - Date = 2020-04-28 08:00:00, number of deaths =  11, number of infected = 675\n",
      "2020-06-24 09:33:10,511 - june.simulator - INFO - Date = 2020-04-28 10:00:00, number of deaths =  11, number of infected = 648\n",
      "2020-06-24 09:33:10,650 - june.simulator - INFO - Date = 2020-04-29 00:00:00, number of deaths =  11, number of infected = 508\n",
      "2020-06-24 09:33:11,733 - june.simulator - INFO - Date = 2020-04-29 02:00:00, number of deaths =  11, number of infected = 488\n",
      "2020-06-24 09:33:12,893 - june.simulator - INFO - Date = 2020-04-29 04:00:00, number of deaths =  11, number of infected = 465\n",
      "2020-06-24 09:33:13,938 - june.simulator - INFO - Date = 2020-04-29 06:00:00, number of deaths =  11, number of infected = 447\n",
      "2020-06-24 09:33:15,070 - june.simulator - INFO - Date = 2020-04-29 08:00:00, number of deaths =  11, number of infected = 437\n",
      "2020-06-24 09:33:15,204 - june.simulator - INFO - Date = 2020-04-29 10:00:00, number of deaths =  11, number of infected = 416\n",
      "2020-06-24 09:33:15,321 - june.simulator - INFO - Date = 2020-04-30 00:00:00, number of deaths =  11, number of infected = 318\n",
      "2020-06-24 09:33:16,377 - june.simulator - INFO - Date = 2020-04-30 02:00:00, number of deaths =  11, number of infected = 307\n",
      "2020-06-24 09:33:17,510 - june.simulator - INFO - Date = 2020-04-30 04:00:00, number of deaths =  11, number of infected = 290\n",
      "2020-06-24 09:33:18,603 - june.simulator - INFO - Date = 2020-04-30 06:00:00, number of deaths =  11, number of infected = 278\n",
      "2020-06-24 09:33:19,656 - june.simulator - INFO - Date = 2020-04-30 08:00:00, number of deaths =  11, number of infected = 273\n",
      "2020-06-24 09:33:19,780 - june.simulator - INFO - Date = 2020-04-30 10:00:00, number of deaths =  11, number of infected = 264\n",
      "2020-06-24 09:33:19,914 - june.simulator - INFO - Date = 2020-05-01 00:00:00, number of deaths =  11, number of infected = 186\n",
      "2020-06-24 09:33:20,963 - june.simulator - INFO - Date = 2020-05-01 02:00:00, number of deaths =  11, number of infected = 174\n",
      "2020-06-24 09:33:22,039 - june.simulator - INFO - Date = 2020-05-01 04:00:00, number of deaths =  11, number of infected = 169\n",
      "2020-06-24 09:33:23,319 - june.simulator - INFO - Date = 2020-05-01 06:00:00, number of deaths =  11, number of infected = 161\n",
      "2020-06-24 09:33:24,429 - june.simulator - INFO - Date = 2020-05-01 08:00:00, number of deaths =  11, number of infected = 152\n",
      "2020-06-24 09:33:24,554 - june.simulator - INFO - Date = 2020-05-01 10:00:00, number of deaths =  11, number of infected = 142\n",
      "2020-06-24 09:33:24,678 - june.simulator - INFO - Date = 2020-05-02 00:00:00, number of deaths =  11, number of infected = 109\n",
      "2020-06-24 09:33:26,096 - june.simulator - INFO - Date = 2020-05-02 03:00:00, number of deaths =  11, number of infected = 100\n",
      "2020-06-24 09:33:27,455 - june.simulator - INFO - Date = 2020-05-02 05:00:00, number of deaths =  11, number of infected = 99\n",
      "2020-06-24 09:33:28,780 - june.simulator - INFO - Date = 2020-05-02 07:00:00, number of deaths =  11, number of infected = 96\n",
      "2020-06-24 09:33:30,096 - june.simulator - INFO - Date = 2020-05-02 09:00:00, number of deaths =  11, number of infected = 94\n",
      "2020-06-24 09:33:30,213 - june.simulator - INFO - Date = 2020-05-02 11:00:00, number of deaths =  11, number of infected = 90\n",
      "2020-06-24 09:33:30,330 - june.simulator - INFO - Date = 2020-05-03 00:00:00, number of deaths =  11, number of infected = 66\n",
      "2020-06-24 09:33:32,536 - june.simulator - INFO - Date = 2020-05-03 03:00:00, number of deaths =  11, number of infected = 64\n",
      "2020-06-24 09:33:34,884 - june.simulator - INFO - Date = 2020-05-03 05:00:00, number of deaths =  11, number of infected = 59\n",
      "2020-06-24 09:33:36,655 - june.simulator - INFO - Date = 2020-05-03 07:00:00, number of deaths =  11, number of infected = 54\n",
      "2020-06-24 09:33:38,174 - june.simulator - INFO - Date = 2020-05-03 09:00:00, number of deaths =  11, number of infected = 54\n",
      "2020-06-24 09:33:38,378 - june.simulator - INFO - Date = 2020-05-03 11:00:00, number of deaths =  11, number of infected = 52\n",
      "2020-06-24 09:33:38,540 - june.simulator - INFO - Date = 2020-05-04 00:00:00, number of deaths =  11, number of infected = 41\n",
      "2020-06-24 09:33:39,621 - june.simulator - INFO - Date = 2020-05-04 02:00:00, number of deaths =  11, number of infected = 41\n",
      "2020-06-24 09:33:40,877 - june.simulator - INFO - Date = 2020-05-04 04:00:00, number of deaths =  11, number of infected = 37\n",
      "2020-06-24 09:33:41,840 - june.simulator - INFO - Date = 2020-05-04 06:00:00, number of deaths =  11, number of infected = 35\n",
      "2020-06-24 09:33:42,863 - june.simulator - INFO - Date = 2020-05-04 08:00:00, number of deaths =  11, number of infected = 32\n",
      "2020-06-24 09:33:42,959 - june.simulator - INFO - Date = 2020-05-04 10:00:00, number of deaths =  11, number of infected = 30\n",
      "2020-06-24 09:33:43,056 - june.simulator - INFO - Date = 2020-05-05 00:00:00, number of deaths =  12, number of infected = 18\n",
      "2020-06-24 09:33:43,899 - june.simulator - INFO - Date = 2020-05-05 02:00:00, number of deaths =  12, number of infected = 18\n",
      "2020-06-24 09:33:44,851 - june.simulator - INFO - Date = 2020-05-05 04:00:00, number of deaths =  12, number of infected = 17\n",
      "2020-06-24 09:33:45,657 - june.simulator - INFO - Date = 2020-05-05 06:00:00, number of deaths =  12, number of infected = 16\n",
      "2020-06-24 09:33:46,430 - june.simulator - INFO - Date = 2020-05-05 08:00:00, number of deaths =  12, number of infected = 16\n",
      "2020-06-24 09:33:46,525 - june.simulator - INFO - Date = 2020-05-05 10:00:00, number of deaths =  12, number of infected = 15\n",
      "2020-06-24 09:33:46,616 - june.simulator - INFO - Date = 2020-05-06 00:00:00, number of deaths =  12, number of infected = 10\n",
      "2020-06-24 09:33:47,470 - june.simulator - INFO - Date = 2020-05-06 02:00:00, number of deaths =  12, number of infected = 10\n",
      "2020-06-24 09:33:48,279 - june.simulator - INFO - Date = 2020-05-06 04:00:00, number of deaths =  12, number of infected = 10\n",
      "2020-06-24 09:33:49,322 - june.simulator - INFO - Date = 2020-05-06 06:00:00, number of deaths =  12, number of infected = 10\n",
      "2020-06-24 09:33:50,163 - june.simulator - INFO - Date = 2020-05-06 08:00:00, number of deaths =  12, number of infected = 9\n",
      "2020-06-24 09:33:50,257 - june.simulator - INFO - Date = 2020-05-06 10:00:00, number of deaths =  12, number of infected = 9\n",
      "2020-06-24 09:33:50,349 - june.simulator - INFO - Date = 2020-05-07 00:00:00, number of deaths =  12, number of infected = 7\n",
      "2020-06-24 09:33:51,139 - june.simulator - INFO - Date = 2020-05-07 02:00:00, number of deaths =  12, number of infected = 7\n",
      "2020-06-24 09:33:52,211 - june.simulator - INFO - Date = 2020-05-07 04:00:00, number of deaths =  12, number of infected = 7\n",
      "2020-06-24 09:33:53,155 - june.simulator - INFO - Date = 2020-05-07 06:00:00, number of deaths =  12, number of infected = 5\n",
      "2020-06-24 09:33:53,984 - june.simulator - INFO - Date = 2020-05-07 08:00:00, number of deaths =  12, number of infected = 5\n",
      "2020-06-24 09:33:54,082 - june.simulator - INFO - Date = 2020-05-07 10:00:00, number of deaths =  12, number of infected = 5\n",
      "2020-06-24 09:33:54,197 - june.simulator - INFO - Date = 2020-05-08 00:00:00, number of deaths =  12, number of infected = 3\n",
      "2020-06-24 09:33:55,342 - june.simulator - INFO - Date = 2020-05-08 02:00:00, number of deaths =  12, number of infected = 3\n",
      "2020-06-24 09:33:56,198 - june.simulator - INFO - Date = 2020-05-08 04:00:00, number of deaths =  12, number of infected = 3\n",
      "2020-06-24 09:33:57,284 - june.simulator - INFO - Date = 2020-05-08 06:00:00, number of deaths =  12, number of infected = 3\n",
      "2020-06-24 09:33:58,396 - june.simulator - INFO - Date = 2020-05-08 08:00:00, number of deaths =  12, number of infected = 3\n",
      "2020-06-24 09:33:58,493 - june.simulator - INFO - Date = 2020-05-08 10:00:00, number of deaths =  12, number of infected = 3\n",
      "2020-06-24 09:33:58,591 - june.simulator - INFO - Date = 2020-05-09 00:00:00, number of deaths =  12, number of infected = 2\n",
      "2020-06-24 09:33:59,587 - june.simulator - INFO - Date = 2020-05-09 03:00:00, number of deaths =  12, number of infected = 2\n",
      "2020-06-24 09:34:00,767 - june.simulator - INFO - Date = 2020-05-09 05:00:00, number of deaths =  12, number of infected = 2\n",
      "2020-06-24 09:34:01,751 - june.simulator - INFO - Date = 2020-05-09 07:00:00, number of deaths =  12, number of infected = 2\n",
      "2020-06-24 09:34:02,780 - june.simulator - INFO - Date = 2020-05-09 09:00:00, number of deaths =  12, number of infected = 2\n",
      "2020-06-24 09:34:02,884 - june.simulator - INFO - Date = 2020-05-09 11:00:00, number of deaths =  12, number of infected = 2\n",
      "2020-06-24 09:34:02,973 - june.simulator - INFO - Date = 2020-05-10 00:00:00, number of deaths =  12, number of infected = 1\n",
      "2020-06-24 09:34:03,980 - june.simulator - INFO - Date = 2020-05-10 03:00:00, number of deaths =  12, number of infected = 1\n",
      "2020-06-24 09:34:04,983 - june.simulator - INFO - Date = 2020-05-10 05:00:00, number of deaths =  12, number of infected = 1\n",
      "2020-06-24 09:34:05,988 - june.simulator - INFO - Date = 2020-05-10 07:00:00, number of deaths =  12, number of infected = 1\n",
      "2020-06-24 09:34:06,978 - june.simulator - INFO - Date = 2020-05-10 09:00:00, number of deaths =  12, number of infected = 1\n",
      "2020-06-24 09:34:07,073 - june.simulator - INFO - Date = 2020-05-10 11:00:00, number of deaths =  12, number of infected = 1\n",
      "2020-06-24 09:34:07,169 - june.simulator - INFO - Date = 2020-05-11 00:00:00, number of deaths =  12, number of infected = 1\n",
      "2020-06-24 09:34:07,971 - june.simulator - INFO - Date = 2020-05-11 02:00:00, number of deaths =  12, number of infected = 1\n",
      "2020-06-24 09:34:08,761 - june.simulator - INFO - Date = 2020-05-11 04:00:00, number of deaths =  12, number of infected = 1\n",
      "2020-06-24 09:34:09,574 - june.simulator - INFO - Date = 2020-05-11 06:00:00, number of deaths =  12, number of infected = 1\n",
      "2020-06-24 09:34:10,331 - june.simulator - INFO - Date = 2020-05-11 08:00:00, number of deaths =  12, number of infected = 1\n",
      "2020-06-24 09:34:10,426 - june.simulator - INFO - Date = 2020-05-11 10:00:00, number of deaths =  12, number of infected = 1\n",
      "2020-06-24 09:34:10,518 - june.simulator - INFO - Date = 2020-05-12 00:00:00, number of deaths =  12, number of infected = 1\n",
      "2020-06-24 09:34:11,367 - june.simulator - INFO - Date = 2020-05-12 02:00:00, number of deaths =  12, number of infected = 1\n",
      "2020-06-24 09:34:12,232 - june.simulator - INFO - Date = 2020-05-12 04:00:00, number of deaths =  12, number of infected = 1\n",
      "2020-06-24 09:34:13,856 - june.simulator - INFO - Date = 2020-05-12 06:00:00, number of deaths =  12, number of infected = 1\n",
      "2020-06-24 09:34:15,119 - june.simulator - INFO - Date = 2020-05-12 08:00:00, number of deaths =  12, number of infected = 1\n",
      "2020-06-24 09:34:15,221 - june.simulator - INFO - Date = 2020-05-12 10:00:00, number of deaths =  12, number of infected = 1\n",
      "2020-06-24 09:34:15,316 - june.simulator - INFO - Date = 2020-05-13 00:00:00, number of deaths =  12, number of infected = 0\n",
      "2020-06-24 09:34:16,732 - june.simulator - INFO - Date = 2020-05-13 02:00:00, number of deaths =  12, number of infected = 0\n",
      "2020-06-24 09:34:18,330 - june.simulator - INFO - Date = 2020-05-13 04:00:00, number of deaths =  12, number of infected = 0\n",
      "2020-06-24 09:34:19,789 - june.simulator - INFO - Date = 2020-05-13 06:00:00, number of deaths =  12, number of infected = 0\n",
      "2020-06-24 09:34:21,307 - june.simulator - INFO - Date = 2020-05-13 08:00:00, number of deaths =  12, number of infected = 0\n",
      "2020-06-24 09:34:21,447 - june.simulator - INFO - Date = 2020-05-13 10:00:00, number of deaths =  12, number of infected = 0\n",
      "2020-06-24 09:34:21,569 - june.simulator - INFO - Date = 2020-05-14 00:00:00, number of deaths =  12, number of infected = 0\n",
      "2020-06-24 09:34:22,465 - june.simulator - INFO - Date = 2020-05-14 02:00:00, number of deaths =  12, number of infected = 0\n",
      "2020-06-24 09:34:23,389 - june.simulator - INFO - Date = 2020-05-14 04:00:00, number of deaths =  12, number of infected = 0\n",
      "2020-06-24 09:34:24,259 - june.simulator - INFO - Date = 2020-05-14 06:00:00, number of deaths =  12, number of infected = 0\n",
      "2020-06-24 09:34:25,175 - june.simulator - INFO - Date = 2020-05-14 08:00:00, number of deaths =  12, number of infected = 0\n",
      "2020-06-24 09:34:25,300 - june.simulator - INFO - Date = 2020-05-14 10:00:00, number of deaths =  12, number of infected = 0\n",
      "2020-06-24 09:34:25,405 - june.simulator - INFO - Date = 2020-05-15 00:00:00, number of deaths =  12, number of infected = 0\n",
      "2020-06-24 09:34:26,247 - june.simulator - INFO - Date = 2020-05-15 02:00:00, number of deaths =  12, number of infected = 0\n",
      "2020-06-24 09:34:27,301 - june.simulator - INFO - Date = 2020-05-15 04:00:00, number of deaths =  12, number of infected = 0\n",
      "2020-06-24 09:34:28,163 - june.simulator - INFO - Date = 2020-05-15 06:00:00, number of deaths =  12, number of infected = 0\n",
      "2020-06-24 09:34:29,065 - june.simulator - INFO - Date = 2020-05-15 08:00:00, number of deaths =  12, number of infected = 0\n",
      "2020-06-24 09:34:29,165 - june.simulator - INFO - Date = 2020-05-15 10:00:00, number of deaths =  12, number of infected = 0\n",
      "2020-06-24 09:34:29,266 - june.simulator - INFO - Date = 2020-05-16 00:00:00, number of deaths =  12, number of infected = 0\n",
      "CPU times: user 5min 48s, sys: 958 ms, total: 5min 49s\n",
      "Wall time: 5min 54s\n"
     ]
    }
   ],
   "source": [
    "%%time\n",
    "simulator.run()"
   ]
  },
  {
   "cell_type": "markdown",
   "metadata": {},
   "source": [
    "# Getting the results"
   ]
  },
  {
   "cell_type": "markdown",
   "metadata": {},
   "source": [
    "All results are stored in a json file specified in the ``save_path`` variable in the config file. We can also access it from ``world.logger`` directly."
   ]
  },
  {
   "cell_type": "code",
   "execution_count": 41,
   "metadata": {},
   "outputs": [],
   "source": [
    "import pandas as pd\n",
    "read = ReadLogger(load_real=False)"
   ]
  },
  {
   "cell_type": "code",
   "execution_count": 42,
   "metadata": {},
   "outputs": [],
   "source": [
    "loc_df = read.get_locations_infections()"
   ]
  },
  {
   "cell_type": "code",
   "execution_count": 43,
   "metadata": {},
   "outputs": [
    {
     "data": {
      "text/plain": [
       "Text(0.5, 0, 'location')"
      ]
     },
     "execution_count": 43,
     "metadata": {},
     "output_type": "execute_result"
    },
    {
     "data": {
      "image/png": "[encoded data removed]",
      "text/plain": [
       "<Figure size 432x288 with 1 Axes>"
      ]
     },
     "metadata": {
      "needs_background": "light"
     },
     "output_type": "display_data"
    }
   ],
   "source": [
    "import matplotlib.ticker as mtick\n",
    "\n",
    "ax = loc_df['percentage_infections'].sort_values().plot.bar()\n",
    "ax.yaxis.set_major_formatter(mtick.PercentFormatter())\n",
    "plt.ylabel('Percentage of infections at location')\n",
    "plt.xlabel('location')"
   ]
  },
  {
   "cell_type": "code",
   "execution_count": 44,
   "metadata": {},
   "outputs": [
    {
     "data": {
      "text/plain": [
       "<matplotlib.legend.Legend at 0x7fd0201dfa00>"
      ]
     },
     "execution_count": 44,
     "metadata": {},
     "output_type": "execute_result"
    },
    {
     "data": {
      "image/png": "[encoded data removed]",
      "text/plain": [
       "<Figure size 432x288 with 1 Axes>"
      ]
     },
     "metadata": {
      "needs_background": "light"
     },
     "output_type": "display_data"
    }
   ],
   "source": [
    "world_df = read.world_summary()\n",
    "world_df.plot()\n",
    "#plt.axvspan(policies.social_distancing_start, \n",
    "#            policies.social_distancing_end,\n",
    "#            facecolor='y', alpha=0.2)\n",
    "plt.legend()"
   ]
  },
  {
   "cell_type": "code",
   "execution_count": null,
   "metadata": {},
   "outputs": [],
   "source": []
  },
  {
   "cell_type": "code",
   "execution_count": null,
   "metadata": {},
   "outputs": [],
   "source": []
  }
 ],
 "metadata": {
  "kernelspec": {
   "display_name": "Python 3",
   "language": "python",
   "name": "python3"
  },
  "language_info": {
   "codemirror_mode": {
    "name": "ipython",
    "version": 3
   },
   "file_extension": ".py",
   "mimetype": "text/x-python",
   "name": "python",
   "nbconvert_exporter": "python",
   "pygments_lexer": "ipython3",
   "version": "3.8.3"
  }
 },
 "nbformat": 4,
 "nbformat_minor": 4
}
