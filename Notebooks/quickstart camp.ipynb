{
 "cells": [
  {
   "cell_type": "code",
   "execution_count": 1,
   "metadata": {},
   "outputs": [],
   "source": [
    "%load_ext autoreload\n",
    "%autoreload 2"
   ]
  },
  {
   "cell_type": "code",
   "execution_count": 2,
   "metadata": {},
   "outputs": [],
   "source": [
    "import warnings\n",
    "warnings.filterwarnings('ignore')"
   ]
  },
  {
   "cell_type": "code",
   "execution_count": 3,
   "metadata": {},
   "outputs": [],
   "source": [
    "import numpy as np\n",
    "import pandas as pd\n",
    "import time\n",
    "import matplotlib.pyplot as plt\n",
    "import seaborn as sns\n",
    "from datetime import datetime\n",
    "import sys\n",
    "import argparse\n",
    "from pathlib import Path\n",
    "sns.set_context('notebook')"
   ]
  },
  {
   "cell_type": "code",
   "execution_count": 5,
   "metadata": {},
   "outputs": [],
   "source": [
    "from june.geography import Geography\n",
    "from june.demography.demography import (\n",
    "    load_age_and_sex_generators_for_bins,\n",
    "    Demography,\n",
    "    Population,\n",
    "    load_comorbidity_data,\n",
    "    generate_comorbidity,\n",
    ")\n",
    "from june.paths import data_path, configs_path\n",
    "from june.infection import Infection, HealthIndexGenerator\n",
    "from june.infection_seed import InfectionSeed\n",
    "from june.infection import InfectionSelector\n",
    "from june.interaction import Interaction\n",
    "from june.groups import Hospital, Hospitals, Cemeteries\n",
    "from june.distributors import HospitalDistributor\n",
    "from june.hdf5_savers import generate_world_from_hdf5\n",
    "from june.policy import Policy, Policies\n",
    "from june.records import Record\n",
    "from june.simulator import Simulator\n",
    "from june.records import Record, RecordReader\n",
    "\n",
    "from camps.activity import CampActivityManager\n",
    "from camps.paths import camp_data_path, camp_configs_path\n",
    "from camps.world import World\n",
    "from camps.groups.leisure import generate_leisure_for_world, generate_leisure_for_config\n",
    "from camps.camp_creation import (\n",
    "    generate_empty_world,\n",
    "    populate_world,\n",
    "    distribute_people_to_households,\n",
    ")  # this is loaded from the ../camp_scripts folder"
   ]
  },
  {
   "cell_type": "code",
   "execution_count": 6,
   "metadata": {},
   "outputs": [],
   "source": [
    "from camps.groups import PumpLatrines, PumpLatrineDistributor\n",
    "from camps.groups import DistributionCenters, DistributionCenterDistributor\n",
    "from camps.groups import Communals, CommunalDistributor\n",
    "from camps.groups import FemaleCommunals, FemaleCommunalDistributor\n",
    "from camps.groups import Religiouss, ReligiousDistributor\n",
    "from camps.groups import Shelter, Shelters, ShelterDistributor\n",
    "from camps.groups import IsolationUnit, IsolationUnits\n",
    "from camps.groups import LearningCenters\n",
    "from camps.distributors import LearningCenterDistributor\n",
    "from camps.groups import PlayGroups, PlayGroupDistributor\n",
    "from camps.groups import EVouchers, EVoucherDistributor\n",
    "from camps.groups import NFDistributionCenters, NFDistributionCenterDistributor\n",
    "from camps.groups import SheltersVisitsDistributor"
   ]
  },
  {
   "cell_type": "markdown",
   "metadata": {},
   "source": [
    "## Initialize the world"
   ]
  },
  {
   "cell_type": "markdown",
   "metadata": {},
   "source": [
    "When we create the camp to be simulated, we call this the 'world'. The world is initialised after specifying which geographical regions you want to simulate. We can do this by using the `filter_key` argument in the `generate_empty_world` function. Cox's Bazar Expansion Site is made up of camps (which we call regions), UNHCR blocks (which we call super areas) and Mahjee blocks (which we call areas). These are the 3 heirarchical levels on which our model works. You can pass lists of the regions/super_areas/areas to the function here. Alternatively, by leaving the function empty you can generate the entire Cox's Bazar Expansion Site consisting of 112 super areas."
   ]
  },
  {
   "cell_type": "code",
   "execution_count": 7,
   "metadata": {},
   "outputs": [
    {
     "name": "stdout",
     "output_type": "stream",
     "text": [
      "2020-10-12 17:11:29,045 - june.geography.geography - INFO - There are 65 areas and 4 super_areas and 1 in the world.\n"
     ]
    }
   ],
   "source": [
    "# create empty world's geography\n",
    "world = generate_empty_world(filter_key = {\"region\" : [\"CXB-219\"]})"
   ]
  },
  {
   "cell_type": "code",
   "execution_count": 8,
   "metadata": {},
   "outputs": [],
   "source": [
    "# populate empty world\n",
    "populate_world(world)"
   ]
  },
  {
   "cell_type": "code",
   "execution_count": 9,
   "metadata": {},
   "outputs": [],
   "source": [
    "# distribute people to households\n",
    "distribute_people_to_households(world)"
   ]
  },
  {
   "cell_type": "code",
   "execution_count": 12,
   "metadata": {},
   "outputs": [
    {
     "name": "stdout",
     "output_type": "stream",
     "text": [
      "2020-10-12 17:12:20,668 - june.groups.hospital - INFO - There are 8 hospitals in the world.\n"
     ]
    }
   ],
   "source": [
    "# distirbute hospitals\n",
    "hospitals = Hospitals.from_file(\n",
    "    filename=camp_data_path / \"input/hospitals/hospitals.csv\"\n",
    ")\n",
    "for hospital in hospitals:\n",
    "    hospital.area = world.areas.get_closest_area(hospital.coordinates)\n",
    "world.hospitals = hospitals\n",
    "hospital_distributor = HospitalDistributor(\n",
    "    hospitals, medic_min_age=20, patients_per_medic=10\n",
    ")\n",
    "hospital_distributor.assign_closest_hospitals_to_super_areas(\n",
    "    world.super_areas\n",
    ")\n",
    "hospital_distributor.distribute_medics_from_world(world.people)"
   ]
  },
  {
   "cell_type": "code",
   "execution_count": 13,
   "metadata": {},
   "outputs": [
    {
     "name": "stdout",
     "output_type": "stream",
     "text": [
      "2020-10-12 17:12:35,740 - june.groups.leisure.social_venue - INFO - Domain 0 has 225 pump_latrines(s)\n",
      "2020-10-12 17:12:35,763 - june.groups.leisure.social_venue - INFO - Domain 0 has 506 play_groups(s)\n",
      "2020-10-12 17:12:35,769 - june.groups.leisure.social_venue - INFO - Domain 0 has 7 distribution_centers(s)\n",
      "2020-10-12 17:12:35,802 - june.groups.leisure.social_venue - INFO - Domain 0 has 125 communals(s)\n",
      "2020-10-12 17:12:35,821 - june.groups.leisure.social_venue - INFO - Domain 0 has 67 female_communals(s)\n",
      "2020-10-12 17:12:36,216 - june.groups.leisure.social_venue - INFO - Domain 0 has 2064 religiouss(s)\n",
      "2020-10-12 17:12:36,226 - june.groups.leisure.social_venue - INFO - Domain 0 has 7 e_vouchers(s)\n",
      "2020-10-12 17:12:36,236 - june.groups.leisure.social_venue - INFO - Domain 0 has 36 n_f_distribution_centers(s)\n"
     ]
    }
   ],
   "source": [
    "world.pump_latrines = PumpLatrines.for_areas(world.areas)\n",
    "world.play_groups = PlayGroups.for_areas(world.areas)\n",
    "world.distribution_centers = DistributionCenters.for_areas(world.areas)\n",
    "world.communals = Communals.for_areas(world.areas)\n",
    "world.female_communals = FemaleCommunals.for_areas(world.areas)\n",
    "world.religiouss = Religiouss.for_areas(world.areas)\n",
    "world.e_vouchers = EVouchers.for_areas(world.areas)\n",
    "world.n_f_distribution_centers = NFDistributionCenters.for_areas(world.areas)"
   ]
  },
  {
   "cell_type": "code",
   "execution_count": 14,
   "metadata": {},
   "outputs": [],
   "source": [
    "world.cemeteries = Cemeteries()"
   ]
  },
  {
   "cell_type": "markdown",
   "metadata": {},
   "source": [
    "## Geography exploration"
   ]
  },
  {
   "cell_type": "markdown",
   "metadata": {},
   "source": [
    "The geography is initialised first and can be explored."
   ]
  },
  {
   "cell_type": "markdown",
   "metadata": {},
   "source": [
    "### UNHCR camp blocks inside the World"
   ]
  },
  {
   "cell_type": "code",
   "execution_count": 19,
   "metadata": {},
   "outputs": [],
   "source": [
    "super_areas = []\n",
    "for super_area in world.super_areas:\n",
    "    super_areas.append(super_area.name)"
   ]
  },
  {
   "cell_type": "code",
   "execution_count": 20,
   "metadata": {},
   "outputs": [
    {
     "data": {
      "text/plain": [
       "['CXB-219-A', 'CXB-219-B', 'CXB-219-C', 'CXB-219-D']"
      ]
     },
     "execution_count": 20,
     "metadata": {},
     "output_type": "execute_result"
    }
   ],
   "source": [
    "super_areas[:5]"
   ]
  },
  {
   "cell_type": "markdown",
   "metadata": {},
   "source": [
    "### Mahjee blocks inside World"
   ]
  },
  {
   "cell_type": "code",
   "execution_count": 21,
   "metadata": {},
   "outputs": [],
   "source": [
    "areas = []\n",
    "for area in world.areas:\n",
    "    areas.append(area.name)"
   ]
  },
  {
   "cell_type": "code",
   "execution_count": 22,
   "metadata": {},
   "outputs": [
    {
     "data": {
      "text/plain": [
       "['CXB-219-001', 'CXB-219-002', 'CXB-219-003', 'CXB-219-004', 'CXB-219-005']"
      ]
     },
     "execution_count": 22,
     "metadata": {},
     "output_type": "execute_result"
    }
   ],
   "source": [
    "areas[:5]"
   ]
  },
  {
   "cell_type": "markdown",
   "metadata": {},
   "source": [
    "## Demography exploration"
   ]
  },
  {
   "cell_type": "markdown",
   "metadata": {},
   "source": [
    "Once we have populated the 'digital twin' we can explore some of the attributes of the people we have created in the simulation."
   ]
  },
  {
   "cell_type": "markdown",
   "metadata": {},
   "source": [
    "### UNHCR block residents"
   ]
  },
  {
   "cell_type": "code",
   "execution_count": 23,
   "metadata": {},
   "outputs": [],
   "source": [
    "sample_ages = []\n",
    "sample_sexes = []\n",
    "for person in world.super_areas.members[0].people:\n",
    "    sample_ages.append(person.age)\n",
    "    sample_sexes.append(person.sex)"
   ]
  },
  {
   "cell_type": "code",
   "execution_count": 24,
   "metadata": {},
   "outputs": [
    {
     "data": {
      "text/plain": [
       "(['f', 'm', 'm', 'f', 'm'], [45, 17, 39, 55, 59])"
      ]
     },
     "execution_count": 24,
     "metadata": {},
     "output_type": "execute_result"
    }
   ],
   "source": [
    "sample_sexes[:5], sample_ages[:5]"
   ]
  },
  {
   "cell_type": "code",
   "execution_count": 25,
   "metadata": {},
   "outputs": [
    {
     "data": {
      "image/png": "[encoded data removed]",
      "text/plain": [
       "<Figure size 432x288 with 1 Axes>"
      ]
     },
     "metadata": {
      "needs_background": "light"
     },
     "output_type": "display_data"
    }
   ],
   "source": [
    "ages, counts = np.unique(sample_ages, return_counts=True)\n",
    "plt.bar(ages, counts)\n",
    "plt.title('super area: {} age distribution'.format(world.super_areas.members[0].name))\n",
    "plt.show()"
   ]
  },
  {
   "cell_type": "code",
   "execution_count": 26,
   "metadata": {},
   "outputs": [
    {
     "name": "stdout",
     "output_type": "stream",
     "text": [
      "The % children between ages 0-16 is 49%\n"
     ]
    }
   ],
   "source": [
    "print ('The % children between ages 0-16 is {}%'.format(round(np.sum(counts[:16])/(np.sum(counts[:16])+np.sum(counts[16:]))*100)))"
   ]
  },
  {
   "cell_type": "markdown",
   "metadata": {},
   "source": [
    "## Households"
   ]
  },
  {
   "cell_type": "markdown",
   "metadata": {},
   "source": [
    "In this model, we will use the term 'family' and 'household' interchangeably. After populating the 'digital twin', we need to cluster people into families. To do this, we take account of age structure so that children live with adults, that there are some intergenerational households and such that we might also have some households of only adults."
   ]
  },
  {
   "cell_type": "markdown",
   "metadata": {},
   "source": [
    "### Household size distribution"
   ]
  },
  {
   "cell_type": "code",
   "execution_count": 27,
   "metadata": {},
   "outputs": [
    {
     "data": {
      "image/png": "[encoded data removed]",
      "text/plain": [
       "<Figure size 432x288 with 1 Axes>"
      ]
     },
     "metadata": {
      "needs_background": "light"
     },
     "output_type": "display_data"
    }
   ],
   "source": [
    "household_sizes = [household.size for household in world.households]\n",
    "plt.hist(household_sizes, density=True, bins=np.arange(0,12))\n",
    "plt.xlabel(\"Household size\")\n",
    "plt.ylabel(\"Frequency\")\n",
    "plt.axvline(np.mean(household_sizes), color=\"cyan\")\n",
    "plt.text(8, 0.150, f\"Avg. size: {(np.mean(household_sizes)):.2f}\")\n",
    "plt.show()"
   ]
  },
  {
   "cell_type": "markdown",
   "metadata": {},
   "source": [
    "# Shelters"
   ]
  },
  {
   "cell_type": "markdown",
   "metadata": {},
   "source": [
    "Shelters house people in the camp. Since we know that families (houseohlds) often share shelters with other families, we can set the `sharing_shelter_ratio` to cluster families into shared shelters."
   ]
  },
  {
   "cell_type": "code",
   "execution_count": 28,
   "metadata": {},
   "outputs": [],
   "source": [
    "world.shelters = Shelters.for_areas(world.areas)\n",
    "shelter_distributor = ShelterDistributor(sharing_shelter_ratio = 0.75) # proportion of families that share a shelter\n",
    "for area in world.areas:\n",
    "    shelter_distributor.distribute_people_in_shelters(area.shelters, area.households)"
   ]
  },
  {
   "cell_type": "code",
   "execution_count": 29,
   "metadata": {},
   "outputs": [
    {
     "data": {
      "image/png": "[encoded data removed]",
      "text/plain": [
       "<Figure size 576x216 with 2 Axes>"
      ]
     },
     "metadata": {
      "needs_background": "light"
     },
     "output_type": "display_data"
    }
   ],
   "source": [
    "fig, ax = plt.subplots(1, 2, figsize=(8,3))\n",
    "shelter_sizes = [shelter.size for shelter in world.shelters]\n",
    "shelter_families = [shelter.n_families for shelter in world.shelters]\n",
    "ax[0].hist(shelter_sizes)\n",
    "ax[0].set_title(\"Shelter size\")\n",
    "shelter_families = {1 : len([shelter for shelter in world.shelters if shelter.n_families == 1]),\n",
    "                    2 : len([shelter for shelter in world.shelters if shelter.n_families == 2])}\n",
    "ax[1].bar(shelter_families.keys(), shelter_families.values())\n",
    "ax[1].set_title(\"# families per shelter\")\n",
    "plt.show()"
   ]
  },
  {
   "cell_type": "markdown",
   "metadata": {},
   "source": [
    "## Activity exploration"
   ]
  },
  {
   "cell_type": "markdown",
   "metadata": {},
   "source": [
    "Once different activity locations are seeded in the 'digital twin' we can explore how many there are in different areas of the twin, and their coordinates to check they've all been added correctly."
   ]
  },
  {
   "cell_type": "markdown",
   "metadata": {},
   "source": [
    "### Pumps and latrines "
   ]
  },
  {
   "cell_type": "code",
   "execution_count": 30,
   "metadata": {},
   "outputs": [],
   "source": [
    "pumps_and_latrines = []\n",
    "for pump_latrine in world.areas.members[0].pump_latrines:\n",
    "    pumps_and_latrines.append(pump_latrine)"
   ]
  },
  {
   "cell_type": "code",
   "execution_count": 31,
   "metadata": {},
   "outputs": [
    {
     "name": "stdout",
     "output_type": "stream",
     "text": [
      "There are 4 pumps and latrines in area CXB-219-001\n"
     ]
    }
   ],
   "source": [
    "print ('There are {} pumps and latrines in area {}'.format(len(pumps_and_latrines), world.areas.members[0].name))"
   ]
  },
  {
   "cell_type": "markdown",
   "metadata": {},
   "source": [
    "### Distribution centers"
   ]
  },
  {
   "cell_type": "code",
   "execution_count": 32,
   "metadata": {},
   "outputs": [],
   "source": [
    "distribution_centers = []\n",
    "for center in world.distribution_centers:\n",
    "    distribution_centers.append(center)"
   ]
  },
  {
   "cell_type": "code",
   "execution_count": 33,
   "metadata": {},
   "outputs": [
    {
     "data": {
      "text/plain": [
       "array([21.21176333, 92.13597667])"
      ]
     },
     "execution_count": 33,
     "metadata": {},
     "output_type": "execute_result"
    }
   ],
   "source": [
    "distribution_centers[0].coordinates"
   ]
  },
  {
   "cell_type": "markdown",
   "metadata": {},
   "source": [
    "### Non-food Distribution centers"
   ]
  },
  {
   "cell_type": "code",
   "execution_count": 34,
   "metadata": {},
   "outputs": [],
   "source": [
    "non_food_distribution_centers = []\n",
    "for center in world.n_f_distribution_centers:\n",
    "    non_food_distribution_centers.append(center)"
   ]
  },
  {
   "cell_type": "code",
   "execution_count": 35,
   "metadata": {},
   "outputs": [
    {
     "data": {
      "text/plain": [
       "array([21.1962 , 92.14936])"
      ]
     },
     "execution_count": 35,
     "metadata": {},
     "output_type": "execute_result"
    }
   ],
   "source": [
    "non_food_distribution_centers[0].coordinates"
   ]
  },
  {
   "cell_type": "markdown",
   "metadata": {},
   "source": [
    "### E-Voucher outlets"
   ]
  },
  {
   "cell_type": "code",
   "execution_count": 36,
   "metadata": {},
   "outputs": [],
   "source": [
    "e_voucher_outlets = []\n",
    "for center in world.e_vouchers:\n",
    "    e_voucher_outlets.append(center)"
   ]
  },
  {
   "cell_type": "code",
   "execution_count": 37,
   "metadata": {},
   "outputs": [
    {
     "data": {
      "text/plain": [
       "array([21.21176333, 92.13597667])"
      ]
     },
     "execution_count": 37,
     "metadata": {},
     "output_type": "execute_result"
    }
   ],
   "source": [
    "e_voucher_outlets[0].coordinates"
   ]
  },
  {
   "cell_type": "markdown",
   "metadata": {},
   "source": [
    "### Communal spaces"
   ]
  },
  {
   "cell_type": "code",
   "execution_count": 38,
   "metadata": {},
   "outputs": [],
   "source": [
    "communal_spaces = []\n",
    "for space in world.communals:\n",
    "    communal_spaces.append(space)"
   ]
  },
  {
   "cell_type": "code",
   "execution_count": 39,
   "metadata": {},
   "outputs": [
    {
     "data": {
      "text/plain": [
       "array([21.19621, 92.14924])"
      ]
     },
     "execution_count": 39,
     "metadata": {},
     "output_type": "execute_result"
    }
   ],
   "source": [
    "communal_spaces[0].coordinates"
   ]
  },
  {
   "cell_type": "markdown",
   "metadata": {},
   "source": [
    "### Female friendly communal spaces"
   ]
  },
  {
   "cell_type": "code",
   "execution_count": 40,
   "metadata": {},
   "outputs": [],
   "source": [
    "female_communal_spaces = []\n",
    "for space in world.female_communals:\n",
    "    female_communal_spaces.append(space)"
   ]
  },
  {
   "cell_type": "code",
   "execution_count": 41,
   "metadata": {},
   "outputs": [
    {
     "data": {
      "text/plain": [
       "array([21.19588, 92.152  ])"
      ]
     },
     "execution_count": 41,
     "metadata": {},
     "output_type": "execute_result"
    }
   ],
   "source": [
    "female_communal_spaces[0].coordinates"
   ]
  },
  {
   "cell_type": "markdown",
   "metadata": {},
   "source": [
    "### Religious sites"
   ]
  },
  {
   "cell_type": "code",
   "execution_count": 42,
   "metadata": {},
   "outputs": [],
   "source": [
    "religious = []\n",
    "for rel in world.religiouss:\n",
    "    religious.append(rel)"
   ]
  },
  {
   "cell_type": "code",
   "execution_count": 43,
   "metadata": {},
   "outputs": [
    {
     "data": {
      "text/plain": [
       "array([21.20069, 92.15216])"
      ]
     },
     "execution_count": 43,
     "metadata": {},
     "output_type": "execute_result"
    }
   ],
   "source": [
    "religious[0].coordinates"
   ]
  },
  {
   "cell_type": "markdown",
   "metadata": {},
   "source": [
    "# Adding the infection"
   ]
  },
  {
   "cell_type": "markdown",
   "metadata": {},
   "source": [
    "The selector handles how infections are handled in the code. You can set different 'symptom trajectories' (e.g. exposed->mild->severe->hospitalised->intensive care) from different files. Here, we use the default."
   ]
  },
  {
   "cell_type": "code",
   "execution_count": 44,
   "metadata": {},
   "outputs": [],
   "source": [
    "selector = InfectionSelector.from_file()"
   ]
  },
  {
   "cell_type": "markdown",
   "metadata": {},
   "source": [
    "# Adding the interaction"
   ]
  },
  {
   "cell_type": "markdown",
   "metadata": {},
   "source": [
    "The interaction class handles how many contacts people have in different locations and with who. If contact matrices are available, these can be coded in a `.yaml` file and fed into the class here."
   ]
  },
  {
   "cell_type": "code",
   "execution_count": 45,
   "metadata": {},
   "outputs": [],
   "source": [
    "interaction = Interaction.from_file(config_filename='../configs_camps/defaults/interaction/ContactInteraction.yaml')"
   ]
  },
  {
   "cell_type": "markdown",
   "metadata": {},
   "source": [
    "# Set policies"
   ]
  },
  {
   "cell_type": "markdown",
   "metadata": {},
   "source": [
    "Policies control how 'operational interventions' are set in the camp. Here we set some social distancing policies, policies relating to medical care, such as people with severe symptoms being hospitalised, and individual and activity policies which can dynamically change how often and where people go, e.g. here, we close all female communal spaces and non-food distirbution centers which the camp did back in March"
   ]
  },
  {
   "cell_type": "code",
   "execution_count": 49,
   "metadata": {},
   "outputs": [],
   "source": [
    "policies = Policies.from_file(\n",
    "        camp_configs_path / \"defaults/policy/home_care_policy.yaml\",\n",
    "        base_policy_modules=(\"june.policy\", \"camps.policy\"),\n",
    "    )"
   ]
  },
  {
   "cell_type": "code",
   "execution_count": 50,
   "metadata": {},
   "outputs": [
    {
     "data": {
      "text/plain": [
       "[<june.policy.interaction_policies.SocialDistancing at 0x138504050>,\n",
       " <june.policy.medical_care_policies.Hospitalisation at 0x107cb9d10>,\n",
       " <june.policy.individual_policies.SevereSymptomsStayHome at 0x138504cd0>,\n",
       " <june.policy.individual_policies.Quarantine at 0x138504390>,\n",
       " <june.policy.leisure_policies.CloseLeisureVenue at 0x138504290>,\n",
       " <june.policy.leisure_policies.ChangeLeisureProbability at 0x138504410>,\n",
       " <june.policy.leisure_policies.ChangeLeisureProbability at 0x1385044d0>]"
      ]
     },
     "execution_count": 50,
     "metadata": {},
     "output_type": "execute_result"
    }
   ],
   "source": [
    "policies.policies"
   ]
  },
  {
   "cell_type": "markdown",
   "metadata": {},
   "source": [
    "# Seed the disease"
   ]
  },
  {
   "cell_type": "markdown",
   "metadata": {},
   "source": [
    "Set intial seeding conditions. This can be done at the camp level specifically, or generally by seeding them randomly. Here the `n_cases` is the number of randomly seeded people over the entire population."
   ]
  },
  {
   "cell_type": "code",
   "execution_count": 52,
   "metadata": {},
   "outputs": [],
   "source": [
    "infection_seed = InfectionSeed(\n",
    "    world=world, infection_selector=selector, \n",
    ")\n",
    "infection_seed.unleash_virus(n_cases=5, population=world.people)"
   ]
  },
  {
   "cell_type": "markdown",
   "metadata": {},
   "source": [
    "## Select config file"
   ]
  },
  {
   "cell_type": "markdown",
   "metadata": {},
   "source": [
    "Before running the simualtion we must select the config file which defines how the world is set up and the simualtor will work. Specifically, the condif file specifies which activities will be included, how long we'll run the simualtion for, what the initial starting day will be and what the structure of weekdays and weekends will look like (if different)"
   ]
  },
  {
   "cell_type": "code",
   "execution_count": 54,
   "metadata": {},
   "outputs": [],
   "source": [
    "CONFIG_PATH = \"../configs_camps/config_demo.yaml\""
   ]
  },
  {
   "cell_type": "markdown",
   "metadata": {},
   "source": [
    "# Initialise activities"
   ]
  },
  {
   "cell_type": "markdown",
   "metadata": {},
   "source": [
    "The final step to intialising the simulator class which brings all of this together is to inialise all the activity distirbutors (the term 'leisure' is a legacy of the original version of this code used for modelling COVID-19 in the UK). This will mean that people know where they can go at and given time."
   ]
  },
  {
   "cell_type": "code",
   "execution_count": 55,
   "metadata": {},
   "outputs": [
    {
     "name": "stdout",
     "output_type": "stream",
     "text": [
      "2020-10-12 17:58:26,003 - june.groups.leisure.leisure - INFO - Linking households for visits\n",
      "2020-10-12 17:58:26,004 - june.groups.leisure.leisure - INFO - Done\n",
      "2020-10-12 17:58:26,005 - june.groups.leisure.leisure - INFO - Linking households with care homes for visits\n",
      "2020-10-12 17:58:26,005 - june.groups.leisure.leisure - INFO - Done\n",
      "2020-10-12 17:58:26,006 - june.groups.leisure.leisure - INFO - Distributing social venues to areas\n",
      "2020-10-12 17:58:26,006 - june.groups.leisure.leisure - INFO - Distributed in 0 of 65 areas.\n",
      "2020-10-12 17:58:26,123 - june.groups.leisure.leisure - INFO - Distributed in 65 of 65 areas.\n"
     ]
    }
   ],
   "source": [
    "leisure = generate_leisure_for_config(world=world, config_filename=CONFIG_PATH)\n",
    "leisure.leisure_distributors = {}\n",
    "leisure.leisure_distributors[\"pump_latrines\"] = PumpLatrineDistributor.from_config(\n",
    "    pump_latrines=world.pump_latrines\n",
    ")\n",
    "leisure.leisure_distributors[\"play_groups\"] = PlayGroupDistributor.from_config(\n",
    "    world.play_groups\n",
    ")\n",
    "leisure.leisure_distributors[\n",
    "    \"distribution_centers\"\n",
    "] = DistributionCenterDistributor.from_config(\n",
    "    world.distribution_centers\n",
    ")\n",
    "leisure.leisure_distributors[\"communals\"] = CommunalDistributor.from_config(\n",
    "    world.communals\n",
    ")\n",
    "leisure.leisure_distributors[\n",
    "    \"female_communals\"\n",
    "] = FemaleCommunalDistributor.from_config(world.female_communals)\n",
    "leisure.leisure_distributors[\"religiouss\"] = ReligiousDistributor.from_config(\n",
    "    world.religiouss\n",
    ")\n",
    "leisure.leisure_distributors[\"e_vouchers\"] = EVoucherDistributor.from_config(\n",
    "    world.e_vouchers\n",
    ")\n",
    "leisure.leisure_distributors[\n",
    "    \"n_f_distribution_centers\"\n",
    "] = NFDistributionCenterDistributor.from_config(\n",
    "    world.n_f_distribution_centers\n",
    ")\n",
    "leisure.leisure_distributors[\n",
    "    \"shelters_visits\"\n",
    "] = SheltersVisitsDistributor.from_config()\n",
    "leisure.leisure_distributors[\"shelters_visits\"].link_shelters_to_shelters(\n",
    "    world.super_areas\n",
    ")\n",
    "# associate social activities to shelters\n",
    "leisure.distribute_social_venues_to_areas(world.areas, world.super_areas)\n"
   ]
  },
  {
   "cell_type": "markdown",
   "metadata": {},
   "source": [
    "# Initialise simulator and run"
   ]
  },
  {
   "cell_type": "markdown",
   "metadata": {},
   "source": [
    "The recorder is defined which will log all interactions and infections in the simualation for later analysis. The `record_path` can be changed to any path where you want the recorded data to be stored."
   ]
  },
  {
   "cell_type": "code",
   "execution_count": 58,
   "metadata": {},
   "outputs": [],
   "source": [
    "record = Record(\n",
    "    record_path='results', record_static_data=True\n",
    ")\n",
    "record.static_data(world=world)"
   ]
  },
  {
   "cell_type": "markdown",
   "metadata": {},
   "source": [
    "The simulator is defined with all the different necessary components we have built up so far"
   ]
  },
  {
   "cell_type": "code",
   "execution_count": 59,
   "metadata": {},
   "outputs": [],
   "source": [
    "Simulator.ActivityManager = CampActivityManager\n",
    "simulator = Simulator.from_file(\n",
    "    world=world,\n",
    "    interaction=interaction,\n",
    "    leisure=leisure,\n",
    "    policies=policies,\n",
    "    config_filename=CONFIG_PATH,\n",
    "    infection_selector=selector,\n",
    "    record=record,\n",
    ")"
   ]
  },
  {
   "cell_type": "markdown",
   "metadata": {},
   "source": [
    "Finally we can run a small simualation"
   ]
  },
  {
   "cell_type": "code",
   "execution_count": 60,
   "metadata": {
    "scrolled": true
   },
   "outputs": [
    {
     "name": "stdout",
     "output_type": "stream",
     "text": [
      "2020-10-12 18:03:43,834 - june.simulator - INFO - Starting simulation for 20 days at day 2020-05-24 00:00:00, to run for 20 days\n",
      "2020-10-12 18:03:43,871 - june.simulator - INFO - ==================== timestep ====================\n",
      "2020-10-12 18:03:44,017 - june.activity.activity_manager - INFO - CMS: People COMS for rank 0/1 - 4.5079996198182926e-06,4.0531158447265625e-06 - 2020-05-24 00:00:00\n",
      "2020-10-12 18:03:44,022 - june.simulator - INFO - Info for rank 0, Date = 2020-05-24 00:00:00, number of deaths =  0, number of infected = 5\n",
      "2020-10-12 18:03:44,058 - june.simulator - INFO - CMS: Infection COMS for rank 0/1 - 4.579000233206898e-06,3.814697265625e-06 - 2020-05-24 00:00:00\n",
      "2020-10-12 18:03:44,222 - june.simulator - INFO - CMS: Timestep for rank 0/1 - 0.3507683440002438, 0.3507802486419678 - 2020-05-24 00:00:00\n",
      "\n",
      "2020-10-12 18:03:44,223 - june.simulator - INFO - ==================== timestep ====================\n",
      "2020-10-12 18:03:44,546 - june.activity.activity_manager - INFO - CMS: People COMS for rank 0/1 - 3.2299999475071672e-06,3.0994415283203125e-06 - 2020-05-24 03:00:00\n",
      "2020-10-12 18:03:44,551 - june.simulator - INFO - Info for rank 0, Date = 2020-05-24 03:00:00, number of deaths =  0, number of infected = 5\n",
      "2020-10-12 18:03:44,596 - june.simulator - INFO - CMS: Infection COMS for rank 0/1 - 4.5080000745656434e-06,4.0531158447265625e-06 - 2020-05-24 03:00:00\n",
      "2020-10-12 18:03:44,650 - june.simulator - INFO - CMS: Timestep for rank 0/1 - 0.42573078900022665, 0.42574572563171387 - 2020-05-24 03:00:00\n",
      "\n",
      "2020-10-12 18:03:44,650 - june.simulator - INFO - ==================== timestep ====================\n",
      "2020-10-12 18:03:44,986 - june.activity.activity_manager - INFO - CMS: People COMS for rank 0/1 - 3.6530000215861946e-06,3.0994415283203125e-06 - 2020-05-24 05:00:00\n",
      "2020-10-12 18:03:44,992 - june.simulator - INFO - Info for rank 0, Date = 2020-05-24 05:00:00, number of deaths =  0, number of infected = 5\n",
      "2020-10-12 18:03:45,039 - june.simulator - INFO - CMS: Infection COMS for rank 0/1 - 4.146999799559126e-06,2.86102294921875e-06 - 2020-05-24 05:00:00\n",
      "2020-10-12 18:03:45,095 - june.simulator - INFO - CMS: Timestep for rank 0/1 - 0.4438901519997671, 0.4439048767089844 - 2020-05-24 05:00:00\n",
      "\n",
      "2020-10-12 18:03:45,095 - june.simulator - INFO - ==================== timestep ====================\n",
      "2020-10-12 18:03:45,436 - june.activity.activity_manager - INFO - CMS: People COMS for rank 0/1 - 3.539999852364417e-06,2.1457672119140625e-06 - 2020-05-24 07:00:00\n",
      "2020-10-12 18:03:45,442 - june.simulator - INFO - Info for rank 0, Date = 2020-05-24 07:00:00, number of deaths =  0, number of infected = 6\n",
      "2020-10-12 18:03:45,487 - june.simulator - INFO - CMS: Infection COMS for rank 0/1 - 3.6379997254698537e-06,2.86102294921875e-06 - 2020-05-24 07:00:00\n",
      "2020-10-12 18:03:45,538 - june.simulator - INFO - CMS: Timestep for rank 0/1 - 0.44232073500006663, 0.442335844039917 - 2020-05-24 07:00:00\n",
      "\n",
      "2020-10-12 18:03:45,539 - june.simulator - INFO - ==================== timestep ====================\n",
      "2020-10-12 18:03:45,864 - june.activity.activity_manager - INFO - CMS: People COMS for rank 0/1 - 3.3660003282420803e-06,3.0994415283203125e-06 - 2020-05-24 09:00:00\n",
      "2020-10-12 18:03:45,869 - june.simulator - INFO - Info for rank 0, Date = 2020-05-24 09:00:00, number of deaths =  0, number of infected = 7\n",
      "2020-10-12 18:03:45,911 - june.simulator - INFO - CMS: Infection COMS for rank 0/1 - 3.3400001484551467e-06,3.0994415283203125e-06 - 2020-05-24 09:00:00\n",
      "2020-10-12 18:03:45,958 - june.simulator - INFO - CMS: Timestep for rank 0/1 - 0.4182837789999212, 0.41829776763916016 - 2020-05-24 09:00:00\n",
      "\n",
      "2020-10-12 18:03:45,958 - june.simulator - INFO - ==================== timestep ====================\n",
      "2020-10-12 18:03:46,101 - june.activity.activity_manager - INFO - CMS: People COMS for rank 0/1 - 3.727000148501247e-06,2.86102294921875e-06 - 2020-05-24 11:00:00\n",
      "2020-10-12 18:03:46,107 - june.simulator - INFO - Info for rank 0, Date = 2020-05-24 11:00:00, number of deaths =  0, number of infected = 7\n",
      "2020-10-12 18:03:46,143 - june.simulator - INFO - CMS: Infection COMS for rank 0/1 - 4.2280003071937244e-06,3.814697265625e-06 - 2020-05-24 11:00:00\n",
      "2020-10-12 18:03:46,192 - june.simulator - INFO - CMS: Timestep for rank 0/1 - 0.23316271199973926, 0.23317193984985352 - 2020-05-24 11:00:00\n",
      "\n",
      "2020-10-12 18:03:46,193 - june.simulator - INFO - ==================== timestep ====================\n",
      "2020-10-12 18:03:46,337 - june.activity.activity_manager - INFO - CMS: People COMS for rank 0/1 - 3.252999704272952e-06,1.9073486328125e-06 - 2020-05-25 00:00:00\n",
      "2020-10-12 18:03:46,344 - june.simulator - INFO - Info for rank 0, Date = 2020-05-25 00:00:00, number of deaths =  0, number of infected = 7\n",
      "2020-10-12 18:03:46,379 - june.simulator - INFO - CMS: Infection COMS for rank 0/1 - 2.922000021499116e-06,2.86102294921875e-06 - 2020-05-25 00:00:00\n",
      "2020-10-12 18:03:46,427 - june.simulator - INFO - CMS: Timestep for rank 0/1 - 0.23341749900009745, 0.23342585563659668 - 2020-05-25 00:00:00\n",
      "\n",
      "2020-10-12 18:03:46,427 - june.simulator - INFO - ==================== timestep ====================\n",
      "2020-10-12 18:03:46,741 - june.activity.activity_manager - INFO - CMS: People COMS for rank 0/1 - 3.2580001061432995e-06,1.9073486328125e-06 - 2020-05-25 02:00:00\n",
      "2020-10-12 18:03:46,746 - june.simulator - INFO - Info for rank 0, Date = 2020-05-25 02:00:00, number of deaths =  0, number of infected = 7\n",
      "2020-10-12 18:03:46,790 - june.simulator - INFO - CMS: Infection COMS for rank 0/1 - 3.3900000744324643e-06,2.86102294921875e-06 - 2020-05-25 02:00:00\n",
      "2020-10-12 18:03:46,839 - june.simulator - INFO - CMS: Timestep for rank 0/1 - 0.41125490300009915, 0.4112687110900879 - 2020-05-25 02:00:00\n",
      "\n",
      "2020-10-12 18:03:46,840 - june.simulator - INFO - ==================== timestep ====================\n",
      "2020-10-12 18:03:47,162 - june.activity.activity_manager - INFO - CMS: People COMS for rank 0/1 - 3.337999714858597e-06,2.86102294921875e-06 - 2020-05-25 04:00:00\n",
      "2020-10-12 18:03:47,167 - june.simulator - INFO - Info for rank 0, Date = 2020-05-25 04:00:00, number of deaths =  0, number of infected = 8\n",
      "2020-10-12 18:03:47,211 - june.simulator - INFO - CMS: Infection COMS for rank 0/1 - 3.45900025422452e-06,2.86102294921875e-06 - 2020-05-25 04:00:00\n",
      "2020-10-12 18:03:47,259 - june.simulator - INFO - CMS: Timestep for rank 0/1 - 0.4188178600002175, 0.41883206367492676 - 2020-05-25 04:00:00\n",
      "\n",
      "2020-10-12 18:03:47,260 - june.simulator - INFO - ==================== timestep ====================\n",
      "2020-10-12 18:03:47,574 - june.activity.activity_manager - INFO - CMS: People COMS for rank 0/1 - 3.5900002330890857e-06,3.0994415283203125e-06 - 2020-05-25 06:00:00\n",
      "2020-10-12 18:03:47,580 - june.simulator - INFO - Info for rank 0, Date = 2020-05-25 06:00:00, number of deaths =  0, number of infected = 8\n",
      "2020-10-12 18:03:47,620 - june.simulator - INFO - CMS: Infection COMS for rank 0/1 - 3.989000106230378e-06,2.86102294921875e-06 - 2020-05-25 06:00:00\n",
      "2020-10-12 18:03:47,668 - june.simulator - INFO - CMS: Timestep for rank 0/1 - 0.40757557899996755, 0.40758824348449707 - 2020-05-25 06:00:00\n",
      "\n",
      "2020-10-12 18:03:47,668 - june.simulator - INFO - ==================== timestep ====================\n",
      "2020-10-12 18:03:48,004 - june.activity.activity_manager - INFO - CMS: People COMS for rank 0/1 - 3.980000201408984e-06,4.291534423828125e-06 - 2020-05-25 08:00:00\n",
      "2020-10-12 18:03:48,010 - june.simulator - INFO - Info for rank 0, Date = 2020-05-25 08:00:00, number of deaths =  0, number of infected = 8\n",
      "2020-10-12 18:03:48,057 - june.simulator - INFO - CMS: Infection COMS for rank 0/1 - 5.319000138115371e-06,3.814697265625e-06 - 2020-05-25 08:00:00\n",
      "2020-10-12 18:03:48,126 - june.simulator - INFO - CMS: Timestep for rank 0/1 - 0.4575391519997538, 0.45755481719970703 - 2020-05-25 08:00:00\n",
      "\n",
      "2020-10-12 18:03:48,127 - june.simulator - INFO - ==================== timestep ====================\n",
      "2020-10-12 18:03:48,298 - june.activity.activity_manager - INFO - CMS: People COMS for rank 0/1 - 3.383000148460269e-06,1.9073486328125e-06 - 2020-05-25 10:00:00\n",
      "2020-10-12 18:03:48,304 - june.simulator - INFO - Info for rank 0, Date = 2020-05-25 10:00:00, number of deaths =  0, number of infected = 8\n"
     ]
    },
    {
     "name": "stdout",
     "output_type": "stream",
     "text": [
      "2020-10-12 18:03:48,344 - june.simulator - INFO - CMS: Infection COMS for rank 0/1 - 3.2029997782956343e-06,3.0994415283203125e-06 - 2020-05-25 10:00:00\n",
      "2020-10-12 18:03:48,396 - june.simulator - INFO - CMS: Timestep for rank 0/1 - 0.2681172269999479, 0.2681279182434082 - 2020-05-25 10:00:00\n",
      "\n",
      "2020-10-12 18:03:48,397 - june.simulator - INFO - ==================== timestep ====================\n",
      "2020-10-12 18:03:48,547 - june.activity.activity_manager - INFO - CMS: People COMS for rank 0/1 - 3.597000159061281e-06,3.0994415283203125e-06 - 2020-05-26 00:00:00\n",
      "2020-10-12 18:03:48,552 - june.simulator - INFO - Info for rank 0, Date = 2020-05-26 00:00:00, number of deaths =  0, number of infected = 9\n",
      "2020-10-12 18:03:48,589 - june.simulator - INFO - CMS: Infection COMS for rank 0/1 - 4.410000201460207e-06,3.814697265625e-06 - 2020-05-26 00:00:00\n",
      "2020-10-12 18:03:48,640 - june.simulator - INFO - CMS: Timestep for rank 0/1 - 0.24238572200010822, 0.24239516258239746 - 2020-05-26 00:00:00\n",
      "\n",
      "2020-10-12 18:03:48,641 - june.simulator - INFO - ==================== timestep ====================\n",
      "2020-10-12 18:03:49,019 - june.activity.activity_manager - INFO - CMS: People COMS for rank 0/1 - 4.381000053399475e-06,3.0994415283203125e-06 - 2020-05-26 02:00:00\n",
      "2020-10-12 18:03:49,025 - june.simulator - INFO - Info for rank 0, Date = 2020-05-26 02:00:00, number of deaths =  0, number of infected = 9\n",
      "2020-10-12 18:03:49,073 - june.simulator - INFO - CMS: Infection COMS for rank 0/1 - 3.7710001379309688e-06,4.0531158447265625e-06 - 2020-05-26 02:00:00\n",
      "2020-10-12 18:03:49,128 - june.simulator - INFO - CMS: Timestep for rank 0/1 - 0.486426154000128, 0.48644304275512695 - 2020-05-26 02:00:00\n",
      "\n",
      "2020-10-12 18:03:49,128 - june.simulator - INFO - ==================== timestep ====================\n",
      "2020-10-12 18:03:49,497 - june.activity.activity_manager - INFO - CMS: People COMS for rank 0/1 - 6.01800002186792e-06,4.0531158447265625e-06 - 2020-05-26 04:00:00\n",
      "2020-10-12 18:03:49,503 - june.simulator - INFO - Info for rank 0, Date = 2020-05-26 04:00:00, number of deaths =  0, number of infected = 10\n",
      "2020-10-12 18:03:49,550 - june.simulator - INFO - CMS: Infection COMS for rank 0/1 - 5.652000254485756e-06,5.0067901611328125e-06 - 2020-05-26 04:00:00\n",
      "2020-10-12 18:03:49,604 - june.simulator - INFO - CMS: Timestep for rank 0/1 - 0.47497620600006485, 0.474992036819458 - 2020-05-26 04:00:00\n",
      "\n",
      "2020-10-12 18:03:49,604 - june.simulator - INFO - ==================== timestep ====================\n",
      "2020-10-12 18:03:50,019 - june.activity.activity_manager - INFO - CMS: People COMS for rank 0/1 - 3.6579999687091913e-06,2.6226043701171875e-06 - 2020-05-26 06:00:00\n",
      "2020-10-12 18:03:50,025 - june.simulator - INFO - Info for rank 0, Date = 2020-05-26 06:00:00, number of deaths =  0, number of infected = 10\n",
      "2020-10-12 18:03:50,072 - june.simulator - INFO - CMS: Infection COMS for rank 0/1 - 5.4600000112259295e-06,5.0067901611328125e-06 - 2020-05-26 06:00:00\n",
      "2020-10-12 18:03:50,123 - june.simulator - INFO - CMS: Timestep for rank 0/1 - 0.5181386489998658, 0.5181560516357422 - 2020-05-26 06:00:00\n",
      "\n",
      "2020-10-12 18:03:50,124 - june.simulator - INFO - ==================== timestep ====================\n",
      "2020-10-12 18:03:50,483 - june.activity.activity_manager - INFO - CMS: People COMS for rank 0/1 - 3.341000137879746e-06,3.0994415283203125e-06 - 2020-05-26 08:00:00\n",
      "2020-10-12 18:03:50,488 - june.simulator - INFO - Info for rank 0, Date = 2020-05-26 08:00:00, number of deaths =  0, number of infected = 10\n",
      "2020-10-12 18:03:50,535 - june.simulator - INFO - CMS: Infection COMS for rank 0/1 - 3.874999947584001e-06,3.0994415283203125e-06 - 2020-05-26 08:00:00\n",
      "2020-10-12 18:03:50,589 - june.simulator - INFO - CMS: Timestep for rank 0/1 - 0.4649083720000817, 0.46492481231689453 - 2020-05-26 08:00:00\n",
      "\n",
      "2020-10-12 18:03:50,590 - june.simulator - INFO - ==================== timestep ====================\n",
      "2020-10-12 18:03:50,754 - june.activity.activity_manager - INFO - CMS: People COMS for rank 0/1 - 3.175000074406853e-06,3.0994415283203125e-06 - 2020-05-26 10:00:00\n",
      "2020-10-12 18:03:50,760 - june.simulator - INFO - Info for rank 0, Date = 2020-05-26 10:00:00, number of deaths =  0, number of infected = 11\n",
      "2020-10-12 18:03:50,798 - june.simulator - INFO - CMS: Infection COMS for rank 0/1 - 3.729000127350446e-06,2.86102294921875e-06 - 2020-05-26 10:00:00\n",
      "2020-10-12 18:03:50,857 - june.simulator - INFO - CMS: Timestep for rank 0/1 - 0.26667371399980766, 0.26668405532836914 - 2020-05-26 10:00:00\n",
      "\n",
      "2020-10-12 18:03:50,858 - june.simulator - INFO - ==================== timestep ====================\n",
      "2020-10-12 18:03:51,014 - june.activity.activity_manager - INFO - CMS: People COMS for rank 0/1 - 3.4480003705539275e-06,2.86102294921875e-06 - 2020-05-27 00:00:00\n",
      "2020-10-12 18:03:51,019 - june.simulator - INFO - Info for rank 0, Date = 2020-05-27 00:00:00, number of deaths =  0, number of infected = 13\n",
      "2020-10-12 18:03:51,062 - june.simulator - INFO - CMS: Infection COMS for rank 0/1 - 3.4439999581081793e-06,1.9073486328125e-06 - 2020-05-27 00:00:00\n",
      "2020-10-12 18:03:51,119 - june.simulator - INFO - CMS: Timestep for rank 0/1 - 0.2601563159996658, 0.2601659297943115 - 2020-05-27 00:00:00\n",
      "\n",
      "2020-10-12 18:03:51,119 - june.simulator - INFO - ==================== timestep ====================\n",
      "2020-10-12 18:03:51,504 - june.activity.activity_manager - INFO - CMS: People COMS for rank 0/1 - 4.208000063954387e-06,4.0531158447265625e-06 - 2020-05-27 02:00:00\n",
      "2020-10-12 18:03:51,510 - june.simulator - INFO - Info for rank 0, Date = 2020-05-27 02:00:00, number of deaths =  0, number of infected = 17\n",
      "2020-10-12 18:03:51,558 - june.simulator - INFO - CMS: Infection COMS for rank 0/1 - 4.010000338894315e-06,2.86102294921875e-06 - 2020-05-27 02:00:00\n",
      "2020-10-12 18:03:51,618 - june.simulator - INFO - CMS: Timestep for rank 0/1 - 0.4977576260002934, 0.4977750778198242 - 2020-05-27 02:00:00\n",
      "\n",
      "2020-10-12 18:03:51,618 - june.simulator - INFO - ==================== timestep ====================\n",
      "2020-10-12 18:03:52,002 - june.activity.activity_manager - INFO - CMS: People COMS for rank 0/1 - 3.0810001589998137e-06,1.9073486328125e-06 - 2020-05-27 04:00:00\n",
      "2020-10-12 18:03:52,007 - june.simulator - INFO - Info for rank 0, Date = 2020-05-27 04:00:00, number of deaths =  0, number of infected = 17\n",
      "2020-10-12 18:03:52,057 - june.simulator - INFO - CMS: Infection COMS for rank 0/1 - 3.6500000533123966e-06,3.0994415283203125e-06 - 2020-05-27 04:00:00\n",
      "2020-10-12 18:03:52,111 - june.simulator - INFO - CMS: Timestep for rank 0/1 - 0.4922103819999393, 0.49222707748413086 - 2020-05-27 04:00:00\n",
      "\n",
      "2020-10-12 18:03:52,112 - june.simulator - INFO - ==================== timestep ====================\n",
      "2020-10-12 18:03:52,454 - june.activity.activity_manager - INFO - CMS: People COMS for rank 0/1 - 3.701999958138913e-06,2.86102294921875e-06 - 2020-05-27 06:00:00\n",
      "2020-10-12 18:03:52,459 - june.simulator - INFO - Info for rank 0, Date = 2020-05-27 06:00:00, number of deaths =  0, number of infected = 22\n",
      "2020-10-12 18:03:52,506 - june.simulator - INFO - CMS: Infection COMS for rank 0/1 - 3.313999968668213e-06,2.1457672119140625e-06 - 2020-05-27 06:00:00\n",
      "2020-10-12 18:03:52,555 - june.simulator - INFO - CMS: Timestep for rank 0/1 - 0.4421728439997423, 0.442188024520874 - 2020-05-27 06:00:00\n",
      "\n",
      "2020-10-12 18:03:52,555 - june.simulator - INFO - ==================== timestep ====================\n",
      "2020-10-12 18:03:52,877 - june.activity.activity_manager - INFO - CMS: People COMS for rank 0/1 - 3.2269999792333692e-06,3.0994415283203125e-06 - 2020-05-27 08:00:00\n",
      "2020-10-12 18:03:52,883 - june.simulator - INFO - Info for rank 0, Date = 2020-05-27 08:00:00, number of deaths =  0, number of infected = 26\n",
      "2020-10-12 18:03:52,926 - june.simulator - INFO - CMS: Infection COMS for rank 0/1 - 2.8340000426396728e-06,1.9073486328125e-06 - 2020-05-27 08:00:00\n",
      "2020-10-12 18:03:52,972 - june.simulator - INFO - CMS: Timestep for rank 0/1 - 0.41655761199990593, 0.41657185554504395 - 2020-05-27 08:00:00\n",
      "\n",
      "2020-10-12 18:03:52,973 - june.simulator - INFO - ==================== timestep ====================\n",
      "2020-10-12 18:03:53,119 - june.activity.activity_manager - INFO - CMS: People COMS for rank 0/1 - 2.9930001801403705e-06,1.9073486328125e-06 - 2020-05-27 10:00:00\n"
     ]
    },
    {
     "name": "stdout",
     "output_type": "stream",
     "text": [
      "2020-10-12 18:03:53,123 - june.simulator - INFO - Info for rank 0, Date = 2020-05-27 10:00:00, number of deaths =  0, number of infected = 32\n",
      "2020-10-12 18:03:53,161 - june.simulator - INFO - CMS: Infection COMS for rank 0/1 - 3.2819998523336835e-06,1.9073486328125e-06 - 2020-05-27 10:00:00\n",
      "2020-10-12 18:03:53,210 - june.simulator - INFO - CMS: Timestep for rank 0/1 - 0.23614255099982984, 0.23615097999572754 - 2020-05-27 10:00:00\n",
      "\n",
      "2020-10-12 18:03:53,210 - june.simulator - INFO - ==================== timestep ====================\n",
      "2020-10-12 18:03:53,357 - june.activity.activity_manager - INFO - CMS: People COMS for rank 0/1 - 3.0619999051850755e-06,1.9073486328125e-06 - 2020-05-28 00:00:00\n",
      "2020-10-12 18:03:53,362 - june.simulator - INFO - Info for rank 0, Date = 2020-05-28 00:00:00, number of deaths =  0, number of infected = 43\n",
      "2020-10-12 18:03:53,397 - june.simulator - INFO - CMS: Infection COMS for rank 0/1 - 3.270999968663091e-06,2.1457672119140625e-06 - 2020-05-28 00:00:00\n",
      "2020-10-12 18:03:53,442 - june.simulator - INFO - CMS: Timestep for rank 0/1 - 0.23122816500017507, 0.23123574256896973 - 2020-05-28 00:00:00\n",
      "\n",
      "2020-10-12 18:03:53,443 - june.simulator - INFO - ==================== timestep ====================\n",
      "2020-10-12 18:03:53,762 - june.activity.activity_manager - INFO - CMS: People COMS for rank 0/1 - 3.4630002119229175e-06,1.9073486328125e-06 - 2020-05-28 02:00:00\n",
      "2020-10-12 18:03:53,767 - june.simulator - INFO - Info for rank 0, Date = 2020-05-28 02:00:00, number of deaths =  0, number of infected = 45\n",
      "2020-10-12 18:03:53,811 - june.simulator - INFO - CMS: Infection COMS for rank 0/1 - 3.6399997043190524e-06,2.86102294921875e-06 - 2020-05-28 02:00:00\n",
      "2020-10-12 18:03:53,858 - june.simulator - INFO - CMS: Timestep for rank 0/1 - 0.4146087690000968, 0.4146230220794678 - 2020-05-28 02:00:00\n",
      "\n",
      "2020-10-12 18:03:53,859 - june.simulator - INFO - ==================== timestep ====================\n",
      "2020-10-12 18:03:54,184 - june.activity.activity_manager - INFO - CMS: People COMS for rank 0/1 - 3.778000063903164e-06,2.86102294921875e-06 - 2020-05-28 04:00:00\n",
      "2020-10-12 18:03:54,189 - june.simulator - INFO - Info for rank 0, Date = 2020-05-28 04:00:00, number of deaths =  0, number of infected = 47\n",
      "2020-10-12 18:03:54,235 - june.simulator - INFO - CMS: Infection COMS for rank 0/1 - 3.6100000215810724e-06,3.0994415283203125e-06 - 2020-05-28 04:00:00\n",
      "2020-10-12 18:03:54,286 - june.simulator - INFO - CMS: Timestep for rank 0/1 - 0.42672561800009134, 0.4267399311065674 - 2020-05-28 04:00:00\n",
      "\n",
      "2020-10-12 18:03:54,286 - june.simulator - INFO - ==================== timestep ====================\n",
      "2020-10-12 18:03:54,606 - june.activity.activity_manager - INFO - CMS: People COMS for rank 0/1 - 3.3420001273043454e-06,3.0994415283203125e-06 - 2020-05-28 06:00:00\n",
      "2020-10-12 18:03:54,611 - june.simulator - INFO - Info for rank 0, Date = 2020-05-28 06:00:00, number of deaths =  0, number of infected = 49\n",
      "2020-10-12 18:03:54,652 - june.simulator - INFO - CMS: Infection COMS for rank 0/1 - 2.997000137838768e-06,3.0994415283203125e-06 - 2020-05-28 06:00:00\n",
      "2020-10-12 18:03:54,700 - june.simulator - INFO - CMS: Timestep for rank 0/1 - 0.413588812999933, 0.4136018753051758 - 2020-05-28 06:00:00\n",
      "\n",
      "2020-10-12 18:03:54,701 - june.simulator - INFO - ==================== timestep ====================\n",
      "2020-10-12 18:03:55,021 - june.activity.activity_manager - INFO - CMS: People COMS for rank 0/1 - 3.2460002330481075e-06,1.9073486328125e-06 - 2020-05-28 08:00:00\n",
      "2020-10-12 18:03:55,026 - june.simulator - INFO - Info for rank 0, Date = 2020-05-28 08:00:00, number of deaths =  0, number of infected = 51\n",
      "2020-10-12 18:03:55,068 - june.simulator - INFO - CMS: Infection COMS for rank 0/1 - 2.9079997148073744e-06,2.86102294921875e-06 - 2020-05-28 08:00:00\n",
      "2020-10-12 18:03:55,116 - june.simulator - INFO - CMS: Timestep for rank 0/1 - 0.4139669070000309, 0.41398096084594727 - 2020-05-28 08:00:00\n",
      "\n",
      "2020-10-12 18:03:55,117 - june.simulator - INFO - ==================== timestep ====================\n",
      "2020-10-12 18:03:55,257 - june.activity.activity_manager - INFO - CMS: People COMS for rank 0/1 - 2.4959999791462906e-06,1.9073486328125e-06 - 2020-05-28 10:00:00\n",
      "2020-10-12 18:03:55,263 - june.simulator - INFO - Info for rank 0, Date = 2020-05-28 10:00:00, number of deaths =  0, number of infected = 54\n",
      "2020-10-12 18:03:55,300 - june.simulator - INFO - CMS: Infection COMS for rank 0/1 - 3.322999873489607e-06,3.0994415283203125e-06 - 2020-05-28 10:00:00\n",
      "2020-10-12 18:03:55,347 - june.simulator - INFO - CMS: Timestep for rank 0/1 - 0.2296299680001539, 0.22963786125183105 - 2020-05-28 10:00:00\n",
      "\n",
      "2020-10-12 18:03:55,347 - june.simulator - INFO - ==================== timestep ====================\n",
      "2020-10-12 18:03:55,485 - june.activity.activity_manager - INFO - CMS: People COMS for rank 0/1 - 2.7040000531997066e-06,1.6689300537109375e-06 - 2020-05-29 00:00:00\n",
      "2020-10-12 18:03:55,491 - june.simulator - INFO - Info for rank 0, Date = 2020-05-29 00:00:00, number of deaths =  0, number of infected = 64\n",
      "2020-10-12 18:03:55,526 - june.simulator - INFO - CMS: Infection COMS for rank 0/1 - 3.1429999580723234e-06,2.86102294921875e-06 - 2020-05-29 00:00:00\n",
      "2020-10-12 18:03:55,576 - june.simulator - INFO - CMS: Timestep for rank 0/1 - 0.22774864199982403, 0.22775697708129883 - 2020-05-29 00:00:00\n",
      "\n",
      "2020-10-12 18:03:55,576 - june.simulator - INFO - ==================== timestep ====================\n",
      "2020-10-12 18:03:55,898 - june.activity.activity_manager - INFO - CMS: People COMS for rank 0/1 - 3.5499997466104105e-06,2.86102294921875e-06 - 2020-05-29 02:00:00\n",
      "2020-10-12 18:03:55,904 - june.simulator - INFO - Info for rank 0, Date = 2020-05-29 02:00:00, number of deaths =  0, number of infected = 67\n",
      "2020-10-12 18:03:55,950 - june.simulator - INFO - CMS: Infection COMS for rank 0/1 - 3.3300002542091534e-06,2.86102294921875e-06 - 2020-05-29 02:00:00\n",
      "2020-10-12 18:03:55,998 - june.simulator - INFO - CMS: Timestep for rank 0/1 - 0.42088837900018916, 0.4209020137786865 - 2020-05-29 02:00:00\n",
      "\n",
      "2020-10-12 18:03:55,998 - june.simulator - INFO - ==================== timestep ====================\n",
      "2020-10-12 18:03:56,321 - june.activity.activity_manager - INFO - CMS: People COMS for rank 0/1 - 3.237999862903962e-06,3.0994415283203125e-06 - 2020-05-29 04:00:00\n",
      "2020-10-12 18:03:56,326 - june.simulator - INFO - Info for rank 0, Date = 2020-05-29 04:00:00, number of deaths =  0, number of infected = 72\n",
      "2020-10-12 18:03:56,369 - june.simulator - INFO - CMS: Infection COMS for rank 0/1 - 2.9959996936668176e-06,2.1457672119140625e-06 - 2020-05-29 04:00:00\n",
      "2020-10-12 18:03:56,417 - june.simulator - INFO - CMS: Timestep for rank 0/1 - 0.4184240439999485, 0.4184379577636719 - 2020-05-29 04:00:00\n",
      "\n",
      "2020-10-12 18:03:56,418 - june.simulator - INFO - ==================== timestep ====================\n",
      "2020-10-12 18:03:56,734 - june.activity.activity_manager - INFO - CMS: People COMS for rank 0/1 - 4.4570001591637265e-06,3.814697265625e-06 - 2020-05-29 06:00:00\n",
      "2020-10-12 18:03:56,739 - june.simulator - INFO - Info for rank 0, Date = 2020-05-29 06:00:00, number of deaths =  0, number of infected = 81\n",
      "2020-10-12 18:03:56,787 - june.simulator - INFO - CMS: Infection COMS for rank 0/1 - 3.451999873504974e-06,3.0994415283203125e-06 - 2020-05-29 06:00:00\n",
      "2020-10-12 18:03:56,840 - june.simulator - INFO - CMS: Timestep for rank 0/1 - 0.4213138000000072, 0.421328067779541 - 2020-05-29 06:00:00\n",
      "\n",
      "2020-10-12 18:03:56,840 - june.simulator - INFO - ==================== timestep ====================\n",
      "2020-10-12 18:03:57,159 - june.activity.activity_manager - INFO - CMS: People COMS for rank 0/1 - 3.2640000426908955e-06,2.86102294921875e-06 - 2020-05-29 08:00:00\n",
      "2020-10-12 18:03:57,164 - june.simulator - INFO - Info for rank 0, Date = 2020-05-29 08:00:00, number of deaths =  0, number of infected = 87\n",
      "2020-10-12 18:03:57,210 - june.simulator - INFO - CMS: Infection COMS for rank 0/1 - 3.0720002541784197e-06,2.86102294921875e-06 - 2020-05-29 08:00:00\n",
      "2020-10-12 18:03:57,260 - june.simulator - INFO - CMS: Timestep for rank 0/1 - 0.41949494499976936, 0.4195096492767334 - 2020-05-29 08:00:00\n",
      "\n",
      "2020-10-12 18:03:57,261 - june.simulator - INFO - ==================== timestep ====================\n"
     ]
    },
    {
     "name": "stdout",
     "output_type": "stream",
     "text": [
      "2020-10-12 18:03:57,407 - june.activity.activity_manager - INFO - CMS: People COMS for rank 0/1 - 2.1860000742890406e-06,1.9073486328125e-06 - 2020-05-29 10:00:00\n",
      "2020-10-12 18:03:57,412 - june.simulator - INFO - Info for rank 0, Date = 2020-05-29 10:00:00, number of deaths =  0, number of infected = 94\n",
      "2020-10-12 18:03:57,452 - june.simulator - INFO - CMS: Infection COMS for rank 0/1 - 3.347000074427342e-06,2.1457672119140625e-06 - 2020-05-29 10:00:00\n",
      "2020-10-12 18:03:57,502 - june.simulator - INFO - CMS: Timestep for rank 0/1 - 0.23998331000029793, 0.2399919033050537 - 2020-05-29 10:00:00\n",
      "\n",
      "2020-10-12 18:03:57,502 - june.simulator - INFO - ==================== timestep ====================\n",
      "2020-10-12 18:03:57,641 - june.activity.activity_manager - INFO - CMS: People COMS for rank 0/1 - 2.382999809924513e-06,2.1457672119140625e-06 - 2020-05-30 00:00:00\n",
      "2020-10-12 18:03:57,647 - june.simulator - INFO - Info for rank 0, Date = 2020-05-30 00:00:00, number of deaths =  0, number of infected = 113\n",
      "2020-10-12 18:03:57,679 - june.simulator - INFO - CMS: Infection COMS for rank 0/1 - 3.3430001167289447e-06,2.6226043701171875e-06 - 2020-05-30 00:00:00\n",
      "2020-10-12 18:03:57,729 - june.simulator - INFO - CMS: Timestep for rank 0/1 - 0.2263883190003071, 0.22639679908752441 - 2020-05-30 00:00:00\n",
      "\n",
      "2020-10-12 18:03:57,730 - june.simulator - INFO - ==================== timestep ====================\n",
      "2020-10-12 18:03:58,044 - june.activity.activity_manager - INFO - CMS: People COMS for rank 0/1 - 3.22599998980877e-06,2.86102294921875e-06 - 2020-05-30 03:00:00\n",
      "2020-10-12 18:03:58,051 - june.simulator - INFO - Info for rank 0, Date = 2020-05-30 03:00:00, number of deaths =  0, number of infected = 115\n",
      "2020-10-12 18:03:58,112 - june.simulator - INFO - CMS: Infection COMS for rank 0/1 - 5.055000201537041e-06,4.291534423828125e-06 - 2020-05-30 03:00:00\n",
      "2020-10-12 18:03:58,167 - june.simulator - INFO - CMS: Timestep for rank 0/1 - 0.43715736300009667, 0.43717193603515625 - 2020-05-30 03:00:00\n",
      "\n",
      "2020-10-12 18:03:58,168 - june.simulator - INFO - ==================== timestep ====================\n",
      "2020-10-12 18:03:58,486 - june.activity.activity_manager - INFO - CMS: People COMS for rank 0/1 - 3.056999958062079e-06,1.9073486328125e-06 - 2020-05-30 05:00:00\n",
      "2020-10-12 18:03:58,491 - june.simulator - INFO - Info for rank 0, Date = 2020-05-30 05:00:00, number of deaths =  0, number of infected = 124\n",
      "2020-10-12 18:03:58,533 - june.simulator - INFO - CMS: Infection COMS for rank 0/1 - 3.0169999263307545e-06,1.9073486328125e-06 - 2020-05-30 05:00:00\n",
      "2020-10-12 18:03:58,579 - june.simulator - INFO - CMS: Timestep for rank 0/1 - 0.41036173000020426, 0.41037583351135254 - 2020-05-30 05:00:00\n",
      "\n",
      "2020-10-12 18:03:58,580 - june.simulator - INFO - ==================== timestep ====================\n",
      "2020-10-12 18:03:58,899 - june.activity.activity_manager - INFO - CMS: People COMS for rank 0/1 - 3.867000032187207e-06,3.0994415283203125e-06 - 2020-05-30 07:00:00\n",
      "2020-10-12 18:03:58,904 - june.simulator - INFO - Info for rank 0, Date = 2020-05-30 07:00:00, number of deaths =  0, number of infected = 132\n",
      "2020-10-12 18:03:58,947 - june.simulator - INFO - CMS: Infection COMS for rank 0/1 - 2.783000127237756e-06,3.0994415283203125e-06 - 2020-05-30 07:00:00\n",
      "2020-10-12 18:03:58,994 - june.simulator - INFO - CMS: Timestep for rank 0/1 - 0.4137454910000997, 0.4137589931488037 - 2020-05-30 07:00:00\n",
      "\n",
      "2020-10-12 18:03:58,995 - june.simulator - INFO - ==================== timestep ====================\n",
      "2020-10-12 18:03:59,308 - june.activity.activity_manager - INFO - CMS: People COMS for rank 0/1 - 3.5690000004251488e-06,3.0994415283203125e-06 - 2020-05-30 09:00:00\n",
      "2020-10-12 18:03:59,314 - june.simulator - INFO - Info for rank 0, Date = 2020-05-30 09:00:00, number of deaths =  0, number of infected = 138\n",
      "2020-10-12 18:03:59,360 - june.simulator - INFO - CMS: Infection COMS for rank 0/1 - 3.763000222534174e-06,2.86102294921875e-06 - 2020-05-30 09:00:00\n",
      "2020-10-12 18:03:59,408 - june.simulator - INFO - CMS: Timestep for rank 0/1 - 0.412881429999743, 0.41289591789245605 - 2020-05-30 09:00:00\n",
      "\n",
      "2020-10-12 18:03:59,409 - june.simulator - INFO - ==================== timestep ====================\n",
      "2020-10-12 18:03:59,552 - june.activity.activity_manager - INFO - CMS: People COMS for rank 0/1 - 2.5230001483578235e-06,1.9073486328125e-06 - 2020-05-30 11:00:00\n",
      "2020-10-12 18:03:59,557 - june.simulator - INFO - Info for rank 0, Date = 2020-05-30 11:00:00, number of deaths =  0, number of infected = 149\n",
      "2020-10-12 18:03:59,603 - june.simulator - INFO - CMS: Infection COMS for rank 0/1 - 2.9379998522927053e-06,3.0994415283203125e-06 - 2020-05-30 11:00:00\n",
      "2020-10-12 18:03:59,955 - june.simulator - INFO - CMS: Timestep for rank 0/1 - 0.545695983999849, 0.5457139015197754 - 2020-05-30 11:00:00\n",
      "\n",
      "2020-10-12 18:03:59,955 - june.simulator - INFO - ==================== timestep ====================\n",
      "2020-10-12 18:04:00,110 - june.activity.activity_manager - INFO - CMS: People COMS for rank 0/1 - 2.597000275272876e-06,2.1457672119140625e-06 - 2020-05-31 00:00:00\n",
      "2020-10-12 18:04:00,115 - june.simulator - INFO - Info for rank 0, Date = 2020-05-31 00:00:00, number of deaths =  0, number of infected = 193\n",
      "2020-10-12 18:04:00,155 - june.simulator - INFO - CMS: Infection COMS for rank 0/1 - 3.3100000109698158e-06,3.0994415283203125e-06 - 2020-05-31 00:00:00\n",
      "2020-10-12 18:04:00,205 - june.simulator - INFO - CMS: Timestep for rank 0/1 - 0.24865944699968168, 0.24866938591003418 - 2020-05-31 00:00:00\n",
      "\n",
      "2020-10-12 18:04:00,205 - june.simulator - INFO - ==================== timestep ====================\n",
      "2020-10-12 18:04:00,526 - june.activity.activity_manager - INFO - CMS: People COMS for rank 0/1 - 3.2180000744119752e-06,2.1457672119140625e-06 - 2020-05-31 03:00:00\n",
      "2020-10-12 18:04:00,531 - june.simulator - INFO - Info for rank 0, Date = 2020-05-31 03:00:00, number of deaths =  0, number of infected = 202\n",
      "2020-10-12 18:04:00,582 - june.simulator - INFO - CMS: Infection COMS for rank 0/1 - 3.3850001273094676e-06,2.86102294921875e-06 - 2020-05-31 03:00:00\n",
      "2020-10-12 18:04:00,632 - june.simulator - INFO - CMS: Timestep for rank 0/1 - 0.4256520420003653, 0.42566704750061035 - 2020-05-31 03:00:00\n",
      "\n",
      "2020-10-12 18:04:00,632 - june.simulator - INFO - ==================== timestep ====================\n",
      "2020-10-12 18:04:00,947 - june.activity.activity_manager - INFO - CMS: People COMS for rank 0/1 - 3.308000032120617e-06,3.0994415283203125e-06 - 2020-05-31 05:00:00\n",
      "2020-10-12 18:04:00,953 - june.simulator - INFO - Info for rank 0, Date = 2020-05-31 05:00:00, number of deaths =  0, number of infected = 211\n",
      "2020-10-12 18:04:01,006 - june.simulator - INFO - CMS: Infection COMS for rank 0/1 - 3.4029999369522557e-06,2.86102294921875e-06 - 2020-05-31 05:00:00\n",
      "2020-10-12 18:04:01,057 - june.simulator - INFO - CMS: Timestep for rank 0/1 - 0.42458167199993113, 0.42459702491760254 - 2020-05-31 05:00:00\n",
      "\n",
      "2020-10-12 18:04:01,058 - june.simulator - INFO - ==================== timestep ====================\n",
      "2020-10-12 18:04:01,386 - june.activity.activity_manager - INFO - CMS: People COMS for rank 0/1 - 3.3989999792538583e-06,3.0994415283203125e-06 - 2020-05-31 07:00:00\n",
      "2020-10-12 18:04:01,392 - june.simulator - INFO - Info for rank 0, Date = 2020-05-31 07:00:00, number of deaths =  0, number of infected = 224\n",
      "2020-10-12 18:04:01,441 - june.simulator - INFO - CMS: Infection COMS for rank 0/1 - 3.4509998840803746e-06,2.1457672119140625e-06 - 2020-05-31 07:00:00\n",
      "2020-10-12 18:04:01,492 - june.simulator - INFO - CMS: Timestep for rank 0/1 - 0.4327034780003487, 0.43271803855895996 - 2020-05-31 07:00:00\n",
      "\n",
      "2020-10-12 18:04:01,492 - june.simulator - INFO - ==================== timestep ====================\n",
      "2020-10-12 18:04:01,820 - june.activity.activity_manager - INFO - CMS: People COMS for rank 0/1 - 3.5920002119382843e-06,3.0994415283203125e-06 - 2020-05-31 09:00:00\n",
      "2020-10-12 18:04:01,826 - june.simulator - INFO - Info for rank 0, Date = 2020-05-31 09:00:00, number of deaths =  0, number of infected = 230\n",
      "2020-10-12 18:04:01,876 - june.simulator - INFO - CMS: Infection COMS for rank 0/1 - 3.473000106168911e-06,2.1457672119140625e-06 - 2020-05-31 09:00:00\n",
      "2020-10-12 18:04:01,927 - june.simulator - INFO - CMS: Timestep for rank 0/1 - 0.4339110759997311, 0.4339258670806885 - 2020-05-31 09:00:00\n",
      "\n"
     ]
    },
    {
     "name": "stdout",
     "output_type": "stream",
     "text": [
      "2020-10-12 18:04:01,928 - june.simulator - INFO - ==================== timestep ====================\n",
      "2020-10-12 18:04:02,065 - june.activity.activity_manager - INFO - CMS: People COMS for rank 0/1 - 2.8839999686169904e-06,3.0994415283203125e-06 - 2020-05-31 11:00:00\n",
      "2020-10-12 18:04:02,070 - june.simulator - INFO - Info for rank 0, Date = 2020-05-31 11:00:00, number of deaths =  0, number of infected = 238\n",
      "2020-10-12 18:04:02,114 - june.simulator - INFO - CMS: Infection COMS for rank 0/1 - 3.2399998417531606e-06,2.1457672119140625e-06 - 2020-05-31 11:00:00\n",
      "2020-10-12 18:04:02,161 - june.simulator - INFO - CMS: Timestep for rank 0/1 - 0.23348981299977822, 0.23349928855895996 - 2020-05-31 11:00:00\n",
      "\n",
      "2020-10-12 18:04:02,162 - june.simulator - INFO - ==================== timestep ====================\n",
      "2020-10-12 18:04:02,309 - june.activity.activity_manager - INFO - CMS: People COMS for rank 0/1 - 4.0439999793306924e-06,2.86102294921875e-06 - 2020-06-01 00:00:00\n",
      "2020-10-12 18:04:02,315 - june.simulator - INFO - Info for rank 0, Date = 2020-06-01 00:00:00, number of deaths =  0, number of infected = 271\n",
      "2020-10-12 18:04:02,355 - june.simulator - INFO - CMS: Infection COMS for rank 0/1 - 3.833999926428078e-06,2.86102294921875e-06 - 2020-06-01 00:00:00\n",
      "2020-10-12 18:04:02,407 - june.simulator - INFO - CMS: Timestep for rank 0/1 - 0.2444729520002511, 0.24448204040527344 - 2020-06-01 00:00:00\n",
      "\n",
      "2020-10-12 18:04:02,408 - june.simulator - INFO - ==================== timestep ====================\n",
      "2020-10-12 18:04:02,725 - june.activity.activity_manager - INFO - CMS: People COMS for rank 0/1 - 3.200000264769187e-06,1.9073486328125e-06 - 2020-06-01 02:00:00\n",
      "2020-10-12 18:04:02,730 - june.simulator - INFO - Info for rank 0, Date = 2020-06-01 02:00:00, number of deaths =  0, number of infected = 280\n",
      "2020-10-12 18:04:02,779 - june.simulator - INFO - CMS: Infection COMS for rank 0/1 - 3.2950001696008258e-06,1.9073486328125e-06 - 2020-06-01 02:00:00\n",
      "2020-10-12 18:04:02,832 - june.simulator - INFO - CMS: Timestep for rank 0/1 - 0.4232421639999302, 0.42325615882873535 - 2020-06-01 02:00:00\n",
      "\n",
      "2020-10-12 18:04:02,832 - june.simulator - INFO - ==================== timestep ====================\n",
      "2020-10-12 18:04:03,156 - june.activity.activity_manager - INFO - CMS: People COMS for rank 0/1 - 3.4300001061637886e-06,2.1457672119140625e-06 - 2020-06-01 04:00:00\n",
      "2020-10-12 18:04:03,161 - june.simulator - INFO - Info for rank 0, Date = 2020-06-01 04:00:00, number of deaths =  0, number of infected = 287\n",
      "2020-10-12 18:04:03,214 - june.simulator - INFO - CMS: Infection COMS for rank 0/1 - 3.4419999792589806e-06,3.0994415283203125e-06 - 2020-06-01 04:00:00\n",
      "2020-10-12 18:04:03,270 - june.simulator - INFO - CMS: Timestep for rank 0/1 - 0.43758695399992575, 0.43760108947753906 - 2020-06-01 04:00:00\n",
      "\n",
      "2020-10-12 18:04:03,271 - june.simulator - INFO - ==================== timestep ====================\n",
      "2020-10-12 18:04:03,600 - june.activity.activity_manager - INFO - CMS: People COMS for rank 0/1 - 3.2089997148432303e-06,3.0994415283203125e-06 - 2020-06-01 06:00:00\n",
      "2020-10-12 18:04:03,606 - june.simulator - INFO - Info for rank 0, Date = 2020-06-01 06:00:00, number of deaths =  0, number of infected = 295\n",
      "2020-10-12 18:04:03,655 - june.simulator - INFO - CMS: Infection COMS for rank 0/1 - 3.479000042716507e-06,3.0994415283203125e-06 - 2020-06-01 06:00:00\n",
      "2020-10-12 18:04:03,708 - june.simulator - INFO - CMS: Timestep for rank 0/1 - 0.4363248940003359, 0.43634033203125 - 2020-06-01 06:00:00\n",
      "\n",
      "2020-10-12 18:04:03,709 - june.simulator - INFO - ==================== timestep ====================\n",
      "2020-10-12 18:04:04,059 - june.activity.activity_manager - INFO - CMS: People COMS for rank 0/1 - 4.398999863042263e-06,4.0531158447265625e-06 - 2020-06-01 08:00:00\n",
      "2020-10-12 18:04:04,065 - june.simulator - INFO - Info for rank 0, Date = 2020-06-01 08:00:00, number of deaths =  0, number of infected = 308\n",
      "2020-10-12 18:04:04,125 - june.simulator - INFO - CMS: Infection COMS for rank 0/1 - 3.6799997360503767e-06,3.0994415283203125e-06 - 2020-06-01 08:00:00\n",
      "2020-10-12 18:04:04,217 - june.simulator - INFO - CMS: Timestep for rank 0/1 - 0.5077322670003923, 0.507749080657959 - 2020-06-01 08:00:00\n",
      "\n",
      "2020-10-12 18:04:04,218 - june.simulator - INFO - ==================== timestep ====================\n",
      "2020-10-12 18:04:04,378 - june.activity.activity_manager - INFO - CMS: People COMS for rank 0/1 - 2.6310003704566043e-06,2.1457672119140625e-06 - 2020-06-01 10:00:00\n",
      "2020-10-12 18:04:04,383 - june.simulator - INFO - Info for rank 0, Date = 2020-06-01 10:00:00, number of deaths =  0, number of infected = 323\n",
      "2020-10-12 18:04:04,435 - june.simulator - INFO - CMS: Infection COMS for rank 0/1 - 3.437000032135984e-06,2.86102294921875e-06 - 2020-06-01 10:00:00\n",
      "2020-10-12 18:04:04,484 - june.simulator - INFO - CMS: Timestep for rank 0/1 - 0.2650752949998605, 0.26508522033691406 - 2020-06-01 10:00:00\n",
      "\n",
      "2020-10-12 18:04:04,485 - june.simulator - INFO - ==================== timestep ====================\n",
      "2020-10-12 18:04:04,631 - june.activity.activity_manager - INFO - CMS: People COMS for rank 0/1 - 2.4139999368344434e-06,1.6689300537109375e-06 - 2020-06-02 00:00:00\n",
      "2020-10-12 18:04:04,636 - june.simulator - INFO - Info for rank 0, Date = 2020-06-02 00:00:00, number of deaths =  0, number of infected = 376\n",
      "2020-10-12 18:04:04,678 - june.simulator - INFO - CMS: Infection COMS for rank 0/1 - 3.425000159040792e-06,2.86102294921875e-06 - 2020-06-02 00:00:00\n",
      "2020-10-12 18:04:04,723 - june.simulator - INFO - CMS: Timestep for rank 0/1 - 0.2382710470001257, 0.2382798194885254 - 2020-06-02 00:00:00\n",
      "\n",
      "2020-10-12 18:04:04,724 - june.simulator - INFO - ==================== timestep ====================\n",
      "2020-10-12 18:04:05,052 - june.activity.activity_manager - INFO - CMS: People COMS for rank 0/1 - 3.600000127335079e-06,3.0994415283203125e-06 - 2020-06-02 02:00:00\n",
      "2020-10-12 18:04:05,058 - june.simulator - INFO - Info for rank 0, Date = 2020-06-02 02:00:00, number of deaths =  0, number of infected = 396\n",
      "2020-10-12 18:04:05,108 - june.simulator - INFO - CMS: Infection COMS for rank 0/1 - 2.978999873448629e-06,1.9073486328125e-06 - 2020-06-02 02:00:00\n",
      "2020-10-12 18:04:05,156 - june.simulator - INFO - CMS: Timestep for rank 0/1 - 0.431531219000135, 0.4315457344055176 - 2020-06-02 02:00:00\n",
      "\n",
      "2020-10-12 18:04:05,157 - june.simulator - INFO - ==================== timestep ====================\n",
      "2020-10-12 18:04:05,475 - june.activity.activity_manager - INFO - CMS: People COMS for rank 0/1 - 3.4149998100474477e-06,3.0994415283203125e-06 - 2020-06-02 04:00:00\n",
      "2020-10-12 18:04:05,480 - june.simulator - INFO - Info for rank 0, Date = 2020-06-02 04:00:00, number of deaths =  0, number of infected = 413\n",
      "2020-10-12 18:04:05,529 - june.simulator - INFO - CMS: Infection COMS for rank 0/1 - 2.9779998840240296e-06,2.86102294921875e-06 - 2020-06-02 04:00:00\n",
      "2020-10-12 18:04:05,582 - june.simulator - INFO - CMS: Timestep for rank 0/1 - 0.42515519899961873, 0.4251699447631836 - 2020-06-02 04:00:00\n",
      "\n",
      "2020-10-12 18:04:05,583 - june.simulator - INFO - ==================== timestep ====================\n",
      "2020-10-12 18:04:05,906 - june.activity.activity_manager - INFO - CMS: People COMS for rank 0/1 - 3.678000211948529e-06,3.0994415283203125e-06 - 2020-06-02 06:00:00\n",
      "2020-10-12 18:04:05,911 - june.simulator - INFO - Info for rank 0, Date = 2020-06-02 06:00:00, number of deaths =  0, number of infected = 429\n",
      "2020-10-12 18:04:05,966 - june.simulator - INFO - CMS: Infection COMS for rank 0/1 - 3.558000116754556e-06,2.1457672119140625e-06 - 2020-06-02 06:00:00\n",
      "2020-10-12 18:04:06,017 - june.simulator - INFO - CMS: Timestep for rank 0/1 - 0.4337826050000331, 0.43379807472229004 - 2020-06-02 06:00:00\n",
      "\n",
      "2020-10-12 18:04:06,018 - june.simulator - INFO - ==================== timestep ====================\n",
      "2020-10-12 18:04:06,340 - june.activity.activity_manager - INFO - CMS: People COMS for rank 0/1 - 3.2339999052055646e-06,3.0994415283203125e-06 - 2020-06-02 08:00:00\n",
      "2020-10-12 18:04:06,345 - june.simulator - INFO - Info for rank 0, Date = 2020-06-02 08:00:00, number of deaths =  0, number of infected = 464\n",
      "2020-10-12 18:04:06,406 - june.simulator - INFO - CMS: Infection COMS for rank 0/1 - 3.2640000426908955e-06,1.9073486328125e-06 - 2020-06-02 08:00:00\n"
     ]
    },
    {
     "name": "stdout",
     "output_type": "stream",
     "text": [
      "2020-10-12 18:04:06,458 - june.simulator - INFO - CMS: Timestep for rank 0/1 - 0.4400941940002667, 0.4401090145111084 - 2020-06-02 08:00:00\n",
      "\n",
      "2020-10-12 18:04:06,459 - june.simulator - INFO - ==================== timestep ====================\n",
      "2020-10-12 18:04:06,602 - june.activity.activity_manager - INFO - CMS: People COMS for rank 0/1 - 3.896000180247938e-06,3.0994415283203125e-06 - 2020-06-02 10:00:00\n",
      "2020-10-12 18:04:06,608 - june.simulator - INFO - Info for rank 0, Date = 2020-06-02 10:00:00, number of deaths =  0, number of infected = 497\n",
      "2020-10-12 18:04:06,674 - june.simulator - INFO - CMS: Infection COMS for rank 0/1 - 3.4119998417736497e-06,2.1457672119140625e-06 - 2020-06-02 10:00:00\n",
      "2020-10-12 18:04:06,726 - june.simulator - INFO - CMS: Timestep for rank 0/1 - 0.2668363830002818, 0.2668449878692627 - 2020-06-02 10:00:00\n",
      "\n",
      "2020-10-12 18:04:06,727 - june.simulator - INFO - ==================== timestep ====================\n",
      "2020-10-12 18:04:06,873 - june.activity.activity_manager - INFO - CMS: People COMS for rank 0/1 - 2.9080001695547253e-06,2.1457672119140625e-06 - 2020-06-03 00:00:00\n",
      "2020-10-12 18:04:06,879 - june.simulator - INFO - Info for rank 0, Date = 2020-06-03 00:00:00, number of deaths =  0, number of infected = 584\n",
      "2020-10-12 18:04:06,924 - june.simulator - INFO - CMS: Infection COMS for rank 0/1 - 3.4509998840803746e-06,2.86102294921875e-06 - 2020-06-03 00:00:00\n",
      "2020-10-12 18:04:06,975 - june.simulator - INFO - CMS: Timestep for rank 0/1 - 0.24728533999996216, 0.24729418754577637 - 2020-06-03 00:00:00\n",
      "\n",
      "2020-10-12 18:04:06,976 - june.simulator - INFO - ==================== timestep ====================\n",
      "2020-10-12 18:04:07,295 - june.activity.activity_manager - INFO - CMS: People COMS for rank 0/1 - 3.1760000638314523e-06,3.0994415283203125e-06 - 2020-06-03 02:00:00\n",
      "2020-10-12 18:04:07,300 - june.simulator - INFO - Info for rank 0, Date = 2020-06-03 02:00:00, number of deaths =  0, number of infected = 611\n",
      "2020-10-12 18:04:07,355 - june.simulator - INFO - CMS: Infection COMS for rank 0/1 - 2.9240000003483146e-06,3.0994415283203125e-06 - 2020-06-03 02:00:00\n",
      "2020-10-12 18:04:07,407 - june.simulator - INFO - CMS: Timestep for rank 0/1 - 0.430666366999958, 0.4306809902191162 - 2020-06-03 02:00:00\n",
      "\n",
      "2020-10-12 18:04:07,407 - june.simulator - INFO - ==================== timestep ====================\n",
      "2020-10-12 18:04:07,733 - june.activity.activity_manager - INFO - CMS: People COMS for rank 0/1 - 3.485999968688702e-06,3.0994415283203125e-06 - 2020-06-03 04:00:00\n",
      "2020-10-12 18:04:07,738 - june.simulator - INFO - Info for rank 0, Date = 2020-06-03 04:00:00, number of deaths =  0, number of infected = 642\n",
      "2020-10-12 18:04:07,799 - june.simulator - INFO - CMS: Infection COMS for rank 0/1 - 3.4659997254493646e-06,2.86102294921875e-06 - 2020-06-03 04:00:00\n",
      "2020-10-12 18:04:07,851 - june.simulator - INFO - CMS: Timestep for rank 0/1 - 0.4433281530000386, 0.4433426856994629 - 2020-06-03 04:00:00\n",
      "\n",
      "2020-10-12 18:04:07,852 - june.simulator - INFO - ==================== timestep ====================\n",
      "2020-10-12 18:04:08,177 - june.activity.activity_manager - INFO - CMS: People COMS for rank 0/1 - 3.2789998840598855e-06,2.1457672119140625e-06 - 2020-06-03 06:00:00\n",
      "2020-10-12 18:04:08,183 - june.simulator - INFO - Info for rank 0, Date = 2020-06-03 06:00:00, number of deaths =  0, number of infected = 674\n",
      "2020-10-12 18:04:08,244 - june.simulator - INFO - CMS: Infection COMS for rank 0/1 - 3.4240001696161926e-06,2.86102294921875e-06 - 2020-06-03 06:00:00\n",
      "2020-10-12 18:04:08,297 - june.simulator - INFO - CMS: Timestep for rank 0/1 - 0.4444489410002461, 0.44446420669555664 - 2020-06-03 06:00:00\n",
      "\n",
      "2020-10-12 18:04:08,298 - june.simulator - INFO - ==================== timestep ====================\n",
      "2020-10-12 18:04:08,620 - june.activity.activity_manager - INFO - CMS: People COMS for rank 0/1 - 3.3070000426960178e-06,3.0994415283203125e-06 - 2020-06-03 08:00:00\n",
      "2020-10-12 18:04:08,625 - june.simulator - INFO - Info for rank 0, Date = 2020-06-03 08:00:00, number of deaths =  0, number of infected = 707\n",
      "2020-10-12 18:04:08,685 - june.simulator - INFO - CMS: Infection COMS for rank 0/1 - 3.0080000215093605e-06,3.0994415283203125e-06 - 2020-06-03 08:00:00\n",
      "2020-10-12 18:04:08,738 - june.simulator - INFO - CMS: Timestep for rank 0/1 - 0.4399707180000405, 0.439985990524292 - 2020-06-03 08:00:00\n",
      "\n",
      "2020-10-12 18:04:08,739 - june.simulator - INFO - ==================== timestep ====================\n",
      "2020-10-12 18:04:08,882 - june.activity.activity_manager - INFO - CMS: People COMS for rank 0/1 - 2.565999693615595e-06,1.9073486328125e-06 - 2020-06-03 10:00:00\n",
      "2020-10-12 18:04:08,888 - june.simulator - INFO - Info for rank 0, Date = 2020-06-03 10:00:00, number of deaths =  0, number of infected = 731\n",
      "2020-10-12 18:04:08,956 - june.simulator - INFO - CMS: Infection COMS for rank 0/1 - 3.053999989788281e-06,2.1457672119140625e-06 - 2020-06-03 10:00:00\n",
      "2020-10-12 18:04:09,008 - june.simulator - INFO - CMS: Timestep for rank 0/1 - 0.26867831599975034, 0.2686879634857178 - 2020-06-03 10:00:00\n",
      "\n",
      "2020-10-12 18:04:09,009 - june.simulator - INFO - ==================== timestep ====================\n",
      "2020-10-12 18:04:09,147 - june.activity.activity_manager - INFO - CMS: People COMS for rank 0/1 - 2.3000002329354174e-06,1.9073486328125e-06 - 2020-06-04 00:00:00\n",
      "2020-10-12 18:04:09,153 - june.simulator - INFO - Info for rank 0, Date = 2020-06-04 00:00:00, number of deaths =  0, number of infected = 845\n",
      "2020-10-12 18:04:09,197 - june.simulator - INFO - CMS: Infection COMS for rank 0/1 - 3.253000159020303e-06,2.6226043701171875e-06 - 2020-06-04 00:00:00\n",
      "2020-10-12 18:04:09,251 - june.simulator - INFO - CMS: Timestep for rank 0/1 - 0.24201513199977853, 0.24202370643615723 - 2020-06-04 00:00:00\n",
      "\n",
      "2020-10-12 18:04:09,252 - june.simulator - INFO - ==================== timestep ====================\n",
      "2020-10-12 18:04:09,566 - june.activity.activity_manager - INFO - CMS: People COMS for rank 0/1 - 2.6530001377977896e-06,2.1457672119140625e-06 - 2020-06-04 02:00:00\n",
      "2020-10-12 18:04:09,572 - june.simulator - INFO - Info for rank 0, Date = 2020-06-04 02:00:00, number of deaths =  0, number of infected = 866\n",
      "2020-10-12 18:04:09,626 - june.simulator - INFO - CMS: Infection COMS for rank 0/1 - 2.8310000743658748e-06,3.0994415283203125e-06 - 2020-06-04 02:00:00\n",
      "2020-10-12 18:04:09,679 - june.simulator - INFO - CMS: Timestep for rank 0/1 - 0.4267534870000418, 0.42676782608032227 - 2020-06-04 02:00:00\n",
      "\n",
      "2020-10-12 18:04:09,680 - june.simulator - INFO - ==================== timestep ====================\n",
      "2020-10-12 18:04:10,000 - june.activity.activity_manager - INFO - CMS: People COMS for rank 0/1 - 3.561000085028354e-06,2.86102294921875e-06 - 2020-06-04 04:00:00\n",
      "2020-10-12 18:04:10,005 - june.simulator - INFO - Info for rank 0, Date = 2020-06-04 04:00:00, number of deaths =  0, number of infected = 897\n",
      "2020-10-12 18:04:10,067 - june.simulator - INFO - CMS: Infection COMS for rank 0/1 - 3.470000137895113e-06,2.86102294921875e-06 - 2020-06-04 04:00:00\n",
      "2020-10-12 18:04:10,123 - june.simulator - INFO - CMS: Timestep for rank 0/1 - 0.4423664840001038, 0.4423818588256836 - 2020-06-04 04:00:00\n",
      "\n",
      "2020-10-12 18:04:10,123 - june.simulator - INFO - ==================== timestep ====================\n",
      "2020-10-12 18:04:10,440 - june.activity.activity_manager - INFO - CMS: People COMS for rank 0/1 - 3.2129996725416277e-06,2.86102294921875e-06 - 2020-06-04 06:00:00\n",
      "2020-10-12 18:04:10,447 - june.simulator - INFO - Info for rank 0, Date = 2020-06-04 06:00:00, number of deaths =  0, number of infected = 943\n",
      "2020-10-12 18:04:10,505 - june.simulator - INFO - CMS: Infection COMS for rank 0/1 - 3.1139998100115918e-06,1.9073486328125e-06 - 2020-06-04 06:00:00\n",
      "2020-10-12 18:04:10,557 - june.simulator - INFO - CMS: Timestep for rank 0/1 - 0.43344287400032044, 0.4334580898284912 - 2020-06-04 06:00:00\n",
      "\n",
      "2020-10-12 18:04:10,558 - june.simulator - INFO - ==================== timestep ====================\n",
      "2020-10-12 18:04:10,880 - june.activity.activity_manager - INFO - CMS: People COMS for rank 0/1 - 3.3609999263717327e-06,3.0994415283203125e-06 - 2020-06-04 08:00:00\n",
      "2020-10-12 18:04:10,885 - june.simulator - INFO - Info for rank 0, Date = 2020-06-04 08:00:00, number of deaths =  0, number of infected = 987\n"
     ]
    },
    {
     "name": "stdout",
     "output_type": "stream",
     "text": [
      "2020-10-12 18:04:10,943 - june.simulator - INFO - CMS: Infection COMS for rank 0/1 - 2.9440002435876522e-06,2.1457672119140625e-06 - 2020-06-04 08:00:00\n",
      "2020-10-12 18:04:10,998 - june.simulator - INFO - CMS: Timestep for rank 0/1 - 0.43964069999992716, 0.43965578079223633 - 2020-06-04 08:00:00\n",
      "\n",
      "2020-10-12 18:04:10,999 - june.simulator - INFO - ==================== timestep ====================\n",
      "2020-10-12 18:04:11,147 - june.activity.activity_manager - INFO - CMS: People COMS for rank 0/1 - 2.9449997782649007e-06,2.1457672119140625e-06 - 2020-06-04 10:00:00\n",
      "2020-10-12 18:04:11,152 - june.simulator - INFO - Info for rank 0, Date = 2020-06-04 10:00:00, number of deaths =  0, number of infected = 1016\n",
      "2020-10-12 18:04:11,232 - june.simulator - INFO - CMS: Infection COMS for rank 0/1 - 3.0900000638212077e-06,3.0994415283203125e-06 - 2020-06-04 10:00:00\n",
      "2020-10-12 18:04:11,288 - june.simulator - INFO - CMS: Timestep for rank 0/1 - 0.28871137500027544, 0.28872084617614746 - 2020-06-04 10:00:00\n",
      "\n",
      "2020-10-12 18:04:11,289 - june.simulator - INFO - ==================== timestep ====================\n",
      "2020-10-12 18:04:11,429 - june.activity.activity_manager - INFO - CMS: People COMS for rank 0/1 - 2.530000074330019e-06,1.6689300537109375e-06 - 2020-06-05 00:00:00\n",
      "2020-10-12 18:04:11,434 - june.simulator - INFO - Info for rank 0, Date = 2020-06-05 00:00:00, number of deaths =  0, number of infected = 1175\n",
      "2020-10-12 18:04:11,477 - june.simulator - INFO - CMS: Infection COMS for rank 0/1 - 2.9140001061023213e-06,2.86102294921875e-06 - 2020-06-05 00:00:00\n",
      "2020-10-12 18:04:11,527 - june.simulator - INFO - CMS: Timestep for rank 0/1 - 0.23805160300025818, 0.23806071281433105 - 2020-06-05 00:00:00\n",
      "\n",
      "2020-10-12 18:04:11,528 - june.simulator - INFO - ==================== timestep ====================\n",
      "2020-10-12 18:04:11,852 - june.activity.activity_manager - INFO - CMS: People COMS for rank 0/1 - 3.3119999898190144e-06,2.1457672119140625e-06 - 2020-06-05 02:00:00\n",
      "2020-10-12 18:04:11,858 - june.simulator - INFO - Info for rank 0, Date = 2020-06-05 02:00:00, number of deaths =  0, number of infected = 1203\n",
      "2020-10-12 18:04:11,921 - june.simulator - INFO - CMS: Infection COMS for rank 0/1 - 3.1230001695803367e-06,1.9073486328125e-06 - 2020-06-05 02:00:00\n",
      "2020-10-12 18:04:11,974 - june.simulator - INFO - CMS: Timestep for rank 0/1 - 0.4455613260001883, 0.4455759525299072 - 2020-06-05 02:00:00\n",
      "\n",
      "2020-10-12 18:04:11,975 - june.simulator - INFO - ==================== timestep ====================\n",
      "2020-10-12 18:04:12,306 - june.activity.activity_manager - INFO - CMS: People COMS for rank 0/1 - 3.4419999792589806e-06,2.1457672119140625e-06 - 2020-06-05 04:00:00\n",
      "2020-10-12 18:04:12,311 - june.simulator - INFO - Info for rank 0, Date = 2020-06-05 04:00:00, number of deaths =  0, number of infected = 1251\n",
      "2020-10-12 18:04:12,380 - june.simulator - INFO - CMS: Infection COMS for rank 0/1 - 2.840999968611868e-06,2.1457672119140625e-06 - 2020-06-05 04:00:00\n",
      "2020-10-12 18:04:12,436 - june.simulator - INFO - CMS: Timestep for rank 0/1 - 0.461037769000086, 0.46105313301086426 - 2020-06-05 04:00:00\n",
      "\n",
      "2020-10-12 18:04:12,437 - june.simulator - INFO - ==================== timestep ====================\n",
      "2020-10-12 18:04:12,766 - june.activity.activity_manager - INFO - CMS: People COMS for rank 0/1 - 3.482000010990305e-06,3.0994415283203125e-06 - 2020-06-05 06:00:00\n",
      "2020-10-12 18:04:12,771 - june.simulator - INFO - Info for rank 0, Date = 2020-06-05 06:00:00, number of deaths =  0, number of infected = 1300\n",
      "2020-10-12 18:04:12,839 - june.simulator - INFO - CMS: Infection COMS for rank 0/1 - 2.995000158989569e-06,1.9073486328125e-06 - 2020-06-05 06:00:00\n",
      "2020-10-12 18:04:12,898 - june.simulator - INFO - CMS: Timestep for rank 0/1 - 0.4600415449999673, 0.4600558280944824 - 2020-06-05 06:00:00\n",
      "\n",
      "2020-10-12 18:04:12,898 - june.simulator - INFO - ==================== timestep ====================\n",
      "2020-10-12 18:04:13,225 - june.activity.activity_manager - INFO - CMS: People COMS for rank 0/1 - 3.308000032120617e-06,2.86102294921875e-06 - 2020-06-05 08:00:00\n",
      "2020-10-12 18:04:13,230 - june.simulator - INFO - Info for rank 0, Date = 2020-06-05 08:00:00, number of deaths =  0, number of infected = 1346\n",
      "2020-10-12 18:04:13,296 - june.simulator - INFO - CMS: Infection COMS for rank 0/1 - 3.3989999792538583e-06,2.1457672119140625e-06 - 2020-06-05 08:00:00\n",
      "2020-10-12 18:04:13,353 - june.simulator - INFO - CMS: Timestep for rank 0/1 - 0.45408439000038925, 0.4541029930114746 - 2020-06-05 08:00:00\n",
      "\n",
      "2020-10-12 18:04:13,354 - june.simulator - INFO - ==================== timestep ====================\n",
      "2020-10-12 18:04:13,500 - june.activity.activity_manager - INFO - CMS: People COMS for rank 0/1 - 2.4449996089970227e-06,2.1457672119140625e-06 - 2020-06-05 10:00:00\n",
      "2020-10-12 18:04:13,506 - june.simulator - INFO - Info for rank 0, Date = 2020-06-05 10:00:00, number of deaths =  0, number of infected = 1395\n",
      "2020-10-12 18:04:13,600 - june.simulator - INFO - CMS: Infection COMS for rank 0/1 - 3.4479999158065766e-06,3.0994415283203125e-06 - 2020-06-05 10:00:00\n",
      "2020-10-12 18:04:13,660 - june.simulator - INFO - CMS: Timestep for rank 0/1 - 0.30617779299973336, 0.30618906021118164 - 2020-06-05 10:00:00\n",
      "\n",
      "2020-10-12 18:04:13,661 - june.simulator - INFO - ==================== timestep ====================\n",
      "2020-10-12 18:04:13,810 - june.activity.activity_manager - INFO - CMS: People COMS for rank 0/1 - 2.9269999686221126e-06,2.1457672119140625e-06 - 2020-06-06 00:00:00\n",
      "2020-10-12 18:04:13,816 - june.simulator - INFO - Info for rank 0, Date = 2020-06-06 00:00:00, number of deaths =  0, number of infected = 1586\n",
      "2020-10-12 18:04:13,873 - june.simulator - INFO - CMS: Infection COMS for rank 0/1 - 3.509000180201838e-06,1.9073486328125e-06 - 2020-06-06 00:00:00\n",
      "2020-10-12 18:04:13,934 - june.simulator - INFO - CMS: Timestep for rank 0/1 - 0.2718880909997097, 0.2718968391418457 - 2020-06-06 00:00:00\n",
      "\n",
      "2020-10-12 18:04:13,935 - june.simulator - INFO - ==================== timestep ====================\n",
      "2020-10-12 18:04:14,258 - june.activity.activity_manager - INFO - CMS: People COMS for rank 0/1 - 3.340999683132395e-06,2.6226043701171875e-06 - 2020-06-06 03:00:00\n",
      "2020-10-12 18:04:14,263 - june.simulator - INFO - Info for rank 0, Date = 2020-06-06 03:00:00, number of deaths =  0, number of infected = 1644\n",
      "2020-10-12 18:04:14,328 - june.simulator - INFO - CMS: Infection COMS for rank 0/1 - 2.9409998205665033e-06,1.9073486328125e-06 - 2020-06-06 03:00:00\n",
      "2020-10-12 18:04:14,381 - june.simulator - INFO - CMS: Timestep for rank 0/1 - 0.4453440900001624, 0.4453587532043457 - 2020-06-06 03:00:00\n",
      "\n",
      "2020-10-12 18:04:14,381 - june.simulator - INFO - ==================== timestep ====================\n",
      "2020-10-12 18:04:14,707 - june.activity.activity_manager - INFO - CMS: People COMS for rank 0/1 - 2.8220001695444807e-06,2.1457672119140625e-06 - 2020-06-06 05:00:00\n",
      "2020-10-12 18:04:14,712 - june.simulator - INFO - Info for rank 0, Date = 2020-06-06 05:00:00, number of deaths =  0, number of infected = 1701\n",
      "2020-10-12 18:04:14,787 - june.simulator - INFO - CMS: Infection COMS for rank 0/1 - 3.1279996619559824e-06,3.0994415283203125e-06 - 2020-06-06 05:00:00\n",
      "2020-10-12 18:04:14,848 - june.simulator - INFO - CMS: Timestep for rank 0/1 - 0.46661237999978766, 0.466627836227417 - 2020-06-06 05:00:00\n",
      "\n",
      "2020-10-12 18:04:14,849 - june.simulator - INFO - ==================== timestep ====================\n",
      "2020-10-12 18:04:15,177 - june.activity.activity_manager - INFO - CMS: People COMS for rank 0/1 - 3.172000106133055e-06,3.0994415283203125e-06 - 2020-06-06 07:00:00\n",
      "2020-10-12 18:04:15,183 - june.simulator - INFO - Info for rank 0, Date = 2020-06-06 07:00:00, number of deaths =  0, number of infected = 1765\n",
      "2020-10-12 18:04:15,251 - june.simulator - INFO - CMS: Infection COMS for rank 0/1 - 3.1230001695803367e-06,1.9073486328125e-06 - 2020-06-06 07:00:00\n",
      "2020-10-12 18:04:15,312 - june.simulator - INFO - CMS: Timestep for rank 0/1 - 0.46167416400021466, 0.46169018745422363 - 2020-06-06 07:00:00\n",
      "\n",
      "2020-10-12 18:04:15,312 - june.simulator - INFO - ==================== timestep ====================\n",
      "2020-10-12 18:04:15,649 - june.activity.activity_manager - INFO - CMS: People COMS for rank 0/1 - 3.483000000414904e-06,2.86102294921875e-06 - 2020-06-06 09:00:00\n"
     ]
    },
    {
     "name": "stdout",
     "output_type": "stream",
     "text": [
      "2020-10-12 18:04:15,655 - june.simulator - INFO - Info for rank 0, Date = 2020-06-06 09:00:00, number of deaths =  0, number of infected = 1827\n",
      "2020-10-12 18:04:15,727 - june.simulator - INFO - CMS: Infection COMS for rank 0/1 - 2.8960002964595333e-06,2.1457672119140625e-06 - 2020-06-06 09:00:00\n",
      "2020-10-12 18:04:15,781 - june.simulator - INFO - CMS: Timestep for rank 0/1 - 0.46790380300035395, 0.46791887283325195 - 2020-06-06 09:00:00\n",
      "\n",
      "2020-10-12 18:04:15,781 - june.simulator - INFO - ==================== timestep ====================\n",
      "2020-10-12 18:04:15,934 - june.activity.activity_manager - INFO - CMS: People COMS for rank 0/1 - 2.7179999051440973e-06,1.9073486328125e-06 - 2020-06-06 11:00:00\n",
      "2020-10-12 18:04:15,940 - june.simulator - INFO - Info for rank 0, Date = 2020-06-06 11:00:00, number of deaths =  0, number of infected = 1903\n",
      "2020-10-12 18:04:16,046 - june.simulator - INFO - CMS: Infection COMS for rank 0/1 - 3.1889999263512436e-06,3.0994415283203125e-06 - 2020-06-06 11:00:00\n",
      "2020-10-12 18:04:16,109 - june.simulator - INFO - CMS: Timestep for rank 0/1 - 0.32672223100007614, 0.3267331123352051 - 2020-06-06 11:00:00\n",
      "\n",
      "2020-10-12 18:04:16,110 - june.simulator - INFO - ==================== timestep ====================\n",
      "2020-10-12 18:04:16,253 - june.activity.activity_manager - INFO - CMS: People COMS for rank 0/1 - 3.279999873484485e-06,3.0994415283203125e-06 - 2020-06-07 00:00:00\n",
      "2020-10-12 18:04:16,258 - june.simulator - INFO - Info for rank 0, Date = 2020-06-07 00:00:00, number of deaths =  0, number of infected = 2142\n",
      "2020-10-12 18:04:16,323 - june.simulator - INFO - CMS: Infection COMS for rank 0/1 - 3.400999958103057e-06,2.86102294921875e-06 - 2020-06-07 00:00:00\n",
      "2020-10-12 18:04:16,387 - june.simulator - INFO - CMS: Timestep for rank 0/1 - 0.2766628400004265, 0.2766752243041992 - 2020-06-07 00:00:00\n",
      "\n",
      "2020-10-12 18:04:16,388 - june.simulator - INFO - ==================== timestep ====================\n",
      "2020-10-12 18:04:16,714 - june.activity.activity_manager - INFO - CMS: People COMS for rank 0/1 - 3.1470003705180716e-06,2.86102294921875e-06 - 2020-06-07 03:00:00\n",
      "2020-10-12 18:04:16,720 - june.simulator - INFO - Info for rank 0, Date = 2020-06-07 03:00:00, number of deaths =  0, number of infected = 2224\n",
      "2020-10-12 18:04:16,795 - june.simulator - INFO - CMS: Infection COMS for rank 0/1 - 3.056999958062079e-06,1.9073486328125e-06 - 2020-06-07 03:00:00\n",
      "2020-10-12 18:04:16,858 - june.simulator - INFO - CMS: Timestep for rank 0/1 - 0.4700300130002688, 0.470045804977417 - 2020-06-07 03:00:00\n",
      "\n",
      "2020-10-12 18:04:16,859 - june.simulator - INFO - ==================== timestep ====================\n",
      "2020-10-12 18:04:17,181 - june.activity.activity_manager - INFO - CMS: People COMS for rank 0/1 - 3.4739996408461593e-06,3.0994415283203125e-06 - 2020-06-07 05:00:00\n",
      "2020-10-12 18:04:17,188 - june.simulator - INFO - Info for rank 0, Date = 2020-06-07 05:00:00, number of deaths =  0, number of infected = 2293\n",
      "2020-10-12 18:04:17,268 - june.simulator - INFO - CMS: Infection COMS for rank 0/1 - 3.0740002330276184e-06,3.0994415283203125e-06 - 2020-06-07 05:00:00\n",
      "2020-10-12 18:04:17,330 - june.simulator - INFO - CMS: Timestep for rank 0/1 - 0.470731411000088, 0.4707479476928711 - 2020-06-07 05:00:00\n",
      "\n",
      "2020-10-12 18:04:17,331 - june.simulator - INFO - ==================== timestep ====================\n",
      "2020-10-12 18:04:17,659 - june.activity.activity_manager - INFO - CMS: People COMS for rank 0/1 - 3.268999989813892e-06,3.0994415283203125e-06 - 2020-06-07 07:00:00\n",
      "2020-10-12 18:04:17,664 - june.simulator - INFO - Info for rank 0, Date = 2020-06-07 07:00:00, number of deaths =  0, number of infected = 2374\n",
      "2020-10-12 18:04:17,744 - june.simulator - INFO - CMS: Infection COMS for rank 0/1 - 2.9230000109237153e-06,1.9073486328125e-06 - 2020-06-07 07:00:00\n",
      "2020-10-12 18:04:17,808 - june.simulator - INFO - CMS: Timestep for rank 0/1 - 0.4763753799998085, 0.4763908386230469 - 2020-06-07 07:00:00\n",
      "\n",
      "2020-10-12 18:04:17,808 - june.simulator - INFO - ==================== timestep ====================\n",
      "2020-10-12 18:04:18,135 - june.activity.activity_manager - INFO - CMS: People COMS for rank 0/1 - 3.191000359947793e-06,2.86102294921875e-06 - 2020-06-07 09:00:00\n",
      "2020-10-12 18:04:18,141 - june.simulator - INFO - Info for rank 0, Date = 2020-06-07 09:00:00, number of deaths =  0, number of infected = 2459\n",
      "2020-10-12 18:04:18,223 - june.simulator - INFO - CMS: Infection COMS for rank 0/1 - 3.060999915760476e-06,2.86102294921875e-06 - 2020-06-07 09:00:00\n",
      "2020-10-12 18:04:18,289 - june.simulator - INFO - CMS: Timestep for rank 0/1 - 0.48011948500015933, 0.4801359176635742 - 2020-06-07 09:00:00\n",
      "\n",
      "2020-10-12 18:04:18,290 - june.simulator - INFO - ==================== timestep ====================\n",
      "2020-10-12 18:04:18,436 - june.activity.activity_manager - INFO - CMS: People COMS for rank 0/1 - 2.3699999474047218e-06,9.5367431640625e-07 - 2020-06-07 11:00:00\n",
      "2020-10-12 18:04:18,441 - june.simulator - INFO - Info for rank 0, Date = 2020-06-07 11:00:00, number of deaths =  0, number of infected = 2547\n",
      "2020-10-12 18:04:18,564 - june.simulator - INFO - CMS: Infection COMS for rank 0/1 - 2.8810000003431924e-06,3.0994415283203125e-06 - 2020-06-07 11:00:00\n",
      "2020-10-12 18:04:18,629 - june.simulator - INFO - CMS: Timestep for rank 0/1 - 0.33860447200004273, 0.33861684799194336 - 2020-06-07 11:00:00\n",
      "\n",
      "2020-10-12 18:04:18,630 - june.simulator - INFO - ==================== timestep ====================\n",
      "2020-10-12 18:04:18,773 - june.activity.activity_manager - INFO - CMS: People COMS for rank 0/1 - 2.2910003281140234e-06,1.9073486328125e-06 - 2020-06-08 00:00:00\n",
      "2020-10-12 18:04:18,778 - june.simulator - INFO - Info for rank 0, Date = 2020-06-08 00:00:00, number of deaths =  0, number of infected = 2857\n",
      "2020-10-12 18:04:18,831 - june.simulator - INFO - CMS: Infection COMS for rank 0/1 - 2.827999651344726e-06,2.6226043701171875e-06 - 2020-06-08 00:00:00\n",
      "2020-10-12 18:04:18,899 - june.simulator - INFO - CMS: Timestep for rank 0/1 - 0.2690222960000028, 0.26903200149536133 - 2020-06-08 00:00:00\n",
      "\n",
      "2020-10-12 18:04:18,900 - june.simulator - INFO - ==================== timestep ====================\n",
      "2020-10-12 18:04:19,224 - june.activity.activity_manager - INFO - CMS: People COMS for rank 0/1 - 3.5159996514266822e-06,3.0994415283203125e-06 - 2020-06-08 02:00:00\n",
      "2020-10-12 18:04:19,229 - june.simulator - INFO - Info for rank 0, Date = 2020-06-08 02:00:00, number of deaths =  0, number of infected = 2910\n",
      "2020-10-12 18:04:19,322 - june.simulator - INFO - CMS: Infection COMS for rank 0/1 - 3.418999767745845e-06,2.86102294921875e-06 - 2020-06-08 02:00:00\n",
      "2020-10-12 18:04:19,389 - june.simulator - INFO - CMS: Timestep for rank 0/1 - 0.48847239599990644, 0.48848795890808105 - 2020-06-08 02:00:00\n",
      "\n",
      "2020-10-12 18:04:19,389 - june.simulator - INFO - ==================== timestep ====================\n",
      "2020-10-12 18:04:19,719 - june.activity.activity_manager - INFO - CMS: People COMS for rank 0/1 - 3.416000254219398e-06,3.0994415283203125e-06 - 2020-06-08 04:00:00\n",
      "2020-10-12 18:04:19,725 - june.simulator - INFO - Info for rank 0, Date = 2020-06-08 04:00:00, number of deaths =  0, number of infected = 3029\n",
      "2020-10-12 18:04:19,815 - june.simulator - INFO - CMS: Infection COMS for rank 0/1 - 3.56700002157595e-06,3.0994415283203125e-06 - 2020-06-08 04:00:00\n",
      "2020-10-12 18:04:19,882 - june.simulator - INFO - CMS: Timestep for rank 0/1 - 0.49253644500004157, 0.4925529956817627 - 2020-06-08 04:00:00\n",
      "\n",
      "2020-10-12 18:04:19,883 - june.simulator - INFO - ==================== timestep ====================\n",
      "2020-10-12 18:04:20,209 - june.activity.activity_manager - INFO - CMS: People COMS for rank 0/1 - 3.6380001802172046e-06,2.86102294921875e-06 - 2020-06-08 06:00:00\n",
      "2020-10-12 18:04:20,215 - june.simulator - INFO - Info for rank 0, Date = 2020-06-08 06:00:00, number of deaths =  0, number of infected = 3126\n",
      "2020-10-12 18:04:20,296 - june.simulator - INFO - CMS: Infection COMS for rank 0/1 - 3.440000000409782e-06,3.0994415283203125e-06 - 2020-06-08 06:00:00\n",
      "2020-10-12 18:04:20,366 - june.simulator - INFO - CMS: Timestep for rank 0/1 - 0.4826985459999378, 0.4827158451080322 - 2020-06-08 06:00:00\n",
      "\n",
      "2020-10-12 18:04:20,367 - june.simulator - INFO - ==================== timestep ====================\n"
     ]
    },
    {
     "name": "stdout",
     "output_type": "stream",
     "text": [
      "2020-10-12 18:04:20,695 - june.activity.activity_manager - INFO - CMS: People COMS for rank 0/1 - 3.052000010939082e-06,2.86102294921875e-06 - 2020-06-08 08:00:00\n",
      "2020-10-12 18:04:20,700 - june.simulator - INFO - Info for rank 0, Date = 2020-06-08 08:00:00, number of deaths =  0, number of infected = 3209\n",
      "2020-10-12 18:04:20,789 - june.simulator - INFO - CMS: Infection COMS for rank 0/1 - 2.9089997042319737e-06,2.86102294921875e-06 - 2020-06-08 08:00:00\n",
      "2020-10-12 18:04:20,859 - june.simulator - INFO - CMS: Timestep for rank 0/1 - 0.49150049500030946, 0.49151611328125 - 2020-06-08 08:00:00\n",
      "\n",
      "2020-10-12 18:04:20,859 - june.simulator - INFO - ==================== timestep ====================\n",
      "2020-10-12 18:04:21,006 - june.activity.activity_manager - INFO - CMS: People COMS for rank 0/1 - 2.803999905154342e-06,1.9073486328125e-06 - 2020-06-08 10:00:00\n",
      "2020-10-12 18:04:21,012 - june.simulator - INFO - Info for rank 0, Date = 2020-06-08 10:00:00, number of deaths =  0, number of infected = 3311\n",
      "2020-10-12 18:04:21,154 - june.simulator - INFO - CMS: Infection COMS for rank 0/1 - 3.1100003070605453e-06,2.1457672119140625e-06 - 2020-06-08 10:00:00\n",
      "2020-10-12 18:04:21,222 - june.simulator - INFO - CMS: Timestep for rank 0/1 - 0.36220987799970317, 0.36222124099731445 - 2020-06-08 10:00:00\n",
      "\n",
      "2020-10-12 18:04:21,223 - june.simulator - INFO - ==================== timestep ====================\n",
      "2020-10-12 18:04:21,368 - june.activity.activity_manager - INFO - CMS: People COMS for rank 0/1 - 2.8220001695444807e-06,3.0994415283203125e-06 - 2020-06-09 00:00:00\n",
      "2020-10-12 18:04:21,374 - june.simulator - INFO - Info for rank 0, Date = 2020-06-09 00:00:00, number of deaths =  0, number of infected = 3703\n",
      "2020-10-12 18:04:21,441 - june.simulator - INFO - CMS: Infection COMS for rank 0/1 - 3.1529998523183167e-06,2.1457672119140625e-06 - 2020-06-09 00:00:00\n",
      "2020-10-12 18:04:21,516 - june.simulator - INFO - CMS: Timestep for rank 0/1 - 0.29231457300011243, 0.2923262119293213 - 2020-06-09 00:00:00\n",
      "\n",
      "2020-10-12 18:04:21,516 - june.simulator - INFO - ==================== timestep ====================\n",
      "2020-10-12 18:04:21,843 - june.activity.activity_manager - INFO - CMS: People COMS for rank 0/1 - 3.24099983117776e-06,2.86102294921875e-06 - 2020-06-09 02:00:00\n",
      "2020-10-12 18:04:21,848 - june.simulator - INFO - Info for rank 0, Date = 2020-06-09 02:00:00, number of deaths =  0, number of infected = 3768\n",
      "2020-10-12 18:04:21,951 - june.simulator - INFO - CMS: Infection COMS for rank 0/1 - 3.079000180150615e-06,2.1457672119140625e-06 - 2020-06-09 02:00:00\n",
      "2020-10-12 18:04:22,021 - june.simulator - INFO - CMS: Timestep for rank 0/1 - 0.5040128199998435, 0.5040299892425537 - 2020-06-09 02:00:00\n",
      "\n",
      "2020-10-12 18:04:22,022 - june.simulator - INFO - ==================== timestep ====================\n",
      "2020-10-12 18:04:22,346 - june.activity.activity_manager - INFO - CMS: People COMS for rank 0/1 - 3.4619997677509673e-06,3.0994415283203125e-06 - 2020-06-09 04:00:00\n",
      "2020-10-12 18:04:22,352 - june.simulator - INFO - Info for rank 0, Date = 2020-06-09 04:00:00, number of deaths =  0, number of infected = 3909\n",
      "2020-10-12 18:04:22,453 - june.simulator - INFO - CMS: Infection COMS for rank 0/1 - 3.1499998840445187e-06,2.1457672119140625e-06 - 2020-06-09 04:00:00\n",
      "2020-10-12 18:04:22,525 - june.simulator - INFO - CMS: Timestep for rank 0/1 - 0.5028643050000028, 0.5028810501098633 - 2020-06-09 04:00:00\n",
      "\n",
      "2020-10-12 18:04:22,526 - june.simulator - INFO - ==================== timestep ====================\n",
      "2020-10-12 18:04:22,852 - june.activity.activity_manager - INFO - CMS: People COMS for rank 0/1 - 4.1560001591278706e-06,2.86102294921875e-06 - 2020-06-09 06:00:00\n",
      "2020-10-12 18:04:22,858 - june.simulator - INFO - Info for rank 0, Date = 2020-06-09 06:00:00, number of deaths =  0, number of infected = 4046\n",
      "2020-10-12 18:04:22,960 - june.simulator - INFO - CMS: Infection COMS for rank 0/1 - 3.2880002436286304e-06,3.0994415283203125e-06 - 2020-06-09 06:00:00\n",
      "2020-10-12 18:04:23,032 - june.simulator - INFO - CMS: Timestep for rank 0/1 - 0.5062841339999977, 0.5062999725341797 - 2020-06-09 06:00:00\n",
      "\n",
      "2020-10-12 18:04:23,033 - june.simulator - INFO - ==================== timestep ====================\n",
      "2020-10-12 18:04:23,363 - june.activity.activity_manager - INFO - CMS: People COMS for rank 0/1 - 3.2760003705334384e-06,2.1457672119140625e-06 - 2020-06-09 08:00:00\n",
      "2020-10-12 18:04:23,368 - june.simulator - INFO - Info for rank 0, Date = 2020-06-09 08:00:00, number of deaths =  0, number of infected = 4192\n",
      "2020-10-12 18:04:23,466 - june.simulator - INFO - CMS: Infection COMS for rank 0/1 - 2.9299999368959107e-06,2.86102294921875e-06 - 2020-06-09 08:00:00\n",
      "2020-10-12 18:04:23,545 - june.simulator - INFO - CMS: Timestep for rank 0/1 - 0.5111133489999702, 0.5111308097839355 - 2020-06-09 08:00:00\n",
      "\n",
      "2020-10-12 18:04:23,546 - june.simulator - INFO - ==================== timestep ====================\n",
      "2020-10-12 18:04:23,698 - june.activity.activity_manager - INFO - CMS: People COMS for rank 0/1 - 2.747000053204829e-06,2.1457672119140625e-06 - 2020-06-09 10:00:00\n",
      "2020-10-12 18:04:23,703 - june.simulator - INFO - Info for rank 0, Date = 2020-06-09 10:00:00, number of deaths =  0, number of infected = 4340\n",
      "2020-10-12 18:04:23,885 - june.simulator - INFO - CMS: Infection COMS for rank 0/1 - 3.166000169585459e-06,3.0994415283203125e-06 - 2020-06-09 10:00:00\n",
      "2020-10-12 18:04:23,966 - june.simulator - INFO - CMS: Timestep for rank 0/1 - 0.4192591680002806, 0.41927385330200195 - 2020-06-09 10:00:00\n",
      "\n",
      "2020-10-12 18:04:23,966 - june.simulator - INFO - ==================== timestep ====================\n",
      "2020-10-12 18:04:24,117 - june.activity.activity_manager - INFO - CMS: People COMS for rank 0/1 - 2.738000148383435e-06,1.9073486328125e-06 - 2020-06-10 00:00:00\n",
      "2020-10-12 18:04:24,123 - june.simulator - INFO - Info for rank 0, Date = 2020-06-10 00:00:00, number of deaths =  0, number of infected = 4846\n",
      "2020-10-12 18:04:24,195 - june.simulator - INFO - CMS: Infection COMS for rank 0/1 - 2.8429999474610668e-06,2.1457672119140625e-06 - 2020-06-10 00:00:00\n",
      "2020-10-12 18:04:24,280 - june.simulator - INFO - CMS: Timestep for rank 0/1 - 0.31304701199997, 0.31305813789367676 - 2020-06-10 00:00:00\n",
      "\n",
      "2020-10-12 18:04:24,281 - june.simulator - INFO - ==================== timestep ====================\n",
      "2020-10-12 18:04:24,607 - june.activity.activity_manager - INFO - CMS: People COMS for rank 0/1 - 3.35000004270114e-06,1.9073486328125e-06 - 2020-06-10 02:00:00\n",
      "2020-10-12 18:04:24,613 - june.simulator - INFO - Info for rank 0, Date = 2020-06-10 02:00:00, number of deaths =  0, number of infected = 4938\n",
      "2020-10-12 18:04:24,710 - june.simulator - INFO - CMS: Infection COMS for rank 0/1 - 2.952000158984447e-06,2.1457672119140625e-06 - 2020-06-10 02:00:00\n",
      "2020-10-12 18:04:24,790 - june.simulator - INFO - CMS: Timestep for rank 0/1 - 0.508674228000018, 0.5086917877197266 - 2020-06-10 02:00:00\n",
      "\n",
      "2020-10-12 18:04:24,790 - june.simulator - INFO - ==================== timestep ====================\n",
      "2020-10-12 18:04:25,115 - june.activity.activity_manager - INFO - CMS: People COMS for rank 0/1 - 3.3999999686784577e-06,2.86102294921875e-06 - 2020-06-10 04:00:00\n",
      "2020-10-12 18:04:25,121 - june.simulator - INFO - Info for rank 0, Date = 2020-06-10 04:00:00, number of deaths =  0, number of infected = 5069\n",
      "2020-10-12 18:04:25,225 - june.simulator - INFO - CMS: Infection COMS for rank 0/1 - 3.0860001061228104e-06,1.9073486328125e-06 - 2020-06-10 04:00:00\n",
      "2020-10-12 18:04:25,310 - june.simulator - INFO - CMS: Timestep for rank 0/1 - 0.5189814760001354, 0.5189988613128662 - 2020-06-10 04:00:00\n",
      "\n",
      "2020-10-12 18:04:25,311 - june.simulator - INFO - ==================== timestep ====================\n",
      "2020-10-12 18:04:25,643 - june.activity.activity_manager - INFO - CMS: People COMS for rank 0/1 - 3.3750002330634743e-06,2.86102294921875e-06 - 2020-06-10 06:00:00\n",
      "2020-10-12 18:04:25,648 - june.simulator - INFO - Info for rank 0, Date = 2020-06-10 06:00:00, number of deaths =  0, number of infected = 5227\n",
      "2020-10-12 18:04:25,757 - june.simulator - INFO - CMS: Infection COMS for rank 0/1 - 2.8360000214888714e-06,2.1457672119140625e-06 - 2020-06-10 06:00:00\n",
      "2020-10-12 18:04:25,929 - june.simulator - INFO - CMS: Timestep for rank 0/1 - 0.6180482409999968, 0.6180679798126221 - 2020-06-10 06:00:00\n",
      "\n"
     ]
    },
    {
     "name": "stdout",
     "output_type": "stream",
     "text": [
      "2020-10-12 18:04:25,930 - june.simulator - INFO - ==================== timestep ====================\n",
      "2020-10-12 18:04:26,263 - june.activity.activity_manager - INFO - CMS: People COMS for rank 0/1 - 3.3780002013372723e-06,1.9073486328125e-06 - 2020-06-10 08:00:00\n",
      "2020-10-12 18:04:26,269 - june.simulator - INFO - Info for rank 0, Date = 2020-06-10 08:00:00, number of deaths =  0, number of infected = 5380\n",
      "2020-10-12 18:04:26,378 - june.simulator - INFO - CMS: Infection COMS for rank 0/1 - 3.385999661986716e-06,2.1457672119140625e-06 - 2020-06-10 08:00:00\n",
      "2020-10-12 18:04:26,462 - june.simulator - INFO - CMS: Timestep for rank 0/1 - 0.5314965560000928, 0.5315141677856445 - 2020-06-10 08:00:00\n",
      "\n",
      "2020-10-12 18:04:26,463 - june.simulator - INFO - ==================== timestep ====================\n",
      "2020-10-12 18:04:26,619 - june.activity.activity_manager - INFO - CMS: People COMS for rank 0/1 - 2.797999968606746e-06,1.9073486328125e-06 - 2020-06-10 10:00:00\n",
      "2020-10-12 18:04:26,625 - june.simulator - INFO - Info for rank 0, Date = 2020-06-10 10:00:00, number of deaths =  0, number of infected = 5534\n",
      "2020-10-12 18:04:26,843 - june.simulator - INFO - CMS: Infection COMS for rank 0/1 - 3.6199999158270657e-06,3.0994415283203125e-06 - 2020-06-10 10:00:00\n",
      "2020-10-12 18:04:26,934 - june.simulator - INFO - CMS: Timestep for rank 0/1 - 0.47054914499994993, 0.4705648422241211 - 2020-06-10 10:00:00\n",
      "\n",
      "2020-10-12 18:04:26,935 - june.simulator - INFO - ==================== timestep ====================\n",
      "2020-10-12 18:04:27,087 - june.activity.activity_manager - INFO - CMS: People COMS for rank 0/1 - 3.059999926335877e-06,3.0994415283203125e-06 - 2020-06-11 00:00:00\n",
      "2020-10-12 18:04:27,093 - june.simulator - INFO - Info for rank 0, Date = 2020-06-11 00:00:00, number of deaths =  0, number of infected = 6147\n",
      "2020-10-12 18:04:27,179 - june.simulator - INFO - CMS: Infection COMS for rank 0/1 - 3.234999894630164e-06,3.0994415283203125e-06 - 2020-06-11 00:00:00\n",
      "2020-10-12 18:04:27,271 - june.simulator - INFO - CMS: Timestep for rank 0/1 - 0.3358270920002724, 0.33583998680114746 - 2020-06-11 00:00:00\n",
      "\n",
      "2020-10-12 18:04:27,272 - june.simulator - INFO - ==================== timestep ====================\n",
      "2020-10-12 18:04:27,595 - june.activity.activity_manager - INFO - CMS: People COMS for rank 0/1 - 3.2849998206074815e-06,2.1457672119140625e-06 - 2020-06-11 02:00:00\n",
      "2020-10-12 18:04:27,601 - june.simulator - INFO - Info for rank 0, Date = 2020-06-11 02:00:00, number of deaths =  0, number of infected = 6244\n",
      "2020-10-12 18:04:27,708 - june.simulator - INFO - CMS: Infection COMS for rank 0/1 - 3.279999873484485e-06,3.0994415283203125e-06 - 2020-06-11 02:00:00\n",
      "2020-10-12 18:04:27,800 - june.simulator - INFO - CMS: Timestep for rank 0/1 - 0.5283512780001729, 0.5283687114715576 - 2020-06-11 02:00:00\n",
      "\n",
      "2020-10-12 18:04:27,801 - june.simulator - INFO - ==================== timestep ====================\n",
      "2020-10-12 18:04:28,152 - june.activity.activity_manager - INFO - CMS: People COMS for rank 0/1 - 3.593999736040132e-06,3.0994415283203125e-06 - 2020-06-11 04:00:00\n",
      "2020-10-12 18:04:28,158 - june.simulator - INFO - Info for rank 0, Date = 2020-06-11 04:00:00, number of deaths =  0, number of infected = 6404\n",
      "2020-10-12 18:04:28,268 - june.simulator - INFO - CMS: Infection COMS for rank 0/1 - 3.2970001484500244e-06,2.1457672119140625e-06 - 2020-06-11 04:00:00\n",
      "2020-10-12 18:04:28,359 - june.simulator - INFO - CMS: Timestep for rank 0/1 - 0.5575419640003929, 0.5575599670410156 - 2020-06-11 04:00:00\n",
      "\n",
      "2020-10-12 18:04:28,360 - june.simulator - INFO - ==================== timestep ====================\n",
      "2020-10-12 18:04:28,687 - june.activity.activity_manager - INFO - CMS: People COMS for rank 0/1 - 3.3540000003995374e-06,2.86102294921875e-06 - 2020-06-11 06:00:00\n",
      "2020-10-12 18:04:28,693 - june.simulator - INFO - Info for rank 0, Date = 2020-06-11 06:00:00, number of deaths =  0, number of infected = 6561\n",
      "2020-10-12 18:04:28,807 - june.simulator - INFO - CMS: Infection COMS for rank 0/1 - 3.3040000744222198e-06,2.86102294921875e-06 - 2020-06-11 06:00:00\n",
      "2020-10-12 18:04:28,900 - june.simulator - INFO - CMS: Timestep for rank 0/1 - 0.5398937720001413, 0.5399117469787598 - 2020-06-11 06:00:00\n",
      "\n",
      "2020-10-12 18:04:28,901 - june.simulator - INFO - ==================== timestep ====================\n",
      "2020-10-12 18:04:29,233 - june.activity.activity_manager - INFO - CMS: People COMS for rank 0/1 - 3.4569998206279706e-06,1.9073486328125e-06 - 2020-06-11 08:00:00\n",
      "2020-10-12 18:04:29,238 - june.simulator - INFO - Info for rank 0, Date = 2020-06-11 08:00:00, number of deaths =  0, number of infected = 6741\n",
      "2020-10-12 18:04:29,356 - june.simulator - INFO - CMS: Infection COMS for rank 0/1 - 3.1159997888607904e-06,2.1457672119140625e-06 - 2020-06-11 08:00:00\n",
      "2020-10-12 18:04:29,449 - june.simulator - INFO - CMS: Timestep for rank 0/1 - 0.5477194639997833, 0.5477371215820312 - 2020-06-11 08:00:00\n",
      "\n",
      "2020-10-12 18:04:29,450 - june.simulator - INFO - ==================== timestep ====================\n",
      "2020-10-12 18:04:29,604 - june.activity.activity_manager - INFO - CMS: People COMS for rank 0/1 - 3.6289998206484597e-06,3.0994415283203125e-06 - 2020-06-11 10:00:00\n",
      "2020-10-12 18:04:29,609 - june.simulator - INFO - Info for rank 0, Date = 2020-06-11 10:00:00, number of deaths =  0, number of infected = 6927\n",
      "2020-10-12 18:04:29,850 - june.simulator - INFO - CMS: Infection COMS for rank 0/1 - 3.6609999369829893e-06,2.86102294921875e-06 - 2020-06-11 10:00:00\n",
      "2020-10-12 18:04:29,953 - june.simulator - INFO - CMS: Timestep for rank 0/1 - 0.502702625999973, 0.5027201175689697 - 2020-06-11 10:00:00\n",
      "\n",
      "2020-10-12 18:04:29,954 - june.simulator - INFO - ==================== timestep ====================\n",
      "2020-10-12 18:04:30,108 - june.activity.activity_manager - INFO - CMS: People COMS for rank 0/1 - 3.7339996197260916e-06,3.0994415283203125e-06 - 2020-06-12 00:00:00\n",
      "2020-10-12 18:04:30,114 - june.simulator - INFO - Info for rank 0, Date = 2020-06-12 00:00:00, number of deaths =  0, number of infected = 7597\n",
      "2020-10-12 18:04:30,205 - june.simulator - INFO - CMS: Infection COMS for rank 0/1 - 3.099999958067201e-06,3.0994415283203125e-06 - 2020-06-12 00:00:00\n",
      "2020-10-12 18:04:30,306 - june.simulator - INFO - CMS: Timestep for rank 0/1 - 0.3515712899998107, 0.35158395767211914 - 2020-06-12 00:00:00\n",
      "\n",
      "2020-10-12 18:04:30,306 - june.simulator - INFO - ==================== timestep ====================\n",
      "2020-10-12 18:04:30,638 - june.activity.activity_manager - INFO - CMS: People COMS for rank 0/1 - 3.1729996408103034e-06,2.1457672119140625e-06 - 2020-06-12 02:00:00\n",
      "2020-10-12 18:04:30,644 - june.simulator - INFO - Info for rank 0, Date = 2020-06-12 02:00:00, number of deaths =  0, number of infected = 7722\n",
      "2020-10-12 18:04:30,762 - june.simulator - INFO - CMS: Infection COMS for rank 0/1 - 3.2279999686579686e-06,3.0994415283203125e-06 - 2020-06-12 02:00:00\n",
      "2020-10-12 18:04:30,857 - june.simulator - INFO - CMS: Timestep for rank 0/1 - 0.5504760980002175, 0.5504939556121826 - 2020-06-12 02:00:00\n",
      "\n",
      "2020-10-12 18:04:30,858 - june.simulator - INFO - ==================== timestep ====================\n",
      "2020-10-12 18:04:31,184 - june.activity.activity_manager - INFO - CMS: People COMS for rank 0/1 - 3.5709999792743474e-06,2.86102294921875e-06 - 2020-06-12 04:00:00\n",
      "2020-10-12 18:04:31,190 - june.simulator - INFO - Info for rank 0, Date = 2020-06-12 04:00:00, number of deaths =  0, number of infected = 7921\n",
      "2020-10-12 18:04:31,315 - june.simulator - INFO - CMS: Infection COMS for rank 0/1 - 3.1169997782853898e-06,3.0994415283203125e-06 - 2020-06-12 04:00:00\n",
      "2020-10-12 18:04:31,414 - june.simulator - INFO - CMS: Timestep for rank 0/1 - 0.5554494279999744, 0.5554678440093994 - 2020-06-12 04:00:00\n",
      "\n",
      "2020-10-12 18:04:31,414 - june.simulator - INFO - ==================== timestep ====================\n",
      "2020-10-12 18:04:31,747 - june.activity.activity_manager - INFO - CMS: People COMS for rank 0/1 - 3.141999968647724e-06,3.0994415283203125e-06 - 2020-06-12 06:00:00\n",
      "2020-10-12 18:04:31,753 - june.simulator - INFO - Info for rank 0, Date = 2020-06-12 06:00:00, number of deaths =  0, number of infected = 8129\n",
      "2020-10-12 18:04:31,872 - june.simulator - INFO - CMS: Infection COMS for rank 0/1 - 3.1520003176410682e-06,2.6226043701171875e-06 - 2020-06-12 06:00:00\n"
     ]
    },
    {
     "name": "stdout",
     "output_type": "stream",
     "text": [
      "2020-10-12 18:04:31,975 - june.simulator - INFO - CMS: Timestep for rank 0/1 - 0.5604687410000224, 0.560488224029541 - 2020-06-12 06:00:00\n",
      "\n",
      "2020-10-12 18:04:31,976 - june.simulator - INFO - ==================== timestep ====================\n",
      "2020-10-12 18:04:32,301 - june.activity.activity_manager - INFO - CMS: People COMS for rank 0/1 - 2.6010002329712734e-06,1.9073486328125e-06 - 2020-06-12 08:00:00\n",
      "2020-10-12 18:04:32,307 - june.simulator - INFO - Info for rank 0, Date = 2020-06-12 08:00:00, number of deaths =  0, number of infected = 8330\n",
      "2020-10-12 18:04:32,419 - june.simulator - INFO - CMS: Infection COMS for rank 0/1 - 3.062999894609675e-06,3.0994415283203125e-06 - 2020-06-12 08:00:00\n",
      "2020-10-12 18:04:32,520 - june.simulator - INFO - CMS: Timestep for rank 0/1 - 0.5436878209998213, 0.543705940246582 - 2020-06-12 08:00:00\n",
      "\n",
      "2020-10-12 18:04:32,521 - june.simulator - INFO - ==================== timestep ====================\n",
      "2020-10-12 18:04:32,677 - june.activity.activity_manager - INFO - CMS: People COMS for rank 0/1 - 2.798999958031345e-06,2.1457672119140625e-06 - 2020-06-12 10:00:00\n",
      "2020-10-12 18:04:32,682 - june.simulator - INFO - Info for rank 0, Date = 2020-06-12 10:00:00, number of deaths =  0, number of infected = 8519\n",
      "2020-10-12 18:04:32,948 - june.simulator - INFO - CMS: Infection COMS for rank 0/1 - 3.263000053266296e-06,3.0994415283203125e-06 - 2020-06-12 10:00:00\n",
      "2020-10-12 18:04:33,058 - june.simulator - INFO - CMS: Timestep for rank 0/1 - 0.5365606649997972, 0.5365781784057617 - 2020-06-12 10:00:00\n",
      "\n",
      "CPU times: user 48 s, sys: 4.08 s, total: 52.1 s\n",
      "Wall time: 49.2 s\n"
     ]
    }
   ],
   "source": [
    "%%time\n",
    "simulator.run()"
   ]
  },
  {
   "cell_type": "markdown",
   "metadata": {},
   "source": [
    "# Getting the results"
   ]
  },
  {
   "cell_type": "markdown",
   "metadata": {},
   "source": [
    "All results are stored in a json file specified in the `record_path` when defining the recorder. This can be read in by passing the folder locations to the `RecordReader` class and results derived.\n",
    "\n",
    "Here we show some examples of the kind of analysis you can extract from the records."
   ]
  },
  {
   "cell_type": "code",
   "execution_count": 63,
   "metadata": {},
   "outputs": [],
   "source": [
    "import pandas as pd"
   ]
  },
  {
   "cell_type": "code",
   "execution_count": 62,
   "metadata": {},
   "outputs": [],
   "source": [
    "read = RecordReader('results')"
   ]
  },
  {
   "cell_type": "markdown",
   "metadata": {},
   "source": [
    "The regional summary gives you information at the regional (camp) level."
   ]
  },
  {
   "cell_type": "markdown",
   "metadata": {},
   "source": [
    "### Regional information"
   ]
  },
  {
   "cell_type": "code",
   "execution_count": 64,
   "metadata": {},
   "outputs": [
    {
     "data": {
      "text/html": [
       "<div>\n",
       "<style scoped>\n",
       "    .dataframe tbody tr th:only-of-type {\n",
       "        vertical-align: middle;\n",
       "    }\n",
       "\n",
       "    .dataframe tbody tr th {\n",
       "        vertical-align: top;\n",
       "    }\n",
       "\n",
       "    .dataframe thead th {\n",
       "        text-align: right;\n",
       "    }\n",
       "</style>\n",
       "<table border=\"1\" class=\"dataframe\">\n",
       "  <thead>\n",
       "    <tr style=\"text-align: right;\">\n",
       "      <th></th>\n",
       "      <th>region</th>\n",
       "      <th>current_infected</th>\n",
       "      <th>daily_infected</th>\n",
       "      <th>current_recovered</th>\n",
       "      <th>daily_recovered</th>\n",
       "      <th>current_hospitalised</th>\n",
       "      <th>daily_hospitalised</th>\n",
       "      <th>current_intensive_care</th>\n",
       "      <th>daily_intensive_care</th>\n",
       "      <th>current_susceptible</th>\n",
       "      <th>daily_hospital_deaths</th>\n",
       "      <th>daily_deaths</th>\n",
       "    </tr>\n",
       "    <tr>\n",
       "      <th>time_stamp</th>\n",
       "      <th></th>\n",
       "      <th></th>\n",
       "      <th></th>\n",
       "      <th></th>\n",
       "      <th></th>\n",
       "      <th></th>\n",
       "      <th></th>\n",
       "      <th></th>\n",
       "      <th></th>\n",
       "      <th></th>\n",
       "      <th></th>\n",
       "      <th></th>\n",
       "    </tr>\n",
       "  </thead>\n",
       "  <tbody>\n",
       "    <tr>\n",
       "      <th>2020-05-24</th>\n",
       "      <td>CXB-219</td>\n",
       "      <td>6.166667</td>\n",
       "      <td>2</td>\n",
       "      <td>0.0</td>\n",
       "      <td>0</td>\n",
       "      <td>0.0</td>\n",
       "      <td>0</td>\n",
       "      <td>0.0</td>\n",
       "      <td>0</td>\n",
       "      <td>22946.833333</td>\n",
       "      <td>0</td>\n",
       "      <td>0</td>\n",
       "    </tr>\n",
       "    <tr>\n",
       "      <th>2020-05-25</th>\n",
       "      <td>CXB-219</td>\n",
       "      <td>8.000000</td>\n",
       "      <td>2</td>\n",
       "      <td>0.0</td>\n",
       "      <td>0</td>\n",
       "      <td>0.0</td>\n",
       "      <td>0</td>\n",
       "      <td>0.0</td>\n",
       "      <td>0</td>\n",
       "      <td>22945.000000</td>\n",
       "      <td>0</td>\n",
       "      <td>0</td>\n",
       "    </tr>\n",
       "    <tr>\n",
       "      <th>2020-05-26</th>\n",
       "      <td>CXB-219</td>\n",
       "      <td>10.500000</td>\n",
       "      <td>4</td>\n",
       "      <td>0.0</td>\n",
       "      <td>0</td>\n",
       "      <td>0.0</td>\n",
       "      <td>0</td>\n",
       "      <td>0.0</td>\n",
       "      <td>0</td>\n",
       "      <td>22942.500000</td>\n",
       "      <td>0</td>\n",
       "      <td>0</td>\n",
       "    </tr>\n",
       "  </tbody>\n",
       "</table>\n",
       "</div>"
      ],
      "text/plain": [
       "             region  current_infected  daily_infected  current_recovered  \\\n",
       "time_stamp                                                                 \n",
       "2020-05-24  CXB-219          6.166667               2                0.0   \n",
       "2020-05-25  CXB-219          8.000000               2                0.0   \n",
       "2020-05-26  CXB-219         10.500000               4                0.0   \n",
       "\n",
       "            daily_recovered  current_hospitalised  daily_hospitalised  \\\n",
       "time_stamp                                                              \n",
       "2020-05-24                0                   0.0                   0   \n",
       "2020-05-25                0                   0.0                   0   \n",
       "2020-05-26                0                   0.0                   0   \n",
       "\n",
       "            current_intensive_care  daily_intensive_care  current_susceptible  \\\n",
       "time_stamp                                                                      \n",
       "2020-05-24                     0.0                     0         22946.833333   \n",
       "2020-05-25                     0.0                     0         22945.000000   \n",
       "2020-05-26                     0.0                     0         22942.500000   \n",
       "\n",
       "            daily_hospital_deaths  daily_deaths  \n",
       "time_stamp                                       \n",
       "2020-05-24                      0             0  \n",
       "2020-05-25                      0             0  \n",
       "2020-05-26                      0             0  "
      ]
     },
     "execution_count": 64,
     "metadata": {},
     "output_type": "execute_result"
    }
   ],
   "source": [
    "read.regional_summary.head(3)"
   ]
  },
  {
   "cell_type": "code",
   "execution_count": 82,
   "metadata": {},
   "outputs": [
    {
     "data": {
      "image/png": "[encoded data removed]",
      "text/plain": [
       "<Figure size 432x288 with 1 Axes>"
      ]
     },
     "metadata": {
      "needs_background": "light"
     },
     "output_type": "display_data"
    }
   ],
   "source": [
    "for region in read.regional_summary['region'].unique():\n",
    "    read.regional_summary[\n",
    "        read.regional_summary['region'] == region\n",
    "    ]['current_infected'].plot(label=\"current infected\")\n",
    "    read.regional_summary[\n",
    "        read.regional_summary['region'] == region\n",
    "    ]['current_susceptible'].plot(label=\"current susceptible\")\n",
    "    plt.title(region)\n",
    "    plt.legend()\n",
    "    plt.show()"
   ]
  },
  {
   "cell_type": "markdown",
   "metadata": {},
   "source": [
    "### Daily infections"
   ]
  },
  {
   "cell_type": "code",
   "execution_count": 89,
   "metadata": {},
   "outputs": [],
   "source": [
    "summary = read.regional_summary.reset_index()"
   ]
  },
  {
   "cell_type": "code",
   "execution_count": 98,
   "metadata": {},
   "outputs": [
    {
     "data": {
      "text/plain": [
       "datetime.date(2020, 5, 24)"
      ]
     },
     "execution_count": 98,
     "metadata": {},
     "output_type": "execute_result"
    }
   ],
   "source": [
    "summary['time_stamp'][0].date()"
   ]
  },
  {
   "cell_type": "code",
   "execution_count": 104,
   "metadata": {},
   "outputs": [],
   "source": [
    "def new_infections(summary):\n",
    "    \n",
    "    date = []\n",
    "    for idx, row in summary.iterrows():\n",
    "        date.append(row['time_stamp'].date())\n",
    "    summary['date'] = date\n",
    "    \n",
    "    dates = np.unique(summary['date'])\n",
    "    \n",
    "    new_infections = []\n",
    "    \n",
    "    for date in dates:\n",
    "        date_data = summary['daily_infected'][summary['date'] == date]\n",
    "        new_infections.append(np.sum(date_data))\n",
    "        \n",
    "    return dates, new_infections"
   ]
  },
  {
   "cell_type": "code",
   "execution_count": 105,
   "metadata": {},
   "outputs": [],
   "source": [
    "dates, new_infections = new_infections(summary)"
   ]
  },
  {
   "cell_type": "code",
   "execution_count": 109,
   "metadata": {},
   "outputs": [
    {
     "data": {
      "image/png": "[encoded data removed]",
      "text/plain": [
       "<Figure size 432x288 with 1 Axes>"
      ]
     },
     "metadata": {
      "needs_background": "light"
     },
     "output_type": "display_data"
    }
   ],
   "source": [
    "plt.plot(dates, new_infections)\n",
    "plt.xticks(rotation=45)\n",
    "plt.ylabel('Daily infections')\n",
    "plt.show()"
   ]
  },
  {
   "cell_type": "markdown",
   "metadata": {},
   "source": [
    "### Hospital and intensive care"
   ]
  },
  {
   "cell_type": "code",
   "execution_count": 110,
   "metadata": {},
   "outputs": [],
   "source": [
    "def hospitalised(summary):\n",
    "    date = []\n",
    "    for idx, row in summary.iterrows():\n",
    "        date.append(row['time_stamp'].date())\n",
    "    summary['date'] = date\n",
    "    \n",
    "    dates = np.unique(summary['date'])\n",
    "    \n",
    "    hospitalised = []\n",
    "    icu = []\n",
    "    \n",
    "    for date in dates:\n",
    "        date_data = summary['current_hospitalised'][summary['date'] == date]\n",
    "        hospitalised.append(np.sum(date_data))\n",
    "        date_data = summary['current_intensive_care'][summary['date'] == date]\n",
    "        icu.append(np.sum(date_data))\n",
    "        \n",
    "    return dates, hospitalised, icu"
   ]
  },
  {
   "cell_type": "code",
   "execution_count": 112,
   "metadata": {},
   "outputs": [],
   "source": [
    "dates, hospitalised, icu = hospitalised(summary)"
   ]
  },
  {
   "cell_type": "code",
   "execution_count": 113,
   "metadata": {},
   "outputs": [
    {
     "data": {
      "image/png": "[encoded data removed]",
      "text/plain": [
       "<Figure size 432x288 with 1 Axes>"
      ]
     },
     "metadata": {
      "needs_background": "light"
     },
     "output_type": "display_data"
    }
   ],
   "source": [
    "plt.plot(dates, hospitalised, label=\"current hospitalised\")\n",
    "plt.plot(dates, icu, label=\"current intensive care\")\n",
    "plt.xticks(rotation=45)\n",
    "plt.ylabel('Daily infections')\n",
    "plt.legend()\n",
    "plt.show()"
   ]
  },
  {
   "cell_type": "markdown",
   "metadata": {},
   "source": [
    "### Cumulative infections by age"
   ]
  },
  {
   "cell_type": "code",
   "execution_count": 114,
   "metadata": {},
   "outputs": [
    {
     "name": "stdout",
     "output_type": "stream",
     "text": [
      "2020-10-12 18:29:13,713 - june.records.records_reader - INFO - Loading infections table\n",
      "2020-10-12 18:29:13,735 - june.records.records_reader - INFO - Loading population table\n",
      "2020-10-12 18:29:13,790 - june.records.records_reader - INFO - Merging infection and population tables\n",
      "2020-10-12 18:29:13,795 - june.records.records_reader - INFO - Loading geography table\n",
      "2020-10-12 18:29:13,817 - june.records.records_reader - INFO - Mergeing infection and geography tables\n"
     ]
    }
   ],
   "source": [
    "infections_df = read.get_table_with_extras('infections',\n",
    "                                           'infected_ids')"
   ]
  },
  {
   "cell_type": "code",
   "execution_count": 115,
   "metadata": {},
   "outputs": [
    {
     "name": "stdout",
     "output_type": "stream",
     "text": [
      "2020-10-12 18:29:13,864 - june.records.records_reader - INFO - Loading deaths table\n",
      "2020-10-12 18:29:13,870 - june.records.records_reader - INFO - Loading population table\n",
      "2020-10-12 18:29:13,922 - june.records.records_reader - INFO - Merging infection and population tables\n",
      "2020-10-12 18:29:13,929 - june.records.records_reader - INFO - Loading geography table\n",
      "2020-10-12 18:29:13,950 - june.records.records_reader - INFO - Mergeing infection and geography tables\n"
     ]
    }
   ],
   "source": [
    "deaths_df = read.get_table_with_extras('deaths', \n",
    "                                       'dead_person_ids')"
   ]
  },
  {
   "cell_type": "code",
   "execution_count": 116,
   "metadata": {},
   "outputs": [],
   "source": [
    "age_bins = (0,20,60,100)"
   ]
  },
  {
   "cell_type": "code",
   "execution_count": 117,
   "metadata": {},
   "outputs": [],
   "source": [
    "infected_by_age = infections_df.groupby([pd.cut(infections_df['age'],\n",
    "            bins=age_bins), 'timestamp']).size()"
   ]
  },
  {
   "cell_type": "code",
   "execution_count": 118,
   "metadata": {},
   "outputs": [],
   "source": [
    "people_df = read.table_to_df('population')"
   ]
  },
  {
   "cell_type": "code",
   "execution_count": 119,
   "metadata": {},
   "outputs": [],
   "source": [
    "n_by_age = people_df.groupby(pd.cut(people_df['age'],\n",
    "            bins=age_bins)).size()"
   ]
  },
  {
   "cell_type": "code",
   "execution_count": 120,
   "metadata": {},
   "outputs": [
    {
     "data": {
      "text/plain": [
       "<matplotlib.legend.Legend at 0x13a6bba50>"
      ]
     },
     "execution_count": 120,
     "metadata": {},
     "output_type": "execute_result"
    },
    {
     "data": {
      "image/png": "[encoded data removed]",
      "text/plain": [
       "<Figure size 432x288 with 1 Axes>"
      ]
     },
     "metadata": {
      "needs_background": "light"
     },
     "output_type": "display_data"
    }
   ],
   "source": [
    "(100*infected_by_age/n_by_age).xs(10).cumsum().plot(label='0,20')\n",
    "(100*infected_by_age/n_by_age).xs(30).cumsum().plot(label='20,60')\n",
    "(100*infected_by_age/n_by_age).xs(70).cumsum().plot(label='60,100')\n",
    "plt.legend()"
   ]
  },
  {
   "cell_type": "markdown",
   "metadata": {},
   "source": [
    "### Where people get infected"
   ]
  },
  {
   "cell_type": "code",
   "execution_count": 121,
   "metadata": {},
   "outputs": [],
   "source": [
    "locations_df = infections_df.groupby(['location_specs', \n",
    "                                'timestamp']).size()"
   ]
  },
  {
   "cell_type": "code",
   "execution_count": 122,
   "metadata": {},
   "outputs": [
    {
     "data": {
      "text/plain": [
       "<AxesSubplot:xlabel='timestamp'>"
      ]
     },
     "execution_count": 122,
     "metadata": {},
     "output_type": "execute_result"
    },
    {
     "data": {
      "image/png": "[encoded data removed]",
      "text/plain": [
       "<Figure size 432x288 with 1 Axes>"
      ]
     },
     "metadata": {
      "needs_background": "light"
     },
     "output_type": "display_data"
    }
   ],
   "source": [
    "locations_df.unstack(level=0).plot()"
   ]
  },
  {
   "cell_type": "code",
   "execution_count": 123,
   "metadata": {},
   "outputs": [
    {
     "data": {
      "text/plain": [
       "Text(0.5, 0, 'location')"
      ]
     },
     "execution_count": 123,
     "metadata": {},
     "output_type": "execute_result"
    },
    {
     "data": {
      "image/png": "[encoded data removed]",
      "text/plain": [
       "<Figure size 432x288 with 1 Axes>"
      ]
     },
     "metadata": {
      "needs_background": "light"
     },
     "output_type": "display_data"
    }
   ],
   "source": [
    "import matplotlib.ticker as mtick\n",
    "location_counts_df = locations_df.groupby('location_specs').size()\n",
    "location_counts_df = 100*location_counts_df / location_counts_df.sum()\n",
    "ax = location_counts_df.sort_values().plot.bar()\n",
    "ax.yaxis.set_major_formatter(mtick.PercentFormatter())\n",
    "plt.ylabel('Percentage of infections at location')\n",
    "plt.xlabel('location')"
   ]
  }
 ],
 "metadata": {
  "kernelspec": {
   "display_name": "campmodelling",
   "language": "python",
   "name": "campmodelling"
  },
  "language_info": {
   "codemirror_mode": {
    "name": "ipython",
    "version": 3
   },
   "file_extension": ".py",
   "mimetype": "text/x-python",
   "name": "python",
   "nbconvert_exporter": "python",
   "pygments_lexer": "ipython3",
   "version": "3.7.7"
  }
 },
 "nbformat": 4,
 "nbformat_minor": 4
}
