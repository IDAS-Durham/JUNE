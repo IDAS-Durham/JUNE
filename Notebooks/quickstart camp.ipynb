{
 "cells": [
  {
   "cell_type": "code",
   "execution_count": 1,
   "metadata": {},
   "outputs": [],
   "source": [
    "%load_ext autoreload\n",
    "%autoreload 2"
   ]
  },
  {
   "cell_type": "code",
   "execution_count": 2,
   "metadata": {},
   "outputs": [],
   "source": [
    "import warnings\n",
    "warnings.filterwarnings('ignore')"
   ]
  },
  {
   "cell_type": "code",
   "execution_count": 3,
   "metadata": {},
   "outputs": [],
   "source": [
    "import numpy as np\n",
    "import matplotlib.pyplot as plt \n",
    "import pandas as pd\n",
    "import time\n",
    "import matplotlib.pyplot as plt\n",
    "import seaborn as sns\n",
    "from datetime import datetime\n",
    "import sys\n",
    "sys.path.append(\"../camp_scripts\") # change accordingly\n",
    "sns.set_context('notebook')"
   ]
  },
  {
   "cell_type": "code",
   "execution_count": 4,
   "metadata": {},
   "outputs": [
    {
     "name": "stderr",
     "output_type": "stream",
     "text": [
      "No --data argument given - defaulting to:\n",
      "/home/florpi/camps/JUNE/data\n",
      "No --configs argument given - defaulting to:\n",
      "/home/florpi/camps/JUNE/configs\n"
     ]
    },
    {
     "name": "stdout",
     "output_type": "stream",
     "text": [
      "2020-09-01 19:30:16,227 - camps.paths - WARNING - No --data argument given - defaulting to:\n",
      "/home/florpi/camps/JUNE/data\n",
      "2020-09-01 19:30:16,227 - camps.paths - WARNING - No --configs argument given - defaulting to:\n",
      "/home/florpi/camps/JUNE/configs\n",
      "2020-09-01 19:30:16,228 - camps.paths - WARNING - No --camp_data argument given - defaulting to:\n",
      "/home/florpi/camps/JUNE/camp_data\n",
      "2020-09-01 19:30:16,229 - camps.paths - WARNING - No --configs_camps argument given - defaulting to:\n",
      "/home/florpi/camps/JUNE/configs_camps\n"
     ]
    }
   ],
   "source": [
    "from june.demography.geography import Geography\n",
    "from june.demography.demography import load_age_and_sex_generators_for_bins, Demography, Population\n",
    "from june.paths import data_path\n",
    "from june.infection_seed import InfectionSeed\n",
    "from june.simulator import Simulator\n",
    "from june.infection import InfectionSelector\n",
    "from june.interaction import Interaction\n",
    "from june.groups import Hospital, Hospitals\n",
    "from june.distributors import HospitalDistributor\n",
    "from june.hdf5_savers import generate_world_from_hdf5\n",
    "from june.groups import Cemeteries\n",
    "from june.policy import Policy, Policies\n",
    "from june.logger.read_logger import ReadLogger\n",
    "\n",
    "from camps.paths import camp_data_path\n",
    "from camps.world import World\n",
    "from camps.groups.leisure import generate_leisure_for_world, generate_leisure_for_config\n",
    "from camp_creation import generate_empty_world, populate_world, distribute_people_to_households # this is loaded from the ../camp_scripts folder"
   ]
  },
  {
   "cell_type": "code",
   "execution_count": 5,
   "metadata": {},
   "outputs": [],
   "source": [
    "from camps.groups import PumpLatrines, PumpLatrineDistributor\n",
    "from camps.groups import DistributionCenters, DistributionCenterDistributor\n",
    "from camps.groups import Communals, CommunalDistributor\n",
    "from camps.groups import FemaleCommunals, FemaleCommunalDistributor\n",
    "from camps.groups import Religiouss, ReligiousDistributor\n",
    "from camps.groups import Shelter, Shelters, ShelterDistributor\n",
    "from camps.groups import IsolationUnit, IsolationUnits\n",
    "from june.groups.leisure import HouseholdVisitsDistributor\n",
    "from camps.groups import PlayGroups, PlayGroupDistributor"
   ]
  },
  {
   "cell_type": "markdown",
   "metadata": {},
   "source": [
    "## Initialize the world"
   ]
  },
  {
   "cell_type": "code",
   "execution_count": 6,
   "metadata": {},
   "outputs": [
    {
     "name": "stdout",
     "output_type": "stream",
     "text": [
      "2020-09-01 19:30:16,396 - june.demography.geography - INFO - There are 65 areas and 4 super_areas in the world.\n"
     ]
    }
   ],
   "source": [
    "# create empty world's geography\n",
    "world = generate_empty_world(filter_key = {\"region\" : [\"CXB-219\"]})"
   ]
  },
  {
   "cell_type": "code",
   "execution_count": 7,
   "metadata": {},
   "outputs": [],
   "source": [
    "# populate empty world\n",
    "populate_world(world)"
   ]
  },
  {
   "cell_type": "code",
   "execution_count": 8,
   "metadata": {},
   "outputs": [],
   "source": [
    "# distribute people to households\n",
    "distribute_people_to_households(world)"
   ]
  },
  {
   "cell_type": "code",
   "execution_count": 9,
   "metadata": {},
   "outputs": [
    {
     "name": "stdout",
     "output_type": "stream",
     "text": [
      "2020-09-01 19:30:17,132 - june.groups.hospital - INFO - There are 8 hospitals in the world.\n"
     ]
    }
   ],
   "source": [
    "# this is not working\n",
    "hospitals= Hospitals.from_file(\n",
    "    filename=camp_data_path / 'input/hospitals/hospitals.csv'\n",
    ")\n",
    "world.hospitals = hospitals\n",
    "for hospital in world.hospitals:\n",
    "    hospital.super_area = world.super_areas.members[0]\n",
    "hospital_distributor = HospitalDistributor(hospitals, \n",
    "                                           medic_min_age=20,\n",
    "                                           patients_per_medic=10)\n",
    "\n",
    "hospital_distributor.distribute_medics_from_world(world.people)\n",
    "world.isolation_units = IsolationUnits([IsolationUnit()])"
   ]
  },
  {
   "cell_type": "code",
   "execution_count": 10,
   "metadata": {},
   "outputs": [],
   "source": [
    "world.pump_latrines = PumpLatrines.for_areas(world.areas)\n",
    "world.distribution_centers = DistributionCenters.for_areas(world.areas)\n",
    "world.communals = Communals.for_areas(world.areas)\n",
    "world.female_communals = FemaleCommunals.for_areas(world.areas)\n",
    "world.religiouss = Religiouss.for_areas(world.areas)\n",
    "world.play_groups = PlayGroups.for_areas(world.areas)"
   ]
  },
  {
   "cell_type": "code",
   "execution_count": 11,
   "metadata": {},
   "outputs": [],
   "source": [
    "#world.box_mode = False\n",
    "world.cemeteries = Cemeteries()"
   ]
  },
  {
   "cell_type": "markdown",
   "metadata": {},
   "source": [
    "## Geography exploration"
   ]
  },
  {
   "cell_type": "markdown",
   "metadata": {},
   "source": [
    "### UNHCR camp blocks inside the World"
   ]
  },
  {
   "cell_type": "code",
   "execution_count": 12,
   "metadata": {},
   "outputs": [],
   "source": [
    "super_areas = []\n",
    "for super_area in world.super_areas:\n",
    "    super_areas.append(super_area.name)"
   ]
  },
  {
   "cell_type": "code",
   "execution_count": 13,
   "metadata": {},
   "outputs": [
    {
     "data": {
      "text/plain": [
       "['CXB-219-A', 'CXB-219-B', 'CXB-219-C', 'CXB-219-D']"
      ]
     },
     "execution_count": 13,
     "metadata": {},
     "output_type": "execute_result"
    }
   ],
   "source": [
    "super_areas[:5]"
   ]
  },
  {
   "cell_type": "markdown",
   "metadata": {},
   "source": [
    "### Mahjee blocks inside World"
   ]
  },
  {
   "cell_type": "code",
   "execution_count": 14,
   "metadata": {},
   "outputs": [],
   "source": [
    "areas = []\n",
    "for area in world.areas:\n",
    "    areas.append(area.name)"
   ]
  },
  {
   "cell_type": "code",
   "execution_count": 15,
   "metadata": {},
   "outputs": [
    {
     "data": {
      "text/plain": [
       "['CXB-219-062', 'CXB-219-063', 'CXB-219-061', 'CXB-219-060', 'CXB-219-065']"
      ]
     },
     "execution_count": 15,
     "metadata": {},
     "output_type": "execute_result"
    }
   ],
   "source": [
    "areas[:5]"
   ]
  },
  {
   "cell_type": "markdown",
   "metadata": {},
   "source": [
    "## Demography exploration"
   ]
  },
  {
   "cell_type": "markdown",
   "metadata": {},
   "source": [
    "### UNHCR block residents"
   ]
  },
  {
   "cell_type": "code",
   "execution_count": 16,
   "metadata": {},
   "outputs": [],
   "source": [
    "sample_ages = []\n",
    "sample_sexes = []\n",
    "for person in world.super_areas.members[0].people:\n",
    "    sample_ages.append(person.age)\n",
    "    sample_sexes.append(person.sex)"
   ]
  },
  {
   "cell_type": "code",
   "execution_count": 17,
   "metadata": {},
   "outputs": [
    {
     "data": {
      "text/plain": [
       "(['f', 'm', 'f', 'f', 'm'], [45, 34, 24, 45, 41])"
      ]
     },
     "execution_count": 17,
     "metadata": {},
     "output_type": "execute_result"
    }
   ],
   "source": [
    "sample_sexes[:5], sample_ages[:5]"
   ]
  },
  {
   "cell_type": "code",
   "execution_count": 18,
   "metadata": {},
   "outputs": [
    {
     "data": {
      "image/png": "[encoded data removed]",
      "text/plain": [
       "<Figure size 432x288 with 1 Axes>"
      ]
     },
     "metadata": {
      "needs_background": "light"
     },
     "output_type": "display_data"
    }
   ],
   "source": [
    "ages, counts = np.unique(sample_ages, return_counts=True)\n",
    "plt.bar(ages, counts)\n",
    "plt.title('super area: {} age distribution'.format(world.super_areas.members[0].name))\n",
    "plt.show()"
   ]
  },
  {
   "cell_type": "code",
   "execution_count": 19,
   "metadata": {},
   "outputs": [
    {
     "name": "stdout",
     "output_type": "stream",
     "text": [
      "The % children between ages 0-16 is 49.0%\n"
     ]
    }
   ],
   "source": [
    "print ('The % children between ages 0-16 is {}%'.format(round(np.sum(counts[:16])/(np.sum(counts[:16])+np.sum(counts[16:]))*100)))"
   ]
  },
  {
   "cell_type": "markdown",
   "metadata": {},
   "source": [
    "## Households"
   ]
  },
  {
   "cell_type": "markdown",
   "metadata": {},
   "source": [
    "### Household size distribution"
   ]
  },
  {
   "cell_type": "code",
   "execution_count": 20,
   "metadata": {},
   "outputs": [
    {
     "data": {
      "image/png": "[encoded data removed]",
      "text/plain": [
       "<Figure size 432x288 with 1 Axes>"
      ]
     },
     "metadata": {
      "needs_background": "light"
     },
     "output_type": "display_data"
    }
   ],
   "source": [
    "household_sizes = [household.size for household in world.households]\n",
    "plt.hist(household_sizes, density=True, bins=np.arange(0,12))\n",
    "plt.xlabel(\"Household size\")\n",
    "plt.ylabel(\"Frequency\")\n",
    "plt.axvline(np.mean(household_sizes), color=\"cyan\")\n",
    "plt.text(8, 0.150, f\"Avg. size: {(np.mean(household_sizes)):.2f}\")\n",
    "plt.show()"
   ]
  },
  {
   "cell_type": "markdown",
   "metadata": {},
   "source": [
    "# Shelters"
   ]
  },
  {
   "cell_type": "code",
   "execution_count": 21,
   "metadata": {},
   "outputs": [],
   "source": [
    "world.shelters = Shelters.for_areas(world.areas)\n",
    "shelter_distributor = ShelterDistributor(sharing_shelter_ratio = 0.75) # proportion of families that share a shelter\n",
    "for area in world.areas:\n",
    "    shelter_distributor.distribute_people_in_shelters(area.shelters, area.households)"
   ]
  },
  {
   "cell_type": "code",
   "execution_count": 22,
   "metadata": {},
   "outputs": [
    {
     "data": {
      "image/png": "[encoded data removed]",
      "text/plain": [
       "<Figure size 576x216 with 2 Axes>"
      ]
     },
     "metadata": {
      "needs_background": "light"
     },
     "output_type": "display_data"
    }
   ],
   "source": [
    "fig, ax = plt.subplots(1, 2, figsize=(8,3))\n",
    "shelter_sizes = [shelter.size for shelter in world.shelters]\n",
    "shelter_families = [shelter.n_families for shelter in world.shelters]\n",
    "ax[0].hist(shelter_sizes)\n",
    "ax[0].set_title(\"Shelter size\")\n",
    "shelter_families = {1 : len([shelter for shelter in world.shelters if shelter.n_families == 1]),\n",
    "                    2 : len([shelter for shelter in world.shelters if shelter.n_families == 2])}\n",
    "ax[1].bar(shelter_families.keys(), shelter_families.values())\n",
    "ax[1].set_title(\"# families per shelter\")\n",
    "plt.show()"
   ]
  },
  {
   "cell_type": "markdown",
   "metadata": {},
   "source": [
    "## Activity exploration"
   ]
  },
  {
   "cell_type": "markdown",
   "metadata": {},
   "source": [
    "### Pumps and latrines "
   ]
  },
  {
   "cell_type": "code",
   "execution_count": 23,
   "metadata": {},
   "outputs": [],
   "source": [
    "pumps_and_latrines = []\n",
    "for pump_latrine in world.areas.members[0].pump_latrines:\n",
    "    pumps_and_latrines.append(pump_latrine)"
   ]
  },
  {
   "cell_type": "code",
   "execution_count": 24,
   "metadata": {},
   "outputs": [
    {
     "name": "stdout",
     "output_type": "stream",
     "text": [
      "There are 3 pumps and latrines in area CXB-219-062\n"
     ]
    }
   ],
   "source": [
    "print ('There are {} pumps and latrines in area {}'.format(len(pumps_and_latrines), world.areas.members[0].name))"
   ]
  },
  {
   "cell_type": "markdown",
   "metadata": {},
   "source": [
    "### Distribution centers"
   ]
  },
  {
   "cell_type": "code",
   "execution_count": 25,
   "metadata": {},
   "outputs": [],
   "source": [
    "distribution_centers = []\n",
    "for center in world.distribution_centers:\n",
    "    distribution_centers.append(center)"
   ]
  },
  {
   "cell_type": "code",
   "execution_count": 26,
   "metadata": {},
   "outputs": [
    {
     "data": {
      "text/plain": [
       "array([21.1962 , 92.14936])"
      ]
     },
     "execution_count": 26,
     "metadata": {},
     "output_type": "execute_result"
    }
   ],
   "source": [
    "distribution_centers[0].coordinates"
   ]
  },
  {
   "cell_type": "markdown",
   "metadata": {},
   "source": [
    "### Communal spaces"
   ]
  },
  {
   "cell_type": "code",
   "execution_count": 27,
   "metadata": {},
   "outputs": [],
   "source": [
    "communal_spaces = []\n",
    "for space in world.communals:\n",
    "    communal_spaces.append(space)"
   ]
  },
  {
   "cell_type": "code",
   "execution_count": 28,
   "metadata": {},
   "outputs": [
    {
     "data": {
      "text/plain": [
       "array([21.19621, 92.14924])"
      ]
     },
     "execution_count": 28,
     "metadata": {},
     "output_type": "execute_result"
    }
   ],
   "source": [
    "communal_spaces[0].coordinates"
   ]
  },
  {
   "cell_type": "markdown",
   "metadata": {},
   "source": [
    "### Female friendly communal spaces"
   ]
  },
  {
   "cell_type": "code",
   "execution_count": 29,
   "metadata": {},
   "outputs": [],
   "source": [
    "female_communal_spaces = []\n",
    "for space in world.female_communals:\n",
    "    female_communal_spaces.append(space)"
   ]
  },
  {
   "cell_type": "code",
   "execution_count": 30,
   "metadata": {},
   "outputs": [
    {
     "data": {
      "text/plain": [
       "array([21.19588, 92.152  ])"
      ]
     },
     "execution_count": 30,
     "metadata": {},
     "output_type": "execute_result"
    }
   ],
   "source": [
    "female_communal_spaces[0].coordinates"
   ]
  },
  {
   "cell_type": "markdown",
   "metadata": {},
   "source": [
    "### Religious sites"
   ]
  },
  {
   "cell_type": "code",
   "execution_count": 31,
   "metadata": {},
   "outputs": [],
   "source": [
    "religious = []\n",
    "for rel in world.religiouss:\n",
    "    religious.append(rel)"
   ]
  },
  {
   "cell_type": "code",
   "execution_count": 32,
   "metadata": {},
   "outputs": [
    {
     "data": {
      "text/plain": [
       "array([21.20069, 92.15216])"
      ]
     },
     "execution_count": 32,
     "metadata": {},
     "output_type": "execute_result"
    }
   ],
   "source": [
    "religious[0].coordinates"
   ]
  },
  {
   "cell_type": "markdown",
   "metadata": {},
   "source": [
    "# Adding the infection"
   ]
  },
  {
   "cell_type": "code",
   "execution_count": 33,
   "metadata": {},
   "outputs": [],
   "source": [
    "selector = InfectionSelector.from_file()"
   ]
  },
  {
   "cell_type": "markdown",
   "metadata": {},
   "source": [
    "# Adding the interaction"
   ]
  },
  {
   "cell_type": "code",
   "execution_count": 34,
   "metadata": {},
   "outputs": [],
   "source": [
    "interaction = Interaction.from_file(config_filename='../configs_camps/defaults/interaction/ContactInteraction.yaml')"
   ]
  },
  {
   "cell_type": "markdown",
   "metadata": {},
   "source": [
    "# Set policies"
   ]
  },
  {
   "cell_type": "code",
   "execution_count": 35,
   "metadata": {},
   "outputs": [],
   "source": [
    "policies = Policies.from_file('../configs_camps/defaults/policy/home_care_policy.yaml', base_policy_modules=('june.policy', 'camps.policy'))"
   ]
  },
  {
   "cell_type": "code",
   "execution_count": 36,
   "metadata": {},
   "outputs": [
    {
     "data": {
      "text/plain": [
       "[<june.policy.interaction_policies.SocialDistancing at 0x7fe92f9a6be0>,\n",
       " <june.policy.medical_care_policies.Hospitalisation at 0x7fe92f9a6d60>,\n",
       " <june.policy.individual_policies.SevereSymptomsStayHome at 0x7fe92cf8ba60>,\n",
       " <june.policy.individual_policies.Quarantine at 0x7fe92cf8b8b0>]"
      ]
     },
     "execution_count": 36,
     "metadata": {},
     "output_type": "execute_result"
    }
   ],
   "source": [
    "policies.policies"
   ]
  },
  {
   "cell_type": "markdown",
   "metadata": {},
   "source": [
    "# Seed the disease"
   ]
  },
  {
   "cell_type": "code",
   "execution_count": 37,
   "metadata": {},
   "outputs": [],
   "source": [
    "seed = InfectionSeed(world.super_areas,\n",
    "           selector)\n",
    "\n",
    "seed.unleash_virus(n_cases=5)"
   ]
  },
  {
   "cell_type": "markdown",
   "metadata": {},
   "source": [
    "# Init leisure"
   ]
  },
  {
   "cell_type": "code",
   "execution_count": 38,
   "metadata": {},
   "outputs": [
    {
     "name": "stdout",
     "output_type": "stream",
     "text": [
      "2020-09-01 19:30:20,209 - june.groups.leisure.leisure - INFO - Distributing social venues to households\n",
      "2020-09-01 19:30:20,209 - june.groups.leisure.leisure - INFO - Distributed in 0 of 3315 households.\n"
     ]
    },
    {
     "data": {
      "text/plain": [
       "{'pump_latrines': <camps.groups.pump_latrine.PumpLatrineDistributor at 0x7fe92cf60250>,\n",
       " 'distribution_centers': <camps.groups.distribution_center.DistributionCenterDistributor at 0x7fe92cf601f0>,\n",
       " 'communals': <camps.groups.communal.CommunalDistributor at 0x7fe92cd8fdc0>,\n",
       " 'female_communals': <camps.groups.female_communal.FemaleCommunalDistributor at 0x7fe92cd8f1f0>,\n",
       " 'play_groups': <camps.groups.play_group.PlayGroupDistributor at 0x7fe92cd8f310>}"
      ]
     },
     "execution_count": 38,
     "metadata": {},
     "output_type": "execute_result"
    }
   ],
   "source": [
    "CONFIG_PATH = \"../configs_camps/config_example.yaml\"\n",
    "\n",
    "leisure_instance = generate_leisure_for_config(\n",
    "            world=world, config_filename=CONFIG_PATH\n",
    ")\n",
    "leisure_instance.leisure_distributors = {}\n",
    "leisure_instance.leisure_distributors['pump_latrines'] = PumpLatrineDistributor.from_config(pump_latrines=world.pump_latrines)\n",
    "leisure_instance.leisure_distributors['distribution_centers'] = DistributionCenterDistributor.from_config(distribution_centers=world.distribution_centers)\n",
    "leisure_instance.leisure_distributors['communals'] = CommunalDistributor.from_config(communals=world.communals)\n",
    "leisure_instance.leisure_distributors['female_communals'] = FemaleCommunalDistributor.from_config(female_communals=world.female_communals)\n",
    "leisure_instance.leisure_distributors['play_groups'] = PlayGroupDistributor.from_config(play_groups=world.play_groups)\n",
    "\n",
    "#associate social activities to shelters\n",
    "leisure_instance.distribute_social_venues_to_households(world.shelters, world.super_areas)\n",
    "leisure_instance.leisure_distributors"
   ]
  },
  {
   "cell_type": "markdown",
   "metadata": {},
   "source": [
    "# Initialize simulator and run"
   ]
  },
  {
   "cell_type": "code",
   "execution_count": 39,
   "metadata": {},
   "outputs": [
    {
     "name": "stdout",
     "output_type": "stream",
     "text": [
      "[<june.groups.hospital.Hospitals object at 0x7fe93e88ceb0>, <camps.groups.isolation_unit.IsolationUnits object at 0x7fe9309a8130>]\n"
     ]
    }
   ],
   "source": [
    "simulator = Simulator.from_file(\n",
    "    world = world,\n",
    "    interaction = interaction,\n",
    "    infection_selector=selector,\n",
    "    leisure = leisure_instance,\n",
    "    policies=policies,\n",
    "    config_filename = CONFIG_PATH\n",
    ")"
   ]
  },
  {
   "cell_type": "code",
   "execution_count": null,
   "metadata": {
    "scrolled": true
   },
   "outputs": [
    {
     "name": "stdout",
     "output_type": "stream",
     "text": [
      "2020-09-01 19:30:22,128 - june.simulator - INFO - Starting group_dynamics for 120 days at day 0\n",
      "2020-09-01 19:30:22,129 - june.simulator - INFO - starting the loop ..., at 0 days, to run for 120 days\n",
      "2020-09-01 19:30:22,313 - june.simulator - INFO - Date = 2020-05-24 00:00:00, number of deaths =  0, number of infected = 5\n",
      "2020-09-01 19:30:22,955 - june.simulator - INFO - Date = 2020-05-24 03:00:00, number of deaths =  0, number of infected = 5\n",
      "2020-09-01 19:30:23,227 - june.simulator - INFO - Date = 2020-05-24 05:00:00, number of deaths =  0, number of infected = 5\n",
      "2020-09-01 19:30:23,478 - june.simulator - INFO - Date = 2020-05-24 07:00:00, number of deaths =  0, number of infected = 5\n",
      "2020-09-01 19:30:23,740 - june.simulator - INFO - Date = 2020-05-24 09:00:00, number of deaths =  0, number of infected = 5\n",
      "2020-09-01 19:30:23,891 - june.simulator - INFO - Date = 2020-05-24 11:00:00, number of deaths =  0, number of infected = 5\n",
      "2020-09-01 19:30:24,040 - june.simulator - INFO - Date = 2020-05-25 00:00:00, number of deaths =  0, number of infected = 7\n",
      "2020-09-01 19:30:24,280 - june.simulator - INFO - Date = 2020-05-25 02:00:00, number of deaths =  0, number of infected = 7\n",
      "2020-09-01 19:30:24,523 - june.simulator - INFO - Date = 2020-05-25 04:00:00, number of deaths =  0, number of infected = 10\n",
      "2020-09-01 19:30:24,866 - june.simulator - INFO - Date = 2020-05-25 06:00:00, number of deaths =  0, number of infected = 12\n",
      "2020-09-01 19:30:25,131 - june.simulator - INFO - Date = 2020-05-25 08:00:00, number of deaths =  0, number of infected = 13\n",
      "2020-09-01 19:30:25,278 - june.simulator - INFO - Date = 2020-05-25 10:00:00, number of deaths =  0, number of infected = 13\n",
      "2020-09-01 19:30:25,409 - june.simulator - INFO - Date = 2020-05-26 00:00:00, number of deaths =  0, number of infected = 18\n",
      "2020-09-01 19:30:25,662 - june.simulator - INFO - Date = 2020-05-26 02:00:00, number of deaths =  0, number of infected = 18\n",
      "2020-09-01 19:30:26,114 - june.simulator - INFO - Date = 2020-05-26 04:00:00, number of deaths =  0, number of infected = 18\n",
      "2020-09-01 19:30:26,349 - june.simulator - INFO - Date = 2020-05-26 06:00:00, number of deaths =  0, number of infected = 18\n",
      "2020-09-01 19:30:26,812 - june.simulator - INFO - Date = 2020-05-26 08:00:00, number of deaths =  0, number of infected = 20\n",
      "2020-09-01 19:30:27,081 - june.simulator - INFO - Date = 2020-05-26 10:00:00, number of deaths =  0, number of infected = 21\n",
      "2020-09-01 19:30:27,218 - june.simulator - INFO - Date = 2020-05-27 00:00:00, number of deaths =  0, number of infected = 25\n",
      "2020-09-01 19:30:27,459 - june.simulator - INFO - Date = 2020-05-27 02:00:00, number of deaths =  0, number of infected = 27\n",
      "2020-09-01 19:30:27,714 - june.simulator - INFO - Date = 2020-05-27 04:00:00, number of deaths =  0, number of infected = 31\n",
      "2020-09-01 19:30:28,070 - june.simulator - INFO - Date = 2020-05-27 06:00:00, number of deaths =  0, number of infected = 32\n",
      "2020-09-01 19:30:28,411 - june.simulator - INFO - Date = 2020-05-27 08:00:00, number of deaths =  0, number of infected = 32\n",
      "2020-09-01 19:30:28,708 - june.simulator - INFO - Date = 2020-05-27 10:00:00, number of deaths =  0, number of infected = 33\n",
      "2020-09-01 19:30:28,848 - june.simulator - INFO - Date = 2020-05-28 00:00:00, number of deaths =  0, number of infected = 40\n",
      "2020-09-01 19:30:29,089 - june.simulator - INFO - Date = 2020-05-28 02:00:00, number of deaths =  0, number of infected = 40\n",
      "2020-09-01 19:30:29,310 - june.simulator - INFO - Date = 2020-05-28 04:00:00, number of deaths =  0, number of infected = 40\n",
      "2020-09-01 19:30:29,685 - june.simulator - INFO - Date = 2020-05-28 06:00:00, number of deaths =  0, number of infected = 42\n",
      "2020-09-01 19:30:29,950 - june.simulator - INFO - Date = 2020-05-28 08:00:00, number of deaths =  0, number of infected = 45\n",
      "2020-09-01 19:30:30,111 - june.simulator - INFO - Date = 2020-05-28 10:00:00, number of deaths =  0, number of infected = 49\n",
      "2020-09-01 19:30:30,267 - june.simulator - INFO - Date = 2020-05-29 00:00:00, number of deaths =  0, number of infected = 56\n",
      "2020-09-01 19:30:30,531 - june.simulator - INFO - Date = 2020-05-29 02:00:00, number of deaths =  0, number of infected = 57\n",
      "2020-09-01 19:30:30,802 - june.simulator - INFO - Date = 2020-05-29 04:00:00, number of deaths =  0, number of infected = 62\n",
      "2020-09-01 19:30:31,066 - june.simulator - INFO - Date = 2020-05-29 06:00:00, number of deaths =  0, number of infected = 64\n",
      "2020-09-01 19:30:31,325 - june.simulator - INFO - Date = 2020-05-29 08:00:00, number of deaths =  0, number of infected = 64\n",
      "2020-09-01 19:30:31,468 - june.simulator - INFO - Date = 2020-05-29 10:00:00, number of deaths =  0, number of infected = 65\n",
      "2020-09-01 19:30:31,612 - june.simulator - INFO - Date = 2020-05-30 00:00:00, number of deaths =  0, number of infected = 68\n",
      "2020-09-01 19:30:31,908 - june.simulator - INFO - Date = 2020-05-30 03:00:00, number of deaths =  0, number of infected = 71\n",
      "2020-09-01 19:30:32,350 - june.simulator - INFO - Date = 2020-05-30 05:00:00, number of deaths =  0, number of infected = 74\n",
      "2020-09-01 19:30:32,708 - june.simulator - INFO - Date = 2020-05-30 07:00:00, number of deaths =  0, number of infected = 81\n",
      "2020-09-01 19:30:33,007 - june.simulator - INFO - Date = 2020-05-30 09:00:00, number of deaths =  0, number of infected = 84\n",
      "2020-09-01 19:30:33,170 - june.simulator - INFO - Date = 2020-05-30 11:00:00, number of deaths =  0, number of infected = 88\n",
      "2020-09-01 19:30:33,369 - june.simulator - INFO - Date = 2020-05-31 00:00:00, number of deaths =  0, number of infected = 105\n",
      "2020-09-01 19:30:33,764 - june.simulator - INFO - Date = 2020-05-31 03:00:00, number of deaths =  0, number of infected = 106\n",
      "2020-09-01 19:30:34,010 - june.simulator - INFO - Date = 2020-05-31 05:00:00, number of deaths =  0, number of infected = 112\n",
      "2020-09-01 19:30:34,326 - june.simulator - INFO - Date = 2020-05-31 07:00:00, number of deaths =  0, number of infected = 119\n",
      "2020-09-01 19:30:34,581 - june.simulator - INFO - Date = 2020-05-31 09:00:00, number of deaths =  0, number of infected = 122\n",
      "2020-09-01 19:30:34,719 - june.simulator - INFO - Date = 2020-05-31 11:00:00, number of deaths =  0, number of infected = 126\n",
      "2020-09-01 19:30:34,865 - june.simulator - INFO - Date = 2020-06-01 00:00:00, number of deaths =  0, number of infected = 146\n",
      "2020-09-01 19:30:35,122 - june.simulator - INFO - Date = 2020-06-01 02:00:00, number of deaths =  0, number of infected = 149\n",
      "2020-09-01 19:30:35,349 - june.simulator - INFO - Date = 2020-06-01 04:00:00, number of deaths =  0, number of infected = 153\n",
      "2020-09-01 19:30:35,585 - june.simulator - INFO - Date = 2020-06-01 06:00:00, number of deaths =  0, number of infected = 165\n",
      "2020-09-01 19:30:35,818 - june.simulator - INFO - Date = 2020-06-01 08:00:00, number of deaths =  0, number of infected = 170\n",
      "2020-09-01 19:30:35,960 - june.simulator - INFO - Date = 2020-06-01 10:00:00, number of deaths =  0, number of infected = 174\n",
      "2020-09-01 19:30:36,103 - june.simulator - INFO - Date = 2020-06-02 00:00:00, number of deaths =  0, number of infected = 198\n",
      "2020-09-01 19:30:36,345 - june.simulator - INFO - Date = 2020-06-02 02:00:00, number of deaths =  0, number of infected = 201\n",
      "2020-09-01 19:30:36,586 - june.simulator - INFO - Date = 2020-06-02 04:00:00, number of deaths =  0, number of infected = 206\n",
      "2020-09-01 19:30:36,811 - june.simulator - INFO - Date = 2020-06-02 06:00:00, number of deaths =  0, number of infected = 209\n",
      "2020-09-01 19:30:37,051 - june.simulator - INFO - Date = 2020-06-02 08:00:00, number of deaths =  0, number of infected = 214\n",
      "2020-09-01 19:30:37,196 - june.simulator - INFO - Date = 2020-06-02 10:00:00, number of deaths =  0, number of infected = 228\n",
      "2020-09-01 19:30:37,344 - june.simulator - INFO - Date = 2020-06-03 00:00:00, number of deaths =  0, number of infected = 256\n",
      "2020-09-01 19:30:37,573 - june.simulator - INFO - Date = 2020-06-03 02:00:00, number of deaths =  0, number of infected = 265\n",
      "2020-09-01 19:30:37,820 - june.simulator - INFO - Date = 2020-06-03 04:00:00, number of deaths =  0, number of infected = 274\n",
      "2020-09-01 19:30:38,073 - june.simulator - INFO - Date = 2020-06-03 06:00:00, number of deaths =  0, number of infected = 284\n"
     ]
    },
    {
     "name": "stdout",
     "output_type": "stream",
     "text": [
      "2020-09-01 19:30:38,453 - june.simulator - INFO - Date = 2020-06-03 08:00:00, number of deaths =  0, number of infected = 300\n",
      "2020-09-01 19:30:38,601 - june.simulator - INFO - Date = 2020-06-03 10:00:00, number of deaths =  0, number of infected = 314\n",
      "2020-09-01 19:30:38,749 - june.simulator - INFO - Date = 2020-06-04 00:00:00, number of deaths =  0, number of infected = 349\n",
      "2020-09-01 19:30:38,992 - june.simulator - INFO - Date = 2020-06-04 02:00:00, number of deaths =  0, number of infected = 356\n",
      "2020-09-01 19:30:39,234 - june.simulator - INFO - Date = 2020-06-04 04:00:00, number of deaths =  0, number of infected = 377\n",
      "2020-09-01 19:30:39,470 - june.simulator - INFO - Date = 2020-06-04 06:00:00, number of deaths =  0, number of infected = 385\n",
      "2020-09-01 19:30:39,714 - june.simulator - INFO - Date = 2020-06-04 08:00:00, number of deaths =  0, number of infected = 395\n",
      "2020-09-01 19:30:39,859 - june.simulator - INFO - Date = 2020-06-04 10:00:00, number of deaths =  0, number of infected = 403\n",
      "2020-09-01 19:30:40,015 - june.simulator - INFO - Date = 2020-06-05 00:00:00, number of deaths =  0, number of infected = 446\n",
      "2020-09-01 19:30:40,248 - june.simulator - INFO - Date = 2020-06-05 02:00:00, number of deaths =  0, number of infected = 456\n",
      "2020-09-01 19:30:40,511 - june.simulator - INFO - Date = 2020-06-05 04:00:00, number of deaths =  0, number of infected = 487\n",
      "2020-09-01 19:30:40,760 - june.simulator - INFO - Date = 2020-06-05 06:00:00, number of deaths =  0, number of infected = 503\n",
      "2020-09-01 19:30:41,004 - june.simulator - INFO - Date = 2020-06-05 08:00:00, number of deaths =  0, number of infected = 526\n",
      "2020-09-01 19:30:41,170 - june.simulator - INFO - Date = 2020-06-05 10:00:00, number of deaths =  0, number of infected = 550\n",
      "2020-09-01 19:30:41,347 - june.simulator - INFO - Date = 2020-06-06 00:00:00, number of deaths =  0, number of infected = 626\n",
      "2020-09-01 19:30:41,619 - june.simulator - INFO - Date = 2020-06-06 03:00:00, number of deaths =  0, number of infected = 646\n",
      "2020-09-01 19:30:41,905 - june.simulator - INFO - Date = 2020-06-06 05:00:00, number of deaths =  0, number of infected = 679\n",
      "2020-09-01 19:30:42,203 - june.simulator - INFO - Date = 2020-06-06 07:00:00, number of deaths =  0, number of infected = 719\n",
      "2020-09-01 19:30:42,474 - june.simulator - INFO - Date = 2020-06-06 09:00:00, number of deaths =  0, number of infected = 740\n",
      "2020-09-01 19:30:42,641 - june.simulator - INFO - Date = 2020-06-06 11:00:00, number of deaths =  0, number of infected = 781\n",
      "2020-09-01 19:30:42,814 - june.simulator - INFO - Date = 2020-06-07 00:00:00, number of deaths =  0, number of infected = 871\n",
      "2020-09-01 19:30:43,096 - june.simulator - INFO - Date = 2020-06-07 03:00:00, number of deaths =  0, number of infected = 896\n",
      "2020-09-01 19:30:43,377 - june.simulator - INFO - Date = 2020-06-07 05:00:00, number of deaths =  0, number of infected = 948\n",
      "2020-09-01 19:30:43,651 - june.simulator - INFO - Date = 2020-06-07 07:00:00, number of deaths =  0, number of infected = 984\n",
      "2020-09-01 19:30:43,944 - june.simulator - INFO - Date = 2020-06-07 09:00:00, number of deaths =  0, number of infected = 1035\n",
      "2020-09-01 19:30:44,122 - june.simulator - INFO - Date = 2020-06-07 11:00:00, number of deaths =  0, number of infected = 1096\n",
      "2020-09-01 19:30:44,298 - june.simulator - INFO - Date = 2020-06-08 00:00:00, number of deaths =  0, number of infected = 1232\n",
      "2020-09-01 19:30:44,543 - june.simulator - INFO - Date = 2020-06-08 02:00:00, number of deaths =  0, number of infected = 1268\n",
      "2020-09-01 19:30:44,797 - june.simulator - INFO - Date = 2020-06-08 04:00:00, number of deaths =  0, number of infected = 1311\n",
      "2020-09-01 19:30:45,065 - june.simulator - INFO - Date = 2020-06-08 06:00:00, number of deaths =  0, number of infected = 1364\n",
      "2020-09-01 19:30:45,335 - june.simulator - INFO - Date = 2020-06-08 08:00:00, number of deaths =  0, number of infected = 1434\n",
      "2020-09-01 19:30:45,496 - june.simulator - INFO - Date = 2020-06-08 10:00:00, number of deaths =  0, number of infected = 1486\n",
      "2020-09-01 19:30:45,701 - june.simulator - INFO - Date = 2020-06-09 00:00:00, number of deaths =  0, number of infected = 1678\n",
      "2020-09-01 19:30:46,019 - june.simulator - INFO - Date = 2020-06-09 02:00:00, number of deaths =  0, number of infected = 1712\n",
      "2020-09-01 19:30:46,485 - june.simulator - INFO - Date = 2020-06-09 04:00:00, number of deaths =  0, number of infected = 1772\n",
      "2020-09-01 19:30:46,846 - june.simulator - INFO - Date = 2020-06-09 06:00:00, number of deaths =  0, number of infected = 1843\n",
      "2020-09-01 19:30:47,158 - june.simulator - INFO - Date = 2020-06-09 08:00:00, number of deaths =  0, number of infected = 1905\n",
      "2020-09-01 19:30:47,366 - june.simulator - INFO - Date = 2020-06-09 10:00:00, number of deaths =  0, number of infected = 1971\n",
      "2020-09-01 19:30:47,732 - june.simulator - INFO - Date = 2020-06-10 00:00:00, number of deaths =  0, number of infected = 2212\n",
      "2020-09-01 19:30:48,287 - june.simulator - INFO - Date = 2020-06-10 02:00:00, number of deaths =  0, number of infected = 2264\n",
      "2020-09-01 19:30:49,031 - june.simulator - INFO - Date = 2020-06-10 04:00:00, number of deaths =  0, number of infected = 2364\n",
      "2020-09-01 19:30:49,722 - june.simulator - INFO - Date = 2020-06-10 06:00:00, number of deaths =  0, number of infected = 2461\n",
      "2020-09-01 19:30:50,465 - june.simulator - INFO - Date = 2020-06-10 08:00:00, number of deaths =  0, number of infected = 2570\n",
      "2020-09-01 19:30:50,979 - june.simulator - INFO - Date = 2020-06-10 10:00:00, number of deaths =  0, number of infected = 2684\n",
      "2020-09-01 19:30:51,313 - june.simulator - INFO - Date = 2020-06-11 00:00:00, number of deaths =  0, number of infected = 3043\n",
      "2020-09-01 19:30:51,638 - june.simulator - INFO - Date = 2020-06-11 02:00:00, number of deaths =  0, number of infected = 3099\n",
      "2020-09-01 19:30:52,052 - june.simulator - INFO - Date = 2020-06-11 04:00:00, number of deaths =  0, number of infected = 3208\n",
      "2020-09-01 19:30:52,424 - june.simulator - INFO - Date = 2020-06-11 06:00:00, number of deaths =  0, number of infected = 3338\n",
      "2020-09-01 19:30:52,767 - june.simulator - INFO - Date = 2020-06-11 08:00:00, number of deaths =  0, number of infected = 3471\n",
      "2020-09-01 19:30:53,006 - june.simulator - INFO - Date = 2020-06-11 10:00:00, number of deaths =  0, number of infected = 3600\n",
      "2020-09-01 19:30:53,307 - june.simulator - INFO - Date = 2020-06-12 00:00:00, number of deaths =  0, number of infected = 4007\n",
      "2020-09-01 19:30:53,629 - june.simulator - INFO - Date = 2020-06-12 02:00:00, number of deaths =  0, number of infected = 4084\n",
      "2020-09-01 19:30:53,999 - june.simulator - INFO - Date = 2020-06-12 04:00:00, number of deaths =  0, number of infected = 4224\n",
      "2020-09-01 19:30:54,365 - june.simulator - INFO - Date = 2020-06-12 06:00:00, number of deaths =  0, number of infected = 4389\n",
      "2020-09-01 19:30:54,773 - june.simulator - INFO - Date = 2020-06-12 08:00:00, number of deaths =  0, number of infected = 4530\n",
      "2020-09-01 19:30:55,035 - june.simulator - INFO - Date = 2020-06-12 10:00:00, number of deaths =  0, number of infected = 4697\n",
      "2020-09-01 19:30:55,389 - june.simulator - INFO - Date = 2020-06-13 00:00:00, number of deaths =  0, number of infected = 5159\n",
      "2020-09-01 19:30:55,768 - june.simulator - INFO - Date = 2020-06-13 03:00:00, number of deaths =  0, number of infected = 5288\n",
      "2020-09-01 19:30:56,228 - june.simulator - INFO - Date = 2020-06-13 05:00:00, number of deaths =  0, number of infected = 5502\n",
      "2020-09-01 19:30:56,670 - june.simulator - INFO - Date = 2020-06-13 07:00:00, number of deaths =  0, number of infected = 5734\n",
      "2020-09-01 19:30:57,099 - june.simulator - INFO - Date = 2020-06-13 09:00:00, number of deaths =  0, number of infected = 5996\n",
      "2020-09-01 19:30:57,403 - june.simulator - INFO - Date = 2020-06-13 11:00:00, number of deaths =  0, number of infected = 6210\n",
      "2020-09-01 19:30:57,796 - june.simulator - INFO - Date = 2020-06-14 00:00:00, number of deaths =  0, number of infected = 6811\n",
      "2020-09-01 19:30:58,215 - june.simulator - INFO - Date = 2020-06-14 03:00:00, number of deaths =  0, number of infected = 6983\n",
      "2020-09-01 19:30:58,652 - june.simulator - INFO - Date = 2020-06-14 05:00:00, number of deaths =  0, number of infected = 7248\n"
     ]
    },
    {
     "name": "stdout",
     "output_type": "stream",
     "text": [
      "2020-09-01 19:30:59,079 - june.simulator - INFO - Date = 2020-06-14 07:00:00, number of deaths =  0, number of infected = 7537\n",
      "2020-09-01 19:30:59,504 - june.simulator - INFO - Date = 2020-06-14 09:00:00, number of deaths =  0, number of infected = 7830\n",
      "2020-09-01 19:30:59,813 - june.simulator - INFO - Date = 2020-06-14 11:00:00, number of deaths =  0, number of infected = 8102\n",
      "2020-09-01 19:31:00,412 - june.simulator - INFO - Date = 2020-06-15 00:00:00, number of deaths =  0, number of infected = 8836\n",
      "2020-09-01 19:31:00,996 - june.simulator - INFO - Date = 2020-06-15 02:00:00, number of deaths =  0, number of infected = 9032\n",
      "2020-09-01 19:31:01,566 - june.simulator - INFO - Date = 2020-06-15 04:00:00, number of deaths =  0, number of infected = 9292\n",
      "2020-09-01 19:31:02,051 - june.simulator - INFO - Date = 2020-06-15 06:00:00, number of deaths =  0, number of infected = 9539\n",
      "2020-09-01 19:31:02,508 - june.simulator - INFO - Date = 2020-06-15 08:00:00, number of deaths =  0, number of infected = 9815\n",
      "2020-09-01 19:31:02,880 - june.simulator - INFO - Date = 2020-06-15 10:00:00, number of deaths =  0, number of infected = 10113\n",
      "2020-09-01 19:31:03,512 - june.simulator - INFO - Date = 2020-06-16 00:00:00, number of deaths =  0, number of infected = 10991\n",
      "2020-09-01 19:31:03,924 - june.simulator - INFO - Date = 2020-06-16 02:00:00, number of deaths =  0, number of infected = 11160\n",
      "2020-09-01 19:31:04,438 - june.simulator - INFO - Date = 2020-06-16 04:00:00, number of deaths =  0, number of infected = 11421\n",
      "2020-09-01 19:31:05,038 - june.simulator - INFO - Date = 2020-06-16 06:00:00, number of deaths =  0, number of infected = 11711\n",
      "2020-09-01 19:31:05,535 - june.simulator - INFO - Date = 2020-06-16 08:00:00, number of deaths =  0, number of infected = 12003\n",
      "2020-09-01 19:31:05,931 - june.simulator - INFO - Date = 2020-06-16 10:00:00, number of deaths =  0, number of infected = 12278\n",
      "2020-09-01 19:31:06,495 - june.simulator - INFO - Date = 2020-06-17 00:00:00, number of deaths =  0, number of infected = 13184\n",
      "2020-09-01 19:31:06,944 - june.simulator - INFO - Date = 2020-06-17 02:00:00, number of deaths =  0, number of infected = 13373\n",
      "2020-09-01 19:31:07,412 - june.simulator - INFO - Date = 2020-06-17 04:00:00, number of deaths =  0, number of infected = 13630\n",
      "2020-09-01 19:31:07,900 - june.simulator - INFO - Date = 2020-06-17 06:00:00, number of deaths =  0, number of infected = 13918\n",
      "2020-09-01 19:31:08,381 - june.simulator - INFO - Date = 2020-06-17 08:00:00, number of deaths =  0, number of infected = 14163\n",
      "2020-09-01 19:31:08,769 - june.simulator - INFO - Date = 2020-06-17 10:00:00, number of deaths =  0, number of infected = 14434\n",
      "2020-09-01 19:31:09,304 - june.simulator - INFO - Date = 2020-06-18 00:00:00, number of deaths =  0, number of infected = 15274\n",
      "2020-09-01 19:31:09,758 - june.simulator - INFO - Date = 2020-06-18 02:00:00, number of deaths =  0, number of infected = 15414\n",
      "2020-09-01 19:31:10,279 - june.simulator - INFO - Date = 2020-06-18 04:00:00, number of deaths =  0, number of infected = 15676\n",
      "2020-09-01 19:31:10,784 - june.simulator - INFO - Date = 2020-06-18 06:00:00, number of deaths =  0, number of infected = 15930\n",
      "2020-09-01 19:31:11,281 - june.simulator - INFO - Date = 2020-06-18 08:00:00, number of deaths =  0, number of infected = 16173\n",
      "2020-09-01 19:31:11,689 - june.simulator - INFO - Date = 2020-06-18 10:00:00, number of deaths =  0, number of infected = 16420\n",
      "2020-09-01 19:31:12,264 - june.simulator - INFO - Date = 2020-06-19 00:00:00, number of deaths =  0, number of infected = 17147\n",
      "2020-09-01 19:31:12,850 - june.simulator - INFO - Date = 2020-06-19 02:00:00, number of deaths =  0, number of infected = 17271\n",
      "2020-09-01 19:31:13,416 - june.simulator - INFO - Date = 2020-06-19 04:00:00, number of deaths =  0, number of infected = 17483\n",
      "2020-09-01 19:31:13,994 - june.simulator - INFO - Date = 2020-06-19 06:00:00, number of deaths =  0, number of infected = 17685\n",
      "2020-09-01 19:31:14,709 - june.simulator - INFO - Date = 2020-06-19 08:00:00, number of deaths =  0, number of infected = 17906\n",
      "2020-09-01 19:31:15,114 - june.simulator - INFO - Date = 2020-06-19 10:00:00, number of deaths =  0, number of infected = 18101\n",
      "2020-09-01 19:31:15,700 - june.simulator - INFO - Date = 2020-06-20 00:00:00, number of deaths =  0, number of infected = 18680\n",
      "2020-09-01 19:31:16,210 - june.simulator - INFO - Date = 2020-06-20 03:00:00, number of deaths =  0, number of infected = 18833\n",
      "2020-09-01 19:31:16,755 - june.simulator - INFO - Date = 2020-06-20 05:00:00, number of deaths =  0, number of infected = 19018\n",
      "2020-09-01 19:31:17,291 - june.simulator - INFO - Date = 2020-06-20 07:00:00, number of deaths =  0, number of infected = 19191\n",
      "2020-09-01 19:31:17,834 - june.simulator - INFO - Date = 2020-06-20 09:00:00, number of deaths =  0, number of infected = 19377\n",
      "2020-09-01 19:31:18,263 - june.simulator - INFO - Date = 2020-06-20 11:00:00, number of deaths =  0, number of infected = 19574\n",
      "2020-09-01 19:31:18,788 - june.simulator - INFO - Date = 2020-06-21 00:00:00, number of deaths =  0, number of infected = 20004\n",
      "2020-09-01 19:31:19,380 - june.simulator - INFO - Date = 2020-06-21 03:00:00, number of deaths =  0, number of infected = 20122\n",
      "2020-09-01 19:31:20,017 - june.simulator - INFO - Date = 2020-06-21 05:00:00, number of deaths =  0, number of infected = 20263\n",
      "2020-09-01 19:31:20,516 - june.simulator - INFO - Date = 2020-06-21 07:00:00, number of deaths =  0, number of infected = 20392\n",
      "2020-09-01 19:31:21,009 - june.simulator - INFO - Date = 2020-06-21 09:00:00, number of deaths =  0, number of infected = 20504\n",
      "2020-09-01 19:31:21,432 - june.simulator - INFO - Date = 2020-06-21 11:00:00, number of deaths =  0, number of infected = 20638\n",
      "2020-09-01 19:31:21,920 - june.simulator - INFO - Date = 2020-06-22 00:00:00, number of deaths =  0, number of infected = 20944\n",
      "2020-09-01 19:31:22,509 - june.simulator - INFO - Date = 2020-06-22 02:00:00, number of deaths =  0, number of infected = 21005\n",
      "2020-09-01 19:31:23,050 - june.simulator - INFO - Date = 2020-06-22 04:00:00, number of deaths =  0, number of infected = 21092\n",
      "2020-09-01 19:31:23,615 - june.simulator - INFO - Date = 2020-06-22 06:00:00, number of deaths =  0, number of infected = 21186\n",
      "2020-09-01 19:31:24,317 - june.simulator - INFO - Date = 2020-06-22 08:00:00, number of deaths =  0, number of infected = 21269\n",
      "2020-09-01 19:31:24,822 - june.simulator - INFO - Date = 2020-06-22 10:00:00, number of deaths =  0, number of infected = 21349\n",
      "2020-09-01 19:31:25,254 - june.simulator - INFO - Date = 2020-06-23 00:00:00, number of deaths =  0, number of infected = 21525\n",
      "2020-09-01 19:31:25,735 - june.simulator - INFO - Date = 2020-06-23 02:00:00, number of deaths =  0, number of infected = 21567\n",
      "2020-09-01 19:31:26,278 - june.simulator - INFO - Date = 2020-06-23 04:00:00, number of deaths =  0, number of infected = 21607\n",
      "2020-09-01 19:31:26,838 - june.simulator - INFO - Date = 2020-06-23 06:00:00, number of deaths =  0, number of infected = 21655\n",
      "2020-09-01 19:31:27,338 - june.simulator - INFO - Date = 2020-06-23 08:00:00, number of deaths =  0, number of infected = 21694\n",
      "2020-09-01 19:31:27,744 - june.simulator - INFO - Date = 2020-06-23 10:00:00, number of deaths =  0, number of infected = 21746\n",
      "2020-09-01 19:31:28,220 - june.simulator - INFO - Date = 2020-06-24 00:00:00, number of deaths =  0, number of infected = 21858\n",
      "2020-09-01 19:31:28,724 - june.simulator - INFO - Date = 2020-06-24 02:00:00, number of deaths =  0, number of infected = 21882\n",
      "2020-09-01 19:31:29,247 - june.simulator - INFO - Date = 2020-06-24 04:00:00, number of deaths =  0, number of infected = 21905\n",
      "2020-09-01 19:31:29,780 - june.simulator - INFO - Date = 2020-06-24 06:00:00, number of deaths =  0, number of infected = 21929\n",
      "2020-09-01 19:31:30,264 - june.simulator - INFO - Date = 2020-06-24 08:00:00, number of deaths =  0, number of infected = 21956\n",
      "2020-09-01 19:31:30,776 - june.simulator - INFO - Date = 2020-06-24 10:00:00, number of deaths =  0, number of infected = 21981\n",
      "2020-09-01 19:31:31,240 - june.simulator - INFO - Date = 2020-06-25 00:00:00, number of deaths =  0, number of infected = 22025\n",
      "2020-09-01 19:31:31,720 - june.simulator - INFO - Date = 2020-06-25 02:00:00, number of deaths =  0, number of infected = 22036\n"
     ]
    },
    {
     "name": "stdout",
     "output_type": "stream",
     "text": [
      "2020-09-01 19:31:32,203 - june.simulator - INFO - Date = 2020-06-25 04:00:00, number of deaths =  0, number of infected = 22048\n",
      "2020-09-01 19:31:32,688 - june.simulator - INFO - Date = 2020-06-25 06:00:00, number of deaths =  0, number of infected = 22062\n",
      "2020-09-01 19:31:33,163 - june.simulator - INFO - Date = 2020-06-25 08:00:00, number of deaths =  1, number of infected = 22065\n",
      "2020-09-01 19:31:33,564 - june.simulator - INFO - Date = 2020-06-25 10:00:00, number of deaths =  1, number of infected = 22081\n",
      "2020-09-01 19:31:33,973 - june.simulator - INFO - Date = 2020-06-26 00:00:00, number of deaths =  1, number of infected = 22051\n",
      "2020-09-01 19:31:34,439 - june.simulator - INFO - Date = 2020-06-26 02:00:00, number of deaths =  1, number of infected = 22044\n",
      "2020-09-01 19:31:34,913 - june.simulator - INFO - Date = 2020-06-26 04:00:00, number of deaths =  1, number of infected = 22034\n",
      "2020-09-01 19:31:35,383 - june.simulator - INFO - Date = 2020-06-26 06:00:00, number of deaths =  1, number of infected = 22036\n",
      "2020-09-01 19:31:35,866 - june.simulator - INFO - Date = 2020-06-26 08:00:00, number of deaths =  1, number of infected = 22034\n",
      "2020-09-01 19:31:36,277 - june.simulator - INFO - Date = 2020-06-26 10:00:00, number of deaths =  1, number of infected = 22024\n",
      "2020-09-01 19:31:36,691 - june.simulator - INFO - Date = 2020-06-27 00:00:00, number of deaths =  1, number of infected = 21941\n",
      "2020-09-01 19:31:37,190 - june.simulator - INFO - Date = 2020-06-27 03:00:00, number of deaths =  1, number of infected = 21932\n",
      "2020-09-01 19:31:37,692 - june.simulator - INFO - Date = 2020-06-27 05:00:00, number of deaths =  1, number of infected = 21928\n",
      "2020-09-01 19:31:38,209 - june.simulator - INFO - Date = 2020-06-27 07:00:00, number of deaths =  1, number of infected = 21916\n",
      "2020-09-01 19:31:38,769 - june.simulator - INFO - Date = 2020-06-27 09:00:00, number of deaths =  1, number of infected = 21898\n",
      "2020-09-01 19:31:39,197 - june.simulator - INFO - Date = 2020-06-27 11:00:00, number of deaths =  1, number of infected = 21890\n",
      "2020-09-01 19:31:39,609 - june.simulator - INFO - Date = 2020-06-28 00:00:00, number of deaths =  1, number of infected = 21767\n",
      "2020-09-01 19:31:40,117 - june.simulator - INFO - Date = 2020-06-28 03:00:00, number of deaths =  1, number of infected = 21739\n",
      "2020-09-01 19:31:40,616 - june.simulator - INFO - Date = 2020-06-28 05:00:00, number of deaths =  1, number of infected = 21728\n",
      "2020-09-01 19:31:41,099 - june.simulator - INFO - Date = 2020-06-28 07:00:00, number of deaths =  1, number of infected = 21704\n",
      "2020-09-01 19:31:41,581 - june.simulator - INFO - Date = 2020-06-28 09:00:00, number of deaths =  1, number of infected = 21686\n",
      "2020-09-01 19:31:41,975 - june.simulator - INFO - Date = 2020-06-28 11:00:00, number of deaths =  1, number of infected = 21665\n",
      "2020-09-01 19:31:42,362 - june.simulator - INFO - Date = 2020-06-29 00:00:00, number of deaths =  1, number of infected = 21487\n",
      "2020-09-01 19:31:42,802 - june.simulator - INFO - Date = 2020-06-29 02:00:00, number of deaths =  1, number of infected = 21461\n",
      "2020-09-01 19:31:43,272 - june.simulator - INFO - Date = 2020-06-29 04:00:00, number of deaths =  1, number of infected = 21422\n",
      "2020-09-01 19:31:43,739 - june.simulator - INFO - Date = 2020-06-29 06:00:00, number of deaths =  1, number of infected = 21396\n",
      "2020-09-01 19:31:44,210 - june.simulator - INFO - Date = 2020-06-29 08:00:00, number of deaths =  1, number of infected = 21370\n",
      "2020-09-01 19:31:44,594 - june.simulator - INFO - Date = 2020-06-29 10:00:00, number of deaths =  1, number of infected = 21337\n",
      "2020-09-01 19:31:44,975 - june.simulator - INFO - Date = 2020-06-30 00:00:00, number of deaths =  1, number of infected = 21083\n",
      "2020-09-01 19:31:45,428 - june.simulator - INFO - Date = 2020-06-30 02:00:00, number of deaths =  1, number of infected = 21047\n",
      "2020-09-01 19:31:45,889 - june.simulator - INFO - Date = 2020-06-30 04:00:00, number of deaths =  1, number of infected = 21011\n",
      "2020-09-01 19:31:46,376 - june.simulator - INFO - Date = 2020-06-30 06:00:00, number of deaths =  1, number of infected = 20973\n",
      "2020-09-01 19:31:46,859 - june.simulator - INFO - Date = 2020-06-30 08:00:00, number of deaths =  1, number of infected = 20934\n",
      "2020-09-01 19:31:47,261 - june.simulator - INFO - Date = 2020-06-30 10:00:00, number of deaths =  1, number of infected = 20895\n",
      "2020-09-01 19:31:47,647 - june.simulator - INFO - Date = 2020-07-01 00:00:00, number of deaths =  1, number of infected = 20569\n",
      "2020-09-01 19:31:48,131 - june.simulator - INFO - Date = 2020-07-01 02:00:00, number of deaths =  1, number of infected = 20509\n"
     ]
    }
   ],
   "source": [
    "%%time\n",
    "simulator.run()"
   ]
  },
  {
   "cell_type": "markdown",
   "metadata": {},
   "source": [
    "# Getting the results"
   ]
  },
  {
   "cell_type": "markdown",
   "metadata": {},
   "source": [
    "All results are stored in a json file specified in the ``save_path`` variable in the config file. We can also access it from ``world.logger`` directly."
   ]
  },
  {
   "cell_type": "code",
   "execution_count": null,
   "metadata": {},
   "outputs": [],
   "source": [
    "import pandas as pd\n",
    "read = ReadLogger()"
   ]
  },
  {
   "cell_type": "code",
   "execution_count": null,
   "metadata": {},
   "outputs": [],
   "source": [
    "read.load_infection_location()"
   ]
  },
  {
   "cell_type": "code",
   "execution_count": null,
   "metadata": {},
   "outputs": [],
   "source": [
    "infection_locations = read.get_locations_infections()"
   ]
  },
  {
   "cell_type": "code",
   "execution_count": null,
   "metadata": {},
   "outputs": [],
   "source": [
    "unique_locations, counts_locations = np.unique(\n",
    "                np.array(infection_locations),\n",
    "                return_counts=True)\n",
    "\n",
    "location_counts_df = pd.DataFrame(\n",
    "    {'locations': unique_locations,\n",
    "    'counts': counts_locations}\n",
    ")\n",
    "location_counts_df.set_index('locations', inplace=True)\n"
   ]
  },
  {
   "cell_type": "code",
   "execution_count": null,
   "metadata": {},
   "outputs": [],
   "source": [
    "location_counts_df['percent_infections']= 100*(location_counts_df['counts'])/location_counts_df.values.sum()"
   ]
  },
  {
   "cell_type": "code",
   "execution_count": null,
   "metadata": {},
   "outputs": [],
   "source": [
    "import matplotlib.ticker as mtick\n",
    "\n",
    "ax = location_counts_df['percent_infections'].sort_values().plot.bar()\n",
    "ax.yaxis.set_major_formatter(mtick.PercentFormatter())\n",
    "plt.ylabel('Percentage of infections at location')\n",
    "plt.xlabel('location')"
   ]
  },
  {
   "cell_type": "code",
   "execution_count": null,
   "metadata": {},
   "outputs": [],
   "source": [
    "for location in unique_locations:\n",
    "    read.locations_df[str(location)] = read.locations_df.apply(\n",
    "        lambda x: x.location.count(str(location)), axis=1\n",
    "    )\n",
    "read.locations_df.index = pd.to_datetime(read.locations_df.index)"
   ]
  },
  {
   "cell_type": "code",
   "execution_count": null,
   "metadata": {},
   "outputs": [],
   "source": [
    "read.locations_df.iloc[:,3:].plot()"
   ]
  },
  {
   "cell_type": "markdown",
   "metadata": {},
   "source": [
    "## Where did outbreaks happen?"
   ]
  },
  {
   "cell_type": "code",
   "execution_count": null,
   "metadata": {},
   "outputs": [],
   "source": [
    "unique_id, count_id =  np.unique(\n",
    "        np.array(read.locations_df['location_id'].sum()),\n",
    "        return_counts=True\n",
    ")"
   ]
  },
  {
   "cell_type": "code",
   "execution_count": null,
   "metadata": {},
   "outputs": [],
   "source": [
    "unique_id[np.argsort(count_id)[-5:]]"
   ]
  },
  {
   "cell_type": "code",
   "execution_count": null,
   "metadata": {},
   "outputs": [],
   "source": [
    "count_id[np.argsort(count_id)[-5:]]"
   ]
  },
  {
   "cell_type": "code",
   "execution_count": null,
   "metadata": {},
   "outputs": [],
   "source": [
    "world_df = read.world_summary()\n",
    "world_df.plot()\n",
    "plt.legend()"
   ]
  },
  {
   "cell_type": "code",
   "execution_count": null,
   "metadata": {},
   "outputs": [],
   "source": [
    "world_df['daily_infections'].plot()"
   ]
  },
  {
   "cell_type": "code",
   "execution_count": null,
   "metadata": {},
   "outputs": [],
   "source": [
    "world_df['daily_infections'].iloc[390:]"
   ]
  },
  {
   "cell_type": "markdown",
   "metadata": {},
   "source": [
    "## Output to save"
   ]
  },
  {
   "cell_type": "code",
   "execution_count": null,
   "metadata": {},
   "outputs": [],
   "source": [
    "%%time\n",
    "summary = read.run_summary(\n",
    "    super_area_region_path=camp_data_path \n",
    "    / 'input/geography/area_super_area_region.csv'\n",
    ")"
   ]
  },
  {
   "cell_type": "code",
   "execution_count": null,
   "metadata": {},
   "outputs": [],
   "source": [
    "summary"
   ]
  },
  {
   "cell_type": "code",
   "execution_count": null,
   "metadata": {},
   "outputs": [],
   "source": []
  },
  {
   "cell_type": "code",
   "execution_count": null,
   "metadata": {},
   "outputs": [],
   "source": []
  }
 ],
 "metadata": {
  "kernelspec": {
   "display_name": "camps",
   "language": "python",
   "name": "camps"
  },
  "language_info": {
   "codemirror_mode": {
    "name": "ipython",
    "version": 3
   },
   "file_extension": ".py",
   "mimetype": "text/x-python",
   "name": "python",
   "nbconvert_exporter": "python",
   "pygments_lexer": "ipython3",
   "version": "3.8.3"
  }
 },
 "nbformat": 4,
 "nbformat_minor": 4
}
