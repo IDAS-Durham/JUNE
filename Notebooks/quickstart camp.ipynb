{
 "cells": [
  {
   "cell_type": "code",
   "execution_count": 1,
   "metadata": {},
   "outputs": [],
   "source": [
    "%load_ext autoreload\n",
    "%autoreload 2"
   ]
  },
  {
   "cell_type": "code",
   "execution_count": 2,
   "metadata": {},
   "outputs": [],
   "source": [
    "import warnings\n",
    "warnings.filterwarnings('ignore')"
   ]
  },
  {
   "cell_type": "code",
   "execution_count": 3,
   "metadata": {},
   "outputs": [],
   "source": [
    "import numpy as np\n",
    "import matplotlib.pyplot as plt \n",
    "import pandas as pd\n",
    "import time\n",
    "import matplotlib.pyplot as plt\n",
    "import seaborn as sns\n",
    "from datetime import datetime\n",
    "import sys\n",
    "sys.path.append(\"../camp_scripts\") # change accordingly\n",
    "sns.set_context('notebook')"
   ]
  },
  {
   "cell_type": "code",
   "execution_count": 45,
   "metadata": {},
   "outputs": [],
   "source": [
    "from june.demography.geography import Geography\n",
    "from june.demography.demography import load_age_and_sex_generators_for_bins, Demography, Population\n",
    "from june.paths import data_path\n",
    "from june.infection_seed import InfectionSeed\n",
    "from june.simulator import Simulator\n",
    "from june.infection.infection import InfectionSelector\n",
    "from june.interaction import ContactAveraging\n",
    "from june.groups import Hospital, Hospitals\n",
    "from june.distributors import HospitalDistributor\n",
    "from june.world import generate_world_from_hdf5\n",
    "from june.groups import Cemeteries\n",
    "from june.policy import Policy, Policies\n",
    "from june.logger.read_logger import ReadLogger\n",
    "\n",
    "from camps.paths import camp_data_path\n",
    "from camps.world import World\n",
    "from camps.groups.leisure import generate_leisure_for_world, generate_leisure_for_config\n",
    "from camp_creation import generate_empty_world, populate_world, distribute_people_to_households # this is loaded from the ../camp_scripts folder"
   ]
  },
  {
   "cell_type": "code",
   "execution_count": 7,
   "metadata": {},
   "outputs": [],
   "source": [
    "from camps.groups import PumpLatrines, PumpLatrineDistributor\n",
    "from camps.groups import DistributionCenters, DistributionCenterDistributor\n",
    "from camps.groups import Communals, CommunalDistributor\n",
    "from camps.groups import FemaleCommunals, FemaleCommunalDistributor\n",
    "from camps.groups import Religiouss, ReligiousDistributor\n",
    "from camps.groups import Shelter, Shelters, ShelterDistributor\n",
    "from camps.groups import IsolationUnit, IsolationUnits\n",
    "from june.groups.leisure import HouseholdVisitsDistributor"
   ]
  },
  {
   "cell_type": "markdown",
   "metadata": {},
   "source": [
    "## Initialize the world"
   ]
  },
  {
   "cell_type": "code",
   "execution_count": 9,
   "metadata": {},
   "outputs": [
    {
     "name": "stdout",
     "output_type": "stream",
     "text": [
      "2020-07-23 18:09:34,424 - june.demography.geography - INFO - There are 65 areas and 4 super_areas in the world.\n"
     ]
    }
   ],
   "source": [
    "# create empty world's geography\n",
    "world = generate_empty_world(filter_key = {\"region\" : [\"CXB-219\"]})"
   ]
  },
  {
   "cell_type": "code",
   "execution_count": 10,
   "metadata": {},
   "outputs": [],
   "source": [
    "# populate empty world\n",
    "populate_world(world)"
   ]
  },
  {
   "cell_type": "code",
   "execution_count": 11,
   "metadata": {},
   "outputs": [],
   "source": [
    "# distribute people to households\n",
    "distribute_people_to_households(world)"
   ]
  },
  {
   "cell_type": "code",
   "execution_count": 12,
   "metadata": {},
   "outputs": [
    {
     "name": "stdout",
     "output_type": "stream",
     "text": [
      "2020-07-23 18:09:41,476 - june.groups.hospital - INFO - There are 8 hospitals in the world.\n"
     ]
    }
   ],
   "source": [
    "# this is not working\n",
    "hospitals= Hospitals.from_file(\n",
    "    filename=camp_data_path / 'input/hospitals/hospitals.csv'\n",
    ")\n",
    "world.hospitals = hospitals\n",
    "hospital_distributor = HospitalDistributor(hospitals, \n",
    "                                           medic_min_age=20,\n",
    "                                           patients_per_medic=10)\n",
    "\n",
    "hospital_distributor.distribute_medics_from_world(world.people)\n",
    "world.isolation_units = IsolationUnits([IsolationUnit()])"
   ]
  },
  {
   "cell_type": "code",
   "execution_count": 13,
   "metadata": {},
   "outputs": [],
   "source": [
    "world.pump_latrines = PumpLatrines.for_areas(world.areas)\n",
    "world.distribution_centers = DistributionCenters.for_areas(world.areas)\n",
    "world.communals = Communals.for_areas(world.areas)\n",
    "world.female_communals = FemaleCommunals.for_areas(world.areas)\n",
    "world.religiouss = Religiouss.for_areas(world.areas)"
   ]
  },
  {
   "cell_type": "code",
   "execution_count": 14,
   "metadata": {},
   "outputs": [],
   "source": [
    "#world.box_mode = False\n",
    "world.cemeteries = Cemeteries()"
   ]
  },
  {
   "cell_type": "markdown",
   "metadata": {},
   "source": [
    "## Geography exploration"
   ]
  },
  {
   "cell_type": "markdown",
   "metadata": {},
   "source": [
    "### UNHCR camp blocks inside the World"
   ]
  },
  {
   "cell_type": "code",
   "execution_count": 15,
   "metadata": {},
   "outputs": [],
   "source": [
    "super_areas = []\n",
    "for super_area in world.super_areas:\n",
    "    super_areas.append(super_area.name)"
   ]
  },
  {
   "cell_type": "code",
   "execution_count": 16,
   "metadata": {},
   "outputs": [
    {
     "data": {
      "text/plain": [
       "['CXB-219-A', 'CXB-219-B', 'CXB-219-C', 'CXB-219-D']"
      ]
     },
     "execution_count": 16,
     "metadata": {},
     "output_type": "execute_result"
    }
   ],
   "source": [
    "super_areas[:5]"
   ]
  },
  {
   "cell_type": "markdown",
   "metadata": {},
   "source": [
    "### Mahjee blocks inside World"
   ]
  },
  {
   "cell_type": "code",
   "execution_count": 17,
   "metadata": {},
   "outputs": [],
   "source": [
    "areas = []\n",
    "for area in world.areas:\n",
    "    areas.append(area.name)"
   ]
  },
  {
   "cell_type": "code",
   "execution_count": 18,
   "metadata": {},
   "outputs": [
    {
     "data": {
      "text/plain": [
       "['CXB-219-062', 'CXB-219-063', 'CXB-219-061', 'CXB-219-060', 'CXB-219-065']"
      ]
     },
     "execution_count": 18,
     "metadata": {},
     "output_type": "execute_result"
    }
   ],
   "source": [
    "areas[:5]"
   ]
  },
  {
   "cell_type": "markdown",
   "metadata": {},
   "source": [
    "## Demography exploration"
   ]
  },
  {
   "cell_type": "markdown",
   "metadata": {},
   "source": [
    "### UNHCR block residents"
   ]
  },
  {
   "cell_type": "code",
   "execution_count": 19,
   "metadata": {},
   "outputs": [],
   "source": [
    "sample_ages = []\n",
    "sample_sexes = []\n",
    "for person in world.super_areas.members[0].people:\n",
    "    sample_ages.append(person.age)\n",
    "    sample_sexes.append(person.sex)"
   ]
  },
  {
   "cell_type": "code",
   "execution_count": 20,
   "metadata": {},
   "outputs": [
    {
     "data": {
      "text/plain": [
       "(['f', 'm', 'm', 'm', 'm'], [59, 62, 50, 21, 54])"
      ]
     },
     "execution_count": 20,
     "metadata": {},
     "output_type": "execute_result"
    }
   ],
   "source": [
    "sample_sexes[:5], sample_ages[:5]"
   ]
  },
  {
   "cell_type": "code",
   "execution_count": 21,
   "metadata": {},
   "outputs": [
    {
     "data": {
      "image/png": "[encoded data removed]",
      "text/plain": [
       "<Figure size 432x288 with 1 Axes>"
      ]
     },
     "metadata": {
      "needs_background": "light"
     },
     "output_type": "display_data"
    }
   ],
   "source": [
    "ages, counts = np.unique(sample_ages, return_counts=True)\n",
    "plt.bar(ages, counts)\n",
    "plt.title('super area: {} age distribution'.format(world.super_areas.members[0].name))\n",
    "plt.show()"
   ]
  },
  {
   "cell_type": "code",
   "execution_count": 22,
   "metadata": {},
   "outputs": [
    {
     "name": "stdout",
     "output_type": "stream",
     "text": [
      "The % children between ages 0-16 is 48%\n"
     ]
    }
   ],
   "source": [
    "print ('The % children between ages 0-16 is {}%'.format(round(np.sum(counts[:16])/(np.sum(counts[:16])+np.sum(counts[16:]))*100)))"
   ]
  },
  {
   "cell_type": "markdown",
   "metadata": {},
   "source": [
    "## Households"
   ]
  },
  {
   "cell_type": "markdown",
   "metadata": {},
   "source": [
    "### Household size distribution"
   ]
  },
  {
   "cell_type": "code",
   "execution_count": 23,
   "metadata": {},
   "outputs": [
    {
     "data": {
      "image/png": "[encoded data removed]",
      "text/plain": [
       "<Figure size 432x288 with 1 Axes>"
      ]
     },
     "metadata": {
      "needs_background": "light"
     },
     "output_type": "display_data"
    }
   ],
   "source": [
    "household_sizes = [household.size for household in world.households]\n",
    "plt.hist(household_sizes, density=True, bins=np.arange(0,12))\n",
    "plt.xlabel(\"Household size\")\n",
    "plt.ylabel(\"Frequency\")\n",
    "plt.axvline(np.mean(household_sizes), color=\"cyan\")\n",
    "plt.text(8, 0.150, f\"Avg. size: {(np.mean(household_sizes)):.2f}\")\n",
    "plt.show()"
   ]
  },
  {
   "cell_type": "markdown",
   "metadata": {},
   "source": [
    "# Shelters"
   ]
  },
  {
   "cell_type": "code",
   "execution_count": 24,
   "metadata": {},
   "outputs": [],
   "source": [
    "world.shelters = Shelters.for_areas(world.areas)\n",
    "shelter_distributor = ShelterDistributor(sharing_shelter_ratio = 0.75) # proportion of families that share a shelter\n",
    "for area in world.areas:\n",
    "    shelter_distributor.distribute_people_in_shelters(area.shelters, area.households)"
   ]
  },
  {
   "cell_type": "code",
   "execution_count": 25,
   "metadata": {},
   "outputs": [
    {
     "data": {
      "image/png": "[encoded data removed]",
      "text/plain": [
       "<Figure size 576x216 with 2 Axes>"
      ]
     },
     "metadata": {
      "needs_background": "light"
     },
     "output_type": "display_data"
    }
   ],
   "source": [
    "fig, ax = plt.subplots(1, 2, figsize=(8,3))\n",
    "shelter_sizes = [shelter.size for shelter in world.shelters]\n",
    "shelter_families = [shelter.n_families for shelter in world.shelters]\n",
    "ax[0].hist(shelter_sizes)\n",
    "ax[0].set_title(\"Shelter size\")\n",
    "shelter_families = {1 : len([shelter for shelter in world.shelters if shelter.n_families == 1]),\n",
    "                    2 : len([shelter for shelter in world.shelters if shelter.n_families == 2])}\n",
    "ax[1].bar(shelter_families.keys(), shelter_families.values())\n",
    "ax[1].set_title(\"# families per shelter\")\n",
    "plt.show()"
   ]
  },
  {
   "cell_type": "markdown",
   "metadata": {},
   "source": [
    "## Activity exploration"
   ]
  },
  {
   "cell_type": "markdown",
   "metadata": {},
   "source": [
    "### Pumps and latrines "
   ]
  },
  {
   "cell_type": "code",
   "execution_count": 26,
   "metadata": {},
   "outputs": [],
   "source": [
    "pumps_and_latrines = []\n",
    "for pump_latrine in world.areas.members[0].pump_latrines:\n",
    "    pumps_and_latrines.append(pump_latrine)"
   ]
  },
  {
   "cell_type": "code",
   "execution_count": 27,
   "metadata": {},
   "outputs": [
    {
     "name": "stdout",
     "output_type": "stream",
     "text": [
      "There are 3 pumps and latrines in area CXB-219-062\n"
     ]
    }
   ],
   "source": [
    "print ('There are {} pumps and latrines in area {}'.format(len(pumps_and_latrines), world.areas.members[0].name))"
   ]
  },
  {
   "cell_type": "markdown",
   "metadata": {},
   "source": [
    "### Distribution centers"
   ]
  },
  {
   "cell_type": "code",
   "execution_count": 28,
   "metadata": {},
   "outputs": [],
   "source": [
    "distribution_centers = []\n",
    "for center in world.distribution_centers:\n",
    "    distribution_centers.append(center)"
   ]
  },
  {
   "cell_type": "code",
   "execution_count": 29,
   "metadata": {},
   "outputs": [
    {
     "data": {
      "text/plain": [
       "array([21.1962 , 92.14936])"
      ]
     },
     "execution_count": 29,
     "metadata": {},
     "output_type": "execute_result"
    }
   ],
   "source": [
    "distribution_centers[0].coordinates"
   ]
  },
  {
   "cell_type": "markdown",
   "metadata": {},
   "source": [
    "### Communal spaces"
   ]
  },
  {
   "cell_type": "code",
   "execution_count": 30,
   "metadata": {},
   "outputs": [],
   "source": [
    "communal_spaces = []\n",
    "for space in world.communals:\n",
    "    communal_spaces.append(space)"
   ]
  },
  {
   "cell_type": "code",
   "execution_count": 31,
   "metadata": {},
   "outputs": [
    {
     "data": {
      "text/plain": [
       "array([21.19621, 92.14924])"
      ]
     },
     "execution_count": 31,
     "metadata": {},
     "output_type": "execute_result"
    }
   ],
   "source": [
    "communal_spaces[0].coordinates"
   ]
  },
  {
   "cell_type": "markdown",
   "metadata": {},
   "source": [
    "### Female friendly communal spaces"
   ]
  },
  {
   "cell_type": "code",
   "execution_count": 32,
   "metadata": {},
   "outputs": [],
   "source": [
    "female_communal_spaces = []\n",
    "for space in world.female_communals:\n",
    "    female_communal_spaces.append(space)"
   ]
  },
  {
   "cell_type": "code",
   "execution_count": 33,
   "metadata": {},
   "outputs": [
    {
     "data": {
      "text/plain": [
       "array([21.19588, 92.152  ])"
      ]
     },
     "execution_count": 33,
     "metadata": {},
     "output_type": "execute_result"
    }
   ],
   "source": [
    "female_communal_spaces[0].coordinates"
   ]
  },
  {
   "cell_type": "markdown",
   "metadata": {},
   "source": [
    "### Religious sites"
   ]
  },
  {
   "cell_type": "code",
   "execution_count": 34,
   "metadata": {},
   "outputs": [],
   "source": [
    "religious = []\n",
    "for rel in world.religiouss:\n",
    "    religious.append(rel)"
   ]
  },
  {
   "cell_type": "code",
   "execution_count": 35,
   "metadata": {},
   "outputs": [
    {
     "data": {
      "text/plain": [
       "array([21.20069, 92.15216])"
      ]
     },
     "execution_count": 35,
     "metadata": {},
     "output_type": "execute_result"
    }
   ],
   "source": [
    "religious[0].coordinates"
   ]
  },
  {
   "cell_type": "markdown",
   "metadata": {},
   "source": [
    "# Adding the infection"
   ]
  },
  {
   "cell_type": "code",
   "execution_count": 36,
   "metadata": {},
   "outputs": [],
   "source": [
    "selector = InfectionSelector.from_file()"
   ]
  },
  {
   "cell_type": "markdown",
   "metadata": {},
   "source": [
    "# Adding the interaction"
   ]
  },
  {
   "cell_type": "code",
   "execution_count": 37,
   "metadata": {},
   "outputs": [],
   "source": [
    "interaction = ContactAveraging.from_file(config_filename='../configs_camps/defaults/interaction/ContactInteraction.yaml',\\\n",
    "                                         selector=selector)"
   ]
  },
  {
   "cell_type": "markdown",
   "metadata": {},
   "source": [
    "# Set policies"
   ]
  },
  {
   "cell_type": "code",
   "execution_count": 39,
   "metadata": {},
   "outputs": [],
   "source": [
    "policies = Policies.from_file('../configs_camps/defaults/policy/policy.yaml', base_policy_modules=('june.policy', 'camps.policy'))"
   ]
  },
  {
   "cell_type": "code",
   "execution_count": 50,
   "metadata": {},
   "outputs": [
    {
     "data": {
      "text/plain": [
       "[<june.policy.interaction_policies.SocialDistancing at 0x7ff4a5d6e250>,\n",
       " <june.policy.medical_care_policies.Hospitalisation at 0x7ff4a7167310>,\n",
       " <camps.policy.isolation.Isolation at 0x7ff4a70190a0>]"
      ]
     },
     "execution_count": 50,
     "metadata": {},
     "output_type": "execute_result"
    }
   ],
   "source": [
    "policies.policies"
   ]
  },
  {
   "cell_type": "markdown",
   "metadata": {},
   "source": [
    "# Seed the disease"
   ]
  },
  {
   "cell_type": "code",
   "execution_count": 40,
   "metadata": {},
   "outputs": [],
   "source": [
    "seed = InfectionSeed(world.super_areas,\n",
    "           selector)\n",
    "\n",
    "seed.unleash_virus(n_cases=5)"
   ]
  },
  {
   "cell_type": "markdown",
   "metadata": {},
   "source": [
    "# Init leisure"
   ]
  },
  {
   "cell_type": "code",
   "execution_count": 41,
   "metadata": {},
   "outputs": [],
   "source": [
    "CONFIG_PATH = \"../configs_camps/config_example.yaml\"\n",
    "\n",
    "leisure_instance = generate_leisure_for_config(\n",
    "            world=world, config_filename=CONFIG_PATH\n",
    ")\n",
    "leisure_instance.leisure_distributors = {}\n",
    "leisure_instance.leisure_distributors['pump_latrines'] = PumpLatrineDistributor.from_config(pump_latrines=world.pump_latrines)\n",
    "leisure_instance.leisure_distributors['distribution_centers'] = DistributionCenterDistributor.from_config(distribution_centers=world.distribution_centers)\n",
    "leisure_instance.leisure_distributors['communals'] = CommunalDistributor.from_config(communals=world.communals)\n",
    "leisure_instance.leisure_distributors['female_communals'] = FemaleCommunalDistributor.from_config(female_communals=world.female_communals)\n",
    "\n",
    "#associate social activities to shelters\n",
    "leisure_instance.distribute_social_venues_to_households(world.shelters)\n"
   ]
  },
  {
   "cell_type": "markdown",
   "metadata": {},
   "source": [
    "# Initialize simulator and run"
   ]
  },
  {
   "cell_type": "code",
   "execution_count": 47,
   "metadata": {},
   "outputs": [],
   "source": [
    "simulator = Simulator.from_file(\n",
    "     world, interaction,\n",
    "    leisure = leisure_instance,\n",
    "    policies=policies,\n",
    "    config_filename = CONFIG_PATH\n",
    ")"
   ]
  },
  {
   "cell_type": "code",
   "execution_count": 48,
   "metadata": {},
   "outputs": [
    {
     "data": {
      "text/plain": [
       "{'pump_latrines': <camps.groups.pump_latrine.PumpLatrineDistributor at 0x7ff4a5b60280>,\n",
       " 'distribution_centers': <camps.groups.distribution_center.DistributionCenterDistributor at 0x7ff4a5b60400>,\n",
       " 'communals': <camps.groups.communal.CommunalDistributor at 0x7ff4a5b60eb0>,\n",
       " 'female_communals': <camps.groups.female_communal.FemaleCommunalDistributor at 0x7ff4a5b606d0>}"
      ]
     },
     "execution_count": 48,
     "metadata": {},
     "output_type": "execute_result"
    }
   ],
   "source": [
    "leisure_instance.leisure_distributors"
   ]
  },
  {
   "cell_type": "code",
   "execution_count": 51,
   "metadata": {},
   "outputs": [],
   "source": [
    "simulator.timer.reset()"
   ]
  },
  {
   "cell_type": "code",
   "execution_count": 52,
   "metadata": {
    "scrolled": true
   },
   "outputs": [
    {
     "name": "stdout",
     "output_type": "stream",
     "text": [
      "2020-07-23 18:12:49,133 - june.simulator - INFO - Starting group_dynamics for 120 days at day 0\n",
      "2020-07-23 18:12:49,134 - june.simulator - INFO - starting the loop ..., at 0 days, to run for 120 days\n",
      "2020-07-23 18:12:49,879 - june.simulator - INFO - Date = 2020-05-24 03:00:00, number of deaths =  0, number of infected = 5\n",
      "2020-07-23 18:12:50,195 - june.simulator - INFO - Date = 2020-05-24 05:00:00, number of deaths =  0, number of infected = 5\n",
      "2020-07-23 18:12:50,393 - june.simulator - INFO - Date = 2020-05-24 07:00:00, number of deaths =  0, number of infected = 5\n",
      "2020-07-23 18:12:50,595 - june.simulator - INFO - Date = 2020-05-24 09:00:00, number of deaths =  0, number of infected = 5\n",
      "2020-07-23 18:12:50,711 - june.simulator - INFO - Date = 2020-05-24 11:00:00, number of deaths =  0, number of infected = 5\n",
      "2020-07-23 18:12:50,896 - june.simulator - INFO - Date = 2020-05-25 00:00:00, number of deaths =  0, number of infected = 5\n",
      "2020-07-23 18:12:51,078 - june.simulator - INFO - Date = 2020-05-25 02:00:00, number of deaths =  0, number of infected = 5\n",
      "2020-07-23 18:12:51,244 - june.simulator - INFO - Date = 2020-05-25 04:00:00, number of deaths =  0, number of infected = 5\n",
      "2020-07-23 18:12:51,431 - june.simulator - INFO - Date = 2020-05-25 06:00:00, number of deaths =  0, number of infected = 5\n",
      "2020-07-23 18:12:51,618 - june.simulator - INFO - Date = 2020-05-25 08:00:00, number of deaths =  0, number of infected = 5\n",
      "2020-07-23 18:12:51,744 - june.simulator - INFO - Date = 2020-05-25 10:00:00, number of deaths =  0, number of infected = 5\n",
      "2020-07-23 18:12:51,868 - june.simulator - INFO - Date = 2020-05-26 00:00:00, number of deaths =  0, number of infected = 5\n",
      "2020-07-23 18:12:52,039 - june.simulator - INFO - Date = 2020-05-26 02:00:00, number of deaths =  0, number of infected = 7\n",
      "2020-07-23 18:12:52,226 - june.simulator - INFO - Date = 2020-05-26 04:00:00, number of deaths =  0, number of infected = 7\n",
      "2020-07-23 18:12:52,429 - june.simulator - INFO - Date = 2020-05-26 06:00:00, number of deaths =  0, number of infected = 10\n",
      "2020-07-23 18:12:52,603 - june.simulator - INFO - Date = 2020-05-26 08:00:00, number of deaths =  0, number of infected = 10\n",
      "2020-07-23 18:12:52,734 - june.simulator - INFO - Date = 2020-05-26 10:00:00, number of deaths =  0, number of infected = 10\n",
      "2020-07-23 18:12:52,867 - june.simulator - INFO - Date = 2020-05-27 00:00:00, number of deaths =  0, number of infected = 11\n",
      "2020-07-23 18:12:53,039 - june.simulator - INFO - Date = 2020-05-27 02:00:00, number of deaths =  0, number of infected = 14\n",
      "2020-07-23 18:12:53,224 - june.simulator - INFO - Date = 2020-05-27 04:00:00, number of deaths =  0, number of infected = 15\n",
      "2020-07-23 18:12:53,409 - june.simulator - INFO - Date = 2020-05-27 06:00:00, number of deaths =  0, number of infected = 17\n",
      "2020-07-23 18:12:53,588 - june.simulator - INFO - Date = 2020-05-27 08:00:00, number of deaths =  0, number of infected = 18\n",
      "2020-07-23 18:12:53,725 - june.simulator - INFO - Date = 2020-05-27 10:00:00, number of deaths =  0, number of infected = 20\n",
      "2020-07-23 18:12:53,856 - june.simulator - INFO - Date = 2020-05-28 00:00:00, number of deaths =  0, number of infected = 27\n",
      "2020-07-23 18:12:54,029 - june.simulator - INFO - Date = 2020-05-28 02:00:00, number of deaths =  0, number of infected = 28\n",
      "2020-07-23 18:12:54,231 - june.simulator - INFO - Date = 2020-05-28 04:00:00, number of deaths =  0, number of infected = 41\n",
      "2020-07-23 18:12:54,433 - june.simulator - INFO - Date = 2020-05-28 06:00:00, number of deaths =  0, number of infected = 46\n",
      "2020-07-23 18:12:54,640 - june.simulator - INFO - Date = 2020-05-28 08:00:00, number of deaths =  0, number of infected = 57\n",
      "2020-07-23 18:12:54,783 - june.simulator - INFO - Date = 2020-05-28 10:00:00, number of deaths =  0, number of infected = 62\n",
      "2020-07-23 18:12:54,943 - june.simulator - INFO - Date = 2020-05-29 00:00:00, number of deaths =  0, number of infected = 78\n",
      "2020-07-23 18:12:55,136 - june.simulator - INFO - Date = 2020-05-29 02:00:00, number of deaths =  0, number of infected = 87\n",
      "2020-07-23 18:12:55,315 - june.simulator - INFO - Date = 2020-05-29 04:00:00, number of deaths =  0, number of infected = 89\n",
      "2020-07-23 18:12:55,566 - june.simulator - INFO - Date = 2020-05-29 06:00:00, number of deaths =  0, number of infected = 109\n",
      "2020-07-23 18:12:55,811 - june.simulator - INFO - Date = 2020-05-29 08:00:00, number of deaths =  0, number of infected = 135\n",
      "2020-07-23 18:12:55,976 - june.simulator - INFO - Date = 2020-05-29 10:00:00, number of deaths =  0, number of infected = 155\n",
      "2020-07-23 18:12:56,167 - june.simulator - INFO - Date = 2020-05-30 00:00:00, number of deaths =  0, number of infected = 187\n",
      "2020-07-23 18:12:56,410 - june.simulator - INFO - Date = 2020-05-30 03:00:00, number of deaths =  0, number of infected = 208\n",
      "2020-07-23 18:12:56,693 - june.simulator - INFO - Date = 2020-05-30 05:00:00, number of deaths =  0, number of infected = 233\n",
      "2020-07-23 18:12:57,048 - june.simulator - INFO - Date = 2020-05-30 07:00:00, number of deaths =  0, number of infected = 306\n",
      "2020-07-23 18:12:57,371 - june.simulator - INFO - Date = 2020-05-30 09:00:00, number of deaths =  0, number of infected = 366\n",
      "2020-07-23 18:12:57,672 - june.simulator - INFO - Date = 2020-05-30 11:00:00, number of deaths =  0, number of infected = 430\n",
      "2020-07-23 18:12:58,029 - june.simulator - INFO - Date = 2020-05-31 00:00:00, number of deaths =  0, number of infected = 526\n",
      "2020-07-23 18:12:58,274 - june.simulator - INFO - Date = 2020-05-31 03:00:00, number of deaths =  0, number of infected = 557\n",
      "2020-07-23 18:12:58,651 - june.simulator - INFO - Date = 2020-05-31 05:00:00, number of deaths =  0, number of infected = 639\n",
      "2020-07-23 18:12:59,024 - june.simulator - INFO - Date = 2020-05-31 07:00:00, number of deaths =  0, number of infected = 727\n",
      "2020-07-23 18:12:59,448 - june.simulator - INFO - Date = 2020-05-31 09:00:00, number of deaths =  0, number of infected = 830\n",
      "2020-07-23 18:12:59,926 - june.simulator - INFO - Date = 2020-05-31 11:00:00, number of deaths =  0, number of infected = 978\n",
      "2020-07-23 18:13:00,909 - june.simulator - INFO - Date = 2020-06-01 00:00:00, number of deaths =  0, number of infected = 1254\n",
      "2020-07-23 18:13:01,277 - june.simulator - INFO - Date = 2020-06-01 02:00:00, number of deaths =  0, number of infected = 1335\n",
      "2020-07-23 18:13:01,828 - june.simulator - INFO - Date = 2020-06-01 04:00:00, number of deaths =  0, number of infected = 1489\n",
      "2020-07-23 18:13:02,368 - june.simulator - INFO - Date = 2020-06-01 06:00:00, number of deaths =  0, number of infected = 1641\n",
      "2020-07-23 18:13:03,124 - june.simulator - INFO - Date = 2020-06-01 08:00:00, number of deaths =  0, number of infected = 1867\n",
      "2020-07-23 18:13:03,792 - june.simulator - INFO - Date = 2020-06-01 10:00:00, number of deaths =  0, number of infected = 2086\n",
      "2020-07-23 18:13:04,900 - june.simulator - INFO - Date = 2020-06-02 00:00:00, number of deaths =  0, number of infected = 2519\n",
      "2020-07-23 18:13:05,446 - june.simulator - INFO - Date = 2020-06-02 02:00:00, number of deaths =  0, number of infected = 2666\n",
      "2020-07-23 18:13:06,351 - june.simulator - INFO - Date = 2020-06-02 04:00:00, number of deaths =  0, number of infected = 2959\n",
      "2020-07-23 18:13:07,546 - june.simulator - INFO - Date = 2020-06-02 06:00:00, number of deaths =  0, number of infected = 3308\n",
      "2020-07-23 18:13:08,562 - june.simulator - INFO - Date = 2020-06-02 08:00:00, number of deaths =  0, number of infected = 3662\n",
      "2020-07-23 18:13:09,528 - june.simulator - INFO - Date = 2020-06-02 10:00:00, number of deaths =  0, number of infected = 4021\n",
      "2020-07-23 18:13:11,416 - june.simulator - INFO - Date = 2020-06-03 00:00:00, number of deaths =  1, number of infected = 4778\n",
      "2020-07-23 18:13:12,156 - june.simulator - INFO - Date = 2020-06-03 02:00:00, number of deaths =  1, number of infected = 4984\n",
      "2020-07-23 18:13:14,021 - june.simulator - INFO - Date = 2020-06-03 04:00:00, number of deaths =  1, number of infected = 5527\n",
      "2020-07-23 18:13:15,478 - june.simulator - INFO - Date = 2020-06-03 06:00:00, number of deaths =  1, number of infected = 6028\n",
      "2020-07-23 18:13:16,809 - june.simulator - INFO - Date = 2020-06-03 08:00:00, number of deaths =  1, number of infected = 6513\n",
      "2020-07-23 18:13:18,386 - june.simulator - INFO - Date = 2020-06-03 10:00:00, number of deaths =  1, number of infected = 7112\n",
      "2020-07-23 18:13:21,455 - june.simulator - INFO - Date = 2020-06-04 00:00:00, number of deaths =  1, number of infected = 8228\n",
      "2020-07-23 18:13:22,405 - june.simulator - INFO - Date = 2020-06-04 02:00:00, number of deaths =  1, number of infected = 8525\n",
      "2020-07-23 18:13:24,074 - june.simulator - INFO - Date = 2020-06-04 04:00:00, number of deaths =  1, number of infected = 9143\n",
      "2020-07-23 18:13:25,939 - june.simulator - INFO - Date = 2020-06-04 06:00:00, number of deaths =  1, number of infected = 9814\n",
      "2020-07-23 18:13:28,063 - june.simulator - INFO - Date = 2020-06-04 08:00:00, number of deaths =  1, number of infected = 10465\n",
      "2020-07-23 18:13:29,958 - june.simulator - INFO - Date = 2020-06-04 10:00:00, number of deaths =  1, number of infected = 11138\n",
      "2020-07-23 18:13:33,103 - june.simulator - INFO - Date = 2020-06-05 00:00:00, number of deaths =  1, number of infected = 12422\n",
      "2020-07-23 18:13:34,118 - june.simulator - INFO - Date = 2020-06-05 02:00:00, number of deaths =  1, number of infected = 12731\n",
      "2020-07-23 18:13:36,242 - june.simulator - INFO - Date = 2020-06-05 04:00:00, number of deaths =  1, number of infected = 13402\n",
      "2020-07-23 18:13:38,042 - june.simulator - INFO - Date = 2020-06-05 06:00:00, number of deaths =  1, number of infected = 14041\n",
      "2020-07-23 18:13:39,697 - june.simulator - INFO - Date = 2020-06-05 08:00:00, number of deaths =  1, number of infected = 14574\n",
      "2020-07-23 18:13:41,590 - june.simulator - INFO - Date = 2020-06-05 10:00:00, number of deaths =  1, number of infected = 15188\n",
      "2020-07-23 18:13:45,189 - june.simulator - INFO - Date = 2020-06-06 00:00:00, number of deaths =  1, number of infected = 16444\n",
      "2020-07-23 18:13:46,511 - june.simulator - INFO - Date = 2020-06-06 03:00:00, number of deaths =  1, number of infected = 16859\n",
      "2020-07-23 18:13:48,302 - june.simulator - INFO - Date = 2020-06-06 05:00:00, number of deaths =  1, number of infected = 17447\n",
      "2020-07-23 18:13:49,961 - june.simulator - INFO - Date = 2020-06-06 07:00:00, number of deaths =  1, number of infected = 17965\n",
      "2020-07-23 18:13:51,684 - june.simulator - INFO - Date = 2020-06-06 09:00:00, number of deaths =  1, number of infected = 18432\n",
      "2020-07-23 18:13:53,001 - june.simulator - INFO - Date = 2020-06-06 11:00:00, number of deaths =  1, number of infected = 18834\n",
      "2020-07-23 18:13:55,112 - june.simulator - INFO - Date = 2020-06-07 00:00:00, number of deaths =  1, number of infected = 19582\n",
      "2020-07-23 18:13:56,123 - june.simulator - INFO - Date = 2020-06-07 03:00:00, number of deaths =  1, number of infected = 19828\n",
      "2020-07-23 18:13:57,247 - june.simulator - INFO - Date = 2020-06-07 05:00:00, number of deaths =  1, number of infected = 20134\n",
      "2020-07-23 18:13:58,428 - june.simulator - INFO - Date = 2020-06-07 07:00:00, number of deaths =  1, number of infected = 20323\n",
      "2020-07-23 18:13:59,473 - june.simulator - INFO - Date = 2020-06-07 09:00:00, number of deaths =  1, number of infected = 20573\n",
      "2020-07-23 18:14:00,342 - june.simulator - INFO - Date = 2020-06-07 11:00:00, number of deaths =  1, number of infected = 20778\n",
      "2020-07-23 18:14:01,746 - june.simulator - INFO - Date = 2020-06-08 00:00:00, number of deaths =  1, number of infected = 21198\n",
      "2020-07-23 18:14:02,409 - june.simulator - INFO - Date = 2020-06-08 02:00:00, number of deaths =  1, number of infected = 21305\n",
      "2020-07-23 18:14:03,255 - june.simulator - INFO - Date = 2020-06-08 04:00:00, number of deaths =  1, number of infected = 21479\n",
      "2020-07-23 18:14:04,045 - june.simulator - INFO - Date = 2020-06-08 06:00:00, number of deaths =  1, number of infected = 21623\n",
      "2020-07-23 18:14:04,764 - june.simulator - INFO - Date = 2020-06-08 08:00:00, number of deaths =  1, number of infected = 21741\n",
      "2020-07-23 18:14:05,445 - june.simulator - INFO - Date = 2020-06-08 10:00:00, number of deaths =  1, number of infected = 21863\n",
      "2020-07-23 18:14:06,326 - june.simulator - INFO - Date = 2020-06-09 00:00:00, number of deaths =  1, number of infected = 22084\n",
      "2020-07-23 18:14:06,898 - june.simulator - INFO - Date = 2020-06-09 02:00:00, number of deaths =  1, number of infected = 22147\n",
      "2020-07-23 18:14:07,487 - june.simulator - INFO - Date = 2020-06-09 04:00:00, number of deaths =  1, number of infected = 22215\n",
      "2020-07-23 18:14:08,122 - june.simulator - INFO - Date = 2020-06-09 06:00:00, number of deaths =  1, number of infected = 22284\n",
      "2020-07-23 18:14:08,761 - june.simulator - INFO - Date = 2020-06-09 08:00:00, number of deaths =  1, number of infected = 22353\n",
      "2020-07-23 18:14:09,256 - june.simulator - INFO - Date = 2020-06-09 10:00:00, number of deaths =  1, number of infected = 22392\n",
      "2020-07-23 18:14:10,190 - june.simulator - INFO - Date = 2020-06-10 00:00:00, number of deaths =  1, number of infected = 22494\n",
      "2020-07-23 18:14:10,659 - june.simulator - INFO - Date = 2020-06-10 02:00:00, number of deaths =  1, number of infected = 22515\n",
      "2020-07-23 18:14:11,190 - june.simulator - INFO - Date = 2020-06-10 04:00:00, number of deaths =  1, number of infected = 22551\n",
      "2020-07-23 18:14:11,704 - june.simulator - INFO - Date = 2020-06-10 06:00:00, number of deaths =  1, number of infected = 22581\n",
      "2020-07-23 18:14:12,207 - june.simulator - INFO - Date = 2020-06-10 08:00:00, number of deaths =  1, number of infected = 22606\n",
      "2020-07-23 18:14:12,673 - june.simulator - INFO - Date = 2020-06-10 10:00:00, number of deaths =  1, number of infected = 22636\n",
      "2020-07-23 18:14:13,185 - june.simulator - INFO - Date = 2020-06-11 00:00:00, number of deaths =  1, number of infected = 22685\n",
      "2020-07-23 18:14:13,637 - june.simulator - INFO - Date = 2020-06-11 02:00:00, number of deaths =  1, number of infected = 22691\n",
      "2020-07-23 18:14:14,137 - june.simulator - INFO - Date = 2020-06-11 04:00:00, number of deaths =  1, number of infected = 22717\n",
      "2020-07-23 18:14:14,602 - june.simulator - INFO - Date = 2020-06-11 06:00:00, number of deaths =  1, number of infected = 22732\n",
      "2020-07-23 18:14:15,076 - june.simulator - INFO - Date = 2020-06-11 08:00:00, number of deaths =  1, number of infected = 22739\n",
      "2020-07-23 18:14:15,515 - june.simulator - INFO - Date = 2020-06-11 10:00:00, number of deaths =  1, number of infected = 22756\n",
      "2020-07-23 18:14:16,000 - june.simulator - INFO - Date = 2020-06-12 00:00:00, number of deaths =  1, number of infected = 22779\n",
      "2020-07-23 18:14:16,483 - june.simulator - INFO - Date = 2020-06-12 02:00:00, number of deaths =  1, number of infected = 22789\n",
      "2020-07-23 18:14:17,009 - june.simulator - INFO - Date = 2020-06-12 04:00:00, number of deaths =  1, number of infected = 22802\n",
      "2020-07-23 18:14:17,501 - june.simulator - INFO - Date = 2020-06-12 06:00:00, number of deaths =  1, number of infected = 22815\n",
      "2020-07-23 18:14:17,990 - june.simulator - INFO - Date = 2020-06-12 08:00:00, number of deaths =  1, number of infected = 22832\n",
      "2020-07-23 18:14:18,438 - june.simulator - INFO - Date = 2020-06-12 10:00:00, number of deaths =  1, number of infected = 22840\n",
      "2020-07-23 18:14:18,930 - june.simulator - INFO - Date = 2020-06-13 00:00:00, number of deaths =  2, number of infected = 22854\n",
      "2020-07-23 18:14:19,440 - june.simulator - INFO - Date = 2020-06-13 03:00:00, number of deaths =  2, number of infected = 22861\n",
      "2020-07-23 18:14:19,935 - june.simulator - INFO - Date = 2020-06-13 05:00:00, number of deaths =  2, number of infected = 22866\n",
      "2020-07-23 18:14:20,413 - june.simulator - INFO - Date = 2020-06-13 07:00:00, number of deaths =  2, number of infected = 22867\n",
      "2020-07-23 18:14:20,897 - june.simulator - INFO - Date = 2020-06-13 09:00:00, number of deaths =  2, number of infected = 22870\n",
      "2020-07-23 18:14:21,347 - june.simulator - INFO - Date = 2020-06-13 11:00:00, number of deaths =  2, number of infected = 22871\n",
      "2020-07-23 18:14:21,798 - june.simulator - INFO - Date = 2020-06-14 00:00:00, number of deaths =  2, number of infected = 22869\n",
      "2020-07-23 18:14:22,279 - june.simulator - INFO - Date = 2020-06-14 03:00:00, number of deaths =  2, number of infected = 22871\n",
      "2020-07-23 18:14:22,764 - june.simulator - INFO - Date = 2020-06-14 05:00:00, number of deaths =  2, number of infected = 22876\n",
      "2020-07-23 18:14:23,265 - june.simulator - INFO - Date = 2020-06-14 07:00:00, number of deaths =  2, number of infected = 22882\n",
      "2020-07-23 18:14:23,755 - june.simulator - INFO - Date = 2020-06-14 09:00:00, number of deaths =  2, number of infected = 22882\n",
      "2020-07-23 18:14:24,233 - june.simulator - INFO - Date = 2020-06-14 11:00:00, number of deaths =  2, number of infected = 22885\n",
      "2020-07-23 18:14:24,711 - june.simulator - INFO - Date = 2020-06-15 00:00:00, number of deaths =  2, number of infected = 22879\n",
      "2020-07-23 18:14:25,230 - june.simulator - INFO - Date = 2020-06-15 02:00:00, number of deaths =  2, number of infected = 22874\n",
      "2020-07-23 18:14:25,714 - june.simulator - INFO - Date = 2020-06-15 04:00:00, number of deaths =  2, number of infected = 22872\n",
      "2020-07-23 18:14:26,191 - june.simulator - INFO - Date = 2020-06-15 06:00:00, number of deaths =  2, number of infected = 22867\n",
      "2020-07-23 18:14:26,662 - june.simulator - INFO - Date = 2020-06-15 08:00:00, number of deaths =  2, number of infected = 22863\n",
      "2020-07-23 18:14:27,123 - june.simulator - INFO - Date = 2020-06-15 10:00:00, number of deaths =  2, number of infected = 22861\n",
      "2020-07-23 18:14:27,598 - june.simulator - INFO - Date = 2020-06-16 00:00:00, number of deaths =  3, number of infected = 22839\n",
      "2020-07-23 18:14:28,086 - june.simulator - INFO - Date = 2020-06-16 02:00:00, number of deaths =  3, number of infected = 22832\n",
      "2020-07-23 18:14:28,574 - june.simulator - INFO - Date = 2020-06-16 04:00:00, number of deaths =  3, number of infected = 22827\n",
      "2020-07-23 18:14:29,059 - june.simulator - INFO - Date = 2020-06-16 06:00:00, number of deaths =  3, number of infected = 22823\n",
      "2020-07-23 18:14:29,549 - june.simulator - INFO - Date = 2020-06-16 08:00:00, number of deaths =  3, number of infected = 22816\n",
      "2020-07-23 18:14:30,038 - june.simulator - INFO - Date = 2020-06-16 10:00:00, number of deaths =  3, number of infected = 22813\n",
      "2020-07-23 18:14:30,651 - june.simulator - INFO - Date = 2020-06-17 00:00:00, number of deaths =  3, number of infected = 22762\n",
      "2020-07-23 18:14:31,280 - june.simulator - INFO - Date = 2020-06-17 02:00:00, number of deaths =  3, number of infected = 22744\n",
      "2020-07-23 18:14:31,802 - june.simulator - INFO - Date = 2020-06-17 04:00:00, number of deaths =  3, number of infected = 22727\n",
      "2020-07-23 18:14:32,323 - june.simulator - INFO - Date = 2020-06-17 06:00:00, number of deaths =  3, number of infected = 22720\n",
      "2020-07-23 18:14:32,880 - june.simulator - INFO - Date = 2020-06-17 08:00:00, number of deaths =  3, number of infected = 22701\n",
      "2020-07-23 18:14:33,485 - june.simulator - INFO - Date = 2020-06-17 10:00:00, number of deaths =  3, number of infected = 22688\n",
      "2020-07-23 18:14:34,071 - june.simulator - INFO - Date = 2020-06-18 00:00:00, number of deaths =  3, number of infected = 22542\n",
      "2020-07-23 18:14:34,640 - june.simulator - INFO - Date = 2020-06-18 02:00:00, number of deaths =  4, number of infected = 22520\n",
      "2020-07-23 18:14:35,111 - june.simulator - INFO - Date = 2020-06-18 04:00:00, number of deaths =  4, number of infected = 22502\n",
      "2020-07-23 18:14:35,604 - june.simulator - INFO - Date = 2020-06-18 06:00:00, number of deaths =  4, number of infected = 22483\n",
      "2020-07-23 18:14:36,093 - june.simulator - INFO - Date = 2020-06-18 08:00:00, number of deaths =  4, number of infected = 22461\n",
      "2020-07-23 18:14:36,564 - june.simulator - INFO - Date = 2020-06-18 10:00:00, number of deaths =  4, number of infected = 22437\n",
      "2020-07-23 18:14:37,031 - june.simulator - INFO - Date = 2020-06-19 00:00:00, number of deaths =  5, number of infected = 22238\n",
      "2020-07-23 18:14:37,513 - june.simulator - INFO - Date = 2020-06-19 02:00:00, number of deaths =  5, number of infected = 22207\n",
      "2020-07-23 18:14:37,985 - june.simulator - INFO - Date = 2020-06-19 04:00:00, number of deaths =  6, number of infected = 22175\n",
      "2020-07-23 18:14:38,430 - june.simulator - INFO - Date = 2020-06-19 06:00:00, number of deaths =  6, number of infected = 22136\n",
      "2020-07-23 18:14:38,899 - june.simulator - INFO - Date = 2020-06-19 08:00:00, number of deaths =  6, number of infected = 22099\n",
      "2020-07-23 18:14:39,343 - june.simulator - INFO - Date = 2020-06-19 10:00:00, number of deaths =  6, number of infected = 22042\n",
      "2020-07-23 18:14:39,776 - june.simulator - INFO - Date = 2020-06-20 00:00:00, number of deaths =  6, number of infected = 21704\n",
      "2020-07-23 18:14:40,209 - june.simulator - INFO - Date = 2020-06-20 03:00:00, number of deaths =  6, number of infected = 21619\n",
      "2020-07-23 18:14:40,659 - june.simulator - INFO - Date = 2020-06-20 05:00:00, number of deaths =  6, number of infected = 21574\n",
      "2020-07-23 18:14:41,086 - june.simulator - INFO - Date = 2020-06-20 07:00:00, number of deaths =  7, number of infected = 21523\n",
      "2020-07-23 18:14:41,542 - june.simulator - INFO - Date = 2020-06-20 09:00:00, number of deaths =  7, number of infected = 21477\n",
      "2020-07-23 18:14:41,971 - june.simulator - INFO - Date = 2020-06-20 11:00:00, number of deaths =  7, number of infected = 21419\n",
      "2020-07-23 18:14:42,414 - june.simulator - INFO - Date = 2020-06-21 00:00:00, number of deaths =  7, number of infected = 21043\n",
      "2020-07-23 18:14:42,852 - june.simulator - INFO - Date = 2020-06-21 03:00:00, number of deaths =  7, number of infected = 20917\n",
      "2020-07-23 18:14:43,275 - june.simulator - INFO - Date = 2020-06-21 05:00:00, number of deaths =  7, number of infected = 20840\n",
      "2020-07-23 18:14:43,700 - june.simulator - INFO - Date = 2020-06-21 07:00:00, number of deaths =  7, number of infected = 20760\n",
      "2020-07-23 18:14:44,128 - june.simulator - INFO - Date = 2020-06-21 09:00:00, number of deaths =  7, number of infected = 20698\n",
      "2020-07-23 18:14:44,573 - june.simulator - INFO - Date = 2020-06-21 11:00:00, number of deaths =  7, number of infected = 20614\n",
      "2020-07-23 18:14:45,002 - june.simulator - INFO - Date = 2020-06-22 00:00:00, number of deaths =  8, number of infected = 20081\n",
      "2020-07-23 18:14:45,429 - june.simulator - INFO - Date = 2020-06-22 02:00:00, number of deaths =  8, number of infected = 20007\n",
      "2020-07-23 18:14:45,829 - june.simulator - INFO - Date = 2020-06-22 04:00:00, number of deaths =  8, number of infected = 19923\n",
      "2020-07-23 18:14:46,234 - june.simulator - INFO - Date = 2020-06-22 06:00:00, number of deaths =  8, number of infected = 19847\n",
      "2020-07-23 18:14:46,666 - june.simulator - INFO - Date = 2020-06-22 08:00:00, number of deaths =  8, number of infected = 19743\n",
      "2020-07-23 18:14:47,044 - june.simulator - INFO - Date = 2020-06-22 10:00:00, number of deaths =  8, number of infected = 19658\n",
      "2020-07-23 18:14:47,451 - june.simulator - INFO - Date = 2020-06-23 00:00:00, number of deaths =  8, number of infected = 19017\n",
      "2020-07-23 18:14:47,861 - june.simulator - INFO - Date = 2020-06-23 02:00:00, number of deaths =  9, number of infected = 18918\n",
      "2020-07-23 18:14:48,283 - june.simulator - INFO - Date = 2020-06-23 04:00:00, number of deaths =  9, number of infected = 18814\n",
      "2020-07-23 18:14:48,689 - june.simulator - INFO - Date = 2020-06-23 06:00:00, number of deaths =  9, number of infected = 18708\n",
      "2020-07-23 18:14:49,073 - june.simulator - INFO - Date = 2020-06-23 08:00:00, number of deaths =  9, number of infected = 18623\n",
      "2020-07-23 18:14:49,442 - june.simulator - INFO - Date = 2020-06-23 10:00:00, number of deaths =  9, number of infected = 18525\n",
      "2020-07-23 18:14:49,821 - june.simulator - INFO - Date = 2020-06-24 00:00:00, number of deaths =  9, number of infected = 17770\n",
      "2020-07-23 18:14:50,204 - june.simulator - INFO - Date = 2020-06-24 02:00:00, number of deaths =  9, number of infected = 17662\n",
      "2020-07-23 18:14:50,588 - june.simulator - INFO - Date = 2020-06-24 04:00:00, number of deaths =  9, number of infected = 17562\n",
      "2020-07-23 18:14:50,975 - june.simulator - INFO - Date = 2020-06-24 06:00:00, number of deaths =  9, number of infected = 17442\n",
      "2020-07-23 18:14:51,328 - june.simulator - INFO - Date = 2020-06-24 08:00:00, number of deaths =  9, number of infected = 17326\n",
      "2020-07-23 18:14:51,676 - june.simulator - INFO - Date = 2020-06-24 10:00:00, number of deaths =  9, number of infected = 17203\n",
      "2020-07-23 18:14:52,027 - june.simulator - INFO - Date = 2020-06-25 00:00:00, number of deaths =  9, number of infected = 16422\n",
      "2020-07-23 18:14:52,379 - june.simulator - INFO - Date = 2020-06-25 02:00:00, number of deaths =  9, number of infected = 16299\n",
      "2020-07-23 18:14:52,738 - june.simulator - INFO - Date = 2020-06-25 04:00:00, number of deaths =  9, number of infected = 16163\n",
      "2020-07-23 18:14:53,101 - june.simulator - INFO - Date = 2020-06-25 06:00:00, number of deaths =  9, number of infected = 16042\n",
      "2020-07-23 18:14:53,447 - june.simulator - INFO - Date = 2020-06-25 08:00:00, number of deaths =  9, number of infected = 15905\n",
      "2020-07-23 18:14:53,780 - june.simulator - INFO - Date = 2020-06-25 10:00:00, number of deaths =  9, number of infected = 15764\n",
      "2020-07-23 18:14:54,119 - june.simulator - INFO - Date = 2020-06-26 00:00:00, number of deaths =  9, number of infected = 14744\n",
      "2020-07-23 18:14:54,456 - june.simulator - INFO - Date = 2020-06-26 02:00:00, number of deaths =  9, number of infected = 14603\n",
      "2020-07-23 18:14:54,809 - june.simulator - INFO - Date = 2020-06-26 04:00:00, number of deaths =  9, number of infected = 14464\n",
      "2020-07-23 18:14:55,123 - june.simulator - INFO - Date = 2020-06-26 06:00:00, number of deaths =  9, number of infected = 14307\n",
      "2020-07-23 18:14:55,437 - june.simulator - INFO - Date = 2020-06-26 08:00:00, number of deaths =  9, number of infected = 14143\n",
      "2020-07-23 18:14:55,745 - june.simulator - INFO - Date = 2020-06-26 10:00:00, number of deaths =  9, number of infected = 13980\n",
      "2020-07-23 18:14:56,034 - june.simulator - INFO - Date = 2020-06-27 00:00:00, number of deaths =  9, number of infected = 12764\n",
      "2020-07-23 18:14:56,324 - june.simulator - INFO - Date = 2020-06-27 03:00:00, number of deaths =  9, number of infected = 12491\n",
      "2020-07-23 18:14:56,629 - june.simulator - INFO - Date = 2020-06-27 05:00:00, number of deaths =  9, number of infected = 12322\n",
      "2020-07-23 18:14:56,910 - june.simulator - INFO - Date = 2020-06-27 07:00:00, number of deaths =  9, number of infected = 12141\n",
      "2020-07-23 18:14:57,200 - june.simulator - INFO - Date = 2020-06-27 09:00:00, number of deaths =  9, number of infected = 11961\n",
      "2020-07-23 18:14:57,460 - june.simulator - INFO - Date = 2020-06-27 11:00:00, number of deaths =  9, number of infected = 11777\n",
      "2020-07-23 18:14:57,751 - june.simulator - INFO - Date = 2020-06-28 00:00:00, number of deaths =  9, number of infected = 10644\n",
      "2020-07-23 18:14:58,006 - june.simulator - INFO - Date = 2020-06-28 03:00:00, number of deaths =  9, number of infected = 10381\n",
      "2020-07-23 18:14:58,278 - june.simulator - INFO - Date = 2020-06-28 05:00:00, number of deaths =  9, number of infected = 10224\n",
      "2020-07-23 18:14:58,536 - june.simulator - INFO - Date = 2020-06-28 07:00:00, number of deaths =  9, number of infected = 10028\n",
      "2020-07-23 18:14:58,814 - june.simulator - INFO - Date = 2020-06-28 09:00:00, number of deaths =  10, number of infected = 9831\n",
      "2020-07-23 18:14:59,042 - june.simulator - INFO - Date = 2020-06-28 11:00:00, number of deaths =  10, number of infected = 9621\n",
      "2020-07-23 18:14:59,282 - june.simulator - INFO - Date = 2020-06-29 00:00:00, number of deaths =  10, number of infected = 8515\n",
      "2020-07-23 18:14:59,516 - june.simulator - INFO - Date = 2020-06-29 02:00:00, number of deaths =  10, number of infected = 8345\n",
      "2020-07-23 18:14:59,753 - june.simulator - INFO - Date = 2020-06-29 04:00:00, number of deaths =  10, number of infected = 8182\n",
      "2020-07-23 18:14:59,993 - june.simulator - INFO - Date = 2020-06-29 06:00:00, number of deaths =  10, number of infected = 8018\n",
      "2020-07-23 18:15:00,207 - june.simulator - INFO - Date = 2020-06-29 08:00:00, number of deaths =  10, number of infected = 7857\n",
      "2020-07-23 18:15:00,416 - june.simulator - INFO - Date = 2020-06-29 10:00:00, number of deaths =  10, number of infected = 7696\n",
      "2020-07-23 18:15:00,610 - june.simulator - INFO - Date = 2020-06-30 00:00:00, number of deaths =  10, number of infected = 6618\n",
      "2020-07-23 18:15:00,822 - june.simulator - INFO - Date = 2020-06-30 02:00:00, number of deaths =  10, number of infected = 6475\n",
      "2020-07-23 18:15:01,010 - june.simulator - INFO - Date = 2020-06-30 04:00:00, number of deaths =  10, number of infected = 6326\n",
      "2020-07-23 18:15:01,208 - june.simulator - INFO - Date = 2020-06-30 06:00:00, number of deaths =  10, number of infected = 6196\n",
      "2020-07-23 18:15:01,397 - june.simulator - INFO - Date = 2020-06-30 08:00:00, number of deaths =  10, number of infected = 6067\n",
      "2020-07-23 18:15:01,591 - june.simulator - INFO - Date = 2020-06-30 10:00:00, number of deaths =  10, number of infected = 5934\n",
      "2020-07-23 18:15:01,786 - june.simulator - INFO - Date = 2020-07-01 00:00:00, number of deaths =  10, number of infected = 5022\n",
      "2020-07-23 18:15:01,970 - june.simulator - INFO - Date = 2020-07-01 02:00:00, number of deaths =  10, number of infected = 4891\n",
      "2020-07-23 18:15:02,158 - june.simulator - INFO - Date = 2020-07-01 04:00:00, number of deaths =  10, number of infected = 4770\n",
      "2020-07-23 18:15:02,355 - june.simulator - INFO - Date = 2020-07-01 06:00:00, number of deaths =  10, number of infected = 4651\n",
      "2020-07-23 18:15:02,539 - june.simulator - INFO - Date = 2020-07-01 08:00:00, number of deaths =  10, number of infected = 4527\n",
      "2020-07-23 18:15:02,702 - june.simulator - INFO - Date = 2020-07-01 10:00:00, number of deaths =  10, number of infected = 4406\n",
      "2020-07-23 18:15:02,867 - june.simulator - INFO - Date = 2020-07-02 00:00:00, number of deaths =  10, number of infected = 3680\n",
      "2020-07-23 18:15:03,032 - june.simulator - INFO - Date = 2020-07-02 02:00:00, number of deaths =  10, number of infected = 3601\n",
      "2020-07-23 18:15:03,184 - june.simulator - INFO - Date = 2020-07-02 04:00:00, number of deaths =  10, number of infected = 3509\n",
      "2020-07-23 18:15:03,342 - june.simulator - INFO - Date = 2020-07-02 06:00:00, number of deaths =  10, number of infected = 3423\n",
      "2020-07-23 18:15:03,486 - june.simulator - INFO - Date = 2020-07-02 08:00:00, number of deaths =  10, number of infected = 3337\n",
      "2020-07-23 18:15:03,625 - june.simulator - INFO - Date = 2020-07-02 10:00:00, number of deaths =  10, number of infected = 3248\n",
      "2020-07-23 18:15:03,753 - june.simulator - INFO - Date = 2020-07-03 00:00:00, number of deaths =  10, number of infected = 2658\n",
      "2020-07-23 18:15:03,890 - june.simulator - INFO - Date = 2020-07-03 02:00:00, number of deaths =  10, number of infected = 2592\n",
      "2020-07-23 18:15:04,032 - june.simulator - INFO - Date = 2020-07-03 04:00:00, number of deaths =  10, number of infected = 2524\n",
      "2020-07-23 18:15:04,168 - june.simulator - INFO - Date = 2020-07-03 06:00:00, number of deaths =  10, number of infected = 2464\n",
      "2020-07-23 18:15:04,303 - june.simulator - INFO - Date = 2020-07-03 08:00:00, number of deaths =  10, number of infected = 2397\n",
      "2020-07-23 18:15:04,434 - june.simulator - INFO - Date = 2020-07-03 10:00:00, number of deaths =  11, number of infected = 2310\n",
      "2020-07-23 18:15:04,554 - june.simulator - INFO - Date = 2020-07-04 00:00:00, number of deaths =  11, number of infected = 1898\n",
      "2020-07-23 18:15:04,692 - june.simulator - INFO - Date = 2020-07-04 03:00:00, number of deaths =  11, number of infected = 1818\n",
      "2020-07-23 18:15:04,829 - june.simulator - INFO - Date = 2020-07-04 05:00:00, number of deaths =  11, number of infected = 1750\n",
      "2020-07-23 18:15:04,960 - june.simulator - INFO - Date = 2020-07-04 07:00:00, number of deaths =  11, number of infected = 1707\n",
      "2020-07-23 18:15:05,094 - june.simulator - INFO - Date = 2020-07-04 09:00:00, number of deaths =  11, number of infected = 1649\n",
      "2020-07-23 18:15:05,202 - june.simulator - INFO - Date = 2020-07-04 11:00:00, number of deaths =  11, number of infected = 1589\n",
      "2020-07-23 18:15:05,322 - june.simulator - INFO - Date = 2020-07-05 00:00:00, number of deaths =  11, number of infected = 1329\n",
      "2020-07-23 18:15:05,462 - june.simulator - INFO - Date = 2020-07-05 03:00:00, number of deaths =  11, number of infected = 1266\n",
      "2020-07-23 18:15:05,583 - june.simulator - INFO - Date = 2020-07-05 05:00:00, number of deaths =  11, number of infected = 1233\n",
      "2020-07-23 18:15:05,717 - june.simulator - INFO - Date = 2020-07-05 07:00:00, number of deaths =  11, number of infected = 1199\n",
      "2020-07-23 18:15:05,844 - june.simulator - INFO - Date = 2020-07-05 09:00:00, number of deaths =  11, number of infected = 1156\n",
      "2020-07-23 18:15:05,939 - june.simulator - INFO - Date = 2020-07-05 11:00:00, number of deaths =  11, number of infected = 1130\n",
      "2020-07-23 18:15:06,030 - june.simulator - INFO - Date = 2020-07-06 00:00:00, number of deaths =  11, number of infected = 898\n",
      "2020-07-23 18:15:06,134 - june.simulator - INFO - Date = 2020-07-06 02:00:00, number of deaths =  11, number of infected = 873\n",
      "2020-07-23 18:15:06,242 - june.simulator - INFO - Date = 2020-07-06 04:00:00, number of deaths =  11, number of infected = 842\n",
      "2020-07-23 18:15:06,373 - june.simulator - INFO - Date = 2020-07-06 06:00:00, number of deaths =  11, number of infected = 816\n",
      "2020-07-23 18:15:06,559 - june.simulator - INFO - Date = 2020-07-06 08:00:00, number of deaths =  11, number of infected = 793\n",
      "2020-07-23 18:15:06,664 - june.simulator - INFO - Date = 2020-07-06 10:00:00, number of deaths =  11, number of infected = 773\n",
      "2020-07-23 18:15:06,750 - june.simulator - INFO - Date = 2020-07-07 00:00:00, number of deaths =  11, number of infected = 649\n",
      "2020-07-23 18:15:06,871 - june.simulator - INFO - Date = 2020-07-07 02:00:00, number of deaths =  11, number of infected = 630\n",
      "2020-07-23 18:15:06,995 - june.simulator - INFO - Date = 2020-07-07 04:00:00, number of deaths =  11, number of infected = 608\n",
      "2020-07-23 18:15:07,099 - june.simulator - INFO - Date = 2020-07-07 06:00:00, number of deaths =  11, number of infected = 586\n",
      "2020-07-23 18:15:07,209 - june.simulator - INFO - Date = 2020-07-07 08:00:00, number of deaths =  11, number of infected = 571\n",
      "2020-07-23 18:15:07,294 - june.simulator - INFO - Date = 2020-07-07 10:00:00, number of deaths =  11, number of infected = 555\n",
      "2020-07-23 18:15:07,392 - june.simulator - INFO - Date = 2020-07-08 00:00:00, number of deaths =  11, number of infected = 462\n",
      "2020-07-23 18:15:07,489 - june.simulator - INFO - Date = 2020-07-08 02:00:00, number of deaths =  12, number of infected = 451\n",
      "2020-07-23 18:15:07,593 - june.simulator - INFO - Date = 2020-07-08 04:00:00, number of deaths =  12, number of infected = 440\n",
      "2020-07-23 18:15:07,700 - june.simulator - INFO - Date = 2020-07-08 06:00:00, number of deaths =  12, number of infected = 427\n",
      "2020-07-23 18:15:07,800 - june.simulator - INFO - Date = 2020-07-08 08:00:00, number of deaths =  12, number of infected = 421\n",
      "2020-07-23 18:15:07,915 - june.simulator - INFO - Date = 2020-07-08 10:00:00, number of deaths =  12, number of infected = 414\n",
      "2020-07-23 18:15:07,997 - june.simulator - INFO - Date = 2020-07-09 00:00:00, number of deaths =  12, number of infected = 354\n",
      "2020-07-23 18:15:08,094 - june.simulator - INFO - Date = 2020-07-09 02:00:00, number of deaths =  12, number of infected = 344\n",
      "2020-07-23 18:15:08,197 - june.simulator - INFO - Date = 2020-07-09 04:00:00, number of deaths =  12, number of infected = 340\n",
      "2020-07-23 18:15:08,310 - june.simulator - INFO - Date = 2020-07-09 06:00:00, number of deaths =  12, number of infected = 330\n",
      "2020-07-23 18:15:08,423 - june.simulator - INFO - Date = 2020-07-09 08:00:00, number of deaths =  12, number of infected = 319\n",
      "2020-07-23 18:15:08,522 - june.simulator - INFO - Date = 2020-07-09 10:00:00, number of deaths =  12, number of infected = 310\n",
      "2020-07-23 18:15:08,618 - june.simulator - INFO - Date = 2020-07-10 00:00:00, number of deaths =  12, number of infected = 259\n",
      "2020-07-23 18:15:08,712 - june.simulator - INFO - Date = 2020-07-10 02:00:00, number of deaths =  12, number of infected = 254\n",
      "2020-07-23 18:15:08,814 - june.simulator - INFO - Date = 2020-07-10 04:00:00, number of deaths =  12, number of infected = 247\n",
      "2020-07-23 18:15:08,919 - june.simulator - INFO - Date = 2020-07-10 06:00:00, number of deaths =  12, number of infected = 243\n",
      "2020-07-23 18:15:09,024 - june.simulator - INFO - Date = 2020-07-10 08:00:00, number of deaths =  12, number of infected = 237\n",
      "2020-07-23 18:15:09,149 - june.simulator - INFO - Date = 2020-07-10 10:00:00, number of deaths =  12, number of infected = 232\n",
      "2020-07-23 18:15:09,230 - june.simulator - INFO - Date = 2020-07-11 00:00:00, number of deaths =  12, number of infected = 198\n",
      "2020-07-23 18:15:09,336 - june.simulator - INFO - Date = 2020-07-11 03:00:00, number of deaths =  12, number of infected = 197\n",
      "2020-07-23 18:15:09,467 - june.simulator - INFO - Date = 2020-07-11 05:00:00, number of deaths =  12, number of infected = 195\n",
      "2020-07-23 18:15:09,575 - june.simulator - INFO - Date = 2020-07-11 07:00:00, number of deaths =  12, number of infected = 191\n",
      "2020-07-23 18:15:09,691 - june.simulator - INFO - Date = 2020-07-11 09:00:00, number of deaths =  12, number of infected = 189\n",
      "2020-07-23 18:15:09,792 - june.simulator - INFO - Date = 2020-07-11 11:00:00, number of deaths =  12, number of infected = 185\n",
      "2020-07-23 18:15:09,894 - june.simulator - INFO - Date = 2020-07-12 00:00:00, number of deaths =  13, number of infected = 166\n",
      "2020-07-23 18:15:10,000 - june.simulator - INFO - Date = 2020-07-12 03:00:00, number of deaths =  13, number of infected = 163\n",
      "2020-07-23 18:15:10,104 - june.simulator - INFO - Date = 2020-07-12 05:00:00, number of deaths =  13, number of infected = 159\n",
      "2020-07-23 18:15:10,213 - june.simulator - INFO - Date = 2020-07-12 07:00:00, number of deaths =  13, number of infected = 156\n",
      "2020-07-23 18:15:10,318 - june.simulator - INFO - Date = 2020-07-12 09:00:00, number of deaths =  13, number of infected = 153\n",
      "2020-07-23 18:15:10,423 - june.simulator - INFO - Date = 2020-07-12 11:00:00, number of deaths =  13, number of infected = 152\n",
      "2020-07-23 18:15:10,516 - june.simulator - INFO - Date = 2020-07-13 00:00:00, number of deaths =  13, number of infected = 140\n",
      "2020-07-23 18:15:10,625 - june.simulator - INFO - Date = 2020-07-13 02:00:00, number of deaths =  13, number of infected = 139\n",
      "2020-07-23 18:15:10,722 - june.simulator - INFO - Date = 2020-07-13 04:00:00, number of deaths =  13, number of infected = 138\n",
      "2020-07-23 18:15:10,820 - june.simulator - INFO - Date = 2020-07-13 06:00:00, number of deaths =  13, number of infected = 136\n",
      "2020-07-23 18:15:10,922 - june.simulator - INFO - Date = 2020-07-13 08:00:00, number of deaths =  13, number of infected = 135\n",
      "2020-07-23 18:15:11,008 - june.simulator - INFO - Date = 2020-07-13 10:00:00, number of deaths =  13, number of infected = 133\n",
      "2020-07-23 18:15:11,105 - june.simulator - INFO - Date = 2020-07-14 00:00:00, number of deaths =  13, number of infected = 124\n",
      "2020-07-23 18:15:11,221 - june.simulator - INFO - Date = 2020-07-14 02:00:00, number of deaths =  13, number of infected = 123\n",
      "2020-07-23 18:15:11,319 - june.simulator - INFO - Date = 2020-07-14 04:00:00, number of deaths =  13, number of infected = 119\n",
      "2020-07-23 18:15:11,429 - june.simulator - INFO - Date = 2020-07-14 06:00:00, number of deaths =  13, number of infected = 118\n",
      "2020-07-23 18:15:11,528 - june.simulator - INFO - Date = 2020-07-14 08:00:00, number of deaths =  13, number of infected = 116\n",
      "2020-07-23 18:15:11,625 - june.simulator - INFO - Date = 2020-07-14 10:00:00, number of deaths =  13, number of infected = 114\n",
      "2020-07-23 18:15:11,700 - june.simulator - INFO - Date = 2020-07-15 00:00:00, number of deaths =  13, number of infected = 104\n",
      "2020-07-23 18:15:11,796 - june.simulator - INFO - Date = 2020-07-15 02:00:00, number of deaths =  13, number of infected = 100\n",
      "2020-07-23 18:15:11,908 - june.simulator - INFO - Date = 2020-07-15 04:00:00, number of deaths =  13, number of infected = 100\n",
      "2020-07-23 18:15:12,013 - june.simulator - INFO - Date = 2020-07-15 06:00:00, number of deaths =  13, number of infected = 99\n",
      "2020-07-23 18:15:12,137 - june.simulator - INFO - Date = 2020-07-15 08:00:00, number of deaths =  13, number of infected = 98\n",
      "2020-07-23 18:15:12,226 - june.simulator - INFO - Date = 2020-07-15 10:00:00, number of deaths =  13, number of infected = 98\n",
      "2020-07-23 18:15:12,319 - june.simulator - INFO - Date = 2020-07-16 00:00:00, number of deaths =  13, number of infected = 90\n",
      "2020-07-23 18:15:12,412 - june.simulator - INFO - Date = 2020-07-16 02:00:00, number of deaths =  13, number of infected = 88\n",
      "2020-07-23 18:15:12,509 - june.simulator - INFO - Date = 2020-07-16 04:00:00, number of deaths =  13, number of infected = 88\n",
      "2020-07-23 18:15:12,632 - june.simulator - INFO - Date = 2020-07-16 06:00:00, number of deaths =  13, number of infected = 88\n",
      "2020-07-23 18:15:12,726 - june.simulator - INFO - Date = 2020-07-16 08:00:00, number of deaths =  13, number of infected = 87\n",
      "2020-07-23 18:15:12,807 - june.simulator - INFO - Date = 2020-07-16 10:00:00, number of deaths =  13, number of infected = 87\n",
      "2020-07-23 18:15:12,885 - june.simulator - INFO - Date = 2020-07-17 00:00:00, number of deaths =  13, number of infected = 83\n",
      "2020-07-23 18:15:12,987 - june.simulator - INFO - Date = 2020-07-17 02:00:00, number of deaths =  13, number of infected = 82\n",
      "2020-07-23 18:15:13,133 - june.simulator - INFO - Date = 2020-07-17 04:00:00, number of deaths =  13, number of infected = 82\n",
      "2020-07-23 18:15:13,228 - june.simulator - INFO - Date = 2020-07-17 06:00:00, number of deaths =  13, number of infected = 81\n",
      "2020-07-23 18:15:13,323 - june.simulator - INFO - Date = 2020-07-17 08:00:00, number of deaths =  13, number of infected = 81\n",
      "2020-07-23 18:15:13,437 - june.simulator - INFO - Date = 2020-07-17 10:00:00, number of deaths =  13, number of infected = 80\n",
      "2020-07-23 18:15:13,531 - june.simulator - INFO - Date = 2020-07-18 00:00:00, number of deaths =  13, number of infected = 73\n",
      "2020-07-23 18:15:13,636 - june.simulator - INFO - Date = 2020-07-18 03:00:00, number of deaths =  13, number of infected = 73\n",
      "2020-07-23 18:15:13,756 - june.simulator - INFO - Date = 2020-07-18 05:00:00, number of deaths =  13, number of infected = 70\n",
      "2020-07-23 18:15:13,858 - june.simulator - INFO - Date = 2020-07-18 07:00:00, number of deaths =  13, number of infected = 70\n",
      "2020-07-23 18:15:13,964 - june.simulator - INFO - Date = 2020-07-18 09:00:00, number of deaths =  13, number of infected = 70\n",
      "2020-07-23 18:15:14,077 - june.simulator - INFO - Date = 2020-07-18 11:00:00, number of deaths =  13, number of infected = 70\n",
      "2020-07-23 18:15:14,176 - june.simulator - INFO - Date = 2020-07-19 00:00:00, number of deaths =  13, number of infected = 66\n",
      "2020-07-23 18:15:14,269 - june.simulator - INFO - Date = 2020-07-19 03:00:00, number of deaths =  13, number of infected = 66\n",
      "2020-07-23 18:15:14,372 - june.simulator - INFO - Date = 2020-07-19 05:00:00, number of deaths =  13, number of infected = 64\n",
      "2020-07-23 18:15:14,471 - june.simulator - INFO - Date = 2020-07-19 07:00:00, number of deaths =  13, number of infected = 63\n",
      "2020-07-23 18:15:14,593 - june.simulator - INFO - Date = 2020-07-19 09:00:00, number of deaths =  13, number of infected = 63\n",
      "2020-07-23 18:15:14,693 - june.simulator - INFO - Date = 2020-07-19 11:00:00, number of deaths =  13, number of infected = 63\n",
      "2020-07-23 18:15:14,784 - june.simulator - INFO - Date = 2020-07-20 00:00:00, number of deaths =  13, number of infected = 60\n",
      "2020-07-23 18:15:14,877 - june.simulator - INFO - Date = 2020-07-20 02:00:00, number of deaths =  13, number of infected = 60\n",
      "2020-07-23 18:15:15,001 - june.simulator - INFO - Date = 2020-07-20 04:00:00, number of deaths =  13, number of infected = 58\n",
      "2020-07-23 18:15:15,099 - june.simulator - INFO - Date = 2020-07-20 06:00:00, number of deaths =  13, number of infected = 57\n",
      "2020-07-23 18:15:15,202 - june.simulator - INFO - Date = 2020-07-20 08:00:00, number of deaths =  13, number of infected = 56\n",
      "2020-07-23 18:15:15,279 - june.simulator - INFO - Date = 2020-07-20 10:00:00, number of deaths =  13, number of infected = 55\n",
      "2020-07-23 18:15:15,368 - june.simulator - INFO - Date = 2020-07-21 00:00:00, number of deaths =  13, number of infected = 51\n",
      "2020-07-23 18:15:15,461 - june.simulator - INFO - Date = 2020-07-21 02:00:00, number of deaths =  13, number of infected = 49\n",
      "2020-07-23 18:15:15,582 - june.simulator - INFO - Date = 2020-07-21 04:00:00, number of deaths =  13, number of infected = 49\n",
      "2020-07-23 18:15:15,680 - june.simulator - INFO - Date = 2020-07-21 06:00:00, number of deaths =  13, number of infected = 49\n",
      "2020-07-23 18:15:15,775 - june.simulator - INFO - Date = 2020-07-21 08:00:00, number of deaths =  13, number of infected = 48\n",
      "2020-07-23 18:15:15,871 - june.simulator - INFO - Date = 2020-07-21 10:00:00, number of deaths =  13, number of infected = 48\n",
      "2020-07-23 18:15:15,945 - june.simulator - INFO - Date = 2020-07-22 00:00:00, number of deaths =  13, number of infected = 44\n",
      "2020-07-23 18:15:16,067 - june.simulator - INFO - Date = 2020-07-22 02:00:00, number of deaths =  13, number of infected = 44\n",
      "2020-07-23 18:15:16,176 - june.simulator - INFO - Date = 2020-07-22 04:00:00, number of deaths =  13, number of infected = 43\n",
      "2020-07-23 18:15:16,277 - june.simulator - INFO - Date = 2020-07-22 06:00:00, number of deaths =  13, number of infected = 43\n",
      "2020-07-23 18:15:16,378 - june.simulator - INFO - Date = 2020-07-22 08:00:00, number of deaths =  13, number of infected = 43\n",
      "2020-07-23 18:15:16,473 - june.simulator - INFO - Date = 2020-07-22 10:00:00, number of deaths =  13, number of infected = 43\n",
      "2020-07-23 18:15:16,543 - june.simulator - INFO - Date = 2020-07-23 00:00:00, number of deaths =  13, number of infected = 41\n",
      "2020-07-23 18:15:16,636 - june.simulator - INFO - Date = 2020-07-23 02:00:00, number of deaths =  13, number of infected = 41\n",
      "2020-07-23 18:15:16,760 - june.simulator - INFO - Date = 2020-07-23 04:00:00, number of deaths =  13, number of infected = 41\n",
      "2020-07-23 18:15:16,878 - june.simulator - INFO - Date = 2020-07-23 06:00:00, number of deaths =  13, number of infected = 41\n",
      "2020-07-23 18:15:16,977 - june.simulator - INFO - Date = 2020-07-23 08:00:00, number of deaths =  13, number of infected = 40\n",
      "2020-07-23 18:15:17,084 - june.simulator - INFO - Date = 2020-07-23 10:00:00, number of deaths =  13, number of infected = 39\n",
      "2020-07-23 18:15:17,183 - june.simulator - INFO - Date = 2020-07-24 00:00:00, number of deaths =  13, number of infected = 37\n",
      "2020-07-23 18:15:17,281 - june.simulator - INFO - Date = 2020-07-24 02:00:00, number of deaths =  13, number of infected = 35\n",
      "2020-07-23 18:15:17,390 - june.simulator - INFO - Date = 2020-07-24 04:00:00, number of deaths =  13, number of infected = 35\n",
      "2020-07-23 18:15:17,484 - june.simulator - INFO - Date = 2020-07-24 06:00:00, number of deaths =  13, number of infected = 35\n",
      "2020-07-23 18:15:17,586 - june.simulator - INFO - Date = 2020-07-24 08:00:00, number of deaths =  13, number of infected = 35\n",
      "2020-07-23 18:15:17,664 - june.simulator - INFO - Date = 2020-07-24 10:00:00, number of deaths =  13, number of infected = 35\n",
      "2020-07-23 18:15:17,754 - june.simulator - INFO - Date = 2020-07-25 00:00:00, number of deaths =  13, number of infected = 35\n",
      "2020-07-23 18:15:17,849 - june.simulator - INFO - Date = 2020-07-25 03:00:00, number of deaths =  13, number of infected = 35\n",
      "2020-07-23 18:15:17,951 - june.simulator - INFO - Date = 2020-07-25 05:00:00, number of deaths =  13, number of infected = 35\n",
      "2020-07-23 18:15:18,058 - june.simulator - INFO - Date = 2020-07-25 07:00:00, number of deaths =  13, number of infected = 35\n",
      "2020-07-23 18:15:18,158 - june.simulator - INFO - Date = 2020-07-25 09:00:00, number of deaths =  13, number of infected = 34\n",
      "2020-07-23 18:15:18,252 - june.simulator - INFO - Date = 2020-07-25 11:00:00, number of deaths =  13, number of infected = 34\n",
      "2020-07-23 18:15:18,344 - june.simulator - INFO - Date = 2020-07-26 00:00:00, number of deaths =  13, number of infected = 33\n",
      "2020-07-23 18:15:18,441 - june.simulator - INFO - Date = 2020-07-26 03:00:00, number of deaths =  13, number of infected = 33\n",
      "2020-07-23 18:15:18,543 - june.simulator - INFO - Date = 2020-07-26 05:00:00, number of deaths =  13, number of infected = 33\n",
      "2020-07-23 18:15:18,644 - june.simulator - INFO - Date = 2020-07-26 07:00:00, number of deaths =  13, number of infected = 33\n",
      "2020-07-23 18:15:18,771 - june.simulator - INFO - Date = 2020-07-26 09:00:00, number of deaths =  13, number of infected = 33\n",
      "2020-07-23 18:15:18,869 - june.simulator - INFO - Date = 2020-07-26 11:00:00, number of deaths =  13, number of infected = 33\n",
      "2020-07-23 18:15:18,941 - june.simulator - INFO - Date = 2020-07-27 00:00:00, number of deaths =  13, number of infected = 30\n",
      "2020-07-23 18:15:19,035 - june.simulator - INFO - Date = 2020-07-27 02:00:00, number of deaths =  13, number of infected = 30\n",
      "2020-07-23 18:15:19,144 - june.simulator - INFO - Date = 2020-07-27 04:00:00, number of deaths =  13, number of infected = 30\n",
      "2020-07-23 18:15:19,249 - june.simulator - INFO - Date = 2020-07-27 06:00:00, number of deaths =  13, number of infected = 29\n",
      "2020-07-23 18:15:19,353 - june.simulator - INFO - Date = 2020-07-27 08:00:00, number of deaths =  13, number of infected = 29\n",
      "2020-07-23 18:15:19,442 - june.simulator - INFO - Date = 2020-07-27 10:00:00, number of deaths =  13, number of infected = 29\n",
      "2020-07-23 18:15:19,519 - june.simulator - INFO - Date = 2020-07-28 00:00:00, number of deaths =  13, number of infected = 26\n",
      "2020-07-23 18:15:19,634 - june.simulator - INFO - Date = 2020-07-28 02:00:00, number of deaths =  13, number of infected = 25\n",
      "2020-07-23 18:15:19,732 - june.simulator - INFO - Date = 2020-07-28 04:00:00, number of deaths =  13, number of infected = 25\n",
      "2020-07-23 18:15:19,833 - june.simulator - INFO - Date = 2020-07-28 06:00:00, number of deaths =  13, number of infected = 25\n",
      "2020-07-23 18:15:19,926 - june.simulator - INFO - Date = 2020-07-28 08:00:00, number of deaths =  13, number of infected = 25\n",
      "2020-07-23 18:15:20,007 - june.simulator - INFO - Date = 2020-07-28 10:00:00, number of deaths =  13, number of infected = 24\n",
      "2020-07-23 18:15:20,086 - june.simulator - INFO - Date = 2020-07-29 00:00:00, number of deaths =  13, number of infected = 23\n",
      "2020-07-23 18:15:20,182 - june.simulator - INFO - Date = 2020-07-29 02:00:00, number of deaths =  13, number of infected = 23\n",
      "2020-07-23 18:15:20,289 - june.simulator - INFO - Date = 2020-07-29 04:00:00, number of deaths =  13, number of infected = 23\n",
      "2020-07-23 18:15:20,401 - june.simulator - INFO - Date = 2020-07-29 06:00:00, number of deaths =  13, number of infected = 23\n",
      "2020-07-23 18:15:20,500 - june.simulator - INFO - Date = 2020-07-29 08:00:00, number of deaths =  13, number of infected = 23\n",
      "2020-07-23 18:15:20,588 - june.simulator - INFO - Date = 2020-07-29 10:00:00, number of deaths =  13, number of infected = 23\n",
      "2020-07-23 18:15:20,666 - june.simulator - INFO - Date = 2020-07-30 00:00:00, number of deaths =  13, number of infected = 22\n",
      "2020-07-23 18:15:20,762 - june.simulator - INFO - Date = 2020-07-30 02:00:00, number of deaths =  13, number of infected = 21\n",
      "2020-07-23 18:15:20,881 - june.simulator - INFO - Date = 2020-07-30 04:00:00, number of deaths =  13, number of infected = 20\n",
      "2020-07-23 18:15:20,998 - june.simulator - INFO - Date = 2020-07-30 06:00:00, number of deaths =  13, number of infected = 20\n",
      "2020-07-23 18:15:21,098 - june.simulator - INFO - Date = 2020-07-30 08:00:00, number of deaths =  13, number of infected = 20\n",
      "2020-07-23 18:15:21,216 - june.simulator - INFO - Date = 2020-07-30 10:00:00, number of deaths =  13, number of infected = 20\n",
      "2020-07-23 18:15:21,290 - june.simulator - INFO - Date = 2020-07-31 00:00:00, number of deaths =  13, number of infected = 20\n",
      "2020-07-23 18:15:21,390 - june.simulator - INFO - Date = 2020-07-31 02:00:00, number of deaths =  13, number of infected = 20\n",
      "2020-07-23 18:15:21,528 - june.simulator - INFO - Date = 2020-07-31 04:00:00, number of deaths =  13, number of infected = 19\n",
      "2020-07-23 18:15:21,628 - june.simulator - INFO - Date = 2020-07-31 06:00:00, number of deaths =  13, number of infected = 19\n",
      "2020-07-23 18:15:21,746 - june.simulator - INFO - Date = 2020-07-31 08:00:00, number of deaths =  13, number of infected = 19\n",
      "2020-07-23 18:15:21,831 - june.simulator - INFO - Date = 2020-07-31 10:00:00, number of deaths =  13, number of infected = 18\n",
      "2020-07-23 18:15:21,912 - june.simulator - INFO - Date = 2020-08-01 00:00:00, number of deaths =  13, number of infected = 18\n",
      "2020-07-23 18:15:22,006 - june.simulator - INFO - Date = 2020-08-01 03:00:00, number of deaths =  13, number of infected = 18\n",
      "2020-07-23 18:15:22,135 - june.simulator - INFO - Date = 2020-08-01 05:00:00, number of deaths =  13, number of infected = 18\n",
      "2020-07-23 18:15:22,232 - june.simulator - INFO - Date = 2020-08-01 07:00:00, number of deaths =  13, number of infected = 18\n",
      "2020-07-23 18:15:22,379 - june.simulator - INFO - Date = 2020-08-01 09:00:00, number of deaths =  13, number of infected = 18\n",
      "2020-07-23 18:15:22,455 - june.simulator - INFO - Date = 2020-08-01 11:00:00, number of deaths =  13, number of infected = 18\n",
      "2020-07-23 18:15:22,527 - june.simulator - INFO - Date = 2020-08-02 00:00:00, number of deaths =  13, number of infected = 17\n",
      "2020-07-23 18:15:22,624 - june.simulator - INFO - Date = 2020-08-02 03:00:00, number of deaths =  13, number of infected = 17\n",
      "2020-07-23 18:15:22,729 - june.simulator - INFO - Date = 2020-08-02 05:00:00, number of deaths =  13, number of infected = 17\n",
      "2020-07-23 18:15:22,832 - june.simulator - INFO - Date = 2020-08-02 07:00:00, number of deaths =  13, number of infected = 17\n",
      "2020-07-23 18:15:22,949 - june.simulator - INFO - Date = 2020-08-02 09:00:00, number of deaths =  13, number of infected = 17\n",
      "2020-07-23 18:15:23,049 - june.simulator - INFO - Date = 2020-08-02 11:00:00, number of deaths =  13, number of infected = 17\n",
      "2020-07-23 18:15:23,129 - june.simulator - INFO - Date = 2020-08-03 00:00:00, number of deaths =  13, number of infected = 16\n",
      "2020-07-23 18:15:23,227 - june.simulator - INFO - Date = 2020-08-03 02:00:00, number of deaths =  13, number of infected = 16\n",
      "2020-07-23 18:15:23,334 - june.simulator - INFO - Date = 2020-08-03 04:00:00, number of deaths =  13, number of infected = 16\n",
      "2020-07-23 18:15:23,447 - june.simulator - INFO - Date = 2020-08-03 06:00:00, number of deaths =  13, number of infected = 16\n",
      "2020-07-23 18:15:23,546 - june.simulator - INFO - Date = 2020-08-03 08:00:00, number of deaths =  13, number of infected = 16\n",
      "2020-07-23 18:15:23,634 - june.simulator - INFO - Date = 2020-08-03 10:00:00, number of deaths =  13, number of infected = 16\n",
      "2020-07-23 18:15:23,710 - june.simulator - INFO - Date = 2020-08-04 00:00:00, number of deaths =  13, number of infected = 15\n",
      "2020-07-23 18:15:23,807 - june.simulator - INFO - Date = 2020-08-04 02:00:00, number of deaths =  13, number of infected = 15\n",
      "2020-07-23 18:15:23,929 - june.simulator - INFO - Date = 2020-08-04 04:00:00, number of deaths =  13, number of infected = 15\n",
      "2020-07-23 18:15:24,026 - june.simulator - INFO - Date = 2020-08-04 06:00:00, number of deaths =  13, number of infected = 15\n",
      "2020-07-23 18:15:24,157 - june.simulator - INFO - Date = 2020-08-04 08:00:00, number of deaths =  13, number of infected = 15\n",
      "2020-07-23 18:15:24,260 - june.simulator - INFO - Date = 2020-08-04 10:00:00, number of deaths =  13, number of infected = 15\n",
      "2020-07-23 18:15:24,359 - june.simulator - INFO - Date = 2020-08-05 00:00:00, number of deaths =  13, number of infected = 14\n",
      "2020-07-23 18:15:24,479 - june.simulator - INFO - Date = 2020-08-05 02:00:00, number of deaths =  13, number of infected = 13\n",
      "2020-07-23 18:15:24,585 - june.simulator - INFO - Date = 2020-08-05 04:00:00, number of deaths =  13, number of infected = 13\n",
      "2020-07-23 18:15:24,683 - june.simulator - INFO - Date = 2020-08-05 06:00:00, number of deaths =  13, number of infected = 13\n",
      "2020-07-23 18:15:24,777 - june.simulator - INFO - Date = 2020-08-05 08:00:00, number of deaths =  13, number of infected = 13\n",
      "2020-07-23 18:15:24,855 - june.simulator - INFO - Date = 2020-08-05 10:00:00, number of deaths =  13, number of infected = 13\n",
      "2020-07-23 18:15:24,934 - june.simulator - INFO - Date = 2020-08-06 00:00:00, number of deaths =  13, number of infected = 13\n",
      "2020-07-23 18:15:25,030 - june.simulator - INFO - Date = 2020-08-06 02:00:00, number of deaths =  13, number of infected = 13\n",
      "2020-07-23 18:15:25,134 - june.simulator - INFO - Date = 2020-08-06 04:00:00, number of deaths =  13, number of infected = 13\n",
      "2020-07-23 18:15:25,253 - june.simulator - INFO - Date = 2020-08-06 06:00:00, number of deaths =  13, number of infected = 13\n",
      "2020-07-23 18:15:25,347 - june.simulator - INFO - Date = 2020-08-06 08:00:00, number of deaths =  13, number of infected = 13\n",
      "2020-07-23 18:15:25,463 - june.simulator - INFO - Date = 2020-08-06 10:00:00, number of deaths =  13, number of infected = 13\n",
      "2020-07-23 18:15:25,548 - june.simulator - INFO - Date = 2020-08-07 00:00:00, number of deaths =  13, number of infected = 13\n",
      "2020-07-23 18:15:25,644 - june.simulator - INFO - Date = 2020-08-07 02:00:00, number of deaths =  13, number of infected = 13\n",
      "2020-07-23 18:15:25,747 - june.simulator - INFO - Date = 2020-08-07 04:00:00, number of deaths =  13, number of infected = 13\n",
      "2020-07-23 18:15:25,845 - june.simulator - INFO - Date = 2020-08-07 06:00:00, number of deaths =  13, number of infected = 13\n",
      "2020-07-23 18:15:25,948 - june.simulator - INFO - Date = 2020-08-07 08:00:00, number of deaths =  13, number of infected = 13\n",
      "2020-07-23 18:15:26,048 - june.simulator - INFO - Date = 2020-08-07 10:00:00, number of deaths =  13, number of infected = 13\n",
      "2020-07-23 18:15:26,136 - june.simulator - INFO - Date = 2020-08-08 00:00:00, number of deaths =  13, number of infected = 12\n",
      "2020-07-23 18:15:26,236 - june.simulator - INFO - Date = 2020-08-08 03:00:00, number of deaths =  13, number of infected = 12\n",
      "2020-07-23 18:15:26,356 - june.simulator - INFO - Date = 2020-08-08 05:00:00, number of deaths =  13, number of infected = 12\n",
      "2020-07-23 18:15:26,474 - june.simulator - INFO - Date = 2020-08-08 07:00:00, number of deaths =  13, number of infected = 12\n",
      "2020-07-23 18:15:26,585 - june.simulator - INFO - Date = 2020-08-08 09:00:00, number of deaths =  13, number of infected = 12\n",
      "2020-07-23 18:15:26,683 - june.simulator - INFO - Date = 2020-08-08 11:00:00, number of deaths =  13, number of infected = 12\n",
      "2020-07-23 18:15:26,755 - june.simulator - INFO - Date = 2020-08-09 00:00:00, number of deaths =  13, number of infected = 11\n",
      "2020-07-23 18:15:26,852 - june.simulator - INFO - Date = 2020-08-09 03:00:00, number of deaths =  13, number of infected = 11\n",
      "2020-07-23 18:15:26,979 - june.simulator - INFO - Date = 2020-08-09 05:00:00, number of deaths =  13, number of infected = 11\n",
      "2020-07-23 18:15:27,093 - june.simulator - INFO - Date = 2020-08-09 07:00:00, number of deaths =  13, number of infected = 11\n",
      "2020-07-23 18:15:27,193 - june.simulator - INFO - Date = 2020-08-09 09:00:00, number of deaths =  13, number of infected = 11\n",
      "2020-07-23 18:15:27,279 - june.simulator - INFO - Date = 2020-08-09 11:00:00, number of deaths =  13, number of infected = 11\n",
      "2020-07-23 18:15:27,364 - june.simulator - INFO - Date = 2020-08-10 00:00:00, number of deaths =  13, number of infected = 10\n",
      "2020-07-23 18:15:27,461 - june.simulator - INFO - Date = 2020-08-10 02:00:00, number of deaths =  13, number of infected = 10\n",
      "2020-07-23 18:15:27,556 - june.simulator - INFO - Date = 2020-08-10 04:00:00, number of deaths =  13, number of infected = 10\n",
      "2020-07-23 18:15:27,674 - june.simulator - INFO - Date = 2020-08-10 06:00:00, number of deaths =  13, number of infected = 10\n",
      "2020-07-23 18:15:27,771 - june.simulator - INFO - Date = 2020-08-10 08:00:00, number of deaths =  13, number of infected = 9\n",
      "2020-07-23 18:15:27,847 - june.simulator - INFO - Date = 2020-08-10 10:00:00, number of deaths =  13, number of infected = 9\n",
      "2020-07-23 18:15:27,925 - june.simulator - INFO - Date = 2020-08-11 00:00:00, number of deaths =  13, number of infected = 9\n",
      "2020-07-23 18:15:28,018 - june.simulator - INFO - Date = 2020-08-11 02:00:00, number of deaths =  13, number of infected = 9\n",
      "2020-07-23 18:15:28,144 - june.simulator - INFO - Date = 2020-08-11 04:00:00, number of deaths =  13, number of infected = 9\n",
      "2020-07-23 18:15:28,242 - june.simulator - INFO - Date = 2020-08-11 06:00:00, number of deaths =  13, number of infected = 8\n",
      "2020-07-23 18:15:28,387 - june.simulator - INFO - Date = 2020-08-11 08:00:00, number of deaths =  13, number of infected = 8\n",
      "2020-07-23 18:15:28,486 - june.simulator - INFO - Date = 2020-08-11 10:00:00, number of deaths =  13, number of infected = 7\n",
      "2020-07-23 18:15:28,559 - june.simulator - INFO - Date = 2020-08-12 00:00:00, number of deaths =  13, number of infected = 6\n",
      "2020-07-23 18:15:28,682 - june.simulator - INFO - Date = 2020-08-12 02:00:00, number of deaths =  13, number of infected = 6\n",
      "2020-07-23 18:15:28,781 - june.simulator - INFO - Date = 2020-08-12 04:00:00, number of deaths =  13, number of infected = 6\n",
      "2020-07-23 18:15:28,876 - june.simulator - INFO - Date = 2020-08-12 06:00:00, number of deaths =  13, number of infected = 6\n",
      "2020-07-23 18:15:29,006 - june.simulator - INFO - Date = 2020-08-12 08:00:00, number of deaths =  13, number of infected = 6\n",
      "2020-07-23 18:15:29,091 - june.simulator - INFO - Date = 2020-08-12 10:00:00, number of deaths =  13, number of infected = 6\n",
      "2020-07-23 18:15:29,169 - june.simulator - INFO - Date = 2020-08-13 00:00:00, number of deaths =  13, number of infected = 5\n",
      "2020-07-23 18:15:29,290 - june.simulator - INFO - Date = 2020-08-13 02:00:00, number of deaths =  13, number of infected = 5\n",
      "2020-07-23 18:15:29,406 - june.simulator - INFO - Date = 2020-08-13 04:00:00, number of deaths =  13, number of infected = 5\n",
      "2020-07-23 18:15:29,500 - june.simulator - INFO - Date = 2020-08-13 06:00:00, number of deaths =  13, number of infected = 5\n",
      "2020-07-23 18:15:29,602 - june.simulator - INFO - Date = 2020-08-13 08:00:00, number of deaths =  13, number of infected = 5\n",
      "2020-07-23 18:15:29,679 - june.simulator - INFO - Date = 2020-08-13 10:00:00, number of deaths =  13, number of infected = 5\n",
      "2020-07-23 18:15:29,756 - june.simulator - INFO - Date = 2020-08-14 00:00:00, number of deaths =  13, number of infected = 5\n",
      "2020-07-23 18:15:29,855 - june.simulator - INFO - Date = 2020-08-14 02:00:00, number of deaths =  13, number of infected = 5\n",
      "2020-07-23 18:15:29,953 - june.simulator - INFO - Date = 2020-08-14 04:00:00, number of deaths =  13, number of infected = 5\n",
      "2020-07-23 18:15:30,091 - june.simulator - INFO - Date = 2020-08-14 06:00:00, number of deaths =  13, number of infected = 5\n",
      "2020-07-23 18:15:30,183 - june.simulator - INFO - Date = 2020-08-14 08:00:00, number of deaths =  13, number of infected = 5\n",
      "2020-07-23 18:15:30,297 - june.simulator - INFO - Date = 2020-08-14 10:00:00, number of deaths =  13, number of infected = 5\n",
      "2020-07-23 18:15:30,376 - june.simulator - INFO - Date = 2020-08-15 00:00:00, number of deaths =  13, number of infected = 5\n",
      "2020-07-23 18:15:30,480 - june.simulator - INFO - Date = 2020-08-15 03:00:00, number of deaths =  13, number of infected = 5\n",
      "2020-07-23 18:15:30,583 - june.simulator - INFO - Date = 2020-08-15 05:00:00, number of deaths =  13, number of infected = 5\n",
      "2020-07-23 18:15:30,742 - june.simulator - INFO - Date = 2020-08-15 07:00:00, number of deaths =  13, number of infected = 5\n",
      "2020-07-23 18:15:30,843 - june.simulator - INFO - Date = 2020-08-15 09:00:00, number of deaths =  13, number of infected = 5\n",
      "2020-07-23 18:15:30,939 - june.simulator - INFO - Date = 2020-08-15 11:00:00, number of deaths =  13, number of infected = 5\n",
      "2020-07-23 18:15:31,016 - june.simulator - INFO - Date = 2020-08-16 00:00:00, number of deaths =  13, number of infected = 5\n",
      "2020-07-23 18:15:31,146 - june.simulator - INFO - Date = 2020-08-16 03:00:00, number of deaths =  13, number of infected = 5\n",
      "2020-07-23 18:15:31,271 - june.simulator - INFO - Date = 2020-08-16 05:00:00, number of deaths =  13, number of infected = 5\n",
      "2020-07-23 18:15:31,391 - june.simulator - INFO - Date = 2020-08-16 07:00:00, number of deaths =  13, number of infected = 4\n",
      "2020-07-23 18:15:31,490 - june.simulator - INFO - Date = 2020-08-16 09:00:00, number of deaths =  13, number of infected = 4\n",
      "2020-07-23 18:15:31,570 - june.simulator - INFO - Date = 2020-08-16 11:00:00, number of deaths =  13, number of infected = 4\n",
      "2020-07-23 18:15:31,644 - june.simulator - INFO - Date = 2020-08-17 00:00:00, number of deaths =  13, number of infected = 4\n",
      "2020-07-23 18:15:31,745 - june.simulator - INFO - Date = 2020-08-17 02:00:00, number of deaths =  13, number of infected = 4\n",
      "2020-07-23 18:15:31,887 - june.simulator - INFO - Date = 2020-08-17 04:00:00, number of deaths =  13, number of infected = 4\n",
      "2020-07-23 18:15:32,005 - june.simulator - INFO - Date = 2020-08-17 06:00:00, number of deaths =  13, number of infected = 4\n",
      "2020-07-23 18:15:32,100 - june.simulator - INFO - Date = 2020-08-17 08:00:00, number of deaths =  13, number of infected = 4\n",
      "2020-07-23 18:15:32,201 - june.simulator - INFO - Date = 2020-08-17 10:00:00, number of deaths =  13, number of infected = 4\n",
      "2020-07-23 18:15:32,296 - june.simulator - INFO - Date = 2020-08-18 00:00:00, number of deaths =  14, number of infected = 3\n",
      "2020-07-23 18:15:32,399 - june.simulator - INFO - Date = 2020-08-18 02:00:00, number of deaths =  14, number of infected = 3\n",
      "2020-07-23 18:15:32,502 - june.simulator - INFO - Date = 2020-08-18 04:00:00, number of deaths =  14, number of infected = 3\n",
      "2020-07-23 18:15:32,598 - june.simulator - INFO - Date = 2020-08-18 06:00:00, number of deaths =  14, number of infected = 3\n",
      "2020-07-23 18:15:32,761 - june.simulator - INFO - Date = 2020-08-18 08:00:00, number of deaths =  14, number of infected = 3\n",
      "2020-07-23 18:15:32,844 - june.simulator - INFO - Date = 2020-08-18 10:00:00, number of deaths =  14, number of infected = 3\n",
      "2020-07-23 18:15:32,919 - june.simulator - INFO - Date = 2020-08-19 00:00:00, number of deaths =  14, number of infected = 2\n",
      "2020-07-23 18:15:33,008 - june.simulator - INFO - Date = 2020-08-19 02:00:00, number of deaths =  14, number of infected = 2\n",
      "2020-07-23 18:15:33,114 - june.simulator - INFO - Date = 2020-08-19 04:00:00, number of deaths =  14, number of infected = 2\n",
      "2020-07-23 18:15:33,212 - june.simulator - INFO - Date = 2020-08-19 06:00:00, number of deaths =  14, number of infected = 2\n",
      "2020-07-23 18:15:33,310 - june.simulator - INFO - Date = 2020-08-19 08:00:00, number of deaths =  14, number of infected = 2\n",
      "2020-07-23 18:15:33,398 - june.simulator - INFO - Date = 2020-08-19 10:00:00, number of deaths =  14, number of infected = 2\n",
      "2020-07-23 18:15:33,499 - june.simulator - INFO - Date = 2020-08-20 00:00:00, number of deaths =  14, number of infected = 2\n",
      "2020-07-23 18:15:33,594 - june.simulator - INFO - Date = 2020-08-20 02:00:00, number of deaths =  14, number of infected = 2\n",
      "2020-07-23 18:15:33,689 - june.simulator - INFO - Date = 2020-08-20 04:00:00, number of deaths =  14, number of infected = 2\n",
      "2020-07-23 18:15:33,816 - june.simulator - INFO - Date = 2020-08-20 06:00:00, number of deaths =  14, number of infected = 2\n",
      "2020-07-23 18:15:33,915 - june.simulator - INFO - Date = 2020-08-20 08:00:00, number of deaths =  14, number of infected = 2\n",
      "2020-07-23 18:15:34,038 - june.simulator - INFO - Date = 2020-08-20 10:00:00, number of deaths =  14, number of infected = 2\n",
      "2020-07-23 18:15:34,137 - june.simulator - INFO - Date = 2020-08-21 00:00:00, number of deaths =  14, number of infected = 2\n",
      "2020-07-23 18:15:34,235 - june.simulator - INFO - Date = 2020-08-21 02:00:00, number of deaths =  14, number of infected = 2\n",
      "2020-07-23 18:15:34,391 - june.simulator - INFO - Date = 2020-08-21 04:00:00, number of deaths =  14, number of infected = 2\n",
      "2020-07-23 18:15:34,516 - june.simulator - INFO - Date = 2020-08-21 06:00:00, number of deaths =  14, number of infected = 2\n",
      "2020-07-23 18:15:34,645 - june.simulator - INFO - Date = 2020-08-21 08:00:00, number of deaths =  14, number of infected = 2\n",
      "2020-07-23 18:15:34,724 - june.simulator - INFO - Date = 2020-08-21 10:00:00, number of deaths =  14, number of infected = 2\n",
      "2020-07-23 18:15:34,803 - june.simulator - INFO - Date = 2020-08-22 00:00:00, number of deaths =  14, number of infected = 2\n",
      "2020-07-23 18:15:34,915 - june.simulator - INFO - Date = 2020-08-22 03:00:00, number of deaths =  14, number of infected = 2\n",
      "2020-07-23 18:15:35,021 - june.simulator - INFO - Date = 2020-08-22 05:00:00, number of deaths =  14, number of infected = 2\n",
      "2020-07-23 18:15:35,125 - june.simulator - INFO - Date = 2020-08-22 07:00:00, number of deaths =  14, number of infected = 2\n",
      "2020-07-23 18:15:35,226 - june.simulator - INFO - Date = 2020-08-22 09:00:00, number of deaths =  14, number of infected = 2\n",
      "2020-07-23 18:15:35,306 - june.simulator - INFO - Date = 2020-08-22 11:00:00, number of deaths =  14, number of infected = 2\n",
      "2020-07-23 18:15:35,391 - june.simulator - INFO - Date = 2020-08-23 00:00:00, number of deaths =  14, number of infected = 1\n",
      "2020-07-23 18:15:35,492 - june.simulator - INFO - Date = 2020-08-23 03:00:00, number of deaths =  14, number of infected = 1\n",
      "2020-07-23 18:15:35,593 - june.simulator - INFO - Date = 2020-08-23 05:00:00, number of deaths =  14, number of infected = 1\n",
      "2020-07-23 18:15:35,698 - june.simulator - INFO - Date = 2020-08-23 07:00:00, number of deaths =  14, number of infected = 1\n",
      "2020-07-23 18:15:35,800 - june.simulator - INFO - Date = 2020-08-23 09:00:00, number of deaths =  14, number of infected = 1\n",
      "2020-07-23 18:15:35,903 - june.simulator - INFO - Date = 2020-08-23 11:00:00, number of deaths =  14, number of infected = 1\n",
      "2020-07-23 18:15:35,974 - june.simulator - INFO - Date = 2020-08-24 00:00:00, number of deaths =  14, number of infected = 1\n",
      "2020-07-23 18:15:36,070 - june.simulator - INFO - Date = 2020-08-24 02:00:00, number of deaths =  14, number of infected = 1\n",
      "2020-07-23 18:15:36,223 - june.simulator - INFO - Date = 2020-08-24 04:00:00, number of deaths =  14, number of infected = 1\n",
      "2020-07-23 18:15:36,356 - june.simulator - INFO - Date = 2020-08-24 06:00:00, number of deaths =  14, number of infected = 1\n",
      "2020-07-23 18:15:36,459 - june.simulator - INFO - Date = 2020-08-24 08:00:00, number of deaths =  14, number of infected = 1\n",
      "2020-07-23 18:15:36,542 - june.simulator - INFO - Date = 2020-08-24 10:00:00, number of deaths =  14, number of infected = 1\n",
      "2020-07-23 18:15:36,622 - june.simulator - INFO - Date = 2020-08-25 00:00:00, number of deaths =  14, number of infected = 1\n",
      "2020-07-23 18:15:36,721 - june.simulator - INFO - Date = 2020-08-25 02:00:00, number of deaths =  14, number of infected = 1\n",
      "2020-07-23 18:15:36,815 - june.simulator - INFO - Date = 2020-08-25 04:00:00, number of deaths =  14, number of infected = 1\n",
      "2020-07-23 18:15:36,923 - june.simulator - INFO - Date = 2020-08-25 06:00:00, number of deaths =  14, number of infected = 1\n",
      "2020-07-23 18:15:37,024 - june.simulator - INFO - Date = 2020-08-25 08:00:00, number of deaths =  14, number of infected = 1\n",
      "2020-07-23 18:15:37,101 - june.simulator - INFO - Date = 2020-08-25 10:00:00, number of deaths =  14, number of infected = 1\n",
      "2020-07-23 18:15:37,176 - june.simulator - INFO - Date = 2020-08-26 00:00:00, number of deaths =  14, number of infected = 1\n",
      "2020-07-23 18:15:37,270 - june.simulator - INFO - Date = 2020-08-26 02:00:00, number of deaths =  14, number of infected = 1\n",
      "2020-07-23 18:15:37,393 - june.simulator - INFO - Date = 2020-08-26 04:00:00, number of deaths =  14, number of infected = 1\n",
      "2020-07-23 18:15:37,505 - june.simulator - INFO - Date = 2020-08-26 06:00:00, number of deaths =  14, number of infected = 1\n",
      "2020-07-23 18:15:37,606 - june.simulator - INFO - Date = 2020-08-26 08:00:00, number of deaths =  14, number of infected = 1\n",
      "2020-07-23 18:15:37,702 - june.simulator - INFO - Date = 2020-08-26 10:00:00, number of deaths =  14, number of infected = 1\n",
      "2020-07-23 18:15:37,802 - june.simulator - INFO - Date = 2020-08-27 00:00:00, number of deaths =  14, number of infected = 1\n",
      "2020-07-23 18:15:37,929 - june.simulator - INFO - Date = 2020-08-27 02:00:00, number of deaths =  14, number of infected = 1\n",
      "2020-07-23 18:15:38,036 - june.simulator - INFO - Date = 2020-08-27 04:00:00, number of deaths =  14, number of infected = 1\n",
      "2020-07-23 18:15:38,138 - june.simulator - INFO - Date = 2020-08-27 06:00:00, number of deaths =  14, number of infected = 1\n",
      "2020-07-23 18:15:38,234 - june.simulator - INFO - Date = 2020-08-27 08:00:00, number of deaths =  14, number of infected = 1\n",
      "2020-07-23 18:15:38,363 - june.simulator - INFO - Date = 2020-08-27 10:00:00, number of deaths =  14, number of infected = 1\n",
      "2020-07-23 18:15:38,466 - june.simulator - INFO - Date = 2020-08-28 00:00:00, number of deaths =  14, number of infected = 1\n",
      "2020-07-23 18:15:38,589 - june.simulator - INFO - Date = 2020-08-28 02:00:00, number of deaths =  14, number of infected = 1\n",
      "2020-07-23 18:15:38,683 - june.simulator - INFO - Date = 2020-08-28 04:00:00, number of deaths =  14, number of infected = 1\n",
      "2020-07-23 18:15:38,786 - june.simulator - INFO - Date = 2020-08-28 06:00:00, number of deaths =  14, number of infected = 1\n",
      "2020-07-23 18:15:38,908 - june.simulator - INFO - Date = 2020-08-28 08:00:00, number of deaths =  14, number of infected = 1\n",
      "2020-07-23 18:15:38,999 - june.simulator - INFO - Date = 2020-08-28 10:00:00, number of deaths =  14, number of infected = 1\n",
      "2020-07-23 18:15:39,070 - june.simulator - INFO - Date = 2020-08-29 00:00:00, number of deaths =  14, number of infected = 1\n",
      "2020-07-23 18:15:39,172 - june.simulator - INFO - Date = 2020-08-29 03:00:00, number of deaths =  14, number of infected = 1\n",
      "2020-07-23 18:15:39,270 - june.simulator - INFO - Date = 2020-08-29 05:00:00, number of deaths =  14, number of infected = 1\n",
      "2020-07-23 18:15:39,401 - june.simulator - INFO - Date = 2020-08-29 07:00:00, number of deaths =  14, number of infected = 1\n",
      "2020-07-23 18:15:39,505 - june.simulator - INFO - Date = 2020-08-29 09:00:00, number of deaths =  14, number of infected = 1\n",
      "2020-07-23 18:15:39,619 - june.simulator - INFO - Date = 2020-08-29 11:00:00, number of deaths =  14, number of infected = 1\n",
      "2020-07-23 18:15:39,717 - june.simulator - INFO - Date = 2020-08-30 00:00:00, number of deaths =  14, number of infected = 1\n",
      "2020-07-23 18:15:39,811 - june.simulator - INFO - Date = 2020-08-30 03:00:00, number of deaths =  14, number of infected = 1\n",
      "2020-07-23 18:15:39,935 - june.simulator - INFO - Date = 2020-08-30 05:00:00, number of deaths =  14, number of infected = 1\n",
      "2020-07-23 18:15:40,042 - june.simulator - INFO - Date = 2020-08-30 07:00:00, number of deaths =  14, number of infected = 1\n",
      "2020-07-23 18:15:40,160 - june.simulator - INFO - Date = 2020-08-30 09:00:00, number of deaths =  14, number of infected = 1\n",
      "2020-07-23 18:15:40,239 - june.simulator - INFO - Date = 2020-08-30 11:00:00, number of deaths =  14, number of infected = 1\n",
      "2020-07-23 18:15:40,345 - june.simulator - INFO - Date = 2020-08-31 00:00:00, number of deaths =  14, number of infected = 1\n",
      "2020-07-23 18:15:40,465 - june.simulator - INFO - Date = 2020-08-31 02:00:00, number of deaths =  14, number of infected = 1\n",
      "2020-07-23 18:15:40,573 - june.simulator - INFO - Date = 2020-08-31 04:00:00, number of deaths =  14, number of infected = 1\n",
      "2020-07-23 18:15:40,670 - june.simulator - INFO - Date = 2020-08-31 06:00:00, number of deaths =  14, number of infected = 1\n",
      "2020-07-23 18:15:40,807 - june.simulator - INFO - Date = 2020-08-31 08:00:00, number of deaths =  14, number of infected = 1\n",
      "2020-07-23 18:15:40,906 - june.simulator - INFO - Date = 2020-08-31 10:00:00, number of deaths =  14, number of infected = 1\n",
      "2020-07-23 18:15:41,003 - june.simulator - INFO - Date = 2020-09-01 00:00:00, number of deaths =  14, number of infected = 1\n",
      "2020-07-23 18:15:41,118 - june.simulator - INFO - Date = 2020-09-01 02:00:00, number of deaths =  14, number of infected = 1\n",
      "2020-07-23 18:15:41,219 - june.simulator - INFO - Date = 2020-09-01 04:00:00, number of deaths =  14, number of infected = 1\n",
      "2020-07-23 18:15:41,325 - june.simulator - INFO - Date = 2020-09-01 06:00:00, number of deaths =  14, number of infected = 1\n",
      "2020-07-23 18:15:41,439 - june.simulator - INFO - Date = 2020-09-01 08:00:00, number of deaths =  14, number of infected = 1\n",
      "2020-07-23 18:15:41,530 - june.simulator - INFO - Date = 2020-09-01 10:00:00, number of deaths =  14, number of infected = 1\n",
      "2020-07-23 18:15:41,636 - june.simulator - INFO - Date = 2020-09-02 00:00:00, number of deaths =  14, number of infected = 1\n",
      "2020-07-23 18:15:41,728 - june.simulator - INFO - Date = 2020-09-02 02:00:00, number of deaths =  14, number of infected = 1\n",
      "2020-07-23 18:15:41,859 - june.simulator - INFO - Date = 2020-09-02 04:00:00, number of deaths =  14, number of infected = 1\n",
      "2020-07-23 18:15:41,960 - june.simulator - INFO - Date = 2020-09-02 06:00:00, number of deaths =  14, number of infected = 1\n",
      "2020-07-23 18:15:42,087 - june.simulator - INFO - Date = 2020-09-02 08:00:00, number of deaths =  14, number of infected = 1\n",
      "2020-07-23 18:15:42,164 - june.simulator - INFO - Date = 2020-09-02 10:00:00, number of deaths =  14, number of infected = 1\n",
      "2020-07-23 18:15:42,239 - june.simulator - INFO - Date = 2020-09-03 00:00:00, number of deaths =  14, number of infected = 1\n",
      "2020-07-23 18:15:42,349 - june.simulator - INFO - Date = 2020-09-03 02:00:00, number of deaths =  14, number of infected = 1\n",
      "2020-07-23 18:15:42,478 - june.simulator - INFO - Date = 2020-09-03 04:00:00, number of deaths =  14, number of infected = 1\n",
      "2020-07-23 18:15:42,592 - june.simulator - INFO - Date = 2020-09-03 06:00:00, number of deaths =  14, number of infected = 1\n",
      "2020-07-23 18:15:42,700 - june.simulator - INFO - Date = 2020-09-03 08:00:00, number of deaths =  14, number of infected = 1\n",
      "2020-07-23 18:15:42,776 - june.simulator - INFO - Date = 2020-09-03 10:00:00, number of deaths =  14, number of infected = 1\n",
      "2020-07-23 18:15:42,863 - june.simulator - INFO - Date = 2020-09-04 00:00:00, number of deaths =  14, number of infected = 1\n",
      "2020-07-23 18:15:42,957 - june.simulator - INFO - Date = 2020-09-04 02:00:00, number of deaths =  14, number of infected = 1\n",
      "2020-07-23 18:15:43,052 - june.simulator - INFO - Date = 2020-09-04 04:00:00, number of deaths =  14, number of infected = 1\n",
      "2020-07-23 18:15:43,184 - june.simulator - INFO - Date = 2020-09-04 06:00:00, number of deaths =  14, number of infected = 1\n",
      "2020-07-23 18:15:43,311 - june.simulator - INFO - Date = 2020-09-04 08:00:00, number of deaths =  14, number of infected = 1\n",
      "2020-07-23 18:15:43,395 - june.simulator - INFO - Date = 2020-09-04 10:00:00, number of deaths =  14, number of infected = 1\n",
      "2020-07-23 18:15:43,476 - june.simulator - INFO - Date = 2020-09-05 00:00:00, number of deaths =  14, number of infected = 1\n",
      "2020-07-23 18:15:43,584 - june.simulator - INFO - Date = 2020-09-05 03:00:00, number of deaths =  14, number of infected = 1\n",
      "2020-07-23 18:15:43,680 - june.simulator - INFO - Date = 2020-09-05 05:00:00, number of deaths =  14, number of infected = 1\n",
      "2020-07-23 18:15:43,785 - june.simulator - INFO - Date = 2020-09-05 07:00:00, number of deaths =  14, number of infected = 1\n",
      "2020-07-23 18:15:43,886 - june.simulator - INFO - Date = 2020-09-05 09:00:00, number of deaths =  14, number of infected = 1\n",
      "2020-07-23 18:15:43,965 - june.simulator - INFO - Date = 2020-09-05 11:00:00, number of deaths =  14, number of infected = 1\n",
      "2020-07-23 18:15:44,065 - june.simulator - INFO - Date = 2020-09-06 00:00:00, number of deaths =  14, number of infected = 0\n",
      "2020-07-23 18:15:44,161 - june.simulator - INFO - Date = 2020-09-06 03:00:00, number of deaths =  14, number of infected = 0\n",
      "2020-07-23 18:15:44,288 - june.simulator - INFO - Date = 2020-09-06 05:00:00, number of deaths =  14, number of infected = 0\n",
      "2020-07-23 18:15:44,385 - june.simulator - INFO - Date = 2020-09-06 07:00:00, number of deaths =  14, number of infected = 0\n",
      "2020-07-23 18:15:44,500 - june.simulator - INFO - Date = 2020-09-06 09:00:00, number of deaths =  14, number of infected = 0\n",
      "2020-07-23 18:15:44,606 - june.simulator - INFO - Date = 2020-09-06 11:00:00, number of deaths =  14, number of infected = 0\n",
      "2020-07-23 18:15:44,684 - june.simulator - INFO - Date = 2020-09-07 00:00:00, number of deaths =  14, number of infected = 0\n",
      "2020-07-23 18:15:44,780 - june.simulator - INFO - Date = 2020-09-07 02:00:00, number of deaths =  14, number of infected = 0\n",
      "2020-07-23 18:15:44,886 - june.simulator - INFO - Date = 2020-09-07 04:00:00, number of deaths =  14, number of infected = 0\n",
      "2020-07-23 18:15:44,984 - june.simulator - INFO - Date = 2020-09-07 06:00:00, number of deaths =  14, number of infected = 0\n",
      "2020-07-23 18:15:45,145 - june.simulator - INFO - Date = 2020-09-07 08:00:00, number of deaths =  14, number of infected = 0\n",
      "2020-07-23 18:15:45,225 - june.simulator - INFO - Date = 2020-09-07 10:00:00, number of deaths =  14, number of infected = 0\n",
      "2020-07-23 18:15:45,296 - june.simulator - INFO - Date = 2020-09-08 00:00:00, number of deaths =  14, number of infected = 0\n",
      "2020-07-23 18:15:45,421 - june.simulator - INFO - Date = 2020-09-08 02:00:00, number of deaths =  14, number of infected = 0\n",
      "2020-07-23 18:15:45,514 - june.simulator - INFO - Date = 2020-09-08 04:00:00, number of deaths =  14, number of infected = 0\n",
      "2020-07-23 18:15:45,676 - june.simulator - INFO - Date = 2020-09-08 06:00:00, number of deaths =  14, number of infected = 0\n",
      "2020-07-23 18:15:45,775 - june.simulator - INFO - Date = 2020-09-08 08:00:00, number of deaths =  14, number of infected = 0\n",
      "2020-07-23 18:15:45,850 - june.simulator - INFO - Date = 2020-09-08 10:00:00, number of deaths =  14, number of infected = 0\n",
      "2020-07-23 18:15:45,929 - june.simulator - INFO - Date = 2020-09-09 00:00:00, number of deaths =  14, number of infected = 0\n",
      "2020-07-23 18:15:46,021 - june.simulator - INFO - Date = 2020-09-09 02:00:00, number of deaths =  14, number of infected = 0\n",
      "2020-07-23 18:15:46,182 - june.simulator - INFO - Date = 2020-09-09 04:00:00, number of deaths =  14, number of infected = 0\n",
      "2020-07-23 18:15:46,284 - june.simulator - INFO - Date = 2020-09-09 06:00:00, number of deaths =  14, number of infected = 0\n",
      "2020-07-23 18:15:46,400 - june.simulator - INFO - Date = 2020-09-09 08:00:00, number of deaths =  14, number of infected = 0\n",
      "2020-07-23 18:15:46,483 - june.simulator - INFO - Date = 2020-09-09 10:00:00, number of deaths =  14, number of infected = 0\n",
      "2020-07-23 18:15:46,571 - june.simulator - INFO - Date = 2020-09-10 00:00:00, number of deaths =  14, number of infected = 0\n",
      "2020-07-23 18:15:46,683 - june.simulator - INFO - Date = 2020-09-10 02:00:00, number of deaths =  14, number of infected = 0\n",
      "2020-07-23 18:15:46,815 - june.simulator - INFO - Date = 2020-09-10 04:00:00, number of deaths =  14, number of infected = 0\n",
      "2020-07-23 18:15:46,943 - june.simulator - INFO - Date = 2020-09-10 06:00:00, number of deaths =  14, number of infected = 0\n",
      "2020-07-23 18:15:47,038 - june.simulator - INFO - Date = 2020-09-10 08:00:00, number of deaths =  14, number of infected = 0\n",
      "2020-07-23 18:15:47,149 - june.simulator - INFO - Date = 2020-09-10 10:00:00, number of deaths =  14, number of infected = 0\n",
      "2020-07-23 18:15:47,234 - june.simulator - INFO - Date = 2020-09-11 00:00:00, number of deaths =  14, number of infected = 0\n",
      "2020-07-23 18:15:47,330 - june.simulator - INFO - Date = 2020-09-11 02:00:00, number of deaths =  14, number of infected = 0\n",
      "2020-07-23 18:15:47,494 - june.simulator - INFO - Date = 2020-09-11 04:00:00, number of deaths =  14, number of infected = 0\n",
      "2020-07-23 18:15:47,592 - june.simulator - INFO - Date = 2020-09-11 06:00:00, number of deaths =  14, number of infected = 0\n",
      "2020-07-23 18:15:47,729 - june.simulator - INFO - Date = 2020-09-11 08:00:00, number of deaths =  14, number of infected = 0\n",
      "2020-07-23 18:15:47,804 - june.simulator - INFO - Date = 2020-09-11 10:00:00, number of deaths =  14, number of infected = 0\n",
      "2020-07-23 18:15:47,880 - june.simulator - INFO - Date = 2020-09-12 00:00:00, number of deaths =  14, number of infected = 0\n",
      "2020-07-23 18:15:47,983 - june.simulator - INFO - Date = 2020-09-12 03:00:00, number of deaths =  14, number of infected = 0\n",
      "2020-07-23 18:15:48,095 - june.simulator - INFO - Date = 2020-09-12 05:00:00, number of deaths =  14, number of infected = 0\n",
      "2020-07-23 18:15:48,202 - june.simulator - INFO - Date = 2020-09-12 07:00:00, number of deaths =  14, number of infected = 0\n",
      "2020-07-23 18:15:48,334 - june.simulator - INFO - Date = 2020-09-12 09:00:00, number of deaths =  14, number of infected = 0\n",
      "2020-07-23 18:15:48,413 - june.simulator - INFO - Date = 2020-09-12 11:00:00, number of deaths =  14, number of infected = 0\n",
      "2020-07-23 18:15:48,516 - june.simulator - INFO - Date = 2020-09-13 00:00:00, number of deaths =  14, number of infected = 0\n",
      "2020-07-23 18:15:48,641 - june.simulator - INFO - Date = 2020-09-13 03:00:00, number of deaths =  14, number of infected = 0\n",
      "2020-07-23 18:15:48,767 - june.simulator - INFO - Date = 2020-09-13 05:00:00, number of deaths =  14, number of infected = 0\n",
      "2020-07-23 18:15:48,869 - june.simulator - INFO - Date = 2020-09-13 07:00:00, number of deaths =  14, number of infected = 0\n",
      "2020-07-23 18:15:49,002 - june.simulator - INFO - Date = 2020-09-13 09:00:00, number of deaths =  14, number of infected = 0\n",
      "2020-07-23 18:15:49,103 - june.simulator - INFO - Date = 2020-09-13 11:00:00, number of deaths =  14, number of infected = 0\n",
      "2020-07-23 18:15:49,179 - june.simulator - INFO - Date = 2020-09-14 00:00:00, number of deaths =  14, number of infected = 0\n",
      "2020-07-23 18:15:49,283 - june.simulator - INFO - Date = 2020-09-14 02:00:00, number of deaths =  14, number of infected = 0\n",
      "2020-07-23 18:15:49,420 - june.simulator - INFO - Date = 2020-09-14 04:00:00, number of deaths =  14, number of infected = 0\n",
      "2020-07-23 18:15:49,519 - june.simulator - INFO - Date = 2020-09-14 06:00:00, number of deaths =  14, number of infected = 0\n",
      "2020-07-23 18:15:49,626 - june.simulator - INFO - Date = 2020-09-14 08:00:00, number of deaths =  14, number of infected = 0\n",
      "2020-07-23 18:15:49,711 - june.simulator - INFO - Date = 2020-09-14 10:00:00, number of deaths =  14, number of infected = 0\n",
      "2020-07-23 18:15:49,798 - june.simulator - INFO - Date = 2020-09-15 00:00:00, number of deaths =  14, number of infected = 0\n",
      "2020-07-23 18:15:49,890 - june.simulator - INFO - Date = 2020-09-15 02:00:00, number of deaths =  14, number of infected = 0\n",
      "2020-07-23 18:15:49,992 - june.simulator - INFO - Date = 2020-09-15 04:00:00, number of deaths =  14, number of infected = 0\n",
      "2020-07-23 18:15:50,117 - june.simulator - INFO - Date = 2020-09-15 06:00:00, number of deaths =  14, number of infected = 0\n",
      "2020-07-23 18:15:50,215 - june.simulator - INFO - Date = 2020-09-15 08:00:00, number of deaths =  14, number of infected = 0\n",
      "2020-07-23 18:15:50,295 - june.simulator - INFO - Date = 2020-09-15 10:00:00, number of deaths =  14, number of infected = 0\n",
      "2020-07-23 18:15:50,397 - june.simulator - INFO - Date = 2020-09-16 00:00:00, number of deaths =  14, number of infected = 0\n",
      "2020-07-23 18:15:50,487 - june.simulator - INFO - Date = 2020-09-16 02:00:00, number of deaths =  14, number of infected = 0\n",
      "2020-07-23 18:15:50,594 - june.simulator - INFO - Date = 2020-09-16 04:00:00, number of deaths =  14, number of infected = 0\n",
      "2020-07-23 18:15:50,694 - june.simulator - INFO - Date = 2020-09-16 06:00:00, number of deaths =  14, number of infected = 0\n",
      "2020-07-23 18:15:50,871 - june.simulator - INFO - Date = 2020-09-16 08:00:00, number of deaths =  14, number of infected = 0\n",
      "2020-07-23 18:15:50,979 - june.simulator - INFO - Date = 2020-09-16 10:00:00, number of deaths =  14, number of infected = 0\n",
      "2020-07-23 18:15:51,057 - june.simulator - INFO - Date = 2020-09-17 00:00:00, number of deaths =  14, number of infected = 0\n",
      "2020-07-23 18:15:51,182 - june.simulator - INFO - Date = 2020-09-17 02:00:00, number of deaths =  14, number of infected = 0\n",
      "2020-07-23 18:15:51,277 - june.simulator - INFO - Date = 2020-09-17 04:00:00, number of deaths =  14, number of infected = 0\n",
      "2020-07-23 18:15:51,401 - june.simulator - INFO - Date = 2020-09-17 06:00:00, number of deaths =  14, number of infected = 0\n",
      "2020-07-23 18:15:51,501 - june.simulator - INFO - Date = 2020-09-17 08:00:00, number of deaths =  14, number of infected = 0\n",
      "2020-07-23 18:15:51,586 - june.simulator - INFO - Date = 2020-09-17 10:00:00, number of deaths =  14, number of infected = 0\n",
      "2020-07-23 18:15:51,700 - june.simulator - INFO - Date = 2020-09-18 00:00:00, number of deaths =  14, number of infected = 0\n",
      "2020-07-23 18:15:51,798 - june.simulator - INFO - Date = 2020-09-18 02:00:00, number of deaths =  14, number of infected = 0\n",
      "2020-07-23 18:15:51,922 - june.simulator - INFO - Date = 2020-09-18 04:00:00, number of deaths =  14, number of infected = 0\n",
      "2020-07-23 18:15:52,059 - june.simulator - INFO - Date = 2020-09-18 06:00:00, number of deaths =  14, number of infected = 0\n",
      "2020-07-23 18:15:52,160 - june.simulator - INFO - Date = 2020-09-18 08:00:00, number of deaths =  14, number of infected = 0\n",
      "2020-07-23 18:15:52,243 - june.simulator - INFO - Date = 2020-09-18 10:00:00, number of deaths =  14, number of infected = 0\n",
      "2020-07-23 18:15:52,357 - june.simulator - INFO - Date = 2020-09-19 00:00:00, number of deaths =  14, number of infected = 0\n",
      "2020-07-23 18:15:52,475 - june.simulator - INFO - Date = 2020-09-19 03:00:00, number of deaths =  14, number of infected = 0\n",
      "2020-07-23 18:15:52,603 - june.simulator - INFO - Date = 2020-09-19 05:00:00, number of deaths =  14, number of infected = 0\n",
      "2020-07-23 18:15:52,706 - june.simulator - INFO - Date = 2020-09-19 07:00:00, number of deaths =  14, number of infected = 0\n",
      "2020-07-23 18:15:52,804 - june.simulator - INFO - Date = 2020-09-19 09:00:00, number of deaths =  14, number of infected = 0\n",
      "2020-07-23 18:15:52,905 - june.simulator - INFO - Date = 2020-09-19 11:00:00, number of deaths =  14, number of infected = 0\n",
      "2020-07-23 18:15:53,021 - june.simulator - INFO - Date = 2020-09-20 00:00:00, number of deaths =  14, number of infected = 0\n",
      "2020-07-23 18:15:53,122 - june.simulator - INFO - Date = 2020-09-20 03:00:00, number of deaths =  14, number of infected = 0\n",
      "2020-07-23 18:15:53,235 - june.simulator - INFO - Date = 2020-09-20 05:00:00, number of deaths =  14, number of infected = 0\n",
      "2020-07-23 18:15:53,336 - june.simulator - INFO - Date = 2020-09-20 07:00:00, number of deaths =  14, number of infected = 0\n",
      "2020-07-23 18:15:53,455 - june.simulator - INFO - Date = 2020-09-20 09:00:00, number of deaths =  14, number of infected = 0\n",
      "2020-07-23 18:15:53,531 - june.simulator - INFO - Date = 2020-09-20 11:00:00, number of deaths =  14, number of infected = 0\n",
      "2020-07-23 18:15:53,643 - june.simulator - INFO - Date = 2020-09-21 00:00:00, number of deaths =  14, number of infected = 0\n",
      "CPU times: user 3min 1s, sys: 2.04 s, total: 3min 3s\n",
      "Wall time: 3min 4s\n"
     ]
    }
   ],
   "source": [
    "%%time\n",
    "simulator.run()"
   ]
  },
  {
   "cell_type": "markdown",
   "metadata": {},
   "source": [
    "# Getting the results"
   ]
  },
  {
   "cell_type": "markdown",
   "metadata": {},
   "source": [
    "All results are stored in a json file specified in the ``save_path`` variable in the config file. We can also access it from ``world.logger`` directly."
   ]
  },
  {
   "cell_type": "code",
   "execution_count": 46,
   "metadata": {},
   "outputs": [],
   "source": [
    "import pandas as pd\n",
    "read = ReadLogger(load_real=False)"
   ]
  },
  {
   "cell_type": "code",
   "execution_count": 47,
   "metadata": {},
   "outputs": [],
   "source": [
    "loc_df = read.get_locations_infections()"
   ]
  },
  {
   "cell_type": "code",
   "execution_count": 48,
   "metadata": {},
   "outputs": [
    {
     "data": {
      "text/plain": [
       "Text(0.5, 0, 'location')"
      ]
     },
     "execution_count": 48,
     "metadata": {},
     "output_type": "execute_result"
    },
    {
     "data": {
      "image/png": "[encoded data removed]",
      "text/plain": [
       "<Figure size 432x288 with 1 Axes>"
      ]
     },
     "metadata": {
      "needs_background": "light"
     },
     "output_type": "display_data"
    }
   ],
   "source": [
    "import matplotlib.ticker as mtick\n",
    "\n",
    "ax = loc_df['percentage_infections'].sort_values().plot.bar()\n",
    "ax.yaxis.set_major_formatter(mtick.PercentFormatter())\n",
    "plt.ylabel('Percentage of infections at location')\n",
    "plt.xlabel('location')"
   ]
  },
  {
   "cell_type": "code",
   "execution_count": 49,
   "metadata": {},
   "outputs": [
    {
     "data": {
      "text/plain": [
       "<matplotlib.legend.Legend at 0x7f5ca234d1f0>"
      ]
     },
     "execution_count": 49,
     "metadata": {},
     "output_type": "execute_result"
    },
    {
     "data": {
      "image/png": "[encoded data removed]",
      "text/plain": [
       "<Figure size 432x288 with 1 Axes>"
      ]
     },
     "metadata": {
      "needs_background": "light"
     },
     "output_type": "display_data"
    }
   ],
   "source": [
    "world_df = read.world_summary()\n",
    "world_df.plot()\n",
    "#plt.axvspan(policies.social_distancing_start, \n",
    "#            policies.social_distancing_end,\n",
    "#            facecolor='y', alpha=0.2)\n",
    "plt.legend()"
   ]
  }
 ],
 "metadata": {
  "kernelspec": {
   "display_name": "env",
   "language": "python",
   "name": "env"
  },
  "language_info": {
   "codemirror_mode": {
    "name": "ipython",
    "version": 3
   },
   "file_extension": ".py",
   "mimetype": "text/x-python",
   "name": "python",
   "nbconvert_exporter": "python",
   "pygments_lexer": "ipython3",
   "version": "3.8.3"
  }
 },
 "nbformat": 4,
 "nbformat_minor": 4
}
