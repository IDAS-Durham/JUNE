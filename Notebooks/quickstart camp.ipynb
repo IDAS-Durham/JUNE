{
 "cells": [
  {
   "cell_type": "code",
   "execution_count": 1,
   "metadata": {},
   "outputs": [],
   "source": [
    "%load_ext autoreload\n",
    "%autoreload 2"
   ]
  },
  {
   "cell_type": "code",
   "execution_count": 2,
   "metadata": {},
   "outputs": [],
   "source": [
    "import warnings\n",
    "warnings.filterwarnings('ignore')"
   ]
  },
  {
   "cell_type": "code",
   "execution_count": 3,
   "metadata": {},
   "outputs": [],
   "source": [
    "import numpy as np\n",
    "import matplotlib.pyplot as plt \n",
    "import pandas as pd\n",
    "import time\n",
    "import matplotlib.pyplot as plt\n",
    "import seaborn as sns\n",
    "from datetime import datetime\n",
    "import sys\n",
    "sys.path.append(\"../camp_scripts\") # change accordingly\n",
    "sns.set_context('notebook')"
   ]
  },
  {
   "cell_type": "code",
   "execution_count": 4,
   "metadata": {},
   "outputs": [
    {
     "name": "stderr",
     "output_type": "stream",
     "text": [
      "No --data argument given - defaulting to:\n",
      "/home/florpi/camps/JUNE/data\n",
      "No --configs argument given - defaulting to:\n",
      "/home/florpi/camps/JUNE/configs\n"
     ]
    },
    {
     "name": "stdout",
     "output_type": "stream",
     "text": [
      "2020-09-01 19:30:16,227 - camps.paths - WARNING - No --data argument given - defaulting to:\n",
      "/home/florpi/camps/JUNE/data\n",
      "2020-09-01 19:30:16,227 - camps.paths - WARNING - No --configs argument given - defaulting to:\n",
      "/home/florpi/camps/JUNE/configs\n",
      "2020-09-01 19:30:16,228 - camps.paths - WARNING - No --camp_data argument given - defaulting to:\n",
      "/home/florpi/camps/JUNE/camp_data\n",
      "2020-09-01 19:30:16,229 - camps.paths - WARNING - No --configs_camps argument given - defaulting to:\n",
      "/home/florpi/camps/JUNE/configs_camps\n"
     ]
    }
   ],
   "source": [
    "from june.demography.geography import Geography\n",
    "from june.demography.demography import load_age_and_sex_generators_for_bins, Demography, Population\n",
    "from june.paths import data_path\n",
    "from june.infection_seed import InfectionSeed\n",
    "from june.simulator import Simulator\n",
    "from june.infection import InfectionSelector\n",
    "from june.interaction import Interaction\n",
    "from june.groups import Hospital, Hospitals\n",
    "from june.distributors import HospitalDistributor\n",
    "from june.hdf5_savers import generate_world_from_hdf5\n",
    "from june.groups import Cemeteries\n",
    "from june.policy import Policy, Policies\n",
    "from june.logger.read_logger import ReadLogger\n",
    "\n",
    "from camps.paths import camp_data_path\n",
    "from camps.world import World\n",
    "from camps.groups.leisure import generate_leisure_for_world, generate_leisure_for_config\n",
    "from camp_creation import generate_empty_world, populate_world, distribute_people_to_households # this is loaded from the ../camp_scripts folder"
   ]
  },
  {
   "cell_type": "code",
   "execution_count": 5,
   "metadata": {},
   "outputs": [],
   "source": [
    "from camps.groups import PumpLatrines, PumpLatrineDistributor\n",
    "from camps.groups import DistributionCenters, DistributionCenterDistributor\n",
    "from camps.groups import Communals, CommunalDistributor\n",
    "from camps.groups import FemaleCommunals, FemaleCommunalDistributor\n",
    "from camps.groups import Religiouss, ReligiousDistributor\n",
    "from camps.groups import Shelter, Shelters, ShelterDistributor\n",
    "from camps.groups import IsolationUnit, IsolationUnits\n",
    "from june.groups.leisure import HouseholdVisitsDistributor\n",
    "from camps.groups import PlayGroups, PlayGroupDistributor"
   ]
  },
  {
   "cell_type": "markdown",
   "metadata": {},
   "source": [
    "## Initialize the world"
   ]
  },
  {
   "cell_type": "code",
   "execution_count": 6,
   "metadata": {},
   "outputs": [
    {
     "name": "stdout",
     "output_type": "stream",
     "text": [
      "2020-09-01 19:30:16,396 - june.demography.geography - INFO - There are 65 areas and 4 super_areas in the world.\n"
     ]
    }
   ],
   "source": [
    "# create empty world's geography\n",
    "world = generate_empty_world(filter_key = {\"region\" : [\"CXB-219\"]})"
   ]
  },
  {
   "cell_type": "code",
   "execution_count": 7,
   "metadata": {},
   "outputs": [],
   "source": [
    "# populate empty world\n",
    "populate_world(world)"
   ]
  },
  {
   "cell_type": "code",
   "execution_count": 8,
   "metadata": {},
   "outputs": [],
   "source": [
    "# distribute people to households\n",
    "distribute_people_to_households(world)"
   ]
  },
  {
   "cell_type": "code",
   "execution_count": 9,
   "metadata": {},
   "outputs": [
    {
     "name": "stdout",
     "output_type": "stream",
     "text": [
      "2020-09-01 19:30:17,132 - june.groups.hospital - INFO - There are 8 hospitals in the world.\n"
     ]
    }
   ],
   "source": [
    "# this is not working\n",
    "hospitals= Hospitals.from_file(\n",
    "    filename=camp_data_path / 'input/hospitals/hospitals.csv'\n",
    ")\n",
    "world.hospitals = hospitals\n",
    "for hospital in world.hospitals:\n",
    "    hospital.super_area = world.super_areas.members[0]\n",
    "hospital_distributor = HospitalDistributor(hospitals, \n",
    "                                           medic_min_age=20,\n",
    "                                           patients_per_medic=10)\n",
    "\n",
    "hospital_distributor.distribute_medics_from_world(world.people)\n",
    "world.isolation_units = IsolationUnits([IsolationUnit()])"
   ]
  },
  {
   "cell_type": "code",
   "execution_count": 10,
   "metadata": {},
   "outputs": [],
   "source": [
    "world.pump_latrines = PumpLatrines.for_areas(world.areas)\n",
    "world.distribution_centers = DistributionCenters.for_areas(world.areas)\n",
    "world.communals = Communals.for_areas(world.areas)\n",
    "world.female_communals = FemaleCommunals.for_areas(world.areas)\n",
    "world.religiouss = Religiouss.for_areas(world.areas)\n",
    "world.play_groups = PlayGroups.for_areas(world.areas)"
   ]
  },
  {
   "cell_type": "code",
   "execution_count": 11,
   "metadata": {},
   "outputs": [],
   "source": [
    "#world.box_mode = False\n",
    "world.cemeteries = Cemeteries()"
   ]
  },
  {
   "cell_type": "markdown",
   "metadata": {},
   "source": [
    "## Geography exploration"
   ]
  },
  {
   "cell_type": "markdown",
   "metadata": {},
   "source": [
    "### UNHCR camp blocks inside the World"
   ]
  },
  {
   "cell_type": "code",
   "execution_count": 12,
   "metadata": {},
   "outputs": [],
   "source": [
    "super_areas = []\n",
    "for super_area in world.super_areas:\n",
    "    super_areas.append(super_area.name)"
   ]
  },
  {
   "cell_type": "code",
   "execution_count": 13,
   "metadata": {},
   "outputs": [
    {
     "data": {
      "text/plain": [
       "['CXB-219-A', 'CXB-219-B', 'CXB-219-C', 'CXB-219-D']"
      ]
     },
     "execution_count": 13,
     "metadata": {},
     "output_type": "execute_result"
    }
   ],
   "source": [
    "super_areas[:5]"
   ]
  },
  {
   "cell_type": "markdown",
   "metadata": {},
   "source": [
    "### Mahjee blocks inside World"
   ]
  },
  {
   "cell_type": "code",
   "execution_count": 14,
   "metadata": {},
   "outputs": [],
   "source": [
    "areas = []\n",
    "for area in world.areas:\n",
    "    areas.append(area.name)"
   ]
  },
  {
   "cell_type": "code",
   "execution_count": 15,
   "metadata": {},
   "outputs": [
    {
     "data": {
      "text/plain": [
       "['CXB-219-062', 'CXB-219-063', 'CXB-219-061', 'CXB-219-060', 'CXB-219-065']"
      ]
     },
     "execution_count": 15,
     "metadata": {},
     "output_type": "execute_result"
    }
   ],
   "source": [
    "areas[:5]"
   ]
  },
  {
   "cell_type": "markdown",
   "metadata": {},
   "source": [
    "## Demography exploration"
   ]
  },
  {
   "cell_type": "markdown",
   "metadata": {},
   "source": [
    "### UNHCR block residents"
   ]
  },
  {
   "cell_type": "code",
   "execution_count": 16,
   "metadata": {},
   "outputs": [],
   "source": [
    "sample_ages = []\n",
    "sample_sexes = []\n",
    "for person in world.super_areas.members[0].people:\n",
    "    sample_ages.append(person.age)\n",
    "    sample_sexes.append(person.sex)"
   ]
  },
  {
   "cell_type": "code",
   "execution_count": 17,
   "metadata": {},
   "outputs": [
    {
     "data": {
      "text/plain": [
       "(['f', 'm', 'f', 'f', 'm'], [45, 34, 24, 45, 41])"
      ]
     },
     "execution_count": 17,
     "metadata": {},
     "output_type": "execute_result"
    }
   ],
   "source": [
    "sample_sexes[:5], sample_ages[:5]"
   ]
  },
  {
   "cell_type": "code",
   "execution_count": 18,
   "metadata": {},
   "outputs": [
    {
     "data": {
      "image/png": "[encoded data removed]",
      "text/plain": [
       "<Figure size 432x288 with 1 Axes>"
      ]
     },
     "metadata": {
      "needs_background": "light"
     },
     "output_type": "display_data"
    }
   ],
   "source": [
    "ages, counts = np.unique(sample_ages, return_counts=True)\n",
    "plt.bar(ages, counts)\n",
    "plt.title('super area: {} age distribution'.format(world.super_areas.members[0].name))\n",
    "plt.show()"
   ]
  },
  {
   "cell_type": "code",
   "execution_count": 19,
   "metadata": {},
   "outputs": [
    {
     "name": "stdout",
     "output_type": "stream",
     "text": [
      "The % children between ages 0-16 is 49.0%\n"
     ]
    }
   ],
   "source": [
    "print ('The % children between ages 0-16 is {}%'.format(round(np.sum(counts[:16])/(np.sum(counts[:16])+np.sum(counts[16:]))*100)))"
   ]
  },
  {
   "cell_type": "markdown",
   "metadata": {},
   "source": [
    "## Households"
   ]
  },
  {
   "cell_type": "markdown",
   "metadata": {},
   "source": [
    "### Household size distribution"
   ]
  },
  {
   "cell_type": "code",
   "execution_count": 20,
   "metadata": {},
   "outputs": [
    {
     "data": {
      "image/png": "[encoded data removed]",
      "text/plain": [
       "<Figure size 432x288 with 1 Axes>"
      ]
     },
     "metadata": {
      "needs_background": "light"
     },
     "output_type": "display_data"
    }
   ],
   "source": [
    "household_sizes = [household.size for household in world.households]\n",
    "plt.hist(household_sizes, density=True, bins=np.arange(0,12))\n",
    "plt.xlabel(\"Household size\")\n",
    "plt.ylabel(\"Frequency\")\n",
    "plt.axvline(np.mean(household_sizes), color=\"cyan\")\n",
    "plt.text(8, 0.150, f\"Avg. size: {(np.mean(household_sizes)):.2f}\")\n",
    "plt.show()"
   ]
  },
  {
   "cell_type": "markdown",
   "metadata": {},
   "source": [
    "# Shelters"
   ]
  },
  {
   "cell_type": "code",
   "execution_count": 21,
   "metadata": {},
   "outputs": [],
   "source": [
    "world.shelters = Shelters.for_areas(world.areas)\n",
    "shelter_distributor = ShelterDistributor(sharing_shelter_ratio = 0.75) # proportion of families that share a shelter\n",
    "for area in world.areas:\n",
    "    shelter_distributor.distribute_people_in_shelters(area.shelters, area.households)"
   ]
  },
  {
   "cell_type": "code",
   "execution_count": 22,
   "metadata": {},
   "outputs": [
    {
     "data": {
      "image/png": "[encoded data removed]",
      "text/plain": [
       "<Figure size 576x216 with 2 Axes>"
      ]
     },
     "metadata": {
      "needs_background": "light"
     },
     "output_type": "display_data"
    }
   ],
   "source": [
    "fig, ax = plt.subplots(1, 2, figsize=(8,3))\n",
    "shelter_sizes = [shelter.size for shelter in world.shelters]\n",
    "shelter_families = [shelter.n_families for shelter in world.shelters]\n",
    "ax[0].hist(shelter_sizes)\n",
    "ax[0].set_title(\"Shelter size\")\n",
    "shelter_families = {1 : len([shelter for shelter in world.shelters if shelter.n_families == 1]),\n",
    "                    2 : len([shelter for shelter in world.shelters if shelter.n_families == 2])}\n",
    "ax[1].bar(shelter_families.keys(), shelter_families.values())\n",
    "ax[1].set_title(\"# families per shelter\")\n",
    "plt.show()"
   ]
  },
  {
   "cell_type": "markdown",
   "metadata": {},
   "source": [
    "## Activity exploration"
   ]
  },
  {
   "cell_type": "markdown",
   "metadata": {},
   "source": [
    "### Pumps and latrines "
   ]
  },
  {
   "cell_type": "code",
   "execution_count": 23,
   "metadata": {},
   "outputs": [],
   "source": [
    "pumps_and_latrines = []\n",
    "for pump_latrine in world.areas.members[0].pump_latrines:\n",
    "    pumps_and_latrines.append(pump_latrine)"
   ]
  },
  {
   "cell_type": "code",
   "execution_count": 24,
   "metadata": {},
   "outputs": [
    {
     "name": "stdout",
     "output_type": "stream",
     "text": [
      "There are 3 pumps and latrines in area CXB-219-062\n"
     ]
    }
   ],
   "source": [
    "print ('There are {} pumps and latrines in area {}'.format(len(pumps_and_latrines), world.areas.members[0].name))"
   ]
  },
  {
   "cell_type": "markdown",
   "metadata": {},
   "source": [
    "### Distribution centers"
   ]
  },
  {
   "cell_type": "code",
   "execution_count": 25,
   "metadata": {},
   "outputs": [],
   "source": [
    "distribution_centers = []\n",
    "for center in world.distribution_centers:\n",
    "    distribution_centers.append(center)"
   ]
  },
  {
   "cell_type": "code",
   "execution_count": 26,
   "metadata": {},
   "outputs": [
    {
     "data": {
      "text/plain": [
       "array([21.1962 , 92.14936])"
      ]
     },
     "execution_count": 26,
     "metadata": {},
     "output_type": "execute_result"
    }
   ],
   "source": [
    "distribution_centers[0].coordinates"
   ]
  },
  {
   "cell_type": "markdown",
   "metadata": {},
   "source": [
    "### Communal spaces"
   ]
  },
  {
   "cell_type": "code",
   "execution_count": 27,
   "metadata": {},
   "outputs": [],
   "source": [
    "communal_spaces = []\n",
    "for space in world.communals:\n",
    "    communal_spaces.append(space)"
   ]
  },
  {
   "cell_type": "code",
   "execution_count": 28,
   "metadata": {},
   "outputs": [
    {
     "data": {
      "text/plain": [
       "array([21.19621, 92.14924])"
      ]
     },
     "execution_count": 28,
     "metadata": {},
     "output_type": "execute_result"
    }
   ],
   "source": [
    "communal_spaces[0].coordinates"
   ]
  },
  {
   "cell_type": "markdown",
   "metadata": {},
   "source": [
    "### Female friendly communal spaces"
   ]
  },
  {
   "cell_type": "code",
   "execution_count": 29,
   "metadata": {},
   "outputs": [],
   "source": [
    "female_communal_spaces = []\n",
    "for space in world.female_communals:\n",
    "    female_communal_spaces.append(space)"
   ]
  },
  {
   "cell_type": "code",
   "execution_count": 30,
   "metadata": {},
   "outputs": [
    {
     "data": {
      "text/plain": [
       "array([21.19588, 92.152  ])"
      ]
     },
     "execution_count": 30,
     "metadata": {},
     "output_type": "execute_result"
    }
   ],
   "source": [
    "female_communal_spaces[0].coordinates"
   ]
  },
  {
   "cell_type": "markdown",
   "metadata": {},
   "source": [
    "### Religious sites"
   ]
  },
  {
   "cell_type": "code",
   "execution_count": 31,
   "metadata": {},
   "outputs": [],
   "source": [
    "religious = []\n",
    "for rel in world.religiouss:\n",
    "    religious.append(rel)"
   ]
  },
  {
   "cell_type": "code",
   "execution_count": 32,
   "metadata": {},
   "outputs": [
    {
     "data": {
      "text/plain": [
       "array([21.20069, 92.15216])"
      ]
     },
     "execution_count": 32,
     "metadata": {},
     "output_type": "execute_result"
    }
   ],
   "source": [
    "religious[0].coordinates"
   ]
  },
  {
   "cell_type": "markdown",
   "metadata": {},
   "source": [
    "# Adding the infection"
   ]
  },
  {
   "cell_type": "code",
   "execution_count": 33,
   "metadata": {},
   "outputs": [],
   "source": [
    "selector = InfectionSelector.from_file()"
   ]
  },
  {
   "cell_type": "markdown",
   "metadata": {},
   "source": [
    "# Adding the interaction"
   ]
  },
  {
   "cell_type": "code",
   "execution_count": 34,
   "metadata": {},
   "outputs": [],
   "source": [
    "interaction = Interaction.from_file(config_filename='../configs_camps/defaults/interaction/ContactInteraction.yaml')"
   ]
  },
  {
   "cell_type": "markdown",
   "metadata": {},
   "source": [
    "# Set policies"
   ]
  },
  {
   "cell_type": "code",
   "execution_count": 35,
   "metadata": {},
   "outputs": [],
   "source": [
    "policies = Policies.from_file('../configs_camps/defaults/policy/home_care_policy.yaml', base_policy_modules=('june.policy', 'camps.policy'))"
   ]
  },
  {
   "cell_type": "code",
   "execution_count": 36,
   "metadata": {},
   "outputs": [
    {
     "data": {
      "text/plain": [
       "[<june.policy.interaction_policies.SocialDistancing at 0x7fe92f9a6be0>,\n",
       " <june.policy.medical_care_policies.Hospitalisation at 0x7fe92f9a6d60>,\n",
       " <june.policy.individual_policies.SevereSymptomsStayHome at 0x7fe92cf8ba60>,\n",
       " <june.policy.individual_policies.Quarantine at 0x7fe92cf8b8b0>]"
      ]
     },
     "execution_count": 36,
     "metadata": {},
     "output_type": "execute_result"
    }
   ],
   "source": [
    "policies.policies"
   ]
  },
  {
   "cell_type": "markdown",
   "metadata": {},
   "source": [
    "# Seed the disease"
   ]
  },
  {
   "cell_type": "code",
   "execution_count": 37,
   "metadata": {},
   "outputs": [],
   "source": [
    "seed = InfectionSeed(world.super_areas,\n",
    "           selector)\n",
    "\n",
    "seed.unleash_virus(n_cases=5)"
   ]
  },
  {
   "cell_type": "markdown",
   "metadata": {},
   "source": [
    "# Init leisure"
   ]
  },
  {
   "cell_type": "code",
   "execution_count": 38,
   "metadata": {},
   "outputs": [
    {
     "name": "stdout",
     "output_type": "stream",
     "text": [
      "2020-09-01 19:30:20,209 - june.groups.leisure.leisure - INFO - Distributing social venues to households\n",
      "2020-09-01 19:30:20,209 - june.groups.leisure.leisure - INFO - Distributed in 0 of 3315 households.\n"
     ]
    },
    {
     "data": {
      "text/plain": [
       "{'pump_latrines': <camps.groups.pump_latrine.PumpLatrineDistributor at 0x7fe92cf60250>,\n",
       " 'distribution_centers': <camps.groups.distribution_center.DistributionCenterDistributor at 0x7fe92cf601f0>,\n",
       " 'communals': <camps.groups.communal.CommunalDistributor at 0x7fe92cd8fdc0>,\n",
       " 'female_communals': <camps.groups.female_communal.FemaleCommunalDistributor at 0x7fe92cd8f1f0>,\n",
       " 'play_groups': <camps.groups.play_group.PlayGroupDistributor at 0x7fe92cd8f310>}"
      ]
     },
     "execution_count": 38,
     "metadata": {},
     "output_type": "execute_result"
    }
   ],
   "source": [
    "CONFIG_PATH = \"../configs_camps/config_example.yaml\"\n",
    "\n",
    "leisure_instance = generate_leisure_for_config(\n",
    "            world=world, config_filename=CONFIG_PATH\n",
    ")\n",
    "leisure_instance.leisure_distributors = {}\n",
    "leisure_instance.leisure_distributors['pump_latrines'] = PumpLatrineDistributor.from_config(pump_latrines=world.pump_latrines)\n",
    "leisure_instance.leisure_distributors['distribution_centers'] = DistributionCenterDistributor.from_config(distribution_centers=world.distribution_centers)\n",
    "leisure_instance.leisure_distributors['communals'] = CommunalDistributor.from_config(communals=world.communals)\n",
    "leisure_instance.leisure_distributors['female_communals'] = FemaleCommunalDistributor.from_config(female_communals=world.female_communals)\n",
    "leisure_instance.leisure_distributors['play_groups'] = PlayGroupDistributor.from_config(play_groups=world.play_groups)\n",
    "\n",
    "#associate social activities to shelters\n",
    "leisure_instance.distribute_social_venues_to_households(world.shelters, world.super_areas)\n",
    "leisure_instance.leisure_distributors"
   ]
  },
  {
   "cell_type": "markdown",
   "metadata": {},
   "source": [
    "# Initialize simulator and run"
   ]
  },
  {
   "cell_type": "code",
   "execution_count": 39,
   "metadata": {},
   "outputs": [
    {
     "name": "stdout",
     "output_type": "stream",
     "text": [
      "[<june.groups.hospital.Hospitals object at 0x7fe93e88ceb0>, <camps.groups.isolation_unit.IsolationUnits object at 0x7fe9309a8130>]\n"
     ]
    }
   ],
   "source": [
    "simulator = Simulator.from_file(\n",
    "    world = world,\n",
    "    interaction = interaction,\n",
    "    infection_selector=selector,\n",
    "    leisure = leisure_instance,\n",
    "    policies=policies,\n",
    "    config_filename = CONFIG_PATH\n",
    ")"
   ]
  },
  {
   "cell_type": "code",
   "execution_count": 40,
   "metadata": {
    "scrolled": true
   },
   "outputs": [
    {
     "name": "stdout",
     "output_type": "stream",
     "text": [
      "2020-09-01 19:30:22,128 - june.simulator - INFO - Starting group_dynamics for 120 days at day 0\n",
      "2020-09-01 19:30:22,129 - june.simulator - INFO - starting the loop ..., at 0 days, to run for 120 days\n",
      "2020-09-01 19:30:22,313 - june.simulator - INFO - Date = 2020-05-24 00:00:00, number of deaths =  0, number of infected = 5\n",
      "2020-09-01 19:30:22,955 - june.simulator - INFO - Date = 2020-05-24 03:00:00, number of deaths =  0, number of infected = 5\n",
      "2020-09-01 19:30:23,227 - june.simulator - INFO - Date = 2020-05-24 05:00:00, number of deaths =  0, number of infected = 5\n",
      "2020-09-01 19:30:23,478 - june.simulator - INFO - Date = 2020-05-24 07:00:00, number of deaths =  0, number of infected = 5\n",
      "2020-09-01 19:30:23,740 - june.simulator - INFO - Date = 2020-05-24 09:00:00, number of deaths =  0, number of infected = 5\n",
      "2020-09-01 19:30:23,891 - june.simulator - INFO - Date = 2020-05-24 11:00:00, number of deaths =  0, number of infected = 5\n",
      "2020-09-01 19:30:24,040 - june.simulator - INFO - Date = 2020-05-25 00:00:00, number of deaths =  0, number of infected = 7\n",
      "2020-09-01 19:30:24,280 - june.simulator - INFO - Date = 2020-05-25 02:00:00, number of deaths =  0, number of infected = 7\n",
      "2020-09-01 19:30:24,523 - june.simulator - INFO - Date = 2020-05-25 04:00:00, number of deaths =  0, number of infected = 10\n",
      "2020-09-01 19:30:24,866 - june.simulator - INFO - Date = 2020-05-25 06:00:00, number of deaths =  0, number of infected = 12\n",
      "2020-09-01 19:30:25,131 - june.simulator - INFO - Date = 2020-05-25 08:00:00, number of deaths =  0, number of infected = 13\n",
      "2020-09-01 19:30:25,278 - june.simulator - INFO - Date = 2020-05-25 10:00:00, number of deaths =  0, number of infected = 13\n",
      "2020-09-01 19:30:25,409 - june.simulator - INFO - Date = 2020-05-26 00:00:00, number of deaths =  0, number of infected = 18\n",
      "2020-09-01 19:30:25,662 - june.simulator - INFO - Date = 2020-05-26 02:00:00, number of deaths =  0, number of infected = 18\n",
      "2020-09-01 19:30:26,114 - june.simulator - INFO - Date = 2020-05-26 04:00:00, number of deaths =  0, number of infected = 18\n",
      "2020-09-01 19:30:26,349 - june.simulator - INFO - Date = 2020-05-26 06:00:00, number of deaths =  0, number of infected = 18\n",
      "2020-09-01 19:30:26,812 - june.simulator - INFO - Date = 2020-05-26 08:00:00, number of deaths =  0, number of infected = 20\n",
      "2020-09-01 19:30:27,081 - june.simulator - INFO - Date = 2020-05-26 10:00:00, number of deaths =  0, number of infected = 21\n",
      "2020-09-01 19:30:27,218 - june.simulator - INFO - Date = 2020-05-27 00:00:00, number of deaths =  0, number of infected = 25\n",
      "2020-09-01 19:30:27,459 - june.simulator - INFO - Date = 2020-05-27 02:00:00, number of deaths =  0, number of infected = 27\n",
      "2020-09-01 19:30:27,714 - june.simulator - INFO - Date = 2020-05-27 04:00:00, number of deaths =  0, number of infected = 31\n",
      "2020-09-01 19:30:28,070 - june.simulator - INFO - Date = 2020-05-27 06:00:00, number of deaths =  0, number of infected = 32\n",
      "2020-09-01 19:30:28,411 - june.simulator - INFO - Date = 2020-05-27 08:00:00, number of deaths =  0, number of infected = 32\n",
      "2020-09-01 19:30:28,708 - june.simulator - INFO - Date = 2020-05-27 10:00:00, number of deaths =  0, number of infected = 33\n",
      "2020-09-01 19:30:28,848 - june.simulator - INFO - Date = 2020-05-28 00:00:00, number of deaths =  0, number of infected = 40\n",
      "2020-09-01 19:30:29,089 - june.simulator - INFO - Date = 2020-05-28 02:00:00, number of deaths =  0, number of infected = 40\n",
      "2020-09-01 19:30:29,310 - june.simulator - INFO - Date = 2020-05-28 04:00:00, number of deaths =  0, number of infected = 40\n",
      "2020-09-01 19:30:29,685 - june.simulator - INFO - Date = 2020-05-28 06:00:00, number of deaths =  0, number of infected = 42\n",
      "2020-09-01 19:30:29,950 - june.simulator - INFO - Date = 2020-05-28 08:00:00, number of deaths =  0, number of infected = 45\n",
      "2020-09-01 19:30:30,111 - june.simulator - INFO - Date = 2020-05-28 10:00:00, number of deaths =  0, number of infected = 49\n",
      "2020-09-01 19:30:30,267 - june.simulator - INFO - Date = 2020-05-29 00:00:00, number of deaths =  0, number of infected = 56\n",
      "2020-09-01 19:30:30,531 - june.simulator - INFO - Date = 2020-05-29 02:00:00, number of deaths =  0, number of infected = 57\n",
      "2020-09-01 19:30:30,802 - june.simulator - INFO - Date = 2020-05-29 04:00:00, number of deaths =  0, number of infected = 62\n",
      "2020-09-01 19:30:31,066 - june.simulator - INFO - Date = 2020-05-29 06:00:00, number of deaths =  0, number of infected = 64\n",
      "2020-09-01 19:30:31,325 - june.simulator - INFO - Date = 2020-05-29 08:00:00, number of deaths =  0, number of infected = 64\n",
      "2020-09-01 19:30:31,468 - june.simulator - INFO - Date = 2020-05-29 10:00:00, number of deaths =  0, number of infected = 65\n",
      "2020-09-01 19:30:31,612 - june.simulator - INFO - Date = 2020-05-30 00:00:00, number of deaths =  0, number of infected = 68\n",
      "2020-09-01 19:30:31,908 - june.simulator - INFO - Date = 2020-05-30 03:00:00, number of deaths =  0, number of infected = 71\n",
      "2020-09-01 19:30:32,350 - june.simulator - INFO - Date = 2020-05-30 05:00:00, number of deaths =  0, number of infected = 74\n",
      "2020-09-01 19:30:32,708 - june.simulator - INFO - Date = 2020-05-30 07:00:00, number of deaths =  0, number of infected = 81\n",
      "2020-09-01 19:30:33,007 - june.simulator - INFO - Date = 2020-05-30 09:00:00, number of deaths =  0, number of infected = 84\n",
      "2020-09-01 19:30:33,170 - june.simulator - INFO - Date = 2020-05-30 11:00:00, number of deaths =  0, number of infected = 88\n",
      "2020-09-01 19:30:33,369 - june.simulator - INFO - Date = 2020-05-31 00:00:00, number of deaths =  0, number of infected = 105\n",
      "2020-09-01 19:30:33,764 - june.simulator - INFO - Date = 2020-05-31 03:00:00, number of deaths =  0, number of infected = 106\n",
      "2020-09-01 19:30:34,010 - june.simulator - INFO - Date = 2020-05-31 05:00:00, number of deaths =  0, number of infected = 112\n",
      "2020-09-01 19:30:34,326 - june.simulator - INFO - Date = 2020-05-31 07:00:00, number of deaths =  0, number of infected = 119\n",
      "2020-09-01 19:30:34,581 - june.simulator - INFO - Date = 2020-05-31 09:00:00, number of deaths =  0, number of infected = 122\n",
      "2020-09-01 19:30:34,719 - june.simulator - INFO - Date = 2020-05-31 11:00:00, number of deaths =  0, number of infected = 126\n",
      "2020-09-01 19:30:34,865 - june.simulator - INFO - Date = 2020-06-01 00:00:00, number of deaths =  0, number of infected = 146\n",
      "2020-09-01 19:30:35,122 - june.simulator - INFO - Date = 2020-06-01 02:00:00, number of deaths =  0, number of infected = 149\n",
      "2020-09-01 19:30:35,349 - june.simulator - INFO - Date = 2020-06-01 04:00:00, number of deaths =  0, number of infected = 153\n",
      "2020-09-01 19:30:35,585 - june.simulator - INFO - Date = 2020-06-01 06:00:00, number of deaths =  0, number of infected = 165\n",
      "2020-09-01 19:30:35,818 - june.simulator - INFO - Date = 2020-06-01 08:00:00, number of deaths =  0, number of infected = 170\n",
      "2020-09-01 19:30:35,960 - june.simulator - INFO - Date = 2020-06-01 10:00:00, number of deaths =  0, number of infected = 174\n",
      "2020-09-01 19:30:36,103 - june.simulator - INFO - Date = 2020-06-02 00:00:00, number of deaths =  0, number of infected = 198\n",
      "2020-09-01 19:30:36,345 - june.simulator - INFO - Date = 2020-06-02 02:00:00, number of deaths =  0, number of infected = 201\n",
      "2020-09-01 19:30:36,586 - june.simulator - INFO - Date = 2020-06-02 04:00:00, number of deaths =  0, number of infected = 206\n",
      "2020-09-01 19:30:36,811 - june.simulator - INFO - Date = 2020-06-02 06:00:00, number of deaths =  0, number of infected = 209\n",
      "2020-09-01 19:30:37,051 - june.simulator - INFO - Date = 2020-06-02 08:00:00, number of deaths =  0, number of infected = 214\n",
      "2020-09-01 19:30:37,196 - june.simulator - INFO - Date = 2020-06-02 10:00:00, number of deaths =  0, number of infected = 228\n",
      "2020-09-01 19:30:37,344 - june.simulator - INFO - Date = 2020-06-03 00:00:00, number of deaths =  0, number of infected = 256\n",
      "2020-09-01 19:30:37,573 - june.simulator - INFO - Date = 2020-06-03 02:00:00, number of deaths =  0, number of infected = 265\n",
      "2020-09-01 19:30:37,820 - june.simulator - INFO - Date = 2020-06-03 04:00:00, number of deaths =  0, number of infected = 274\n",
      "2020-09-01 19:30:38,073 - june.simulator - INFO - Date = 2020-06-03 06:00:00, number of deaths =  0, number of infected = 284\n"
     ]
    },
    {
     "name": "stdout",
     "output_type": "stream",
     "text": [
      "2020-09-01 19:30:38,453 - june.simulator - INFO - Date = 2020-06-03 08:00:00, number of deaths =  0, number of infected = 300\n",
      "2020-09-01 19:30:38,601 - june.simulator - INFO - Date = 2020-06-03 10:00:00, number of deaths =  0, number of infected = 314\n",
      "2020-09-01 19:30:38,749 - june.simulator - INFO - Date = 2020-06-04 00:00:00, number of deaths =  0, number of infected = 349\n",
      "2020-09-01 19:30:38,992 - june.simulator - INFO - Date = 2020-06-04 02:00:00, number of deaths =  0, number of infected = 356\n",
      "2020-09-01 19:30:39,234 - june.simulator - INFO - Date = 2020-06-04 04:00:00, number of deaths =  0, number of infected = 377\n",
      "2020-09-01 19:30:39,470 - june.simulator - INFO - Date = 2020-06-04 06:00:00, number of deaths =  0, number of infected = 385\n",
      "2020-09-01 19:30:39,714 - june.simulator - INFO - Date = 2020-06-04 08:00:00, number of deaths =  0, number of infected = 395\n",
      "2020-09-01 19:30:39,859 - june.simulator - INFO - Date = 2020-06-04 10:00:00, number of deaths =  0, number of infected = 403\n",
      "2020-09-01 19:30:40,015 - june.simulator - INFO - Date = 2020-06-05 00:00:00, number of deaths =  0, number of infected = 446\n",
      "2020-09-01 19:30:40,248 - june.simulator - INFO - Date = 2020-06-05 02:00:00, number of deaths =  0, number of infected = 456\n",
      "2020-09-01 19:30:40,511 - june.simulator - INFO - Date = 2020-06-05 04:00:00, number of deaths =  0, number of infected = 487\n",
      "2020-09-01 19:30:40,760 - june.simulator - INFO - Date = 2020-06-05 06:00:00, number of deaths =  0, number of infected = 503\n",
      "2020-09-01 19:30:41,004 - june.simulator - INFO - Date = 2020-06-05 08:00:00, number of deaths =  0, number of infected = 526\n",
      "2020-09-01 19:30:41,170 - june.simulator - INFO - Date = 2020-06-05 10:00:00, number of deaths =  0, number of infected = 550\n",
      "2020-09-01 19:30:41,347 - june.simulator - INFO - Date = 2020-06-06 00:00:00, number of deaths =  0, number of infected = 626\n",
      "2020-09-01 19:30:41,619 - june.simulator - INFO - Date = 2020-06-06 03:00:00, number of deaths =  0, number of infected = 646\n",
      "2020-09-01 19:30:41,905 - june.simulator - INFO - Date = 2020-06-06 05:00:00, number of deaths =  0, number of infected = 679\n",
      "2020-09-01 19:30:42,203 - june.simulator - INFO - Date = 2020-06-06 07:00:00, number of deaths =  0, number of infected = 719\n",
      "2020-09-01 19:30:42,474 - june.simulator - INFO - Date = 2020-06-06 09:00:00, number of deaths =  0, number of infected = 740\n",
      "2020-09-01 19:30:42,641 - june.simulator - INFO - Date = 2020-06-06 11:00:00, number of deaths =  0, number of infected = 781\n",
      "2020-09-01 19:30:42,814 - june.simulator - INFO - Date = 2020-06-07 00:00:00, number of deaths =  0, number of infected = 871\n",
      "2020-09-01 19:30:43,096 - june.simulator - INFO - Date = 2020-06-07 03:00:00, number of deaths =  0, number of infected = 896\n",
      "2020-09-01 19:30:43,377 - june.simulator - INFO - Date = 2020-06-07 05:00:00, number of deaths =  0, number of infected = 948\n",
      "2020-09-01 19:30:43,651 - june.simulator - INFO - Date = 2020-06-07 07:00:00, number of deaths =  0, number of infected = 984\n",
      "2020-09-01 19:30:43,944 - june.simulator - INFO - Date = 2020-06-07 09:00:00, number of deaths =  0, number of infected = 1035\n",
      "2020-09-01 19:30:44,122 - june.simulator - INFO - Date = 2020-06-07 11:00:00, number of deaths =  0, number of infected = 1096\n",
      "2020-09-01 19:30:44,298 - june.simulator - INFO - Date = 2020-06-08 00:00:00, number of deaths =  0, number of infected = 1232\n",
      "2020-09-01 19:30:44,543 - june.simulator - INFO - Date = 2020-06-08 02:00:00, number of deaths =  0, number of infected = 1268\n",
      "2020-09-01 19:30:44,797 - june.simulator - INFO - Date = 2020-06-08 04:00:00, number of deaths =  0, number of infected = 1311\n",
      "2020-09-01 19:30:45,065 - june.simulator - INFO - Date = 2020-06-08 06:00:00, number of deaths =  0, number of infected = 1364\n",
      "2020-09-01 19:30:45,335 - june.simulator - INFO - Date = 2020-06-08 08:00:00, number of deaths =  0, number of infected = 1434\n",
      "2020-09-01 19:30:45,496 - june.simulator - INFO - Date = 2020-06-08 10:00:00, number of deaths =  0, number of infected = 1486\n",
      "2020-09-01 19:30:45,701 - june.simulator - INFO - Date = 2020-06-09 00:00:00, number of deaths =  0, number of infected = 1678\n",
      "2020-09-01 19:30:46,019 - june.simulator - INFO - Date = 2020-06-09 02:00:00, number of deaths =  0, number of infected = 1712\n",
      "2020-09-01 19:30:46,485 - june.simulator - INFO - Date = 2020-06-09 04:00:00, number of deaths =  0, number of infected = 1772\n",
      "2020-09-01 19:30:46,846 - june.simulator - INFO - Date = 2020-06-09 06:00:00, number of deaths =  0, number of infected = 1843\n",
      "2020-09-01 19:30:47,158 - june.simulator - INFO - Date = 2020-06-09 08:00:00, number of deaths =  0, number of infected = 1905\n",
      "2020-09-01 19:30:47,366 - june.simulator - INFO - Date = 2020-06-09 10:00:00, number of deaths =  0, number of infected = 1971\n",
      "2020-09-01 19:30:47,732 - june.simulator - INFO - Date = 2020-06-10 00:00:00, number of deaths =  0, number of infected = 2212\n",
      "2020-09-01 19:30:48,287 - june.simulator - INFO - Date = 2020-06-10 02:00:00, number of deaths =  0, number of infected = 2264\n",
      "2020-09-01 19:30:49,031 - june.simulator - INFO - Date = 2020-06-10 04:00:00, number of deaths =  0, number of infected = 2364\n",
      "2020-09-01 19:30:49,722 - june.simulator - INFO - Date = 2020-06-10 06:00:00, number of deaths =  0, number of infected = 2461\n",
      "2020-09-01 19:30:50,465 - june.simulator - INFO - Date = 2020-06-10 08:00:00, number of deaths =  0, number of infected = 2570\n",
      "2020-09-01 19:30:50,979 - june.simulator - INFO - Date = 2020-06-10 10:00:00, number of deaths =  0, number of infected = 2684\n",
      "2020-09-01 19:30:51,313 - june.simulator - INFO - Date = 2020-06-11 00:00:00, number of deaths =  0, number of infected = 3043\n",
      "2020-09-01 19:30:51,638 - june.simulator - INFO - Date = 2020-06-11 02:00:00, number of deaths =  0, number of infected = 3099\n",
      "2020-09-01 19:30:52,052 - june.simulator - INFO - Date = 2020-06-11 04:00:00, number of deaths =  0, number of infected = 3208\n",
      "2020-09-01 19:30:52,424 - june.simulator - INFO - Date = 2020-06-11 06:00:00, number of deaths =  0, number of infected = 3338\n",
      "2020-09-01 19:30:52,767 - june.simulator - INFO - Date = 2020-06-11 08:00:00, number of deaths =  0, number of infected = 3471\n",
      "2020-09-01 19:30:53,006 - june.simulator - INFO - Date = 2020-06-11 10:00:00, number of deaths =  0, number of infected = 3600\n",
      "2020-09-01 19:30:53,307 - june.simulator - INFO - Date = 2020-06-12 00:00:00, number of deaths =  0, number of infected = 4007\n",
      "2020-09-01 19:30:53,629 - june.simulator - INFO - Date = 2020-06-12 02:00:00, number of deaths =  0, number of infected = 4084\n",
      "2020-09-01 19:30:53,999 - june.simulator - INFO - Date = 2020-06-12 04:00:00, number of deaths =  0, number of infected = 4224\n",
      "2020-09-01 19:30:54,365 - june.simulator - INFO - Date = 2020-06-12 06:00:00, number of deaths =  0, number of infected = 4389\n",
      "2020-09-01 19:30:54,773 - june.simulator - INFO - Date = 2020-06-12 08:00:00, number of deaths =  0, number of infected = 4530\n",
      "2020-09-01 19:30:55,035 - june.simulator - INFO - Date = 2020-06-12 10:00:00, number of deaths =  0, number of infected = 4697\n",
      "2020-09-01 19:30:55,389 - june.simulator - INFO - Date = 2020-06-13 00:00:00, number of deaths =  0, number of infected = 5159\n",
      "2020-09-01 19:30:55,768 - june.simulator - INFO - Date = 2020-06-13 03:00:00, number of deaths =  0, number of infected = 5288\n",
      "2020-09-01 19:30:56,228 - june.simulator - INFO - Date = 2020-06-13 05:00:00, number of deaths =  0, number of infected = 5502\n",
      "2020-09-01 19:30:56,670 - june.simulator - INFO - Date = 2020-06-13 07:00:00, number of deaths =  0, number of infected = 5734\n",
      "2020-09-01 19:30:57,099 - june.simulator - INFO - Date = 2020-06-13 09:00:00, number of deaths =  0, number of infected = 5996\n",
      "2020-09-01 19:30:57,403 - june.simulator - INFO - Date = 2020-06-13 11:00:00, number of deaths =  0, number of infected = 6210\n",
      "2020-09-01 19:30:57,796 - june.simulator - INFO - Date = 2020-06-14 00:00:00, number of deaths =  0, number of infected = 6811\n",
      "2020-09-01 19:30:58,215 - june.simulator - INFO - Date = 2020-06-14 03:00:00, number of deaths =  0, number of infected = 6983\n",
      "2020-09-01 19:30:58,652 - june.simulator - INFO - Date = 2020-06-14 05:00:00, number of deaths =  0, number of infected = 7248\n"
     ]
    },
    {
     "name": "stdout",
     "output_type": "stream",
     "text": [
      "2020-09-01 19:30:59,079 - june.simulator - INFO - Date = 2020-06-14 07:00:00, number of deaths =  0, number of infected = 7537\n",
      "2020-09-01 19:30:59,504 - june.simulator - INFO - Date = 2020-06-14 09:00:00, number of deaths =  0, number of infected = 7830\n",
      "2020-09-01 19:30:59,813 - june.simulator - INFO - Date = 2020-06-14 11:00:00, number of deaths =  0, number of infected = 8102\n",
      "2020-09-01 19:31:00,412 - june.simulator - INFO - Date = 2020-06-15 00:00:00, number of deaths =  0, number of infected = 8836\n",
      "2020-09-01 19:31:00,996 - june.simulator - INFO - Date = 2020-06-15 02:00:00, number of deaths =  0, number of infected = 9032\n",
      "2020-09-01 19:31:01,566 - june.simulator - INFO - Date = 2020-06-15 04:00:00, number of deaths =  0, number of infected = 9292\n",
      "2020-09-01 19:31:02,051 - june.simulator - INFO - Date = 2020-06-15 06:00:00, number of deaths =  0, number of infected = 9539\n",
      "2020-09-01 19:31:02,508 - june.simulator - INFO - Date = 2020-06-15 08:00:00, number of deaths =  0, number of infected = 9815\n",
      "2020-09-01 19:31:02,880 - june.simulator - INFO - Date = 2020-06-15 10:00:00, number of deaths =  0, number of infected = 10113\n",
      "2020-09-01 19:31:03,512 - june.simulator - INFO - Date = 2020-06-16 00:00:00, number of deaths =  0, number of infected = 10991\n",
      "2020-09-01 19:31:03,924 - june.simulator - INFO - Date = 2020-06-16 02:00:00, number of deaths =  0, number of infected = 11160\n",
      "2020-09-01 19:31:04,438 - june.simulator - INFO - Date = 2020-06-16 04:00:00, number of deaths =  0, number of infected = 11421\n",
      "2020-09-01 19:31:05,038 - june.simulator - INFO - Date = 2020-06-16 06:00:00, number of deaths =  0, number of infected = 11711\n",
      "2020-09-01 19:31:05,535 - june.simulator - INFO - Date = 2020-06-16 08:00:00, number of deaths =  0, number of infected = 12003\n",
      "2020-09-01 19:31:05,931 - june.simulator - INFO - Date = 2020-06-16 10:00:00, number of deaths =  0, number of infected = 12278\n",
      "2020-09-01 19:31:06,495 - june.simulator - INFO - Date = 2020-06-17 00:00:00, number of deaths =  0, number of infected = 13184\n",
      "2020-09-01 19:31:06,944 - june.simulator - INFO - Date = 2020-06-17 02:00:00, number of deaths =  0, number of infected = 13373\n",
      "2020-09-01 19:31:07,412 - june.simulator - INFO - Date = 2020-06-17 04:00:00, number of deaths =  0, number of infected = 13630\n",
      "2020-09-01 19:31:07,900 - june.simulator - INFO - Date = 2020-06-17 06:00:00, number of deaths =  0, number of infected = 13918\n",
      "2020-09-01 19:31:08,381 - june.simulator - INFO - Date = 2020-06-17 08:00:00, number of deaths =  0, number of infected = 14163\n",
      "2020-09-01 19:31:08,769 - june.simulator - INFO - Date = 2020-06-17 10:00:00, number of deaths =  0, number of infected = 14434\n",
      "2020-09-01 19:31:09,304 - june.simulator - INFO - Date = 2020-06-18 00:00:00, number of deaths =  0, number of infected = 15274\n",
      "2020-09-01 19:31:09,758 - june.simulator - INFO - Date = 2020-06-18 02:00:00, number of deaths =  0, number of infected = 15414\n",
      "2020-09-01 19:31:10,279 - june.simulator - INFO - Date = 2020-06-18 04:00:00, number of deaths =  0, number of infected = 15676\n",
      "2020-09-01 19:31:10,784 - june.simulator - INFO - Date = 2020-06-18 06:00:00, number of deaths =  0, number of infected = 15930\n",
      "2020-09-01 19:31:11,281 - june.simulator - INFO - Date = 2020-06-18 08:00:00, number of deaths =  0, number of infected = 16173\n",
      "2020-09-01 19:31:11,689 - june.simulator - INFO - Date = 2020-06-18 10:00:00, number of deaths =  0, number of infected = 16420\n",
      "2020-09-01 19:31:12,264 - june.simulator - INFO - Date = 2020-06-19 00:00:00, number of deaths =  0, number of infected = 17147\n",
      "2020-09-01 19:31:12,850 - june.simulator - INFO - Date = 2020-06-19 02:00:00, number of deaths =  0, number of infected = 17271\n",
      "2020-09-01 19:31:13,416 - june.simulator - INFO - Date = 2020-06-19 04:00:00, number of deaths =  0, number of infected = 17483\n",
      "2020-09-01 19:31:13,994 - june.simulator - INFO - Date = 2020-06-19 06:00:00, number of deaths =  0, number of infected = 17685\n",
      "2020-09-01 19:31:14,709 - june.simulator - INFO - Date = 2020-06-19 08:00:00, number of deaths =  0, number of infected = 17906\n",
      "2020-09-01 19:31:15,114 - june.simulator - INFO - Date = 2020-06-19 10:00:00, number of deaths =  0, number of infected = 18101\n",
      "2020-09-01 19:31:15,700 - june.simulator - INFO - Date = 2020-06-20 00:00:00, number of deaths =  0, number of infected = 18680\n",
      "2020-09-01 19:31:16,210 - june.simulator - INFO - Date = 2020-06-20 03:00:00, number of deaths =  0, number of infected = 18833\n",
      "2020-09-01 19:31:16,755 - june.simulator - INFO - Date = 2020-06-20 05:00:00, number of deaths =  0, number of infected = 19018\n",
      "2020-09-01 19:31:17,291 - june.simulator - INFO - Date = 2020-06-20 07:00:00, number of deaths =  0, number of infected = 19191\n",
      "2020-09-01 19:31:17,834 - june.simulator - INFO - Date = 2020-06-20 09:00:00, number of deaths =  0, number of infected = 19377\n",
      "2020-09-01 19:31:18,263 - june.simulator - INFO - Date = 2020-06-20 11:00:00, number of deaths =  0, number of infected = 19574\n",
      "2020-09-01 19:31:18,788 - june.simulator - INFO - Date = 2020-06-21 00:00:00, number of deaths =  0, number of infected = 20004\n",
      "2020-09-01 19:31:19,380 - june.simulator - INFO - Date = 2020-06-21 03:00:00, number of deaths =  0, number of infected = 20122\n",
      "2020-09-01 19:31:20,017 - june.simulator - INFO - Date = 2020-06-21 05:00:00, number of deaths =  0, number of infected = 20263\n",
      "2020-09-01 19:31:20,516 - june.simulator - INFO - Date = 2020-06-21 07:00:00, number of deaths =  0, number of infected = 20392\n",
      "2020-09-01 19:31:21,009 - june.simulator - INFO - Date = 2020-06-21 09:00:00, number of deaths =  0, number of infected = 20504\n",
      "2020-09-01 19:31:21,432 - june.simulator - INFO - Date = 2020-06-21 11:00:00, number of deaths =  0, number of infected = 20638\n",
      "2020-09-01 19:31:21,920 - june.simulator - INFO - Date = 2020-06-22 00:00:00, number of deaths =  0, number of infected = 20944\n",
      "2020-09-01 19:31:22,509 - june.simulator - INFO - Date = 2020-06-22 02:00:00, number of deaths =  0, number of infected = 21005\n",
      "2020-09-01 19:31:23,050 - june.simulator - INFO - Date = 2020-06-22 04:00:00, number of deaths =  0, number of infected = 21092\n",
      "2020-09-01 19:31:23,615 - june.simulator - INFO - Date = 2020-06-22 06:00:00, number of deaths =  0, number of infected = 21186\n",
      "2020-09-01 19:31:24,317 - june.simulator - INFO - Date = 2020-06-22 08:00:00, number of deaths =  0, number of infected = 21269\n",
      "2020-09-01 19:31:24,822 - june.simulator - INFO - Date = 2020-06-22 10:00:00, number of deaths =  0, number of infected = 21349\n",
      "2020-09-01 19:31:25,254 - june.simulator - INFO - Date = 2020-06-23 00:00:00, number of deaths =  0, number of infected = 21525\n",
      "2020-09-01 19:31:25,735 - june.simulator - INFO - Date = 2020-06-23 02:00:00, number of deaths =  0, number of infected = 21567\n",
      "2020-09-01 19:31:26,278 - june.simulator - INFO - Date = 2020-06-23 04:00:00, number of deaths =  0, number of infected = 21607\n",
      "2020-09-01 19:31:26,838 - june.simulator - INFO - Date = 2020-06-23 06:00:00, number of deaths =  0, number of infected = 21655\n",
      "2020-09-01 19:31:27,338 - june.simulator - INFO - Date = 2020-06-23 08:00:00, number of deaths =  0, number of infected = 21694\n",
      "2020-09-01 19:31:27,744 - june.simulator - INFO - Date = 2020-06-23 10:00:00, number of deaths =  0, number of infected = 21746\n",
      "2020-09-01 19:31:28,220 - june.simulator - INFO - Date = 2020-06-24 00:00:00, number of deaths =  0, number of infected = 21858\n",
      "2020-09-01 19:31:28,724 - june.simulator - INFO - Date = 2020-06-24 02:00:00, number of deaths =  0, number of infected = 21882\n",
      "2020-09-01 19:31:29,247 - june.simulator - INFO - Date = 2020-06-24 04:00:00, number of deaths =  0, number of infected = 21905\n",
      "2020-09-01 19:31:29,780 - june.simulator - INFO - Date = 2020-06-24 06:00:00, number of deaths =  0, number of infected = 21929\n",
      "2020-09-01 19:31:30,264 - june.simulator - INFO - Date = 2020-06-24 08:00:00, number of deaths =  0, number of infected = 21956\n",
      "2020-09-01 19:31:30,776 - june.simulator - INFO - Date = 2020-06-24 10:00:00, number of deaths =  0, number of infected = 21981\n",
      "2020-09-01 19:31:31,240 - june.simulator - INFO - Date = 2020-06-25 00:00:00, number of deaths =  0, number of infected = 22025\n",
      "2020-09-01 19:31:31,720 - june.simulator - INFO - Date = 2020-06-25 02:00:00, number of deaths =  0, number of infected = 22036\n"
     ]
    },
    {
     "name": "stdout",
     "output_type": "stream",
     "text": [
      "2020-09-01 19:31:32,203 - june.simulator - INFO - Date = 2020-06-25 04:00:00, number of deaths =  0, number of infected = 22048\n",
      "2020-09-01 19:31:32,688 - june.simulator - INFO - Date = 2020-06-25 06:00:00, number of deaths =  0, number of infected = 22062\n",
      "2020-09-01 19:31:33,163 - june.simulator - INFO - Date = 2020-06-25 08:00:00, number of deaths =  1, number of infected = 22065\n",
      "2020-09-01 19:31:33,564 - june.simulator - INFO - Date = 2020-06-25 10:00:00, number of deaths =  1, number of infected = 22081\n",
      "2020-09-01 19:31:33,973 - june.simulator - INFO - Date = 2020-06-26 00:00:00, number of deaths =  1, number of infected = 22051\n",
      "2020-09-01 19:31:34,439 - june.simulator - INFO - Date = 2020-06-26 02:00:00, number of deaths =  1, number of infected = 22044\n",
      "2020-09-01 19:31:34,913 - june.simulator - INFO - Date = 2020-06-26 04:00:00, number of deaths =  1, number of infected = 22034\n",
      "2020-09-01 19:31:35,383 - june.simulator - INFO - Date = 2020-06-26 06:00:00, number of deaths =  1, number of infected = 22036\n",
      "2020-09-01 19:31:35,866 - june.simulator - INFO - Date = 2020-06-26 08:00:00, number of deaths =  1, number of infected = 22034\n",
      "2020-09-01 19:31:36,277 - june.simulator - INFO - Date = 2020-06-26 10:00:00, number of deaths =  1, number of infected = 22024\n",
      "2020-09-01 19:31:36,691 - june.simulator - INFO - Date = 2020-06-27 00:00:00, number of deaths =  1, number of infected = 21941\n",
      "2020-09-01 19:31:37,190 - june.simulator - INFO - Date = 2020-06-27 03:00:00, number of deaths =  1, number of infected = 21932\n",
      "2020-09-01 19:31:37,692 - june.simulator - INFO - Date = 2020-06-27 05:00:00, number of deaths =  1, number of infected = 21928\n",
      "2020-09-01 19:31:38,209 - june.simulator - INFO - Date = 2020-06-27 07:00:00, number of deaths =  1, number of infected = 21916\n",
      "2020-09-01 19:31:38,769 - june.simulator - INFO - Date = 2020-06-27 09:00:00, number of deaths =  1, number of infected = 21898\n",
      "2020-09-01 19:31:39,197 - june.simulator - INFO - Date = 2020-06-27 11:00:00, number of deaths =  1, number of infected = 21890\n",
      "2020-09-01 19:31:39,609 - june.simulator - INFO - Date = 2020-06-28 00:00:00, number of deaths =  1, number of infected = 21767\n",
      "2020-09-01 19:31:40,117 - june.simulator - INFO - Date = 2020-06-28 03:00:00, number of deaths =  1, number of infected = 21739\n",
      "2020-09-01 19:31:40,616 - june.simulator - INFO - Date = 2020-06-28 05:00:00, number of deaths =  1, number of infected = 21728\n",
      "2020-09-01 19:31:41,099 - june.simulator - INFO - Date = 2020-06-28 07:00:00, number of deaths =  1, number of infected = 21704\n",
      "2020-09-01 19:31:41,581 - june.simulator - INFO - Date = 2020-06-28 09:00:00, number of deaths =  1, number of infected = 21686\n",
      "2020-09-01 19:31:41,975 - june.simulator - INFO - Date = 2020-06-28 11:00:00, number of deaths =  1, number of infected = 21665\n",
      "2020-09-01 19:31:42,362 - june.simulator - INFO - Date = 2020-06-29 00:00:00, number of deaths =  1, number of infected = 21487\n",
      "2020-09-01 19:31:42,802 - june.simulator - INFO - Date = 2020-06-29 02:00:00, number of deaths =  1, number of infected = 21461\n",
      "2020-09-01 19:31:43,272 - june.simulator - INFO - Date = 2020-06-29 04:00:00, number of deaths =  1, number of infected = 21422\n",
      "2020-09-01 19:31:43,739 - june.simulator - INFO - Date = 2020-06-29 06:00:00, number of deaths =  1, number of infected = 21396\n",
      "2020-09-01 19:31:44,210 - june.simulator - INFO - Date = 2020-06-29 08:00:00, number of deaths =  1, number of infected = 21370\n",
      "2020-09-01 19:31:44,594 - june.simulator - INFO - Date = 2020-06-29 10:00:00, number of deaths =  1, number of infected = 21337\n",
      "2020-09-01 19:31:44,975 - june.simulator - INFO - Date = 2020-06-30 00:00:00, number of deaths =  1, number of infected = 21083\n",
      "2020-09-01 19:31:45,428 - june.simulator - INFO - Date = 2020-06-30 02:00:00, number of deaths =  1, number of infected = 21047\n",
      "2020-09-01 19:31:45,889 - june.simulator - INFO - Date = 2020-06-30 04:00:00, number of deaths =  1, number of infected = 21011\n",
      "2020-09-01 19:31:46,376 - june.simulator - INFO - Date = 2020-06-30 06:00:00, number of deaths =  1, number of infected = 20973\n",
      "2020-09-01 19:31:46,859 - june.simulator - INFO - Date = 2020-06-30 08:00:00, number of deaths =  1, number of infected = 20934\n",
      "2020-09-01 19:31:47,261 - june.simulator - INFO - Date = 2020-06-30 10:00:00, number of deaths =  1, number of infected = 20895\n",
      "2020-09-01 19:31:47,647 - june.simulator - INFO - Date = 2020-07-01 00:00:00, number of deaths =  1, number of infected = 20569\n",
      "2020-09-01 19:31:48,131 - june.simulator - INFO - Date = 2020-07-01 02:00:00, number of deaths =  1, number of infected = 20509\n",
      "2020-09-01 19:31:48,776 - june.simulator - INFO - Date = 2020-07-01 04:00:00, number of deaths =  1, number of infected = 20457\n",
      "2020-09-01 19:31:49,254 - june.simulator - INFO - Date = 2020-07-01 06:00:00, number of deaths =  1, number of infected = 20403\n",
      "2020-09-01 19:31:49,765 - june.simulator - INFO - Date = 2020-07-01 08:00:00, number of deaths =  1, number of infected = 20338\n",
      "2020-09-01 19:31:50,195 - june.simulator - INFO - Date = 2020-07-01 10:00:00, number of deaths =  1, number of infected = 20277\n",
      "2020-09-01 19:31:50,607 - june.simulator - INFO - Date = 2020-07-02 00:00:00, number of deaths =  1, number of infected = 19863\n",
      "2020-09-01 19:31:51,125 - june.simulator - INFO - Date = 2020-07-02 02:00:00, number of deaths =  1, number of infected = 19799\n",
      "2020-09-01 19:31:51,598 - june.simulator - INFO - Date = 2020-07-02 04:00:00, number of deaths =  1, number of infected = 19720\n",
      "2020-09-01 19:31:52,107 - june.simulator - INFO - Date = 2020-07-02 06:00:00, number of deaths =  1, number of infected = 19645\n",
      "2020-09-01 19:31:52,588 - june.simulator - INFO - Date = 2020-07-02 08:00:00, number of deaths =  1, number of infected = 19572\n",
      "2020-09-01 19:31:52,942 - june.simulator - INFO - Date = 2020-07-02 10:00:00, number of deaths =  1, number of infected = 19496\n",
      "2020-09-01 19:31:53,305 - june.simulator - INFO - Date = 2020-07-03 00:00:00, number of deaths =  2, number of infected = 18964\n",
      "2020-09-01 19:31:53,755 - june.simulator - INFO - Date = 2020-07-03 02:00:00, number of deaths =  2, number of infected = 18896\n",
      "2020-09-01 19:31:54,234 - june.simulator - INFO - Date = 2020-07-03 04:00:00, number of deaths =  2, number of infected = 18826\n",
      "2020-09-01 19:31:54,727 - june.simulator - INFO - Date = 2020-07-03 06:00:00, number of deaths =  2, number of infected = 18759\n",
      "2020-09-01 19:31:55,198 - june.simulator - INFO - Date = 2020-07-03 08:00:00, number of deaths =  2, number of infected = 18698\n",
      "2020-09-01 19:31:55,556 - june.simulator - INFO - Date = 2020-07-03 10:00:00, number of deaths =  2, number of infected = 18611\n",
      "2020-09-01 19:31:55,902 - june.simulator - INFO - Date = 2020-07-04 00:00:00, number of deaths =  2, number of infected = 18025\n",
      "2020-09-01 19:31:56,369 - june.simulator - INFO - Date = 2020-07-04 03:00:00, number of deaths =  2, number of infected = 17895\n",
      "2020-09-01 19:31:56,811 - june.simulator - INFO - Date = 2020-07-04 05:00:00, number of deaths =  2, number of infected = 17816\n",
      "2020-09-01 19:31:57,338 - june.simulator - INFO - Date = 2020-07-04 07:00:00, number of deaths =  2, number of infected = 17734\n",
      "2020-09-01 19:31:57,879 - june.simulator - INFO - Date = 2020-07-04 09:00:00, number of deaths =  2, number of infected = 17636\n",
      "2020-09-01 19:31:58,246 - june.simulator - INFO - Date = 2020-07-04 11:00:00, number of deaths =  2, number of infected = 17557\n",
      "2020-09-01 19:31:58,601 - june.simulator - INFO - Date = 2020-07-05 00:00:00, number of deaths =  2, number of infected = 16935\n",
      "2020-09-01 19:31:59,033 - june.simulator - INFO - Date = 2020-07-05 03:00:00, number of deaths =  2, number of infected = 16777\n",
      "2020-09-01 19:31:59,472 - june.simulator - INFO - Date = 2020-07-05 05:00:00, number of deaths =  2, number of infected = 16671\n",
      "2020-09-01 19:31:59,914 - june.simulator - INFO - Date = 2020-07-05 07:00:00, number of deaths =  2, number of infected = 16560\n",
      "2020-09-01 19:32:00,363 - june.simulator - INFO - Date = 2020-07-05 09:00:00, number of deaths =  2, number of infected = 16463\n",
      "2020-09-01 19:32:00,688 - june.simulator - INFO - Date = 2020-07-05 11:00:00, number of deaths =  2, number of infected = 16365\n",
      "2020-09-01 19:32:01,012 - june.simulator - INFO - Date = 2020-07-06 00:00:00, number of deaths =  2, number of infected = 15680\n"
     ]
    },
    {
     "name": "stdout",
     "output_type": "stream",
     "text": [
      "2020-09-01 19:32:01,435 - june.simulator - INFO - Date = 2020-07-06 02:00:00, number of deaths =  2, number of infected = 15567\n",
      "2020-09-01 19:32:01,872 - june.simulator - INFO - Date = 2020-07-06 04:00:00, number of deaths =  2, number of infected = 15453\n",
      "2020-09-01 19:32:02,306 - june.simulator - INFO - Date = 2020-07-06 06:00:00, number of deaths =  2, number of infected = 15362\n",
      "2020-09-01 19:32:02,740 - june.simulator - INFO - Date = 2020-07-06 08:00:00, number of deaths =  3, number of infected = 15255\n",
      "2020-09-01 19:32:03,062 - june.simulator - INFO - Date = 2020-07-06 10:00:00, number of deaths =  3, number of infected = 15133\n",
      "2020-09-01 19:32:03,550 - june.simulator - INFO - Date = 2020-07-07 00:00:00, number of deaths =  6, number of infected = 14276\n",
      "2020-09-01 19:32:04,020 - june.simulator - INFO - Date = 2020-07-07 02:00:00, number of deaths =  6, number of infected = 14167\n",
      "2020-09-01 19:32:04,448 - june.simulator - INFO - Date = 2020-07-07 04:00:00, number of deaths =  6, number of infected = 14056\n",
      "2020-09-01 19:32:04,876 - june.simulator - INFO - Date = 2020-07-07 06:00:00, number of deaths =  6, number of infected = 13941\n",
      "2020-09-01 19:32:05,314 - june.simulator - INFO - Date = 2020-07-07 08:00:00, number of deaths =  7, number of infected = 13811\n",
      "2020-09-01 19:32:05,622 - june.simulator - INFO - Date = 2020-07-07 10:00:00, number of deaths =  7, number of infected = 13691\n",
      "2020-09-01 19:32:05,949 - june.simulator - INFO - Date = 2020-07-08 00:00:00, number of deaths =  7, number of infected = 12850\n",
      "2020-09-01 19:32:06,483 - june.simulator - INFO - Date = 2020-07-08 02:00:00, number of deaths =  7, number of infected = 12728\n",
      "2020-09-01 19:32:06,948 - june.simulator - INFO - Date = 2020-07-08 04:00:00, number of deaths =  7, number of infected = 12591\n",
      "2020-09-01 19:32:07,389 - june.simulator - INFO - Date = 2020-07-08 06:00:00, number of deaths =  7, number of infected = 12458\n",
      "2020-09-01 19:32:07,862 - june.simulator - INFO - Date = 2020-07-08 08:00:00, number of deaths =  7, number of infected = 12312\n",
      "2020-09-01 19:32:08,292 - june.simulator - INFO - Date = 2020-07-08 10:00:00, number of deaths =  7, number of infected = 12188\n",
      "2020-09-01 19:32:08,580 - june.simulator - INFO - Date = 2020-07-09 00:00:00, number of deaths =  7, number of infected = 11281\n",
      "2020-09-01 19:32:08,962 - june.simulator - INFO - Date = 2020-07-09 02:00:00, number of deaths =  8, number of infected = 11160\n",
      "2020-09-01 19:32:09,460 - june.simulator - INFO - Date = 2020-07-09 04:00:00, number of deaths =  8, number of infected = 11019\n",
      "2020-09-01 19:32:09,930 - june.simulator - INFO - Date = 2020-07-09 06:00:00, number of deaths =  8, number of infected = 10897\n",
      "2020-09-01 19:32:10,348 - june.simulator - INFO - Date = 2020-07-09 08:00:00, number of deaths =  8, number of infected = 10772\n",
      "2020-09-01 19:32:10,645 - june.simulator - INFO - Date = 2020-07-09 10:00:00, number of deaths =  8, number of infected = 10622\n",
      "2020-09-01 19:32:10,932 - june.simulator - INFO - Date = 2020-07-10 00:00:00, number of deaths =  8, number of infected = 9744\n",
      "2020-09-01 19:32:11,349 - june.simulator - INFO - Date = 2020-07-10 02:00:00, number of deaths =  8, number of infected = 9620\n",
      "2020-09-01 19:32:11,749 - june.simulator - INFO - Date = 2020-07-10 04:00:00, number of deaths =  8, number of infected = 9486\n",
      "2020-09-01 19:32:12,156 - june.simulator - INFO - Date = 2020-07-10 06:00:00, number of deaths =  8, number of infected = 9371\n",
      "2020-09-01 19:32:12,553 - june.simulator - INFO - Date = 2020-07-10 08:00:00, number of deaths =  8, number of infected = 9233\n",
      "2020-09-01 19:32:12,839 - june.simulator - INFO - Date = 2020-07-10 10:00:00, number of deaths =  8, number of infected = 9123\n",
      "2020-09-01 19:32:13,113 - june.simulator - INFO - Date = 2020-07-11 00:00:00, number of deaths =  11, number of infected = 8209\n",
      "2020-09-01 19:32:13,579 - june.simulator - INFO - Date = 2020-07-11 03:00:00, number of deaths =  11, number of infected = 8029\n",
      "2020-09-01 19:32:13,982 - june.simulator - INFO - Date = 2020-07-11 05:00:00, number of deaths =  11, number of infected = 7924\n",
      "2020-09-01 19:32:14,375 - june.simulator - INFO - Date = 2020-07-11 07:00:00, number of deaths =  11, number of infected = 7790\n",
      "2020-09-01 19:32:14,782 - june.simulator - INFO - Date = 2020-07-11 09:00:00, number of deaths =  11, number of infected = 7661\n",
      "2020-09-01 19:32:15,059 - june.simulator - INFO - Date = 2020-07-11 11:00:00, number of deaths =  11, number of infected = 7524\n",
      "2020-09-01 19:32:15,373 - june.simulator - INFO - Date = 2020-07-12 00:00:00, number of deaths =  11, number of infected = 6783\n",
      "2020-09-01 19:32:15,805 - june.simulator - INFO - Date = 2020-07-12 03:00:00, number of deaths =  11, number of infected = 6627\n",
      "2020-09-01 19:32:16,232 - june.simulator - INFO - Date = 2020-07-12 05:00:00, number of deaths =  11, number of infected = 6529\n",
      "2020-09-01 19:32:16,645 - june.simulator - INFO - Date = 2020-07-12 07:00:00, number of deaths =  11, number of infected = 6412\n",
      "2020-09-01 19:32:17,045 - june.simulator - INFO - Date = 2020-07-12 09:00:00, number of deaths =  11, number of infected = 6302\n",
      "2020-09-01 19:32:17,316 - june.simulator - INFO - Date = 2020-07-12 11:00:00, number of deaths =  11, number of infected = 6184\n",
      "2020-09-01 19:32:17,572 - june.simulator - INFO - Date = 2020-07-13 00:00:00, number of deaths =  11, number of infected = 5495\n",
      "2020-09-01 19:32:17,938 - june.simulator - INFO - Date = 2020-07-13 02:00:00, number of deaths =  11, number of infected = 5401\n",
      "2020-09-01 19:32:18,339 - june.simulator - INFO - Date = 2020-07-13 04:00:00, number of deaths =  11, number of infected = 5286\n",
      "2020-09-01 19:32:18,712 - june.simulator - INFO - Date = 2020-07-13 06:00:00, number of deaths =  11, number of infected = 5183\n",
      "2020-09-01 19:32:19,100 - june.simulator - INFO - Date = 2020-07-13 08:00:00, number of deaths =  11, number of infected = 5076\n",
      "2020-09-01 19:32:19,379 - june.simulator - INFO - Date = 2020-07-13 10:00:00, number of deaths =  11, number of infected = 4992\n",
      "2020-09-01 19:32:19,610 - june.simulator - INFO - Date = 2020-07-14 00:00:00, number of deaths =  11, number of infected = 4349\n",
      "2020-09-01 19:32:19,951 - june.simulator - INFO - Date = 2020-07-14 02:00:00, number of deaths =  11, number of infected = 4261\n",
      "2020-09-01 19:32:20,306 - june.simulator - INFO - Date = 2020-07-14 04:00:00, number of deaths =  11, number of infected = 4170\n",
      "2020-09-01 19:32:20,658 - june.simulator - INFO - Date = 2020-07-14 06:00:00, number of deaths =  11, number of infected = 4097\n",
      "2020-09-01 19:32:21,034 - june.simulator - INFO - Date = 2020-07-14 08:00:00, number of deaths =  11, number of infected = 4021\n",
      "2020-09-01 19:32:21,294 - june.simulator - INFO - Date = 2020-07-14 10:00:00, number of deaths =  11, number of infected = 3938\n",
      "2020-09-01 19:32:21,554 - june.simulator - INFO - Date = 2020-07-15 00:00:00, number of deaths =  11, number of infected = 3337\n",
      "2020-09-01 19:32:21,895 - june.simulator - INFO - Date = 2020-07-15 02:00:00, number of deaths =  11, number of infected = 3265\n",
      "2020-09-01 19:32:22,260 - june.simulator - INFO - Date = 2020-07-15 04:00:00, number of deaths =  11, number of infected = 3194\n",
      "2020-09-01 19:32:22,619 - june.simulator - INFO - Date = 2020-07-15 06:00:00, number of deaths =  11, number of infected = 3115\n",
      "2020-09-01 19:32:22,923 - june.simulator - INFO - Date = 2020-07-15 08:00:00, number of deaths =  12, number of infected = 3033\n",
      "2020-09-01 19:32:23,135 - june.simulator - INFO - Date = 2020-07-15 10:00:00, number of deaths =  13, number of infected = 2949\n",
      "2020-09-01 19:32:23,326 - june.simulator - INFO - Date = 2020-07-16 00:00:00, number of deaths =  13, number of infected = 2519\n",
      "2020-09-01 19:32:23,610 - june.simulator - INFO - Date = 2020-07-16 02:00:00, number of deaths =  13, number of infected = 2466\n",
      "2020-09-01 19:32:23,908 - june.simulator - INFO - Date = 2020-07-16 04:00:00, number of deaths =  13, number of infected = 2403\n",
      "2020-09-01 19:32:24,191 - june.simulator - INFO - Date = 2020-07-16 06:00:00, number of deaths =  13, number of infected = 2354\n",
      "2020-09-01 19:32:24,475 - june.simulator - INFO - Date = 2020-07-16 08:00:00, number of deaths =  13, number of infected = 2300\n",
      "2020-09-01 19:32:24,652 - june.simulator - INFO - Date = 2020-07-16 10:00:00, number of deaths =  13, number of infected = 2249\n"
     ]
    },
    {
     "name": "stdout",
     "output_type": "stream",
     "text": [
      "2020-09-01 19:32:24,838 - june.simulator - INFO - Date = 2020-07-17 00:00:00, number of deaths =  13, number of infected = 1911\n",
      "2020-09-01 19:32:25,138 - june.simulator - INFO - Date = 2020-07-17 02:00:00, number of deaths =  13, number of infected = 1867\n",
      "2020-09-01 19:32:25,464 - june.simulator - INFO - Date = 2020-07-17 04:00:00, number of deaths =  13, number of infected = 1826\n",
      "2020-09-01 19:32:25,771 - june.simulator - INFO - Date = 2020-07-17 06:00:00, number of deaths =  13, number of infected = 1785\n",
      "2020-09-01 19:32:26,068 - june.simulator - INFO - Date = 2020-07-17 08:00:00, number of deaths =  13, number of infected = 1731\n",
      "2020-09-01 19:32:26,268 - june.simulator - INFO - Date = 2020-07-17 10:00:00, number of deaths =  13, number of infected = 1688\n",
      "2020-09-01 19:32:26,451 - june.simulator - INFO - Date = 2020-07-18 00:00:00, number of deaths =  13, number of infected = 1443\n",
      "2020-09-01 19:32:26,812 - june.simulator - INFO - Date = 2020-07-18 03:00:00, number of deaths =  13, number of infected = 1394\n",
      "2020-09-01 19:32:27,213 - june.simulator - INFO - Date = 2020-07-18 05:00:00, number of deaths =  13, number of infected = 1363\n",
      "2020-09-01 19:32:27,521 - june.simulator - INFO - Date = 2020-07-18 07:00:00, number of deaths =  13, number of infected = 1332\n",
      "2020-09-01 19:32:27,827 - june.simulator - INFO - Date = 2020-07-18 09:00:00, number of deaths =  13, number of infected = 1307\n",
      "2020-09-01 19:32:28,008 - june.simulator - INFO - Date = 2020-07-18 11:00:00, number of deaths =  13, number of infected = 1277\n",
      "2020-09-01 19:32:28,189 - june.simulator - INFO - Date = 2020-07-19 00:00:00, number of deaths =  13, number of infected = 1076\n",
      "2020-09-01 19:32:28,514 - june.simulator - INFO - Date = 2020-07-19 03:00:00, number of deaths =  13, number of infected = 1031\n",
      "2020-09-01 19:32:28,819 - june.simulator - INFO - Date = 2020-07-19 05:00:00, number of deaths =  13, number of infected = 1005\n",
      "2020-09-01 19:32:29,140 - june.simulator - INFO - Date = 2020-07-19 07:00:00, number of deaths =  13, number of infected = 979\n",
      "2020-09-01 19:32:29,465 - june.simulator - INFO - Date = 2020-07-19 09:00:00, number of deaths =  13, number of infected = 960\n",
      "2020-09-01 19:32:29,655 - june.simulator - INFO - Date = 2020-07-19 11:00:00, number of deaths =  13, number of infected = 940\n",
      "2020-09-01 19:32:29,825 - june.simulator - INFO - Date = 2020-07-20 00:00:00, number of deaths =  13, number of infected = 815\n",
      "2020-09-01 19:32:30,200 - june.simulator - INFO - Date = 2020-07-20 02:00:00, number of deaths =  13, number of infected = 799\n",
      "2020-09-01 19:32:30,532 - june.simulator - INFO - Date = 2020-07-20 04:00:00, number of deaths =  13, number of infected = 778\n",
      "2020-09-01 19:32:30,829 - june.simulator - INFO - Date = 2020-07-20 06:00:00, number of deaths =  13, number of infected = 754\n",
      "2020-09-01 19:32:31,126 - june.simulator - INFO - Date = 2020-07-20 08:00:00, number of deaths =  13, number of infected = 738\n",
      "2020-09-01 19:32:31,314 - june.simulator - INFO - Date = 2020-07-20 10:00:00, number of deaths =  13, number of infected = 721\n",
      "2020-09-01 19:32:31,466 - june.simulator - INFO - Date = 2020-07-21 00:00:00, number of deaths =  13, number of infected = 610\n",
      "2020-09-01 19:32:31,738 - june.simulator - INFO - Date = 2020-07-21 02:00:00, number of deaths =  13, number of infected = 597\n",
      "2020-09-01 19:32:32,001 - june.simulator - INFO - Date = 2020-07-21 04:00:00, number of deaths =  13, number of infected = 577\n",
      "2020-09-01 19:32:32,247 - june.simulator - INFO - Date = 2020-07-21 06:00:00, number of deaths =  13, number of infected = 562\n",
      "2020-09-01 19:32:32,497 - june.simulator - INFO - Date = 2020-07-21 08:00:00, number of deaths =  13, number of infected = 551\n",
      "2020-09-01 19:32:32,656 - june.simulator - INFO - Date = 2020-07-21 10:00:00, number of deaths =  13, number of infected = 539\n",
      "2020-09-01 19:32:32,809 - june.simulator - INFO - Date = 2020-07-22 00:00:00, number of deaths =  13, number of infected = 463\n",
      "2020-09-01 19:32:33,085 - june.simulator - INFO - Date = 2020-07-22 02:00:00, number of deaths =  13, number of infected = 450\n",
      "2020-09-01 19:32:33,346 - june.simulator - INFO - Date = 2020-07-22 04:00:00, number of deaths =  13, number of infected = 442\n",
      "2020-09-01 19:32:33,605 - june.simulator - INFO - Date = 2020-07-22 06:00:00, number of deaths =  13, number of infected = 436\n",
      "2020-09-01 19:32:33,863 - june.simulator - INFO - Date = 2020-07-22 08:00:00, number of deaths =  13, number of infected = 426\n",
      "2020-09-01 19:32:34,025 - june.simulator - INFO - Date = 2020-07-22 10:00:00, number of deaths =  13, number of infected = 413\n",
      "2020-09-01 19:32:34,181 - june.simulator - INFO - Date = 2020-07-23 00:00:00, number of deaths =  13, number of infected = 351\n",
      "2020-09-01 19:32:34,433 - june.simulator - INFO - Date = 2020-07-23 02:00:00, number of deaths =  13, number of infected = 341\n",
      "2020-09-01 19:32:34,697 - june.simulator - INFO - Date = 2020-07-23 04:00:00, number of deaths =  13, number of infected = 333\n",
      "2020-09-01 19:32:34,951 - june.simulator - INFO - Date = 2020-07-23 06:00:00, number of deaths =  13, number of infected = 326\n",
      "2020-09-01 19:32:35,197 - june.simulator - INFO - Date = 2020-07-23 08:00:00, number of deaths =  13, number of infected = 320\n",
      "2020-09-01 19:32:35,351 - june.simulator - INFO - Date = 2020-07-23 10:00:00, number of deaths =  13, number of infected = 312\n",
      "2020-09-01 19:32:35,500 - june.simulator - INFO - Date = 2020-07-24 00:00:00, number of deaths =  13, number of infected = 263\n",
      "2020-09-01 19:32:35,744 - june.simulator - INFO - Date = 2020-07-24 02:00:00, number of deaths =  13, number of infected = 259\n",
      "2020-09-01 19:32:35,988 - june.simulator - INFO - Date = 2020-07-24 04:00:00, number of deaths =  13, number of infected = 254\n",
      "2020-09-01 19:32:36,209 - june.simulator - INFO - Date = 2020-07-24 06:00:00, number of deaths =  13, number of infected = 249\n",
      "2020-09-01 19:32:36,447 - june.simulator - INFO - Date = 2020-07-24 08:00:00, number of deaths =  13, number of infected = 239\n",
      "2020-09-01 19:32:36,613 - june.simulator - INFO - Date = 2020-07-24 10:00:00, number of deaths =  13, number of infected = 234\n",
      "2020-09-01 19:32:36,756 - june.simulator - INFO - Date = 2020-07-25 00:00:00, number of deaths =  13, number of infected = 203\n",
      "2020-09-01 19:32:37,026 - june.simulator - INFO - Date = 2020-07-25 03:00:00, number of deaths =  13, number of infected = 198\n",
      "2020-09-01 19:32:37,279 - june.simulator - INFO - Date = 2020-07-25 05:00:00, number of deaths =  13, number of infected = 194\n",
      "2020-09-01 19:32:37,549 - june.simulator - INFO - Date = 2020-07-25 07:00:00, number of deaths =  13, number of infected = 189\n",
      "2020-09-01 19:32:37,837 - june.simulator - INFO - Date = 2020-07-25 09:00:00, number of deaths =  13, number of infected = 185\n",
      "2020-09-01 19:32:38,114 - june.simulator - INFO - Date = 2020-07-25 11:00:00, number of deaths =  13, number of infected = 183\n",
      "2020-09-01 19:32:38,278 - june.simulator - INFO - Date = 2020-07-26 00:00:00, number of deaths =  13, number of infected = 166\n",
      "2020-09-01 19:32:38,835 - june.simulator - INFO - Date = 2020-07-26 03:00:00, number of deaths =  13, number of infected = 160\n",
      "2020-09-01 19:32:39,411 - june.simulator - INFO - Date = 2020-07-26 05:00:00, number of deaths =  13, number of infected = 155\n",
      "2020-09-01 19:32:39,702 - june.simulator - INFO - Date = 2020-07-26 07:00:00, number of deaths =  13, number of infected = 153\n",
      "2020-09-01 19:32:40,090 - june.simulator - INFO - Date = 2020-07-26 09:00:00, number of deaths =  13, number of infected = 153\n",
      "2020-09-01 19:32:40,398 - june.simulator - INFO - Date = 2020-07-26 11:00:00, number of deaths =  13, number of infected = 150\n",
      "2020-09-01 19:32:40,551 - june.simulator - INFO - Date = 2020-07-27 00:00:00, number of deaths =  13, number of infected = 131\n",
      "2020-09-01 19:32:41,186 - june.simulator - INFO - Date = 2020-07-27 02:00:00, number of deaths =  13, number of infected = 129\n",
      "2020-09-01 19:32:41,669 - june.simulator - INFO - Date = 2020-07-27 04:00:00, number of deaths =  13, number of infected = 127\n",
      "2020-09-01 19:32:42,351 - june.simulator - INFO - Date = 2020-07-27 06:00:00, number of deaths =  13, number of infected = 124\n",
      "2020-09-01 19:32:42,699 - june.simulator - INFO - Date = 2020-07-27 08:00:00, number of deaths =  13, number of infected = 120\n"
     ]
    },
    {
     "name": "stdout",
     "output_type": "stream",
     "text": [
      "2020-09-01 19:32:42,850 - june.simulator - INFO - Date = 2020-07-27 10:00:00, number of deaths =  13, number of infected = 119\n",
      "2020-09-01 19:32:42,996 - june.simulator - INFO - Date = 2020-07-28 00:00:00, number of deaths =  13, number of infected = 103\n",
      "2020-09-01 19:32:43,498 - june.simulator - INFO - Date = 2020-07-28 02:00:00, number of deaths =  13, number of infected = 101\n",
      "2020-09-01 19:32:43,769 - june.simulator - INFO - Date = 2020-07-28 04:00:00, number of deaths =  13, number of infected = 101\n",
      "2020-09-01 19:32:44,032 - june.simulator - INFO - Date = 2020-07-28 06:00:00, number of deaths =  13, number of infected = 100\n",
      "2020-09-01 19:32:44,321 - june.simulator - INFO - Date = 2020-07-28 08:00:00, number of deaths =  13, number of infected = 99\n",
      "2020-09-01 19:32:44,482 - june.simulator - INFO - Date = 2020-07-28 10:00:00, number of deaths =  13, number of infected = 99\n",
      "2020-09-01 19:32:44,632 - june.simulator - INFO - Date = 2020-07-29 00:00:00, number of deaths =  13, number of infected = 95\n",
      "2020-09-01 19:32:44,874 - june.simulator - INFO - Date = 2020-07-29 02:00:00, number of deaths =  13, number of infected = 93\n",
      "2020-09-01 19:32:45,142 - june.simulator - INFO - Date = 2020-07-29 04:00:00, number of deaths =  13, number of infected = 91\n",
      "2020-09-01 19:32:45,615 - june.simulator - INFO - Date = 2020-07-29 06:00:00, number of deaths =  13, number of infected = 88\n",
      "2020-09-01 19:32:46,093 - june.simulator - INFO - Date = 2020-07-29 08:00:00, number of deaths =  13, number of infected = 88\n",
      "2020-09-01 19:32:46,469 - june.simulator - INFO - Date = 2020-07-29 10:00:00, number of deaths =  13, number of infected = 87\n",
      "2020-09-01 19:32:46,793 - june.simulator - INFO - Date = 2020-07-30 00:00:00, number of deaths =  13, number of infected = 80\n",
      "2020-09-01 19:32:47,267 - june.simulator - INFO - Date = 2020-07-30 02:00:00, number of deaths =  13, number of infected = 79\n",
      "2020-09-01 19:32:47,515 - june.simulator - INFO - Date = 2020-07-30 04:00:00, number of deaths =  13, number of infected = 77\n",
      "2020-09-01 19:32:47,789 - june.simulator - INFO - Date = 2020-07-30 06:00:00, number of deaths =  13, number of infected = 77\n",
      "2020-09-01 19:32:48,215 - june.simulator - INFO - Date = 2020-07-30 08:00:00, number of deaths =  13, number of infected = 76\n",
      "2020-09-01 19:32:48,479 - june.simulator - INFO - Date = 2020-07-30 10:00:00, number of deaths =  13, number of infected = 76\n",
      "2020-09-01 19:32:48,778 - june.simulator - INFO - Date = 2020-07-31 00:00:00, number of deaths =  13, number of infected = 67\n",
      "2020-09-01 19:32:49,543 - june.simulator - INFO - Date = 2020-07-31 02:00:00, number of deaths =  13, number of infected = 66\n",
      "2020-09-01 19:32:50,081 - june.simulator - INFO - Date = 2020-07-31 04:00:00, number of deaths =  13, number of infected = 65\n",
      "2020-09-01 19:32:50,455 - june.simulator - INFO - Date = 2020-07-31 06:00:00, number of deaths =  13, number of infected = 65\n",
      "2020-09-01 19:32:50,744 - june.simulator - INFO - Date = 2020-07-31 08:00:00, number of deaths =  13, number of infected = 65\n",
      "2020-09-01 19:32:50,882 - june.simulator - INFO - Date = 2020-07-31 10:00:00, number of deaths =  13, number of infected = 64\n",
      "2020-09-01 19:32:51,007 - june.simulator - INFO - Date = 2020-08-01 00:00:00, number of deaths =  13, number of infected = 63\n",
      "2020-09-01 19:32:51,286 - june.simulator - INFO - Date = 2020-08-01 03:00:00, number of deaths =  13, number of infected = 58\n",
      "2020-09-01 19:32:51,537 - june.simulator - INFO - Date = 2020-08-01 05:00:00, number of deaths =  13, number of infected = 57\n",
      "2020-09-01 19:32:51,793 - june.simulator - INFO - Date = 2020-08-01 07:00:00, number of deaths =  13, number of infected = 57\n",
      "2020-09-01 19:32:52,036 - june.simulator - INFO - Date = 2020-08-01 09:00:00, number of deaths =  13, number of infected = 56\n",
      "2020-09-01 19:32:52,188 - june.simulator - INFO - Date = 2020-08-01 11:00:00, number of deaths =  13, number of infected = 56\n",
      "2020-09-01 19:32:52,351 - june.simulator - INFO - Date = 2020-08-02 00:00:00, number of deaths =  13, number of infected = 50\n",
      "2020-09-01 19:32:52,806 - june.simulator - INFO - Date = 2020-08-02 03:00:00, number of deaths =  13, number of infected = 50\n",
      "2020-09-01 19:32:53,291 - june.simulator - INFO - Date = 2020-08-02 05:00:00, number of deaths =  13, number of infected = 49\n",
      "2020-09-01 19:32:53,772 - june.simulator - INFO - Date = 2020-08-02 07:00:00, number of deaths =  13, number of infected = 48\n",
      "2020-09-01 19:32:54,050 - june.simulator - INFO - Date = 2020-08-02 09:00:00, number of deaths =  13, number of infected = 47\n",
      "2020-09-01 19:32:54,327 - june.simulator - INFO - Date = 2020-08-02 11:00:00, number of deaths =  13, number of infected = 47\n",
      "2020-09-01 19:32:54,603 - june.simulator - INFO - Date = 2020-08-03 00:00:00, number of deaths =  13, number of infected = 44\n",
      "2020-09-01 19:32:54,893 - june.simulator - INFO - Date = 2020-08-03 02:00:00, number of deaths =  13, number of infected = 44\n",
      "2020-09-01 19:32:55,143 - june.simulator - INFO - Date = 2020-08-03 04:00:00, number of deaths =  13, number of infected = 44\n",
      "2020-09-01 19:32:55,390 - june.simulator - INFO - Date = 2020-08-03 06:00:00, number of deaths =  13, number of infected = 43\n",
      "2020-09-01 19:32:55,637 - june.simulator - INFO - Date = 2020-08-03 08:00:00, number of deaths =  13, number of infected = 43\n",
      "2020-09-01 19:32:55,777 - june.simulator - INFO - Date = 2020-08-03 10:00:00, number of deaths =  13, number of infected = 43\n",
      "2020-09-01 19:32:55,913 - june.simulator - INFO - Date = 2020-08-04 00:00:00, number of deaths =  13, number of infected = 42\n",
      "2020-09-01 19:32:56,151 - june.simulator - INFO - Date = 2020-08-04 02:00:00, number of deaths =  13, number of infected = 42\n",
      "2020-09-01 19:32:56,393 - june.simulator - INFO - Date = 2020-08-04 04:00:00, number of deaths =  13, number of infected = 42\n",
      "2020-09-01 19:32:56,638 - june.simulator - INFO - Date = 2020-08-04 06:00:00, number of deaths =  13, number of infected = 42\n",
      "2020-09-01 19:32:56,938 - june.simulator - INFO - Date = 2020-08-04 08:00:00, number of deaths =  13, number of infected = 40\n",
      "2020-09-01 19:32:57,090 - june.simulator - INFO - Date = 2020-08-04 10:00:00, number of deaths =  13, number of infected = 40\n",
      "2020-09-01 19:32:57,231 - june.simulator - INFO - Date = 2020-08-05 00:00:00, number of deaths =  13, number of infected = 37\n",
      "2020-09-01 19:32:57,485 - june.simulator - INFO - Date = 2020-08-05 02:00:00, number of deaths =  13, number of infected = 37\n",
      "2020-09-01 19:32:57,743 - june.simulator - INFO - Date = 2020-08-05 04:00:00, number of deaths =  13, number of infected = 37\n",
      "2020-09-01 19:32:57,998 - june.simulator - INFO - Date = 2020-08-05 06:00:00, number of deaths =  14, number of infected = 36\n",
      "2020-09-01 19:32:58,269 - june.simulator - INFO - Date = 2020-08-05 08:00:00, number of deaths =  14, number of infected = 36\n",
      "2020-09-01 19:32:58,424 - june.simulator - INFO - Date = 2020-08-05 10:00:00, number of deaths =  14, number of infected = 35\n",
      "2020-09-01 19:32:58,585 - june.simulator - INFO - Date = 2020-08-06 00:00:00, number of deaths =  14, number of infected = 34\n",
      "2020-09-01 19:32:58,833 - june.simulator - INFO - Date = 2020-08-06 02:00:00, number of deaths =  14, number of infected = 34\n",
      "2020-09-01 19:32:59,075 - june.simulator - INFO - Date = 2020-08-06 04:00:00, number of deaths =  14, number of infected = 34\n",
      "2020-09-01 19:32:59,313 - june.simulator - INFO - Date = 2020-08-06 06:00:00, number of deaths =  14, number of infected = 34\n",
      "2020-09-01 19:32:59,553 - june.simulator - INFO - Date = 2020-08-06 08:00:00, number of deaths =  14, number of infected = 34\n",
      "2020-09-01 19:32:59,695 - june.simulator - INFO - Date = 2020-08-06 10:00:00, number of deaths =  14, number of infected = 34\n",
      "2020-09-01 19:32:59,831 - june.simulator - INFO - Date = 2020-08-07 00:00:00, number of deaths =  14, number of infected = 32\n",
      "2020-09-01 19:33:00,075 - june.simulator - INFO - Date = 2020-08-07 02:00:00, number of deaths =  14, number of infected = 32\n",
      "2020-09-01 19:33:00,325 - june.simulator - INFO - Date = 2020-08-07 04:00:00, number of deaths =  14, number of infected = 32\n",
      "2020-09-01 19:33:00,555 - june.simulator - INFO - Date = 2020-08-07 06:00:00, number of deaths =  14, number of infected = 32\n"
     ]
    },
    {
     "name": "stdout",
     "output_type": "stream",
     "text": [
      "2020-09-01 19:33:00,793 - june.simulator - INFO - Date = 2020-08-07 08:00:00, number of deaths =  14, number of infected = 32\n",
      "2020-09-01 19:33:00,932 - june.simulator - INFO - Date = 2020-08-07 10:00:00, number of deaths =  14, number of infected = 31\n",
      "2020-09-01 19:33:01,066 - june.simulator - INFO - Date = 2020-08-08 00:00:00, number of deaths =  14, number of infected = 30\n",
      "2020-09-01 19:33:01,324 - june.simulator - INFO - Date = 2020-08-08 03:00:00, number of deaths =  14, number of infected = 30\n",
      "2020-09-01 19:33:01,591 - june.simulator - INFO - Date = 2020-08-08 05:00:00, number of deaths =  14, number of infected = 30\n",
      "2020-09-01 19:33:01,865 - june.simulator - INFO - Date = 2020-08-08 07:00:00, number of deaths =  14, number of infected = 30\n",
      "2020-09-01 19:33:02,140 - june.simulator - INFO - Date = 2020-08-08 09:00:00, number of deaths =  14, number of infected = 30\n",
      "2020-09-01 19:33:02,278 - june.simulator - INFO - Date = 2020-08-08 11:00:00, number of deaths =  14, number of infected = 29\n",
      "2020-09-01 19:33:02,413 - june.simulator - INFO - Date = 2020-08-09 00:00:00, number of deaths =  14, number of infected = 28\n",
      "2020-09-01 19:33:02,684 - june.simulator - INFO - Date = 2020-08-09 03:00:00, number of deaths =  14, number of infected = 28\n",
      "2020-09-01 19:33:03,039 - june.simulator - INFO - Date = 2020-08-09 05:00:00, number of deaths =  14, number of infected = 28\n",
      "2020-09-01 19:33:03,478 - june.simulator - INFO - Date = 2020-08-09 07:00:00, number of deaths =  14, number of infected = 28\n",
      "2020-09-01 19:33:03,750 - june.simulator - INFO - Date = 2020-08-09 09:00:00, number of deaths =  14, number of infected = 28\n",
      "2020-09-01 19:33:03,896 - june.simulator - INFO - Date = 2020-08-09 11:00:00, number of deaths =  14, number of infected = 28\n",
      "2020-09-01 19:33:04,165 - june.simulator - INFO - Date = 2020-08-10 00:00:00, number of deaths =  14, number of infected = 25\n",
      "2020-09-01 19:33:04,435 - june.simulator - INFO - Date = 2020-08-10 02:00:00, number of deaths =  14, number of infected = 25\n",
      "2020-09-01 19:33:04,675 - june.simulator - INFO - Date = 2020-08-10 04:00:00, number of deaths =  14, number of infected = 25\n",
      "2020-09-01 19:33:04,917 - june.simulator - INFO - Date = 2020-08-10 06:00:00, number of deaths =  14, number of infected = 25\n",
      "2020-09-01 19:33:05,150 - june.simulator - INFO - Date = 2020-08-10 08:00:00, number of deaths =  14, number of infected = 24\n",
      "2020-09-01 19:33:05,298 - june.simulator - INFO - Date = 2020-08-10 10:00:00, number of deaths =  14, number of infected = 24\n",
      "2020-09-01 19:33:05,433 - june.simulator - INFO - Date = 2020-08-11 00:00:00, number of deaths =  14, number of infected = 24\n",
      "2020-09-01 19:33:05,689 - june.simulator - INFO - Date = 2020-08-11 02:00:00, number of deaths =  14, number of infected = 24\n",
      "2020-09-01 19:33:05,937 - june.simulator - INFO - Date = 2020-08-11 04:00:00, number of deaths =  14, number of infected = 24\n",
      "2020-09-01 19:33:06,166 - june.simulator - INFO - Date = 2020-08-11 06:00:00, number of deaths =  14, number of infected = 24\n",
      "2020-09-01 19:33:06,436 - june.simulator - INFO - Date = 2020-08-11 08:00:00, number of deaths =  14, number of infected = 24\n",
      "2020-09-01 19:33:06,619 - june.simulator - INFO - Date = 2020-08-11 10:00:00, number of deaths =  14, number of infected = 24\n",
      "2020-09-01 19:33:06,771 - june.simulator - INFO - Date = 2020-08-12 00:00:00, number of deaths =  14, number of infected = 24\n",
      "2020-09-01 19:33:07,031 - june.simulator - INFO - Date = 2020-08-12 02:00:00, number of deaths =  14, number of infected = 24\n",
      "2020-09-01 19:33:07,294 - june.simulator - INFO - Date = 2020-08-12 04:00:00, number of deaths =  14, number of infected = 24\n",
      "2020-09-01 19:33:07,508 - june.simulator - INFO - Date = 2020-08-12 06:00:00, number of deaths =  14, number of infected = 24\n",
      "2020-09-01 19:33:07,733 - june.simulator - INFO - Date = 2020-08-12 08:00:00, number of deaths =  14, number of infected = 23\n",
      "2020-09-01 19:33:07,865 - june.simulator - INFO - Date = 2020-08-12 10:00:00, number of deaths =  14, number of infected = 23\n",
      "2020-09-01 19:33:07,995 - june.simulator - INFO - Date = 2020-08-13 00:00:00, number of deaths =  14, number of infected = 21\n",
      "2020-09-01 19:33:08,229 - june.simulator - INFO - Date = 2020-08-13 02:00:00, number of deaths =  14, number of infected = 21\n",
      "2020-09-01 19:33:08,465 - june.simulator - INFO - Date = 2020-08-13 04:00:00, number of deaths =  14, number of infected = 21\n",
      "2020-09-01 19:33:08,696 - june.simulator - INFO - Date = 2020-08-13 06:00:00, number of deaths =  14, number of infected = 21\n",
      "2020-09-01 19:33:08,940 - june.simulator - INFO - Date = 2020-08-13 08:00:00, number of deaths =  14, number of infected = 21\n",
      "2020-09-01 19:33:09,076 - june.simulator - INFO - Date = 2020-08-13 10:00:00, number of deaths =  14, number of infected = 21\n",
      "2020-09-01 19:33:09,205 - june.simulator - INFO - Date = 2020-08-14 00:00:00, number of deaths =  14, number of infected = 20\n",
      "2020-09-01 19:33:09,435 - june.simulator - INFO - Date = 2020-08-14 02:00:00, number of deaths =  14, number of infected = 20\n",
      "2020-09-01 19:33:09,660 - june.simulator - INFO - Date = 2020-08-14 04:00:00, number of deaths =  14, number of infected = 19\n",
      "2020-09-01 19:33:09,980 - june.simulator - INFO - Date = 2020-08-14 06:00:00, number of deaths =  14, number of infected = 19\n",
      "2020-09-01 19:33:10,321 - june.simulator - INFO - Date = 2020-08-14 08:00:00, number of deaths =  14, number of infected = 19\n",
      "2020-09-01 19:33:10,465 - june.simulator - INFO - Date = 2020-08-14 10:00:00, number of deaths =  14, number of infected = 19\n",
      "2020-09-01 19:33:10,641 - june.simulator - INFO - Date = 2020-08-15 00:00:00, number of deaths =  14, number of infected = 18\n",
      "2020-09-01 19:33:10,904 - june.simulator - INFO - Date = 2020-08-15 03:00:00, number of deaths =  14, number of infected = 18\n",
      "2020-09-01 19:33:11,242 - june.simulator - INFO - Date = 2020-08-15 05:00:00, number of deaths =  14, number of infected = 18\n",
      "2020-09-01 19:33:11,529 - june.simulator - INFO - Date = 2020-08-15 07:00:00, number of deaths =  14, number of infected = 18\n",
      "2020-09-01 19:33:11,791 - june.simulator - INFO - Date = 2020-08-15 09:00:00, number of deaths =  14, number of infected = 18\n",
      "2020-09-01 19:33:11,928 - june.simulator - INFO - Date = 2020-08-15 11:00:00, number of deaths =  14, number of infected = 18\n",
      "2020-09-01 19:33:12,069 - june.simulator - INFO - Date = 2020-08-16 00:00:00, number of deaths =  14, number of infected = 15\n",
      "2020-09-01 19:33:12,329 - june.simulator - INFO - Date = 2020-08-16 03:00:00, number of deaths =  14, number of infected = 15\n",
      "2020-09-01 19:33:12,576 - june.simulator - INFO - Date = 2020-08-16 05:00:00, number of deaths =  14, number of infected = 15\n",
      "2020-09-01 19:33:12,825 - june.simulator - INFO - Date = 2020-08-16 07:00:00, number of deaths =  14, number of infected = 15\n",
      "2020-09-01 19:33:13,085 - june.simulator - INFO - Date = 2020-08-16 09:00:00, number of deaths =  14, number of infected = 15\n",
      "2020-09-01 19:33:13,213 - june.simulator - INFO - Date = 2020-08-16 11:00:00, number of deaths =  14, number of infected = 15\n",
      "2020-09-01 19:33:13,335 - june.simulator - INFO - Date = 2020-08-17 00:00:00, number of deaths =  14, number of infected = 14\n",
      "2020-09-01 19:33:13,557 - june.simulator - INFO - Date = 2020-08-17 02:00:00, number of deaths =  14, number of infected = 14\n",
      "2020-09-01 19:33:13,789 - june.simulator - INFO - Date = 2020-08-17 04:00:00, number of deaths =  14, number of infected = 14\n",
      "2020-09-01 19:33:14,012 - june.simulator - INFO - Date = 2020-08-17 06:00:00, number of deaths =  14, number of infected = 14\n",
      "2020-09-01 19:33:14,267 - june.simulator - INFO - Date = 2020-08-17 08:00:00, number of deaths =  14, number of infected = 14\n",
      "2020-09-01 19:33:14,410 - june.simulator - INFO - Date = 2020-08-17 10:00:00, number of deaths =  14, number of infected = 14\n",
      "2020-09-01 19:33:14,542 - june.simulator - INFO - Date = 2020-08-18 00:00:00, number of deaths =  14, number of infected = 13\n",
      "2020-09-01 19:33:14,785 - june.simulator - INFO - Date = 2020-08-18 02:00:00, number of deaths =  14, number of infected = 12\n",
      "2020-09-01 19:33:15,029 - june.simulator - INFO - Date = 2020-08-18 04:00:00, number of deaths =  14, number of infected = 12\n",
      "2020-09-01 19:33:15,281 - june.simulator - INFO - Date = 2020-08-18 06:00:00, number of deaths =  14, number of infected = 12\n"
     ]
    },
    {
     "name": "stdout",
     "output_type": "stream",
     "text": [
      "2020-09-01 19:33:15,508 - june.simulator - INFO - Date = 2020-08-18 08:00:00, number of deaths =  14, number of infected = 12\n",
      "2020-09-01 19:33:15,641 - june.simulator - INFO - Date = 2020-08-18 10:00:00, number of deaths =  14, number of infected = 12\n",
      "2020-09-01 19:33:15,768 - june.simulator - INFO - Date = 2020-08-19 00:00:00, number of deaths =  14, number of infected = 12\n",
      "2020-09-01 19:33:15,984 - june.simulator - INFO - Date = 2020-08-19 02:00:00, number of deaths =  14, number of infected = 12\n",
      "2020-09-01 19:33:16,209 - june.simulator - INFO - Date = 2020-08-19 04:00:00, number of deaths =  14, number of infected = 12\n",
      "2020-09-01 19:33:16,447 - june.simulator - INFO - Date = 2020-08-19 06:00:00, number of deaths =  14, number of infected = 12\n",
      "2020-09-01 19:33:16,673 - june.simulator - INFO - Date = 2020-08-19 08:00:00, number of deaths =  14, number of infected = 12\n",
      "2020-09-01 19:33:16,809 - june.simulator - INFO - Date = 2020-08-19 10:00:00, number of deaths =  14, number of infected = 12\n",
      "2020-09-01 19:33:16,934 - june.simulator - INFO - Date = 2020-08-20 00:00:00, number of deaths =  14, number of infected = 11\n",
      "2020-09-01 19:33:17,151 - june.simulator - INFO - Date = 2020-08-20 02:00:00, number of deaths =  14, number of infected = 11\n",
      "2020-09-01 19:33:17,376 - june.simulator - INFO - Date = 2020-08-20 04:00:00, number of deaths =  14, number of infected = 11\n",
      "2020-09-01 19:33:17,607 - june.simulator - INFO - Date = 2020-08-20 06:00:00, number of deaths =  14, number of infected = 11\n",
      "2020-09-01 19:33:17,841 - june.simulator - INFO - Date = 2020-08-20 08:00:00, number of deaths =  14, number of infected = 11\n",
      "2020-09-01 19:33:17,970 - june.simulator - INFO - Date = 2020-08-20 10:00:00, number of deaths =  14, number of infected = 11\n",
      "2020-09-01 19:33:18,097 - june.simulator - INFO - Date = 2020-08-21 00:00:00, number of deaths =  14, number of infected = 11\n",
      "2020-09-01 19:33:18,323 - june.simulator - INFO - Date = 2020-08-21 02:00:00, number of deaths =  14, number of infected = 11\n",
      "2020-09-01 19:33:18,566 - june.simulator - INFO - Date = 2020-08-21 04:00:00, number of deaths =  14, number of infected = 11\n",
      "2020-09-01 19:33:18,791 - june.simulator - INFO - Date = 2020-08-21 06:00:00, number of deaths =  14, number of infected = 11\n",
      "2020-09-01 19:33:19,008 - june.simulator - INFO - Date = 2020-08-21 08:00:00, number of deaths =  14, number of infected = 11\n",
      "2020-09-01 19:33:19,156 - june.simulator - INFO - Date = 2020-08-21 10:00:00, number of deaths =  14, number of infected = 11\n",
      "2020-09-01 19:33:19,278 - june.simulator - INFO - Date = 2020-08-22 00:00:00, number of deaths =  14, number of infected = 11\n",
      "2020-09-01 19:33:19,527 - june.simulator - INFO - Date = 2020-08-22 03:00:00, number of deaths =  14, number of infected = 11\n",
      "2020-09-01 19:33:19,780 - june.simulator - INFO - Date = 2020-08-22 05:00:00, number of deaths =  14, number of infected = 11\n",
      "2020-09-01 19:33:20,074 - june.simulator - INFO - Date = 2020-08-22 07:00:00, number of deaths =  14, number of infected = 11\n",
      "2020-09-01 19:33:20,338 - june.simulator - INFO - Date = 2020-08-22 09:00:00, number of deaths =  14, number of infected = 11\n",
      "2020-09-01 19:33:20,472 - june.simulator - INFO - Date = 2020-08-22 11:00:00, number of deaths =  14, number of infected = 11\n",
      "2020-09-01 19:33:20,603 - june.simulator - INFO - Date = 2020-08-23 00:00:00, number of deaths =  14, number of infected = 11\n",
      "2020-09-01 19:33:20,858 - june.simulator - INFO - Date = 2020-08-23 03:00:00, number of deaths =  14, number of infected = 11\n",
      "2020-09-01 19:33:21,107 - june.simulator - INFO - Date = 2020-08-23 05:00:00, number of deaths =  14, number of infected = 11\n",
      "2020-09-01 19:33:21,356 - june.simulator - INFO - Date = 2020-08-23 07:00:00, number of deaths =  14, number of infected = 11\n",
      "2020-09-01 19:33:21,593 - june.simulator - INFO - Date = 2020-08-23 09:00:00, number of deaths =  14, number of infected = 11\n",
      "2020-09-01 19:33:21,723 - june.simulator - INFO - Date = 2020-08-23 11:00:00, number of deaths =  14, number of infected = 11\n",
      "2020-09-01 19:33:21,854 - june.simulator - INFO - Date = 2020-08-24 00:00:00, number of deaths =  14, number of infected = 11\n",
      "2020-09-01 19:33:22,075 - june.simulator - INFO - Date = 2020-08-24 02:00:00, number of deaths =  14, number of infected = 11\n",
      "2020-09-01 19:33:22,298 - june.simulator - INFO - Date = 2020-08-24 04:00:00, number of deaths =  14, number of infected = 11\n",
      "2020-09-01 19:33:22,526 - june.simulator - INFO - Date = 2020-08-24 06:00:00, number of deaths =  14, number of infected = 11\n",
      "2020-09-01 19:33:22,756 - june.simulator - INFO - Date = 2020-08-24 08:00:00, number of deaths =  14, number of infected = 10\n",
      "2020-09-01 19:33:22,889 - june.simulator - INFO - Date = 2020-08-24 10:00:00, number of deaths =  14, number of infected = 10\n",
      "2020-09-01 19:33:23,009 - june.simulator - INFO - Date = 2020-08-25 00:00:00, number of deaths =  14, number of infected = 10\n",
      "2020-09-01 19:33:23,247 - june.simulator - INFO - Date = 2020-08-25 02:00:00, number of deaths =  14, number of infected = 10\n",
      "2020-09-01 19:33:23,483 - june.simulator - INFO - Date = 2020-08-25 04:00:00, number of deaths =  14, number of infected = 10\n",
      "2020-09-01 19:33:23,704 - june.simulator - INFO - Date = 2020-08-25 06:00:00, number of deaths =  14, number of infected = 10\n",
      "2020-09-01 19:33:23,942 - june.simulator - INFO - Date = 2020-08-25 08:00:00, number of deaths =  14, number of infected = 10\n",
      "2020-09-01 19:33:24,079 - june.simulator - INFO - Date = 2020-08-25 10:00:00, number of deaths =  14, number of infected = 10\n",
      "2020-09-01 19:33:24,211 - june.simulator - INFO - Date = 2020-08-26 00:00:00, number of deaths =  14, number of infected = 10\n",
      "2020-09-01 19:33:24,426 - june.simulator - INFO - Date = 2020-08-26 02:00:00, number of deaths =  14, number of infected = 10\n",
      "2020-09-01 19:33:24,656 - june.simulator - INFO - Date = 2020-08-26 04:00:00, number of deaths =  14, number of infected = 10\n",
      "2020-09-01 19:33:24,888 - june.simulator - INFO - Date = 2020-08-26 06:00:00, number of deaths =  14, number of infected = 10\n",
      "2020-09-01 19:33:25,118 - june.simulator - INFO - Date = 2020-08-26 08:00:00, number of deaths =  14, number of infected = 10\n",
      "2020-09-01 19:33:25,253 - june.simulator - INFO - Date = 2020-08-26 10:00:00, number of deaths =  14, number of infected = 10\n",
      "2020-09-01 19:33:25,381 - june.simulator - INFO - Date = 2020-08-27 00:00:00, number of deaths =  14, number of infected = 9\n",
      "2020-09-01 19:33:25,624 - june.simulator - INFO - Date = 2020-08-27 02:00:00, number of deaths =  14, number of infected = 9\n",
      "2020-09-01 19:33:25,851 - june.simulator - INFO - Date = 2020-08-27 04:00:00, number of deaths =  14, number of infected = 9\n",
      "2020-09-01 19:33:26,083 - june.simulator - INFO - Date = 2020-08-27 06:00:00, number of deaths =  14, number of infected = 9\n",
      "2020-09-01 19:33:26,313 - june.simulator - INFO - Date = 2020-08-27 08:00:00, number of deaths =  14, number of infected = 9\n",
      "2020-09-01 19:33:26,448 - june.simulator - INFO - Date = 2020-08-27 10:00:00, number of deaths =  14, number of infected = 9\n",
      "2020-09-01 19:33:26,578 - june.simulator - INFO - Date = 2020-08-28 00:00:00, number of deaths =  14, number of infected = 9\n",
      "2020-09-01 19:33:26,821 - june.simulator - INFO - Date = 2020-08-28 02:00:00, number of deaths =  14, number of infected = 9\n",
      "2020-09-01 19:33:27,062 - june.simulator - INFO - Date = 2020-08-28 04:00:00, number of deaths =  14, number of infected = 9\n",
      "2020-09-01 19:33:27,285 - june.simulator - INFO - Date = 2020-08-28 06:00:00, number of deaths =  14, number of infected = 9\n",
      "2020-09-01 19:33:27,559 - june.simulator - INFO - Date = 2020-08-28 08:00:00, number of deaths =  14, number of infected = 9\n",
      "2020-09-01 19:33:27,844 - june.simulator - INFO - Date = 2020-08-28 10:00:00, number of deaths =  14, number of infected = 9\n",
      "2020-09-01 19:33:28,108 - june.simulator - INFO - Date = 2020-08-29 00:00:00, number of deaths =  14, number of infected = 9\n",
      "2020-09-01 19:33:28,671 - june.simulator - INFO - Date = 2020-08-29 03:00:00, number of deaths =  14, number of infected = 9\n",
      "2020-09-01 19:33:29,501 - june.simulator - INFO - Date = 2020-08-29 05:00:00, number of deaths =  14, number of infected = 9\n",
      "2020-09-01 19:33:30,519 - june.simulator - INFO - Date = 2020-08-29 07:00:00, number of deaths =  14, number of infected = 9\n"
     ]
    },
    {
     "name": "stdout",
     "output_type": "stream",
     "text": [
      "2020-09-01 19:33:31,539 - june.simulator - INFO - Date = 2020-08-29 09:00:00, number of deaths =  14, number of infected = 9\n",
      "2020-09-01 19:33:32,065 - june.simulator - INFO - Date = 2020-08-29 11:00:00, number of deaths =  14, number of infected = 9\n",
      "2020-09-01 19:33:32,599 - june.simulator - INFO - Date = 2020-08-30 00:00:00, number of deaths =  14, number of infected = 8\n",
      "2020-09-01 19:33:33,629 - june.simulator - INFO - Date = 2020-08-30 03:00:00, number of deaths =  14, number of infected = 8\n",
      "2020-09-01 19:33:34,710 - june.simulator - INFO - Date = 2020-08-30 05:00:00, number of deaths =  14, number of infected = 8\n",
      "2020-09-01 19:33:35,831 - june.simulator - INFO - Date = 2020-08-30 07:00:00, number of deaths =  14, number of infected = 8\n",
      "2020-09-01 19:33:36,570 - june.simulator - INFO - Date = 2020-08-30 09:00:00, number of deaths =  14, number of infected = 8\n",
      "2020-09-01 19:33:36,941 - june.simulator - INFO - Date = 2020-08-30 11:00:00, number of deaths =  14, number of infected = 8\n",
      "2020-09-01 19:33:37,265 - june.simulator - INFO - Date = 2020-08-31 00:00:00, number of deaths =  14, number of infected = 8\n",
      "2020-09-01 19:33:37,753 - june.simulator - INFO - Date = 2020-08-31 02:00:00, number of deaths =  14, number of infected = 8\n",
      "2020-09-01 19:33:38,337 - june.simulator - INFO - Date = 2020-08-31 04:00:00, number of deaths =  14, number of infected = 8\n",
      "2020-09-01 19:33:38,977 - june.simulator - INFO - Date = 2020-08-31 06:00:00, number of deaths =  14, number of infected = 8\n",
      "2020-09-01 19:33:39,676 - june.simulator - INFO - Date = 2020-08-31 08:00:00, number of deaths =  14, number of infected = 8\n",
      "2020-09-01 19:33:39,972 - june.simulator - INFO - Date = 2020-08-31 10:00:00, number of deaths =  14, number of infected = 8\n",
      "2020-09-01 19:33:40,302 - june.simulator - INFO - Date = 2020-09-01 00:00:00, number of deaths =  14, number of infected = 6\n",
      "2020-09-01 19:33:41,057 - june.simulator - INFO - Date = 2020-09-01 02:00:00, number of deaths =  14, number of infected = 6\n",
      "2020-09-01 19:33:41,784 - june.simulator - INFO - Date = 2020-09-01 04:00:00, number of deaths =  14, number of infected = 6\n",
      "2020-09-01 19:33:42,674 - june.simulator - INFO - Date = 2020-09-01 06:00:00, number of deaths =  14, number of infected = 6\n",
      "2020-09-01 19:33:43,807 - june.simulator - INFO - Date = 2020-09-01 08:00:00, number of deaths =  14, number of infected = 6\n",
      "2020-09-01 19:33:44,427 - june.simulator - INFO - Date = 2020-09-01 10:00:00, number of deaths =  14, number of infected = 6\n",
      "2020-09-01 19:33:45,060 - june.simulator - INFO - Date = 2020-09-02 00:00:00, number of deaths =  14, number of infected = 6\n",
      "2020-09-01 19:33:46,208 - june.simulator - INFO - Date = 2020-09-02 02:00:00, number of deaths =  14, number of infected = 6\n",
      "2020-09-01 19:33:47,310 - june.simulator - INFO - Date = 2020-09-02 04:00:00, number of deaths =  14, number of infected = 6\n",
      "2020-09-01 19:33:48,578 - june.simulator - INFO - Date = 2020-09-02 06:00:00, number of deaths =  14, number of infected = 6\n",
      "2020-09-01 19:33:49,761 - june.simulator - INFO - Date = 2020-09-02 08:00:00, number of deaths =  14, number of infected = 6\n",
      "2020-09-01 19:33:50,379 - june.simulator - INFO - Date = 2020-09-02 10:00:00, number of deaths =  14, number of infected = 6\n",
      "2020-09-01 19:33:50,969 - june.simulator - INFO - Date = 2020-09-03 00:00:00, number of deaths =  14, number of infected = 6\n",
      "2020-09-01 19:33:52,031 - june.simulator - INFO - Date = 2020-09-03 02:00:00, number of deaths =  14, number of infected = 6\n",
      "2020-09-01 19:33:53,062 - june.simulator - INFO - Date = 2020-09-03 04:00:00, number of deaths =  14, number of infected = 6\n",
      "2020-09-01 19:33:54,026 - june.simulator - INFO - Date = 2020-09-03 06:00:00, number of deaths =  14, number of infected = 6\n",
      "2020-09-01 19:33:54,944 - june.simulator - INFO - Date = 2020-09-03 08:00:00, number of deaths =  14, number of infected = 6\n",
      "2020-09-01 19:33:55,362 - june.simulator - INFO - Date = 2020-09-03 10:00:00, number of deaths =  14, number of infected = 6\n",
      "2020-09-01 19:33:55,828 - june.simulator - INFO - Date = 2020-09-04 00:00:00, number of deaths =  14, number of infected = 6\n",
      "2020-09-01 19:33:56,843 - june.simulator - INFO - Date = 2020-09-04 02:00:00, number of deaths =  14, number of infected = 6\n",
      "2020-09-01 19:33:57,845 - june.simulator - INFO - Date = 2020-09-04 04:00:00, number of deaths =  14, number of infected = 6\n",
      "2020-09-01 19:33:58,676 - june.simulator - INFO - Date = 2020-09-04 06:00:00, number of deaths =  14, number of infected = 6\n",
      "2020-09-01 19:33:59,401 - june.simulator - INFO - Date = 2020-09-04 08:00:00, number of deaths =  14, number of infected = 6\n",
      "2020-09-01 19:33:59,842 - june.simulator - INFO - Date = 2020-09-04 10:00:00, number of deaths =  14, number of infected = 5\n",
      "2020-09-01 19:34:00,230 - june.simulator - INFO - Date = 2020-09-05 00:00:00, number of deaths =  14, number of infected = 5\n",
      "2020-09-01 19:34:01,070 - june.simulator - INFO - Date = 2020-09-05 03:00:00, number of deaths =  14, number of infected = 5\n",
      "2020-09-01 19:34:01,878 - june.simulator - INFO - Date = 2020-09-05 05:00:00, number of deaths =  14, number of infected = 5\n",
      "2020-09-01 19:34:02,736 - june.simulator - INFO - Date = 2020-09-05 07:00:00, number of deaths =  14, number of infected = 5\n",
      "2020-09-01 19:34:03,634 - june.simulator - INFO - Date = 2020-09-05 09:00:00, number of deaths =  14, number of infected = 5\n",
      "2020-09-01 19:34:04,044 - june.simulator - INFO - Date = 2020-09-05 11:00:00, number of deaths =  14, number of infected = 5\n",
      "2020-09-01 19:34:04,409 - june.simulator - INFO - Date = 2020-09-06 00:00:00, number of deaths =  14, number of infected = 5\n",
      "2020-09-01 19:34:05,230 - june.simulator - INFO - Date = 2020-09-06 03:00:00, number of deaths =  14, number of infected = 5\n",
      "2020-09-01 19:34:06,061 - june.simulator - INFO - Date = 2020-09-06 05:00:00, number of deaths =  14, number of infected = 5\n",
      "2020-09-01 19:34:06,869 - june.simulator - INFO - Date = 2020-09-06 07:00:00, number of deaths =  14, number of infected = 5\n",
      "2020-09-01 19:34:07,718 - june.simulator - INFO - Date = 2020-09-06 09:00:00, number of deaths =  14, number of infected = 5\n",
      "2020-09-01 19:34:08,097 - june.simulator - INFO - Date = 2020-09-06 11:00:00, number of deaths =  14, number of infected = 5\n",
      "2020-09-01 19:34:08,447 - june.simulator - INFO - Date = 2020-09-07 00:00:00, number of deaths =  14, number of infected = 5\n",
      "2020-09-01 19:34:09,134 - june.simulator - INFO - Date = 2020-09-07 02:00:00, number of deaths =  14, number of infected = 5\n",
      "2020-09-01 19:34:09,845 - june.simulator - INFO - Date = 2020-09-07 04:00:00, number of deaths =  14, number of infected = 5\n",
      "2020-09-01 19:34:10,540 - june.simulator - INFO - Date = 2020-09-07 06:00:00, number of deaths =  14, number of infected = 4\n",
      "2020-09-01 19:34:11,244 - june.simulator - INFO - Date = 2020-09-07 08:00:00, number of deaths =  14, number of infected = 4\n",
      "2020-09-01 19:34:11,641 - june.simulator - INFO - Date = 2020-09-07 10:00:00, number of deaths =  14, number of infected = 4\n",
      "2020-09-01 19:34:11,992 - june.simulator - INFO - Date = 2020-09-08 00:00:00, number of deaths =  14, number of infected = 4\n",
      "2020-09-01 19:34:12,681 - june.simulator - INFO - Date = 2020-09-08 02:00:00, number of deaths =  14, number of infected = 4\n",
      "2020-09-01 19:34:13,297 - june.simulator - INFO - Date = 2020-09-08 04:00:00, number of deaths =  14, number of infected = 4\n",
      "2020-09-01 19:34:13,952 - june.simulator - INFO - Date = 2020-09-08 06:00:00, number of deaths =  14, number of infected = 4\n",
      "2020-09-01 19:34:14,656 - june.simulator - INFO - Date = 2020-09-08 08:00:00, number of deaths =  14, number of infected = 4\n",
      "2020-09-01 19:34:15,033 - june.simulator - INFO - Date = 2020-09-08 10:00:00, number of deaths =  14, number of infected = 4\n",
      "2020-09-01 19:34:15,390 - june.simulator - INFO - Date = 2020-09-09 00:00:00, number of deaths =  14, number of infected = 4\n",
      "2020-09-01 19:34:16,055 - june.simulator - INFO - Date = 2020-09-09 02:00:00, number of deaths =  14, number of infected = 4\n",
      "2020-09-01 19:34:16,724 - june.simulator - INFO - Date = 2020-09-09 04:00:00, number of deaths =  14, number of infected = 4\n",
      "2020-09-01 19:34:17,381 - june.simulator - INFO - Date = 2020-09-09 06:00:00, number of deaths =  14, number of infected = 4\n"
     ]
    },
    {
     "name": "stdout",
     "output_type": "stream",
     "text": [
      "2020-09-01 19:34:18,081 - june.simulator - INFO - Date = 2020-09-09 08:00:00, number of deaths =  14, number of infected = 4\n",
      "2020-09-01 19:34:18,450 - june.simulator - INFO - Date = 2020-09-09 10:00:00, number of deaths =  14, number of infected = 4\n",
      "2020-09-01 19:34:18,813 - june.simulator - INFO - Date = 2020-09-10 00:00:00, number of deaths =  14, number of infected = 4\n",
      "2020-09-01 19:34:19,445 - june.simulator - INFO - Date = 2020-09-10 02:00:00, number of deaths =  14, number of infected = 4\n",
      "2020-09-01 19:34:20,093 - june.simulator - INFO - Date = 2020-09-10 04:00:00, number of deaths =  14, number of infected = 4\n",
      "2020-09-01 19:34:20,749 - june.simulator - INFO - Date = 2020-09-10 06:00:00, number of deaths =  14, number of infected = 4\n",
      "2020-09-01 19:34:21,398 - june.simulator - INFO - Date = 2020-09-10 08:00:00, number of deaths =  14, number of infected = 4\n",
      "2020-09-01 19:34:21,801 - june.simulator - INFO - Date = 2020-09-10 10:00:00, number of deaths =  14, number of infected = 4\n",
      "2020-09-01 19:34:22,148 - june.simulator - INFO - Date = 2020-09-11 00:00:00, number of deaths =  14, number of infected = 4\n",
      "2020-09-01 19:34:22,634 - june.simulator - INFO - Date = 2020-09-11 02:00:00, number of deaths =  14, number of infected = 4\n",
      "2020-09-01 19:34:23,144 - june.simulator - INFO - Date = 2020-09-11 04:00:00, number of deaths =  14, number of infected = 4\n",
      "2020-09-01 19:34:23,622 - june.simulator - INFO - Date = 2020-09-11 06:00:00, number of deaths =  14, number of infected = 4\n",
      "2020-09-01 19:34:24,431 - june.simulator - INFO - Date = 2020-09-11 08:00:00, number of deaths =  14, number of infected = 4\n",
      "2020-09-01 19:34:25,099 - june.simulator - INFO - Date = 2020-09-11 10:00:00, number of deaths =  14, number of infected = 4\n",
      "2020-09-01 19:34:25,665 - june.simulator - INFO - Date = 2020-09-12 00:00:00, number of deaths =  14, number of infected = 4\n",
      "2020-09-01 19:34:26,440 - june.simulator - INFO - Date = 2020-09-12 03:00:00, number of deaths =  14, number of infected = 4\n",
      "2020-09-01 19:34:27,380 - june.simulator - INFO - Date = 2020-09-12 05:00:00, number of deaths =  14, number of infected = 4\n",
      "2020-09-01 19:34:28,076 - june.simulator - INFO - Date = 2020-09-12 07:00:00, number of deaths =  14, number of infected = 4\n",
      "2020-09-01 19:34:29,016 - june.simulator - INFO - Date = 2020-09-12 09:00:00, number of deaths =  14, number of infected = 4\n",
      "2020-09-01 19:34:29,402 - june.simulator - INFO - Date = 2020-09-12 11:00:00, number of deaths =  14, number of infected = 4\n",
      "2020-09-01 19:34:29,732 - june.simulator - INFO - Date = 2020-09-13 00:00:00, number of deaths =  14, number of infected = 4\n",
      "2020-09-01 19:34:30,814 - june.simulator - INFO - Date = 2020-09-13 03:00:00, number of deaths =  14, number of infected = 4\n",
      "2020-09-01 19:34:31,753 - june.simulator - INFO - Date = 2020-09-13 05:00:00, number of deaths =  14, number of infected = 4\n",
      "2020-09-01 19:34:32,796 - june.simulator - INFO - Date = 2020-09-13 07:00:00, number of deaths =  14, number of infected = 4\n",
      "2020-09-01 19:34:33,728 - june.simulator - INFO - Date = 2020-09-13 09:00:00, number of deaths =  14, number of infected = 4\n",
      "2020-09-01 19:34:34,052 - june.simulator - INFO - Date = 2020-09-13 11:00:00, number of deaths =  14, number of infected = 4\n",
      "2020-09-01 19:34:34,380 - june.simulator - INFO - Date = 2020-09-14 00:00:00, number of deaths =  14, number of infected = 4\n",
      "2020-09-01 19:34:35,659 - june.simulator - INFO - Date = 2020-09-14 02:00:00, number of deaths =  14, number of infected = 4\n",
      "2020-09-01 19:34:36,214 - june.simulator - INFO - Date = 2020-09-14 04:00:00, number of deaths =  14, number of infected = 4\n",
      "2020-09-01 19:34:36,832 - june.simulator - INFO - Date = 2020-09-14 06:00:00, number of deaths =  14, number of infected = 4\n",
      "2020-09-01 19:34:37,390 - june.simulator - INFO - Date = 2020-09-14 08:00:00, number of deaths =  14, number of infected = 4\n",
      "2020-09-01 19:34:38,015 - june.simulator - INFO - Date = 2020-09-14 10:00:00, number of deaths =  14, number of infected = 4\n",
      "2020-09-01 19:34:38,362 - june.simulator - INFO - Date = 2020-09-15 00:00:00, number of deaths =  14, number of infected = 4\n",
      "2020-09-01 19:34:39,216 - june.simulator - INFO - Date = 2020-09-15 02:00:00, number of deaths =  14, number of infected = 4\n",
      "2020-09-01 19:34:39,807 - june.simulator - INFO - Date = 2020-09-15 04:00:00, number of deaths =  14, number of infected = 4\n",
      "2020-09-01 19:34:40,301 - june.simulator - INFO - Date = 2020-09-15 06:00:00, number of deaths =  14, number of infected = 4\n",
      "2020-09-01 19:34:40,807 - june.simulator - INFO - Date = 2020-09-15 08:00:00, number of deaths =  14, number of infected = 4\n",
      "2020-09-01 19:34:41,095 - june.simulator - INFO - Date = 2020-09-15 10:00:00, number of deaths =  14, number of infected = 4\n",
      "2020-09-01 19:34:41,518 - june.simulator - INFO - Date = 2020-09-16 00:00:00, number of deaths =  14, number of infected = 4\n",
      "2020-09-01 19:34:42,091 - june.simulator - INFO - Date = 2020-09-16 02:00:00, number of deaths =  14, number of infected = 4\n",
      "2020-09-01 19:34:42,546 - june.simulator - INFO - Date = 2020-09-16 04:00:00, number of deaths =  14, number of infected = 4\n",
      "2020-09-01 19:34:43,035 - june.simulator - INFO - Date = 2020-09-16 06:00:00, number of deaths =  14, number of infected = 4\n",
      "2020-09-01 19:34:43,460 - june.simulator - INFO - Date = 2020-09-16 08:00:00, number of deaths =  14, number of infected = 4\n",
      "2020-09-01 19:34:43,781 - june.simulator - INFO - Date = 2020-09-16 10:00:00, number of deaths =  14, number of infected = 4\n",
      "2020-09-01 19:34:44,074 - june.simulator - INFO - Date = 2020-09-17 00:00:00, number of deaths =  14, number of infected = 4\n",
      "2020-09-01 19:34:44,544 - june.simulator - INFO - Date = 2020-09-17 02:00:00, number of deaths =  14, number of infected = 4\n",
      "2020-09-01 19:34:45,043 - june.simulator - INFO - Date = 2020-09-17 04:00:00, number of deaths =  14, number of infected = 4\n",
      "2020-09-01 19:34:45,529 - june.simulator - INFO - Date = 2020-09-17 06:00:00, number of deaths =  14, number of infected = 4\n",
      "2020-09-01 19:34:46,052 - june.simulator - INFO - Date = 2020-09-17 08:00:00, number of deaths =  14, number of infected = 4\n",
      "2020-09-01 19:34:46,340 - june.simulator - INFO - Date = 2020-09-17 10:00:00, number of deaths =  14, number of infected = 4\n",
      "2020-09-01 19:34:46,631 - june.simulator - INFO - Date = 2020-09-18 00:00:00, number of deaths =  14, number of infected = 4\n",
      "2020-09-01 19:34:47,147 - june.simulator - INFO - Date = 2020-09-18 02:00:00, number of deaths =  14, number of infected = 4\n",
      "2020-09-01 19:34:47,595 - june.simulator - INFO - Date = 2020-09-18 04:00:00, number of deaths =  14, number of infected = 4\n",
      "2020-09-01 19:34:48,087 - june.simulator - INFO - Date = 2020-09-18 06:00:00, number of deaths =  14, number of infected = 4\n",
      "2020-09-01 19:34:48,536 - june.simulator - INFO - Date = 2020-09-18 08:00:00, number of deaths =  14, number of infected = 4\n",
      "2020-09-01 19:34:48,820 - june.simulator - INFO - Date = 2020-09-18 10:00:00, number of deaths =  14, number of infected = 4\n",
      "2020-09-01 19:34:49,090 - june.simulator - INFO - Date = 2020-09-19 00:00:00, number of deaths =  14, number of infected = 4\n",
      "2020-09-01 19:34:49,593 - june.simulator - INFO - Date = 2020-09-19 03:00:00, number of deaths =  14, number of infected = 4\n",
      "2020-09-01 19:34:50,143 - june.simulator - INFO - Date = 2020-09-19 05:00:00, number of deaths =  14, number of infected = 4\n",
      "2020-09-01 19:34:50,632 - june.simulator - INFO - Date = 2020-09-19 07:00:00, number of deaths =  14, number of infected = 4\n",
      "2020-09-01 19:34:51,112 - june.simulator - INFO - Date = 2020-09-19 09:00:00, number of deaths =  14, number of infected = 4\n",
      "2020-09-01 19:34:51,379 - june.simulator - INFO - Date = 2020-09-19 11:00:00, number of deaths =  14, number of infected = 4\n",
      "2020-09-01 19:34:51,663 - june.simulator - INFO - Date = 2020-09-20 00:00:00, number of deaths =  14, number of infected = 4\n",
      "2020-09-01 19:34:52,156 - june.simulator - INFO - Date = 2020-09-20 03:00:00, number of deaths =  14, number of infected = 3\n",
      "2020-09-01 19:34:52,637 - june.simulator - INFO - Date = 2020-09-20 05:00:00, number of deaths =  14, number of infected = 3\n",
      "2020-09-01 19:34:53,065 - june.simulator - INFO - Date = 2020-09-20 07:00:00, number of deaths =  14, number of infected = 3\n"
     ]
    },
    {
     "name": "stdout",
     "output_type": "stream",
     "text": [
      "2020-09-01 19:34:53,500 - june.simulator - INFO - Date = 2020-09-20 09:00:00, number of deaths =  14, number of infected = 3\n",
      "2020-09-01 19:34:53,762 - june.simulator - INFO - Date = 2020-09-20 11:00:00, number of deaths =  14, number of infected = 3\n",
      "CPU times: user 4min 23s, sys: 4.54 s, total: 4min 28s\n",
      "Wall time: 4min 31s\n"
     ]
    }
   ],
   "source": [
    "%%time\n",
    "simulator.run()"
   ]
  },
  {
   "cell_type": "markdown",
   "metadata": {},
   "source": [
    "# Getting the results"
   ]
  },
  {
   "cell_type": "markdown",
   "metadata": {},
   "source": [
    "All results are stored in a json file specified in the ``save_path`` variable in the config file. We can also access it from ``world.logger`` directly."
   ]
  },
  {
   "cell_type": "code",
   "execution_count": 59,
   "metadata": {},
   "outputs": [],
   "source": [
    "import pandas as pd\n",
    "read = ReadLogger()"
   ]
  },
  {
   "cell_type": "code",
   "execution_count": 42,
   "metadata": {},
   "outputs": [],
   "source": [
    "read.load_infection_location()"
   ]
  },
  {
   "cell_type": "code",
   "execution_count": 43,
   "metadata": {},
   "outputs": [],
   "source": [
    "infection_locations = read.get_locations_infections()"
   ]
  },
  {
   "cell_type": "code",
   "execution_count": 44,
   "metadata": {},
   "outputs": [],
   "source": [
    "unique_locations, counts_locations = np.unique(\n",
    "                np.array(infection_locations),\n",
    "                return_counts=True)\n",
    "\n",
    "location_counts_df = pd.DataFrame(\n",
    "    {'locations': unique_locations,\n",
    "    'counts': counts_locations}\n",
    ")\n",
    "location_counts_df.set_index('locations', inplace=True)\n"
   ]
  },
  {
   "cell_type": "code",
   "execution_count": 45,
   "metadata": {},
   "outputs": [],
   "source": [
    "location_counts_df['percent_infections']= 100*(location_counts_df['counts'])/location_counts_df.values.sum()"
   ]
  },
  {
   "cell_type": "code",
   "execution_count": 46,
   "metadata": {},
   "outputs": [
    {
     "data": {
      "text/plain": [
       "Text(0.5, 0, 'location')"
      ]
     },
     "execution_count": 46,
     "metadata": {},
     "output_type": "execute_result"
    },
    {
     "data": {
      "image/png": "[encoded data removed]",
      "text/plain": [
       "<Figure size 432x288 with 1 Axes>"
      ]
     },
     "metadata": {
      "needs_background": "light"
     },
     "output_type": "display_data"
    }
   ],
   "source": [
    "import matplotlib.ticker as mtick\n",
    "\n",
    "ax = location_counts_df['percent_infections'].sort_values().plot.bar()\n",
    "ax.yaxis.set_major_formatter(mtick.PercentFormatter())\n",
    "plt.ylabel('Percentage of infections at location')\n",
    "plt.xlabel('location')"
   ]
  },
  {
   "cell_type": "code",
   "execution_count": 47,
   "metadata": {},
   "outputs": [],
   "source": [
    "for location in unique_locations:\n",
    "    read.locations_df[str(location)] = read.locations_df.apply(\n",
    "        lambda x: x.location.count(str(location)), axis=1\n",
    "    )\n",
    "read.locations_df.index = pd.to_datetime(read.locations_df.index)"
   ]
  },
  {
   "cell_type": "code",
   "execution_count": 48,
   "metadata": {},
   "outputs": [
    {
     "data": {
      "text/plain": [
       "<matplotlib.axes._subplots.AxesSubplot at 0x7fe92c972160>"
      ]
     },
     "execution_count": 48,
     "metadata": {},
     "output_type": "execute_result"
    },
    {
     "data": {
      "image/png": "[encoded data removed]",
      "text/plain": [
       "<Figure size 432x288 with 1 Axes>"
      ]
     },
     "metadata": {
      "needs_background": "light"
     },
     "output_type": "display_data"
    }
   ],
   "source": [
    "read.locations_df.iloc[:,3:].plot()"
   ]
  },
  {
   "cell_type": "markdown",
   "metadata": {},
   "source": [
    "## Where did outbreaks happen?"
   ]
  },
  {
   "cell_type": "code",
   "execution_count": 49,
   "metadata": {},
   "outputs": [],
   "source": [
    "unique_id, count_id =  np.unique(\n",
    "        np.array(read.locations_df['location_id'].sum()),\n",
    "        return_counts=True\n",
    ")"
   ]
  },
  {
   "cell_type": "code",
   "execution_count": 50,
   "metadata": {},
   "outputs": [
    {
     "data": {
      "text/plain": [
       "array(['communal_105', 'communal_87', 'communal_103', 'communal_77',\n",
       "       'communal_99'], dtype='<U22')"
      ]
     },
     "execution_count": 50,
     "metadata": {},
     "output_type": "execute_result"
    }
   ],
   "source": [
    "unique_id[np.argsort(count_id)[-5:]]"
   ]
  },
  {
   "cell_type": "code",
   "execution_count": 51,
   "metadata": {},
   "outputs": [
    {
     "data": {
      "text/plain": [
       "array([57, 58, 59, 62, 65])"
      ]
     },
     "execution_count": 51,
     "metadata": {},
     "output_type": "execute_result"
    }
   ],
   "source": [
    "count_id[np.argsort(count_id)[-5:]]"
   ]
  },
  {
   "cell_type": "code",
   "execution_count": 52,
   "metadata": {},
   "outputs": [
    {
     "data": {
      "text/plain": [
       "<matplotlib.legend.Legend at 0x7fe92c8bda90>"
      ]
     },
     "execution_count": 52,
     "metadata": {},
     "output_type": "execute_result"
    },
    {
     "data": {
      "image/png": "[encoded data removed]",
      "text/plain": [
       "<Figure size 432x288 with 1 Axes>"
      ]
     },
     "metadata": {
      "needs_background": "light"
     },
     "output_type": "display_data"
    }
   ],
   "source": [
    "world_df = read.world_summary()\n",
    "world_df.plot()\n",
    "plt.legend()"
   ]
  },
  {
   "cell_type": "code",
   "execution_count": 53,
   "metadata": {},
   "outputs": [
    {
     "data": {
      "text/plain": [
       "<matplotlib.axes._subplots.AxesSubplot at 0x7fe92c650fd0>"
      ]
     },
     "execution_count": 53,
     "metadata": {},
     "output_type": "execute_result"
    },
    {
     "data": {
      "image/png": "[encoded data removed]",
      "text/plain": [
       "<Figure size 432x288 with 1 Axes>"
      ]
     },
     "metadata": {
      "needs_background": "light"
     },
     "output_type": "display_data"
    }
   ],
   "source": [
    "world_df['daily_infections'].plot()"
   ]
  },
  {
   "cell_type": "markdown",
   "metadata": {},
   "source": [
    "## Output to save"
   ]
  },
  {
   "cell_type": "code",
   "execution_count": 67,
   "metadata": {},
   "outputs": [
    {
     "name": "stdout",
     "output_type": "stream",
     "text": [
      "CPU times: user 4.49 s, sys: 23 ms, total: 4.51 s\n",
      "Wall time: 4.54 s\n"
     ]
    }
   ],
   "source": [
    "%%time\n",
    "summary = read.run_summary(\n",
    "    super_area_region_path=camp_data_path \n",
    "    / 'input/geography/area_super_area_region.csv'\n",
    ")"
   ]
  },
  {
   "cell_type": "code",
   "execution_count": 68,
   "metadata": {},
   "outputs": [
    {
     "data": {
      "text/html": [
       "<div>\n",
       "<style scoped>\n",
       "    .dataframe tbody tr th:only-of-type {\n",
       "        vertical-align: middle;\n",
       "    }\n",
       "\n",
       "    .dataframe tbody tr th {\n",
       "        vertical-align: top;\n",
       "    }\n",
       "\n",
       "    .dataframe thead th {\n",
       "        text-align: right;\n",
       "    }\n",
       "</style>\n",
       "<table border=\"1\" class=\"dataframe\">\n",
       "  <thead>\n",
       "    <tr style=\"text-align: right;\">\n",
       "      <th></th>\n",
       "      <th>super_area</th>\n",
       "      <th>current_infected</th>\n",
       "      <th>current_dead</th>\n",
       "      <th>current_recovered</th>\n",
       "      <th>current_susceptible</th>\n",
       "      <th>current_hospitalised</th>\n",
       "      <th>current_intensive_care</th>\n",
       "      <th>daily_recovered</th>\n",
       "      <th>daily_deaths_home</th>\n",
       "      <th>daily_deaths_hospital</th>\n",
       "      <th>daily_deaths_icu</th>\n",
       "      <th>daily_deaths</th>\n",
       "      <th>daily_hospital_admissions</th>\n",
       "      <th>daily_infections</th>\n",
       "      <th>region</th>\n",
       "      <th>location_id</th>\n",
       "    </tr>\n",
       "    <tr>\n",
       "      <th>time_stamp</th>\n",
       "      <th></th>\n",
       "      <th></th>\n",
       "      <th></th>\n",
       "      <th></th>\n",
       "      <th></th>\n",
       "      <th></th>\n",
       "      <th></th>\n",
       "      <th></th>\n",
       "      <th></th>\n",
       "      <th></th>\n",
       "      <th></th>\n",
       "      <th></th>\n",
       "      <th></th>\n",
       "      <th></th>\n",
       "      <th></th>\n",
       "      <th></th>\n",
       "    </tr>\n",
       "  </thead>\n",
       "  <tbody>\n",
       "    <tr>\n",
       "      <th>2020-05-24</th>\n",
       "      <td>CXB-219-A</td>\n",
       "      <td>1</td>\n",
       "      <td>0</td>\n",
       "      <td>0</td>\n",
       "      <td>5967</td>\n",
       "      <td>0</td>\n",
       "      <td>0</td>\n",
       "      <td>0</td>\n",
       "      <td>0</td>\n",
       "      <td>0</td>\n",
       "      <td>0</td>\n",
       "      <td>0</td>\n",
       "      <td>0.0</td>\n",
       "      <td>3</td>\n",
       "      <td>CXB-219</td>\n",
       "      <td>[shelter_863, shelter_863]</td>\n",
       "    </tr>\n",
       "    <tr>\n",
       "      <th>2020-05-25</th>\n",
       "      <td>CXB-219-A</td>\n",
       "      <td>5</td>\n",
       "      <td>0</td>\n",
       "      <td>0</td>\n",
       "      <td>5963</td>\n",
       "      <td>0</td>\n",
       "      <td>0</td>\n",
       "      <td>0</td>\n",
       "      <td>0</td>\n",
       "      <td>0</td>\n",
       "      <td>0</td>\n",
       "      <td>0</td>\n",
       "      <td>0.0</td>\n",
       "      <td>5</td>\n",
       "      <td>CXB-219</td>\n",
       "      <td>[communal_25, communal_25, shelter_906, shelte...</td>\n",
       "    </tr>\n",
       "    <tr>\n",
       "      <th>2020-05-26</th>\n",
       "      <td>CXB-219-A</td>\n",
       "      <td>8</td>\n",
       "      <td>0</td>\n",
       "      <td>0</td>\n",
       "      <td>5961</td>\n",
       "      <td>0</td>\n",
       "      <td>0</td>\n",
       "      <td>0</td>\n",
       "      <td>0</td>\n",
       "      <td>0</td>\n",
       "      <td>0</td>\n",
       "      <td>0</td>\n",
       "      <td>0.0</td>\n",
       "      <td>0</td>\n",
       "      <td>CXB-219</td>\n",
       "      <td>NaN</td>\n",
       "    </tr>\n",
       "    <tr>\n",
       "      <th>2020-05-27</th>\n",
       "      <td>CXB-219-A</td>\n",
       "      <td>8</td>\n",
       "      <td>0</td>\n",
       "      <td>0</td>\n",
       "      <td>5961</td>\n",
       "      <td>0</td>\n",
       "      <td>0</td>\n",
       "      <td>0</td>\n",
       "      <td>0</td>\n",
       "      <td>0</td>\n",
       "      <td>0</td>\n",
       "      <td>0</td>\n",
       "      <td>0.0</td>\n",
       "      <td>0</td>\n",
       "      <td>CXB-219</td>\n",
       "      <td>NaN</td>\n",
       "    </tr>\n",
       "    <tr>\n",
       "      <th>2020-05-28</th>\n",
       "      <td>CXB-219-A</td>\n",
       "      <td>8</td>\n",
       "      <td>0</td>\n",
       "      <td>0</td>\n",
       "      <td>5961</td>\n",
       "      <td>0</td>\n",
       "      <td>0</td>\n",
       "      <td>0</td>\n",
       "      <td>0</td>\n",
       "      <td>0</td>\n",
       "      <td>0</td>\n",
       "      <td>0</td>\n",
       "      <td>0.0</td>\n",
       "      <td>0</td>\n",
       "      <td>CXB-219</td>\n",
       "      <td>NaN</td>\n",
       "    </tr>\n",
       "    <tr>\n",
       "      <th>...</th>\n",
       "      <td>...</td>\n",
       "      <td>...</td>\n",
       "      <td>...</td>\n",
       "      <td>...</td>\n",
       "      <td>...</td>\n",
       "      <td>...</td>\n",
       "      <td>...</td>\n",
       "      <td>...</td>\n",
       "      <td>...</td>\n",
       "      <td>...</td>\n",
       "      <td>...</td>\n",
       "      <td>...</td>\n",
       "      <td>...</td>\n",
       "      <td>...</td>\n",
       "      <td>...</td>\n",
       "      <td>...</td>\n",
       "    </tr>\n",
       "    <tr>\n",
       "      <th>2020-09-16</th>\n",
       "      <td>CXB-219-D</td>\n",
       "      <td>1</td>\n",
       "      <td>2</td>\n",
       "      <td>4782</td>\n",
       "      <td>8</td>\n",
       "      <td>0</td>\n",
       "      <td>0</td>\n",
       "      <td>0</td>\n",
       "      <td>0</td>\n",
       "      <td>0</td>\n",
       "      <td>0</td>\n",
       "      <td>0</td>\n",
       "      <td>0.0</td>\n",
       "      <td>0</td>\n",
       "      <td>CXB-219</td>\n",
       "      <td>NaN</td>\n",
       "    </tr>\n",
       "    <tr>\n",
       "      <th>2020-09-17</th>\n",
       "      <td>CXB-219-D</td>\n",
       "      <td>1</td>\n",
       "      <td>2</td>\n",
       "      <td>4782</td>\n",
       "      <td>8</td>\n",
       "      <td>0</td>\n",
       "      <td>0</td>\n",
       "      <td>0</td>\n",
       "      <td>0</td>\n",
       "      <td>0</td>\n",
       "      <td>0</td>\n",
       "      <td>0</td>\n",
       "      <td>0.0</td>\n",
       "      <td>0</td>\n",
       "      <td>CXB-219</td>\n",
       "      <td>NaN</td>\n",
       "    </tr>\n",
       "    <tr>\n",
       "      <th>2020-09-18</th>\n",
       "      <td>CXB-219-D</td>\n",
       "      <td>1</td>\n",
       "      <td>2</td>\n",
       "      <td>4782</td>\n",
       "      <td>8</td>\n",
       "      <td>0</td>\n",
       "      <td>0</td>\n",
       "      <td>0</td>\n",
       "      <td>0</td>\n",
       "      <td>0</td>\n",
       "      <td>0</td>\n",
       "      <td>0</td>\n",
       "      <td>0.0</td>\n",
       "      <td>0</td>\n",
       "      <td>CXB-219</td>\n",
       "      <td>NaN</td>\n",
       "    </tr>\n",
       "    <tr>\n",
       "      <th>2020-09-19</th>\n",
       "      <td>CXB-219-D</td>\n",
       "      <td>1</td>\n",
       "      <td>2</td>\n",
       "      <td>4782</td>\n",
       "      <td>8</td>\n",
       "      <td>0</td>\n",
       "      <td>0</td>\n",
       "      <td>0</td>\n",
       "      <td>0</td>\n",
       "      <td>0</td>\n",
       "      <td>0</td>\n",
       "      <td>0</td>\n",
       "      <td>0.0</td>\n",
       "      <td>0</td>\n",
       "      <td>CXB-219</td>\n",
       "      <td>NaN</td>\n",
       "    </tr>\n",
       "    <tr>\n",
       "      <th>2020-09-20</th>\n",
       "      <td>CXB-219-D</td>\n",
       "      <td>1</td>\n",
       "      <td>2</td>\n",
       "      <td>4782</td>\n",
       "      <td>8</td>\n",
       "      <td>0</td>\n",
       "      <td>0</td>\n",
       "      <td>0</td>\n",
       "      <td>0</td>\n",
       "      <td>0</td>\n",
       "      <td>0</td>\n",
       "      <td>0</td>\n",
       "      <td>0.0</td>\n",
       "      <td>0</td>\n",
       "      <td>CXB-219</td>\n",
       "      <td>NaN</td>\n",
       "    </tr>\n",
       "  </tbody>\n",
       "</table>\n",
       "<p>480 rows × 16 columns</p>\n",
       "</div>"
      ],
      "text/plain": [
       "           super_area  current_infected  current_dead  current_recovered  \\\n",
       "time_stamp                                                                 \n",
       "2020-05-24  CXB-219-A                 1             0                  0   \n",
       "2020-05-25  CXB-219-A                 5             0                  0   \n",
       "2020-05-26  CXB-219-A                 8             0                  0   \n",
       "2020-05-27  CXB-219-A                 8             0                  0   \n",
       "2020-05-28  CXB-219-A                 8             0                  0   \n",
       "...               ...               ...           ...                ...   \n",
       "2020-09-16  CXB-219-D                 1             2               4782   \n",
       "2020-09-17  CXB-219-D                 1             2               4782   \n",
       "2020-09-18  CXB-219-D                 1             2               4782   \n",
       "2020-09-19  CXB-219-D                 1             2               4782   \n",
       "2020-09-20  CXB-219-D                 1             2               4782   \n",
       "\n",
       "            current_susceptible  current_hospitalised  current_intensive_care  \\\n",
       "time_stamp                                                                      \n",
       "2020-05-24                 5967                     0                       0   \n",
       "2020-05-25                 5963                     0                       0   \n",
       "2020-05-26                 5961                     0                       0   \n",
       "2020-05-27                 5961                     0                       0   \n",
       "2020-05-28                 5961                     0                       0   \n",
       "...                         ...                   ...                     ...   \n",
       "2020-09-16                    8                     0                       0   \n",
       "2020-09-17                    8                     0                       0   \n",
       "2020-09-18                    8                     0                       0   \n",
       "2020-09-19                    8                     0                       0   \n",
       "2020-09-20                    8                     0                       0   \n",
       "\n",
       "            daily_recovered  daily_deaths_home  daily_deaths_hospital  \\\n",
       "time_stamp                                                              \n",
       "2020-05-24                0                  0                      0   \n",
       "2020-05-25                0                  0                      0   \n",
       "2020-05-26                0                  0                      0   \n",
       "2020-05-27                0                  0                      0   \n",
       "2020-05-28                0                  0                      0   \n",
       "...                     ...                ...                    ...   \n",
       "2020-09-16                0                  0                      0   \n",
       "2020-09-17                0                  0                      0   \n",
       "2020-09-18                0                  0                      0   \n",
       "2020-09-19                0                  0                      0   \n",
       "2020-09-20                0                  0                      0   \n",
       "\n",
       "            daily_deaths_icu  daily_deaths  daily_hospital_admissions  \\\n",
       "time_stamp                                                              \n",
       "2020-05-24                 0             0                        0.0   \n",
       "2020-05-25                 0             0                        0.0   \n",
       "2020-05-26                 0             0                        0.0   \n",
       "2020-05-27                 0             0                        0.0   \n",
       "2020-05-28                 0             0                        0.0   \n",
       "...                      ...           ...                        ...   \n",
       "2020-09-16                 0             0                        0.0   \n",
       "2020-09-17                 0             0                        0.0   \n",
       "2020-09-18                 0             0                        0.0   \n",
       "2020-09-19                 0             0                        0.0   \n",
       "2020-09-20                 0             0                        0.0   \n",
       "\n",
       "            daily_infections   region  \\\n",
       "time_stamp                              \n",
       "2020-05-24                 3  CXB-219   \n",
       "2020-05-25                 5  CXB-219   \n",
       "2020-05-26                 0  CXB-219   \n",
       "2020-05-27                 0  CXB-219   \n",
       "2020-05-28                 0  CXB-219   \n",
       "...                      ...      ...   \n",
       "2020-09-16                 0  CXB-219   \n",
       "2020-09-17                 0  CXB-219   \n",
       "2020-09-18                 0  CXB-219   \n",
       "2020-09-19                 0  CXB-219   \n",
       "2020-09-20                 0  CXB-219   \n",
       "\n",
       "                                                  location_id  \n",
       "time_stamp                                                     \n",
       "2020-05-24                         [shelter_863, shelter_863]  \n",
       "2020-05-25  [communal_25, communal_25, shelter_906, shelte...  \n",
       "2020-05-26                                                NaN  \n",
       "2020-05-27                                                NaN  \n",
       "2020-05-28                                                NaN  \n",
       "...                                                       ...  \n",
       "2020-09-16                                                NaN  \n",
       "2020-09-17                                                NaN  \n",
       "2020-09-18                                                NaN  \n",
       "2020-09-19                                                NaN  \n",
       "2020-09-20                                                NaN  \n",
       "\n",
       "[480 rows x 16 columns]"
      ]
     },
     "execution_count": 68,
     "metadata": {},
     "output_type": "execute_result"
    }
   ],
   "source": [
    "summary"
   ]
  },
  {
   "cell_type": "code",
   "execution_count": null,
   "metadata": {},
   "outputs": [],
   "source": []
  },
  {
   "cell_type": "code",
   "execution_count": null,
   "metadata": {},
   "outputs": [],
   "source": []
  }
 ],
 "metadata": {
  "kernelspec": {
   "display_name": "camps",
   "language": "python",
   "name": "camps"
  },
  "language_info": {
   "codemirror_mode": {
    "name": "ipython",
    "version": 3
   },
   "file_extension": ".py",
   "mimetype": "text/x-python",
   "name": "python",
   "nbconvert_exporter": "python",
   "pygments_lexer": "ipython3",
   "version": "3.8.3"
  }
 },
 "nbformat": 4,
 "nbformat_minor": 4
}
