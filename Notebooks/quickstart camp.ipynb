{
 "cells": [
  {
   "cell_type": "code",
   "execution_count": 1,
   "metadata": {},
   "outputs": [],
   "source": [
    "%load_ext autoreload\n",
    "%autoreload 2"
   ]
  },
  {
   "cell_type": "code",
   "execution_count": 2,
   "metadata": {},
   "outputs": [],
   "source": [
    "import warnings\n",
    "warnings.filterwarnings('ignore')"
   ]
  },
  {
   "cell_type": "code",
   "execution_count": 3,
   "metadata": {},
   "outputs": [],
   "source": [
    "import numpy as np\n",
    "import matplotlib.pyplot as plt \n",
    "import pandas as pd\n",
    "import time\n",
    "import matplotlib.pyplot as plt\n",
    "import seaborn as sns\n",
    "from datetime import datetime\n",
    "import sys\n",
    "sys.path.append(\"../camp_scripts\") # change accordingly\n",
    "sns.set_context('notebook')"
   ]
  },
  {
   "cell_type": "code",
   "execution_count": 4,
   "metadata": {},
   "outputs": [
    {
     "name": "stderr",
     "output_type": "stream",
     "text": [
      "No --data argument given - defaulting to:\n",
      "/home/arnau/code/CPModelling/data\n",
      "No --configs argument given - defaulting to:\n",
      "/home/arnau/code/CPModelling/configs\n"
     ]
    },
    {
     "name": "stdout",
     "output_type": "stream",
     "text": [
      "2020-07-06 22:18:30,836 - camps.paths - WARNING - No --data argument given - defaulting to:\n",
      "/home/arnau/code/CPModelling/data\n",
      "2020-07-06 22:18:30,837 - camps.paths - WARNING - No --configs argument given - defaulting to:\n",
      "/home/arnau/code/CPModelling/configs\n",
      "2020-07-06 22:18:30,837 - camps.paths - WARNING - No --camp_data argument given - defaulting to:\n",
      "/home/arnau/code/CPModelling/camp_data\n",
      "2020-07-06 22:18:30,838 - camps.paths - WARNING - No --configs_camps argument given - defaulting to:\n",
      "/home/arnau/code/CPModelling/configs_camps\n"
     ]
    }
   ],
   "source": [
    "from june.demography.geography import Geography\n",
    "from june.demography.demography import load_age_and_sex_generators_for_bins, Demography, Population\n",
    "from june.paths import data_path\n",
    "from june.infection_seed import InfectionSeed\n",
    "from june.infection.infection import InfectionSelector\n",
    "from june.interaction import ContactAveraging\n",
    "from june.groups import Hospital, Hospitals\n",
    "from june.distributors import HospitalDistributor\n",
    "from june.world import generate_world_from_hdf5\n",
    "from june.groups import Cemeteries\n",
    "from june.policy import Policy, Policies\n",
    "from june.logger.read_logger import ReadLogger\n",
    "\n",
    "from camps.paths import camp_data_path\n",
    "from camps.world import World\n",
    "from camps.groups.leisure import generate_leisure_for_world, generate_leisure_for_config\n",
    "from camp_creation import generate_empty_world, populate_world, distribute_people_to_households # this is loaded from the ../camp_scripts folder\n",
    "from camps.simulator import CampSimulator"
   ]
  },
  {
   "cell_type": "code",
   "execution_count": 5,
   "metadata": {},
   "outputs": [],
   "source": [
    "from camps.groups import PumpLatrines, PumpLatrineDistributor\n",
    "from camps.groups import DistributionCenters, DistributionCenterDistributor\n",
    "from camps.groups import Communals, CommunalDistributor\n",
    "from camps.groups import FemaleCommunals, FemaleCommunalDistributor\n",
    "from camps.groups import Religiouss, ReligiousDistributor\n",
    "from camps.groups import Shelter, Shelters, ShelterDistributor\n",
    "from june.groups.leisure import HouseholdVisitsDistributor"
   ]
  },
  {
   "cell_type": "markdown",
   "metadata": {},
   "source": [
    "## Initialize the world"
   ]
  },
  {
   "cell_type": "code",
   "execution_count": 6,
   "metadata": {},
   "outputs": [
    {
     "name": "stdout",
     "output_type": "stream",
     "text": [
      "2020-07-06 22:18:31,028 - june.demography.geography - INFO - There are 65 areas and 4 super_areas in the world.\n"
     ]
    }
   ],
   "source": [
    "# create empty world's geography\n",
    "world = generate_empty_world(filter_key = {\"region\" : [\"CXB-219\"]})"
   ]
  },
  {
   "cell_type": "code",
   "execution_count": 7,
   "metadata": {},
   "outputs": [],
   "source": [
    "# populate empty world\n",
    "populate_world(world)"
   ]
  },
  {
   "cell_type": "code",
   "execution_count": 8,
   "metadata": {},
   "outputs": [],
   "source": [
    "# distribute people to households\n",
    "distribute_people_to_households(world)"
   ]
  },
  {
   "cell_type": "code",
   "execution_count": 9,
   "metadata": {},
   "outputs": [
    {
     "name": "stdout",
     "output_type": "stream",
     "text": [
      "2020-07-06 22:18:31,850 - june.groups.hospital - INFO - There are 8 hospitals in the world.\n"
     ]
    }
   ],
   "source": [
    "# this is not working\n",
    "hospitals= Hospitals.from_file(\n",
    "    filename=camp_data_path / 'input/hospitals/hospitals.csv'\n",
    ")\n",
    "world.hospitals = hospitals\n",
    "hospital_distributor = HospitalDistributor(hospitals, \n",
    "                                           medic_min_age=20,\n",
    "                                           patients_per_medic=10)\n",
    "\n",
    "hospital_distributor.distribute_medics_from_world(world.people)\n"
   ]
  },
  {
   "cell_type": "code",
   "execution_count": 10,
   "metadata": {},
   "outputs": [],
   "source": [
    "world.pump_latrines = PumpLatrines.for_areas(world.areas)\n",
    "world.distribution_centers = DistributionCenters.for_areas(world.areas)\n",
    "world.communals = Communals.for_areas(world.areas)\n",
    "world.female_communals = FemaleCommunals.for_areas(world.areas)\n",
    "world.religiouss = Religiouss.for_areas(world.areas)"
   ]
  },
  {
   "cell_type": "code",
   "execution_count": 11,
   "metadata": {},
   "outputs": [],
   "source": [
    "#world.box_mode = False\n",
    "world.cemeteries = Cemeteries()"
   ]
  },
  {
   "cell_type": "markdown",
   "metadata": {},
   "source": [
    "## Geography exploration"
   ]
  },
  {
   "cell_type": "markdown",
   "metadata": {},
   "source": [
    "### UNHCR camp blocks inside the World"
   ]
  },
  {
   "cell_type": "code",
   "execution_count": 12,
   "metadata": {},
   "outputs": [],
   "source": [
    "super_areas = []\n",
    "for super_area in world.super_areas:\n",
    "    super_areas.append(super_area.name)"
   ]
  },
  {
   "cell_type": "code",
   "execution_count": 13,
   "metadata": {},
   "outputs": [
    {
     "data": {
      "text/plain": [
       "['CXB-219-A', 'CXB-219-B', 'CXB-219-C', 'CXB-219-D']"
      ]
     },
     "execution_count": 13,
     "metadata": {},
     "output_type": "execute_result"
    }
   ],
   "source": [
    "super_areas[:5]"
   ]
  },
  {
   "cell_type": "markdown",
   "metadata": {},
   "source": [
    "### Mahjee blocks inside World"
   ]
  },
  {
   "cell_type": "code",
   "execution_count": 14,
   "metadata": {},
   "outputs": [],
   "source": [
    "areas = []\n",
    "for area in world.areas:\n",
    "    areas.append(area.name)"
   ]
  },
  {
   "cell_type": "code",
   "execution_count": 15,
   "metadata": {},
   "outputs": [
    {
     "data": {
      "text/plain": [
       "['CXB-219-062', 'CXB-219-063', 'CXB-219-061', 'CXB-219-060', 'CXB-219-065']"
      ]
     },
     "execution_count": 15,
     "metadata": {},
     "output_type": "execute_result"
    }
   ],
   "source": [
    "areas[:5]"
   ]
  },
  {
   "cell_type": "markdown",
   "metadata": {},
   "source": [
    "## Demography exploration"
   ]
  },
  {
   "cell_type": "markdown",
   "metadata": {},
   "source": [
    "### UNHCR block residents"
   ]
  },
  {
   "cell_type": "code",
   "execution_count": 16,
   "metadata": {},
   "outputs": [],
   "source": [
    "sample_ages = []\n",
    "sample_sexes = []\n",
    "for person in world.super_areas.members[0].people:\n",
    "    sample_ages.append(person.age)\n",
    "    sample_sexes.append(person.sex)"
   ]
  },
  {
   "cell_type": "code",
   "execution_count": 17,
   "metadata": {},
   "outputs": [
    {
     "data": {
      "text/plain": [
       "(['f', 'f', 'm', 'm', 'm'], [35, 51, 28, 18, 44])"
      ]
     },
     "execution_count": 17,
     "metadata": {},
     "output_type": "execute_result"
    }
   ],
   "source": [
    "sample_sexes[:5], sample_ages[:5]"
   ]
  },
  {
   "cell_type": "code",
   "execution_count": 18,
   "metadata": {},
   "outputs": [
    {
     "data": {
      "image/png": "[encoded data removed]",
      "text/plain": [
       "<Figure size 432x288 with 1 Axes>"
      ]
     },
     "metadata": {
      "needs_background": "light"
     },
     "output_type": "display_data"
    }
   ],
   "source": [
    "ages, counts = np.unique(sample_ages, return_counts=True)\n",
    "plt.bar(ages, counts)\n",
    "plt.title('super area: {} age distribution'.format(world.super_areas.members[0].name))\n",
    "plt.show()"
   ]
  },
  {
   "cell_type": "code",
   "execution_count": 19,
   "metadata": {},
   "outputs": [
    {
     "name": "stdout",
     "output_type": "stream",
     "text": [
      "The % children between ages 0-16 is 49.0%\n"
     ]
    }
   ],
   "source": [
    "print ('The % children between ages 0-16 is {}%'.format(round(np.sum(counts[:16])/(np.sum(counts[:16])+np.sum(counts[16:]))*100)))"
   ]
  },
  {
   "cell_type": "markdown",
   "metadata": {},
   "source": [
    "## Households"
   ]
  },
  {
   "cell_type": "markdown",
   "metadata": {},
   "source": [
    "### Household size distribution"
   ]
  },
  {
   "cell_type": "code",
   "execution_count": 20,
   "metadata": {},
   "outputs": [
    {
     "data": {
      "image/png": "[encoded data removed]",
      "text/plain": [
       "<Figure size 432x288 with 1 Axes>"
      ]
     },
     "metadata": {
      "needs_background": "light"
     },
     "output_type": "display_data"
    }
   ],
   "source": [
    "household_sizes = [household.size for household in world.households]\n",
    "plt.hist(household_sizes, density=True, bins=np.arange(0,12))\n",
    "plt.xlabel(\"Household size\")\n",
    "plt.ylabel(\"Frequency\")\n",
    "plt.axvline(np.mean(household_sizes), color=\"cyan\")\n",
    "plt.text(8, 0.150, f\"Avg. size: {(np.mean(household_sizes)):.2f}\")\n",
    "plt.show()"
   ]
  },
  {
   "cell_type": "markdown",
   "metadata": {},
   "source": [
    "# Shelters"
   ]
  },
  {
   "cell_type": "code",
   "execution_count": 21,
   "metadata": {},
   "outputs": [],
   "source": [
    "world.shelters = Shelters.for_areas(world.areas)\n",
    "shelter_distributor = ShelterDistributor(sharing_shelter_ratio = 0.75) # proportion of families that share a shelter\n",
    "for area in world.areas:\n",
    "    shelter_distributor.distribute_people_in_shelters(area.shelters, area.households)"
   ]
  },
  {
   "cell_type": "code",
   "execution_count": 22,
   "metadata": {},
   "outputs": [
    {
     "data": {
      "image/png": "[encoded data removed]",
      "text/plain": [
       "<Figure size 576x216 with 2 Axes>"
      ]
     },
     "metadata": {
      "needs_background": "light"
     },
     "output_type": "display_data"
    }
   ],
   "source": [
    "fig, ax = plt.subplots(1, 2, figsize=(8,3))\n",
    "shelter_sizes = [shelter.size for shelter in world.shelters]\n",
    "shelter_families = [shelter.n_families for shelter in world.shelters]\n",
    "ax[0].hist(shelter_sizes)\n",
    "ax[0].set_title(\"Shelter size\")\n",
    "shelter_families = {1 : len([shelter for shelter in world.shelters if shelter.n_families == 1]),\n",
    "                    2 : len([shelter for shelter in world.shelters if shelter.n_families == 2])}\n",
    "ax[1].bar(shelter_families.keys(), shelter_families.values())\n",
    "ax[1].set_title(\"# families per shelter\")\n",
    "plt.show()"
   ]
  },
  {
   "cell_type": "markdown",
   "metadata": {},
   "source": [
    "## Activity exploration"
   ]
  },
  {
   "cell_type": "markdown",
   "metadata": {},
   "source": [
    "### Pumps and latrines "
   ]
  },
  {
   "cell_type": "code",
   "execution_count": 23,
   "metadata": {},
   "outputs": [],
   "source": [
    "pumps_and_latrines = []\n",
    "for pump_latrine in world.areas.members[0].pump_latrines:\n",
    "    pumps_and_latrines.append(pump_latrine)"
   ]
  },
  {
   "cell_type": "code",
   "execution_count": 24,
   "metadata": {},
   "outputs": [
    {
     "name": "stdout",
     "output_type": "stream",
     "text": [
      "There are 3 pumps and latrines in area CXB-219-062\n"
     ]
    }
   ],
   "source": [
    "print ('There are {} pumps and latrines in area {}'.format(len(pumps_and_latrines), world.areas.members[0].name))"
   ]
  },
  {
   "cell_type": "markdown",
   "metadata": {},
   "source": [
    "### Distribution centers"
   ]
  },
  {
   "cell_type": "code",
   "execution_count": 25,
   "metadata": {},
   "outputs": [],
   "source": [
    "distribution_centers = []\n",
    "for center in world.distribution_centers:\n",
    "    distribution_centers.append(center)"
   ]
  },
  {
   "cell_type": "code",
   "execution_count": 26,
   "metadata": {},
   "outputs": [
    {
     "data": {
      "text/plain": [
       "array([21.1962 , 92.14936])"
      ]
     },
     "execution_count": 26,
     "metadata": {},
     "output_type": "execute_result"
    }
   ],
   "source": [
    "distribution_centers[0].coordinates"
   ]
  },
  {
   "cell_type": "markdown",
   "metadata": {},
   "source": [
    "### Communal spaces"
   ]
  },
  {
   "cell_type": "code",
   "execution_count": 27,
   "metadata": {},
   "outputs": [],
   "source": [
    "communal_spaces = []\n",
    "for space in world.communals:\n",
    "    communal_spaces.append(space)"
   ]
  },
  {
   "cell_type": "code",
   "execution_count": 28,
   "metadata": {},
   "outputs": [
    {
     "data": {
      "text/plain": [
       "array([21.19621, 92.14924])"
      ]
     },
     "execution_count": 28,
     "metadata": {},
     "output_type": "execute_result"
    }
   ],
   "source": [
    "communal_spaces[0].coordinates"
   ]
  },
  {
   "cell_type": "markdown",
   "metadata": {},
   "source": [
    "### Female friendly communal spaces"
   ]
  },
  {
   "cell_type": "code",
   "execution_count": 29,
   "metadata": {},
   "outputs": [],
   "source": [
    "female_communal_spaces = []\n",
    "for space in world.female_communals:\n",
    "    female_communal_spaces.append(space)"
   ]
  },
  {
   "cell_type": "code",
   "execution_count": 30,
   "metadata": {},
   "outputs": [
    {
     "data": {
      "text/plain": [
       "array([21.19588, 92.152  ])"
      ]
     },
     "execution_count": 30,
     "metadata": {},
     "output_type": "execute_result"
    }
   ],
   "source": [
    "female_communal_spaces[0].coordinates"
   ]
  },
  {
   "cell_type": "markdown",
   "metadata": {},
   "source": [
    "### Religious sites"
   ]
  },
  {
   "cell_type": "code",
   "execution_count": 31,
   "metadata": {},
   "outputs": [],
   "source": [
    "religious = []\n",
    "for rel in world.religiouss:\n",
    "    religious.append(rel)"
   ]
  },
  {
   "cell_type": "code",
   "execution_count": 32,
   "metadata": {},
   "outputs": [
    {
     "data": {
      "text/plain": [
       "array([21.20069, 92.15216])"
      ]
     },
     "execution_count": 32,
     "metadata": {},
     "output_type": "execute_result"
    }
   ],
   "source": [
    "religious[0].coordinates"
   ]
  },
  {
   "cell_type": "markdown",
   "metadata": {},
   "source": [
    "# Adding the infection"
   ]
  },
  {
   "cell_type": "code",
   "execution_count": 33,
   "metadata": {},
   "outputs": [],
   "source": [
    "selector = InfectionSelector.from_file()"
   ]
  },
  {
   "cell_type": "markdown",
   "metadata": {},
   "source": [
    "# Adding the interaction"
   ]
  },
  {
   "cell_type": "code",
   "execution_count": 34,
   "metadata": {},
   "outputs": [],
   "source": [
    "interaction = ContactAveraging.from_file(config_filename='../configs_camps/defaults/interaction/ContactInteraction.yaml',\\\n",
    "                                         selector=selector)"
   ]
  },
  {
   "cell_type": "markdown",
   "metadata": {},
   "source": [
    "# Set policies"
   ]
  },
  {
   "cell_type": "code",
   "execution_count": 35,
   "metadata": {},
   "outputs": [],
   "source": [
    "policies = Policies.from_file('../configs_camps/defaults/policy/policy.yaml')"
   ]
  },
  {
   "cell_type": "markdown",
   "metadata": {},
   "source": [
    "# Seed the disease"
   ]
  },
  {
   "cell_type": "code",
   "execution_count": 36,
   "metadata": {},
   "outputs": [],
   "source": [
    "seed = InfectionSeed(world.super_areas,\n",
    "           selector)\n",
    "\n",
    "seed.unleash_virus(n_cases=5)"
   ]
  },
  {
   "cell_type": "markdown",
   "metadata": {},
   "source": [
    "# Init leisure"
   ]
  },
  {
   "cell_type": "code",
   "execution_count": 37,
   "metadata": {},
   "outputs": [],
   "source": [
    "CONFIG_PATH = \"../configs_camps/config_example.yaml\"\n",
    "\n",
    "leisure_instance = generate_leisure_for_config(\n",
    "            world=world, config_filename=CONFIG_PATH\n",
    ")\n",
    "leisure_instance.leisure_distributors = {}\n",
    "leisure_instance.leisure_distributors['pump_latrines'] = PumpLatrineDistributor.from_config(pump_latrines=world.pump_latrines)\n",
    "leisure_instance.leisure_distributors['distribution_centers'] = DistributionCenterDistributor.from_config(distribution_centers=world.distribution_centers)\n",
    "leisure_instance.leisure_distributors['communals'] = CommunalDistributor.from_config(communals=world.communals)\n",
    "leisure_instance.leisure_distributors['female_communals'] = FemaleCommunalDistributor.from_config(female_communals=world.female_communals)\n",
    "\n",
    "#associate social activities to shelters\n",
    "leisure_instance.distribute_social_venues_to_households(world.shelters)\n"
   ]
  },
  {
   "cell_type": "markdown",
   "metadata": {},
   "source": [
    "# Initialize simulator and run"
   ]
  },
  {
   "cell_type": "code",
   "execution_count": 38,
   "metadata": {},
   "outputs": [],
   "source": [
    "simulator = CampSimulator.from_file(\n",
    "     world, interaction, selector,\n",
    "    leisure = leisure_instance,\n",
    "    policies=policies,\n",
    "    config_filename = CONFIG_PATH\n",
    ")"
   ]
  },
  {
   "cell_type": "code",
   "execution_count": 39,
   "metadata": {},
   "outputs": [
    {
     "data": {
      "text/plain": [
       "{'pump_latrines': <camps.groups.pump_latrine.PumpLatrineDistributor at 0x7f5cd27e9fa0>,\n",
       " 'distribution_centers': <camps.groups.distribution_center.DistributionCenterDistributor at 0x7f5cd27e9f70>,\n",
       " 'communals': <camps.groups.communal.CommunalDistributor at 0x7f5cd2a482b0>,\n",
       " 'female_communals': <camps.groups.female_communal.FemaleCommunalDistributor at 0x7f5cd2a48fd0>}"
      ]
     },
     "execution_count": 39,
     "metadata": {},
     "output_type": "execute_result"
    }
   ],
   "source": [
    "leisure_instance.leisure_distributors"
   ]
  },
  {
   "cell_type": "code",
   "execution_count": 40,
   "metadata": {},
   "outputs": [],
   "source": [
    "simulator.timer.reset()"
   ]
  },
  {
   "cell_type": "code",
   "execution_count": 41,
   "metadata": {
    "scrolled": true
   },
   "outputs": [
    {
     "name": "stdout",
     "output_type": "stream",
     "text": [
      "2020-07-06 22:18:38,519 - june.simulator - INFO - Starting group_dynamics for 120 days at day 0\n",
      "2020-07-06 22:18:38,525 - june.simulator - INFO - starting the loop ..., at 0 days, to run for 120 days\n",
      "2020-07-06 22:18:39,174 - june.simulator - INFO - Date = 2020-05-24 03:00:00, number of deaths =  0, number of infected = 5\n",
      "2020-07-06 22:18:39,634 - june.simulator - INFO - Date = 2020-05-24 05:00:00, number of deaths =  0, number of infected = 5\n",
      "2020-07-06 22:18:39,885 - june.simulator - INFO - Date = 2020-05-24 07:00:00, number of deaths =  0, number of infected = 5\n",
      "2020-07-06 22:18:40,143 - june.simulator - INFO - Date = 2020-05-24 09:00:00, number of deaths =  0, number of infected = 5\n",
      "2020-07-06 22:18:40,316 - june.simulator - INFO - Date = 2020-05-24 11:00:00, number of deaths =  0, number of infected = 5\n",
      "2020-07-06 22:18:40,567 - june.simulator - INFO - Date = 2020-05-25 00:00:00, number of deaths =  0, number of infected = 5\n",
      "2020-07-06 22:18:40,834 - june.simulator - INFO - Date = 2020-05-25 02:00:00, number of deaths =  0, number of infected = 5\n",
      "2020-07-06 22:18:41,106 - june.simulator - INFO - Date = 2020-05-25 04:00:00, number of deaths =  0, number of infected = 5\n",
      "2020-07-06 22:18:41,376 - june.simulator - INFO - Date = 2020-05-25 06:00:00, number of deaths =  0, number of infected = 5\n",
      "2020-07-06 22:18:41,647 - june.simulator - INFO - Date = 2020-05-25 08:00:00, number of deaths =  0, number of infected = 5\n",
      "2020-07-06 22:18:41,841 - june.simulator - INFO - Date = 2020-05-25 10:00:00, number of deaths =  0, number of infected = 5\n",
      "2020-07-06 22:18:42,017 - june.simulator - INFO - Date = 2020-05-26 00:00:00, number of deaths =  0, number of infected = 5\n",
      "2020-07-06 22:18:42,275 - june.simulator - INFO - Date = 2020-05-26 02:00:00, number of deaths =  0, number of infected = 5\n",
      "2020-07-06 22:18:42,569 - june.simulator - INFO - Date = 2020-05-26 04:00:00, number of deaths =  0, number of infected = 5\n",
      "2020-07-06 22:18:42,850 - june.simulator - INFO - Date = 2020-05-26 06:00:00, number of deaths =  0, number of infected = 5\n",
      "2020-07-06 22:18:43,107 - june.simulator - INFO - Date = 2020-05-26 08:00:00, number of deaths =  0, number of infected = 5\n",
      "2020-07-06 22:18:43,282 - june.simulator - INFO - Date = 2020-05-26 10:00:00, number of deaths =  0, number of infected = 5\n",
      "2020-07-06 22:18:43,459 - june.simulator - INFO - Date = 2020-05-27 00:00:00, number of deaths =  0, number of infected = 5\n",
      "2020-07-06 22:18:43,712 - june.simulator - INFO - Date = 2020-05-27 02:00:00, number of deaths =  0, number of infected = 5\n",
      "2020-07-06 22:18:43,980 - june.simulator - INFO - Date = 2020-05-27 04:00:00, number of deaths =  0, number of infected = 5\n",
      "2020-07-06 22:18:44,246 - june.simulator - INFO - Date = 2020-05-27 06:00:00, number of deaths =  0, number of infected = 5\n",
      "2020-07-06 22:18:44,502 - june.simulator - INFO - Date = 2020-05-27 08:00:00, number of deaths =  0, number of infected = 5\n",
      "2020-07-06 22:18:44,693 - june.simulator - INFO - Date = 2020-05-27 10:00:00, number of deaths =  0, number of infected = 5\n",
      "2020-07-06 22:18:44,884 - june.simulator - INFO - Date = 2020-05-28 00:00:00, number of deaths =  0, number of infected = 5\n",
      "2020-07-06 22:18:45,143 - june.simulator - INFO - Date = 2020-05-28 02:00:00, number of deaths =  0, number of infected = 5\n",
      "2020-07-06 22:18:45,410 - june.simulator - INFO - Date = 2020-05-28 04:00:00, number of deaths =  0, number of infected = 6\n",
      "2020-07-06 22:18:45,679 - june.simulator - INFO - Date = 2020-05-28 06:00:00, number of deaths =  0, number of infected = 8\n",
      "2020-07-06 22:18:45,961 - june.simulator - INFO - Date = 2020-05-28 08:00:00, number of deaths =  0, number of infected = 8\n",
      "2020-07-06 22:18:46,144 - june.simulator - INFO - Date = 2020-05-28 10:00:00, number of deaths =  0, number of infected = 8\n",
      "2020-07-06 22:18:46,326 - june.simulator - INFO - Date = 2020-05-29 00:00:00, number of deaths =  0, number of infected = 9\n",
      "2020-07-06 22:18:46,596 - june.simulator - INFO - Date = 2020-05-29 02:00:00, number of deaths =  0, number of infected = 9\n",
      "2020-07-06 22:18:46,867 - june.simulator - INFO - Date = 2020-05-29 04:00:00, number of deaths =  0, number of infected = 10\n",
      "2020-07-06 22:18:47,125 - june.simulator - INFO - Date = 2020-05-29 06:00:00, number of deaths =  0, number of infected = 10\n",
      "2020-07-06 22:18:47,384 - june.simulator - INFO - Date = 2020-05-29 08:00:00, number of deaths =  0, number of infected = 10\n",
      "2020-07-06 22:18:47,578 - june.simulator - INFO - Date = 2020-05-29 10:00:00, number of deaths =  0, number of infected = 10\n",
      "2020-07-06 22:18:47,760 - june.simulator - INFO - Date = 2020-05-30 00:00:00, number of deaths =  0, number of infected = 17\n",
      "2020-07-06 22:18:48,066 - june.simulator - INFO - Date = 2020-05-30 03:00:00, number of deaths =  0, number of infected = 17\n",
      "2020-07-06 22:18:48,347 - june.simulator - INFO - Date = 2020-05-30 05:00:00, number of deaths =  0, number of infected = 18\n",
      "2020-07-06 22:18:48,636 - june.simulator - INFO - Date = 2020-05-30 07:00:00, number of deaths =  0, number of infected = 22\n",
      "2020-07-06 22:18:48,929 - june.simulator - INFO - Date = 2020-05-30 09:00:00, number of deaths =  0, number of infected = 22\n",
      "2020-07-06 22:18:49,107 - june.simulator - INFO - Date = 2020-05-30 11:00:00, number of deaths =  0, number of infected = 25\n",
      "2020-07-06 22:18:49,290 - june.simulator - INFO - Date = 2020-05-31 00:00:00, number of deaths =  0, number of infected = 29\n",
      "2020-07-06 22:18:49,558 - june.simulator - INFO - Date = 2020-05-31 03:00:00, number of deaths =  0, number of infected = 31\n",
      "2020-07-06 22:18:49,838 - june.simulator - INFO - Date = 2020-05-31 05:00:00, number of deaths =  0, number of infected = 32\n",
      "2020-07-06 22:18:50,142 - june.simulator - INFO - Date = 2020-05-31 07:00:00, number of deaths =  0, number of infected = 33\n",
      "2020-07-06 22:18:50,432 - june.simulator - INFO - Date = 2020-05-31 09:00:00, number of deaths =  0, number of infected = 35\n",
      "2020-07-06 22:18:50,635 - june.simulator - INFO - Date = 2020-05-31 11:00:00, number of deaths =  0, number of infected = 37\n",
      "2020-07-06 22:18:50,854 - june.simulator - INFO - Date = 2020-06-01 00:00:00, number of deaths =  0, number of infected = 39\n",
      "2020-07-06 22:18:51,137 - june.simulator - INFO - Date = 2020-06-01 02:00:00, number of deaths =  0, number of infected = 39\n",
      "2020-07-06 22:18:51,446 - june.simulator - INFO - Date = 2020-06-01 04:00:00, number of deaths =  0, number of infected = 39\n",
      "2020-07-06 22:18:51,748 - june.simulator - INFO - Date = 2020-06-01 06:00:00, number of deaths =  0, number of infected = 41\n",
      "2020-07-06 22:18:52,047 - june.simulator - INFO - Date = 2020-06-01 08:00:00, number of deaths =  0, number of infected = 46\n",
      "2020-07-06 22:18:52,261 - june.simulator - INFO - Date = 2020-06-01 10:00:00, number of deaths =  0, number of infected = 46\n",
      "2020-07-06 22:18:52,459 - june.simulator - INFO - Date = 2020-06-02 00:00:00, number of deaths =  0, number of infected = 48\n",
      "2020-07-06 22:18:52,816 - june.simulator - INFO - Date = 2020-06-02 02:00:00, number of deaths =  0, number of infected = 49\n",
      "2020-07-06 22:18:53,372 - june.simulator - INFO - Date = 2020-06-02 04:00:00, number of deaths =  0, number of infected = 55\n",
      "2020-07-06 22:18:53,745 - june.simulator - INFO - Date = 2020-06-02 06:00:00, number of deaths =  0, number of infected = 61\n",
      "2020-07-06 22:18:54,198 - june.simulator - INFO - Date = 2020-06-02 08:00:00, number of deaths =  0, number of infected = 62\n",
      "2020-07-06 22:18:54,499 - june.simulator - INFO - Date = 2020-06-02 10:00:00, number of deaths =  0, number of infected = 71\n",
      "2020-07-06 22:18:54,744 - june.simulator - INFO - Date = 2020-06-03 00:00:00, number of deaths =  0, number of infected = 76\n",
      "2020-07-06 22:18:55,120 - june.simulator - INFO - Date = 2020-06-03 02:00:00, number of deaths =  0, number of infected = 79\n",
      "2020-07-06 22:18:55,599 - june.simulator - INFO - Date = 2020-06-03 04:00:00, number of deaths =  0, number of infected = 84\n",
      "2020-07-06 22:18:55,987 - june.simulator - INFO - Date = 2020-06-03 06:00:00, number of deaths =  0, number of infected = 89\n",
      "2020-07-06 22:18:56,400 - june.simulator - INFO - Date = 2020-06-03 08:00:00, number of deaths =  0, number of infected = 104\n",
      "2020-07-06 22:18:56,635 - june.simulator - INFO - Date = 2020-06-03 10:00:00, number of deaths =  0, number of infected = 109\n",
      "2020-07-06 22:18:56,845 - june.simulator - INFO - Date = 2020-06-04 00:00:00, number of deaths =  0, number of infected = 117\n",
      "2020-07-06 22:18:57,164 - june.simulator - INFO - Date = 2020-06-04 02:00:00, number of deaths =  0, number of infected = 117\n",
      "2020-07-06 22:18:57,547 - june.simulator - INFO - Date = 2020-06-04 04:00:00, number of deaths =  0, number of infected = 122\n",
      "2020-07-06 22:18:57,876 - june.simulator - INFO - Date = 2020-06-04 06:00:00, number of deaths =  0, number of infected = 133\n",
      "2020-07-06 22:18:58,317 - june.simulator - INFO - Date = 2020-06-04 08:00:00, number of deaths =  0, number of infected = 153\n",
      "2020-07-06 22:18:58,584 - june.simulator - INFO - Date = 2020-06-04 10:00:00, number of deaths =  0, number of infected = 178\n",
      "2020-07-06 22:18:58,858 - june.simulator - INFO - Date = 2020-06-05 00:00:00, number of deaths =  0, number of infected = 184\n",
      "2020-07-06 22:18:59,289 - june.simulator - INFO - Date = 2020-06-05 02:00:00, number of deaths =  0, number of infected = 187\n",
      "2020-07-06 22:18:59,642 - june.simulator - INFO - Date = 2020-06-05 04:00:00, number of deaths =  0, number of infected = 199\n",
      "2020-07-06 22:18:59,958 - june.simulator - INFO - Date = 2020-06-05 06:00:00, number of deaths =  0, number of infected = 215\n",
      "2020-07-06 22:19:00,266 - june.simulator - INFO - Date = 2020-06-05 08:00:00, number of deaths =  0, number of infected = 237\n",
      "2020-07-06 22:19:00,523 - june.simulator - INFO - Date = 2020-06-05 10:00:00, number of deaths =  0, number of infected = 269\n",
      "2020-07-06 22:19:00,753 - june.simulator - INFO - Date = 2020-06-06 00:00:00, number of deaths =  0, number of infected = 287\n",
      "2020-07-06 22:19:01,059 - june.simulator - INFO - Date = 2020-06-06 03:00:00, number of deaths =  0, number of infected = 297\n",
      "2020-07-06 22:19:01,387 - june.simulator - INFO - Date = 2020-06-06 05:00:00, number of deaths =  0, number of infected = 310\n",
      "2020-07-06 22:19:01,701 - june.simulator - INFO - Date = 2020-06-06 07:00:00, number of deaths =  0, number of infected = 362\n",
      "2020-07-06 22:19:02,009 - june.simulator - INFO - Date = 2020-06-06 09:00:00, number of deaths =  0, number of infected = 403\n",
      "2020-07-06 22:19:02,256 - june.simulator - INFO - Date = 2020-06-06 11:00:00, number of deaths =  0, number of infected = 451\n",
      "2020-07-06 22:19:02,497 - june.simulator - INFO - Date = 2020-06-07 00:00:00, number of deaths =  0, number of infected = 481\n",
      "2020-07-06 22:19:02,822 - june.simulator - INFO - Date = 2020-06-07 03:00:00, number of deaths =  0, number of infected = 493\n",
      "2020-07-06 22:19:03,129 - june.simulator - INFO - Date = 2020-06-07 05:00:00, number of deaths =  0, number of infected = 535\n",
      "2020-07-06 22:19:03,488 - june.simulator - INFO - Date = 2020-06-07 07:00:00, number of deaths =  0, number of infected = 596\n",
      "2020-07-06 22:19:03,797 - june.simulator - INFO - Date = 2020-06-07 09:00:00, number of deaths =  0, number of infected = 647\n",
      "2020-07-06 22:19:04,010 - june.simulator - INFO - Date = 2020-06-07 11:00:00, number of deaths =  0, number of infected = 695\n",
      "2020-07-06 22:19:04,289 - june.simulator - INFO - Date = 2020-06-08 00:00:00, number of deaths =  0, number of infected = 740\n",
      "2020-07-06 22:19:04,641 - june.simulator - INFO - Date = 2020-06-08 02:00:00, number of deaths =  0, number of infected = 751\n",
      "2020-07-06 22:19:04,955 - june.simulator - INFO - Date = 2020-06-08 04:00:00, number of deaths =  0, number of infected = 800\n",
      "2020-07-06 22:19:05,281 - june.simulator - INFO - Date = 2020-06-08 06:00:00, number of deaths =  0, number of infected = 871\n",
      "2020-07-06 22:19:05,596 - june.simulator - INFO - Date = 2020-06-08 08:00:00, number of deaths =  0, number of infected = 917\n",
      "2020-07-06 22:19:05,876 - june.simulator - INFO - Date = 2020-06-08 10:00:00, number of deaths =  0, number of infected = 985\n",
      "2020-07-06 22:19:06,111 - june.simulator - INFO - Date = 2020-06-09 00:00:00, number of deaths =  0, number of infected = 1078\n",
      "2020-07-06 22:19:06,523 - june.simulator - INFO - Date = 2020-06-09 02:00:00, number of deaths =  0, number of infected = 1087\n",
      "2020-07-06 22:19:06,934 - june.simulator - INFO - Date = 2020-06-09 04:00:00, number of deaths =  0, number of infected = 1191\n",
      "2020-07-06 22:19:07,361 - june.simulator - INFO - Date = 2020-06-09 06:00:00, number of deaths =  0, number of infected = 1274\n",
      "2020-07-06 22:19:07,723 - june.simulator - INFO - Date = 2020-06-09 08:00:00, number of deaths =  0, number of infected = 1382\n",
      "2020-07-06 22:19:07,958 - june.simulator - INFO - Date = 2020-06-09 10:00:00, number of deaths =  0, number of infected = 1511\n",
      "2020-07-06 22:19:08,227 - june.simulator - INFO - Date = 2020-06-10 00:00:00, number of deaths =  0, number of infected = 1670\n",
      "2020-07-06 22:19:08,543 - june.simulator - INFO - Date = 2020-06-10 02:00:00, number of deaths =  0, number of infected = 1707\n",
      "2020-07-06 22:19:08,879 - june.simulator - INFO - Date = 2020-06-10 04:00:00, number of deaths =  0, number of infected = 1824\n",
      "2020-07-06 22:19:09,259 - june.simulator - INFO - Date = 2020-06-10 06:00:00, number of deaths =  0, number of infected = 1982\n",
      "2020-07-06 22:19:09,646 - june.simulator - INFO - Date = 2020-06-10 08:00:00, number of deaths =  0, number of infected = 2160\n",
      "2020-07-06 22:19:09,972 - june.simulator - INFO - Date = 2020-06-10 10:00:00, number of deaths =  0, number of infected = 2338\n",
      "2020-07-06 22:19:10,257 - june.simulator - INFO - Date = 2020-06-11 00:00:00, number of deaths =  0, number of infected = 2568\n",
      "2020-07-06 22:19:10,609 - june.simulator - INFO - Date = 2020-06-11 02:00:00, number of deaths =  0, number of infected = 2602\n",
      "2020-07-06 22:19:10,989 - june.simulator - INFO - Date = 2020-06-11 04:00:00, number of deaths =  0, number of infected = 2780\n",
      "2020-07-06 22:19:11,452 - june.simulator - INFO - Date = 2020-06-11 06:00:00, number of deaths =  0, number of infected = 2972\n",
      "2020-07-06 22:19:12,102 - june.simulator - INFO - Date = 2020-06-11 08:00:00, number of deaths =  0, number of infected = 3193\n",
      "2020-07-06 22:19:12,391 - june.simulator - INFO - Date = 2020-06-11 10:00:00, number of deaths =  0, number of infected = 3378\n",
      "2020-07-06 22:19:12,698 - june.simulator - INFO - Date = 2020-06-12 00:00:00, number of deaths =  0, number of infected = 3638\n",
      "2020-07-06 22:19:13,077 - june.simulator - INFO - Date = 2020-06-12 02:00:00, number of deaths =  0, number of infected = 3684\n",
      "2020-07-06 22:19:13,463 - june.simulator - INFO - Date = 2020-06-12 04:00:00, number of deaths =  0, number of infected = 3962\n",
      "2020-07-06 22:19:13,864 - june.simulator - INFO - Date = 2020-06-12 06:00:00, number of deaths =  0, number of infected = 4226\n",
      "2020-07-06 22:19:14,285 - june.simulator - INFO - Date = 2020-06-12 08:00:00, number of deaths =  0, number of infected = 4505\n",
      "2020-07-06 22:19:14,594 - june.simulator - INFO - Date = 2020-06-12 10:00:00, number of deaths =  0, number of infected = 4739\n",
      "2020-07-06 22:19:14,940 - june.simulator - INFO - Date = 2020-06-13 00:00:00, number of deaths =  0, number of infected = 5124\n",
      "2020-07-06 22:19:15,340 - june.simulator - INFO - Date = 2020-06-13 03:00:00, number of deaths =  0, number of infected = 5246\n",
      "2020-07-06 22:19:15,799 - june.simulator - INFO - Date = 2020-06-13 05:00:00, number of deaths =  0, number of infected = 5729\n",
      "2020-07-06 22:19:16,251 - june.simulator - INFO - Date = 2020-06-13 07:00:00, number of deaths =  0, number of infected = 6262\n",
      "2020-07-06 22:19:16,723 - june.simulator - INFO - Date = 2020-06-13 09:00:00, number of deaths =  0, number of infected = 6780\n",
      "2020-07-06 22:19:17,118 - june.simulator - INFO - Date = 2020-06-13 11:00:00, number of deaths =  0, number of infected = 7288\n",
      "2020-07-06 22:19:17,524 - june.simulator - INFO - Date = 2020-06-14 00:00:00, number of deaths =  0, number of infected = 7772\n",
      "2020-07-06 22:19:17,986 - june.simulator - INFO - Date = 2020-06-14 03:00:00, number of deaths =  0, number of infected = 7902\n",
      "2020-07-06 22:19:18,486 - june.simulator - INFO - Date = 2020-06-14 05:00:00, number of deaths =  0, number of infected = 8565\n",
      "2020-07-06 22:19:19,002 - june.simulator - INFO - Date = 2020-06-14 07:00:00, number of deaths =  0, number of infected = 9213\n",
      "2020-07-06 22:19:19,526 - june.simulator - INFO - Date = 2020-06-14 09:00:00, number of deaths =  0, number of infected = 9896\n",
      "2020-07-06 22:19:19,943 - june.simulator - INFO - Date = 2020-06-14 11:00:00, number of deaths =  0, number of infected = 10479\n",
      "2020-07-06 22:19:20,421 - june.simulator - INFO - Date = 2020-06-15 00:00:00, number of deaths =  0, number of infected = 10988\n",
      "2020-07-06 22:19:21,153 - june.simulator - INFO - Date = 2020-06-15 02:00:00, number of deaths =  0, number of infected = 11096\n",
      "2020-07-06 22:19:21,635 - june.simulator - INFO - Date = 2020-06-15 04:00:00, number of deaths =  0, number of infected = 11596\n",
      "2020-07-06 22:19:22,133 - june.simulator - INFO - Date = 2020-06-15 06:00:00, number of deaths =  0, number of infected = 12119\n",
      "2020-07-06 22:19:22,635 - june.simulator - INFO - Date = 2020-06-15 08:00:00, number of deaths =  0, number of infected = 12615\n",
      "2020-07-06 22:19:23,098 - june.simulator - INFO - Date = 2020-06-15 10:00:00, number of deaths =  0, number of infected = 13088\n",
      "2020-07-06 22:19:23,551 - june.simulator - INFO - Date = 2020-06-16 00:00:00, number of deaths =  0, number of infected = 13634\n",
      "2020-07-06 22:19:23,973 - june.simulator - INFO - Date = 2020-06-16 02:00:00, number of deaths =  0, number of infected = 13748\n",
      "2020-07-06 22:19:24,540 - june.simulator - INFO - Date = 2020-06-16 04:00:00, number of deaths =  0, number of infected = 14282\n",
      "2020-07-06 22:19:25,097 - june.simulator - INFO - Date = 2020-06-16 06:00:00, number of deaths =  0, number of infected = 14788\n",
      "2020-07-06 22:19:25,718 - june.simulator - INFO - Date = 2020-06-16 08:00:00, number of deaths =  0, number of infected = 15261\n",
      "2020-07-06 22:19:26,229 - june.simulator - INFO - Date = 2020-06-16 10:00:00, number of deaths =  0, number of infected = 15751\n",
      "2020-07-06 22:19:26,729 - june.simulator - INFO - Date = 2020-06-17 00:00:00, number of deaths =  0, number of infected = 16389\n",
      "2020-07-06 22:19:27,205 - june.simulator - INFO - Date = 2020-06-17 02:00:00, number of deaths =  1, number of infected = 16523\n",
      "2020-07-06 22:19:27,736 - june.simulator - INFO - Date = 2020-06-17 04:00:00, number of deaths =  1, number of infected = 16998\n",
      "2020-07-06 22:19:28,264 - june.simulator - INFO - Date = 2020-06-17 06:00:00, number of deaths =  1, number of infected = 17428\n",
      "2020-07-06 22:19:28,806 - june.simulator - INFO - Date = 2020-06-17 08:00:00, number of deaths =  1, number of infected = 17861\n",
      "2020-07-06 22:19:29,262 - june.simulator - INFO - Date = 2020-06-17 10:00:00, number of deaths =  1, number of infected = 18284\n",
      "2020-07-06 22:19:29,789 - june.simulator - INFO - Date = 2020-06-18 00:00:00, number of deaths =  1, number of infected = 18892\n",
      "2020-07-06 22:19:30,270 - june.simulator - INFO - Date = 2020-06-18 02:00:00, number of deaths =  1, number of infected = 19020\n",
      "2020-07-06 22:19:31,061 - june.simulator - INFO - Date = 2020-06-18 04:00:00, number of deaths =  1, number of infected = 19409\n",
      "2020-07-06 22:19:31,628 - june.simulator - INFO - Date = 2020-06-18 06:00:00, number of deaths =  1, number of infected = 19741\n",
      "2020-07-06 22:19:32,137 - june.simulator - INFO - Date = 2020-06-18 08:00:00, number of deaths =  1, number of infected = 20053\n",
      "2020-07-06 22:19:32,583 - june.simulator - INFO - Date = 2020-06-18 10:00:00, number of deaths =  1, number of infected = 20350\n",
      "2020-07-06 22:19:33,066 - june.simulator - INFO - Date = 2020-06-19 00:00:00, number of deaths =  1, number of infected = 20845\n",
      "2020-07-06 22:19:33,536 - june.simulator - INFO - Date = 2020-06-19 02:00:00, number of deaths =  1, number of infected = 20918\n",
      "2020-07-06 22:19:34,063 - june.simulator - INFO - Date = 2020-06-19 04:00:00, number of deaths =  2, number of infected = 21148\n",
      "2020-07-06 22:19:34,603 - june.simulator - INFO - Date = 2020-06-19 06:00:00, number of deaths =  2, number of infected = 21371\n",
      "2020-07-06 22:19:35,132 - june.simulator - INFO - Date = 2020-06-19 08:00:00, number of deaths =  2, number of infected = 21594\n",
      "2020-07-06 22:19:35,527 - june.simulator - INFO - Date = 2020-06-19 10:00:00, number of deaths =  2, number of infected = 21750\n",
      "2020-07-06 22:19:35,942 - june.simulator - INFO - Date = 2020-06-20 00:00:00, number of deaths =  2, number of infected = 21998\n",
      "2020-07-06 22:19:36,418 - june.simulator - INFO - Date = 2020-06-20 03:00:00, number of deaths =  2, number of infected = 22056\n",
      "2020-07-06 22:19:36,930 - june.simulator - INFO - Date = 2020-06-20 05:00:00, number of deaths =  2, number of infected = 22209\n",
      "2020-07-06 22:19:37,540 - june.simulator - INFO - Date = 2020-06-20 07:00:00, number of deaths =  2, number of infected = 22322\n",
      "2020-07-06 22:19:38,108 - june.simulator - INFO - Date = 2020-06-20 09:00:00, number of deaths =  2, number of infected = 22415\n",
      "2020-07-06 22:19:38,561 - june.simulator - INFO - Date = 2020-06-20 11:00:00, number of deaths =  2, number of infected = 22492\n",
      "2020-07-06 22:19:39,028 - june.simulator - INFO - Date = 2020-06-21 00:00:00, number of deaths =  2, number of infected = 22574\n",
      "2020-07-06 22:19:39,590 - june.simulator - INFO - Date = 2020-06-21 03:00:00, number of deaths =  2, number of infected = 22590\n",
      "2020-07-06 22:19:40,247 - june.simulator - INFO - Date = 2020-06-21 05:00:00, number of deaths =  3, number of infected = 22648\n",
      "2020-07-06 22:19:40,877 - june.simulator - INFO - Date = 2020-06-21 07:00:00, number of deaths =  3, number of infected = 22710\n",
      "2020-07-06 22:19:41,389 - june.simulator - INFO - Date = 2020-06-21 09:00:00, number of deaths =  3, number of infected = 22744\n",
      "2020-07-06 22:19:41,764 - june.simulator - INFO - Date = 2020-06-21 11:00:00, number of deaths =  3, number of infected = 22767\n",
      "2020-07-06 22:19:42,141 - june.simulator - INFO - Date = 2020-06-22 00:00:00, number of deaths =  3, number of infected = 22774\n",
      "2020-07-06 22:19:42,761 - june.simulator - INFO - Date = 2020-06-22 02:00:00, number of deaths =  3, number of infected = 22776\n",
      "2020-07-06 22:19:43,534 - june.simulator - INFO - Date = 2020-06-22 04:00:00, number of deaths =  3, number of infected = 22786\n",
      "2020-07-06 22:19:44,027 - june.simulator - INFO - Date = 2020-06-22 06:00:00, number of deaths =  4, number of infected = 22793\n",
      "2020-07-06 22:19:44,557 - june.simulator - INFO - Date = 2020-06-22 08:00:00, number of deaths =  4, number of infected = 22799\n",
      "2020-07-06 22:19:44,945 - june.simulator - INFO - Date = 2020-06-22 10:00:00, number of deaths =  4, number of infected = 22801\n",
      "2020-07-06 22:19:45,341 - june.simulator - INFO - Date = 2020-06-23 00:00:00, number of deaths =  5, number of infected = 22780\n",
      "2020-07-06 22:19:45,804 - june.simulator - INFO - Date = 2020-06-23 02:00:00, number of deaths =  5, number of infected = 22774\n",
      "2020-07-06 22:19:46,304 - june.simulator - INFO - Date = 2020-06-23 04:00:00, number of deaths =  6, number of infected = 22771\n",
      "2020-07-06 22:19:46,891 - june.simulator - INFO - Date = 2020-06-23 06:00:00, number of deaths =  6, number of infected = 22769\n",
      "2020-07-06 22:19:47,457 - june.simulator - INFO - Date = 2020-06-23 08:00:00, number of deaths =  6, number of infected = 22766\n",
      "2020-07-06 22:19:47,895 - june.simulator - INFO - Date = 2020-06-23 10:00:00, number of deaths =  6, number of infected = 22763\n",
      "2020-07-06 22:19:48,288 - june.simulator - INFO - Date = 2020-06-24 00:00:00, number of deaths =  7, number of infected = 22711\n",
      "2020-07-06 22:19:48,785 - june.simulator - INFO - Date = 2020-06-24 02:00:00, number of deaths =  7, number of infected = 22706\n",
      "2020-07-06 22:19:49,282 - june.simulator - INFO - Date = 2020-06-24 04:00:00, number of deaths =  8, number of infected = 22695\n",
      "2020-07-06 22:19:49,921 - june.simulator - INFO - Date = 2020-06-24 06:00:00, number of deaths =  9, number of infected = 22682\n",
      "2020-07-06 22:19:50,416 - june.simulator - INFO - Date = 2020-06-24 08:00:00, number of deaths =  9, number of infected = 22676\n",
      "2020-07-06 22:19:50,873 - june.simulator - INFO - Date = 2020-06-24 10:00:00, number of deaths =  9, number of infected = 22667\n",
      "2020-07-06 22:19:51,313 - june.simulator - INFO - Date = 2020-06-25 00:00:00, number of deaths =  12, number of infected = 22597\n",
      "2020-07-06 22:19:51,913 - june.simulator - INFO - Date = 2020-06-25 02:00:00, number of deaths =  13, number of infected = 22589\n",
      "2020-07-06 22:19:52,426 - june.simulator - INFO - Date = 2020-06-25 04:00:00, number of deaths =  13, number of infected = 22575\n",
      "2020-07-06 22:19:52,968 - june.simulator - INFO - Date = 2020-06-25 06:00:00, number of deaths =  13, number of infected = 22562\n",
      "2020-07-06 22:19:53,504 - june.simulator - INFO - Date = 2020-06-25 08:00:00, number of deaths =  14, number of infected = 22553\n",
      "2020-07-06 22:19:53,947 - june.simulator - INFO - Date = 2020-06-25 10:00:00, number of deaths =  14, number of infected = 22539\n",
      "2020-07-06 22:19:54,423 - june.simulator - INFO - Date = 2020-06-26 00:00:00, number of deaths =  16, number of infected = 22440\n",
      "2020-07-06 22:19:55,093 - june.simulator - INFO - Date = 2020-06-26 02:00:00, number of deaths =  16, number of infected = 22423\n",
      "2020-07-06 22:19:55,591 - june.simulator - INFO - Date = 2020-06-26 04:00:00, number of deaths =  16, number of infected = 22410\n",
      "2020-07-06 22:19:56,146 - june.simulator - INFO - Date = 2020-06-26 06:00:00, number of deaths =  17, number of infected = 22390\n",
      "2020-07-06 22:19:56,647 - june.simulator - INFO - Date = 2020-06-26 08:00:00, number of deaths =  17, number of infected = 22375\n",
      "2020-07-06 22:19:57,139 - june.simulator - INFO - Date = 2020-06-26 10:00:00, number of deaths =  18, number of infected = 22361\n",
      "2020-07-06 22:19:57,598 - june.simulator - INFO - Date = 2020-06-27 00:00:00, number of deaths =  23, number of infected = 22228\n",
      "2020-07-06 22:19:58,182 - june.simulator - INFO - Date = 2020-06-27 03:00:00, number of deaths =  23, number of infected = 22196\n",
      "2020-07-06 22:19:58,857 - june.simulator - INFO - Date = 2020-06-27 05:00:00, number of deaths =  24, number of infected = 22177\n",
      "2020-07-06 22:19:59,442 - june.simulator - INFO - Date = 2020-06-27 07:00:00, number of deaths =  26, number of infected = 22163\n",
      "2020-07-06 22:19:59,939 - june.simulator - INFO - Date = 2020-06-27 09:00:00, number of deaths =  26, number of infected = 22139\n",
      "2020-07-06 22:20:00,444 - june.simulator - INFO - Date = 2020-06-27 11:00:00, number of deaths =  27, number of infected = 22106\n",
      "2020-07-06 22:20:00,828 - june.simulator - INFO - Date = 2020-06-28 00:00:00, number of deaths =  28, number of infected = 21930\n",
      "2020-07-06 22:20:01,404 - june.simulator - INFO - Date = 2020-06-28 03:00:00, number of deaths =  28, number of infected = 21891\n",
      "2020-07-06 22:20:01,971 - june.simulator - INFO - Date = 2020-06-28 05:00:00, number of deaths =  29, number of infected = 21858\n",
      "2020-07-06 22:20:02,576 - june.simulator - INFO - Date = 2020-06-28 07:00:00, number of deaths =  29, number of infected = 21824\n",
      "2020-07-06 22:20:03,077 - june.simulator - INFO - Date = 2020-06-28 09:00:00, number of deaths =  29, number of infected = 21785\n",
      "2020-07-06 22:20:03,497 - june.simulator - INFO - Date = 2020-06-28 11:00:00, number of deaths =  29, number of infected = 21749\n",
      "2020-07-06 22:20:03,890 - june.simulator - INFO - Date = 2020-06-29 00:00:00, number of deaths =  34, number of infected = 21465\n",
      "2020-07-06 22:20:04,403 - june.simulator - INFO - Date = 2020-06-29 02:00:00, number of deaths =  34, number of infected = 21417\n",
      "2020-07-06 22:20:05,003 - june.simulator - INFO - Date = 2020-06-29 04:00:00, number of deaths =  35, number of infected = 21358\n",
      "2020-07-06 22:20:05,537 - june.simulator - INFO - Date = 2020-06-29 06:00:00, number of deaths =  35, number of infected = 21309\n",
      "2020-07-06 22:20:06,082 - june.simulator - INFO - Date = 2020-06-29 08:00:00, number of deaths =  35, number of infected = 21263\n",
      "2020-07-06 22:20:06,535 - june.simulator - INFO - Date = 2020-06-29 10:00:00, number of deaths =  35, number of infected = 21216\n",
      "2020-07-06 22:20:07,063 - june.simulator - INFO - Date = 2020-06-30 00:00:00, number of deaths =  39, number of infected = 20805\n",
      "2020-07-06 22:20:07,564 - june.simulator - INFO - Date = 2020-06-30 02:00:00, number of deaths =  40, number of infected = 20734\n",
      "2020-07-06 22:20:08,044 - june.simulator - INFO - Date = 2020-06-30 04:00:00, number of deaths =  40, number of infected = 20653\n",
      "2020-07-06 22:20:08,519 - june.simulator - INFO - Date = 2020-06-30 06:00:00, number of deaths =  41, number of infected = 20571\n",
      "2020-07-06 22:20:09,062 - june.simulator - INFO - Date = 2020-06-30 08:00:00, number of deaths =  41, number of infected = 20494\n",
      "2020-07-06 22:20:09,469 - june.simulator - INFO - Date = 2020-06-30 10:00:00, number of deaths =  41, number of infected = 20421\n",
      "2020-07-06 22:20:09,884 - june.simulator - INFO - Date = 2020-07-01 00:00:00, number of deaths =  43, number of infected = 19875\n",
      "2020-07-06 22:20:10,331 - june.simulator - INFO - Date = 2020-07-01 02:00:00, number of deaths =  43, number of infected = 19786\n",
      "2020-07-06 22:20:10,799 - june.simulator - INFO - Date = 2020-07-01 04:00:00, number of deaths =  43, number of infected = 19698\n",
      "2020-07-06 22:20:11,217 - june.simulator - INFO - Date = 2020-07-01 06:00:00, number of deaths =  44, number of infected = 19614\n",
      "2020-07-06 22:20:11,649 - june.simulator - INFO - Date = 2020-07-01 08:00:00, number of deaths =  44, number of infected = 19525\n",
      "2020-07-06 22:20:11,988 - june.simulator - INFO - Date = 2020-07-01 10:00:00, number of deaths =  44, number of infected = 19441\n",
      "2020-07-06 22:20:12,341 - june.simulator - INFO - Date = 2020-07-02 00:00:00, number of deaths =  44, number of infected = 18831\n",
      "2020-07-06 22:20:12,814 - june.simulator - INFO - Date = 2020-07-02 02:00:00, number of deaths =  45, number of infected = 18737\n",
      "2020-07-06 22:20:13,250 - june.simulator - INFO - Date = 2020-07-02 04:00:00, number of deaths =  45, number of infected = 18641\n",
      "2020-07-06 22:20:13,695 - june.simulator - INFO - Date = 2020-07-02 06:00:00, number of deaths =  45, number of infected = 18537\n",
      "2020-07-06 22:20:14,150 - june.simulator - INFO - Date = 2020-07-02 08:00:00, number of deaths =  46, number of infected = 18421\n",
      "2020-07-06 22:20:14,505 - june.simulator - INFO - Date = 2020-07-02 10:00:00, number of deaths =  46, number of infected = 18304\n",
      "2020-07-06 22:20:14,839 - june.simulator - INFO - Date = 2020-07-03 00:00:00, number of deaths =  47, number of infected = 17553\n",
      "2020-07-06 22:20:15,386 - june.simulator - INFO - Date = 2020-07-03 02:00:00, number of deaths =  47, number of infected = 17446\n",
      "2020-07-06 22:20:15,935 - june.simulator - INFO - Date = 2020-07-03 04:00:00, number of deaths =  48, number of infected = 17328\n",
      "2020-07-06 22:20:16,359 - june.simulator - INFO - Date = 2020-07-03 06:00:00, number of deaths =  48, number of infected = 17200\n",
      "2020-07-06 22:20:16,803 - june.simulator - INFO - Date = 2020-07-03 08:00:00, number of deaths =  48, number of infected = 17069\n",
      "2020-07-06 22:20:17,187 - june.simulator - INFO - Date = 2020-07-03 10:00:00, number of deaths =  48, number of infected = 16957\n",
      "2020-07-06 22:20:17,552 - june.simulator - INFO - Date = 2020-07-04 00:00:00, number of deaths =  48, number of infected = 16128\n",
      "2020-07-06 22:20:18,032 - june.simulator - INFO - Date = 2020-07-04 03:00:00, number of deaths =  48, number of infected = 15951\n",
      "2020-07-06 22:20:18,595 - june.simulator - INFO - Date = 2020-07-04 05:00:00, number of deaths =  49, number of infected = 15826\n",
      "2020-07-06 22:20:19,058 - june.simulator - INFO - Date = 2020-07-04 07:00:00, number of deaths =  49, number of infected = 15703\n",
      "2020-07-06 22:20:19,511 - june.simulator - INFO - Date = 2020-07-04 09:00:00, number of deaths =  50, number of infected = 15571\n",
      "2020-07-06 22:20:19,915 - june.simulator - INFO - Date = 2020-07-04 11:00:00, number of deaths =  50, number of infected = 15452\n",
      "2020-07-06 22:20:20,264 - june.simulator - INFO - Date = 2020-07-05 00:00:00, number of deaths =  51, number of infected = 14637\n",
      "2020-07-06 22:20:20,673 - june.simulator - INFO - Date = 2020-07-05 03:00:00, number of deaths =  51, number of infected = 14442\n",
      "2020-07-06 22:20:21,076 - june.simulator - INFO - Date = 2020-07-05 05:00:00, number of deaths =  51, number of infected = 14318\n",
      "2020-07-06 22:20:21,467 - june.simulator - INFO - Date = 2020-07-05 07:00:00, number of deaths =  51, number of infected = 14183\n",
      "2020-07-06 22:20:21,870 - june.simulator - INFO - Date = 2020-07-05 09:00:00, number of deaths =  51, number of infected = 14043\n",
      "2020-07-06 22:20:22,173 - june.simulator - INFO - Date = 2020-07-05 11:00:00, number of deaths =  51, number of infected = 13904\n",
      "2020-07-06 22:20:22,506 - june.simulator - INFO - Date = 2020-07-06 00:00:00, number of deaths =  52, number of infected = 13039\n",
      "2020-07-06 22:20:22,880 - june.simulator - INFO - Date = 2020-07-06 02:00:00, number of deaths =  52, number of infected = 12890\n",
      "2020-07-06 22:20:23,274 - june.simulator - INFO - Date = 2020-07-06 04:00:00, number of deaths =  52, number of infected = 12758\n",
      "2020-07-06 22:20:23,693 - june.simulator - INFO - Date = 2020-07-06 06:00:00, number of deaths =  52, number of infected = 12631\n",
      "2020-07-06 22:20:24,066 - june.simulator - INFO - Date = 2020-07-06 08:00:00, number of deaths =  52, number of infected = 12500\n",
      "2020-07-06 22:20:24,377 - june.simulator - INFO - Date = 2020-07-06 10:00:00, number of deaths =  52, number of infected = 12372\n",
      "2020-07-06 22:20:24,732 - june.simulator - INFO - Date = 2020-07-07 00:00:00, number of deaths =  52, number of infected = 11414\n",
      "2020-07-06 22:20:25,092 - june.simulator - INFO - Date = 2020-07-07 02:00:00, number of deaths =  52, number of infected = 11275\n",
      "2020-07-06 22:20:25,434 - june.simulator - INFO - Date = 2020-07-07 04:00:00, number of deaths =  52, number of infected = 11144\n",
      "2020-07-06 22:20:25,798 - june.simulator - INFO - Date = 2020-07-07 06:00:00, number of deaths =  52, number of infected = 10992\n",
      "2020-07-06 22:20:26,162 - june.simulator - INFO - Date = 2020-07-07 08:00:00, number of deaths =  52, number of infected = 10848\n",
      "2020-07-06 22:20:26,420 - june.simulator - INFO - Date = 2020-07-07 10:00:00, number of deaths =  52, number of infected = 10714\n",
      "2020-07-06 22:20:26,722 - june.simulator - INFO - Date = 2020-07-08 00:00:00, number of deaths =  53, number of infected = 9693\n",
      "2020-07-06 22:20:27,063 - june.simulator - INFO - Date = 2020-07-08 02:00:00, number of deaths =  53, number of infected = 9568\n",
      "2020-07-06 22:20:27,419 - june.simulator - INFO - Date = 2020-07-08 04:00:00, number of deaths =  53, number of infected = 9443\n",
      "2020-07-06 22:20:27,778 - june.simulator - INFO - Date = 2020-07-08 06:00:00, number of deaths =  53, number of infected = 9325\n",
      "2020-07-06 22:20:28,165 - june.simulator - INFO - Date = 2020-07-08 08:00:00, number of deaths =  53, number of infected = 9167\n",
      "2020-07-06 22:20:28,488 - june.simulator - INFO - Date = 2020-07-08 10:00:00, number of deaths =  53, number of infected = 9007\n",
      "2020-07-06 22:20:28,781 - june.simulator - INFO - Date = 2020-07-09 00:00:00, number of deaths =  55, number of infected = 8057\n",
      "2020-07-06 22:20:29,107 - june.simulator - INFO - Date = 2020-07-09 02:00:00, number of deaths =  56, number of infected = 7922\n",
      "2020-07-06 22:20:29,518 - june.simulator - INFO - Date = 2020-07-09 04:00:00, number of deaths =  56, number of infected = 7795\n",
      "2020-07-06 22:20:29,834 - june.simulator - INFO - Date = 2020-07-09 06:00:00, number of deaths =  56, number of infected = 7675\n",
      "2020-07-06 22:20:30,161 - june.simulator - INFO - Date = 2020-07-09 08:00:00, number of deaths =  56, number of infected = 7557\n",
      "2020-07-06 22:20:30,418 - june.simulator - INFO - Date = 2020-07-09 10:00:00, number of deaths =  56, number of infected = 7399\n",
      "2020-07-06 22:20:30,645 - june.simulator - INFO - Date = 2020-07-10 00:00:00, number of deaths =  56, number of infected = 6480\n",
      "2020-07-06 22:20:30,966 - june.simulator - INFO - Date = 2020-07-10 02:00:00, number of deaths =  56, number of infected = 6381\n",
      "2020-07-06 22:20:31,277 - june.simulator - INFO - Date = 2020-07-10 04:00:00, number of deaths =  56, number of infected = 6261\n",
      "2020-07-06 22:20:31,581 - june.simulator - INFO - Date = 2020-07-10 06:00:00, number of deaths =  56, number of infected = 6121\n",
      "2020-07-06 22:20:31,983 - june.simulator - INFO - Date = 2020-07-10 08:00:00, number of deaths =  56, number of infected = 6001\n",
      "2020-07-06 22:20:32,230 - june.simulator - INFO - Date = 2020-07-10 10:00:00, number of deaths =  56, number of infected = 5875\n",
      "2020-07-06 22:20:32,495 - june.simulator - INFO - Date = 2020-07-11 00:00:00, number of deaths =  57, number of infected = 5048\n",
      "2020-07-06 22:20:32,814 - june.simulator - INFO - Date = 2020-07-11 03:00:00, number of deaths =  57, number of infected = 4897\n",
      "2020-07-06 22:20:33,151 - june.simulator - INFO - Date = 2020-07-11 05:00:00, number of deaths =  57, number of infected = 4774\n",
      "2020-07-06 22:20:33,586 - june.simulator - INFO - Date = 2020-07-11 07:00:00, number of deaths =  57, number of infected = 4660\n",
      "2020-07-06 22:20:33,895 - june.simulator - INFO - Date = 2020-07-11 09:00:00, number of deaths =  57, number of infected = 4552\n",
      "2020-07-06 22:20:34,161 - june.simulator - INFO - Date = 2020-07-11 11:00:00, number of deaths =  57, number of infected = 4444\n",
      "2020-07-06 22:20:34,380 - june.simulator - INFO - Date = 2020-07-12 00:00:00, number of deaths =  58, number of infected = 3780\n",
      "2020-07-06 22:20:34,662 - june.simulator - INFO - Date = 2020-07-12 03:00:00, number of deaths =  58, number of infected = 3644\n",
      "2020-07-06 22:20:34,949 - june.simulator - INFO - Date = 2020-07-12 05:00:00, number of deaths =  58, number of infected = 3545\n",
      "2020-07-06 22:20:35,250 - june.simulator - INFO - Date = 2020-07-12 07:00:00, number of deaths =  58, number of infected = 3450\n",
      "2020-07-06 22:20:35,554 - june.simulator - INFO - Date = 2020-07-12 09:00:00, number of deaths =  58, number of infected = 3372\n",
      "2020-07-06 22:20:35,753 - june.simulator - INFO - Date = 2020-07-12 11:00:00, number of deaths =  58, number of infected = 3281\n",
      "2020-07-06 22:20:35,925 - june.simulator - INFO - Date = 2020-07-13 00:00:00, number of deaths =  59, number of infected = 2707\n",
      "2020-07-06 22:20:36,208 - june.simulator - INFO - Date = 2020-07-13 02:00:00, number of deaths =  59, number of infected = 2635\n",
      "2020-07-06 22:20:36,491 - june.simulator - INFO - Date = 2020-07-13 04:00:00, number of deaths =  59, number of infected = 2556\n",
      "2020-07-06 22:20:36,761 - june.simulator - INFO - Date = 2020-07-13 06:00:00, number of deaths =  59, number of infected = 2473\n",
      "2020-07-06 22:20:37,048 - june.simulator - INFO - Date = 2020-07-13 08:00:00, number of deaths =  59, number of infected = 2396\n",
      "2020-07-06 22:20:37,237 - june.simulator - INFO - Date = 2020-07-13 10:00:00, number of deaths =  59, number of infected = 2322\n",
      "2020-07-06 22:20:37,539 - june.simulator - INFO - Date = 2020-07-14 00:00:00, number of deaths =  59, number of infected = 1867\n",
      "2020-07-06 22:20:37,828 - june.simulator - INFO - Date = 2020-07-14 02:00:00, number of deaths =  59, number of infected = 1831\n",
      "2020-07-06 22:20:38,090 - june.simulator - INFO - Date = 2020-07-14 04:00:00, number of deaths =  59, number of infected = 1789\n",
      "2020-07-06 22:20:38,417 - june.simulator - INFO - Date = 2020-07-14 06:00:00, number of deaths =  59, number of infected = 1737\n",
      "2020-07-06 22:20:38,717 - june.simulator - INFO - Date = 2020-07-14 08:00:00, number of deaths =  59, number of infected = 1684\n",
      "2020-07-06 22:20:38,872 - june.simulator - INFO - Date = 2020-07-14 10:00:00, number of deaths =  59, number of infected = 1624\n",
      "2020-07-06 22:20:39,133 - june.simulator - INFO - Date = 2020-07-15 00:00:00, number of deaths =  60, number of infected = 1295\n",
      "2020-07-06 22:20:39,451 - june.simulator - INFO - Date = 2020-07-15 02:00:00, number of deaths =  60, number of infected = 1251\n",
      "2020-07-06 22:20:39,715 - june.simulator - INFO - Date = 2020-07-15 04:00:00, number of deaths =  60, number of infected = 1211\n",
      "2020-07-06 22:20:39,969 - june.simulator - INFO - Date = 2020-07-15 06:00:00, number of deaths =  60, number of infected = 1174\n",
      "2020-07-06 22:20:40,210 - june.simulator - INFO - Date = 2020-07-15 08:00:00, number of deaths =  60, number of infected = 1145\n",
      "2020-07-06 22:20:40,368 - june.simulator - INFO - Date = 2020-07-15 10:00:00, number of deaths =  60, number of infected = 1106\n",
      "2020-07-06 22:20:40,565 - june.simulator - INFO - Date = 2020-07-16 00:00:00, number of deaths =  60, number of infected = 871\n",
      "2020-07-06 22:20:40,832 - june.simulator - INFO - Date = 2020-07-16 02:00:00, number of deaths =  60, number of infected = 843\n",
      "2020-07-06 22:20:41,075 - june.simulator - INFO - Date = 2020-07-16 04:00:00, number of deaths =  60, number of infected = 820\n",
      "2020-07-06 22:20:41,350 - june.simulator - INFO - Date = 2020-07-16 06:00:00, number of deaths =  60, number of infected = 786\n",
      "2020-07-06 22:20:41,649 - june.simulator - INFO - Date = 2020-07-16 08:00:00, number of deaths =  60, number of infected = 754\n",
      "2020-07-06 22:20:41,803 - june.simulator - INFO - Date = 2020-07-16 10:00:00, number of deaths =  60, number of infected = 730\n",
      "2020-07-06 22:20:41,952 - june.simulator - INFO - Date = 2020-07-17 00:00:00, number of deaths =  60, number of infected = 571\n",
      "2020-07-06 22:20:42,198 - june.simulator - INFO - Date = 2020-07-17 02:00:00, number of deaths =  60, number of infected = 549\n",
      "2020-07-06 22:20:42,457 - june.simulator - INFO - Date = 2020-07-17 04:00:00, number of deaths =  60, number of infected = 528\n",
      "2020-07-06 22:20:42,823 - june.simulator - INFO - Date = 2020-07-17 06:00:00, number of deaths =  60, number of infected = 511\n",
      "2020-07-06 22:20:43,071 - june.simulator - INFO - Date = 2020-07-17 08:00:00, number of deaths =  60, number of infected = 485\n",
      "2020-07-06 22:20:43,212 - june.simulator - INFO - Date = 2020-07-17 10:00:00, number of deaths =  60, number of infected = 466\n",
      "2020-07-06 22:20:43,354 - june.simulator - INFO - Date = 2020-07-18 00:00:00, number of deaths =  60, number of infected = 371\n",
      "2020-07-06 22:20:43,642 - june.simulator - INFO - Date = 2020-07-18 03:00:00, number of deaths =  60, number of infected = 346\n",
      "2020-07-06 22:20:43,991 - june.simulator - INFO - Date = 2020-07-18 05:00:00, number of deaths =  60, number of infected = 340\n",
      "2020-07-06 22:20:44,275 - june.simulator - INFO - Date = 2020-07-18 07:00:00, number of deaths =  60, number of infected = 319\n",
      "2020-07-06 22:20:44,557 - june.simulator - INFO - Date = 2020-07-18 09:00:00, number of deaths =  60, number of infected = 303\n",
      "2020-07-06 22:20:44,718 - june.simulator - INFO - Date = 2020-07-18 11:00:00, number of deaths =  60, number of infected = 291\n",
      "2020-07-06 22:20:44,874 - june.simulator - INFO - Date = 2020-07-19 00:00:00, number of deaths =  60, number of infected = 218\n",
      "2020-07-06 22:20:45,160 - june.simulator - INFO - Date = 2020-07-19 03:00:00, number of deaths =  60, number of infected = 208\n",
      "2020-07-06 22:20:45,432 - june.simulator - INFO - Date = 2020-07-19 05:00:00, number of deaths =  60, number of infected = 200\n",
      "2020-07-06 22:20:45,707 - june.simulator - INFO - Date = 2020-07-19 07:00:00, number of deaths =  60, number of infected = 189\n",
      "2020-07-06 22:20:46,030 - june.simulator - INFO - Date = 2020-07-19 09:00:00, number of deaths =  60, number of infected = 180\n",
      "2020-07-06 22:20:46,176 - june.simulator - INFO - Date = 2020-07-19 11:00:00, number of deaths =  60, number of infected = 165\n",
      "2020-07-06 22:20:46,324 - june.simulator - INFO - Date = 2020-07-20 00:00:00, number of deaths =  60, number of infected = 130\n",
      "2020-07-06 22:20:46,563 - june.simulator - INFO - Date = 2020-07-20 02:00:00, number of deaths =  60, number of infected = 123\n",
      "2020-07-06 22:20:46,823 - june.simulator - INFO - Date = 2020-07-20 04:00:00, number of deaths =  60, number of infected = 119\n",
      "2020-07-06 22:20:47,141 - june.simulator - INFO - Date = 2020-07-20 06:00:00, number of deaths =  60, number of infected = 112\n",
      "2020-07-06 22:20:47,409 - june.simulator - INFO - Date = 2020-07-20 08:00:00, number of deaths =  60, number of infected = 107\n",
      "2020-07-06 22:20:47,555 - june.simulator - INFO - Date = 2020-07-20 10:00:00, number of deaths =  60, number of infected = 103\n",
      "2020-07-06 22:20:47,700 - june.simulator - INFO - Date = 2020-07-21 00:00:00, number of deaths =  60, number of infected = 70\n",
      "2020-07-06 22:20:47,991 - june.simulator - INFO - Date = 2020-07-21 02:00:00, number of deaths =  60, number of infected = 67\n",
      "2020-07-06 22:20:48,264 - june.simulator - INFO - Date = 2020-07-21 04:00:00, number of deaths =  60, number of infected = 63\n",
      "2020-07-06 22:20:48,525 - june.simulator - INFO - Date = 2020-07-21 06:00:00, number of deaths =  60, number of infected = 62\n",
      "2020-07-06 22:20:48,771 - june.simulator - INFO - Date = 2020-07-21 08:00:00, number of deaths =  60, number of infected = 58\n",
      "2020-07-06 22:20:48,930 - june.simulator - INFO - Date = 2020-07-21 10:00:00, number of deaths =  60, number of infected = 58\n",
      "2020-07-06 22:20:49,096 - june.simulator - INFO - Date = 2020-07-22 00:00:00, number of deaths =  60, number of infected = 38\n",
      "2020-07-06 22:20:49,392 - june.simulator - INFO - Date = 2020-07-22 02:00:00, number of deaths =  60, number of infected = 37\n",
      "2020-07-06 22:20:49,626 - june.simulator - INFO - Date = 2020-07-22 04:00:00, number of deaths =  60, number of infected = 36\n",
      "2020-07-06 22:20:49,873 - june.simulator - INFO - Date = 2020-07-22 06:00:00, number of deaths =  60, number of infected = 33\n",
      "2020-07-06 22:20:50,167 - june.simulator - INFO - Date = 2020-07-22 08:00:00, number of deaths =  60, number of infected = 29\n",
      "2020-07-06 22:20:50,309 - june.simulator - INFO - Date = 2020-07-22 10:00:00, number of deaths =  60, number of infected = 28\n",
      "2020-07-06 22:20:50,449 - june.simulator - INFO - Date = 2020-07-23 00:00:00, number of deaths =  60, number of infected = 21\n",
      "2020-07-06 22:20:50,680 - june.simulator - INFO - Date = 2020-07-23 02:00:00, number of deaths =  60, number of infected = 17\n",
      "2020-07-06 22:20:50,932 - june.simulator - INFO - Date = 2020-07-23 04:00:00, number of deaths =  60, number of infected = 17\n",
      "2020-07-06 22:20:51,179 - june.simulator - INFO - Date = 2020-07-23 06:00:00, number of deaths =  60, number of infected = 17\n",
      "2020-07-06 22:20:51,441 - june.simulator - INFO - Date = 2020-07-23 08:00:00, number of deaths =  60, number of infected = 15\n",
      "2020-07-06 22:20:51,586 - june.simulator - INFO - Date = 2020-07-23 10:00:00, number of deaths =  60, number of infected = 14\n",
      "2020-07-06 22:20:51,718 - june.simulator - INFO - Date = 2020-07-24 00:00:00, number of deaths =  60, number of infected = 10\n",
      "2020-07-06 22:20:51,953 - june.simulator - INFO - Date = 2020-07-24 02:00:00, number of deaths =  60, number of infected = 10\n",
      "2020-07-06 22:20:52,229 - june.simulator - INFO - Date = 2020-07-24 04:00:00, number of deaths =  60, number of infected = 8\n",
      "2020-07-06 22:20:52,461 - june.simulator - INFO - Date = 2020-07-24 06:00:00, number of deaths =  60, number of infected = 8\n",
      "2020-07-06 22:20:52,733 - june.simulator - INFO - Date = 2020-07-24 08:00:00, number of deaths =  60, number of infected = 8\n",
      "2020-07-06 22:20:52,881 - june.simulator - INFO - Date = 2020-07-24 10:00:00, number of deaths =  60, number of infected = 8\n",
      "2020-07-06 22:20:53,024 - june.simulator - INFO - Date = 2020-07-25 00:00:00, number of deaths =  60, number of infected = 5\n",
      "2020-07-06 22:20:53,337 - june.simulator - INFO - Date = 2020-07-25 03:00:00, number of deaths =  60, number of infected = 5\n",
      "2020-07-06 22:20:53,661 - june.simulator - INFO - Date = 2020-07-25 05:00:00, number of deaths =  60, number of infected = 5\n",
      "2020-07-06 22:20:53,913 - june.simulator - INFO - Date = 2020-07-25 07:00:00, number of deaths =  60, number of infected = 5\n",
      "2020-07-06 22:20:54,170 - june.simulator - INFO - Date = 2020-07-25 09:00:00, number of deaths =  60, number of infected = 5\n",
      "2020-07-06 22:20:54,349 - june.simulator - INFO - Date = 2020-07-25 11:00:00, number of deaths =  60, number of infected = 5\n",
      "2020-07-06 22:20:54,483 - june.simulator - INFO - Date = 2020-07-26 00:00:00, number of deaths =  60, number of infected = 3\n",
      "2020-07-06 22:20:54,754 - june.simulator - INFO - Date = 2020-07-26 03:00:00, number of deaths =  60, number of infected = 3\n",
      "2020-07-06 22:20:55,009 - june.simulator - INFO - Date = 2020-07-26 05:00:00, number of deaths =  60, number of infected = 2\n",
      "2020-07-06 22:20:55,274 - june.simulator - INFO - Date = 2020-07-26 07:00:00, number of deaths =  60, number of infected = 2\n",
      "2020-07-06 22:20:55,645 - june.simulator - INFO - Date = 2020-07-26 09:00:00, number of deaths =  60, number of infected = 2\n",
      "2020-07-06 22:20:55,800 - june.simulator - INFO - Date = 2020-07-26 11:00:00, number of deaths =  60, number of infected = 2\n",
      "2020-07-06 22:20:55,949 - june.simulator - INFO - Date = 2020-07-27 00:00:00, number of deaths =  60, number of infected = 1\n",
      "2020-07-06 22:20:56,205 - june.simulator - INFO - Date = 2020-07-27 02:00:00, number of deaths =  60, number of infected = 1\n",
      "2020-07-06 22:20:56,474 - june.simulator - INFO - Date = 2020-07-27 04:00:00, number of deaths =  60, number of infected = 1\n",
      "2020-07-06 22:20:56,711 - june.simulator - INFO - Date = 2020-07-27 06:00:00, number of deaths =  60, number of infected = 1\n",
      "2020-07-06 22:20:56,969 - june.simulator - INFO - Date = 2020-07-27 08:00:00, number of deaths =  60, number of infected = 1\n",
      "2020-07-06 22:20:57,122 - june.simulator - INFO - Date = 2020-07-27 10:00:00, number of deaths =  60, number of infected = 1\n",
      "2020-07-06 22:20:57,280 - june.simulator - INFO - Date = 2020-07-28 00:00:00, number of deaths =  60, number of infected = 1\n",
      "2020-07-06 22:20:57,583 - june.simulator - INFO - Date = 2020-07-28 02:00:00, number of deaths =  60, number of infected = 1\n",
      "2020-07-06 22:20:57,872 - june.simulator - INFO - Date = 2020-07-28 04:00:00, number of deaths =  60, number of infected = 1\n",
      "2020-07-06 22:20:58,113 - june.simulator - INFO - Date = 2020-07-28 06:00:00, number of deaths =  60, number of infected = 1\n",
      "2020-07-06 22:20:58,384 - june.simulator - INFO - Date = 2020-07-28 08:00:00, number of deaths =  60, number of infected = 1\n",
      "2020-07-06 22:20:58,541 - june.simulator - INFO - Date = 2020-07-28 10:00:00, number of deaths =  60, number of infected = 1\n",
      "2020-07-06 22:20:58,717 - june.simulator - INFO - Date = 2020-07-29 00:00:00, number of deaths =  60, number of infected = 1\n",
      "2020-07-06 22:20:58,966 - june.simulator - INFO - Date = 2020-07-29 02:00:00, number of deaths =  60, number of infected = 1\n",
      "2020-07-06 22:20:59,219 - june.simulator - INFO - Date = 2020-07-29 04:00:00, number of deaths =  60, number of infected = 1\n",
      "2020-07-06 22:20:59,494 - june.simulator - INFO - Date = 2020-07-29 06:00:00, number of deaths =  60, number of infected = 0\n",
      "2020-07-06 22:20:59,804 - june.simulator - INFO - Date = 2020-07-29 08:00:00, number of deaths =  60, number of infected = 0\n",
      "2020-07-06 22:20:59,957 - june.simulator - INFO - Date = 2020-07-29 10:00:00, number of deaths =  60, number of infected = 0\n",
      "2020-07-06 22:21:00,090 - june.simulator - INFO - Date = 2020-07-30 00:00:00, number of deaths =  60, number of infected = 0\n",
      "2020-07-06 22:21:00,358 - june.simulator - INFO - Date = 2020-07-30 02:00:00, number of deaths =  60, number of infected = 0\n",
      "2020-07-06 22:21:00,631 - june.simulator - INFO - Date = 2020-07-30 04:00:00, number of deaths =  60, number of infected = 0\n",
      "2020-07-06 22:21:00,922 - june.simulator - INFO - Date = 2020-07-30 06:00:00, number of deaths =  60, number of infected = 0\n",
      "2020-07-06 22:21:01,185 - june.simulator - INFO - Date = 2020-07-30 08:00:00, number of deaths =  60, number of infected = 0\n",
      "2020-07-06 22:21:01,385 - june.simulator - INFO - Date = 2020-07-30 10:00:00, number of deaths =  60, number of infected = 0\n",
      "2020-07-06 22:21:01,540 - june.simulator - INFO - Date = 2020-07-31 00:00:00, number of deaths =  60, number of infected = 0\n",
      "2020-07-06 22:21:01,827 - june.simulator - INFO - Date = 2020-07-31 02:00:00, number of deaths =  60, number of infected = 0\n",
      "2020-07-06 22:21:02,183 - june.simulator - INFO - Date = 2020-07-31 04:00:00, number of deaths =  60, number of infected = 0\n",
      "2020-07-06 22:21:02,494 - june.simulator - INFO - Date = 2020-07-31 06:00:00, number of deaths =  60, number of infected = 0\n",
      "2020-07-06 22:21:02,751 - june.simulator - INFO - Date = 2020-07-31 08:00:00, number of deaths =  60, number of infected = 0\n",
      "2020-07-06 22:21:02,931 - june.simulator - INFO - Date = 2020-07-31 10:00:00, number of deaths =  60, number of infected = 0\n",
      "2020-07-06 22:21:03,067 - june.simulator - INFO - Date = 2020-08-01 00:00:00, number of deaths =  60, number of infected = 0\n",
      "2020-07-06 22:21:03,322 - june.simulator - INFO - Date = 2020-08-01 03:00:00, number of deaths =  60, number of infected = 0\n",
      "2020-07-06 22:21:03,588 - june.simulator - INFO - Date = 2020-08-01 05:00:00, number of deaths =  60, number of infected = 0\n",
      "2020-07-06 22:21:03,868 - june.simulator - INFO - Date = 2020-08-01 07:00:00, number of deaths =  60, number of infected = 0\n",
      "2020-07-06 22:21:04,196 - june.simulator - INFO - Date = 2020-08-01 09:00:00, number of deaths =  60, number of infected = 0\n",
      "2020-07-06 22:21:04,389 - june.simulator - INFO - Date = 2020-08-01 11:00:00, number of deaths =  60, number of infected = 0\n",
      "2020-07-06 22:21:04,565 - june.simulator - INFO - Date = 2020-08-02 00:00:00, number of deaths =  60, number of infected = 0\n",
      "2020-07-06 22:21:04,862 - june.simulator - INFO - Date = 2020-08-02 03:00:00, number of deaths =  60, number of infected = 0\n",
      "2020-07-06 22:21:05,163 - june.simulator - INFO - Date = 2020-08-02 05:00:00, number of deaths =  60, number of infected = 0\n",
      "2020-07-06 22:21:05,425 - june.simulator - INFO - Date = 2020-08-02 07:00:00, number of deaths =  60, number of infected = 0\n",
      "2020-07-06 22:21:05,699 - june.simulator - INFO - Date = 2020-08-02 09:00:00, number of deaths =  60, number of infected = 0\n",
      "2020-07-06 22:21:05,859 - june.simulator - INFO - Date = 2020-08-02 11:00:00, number of deaths =  60, number of infected = 0\n",
      "2020-07-06 22:21:06,007 - june.simulator - INFO - Date = 2020-08-03 00:00:00, number of deaths =  60, number of infected = 0\n",
      "2020-07-06 22:21:06,398 - june.simulator - INFO - Date = 2020-08-03 02:00:00, number of deaths =  60, number of infected = 0\n",
      "2020-07-06 22:21:06,717 - june.simulator - INFO - Date = 2020-08-03 04:00:00, number of deaths =  60, number of infected = 0\n",
      "2020-07-06 22:21:06,987 - june.simulator - INFO - Date = 2020-08-03 06:00:00, number of deaths =  60, number of infected = 0\n",
      "2020-07-06 22:21:07,277 - june.simulator - INFO - Date = 2020-08-03 08:00:00, number of deaths =  60, number of infected = 0\n",
      "2020-07-06 22:21:07,424 - june.simulator - INFO - Date = 2020-08-03 10:00:00, number of deaths =  60, number of infected = 0\n",
      "2020-07-06 22:21:07,572 - june.simulator - INFO - Date = 2020-08-04 00:00:00, number of deaths =  60, number of infected = 0\n",
      "2020-07-06 22:21:07,847 - june.simulator - INFO - Date = 2020-08-04 02:00:00, number of deaths =  60, number of infected = 0\n",
      "2020-07-06 22:21:08,127 - june.simulator - INFO - Date = 2020-08-04 04:00:00, number of deaths =  60, number of infected = 0\n",
      "2020-07-06 22:21:08,413 - june.simulator - INFO - Date = 2020-08-04 06:00:00, number of deaths =  60, number of infected = 0\n",
      "2020-07-06 22:21:08,649 - june.simulator - INFO - Date = 2020-08-04 08:00:00, number of deaths =  60, number of infected = 0\n",
      "2020-07-06 22:21:08,815 - june.simulator - INFO - Date = 2020-08-04 10:00:00, number of deaths =  60, number of infected = 0\n",
      "2020-07-06 22:21:08,955 - june.simulator - INFO - Date = 2020-08-05 00:00:00, number of deaths =  60, number of infected = 0\n",
      "2020-07-06 22:21:09,264 - june.simulator - INFO - Date = 2020-08-05 02:00:00, number of deaths =  60, number of infected = 0\n",
      "2020-07-06 22:21:09,538 - june.simulator - INFO - Date = 2020-08-05 04:00:00, number of deaths =  60, number of infected = 0\n",
      "2020-07-06 22:21:09,798 - june.simulator - INFO - Date = 2020-08-05 06:00:00, number of deaths =  60, number of infected = 0\n",
      "2020-07-06 22:21:10,061 - june.simulator - INFO - Date = 2020-08-05 08:00:00, number of deaths =  60, number of infected = 0\n",
      "2020-07-06 22:21:10,216 - june.simulator - INFO - Date = 2020-08-05 10:00:00, number of deaths =  60, number of infected = 0\n",
      "2020-07-06 22:21:10,384 - june.simulator - INFO - Date = 2020-08-06 00:00:00, number of deaths =  60, number of infected = 0\n",
      "2020-07-06 22:21:10,623 - june.simulator - INFO - Date = 2020-08-06 02:00:00, number of deaths =  60, number of infected = 0\n",
      "2020-07-06 22:21:10,906 - june.simulator - INFO - Date = 2020-08-06 04:00:00, number of deaths =  60, number of infected = 0\n",
      "2020-07-06 22:21:11,168 - june.simulator - INFO - Date = 2020-08-06 06:00:00, number of deaths =  60, number of infected = 0\n",
      "2020-07-06 22:21:11,473 - june.simulator - INFO - Date = 2020-08-06 08:00:00, number of deaths =  60, number of infected = 0\n",
      "2020-07-06 22:21:11,626 - june.simulator - INFO - Date = 2020-08-06 10:00:00, number of deaths =  60, number of infected = 0\n",
      "2020-07-06 22:21:11,786 - june.simulator - INFO - Date = 2020-08-07 00:00:00, number of deaths =  60, number of infected = 0\n",
      "2020-07-06 22:21:12,041 - june.simulator - INFO - Date = 2020-08-07 02:00:00, number of deaths =  60, number of infected = 0\n",
      "2020-07-06 22:21:12,328 - june.simulator - INFO - Date = 2020-08-07 04:00:00, number of deaths =  60, number of infected = 0\n",
      "2020-07-06 22:21:12,599 - june.simulator - INFO - Date = 2020-08-07 06:00:00, number of deaths =  60, number of infected = 0\n",
      "2020-07-06 22:21:12,847 - june.simulator - INFO - Date = 2020-08-07 08:00:00, number of deaths =  60, number of infected = 0\n",
      "2020-07-06 22:21:13,009 - june.simulator - INFO - Date = 2020-08-07 10:00:00, number of deaths =  60, number of infected = 0\n",
      "2020-07-06 22:21:13,148 - june.simulator - INFO - Date = 2020-08-08 00:00:00, number of deaths =  60, number of infected = 0\n",
      "2020-07-06 22:21:13,455 - june.simulator - INFO - Date = 2020-08-08 03:00:00, number of deaths =  60, number of infected = 0\n",
      "2020-07-06 22:21:13,733 - june.simulator - INFO - Date = 2020-08-08 05:00:00, number of deaths =  60, number of infected = 0\n",
      "2020-07-06 22:21:14,131 - june.simulator - INFO - Date = 2020-08-08 07:00:00, number of deaths =  60, number of infected = 0\n",
      "2020-07-06 22:21:14,424 - june.simulator - INFO - Date = 2020-08-08 09:00:00, number of deaths =  60, number of infected = 0\n",
      "2020-07-06 22:21:14,643 - june.simulator - INFO - Date = 2020-08-08 11:00:00, number of deaths =  60, number of infected = 0\n",
      "2020-07-06 22:21:14,807 - june.simulator - INFO - Date = 2020-08-09 00:00:00, number of deaths =  60, number of infected = 0\n",
      "2020-07-06 22:21:15,108 - june.simulator - INFO - Date = 2020-08-09 03:00:00, number of deaths =  60, number of infected = 0\n",
      "2020-07-06 22:21:15,474 - june.simulator - INFO - Date = 2020-08-09 05:00:00, number of deaths =  60, number of infected = 0\n",
      "2020-07-06 22:21:15,812 - june.simulator - INFO - Date = 2020-08-09 07:00:00, number of deaths =  60, number of infected = 0\n",
      "2020-07-06 22:21:16,130 - june.simulator - INFO - Date = 2020-08-09 09:00:00, number of deaths =  60, number of infected = 0\n",
      "2020-07-06 22:21:16,344 - june.simulator - INFO - Date = 2020-08-09 11:00:00, number of deaths =  60, number of infected = 0\n",
      "2020-07-06 22:21:16,551 - june.simulator - INFO - Date = 2020-08-10 00:00:00, number of deaths =  60, number of infected = 0\n",
      "2020-07-06 22:21:16,965 - june.simulator - INFO - Date = 2020-08-10 02:00:00, number of deaths =  60, number of infected = 0\n",
      "2020-07-06 22:21:17,347 - june.simulator - INFO - Date = 2020-08-10 04:00:00, number of deaths =  60, number of infected = 0\n",
      "2020-07-06 22:21:17,786 - june.simulator - INFO - Date = 2020-08-10 06:00:00, number of deaths =  60, number of infected = 0\n",
      "2020-07-06 22:21:18,262 - june.simulator - INFO - Date = 2020-08-10 08:00:00, number of deaths =  60, number of infected = 0\n",
      "2020-07-06 22:21:18,555 - june.simulator - INFO - Date = 2020-08-10 10:00:00, number of deaths =  60, number of infected = 0\n",
      "2020-07-06 22:21:19,153 - june.simulator - INFO - Date = 2020-08-11 00:00:00, number of deaths =  60, number of infected = 0\n",
      "2020-07-06 22:21:20,410 - june.simulator - INFO - Date = 2020-08-11 02:00:00, number of deaths =  60, number of infected = 0\n",
      "2020-07-06 22:21:21,712 - june.simulator - INFO - Date = 2020-08-11 04:00:00, number of deaths =  60, number of infected = 0\n",
      "2020-07-06 22:21:22,695 - june.simulator - INFO - Date = 2020-08-11 06:00:00, number of deaths =  60, number of infected = 0\n",
      "2020-07-06 22:21:23,506 - june.simulator - INFO - Date = 2020-08-11 08:00:00, number of deaths =  60, number of infected = 0\n",
      "2020-07-06 22:21:24,029 - june.simulator - INFO - Date = 2020-08-11 10:00:00, number of deaths =  60, number of infected = 0\n",
      "2020-07-06 22:21:24,383 - june.simulator - INFO - Date = 2020-08-12 00:00:00, number of deaths =  60, number of infected = 0\n",
      "2020-07-06 22:21:25,071 - june.simulator - INFO - Date = 2020-08-12 02:00:00, number of deaths =  60, number of infected = 0\n",
      "2020-07-06 22:21:26,284 - june.simulator - INFO - Date = 2020-08-12 04:00:00, number of deaths =  60, number of infected = 0\n",
      "2020-07-06 22:21:27,264 - june.simulator - INFO - Date = 2020-08-12 06:00:00, number of deaths =  60, number of infected = 0\n",
      "2020-07-06 22:21:28,313 - june.simulator - INFO - Date = 2020-08-12 08:00:00, number of deaths =  60, number of infected = 0\n",
      "2020-07-06 22:21:28,954 - june.simulator - INFO - Date = 2020-08-12 10:00:00, number of deaths =  60, number of infected = 0\n",
      "2020-07-06 22:21:29,513 - june.simulator - INFO - Date = 2020-08-13 00:00:00, number of deaths =  60, number of infected = 0\n",
      "2020-07-06 22:21:30,565 - june.simulator - INFO - Date = 2020-08-13 02:00:00, number of deaths =  60, number of infected = 0\n",
      "2020-07-06 22:21:31,190 - june.simulator - INFO - Date = 2020-08-13 04:00:00, number of deaths =  60, number of infected = 0\n",
      "2020-07-06 22:21:32,085 - june.simulator - INFO - Date = 2020-08-13 06:00:00, number of deaths =  60, number of infected = 0\n",
      "2020-07-06 22:21:33,113 - june.simulator - INFO - Date = 2020-08-13 08:00:00, number of deaths =  60, number of infected = 0\n",
      "2020-07-06 22:21:33,576 - june.simulator - INFO - Date = 2020-08-13 10:00:00, number of deaths =  60, number of infected = 0\n",
      "2020-07-06 22:21:33,946 - june.simulator - INFO - Date = 2020-08-14 00:00:00, number of deaths =  60, number of infected = 0\n",
      "2020-07-06 22:21:34,385 - june.simulator - INFO - Date = 2020-08-14 02:00:00, number of deaths =  60, number of infected = 0\n",
      "2020-07-06 22:21:34,762 - june.simulator - INFO - Date = 2020-08-14 04:00:00, number of deaths =  60, number of infected = 0\n",
      "2020-07-06 22:21:35,131 - june.simulator - INFO - Date = 2020-08-14 06:00:00, number of deaths =  60, number of infected = 0\n",
      "2020-07-06 22:21:35,579 - june.simulator - INFO - Date = 2020-08-14 08:00:00, number of deaths =  60, number of infected = 0\n",
      "2020-07-06 22:21:35,824 - june.simulator - INFO - Date = 2020-08-14 10:00:00, number of deaths =  60, number of infected = 0\n",
      "2020-07-06 22:21:36,256 - june.simulator - INFO - Date = 2020-08-15 00:00:00, number of deaths =  60, number of infected = 0\n",
      "2020-07-06 22:21:36,865 - june.simulator - INFO - Date = 2020-08-15 03:00:00, number of deaths =  60, number of infected = 0\n",
      "2020-07-06 22:21:37,502 - june.simulator - INFO - Date = 2020-08-15 05:00:00, number of deaths =  60, number of infected = 0\n",
      "2020-07-06 22:21:38,109 - june.simulator - INFO - Date = 2020-08-15 07:00:00, number of deaths =  60, number of infected = 0\n",
      "2020-07-06 22:21:38,864 - june.simulator - INFO - Date = 2020-08-15 09:00:00, number of deaths =  60, number of infected = 0\n",
      "2020-07-06 22:21:39,377 - june.simulator - INFO - Date = 2020-08-15 11:00:00, number of deaths =  60, number of infected = 0\n",
      "2020-07-06 22:21:39,871 - june.simulator - INFO - Date = 2020-08-16 00:00:00, number of deaths =  60, number of infected = 0\n",
      "2020-07-06 22:21:40,789 - june.simulator - INFO - Date = 2020-08-16 03:00:00, number of deaths =  60, number of infected = 0\n",
      "2020-07-06 22:21:41,586 - june.simulator - INFO - Date = 2020-08-16 05:00:00, number of deaths =  60, number of infected = 0\n",
      "2020-07-06 22:21:41,910 - june.simulator - INFO - Date = 2020-08-16 07:00:00, number of deaths =  60, number of infected = 0\n",
      "2020-07-06 22:21:42,218 - june.simulator - INFO - Date = 2020-08-16 09:00:00, number of deaths =  60, number of infected = 0\n",
      "2020-07-06 22:21:42,422 - june.simulator - INFO - Date = 2020-08-16 11:00:00, number of deaths =  60, number of infected = 0\n",
      "2020-07-06 22:21:42,670 - june.simulator - INFO - Date = 2020-08-17 00:00:00, number of deaths =  60, number of infected = 0\n",
      "2020-07-06 22:21:43,115 - june.simulator - INFO - Date = 2020-08-17 02:00:00, number of deaths =  60, number of infected = 0\n",
      "2020-07-06 22:21:43,629 - june.simulator - INFO - Date = 2020-08-17 04:00:00, number of deaths =  60, number of infected = 0\n",
      "2020-07-06 22:21:44,200 - june.simulator - INFO - Date = 2020-08-17 06:00:00, number of deaths =  60, number of infected = 0\n",
      "2020-07-06 22:21:44,859 - june.simulator - INFO - Date = 2020-08-17 08:00:00, number of deaths =  60, number of infected = 0\n",
      "2020-07-06 22:21:45,286 - june.simulator - INFO - Date = 2020-08-17 10:00:00, number of deaths =  60, number of infected = 0\n",
      "2020-07-06 22:21:45,694 - june.simulator - INFO - Date = 2020-08-18 00:00:00, number of deaths =  60, number of infected = 0\n",
      "2020-07-06 22:21:46,449 - june.simulator - INFO - Date = 2020-08-18 02:00:00, number of deaths =  60, number of infected = 0\n",
      "2020-07-06 22:21:47,397 - june.simulator - INFO - Date = 2020-08-18 04:00:00, number of deaths =  60, number of infected = 0\n",
      "2020-07-06 22:21:47,999 - june.simulator - INFO - Date = 2020-08-18 06:00:00, number of deaths =  60, number of infected = 0\n",
      "2020-07-06 22:21:48,647 - june.simulator - INFO - Date = 2020-08-18 08:00:00, number of deaths =  60, number of infected = 0\n",
      "2020-07-06 22:21:48,937 - june.simulator - INFO - Date = 2020-08-18 10:00:00, number of deaths =  60, number of infected = 0\n",
      "2020-07-06 22:21:49,194 - june.simulator - INFO - Date = 2020-08-19 00:00:00, number of deaths =  60, number of infected = 0\n",
      "2020-07-06 22:21:50,137 - june.simulator - INFO - Date = 2020-08-19 02:00:00, number of deaths =  60, number of infected = 0\n",
      "2020-07-06 22:21:50,457 - june.simulator - INFO - Date = 2020-08-19 04:00:00, number of deaths =  60, number of infected = 0\n",
      "2020-07-06 22:21:50,862 - june.simulator - INFO - Date = 2020-08-19 06:00:00, number of deaths =  60, number of infected = 0\n",
      "2020-07-06 22:21:51,184 - june.simulator - INFO - Date = 2020-08-19 08:00:00, number of deaths =  60, number of infected = 0\n",
      "2020-07-06 22:21:51,374 - june.simulator - INFO - Date = 2020-08-19 10:00:00, number of deaths =  60, number of infected = 0\n",
      "2020-07-06 22:21:51,673 - june.simulator - INFO - Date = 2020-08-20 00:00:00, number of deaths =  60, number of infected = 0\n",
      "2020-07-06 22:21:52,237 - june.simulator - INFO - Date = 2020-08-20 02:00:00, number of deaths =  60, number of infected = 0\n",
      "2020-07-06 22:21:52,669 - june.simulator - INFO - Date = 2020-08-20 04:00:00, number of deaths =  60, number of infected = 0\n",
      "2020-07-06 22:21:53,041 - june.simulator - INFO - Date = 2020-08-20 06:00:00, number of deaths =  60, number of infected = 0\n",
      "2020-07-06 22:21:53,402 - june.simulator - INFO - Date = 2020-08-20 08:00:00, number of deaths =  60, number of infected = 0\n",
      "2020-07-06 22:21:53,609 - june.simulator - INFO - Date = 2020-08-20 10:00:00, number of deaths =  60, number of infected = 0\n",
      "2020-07-06 22:21:53,882 - june.simulator - INFO - Date = 2020-08-21 00:00:00, number of deaths =  60, number of infected = 0\n",
      "2020-07-06 22:21:54,231 - june.simulator - INFO - Date = 2020-08-21 02:00:00, number of deaths =  60, number of infected = 0\n",
      "2020-07-06 22:21:54,801 - june.simulator - INFO - Date = 2020-08-21 04:00:00, number of deaths =  60, number of infected = 0\n",
      "2020-07-06 22:21:55,159 - june.simulator - INFO - Date = 2020-08-21 06:00:00, number of deaths =  60, number of infected = 0\n",
      "2020-07-06 22:21:55,499 - june.simulator - INFO - Date = 2020-08-21 08:00:00, number of deaths =  60, number of infected = 0\n",
      "2020-07-06 22:21:55,689 - june.simulator - INFO - Date = 2020-08-21 10:00:00, number of deaths =  60, number of infected = 0\n",
      "2020-07-06 22:21:55,902 - june.simulator - INFO - Date = 2020-08-22 00:00:00, number of deaths =  60, number of infected = 0\n",
      "2020-07-06 22:21:56,240 - june.simulator - INFO - Date = 2020-08-22 03:00:00, number of deaths =  60, number of infected = 0\n",
      "2020-07-06 22:21:56,583 - june.simulator - INFO - Date = 2020-08-22 05:00:00, number of deaths =  60, number of infected = 0\n",
      "2020-07-06 22:21:56,926 - june.simulator - INFO - Date = 2020-08-22 07:00:00, number of deaths =  60, number of infected = 0\n",
      "2020-07-06 22:21:57,290 - june.simulator - INFO - Date = 2020-08-22 09:00:00, number of deaths =  60, number of infected = 0\n",
      "2020-07-06 22:21:57,590 - june.simulator - INFO - Date = 2020-08-22 11:00:00, number of deaths =  60, number of infected = 0\n",
      "2020-07-06 22:21:57,908 - june.simulator - INFO - Date = 2020-08-23 00:00:00, number of deaths =  60, number of infected = 0\n",
      "2020-07-06 22:21:58,655 - june.simulator - INFO - Date = 2020-08-23 03:00:00, number of deaths =  60, number of infected = 0\n",
      "2020-07-06 22:21:59,155 - june.simulator - INFO - Date = 2020-08-23 05:00:00, number of deaths =  60, number of infected = 0\n",
      "2020-07-06 22:21:59,974 - june.simulator - INFO - Date = 2020-08-23 07:00:00, number of deaths =  60, number of infected = 0\n",
      "2020-07-06 22:22:00,695 - june.simulator - INFO - Date = 2020-08-23 09:00:00, number of deaths =  60, number of infected = 0\n",
      "2020-07-06 22:22:01,044 - june.simulator - INFO - Date = 2020-08-23 11:00:00, number of deaths =  60, number of infected = 0\n",
      "2020-07-06 22:22:01,363 - june.simulator - INFO - Date = 2020-08-24 00:00:00, number of deaths =  60, number of infected = 0\n",
      "2020-07-06 22:22:01,969 - june.simulator - INFO - Date = 2020-08-24 02:00:00, number of deaths =  60, number of infected = 0\n",
      "2020-07-06 22:22:02,643 - june.simulator - INFO - Date = 2020-08-24 04:00:00, number of deaths =  60, number of infected = 0\n",
      "2020-07-06 22:22:03,134 - june.simulator - INFO - Date = 2020-08-24 06:00:00, number of deaths =  60, number of infected = 0\n",
      "2020-07-06 22:22:03,657 - june.simulator - INFO - Date = 2020-08-24 08:00:00, number of deaths =  60, number of infected = 0\n",
      "2020-07-06 22:22:04,059 - june.simulator - INFO - Date = 2020-08-24 10:00:00, number of deaths =  60, number of infected = 0\n",
      "2020-07-06 22:22:04,460 - june.simulator - INFO - Date = 2020-08-25 00:00:00, number of deaths =  60, number of infected = 0\n",
      "2020-07-06 22:22:05,154 - june.simulator - INFO - Date = 2020-08-25 02:00:00, number of deaths =  60, number of infected = 0\n",
      "2020-07-06 22:22:05,964 - june.simulator - INFO - Date = 2020-08-25 04:00:00, number of deaths =  60, number of infected = 0\n",
      "2020-07-06 22:22:06,549 - june.simulator - INFO - Date = 2020-08-25 06:00:00, number of deaths =  60, number of infected = 0\n",
      "2020-07-06 22:22:07,247 - june.simulator - INFO - Date = 2020-08-25 08:00:00, number of deaths =  60, number of infected = 0\n",
      "2020-07-06 22:22:07,687 - june.simulator - INFO - Date = 2020-08-25 10:00:00, number of deaths =  60, number of infected = 0\n",
      "2020-07-06 22:22:08,093 - june.simulator - INFO - Date = 2020-08-26 00:00:00, number of deaths =  60, number of infected = 0\n",
      "2020-07-06 22:22:08,781 - june.simulator - INFO - Date = 2020-08-26 02:00:00, number of deaths =  60, number of infected = 0\n",
      "2020-07-06 22:22:09,252 - june.simulator - INFO - Date = 2020-08-26 04:00:00, number of deaths =  60, number of infected = 0\n",
      "2020-07-06 22:22:10,061 - june.simulator - INFO - Date = 2020-08-26 06:00:00, number of deaths =  60, number of infected = 0\n",
      "2020-07-06 22:22:10,840 - june.simulator - INFO - Date = 2020-08-26 08:00:00, number of deaths =  60, number of infected = 0\n",
      "2020-07-06 22:22:11,356 - june.simulator - INFO - Date = 2020-08-26 10:00:00, number of deaths =  60, number of infected = 0\n",
      "2020-07-06 22:22:11,717 - june.simulator - INFO - Date = 2020-08-27 00:00:00, number of deaths =  60, number of infected = 0\n",
      "2020-07-06 22:22:19,576 - june.simulator - INFO - Date = 2020-08-27 02:00:00, number of deaths =  60, number of infected = 0\n",
      "2020-07-06 22:22:20,580 - june.simulator - INFO - Date = 2020-08-27 04:00:00, number of deaths =  60, number of infected = 0\n",
      "2020-07-06 22:22:21,666 - june.simulator - INFO - Date = 2020-08-27 06:00:00, number of deaths =  60, number of infected = 0\n",
      "2020-07-06 22:22:22,213 - june.simulator - INFO - Date = 2020-08-27 08:00:00, number of deaths =  60, number of infected = 0\n",
      "2020-07-06 22:22:22,443 - june.simulator - INFO - Date = 2020-08-27 10:00:00, number of deaths =  60, number of infected = 0\n",
      "2020-07-06 22:22:22,692 - june.simulator - INFO - Date = 2020-08-28 00:00:00, number of deaths =  60, number of infected = 0\n",
      "2020-07-06 22:22:23,042 - june.simulator - INFO - Date = 2020-08-28 02:00:00, number of deaths =  60, number of infected = 0\n",
      "2020-07-06 22:22:23,505 - june.simulator - INFO - Date = 2020-08-28 04:00:00, number of deaths =  60, number of infected = 0\n",
      "2020-07-06 22:22:23,839 - june.simulator - INFO - Date = 2020-08-28 06:00:00, number of deaths =  60, number of infected = 0\n",
      "2020-07-06 22:22:24,202 - june.simulator - INFO - Date = 2020-08-28 08:00:00, number of deaths =  60, number of infected = 0\n",
      "2020-07-06 22:22:24,467 - june.simulator - INFO - Date = 2020-08-28 10:00:00, number of deaths =  60, number of infected = 0\n",
      "2020-07-06 22:22:24,903 - june.simulator - INFO - Date = 2020-08-29 00:00:00, number of deaths =  60, number of infected = 0\n",
      "2020-07-06 22:22:25,278 - june.simulator - INFO - Date = 2020-08-29 03:00:00, number of deaths =  60, number of infected = 0\n",
      "2020-07-06 22:22:25,680 - june.simulator - INFO - Date = 2020-08-29 05:00:00, number of deaths =  60, number of infected = 0\n",
      "2020-07-06 22:22:26,027 - june.simulator - INFO - Date = 2020-08-29 07:00:00, number of deaths =  60, number of infected = 0\n",
      "2020-07-06 22:22:26,390 - june.simulator - INFO - Date = 2020-08-29 09:00:00, number of deaths =  60, number of infected = 0\n",
      "2020-07-06 22:22:26,653 - june.simulator - INFO - Date = 2020-08-29 11:00:00, number of deaths =  60, number of infected = 0\n",
      "2020-07-06 22:22:26,864 - june.simulator - INFO - Date = 2020-08-30 00:00:00, number of deaths =  60, number of infected = 0\n",
      "2020-07-06 22:22:27,251 - june.simulator - INFO - Date = 2020-08-30 03:00:00, number of deaths =  60, number of infected = 0\n",
      "2020-07-06 22:22:27,734 - june.simulator - INFO - Date = 2020-08-30 05:00:00, number of deaths =  60, number of infected = 0\n",
      "2020-07-06 22:22:28,136 - june.simulator - INFO - Date = 2020-08-30 07:00:00, number of deaths =  60, number of infected = 0\n",
      "2020-07-06 22:22:28,529 - june.simulator - INFO - Date = 2020-08-30 09:00:00, number of deaths =  60, number of infected = 0\n",
      "2020-07-06 22:22:28,816 - june.simulator - INFO - Date = 2020-08-30 11:00:00, number of deaths =  60, number of infected = 0\n",
      "2020-07-06 22:22:29,218 - june.simulator - INFO - Date = 2020-08-31 00:00:00, number of deaths =  60, number of infected = 0\n",
      "2020-07-06 22:22:29,940 - june.simulator - INFO - Date = 2020-08-31 02:00:00, number of deaths =  60, number of infected = 0\n",
      "2020-07-06 22:22:30,441 - june.simulator - INFO - Date = 2020-08-31 04:00:00, number of deaths =  60, number of infected = 0\n",
      "2020-07-06 22:22:30,951 - june.simulator - INFO - Date = 2020-08-31 06:00:00, number of deaths =  60, number of infected = 0\n",
      "2020-07-06 22:22:31,534 - june.simulator - INFO - Date = 2020-08-31 08:00:00, number of deaths =  60, number of infected = 0\n",
      "2020-07-06 22:22:31,766 - june.simulator - INFO - Date = 2020-08-31 10:00:00, number of deaths =  60, number of infected = 0\n",
      "2020-07-06 22:22:31,982 - june.simulator - INFO - Date = 2020-09-01 00:00:00, number of deaths =  60, number of infected = 0\n",
      "2020-07-06 22:22:32,384 - june.simulator - INFO - Date = 2020-09-01 02:00:00, number of deaths =  60, number of infected = 0\n",
      "2020-07-06 22:22:32,701 - june.simulator - INFO - Date = 2020-09-01 04:00:00, number of deaths =  60, number of infected = 0\n",
      "2020-07-06 22:22:33,016 - june.simulator - INFO - Date = 2020-09-01 06:00:00, number of deaths =  60, number of infected = 0\n",
      "2020-07-06 22:22:33,474 - june.simulator - INFO - Date = 2020-09-01 08:00:00, number of deaths =  60, number of infected = 0\n",
      "2020-07-06 22:22:33,771 - june.simulator - INFO - Date = 2020-09-01 10:00:00, number of deaths =  60, number of infected = 0\n",
      "2020-07-06 22:22:34,002 - june.simulator - INFO - Date = 2020-09-02 00:00:00, number of deaths =  60, number of infected = 0\n",
      "2020-07-06 22:22:34,528 - june.simulator - INFO - Date = 2020-09-02 02:00:00, number of deaths =  60, number of infected = 0\n",
      "2020-07-06 22:22:34,983 - june.simulator - INFO - Date = 2020-09-02 04:00:00, number of deaths =  60, number of infected = 0\n",
      "2020-07-06 22:22:35,368 - june.simulator - INFO - Date = 2020-09-02 06:00:00, number of deaths =  60, number of infected = 0\n",
      "2020-07-06 22:22:35,859 - june.simulator - INFO - Date = 2020-09-02 08:00:00, number of deaths =  60, number of infected = 0\n",
      "2020-07-06 22:22:36,268 - june.simulator - INFO - Date = 2020-09-02 10:00:00, number of deaths =  60, number of infected = 0\n",
      "2020-07-06 22:22:36,438 - june.simulator - INFO - Date = 2020-09-03 00:00:00, number of deaths =  60, number of infected = 0\n",
      "2020-07-06 22:22:36,716 - june.simulator - INFO - Date = 2020-09-03 02:00:00, number of deaths =  60, number of infected = 0\n",
      "2020-07-06 22:22:37,003 - june.simulator - INFO - Date = 2020-09-03 04:00:00, number of deaths =  60, number of infected = 0\n",
      "2020-07-06 22:22:37,309 - june.simulator - INFO - Date = 2020-09-03 06:00:00, number of deaths =  60, number of infected = 0\n",
      "2020-07-06 22:22:37,588 - june.simulator - INFO - Date = 2020-09-03 08:00:00, number of deaths =  60, number of infected = 0\n",
      "2020-07-06 22:22:37,783 - june.simulator - INFO - Date = 2020-09-03 10:00:00, number of deaths =  60, number of infected = 0\n",
      "2020-07-06 22:22:37,956 - june.simulator - INFO - Date = 2020-09-04 00:00:00, number of deaths =  60, number of infected = 0\n",
      "2020-07-06 22:22:38,241 - june.simulator - INFO - Date = 2020-09-04 02:00:00, number of deaths =  60, number of infected = 0\n",
      "2020-07-06 22:22:38,552 - june.simulator - INFO - Date = 2020-09-04 04:00:00, number of deaths =  60, number of infected = 0\n",
      "2020-07-06 22:22:38,807 - june.simulator - INFO - Date = 2020-09-04 06:00:00, number of deaths =  60, number of infected = 0\n",
      "2020-07-06 22:22:39,167 - june.simulator - INFO - Date = 2020-09-04 08:00:00, number of deaths =  60, number of infected = 0\n",
      "2020-07-06 22:22:39,385 - june.simulator - INFO - Date = 2020-09-04 10:00:00, number of deaths =  60, number of infected = 0\n",
      "2020-07-06 22:22:39,557 - june.simulator - INFO - Date = 2020-09-05 00:00:00, number of deaths =  60, number of infected = 0\n",
      "2020-07-06 22:22:39,844 - june.simulator - INFO - Date = 2020-09-05 03:00:00, number of deaths =  60, number of infected = 0\n",
      "2020-07-06 22:22:40,134 - june.simulator - INFO - Date = 2020-09-05 05:00:00, number of deaths =  60, number of infected = 0\n",
      "2020-07-06 22:22:40,479 - june.simulator - INFO - Date = 2020-09-05 07:00:00, number of deaths =  60, number of infected = 0\n",
      "2020-07-06 22:22:40,769 - june.simulator - INFO - Date = 2020-09-05 09:00:00, number of deaths =  60, number of infected = 0\n",
      "2020-07-06 22:22:40,929 - june.simulator - INFO - Date = 2020-09-05 11:00:00, number of deaths =  60, number of infected = 0\n",
      "2020-07-06 22:22:41,080 - june.simulator - INFO - Date = 2020-09-06 00:00:00, number of deaths =  60, number of infected = 0\n",
      "2020-07-06 22:22:41,534 - june.simulator - INFO - Date = 2020-09-06 03:00:00, number of deaths =  60, number of infected = 0\n",
      "2020-07-06 22:22:42,000 - june.simulator - INFO - Date = 2020-09-06 05:00:00, number of deaths =  60, number of infected = 0\n",
      "2020-07-06 22:22:42,280 - june.simulator - INFO - Date = 2020-09-06 07:00:00, number of deaths =  60, number of infected = 0\n",
      "2020-07-06 22:22:42,604 - june.simulator - INFO - Date = 2020-09-06 09:00:00, number of deaths =  60, number of infected = 0\n",
      "2020-07-06 22:22:42,772 - june.simulator - INFO - Date = 2020-09-06 11:00:00, number of deaths =  60, number of infected = 0\n",
      "2020-07-06 22:22:42,921 - june.simulator - INFO - Date = 2020-09-07 00:00:00, number of deaths =  60, number of infected = 0\n",
      "2020-07-06 22:22:43,213 - june.simulator - INFO - Date = 2020-09-07 02:00:00, number of deaths =  60, number of infected = 0\n",
      "2020-07-06 22:22:43,546 - june.simulator - INFO - Date = 2020-09-07 04:00:00, number of deaths =  60, number of infected = 0\n",
      "2020-07-06 22:22:43,987 - june.simulator - INFO - Date = 2020-09-07 06:00:00, number of deaths =  60, number of infected = 0\n",
      "2020-07-06 22:22:44,306 - june.simulator - INFO - Date = 2020-09-07 08:00:00, number of deaths =  60, number of infected = 0\n",
      "2020-07-06 22:22:44,502 - june.simulator - INFO - Date = 2020-09-07 10:00:00, number of deaths =  60, number of infected = 0\n",
      "2020-07-06 22:22:44,681 - june.simulator - INFO - Date = 2020-09-08 00:00:00, number of deaths =  60, number of infected = 0\n",
      "2020-07-06 22:22:45,023 - june.simulator - INFO - Date = 2020-09-08 02:00:00, number of deaths =  60, number of infected = 0\n",
      "2020-07-06 22:22:45,446 - june.simulator - INFO - Date = 2020-09-08 04:00:00, number of deaths =  60, number of infected = 0\n",
      "2020-07-06 22:22:45,809 - june.simulator - INFO - Date = 2020-09-08 06:00:00, number of deaths =  60, number of infected = 0\n",
      "2020-07-06 22:22:46,087 - june.simulator - INFO - Date = 2020-09-08 08:00:00, number of deaths =  60, number of infected = 0\n",
      "2020-07-06 22:22:46,251 - june.simulator - INFO - Date = 2020-09-08 10:00:00, number of deaths =  60, number of infected = 0\n",
      "2020-07-06 22:22:46,425 - june.simulator - INFO - Date = 2020-09-09 00:00:00, number of deaths =  60, number of infected = 0\n",
      "2020-07-06 22:22:46,702 - june.simulator - INFO - Date = 2020-09-09 02:00:00, number of deaths =  60, number of infected = 0\n",
      "2020-07-06 22:22:47,050 - june.simulator - INFO - Date = 2020-09-09 04:00:00, number of deaths =  60, number of infected = 0\n",
      "2020-07-06 22:22:47,327 - june.simulator - INFO - Date = 2020-09-09 06:00:00, number of deaths =  60, number of infected = 0\n",
      "2020-07-06 22:22:47,792 - june.simulator - INFO - Date = 2020-09-09 08:00:00, number of deaths =  60, number of infected = 0\n",
      "2020-07-06 22:22:47,989 - june.simulator - INFO - Date = 2020-09-09 10:00:00, number of deaths =  60, number of infected = 0\n",
      "2020-07-06 22:22:48,247 - june.simulator - INFO - Date = 2020-09-10 00:00:00, number of deaths =  60, number of infected = 0\n",
      "2020-07-06 22:22:48,865 - june.simulator - INFO - Date = 2020-09-10 02:00:00, number of deaths =  60, number of infected = 0\n",
      "2020-07-06 22:22:49,260 - june.simulator - INFO - Date = 2020-09-10 04:00:00, number of deaths =  60, number of infected = 0\n",
      "2020-07-06 22:22:49,660 - june.simulator - INFO - Date = 2020-09-10 06:00:00, number of deaths =  60, number of infected = 0\n",
      "2020-07-06 22:22:50,029 - june.simulator - INFO - Date = 2020-09-10 08:00:00, number of deaths =  60, number of infected = 0\n",
      "2020-07-06 22:22:50,268 - june.simulator - INFO - Date = 2020-09-10 10:00:00, number of deaths =  60, number of infected = 0\n",
      "2020-07-06 22:22:50,485 - june.simulator - INFO - Date = 2020-09-11 00:00:00, number of deaths =  60, number of infected = 0\n",
      "2020-07-06 22:22:50,843 - june.simulator - INFO - Date = 2020-09-11 02:00:00, number of deaths =  60, number of infected = 0\n",
      "2020-07-06 22:22:51,177 - june.simulator - INFO - Date = 2020-09-11 04:00:00, number of deaths =  60, number of infected = 0\n",
      "2020-07-06 22:22:51,748 - june.simulator - INFO - Date = 2020-09-11 06:00:00, number of deaths =  60, number of infected = 0\n",
      "2020-07-06 22:22:52,279 - june.simulator - INFO - Date = 2020-09-11 08:00:00, number of deaths =  60, number of infected = 0\n",
      "2020-07-06 22:22:52,622 - june.simulator - INFO - Date = 2020-09-11 10:00:00, number of deaths =  60, number of infected = 0\n",
      "2020-07-06 22:22:52,964 - june.simulator - INFO - Date = 2020-09-12 00:00:00, number of deaths =  60, number of infected = 0\n",
      "2020-07-06 22:22:53,532 - june.simulator - INFO - Date = 2020-09-12 03:00:00, number of deaths =  60, number of infected = 0\n",
      "2020-07-06 22:22:54,107 - june.simulator - INFO - Date = 2020-09-12 05:00:00, number of deaths =  60, number of infected = 0\n",
      "2020-07-06 22:22:54,741 - june.simulator - INFO - Date = 2020-09-12 07:00:00, number of deaths =  60, number of infected = 0\n",
      "2020-07-06 22:22:55,261 - june.simulator - INFO - Date = 2020-09-12 09:00:00, number of deaths =  60, number of infected = 0\n",
      "2020-07-06 22:22:55,512 - june.simulator - INFO - Date = 2020-09-12 11:00:00, number of deaths =  60, number of infected = 0\n",
      "2020-07-06 22:22:55,695 - june.simulator - INFO - Date = 2020-09-13 00:00:00, number of deaths =  60, number of infected = 0\n",
      "2020-07-06 22:22:56,069 - june.simulator - INFO - Date = 2020-09-13 03:00:00, number of deaths =  60, number of infected = 0\n",
      "2020-07-06 22:22:56,610 - june.simulator - INFO - Date = 2020-09-13 05:00:00, number of deaths =  60, number of infected = 0\n",
      "2020-07-06 22:22:56,945 - june.simulator - INFO - Date = 2020-09-13 07:00:00, number of deaths =  60, number of infected = 0\n",
      "2020-07-06 22:22:57,239 - june.simulator - INFO - Date = 2020-09-13 09:00:00, number of deaths =  60, number of infected = 0\n",
      "2020-07-06 22:22:57,398 - june.simulator - INFO - Date = 2020-09-13 11:00:00, number of deaths =  60, number of infected = 0\n",
      "2020-07-06 22:22:57,558 - june.simulator - INFO - Date = 2020-09-14 00:00:00, number of deaths =  60, number of infected = 0\n",
      "2020-07-06 22:22:57,806 - june.simulator - INFO - Date = 2020-09-14 02:00:00, number of deaths =  60, number of infected = 0\n",
      "2020-07-06 22:22:58,067 - june.simulator - INFO - Date = 2020-09-14 04:00:00, number of deaths =  60, number of infected = 0\n",
      "2020-07-06 22:22:58,373 - june.simulator - INFO - Date = 2020-09-14 06:00:00, number of deaths =  60, number of infected = 0\n",
      "2020-07-06 22:22:58,669 - june.simulator - INFO - Date = 2020-09-14 08:00:00, number of deaths =  60, number of infected = 0\n",
      "2020-07-06 22:22:58,841 - june.simulator - INFO - Date = 2020-09-14 10:00:00, number of deaths =  60, number of infected = 0\n",
      "2020-07-06 22:22:58,990 - june.simulator - INFO - Date = 2020-09-15 00:00:00, number of deaths =  60, number of infected = 0\n",
      "2020-07-06 22:22:59,239 - june.simulator - INFO - Date = 2020-09-15 02:00:00, number of deaths =  60, number of infected = 0\n",
      "2020-07-06 22:22:59,538 - june.simulator - INFO - Date = 2020-09-15 04:00:00, number of deaths =  60, number of infected = 0\n",
      "2020-07-06 22:22:59,806 - june.simulator - INFO - Date = 2020-09-15 06:00:00, number of deaths =  60, number of infected = 0\n",
      "2020-07-06 22:23:00,108 - june.simulator - INFO - Date = 2020-09-15 08:00:00, number of deaths =  60, number of infected = 0\n",
      "2020-07-06 22:23:00,411 - june.simulator - INFO - Date = 2020-09-15 10:00:00, number of deaths =  60, number of infected = 0\n",
      "2020-07-06 22:23:00,618 - june.simulator - INFO - Date = 2020-09-16 00:00:00, number of deaths =  60, number of infected = 0\n",
      "2020-07-06 22:23:00,999 - june.simulator - INFO - Date = 2020-09-16 02:00:00, number of deaths =  60, number of infected = 0\n",
      "2020-07-06 22:23:01,345 - june.simulator - INFO - Date = 2020-09-16 04:00:00, number of deaths =  60, number of infected = 0\n",
      "2020-07-06 22:23:01,656 - june.simulator - INFO - Date = 2020-09-16 06:00:00, number of deaths =  60, number of infected = 0\n",
      "2020-07-06 22:23:02,016 - june.simulator - INFO - Date = 2020-09-16 08:00:00, number of deaths =  60, number of infected = 0\n",
      "2020-07-06 22:23:02,191 - june.simulator - INFO - Date = 2020-09-16 10:00:00, number of deaths =  60, number of infected = 0\n",
      "2020-07-06 22:23:02,334 - june.simulator - INFO - Date = 2020-09-17 00:00:00, number of deaths =  60, number of infected = 0\n",
      "2020-07-06 22:23:02,679 - june.simulator - INFO - Date = 2020-09-17 02:00:00, number of deaths =  60, number of infected = 0\n",
      "2020-07-06 22:23:03,029 - june.simulator - INFO - Date = 2020-09-17 04:00:00, number of deaths =  60, number of infected = 0\n",
      "2020-07-06 22:23:03,336 - june.simulator - INFO - Date = 2020-09-17 06:00:00, number of deaths =  60, number of infected = 0\n",
      "2020-07-06 22:23:03,638 - june.simulator - INFO - Date = 2020-09-17 08:00:00, number of deaths =  60, number of infected = 0\n",
      "2020-07-06 22:23:03,863 - june.simulator - INFO - Date = 2020-09-17 10:00:00, number of deaths =  60, number of infected = 0\n",
      "2020-07-06 22:23:04,071 - june.simulator - INFO - Date = 2020-09-18 00:00:00, number of deaths =  60, number of infected = 0\n",
      "2020-07-06 22:23:04,369 - june.simulator - INFO - Date = 2020-09-18 02:00:00, number of deaths =  60, number of infected = 0\n",
      "2020-07-06 22:23:04,750 - june.simulator - INFO - Date = 2020-09-18 04:00:00, number of deaths =  60, number of infected = 0\n",
      "2020-07-06 22:23:05,149 - june.simulator - INFO - Date = 2020-09-18 06:00:00, number of deaths =  60, number of infected = 0\n",
      "2020-07-06 22:23:05,440 - june.simulator - INFO - Date = 2020-09-18 08:00:00, number of deaths =  60, number of infected = 0\n",
      "2020-07-06 22:23:05,601 - june.simulator - INFO - Date = 2020-09-18 10:00:00, number of deaths =  60, number of infected = 0\n",
      "2020-07-06 22:23:05,829 - june.simulator - INFO - Date = 2020-09-19 00:00:00, number of deaths =  60, number of infected = 0\n",
      "2020-07-06 22:23:06,131 - june.simulator - INFO - Date = 2020-09-19 03:00:00, number of deaths =  60, number of infected = 0\n",
      "2020-07-06 22:23:06,410 - june.simulator - INFO - Date = 2020-09-19 05:00:00, number of deaths =  60, number of infected = 0\n",
      "2020-07-06 22:23:06,718 - june.simulator - INFO - Date = 2020-09-19 07:00:00, number of deaths =  60, number of infected = 0\n",
      "2020-07-06 22:23:07,047 - june.simulator - INFO - Date = 2020-09-19 09:00:00, number of deaths =  60, number of infected = 0\n",
      "2020-07-06 22:23:07,225 - june.simulator - INFO - Date = 2020-09-19 11:00:00, number of deaths =  60, number of infected = 0\n",
      "2020-07-06 22:23:07,414 - june.simulator - INFO - Date = 2020-09-20 00:00:00, number of deaths =  60, number of infected = 0\n",
      "2020-07-06 22:23:07,669 - june.simulator - INFO - Date = 2020-09-20 03:00:00, number of deaths =  60, number of infected = 0\n",
      "2020-07-06 22:23:07,934 - june.simulator - INFO - Date = 2020-09-20 05:00:00, number of deaths =  60, number of infected = 0\n",
      "2020-07-06 22:23:08,211 - june.simulator - INFO - Date = 2020-09-20 07:00:00, number of deaths =  60, number of infected = 0\n",
      "2020-07-06 22:23:08,466 - june.simulator - INFO - Date = 2020-09-20 09:00:00, number of deaths =  60, number of infected = 0\n",
      "2020-07-06 22:23:08,612 - june.simulator - INFO - Date = 2020-09-20 11:00:00, number of deaths =  60, number of infected = 0\n",
      "2020-07-06 22:23:08,775 - june.simulator - INFO - Date = 2020-09-21 00:00:00, number of deaths =  60, number of infected = 0\n",
      "CPU times: user 4min 7s, sys: 3.91 s, total: 4min 11s\n",
      "Wall time: 4min 30s\n"
     ]
    }
   ],
   "source": [
    "%%time\n",
    "simulator.run()"
   ]
  },
  {
   "cell_type": "markdown",
   "metadata": {},
   "source": [
    "# Getting the results"
   ]
  },
  {
   "cell_type": "markdown",
   "metadata": {},
   "source": [
    "All results are stored in a json file specified in the ``save_path`` variable in the config file. We can also access it from ``world.logger`` directly."
   ]
  },
  {
   "cell_type": "code",
   "execution_count": 46,
   "metadata": {},
   "outputs": [],
   "source": [
    "import pandas as pd\n",
    "read = ReadLogger(load_real=False)"
   ]
  },
  {
   "cell_type": "code",
   "execution_count": 47,
   "metadata": {},
   "outputs": [],
   "source": [
    "loc_df = read.get_locations_infections()"
   ]
  },
  {
   "cell_type": "code",
   "execution_count": 48,
   "metadata": {},
   "outputs": [
    {
     "data": {
      "text/plain": [
       "Text(0.5, 0, 'location')"
      ]
     },
     "execution_count": 48,
     "metadata": {},
     "output_type": "execute_result"
    },
    {
     "data": {
      "image/png": "[encoded data removed]",
      "text/plain": [
       "<Figure size 432x288 with 1 Axes>"
      ]
     },
     "metadata": {
      "needs_background": "light"
     },
     "output_type": "display_data"
    }
   ],
   "source": [
    "import matplotlib.ticker as mtick\n",
    "\n",
    "ax = loc_df['percentage_infections'].sort_values().plot.bar()\n",
    "ax.yaxis.set_major_formatter(mtick.PercentFormatter())\n",
    "plt.ylabel('Percentage of infections at location')\n",
    "plt.xlabel('location')"
   ]
  },
  {
   "cell_type": "code",
   "execution_count": 49,
   "metadata": {},
   "outputs": [
    {
     "data": {
      "text/plain": [
       "<matplotlib.legend.Legend at 0x7f5ca234d1f0>"
      ]
     },
     "execution_count": 49,
     "metadata": {},
     "output_type": "execute_result"
    },
    {
     "data": {
      "image/png": "[encoded data removed]",
      "text/plain": [
       "<Figure size 432x288 with 1 Axes>"
      ]
     },
     "metadata": {
      "needs_background": "light"
     },
     "output_type": "display_data"
    }
   ],
   "source": [
    "world_df = read.world_summary()\n",
    "world_df.plot()\n",
    "#plt.axvspan(policies.social_distancing_start, \n",
    "#            policies.social_distancing_end,\n",
    "#            facecolor='y', alpha=0.2)\n",
    "plt.legend()"
   ]
  },
  {
   "cell_type": "code",
   "execution_count": null,
   "metadata": {},
   "outputs": [],
   "source": []
  },
  {
   "cell_type": "code",
   "execution_count": null,
   "metadata": {},
   "outputs": [],
   "source": []
  },
  {
   "cell_type": "code",
   "execution_count": null,
   "metadata": {},
   "outputs": [],
   "source": []
  },
  {
   "cell_type": "code",
   "execution_count": null,
   "metadata": {},
   "outputs": [],
   "source": []
  }
 ],
 "metadata": {
  "kernelspec": {
   "display_name": "Python 3",
   "language": "python",
   "name": "python3"
  },
  "language_info": {
   "codemirror_mode": {
    "name": "ipython",
    "version": 3
   },
   "file_extension": ".py",
   "mimetype": "text/x-python",
   "name": "python",
   "nbconvert_exporter": "python",
   "pygments_lexer": "ipython3",
   "version": "3.8.3"
  }
 },
 "nbformat": 4,
 "nbformat_minor": 4
}
