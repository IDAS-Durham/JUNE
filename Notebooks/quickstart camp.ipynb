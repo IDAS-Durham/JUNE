{
 "cells": [
  {
   "cell_type": "code",
   "execution_count": 1,
   "metadata": {},
   "outputs": [],
   "source": [
    "%load_ext autoreload\n",
    "%autoreload 2"
   ]
  },
  {
   "cell_type": "code",
   "execution_count": 2,
   "metadata": {},
   "outputs": [],
   "source": [
    "import warnings\n",
    "warnings.filterwarnings('ignore')"
   ]
  },
  {
   "cell_type": "code",
   "execution_count": 3,
   "metadata": {},
   "outputs": [],
   "source": [
    "import numpy as np\n",
    "import matplotlib.pyplot as plt \n",
    "import pandas as pd\n",
    "import time\n",
    "import matplotlib.pyplot as plt\n",
    "import seaborn as sns\n",
    "from datetime import datetime\n",
    "import sys\n",
    "sys.path.append(\"../camp_scripts\") # change accordingly\n",
    "sns.set_context('notebook')"
   ]
  },
  {
   "cell_type": "code",
   "execution_count": 4,
   "metadata": {},
   "outputs": [
    {
     "name": "stderr",
     "output_type": "stream",
     "text": [
      "No --data argument given - defaulting to:\n",
      "/Users/josephbullock/Documents/campmodelling/JUNE/data\n",
      "No --configs argument given - defaulting to:\n",
      "/Users/josephbullock/Documents/campmodelling/JUNE/configs\n"
     ]
    },
    {
     "name": "stdout",
     "output_type": "stream",
     "text": [
      "2020-09-02 12:34:55,699 - camps.paths - WARNING - No --data argument given - defaulting to:\n",
      "/Users/josephbullock/Documents/campmodelling/JUNE/data\n",
      "2020-09-02 12:34:55,699 - camps.paths - WARNING - No --configs argument given - defaulting to:\n",
      "/Users/josephbullock/Documents/campmodelling/JUNE/configs\n",
      "2020-09-02 12:34:55,700 - camps.paths - WARNING - No --camp_data argument given - defaulting to:\n",
      "/Users/josephbullock/Documents/campmodelling/JUNE/camp_data\n",
      "2020-09-02 12:34:55,701 - camps.paths - WARNING - No --configs_camps argument given - defaulting to:\n",
      "/Users/josephbullock/Documents/campmodelling/JUNE/configs_camps\n"
     ]
    }
   ],
   "source": [
    "from june.demography.geography import Geography\n",
    "from june.demography.demography import load_age_and_sex_generators_for_bins, Demography, Population\n",
    "from june.paths import data_path\n",
    "from june.infection_seed import InfectionSeed\n",
    "from june.simulator import Simulator\n",
    "from june.infection import InfectionSelector\n",
    "from june.interaction import Interaction\n",
    "from june.groups import Hospital, Hospitals\n",
    "from june.distributors import HospitalDistributor\n",
    "from june.hdf5_savers import generate_world_from_hdf5\n",
    "from june.groups import Cemeteries\n",
    "from june.policy import Policy, Policies\n",
    "from june.logger.read_logger import ReadLogger\n",
    "\n",
    "from camps.paths import camp_data_path\n",
    "from camps.world import World\n",
    "from camps.groups.leisure import generate_leisure_for_world, generate_leisure_for_config\n",
    "from camp_creation import generate_empty_world, populate_world, distribute_people_to_households # this is loaded from the ../camp_scripts folder"
   ]
  },
  {
   "cell_type": "code",
   "execution_count": 5,
   "metadata": {},
   "outputs": [],
   "source": [
    "from camps.groups import PumpLatrines, PumpLatrineDistributor\n",
    "from camps.groups import DistributionCenters, DistributionCenterDistributor\n",
    "from camps.groups import Communals, CommunalDistributor\n",
    "from camps.groups import FemaleCommunals, FemaleCommunalDistributor\n",
    "from camps.groups import Religiouss, ReligiousDistributor\n",
    "from camps.groups import Shelter, Shelters, ShelterDistributor\n",
    "from camps.groups import IsolationUnit, IsolationUnits\n",
    "from june.groups.leisure import HouseholdVisitsDistributor\n",
    "from camps.groups import PlayGroups, PlayGroupDistributor\n",
    "from camps.groups import EVouchers, EVoucherDistributor\n",
    "from camps.groups import NFDistributionCenters, NFDistributionCenterDistributor"
   ]
  },
  {
   "cell_type": "markdown",
   "metadata": {},
   "source": [
    "## Initialize the world"
   ]
  },
  {
   "cell_type": "code",
   "execution_count": 6,
   "metadata": {},
   "outputs": [
    {
     "name": "stdout",
     "output_type": "stream",
     "text": [
      "2020-09-02 12:34:56,695 - june.demography.geography - INFO - There are 65 areas and 4 super_areas in the world.\n"
     ]
    }
   ],
   "source": [
    "# create empty world's geography\n",
    "world = generate_empty_world(filter_key = {\"region\" : [\"CXB-219\"]})"
   ]
  },
  {
   "cell_type": "code",
   "execution_count": 7,
   "metadata": {},
   "outputs": [],
   "source": [
    "# populate empty world\n",
    "populate_world(world)"
   ]
  },
  {
   "cell_type": "code",
   "execution_count": 8,
   "metadata": {},
   "outputs": [],
   "source": [
    "# distribute people to households\n",
    "distribute_people_to_households(world)"
   ]
  },
  {
   "cell_type": "code",
   "execution_count": 9,
   "metadata": {},
   "outputs": [
    {
     "name": "stdout",
     "output_type": "stream",
     "text": [
      "2020-09-02 12:34:57,455 - june.groups.hospital - INFO - There are 8 hospitals in the world.\n"
     ]
    }
   ],
   "source": [
    "# this is not working\n",
    "hospitals= Hospitals.from_file(\n",
    "    filename=camp_data_path / 'input/hospitals/hospitals.csv'\n",
    ")\n",
    "world.hospitals = hospitals\n",
    "for hospital in world.hospitals:\n",
    "    hospital.super_area = world.super_areas.members[0]\n",
    "hospital_distributor = HospitalDistributor(hospitals, \n",
    "                                           medic_min_age=20,\n",
    "                                           patients_per_medic=10)\n",
    "\n",
    "hospital_distributor.distribute_medics_from_world(world.people)\n",
    "world.isolation_units = IsolationUnits([IsolationUnit()])"
   ]
  },
  {
   "cell_type": "code",
   "execution_count": 10,
   "metadata": {},
   "outputs": [],
   "source": [
    "world.pump_latrines = PumpLatrines.for_areas(world.areas)\n",
    "world.distribution_centers = DistributionCenters.for_areas(world.areas)\n",
    "world.communals = Communals.for_areas(world.areas)\n",
    "world.female_communals = FemaleCommunals.for_areas(world.areas)\n",
    "world.religiouss = Religiouss.for_areas(world.areas)\n",
    "world.play_groups = PlayGroups.for_areas(world.areas)\n",
    "world.e_vouchers = EVouchers.for_areas(world.areas)\n",
    "world.n_f_distribution_centers = NFDistributionCenters.for_areas(world.areas)"
   ]
  },
  {
   "cell_type": "code",
   "execution_count": 11,
   "metadata": {},
   "outputs": [],
   "source": [
    "#world.box_mode = False\n",
    "world.cemeteries = Cemeteries()"
   ]
  },
  {
   "cell_type": "markdown",
   "metadata": {},
   "source": [
    "## Geography exploration"
   ]
  },
  {
   "cell_type": "markdown",
   "metadata": {},
   "source": [
    "### UNHCR camp blocks inside the World"
   ]
  },
  {
   "cell_type": "code",
   "execution_count": 12,
   "metadata": {},
   "outputs": [],
   "source": [
    "super_areas = []\n",
    "for super_area in world.super_areas:\n",
    "    super_areas.append(super_area.name)"
   ]
  },
  {
   "cell_type": "code",
   "execution_count": 13,
   "metadata": {},
   "outputs": [
    {
     "data": {
      "text/plain": [
       "['CXB-219-A', 'CXB-219-B', 'CXB-219-C', 'CXB-219-D']"
      ]
     },
     "execution_count": 13,
     "metadata": {},
     "output_type": "execute_result"
    }
   ],
   "source": [
    "super_areas[:5]"
   ]
  },
  {
   "cell_type": "markdown",
   "metadata": {},
   "source": [
    "### Mahjee blocks inside World"
   ]
  },
  {
   "cell_type": "code",
   "execution_count": 14,
   "metadata": {},
   "outputs": [],
   "source": [
    "areas = []\n",
    "for area in world.areas:\n",
    "    areas.append(area.name)"
   ]
  },
  {
   "cell_type": "code",
   "execution_count": 15,
   "metadata": {},
   "outputs": [
    {
     "data": {
      "text/plain": [
       "['CXB-219-062', 'CXB-219-063', 'CXB-219-061', 'CXB-219-060', 'CXB-219-065']"
      ]
     },
     "execution_count": 15,
     "metadata": {},
     "output_type": "execute_result"
    }
   ],
   "source": [
    "areas[:5]"
   ]
  },
  {
   "cell_type": "markdown",
   "metadata": {},
   "source": [
    "## Demography exploration"
   ]
  },
  {
   "cell_type": "markdown",
   "metadata": {},
   "source": [
    "### UNHCR block residents"
   ]
  },
  {
   "cell_type": "code",
   "execution_count": 16,
   "metadata": {},
   "outputs": [],
   "source": [
    "sample_ages = []\n",
    "sample_sexes = []\n",
    "for person in world.super_areas.members[0].people:\n",
    "    sample_ages.append(person.age)\n",
    "    sample_sexes.append(person.sex)"
   ]
  },
  {
   "cell_type": "code",
   "execution_count": 17,
   "metadata": {},
   "outputs": [
    {
     "data": {
      "text/plain": [
       "(['f', 'f', 'm', 'm', 'm'], [34, 51, 27, 20, 49])"
      ]
     },
     "execution_count": 17,
     "metadata": {},
     "output_type": "execute_result"
    }
   ],
   "source": [
    "sample_sexes[:5], sample_ages[:5]"
   ]
  },
  {
   "cell_type": "code",
   "execution_count": 18,
   "metadata": {},
   "outputs": [
    {
     "data": {
      "image/png": "[encoded data removed]",
      "text/plain": [
       "<Figure size 432x288 with 1 Axes>"
      ]
     },
     "metadata": {
      "needs_background": "light"
     },
     "output_type": "display_data"
    }
   ],
   "source": [
    "ages, counts = np.unique(sample_ages, return_counts=True)\n",
    "plt.bar(ages, counts)\n",
    "plt.title('super area: {} age distribution'.format(world.super_areas.members[0].name))\n",
    "plt.show()"
   ]
  },
  {
   "cell_type": "code",
   "execution_count": 19,
   "metadata": {},
   "outputs": [
    {
     "name": "stdout",
     "output_type": "stream",
     "text": [
      "The % children between ages 0-16 is 49.0%\n"
     ]
    }
   ],
   "source": [
    "print ('The % children between ages 0-16 is {}%'.format(round(np.sum(counts[:16])/(np.sum(counts[:16])+np.sum(counts[16:]))*100)))"
   ]
  },
  {
   "cell_type": "markdown",
   "metadata": {},
   "source": [
    "## Households"
   ]
  },
  {
   "cell_type": "markdown",
   "metadata": {},
   "source": [
    "### Household size distribution"
   ]
  },
  {
   "cell_type": "code",
   "execution_count": 20,
   "metadata": {},
   "outputs": [
    {
     "data": {
      "image/png": "[encoded data removed]",
      "text/plain": [
       "<Figure size 432x288 with 1 Axes>"
      ]
     },
     "metadata": {
      "needs_background": "light"
     },
     "output_type": "display_data"
    }
   ],
   "source": [
    "household_sizes = [household.size for household in world.households]\n",
    "plt.hist(household_sizes, density=True, bins=np.arange(0,12))\n",
    "plt.xlabel(\"Household size\")\n",
    "plt.ylabel(\"Frequency\")\n",
    "plt.axvline(np.mean(household_sizes), color=\"cyan\")\n",
    "plt.text(8, 0.150, f\"Avg. size: {(np.mean(household_sizes)):.2f}\")\n",
    "plt.show()"
   ]
  },
  {
   "cell_type": "markdown",
   "metadata": {},
   "source": [
    "# Shelters"
   ]
  },
  {
   "cell_type": "code",
   "execution_count": 21,
   "metadata": {},
   "outputs": [],
   "source": [
    "world.shelters = Shelters.for_areas(world.areas)\n",
    "shelter_distributor = ShelterDistributor(sharing_shelter_ratio = 0.75) # proportion of families that share a shelter\n",
    "for area in world.areas:\n",
    "    shelter_distributor.distribute_people_in_shelters(area.shelters, area.households)"
   ]
  },
  {
   "cell_type": "code",
   "execution_count": 22,
   "metadata": {},
   "outputs": [
    {
     "data": {
      "image/png": "[encoded data removed]",
      "text/plain": [
       "<Figure size 576x216 with 2 Axes>"
      ]
     },
     "metadata": {
      "needs_background": "light"
     },
     "output_type": "display_data"
    }
   ],
   "source": [
    "fig, ax = plt.subplots(1, 2, figsize=(8,3))\n",
    "shelter_sizes = [shelter.size for shelter in world.shelters]\n",
    "shelter_families = [shelter.n_families for shelter in world.shelters]\n",
    "ax[0].hist(shelter_sizes)\n",
    "ax[0].set_title(\"Shelter size\")\n",
    "shelter_families = {1 : len([shelter for shelter in world.shelters if shelter.n_families == 1]),\n",
    "                    2 : len([shelter for shelter in world.shelters if shelter.n_families == 2])}\n",
    "ax[1].bar(shelter_families.keys(), shelter_families.values())\n",
    "ax[1].set_title(\"# families per shelter\")\n",
    "plt.show()"
   ]
  },
  {
   "cell_type": "markdown",
   "metadata": {},
   "source": [
    "## Activity exploration"
   ]
  },
  {
   "cell_type": "markdown",
   "metadata": {},
   "source": [
    "### Pumps and latrines "
   ]
  },
  {
   "cell_type": "code",
   "execution_count": 23,
   "metadata": {},
   "outputs": [],
   "source": [
    "pumps_and_latrines = []\n",
    "for pump_latrine in world.areas.members[0].pump_latrines:\n",
    "    pumps_and_latrines.append(pump_latrine)"
   ]
  },
  {
   "cell_type": "code",
   "execution_count": 24,
   "metadata": {},
   "outputs": [
    {
     "name": "stdout",
     "output_type": "stream",
     "text": [
      "There are 3 pumps and latrines in area CXB-219-062\n"
     ]
    }
   ],
   "source": [
    "print ('There are {} pumps and latrines in area {}'.format(len(pumps_and_latrines), world.areas.members[0].name))"
   ]
  },
  {
   "cell_type": "markdown",
   "metadata": {},
   "source": [
    "### Distribution centers"
   ]
  },
  {
   "cell_type": "code",
   "execution_count": 25,
   "metadata": {},
   "outputs": [],
   "source": [
    "distribution_centers = []\n",
    "for center in world.distribution_centers:\n",
    "    distribution_centers.append(center)"
   ]
  },
  {
   "cell_type": "code",
   "execution_count": 26,
   "metadata": {},
   "outputs": [
    {
     "data": {
      "text/plain": [
       "array([21.21176333, 92.13597667])"
      ]
     },
     "execution_count": 26,
     "metadata": {},
     "output_type": "execute_result"
    }
   ],
   "source": [
    "distribution_centers[0].coordinates"
   ]
  },
  {
   "cell_type": "markdown",
   "metadata": {},
   "source": [
    "### Non-food Distribution centers"
   ]
  },
  {
   "cell_type": "code",
   "execution_count": 27,
   "metadata": {},
   "outputs": [],
   "source": [
    "non_food_distribution_centers = []\n",
    "for center in world.n_f_distribution_centers:\n",
    "    non_food_distribution_centers.append(center)"
   ]
  },
  {
   "cell_type": "code",
   "execution_count": 28,
   "metadata": {},
   "outputs": [
    {
     "data": {
      "text/plain": [
       "array([21.1962 , 92.14936])"
      ]
     },
     "execution_count": 28,
     "metadata": {},
     "output_type": "execute_result"
    }
   ],
   "source": [
    "non_food_distribution_centers[0].coordinates"
   ]
  },
  {
   "cell_type": "markdown",
   "metadata": {},
   "source": [
    "### E-Voucher outlets"
   ]
  },
  {
   "cell_type": "code",
   "execution_count": 29,
   "metadata": {},
   "outputs": [],
   "source": [
    "e_voucher_outlets = []\n",
    "for center in world.e_vouchers:\n",
    "    e_voucher_outlets.append(center)"
   ]
  },
  {
   "cell_type": "code",
   "execution_count": 30,
   "metadata": {},
   "outputs": [
    {
     "data": {
      "text/plain": [
       "array([21.21176333, 92.13597667])"
      ]
     },
     "execution_count": 30,
     "metadata": {},
     "output_type": "execute_result"
    }
   ],
   "source": [
    "e_voucher_outlets[0].coordinates"
   ]
  },
  {
   "cell_type": "markdown",
   "metadata": {},
   "source": [
    "### Communal spaces"
   ]
  },
  {
   "cell_type": "code",
   "execution_count": 31,
   "metadata": {},
   "outputs": [],
   "source": [
    "communal_spaces = []\n",
    "for space in world.communals:\n",
    "    communal_spaces.append(space)"
   ]
  },
  {
   "cell_type": "code",
   "execution_count": 32,
   "metadata": {},
   "outputs": [
    {
     "data": {
      "text/plain": [
       "array([21.19621, 92.14924])"
      ]
     },
     "execution_count": 32,
     "metadata": {},
     "output_type": "execute_result"
    }
   ],
   "source": [
    "communal_spaces[0].coordinates"
   ]
  },
  {
   "cell_type": "markdown",
   "metadata": {},
   "source": [
    "### Female friendly communal spaces"
   ]
  },
  {
   "cell_type": "code",
   "execution_count": 33,
   "metadata": {},
   "outputs": [],
   "source": [
    "female_communal_spaces = []\n",
    "for space in world.female_communals:\n",
    "    female_communal_spaces.append(space)"
   ]
  },
  {
   "cell_type": "code",
   "execution_count": 34,
   "metadata": {},
   "outputs": [
    {
     "data": {
      "text/plain": [
       "array([21.19588, 92.152  ])"
      ]
     },
     "execution_count": 34,
     "metadata": {},
     "output_type": "execute_result"
    }
   ],
   "source": [
    "female_communal_spaces[0].coordinates"
   ]
  },
  {
   "cell_type": "markdown",
   "metadata": {},
   "source": [
    "### Religious sites"
   ]
  },
  {
   "cell_type": "code",
   "execution_count": 35,
   "metadata": {},
   "outputs": [],
   "source": [
    "religious = []\n",
    "for rel in world.religiouss:\n",
    "    religious.append(rel)"
   ]
  },
  {
   "cell_type": "code",
   "execution_count": 36,
   "metadata": {},
   "outputs": [
    {
     "data": {
      "text/plain": [
       "array([21.20069, 92.15216])"
      ]
     },
     "execution_count": 36,
     "metadata": {},
     "output_type": "execute_result"
    }
   ],
   "source": [
    "religious[0].coordinates"
   ]
  },
  {
   "cell_type": "markdown",
   "metadata": {},
   "source": [
    "# Adding the infection"
   ]
  },
  {
   "cell_type": "code",
   "execution_count": 37,
   "metadata": {},
   "outputs": [],
   "source": [
    "selector = InfectionSelector.from_file()"
   ]
  },
  {
   "cell_type": "markdown",
   "metadata": {},
   "source": [
    "# Adding the interaction"
   ]
  },
  {
   "cell_type": "code",
   "execution_count": 38,
   "metadata": {},
   "outputs": [],
   "source": [
    "interaction = Interaction.from_file(config_filename='../configs_camps/defaults/interaction/ContactInteraction.yaml')"
   ]
  },
  {
   "cell_type": "markdown",
   "metadata": {},
   "source": [
    "# Set policies"
   ]
  },
  {
   "cell_type": "code",
   "execution_count": 39,
   "metadata": {},
   "outputs": [],
   "source": [
    "policies = Policies.from_file('../configs_camps/defaults/policy/simple_policy.yaml', base_policy_modules=('june.policy', 'camps.policy'))"
   ]
  },
  {
   "cell_type": "code",
   "execution_count": 40,
   "metadata": {},
   "outputs": [
    {
     "data": {
      "text/plain": [
       "[<june.policy.interaction_policies.SocialDistancing at 0x13c74c110>,\n",
       " <june.policy.medical_care_policies.Hospitalisation at 0x13c780210>,\n",
       " <june.policy.individual_policies.SevereSymptomsStayHome at 0x13c90f910>,\n",
       " <june.policy.individual_policies.Quarantine at 0x13c751810>]"
      ]
     },
     "execution_count": 40,
     "metadata": {},
     "output_type": "execute_result"
    }
   ],
   "source": [
    "policies.policies"
   ]
  },
  {
   "cell_type": "markdown",
   "metadata": {},
   "source": [
    "# Seed the disease"
   ]
  },
  {
   "cell_type": "code",
   "execution_count": 41,
   "metadata": {},
   "outputs": [],
   "source": [
    "seed = InfectionSeed(world.super_areas,\n",
    "           selector)\n",
    "\n",
    "seed.unleash_virus(n_cases=5)"
   ]
  },
  {
   "cell_type": "markdown",
   "metadata": {},
   "source": [
    "# Init leisure"
   ]
  },
  {
   "cell_type": "code",
   "execution_count": 42,
   "metadata": {},
   "outputs": [
    {
     "name": "stdout",
     "output_type": "stream",
     "text": [
      "2020-09-02 12:34:59,817 - june.groups.leisure.leisure - INFO - Distributing social venues to households\n",
      "2020-09-02 12:34:59,817 - june.groups.leisure.leisure - INFO - Distributed in 0 of 3311 households.\n"
     ]
    },
    {
     "data": {
      "text/plain": [
       "{'pump_latrines': <camps.groups.pump_latrine.PumpLatrineDistributor at 0x13cf10d10>,\n",
       " 'distribution_centers': <camps.groups.distribution_center.DistributionCenterDistributor at 0x13cf10a50>,\n",
       " 'communals': <camps.groups.communal.CommunalDistributor at 0x13cf10c10>,\n",
       " 'female_communals': <camps.groups.female_communal.FemaleCommunalDistributor at 0x13cf10190>,\n",
       " 'play_groups': <camps.groups.play_group.PlayGroupDistributor at 0x13cf136d0>,\n",
       " 'religiouss': <camps.groups.religious.ReligiousDistributor at 0x13cf138d0>,\n",
       " 'e_vouchers': <camps.groups.e_voucher.EVoucherDistributor at 0x13cf13f90>,\n",
       " 'n_f_distribution_centers': <camps.groups.non_food_distribution_center.NFDistributionCenterDistributor at 0x13cf13910>}"
      ]
     },
     "execution_count": 42,
     "metadata": {},
     "output_type": "execute_result"
    }
   ],
   "source": [
    "CONFIG_PATH = \"../configs_camps/config_example.yaml\"\n",
    "\n",
    "leisure_instance = generate_leisure_for_config(\n",
    "            world=world, config_filename=CONFIG_PATH\n",
    ")\n",
    "leisure_instance.leisure_distributors = {}\n",
    "leisure_instance.leisure_distributors['pump_latrines'] = PumpLatrineDistributor.from_config(pump_latrines=world.pump_latrines)\n",
    "leisure_instance.leisure_distributors['distribution_centers'] = DistributionCenterDistributor.from_config(distribution_centers=world.distribution_centers)\n",
    "leisure_instance.leisure_distributors['communals'] = CommunalDistributor.from_config(communals=world.communals)\n",
    "leisure_instance.leisure_distributors['female_communals'] = FemaleCommunalDistributor.from_config(female_communals=world.female_communals)\n",
    "leisure_instance.leisure_distributors['play_groups'] = PlayGroupDistributor.from_config(play_groups=world.play_groups)\n",
    "leisure_instance.leisure_distributors['religiouss'] = ReligiousDistributor.from_config(religiouss=world.religiouss)\n",
    "leisure_instance.leisure_distributors['e_vouchers'] = EVoucherDistributor.from_config(evouchers=world.e_vouchers)\n",
    "leisure_instance.leisure_distributors['n_f_distribution_centers'] = NFDistributionCenterDistributor.from_config(nfdistributioncenters=world.n_f_distribution_centers)\n",
    "\n",
    "\n",
    "#associate social activities to shelters\n",
    "leisure_instance.distribute_social_venues_to_households(world.shelters, world.super_areas)\n",
    "leisure_instance.leisure_distributors"
   ]
  },
  {
   "cell_type": "markdown",
   "metadata": {},
   "source": [
    "# Initialize simulator and run"
   ]
  },
  {
   "cell_type": "code",
   "execution_count": 43,
   "metadata": {},
   "outputs": [
    {
     "name": "stdout",
     "output_type": "stream",
     "text": [
      "[<june.groups.hospital.Hospitals object at 0x133d6f210>, <camps.groups.isolation_unit.IsolationUnits object at 0x13a07b950>]\n"
     ]
    }
   ],
   "source": [
    "simulator = Simulator.from_file(\n",
    "    world = world,\n",
    "    interaction = interaction,\n",
    "    infection_selector=selector,\n",
    "    leisure = leisure_instance,\n",
    "    policies=policies,\n",
    "    config_filename = CONFIG_PATH\n",
    ")"
   ]
  },
  {
   "cell_type": "code",
   "execution_count": 44,
   "metadata": {
    "scrolled": true
   },
   "outputs": [
    {
     "name": "stdout",
     "output_type": "stream",
     "text": [
      "2020-09-02 12:35:06,184 - june.simulator - INFO - Starting group_dynamics for 120 days at day 0\n",
      "2020-09-02 12:35:06,184 - june.simulator - INFO - starting the loop ..., at 0 days, to run for 120 days\n",
      "2020-09-02 12:35:06,358 - june.simulator - INFO - Date = 2020-05-24 00:00:00, number of deaths =  0, number of infected = 5\n",
      "2020-09-02 12:35:07,172 - june.simulator - INFO - Date = 2020-05-24 03:00:00, number of deaths =  0, number of infected = 5\n",
      "2020-09-02 12:35:07,538 - june.simulator - INFO - Date = 2020-05-24 05:00:00, number of deaths =  0, number of infected = 5\n",
      "2020-09-02 12:35:07,929 - june.simulator - INFO - Date = 2020-05-24 07:00:00, number of deaths =  0, number of infected = 5\n",
      "2020-09-02 12:35:08,286 - june.simulator - INFO - Date = 2020-05-24 09:00:00, number of deaths =  0, number of infected = 5\n",
      "2020-09-02 12:35:08,455 - june.simulator - INFO - Date = 2020-05-24 11:00:00, number of deaths =  0, number of infected = 5\n",
      "2020-09-02 12:35:08,611 - june.simulator - INFO - Date = 2020-05-25 00:00:00, number of deaths =  0, number of infected = 5\n",
      "2020-09-02 12:35:08,954 - june.simulator - INFO - Date = 2020-05-25 02:00:00, number of deaths =  0, number of infected = 5\n",
      "2020-09-02 12:35:09,310 - june.simulator - INFO - Date = 2020-05-25 04:00:00, number of deaths =  0, number of infected = 5\n",
      "2020-09-02 12:35:09,669 - june.simulator - INFO - Date = 2020-05-25 06:00:00, number of deaths =  0, number of infected = 5\n",
      "2020-09-02 12:35:10,026 - june.simulator - INFO - Date = 2020-05-25 08:00:00, number of deaths =  0, number of infected = 5\n",
      "2020-09-02 12:35:10,189 - june.simulator - INFO - Date = 2020-05-25 10:00:00, number of deaths =  0, number of infected = 5\n",
      "2020-09-02 12:35:10,352 - june.simulator - INFO - Date = 2020-05-26 00:00:00, number of deaths =  0, number of infected = 5\n",
      "2020-09-02 12:35:10,699 - june.simulator - INFO - Date = 2020-05-26 02:00:00, number of deaths =  0, number of infected = 5\n",
      "2020-09-02 12:35:11,028 - june.simulator - INFO - Date = 2020-05-26 04:00:00, number of deaths =  0, number of infected = 6\n",
      "2020-09-02 12:35:11,363 - june.simulator - INFO - Date = 2020-05-26 06:00:00, number of deaths =  0, number of infected = 6\n",
      "2020-09-02 12:35:11,718 - june.simulator - INFO - Date = 2020-05-26 08:00:00, number of deaths =  0, number of infected = 6\n",
      "2020-09-02 12:35:11,883 - june.simulator - INFO - Date = 2020-05-26 10:00:00, number of deaths =  0, number of infected = 6\n",
      "2020-09-02 12:35:12,043 - june.simulator - INFO - Date = 2020-05-27 00:00:00, number of deaths =  0, number of infected = 8\n",
      "2020-09-02 12:35:12,390 - june.simulator - INFO - Date = 2020-05-27 02:00:00, number of deaths =  0, number of infected = 8\n",
      "2020-09-02 12:35:12,728 - june.simulator - INFO - Date = 2020-05-27 04:00:00, number of deaths =  0, number of infected = 8\n",
      "2020-09-02 12:35:13,071 - june.simulator - INFO - Date = 2020-05-27 06:00:00, number of deaths =  0, number of infected = 8\n",
      "2020-09-02 12:35:13,410 - june.simulator - INFO - Date = 2020-05-27 08:00:00, number of deaths =  0, number of infected = 8\n",
      "2020-09-02 12:35:13,574 - june.simulator - INFO - Date = 2020-05-27 10:00:00, number of deaths =  0, number of infected = 10\n",
      "2020-09-02 12:35:13,728 - june.simulator - INFO - Date = 2020-05-28 00:00:00, number of deaths =  0, number of infected = 15\n",
      "2020-09-02 12:35:14,064 - june.simulator - INFO - Date = 2020-05-28 02:00:00, number of deaths =  0, number of infected = 16\n",
      "2020-09-02 12:35:14,431 - june.simulator - INFO - Date = 2020-05-28 04:00:00, number of deaths =  0, number of infected = 16\n",
      "2020-09-02 12:35:14,775 - june.simulator - INFO - Date = 2020-05-28 06:00:00, number of deaths =  0, number of infected = 16\n",
      "2020-09-02 12:35:15,112 - june.simulator - INFO - Date = 2020-05-28 08:00:00, number of deaths =  0, number of infected = 17\n",
      "2020-09-02 12:35:15,280 - june.simulator - INFO - Date = 2020-05-28 10:00:00, number of deaths =  0, number of infected = 17\n",
      "2020-09-02 12:35:15,441 - june.simulator - INFO - Date = 2020-05-29 00:00:00, number of deaths =  0, number of infected = 29\n",
      "2020-09-02 12:35:15,778 - june.simulator - INFO - Date = 2020-05-29 02:00:00, number of deaths =  0, number of infected = 31\n",
      "2020-09-02 12:35:16,113 - june.simulator - INFO - Date = 2020-05-29 04:00:00, number of deaths =  0, number of infected = 35\n",
      "2020-09-02 12:35:16,463 - june.simulator - INFO - Date = 2020-05-29 06:00:00, number of deaths =  0, number of infected = 35\n",
      "2020-09-02 12:35:16,801 - june.simulator - INFO - Date = 2020-05-29 08:00:00, number of deaths =  0, number of infected = 36\n",
      "2020-09-02 12:35:16,969 - june.simulator - INFO - Date = 2020-05-29 10:00:00, number of deaths =  0, number of infected = 37\n",
      "2020-09-02 12:35:17,125 - june.simulator - INFO - Date = 2020-05-30 00:00:00, number of deaths =  0, number of infected = 43\n",
      "2020-09-02 12:35:17,479 - june.simulator - INFO - Date = 2020-05-30 03:00:00, number of deaths =  0, number of infected = 43\n",
      "2020-09-02 12:35:17,827 - june.simulator - INFO - Date = 2020-05-30 05:00:00, number of deaths =  0, number of infected = 45\n",
      "2020-09-02 12:35:18,170 - june.simulator - INFO - Date = 2020-05-30 07:00:00, number of deaths =  0, number of infected = 46\n",
      "2020-09-02 12:35:18,531 - june.simulator - INFO - Date = 2020-05-30 09:00:00, number of deaths =  0, number of infected = 50\n",
      "2020-09-02 12:35:18,693 - june.simulator - INFO - Date = 2020-05-30 11:00:00, number of deaths =  0, number of infected = 53\n",
      "2020-09-02 12:35:18,854 - june.simulator - INFO - Date = 2020-05-31 00:00:00, number of deaths =  0, number of infected = 62\n",
      "2020-09-02 12:35:19,204 - june.simulator - INFO - Date = 2020-05-31 03:00:00, number of deaths =  0, number of infected = 64\n",
      "2020-09-02 12:35:19,556 - june.simulator - INFO - Date = 2020-05-31 05:00:00, number of deaths =  0, number of infected = 64\n",
      "2020-09-02 12:35:19,935 - june.simulator - INFO - Date = 2020-05-31 07:00:00, number of deaths =  0, number of infected = 67\n",
      "2020-09-02 12:35:20,300 - june.simulator - INFO - Date = 2020-05-31 09:00:00, number of deaths =  0, number of infected = 72\n",
      "2020-09-02 12:35:20,469 - june.simulator - INFO - Date = 2020-05-31 11:00:00, number of deaths =  0, number of infected = 75\n",
      "2020-09-02 12:35:20,631 - june.simulator - INFO - Date = 2020-06-01 00:00:00, number of deaths =  0, number of infected = 87\n",
      "2020-09-02 12:35:20,973 - june.simulator - INFO - Date = 2020-06-01 02:00:00, number of deaths =  0, number of infected = 91\n",
      "2020-09-02 12:35:21,312 - june.simulator - INFO - Date = 2020-06-01 04:00:00, number of deaths =  0, number of infected = 94\n",
      "2020-09-02 12:35:21,668 - june.simulator - INFO - Date = 2020-06-01 06:00:00, number of deaths =  0, number of infected = 99\n",
      "2020-09-02 12:35:22,012 - june.simulator - INFO - Date = 2020-06-01 08:00:00, number of deaths =  0, number of infected = 103\n",
      "2020-09-02 12:35:22,198 - june.simulator - INFO - Date = 2020-06-01 10:00:00, number of deaths =  0, number of infected = 106\n",
      "2020-09-02 12:35:22,377 - june.simulator - INFO - Date = 2020-06-02 00:00:00, number of deaths =  0, number of infected = 127\n",
      "2020-09-02 12:35:22,724 - june.simulator - INFO - Date = 2020-06-02 02:00:00, number of deaths =  0, number of infected = 131\n",
      "2020-09-02 12:35:23,073 - june.simulator - INFO - Date = 2020-06-02 04:00:00, number of deaths =  0, number of infected = 135\n",
      "2020-09-02 12:35:23,405 - june.simulator - INFO - Date = 2020-06-02 06:00:00, number of deaths =  0, number of infected = 142\n",
      "2020-09-02 12:35:23,748 - june.simulator - INFO - Date = 2020-06-02 08:00:00, number of deaths =  0, number of infected = 149\n",
      "2020-09-02 12:35:23,927 - june.simulator - INFO - Date = 2020-06-02 10:00:00, number of deaths =  0, number of infected = 159\n",
      "2020-09-02 12:35:24,133 - june.simulator - INFO - Date = 2020-06-03 00:00:00, number of deaths =  0, number of infected = 177\n",
      "2020-09-02 12:35:24,513 - june.simulator - INFO - Date = 2020-06-03 02:00:00, number of deaths =  0, number of infected = 179\n",
      "2020-09-02 12:35:24,863 - june.simulator - INFO - Date = 2020-06-03 04:00:00, number of deaths =  0, number of infected = 185\n",
      "2020-09-02 12:35:25,195 - june.simulator - INFO - Date = 2020-06-03 06:00:00, number of deaths =  0, number of infected = 201\n",
      "2020-09-02 12:35:25,529 - june.simulator - INFO - Date = 2020-06-03 08:00:00, number of deaths =  0, number of infected = 222\n"
     ]
    },
    {
     "name": "stdout",
     "output_type": "stream",
     "text": [
      "2020-09-02 12:35:25,694 - june.simulator - INFO - Date = 2020-06-03 10:00:00, number of deaths =  0, number of infected = 231\n",
      "2020-09-02 12:35:25,876 - june.simulator - INFO - Date = 2020-06-04 00:00:00, number of deaths =  0, number of infected = 275\n",
      "2020-09-02 12:35:26,220 - june.simulator - INFO - Date = 2020-06-04 02:00:00, number of deaths =  0, number of infected = 288\n",
      "2020-09-02 12:35:26,557 - june.simulator - INFO - Date = 2020-06-04 04:00:00, number of deaths =  0, number of infected = 300\n",
      "2020-09-02 12:35:26,889 - june.simulator - INFO - Date = 2020-06-04 06:00:00, number of deaths =  0, number of infected = 306\n",
      "2020-09-02 12:35:27,248 - june.simulator - INFO - Date = 2020-06-04 08:00:00, number of deaths =  0, number of infected = 316\n",
      "2020-09-02 12:35:27,422 - june.simulator - INFO - Date = 2020-06-04 10:00:00, number of deaths =  0, number of infected = 330\n",
      "2020-09-02 12:35:27,582 - june.simulator - INFO - Date = 2020-06-05 00:00:00, number of deaths =  0, number of infected = 368\n",
      "2020-09-02 12:35:27,920 - june.simulator - INFO - Date = 2020-06-05 02:00:00, number of deaths =  0, number of infected = 375\n",
      "2020-09-02 12:35:28,274 - june.simulator - INFO - Date = 2020-06-05 04:00:00, number of deaths =  0, number of infected = 383\n",
      "2020-09-02 12:35:28,602 - june.simulator - INFO - Date = 2020-06-05 06:00:00, number of deaths =  0, number of infected = 397\n",
      "2020-09-02 12:35:28,947 - june.simulator - INFO - Date = 2020-06-05 08:00:00, number of deaths =  0, number of infected = 423\n",
      "2020-09-02 12:35:29,121 - june.simulator - INFO - Date = 2020-06-05 10:00:00, number of deaths =  0, number of infected = 438\n",
      "2020-09-02 12:35:29,302 - june.simulator - INFO - Date = 2020-06-06 00:00:00, number of deaths =  0, number of infected = 508\n",
      "2020-09-02 12:35:29,671 - june.simulator - INFO - Date = 2020-06-06 03:00:00, number of deaths =  0, number of infected = 526\n",
      "2020-09-02 12:35:30,034 - june.simulator - INFO - Date = 2020-06-06 05:00:00, number of deaths =  0, number of infected = 552\n",
      "2020-09-02 12:35:30,396 - june.simulator - INFO - Date = 2020-06-06 07:00:00, number of deaths =  0, number of infected = 586\n",
      "2020-09-02 12:35:30,769 - june.simulator - INFO - Date = 2020-06-06 09:00:00, number of deaths =  0, number of infected = 619\n",
      "2020-09-02 12:35:30,952 - june.simulator - INFO - Date = 2020-06-06 11:00:00, number of deaths =  0, number of infected = 639\n",
      "2020-09-02 12:35:31,135 - june.simulator - INFO - Date = 2020-06-07 00:00:00, number of deaths =  0, number of infected = 723\n",
      "2020-09-02 12:35:31,490 - june.simulator - INFO - Date = 2020-06-07 03:00:00, number of deaths =  0, number of infected = 743\n",
      "2020-09-02 12:35:31,858 - june.simulator - INFO - Date = 2020-06-07 05:00:00, number of deaths =  0, number of infected = 776\n",
      "2020-09-02 12:35:32,203 - june.simulator - INFO - Date = 2020-06-07 07:00:00, number of deaths =  0, number of infected = 817\n",
      "2020-09-02 12:35:32,577 - june.simulator - INFO - Date = 2020-06-07 09:00:00, number of deaths =  0, number of infected = 870\n",
      "2020-09-02 12:35:32,765 - june.simulator - INFO - Date = 2020-06-07 11:00:00, number of deaths =  0, number of infected = 906\n",
      "2020-09-02 12:35:32,961 - june.simulator - INFO - Date = 2020-06-08 00:00:00, number of deaths =  0, number of infected = 1012\n",
      "2020-09-02 12:35:33,294 - june.simulator - INFO - Date = 2020-06-08 02:00:00, number of deaths =  0, number of infected = 1037\n",
      "2020-09-02 12:35:33,663 - june.simulator - INFO - Date = 2020-06-08 04:00:00, number of deaths =  0, number of infected = 1062\n",
      "2020-09-02 12:35:34,008 - june.simulator - INFO - Date = 2020-06-08 06:00:00, number of deaths =  0, number of infected = 1097\n",
      "2020-09-02 12:35:34,351 - june.simulator - INFO - Date = 2020-06-08 08:00:00, number of deaths =  0, number of infected = 1141\n",
      "2020-09-02 12:35:34,533 - june.simulator - INFO - Date = 2020-06-08 10:00:00, number of deaths =  0, number of infected = 1178\n",
      "2020-09-02 12:35:34,731 - june.simulator - INFO - Date = 2020-06-09 00:00:00, number of deaths =  0, number of infected = 1311\n",
      "2020-09-02 12:35:35,090 - june.simulator - INFO - Date = 2020-06-09 02:00:00, number of deaths =  0, number of infected = 1344\n",
      "2020-09-02 12:35:35,449 - june.simulator - INFO - Date = 2020-06-09 04:00:00, number of deaths =  0, number of infected = 1395\n",
      "2020-09-02 12:35:35,809 - june.simulator - INFO - Date = 2020-06-09 06:00:00, number of deaths =  0, number of infected = 1457\n",
      "2020-09-02 12:35:36,165 - june.simulator - INFO - Date = 2020-06-09 08:00:00, number of deaths =  0, number of infected = 1505\n",
      "2020-09-02 12:35:36,365 - june.simulator - INFO - Date = 2020-06-09 10:00:00, number of deaths =  0, number of infected = 1568\n",
      "2020-09-02 12:35:36,598 - june.simulator - INFO - Date = 2020-06-10 00:00:00, number of deaths =  0, number of infected = 1800\n",
      "2020-09-02 12:35:36,962 - june.simulator - INFO - Date = 2020-06-10 02:00:00, number of deaths =  0, number of infected = 1835\n",
      "2020-09-02 12:35:37,344 - june.simulator - INFO - Date = 2020-06-10 04:00:00, number of deaths =  0, number of infected = 1907\n",
      "2020-09-02 12:35:37,716 - june.simulator - INFO - Date = 2020-06-10 06:00:00, number of deaths =  0, number of infected = 1980\n",
      "2020-09-02 12:35:38,106 - june.simulator - INFO - Date = 2020-06-10 08:00:00, number of deaths =  0, number of infected = 2081\n",
      "2020-09-02 12:35:38,311 - june.simulator - INFO - Date = 2020-06-10 10:00:00, number of deaths =  0, number of infected = 2154\n",
      "2020-09-02 12:35:38,561 - june.simulator - INFO - Date = 2020-06-11 00:00:00, number of deaths =  0, number of infected = 2397\n",
      "2020-09-02 12:35:38,907 - june.simulator - INFO - Date = 2020-06-11 02:00:00, number of deaths =  0, number of infected = 2446\n",
      "2020-09-02 12:35:39,323 - june.simulator - INFO - Date = 2020-06-11 04:00:00, number of deaths =  0, number of infected = 2541\n",
      "2020-09-02 12:35:39,731 - june.simulator - INFO - Date = 2020-06-11 06:00:00, number of deaths =  0, number of infected = 2630\n",
      "2020-09-02 12:35:40,121 - june.simulator - INFO - Date = 2020-06-11 08:00:00, number of deaths =  0, number of infected = 2716\n",
      "2020-09-02 12:35:40,357 - june.simulator - INFO - Date = 2020-06-11 10:00:00, number of deaths =  0, number of infected = 2811\n",
      "2020-09-02 12:35:40,661 - june.simulator - INFO - Date = 2020-06-12 00:00:00, number of deaths =  0, number of infected = 3127\n",
      "2020-09-02 12:35:41,051 - june.simulator - INFO - Date = 2020-06-12 02:00:00, number of deaths =  0, number of infected = 3198\n",
      "2020-09-02 12:35:41,474 - june.simulator - INFO - Date = 2020-06-12 04:00:00, number of deaths =  0, number of infected = 3312\n",
      "2020-09-02 12:35:41,938 - june.simulator - INFO - Date = 2020-06-12 06:00:00, number of deaths =  0, number of infected = 3450\n",
      "2020-09-02 12:35:42,368 - june.simulator - INFO - Date = 2020-06-12 08:00:00, number of deaths =  0, number of infected = 3583\n",
      "2020-09-02 12:35:42,605 - june.simulator - INFO - Date = 2020-06-12 10:00:00, number of deaths =  0, number of infected = 3681\n",
      "2020-09-02 12:35:42,912 - june.simulator - INFO - Date = 2020-06-13 00:00:00, number of deaths =  0, number of infected = 4088\n",
      "2020-09-02 12:35:43,333 - june.simulator - INFO - Date = 2020-06-13 03:00:00, number of deaths =  0, number of infected = 4199\n",
      "2020-09-02 12:35:43,748 - june.simulator - INFO - Date = 2020-06-13 05:00:00, number of deaths =  0, number of infected = 4346\n",
      "2020-09-02 12:35:44,210 - june.simulator - INFO - Date = 2020-06-13 07:00:00, number of deaths =  0, number of infected = 4505\n",
      "2020-09-02 12:35:44,709 - june.simulator - INFO - Date = 2020-06-13 09:00:00, number of deaths =  0, number of infected = 4655\n",
      "2020-09-02 12:35:44,983 - june.simulator - INFO - Date = 2020-06-13 11:00:00, number of deaths =  0, number of infected = 4851\n",
      "2020-09-02 12:35:45,334 - june.simulator - INFO - Date = 2020-06-14 00:00:00, number of deaths =  0, number of infected = 5383\n",
      "2020-09-02 12:35:45,775 - june.simulator - INFO - Date = 2020-06-14 03:00:00, number of deaths =  0, number of infected = 5517\n",
      "2020-09-02 12:35:46,210 - june.simulator - INFO - Date = 2020-06-14 05:00:00, number of deaths =  0, number of infected = 5703\n",
      "2020-09-02 12:35:46,674 - june.simulator - INFO - Date = 2020-06-14 07:00:00, number of deaths =  0, number of infected = 5900\n"
     ]
    },
    {
     "name": "stdout",
     "output_type": "stream",
     "text": [
      "2020-09-02 12:35:47,152 - june.simulator - INFO - Date = 2020-06-14 09:00:00, number of deaths =  0, number of infected = 6113\n",
      "2020-09-02 12:35:47,437 - june.simulator - INFO - Date = 2020-06-14 11:00:00, number of deaths =  0, number of infected = 6288\n",
      "2020-09-02 12:35:47,816 - june.simulator - INFO - Date = 2020-06-15 00:00:00, number of deaths =  0, number of infected = 6868\n",
      "2020-09-02 12:35:48,237 - june.simulator - INFO - Date = 2020-06-15 02:00:00, number of deaths =  0, number of infected = 6985\n",
      "2020-09-02 12:35:48,713 - june.simulator - INFO - Date = 2020-06-15 04:00:00, number of deaths =  0, number of infected = 7181\n",
      "2020-09-02 12:35:49,169 - june.simulator - INFO - Date = 2020-06-15 06:00:00, number of deaths =  0, number of infected = 7399\n",
      "2020-09-02 12:35:49,737 - june.simulator - INFO - Date = 2020-06-15 08:00:00, number of deaths =  0, number of infected = 7612\n",
      "2020-09-02 12:35:50,050 - june.simulator - INFO - Date = 2020-06-15 10:00:00, number of deaths =  0, number of infected = 7855\n",
      "2020-09-02 12:35:50,486 - june.simulator - INFO - Date = 2020-06-16 00:00:00, number of deaths =  0, number of infected = 8610\n",
      "2020-09-02 12:35:50,947 - june.simulator - INFO - Date = 2020-06-16 02:00:00, number of deaths =  0, number of infected = 8755\n",
      "2020-09-02 12:35:51,416 - june.simulator - INFO - Date = 2020-06-16 04:00:00, number of deaths =  0, number of infected = 8965\n",
      "2020-09-02 12:35:51,875 - june.simulator - INFO - Date = 2020-06-16 06:00:00, number of deaths =  0, number of infected = 9179\n",
      "2020-09-02 12:35:52,335 - june.simulator - INFO - Date = 2020-06-16 08:00:00, number of deaths =  0, number of infected = 9405\n",
      "2020-09-02 12:35:52,665 - june.simulator - INFO - Date = 2020-06-16 10:00:00, number of deaths =  0, number of infected = 9621\n",
      "2020-09-02 12:35:53,129 - june.simulator - INFO - Date = 2020-06-17 00:00:00, number of deaths =  0, number of infected = 10403\n",
      "2020-09-02 12:35:53,594 - june.simulator - INFO - Date = 2020-06-17 02:00:00, number of deaths =  0, number of infected = 10558\n",
      "2020-09-02 12:35:54,074 - june.simulator - INFO - Date = 2020-06-17 04:00:00, number of deaths =  0, number of infected = 10794\n",
      "2020-09-02 12:35:54,576 - june.simulator - INFO - Date = 2020-06-17 06:00:00, number of deaths =  0, number of infected = 11055\n",
      "2020-09-02 12:35:55,061 - june.simulator - INFO - Date = 2020-06-17 08:00:00, number of deaths =  0, number of infected = 11276\n",
      "2020-09-02 12:35:55,396 - june.simulator - INFO - Date = 2020-06-17 10:00:00, number of deaths =  0, number of infected = 11498\n",
      "2020-09-02 12:35:55,894 - june.simulator - INFO - Date = 2020-06-18 00:00:00, number of deaths =  0, number of infected = 12325\n",
      "2020-09-02 12:35:56,366 - june.simulator - INFO - Date = 2020-06-18 02:00:00, number of deaths =  0, number of infected = 12467\n",
      "2020-09-02 12:35:56,877 - june.simulator - INFO - Date = 2020-06-18 04:00:00, number of deaths =  0, number of infected = 12699\n",
      "2020-09-02 12:35:57,377 - june.simulator - INFO - Date = 2020-06-18 06:00:00, number of deaths =  0, number of infected = 12912\n",
      "2020-09-02 12:35:57,875 - june.simulator - INFO - Date = 2020-06-18 08:00:00, number of deaths =  0, number of infected = 13132\n",
      "2020-09-02 12:35:58,246 - june.simulator - INFO - Date = 2020-06-18 10:00:00, number of deaths =  0, number of infected = 13358\n",
      "2020-09-02 12:35:58,747 - june.simulator - INFO - Date = 2020-06-19 00:00:00, number of deaths =  0, number of infected = 14138\n",
      "2020-09-02 12:35:59,236 - june.simulator - INFO - Date = 2020-06-19 02:00:00, number of deaths =  0, number of infected = 14277\n",
      "2020-09-02 12:35:59,754 - june.simulator - INFO - Date = 2020-06-19 04:00:00, number of deaths =  0, number of infected = 14487\n",
      "2020-09-02 12:36:00,269 - june.simulator - INFO - Date = 2020-06-19 06:00:00, number of deaths =  0, number of infected = 14711\n",
      "2020-09-02 12:36:00,782 - june.simulator - INFO - Date = 2020-06-19 08:00:00, number of deaths =  0, number of infected = 14939\n",
      "2020-09-02 12:36:01,154 - june.simulator - INFO - Date = 2020-06-19 10:00:00, number of deaths =  0, number of infected = 15140\n",
      "2020-09-02 12:36:01,694 - june.simulator - INFO - Date = 2020-06-20 00:00:00, number of deaths =  0, number of infected = 15885\n",
      "2020-09-02 12:36:02,239 - june.simulator - INFO - Date = 2020-06-20 03:00:00, number of deaths =  0, number of infected = 16070\n",
      "2020-09-02 12:36:02,796 - june.simulator - INFO - Date = 2020-06-20 05:00:00, number of deaths =  0, number of infected = 16289\n",
      "2020-09-02 12:36:03,348 - june.simulator - INFO - Date = 2020-06-20 07:00:00, number of deaths =  0, number of infected = 16529\n",
      "2020-09-02 12:36:03,900 - june.simulator - INFO - Date = 2020-06-20 09:00:00, number of deaths =  0, number of infected = 16772\n",
      "2020-09-02 12:36:04,305 - june.simulator - INFO - Date = 2020-06-20 11:00:00, number of deaths =  0, number of infected = 16972\n",
      "2020-09-02 12:36:04,870 - june.simulator - INFO - Date = 2020-06-21 00:00:00, number of deaths =  0, number of infected = 17515\n",
      "2020-09-02 12:36:05,449 - june.simulator - INFO - Date = 2020-06-21 03:00:00, number of deaths =  0, number of infected = 17676\n",
      "2020-09-02 12:36:06,015 - june.simulator - INFO - Date = 2020-06-21 05:00:00, number of deaths =  0, number of infected = 17872\n",
      "2020-09-02 12:36:06,600 - june.simulator - INFO - Date = 2020-06-21 07:00:00, number of deaths =  0, number of infected = 18062\n",
      "2020-09-02 12:36:07,185 - june.simulator - INFO - Date = 2020-06-21 09:00:00, number of deaths =  0, number of infected = 18230\n",
      "2020-09-02 12:36:07,609 - june.simulator - INFO - Date = 2020-06-21 11:00:00, number of deaths =  0, number of infected = 18419\n",
      "2020-09-02 12:36:08,102 - june.simulator - INFO - Date = 2020-06-22 00:00:00, number of deaths =  0, number of infected = 18902\n",
      "2020-09-02 12:36:08,629 - june.simulator - INFO - Date = 2020-06-22 02:00:00, number of deaths =  0, number of infected = 18978\n",
      "2020-09-02 12:36:09,337 - june.simulator - INFO - Date = 2020-06-22 04:00:00, number of deaths =  0, number of infected = 19120\n",
      "2020-09-02 12:36:09,955 - june.simulator - INFO - Date = 2020-06-22 06:00:00, number of deaths =  0, number of infected = 19251\n",
      "2020-09-02 12:36:10,521 - june.simulator - INFO - Date = 2020-06-22 08:00:00, number of deaths =  0, number of infected = 19382\n",
      "2020-09-02 12:36:10,945 - june.simulator - INFO - Date = 2020-06-22 10:00:00, number of deaths =  0, number of infected = 19489\n",
      "2020-09-02 12:36:11,440 - june.simulator - INFO - Date = 2020-06-23 00:00:00, number of deaths =  0, number of infected = 19920\n",
      "2020-09-02 12:36:11,983 - june.simulator - INFO - Date = 2020-06-23 02:00:00, number of deaths =  0, number of infected = 19998\n",
      "2020-09-02 12:36:12,540 - june.simulator - INFO - Date = 2020-06-23 04:00:00, number of deaths =  0, number of infected = 20095\n",
      "2020-09-02 12:36:13,090 - june.simulator - INFO - Date = 2020-06-23 06:00:00, number of deaths =  0, number of infected = 20193\n",
      "2020-09-02 12:36:13,655 - june.simulator - INFO - Date = 2020-06-23 08:00:00, number of deaths =  0, number of infected = 20291\n",
      "2020-09-02 12:36:14,072 - june.simulator - INFO - Date = 2020-06-23 10:00:00, number of deaths =  0, number of infected = 20393\n",
      "2020-09-02 12:36:14,559 - june.simulator - INFO - Date = 2020-06-24 00:00:00, number of deaths =  0, number of infected = 20700\n",
      "2020-09-02 12:36:15,090 - june.simulator - INFO - Date = 2020-06-24 02:00:00, number of deaths =  0, number of infected = 20771\n",
      "2020-09-02 12:36:15,639 - june.simulator - INFO - Date = 2020-06-24 04:00:00, number of deaths =  0, number of infected = 20829\n",
      "2020-09-02 12:36:16,181 - june.simulator - INFO - Date = 2020-06-24 06:00:00, number of deaths =  0, number of infected = 20888\n",
      "2020-09-02 12:36:16,734 - june.simulator - INFO - Date = 2020-06-24 08:00:00, number of deaths =  0, number of infected = 20960\n",
      "2020-09-02 12:36:17,162 - june.simulator - INFO - Date = 2020-06-24 10:00:00, number of deaths =  0, number of infected = 21025\n",
      "2020-09-02 12:36:17,618 - june.simulator - INFO - Date = 2020-06-25 00:00:00, number of deaths =  0, number of infected = 21226\n",
      "2020-09-02 12:36:18,181 - june.simulator - INFO - Date = 2020-06-25 02:00:00, number of deaths =  0, number of infected = 21279\n",
      "2020-09-02 12:36:18,765 - june.simulator - INFO - Date = 2020-06-25 04:00:00, number of deaths =  0, number of infected = 21339\n"
     ]
    },
    {
     "name": "stdout",
     "output_type": "stream",
     "text": [
      "2020-09-02 12:36:19,300 - june.simulator - INFO - Date = 2020-06-25 06:00:00, number of deaths =  0, number of infected = 21373\n",
      "2020-09-02 12:36:19,842 - june.simulator - INFO - Date = 2020-06-25 08:00:00, number of deaths =  0, number of infected = 21406\n",
      "2020-09-02 12:36:20,253 - june.simulator - INFO - Date = 2020-06-25 10:00:00, number of deaths =  0, number of infected = 21437\n",
      "2020-09-02 12:36:20,703 - june.simulator - INFO - Date = 2020-06-26 00:00:00, number of deaths =  1, number of infected = 21520\n",
      "2020-09-02 12:36:21,246 - june.simulator - INFO - Date = 2020-06-26 02:00:00, number of deaths =  1, number of infected = 21537\n",
      "2020-09-02 12:36:21,789 - june.simulator - INFO - Date = 2020-06-26 04:00:00, number of deaths =  1, number of infected = 21556\n",
      "2020-09-02 12:36:22,331 - june.simulator - INFO - Date = 2020-06-26 06:00:00, number of deaths =  1, number of infected = 21577\n",
      "2020-09-02 12:36:22,891 - june.simulator - INFO - Date = 2020-06-26 08:00:00, number of deaths =  1, number of infected = 21594\n",
      "2020-09-02 12:36:23,298 - june.simulator - INFO - Date = 2020-06-26 10:00:00, number of deaths =  1, number of infected = 21611\n",
      "2020-09-02 12:36:23,706 - june.simulator - INFO - Date = 2020-06-27 00:00:00, number of deaths =  1, number of infected = 21632\n",
      "2020-09-02 12:36:24,267 - june.simulator - INFO - Date = 2020-06-27 03:00:00, number of deaths =  1, number of infected = 21634\n",
      "2020-09-02 12:36:24,806 - june.simulator - INFO - Date = 2020-06-27 05:00:00, number of deaths =  1, number of infected = 21633\n",
      "2020-09-02 12:36:25,359 - june.simulator - INFO - Date = 2020-06-27 07:00:00, number of deaths =  1, number of infected = 21641\n",
      "2020-09-02 12:36:25,900 - june.simulator - INFO - Date = 2020-06-27 09:00:00, number of deaths =  1, number of infected = 21641\n",
      "2020-09-02 12:36:26,312 - june.simulator - INFO - Date = 2020-06-27 11:00:00, number of deaths =  1, number of infected = 21654\n",
      "2020-09-02 12:36:26,724 - june.simulator - INFO - Date = 2020-06-28 00:00:00, number of deaths =  1, number of infected = 21609\n",
      "2020-09-02 12:36:27,256 - june.simulator - INFO - Date = 2020-06-28 03:00:00, number of deaths =  1, number of infected = 21589\n",
      "2020-09-02 12:36:27,810 - june.simulator - INFO - Date = 2020-06-28 05:00:00, number of deaths =  1, number of infected = 21591\n",
      "2020-09-02 12:36:28,357 - june.simulator - INFO - Date = 2020-06-28 07:00:00, number of deaths =  1, number of infected = 21597\n",
      "2020-09-02 12:36:28,948 - june.simulator - INFO - Date = 2020-06-28 09:00:00, number of deaths =  1, number of infected = 21587\n",
      "2020-09-02 12:36:29,356 - june.simulator - INFO - Date = 2020-06-28 11:00:00, number of deaths =  1, number of infected = 21585\n",
      "2020-09-02 12:36:29,765 - june.simulator - INFO - Date = 2020-06-29 00:00:00, number of deaths =  1, number of infected = 21474\n",
      "2020-09-02 12:36:30,294 - june.simulator - INFO - Date = 2020-06-29 02:00:00, number of deaths =  1, number of infected = 21449\n",
      "2020-09-02 12:36:30,841 - june.simulator - INFO - Date = 2020-06-29 04:00:00, number of deaths =  1, number of infected = 21433\n",
      "2020-09-02 12:36:31,392 - june.simulator - INFO - Date = 2020-06-29 06:00:00, number of deaths =  1, number of infected = 21406\n",
      "2020-09-02 12:36:31,942 - june.simulator - INFO - Date = 2020-06-29 08:00:00, number of deaths =  1, number of infected = 21397\n",
      "2020-09-02 12:36:32,347 - june.simulator - INFO - Date = 2020-06-29 10:00:00, number of deaths =  1, number of infected = 21383\n",
      "2020-09-02 12:36:32,761 - june.simulator - INFO - Date = 2020-06-30 00:00:00, number of deaths =  1, number of infected = 21244\n",
      "2020-09-02 12:36:33,283 - june.simulator - INFO - Date = 2020-06-30 02:00:00, number of deaths =  1, number of infected = 21220\n",
      "2020-09-02 12:36:33,827 - june.simulator - INFO - Date = 2020-06-30 04:00:00, number of deaths =  1, number of infected = 21193\n",
      "2020-09-02 12:36:34,355 - june.simulator - INFO - Date = 2020-06-30 06:00:00, number of deaths =  1, number of infected = 21159\n",
      "2020-09-02 12:36:34,899 - june.simulator - INFO - Date = 2020-06-30 08:00:00, number of deaths =  1, number of infected = 21116\n",
      "2020-09-02 12:36:35,304 - june.simulator - INFO - Date = 2020-06-30 10:00:00, number of deaths =  1, number of infected = 21086\n",
      "2020-09-02 12:36:35,714 - june.simulator - INFO - Date = 2020-07-01 00:00:00, number of deaths =  1, number of infected = 20826\n",
      "2020-09-02 12:36:36,247 - june.simulator - INFO - Date = 2020-07-01 02:00:00, number of deaths =  1, number of infected = 20785\n",
      "2020-09-02 12:36:36,791 - june.simulator - INFO - Date = 2020-07-01 04:00:00, number of deaths =  1, number of infected = 20748\n",
      "2020-09-02 12:36:37,349 - june.simulator - INFO - Date = 2020-07-01 06:00:00, number of deaths =  1, number of infected = 20712\n",
      "2020-09-02 12:36:37,892 - june.simulator - INFO - Date = 2020-07-01 08:00:00, number of deaths =  1, number of infected = 20677\n",
      "2020-09-02 12:36:38,292 - june.simulator - INFO - Date = 2020-07-01 10:00:00, number of deaths =  1, number of infected = 20637\n",
      "2020-09-02 12:36:38,692 - june.simulator - INFO - Date = 2020-07-02 00:00:00, number of deaths =  1, number of infected = 20330\n",
      "2020-09-02 12:36:39,194 - june.simulator - INFO - Date = 2020-07-02 02:00:00, number of deaths =  1, number of infected = 20284\n",
      "2020-09-02 12:36:39,733 - june.simulator - INFO - Date = 2020-07-02 04:00:00, number of deaths =  2, number of infected = 20236\n",
      "2020-09-02 12:36:40,253 - june.simulator - INFO - Date = 2020-07-02 06:00:00, number of deaths =  2, number of infected = 20182\n",
      "2020-09-02 12:36:40,791 - june.simulator - INFO - Date = 2020-07-02 08:00:00, number of deaths =  2, number of infected = 20134\n",
      "2020-09-02 12:36:41,179 - june.simulator - INFO - Date = 2020-07-02 10:00:00, number of deaths =  2, number of infected = 20075\n",
      "2020-09-02 12:36:41,569 - june.simulator - INFO - Date = 2020-07-03 00:00:00, number of deaths =  2, number of infected = 19679\n",
      "2020-09-02 12:36:42,078 - june.simulator - INFO - Date = 2020-07-03 02:00:00, number of deaths =  3, number of infected = 19613\n",
      "2020-09-02 12:36:42,623 - june.simulator - INFO - Date = 2020-07-03 04:00:00, number of deaths =  3, number of infected = 19561\n",
      "2020-09-02 12:36:43,174 - june.simulator - INFO - Date = 2020-07-03 06:00:00, number of deaths =  3, number of infected = 19504\n",
      "2020-09-02 12:36:43,738 - june.simulator - INFO - Date = 2020-07-03 08:00:00, number of deaths =  3, number of infected = 19467\n",
      "2020-09-02 12:36:44,119 - june.simulator - INFO - Date = 2020-07-03 10:00:00, number of deaths =  3, number of infected = 19403\n",
      "2020-09-02 12:36:44,491 - june.simulator - INFO - Date = 2020-07-04 00:00:00, number of deaths =  4, number of infected = 18915\n",
      "2020-09-02 12:36:44,990 - june.simulator - INFO - Date = 2020-07-04 03:00:00, number of deaths =  4, number of infected = 18800\n",
      "2020-09-02 12:36:45,495 - june.simulator - INFO - Date = 2020-07-04 05:00:00, number of deaths =  4, number of infected = 18716\n",
      "2020-09-02 12:36:46,011 - june.simulator - INFO - Date = 2020-07-04 07:00:00, number of deaths =  4, number of infected = 18649\n",
      "2020-09-02 12:36:46,528 - june.simulator - INFO - Date = 2020-07-04 09:00:00, number of deaths =  4, number of infected = 18572\n",
      "2020-09-02 12:36:46,879 - june.simulator - INFO - Date = 2020-07-04 11:00:00, number of deaths =  5, number of infected = 18491\n",
      "2020-09-02 12:36:47,246 - june.simulator - INFO - Date = 2020-07-05 00:00:00, number of deaths =  6, number of infected = 18020\n",
      "2020-09-02 12:36:47,768 - june.simulator - INFO - Date = 2020-07-05 03:00:00, number of deaths =  6, number of infected = 17885\n",
      "2020-09-02 12:36:48,306 - june.simulator - INFO - Date = 2020-07-05 05:00:00, number of deaths =  6, number of infected = 17781\n",
      "2020-09-02 12:36:48,860 - june.simulator - INFO - Date = 2020-07-05 07:00:00, number of deaths =  6, number of infected = 17686\n",
      "2020-09-02 12:36:49,391 - june.simulator - INFO - Date = 2020-07-05 09:00:00, number of deaths =  6, number of infected = 17615\n",
      "2020-09-02 12:36:49,773 - june.simulator - INFO - Date = 2020-07-05 11:00:00, number of deaths =  6, number of infected = 17534\n",
      "2020-09-02 12:36:50,181 - june.simulator - INFO - Date = 2020-07-06 00:00:00, number of deaths =  6, number of infected = 16973\n",
      "2020-09-02 12:36:50,698 - june.simulator - INFO - Date = 2020-07-06 02:00:00, number of deaths =  6, number of infected = 16878\n"
     ]
    },
    {
     "name": "stdout",
     "output_type": "stream",
     "text": [
      "2020-09-02 12:36:51,264 - june.simulator - INFO - Date = 2020-07-06 04:00:00, number of deaths =  6, number of infected = 16788\n",
      "2020-09-02 12:36:51,841 - june.simulator - INFO - Date = 2020-07-06 06:00:00, number of deaths =  6, number of infected = 16692\n",
      "2020-09-02 12:36:52,384 - june.simulator - INFO - Date = 2020-07-06 08:00:00, number of deaths =  6, number of infected = 16596\n",
      "2020-09-02 12:36:52,728 - june.simulator - INFO - Date = 2020-07-06 10:00:00, number of deaths =  7, number of infected = 16500\n",
      "2020-09-02 12:36:53,055 - june.simulator - INFO - Date = 2020-07-07 00:00:00, number of deaths =  7, number of infected = 15818\n",
      "2020-09-02 12:36:53,563 - june.simulator - INFO - Date = 2020-07-07 02:00:00, number of deaths =  7, number of infected = 15714\n",
      "2020-09-02 12:36:54,082 - june.simulator - INFO - Date = 2020-07-07 04:00:00, number of deaths =  7, number of infected = 15604\n",
      "2020-09-02 12:36:54,577 - june.simulator - INFO - Date = 2020-07-07 06:00:00, number of deaths =  7, number of infected = 15497\n",
      "2020-09-02 12:36:55,088 - june.simulator - INFO - Date = 2020-07-07 08:00:00, number of deaths =  7, number of infected = 15386\n",
      "2020-09-02 12:36:55,417 - june.simulator - INFO - Date = 2020-07-07 10:00:00, number of deaths =  7, number of infected = 15261\n",
      "2020-09-02 12:36:55,746 - june.simulator - INFO - Date = 2020-07-08 00:00:00, number of deaths =  7, number of infected = 14535\n",
      "2020-09-02 12:36:56,267 - june.simulator - INFO - Date = 2020-07-08 02:00:00, number of deaths =  7, number of infected = 14428\n",
      "2020-09-02 12:36:56,788 - june.simulator - INFO - Date = 2020-07-08 04:00:00, number of deaths =  7, number of infected = 14312\n",
      "2020-09-02 12:36:57,305 - june.simulator - INFO - Date = 2020-07-08 06:00:00, number of deaths =  7, number of infected = 14199\n",
      "2020-09-02 12:36:57,795 - june.simulator - INFO - Date = 2020-07-08 08:00:00, number of deaths =  7, number of infected = 14095\n",
      "2020-09-02 12:36:58,113 - june.simulator - INFO - Date = 2020-07-08 10:00:00, number of deaths =  7, number of infected = 13977\n",
      "2020-09-02 12:36:58,426 - june.simulator - INFO - Date = 2020-07-09 00:00:00, number of deaths =  9, number of infected = 13167\n",
      "2020-09-02 12:36:58,933 - june.simulator - INFO - Date = 2020-07-09 02:00:00, number of deaths =  9, number of infected = 13047\n",
      "2020-09-02 12:36:59,418 - june.simulator - INFO - Date = 2020-07-09 04:00:00, number of deaths =  9, number of infected = 12928\n",
      "2020-09-02 12:36:59,948 - june.simulator - INFO - Date = 2020-07-09 06:00:00, number of deaths =  9, number of infected = 12801\n",
      "2020-09-02 12:37:00,431 - june.simulator - INFO - Date = 2020-07-09 08:00:00, number of deaths =  9, number of infected = 12690\n",
      "2020-09-02 12:37:00,744 - june.simulator - INFO - Date = 2020-07-09 10:00:00, number of deaths =  9, number of infected = 12567\n",
      "2020-09-02 12:37:01,054 - june.simulator - INFO - Date = 2020-07-10 00:00:00, number of deaths =  10, number of infected = 11719\n",
      "2020-09-02 12:37:01,512 - june.simulator - INFO - Date = 2020-07-10 02:00:00, number of deaths =  10, number of infected = 11602\n",
      "2020-09-02 12:37:01,999 - june.simulator - INFO - Date = 2020-07-10 04:00:00, number of deaths =  10, number of infected = 11475\n",
      "2020-09-02 12:37:02,492 - june.simulator - INFO - Date = 2020-07-10 06:00:00, number of deaths =  10, number of infected = 11356\n",
      "2020-09-02 12:37:02,985 - june.simulator - INFO - Date = 2020-07-10 08:00:00, number of deaths =  10, number of infected = 11232\n",
      "2020-09-02 12:37:03,285 - june.simulator - INFO - Date = 2020-07-10 10:00:00, number of deaths =  10, number of infected = 11133\n",
      "2020-09-02 12:37:03,578 - june.simulator - INFO - Date = 2020-07-11 00:00:00, number of deaths =  10, number of infected = 10296\n",
      "2020-09-02 12:37:04,027 - june.simulator - INFO - Date = 2020-07-11 03:00:00, number of deaths =  10, number of infected = 10128\n",
      "2020-09-02 12:37:04,490 - june.simulator - INFO - Date = 2020-07-11 05:00:00, number of deaths =  10, number of infected = 10014\n",
      "2020-09-02 12:37:04,966 - june.simulator - INFO - Date = 2020-07-11 07:00:00, number of deaths =  10, number of infected = 9909\n",
      "2020-09-02 12:37:05,420 - june.simulator - INFO - Date = 2020-07-11 09:00:00, number of deaths =  10, number of infected = 9798\n",
      "2020-09-02 12:37:05,700 - june.simulator - INFO - Date = 2020-07-11 11:00:00, number of deaths =  10, number of infected = 9681\n",
      "2020-09-02 12:37:05,976 - june.simulator - INFO - Date = 2020-07-12 00:00:00, number of deaths =  10, number of infected = 8911\n",
      "2020-09-02 12:37:06,421 - june.simulator - INFO - Date = 2020-07-12 03:00:00, number of deaths =  10, number of infected = 8741\n",
      "2020-09-02 12:37:06,879 - june.simulator - INFO - Date = 2020-07-12 05:00:00, number of deaths =  10, number of infected = 8631\n",
      "2020-09-02 12:37:07,344 - june.simulator - INFO - Date = 2020-07-12 07:00:00, number of deaths =  10, number of infected = 8512\n",
      "2020-09-02 12:37:07,785 - june.simulator - INFO - Date = 2020-07-12 09:00:00, number of deaths =  10, number of infected = 8410\n",
      "2020-09-02 12:37:08,048 - june.simulator - INFO - Date = 2020-07-12 11:00:00, number of deaths =  10, number of infected = 8287\n",
      "2020-09-02 12:37:08,296 - june.simulator - INFO - Date = 2020-07-13 00:00:00, number of deaths =  10, number of infected = 7555\n",
      "2020-09-02 12:37:08,719 - june.simulator - INFO - Date = 2020-07-13 02:00:00, number of deaths =  10, number of infected = 7457\n",
      "2020-09-02 12:37:09,147 - june.simulator - INFO - Date = 2020-07-13 04:00:00, number of deaths =  10, number of infected = 7335\n",
      "2020-09-02 12:37:09,578 - june.simulator - INFO - Date = 2020-07-13 06:00:00, number of deaths =  10, number of infected = 7219\n",
      "2020-09-02 12:37:10,025 - june.simulator - INFO - Date = 2020-07-13 08:00:00, number of deaths =  10, number of infected = 7115\n",
      "2020-09-02 12:37:10,282 - june.simulator - INFO - Date = 2020-07-13 10:00:00, number of deaths =  10, number of infected = 6991\n",
      "2020-09-02 12:37:10,534 - june.simulator - INFO - Date = 2020-07-14 00:00:00, number of deaths =  10, number of infected = 6268\n",
      "2020-09-02 12:37:10,933 - june.simulator - INFO - Date = 2020-07-14 02:00:00, number of deaths =  10, number of infected = 6184\n",
      "2020-09-02 12:37:11,339 - june.simulator - INFO - Date = 2020-07-14 04:00:00, number of deaths =  10, number of infected = 6084\n",
      "2020-09-02 12:37:11,768 - june.simulator - INFO - Date = 2020-07-14 06:00:00, number of deaths =  10, number of infected = 5979\n",
      "2020-09-02 12:37:12,186 - june.simulator - INFO - Date = 2020-07-14 08:00:00, number of deaths =  10, number of infected = 5898\n",
      "2020-09-02 12:37:12,423 - june.simulator - INFO - Date = 2020-07-14 10:00:00, number of deaths =  10, number of infected = 5784\n",
      "2020-09-02 12:37:12,653 - june.simulator - INFO - Date = 2020-07-15 00:00:00, number of deaths =  10, number of infected = 5110\n",
      "2020-09-02 12:37:13,051 - june.simulator - INFO - Date = 2020-07-15 02:00:00, number of deaths =  10, number of infected = 5019\n",
      "2020-09-02 12:37:13,458 - june.simulator - INFO - Date = 2020-07-15 04:00:00, number of deaths =  11, number of infected = 4929\n",
      "2020-09-02 12:37:13,862 - june.simulator - INFO - Date = 2020-07-15 06:00:00, number of deaths =  11, number of infected = 4843\n",
      "2020-09-02 12:37:14,256 - june.simulator - INFO - Date = 2020-07-15 08:00:00, number of deaths =  11, number of infected = 4758\n",
      "2020-09-02 12:37:14,487 - june.simulator - INFO - Date = 2020-07-15 10:00:00, number of deaths =  11, number of infected = 4670\n",
      "2020-09-02 12:37:14,699 - june.simulator - INFO - Date = 2020-07-16 00:00:00, number of deaths =  12, number of infected = 4099\n",
      "2020-09-02 12:37:15,076 - june.simulator - INFO - Date = 2020-07-16 02:00:00, number of deaths =  12, number of infected = 4033\n",
      "2020-09-02 12:37:15,471 - june.simulator - INFO - Date = 2020-07-16 04:00:00, number of deaths =  12, number of infected = 3944\n",
      "2020-09-02 12:37:15,861 - june.simulator - INFO - Date = 2020-07-16 06:00:00, number of deaths =  12, number of infected = 3866\n",
      "2020-09-02 12:37:16,241 - june.simulator - INFO - Date = 2020-07-16 08:00:00, number of deaths =  12, number of infected = 3797\n",
      "2020-09-02 12:37:16,446 - june.simulator - INFO - Date = 2020-07-16 10:00:00, number of deaths =  12, number of infected = 3715\n"
     ]
    },
    {
     "name": "stdout",
     "output_type": "stream",
     "text": [
      "2020-09-02 12:37:16,640 - june.simulator - INFO - Date = 2020-07-17 00:00:00, number of deaths =  12, number of infected = 3184\n",
      "2020-09-02 12:37:17,003 - june.simulator - INFO - Date = 2020-07-17 02:00:00, number of deaths =  12, number of infected = 3118\n",
      "2020-09-02 12:37:17,375 - june.simulator - INFO - Date = 2020-07-17 04:00:00, number of deaths =  12, number of infected = 3051\n",
      "2020-09-02 12:37:17,762 - june.simulator - INFO - Date = 2020-07-17 06:00:00, number of deaths =  12, number of infected = 2989\n",
      "2020-09-02 12:37:18,133 - june.simulator - INFO - Date = 2020-07-17 08:00:00, number of deaths =  12, number of infected = 2925\n",
      "2020-09-02 12:37:18,334 - june.simulator - INFO - Date = 2020-07-17 10:00:00, number of deaths =  12, number of infected = 2871\n",
      "2020-09-02 12:37:18,552 - june.simulator - INFO - Date = 2020-07-18 00:00:00, number of deaths =  12, number of infected = 2485\n",
      "2020-09-02 12:37:18,924 - june.simulator - INFO - Date = 2020-07-18 03:00:00, number of deaths =  12, number of infected = 2402\n",
      "2020-09-02 12:37:19,309 - june.simulator - INFO - Date = 2020-07-18 05:00:00, number of deaths =  12, number of infected = 2348\n",
      "2020-09-02 12:37:19,769 - june.simulator - INFO - Date = 2020-07-18 07:00:00, number of deaths =  12, number of infected = 2293\n",
      "2020-09-02 12:37:20,212 - june.simulator - INFO - Date = 2020-07-18 09:00:00, number of deaths =  12, number of infected = 2251\n",
      "2020-09-02 12:37:20,401 - june.simulator - INFO - Date = 2020-07-18 11:00:00, number of deaths =  12, number of infected = 2199\n",
      "2020-09-02 12:37:20,589 - june.simulator - INFO - Date = 2020-07-19 00:00:00, number of deaths =  12, number of infected = 1888\n",
      "2020-09-02 12:37:20,970 - june.simulator - INFO - Date = 2020-07-19 03:00:00, number of deaths =  12, number of infected = 1832\n",
      "2020-09-02 12:37:21,360 - june.simulator - INFO - Date = 2020-07-19 05:00:00, number of deaths =  12, number of infected = 1791\n",
      "2020-09-02 12:37:21,724 - june.simulator - INFO - Date = 2020-07-19 07:00:00, number of deaths =  12, number of infected = 1749\n",
      "2020-09-02 12:37:22,100 - june.simulator - INFO - Date = 2020-07-19 09:00:00, number of deaths =  12, number of infected = 1714\n",
      "2020-09-02 12:37:22,287 - june.simulator - INFO - Date = 2020-07-19 11:00:00, number of deaths =  12, number of infected = 1671\n",
      "2020-09-02 12:37:22,469 - june.simulator - INFO - Date = 2020-07-20 00:00:00, number of deaths =  12, number of infected = 1447\n",
      "2020-09-02 12:37:22,820 - june.simulator - INFO - Date = 2020-07-20 02:00:00, number of deaths =  12, number of infected = 1411\n",
      "2020-09-02 12:37:23,164 - june.simulator - INFO - Date = 2020-07-20 04:00:00, number of deaths =  12, number of infected = 1377\n",
      "2020-09-02 12:37:23,520 - june.simulator - INFO - Date = 2020-07-20 06:00:00, number of deaths =  12, number of infected = 1346\n",
      "2020-09-02 12:37:23,881 - june.simulator - INFO - Date = 2020-07-20 08:00:00, number of deaths =  12, number of infected = 1317\n",
      "2020-09-02 12:37:24,065 - june.simulator - INFO - Date = 2020-07-20 10:00:00, number of deaths =  12, number of infected = 1284\n",
      "2020-09-02 12:37:24,237 - june.simulator - INFO - Date = 2020-07-21 00:00:00, number of deaths =  12, number of infected = 1100\n",
      "2020-09-02 12:37:24,584 - june.simulator - INFO - Date = 2020-07-21 02:00:00, number of deaths =  12, number of infected = 1069\n",
      "2020-09-02 12:37:24,938 - june.simulator - INFO - Date = 2020-07-21 04:00:00, number of deaths =  12, number of infected = 1045\n",
      "2020-09-02 12:37:25,341 - june.simulator - INFO - Date = 2020-07-21 06:00:00, number of deaths =  12, number of infected = 1025\n",
      "2020-09-02 12:37:25,697 - june.simulator - INFO - Date = 2020-07-21 08:00:00, number of deaths =  12, number of infected = 1000\n",
      "2020-09-02 12:37:25,878 - june.simulator - INFO - Date = 2020-07-21 10:00:00, number of deaths =  12, number of infected = 979\n",
      "2020-09-02 12:37:26,043 - june.simulator - INFO - Date = 2020-07-22 00:00:00, number of deaths =  12, number of infected = 834\n",
      "2020-09-02 12:37:26,396 - june.simulator - INFO - Date = 2020-07-22 02:00:00, number of deaths =  12, number of infected = 804\n",
      "2020-09-02 12:37:26,745 - june.simulator - INFO - Date = 2020-07-22 04:00:00, number of deaths =  12, number of infected = 789\n",
      "2020-09-02 12:37:27,102 - june.simulator - INFO - Date = 2020-07-22 06:00:00, number of deaths =  12, number of infected = 773\n",
      "2020-09-02 12:37:27,465 - june.simulator - INFO - Date = 2020-07-22 08:00:00, number of deaths =  12, number of infected = 755\n",
      "2020-09-02 12:37:27,643 - june.simulator - INFO - Date = 2020-07-22 10:00:00, number of deaths =  12, number of infected = 741\n",
      "2020-09-02 12:37:27,838 - june.simulator - INFO - Date = 2020-07-23 00:00:00, number of deaths =  12, number of infected = 628\n",
      "2020-09-02 12:37:28,191 - june.simulator - INFO - Date = 2020-07-23 02:00:00, number of deaths =  12, number of infected = 617\n",
      "2020-09-02 12:37:28,542 - june.simulator - INFO - Date = 2020-07-23 04:00:00, number of deaths =  12, number of infected = 598\n",
      "2020-09-02 12:37:28,877 - june.simulator - INFO - Date = 2020-07-23 06:00:00, number of deaths =  12, number of infected = 589\n",
      "2020-09-02 12:37:29,213 - june.simulator - INFO - Date = 2020-07-23 08:00:00, number of deaths =  12, number of infected = 573\n",
      "2020-09-02 12:37:29,384 - june.simulator - INFO - Date = 2020-07-23 10:00:00, number of deaths =  12, number of infected = 561\n",
      "2020-09-02 12:37:29,545 - june.simulator - INFO - Date = 2020-07-24 00:00:00, number of deaths =  12, number of infected = 481\n",
      "2020-09-02 12:37:29,911 - june.simulator - INFO - Date = 2020-07-24 02:00:00, number of deaths =  12, number of infected = 473\n",
      "2020-09-02 12:37:30,267 - june.simulator - INFO - Date = 2020-07-24 04:00:00, number of deaths =  12, number of infected = 458\n",
      "2020-09-02 12:37:30,618 - june.simulator - INFO - Date = 2020-07-24 06:00:00, number of deaths =  12, number of infected = 450\n",
      "2020-09-02 12:37:30,976 - june.simulator - INFO - Date = 2020-07-24 08:00:00, number of deaths =  12, number of infected = 443\n",
      "2020-09-02 12:37:31,142 - june.simulator - INFO - Date = 2020-07-24 10:00:00, number of deaths =  12, number of infected = 434\n",
      "2020-09-02 12:37:31,299 - june.simulator - INFO - Date = 2020-07-25 00:00:00, number of deaths =  13, number of infected = 386\n",
      "2020-09-02 12:37:31,659 - june.simulator - INFO - Date = 2020-07-25 03:00:00, number of deaths =  13, number of infected = 369\n",
      "2020-09-02 12:37:32,021 - june.simulator - INFO - Date = 2020-07-25 05:00:00, number of deaths =  13, number of infected = 359\n",
      "2020-09-02 12:37:32,376 - june.simulator - INFO - Date = 2020-07-25 07:00:00, number of deaths =  13, number of infected = 354\n",
      "2020-09-02 12:37:32,746 - june.simulator - INFO - Date = 2020-07-25 09:00:00, number of deaths =  13, number of infected = 347\n",
      "2020-09-02 12:37:32,918 - june.simulator - INFO - Date = 2020-07-25 11:00:00, number of deaths =  13, number of infected = 341\n",
      "2020-09-02 12:37:33,083 - june.simulator - INFO - Date = 2020-07-26 00:00:00, number of deaths =  13, number of infected = 293\n",
      "2020-09-02 12:37:33,444 - june.simulator - INFO - Date = 2020-07-26 03:00:00, number of deaths =  13, number of infected = 280\n",
      "2020-09-02 12:37:33,819 - june.simulator - INFO - Date = 2020-07-26 05:00:00, number of deaths =  13, number of infected = 271\n",
      "2020-09-02 12:37:34,174 - june.simulator - INFO - Date = 2020-07-26 07:00:00, number of deaths =  13, number of infected = 268\n",
      "2020-09-02 12:37:34,542 - june.simulator - INFO - Date = 2020-07-26 09:00:00, number of deaths =  13, number of infected = 264\n",
      "2020-09-02 12:37:34,710 - june.simulator - INFO - Date = 2020-07-26 11:00:00, number of deaths =  13, number of infected = 259\n",
      "2020-09-02 12:37:34,872 - june.simulator - INFO - Date = 2020-07-27 00:00:00, number of deaths =  13, number of infected = 232\n",
      "2020-09-02 12:37:35,224 - june.simulator - INFO - Date = 2020-07-27 02:00:00, number of deaths =  13, number of infected = 231\n",
      "2020-09-02 12:37:35,558 - june.simulator - INFO - Date = 2020-07-27 04:00:00, number of deaths =  13, number of infected = 223\n",
      "2020-09-02 12:37:35,903 - june.simulator - INFO - Date = 2020-07-27 06:00:00, number of deaths =  13, number of infected = 219\n",
      "2020-09-02 12:37:36,258 - june.simulator - INFO - Date = 2020-07-27 08:00:00, number of deaths =  13, number of infected = 213\n"
     ]
    },
    {
     "name": "stdout",
     "output_type": "stream",
     "text": [
      "2020-09-02 12:37:36,429 - june.simulator - INFO - Date = 2020-07-27 10:00:00, number of deaths =  13, number of infected = 206\n",
      "2020-09-02 12:37:36,588 - june.simulator - INFO - Date = 2020-07-28 00:00:00, number of deaths =  13, number of infected = 178\n",
      "2020-09-02 12:37:36,937 - june.simulator - INFO - Date = 2020-07-28 02:00:00, number of deaths =  13, number of infected = 176\n",
      "2020-09-02 12:37:37,278 - june.simulator - INFO - Date = 2020-07-28 04:00:00, number of deaths =  13, number of infected = 171\n",
      "2020-09-02 12:37:37,630 - june.simulator - INFO - Date = 2020-07-28 06:00:00, number of deaths =  13, number of infected = 167\n",
      "2020-09-02 12:37:37,982 - june.simulator - INFO - Date = 2020-07-28 08:00:00, number of deaths =  13, number of infected = 162\n",
      "2020-09-02 12:37:38,143 - june.simulator - INFO - Date = 2020-07-28 10:00:00, number of deaths =  13, number of infected = 156\n",
      "2020-09-02 12:37:38,299 - june.simulator - INFO - Date = 2020-07-29 00:00:00, number of deaths =  13, number of infected = 136\n",
      "2020-09-02 12:37:38,644 - june.simulator - INFO - Date = 2020-07-29 02:00:00, number of deaths =  13, number of infected = 131\n",
      "2020-09-02 12:37:38,992 - june.simulator - INFO - Date = 2020-07-29 04:00:00, number of deaths =  13, number of infected = 131\n",
      "2020-09-02 12:37:39,345 - june.simulator - INFO - Date = 2020-07-29 06:00:00, number of deaths =  13, number of infected = 131\n",
      "2020-09-02 12:37:39,698 - june.simulator - INFO - Date = 2020-07-29 08:00:00, number of deaths =  13, number of infected = 131\n",
      "2020-09-02 12:37:39,864 - june.simulator - INFO - Date = 2020-07-29 10:00:00, number of deaths =  13, number of infected = 129\n",
      "2020-09-02 12:37:40,021 - june.simulator - INFO - Date = 2020-07-30 00:00:00, number of deaths =  14, number of infected = 114\n",
      "2020-09-02 12:37:40,369 - june.simulator - INFO - Date = 2020-07-30 02:00:00, number of deaths =  14, number of infected = 114\n",
      "2020-09-02 12:37:40,731 - june.simulator - INFO - Date = 2020-07-30 04:00:00, number of deaths =  14, number of infected = 113\n",
      "2020-09-02 12:37:41,078 - june.simulator - INFO - Date = 2020-07-30 06:00:00, number of deaths =  14, number of infected = 110\n",
      "2020-09-02 12:37:41,432 - june.simulator - INFO - Date = 2020-07-30 08:00:00, number of deaths =  14, number of infected = 108\n",
      "2020-09-02 12:37:41,590 - june.simulator - INFO - Date = 2020-07-30 10:00:00, number of deaths =  14, number of infected = 107\n",
      "2020-09-02 12:37:41,743 - june.simulator - INFO - Date = 2020-07-31 00:00:00, number of deaths =  14, number of infected = 99\n",
      "2020-09-02 12:37:42,089 - june.simulator - INFO - Date = 2020-07-31 02:00:00, number of deaths =  14, number of infected = 96\n",
      "2020-09-02 12:37:42,445 - june.simulator - INFO - Date = 2020-07-31 04:00:00, number of deaths =  14, number of infected = 96\n",
      "2020-09-02 12:37:42,777 - june.simulator - INFO - Date = 2020-07-31 06:00:00, number of deaths =  14, number of infected = 94\n",
      "2020-09-02 12:37:43,125 - june.simulator - INFO - Date = 2020-07-31 08:00:00, number of deaths =  14, number of infected = 92\n",
      "2020-09-02 12:37:43,287 - june.simulator - INFO - Date = 2020-07-31 10:00:00, number of deaths =  14, number of infected = 90\n",
      "2020-09-02 12:37:43,441 - june.simulator - INFO - Date = 2020-08-01 00:00:00, number of deaths =  14, number of infected = 78\n",
      "2020-09-02 12:37:43,803 - june.simulator - INFO - Date = 2020-08-01 03:00:00, number of deaths =  14, number of infected = 77\n",
      "2020-09-02 12:37:44,153 - june.simulator - INFO - Date = 2020-08-01 05:00:00, number of deaths =  14, number of infected = 76\n",
      "2020-09-02 12:37:44,530 - june.simulator - INFO - Date = 2020-08-01 07:00:00, number of deaths =  14, number of infected = 75\n",
      "2020-09-02 12:37:44,892 - june.simulator - INFO - Date = 2020-08-01 09:00:00, number of deaths =  14, number of infected = 73\n",
      "2020-09-02 12:37:45,070 - june.simulator - INFO - Date = 2020-08-01 11:00:00, number of deaths =  14, number of infected = 71\n",
      "2020-09-02 12:37:45,232 - june.simulator - INFO - Date = 2020-08-02 00:00:00, number of deaths =  14, number of infected = 66\n",
      "2020-09-02 12:37:45,582 - june.simulator - INFO - Date = 2020-08-02 03:00:00, number of deaths =  14, number of infected = 65\n",
      "2020-09-02 12:37:45,937 - june.simulator - INFO - Date = 2020-08-02 05:00:00, number of deaths =  14, number of infected = 64\n",
      "2020-09-02 12:37:46,329 - june.simulator - INFO - Date = 2020-08-02 07:00:00, number of deaths =  14, number of infected = 62\n",
      "2020-09-02 12:37:46,696 - june.simulator - INFO - Date = 2020-08-02 09:00:00, number of deaths =  14, number of infected = 62\n",
      "2020-09-02 12:37:46,861 - june.simulator - INFO - Date = 2020-08-02 11:00:00, number of deaths =  14, number of infected = 62\n",
      "2020-09-02 12:37:47,016 - june.simulator - INFO - Date = 2020-08-03 00:00:00, number of deaths =  14, number of infected = 58\n",
      "2020-09-02 12:37:47,363 - june.simulator - INFO - Date = 2020-08-03 02:00:00, number of deaths =  14, number of infected = 58\n",
      "2020-09-02 12:37:47,706 - june.simulator - INFO - Date = 2020-08-03 04:00:00, number of deaths =  14, number of infected = 56\n",
      "2020-09-02 12:37:48,046 - june.simulator - INFO - Date = 2020-08-03 06:00:00, number of deaths =  14, number of infected = 55\n",
      "2020-09-02 12:37:48,389 - june.simulator - INFO - Date = 2020-08-03 08:00:00, number of deaths =  14, number of infected = 54\n",
      "2020-09-02 12:37:48,577 - june.simulator - INFO - Date = 2020-08-03 10:00:00, number of deaths =  14, number of infected = 54\n",
      "2020-09-02 12:37:48,767 - june.simulator - INFO - Date = 2020-08-04 00:00:00, number of deaths =  14, number of infected = 50\n",
      "2020-09-02 12:37:49,123 - june.simulator - INFO - Date = 2020-08-04 02:00:00, number of deaths =  14, number of infected = 49\n",
      "2020-09-02 12:37:49,504 - june.simulator - INFO - Date = 2020-08-04 04:00:00, number of deaths =  14, number of infected = 49\n",
      "2020-09-02 12:37:49,851 - june.simulator - INFO - Date = 2020-08-04 06:00:00, number of deaths =  14, number of infected = 49\n",
      "2020-09-02 12:37:50,228 - june.simulator - INFO - Date = 2020-08-04 08:00:00, number of deaths =  14, number of infected = 49\n",
      "2020-09-02 12:37:50,422 - june.simulator - INFO - Date = 2020-08-04 10:00:00, number of deaths =  14, number of infected = 49\n",
      "2020-09-02 12:37:50,605 - june.simulator - INFO - Date = 2020-08-05 00:00:00, number of deaths =  14, number of infected = 43\n",
      "2020-09-02 12:37:50,987 - june.simulator - INFO - Date = 2020-08-05 02:00:00, number of deaths =  14, number of infected = 42\n",
      "2020-09-02 12:37:51,316 - june.simulator - INFO - Date = 2020-08-05 04:00:00, number of deaths =  14, number of infected = 42\n",
      "2020-09-02 12:37:51,651 - june.simulator - INFO - Date = 2020-08-05 06:00:00, number of deaths =  14, number of infected = 42\n",
      "2020-09-02 12:37:51,991 - june.simulator - INFO - Date = 2020-08-05 08:00:00, number of deaths =  14, number of infected = 42\n",
      "2020-09-02 12:37:52,143 - june.simulator - INFO - Date = 2020-08-05 10:00:00, number of deaths =  14, number of infected = 42\n",
      "2020-09-02 12:37:52,322 - june.simulator - INFO - Date = 2020-08-06 00:00:00, number of deaths =  14, number of infected = 41\n",
      "2020-09-02 12:37:52,686 - june.simulator - INFO - Date = 2020-08-06 02:00:00, number of deaths =  14, number of infected = 41\n",
      "2020-09-02 12:37:53,087 - june.simulator - INFO - Date = 2020-08-06 04:00:00, number of deaths =  14, number of infected = 41\n",
      "2020-09-02 12:37:53,475 - june.simulator - INFO - Date = 2020-08-06 06:00:00, number of deaths =  14, number of infected = 41\n",
      "2020-09-02 12:37:53,835 - june.simulator - INFO - Date = 2020-08-06 08:00:00, number of deaths =  14, number of infected = 41\n",
      "2020-09-02 12:37:53,997 - june.simulator - INFO - Date = 2020-08-06 10:00:00, number of deaths =  14, number of infected = 41\n",
      "2020-09-02 12:37:54,154 - june.simulator - INFO - Date = 2020-08-07 00:00:00, number of deaths =  14, number of infected = 38\n",
      "2020-09-02 12:37:54,564 - june.simulator - INFO - Date = 2020-08-07 02:00:00, number of deaths =  14, number of infected = 38\n",
      "2020-09-02 12:37:54,964 - june.simulator - INFO - Date = 2020-08-07 04:00:00, number of deaths =  14, number of infected = 36\n",
      "2020-09-02 12:37:55,362 - june.simulator - INFO - Date = 2020-08-07 06:00:00, number of deaths =  14, number of infected = 36\n"
     ]
    },
    {
     "name": "stdout",
     "output_type": "stream",
     "text": [
      "2020-09-02 12:37:55,773 - june.simulator - INFO - Date = 2020-08-07 08:00:00, number of deaths =  14, number of infected = 36\n",
      "2020-09-02 12:37:55,958 - june.simulator - INFO - Date = 2020-08-07 10:00:00, number of deaths =  14, number of infected = 36\n",
      "2020-09-02 12:37:56,138 - june.simulator - INFO - Date = 2020-08-08 00:00:00, number of deaths =  14, number of infected = 36\n",
      "2020-09-02 12:37:56,501 - june.simulator - INFO - Date = 2020-08-08 03:00:00, number of deaths =  14, number of infected = 36\n",
      "2020-09-02 12:37:56,883 - june.simulator - INFO - Date = 2020-08-08 05:00:00, number of deaths =  14, number of infected = 36\n",
      "2020-09-02 12:37:57,247 - june.simulator - INFO - Date = 2020-08-08 07:00:00, number of deaths =  14, number of infected = 35\n",
      "2020-09-02 12:37:57,604 - june.simulator - INFO - Date = 2020-08-08 09:00:00, number of deaths =  14, number of infected = 35\n",
      "2020-09-02 12:37:57,777 - june.simulator - INFO - Date = 2020-08-08 11:00:00, number of deaths =  14, number of infected = 35\n",
      "2020-09-02 12:37:57,944 - june.simulator - INFO - Date = 2020-08-09 00:00:00, number of deaths =  14, number of infected = 33\n",
      "2020-09-02 12:37:58,307 - june.simulator - INFO - Date = 2020-08-09 03:00:00, number of deaths =  14, number of infected = 33\n",
      "2020-09-02 12:37:58,668 - june.simulator - INFO - Date = 2020-08-09 05:00:00, number of deaths =  14, number of infected = 33\n",
      "2020-09-02 12:37:59,016 - june.simulator - INFO - Date = 2020-08-09 07:00:00, number of deaths =  14, number of infected = 33\n",
      "2020-09-02 12:37:59,382 - june.simulator - INFO - Date = 2020-08-09 09:00:00, number of deaths =  14, number of infected = 33\n",
      "2020-09-02 12:37:59,538 - june.simulator - INFO - Date = 2020-08-09 11:00:00, number of deaths =  14, number of infected = 32\n",
      "2020-09-02 12:37:59,701 - june.simulator - INFO - Date = 2020-08-10 00:00:00, number of deaths =  14, number of infected = 30\n",
      "2020-09-02 12:38:00,108 - june.simulator - INFO - Date = 2020-08-10 02:00:00, number of deaths =  14, number of infected = 30\n",
      "2020-09-02 12:38:00,511 - june.simulator - INFO - Date = 2020-08-10 04:00:00, number of deaths =  14, number of infected = 30\n",
      "2020-09-02 12:38:00,875 - june.simulator - INFO - Date = 2020-08-10 06:00:00, number of deaths =  14, number of infected = 30\n",
      "2020-09-02 12:38:01,223 - june.simulator - INFO - Date = 2020-08-10 08:00:00, number of deaths =  14, number of infected = 29\n",
      "2020-09-02 12:38:01,401 - june.simulator - INFO - Date = 2020-08-10 10:00:00, number of deaths =  14, number of infected = 29\n",
      "2020-09-02 12:38:01,558 - june.simulator - INFO - Date = 2020-08-11 00:00:00, number of deaths =  14, number of infected = 28\n",
      "2020-09-02 12:38:01,902 - june.simulator - INFO - Date = 2020-08-11 02:00:00, number of deaths =  14, number of infected = 28\n",
      "2020-09-02 12:38:02,229 - june.simulator - INFO - Date = 2020-08-11 04:00:00, number of deaths =  14, number of infected = 28\n",
      "2020-09-02 12:38:02,575 - june.simulator - INFO - Date = 2020-08-11 06:00:00, number of deaths =  14, number of infected = 28\n",
      "2020-09-02 12:38:02,931 - june.simulator - INFO - Date = 2020-08-11 08:00:00, number of deaths =  14, number of infected = 28\n",
      "2020-09-02 12:38:03,092 - june.simulator - INFO - Date = 2020-08-11 10:00:00, number of deaths =  14, number of infected = 28\n",
      "2020-09-02 12:38:03,237 - june.simulator - INFO - Date = 2020-08-12 00:00:00, number of deaths =  14, number of infected = 28\n",
      "2020-09-02 12:38:03,583 - june.simulator - INFO - Date = 2020-08-12 02:00:00, number of deaths =  14, number of infected = 28\n",
      "2020-09-02 12:38:03,893 - june.simulator - INFO - Date = 2020-08-12 04:00:00, number of deaths =  14, number of infected = 28\n",
      "2020-09-02 12:38:04,258 - june.simulator - INFO - Date = 2020-08-12 06:00:00, number of deaths =  14, number of infected = 28\n",
      "2020-09-02 12:38:04,603 - june.simulator - INFO - Date = 2020-08-12 08:00:00, number of deaths =  14, number of infected = 28\n",
      "2020-09-02 12:38:04,768 - june.simulator - INFO - Date = 2020-08-12 10:00:00, number of deaths =  14, number of infected = 28\n",
      "2020-09-02 12:38:04,919 - june.simulator - INFO - Date = 2020-08-13 00:00:00, number of deaths =  14, number of infected = 26\n",
      "2020-09-02 12:38:05,265 - june.simulator - INFO - Date = 2020-08-13 02:00:00, number of deaths =  14, number of infected = 26\n",
      "2020-09-02 12:38:05,603 - june.simulator - INFO - Date = 2020-08-13 04:00:00, number of deaths =  14, number of infected = 26\n",
      "2020-09-02 12:38:05,953 - june.simulator - INFO - Date = 2020-08-13 06:00:00, number of deaths =  14, number of infected = 26\n",
      "2020-09-02 12:38:06,310 - june.simulator - INFO - Date = 2020-08-13 08:00:00, number of deaths =  14, number of infected = 26\n",
      "2020-09-02 12:38:06,474 - june.simulator - INFO - Date = 2020-08-13 10:00:00, number of deaths =  14, number of infected = 26\n",
      "2020-09-02 12:38:06,624 - june.simulator - INFO - Date = 2020-08-14 00:00:00, number of deaths =  14, number of infected = 23\n",
      "2020-09-02 12:38:06,963 - june.simulator - INFO - Date = 2020-08-14 02:00:00, number of deaths =  14, number of infected = 23\n",
      "2020-09-02 12:38:07,315 - june.simulator - INFO - Date = 2020-08-14 04:00:00, number of deaths =  14, number of infected = 23\n",
      "2020-09-02 12:38:07,665 - june.simulator - INFO - Date = 2020-08-14 06:00:00, number of deaths =  14, number of infected = 22\n",
      "2020-09-02 12:38:08,034 - june.simulator - INFO - Date = 2020-08-14 08:00:00, number of deaths =  14, number of infected = 22\n",
      "2020-09-02 12:38:08,197 - june.simulator - INFO - Date = 2020-08-14 10:00:00, number of deaths =  14, number of infected = 22\n",
      "2020-09-02 12:38:08,350 - june.simulator - INFO - Date = 2020-08-15 00:00:00, number of deaths =  14, number of infected = 19\n",
      "2020-09-02 12:38:08,742 - june.simulator - INFO - Date = 2020-08-15 03:00:00, number of deaths =  14, number of infected = 19\n",
      "2020-09-02 12:38:09,198 - june.simulator - INFO - Date = 2020-08-15 05:00:00, number of deaths =  14, number of infected = 19\n",
      "2020-09-02 12:38:09,603 - june.simulator - INFO - Date = 2020-08-15 07:00:00, number of deaths =  14, number of infected = 19\n",
      "2020-09-02 12:38:10,029 - june.simulator - INFO - Date = 2020-08-15 09:00:00, number of deaths =  14, number of infected = 19\n",
      "2020-09-02 12:38:10,187 - june.simulator - INFO - Date = 2020-08-15 11:00:00, number of deaths =  14, number of infected = 19\n",
      "2020-09-02 12:38:10,336 - june.simulator - INFO - Date = 2020-08-16 00:00:00, number of deaths =  14, number of infected = 19\n",
      "2020-09-02 12:38:10,710 - june.simulator - INFO - Date = 2020-08-16 03:00:00, number of deaths =  14, number of infected = 19\n",
      "2020-09-02 12:38:11,082 - june.simulator - INFO - Date = 2020-08-16 05:00:00, number of deaths =  14, number of infected = 19\n",
      "2020-09-02 12:38:11,451 - june.simulator - INFO - Date = 2020-08-16 07:00:00, number of deaths =  14, number of infected = 18\n",
      "2020-09-02 12:38:11,824 - june.simulator - INFO - Date = 2020-08-16 09:00:00, number of deaths =  14, number of infected = 18\n",
      "2020-09-02 12:38:11,992 - june.simulator - INFO - Date = 2020-08-16 11:00:00, number of deaths =  14, number of infected = 18\n",
      "2020-09-02 12:38:12,141 - june.simulator - INFO - Date = 2020-08-17 00:00:00, number of deaths =  14, number of infected = 17\n",
      "2020-09-02 12:38:12,489 - june.simulator - INFO - Date = 2020-08-17 02:00:00, number of deaths =  14, number of infected = 17\n",
      "2020-09-02 12:38:12,830 - june.simulator - INFO - Date = 2020-08-17 04:00:00, number of deaths =  14, number of infected = 17\n",
      "2020-09-02 12:38:13,165 - june.simulator - INFO - Date = 2020-08-17 06:00:00, number of deaths =  14, number of infected = 17\n",
      "2020-09-02 12:38:13,533 - june.simulator - INFO - Date = 2020-08-17 08:00:00, number of deaths =  14, number of infected = 17\n",
      "2020-09-02 12:38:13,695 - june.simulator - INFO - Date = 2020-08-17 10:00:00, number of deaths =  14, number of infected = 17\n",
      "2020-09-02 12:38:13,845 - june.simulator - INFO - Date = 2020-08-18 00:00:00, number of deaths =  14, number of infected = 16\n",
      "2020-09-02 12:38:14,201 - june.simulator - INFO - Date = 2020-08-18 02:00:00, number of deaths =  14, number of infected = 16\n",
      "2020-09-02 12:38:14,561 - june.simulator - INFO - Date = 2020-08-18 04:00:00, number of deaths =  14, number of infected = 16\n",
      "2020-09-02 12:38:14,943 - june.simulator - INFO - Date = 2020-08-18 06:00:00, number of deaths =  14, number of infected = 16\n"
     ]
    },
    {
     "name": "stdout",
     "output_type": "stream",
     "text": [
      "2020-09-02 12:38:15,291 - june.simulator - INFO - Date = 2020-08-18 08:00:00, number of deaths =  14, number of infected = 16\n",
      "2020-09-02 12:38:15,481 - june.simulator - INFO - Date = 2020-08-18 10:00:00, number of deaths =  14, number of infected = 16\n",
      "2020-09-02 12:38:15,647 - june.simulator - INFO - Date = 2020-08-19 00:00:00, number of deaths =  14, number of infected = 15\n",
      "2020-09-02 12:38:16,013 - june.simulator - INFO - Date = 2020-08-19 02:00:00, number of deaths =  14, number of infected = 15\n",
      "2020-09-02 12:38:16,405 - june.simulator - INFO - Date = 2020-08-19 04:00:00, number of deaths =  14, number of infected = 15\n",
      "2020-09-02 12:38:16,777 - june.simulator - INFO - Date = 2020-08-19 06:00:00, number of deaths =  14, number of infected = 15\n",
      "2020-09-02 12:38:17,175 - june.simulator - INFO - Date = 2020-08-19 08:00:00, number of deaths =  14, number of infected = 15\n",
      "2020-09-02 12:38:17,368 - june.simulator - INFO - Date = 2020-08-19 10:00:00, number of deaths =  14, number of infected = 15\n",
      "2020-09-02 12:38:17,546 - june.simulator - INFO - Date = 2020-08-20 00:00:00, number of deaths =  14, number of infected = 13\n",
      "2020-09-02 12:38:17,898 - june.simulator - INFO - Date = 2020-08-20 02:00:00, number of deaths =  14, number of infected = 13\n",
      "2020-09-02 12:38:18,245 - june.simulator - INFO - Date = 2020-08-20 04:00:00, number of deaths =  14, number of infected = 12\n",
      "2020-09-02 12:38:18,653 - june.simulator - INFO - Date = 2020-08-20 06:00:00, number of deaths =  14, number of infected = 12\n",
      "2020-09-02 12:38:18,991 - june.simulator - INFO - Date = 2020-08-20 08:00:00, number of deaths =  14, number of infected = 12\n",
      "2020-09-02 12:38:19,143 - june.simulator - INFO - Date = 2020-08-20 10:00:00, number of deaths =  14, number of infected = 12\n",
      "2020-09-02 12:38:19,289 - june.simulator - INFO - Date = 2020-08-21 00:00:00, number of deaths =  14, number of infected = 12\n",
      "2020-09-02 12:38:19,626 - june.simulator - INFO - Date = 2020-08-21 02:00:00, number of deaths =  14, number of infected = 12\n",
      "2020-09-02 12:38:19,969 - june.simulator - INFO - Date = 2020-08-21 04:00:00, number of deaths =  14, number of infected = 12\n",
      "2020-09-02 12:38:20,322 - june.simulator - INFO - Date = 2020-08-21 06:00:00, number of deaths =  14, number of infected = 12\n",
      "2020-09-02 12:38:20,655 - june.simulator - INFO - Date = 2020-08-21 08:00:00, number of deaths =  14, number of infected = 12\n",
      "2020-09-02 12:38:20,817 - june.simulator - INFO - Date = 2020-08-21 10:00:00, number of deaths =  14, number of infected = 12\n",
      "2020-09-02 12:38:20,967 - june.simulator - INFO - Date = 2020-08-22 00:00:00, number of deaths =  14, number of infected = 12\n",
      "2020-09-02 12:38:21,332 - june.simulator - INFO - Date = 2020-08-22 03:00:00, number of deaths =  14, number of infected = 12\n",
      "2020-09-02 12:38:21,698 - june.simulator - INFO - Date = 2020-08-22 05:00:00, number of deaths =  14, number of infected = 12\n",
      "2020-09-02 12:38:22,052 - june.simulator - INFO - Date = 2020-08-22 07:00:00, number of deaths =  14, number of infected = 12\n",
      "2020-09-02 12:38:22,425 - june.simulator - INFO - Date = 2020-08-22 09:00:00, number of deaths =  14, number of infected = 12\n",
      "2020-09-02 12:38:22,588 - june.simulator - INFO - Date = 2020-08-22 11:00:00, number of deaths =  14, number of infected = 12\n",
      "2020-09-02 12:38:22,732 - june.simulator - INFO - Date = 2020-08-23 00:00:00, number of deaths =  14, number of infected = 11\n",
      "2020-09-02 12:38:23,074 - june.simulator - INFO - Date = 2020-08-23 03:00:00, number of deaths =  14, number of infected = 11\n",
      "2020-09-02 12:38:23,442 - june.simulator - INFO - Date = 2020-08-23 05:00:00, number of deaths =  14, number of infected = 11\n",
      "2020-09-02 12:38:23,783 - june.simulator - INFO - Date = 2020-08-23 07:00:00, number of deaths =  14, number of infected = 11\n",
      "2020-09-02 12:38:24,133 - june.simulator - INFO - Date = 2020-08-23 09:00:00, number of deaths =  14, number of infected = 11\n",
      "2020-09-02 12:38:24,287 - june.simulator - INFO - Date = 2020-08-23 11:00:00, number of deaths =  14, number of infected = 11\n",
      "2020-09-02 12:38:24,439 - june.simulator - INFO - Date = 2020-08-24 00:00:00, number of deaths =  14, number of infected = 10\n",
      "2020-09-02 12:38:24,773 - june.simulator - INFO - Date = 2020-08-24 02:00:00, number of deaths =  14, number of infected = 9\n",
      "2020-09-02 12:38:25,118 - june.simulator - INFO - Date = 2020-08-24 04:00:00, number of deaths =  14, number of infected = 9\n",
      "2020-09-02 12:38:25,466 - june.simulator - INFO - Date = 2020-08-24 06:00:00, number of deaths =  14, number of infected = 9\n",
      "2020-09-02 12:38:25,792 - june.simulator - INFO - Date = 2020-08-24 08:00:00, number of deaths =  14, number of infected = 9\n",
      "2020-09-02 12:38:25,946 - june.simulator - INFO - Date = 2020-08-24 10:00:00, number of deaths =  14, number of infected = 9\n",
      "2020-09-02 12:38:26,090 - june.simulator - INFO - Date = 2020-08-25 00:00:00, number of deaths =  14, number of infected = 9\n",
      "2020-09-02 12:38:26,431 - june.simulator - INFO - Date = 2020-08-25 02:00:00, number of deaths =  14, number of infected = 9\n",
      "2020-09-02 12:38:26,745 - june.simulator - INFO - Date = 2020-08-25 04:00:00, number of deaths =  14, number of infected = 9\n",
      "2020-09-02 12:38:27,098 - june.simulator - INFO - Date = 2020-08-25 06:00:00, number of deaths =  14, number of infected = 9\n",
      "2020-09-02 12:38:27,434 - june.simulator - INFO - Date = 2020-08-25 08:00:00, number of deaths =  14, number of infected = 9\n",
      "2020-09-02 12:38:27,589 - june.simulator - INFO - Date = 2020-08-25 10:00:00, number of deaths =  14, number of infected = 9\n",
      "2020-09-02 12:38:27,739 - june.simulator - INFO - Date = 2020-08-26 00:00:00, number of deaths =  14, number of infected = 9\n",
      "2020-09-02 12:38:28,081 - june.simulator - INFO - Date = 2020-08-26 02:00:00, number of deaths =  14, number of infected = 9\n",
      "2020-09-02 12:38:28,405 - june.simulator - INFO - Date = 2020-08-26 04:00:00, number of deaths =  14, number of infected = 9\n",
      "2020-09-02 12:38:28,784 - june.simulator - INFO - Date = 2020-08-26 06:00:00, number of deaths =  14, number of infected = 9\n",
      "2020-09-02 12:38:29,148 - june.simulator - INFO - Date = 2020-08-26 08:00:00, number of deaths =  14, number of infected = 9\n",
      "2020-09-02 12:38:29,321 - june.simulator - INFO - Date = 2020-08-26 10:00:00, number of deaths =  14, number of infected = 9\n",
      "2020-09-02 12:38:29,503 - june.simulator - INFO - Date = 2020-08-27 00:00:00, number of deaths =  14, number of infected = 9\n",
      "2020-09-02 12:38:29,908 - june.simulator - INFO - Date = 2020-08-27 02:00:00, number of deaths =  14, number of infected = 9\n",
      "2020-09-02 12:38:30,257 - june.simulator - INFO - Date = 2020-08-27 04:00:00, number of deaths =  14, number of infected = 9\n",
      "2020-09-02 12:38:30,621 - june.simulator - INFO - Date = 2020-08-27 06:00:00, number of deaths =  14, number of infected = 8\n",
      "2020-09-02 12:38:30,985 - june.simulator - INFO - Date = 2020-08-27 08:00:00, number of deaths =  14, number of infected = 8\n",
      "2020-09-02 12:38:31,146 - june.simulator - INFO - Date = 2020-08-27 10:00:00, number of deaths =  14, number of infected = 8\n",
      "2020-09-02 12:38:31,307 - june.simulator - INFO - Date = 2020-08-28 00:00:00, number of deaths =  14, number of infected = 8\n",
      "2020-09-02 12:38:31,662 - june.simulator - INFO - Date = 2020-08-28 02:00:00, number of deaths =  14, number of infected = 8\n",
      "2020-09-02 12:38:31,992 - june.simulator - INFO - Date = 2020-08-28 04:00:00, number of deaths =  14, number of infected = 8\n",
      "2020-09-02 12:38:32,330 - june.simulator - INFO - Date = 2020-08-28 06:00:00, number of deaths =  14, number of infected = 8\n",
      "2020-09-02 12:38:32,646 - june.simulator - INFO - Date = 2020-08-28 08:00:00, number of deaths =  14, number of infected = 8\n",
      "2020-09-02 12:38:32,813 - june.simulator - INFO - Date = 2020-08-28 10:00:00, number of deaths =  14, number of infected = 8\n",
      "2020-09-02 12:38:32,965 - june.simulator - INFO - Date = 2020-08-29 00:00:00, number of deaths =  14, number of infected = 8\n",
      "2020-09-02 12:38:33,338 - june.simulator - INFO - Date = 2020-08-29 03:00:00, number of deaths =  14, number of infected = 8\n",
      "2020-09-02 12:38:33,671 - june.simulator - INFO - Date = 2020-08-29 05:00:00, number of deaths =  14, number of infected = 8\n",
      "2020-09-02 12:38:34,038 - june.simulator - INFO - Date = 2020-08-29 07:00:00, number of deaths =  14, number of infected = 8\n"
     ]
    },
    {
     "name": "stdout",
     "output_type": "stream",
     "text": [
      "2020-09-02 12:38:34,401 - june.simulator - INFO - Date = 2020-08-29 09:00:00, number of deaths =  14, number of infected = 8\n",
      "2020-09-02 12:38:34,565 - june.simulator - INFO - Date = 2020-08-29 11:00:00, number of deaths =  14, number of infected = 8\n",
      "2020-09-02 12:38:34,725 - june.simulator - INFO - Date = 2020-08-30 00:00:00, number of deaths =  14, number of infected = 8\n",
      "2020-09-02 12:38:35,117 - june.simulator - INFO - Date = 2020-08-30 03:00:00, number of deaths =  14, number of infected = 8\n",
      "2020-09-02 12:38:35,497 - june.simulator - INFO - Date = 2020-08-30 05:00:00, number of deaths =  14, number of infected = 8\n",
      "2020-09-02 12:38:35,912 - june.simulator - INFO - Date = 2020-08-30 07:00:00, number of deaths =  14, number of infected = 8\n",
      "2020-09-02 12:38:36,298 - june.simulator - INFO - Date = 2020-08-30 09:00:00, number of deaths =  14, number of infected = 8\n",
      "2020-09-02 12:38:36,481 - june.simulator - INFO - Date = 2020-08-30 11:00:00, number of deaths =  14, number of infected = 8\n",
      "2020-09-02 12:38:36,655 - june.simulator - INFO - Date = 2020-08-31 00:00:00, number of deaths =  14, number of infected = 6\n",
      "2020-09-02 12:38:37,033 - june.simulator - INFO - Date = 2020-08-31 02:00:00, number of deaths =  14, number of infected = 6\n",
      "2020-09-02 12:38:37,421 - june.simulator - INFO - Date = 2020-08-31 04:00:00, number of deaths =  14, number of infected = 6\n",
      "2020-09-02 12:38:37,774 - june.simulator - INFO - Date = 2020-08-31 06:00:00, number of deaths =  14, number of infected = 6\n",
      "2020-09-02 12:38:38,124 - june.simulator - INFO - Date = 2020-08-31 08:00:00, number of deaths =  14, number of infected = 6\n",
      "2020-09-02 12:38:38,289 - june.simulator - INFO - Date = 2020-08-31 10:00:00, number of deaths =  14, number of infected = 6\n",
      "2020-09-02 12:38:38,444 - june.simulator - INFO - Date = 2020-09-01 00:00:00, number of deaths =  14, number of infected = 6\n",
      "2020-09-02 12:38:38,787 - june.simulator - INFO - Date = 2020-09-01 02:00:00, number of deaths =  14, number of infected = 6\n",
      "2020-09-02 12:38:39,144 - june.simulator - INFO - Date = 2020-09-01 04:00:00, number of deaths =  14, number of infected = 6\n",
      "2020-09-02 12:38:39,465 - june.simulator - INFO - Date = 2020-09-01 06:00:00, number of deaths =  14, number of infected = 5\n",
      "2020-09-02 12:38:39,826 - june.simulator - INFO - Date = 2020-09-01 08:00:00, number of deaths =  14, number of infected = 5\n",
      "2020-09-02 12:38:39,993 - june.simulator - INFO - Date = 2020-09-01 10:00:00, number of deaths =  14, number of infected = 5\n",
      "2020-09-02 12:38:40,146 - june.simulator - INFO - Date = 2020-09-02 00:00:00, number of deaths =  14, number of infected = 4\n",
      "2020-09-02 12:38:40,485 - june.simulator - INFO - Date = 2020-09-02 02:00:00, number of deaths =  14, number of infected = 4\n",
      "2020-09-02 12:38:40,840 - june.simulator - INFO - Date = 2020-09-02 04:00:00, number of deaths =  14, number of infected = 4\n",
      "2020-09-02 12:38:41,165 - june.simulator - INFO - Date = 2020-09-02 06:00:00, number of deaths =  14, number of infected = 4\n",
      "2020-09-02 12:38:41,518 - june.simulator - INFO - Date = 2020-09-02 08:00:00, number of deaths =  14, number of infected = 4\n",
      "2020-09-02 12:38:41,684 - june.simulator - INFO - Date = 2020-09-02 10:00:00, number of deaths =  14, number of infected = 4\n",
      "2020-09-02 12:38:41,839 - june.simulator - INFO - Date = 2020-09-03 00:00:00, number of deaths =  14, number of infected = 4\n",
      "2020-09-02 12:38:42,170 - june.simulator - INFO - Date = 2020-09-03 02:00:00, number of deaths =  14, number of infected = 4\n",
      "2020-09-02 12:38:42,517 - june.simulator - INFO - Date = 2020-09-03 04:00:00, number of deaths =  14, number of infected = 4\n",
      "2020-09-02 12:38:42,846 - june.simulator - INFO - Date = 2020-09-03 06:00:00, number of deaths =  14, number of infected = 3\n",
      "2020-09-02 12:38:43,174 - june.simulator - INFO - Date = 2020-09-03 08:00:00, number of deaths =  14, number of infected = 3\n",
      "2020-09-02 12:38:43,338 - june.simulator - INFO - Date = 2020-09-03 10:00:00, number of deaths =  14, number of infected = 3\n",
      "2020-09-02 12:38:43,489 - june.simulator - INFO - Date = 2020-09-04 00:00:00, number of deaths =  14, number of infected = 3\n",
      "2020-09-02 12:38:43,836 - june.simulator - INFO - Date = 2020-09-04 02:00:00, number of deaths =  14, number of infected = 3\n",
      "2020-09-02 12:38:44,167 - june.simulator - INFO - Date = 2020-09-04 04:00:00, number of deaths =  14, number of infected = 3\n",
      "2020-09-02 12:38:44,514 - june.simulator - INFO - Date = 2020-09-04 06:00:00, number of deaths =  14, number of infected = 3\n",
      "2020-09-02 12:38:44,841 - june.simulator - INFO - Date = 2020-09-04 08:00:00, number of deaths =  14, number of infected = 3\n",
      "2020-09-02 12:38:44,996 - june.simulator - INFO - Date = 2020-09-04 10:00:00, number of deaths =  14, number of infected = 3\n",
      "2020-09-02 12:38:45,147 - june.simulator - INFO - Date = 2020-09-05 00:00:00, number of deaths =  14, number of infected = 3\n",
      "2020-09-02 12:38:45,495 - june.simulator - INFO - Date = 2020-09-05 03:00:00, number of deaths =  14, number of infected = 3\n",
      "2020-09-02 12:38:45,900 - june.simulator - INFO - Date = 2020-09-05 05:00:00, number of deaths =  14, number of infected = 3\n",
      "2020-09-02 12:38:46,246 - june.simulator - INFO - Date = 2020-09-05 07:00:00, number of deaths =  14, number of infected = 3\n",
      "2020-09-02 12:38:46,625 - june.simulator - INFO - Date = 2020-09-05 09:00:00, number of deaths =  14, number of infected = 3\n",
      "2020-09-02 12:38:46,785 - june.simulator - INFO - Date = 2020-09-05 11:00:00, number of deaths =  14, number of infected = 3\n",
      "2020-09-02 12:38:46,945 - june.simulator - INFO - Date = 2020-09-06 00:00:00, number of deaths =  14, number of infected = 3\n",
      "2020-09-02 12:38:47,317 - june.simulator - INFO - Date = 2020-09-06 03:00:00, number of deaths =  14, number of infected = 3\n",
      "2020-09-02 12:38:47,706 - june.simulator - INFO - Date = 2020-09-06 05:00:00, number of deaths =  14, number of infected = 3\n",
      "2020-09-02 12:38:48,085 - june.simulator - INFO - Date = 2020-09-06 07:00:00, number of deaths =  14, number of infected = 3\n",
      "2020-09-02 12:38:48,419 - june.simulator - INFO - Date = 2020-09-06 09:00:00, number of deaths =  14, number of infected = 3\n",
      "2020-09-02 12:38:48,596 - june.simulator - INFO - Date = 2020-09-06 11:00:00, number of deaths =  14, number of infected = 3\n",
      "2020-09-02 12:38:48,744 - june.simulator - INFO - Date = 2020-09-07 00:00:00, number of deaths =  14, number of infected = 3\n",
      "2020-09-02 12:38:49,086 - june.simulator - INFO - Date = 2020-09-07 02:00:00, number of deaths =  14, number of infected = 3\n",
      "2020-09-02 12:38:49,412 - june.simulator - INFO - Date = 2020-09-07 04:00:00, number of deaths =  14, number of infected = 3\n",
      "2020-09-02 12:38:49,758 - june.simulator - INFO - Date = 2020-09-07 06:00:00, number of deaths =  14, number of infected = 3\n",
      "2020-09-02 12:38:50,084 - june.simulator - INFO - Date = 2020-09-07 08:00:00, number of deaths =  14, number of infected = 3\n",
      "2020-09-02 12:38:50,241 - june.simulator - INFO - Date = 2020-09-07 10:00:00, number of deaths =  14, number of infected = 3\n",
      "2020-09-02 12:38:50,396 - june.simulator - INFO - Date = 2020-09-08 00:00:00, number of deaths =  14, number of infected = 3\n",
      "2020-09-02 12:38:50,730 - june.simulator - INFO - Date = 2020-09-08 02:00:00, number of deaths =  14, number of infected = 3\n",
      "2020-09-02 12:38:51,052 - june.simulator - INFO - Date = 2020-09-08 04:00:00, number of deaths =  14, number of infected = 3\n",
      "2020-09-02 12:38:51,404 - june.simulator - INFO - Date = 2020-09-08 06:00:00, number of deaths =  14, number of infected = 3\n",
      "2020-09-02 12:38:51,741 - june.simulator - INFO - Date = 2020-09-08 08:00:00, number of deaths =  14, number of infected = 3\n",
      "2020-09-02 12:38:51,894 - june.simulator - INFO - Date = 2020-09-08 10:00:00, number of deaths =  14, number of infected = 3\n",
      "2020-09-02 12:38:52,038 - june.simulator - INFO - Date = 2020-09-09 00:00:00, number of deaths =  14, number of infected = 2\n",
      "2020-09-02 12:38:52,370 - june.simulator - INFO - Date = 2020-09-09 02:00:00, number of deaths =  14, number of infected = 2\n",
      "2020-09-02 12:38:52,714 - june.simulator - INFO - Date = 2020-09-09 04:00:00, number of deaths =  14, number of infected = 2\n",
      "2020-09-02 12:38:53,050 - june.simulator - INFO - Date = 2020-09-09 06:00:00, number of deaths =  14, number of infected = 2\n"
     ]
    },
    {
     "name": "stdout",
     "output_type": "stream",
     "text": [
      "2020-09-02 12:38:53,387 - june.simulator - INFO - Date = 2020-09-09 08:00:00, number of deaths =  14, number of infected = 2\n",
      "2020-09-02 12:38:53,540 - june.simulator - INFO - Date = 2020-09-09 10:00:00, number of deaths =  14, number of infected = 2\n",
      "2020-09-02 12:38:53,685 - june.simulator - INFO - Date = 2020-09-10 00:00:00, number of deaths =  14, number of infected = 2\n",
      "2020-09-02 12:38:54,014 - june.simulator - INFO - Date = 2020-09-10 02:00:00, number of deaths =  14, number of infected = 2\n",
      "2020-09-02 12:38:54,360 - june.simulator - INFO - Date = 2020-09-10 04:00:00, number of deaths =  14, number of infected = 2\n",
      "2020-09-02 12:38:54,690 - june.simulator - INFO - Date = 2020-09-10 06:00:00, number of deaths =  14, number of infected = 2\n",
      "2020-09-02 12:38:55,022 - june.simulator - INFO - Date = 2020-09-10 08:00:00, number of deaths =  14, number of infected = 2\n",
      "2020-09-02 12:38:55,173 - june.simulator - INFO - Date = 2020-09-10 10:00:00, number of deaths =  14, number of infected = 2\n",
      "2020-09-02 12:38:55,323 - june.simulator - INFO - Date = 2020-09-11 00:00:00, number of deaths =  14, number of infected = 2\n",
      "2020-09-02 12:38:55,669 - june.simulator - INFO - Date = 2020-09-11 02:00:00, number of deaths =  14, number of infected = 2\n",
      "2020-09-02 12:38:56,002 - june.simulator - INFO - Date = 2020-09-11 04:00:00, number of deaths =  14, number of infected = 2\n",
      "2020-09-02 12:38:56,347 - june.simulator - INFO - Date = 2020-09-11 06:00:00, number of deaths =  14, number of infected = 2\n",
      "2020-09-02 12:38:56,693 - june.simulator - INFO - Date = 2020-09-11 08:00:00, number of deaths =  14, number of infected = 2\n",
      "2020-09-02 12:38:56,844 - june.simulator - INFO - Date = 2020-09-11 10:00:00, number of deaths =  14, number of infected = 2\n",
      "2020-09-02 12:38:56,993 - june.simulator - INFO - Date = 2020-09-12 00:00:00, number of deaths =  14, number of infected = 1\n",
      "2020-09-02 12:38:57,353 - june.simulator - INFO - Date = 2020-09-12 03:00:00, number of deaths =  14, number of infected = 1\n",
      "2020-09-02 12:38:57,726 - june.simulator - INFO - Date = 2020-09-12 05:00:00, number of deaths =  14, number of infected = 1\n",
      "2020-09-02 12:38:58,073 - june.simulator - INFO - Date = 2020-09-12 07:00:00, number of deaths =  14, number of infected = 1\n",
      "2020-09-02 12:38:58,439 - june.simulator - INFO - Date = 2020-09-12 09:00:00, number of deaths =  14, number of infected = 1\n",
      "2020-09-02 12:38:58,607 - june.simulator - INFO - Date = 2020-09-12 11:00:00, number of deaths =  14, number of infected = 1\n",
      "2020-09-02 12:38:58,806 - june.simulator - INFO - Date = 2020-09-13 00:00:00, number of deaths =  14, number of infected = 1\n",
      "2020-09-02 12:38:59,193 - june.simulator - INFO - Date = 2020-09-13 03:00:00, number of deaths =  14, number of infected = 1\n",
      "2020-09-02 12:38:59,582 - june.simulator - INFO - Date = 2020-09-13 05:00:00, number of deaths =  14, number of infected = 1\n",
      "2020-09-02 12:38:59,933 - june.simulator - INFO - Date = 2020-09-13 07:00:00, number of deaths =  14, number of infected = 1\n",
      "2020-09-02 12:39:00,312 - june.simulator - INFO - Date = 2020-09-13 09:00:00, number of deaths =  14, number of infected = 1\n",
      "2020-09-02 12:39:00,475 - june.simulator - INFO - Date = 2020-09-13 11:00:00, number of deaths =  14, number of infected = 1\n",
      "2020-09-02 12:39:00,638 - june.simulator - INFO - Date = 2020-09-14 00:00:00, number of deaths =  14, number of infected = 1\n",
      "2020-09-02 12:39:01,030 - june.simulator - INFO - Date = 2020-09-14 02:00:00, number of deaths =  14, number of infected = 1\n",
      "2020-09-02 12:39:01,413 - june.simulator - INFO - Date = 2020-09-14 04:00:00, number of deaths =  14, number of infected = 1\n",
      "2020-09-02 12:39:01,768 - june.simulator - INFO - Date = 2020-09-14 06:00:00, number of deaths =  14, number of infected = 1\n",
      "2020-09-02 12:39:02,104 - june.simulator - INFO - Date = 2020-09-14 08:00:00, number of deaths =  14, number of infected = 1\n",
      "2020-09-02 12:39:02,263 - june.simulator - INFO - Date = 2020-09-14 10:00:00, number of deaths =  14, number of infected = 1\n",
      "2020-09-02 12:39:02,421 - june.simulator - INFO - Date = 2020-09-15 00:00:00, number of deaths =  14, number of infected = 1\n",
      "2020-09-02 12:39:02,782 - june.simulator - INFO - Date = 2020-09-15 02:00:00, number of deaths =  14, number of infected = 1\n",
      "2020-09-02 12:39:03,115 - june.simulator - INFO - Date = 2020-09-15 04:00:00, number of deaths =  14, number of infected = 1\n",
      "2020-09-02 12:39:03,449 - june.simulator - INFO - Date = 2020-09-15 06:00:00, number of deaths =  14, number of infected = 1\n",
      "2020-09-02 12:39:03,800 - june.simulator - INFO - Date = 2020-09-15 08:00:00, number of deaths =  14, number of infected = 1\n",
      "2020-09-02 12:39:03,965 - june.simulator - INFO - Date = 2020-09-15 10:00:00, number of deaths =  14, number of infected = 1\n",
      "2020-09-02 12:39:04,117 - june.simulator - INFO - Date = 2020-09-16 00:00:00, number of deaths =  14, number of infected = 1\n",
      "2020-09-02 12:39:04,460 - june.simulator - INFO - Date = 2020-09-16 02:00:00, number of deaths =  14, number of infected = 1\n",
      "2020-09-02 12:39:04,776 - june.simulator - INFO - Date = 2020-09-16 04:00:00, number of deaths =  14, number of infected = 1\n",
      "2020-09-02 12:39:05,111 - june.simulator - INFO - Date = 2020-09-16 06:00:00, number of deaths =  14, number of infected = 1\n",
      "2020-09-02 12:39:05,428 - june.simulator - INFO - Date = 2020-09-16 08:00:00, number of deaths =  14, number of infected = 1\n",
      "2020-09-02 12:39:05,601 - june.simulator - INFO - Date = 2020-09-16 10:00:00, number of deaths =  14, number of infected = 1\n",
      "2020-09-02 12:39:05,761 - june.simulator - INFO - Date = 2020-09-17 00:00:00, number of deaths =  14, number of infected = 1\n",
      "2020-09-02 12:39:06,092 - june.simulator - INFO - Date = 2020-09-17 02:00:00, number of deaths =  14, number of infected = 1\n",
      "2020-09-02 12:39:06,421 - june.simulator - INFO - Date = 2020-09-17 04:00:00, number of deaths =  14, number of infected = 1\n",
      "2020-09-02 12:39:06,766 - june.simulator - INFO - Date = 2020-09-17 06:00:00, number of deaths =  14, number of infected = 1\n",
      "2020-09-02 12:39:07,100 - june.simulator - INFO - Date = 2020-09-17 08:00:00, number of deaths =  14, number of infected = 1\n",
      "2020-09-02 12:39:07,262 - june.simulator - INFO - Date = 2020-09-17 10:00:00, number of deaths =  14, number of infected = 1\n",
      "2020-09-02 12:39:07,411 - june.simulator - INFO - Date = 2020-09-18 00:00:00, number of deaths =  14, number of infected = 1\n",
      "2020-09-02 12:39:07,740 - june.simulator - INFO - Date = 2020-09-18 02:00:00, number of deaths =  14, number of infected = 1\n",
      "2020-09-02 12:39:08,061 - june.simulator - INFO - Date = 2020-09-18 04:00:00, number of deaths =  14, number of infected = 1\n",
      "2020-09-02 12:39:08,391 - june.simulator - INFO - Date = 2020-09-18 06:00:00, number of deaths =  14, number of infected = 1\n",
      "2020-09-02 12:39:08,724 - june.simulator - INFO - Date = 2020-09-18 08:00:00, number of deaths =  14, number of infected = 1\n",
      "2020-09-02 12:39:08,889 - june.simulator - INFO - Date = 2020-09-18 10:00:00, number of deaths =  14, number of infected = 1\n",
      "2020-09-02 12:39:09,034 - june.simulator - INFO - Date = 2020-09-19 00:00:00, number of deaths =  14, number of infected = 1\n",
      "2020-09-02 12:39:09,379 - june.simulator - INFO - Date = 2020-09-19 03:00:00, number of deaths =  14, number of infected = 1\n",
      "2020-09-02 12:39:09,724 - june.simulator - INFO - Date = 2020-09-19 05:00:00, number of deaths =  14, number of infected = 1\n",
      "2020-09-02 12:39:10,076 - june.simulator - INFO - Date = 2020-09-19 07:00:00, number of deaths =  14, number of infected = 1\n",
      "2020-09-02 12:39:10,473 - june.simulator - INFO - Date = 2020-09-19 09:00:00, number of deaths =  14, number of infected = 1\n",
      "2020-09-02 12:39:10,657 - june.simulator - INFO - Date = 2020-09-19 11:00:00, number of deaths =  14, number of infected = 1\n",
      "2020-09-02 12:39:10,821 - june.simulator - INFO - Date = 2020-09-20 00:00:00, number of deaths =  14, number of infected = 1\n",
      "2020-09-02 12:39:11,206 - june.simulator - INFO - Date = 2020-09-20 03:00:00, number of deaths =  14, number of infected = 1\n",
      "2020-09-02 12:39:11,615 - june.simulator - INFO - Date = 2020-09-20 05:00:00, number of deaths =  14, number of infected = 1\n",
      "2020-09-02 12:39:11,984 - june.simulator - INFO - Date = 2020-09-20 07:00:00, number of deaths =  14, number of infected = 1\n"
     ]
    },
    {
     "name": "stdout",
     "output_type": "stream",
     "text": [
      "2020-09-02 12:39:12,355 - june.simulator - INFO - Date = 2020-09-20 09:00:00, number of deaths =  14, number of infected = 1\n",
      "2020-09-02 12:39:12,523 - june.simulator - INFO - Date = 2020-09-20 11:00:00, number of deaths =  14, number of infected = 1\n",
      "CPU times: user 4min, sys: 12.1 s, total: 4min 12s\n",
      "Wall time: 4min 6s\n"
     ]
    }
   ],
   "source": [
    "%%time\n",
    "simulator.run()"
   ]
  },
  {
   "cell_type": "markdown",
   "metadata": {},
   "source": [
    "# Getting the results"
   ]
  },
  {
   "cell_type": "markdown",
   "metadata": {},
   "source": [
    "All results are stored in a json file specified in the ``save_path`` variable in the config file. We can also access it from ``world.logger`` directly."
   ]
  },
  {
   "cell_type": "code",
   "execution_count": 45,
   "metadata": {},
   "outputs": [],
   "source": [
    "import pandas as pd\n",
    "read = ReadLogger()"
   ]
  },
  {
   "cell_type": "code",
   "execution_count": 46,
   "metadata": {},
   "outputs": [],
   "source": [
    "read.load_infection_location()"
   ]
  },
  {
   "cell_type": "code",
   "execution_count": 47,
   "metadata": {},
   "outputs": [],
   "source": [
    "infection_locations = read.get_locations_infections()"
   ]
  },
  {
   "cell_type": "code",
   "execution_count": 48,
   "metadata": {},
   "outputs": [],
   "source": [
    "unique_locations, counts_locations = np.unique(\n",
    "                np.array(infection_locations),\n",
    "                return_counts=True)\n",
    "\n",
    "location_counts_df = pd.DataFrame(\n",
    "    {'locations': unique_locations,\n",
    "    'counts': counts_locations}\n",
    ")\n",
    "location_counts_df.set_index('locations', inplace=True)\n"
   ]
  },
  {
   "cell_type": "code",
   "execution_count": 49,
   "metadata": {},
   "outputs": [],
   "source": [
    "location_counts_df['percent_infections']= 100*(location_counts_df['counts'])/location_counts_df.values.sum()"
   ]
  },
  {
   "cell_type": "code",
   "execution_count": 50,
   "metadata": {},
   "outputs": [
    {
     "data": {
      "text/html": [
       "<div>\n",
       "<style scoped>\n",
       "    .dataframe tbody tr th:only-of-type {\n",
       "        vertical-align: middle;\n",
       "    }\n",
       "\n",
       "    .dataframe tbody tr th {\n",
       "        vertical-align: top;\n",
       "    }\n",
       "\n",
       "    .dataframe thead th {\n",
       "        text-align: right;\n",
       "    }\n",
       "</style>\n",
       "<table border=\"1\" class=\"dataframe\">\n",
       "  <thead>\n",
       "    <tr style=\"text-align: right;\">\n",
       "      <th></th>\n",
       "      <th>counts</th>\n",
       "      <th>percent_infections</th>\n",
       "    </tr>\n",
       "    <tr>\n",
       "      <th>locations</th>\n",
       "      <th></th>\n",
       "      <th></th>\n",
       "    </tr>\n",
       "  </thead>\n",
       "  <tbody>\n",
       "    <tr>\n",
       "      <th>communal</th>\n",
       "      <td>4387</td>\n",
       "      <td>19.231949</td>\n",
       "    </tr>\n",
       "    <tr>\n",
       "      <th>distribution</th>\n",
       "      <td>150</td>\n",
       "      <td>0.657577</td>\n",
       "    </tr>\n",
       "    <tr>\n",
       "      <th>e</th>\n",
       "      <td>10</td>\n",
       "      <td>0.043838</td>\n",
       "    </tr>\n",
       "    <tr>\n",
       "      <th>female</th>\n",
       "      <td>397</td>\n",
       "      <td>1.740388</td>\n",
       "    </tr>\n",
       "    <tr>\n",
       "      <th>n</th>\n",
       "      <td>5</td>\n",
       "      <td>0.021919</td>\n",
       "    </tr>\n",
       "    <tr>\n",
       "      <th>play</th>\n",
       "      <td>74</td>\n",
       "      <td>0.324405</td>\n",
       "    </tr>\n",
       "    <tr>\n",
       "      <th>pump</th>\n",
       "      <td>997</td>\n",
       "      <td>4.370698</td>\n",
       "    </tr>\n",
       "    <tr>\n",
       "      <th>religious</th>\n",
       "      <td>10</td>\n",
       "      <td>0.043838</td>\n",
       "    </tr>\n",
       "    <tr>\n",
       "      <th>shelter</th>\n",
       "      <td>16781</td>\n",
       "      <td>73.565385</td>\n",
       "    </tr>\n",
       "  </tbody>\n",
       "</table>\n",
       "</div>"
      ],
      "text/plain": [
       "              counts  percent_infections\n",
       "locations                               \n",
       "communal        4387           19.231949\n",
       "distribution     150            0.657577\n",
       "e                 10            0.043838\n",
       "female           397            1.740388\n",
       "n                  5            0.021919\n",
       "play              74            0.324405\n",
       "pump             997            4.370698\n",
       "religious         10            0.043838\n",
       "shelter        16781           73.565385"
      ]
     },
     "execution_count": 50,
     "metadata": {},
     "output_type": "execute_result"
    }
   ],
   "source": [
    "location_counts_df"
   ]
  },
  {
   "cell_type": "code",
   "execution_count": 51,
   "metadata": {},
   "outputs": [
    {
     "data": {
      "text/plain": [
       "Text(0.5, 0, 'location')"
      ]
     },
     "execution_count": 51,
     "metadata": {},
     "output_type": "execute_result"
    },
    {
     "data": {
      "image/png": "[encoded data removed]",
      "text/plain": [
       "<Figure size 432x288 with 1 Axes>"
      ]
     },
     "metadata": {
      "needs_background": "light"
     },
     "output_type": "display_data"
    }
   ],
   "source": [
    "import matplotlib.ticker as mtick\n",
    "\n",
    "ax = location_counts_df['percent_infections'].sort_values().plot.bar()\n",
    "ax.yaxis.set_major_formatter(mtick.PercentFormatter())\n",
    "plt.ylabel('Percentage of infections at location')\n",
    "plt.xlabel('location')"
   ]
  },
  {
   "cell_type": "code",
   "execution_count": 52,
   "metadata": {},
   "outputs": [],
   "source": [
    "for location in unique_locations:\n",
    "    read.locations_df[str(location)] = read.locations_df.apply(\n",
    "        lambda x: x.location.count(str(location)), axis=1\n",
    "    )\n",
    "read.locations_df.index = pd.to_datetime(read.locations_df.index)"
   ]
  },
  {
   "cell_type": "code",
   "execution_count": 53,
   "metadata": {},
   "outputs": [
    {
     "data": {
      "text/plain": [
       "<matplotlib.axes._subplots.AxesSubplot at 0x13d66b8d0>"
      ]
     },
     "execution_count": 53,
     "metadata": {},
     "output_type": "execute_result"
    },
    {
     "data": {
      "image/png": "[encoded data removed]",
      "text/plain": [
       "<Figure size 432x288 with 1 Axes>"
      ]
     },
     "metadata": {
      "needs_background": "light"
     },
     "output_type": "display_data"
    }
   ],
   "source": [
    "read.locations_df.iloc[:,3:].plot()"
   ]
  },
  {
   "cell_type": "markdown",
   "metadata": {},
   "source": [
    "## Where did outbreaks happen?"
   ]
  },
  {
   "cell_type": "code",
   "execution_count": 54,
   "metadata": {},
   "outputs": [],
   "source": [
    "unique_id, count_id =  np.unique(\n",
    "        np.array(read.locations_df['location_id'].sum()),\n",
    "        return_counts=True\n",
    ")"
   ]
  },
  {
   "cell_type": "code",
   "execution_count": 55,
   "metadata": {},
   "outputs": [
    {
     "data": {
      "text/plain": [
       "array(['communal_10', 'communal_51', 'communal_0', 'communal_92',\n",
       "       'communal_113'], dtype='<U26')"
      ]
     },
     "execution_count": 55,
     "metadata": {},
     "output_type": "execute_result"
    }
   ],
   "source": [
    "unique_id[np.argsort(count_id)[-5:]]"
   ]
  },
  {
   "cell_type": "code",
   "execution_count": 56,
   "metadata": {},
   "outputs": [
    {
     "data": {
      "text/plain": [
       "array([51, 52, 53, 58, 60])"
      ]
     },
     "execution_count": 56,
     "metadata": {},
     "output_type": "execute_result"
    }
   ],
   "source": [
    "count_id[np.argsort(count_id)[-5:]]"
   ]
  },
  {
   "cell_type": "code",
   "execution_count": 57,
   "metadata": {},
   "outputs": [
    {
     "data": {
      "text/plain": [
       "<matplotlib.legend.Legend at 0x13d81dc50>"
      ]
     },
     "execution_count": 57,
     "metadata": {},
     "output_type": "execute_result"
    },
    {
     "data": {
      "image/png": "[encoded data removed]",
      "text/plain": [
       "<Figure size 432x288 with 1 Axes>"
      ]
     },
     "metadata": {
      "needs_background": "light"
     },
     "output_type": "display_data"
    }
   ],
   "source": [
    "world_df = read.world_summary()\n",
    "world_df.plot()\n",
    "plt.legend()"
   ]
  },
  {
   "cell_type": "code",
   "execution_count": 58,
   "metadata": {},
   "outputs": [
    {
     "data": {
      "text/plain": [
       "<matplotlib.axes._subplots.AxesSubplot at 0x13e53d090>"
      ]
     },
     "execution_count": 58,
     "metadata": {},
     "output_type": "execute_result"
    },
    {
     "data": {
      "image/png": "[encoded data removed]",
      "text/plain": [
       "<Figure size 432x288 with 1 Axes>"
      ]
     },
     "metadata": {
      "needs_background": "light"
     },
     "output_type": "display_data"
    }
   ],
   "source": [
    "world_df['daily_infections'].plot()"
   ]
  },
  {
   "cell_type": "markdown",
   "metadata": {},
   "source": [
    "## Output to save"
   ]
  },
  {
   "cell_type": "code",
   "execution_count": 59,
   "metadata": {},
   "outputs": [
    {
     "name": "stdout",
     "output_type": "stream",
     "text": [
      "CPU times: user 4.25 s, sys: 135 ms, total: 4.39 s\n",
      "Wall time: 4.4 s\n"
     ]
    }
   ],
   "source": [
    "%%time\n",
    "summary = read.run_summary(\n",
    "    super_area_region_path=camp_data_path \n",
    "    / 'input/geography/area_super_area_region.csv'\n",
    ")"
   ]
  },
  {
   "cell_type": "code",
   "execution_count": 60,
   "metadata": {},
   "outputs": [
    {
     "data": {
      "text/html": [
       "<div>\n",
       "<style scoped>\n",
       "    .dataframe tbody tr th:only-of-type {\n",
       "        vertical-align: middle;\n",
       "    }\n",
       "\n",
       "    .dataframe tbody tr th {\n",
       "        vertical-align: top;\n",
       "    }\n",
       "\n",
       "    .dataframe thead th {\n",
       "        text-align: right;\n",
       "    }\n",
       "</style>\n",
       "<table border=\"1\" class=\"dataframe\">\n",
       "  <thead>\n",
       "    <tr style=\"text-align: right;\">\n",
       "      <th></th>\n",
       "      <th>super_area</th>\n",
       "      <th>current_infected</th>\n",
       "      <th>current_dead</th>\n",
       "      <th>current_recovered</th>\n",
       "      <th>current_susceptible</th>\n",
       "      <th>current_hospitalised</th>\n",
       "      <th>current_intensive_care</th>\n",
       "      <th>daily_recovered</th>\n",
       "      <th>daily_deaths_home</th>\n",
       "      <th>daily_deaths_hospital</th>\n",
       "      <th>daily_deaths_icu</th>\n",
       "      <th>daily_deaths</th>\n",
       "      <th>daily_hospital_admissions</th>\n",
       "      <th>daily_infections</th>\n",
       "      <th>region</th>\n",
       "      <th>location_id</th>\n",
       "    </tr>\n",
       "    <tr>\n",
       "      <th>time_stamp</th>\n",
       "      <th></th>\n",
       "      <th></th>\n",
       "      <th></th>\n",
       "      <th></th>\n",
       "      <th></th>\n",
       "      <th></th>\n",
       "      <th></th>\n",
       "      <th></th>\n",
       "      <th></th>\n",
       "      <th></th>\n",
       "      <th></th>\n",
       "      <th></th>\n",
       "      <th></th>\n",
       "      <th></th>\n",
       "      <th></th>\n",
       "      <th></th>\n",
       "    </tr>\n",
       "  </thead>\n",
       "  <tbody>\n",
       "    <tr>\n",
       "      <th>2020-05-24</th>\n",
       "      <td>CXB-219-A</td>\n",
       "      <td>0</td>\n",
       "      <td>0</td>\n",
       "      <td>0</td>\n",
       "      <td>5969</td>\n",
       "      <td>0</td>\n",
       "      <td>0</td>\n",
       "      <td>0</td>\n",
       "      <td>0</td>\n",
       "      <td>0</td>\n",
       "      <td>0</td>\n",
       "      <td>0</td>\n",
       "      <td>0.0</td>\n",
       "      <td>0</td>\n",
       "      <td>CXB-219</td>\n",
       "      <td>NaN</td>\n",
       "    </tr>\n",
       "    <tr>\n",
       "      <th>2020-05-25</th>\n",
       "      <td>CXB-219-A</td>\n",
       "      <td>0</td>\n",
       "      <td>0</td>\n",
       "      <td>0</td>\n",
       "      <td>5969</td>\n",
       "      <td>0</td>\n",
       "      <td>0</td>\n",
       "      <td>0</td>\n",
       "      <td>0</td>\n",
       "      <td>0</td>\n",
       "      <td>0</td>\n",
       "      <td>0</td>\n",
       "      <td>0.0</td>\n",
       "      <td>0</td>\n",
       "      <td>CXB-219</td>\n",
       "      <td>NaN</td>\n",
       "    </tr>\n",
       "    <tr>\n",
       "      <th>2020-05-26</th>\n",
       "      <td>CXB-219-A</td>\n",
       "      <td>0</td>\n",
       "      <td>0</td>\n",
       "      <td>0</td>\n",
       "      <td>5969</td>\n",
       "      <td>0</td>\n",
       "      <td>0</td>\n",
       "      <td>0</td>\n",
       "      <td>0</td>\n",
       "      <td>0</td>\n",
       "      <td>0</td>\n",
       "      <td>0</td>\n",
       "      <td>0.0</td>\n",
       "      <td>0</td>\n",
       "      <td>CXB-219</td>\n",
       "      <td>NaN</td>\n",
       "    </tr>\n",
       "    <tr>\n",
       "      <th>2020-05-27</th>\n",
       "      <td>CXB-219-A</td>\n",
       "      <td>0</td>\n",
       "      <td>0</td>\n",
       "      <td>0</td>\n",
       "      <td>5969</td>\n",
       "      <td>0</td>\n",
       "      <td>0</td>\n",
       "      <td>0</td>\n",
       "      <td>0</td>\n",
       "      <td>0</td>\n",
       "      <td>0</td>\n",
       "      <td>0</td>\n",
       "      <td>0.0</td>\n",
       "      <td>0</td>\n",
       "      <td>CXB-219</td>\n",
       "      <td>NaN</td>\n",
       "    </tr>\n",
       "    <tr>\n",
       "      <th>2020-05-28</th>\n",
       "      <td>CXB-219-A</td>\n",
       "      <td>0</td>\n",
       "      <td>0</td>\n",
       "      <td>0</td>\n",
       "      <td>5969</td>\n",
       "      <td>0</td>\n",
       "      <td>0</td>\n",
       "      <td>0</td>\n",
       "      <td>0</td>\n",
       "      <td>0</td>\n",
       "      <td>0</td>\n",
       "      <td>0</td>\n",
       "      <td>0.0</td>\n",
       "      <td>0</td>\n",
       "      <td>CXB-219</td>\n",
       "      <td>NaN</td>\n",
       "    </tr>\n",
       "    <tr>\n",
       "      <th>...</th>\n",
       "      <td>...</td>\n",
       "      <td>...</td>\n",
       "      <td>...</td>\n",
       "      <td>...</td>\n",
       "      <td>...</td>\n",
       "      <td>...</td>\n",
       "      <td>...</td>\n",
       "      <td>...</td>\n",
       "      <td>...</td>\n",
       "      <td>...</td>\n",
       "      <td>...</td>\n",
       "      <td>...</td>\n",
       "      <td>...</td>\n",
       "      <td>...</td>\n",
       "      <td>...</td>\n",
       "      <td>...</td>\n",
       "    </tr>\n",
       "    <tr>\n",
       "      <th>2020-09-16</th>\n",
       "      <td>CXB-219-D</td>\n",
       "      <td>0</td>\n",
       "      <td>2</td>\n",
       "      <td>4769</td>\n",
       "      <td>22</td>\n",
       "      <td>0</td>\n",
       "      <td>0</td>\n",
       "      <td>0</td>\n",
       "      <td>0</td>\n",
       "      <td>0</td>\n",
       "      <td>0</td>\n",
       "      <td>0</td>\n",
       "      <td>0.0</td>\n",
       "      <td>0</td>\n",
       "      <td>CXB-219</td>\n",
       "      <td>NaN</td>\n",
       "    </tr>\n",
       "    <tr>\n",
       "      <th>2020-09-17</th>\n",
       "      <td>CXB-219-D</td>\n",
       "      <td>0</td>\n",
       "      <td>2</td>\n",
       "      <td>4769</td>\n",
       "      <td>22</td>\n",
       "      <td>0</td>\n",
       "      <td>0</td>\n",
       "      <td>0</td>\n",
       "      <td>0</td>\n",
       "      <td>0</td>\n",
       "      <td>0</td>\n",
       "      <td>0</td>\n",
       "      <td>0.0</td>\n",
       "      <td>0</td>\n",
       "      <td>CXB-219</td>\n",
       "      <td>NaN</td>\n",
       "    </tr>\n",
       "    <tr>\n",
       "      <th>2020-09-18</th>\n",
       "      <td>CXB-219-D</td>\n",
       "      <td>0</td>\n",
       "      <td>2</td>\n",
       "      <td>4769</td>\n",
       "      <td>22</td>\n",
       "      <td>0</td>\n",
       "      <td>0</td>\n",
       "      <td>0</td>\n",
       "      <td>0</td>\n",
       "      <td>0</td>\n",
       "      <td>0</td>\n",
       "      <td>0</td>\n",
       "      <td>0.0</td>\n",
       "      <td>0</td>\n",
       "      <td>CXB-219</td>\n",
       "      <td>NaN</td>\n",
       "    </tr>\n",
       "    <tr>\n",
       "      <th>2020-09-19</th>\n",
       "      <td>CXB-219-D</td>\n",
       "      <td>0</td>\n",
       "      <td>2</td>\n",
       "      <td>4769</td>\n",
       "      <td>22</td>\n",
       "      <td>0</td>\n",
       "      <td>0</td>\n",
       "      <td>0</td>\n",
       "      <td>0</td>\n",
       "      <td>0</td>\n",
       "      <td>0</td>\n",
       "      <td>0</td>\n",
       "      <td>0.0</td>\n",
       "      <td>0</td>\n",
       "      <td>CXB-219</td>\n",
       "      <td>NaN</td>\n",
       "    </tr>\n",
       "    <tr>\n",
       "      <th>2020-09-20</th>\n",
       "      <td>CXB-219-D</td>\n",
       "      <td>0</td>\n",
       "      <td>2</td>\n",
       "      <td>4769</td>\n",
       "      <td>22</td>\n",
       "      <td>0</td>\n",
       "      <td>0</td>\n",
       "      <td>0</td>\n",
       "      <td>0</td>\n",
       "      <td>0</td>\n",
       "      <td>0</td>\n",
       "      <td>0</td>\n",
       "      <td>0.0</td>\n",
       "      <td>0</td>\n",
       "      <td>CXB-219</td>\n",
       "      <td>NaN</td>\n",
       "    </tr>\n",
       "  </tbody>\n",
       "</table>\n",
       "<p>480 rows × 16 columns</p>\n",
       "</div>"
      ],
      "text/plain": [
       "           super_area  current_infected  current_dead  current_recovered  \\\n",
       "time_stamp                                                                 \n",
       "2020-05-24  CXB-219-A                 0             0                  0   \n",
       "2020-05-25  CXB-219-A                 0             0                  0   \n",
       "2020-05-26  CXB-219-A                 0             0                  0   \n",
       "2020-05-27  CXB-219-A                 0             0                  0   \n",
       "2020-05-28  CXB-219-A                 0             0                  0   \n",
       "...               ...               ...           ...                ...   \n",
       "2020-09-16  CXB-219-D                 0             2               4769   \n",
       "2020-09-17  CXB-219-D                 0             2               4769   \n",
       "2020-09-18  CXB-219-D                 0             2               4769   \n",
       "2020-09-19  CXB-219-D                 0             2               4769   \n",
       "2020-09-20  CXB-219-D                 0             2               4769   \n",
       "\n",
       "            current_susceptible  current_hospitalised  current_intensive_care  \\\n",
       "time_stamp                                                                      \n",
       "2020-05-24                 5969                     0                       0   \n",
       "2020-05-25                 5969                     0                       0   \n",
       "2020-05-26                 5969                     0                       0   \n",
       "2020-05-27                 5969                     0                       0   \n",
       "2020-05-28                 5969                     0                       0   \n",
       "...                         ...                   ...                     ...   \n",
       "2020-09-16                   22                     0                       0   \n",
       "2020-09-17                   22                     0                       0   \n",
       "2020-09-18                   22                     0                       0   \n",
       "2020-09-19                   22                     0                       0   \n",
       "2020-09-20                   22                     0                       0   \n",
       "\n",
       "            daily_recovered  daily_deaths_home  daily_deaths_hospital  \\\n",
       "time_stamp                                                              \n",
       "2020-05-24                0                  0                      0   \n",
       "2020-05-25                0                  0                      0   \n",
       "2020-05-26                0                  0                      0   \n",
       "2020-05-27                0                  0                      0   \n",
       "2020-05-28                0                  0                      0   \n",
       "...                     ...                ...                    ...   \n",
       "2020-09-16                0                  0                      0   \n",
       "2020-09-17                0                  0                      0   \n",
       "2020-09-18                0                  0                      0   \n",
       "2020-09-19                0                  0                      0   \n",
       "2020-09-20                0                  0                      0   \n",
       "\n",
       "            daily_deaths_icu  daily_deaths  daily_hospital_admissions  \\\n",
       "time_stamp                                                              \n",
       "2020-05-24                 0             0                        0.0   \n",
       "2020-05-25                 0             0                        0.0   \n",
       "2020-05-26                 0             0                        0.0   \n",
       "2020-05-27                 0             0                        0.0   \n",
       "2020-05-28                 0             0                        0.0   \n",
       "...                      ...           ...                        ...   \n",
       "2020-09-16                 0             0                        0.0   \n",
       "2020-09-17                 0             0                        0.0   \n",
       "2020-09-18                 0             0                        0.0   \n",
       "2020-09-19                 0             0                        0.0   \n",
       "2020-09-20                 0             0                        0.0   \n",
       "\n",
       "            daily_infections   region location_id  \n",
       "time_stamp                                         \n",
       "2020-05-24                 0  CXB-219         NaN  \n",
       "2020-05-25                 0  CXB-219         NaN  \n",
       "2020-05-26                 0  CXB-219         NaN  \n",
       "2020-05-27                 0  CXB-219         NaN  \n",
       "2020-05-28                 0  CXB-219         NaN  \n",
       "...                      ...      ...         ...  \n",
       "2020-09-16                 0  CXB-219         NaN  \n",
       "2020-09-17                 0  CXB-219         NaN  \n",
       "2020-09-18                 0  CXB-219         NaN  \n",
       "2020-09-19                 0  CXB-219         NaN  \n",
       "2020-09-20                 0  CXB-219         NaN  \n",
       "\n",
       "[480 rows x 16 columns]"
      ]
     },
     "execution_count": 60,
     "metadata": {},
     "output_type": "execute_result"
    }
   ],
   "source": [
    "summary"
   ]
  },
  {
   "cell_type": "code",
   "execution_count": null,
   "metadata": {},
   "outputs": [],
   "source": []
  },
  {
   "cell_type": "code",
   "execution_count": null,
   "metadata": {},
   "outputs": [],
   "source": []
  }
 ],
 "metadata": {
  "kernelspec": {
   "display_name": "campmodelling",
   "language": "python",
   "name": "campmodelling"
  },
  "language_info": {
   "codemirror_mode": {
    "name": "ipython",
    "version": 3
   },
   "file_extension": ".py",
   "mimetype": "text/x-python",
   "name": "python",
   "nbconvert_exporter": "python",
   "pygments_lexer": "ipython3",
   "version": "3.7.7"
  }
 },
 "nbformat": 4,
 "nbformat_minor": 4
}
