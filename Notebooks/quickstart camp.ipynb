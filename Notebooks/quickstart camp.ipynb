{
 "cells": [
  {
   "cell_type": "code",
   "execution_count": 1,
   "metadata": {},
   "outputs": [],
   "source": [
    "%load_ext autoreload\n",
    "%autoreload 2"
   ]
  },
  {
   "cell_type": "code",
   "execution_count": 2,
   "metadata": {},
   "outputs": [],
   "source": [
    "import warnings\n",
    "warnings.filterwarnings('ignore')"
   ]
  },
  {
   "cell_type": "code",
   "execution_count": 3,
   "metadata": {},
   "outputs": [],
   "source": [
    "import numpy as np\n",
    "import matplotlib.pyplot as plt \n",
    "import pandas as pd\n",
    "import time\n",
    "import matplotlib.pyplot as plt\n",
    "import seaborn as sns\n",
    "from datetime import datetime\n",
    "import sys\n",
    "sys.path.append(\"../camp_scripts\") # change accordingly\n",
    "sns.set_context('notebook')"
   ]
  },
  {
   "cell_type": "code",
   "execution_count": 4,
   "metadata": {},
   "outputs": [
    {
     "name": "stderr",
     "output_type": "stream",
     "text": [
      "No --data argument given - defaulting to:\n",
      "/Users/josephbullock/Documents/campmodelling/JUNE/data\n",
      "No --configs argument given - defaulting to:\n",
      "/Users/josephbullock/Documents/campmodelling/JUNE/configs\n",
      "WARNING:camps.paths:No --data argument given - defaulting to:\n",
      "/Users/josephbullock/Documents/campmodelling/JUNE/data\n",
      "WARNING:camps.paths:No --configs argument given - defaulting to:\n",
      "/Users/josephbullock/Documents/campmodelling/JUNE/configs\n",
      "WARNING:camps.paths:No --camp_data argument given - defaulting to:\n",
      "/Users/josephbullock/Documents/campmodelling/JUNE/camp_data\n",
      "WARNING:camps.paths:No --configs_camps argument given - defaulting to:\n",
      "/Users/josephbullock/Documents/campmodelling/JUNE/configs_camps\n"
     ]
    }
   ],
   "source": [
    "from june.demography.geography import Geography\n",
    "from june.demography.demography import load_age_and_sex_generators_for_bins, Demography, Population\n",
    "from june.paths import data_path\n",
    "from camps.paths import camp_data_path\n",
    "from june import World\n",
    "from june.simulator import Simulator\n",
    "from june.seed import Seed\n",
    "from june.infection.infection import InfectionSelector\n",
    "from june.interaction import ContactAveraging\n",
    "from june.groups import Hospital, Hospitals\n",
    "from june.distributors import HospitalDistributor\n",
    "from june.world import generate_world_from_hdf5\n",
    "from june.groups import Cemeteries\n",
    "from june.policy import Policy, Policies\n",
    "from june.logger.read_logger import ReadLogger\n",
    "from june.groups.leisure import leisure\n",
    "from camp_creation import generate_empty_world, populate_world, distribute_people_to_households # this is loaded from the ../camp_scripts folder"
   ]
  },
  {
   "cell_type": "code",
   "execution_count": 5,
   "metadata": {},
   "outputs": [],
   "source": [
    "from camps.groups import PumpLatrines, PumpLatrineDistributor\n",
    "from camps.groups import DistributionCenters, DistributionCenterDistributor\n",
    "from camps.groups import Communals, CommunalDistributor\n",
    "from camps.groups import FemaleCommunals, FemaleCommunalDistributor\n",
    "from june.groups.leisure import HouseholdVisitsDistributor"
   ]
  },
  {
   "cell_type": "markdown",
   "metadata": {},
   "source": [
    "## Initialize the world"
   ]
  },
  {
   "cell_type": "code",
   "execution_count": 6,
   "metadata": {},
   "outputs": [
    {
     "name": "stdout",
     "output_type": "stream",
     "text": [
      "2020-06-16 12:26:56,082 - june.demography.geography - INFO - There are 65 areas and 4 super_areas in the world.\n"
     ]
    }
   ],
   "source": [
    "# create empty world's geography\n",
    "world = generate_empty_world(filter_key = {\"region\" : [\"CXB-219\"]})"
   ]
  },
  {
   "cell_type": "code",
   "execution_count": 7,
   "metadata": {},
   "outputs": [],
   "source": [
    "# populate empty world\n",
    "populate_world(world)"
   ]
  },
  {
   "cell_type": "code",
   "execution_count": 8,
   "metadata": {},
   "outputs": [],
   "source": [
    "# distribute people to households\n",
    "distribute_people_to_households(world)"
   ]
  },
  {
   "cell_type": "code",
   "execution_count": 9,
   "metadata": {},
   "outputs": [
    {
     "name": "stdout",
     "output_type": "stream",
     "text": [
      "2020-06-16 12:26:56,827 - june.groups.hospital - INFO - There are 8 hospitals in the world.\n"
     ]
    }
   ],
   "source": [
    "hospitals= Hospitals.from_file(\n",
    "    filename=camp_data_path / 'input/hospitals/hospitals.csv'\n",
    ")\n",
    "world.hospitals = hospitals\n",
    "hospital_distributor = HospitalDistributor(hospitals, \n",
    "                                           medic_min_age=20,\n",
    "                                           patients_per_medic=10)\n",
    "hospital_distributor.distribute_medics_from_world(world.people)\n"
   ]
  },
  {
   "cell_type": "code",
   "execution_count": 10,
   "metadata": {},
   "outputs": [],
   "source": [
    "world.pump_latrines = PumpLatrines.for_areas(world.areas)\n",
    "world.distribution_centers = DistributionCenters.for_areas(world.areas)\n",
    "world.communals = Communals.for_areas(world.areas)\n",
    "world.female_communals = FemaleCommunals.for_areas(world.areas)"
   ]
  },
  {
   "cell_type": "code",
   "execution_count": 11,
   "metadata": {},
   "outputs": [],
   "source": [
    "world.box_mode = False\n",
    "world.cemeteries = Cemeteries()"
   ]
  },
  {
   "cell_type": "markdown",
   "metadata": {},
   "source": [
    "## Geography exploration"
   ]
  },
  {
   "cell_type": "markdown",
   "metadata": {},
   "source": [
    "### UNHCR camp blocks inside the World"
   ]
  },
  {
   "cell_type": "code",
   "execution_count": 12,
   "metadata": {},
   "outputs": [],
   "source": [
    "super_areas = []\n",
    "for super_area in world.super_areas:\n",
    "    super_areas.append(super_area.name)"
   ]
  },
  {
   "cell_type": "code",
   "execution_count": 13,
   "metadata": {},
   "outputs": [
    {
     "data": {
      "text/plain": [
       "['CXB-219-A', 'CXB-219-B', 'CXB-219-C', 'CXB-219-D']"
      ]
     },
     "execution_count": 13,
     "metadata": {},
     "output_type": "execute_result"
    }
   ],
   "source": [
    "super_areas[:5]"
   ]
  },
  {
   "cell_type": "markdown",
   "metadata": {},
   "source": [
    "### Mahjee blocks inside World"
   ]
  },
  {
   "cell_type": "code",
   "execution_count": 14,
   "metadata": {},
   "outputs": [],
   "source": [
    "areas = []\n",
    "for area in world.areas:\n",
    "    areas.append(area.name)"
   ]
  },
  {
   "cell_type": "code",
   "execution_count": 15,
   "metadata": {},
   "outputs": [
    {
     "data": {
      "text/plain": [
       "['CXB-219-062', 'CXB-219-063', 'CXB-219-061', 'CXB-219-060', 'CXB-219-065']"
      ]
     },
     "execution_count": 15,
     "metadata": {},
     "output_type": "execute_result"
    }
   ],
   "source": [
    "areas[:5]"
   ]
  },
  {
   "cell_type": "markdown",
   "metadata": {},
   "source": [
    "## Demography exploration"
   ]
  },
  {
   "cell_type": "markdown",
   "metadata": {},
   "source": [
    "### UNHCR block residents"
   ]
  },
  {
   "cell_type": "code",
   "execution_count": 16,
   "metadata": {},
   "outputs": [],
   "source": [
    "sample_ages = []\n",
    "sample_sexes = []\n",
    "for person in world.super_areas.members[0].people:\n",
    "    sample_ages.append(person.age)\n",
    "    sample_sexes.append(person.sex)"
   ]
  },
  {
   "cell_type": "code",
   "execution_count": 17,
   "metadata": {},
   "outputs": [
    {
     "data": {
      "text/plain": [
       "(['f', 'f', 'm', 'm', 'm'], [30, 60, 49, 26, 52])"
      ]
     },
     "execution_count": 17,
     "metadata": {},
     "output_type": "execute_result"
    }
   ],
   "source": [
    "sample_sexes[:5], sample_ages[:5]"
   ]
  },
  {
   "cell_type": "code",
   "execution_count": 18,
   "metadata": {},
   "outputs": [
    {
     "data": {
      "image/png": "[encoded data removed]",
      "text/plain": [
       "<Figure size 432x288 with 1 Axes>"
      ]
     },
     "metadata": {
      "needs_background": "light"
     },
     "output_type": "display_data"
    }
   ],
   "source": [
    "ages, counts = np.unique(sample_ages, return_counts=True)\n",
    "plt.bar(ages, counts)\n",
    "plt.title('super area: {} age distribution'.format(world.super_areas.members[0].name))\n",
    "plt.show()"
   ]
  },
  {
   "cell_type": "code",
   "execution_count": 19,
   "metadata": {},
   "outputs": [
    {
     "name": "stdout",
     "output_type": "stream",
     "text": [
      "The % children between ages 0-16 is 48.0%\n"
     ]
    }
   ],
   "source": [
    "print ('The % children between ages 0-16 is {}%'.format(round(np.sum(counts[:16])/(np.sum(counts[:16])+np.sum(counts[16:]))*100)))"
   ]
  },
  {
   "cell_type": "markdown",
   "metadata": {},
   "source": [
    "## Households"
   ]
  },
  {
   "cell_type": "markdown",
   "metadata": {},
   "source": [
    "### Household size distribution"
   ]
  },
  {
   "cell_type": "code",
   "execution_count": 20,
   "metadata": {},
   "outputs": [
    {
     "data": {
      "image/png": "[encoded data removed]",
      "text/plain": [
       "<Figure size 432x288 with 1 Axes>"
      ]
     },
     "metadata": {
      "needs_background": "light"
     },
     "output_type": "display_data"
    }
   ],
   "source": [
    "household_sizes = [household.size for household in world.households]\n",
    "plt.hist(household_sizes, density=True, bins=np.arange(0,12))\n",
    "plt.xlabel(\"Household size\")\n",
    "plt.ylabel(\"Frequency\")\n",
    "plt.axvline(np.mean(household_sizes), color=\"cyan\")\n",
    "plt.text(8, 0.150, f\"Avg. size: {(np.mean(household_sizes)):.2f}\")\n",
    "plt.show()"
   ]
  },
  {
   "cell_type": "markdown",
   "metadata": {},
   "source": [
    "## Activity exploration"
   ]
  },
  {
   "cell_type": "markdown",
   "metadata": {},
   "source": [
    "### Pumps and latrines "
   ]
  },
  {
   "cell_type": "code",
   "execution_count": 21,
   "metadata": {},
   "outputs": [],
   "source": [
    "pumps_and_latrines = []\n",
    "for pump_latrine in world.areas.members[0].pump_latrines:\n",
    "    pumps_and_latrines.append(pump_latrine)"
   ]
  },
  {
   "cell_type": "code",
   "execution_count": 22,
   "metadata": {},
   "outputs": [
    {
     "name": "stdout",
     "output_type": "stream",
     "text": [
      "There are 3 pumps and latrines in area CXB-219-062\n"
     ]
    }
   ],
   "source": [
    "print ('There are {} pumps and latrines in area {}'.format(len(pumps_and_latrines), world.areas.members[0].name))"
   ]
  },
  {
   "cell_type": "markdown",
   "metadata": {},
   "source": [
    "### Distribution centers"
   ]
  },
  {
   "cell_type": "code",
   "execution_count": 23,
   "metadata": {},
   "outputs": [],
   "source": [
    "distribution_centers = []\n",
    "for center in world.distribution_centers:\n",
    "    distribution_centers.append(center)"
   ]
  },
  {
   "cell_type": "code",
   "execution_count": 24,
   "metadata": {},
   "outputs": [
    {
     "data": {
      "text/plain": [
       "array([21.1962 , 92.14936])"
      ]
     },
     "execution_count": 24,
     "metadata": {},
     "output_type": "execute_result"
    }
   ],
   "source": [
    "distribution_centers[0].coordinates"
   ]
  },
  {
   "cell_type": "markdown",
   "metadata": {},
   "source": [
    "### Communal spaces"
   ]
  },
  {
   "cell_type": "code",
   "execution_count": 25,
   "metadata": {},
   "outputs": [],
   "source": [
    "communal_spaces = []\n",
    "for space in world.communals:\n",
    "    communal_spaces.append(space)"
   ]
  },
  {
   "cell_type": "code",
   "execution_count": 26,
   "metadata": {},
   "outputs": [
    {
     "data": {
      "text/plain": [
       "array([21.19621, 92.14924])"
      ]
     },
     "execution_count": 26,
     "metadata": {},
     "output_type": "execute_result"
    }
   ],
   "source": [
    "communal_spaces[0].coordinates"
   ]
  },
  {
   "cell_type": "markdown",
   "metadata": {},
   "source": [
    "### Female friendly communal spaces"
   ]
  },
  {
   "cell_type": "code",
   "execution_count": 27,
   "metadata": {},
   "outputs": [],
   "source": [
    "female_communal_spaces = []\n",
    "for space in world.female_communals:\n",
    "    female_communal_spaces.append(space)"
   ]
  },
  {
   "cell_type": "code",
   "execution_count": 28,
   "metadata": {},
   "outputs": [
    {
     "data": {
      "text/plain": [
       "array([21.19588, 92.152  ])"
      ]
     },
     "execution_count": 28,
     "metadata": {},
     "output_type": "execute_result"
    }
   ],
   "source": [
    "female_communal_spaces[0].coordinates"
   ]
  },
  {
   "cell_type": "markdown",
   "metadata": {},
   "source": [
    "# Adding the infection"
   ]
  },
  {
   "cell_type": "code",
   "execution_count": 29,
   "metadata": {},
   "outputs": [],
   "source": [
    "selector = InfectionSelector.from_file()"
   ]
  },
  {
   "cell_type": "markdown",
   "metadata": {},
   "source": [
    "# Adding the interaction"
   ]
  },
  {
   "cell_type": "code",
   "execution_count": 30,
   "metadata": {},
   "outputs": [],
   "source": [
    "interaction = ContactAveraging.from_file(config_filename='../configs_camps/defaults/interaction/ContractInteraction.yaml',\\\n",
    "                                         selector=selector)"
   ]
  },
  {
   "cell_type": "markdown",
   "metadata": {},
   "source": [
    "# Set policies"
   ]
  },
  {
   "cell_type": "code",
   "execution_count": 31,
   "metadata": {},
   "outputs": [],
   "source": [
    "social_distance = Policy(policy=\"social_distance\",\n",
    "                         start_time=datetime(2021, 3, 25), \n",
    "                         end_time=datetime(2021, 4, 1))\n",
    "policies = Policies.from_file([social_distance])"
   ]
  },
  {
   "cell_type": "markdown",
   "metadata": {},
   "source": [
    "# Seed the disease"
   ]
  },
  {
   "cell_type": "code",
   "execution_count": 32,
   "metadata": {},
   "outputs": [],
   "source": [
    "seed = Seed(world.super_areas,\n",
    "           selector)\n",
    "\n",
    "seed.unleash_virus(n_cases=5)"
   ]
  },
  {
   "cell_type": "markdown",
   "metadata": {},
   "source": [
    "# Run the simulation"
   ]
  },
  {
   "cell_type": "code",
   "execution_count": 33,
   "metadata": {},
   "outputs": [],
   "source": [
    "CONFIG_PATH = \"../configs_camps/config_example.yaml\"\n",
    "\n",
    "leisure_instance = leisure.generate_leisure_for_config(\n",
    "            world=world\n",
    ")\n",
    "leisure_instance.leisure_distributors = [\n",
    "    PumpLatrineDistributor.from_config(pump_latrines=world.pump_latrines),\n",
    "    DistributionCenterDistributor.from_config(distribution_centers=world.distribution_centers),\n",
    "    CommunalDistributor.from_config(communals=world.communals),\n",
    "    FemaleCommunalDistributor.from_config(female_communals=world.female_communals),\n",
    "    HouseholdVisitsDistributor.from_config(super_areas=world.super_areas)\n",
    "]\n",
    "\n",
    "simulator = Simulator.from_file(\n",
    "     world, interaction, selector,\n",
    "    leisure = leisure_instance,\n",
    "    policies=policies,\n",
    "    config_filename = CONFIG_PATH\n",
    ")"
   ]
  },
  {
   "cell_type": "code",
   "execution_count": 34,
   "metadata": {},
   "outputs": [],
   "source": [
    "simulator.timer.reset()"
   ]
  },
  {
   "cell_type": "code",
   "execution_count": 35,
   "metadata": {
    "scrolled": true
   },
   "outputs": [
    {
     "name": "stdout",
     "output_type": "stream",
     "text": [
      "2020-06-16 12:26:58,571 - june.simulator - INFO - Starting group_dynamics for 70 days at day 0\n",
      "2020-06-16 12:26:58,572 - june.simulator - INFO - starting the loop ..., at 0 days, to run for 70 days\n",
      "2020-06-16 12:26:59,845 - june.simulator - INFO - Date = 2020-03-07 03:00:00, number of deaths =  0, number of infected = 5\n",
      "2020-06-16 12:27:00,536 - june.simulator - INFO - Date = 2020-03-07 05:00:00, number of deaths =  0, number of infected = 5\n",
      "2020-06-16 12:27:01,049 - june.simulator - INFO - Date = 2020-03-07 07:00:00, number of deaths =  0, number of infected = 5\n",
      "2020-06-16 12:27:01,537 - june.simulator - INFO - Date = 2020-03-07 09:00:00, number of deaths =  0, number of infected = 5\n",
      "2020-06-16 12:27:01,755 - june.simulator - INFO - Date = 2020-03-07 11:00:00, number of deaths =  0, number of infected = 5\n",
      "2020-06-16 12:27:02,029 - june.simulator - INFO - Date = 2020-03-08 00:00:00, number of deaths =  0, number of infected = 5\n",
      "2020-06-16 12:27:02,486 - june.simulator - INFO - Date = 2020-03-08 03:00:00, number of deaths =  0, number of infected = 5\n",
      "2020-06-16 12:27:02,904 - june.simulator - INFO - Date = 2020-03-08 05:00:00, number of deaths =  0, number of infected = 5\n",
      "2020-06-16 12:27:03,311 - june.simulator - INFO - Date = 2020-03-08 07:00:00, number of deaths =  0, number of infected = 5\n",
      "2020-06-16 12:27:03,714 - june.simulator - INFO - Date = 2020-03-08 09:00:00, number of deaths =  0, number of infected = 5\n",
      "2020-06-16 12:27:03,913 - june.simulator - INFO - Date = 2020-03-08 11:00:00, number of deaths =  0, number of infected = 5\n",
      "2020-06-16 12:27:04,130 - june.simulator - INFO - Date = 2020-03-09 00:00:00, number of deaths =  0, number of infected = 5\n",
      "2020-06-16 12:27:04,546 - june.simulator - INFO - Date = 2020-03-09 02:00:00, number of deaths =  0, number of infected = 5\n",
      "2020-06-16 12:27:04,963 - june.simulator - INFO - Date = 2020-03-09 04:00:00, number of deaths =  0, number of infected = 5\n",
      "2020-06-16 12:27:05,356 - june.simulator - INFO - Date = 2020-03-09 06:00:00, number of deaths =  0, number of infected = 5\n",
      "2020-06-16 12:27:05,749 - june.simulator - INFO - Date = 2020-03-09 08:00:00, number of deaths =  0, number of infected = 5\n",
      "2020-06-16 12:27:05,958 - june.simulator - INFO - Date = 2020-03-09 10:00:00, number of deaths =  0, number of infected = 5\n",
      "2020-06-16 12:27:06,175 - june.simulator - INFO - Date = 2020-03-10 00:00:00, number of deaths =  0, number of infected = 5\n",
      "2020-06-16 12:27:06,559 - june.simulator - INFO - Date = 2020-03-10 02:00:00, number of deaths =  0, number of infected = 5\n",
      "2020-06-16 12:27:06,935 - june.simulator - INFO - Date = 2020-03-10 04:00:00, number of deaths =  0, number of infected = 5\n",
      "2020-06-16 12:27:07,253 - june.simulator - INFO - Date = 2020-03-10 06:00:00, number of deaths =  0, number of infected = 5\n",
      "2020-06-16 12:27:07,556 - june.simulator - INFO - Date = 2020-03-10 08:00:00, number of deaths =  0, number of infected = 5\n",
      "2020-06-16 12:27:07,746 - june.simulator - INFO - Date = 2020-03-10 10:00:00, number of deaths =  0, number of infected = 5\n",
      "2020-06-16 12:27:07,973 - june.simulator - INFO - Date = 2020-03-11 00:00:00, number of deaths =  0, number of infected = 5\n",
      "2020-06-16 12:27:08,302 - june.simulator - INFO - Date = 2020-03-11 02:00:00, number of deaths =  0, number of infected = 5\n",
      "2020-06-16 12:27:08,585 - june.simulator - INFO - Date = 2020-03-11 04:00:00, number of deaths =  0, number of infected = 5\n",
      "2020-06-16 12:27:08,867 - june.simulator - INFO - Date = 2020-03-11 06:00:00, number of deaths =  0, number of infected = 5\n",
      "2020-06-16 12:27:09,153 - june.simulator - INFO - Date = 2020-03-11 08:00:00, number of deaths =  0, number of infected = 6\n",
      "2020-06-16 12:27:09,320 - june.simulator - INFO - Date = 2020-03-11 10:00:00, number of deaths =  0, number of infected = 6\n",
      "2020-06-16 12:27:09,529 - june.simulator - INFO - Date = 2020-03-12 00:00:00, number of deaths =  0, number of infected = 7\n",
      "2020-06-16 12:27:09,839 - june.simulator - INFO - Date = 2020-03-12 02:00:00, number of deaths =  0, number of infected = 8\n",
      "2020-06-16 12:27:10,114 - june.simulator - INFO - Date = 2020-03-12 04:00:00, number of deaths =  0, number of infected = 8\n",
      "2020-06-16 12:27:10,360 - june.simulator - INFO - Date = 2020-03-12 06:00:00, number of deaths =  0, number of infected = 8\n",
      "2020-06-16 12:27:10,622 - june.simulator - INFO - Date = 2020-03-12 08:00:00, number of deaths =  0, number of infected = 8\n",
      "2020-06-16 12:27:10,795 - june.simulator - INFO - Date = 2020-03-12 10:00:00, number of deaths =  0, number of infected = 8\n",
      "2020-06-16 12:27:11,013 - june.simulator - INFO - Date = 2020-03-13 00:00:00, number of deaths =  0, number of infected = 11\n",
      "2020-06-16 12:27:11,311 - june.simulator - INFO - Date = 2020-03-13 02:00:00, number of deaths =  0, number of infected = 12\n",
      "2020-06-16 12:27:11,559 - june.simulator - INFO - Date = 2020-03-13 04:00:00, number of deaths =  0, number of infected = 12\n",
      "2020-06-16 12:27:11,798 - june.simulator - INFO - Date = 2020-03-13 06:00:00, number of deaths =  0, number of infected = 12\n",
      "2020-06-16 12:27:12,034 - june.simulator - INFO - Date = 2020-03-13 08:00:00, number of deaths =  0, number of infected = 12\n",
      "2020-06-16 12:27:12,201 - june.simulator - INFO - Date = 2020-03-13 10:00:00, number of deaths =  0, number of infected = 12\n",
      "2020-06-16 12:27:12,410 - june.simulator - INFO - Date = 2020-03-14 00:00:00, number of deaths =  0, number of infected = 13\n",
      "2020-06-16 12:27:12,698 - june.simulator - INFO - Date = 2020-03-14 03:00:00, number of deaths =  0, number of infected = 13\n",
      "2020-06-16 12:27:12,935 - june.simulator - INFO - Date = 2020-03-14 05:00:00, number of deaths =  0, number of infected = 14\n",
      "2020-06-16 12:27:13,156 - june.simulator - INFO - Date = 2020-03-14 07:00:00, number of deaths =  0, number of infected = 14\n",
      "2020-06-16 12:27:13,377 - june.simulator - INFO - Date = 2020-03-14 09:00:00, number of deaths =  0, number of infected = 14\n",
      "2020-06-16 12:27:13,545 - june.simulator - INFO - Date = 2020-03-14 11:00:00, number of deaths =  0, number of infected = 14\n",
      "2020-06-16 12:27:13,766 - june.simulator - INFO - Date = 2020-03-15 00:00:00, number of deaths =  0, number of infected = 17\n",
      "2020-06-16 12:27:14,043 - june.simulator - INFO - Date = 2020-03-15 03:00:00, number of deaths =  0, number of infected = 17\n",
      "2020-06-16 12:27:14,266 - june.simulator - INFO - Date = 2020-03-15 05:00:00, number of deaths =  0, number of infected = 18\n",
      "2020-06-16 12:27:14,487 - june.simulator - INFO - Date = 2020-03-15 07:00:00, number of deaths =  0, number of infected = 18\n",
      "2020-06-16 12:27:14,729 - june.simulator - INFO - Date = 2020-03-15 09:00:00, number of deaths =  0, number of infected = 19\n",
      "2020-06-16 12:27:14,883 - june.simulator - INFO - Date = 2020-03-15 11:00:00, number of deaths =  0, number of infected = 19\n",
      "2020-06-16 12:27:15,103 - june.simulator - INFO - Date = 2020-03-16 00:00:00, number of deaths =  0, number of infected = 19\n",
      "2020-06-16 12:27:15,380 - june.simulator - INFO - Date = 2020-03-16 02:00:00, number of deaths =  0, number of infected = 20\n",
      "2020-06-16 12:27:15,579 - june.simulator - INFO - Date = 2020-03-16 04:00:00, number of deaths =  0, number of infected = 20\n",
      "2020-06-16 12:27:15,771 - june.simulator - INFO - Date = 2020-03-16 06:00:00, number of deaths =  0, number of infected = 21\n",
      "2020-06-16 12:27:15,965 - june.simulator - INFO - Date = 2020-03-16 08:00:00, number of deaths =  0, number of infected = 22\n",
      "2020-06-16 12:27:16,111 - june.simulator - INFO - Date = 2020-03-16 10:00:00, number of deaths =  0, number of infected = 22\n",
      "2020-06-16 12:27:16,325 - june.simulator - INFO - Date = 2020-03-17 00:00:00, number of deaths =  0, number of infected = 24\n",
      "2020-06-16 12:27:16,582 - june.simulator - INFO - Date = 2020-03-17 02:00:00, number of deaths =  0, number of infected = 25\n",
      "2020-06-16 12:27:16,761 - june.simulator - INFO - Date = 2020-03-17 04:00:00, number of deaths =  0, number of infected = 25\n",
      "2020-06-16 12:27:16,947 - june.simulator - INFO - Date = 2020-03-17 06:00:00, number of deaths =  0, number of infected = 25\n",
      "2020-06-16 12:27:17,120 - june.simulator - INFO - Date = 2020-03-17 08:00:00, number of deaths =  0, number of infected = 25\n",
      "2020-06-16 12:27:17,266 - june.simulator - INFO - Date = 2020-03-17 10:00:00, number of deaths =  0, number of infected = 25\n"
     ]
    },
    {
     "name": "stdout",
     "output_type": "stream",
     "text": [
      "2020-06-16 12:27:17,480 - june.simulator - INFO - Date = 2020-03-18 00:00:00, number of deaths =  0, number of infected = 27\n",
      "2020-06-16 12:27:17,730 - june.simulator - INFO - Date = 2020-03-18 02:00:00, number of deaths =  0, number of infected = 27\n",
      "2020-06-16 12:27:17,907 - june.simulator - INFO - Date = 2020-03-18 04:00:00, number of deaths =  0, number of infected = 27\n",
      "2020-06-16 12:27:18,079 - june.simulator - INFO - Date = 2020-03-18 06:00:00, number of deaths =  0, number of infected = 27\n",
      "2020-06-16 12:27:18,251 - june.simulator - INFO - Date = 2020-03-18 08:00:00, number of deaths =  0, number of infected = 27\n",
      "2020-06-16 12:27:18,386 - june.simulator - INFO - Date = 2020-03-18 10:00:00, number of deaths =  0, number of infected = 27\n",
      "2020-06-16 12:27:18,596 - june.simulator - INFO - Date = 2020-03-19 00:00:00, number of deaths =  0, number of infected = 29\n",
      "2020-06-16 12:27:18,841 - june.simulator - INFO - Date = 2020-03-19 02:00:00, number of deaths =  0, number of infected = 29\n",
      "2020-06-16 12:27:19,038 - june.simulator - INFO - Date = 2020-03-19 04:00:00, number of deaths =  0, number of infected = 29\n",
      "2020-06-16 12:27:19,238 - june.simulator - INFO - Date = 2020-03-19 06:00:00, number of deaths =  0, number of infected = 29\n",
      "2020-06-16 12:27:19,422 - june.simulator - INFO - Date = 2020-03-19 08:00:00, number of deaths =  0, number of infected = 29\n",
      "2020-06-16 12:27:19,562 - june.simulator - INFO - Date = 2020-03-19 10:00:00, number of deaths =  0, number of infected = 29\n",
      "2020-06-16 12:27:19,773 - june.simulator - INFO - Date = 2020-03-20 00:00:00, number of deaths =  0, number of infected = 30\n",
      "2020-06-16 12:27:20,014 - june.simulator - INFO - Date = 2020-03-20 02:00:00, number of deaths =  0, number of infected = 30\n",
      "2020-06-16 12:27:20,183 - june.simulator - INFO - Date = 2020-03-20 04:00:00, number of deaths =  0, number of infected = 30\n",
      "2020-06-16 12:27:20,355 - june.simulator - INFO - Date = 2020-03-20 06:00:00, number of deaths =  0, number of infected = 31\n",
      "2020-06-16 12:27:20,529 - june.simulator - INFO - Date = 2020-03-20 08:00:00, number of deaths =  0, number of infected = 31\n",
      "2020-06-16 12:27:20,671 - june.simulator - INFO - Date = 2020-03-20 10:00:00, number of deaths =  0, number of infected = 31\n",
      "2020-06-16 12:27:20,891 - june.simulator - INFO - Date = 2020-03-21 00:00:00, number of deaths =  0, number of infected = 31\n",
      "2020-06-16 12:27:21,159 - june.simulator - INFO - Date = 2020-03-21 03:00:00, number of deaths =  0, number of infected = 31\n",
      "2020-06-16 12:27:21,326 - june.simulator - INFO - Date = 2020-03-21 05:00:00, number of deaths =  0, number of infected = 32\n",
      "2020-06-16 12:27:21,485 - june.simulator - INFO - Date = 2020-03-21 07:00:00, number of deaths =  0, number of infected = 32\n",
      "2020-06-16 12:27:21,652 - june.simulator - INFO - Date = 2020-03-21 09:00:00, number of deaths =  0, number of infected = 33\n",
      "2020-06-16 12:27:21,785 - june.simulator - INFO - Date = 2020-03-21 11:00:00, number of deaths =  0, number of infected = 34\n",
      "2020-06-16 12:27:22,013 - june.simulator - INFO - Date = 2020-03-22 00:00:00, number of deaths =  0, number of infected = 34\n",
      "2020-06-16 12:27:22,261 - june.simulator - INFO - Date = 2020-03-22 03:00:00, number of deaths =  0, number of infected = 34\n",
      "2020-06-16 12:27:22,422 - june.simulator - INFO - Date = 2020-03-22 05:00:00, number of deaths =  0, number of infected = 34\n",
      "2020-06-16 12:27:22,587 - june.simulator - INFO - Date = 2020-03-22 07:00:00, number of deaths =  0, number of infected = 34\n",
      "2020-06-16 12:27:22,755 - june.simulator - INFO - Date = 2020-03-22 09:00:00, number of deaths =  0, number of infected = 34\n",
      "2020-06-16 12:27:22,890 - june.simulator - INFO - Date = 2020-03-22 11:00:00, number of deaths =  0, number of infected = 34\n",
      "2020-06-16 12:27:23,132 - june.simulator - INFO - Date = 2020-03-23 00:00:00, number of deaths =  0, number of infected = 34\n",
      "2020-06-16 12:27:23,377 - june.simulator - INFO - Date = 2020-03-23 02:00:00, number of deaths =  0, number of infected = 34\n",
      "2020-06-16 12:27:23,536 - june.simulator - INFO - Date = 2020-03-23 04:00:00, number of deaths =  0, number of infected = 34\n",
      "2020-06-16 12:27:23,697 - june.simulator - INFO - Date = 2020-03-23 06:00:00, number of deaths =  0, number of infected = 34\n",
      "2020-06-16 12:27:23,854 - june.simulator - INFO - Date = 2020-03-23 08:00:00, number of deaths =  0, number of infected = 34\n",
      "2020-06-16 12:27:23,993 - june.simulator - INFO - Date = 2020-03-23 10:00:00, number of deaths =  0, number of infected = 34\n",
      "2020-06-16 12:27:24,217 - june.simulator - INFO - Date = 2020-03-24 00:00:00, number of deaths =  0, number of infected = 35\n",
      "2020-06-16 12:27:24,469 - june.simulator - INFO - Date = 2020-03-24 02:00:00, number of deaths =  0, number of infected = 35\n",
      "2020-06-16 12:27:24,627 - june.simulator - INFO - Date = 2020-03-24 04:00:00, number of deaths =  0, number of infected = 36\n",
      "2020-06-16 12:27:24,788 - june.simulator - INFO - Date = 2020-03-24 06:00:00, number of deaths =  0, number of infected = 36\n",
      "2020-06-16 12:27:24,942 - june.simulator - INFO - Date = 2020-03-24 08:00:00, number of deaths =  0, number of infected = 37\n",
      "2020-06-16 12:27:25,079 - june.simulator - INFO - Date = 2020-03-24 10:00:00, number of deaths =  0, number of infected = 37\n",
      "2020-06-16 12:27:25,297 - june.simulator - INFO - Date = 2020-03-25 00:00:00, number of deaths =  0, number of infected = 39\n",
      "2020-06-16 12:27:25,537 - june.simulator - INFO - Date = 2020-03-25 02:00:00, number of deaths =  0, number of infected = 39\n",
      "2020-06-16 12:27:25,681 - june.simulator - INFO - Date = 2020-03-25 04:00:00, number of deaths =  0, number of infected = 40\n",
      "2020-06-16 12:27:25,835 - june.simulator - INFO - Date = 2020-03-25 06:00:00, number of deaths =  0, number of infected = 40\n",
      "2020-06-16 12:27:25,988 - june.simulator - INFO - Date = 2020-03-25 08:00:00, number of deaths =  0, number of infected = 40\n",
      "2020-06-16 12:27:26,121 - june.simulator - INFO - Date = 2020-03-25 10:00:00, number of deaths =  0, number of infected = 40\n",
      "2020-06-16 12:27:26,344 - june.simulator - INFO - Date = 2020-03-26 00:00:00, number of deaths =  0, number of infected = 44\n",
      "2020-06-16 12:27:26,574 - june.simulator - INFO - Date = 2020-03-26 02:00:00, number of deaths =  0, number of infected = 44\n",
      "2020-06-16 12:27:26,720 - june.simulator - INFO - Date = 2020-03-26 04:00:00, number of deaths =  0, number of infected = 44\n",
      "2020-06-16 12:27:26,863 - june.simulator - INFO - Date = 2020-03-26 06:00:00, number of deaths =  0, number of infected = 44\n",
      "2020-06-16 12:27:27,006 - june.simulator - INFO - Date = 2020-03-26 08:00:00, number of deaths =  0, number of infected = 44\n",
      "2020-06-16 12:27:27,136 - june.simulator - INFO - Date = 2020-03-26 10:00:00, number of deaths =  0, number of infected = 44\n",
      "2020-06-16 12:27:27,348 - june.simulator - INFO - Date = 2020-03-27 00:00:00, number of deaths =  0, number of infected = 46\n",
      "2020-06-16 12:27:27,580 - june.simulator - INFO - Date = 2020-03-27 02:00:00, number of deaths =  0, number of infected = 45\n",
      "2020-06-16 12:27:27,727 - june.simulator - INFO - Date = 2020-03-27 04:00:00, number of deaths =  0, number of infected = 45\n",
      "2020-06-16 12:27:27,864 - june.simulator - INFO - Date = 2020-03-27 06:00:00, number of deaths =  0, number of infected = 45\n",
      "2020-06-16 12:27:28,003 - june.simulator - INFO - Date = 2020-03-27 08:00:00, number of deaths =  0, number of infected = 45\n",
      "2020-06-16 12:27:28,134 - june.simulator - INFO - Date = 2020-03-27 10:00:00, number of deaths =  0, number of infected = 45\n",
      "2020-06-16 12:27:28,347 - june.simulator - INFO - Date = 2020-03-28 00:00:00, number of deaths =  0, number of infected = 49\n",
      "2020-06-16 12:27:28,577 - june.simulator - INFO - Date = 2020-03-28 03:00:00, number of deaths =  0, number of infected = 52\n",
      "2020-06-16 12:27:28,723 - june.simulator - INFO - Date = 2020-03-28 05:00:00, number of deaths =  0, number of infected = 52\n",
      "2020-06-16 12:27:28,862 - june.simulator - INFO - Date = 2020-03-28 07:00:00, number of deaths =  0, number of infected = 52\n",
      "2020-06-16 12:27:29,001 - june.simulator - INFO - Date = 2020-03-28 09:00:00, number of deaths =  0, number of infected = 52\n",
      "2020-06-16 12:27:29,134 - june.simulator - INFO - Date = 2020-03-28 11:00:00, number of deaths =  0, number of infected = 52\n"
     ]
    },
    {
     "name": "stdout",
     "output_type": "stream",
     "text": [
      "2020-06-16 12:27:29,347 - june.simulator - INFO - Date = 2020-03-29 00:00:00, number of deaths =  0, number of infected = 52\n",
      "2020-06-16 12:27:29,573 - june.simulator - INFO - Date = 2020-03-29 03:00:00, number of deaths =  0, number of infected = 53\n",
      "2020-06-16 12:27:29,712 - june.simulator - INFO - Date = 2020-03-29 05:00:00, number of deaths =  0, number of infected = 53\n",
      "2020-06-16 12:27:29,852 - june.simulator - INFO - Date = 2020-03-29 07:00:00, number of deaths =  0, number of infected = 53\n",
      "2020-06-16 12:27:30,014 - june.simulator - INFO - Date = 2020-03-29 09:00:00, number of deaths =  0, number of infected = 54\n",
      "2020-06-16 12:27:30,144 - june.simulator - INFO - Date = 2020-03-29 11:00:00, number of deaths =  0, number of infected = 54\n",
      "2020-06-16 12:27:30,362 - june.simulator - INFO - Date = 2020-03-30 00:00:00, number of deaths =  0, number of infected = 55\n",
      "2020-06-16 12:27:30,608 - june.simulator - INFO - Date = 2020-03-30 02:00:00, number of deaths =  0, number of infected = 56\n",
      "2020-06-16 12:27:30,751 - june.simulator - INFO - Date = 2020-03-30 04:00:00, number of deaths =  0, number of infected = 56\n",
      "2020-06-16 12:27:30,895 - june.simulator - INFO - Date = 2020-03-30 06:00:00, number of deaths =  0, number of infected = 56\n",
      "2020-06-16 12:27:31,037 - june.simulator - INFO - Date = 2020-03-30 08:00:00, number of deaths =  0, number of infected = 57\n",
      "2020-06-16 12:27:31,167 - june.simulator - INFO - Date = 2020-03-30 10:00:00, number of deaths =  0, number of infected = 58\n",
      "2020-06-16 12:27:31,379 - june.simulator - INFO - Date = 2020-03-31 00:00:00, number of deaths =  0, number of infected = 56\n",
      "2020-06-16 12:27:31,603 - june.simulator - INFO - Date = 2020-03-31 02:00:00, number of deaths =  0, number of infected = 55\n",
      "2020-06-16 12:27:31,735 - june.simulator - INFO - Date = 2020-03-31 04:00:00, number of deaths =  0, number of infected = 56\n",
      "2020-06-16 12:27:31,872 - june.simulator - INFO - Date = 2020-03-31 06:00:00, number of deaths =  0, number of infected = 56\n",
      "2020-06-16 12:27:32,011 - june.simulator - INFO - Date = 2020-03-31 08:00:00, number of deaths =  0, number of infected = 56\n",
      "2020-06-16 12:27:32,143 - june.simulator - INFO - Date = 2020-03-31 10:00:00, number of deaths =  0, number of infected = 56\n",
      "2020-06-16 12:27:32,369 - june.simulator - INFO - Date = 2020-04-01 00:00:00, number of deaths =  0, number of infected = 55\n",
      "2020-06-16 12:27:32,598 - june.simulator - INFO - Date = 2020-04-01 02:00:00, number of deaths =  0, number of infected = 56\n",
      "2020-06-16 12:27:32,740 - june.simulator - INFO - Date = 2020-04-01 04:00:00, number of deaths =  0, number of infected = 56\n",
      "2020-06-16 12:27:32,873 - june.simulator - INFO - Date = 2020-04-01 06:00:00, number of deaths =  0, number of infected = 57\n",
      "2020-06-16 12:27:33,008 - june.simulator - INFO - Date = 2020-04-01 08:00:00, number of deaths =  0, number of infected = 57\n",
      "2020-06-16 12:27:33,135 - june.simulator - INFO - Date = 2020-04-01 10:00:00, number of deaths =  0, number of infected = 57\n",
      "2020-06-16 12:27:33,349 - june.simulator - INFO - Date = 2020-04-02 00:00:00, number of deaths =  0, number of infected = 57\n",
      "2020-06-16 12:27:33,582 - june.simulator - INFO - Date = 2020-04-02 02:00:00, number of deaths =  0, number of infected = 57\n",
      "2020-06-16 12:27:33,721 - june.simulator - INFO - Date = 2020-04-02 04:00:00, number of deaths =  0, number of infected = 57\n",
      "2020-06-16 12:27:33,860 - june.simulator - INFO - Date = 2020-04-02 06:00:00, number of deaths =  0, number of infected = 58\n",
      "2020-06-16 12:27:34,008 - june.simulator - INFO - Date = 2020-04-02 08:00:00, number of deaths =  0, number of infected = 58\n",
      "2020-06-16 12:27:34,138 - june.simulator - INFO - Date = 2020-04-02 10:00:00, number of deaths =  0, number of infected = 58\n",
      "2020-06-16 12:27:34,354 - june.simulator - INFO - Date = 2020-04-03 00:00:00, number of deaths =  0, number of infected = 61\n",
      "2020-06-16 12:27:34,587 - june.simulator - INFO - Date = 2020-04-03 02:00:00, number of deaths =  0, number of infected = 63\n",
      "2020-06-16 12:27:34,729 - june.simulator - INFO - Date = 2020-04-03 04:00:00, number of deaths =  0, number of infected = 63\n",
      "2020-06-16 12:27:34,866 - june.simulator - INFO - Date = 2020-04-03 06:00:00, number of deaths =  0, number of infected = 63\n",
      "2020-06-16 12:27:35,007 - june.simulator - INFO - Date = 2020-04-03 08:00:00, number of deaths =  0, number of infected = 63\n",
      "2020-06-16 12:27:35,134 - june.simulator - INFO - Date = 2020-04-03 10:00:00, number of deaths =  0, number of infected = 63\n",
      "2020-06-16 12:27:35,349 - june.simulator - INFO - Date = 2020-04-04 00:00:00, number of deaths =  0, number of infected = 65\n",
      "2020-06-16 12:27:35,568 - june.simulator - INFO - Date = 2020-04-04 03:00:00, number of deaths =  0, number of infected = 65\n",
      "2020-06-16 12:27:35,691 - june.simulator - INFO - Date = 2020-04-04 05:00:00, number of deaths =  0, number of infected = 65\n",
      "2020-06-16 12:27:35,826 - june.simulator - INFO - Date = 2020-04-04 07:00:00, number of deaths =  0, number of infected = 66\n",
      "2020-06-16 12:27:35,957 - june.simulator - INFO - Date = 2020-04-04 09:00:00, number of deaths =  0, number of infected = 66\n",
      "2020-06-16 12:27:36,081 - june.simulator - INFO - Date = 2020-04-04 11:00:00, number of deaths =  0, number of infected = 66\n",
      "2020-06-16 12:27:36,295 - june.simulator - INFO - Date = 2020-04-05 00:00:00, number of deaths =  0, number of infected = 70\n",
      "2020-06-16 12:27:36,503 - june.simulator - INFO - Date = 2020-04-05 03:00:00, number of deaths =  0, number of infected = 70\n",
      "2020-06-16 12:27:36,627 - june.simulator - INFO - Date = 2020-04-05 05:00:00, number of deaths =  0, number of infected = 70\n",
      "2020-06-16 12:27:36,753 - june.simulator - INFO - Date = 2020-04-05 07:00:00, number of deaths =  0, number of infected = 71\n",
      "2020-06-16 12:27:36,884 - june.simulator - INFO - Date = 2020-04-05 09:00:00, number of deaths =  0, number of infected = 71\n",
      "2020-06-16 12:27:37,003 - june.simulator - INFO - Date = 2020-04-05 11:00:00, number of deaths =  0, number of infected = 71\n",
      "2020-06-16 12:27:37,224 - june.simulator - INFO - Date = 2020-04-06 00:00:00, number of deaths =  0, number of infected = 73\n",
      "2020-06-16 12:27:37,444 - june.simulator - INFO - Date = 2020-04-06 02:00:00, number of deaths =  0, number of infected = 73\n",
      "2020-06-16 12:27:37,576 - june.simulator - INFO - Date = 2020-04-06 04:00:00, number of deaths =  0, number of infected = 74\n",
      "2020-06-16 12:27:37,708 - june.simulator - INFO - Date = 2020-04-06 06:00:00, number of deaths =  0, number of infected = 74\n",
      "2020-06-16 12:27:37,832 - june.simulator - INFO - Date = 2020-04-06 08:00:00, number of deaths =  0, number of infected = 74\n",
      "2020-06-16 12:27:37,951 - june.simulator - INFO - Date = 2020-04-06 10:00:00, number of deaths =  0, number of infected = 77\n",
      "2020-06-16 12:27:38,156 - june.simulator - INFO - Date = 2020-04-07 00:00:00, number of deaths =  0, number of infected = 81\n",
      "2020-06-16 12:27:38,380 - june.simulator - INFO - Date = 2020-04-07 02:00:00, number of deaths =  0, number of infected = 81\n",
      "2020-06-16 12:27:38,512 - june.simulator - INFO - Date = 2020-04-07 04:00:00, number of deaths =  0, number of infected = 82\n",
      "2020-06-16 12:27:38,647 - june.simulator - INFO - Date = 2020-04-07 06:00:00, number of deaths =  0, number of infected = 84\n",
      "2020-06-16 12:27:38,780 - june.simulator - INFO - Date = 2020-04-07 08:00:00, number of deaths =  0, number of infected = 85\n",
      "2020-06-16 12:27:38,900 - june.simulator - INFO - Date = 2020-04-07 10:00:00, number of deaths =  0, number of infected = 85\n",
      "2020-06-16 12:27:39,131 - june.simulator - INFO - Date = 2020-04-08 00:00:00, number of deaths =  0, number of infected = 88\n",
      "2020-06-16 12:27:39,350 - june.simulator - INFO - Date = 2020-04-08 02:00:00, number of deaths =  0, number of infected = 88\n",
      "2020-06-16 12:27:39,478 - june.simulator - INFO - Date = 2020-04-08 04:00:00, number of deaths =  0, number of infected = 88\n",
      "2020-06-16 12:27:39,610 - june.simulator - INFO - Date = 2020-04-08 06:00:00, number of deaths =  0, number of infected = 89\n",
      "2020-06-16 12:27:39,733 - june.simulator - INFO - Date = 2020-04-08 08:00:00, number of deaths =  0, number of infected = 89\n",
      "2020-06-16 12:27:39,852 - june.simulator - INFO - Date = 2020-04-08 10:00:00, number of deaths =  0, number of infected = 89\n"
     ]
    },
    {
     "name": "stdout",
     "output_type": "stream",
     "text": [
      "2020-06-16 12:27:40,080 - june.simulator - INFO - Date = 2020-04-09 00:00:00, number of deaths =  0, number of infected = 94\n",
      "2020-06-16 12:27:40,313 - june.simulator - INFO - Date = 2020-04-09 02:00:00, number of deaths =  0, number of infected = 98\n",
      "2020-06-16 12:27:40,447 - june.simulator - INFO - Date = 2020-04-09 04:00:00, number of deaths =  0, number of infected = 100\n",
      "2020-06-16 12:27:40,579 - june.simulator - INFO - Date = 2020-04-09 06:00:00, number of deaths =  0, number of infected = 101\n",
      "2020-06-16 12:27:40,709 - june.simulator - INFO - Date = 2020-04-09 08:00:00, number of deaths =  0, number of infected = 101\n",
      "2020-06-16 12:27:40,832 - june.simulator - INFO - Date = 2020-04-09 10:00:00, number of deaths =  0, number of infected = 101\n",
      "2020-06-16 12:27:41,047 - june.simulator - INFO - Date = 2020-04-10 00:00:00, number of deaths =  0, number of infected = 105\n",
      "2020-06-16 12:27:41,269 - june.simulator - INFO - Date = 2020-04-10 02:00:00, number of deaths =  0, number of infected = 106\n",
      "2020-06-16 12:27:41,398 - june.simulator - INFO - Date = 2020-04-10 04:00:00, number of deaths =  0, number of infected = 106\n",
      "2020-06-16 12:27:41,533 - june.simulator - INFO - Date = 2020-04-10 06:00:00, number of deaths =  0, number of infected = 106\n",
      "2020-06-16 12:27:41,677 - june.simulator - INFO - Date = 2020-04-10 08:00:00, number of deaths =  0, number of infected = 106\n",
      "2020-06-16 12:27:41,805 - june.simulator - INFO - Date = 2020-04-10 10:00:00, number of deaths =  0, number of infected = 106\n",
      "2020-06-16 12:27:42,019 - june.simulator - INFO - Date = 2020-04-11 00:00:00, number of deaths =  0, number of infected = 112\n",
      "2020-06-16 12:27:42,245 - june.simulator - INFO - Date = 2020-04-11 03:00:00, number of deaths =  0, number of infected = 115\n",
      "2020-06-16 12:27:42,382 - june.simulator - INFO - Date = 2020-04-11 05:00:00, number of deaths =  0, number of infected = 114\n",
      "2020-06-16 12:27:42,521 - june.simulator - INFO - Date = 2020-04-11 07:00:00, number of deaths =  0, number of infected = 114\n",
      "2020-06-16 12:27:42,662 - june.simulator - INFO - Date = 2020-04-11 09:00:00, number of deaths =  0, number of infected = 114\n",
      "2020-06-16 12:27:42,798 - june.simulator - INFO - Date = 2020-04-11 11:00:00, number of deaths =  0, number of infected = 115\n",
      "2020-06-16 12:27:43,032 - june.simulator - INFO - Date = 2020-04-12 00:00:00, number of deaths =  0, number of infected = 124\n",
      "2020-06-16 12:27:43,275 - june.simulator - INFO - Date = 2020-04-12 03:00:00, number of deaths =  0, number of infected = 125\n",
      "2020-06-16 12:27:43,416 - june.simulator - INFO - Date = 2020-04-12 05:00:00, number of deaths =  0, number of infected = 125\n",
      "2020-06-16 12:27:43,557 - june.simulator - INFO - Date = 2020-04-12 07:00:00, number of deaths =  0, number of infected = 126\n",
      "2020-06-16 12:27:43,699 - june.simulator - INFO - Date = 2020-04-12 09:00:00, number of deaths =  0, number of infected = 128\n",
      "2020-06-16 12:27:43,827 - june.simulator - INFO - Date = 2020-04-12 11:00:00, number of deaths =  0, number of infected = 128\n",
      "2020-06-16 12:27:44,044 - june.simulator - INFO - Date = 2020-04-13 00:00:00, number of deaths =  0, number of infected = 139\n",
      "2020-06-16 12:27:44,271 - june.simulator - INFO - Date = 2020-04-13 02:00:00, number of deaths =  0, number of infected = 140\n",
      "2020-06-16 12:27:44,411 - june.simulator - INFO - Date = 2020-04-13 04:00:00, number of deaths =  0, number of infected = 140\n",
      "2020-06-16 12:27:44,550 - june.simulator - INFO - Date = 2020-04-13 06:00:00, number of deaths =  0, number of infected = 139\n",
      "2020-06-16 12:27:44,682 - june.simulator - INFO - Date = 2020-04-13 08:00:00, number of deaths =  0, number of infected = 139\n",
      "2020-06-16 12:27:44,806 - june.simulator - INFO - Date = 2020-04-13 10:00:00, number of deaths =  0, number of infected = 137\n",
      "2020-06-16 12:27:45,017 - june.simulator - INFO - Date = 2020-04-14 00:00:00, number of deaths =  0, number of infected = 142\n",
      "2020-06-16 12:27:45,240 - june.simulator - INFO - Date = 2020-04-14 02:00:00, number of deaths =  0, number of infected = 143\n",
      "2020-06-16 12:27:45,372 - june.simulator - INFO - Date = 2020-04-14 04:00:00, number of deaths =  0, number of infected = 145\n",
      "2020-06-16 12:27:45,503 - june.simulator - INFO - Date = 2020-04-14 06:00:00, number of deaths =  0, number of infected = 145\n",
      "2020-06-16 12:27:45,635 - june.simulator - INFO - Date = 2020-04-14 08:00:00, number of deaths =  0, number of infected = 144\n",
      "2020-06-16 12:27:45,759 - june.simulator - INFO - Date = 2020-04-14 10:00:00, number of deaths =  0, number of infected = 149\n",
      "2020-06-16 12:27:45,971 - june.simulator - INFO - Date = 2020-04-15 00:00:00, number of deaths =  0, number of infected = 155\n",
      "2020-06-16 12:27:46,195 - june.simulator - INFO - Date = 2020-04-15 02:00:00, number of deaths =  0, number of infected = 157\n",
      "2020-06-16 12:27:46,328 - june.simulator - INFO - Date = 2020-04-15 04:00:00, number of deaths =  0, number of infected = 158\n",
      "2020-06-16 12:27:46,464 - june.simulator - INFO - Date = 2020-04-15 06:00:00, number of deaths =  0, number of infected = 160\n",
      "2020-06-16 12:27:46,598 - june.simulator - INFO - Date = 2020-04-15 08:00:00, number of deaths =  0, number of infected = 160\n",
      "2020-06-16 12:27:46,725 - june.simulator - INFO - Date = 2020-04-15 10:00:00, number of deaths =  0, number of infected = 160\n",
      "2020-06-16 12:27:46,947 - june.simulator - INFO - Date = 2020-04-16 00:00:00, number of deaths =  0, number of infected = 166\n",
      "2020-06-16 12:27:47,171 - june.simulator - INFO - Date = 2020-04-16 02:00:00, number of deaths =  0, number of infected = 167\n",
      "2020-06-16 12:27:47,300 - june.simulator - INFO - Date = 2020-04-16 04:00:00, number of deaths =  0, number of infected = 167\n",
      "2020-06-16 12:27:47,447 - june.simulator - INFO - Date = 2020-04-16 06:00:00, number of deaths =  0, number of infected = 170\n",
      "2020-06-16 12:27:47,582 - june.simulator - INFO - Date = 2020-04-16 08:00:00, number of deaths =  0, number of infected = 170\n",
      "2020-06-16 12:27:47,701 - june.simulator - INFO - Date = 2020-04-16 10:00:00, number of deaths =  0, number of infected = 170\n",
      "2020-06-16 12:27:47,918 - june.simulator - INFO - Date = 2020-04-17 00:00:00, number of deaths =  0, number of infected = 177\n",
      "2020-06-16 12:27:48,147 - june.simulator - INFO - Date = 2020-04-17 02:00:00, number of deaths =  0, number of infected = 178\n",
      "2020-06-16 12:27:48,281 - june.simulator - INFO - Date = 2020-04-17 04:00:00, number of deaths =  0, number of infected = 178\n",
      "2020-06-16 12:27:48,416 - june.simulator - INFO - Date = 2020-04-17 06:00:00, number of deaths =  0, number of infected = 180\n",
      "2020-06-16 12:27:48,550 - june.simulator - INFO - Date = 2020-04-17 08:00:00, number of deaths =  0, number of infected = 182\n",
      "2020-06-16 12:27:48,676 - june.simulator - INFO - Date = 2020-04-17 10:00:00, number of deaths =  0, number of infected = 184\n",
      "2020-06-16 12:27:48,898 - june.simulator - INFO - Date = 2020-04-18 00:00:00, number of deaths =  0, number of infected = 197\n",
      "2020-06-16 12:27:49,130 - june.simulator - INFO - Date = 2020-04-18 03:00:00, number of deaths =  0, number of infected = 198\n",
      "2020-06-16 12:27:49,256 - june.simulator - INFO - Date = 2020-04-18 05:00:00, number of deaths =  0, number of infected = 199\n",
      "2020-06-16 12:27:49,390 - june.simulator - INFO - Date = 2020-04-18 07:00:00, number of deaths =  0, number of infected = 201\n",
      "2020-06-16 12:27:49,512 - june.simulator - INFO - Date = 2020-04-18 09:00:00, number of deaths =  0, number of infected = 205\n",
      "2020-06-16 12:27:49,626 - june.simulator - INFO - Date = 2020-04-18 11:00:00, number of deaths =  0, number of infected = 205\n",
      "2020-06-16 12:27:49,838 - june.simulator - INFO - Date = 2020-04-19 00:00:00, number of deaths =  0, number of infected = 211\n",
      "2020-06-16 12:27:50,054 - june.simulator - INFO - Date = 2020-04-19 03:00:00, number of deaths =  0, number of infected = 215\n",
      "2020-06-16 12:27:50,177 - june.simulator - INFO - Date = 2020-04-19 05:00:00, number of deaths =  0, number of infected = 217\n",
      "2020-06-16 12:27:50,307 - june.simulator - INFO - Date = 2020-04-19 07:00:00, number of deaths =  0, number of infected = 219\n",
      "2020-06-16 12:27:50,426 - june.simulator - INFO - Date = 2020-04-19 09:00:00, number of deaths =  0, number of infected = 219\n",
      "2020-06-16 12:27:50,548 - june.simulator - INFO - Date = 2020-04-19 11:00:00, number of deaths =  0, number of infected = 220\n"
     ]
    },
    {
     "name": "stdout",
     "output_type": "stream",
     "text": [
      "2020-06-16 12:27:50,760 - june.simulator - INFO - Date = 2020-04-20 00:00:00, number of deaths =  0, number of infected = 233\n",
      "2020-06-16 12:27:50,978 - june.simulator - INFO - Date = 2020-04-20 02:00:00, number of deaths =  0, number of infected = 233\n",
      "2020-06-16 12:27:51,101 - june.simulator - INFO - Date = 2020-04-20 04:00:00, number of deaths =  0, number of infected = 234\n",
      "2020-06-16 12:27:51,224 - june.simulator - INFO - Date = 2020-04-20 06:00:00, number of deaths =  0, number of infected = 235\n",
      "2020-06-16 12:27:51,346 - june.simulator - INFO - Date = 2020-04-20 08:00:00, number of deaths =  0, number of infected = 236\n",
      "2020-06-16 12:27:51,467 - june.simulator - INFO - Date = 2020-04-20 10:00:00, number of deaths =  0, number of infected = 238\n",
      "2020-06-16 12:27:51,676 - june.simulator - INFO - Date = 2020-04-21 00:00:00, number of deaths =  0, number of infected = 254\n",
      "2020-06-16 12:27:51,885 - june.simulator - INFO - Date = 2020-04-21 02:00:00, number of deaths =  0, number of infected = 256\n",
      "2020-06-16 12:27:52,008 - june.simulator - INFO - Date = 2020-04-21 04:00:00, number of deaths =  0, number of infected = 258\n",
      "2020-06-16 12:27:52,137 - june.simulator - INFO - Date = 2020-04-21 06:00:00, number of deaths =  0, number of infected = 259\n",
      "2020-06-16 12:27:52,262 - june.simulator - INFO - Date = 2020-04-21 08:00:00, number of deaths =  0, number of infected = 262\n",
      "2020-06-16 12:27:52,387 - june.simulator - INFO - Date = 2020-04-21 10:00:00, number of deaths =  0, number of infected = 262\n",
      "2020-06-16 12:27:52,607 - june.simulator - INFO - Date = 2020-04-22 00:00:00, number of deaths =  0, number of infected = 275\n",
      "2020-06-16 12:27:52,830 - june.simulator - INFO - Date = 2020-04-22 02:00:00, number of deaths =  0, number of infected = 277\n",
      "2020-06-16 12:27:52,967 - june.simulator - INFO - Date = 2020-04-22 04:00:00, number of deaths =  0, number of infected = 280\n",
      "2020-06-16 12:27:53,104 - june.simulator - INFO - Date = 2020-04-22 06:00:00, number of deaths =  0, number of infected = 284\n",
      "2020-06-16 12:27:53,238 - june.simulator - INFO - Date = 2020-04-22 08:00:00, number of deaths =  0, number of infected = 284\n",
      "2020-06-16 12:27:53,365 - june.simulator - INFO - Date = 2020-04-22 10:00:00, number of deaths =  0, number of infected = 283\n",
      "2020-06-16 12:27:53,586 - june.simulator - INFO - Date = 2020-04-23 00:00:00, number of deaths =  0, number of infected = 296\n",
      "2020-06-16 12:27:53,811 - june.simulator - INFO - Date = 2020-04-23 02:00:00, number of deaths =  0, number of infected = 299\n",
      "2020-06-16 12:27:53,957 - june.simulator - INFO - Date = 2020-04-23 04:00:00, number of deaths =  0, number of infected = 300\n",
      "2020-06-16 12:27:54,097 - june.simulator - INFO - Date = 2020-04-23 06:00:00, number of deaths =  0, number of infected = 300\n",
      "2020-06-16 12:27:54,239 - june.simulator - INFO - Date = 2020-04-23 08:00:00, number of deaths =  0, number of infected = 305\n",
      "2020-06-16 12:27:54,360 - june.simulator - INFO - Date = 2020-04-23 10:00:00, number of deaths =  0, number of infected = 308\n",
      "2020-06-16 12:27:54,578 - june.simulator - INFO - Date = 2020-04-24 00:00:00, number of deaths =  0, number of infected = 326\n",
      "2020-06-16 12:27:54,803 - june.simulator - INFO - Date = 2020-04-24 02:00:00, number of deaths =  0, number of infected = 327\n",
      "2020-06-16 12:27:54,937 - june.simulator - INFO - Date = 2020-04-24 04:00:00, number of deaths =  0, number of infected = 328\n",
      "2020-06-16 12:27:55,076 - june.simulator - INFO - Date = 2020-04-24 06:00:00, number of deaths =  0, number of infected = 329\n",
      "2020-06-16 12:27:55,213 - june.simulator - INFO - Date = 2020-04-24 08:00:00, number of deaths =  0, number of infected = 330\n",
      "2020-06-16 12:27:55,341 - june.simulator - INFO - Date = 2020-04-24 10:00:00, number of deaths =  0, number of infected = 331\n",
      "2020-06-16 12:27:55,558 - june.simulator - INFO - Date = 2020-04-25 00:00:00, number of deaths =  0, number of infected = 348\n",
      "2020-06-16 12:27:55,780 - june.simulator - INFO - Date = 2020-04-25 03:00:00, number of deaths =  0, number of infected = 350\n",
      "2020-06-16 12:27:55,925 - june.simulator - INFO - Date = 2020-04-25 05:00:00, number of deaths =  0, number of infected = 350\n",
      "2020-06-16 12:27:56,087 - june.simulator - INFO - Date = 2020-04-25 07:00:00, number of deaths =  0, number of infected = 350\n",
      "2020-06-16 12:27:56,226 - june.simulator - INFO - Date = 2020-04-25 09:00:00, number of deaths =  0, number of infected = 353\n",
      "2020-06-16 12:27:56,352 - june.simulator - INFO - Date = 2020-04-25 11:00:00, number of deaths =  0, number of infected = 353\n",
      "2020-06-16 12:27:56,576 - june.simulator - INFO - Date = 2020-04-26 00:00:00, number of deaths =  0, number of infected = 371\n",
      "2020-06-16 12:27:56,798 - june.simulator - INFO - Date = 2020-04-26 03:00:00, number of deaths =  0, number of infected = 378\n",
      "2020-06-16 12:27:56,933 - june.simulator - INFO - Date = 2020-04-26 05:00:00, number of deaths =  0, number of infected = 379\n",
      "2020-06-16 12:27:57,073 - june.simulator - INFO - Date = 2020-04-26 07:00:00, number of deaths =  0, number of infected = 382\n",
      "2020-06-16 12:27:57,208 - june.simulator - INFO - Date = 2020-04-26 09:00:00, number of deaths =  0, number of infected = 384\n",
      "2020-06-16 12:27:57,336 - june.simulator - INFO - Date = 2020-04-26 11:00:00, number of deaths =  0, number of infected = 385\n",
      "2020-06-16 12:27:57,557 - june.simulator - INFO - Date = 2020-04-27 00:00:00, number of deaths =  0, number of infected = 402\n",
      "2020-06-16 12:27:57,788 - june.simulator - INFO - Date = 2020-04-27 02:00:00, number of deaths =  0, number of infected = 406\n",
      "2020-06-16 12:27:57,927 - june.simulator - INFO - Date = 2020-04-27 04:00:00, number of deaths =  0, number of infected = 406\n",
      "2020-06-16 12:27:58,064 - june.simulator - INFO - Date = 2020-04-27 06:00:00, number of deaths =  0, number of infected = 408\n",
      "2020-06-16 12:27:58,202 - june.simulator - INFO - Date = 2020-04-27 08:00:00, number of deaths =  0, number of infected = 410\n",
      "2020-06-16 12:27:58,332 - june.simulator - INFO - Date = 2020-04-27 10:00:00, number of deaths =  0, number of infected = 410\n",
      "2020-06-16 12:27:58,551 - june.simulator - INFO - Date = 2020-04-28 00:00:00, number of deaths =  0, number of infected = 420\n",
      "2020-06-16 12:27:58,779 - june.simulator - INFO - Date = 2020-04-28 02:00:00, number of deaths =  0, number of infected = 424\n",
      "2020-06-16 12:27:58,917 - june.simulator - INFO - Date = 2020-04-28 04:00:00, number of deaths =  0, number of infected = 426\n",
      "2020-06-16 12:27:59,052 - june.simulator - INFO - Date = 2020-04-28 06:00:00, number of deaths =  0, number of infected = 427\n",
      "2020-06-16 12:27:59,194 - june.simulator - INFO - Date = 2020-04-28 08:00:00, number of deaths =  0, number of infected = 428\n",
      "2020-06-16 12:27:59,321 - june.simulator - INFO - Date = 2020-04-28 10:00:00, number of deaths =  0, number of infected = 429\n",
      "2020-06-16 12:27:59,542 - june.simulator - INFO - Date = 2020-04-29 00:00:00, number of deaths =  0, number of infected = 443\n",
      "2020-06-16 12:27:59,764 - june.simulator - INFO - Date = 2020-04-29 02:00:00, number of deaths =  0, number of infected = 441\n",
      "2020-06-16 12:27:59,897 - june.simulator - INFO - Date = 2020-04-29 04:00:00, number of deaths =  0, number of infected = 442\n",
      "2020-06-16 12:28:00,051 - june.simulator - INFO - Date = 2020-04-29 06:00:00, number of deaths =  0, number of infected = 442\n",
      "2020-06-16 12:28:00,189 - june.simulator - INFO - Date = 2020-04-29 08:00:00, number of deaths =  0, number of infected = 443\n",
      "2020-06-16 12:28:00,320 - june.simulator - INFO - Date = 2020-04-29 10:00:00, number of deaths =  0, number of infected = 446\n",
      "2020-06-16 12:28:00,538 - june.simulator - INFO - Date = 2020-04-30 00:00:00, number of deaths =  0, number of infected = 459\n",
      "2020-06-16 12:28:00,765 - june.simulator - INFO - Date = 2020-04-30 02:00:00, number of deaths =  0, number of infected = 460\n",
      "2020-06-16 12:28:00,902 - june.simulator - INFO - Date = 2020-04-30 04:00:00, number of deaths =  0, number of infected = 458\n",
      "2020-06-16 12:28:01,036 - june.simulator - INFO - Date = 2020-04-30 06:00:00, number of deaths =  0, number of infected = 463\n",
      "2020-06-16 12:28:01,171 - june.simulator - INFO - Date = 2020-04-30 08:00:00, number of deaths =  0, number of infected = 467\n",
      "2020-06-16 12:28:01,295 - june.simulator - INFO - Date = 2020-04-30 10:00:00, number of deaths =  0, number of infected = 469\n"
     ]
    },
    {
     "name": "stdout",
     "output_type": "stream",
     "text": [
      "2020-06-16 12:28:01,505 - june.simulator - INFO - Date = 2020-05-01 00:00:00, number of deaths =  0, number of infected = 480\n",
      "2020-06-16 12:28:01,719 - june.simulator - INFO - Date = 2020-05-01 02:00:00, number of deaths =  0, number of infected = 482\n",
      "2020-06-16 12:28:01,841 - june.simulator - INFO - Date = 2020-05-01 04:00:00, number of deaths =  0, number of infected = 485\n",
      "2020-06-16 12:28:01,973 - june.simulator - INFO - Date = 2020-05-01 06:00:00, number of deaths =  0, number of infected = 488\n",
      "2020-06-16 12:28:02,102 - june.simulator - INFO - Date = 2020-05-01 08:00:00, number of deaths =  0, number of infected = 490\n",
      "2020-06-16 12:28:02,220 - june.simulator - INFO - Date = 2020-05-01 10:00:00, number of deaths =  0, number of infected = 493\n",
      "2020-06-16 12:28:02,428 - june.simulator - INFO - Date = 2020-05-02 00:00:00, number of deaths =  0, number of infected = 514\n",
      "2020-06-16 12:28:02,654 - june.simulator - INFO - Date = 2020-05-02 03:00:00, number of deaths =  0, number of infected = 515\n",
      "2020-06-16 12:28:02,786 - june.simulator - INFO - Date = 2020-05-02 05:00:00, number of deaths =  0, number of infected = 517\n",
      "2020-06-16 12:28:02,914 - june.simulator - INFO - Date = 2020-05-02 07:00:00, number of deaths =  0, number of infected = 518\n",
      "2020-06-16 12:28:03,053 - june.simulator - INFO - Date = 2020-05-02 09:00:00, number of deaths =  0, number of infected = 520\n",
      "2020-06-16 12:28:03,188 - june.simulator - INFO - Date = 2020-05-02 11:00:00, number of deaths =  0, number of infected = 520\n",
      "2020-06-16 12:28:03,413 - june.simulator - INFO - Date = 2020-05-03 00:00:00, number of deaths =  0, number of infected = 533\n",
      "2020-06-16 12:28:03,648 - june.simulator - INFO - Date = 2020-05-03 03:00:00, number of deaths =  0, number of infected = 536\n",
      "2020-06-16 12:28:03,823 - june.simulator - INFO - Date = 2020-05-03 05:00:00, number of deaths =  0, number of infected = 539\n",
      "2020-06-16 12:28:03,997 - june.simulator - INFO - Date = 2020-05-03 07:00:00, number of deaths =  0, number of infected = 541\n",
      "2020-06-16 12:28:04,141 - june.simulator - INFO - Date = 2020-05-03 09:00:00, number of deaths =  0, number of infected = 543\n",
      "2020-06-16 12:28:04,275 - june.simulator - INFO - Date = 2020-05-03 11:00:00, number of deaths =  0, number of infected = 545\n",
      "2020-06-16 12:28:04,497 - june.simulator - INFO - Date = 2020-05-04 00:00:00, number of deaths =  0, number of infected = 558\n",
      "2020-06-16 12:28:04,754 - june.simulator - INFO - Date = 2020-05-04 02:00:00, number of deaths =  0, number of infected = 558\n",
      "2020-06-16 12:28:04,912 - june.simulator - INFO - Date = 2020-05-04 04:00:00, number of deaths =  0, number of infected = 558\n",
      "2020-06-16 12:28:05,064 - june.simulator - INFO - Date = 2020-05-04 06:00:00, number of deaths =  0, number of infected = 561\n",
      "2020-06-16 12:28:05,218 - june.simulator - INFO - Date = 2020-05-04 08:00:00, number of deaths =  0, number of infected = 563\n",
      "2020-06-16 12:28:05,360 - june.simulator - INFO - Date = 2020-05-04 10:00:00, number of deaths =  0, number of infected = 564\n",
      "2020-06-16 12:28:05,600 - june.simulator - INFO - Date = 2020-05-05 00:00:00, number of deaths =  0, number of infected = 579\n",
      "2020-06-16 12:28:05,851 - june.simulator - INFO - Date = 2020-05-05 02:00:00, number of deaths =  0, number of infected = 584\n",
      "2020-06-16 12:28:05,993 - june.simulator - INFO - Date = 2020-05-05 04:00:00, number of deaths =  0, number of infected = 588\n",
      "2020-06-16 12:28:06,131 - june.simulator - INFO - Date = 2020-05-05 06:00:00, number of deaths =  0, number of infected = 588\n",
      "2020-06-16 12:28:06,275 - june.simulator - INFO - Date = 2020-05-05 08:00:00, number of deaths =  0, number of infected = 588\n",
      "2020-06-16 12:28:06,409 - june.simulator - INFO - Date = 2020-05-05 10:00:00, number of deaths =  0, number of infected = 587\n",
      "2020-06-16 12:28:06,653 - june.simulator - INFO - Date = 2020-05-06 00:00:00, number of deaths =  0, number of infected = 609\n",
      "2020-06-16 12:28:06,883 - june.simulator - INFO - Date = 2020-05-06 02:00:00, number of deaths =  0, number of infected = 614\n",
      "2020-06-16 12:28:07,028 - june.simulator - INFO - Date = 2020-05-06 04:00:00, number of deaths =  0, number of infected = 616\n",
      "2020-06-16 12:28:07,169 - june.simulator - INFO - Date = 2020-05-06 06:00:00, number of deaths =  0, number of infected = 612\n",
      "2020-06-16 12:28:07,308 - june.simulator - INFO - Date = 2020-05-06 08:00:00, number of deaths =  0, number of infected = 613\n",
      "2020-06-16 12:28:07,453 - june.simulator - INFO - Date = 2020-05-06 10:00:00, number of deaths =  0, number of infected = 614\n",
      "2020-06-16 12:28:07,728 - june.simulator - INFO - Date = 2020-05-07 00:00:00, number of deaths =  0, number of infected = 641\n",
      "2020-06-16 12:28:07,968 - june.simulator - INFO - Date = 2020-05-07 02:00:00, number of deaths =  0, number of infected = 639\n",
      "2020-06-16 12:28:08,113 - june.simulator - INFO - Date = 2020-05-07 04:00:00, number of deaths =  0, number of infected = 642\n",
      "2020-06-16 12:28:08,260 - june.simulator - INFO - Date = 2020-05-07 06:00:00, number of deaths =  0, number of infected = 643\n",
      "2020-06-16 12:28:08,402 - june.simulator - INFO - Date = 2020-05-07 08:00:00, number of deaths =  0, number of infected = 642\n",
      "2020-06-16 12:28:08,535 - june.simulator - INFO - Date = 2020-05-07 10:00:00, number of deaths =  0, number of infected = 644\n",
      "2020-06-16 12:28:08,767 - june.simulator - INFO - Date = 2020-05-08 00:00:00, number of deaths =  0, number of infected = 666\n",
      "2020-06-16 12:28:09,000 - june.simulator - INFO - Date = 2020-05-08 02:00:00, number of deaths =  0, number of infected = 669\n",
      "2020-06-16 12:28:09,143 - june.simulator - INFO - Date = 2020-05-08 04:00:00, number of deaths =  0, number of infected = 668\n",
      "2020-06-16 12:28:09,294 - june.simulator - INFO - Date = 2020-05-08 06:00:00, number of deaths =  0, number of infected = 666\n",
      "2020-06-16 12:28:09,451 - june.simulator - INFO - Date = 2020-05-08 08:00:00, number of deaths =  0, number of infected = 669\n",
      "2020-06-16 12:28:09,589 - june.simulator - INFO - Date = 2020-05-08 10:00:00, number of deaths =  0, number of infected = 674\n",
      "2020-06-16 12:28:09,835 - june.simulator - INFO - Date = 2020-05-09 00:00:00, number of deaths =  0, number of infected = 690\n",
      "2020-06-16 12:28:10,086 - june.simulator - INFO - Date = 2020-05-09 03:00:00, number of deaths =  0, number of infected = 693\n",
      "2020-06-16 12:28:10,234 - june.simulator - INFO - Date = 2020-05-09 05:00:00, number of deaths =  0, number of infected = 693\n",
      "2020-06-16 12:28:10,384 - june.simulator - INFO - Date = 2020-05-09 07:00:00, number of deaths =  0, number of infected = 695\n",
      "2020-06-16 12:28:10,534 - june.simulator - INFO - Date = 2020-05-09 09:00:00, number of deaths =  0, number of infected = 696\n",
      "2020-06-16 12:28:10,677 - june.simulator - INFO - Date = 2020-05-09 11:00:00, number of deaths =  0, number of infected = 697\n",
      "2020-06-16 12:28:10,915 - june.simulator - INFO - Date = 2020-05-10 00:00:00, number of deaths =  0, number of infected = 718\n",
      "2020-06-16 12:28:11,151 - june.simulator - INFO - Date = 2020-05-10 03:00:00, number of deaths =  0, number of infected = 718\n",
      "2020-06-16 12:28:11,294 - june.simulator - INFO - Date = 2020-05-10 05:00:00, number of deaths =  0, number of infected = 719\n",
      "2020-06-16 12:28:11,438 - june.simulator - INFO - Date = 2020-05-10 07:00:00, number of deaths =  0, number of infected = 722\n",
      "2020-06-16 12:28:11,584 - june.simulator - INFO - Date = 2020-05-10 09:00:00, number of deaths =  0, number of infected = 725\n",
      "2020-06-16 12:28:11,718 - june.simulator - INFO - Date = 2020-05-10 11:00:00, number of deaths =  0, number of infected = 725\n",
      "2020-06-16 12:28:11,953 - june.simulator - INFO - Date = 2020-05-11 00:00:00, number of deaths =  0, number of infected = 748\n",
      "2020-06-16 12:28:12,189 - june.simulator - INFO - Date = 2020-05-11 02:00:00, number of deaths =  0, number of infected = 751\n",
      "2020-06-16 12:28:12,331 - june.simulator - INFO - Date = 2020-05-11 04:00:00, number of deaths =  0, number of infected = 753\n",
      "2020-06-16 12:28:12,471 - june.simulator - INFO - Date = 2020-05-11 06:00:00, number of deaths =  0, number of infected = 754\n",
      "2020-06-16 12:28:12,610 - june.simulator - INFO - Date = 2020-05-11 08:00:00, number of deaths =  0, number of infected = 758\n",
      "2020-06-16 12:28:12,743 - june.simulator - INFO - Date = 2020-05-11 10:00:00, number of deaths =  0, number of infected = 758\n"
     ]
    },
    {
     "name": "stdout",
     "output_type": "stream",
     "text": [
      "2020-06-16 12:28:12,975 - june.simulator - INFO - Date = 2020-05-12 00:00:00, number of deaths =  0, number of infected = 781\n",
      "2020-06-16 12:28:13,204 - june.simulator - INFO - Date = 2020-05-12 02:00:00, number of deaths =  0, number of infected = 787\n",
      "2020-06-16 12:28:13,341 - june.simulator - INFO - Date = 2020-05-12 04:00:00, number of deaths =  0, number of infected = 789\n",
      "2020-06-16 12:28:13,480 - june.simulator - INFO - Date = 2020-05-12 06:00:00, number of deaths =  0, number of infected = 793\n",
      "2020-06-16 12:28:13,622 - june.simulator - INFO - Date = 2020-05-12 08:00:00, number of deaths =  0, number of infected = 798\n",
      "2020-06-16 12:28:13,754 - june.simulator - INFO - Date = 2020-05-12 10:00:00, number of deaths =  0, number of infected = 802\n",
      "2020-06-16 12:28:13,983 - june.simulator - INFO - Date = 2020-05-13 00:00:00, number of deaths =  0, number of infected = 821\n",
      "2020-06-16 12:28:14,212 - june.simulator - INFO - Date = 2020-05-13 02:00:00, number of deaths =  0, number of infected = 821\n",
      "2020-06-16 12:28:14,353 - june.simulator - INFO - Date = 2020-05-13 04:00:00, number of deaths =  0, number of infected = 826\n",
      "2020-06-16 12:28:14,492 - june.simulator - INFO - Date = 2020-05-13 06:00:00, number of deaths =  0, number of infected = 828\n",
      "2020-06-16 12:28:14,629 - june.simulator - INFO - Date = 2020-05-13 08:00:00, number of deaths =  0, number of infected = 829\n",
      "2020-06-16 12:28:14,759 - june.simulator - INFO - Date = 2020-05-13 10:00:00, number of deaths =  0, number of infected = 831\n",
      "2020-06-16 12:28:14,991 - june.simulator - INFO - Date = 2020-05-14 00:00:00, number of deaths =  0, number of infected = 851\n",
      "2020-06-16 12:28:15,224 - june.simulator - INFO - Date = 2020-05-14 02:00:00, number of deaths =  0, number of infected = 856\n",
      "2020-06-16 12:28:15,365 - june.simulator - INFO - Date = 2020-05-14 04:00:00, number of deaths =  0, number of infected = 856\n",
      "2020-06-16 12:28:15,505 - june.simulator - INFO - Date = 2020-05-14 06:00:00, number of deaths =  0, number of infected = 862\n",
      "2020-06-16 12:28:15,645 - june.simulator - INFO - Date = 2020-05-14 08:00:00, number of deaths =  0, number of infected = 863\n",
      "2020-06-16 12:28:15,776 - june.simulator - INFO - Date = 2020-05-14 10:00:00, number of deaths =  0, number of infected = 865\n",
      "2020-06-16 12:28:16,001 - june.simulator - INFO - Date = 2020-05-15 00:00:00, number of deaths =  0, number of infected = 879\n",
      "2020-06-16 12:28:16,225 - june.simulator - INFO - Date = 2020-05-15 02:00:00, number of deaths =  0, number of infected = 884\n",
      "2020-06-16 12:28:16,365 - june.simulator - INFO - Date = 2020-05-15 04:00:00, number of deaths =  0, number of infected = 890\n",
      "2020-06-16 12:28:16,507 - june.simulator - INFO - Date = 2020-05-15 06:00:00, number of deaths =  0, number of infected = 893\n",
      "2020-06-16 12:28:16,646 - june.simulator - INFO - Date = 2020-05-15 08:00:00, number of deaths =  0, number of infected = 896\n",
      "2020-06-16 12:28:16,777 - june.simulator - INFO - Date = 2020-05-15 10:00:00, number of deaths =  0, number of infected = 896\n",
      "2020-06-16 12:28:17,006 - june.simulator - INFO - Date = 2020-05-16 00:00:00, number of deaths =  0, number of infected = 915\n",
      "CPU times: user 1min 14s, sys: 5.58 s, total: 1min 20s\n",
      "Wall time: 1min 18s\n"
     ]
    }
   ],
   "source": [
    "%%time\n",
    "simulator.run()"
   ]
  },
  {
   "cell_type": "markdown",
   "metadata": {},
   "source": [
    "# Getting the results"
   ]
  },
  {
   "cell_type": "markdown",
   "metadata": {},
   "source": [
    "All results are stored in a json file specified in the ``save_path`` variable in the config file. We can also access it from ``world.logger`` directly."
   ]
  },
  {
   "cell_type": "code",
   "execution_count": 36,
   "metadata": {},
   "outputs": [],
   "source": [
    "import pandas as pd\n",
    "read = ReadLogger(load_real=False)"
   ]
  },
  {
   "cell_type": "code",
   "execution_count": 37,
   "metadata": {},
   "outputs": [],
   "source": [
    "loc_df = read.get_locations_infections()"
   ]
  },
  {
   "cell_type": "code",
   "execution_count": 38,
   "metadata": {},
   "outputs": [
    {
     "data": {
      "text/plain": [
       "Text(0.5, 0, 'location')"
      ]
     },
     "execution_count": 38,
     "metadata": {},
     "output_type": "execute_result"
    },
    {
     "data": {
      "image/png": "[encoded data removed]",
      "text/plain": [
       "<Figure size 432x288 with 1 Axes>"
      ]
     },
     "metadata": {
      "needs_background": "light"
     },
     "output_type": "display_data"
    }
   ],
   "source": [
    "import matplotlib.ticker as mtick\n",
    "\n",
    "ax = loc_df['percentage_infections'].sort_values().plot.bar()\n",
    "ax.yaxis.set_major_formatter(mtick.PercentFormatter())\n",
    "plt.ylabel('Percentage of infections at location')\n",
    "plt.xlabel('location')"
   ]
  },
  {
   "cell_type": "code",
   "execution_count": 40,
   "metadata": {},
   "outputs": [
    {
     "data": {
      "text/plain": [
       "<matplotlib.legend.Legend at 0x132532160>"
      ]
     },
     "execution_count": 40,
     "metadata": {},
     "output_type": "execute_result"
    },
    {
     "data": {
      "image/png": "[encoded data removed]",
      "text/plain": [
       "<Figure size 432x288 with 1 Axes>"
      ]
     },
     "metadata": {
      "needs_background": "light"
     },
     "output_type": "display_data"
    }
   ],
   "source": [
    "world_df = read.world_summary()\n",
    "world_df.plot()\n",
    "#plt.axvspan(policies.social_distancing_start, \n",
    "#            policies.social_distancing_end,\n",
    "#            facecolor='y', alpha=0.2)\n",
    "plt.legend()"
   ]
  },
  {
   "cell_type": "code",
   "execution_count": null,
   "metadata": {},
   "outputs": [],
   "source": []
  }
 ],
 "metadata": {
  "kernelspec": {
   "display_name": "campmodelling",
   "language": "python",
   "name": "campmodelling"
  },
  "language_info": {
   "codemirror_mode": {
    "name": "ipython",
    "version": 3
   },
   "file_extension": ".py",
   "mimetype": "text/x-python",
   "name": "python",
   "nbconvert_exporter": "python",
   "pygments_lexer": "ipython3",
   "version": "3.7.3"
  }
 },
 "nbformat": 4,
 "nbformat_minor": 4
}
