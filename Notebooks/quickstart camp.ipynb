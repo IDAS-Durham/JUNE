{
 "cells": [
  {
   "cell_type": "code",
   "execution_count": 1,
   "metadata": {},
   "outputs": [],
   "source": [
    "%load_ext autoreload\n",
    "%autoreload 2"
   ]
  },
  {
   "cell_type": "code",
   "execution_count": 2,
   "metadata": {},
   "outputs": [],
   "source": [
    "import warnings\n",
    "warnings.filterwarnings('ignore')"
   ]
  },
  {
   "cell_type": "code",
   "execution_count": 3,
   "metadata": {},
   "outputs": [],
   "source": [
    "import numpy as np\n",
    "import matplotlib.pyplot as plt \n",
    "import pandas as pd\n",
    "import time\n",
    "import matplotlib.pyplot as plt\n",
    "import seaborn as sns\n",
    "from datetime import datetime\n",
    "import sys\n",
    "sys.path.append(\"../camp_scripts\") # change accordingly\n",
    "sns.set_context('notebook')"
   ]
  },
  {
   "cell_type": "code",
   "execution_count": 4,
   "metadata": {},
   "outputs": [
    {
     "name": "stderr",
     "output_type": "stream",
     "text": [
      "No --data argument given - defaulting to:\n",
      "/home/arnau/code/CPModelling/data\n",
      "No --configs argument given - defaulting to:\n",
      "/home/arnau/code/CPModelling/configs\n"
     ]
    },
    {
     "name": "stdout",
     "output_type": "stream",
     "text": [
      "2020-06-24 09:16:15,499 - camps.paths - WARNING - No --data argument given - defaulting to:\n",
      "/home/arnau/code/CPModelling/data\n",
      "2020-06-24 09:16:15,500 - camps.paths - WARNING - No --configs argument given - defaulting to:\n",
      "/home/arnau/code/CPModelling/configs\n",
      "2020-06-24 09:16:15,501 - camps.paths - WARNING - No --camp_data argument given - defaulting to:\n",
      "/home/arnau/code/CPModelling/camp_data\n",
      "2020-06-24 09:16:15,501 - camps.paths - WARNING - No --configs_camps argument given - defaulting to:\n",
      "/home/arnau/code/CPModelling/configs_camps\n"
     ]
    }
   ],
   "source": [
    "from june.demography.geography import Geography\n",
    "from june.demography.demography import load_age_and_sex_generators_for_bins, Demography, Population\n",
    "from june.paths import data_path\n",
    "from june.seed import Seed\n",
    "from june.infection.infection import InfectionSelector\n",
    "from june.interaction import ContactAveraging\n",
    "from june.groups import Hospital, Hospitals\n",
    "from june.distributors import HospitalDistributor\n",
    "from june.world import generate_world_from_hdf5\n",
    "from june.groups import Cemeteries\n",
    "from june.policy import Policy, Policies\n",
    "from june.logger.read_logger import ReadLogger\n",
    "\n",
    "from camps.paths import camp_data_path\n",
    "from camps.world import World\n",
    "from camps.groups.leisure import generate_leisure_for_world, generate_leisure_for_config\n",
    "from camp_creation import generate_empty_world, populate_world, distribute_people_to_households # this is loaded from the ../camp_scripts folder\n",
    "from camps.simulator import CampSimulator"
   ]
  },
  {
   "cell_type": "code",
   "execution_count": 5,
   "metadata": {},
   "outputs": [],
   "source": [
    "from camps.groups import PumpLatrines, PumpLatrineDistributor\n",
    "from camps.groups import DistributionCenters, DistributionCenterDistributor\n",
    "from camps.groups import Communals, CommunalDistributor\n",
    "from camps.groups import FemaleCommunals, FemaleCommunalDistributor\n",
    "from camps.groups import Religiouss, ReligiousDistributor\n",
    "from camps.groups import Shelter, Shelters, ShelterDistributor\n",
    "from june.groups.leisure import HouseholdVisitsDistributor"
   ]
  },
  {
   "cell_type": "markdown",
   "metadata": {},
   "source": [
    "## Initialize the world"
   ]
  },
  {
   "cell_type": "code",
   "execution_count": 6,
   "metadata": {},
   "outputs": [
    {
     "name": "stdout",
     "output_type": "stream",
     "text": [
      "2020-06-24 09:16:15,662 - june.demography.geography - INFO - There are 65 areas and 4 super_areas in the world.\n"
     ]
    }
   ],
   "source": [
    "# create empty world's geography\n",
    "world = generate_empty_world(filter_key = {\"region\" : [\"CXB-219\"]})"
   ]
  },
  {
   "cell_type": "code",
   "execution_count": 7,
   "metadata": {},
   "outputs": [],
   "source": [
    "# populate empty world\n",
    "populate_world(world)"
   ]
  },
  {
   "cell_type": "code",
   "execution_count": 8,
   "metadata": {},
   "outputs": [],
   "source": [
    "# distribute people to households\n",
    "distribute_people_to_households(world)"
   ]
  },
  {
   "cell_type": "code",
   "execution_count": 9,
   "metadata": {},
   "outputs": [
    {
     "name": "stdout",
     "output_type": "stream",
     "text": [
      "2020-06-24 09:16:16,395 - june.groups.hospital - INFO - There are 8 hospitals in the world.\n"
     ]
    }
   ],
   "source": [
    "# this is not working\n",
    "hospitals= Hospitals.from_file(\n",
    "    filename=camp_data_path / 'input/hospitals/hospitals.csv'\n",
    ")\n",
    "world.hospitals = hospitals\n",
    "hospital_distributor = HospitalDistributor(hospitals, \n",
    "                                           medic_min_age=20,\n",
    "                                           patients_per_medic=10)\n",
    "\n",
    "hospital_distributor.distribute_medics_from_world(world.people)\n"
   ]
  },
  {
   "cell_type": "code",
   "execution_count": 10,
   "metadata": {},
   "outputs": [],
   "source": [
    "world.pump_latrines = PumpLatrines.for_areas(world.areas)\n",
    "world.distribution_centers = DistributionCenters.for_areas(world.areas)\n",
    "world.communals = Communals.for_areas(world.areas)\n",
    "world.female_communals = FemaleCommunals.for_areas(world.areas)\n",
    "world.religiouss = Religiouss.for_areas(world.areas)"
   ]
  },
  {
   "cell_type": "code",
   "execution_count": 11,
   "metadata": {},
   "outputs": [],
   "source": [
    "#world.box_mode = False\n",
    "world.cemeteries = Cemeteries()"
   ]
  },
  {
   "cell_type": "markdown",
   "metadata": {},
   "source": [
    "## Geography exploration"
   ]
  },
  {
   "cell_type": "markdown",
   "metadata": {},
   "source": [
    "### UNHCR camp blocks inside the World"
   ]
  },
  {
   "cell_type": "code",
   "execution_count": 12,
   "metadata": {},
   "outputs": [],
   "source": [
    "super_areas = []\n",
    "for super_area in world.super_areas:\n",
    "    super_areas.append(super_area.name)"
   ]
  },
  {
   "cell_type": "code",
   "execution_count": 13,
   "metadata": {},
   "outputs": [
    {
     "data": {
      "text/plain": [
       "['CXB-219-A', 'CXB-219-B', 'CXB-219-C', 'CXB-219-D']"
      ]
     },
     "execution_count": 13,
     "metadata": {},
     "output_type": "execute_result"
    }
   ],
   "source": [
    "super_areas[:5]"
   ]
  },
  {
   "cell_type": "markdown",
   "metadata": {},
   "source": [
    "### Mahjee blocks inside World"
   ]
  },
  {
   "cell_type": "code",
   "execution_count": 14,
   "metadata": {},
   "outputs": [],
   "source": [
    "areas = []\n",
    "for area in world.areas:\n",
    "    areas.append(area.name)"
   ]
  },
  {
   "cell_type": "code",
   "execution_count": 15,
   "metadata": {},
   "outputs": [
    {
     "data": {
      "text/plain": [
       "['CXB-219-062', 'CXB-219-063', 'CXB-219-061', 'CXB-219-060', 'CXB-219-065']"
      ]
     },
     "execution_count": 15,
     "metadata": {},
     "output_type": "execute_result"
    }
   ],
   "source": [
    "areas[:5]"
   ]
  },
  {
   "cell_type": "markdown",
   "metadata": {},
   "source": [
    "## Demography exploration"
   ]
  },
  {
   "cell_type": "markdown",
   "metadata": {},
   "source": [
    "### UNHCR block residents"
   ]
  },
  {
   "cell_type": "code",
   "execution_count": 16,
   "metadata": {},
   "outputs": [],
   "source": [
    "sample_ages = []\n",
    "sample_sexes = []\n",
    "for person in world.super_areas.members[0].people:\n",
    "    sample_ages.append(person.age)\n",
    "    sample_sexes.append(person.sex)"
   ]
  },
  {
   "cell_type": "code",
   "execution_count": 17,
   "metadata": {},
   "outputs": [
    {
     "data": {
      "text/plain": [
       "(['f', 'f', 'f', 'm', 'f'], [33, 44, 37, 46, 17])"
      ]
     },
     "execution_count": 17,
     "metadata": {},
     "output_type": "execute_result"
    }
   ],
   "source": [
    "sample_sexes[:5], sample_ages[:5]"
   ]
  },
  {
   "cell_type": "code",
   "execution_count": 18,
   "metadata": {},
   "outputs": [
    {
     "data": {
      "image/png": "[encoded data removed]",
      "text/plain": [
       "<Figure size 432x288 with 1 Axes>"
      ]
     },
     "metadata": {
      "needs_background": "light"
     },
     "output_type": "display_data"
    }
   ],
   "source": [
    "ages, counts = np.unique(sample_ages, return_counts=True)\n",
    "plt.bar(ages, counts)\n",
    "plt.title('super area: {} age distribution'.format(world.super_areas.members[0].name))\n",
    "plt.show()"
   ]
  },
  {
   "cell_type": "code",
   "execution_count": 19,
   "metadata": {},
   "outputs": [
    {
     "name": "stdout",
     "output_type": "stream",
     "text": [
      "The % children between ages 0-16 is 49.0%\n"
     ]
    }
   ],
   "source": [
    "print ('The % children between ages 0-16 is {}%'.format(round(np.sum(counts[:16])/(np.sum(counts[:16])+np.sum(counts[16:]))*100)))"
   ]
  },
  {
   "cell_type": "markdown",
   "metadata": {},
   "source": [
    "## Households"
   ]
  },
  {
   "cell_type": "markdown",
   "metadata": {},
   "source": [
    "### Household size distribution"
   ]
  },
  {
   "cell_type": "code",
   "execution_count": 20,
   "metadata": {},
   "outputs": [
    {
     "data": {
      "image/png": "[encoded data removed]",
      "text/plain": [
       "<Figure size 432x288 with 1 Axes>"
      ]
     },
     "metadata": {
      "needs_background": "light"
     },
     "output_type": "display_data"
    }
   ],
   "source": [
    "household_sizes = [household.size for household in world.households]\n",
    "plt.hist(household_sizes, density=True, bins=np.arange(0,12))\n",
    "plt.xlabel(\"Household size\")\n",
    "plt.ylabel(\"Frequency\")\n",
    "plt.axvline(np.mean(household_sizes), color=\"cyan\")\n",
    "plt.text(8, 0.150, f\"Avg. size: {(np.mean(household_sizes)):.2f}\")\n",
    "plt.show()"
   ]
  },
  {
   "cell_type": "markdown",
   "metadata": {},
   "source": [
    "# Shelters"
   ]
  },
  {
   "cell_type": "code",
   "execution_count": 21,
   "metadata": {},
   "outputs": [],
   "source": [
    "world.shelters = Shelters.for_areas(world.areas)\n",
    "shelter_distributor = ShelterDistributor(sharing_shelter_ratio = 0.75) # proportion of families that share a shelter\n",
    "for area in world.areas:\n",
    "    shelter_distributor.distribute_people_in_shelters(area.shelters, area.households)"
   ]
  },
  {
   "cell_type": "code",
   "execution_count": 22,
   "metadata": {},
   "outputs": [
    {
     "data": {
      "image/png": "[encoded data removed]",
      "text/plain": [
       "<Figure size 576x216 with 2 Axes>"
      ]
     },
     "metadata": {
      "needs_background": "light"
     },
     "output_type": "display_data"
    }
   ],
   "source": [
    "fig, ax = plt.subplots(1, 2, figsize=(8,3))\n",
    "shelter_sizes = [shelter.size for shelter in world.shelters]\n",
    "shelter_families = [shelter.n_families for shelter in world.shelters]\n",
    "ax[0].hist(shelter_sizes)\n",
    "ax[0].set_title(\"Shelter size\")\n",
    "shelter_families = {1 : len([shelter for shelter in world.shelters if shelter.n_families == 1]),\n",
    "                    2 : len([shelter for shelter in world.shelters if shelter.n_families == 2])}\n",
    "ax[1].bar(shelter_families.keys(), shelter_families.values())\n",
    "ax[1].set_title(\"# families per shelter\")\n",
    "plt.show()"
   ]
  },
  {
   "cell_type": "markdown",
   "metadata": {},
   "source": [
    "## Activity exploration"
   ]
  },
  {
   "cell_type": "markdown",
   "metadata": {},
   "source": [
    "### Pumps and latrines "
   ]
  },
  {
   "cell_type": "code",
   "execution_count": 23,
   "metadata": {},
   "outputs": [],
   "source": [
    "pumps_and_latrines = []\n",
    "for pump_latrine in world.areas.members[0].pump_latrines:\n",
    "    pumps_and_latrines.append(pump_latrine)"
   ]
  },
  {
   "cell_type": "code",
   "execution_count": 24,
   "metadata": {},
   "outputs": [
    {
     "name": "stdout",
     "output_type": "stream",
     "text": [
      "There are 3 pumps and latrines in area CXB-219-062\n"
     ]
    }
   ],
   "source": [
    "print ('There are {} pumps and latrines in area {}'.format(len(pumps_and_latrines), world.areas.members[0].name))"
   ]
  },
  {
   "cell_type": "markdown",
   "metadata": {},
   "source": [
    "### Distribution centers"
   ]
  },
  {
   "cell_type": "code",
   "execution_count": 25,
   "metadata": {},
   "outputs": [],
   "source": [
    "distribution_centers = []\n",
    "for center in world.distribution_centers:\n",
    "    distribution_centers.append(center)"
   ]
  },
  {
   "cell_type": "code",
   "execution_count": 26,
   "metadata": {},
   "outputs": [
    {
     "data": {
      "text/plain": [
       "array([21.1962 , 92.14936])"
      ]
     },
     "execution_count": 26,
     "metadata": {},
     "output_type": "execute_result"
    }
   ],
   "source": [
    "distribution_centers[0].coordinates"
   ]
  },
  {
   "cell_type": "markdown",
   "metadata": {},
   "source": [
    "### Communal spaces"
   ]
  },
  {
   "cell_type": "code",
   "execution_count": 27,
   "metadata": {},
   "outputs": [],
   "source": [
    "communal_spaces = []\n",
    "for space in world.communals:\n",
    "    communal_spaces.append(space)"
   ]
  },
  {
   "cell_type": "code",
   "execution_count": 28,
   "metadata": {},
   "outputs": [
    {
     "data": {
      "text/plain": [
       "array([21.19621, 92.14924])"
      ]
     },
     "execution_count": 28,
     "metadata": {},
     "output_type": "execute_result"
    }
   ],
   "source": [
    "communal_spaces[0].coordinates"
   ]
  },
  {
   "cell_type": "markdown",
   "metadata": {},
   "source": [
    "### Female friendly communal spaces"
   ]
  },
  {
   "cell_type": "code",
   "execution_count": 29,
   "metadata": {},
   "outputs": [],
   "source": [
    "female_communal_spaces = []\n",
    "for space in world.female_communals:\n",
    "    female_communal_spaces.append(space)"
   ]
  },
  {
   "cell_type": "code",
   "execution_count": 30,
   "metadata": {},
   "outputs": [
    {
     "data": {
      "text/plain": [
       "array([21.19588, 92.152  ])"
      ]
     },
     "execution_count": 30,
     "metadata": {},
     "output_type": "execute_result"
    }
   ],
   "source": [
    "female_communal_spaces[0].coordinates"
   ]
  },
  {
   "cell_type": "markdown",
   "metadata": {},
   "source": [
    "### Religious sites"
   ]
  },
  {
   "cell_type": "code",
   "execution_count": 31,
   "metadata": {},
   "outputs": [],
   "source": [
    "religious = []\n",
    "for rel in world.religiouss:\n",
    "    religious.append(rel)"
   ]
  },
  {
   "cell_type": "code",
   "execution_count": 32,
   "metadata": {},
   "outputs": [
    {
     "data": {
      "text/plain": [
       "array([21.20069, 92.15216])"
      ]
     },
     "execution_count": 32,
     "metadata": {},
     "output_type": "execute_result"
    }
   ],
   "source": [
    "religious[0].coordinates"
   ]
  },
  {
   "cell_type": "markdown",
   "metadata": {},
   "source": [
    "# Adding the infection"
   ]
  },
  {
   "cell_type": "code",
   "execution_count": 33,
   "metadata": {},
   "outputs": [],
   "source": [
    "selector = InfectionSelector.from_file()"
   ]
  },
  {
   "cell_type": "markdown",
   "metadata": {},
   "source": [
    "# Adding the interaction"
   ]
  },
  {
   "cell_type": "code",
   "execution_count": 35,
   "metadata": {},
   "outputs": [],
   "source": [
    "interaction = ContactAveraging.from_file(config_filename='../configs_camps/defaults/interaction/ContactInteraction.yaml',\\\n",
    "                                         selector=selector)"
   ]
  },
  {
   "cell_type": "markdown",
   "metadata": {},
   "source": [
    "# Set policies"
   ]
  },
  {
   "cell_type": "code",
   "execution_count": 36,
   "metadata": {},
   "outputs": [],
   "source": [
    "social_distance = Policy(policy=\"social_distance\",\n",
    "                         start_time=datetime(2021, 3, 25), \n",
    "                         end_time=datetime(2021, 4, 1))\n",
    "policies = Policies.from_file([social_distance])"
   ]
  },
  {
   "cell_type": "markdown",
   "metadata": {},
   "source": [
    "# Seed the disease"
   ]
  },
  {
   "cell_type": "code",
   "execution_count": 37,
   "metadata": {},
   "outputs": [],
   "source": [
    "seed = Seed(world.super_areas,\n",
    "           selector)\n",
    "\n",
    "seed.unleash_virus(n_cases=5)"
   ]
  },
  {
   "cell_type": "markdown",
   "metadata": {},
   "source": [
    "# Run the simulation"
   ]
  },
  {
   "cell_type": "code",
   "execution_count": 38,
   "metadata": {},
   "outputs": [
    {
     "name": "stdout",
     "output_type": "stream",
     "text": [
      "LIST OF LEISURE \n",
      "['distribution_centers', 'communals', 'female_communals', 'pump_latrines', 'religiouss']\n"
     ]
    }
   ],
   "source": [
    "CONFIG_PATH = \"../configs_camps/config_example.yaml\"\n",
    "\n",
    "leisure_instance = generate_leisure_for_config(\n",
    "            world=world, config_filename=CONFIG_PATH\n",
    ")\n",
    "leisure_instance.leisure_distributors = [\n",
    "    PumpLatrineDistributor.from_config(pump_latrines=world.pump_latrines),\n",
    "    DistributionCenterDistributor.from_config(distribution_centers=world.distribution_centers),\n",
    "    CommunalDistributor.from_config(communals=world.communals),\n",
    "    FemaleCommunalDistributor.from_config(female_communals=world.female_communals),\n",
    "]\n",
    "\n",
    "simulator = CampSimulator.from_file(\n",
    "     world, interaction, selector,\n",
    "    leisure = leisure_instance,\n",
    "    policies=policies,\n",
    "    config_filename = CONFIG_PATH\n",
    ")"
   ]
  },
  {
   "cell_type": "code",
   "execution_count": 39,
   "metadata": {},
   "outputs": [
    {
     "data": {
      "text/plain": [
       "[<camps.groups.pump_latrine.PumpLatrineDistributor at 0x7fc4e3925310>,\n",
       " <camps.groups.distribution_center.DistributionCenterDistributor at 0x7fc4e3998fd0>,\n",
       " <camps.groups.communal.CommunalDistributor at 0x7fc4e3998ee0>,\n",
       " <camps.groups.female_communal.FemaleCommunalDistributor at 0x7fc4e3998fa0>]"
      ]
     },
     "execution_count": 39,
     "metadata": {},
     "output_type": "execute_result"
    }
   ],
   "source": [
    "leisure_instance.leisure_distributors"
   ]
  },
  {
   "cell_type": "code",
   "execution_count": 40,
   "metadata": {},
   "outputs": [],
   "source": [
    "simulator.timer.reset()"
   ]
  },
  {
   "cell_type": "code",
   "execution_count": 41,
   "metadata": {
    "scrolled": true
   },
   "outputs": [
    {
     "name": "stdout",
     "output_type": "stream",
     "text": [
      "2020-06-24 09:16:25,889 - june.simulator - INFO - Starting group_dynamics for 70 days at day 0\n",
      "2020-06-24 09:16:25,890 - june.simulator - INFO - starting the loop ..., at 0 days, to run for 70 days\n",
      "2020-06-24 09:16:28,020 - june.simulator - INFO - Date = 2020-03-07 03:00:00, number of deaths =  0, number of infected = 5\n",
      "2020-06-24 09:16:29,787 - june.simulator - INFO - Date = 2020-03-07 05:00:00, number of deaths =  0, number of infected = 5\n",
      "2020-06-24 09:16:31,097 - june.simulator - INFO - Date = 2020-03-07 07:00:00, number of deaths =  0, number of infected = 5\n",
      "2020-06-24 09:16:32,574 - june.simulator - INFO - Date = 2020-03-07 09:00:00, number of deaths =  0, number of infected = 5\n",
      "2020-06-24 09:16:32,753 - june.simulator - INFO - Date = 2020-03-07 11:00:00, number of deaths =  0, number of infected = 5\n",
      "2020-06-24 09:16:33,066 - june.simulator - INFO - Date = 2020-03-08 00:00:00, number of deaths =  0, number of infected = 5\n",
      "2020-06-24 09:16:34,420 - june.simulator - INFO - Date = 2020-03-08 03:00:00, number of deaths =  0, number of infected = 5\n",
      "2020-06-24 09:16:35,756 - june.simulator - INFO - Date = 2020-03-08 05:00:00, number of deaths =  0, number of infected = 5\n",
      "2020-06-24 09:16:37,098 - june.simulator - INFO - Date = 2020-03-08 07:00:00, number of deaths =  0, number of infected = 5\n",
      "2020-06-24 09:16:38,658 - june.simulator - INFO - Date = 2020-03-08 09:00:00, number of deaths =  0, number of infected = 5\n",
      "2020-06-24 09:16:38,826 - june.simulator - INFO - Date = 2020-03-08 11:00:00, number of deaths =  0, number of infected = 5\n",
      "2020-06-24 09:16:39,154 - june.simulator - INFO - Date = 2020-03-09 00:00:00, number of deaths =  0, number of infected = 5\n",
      "2020-06-24 09:16:40,253 - june.simulator - INFO - Date = 2020-03-09 02:00:00, number of deaths =  0, number of infected = 5\n",
      "2020-06-24 09:16:41,408 - june.simulator - INFO - Date = 2020-03-09 04:00:00, number of deaths =  0, number of infected = 5\n",
      "2020-06-24 09:16:44,788 - june.simulator - INFO - Date = 2020-03-09 06:00:00, number of deaths =  0, number of infected = 5\n",
      "2020-06-24 09:16:46,926 - june.simulator - INFO - Date = 2020-03-09 08:00:00, number of deaths =  0, number of infected = 5\n",
      "2020-06-24 09:16:47,184 - june.simulator - INFO - Date = 2020-03-09 10:00:00, number of deaths =  0, number of infected = 5\n",
      "2020-06-24 09:16:47,432 - june.simulator - INFO - Date = 2020-03-10 00:00:00, number of deaths =  0, number of infected = 5\n",
      "2020-06-24 09:16:49,032 - june.simulator - INFO - Date = 2020-03-10 02:00:00, number of deaths =  0, number of infected = 5\n",
      "2020-06-24 09:16:50,635 - june.simulator - INFO - Date = 2020-03-10 04:00:00, number of deaths =  0, number of infected = 5\n",
      "2020-06-24 09:16:52,308 - june.simulator - INFO - Date = 2020-03-10 06:00:00, number of deaths =  0, number of infected = 5\n",
      "2020-06-24 09:16:53,946 - june.simulator - INFO - Date = 2020-03-10 08:00:00, number of deaths =  0, number of infected = 5\n",
      "2020-06-24 09:16:54,198 - june.simulator - INFO - Date = 2020-03-10 10:00:00, number of deaths =  0, number of infected = 5\n",
      "2020-06-24 09:16:54,470 - june.simulator - INFO - Date = 2020-03-11 00:00:00, number of deaths =  0, number of infected = 5\n",
      "2020-06-24 09:16:56,101 - june.simulator - INFO - Date = 2020-03-11 02:00:00, number of deaths =  0, number of infected = 5\n",
      "2020-06-24 09:16:57,997 - june.simulator - INFO - Date = 2020-03-11 04:00:00, number of deaths =  0, number of infected = 6\n",
      "2020-06-24 09:16:59,594 - june.simulator - INFO - Date = 2020-03-11 06:00:00, number of deaths =  0, number of infected = 6\n",
      "2020-06-24 09:17:00,992 - june.simulator - INFO - Date = 2020-03-11 08:00:00, number of deaths =  0, number of infected = 7\n",
      "2020-06-24 09:17:01,272 - june.simulator - INFO - Date = 2020-03-11 10:00:00, number of deaths =  0, number of infected = 8\n",
      "2020-06-24 09:17:01,485 - june.simulator - INFO - Date = 2020-03-12 00:00:00, number of deaths =  0, number of infected = 12\n",
      "2020-06-24 09:17:03,141 - june.simulator - INFO - Date = 2020-03-12 02:00:00, number of deaths =  0, number of infected = 12\n",
      "2020-06-24 09:17:04,757 - june.simulator - INFO - Date = 2020-03-12 04:00:00, number of deaths =  0, number of infected = 13\n",
      "2020-06-24 09:17:06,240 - june.simulator - INFO - Date = 2020-03-12 06:00:00, number of deaths =  0, number of infected = 15\n",
      "2020-06-24 09:17:08,174 - june.simulator - INFO - Date = 2020-03-12 08:00:00, number of deaths =  0, number of infected = 16\n",
      "2020-06-24 09:17:08,465 - june.simulator - INFO - Date = 2020-03-12 10:00:00, number of deaths =  0, number of infected = 18\n",
      "2020-06-24 09:17:08,718 - june.simulator - INFO - Date = 2020-03-13 00:00:00, number of deaths =  0, number of infected = 20\n",
      "2020-06-24 09:17:10,418 - june.simulator - INFO - Date = 2020-03-13 02:00:00, number of deaths =  0, number of infected = 20\n",
      "2020-06-24 09:17:11,804 - june.simulator - INFO - Date = 2020-03-13 04:00:00, number of deaths =  0, number of infected = 20\n",
      "2020-06-24 09:17:13,359 - june.simulator - INFO - Date = 2020-03-13 06:00:00, number of deaths =  0, number of infected = 23\n",
      "2020-06-24 09:17:14,947 - june.simulator - INFO - Date = 2020-03-13 08:00:00, number of deaths =  0, number of infected = 24\n",
      "2020-06-24 09:17:15,174 - june.simulator - INFO - Date = 2020-03-13 10:00:00, number of deaths =  0, number of infected = 26\n",
      "2020-06-24 09:17:15,516 - june.simulator - INFO - Date = 2020-03-14 00:00:00, number of deaths =  0, number of infected = 30\n",
      "2020-06-24 09:17:17,679 - june.simulator - INFO - Date = 2020-03-14 03:00:00, number of deaths =  0, number of infected = 31\n",
      "2020-06-24 09:17:19,553 - june.simulator - INFO - Date = 2020-03-14 05:00:00, number of deaths =  0, number of infected = 34\n",
      "2020-06-24 09:17:21,433 - june.simulator - INFO - Date = 2020-03-14 07:00:00, number of deaths =  0, number of infected = 35\n",
      "2020-06-24 09:17:23,420 - june.simulator - INFO - Date = 2020-03-14 09:00:00, number of deaths =  0, number of infected = 41\n",
      "2020-06-24 09:17:23,643 - june.simulator - INFO - Date = 2020-03-14 11:00:00, number of deaths =  0, number of infected = 42\n",
      "2020-06-24 09:17:23,859 - june.simulator - INFO - Date = 2020-03-15 00:00:00, number of deaths =  0, number of infected = 46\n",
      "2020-06-24 09:17:25,801 - june.simulator - INFO - Date = 2020-03-15 03:00:00, number of deaths =  0, number of infected = 46\n",
      "2020-06-24 09:17:28,060 - june.simulator - INFO - Date = 2020-03-15 05:00:00, number of deaths =  0, number of infected = 46\n",
      "2020-06-24 09:17:30,207 - june.simulator - INFO - Date = 2020-03-15 07:00:00, number of deaths =  0, number of infected = 52\n",
      "2020-06-24 09:17:32,298 - june.simulator - INFO - Date = 2020-03-15 09:00:00, number of deaths =  0, number of infected = 65\n",
      "2020-06-24 09:17:32,599 - june.simulator - INFO - Date = 2020-03-15 11:00:00, number of deaths =  0, number of infected = 66\n",
      "2020-06-24 09:17:32,842 - june.simulator - INFO - Date = 2020-03-16 00:00:00, number of deaths =  0, number of infected = 77\n",
      "2020-06-24 09:17:34,216 - june.simulator - INFO - Date = 2020-03-16 02:00:00, number of deaths =  0, number of infected = 78\n",
      "2020-06-24 09:17:35,690 - june.simulator - INFO - Date = 2020-03-16 04:00:00, number of deaths =  0, number of infected = 87\n",
      "2020-06-24 09:17:37,456 - june.simulator - INFO - Date = 2020-03-16 06:00:00, number of deaths =  0, number of infected = 100\n",
      "2020-06-24 09:17:39,232 - june.simulator - INFO - Date = 2020-03-16 08:00:00, number of deaths =  0, number of infected = 115\n",
      "2020-06-24 09:17:39,518 - june.simulator - INFO - Date = 2020-03-16 10:00:00, number of deaths =  0, number of infected = 123\n",
      "2020-06-24 09:17:39,791 - june.simulator - INFO - Date = 2020-03-17 00:00:00, number of deaths =  0, number of infected = 132\n",
      "2020-06-24 09:17:41,362 - june.simulator - INFO - Date = 2020-03-17 02:00:00, number of deaths =  0, number of infected = 132\n",
      "2020-06-24 09:17:43,158 - june.simulator - INFO - Date = 2020-03-17 04:00:00, number of deaths =  0, number of infected = 139\n",
      "2020-06-24 09:17:45,132 - june.simulator - INFO - Date = 2020-03-17 06:00:00, number of deaths =  0, number of infected = 148\n",
      "2020-06-24 09:17:46,718 - june.simulator - INFO - Date = 2020-03-17 08:00:00, number of deaths =  0, number of infected = 157\n",
      "2020-06-24 09:17:47,011 - june.simulator - INFO - Date = 2020-03-17 10:00:00, number of deaths =  0, number of infected = 161\n",
      "2020-06-24 09:17:47,289 - june.simulator - INFO - Date = 2020-03-18 00:00:00, number of deaths =  0, number of infected = 168\n",
      "2020-06-24 09:17:48,735 - june.simulator - INFO - Date = 2020-03-18 02:00:00, number of deaths =  0, number of infected = 168\n",
      "2020-06-24 09:17:50,348 - june.simulator - INFO - Date = 2020-03-18 04:00:00, number of deaths =  0, number of infected = 179\n",
      "2020-06-24 09:17:52,031 - june.simulator - INFO - Date = 2020-03-18 06:00:00, number of deaths =  0, number of infected = 236\n",
      "2020-06-24 09:17:53,686 - june.simulator - INFO - Date = 2020-03-18 08:00:00, number of deaths =  0, number of infected = 267\n",
      "2020-06-24 09:17:54,066 - june.simulator - INFO - Date = 2020-03-18 10:00:00, number of deaths =  0, number of infected = 275\n",
      "2020-06-24 09:17:54,345 - june.simulator - INFO - Date = 2020-03-19 00:00:00, number of deaths =  0, number of infected = 303\n",
      "2020-06-24 09:17:55,930 - june.simulator - INFO - Date = 2020-03-19 02:00:00, number of deaths =  0, number of infected = 313\n",
      "2020-06-24 09:17:57,556 - june.simulator - INFO - Date = 2020-03-19 04:00:00, number of deaths =  0, number of infected = 361\n",
      "2020-06-24 09:17:59,042 - june.simulator - INFO - Date = 2020-03-19 06:00:00, number of deaths =  0, number of infected = 421\n",
      "2020-06-24 09:18:00,672 - june.simulator - INFO - Date = 2020-03-19 08:00:00, number of deaths =  0, number of infected = 494\n",
      "2020-06-24 09:18:00,911 - june.simulator - INFO - Date = 2020-03-19 10:00:00, number of deaths =  0, number of infected = 583\n",
      "2020-06-24 09:18:01,258 - june.simulator - INFO - Date = 2020-03-20 00:00:00, number of deaths =  0, number of infected = 632\n",
      "2020-06-24 09:18:02,801 - june.simulator - INFO - Date = 2020-03-20 02:00:00, number of deaths =  0, number of infected = 645\n",
      "2020-06-24 09:18:04,245 - june.simulator - INFO - Date = 2020-03-20 04:00:00, number of deaths =  0, number of infected = 726\n",
      "2020-06-24 09:18:06,290 - june.simulator - INFO - Date = 2020-03-20 06:00:00, number of deaths =  0, number of infected = 833\n",
      "2020-06-24 09:18:07,881 - june.simulator - INFO - Date = 2020-03-20 08:00:00, number of deaths =  0, number of infected = 928\n",
      "2020-06-24 09:18:08,118 - june.simulator - INFO - Date = 2020-03-20 10:00:00, number of deaths =  0, number of infected = 1018\n",
      "2020-06-24 09:18:08,382 - june.simulator - INFO - Date = 2020-03-21 00:00:00, number of deaths =  0, number of infected = 1103\n",
      "2020-06-24 09:18:10,203 - june.simulator - INFO - Date = 2020-03-21 03:00:00, number of deaths =  0, number of infected = 1136\n",
      "2020-06-24 09:18:12,537 - june.simulator - INFO - Date = 2020-03-21 05:00:00, number of deaths =  0, number of infected = 1302\n",
      "2020-06-24 09:18:14,544 - june.simulator - INFO - Date = 2020-03-21 07:00:00, number of deaths =  0, number of infected = 1480\n",
      "2020-06-24 09:18:16,668 - june.simulator - INFO - Date = 2020-03-21 09:00:00, number of deaths =  0, number of infected = 1725\n",
      "2020-06-24 09:18:17,021 - june.simulator - INFO - Date = 2020-03-21 11:00:00, number of deaths =  0, number of infected = 1900\n",
      "2020-06-24 09:18:17,355 - june.simulator - INFO - Date = 2020-03-22 00:00:00, number of deaths =  0, number of infected = 2028\n",
      "2020-06-24 09:18:19,287 - june.simulator - INFO - Date = 2020-03-22 03:00:00, number of deaths =  0, number of infected = 2079\n",
      "2020-06-24 09:18:21,405 - june.simulator - INFO - Date = 2020-03-22 05:00:00, number of deaths =  0, number of infected = 2442\n",
      "2020-06-24 09:18:23,620 - june.simulator - INFO - Date = 2020-03-22 07:00:00, number of deaths =  0, number of infected = 2818\n",
      "2020-06-24 09:18:25,806 - june.simulator - INFO - Date = 2020-03-22 09:00:00, number of deaths =  0, number of infected = 3164\n",
      "2020-06-24 09:18:26,288 - june.simulator - INFO - Date = 2020-03-22 11:00:00, number of deaths =  0, number of infected = 3479\n",
      "2020-06-24 09:18:26,730 - june.simulator - INFO - Date = 2020-03-23 00:00:00, number of deaths =  0, number of infected = 3745\n",
      "2020-06-24 09:18:28,246 - june.simulator - INFO - Date = 2020-03-23 02:00:00, number of deaths =  0, number of infected = 3807\n",
      "2020-06-24 09:18:29,770 - june.simulator - INFO - Date = 2020-03-23 04:00:00, number of deaths =  0, number of infected = 4230\n",
      "2020-06-24 09:18:31,856 - june.simulator - INFO - Date = 2020-03-23 06:00:00, number of deaths =  0, number of infected = 4616\n",
      "2020-06-24 09:18:33,668 - june.simulator - INFO - Date = 2020-03-23 08:00:00, number of deaths =  0, number of infected = 4988\n",
      "2020-06-24 09:18:34,050 - june.simulator - INFO - Date = 2020-03-23 10:00:00, number of deaths =  0, number of infected = 5424\n",
      "2020-06-24 09:18:34,458 - june.simulator - INFO - Date = 2020-03-24 00:00:00, number of deaths =  0, number of infected = 5867\n",
      "2020-06-24 09:18:36,123 - june.simulator - INFO - Date = 2020-03-24 02:00:00, number of deaths =  0, number of infected = 5958\n",
      "2020-06-24 09:18:38,212 - june.simulator - INFO - Date = 2020-03-24 04:00:00, number of deaths =  0, number of infected = 6514\n",
      "2020-06-24 09:18:40,315 - june.simulator - INFO - Date = 2020-03-24 06:00:00, number of deaths =  0, number of infected = 7073\n",
      "2020-06-24 09:18:42,135 - june.simulator - INFO - Date = 2020-03-24 08:00:00, number of deaths =  0, number of infected = 7651\n",
      "2020-06-24 09:18:42,733 - june.simulator - INFO - Date = 2020-03-24 10:00:00, number of deaths =  0, number of infected = 8158\n",
      "2020-06-24 09:18:43,275 - june.simulator - INFO - Date = 2020-03-25 00:00:00, number of deaths =  0, number of infected = 8824\n",
      "2020-06-24 09:18:45,169 - june.simulator - INFO - Date = 2020-03-25 02:00:00, number of deaths =  0, number of infected = 8968\n",
      "2020-06-24 09:18:46,970 - june.simulator - INFO - Date = 2020-03-25 04:00:00, number of deaths =  0, number of infected = 9676\n",
      "2020-06-24 09:18:49,158 - june.simulator - INFO - Date = 2020-03-25 06:00:00, number of deaths =  0, number of infected = 10453\n",
      "2020-06-24 09:18:51,138 - june.simulator - INFO - Date = 2020-03-25 08:00:00, number of deaths =  0, number of infected = 11180\n",
      "2020-06-24 09:18:52,159 - june.simulator - INFO - Date = 2020-03-25 10:00:00, number of deaths =  1, number of infected = 11841\n",
      "2020-06-24 09:18:53,009 - june.simulator - INFO - Date = 2020-03-26 00:00:00, number of deaths =  1, number of infected = 12769\n",
      "2020-06-24 09:18:54,775 - june.simulator - INFO - Date = 2020-03-26 02:00:00, number of deaths =  1, number of infected = 12968\n",
      "2020-06-24 09:18:57,067 - june.simulator - INFO - Date = 2020-03-26 04:00:00, number of deaths =  1, number of infected = 13684\n",
      "2020-06-24 09:18:59,112 - june.simulator - INFO - Date = 2020-03-26 06:00:00, number of deaths =  1, number of infected = 14426\n",
      "2020-06-24 09:19:01,017 - june.simulator - INFO - Date = 2020-03-26 08:00:00, number of deaths =  1, number of infected = 15108\n",
      "2020-06-24 09:19:01,751 - june.simulator - INFO - Date = 2020-03-26 10:00:00, number of deaths =  1, number of infected = 15696\n",
      "2020-06-24 09:19:02,609 - june.simulator - INFO - Date = 2020-03-27 00:00:00, number of deaths =  1, number of infected = 16648\n",
      "2020-06-24 09:19:04,383 - june.simulator - INFO - Date = 2020-03-27 02:00:00, number of deaths =  1, number of infected = 16789\n",
      "2020-06-24 09:19:06,359 - june.simulator - INFO - Date = 2020-03-27 04:00:00, number of deaths =  1, number of infected = 17332\n",
      "2020-06-24 09:19:08,513 - june.simulator - INFO - Date = 2020-03-27 06:00:00, number of deaths =  1, number of infected = 17865\n",
      "2020-06-24 09:19:10,473 - june.simulator - INFO - Date = 2020-03-27 08:00:00, number of deaths =  1, number of infected = 18360\n",
      "2020-06-24 09:19:11,075 - june.simulator - INFO - Date = 2020-03-27 10:00:00, number of deaths =  1, number of infected = 18836\n",
      "2020-06-24 09:19:11,743 - june.simulator - INFO - Date = 2020-03-28 00:00:00, number of deaths =  1, number of infected = 19525\n",
      "2020-06-24 09:19:13,767 - june.simulator - INFO - Date = 2020-03-28 03:00:00, number of deaths =  1, number of infected = 19691\n",
      "2020-06-24 09:19:15,823 - june.simulator - INFO - Date = 2020-03-28 05:00:00, number of deaths =  1, number of infected = 20189\n",
      "2020-06-24 09:19:18,102 - june.simulator - INFO - Date = 2020-03-28 07:00:00, number of deaths =  1, number of infected = 20634\n",
      "2020-06-24 09:19:20,742 - june.simulator - INFO - Date = 2020-03-28 09:00:00, number of deaths =  1, number of infected = 20981\n",
      "2020-06-24 09:19:21,310 - june.simulator - INFO - Date = 2020-03-28 11:00:00, number of deaths =  1, number of infected = 21300\n",
      "2020-06-24 09:19:21,869 - june.simulator - INFO - Date = 2020-03-29 00:00:00, number of deaths =  2, number of infected = 21658\n",
      "2020-06-24 09:19:24,245 - june.simulator - INFO - Date = 2020-03-29 03:00:00, number of deaths =  2, number of infected = 21737\n",
      "2020-06-24 09:19:26,331 - june.simulator - INFO - Date = 2020-03-29 05:00:00, number of deaths =  2, number of infected = 21955\n",
      "2020-06-24 09:19:28,239 - june.simulator - INFO - Date = 2020-03-29 07:00:00, number of deaths =  2, number of infected = 22166\n",
      "2020-06-24 09:19:30,169 - june.simulator - INFO - Date = 2020-03-29 09:00:00, number of deaths =  2, number of infected = 22322\n",
      "2020-06-24 09:19:30,725 - june.simulator - INFO - Date = 2020-03-29 11:00:00, number of deaths =  2, number of infected = 22432\n",
      "2020-06-24 09:19:31,259 - june.simulator - INFO - Date = 2020-03-30 00:00:00, number of deaths =  2, number of infected = 22587\n",
      "2020-06-24 09:19:32,758 - june.simulator - INFO - Date = 2020-03-30 02:00:00, number of deaths =  2, number of infected = 22612\n",
      "2020-06-24 09:19:34,321 - june.simulator - INFO - Date = 2020-03-30 04:00:00, number of deaths =  2, number of infected = 22668\n",
      "2020-06-24 09:19:35,798 - june.simulator - INFO - Date = 2020-03-30 06:00:00, number of deaths =  2, number of infected = 22713\n",
      "2020-06-24 09:19:37,688 - june.simulator - INFO - Date = 2020-03-30 08:00:00, number of deaths =  2, number of infected = 22762\n",
      "2020-06-24 09:19:38,246 - june.simulator - INFO - Date = 2020-03-30 10:00:00, number of deaths =  2, number of infected = 22795\n",
      "2020-06-24 09:19:38,749 - june.simulator - INFO - Date = 2020-03-31 00:00:00, number of deaths =  3, number of infected = 22833\n",
      "2020-06-24 09:19:40,044 - june.simulator - INFO - Date = 2020-03-31 02:00:00, number of deaths =  3, number of infected = 22848\n",
      "2020-06-24 09:19:41,585 - june.simulator - INFO - Date = 2020-03-31 04:00:00, number of deaths =  3, number of infected = 22856\n",
      "2020-06-24 09:19:43,331 - june.simulator - INFO - Date = 2020-03-31 06:00:00, number of deaths =  3, number of infected = 22864\n",
      "2020-06-24 09:19:44,729 - june.simulator - INFO - Date = 2020-03-31 08:00:00, number of deaths =  3, number of infected = 22876\n",
      "2020-06-24 09:19:45,234 - june.simulator - INFO - Date = 2020-03-31 10:00:00, number of deaths =  3, number of infected = 22885\n",
      "2020-06-24 09:19:45,718 - june.simulator - INFO - Date = 2020-04-01 00:00:00, number of deaths =  3, number of infected = 22897\n",
      "2020-06-24 09:19:47,030 - june.simulator - INFO - Date = 2020-04-01 02:00:00, number of deaths =  3, number of infected = 22896\n",
      "2020-06-24 09:19:48,425 - june.simulator - INFO - Date = 2020-04-01 04:00:00, number of deaths =  3, number of infected = 22899\n",
      "2020-06-24 09:19:49,659 - june.simulator - INFO - Date = 2020-04-01 06:00:00, number of deaths =  3, number of infected = 22899\n",
      "2020-06-24 09:19:51,060 - june.simulator - INFO - Date = 2020-04-01 08:00:00, number of deaths =  3, number of infected = 22904\n",
      "2020-06-24 09:19:51,514 - june.simulator - INFO - Date = 2020-04-01 10:00:00, number of deaths =  3, number of infected = 22903\n",
      "2020-06-24 09:19:52,014 - june.simulator - INFO - Date = 2020-04-02 00:00:00, number of deaths =  3, number of infected = 22903\n",
      "2020-06-24 09:19:53,452 - june.simulator - INFO - Date = 2020-04-02 02:00:00, number of deaths =  3, number of infected = 22902\n",
      "2020-06-24 09:19:54,972 - june.simulator - INFO - Date = 2020-04-02 04:00:00, number of deaths =  3, number of infected = 22899\n",
      "2020-06-24 09:19:56,159 - june.simulator - INFO - Date = 2020-04-02 06:00:00, number of deaths =  3, number of infected = 22900\n",
      "2020-06-24 09:19:57,371 - june.simulator - INFO - Date = 2020-04-02 08:00:00, number of deaths =  3, number of infected = 22903\n",
      "2020-06-24 09:19:57,915 - june.simulator - INFO - Date = 2020-04-02 10:00:00, number of deaths =  4, number of infected = 22903\n",
      "2020-06-24 09:19:58,351 - june.simulator - INFO - Date = 2020-04-03 00:00:00, number of deaths =  4, number of infected = 22893\n",
      "2020-06-24 09:19:59,518 - june.simulator - INFO - Date = 2020-04-03 02:00:00, number of deaths =  4, number of infected = 22888\n",
      "2020-06-24 09:20:00,819 - june.simulator - INFO - Date = 2020-04-03 04:00:00, number of deaths =  4, number of infected = 22885\n",
      "2020-06-24 09:20:02,041 - june.simulator - INFO - Date = 2020-04-03 06:00:00, number of deaths =  4, number of infected = 22883\n",
      "2020-06-24 09:20:03,568 - june.simulator - INFO - Date = 2020-04-03 08:00:00, number of deaths =  4, number of infected = 22880\n",
      "2020-06-24 09:20:03,998 - june.simulator - INFO - Date = 2020-04-03 10:00:00, number of deaths =  4, number of infected = 22878\n",
      "2020-06-24 09:20:04,495 - june.simulator - INFO - Date = 2020-04-04 00:00:00, number of deaths =  4, number of infected = 22852\n",
      "2020-06-24 09:20:06,118 - june.simulator - INFO - Date = 2020-04-04 03:00:00, number of deaths =  4, number of infected = 22846\n",
      "2020-06-24 09:20:07,451 - june.simulator - INFO - Date = 2020-04-04 05:00:00, number of deaths =  4, number of infected = 22841\n",
      "2020-06-24 09:20:08,868 - june.simulator - INFO - Date = 2020-04-04 07:00:00, number of deaths =  4, number of infected = 22835\n",
      "2020-06-24 09:20:10,205 - june.simulator - INFO - Date = 2020-04-04 09:00:00, number of deaths =  4, number of infected = 22831\n",
      "2020-06-24 09:20:10,657 - june.simulator - INFO - Date = 2020-04-04 11:00:00, number of deaths =  4, number of infected = 22827\n",
      "2020-06-24 09:20:11,190 - june.simulator - INFO - Date = 2020-04-05 00:00:00, number of deaths =  4, number of infected = 22793\n",
      "2020-06-24 09:20:12,615 - june.simulator - INFO - Date = 2020-04-05 03:00:00, number of deaths =  4, number of infected = 22788\n",
      "2020-06-24 09:20:14,183 - june.simulator - INFO - Date = 2020-04-05 05:00:00, number of deaths =  4, number of infected = 22775\n",
      "2020-06-24 09:20:15,864 - june.simulator - INFO - Date = 2020-04-05 07:00:00, number of deaths =  4, number of infected = 22766\n",
      "2020-06-24 09:20:17,240 - june.simulator - INFO - Date = 2020-04-05 09:00:00, number of deaths =  4, number of infected = 22758\n",
      "2020-06-24 09:20:17,762 - june.simulator - INFO - Date = 2020-04-05 11:00:00, number of deaths =  4, number of infected = 22747\n",
      "2020-06-24 09:20:18,201 - june.simulator - INFO - Date = 2020-04-06 00:00:00, number of deaths =  5, number of infected = 22665\n",
      "2020-06-24 09:20:19,355 - june.simulator - INFO - Date = 2020-04-06 02:00:00, number of deaths =  6, number of infected = 22649\n",
      "2020-06-24 09:20:20,496 - june.simulator - INFO - Date = 2020-04-06 04:00:00, number of deaths =  6, number of infected = 22639\n",
      "2020-06-24 09:20:21,698 - june.simulator - INFO - Date = 2020-04-06 06:00:00, number of deaths =  6, number of infected = 22624\n",
      "2020-06-24 09:20:22,873 - june.simulator - INFO - Date = 2020-04-06 08:00:00, number of deaths =  6, number of infected = 22608\n",
      "2020-06-24 09:20:23,422 - june.simulator - INFO - Date = 2020-04-06 10:00:00, number of deaths =  6, number of infected = 22585\n",
      "2020-06-24 09:20:23,979 - june.simulator - INFO - Date = 2020-04-07 00:00:00, number of deaths =  6, number of infected = 22456\n",
      "2020-06-24 09:20:25,356 - june.simulator - INFO - Date = 2020-04-07 02:00:00, number of deaths =  6, number of infected = 22431\n",
      "2020-06-24 09:20:26,674 - june.simulator - INFO - Date = 2020-04-07 04:00:00, number of deaths =  6, number of infected = 22405\n",
      "2020-06-24 09:20:27,772 - june.simulator - INFO - Date = 2020-04-07 06:00:00, number of deaths =  6, number of infected = 22385\n",
      "2020-06-24 09:20:28,958 - june.simulator - INFO - Date = 2020-04-07 08:00:00, number of deaths =  6, number of infected = 22358\n",
      "2020-06-24 09:20:29,460 - june.simulator - INFO - Date = 2020-04-07 10:00:00, number of deaths =  6, number of infected = 22340\n",
      "2020-06-24 09:20:30,272 - june.simulator - INFO - Date = 2020-04-08 00:00:00, number of deaths =  6, number of infected = 22119\n",
      "2020-06-24 09:20:31,470 - june.simulator - INFO - Date = 2020-04-08 02:00:00, number of deaths =  6, number of infected = 22072\n",
      "2020-06-24 09:20:32,704 - june.simulator - INFO - Date = 2020-04-08 04:00:00, number of deaths =  6, number of infected = 22031\n",
      "2020-06-24 09:20:33,774 - june.simulator - INFO - Date = 2020-04-08 06:00:00, number of deaths =  6, number of infected = 21997\n",
      "2020-06-24 09:20:34,851 - june.simulator - INFO - Date = 2020-04-08 08:00:00, number of deaths =  6, number of infected = 21955\n",
      "2020-06-24 09:20:35,258 - june.simulator - INFO - Date = 2020-04-08 10:00:00, number of deaths =  6, number of infected = 21912\n",
      "2020-06-24 09:20:35,694 - june.simulator - INFO - Date = 2020-04-09 00:00:00, number of deaths =  7, number of infected = 21599\n",
      "2020-06-24 09:20:36,856 - june.simulator - INFO - Date = 2020-04-09 02:00:00, number of deaths =  7, number of infected = 21552\n",
      "2020-06-24 09:20:37,869 - june.simulator - INFO - Date = 2020-04-09 04:00:00, number of deaths =  7, number of infected = 21503\n",
      "2020-06-24 09:20:39,241 - june.simulator - INFO - Date = 2020-04-09 06:00:00, number of deaths =  7, number of infected = 21450\n",
      "2020-06-24 09:20:40,461 - june.simulator - INFO - Date = 2020-04-09 08:00:00, number of deaths =  8, number of infected = 21402\n",
      "2020-06-24 09:20:40,937 - june.simulator - INFO - Date = 2020-04-09 10:00:00, number of deaths =  8, number of infected = 21353\n",
      "2020-06-24 09:20:41,488 - june.simulator - INFO - Date = 2020-04-10 00:00:00, number of deaths =  9, number of infected = 20873\n",
      "2020-06-24 09:20:42,582 - june.simulator - INFO - Date = 2020-04-10 02:00:00, number of deaths =  9, number of infected = 20805\n",
      "2020-06-24 09:20:43,793 - june.simulator - INFO - Date = 2020-04-10 04:00:00, number of deaths =  9, number of infected = 20721\n",
      "2020-06-24 09:20:44,897 - june.simulator - INFO - Date = 2020-04-10 06:00:00, number of deaths =  9, number of infected = 20649\n",
      "2020-06-24 09:20:46,026 - june.simulator - INFO - Date = 2020-04-10 08:00:00, number of deaths =  9, number of infected = 20563\n",
      "2020-06-24 09:20:46,498 - june.simulator - INFO - Date = 2020-04-10 10:00:00, number of deaths =  9, number of infected = 20488\n",
      "2020-06-24 09:20:46,998 - june.simulator - INFO - Date = 2020-04-11 00:00:00, number of deaths =  11, number of infected = 19893\n",
      "2020-06-24 09:20:48,339 - june.simulator - INFO - Date = 2020-04-11 03:00:00, number of deaths =  11, number of infected = 19735\n",
      "2020-06-24 09:20:49,599 - june.simulator - INFO - Date = 2020-04-11 05:00:00, number of deaths =  11, number of infected = 19643\n",
      "2020-06-24 09:20:50,855 - june.simulator - INFO - Date = 2020-04-11 07:00:00, number of deaths =  11, number of infected = 19548\n",
      "2020-06-24 09:20:52,270 - june.simulator - INFO - Date = 2020-04-11 09:00:00, number of deaths =  12, number of infected = 19460\n",
      "2020-06-24 09:20:52,848 - june.simulator - INFO - Date = 2020-04-11 11:00:00, number of deaths =  12, number of infected = 19363\n",
      "2020-06-24 09:20:53,392 - june.simulator - INFO - Date = 2020-04-12 00:00:00, number of deaths =  13, number of infected = 18663\n",
      "2020-06-24 09:20:54,744 - june.simulator - INFO - Date = 2020-04-12 03:00:00, number of deaths =  13, number of infected = 18497\n",
      "2020-06-24 09:20:56,096 - june.simulator - INFO - Date = 2020-04-12 05:00:00, number of deaths =  13, number of infected = 18385\n",
      "2020-06-24 09:20:57,606 - june.simulator - INFO - Date = 2020-04-12 07:00:00, number of deaths =  13, number of infected = 18246\n",
      "2020-06-24 09:20:59,101 - june.simulator - INFO - Date = 2020-04-12 09:00:00, number of deaths =  13, number of infected = 18130\n",
      "2020-06-24 09:20:59,540 - june.simulator - INFO - Date = 2020-04-12 11:00:00, number of deaths =  13, number of infected = 18011\n",
      "2020-06-24 09:21:00,013 - june.simulator - INFO - Date = 2020-04-13 00:00:00, number of deaths =  13, number of infected = 17282\n",
      "2020-06-24 09:21:01,201 - june.simulator - INFO - Date = 2020-04-13 02:00:00, number of deaths =  13, number of infected = 17172\n",
      "2020-06-24 09:21:02,457 - june.simulator - INFO - Date = 2020-04-13 04:00:00, number of deaths =  13, number of infected = 17069\n",
      "2020-06-24 09:21:03,581 - june.simulator - INFO - Date = 2020-04-13 06:00:00, number of deaths =  13, number of infected = 16942\n",
      "2020-06-24 09:21:04,758 - june.simulator - INFO - Date = 2020-04-13 08:00:00, number of deaths =  13, number of infected = 16822\n",
      "2020-06-24 09:21:05,216 - june.simulator - INFO - Date = 2020-04-13 10:00:00, number of deaths =  13, number of infected = 16727\n",
      "2020-06-24 09:21:05,615 - june.simulator - INFO - Date = 2020-04-14 00:00:00, number of deaths =  14, number of infected = 15921\n",
      "2020-06-24 09:21:06,823 - june.simulator - INFO - Date = 2020-04-14 02:00:00, number of deaths =  14, number of infected = 15784\n",
      "2020-06-24 09:21:07,939 - june.simulator - INFO - Date = 2020-04-14 04:00:00, number of deaths =  14, number of infected = 15663\n",
      "2020-06-24 09:21:09,167 - june.simulator - INFO - Date = 2020-04-14 06:00:00, number of deaths =  14, number of infected = 15557\n",
      "2020-06-24 09:21:10,617 - june.simulator - INFO - Date = 2020-04-14 08:00:00, number of deaths =  14, number of infected = 15443\n",
      "2020-06-24 09:21:11,099 - june.simulator - INFO - Date = 2020-04-14 10:00:00, number of deaths =  14, number of infected = 15322\n",
      "2020-06-24 09:21:11,473 - june.simulator - INFO - Date = 2020-04-15 00:00:00, number of deaths =  15, number of infected = 14499\n",
      "2020-06-24 09:21:12,551 - june.simulator - INFO - Date = 2020-04-15 02:00:00, number of deaths =  15, number of infected = 14381\n",
      "2020-06-24 09:21:13,763 - june.simulator - INFO - Date = 2020-04-15 04:00:00, number of deaths =  15, number of infected = 14288\n",
      "2020-06-24 09:21:14,876 - june.simulator - INFO - Date = 2020-04-15 06:00:00, number of deaths =  15, number of infected = 14175\n",
      "2020-06-24 09:21:16,059 - june.simulator - INFO - Date = 2020-04-15 08:00:00, number of deaths =  15, number of infected = 14043\n",
      "2020-06-24 09:21:16,479 - june.simulator - INFO - Date = 2020-04-15 10:00:00, number of deaths =  15, number of infected = 13927\n",
      "2020-06-24 09:21:16,957 - june.simulator - INFO - Date = 2020-04-16 00:00:00, number of deaths =  17, number of infected = 13147\n",
      "2020-06-24 09:21:18,016 - june.simulator - INFO - Date = 2020-04-16 02:00:00, number of deaths =  17, number of infected = 13039\n",
      "2020-06-24 09:21:19,296 - june.simulator - INFO - Date = 2020-04-16 04:00:00, number of deaths =  17, number of infected = 12925\n",
      "2020-06-24 09:21:20,563 - june.simulator - INFO - Date = 2020-04-16 06:00:00, number of deaths =  17, number of infected = 12820\n",
      "2020-06-24 09:21:21,668 - june.simulator - INFO - Date = 2020-04-16 08:00:00, number of deaths =  17, number of infected = 12710\n",
      "2020-06-24 09:21:21,984 - june.simulator - INFO - Date = 2020-04-16 10:00:00, number of deaths =  17, number of infected = 12592\n",
      "2020-06-24 09:21:22,347 - june.simulator - INFO - Date = 2020-04-17 00:00:00, number of deaths =  18, number of infected = 11798\n",
      "2020-06-24 09:21:23,538 - june.simulator - INFO - Date = 2020-04-17 02:00:00, number of deaths =  18, number of infected = 11681\n",
      "2020-06-24 09:21:24,754 - june.simulator - INFO - Date = 2020-04-17 04:00:00, number of deaths =  18, number of infected = 11573\n",
      "2020-06-24 09:21:25,925 - june.simulator - INFO - Date = 2020-04-17 06:00:00, number of deaths =  18, number of infected = 11436\n",
      "2020-06-24 09:21:27,235 - june.simulator - INFO - Date = 2020-04-17 08:00:00, number of deaths =  18, number of infected = 11334\n",
      "2020-06-24 09:21:27,649 - june.simulator - INFO - Date = 2020-04-17 10:00:00, number of deaths =  18, number of infected = 11240\n",
      "2020-06-24 09:21:27,999 - june.simulator - INFO - Date = 2020-04-18 00:00:00, number of deaths =  19, number of infected = 10469\n",
      "2020-06-24 09:21:29,896 - june.simulator - INFO - Date = 2020-04-18 03:00:00, number of deaths =  19, number of infected = 10330\n",
      "2020-06-24 09:21:31,339 - june.simulator - INFO - Date = 2020-04-18 05:00:00, number of deaths =  19, number of infected = 10216\n",
      "2020-06-24 09:21:32,852 - june.simulator - INFO - Date = 2020-04-18 07:00:00, number of deaths =  19, number of infected = 10101\n",
      "2020-06-24 09:21:34,256 - june.simulator - INFO - Date = 2020-04-18 09:00:00, number of deaths =  19, number of infected = 9981\n",
      "2020-06-24 09:21:34,606 - june.simulator - INFO - Date = 2020-04-18 11:00:00, number of deaths =  19, number of infected = 9852\n",
      "2020-06-24 09:21:34,922 - june.simulator - INFO - Date = 2020-04-19 00:00:00, number of deaths =  19, number of infected = 9136\n",
      "2020-06-24 09:21:36,505 - june.simulator - INFO - Date = 2020-04-19 03:00:00, number of deaths =  19, number of infected = 8982\n",
      "2020-06-24 09:21:38,446 - june.simulator - INFO - Date = 2020-04-19 05:00:00, number of deaths =  19, number of infected = 8887\n",
      "2020-06-24 09:21:40,013 - june.simulator - INFO - Date = 2020-04-19 07:00:00, number of deaths =  19, number of infected = 8803\n",
      "2020-06-24 09:21:41,472 - june.simulator - INFO - Date = 2020-04-19 09:00:00, number of deaths =  19, number of infected = 8690\n",
      "2020-06-24 09:21:41,784 - june.simulator - INFO - Date = 2020-04-19 11:00:00, number of deaths =  19, number of infected = 8573\n",
      "2020-06-24 09:21:42,085 - june.simulator - INFO - Date = 2020-04-20 00:00:00, number of deaths =  19, number of infected = 7880\n",
      "2020-06-24 09:21:43,419 - june.simulator - INFO - Date = 2020-04-20 02:00:00, number of deaths =  19, number of infected = 7793\n",
      "2020-06-24 09:21:44,737 - june.simulator - INFO - Date = 2020-04-20 04:00:00, number of deaths =  19, number of infected = 7689\n",
      "2020-06-24 09:21:46,061 - june.simulator - INFO - Date = 2020-04-20 06:00:00, number of deaths =  19, number of infected = 7569\n",
      "2020-06-24 09:21:47,443 - june.simulator - INFO - Date = 2020-04-20 08:00:00, number of deaths =  19, number of infected = 7456\n",
      "2020-06-24 09:21:47,857 - june.simulator - INFO - Date = 2020-04-20 10:00:00, number of deaths =  19, number of infected = 7351\n",
      "2020-06-24 09:21:48,204 - june.simulator - INFO - Date = 2020-04-21 00:00:00, number of deaths =  19, number of infected = 6643\n",
      "2020-06-24 09:21:49,473 - june.simulator - INFO - Date = 2020-04-21 02:00:00, number of deaths =  19, number of infected = 6534\n",
      "2020-06-24 09:21:50,819 - june.simulator - INFO - Date = 2020-04-21 04:00:00, number of deaths =  19, number of infected = 6434\n",
      "2020-06-24 09:21:52,207 - june.simulator - INFO - Date = 2020-04-21 06:00:00, number of deaths =  20, number of infected = 6317\n",
      "2020-06-24 09:21:53,557 - june.simulator - INFO - Date = 2020-04-21 08:00:00, number of deaths =  20, number of infected = 6225\n",
      "2020-06-24 09:21:53,853 - june.simulator - INFO - Date = 2020-04-21 10:00:00, number of deaths =  20, number of infected = 6114\n",
      "2020-06-24 09:21:54,172 - june.simulator - INFO - Date = 2020-04-22 00:00:00, number of deaths =  20, number of infected = 5443\n",
      "2020-06-24 09:21:55,407 - june.simulator - INFO - Date = 2020-04-22 02:00:00, number of deaths =  20, number of infected = 5350\n",
      "2020-06-24 09:21:56,802 - june.simulator - INFO - Date = 2020-04-22 04:00:00, number of deaths =  20, number of infected = 5261\n",
      "2020-06-24 09:21:58,372 - june.simulator - INFO - Date = 2020-04-22 06:00:00, number of deaths =  20, number of infected = 5169\n",
      "2020-06-24 09:21:59,738 - june.simulator - INFO - Date = 2020-04-22 08:00:00, number of deaths =  20, number of infected = 5082\n",
      "2020-06-24 09:22:00,023 - june.simulator - INFO - Date = 2020-04-22 10:00:00, number of deaths =  20, number of infected = 5000\n",
      "2020-06-24 09:22:00,240 - june.simulator - INFO - Date = 2020-04-23 00:00:00, number of deaths =  20, number of infected = 4386\n",
      "2020-06-24 09:22:01,621 - june.simulator - INFO - Date = 2020-04-23 02:00:00, number of deaths =  20, number of infected = 4300\n",
      "2020-06-24 09:22:03,105 - june.simulator - INFO - Date = 2020-04-23 04:00:00, number of deaths =  20, number of infected = 4218\n",
      "2020-06-24 09:22:04,624 - june.simulator - INFO - Date = 2020-04-23 06:00:00, number of deaths =  20, number of infected = 4124\n",
      "2020-06-24 09:22:06,466 - june.simulator - INFO - Date = 2020-04-23 08:00:00, number of deaths =  20, number of infected = 4046\n",
      "2020-06-24 09:22:06,755 - june.simulator - INFO - Date = 2020-04-23 10:00:00, number of deaths =  20, number of infected = 3946\n",
      "2020-06-24 09:22:07,040 - june.simulator - INFO - Date = 2020-04-24 00:00:00, number of deaths =  20, number of infected = 3400\n",
      "2020-06-24 09:22:08,588 - june.simulator - INFO - Date = 2020-04-24 02:00:00, number of deaths =  20, number of infected = 3318\n",
      "2020-06-24 09:22:10,177 - june.simulator - INFO - Date = 2020-04-24 04:00:00, number of deaths =  20, number of infected = 3239\n",
      "2020-06-24 09:22:11,569 - june.simulator - INFO - Date = 2020-04-24 06:00:00, number of deaths =  20, number of infected = 3168\n",
      "2020-06-24 09:22:13,054 - june.simulator - INFO - Date = 2020-04-24 08:00:00, number of deaths =  20, number of infected = 3105\n",
      "2020-06-24 09:22:13,254 - june.simulator - INFO - Date = 2020-04-24 10:00:00, number of deaths =  20, number of infected = 3020\n",
      "2020-06-24 09:22:13,439 - june.simulator - INFO - Date = 2020-04-25 00:00:00, number of deaths =  20, number of infected = 2566\n",
      "2020-06-24 09:22:15,193 - june.simulator - INFO - Date = 2020-04-25 03:00:00, number of deaths =  20, number of infected = 2456\n",
      "2020-06-24 09:22:17,067 - june.simulator - INFO - Date = 2020-04-25 05:00:00, number of deaths =  20, number of infected = 2377\n",
      "2020-06-24 09:22:18,845 - june.simulator - INFO - Date = 2020-04-25 07:00:00, number of deaths =  20, number of infected = 2315\n",
      "2020-06-24 09:22:20,868 - june.simulator - INFO - Date = 2020-04-25 09:00:00, number of deaths =  20, number of infected = 2250\n",
      "2020-06-24 09:22:21,066 - june.simulator - INFO - Date = 2020-04-25 11:00:00, number of deaths =  20, number of infected = 2188\n",
      "2020-06-24 09:22:21,245 - june.simulator - INFO - Date = 2020-04-26 00:00:00, number of deaths =  20, number of infected = 1793\n",
      "2020-06-24 09:22:22,978 - june.simulator - INFO - Date = 2020-04-26 03:00:00, number of deaths =  20, number of infected = 1715\n",
      "2020-06-24 09:22:24,834 - june.simulator - INFO - Date = 2020-04-26 05:00:00, number of deaths =  20, number of infected = 1654\n",
      "2020-06-24 09:22:26,739 - june.simulator - INFO - Date = 2020-04-26 07:00:00, number of deaths =  20, number of infected = 1600\n",
      "2020-06-24 09:22:28,511 - june.simulator - INFO - Date = 2020-04-26 09:00:00, number of deaths =  20, number of infected = 1551\n",
      "2020-06-24 09:22:28,711 - june.simulator - INFO - Date = 2020-04-26 11:00:00, number of deaths =  20, number of infected = 1494\n",
      "2020-06-24 09:22:28,890 - june.simulator - INFO - Date = 2020-04-27 00:00:00, number of deaths =  20, number of infected = 1213\n",
      "2020-06-24 09:22:30,138 - june.simulator - INFO - Date = 2020-04-27 02:00:00, number of deaths =  20, number of infected = 1162\n",
      "2020-06-24 09:22:31,743 - june.simulator - INFO - Date = 2020-04-27 04:00:00, number of deaths =  20, number of infected = 1128\n",
      "2020-06-24 09:22:33,357 - june.simulator - INFO - Date = 2020-04-27 06:00:00, number of deaths =  20, number of infected = 1091\n",
      "2020-06-24 09:22:34,721 - june.simulator - INFO - Date = 2020-04-27 08:00:00, number of deaths =  20, number of infected = 1056\n",
      "2020-06-24 09:22:34,922 - june.simulator - INFO - Date = 2020-04-27 10:00:00, number of deaths =  20, number of infected = 1023\n",
      "2020-06-24 09:22:35,116 - june.simulator - INFO - Date = 2020-04-28 00:00:00, number of deaths =  20, number of infected = 787\n",
      "2020-06-24 09:22:36,557 - june.simulator - INFO - Date = 2020-04-28 02:00:00, number of deaths =  20, number of infected = 755\n",
      "2020-06-24 09:22:38,116 - june.simulator - INFO - Date = 2020-04-28 04:00:00, number of deaths =  20, number of infected = 723\n",
      "2020-06-24 09:22:40,077 - june.simulator - INFO - Date = 2020-04-28 06:00:00, number of deaths =  20, number of infected = 699\n",
      "2020-06-24 09:22:41,517 - june.simulator - INFO - Date = 2020-04-28 08:00:00, number of deaths =  20, number of infected = 671\n",
      "2020-06-24 09:22:41,710 - june.simulator - INFO - Date = 2020-04-28 10:00:00, number of deaths =  20, number of infected = 639\n",
      "2020-06-24 09:22:41,875 - june.simulator - INFO - Date = 2020-04-29 00:00:00, number of deaths =  20, number of infected = 490\n",
      "2020-06-24 09:22:43,387 - june.simulator - INFO - Date = 2020-04-29 02:00:00, number of deaths =  20, number of infected = 470\n",
      "2020-06-24 09:22:44,969 - june.simulator - INFO - Date = 2020-04-29 04:00:00, number of deaths =  20, number of infected = 457\n",
      "2020-06-24 09:22:46,555 - june.simulator - INFO - Date = 2020-04-29 06:00:00, number of deaths =  20, number of infected = 437\n",
      "2020-06-24 09:22:47,966 - june.simulator - INFO - Date = 2020-04-29 08:00:00, number of deaths =  20, number of infected = 416\n",
      "2020-06-24 09:22:48,139 - june.simulator - INFO - Date = 2020-04-29 10:00:00, number of deaths =  20, number of infected = 401\n",
      "2020-06-24 09:22:48,334 - june.simulator - INFO - Date = 2020-04-30 00:00:00, number of deaths =  21, number of infected = 312\n",
      "2020-06-24 09:22:49,725 - june.simulator - INFO - Date = 2020-04-30 02:00:00, number of deaths =  21, number of infected = 303\n",
      "2020-06-24 09:22:51,147 - june.simulator - INFO - Date = 2020-04-30 04:00:00, number of deaths =  21, number of infected = 281\n",
      "2020-06-24 09:22:52,698 - june.simulator - INFO - Date = 2020-04-30 06:00:00, number of deaths =  21, number of infected = 272\n",
      "2020-06-24 09:22:54,457 - june.simulator - INFO - Date = 2020-04-30 08:00:00, number of deaths =  21, number of infected = 263\n",
      "2020-06-24 09:22:54,672 - june.simulator - INFO - Date = 2020-04-30 10:00:00, number of deaths =  21, number of infected = 256\n",
      "2020-06-24 09:22:54,893 - june.simulator - INFO - Date = 2020-05-01 00:00:00, number of deaths =  22, number of infected = 200\n",
      "2020-06-24 09:22:56,513 - june.simulator - INFO - Date = 2020-05-01 02:00:00, number of deaths =  22, number of infected = 193\n",
      "2020-06-24 09:22:58,013 - june.simulator - INFO - Date = 2020-05-01 04:00:00, number of deaths =  22, number of infected = 188\n",
      "2020-06-24 09:22:59,491 - june.simulator - INFO - Date = 2020-05-01 06:00:00, number of deaths =  22, number of infected = 176\n",
      "2020-06-24 09:23:00,884 - june.simulator - INFO - Date = 2020-05-01 08:00:00, number of deaths =  22, number of infected = 166\n",
      "2020-06-24 09:23:01,062 - june.simulator - INFO - Date = 2020-05-01 10:00:00, number of deaths =  22, number of infected = 159\n",
      "2020-06-24 09:23:01,219 - june.simulator - INFO - Date = 2020-05-02 00:00:00, number of deaths =  22, number of infected = 118\n",
      "2020-06-24 09:23:03,154 - june.simulator - INFO - Date = 2020-05-02 03:00:00, number of deaths =  22, number of infected = 113\n",
      "2020-06-24 09:23:05,366 - june.simulator - INFO - Date = 2020-05-02 05:00:00, number of deaths =  22, number of infected = 111\n",
      "2020-06-24 09:23:07,455 - june.simulator - INFO - Date = 2020-05-02 07:00:00, number of deaths =  22, number of infected = 106\n",
      "2020-06-24 09:23:09,455 - june.simulator - INFO - Date = 2020-05-02 09:00:00, number of deaths =  22, number of infected = 102\n",
      "2020-06-24 09:23:09,638 - june.simulator - INFO - Date = 2020-05-02 11:00:00, number of deaths =  22, number of infected = 98\n",
      "2020-06-24 09:23:09,800 - june.simulator - INFO - Date = 2020-05-03 00:00:00, number of deaths =  22, number of infected = 73\n",
      "2020-06-24 09:23:11,769 - june.simulator - INFO - Date = 2020-05-03 03:00:00, number of deaths =  22, number of infected = 71\n",
      "2020-06-24 09:23:14,070 - june.simulator - INFO - Date = 2020-05-03 05:00:00, number of deaths =  22, number of infected = 69\n",
      "2020-06-24 09:23:16,137 - june.simulator - INFO - Date = 2020-05-03 07:00:00, number of deaths =  22, number of infected = 65\n",
      "2020-06-24 09:23:18,129 - june.simulator - INFO - Date = 2020-05-03 09:00:00, number of deaths =  22, number of infected = 60\n",
      "2020-06-24 09:23:18,273 - june.simulator - INFO - Date = 2020-05-03 11:00:00, number of deaths =  22, number of infected = 55\n",
      "2020-06-24 09:23:18,441 - june.simulator - INFO - Date = 2020-05-04 00:00:00, number of deaths =  22, number of infected = 38\n",
      "2020-06-24 09:23:20,088 - june.simulator - INFO - Date = 2020-05-04 02:00:00, number of deaths =  22, number of infected = 36\n",
      "2020-06-24 09:23:21,733 - june.simulator - INFO - Date = 2020-05-04 04:00:00, number of deaths =  22, number of infected = 34\n",
      "2020-06-24 09:23:23,385 - june.simulator - INFO - Date = 2020-05-04 06:00:00, number of deaths =  22, number of infected = 33\n",
      "2020-06-24 09:23:25,135 - june.simulator - INFO - Date = 2020-05-04 08:00:00, number of deaths =  22, number of infected = 31\n",
      "2020-06-24 09:23:25,306 - june.simulator - INFO - Date = 2020-05-04 10:00:00, number of deaths =  22, number of infected = 28\n",
      "2020-06-24 09:23:25,462 - june.simulator - INFO - Date = 2020-05-05 00:00:00, number of deaths =  23, number of infected = 18\n",
      "2020-06-24 09:23:27,265 - june.simulator - INFO - Date = 2020-05-05 02:00:00, number of deaths =  23, number of infected = 18\n",
      "2020-06-24 09:23:29,158 - june.simulator - INFO - Date = 2020-05-05 04:00:00, number of deaths =  23, number of infected = 17\n",
      "2020-06-24 09:23:31,012 - june.simulator - INFO - Date = 2020-05-05 06:00:00, number of deaths =  23, number of infected = 16\n",
      "2020-06-24 09:23:32,590 - june.simulator - INFO - Date = 2020-05-05 08:00:00, number of deaths =  23, number of infected = 12\n",
      "2020-06-24 09:23:32,767 - june.simulator - INFO - Date = 2020-05-05 10:00:00, number of deaths =  23, number of infected = 9\n",
      "2020-06-24 09:23:32,923 - june.simulator - INFO - Date = 2020-05-06 00:00:00, number of deaths =  23, number of infected = 6\n",
      "2020-06-24 09:23:34,469 - june.simulator - INFO - Date = 2020-05-06 02:00:00, number of deaths =  23, number of infected = 5\n",
      "2020-06-24 09:23:35,990 - june.simulator - INFO - Date = 2020-05-06 04:00:00, number of deaths =  23, number of infected = 5\n",
      "2020-06-24 09:23:37,969 - june.simulator - INFO - Date = 2020-05-06 06:00:00, number of deaths =  23, number of infected = 5\n",
      "2020-06-24 09:23:39,541 - june.simulator - INFO - Date = 2020-05-06 08:00:00, number of deaths =  23, number of infected = 4\n",
      "2020-06-24 09:23:39,724 - june.simulator - INFO - Date = 2020-05-06 10:00:00, number of deaths =  23, number of infected = 4\n",
      "2020-06-24 09:23:39,890 - june.simulator - INFO - Date = 2020-05-07 00:00:00, number of deaths =  23, number of infected = 2\n",
      "2020-06-24 09:23:41,378 - june.simulator - INFO - Date = 2020-05-07 02:00:00, number of deaths =  23, number of infected = 1\n",
      "2020-06-24 09:23:42,957 - june.simulator - INFO - Date = 2020-05-07 04:00:00, number of deaths =  23, number of infected = 1\n",
      "2020-06-24 09:23:44,490 - june.simulator - INFO - Date = 2020-05-07 06:00:00, number of deaths =  23, number of infected = 1\n",
      "2020-06-24 09:23:45,996 - june.simulator - INFO - Date = 2020-05-07 08:00:00, number of deaths =  23, number of infected = 1\n",
      "2020-06-24 09:23:46,251 - june.simulator - INFO - Date = 2020-05-07 10:00:00, number of deaths =  23, number of infected = 1\n",
      "2020-06-24 09:23:46,386 - june.simulator - INFO - Date = 2020-05-08 00:00:00, number of deaths =  23, number of infected = 0\n",
      "2020-06-24 09:23:47,853 - june.simulator - INFO - Date = 2020-05-08 02:00:00, number of deaths =  23, number of infected = 0\n",
      "2020-06-24 09:23:49,359 - june.simulator - INFO - Date = 2020-05-08 04:00:00, number of deaths =  23, number of infected = 0\n",
      "2020-06-24 09:23:51,053 - june.simulator - INFO - Date = 2020-05-08 06:00:00, number of deaths =  23, number of infected = 0\n",
      "2020-06-24 09:23:52,637 - june.simulator - INFO - Date = 2020-05-08 08:00:00, number of deaths =  23, number of infected = 0\n",
      "2020-06-24 09:23:52,798 - june.simulator - INFO - Date = 2020-05-08 10:00:00, number of deaths =  23, number of infected = 0\n",
      "2020-06-24 09:23:52,984 - june.simulator - INFO - Date = 2020-05-09 00:00:00, number of deaths =  23, number of infected = 0\n",
      "2020-06-24 09:23:55,068 - june.simulator - INFO - Date = 2020-05-09 03:00:00, number of deaths =  23, number of infected = 0\n",
      "2020-06-24 09:23:56,975 - june.simulator - INFO - Date = 2020-05-09 05:00:00, number of deaths =  23, number of infected = 0\n",
      "2020-06-24 09:23:59,607 - june.simulator - INFO - Date = 2020-05-09 07:00:00, number of deaths =  23, number of infected = 0\n",
      "2020-06-24 09:24:03,161 - june.simulator - INFO - Date = 2020-05-09 09:00:00, number of deaths =  23, number of infected = 0\n",
      "2020-06-24 09:24:03,423 - june.simulator - INFO - Date = 2020-05-09 11:00:00, number of deaths =  23, number of infected = 0\n",
      "2020-06-24 09:24:03,778 - june.simulator - INFO - Date = 2020-05-10 00:00:00, number of deaths =  23, number of infected = 0\n",
      "2020-06-24 09:24:06,798 - june.simulator - INFO - Date = 2020-05-10 03:00:00, number of deaths =  23, number of infected = 0\n",
      "2020-06-24 09:24:09,970 - june.simulator - INFO - Date = 2020-05-10 05:00:00, number of deaths =  23, number of infected = 0\n",
      "2020-06-24 09:24:12,909 - june.simulator - INFO - Date = 2020-05-10 07:00:00, number of deaths =  23, number of infected = 0\n",
      "2020-06-24 09:24:15,441 - june.simulator - INFO - Date = 2020-05-10 09:00:00, number of deaths =  23, number of infected = 0\n",
      "2020-06-24 09:24:15,736 - june.simulator - INFO - Date = 2020-05-10 11:00:00, number of deaths =  23, number of infected = 0\n",
      "2020-06-24 09:24:15,935 - june.simulator - INFO - Date = 2020-05-11 00:00:00, number of deaths =  23, number of infected = 0\n",
      "2020-06-24 09:24:17,939 - june.simulator - INFO - Date = 2020-05-11 02:00:00, number of deaths =  23, number of infected = 0\n",
      "2020-06-24 09:24:19,916 - june.simulator - INFO - Date = 2020-05-11 04:00:00, number of deaths =  23, number of infected = 0\n"
     ]
    },
    {
     "ename": "KeyboardInterrupt",
     "evalue": "",
     "output_type": "error",
     "traceback": [
      "\u001b[0;31m---------------------------------------------------------------------------\u001b[0m",
      "\u001b[0;31mKeyboardInterrupt\u001b[0m                         Traceback (most recent call last)",
      "\u001b[0;32m<timed eval>\u001b[0m in \u001b[0;36m<module>\u001b[0;34m\u001b[0m\n",
      "\u001b[0;32m~/code/CPModelling/june/simulator.py\u001b[0m in \u001b[0;36mrun\u001b[0;34m(self)\u001b[0m\n\u001b[1;32m    600\u001b[0m                 \u001b[0;32mif\u001b[0m \u001b[0;34m(\u001b[0m\u001b[0mtime\u001b[0m \u001b[0;34m>=\u001b[0m \u001b[0mself\u001b[0m\u001b[0;34m.\u001b[0m\u001b[0mseed\u001b[0m\u001b[0;34m.\u001b[0m\u001b[0mmin_date\u001b[0m\u001b[0;34m)\u001b[0m \u001b[0;32mand\u001b[0m \u001b[0;34m(\u001b[0m\u001b[0mtime\u001b[0m \u001b[0;34m<=\u001b[0m \u001b[0mself\u001b[0m\u001b[0;34m.\u001b[0m\u001b[0mseed\u001b[0m\u001b[0;34m.\u001b[0m\u001b[0mmax_date\u001b[0m\u001b[0;34m)\u001b[0m\u001b[0;34m:\u001b[0m\u001b[0;34m\u001b[0m\u001b[0;34m\u001b[0m\u001b[0m\n\u001b[1;32m    601\u001b[0m                     \u001b[0mself\u001b[0m\u001b[0;34m.\u001b[0m\u001b[0mseed\u001b[0m\u001b[0;34m.\u001b[0m\u001b[0munleash_virus_per_region\u001b[0m\u001b[0;34m(\u001b[0m\u001b[0mtime\u001b[0m\u001b[0;34m)\u001b[0m\u001b[0;34m\u001b[0m\u001b[0;34m\u001b[0m\u001b[0m\n\u001b[0;32m--> 602\u001b[0;31m             \u001b[0mself\u001b[0m\u001b[0;34m.\u001b[0m\u001b[0mdo_timestep\u001b[0m\u001b[0;34m(\u001b[0m\u001b[0;34m)\u001b[0m\u001b[0;34m\u001b[0m\u001b[0;34m\u001b[0m\u001b[0m\n\u001b[0m\u001b[1;32m    603\u001b[0m \u001b[0;34m\u001b[0m\u001b[0m\n\u001b[1;32m    604\u001b[0m \u001b[0;34m\u001b[0m\u001b[0m\n",
      "\u001b[0;32m~/code/CPModelling/june/simulator.py\u001b[0m in \u001b[0;36mdo_timestep\u001b[0;34m(self)\u001b[0m\n\u001b[1;32m    522\u001b[0m         \u001b[0;32mif\u001b[0m \u001b[0;34m\"rail_travel_back\"\u001b[0m \u001b[0;32min\u001b[0m \u001b[0mactivities\u001b[0m\u001b[0;34m:\u001b[0m\u001b[0;34m\u001b[0m\u001b[0;34m\u001b[0m\u001b[0m\n\u001b[1;32m    523\u001b[0m             \u001b[0mself\u001b[0m\u001b[0;34m.\u001b[0m\u001b[0mdistribute_rail_back\u001b[0m\u001b[0;34m(\u001b[0m\u001b[0;34m)\u001b[0m\u001b[0;34m\u001b[0m\u001b[0;34m\u001b[0m\u001b[0m\n\u001b[0;32m--> 524\u001b[0;31m         \u001b[0mself\u001b[0m\u001b[0;34m.\u001b[0m\u001b[0mmove_people_to_active_subgroups\u001b[0m\u001b[0;34m(\u001b[0m\u001b[0mactivities\u001b[0m\u001b[0;34m)\u001b[0m\u001b[0;34m\u001b[0m\u001b[0;34m\u001b[0m\u001b[0m\n\u001b[0m\u001b[1;32m    525\u001b[0m         \u001b[0mactive_groups\u001b[0m \u001b[0;34m=\u001b[0m \u001b[0mself\u001b[0m\u001b[0;34m.\u001b[0m\u001b[0mactivities_to_groups\u001b[0m\u001b[0;34m(\u001b[0m\u001b[0mactivities\u001b[0m\u001b[0;34m)\u001b[0m\u001b[0;34m\u001b[0m\u001b[0;34m\u001b[0m\u001b[0m\n\u001b[1;32m    526\u001b[0m         group_instances = [\n",
      "\u001b[0;32m~/code/CPModelling/june/simulator.py\u001b[0m in \u001b[0;36mmove_people_to_active_subgroups\u001b[0;34m(self, activities)\u001b[0m\n\u001b[1;32m    415\u001b[0m                 \u001b[0mself\u001b[0m\u001b[0;34m.\u001b[0m\u001b[0mmove_mild_ill_to_household\u001b[0m\u001b[0;34m(\u001b[0m\u001b[0mperson\u001b[0m\u001b[0;34m,\u001b[0m \u001b[0mactivities\u001b[0m\u001b[0;34m)\u001b[0m\u001b[0;34m\u001b[0m\u001b[0;34m\u001b[0m\u001b[0m\n\u001b[1;32m    416\u001b[0m             \u001b[0;32melse\u001b[0m\u001b[0;34m:\u001b[0m\u001b[0;34m\u001b[0m\u001b[0;34m\u001b[0m\u001b[0m\n\u001b[0;32m--> 417\u001b[0;31m                 \u001b[0msubgroup\u001b[0m \u001b[0;34m=\u001b[0m \u001b[0mself\u001b[0m\u001b[0;34m.\u001b[0m\u001b[0mget_subgroup_active\u001b[0m\u001b[0;34m(\u001b[0m\u001b[0mactivities\u001b[0m\u001b[0;34m,\u001b[0m \u001b[0mperson\u001b[0m\u001b[0;34m)\u001b[0m\u001b[0;34m\u001b[0m\u001b[0;34m\u001b[0m\u001b[0m\n\u001b[0m\u001b[1;32m    418\u001b[0m                 \u001b[0msubgroup\u001b[0m\u001b[0;34m.\u001b[0m\u001b[0mappend\u001b[0m\u001b[0;34m(\u001b[0m\u001b[0mperson\u001b[0m\u001b[0;34m)\u001b[0m\u001b[0;34m\u001b[0m\u001b[0;34m\u001b[0m\u001b[0m\n\u001b[1;32m    419\u001b[0m \u001b[0;34m\u001b[0m\u001b[0m\n",
      "\u001b[0;32m~/code/CPModelling/june/simulator.py\u001b[0m in \u001b[0;36mget_subgroup_active\u001b[0;34m(self, activities, person)\u001b[0m\n\u001b[1;32m    315\u001b[0m         \u001b[0;32mfor\u001b[0m \u001b[0mactivity\u001b[0m \u001b[0;32min\u001b[0m \u001b[0mactivities\u001b[0m\u001b[0;34m:\u001b[0m\u001b[0;34m\u001b[0m\u001b[0;34m\u001b[0m\u001b[0m\n\u001b[1;32m    316\u001b[0m             \u001b[0;32mif\u001b[0m \u001b[0mactivity\u001b[0m \u001b[0;34m==\u001b[0m \u001b[0;34m\"leisure\"\u001b[0m \u001b[0;32mand\u001b[0m \u001b[0mperson\u001b[0m\u001b[0;34m.\u001b[0m\u001b[0mleisure\u001b[0m \u001b[0;32mis\u001b[0m \u001b[0;32mNone\u001b[0m\u001b[0;34m:\u001b[0m\u001b[0;34m\u001b[0m\u001b[0;34m\u001b[0m\u001b[0m\n\u001b[0;32m--> 317\u001b[0;31m                 subgroup = self.leisure.get_subgroup_for_person_and_housemates(\n\u001b[0m\u001b[1;32m    318\u001b[0m                     \u001b[0mperson\u001b[0m\u001b[0;34m,\u001b[0m\u001b[0;34m\u001b[0m\u001b[0;34m\u001b[0m\u001b[0m\n\u001b[1;32m    319\u001b[0m                     \u001b[0mself\u001b[0m\u001b[0;34m.\u001b[0m\u001b[0mtimer\u001b[0m\u001b[0;34m.\u001b[0m\u001b[0mduration\u001b[0m\u001b[0;34m,\u001b[0m\u001b[0;34m\u001b[0m\u001b[0;34m\u001b[0m\u001b[0m\n",
      "\u001b[0;32m~/code/CPModelling/june/groups/leisure/leisure.py\u001b[0m in \u001b[0;36mget_subgroup_for_person_and_housemates\u001b[0;34m(self, person, delta_time, is_weekend, closed_groups)\u001b[0m\n\u001b[1;32m    209\u001b[0m         \u001b[0;32mif\u001b[0m \u001b[0msocial_venue_distributor\u001b[0m \u001b[0;32mis\u001b[0m \u001b[0;32mNone\u001b[0m\u001b[0;34m:\u001b[0m\u001b[0;34m\u001b[0m\u001b[0;34m\u001b[0m\u001b[0m\n\u001b[1;32m    210\u001b[0m             \u001b[0;32mreturn\u001b[0m \u001b[0;32mNone\u001b[0m\u001b[0;34m\u001b[0m\u001b[0;34m\u001b[0m\u001b[0m\n\u001b[0;32m--> 211\u001b[0;31m         social_venue = self.assign_social_venue_to_person(\n\u001b[0m\u001b[1;32m    212\u001b[0m             \u001b[0mperson\u001b[0m\u001b[0;34m=\u001b[0m\u001b[0mperson\u001b[0m\u001b[0;34m,\u001b[0m \u001b[0mleisure_distributor\u001b[0m\u001b[0;34m=\u001b[0m\u001b[0msocial_venue_distributor\u001b[0m\u001b[0;34m\u001b[0m\u001b[0;34m\u001b[0m\u001b[0m\n\u001b[1;32m    213\u001b[0m         )\n",
      "\u001b[0;32m~/code/CPModelling/june/groups/leisure/leisure.py\u001b[0m in \u001b[0;36massign_social_venue_to_person\u001b[0;34m(self, person, leisure_distributor)\u001b[0m\n\u001b[1;32m    156\u001b[0m \u001b[0;34m\u001b[0m\u001b[0m\n\u001b[1;32m    157\u001b[0m     \u001b[0;32mdef\u001b[0m \u001b[0massign_social_venue_to_person\u001b[0m\u001b[0;34m(\u001b[0m\u001b[0mself\u001b[0m\u001b[0;34m,\u001b[0m \u001b[0mperson\u001b[0m\u001b[0;34m,\u001b[0m \u001b[0mleisure_distributor\u001b[0m\u001b[0;34m)\u001b[0m\u001b[0;34m:\u001b[0m\u001b[0;34m\u001b[0m\u001b[0;34m\u001b[0m\u001b[0m\n\u001b[0;32m--> 158\u001b[0;31m         \u001b[0msocial_venue\u001b[0m \u001b[0;34m=\u001b[0m \u001b[0mleisure_distributor\u001b[0m\u001b[0;34m.\u001b[0m\u001b[0mget_social_venue_for_person\u001b[0m\u001b[0;34m(\u001b[0m\u001b[0mperson\u001b[0m\u001b[0;34m)\u001b[0m\u001b[0;34m\u001b[0m\u001b[0;34m\u001b[0m\u001b[0m\n\u001b[0m\u001b[1;32m    159\u001b[0m         \u001b[0msocial_venue\u001b[0m\u001b[0;34m.\u001b[0m\u001b[0madd\u001b[0m\u001b[0;34m(\u001b[0m\u001b[0mperson\u001b[0m\u001b[0;34m,\u001b[0m \u001b[0mactivity\u001b[0m\u001b[0;34m=\u001b[0m\u001b[0;34m\"leisure\"\u001b[0m\u001b[0;34m)\u001b[0m\u001b[0;34m\u001b[0m\u001b[0;34m\u001b[0m\u001b[0m\n\u001b[1;32m    160\u001b[0m         \u001b[0;32mreturn\u001b[0m \u001b[0msocial_venue\u001b[0m\u001b[0;34m\u001b[0m\u001b[0;34m\u001b[0m\u001b[0m\n",
      "\u001b[0;32m~/code/CPModelling/june/groups/leisure/social_venue_distributor.py\u001b[0m in \u001b[0;36mget_social_venue_for_person\u001b[0;34m(self, person)\u001b[0m\n\u001b[1;32m    148\u001b[0m         \"\"\"\n\u001b[1;32m    149\u001b[0m         \u001b[0mperson_location\u001b[0m \u001b[0;34m=\u001b[0m \u001b[0mperson\u001b[0m\u001b[0;34m.\u001b[0m\u001b[0marea\u001b[0m\u001b[0;34m.\u001b[0m\u001b[0mcoordinates\u001b[0m\u001b[0;34m\u001b[0m\u001b[0;34m\u001b[0m\u001b[0m\n\u001b[0;32m--> 150\u001b[0;31m         potential_venues = self.social_venues.get_venues_in_radius(\n\u001b[0m\u001b[1;32m    151\u001b[0m             \u001b[0mperson_location\u001b[0m\u001b[0;34m,\u001b[0m \u001b[0mself\u001b[0m\u001b[0;34m.\u001b[0m\u001b[0mmaximum_distance\u001b[0m\u001b[0;34m\u001b[0m\u001b[0;34m\u001b[0m\u001b[0m\n\u001b[1;32m    152\u001b[0m         )\n",
      "\u001b[0;32m~/code/CPModelling/june/groups/leisure/social_venue.py\u001b[0m in \u001b[0;36mget_venues_in_radius\u001b[0;34m(self, coordinates, radius)\u001b[0m\n\u001b[1;32m    183\u001b[0m             \u001b[0;32mraise\u001b[0m \u001b[0mSocialVenueError\u001b[0m\u001b[0;34m(\u001b[0m\u001b[0;34m\"Initialise ball tree first with self.make_tree()\"\u001b[0m\u001b[0;34m)\u001b[0m\u001b[0;34m\u001b[0m\u001b[0;34m\u001b[0m\u001b[0m\n\u001b[1;32m    184\u001b[0m         \u001b[0mradius\u001b[0m \u001b[0;34m=\u001b[0m \u001b[0mradius\u001b[0m \u001b[0;34m/\u001b[0m \u001b[0mearth_radius\u001b[0m\u001b[0;34m\u001b[0m\u001b[0;34m\u001b[0m\u001b[0m\n\u001b[0;32m--> 185\u001b[0;31m         venue_idxs, _ = self.ball_tree.query_radius(\n\u001b[0m\u001b[1;32m    186\u001b[0m             \u001b[0mnp\u001b[0m\u001b[0;34m.\u001b[0m\u001b[0mdeg2rad\u001b[0m\u001b[0;34m(\u001b[0m\u001b[0mcoordinates\u001b[0m\u001b[0;34m)\u001b[0m\u001b[0;34m.\u001b[0m\u001b[0mreshape\u001b[0m\u001b[0;34m(\u001b[0m\u001b[0;36m1\u001b[0m\u001b[0;34m,\u001b[0m \u001b[0;34m-\u001b[0m\u001b[0;36m1\u001b[0m\u001b[0;34m)\u001b[0m\u001b[0;34m,\u001b[0m\u001b[0;34m\u001b[0m\u001b[0;34m\u001b[0m\u001b[0m\n\u001b[1;32m    187\u001b[0m             \u001b[0mr\u001b[0m\u001b[0;34m=\u001b[0m\u001b[0mradius\u001b[0m\u001b[0;34m,\u001b[0m\u001b[0;34m\u001b[0m\u001b[0;34m\u001b[0m\u001b[0m\n",
      "\u001b[0;32msklearn/neighbors/_binary_tree.pxi\u001b[0m in \u001b[0;36msklearn.neighbors._ball_tree.BinaryTree.query_radius\u001b[0;34m()\u001b[0m\n",
      "\u001b[0;32m~/code/CPModelling/env/lib/python3.8/site-packages/sklearn/utils/validation.py\u001b[0m in \u001b[0;36minner_f\u001b[0;34m(*args, **kwargs)\u001b[0m\n\u001b[1;32m     71\u001b[0m                           FutureWarning)\n\u001b[1;32m     72\u001b[0m         \u001b[0mkwargs\u001b[0m\u001b[0;34m.\u001b[0m\u001b[0mupdate\u001b[0m\u001b[0;34m(\u001b[0m\u001b[0;34m{\u001b[0m\u001b[0mk\u001b[0m\u001b[0;34m:\u001b[0m \u001b[0marg\u001b[0m \u001b[0;32mfor\u001b[0m \u001b[0mk\u001b[0m\u001b[0;34m,\u001b[0m \u001b[0marg\u001b[0m \u001b[0;32min\u001b[0m \u001b[0mzip\u001b[0m\u001b[0;34m(\u001b[0m\u001b[0msig\u001b[0m\u001b[0;34m.\u001b[0m\u001b[0mparameters\u001b[0m\u001b[0;34m,\u001b[0m \u001b[0margs\u001b[0m\u001b[0;34m)\u001b[0m\u001b[0;34m}\u001b[0m\u001b[0;34m)\u001b[0m\u001b[0;34m\u001b[0m\u001b[0;34m\u001b[0m\u001b[0m\n\u001b[0;32m---> 73\u001b[0;31m         \u001b[0;32mreturn\u001b[0m \u001b[0mf\u001b[0m\u001b[0;34m(\u001b[0m\u001b[0;34m**\u001b[0m\u001b[0mkwargs\u001b[0m\u001b[0;34m)\u001b[0m\u001b[0;34m\u001b[0m\u001b[0;34m\u001b[0m\u001b[0m\n\u001b[0m\u001b[1;32m     74\u001b[0m     \u001b[0;32mreturn\u001b[0m \u001b[0minner_f\u001b[0m\u001b[0;34m\u001b[0m\u001b[0;34m\u001b[0m\u001b[0m\n\u001b[1;32m     75\u001b[0m \u001b[0;34m\u001b[0m\u001b[0m\n",
      "\u001b[0;32m~/code/CPModelling/env/lib/python3.8/site-packages/sklearn/utils/validation.py\u001b[0m in \u001b[0;36mcheck_array\u001b[0;34m(array, accept_sparse, accept_large_sparse, dtype, order, copy, force_all_finite, ensure_2d, allow_nd, ensure_min_samples, ensure_min_features, estimator)\u001b[0m\n\u001b[1;32m    572\u001b[0m         \u001b[0marray\u001b[0m \u001b[0;34m=\u001b[0m \u001b[0marray\u001b[0m\u001b[0;34m.\u001b[0m\u001b[0msparse\u001b[0m\u001b[0;34m.\u001b[0m\u001b[0mto_coo\u001b[0m\u001b[0;34m(\u001b[0m\u001b[0;34m)\u001b[0m\u001b[0;34m\u001b[0m\u001b[0;34m\u001b[0m\u001b[0m\n\u001b[1;32m    573\u001b[0m \u001b[0;34m\u001b[0m\u001b[0m\n\u001b[0;32m--> 574\u001b[0;31m     \u001b[0;32mif\u001b[0m \u001b[0msp\u001b[0m\u001b[0;34m.\u001b[0m\u001b[0missparse\u001b[0m\u001b[0;34m(\u001b[0m\u001b[0marray\u001b[0m\u001b[0;34m)\u001b[0m\u001b[0;34m:\u001b[0m\u001b[0;34m\u001b[0m\u001b[0;34m\u001b[0m\u001b[0m\n\u001b[0m\u001b[1;32m    575\u001b[0m         \u001b[0m_ensure_no_complex_data\u001b[0m\u001b[0;34m(\u001b[0m\u001b[0marray\u001b[0m\u001b[0;34m)\u001b[0m\u001b[0;34m\u001b[0m\u001b[0;34m\u001b[0m\u001b[0m\n\u001b[1;32m    576\u001b[0m         array = _ensure_sparse_format(array, accept_sparse=accept_sparse,\n",
      "\u001b[0;32m~/code/CPModelling/env/lib/python3.8/site-packages/scipy/sparse/base.py\u001b[0m in \u001b[0;36misspmatrix\u001b[0;34m(x)\u001b[0m\n\u001b[1;32m   1217\u001b[0m     \u001b[0;32mFalse\u001b[0m\u001b[0;34m\u001b[0m\u001b[0;34m\u001b[0m\u001b[0m\n\u001b[1;32m   1218\u001b[0m     \"\"\"\n\u001b[0;32m-> 1219\u001b[0;31m     \u001b[0;32mreturn\u001b[0m \u001b[0misinstance\u001b[0m\u001b[0;34m(\u001b[0m\u001b[0mx\u001b[0m\u001b[0;34m,\u001b[0m \u001b[0mspmatrix\u001b[0m\u001b[0;34m)\u001b[0m\u001b[0;34m\u001b[0m\u001b[0;34m\u001b[0m\u001b[0m\n\u001b[0m\u001b[1;32m   1220\u001b[0m \u001b[0;34m\u001b[0m\u001b[0m\n\u001b[1;32m   1221\u001b[0m \u001b[0;34m\u001b[0m\u001b[0m\n",
      "\u001b[0;31mKeyboardInterrupt\u001b[0m: "
     ]
    }
   ],
   "source": [
    "%%time\n",
    "simulator.run()"
   ]
  },
  {
   "cell_type": "markdown",
   "metadata": {},
   "source": [
    "# Getting the results"
   ]
  },
  {
   "cell_type": "markdown",
   "metadata": {},
   "source": [
    "All results are stored in a json file specified in the ``save_path`` variable in the config file. We can also access it from ``world.logger`` directly."
   ]
  },
  {
   "cell_type": "code",
   "execution_count": 42,
   "metadata": {},
   "outputs": [],
   "source": [
    "import pandas as pd\n",
    "read = ReadLogger(load_real=False)"
   ]
  },
  {
   "cell_type": "code",
   "execution_count": 43,
   "metadata": {},
   "outputs": [],
   "source": [
    "loc_df = read.get_locations_infections()"
   ]
  },
  {
   "cell_type": "code",
   "execution_count": 44,
   "metadata": {},
   "outputs": [
    {
     "data": {
      "text/plain": [
       "Text(0.5, 0, 'location')"
      ]
     },
     "execution_count": 44,
     "metadata": {},
     "output_type": "execute_result"
    },
    {
     "data": {
      "image/png": "[encoded data removed]",
      "text/plain": [
       "<Figure size 432x288 with 1 Axes>"
      ]
     },
     "metadata": {
      "needs_background": "light"
     },
     "output_type": "display_data"
    }
   ],
   "source": [
    "import matplotlib.ticker as mtick\n",
    "\n",
    "ax = loc_df['percentage_infections'].sort_values().plot.bar()\n",
    "ax.yaxis.set_major_formatter(mtick.PercentFormatter())\n",
    "plt.ylabel('Percentage of infections at location')\n",
    "plt.xlabel('location')"
   ]
  },
  {
   "cell_type": "code",
   "execution_count": 45,
   "metadata": {},
   "outputs": [
    {
     "data": {
      "text/plain": [
       "<matplotlib.legend.Legend at 0x7fc4e1d21ca0>"
      ]
     },
     "execution_count": 45,
     "metadata": {},
     "output_type": "execute_result"
    },
    {
     "data": {
      "image/png": "[encoded data removed]",
      "text/plain": [
       "<Figure size 432x288 with 1 Axes>"
      ]
     },
     "metadata": {
      "needs_background": "light"
     },
     "output_type": "display_data"
    }
   ],
   "source": [
    "world_df = read.world_summary()\n",
    "world_df.plot()\n",
    "#plt.axvspan(policies.social_distancing_start, \n",
    "#            policies.social_distancing_end,\n",
    "#            facecolor='y', alpha=0.2)\n",
    "plt.legend()"
   ]
  },
  {
   "cell_type": "code",
   "execution_count": null,
   "metadata": {},
   "outputs": [],
   "source": []
  },
  {
   "cell_type": "code",
   "execution_count": null,
   "metadata": {},
   "outputs": [],
   "source": []
  }
 ],
 "metadata": {
  "kernelspec": {
   "display_name": "Python 3",
   "language": "python",
   "name": "python3"
  },
  "language_info": {
   "codemirror_mode": {
    "name": "ipython",
    "version": 3
   },
   "file_extension": ".py",
   "mimetype": "text/x-python",
   "name": "python",
   "nbconvert_exporter": "python",
   "pygments_lexer": "ipython3",
   "version": "3.8.3"
  }
 },
 "nbformat": 4,
 "nbformat_minor": 4
}
