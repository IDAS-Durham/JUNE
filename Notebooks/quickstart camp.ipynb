{
 "cells": [
  {
   "cell_type": "code",
   "execution_count": 1,
   "metadata": {},
   "outputs": [],
   "source": [
    "%load_ext autoreload\n",
    "%autoreload 2"
   ]
  },
  {
   "cell_type": "code",
   "execution_count": 2,
   "metadata": {},
   "outputs": [],
   "source": [
    "import warnings\n",
    "warnings.filterwarnings('ignore')"
   ]
  },
  {
   "cell_type": "code",
   "execution_count": 3,
   "metadata": {},
   "outputs": [],
   "source": [
    "import numpy as np\n",
    "import matplotlib.pyplot as plt \n",
    "import pandas as pd\n",
    "import time\n",
    "import matplotlib.pyplot as plt\n",
    "import seaborn as sns\n",
    "from datetime import datetime\n",
    "import sys\n",
    "sys.path.append(\"../camp_scripts\") # change accordingly\n",
    "sns.set_context('notebook')"
   ]
  },
  {
   "cell_type": "code",
   "execution_count": 4,
   "metadata": {},
   "outputs": [
    {
     "name": "stderr",
     "output_type": "stream",
     "text": [
      "No --data argument given - defaulting to:\n",
      "/home/florpi/camps/JUNE/data\n",
      "No --configs argument given - defaulting to:\n",
      "/home/florpi/camps/JUNE/configs\n"
     ]
    },
    {
     "name": "stdout",
     "output_type": "stream",
     "text": [
      "2020-06-14 16:23:04,091 - camps.paths - WARNING - No --data argument given - defaulting to:\n",
      "/home/florpi/camps/JUNE/data\n",
      "2020-06-14 16:23:04,093 - camps.paths - WARNING - No --configs argument given - defaulting to:\n",
      "/home/florpi/camps/JUNE/configs\n",
      "2020-06-14 16:23:04,094 - camps.paths - WARNING - No --camp_data argument given - defaulting to:\n",
      "/home/florpi/camps/JUNE/camp_data\n",
      "2020-06-14 16:23:04,096 - camps.paths - WARNING - No --configs_camps argument given - defaulting to:\n",
      "/home/florpi/camps/JUNE/configs_camps\n"
     ]
    }
   ],
   "source": [
    "from june.demography.geography import Geography\n",
    "from june.demography.demography import load_age_and_sex_generators_for_bins, Demography, Population\n",
    "from june.paths import data_path\n",
    "from camps.paths import camp_data_path\n",
    "from june import World\n",
    "from june.simulator import Simulator\n",
    "from june.seed import Seed\n",
    "from june.infection.infection import InfectionSelector\n",
    "from june.interaction import ContactAveraging\n",
    "from june.groups import Hospital, Hospitals\n",
    "from june.distributors import HospitalDistributor\n",
    "from june.world import generate_world_from_hdf5\n",
    "from june.groups import Cemeteries\n",
    "from june.policy import Policy, Policies\n",
    "from june.logger.read_logger import ReadLogger\n",
    "from june.groups.leisure import leisure\n",
    "from camp_creation import generate_empty_world, populate_world, distribute_people_to_households # this is loaded from the ../camp_scripts folder"
   ]
  },
  {
   "cell_type": "code",
   "execution_count": 43,
   "metadata": {},
   "outputs": [],
   "source": [
    "from camps.groups import PumpLatrines, PumpLatrineDistributor\n",
    "from camps.groups import DistributionCenters, DistributionCenterDistributor\n",
    "from camps.groups import Communals, CommunalDistributor\n",
    "from camps.groups import FemaleCommunals, FemaleCommunalDistributor"
   ]
  },
  {
   "cell_type": "markdown",
   "metadata": {},
   "source": [
    "## Initialize the world"
   ]
  },
  {
   "cell_type": "code",
   "execution_count": 6,
   "metadata": {},
   "outputs": [
    {
     "name": "stdout",
     "output_type": "stream",
     "text": [
      "2020-06-14 16:23:04,463 - june.demography.geography - INFO - There are 65 areas and 4 super_areas in the world.\n"
     ]
    }
   ],
   "source": [
    "# create empty world's geography\n",
    "world = generate_empty_world(filter_key = {\"region\" : [\"CXB-219\"]})"
   ]
  },
  {
   "cell_type": "code",
   "execution_count": 7,
   "metadata": {},
   "outputs": [],
   "source": [
    "# populate empty world\n",
    "populate_world(world)"
   ]
  },
  {
   "cell_type": "code",
   "execution_count": 8,
   "metadata": {},
   "outputs": [],
   "source": [
    "# distribute people to households\n",
    "distribute_people_to_households(world)"
   ]
  },
  {
   "cell_type": "code",
   "execution_count": 9,
   "metadata": {},
   "outputs": [
    {
     "name": "stdout",
     "output_type": "stream",
     "text": [
      "2020-06-14 16:23:05,424 - june.groups.hospital - INFO - There are 8 hospitals in the world.\n"
     ]
    }
   ],
   "source": [
    "hospitals= Hospitals.from_file(\n",
    "    filename=camp_data_path / 'input/hospitals/hospitals.csv'\n",
    ")\n",
    "world.hospitals = hospitals\n",
    "hospital_distributor = HospitalDistributor(hospitals, \n",
    "                                           medic_min_age=20,\n",
    "                                           patients_per_medic=10)\n",
    "hospital_distributor.distribute_medics_from_world(world.people)\n"
   ]
  },
  {
   "cell_type": "code",
   "execution_count": 10,
   "metadata": {},
   "outputs": [],
   "source": [
    "world.pump_latrines = PumpLatrines.for_areas(world.areas)\n",
    "world.distribution_centers = DistributionCenters.for_areas(world.areas)\n",
    "world.communals = Communals.for_areas(world.areas)\n",
    "world.female_communals = FemaleCommunals.for_areas(world.areas)"
   ]
  },
  {
   "cell_type": "code",
   "execution_count": 11,
   "metadata": {},
   "outputs": [],
   "source": [
    "world.box_mode = False\n",
    "world.cemeteries = Cemeteries()"
   ]
  },
  {
   "cell_type": "markdown",
   "metadata": {},
   "source": [
    "## Geography exploration"
   ]
  },
  {
   "cell_type": "markdown",
   "metadata": {},
   "source": [
    "### UNHCR camp blocks inside the World"
   ]
  },
  {
   "cell_type": "code",
   "execution_count": 12,
   "metadata": {},
   "outputs": [],
   "source": [
    "super_areas = []\n",
    "for super_area in world.super_areas:\n",
    "    super_areas.append(super_area.name)"
   ]
  },
  {
   "cell_type": "code",
   "execution_count": 13,
   "metadata": {},
   "outputs": [
    {
     "data": {
      "text/plain": [
       "['CXB-219-A', 'CXB-219-B', 'CXB-219-C', 'CXB-219-D']"
      ]
     },
     "execution_count": 13,
     "metadata": {},
     "output_type": "execute_result"
    }
   ],
   "source": [
    "super_areas[:5]"
   ]
  },
  {
   "cell_type": "markdown",
   "metadata": {},
   "source": [
    "### Mahjee blocks inside World"
   ]
  },
  {
   "cell_type": "code",
   "execution_count": 14,
   "metadata": {},
   "outputs": [],
   "source": [
    "areas = []\n",
    "for area in world.areas:\n",
    "    areas.append(area.name)"
   ]
  },
  {
   "cell_type": "code",
   "execution_count": 15,
   "metadata": {},
   "outputs": [
    {
     "data": {
      "text/plain": [
       "['CXB-219-062', 'CXB-219-063', 'CXB-219-061', 'CXB-219-060', 'CXB-219-065']"
      ]
     },
     "execution_count": 15,
     "metadata": {},
     "output_type": "execute_result"
    }
   ],
   "source": [
    "areas[:5]"
   ]
  },
  {
   "cell_type": "markdown",
   "metadata": {},
   "source": [
    "## Demography exploration"
   ]
  },
  {
   "cell_type": "markdown",
   "metadata": {},
   "source": [
    "### UNHCR block residents"
   ]
  },
  {
   "cell_type": "code",
   "execution_count": 16,
   "metadata": {},
   "outputs": [],
   "source": [
    "sample_ages = []\n",
    "sample_sexes = []\n",
    "for person in world.super_areas.members[0].people:\n",
    "    sample_ages.append(person.age)\n",
    "    sample_sexes.append(person.sex)"
   ]
  },
  {
   "cell_type": "code",
   "execution_count": 17,
   "metadata": {},
   "outputs": [
    {
     "data": {
      "text/plain": [
       "(['f', 'f', 'm', 'm', 'm'], [21, 45, 44, 48, 49])"
      ]
     },
     "execution_count": 17,
     "metadata": {},
     "output_type": "execute_result"
    }
   ],
   "source": [
    "sample_sexes[:5], sample_ages[:5]"
   ]
  },
  {
   "cell_type": "code",
   "execution_count": 18,
   "metadata": {},
   "outputs": [
    {
     "data": {
      "image/png": "[encoded data removed]",
      "text/plain": [
       "<Figure size 432x288 with 1 Axes>"
      ]
     },
     "metadata": {
      "needs_background": "light"
     },
     "output_type": "display_data"
    }
   ],
   "source": [
    "ages, counts = np.unique(sample_ages, return_counts=True)\n",
    "plt.bar(ages, counts)\n",
    "plt.title('super area: {} age distribution'.format(world.super_areas.members[0].name))\n",
    "plt.show()"
   ]
  },
  {
   "cell_type": "code",
   "execution_count": 19,
   "metadata": {},
   "outputs": [
    {
     "name": "stdout",
     "output_type": "stream",
     "text": [
      "The % children between ages 0-16 is 48.0%\n"
     ]
    }
   ],
   "source": [
    "print ('The % children between ages 0-16 is {}%'.format(round(np.sum(counts[:16])/(np.sum(counts[:16])+np.sum(counts[16:]))*100)))"
   ]
  },
  {
   "cell_type": "markdown",
   "metadata": {},
   "source": [
    "## Households"
   ]
  },
  {
   "cell_type": "markdown",
   "metadata": {},
   "source": [
    "### Household size distribution"
   ]
  },
  {
   "cell_type": "code",
   "execution_count": 20,
   "metadata": {},
   "outputs": [
    {
     "data": {
      "image/png": "[encoded data removed]",
      "text/plain": [
       "<Figure size 432x288 with 1 Axes>"
      ]
     },
     "metadata": {
      "needs_background": "light"
     },
     "output_type": "display_data"
    }
   ],
   "source": [
    "household_sizes = [household.size for household in world.households]\n",
    "plt.hist(household_sizes, density=True, bins=np.arange(0,12))\n",
    "plt.xlabel(\"Household size\")\n",
    "plt.ylabel(\"Frequency\")\n",
    "plt.axvline(np.mean(household_sizes), color=\"cyan\")\n",
    "plt.text(8, 0.150, f\"Avg. size: {(np.mean(household_sizes)):.2f}\")\n",
    "plt.show()"
   ]
  },
  {
   "cell_type": "markdown",
   "metadata": {},
   "source": [
    "## Activity exploration"
   ]
  },
  {
   "cell_type": "markdown",
   "metadata": {},
   "source": [
    "### Pumps and latrines "
   ]
  },
  {
   "cell_type": "code",
   "execution_count": 21,
   "metadata": {},
   "outputs": [],
   "source": [
    "pumps_and_latrines = []\n",
    "for pump_latrine in world.areas.members[0].pumplatrines:\n",
    "    pumps_and_latrines.append(pump_latrine)"
   ]
  },
  {
   "cell_type": "code",
   "execution_count": 22,
   "metadata": {},
   "outputs": [
    {
     "name": "stdout",
     "output_type": "stream",
     "text": [
      "There are 3 pumps and latrines in area CXB-219-062\n"
     ]
    }
   ],
   "source": [
    "print ('There are {} pumps and latrines in area {}'.format(len(pumps_and_latrines), world.areas.members[0].name))"
   ]
  },
  {
   "cell_type": "markdown",
   "metadata": {},
   "source": [
    "### Distribution centers"
   ]
  },
  {
   "cell_type": "code",
   "execution_count": 23,
   "metadata": {},
   "outputs": [],
   "source": [
    "distribution_centers = []\n",
    "for center in world.distribution_centers:\n",
    "    distribution_centers.append(center)"
   ]
  },
  {
   "cell_type": "code",
   "execution_count": 24,
   "metadata": {},
   "outputs": [
    {
     "data": {
      "text/plain": [
       "array([21.1962 , 92.14936])"
      ]
     },
     "execution_count": 24,
     "metadata": {},
     "output_type": "execute_result"
    }
   ],
   "source": [
    "distribution_centers[0].coordinates"
   ]
  },
  {
   "cell_type": "markdown",
   "metadata": {},
   "source": [
    "### Communal spaces"
   ]
  },
  {
   "cell_type": "code",
   "execution_count": 25,
   "metadata": {},
   "outputs": [],
   "source": [
    "communal_spaces = []\n",
    "for space in world.communals:\n",
    "    communal_spaces.append(space)"
   ]
  },
  {
   "cell_type": "code",
   "execution_count": 26,
   "metadata": {},
   "outputs": [
    {
     "data": {
      "text/plain": [
       "array([21.19588, 92.152  ])"
      ]
     },
     "execution_count": 26,
     "metadata": {},
     "output_type": "execute_result"
    }
   ],
   "source": [
    "communal_spaces[0].coordinates"
   ]
  },
  {
   "cell_type": "markdown",
   "metadata": {},
   "source": [
    "### Female friendly communal spaces"
   ]
  },
  {
   "cell_type": "code",
   "execution_count": 27,
   "metadata": {},
   "outputs": [],
   "source": [
    "female_communal_spaces = []\n",
    "for space in world.female_communals:\n",
    "    female_communal_spaces.append(space)"
   ]
  },
  {
   "cell_type": "code",
   "execution_count": 28,
   "metadata": {},
   "outputs": [
    {
     "data": {
      "text/plain": [
       "array([21.19588, 92.152  ])"
      ]
     },
     "execution_count": 28,
     "metadata": {},
     "output_type": "execute_result"
    }
   ],
   "source": [
    "female_communal_spaces[0].coordinates"
   ]
  },
  {
   "cell_type": "markdown",
   "metadata": {},
   "source": [
    "# Adding the infection"
   ]
  },
  {
   "cell_type": "code",
   "execution_count": 29,
   "metadata": {},
   "outputs": [],
   "source": [
    "selector = InfectionSelector.from_file()"
   ]
  },
  {
   "cell_type": "markdown",
   "metadata": {},
   "source": [
    "# Adding the interaction"
   ]
  },
  {
   "cell_type": "code",
   "execution_count": 30,
   "metadata": {},
   "outputs": [],
   "source": [
    "beta={'female_communal':100,\n",
    "        'communal':100,\n",
    "        'distribution_center':100,\n",
    "        'pump_latrine':100,\n",
    "      'household':1,\n",
    "     'hospital':1}\n",
    "contact_matrices =  {\n",
    "            'hospital':\n",
    "            {'contacts':\n",
    "             [[5.00, 10., 10.], [1., 0., 0.], [1., 0., 0.]],\n",
    "             'proportion_physical': \n",
    "             [[0.05, 1., 1.], [1.0, 0., 0.], [1., 0., 0.]]\n",
    "            },\n",
    "            'household':\n",
    "            {\n",
    "                'contacts':[[1.20, 1.69, 1.69, 1.69],\n",
    "                            [1.27, 1.34, 1.47, 1.47],\n",
    "                            [1.27, 1.30, 1.34, 1.34],\n",
    "                            [1.27, 1.30, 1.34, 2.00]],\n",
    "                'proportion_physical':\n",
    "                [[0.79, 0.7, 0.7, 0.7], [0.7, 0.34, 0.4, 0.62],\n",
    "                 [0.7, 0.4, 0.62, 0.62], [0.7, 0.4, 0.62, 0.45]]\n",
    "            }\n",
    "            \n",
    "        }"
   ]
  },
  {
   "cell_type": "code",
   "execution_count": 31,
   "metadata": {},
   "outputs": [],
   "source": [
    "interaction = ContactAveraging(alpha_physical = 1.,\n",
    "                               beta=beta,\n",
    "                               contact_matrices= contact_matrices,                            \n",
    "                               selector=selector)\n"
   ]
  },
  {
   "cell_type": "markdown",
   "metadata": {},
   "source": [
    "# Set policies"
   ]
  },
  {
   "cell_type": "code",
   "execution_count": 32,
   "metadata": {},
   "outputs": [],
   "source": [
    "social_distance = Policy(policy=\"social_distance\",\n",
    "                         start_time=datetime(2021, 3, 25), \n",
    "                         end_time=datetime(2021, 4, 1))\n",
    "policies = Policies.from_file([social_distance])"
   ]
  },
  {
   "cell_type": "markdown",
   "metadata": {},
   "source": [
    "# Seed the disease"
   ]
  },
  {
   "cell_type": "code",
   "execution_count": 33,
   "metadata": {},
   "outputs": [],
   "source": [
    "seed = Seed(world.super_areas,\n",
    "           selector)\n",
    "\n",
    "seed.unleash_virus(n_cases=5)"
   ]
  },
  {
   "cell_type": "markdown",
   "metadata": {},
   "source": [
    "# Run the simulation"
   ]
  },
  {
   "cell_type": "code",
   "execution_count": 34,
   "metadata": {},
   "outputs": [],
   "source": [
    "activity_to_groups = {\n",
    "    'leisure': ['female_communals', 'communals',\n",
    "               'distribution_centers', 'pump_latrines'],\n",
    "    'residence': ['households'],\n",
    "    'hospitals': ['hospitals']\n",
    "}\n",
    "\n",
    "time = {\n",
    "    'total_days': 70,\n",
    "    'step_duration': \n",
    "    {\n",
    "        'weekday': {0:12, 1:12},\n",
    "        'weekend': {0:12, 1:12},\n",
    "    },\n",
    "    'step_activities':\n",
    "    {\n",
    "        'weekday': {0: ['hospital', 'leisure', 'residence',],\n",
    "                    1:  ['hospital', 'leisure', 'residence',]},\n",
    "        'weekend': {0: ['hospital', 'leisure', 'residence',],\n",
    "                    1:  ['hospital', 'leisure', 'residence',]}\n",
    "    }\n",
    "\n",
    "}"
   ]
  },
  {
   "cell_type": "code",
   "execution_count": 35,
   "metadata": {},
   "outputs": [],
   "source": [
    "from camps.groups import DistributionCenters, DistributionCenterDistributor\n",
    "from camps.groups import Communals, CommunalDistributor\n",
    "from camps.groups import FemaleCommunals, FemaleCommunalDistributor"
   ]
  },
  {
   "cell_type": "code",
   "execution_count": 36,
   "metadata": {},
   "outputs": [],
   "source": [
    "CONFIG_PATH = \"../configs/config_example.yaml\"\n",
    "\n",
    "leisure_instance = leisure.generate_leisure_for_config(\n",
    "            world=world\n",
    ")\n",
    "leisure_instance.leisure_distributors = [\n",
    "    PumpLatrineDistributor.from_config(pumplatrines=world.pump_latrines),\n",
    "    DistributionCenterDistributor.from_config(distribution_centers=world.distribution_centers),\n",
    "    CommunalDistributor.from_config(communals=world.communals),\n",
    "    FemaleCommunalDistributor.from_config(female_communals=world.female_communals)\n",
    "]\n",
    "\n",
    "simulator = Simulator(\n",
    "     world, interaction, selector, \n",
    "    activity_to_groups = activity_to_groups,\n",
    "    time_config= time,\n",
    "    leisure = leisure_instance,\n",
    "    policies=policies,\n",
    ")"
   ]
  },
  {
   "cell_type": "code",
   "execution_count": 37,
   "metadata": {},
   "outputs": [],
   "source": [
    "simulator.timer.reset()"
   ]
  },
  {
   "cell_type": "code",
   "execution_count": 38,
   "metadata": {
    "scrolled": true
   },
   "outputs": [
    {
     "name": "stdout",
     "output_type": "stream",
     "text": [
      "2020-06-14 16:23:07,911 - june.simulator - INFO - Starting group_dynamics for 70 days at day 0\n",
      "2020-06-14 16:23:07,912 - june.simulator - INFO - starting the loop ..., at 0 days, to run for 70 days\n",
      "2020-06-14 16:23:10,348 - june.simulator - INFO - Date = 2020-03-07 12:00:00, number of deaths =  0, number of infected = 5\n",
      "2020-06-14 16:23:11,247 - june.simulator - INFO - Date = 2020-03-08 00:00:00, number of deaths =  0, number of infected = 5\n",
      "2020-06-14 16:23:12,044 - june.simulator - INFO - Date = 2020-03-08 12:00:00, number of deaths =  0, number of infected = 5\n",
      "2020-06-14 16:23:12,431 - june.simulator - INFO - Date = 2020-03-09 00:00:00, number of deaths =  0, number of infected = 5\n",
      "2020-06-14 16:23:12,928 - june.simulator - INFO - Date = 2020-03-09 12:00:00, number of deaths =  0, number of infected = 5\n",
      "2020-06-14 16:23:13,271 - june.simulator - INFO - Date = 2020-03-10 00:00:00, number of deaths =  0, number of infected = 5\n",
      "2020-06-14 16:23:13,570 - june.simulator - INFO - Date = 2020-03-10 12:00:00, number of deaths =  0, number of infected = 5\n",
      "2020-06-14 16:23:13,775 - june.simulator - INFO - Date = 2020-03-11 00:00:00, number of deaths =  0, number of infected = 5\n",
      "2020-06-14 16:23:13,960 - june.simulator - INFO - Date = 2020-03-11 12:00:00, number of deaths =  0, number of infected = 35\n",
      "2020-06-14 16:23:14,180 - june.simulator - INFO - Date = 2020-03-12 00:00:00, number of deaths =  0, number of infected = 74\n",
      "2020-06-14 16:23:14,341 - june.simulator - INFO - Date = 2020-03-12 12:00:00, number of deaths =  0, number of infected = 111\n",
      "2020-06-14 16:23:14,505 - june.simulator - INFO - Date = 2020-03-13 00:00:00, number of deaths =  0, number of infected = 129\n",
      "2020-06-14 16:23:14,689 - june.simulator - INFO - Date = 2020-03-13 12:00:00, number of deaths =  0, number of infected = 139\n",
      "2020-06-14 16:23:14,855 - june.simulator - INFO - Date = 2020-03-14 00:00:00, number of deaths =  0, number of infected = 141\n",
      "2020-06-14 16:23:15,003 - june.simulator - INFO - Date = 2020-03-14 12:00:00, number of deaths =  0, number of infected = 143\n",
      "2020-06-14 16:23:15,153 - june.simulator - INFO - Date = 2020-03-15 00:00:00, number of deaths =  0, number of infected = 146\n",
      "2020-06-14 16:23:15,291 - june.simulator - INFO - Date = 2020-03-15 12:00:00, number of deaths =  0, number of infected = 159\n",
      "2020-06-14 16:23:15,452 - june.simulator - INFO - Date = 2020-03-16 00:00:00, number of deaths =  0, number of infected = 202\n",
      "2020-06-14 16:23:15,595 - june.simulator - INFO - Date = 2020-03-16 12:00:00, number of deaths =  0, number of infected = 221\n",
      "2020-06-14 16:23:15,932 - june.simulator - INFO - Date = 2020-03-17 00:00:00, number of deaths =  0, number of infected = 237\n",
      "2020-06-14 16:23:16,192 - june.simulator - INFO - Date = 2020-03-17 12:00:00, number of deaths =  0, number of infected = 255\n",
      "2020-06-14 16:23:16,505 - june.simulator - INFO - Date = 2020-03-18 00:00:00, number of deaths =  0, number of infected = 301\n",
      "2020-06-14 16:23:16,770 - june.simulator - INFO - Date = 2020-03-18 12:00:00, number of deaths =  0, number of infected = 325\n",
      "2020-06-14 16:23:16,923 - june.simulator - INFO - Date = 2020-03-19 00:00:00, number of deaths =  0, number of infected = 388\n",
      "2020-06-14 16:23:17,097 - june.simulator - INFO - Date = 2020-03-19 12:00:00, number of deaths =  0, number of infected = 445\n",
      "2020-06-14 16:23:17,247 - june.simulator - INFO - Date = 2020-03-20 00:00:00, number of deaths =  0, number of infected = 483\n",
      "2020-06-14 16:23:17,386 - june.simulator - INFO - Date = 2020-03-20 12:00:00, number of deaths =  0, number of infected = 527\n",
      "2020-06-14 16:23:17,538 - june.simulator - INFO - Date = 2020-03-21 00:00:00, number of deaths =  0, number of infected = 553\n",
      "2020-06-14 16:23:17,701 - june.simulator - INFO - Date = 2020-03-21 12:00:00, number of deaths =  0, number of infected = 563\n",
      "2020-06-14 16:23:17,844 - june.simulator - INFO - Date = 2020-03-22 00:00:00, number of deaths =  0, number of infected = 573\n",
      "2020-06-14 16:23:18,012 - june.simulator - INFO - Date = 2020-03-22 12:00:00, number of deaths =  0, number of infected = 629\n",
      "2020-06-14 16:23:18,191 - june.simulator - INFO - Date = 2020-03-23 00:00:00, number of deaths =  0, number of infected = 676\n",
      "2020-06-14 16:23:18,557 - june.simulator - INFO - Date = 2020-03-23 12:00:00, number of deaths =  0, number of infected = 710\n",
      "2020-06-14 16:23:18,761 - june.simulator - INFO - Date = 2020-03-24 00:00:00, number of deaths =  0, number of infected = 761\n",
      "2020-06-14 16:23:19,066 - june.simulator - INFO - Date = 2020-03-24 12:00:00, number of deaths =  0, number of infected = 899\n",
      "2020-06-14 16:23:19,377 - june.simulator - INFO - Date = 2020-03-25 00:00:00, number of deaths =  0, number of infected = 966\n",
      "2020-06-14 16:23:19,564 - june.simulator - INFO - Date = 2020-03-25 12:00:00, number of deaths =  0, number of infected = 1117\n",
      "2020-06-14 16:23:19,743 - june.simulator - INFO - Date = 2020-03-26 00:00:00, number of deaths =  0, number of infected = 1246\n",
      "2020-06-14 16:23:19,919 - june.simulator - INFO - Date = 2020-03-26 12:00:00, number of deaths =  0, number of infected = 1361\n",
      "2020-06-14 16:23:20,106 - june.simulator - INFO - Date = 2020-03-27 00:00:00, number of deaths =  0, number of infected = 1543\n",
      "2020-06-14 16:23:20,304 - june.simulator - INFO - Date = 2020-03-27 12:00:00, number of deaths =  0, number of infected = 1825\n",
      "2020-06-14 16:23:20,486 - june.simulator - INFO - Date = 2020-03-28 00:00:00, number of deaths =  0, number of infected = 1969\n",
      "2020-06-14 16:23:20,775 - june.simulator - INFO - Date = 2020-03-28 12:00:00, number of deaths =  0, number of infected = 2085\n",
      "2020-06-14 16:23:21,241 - june.simulator - INFO - Date = 2020-03-29 00:00:00, number of deaths =  0, number of infected = 2302\n",
      "2020-06-14 16:23:21,425 - june.simulator - INFO - Date = 2020-03-29 12:00:00, number of deaths =  0, number of infected = 2391\n",
      "2020-06-14 16:23:21,628 - june.simulator - INFO - Date = 2020-03-30 00:00:00, number of deaths =  0, number of infected = 2682\n",
      "2020-06-14 16:23:21,863 - june.simulator - INFO - Date = 2020-03-30 12:00:00, number of deaths =  0, number of infected = 2940\n",
      "2020-06-14 16:23:22,074 - june.simulator - INFO - Date = 2020-03-31 00:00:00, number of deaths =  1, number of infected = 3300\n",
      "2020-06-14 16:23:22,459 - june.simulator - INFO - Date = 2020-03-31 12:00:00, number of deaths =  1, number of infected = 3607\n",
      "2020-06-14 16:23:22,858 - june.simulator - INFO - Date = 2020-04-01 00:00:00, number of deaths =  1, number of infected = 3800\n",
      "2020-06-14 16:23:23,106 - june.simulator - INFO - Date = 2020-04-01 12:00:00, number of deaths =  1, number of infected = 4081\n",
      "2020-06-14 16:23:23,728 - june.simulator - INFO - Date = 2020-04-02 00:00:00, number of deaths =  1, number of infected = 4596\n",
      "2020-06-14 16:23:23,961 - june.simulator - INFO - Date = 2020-04-02 12:00:00, number of deaths =  1, number of infected = 5069\n",
      "2020-06-14 16:23:24,416 - june.simulator - INFO - Date = 2020-04-03 00:00:00, number of deaths =  1, number of infected = 5637\n",
      "2020-06-14 16:23:25,020 - june.simulator - INFO - Date = 2020-04-03 12:00:00, number of deaths =  1, number of infected = 6157\n",
      "2020-06-14 16:23:25,288 - june.simulator - INFO - Date = 2020-04-04 00:00:00, number of deaths =  1, number of infected = 6704\n",
      "2020-06-14 16:23:25,548 - june.simulator - INFO - Date = 2020-04-04 12:00:00, number of deaths =  1, number of infected = 7281\n",
      "2020-06-14 16:23:25,823 - june.simulator - INFO - Date = 2020-04-05 00:00:00, number of deaths =  1, number of infected = 7778\n",
      "2020-06-14 16:23:26,110 - june.simulator - INFO - Date = 2020-04-05 12:00:00, number of deaths =  1, number of infected = 8331\n",
      "2020-06-14 16:23:26,447 - june.simulator - INFO - Date = 2020-04-06 00:00:00, number of deaths =  1, number of infected = 8969\n",
      "2020-06-14 16:23:26,764 - june.simulator - INFO - Date = 2020-04-06 12:00:00, number of deaths =  1, number of infected = 9550\n",
      "2020-06-14 16:23:27,119 - june.simulator - INFO - Date = 2020-04-07 00:00:00, number of deaths =  1, number of infected = 10191\n",
      "2020-06-14 16:23:27,460 - june.simulator - INFO - Date = 2020-04-07 12:00:00, number of deaths =  1, number of infected = 10819\n",
      "2020-06-14 16:23:27,829 - june.simulator - INFO - Date = 2020-04-08 00:00:00, number of deaths =  1, number of infected = 11442\n"
     ]
    },
    {
     "name": "stdout",
     "output_type": "stream",
     "text": [
      "2020-06-14 16:23:28,171 - june.simulator - INFO - Date = 2020-04-08 12:00:00, number of deaths =  1, number of infected = 12121\n",
      "2020-06-14 16:23:28,509 - june.simulator - INFO - Date = 2020-04-09 00:00:00, number of deaths =  1, number of infected = 12927\n",
      "2020-06-14 16:23:28,851 - june.simulator - INFO - Date = 2020-04-09 12:00:00, number of deaths =  1, number of infected = 13627\n",
      "2020-06-14 16:23:29,269 - june.simulator - INFO - Date = 2020-04-10 00:00:00, number of deaths =  2, number of infected = 14154\n",
      "2020-06-14 16:23:29,606 - june.simulator - INFO - Date = 2020-04-10 12:00:00, number of deaths =  3, number of infected = 14798\n",
      "2020-06-14 16:23:29,937 - june.simulator - INFO - Date = 2020-04-11 00:00:00, number of deaths =  3, number of infected = 15324\n",
      "2020-06-14 16:23:30,268 - june.simulator - INFO - Date = 2020-04-11 12:00:00, number of deaths =  3, number of infected = 15808\n",
      "2020-06-14 16:23:30,596 - june.simulator - INFO - Date = 2020-04-12 00:00:00, number of deaths =  5, number of infected = 16209\n",
      "2020-06-14 16:23:30,908 - june.simulator - INFO - Date = 2020-04-12 12:00:00, number of deaths =  5, number of infected = 16546\n",
      "2020-06-14 16:23:31,216 - june.simulator - INFO - Date = 2020-04-13 00:00:00, number of deaths =  5, number of infected = 16836\n",
      "2020-06-14 16:23:31,544 - june.simulator - INFO - Date = 2020-04-13 12:00:00, number of deaths =  5, number of infected = 17183\n",
      "2020-06-14 16:23:31,887 - june.simulator - INFO - Date = 2020-04-14 00:00:00, number of deaths =  5, number of infected = 17549\n",
      "2020-06-14 16:23:32,215 - june.simulator - INFO - Date = 2020-04-14 12:00:00, number of deaths =  5, number of infected = 17814\n",
      "2020-06-14 16:23:32,555 - june.simulator - INFO - Date = 2020-04-15 00:00:00, number of deaths =  6, number of infected = 18146\n",
      "2020-06-14 16:23:32,901 - june.simulator - INFO - Date = 2020-04-15 12:00:00, number of deaths =  6, number of infected = 18496\n",
      "2020-06-14 16:23:33,242 - june.simulator - INFO - Date = 2020-04-16 00:00:00, number of deaths =  7, number of infected = 18734\n",
      "2020-06-14 16:23:33,594 - june.simulator - INFO - Date = 2020-04-16 12:00:00, number of deaths =  7, number of infected = 18881\n",
      "2020-06-14 16:23:33,960 - june.simulator - INFO - Date = 2020-04-17 00:00:00, number of deaths =  8, number of infected = 18996\n",
      "2020-06-14 16:23:34,283 - june.simulator - INFO - Date = 2020-04-17 12:00:00, number of deaths =  8, number of infected = 19012\n",
      "2020-06-14 16:23:34,812 - june.simulator - INFO - Date = 2020-04-18 00:00:00, number of deaths =  8, number of infected = 19088\n",
      "2020-06-14 16:23:35,267 - june.simulator - INFO - Date = 2020-04-18 12:00:00, number of deaths =  8, number of infected = 19096\n",
      "2020-06-14 16:23:35,603 - june.simulator - INFO - Date = 2020-04-19 00:00:00, number of deaths =  9, number of infected = 19040\n",
      "2020-06-14 16:23:35,977 - june.simulator - INFO - Date = 2020-04-19 12:00:00, number of deaths =  9, number of infected = 19060\n",
      "2020-06-14 16:23:36,303 - june.simulator - INFO - Date = 2020-04-20 00:00:00, number of deaths =  10, number of infected = 19048\n",
      "2020-06-14 16:23:36,852 - june.simulator - INFO - Date = 2020-04-20 12:00:00, number of deaths =  10, number of infected = 18909\n",
      "2020-06-14 16:23:37,361 - june.simulator - INFO - Date = 2020-04-21 00:00:00, number of deaths =  11, number of infected = 18755\n",
      "2020-06-14 16:23:37,812 - june.simulator - INFO - Date = 2020-04-21 12:00:00, number of deaths =  12, number of infected = 18587\n",
      "2020-06-14 16:23:38,128 - june.simulator - INFO - Date = 2020-04-22 00:00:00, number of deaths =  13, number of infected = 18363\n",
      "2020-06-14 16:23:38,427 - june.simulator - INFO - Date = 2020-04-22 12:00:00, number of deaths =  13, number of infected = 18184\n",
      "2020-06-14 16:23:38,734 - june.simulator - INFO - Date = 2020-04-23 00:00:00, number of deaths =  15, number of infected = 17937\n",
      "2020-06-14 16:23:39,207 - june.simulator - INFO - Date = 2020-04-23 12:00:00, number of deaths =  15, number of infected = 17646\n",
      "2020-06-14 16:23:39,841 - june.simulator - INFO - Date = 2020-04-24 00:00:00, number of deaths =  15, number of infected = 17329\n",
      "2020-06-14 16:23:40,142 - june.simulator - INFO - Date = 2020-04-24 12:00:00, number of deaths =  15, number of infected = 16997\n",
      "2020-06-14 16:23:40,445 - june.simulator - INFO - Date = 2020-04-25 00:00:00, number of deaths =  16, number of infected = 16615\n",
      "2020-06-14 16:23:40,742 - june.simulator - INFO - Date = 2020-04-25 12:00:00, number of deaths =  16, number of infected = 16169\n",
      "2020-06-14 16:23:41,022 - june.simulator - INFO - Date = 2020-04-26 00:00:00, number of deaths =  17, number of infected = 15743\n",
      "2020-06-14 16:23:41,308 - june.simulator - INFO - Date = 2020-04-26 12:00:00, number of deaths =  18, number of infected = 15292\n",
      "2020-06-14 16:23:41,596 - june.simulator - INFO - Date = 2020-04-27 00:00:00, number of deaths =  18, number of infected = 14827\n",
      "2020-06-14 16:23:41,875 - june.simulator - INFO - Date = 2020-04-27 12:00:00, number of deaths =  18, number of infected = 14368\n",
      "2020-06-14 16:23:42,154 - june.simulator - INFO - Date = 2020-04-28 00:00:00, number of deaths =  18, number of infected = 13878\n",
      "2020-06-14 16:23:42,422 - june.simulator - INFO - Date = 2020-04-28 12:00:00, number of deaths =  19, number of infected = 13430\n",
      "2020-06-14 16:23:42,704 - june.simulator - INFO - Date = 2020-04-29 00:00:00, number of deaths =  20, number of infected = 12962\n",
      "2020-06-14 16:23:42,977 - june.simulator - INFO - Date = 2020-04-29 12:00:00, number of deaths =  21, number of infected = 12546\n",
      "2020-06-14 16:23:43,231 - june.simulator - INFO - Date = 2020-04-30 00:00:00, number of deaths =  21, number of infected = 12041\n",
      "2020-06-14 16:23:43,517 - june.simulator - INFO - Date = 2020-04-30 12:00:00, number of deaths =  21, number of infected = 11588\n",
      "2020-06-14 16:23:43,907 - june.simulator - INFO - Date = 2020-05-01 00:00:00, number of deaths =  22, number of infected = 11119\n",
      "2020-06-14 16:23:44,182 - june.simulator - INFO - Date = 2020-05-01 12:00:00, number of deaths =  22, number of infected = 10708\n",
      "2020-06-14 16:23:44,424 - june.simulator - INFO - Date = 2020-05-02 00:00:00, number of deaths =  22, number of infected = 10204\n",
      "2020-06-14 16:23:44,665 - june.simulator - INFO - Date = 2020-05-02 12:00:00, number of deaths =  23, number of infected = 9679\n",
      "2020-06-14 16:23:45,045 - june.simulator - INFO - Date = 2020-05-03 00:00:00, number of deaths =  24, number of infected = 9221\n",
      "2020-06-14 16:23:45,284 - june.simulator - INFO - Date = 2020-05-03 12:00:00, number of deaths =  25, number of infected = 8746\n",
      "2020-06-14 16:23:45,515 - june.simulator - INFO - Date = 2020-05-04 00:00:00, number of deaths =  25, number of infected = 8288\n",
      "2020-06-14 16:23:45,738 - june.simulator - INFO - Date = 2020-05-04 12:00:00, number of deaths =  26, number of infected = 7835\n",
      "2020-06-14 16:23:45,962 - june.simulator - INFO - Date = 2020-05-05 00:00:00, number of deaths =  28, number of infected = 7354\n",
      "2020-06-14 16:23:46,178 - june.simulator - INFO - Date = 2020-05-05 12:00:00, number of deaths =  29, number of infected = 6954\n",
      "2020-06-14 16:23:46,375 - june.simulator - INFO - Date = 2020-05-06 00:00:00, number of deaths =  29, number of infected = 6549\n",
      "2020-06-14 16:23:46,565 - june.simulator - INFO - Date = 2020-05-06 12:00:00, number of deaths =  29, number of infected = 6161\n",
      "2020-06-14 16:23:46,752 - june.simulator - INFO - Date = 2020-05-07 00:00:00, number of deaths =  29, number of infected = 5786\n",
      "2020-06-14 16:23:46,940 - june.simulator - INFO - Date = 2020-05-07 12:00:00, number of deaths =  29, number of infected = 5447\n",
      "2020-06-14 16:23:47,115 - june.simulator - INFO - Date = 2020-05-08 00:00:00, number of deaths =  29, number of infected = 5083\n",
      "2020-06-14 16:23:47,290 - june.simulator - INFO - Date = 2020-05-08 12:00:00, number of deaths =  30, number of infected = 4724\n",
      "2020-06-14 16:23:47,528 - june.simulator - INFO - Date = 2020-05-09 00:00:00, number of deaths =  30, number of infected = 4403\n",
      "2020-06-14 16:23:47,698 - june.simulator - INFO - Date = 2020-05-09 12:00:00, number of deaths =  30, number of infected = 4083\n",
      "2020-06-14 16:23:47,968 - june.simulator - INFO - Date = 2020-05-10 00:00:00, number of deaths =  30, number of infected = 3789\n"
     ]
    },
    {
     "name": "stdout",
     "output_type": "stream",
     "text": [
      "2020-06-14 16:23:48,128 - june.simulator - INFO - Date = 2020-05-10 12:00:00, number of deaths =  31, number of infected = 3522\n",
      "2020-06-14 16:23:48,281 - june.simulator - INFO - Date = 2020-05-11 00:00:00, number of deaths =  31, number of infected = 3266\n",
      "2020-06-14 16:23:48,589 - june.simulator - INFO - Date = 2020-05-11 12:00:00, number of deaths =  33, number of infected = 3026\n",
      "2020-06-14 16:23:48,743 - june.simulator - INFO - Date = 2020-05-12 00:00:00, number of deaths =  34, number of infected = 2809\n",
      "2020-06-14 16:23:48,894 - june.simulator - INFO - Date = 2020-05-12 12:00:00, number of deaths =  34, number of infected = 2611\n",
      "2020-06-14 16:23:49,080 - june.simulator - INFO - Date = 2020-05-13 00:00:00, number of deaths =  35, number of infected = 2406\n",
      "2020-06-14 16:23:49,315 - june.simulator - INFO - Date = 2020-05-13 12:00:00, number of deaths =  35, number of infected = 2212\n",
      "2020-06-14 16:23:49,456 - june.simulator - INFO - Date = 2020-05-14 00:00:00, number of deaths =  35, number of infected = 2038\n",
      "2020-06-14 16:23:49,590 - june.simulator - INFO - Date = 2020-05-14 12:00:00, number of deaths =  35, number of infected = 1907\n",
      "2020-06-14 16:23:49,829 - june.simulator - INFO - Date = 2020-05-15 00:00:00, number of deaths =  35, number of infected = 1753\n",
      "2020-06-14 16:23:50,002 - june.simulator - INFO - Date = 2020-05-15 12:00:00, number of deaths =  35, number of infected = 1620\n",
      "2020-06-14 16:23:50,134 - june.simulator - INFO - Date = 2020-05-16 00:00:00, number of deaths =  35, number of infected = 1463\n",
      "CPU times: user 41.3 s, sys: 288 ms, total: 41.6 s\n",
      "Wall time: 42.3 s\n"
     ]
    }
   ],
   "source": [
    "%%time\n",
    "simulator.run()"
   ]
  },
  {
   "cell_type": "markdown",
   "metadata": {},
   "source": [
    "# Getting the results"
   ]
  },
  {
   "cell_type": "markdown",
   "metadata": {},
   "source": [
    "All results are stored in a json file specified in the ``save_path`` variable in the config file. We can also access it from ``world.logger`` directly."
   ]
  },
  {
   "cell_type": "code",
   "execution_count": 39,
   "metadata": {},
   "outputs": [],
   "source": [
    "import pandas as pd\n",
    "read = ReadLogger()"
   ]
  },
  {
   "cell_type": "code",
   "execution_count": 40,
   "metadata": {},
   "outputs": [],
   "source": [
    "loc_df = read.get_locations_infections()"
   ]
  },
  {
   "cell_type": "code",
   "execution_count": 41,
   "metadata": {},
   "outputs": [
    {
     "data": {
      "text/plain": [
       "Text(0.5, 0, 'location')"
      ]
     },
     "execution_count": 41,
     "metadata": {},
     "output_type": "execute_result"
    },
    {
     "data": {
      "image/png": "[encoded data removed]",
      "text/plain": [
       "<Figure size 432x288 with 1 Axes>"
      ]
     },
     "metadata": {
      "needs_background": "light"
     },
     "output_type": "display_data"
    }
   ],
   "source": [
    "import matplotlib.ticker as mtick\n",
    "\n",
    "ax = loc_df['percentage_infections'].sort_values().plot.bar()\n",
    "ax.yaxis.set_major_formatter(mtick.PercentFormatter())\n",
    "plt.ylabel('Percentage of infections at location')\n",
    "plt.xlabel('location')"
   ]
  },
  {
   "cell_type": "code",
   "execution_count": 42,
   "metadata": {},
   "outputs": [
    {
     "data": {
      "text/plain": [
       "<matplotlib.legend.Legend at 0x7fd26124a8b0>"
      ]
     },
     "execution_count": 42,
     "metadata": {},
     "output_type": "execute_result"
    },
    {
     "data": {
      "image/png": "[encoded data removed]",
      "text/plain": [
       "<Figure size 432x288 with 1 Axes>"
      ]
     },
     "metadata": {
      "needs_background": "light"
     },
     "output_type": "display_data"
    }
   ],
   "source": [
    "world_df = read.world_summary()\n",
    "world_df.plot()\n",
    "plt.axvspan(policies.social_distancing_start, \n",
    "            policies.social_distancing_end,\n",
    "            facecolor='y', alpha=0.2)\n",
    "plt.legend()"
   ]
  },
  {
   "cell_type": "code",
   "execution_count": null,
   "metadata": {},
   "outputs": [],
   "source": []
  },
  {
   "cell_type": "code",
   "execution_count": null,
   "metadata": {},
   "outputs": [],
   "source": []
  }
 ],
 "metadata": {
  "kernelspec": {
   "display_name": "Python 3",
   "language": "python",
   "name": "python3"
  },
  "language_info": {
   "codemirror_mode": {
    "name": "ipython",
    "version": 3
   },
   "file_extension": ".py",
   "mimetype": "text/x-python",
   "name": "python",
   "nbconvert_exporter": "python",
   "pygments_lexer": "ipython3",
   "version": "3.8.3"
  }
 },
 "nbformat": 4,
 "nbformat_minor": 4
}
