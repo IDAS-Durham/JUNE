{
 "cells": [
  {
   "cell_type": "code",
   "execution_count": 1,
   "metadata": {},
   "outputs": [],
   "source": [
    "%load_ext autoreload\n",
    "%autoreload 2"
   ]
  },
  {
   "cell_type": "code",
   "execution_count": 2,
   "metadata": {},
   "outputs": [],
   "source": [
    "import numpy as np\n",
    "import time\n",
    "from datetime import datetime\n",
    "import matplotlib.pyplot as plt\n",
    "import seaborn as sns\n",
    "sns.set_context('notebook')"
   ]
  },
  {
   "cell_type": "code",
   "execution_count": 3,
   "metadata": {},
   "outputs": [
    {
     "name": "stderr",
     "output_type": "stream",
     "text": [
      "No --data argument given - defaulting to:\n",
      "/home/arnau/code/JUNE/data\n",
      "No --configs argument given - defaulting to:\n",
      "/home/arnau/code/JUNE/configs\n"
     ]
    }
   ],
   "source": [
    "from june import World \n",
    "from june.demography.geography import Geography\n",
    "from june.demography import Demography\n",
    "from june.interaction import ContactAveraging\n",
    "from june.infection import Infection\n",
    "from june.infection.symptoms import SymptomsConstant\n",
    "from june.infection.transmission import TransmissionConstant\n",
    "from june.groups import Hospitals, Schools, Companies, Households, CareHomes, Cemeteries, Universities\n",
    "from june.groups.leisure import leisure, Cinemas, Pubs, Groceries\n",
    "from june.simulator import Simulator\n",
    "from june.seed import Seed\n",
    "from june.policy import Policy, Policies\n",
    "from june import paths\n",
    "from june.logger.read_logger import ReadLogger\n",
    "from june.infection.infection import InfectionSelector\n",
    "from june.world import generate_world_from_hdf5, generate_world_from_geography"
   ]
  },
  {
   "cell_type": "markdown",
   "metadata": {},
   "source": [
    "# Initialize world\n",
    "\n",
    "To initialize a certain world, we need to add the different components we want to have in it. First we specify what super areas (msoa) we want to create. We have included these ones, because they are known to contain hospitals, schools, care homes, and companies.\n",
    "\n",
    "After creating the geography, we create the different components the worlds need to have such as care homes, companies ..."
   ]
  },
  {
   "cell_type": "code",
   "execution_count": 4,
   "metadata": {},
   "outputs": [
    {
     "name": "stdout",
     "output_type": "stream",
     "text": [
      "2020-06-18 14:16:32,552 - june.demography.geography - INFO - There are 129 areas and 5 super_areas in the world.\n",
      "2020-06-18 14:16:32,558 - june.groups.hospital - INFO - There are 1 hospitals in this geography.\n",
      "2020-06-18 14:16:32,603 - june.groups.school - INFO - There are 19 schools in this geography.\n",
      "2020-06-18 14:16:32,629 - june.groups.school - INFO - No school for the age 0 in this world.\n",
      "2020-06-18 14:16:32,634 - june.groups.school - INFO - No school for the age 1 in this world.\n",
      "2020-06-18 14:16:32,639 - june.groups.school - INFO - No school for the age 2 in this world.\n",
      "2020-06-18 14:16:32,932 - june.groups.carehome - INFO - There are 9 care_homes in this geography.\n",
      "2020-06-18 14:16:42,797 - june.distributors.worker_distributor - INFO - There are 0 who had to be told to stay real\n",
      "CPU times: user 38.3 s, sys: 1 s, total: 39.3 s\n",
      "Wall time: 39.6 s\n"
     ]
    }
   ],
   "source": [
    "%%time \n",
    "\n",
    "geography = Geography.from_file(\n",
    "        {\n",
    "            \"super_area\": [\n",
    "                \"E02003282\",\n",
    "                \"E02001720\",\n",
    "                \"E00088544\",\n",
    "                \"E02002560\",\n",
    "                \"E02002559\",\n",
    "                \"E02004314\",\n",
    "            ]\n",
    "        }\n",
    ")\n",
    "\n",
    "geography.hospitals = Hospitals.for_geography(geography)\n",
    "geography.schools = Schools.for_geography(geography)\n",
    "geography.companies = Companies.for_geography(geography)\n",
    "geography.care_homes = CareHomes.for_geography(geography)\n",
    "geography.universities = Universities.for_super_areas(geography.super_areas)\n",
    "world = generate_world_from_geography(geography, include_households=True, include_commute=True)\n"
   ]
  },
  {
   "cell_type": "markdown",
   "metadata": {},
   "source": [
    "### If it took a long time to run the previous command, it might be a good idea to save the world to reuse it later."
   ]
  },
  {
   "cell_type": "code",
   "execution_count": 5,
   "metadata": {},
   "outputs": [],
   "source": [
    "world.to_hdf5(\"world.hdf5\")"
   ]
  },
  {
   "cell_type": "markdown",
   "metadata": {},
   "source": [
    "If we would like to load the world we saved, we just do"
   ]
  },
  {
   "cell_type": "code",
   "execution_count": 6,
   "metadata": {},
   "outputs": [
    {
     "name": "stdout",
     "output_type": "stream",
     "text": [
      "Loaded chunk 0 of 1\n",
      "Loaded chunk 0 of 1\n"
     ]
    },
    {
     "name": "stderr",
     "output_type": "stream",
     "text": [
      "100%|██████████| 46784/46784 [00:00<00:00, 71102.60it/s]\n"
     ]
    }
   ],
   "source": [
    "world = generate_world_from_hdf5(\"world.hdf5\")"
   ]
  },
  {
   "cell_type": "markdown",
   "metadata": {},
   "source": [
    "you have now a beautiful pre-pandemic world. "
   ]
  },
  {
   "cell_type": "markdown",
   "metadata": {},
   "source": [
    "## Commute, travel and leisure"
   ]
  },
  {
   "cell_type": "markdown",
   "metadata": {},
   "source": [
    "We can add cinemas, pubs, groceries, etc. as well as commute in major cities with"
   ]
  },
  {
   "cell_type": "code",
   "execution_count": 7,
   "metadata": {},
   "outputs": [],
   "source": [
    "# leisure\n",
    "world.cinemas = Cinemas.for_geography(geography)\n",
    "world.pubs = Pubs.for_geography(geography)\n",
    "world.groceries = Groceries.for_super_areas(world.super_areas,\n",
    "                                            venues_per_capita=1/500)"
   ]
  },
  {
   "cell_type": "code",
   "execution_count": 8,
   "metadata": {},
   "outputs": [],
   "source": [
    "# commute\n",
    "#world.initialise_commuting()"
   ]
  },
  {
   "cell_type": "markdown",
   "metadata": {},
   "source": [
    "We are also going to need some cemeteries...geography.cemeteries = Cemeteries()\n"
   ]
  },
  {
   "cell_type": "code",
   "execution_count": 9,
   "metadata": {},
   "outputs": [],
   "source": [
    "world.cemeteries = Cemeteries()"
   ]
  },
  {
   "cell_type": "markdown",
   "metadata": {},
   "source": [
    "# Adding the infection"
   ]
  },
  {
   "cell_type": "markdown",
   "metadata": {},
   "source": [
    "Now, you can play around with different models of infections. The building blocks for an infection are: Transmission and Symptoms. For now, only SymptomsConstant and TransmissionConstant are in a state to be used."
   ]
  },
  {
   "cell_type": "code",
   "execution_count": 10,
   "metadata": {},
   "outputs": [],
   "source": [
    "selector = InfectionSelector.from_file()"
   ]
  },
  {
   "cell_type": "code",
   "execution_count": 11,
   "metadata": {},
   "outputs": [
    {
     "data": {
      "text/plain": [
       "<june.infection.infection.InfectionSelector at 0x7f49443c16d0>"
      ]
     },
     "execution_count": 11,
     "metadata": {},
     "output_type": "execute_result"
    }
   ],
   "source": [
    "selector"
   ]
  },
  {
   "cell_type": "markdown",
   "metadata": {},
   "source": [
    "# Adding the interaction"
   ]
  },
  {
   "cell_type": "code",
   "execution_count": 12,
   "metadata": {},
   "outputs": [],
   "source": [
    "interaction = ContactAveraging.from_file(selector=selector)\n",
    "#interaction = DefaultInteraction.from_file(selector=selector)"
   ]
  },
  {
   "cell_type": "markdown",
   "metadata": {},
   "source": [
    "Beta are the intensities of the interaction taking place at the different groups"
   ]
  },
  {
   "cell_type": "code",
   "execution_count": 13,
   "metadata": {},
   "outputs": [
    {
     "data": {
      "text/plain": [
       "{'box': 1,\n",
       " 'pub': 1,\n",
       " 'grocery': 1,\n",
       " 'cinema': 1,\n",
       " 'commute_unit': 1.0,\n",
       " 'commute_city_unit': 1.0,\n",
       " 'hospital': 1.0,\n",
       " 'care_home': 1.0,\n",
       " 'company': 1.0,\n",
       " 'school': 1.0,\n",
       " 'household': 1.0,\n",
       " 'university': 1.0}"
      ]
     },
     "execution_count": 13,
     "metadata": {},
     "output_type": "execute_result"
    }
   ],
   "source": [
    "interaction.beta"
   ]
  },
  {
   "cell_type": "markdown",
   "metadata": {},
   "source": [
    "to modify these, simply do"
   ]
  },
  {
   "cell_type": "code",
   "execution_count": 14,
   "metadata": {},
   "outputs": [],
   "source": [
    "interaction.beta['household'] *= 2"
   ]
  },
  {
   "cell_type": "code",
   "execution_count": 15,
   "metadata": {},
   "outputs": [
    {
     "data": {
      "text/plain": [
       "{'box': 1,\n",
       " 'pub': 1,\n",
       " 'grocery': 1,\n",
       " 'cinema': 1,\n",
       " 'commute_unit': 1.0,\n",
       " 'commute_city_unit': 1.0,\n",
       " 'hospital': 1.0,\n",
       " 'care_home': 1.0,\n",
       " 'company': 1.0,\n",
       " 'school': 1.0,\n",
       " 'household': 2.0,\n",
       " 'university': 1.0}"
      ]
     },
     "execution_count": 15,
     "metadata": {},
     "output_type": "execute_result"
    }
   ],
   "source": [
    "interaction.beta"
   ]
  },
  {
   "cell_type": "markdown",
   "metadata": {},
   "source": [
    "moreover this interaction module uses contact matrices, that are different for different groups. These contact matrices shouldnt be modified for now. However they are a combination of conversational contact matrices, and physical contact matrices (see the BBC pandemic paper, from where these matrices are extracted https://www.medrxiv.org/content/10.1101/2020.02.16.20023754v2)\n",
    "\n",
    "There is a parameter, ``alpha`` ($\\alpha$), that combines these two matrices in the following way,\n",
    "\n",
    "\n",
    "$\\beta M \\left(1 + (\\alpha -1) \\right) P$\n",
    "\n",
    "where $\\beta$ is the intensity of the interaction, and $P$ the physical contact matrix. A larger $\\alpha$ produces more physical contacts. It is an overall number, non dependent of the particular group.\n"
   ]
  },
  {
   "cell_type": "code",
   "execution_count": 16,
   "metadata": {},
   "outputs": [
    {
     "data": {
      "text/plain": [
       "2.0"
      ]
     },
     "execution_count": 16,
     "metadata": {},
     "output_type": "execute_result"
    }
   ],
   "source": [
    "interaction.alpha_physical"
   ]
  },
  {
   "cell_type": "code",
   "execution_count": 17,
   "metadata": {},
   "outputs": [],
   "source": [
    "interaction.alpha_physical /= 2"
   ]
  },
  {
   "cell_type": "code",
   "execution_count": 18,
   "metadata": {},
   "outputs": [
    {
     "data": {
      "text/plain": [
       "1.0"
      ]
     },
     "execution_count": 18,
     "metadata": {},
     "output_type": "execute_result"
    }
   ],
   "source": [
    "interaction.alpha_physical"
   ]
  },
  {
   "cell_type": "markdown",
   "metadata": {},
   "source": [
    "# Seed the disease"
   ]
  },
  {
   "cell_type": "markdown",
   "metadata": {},
   "source": [
    "There are two options implemented in the seed at the moment, either you specify the number of cases and these are then homogeneously distributed by population to the different areas, or you use UK data on cases per region. For now use the first case."
   ]
  },
  {
   "cell_type": "code",
   "execution_count": 19,
   "metadata": {},
   "outputs": [],
   "source": [
    "seed = Seed(world.super_areas, selector,)"
   ]
  },
  {
   "cell_type": "code",
   "execution_count": 20,
   "metadata": {},
   "outputs": [],
   "source": [
    "n_cases = 50\n",
    "seed.unleash_virus(n_cases) # play around with the initial number of cases"
   ]
  },
  {
   "cell_type": "markdown",
   "metadata": {},
   "source": [
    "# Set policies"
   ]
  },
  {
   "cell_type": "code",
   "execution_count": 21,
   "metadata": {},
   "outputs": [],
   "source": [
    "social_distance = Policy(policy=\"social_distance\",\n",
    "                         start_time=datetime(2020, 3, 25), \n",
    "                         end_time=datetime(2020, 4, 1))"
   ]
  },
  {
   "cell_type": "code",
   "execution_count": 22,
   "metadata": {},
   "outputs": [],
   "source": [
    "policies = Policies.from_file([social_distance])"
   ]
  },
  {
   "cell_type": "code",
   "execution_count": 23,
   "metadata": {},
   "outputs": [
    {
     "data": {
      "text/plain": [
       "{'alpha factor': 1.0,\n",
       " 'beta factor': {'box': 0.5,\n",
       "  'pub': 0.5,\n",
       "  'grocery': 0.5,\n",
       "  'cinema': 0.5,\n",
       "  'commute_unit': 0.5,\n",
       "  'commute_city_unit': 0.5,\n",
       "  'hospital': 0.5,\n",
       "  'care_home': 0.5,\n",
       "  'company': 0.5,\n",
       "  'school': 0.5,\n",
       "  'household': 1.0,\n",
       "  'university': 0.5}}"
      ]
     },
     "execution_count": 23,
     "metadata": {},
     "output_type": "execute_result"
    }
   ],
   "source": [
    "policies.config['social distancing']"
   ]
  },
  {
   "cell_type": "markdown",
   "metadata": {},
   "source": [
    "# Run the simulation"
   ]
  },
  {
   "cell_type": "markdown",
   "metadata": {},
   "source": [
    "Since the timer configuration is a bit cumbersome, it is read from the config file at ``configs/config_example.yaml``"
   ]
  },
  {
   "cell_type": "code",
   "execution_count": 24,
   "metadata": {},
   "outputs": [],
   "source": [
    "CONFIG_PATH = \"../configs/config_example.yaml\"\n",
    "\n",
    "leisure_instance = leisure.generate_leisure_for_config(\n",
    "world=world, config_filename = CONFIG_PATH\n",
    ")\n",
    "simulator = Simulator.from_file(\n",
    "     world, interaction, selector, \n",
    "    config_filename = CONFIG_PATH,\n",
    "    leisure = leisure_instance,\n",
    "    policies = policies\n",
    ")"
   ]
  },
  {
   "cell_type": "code",
   "execution_count": 25,
   "metadata": {
    "scrolled": true
   },
   "outputs": [
    {
     "name": "stdout",
     "output_type": "stream",
     "text": [
      "2020-06-18 14:17:18,706 - june.simulator - INFO - Starting group_dynamics for 70 days at day 0\n",
      "2020-06-18 14:17:18,708 - june.simulator - INFO - starting the loop ..., at 0 days, to run for 70 days\n",
      "2020-06-18 14:17:23,801 - june.simulator - INFO - Date = 2020-03-07 03:00:00, number of deaths =  0, number of infected = 50\n",
      "2020-06-18 14:17:28,112 - june.simulator - INFO - Date = 2020-03-07 06:00:00, number of deaths =  0, number of infected = 50\n",
      "2020-06-18 14:17:28,820 - june.simulator - INFO - Date = 2020-03-07 09:00:00, number of deaths =  0, number of infected = 50\n",
      "2020-06-18 14:17:32,164 - june.simulator - INFO - Date = 2020-03-08 00:00:00, number of deaths =  0, number of infected = 50\n",
      "2020-06-18 14:17:35,879 - june.simulator - INFO - Date = 2020-03-08 03:00:00, number of deaths =  0, number of infected = 50\n",
      "2020-06-18 14:17:39,585 - june.simulator - INFO - Date = 2020-03-08 06:00:00, number of deaths =  0, number of infected = 50\n",
      "2020-06-18 14:17:40,300 - june.simulator - INFO - Date = 2020-03-08 09:00:00, number of deaths =  0, number of infected = 50\n",
      "2020-06-18 14:17:41,075 - june.simulator - INFO - Date = 2020-03-09 00:00:00, number of deaths =  0, number of infected = 50\n",
      "2020-06-18 14:17:41,819 - june.simulator - INFO - Date = 2020-03-09 01:00:00, number of deaths =  0, number of infected = 50\n",
      "2020-06-18 14:17:42,422 - june.simulator - INFO - Date = 2020-03-09 09:00:00, number of deaths =  0, number of infected = 50\n",
      "2020-06-18 14:17:45,924 - june.simulator - INFO - Date = 2020-03-09 10:00:00, number of deaths =  0, number of infected = 50\n",
      "2020-06-18 14:17:46,545 - june.simulator - INFO - Date = 2020-03-09 13:00:00, number of deaths =  0, number of infected = 50\n",
      "2020-06-18 14:17:47,183 - june.simulator - INFO - Date = 2020-03-10 00:00:00, number of deaths =  0, number of infected = 50\n",
      "2020-06-18 14:17:47,831 - june.simulator - INFO - Date = 2020-03-10 01:00:00, number of deaths =  0, number of infected = 50\n",
      "2020-06-18 14:17:48,473 - june.simulator - INFO - Date = 2020-03-10 09:00:00, number of deaths =  0, number of infected = 50\n",
      "2020-06-18 14:17:52,018 - june.simulator - INFO - Date = 2020-03-10 10:00:00, number of deaths =  0, number of infected = 50\n",
      "2020-06-18 14:17:52,758 - june.simulator - INFO - Date = 2020-03-10 13:00:00, number of deaths =  0, number of infected = 50\n",
      "2020-06-18 14:17:53,527 - june.simulator - INFO - Date = 2020-03-11 00:00:00, number of deaths =  0, number of infected = 50\n",
      "2020-06-18 14:17:54,209 - june.simulator - INFO - Date = 2020-03-11 01:00:00, number of deaths =  0, number of infected = 55\n",
      "2020-06-18 14:17:54,730 - june.simulator - INFO - Date = 2020-03-11 09:00:00, number of deaths =  0, number of infected = 106\n",
      "2020-06-18 14:17:58,243 - june.simulator - INFO - Date = 2020-03-11 10:00:00, number of deaths =  0, number of infected = 110\n",
      "2020-06-18 14:17:58,978 - june.simulator - INFO - Date = 2020-03-11 13:00:00, number of deaths =  0, number of infected = 120\n",
      "2020-06-18 14:17:59,761 - june.simulator - INFO - Date = 2020-03-12 00:00:00, number of deaths =  0, number of infected = 155\n",
      "2020-06-18 14:18:00,496 - june.simulator - INFO - Date = 2020-03-12 01:00:00, number of deaths =  0, number of infected = 158\n",
      "2020-06-18 14:18:01,188 - june.simulator - INFO - Date = 2020-03-12 09:00:00, number of deaths =  0, number of infected = 468\n",
      "2020-06-18 14:18:04,719 - june.simulator - INFO - Date = 2020-03-12 10:00:00, number of deaths =  0, number of infected = 470\n",
      "2020-06-18 14:18:05,512 - june.simulator - INFO - Date = 2020-03-12 13:00:00, number of deaths =  0, number of infected = 475\n",
      "2020-06-18 14:18:06,426 - june.simulator - INFO - Date = 2020-03-13 00:00:00, number of deaths =  0, number of infected = 502\n",
      "2020-06-18 14:18:07,203 - june.simulator - INFO - Date = 2020-03-13 01:00:00, number of deaths =  0, number of infected = 505\n",
      "2020-06-18 14:18:07,874 - june.simulator - INFO - Date = 2020-03-13 09:00:00, number of deaths =  0, number of infected = 670\n",
      "2020-06-18 14:18:11,533 - june.simulator - INFO - Date = 2020-03-13 10:00:00, number of deaths =  0, number of infected = 674\n",
      "2020-06-18 14:18:12,229 - june.simulator - INFO - Date = 2020-03-13 13:00:00, number of deaths =  0, number of infected = 679\n",
      "2020-06-18 14:18:16,010 - june.simulator - INFO - Date = 2020-03-14 00:00:00, number of deaths =  0, number of infected = 698\n",
      "2020-06-18 14:18:19,495 - june.simulator - INFO - Date = 2020-03-14 03:00:00, number of deaths =  0, number of infected = 708\n",
      "2020-06-18 14:18:23,117 - june.simulator - INFO - Date = 2020-03-14 06:00:00, number of deaths =  0, number of infected = 724\n",
      "2020-06-18 14:18:23,899 - june.simulator - INFO - Date = 2020-03-14 09:00:00, number of deaths =  0, number of infected = 732\n",
      "2020-06-18 14:18:27,031 - june.simulator - INFO - Date = 2020-03-15 00:00:00, number of deaths =  0, number of infected = 808\n",
      "2020-06-18 14:18:29,664 - june.simulator - INFO - Date = 2020-03-15 03:00:00, number of deaths =  0, number of infected = 862\n",
      "2020-06-18 14:18:32,322 - june.simulator - INFO - Date = 2020-03-15 06:00:00, number of deaths =  0, number of infected = 930\n",
      "2020-06-18 14:18:32,840 - june.simulator - INFO - Date = 2020-03-15 09:00:00, number of deaths =  0, number of infected = 1006\n",
      "2020-06-18 14:18:33,451 - june.simulator - INFO - Date = 2020-03-16 00:00:00, number of deaths =  0, number of infected = 1288\n",
      "2020-06-18 14:18:34,014 - june.simulator - INFO - Date = 2020-03-16 01:00:00, number of deaths =  0, number of infected = 1323\n",
      "2020-06-18 14:18:34,573 - june.simulator - INFO - Date = 2020-03-16 09:00:00, number of deaths =  0, number of infected = 1788\n",
      "2020-06-18 14:18:37,087 - june.simulator - INFO - Date = 2020-03-16 10:00:00, number of deaths =  0, number of infected = 1835\n",
      "2020-06-18 14:18:37,605 - june.simulator - INFO - Date = 2020-03-16 13:00:00, number of deaths =  0, number of infected = 1931\n",
      "2020-06-18 14:18:38,155 - june.simulator - INFO - Date = 2020-03-17 00:00:00, number of deaths =  0, number of infected = 2199\n",
      "2020-06-18 14:18:38,706 - june.simulator - INFO - Date = 2020-03-17 01:00:00, number of deaths =  0, number of infected = 2230\n",
      "2020-06-18 14:18:39,387 - june.simulator - INFO - Date = 2020-03-17 09:00:00, number of deaths =  0, number of infected = 2765\n",
      "2020-06-18 14:18:42,285 - june.simulator - INFO - Date = 2020-03-17 10:00:00, number of deaths =  0, number of infected = 2797\n",
      "2020-06-18 14:18:42,862 - june.simulator - INFO - Date = 2020-03-17 13:00:00, number of deaths =  0, number of infected = 2888\n",
      "2020-06-18 14:18:43,498 - june.simulator - INFO - Date = 2020-03-18 00:00:00, number of deaths =  0, number of infected = 3104\n",
      "2020-06-18 14:18:44,118 - june.simulator - INFO - Date = 2020-03-18 01:00:00, number of deaths =  0, number of infected = 3124\n",
      "2020-06-18 14:18:45,178 - june.simulator - INFO - Date = 2020-03-18 09:00:00, number of deaths =  0, number of infected = 3866\n",
      "2020-06-18 14:18:48,386 - june.simulator - INFO - Date = 2020-03-18 10:00:00, number of deaths =  0, number of infected = 3884\n",
      "2020-06-18 14:18:49,236 - june.simulator - INFO - Date = 2020-03-18 13:00:00, number of deaths =  0, number of infected = 3960\n",
      "2020-06-18 14:18:50,283 - june.simulator - INFO - Date = 2020-03-19 00:00:00, number of deaths =  0, number of infected = 4114\n",
      "2020-06-18 14:18:51,139 - june.simulator - INFO - Date = 2020-03-19 01:00:00, number of deaths =  0, number of infected = 4147\n",
      "2020-06-18 14:18:53,163 - june.simulator - INFO - Date = 2020-03-19 09:00:00, number of deaths =  0, number of infected = 5417\n",
      "2020-06-18 14:18:56,941 - june.simulator - INFO - Date = 2020-03-19 10:00:00, number of deaths =  0, number of infected = 5468\n",
      "2020-06-18 14:18:57,791 - june.simulator - INFO - Date = 2020-03-19 13:00:00, number of deaths =  0, number of infected = 5605\n",
      "2020-06-18 14:18:58,758 - june.simulator - INFO - Date = 2020-03-20 00:00:00, number of deaths =  0, number of infected = 6090\n",
      "2020-06-18 14:18:59,625 - june.simulator - INFO - Date = 2020-03-20 01:00:00, number of deaths =  0, number of infected = 6161\n",
      "2020-06-18 14:19:03,707 - june.simulator - INFO - Date = 2020-03-20 09:00:00, number of deaths =  0, number of infected = 8242\n",
      "2020-06-18 14:19:07,496 - june.simulator - INFO - Date = 2020-03-20 10:00:00, number of deaths =  0, number of infected = 8322\n",
      "2020-06-18 14:19:08,482 - june.simulator - INFO - Date = 2020-03-20 13:00:00, number of deaths =  0, number of infected = 8536\n",
      "2020-06-18 14:19:12,901 - june.simulator - INFO - Date = 2020-03-21 00:00:00, number of deaths =  0, number of infected = 9271\n",
      "2020-06-18 14:19:16,970 - june.simulator - INFO - Date = 2020-03-21 03:00:00, number of deaths =  0, number of infected = 9524\n",
      "2020-06-18 14:19:21,025 - june.simulator - INFO - Date = 2020-03-21 06:00:00, number of deaths =  0, number of infected = 9814\n",
      "2020-06-18 14:19:21,960 - june.simulator - INFO - Date = 2020-03-21 09:00:00, number of deaths =  0, number of infected = 10090\n",
      "2020-06-18 14:19:26,206 - june.simulator - INFO - Date = 2020-03-22 00:00:00, number of deaths =  1, number of infected = 11192\n",
      "2020-06-18 14:19:30,253 - june.simulator - INFO - Date = 2020-03-22 03:00:00, number of deaths =  1, number of infected = 11588\n",
      "2020-06-18 14:19:34,400 - june.simulator - INFO - Date = 2020-03-22 06:00:00, number of deaths =  1, number of infected = 11923\n",
      "2020-06-18 14:19:35,634 - june.simulator - INFO - Date = 2020-03-22 09:00:00, number of deaths =  1, number of infected = 12297\n",
      "2020-06-18 14:19:36,947 - june.simulator - INFO - Date = 2020-03-23 00:00:00, number of deaths =  1, number of infected = 13806\n",
      "2020-06-18 14:19:37,952 - june.simulator - INFO - Date = 2020-03-23 01:00:00, number of deaths =  1, number of infected = 13973\n",
      "2020-06-18 14:19:55,035 - june.simulator - INFO - Date = 2020-03-23 09:00:00, number of deaths =  1, number of infected = 19158\n",
      "2020-06-18 14:19:58,744 - june.simulator - INFO - Date = 2020-03-23 10:00:00, number of deaths =  1, number of infected = 19320\n",
      "2020-06-18 14:19:59,884 - june.simulator - INFO - Date = 2020-03-23 13:00:00, number of deaths =  1, number of infected = 19842\n",
      "2020-06-18 14:20:01,001 - june.simulator - INFO - Date = 2020-03-24 00:00:00, number of deaths =  2, number of infected = 21261\n",
      "2020-06-18 14:20:01,694 - june.simulator - INFO - Date = 2020-03-24 01:00:00, number of deaths =  2, number of infected = 21381\n",
      "2020-06-18 14:20:18,879 - june.simulator - INFO - Date = 2020-03-24 09:00:00, number of deaths =  2, number of infected = 25178\n",
      "2020-06-18 14:20:22,089 - june.simulator - INFO - Date = 2020-03-24 10:00:00, number of deaths =  2, number of infected = 25262\n",
      "2020-06-18 14:20:23,151 - june.simulator - INFO - Date = 2020-03-24 13:00:00, number of deaths =  2, number of infected = 25583\n",
      "2020-06-18 14:20:24,405 - june.simulator - INFO - Date = 2020-03-25 00:00:00, number of deaths =  2, number of infected = 26239\n",
      "2020-06-18 14:20:25,444 - june.simulator - INFO - Date = 2020-03-25 01:00:00, number of deaths =  2, number of infected = 26277\n",
      "2020-06-18 14:20:33,112 - june.simulator - INFO - Date = 2020-03-25 09:00:00, number of deaths =  2, number of infected = 27808\n",
      "2020-06-18 14:20:36,750 - june.simulator - INFO - Date = 2020-03-25 10:00:00, number of deaths =  2, number of infected = 27850\n",
      "2020-06-18 14:20:37,800 - june.simulator - INFO - Date = 2020-03-25 13:00:00, number of deaths =  3, number of infected = 28031\n",
      "2020-06-18 14:20:38,926 - june.simulator - INFO - Date = 2020-03-26 00:00:00, number of deaths =  3, number of infected = 28307\n",
      "2020-06-18 14:20:39,948 - june.simulator - INFO - Date = 2020-03-26 01:00:00, number of deaths =  3, number of infected = 28423\n",
      "2020-06-18 14:20:45,766 - june.simulator - INFO - Date = 2020-03-26 09:00:00, number of deaths =  3, number of infected = 29970\n",
      "2020-06-18 14:20:48,282 - june.simulator - INFO - Date = 2020-03-26 10:00:00, number of deaths =  3, number of infected = 30109\n",
      "2020-06-18 14:20:49,114 - june.simulator - INFO - Date = 2020-03-26 13:00:00, number of deaths =  3, number of infected = 30539\n",
      "2020-06-18 14:20:50,107 - june.simulator - INFO - Date = 2020-03-27 00:00:00, number of deaths =  3, number of infected = 31716\n",
      "2020-06-18 14:20:50,877 - june.simulator - INFO - Date = 2020-03-27 01:00:00, number of deaths =  3, number of infected = 31843\n",
      "2020-06-18 14:20:53,447 - june.simulator - INFO - Date = 2020-03-27 09:00:00, number of deaths =  5, number of infected = 33099\n",
      "2020-06-18 14:20:56,380 - june.simulator - INFO - Date = 2020-03-27 10:00:00, number of deaths =  5, number of infected = 33242\n",
      "2020-06-18 14:20:57,260 - june.simulator - INFO - Date = 2020-03-27 13:00:00, number of deaths =  6, number of infected = 33656\n",
      "2020-06-18 14:21:00,325 - june.simulator - INFO - Date = 2020-03-28 00:00:00, number of deaths =  7, number of infected = 34538\n",
      "2020-06-18 14:21:02,815 - june.simulator - INFO - Date = 2020-03-28 03:00:00, number of deaths =  7, number of infected = 34824\n",
      "2020-06-18 14:21:05,404 - june.simulator - INFO - Date = 2020-03-28 06:00:00, number of deaths =  7, number of infected = 35126\n",
      "2020-06-18 14:21:06,272 - june.simulator - INFO - Date = 2020-03-28 09:00:00, number of deaths =  8, number of infected = 35421\n",
      "2020-06-18 14:21:09,308 - june.simulator - INFO - Date = 2020-03-29 00:00:00, number of deaths =  9, number of infected = 35982\n",
      "2020-06-18 14:21:12,037 - june.simulator - INFO - Date = 2020-03-29 03:00:00, number of deaths =  9, number of infected = 36238\n",
      "2020-06-18 14:21:14,808 - june.simulator - INFO - Date = 2020-03-29 06:00:00, number of deaths =  9, number of infected = 36461\n",
      "2020-06-18 14:21:15,591 - june.simulator - INFO - Date = 2020-03-29 09:00:00, number of deaths =  10, number of infected = 36691\n",
      "2020-06-18 14:21:16,824 - june.simulator - INFO - Date = 2020-03-30 00:00:00, number of deaths =  13, number of infected = 37080\n",
      "2020-06-18 14:21:17,636 - june.simulator - INFO - Date = 2020-03-30 01:00:00, number of deaths =  13, number of infected = 37115\n",
      "2020-06-18 14:21:18,837 - june.simulator - INFO - Date = 2020-03-30 09:00:00, number of deaths =  13, number of infected = 38015\n",
      "2020-06-18 14:21:21,362 - june.simulator - INFO - Date = 2020-03-30 10:00:00, number of deaths =  13, number of infected = 38065\n",
      "2020-06-18 14:21:22,212 - june.simulator - INFO - Date = 2020-03-30 13:00:00, number of deaths =  14, number of infected = 38260\n",
      "2020-06-18 14:21:23,066 - june.simulator - INFO - Date = 2020-03-31 00:00:00, number of deaths =  15, number of infected = 38520\n",
      "2020-06-18 14:21:23,823 - june.simulator - INFO - Date = 2020-03-31 01:00:00, number of deaths =  15, number of infected = 38543\n",
      "2020-06-18 14:21:24,828 - june.simulator - INFO - Date = 2020-03-31 09:00:00, number of deaths =  15, number of infected = 39231\n",
      "2020-06-18 14:21:26,861 - june.simulator - INFO - Date = 2020-03-31 10:00:00, number of deaths =  15, number of infected = 39251\n",
      "2020-06-18 14:21:27,659 - june.simulator - INFO - Date = 2020-03-31 13:00:00, number of deaths =  15, number of infected = 39409\n",
      "2020-06-18 14:21:28,504 - june.simulator - INFO - Date = 2020-04-01 00:00:00, number of deaths =  16, number of infected = 39497\n",
      "2020-06-18 14:21:29,303 - june.simulator - INFO - Date = 2020-04-01 01:00:00, number of deaths =  16, number of infected = 39502\n",
      "2020-06-18 14:21:30,233 - june.simulator - INFO - Date = 2020-04-01 09:00:00, number of deaths =  16, number of infected = 40256\n",
      "2020-06-18 14:21:32,350 - june.simulator - INFO - Date = 2020-04-01 10:00:00, number of deaths =  16, number of infected = 40257\n",
      "2020-06-18 14:21:33,135 - june.simulator - INFO - Date = 2020-04-01 13:00:00, number of deaths =  17, number of infected = 40383\n",
      "2020-06-18 14:21:34,028 - june.simulator - INFO - Date = 2020-04-02 00:00:00, number of deaths =  20, number of infected = 40358\n",
      "2020-06-18 14:21:34,786 - june.simulator - INFO - Date = 2020-04-02 01:00:00, number of deaths =  21, number of infected = 40370\n",
      "2020-06-18 14:21:35,749 - june.simulator - INFO - Date = 2020-04-02 09:00:00, number of deaths =  23, number of infected = 40734\n",
      "2020-06-18 14:21:38,131 - june.simulator - INFO - Date = 2020-04-02 10:00:00, number of deaths =  24, number of infected = 40759\n",
      "2020-06-18 14:21:39,018 - june.simulator - INFO - Date = 2020-04-02 13:00:00, number of deaths =  25, number of infected = 40896\n",
      "2020-06-18 14:21:39,938 - june.simulator - INFO - Date = 2020-04-03 00:00:00, number of deaths =  27, number of infected = 40893\n",
      "2020-06-18 14:21:40,894 - june.simulator - INFO - Date = 2020-04-03 01:00:00, number of deaths =  27, number of infected = 40896\n",
      "2020-06-18 14:21:42,062 - june.simulator - INFO - Date = 2020-04-03 09:00:00, number of deaths =  29, number of infected = 41003\n",
      "2020-06-18 14:21:44,951 - june.simulator - INFO - Date = 2020-04-03 10:00:00, number of deaths =  29, number of infected = 41017\n",
      "2020-06-18 14:21:46,090 - june.simulator - INFO - Date = 2020-04-03 13:00:00, number of deaths =  29, number of infected = 41135\n",
      "2020-06-18 14:21:49,298 - june.simulator - INFO - Date = 2020-04-04 00:00:00, number of deaths =  30, number of infected = 41075\n",
      "2020-06-18 14:21:54,313 - june.simulator - INFO - Date = 2020-04-04 03:00:00, number of deaths =  31, number of infected = 41143\n",
      "2020-06-18 14:21:57,774 - june.simulator - INFO - Date = 2020-04-04 06:00:00, number of deaths =  32, number of infected = 41220\n",
      "2020-06-18 14:21:58,869 - june.simulator - INFO - Date = 2020-04-04 09:00:00, number of deaths =  32, number of infected = 41261\n",
      "2020-06-18 14:22:02,036 - june.simulator - INFO - Date = 2020-04-05 00:00:00, number of deaths =  38, number of infected = 41045\n",
      "2020-06-18 14:22:04,960 - june.simulator - INFO - Date = 2020-04-05 03:00:00, number of deaths =  38, number of infected = 41069\n",
      "2020-06-18 14:22:08,073 - june.simulator - INFO - Date = 2020-04-05 06:00:00, number of deaths =  39, number of infected = 41116\n",
      "2020-06-18 14:22:09,228 - june.simulator - INFO - Date = 2020-04-05 09:00:00, number of deaths =  39, number of infected = 41152\n",
      "2020-06-18 14:22:10,347 - june.simulator - INFO - Date = 2020-04-06 00:00:00, number of deaths =  43, number of infected = 40839\n",
      "2020-06-18 14:22:11,433 - june.simulator - INFO - Date = 2020-04-06 01:00:00, number of deaths =  43, number of infected = 40829\n",
      "2020-06-18 14:22:12,603 - june.simulator - INFO - Date = 2020-04-06 09:00:00, number of deaths =  45, number of infected = 40610\n",
      "2020-06-18 14:22:15,284 - june.simulator - INFO - Date = 2020-04-06 10:00:00, number of deaths =  45, number of infected = 40591\n",
      "2020-06-18 14:22:16,392 - june.simulator - INFO - Date = 2020-04-06 13:00:00, number of deaths =  45, number of infected = 40608\n",
      "2020-06-18 14:22:17,499 - june.simulator - INFO - Date = 2020-04-07 00:00:00, number of deaths =  51, number of infected = 40203\n",
      "2020-06-18 14:22:18,535 - june.simulator - INFO - Date = 2020-04-07 01:00:00, number of deaths =  51, number of infected = 40172\n",
      "2020-06-18 14:22:19,716 - june.simulator - INFO - Date = 2020-04-07 09:00:00, number of deaths =  52, number of infected = 39809\n",
      "2020-06-18 14:22:22,331 - june.simulator - INFO - Date = 2020-04-07 10:00:00, number of deaths =  52, number of infected = 39767\n",
      "2020-06-18 14:22:23,388 - june.simulator - INFO - Date = 2020-04-07 13:00:00, number of deaths =  52, number of infected = 39703\n",
      "2020-06-18 14:22:24,488 - june.simulator - INFO - Date = 2020-04-08 00:00:00, number of deaths =  59, number of infected = 39133\n",
      "2020-06-18 14:22:25,522 - june.simulator - INFO - Date = 2020-04-08 01:00:00, number of deaths =  59, number of infected = 39079\n",
      "2020-06-18 14:22:26,590 - june.simulator - INFO - Date = 2020-04-08 09:00:00, number of deaths =  63, number of infected = 38556\n",
      "2020-06-18 14:22:29,325 - june.simulator - INFO - Date = 2020-04-08 10:00:00, number of deaths =  63, number of infected = 38494\n",
      "2020-06-18 14:22:30,489 - june.simulator - INFO - Date = 2020-04-08 13:00:00, number of deaths =  66, number of infected = 38353\n",
      "2020-06-18 14:22:31,643 - june.simulator - INFO - Date = 2020-04-09 00:00:00, number of deaths =  69, number of infected = 37606\n",
      "2020-06-18 14:22:32,715 - june.simulator - INFO - Date = 2020-04-09 01:00:00, number of deaths =  69, number of infected = 37515\n",
      "2020-06-18 14:22:33,817 - june.simulator - INFO - Date = 2020-04-09 09:00:00, number of deaths =  72, number of infected = 36957\n",
      "2020-06-18 14:22:36,422 - june.simulator - INFO - Date = 2020-04-09 10:00:00, number of deaths =  73, number of infected = 36897\n",
      "2020-06-18 14:22:37,447 - june.simulator - INFO - Date = 2020-04-09 13:00:00, number of deaths =  73, number of infected = 36746\n",
      "2020-06-18 14:22:38,547 - june.simulator - INFO - Date = 2020-04-10 00:00:00, number of deaths =  78, number of infected = 36004\n",
      "2020-06-18 14:22:39,785 - june.simulator - INFO - Date = 2020-04-10 01:00:00, number of deaths =  78, number of infected = 35939\n",
      "2020-06-18 14:22:41,079 - june.simulator - INFO - Date = 2020-04-10 09:00:00, number of deaths =  80, number of infected = 35320\n",
      "2020-06-18 14:22:44,515 - june.simulator - INFO - Date = 2020-04-10 10:00:00, number of deaths =  80, number of infected = 35243\n",
      "2020-06-18 14:22:45,539 - june.simulator - INFO - Date = 2020-04-10 13:00:00, number of deaths =  80, number of infected = 35044\n",
      "2020-06-18 14:22:48,532 - june.simulator - INFO - Date = 2020-04-11 00:00:00, number of deaths =  86, number of infected = 34131\n",
      "2020-06-18 14:22:51,602 - june.simulator - INFO - Date = 2020-04-11 03:00:00, number of deaths =  87, number of infected = 33918\n",
      "2020-06-18 14:22:54,504 - june.simulator - INFO - Date = 2020-04-11 06:00:00, number of deaths =  88, number of infected = 33694\n",
      "2020-06-18 14:22:55,569 - june.simulator - INFO - Date = 2020-04-11 09:00:00, number of deaths =  90, number of infected = 33487\n",
      "2020-06-18 14:22:58,410 - june.simulator - INFO - Date = 2020-04-12 00:00:00, number of deaths =  98, number of infected = 32232\n",
      "2020-06-18 14:23:01,087 - june.simulator - INFO - Date = 2020-04-12 03:00:00, number of deaths =  100, number of infected = 32008\n",
      "2020-06-18 14:23:03,932 - june.simulator - INFO - Date = 2020-04-12 06:00:00, number of deaths =  102, number of infected = 31789\n",
      "2020-06-18 14:23:04,864 - june.simulator - INFO - Date = 2020-04-12 09:00:00, number of deaths =  105, number of infected = 31569\n",
      "2020-06-18 14:23:05,836 - june.simulator - INFO - Date = 2020-04-13 00:00:00, number of deaths =  116, number of infected = 30214\n",
      "2020-06-18 14:23:06,698 - june.simulator - INFO - Date = 2020-04-13 01:00:00, number of deaths =  116, number of infected = 30139\n",
      "2020-06-18 14:23:07,586 - june.simulator - INFO - Date = 2020-04-13 09:00:00, number of deaths =  125, number of infected = 29417\n",
      "2020-06-18 14:23:10,625 - june.simulator - INFO - Date = 2020-04-13 10:00:00, number of deaths =  125, number of infected = 29312\n",
      "2020-06-18 14:23:11,432 - june.simulator - INFO - Date = 2020-04-13 13:00:00, number of deaths =  125, number of infected = 29090\n",
      "2020-06-18 14:23:12,320 - june.simulator - INFO - Date = 2020-04-14 00:00:00, number of deaths =  130, number of infected = 28085\n",
      "2020-06-18 14:23:13,143 - june.simulator - INFO - Date = 2020-04-14 01:00:00, number of deaths =  132, number of infected = 28005\n",
      "2020-06-18 14:23:13,978 - june.simulator - INFO - Date = 2020-04-14 09:00:00, number of deaths =  135, number of infected = 27326\n",
      "2020-06-18 14:23:16,820 - june.simulator - INFO - Date = 2020-04-14 10:00:00, number of deaths =  135, number of infected = 27235\n",
      "2020-06-18 14:23:17,751 - june.simulator - INFO - Date = 2020-04-14 13:00:00, number of deaths =  137, number of infected = 27000\n",
      "2020-06-18 14:23:18,541 - june.simulator - INFO - Date = 2020-04-15 00:00:00, number of deaths =  145, number of infected = 25975\n",
      "2020-06-18 14:23:19,459 - june.simulator - INFO - Date = 2020-04-15 01:00:00, number of deaths =  145, number of infected = 25888\n",
      "2020-06-18 14:23:20,361 - june.simulator - INFO - Date = 2020-04-15 09:00:00, number of deaths =  149, number of infected = 25183\n",
      "2020-06-18 14:23:24,006 - june.simulator - INFO - Date = 2020-04-15 10:00:00, number of deaths =  149, number of infected = 25098\n",
      "2020-06-18 14:23:25,038 - june.simulator - INFO - Date = 2020-04-15 13:00:00, number of deaths =  152, number of infected = 24819\n",
      "2020-06-18 14:23:25,981 - june.simulator - INFO - Date = 2020-04-16 00:00:00, number of deaths =  156, number of infected = 23742\n",
      "2020-06-18 14:23:26,851 - june.simulator - INFO - Date = 2020-04-16 01:00:00, number of deaths =  156, number of infected = 23648\n",
      "2020-06-18 14:23:27,686 - june.simulator - INFO - Date = 2020-04-16 09:00:00, number of deaths =  162, number of infected = 22894\n",
      "2020-06-18 14:23:31,999 - june.simulator - INFO - Date = 2020-04-16 10:00:00, number of deaths =  163, number of infected = 22814\n",
      "2020-06-18 14:23:32,916 - june.simulator - INFO - Date = 2020-04-16 13:00:00, number of deaths =  163, number of infected = 22564\n",
      "2020-06-18 14:23:33,771 - june.simulator - INFO - Date = 2020-04-17 00:00:00, number of deaths =  173, number of infected = 21487\n",
      "2020-06-18 14:23:34,775 - june.simulator - INFO - Date = 2020-04-17 01:00:00, number of deaths =  173, number of infected = 21396\n",
      "2020-06-18 14:23:35,577 - june.simulator - INFO - Date = 2020-04-17 09:00:00, number of deaths =  180, number of infected = 20688\n",
      "2020-06-18 14:23:38,434 - june.simulator - INFO - Date = 2020-04-17 10:00:00, number of deaths =  181, number of infected = 20598\n",
      "2020-06-18 14:23:38,924 - june.simulator - INFO - Date = 2020-04-17 13:00:00, number of deaths =  184, number of infected = 20353\n",
      "2020-06-18 14:23:43,514 - june.simulator - INFO - Date = 2020-04-18 00:00:00, number of deaths =  193, number of infected = 19347\n",
      "2020-06-18 14:23:47,512 - june.simulator - INFO - Date = 2020-04-18 03:00:00, number of deaths =  195, number of infected = 19081\n",
      "2020-06-18 14:23:51,674 - june.simulator - INFO - Date = 2020-04-18 06:00:00, number of deaths =  195, number of infected = 18826\n",
      "2020-06-18 14:23:52,232 - june.simulator - INFO - Date = 2020-04-18 09:00:00, number of deaths =  195, number of infected = 18543\n",
      "2020-06-18 14:23:55,967 - june.simulator - INFO - Date = 2020-04-19 00:00:00, number of deaths =  201, number of infected = 17188\n",
      "2020-06-18 14:23:59,839 - june.simulator - INFO - Date = 2020-04-19 03:00:00, number of deaths =  202, number of infected = 16925\n",
      "2020-06-18 14:24:03,208 - june.simulator - INFO - Date = 2020-04-19 06:00:00, number of deaths =  204, number of infected = 16640\n",
      "2020-06-18 14:24:03,922 - june.simulator - INFO - Date = 2020-04-19 09:00:00, number of deaths =  205, number of infected = 16362\n",
      "2020-06-18 14:24:04,644 - june.simulator - INFO - Date = 2020-04-20 00:00:00, number of deaths =  213, number of infected = 15019\n",
      "2020-06-18 14:24:05,307 - june.simulator - INFO - Date = 2020-04-20 01:00:00, number of deaths =  214, number of infected = 14950\n",
      "2020-06-18 14:24:05,998 - june.simulator - INFO - Date = 2020-04-20 09:00:00, number of deaths =  219, number of infected = 14282\n",
      "2020-06-18 14:24:09,356 - june.simulator - INFO - Date = 2020-04-20 10:00:00, number of deaths =  220, number of infected = 14187\n",
      "2020-06-18 14:24:10,094 - june.simulator - INFO - Date = 2020-04-20 13:00:00, number of deaths =  220, number of infected = 13942\n",
      "2020-06-18 14:24:10,863 - june.simulator - INFO - Date = 2020-04-21 00:00:00, number of deaths =  228, number of infected = 13024\n",
      "2020-06-18 14:24:11,548 - june.simulator - INFO - Date = 2020-04-21 01:00:00, number of deaths =  229, number of infected = 12935\n",
      "2020-06-18 14:24:12,230 - june.simulator - INFO - Date = 2020-04-21 09:00:00, number of deaths =  231, number of infected = 12378\n",
      "2020-06-18 14:24:15,728 - june.simulator - INFO - Date = 2020-04-21 10:00:00, number of deaths =  233, number of infected = 12287\n",
      "2020-06-18 14:24:16,426 - june.simulator - INFO - Date = 2020-04-21 13:00:00, number of deaths =  235, number of infected = 12051\n",
      "2020-06-18 14:24:17,146 - june.simulator - INFO - Date = 2020-04-22 00:00:00, number of deaths =  241, number of infected = 11239\n",
      "2020-06-18 14:24:17,831 - june.simulator - INFO - Date = 2020-04-22 01:00:00, number of deaths =  241, number of infected = 11161\n",
      "2020-06-18 14:24:18,542 - june.simulator - INFO - Date = 2020-04-22 09:00:00, number of deaths =  249, number of infected = 10601\n",
      "2020-06-18 14:24:22,169 - june.simulator - INFO - Date = 2020-04-22 10:00:00, number of deaths =  249, number of infected = 10539\n",
      "2020-06-18 14:24:23,027 - june.simulator - INFO - Date = 2020-04-22 13:00:00, number of deaths =  253, number of infected = 10328\n",
      "2020-06-18 14:24:23,938 - june.simulator - INFO - Date = 2020-04-23 00:00:00, number of deaths =  258, number of infected = 9600\n",
      "2020-06-18 14:24:24,577 - june.simulator - INFO - Date = 2020-04-23 01:00:00, number of deaths =  259, number of infected = 9534\n",
      "2020-06-18 14:24:25,263 - june.simulator - INFO - Date = 2020-04-23 09:00:00, number of deaths =  266, number of infected = 9001\n",
      "2020-06-18 14:24:29,033 - june.simulator - INFO - Date = 2020-04-23 10:00:00, number of deaths =  268, number of infected = 8940\n",
      "2020-06-18 14:24:29,673 - june.simulator - INFO - Date = 2020-04-23 13:00:00, number of deaths =  270, number of infected = 8771\n",
      "2020-06-18 14:24:30,335 - june.simulator - INFO - Date = 2020-04-24 00:00:00, number of deaths =  274, number of infected = 8159\n",
      "2020-06-18 14:24:30,948 - june.simulator - INFO - Date = 2020-04-24 01:00:00, number of deaths =  275, number of infected = 8105\n",
      "2020-06-18 14:24:31,584 - june.simulator - INFO - Date = 2020-04-24 09:00:00, number of deaths =  277, number of infected = 7671\n",
      "2020-06-18 14:24:34,571 - june.simulator - INFO - Date = 2020-04-24 10:00:00, number of deaths =  277, number of infected = 7611\n",
      "2020-06-18 14:24:35,151 - june.simulator - INFO - Date = 2020-04-24 13:00:00, number of deaths =  278, number of infected = 7451\n",
      "2020-06-18 14:24:38,787 - june.simulator - INFO - Date = 2020-04-25 00:00:00, number of deaths =  283, number of infected = 6966\n",
      "2020-06-18 14:24:42,968 - june.simulator - INFO - Date = 2020-04-25 03:00:00, number of deaths =  283, number of infected = 6830\n",
      "2020-06-18 14:24:46,664 - june.simulator - INFO - Date = 2020-04-25 06:00:00, number of deaths =  283, number of infected = 6690\n",
      "2020-06-18 14:24:47,267 - june.simulator - INFO - Date = 2020-04-25 09:00:00, number of deaths =  284, number of infected = 6536\n",
      "2020-06-18 14:24:51,470 - june.simulator - INFO - Date = 2020-04-26 00:00:00, number of deaths =  294, number of infected = 5899\n",
      "2020-06-18 14:24:54,985 - june.simulator - INFO - Date = 2020-04-26 03:00:00, number of deaths =  294, number of infected = 5778\n",
      "2020-06-18 14:24:57,819 - june.simulator - INFO - Date = 2020-04-26 06:00:00, number of deaths =  295, number of infected = 5663\n",
      "2020-06-18 14:24:58,226 - june.simulator - INFO - Date = 2020-04-26 09:00:00, number of deaths =  296, number of infected = 5544\n",
      "2020-06-18 14:24:58,716 - june.simulator - INFO - Date = 2020-04-27 00:00:00, number of deaths =  307, number of infected = 4963\n",
      "2020-06-18 14:24:59,112 - june.simulator - INFO - Date = 2020-04-27 01:00:00, number of deaths =  308, number of infected = 4927\n",
      "2020-06-18 14:24:59,533 - june.simulator - INFO - Date = 2020-04-27 09:00:00, number of deaths =  312, number of infected = 4660\n",
      "2020-06-18 14:25:01,976 - june.simulator - INFO - Date = 2020-04-27 10:00:00, number of deaths =  312, number of infected = 4624\n",
      "2020-06-18 14:25:02,338 - june.simulator - INFO - Date = 2020-04-27 13:00:00, number of deaths =  315, number of infected = 4520\n",
      "2020-06-18 14:25:02,786 - june.simulator - INFO - Date = 2020-04-28 00:00:00, number of deaths =  322, number of infected = 4213\n",
      "2020-06-18 14:25:03,155 - june.simulator - INFO - Date = 2020-04-28 01:00:00, number of deaths =  322, number of infected = 4185\n",
      "2020-06-18 14:25:03,513 - june.simulator - INFO - Date = 2020-04-28 09:00:00, number of deaths =  325, number of infected = 3938\n",
      "2020-06-18 14:25:05,888 - june.simulator - INFO - Date = 2020-04-28 10:00:00, number of deaths =  325, number of infected = 3909\n",
      "2020-06-18 14:25:06,302 - june.simulator - INFO - Date = 2020-04-28 13:00:00, number of deaths =  326, number of infected = 3851\n",
      "2020-06-18 14:25:06,740 - june.simulator - INFO - Date = 2020-04-29 00:00:00, number of deaths =  326, number of infected = 3576\n",
      "2020-06-18 14:25:07,135 - june.simulator - INFO - Date = 2020-04-29 01:00:00, number of deaths =  326, number of infected = 3540\n",
      "2020-06-18 14:25:07,558 - june.simulator - INFO - Date = 2020-04-29 09:00:00, number of deaths =  328, number of infected = 3345\n",
      "2020-06-18 14:25:10,546 - june.simulator - INFO - Date = 2020-04-29 10:00:00, number of deaths =  328, number of infected = 3316\n",
      "2020-06-18 14:25:11,097 - june.simulator - INFO - Date = 2020-04-29 13:00:00, number of deaths =  329, number of infected = 3241\n",
      "2020-06-18 14:25:11,682 - june.simulator - INFO - Date = 2020-04-30 00:00:00, number of deaths =  333, number of infected = 3022\n",
      "2020-06-18 14:25:12,234 - june.simulator - INFO - Date = 2020-04-30 01:00:00, number of deaths =  334, number of infected = 3004\n",
      "2020-06-18 14:25:12,776 - june.simulator - INFO - Date = 2020-04-30 09:00:00, number of deaths =  336, number of infected = 2847\n",
      "2020-06-18 14:25:16,197 - june.simulator - INFO - Date = 2020-04-30 10:00:00, number of deaths =  336, number of infected = 2834\n",
      "2020-06-18 14:25:16,724 - june.simulator - INFO - Date = 2020-04-30 13:00:00, number of deaths =  336, number of infected = 2784\n",
      "2020-06-18 14:25:17,304 - june.simulator - INFO - Date = 2020-05-01 00:00:00, number of deaths =  340, number of infected = 2601\n",
      "2020-06-18 14:25:17,845 - june.simulator - INFO - Date = 2020-05-01 01:00:00, number of deaths =  340, number of infected = 2582\n",
      "2020-06-18 14:25:18,458 - june.simulator - INFO - Date = 2020-05-01 09:00:00, number of deaths =  343, number of infected = 2464\n",
      "2020-06-18 14:25:21,847 - june.simulator - INFO - Date = 2020-05-01 10:00:00, number of deaths =  343, number of infected = 2443\n",
      "2020-06-18 14:25:22,332 - june.simulator - INFO - Date = 2020-05-01 13:00:00, number of deaths =  345, number of infected = 2401\n",
      "2020-06-18 14:25:25,719 - june.simulator - INFO - Date = 2020-05-02 00:00:00, number of deaths =  351, number of infected = 2244\n",
      "2020-06-18 14:25:29,114 - june.simulator - INFO - Date = 2020-05-02 03:00:00, number of deaths =  352, number of infected = 2206\n",
      "2020-06-18 14:25:32,474 - june.simulator - INFO - Date = 2020-05-02 06:00:00, number of deaths =  352, number of infected = 2171\n",
      "2020-06-18 14:25:32,925 - june.simulator - INFO - Date = 2020-05-02 09:00:00, number of deaths =  355, number of infected = 2132\n",
      "2020-06-18 14:25:36,451 - june.simulator - INFO - Date = 2020-05-03 00:00:00, number of deaths =  359, number of infected = 1922\n",
      "2020-06-18 14:25:39,899 - june.simulator - INFO - Date = 2020-05-03 03:00:00, number of deaths =  359, number of infected = 1891\n",
      "2020-06-18 14:25:43,717 - june.simulator - INFO - Date = 2020-05-03 06:00:00, number of deaths =  359, number of infected = 1860\n",
      "2020-06-18 14:25:44,137 - june.simulator - INFO - Date = 2020-05-03 09:00:00, number of deaths =  359, number of infected = 1825\n",
      "2020-06-18 14:25:44,731 - june.simulator - INFO - Date = 2020-05-04 00:00:00, number of deaths =  361, number of infected = 1654\n",
      "2020-06-18 14:25:45,244 - june.simulator - INFO - Date = 2020-05-04 01:00:00, number of deaths =  361, number of infected = 1644\n",
      "2020-06-18 14:25:45,758 - june.simulator - INFO - Date = 2020-05-04 09:00:00, number of deaths =  362, number of infected = 1570\n",
      "2020-06-18 14:25:49,392 - june.simulator - INFO - Date = 2020-05-04 10:00:00, number of deaths =  362, number of infected = 1564\n",
      "2020-06-18 14:25:49,877 - june.simulator - INFO - Date = 2020-05-04 13:00:00, number of deaths =  362, number of infected = 1533\n",
      "2020-06-18 14:25:50,313 - june.simulator - INFO - Date = 2020-05-05 00:00:00, number of deaths =  365, number of infected = 1436\n",
      "2020-06-18 14:25:50,777 - june.simulator - INFO - Date = 2020-05-05 01:00:00, number of deaths =  366, number of infected = 1427\n",
      "2020-06-18 14:25:51,206 - june.simulator - INFO - Date = 2020-05-05 09:00:00, number of deaths =  366, number of infected = 1371\n",
      "2020-06-18 14:25:54,453 - june.simulator - INFO - Date = 2020-05-05 10:00:00, number of deaths =  366, number of infected = 1368\n",
      "2020-06-18 14:25:54,836 - june.simulator - INFO - Date = 2020-05-05 13:00:00, number of deaths =  366, number of infected = 1349\n",
      "2020-06-18 14:25:55,611 - june.simulator - INFO - Date = 2020-05-06 00:00:00, number of deaths =  368, number of infected = 1266\n",
      "2020-06-18 14:25:56,062 - june.simulator - INFO - Date = 2020-05-06 01:00:00, number of deaths =  368, number of infected = 1261\n",
      "2020-06-18 14:25:56,461 - june.simulator - INFO - Date = 2020-05-06 09:00:00, number of deaths =  369, number of infected = 1209\n",
      "2020-06-18 14:25:59,899 - june.simulator - INFO - Date = 2020-05-06 10:00:00, number of deaths =  369, number of infected = 1200\n",
      "2020-06-18 14:26:00,360 - june.simulator - INFO - Date = 2020-05-06 13:00:00, number of deaths =  369, number of infected = 1184\n",
      "2020-06-18 14:26:00,887 - june.simulator - INFO - Date = 2020-05-07 00:00:00, number of deaths =  372, number of infected = 1117\n",
      "2020-06-18 14:26:01,382 - june.simulator - INFO - Date = 2020-05-07 01:00:00, number of deaths =  372, number of infected = 1111\n",
      "2020-06-18 14:26:01,857 - june.simulator - INFO - Date = 2020-05-07 09:00:00, number of deaths =  374, number of infected = 1063\n",
      "2020-06-18 14:26:05,562 - june.simulator - INFO - Date = 2020-05-07 10:00:00, number of deaths =  374, number of infected = 1057\n",
      "2020-06-18 14:26:06,068 - june.simulator - INFO - Date = 2020-05-07 13:00:00, number of deaths =  375, number of infected = 1041\n",
      "2020-06-18 14:26:06,570 - june.simulator - INFO - Date = 2020-05-08 00:00:00, number of deaths =  378, number of infected = 982\n",
      "2020-06-18 14:26:07,040 - june.simulator - INFO - Date = 2020-05-08 01:00:00, number of deaths =  378, number of infected = 976\n",
      "2020-06-18 14:26:07,507 - june.simulator - INFO - Date = 2020-05-08 09:00:00, number of deaths =  380, number of infected = 935\n",
      "2020-06-18 14:26:10,915 - june.simulator - INFO - Date = 2020-05-08 10:00:00, number of deaths =  380, number of infected = 932\n",
      "2020-06-18 14:26:11,501 - june.simulator - INFO - Date = 2020-05-08 13:00:00, number of deaths =  381, number of infected = 916\n",
      "2020-06-18 14:26:15,183 - june.simulator - INFO - Date = 2020-05-09 00:00:00, number of deaths =  385, number of infected = 859\n",
      "2020-06-18 14:26:18,857 - june.simulator - INFO - Date = 2020-05-09 03:00:00, number of deaths =  386, number of infected = 848\n",
      "2020-06-18 14:26:22,961 - june.simulator - INFO - Date = 2020-05-09 06:00:00, number of deaths =  389, number of infected = 832\n",
      "2020-06-18 14:26:23,456 - june.simulator - INFO - Date = 2020-05-09 09:00:00, number of deaths =  389, number of infected = 814\n",
      "2020-06-18 14:26:27,502 - june.simulator - INFO - Date = 2020-05-10 00:00:00, number of deaths =  394, number of infected = 751\n",
      "2020-06-18 14:26:31,728 - june.simulator - INFO - Date = 2020-05-10 03:00:00, number of deaths =  394, number of infected = 736\n",
      "2020-06-18 14:26:36,358 - june.simulator - INFO - Date = 2020-05-10 06:00:00, number of deaths =  395, number of infected = 727\n",
      "2020-06-18 14:26:36,840 - june.simulator - INFO - Date = 2020-05-10 09:00:00, number of deaths =  396, number of infected = 718\n",
      "2020-06-18 14:26:37,358 - june.simulator - INFO - Date = 2020-05-11 00:00:00, number of deaths =  400, number of infected = 672\n",
      "2020-06-18 14:26:37,846 - june.simulator - INFO - Date = 2020-05-11 01:00:00, number of deaths =  400, number of infected = 671\n",
      "2020-06-18 14:26:38,329 - june.simulator - INFO - Date = 2020-05-11 09:00:00, number of deaths =  400, number of infected = 636\n",
      "2020-06-18 14:26:41,690 - june.simulator - INFO - Date = 2020-05-11 10:00:00, number of deaths =  400, number of infected = 631\n",
      "2020-06-18 14:26:42,176 - june.simulator - INFO - Date = 2020-05-11 13:00:00, number of deaths =  400, number of infected = 626\n",
      "2020-06-18 14:26:42,701 - june.simulator - INFO - Date = 2020-05-12 00:00:00, number of deaths =  400, number of infected = 585\n",
      "2020-06-18 14:26:43,228 - june.simulator - INFO - Date = 2020-05-12 01:00:00, number of deaths =  401, number of infected = 583\n",
      "2020-06-18 14:26:43,791 - june.simulator - INFO - Date = 2020-05-12 09:00:00, number of deaths =  403, number of infected = 553\n",
      "2020-06-18 14:26:48,107 - june.simulator - INFO - Date = 2020-05-12 10:00:00, number of deaths =  403, number of infected = 551\n",
      "2020-06-18 14:26:48,603 - june.simulator - INFO - Date = 2020-05-12 13:00:00, number of deaths =  403, number of infected = 545\n",
      "2020-06-18 14:26:49,170 - june.simulator - INFO - Date = 2020-05-13 00:00:00, number of deaths =  404, number of infected = 505\n",
      "2020-06-18 14:26:49,693 - june.simulator - INFO - Date = 2020-05-13 01:00:00, number of deaths =  404, number of infected = 504\n",
      "2020-06-18 14:26:50,195 - june.simulator - INFO - Date = 2020-05-13 09:00:00, number of deaths =  405, number of infected = 478\n",
      "2020-06-18 14:26:54,054 - june.simulator - INFO - Date = 2020-05-13 10:00:00, number of deaths =  405, number of infected = 477\n",
      "2020-06-18 14:26:54,480 - june.simulator - INFO - Date = 2020-05-13 13:00:00, number of deaths =  405, number of infected = 469\n",
      "2020-06-18 14:26:54,880 - june.simulator - INFO - Date = 2020-05-14 00:00:00, number of deaths =  406, number of infected = 448\n",
      "2020-06-18 14:26:55,301 - june.simulator - INFO - Date = 2020-05-14 01:00:00, number of deaths =  406, number of infected = 446\n",
      "2020-06-18 14:26:55,704 - june.simulator - INFO - Date = 2020-05-14 09:00:00, number of deaths =  406, number of infected = 432\n",
      "2020-06-18 14:26:58,949 - june.simulator - INFO - Date = 2020-05-14 10:00:00, number of deaths =  406, number of infected = 429\n",
      "2020-06-18 14:26:59,376 - june.simulator - INFO - Date = 2020-05-14 13:00:00, number of deaths =  406, number of infected = 421\n",
      "2020-06-18 14:26:59,906 - june.simulator - INFO - Date = 2020-05-15 00:00:00, number of deaths =  407, number of infected = 394\n",
      "2020-06-18 14:27:00,402 - june.simulator - INFO - Date = 2020-05-15 01:00:00, number of deaths =  407, number of infected = 393\n",
      "2020-06-18 14:27:00,863 - june.simulator - INFO - Date = 2020-05-15 09:00:00, number of deaths =  408, number of infected = 372\n",
      "2020-06-18 14:27:04,284 - june.simulator - INFO - Date = 2020-05-15 10:00:00, number of deaths =  408, number of infected = 370\n",
      "2020-06-18 14:27:04,739 - june.simulator - INFO - Date = 2020-05-15 13:00:00, number of deaths =  410, number of infected = 363\n",
      "2020-06-18 14:27:08,362 - june.simulator - INFO - Date = 2020-05-16 00:00:00, number of deaths =  411, number of infected = 349\n",
      "CPU times: user 9min 22s, sys: 1.72 s, total: 9min 24s\n",
      "Wall time: 9min 49s\n"
     ]
    }
   ],
   "source": [
    "%%time\n",
    "simulator.run()"
   ]
  },
  {
   "cell_type": "markdown",
   "metadata": {},
   "source": [
    "While the simulation runs (and afterwards) we can launch the visualization webpage by running\n",
    "```python june/visualizer.py path/to/results``` "
   ]
  },
  {
   "cell_type": "markdown",
   "metadata": {},
   "source": [
    "# Getting the results"
   ]
  },
  {
   "cell_type": "markdown",
   "metadata": {},
   "source": [
    "All results are stored in a json file specified in the ``save_path`` variable in the config file. We can also access it from ``world.logger`` directly."
   ]
  },
  {
   "cell_type": "code",
   "execution_count": 26,
   "metadata": {},
   "outputs": [],
   "source": [
    "import pandas as pd"
   ]
  },
  {
   "cell_type": "code",
   "execution_count": 27,
   "metadata": {},
   "outputs": [],
   "source": [
    "read = ReadLogger()"
   ]
  },
  {
   "cell_type": "markdown",
   "metadata": {},
   "source": [
    "## Hospital data and how it changed over time"
   ]
  },
  {
   "cell_type": "code",
   "execution_count": 28,
   "metadata": {},
   "outputs": [],
   "source": [
    "hospitals_df = read.load_hospital_capacity()"
   ]
  },
  {
   "cell_type": "code",
   "execution_count": 29,
   "metadata": {},
   "outputs": [
    {
     "data": {
      "text/html": [
       "<div>\n",
       "<style scoped>\n",
       "    .dataframe tbody tr th:only-of-type {\n",
       "        vertical-align: middle;\n",
       "    }\n",
       "\n",
       "    .dataframe tbody tr th {\n",
       "        vertical-align: top;\n",
       "    }\n",
       "\n",
       "    .dataframe thead th {\n",
       "        text-align: right;\n",
       "    }\n",
       "</style>\n",
       "<table border=\"1\" class=\"dataframe\">\n",
       "  <thead>\n",
       "    <tr style=\"text-align: right;\">\n",
       "      <th></th>\n",
       "      <th>time_stamp</th>\n",
       "      <th>id</th>\n",
       "      <th>n_patients</th>\n",
       "      <th>n_patients_icu</th>\n",
       "    </tr>\n",
       "  </thead>\n",
       "  <tbody>\n",
       "    <tr>\n",
       "      <th>0</th>\n",
       "      <td>2020-03-07T03:00:00.000000</td>\n",
       "      <td>0</td>\n",
       "      <td>0</td>\n",
       "      <td>0</td>\n",
       "    </tr>\n",
       "    <tr>\n",
       "      <th>1</th>\n",
       "      <td>2020-03-07T06:00:00.000000</td>\n",
       "      <td>0</td>\n",
       "      <td>0</td>\n",
       "      <td>0</td>\n",
       "    </tr>\n",
       "    <tr>\n",
       "      <th>2</th>\n",
       "      <td>2020-03-07T09:00:00.000000</td>\n",
       "      <td>0</td>\n",
       "      <td>0</td>\n",
       "      <td>0</td>\n",
       "    </tr>\n",
       "  </tbody>\n",
       "</table>\n",
       "</div>"
      ],
      "text/plain": [
       "                   time_stamp id n_patients n_patients_icu\n",
       "0  2020-03-07T03:00:00.000000  0          0              0\n",
       "1  2020-03-07T06:00:00.000000  0          0              0\n",
       "2  2020-03-07T09:00:00.000000  0          0              0"
      ]
     },
     "execution_count": 29,
     "metadata": {},
     "output_type": "execute_result"
    }
   ],
   "source": [
    "hospitals_df.head(3)"
   ]
  },
  {
   "cell_type": "code",
   "execution_count": 30,
   "metadata": {},
   "outputs": [],
   "source": [
    "hospitals_characteristics_df = read.load_hospital_characteristics()"
   ]
  },
  {
   "cell_type": "code",
   "execution_count": 31,
   "metadata": {},
   "outputs": [
    {
     "data": {
      "text/html": [
       "<div>\n",
       "<style scoped>\n",
       "    .dataframe tbody tr th:only-of-type {\n",
       "        vertical-align: middle;\n",
       "    }\n",
       "\n",
       "    .dataframe tbody tr th {\n",
       "        vertical-align: top;\n",
       "    }\n",
       "\n",
       "    .dataframe thead th {\n",
       "        text-align: right;\n",
       "    }\n",
       "</style>\n",
       "<table border=\"1\" class=\"dataframe\">\n",
       "  <thead>\n",
       "    <tr style=\"text-align: right;\">\n",
       "      <th></th>\n",
       "      <th>longitude</th>\n",
       "      <th>latitude</th>\n",
       "      <th>n_beds</th>\n",
       "      <th>n_icu_beds</th>\n",
       "      <th>trust_code</th>\n",
       "    </tr>\n",
       "  </thead>\n",
       "  <tbody>\n",
       "    <tr>\n",
       "      <th>0</th>\n",
       "      <td>0.688477</td>\n",
       "      <td>51.5625</td>\n",
       "      <td>2115</td>\n",
       "      <td>296</td>\n",
       "      <td>RAJ</td>\n",
       "    </tr>\n",
       "  </tbody>\n",
       "</table>\n",
       "</div>"
      ],
      "text/plain": [
       "   longitude  latitude  n_beds  n_icu_beds trust_code\n",
       "0   0.688477   51.5625    2115         296        RAJ"
      ]
     },
     "execution_count": 31,
     "metadata": {},
     "output_type": "execute_result"
    }
   ],
   "source": [
    "hospitals_characteristics_df"
   ]
  },
  {
   "cell_type": "markdown",
   "metadata": {},
   "source": [
    "## where did infections happen?"
   ]
  },
  {
   "cell_type": "code",
   "execution_count": 32,
   "metadata": {},
   "outputs": [],
   "source": [
    "loc_df = read.get_locations_infections()"
   ]
  },
  {
   "cell_type": "code",
   "execution_count": 33,
   "metadata": {},
   "outputs": [
    {
     "data": {
      "image/png": "[encoded data removed]",
      "text/plain": [
       "<Figure size 432x288 with 1 Axes>"
      ]
     },
     "metadata": {
      "needs_background": "light"
     },
     "output_type": "display_data"
    }
   ],
   "source": [
    "import matplotlib.ticker as mtick\n",
    "\n",
    "ax = loc_df['percentage_infections'].sort_values().plot.bar()\n",
    "ax.yaxis.set_major_formatter(mtick.PercentFormatter())\n",
    "plt.ylabel('Percentage of infections at location')\n",
    "plt.xlabel('location')\n",
    "plt.yscale('log')"
   ]
  },
  {
   "cell_type": "markdown",
   "metadata": {},
   "source": [
    "## rate of infection"
   ]
  },
  {
   "cell_type": "code",
   "execution_count": 34,
   "metadata": {},
   "outputs": [
    {
     "name": "stderr",
     "output_type": "stream",
     "text": [
      "/home/arnau/.local/lib/python3.8/site-packages/numpy/core/fromnumeric.py:3334: RuntimeWarning: Mean of empty slice.\n",
      "  return _methods._mean(a, axis=axis, dtype=dtype,\n",
      "/home/arnau/.local/lib/python3.8/site-packages/numpy/core/_methods.py:161: RuntimeWarning: invalid value encountered in double_scalars\n",
      "  ret = ret.dtype.type(ret / rcount)\n"
     ]
    }
   ],
   "source": [
    "r_df = read.get_r()"
   ]
  },
  {
   "cell_type": "code",
   "execution_count": 35,
   "metadata": {},
   "outputs": [
    {
     "data": {
      "text/plain": [
       "Text(0, 0.5, 'R')"
      ]
     },
     "execution_count": 35,
     "metadata": {},
     "output_type": "execute_result"
    },
    {
     "data": {
      "image/png": "[encoded data removed]",
      "text/plain": [
       "<Figure size 432x288 with 1 Axes>"
      ]
     },
     "metadata": {
      "needs_background": "light"
     },
     "output_type": "display_data"
    }
   ],
   "source": [
    "r_df.plot()\n",
    "plt.axvspan(policies.social_distancing_start, \n",
    "            policies.social_distancing_end,\n",
    "            facecolor='y', alpha=0.2)\n",
    "plt.axhline(y=1, linestyle='dashed', color='gray')\n",
    "plt.xlabel('Date')\n",
    "plt.ylabel('R')"
   ]
  },
  {
   "cell_type": "markdown",
   "metadata": {},
   "source": [
    "## World infection curves, and by super area"
   ]
  },
  {
   "cell_type": "code",
   "execution_count": 36,
   "metadata": {},
   "outputs": [],
   "source": [
    "world_df = read.world_summary()"
   ]
  },
  {
   "cell_type": "code",
   "execution_count": 37,
   "metadata": {},
   "outputs": [
    {
     "data": {
      "text/plain": [
       "<matplotlib.legend.Legend at 0x7f48f508ce50>"
      ]
     },
     "execution_count": 37,
     "metadata": {},
     "output_type": "execute_result"
    },
    {
     "data": {
      "image/png": "[encoded data removed]",
      "text/plain": [
       "<Figure size 432x288 with 1 Axes>"
      ]
     },
     "metadata": {
      "needs_background": "light"
     },
     "output_type": "display_data"
    }
   ],
   "source": [
    "world_df.plot()\n",
    "plt.axvspan(policies.social_distancing_start, \n",
    "            policies.social_distancing_end,\n",
    "            facecolor='y', alpha=0.2)\n",
    "plt.legend()"
   ]
  },
  {
   "cell_type": "code",
   "execution_count": 38,
   "metadata": {},
   "outputs": [],
   "source": [
    "area_df = read.super_area_summary()"
   ]
  },
  {
   "cell_type": "code",
   "execution_count": 39,
   "metadata": {},
   "outputs": [
    {
     "data": {
      "text/plain": [
       "<matplotlib.legend.Legend at 0x7f48f5482c10>"
      ]
     },
     "execution_count": 39,
     "metadata": {},
     "output_type": "execute_result"
    },
    {
     "data": {
      "image/png": "[encoded data removed]",
      "text/plain": [
       "<Figure size 432x288 with 1 Axes>"
      ]
     },
     "metadata": {
      "needs_background": "light"
     },
     "output_type": "display_data"
    }
   ],
   "source": [
    "area_df[area_df.super_area == \"E02002512\"].plot()\n",
    "plt.legend()"
   ]
  },
  {
   "cell_type": "markdown",
   "metadata": {},
   "source": [
    "## World infection curves per age group"
   ]
  },
  {
   "cell_type": "code",
   "execution_count": 40,
   "metadata": {},
   "outputs": [],
   "source": [
    "ages_df = read.age_summary([0,10,20,30,40,\n",
    "                  50,60,70,80,90,100])"
   ]
  },
  {
   "cell_type": "code",
   "execution_count": 41,
   "metadata": {},
   "outputs": [
    {
     "data": {
      "text/plain": [
       "<matplotlib.legend.Legend at 0x7f48f530d520>"
      ]
     },
     "execution_count": 41,
     "metadata": {},
     "output_type": "execute_result"
    },
    {
     "data": {
      "image/png": "[encoded data removed]",
      "text/plain": [
       "<Figure size 432x288 with 1 Axes>"
      ]
     },
     "metadata": {
      "needs_background": "light"
     },
     "output_type": "display_data"
    }
   ],
   "source": [
    "for name, group in ages_df.groupby('age_range'):\n",
    "    group['infected'].plot(label=name)\n",
    "plt.axvspan(policies.social_distancing_start, \n",
    "            policies.social_distancing_end,\n",
    "            facecolor='y', alpha=0.2)\n",
    "plt.legend()"
   ]
  },
  {
   "cell_type": "code",
   "execution_count": 42,
   "metadata": {},
   "outputs": [
    {
     "data": {
      "text/plain": [
       "<matplotlib.legend.Legend at 0x7f48fbeabdf0>"
      ]
     },
     "execution_count": 42,
     "metadata": {},
     "output_type": "execute_result"
    },
    {
     "data": {
      "image/png": "[encoded data removed]",
      "text/plain": [
       "<Figure size 432x288 with 1 Axes>"
      ]
     },
     "metadata": {
      "needs_background": "light"
     },
     "output_type": "display_data"
    }
   ],
   "source": [
    "for name, group in ages_df.groupby('age_range'):\n",
    "    group['dead'].cumsum().plot(label=name)\n",
    "plt.legend()"
   ]
  },
  {
   "cell_type": "code",
   "execution_count": 43,
   "metadata": {},
   "outputs": [
    {
     "data": {
      "text/plain": [
       "<matplotlib.legend.Legend at 0x7f48e8e1c700>"
      ]
     },
     "execution_count": 43,
     "metadata": {},
     "output_type": "execute_result"
    },
    {
     "data": {
      "image/png": "[encoded data removed]",
      "text/plain": [
       "<Figure size 432x288 with 1 Axes>"
      ]
     },
     "metadata": {
      "needs_background": "light"
     },
     "output_type": "display_data"
    }
   ],
   "source": [
    "for name, group in ages_df.groupby('age_range'):\n",
    "    group['susceptible'].plot(label=name)\n",
    "plt.legend()"
   ]
  },
  {
   "cell_type": "markdown",
   "metadata": {},
   "source": [
    "## Draw some of the symptoms trajectories"
   ]
  },
  {
   "cell_type": "code",
   "execution_count": 44,
   "metadata": {},
   "outputs": [],
   "source": [
    "random_trajectories = read.draw_symptom_trajectories(window_length=200,\n",
    "                                        n_people=5)"
   ]
  },
  {
   "cell_type": "code",
   "execution_count": 45,
   "metadata": {},
   "outputs": [],
   "source": [
    "from june.infection import SymptomTag"
   ]
  },
  {
   "cell_type": "code",
   "execution_count": 46,
   "metadata": {},
   "outputs": [],
   "source": [
    "symptoms_values = [tag.value for tag in SymptomTag]\n",
    "symptoms_names = [tag.name for tag in SymptomTag]\n"
   ]
  },
  {
   "cell_type": "code",
   "execution_count": 47,
   "metadata": {},
   "outputs": [
    {
     "data": {
      "text/plain": [
       "Text(0.5, 0, 'Date')"
      ]
     },
     "execution_count": 47,
     "metadata": {},
     "output_type": "execute_result"
    },
    {
     "data": {
      "image/png": "[encoded data removed]",
      "text/plain": [
       "<Figure size 432x288 with 1 Axes>"
      ]
     },
     "metadata": {
      "needs_background": "light"
     },
     "output_type": "display_data"
    }
   ],
   "source": [
    "for df_person in random_trajectories:\n",
    "    df_person['symptoms'].plot()\n",
    "plt.ylabel('Symptoms Trajectory')\n",
    "_ = plt.yticks(symptoms_values, symptoms_names)\n",
    "plt.xlabel('Date')"
   ]
  },
  {
   "cell_type": "code",
   "execution_count": 48,
   "metadata": {},
   "outputs": [
    {
     "data": {
      "text/plain": [
       "Text(0.5, 0, 'Date')"
      ]
     },
     "execution_count": 48,
     "metadata": {},
     "output_type": "execute_result"
    },
    {
     "data": {
      "image/png": "[encoded data removed]",
      "text/plain": [
       "<Figure size 432x288 with 1 Axes>"
      ]
     },
     "metadata": {
      "needs_background": "light"
     },
     "output_type": "display_data"
    }
   ],
   "source": [
    "for df_person in random_trajectories:\n",
    "    df_person['n_secondary_infections'].plot()\n",
    "plt.ylabel('Number of secondary infections')\n",
    "\n",
    "plt.xlabel('Date')"
   ]
  },
  {
   "cell_type": "code",
   "execution_count": null,
   "metadata": {},
   "outputs": [],
   "source": []
  }
 ],
 "metadata": {
  "kernelspec": {
   "display_name": "Python 3",
   "language": "python",
   "name": "python3"
  },
  "language_info": {
   "codemirror_mode": {
    "name": "ipython",
    "version": 3
   },
   "file_extension": ".py",
   "mimetype": "text/x-python",
   "name": "python",
   "nbconvert_exporter": "python",
   "pygments_lexer": "ipython3",
   "version": "3.8.3"
  }
 },
 "nbformat": 4,
 "nbformat_minor": 4
}
