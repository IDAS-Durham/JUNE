{
 "cells": [
  {
   "cell_type": "code",
   "execution_count": 1,
   "metadata": {},
   "outputs": [],
   "source": [
    "%load_ext autoreload\n",
    "%autoreload 2"
   ]
  },
  {
   "cell_type": "code",
   "execution_count": 2,
   "metadata": {},
   "outputs": [],
   "source": [
    "import numpy as np\n",
    "import time\n",
    "from datetime import datetime\n",
    "import matplotlib.pyplot as plt\n",
    "import seaborn as sns\n",
    "sns.set_context('notebook')"
   ]
  },
  {
   "cell_type": "code",
   "execution_count": 3,
   "metadata": {},
   "outputs": [
    {
     "name": "stderr",
     "output_type": "stream",
     "text": [
      "No --data argument given - defaulting to:\n",
      "/home/florpi/JUNE/data\n",
      "No --configs argument given - defaulting to:\n",
      "/home/florpi/JUNE/configs\n"
     ]
    }
   ],
   "source": [
    "from june import World \n",
    "from june.demography.geography import Geography\n",
    "from june.demography import Demography\n",
    "from june.interaction import ContactAveraging\n",
    "from june.infection import Infection\n",
    "from june.infection.transmission import TransmissionConstant\n",
    "from june.groups import Hospitals, Schools, Companies, Households, CareHomes, Cemeteries, Universities\n",
    "from june.groups.leisure import leisure, Cinemas, Pubs, Groceries\n",
    "from june.simulator import Simulator\n",
    "from june.infection_seed import InfectionSeed, Observed2Cases\n",
    "from june.policy import Policy, Policies\n",
    "from june import paths\n",
    "from june.hdf5_savers import load_geography_from_hdf5\n",
    "from june.logger.read_logger import ReadLogger\n",
    "from june.infection.infection import InfectionSelector\n",
    "from june.world import generate_world_from_hdf5, generate_world_from_geography"
   ]
  },
  {
   "cell_type": "markdown",
   "metadata": {},
   "source": [
    "# Initialize world\n",
    "\n",
    "To initialize a certain world, we need to add the different components we want to have in it. First we specify what super areas (msoa) we want to create. We have included these ones, because they are known to contain hospitals, schools, care homes, and companies.\n",
    "\n",
    "After creating the geography, we create the different components the worlds need to have such as care homes, companies ..."
   ]
  },
  {
   "cell_type": "code",
   "execution_count": 4,
   "metadata": {},
   "outputs": [
    {
     "name": "stdout",
     "output_type": "stream",
     "text": [
      "2020-06-27 10:04:18,310 - june.demography.geography - INFO - There are 129 areas and 5 super_areas in the world.\n",
      "2020-06-27 10:04:18,317 - june.groups.hospital - INFO - There are 1 hospitals in this geography.\n",
      "2020-06-27 10:04:18,404 - june.groups.school - INFO - There are 19 schools in this geography.\n",
      "2020-06-27 10:04:18,470 - june.groups.school - INFO - No school for the age 0 in this world.\n",
      "2020-06-27 10:04:18,479 - june.groups.school - INFO - No school for the age 1 in this world.\n",
      "2020-06-27 10:04:18,488 - june.groups.school - INFO - No school for the age 2 in this world.\n",
      "2020-06-27 10:04:19,018 - june.groups.carehome - INFO - There are 9 care_homes in this geography.\n",
      "2020-06-27 10:04:30,128 - numexpr.utils - INFO - NumExpr defaulting to 4 threads.\n",
      "2020-06-27 10:04:34,249 - june.distributors.worker_distributor - INFO - There are 0 who had to be told to stay real\n",
      "CPU times: user 44.3 s, sys: 1.72 s, total: 46 s\n",
      "Wall time: 47.2 s\n"
     ]
    }
   ],
   "source": [
    "%%time \n",
    "\n",
    "geography = Geography.from_file(\n",
    "        {\n",
    "            \"super_area\": [\n",
    "                \"E02003282\",\n",
    "                \"E02001720\",\n",
    "                \"E00088544\",\n",
    "                \"E02002560\",\n",
    "                \"E02002559\",\n",
    "                \"E02004314\",\n",
    "            ]\n",
    "        }\n",
    ")\n",
    "\n",
    "geography.hospitals = Hospitals.for_geography(geography)\n",
    "geography.schools = Schools.for_geography(geography)\n",
    "geography.companies = Companies.for_geography(geography)\n",
    "geography.care_homes = CareHomes.for_geography(geography)\n",
    "geography.universities = Universities.for_super_areas(geography.super_areas)\n",
    "world = generate_world_from_geography(geography, include_households=True, include_commute=True)\n"
   ]
  },
  {
   "cell_type": "code",
   "execution_count": 5,
   "metadata": {},
   "outputs": [
    {
     "data": {
      "text/plain": [
       "46784"
      ]
     },
     "execution_count": 5,
     "metadata": {},
     "output_type": "execute_result"
    }
   ],
   "source": [
    "len(world.people)"
   ]
  },
  {
   "cell_type": "markdown",
   "metadata": {},
   "source": [
    "### If it took a long time to run the previous command, it might be a good idea to save the world to reuse it later."
   ]
  },
  {
   "cell_type": "code",
   "execution_count": 6,
   "metadata": {},
   "outputs": [],
   "source": [
    "world.to_hdf5(\"world.hdf5\")"
   ]
  },
  {
   "cell_type": "markdown",
   "metadata": {},
   "source": [
    "If we would like to load the world we saved, we just do"
   ]
  },
  {
   "cell_type": "code",
   "execution_count": 7,
   "metadata": {},
   "outputs": [
    {
     "name": "stdout",
     "output_type": "stream",
     "text": [
      "Loaded chunk 0 of 1\n",
      "Loaded chunk 0 of 1\n"
     ]
    },
    {
     "name": "stderr",
     "output_type": "stream",
     "text": [
      "100%|██████████| 46784/46784 [00:00<00:00, 80573.84it/s] \n"
     ]
    }
   ],
   "source": [
    "world = generate_world_from_hdf5(\"world.hdf5\")"
   ]
  },
  {
   "cell_type": "markdown",
   "metadata": {},
   "source": [
    "you have now a beautiful pre-pandemic world. "
   ]
  },
  {
   "cell_type": "markdown",
   "metadata": {},
   "source": [
    "## Commute, travel and leisure"
   ]
  },
  {
   "cell_type": "markdown",
   "metadata": {},
   "source": [
    "We can add cinemas, pubs, groceries, etc. as well as commute in major cities with"
   ]
  },
  {
   "cell_type": "code",
   "execution_count": 8,
   "metadata": {},
   "outputs": [],
   "source": [
    "# leisure\n",
    "geography = load_geography_from_hdf5(\"world.hdf5\")\n",
    "world.cinemas = Cinemas.for_geography(geography)\n",
    "world.pubs = Pubs.for_geography(geography)\n",
    "world.groceries = Groceries.for_super_areas(world.super_areas,\n",
    "                                            venues_per_capita=1/500)"
   ]
  },
  {
   "cell_type": "markdown",
   "metadata": {},
   "source": [
    "We are also going to need some cemeteries...geography.cemeteries = Cemeteries()\n"
   ]
  },
  {
   "cell_type": "code",
   "execution_count": 9,
   "metadata": {},
   "outputs": [],
   "source": [
    "world.cemeteries = Cemeteries()"
   ]
  },
  {
   "cell_type": "markdown",
   "metadata": {},
   "source": [
    "# Adding the infection"
   ]
  },
  {
   "cell_type": "markdown",
   "metadata": {},
   "source": [
    "Now, you can play around with different models of infections. The building blocks for an infection are: Transmission and Symptoms. For now, only SymptomsConstant and TransmissionConstant are in a state to be used."
   ]
  },
  {
   "cell_type": "code",
   "execution_count": 10,
   "metadata": {},
   "outputs": [],
   "source": [
    "selector = InfectionSelector.from_file()"
   ]
  },
  {
   "cell_type": "markdown",
   "metadata": {},
   "source": [
    "# Adding the interaction"
   ]
  },
  {
   "cell_type": "code",
   "execution_count": 11,
   "metadata": {},
   "outputs": [],
   "source": [
    "interaction = ContactAveraging.from_file(selector=selector)"
   ]
  },
  {
   "cell_type": "markdown",
   "metadata": {},
   "source": [
    "Beta are the intensities of the interaction taking place at the different groups"
   ]
  },
  {
   "cell_type": "code",
   "execution_count": 12,
   "metadata": {},
   "outputs": [
    {
     "data": {
      "text/plain": [
       "{'box': 1,\n",
       " 'pub': 0.1,\n",
       " 'grocery': 0.1,\n",
       " 'cinema': 0.1,\n",
       " 'commute_unit': 1.0,\n",
       " 'commute_city_unit': 1.0,\n",
       " 'hospital': 1.0,\n",
       " 'care_home': 1.0,\n",
       " 'company': 0.1,\n",
       " 'school': 0.1,\n",
       " 'household': 0.2,\n",
       " 'university': 0.01}"
      ]
     },
     "execution_count": 12,
     "metadata": {},
     "output_type": "execute_result"
    }
   ],
   "source": [
    "interaction.beta"
   ]
  },
  {
   "cell_type": "markdown",
   "metadata": {},
   "source": [
    "to modify these, simply do"
   ]
  },
  {
   "cell_type": "code",
   "execution_count": 13,
   "metadata": {},
   "outputs": [],
   "source": [
    "interaction.beta['household'] *= 2"
   ]
  },
  {
   "cell_type": "code",
   "execution_count": 14,
   "metadata": {},
   "outputs": [
    {
     "data": {
      "text/plain": [
       "{'box': 1,\n",
       " 'pub': 0.1,\n",
       " 'grocery': 0.1,\n",
       " 'cinema': 0.1,\n",
       " 'commute_unit': 1.0,\n",
       " 'commute_city_unit': 1.0,\n",
       " 'hospital': 1.0,\n",
       " 'care_home': 1.0,\n",
       " 'company': 0.1,\n",
       " 'school': 0.1,\n",
       " 'household': 0.4,\n",
       " 'university': 0.01}"
      ]
     },
     "execution_count": 14,
     "metadata": {},
     "output_type": "execute_result"
    }
   ],
   "source": [
    "interaction.beta"
   ]
  },
  {
   "cell_type": "markdown",
   "metadata": {},
   "source": [
    "moreover this interaction module uses contact matrices, that are different for different groups. These contact matrices shouldnt be modified for now. However they are a combination of conversational contact matrices, and physical contact matrices (see the BBC pandemic paper, from where these matrices are extracted https://www.medrxiv.org/content/10.1101/2020.02.16.20023754v2)\n",
    "\n",
    "There is a parameter, ``alpha`` ($\\alpha$), that combines these two matrices in the following way,\n",
    "\n",
    "\n",
    "$\\beta M \\left(1 + (\\alpha -1) \\right) P$\n",
    "\n",
    "where $\\beta$ is the intensity of the interaction, and $P$ the physical contact matrix. A larger $\\alpha$ produces more physical contacts. It is an overall number, non dependent of the particular group.\n"
   ]
  },
  {
   "cell_type": "code",
   "execution_count": 15,
   "metadata": {},
   "outputs": [
    {
     "data": {
      "text/plain": [
       "2.0"
      ]
     },
     "execution_count": 15,
     "metadata": {},
     "output_type": "execute_result"
    }
   ],
   "source": [
    "interaction.alpha_physical"
   ]
  },
  {
   "cell_type": "code",
   "execution_count": 16,
   "metadata": {},
   "outputs": [],
   "source": [
    "interaction.alpha_physical /= 2"
   ]
  },
  {
   "cell_type": "code",
   "execution_count": 17,
   "metadata": {},
   "outputs": [
    {
     "data": {
      "text/plain": [
       "1.0"
      ]
     },
     "execution_count": 17,
     "metadata": {},
     "output_type": "execute_result"
    }
   ],
   "source": [
    "interaction.alpha_physical"
   ]
  },
  {
   "cell_type": "markdown",
   "metadata": {},
   "source": [
    "# Seed the disease"
   ]
  },
  {
   "cell_type": "markdown",
   "metadata": {},
   "source": [
    "There are two options implemented in the seed at the moment, either you specify the number of cases and these are then homogeneously distributed by population to the different areas, or you use UK data on cases per region. For now use the first case."
   ]
  },
  {
   "cell_type": "code",
   "execution_count": 18,
   "metadata": {},
   "outputs": [],
   "source": [
    "regions = ['North East and Yorkshire',\n",
    "            'East of England']\n",
    "oc = Observed2Cases.from_file(\n",
    "    super_areas=world.super_areas, \n",
    "    health_index = selector.health_index_generator,\n",
    "    regions=regions\n",
    "    )\n"
   ]
  },
  {
   "cell_type": "code",
   "execution_count": 19,
   "metadata": {},
   "outputs": [],
   "source": [
    "n_cases_df = oc.cases_from_deaths(regions)"
   ]
  },
  {
   "cell_type": "code",
   "execution_count": 20,
   "metadata": {},
   "outputs": [
    {
     "data": {
      "text/plain": [
       "<matplotlib.axes._subplots.AxesSubplot at 0x7f237c228460>"
      ]
     },
     "execution_count": 20,
     "metadata": {},
     "output_type": "execute_result"
    },
    {
     "data": {
      "image/png": "[encoded data removed]",
      "text/plain": [
       "<Figure size 432x288 with 1 Axes>"
      ]
     },
     "metadata": {
      "needs_background": "light"
     },
     "output_type": "display_data"
    }
   ],
   "source": [
    "n_cases_df.plot()"
   ]
  },
  {
   "cell_type": "code",
   "execution_count": 21,
   "metadata": {},
   "outputs": [],
   "source": [
    "n_cases_df = n_cases_df.loc['2020-03-01':'2020-03-05']"
   ]
  },
  {
   "cell_type": "code",
   "execution_count": 22,
   "metadata": {},
   "outputs": [],
   "source": [
    "infection_seed = InfectionSeed.from_file(super_areas=world.super_areas, \n",
    "                               selector=selector,\n",
    "                               n_cases_region = n_cases_df\n",
    "                              )"
   ]
  },
  {
   "cell_type": "markdown",
   "metadata": {},
   "source": [
    "# Set policies"
   ]
  },
  {
   "cell_type": "code",
   "execution_count": 23,
   "metadata": {},
   "outputs": [],
   "source": [
    "policies = Policies.from_file()"
   ]
  },
  {
   "cell_type": "markdown",
   "metadata": {},
   "source": [
    "# Run the simulation"
   ]
  },
  {
   "cell_type": "markdown",
   "metadata": {},
   "source": [
    "Since the timer configuration is a bit cumbersome, it is read from the config file at ``configs/config_example.yaml``"
   ]
  },
  {
   "cell_type": "code",
   "execution_count": 24,
   "metadata": {},
   "outputs": [],
   "source": [
    "CONFIG_PATH = \"../configs/config_example.yaml\"\n",
    "\n",
    "leisure_instance = leisure.generate_leisure_for_config(\n",
    "world=world, config_filename = CONFIG_PATH\n",
    ")"
   ]
  },
  {
   "cell_type": "code",
   "execution_count": 25,
   "metadata": {},
   "outputs": [],
   "source": [
    "\n",
    "simulator = Simulator.from_file(\n",
    "     world, interaction, selector, \n",
    "    config_filename = CONFIG_PATH,\n",
    "    leisure = leisure_instance,\n",
    "    policies = policies,\n",
    "    infection_seed=infection_seed\n",
    "    \n",
    ")"
   ]
  },
  {
   "cell_type": "code",
   "execution_count": null,
   "metadata": {
    "scrolled": true
   },
   "outputs": [
    {
     "name": "stdout",
     "output_type": "stream",
     "text": [
      "2020-06-27 10:05:36,123 - june.simulator - INFO - Starting group_dynamics for 200 days at day 0\n",
      "2020-06-27 10:05:36,128 - june.simulator - INFO - starting the loop ..., at 0 days, to run for 200 days\n",
      "2020-06-27 10:05:38,356 - june.simulator - INFO - Date = 2020-03-01 04:00:00, number of deaths =  0, number of infected = 856\n",
      "2020-06-27 10:05:39,282 - june.simulator - INFO - Date = 2020-03-01 08:00:00, number of deaths =  0, number of infected = 856\n",
      "2020-06-27 10:05:39,811 - june.simulator - INFO - Date = 2020-03-01 12:00:00, number of deaths =  0, number of infected = 856\n",
      "2020-06-27 10:05:40,572 - june.simulator - INFO - Date = 2020-03-02 00:00:00, number of deaths =  0, number of infected = 1216\n",
      "2020-06-27 10:05:41,239 - june.simulator - INFO - Date = 2020-03-02 01:00:00, number of deaths =  0, number of infected = 1216\n",
      "2020-06-27 10:05:41,700 - june.simulator - INFO - Date = 2020-03-02 05:00:00, number of deaths =  0, number of infected = 1216\n",
      "2020-06-27 10:05:42,105 - june.simulator - INFO - Date = 2020-03-02 09:00:00, number of deaths =  0, number of infected = 1216\n",
      "2020-06-27 10:05:42,884 - june.simulator - INFO - Date = 2020-03-02 10:00:00, number of deaths =  0, number of infected = 1216\n",
      "2020-06-27 10:05:43,384 - june.simulator - INFO - Date = 2020-03-02 13:00:00, number of deaths =  0, number of infected = 1216\n",
      "2020-06-27 10:05:44,272 - june.simulator - INFO - Date = 2020-03-03 00:00:00, number of deaths =  0, number of infected = 2274\n",
      "2020-06-27 10:05:44,848 - june.simulator - INFO - Date = 2020-03-03 01:00:00, number of deaths =  0, number of infected = 2274\n",
      "2020-06-27 10:05:45,362 - june.simulator - INFO - Date = 2020-03-03 05:00:00, number of deaths =  0, number of infected = 2274\n",
      "2020-06-27 10:05:45,832 - june.simulator - INFO - Date = 2020-03-03 09:00:00, number of deaths =  0, number of infected = 2274\n",
      "2020-06-27 10:05:46,792 - june.simulator - INFO - Date = 2020-03-03 10:00:00, number of deaths =  0, number of infected = 2274\n",
      "2020-06-27 10:05:47,395 - june.simulator - INFO - Date = 2020-03-03 13:00:00, number of deaths =  0, number of infected = 2274\n",
      "2020-06-27 10:05:48,635 - june.simulator - INFO - Date = 2020-03-04 00:00:00, number of deaths =  0, number of infected = 4210\n",
      "2020-06-27 10:05:49,257 - june.simulator - INFO - Date = 2020-03-04 01:00:00, number of deaths =  0, number of infected = 4210\n",
      "2020-06-27 10:05:49,779 - june.simulator - INFO - Date = 2020-03-04 05:00:00, number of deaths =  0, number of infected = 4210\n",
      "2020-06-27 10:05:50,243 - june.simulator - INFO - Date = 2020-03-04 09:00:00, number of deaths =  0, number of infected = 4210\n",
      "2020-06-27 10:05:51,003 - june.simulator - INFO - Date = 2020-03-04 10:00:00, number of deaths =  0, number of infected = 4210\n",
      "2020-06-27 10:05:51,547 - june.simulator - INFO - Date = 2020-03-04 13:00:00, number of deaths =  0, number of infected = 4210\n",
      "2020-06-27 10:05:53,474 - june.simulator - INFO - Date = 2020-03-05 00:00:00, number of deaths =  0, number of infected = 5786\n",
      "2020-06-27 10:05:54,415 - june.simulator - INFO - Date = 2020-03-05 01:00:00, number of deaths =  0, number of infected = 5876\n",
      "2020-06-27 10:05:55,120 - june.simulator - INFO - Date = 2020-03-05 05:00:00, number of deaths =  0, number of infected = 6109\n",
      "2020-06-27 10:05:55,768 - june.simulator - INFO - Date = 2020-03-05 09:00:00, number of deaths =  0, number of infected = 6404\n",
      "2020-06-27 10:05:56,606 - june.simulator - INFO - Date = 2020-03-05 10:00:00, number of deaths =  0, number of infected = 6623\n",
      "2020-06-27 10:05:57,300 - june.simulator - INFO - Date = 2020-03-05 13:00:00, number of deaths =  0, number of infected = 7132\n",
      "2020-06-27 10:05:58,386 - june.simulator - INFO - Date = 2020-03-06 00:00:00, number of deaths =  0, number of infected = 8989\n",
      "2020-06-27 10:05:59,142 - june.simulator - INFO - Date = 2020-03-06 01:00:00, number of deaths =  0, number of infected = 9202\n",
      "2020-06-27 10:05:59,817 - june.simulator - INFO - Date = 2020-03-06 05:00:00, number of deaths =  0, number of infected = 9606\n",
      "2020-06-27 10:06:00,560 - june.simulator - INFO - Date = 2020-03-06 09:00:00, number of deaths =  0, number of infected = 10055\n",
      "2020-06-27 10:06:01,545 - june.simulator - INFO - Date = 2020-03-06 10:00:00, number of deaths =  0, number of infected = 10261\n",
      "2020-06-27 10:06:02,317 - june.simulator - INFO - Date = 2020-03-06 13:00:00, number of deaths =  0, number of infected = 10897\n",
      "2020-06-27 10:06:03,850 - june.simulator - INFO - Date = 2020-03-07 00:00:00, number of deaths =  0, number of infected = 12635\n",
      "2020-06-27 10:06:04,945 - june.simulator - INFO - Date = 2020-03-07 04:00:00, number of deaths =  0, number of infected = 13307\n",
      "2020-06-27 10:06:05,902 - june.simulator - INFO - Date = 2020-03-07 08:00:00, number of deaths =  0, number of infected = 13936\n",
      "2020-06-27 10:06:06,764 - june.simulator - INFO - Date = 2020-03-07 12:00:00, number of deaths =  0, number of infected = 14563\n",
      "2020-06-27 10:06:08,092 - june.simulator - INFO - Date = 2020-03-08 00:00:00, number of deaths =  0, number of infected = 15789\n",
      "2020-06-27 10:06:09,079 - june.simulator - INFO - Date = 2020-03-08 04:00:00, number of deaths =  0, number of infected = 16323\n",
      "2020-06-27 10:06:10,197 - june.simulator - INFO - Date = 2020-03-08 08:00:00, number of deaths =  0, number of infected = 16817\n",
      "2020-06-27 10:06:11,001 - june.simulator - INFO - Date = 2020-03-08 12:00:00, number of deaths =  0, number of infected = 17381\n",
      "2020-06-27 10:06:11,906 - june.simulator - INFO - Date = 2020-03-09 00:00:00, number of deaths =  0, number of infected = 18304\n",
      "2020-06-27 10:06:12,666 - june.simulator - INFO - Date = 2020-03-09 01:00:00, number of deaths =  0, number of infected = 18421\n",
      "2020-06-27 10:06:13,656 - june.simulator - INFO - Date = 2020-03-09 05:00:00, number of deaths =  0, number of infected = 19046\n",
      "2020-06-27 10:06:14,541 - june.simulator - INFO - Date = 2020-03-09 09:00:00, number of deaths =  0, number of infected = 19541\n",
      "2020-06-27 10:06:15,709 - june.simulator - INFO - Date = 2020-03-09 10:00:00, number of deaths =  0, number of infected = 19695\n",
      "2020-06-27 10:06:16,645 - june.simulator - INFO - Date = 2020-03-09 13:00:00, number of deaths =  0, number of infected = 20128\n",
      "2020-06-27 10:06:18,425 - june.simulator - INFO - Date = 2020-03-10 00:00:00, number of deaths =  0, number of infected = 21110\n",
      "2020-06-27 10:06:19,640 - june.simulator - INFO - Date = 2020-03-10 01:00:00, number of deaths =  0, number of infected = 21230\n",
      "2020-06-27 10:06:20,905 - june.simulator - INFO - Date = 2020-03-10 05:00:00, number of deaths =  0, number of infected = 21850\n",
      "2020-06-27 10:06:22,173 - june.simulator - INFO - Date = 2020-03-10 09:00:00, number of deaths =  1, number of infected = 22480\n",
      "2020-06-27 10:06:23,284 - june.simulator - INFO - Date = 2020-03-10 10:00:00, number of deaths =  1, number of infected = 22596\n",
      "2020-06-27 10:06:24,215 - june.simulator - INFO - Date = 2020-03-10 13:00:00, number of deaths =  1, number of infected = 23070\n",
      "2020-06-27 10:06:25,273 - june.simulator - INFO - Date = 2020-03-11 00:00:00, number of deaths =  1, number of infected = 23961\n",
      "2020-06-27 10:06:26,207 - june.simulator - INFO - Date = 2020-03-11 01:00:00, number of deaths =  1, number of infected = 24075\n",
      "2020-06-27 10:06:27,642 - june.simulator - INFO - Date = 2020-03-11 05:00:00, number of deaths =  1, number of infected = 24800\n",
      "2020-06-27 10:06:29,084 - june.simulator - INFO - Date = 2020-03-11 09:00:00, number of deaths =  1, number of infected = 25479\n",
      "2020-06-27 10:06:30,198 - june.simulator - INFO - Date = 2020-03-11 10:00:00, number of deaths =  1, number of infected = 25592\n",
      "2020-06-27 10:06:31,016 - june.simulator - INFO - Date = 2020-03-11 13:00:00, number of deaths =  2, number of infected = 26105\n",
      "2020-06-27 10:06:31,967 - june.simulator - INFO - Date = 2020-03-12 00:00:00, number of deaths =  4, number of infected = 26959\n",
      "2020-06-27 10:06:32,927 - june.simulator - INFO - Date = 2020-03-12 01:00:00, number of deaths =  5, number of infected = 27025\n",
      "2020-06-27 10:06:34,449 - june.simulator - INFO - Date = 2020-03-12 05:00:00, number of deaths =  5, number of infected = 27688\n",
      "2020-06-27 10:06:35,637 - june.simulator - INFO - Date = 2020-03-12 09:00:00, number of deaths =  6, number of infected = 28296\n"
     ]
    },
    {
     "name": "stdout",
     "output_type": "stream",
     "text": [
      "2020-06-27 10:06:36,591 - june.simulator - INFO - Date = 2020-03-12 10:00:00, number of deaths =  6, number of infected = 28409\n",
      "2020-06-27 10:06:37,823 - june.simulator - INFO - Date = 2020-03-12 13:00:00, number of deaths =  7, number of infected = 28905\n",
      "2020-06-27 10:06:38,725 - june.simulator - INFO - Date = 2020-03-13 00:00:00, number of deaths =  9, number of infected = 29772\n",
      "2020-06-27 10:06:39,499 - june.simulator - INFO - Date = 2020-03-13 01:00:00, number of deaths =  9, number of infected = 29854\n",
      "2020-06-27 10:06:40,735 - june.simulator - INFO - Date = 2020-03-13 05:00:00, number of deaths =  9, number of infected = 30485\n",
      "2020-06-27 10:06:42,311 - june.simulator - INFO - Date = 2020-03-13 09:00:00, number of deaths =  11, number of infected = 31073\n",
      "2020-06-27 10:06:43,234 - june.simulator - INFO - Date = 2020-03-13 10:00:00, number of deaths =  11, number of infected = 31164\n",
      "2020-06-27 10:06:44,096 - june.simulator - INFO - Date = 2020-03-13 13:00:00, number of deaths =  13, number of infected = 31659\n",
      "2020-06-27 10:06:45,228 - june.simulator - INFO - Date = 2020-03-14 00:00:00, number of deaths =  17, number of infected = 32447\n",
      "2020-06-27 10:06:46,316 - june.simulator - INFO - Date = 2020-03-14 04:00:00, number of deaths =  18, number of infected = 33087\n",
      "2020-06-27 10:06:47,678 - june.simulator - INFO - Date = 2020-03-14 08:00:00, number of deaths =  18, number of infected = 33710\n",
      "2020-06-27 10:06:48,579 - june.simulator - INFO - Date = 2020-03-14 12:00:00, number of deaths =  18, number of infected = 34365\n",
      "2020-06-27 10:06:49,665 - june.simulator - INFO - Date = 2020-03-15 00:00:00, number of deaths =  20, number of infected = 35064\n",
      "2020-06-27 10:06:50,823 - june.simulator - INFO - Date = 2020-03-15 04:00:00, number of deaths =  22, number of infected = 35661\n",
      "2020-06-27 10:06:52,043 - june.simulator - INFO - Date = 2020-03-15 08:00:00, number of deaths =  22, number of infected = 36273\n",
      "2020-06-27 10:06:53,587 - june.simulator - INFO - Date = 2020-03-15 12:00:00, number of deaths =  23, number of infected = 36873\n",
      "2020-06-27 10:06:55,047 - june.simulator - INFO - Date = 2020-03-16 00:00:00, number of deaths =  27, number of infected = 37456\n",
      "2020-06-27 10:06:56,370 - june.simulator - INFO - Date = 2020-03-16 01:00:00, number of deaths =  29, number of infected = 37508\n",
      "2020-06-27 10:06:57,653 - june.simulator - INFO - Date = 2020-03-16 05:00:00, number of deaths =  30, number of infected = 37685\n",
      "2020-06-27 10:06:59,003 - june.simulator - INFO - Date = 2020-03-16 09:00:00, number of deaths =  32, number of infected = 37830\n",
      "2020-06-27 10:07:00,625 - june.simulator - INFO - Date = 2020-03-16 10:00:00, number of deaths =  32, number of infected = 37884\n",
      "2020-06-27 10:07:01,710 - june.simulator - INFO - Date = 2020-03-16 13:00:00, number of deaths =  34, number of infected = 38065\n",
      "2020-06-27 10:07:02,788 - june.simulator - INFO - Date = 2020-03-17 00:00:00, number of deaths =  40, number of infected = 38540\n",
      "2020-06-27 10:07:03,863 - june.simulator - INFO - Date = 2020-03-17 01:00:00, number of deaths =  40, number of infected = 38587\n",
      "2020-06-27 10:07:05,104 - june.simulator - INFO - Date = 2020-03-17 05:00:00, number of deaths =  40, number of infected = 38693\n",
      "2020-06-27 10:07:06,282 - june.simulator - INFO - Date = 2020-03-17 09:00:00, number of deaths =  40, number of infected = 38782\n",
      "2020-06-27 10:07:07,398 - june.simulator - INFO - Date = 2020-03-17 10:00:00, number of deaths =  42, number of infected = 38819\n",
      "2020-06-27 10:07:08,376 - june.simulator - INFO - Date = 2020-03-17 13:00:00, number of deaths =  43, number of infected = 38952\n",
      "2020-06-27 10:07:09,622 - june.simulator - INFO - Date = 2020-03-18 00:00:00, number of deaths =  45, number of infected = 39233\n",
      "2020-06-27 10:07:10,650 - june.simulator - INFO - Date = 2020-03-18 01:00:00, number of deaths =  46, number of infected = 39249\n",
      "2020-06-27 10:07:11,806 - june.simulator - INFO - Date = 2020-03-18 05:00:00, number of deaths =  47, number of infected = 39308\n",
      "2020-06-27 10:07:12,907 - june.simulator - INFO - Date = 2020-03-18 09:00:00, number of deaths =  48, number of infected = 39375\n",
      "2020-06-27 10:07:14,762 - june.simulator - INFO - Date = 2020-03-18 10:00:00, number of deaths =  49, number of infected = 39394\n",
      "2020-06-27 10:07:16,176 - june.simulator - INFO - Date = 2020-03-18 13:00:00, number of deaths =  50, number of infected = 39502\n",
      "2020-06-27 10:07:17,316 - june.simulator - INFO - Date = 2020-03-19 00:00:00, number of deaths =  54, number of infected = 39749\n",
      "2020-06-27 10:07:18,822 - june.simulator - INFO - Date = 2020-03-19 01:00:00, number of deaths =  54, number of infected = 39764\n",
      "2020-06-27 10:07:20,404 - june.simulator - INFO - Date = 2020-03-19 05:00:00, number of deaths =  54, number of infected = 39808\n",
      "2020-06-27 10:07:21,522 - june.simulator - INFO - Date = 2020-03-19 09:00:00, number of deaths =  56, number of infected = 39847\n",
      "2020-06-27 10:07:22,722 - june.simulator - INFO - Date = 2020-03-19 10:00:00, number of deaths =  57, number of infected = 39848\n",
      "2020-06-27 10:07:23,921 - june.simulator - INFO - Date = 2020-03-19 13:00:00, number of deaths =  57, number of infected = 39954\n",
      "2020-06-27 10:07:25,265 - june.simulator - INFO - Date = 2020-03-20 00:00:00, number of deaths =  61, number of infected = 40083\n",
      "2020-06-27 10:07:26,680 - june.simulator - INFO - Date = 2020-03-20 01:00:00, number of deaths =  62, number of infected = 40089\n",
      "2020-06-27 10:07:28,226 - june.simulator - INFO - Date = 2020-03-20 05:00:00, number of deaths =  62, number of infected = 40130\n",
      "2020-06-27 10:07:29,540 - june.simulator - INFO - Date = 2020-03-20 09:00:00, number of deaths =  63, number of infected = 40222\n",
      "2020-06-27 10:07:30,729 - june.simulator - INFO - Date = 2020-03-20 10:00:00, number of deaths =  63, number of infected = 40220\n",
      "2020-06-27 10:07:31,885 - june.simulator - INFO - Date = 2020-03-20 13:00:00, number of deaths =  63, number of infected = 40254\n",
      "2020-06-27 10:07:33,473 - june.simulator - INFO - Date = 2020-03-21 00:00:00, number of deaths =  65, number of infected = 40239\n",
      "2020-06-27 10:07:34,926 - june.simulator - INFO - Date = 2020-03-21 04:00:00, number of deaths =  67, number of infected = 40244\n",
      "2020-06-27 10:07:36,318 - june.simulator - INFO - Date = 2020-03-21 08:00:00, number of deaths =  69, number of infected = 40208\n",
      "2020-06-27 10:07:37,471 - june.simulator - INFO - Date = 2020-03-21 12:00:00, number of deaths =  69, number of infected = 40186\n",
      "2020-06-27 10:07:38,889 - june.simulator - INFO - Date = 2020-03-22 00:00:00, number of deaths =  73, number of infected = 39997\n",
      "2020-06-27 10:07:40,252 - june.simulator - INFO - Date = 2020-03-22 04:00:00, number of deaths =  75, number of infected = 39937\n",
      "2020-06-27 10:07:41,431 - june.simulator - INFO - Date = 2020-03-22 08:00:00, number of deaths =  77, number of infected = 39861\n",
      "2020-06-27 10:07:42,913 - june.simulator - INFO - Date = 2020-03-22 12:00:00, number of deaths =  79, number of infected = 39775\n",
      "2020-06-27 10:07:44,486 - june.simulator - INFO - Date = 2020-03-23 00:00:00, number of deaths =  84, number of infected = 39379\n",
      "2020-06-27 10:07:45,852 - june.simulator - INFO - Date = 2020-03-23 01:00:00, number of deaths =  85, number of infected = 39345\n",
      "2020-06-27 10:07:47,170 - june.simulator - INFO - Date = 2020-03-23 05:00:00, number of deaths =  86, number of infected = 39186\n",
      "2020-06-27 10:07:48,345 - june.simulator - INFO - Date = 2020-03-23 09:00:00, number of deaths =  90, number of infected = 39000\n",
      "2020-06-27 10:07:49,618 - june.simulator - INFO - Date = 2020-03-23 10:00:00, number of deaths =  90, number of infected = 38959\n",
      "2020-06-27 10:07:50,791 - june.simulator - INFO - Date = 2020-03-23 13:00:00, number of deaths =  93, number of infected = 38834\n",
      "2020-06-27 10:07:51,812 - june.simulator - INFO - Date = 2020-03-24 00:00:00, number of deaths =  99, number of infected = 38265\n",
      "2020-06-27 10:07:52,946 - june.simulator - INFO - Date = 2020-03-24 01:00:00, number of deaths =  99, number of infected = 38207\n",
      "2020-06-27 10:07:54,049 - june.simulator - INFO - Date = 2020-03-24 05:00:00, number of deaths =  99, number of infected = 38014\n",
      "2020-06-27 10:07:55,020 - june.simulator - INFO - Date = 2020-03-24 09:00:00, number of deaths =  102, number of infected = 37773\n"
     ]
    },
    {
     "name": "stdout",
     "output_type": "stream",
     "text": [
      "2020-06-27 10:07:56,155 - june.simulator - INFO - Date = 2020-03-24 10:00:00, number of deaths =  102, number of infected = 37717\n",
      "2020-06-27 10:07:57,140 - june.simulator - INFO - Date = 2020-03-24 13:00:00, number of deaths =  104, number of infected = 37543\n",
      "2020-06-27 10:07:58,189 - june.simulator - INFO - Date = 2020-03-25 00:00:00, number of deaths =  106, number of infected = 36892\n",
      "2020-06-27 10:07:59,273 - june.simulator - INFO - Date = 2020-03-25 01:00:00, number of deaths =  109, number of infected = 36830\n",
      "2020-06-27 10:08:00,361 - june.simulator - INFO - Date = 2020-03-25 05:00:00, number of deaths =  111, number of infected = 36584\n",
      "2020-06-27 10:08:01,326 - june.simulator - INFO - Date = 2020-03-25 09:00:00, number of deaths =  112, number of infected = 36328\n",
      "2020-06-27 10:08:02,342 - june.simulator - INFO - Date = 2020-03-25 10:00:00, number of deaths =  112, number of infected = 36256\n",
      "2020-06-27 10:08:03,272 - june.simulator - INFO - Date = 2020-03-25 13:00:00, number of deaths =  113, number of infected = 36077\n",
      "2020-06-27 10:08:04,240 - june.simulator - INFO - Date = 2020-03-26 00:00:00, number of deaths =  116, number of infected = 35361\n",
      "2020-06-27 10:08:05,277 - june.simulator - INFO - Date = 2020-03-26 01:00:00, number of deaths =  116, number of infected = 35308\n",
      "2020-06-27 10:08:06,341 - june.simulator - INFO - Date = 2020-03-26 05:00:00, number of deaths =  117, number of infected = 35062\n",
      "2020-06-27 10:08:07,299 - june.simulator - INFO - Date = 2020-03-26 09:00:00, number of deaths =  122, number of infected = 34806\n",
      "2020-06-27 10:08:08,333 - june.simulator - INFO - Date = 2020-03-26 10:00:00, number of deaths =  122, number of infected = 34721\n",
      "2020-06-27 10:08:09,259 - june.simulator - INFO - Date = 2020-03-26 13:00:00, number of deaths =  124, number of infected = 34497\n",
      "2020-06-27 10:08:10,186 - june.simulator - INFO - Date = 2020-03-27 00:00:00, number of deaths =  132, number of infected = 33655\n",
      "2020-06-27 10:08:11,252 - june.simulator - INFO - Date = 2020-03-27 01:00:00, number of deaths =  133, number of infected = 33578\n",
      "2020-06-27 10:08:12,496 - june.simulator - INFO - Date = 2020-03-27 05:00:00, number of deaths =  136, number of infected = 33291\n",
      "2020-06-27 10:08:13,622 - june.simulator - INFO - Date = 2020-03-27 09:00:00, number of deaths =  139, number of infected = 32978\n",
      "2020-06-27 10:08:14,868 - june.simulator - INFO - Date = 2020-03-27 10:00:00, number of deaths =  139, number of infected = 32903\n",
      "2020-06-27 10:08:16,148 - june.simulator - INFO - Date = 2020-03-27 13:00:00, number of deaths =  139, number of infected = 32655\n",
      "2020-06-27 10:08:17,697 - june.simulator - INFO - Date = 2020-03-28 00:00:00, number of deaths =  142, number of infected = 31742\n",
      "2020-06-27 10:08:19,206 - june.simulator - INFO - Date = 2020-03-28 04:00:00, number of deaths =  143, number of infected = 31373\n",
      "2020-06-27 10:08:20,671 - june.simulator - INFO - Date = 2020-03-28 08:00:00, number of deaths =  145, number of infected = 30996\n",
      "2020-06-27 10:08:22,007 - june.simulator - INFO - Date = 2020-03-28 12:00:00, number of deaths =  146, number of infected = 30616\n",
      "2020-06-27 10:08:23,200 - june.simulator - INFO - Date = 2020-03-29 00:00:00, number of deaths =  147, number of infected = 29491\n",
      "2020-06-27 10:08:24,310 - june.simulator - INFO - Date = 2020-03-29 04:00:00, number of deaths =  149, number of infected = 29121\n",
      "2020-06-27 10:08:25,388 - june.simulator - INFO - Date = 2020-03-29 08:00:00, number of deaths =  152, number of infected = 28747\n",
      "2020-06-27 10:08:26,259 - june.simulator - INFO - Date = 2020-03-29 12:00:00, number of deaths =  152, number of infected = 28345\n",
      "2020-06-27 10:08:27,209 - june.simulator - INFO - Date = 2020-03-30 00:00:00, number of deaths =  157, number of infected = 27058\n",
      "2020-06-27 10:08:28,223 - june.simulator - INFO - Date = 2020-03-30 01:00:00, number of deaths =  157, number of infected = 26951\n",
      "2020-06-27 10:08:29,452 - june.simulator - INFO - Date = 2020-03-30 05:00:00, number of deaths =  159, number of infected = 26514\n",
      "2020-06-27 10:08:30,402 - june.simulator - INFO - Date = 2020-03-30 09:00:00, number of deaths =  161, number of infected = 26130\n",
      "2020-06-27 10:08:32,065 - june.simulator - INFO - Date = 2020-03-30 10:00:00, number of deaths =  161, number of infected = 26015\n",
      "2020-06-27 10:08:33,335 - june.simulator - INFO - Date = 2020-03-30 13:00:00, number of deaths =  167, number of infected = 25721\n",
      "2020-06-27 10:08:34,344 - june.simulator - INFO - Date = 2020-03-31 00:00:00, number of deaths =  172, number of infected = 24571\n",
      "2020-06-27 10:08:35,544 - june.simulator - INFO - Date = 2020-03-31 01:00:00, number of deaths =  173, number of infected = 24476\n",
      "2020-06-27 10:08:36,708 - june.simulator - INFO - Date = 2020-03-31 05:00:00, number of deaths =  174, number of infected = 24045\n",
      "2020-06-27 10:08:37,592 - june.simulator - INFO - Date = 2020-03-31 09:00:00, number of deaths =  174, number of infected = 23621\n",
      "2020-06-27 10:08:38,582 - june.simulator - INFO - Date = 2020-03-31 10:00:00, number of deaths =  174, number of infected = 23504\n",
      "2020-06-27 10:08:39,429 - june.simulator - INFO - Date = 2020-03-31 13:00:00, number of deaths =  174, number of infected = 23178\n",
      "2020-06-27 10:08:40,535 - june.simulator - INFO - Date = 2020-04-01 00:00:00, number of deaths =  174, number of infected = 22038\n",
      "2020-06-27 10:08:42,134 - june.simulator - INFO - Date = 2020-04-01 01:00:00, number of deaths =  175, number of infected = 21904\n",
      "2020-06-27 10:08:43,523 - june.simulator - INFO - Date = 2020-04-01 05:00:00, number of deaths =  176, number of infected = 21495\n",
      "2020-06-27 10:08:44,546 - june.simulator - INFO - Date = 2020-04-01 09:00:00, number of deaths =  177, number of infected = 21127\n",
      "2020-06-27 10:08:45,675 - june.simulator - INFO - Date = 2020-04-01 10:00:00, number of deaths =  177, number of infected = 21033\n",
      "2020-06-27 10:08:46,643 - june.simulator - INFO - Date = 2020-04-01 13:00:00, number of deaths =  177, number of infected = 20738\n",
      "2020-06-27 10:08:47,669 - june.simulator - INFO - Date = 2020-04-02 00:00:00, number of deaths =  179, number of infected = 19643\n",
      "2020-06-27 10:08:48,881 - june.simulator - INFO - Date = 2020-04-02 01:00:00, number of deaths =  180, number of infected = 19541\n",
      "2020-06-27 10:08:50,114 - june.simulator - INFO - Date = 2020-04-02 05:00:00, number of deaths =  182, number of infected = 19136\n",
      "2020-06-27 10:08:51,288 - june.simulator - INFO - Date = 2020-04-02 09:00:00, number of deaths =  183, number of infected = 18759\n",
      "2020-06-27 10:08:52,712 - june.simulator - INFO - Date = 2020-04-02 10:00:00, number of deaths =  183, number of infected = 18655\n",
      "2020-06-27 10:08:53,965 - june.simulator - INFO - Date = 2020-04-02 13:00:00, number of deaths =  184, number of infected = 18365\n",
      "2020-06-27 10:08:55,275 - june.simulator - INFO - Date = 2020-04-03 00:00:00, number of deaths =  185, number of infected = 17298\n",
      "2020-06-27 10:08:56,289 - june.simulator - INFO - Date = 2020-04-03 01:00:00, number of deaths =  185, number of infected = 17209\n",
      "2020-06-27 10:08:57,970 - june.simulator - INFO - Date = 2020-04-03 05:00:00, number of deaths =  186, number of infected = 16832\n",
      "2020-06-27 10:08:58,981 - june.simulator - INFO - Date = 2020-04-03 09:00:00, number of deaths =  186, number of infected = 16452\n",
      "2020-06-27 10:08:59,970 - june.simulator - INFO - Date = 2020-04-03 10:00:00, number of deaths =  186, number of infected = 16350\n",
      "2020-06-27 10:09:00,775 - june.simulator - INFO - Date = 2020-04-03 13:00:00, number of deaths =  186, number of infected = 16082\n",
      "2020-06-27 10:09:01,838 - june.simulator - INFO - Date = 2020-04-04 00:00:00, number of deaths =  187, number of infected = 15082\n",
      "2020-06-27 10:09:02,912 - june.simulator - INFO - Date = 2020-04-04 04:00:00, number of deaths =  188, number of infected = 14691\n",
      "2020-06-27 10:09:03,922 - june.simulator - INFO - Date = 2020-04-04 08:00:00, number of deaths =  189, number of infected = 14343\n",
      "2020-06-27 10:09:04,874 - june.simulator - INFO - Date = 2020-04-04 12:00:00, number of deaths =  189, number of infected = 13988\n",
      "2020-06-27 10:09:05,954 - june.simulator - INFO - Date = 2020-04-05 00:00:00, number of deaths =  189, number of infected = 12956\n",
      "2020-06-27 10:09:06,909 - june.simulator - INFO - Date = 2020-04-05 04:00:00, number of deaths =  189, number of infected = 12620\n"
     ]
    },
    {
     "name": "stdout",
     "output_type": "stream",
     "text": [
      "2020-06-27 10:09:07,913 - june.simulator - INFO - Date = 2020-04-05 08:00:00, number of deaths =  190, number of infected = 12311\n",
      "2020-06-27 10:09:08,779 - june.simulator - INFO - Date = 2020-04-05 12:00:00, number of deaths =  191, number of infected = 11937\n",
      "2020-06-27 10:09:09,574 - june.simulator - INFO - Date = 2020-04-06 00:00:00, number of deaths =  192, number of infected = 10946\n",
      "2020-06-27 10:09:10,509 - june.simulator - INFO - Date = 2020-04-06 01:00:00, number of deaths =  192, number of infected = 10879\n",
      "2020-06-27 10:09:11,575 - june.simulator - INFO - Date = 2020-04-06 05:00:00, number of deaths =  193, number of infected = 10555\n",
      "2020-06-27 10:09:12,440 - june.simulator - INFO - Date = 2020-04-06 09:00:00, number of deaths =  194, number of infected = 10258\n",
      "2020-06-27 10:09:13,499 - june.simulator - INFO - Date = 2020-04-06 10:00:00, number of deaths =  194, number of infected = 10177\n",
      "2020-06-27 10:09:14,352 - june.simulator - INFO - Date = 2020-04-06 13:00:00, number of deaths =  194, number of infected = 9925\n",
      "2020-06-27 10:09:15,210 - june.simulator - INFO - Date = 2020-04-07 00:00:00, number of deaths =  195, number of infected = 9092\n",
      "2020-06-27 10:09:16,228 - june.simulator - INFO - Date = 2020-04-07 01:00:00, number of deaths =  195, number of infected = 9025\n",
      "2020-06-27 10:09:17,228 - june.simulator - INFO - Date = 2020-04-07 05:00:00, number of deaths =  195, number of infected = 8740\n",
      "2020-06-27 10:09:18,180 - june.simulator - INFO - Date = 2020-04-07 09:00:00, number of deaths =  196, number of infected = 8485\n",
      "2020-06-27 10:09:19,099 - june.simulator - INFO - Date = 2020-04-07 10:00:00, number of deaths =  196, number of infected = 8406\n",
      "2020-06-27 10:09:19,920 - june.simulator - INFO - Date = 2020-04-07 13:00:00, number of deaths =  197, number of infected = 8210\n",
      "2020-06-27 10:09:20,652 - june.simulator - INFO - Date = 2020-04-08 00:00:00, number of deaths =  199, number of infected = 7475\n",
      "2020-06-27 10:09:21,851 - june.simulator - INFO - Date = 2020-04-08 01:00:00, number of deaths =  199, number of infected = 7410\n",
      "2020-06-27 10:09:22,886 - june.simulator - INFO - Date = 2020-04-08 05:00:00, number of deaths =  199, number of infected = 7179\n",
      "2020-06-27 10:09:23,833 - june.simulator - INFO - Date = 2020-04-08 09:00:00, number of deaths =  199, number of infected = 6969\n",
      "2020-06-27 10:09:24,931 - june.simulator - INFO - Date = 2020-04-08 10:00:00, number of deaths =  199, number of infected = 6909\n",
      "2020-06-27 10:09:25,673 - june.simulator - INFO - Date = 2020-04-08 13:00:00, number of deaths =  199, number of infected = 6739\n",
      "2020-06-27 10:09:26,371 - june.simulator - INFO - Date = 2020-04-09 00:00:00, number of deaths =  200, number of infected = 6138\n",
      "2020-06-27 10:09:27,258 - june.simulator - INFO - Date = 2020-04-09 01:00:00, number of deaths =  200, number of infected = 6089\n",
      "2020-06-27 10:09:28,320 - june.simulator - INFO - Date = 2020-04-09 05:00:00, number of deaths =  201, number of infected = 5872\n",
      "2020-06-27 10:09:29,278 - june.simulator - INFO - Date = 2020-04-09 09:00:00, number of deaths =  201, number of infected = 5662\n",
      "2020-06-27 10:09:30,206 - june.simulator - INFO - Date = 2020-04-09 10:00:00, number of deaths =  201, number of infected = 5618\n",
      "2020-06-27 10:09:30,871 - june.simulator - INFO - Date = 2020-04-09 13:00:00, number of deaths =  201, number of infected = 5478\n",
      "2020-06-27 10:09:31,625 - june.simulator - INFO - Date = 2020-04-10 00:00:00, number of deaths =  201, number of infected = 4985\n",
      "2020-06-27 10:09:32,497 - june.simulator - INFO - Date = 2020-04-10 01:00:00, number of deaths =  201, number of infected = 4953\n",
      "2020-06-27 10:09:33,864 - june.simulator - INFO - Date = 2020-04-10 05:00:00, number of deaths =  201, number of infected = 4793\n",
      "2020-06-27 10:09:34,983 - june.simulator - INFO - Date = 2020-04-10 09:00:00, number of deaths =  202, number of infected = 4585\n",
      "2020-06-27 10:09:36,444 - june.simulator - INFO - Date = 2020-04-10 10:00:00, number of deaths =  202, number of infected = 4540\n",
      "2020-06-27 10:09:37,713 - june.simulator - INFO - Date = 2020-04-10 13:00:00, number of deaths =  202, number of infected = 4413\n",
      "2020-06-27 10:09:38,894 - june.simulator - INFO - Date = 2020-04-11 00:00:00, number of deaths =  202, number of infected = 3993\n",
      "2020-06-27 10:09:39,867 - june.simulator - INFO - Date = 2020-04-11 04:00:00, number of deaths =  202, number of infected = 3848\n",
      "2020-06-27 10:09:40,738 - june.simulator - INFO - Date = 2020-04-11 08:00:00, number of deaths =  203, number of infected = 3687\n",
      "2020-06-27 10:09:41,410 - june.simulator - INFO - Date = 2020-04-11 12:00:00, number of deaths =  204, number of infected = 3524\n",
      "2020-06-27 10:09:42,242 - june.simulator - INFO - Date = 2020-04-12 00:00:00, number of deaths =  204, number of infected = 3152\n",
      "2020-06-27 10:09:43,107 - june.simulator - INFO - Date = 2020-04-12 04:00:00, number of deaths =  204, number of infected = 3037\n",
      "2020-06-27 10:09:43,959 - june.simulator - INFO - Date = 2020-04-12 08:00:00, number of deaths =  205, number of infected = 2908\n",
      "2020-06-27 10:09:44,625 - june.simulator - INFO - Date = 2020-04-12 12:00:00, number of deaths =  206, number of infected = 2796\n",
      "2020-06-27 10:09:45,482 - june.simulator - INFO - Date = 2020-04-13 00:00:00, number of deaths =  206, number of infected = 2463\n",
      "2020-06-27 10:09:46,424 - june.simulator - INFO - Date = 2020-04-13 01:00:00, number of deaths =  206, number of infected = 2439\n",
      "2020-06-27 10:09:47,413 - june.simulator - INFO - Date = 2020-04-13 05:00:00, number of deaths =  206, number of infected = 2326\n",
      "2020-06-27 10:09:48,213 - june.simulator - INFO - Date = 2020-04-13 09:00:00, number of deaths =  206, number of infected = 2256\n",
      "2020-06-27 10:09:49,174 - june.simulator - INFO - Date = 2020-04-13 10:00:00, number of deaths =  206, number of infected = 2236\n",
      "2020-06-27 10:09:49,890 - june.simulator - INFO - Date = 2020-04-13 13:00:00, number of deaths =  206, number of infected = 2156\n",
      "2020-06-27 10:09:50,645 - june.simulator - INFO - Date = 2020-04-14 00:00:00, number of deaths =  206, number of infected = 1947\n",
      "2020-06-27 10:09:51,657 - june.simulator - INFO - Date = 2020-04-14 01:00:00, number of deaths =  206, number of infected = 1928\n",
      "2020-06-27 10:09:52,631 - june.simulator - INFO - Date = 2020-04-14 05:00:00, number of deaths =  206, number of infected = 1843\n",
      "2020-06-27 10:09:53,384 - june.simulator - INFO - Date = 2020-04-14 09:00:00, number of deaths =  206, number of infected = 1747\n",
      "2020-06-27 10:09:54,345 - june.simulator - INFO - Date = 2020-04-14 10:00:00, number of deaths =  206, number of infected = 1734\n",
      "2020-06-27 10:09:55,101 - june.simulator - INFO - Date = 2020-04-14 13:00:00, number of deaths =  206, number of infected = 1677\n",
      "2020-06-27 10:09:55,926 - june.simulator - INFO - Date = 2020-04-15 00:00:00, number of deaths =  206, number of infected = 1505\n",
      "2020-06-27 10:09:56,776 - june.simulator - INFO - Date = 2020-04-15 01:00:00, number of deaths =  206, number of infected = 1486\n",
      "2020-06-27 10:09:57,659 - june.simulator - INFO - Date = 2020-04-15 05:00:00, number of deaths =  206, number of infected = 1429\n",
      "2020-06-27 10:09:58,324 - june.simulator - INFO - Date = 2020-04-15 09:00:00, number of deaths =  206, number of infected = 1372\n",
      "2020-06-27 10:09:59,293 - june.simulator - INFO - Date = 2020-04-15 10:00:00, number of deaths =  206, number of infected = 1359\n",
      "2020-06-27 10:10:00,042 - june.simulator - INFO - Date = 2020-04-15 13:00:00, number of deaths =  206, number of infected = 1328\n",
      "2020-06-27 10:10:00,789 - june.simulator - INFO - Date = 2020-04-16 00:00:00, number of deaths =  206, number of infected = 1185\n",
      "2020-06-27 10:10:01,622 - june.simulator - INFO - Date = 2020-04-16 01:00:00, number of deaths =  206, number of infected = 1172\n",
      "2020-06-27 10:10:02,455 - june.simulator - INFO - Date = 2020-04-16 05:00:00, number of deaths =  206, number of infected = 1132\n",
      "2020-06-27 10:10:03,085 - june.simulator - INFO - Date = 2020-04-16 09:00:00, number of deaths =  206, number of infected = 1090\n",
      "2020-06-27 10:10:03,882 - june.simulator - INFO - Date = 2020-04-16 10:00:00, number of deaths =  206, number of infected = 1083\n",
      "2020-06-27 10:10:04,530 - june.simulator - INFO - Date = 2020-04-16 13:00:00, number of deaths =  206, number of infected = 1052\n"
     ]
    },
    {
     "name": "stdout",
     "output_type": "stream",
     "text": [
      "2020-06-27 10:10:05,200 - june.simulator - INFO - Date = 2020-04-17 00:00:00, number of deaths =  207, number of infected = 936\n",
      "2020-06-27 10:10:06,052 - june.simulator - INFO - Date = 2020-04-17 01:00:00, number of deaths =  207, number of infected = 925\n",
      "2020-06-27 10:10:06,872 - june.simulator - INFO - Date = 2020-04-17 05:00:00, number of deaths =  207, number of infected = 883\n",
      "2020-06-27 10:10:07,524 - june.simulator - INFO - Date = 2020-04-17 09:00:00, number of deaths =  207, number of infected = 855\n",
      "2020-06-27 10:10:08,319 - june.simulator - INFO - Date = 2020-04-17 10:00:00, number of deaths =  207, number of infected = 840\n",
      "2020-06-27 10:10:08,936 - june.simulator - INFO - Date = 2020-04-17 13:00:00, number of deaths =  207, number of infected = 813\n",
      "2020-06-27 10:10:09,756 - june.simulator - INFO - Date = 2020-04-18 00:00:00, number of deaths =  208, number of infected = 734\n",
      "2020-06-27 10:10:10,585 - june.simulator - INFO - Date = 2020-04-18 04:00:00, number of deaths =  208, number of infected = 703\n",
      "2020-06-27 10:10:11,392 - june.simulator - INFO - Date = 2020-04-18 08:00:00, number of deaths =  208, number of infected = 667\n",
      "2020-06-27 10:10:12,114 - june.simulator - INFO - Date = 2020-04-18 12:00:00, number of deaths =  208, number of infected = 646\n",
      "2020-06-27 10:10:13,059 - june.simulator - INFO - Date = 2020-04-19 00:00:00, number of deaths =  208, number of infected = 563\n",
      "2020-06-27 10:10:14,011 - june.simulator - INFO - Date = 2020-04-19 04:00:00, number of deaths =  208, number of infected = 540\n",
      "2020-06-27 10:10:14,986 - june.simulator - INFO - Date = 2020-04-19 08:00:00, number of deaths =  208, number of infected = 521\n",
      "2020-06-27 10:10:15,717 - june.simulator - INFO - Date = 2020-04-19 12:00:00, number of deaths =  208, number of infected = 503\n",
      "2020-06-27 10:10:16,355 - june.simulator - INFO - Date = 2020-04-20 00:00:00, number of deaths =  210, number of infected = 445\n",
      "2020-06-27 10:10:17,297 - june.simulator - INFO - Date = 2020-04-20 01:00:00, number of deaths =  210, number of infected = 441\n",
      "2020-06-27 10:10:18,128 - june.simulator - INFO - Date = 2020-04-20 05:00:00, number of deaths =  210, number of infected = 428\n",
      "2020-06-27 10:10:18,924 - june.simulator - INFO - Date = 2020-04-20 09:00:00, number of deaths =  210, number of infected = 407\n",
      "2020-06-27 10:10:20,567 - june.simulator - INFO - Date = 2020-04-20 10:00:00, number of deaths =  210, number of infected = 398\n",
      "2020-06-27 10:10:21,831 - june.simulator - INFO - Date = 2020-04-20 13:00:00, number of deaths =  210, number of infected = 390\n",
      "2020-06-27 10:10:22,674 - june.simulator - INFO - Date = 2020-04-21 00:00:00, number of deaths =  210, number of infected = 346\n",
      "2020-06-27 10:10:23,846 - june.simulator - INFO - Date = 2020-04-21 01:00:00, number of deaths =  210, number of infected = 342\n",
      "2020-06-27 10:10:24,828 - june.simulator - INFO - Date = 2020-04-21 05:00:00, number of deaths =  210, number of infected = 331\n",
      "2020-06-27 10:10:25,558 - june.simulator - INFO - Date = 2020-04-21 09:00:00, number of deaths =  210, number of infected = 318\n",
      "2020-06-27 10:10:26,479 - june.simulator - INFO - Date = 2020-04-21 10:00:00, number of deaths =  210, number of infected = 314\n",
      "2020-06-27 10:10:27,232 - june.simulator - INFO - Date = 2020-04-21 13:00:00, number of deaths =  210, number of infected = 308\n",
      "2020-06-27 10:10:27,925 - june.simulator - INFO - Date = 2020-04-22 00:00:00, number of deaths =  210, number of infected = 284\n",
      "2020-06-27 10:10:28,951 - june.simulator - INFO - Date = 2020-04-22 01:00:00, number of deaths =  210, number of infected = 283\n",
      "2020-06-27 10:10:30,125 - june.simulator - INFO - Date = 2020-04-22 05:00:00, number of deaths =  210, number of infected = 276\n",
      "2020-06-27 10:10:31,124 - june.simulator - INFO - Date = 2020-04-22 09:00:00, number of deaths =  210, number of infected = 269\n",
      "2020-06-27 10:10:32,611 - june.simulator - INFO - Date = 2020-04-22 10:00:00, number of deaths =  210, number of infected = 267\n",
      "2020-06-27 10:10:33,498 - june.simulator - INFO - Date = 2020-04-22 13:00:00, number of deaths =  210, number of infected = 261\n",
      "2020-06-27 10:10:34,356 - june.simulator - INFO - Date = 2020-04-23 00:00:00, number of deaths =  210, number of infected = 244\n",
      "2020-06-27 10:10:35,317 - june.simulator - INFO - Date = 2020-04-23 01:00:00, number of deaths =  210, number of infected = 243\n",
      "2020-06-27 10:10:36,332 - june.simulator - INFO - Date = 2020-04-23 05:00:00, number of deaths =  210, number of infected = 232\n",
      "2020-06-27 10:10:37,289 - june.simulator - INFO - Date = 2020-04-23 09:00:00, number of deaths =  210, number of infected = 225\n",
      "2020-06-27 10:10:38,377 - june.simulator - INFO - Date = 2020-04-23 10:00:00, number of deaths =  210, number of infected = 225\n",
      "2020-06-27 10:10:39,248 - june.simulator - INFO - Date = 2020-04-23 13:00:00, number of deaths =  210, number of infected = 222\n",
      "2020-06-27 10:10:40,181 - june.simulator - INFO - Date = 2020-04-24 00:00:00, number of deaths =  210, number of infected = 203\n",
      "2020-06-27 10:10:41,946 - june.simulator - INFO - Date = 2020-04-24 01:00:00, number of deaths =  210, number of infected = 202\n",
      "2020-06-27 10:10:43,366 - june.simulator - INFO - Date = 2020-04-24 05:00:00, number of deaths =  210, number of infected = 197\n",
      "2020-06-27 10:10:44,063 - june.simulator - INFO - Date = 2020-04-24 09:00:00, number of deaths =  210, number of infected = 188\n",
      "2020-06-27 10:10:44,861 - june.simulator - INFO - Date = 2020-04-24 10:00:00, number of deaths =  210, number of infected = 185\n",
      "2020-06-27 10:10:45,474 - june.simulator - INFO - Date = 2020-04-24 13:00:00, number of deaths =  210, number of infected = 176\n",
      "2020-06-27 10:10:46,249 - june.simulator - INFO - Date = 2020-04-25 00:00:00, number of deaths =  210, number of infected = 162\n",
      "2020-06-27 10:10:47,146 - june.simulator - INFO - Date = 2020-04-25 04:00:00, number of deaths =  210, number of infected = 156\n",
      "2020-06-27 10:10:48,113 - june.simulator - INFO - Date = 2020-04-25 08:00:00, number of deaths =  210, number of infected = 153\n",
      "2020-06-27 10:10:48,840 - june.simulator - INFO - Date = 2020-04-25 12:00:00, number of deaths =  210, number of infected = 147\n",
      "2020-06-27 10:10:49,778 - june.simulator - INFO - Date = 2020-04-26 00:00:00, number of deaths =  210, number of infected = 137\n",
      "2020-06-27 10:10:50,594 - june.simulator - INFO - Date = 2020-04-26 04:00:00, number of deaths =  210, number of infected = 134\n",
      "2020-06-27 10:10:51,449 - june.simulator - INFO - Date = 2020-04-26 08:00:00, number of deaths =  210, number of infected = 128\n",
      "2020-06-27 10:10:52,172 - june.simulator - INFO - Date = 2020-04-26 12:00:00, number of deaths =  210, number of infected = 126\n",
      "2020-06-27 10:10:52,815 - june.simulator - INFO - Date = 2020-04-27 00:00:00, number of deaths =  210, number of infected = 122\n",
      "2020-06-27 10:10:53,797 - june.simulator - INFO - Date = 2020-04-27 01:00:00, number of deaths =  210, number of infected = 122\n",
      "2020-06-27 10:10:54,779 - june.simulator - INFO - Date = 2020-04-27 05:00:00, number of deaths =  210, number of infected = 118\n",
      "2020-06-27 10:10:55,507 - june.simulator - INFO - Date = 2020-04-27 09:00:00, number of deaths =  210, number of infected = 111\n",
      "2020-06-27 10:10:56,421 - june.simulator - INFO - Date = 2020-04-27 10:00:00, number of deaths =  210, number of infected = 111\n",
      "2020-06-27 10:10:57,132 - june.simulator - INFO - Date = 2020-04-27 13:00:00, number of deaths =  210, number of infected = 108\n",
      "2020-06-27 10:10:57,874 - june.simulator - INFO - Date = 2020-04-28 00:00:00, number of deaths =  210, number of infected = 91\n",
      "2020-06-27 10:10:58,888 - june.simulator - INFO - Date = 2020-04-28 01:00:00, number of deaths =  210, number of infected = 90\n",
      "2020-06-27 10:10:59,945 - june.simulator - INFO - Date = 2020-04-28 05:00:00, number of deaths =  210, number of infected = 87\n",
      "2020-06-27 10:11:00,768 - june.simulator - INFO - Date = 2020-04-28 09:00:00, number of deaths =  210, number of infected = 84\n",
      "2020-06-27 10:11:01,792 - june.simulator - INFO - Date = 2020-04-28 10:00:00, number of deaths =  210, number of infected = 84\n",
      "2020-06-27 10:11:02,409 - june.simulator - INFO - Date = 2020-04-28 13:00:00, number of deaths =  210, number of infected = 83\n",
      "2020-06-27 10:11:03,047 - june.simulator - INFO - Date = 2020-04-29 00:00:00, number of deaths =  210, number of infected = 72\n"
     ]
    },
    {
     "name": "stdout",
     "output_type": "stream",
     "text": [
      "2020-06-27 10:11:03,866 - june.simulator - INFO - Date = 2020-04-29 01:00:00, number of deaths =  210, number of infected = 71\n",
      "2020-06-27 10:11:04,810 - june.simulator - INFO - Date = 2020-04-29 05:00:00, number of deaths =  210, number of infected = 67\n",
      "2020-06-27 10:11:05,534 - june.simulator - INFO - Date = 2020-04-29 09:00:00, number of deaths =  210, number of infected = 66\n",
      "2020-06-27 10:11:06,300 - june.simulator - INFO - Date = 2020-04-29 10:00:00, number of deaths =  210, number of infected = 64\n",
      "2020-06-27 10:11:06,897 - june.simulator - INFO - Date = 2020-04-29 13:00:00, number of deaths =  210, number of infected = 63\n",
      "2020-06-27 10:11:07,511 - june.simulator - INFO - Date = 2020-04-30 00:00:00, number of deaths =  210, number of infected = 56\n",
      "2020-06-27 10:11:08,433 - june.simulator - INFO - Date = 2020-04-30 01:00:00, number of deaths =  210, number of infected = 56\n",
      "2020-06-27 10:11:09,278 - june.simulator - INFO - Date = 2020-04-30 05:00:00, number of deaths =  210, number of infected = 54\n",
      "2020-06-27 10:11:09,909 - june.simulator - INFO - Date = 2020-04-30 09:00:00, number of deaths =  210, number of infected = 52\n",
      "2020-06-27 10:11:10,677 - june.simulator - INFO - Date = 2020-04-30 10:00:00, number of deaths =  210, number of infected = 51\n",
      "2020-06-27 10:11:11,268 - june.simulator - INFO - Date = 2020-04-30 13:00:00, number of deaths =  210, number of infected = 51\n",
      "2020-06-27 10:11:11,927 - june.simulator - INFO - Date = 2020-05-01 00:00:00, number of deaths =  210, number of infected = 48\n",
      "2020-06-27 10:11:12,737 - june.simulator - INFO - Date = 2020-05-01 01:00:00, number of deaths =  210, number of infected = 48\n",
      "2020-06-27 10:11:13,544 - june.simulator - INFO - Date = 2020-05-01 05:00:00, number of deaths =  210, number of infected = 46\n",
      "2020-06-27 10:11:14,170 - june.simulator - INFO - Date = 2020-05-01 09:00:00, number of deaths =  210, number of infected = 43\n",
      "2020-06-27 10:11:14,924 - june.simulator - INFO - Date = 2020-05-01 10:00:00, number of deaths =  210, number of infected = 43\n",
      "2020-06-27 10:11:15,502 - june.simulator - INFO - Date = 2020-05-01 13:00:00, number of deaths =  210, number of infected = 43\n",
      "2020-06-27 10:11:16,314 - june.simulator - INFO - Date = 2020-05-02 00:00:00, number of deaths =  210, number of infected = 37\n",
      "2020-06-27 10:11:17,163 - june.simulator - INFO - Date = 2020-05-02 04:00:00, number of deaths =  210, number of infected = 37\n",
      "2020-06-27 10:11:18,091 - june.simulator - INFO - Date = 2020-05-02 08:00:00, number of deaths =  210, number of infected = 35\n",
      "2020-06-27 10:11:18,705 - june.simulator - INFO - Date = 2020-05-02 12:00:00, number of deaths =  210, number of infected = 35\n",
      "2020-06-27 10:11:19,521 - june.simulator - INFO - Date = 2020-05-03 00:00:00, number of deaths =  210, number of infected = 29\n",
      "2020-06-27 10:11:20,326 - june.simulator - INFO - Date = 2020-05-03 04:00:00, number of deaths =  210, number of infected = 28\n",
      "2020-06-27 10:11:21,115 - june.simulator - INFO - Date = 2020-05-03 08:00:00, number of deaths =  210, number of infected = 27\n",
      "2020-06-27 10:11:21,692 - june.simulator - INFO - Date = 2020-05-03 12:00:00, number of deaths =  210, number of infected = 24\n",
      "2020-06-27 10:11:22,398 - june.simulator - INFO - Date = 2020-05-04 00:00:00, number of deaths =  210, number of infected = 20\n",
      "2020-06-27 10:11:23,469 - june.simulator - INFO - Date = 2020-05-04 01:00:00, number of deaths =  210, number of infected = 20\n",
      "2020-06-27 10:11:24,498 - june.simulator - INFO - Date = 2020-05-04 05:00:00, number of deaths =  210, number of infected = 19\n",
      "2020-06-27 10:11:25,217 - june.simulator - INFO - Date = 2020-05-04 09:00:00, number of deaths =  210, number of infected = 19\n",
      "2020-06-27 10:11:26,130 - june.simulator - INFO - Date = 2020-05-04 10:00:00, number of deaths =  210, number of infected = 19\n",
      "2020-06-27 10:11:26,835 - june.simulator - INFO - Date = 2020-05-04 13:00:00, number of deaths =  210, number of infected = 18\n",
      "2020-06-27 10:11:27,571 - june.simulator - INFO - Date = 2020-05-05 00:00:00, number of deaths =  210, number of infected = 16\n",
      "2020-06-27 10:11:28,381 - june.simulator - INFO - Date = 2020-05-05 01:00:00, number of deaths =  210, number of infected = 15\n",
      "2020-06-27 10:11:29,180 - june.simulator - INFO - Date = 2020-05-05 05:00:00, number of deaths =  210, number of infected = 15\n",
      "2020-06-27 10:11:29,780 - june.simulator - INFO - Date = 2020-05-05 09:00:00, number of deaths =  210, number of infected = 14\n",
      "2020-06-27 10:11:30,519 - june.simulator - INFO - Date = 2020-05-05 10:00:00, number of deaths =  210, number of infected = 14\n",
      "2020-06-27 10:11:31,215 - june.simulator - INFO - Date = 2020-05-05 13:00:00, number of deaths =  210, number of infected = 14\n",
      "2020-06-27 10:11:31,937 - june.simulator - INFO - Date = 2020-05-06 00:00:00, number of deaths =  210, number of infected = 11\n",
      "2020-06-27 10:11:32,929 - june.simulator - INFO - Date = 2020-05-06 01:00:00, number of deaths =  210, number of infected = 11\n",
      "2020-06-27 10:11:33,884 - june.simulator - INFO - Date = 2020-05-06 05:00:00, number of deaths =  210, number of infected = 9\n",
      "2020-06-27 10:11:34,487 - june.simulator - INFO - Date = 2020-05-06 09:00:00, number of deaths =  210, number of infected = 9\n",
      "2020-06-27 10:11:35,277 - june.simulator - INFO - Date = 2020-05-06 10:00:00, number of deaths =  210, number of infected = 9\n",
      "2020-06-27 10:11:35,875 - june.simulator - INFO - Date = 2020-05-06 13:00:00, number of deaths =  210, number of infected = 9\n",
      "2020-06-27 10:11:36,595 - june.simulator - INFO - Date = 2020-05-07 00:00:00, number of deaths =  210, number of infected = 8\n",
      "2020-06-27 10:11:37,440 - june.simulator - INFO - Date = 2020-05-07 01:00:00, number of deaths =  210, number of infected = 8\n",
      "2020-06-27 10:11:38,229 - june.simulator - INFO - Date = 2020-05-07 05:00:00, number of deaths =  210, number of infected = 8\n",
      "2020-06-27 10:11:38,849 - june.simulator - INFO - Date = 2020-05-07 09:00:00, number of deaths =  210, number of infected = 8\n",
      "2020-06-27 10:11:39,608 - june.simulator - INFO - Date = 2020-05-07 10:00:00, number of deaths =  210, number of infected = 8\n",
      "2020-06-27 10:11:40,192 - june.simulator - INFO - Date = 2020-05-07 13:00:00, number of deaths =  210, number of infected = 7\n",
      "2020-06-27 10:11:40,801 - june.simulator - INFO - Date = 2020-05-08 00:00:00, number of deaths =  210, number of infected = 7\n",
      "2020-06-27 10:11:41,559 - june.simulator - INFO - Date = 2020-05-08 01:00:00, number of deaths =  210, number of infected = 7\n",
      "2020-06-27 10:11:42,339 - june.simulator - INFO - Date = 2020-05-08 05:00:00, number of deaths =  210, number of infected = 6\n",
      "2020-06-27 10:11:42,946 - june.simulator - INFO - Date = 2020-05-08 09:00:00, number of deaths =  210, number of infected = 5\n",
      "2020-06-27 10:11:43,873 - june.simulator - INFO - Date = 2020-05-08 10:00:00, number of deaths =  210, number of infected = 5\n",
      "2020-06-27 10:11:44,583 - june.simulator - INFO - Date = 2020-05-08 13:00:00, number of deaths =  210, number of infected = 5\n",
      "2020-06-27 10:11:45,530 - june.simulator - INFO - Date = 2020-05-09 00:00:00, number of deaths =  210, number of infected = 4\n",
      "2020-06-27 10:11:46,275 - june.simulator - INFO - Date = 2020-05-09 04:00:00, number of deaths =  210, number of infected = 4\n",
      "2020-06-27 10:11:47,207 - june.simulator - INFO - Date = 2020-05-09 08:00:00, number of deaths =  210, number of infected = 4\n",
      "2020-06-27 10:11:47,933 - june.simulator - INFO - Date = 2020-05-09 12:00:00, number of deaths =  210, number of infected = 4\n",
      "2020-06-27 10:11:48,934 - june.simulator - INFO - Date = 2020-05-10 00:00:00, number of deaths =  210, number of infected = 3\n",
      "2020-06-27 10:11:49,907 - june.simulator - INFO - Date = 2020-05-10 04:00:00, number of deaths =  210, number of infected = 3\n",
      "2020-06-27 10:11:50,894 - june.simulator - INFO - Date = 2020-05-10 08:00:00, number of deaths =  210, number of infected = 3\n",
      "2020-06-27 10:11:51,632 - june.simulator - INFO - Date = 2020-05-10 12:00:00, number of deaths =  210, number of infected = 3\n",
      "2020-06-27 10:11:52,372 - june.simulator - INFO - Date = 2020-05-11 00:00:00, number of deaths =  210, number of infected = 3\n",
      "2020-06-27 10:11:53,324 - june.simulator - INFO - Date = 2020-05-11 01:00:00, number of deaths =  210, number of infected = 3\n"
     ]
    },
    {
     "name": "stdout",
     "output_type": "stream",
     "text": [
      "2020-06-27 10:11:54,405 - june.simulator - INFO - Date = 2020-05-11 05:00:00, number of deaths =  210, number of infected = 3\n",
      "2020-06-27 10:11:55,222 - june.simulator - INFO - Date = 2020-05-11 09:00:00, number of deaths =  210, number of infected = 2\n",
      "2020-06-27 10:11:56,177 - june.simulator - INFO - Date = 2020-05-11 10:00:00, number of deaths =  210, number of infected = 2\n",
      "2020-06-27 10:11:57,213 - june.simulator - INFO - Date = 2020-05-11 13:00:00, number of deaths =  210, number of infected = 2\n",
      "2020-06-27 10:11:57,983 - june.simulator - INFO - Date = 2020-05-12 00:00:00, number of deaths =  210, number of infected = 1\n",
      "2020-06-27 10:11:59,162 - june.simulator - INFO - Date = 2020-05-12 01:00:00, number of deaths =  210, number of infected = 1\n",
      "2020-06-27 10:11:59,982 - june.simulator - INFO - Date = 2020-05-12 05:00:00, number of deaths =  210, number of infected = 1\n",
      "2020-06-27 10:12:00,820 - june.simulator - INFO - Date = 2020-05-12 09:00:00, number of deaths =  210, number of infected = 1\n",
      "2020-06-27 10:12:02,224 - june.simulator - INFO - Date = 2020-05-12 10:00:00, number of deaths =  210, number of infected = 1\n",
      "2020-06-27 10:12:03,121 - june.simulator - INFO - Date = 2020-05-12 13:00:00, number of deaths =  210, number of infected = 1\n",
      "2020-06-27 10:12:03,950 - june.simulator - INFO - Date = 2020-05-13 00:00:00, number of deaths =  210, number of infected = 0\n",
      "2020-06-27 10:12:05,302 - june.simulator - INFO - Date = 2020-05-13 01:00:00, number of deaths =  210, number of infected = 0\n",
      "2020-06-27 10:12:06,452 - june.simulator - INFO - Date = 2020-05-13 05:00:00, number of deaths =  210, number of infected = 0\n",
      "2020-06-27 10:12:07,361 - june.simulator - INFO - Date = 2020-05-13 09:00:00, number of deaths =  210, number of infected = 0\n",
      "2020-06-27 10:12:08,329 - june.simulator - INFO - Date = 2020-05-13 10:00:00, number of deaths =  210, number of infected = 0\n",
      "2020-06-27 10:12:09,063 - june.simulator - INFO - Date = 2020-05-13 13:00:00, number of deaths =  210, number of infected = 0\n",
      "2020-06-27 10:12:09,852 - june.simulator - INFO - Date = 2020-05-14 00:00:00, number of deaths =  210, number of infected = 0\n",
      "2020-06-27 10:12:10,663 - june.simulator - INFO - Date = 2020-05-14 01:00:00, number of deaths =  210, number of infected = 0\n",
      "2020-06-27 10:12:11,665 - june.simulator - INFO - Date = 2020-05-14 05:00:00, number of deaths =  210, number of infected = 0\n",
      "2020-06-27 10:12:12,264 - june.simulator - INFO - Date = 2020-05-14 09:00:00, number of deaths =  210, number of infected = 0\n",
      "2020-06-27 10:12:13,009 - june.simulator - INFO - Date = 2020-05-14 10:00:00, number of deaths =  210, number of infected = 0\n",
      "2020-06-27 10:12:13,912 - june.simulator - INFO - Date = 2020-05-14 13:00:00, number of deaths =  210, number of infected = 0\n",
      "2020-06-27 10:12:14,681 - june.simulator - INFO - Date = 2020-05-15 00:00:00, number of deaths =  210, number of infected = 0\n",
      "2020-06-27 10:12:15,524 - june.simulator - INFO - Date = 2020-05-15 01:00:00, number of deaths =  210, number of infected = 0\n",
      "2020-06-27 10:12:16,437 - june.simulator - INFO - Date = 2020-05-15 05:00:00, number of deaths =  210, number of infected = 0\n",
      "2020-06-27 10:12:17,077 - june.simulator - INFO - Date = 2020-05-15 09:00:00, number of deaths =  210, number of infected = 0\n",
      "2020-06-27 10:12:17,882 - june.simulator - INFO - Date = 2020-05-15 10:00:00, number of deaths =  210, number of infected = 0\n",
      "2020-06-27 10:12:18,635 - june.simulator - INFO - Date = 2020-05-15 13:00:00, number of deaths =  210, number of infected = 0\n",
      "2020-06-27 10:12:20,141 - june.simulator - INFO - Date = 2020-05-16 00:00:00, number of deaths =  210, number of infected = 0\n",
      "2020-06-27 10:12:21,324 - june.simulator - INFO - Date = 2020-05-16 04:00:00, number of deaths =  210, number of infected = 0\n",
      "2020-06-27 10:12:22,338 - june.simulator - INFO - Date = 2020-05-16 08:00:00, number of deaths =  210, number of infected = 0\n",
      "2020-06-27 10:12:22,955 - june.simulator - INFO - Date = 2020-05-16 12:00:00, number of deaths =  210, number of infected = 0\n",
      "2020-06-27 10:12:24,101 - june.simulator - INFO - Date = 2020-05-17 00:00:00, number of deaths =  210, number of infected = 0\n",
      "2020-06-27 10:12:25,078 - june.simulator - INFO - Date = 2020-05-17 04:00:00, number of deaths =  210, number of infected = 0\n",
      "2020-06-27 10:12:26,161 - june.simulator - INFO - Date = 2020-05-17 08:00:00, number of deaths =  210, number of infected = 0\n",
      "2020-06-27 10:12:27,025 - june.simulator - INFO - Date = 2020-05-17 12:00:00, number of deaths =  210, number of infected = 0\n",
      "2020-06-27 10:12:27,813 - june.simulator - INFO - Date = 2020-05-18 00:00:00, number of deaths =  210, number of infected = 0\n",
      "2020-06-27 10:12:28,801 - june.simulator - INFO - Date = 2020-05-18 01:00:00, number of deaths =  210, number of infected = 0\n",
      "2020-06-27 10:12:29,805 - june.simulator - INFO - Date = 2020-05-18 05:00:00, number of deaths =  210, number of infected = 0\n",
      "2020-06-27 10:12:30,563 - june.simulator - INFO - Date = 2020-05-18 09:00:00, number of deaths =  210, number of infected = 0\n",
      "2020-06-27 10:12:31,637 - june.simulator - INFO - Date = 2020-05-18 10:00:00, number of deaths =  210, number of infected = 0\n",
      "2020-06-27 10:12:32,374 - june.simulator - INFO - Date = 2020-05-18 13:00:00, number of deaths =  210, number of infected = 0\n",
      "2020-06-27 10:12:33,083 - june.simulator - INFO - Date = 2020-05-19 00:00:00, number of deaths =  210, number of infected = 0\n",
      "2020-06-27 10:12:33,982 - june.simulator - INFO - Date = 2020-05-19 01:00:00, number of deaths =  210, number of infected = 0\n",
      "2020-06-27 10:12:34,904 - june.simulator - INFO - Date = 2020-05-19 05:00:00, number of deaths =  210, number of infected = 0\n",
      "2020-06-27 10:12:35,672 - june.simulator - INFO - Date = 2020-05-19 09:00:00, number of deaths =  210, number of infected = 0\n",
      "2020-06-27 10:12:36,637 - june.simulator - INFO - Date = 2020-05-19 10:00:00, number of deaths =  210, number of infected = 0\n",
      "2020-06-27 10:12:37,349 - june.simulator - INFO - Date = 2020-05-19 13:00:00, number of deaths =  210, number of infected = 0\n",
      "2020-06-27 10:12:38,026 - june.simulator - INFO - Date = 2020-05-20 00:00:00, number of deaths =  210, number of infected = 0\n",
      "2020-06-27 10:12:39,334 - june.simulator - INFO - Date = 2020-05-20 01:00:00, number of deaths =  210, number of infected = 0\n",
      "2020-06-27 10:12:40,496 - june.simulator - INFO - Date = 2020-05-20 05:00:00, number of deaths =  210, number of infected = 0\n",
      "2020-06-27 10:12:41,486 - june.simulator - INFO - Date = 2020-05-20 09:00:00, number of deaths =  210, number of infected = 0\n",
      "2020-06-27 10:12:42,491 - june.simulator - INFO - Date = 2020-05-20 10:00:00, number of deaths =  210, number of infected = 0\n",
      "2020-06-27 10:12:43,352 - june.simulator - INFO - Date = 2020-05-20 13:00:00, number of deaths =  210, number of infected = 0\n",
      "2020-06-27 10:12:44,358 - june.simulator - INFO - Date = 2020-05-21 00:00:00, number of deaths =  210, number of infected = 0\n",
      "2020-06-27 10:12:45,470 - june.simulator - INFO - Date = 2020-05-21 01:00:00, number of deaths =  210, number of infected = 0\n",
      "2020-06-27 10:12:46,901 - june.simulator - INFO - Date = 2020-05-21 05:00:00, number of deaths =  210, number of infected = 0\n",
      "2020-06-27 10:12:48,042 - june.simulator - INFO - Date = 2020-05-21 09:00:00, number of deaths =  210, number of infected = 0\n",
      "2020-06-27 10:12:48,947 - june.simulator - INFO - Date = 2020-05-21 10:00:00, number of deaths =  210, number of infected = 0\n",
      "2020-06-27 10:12:49,896 - june.simulator - INFO - Date = 2020-05-21 13:00:00, number of deaths =  210, number of infected = 0\n",
      "2020-06-27 10:12:50,876 - june.simulator - INFO - Date = 2020-05-22 00:00:00, number of deaths =  210, number of infected = 0\n",
      "2020-06-27 10:12:51,896 - june.simulator - INFO - Date = 2020-05-22 01:00:00, number of deaths =  210, number of infected = 0\n",
      "2020-06-27 10:12:53,022 - june.simulator - INFO - Date = 2020-05-22 05:00:00, number of deaths =  210, number of infected = 0\n",
      "2020-06-27 10:12:53,865 - june.simulator - INFO - Date = 2020-05-22 09:00:00, number of deaths =  210, number of infected = 0\n",
      "2020-06-27 10:12:55,266 - june.simulator - INFO - Date = 2020-05-22 10:00:00, number of deaths =  210, number of infected = 0\n",
      "2020-06-27 10:12:56,163 - june.simulator - INFO - Date = 2020-05-22 13:00:00, number of deaths =  210, number of infected = 0\n"
     ]
    },
    {
     "name": "stdout",
     "output_type": "stream",
     "text": [
      "2020-06-27 10:12:57,186 - june.simulator - INFO - Date = 2020-05-23 00:00:00, number of deaths =  210, number of infected = 0\n",
      "2020-06-27 10:13:00,967 - june.simulator - INFO - Date = 2020-05-23 04:00:00, number of deaths =  210, number of infected = 0\n",
      "2020-06-27 10:13:01,802 - june.simulator - INFO - Date = 2020-05-23 08:00:00, number of deaths =  210, number of infected = 0\n",
      "2020-06-27 10:13:02,470 - june.simulator - INFO - Date = 2020-05-23 12:00:00, number of deaths =  210, number of infected = 0\n",
      "2020-06-27 10:13:03,459 - june.simulator - INFO - Date = 2020-05-24 00:00:00, number of deaths =  210, number of infected = 0\n",
      "2020-06-27 10:13:04,979 - june.simulator - INFO - Date = 2020-05-24 04:00:00, number of deaths =  210, number of infected = 0\n",
      "2020-06-27 10:13:06,146 - june.simulator - INFO - Date = 2020-05-24 08:00:00, number of deaths =  210, number of infected = 0\n",
      "2020-06-27 10:13:06,846 - june.simulator - INFO - Date = 2020-05-24 12:00:00, number of deaths =  210, number of infected = 0\n",
      "2020-06-27 10:13:07,605 - june.simulator - INFO - Date = 2020-05-25 00:00:00, number of deaths =  210, number of infected = 0\n",
      "2020-06-27 10:13:08,540 - june.simulator - INFO - Date = 2020-05-25 01:00:00, number of deaths =  210, number of infected = 0\n",
      "2020-06-27 10:13:09,435 - june.simulator - INFO - Date = 2020-05-25 05:00:00, number of deaths =  210, number of infected = 0\n",
      "2020-06-27 10:13:10,557 - june.simulator - INFO - Date = 2020-05-25 09:00:00, number of deaths =  210, number of infected = 0\n",
      "2020-06-27 10:13:11,334 - june.simulator - INFO - Date = 2020-05-25 10:00:00, number of deaths =  210, number of infected = 0\n",
      "2020-06-27 10:13:12,052 - june.simulator - INFO - Date = 2020-05-25 13:00:00, number of deaths =  210, number of infected = 0\n",
      "2020-06-27 10:13:12,761 - june.simulator - INFO - Date = 2020-05-26 00:00:00, number of deaths =  210, number of infected = 0\n",
      "2020-06-27 10:13:13,679 - june.simulator - INFO - Date = 2020-05-26 01:00:00, number of deaths =  210, number of infected = 0\n",
      "2020-06-27 10:13:14,614 - june.simulator - INFO - Date = 2020-05-26 05:00:00, number of deaths =  210, number of infected = 0\n",
      "2020-06-27 10:13:15,312 - june.simulator - INFO - Date = 2020-05-26 09:00:00, number of deaths =  210, number of infected = 0\n",
      "2020-06-27 10:13:16,042 - june.simulator - INFO - Date = 2020-05-26 10:00:00, number of deaths =  210, number of infected = 0\n",
      "2020-06-27 10:13:16,612 - june.simulator - INFO - Date = 2020-05-26 13:00:00, number of deaths =  210, number of infected = 0\n",
      "2020-06-27 10:13:17,186 - june.simulator - INFO - Date = 2020-05-27 00:00:00, number of deaths =  210, number of infected = 0\n",
      "2020-06-27 10:13:18,126 - june.simulator - INFO - Date = 2020-05-27 01:00:00, number of deaths =  210, number of infected = 0\n",
      "2020-06-27 10:13:19,053 - june.simulator - INFO - Date = 2020-05-27 05:00:00, number of deaths =  210, number of infected = 0\n",
      "2020-06-27 10:13:20,013 - june.simulator - INFO - Date = 2020-05-27 09:00:00, number of deaths =  210, number of infected = 0\n",
      "2020-06-27 10:13:21,371 - june.simulator - INFO - Date = 2020-05-27 10:00:00, number of deaths =  210, number of infected = 0\n",
      "2020-06-27 10:13:22,382 - june.simulator - INFO - Date = 2020-05-27 13:00:00, number of deaths =  210, number of infected = 0\n",
      "2020-06-27 10:13:23,333 - june.simulator - INFO - Date = 2020-05-28 00:00:00, number of deaths =  210, number of infected = 0\n",
      "2020-06-27 10:13:24,413 - june.simulator - INFO - Date = 2020-05-28 01:00:00, number of deaths =  210, number of infected = 0\n",
      "2020-06-27 10:13:25,364 - june.simulator - INFO - Date = 2020-05-28 05:00:00, number of deaths =  210, number of infected = 0\n",
      "2020-06-27 10:13:26,074 - june.simulator - INFO - Date = 2020-05-28 09:00:00, number of deaths =  210, number of infected = 0\n",
      "2020-06-27 10:13:27,022 - june.simulator - INFO - Date = 2020-05-28 10:00:00, number of deaths =  210, number of infected = 0\n",
      "2020-06-27 10:13:27,724 - june.simulator - INFO - Date = 2020-05-28 13:00:00, number of deaths =  210, number of infected = 0\n",
      "2020-06-27 10:13:28,432 - june.simulator - INFO - Date = 2020-05-29 00:00:00, number of deaths =  210, number of infected = 0\n",
      "2020-06-27 10:13:29,193 - june.simulator - INFO - Date = 2020-05-29 01:00:00, number of deaths =  210, number of infected = 0\n",
      "2020-06-27 10:13:30,303 - june.simulator - INFO - Date = 2020-05-29 05:00:00, number of deaths =  210, number of infected = 0\n",
      "2020-06-27 10:13:31,163 - june.simulator - INFO - Date = 2020-05-29 09:00:00, number of deaths =  210, number of infected = 0\n",
      "2020-06-27 10:13:32,053 - june.simulator - INFO - Date = 2020-05-29 10:00:00, number of deaths =  210, number of infected = 0\n",
      "2020-06-27 10:13:32,670 - june.simulator - INFO - Date = 2020-05-29 13:00:00, number of deaths =  210, number of infected = 0\n",
      "2020-06-27 10:13:33,650 - june.simulator - INFO - Date = 2020-05-30 00:00:00, number of deaths =  210, number of infected = 0\n",
      "2020-06-27 10:13:34,649 - june.simulator - INFO - Date = 2020-05-30 04:00:00, number of deaths =  210, number of infected = 0\n",
      "2020-06-27 10:13:35,745 - june.simulator - INFO - Date = 2020-05-30 08:00:00, number of deaths =  210, number of infected = 0\n",
      "2020-06-27 10:13:36,479 - june.simulator - INFO - Date = 2020-05-30 12:00:00, number of deaths =  210, number of infected = 0\n",
      "2020-06-27 10:13:37,478 - june.simulator - INFO - Date = 2020-05-31 00:00:00, number of deaths =  210, number of infected = 0\n",
      "2020-06-27 10:13:38,392 - june.simulator - INFO - Date = 2020-05-31 04:00:00, number of deaths =  210, number of infected = 0\n",
      "2020-06-27 10:13:39,298 - june.simulator - INFO - Date = 2020-05-31 08:00:00, number of deaths =  210, number of infected = 0\n",
      "2020-06-27 10:13:39,909 - june.simulator - INFO - Date = 2020-05-31 12:00:00, number of deaths =  210, number of infected = 0\n",
      "2020-06-27 10:13:40,513 - june.simulator - INFO - Date = 2020-06-01 00:00:00, number of deaths =  210, number of infected = 0\n",
      "2020-06-27 10:13:41,521 - june.simulator - INFO - Date = 2020-06-01 01:00:00, number of deaths =  210, number of infected = 0\n",
      "2020-06-27 10:13:42,604 - june.simulator - INFO - Date = 2020-06-01 05:00:00, number of deaths =  210, number of infected = 0\n",
      "2020-06-27 10:13:43,255 - june.simulator - INFO - Date = 2020-06-01 09:00:00, number of deaths =  210, number of infected = 0\n",
      "2020-06-27 10:13:44,231 - june.simulator - INFO - Date = 2020-06-01 10:00:00, number of deaths =  210, number of infected = 0\n",
      "2020-06-27 10:13:44,941 - june.simulator - INFO - Date = 2020-06-01 13:00:00, number of deaths =  210, number of infected = 0\n",
      "2020-06-27 10:13:45,620 - june.simulator - INFO - Date = 2020-06-02 00:00:00, number of deaths =  210, number of infected = 0\n",
      "2020-06-27 10:13:46,558 - june.simulator - INFO - Date = 2020-06-02 01:00:00, number of deaths =  210, number of infected = 0\n",
      "2020-06-27 10:13:47,472 - june.simulator - INFO - Date = 2020-06-02 05:00:00, number of deaths =  210, number of infected = 0\n",
      "2020-06-27 10:13:48,178 - june.simulator - INFO - Date = 2020-06-02 09:00:00, number of deaths =  210, number of infected = 0\n",
      "2020-06-27 10:13:48,967 - june.simulator - INFO - Date = 2020-06-02 10:00:00, number of deaths =  210, number of infected = 0\n",
      "2020-06-27 10:13:49,561 - june.simulator - INFO - Date = 2020-06-02 13:00:00, number of deaths =  210, number of infected = 0\n",
      "2020-06-27 10:13:50,181 - june.simulator - INFO - Date = 2020-06-03 00:00:00, number of deaths =  210, number of infected = 0\n",
      "2020-06-27 10:13:51,223 - june.simulator - INFO - Date = 2020-06-03 01:00:00, number of deaths =  210, number of infected = 0\n",
      "2020-06-27 10:13:52,240 - june.simulator - INFO - Date = 2020-06-03 05:00:00, number of deaths =  210, number of infected = 0\n",
      "2020-06-27 10:13:52,929 - june.simulator - INFO - Date = 2020-06-03 09:00:00, number of deaths =  210, number of infected = 0\n",
      "2020-06-27 10:13:53,772 - june.simulator - INFO - Date = 2020-06-03 10:00:00, number of deaths =  210, number of infected = 0\n",
      "2020-06-27 10:13:54,556 - june.simulator - INFO - Date = 2020-06-03 13:00:00, number of deaths =  210, number of infected = 0\n"
     ]
    }
   ],
   "source": [
    "%%time\n",
    "simulator.run()"
   ]
  },
  {
   "cell_type": "markdown",
   "metadata": {},
   "source": [
    "While the simulation runs (and afterwards) we can launch the visualization webpage by running\n",
    "```python june/visualizer.py path/to/results``` "
   ]
  },
  {
   "cell_type": "markdown",
   "metadata": {},
   "source": [
    "# Getting the results"
   ]
  },
  {
   "cell_type": "markdown",
   "metadata": {},
   "source": [
    "All results are stored in a json file specified in the ``save_path`` variable in the config file. We can also access it from ``world.logger`` directly."
   ]
  },
  {
   "cell_type": "code",
   "execution_count": null,
   "metadata": {},
   "outputs": [],
   "source": [
    "import pandas as pd"
   ]
  },
  {
   "cell_type": "code",
   "execution_count": null,
   "metadata": {},
   "outputs": [],
   "source": [
    "read = ReadLogger()"
   ]
  },
  {
   "cell_type": "markdown",
   "metadata": {},
   "source": [
    "## Hospital data and how it changed over time"
   ]
  },
  {
   "cell_type": "code",
   "execution_count": null,
   "metadata": {},
   "outputs": [],
   "source": [
    "hospitals_df = read.load_hospital_capacity()"
   ]
  },
  {
   "cell_type": "code",
   "execution_count": null,
   "metadata": {},
   "outputs": [],
   "source": [
    "hospitals_df.head(3)"
   ]
  },
  {
   "cell_type": "code",
   "execution_count": null,
   "metadata": {},
   "outputs": [],
   "source": [
    "hospitals_characteristics_df = read.load_hospital_characteristics()"
   ]
  },
  {
   "cell_type": "code",
   "execution_count": null,
   "metadata": {},
   "outputs": [],
   "source": [
    "hospitals_characteristics_df"
   ]
  },
  {
   "cell_type": "markdown",
   "metadata": {},
   "source": [
    "## where did infections happen?"
   ]
  },
  {
   "cell_type": "code",
   "execution_count": null,
   "metadata": {},
   "outputs": [],
   "source": [
    "loc_df = read.get_locations_infections()"
   ]
  },
  {
   "cell_type": "code",
   "execution_count": null,
   "metadata": {},
   "outputs": [],
   "source": [
    "locations_per_day = read.locations_df.groupby(pd.Grouper(freq='D')).sum()"
   ]
  },
  {
   "cell_type": "code",
   "execution_count": null,
   "metadata": {},
   "outputs": [],
   "source": [
    "all_infection_places = set(locations_per_day.location.sum())"
   ]
  },
  {
   "cell_type": "code",
   "execution_count": null,
   "metadata": {},
   "outputs": [],
   "source": [
    "def n_infections(row, infection_place):\n",
    "    return sum([row.counts[i] for i, x in enumerate(row.location) if x == infection_place])\n"
   ]
  },
  {
   "cell_type": "code",
   "execution_count": null,
   "metadata": {},
   "outputs": [],
   "source": [
    "for infection_place in all_infection_places:\n",
    "    locations_per_day[str(infection_place)] = locations_per_day.apply(\n",
    "        lambda x: n_infections(x, infection_place),\n",
    "        axis=1\n",
    "    )"
   ]
  },
  {
   "cell_type": "code",
   "execution_count": null,
   "metadata": {},
   "outputs": [],
   "source": [
    "locations_per_day = locations_per_day.drop(columns=['location',\n",
    "                                                    'counts'])"
   ]
  },
  {
   "cell_type": "code",
   "execution_count": null,
   "metadata": {},
   "outputs": [],
   "source": [
    "locations_per_day = locations_per_day.div(\n",
    "    locations_per_day.sum(axis=1), axis=0\n",
    ")\n"
   ]
  },
  {
   "cell_type": "code",
   "execution_count": null,
   "metadata": {},
   "outputs": [],
   "source": [
    "locations_per_day.plot.area( alpha=0.5)\n",
    "plt.legend(bbox_to_anchor=(1,1))\n",
    "plt.ylabel('Percent of infections')"
   ]
  },
  {
   "cell_type": "code",
   "execution_count": null,
   "metadata": {},
   "outputs": [],
   "source": [
    "import matplotlib.ticker as mtick\n",
    "\n",
    "ax = loc_df['percentage_infections'].sort_values().plot.bar()\n",
    "ax.yaxis.set_major_formatter(mtick.PercentFormatter())\n",
    "plt.ylabel('Percentage of infections at location')\n",
    "plt.xlabel('location')\n",
    "#plt.yscale('log')"
   ]
  },
  {
   "cell_type": "markdown",
   "metadata": {},
   "source": [
    "## rate of infection"
   ]
  },
  {
   "cell_type": "code",
   "execution_count": null,
   "metadata": {},
   "outputs": [],
   "source": [
    "r_df = read.get_r()"
   ]
  },
  {
   "cell_type": "code",
   "execution_count": null,
   "metadata": {},
   "outputs": [],
   "source": [
    "r_df.plot()\n",
    "plt.axvspan(policies.social_distancing_start, \n",
    "            policies.social_distancing_end,\n",
    "            facecolor='y', alpha=0.2)\n",
    "plt.axhline(y=1, linestyle='dashed', color='gray')\n",
    "plt.xlabel('Date')\n",
    "plt.ylabel('R')"
   ]
  },
  {
   "cell_type": "markdown",
   "metadata": {},
   "source": [
    "## World infection curves, and by super area"
   ]
  },
  {
   "cell_type": "code",
   "execution_count": null,
   "metadata": {},
   "outputs": [],
   "source": [
    "world_df = read.world_summary()"
   ]
  },
  {
   "cell_type": "code",
   "execution_count": null,
   "metadata": {},
   "outputs": [],
   "source": [
    "world_df['infected'].plot()\n",
    "plt.axvspan(policies.social_distancing_start, \n",
    "            policies.social_distancing_end,\n",
    "            facecolor='y', alpha=0.2)\n",
    "plt.ylabel('# Infected')"
   ]
  },
  {
   "cell_type": "code",
   "execution_count": null,
   "metadata": {},
   "outputs": [],
   "source": [
    "world_df.plot()\n",
    "plt.axvspan(policies.social_distancing_start, \n",
    "            policies.social_distancing_end,\n",
    "            facecolor='y', alpha=0.2)\n",
    "plt.legend(bbox_to_anchor=(1,1))\n"
   ]
  },
  {
   "cell_type": "code",
   "execution_count": null,
   "metadata": {},
   "outputs": [],
   "source": [
    "area_df = read.super_area_summary()"
   ]
  },
  {
   "cell_type": "code",
   "execution_count": null,
   "metadata": {},
   "outputs": [],
   "source": [
    "area_df[area_df.super_area == \"E02003282\"].plot()\n",
    "plt.legend(bbox_to_anchor=(1,1))\n",
    "\n"
   ]
  },
  {
   "cell_type": "markdown",
   "metadata": {},
   "source": [
    "## World infection curves per age group"
   ]
  },
  {
   "cell_type": "code",
   "execution_count": null,
   "metadata": {},
   "outputs": [],
   "source": [
    "ages_df = read.age_summary([0,10,20,30,40,\n",
    "                  50,60,70,80,90,100])"
   ]
  },
  {
   "cell_type": "code",
   "execution_count": null,
   "metadata": {},
   "outputs": [],
   "source": [
    "for name, group in ages_df.groupby('age_range'):\n",
    "    group['infected'].plot(label=name)\n",
    "plt.axvspan(policies.social_distancing_start, \n",
    "            policies.social_distancing_end,\n",
    "            facecolor='y', alpha=0.2)\n",
    "plt.legend(bbox_to_anchor=(1,1))\n"
   ]
  },
  {
   "cell_type": "code",
   "execution_count": null,
   "metadata": {},
   "outputs": [],
   "source": [
    "for name, group in ages_df.groupby('age_range'):\n",
    "    group['dead'].cumsum().plot(label=name)\n",
    "plt.legend()"
   ]
  },
  {
   "cell_type": "code",
   "execution_count": null,
   "metadata": {},
   "outputs": [],
   "source": [
    "for name, group in ages_df.groupby('age_range'):\n",
    "    group['susceptible'].plot(label=name)\n",
    "plt.legend()"
   ]
  },
  {
   "cell_type": "code",
   "execution_count": null,
   "metadata": {},
   "outputs": [],
   "source": [
    "for name, group in ages_df.groupby('age_range'):\n",
    "    group['hospital_admissions'].cumsum().plot(label=name)\n",
    "plt.legend()"
   ]
  },
  {
   "cell_type": "code",
   "execution_count": null,
   "metadata": {},
   "outputs": [],
   "source": [
    "for name, group in ages_df.groupby('age_range'):\n",
    "    group['intensive_care_admissions'].cumsum().plot(label=name)\n",
    "plt.legend()"
   ]
  },
  {
   "cell_type": "markdown",
   "metadata": {},
   "source": [
    "## Draw some of the symptoms trajectories"
   ]
  },
  {
   "cell_type": "code",
   "execution_count": null,
   "metadata": {},
   "outputs": [],
   "source": [
    "random_trajectories = read.draw_symptom_trajectories(window_length=600,\n",
    "                                        n_people=10)"
   ]
  },
  {
   "cell_type": "code",
   "execution_count": null,
   "metadata": {},
   "outputs": [],
   "source": [
    "from june.infection import SymptomTag"
   ]
  },
  {
   "cell_type": "code",
   "execution_count": null,
   "metadata": {},
   "outputs": [],
   "source": [
    "symptoms_values = [tag.value for tag in SymptomTag]\n",
    "symptoms_names = [tag.name for tag in SymptomTag]\n"
   ]
  },
  {
   "cell_type": "code",
   "execution_count": null,
   "metadata": {},
   "outputs": [],
   "source": [
    "for df_person in random_trajectories:\n",
    "    df_person['symptoms'].plot()\n",
    "plt.ylabel('Symptoms Trajectory')\n",
    "_ = plt.yticks(symptoms_values, symptoms_names)\n",
    "plt.xlabel('Date')"
   ]
  },
  {
   "cell_type": "code",
   "execution_count": null,
   "metadata": {},
   "outputs": [],
   "source": [
    "for df_person in random_trajectories:\n",
    "    df_person['n_secondary_infections'].plot()\n",
    "plt.ylabel('Number of secondary infections')\n",
    "\n",
    "plt.xlabel('Date')"
   ]
  }
 ],
 "metadata": {
  "kernelspec": {
   "display_name": "Python 3",
   "language": "python",
   "name": "python3"
  },
  "language_info": {
   "codemirror_mode": {
    "name": "ipython",
    "version": 3
   },
   "file_extension": ".py",
   "mimetype": "text/x-python",
   "name": "python",
   "nbconvert_exporter": "python",
   "pygments_lexer": "ipython3",
   "version": "3.8.3"
  }
 },
 "nbformat": 4,
 "nbformat_minor": 4
}
