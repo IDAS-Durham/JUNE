{
 "cells": [
  {
   "cell_type": "code",
   "execution_count": 1,
   "metadata": {},
   "outputs": [],
   "source": [
    "%load_ext autoreload\n",
    "%autoreload 2"
   ]
  },
  {
   "cell_type": "code",
   "execution_count": 2,
   "metadata": {},
   "outputs": [],
   "source": [
    "import warnings\n",
    "warnings.filterwarnings('ignore')"
   ]
  },
  {
   "cell_type": "code",
   "execution_count": 3,
   "metadata": {},
   "outputs": [],
   "source": [
    "import numpy as np\n",
    "import time\n",
    "from datetime import datetime\n",
    "import matplotlib.pyplot as plt\n",
    "import seaborn as sns\n",
    "sns.set_context('notebook')"
   ]
  },
  {
   "cell_type": "code",
   "execution_count": 25,
   "metadata": {},
   "outputs": [],
   "source": [
    "from june import World \n",
    "from june.demography.geography import Geography\n",
    "from june.demography import Demography\n",
    "from june.interaction import ContactAveraging\n",
    "from june.infection import Infection\n",
    "from june.infection.symptoms import SymptomsConstant\n",
    "from june.infection.transmission import TransmissionConstant\n",
    "from june.groups import Hospitals, Schools, Companies, Households, CareHomes, Cemeteries, Universities\n",
    "from june.groups.leisure import leisure, Cinemas, Pubs, Groceries\n",
    "from june.simulator import Simulator\n",
    "from june.seed import Seed\n",
    "from june.policy import Policy, Policies\n",
    "from june import paths\n",
    "from june.logger.read_logger import ReadLogger\n",
    "from june.infection.infection import InfectionSelector\n",
    "from june.world import generate_world_from_hdf5, generate_world_from_geography"
   ]
  },
  {
   "cell_type": "markdown",
   "metadata": {},
   "source": [
    "# Initialize world\n",
    "\n",
    "To initialize a certain world, we need to add the different components we want to have in it. First we specify what super areas (msoa) we want to create. We have included these ones, because they are known to contain hospitals, schools, care homes, and companies.\n",
    "\n",
    "After creating the geography, we create the different components the worlds need to have such as care homes, companies ..."
   ]
  },
  {
   "cell_type": "code",
   "execution_count": 5,
   "metadata": {},
   "outputs": [
    {
     "name": "stdout",
     "output_type": "stream",
     "text": [
      "2020-06-14 15:16:11,538 - june.demography.geography - INFO - There are 76 areas and 3 super_areas in the world.\n",
      "2020-06-14 15:16:11,546 - june.groups.hospital - INFO - There are 2 hospitals in this geography.\n",
      "2020-06-14 15:16:11,613 - june.groups.school - INFO - There are 10 schools in this geography.\n",
      "2020-06-14 15:16:11,633 - june.groups.school - INFO - No school for the age 0 in this world.\n",
      "2020-06-14 15:16:11,636 - june.groups.school - INFO - No school for the age 1 in this world.\n",
      "2020-06-14 15:16:11,639 - june.groups.school - INFO - No school for the age 2 in this world.\n",
      "2020-06-14 15:16:11,938 - june.groups.carehome - INFO - There are 2 care_homes in this geography.\n",
      "2020-06-14 15:16:17,133 - numexpr.utils - INFO - NumExpr defaulting to 4 threads.\n",
      "2020-06-14 15:16:18,760 - june.distributors.worker_distributor - INFO - There are 0 who had to be told to stay real\n",
      "CPU times: user 9.04 s, sys: 744 ms, total: 9.78 s\n",
      "Wall time: 9.8 s\n"
     ]
    }
   ],
   "source": [
    "%%time\n",
    "geography = Geography.from_file({\n",
    "                                \"super_area\": \n",
    "                                          [\"E02001720\",\n",
    "                                          \"E00088544\", \n",
    "                                          \"E02002560\", \n",
    "                                          \"E02002559\"]\n",
    "                                }\n",
    "                                )\n",
    "\n",
    "geography.hospitals = Hospitals.for_geography(geography)\n",
    "geography.schools = Schools.for_geography(geography)\n",
    "geography.companies = Companies.for_geography(geography)\n",
    "geography.care_homes = CareHomes.for_geography(geography)\n",
    "geography.universities = Universities.for_super_areas(geography.super_areas)\n",
    "world = generate_world_from_geography(geography, include_households=True)\n"
   ]
  },
  {
   "cell_type": "markdown",
   "metadata": {},
   "source": [
    "### If it took a long time to run the previous command, it might be a good idea to save the world to reuse it later."
   ]
  },
  {
   "cell_type": "code",
   "execution_count": 6,
   "metadata": {},
   "outputs": [],
   "source": [
    "#world.to_hdf5(\"world.hdf5\")"
   ]
  },
  {
   "cell_type": "markdown",
   "metadata": {},
   "source": [
    "If we would like to load the world we saved, we just do"
   ]
  },
  {
   "cell_type": "code",
   "execution_count": 7,
   "metadata": {},
   "outputs": [],
   "source": [
    "#world = generate_world_from_hdf5(\"world.hdf5\")"
   ]
  },
  {
   "cell_type": "markdown",
   "metadata": {},
   "source": [
    "you have now a beautiful pre-pandemic world. "
   ]
  },
  {
   "cell_type": "markdown",
   "metadata": {},
   "source": [
    "## Commute, travel and leisure"
   ]
  },
  {
   "cell_type": "markdown",
   "metadata": {},
   "source": [
    "We can add cinemas, pubs, groceries, etc. as well as commute in major cities with"
   ]
  },
  {
   "cell_type": "code",
   "execution_count": 8,
   "metadata": {},
   "outputs": [],
   "source": [
    "# leisure\n",
    "world.cinemas = Cinemas.for_geography(geography)\n",
    "world.pubs = Pubs.for_geography(geography)\n",
    "world.groceries = Groceries.for_super_areas(world.super_areas,\n",
    "                                            venues_per_capita=1/500)"
   ]
  },
  {
   "cell_type": "code",
   "execution_count": 9,
   "metadata": {},
   "outputs": [],
   "source": [
    "# commute\n",
    "world.initialise_commuting()"
   ]
  },
  {
   "cell_type": "markdown",
   "metadata": {},
   "source": [
    "We are also going to need some cemeteries...geography.cemeteries = Cemeteries()\n"
   ]
  },
  {
   "cell_type": "code",
   "execution_count": 10,
   "metadata": {},
   "outputs": [],
   "source": [
    "world.cemeteries = Cemeteries()"
   ]
  },
  {
   "cell_type": "markdown",
   "metadata": {},
   "source": [
    "# Adding the infection"
   ]
  },
  {
   "cell_type": "markdown",
   "metadata": {},
   "source": [
    "Now, you can play around with different models of infections. The building blocks for an infection are: Transmission and Symptoms. For now, only SymptomsConstant and TransmissionConstant are in a state to be used."
   ]
  },
  {
   "cell_type": "code",
   "execution_count": 11,
   "metadata": {},
   "outputs": [],
   "source": [
    "selector = InfectionSelector.from_file()"
   ]
  },
  {
   "cell_type": "code",
   "execution_count": 12,
   "metadata": {},
   "outputs": [
    {
     "data": {
      "text/plain": [
       "<june.infection.infection.InfectionSelector at 0x7f863c21bdc0>"
      ]
     },
     "execution_count": 12,
     "metadata": {},
     "output_type": "execute_result"
    }
   ],
   "source": [
    "selector"
   ]
  },
  {
   "cell_type": "markdown",
   "metadata": {},
   "source": [
    "# Adding the interaction"
   ]
  },
  {
   "cell_type": "code",
   "execution_count": 13,
   "metadata": {},
   "outputs": [],
   "source": [
    "interaction = ContactAveraging.from_file(selector=selector)\n",
    "#interaction = DefaultInteraction.from_file(selector=selector)"
   ]
  },
  {
   "cell_type": "markdown",
   "metadata": {},
   "source": [
    "Beta are the intensities of the interaction taking place at the different groups"
   ]
  },
  {
   "cell_type": "code",
   "execution_count": 14,
   "metadata": {},
   "outputs": [
    {
     "data": {
      "text/plain": [
       "{'box': 1,\n",
       " 'pub': 0.1,\n",
       " 'grocery': 0.1,\n",
       " 'cinema': 0.1,\n",
       " 'commute_unit': 0.5,\n",
       " 'commute_city_unit': 0.5,\n",
       " 'hospital': 0.5,\n",
       " 'care_home': 0.5,\n",
       " 'company': 0.5,\n",
       " 'school': 0.5,\n",
       " 'household': 0.5,\n",
       " 'university': 0.05}"
      ]
     },
     "execution_count": 14,
     "metadata": {},
     "output_type": "execute_result"
    }
   ],
   "source": [
    "interaction.beta"
   ]
  },
  {
   "cell_type": "markdown",
   "metadata": {},
   "source": [
    "to modify these, simply do"
   ]
  },
  {
   "cell_type": "code",
   "execution_count": 15,
   "metadata": {},
   "outputs": [],
   "source": [
    "interaction.beta['household'] *= 2"
   ]
  },
  {
   "cell_type": "code",
   "execution_count": 16,
   "metadata": {},
   "outputs": [
    {
     "data": {
      "text/plain": [
       "{'box': 1,\n",
       " 'pub': 0.1,\n",
       " 'grocery': 0.1,\n",
       " 'cinema': 0.1,\n",
       " 'commute_unit': 0.5,\n",
       " 'commute_city_unit': 0.5,\n",
       " 'hospital': 0.5,\n",
       " 'care_home': 0.5,\n",
       " 'company': 0.5,\n",
       " 'school': 0.5,\n",
       " 'household': 1.0,\n",
       " 'university': 0.05}"
      ]
     },
     "execution_count": 16,
     "metadata": {},
     "output_type": "execute_result"
    }
   ],
   "source": [
    "interaction.beta"
   ]
  },
  {
   "cell_type": "markdown",
   "metadata": {},
   "source": [
    "moreover this interaction module uses contact matrices, that are different for different groups. These contact matrices shouldnt be modified for now. However they are a combination of conversational contact matrices, and physical contact matrices (see the BBC pandemic paper, from where these matrices are extracted https://www.medrxiv.org/content/10.1101/2020.02.16.20023754v2)\n",
    "\n",
    "There is a parameter, ``alpha`` ($\\alpha$), that combines these two matrices in the following way,\n",
    "\n",
    "\n",
    "$\\beta M \\left(1 + (\\alpha -1) \\right) P$\n",
    "\n",
    "where $\\beta$ is the intensity of the interaction, and $P$ the physical contact matrix. A larger $\\alpha$ produces more physical contacts. It is an overall number, non dependent of the particular group.\n"
   ]
  },
  {
   "cell_type": "code",
   "execution_count": 17,
   "metadata": {},
   "outputs": [
    {
     "data": {
      "text/plain": [
       "2.0"
      ]
     },
     "execution_count": 17,
     "metadata": {},
     "output_type": "execute_result"
    }
   ],
   "source": [
    "interaction.alpha_physical"
   ]
  },
  {
   "cell_type": "code",
   "execution_count": 18,
   "metadata": {},
   "outputs": [],
   "source": [
    "interaction.alpha_physical /= 2"
   ]
  },
  {
   "cell_type": "code",
   "execution_count": 19,
   "metadata": {},
   "outputs": [
    {
     "data": {
      "text/plain": [
       "1.0"
      ]
     },
     "execution_count": 19,
     "metadata": {},
     "output_type": "execute_result"
    }
   ],
   "source": [
    "interaction.alpha_physical"
   ]
  },
  {
   "cell_type": "markdown",
   "metadata": {},
   "source": [
    "# Seed the disease"
   ]
  },
  {
   "cell_type": "markdown",
   "metadata": {},
   "source": [
    "There are two options implemented in the seed at the moment, either you specify the number of cases and these are then homogeneously distributed by population to the different areas, or you use UK data on cases per region. For now use the first case."
   ]
  },
  {
   "cell_type": "code",
   "execution_count": 20,
   "metadata": {},
   "outputs": [],
   "source": [
    "seed = Seed(world.super_areas, selector,)"
   ]
  },
  {
   "cell_type": "code",
   "execution_count": 21,
   "metadata": {},
   "outputs": [],
   "source": [
    "n_cases = 10\n",
    "seed.unleash_virus(n_cases) # play around with the initial number of cases"
   ]
  },
  {
   "cell_type": "markdown",
   "metadata": {},
   "source": [
    "# Set policies"
   ]
  },
  {
   "cell_type": "code",
   "execution_count": 22,
   "metadata": {},
   "outputs": [],
   "source": [
    "social_distance = Policy(policy=\"social_distance\",\n",
    "                         start_time=datetime(2020, 3, 25), \n",
    "                         end_time=datetime(2020, 4, 1))"
   ]
  },
  {
   "cell_type": "code",
   "execution_count": 23,
   "metadata": {},
   "outputs": [],
   "source": [
    "policies = Policies.from_file([social_distance])"
   ]
  },
  {
   "cell_type": "code",
   "execution_count": 24,
   "metadata": {},
   "outputs": [
    {
     "data": {
      "text/plain": [
       "{'alpha factor': 1.0,\n",
       " 'beta factor': {'box': 0.5,\n",
       "  'pub': 0.5,\n",
       "  'grocery': 0.5,\n",
       "  'cinema': 0.5,\n",
       "  'commute_unit': 0.5,\n",
       "  'commute_city_unit': 0.5,\n",
       "  'hospital': 0.5,\n",
       "  'care_home': 0.5,\n",
       "  'company': 0.5,\n",
       "  'school': 0.5,\n",
       "  'household': 1.0,\n",
       "  'university': 0.5}}"
      ]
     },
     "execution_count": 24,
     "metadata": {},
     "output_type": "execute_result"
    }
   ],
   "source": [
    "policies.config['social distancing']"
   ]
  },
  {
   "cell_type": "markdown",
   "metadata": {},
   "source": [
    "# Run the simulation"
   ]
  },
  {
   "cell_type": "markdown",
   "metadata": {},
   "source": [
    "Since the timer configuration is a bit cumbersome, it is read from the config file at ``configs/config_example.yaml``"
   ]
  },
  {
   "cell_type": "code",
   "execution_count": 28,
   "metadata": {},
   "outputs": [],
   "source": [
    "CONFIG_PATH = \"../configs/config_example.yaml\"\n",
    "\n",
    "leisure_instance = leisure.generate_leisure_for_config(\n",
    "world=world, config_filename = CONFIG_PATH\n",
    ")\n",
    "simulator = Simulator.from_file(\n",
    "     world, interaction, selector, \n",
    "    config_filename = CONFIG_PATH,\n",
    "    leisure = leisure_instance,\n",
    "    policies = policies\n",
    ")"
   ]
  },
  {
   "cell_type": "code",
   "execution_count": 29,
   "metadata": {},
   "outputs": [],
   "source": [
    "simulator.timer.reset()"
   ]
  },
  {
   "cell_type": "code",
   "execution_count": 30,
   "metadata": {
    "scrolled": true
   },
   "outputs": [
    {
     "name": "stdout",
     "output_type": "stream",
     "text": [
      "2020-06-14 15:18:07,590 - june.simulator - INFO - Starting group_dynamics for 70 days at day 0\n",
      "2020-06-14 15:18:07,590 - june.simulator - INFO - starting the loop ..., at 0 days, to run for 70 days\n",
      "2020-06-14 15:18:08,860 - june.simulator - INFO - Date = 2020-03-07 03:00:00, number of deaths =  0, number of infected = 10\n",
      "2020-06-14 15:18:09,620 - june.simulator - INFO - Date = 2020-03-07 06:00:00, number of deaths =  0, number of infected = 10\n",
      "2020-06-14 15:18:09,908 - june.simulator - INFO - Date = 2020-03-07 09:00:00, number of deaths =  0, number of infected = 10\n",
      "2020-06-14 15:18:10,509 - june.simulator - INFO - Date = 2020-03-08 00:00:00, number of deaths =  0, number of infected = 10\n",
      "2020-06-14 15:18:11,033 - june.simulator - INFO - Date = 2020-03-08 03:00:00, number of deaths =  0, number of infected = 10\n",
      "2020-06-14 15:18:11,532 - june.simulator - INFO - Date = 2020-03-08 06:00:00, number of deaths =  0, number of infected = 10\n",
      "2020-06-14 15:18:11,764 - june.simulator - INFO - Date = 2020-03-08 09:00:00, number of deaths =  0, number of infected = 10\n",
      "2020-06-14 15:18:12,009 - june.simulator - INFO - Date = 2020-03-09 00:00:00, number of deaths =  0, number of infected = 10\n",
      "2020-06-14 15:18:12,229 - june.simulator - INFO - Date = 2020-03-09 01:00:00, number of deaths =  0, number of infected = 10\n",
      "2020-06-14 15:18:12,429 - june.simulator - INFO - Date = 2020-03-09 09:00:00, number of deaths =  0, number of infected = 10\n",
      "2020-06-14 15:18:12,831 - june.simulator - INFO - Date = 2020-03-09 10:00:00, number of deaths =  0, number of infected = 10\n",
      "2020-06-14 15:18:13,041 - june.simulator - INFO - Date = 2020-03-09 13:00:00, number of deaths =  0, number of infected = 10\n",
      "2020-06-14 15:18:13,258 - june.simulator - INFO - Date = 2020-03-10 00:00:00, number of deaths =  0, number of infected = 10\n",
      "2020-06-14 15:18:13,460 - june.simulator - INFO - Date = 2020-03-10 01:00:00, number of deaths =  0, number of infected = 10\n",
      "2020-06-14 15:18:13,625 - june.simulator - INFO - Date = 2020-03-10 09:00:00, number of deaths =  0, number of infected = 10\n",
      "2020-06-14 15:18:14,081 - june.simulator - INFO - Date = 2020-03-10 10:00:00, number of deaths =  0, number of infected = 10\n",
      "2020-06-14 15:18:14,298 - june.simulator - INFO - Date = 2020-03-10 13:00:00, number of deaths =  0, number of infected = 10\n",
      "2020-06-14 15:18:14,560 - june.simulator - INFO - Date = 2020-03-11 00:00:00, number of deaths =  0, number of infected = 10\n",
      "2020-06-14 15:18:14,807 - june.simulator - INFO - Date = 2020-03-11 01:00:00, number of deaths =  0, number of infected = 10\n",
      "2020-06-14 15:18:14,983 - june.simulator - INFO - Date = 2020-03-11 09:00:00, number of deaths =  0, number of infected = 12\n",
      "2020-06-14 15:18:15,434 - june.simulator - INFO - Date = 2020-03-11 10:00:00, number of deaths =  0, number of infected = 12\n",
      "2020-06-14 15:18:15,639 - june.simulator - INFO - Date = 2020-03-11 13:00:00, number of deaths =  0, number of infected = 14\n",
      "2020-06-14 15:18:15,913 - june.simulator - INFO - Date = 2020-03-12 00:00:00, number of deaths =  0, number of infected = 19\n",
      "2020-06-14 15:18:16,121 - june.simulator - INFO - Date = 2020-03-12 01:00:00, number of deaths =  0, number of infected = 19\n",
      "2020-06-14 15:18:16,299 - june.simulator - INFO - Date = 2020-03-12 09:00:00, number of deaths =  0, number of infected = 21\n",
      "2020-06-14 15:18:16,695 - june.simulator - INFO - Date = 2020-03-12 10:00:00, number of deaths =  0, number of infected = 21\n",
      "2020-06-14 15:18:16,889 - june.simulator - INFO - Date = 2020-03-12 13:00:00, number of deaths =  0, number of infected = 22\n",
      "2020-06-14 15:18:17,150 - june.simulator - INFO - Date = 2020-03-13 00:00:00, number of deaths =  0, number of infected = 26\n",
      "2020-06-14 15:18:17,374 - june.simulator - INFO - Date = 2020-03-13 01:00:00, number of deaths =  0, number of infected = 26\n",
      "2020-06-14 15:18:17,559 - june.simulator - INFO - Date = 2020-03-13 09:00:00, number of deaths =  0, number of infected = 29\n",
      "2020-06-14 15:18:17,963 - june.simulator - INFO - Date = 2020-03-13 10:00:00, number of deaths =  0, number of infected = 29\n",
      "2020-06-14 15:18:18,175 - june.simulator - INFO - Date = 2020-03-13 13:00:00, number of deaths =  0, number of infected = 30\n",
      "2020-06-14 15:18:18,647 - june.simulator - INFO - Date = 2020-03-14 00:00:00, number of deaths =  0, number of infected = 30\n",
      "2020-06-14 15:18:19,034 - june.simulator - INFO - Date = 2020-03-14 03:00:00, number of deaths =  0, number of infected = 30\n",
      "2020-06-14 15:18:19,403 - june.simulator - INFO - Date = 2020-03-14 06:00:00, number of deaths =  0, number of infected = 30\n",
      "2020-06-14 15:18:19,591 - june.simulator - INFO - Date = 2020-03-14 09:00:00, number of deaths =  0, number of infected = 30\n",
      "2020-06-14 15:18:20,457 - june.simulator - INFO - Date = 2020-03-15 00:00:00, number of deaths =  0, number of infected = 33\n",
      "2020-06-14 15:18:20,984 - june.simulator - INFO - Date = 2020-03-15 03:00:00, number of deaths =  0, number of infected = 33\n",
      "2020-06-14 15:18:21,589 - june.simulator - INFO - Date = 2020-03-15 06:00:00, number of deaths =  0, number of infected = 33\n",
      "2020-06-14 15:18:21,824 - june.simulator - INFO - Date = 2020-03-15 09:00:00, number of deaths =  0, number of infected = 33\n",
      "2020-06-14 15:18:22,323 - june.simulator - INFO - Date = 2020-03-16 00:00:00, number of deaths =  0, number of infected = 37\n",
      "2020-06-14 15:18:22,577 - june.simulator - INFO - Date = 2020-03-16 01:00:00, number of deaths =  0, number of infected = 37\n",
      "2020-06-14 15:18:23,005 - june.simulator - INFO - Date = 2020-03-16 09:00:00, number of deaths =  0, number of infected = 46\n",
      "2020-06-14 15:18:23,382 - june.simulator - INFO - Date = 2020-03-16 10:00:00, number of deaths =  0, number of infected = 46\n",
      "2020-06-14 15:18:23,567 - june.simulator - INFO - Date = 2020-03-16 13:00:00, number of deaths =  0, number of infected = 47\n",
      "2020-06-14 15:18:23,800 - june.simulator - INFO - Date = 2020-03-17 00:00:00, number of deaths =  0, number of infected = 50\n",
      "2020-06-14 15:18:24,033 - june.simulator - INFO - Date = 2020-03-17 01:00:00, number of deaths =  0, number of infected = 50\n",
      "2020-06-14 15:18:24,218 - june.simulator - INFO - Date = 2020-03-17 09:00:00, number of deaths =  0, number of infected = 59\n",
      "2020-06-14 15:18:24,546 - june.simulator - INFO - Date = 2020-03-17 10:00:00, number of deaths =  0, number of infected = 59\n",
      "2020-06-14 15:18:24,726 - june.simulator - INFO - Date = 2020-03-17 13:00:00, number of deaths =  0, number of infected = 60\n",
      "2020-06-14 15:18:25,001 - june.simulator - INFO - Date = 2020-03-18 00:00:00, number of deaths =  0, number of infected = 63\n",
      "2020-06-14 15:18:25,447 - june.simulator - INFO - Date = 2020-03-18 01:00:00, number of deaths =  0, number of infected = 63\n",
      "2020-06-14 15:18:25,619 - june.simulator - INFO - Date = 2020-03-18 09:00:00, number of deaths =  0, number of infected = 70\n",
      "2020-06-14 15:18:26,029 - june.simulator - INFO - Date = 2020-03-18 10:00:00, number of deaths =  0, number of infected = 70\n",
      "2020-06-14 15:18:26,340 - june.simulator - INFO - Date = 2020-03-18 13:00:00, number of deaths =  0, number of infected = 71\n",
      "2020-06-14 15:18:26,762 - june.simulator - INFO - Date = 2020-03-19 00:00:00, number of deaths =  0, number of infected = 74\n",
      "2020-06-14 15:18:27,012 - june.simulator - INFO - Date = 2020-03-19 01:00:00, number of deaths =  0, number of infected = 74\n",
      "2020-06-14 15:18:27,197 - june.simulator - INFO - Date = 2020-03-19 09:00:00, number of deaths =  0, number of infected = 87\n",
      "2020-06-14 15:18:27,549 - june.simulator - INFO - Date = 2020-03-19 10:00:00, number of deaths =  0, number of infected = 87\n",
      "2020-06-14 15:18:27,752 - june.simulator - INFO - Date = 2020-03-19 13:00:00, number of deaths =  0, number of infected = 88\n",
      "2020-06-14 15:18:27,989 - june.simulator - INFO - Date = 2020-03-20 00:00:00, number of deaths =  0, number of infected = 97\n",
      "2020-06-14 15:18:28,221 - june.simulator - INFO - Date = 2020-03-20 01:00:00, number of deaths =  0, number of infected = 98\n",
      "2020-06-14 15:18:28,693 - june.simulator - INFO - Date = 2020-03-20 09:00:00, number of deaths =  0, number of infected = 117\n",
      "2020-06-14 15:18:29,042 - june.simulator - INFO - Date = 2020-03-20 10:00:00, number of deaths =  0, number of infected = 121\n"
     ]
    },
    {
     "name": "stdout",
     "output_type": "stream",
     "text": [
      "2020-06-14 15:18:29,241 - june.simulator - INFO - Date = 2020-03-20 13:00:00, number of deaths =  0, number of infected = 123\n",
      "2020-06-14 15:18:29,624 - june.simulator - INFO - Date = 2020-03-21 00:00:00, number of deaths =  0, number of infected = 137\n",
      "2020-06-14 15:18:29,959 - june.simulator - INFO - Date = 2020-03-21 03:00:00, number of deaths =  0, number of infected = 137\n",
      "2020-06-14 15:18:30,264 - june.simulator - INFO - Date = 2020-03-21 06:00:00, number of deaths =  0, number of infected = 137\n",
      "2020-06-14 15:18:30,444 - june.simulator - INFO - Date = 2020-03-21 09:00:00, number of deaths =  0, number of infected = 137\n",
      "2020-06-14 15:18:31,187 - june.simulator - INFO - Date = 2020-03-22 00:00:00, number of deaths =  0, number of infected = 153\n",
      "2020-06-14 15:18:31,513 - june.simulator - INFO - Date = 2020-03-22 03:00:00, number of deaths =  0, number of infected = 155\n",
      "2020-06-14 15:18:32,222 - june.simulator - INFO - Date = 2020-03-22 06:00:00, number of deaths =  0, number of infected = 156\n",
      "2020-06-14 15:18:32,398 - june.simulator - INFO - Date = 2020-03-22 09:00:00, number of deaths =  0, number of infected = 157\n",
      "2020-06-14 15:18:32,670 - june.simulator - INFO - Date = 2020-03-23 00:00:00, number of deaths =  0, number of infected = 175\n",
      "2020-06-14 15:18:33,216 - june.simulator - INFO - Date = 2020-03-23 01:00:00, number of deaths =  0, number of infected = 176\n",
      "2020-06-14 15:18:33,409 - june.simulator - INFO - Date = 2020-03-23 09:00:00, number of deaths =  0, number of infected = 246\n",
      "2020-06-14 15:18:33,725 - june.simulator - INFO - Date = 2020-03-23 10:00:00, number of deaths =  0, number of infected = 248\n",
      "2020-06-14 15:18:33,900 - june.simulator - INFO - Date = 2020-03-23 13:00:00, number of deaths =  0, number of infected = 248\n",
      "2020-06-14 15:18:34,160 - june.simulator - INFO - Date = 2020-03-24 00:00:00, number of deaths =  0, number of infected = 274\n",
      "2020-06-14 15:18:34,413 - june.simulator - INFO - Date = 2020-03-24 01:00:00, number of deaths =  0, number of infected = 275\n",
      "2020-06-14 15:18:34,606 - june.simulator - INFO - Date = 2020-03-24 09:00:00, number of deaths =  0, number of infected = 367\n",
      "2020-06-14 15:18:34,894 - june.simulator - INFO - Date = 2020-03-24 10:00:00, number of deaths =  0, number of infected = 368\n",
      "2020-06-14 15:18:35,072 - june.simulator - INFO - Date = 2020-03-24 13:00:00, number of deaths =  0, number of infected = 370\n",
      "2020-06-14 15:18:35,331 - june.simulator - INFO - Date = 2020-03-25 00:00:00, number of deaths =  0, number of infected = 385\n",
      "2020-06-14 15:18:35,552 - june.simulator - INFO - Date = 2020-03-25 01:00:00, number of deaths =  0, number of infected = 387\n",
      "2020-06-14 15:18:35,741 - june.simulator - INFO - Date = 2020-03-25 09:00:00, number of deaths =  0, number of infected = 438\n",
      "2020-06-14 15:18:36,023 - june.simulator - INFO - Date = 2020-03-25 10:00:00, number of deaths =  0, number of infected = 438\n",
      "2020-06-14 15:18:36,201 - june.simulator - INFO - Date = 2020-03-25 13:00:00, number of deaths =  0, number of infected = 441\n",
      "2020-06-14 15:18:36,429 - june.simulator - INFO - Date = 2020-03-26 00:00:00, number of deaths =  0, number of infected = 448\n",
      "2020-06-14 15:18:36,674 - june.simulator - INFO - Date = 2020-03-26 01:00:00, number of deaths =  0, number of infected = 449\n",
      "2020-06-14 15:18:36,869 - june.simulator - INFO - Date = 2020-03-26 09:00:00, number of deaths =  0, number of infected = 512\n",
      "2020-06-14 15:18:37,154 - june.simulator - INFO - Date = 2020-03-26 10:00:00, number of deaths =  0, number of infected = 521\n",
      "2020-06-14 15:18:37,331 - june.simulator - INFO - Date = 2020-03-26 13:00:00, number of deaths =  0, number of infected = 529\n",
      "2020-06-14 15:18:37,564 - june.simulator - INFO - Date = 2020-03-27 00:00:00, number of deaths =  0, number of infected = 571\n",
      "2020-06-14 15:18:37,828 - june.simulator - INFO - Date = 2020-03-27 01:00:00, number of deaths =  0, number of infected = 580\n",
      "2020-06-14 15:18:38,030 - june.simulator - INFO - Date = 2020-03-27 09:00:00, number of deaths =  0, number of infected = 675\n",
      "2020-06-14 15:18:38,350 - june.simulator - INFO - Date = 2020-03-27 10:00:00, number of deaths =  0, number of infected = 683\n",
      "2020-06-14 15:18:38,528 - june.simulator - INFO - Date = 2020-03-27 13:00:00, number of deaths =  0, number of infected = 695\n",
      "2020-06-14 15:18:38,882 - june.simulator - INFO - Date = 2020-03-28 00:00:00, number of deaths =  0, number of infected = 791\n",
      "2020-06-14 15:18:39,130 - june.simulator - INFO - Date = 2020-03-28 03:00:00, number of deaths =  0, number of infected = 804\n",
      "2020-06-14 15:18:39,378 - june.simulator - INFO - Date = 2020-03-28 06:00:00, number of deaths =  0, number of infected = 813\n",
      "2020-06-14 15:18:39,562 - june.simulator - INFO - Date = 2020-03-28 09:00:00, number of deaths =  0, number of infected = 821\n",
      "2020-06-14 15:18:39,894 - june.simulator - INFO - Date = 2020-03-29 00:00:00, number of deaths =  0, number of infected = 950\n",
      "2020-06-14 15:18:40,146 - june.simulator - INFO - Date = 2020-03-29 03:00:00, number of deaths =  0, number of infected = 959\n",
      "2020-06-14 15:18:40,384 - june.simulator - INFO - Date = 2020-03-29 06:00:00, number of deaths =  0, number of infected = 968\n",
      "2020-06-14 15:18:40,555 - june.simulator - INFO - Date = 2020-03-29 09:00:00, number of deaths =  0, number of infected = 977\n",
      "2020-06-14 15:18:40,838 - june.simulator - INFO - Date = 2020-03-30 00:00:00, number of deaths =  0, number of infected = 1090\n",
      "2020-06-14 15:18:41,116 - june.simulator - INFO - Date = 2020-03-30 01:00:00, number of deaths =  0, number of infected = 1104\n",
      "2020-06-14 15:18:41,330 - june.simulator - INFO - Date = 2020-03-30 09:00:00, number of deaths =  0, number of infected = 1259\n",
      "2020-06-14 15:18:41,632 - june.simulator - INFO - Date = 2020-03-30 10:00:00, number of deaths =  0, number of infected = 1280\n",
      "2020-06-14 15:18:41,803 - june.simulator - INFO - Date = 2020-03-30 13:00:00, number of deaths =  0, number of infected = 1290\n",
      "2020-06-14 15:18:42,084 - june.simulator - INFO - Date = 2020-03-31 00:00:00, number of deaths =  0, number of infected = 1402\n",
      "2020-06-14 15:18:42,354 - june.simulator - INFO - Date = 2020-03-31 01:00:00, number of deaths =  0, number of infected = 1417\n",
      "2020-06-14 15:18:42,604 - june.simulator - INFO - Date = 2020-03-31 09:00:00, number of deaths =  0, number of infected = 1602\n",
      "2020-06-14 15:18:42,900 - june.simulator - INFO - Date = 2020-03-31 10:00:00, number of deaths =  0, number of infected = 1613\n",
      "2020-06-14 15:18:43,104 - june.simulator - INFO - Date = 2020-03-31 13:00:00, number of deaths =  0, number of infected = 1628\n",
      "2020-06-14 15:18:43,692 - june.simulator - INFO - Date = 2020-04-01 00:00:00, number of deaths =  0, number of infected = 1718\n",
      "2020-06-14 15:18:43,952 - june.simulator - INFO - Date = 2020-04-01 01:00:00, number of deaths =  0, number of infected = 1725\n",
      "2020-06-14 15:18:44,534 - june.simulator - INFO - Date = 2020-04-01 09:00:00, number of deaths =  0, number of infected = 2089\n",
      "2020-06-14 15:18:45,139 - june.simulator - INFO - Date = 2020-04-01 10:00:00, number of deaths =  0, number of infected = 2097\n",
      "2020-06-14 15:18:45,355 - june.simulator - INFO - Date = 2020-04-01 13:00:00, number of deaths =  0, number of infected = 2111\n",
      "2020-06-14 15:18:45,604 - june.simulator - INFO - Date = 2020-04-02 00:00:00, number of deaths =  0, number of infected = 2161\n",
      "2020-06-14 15:18:45,866 - june.simulator - INFO - Date = 2020-04-02 01:00:00, number of deaths =  0, number of infected = 2170\n",
      "2020-06-14 15:18:46,147 - june.simulator - INFO - Date = 2020-04-02 09:00:00, number of deaths =  0, number of infected = 2489\n",
      "2020-06-14 15:18:46,428 - june.simulator - INFO - Date = 2020-04-02 10:00:00, number of deaths =  0, number of infected = 2499\n",
      "2020-06-14 15:18:46,746 - june.simulator - INFO - Date = 2020-04-02 13:00:00, number of deaths =  0, number of infected = 2514\n",
      "2020-06-14 15:18:47,086 - june.simulator - INFO - Date = 2020-04-03 00:00:00, number of deaths =  0, number of infected = 2621\n",
      "2020-06-14 15:18:47,346 - june.simulator - INFO - Date = 2020-04-03 01:00:00, number of deaths =  0, number of infected = 2635\n",
      "2020-06-14 15:18:47,670 - june.simulator - INFO - Date = 2020-04-03 09:00:00, number of deaths =  0, number of infected = 2965\n"
     ]
    },
    {
     "name": "stdout",
     "output_type": "stream",
     "text": [
      "2020-06-14 15:18:47,980 - june.simulator - INFO - Date = 2020-04-03 10:00:00, number of deaths =  0, number of infected = 2988\n",
      "2020-06-14 15:18:48,182 - june.simulator - INFO - Date = 2020-04-03 13:00:00, number of deaths =  0, number of infected = 3009\n",
      "2020-06-14 15:18:48,674 - june.simulator - INFO - Date = 2020-04-04 00:00:00, number of deaths =  0, number of infected = 3173\n",
      "2020-06-14 15:18:48,935 - june.simulator - INFO - Date = 2020-04-04 03:00:00, number of deaths =  0, number of infected = 3196\n",
      "2020-06-14 15:18:49,199 - june.simulator - INFO - Date = 2020-04-04 06:00:00, number of deaths =  0, number of infected = 3224\n",
      "2020-06-14 15:18:49,393 - june.simulator - INFO - Date = 2020-04-04 09:00:00, number of deaths =  0, number of infected = 3251\n",
      "2020-06-14 15:18:49,763 - june.simulator - INFO - Date = 2020-04-05 00:00:00, number of deaths =  0, number of infected = 3614\n",
      "2020-06-14 15:18:50,005 - june.simulator - INFO - Date = 2020-04-05 03:00:00, number of deaths =  0, number of infected = 3635\n",
      "2020-06-14 15:18:50,409 - june.simulator - INFO - Date = 2020-04-05 06:00:00, number of deaths =  0, number of infected = 3659\n",
      "2020-06-14 15:18:50,685 - june.simulator - INFO - Date = 2020-04-05 09:00:00, number of deaths =  0, number of infected = 3684\n",
      "2020-06-14 15:18:51,163 - june.simulator - INFO - Date = 2020-04-06 00:00:00, number of deaths =  0, number of infected = 4149\n",
      "2020-06-14 15:18:51,849 - june.simulator - INFO - Date = 2020-04-06 01:00:00, number of deaths =  0, number of infected = 4186\n",
      "2020-06-14 15:18:52,361 - june.simulator - INFO - Date = 2020-04-06 09:00:00, number of deaths =  0, number of infected = 4863\n",
      "2020-06-14 15:18:53,220 - june.simulator - INFO - Date = 2020-04-06 10:00:00, number of deaths =  0, number of infected = 4890\n",
      "2020-06-14 15:18:53,721 - june.simulator - INFO - Date = 2020-04-06 13:00:00, number of deaths =  0, number of infected = 4933\n",
      "2020-06-14 15:18:54,060 - june.simulator - INFO - Date = 2020-04-07 00:00:00, number of deaths =  0, number of infected = 5322\n",
      "2020-06-14 15:18:54,360 - june.simulator - INFO - Date = 2020-04-07 01:00:00, number of deaths =  0, number of infected = 5354\n",
      "2020-06-14 15:18:54,691 - june.simulator - INFO - Date = 2020-04-07 09:00:00, number of deaths =  0, number of infected = 5910\n",
      "2020-06-14 15:18:55,542 - june.simulator - INFO - Date = 2020-04-07 10:00:00, number of deaths =  0, number of infected = 5944\n",
      "2020-06-14 15:18:56,012 - june.simulator - INFO - Date = 2020-04-07 13:00:00, number of deaths =  0, number of infected = 5978\n",
      "2020-06-14 15:18:56,419 - june.simulator - INFO - Date = 2020-04-08 00:00:00, number of deaths =  0, number of infected = 6239\n",
      "2020-06-14 15:18:56,709 - june.simulator - INFO - Date = 2020-04-08 01:00:00, number of deaths =  0, number of infected = 6267\n",
      "2020-06-14 15:18:57,046 - june.simulator - INFO - Date = 2020-04-08 09:00:00, number of deaths =  1, number of infected = 6775\n",
      "2020-06-14 15:18:57,389 - june.simulator - INFO - Date = 2020-04-08 10:00:00, number of deaths =  1, number of infected = 6793\n",
      "2020-06-14 15:18:57,631 - june.simulator - INFO - Date = 2020-04-08 13:00:00, number of deaths =  1, number of infected = 6822\n",
      "2020-06-14 15:18:58,026 - june.simulator - INFO - Date = 2020-04-09 00:00:00, number of deaths =  1, number of infected = 6952\n",
      "2020-06-14 15:18:58,298 - june.simulator - INFO - Date = 2020-04-09 01:00:00, number of deaths =  1, number of infected = 6976\n",
      "2020-06-14 15:18:58,683 - june.simulator - INFO - Date = 2020-04-09 09:00:00, number of deaths =  1, number of infected = 7505\n",
      "2020-06-14 15:18:59,006 - june.simulator - INFO - Date = 2020-04-09 10:00:00, number of deaths =  1, number of infected = 7543\n",
      "2020-06-14 15:18:59,234 - june.simulator - INFO - Date = 2020-04-09 13:00:00, number of deaths =  1, number of infected = 7575\n",
      "2020-06-14 15:18:59,613 - june.simulator - INFO - Date = 2020-04-10 00:00:00, number of deaths =  2, number of infected = 7890\n",
      "2020-06-14 15:19:00,028 - june.simulator - INFO - Date = 2020-04-10 01:00:00, number of deaths =  2, number of infected = 7928\n",
      "2020-06-14 15:19:00,447 - june.simulator - INFO - Date = 2020-04-10 09:00:00, number of deaths =  2, number of infected = 8597\n",
      "2020-06-14 15:19:00,840 - june.simulator - INFO - Date = 2020-04-10 10:00:00, number of deaths =  2, number of infected = 8653\n",
      "2020-06-14 15:19:01,097 - june.simulator - INFO - Date = 2020-04-10 13:00:00, number of deaths =  2, number of infected = 8713\n",
      "2020-06-14 15:19:01,498 - june.simulator - INFO - Date = 2020-04-11 00:00:00, number of deaths =  2, number of infected = 9150\n",
      "2020-06-14 15:19:01,810 - june.simulator - INFO - Date = 2020-04-11 03:00:00, number of deaths =  2, number of infected = 9196\n",
      "2020-06-14 15:19:02,091 - june.simulator - INFO - Date = 2020-04-11 06:00:00, number of deaths =  2, number of infected = 9247\n",
      "2020-06-14 15:19:02,353 - june.simulator - INFO - Date = 2020-04-11 09:00:00, number of deaths =  2, number of infected = 9289\n",
      "2020-06-14 15:19:02,899 - june.simulator - INFO - Date = 2020-04-12 00:00:00, number of deaths =  2, number of infected = 9835\n",
      "2020-06-14 15:19:03,256 - june.simulator - INFO - Date = 2020-04-12 03:00:00, number of deaths =  2, number of infected = 9883\n",
      "2020-06-14 15:19:03,562 - june.simulator - INFO - Date = 2020-04-12 06:00:00, number of deaths =  2, number of infected = 9924\n",
      "2020-06-14 15:19:03,810 - june.simulator - INFO - Date = 2020-04-12 09:00:00, number of deaths =  2, number of infected = 9965\n",
      "2020-06-14 15:19:04,175 - june.simulator - INFO - Date = 2020-04-13 00:00:00, number of deaths =  3, number of infected = 10465\n",
      "2020-06-14 15:19:04,448 - june.simulator - INFO - Date = 2020-04-13 01:00:00, number of deaths =  3, number of infected = 10504\n",
      "2020-06-14 15:19:04,847 - june.simulator - INFO - Date = 2020-04-13 09:00:00, number of deaths =  3, number of infected = 11340\n",
      "2020-06-14 15:19:05,275 - june.simulator - INFO - Date = 2020-04-13 10:00:00, number of deaths =  3, number of infected = 11378\n",
      "2020-06-14 15:19:05,630 - june.simulator - INFO - Date = 2020-04-13 13:00:00, number of deaths =  4, number of infected = 11438\n",
      "2020-06-14 15:19:06,027 - june.simulator - INFO - Date = 2020-04-14 00:00:00, number of deaths =  5, number of infected = 11823\n",
      "2020-06-14 15:19:06,332 - june.simulator - INFO - Date = 2020-04-14 01:00:00, number of deaths =  5, number of infected = 11853\n",
      "2020-06-14 15:19:06,724 - june.simulator - INFO - Date = 2020-04-14 09:00:00, number of deaths =  5, number of infected = 12425\n",
      "2020-06-14 15:19:07,053 - june.simulator - INFO - Date = 2020-04-14 10:00:00, number of deaths =  5, number of infected = 12456\n",
      "2020-06-14 15:19:07,523 - june.simulator - INFO - Date = 2020-04-14 13:00:00, number of deaths =  5, number of infected = 12491\n",
      "2020-06-14 15:19:07,878 - june.simulator - INFO - Date = 2020-04-15 00:00:00, number of deaths =  5, number of infected = 12711\n",
      "2020-06-14 15:19:08,167 - june.simulator - INFO - Date = 2020-04-15 01:00:00, number of deaths =  5, number of infected = 12723\n",
      "2020-06-14 15:19:08,734 - june.simulator - INFO - Date = 2020-04-15 09:00:00, number of deaths =  5, number of infected = 13227\n",
      "2020-06-14 15:19:09,131 - june.simulator - INFO - Date = 2020-04-15 10:00:00, number of deaths =  5, number of infected = 13251\n",
      "2020-06-14 15:19:09,428 - june.simulator - INFO - Date = 2020-04-15 13:00:00, number of deaths =  5, number of infected = 13286\n",
      "2020-06-14 15:19:09,805 - june.simulator - INFO - Date = 2020-04-16 00:00:00, number of deaths =  5, number of infected = 13384\n",
      "2020-06-14 15:19:10,107 - june.simulator - INFO - Date = 2020-04-16 01:00:00, number of deaths =  5, number of infected = 13404\n",
      "2020-06-14 15:19:10,598 - june.simulator - INFO - Date = 2020-04-16 09:00:00, number of deaths =  6, number of infected = 13821\n",
      "2020-06-14 15:19:10,956 - june.simulator - INFO - Date = 2020-04-16 10:00:00, number of deaths =  6, number of infected = 13846\n",
      "2020-06-14 15:19:11,251 - june.simulator - INFO - Date = 2020-04-16 13:00:00, number of deaths =  6, number of infected = 13902\n",
      "2020-06-14 15:19:11,687 - june.simulator - INFO - Date = 2020-04-17 00:00:00, number of deaths =  8, number of infected = 14159\n",
      "2020-06-14 15:19:12,013 - june.simulator - INFO - Date = 2020-04-17 01:00:00, number of deaths =  8, number of infected = 14180\n"
     ]
    },
    {
     "name": "stdout",
     "output_type": "stream",
     "text": [
      "2020-06-14 15:19:12,434 - june.simulator - INFO - Date = 2020-04-17 09:00:00, number of deaths =  8, number of infected = 14568\n",
      "2020-06-14 15:19:12,970 - june.simulator - INFO - Date = 2020-04-17 10:00:00, number of deaths =  8, number of infected = 14602\n",
      "2020-06-14 15:19:13,253 - june.simulator - INFO - Date = 2020-04-17 13:00:00, number of deaths =  9, number of infected = 14633\n",
      "2020-06-14 15:19:13,659 - june.simulator - INFO - Date = 2020-04-18 00:00:00, number of deaths =  9, number of infected = 14838\n",
      "2020-06-14 15:19:13,956 - june.simulator - INFO - Date = 2020-04-18 03:00:00, number of deaths =  9, number of infected = 14878\n",
      "2020-06-14 15:19:14,266 - june.simulator - INFO - Date = 2020-04-18 06:00:00, number of deaths =  9, number of infected = 14936\n",
      "2020-06-14 15:19:14,542 - june.simulator - INFO - Date = 2020-04-18 09:00:00, number of deaths =  9, number of infected = 14976\n",
      "2020-06-14 15:19:14,925 - june.simulator - INFO - Date = 2020-04-19 00:00:00, number of deaths =  10, number of infected = 15267\n",
      "2020-06-14 15:19:15,220 - june.simulator - INFO - Date = 2020-04-19 03:00:00, number of deaths =  11, number of infected = 15304\n",
      "2020-06-14 15:19:15,515 - june.simulator - INFO - Date = 2020-04-19 06:00:00, number of deaths =  11, number of infected = 15330\n",
      "2020-06-14 15:19:15,791 - june.simulator - INFO - Date = 2020-04-19 09:00:00, number of deaths =  11, number of infected = 15345\n",
      "2020-06-14 15:19:16,172 - june.simulator - INFO - Date = 2020-04-20 00:00:00, number of deaths =  12, number of infected = 15629\n",
      "2020-06-14 15:19:16,490 - june.simulator - INFO - Date = 2020-04-20 01:00:00, number of deaths =  12, number of infected = 15649\n",
      "2020-06-14 15:19:16,920 - june.simulator - INFO - Date = 2020-04-20 09:00:00, number of deaths =  15, number of infected = 15963\n",
      "2020-06-14 15:19:17,237 - june.simulator - INFO - Date = 2020-04-20 10:00:00, number of deaths =  15, number of infected = 15987\n",
      "2020-06-14 15:19:17,533 - june.simulator - INFO - Date = 2020-04-20 13:00:00, number of deaths =  15, number of infected = 16027\n",
      "2020-06-14 15:19:17,924 - june.simulator - INFO - Date = 2020-04-21 00:00:00, number of deaths =  15, number of infected = 16163\n",
      "2020-06-14 15:19:18,206 - june.simulator - INFO - Date = 2020-04-21 01:00:00, number of deaths =  15, number of infected = 16177\n",
      "2020-06-14 15:19:18,679 - june.simulator - INFO - Date = 2020-04-21 09:00:00, number of deaths =  15, number of infected = 16397\n",
      "2020-06-14 15:19:19,007 - june.simulator - INFO - Date = 2020-04-21 10:00:00, number of deaths =  15, number of infected = 16416\n",
      "2020-06-14 15:19:19,276 - june.simulator - INFO - Date = 2020-04-21 13:00:00, number of deaths =  15, number of infected = 16438\n",
      "2020-06-14 15:19:19,609 - june.simulator - INFO - Date = 2020-04-22 00:00:00, number of deaths =  16, number of infected = 16504\n",
      "2020-06-14 15:19:19,998 - june.simulator - INFO - Date = 2020-04-22 01:00:00, number of deaths =  16, number of infected = 16507\n",
      "2020-06-14 15:19:20,671 - june.simulator - INFO - Date = 2020-04-22 09:00:00, number of deaths =  16, number of infected = 16674\n",
      "2020-06-14 15:19:21,081 - june.simulator - INFO - Date = 2020-04-22 10:00:00, number of deaths =  16, number of infected = 16681\n",
      "2020-06-14 15:19:21,476 - june.simulator - INFO - Date = 2020-04-22 13:00:00, number of deaths =  17, number of infected = 16681\n",
      "2020-06-14 15:19:21,856 - june.simulator - INFO - Date = 2020-04-23 00:00:00, number of deaths =  19, number of infected = 16695\n",
      "2020-06-14 15:19:22,182 - june.simulator - INFO - Date = 2020-04-23 01:00:00, number of deaths =  19, number of infected = 16688\n",
      "2020-06-14 15:19:22,760 - june.simulator - INFO - Date = 2020-04-23 09:00:00, number of deaths =  21, number of infected = 16793\n",
      "2020-06-14 15:19:23,263 - june.simulator - INFO - Date = 2020-04-23 10:00:00, number of deaths =  21, number of infected = 16793\n",
      "2020-06-14 15:19:23,554 - june.simulator - INFO - Date = 2020-04-23 13:00:00, number of deaths =  21, number of infected = 16775\n",
      "2020-06-14 15:19:23,913 - june.simulator - INFO - Date = 2020-04-24 00:00:00, number of deaths =  23, number of infected = 16789\n",
      "2020-06-14 15:19:24,262 - june.simulator - INFO - Date = 2020-04-24 01:00:00, number of deaths =  23, number of infected = 16789\n",
      "2020-06-14 15:19:24,837 - june.simulator - INFO - Date = 2020-04-24 09:00:00, number of deaths =  26, number of infected = 16789\n",
      "2020-06-14 15:19:25,253 - june.simulator - INFO - Date = 2020-04-24 10:00:00, number of deaths =  26, number of infected = 16784\n",
      "2020-06-14 15:19:25,546 - june.simulator - INFO - Date = 2020-04-24 13:00:00, number of deaths =  27, number of infected = 16782\n",
      "2020-06-14 15:19:26,106 - june.simulator - INFO - Date = 2020-04-25 00:00:00, number of deaths =  27, number of infected = 16763\n",
      "2020-06-14 15:19:26,422 - june.simulator - INFO - Date = 2020-04-25 03:00:00, number of deaths =  27, number of infected = 16758\n",
      "2020-06-14 15:19:27,060 - june.simulator - INFO - Date = 2020-04-25 06:00:00, number of deaths =  28, number of infected = 16738\n",
      "2020-06-14 15:19:27,425 - june.simulator - INFO - Date = 2020-04-25 09:00:00, number of deaths =  29, number of infected = 16715\n",
      "2020-06-14 15:19:27,775 - june.simulator - INFO - Date = 2020-04-26 00:00:00, number of deaths =  36, number of infected = 16557\n",
      "2020-06-14 15:19:28,132 - june.simulator - INFO - Date = 2020-04-26 03:00:00, number of deaths =  37, number of infected = 16512\n",
      "2020-06-14 15:19:28,673 - june.simulator - INFO - Date = 2020-04-26 06:00:00, number of deaths =  37, number of infected = 16486\n",
      "2020-06-14 15:19:28,946 - june.simulator - INFO - Date = 2020-04-26 09:00:00, number of deaths =  38, number of infected = 16454\n",
      "2020-06-14 15:19:29,303 - june.simulator - INFO - Date = 2020-04-27 00:00:00, number of deaths =  40, number of infected = 16352\n",
      "2020-06-14 15:19:29,594 - june.simulator - INFO - Date = 2020-04-27 01:00:00, number of deaths =  40, number of infected = 16353\n",
      "2020-06-14 15:19:30,304 - june.simulator - INFO - Date = 2020-04-27 09:00:00, number of deaths =  41, number of infected = 16332\n",
      "2020-06-14 15:19:30,610 - june.simulator - INFO - Date = 2020-04-27 10:00:00, number of deaths =  43, number of infected = 16324\n",
      "2020-06-14 15:19:30,880 - june.simulator - INFO - Date = 2020-04-27 13:00:00, number of deaths =  43, number of infected = 16295\n",
      "2020-06-14 15:19:31,204 - june.simulator - INFO - Date = 2020-04-28 00:00:00, number of deaths =  44, number of infected = 16200\n",
      "2020-06-14 15:19:31,486 - june.simulator - INFO - Date = 2020-04-28 01:00:00, number of deaths =  44, number of infected = 16194\n",
      "2020-06-14 15:19:31,999 - june.simulator - INFO - Date = 2020-04-28 09:00:00, number of deaths =  45, number of infected = 16102\n",
      "2020-06-14 15:19:32,308 - june.simulator - INFO - Date = 2020-04-28 10:00:00, number of deaths =  45, number of infected = 16091\n",
      "2020-06-14 15:19:32,566 - june.simulator - INFO - Date = 2020-04-28 13:00:00, number of deaths =  46, number of infected = 16040\n",
      "2020-06-14 15:19:32,952 - june.simulator - INFO - Date = 2020-04-29 00:00:00, number of deaths =  46, number of infected = 15841\n",
      "2020-06-14 15:19:33,223 - june.simulator - INFO - Date = 2020-04-29 01:00:00, number of deaths =  46, number of infected = 15835\n",
      "2020-06-14 15:19:33,812 - june.simulator - INFO - Date = 2020-04-29 09:00:00, number of deaths =  50, number of infected = 15709\n",
      "2020-06-14 15:19:34,124 - june.simulator - INFO - Date = 2020-04-29 10:00:00, number of deaths =  50, number of infected = 15686\n",
      "2020-06-14 15:19:34,409 - june.simulator - INFO - Date = 2020-04-29 13:00:00, number of deaths =  51, number of infected = 15620\n",
      "2020-06-14 15:19:34,767 - june.simulator - INFO - Date = 2020-04-30 00:00:00, number of deaths =  55, number of infected = 15390\n",
      "2020-06-14 15:19:35,078 - june.simulator - INFO - Date = 2020-04-30 01:00:00, number of deaths =  55, number of infected = 15361\n",
      "2020-06-14 15:19:35,568 - june.simulator - INFO - Date = 2020-04-30 09:00:00, number of deaths =  55, number of infected = 15232\n",
      "2020-06-14 15:19:35,881 - june.simulator - INFO - Date = 2020-04-30 10:00:00, number of deaths =  56, number of infected = 15203\n",
      "2020-06-14 15:19:36,140 - june.simulator - INFO - Date = 2020-04-30 13:00:00, number of deaths =  56, number of infected = 15137\n"
     ]
    },
    {
     "name": "stdout",
     "output_type": "stream",
     "text": [
      "2020-06-14 15:19:36,530 - june.simulator - INFO - Date = 2020-05-01 00:00:00, number of deaths =  56, number of infected = 14906\n",
      "2020-06-14 15:19:36,803 - june.simulator - INFO - Date = 2020-05-01 01:00:00, number of deaths =  56, number of infected = 14886\n",
      "2020-06-14 15:19:37,252 - june.simulator - INFO - Date = 2020-05-01 09:00:00, number of deaths =  62, number of infected = 14736\n",
      "2020-06-14 15:19:37,542 - june.simulator - INFO - Date = 2020-05-01 10:00:00, number of deaths =  62, number of infected = 14715\n",
      "2020-06-14 15:19:37,791 - june.simulator - INFO - Date = 2020-05-01 13:00:00, number of deaths =  62, number of infected = 14643\n",
      "2020-06-14 15:19:38,089 - june.simulator - INFO - Date = 2020-05-02 00:00:00, number of deaths =  65, number of infected = 14342\n",
      "2020-06-14 15:19:38,426 - june.simulator - INFO - Date = 2020-05-02 03:00:00, number of deaths =  66, number of infected = 14258\n",
      "2020-06-14 15:19:38,695 - june.simulator - INFO - Date = 2020-05-02 06:00:00, number of deaths =  66, number of infected = 14175\n",
      "2020-06-14 15:19:38,938 - june.simulator - INFO - Date = 2020-05-02 09:00:00, number of deaths =  66, number of infected = 14086\n",
      "2020-06-14 15:19:39,255 - june.simulator - INFO - Date = 2020-05-03 00:00:00, number of deaths =  67, number of infected = 13684\n",
      "2020-06-14 15:19:39,526 - june.simulator - INFO - Date = 2020-05-03 03:00:00, number of deaths =  67, number of infected = 13616\n",
      "2020-06-14 15:19:39,799 - june.simulator - INFO - Date = 2020-05-03 06:00:00, number of deaths =  69, number of infected = 13534\n",
      "2020-06-14 15:19:40,045 - june.simulator - INFO - Date = 2020-05-03 09:00:00, number of deaths =  70, number of infected = 13445\n",
      "2020-06-14 15:19:40,456 - june.simulator - INFO - Date = 2020-05-04 00:00:00, number of deaths =  75, number of infected = 13055\n",
      "2020-06-14 15:19:40,709 - june.simulator - INFO - Date = 2020-05-04 01:00:00, number of deaths =  75, number of infected = 13035\n",
      "2020-06-14 15:19:41,028 - june.simulator - INFO - Date = 2020-05-04 09:00:00, number of deaths =  76, number of infected = 12793\n",
      "2020-06-14 15:19:41,307 - june.simulator - INFO - Date = 2020-05-04 10:00:00, number of deaths =  76, number of infected = 12771\n",
      "2020-06-14 15:19:41,539 - june.simulator - INFO - Date = 2020-05-04 13:00:00, number of deaths =  76, number of infected = 12690\n",
      "2020-06-14 15:19:41,978 - june.simulator - INFO - Date = 2020-05-05 00:00:00, number of deaths =  77, number of infected = 12346\n",
      "2020-06-14 15:19:42,225 - june.simulator - INFO - Date = 2020-05-05 01:00:00, number of deaths =  79, number of infected = 12311\n",
      "2020-06-14 15:19:42,520 - june.simulator - INFO - Date = 2020-05-05 09:00:00, number of deaths =  81, number of infected = 12082\n",
      "2020-06-14 15:19:42,787 - june.simulator - INFO - Date = 2020-05-05 10:00:00, number of deaths =  81, number of infected = 12054\n",
      "2020-06-14 15:19:43,014 - june.simulator - INFO - Date = 2020-05-05 13:00:00, number of deaths =  83, number of infected = 11944\n",
      "2020-06-14 15:19:43,272 - june.simulator - INFO - Date = 2020-05-06 00:00:00, number of deaths =  85, number of infected = 11599\n",
      "2020-06-14 15:19:43,509 - june.simulator - INFO - Date = 2020-05-06 01:00:00, number of deaths =  85, number of infected = 11568\n",
      "2020-06-14 15:19:43,802 - june.simulator - INFO - Date = 2020-05-06 09:00:00, number of deaths =  86, number of infected = 11331\n",
      "2020-06-14 15:19:44,061 - june.simulator - INFO - Date = 2020-05-06 10:00:00, number of deaths =  86, number of infected = 11298\n",
      "2020-06-14 15:19:44,432 - june.simulator - INFO - Date = 2020-05-06 13:00:00, number of deaths =  86, number of infected = 11213\n",
      "2020-06-14 15:19:44,678 - june.simulator - INFO - Date = 2020-05-07 00:00:00, number of deaths =  87, number of infected = 10845\n",
      "2020-06-14 15:19:44,946 - june.simulator - INFO - Date = 2020-05-07 01:00:00, number of deaths =  87, number of infected = 10808\n",
      "2020-06-14 15:19:45,244 - june.simulator - INFO - Date = 2020-05-07 09:00:00, number of deaths =  88, number of infected = 10542\n",
      "2020-06-14 15:19:45,512 - june.simulator - INFO - Date = 2020-05-07 10:00:00, number of deaths =  88, number of infected = 10509\n",
      "2020-06-14 15:19:46,036 - june.simulator - INFO - Date = 2020-05-07 13:00:00, number of deaths =  89, number of infected = 10419\n",
      "2020-06-14 15:19:46,502 - june.simulator - INFO - Date = 2020-05-08 00:00:00, number of deaths =  91, number of infected = 10079\n",
      "2020-06-14 15:19:46,774 - june.simulator - INFO - Date = 2020-05-08 01:00:00, number of deaths =  91, number of infected = 10048\n",
      "2020-06-14 15:19:47,333 - june.simulator - INFO - Date = 2020-05-08 09:00:00, number of deaths =  92, number of infected = 9804\n",
      "2020-06-14 15:19:47,595 - june.simulator - INFO - Date = 2020-05-08 10:00:00, number of deaths =  92, number of infected = 9778\n",
      "2020-06-14 15:19:47,836 - june.simulator - INFO - Date = 2020-05-08 13:00:00, number of deaths =  92, number of infected = 9671\n",
      "2020-06-14 15:19:48,111 - june.simulator - INFO - Date = 2020-05-09 00:00:00, number of deaths =  95, number of infected = 9353\n",
      "2020-06-14 15:19:48,366 - june.simulator - INFO - Date = 2020-05-09 03:00:00, number of deaths =  95, number of infected = 9253\n",
      "2020-06-14 15:19:48,775 - june.simulator - INFO - Date = 2020-05-09 06:00:00, number of deaths =  95, number of infected = 9161\n",
      "2020-06-14 15:19:48,986 - june.simulator - INFO - Date = 2020-05-09 09:00:00, number of deaths =  95, number of infected = 9065\n",
      "2020-06-14 15:19:49,262 - june.simulator - INFO - Date = 2020-05-10 00:00:00, number of deaths =  96, number of infected = 8617\n",
      "2020-06-14 15:19:49,508 - june.simulator - INFO - Date = 2020-05-10 03:00:00, number of deaths =  96, number of infected = 8514\n",
      "2020-06-14 15:19:49,745 - june.simulator - INFO - Date = 2020-05-10 06:00:00, number of deaths =  96, number of infected = 8435\n",
      "2020-06-14 15:19:49,955 - june.simulator - INFO - Date = 2020-05-10 09:00:00, number of deaths =  96, number of infected = 8347\n",
      "2020-06-14 15:19:50,191 - june.simulator - INFO - Date = 2020-05-11 00:00:00, number of deaths =  97, number of infected = 7929\n",
      "2020-06-14 15:19:50,420 - june.simulator - INFO - Date = 2020-05-11 01:00:00, number of deaths =  97, number of infected = 7904\n",
      "2020-06-14 15:19:50,640 - june.simulator - INFO - Date = 2020-05-11 09:00:00, number of deaths =  98, number of infected = 7678\n",
      "2020-06-14 15:19:50,885 - june.simulator - INFO - Date = 2020-05-11 10:00:00, number of deaths =  98, number of infected = 7647\n",
      "2020-06-14 15:19:51,085 - june.simulator - INFO - Date = 2020-05-11 13:00:00, number of deaths =  98, number of infected = 7574\n",
      "2020-06-14 15:19:51,302 - june.simulator - INFO - Date = 2020-05-12 00:00:00, number of deaths =  101, number of infected = 7268\n",
      "2020-06-14 15:19:51,518 - june.simulator - INFO - Date = 2020-05-12 01:00:00, number of deaths =  101, number of infected = 7248\n",
      "2020-06-14 15:19:51,741 - june.simulator - INFO - Date = 2020-05-12 09:00:00, number of deaths =  106, number of infected = 7001\n",
      "2020-06-14 15:19:51,977 - june.simulator - INFO - Date = 2020-05-12 10:00:00, number of deaths =  106, number of infected = 6975\n",
      "2020-06-14 15:19:52,167 - june.simulator - INFO - Date = 2020-05-12 13:00:00, number of deaths =  106, number of infected = 6885\n",
      "2020-06-14 15:19:52,384 - june.simulator - INFO - Date = 2020-05-13 00:00:00, number of deaths =  106, number of infected = 6621\n",
      "2020-06-14 15:19:52,598 - june.simulator - INFO - Date = 2020-05-13 01:00:00, number of deaths =  106, number of infected = 6597\n",
      "2020-06-14 15:19:52,816 - june.simulator - INFO - Date = 2020-05-13 09:00:00, number of deaths =  106, number of infected = 6376\n",
      "2020-06-14 15:19:53,046 - june.simulator - INFO - Date = 2020-05-13 10:00:00, number of deaths =  106, number of infected = 6349\n",
      "2020-06-14 15:19:53,242 - june.simulator - INFO - Date = 2020-05-13 13:00:00, number of deaths =  106, number of infected = 6268\n",
      "2020-06-14 15:19:53,459 - june.simulator - INFO - Date = 2020-05-14 00:00:00, number of deaths =  107, number of infected = 5983\n",
      "2020-06-14 15:19:53,679 - june.simulator - INFO - Date = 2020-05-14 01:00:00, number of deaths =  107, number of infected = 5958\n",
      "2020-06-14 15:19:53,894 - june.simulator - INFO - Date = 2020-05-14 09:00:00, number of deaths =  107, number of infected = 5769\n"
     ]
    },
    {
     "name": "stdout",
     "output_type": "stream",
     "text": [
      "2020-06-14 15:19:54,139 - june.simulator - INFO - Date = 2020-05-14 10:00:00, number of deaths =  107, number of infected = 5754\n",
      "2020-06-14 15:19:54,322 - june.simulator - INFO - Date = 2020-05-14 13:00:00, number of deaths =  107, number of infected = 5661\n",
      "2020-06-14 15:19:54,533 - june.simulator - INFO - Date = 2020-05-15 00:00:00, number of deaths =  108, number of infected = 5387\n",
      "2020-06-14 15:19:54,779 - june.simulator - INFO - Date = 2020-05-15 01:00:00, number of deaths =  108, number of infected = 5369\n",
      "2020-06-14 15:19:54,988 - june.simulator - INFO - Date = 2020-05-15 09:00:00, number of deaths =  108, number of infected = 5206\n",
      "2020-06-14 15:19:55,210 - june.simulator - INFO - Date = 2020-05-15 10:00:00, number of deaths =  108, number of infected = 5189\n",
      "2020-06-14 15:19:55,386 - june.simulator - INFO - Date = 2020-05-15 13:00:00, number of deaths =  108, number of infected = 5135\n",
      "2020-06-14 15:19:55,612 - june.simulator - INFO - Date = 2020-05-16 00:00:00, number of deaths =  110, number of infected = 4885\n",
      "CPU times: user 1min 48s, sys: 2.05 s, total: 1min 50s\n",
      "Wall time: 1min 48s\n"
     ]
    }
   ],
   "source": [
    "%%time\n",
    "simulator.run()"
   ]
  },
  {
   "cell_type": "markdown",
   "metadata": {},
   "source": [
    "While the simulation runs (and afterwards) we can launch the visualization webpage by running\n",
    "```python june/visualizer.py path/to/results``` "
   ]
  },
  {
   "cell_type": "markdown",
   "metadata": {},
   "source": [
    "# Getting the results"
   ]
  },
  {
   "cell_type": "markdown",
   "metadata": {},
   "source": [
    "All results are stored in a json file specified in the ``save_path`` variable in the config file. We can also access it from ``world.logger`` directly."
   ]
  },
  {
   "cell_type": "code",
   "execution_count": 31,
   "metadata": {},
   "outputs": [],
   "source": [
    "import pandas as pd"
   ]
  },
  {
   "cell_type": "code",
   "execution_count": 32,
   "metadata": {},
   "outputs": [],
   "source": [
    "read = ReadLogger()"
   ]
  },
  {
   "cell_type": "markdown",
   "metadata": {},
   "source": [
    "## Hospital data and how it changed over time"
   ]
  },
  {
   "cell_type": "code",
   "execution_count": 33,
   "metadata": {},
   "outputs": [],
   "source": [
    "hospitals_df = read.load_hospital_capacity()"
   ]
  },
  {
   "cell_type": "code",
   "execution_count": 34,
   "metadata": {},
   "outputs": [
    {
     "data": {
      "text/html": [
       "<div>\n",
       "<style scoped>\n",
       "    .dataframe tbody tr th:only-of-type {\n",
       "        vertical-align: middle;\n",
       "    }\n",
       "\n",
       "    .dataframe tbody tr th {\n",
       "        vertical-align: top;\n",
       "    }\n",
       "\n",
       "    .dataframe thead th {\n",
       "        text-align: right;\n",
       "    }\n",
       "</style>\n",
       "<table border=\"1\" class=\"dataframe\">\n",
       "  <thead>\n",
       "    <tr style=\"text-align: right;\">\n",
       "      <th></th>\n",
       "      <th>time_stamp</th>\n",
       "      <th>id</th>\n",
       "      <th>n_patients</th>\n",
       "      <th>n_patients_icu</th>\n",
       "    </tr>\n",
       "  </thead>\n",
       "  <tbody>\n",
       "    <tr>\n",
       "      <th>0</th>\n",
       "      <td>2020-03-07T03:00:00.000000</td>\n",
       "      <td>0</td>\n",
       "      <td>0</td>\n",
       "      <td>0</td>\n",
       "    </tr>\n",
       "    <tr>\n",
       "      <th>0</th>\n",
       "      <td>2020-03-07T03:00:00.000000</td>\n",
       "      <td>1</td>\n",
       "      <td>0</td>\n",
       "      <td>0</td>\n",
       "    </tr>\n",
       "    <tr>\n",
       "      <th>1</th>\n",
       "      <td>2020-03-07T06:00:00.000000</td>\n",
       "      <td>0</td>\n",
       "      <td>0</td>\n",
       "      <td>0</td>\n",
       "    </tr>\n",
       "  </tbody>\n",
       "</table>\n",
       "</div>"
      ],
      "text/plain": [
       "                   time_stamp id n_patients n_patients_icu\n",
       "0  2020-03-07T03:00:00.000000  0          0              0\n",
       "0  2020-03-07T03:00:00.000000  1          0              0\n",
       "1  2020-03-07T06:00:00.000000  0          0              0"
      ]
     },
     "execution_count": 34,
     "metadata": {},
     "output_type": "execute_result"
    }
   ],
   "source": [
    "hospitals_df.head(3)"
   ]
  },
  {
   "cell_type": "code",
   "execution_count": 35,
   "metadata": {},
   "outputs": [],
   "source": [
    "hospitals_characteristics_df = read.load_hospital_characteristics()"
   ]
  },
  {
   "cell_type": "code",
   "execution_count": 36,
   "metadata": {},
   "outputs": [
    {
     "data": {
      "text/html": [
       "<div>\n",
       "<style scoped>\n",
       "    .dataframe tbody tr th:only-of-type {\n",
       "        vertical-align: middle;\n",
       "    }\n",
       "\n",
       "    .dataframe tbody tr th {\n",
       "        vertical-align: top;\n",
       "    }\n",
       "\n",
       "    .dataframe thead th {\n",
       "        text-align: right;\n",
       "    }\n",
       "</style>\n",
       "<table border=\"1\" class=\"dataframe\">\n",
       "  <thead>\n",
       "    <tr style=\"text-align: right;\">\n",
       "      <th></th>\n",
       "      <th>longitude</th>\n",
       "      <th>latitude</th>\n",
       "      <th>n_beds</th>\n",
       "      <th>n_icu_beds</th>\n",
       "    </tr>\n",
       "  </thead>\n",
       "  <tbody>\n",
       "    <tr>\n",
       "      <th>0</th>\n",
       "      <td>-1.59082</td>\n",
       "      <td>54.53125</td>\n",
       "      <td>128</td>\n",
       "      <td>4</td>\n",
       "    </tr>\n",
       "    <tr>\n",
       "      <th>1</th>\n",
       "      <td>-1.59082</td>\n",
       "      <td>54.53125</td>\n",
       "      <td>128</td>\n",
       "      <td>4</td>\n",
       "    </tr>\n",
       "  </tbody>\n",
       "</table>\n",
       "</div>"
      ],
      "text/plain": [
       "   longitude  latitude  n_beds  n_icu_beds\n",
       "0   -1.59082  54.53125     128           4\n",
       "1   -1.59082  54.53125     128           4"
      ]
     },
     "execution_count": 36,
     "metadata": {},
     "output_type": "execute_result"
    }
   ],
   "source": [
    "hospitals_characteristics_df"
   ]
  },
  {
   "cell_type": "markdown",
   "metadata": {},
   "source": [
    "## where did infections happen?"
   ]
  },
  {
   "cell_type": "code",
   "execution_count": 37,
   "metadata": {},
   "outputs": [],
   "source": [
    "loc_df = read.get_locations_infections()"
   ]
  },
  {
   "cell_type": "code",
   "execution_count": 38,
   "metadata": {},
   "outputs": [
    {
     "data": {
      "text/plain": [
       "Text(0.5, 0, 'location')"
      ]
     },
     "execution_count": 38,
     "metadata": {},
     "output_type": "execute_result"
    },
    {
     "data": {
      "image/png": "[encoded data removed]",
      "text/plain": [
       "<Figure size 432x288 with 1 Axes>"
      ]
     },
     "metadata": {
      "needs_background": "light"
     },
     "output_type": "display_data"
    }
   ],
   "source": [
    "import matplotlib.ticker as mtick\n",
    "\n",
    "ax = loc_df['percentage_infections'].sort_values().plot.bar()\n",
    "ax.yaxis.set_major_formatter(mtick.PercentFormatter())\n",
    "plt.ylabel('Percentage of infections at location')\n",
    "plt.xlabel('location')"
   ]
  },
  {
   "cell_type": "markdown",
   "metadata": {},
   "source": [
    "## rate of infection"
   ]
  },
  {
   "cell_type": "code",
   "execution_count": 39,
   "metadata": {},
   "outputs": [],
   "source": [
    "r_df = read.get_r()"
   ]
  },
  {
   "cell_type": "code",
   "execution_count": 40,
   "metadata": {},
   "outputs": [
    {
     "data": {
      "text/plain": [
       "Text(0, 0.5, 'R')"
      ]
     },
     "execution_count": 40,
     "metadata": {},
     "output_type": "execute_result"
    },
    {
     "data": {
      "image/png": "[encoded data removed]",
      "text/plain": [
       "<Figure size 432x288 with 1 Axes>"
      ]
     },
     "metadata": {
      "needs_background": "light"
     },
     "output_type": "display_data"
    }
   ],
   "source": [
    "r_df.plot()\n",
    "plt.axvspan(policies.social_distancing_start, \n",
    "            policies.social_distancing_end,\n",
    "            facecolor='y', alpha=0.2)\n",
    "plt.axhline(y=1, linestyle='dashed', color='gray')\n",
    "plt.xlabel('Date')\n",
    "plt.ylabel('R')"
   ]
  },
  {
   "cell_type": "markdown",
   "metadata": {},
   "source": [
    "## World infection curves, and by super area"
   ]
  },
  {
   "cell_type": "code",
   "execution_count": 41,
   "metadata": {},
   "outputs": [],
   "source": [
    "world_df = read.world_summary()"
   ]
  },
  {
   "cell_type": "code",
   "execution_count": 42,
   "metadata": {},
   "outputs": [
    {
     "data": {
      "text/plain": [
       "<matplotlib.legend.Legend at 0x7f85f4205b50>"
      ]
     },
     "execution_count": 42,
     "metadata": {},
     "output_type": "execute_result"
    },
    {
     "data": {
      "image/png": "[encoded data removed]",
      "text/plain": [
       "<Figure size 432x288 with 1 Axes>"
      ]
     },
     "metadata": {
      "needs_background": "light"
     },
     "output_type": "display_data"
    }
   ],
   "source": [
    "world_df.plot()\n",
    "plt.axvspan(policies.social_distancing_start, \n",
    "            policies.social_distancing_end,\n",
    "            facecolor='y', alpha=0.2)\n",
    "plt.legend()"
   ]
  },
  {
   "cell_type": "code",
   "execution_count": 43,
   "metadata": {},
   "outputs": [],
   "source": [
    "area_df = read.super_area_summary()"
   ]
  },
  {
   "cell_type": "code",
   "execution_count": 44,
   "metadata": {},
   "outputs": [
    {
     "data": {
      "text/plain": [
       "<matplotlib.legend.Legend at 0x7f85f12c62e0>"
      ]
     },
     "execution_count": 44,
     "metadata": {},
     "output_type": "execute_result"
    },
    {
     "data": {
      "image/png": "[encoded data removed]",
      "text/plain": [
       "<Figure size 432x288 with 1 Axes>"
      ]
     },
     "metadata": {
      "needs_background": "light"
     },
     "output_type": "display_data"
    }
   ],
   "source": [
    "area_df[area_df.super_area == \"E02002512\"].plot()\n",
    "plt.legend()"
   ]
  },
  {
   "cell_type": "code",
   "execution_count": 45,
   "metadata": {},
   "outputs": [
    {
     "data": {
      "text/plain": [
       "<matplotlib.legend.Legend at 0x7f85f1260760>"
      ]
     },
     "execution_count": 45,
     "metadata": {},
     "output_type": "execute_result"
    },
    {
     "data": {
      "image/png": "[encoded data removed]",
      "text/plain": [
       "<Figure size 432x288 with 1 Axes>"
      ]
     },
     "metadata": {
      "needs_background": "light"
     },
     "output_type": "display_data"
    }
   ],
   "source": [
    "area_df[area_df.super_area == \"E02001697\"].plot()\n",
    "plt.legend()"
   ]
  },
  {
   "cell_type": "markdown",
   "metadata": {},
   "source": [
    "## World infection curves per age group"
   ]
  },
  {
   "cell_type": "code",
   "execution_count": 46,
   "metadata": {},
   "outputs": [],
   "source": [
    "ages_df = read.age_summary([0,10,20,30,40,\n",
    "                  50,60,70,80,90,100])"
   ]
  },
  {
   "cell_type": "code",
   "execution_count": 47,
   "metadata": {},
   "outputs": [
    {
     "data": {
      "text/plain": [
       "<matplotlib.legend.Legend at 0x7f85f12c6280>"
      ]
     },
     "execution_count": 47,
     "metadata": {},
     "output_type": "execute_result"
    },
    {
     "data": {
      "image/png": "[encoded data removed]",
      "text/plain": [
       "<Figure size 432x288 with 1 Axes>"
      ]
     },
     "metadata": {
      "needs_background": "light"
     },
     "output_type": "display_data"
    }
   ],
   "source": [
    "for name, group in ages_df.groupby('age_range'):\n",
    "    group['infected'].plot(label=name)\n",
    "plt.axvspan(policies.social_distancing_start, \n",
    "            policies.social_distancing_end,\n",
    "            facecolor='y', alpha=0.2)\n",
    "plt.legend()"
   ]
  },
  {
   "cell_type": "code",
   "execution_count": 48,
   "metadata": {},
   "outputs": [
    {
     "data": {
      "text/plain": [
       "<matplotlib.legend.Legend at 0x7f85f42ab040>"
      ]
     },
     "execution_count": 48,
     "metadata": {},
     "output_type": "execute_result"
    },
    {
     "data": {
      "image/png": "[encoded data removed]",
      "text/plain": [
       "<Figure size 432x288 with 1 Axes>"
      ]
     },
     "metadata": {
      "needs_background": "light"
     },
     "output_type": "display_data"
    }
   ],
   "source": [
    "for name, group in ages_df.groupby('age_range'):\n",
    "    group['dead'].cumsum().plot(label=name)\n",
    "plt.legend()"
   ]
  },
  {
   "cell_type": "code",
   "execution_count": 49,
   "metadata": {},
   "outputs": [
    {
     "data": {
      "text/plain": [
       "<matplotlib.legend.Legend at 0x7f85f1c5e130>"
      ]
     },
     "execution_count": 49,
     "metadata": {},
     "output_type": "execute_result"
    },
    {
     "data": {
      "image/png": "[encoded data removed]",
      "text/plain": [
       "<Figure size 432x288 with 1 Axes>"
      ]
     },
     "metadata": {
      "needs_background": "light"
     },
     "output_type": "display_data"
    }
   ],
   "source": [
    "for name, group in ages_df.groupby('age_range'):\n",
    "    group['susceptible'].plot(label=name)\n",
    "plt.legend()"
   ]
  },
  {
   "cell_type": "markdown",
   "metadata": {},
   "source": [
    "## Draw some of the symptoms trajectories"
   ]
  },
  {
   "cell_type": "code",
   "execution_count": 50,
   "metadata": {},
   "outputs": [],
   "source": [
    "random_trajectories = read.draw_symptom_trajectories(window_length=200,\n",
    "                                        n_people=5)"
   ]
  },
  {
   "cell_type": "code",
   "execution_count": 51,
   "metadata": {},
   "outputs": [],
   "source": [
    "from june.infection import SymptomTag"
   ]
  },
  {
   "cell_type": "code",
   "execution_count": 52,
   "metadata": {},
   "outputs": [],
   "source": [
    "symptoms_values = [tag.value for tag in SymptomTag]\n",
    "symptoms_names = [tag.name for tag in SymptomTag]\n"
   ]
  },
  {
   "cell_type": "code",
   "execution_count": null,
   "metadata": {},
   "outputs": [],
   "source": [
    "for df_person in random_trajectories:\n",
    "    df_person['symptoms'].plot()\n",
    "plt.ylabel('Symptoms Trajectory')\n",
    "_ = plt.yticks(symptoms_values, symptoms_names)\n",
    "plt.xlabel('Date')"
   ]
  },
  {
   "cell_type": "code",
   "execution_count": null,
   "metadata": {},
   "outputs": [],
   "source": [
    "for df_person in random_trajectories:\n",
    "    df_person['n_secondary_infections'].plot()\n",
    "plt.ylabel('Number of secondary infections')\n",
    "\n",
    "plt.xlabel('Date')"
   ]
  },
  {
   "cell_type": "code",
   "execution_count": null,
   "metadata": {},
   "outputs": [],
   "source": []
  },
  {
   "cell_type": "code",
   "execution_count": null,
   "metadata": {},
   "outputs": [],
   "source": []
  },
  {
   "cell_type": "code",
   "execution_count": null,
   "metadata": {},
   "outputs": [],
   "source": []
  }
 ],
 "metadata": {
  "kernelspec": {
   "display_name": "Python 3",
   "language": "python",
   "name": "python3"
  },
  "language_info": {
   "codemirror_mode": {
    "name": "ipython",
    "version": 3
   },
   "file_extension": ".py",
   "mimetype": "text/x-python",
   "name": "python",
   "nbconvert_exporter": "python",
   "pygments_lexer": "ipython3",
   "version": "3.8.3"
  }
 },
 "nbformat": 4,
 "nbformat_minor": 4
}
