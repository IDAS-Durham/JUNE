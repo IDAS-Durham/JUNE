{
 "cells": [
  {
   "cell_type": "code",
   "execution_count": 1,
   "metadata": {},
   "outputs": [],
   "source": [
    "%load_ext autoreload\n",
    "%autoreload 2"
   ]
  },
  {
   "cell_type": "code",
   "execution_count": 2,
   "metadata": {},
   "outputs": [],
   "source": [
    "import numpy as np\n",
    "import time\n",
    "from datetime import datetime\n",
    "import matplotlib.pyplot as plt\n",
    " \n",
    "plt.style.use(['science','notebook'])\n",
    "plt.style.reload_library()"
   ]
  },
  {
   "cell_type": "code",
   "execution_count": 3,
   "metadata": {},
   "outputs": [
    {
     "name": "stderr",
     "output_type": "stream",
     "text": [
      "No --data argument given - defaulting to:\n",
      "/home/florpi/JUNE/data\n",
      "No --configs argument given - defaulting to:\n",
      "/home/florpi/JUNE/configs\n"
     ]
    }
   ],
   "source": [
    "from june import World \n",
    "from june.demography.geography import Geography\n",
    "from june.demography import Demography\n",
    "from june.interaction import Interaction\n",
    "from june.infection import Infection, HealthIndexGenerator, InfectionSelector\n",
    "from june.infection.transmission import TransmissionConstant\n",
    "from june.groups import Hospitals, Schools, Companies, Households, CareHomes, Cemeteries, Universities\n",
    "from june.groups.leisure import generate_leisure_for_config, Cinemas, Pubs, Groceries\n",
    "from june.simulator import Simulator\n",
    "from june.infection_seed import InfectionSeed\n",
    "from june.policy import Policy, Policies\n",
    "from june import paths\n",
    "from june.hdf5_savers import load_geography_from_hdf5\n",
    "from june.logger.read_logger import ReadLogger\n",
    "from june.world import generate_world_from_geography\n",
    "from june.hdf5_savers import generate_world_from_hdf5"
   ]
  },
  {
   "cell_type": "markdown",
   "metadata": {},
   "source": [
    "# Initialize world\n",
    "\n",
    "To initialize a certain world, we need to add the different components we want to have in it. First we specify what super areas (msoa) we want to create. We have included these ones, because they are known to contain hospitals, schools, care homes, and companies.\n",
    "\n",
    "After creating the geography, we create the different components the worlds need to have such as care homes, companies ..."
   ]
  },
  {
   "cell_type": "code",
   "execution_count": 4,
   "metadata": {},
   "outputs": [],
   "source": [
    "CONFIG_PATH = paths.configs_path / \"config_example.yaml\""
   ]
  },
  {
   "cell_type": "code",
   "execution_count": 5,
   "metadata": {
    "scrolled": false
   },
   "outputs": [
    {
     "name": "stdout",
     "output_type": "stream",
     "text": [
      "2020-08-31 14:31:08,521 - june.demography.geography - INFO - There are 162 areas and 6 super_areas in the world.\n",
      "2020-08-31 14:31:08,528 - june.groups.hospital - INFO - There are 1 hospitals in this geography.\n",
      "2020-08-31 14:31:08,620 - june.groups.school - INFO - There are 26 schools in this geography.\n",
      "2020-08-31 14:31:08,687 - june.groups.school - INFO - No school for the age 0 in this world.\n",
      "2020-08-31 14:31:08,691 - june.groups.school - INFO - No school for the age 1 in this world.\n",
      "2020-08-31 14:31:08,698 - june.groups.school - INFO - No school for the age 2 in this world.\n",
      "2020-08-31 14:31:09,078 - june.groups.carehome - INFO - There are 11 care_homes in this geography.\n",
      "2020-08-31 14:31:24,226 - numexpr.utils - INFO - NumExpr defaulting to 4 threads.\n",
      "2020-08-31 14:31:30,218 - june.distributors.worker_distributor - INFO - There are 0 who had to be told to stay real\n",
      "2020-08-31 14:31:59,774 - june.groups.commute.commutehub_distributor - INFO - Distributing people to commute hubs in 11 commute cities.\n",
      "2020-08-31 14:31:59,775 - june.groups.commute.commutehub_distributor - INFO - Birmingham : 0 people commute in, 0 commute out.\n",
      "2020-08-31 14:31:59,776 - june.groups.commute.commutehub_distributor - INFO - Bristol : 0 people commute in, 0 commute out.\n",
      "2020-08-31 14:31:59,779 - june.groups.commute.commutehub_distributor - INFO - Cardiff : 0 people commute in, 0 commute out.\n",
      "2020-08-31 14:31:59,782 - june.groups.commute.commutehub_distributor - INFO - Leeds : 0 people commute in, 0 commute out.\n",
      "2020-08-31 14:31:59,785 - june.groups.commute.commutehub_distributor - INFO - Leicester : 0 people commute in, 0 commute out.\n",
      "2020-08-31 14:31:59,787 - june.groups.commute.commutehub_distributor - INFO - Liverpool : 0 people commute in, 0 commute out.\n",
      "2020-08-31 14:31:59,788 - june.groups.commute.commutehub_distributor - INFO - Manchester : 0 people commute in, 0 commute out.\n",
      "2020-08-31 14:31:59,794 - june.groups.commute.commutehub_distributor - INFO - Newcastle : 200 people commute in, 241 commute out.\n",
      "2020-08-31 14:31:59,823 - june.groups.commute.commutehub_distributor - INFO - Nottingham : 0 people commute in, 0 commute out.\n",
      "2020-08-31 14:31:59,824 - june.groups.commute.commutehub_distributor - INFO - Sheffield : 0 people commute in, 0 commute out.\n",
      "2020-08-31 14:31:59,825 - june.groups.commute.commutehub_distributor - INFO - London : 0 people commute in, 0 commute out.\n",
      "CPU times: user 50.4 s, sys: 1.5 s, total: 51.9 s\n",
      "Wall time: 52.9 s\n"
     ]
    }
   ],
   "source": [
    "%%time \n",
    "\n",
    "geography = Geography.from_file(\n",
    "        {\n",
    "            \"super_area\": [\n",
    "                \"E02003282\",\n",
    "                \"E02003283\",\n",
    "                \"E02001720\",\n",
    "                \"E02002560\",\n",
    "                \"E02002559\",\n",
    "                \"E02004314\",\n",
    "            ]\n",
    "        }\n",
    ")\n",
    "\n",
    "geography.hospitals = Hospitals.for_geography(geography)\n",
    "geography.schools = Schools.for_geography(geography)\n",
    "geography.companies = Companies.for_geography(geography)\n",
    "geography.care_homes = CareHomes.for_geography(geography)\n",
    "geography.universities = Universities.for_super_areas(geography.super_areas)\n",
    "world = generate_world_from_geography(geography, include_households=True, include_commute=True)\n"
   ]
  },
  {
   "cell_type": "markdown",
   "metadata": {},
   "source": [
    "## Commute, travel and leisure"
   ]
  },
  {
   "cell_type": "code",
   "execution_count": 6,
   "metadata": {},
   "outputs": [
    {
     "name": "stdout",
     "output_type": "stream",
     "text": [
      "2020-08-31 14:32:01,529 - june.groups.leisure.leisure - INFO - Distributing social venues to households\n",
      "2020-08-31 14:32:01,531 - june.groups.leisure.leisure - INFO - Distributed in 0 of 20498 households.\n"
     ]
    }
   ],
   "source": [
    "world.pubs = Pubs.for_geography(geography)\n",
    "world.cinemas = Cinemas.for_geography(geography)\n",
    "world.groceries = Groceries.for_geography(geography)\n",
    "leisure = generate_leisure_for_config(world, config_filename=CONFIG_PATH)\n",
    "leisure.distribute_social_venues_to_households(world.households, super_areas=world.super_areas) # this assigns possible social venues to people."
   ]
  },
  {
   "cell_type": "markdown",
   "metadata": {},
   "source": [
    "We are also going to need some cemeteries...geography.cemeteries = Cemeteries()\n"
   ]
  },
  {
   "cell_type": "code",
   "execution_count": 7,
   "metadata": {},
   "outputs": [],
   "source": [
    "world.cemeteries = Cemeteries()"
   ]
  },
  {
   "cell_type": "code",
   "execution_count": 8,
   "metadata": {},
   "outputs": [
    {
     "data": {
      "text/plain": [
       "57259"
      ]
     },
     "execution_count": 8,
     "metadata": {},
     "output_type": "execute_result"
    }
   ],
   "source": [
    "len(world.people)"
   ]
  },
  {
   "cell_type": "markdown",
   "metadata": {},
   "source": [
    "### If it took a long time to run the previous commands, it might be a good idea to save the world to reuse it later."
   ]
  },
  {
   "cell_type": "code",
   "execution_count": 9,
   "metadata": {},
   "outputs": [
    {
     "name": "stdout",
     "output_type": "stream",
     "text": [
      "2020-08-31 14:32:12,347 - june.hdf5_savers.world_saver - INFO - saving world to HDF5\n",
      "2020-08-31 14:32:13,410 - june.hdf5_savers.world_saver - INFO - saving hospitals...\n",
      "2020-08-31 14:32:13,414 - june.hdf5_savers.world_saver - INFO - saving schools...\n",
      "2020-08-31 14:32:13,421 - june.hdf5_savers.world_saver - INFO - saving companies...\n",
      "2020-08-31 14:32:13,429 - june.hdf5_savers.world_saver - INFO - saving households...\n",
      "2020-08-31 14:32:14,140 - june.hdf5_savers.world_saver - INFO - saving care homes...\n",
      "2020-08-31 14:32:14,143 - june.hdf5_savers.world_saver - INFO - saving commute cities...\n",
      "2020-08-31 14:32:14,151 - june.hdf5_savers.world_saver - INFO - saving commute hubs...\n",
      "2020-08-31 14:32:14,154 - june.hdf5_savers.world_saver - INFO - saving universities...\n",
      "2020-08-31 14:32:14,158 - june.hdf5_savers.world_saver - INFO - saving social venues...\n"
     ]
    }
   ],
   "source": [
    "world.to_hdf5(\"world.hdf5\")"
   ]
  },
  {
   "cell_type": "markdown",
   "metadata": {},
   "source": [
    "If we would like to load the world we saved, we just do"
   ]
  },
  {
   "cell_type": "code",
   "execution_count": 10,
   "metadata": {},
   "outputs": [
    {
     "name": "stdout",
     "output_type": "stream",
     "text": [
      "2020-08-31 14:32:14,192 - june.hdf5_savers.world_saver - INFO - loading world from HDF5\n",
      "2020-08-31 14:32:14,204 - june.hdf5_savers.world_saver - INFO - loading hospitals...\n",
      "2020-08-31 14:32:14,219 - june.hdf5_savers.world_saver - INFO - loading schools...\n",
      "2020-08-31 14:32:14,236 - june.hdf5_savers.world_saver - INFO - loading companies...\n",
      "2020-08-31 14:32:14,270 - june.hdf5_savers.world_saver - INFO - loading care homes...\n",
      "2020-08-31 14:32:14,274 - june.hdf5_savers.world_saver - INFO - loading universities...\n",
      "2020-08-31 14:32:14,277 - june.hdf5_savers.world_saver - INFO - loading commute cities...\n",
      "2020-08-31 14:32:14,319 - june.hdf5_savers.world_saver - INFO - loading commute hubs...\n",
      "2020-08-31 14:32:14,435 - june.hdf5_savers.world_saver - INFO - loading households...\n",
      "2020-08-31 14:32:14,892 - june.hdf5_savers.world_saver - INFO - loading population...\n",
      "2020-08-31 14:32:15,360 - june.hdf5_savers.world_saver - INFO - loading social venues...\n",
      "2020-08-31 14:32:15,369 - june.hdf5_savers.world_saver - INFO - restoring world...\n",
      "2020-08-31 14:32:15,372 - june.hdf5_savers.world_saver - INFO - restoring population...\n",
      "2020-08-31 14:32:22,213 - june.hdf5_savers.world_saver - INFO - restoring households...\n",
      "2020-08-31 14:32:23,842 - june.hdf5_savers.world_saver - INFO - restoring care homes...\n",
      "2020-08-31 14:32:23,845 - june.hdf5_savers.world_saver - INFO - restoring hospitals...\n",
      "2020-08-31 14:32:23,847 - june.hdf5_savers.world_saver - INFO - restoring commute...\n",
      "2020-08-31 14:32:23,851 - june.hdf5_savers.world_saver - INFO - restoring companies...\n",
      "2020-08-31 14:32:23,858 - june.hdf5_savers.world_saver - INFO - restoring schools...\n",
      "2020-08-31 14:32:23,862 - june.hdf5_savers.world_saver - INFO - restoring unis...\n",
      "2020-08-31 14:32:23,865 - june.hdf5_savers.world_saver - INFO - restoring social venues...\n"
     ]
    }
   ],
   "source": [
    "world = generate_world_from_hdf5(\"world.hdf5\")"
   ]
  },
  {
   "cell_type": "code",
   "execution_count": 11,
   "metadata": {},
   "outputs": [],
   "source": [
    "# and regenerate leisure in case we load it externally\n",
    "leisure = generate_leisure_for_config(world, CONFIG_PATH)"
   ]
  },
  {
   "cell_type": "markdown",
   "metadata": {},
   "source": [
    "you have now a beautiful pre-pandemic world. "
   ]
  },
  {
   "cell_type": "markdown",
   "metadata": {},
   "source": [
    "# Adding the infection"
   ]
  },
  {
   "cell_type": "markdown",
   "metadata": {},
   "source": [
    "The module in charge of infecting people is called the ``InfectionSelector``, which gives people a transmission time profile and a symptoms trajectory based on their age and sex (through the health index generator)"
   ]
  },
  {
   "cell_type": "code",
   "execution_count": 12,
   "metadata": {},
   "outputs": [],
   "source": [
    "health_index_generator = HealthIndexGenerator.from_file(asymptomatic_ratio=0.2)\n",
    "selector = InfectionSelector.from_file(\n",
    "        health_index_generator=health_index_generator,\n",
    "        transmission_config_path=paths.configs_path / 'defaults/transmission/XNExp.yaml'\n",
    ")"
   ]
  },
  {
   "cell_type": "markdown",
   "metadata": {},
   "source": [
    "# Adding the interaction"
   ]
  },
  {
   "cell_type": "code",
   "execution_count": 13,
   "metadata": {},
   "outputs": [],
   "source": [
    "interaction = Interaction.from_file()"
   ]
  },
  {
   "cell_type": "markdown",
   "metadata": {},
   "source": [
    "Beta are the intensities of the interaction taking place at the different groups"
   ]
  },
  {
   "cell_type": "code",
   "execution_count": 14,
   "metadata": {},
   "outputs": [],
   "source": [
    "for key in interaction.beta.keys():\n",
    "    interaction.beta[key] *= 0.2"
   ]
  },
  {
   "cell_type": "code",
   "execution_count": 15,
   "metadata": {},
   "outputs": [
    {
     "data": {
      "text/plain": [
       "{'box': 0.2,\n",
       " 'pub': 0.1,\n",
       " 'grocery': 0.05,\n",
       " 'cinema': 0.05,\n",
       " 'commute_unit': 0.1,\n",
       " 'commute_city_unit': 0.1,\n",
       " 'hospital': 0.010000000000000002,\n",
       " 'care_home': 0.24,\n",
       " 'company': 0.16000000000000003,\n",
       " 'school': 0.16000000000000003,\n",
       " 'household': 0.2,\n",
       " 'university': 0.1}"
      ]
     },
     "execution_count": 15,
     "metadata": {},
     "output_type": "execute_result"
    }
   ],
   "source": [
    "interaction.beta"
   ]
  },
  {
   "cell_type": "markdown",
   "metadata": {},
   "source": [
    "moreover this interaction module uses contact matrices, that are different for different groups. These contact matrices shouldnt be modified for now. However they are a combination of conversational contact matrices, and physical contact matrices (see the BBC pandemic paper, from where these matrices are extracted https://www.medrxiv.org/content/10.1101/2020.02.16.20023754v2)\n",
    "\n",
    "There is a parameter, ``alpha`` ($\\alpha$), that combines these two matrices in the following way,\n",
    "\n",
    "\n",
    "$\\beta M \\left(1 + (\\alpha -1) \\right) P$\n",
    "\n",
    "where $\\beta$ is the intensity of the interaction, and $P$ the physical contact matrix. A larger $\\alpha$ produces more physical contacts. It is an overall number, non dependent of the particular group.\n"
   ]
  },
  {
   "cell_type": "code",
   "execution_count": 16,
   "metadata": {},
   "outputs": [
    {
     "data": {
      "text/plain": [
       "2.0"
      ]
     },
     "execution_count": 16,
     "metadata": {},
     "output_type": "execute_result"
    }
   ],
   "source": [
    "interaction.alpha_physical"
   ]
  },
  {
   "cell_type": "markdown",
   "metadata": {},
   "source": [
    "# Seed the disease"
   ]
  },
  {
   "cell_type": "markdown",
   "metadata": {},
   "source": [
    "There are two options implemented in the seed at the moment, either you specify the number of cases and these are then homogeneously distributed by population to the different areas, or you use UK data on cases per region. For now use the first case."
   ]
  },
  {
   "cell_type": "code",
   "execution_count": 17,
   "metadata": {},
   "outputs": [],
   "source": [
    "infection_seed = InfectionSeed(\n",
    "    world.super_areas, selector,\n",
    ")"
   ]
  },
  {
   "cell_type": "code",
   "execution_count": 18,
   "metadata": {},
   "outputs": [],
   "source": [
    "n_cases = 50\n",
    "infection_seed.unleash_virus(n_cases) # play around with the initial number of cases"
   ]
  },
  {
   "cell_type": "markdown",
   "metadata": {},
   "source": [
    "# Set policies"
   ]
  },
  {
   "cell_type": "code",
   "execution_count": 19,
   "metadata": {},
   "outputs": [],
   "source": [
    "policies = Policies.from_file()"
   ]
  },
  {
   "cell_type": "code",
   "execution_count": 20,
   "metadata": {},
   "outputs": [
    {
     "data": {
      "text/plain": [
       "<june.policy.policy.Policies at 0x7fa991eef3a0>"
      ]
     },
     "execution_count": 20,
     "metadata": {},
     "output_type": "execute_result"
    }
   ],
   "source": [
    "policies"
   ]
  },
  {
   "cell_type": "markdown",
   "metadata": {},
   "source": [
    "# Run the simulation"
   ]
  },
  {
   "cell_type": "markdown",
   "metadata": {},
   "source": [
    "The simulator is the main module in charge of running the simulation. It coordinates the ``ActivityManager`` which is responsible of allocating people to the right groups given the current timestep, it updates the health status of the population, and it runs the interaction over the different groups. All of these modules can be modified by policies at any given time."
   ]
  },
  {
   "cell_type": "markdown",
   "metadata": {},
   "source": [
    "Since the timer configuration is a bit cumbersome, it is read from the config file at ``configs/config_example.yaml``"
   ]
  },
  {
   "cell_type": "code",
   "execution_count": 32,
   "metadata": {},
   "outputs": [],
   "source": [
    "simulator = Simulator.from_file(\n",
    "    world=world,\n",
    "    infection_selector=selector,\n",
    "    interaction=interaction, \n",
    "    config_filename = CONFIG_PATH,\n",
    "    leisure = leisure,\n",
    "    policies = policies\n",
    ")"
   ]
  },
  {
   "cell_type": "code",
   "execution_count": 33,
   "metadata": {
    "scrolled": true
   },
   "outputs": [
    {
     "name": "stdout",
     "output_type": "stream",
     "text": [
      "2020-08-31 15:26:39,839 - june.simulator - INFO - Starting group_dynamics for 40 days at day 0\n",
      "2020-08-31 15:26:39,840 - june.simulator - INFO - starting the loop ..., at 0 days, to run for 40 days\n",
      "2020-08-31 15:26:41,150 - june.simulator - INFO - Date = 2020-03-01 00:00:00, number of deaths =  0, number of infected = 50\n"
     ]
    },
    {
     "ename": "AttributeError",
     "evalue": "'SuperArea' object has no attribute 'encode'",
     "output_type": "error",
     "traceback": [
      "\u001b[0;31m---------------------------------------------------------------------------\u001b[0m",
      "\u001b[0;31mAttributeError\u001b[0m                            Traceback (most recent call last)",
      "\u001b[0;32m<timed eval>\u001b[0m in \u001b[0;36m<module>\u001b[0;34m\u001b[0m\n",
      "\u001b[0;32m~/JUNE/june/simulator.py\u001b[0m in \u001b[0;36mrun\u001b[0;34m(self)\u001b[0m\n\u001b[1;32m    469\u001b[0m                 ):\n\u001b[1;32m    470\u001b[0m                     \u001b[0mself\u001b[0m\u001b[0;34m.\u001b[0m\u001b[0minfection_seed\u001b[0m\u001b[0;34m.\u001b[0m\u001b[0munleash_virus_per_region\u001b[0m\u001b[0;34m(\u001b[0m\u001b[0mself\u001b[0m\u001b[0;34m.\u001b[0m\u001b[0mtimer\u001b[0m\u001b[0;34m.\u001b[0m\u001b[0mdate\u001b[0m\u001b[0;34m)\u001b[0m\u001b[0;34m\u001b[0m\u001b[0;34m\u001b[0m\u001b[0m\n\u001b[0;32m--> 471\u001b[0;31m             \u001b[0mself\u001b[0m\u001b[0;34m.\u001b[0m\u001b[0mdo_timestep\u001b[0m\u001b[0;34m(\u001b[0m\u001b[0;34m)\u001b[0m\u001b[0;34m\u001b[0m\u001b[0;34m\u001b[0m\u001b[0m\n\u001b[0m\u001b[1;32m    472\u001b[0m             if (\n\u001b[1;32m    473\u001b[0m                 \u001b[0mself\u001b[0m\u001b[0;34m.\u001b[0m\u001b[0mtimer\u001b[0m\u001b[0;34m.\u001b[0m\u001b[0mdate\u001b[0m\u001b[0;34m.\u001b[0m\u001b[0mdate\u001b[0m\u001b[0;34m(\u001b[0m\u001b[0;34m)\u001b[0m \u001b[0;32min\u001b[0m \u001b[0mself\u001b[0m\u001b[0;34m.\u001b[0m\u001b[0mcheckpoint_dates\u001b[0m\u001b[0;34m\u001b[0m\u001b[0;34m\u001b[0m\u001b[0m\n",
      "\u001b[0;32m~/JUNE/june/simulator.py\u001b[0m in \u001b[0;36mdo_timestep\u001b[0;34m(self)\u001b[0m\n\u001b[1;32m    434\u001b[0m             \u001b[0mself\u001b[0m\u001b[0;34m.\u001b[0m\u001b[0mlogger\u001b[0m\u001b[0;34m.\u001b[0m\u001b[0mlog_infection_location\u001b[0m\u001b[0;34m(\u001b[0m\u001b[0mself\u001b[0m\u001b[0;34m.\u001b[0m\u001b[0mtimer\u001b[0m\u001b[0;34m.\u001b[0m\u001b[0mdate\u001b[0m\u001b[0;34m)\u001b[0m\u001b[0;34m\u001b[0m\u001b[0;34m\u001b[0m\u001b[0m\n\u001b[1;32m    435\u001b[0m             \u001b[0;32mif\u001b[0m \u001b[0mself\u001b[0m\u001b[0;34m.\u001b[0m\u001b[0mworld\u001b[0m\u001b[0;34m.\u001b[0m\u001b[0mhospitals\u001b[0m \u001b[0;32mis\u001b[0m \u001b[0;32mnot\u001b[0m \u001b[0;32mNone\u001b[0m\u001b[0;34m:\u001b[0m\u001b[0;34m\u001b[0m\u001b[0;34m\u001b[0m\u001b[0m\n\u001b[0;32m--> 436\u001b[0;31m                 \u001b[0mself\u001b[0m\u001b[0;34m.\u001b[0m\u001b[0mlogger\u001b[0m\u001b[0;34m.\u001b[0m\u001b[0mlog_hospital_capacity\u001b[0m\u001b[0;34m(\u001b[0m\u001b[0mself\u001b[0m\u001b[0;34m.\u001b[0m\u001b[0mtimer\u001b[0m\u001b[0;34m.\u001b[0m\u001b[0mdate\u001b[0m\u001b[0;34m,\u001b[0m \u001b[0mself\u001b[0m\u001b[0;34m.\u001b[0m\u001b[0mworld\u001b[0m\u001b[0;34m.\u001b[0m\u001b[0mhospitals\u001b[0m\u001b[0;34m)\u001b[0m\u001b[0;34m\u001b[0m\u001b[0;34m\u001b[0m\u001b[0m\n\u001b[0m\u001b[1;32m    437\u001b[0m         \u001b[0mself\u001b[0m\u001b[0;34m.\u001b[0m\u001b[0mclear_world\u001b[0m\u001b[0;34m(\u001b[0m\u001b[0;34m)\u001b[0m\u001b[0;34m\u001b[0m\u001b[0;34m\u001b[0m\u001b[0m\n\u001b[1;32m    438\u001b[0m \u001b[0;34m\u001b[0m\u001b[0m\n",
      "\u001b[0;32m~/JUNE/june/logger/logger.py\u001b[0m in \u001b[0;36mlog_hospital_capacity\u001b[0;34m(self, date, hospitals)\u001b[0m\n\u001b[1;32m    232\u001b[0m             \u001b[0;32mfor\u001b[0m \u001b[0msuper_area\u001b[0m \u001b[0;32min\u001b[0m \u001b[0msuper_area_hospitals\u001b[0m\u001b[0;34m.\u001b[0m\u001b[0mkeys\u001b[0m\u001b[0;34m(\u001b[0m\u001b[0;34m)\u001b[0m\u001b[0;34m:\u001b[0m\u001b[0;34m\u001b[0m\u001b[0;34m\u001b[0m\u001b[0m\n\u001b[1;32m    233\u001b[0m                 \u001b[0msuper_area_dict\u001b[0m \u001b[0;34m=\u001b[0m \u001b[0msuper_area_hospitals\u001b[0m\u001b[0;34m[\u001b[0m\u001b[0msuper_area\u001b[0m\u001b[0;34m]\u001b[0m\u001b[0;34m\u001b[0m\u001b[0;34m\u001b[0m\u001b[0m\n\u001b[0;32m--> 234\u001b[0;31m                 \u001b[0msuper_area_dset\u001b[0m \u001b[0;34m=\u001b[0m \u001b[0mf\u001b[0m\u001b[0;34m.\u001b[0m\u001b[0mrequire_group\u001b[0m\u001b[0;34m(\u001b[0m\u001b[0msuper_area\u001b[0m\u001b[0;34m)\u001b[0m\u001b[0;34m\u001b[0m\u001b[0;34m\u001b[0m\u001b[0m\n\u001b[0m\u001b[1;32m    235\u001b[0m                 \u001b[0mhospital_dset\u001b[0m \u001b[0;34m=\u001b[0m \u001b[0msuper_area_dset\u001b[0m\u001b[0;34m.\u001b[0m\u001b[0mrequire_group\u001b[0m\u001b[0;34m(\u001b[0m\u001b[0;34m\"hospitals\"\u001b[0m\u001b[0;34m)\u001b[0m\u001b[0;34m\u001b[0m\u001b[0;34m\u001b[0m\u001b[0m\n\u001b[1;32m    236\u001b[0m                 \u001b[0mtime_dset\u001b[0m \u001b[0;34m=\u001b[0m \u001b[0mhospital_dset\u001b[0m\u001b[0;34m.\u001b[0m\u001b[0mcreate_group\u001b[0m\u001b[0;34m(\u001b[0m\u001b[0mtime_stamp\u001b[0m\u001b[0;34m)\u001b[0m\u001b[0;34m\u001b[0m\u001b[0;34m\u001b[0m\u001b[0m\n",
      "\u001b[0;32m~/.local/lib/python3.8/site-packages/h5py/_hl/group.py\u001b[0m in \u001b[0;36mrequire_group\u001b[0;34m(self, name)\u001b[0m\n\u001b[1;32m    246\u001b[0m         \"\"\"\n\u001b[1;32m    247\u001b[0m         \u001b[0;32mwith\u001b[0m \u001b[0mphil\u001b[0m\u001b[0;34m:\u001b[0m\u001b[0;34m\u001b[0m\u001b[0;34m\u001b[0m\u001b[0m\n\u001b[0;32m--> 248\u001b[0;31m             \u001b[0;32mif\u001b[0m \u001b[0;32mnot\u001b[0m \u001b[0mname\u001b[0m \u001b[0;32min\u001b[0m \u001b[0mself\u001b[0m\u001b[0;34m:\u001b[0m\u001b[0;34m\u001b[0m\u001b[0;34m\u001b[0m\u001b[0m\n\u001b[0m\u001b[1;32m    249\u001b[0m                 \u001b[0;32mreturn\u001b[0m \u001b[0mself\u001b[0m\u001b[0;34m.\u001b[0m\u001b[0mcreate_group\u001b[0m\u001b[0;34m(\u001b[0m\u001b[0mname\u001b[0m\u001b[0;34m)\u001b[0m\u001b[0;34m\u001b[0m\u001b[0;34m\u001b[0m\u001b[0m\n\u001b[1;32m    250\u001b[0m             \u001b[0mgrp\u001b[0m \u001b[0;34m=\u001b[0m \u001b[0mself\u001b[0m\u001b[0;34m[\u001b[0m\u001b[0mname\u001b[0m\u001b[0;34m]\u001b[0m\u001b[0;34m\u001b[0m\u001b[0;34m\u001b[0m\u001b[0m\n",
      "\u001b[0;32mh5py/_objects.pyx\u001b[0m in \u001b[0;36mh5py._objects.with_phil.wrapper\u001b[0;34m()\u001b[0m\n",
      "\u001b[0;32mh5py/_objects.pyx\u001b[0m in \u001b[0;36mh5py._objects.with_phil.wrapper\u001b[0;34m()\u001b[0m\n",
      "\u001b[0;32m~/.local/lib/python3.8/site-packages/h5py/_hl/group.py\u001b[0m in \u001b[0;36m__contains__\u001b[0;34m(self, name)\u001b[0m\n\u001b[1;32m    413\u001b[0m     \u001b[0;32mdef\u001b[0m \u001b[0m__contains__\u001b[0m\u001b[0;34m(\u001b[0m\u001b[0mself\u001b[0m\u001b[0;34m,\u001b[0m \u001b[0mname\u001b[0m\u001b[0;34m)\u001b[0m\u001b[0;34m:\u001b[0m\u001b[0;34m\u001b[0m\u001b[0;34m\u001b[0m\u001b[0m\n\u001b[1;32m    414\u001b[0m         \u001b[0;34m\"\"\" Test if a member name exists \"\"\"\u001b[0m\u001b[0;34m\u001b[0m\u001b[0;34m\u001b[0m\u001b[0m\n\u001b[0;32m--> 415\u001b[0;31m         \u001b[0;32mreturn\u001b[0m \u001b[0mself\u001b[0m\u001b[0;34m.\u001b[0m\u001b[0m_e\u001b[0m\u001b[0;34m(\u001b[0m\u001b[0mname\u001b[0m\u001b[0;34m)\u001b[0m \u001b[0;32min\u001b[0m \u001b[0mself\u001b[0m\u001b[0;34m.\u001b[0m\u001b[0mid\u001b[0m\u001b[0;34m\u001b[0m\u001b[0;34m\u001b[0m\u001b[0m\n\u001b[0m\u001b[1;32m    416\u001b[0m \u001b[0;34m\u001b[0m\u001b[0m\n\u001b[1;32m    417\u001b[0m     def copy(self, source, dest, name=None,\n",
      "\u001b[0;32m~/.local/lib/python3.8/site-packages/h5py/_hl/base.py\u001b[0m in \u001b[0;36m_e\u001b[0;34m(self, name, lcpl)\u001b[0m\n\u001b[1;32m    135\u001b[0m         \u001b[0;32melse\u001b[0m\u001b[0;34m:\u001b[0m\u001b[0;34m\u001b[0m\u001b[0;34m\u001b[0m\u001b[0m\n\u001b[1;32m    136\u001b[0m             \u001b[0;32mtry\u001b[0m\u001b[0;34m:\u001b[0m\u001b[0;34m\u001b[0m\u001b[0;34m\u001b[0m\u001b[0m\n\u001b[0;32m--> 137\u001b[0;31m                 \u001b[0mname\u001b[0m \u001b[0;34m=\u001b[0m \u001b[0mname\u001b[0m\u001b[0;34m.\u001b[0m\u001b[0mencode\u001b[0m\u001b[0;34m(\u001b[0m\u001b[0;34m'ascii'\u001b[0m\u001b[0;34m)\u001b[0m\u001b[0;34m\u001b[0m\u001b[0;34m\u001b[0m\u001b[0m\n\u001b[0m\u001b[1;32m    138\u001b[0m                 \u001b[0mcoding\u001b[0m \u001b[0;34m=\u001b[0m \u001b[0mh5t\u001b[0m\u001b[0;34m.\u001b[0m\u001b[0mCSET_ASCII\u001b[0m\u001b[0;34m\u001b[0m\u001b[0;34m\u001b[0m\u001b[0m\n\u001b[1;32m    139\u001b[0m             \u001b[0;32mexcept\u001b[0m \u001b[0mUnicodeEncodeError\u001b[0m\u001b[0;34m:\u001b[0m\u001b[0;34m\u001b[0m\u001b[0;34m\u001b[0m\u001b[0m\n",
      "\u001b[0;31mAttributeError\u001b[0m: 'SuperArea' object has no attribute 'encode'"
     ]
    }
   ],
   "source": [
    "%%time\n",
    "simulator.run()"
   ]
  },
  {
   "cell_type": "markdown",
   "metadata": {},
   "source": [
    "While the simulation runs (and afterwards) we can launch the visualization webpage by running\n",
    "```python june/visualizer.py path/to/results``` "
   ]
  },
  {
   "cell_type": "markdown",
   "metadata": {},
   "source": [
    "# Getting the results"
   ]
  },
  {
   "cell_type": "markdown",
   "metadata": {},
   "source": [
    "All results are stored in a json file specified in the ``save_path`` variable in the config file. We can also access it from ``world.logger`` directly."
   ]
  },
  {
   "cell_type": "code",
   "execution_count": 23,
   "metadata": {},
   "outputs": [],
   "source": [
    "import pandas as pd"
   ]
  },
  {
   "cell_type": "code",
   "execution_count": 24,
   "metadata": {},
   "outputs": [
    {
     "ename": "KeyError",
     "evalue": "\"Unable to open object (object 'infections' doesn't exist)\"",
     "output_type": "error",
     "traceback": [
      "\u001b[0;31m---------------------------------------------------------------------------\u001b[0m",
      "\u001b[0;31mKeyError\u001b[0m                                  Traceback (most recent call last)",
      "\u001b[0;32m<timed exec>\u001b[0m in \u001b[0;36m<module>\u001b[0;34m\u001b[0m\n",
      "\u001b[0;32m~/JUNE/june/logger/read_logger.py\u001b[0m in \u001b[0;36m__init__\u001b[0;34m(self, output_path, output_file_name)\u001b[0m\n\u001b[1;32m     31\u001b[0m         \u001b[0mself\u001b[0m\u001b[0;34m.\u001b[0m\u001b[0mfile_path\u001b[0m \u001b[0;34m=\u001b[0m \u001b[0mPath\u001b[0m\u001b[0;34m(\u001b[0m\u001b[0mself\u001b[0m\u001b[0;34m.\u001b[0m\u001b[0moutput_path\u001b[0m\u001b[0;34m)\u001b[0m \u001b[0;34m/\u001b[0m \u001b[0moutput_file_name\u001b[0m\u001b[0;34m\u001b[0m\u001b[0;34m\u001b[0m\u001b[0m\n\u001b[1;32m     32\u001b[0m         \u001b[0mself\u001b[0m\u001b[0;34m.\u001b[0m\u001b[0mload_population_data\u001b[0m\u001b[0;34m(\u001b[0m\u001b[0;34m)\u001b[0m\u001b[0;34m\u001b[0m\u001b[0;34m\u001b[0m\u001b[0m\n\u001b[0;32m---> 33\u001b[0;31m         \u001b[0mself\u001b[0m\u001b[0;34m.\u001b[0m\u001b[0mload_infected_data\u001b[0m\u001b[0;34m(\u001b[0m\u001b[0;34m)\u001b[0m\u001b[0;34m\u001b[0m\u001b[0;34m\u001b[0m\u001b[0m\n\u001b[0m\u001b[1;32m     34\u001b[0m         \u001b[0mself\u001b[0m\u001b[0;34m.\u001b[0m\u001b[0mload_infection_location\u001b[0m\u001b[0;34m(\u001b[0m\u001b[0;34m)\u001b[0m\u001b[0;34m\u001b[0m\u001b[0;34m\u001b[0m\u001b[0m\n\u001b[1;32m     35\u001b[0m         \u001b[0mself\u001b[0m\u001b[0;34m.\u001b[0m\u001b[0mstart_date\u001b[0m \u001b[0;34m=\u001b[0m \u001b[0mmin\u001b[0m\u001b[0;34m(\u001b[0m\u001b[0mself\u001b[0m\u001b[0;34m.\u001b[0m\u001b[0minfections_per_super_area\u001b[0m\u001b[0;34m[\u001b[0m\u001b[0;36m0\u001b[0m\u001b[0;34m]\u001b[0m\u001b[0;34m.\u001b[0m\u001b[0mindex\u001b[0m\u001b[0;34m)\u001b[0m\u001b[0;34m\u001b[0m\u001b[0;34m\u001b[0m\u001b[0m\n",
      "\u001b[0;32m~/JUNE/june/logger/read_logger.py\u001b[0m in \u001b[0;36mload_infected_data\u001b[0;34m(self)\u001b[0m\n\u001b[1;32m     64\u001b[0m             ]\n\u001b[1;32m     65\u001b[0m             \u001b[0;32mfor\u001b[0m \u001b[0msuper_area\u001b[0m \u001b[0;32min\u001b[0m \u001b[0msuper_areas\u001b[0m\u001b[0;34m:\u001b[0m\u001b[0;34m\u001b[0m\u001b[0;34m\u001b[0m\u001b[0m\n\u001b[0;32m---> 66\u001b[0;31m                 \u001b[0minfections\u001b[0m \u001b[0;34m=\u001b[0m \u001b[0mf\u001b[0m\u001b[0;34m[\u001b[0m\u001b[0;34mf'{super_area}/infections'\u001b[0m\u001b[0;34m]\u001b[0m\u001b[0;34m\u001b[0m\u001b[0;34m\u001b[0m\u001b[0m\n\u001b[0m\u001b[1;32m     67\u001b[0m                 \u001b[0mtime_stamps\u001b[0m \u001b[0;34m=\u001b[0m \u001b[0;34m[\u001b[0m\u001b[0mkey\u001b[0m \u001b[0;32mfor\u001b[0m \u001b[0mkey\u001b[0m \u001b[0;32min\u001b[0m \u001b[0minfections\u001b[0m\u001b[0;34m]\u001b[0m\u001b[0;34m\u001b[0m\u001b[0;34m\u001b[0m\u001b[0m\n\u001b[1;32m     68\u001b[0m                 \u001b[0mids\u001b[0m \u001b[0;34m=\u001b[0m \u001b[0;34m[\u001b[0m\u001b[0;34m]\u001b[0m\u001b[0;34m\u001b[0m\u001b[0;34m\u001b[0m\u001b[0m\n",
      "\u001b[0;32mh5py/_objects.pyx\u001b[0m in \u001b[0;36mh5py._objects.with_phil.wrapper\u001b[0;34m()\u001b[0m\n",
      "\u001b[0;32mh5py/_objects.pyx\u001b[0m in \u001b[0;36mh5py._objects.with_phil.wrapper\u001b[0;34m()\u001b[0m\n",
      "\u001b[0;32m~/.local/lib/python3.8/site-packages/h5py/_hl/group.py\u001b[0m in \u001b[0;36m__getitem__\u001b[0;34m(self, name)\u001b[0m\n\u001b[1;32m    262\u001b[0m                 \u001b[0;32mraise\u001b[0m \u001b[0mValueError\u001b[0m\u001b[0;34m(\u001b[0m\u001b[0;34m\"Invalid HDF5 object reference\"\u001b[0m\u001b[0;34m)\u001b[0m\u001b[0;34m\u001b[0m\u001b[0;34m\u001b[0m\u001b[0m\n\u001b[1;32m    263\u001b[0m         \u001b[0;32melse\u001b[0m\u001b[0;34m:\u001b[0m\u001b[0;34m\u001b[0m\u001b[0;34m\u001b[0m\u001b[0m\n\u001b[0;32m--> 264\u001b[0;31m             \u001b[0moid\u001b[0m \u001b[0;34m=\u001b[0m \u001b[0mh5o\u001b[0m\u001b[0;34m.\u001b[0m\u001b[0mopen\u001b[0m\u001b[0;34m(\u001b[0m\u001b[0mself\u001b[0m\u001b[0;34m.\u001b[0m\u001b[0mid\u001b[0m\u001b[0;34m,\u001b[0m \u001b[0mself\u001b[0m\u001b[0;34m.\u001b[0m\u001b[0m_e\u001b[0m\u001b[0;34m(\u001b[0m\u001b[0mname\u001b[0m\u001b[0;34m)\u001b[0m\u001b[0;34m,\u001b[0m \u001b[0mlapl\u001b[0m\u001b[0;34m=\u001b[0m\u001b[0mself\u001b[0m\u001b[0;34m.\u001b[0m\u001b[0m_lapl\u001b[0m\u001b[0;34m)\u001b[0m\u001b[0;34m\u001b[0m\u001b[0;34m\u001b[0m\u001b[0m\n\u001b[0m\u001b[1;32m    265\u001b[0m \u001b[0;34m\u001b[0m\u001b[0m\n\u001b[1;32m    266\u001b[0m         \u001b[0motype\u001b[0m \u001b[0;34m=\u001b[0m \u001b[0mh5i\u001b[0m\u001b[0;34m.\u001b[0m\u001b[0mget_type\u001b[0m\u001b[0;34m(\u001b[0m\u001b[0moid\u001b[0m\u001b[0;34m)\u001b[0m\u001b[0;34m\u001b[0m\u001b[0;34m\u001b[0m\u001b[0m\n",
      "\u001b[0;32mh5py/_objects.pyx\u001b[0m in \u001b[0;36mh5py._objects.with_phil.wrapper\u001b[0;34m()\u001b[0m\n",
      "\u001b[0;32mh5py/_objects.pyx\u001b[0m in \u001b[0;36mh5py._objects.with_phil.wrapper\u001b[0;34m()\u001b[0m\n",
      "\u001b[0;32mh5py/h5o.pyx\u001b[0m in \u001b[0;36mh5py.h5o.open\u001b[0;34m()\u001b[0m\n",
      "\u001b[0;31mKeyError\u001b[0m: \"Unable to open object (object 'infections' doesn't exist)\""
     ]
    }
   ],
   "source": [
    "%%time\n",
    "read = ReadLogger()"
   ]
  },
  {
   "cell_type": "markdown",
   "metadata": {},
   "source": [
    "## Hospital data and how it changed over time"
   ]
  },
  {
   "cell_type": "code",
   "execution_count": 57,
   "metadata": {},
   "outputs": [],
   "source": [
    "hospitals_df = read.load_hospital_capacity()"
   ]
  },
  {
   "cell_type": "code",
   "execution_count": 58,
   "metadata": {},
   "outputs": [
    {
     "data": {
      "text/html": [
       "<div>\n",
       "<style scoped>\n",
       "    .dataframe tbody tr th:only-of-type {\n",
       "        vertical-align: middle;\n",
       "    }\n",
       "\n",
       "    .dataframe tbody tr th {\n",
       "        vertical-align: top;\n",
       "    }\n",
       "\n",
       "    .dataframe thead th {\n",
       "        text-align: right;\n",
       "    }\n",
       "</style>\n",
       "<table border=\"1\" class=\"dataframe\">\n",
       "  <thead>\n",
       "    <tr style=\"text-align: right;\">\n",
       "      <th></th>\n",
       "      <th>time_stamp</th>\n",
       "      <th>id</th>\n",
       "      <th>n_patients</th>\n",
       "      <th>n_patients_icu</th>\n",
       "    </tr>\n",
       "  </thead>\n",
       "  <tbody>\n",
       "    <tr>\n",
       "      <th>0</th>\n",
       "      <td>2020-03-01T00:00:00.000000</td>\n",
       "      <td>0</td>\n",
       "      <td>0</td>\n",
       "      <td>0</td>\n",
       "    </tr>\n",
       "    <tr>\n",
       "      <th>1</th>\n",
       "      <td>2020-03-01T04:00:00.000000</td>\n",
       "      <td>0</td>\n",
       "      <td>0</td>\n",
       "      <td>0</td>\n",
       "    </tr>\n",
       "    <tr>\n",
       "      <th>2</th>\n",
       "      <td>2020-03-01T08:00:00.000000</td>\n",
       "      <td>0</td>\n",
       "      <td>0</td>\n",
       "      <td>0</td>\n",
       "    </tr>\n",
       "  </tbody>\n",
       "</table>\n",
       "</div>"
      ],
      "text/plain": [
       "                   time_stamp id n_patients n_patients_icu\n",
       "0  2020-03-01T00:00:00.000000  0          0              0\n",
       "1  2020-03-01T04:00:00.000000  0          0              0\n",
       "2  2020-03-01T08:00:00.000000  0          0              0"
      ]
     },
     "execution_count": 58,
     "metadata": {},
     "output_type": "execute_result"
    }
   ],
   "source": [
    "hospitals_df.head(3)"
   ]
  },
  {
   "cell_type": "code",
   "execution_count": 59,
   "metadata": {},
   "outputs": [],
   "source": [
    "hospitals_characteristics_df = read.load_hospital_characteristics()"
   ]
  },
  {
   "cell_type": "code",
   "execution_count": 60,
   "metadata": {},
   "outputs": [
    {
     "data": {
      "text/html": [
       "<div>\n",
       "<style scoped>\n",
       "    .dataframe tbody tr th:only-of-type {\n",
       "        vertical-align: middle;\n",
       "    }\n",
       "\n",
       "    .dataframe tbody tr th {\n",
       "        vertical-align: top;\n",
       "    }\n",
       "\n",
       "    .dataframe thead th {\n",
       "        text-align: right;\n",
       "    }\n",
       "</style>\n",
       "<table border=\"1\" class=\"dataframe\">\n",
       "  <thead>\n",
       "    <tr style=\"text-align: right;\">\n",
       "      <th></th>\n",
       "      <th>longitude</th>\n",
       "      <th>latitude</th>\n",
       "      <th>n_beds</th>\n",
       "      <th>n_icu_beds</th>\n",
       "      <th>trust_code</th>\n",
       "    </tr>\n",
       "  </thead>\n",
       "  <tbody>\n",
       "    <tr>\n",
       "      <th>0</th>\n",
       "      <td>0.688477</td>\n",
       "      <td>51.5625</td>\n",
       "      <td>2115</td>\n",
       "      <td>296</td>\n",
       "      <td>RAJ</td>\n",
       "    </tr>\n",
       "  </tbody>\n",
       "</table>\n",
       "</div>"
      ],
      "text/plain": [
       "   longitude  latitude  n_beds  n_icu_beds trust_code\n",
       "0   0.688477   51.5625    2115         296        RAJ"
      ]
     },
     "execution_count": 60,
     "metadata": {},
     "output_type": "execute_result"
    }
   ],
   "source": [
    "hospitals_characteristics_df"
   ]
  },
  {
   "cell_type": "markdown",
   "metadata": {},
   "source": [
    "## where did infections happen?"
   ]
  },
  {
   "cell_type": "code",
   "execution_count": 25,
   "metadata": {},
   "outputs": [
    {
     "ename": "NameError",
     "evalue": "name 'read' is not defined",
     "output_type": "error",
     "traceback": [
      "\u001b[0;31m---------------------------------------------------------------------------\u001b[0m",
      "\u001b[0;31mNameError\u001b[0m                                 Traceback (most recent call last)",
      "\u001b[0;32m<ipython-input-25-a340ea4f8047>\u001b[0m in \u001b[0;36m<module>\u001b[0;34m\u001b[0m\n\u001b[0;32m----> 1\u001b[0;31m \u001b[0minfection_locations\u001b[0m \u001b[0;34m=\u001b[0m \u001b[0mread\u001b[0m\u001b[0;34m.\u001b[0m\u001b[0mget_locations_infections\u001b[0m\u001b[0;34m(\u001b[0m\u001b[0;34m)\u001b[0m\u001b[0;34m\u001b[0m\u001b[0;34m\u001b[0m\u001b[0m\n\u001b[0m",
      "\u001b[0;31mNameError\u001b[0m: name 'read' is not defined"
     ]
    }
   ],
   "source": [
    "infection_locations = read.get_locations_infections()"
   ]
  },
  {
   "cell_type": "code",
   "execution_count": null,
   "metadata": {},
   "outputs": [],
   "source": [
    "unique_locations, counts_locations = np.unique(\n",
    "                np.array(infection_locations),\n",
    "                return_counts=True)\n",
    "\n",
    "location_counts_df = pd.DataFrame(\n",
    "    {'locations': unique_locations,\n",
    "    'counts': counts_locations}\n",
    ")\n",
    "location_counts_df.set_index('locations', inplace=True)"
   ]
  },
  {
   "cell_type": "code",
   "execution_count": null,
   "metadata": {},
   "outputs": [],
   "source": [
    "location_counts_df['percent_infections']= 100*(location_counts_df['counts'])/location_counts_df.values.sum()"
   ]
  },
  {
   "cell_type": "code",
   "execution_count": null,
   "metadata": {},
   "outputs": [],
   "source": [
    "import matplotlib.ticker as mtick\n",
    "\n",
    "ax = location_counts_df['percent_infections'].sort_values().plot.bar()\n",
    "ax.yaxis.set_major_formatter(mtick.PercentFormatter())\n",
    "plt.ylabel('Percentage of infections at location')\n",
    "plt.xlabel('location')\n"
   ]
  },
  {
   "cell_type": "code",
   "execution_count": null,
   "metadata": {},
   "outputs": [],
   "source": [
    "# Find outbreaks"
   ]
  },
  {
   "cell_type": "code",
   "execution_count": null,
   "metadata": {},
   "outputs": [],
   "source": [
    "unique_id, count_id =  np.unique(\n",
    "        np.array(read.locations_df['location_id'].sum()),\n",
    "        return_counts=True\n",
    ")"
   ]
  },
  {
   "cell_type": "code",
   "execution_count": null,
   "metadata": {},
   "outputs": [],
   "source": [
    "unique_id[np.argsort(count_id)[-5:]]"
   ]
  },
  {
   "cell_type": "code",
   "execution_count": null,
   "metadata": {},
   "outputs": [],
   "source": [
    "count_id[np.argsort(count_id)[-5:]]"
   ]
  },
  {
   "cell_type": "code",
   "execution_count": null,
   "metadata": {},
   "outputs": [],
   "source": [
    "weekly_infections=read.locations_df.resample('W').sum()"
   ]
  },
  {
   "cell_type": "code",
   "execution_count": null,
   "metadata": {},
   "outputs": [],
   "source": [
    "for location in unique_locations:\n",
    "    weekly_infections[str(location)] = weekly_infections.apply(\n",
    "        lambda x: x.location.count(str(location)), axis=1\n",
    "    )"
   ]
  },
  {
   "cell_type": "code",
   "execution_count": null,
   "metadata": {},
   "outputs": [],
   "source": [
    "weekly_infections.iloc[:,3:].plot()"
   ]
  },
  {
   "cell_type": "code",
   "execution_count": null,
   "metadata": {},
   "outputs": [],
   "source": [
    "for location in unique_locations:\n",
    "    read.locations_df[str(location)] = read.locations_df.apply(\n",
    "        lambda x: x.location.count(str(location)), axis=1\n",
    "    )"
   ]
  },
  {
   "cell_type": "code",
   "execution_count": null,
   "metadata": {},
   "outputs": [],
   "source": [
    "read.locations_df.index = pd.to_datetime(read.locations_df.index)\n"
   ]
  },
  {
   "cell_type": "code",
   "execution_count": null,
   "metadata": {},
   "outputs": [],
   "source": [
    "read.locations_df.iloc[:,3:].plot()"
   ]
  },
  {
   "cell_type": "markdown",
   "metadata": {},
   "source": [
    "## rate of infection"
   ]
  },
  {
   "cell_type": "code",
   "execution_count": null,
   "metadata": {},
   "outputs": [],
   "source": [
    "r_df = read.get_r()"
   ]
  },
  {
   "cell_type": "code",
   "execution_count": null,
   "metadata": {},
   "outputs": [],
   "source": [
    "from june.policy import SocialDistancing\n",
    "r_df.plot()\n",
    "colors = [\"yellow\", \"orange\", 'blue']\n",
    "for policy in policies.policies:\n",
    "    if isinstance(policy, SocialDistancing):\n",
    "        plt.axvspan(policy.start_time, \n",
    "                policy.end_time,\n",
    "                facecolor=colors.pop(),\n",
    "                alpha=0.2)\n",
    "plt.axhline(y=1, linestyle='dashed', color='gray')\n",
    "plt.xlabel('Date')\n",
    "plt.ylim(0,3)\n",
    "plt.ylabel('R')"
   ]
  },
  {
   "cell_type": "markdown",
   "metadata": {},
   "source": [
    "## World infection curves, and by super area"
   ]
  },
  {
   "cell_type": "code",
   "execution_count": null,
   "metadata": {},
   "outputs": [],
   "source": [
    "%%time\n",
    "world_df = read.world_summary()"
   ]
  },
  {
   "cell_type": "code",
   "execution_count": null,
   "metadata": {},
   "outputs": [],
   "source": [
    "fig, ax = plt.subplots()\n",
    "world_df['daily_infections'].resample('D').sum().plot(ax=ax)\n",
    "for policy in policies.policies:\n",
    "    plt.axvspan(policy.start_time, \n",
    "                policy.end_time,\n",
    "                alpha=0.01)\n",
    "plt.axvline('2020-03-23',\n",
    "           linestyle='dashed',\n",
    "           color='indianred')\n",
    "ax.set_ylabel('# daily infections')\n",
    "ax.set_xlabel('Date')"
   ]
  },
  {
   "cell_type": "code",
   "execution_count": null,
   "metadata": {},
   "outputs": [],
   "source": [
    "fig, ax = plt.subplots()\n",
    "world_df['daily_hospital_admissions'].resample('D').sum().plot(ax=ax)\n",
    "\n",
    "plt.axvline('2020-04-01',\n",
    "           linestyle='dashed',\n",
    "           color='indianred')\n",
    "ax.set_ylabel('# daily hospital admissions')\n",
    "ax.set_xlabel('Date')"
   ]
  },
  {
   "cell_type": "code",
   "execution_count": null,
   "metadata": {},
   "outputs": [],
   "source": [
    "fig, ax = plt.subplots()\n",
    "world_df['current_infected'].plot(ax=ax)\n",
    "\n",
    "ax.set_ylabel('# Infected')\n",
    "ax.set_xlabel('Date')"
   ]
  },
  {
   "cell_type": "code",
   "execution_count": null,
   "metadata": {},
   "outputs": [],
   "source": [
    "world_df.plot()\n",
    "\n",
    "plt.legend(bbox_to_anchor=(1,1))\n"
   ]
  },
  {
   "cell_type": "code",
   "execution_count": null,
   "metadata": {},
   "outputs": [],
   "source": [
    "%%time\n",
    "run_summary = read.run_summary()"
   ]
  },
  {
   "cell_type": "code",
   "execution_count": null,
   "metadata": {},
   "outputs": [],
   "source": [
    "regional_run_summary = run_summary.groupby(['region', run_summary.index]).sum()"
   ]
  },
  {
   "cell_type": "code",
   "execution_count": null,
   "metadata": {},
   "outputs": [],
   "source": [
    "regional_run_summary.loc['East of England']['daily_infections'].plot(label='East of England')\n",
    "regional_run_summary.loc['North East']['daily_infections'].plot(label='North East')\n",
    "plt.legend()"
   ]
  },
  {
   "cell_type": "markdown",
   "metadata": {},
   "source": [
    "## World infection curves per age group"
   ]
  },
  {
   "cell_type": "code",
   "execution_count": 85,
   "metadata": {},
   "outputs": [
    {
     "name": "stdout",
     "output_type": "stream",
     "text": [
      "CPU times: user 2.11 s, sys: 6.46 ms, total: 2.11 s\n",
      "Wall time: 2.12 s\n"
     ]
    }
   ],
   "source": [
    "%%time\n",
    "ages_df = read.age_summary([0,10,20,30,40,\n",
    "                  50,60,70,80,90,100])"
   ]
  },
  {
   "cell_type": "code",
   "execution_count": 86,
   "metadata": {},
   "outputs": [
    {
     "data": {
      "text/plain": [
       "<matplotlib.legend.Legend at 0x7f143d23cc70>"
      ]
     },
     "execution_count": 86,
     "metadata": {},
     "output_type": "execute_result"
    },
    {
     "data": {
      "image/png": "[encoded data removed]",
      "text/plain": [
       "<Figure size 576x432 with 1 Axes>"
      ]
     },
     "metadata": {
      "needs_background": "light"
     },
     "output_type": "display_data"
    }
   ],
   "source": [
    "for name, group in ages_df.groupby('age_range'):\n",
    "    group['current_infected'].plot(label=name)\n",
    "colors = [\"yellow\", \"orange\",\"blue\"]\n",
    "for policy in policies.policies:\n",
    "    if isinstance(policy, SocialDistancing):\n",
    "        plt.axvspan(policy.start_time, \n",
    "                policy.end_time,\n",
    "                facecolor=colors.pop(), alpha=0.2)\n",
    "plt.legend(bbox_to_anchor=(1,1))\n"
   ]
  },
  {
   "cell_type": "markdown",
   "metadata": {},
   "source": [
    "## Draw some of the symptoms trajectories"
   ]
  },
  {
   "cell_type": "code",
   "execution_count": 87,
   "metadata": {},
   "outputs": [],
   "source": [
    "random_trajectories = read.draw_symptom_trajectories(window_length=600,\n",
    "                                        n_people=10)"
   ]
  },
  {
   "cell_type": "code",
   "execution_count": 88,
   "metadata": {},
   "outputs": [],
   "source": [
    "from june.infection import SymptomTag"
   ]
  },
  {
   "cell_type": "code",
   "execution_count": 89,
   "metadata": {},
   "outputs": [],
   "source": [
    "symptoms_values = [tag.value for tag in SymptomTag]\n",
    "symptoms_names = [tag.name for tag in SymptomTag]\n"
   ]
  },
  {
   "cell_type": "code",
   "execution_count": 90,
   "metadata": {},
   "outputs": [
    {
     "data": {
      "text/plain": [
       "Text(0.5, 0, 'Date')"
      ]
     },
     "execution_count": 90,
     "metadata": {},
     "output_type": "execute_result"
    },
    {
     "data": {
      "image/png": "[encoded data removed]",
      "text/plain": [
       "<Figure size 576x432 with 1 Axes>"
      ]
     },
     "metadata": {
      "needs_background": "light"
     },
     "output_type": "display_data"
    }
   ],
   "source": [
    "for df_person in random_trajectories:\n",
    "    df_person['symptoms'].plot()\n",
    "plt.ylabel('Symptoms Trajectory')\n",
    "_ = plt.yticks(symptoms_values, symptoms_names)\n",
    "plt.xlabel('Date')"
   ]
  },
  {
   "cell_type": "code",
   "execution_count": 91,
   "metadata": {},
   "outputs": [
    {
     "data": {
      "text/plain": [
       "Text(0.5, 0, 'Date')"
      ]
     },
     "execution_count": 91,
     "metadata": {},
     "output_type": "execute_result"
    },
    {
     "data": {
      "image/png": "[encoded data removed]",
      "text/plain": [
       "<Figure size 576x432 with 1 Axes>"
      ]
     },
     "metadata": {
      "needs_background": "light"
     },
     "output_type": "display_data"
    }
   ],
   "source": [
    "for df_person in random_trajectories:\n",
    "    df_person['n_secondary_infections'].plot()\n",
    "plt.ylabel('Number of secondary infections')\n",
    "\n",
    "plt.xlabel('Date')"
   ]
  },
  {
   "cell_type": "code",
   "execution_count": null,
   "metadata": {},
   "outputs": [],
   "source": []
  },
  {
   "cell_type": "code",
   "execution_count": null,
   "metadata": {},
   "outputs": [],
   "source": []
  }
 ],
 "metadata": {
  "kernelspec": {
   "display_name": "Python 3",
   "language": "python",
   "name": "python3"
  },
  "language_info": {
   "codemirror_mode": {
    "name": "ipython",
    "version": 3
   },
   "file_extension": ".py",
   "mimetype": "text/x-python",
   "name": "python",
   "nbconvert_exporter": "python",
   "pygments_lexer": "ipython3",
   "version": "3.8.3"
  }
 },
 "nbformat": 4,
 "nbformat_minor": 4
}
