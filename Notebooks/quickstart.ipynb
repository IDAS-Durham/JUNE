{
 "cells": [
  {
   "cell_type": "code",
   "execution_count": 1,
   "metadata": {},
   "outputs": [],
   "source": [
    "%load_ext autoreload\n",
    "%autoreload 2"
   ]
  },
  {
   "cell_type": "code",
   "execution_count": 2,
   "metadata": {},
   "outputs": [],
   "source": [
    "import numpy as np\n",
    "import time\n",
    "from datetime import datetime\n",
    "import matplotlib.pyplot as plt\n",
    "\n",
    " \n",
    "plt.style.use(['science','notebook'])\n",
    "plt.style.reload_library()"
   ]
  },
  {
   "cell_type": "code",
   "execution_count": 3,
   "metadata": {},
   "outputs": [
    {
     "name": "stderr",
     "output_type": "stream",
     "text": [
      "No --data argument given - defaulting to:\n",
      "/home/florpi/JUNE/data\n",
      "No --configs argument given - defaulting to:\n",
      "/home/florpi/JUNE/configs\n"
     ]
    },
    {
     "name": "stdout",
     "output_type": "stream",
     "text": [
      "2020-09-29 23:03:47,993 - numexpr.utils - INFO - NumExpr defaulting to 4 threads.\n"
     ]
    }
   ],
   "source": [
    "from june import World \n",
    "from june.geography import Geography\n",
    "from june.demography import Demography\n",
    "from june.interaction import Interaction\n",
    "from june.infection import Infection, HealthIndexGenerator, InfectionSelector\n",
    "from june.infection.transmission import TransmissionConstant\n",
    "from june.groups import Hospitals, Schools, Companies, Households, CareHomes, Cemeteries, Universities\n",
    "from june.groups.leisure import generate_leisure_for_config, Cinemas, Pubs, Groceries\n",
    "from june.groups.travel import *\n",
    "from june.simulator import Simulator\n",
    "from june.infection_seed import InfectionSeed\n",
    "from june.policy import Policy, Policies\n",
    "from june import paths\n",
    "from june.hdf5_savers import load_geography_from_hdf5\n",
    "from june.records import Record, RecordReader\n",
    "\n",
    "from june.world import generate_world_from_geography\n",
    "from june.hdf5_savers import generate_world_from_hdf5"
   ]
  },
  {
   "cell_type": "markdown",
   "metadata": {},
   "source": [
    "# Initialize world\n",
    "\n",
    "To initialize a certain world, we need to add the different components we want to have in it. First we specify what super areas (msoa) we want to create. We have included these ones, because they are known to contain hospitals, schools, care homes, and companies.\n",
    "\n",
    "After creating the geography, we create the different components the worlds need to have such as care homes, companies ..."
   ]
  },
  {
   "cell_type": "code",
   "execution_count": 13,
   "metadata": {},
   "outputs": [],
   "source": [
    "CONFIG_PATH = paths.configs_path / \"config_example.yaml\""
   ]
  },
  {
   "cell_type": "code",
   "execution_count": 4,
   "metadata": {},
   "outputs": [
    {
     "name": "stdout",
     "output_type": "stream",
     "text": [
      "2020-09-29 23:03:51,681 - june.geography.geography - INFO - There are 151 areas and 5 super_areas and 3 in the world.\n",
      "2020-09-29 23:03:51,686 - june.groups.hospital - INFO - There are 1 hospitals in this geography.\n",
      "2020-09-29 23:03:51,756 - june.groups.school - INFO - There are 16 schools in this geography.\n",
      "2020-09-29 23:03:51,781 - june.groups.school - INFO - No school for the age 0 in this world.\n",
      "2020-09-29 23:03:51,784 - june.groups.school - INFO - No school for the age 1 in this world.\n",
      "2020-09-29 23:03:52,114 - june.groups.carehome - INFO - There are 14 care_homes in this geography.\n",
      "2020-09-29 23:03:52,166 - june.groups.university - INFO - There are 37 universities in this world.\n",
      "2020-09-29 23:03:57,572 - june.world - INFO - Populating areas\n",
      "2020-09-29 23:03:58,013 - june.world - INFO - Areas populated. This world's population is: 44314\n",
      "2020-09-29 23:04:00,324 - june.distributors.worker_distributor - INFO - Distributing workers to super areas...\n",
      "2020-09-29 23:04:01,733 - june.distributors.worker_distributor - INFO - Workers distributed.\n",
      "2020-09-29 23:04:01,734 - june.distributors.carehome_distributor - INFO - Populating care homes\n",
      "2020-09-29 23:04:01,967 - june.distributors.carehome_distributor - INFO - This world has 246 people living in care homes.\n",
      "2020-09-29 23:04:01,979 - june.distributors.household_distributor - INFO - Distributing people to households\n",
      "2020-09-29 23:04:04,920 - june.distributors.household_distributor - INFO - People assigned to households. There are 20614 households in this world.\n",
      "2020-09-29 23:04:04,924 - june.distributors.school_distributor - INFO - Distributing kids to schools\n",
      "2020-09-29 23:04:04,924 - june.distributors.school_distributor - INFO - Distributed kids in 0 of 151 areas.\n",
      "2020-09-29 23:04:05,826 - june.distributors.school_distributor - INFO - Kids distributed to schools\n",
      "2020-09-29 23:04:05,848 - june.distributors.university_distributor - INFO - Distributing students to universities\n",
      "2020-09-29 23:04:09,966 - june.distributors.university_distributor - INFO - Distributed 6534 students to 37 universities\n",
      "2020-09-29 23:04:09,969 - june.distributors.hospital_distributor - INFO - Distributing medics to hospitals\n",
      "2020-09-29 23:04:09,972 - june.distributors.hospital_distributor - INFO - Medics distributed to hospitals\n",
      "2020-09-29 23:04:09,973 - june.distributors.company_distributor - INFO - Distributing workers to companies\n",
      "2020-09-29 23:04:09,974 - june.distributors.company_distributor - INFO - Distributed workers to companies in 0 of 5 super areas.\n",
      "2020-09-29 23:04:10,164 - june.distributors.company_distributor - INFO - Workers distributed to companies\n",
      "CPU times: user 18.1 s, sys: 871 ms, total: 19 s\n",
      "Wall time: 19 s\n"
     ]
    }
   ],
   "source": [
    "%%time \n",
    "\n",
    "geography = Geography.from_file(\n",
    "{\n",
    "    \"super_area\": [\"E02001731\", \"E02002566\",\"E02004935\",\"E02000134\", \"E02004987\"]\n",
    "}\n",
    ")\n",
    "\n",
    "geography.hospitals = Hospitals.for_geography(geography)\n",
    "geography.schools = Schools.for_geography(geography)\n",
    "geography.companies = Companies.for_geography(geography)\n",
    "geography.care_homes = CareHomes.for_geography(geography)\n",
    "geography.universities = Universities.for_super_areas(geography.super_areas)\n",
    "world = generate_world_from_geography(geography, include_households=True)\n"
   ]
  },
  {
   "cell_type": "markdown",
   "metadata": {},
   "source": [
    "## Commute, travel and leisure"
   ]
  },
  {
   "cell_type": "code",
   "execution_count": 14,
   "metadata": {},
   "outputs": [
    {
     "name": "stdout",
     "output_type": "stream",
     "text": [
      "2020-09-29 23:04:34,629 - june.groups.leisure.social_venue - INFO - Initialized 800 pubs(s)\n",
      "2020-09-29 23:04:34,643 - june.groups.leisure.social_venue - INFO - Initialized 8 cinemas(s)\n",
      "2020-09-29 23:04:34,717 - june.groups.leisure.social_venue - INFO - Initialized 69 groceries(s)\n",
      "2020-09-29 23:04:34,767 - june.groups.leisure.leisure - INFO - Linking households for visits\n",
      "2020-09-29 23:04:35,297 - june.groups.leisure.leisure - INFO - Done\n",
      "2020-09-29 23:04:35,298 - june.groups.leisure.leisure - INFO - Linking households with care homes for visits\n",
      "2020-09-29 23:04:35,423 - june.groups.leisure.leisure - INFO - Done\n",
      "2020-09-29 23:04:35,423 - june.groups.leisure.leisure - INFO - Distributing social venues to areas\n",
      "2020-09-29 23:04:35,424 - june.groups.leisure.leisure - INFO - Distributed in 0 of 151 areas.\n",
      "2020-09-29 23:04:35,577 - june.groups.leisure.leisure - INFO - Distributed in 151 of 151 areas.\n",
      "CPU times: user 1.33 s, sys: 19.7 ms, total: 1.35 s\n",
      "Wall time: 1.36 s\n"
     ]
    }
   ],
   "source": [
    "%%time\n",
    "\n",
    "world.pubs = Pubs.for_geography(geography)\n",
    "world.cinemas = Cinemas.for_geography(geography)\n",
    "world.groceries = Groceries.for_geography(geography)\n",
    "leisure = generate_leisure_for_config(world, config_filename=CONFIG_PATH)\n",
    "leisure.distribute_social_venues_to_areas(\n",
    "    areas=world.areas, super_areas=world.super_areas\n",
    ")"
   ]
  },
  {
   "cell_type": "markdown",
   "metadata": {},
   "source": [
    "We are also going to need some cemeteries...geography.cemeteries = Cemeteries()\n"
   ]
  },
  {
   "cell_type": "code",
   "execution_count": 6,
   "metadata": {},
   "outputs": [
    {
     "name": "stdout",
     "output_type": "stream",
     "text": [
      "2020-09-29 23:04:10,735 - june.groups.travel.travel - INFO - Initialising commute...\n",
      "2020-09-29 23:04:10,740 - june.groups.travel.travel - INFO - Creating cities...\n",
      "2020-09-29 23:04:10,778 - june.groups.travel.travel - INFO - This world has 4 cities, with names\n",
      "['London', 'Newcastle upon Tyne', 'Darlington', 'St Albans']\n",
      "2020-09-29 23:04:10,781 - june.groups.travel.travel - INFO - Creating stations...\n",
      "2020-09-29 23:04:10,789 - june.groups.travel.travel - INFO - City London has 8 stations.\n",
      "2020-09-29 23:04:10,793 - june.groups.travel.travel - INFO - City Newcastle upon Tyne has 4 stations.\n",
      "2020-09-29 23:04:10,795 - june.groups.travel.travel - INFO - This world has 12 stations.\n",
      "2020-09-29 23:04:10,797 - june.groups.travel.travel - INFO - Recording closest stations to super areas\n",
      "2020-09-29 23:04:10,802 - june.groups.travel.travel - INFO - Determining people mode of transport\n",
      "2020-09-29 23:04:18,973 - june.groups.travel.travel - INFO - Mode of transport allocated in 0 of 151 areas.\n",
      "2020-09-29 23:04:19,031 - june.groups.travel.travel - INFO - Mode of transport determined for everyone.\n",
      "2020-09-29 23:04:19,187 - june.groups.travel.travel - INFO - Assigning commuters to stations...\n",
      "2020-09-29 23:04:19,188 - june.groups.travel.travel - INFO - Assigned 0 of 44314 commuters...\n",
      "2020-09-29 23:04:19,204 - june.groups.travel.travel - INFO - Commuters assigned\n",
      "2020-09-29 23:04:19,207 - june.groups.travel.travel - INFO - City London has 688 people commuting internally and 585 people commuting externally.\n",
      "2020-09-29 23:04:19,210 - june.groups.travel.travel - INFO - City Newcastle upon Tyne has 673 people commuting internally and 970 people commuting externally.\n",
      "2020-09-29 23:04:19,212 - june.groups.travel.travel - INFO - Creating transport units for the population\n",
      "2020-09-29 23:04:19,216 - june.groups.travel.travel - INFO - Cities' transport initialised\n"
     ]
    }
   ],
   "source": [
    "# initialise commuting\n",
    "travel = Travel()\n",
    "travel.initialise_commute(world)"
   ]
  },
  {
   "cell_type": "code",
   "execution_count": 7,
   "metadata": {},
   "outputs": [],
   "source": [
    "world.cemeteries = Cemeteries()"
   ]
  },
  {
   "cell_type": "code",
   "execution_count": 8,
   "metadata": {},
   "outputs": [
    {
     "data": {
      "text/plain": [
       "44314"
      ]
     },
     "execution_count": 8,
     "metadata": {},
     "output_type": "execute_result"
    }
   ],
   "source": [
    "len(world.people)"
   ]
  },
  {
   "cell_type": "markdown",
   "metadata": {},
   "source": [
    "### If it took a long time to run the previous commands, it might be a good idea to save the world to reuse it later."
   ]
  },
  {
   "cell_type": "code",
   "execution_count": 9,
   "metadata": {
    "scrolled": true
   },
   "outputs": [],
   "source": [
    "#world.to_hdf5(\"world.hdf5\")"
   ]
  },
  {
   "cell_type": "markdown",
   "metadata": {},
   "source": [
    "If we would like to load the world we saved, we just do"
   ]
  },
  {
   "cell_type": "code",
   "execution_count": 10,
   "metadata": {},
   "outputs": [],
   "source": [
    "#world = generate_world_from_hdf5(\"world.hdf5\")"
   ]
  },
  {
   "cell_type": "code",
   "execution_count": 15,
   "metadata": {},
   "outputs": [],
   "source": [
    "# and regenerate leisure in case we load it externally\n",
    "leisure = generate_leisure_for_config(world, CONFIG_PATH)\n",
    "# create travel as well\n",
    "travel = Travel()"
   ]
  },
  {
   "cell_type": "markdown",
   "metadata": {},
   "source": [
    "you have now a beautiful pre-pandemic world. "
   ]
  },
  {
   "cell_type": "markdown",
   "metadata": {},
   "source": [
    "# Adding the infection"
   ]
  },
  {
   "cell_type": "markdown",
   "metadata": {},
   "source": [
    "The module in charge of infecting people is called the ``InfectionSelector``, which gives people a transmission time profile and a symptoms trajectory based on their age and sex (through the health index generator)"
   ]
  },
  {
   "cell_type": "code",
   "execution_count": 16,
   "metadata": {},
   "outputs": [],
   "source": [
    "health_index_generator = HealthIndexGenerator.from_file(asymptomatic_ratio=0.2)\n",
    "selector = InfectionSelector.from_file(\n",
    "        health_index_generator=health_index_generator,\n",
    "        transmission_config_path=paths.configs_path / 'defaults/transmission/XNExp.yaml'\n",
    ")"
   ]
  },
  {
   "cell_type": "markdown",
   "metadata": {},
   "source": [
    "# Adding the interaction"
   ]
  },
  {
   "cell_type": "code",
   "execution_count": 17,
   "metadata": {},
   "outputs": [],
   "source": [
    "interaction = Interaction.from_file()"
   ]
  },
  {
   "cell_type": "markdown",
   "metadata": {},
   "source": [
    "Beta are the intensities of the interaction taking place at the different groups"
   ]
  },
  {
   "cell_type": "code",
   "execution_count": 18,
   "metadata": {},
   "outputs": [
    {
     "data": {
      "text/plain": [
       "{'box': 1,\n",
       " 'pub': 0.42941,\n",
       " 'grocery': 0.04137,\n",
       " 'cinema': 0.157461,\n",
       " 'city_transport': 0.107969,\n",
       " 'inter_city_transport': 0.383,\n",
       " 'hospital': 0.1168,\n",
       " 'care_home': 0.28,\n",
       " 'company': 0.371,\n",
       " 'school': 0.07,\n",
       " 'household': 0.208,\n",
       " 'university': 0.306}"
      ]
     },
     "execution_count": 18,
     "metadata": {},
     "output_type": "execute_result"
    }
   ],
   "source": [
    "interaction.beta"
   ]
  },
  {
   "cell_type": "markdown",
   "metadata": {},
   "source": [
    "moreover this interaction module uses contact matrices, that are different for different groups. These contact matrices shouldnt be modified for now. However they are a combination of conversational contact matrices, and physical contact matrices (see the BBC pandemic paper, from where these matrices are extracted https://www.medrxiv.org/content/10.1101/2020.02.16.20023754v2)\n",
    "\n",
    "There is a parameter, ``alpha`` ($\\alpha$), that combines these two matrices in the following way,\n",
    "\n",
    "\n",
    "$\\beta M \\left(1 + (\\alpha -1) \\right) P$\n",
    "\n",
    "where $\\beta$ is the intensity of the interaction, and $P$ the physical contact matrix. A larger $\\alpha$ produces more physical contacts. It is an overall number, non dependent of the particular group.\n"
   ]
  },
  {
   "cell_type": "code",
   "execution_count": 19,
   "metadata": {},
   "outputs": [
    {
     "data": {
      "text/plain": [
       "2.0"
      ]
     },
     "execution_count": 19,
     "metadata": {},
     "output_type": "execute_result"
    }
   ],
   "source": [
    "interaction.alpha_physical"
   ]
  },
  {
   "cell_type": "markdown",
   "metadata": {},
   "source": [
    "# Seed the disease"
   ]
  },
  {
   "cell_type": "markdown",
   "metadata": {},
   "source": [
    "There are two options implemented in the seed at the moment, either you specify the number of cases and these are then homogeneously distributed by population to the different areas, or you use UK data on cases per region. For now use the first case."
   ]
  },
  {
   "cell_type": "code",
   "execution_count": 20,
   "metadata": {},
   "outputs": [],
   "source": [
    "infection_seed = InfectionSeed(\n",
    "    world, selector,\n",
    ")"
   ]
  },
  {
   "cell_type": "code",
   "execution_count": 21,
   "metadata": {},
   "outputs": [
    {
     "data": {
      "text/plain": [
       "<june.world.World at 0x7fddd6e5ff70>"
      ]
     },
     "execution_count": 21,
     "metadata": {},
     "output_type": "execute_result"
    }
   ],
   "source": [
    "world"
   ]
  },
  {
   "cell_type": "code",
   "execution_count": 22,
   "metadata": {},
   "outputs": [],
   "source": [
    "n_cases = 50\n",
    "infection_seed.unleash_virus(\n",
    "    population=world.people,\n",
    "    n_cases=n_cases) # play around with the initial number of cases"
   ]
  },
  {
   "cell_type": "markdown",
   "metadata": {},
   "source": [
    "# Set policies"
   ]
  },
  {
   "cell_type": "code",
   "execution_count": 23,
   "metadata": {},
   "outputs": [],
   "source": [
    "policies = Policies.from_file()"
   ]
  },
  {
   "cell_type": "code",
   "execution_count": 24,
   "metadata": {},
   "outputs": [
    {
     "data": {
      "text/plain": [
       "<june.policy.policy.Policies at 0x7fdd7b41f6d0>"
      ]
     },
     "execution_count": 24,
     "metadata": {},
     "output_type": "execute_result"
    }
   ],
   "source": [
    "policies"
   ]
  },
  {
   "cell_type": "markdown",
   "metadata": {},
   "source": [
    "# Run the simulation"
   ]
  },
  {
   "cell_type": "markdown",
   "metadata": {},
   "source": [
    "The simulator is the main module in charge of running the simulation. It coordinates the ``ActivityManager`` which is responsible of allocating people to the right groups given the current timestep, it updates the health status of the population, and it runs the interaction over the different groups. All of these modules can be modified by policies at any given time."
   ]
  },
  {
   "cell_type": "markdown",
   "metadata": {},
   "source": [
    "Since the timer configuration is a bit cumbersome, it is read from the config file at ``configs/config_example.yaml``"
   ]
  },
  {
   "cell_type": "code",
   "execution_count": 25,
   "metadata": {},
   "outputs": [],
   "source": [
    "record = Record(    \n",
    "    record_path = 'results',    \n",
    "    filename='june_records.hdf5',   \n",
    "    record_static_data=True,\n",
    ") "
   ]
  },
  {
   "cell_type": "code",
   "execution_count": 26,
   "metadata": {},
   "outputs": [
    {
     "name": "stdout",
     "output_type": "stream",
     "text": [
      "Storing households\n",
      "Storing care_homes\n",
      "Storing schools\n",
      "Storing companies\n",
      "Storing hospitals\n",
      "Storing pubs\n",
      "Storing groceries\n",
      "Storing cinemas\n",
      "Storing universities\n",
      "Storing city_transports\n",
      "Storing inter_city_transports\n"
     ]
    }
   ],
   "source": [
    "record.static_data(world=world)"
   ]
  },
  {
   "cell_type": "code",
   "execution_count": 27,
   "metadata": {},
   "outputs": [
    {
     "data": {
      "text/plain": [
       "800"
      ]
     },
     "execution_count": 27,
     "metadata": {},
     "output_type": "execute_result"
    }
   ],
   "source": [
    "len(world.pubs)"
   ]
  },
  {
   "cell_type": "code",
   "execution_count": 28,
   "metadata": {},
   "outputs": [],
   "source": [
    "simulator = Simulator.from_file(\n",
    "    world=world,\n",
    "    infection_selector=selector,\n",
    "    interaction=interaction, \n",
    "    config_filename = CONFIG_PATH,\n",
    "    leisure = leisure,\n",
    "    travel = travel,\n",
    "    record=record,\n",
    "    policies = policies\n",
    ")"
   ]
  },
  {
   "cell_type": "code",
   "execution_count": 29,
   "metadata": {
    "scrolled": true
   },
   "outputs": [
    {
     "name": "stdout",
     "output_type": "stream",
     "text": [
      "2020-09-29 23:04:45,064 - june.simulator - INFO - Starting simulation for 60 days at day 2020-03-01 00:00:00, to run for 60 days\n",
      "2020-09-29 23:04:45,435 - june.activity.activity_manager - INFO - CMS: People COMS for rank 0/1 - 7.357999493251555e-06,6.4373016357421875e-06 - 2020-03-01 00:00:00\n",
      "2020-09-29 23:04:45,441 - june.simulator - INFO - Date = 2020-03-01 00:00:00, number of deaths =  0, number of infected = 50\n",
      "2020-09-29 23:04:45,667 - june.simulator - INFO - CMS: Infection COMS for rank 0/1 - 5.41600093129091e-06,4.291534423828125e-06 - 2020-03-01 00:00:00\n",
      "2020-09-29 23:04:45,828 - june.simulator - INFO - CMS: Timestep for rank 0/1 - 0.6998759649995918, 0.6998755931854248 - 2020-03-01 00:00:00\n",
      "2020-09-29 23:04:46,179 - june.activity.activity_manager - INFO - CMS: People COMS for rank 0/1 - 5.080999471829273e-06,4.76837158203125e-06 - 2020-03-01 04:00:00\n",
      "2020-09-29 23:04:46,186 - june.simulator - INFO - Date = 2020-03-01 04:00:00, number of deaths =  0, number of infected = 50\n",
      "2020-09-29 23:04:46,349 - june.simulator - INFO - CMS: Infection COMS for rank 0/1 - 3.3449996408307925e-06,2.86102294921875e-06 - 2020-03-01 04:00:00\n",
      "2020-09-29 23:04:46,459 - june.simulator - INFO - CMS: Timestep for rank 0/1 - 0.6310429240002122, 0.6310441493988037 - 2020-03-01 04:00:00\n",
      "2020-09-29 23:04:46,762 - june.activity.activity_manager - INFO - CMS: People COMS for rank 0/1 - 4.795001586899161e-06,3.814697265625e-06 - 2020-03-01 08:00:00\n",
      "2020-09-29 23:04:46,768 - june.simulator - INFO - Date = 2020-03-01 08:00:00, number of deaths =  0, number of infected = 51\n",
      "2020-09-29 23:04:46,928 - june.simulator - INFO - CMS: Infection COMS for rank 0/1 - 3.7239988159853965e-06,2.86102294921875e-06 - 2020-03-01 08:00:00\n",
      "2020-09-29 23:04:47,023 - june.simulator - INFO - CMS: Timestep for rank 0/1 - 0.563193025000146, 0.5631935596466064 - 2020-03-01 08:00:00\n",
      "2020-09-29 23:04:47,115 - june.activity.activity_manager - INFO - CMS: People COMS for rank 0/1 - 6.516000212286599e-06,5.245208740234375e-06 - 2020-03-01 12:00:00\n",
      "2020-09-29 23:04:47,120 - june.simulator - INFO - Date = 2020-03-01 12:00:00, number of deaths =  0, number of infected = 51\n",
      "2020-09-29 23:04:47,258 - june.simulator - INFO - CMS: Infection COMS for rank 0/1 - 3.2629995985189453e-06,2.6226043701171875e-06 - 2020-03-01 12:00:00\n",
      "2020-09-29 23:04:47,339 - june.simulator - INFO - CMS: Timestep for rank 0/1 - 0.3147951160008233, 0.31479549407958984 - 2020-03-01 12:00:00\n",
      "2020-09-29 23:04:47,480 - june.activity.activity_manager - INFO - CMS: People COMS for rank 0/1 - 5.066000085207634e-06,4.291534423828125e-06 - 2020-03-02 00:00:00\n",
      "2020-09-29 23:04:47,485 - june.simulator - INFO - Date = 2020-03-02 00:00:00, number of deaths =  0, number of infected = 52\n",
      "2020-09-29 23:04:47,615 - june.simulator - INFO - CMS: Infection COMS for rank 0/1 - 3.793000360019505e-06,3.0994415283203125e-06 - 2020-03-02 00:00:00\n",
      "2020-09-29 23:04:47,698 - june.simulator - INFO - CMS: Timestep for rank 0/1 - 0.3584502949997841, 0.35845065116882324 - 2020-03-02 00:00:00\n",
      "2020-09-29 23:04:47,873 - june.activity.activity_manager - INFO - CMS: People COMS for rank 0/1 - 4.825998985324986e-06,4.291534423828125e-06 - 2020-03-02 01:00:00\n",
      "2020-09-29 23:04:47,879 - june.simulator - INFO - Date = 2020-03-02 01:00:00, number of deaths =  0, number of infected = 53\n",
      "2020-09-29 23:04:48,539 - june.simulator - INFO - CMS: Infection COMS for rank 0/1 - 5.462001354317181e-06,4.76837158203125e-06 - 2020-03-02 01:00:00\n",
      "2020-09-29 23:04:48,638 - june.simulator - INFO - CMS: Timestep for rank 0/1 - 0.9392773419986042, 0.9392788410186768 - 2020-03-02 01:00:00\n",
      "2020-09-29 23:04:48,953 - june.activity.activity_manager - INFO - CMS: People COMS for rank 0/1 - 5.194999175728299e-06,4.5299530029296875e-06 - 2020-03-02 09:00:00\n",
      "2020-09-29 23:04:48,959 - june.simulator - INFO - Date = 2020-03-02 09:00:00, number of deaths =  0, number of infected = 62\n",
      "2020-09-29 23:04:49,112 - june.simulator - INFO - CMS: Infection COMS for rank 0/1 - 4.279001586837694e-06,3.5762786865234375e-06 - 2020-03-02 09:00:00\n",
      "2020-09-29 23:04:49,200 - june.simulator - INFO - CMS: Timestep for rank 0/1 - 0.561065043999406, 0.5610661506652832 - 2020-03-02 09:00:00\n",
      "2020-09-29 23:04:49,572 - june.activity.activity_manager - INFO - CMS: People COMS for rank 0/1 - 5.036999937146902e-06,4.291534423828125e-06 - 2020-03-02 10:00:00\n",
      "2020-09-29 23:04:49,578 - june.simulator - INFO - Date = 2020-03-02 10:00:00, number of deaths =  0, number of infected = 62\n",
      "2020-09-29 23:04:49,767 - june.simulator - INFO - CMS: Infection COMS for rank 0/1 - 6.55999974696897e-06,5.0067901611328125e-06 - 2020-03-02 10:00:00\n",
      "2020-09-29 23:04:49,932 - june.simulator - INFO - CMS: Timestep for rank 0/1 - 0.7303977800002031, 0.730398416519165 - 2020-03-02 10:00:00\n",
      "2020-09-29 23:04:50,030 - june.activity.activity_manager - INFO - CMS: People COMS for rank 0/1 - 9.191999197355472e-06,8.344650268554688e-06 - 2020-03-02 13:00:00\n",
      "2020-09-29 23:04:50,039 - june.simulator - INFO - Date = 2020-03-02 13:00:00, number of deaths =  0, number of infected = 63\n",
      "2020-09-29 23:04:50,183 - june.simulator - INFO - CMS: Infection COMS for rank 0/1 - 4.039999112137593e-06,3.337860107421875e-06 - 2020-03-02 13:00:00\n",
      "2020-09-29 23:04:50,263 - june.simulator - INFO - CMS: Timestep for rank 0/1 - 0.3302185789998475, 0.3302195072174072 - 2020-03-02 13:00:00\n",
      "2020-09-29 23:04:50,396 - june.activity.activity_manager - INFO - CMS: People COMS for rank 0/1 - 5.162000888958573e-06,4.291534423828125e-06 - 2020-03-03 00:00:00\n",
      "2020-09-29 23:04:50,401 - june.simulator - INFO - Date = 2020-03-03 00:00:00, number of deaths =  0, number of infected = 65\n",
      "2020-09-29 23:04:50,543 - june.simulator - INFO - CMS: Infection COMS for rank 0/1 - 4.743998943013139e-06,4.0531158447265625e-06 - 2020-03-03 00:00:00\n",
      "2020-09-29 23:04:50,638 - june.simulator - INFO - CMS: Timestep for rank 0/1 - 0.37442162400111556, 0.3744227886199951 - 2020-03-03 00:00:00\n",
      "2020-09-29 23:04:50,789 - june.activity.activity_manager - INFO - CMS: People COMS for rank 0/1 - 5.433999831438996e-06,4.76837158203125e-06 - 2020-03-03 01:00:00\n",
      "2020-09-29 23:04:50,794 - june.simulator - INFO - Date = 2020-03-03 01:00:00, number of deaths =  0, number of infected = 65\n",
      "2020-09-29 23:04:51,214 - june.simulator - INFO - CMS: Infection COMS for rank 0/1 - 3.5079992812825367e-06,3.0994415283203125e-06 - 2020-03-03 01:00:00\n",
      "2020-09-29 23:04:51,305 - june.simulator - INFO - CMS: Timestep for rank 0/1 - 0.6668788030001451, 0.6668796539306641 - 2020-03-03 01:00:00\n",
      "2020-09-29 23:04:51,459 - june.activity.activity_manager - INFO - CMS: People COMS for rank 0/1 - 7.358001312240958e-06,6.67572021484375e-06 - 2020-03-03 09:00:00\n",
      "2020-09-29 23:04:51,465 - june.simulator - INFO - Date = 2020-03-03 09:00:00, number of deaths =  0, number of infected = 96\n",
      "2020-09-29 23:04:51,600 - june.simulator - INFO - CMS: Infection COMS for rank 0/1 - 4.389999958220869e-06,3.337860107421875e-06 - 2020-03-03 09:00:00\n",
      "2020-09-29 23:04:51,762 - june.simulator - INFO - CMS: Timestep for rank 0/1 - 0.45558796899968, 0.45558857917785645 - 2020-03-03 09:00:00\n",
      "2020-09-29 23:04:52,114 - june.activity.activity_manager - INFO - CMS: People COMS for rank 0/1 - 5.152000085217878e-06,4.76837158203125e-06 - 2020-03-03 10:00:00\n",
      "2020-09-29 23:04:52,119 - june.simulator - INFO - Date = 2020-03-03 10:00:00, number of deaths =  0, number of infected = 98\n",
      "2020-09-29 23:04:52,411 - june.simulator - INFO - CMS: Infection COMS for rank 0/1 - 3.6170004023006186e-06,3.0994415283203125e-06 - 2020-03-03 10:00:00\n",
      "2020-09-29 23:04:52,507 - june.simulator - INFO - CMS: Timestep for rank 0/1 - 0.7433561990001181, 0.7433569431304932 - 2020-03-03 10:00:00\n",
      "2020-09-29 23:04:52,608 - june.activity.activity_manager - INFO - CMS: People COMS for rank 0/1 - 7.259999620146118e-06,6.4373016357421875e-06 - 2020-03-03 13:00:00\n",
      "2020-09-29 23:04:52,621 - june.simulator - INFO - Date = 2020-03-03 13:00:00, number of deaths =  0, number of infected = 100\n",
      "2020-09-29 23:04:52,827 - june.simulator - INFO - CMS: Infection COMS for rank 0/1 - 6.141999620012939e-06,5.4836273193359375e-06 - 2020-03-03 13:00:00\n",
      "2020-09-29 23:04:53,003 - june.simulator - INFO - CMS: Timestep for rank 0/1 - 0.49574611900061427, 0.4957468509674072 - 2020-03-03 13:00:00\n"
     ]
    },
    {
     "name": "stdout",
     "output_type": "stream",
     "text": [
      "2020-09-29 23:04:53,145 - june.activity.activity_manager - INFO - CMS: People COMS for rank 0/1 - 5.541000064113177e-06,4.5299530029296875e-06 - 2020-03-04 00:00:00\n",
      "2020-09-29 23:04:53,150 - june.simulator - INFO - Date = 2020-03-04 00:00:00, number of deaths =  0, number of infected = 106\n",
      "2020-09-29 23:04:53,298 - june.simulator - INFO - CMS: Infection COMS for rank 0/1 - 3.885999831254594e-06,3.0994415283203125e-06 - 2020-03-04 00:00:00\n",
      "2020-09-29 23:04:53,375 - june.simulator - INFO - CMS: Timestep for rank 0/1 - 0.3711232480000035, 0.3711240291595459 - 2020-03-04 00:00:00\n",
      "2020-09-29 23:04:53,536 - june.activity.activity_manager - INFO - CMS: People COMS for rank 0/1 - 6.3160005083773285e-06,5.7220458984375e-06 - 2020-03-04 01:00:00\n",
      "2020-09-29 23:04:53,543 - june.simulator - INFO - Date = 2020-03-04 01:00:00, number of deaths =  0, number of infected = 108\n",
      "2020-09-29 23:04:54,959 - june.simulator - INFO - CMS: Infection COMS for rank 0/1 - 3.7119989428902045e-06,3.0994415283203125e-06 - 2020-03-04 01:00:00\n",
      "2020-09-29 23:04:55,044 - june.simulator - INFO - CMS: Timestep for rank 0/1 - 1.6681986359999428, 1.6681995391845703 - 2020-03-04 01:00:00\n",
      "2020-09-29 23:04:55,172 - june.activity.activity_manager - INFO - CMS: People COMS for rank 0/1 - 5.646999852615409e-06,4.291534423828125e-06 - 2020-03-04 09:00:00\n",
      "2020-09-29 23:04:55,178 - june.simulator - INFO - Date = 2020-03-04 09:00:00, number of deaths =  0, number of infected = 144\n",
      "2020-09-29 23:04:55,346 - june.simulator - INFO - CMS: Infection COMS for rank 0/1 - 6.436001058318652e-06,5.4836273193359375e-06 - 2020-03-04 09:00:00\n",
      "2020-09-29 23:04:55,464 - june.simulator - INFO - CMS: Timestep for rank 0/1 - 0.4191186150001158, 0.41911959648132324 - 2020-03-04 09:00:00\n",
      "2020-09-29 23:04:55,800 - june.activity.activity_manager - INFO - CMS: People COMS for rank 0/1 - 5.129999408381991e-06,4.291534423828125e-06 - 2020-03-04 10:00:00\n",
      "2020-09-29 23:04:55,805 - june.simulator - INFO - Date = 2020-03-04 10:00:00, number of deaths =  0, number of infected = 149\n",
      "2020-09-29 23:04:55,958 - june.simulator - INFO - CMS: Infection COMS for rank 0/1 - 3.1370000215247273e-06,2.86102294921875e-06 - 2020-03-04 10:00:00\n",
      "2020-09-29 23:04:56,070 - june.simulator - INFO - CMS: Timestep for rank 0/1 - 0.6052711970005475, 0.6052720546722412 - 2020-03-04 10:00:00\n",
      "2020-09-29 23:04:56,167 - june.activity.activity_manager - INFO - CMS: People COMS for rank 0/1 - 5.12100086780265e-06,4.76837158203125e-06 - 2020-03-04 13:00:00\n",
      "2020-09-29 23:04:56,172 - june.simulator - INFO - Date = 2020-03-04 13:00:00, number of deaths =  0, number of infected = 152\n",
      "2020-09-29 23:04:56,340 - june.simulator - INFO - CMS: Infection COMS for rank 0/1 - 3.7749996408820152e-06,2.86102294921875e-06 - 2020-03-04 13:00:00\n",
      "2020-09-29 23:04:56,431 - june.simulator - INFO - CMS: Timestep for rank 0/1 - 0.3607419920008397, 0.36074256896972656 - 2020-03-04 13:00:00\n",
      "2020-09-29 23:04:56,577 - june.activity.activity_manager - INFO - CMS: People COMS for rank 0/1 - 5.797999619971961e-06,4.5299530029296875e-06 - 2020-03-05 00:00:00\n",
      "2020-09-29 23:04:56,583 - june.simulator - INFO - Date = 2020-03-05 00:00:00, number of deaths =  0, number of infected = 160\n",
      "2020-09-29 23:04:56,809 - june.simulator - INFO - CMS: Infection COMS for rank 0/1 - 4.408000677358359e-06,3.814697265625e-06 - 2020-03-05 00:00:00\n",
      "2020-09-29 23:04:56,951 - june.simulator - INFO - CMS: Timestep for rank 0/1 - 0.5190394569999626, 0.5190403461456299 - 2020-03-05 00:00:00\n",
      "2020-09-29 23:04:57,112 - june.activity.activity_manager - INFO - CMS: People COMS for rank 0/1 - 4.9640002544038e-06,4.0531158447265625e-06 - 2020-03-05 01:00:00\n",
      "2020-09-29 23:04:57,117 - june.simulator - INFO - Date = 2020-03-05 01:00:00, number of deaths =  0, number of infected = 164\n",
      "2020-09-29 23:04:57,311 - june.simulator - INFO - CMS: Infection COMS for rank 0/1 - 3.6459987313719466e-06,3.337860107421875e-06 - 2020-03-05 01:00:00\n",
      "2020-09-29 23:04:57,416 - june.simulator - INFO - CMS: Timestep for rank 0/1 - 0.46390538000014203, 0.46390604972839355 - 2020-03-05 01:00:00\n",
      "2020-09-29 23:04:57,554 - june.activity.activity_manager - INFO - CMS: People COMS for rank 0/1 - 5.695999789168127e-06,4.0531158447265625e-06 - 2020-03-05 09:00:00\n",
      "2020-09-29 23:04:57,559 - june.simulator - INFO - Date = 2020-03-05 09:00:00, number of deaths =  0, number of infected = 204\n",
      "2020-09-29 23:04:57,704 - june.simulator - INFO - CMS: Infection COMS for rank 0/1 - 3.1759991543367505e-06,2.6226043701171875e-06 - 2020-03-05 09:00:00\n",
      "2020-09-29 23:04:57,789 - june.simulator - INFO - CMS: Timestep for rank 0/1 - 0.3726495099999738, 0.3726506233215332 - 2020-03-05 09:00:00\n",
      "2020-09-29 23:04:58,118 - june.activity.activity_manager - INFO - CMS: People COMS for rank 0/1 - 4.969999281456694e-06,4.0531158447265625e-06 - 2020-03-05 10:00:00\n",
      "2020-09-29 23:04:58,124 - june.simulator - INFO - Date = 2020-03-05 10:00:00, number of deaths =  0, number of infected = 209\n",
      "2020-09-29 23:04:58,281 - june.simulator - INFO - CMS: Infection COMS for rank 0/1 - 3.164001100230962e-06,2.6226043701171875e-06 - 2020-03-05 10:00:00\n",
      "2020-09-29 23:04:58,381 - june.simulator - INFO - CMS: Timestep for rank 0/1 - 0.5911625839999033, 0.5911633968353271 - 2020-03-05 10:00:00\n",
      "2020-09-29 23:04:58,476 - june.activity.activity_manager - INFO - CMS: People COMS for rank 0/1 - 8.342000000993721e-06,7.3909759521484375e-06 - 2020-03-05 13:00:00\n",
      "2020-09-29 23:04:58,483 - june.simulator - INFO - Date = 2020-03-05 13:00:00, number of deaths =  0, number of infected = 217\n",
      "2020-09-29 23:04:58,624 - june.simulator - INFO - CMS: Infection COMS for rank 0/1 - 3.3209998946404085e-06,2.6226043701171875e-06 - 2020-03-05 13:00:00\n",
      "2020-09-29 23:04:58,737 - june.simulator - INFO - CMS: Timestep for rank 0/1 - 0.3557507669993356, 0.35575199127197266 - 2020-03-05 13:00:00\n",
      "2020-09-29 23:04:58,913 - june.activity.activity_manager - INFO - CMS: People COMS for rank 0/1 - 6.042999302735552e-06,5.0067901611328125e-06 - 2020-03-06 00:00:00\n",
      "2020-09-29 23:04:58,920 - june.simulator - INFO - Date = 2020-03-06 00:00:00, number of deaths =  0, number of infected = 221\n",
      "2020-09-29 23:04:59,128 - june.simulator - INFO - CMS: Infection COMS for rank 0/1 - 3.4499989851610735e-06,2.86102294921875e-06 - 2020-03-06 00:00:00\n",
      "2020-09-29 23:04:59,228 - june.simulator - INFO - CMS: Timestep for rank 0/1 - 0.4902913930000068, 0.4902920722961426 - 2020-03-06 00:00:00\n",
      "2020-09-29 23:04:59,391 - june.activity.activity_manager - INFO - CMS: People COMS for rank 0/1 - 5.566000254475512e-06,4.5299530029296875e-06 - 2020-03-06 01:00:00\n",
      "2020-09-29 23:04:59,399 - june.simulator - INFO - Date = 2020-03-06 01:00:00, number of deaths =  0, number of infected = 228\n",
      "2020-09-29 23:04:59,608 - june.simulator - INFO - CMS: Infection COMS for rank 0/1 - 3.098999513895251e-06,2.86102294921875e-06 - 2020-03-06 01:00:00\n",
      "2020-09-29 23:04:59,698 - june.simulator - INFO - CMS: Timestep for rank 0/1 - 0.46888347400090424, 0.4688847064971924 - 2020-03-06 01:00:00\n",
      "2020-09-29 23:04:59,857 - june.activity.activity_manager - INFO - CMS: People COMS for rank 0/1 - 5.807998604723252e-06,4.291534423828125e-06 - 2020-03-06 09:00:00\n",
      "2020-09-29 23:04:59,862 - june.simulator - INFO - Date = 2020-03-06 09:00:00, number of deaths =  0, number of infected = 284\n",
      "2020-09-29 23:05:00,035 - june.simulator - INFO - CMS: Infection COMS for rank 0/1 - 3.1840008887229487e-06,2.6226043701171875e-06 - 2020-03-06 09:00:00\n",
      "2020-09-29 23:05:00,131 - june.simulator - INFO - CMS: Timestep for rank 0/1 - 0.4321285659989371, 0.4321298599243164 - 2020-03-06 09:00:00\n",
      "2020-09-29 23:05:00,462 - june.activity.activity_manager - INFO - CMS: People COMS for rank 0/1 - 4.84400152345188e-06,4.0531158447265625e-06 - 2020-03-06 10:00:00\n",
      "2020-09-29 23:05:00,467 - june.simulator - INFO - Date = 2020-03-06 10:00:00, number of deaths =  0, number of infected = 287\n",
      "2020-09-29 23:05:00,622 - june.simulator - INFO - CMS: Infection COMS for rank 0/1 - 3.4940003388328478e-06,2.86102294921875e-06 - 2020-03-06 10:00:00\n",
      "2020-09-29 23:05:00,716 - june.simulator - INFO - CMS: Timestep for rank 0/1 - 0.5840908339996531, 0.5840916633605957 - 2020-03-06 10:00:00\n",
      "2020-09-29 23:05:00,817 - june.activity.activity_manager - INFO - CMS: People COMS for rank 0/1 - 7.340999218286015e-06,6.4373016357421875e-06 - 2020-03-06 13:00:00\n"
     ]
    },
    {
     "name": "stdout",
     "output_type": "stream",
     "text": [
      "2020-09-29 23:05:00,822 - june.simulator - INFO - Date = 2020-03-06 13:00:00, number of deaths =  0, number of infected = 293\n",
      "2020-09-29 23:05:00,965 - june.simulator - INFO - CMS: Infection COMS for rank 0/1 - 3.739998646778986e-06,3.0994415283203125e-06 - 2020-03-06 13:00:00\n",
      "2020-09-29 23:05:01,053 - june.simulator - INFO - CMS: Timestep for rank 0/1 - 0.33632427500015183, 0.33632540702819824 - 2020-03-06 13:00:00\n",
      "2020-09-29 23:05:01,369 - june.activity.activity_manager - INFO - CMS: People COMS for rank 0/1 - 6.78000105835963e-06,5.9604644775390625e-06 - 2020-03-07 00:00:00\n",
      "2020-09-29 23:05:01,375 - june.simulator - INFO - Date = 2020-03-07 00:00:00, number of deaths =  0, number of infected = 311\n",
      "2020-09-29 23:05:01,531 - june.simulator - INFO - CMS: Infection COMS for rank 0/1 - 3.3319993235636503e-06,2.86102294921875e-06 - 2020-03-07 00:00:00\n",
      "2020-09-29 23:05:01,644 - june.simulator - INFO - CMS: Timestep for rank 0/1 - 0.5908187490003911, 0.5908255577087402 - 2020-03-07 00:00:00\n",
      "2020-09-29 23:05:02,229 - june.activity.activity_manager - INFO - CMS: People COMS for rank 0/1 - 4.980000085197389e-06,4.5299530029296875e-06 - 2020-03-07 04:00:00\n",
      "2020-09-29 23:05:02,235 - june.simulator - INFO - Date = 2020-03-07 04:00:00, number of deaths =  0, number of infected = 326\n",
      "2020-09-29 23:05:02,374 - june.simulator - INFO - CMS: Infection COMS for rank 0/1 - 3.2460011425428092e-06,2.6226043701171875e-06 - 2020-03-07 04:00:00\n",
      "2020-09-29 23:05:02,457 - june.simulator - INFO - CMS: Timestep for rank 0/1 - 0.8107727360002173, 0.8107733726501465 - 2020-03-07 04:00:00\n",
      "2020-09-29 23:05:02,759 - june.activity.activity_manager - INFO - CMS: People COMS for rank 0/1 - 4.854000508203171e-06,3.5762786865234375e-06 - 2020-03-07 08:00:00\n",
      "2020-09-29 23:05:02,764 - june.simulator - INFO - Date = 2020-03-07 08:00:00, number of deaths =  0, number of infected = 334\n",
      "2020-09-29 23:05:02,924 - june.simulator - INFO - CMS: Infection COMS for rank 0/1 - 3.543000275385566e-06,3.0994415283203125e-06 - 2020-03-07 08:00:00\n",
      "2020-09-29 23:05:03,017 - june.simulator - INFO - CMS: Timestep for rank 0/1 - 0.5594879239997681, 0.5594890117645264 - 2020-03-07 08:00:00\n",
      "2020-09-29 23:05:03,115 - june.activity.activity_manager - INFO - CMS: People COMS for rank 0/1 - 7.1450012910645455e-06,5.9604644775390625e-06 - 2020-03-07 12:00:00\n",
      "2020-09-29 23:05:03,122 - june.simulator - INFO - Date = 2020-03-07 12:00:00, number of deaths =  0, number of infected = 350\n",
      "2020-09-29 23:05:03,260 - june.simulator - INFO - CMS: Infection COMS for rank 0/1 - 3.4540007618488744e-06,2.86102294921875e-06 - 2020-03-07 12:00:00\n",
      "2020-09-29 23:05:03,347 - june.simulator - INFO - CMS: Timestep for rank 0/1 - 0.32955400700120663, 0.32955479621887207 - 2020-03-07 12:00:00\n",
      "2020-09-29 23:05:03,725 - june.activity.activity_manager - INFO - CMS: People COMS for rank 0/1 - 5.1200004236306995e-06,4.0531158447265625e-06 - 2020-03-08 00:00:00\n",
      "2020-09-29 23:05:03,731 - june.simulator - INFO - Date = 2020-03-08 00:00:00, number of deaths =  0, number of infected = 373\n",
      "2020-09-29 23:05:03,878 - june.simulator - INFO - CMS: Infection COMS for rank 0/1 - 3.475999619695358e-06,3.0994415283203125e-06 - 2020-03-08 00:00:00\n",
      "2020-09-29 23:05:04,026 - june.simulator - INFO - CMS: Timestep for rank 0/1 - 0.6780198569995264, 0.6780242919921875 - 2020-03-08 00:00:00\n",
      "2020-09-29 23:05:04,380 - june.activity.activity_manager - INFO - CMS: People COMS for rank 0/1 - 5.002999387215823e-06,4.0531158447265625e-06 - 2020-03-08 04:00:00\n",
      "2020-09-29 23:05:04,387 - june.simulator - INFO - Date = 2020-03-08 04:00:00, number of deaths =  0, number of infected = 392\n",
      "2020-09-29 23:05:04,588 - june.simulator - INFO - CMS: Infection COMS for rank 0/1 - 3.929999365936965e-06,3.337860107421875e-06 - 2020-03-08 04:00:00\n",
      "2020-09-29 23:05:04,689 - june.simulator - INFO - CMS: Timestep for rank 0/1 - 0.6609619860009843, 0.6609632968902588 - 2020-03-08 04:00:00\n",
      "2020-09-29 23:05:05,013 - june.activity.activity_manager - INFO - CMS: People COMS for rank 0/1 - 4.954999894835055e-06,4.291534423828125e-06 - 2020-03-08 08:00:00\n",
      "2020-09-29 23:05:05,024 - june.simulator - INFO - Date = 2020-03-08 08:00:00, number of deaths =  0, number of infected = 403\n",
      "2020-09-29 23:05:05,291 - june.simulator - INFO - CMS: Infection COMS for rank 0/1 - 3.7050012906547636e-06,3.337860107421875e-06 - 2020-03-08 08:00:00\n",
      "2020-09-29 23:05:05,382 - june.simulator - INFO - CMS: Timestep for rank 0/1 - 0.6925428020003892, 0.6925435066223145 - 2020-03-08 08:00:00\n",
      "2020-09-29 23:05:05,487 - june.activity.activity_manager - INFO - CMS: People COMS for rank 0/1 - 7.201999324024655e-06,6.4373016357421875e-06 - 2020-03-08 12:00:00\n",
      "2020-09-29 23:05:05,493 - june.simulator - INFO - Date = 2020-03-08 12:00:00, number of deaths =  0, number of infected = 424\n",
      "2020-09-29 23:05:05,672 - june.simulator - INFO - CMS: Infection COMS for rank 0/1 - 3.40899896400515e-06,2.86102294921875e-06 - 2020-03-08 12:00:00\n",
      "2020-09-29 23:05:05,780 - june.simulator - INFO - CMS: Timestep for rank 0/1 - 0.3966969049997715, 0.3966977596282959 - 2020-03-08 12:00:00\n",
      "2020-09-29 23:05:05,916 - june.activity.activity_manager - INFO - CMS: People COMS for rank 0/1 - 5.485000656335615e-06,4.291534423828125e-06 - 2020-03-09 00:00:00\n",
      "2020-09-29 23:05:05,923 - june.simulator - INFO - Date = 2020-03-09 00:00:00, number of deaths =  0, number of infected = 444\n",
      "2020-09-29 23:05:06,070 - june.simulator - INFO - CMS: Infection COMS for rank 0/1 - 3.7249992601573467e-06,3.337860107421875e-06 - 2020-03-09 00:00:00\n",
      "2020-09-29 23:05:06,159 - june.simulator - INFO - CMS: Timestep for rank 0/1 - 0.3782543790002819, 0.37825560569763184 - 2020-03-09 00:00:00\n",
      "2020-09-29 23:05:06,370 - june.activity.activity_manager - INFO - CMS: People COMS for rank 0/1 - 4.227000317769125e-06,3.5762786865234375e-06 - 2020-03-09 01:00:00\n",
      "2020-09-29 23:05:06,376 - june.simulator - INFO - Date = 2020-03-09 01:00:00, number of deaths =  0, number of infected = 453\n",
      "2020-09-29 23:05:07,316 - june.simulator - INFO - CMS: Infection COMS for rank 0/1 - 3.4340009733568877e-06,2.86102294921875e-06 - 2020-03-09 01:00:00\n",
      "2020-09-29 23:05:07,410 - june.simulator - INFO - CMS: Timestep for rank 0/1 - 1.251008302999253, 1.251009464263916 - 2020-03-09 01:00:00\n",
      "2020-09-29 23:05:07,589 - june.activity.activity_manager - INFO - CMS: People COMS for rank 0/1 - 5.070000042906031e-06,4.0531158447265625e-06 - 2020-03-09 09:00:00\n",
      "2020-09-29 23:05:07,595 - june.simulator - INFO - Date = 2020-03-09 09:00:00, number of deaths =  0, number of infected = 594\n",
      "2020-09-29 23:05:07,817 - june.simulator - INFO - CMS: Infection COMS for rank 0/1 - 3.748000381165184e-06,3.0994415283203125e-06 - 2020-03-09 09:00:00\n",
      "2020-09-29 23:05:07,911 - june.simulator - INFO - CMS: Timestep for rank 0/1 - 0.5000161650004884, 0.5000166893005371 - 2020-03-09 09:00:00\n",
      "2020-09-29 23:05:08,244 - june.activity.activity_manager - INFO - CMS: People COMS for rank 0/1 - 5.071000487077981e-06,4.0531158447265625e-06 - 2020-03-09 10:00:00\n",
      "2020-09-29 23:05:08,254 - june.simulator - INFO - Date = 2020-03-09 10:00:00, number of deaths =  0, number of infected = 610\n",
      "2020-09-29 23:05:08,452 - june.simulator - INFO - CMS: Infection COMS for rank 0/1 - 4.6579989430028945e-06,4.0531158447265625e-06 - 2020-03-09 10:00:00\n",
      "2020-09-29 23:05:08,554 - june.simulator - INFO - CMS: Timestep for rank 0/1 - 0.6419001329995808, 0.6419014930725098 - 2020-03-09 10:00:00\n",
      "2020-09-29 23:05:08,664 - june.activity.activity_manager - INFO - CMS: People COMS for rank 0/1 - 5.203000910114497e-06,4.5299530029296875e-06 - 2020-03-09 13:00:00\n",
      "2020-09-29 23:05:08,669 - june.simulator - INFO - Date = 2020-03-09 13:00:00, number of deaths =  0, number of infected = 628\n",
      "2020-09-29 23:05:08,808 - june.simulator - INFO - CMS: Infection COMS for rank 0/1 - 3.405000825296156e-06,3.0994415283203125e-06 - 2020-03-09 13:00:00\n",
      "2020-09-29 23:05:08,899 - june.simulator - INFO - CMS: Timestep for rank 0/1 - 0.34439348799969594, 0.3443942070007324 - 2020-03-09 13:00:00\n",
      "2020-09-29 23:05:09,072 - june.activity.activity_manager - INFO - CMS: People COMS for rank 0/1 - 5.591000444837846e-06,5.0067901611328125e-06 - 2020-03-10 00:00:00\n",
      "2020-09-29 23:05:09,078 - june.simulator - INFO - Date = 2020-03-10 00:00:00, number of deaths =  0, number of infected = 648\n"
     ]
    },
    {
     "name": "stdout",
     "output_type": "stream",
     "text": [
      "2020-09-29 23:05:09,231 - june.simulator - INFO - CMS: Infection COMS for rank 0/1 - 3.7179997889325023e-06,3.0994415283203125e-06 - 2020-03-10 00:00:00\n",
      "2020-09-29 23:05:09,337 - june.simulator - INFO - CMS: Timestep for rank 0/1 - 0.4369731410006352, 0.43697452545166016 - 2020-03-10 00:00:00\n",
      "2020-09-29 23:05:09,600 - june.activity.activity_manager - INFO - CMS: People COMS for rank 0/1 - 5.284000508254394e-06,4.291534423828125e-06 - 2020-03-10 01:00:00\n",
      "2020-09-29 23:05:09,606 - june.simulator - INFO - Date = 2020-03-10 01:00:00, number of deaths =  0, number of infected = 664\n",
      "2020-09-29 23:05:10,009 - june.simulator - INFO - CMS: Infection COMS for rank 0/1 - 3.4149998100474477e-06,2.86102294921875e-06 - 2020-03-10 01:00:00\n",
      "2020-09-29 23:05:10,094 - june.simulator - INFO - CMS: Timestep for rank 0/1 - 0.7562113740004861, 0.7562112808227539 - 2020-03-10 01:00:00\n",
      "2020-09-29 23:05:10,231 - june.activity.activity_manager - INFO - CMS: People COMS for rank 0/1 - 5.322999641066417e-06,4.291534423828125e-06 - 2020-03-10 09:00:00\n",
      "2020-09-29 23:05:10,237 - june.simulator - INFO - Date = 2020-03-10 09:00:00, number of deaths =  0, number of infected = 808\n",
      "2020-09-29 23:05:10,382 - june.simulator - INFO - CMS: Infection COMS for rank 0/1 - 3.540000761859119e-06,2.6226043701171875e-06 - 2020-03-10 09:00:00\n",
      "2020-09-29 23:05:10,475 - june.simulator - INFO - CMS: Timestep for rank 0/1 - 0.37978163399930054, 0.37978243827819824 - 2020-03-10 09:00:00\n",
      "2020-09-29 23:05:10,792 - june.activity.activity_manager - INFO - CMS: People COMS for rank 0/1 - 4.896000973531045e-06,4.0531158447265625e-06 - 2020-03-10 10:00:00\n",
      "2020-09-29 23:05:10,797 - june.simulator - INFO - Date = 2020-03-10 10:00:00, number of deaths =  0, number of infected = 823\n",
      "2020-09-29 23:05:10,941 - june.simulator - INFO - CMS: Infection COMS for rank 0/1 - 3.240998921683058e-06,2.86102294921875e-06 - 2020-03-10 10:00:00\n",
      "2020-09-29 23:05:11,032 - june.simulator - INFO - CMS: Timestep for rank 0/1 - 0.5561916919996293, 0.5561926364898682 - 2020-03-10 10:00:00\n",
      "2020-09-29 23:05:11,134 - june.activity.activity_manager - INFO - CMS: People COMS for rank 0/1 - 7.016000381554477e-06,5.7220458984375e-06 - 2020-03-10 13:00:00\n",
      "2020-09-29 23:05:11,140 - june.simulator - INFO - Date = 2020-03-10 13:00:00, number of deaths =  0, number of infected = 841\n",
      "2020-09-29 23:05:11,290 - june.simulator - INFO - CMS: Infection COMS for rank 0/1 - 3.623999873525463e-06,2.86102294921875e-06 - 2020-03-10 13:00:00\n",
      "2020-09-29 23:05:11,387 - june.simulator - INFO - CMS: Timestep for rank 0/1 - 0.35448258299948066, 0.35448384284973145 - 2020-03-10 13:00:00\n",
      "2020-09-29 23:05:11,510 - june.activity.activity_manager - INFO - CMS: People COMS for rank 0/1 - 5.647998477797955e-06,4.291534423828125e-06 - 2020-03-11 00:00:00\n",
      "2020-09-29 23:05:11,516 - june.simulator - INFO - Date = 2020-03-11 00:00:00, number of deaths =  0, number of infected = 875\n",
      "2020-09-29 23:05:11,845 - june.simulator - INFO - CMS: Infection COMS for rank 0/1 - 4.214000000501983e-06,3.5762786865234375e-06 - 2020-03-11 00:00:00\n",
      "2020-09-29 23:05:11,964 - june.simulator - INFO - CMS: Timestep for rank 0/1 - 0.5764190509999025, 0.5764203071594238 - 2020-03-11 00:00:00\n",
      "2020-09-29 23:05:12,116 - june.activity.activity_manager - INFO - CMS: People COMS for rank 0/1 - 5.478999810293317e-06,4.5299530029296875e-06 - 2020-03-11 01:00:00\n",
      "2020-09-29 23:05:12,128 - june.simulator - INFO - Date = 2020-03-11 01:00:00, number of deaths =  0, number of infected = 899\n",
      "2020-09-29 23:05:12,399 - june.simulator - INFO - CMS: Infection COMS for rank 0/1 - 3.309998646727763e-06,2.6226043701171875e-06 - 2020-03-11 01:00:00\n",
      "2020-09-29 23:05:12,493 - june.simulator - INFO - CMS: Timestep for rank 0/1 - 0.5276390880007966, 0.5276398658752441 - 2020-03-11 01:00:00\n",
      "2020-09-29 23:05:12,640 - june.activity.activity_manager - INFO - CMS: People COMS for rank 0/1 - 5.0150010793004185e-06,4.5299530029296875e-06 - 2020-03-11 09:00:00\n",
      "2020-09-29 23:05:12,647 - june.simulator - INFO - Date = 2020-03-11 09:00:00, number of deaths =  0, number of infected = 1117\n",
      "2020-09-29 23:05:12,798 - june.simulator - INFO - CMS: Infection COMS for rank 0/1 - 3.387998731341213e-06,2.6226043701171875e-06 - 2020-03-11 09:00:00\n",
      "2020-09-29 23:05:12,885 - june.simulator - INFO - CMS: Timestep for rank 0/1 - 0.39155416500034335, 0.3915548324584961 - 2020-03-11 09:00:00\n",
      "2020-09-29 23:05:13,197 - june.activity.activity_manager - INFO - CMS: People COMS for rank 0/1 - 4.929001079290174e-06,4.0531158447265625e-06 - 2020-03-11 10:00:00\n",
      "2020-09-29 23:05:13,204 - june.simulator - INFO - Date = 2020-03-11 10:00:00, number of deaths =  0, number of infected = 1138\n",
      "2020-09-29 23:05:13,375 - june.simulator - INFO - CMS: Infection COMS for rank 0/1 - 3.3329997677356005e-06,2.86102294921875e-06 - 2020-03-11 10:00:00\n",
      "2020-09-29 23:05:13,473 - june.simulator - INFO - CMS: Timestep for rank 0/1 - 0.5877588160001324, 0.587759256362915 - 2020-03-11 10:00:00\n",
      "2020-09-29 23:05:13,576 - june.activity.activity_manager - INFO - CMS: People COMS for rank 0/1 - 8.523998985765502e-06,7.152557373046875e-06 - 2020-03-11 13:00:00\n",
      "2020-09-29 23:05:13,583 - june.simulator - INFO - Date = 2020-03-11 13:00:00, number of deaths =  0, number of infected = 1161\n",
      "2020-09-29 23:05:13,758 - june.simulator - INFO - CMS: Infection COMS for rank 0/1 - 4.41599877376575e-06,4.0531158447265625e-06 - 2020-03-11 13:00:00\n",
      "2020-09-29 23:05:13,867 - june.simulator - INFO - CMS: Timestep for rank 0/1 - 0.392758854000931, 0.3927600383758545 - 2020-03-11 13:00:00\n",
      "2020-09-29 23:05:14,010 - june.activity.activity_manager - INFO - CMS: People COMS for rank 0/1 - 6.1270002333913e-06,5.9604644775390625e-06 - 2020-03-12 00:00:00\n",
      "2020-09-29 23:05:14,016 - june.simulator - INFO - Date = 2020-03-12 00:00:00, number of deaths =  0, number of infected = 1227\n",
      "2020-09-29 23:05:14,165 - june.simulator - INFO - CMS: Infection COMS for rank 0/1 - 3.2850002753548324e-06,2.86102294921875e-06 - 2020-03-12 00:00:00\n",
      "2020-09-29 23:05:14,278 - june.simulator - INFO - CMS: Timestep for rank 0/1 - 0.410553481999159, 0.4105546474456787 - 2020-03-12 00:00:00\n",
      "2020-09-29 23:05:14,439 - june.activity.activity_manager - INFO - CMS: People COMS for rank 0/1 - 4.988000000594184e-06,4.0531158447265625e-06 - 2020-03-12 01:00:00\n",
      "2020-09-29 23:05:14,450 - june.simulator - INFO - Date = 2020-03-12 01:00:00, number of deaths =  0, number of infected = 1255\n",
      "2020-09-29 23:05:14,709 - june.simulator - INFO - CMS: Infection COMS for rank 0/1 - 3.6820001696469262e-06,3.0994415283203125e-06 - 2020-03-12 01:00:00\n",
      "2020-09-29 23:05:14,802 - june.simulator - INFO - CMS: Timestep for rank 0/1 - 0.5229945689989108, 0.5229954719543457 - 2020-03-12 01:00:00\n",
      "2020-09-29 23:05:14,950 - june.activity.activity_manager - INFO - CMS: People COMS for rank 0/1 - 6.596999810426496e-06,5.7220458984375e-06 - 2020-03-12 09:00:00\n",
      "2020-09-29 23:05:14,958 - june.simulator - INFO - Date = 2020-03-12 09:00:00, number of deaths =  0, number of infected = 1543\n",
      "2020-09-29 23:05:15,143 - june.simulator - INFO - CMS: Infection COMS for rank 0/1 - 3.5150005714967847e-06,2.86102294921875e-06 - 2020-03-12 09:00:00\n",
      "2020-09-29 23:05:15,245 - june.simulator - INFO - CMS: Timestep for rank 0/1 - 0.44278997699984757, 0.4427907466888428 - 2020-03-12 09:00:00\n",
      "2020-09-29 23:05:15,578 - june.activity.activity_manager - INFO - CMS: People COMS for rank 0/1 - 4.522000381257385e-06,4.0531158447265625e-06 - 2020-03-12 10:00:00\n",
      "2020-09-29 23:05:15,583 - june.simulator - INFO - Date = 2020-03-12 10:00:00, number of deaths =  0, number of infected = 1579\n",
      "2020-09-29 23:05:15,745 - june.simulator - INFO - CMS: Infection COMS for rank 0/1 - 3.499999365885742e-06,3.0994415283203125e-06 - 2020-03-12 10:00:00\n",
      "2020-09-29 23:05:15,847 - june.simulator - INFO - CMS: Timestep for rank 0/1 - 0.6005152220004675, 0.6005160808563232 - 2020-03-12 10:00:00\n",
      "2020-09-29 23:05:15,949 - june.activity.activity_manager - INFO - CMS: People COMS for rank 0/1 - 8.037999577936716e-06,6.9141387939453125e-06 - 2020-03-12 13:00:00\n",
      "2020-09-29 23:05:15,958 - june.simulator - INFO - Date = 2020-03-12 13:00:00, number of deaths =  0, number of infected = 1637\n",
      "2020-09-29 23:05:16,160 - june.simulator - INFO - CMS: Infection COMS for rank 0/1 - 3.5510001907823607e-06,2.86102294921875e-06 - 2020-03-12 13:00:00\n"
     ]
    },
    {
     "name": "stdout",
     "output_type": "stream",
     "text": [
      "2020-09-29 23:05:16,261 - june.simulator - INFO - CMS: Timestep for rank 0/1 - 0.4138950100004877, 0.4138956069946289 - 2020-03-12 13:00:00\n",
      "2020-09-29 23:05:16,399 - june.activity.activity_manager - INFO - CMS: People COMS for rank 0/1 - 5.707999662263319e-06,4.76837158203125e-06 - 2020-03-13 00:00:00\n",
      "2020-09-29 23:05:16,405 - june.simulator - INFO - Date = 2020-03-13 00:00:00, number of deaths =  0, number of infected = 1722\n",
      "2020-09-29 23:05:16,571 - june.simulator - INFO - CMS: Infection COMS for rank 0/1 - 3.4109998523490503e-06,2.86102294921875e-06 - 2020-03-13 00:00:00\n",
      "2020-09-29 23:05:16,684 - june.simulator - INFO - CMS: Timestep for rank 0/1 - 0.4222551710008702, 0.4222557544708252 - 2020-03-13 00:00:00\n",
      "2020-09-29 23:05:16,834 - june.activity.activity_manager - INFO - CMS: People COMS for rank 0/1 - 4.911000360152684e-06,3.814697265625e-06 - 2020-03-13 01:00:00\n",
      "2020-09-29 23:05:16,839 - june.simulator - INFO - Date = 2020-03-13 01:00:00, number of deaths =  0, number of infected = 1756\n",
      "2020-09-29 23:05:17,077 - june.simulator - INFO - CMS: Infection COMS for rank 0/1 - 3.062001269427128e-06,2.384185791015625e-06 - 2020-03-13 01:00:00\n",
      "2020-09-29 23:05:17,192 - june.simulator - INFO - CMS: Timestep for rank 0/1 - 0.5068498450000334, 0.5068502426147461 - 2020-03-13 01:00:00\n",
      "2020-09-29 23:05:17,374 - june.activity.activity_manager - INFO - CMS: People COMS for rank 0/1 - 5.420000888989307e-06,4.5299530029296875e-06 - 2020-03-13 09:00:00\n",
      "2020-09-29 23:05:17,379 - june.simulator - INFO - Date = 2020-03-13 09:00:00, number of deaths =  0, number of infected = 2157\n",
      "2020-09-29 23:05:17,549 - june.simulator - INFO - CMS: Infection COMS for rank 0/1 - 3.852999725495465e-06,3.337860107421875e-06 - 2020-03-13 09:00:00\n",
      "2020-09-29 23:05:17,654 - june.simulator - INFO - CMS: Timestep for rank 0/1 - 0.4608720150008594, 0.4608733654022217 - 2020-03-13 09:00:00\n",
      "2020-09-29 23:05:18,058 - june.activity.activity_manager - INFO - CMS: People COMS for rank 0/1 - 4.699000783148222e-06,3.814697265625e-06 - 2020-03-13 10:00:00\n",
      "2020-09-29 23:05:18,064 - june.simulator - INFO - Date = 2020-03-13 10:00:00, number of deaths =  0, number of infected = 2198\n",
      "2020-09-29 23:05:18,241 - june.simulator - INFO - CMS: Infection COMS for rank 0/1 - 3.727000148501247e-06,3.337860107421875e-06 - 2020-03-13 10:00:00\n",
      "2020-09-29 23:05:18,359 - june.simulator - INFO - CMS: Timestep for rank 0/1 - 0.704579819999708, 0.7045810222625732 - 2020-03-13 10:00:00\n",
      "2020-09-29 23:05:18,471 - june.activity.activity_manager - INFO - CMS: People COMS for rank 0/1 - 6.206999387359247e-06,5.4836273193359375e-06 - 2020-03-13 13:00:00\n",
      "2020-09-29 23:05:18,477 - june.simulator - INFO - Date = 2020-03-13 13:00:00, number of deaths =  0, number of infected = 2259\n",
      "2020-09-29 23:05:18,663 - june.simulator - INFO - CMS: Infection COMS for rank 0/1 - 3.3090000215452164e-06,2.86102294921875e-06 - 2020-03-13 13:00:00\n",
      "2020-09-29 23:05:18,783 - june.simulator - INFO - CMS: Timestep for rank 0/1 - 0.4230859800009057, 0.42308664321899414 - 2020-03-13 13:00:00\n",
      "2020-09-29 23:05:19,118 - june.activity.activity_manager - INFO - CMS: People COMS for rank 0/1 - 4.657000317820348e-06,4.0531158447265625e-06 - 2020-03-14 00:00:00\n",
      "2020-09-29 23:05:19,124 - june.simulator - INFO - Date = 2020-03-14 00:00:00, number of deaths =  0, number of infected = 2365\n",
      "2020-09-29 23:05:19,314 - june.simulator - INFO - CMS: Infection COMS for rank 0/1 - 3.6130004446022213e-06,3.0994415283203125e-06 - 2020-03-14 00:00:00\n",
      "2020-09-29 23:05:19,421 - june.simulator - INFO - CMS: Timestep for rank 0/1 - 0.6378009760010173, 0.6378018856048584 - 2020-03-14 00:00:00\n",
      "2020-09-29 23:05:19,746 - june.activity.activity_manager - INFO - CMS: People COMS for rank 0/1 - 4.5649994717678055e-06,4.0531158447265625e-06 - 2020-03-14 04:00:00\n",
      "2020-09-29 23:05:19,753 - june.simulator - INFO - Date = 2020-03-14 04:00:00, number of deaths =  0, number of infected = 2479\n",
      "2020-09-29 23:05:19,948 - june.simulator - INFO - CMS: Infection COMS for rank 0/1 - 3.4479999158065766e-06,2.86102294921875e-06 - 2020-03-14 04:00:00\n",
      "2020-09-29 23:05:20,055 - june.simulator - INFO - CMS: Timestep for rank 0/1 - 0.6326610109990725, 0.6326615810394287 - 2020-03-14 04:00:00\n",
      "2020-09-29 23:05:20,457 - june.activity.activity_manager - INFO - CMS: People COMS for rank 0/1 - 4.6939985622884706e-06,4.0531158447265625e-06 - 2020-03-14 08:00:00\n",
      "2020-09-29 23:05:20,463 - june.simulator - INFO - Date = 2020-03-14 08:00:00, number of deaths =  0, number of infected = 2583\n",
      "2020-09-29 23:05:20,695 - june.simulator - INFO - CMS: Infection COMS for rank 0/1 - 3.5069988371105865e-06,3.0994415283203125e-06 - 2020-03-14 08:00:00\n",
      "2020-09-29 23:05:20,845 - june.simulator - INFO - CMS: Timestep for rank 0/1 - 0.789791556999262, 0.789792537689209 - 2020-03-14 08:00:00\n",
      "2020-09-29 23:05:20,959 - june.activity.activity_manager - INFO - CMS: People COMS for rank 0/1 - 8.555000022170134e-06,7.3909759521484375e-06 - 2020-03-14 12:00:00\n",
      "2020-09-29 23:05:20,964 - june.simulator - INFO - Date = 2020-03-14 12:00:00, number of deaths =  0, number of infected = 2692\n",
      "2020-09-29 23:05:21,141 - june.simulator - INFO - CMS: Infection COMS for rank 0/1 - 3.4060012694681063e-06,3.0994415283203125e-06 - 2020-03-14 12:00:00\n",
      "2020-09-29 23:05:21,255 - june.simulator - INFO - CMS: Timestep for rank 0/1 - 0.4084043319999182, 0.4084055423736572 - 2020-03-14 12:00:00\n",
      "2020-09-29 23:05:21,575 - june.activity.activity_manager - INFO - CMS: People COMS for rank 0/1 - 4.761999662150629e-06,4.291534423828125e-06 - 2020-03-15 00:00:00\n",
      "2020-09-29 23:05:21,580 - june.simulator - INFO - Date = 2020-03-15 00:00:00, number of deaths =  0, number of infected = 2819\n",
      "2020-09-29 23:05:21,819 - june.simulator - INFO - CMS: Infection COMS for rank 0/1 - 3.6620003811549395e-06,3.0994415283203125e-06 - 2020-03-15 00:00:00\n",
      "2020-09-29 23:05:21,959 - june.simulator - INFO - CMS: Timestep for rank 0/1 - 0.7033287069989456, 0.7033298015594482 - 2020-03-15 00:00:00\n",
      "2020-09-29 23:05:22,469 - june.activity.activity_manager - INFO - CMS: People COMS for rank 0/1 - 6.56100019114092e-06,5.7220458984375e-06 - 2020-03-15 04:00:00\n",
      "2020-09-29 23:05:22,475 - june.simulator - INFO - Date = 2020-03-15 04:00:00, number of deaths =  1, number of infected = 2921\n",
      "2020-09-29 23:05:22,648 - june.simulator - INFO - CMS: Infection COMS for rank 0/1 - 3.7280005926731974e-06,2.86102294921875e-06 - 2020-03-15 04:00:00\n",
      "2020-09-29 23:05:22,758 - june.simulator - INFO - CMS: Timestep for rank 0/1 - 0.7921166549986083, 0.7921173572540283 - 2020-03-15 04:00:00\n",
      "2020-09-29 23:05:23,166 - june.activity.activity_manager - INFO - CMS: People COMS for rank 0/1 - 5.8800014812732115e-06,5.245208740234375e-06 - 2020-03-15 08:00:00\n",
      "2020-09-29 23:05:23,177 - june.simulator - INFO - Date = 2020-03-15 08:00:00, number of deaths =  1, number of infected = 3035\n",
      "2020-09-29 23:05:23,421 - june.simulator - INFO - CMS: Infection COMS for rank 0/1 - 3.7640002119587734e-06,3.337860107421875e-06 - 2020-03-15 08:00:00\n",
      "2020-09-29 23:05:23,532 - june.simulator - INFO - CMS: Timestep for rank 0/1 - 0.7727730660008092, 0.7727737426757812 - 2020-03-15 08:00:00\n",
      "2020-09-29 23:05:23,623 - june.activity.activity_manager - INFO - CMS: People COMS for rank 0/1 - 5.6799999583745375e-06,4.76837158203125e-06 - 2020-03-15 12:00:00\n",
      "2020-09-29 23:05:23,629 - june.simulator - INFO - Date = 2020-03-15 12:00:00, number of deaths =  1, number of infected = 3149\n",
      "2020-09-29 23:05:23,864 - june.simulator - INFO - CMS: Infection COMS for rank 0/1 - 3.3510004868730903e-06,2.86102294921875e-06 - 2020-03-15 12:00:00\n",
      "2020-09-29 23:05:23,998 - june.simulator - INFO - CMS: Timestep for rank 0/1 - 0.4653932180008269, 0.4653942584991455 - 2020-03-15 12:00:00\n",
      "2020-09-29 23:05:24,281 - june.activity.activity_manager - INFO - CMS: People COMS for rank 0/1 - 4.3839991121785715e-06,3.5762786865234375e-06 - 2020-03-16 00:00:00\n",
      "2020-09-29 23:05:24,287 - june.simulator - INFO - Date = 2020-03-16 00:00:00, number of deaths =  1, number of infected = 3309\n",
      "2020-09-29 23:05:24,485 - june.simulator - INFO - CMS: Infection COMS for rank 0/1 - 4.010000338894315e-06,3.337860107421875e-06 - 2020-03-16 00:00:00\n",
      "2020-09-29 23:05:24,613 - june.simulator - INFO - CMS: Timestep for rank 0/1 - 0.6139073760004976, 0.6139082908630371 - 2020-03-16 00:00:00\n"
     ]
    },
    {
     "name": "stdout",
     "output_type": "stream",
     "text": [
      "2020-09-29 23:05:24,985 - june.activity.activity_manager - INFO - CMS: People COMS for rank 0/1 - 4.539999281405471e-06,3.814697265625e-06 - 2020-03-16 01:00:00\n",
      "2020-09-29 23:05:24,991 - june.simulator - INFO - Date = 2020-03-16 01:00:00, number of deaths =  1, number of infected = 3350\n",
      "2020-09-29 23:05:25,285 - june.simulator - INFO - CMS: Infection COMS for rank 0/1 - 3.3550004445714876e-06,2.6226043701171875e-06 - 2020-03-16 01:00:00\n",
      "2020-09-29 23:05:25,394 - june.simulator - INFO - CMS: Timestep for rank 0/1 - 0.7801459820002492, 0.7801470756530762 - 2020-03-16 01:00:00\n",
      "2020-09-29 23:05:25,682 - june.activity.activity_manager - INFO - CMS: People COMS for rank 0/1 - 3.9660999391344376e-05,4.5299530029296875e-06 - 2020-03-16 09:00:00\n",
      "2020-09-29 23:05:25,688 - june.simulator - INFO - Date = 2020-03-16 09:00:00, number of deaths =  1, number of infected = 3853\n",
      "2020-09-29 23:05:25,889 - june.simulator - INFO - CMS: Infection COMS for rank 0/1 - 3.397999535081908e-06,3.0994415283203125e-06 - 2020-03-16 09:00:00\n",
      "2020-09-29 23:05:26,011 - june.simulator - INFO - CMS: Timestep for rank 0/1 - 0.6167063039993081, 0.6167075634002686 - 2020-03-16 09:00:00\n",
      "2020-09-29 23:05:26,655 - june.activity.activity_manager - INFO - CMS: People COMS for rank 0/1 - 4.988000000594184e-06,4.5299530029296875e-06 - 2020-03-16 10:00:00\n",
      "2020-09-29 23:05:26,666 - june.simulator - INFO - Date = 2020-03-16 10:00:00, number of deaths =  1, number of infected = 3892\n",
      "2020-09-29 23:05:26,877 - june.simulator - INFO - CMS: Infection COMS for rank 0/1 - 3.245000698370859e-06,2.86102294921875e-06 - 2020-03-16 10:00:00\n",
      "2020-09-29 23:05:26,987 - june.simulator - INFO - CMS: Timestep for rank 0/1 - 0.9757725740000751, 0.9757735729217529 - 2020-03-16 10:00:00\n",
      "2020-09-29 23:05:27,280 - june.activity.activity_manager - INFO - CMS: People COMS for rank 0/1 - 4.90500133309979e-06,4.291534423828125e-06 - 2020-03-16 13:00:00\n",
      "2020-09-29 23:05:27,288 - june.simulator - INFO - Date = 2020-03-16 13:00:00, number of deaths =  1, number of infected = 3978\n",
      "2020-09-29 23:05:27,492 - june.simulator - INFO - CMS: Infection COMS for rank 0/1 - 3.821000063908286e-06,3.0994415283203125e-06 - 2020-03-16 13:00:00\n",
      "2020-09-29 23:05:27,630 - june.simulator - INFO - CMS: Timestep for rank 0/1 - 0.6419707389995892, 0.6419713497161865 - 2020-03-16 13:00:00\n",
      "2020-09-29 23:05:27,927 - june.activity.activity_manager - INFO - CMS: People COMS for rank 0/1 - 4.249999619787559e-06,3.5762786865234375e-06 - 2020-03-17 00:00:00\n",
      "2020-09-29 23:05:27,933 - june.simulator - INFO - Date = 2020-03-17 00:00:00, number of deaths =  1, number of infected = 4141\n",
      "2020-09-29 23:05:28,096 - june.simulator - INFO - CMS: Infection COMS for rank 0/1 - 3.856001058011316e-06,3.0994415283203125e-06 - 2020-03-17 00:00:00\n",
      "2020-09-29 23:05:28,210 - june.simulator - INFO - CMS: Timestep for rank 0/1 - 0.5787551190005615, 0.5787560939788818 - 2020-03-17 00:00:00\n",
      "2020-09-29 23:05:28,622 - june.activity.activity_manager - INFO - CMS: People COMS for rank 0/1 - 4.571000317810103e-06,3.814697265625e-06 - 2020-03-17 01:00:00\n",
      "2020-09-29 23:05:28,629 - june.simulator - INFO - Date = 2020-03-17 01:00:00, number of deaths =  1, number of infected = 4188\n",
      "2020-09-29 23:05:28,959 - june.simulator - INFO - CMS: Infection COMS for rank 0/1 - 3.7179997889325023e-06,3.0994415283203125e-06 - 2020-03-17 01:00:00\n",
      "2020-09-29 23:05:29,077 - june.simulator - INFO - CMS: Timestep for rank 0/1 - 0.8659183999989182, 0.8659186363220215 - 2020-03-17 01:00:00\n",
      "2020-09-29 23:05:29,403 - june.activity.activity_manager - INFO - CMS: People COMS for rank 0/1 - 5.3010007832199335e-06,4.5299530029296875e-06 - 2020-03-17 09:00:00\n",
      "2020-09-29 23:05:29,408 - june.simulator - INFO - Date = 2020-03-17 09:00:00, number of deaths =  1, number of infected = 4845\n",
      "2020-09-29 23:05:29,594 - june.simulator - INFO - CMS: Infection COMS for rank 0/1 - 3.3870001061586663e-06,2.86102294921875e-06 - 2020-03-17 09:00:00\n",
      "2020-09-29 23:05:29,724 - june.simulator - INFO - CMS: Timestep for rank 0/1 - 0.6465276970011473, 0.6465282440185547 - 2020-03-17 09:00:00\n",
      "2020-09-29 23:05:30,404 - june.activity.activity_manager - INFO - CMS: People COMS for rank 0/1 - 5.8820005506277084e-06,4.5299530029296875e-06 - 2020-03-17 10:00:00\n",
      "2020-09-29 23:05:30,410 - june.simulator - INFO - Date = 2020-03-17 10:00:00, number of deaths =  1, number of infected = 4895\n",
      "2020-09-29 23:05:30,810 - june.simulator - INFO - CMS: Infection COMS for rank 0/1 - 3.93899972550571e-06,3.337860107421875e-06 - 2020-03-17 10:00:00\n",
      "2020-09-29 23:05:30,923 - june.simulator - INFO - CMS: Timestep for rank 0/1 - 1.198728867000682, 1.1987295150756836 - 2020-03-17 10:00:00\n",
      "2020-09-29 23:05:31,404 - june.activity.activity_manager - INFO - CMS: People COMS for rank 0/1 - 6.939000741112977e-06,6.4373016357421875e-06 - 2020-03-17 13:00:00\n",
      "2020-09-29 23:05:31,418 - june.simulator - INFO - Date = 2020-03-17 13:00:00, number of deaths =  1, number of infected = 4992\n",
      "2020-09-29 23:05:31,627 - june.simulator - INFO - CMS: Infection COMS for rank 0/1 - 3.7939989852020517e-06,3.0994415283203125e-06 - 2020-03-17 13:00:00\n",
      "2020-09-29 23:05:31,826 - june.simulator - INFO - CMS: Timestep for rank 0/1 - 0.9016162810003152, 0.9016177654266357 - 2020-03-17 13:00:00\n",
      "2020-09-29 23:05:32,307 - june.activity.activity_manager - INFO - CMS: People COMS for rank 0/1 - 5.269001121632755e-06,4.5299530029296875e-06 - 2020-03-18 00:00:00\n",
      "2020-09-29 23:05:32,315 - june.simulator - INFO - Date = 2020-03-18 00:00:00, number of deaths =  1, number of infected = 5194\n",
      "2020-09-29 23:05:32,496 - june.simulator - INFO - CMS: Infection COMS for rank 0/1 - 3.086001015617512e-06,2.86102294921875e-06 - 2020-03-18 00:00:00\n",
      "2020-09-29 23:05:32,688 - june.simulator - INFO - CMS: Timestep for rank 0/1 - 0.861488536998877, 0.8614904880523682 - 2020-03-18 00:00:00\n",
      "2020-09-29 23:05:33,067 - june.activity.activity_manager - INFO - CMS: People COMS for rank 0/1 - 6.747999577783048e-06,6.198883056640625e-06 - 2020-03-18 01:00:00\n",
      "2020-09-29 23:05:33,080 - june.simulator - INFO - Date = 2020-03-18 01:00:00, number of deaths =  1, number of infected = 5252\n",
      "2020-09-29 23:05:33,518 - june.simulator - INFO - CMS: Infection COMS for rank 0/1 - 5.8149998949375e-06,4.291534423828125e-06 - 2020-03-18 01:00:00\n",
      "2020-09-29 23:05:33,715 - june.simulator - INFO - CMS: Timestep for rank 0/1 - 1.0254745620004542, 1.0254735946655273 - 2020-03-18 01:00:00\n",
      "2020-09-29 23:05:34,108 - june.activity.activity_manager - INFO - CMS: People COMS for rank 0/1 - 4.888999683316797e-06,4.0531158447265625e-06 - 2020-03-18 09:00:00\n",
      "2020-09-29 23:05:34,114 - june.simulator - INFO - Date = 2020-03-18 09:00:00, number of deaths =  1, number of infected = 6007\n",
      "2020-09-29 23:05:34,300 - june.simulator - INFO - CMS: Infection COMS for rank 0/1 - 3.881999873556197e-06,2.6226043701171875e-06 - 2020-03-18 09:00:00\n",
      "2020-09-29 23:05:34,417 - june.simulator - INFO - CMS: Timestep for rank 0/1 - 0.7016039210011513, 0.7016048431396484 - 2020-03-18 09:00:00\n",
      "2020-09-29 23:05:35,208 - june.activity.activity_manager - INFO - CMS: People COMS for rank 0/1 - 4.550000085146166e-06,4.0531158447265625e-06 - 2020-03-18 10:00:00\n",
      "2020-09-29 23:05:35,214 - june.simulator - INFO - Date = 2020-03-18 10:00:00, number of deaths =  1, number of infected = 6072\n",
      "2020-09-29 23:05:35,400 - june.simulator - INFO - CMS: Infection COMS for rank 0/1 - 3.6069995985599235e-06,3.0994415283203125e-06 - 2020-03-18 10:00:00\n",
      "2020-09-29 23:05:35,574 - june.simulator - INFO - CMS: Timestep for rank 0/1 - 1.155850465000185, 1.1558518409729004 - 2020-03-18 10:00:00\n",
      "2020-09-29 23:05:35,977 - june.activity.activity_manager - INFO - CMS: People COMS for rank 0/1 - 5.222000254434533e-06,4.5299530029296875e-06 - 2020-03-18 13:00:00\n",
      "2020-09-29 23:05:35,983 - june.simulator - INFO - Date = 2020-03-18 13:00:00, number of deaths =  1, number of infected = 6202\n",
      "2020-09-29 23:05:36,227 - june.simulator - INFO - CMS: Infection COMS for rank 0/1 - 3.3809992601163685e-06,3.0994415283203125e-06 - 2020-03-18 13:00:00\n",
      "2020-09-29 23:05:36,351 - june.simulator - INFO - CMS: Timestep for rank 0/1 - 0.7763080929998978, 0.776308536529541 - 2020-03-18 13:00:00\n",
      "2020-09-29 23:05:36,682 - june.activity.activity_manager - INFO - CMS: People COMS for rank 0/1 - 4.74700027552899e-06,3.814697265625e-06 - 2020-03-19 00:00:00\n"
     ]
    },
    {
     "name": "stdout",
     "output_type": "stream",
     "text": [
      "2020-09-29 23:05:36,688 - june.simulator - INFO - Date = 2020-03-19 00:00:00, number of deaths =  1, number of infected = 6449\n",
      "2020-09-29 23:05:36,933 - june.simulator - INFO - CMS: Infection COMS for rank 0/1 - 5.8490004448685795e-06,5.245208740234375e-06 - 2020-03-19 00:00:00\n",
      "2020-09-29 23:05:37,070 - june.simulator - INFO - CMS: Timestep for rank 0/1 - 0.7179171630014025, 0.7179179191589355 - 2020-03-19 00:00:00\n",
      "2020-09-29 23:05:37,481 - june.activity.activity_manager - INFO - CMS: People COMS for rank 0/1 - 7.437000022036955e-06,6.67572021484375e-06 - 2020-03-19 01:00:00\n",
      "2020-09-29 23:05:37,492 - june.simulator - INFO - Date = 2020-03-19 01:00:00, number of deaths =  1, number of infected = 6490\n",
      "2020-09-29 23:05:37,905 - june.simulator - INFO - CMS: Infection COMS for rank 0/1 - 3.6800011002924293e-06,2.86102294921875e-06 - 2020-03-19 01:00:00\n",
      "2020-09-29 23:05:38,047 - june.simulator - INFO - CMS: Timestep for rank 0/1 - 0.9763937520001491, 0.9763944149017334 - 2020-03-19 01:00:00\n",
      "2020-09-29 23:05:38,340 - june.activity.activity_manager - INFO - CMS: People COMS for rank 0/1 - 4.663999789045192e-06,4.0531158447265625e-06 - 2020-03-19 09:00:00\n",
      "2020-09-29 23:05:38,347 - june.simulator - INFO - Date = 2020-03-19 09:00:00, number of deaths =  1, number of infected = 7378\n",
      "2020-09-29 23:05:38,533 - june.simulator - INFO - CMS: Infection COMS for rank 0/1 - 3.592998837120831e-06,2.86102294921875e-06 - 2020-03-19 09:00:00\n",
      "2020-09-29 23:05:38,704 - june.simulator - INFO - CMS: Timestep for rank 0/1 - 0.6560173559992108, 0.6560182571411133 - 2020-03-19 09:00:00\n",
      "2020-09-29 23:05:39,251 - june.activity.activity_manager - INFO - CMS: People COMS for rank 0/1 - 4.438001269591041e-06,4.0531158447265625e-06 - 2020-03-19 10:00:00\n",
      "2020-09-29 23:05:39,260 - june.simulator - INFO - Date = 2020-03-19 10:00:00, number of deaths =  1, number of infected = 7435\n",
      "2020-09-29 23:05:39,485 - june.simulator - INFO - CMS: Infection COMS for rank 0/1 - 3.903000106220134e-06,2.86102294921875e-06 - 2020-03-19 10:00:00\n",
      "2020-09-29 23:05:39,622 - june.simulator - INFO - CMS: Timestep for rank 0/1 - 0.9174134959994262, 0.9174137115478516 - 2020-03-19 10:00:00\n",
      "2020-09-29 23:05:39,914 - june.activity.activity_manager - INFO - CMS: People COMS for rank 0/1 - 5.855999916093424e-06,5.0067901611328125e-06 - 2020-03-19 13:00:00\n",
      "2020-09-29 23:05:39,921 - june.simulator - INFO - Date = 2020-03-19 13:00:00, number of deaths =  1, number of infected = 7608\n",
      "2020-09-29 23:05:40,184 - june.simulator - INFO - CMS: Infection COMS for rank 0/1 - 3.4229997254442424e-06,3.0994415283203125e-06 - 2020-03-19 13:00:00\n",
      "2020-09-29 23:05:40,317 - june.simulator - INFO - CMS: Timestep for rank 0/1 - 0.6947063469997374, 0.6947071552276611 - 2020-03-19 13:00:00\n",
      "2020-09-29 23:05:40,883 - june.activity.activity_manager - INFO - CMS: People COMS for rank 0/1 - 4.8700003389967605e-06,3.814697265625e-06 - 2020-03-20 00:00:00\n",
      "2020-09-29 23:05:40,889 - june.simulator - INFO - Date = 2020-03-20 00:00:00, number of deaths =  2, number of infected = 7876\n",
      "2020-09-29 23:05:41,253 - june.simulator - INFO - CMS: Infection COMS for rank 0/1 - 3.4630011214176193e-06,2.86102294921875e-06 - 2020-03-20 00:00:00\n",
      "2020-09-29 23:05:41,382 - june.simulator - INFO - CMS: Timestep for rank 0/1 - 1.0638872199997422, 1.0638880729675293 - 2020-03-20 00:00:00\n",
      "2020-09-29 23:05:41,894 - june.activity.activity_manager - INFO - CMS: People COMS for rank 0/1 - 4.4480002543423325e-06,3.5762786865234375e-06 - 2020-03-20 01:00:00\n",
      "2020-09-29 23:05:41,900 - june.simulator - INFO - Date = 2020-03-20 01:00:00, number of deaths =  2, number of infected = 7935\n",
      "2020-09-29 23:05:42,258 - june.simulator - INFO - CMS: Infection COMS for rank 0/1 - 3.6080000427318737e-06,3.0994415283203125e-06 - 2020-03-20 01:00:00\n",
      "2020-09-29 23:05:42,594 - june.simulator - INFO - CMS: Timestep for rank 0/1 - 1.2113214020009764, 1.21132230758667 - 2020-03-20 01:00:00\n",
      "2020-09-29 23:05:42,997 - june.activity.activity_manager - INFO - CMS: People COMS for rank 0/1 - 4.657000317820348e-06,4.0531158447265625e-06 - 2020-03-20 09:00:00\n",
      "2020-09-29 23:05:43,004 - june.simulator - INFO - Date = 2020-03-20 09:00:00, number of deaths =  2, number of infected = 8736\n",
      "2020-09-29 23:05:43,204 - june.simulator - INFO - CMS: Infection COMS for rank 0/1 - 3.5039993235841393e-06,3.0994415283203125e-06 - 2020-03-20 09:00:00\n",
      "2020-09-29 23:05:43,334 - june.simulator - INFO - CMS: Timestep for rank 0/1 - 0.7385437299999467, 0.738544225692749 - 2020-03-20 09:00:00\n",
      "2020-09-29 23:05:43,964 - june.activity.activity_manager - INFO - CMS: People COMS for rank 0/1 - 5.4749998525949195e-06,4.76837158203125e-06 - 2020-03-20 10:00:00\n",
      "2020-09-29 23:05:43,972 - june.simulator - INFO - Date = 2020-03-20 10:00:00, number of deaths =  2, number of infected = 8812\n",
      "2020-09-29 23:05:44,259 - june.simulator - INFO - CMS: Infection COMS for rank 0/1 - 4.53100074082613e-06,4.291534423828125e-06 - 2020-03-20 10:00:00\n",
      "2020-09-29 23:05:44,418 - june.simulator - INFO - CMS: Timestep for rank 0/1 - 1.0837497869997605, 1.0837507247924805 - 2020-03-20 10:00:00\n",
      "2020-09-29 23:05:44,766 - june.activity.activity_manager - INFO - CMS: People COMS for rank 0/1 - 5.7110009947791696e-06,5.0067901611328125e-06 - 2020-03-20 13:00:00\n",
      "2020-09-29 23:05:44,774 - june.simulator - INFO - Date = 2020-03-20 13:00:00, number of deaths =  2, number of infected = 8970\n",
      "2020-09-29 23:05:45,015 - june.simulator - INFO - CMS: Infection COMS for rank 0/1 - 3.426001057960093e-06,2.86102294921875e-06 - 2020-03-20 13:00:00\n",
      "2020-09-29 23:05:45,154 - june.simulator - INFO - CMS: Timestep for rank 0/1 - 0.7347934579993307, 0.7347943782806396 - 2020-03-20 13:00:00\n",
      "2020-09-29 23:05:45,687 - june.activity.activity_manager - INFO - CMS: People COMS for rank 0/1 - 4.464000085135922e-06,3.5762786865234375e-06 - 2020-03-21 00:00:00\n",
      "2020-09-29 23:05:45,701 - june.simulator - INFO - Date = 2020-03-21 00:00:00, number of deaths =  2, number of infected = 9295\n",
      "2020-09-29 23:05:45,939 - june.simulator - INFO - CMS: Infection COMS for rank 0/1 - 3.4940003388328478e-06,2.86102294921875e-06 - 2020-03-21 00:00:00\n",
      "2020-09-29 23:05:46,073 - june.simulator - INFO - CMS: Timestep for rank 0/1 - 0.9188039079999726, 0.9188048839569092 - 2020-03-21 00:00:00\n",
      "2020-09-29 23:05:46,610 - june.activity.activity_manager - INFO - CMS: People COMS for rank 0/1 - 4.6219993237173185e-06,4.0531158447265625e-06 - 2020-03-21 04:00:00\n",
      "2020-09-29 23:05:46,617 - june.simulator - INFO - Date = 2020-03-21 04:00:00, number of deaths =  2, number of infected = 9455\n",
      "2020-09-29 23:05:46,841 - june.simulator - INFO - CMS: Infection COMS for rank 0/1 - 3.4589993447298184e-06,2.86102294921875e-06 - 2020-03-21 04:00:00\n",
      "2020-09-29 23:05:46,983 - june.simulator - INFO - CMS: Timestep for rank 0/1 - 0.9095982130002085, 0.9095990657806396 - 2020-03-21 04:00:00\n",
      "2020-09-29 23:05:47,590 - june.activity.activity_manager - INFO - CMS: People COMS for rank 0/1 - 7.909000487416051e-06,7.152557373046875e-06 - 2020-03-21 08:00:00\n",
      "2020-09-29 23:05:47,606 - june.simulator - INFO - Date = 2020-03-21 08:00:00, number of deaths =  2, number of infected = 9614\n",
      "2020-09-29 23:05:47,909 - june.simulator - INFO - CMS: Infection COMS for rank 0/1 - 3.725999704329297e-06,3.0994415283203125e-06 - 2020-03-21 08:00:00\n",
      "2020-09-29 23:05:48,115 - june.simulator - INFO - CMS: Timestep for rank 0/1 - 1.1312355129994103, 1.1312370300292969 - 2020-03-21 08:00:00\n",
      "2020-09-29 23:05:48,477 - june.activity.activity_manager - INFO - CMS: People COMS for rank 0/1 - 5.6039989431155846e-06,4.76837158203125e-06 - 2020-03-21 12:00:00\n",
      "2020-09-29 23:05:48,483 - june.simulator - INFO - Date = 2020-03-21 12:00:00, number of deaths =  2, number of infected = 9768\n",
      "2020-09-29 23:05:48,746 - june.simulator - INFO - CMS: Infection COMS for rank 0/1 - 3.4540007618488744e-06,2.86102294921875e-06 - 2020-03-21 12:00:00\n",
      "2020-09-29 23:05:48,888 - june.simulator - INFO - CMS: Timestep for rank 0/1 - 0.7711302459993021, 0.7711310386657715 - 2020-03-21 12:00:00\n",
      "2020-09-29 23:05:49,646 - june.activity.activity_manager - INFO - CMS: People COMS for rank 0/1 - 4.797999281436205e-06,4.291534423828125e-06 - 2020-03-22 00:00:00\n",
      "2020-09-29 23:05:49,654 - june.simulator - INFO - Date = 2020-03-22 00:00:00, number of deaths =  3, number of infected = 10122\n"
     ]
    },
    {
     "name": "stdout",
     "output_type": "stream",
     "text": [
      "2020-09-29 23:05:49,926 - june.simulator - INFO - CMS: Infection COMS for rank 0/1 - 7.474000085494481e-06,4.0531158447265625e-06 - 2020-03-22 00:00:00\n",
      "2020-09-29 23:05:50,073 - june.simulator - INFO - CMS: Timestep for rank 0/1 - 1.1847854650004592, 1.1847856044769287 - 2020-03-22 00:00:00\n",
      "2020-09-29 23:05:50,780 - june.activity.activity_manager - INFO - CMS: People COMS for rank 0/1 - 4.913999873679131e-06,3.814697265625e-06 - 2020-03-22 04:00:00\n",
      "2020-09-29 23:05:50,787 - june.simulator - INFO - Date = 2020-03-22 04:00:00, number of deaths =  4, number of infected = 10289\n",
      "2020-09-29 23:05:51,135 - june.simulator - INFO - CMS: Infection COMS for rank 0/1 - 3.5369994293432683e-06,3.0994415283203125e-06 - 2020-03-22 04:00:00\n",
      "2020-09-29 23:05:51,314 - june.simulator - INFO - CMS: Timestep for rank 0/1 - 1.2401255460008542, 1.240128755569458 - 2020-03-22 04:00:00\n",
      "2020-09-29 23:05:52,080 - june.activity.activity_manager - INFO - CMS: People COMS for rank 0/1 - 4.479999915929511e-06,3.5762786865234375e-06 - 2020-03-22 08:00:00\n",
      "2020-09-29 23:05:52,087 - june.simulator - INFO - Date = 2020-03-22 08:00:00, number of deaths =  4, number of infected = 10449\n",
      "2020-09-29 23:05:52,321 - june.simulator - INFO - CMS: Infection COMS for rank 0/1 - 3.5240009310655296e-06,3.0994415283203125e-06 - 2020-03-22 08:00:00\n",
      "2020-09-29 23:05:52,496 - june.simulator - INFO - CMS: Timestep for rank 0/1 - 1.1793816879999213, 1.1793816089630127 - 2020-03-22 08:00:00\n",
      "2020-09-29 23:05:52,825 - june.activity.activity_manager - INFO - CMS: People COMS for rank 0/1 - 5.7159995776601136e-06,4.76837158203125e-06 - 2020-03-22 12:00:00\n",
      "2020-09-29 23:05:52,839 - june.simulator - INFO - Date = 2020-03-22 12:00:00, number of deaths =  4, number of infected = 10586\n",
      "2020-09-29 23:05:53,154 - june.simulator - INFO - CMS: Infection COMS for rank 0/1 - 3.7320005503715947e-06,3.0994415283203125e-06 - 2020-03-22 12:00:00\n",
      "2020-09-29 23:05:53,353 - june.simulator - INFO - CMS: Timestep for rank 0/1 - 0.8567730120012129, 0.8567736148834229 - 2020-03-22 12:00:00\n",
      "2020-09-29 23:05:53,764 - june.activity.activity_manager - INFO - CMS: People COMS for rank 0/1 - 5.210000381339341e-06,4.0531158447265625e-06 - 2020-03-23 00:00:00\n",
      "2020-09-29 23:05:53,770 - june.simulator - INFO - Date = 2020-03-23 00:00:00, number of deaths =  6, number of infected = 10922\n",
      "2020-09-29 23:05:53,994 - june.simulator - INFO - CMS: Infection COMS for rank 0/1 - 3.383000148460269e-06,2.86102294921875e-06 - 2020-03-23 00:00:00\n",
      "2020-09-29 23:05:54,268 - june.simulator - INFO - CMS: Timestep for rank 0/1 - 0.9140320319984312, 0.9140329360961914 - 2020-03-23 00:00:00\n",
      "2020-09-29 23:05:54,858 - june.activity.activity_manager - INFO - CMS: People COMS for rank 0/1 - 4.035999154439196e-06,3.337860107421875e-06 - 2020-03-23 01:00:00\n",
      "2020-09-29 23:05:54,864 - june.simulator - INFO - Date = 2020-03-23 01:00:00, number of deaths =  6, number of infected = 10975\n",
      "2020-09-29 23:05:55,221 - june.simulator - INFO - CMS: Infection COMS for rank 0/1 - 4.663001163862646e-06,4.0531158447265625e-06 - 2020-03-23 01:00:00\n",
      "2020-09-29 23:05:55,372 - june.simulator - INFO - CMS: Timestep for rank 0/1 - 1.102905647998341, 1.1029064655303955 - 2020-03-23 01:00:00\n",
      "2020-09-29 23:05:55,762 - june.activity.activity_manager - INFO - CMS: People COMS for rank 0/1 - 4.636000085156411e-06,4.0531158447265625e-06 - 2020-03-23 09:00:00\n",
      "2020-09-29 23:05:55,769 - june.simulator - INFO - Date = 2020-03-23 09:00:00, number of deaths =  7, number of infected = 11593\n",
      "2020-09-29 23:05:56,203 - june.simulator - INFO - CMS: Infection COMS for rank 0/1 - 3.805000233114697e-06,3.337860107421875e-06 - 2020-03-23 09:00:00\n",
      "2020-09-29 23:05:56,353 - june.simulator - INFO - CMS: Timestep for rank 0/1 - 0.9801454199987347, 0.9801464080810547 - 2020-03-23 09:00:00\n",
      "2020-09-29 23:05:57,142 - june.activity.activity_manager - INFO - CMS: People COMS for rank 0/1 - 4.805000571650453e-06,3.814697265625e-06 - 2020-03-23 10:00:00\n",
      "2020-09-29 23:05:57,149 - june.simulator - INFO - Date = 2020-03-23 10:00:00, number of deaths =  7, number of infected = 11650\n",
      "2020-09-29 23:05:57,395 - june.simulator - INFO - CMS: Infection COMS for rank 0/1 - 4.708999767899513e-06,4.291534423828125e-06 - 2020-03-23 10:00:00\n",
      "2020-09-29 23:05:57,549 - june.simulator - INFO - CMS: Timestep for rank 0/1 - 1.1957161569989694, 1.1957168579101562 - 2020-03-23 10:00:00\n",
      "2020-09-29 23:05:57,902 - june.activity.activity_manager - INFO - CMS: People COMS for rank 0/1 - 9.514000339549966e-06,8.106231689453125e-06 - 2020-03-23 13:00:00\n",
      "2020-09-29 23:05:57,909 - june.simulator - INFO - Date = 2020-03-23 13:00:00, number of deaths =  8, number of infected = 11754\n",
      "2020-09-29 23:05:58,205 - june.simulator - INFO - CMS: Infection COMS for rank 0/1 - 3.4190015867352486e-06,3.0994415283203125e-06 - 2020-03-23 13:00:00\n",
      "2020-09-29 23:05:58,408 - june.simulator - INFO - CMS: Timestep for rank 0/1 - 0.8580504059991654, 0.8580515384674072 - 2020-03-23 13:00:00\n",
      "2020-09-29 23:05:58,883 - june.activity.activity_manager - INFO - CMS: People COMS for rank 0/1 - 4.539999281405471e-06,3.814697265625e-06 - 2020-03-24 00:00:00\n",
      "2020-09-29 23:05:58,890 - june.simulator - INFO - Date = 2020-03-24 00:00:00, number of deaths =  10, number of infected = 12050\n",
      "2020-09-29 23:05:59,143 - june.simulator - INFO - CMS: Infection COMS for rank 0/1 - 3.973000275436789e-06,3.337860107421875e-06 - 2020-03-24 00:00:00\n",
      "2020-09-29 23:05:59,312 - june.simulator - INFO - CMS: Timestep for rank 0/1 - 0.9037353700005042, 0.9037363529205322 - 2020-03-24 00:00:00\n",
      "2020-09-29 23:05:59,738 - june.activity.activity_manager - INFO - CMS: People COMS for rank 0/1 - 3.7909994716756046e-06,3.0994415283203125e-06 - 2020-03-24 01:00:00\n",
      "2020-09-29 23:05:59,744 - june.simulator - INFO - Date = 2020-03-24 01:00:00, number of deaths =  10, number of infected = 12092\n",
      "2020-09-29 23:06:00,086 - june.simulator - INFO - CMS: Infection COMS for rank 0/1 - 3.3540000003995374e-06,2.86102294921875e-06 - 2020-03-24 01:00:00\n",
      "2020-09-29 23:06:00,272 - june.simulator - INFO - CMS: Timestep for rank 0/1 - 0.9589332049999939, 0.9589343070983887 - 2020-03-24 01:00:00\n",
      "2020-09-29 23:06:00,664 - june.activity.activity_manager - INFO - CMS: People COMS for rank 0/1 - 5.039999450673349e-06,4.291534423828125e-06 - 2020-03-24 09:00:00\n",
      "2020-09-29 23:06:00,671 - june.simulator - INFO - Date = 2020-03-24 09:00:00, number of deaths =  10, number of infected = 12534\n",
      "2020-09-29 23:06:00,866 - june.simulator - INFO - CMS: Infection COMS for rank 0/1 - 3.7299996620276943e-06,2.86102294921875e-06 - 2020-03-24 09:00:00\n",
      "2020-09-29 23:06:01,087 - june.simulator - INFO - CMS: Timestep for rank 0/1 - 0.8137833829987358, 0.8137845993041992 - 2020-03-24 09:00:00\n",
      "2020-09-29 23:06:01,630 - june.activity.activity_manager - INFO - CMS: People COMS for rank 0/1 - 4.118001015740447e-06,3.337860107421875e-06 - 2020-03-24 10:00:00\n",
      "2020-09-29 23:06:01,638 - june.simulator - INFO - Date = 2020-03-24 10:00:00, number of deaths =  10, number of infected = 12579\n",
      "2020-09-29 23:06:01,841 - june.simulator - INFO - CMS: Infection COMS for rank 0/1 - 3.6309993447503075e-06,3.0994415283203125e-06 - 2020-03-24 10:00:00\n",
      "2020-09-29 23:06:02,014 - june.simulator - INFO - CMS: Timestep for rank 0/1 - 0.926941508998425, 0.9269421100616455 - 2020-03-24 10:00:00\n",
      "2020-09-29 23:06:02,362 - june.activity.activity_manager - INFO - CMS: People COMS for rank 0/1 - 4.718000127468258e-06,4.0531158447265625e-06 - 2020-03-24 13:00:00\n",
      "2020-09-29 23:06:02,369 - june.simulator - INFO - Date = 2020-03-24 13:00:00, number of deaths =  11, number of infected = 12670\n",
      "2020-09-29 23:06:02,647 - june.simulator - INFO - CMS: Infection COMS for rank 0/1 - 3.3460000850027427e-06,3.0994415283203125e-06 - 2020-03-24 13:00:00\n",
      "2020-09-29 23:06:02,837 - june.simulator - INFO - CMS: Timestep for rank 0/1 - 0.8213923290004459, 0.8213930130004883 - 2020-03-24 13:00:00\n",
      "2020-09-29 23:06:03,223 - june.activity.activity_manager - INFO - CMS: People COMS for rank 0/1 - 4.1980001697083935e-06,3.5762786865234375e-06 - 2020-03-25 00:00:00\n",
      "2020-09-29 23:06:03,230 - june.simulator - INFO - Date = 2020-03-25 00:00:00, number of deaths =  12, number of infected = 12981\n",
      "2020-09-29 23:06:03,412 - june.simulator - INFO - CMS: Infection COMS for rank 0/1 - 3.2319985621143132e-06,2.86102294921875e-06 - 2020-03-25 00:00:00\n"
     ]
    },
    {
     "name": "stdout",
     "output_type": "stream",
     "text": [
      "2020-09-29 23:06:03,569 - june.simulator - INFO - CMS: Timestep for rank 0/1 - 0.730752614001176, 0.7307538986206055 - 2020-03-25 00:00:00\n",
      "2020-09-29 23:06:03,982 - june.activity.activity_manager - INFO - CMS: People COMS for rank 0/1 - 4.559000444714911e-06,3.814697265625e-06 - 2020-03-25 01:00:00\n",
      "2020-09-29 23:06:03,989 - june.simulator - INFO - Date = 2020-03-25 01:00:00, number of deaths =  12, number of infected = 13011\n",
      "2020-09-29 23:06:04,283 - june.simulator - INFO - CMS: Infection COMS for rank 0/1 - 3.899000148521736e-06,3.337860107421875e-06 - 2020-03-25 01:00:00\n",
      "2020-09-29 23:06:04,454 - june.simulator - INFO - CMS: Timestep for rank 0/1 - 0.8845830580012262, 0.8845839500427246 - 2020-03-25 01:00:00\n",
      "2020-09-29 23:06:04,834 - june.activity.activity_manager - INFO - CMS: People COMS for rank 0/1 - 4.892999641015194e-06,3.814697265625e-06 - 2020-03-25 09:00:00\n",
      "2020-09-29 23:06:04,841 - june.simulator - INFO - Date = 2020-03-25 09:00:00, number of deaths =  14, number of infected = 13437\n",
      "2020-09-29 23:06:05,026 - june.simulator - INFO - CMS: Infection COMS for rank 0/1 - 3.496999852359295e-06,3.0994415283203125e-06 - 2020-03-25 09:00:00\n",
      "2020-09-29 23:06:05,204 - june.simulator - INFO - CMS: Timestep for rank 0/1 - 0.7494618079999782, 0.7494626045227051 - 2020-03-25 09:00:00\n",
      "2020-09-29 23:06:05,669 - june.activity.activity_manager - INFO - CMS: People COMS for rank 0/1 - 4.3719992390833795e-06,3.814697265625e-06 - 2020-03-25 10:00:00\n",
      "2020-09-29 23:06:05,676 - june.simulator - INFO - Date = 2020-03-25 10:00:00, number of deaths =  14, number of infected = 13487\n",
      "2020-09-29 23:06:05,880 - june.simulator - INFO - CMS: Infection COMS for rank 0/1 - 3.324999852338806e-06,2.86102294921875e-06 - 2020-03-25 10:00:00\n",
      "2020-09-29 23:06:06,052 - june.simulator - INFO - CMS: Timestep for rank 0/1 - 0.8473620139993727, 0.847362756729126 - 2020-03-25 10:00:00\n",
      "2020-09-29 23:06:06,404 - june.activity.activity_manager - INFO - CMS: People COMS for rank 0/1 - 6.794998625991866e-06,5.7220458984375e-06 - 2020-03-25 13:00:00\n",
      "2020-09-29 23:06:06,411 - june.simulator - INFO - Date = 2020-03-25 13:00:00, number of deaths =  15, number of infected = 13564\n",
      "2020-09-29 23:06:06,680 - june.simulator - INFO - CMS: Infection COMS for rank 0/1 - 3.8760008465033025e-06,2.86102294921875e-06 - 2020-03-25 13:00:00\n",
      "2020-09-29 23:06:06,860 - june.simulator - INFO - CMS: Timestep for rank 0/1 - 0.806472988000678, 0.806473970413208 - 2020-03-25 13:00:00\n",
      "2020-09-29 23:06:07,241 - june.activity.activity_manager - INFO - CMS: People COMS for rank 0/1 - 4.823999915970489e-06,4.0531158447265625e-06 - 2020-03-26 00:00:00\n",
      "2020-09-29 23:06:07,249 - june.simulator - INFO - Date = 2020-03-26 00:00:00, number of deaths =  17, number of infected = 13848\n",
      "2020-09-29 23:06:07,451 - june.simulator - INFO - CMS: Infection COMS for rank 0/1 - 3.461000233073719e-06,3.0994415283203125e-06 - 2020-03-26 00:00:00\n",
      "2020-09-29 23:06:07,642 - june.simulator - INFO - CMS: Timestep for rank 0/1 - 0.7814595460004057, 0.7814600467681885 - 2020-03-26 00:00:00\n",
      "2020-09-29 23:06:08,077 - june.activity.activity_manager - INFO - CMS: People COMS for rank 0/1 - 4.661998900701292e-06,4.0531158447265625e-06 - 2020-03-26 01:00:00\n",
      "2020-09-29 23:06:08,088 - june.simulator - INFO - Date = 2020-03-26 01:00:00, number of deaths =  17, number of infected = 13879\n",
      "2020-09-29 23:06:08,414 - june.simulator - INFO - CMS: Infection COMS for rank 0/1 - 4.837000233237632e-06,4.291534423828125e-06 - 2020-03-26 01:00:00\n",
      "2020-09-29 23:06:08,588 - june.simulator - INFO - CMS: Timestep for rank 0/1 - 0.945462903000589, 0.9454669952392578 - 2020-03-26 01:00:00\n",
      "2020-09-29 23:06:08,979 - june.activity.activity_manager - INFO - CMS: People COMS for rank 0/1 - 5.621999662253074e-06,4.291534423828125e-06 - 2020-03-26 09:00:00\n",
      "2020-09-29 23:06:08,986 - june.simulator - INFO - Date = 2020-03-26 09:00:00, number of deaths =  17, number of infected = 14278\n",
      "2020-09-29 23:06:09,218 - june.simulator - INFO - CMS: Infection COMS for rank 0/1 - 3.907998689101078e-06,3.0994415283203125e-06 - 2020-03-26 09:00:00\n",
      "2020-09-29 23:06:09,403 - june.simulator - INFO - CMS: Timestep for rank 0/1 - 0.8133914480004023, 0.813392162322998 - 2020-03-26 09:00:00\n",
      "2020-09-29 23:06:09,934 - june.activity.activity_manager - INFO - CMS: People COMS for rank 0/1 - 4.764999175677076e-06,4.0531158447265625e-06 - 2020-03-26 10:00:00\n",
      "2020-09-29 23:06:09,941 - june.simulator - INFO - Date = 2020-03-26 10:00:00, number of deaths =  17, number of infected = 14308\n",
      "2020-09-29 23:06:10,170 - june.simulator - INFO - CMS: Infection COMS for rank 0/1 - 3.622000804170966e-06,3.0994415283203125e-06 - 2020-03-26 10:00:00\n",
      "2020-09-29 23:06:10,356 - june.simulator - INFO - CMS: Timestep for rank 0/1 - 0.9518967220010381, 0.951897144317627 - 2020-03-26 10:00:00\n",
      "2020-09-29 23:06:10,689 - june.activity.activity_manager - INFO - CMS: People COMS for rank 0/1 - 4.772000465891324e-06,4.5299530029296875e-06 - 2020-03-26 13:00:00\n",
      "2020-09-29 23:06:10,696 - june.simulator - INFO - Date = 2020-03-26 13:00:00, number of deaths =  17, number of infected = 14381\n",
      "2020-09-29 23:06:10,951 - june.simulator - INFO - CMS: Infection COMS for rank 0/1 - 3.537001248332672e-06,2.86102294921875e-06 - 2020-03-26 13:00:00\n",
      "2020-09-29 23:06:11,116 - june.simulator - INFO - CMS: Timestep for rank 0/1 - 0.7592948420005996, 0.7592954635620117 - 2020-03-26 13:00:00\n",
      "2020-09-29 23:06:11,498 - june.activity.activity_manager - INFO - CMS: People COMS for rank 0/1 - 5.035999492974952e-06,4.5299530029296875e-06 - 2020-03-27 00:00:00\n",
      "2020-09-29 23:06:11,507 - june.simulator - INFO - Date = 2020-03-27 00:00:00, number of deaths =  17, number of infected = 14611\n",
      "2020-09-29 23:06:11,712 - june.simulator - INFO - CMS: Infection COMS for rank 0/1 - 3.9570004446431994e-06,3.337860107421875e-06 - 2020-03-27 00:00:00\n",
      "2020-09-29 23:06:11,877 - june.simulator - INFO - CMS: Timestep for rank 0/1 - 0.7597116439992533, 0.7597122192382812 - 2020-03-27 00:00:00\n",
      "2020-09-29 23:06:12,316 - june.activity.activity_manager - INFO - CMS: People COMS for rank 0/1 - 4.367999281384982e-06,3.5762786865234375e-06 - 2020-03-27 01:00:00\n",
      "2020-09-29 23:06:12,324 - june.simulator - INFO - Date = 2020-03-27 01:00:00, number of deaths =  17, number of infected = 14641\n",
      "2020-09-29 23:06:12,641 - june.simulator - INFO - CMS: Infection COMS for rank 0/1 - 3.3689993870211765e-06,2.86102294921875e-06 - 2020-03-27 01:00:00\n",
      "2020-09-29 23:06:12,852 - june.simulator - INFO - CMS: Timestep for rank 0/1 - 0.9743820290004805, 0.9743826389312744 - 2020-03-27 01:00:00\n",
      "2020-09-29 23:06:13,235 - june.activity.activity_manager - INFO - CMS: People COMS for rank 0/1 - 5.365000106394291e-06,4.0531158447265625e-06 - 2020-03-27 09:00:00\n",
      "2020-09-29 23:06:13,242 - june.simulator - INFO - Date = 2020-03-27 09:00:00, number of deaths =  20, number of infected = 15006\n",
      "2020-09-29 23:06:13,434 - june.simulator - INFO - CMS: Infection COMS for rank 0/1 - 3.9590013329871e-06,3.0994415283203125e-06 - 2020-03-27 09:00:00\n",
      "2020-09-29 23:06:13,641 - june.simulator - INFO - CMS: Timestep for rank 0/1 - 0.788935873999435, 0.7889358997344971 - 2020-03-27 09:00:00\n",
      "2020-09-29 23:06:14,121 - june.activity.activity_manager - INFO - CMS: People COMS for rank 0/1 - 6.033000317984261e-06,5.0067901611328125e-06 - 2020-03-27 10:00:00\n",
      "2020-09-29 23:06:14,128 - june.simulator - INFO - Date = 2020-03-27 10:00:00, number of deaths =  20, number of infected = 15032\n",
      "2020-09-29 23:06:14,357 - june.simulator - INFO - CMS: Infection COMS for rank 0/1 - 4.027999239042401e-06,3.0994415283203125e-06 - 2020-03-27 10:00:00\n",
      "2020-09-29 23:06:14,548 - june.simulator - INFO - CMS: Timestep for rank 0/1 - 0.9057221389994083, 0.9057230949401855 - 2020-03-27 10:00:00\n",
      "2020-09-29 23:06:14,877 - june.activity.activity_manager - INFO - CMS: People COMS for rank 0/1 - 4.998999429517426e-06,4.0531158447265625e-06 - 2020-03-27 13:00:00\n",
      "2020-09-29 23:06:14,884 - june.simulator - INFO - Date = 2020-03-27 13:00:00, number of deaths =  20, number of infected = 15096\n",
      "2020-09-29 23:06:15,124 - june.simulator - INFO - CMS: Infection COMS for rank 0/1 - 3.541999831213616e-06,2.86102294921875e-06 - 2020-03-27 13:00:00\n",
      "2020-09-29 23:06:15,343 - june.simulator - INFO - CMS: Timestep for rank 0/1 - 0.7949531140002364, 0.7949538230895996 - 2020-03-27 13:00:00\n"
     ]
    },
    {
     "name": "stdout",
     "output_type": "stream",
     "text": [
      "2020-09-29 23:06:15,772 - june.activity.activity_manager - INFO - CMS: People COMS for rank 0/1 - 4.953999450663105e-06,4.0531158447265625e-06 - 2020-03-28 00:00:00\n",
      "2020-09-29 23:06:15,778 - june.simulator - INFO - Date = 2020-03-28 00:00:00, number of deaths =  22, number of infected = 15313\n",
      "2020-09-29 23:06:16,002 - june.simulator - INFO - CMS: Infection COMS for rank 0/1 - 5.062998752691783e-06,4.5299530029296875e-06 - 2020-03-28 00:00:00\n",
      "2020-09-29 23:06:16,413 - june.simulator - INFO - CMS: Timestep for rank 0/1 - 1.068919958999686, 1.068920612335205 - 2020-03-28 00:00:00\n",
      "2020-09-29 23:06:16,847 - june.activity.activity_manager - INFO - CMS: People COMS for rank 0/1 - 4.670999260270037e-06,3.814697265625e-06 - 2020-03-28 04:00:00\n",
      "2020-09-29 23:06:16,855 - june.simulator - INFO - Date = 2020-03-28 04:00:00, number of deaths =  22, number of infected = 15388\n",
      "2020-09-29 23:06:17,064 - june.simulator - INFO - CMS: Infection COMS for rank 0/1 - 3.3060005080187693e-06,3.0994415283203125e-06 - 2020-03-28 04:00:00\n",
      "2020-09-29 23:06:17,242 - june.simulator - INFO - CMS: Timestep for rank 0/1 - 0.8279360649994487, 0.8279366493225098 - 2020-03-28 04:00:00\n",
      "2020-09-29 23:06:17,691 - june.activity.activity_manager - INFO - CMS: People COMS for rank 0/1 - 4.509000063990243e-06,3.814697265625e-06 - 2020-03-28 08:00:00\n",
      "2020-09-29 23:06:17,698 - june.simulator - INFO - Date = 2020-03-28 08:00:00, number of deaths =  23, number of infected = 15474\n",
      "2020-09-29 23:06:17,929 - june.simulator - INFO - CMS: Infection COMS for rank 0/1 - 4.65199991595e-06,3.5762786865234375e-06 - 2020-03-28 08:00:00\n",
      "2020-09-29 23:06:18,133 - june.simulator - INFO - CMS: Timestep for rank 0/1 - 0.8901105049990292, 0.8901114463806152 - 2020-03-28 08:00:00\n",
      "2020-09-29 23:06:18,502 - june.activity.activity_manager - INFO - CMS: People COMS for rank 0/1 - 5.493999196914956e-06,4.291534423828125e-06 - 2020-03-28 12:00:00\n",
      "2020-09-29 23:06:18,509 - june.simulator - INFO - Date = 2020-03-28 12:00:00, number of deaths =  23, number of infected = 15564\n",
      "2020-09-29 23:06:18,761 - june.simulator - INFO - CMS: Infection COMS for rank 0/1 - 3.670998921734281e-06,3.0994415283203125e-06 - 2020-03-28 12:00:00\n",
      "2020-09-29 23:06:18,992 - june.simulator - INFO - CMS: Timestep for rank 0/1 - 0.8585122260010394, 0.8585131168365479 - 2020-03-28 12:00:00\n",
      "2020-09-29 23:06:19,455 - june.activity.activity_manager - INFO - CMS: People COMS for rank 0/1 - 4.7459998313570395e-06,3.814697265625e-06 - 2020-03-29 00:00:00\n",
      "2020-09-29 23:06:19,462 - june.simulator - INFO - Date = 2020-03-29 00:00:00, number of deaths =  24, number of infected = 15744\n",
      "2020-09-29 23:06:19,669 - june.simulator - INFO - CMS: Infection COMS for rank 0/1 - 5.273999704513699e-06,4.5299530029296875e-06 - 2020-03-29 00:00:00\n",
      "2020-09-29 23:06:19,846 - june.simulator - INFO - CMS: Timestep for rank 0/1 - 0.853675985999871, 0.8536763191223145 - 2020-03-29 00:00:00\n",
      "2020-09-29 23:06:20,349 - june.activity.activity_manager - INFO - CMS: People COMS for rank 0/1 - 4.718998752650805e-06,3.814697265625e-06 - 2020-03-29 04:00:00\n",
      "2020-09-29 23:06:20,357 - june.simulator - INFO - Date = 2020-03-29 04:00:00, number of deaths =  24, number of infected = 15835\n",
      "2020-09-29 23:06:20,575 - june.simulator - INFO - CMS: Infection COMS for rank 0/1 - 3.821000063908286e-06,3.337860107421875e-06 - 2020-03-29 04:00:00\n",
      "2020-09-29 23:06:20,754 - june.simulator - INFO - CMS: Timestep for rank 0/1 - 0.9071190989998286, 0.9071199893951416 - 2020-03-29 04:00:00\n",
      "2020-09-29 23:06:21,184 - june.activity.activity_manager - INFO - CMS: People COMS for rank 0/1 - 4.997000360162929e-06,3.814697265625e-06 - 2020-03-29 08:00:00\n",
      "2020-09-29 23:06:21,193 - june.simulator - INFO - Date = 2020-03-29 08:00:00, number of deaths =  24, number of infected = 15897\n",
      "2020-09-29 23:06:21,442 - june.simulator - INFO - CMS: Infection COMS for rank 0/1 - 5.801999577670358e-06,5.0067901611328125e-06 - 2020-03-29 08:00:00\n",
      "2020-09-29 23:06:21,706 - june.simulator - INFO - CMS: Timestep for rank 0/1 - 0.951601862001553, 0.9516029357910156 - 2020-03-29 08:00:00\n",
      "2020-09-29 23:06:22,038 - june.activity.activity_manager - INFO - CMS: People COMS for rank 0/1 - 4.870998964179307e-06,4.5299530029296875e-06 - 2020-03-29 12:00:00\n",
      "2020-09-29 23:06:22,045 - june.simulator - INFO - Date = 2020-03-29 12:00:00, number of deaths =  24, number of infected = 15956\n",
      "2020-09-29 23:06:22,299 - june.simulator - INFO - CMS: Infection COMS for rank 0/1 - 3.836999894701876e-06,3.337860107421875e-06 - 2020-03-29 12:00:00\n",
      "2020-09-29 23:06:22,480 - june.simulator - INFO - CMS: Timestep for rank 0/1 - 0.772975159001362, 0.7729754447937012 - 2020-03-29 12:00:00\n",
      "2020-09-29 23:06:22,850 - june.activity.activity_manager - INFO - CMS: People COMS for rank 0/1 - 5.251000402495265e-06,4.5299530029296875e-06 - 2020-03-30 00:00:00\n",
      "2020-09-29 23:06:22,857 - june.simulator - INFO - Date = 2020-03-30 00:00:00, number of deaths =  25, number of infected = 16122\n",
      "2020-09-29 23:06:23,072 - june.simulator - INFO - CMS: Infection COMS for rank 0/1 - 3.3599990274524316e-06,2.86102294921875e-06 - 2020-03-30 00:00:00\n",
      "2020-09-29 23:06:23,255 - june.simulator - INFO - CMS: Timestep for rank 0/1 - 0.7741306470015843, 0.7741315364837646 - 2020-03-30 00:00:00\n",
      "2020-09-29 23:06:23,708 - june.activity.activity_manager - INFO - CMS: People COMS for rank 0/1 - 4.421999619808048e-06,3.5762786865234375e-06 - 2020-03-30 01:00:00\n",
      "2020-09-29 23:06:23,715 - june.simulator - INFO - Date = 2020-03-30 01:00:00, number of deaths =  25, number of infected = 16138\n",
      "2020-09-29 23:06:23,996 - june.simulator - INFO - CMS: Infection COMS for rank 0/1 - 5.789999704575166e-06,5.0067901611328125e-06 - 2020-03-30 01:00:00\n",
      "2020-09-29 23:06:24,214 - june.simulator - INFO - CMS: Timestep for rank 0/1 - 0.9581710400016163, 0.9581754207611084 - 2020-03-30 01:00:00\n",
      "2020-09-29 23:06:24,569 - june.activity.activity_manager - INFO - CMS: People COMS for rank 0/1 - 5.357000190997496e-06,4.5299530029296875e-06 - 2020-03-30 09:00:00\n",
      "2020-09-29 23:06:24,576 - june.simulator - INFO - Date = 2020-03-30 09:00:00, number of deaths =  26, number of infected = 16375\n",
      "2020-09-29 23:06:24,783 - june.simulator - INFO - CMS: Infection COMS for rank 0/1 - 3.725999704329297e-06,3.337860107421875e-06 - 2020-03-30 09:00:00\n",
      "2020-09-29 23:06:24,967 - june.simulator - INFO - CMS: Timestep for rank 0/1 - 0.7523138570013543, 0.7523143291473389 - 2020-03-30 09:00:00\n",
      "2020-09-29 23:06:25,413 - june.activity.activity_manager - INFO - CMS: People COMS for rank 0/1 - 4.6600016503361985e-06,3.5762786865234375e-06 - 2020-03-30 10:00:00\n",
      "2020-09-29 23:06:25,420 - june.simulator - INFO - Date = 2020-03-30 10:00:00, number of deaths =  27, number of infected = 16395\n",
      "2020-09-29 23:06:25,637 - june.simulator - INFO - CMS: Infection COMS for rank 0/1 - 3.473000106168911e-06,2.86102294921875e-06 - 2020-03-30 10:00:00\n",
      "2020-09-29 23:06:25,837 - june.simulator - INFO - CMS: Timestep for rank 0/1 - 0.8699049500010005, 0.869905948638916 - 2020-03-30 10:00:00\n",
      "2020-09-29 23:06:26,213 - june.activity.activity_manager - INFO - CMS: People COMS for rank 0/1 - 4.892999641015194e-06,4.291534423828125e-06 - 2020-03-30 13:00:00\n",
      "2020-09-29 23:06:26,222 - june.simulator - INFO - Date = 2020-03-30 13:00:00, number of deaths =  27, number of infected = 16438\n",
      "2020-09-29 23:06:26,490 - june.simulator - INFO - CMS: Infection COMS for rank 0/1 - 4.289999196771532e-06,3.814697265625e-06 - 2020-03-30 13:00:00\n",
      "2020-09-29 23:06:26,711 - june.simulator - INFO - CMS: Timestep for rank 0/1 - 0.8727607569999236, 0.8727622032165527 - 2020-03-30 13:00:00\n",
      "2020-09-29 23:06:27,063 - june.activity.activity_manager - INFO - CMS: People COMS for rank 0/1 - 4.388999514048919e-06,3.814697265625e-06 - 2020-03-31 00:00:00\n",
      "2020-09-29 23:06:27,072 - june.simulator - INFO - Date = 2020-03-31 00:00:00, number of deaths =  30, number of infected = 16563\n",
      "2020-09-29 23:06:27,270 - june.simulator - INFO - CMS: Infection COMS for rank 0/1 - 3.656999979284592e-06,3.0994415283203125e-06 - 2020-03-31 00:00:00\n",
      "2020-09-29 23:06:27,457 - june.simulator - INFO - CMS: Timestep for rank 0/1 - 0.7452627309994568, 0.7452630996704102 - 2020-03-31 00:00:00\n",
      "2020-09-29 23:06:27,892 - june.activity.activity_manager - INFO - CMS: People COMS for rank 0/1 - 4.4939988583792e-06,3.814697265625e-06 - 2020-03-31 01:00:00\n"
     ]
    },
    {
     "name": "stdout",
     "output_type": "stream",
     "text": [
      "2020-09-29 23:06:27,900 - june.simulator - INFO - Date = 2020-03-31 01:00:00, number of deaths =  30, number of infected = 16577\n",
      "2020-09-29 23:06:28,176 - june.simulator - INFO - CMS: Infection COMS for rank 0/1 - 3.680999725474976e-06,3.337860107421875e-06 - 2020-03-31 01:00:00\n",
      "2020-09-29 23:06:28,352 - june.simulator - INFO - CMS: Timestep for rank 0/1 - 0.894931816999815, 0.8949322700500488 - 2020-03-31 01:00:00\n",
      "2020-09-29 23:06:28,739 - june.activity.activity_manager - INFO - CMS: People COMS for rank 0/1 - 5.424999471870251e-06,4.76837158203125e-06 - 2020-03-31 09:00:00\n",
      "2020-09-29 23:06:28,747 - june.simulator - INFO - Date = 2020-03-31 09:00:00, number of deaths =  32, number of infected = 16799\n",
      "2020-09-29 23:06:28,958 - june.simulator - INFO - CMS: Infection COMS for rank 0/1 - 3.282999387010932e-06,2.86102294921875e-06 - 2020-03-31 09:00:00\n",
      "2020-09-29 23:06:29,156 - june.simulator - INFO - CMS: Timestep for rank 0/1 - 0.8031933259990183, 0.8031949996948242 - 2020-03-31 09:00:00\n",
      "2020-09-29 23:06:29,651 - june.activity.activity_manager - INFO - CMS: People COMS for rank 0/1 - 4.936999175697565e-06,4.5299530029296875e-06 - 2020-03-31 10:00:00\n",
      "2020-09-29 23:06:29,658 - june.simulator - INFO - Date = 2020-03-31 10:00:00, number of deaths =  32, number of infected = 16806\n",
      "2020-09-29 23:06:29,840 - june.simulator - INFO - CMS: Infection COMS for rank 0/1 - 4.07699917559512e-06,3.5762786865234375e-06 - 2020-03-31 10:00:00\n",
      "2020-09-29 23:06:30,062 - june.simulator - INFO - CMS: Timestep for rank 0/1 - 0.9040555330011557, 0.9040558338165283 - 2020-03-31 10:00:00\n",
      "2020-09-29 23:06:30,419 - june.activity.activity_manager - INFO - CMS: People COMS for rank 0/1 - 5.231999239185825e-06,4.0531158447265625e-06 - 2020-03-31 13:00:00\n",
      "2020-09-29 23:06:30,426 - june.simulator - INFO - Date = 2020-03-31 13:00:00, number of deaths =  32, number of infected = 16834\n",
      "2020-09-29 23:06:30,631 - june.simulator - INFO - CMS: Infection COMS for rank 0/1 - 3.3100004657171667e-06,3.0994415283203125e-06 - 2020-03-31 13:00:00\n",
      "2020-09-29 23:06:30,821 - june.simulator - INFO - CMS: Timestep for rank 0/1 - 0.7586613690000377, 0.758662223815918 - 2020-03-31 13:00:00\n",
      "2020-09-29 23:06:31,206 - june.activity.activity_manager - INFO - CMS: People COMS for rank 0/1 - 4.502000592765398e-06,4.0531158447265625e-06 - 2020-04-01 00:00:00\n",
      "2020-09-29 23:06:31,213 - june.simulator - INFO - Date = 2020-04-01 00:00:00, number of deaths =  33, number of infected = 16901\n",
      "2020-09-29 23:06:31,398 - june.simulator - INFO - CMS: Infection COMS for rank 0/1 - 3.690000085043721e-06,2.86102294921875e-06 - 2020-04-01 00:00:00\n",
      "2020-09-29 23:06:31,601 - june.simulator - INFO - CMS: Timestep for rank 0/1 - 0.7791639040005975, 0.7791645526885986 - 2020-04-01 00:00:00\n",
      "2020-09-29 23:06:32,023 - june.activity.activity_manager - INFO - CMS: People COMS for rank 0/1 - 4.168001396465115e-06,3.5762786865234375e-06 - 2020-04-01 01:00:00\n",
      "2020-09-29 23:06:32,030 - june.simulator - INFO - Date = 2020-04-01 01:00:00, number of deaths =  33, number of infected = 16907\n",
      "2020-09-29 23:06:32,286 - june.simulator - INFO - CMS: Infection COMS for rank 0/1 - 3.556999217835255e-06,2.86102294921875e-06 - 2020-04-01 01:00:00\n",
      "2020-09-29 23:06:32,468 - june.simulator - INFO - CMS: Timestep for rank 0/1 - 0.8659236980001879, 0.8659243583679199 - 2020-04-01 01:00:00\n",
      "2020-09-29 23:06:32,836 - june.activity.activity_manager - INFO - CMS: People COMS for rank 0/1 - 5.4510001064045355e-06,4.291534423828125e-06 - 2020-04-01 09:00:00\n",
      "2020-09-29 23:06:32,843 - june.simulator - INFO - Date = 2020-04-01 09:00:00, number of deaths =  35, number of infected = 17063\n",
      "2020-09-29 23:06:33,029 - june.simulator - INFO - CMS: Infection COMS for rank 0/1 - 3.736000508069992e-06,3.0994415283203125e-06 - 2020-04-01 09:00:00\n",
      "2020-09-29 23:06:33,217 - june.simulator - INFO - CMS: Timestep for rank 0/1 - 0.7478621790014586, 0.7478630542755127 - 2020-04-01 09:00:00\n",
      "2020-09-29 23:06:33,678 - june.activity.activity_manager - INFO - CMS: People COMS for rank 0/1 - 4.315999831305817e-06,3.814697265625e-06 - 2020-04-01 10:00:00\n",
      "2020-09-29 23:06:33,686 - june.simulator - INFO - Date = 2020-04-01 10:00:00, number of deaths =  35, number of infected = 17064\n",
      "2020-09-29 23:06:33,920 - june.simulator - INFO - CMS: Infection COMS for rank 0/1 - 3.2479983929079026e-06,2.86102294921875e-06 - 2020-04-01 10:00:00\n",
      "2020-09-29 23:06:34,120 - june.simulator - INFO - CMS: Timestep for rank 0/1 - 0.90242415099965, 0.9024250507354736 - 2020-04-01 10:00:00\n",
      "2020-09-29 23:06:34,447 - june.activity.activity_manager - INFO - CMS: People COMS for rank 0/1 - 5.267000233288854e-06,4.291534423828125e-06 - 2020-04-01 13:00:00\n",
      "2020-09-29 23:06:34,454 - june.simulator - INFO - Date = 2020-04-01 13:00:00, number of deaths =  35, number of infected = 17092\n",
      "2020-09-29 23:06:34,696 - june.simulator - INFO - CMS: Infection COMS for rank 0/1 - 3.5009998100576922e-06,3.0994415283203125e-06 - 2020-04-01 13:00:00\n",
      "2020-09-29 23:06:34,890 - june.simulator - INFO - CMS: Timestep for rank 0/1 - 0.7691585360007593, 0.7691595554351807 - 2020-04-01 13:00:00\n",
      "2020-09-29 23:06:35,279 - june.activity.activity_manager - INFO - CMS: People COMS for rank 0/1 - 4.237999746692367e-06,3.5762786865234375e-06 - 2020-04-02 00:00:00\n",
      "2020-09-29 23:06:35,287 - june.simulator - INFO - Date = 2020-04-02 00:00:00, number of deaths =  36, number of infected = 17119\n",
      "2020-09-29 23:06:35,473 - june.simulator - INFO - CMS: Infection COMS for rank 0/1 - 3.4039985621348023e-06,3.0994415283203125e-06 - 2020-04-02 00:00:00\n",
      "2020-09-29 23:06:35,662 - june.simulator - INFO - CMS: Timestep for rank 0/1 - 0.7712682479996147, 0.7712688446044922 - 2020-04-02 00:00:00\n",
      "2020-09-29 23:06:36,090 - june.activity.activity_manager - INFO - CMS: People COMS for rank 0/1 - 4.180999894742854e-06,3.814697265625e-06 - 2020-04-02 01:00:00\n",
      "2020-09-29 23:06:36,097 - june.simulator - INFO - Date = 2020-04-02 01:00:00, number of deaths =  36, number of infected = 17130\n",
      "2020-09-29 23:06:36,343 - june.simulator - INFO - CMS: Infection COMS for rank 0/1 - 3.6940000427421182e-06,2.86102294921875e-06 - 2020-04-02 01:00:00\n",
      "2020-09-29 23:06:36,527 - june.simulator - INFO - CMS: Timestep for rank 0/1 - 0.8643440819996613, 0.8643450736999512 - 2020-04-02 01:00:00\n",
      "2020-09-29 23:06:36,879 - june.activity.activity_manager - INFO - CMS: People COMS for rank 0/1 - 4.604000423569232e-06,4.0531158447265625e-06 - 2020-04-02 09:00:00\n",
      "2020-09-29 23:06:36,886 - june.simulator - INFO - Date = 2020-04-02 09:00:00, number of deaths =  37, number of infected = 17244\n",
      "2020-09-29 23:06:37,064 - june.simulator - INFO - CMS: Infection COMS for rank 0/1 - 3.5319990274729207e-06,3.0994415283203125e-06 - 2020-04-02 09:00:00\n",
      "2020-09-29 23:06:37,285 - june.simulator - INFO - CMS: Timestep for rank 0/1 - 0.7574245460000384, 0.7574257850646973 - 2020-04-02 09:00:00\n",
      "2020-09-29 23:06:37,724 - june.activity.activity_manager - INFO - CMS: People COMS for rank 0/1 - 4.45099976786878e-06,4.0531158447265625e-06 - 2020-04-02 10:00:00\n",
      "2020-09-29 23:06:37,732 - june.simulator - INFO - Date = 2020-04-02 10:00:00, number of deaths =  37, number of infected = 17255\n",
      "2020-09-29 23:06:37,940 - june.simulator - INFO - CMS: Infection COMS for rank 0/1 - 3.667000783025287e-06,2.6226043701171875e-06 - 2020-04-02 10:00:00\n",
      "2020-09-29 23:06:38,122 - june.simulator - INFO - CMS: Timestep for rank 0/1 - 0.8367937059992983, 0.8367946147918701 - 2020-04-02 10:00:00\n",
      "2020-09-29 23:06:38,457 - june.activity.activity_manager - INFO - CMS: People COMS for rank 0/1 - 4.3359996197978035e-06,3.814697265625e-06 - 2020-04-02 13:00:00\n",
      "2020-09-29 23:06:38,464 - june.simulator - INFO - Date = 2020-04-02 13:00:00, number of deaths =  37, number of infected = 17260\n",
      "2020-09-29 23:06:38,683 - june.simulator - INFO - CMS: Infection COMS for rank 0/1 - 3.760000254260376e-06,3.337860107421875e-06 - 2020-04-02 13:00:00\n",
      "2020-09-29 23:06:38,882 - june.simulator - INFO - CMS: Timestep for rank 0/1 - 0.7589207310011261, 0.7589216232299805 - 2020-04-02 13:00:00\n",
      "2020-09-29 23:06:39,244 - june.activity.activity_manager - INFO - CMS: People COMS for rank 0/1 - 5.87299837206956e-06,5.245208740234375e-06 - 2020-04-03 00:00:00\n",
      "2020-09-29 23:06:39,258 - june.simulator - INFO - Date = 2020-04-03 00:00:00, number of deaths =  38, number of infected = 17249\n"
     ]
    },
    {
     "name": "stdout",
     "output_type": "stream",
     "text": [
      "2020-09-29 23:06:39,456 - june.simulator - INFO - CMS: Infection COMS for rank 0/1 - 3.826000465778634e-06,3.0994415283203125e-06 - 2020-04-03 00:00:00\n",
      "2020-09-29 23:06:39,663 - june.simulator - INFO - CMS: Timestep for rank 0/1 - 0.7797802400000364, 0.7797808647155762 - 2020-04-03 00:00:00\n",
      "2020-09-29 23:06:40,090 - june.activity.activity_manager - INFO - CMS: People COMS for rank 0/1 - 4.208999598631635e-06,3.5762786865234375e-06 - 2020-04-03 01:00:00\n",
      "2020-09-29 23:06:40,097 - june.simulator - INFO - Date = 2020-04-03 01:00:00, number of deaths =  38, number of infected = 17251\n",
      "2020-09-29 23:06:40,323 - june.simulator - INFO - CMS: Infection COMS for rank 0/1 - 3.499999365885742e-06,2.86102294921875e-06 - 2020-04-03 01:00:00\n",
      "2020-09-29 23:06:40,504 - june.simulator - INFO - CMS: Timestep for rank 0/1 - 0.8404085929996654, 0.840409517288208 - 2020-04-03 01:00:00\n",
      "2020-09-29 23:06:40,850 - june.activity.activity_manager - INFO - CMS: People COMS for rank 0/1 - 5.077001333120279e-06,4.291534423828125e-06 - 2020-04-03 09:00:00\n",
      "2020-09-29 23:06:40,859 - june.simulator - INFO - Date = 2020-04-03 09:00:00, number of deaths =  38, number of infected = 17296\n",
      "2020-09-29 23:06:41,033 - june.simulator - INFO - CMS: Infection COMS for rank 0/1 - 3.3460000850027427e-06,3.0994415283203125e-06 - 2020-04-03 09:00:00\n",
      "2020-09-29 23:06:41,235 - june.simulator - INFO - CMS: Timestep for rank 0/1 - 0.7307838609995088, 0.7307848930358887 - 2020-04-03 09:00:00\n",
      "2020-09-29 23:06:41,664 - june.activity.activity_manager - INFO - CMS: People COMS for rank 0/1 - 4.784998964169063e-06,4.291534423828125e-06 - 2020-04-03 10:00:00\n",
      "2020-09-29 23:06:41,677 - june.simulator - INFO - Date = 2020-04-03 10:00:00, number of deaths =  38, number of infected = 17296\n",
      "2020-09-29 23:06:41,873 - june.simulator - INFO - CMS: Infection COMS for rank 0/1 - 4.07699917559512e-06,3.0994415283203125e-06 - 2020-04-03 10:00:00\n",
      "2020-09-29 23:06:42,070 - june.simulator - INFO - CMS: Timestep for rank 0/1 - 0.8341112899997825, 0.8341116905212402 - 2020-04-03 10:00:00\n",
      "2020-09-29 23:06:42,402 - june.activity.activity_manager - INFO - CMS: People COMS for rank 0/1 - 9.08399852050934e-06,8.58306884765625e-06 - 2020-04-03 13:00:00\n",
      "2020-09-29 23:06:42,409 - june.simulator - INFO - Date = 2020-04-03 13:00:00, number of deaths =  38, number of infected = 17296\n",
      "2020-09-29 23:06:42,615 - june.simulator - INFO - CMS: Infection COMS for rank 0/1 - 3.4660006349440664e-06,3.0994415283203125e-06 - 2020-04-03 13:00:00\n",
      "2020-09-29 23:06:42,828 - june.simulator - INFO - CMS: Timestep for rank 0/1 - 0.7570537089995923, 0.7570548057556152 - 2020-04-03 13:00:00\n",
      "2020-09-29 23:06:43,251 - june.activity.activity_manager - INFO - CMS: People COMS for rank 0/1 - 4.602999979397282e-06,4.0531158447265625e-06 - 2020-04-04 00:00:00\n",
      "2020-09-29 23:06:43,260 - june.simulator - INFO - Date = 2020-04-04 00:00:00, number of deaths =  41, number of infected = 17217\n",
      "2020-09-29 23:06:43,470 - june.simulator - INFO - CMS: Infection COMS for rank 0/1 - 3.606000973377377e-06,3.0994415283203125e-06 - 2020-04-04 00:00:00\n",
      "2020-09-29 23:06:43,669 - june.simulator - INFO - CMS: Timestep for rank 0/1 - 0.8404790139993565, 0.8404796123504639 - 2020-04-04 00:00:00\n",
      "2020-09-29 23:06:44,167 - june.activity.activity_manager - INFO - CMS: People COMS for rank 0/1 - 4.191000698483549e-06,3.5762786865234375e-06 - 2020-04-04 04:00:00\n",
      "2020-09-29 23:06:44,176 - june.simulator - INFO - Date = 2020-04-04 04:00:00, number of deaths =  42, number of infected = 17184\n",
      "2020-09-29 23:06:44,392 - june.simulator - INFO - CMS: Infection COMS for rank 0/1 - 3.6980000004405156e-06,3.0994415283203125e-06 - 2020-04-04 04:00:00\n",
      "2020-09-29 23:06:44,573 - june.simulator - INFO - CMS: Timestep for rank 0/1 - 0.9033985010009928, 0.9033997058868408 - 2020-04-04 04:00:00\n",
      "2020-09-29 23:06:45,035 - june.activity.activity_manager - INFO - CMS: People COMS for rank 0/1 - 4.239000190864317e-06,3.5762786865234375e-06 - 2020-04-04 08:00:00\n",
      "2020-09-29 23:06:45,043 - june.simulator - INFO - Date = 2020-04-04 08:00:00, number of deaths =  43, number of infected = 17141\n",
      "2020-09-29 23:06:45,224 - june.simulator - INFO - CMS: Infection COMS for rank 0/1 - 3.757000740733929e-06,3.0994415283203125e-06 - 2020-04-04 08:00:00\n",
      "2020-09-29 23:06:45,418 - june.simulator - INFO - CMS: Timestep for rank 0/1 - 0.8437248810005258, 0.8437256813049316 - 2020-04-04 08:00:00\n",
      "2020-09-29 23:06:45,748 - june.activity.activity_manager - INFO - CMS: People COMS for rank 0/1 - 4.970999725628644e-06,4.0531158447265625e-06 - 2020-04-04 12:00:00\n",
      "2020-09-29 23:06:45,757 - june.simulator - INFO - Date = 2020-04-04 12:00:00, number of deaths =  44, number of infected = 17118\n",
      "2020-09-29 23:06:45,952 - june.simulator - INFO - CMS: Infection COMS for rank 0/1 - 4.163000994594768e-06,3.0994415283203125e-06 - 2020-04-04 12:00:00\n",
      "2020-09-29 23:06:46,141 - june.simulator - INFO - CMS: Timestep for rank 0/1 - 0.7223307309996017, 0.7223312854766846 - 2020-04-04 12:00:00\n",
      "2020-09-29 23:06:46,573 - june.activity.activity_manager - INFO - CMS: People COMS for rank 0/1 - 4.581999746733345e-06,3.814697265625e-06 - 2020-04-05 00:00:00\n",
      "2020-09-29 23:06:46,581 - june.simulator - INFO - Date = 2020-04-05 00:00:00, number of deaths =  48, number of infected = 17001\n",
      "2020-09-29 23:06:46,777 - june.simulator - INFO - CMS: Infection COMS for rank 0/1 - 2.0293999114073813e-05,1.9550323486328125e-05 - 2020-04-05 00:00:00\n",
      "2020-09-29 23:06:46,975 - june.simulator - INFO - CMS: Timestep for rank 0/1 - 0.8338891259991215, 0.8338901996612549 - 2020-04-05 00:00:00\n",
      "2020-09-29 23:06:47,414 - june.activity.activity_manager - INFO - CMS: People COMS for rank 0/1 - 4.4030002754880115e-06,3.5762786865234375e-06 - 2020-04-05 04:00:00\n",
      "2020-09-29 23:06:47,429 - june.simulator - INFO - Date = 2020-04-05 04:00:00, number of deaths =  49, number of infected = 16986\n",
      "2020-09-29 23:06:47,630 - june.simulator - INFO - CMS: Infection COMS for rank 0/1 - 3.631001163739711e-06,3.0994415283203125e-06 - 2020-04-05 04:00:00\n",
      "2020-09-29 23:06:47,820 - june.simulator - INFO - CMS: Timestep for rank 0/1 - 0.8437155459996575, 0.8437163829803467 - 2020-04-05 04:00:00\n",
      "2020-09-29 23:06:48,278 - june.activity.activity_manager - INFO - CMS: People COMS for rank 0/1 - 4.239000190864317e-06,3.814697265625e-06 - 2020-04-05 08:00:00\n",
      "2020-09-29 23:06:48,287 - june.simulator - INFO - Date = 2020-04-05 08:00:00, number of deaths =  50, number of infected = 16949\n",
      "2020-09-29 23:06:48,479 - june.simulator - INFO - CMS: Infection COMS for rank 0/1 - 3.695999112096615e-06,3.337860107421875e-06 - 2020-04-05 08:00:00\n",
      "2020-09-29 23:06:48,666 - june.simulator - INFO - CMS: Timestep for rank 0/1 - 0.8454687450011988, 0.8454694747924805 - 2020-04-05 08:00:00\n",
      "2020-09-29 23:06:49,000 - june.activity.activity_manager - INFO - CMS: People COMS for rank 0/1 - 5.339999916031957e-06,4.5299530029296875e-06 - 2020-04-05 12:00:00\n",
      "2020-09-29 23:06:49,007 - june.simulator - INFO - Date = 2020-04-05 12:00:00, number of deaths =  51, number of infected = 16902\n",
      "2020-09-29 23:06:49,215 - june.simulator - INFO - CMS: Infection COMS for rank 0/1 - 3.336999725433998e-06,2.86102294921875e-06 - 2020-04-05 12:00:00\n",
      "2020-09-29 23:06:49,420 - june.simulator - INFO - CMS: Timestep for rank 0/1 - 0.7535010589999729, 0.7535018920898438 - 2020-04-05 12:00:00\n",
      "2020-09-29 23:06:49,787 - june.activity.activity_manager - INFO - CMS: People COMS for rank 0/1 - 4.888999683316797e-06,4.291534423828125e-06 - 2020-04-06 00:00:00\n",
      "2020-09-29 23:06:49,795 - june.simulator - INFO - Date = 2020-04-06 00:00:00, number of deaths =  55, number of infected = 16742\n",
      "2020-09-29 23:06:49,975 - june.simulator - INFO - CMS: Infection COMS for rank 0/1 - 3.328999810037203e-06,2.384185791015625e-06 - 2020-04-06 00:00:00\n",
      "2020-09-29 23:06:50,168 - june.simulator - INFO - CMS: Timestep for rank 0/1 - 0.7474683269992966, 0.7474689483642578 - 2020-04-06 00:00:00\n",
      "2020-09-29 23:06:50,596 - june.activity.activity_manager - INFO - CMS: People COMS for rank 0/1 - 4.284000169718638e-06,3.5762786865234375e-06 - 2020-04-06 01:00:00\n",
      "2020-09-29 23:06:50,607 - june.simulator - INFO - Date = 2020-04-06 01:00:00, number of deaths =  55, number of infected = 16733\n",
      "2020-09-29 23:06:50,844 - june.simulator - INFO - CMS: Infection COMS for rank 0/1 - 3.790000846493058e-06,3.0994415283203125e-06 - 2020-04-06 01:00:00\n"
     ]
    },
    {
     "name": "stdout",
     "output_type": "stream",
     "text": [
      "2020-09-29 23:06:51,024 - june.simulator - INFO - CMS: Timestep for rank 0/1 - 0.8549994439999864, 0.8549997806549072 - 2020-04-06 01:00:00\n",
      "2020-09-29 23:06:51,395 - june.activity.activity_manager - INFO - CMS: People COMS for rank 0/1 - 5.080000846646726e-06,4.0531158447265625e-06 - 2020-04-06 09:00:00\n",
      "2020-09-29 23:06:51,402 - june.simulator - INFO - Date = 2020-04-06 09:00:00, number of deaths =  55, number of infected = 16675\n",
      "2020-09-29 23:06:51,583 - june.simulator - INFO - CMS: Infection COMS for rank 0/1 - 3.1609997677151114e-06,2.6226043701171875e-06 - 2020-04-06 09:00:00\n",
      "2020-09-29 23:06:51,762 - june.simulator - INFO - CMS: Timestep for rank 0/1 - 0.7368589939997037, 0.7368597984313965 - 2020-04-06 09:00:00\n",
      "2020-09-29 23:06:52,261 - june.activity.activity_manager - INFO - CMS: People COMS for rank 0/1 - 3.995999577455223e-06,3.5762786865234375e-06 - 2020-04-06 10:00:00\n",
      "2020-09-29 23:06:52,270 - june.simulator - INFO - Date = 2020-04-06 10:00:00, number of deaths =  55, number of infected = 16659\n",
      "2020-09-29 23:06:52,479 - june.simulator - INFO - CMS: Infection COMS for rank 0/1 - 3.2960015232674778e-06,2.86102294921875e-06 - 2020-04-06 10:00:00\n",
      "2020-09-29 23:06:52,687 - june.simulator - INFO - CMS: Timestep for rank 0/1 - 0.9243201059998682, 0.9243214130401611 - 2020-04-06 10:00:00\n",
      "2020-09-29 23:06:53,010 - june.activity.activity_manager - INFO - CMS: People COMS for rank 0/1 - 7.1570011641597375e-06,5.9604644775390625e-06 - 2020-04-06 13:00:00\n",
      "2020-09-29 23:06:53,017 - june.simulator - INFO - Date = 2020-04-06 13:00:00, number of deaths =  55, number of infected = 16609\n",
      "2020-09-29 23:06:53,215 - june.simulator - INFO - CMS: Infection COMS for rank 0/1 - 3.6279998312238604e-06,3.0994415283203125e-06 - 2020-04-06 13:00:00\n",
      "2020-09-29 23:06:53,396 - june.simulator - INFO - CMS: Timestep for rank 0/1 - 0.7089189070011344, 0.7089192867279053 - 2020-04-06 13:00:00\n",
      "2020-09-29 23:06:53,758 - june.activity.activity_manager - INFO - CMS: People COMS for rank 0/1 - 5.280000550555997e-06,4.5299530029296875e-06 - 2020-04-07 00:00:00\n",
      "2020-09-29 23:06:53,765 - june.simulator - INFO - Date = 2020-04-07 00:00:00, number of deaths =  56, number of infected = 16427\n",
      "2020-09-29 23:06:53,935 - june.simulator - INFO - CMS: Infection COMS for rank 0/1 - 3.106000804109499e-06,2.6226043701171875e-06 - 2020-04-07 00:00:00\n",
      "2020-09-29 23:06:54,112 - june.simulator - INFO - CMS: Timestep for rank 0/1 - 0.71526974399967, 0.71527099609375 - 2020-04-07 00:00:00\n",
      "2020-09-29 23:06:54,548 - june.activity.activity_manager - INFO - CMS: People COMS for rank 0/1 - 4.126999556319788e-06,3.5762786865234375e-06 - 2020-04-07 01:00:00\n",
      "2020-09-29 23:06:54,556 - june.simulator - INFO - Date = 2020-04-07 01:00:00, number of deaths =  56, number of infected = 16410\n",
      "2020-09-29 23:06:54,784 - june.simulator - INFO - CMS: Infection COMS for rank 0/1 - 3.3370015444234014e-06,2.86102294921875e-06 - 2020-04-07 01:00:00\n",
      "2020-09-29 23:06:54,991 - june.simulator - INFO - CMS: Timestep for rank 0/1 - 0.8776512250005908, 0.8776516914367676 - 2020-04-07 01:00:00\n",
      "2020-09-29 23:06:55,352 - june.activity.activity_manager - INFO - CMS: People COMS for rank 0/1 - 4.626999725587666e-06,3.814697265625e-06 - 2020-04-07 09:00:00\n",
      "2020-09-29 23:06:55,361 - june.simulator - INFO - Date = 2020-04-07 09:00:00, number of deaths =  59, number of infected = 16302\n",
      "2020-09-29 23:06:55,543 - june.simulator - INFO - CMS: Infection COMS for rank 0/1 - 3.541999831213616e-06,3.0994415283203125e-06 - 2020-04-07 09:00:00\n",
      "2020-09-29 23:06:55,717 - june.simulator - INFO - CMS: Timestep for rank 0/1 - 0.7253611060004914, 0.7253618240356445 - 2020-04-07 09:00:00\n",
      "2020-09-29 23:06:56,183 - june.activity.activity_manager - INFO - CMS: People COMS for rank 0/1 - 4.6099994506221265e-06,3.814697265625e-06 - 2020-04-07 10:00:00\n",
      "2020-09-29 23:06:56,192 - june.simulator - INFO - Date = 2020-04-07 10:00:00, number of deaths =  59, number of infected = 16269\n",
      "2020-09-29 23:06:56,367 - june.simulator - INFO - CMS: Infection COMS for rank 0/1 - 3.866000042762607e-06,3.0994415283203125e-06 - 2020-04-07 10:00:00\n",
      "2020-09-29 23:06:56,562 - june.simulator - INFO - CMS: Timestep for rank 0/1 - 0.8443543410012353, 0.8443553447723389 - 2020-04-07 10:00:00\n",
      "2020-09-29 23:06:56,909 - june.activity.activity_manager - INFO - CMS: People COMS for rank 0/1 - 5.411999154603109e-06,4.291534423828125e-06 - 2020-04-07 13:00:00\n",
      "2020-09-29 23:06:56,916 - june.simulator - INFO - Date = 2020-04-07 13:00:00, number of deaths =  59, number of infected = 16246\n",
      "2020-09-29 23:06:57,125 - june.simulator - INFO - CMS: Infection COMS for rank 0/1 - 3.2410007406724617e-06,2.86102294921875e-06 - 2020-04-07 13:00:00\n",
      "2020-09-29 23:06:57,318 - june.simulator - INFO - CMS: Timestep for rank 0/1 - 0.755693794999388, 0.7556943893432617 - 2020-04-07 13:00:00\n",
      "2020-09-29 23:06:57,690 - june.activity.activity_manager - INFO - CMS: People COMS for rank 0/1 - 4.764999175677076e-06,4.291534423828125e-06 - 2020-04-08 00:00:00\n",
      "2020-09-29 23:06:57,697 - june.simulator - INFO - Date = 2020-04-08 00:00:00, number of deaths =  61, number of infected = 16029\n",
      "2020-09-29 23:06:57,863 - june.simulator - INFO - CMS: Infection COMS for rank 0/1 - 3.2190000638365746e-06,2.86102294921875e-06 - 2020-04-08 00:00:00\n",
      "2020-09-29 23:06:58,156 - june.simulator - INFO - CMS: Timestep for rank 0/1 - 0.8366305389990885, 0.8366315364837646 - 2020-04-08 00:00:00\n",
      "2020-09-29 23:06:58,616 - june.activity.activity_manager - INFO - CMS: People COMS for rank 0/1 - 9.920999218593352e-06,8.344650268554688e-06 - 2020-04-08 01:00:00\n",
      "2020-09-29 23:06:58,623 - june.simulator - INFO - Date = 2020-04-08 01:00:00, number of deaths =  61, number of infected = 16007\n",
      "2020-09-29 23:06:58,828 - june.simulator - INFO - CMS: Infection COMS for rank 0/1 - 3.730001481017098e-06,3.0994415283203125e-06 - 2020-04-08 01:00:00\n",
      "2020-09-29 23:06:59,013 - june.simulator - INFO - CMS: Timestep for rank 0/1 - 0.8569092679990717, 0.856910228729248 - 2020-04-08 01:00:00\n",
      "2020-09-29 23:06:59,390 - june.activity.activity_manager - INFO - CMS: People COMS for rank 0/1 - 4.052000804222189e-06,3.337860107421875e-06 - 2020-04-08 09:00:00\n",
      "2020-09-29 23:06:59,397 - june.simulator - INFO - Date = 2020-04-08 09:00:00, number of deaths =  61, number of infected = 15875\n",
      "2020-09-29 23:06:59,576 - june.simulator - INFO - CMS: Infection COMS for rank 0/1 - 3.258999640820548e-06,2.6226043701171875e-06 - 2020-04-08 09:00:00\n",
      "2020-09-29 23:06:59,761 - june.simulator - INFO - CMS: Timestep for rank 0/1 - 0.74661480100076, 0.7466154098510742 - 2020-04-08 09:00:00\n",
      "2020-09-29 23:07:00,265 - june.activity.activity_manager - INFO - CMS: People COMS for rank 0/1 - 4.084999090991914e-06,3.5762786865234375e-06 - 2020-04-08 10:00:00\n",
      "2020-09-29 23:07:00,273 - june.simulator - INFO - Date = 2020-04-08 10:00:00, number of deaths =  61, number of infected = 15847\n",
      "2020-09-29 23:07:00,468 - june.simulator - INFO - CMS: Infection COMS for rank 0/1 - 2.9169987101340666e-06,2.86102294921875e-06 - 2020-04-08 10:00:00\n",
      "2020-09-29 23:07:00,645 - june.simulator - INFO - CMS: Timestep for rank 0/1 - 0.883390592998694, 0.8833918571472168 - 2020-04-08 10:00:00\n",
      "2020-09-29 23:07:00,983 - june.activity.activity_manager - INFO - CMS: People COMS for rank 0/1 - 5.592000889009796e-06,4.76837158203125e-06 - 2020-04-08 13:00:00\n",
      "2020-09-29 23:07:00,990 - june.simulator - INFO - Date = 2020-04-08 13:00:00, number of deaths =  61, number of infected = 15776\n",
      "2020-09-29 23:07:01,175 - june.simulator - INFO - CMS: Infection COMS for rank 0/1 - 3.3310006983811036e-06,2.6226043701171875e-06 - 2020-04-08 13:00:00\n",
      "2020-09-29 23:07:01,377 - june.simulator - INFO - CMS: Timestep for rank 0/1 - 0.7308753060005984, 0.7308814525604248 - 2020-04-08 13:00:00\n",
      "2020-09-29 23:07:01,776 - june.activity.activity_manager - INFO - CMS: People COMS for rank 0/1 - 6.5709991758922115e-06,5.7220458984375e-06 - 2020-04-09 00:00:00\n",
      "2020-09-29 23:07:01,783 - june.simulator - INFO - Date = 2020-04-09 00:00:00, number of deaths =  62, number of infected = 15483\n",
      "2020-09-29 23:07:01,971 - june.simulator - INFO - CMS: Infection COMS for rank 0/1 - 3.1600011425325647e-06,2.384185791015625e-06 - 2020-04-09 00:00:00\n",
      "2020-09-29 23:07:02,157 - june.simulator - INFO - CMS: Timestep for rank 0/1 - 0.776166319999902, 0.7761650085449219 - 2020-04-09 00:00:00\n"
     ]
    },
    {
     "name": "stdout",
     "output_type": "stream",
     "text": [
      "2020-09-29 23:07:02,593 - june.activity.activity_manager - INFO - CMS: People COMS for rank 0/1 - 4.724999598693103e-06,4.0531158447265625e-06 - 2020-04-09 01:00:00\n",
      "2020-09-29 23:07:02,600 - june.simulator - INFO - Date = 2020-04-09 01:00:00, number of deaths =  62, number of infected = 15456\n",
      "2020-09-29 23:07:02,844 - june.simulator - INFO - CMS: Infection COMS for rank 0/1 - 3.4839995350921527e-06,2.86102294921875e-06 - 2020-04-09 01:00:00\n",
      "2020-09-29 23:07:03,049 - june.simulator - INFO - CMS: Timestep for rank 0/1 - 0.89219608699932, 0.8921968936920166 - 2020-04-09 01:00:00\n",
      "2020-09-29 23:07:03,427 - june.activity.activity_manager - INFO - CMS: People COMS for rank 0/1 - 3.896999260177836e-06,3.0994415283203125e-06 - 2020-04-09 09:00:00\n",
      "2020-09-29 23:07:03,434 - june.simulator - INFO - Date = 2020-04-09 09:00:00, number of deaths =  62, number of infected = 15291\n",
      "2020-09-29 23:07:03,625 - june.simulator - INFO - CMS: Infection COMS for rank 0/1 - 2.984999809996225e-06,2.384185791015625e-06 - 2020-04-09 09:00:00\n",
      "2020-09-29 23:07:03,804 - june.simulator - INFO - CMS: Timestep for rank 0/1 - 0.7532541609998589, 0.7532551288604736 - 2020-04-09 09:00:00\n",
      "2020-09-29 23:07:04,306 - june.activity.activity_manager - INFO - CMS: People COMS for rank 0/1 - 4.732000888907351e-06,4.0531158447265625e-06 - 2020-04-09 10:00:00\n",
      "2020-09-29 23:07:04,313 - june.simulator - INFO - Date = 2020-04-09 10:00:00, number of deaths =  62, number of infected = 15267\n",
      "2020-09-29 23:07:04,492 - june.simulator - INFO - CMS: Infection COMS for rank 0/1 - 3.758999810088426e-06,2.86102294921875e-06 - 2020-04-09 10:00:00\n",
      "2020-09-29 23:07:04,675 - june.simulator - INFO - CMS: Timestep for rank 0/1 - 0.8707188530006533, 0.8707199096679688 - 2020-04-09 10:00:00\n",
      "2020-09-29 23:07:04,999 - june.activity.activity_manager - INFO - CMS: People COMS for rank 0/1 - 5.447000148706138e-06,4.291534423828125e-06 - 2020-04-09 13:00:00\n",
      "2020-09-29 23:07:05,006 - june.simulator - INFO - Date = 2020-04-09 13:00:00, number of deaths =  63, number of infected = 15184\n",
      "2020-09-29 23:07:05,187 - june.simulator - INFO - CMS: Infection COMS for rank 0/1 - 3.2869993447093293e-06,2.86102294921875e-06 - 2020-04-09 13:00:00\n",
      "2020-09-29 23:07:05,387 - june.simulator - INFO - CMS: Timestep for rank 0/1 - 0.7109593049990508, 0.7109601497650146 - 2020-04-09 13:00:00\n",
      "2020-09-29 23:07:05,764 - june.activity.activity_manager - INFO - CMS: People COMS for rank 0/1 - 4.567000360111706e-06,3.814697265625e-06 - 2020-04-10 00:00:00\n",
      "2020-09-29 23:07:05,771 - june.simulator - INFO - Date = 2020-04-10 00:00:00, number of deaths =  67, number of infected = 14808\n",
      "2020-09-29 23:07:05,939 - june.simulator - INFO - CMS: Infection COMS for rank 0/1 - 3.397999535081908e-06,2.86102294921875e-06 - 2020-04-10 00:00:00\n",
      "2020-09-29 23:07:06,112 - june.simulator - INFO - CMS: Timestep for rank 0/1 - 0.7240324250014964, 0.7240331172943115 - 2020-04-10 00:00:00\n",
      "2020-09-29 23:07:06,565 - june.activity.activity_manager - INFO - CMS: People COMS for rank 0/1 - 5.286001396598294e-06,4.5299530029296875e-06 - 2020-04-10 01:00:00\n",
      "2020-09-29 23:07:06,574 - june.simulator - INFO - Date = 2020-04-10 01:00:00, number of deaths =  67, number of infected = 14765\n",
      "2020-09-29 23:07:06,964 - june.simulator - INFO - CMS: Infection COMS for rank 0/1 - 6.657999620074406e-06,5.7220458984375e-06 - 2020-04-10 01:00:00\n",
      "2020-09-29 23:07:07,163 - june.simulator - INFO - CMS: Timestep for rank 0/1 - 1.0502488629990694, 1.0502495765686035 - 2020-04-10 01:00:00\n",
      "2020-09-29 23:07:07,525 - june.activity.activity_manager - INFO - CMS: People COMS for rank 0/1 - 6.459000360337086e-06,5.7220458984375e-06 - 2020-04-10 09:00:00\n",
      "2020-09-29 23:07:07,532 - june.simulator - INFO - Date = 2020-04-10 09:00:00, number of deaths =  69, number of infected = 14561\n",
      "2020-09-29 23:07:07,731 - june.simulator - INFO - CMS: Infection COMS for rank 0/1 - 3.7320005503715947e-06,2.6226043701171875e-06 - 2020-04-10 09:00:00\n",
      "2020-09-29 23:07:07,915 - june.simulator - INFO - CMS: Timestep for rank 0/1 - 0.7518467520003469, 0.751847505569458 - 2020-04-10 09:00:00\n",
      "2020-09-29 23:07:08,389 - june.activity.activity_manager - INFO - CMS: People COMS for rank 0/1 - 4.901001375401393e-06,4.291534423828125e-06 - 2020-04-10 10:00:00\n",
      "2020-09-29 23:07:08,399 - june.simulator - INFO - Date = 2020-04-10 10:00:00, number of deaths =  69, number of infected = 14533\n",
      "2020-09-29 23:07:08,616 - june.simulator - INFO - CMS: Infection COMS for rank 0/1 - 3.293000190751627e-06,2.6226043701171875e-06 - 2020-04-10 10:00:00\n",
      "2020-09-29 23:07:08,782 - june.simulator - INFO - CMS: Timestep for rank 0/1 - 0.8664629500017327, 0.8664636611938477 - 2020-04-10 10:00:00\n",
      "2020-09-29 23:07:09,131 - june.activity.activity_manager - INFO - CMS: People COMS for rank 0/1 - 4.72799911221955e-06,3.5762786865234375e-06 - 2020-04-10 13:00:00\n",
      "2020-09-29 23:07:09,138 - june.simulator - INFO - Date = 2020-04-10 13:00:00, number of deaths =  69, number of infected = 14449\n",
      "2020-09-29 23:07:09,320 - june.simulator - INFO - CMS: Infection COMS for rank 0/1 - 4.497000190895051e-06,3.814697265625e-06 - 2020-04-10 13:00:00\n",
      "2020-09-29 23:07:09,500 - june.simulator - INFO - CMS: Timestep for rank 0/1 - 0.7165034669997112, 0.7165040969848633 - 2020-04-10 13:00:00\n",
      "2020-09-29 23:07:10,044 - june.activity.activity_manager - INFO - CMS: People COMS for rank 0/1 - 5.425999916042201e-06,5.0067901611328125e-06 - 2020-04-11 00:00:00\n",
      "2020-09-29 23:07:10,055 - june.simulator - INFO - Date = 2020-04-11 00:00:00, number of deaths =  71, number of infected = 14074\n",
      "2020-09-29 23:07:10,242 - june.simulator - INFO - CMS: Infection COMS for rank 0/1 - 6.043001121724956e-06,5.0067901611328125e-06 - 2020-04-11 00:00:00\n",
      "2020-09-29 23:07:10,449 - june.simulator - INFO - CMS: Timestep for rank 0/1 - 0.9480700339991017, 0.9480705261230469 - 2020-04-11 00:00:00\n",
      "2020-09-29 23:07:10,936 - june.activity.activity_manager - INFO - CMS: People COMS for rank 0/1 - 4.601999535225332e-06,3.814697265625e-06 - 2020-04-11 04:00:00\n",
      "2020-09-29 23:07:10,943 - june.simulator - INFO - Date = 2020-04-11 04:00:00, number of deaths =  71, number of infected = 13930\n",
      "2020-09-29 23:07:11,141 - june.simulator - INFO - CMS: Infection COMS for rank 0/1 - 3.519000529195182e-06,3.0994415283203125e-06 - 2020-04-11 04:00:00\n",
      "2020-09-29 23:07:11,314 - june.simulator - INFO - CMS: Timestep for rank 0/1 - 0.8644747250000364, 0.8644752502441406 - 2020-04-11 04:00:00\n",
      "2020-09-29 23:07:11,787 - june.activity.activity_manager - INFO - CMS: People COMS for rank 0/1 - 8.029001037357375e-06,7.152557373046875e-06 - 2020-04-11 08:00:00\n",
      "2020-09-29 23:07:11,798 - june.simulator - INFO - Date = 2020-04-11 08:00:00, number of deaths =  71, number of infected = 13771\n",
      "2020-09-29 23:07:11,981 - june.simulator - INFO - CMS: Infection COMS for rank 0/1 - 3.1480012694373727e-06,2.6226043701171875e-06 - 2020-04-11 08:00:00\n",
      "2020-09-29 23:07:12,151 - june.simulator - INFO - CMS: Timestep for rank 0/1 - 0.8363680620004743, 0.8363685607910156 - 2020-04-11 08:00:00\n",
      "2020-09-29 23:07:12,509 - june.activity.activity_manager - INFO - CMS: People COMS for rank 0/1 - 5.1650004024850205e-06,4.0531158447265625e-06 - 2020-04-11 12:00:00\n",
      "2020-09-29 23:07:12,516 - june.simulator - INFO - Date = 2020-04-11 12:00:00, number of deaths =  71, number of infected = 13644\n",
      "2020-09-29 23:07:12,699 - june.simulator - INFO - CMS: Infection COMS for rank 0/1 - 3.642000592662953e-06,3.0994415283203125e-06 - 2020-04-11 12:00:00\n",
      "2020-09-29 23:07:12,884 - june.simulator - INFO - CMS: Timestep for rank 0/1 - 0.7321309570015728, 0.7321314811706543 - 2020-04-11 12:00:00\n",
      "2020-09-29 23:07:13,365 - june.activity.activity_manager - INFO - CMS: People COMS for rank 0/1 - 4.358000296633691e-06,3.5762786865234375e-06 - 2020-04-12 00:00:00\n",
      "2020-09-29 23:07:13,372 - june.simulator - INFO - Date = 2020-04-12 00:00:00, number of deaths =  72, number of infected = 13198\n",
      "2020-09-29 23:07:13,545 - june.simulator - INFO - CMS: Infection COMS for rank 0/1 - 3.011999069713056e-06,2.6226043701171875e-06 - 2020-04-12 00:00:00\n",
      "2020-09-29 23:07:13,707 - june.simulator - INFO - CMS: Timestep for rank 0/1 - 0.8219198539991339, 0.8219208717346191 - 2020-04-12 00:00:00\n",
      "2020-09-29 23:07:14,157 - june.activity.activity_manager - INFO - CMS: People COMS for rank 0/1 - 3.99999953515362e-06,3.337860107421875e-06 - 2020-04-12 04:00:00\n"
     ]
    },
    {
     "name": "stdout",
     "output_type": "stream",
     "text": [
      "2020-09-29 23:07:14,171 - june.simulator - INFO - Date = 2020-04-12 04:00:00, number of deaths =  72, number of infected = 13040\n",
      "2020-09-29 23:07:14,360 - june.simulator - INFO - CMS: Infection COMS for rank 0/1 - 3.828999979305081e-06,3.337860107421875e-06 - 2020-04-12 04:00:00\n",
      "2020-09-29 23:07:14,623 - june.simulator - INFO - CMS: Timestep for rank 0/1 - 0.9151585489998979, 0.9151594638824463 - 2020-04-12 04:00:00\n",
      "2020-09-29 23:07:15,104 - june.activity.activity_manager - INFO - CMS: People COMS for rank 0/1 - 4.968998837284744e-06,4.291534423828125e-06 - 2020-04-12 08:00:00\n",
      "2020-09-29 23:07:15,116 - june.simulator - INFO - Date = 2020-04-12 08:00:00, number of deaths =  72, number of infected = 12896\n",
      "2020-09-29 23:07:15,307 - june.simulator - INFO - CMS: Infection COMS for rank 0/1 - 3.872000888804905e-06,3.5762786865234375e-06 - 2020-04-12 08:00:00\n",
      "2020-09-29 23:07:15,495 - june.simulator - INFO - CMS: Timestep for rank 0/1 - 0.8710945359998732, 0.8710951805114746 - 2020-04-12 08:00:00\n",
      "2020-09-29 23:07:15,820 - june.activity.activity_manager - INFO - CMS: People COMS for rank 0/1 - 5.347999831428751e-06,4.5299530029296875e-06 - 2020-04-12 12:00:00\n",
      "2020-09-29 23:07:15,826 - june.simulator - INFO - Date = 2020-04-12 12:00:00, number of deaths =  73, number of infected = 12751\n",
      "2020-09-29 23:07:16,022 - june.simulator - INFO - CMS: Infection COMS for rank 0/1 - 3.0800001695752144e-06,2.384185791015625e-06 - 2020-04-12 12:00:00\n",
      "2020-09-29 23:07:16,211 - june.simulator - INFO - CMS: Timestep for rank 0/1 - 0.7157525290003832, 0.7157535552978516 - 2020-04-12 12:00:00\n",
      "2020-09-29 23:07:16,594 - june.activity.activity_manager - INFO - CMS: People COMS for rank 0/1 - 4.542998794931918e-06,3.5762786865234375e-06 - 2020-04-13 00:00:00\n",
      "2020-09-29 23:07:16,607 - june.simulator - INFO - Date = 2020-04-13 00:00:00, number of deaths =  73, number of infected = 12325\n",
      "2020-09-29 23:07:16,758 - june.simulator - INFO - CMS: Infection COMS for rank 0/1 - 3.2339994504582137e-06,2.86102294921875e-06 - 2020-04-13 00:00:00\n",
      "2020-09-29 23:07:16,925 - june.simulator - INFO - CMS: Timestep for rank 0/1 - 0.7133735409988731, 0.7133762836456299 - 2020-04-13 00:00:00\n",
      "2020-09-29 23:07:17,368 - june.activity.activity_manager - INFO - CMS: People COMS for rank 0/1 - 4.558998625725508e-06,3.814697265625e-06 - 2020-04-13 01:00:00\n",
      "2020-09-29 23:07:17,380 - june.simulator - INFO - Date = 2020-04-13 01:00:00, number of deaths =  73, number of infected = 12291\n",
      "2020-09-29 23:07:17,605 - june.simulator - INFO - CMS: Infection COMS for rank 0/1 - 1.0674000805011019e-05,8.821487426757812e-06 - 2020-04-13 01:00:00\n",
      "2020-09-29 23:07:17,777 - june.simulator - INFO - CMS: Timestep for rank 0/1 - 0.8488636749989382, 0.8488643169403076 - 2020-04-13 01:00:00\n",
      "2020-09-29 23:07:18,177 - june.activity.activity_manager - INFO - CMS: People COMS for rank 0/1 - 4.59200055047404e-06,3.814697265625e-06 - 2020-04-13 09:00:00\n",
      "2020-09-29 23:07:18,184 - june.simulator - INFO - Date = 2020-04-13 09:00:00, number of deaths =  73, number of infected = 12019\n",
      "2020-09-29 23:07:18,360 - june.simulator - INFO - CMS: Infection COMS for rank 0/1 - 2.9029997676843777e-06,2.1457672119140625e-06 - 2020-04-13 09:00:00\n",
      "2020-09-29 23:07:18,515 - june.simulator - INFO - CMS: Timestep for rank 0/1 - 0.7372218130003603, 0.7372229099273682 - 2020-04-13 09:00:00\n",
      "2020-09-29 23:07:18,977 - june.activity.activity_manager - INFO - CMS: People COMS for rank 0/1 - 4.252999133314006e-06,3.814697265625e-06 - 2020-04-13 10:00:00\n",
      "2020-09-29 23:07:18,985 - june.simulator - INFO - Date = 2020-04-13 10:00:00, number of deaths =  73, number of infected = 11984\n",
      "2020-09-29 23:07:19,135 - june.simulator - INFO - CMS: Infection COMS for rank 0/1 - 3.1480012694373727e-06,2.384185791015625e-06 - 2020-04-13 10:00:00\n",
      "2020-09-29 23:07:19,297 - june.simulator - INFO - CMS: Timestep for rank 0/1 - 0.7812491219992808, 0.7812497615814209 - 2020-04-13 10:00:00\n",
      "2020-09-29 23:07:19,619 - june.activity.activity_manager - INFO - CMS: People COMS for rank 0/1 - 7.772998287691735e-06,6.9141387939453125e-06 - 2020-04-13 13:00:00\n",
      "2020-09-29 23:07:19,627 - june.simulator - INFO - Date = 2020-04-13 13:00:00, number of deaths =  74, number of infected = 11869\n",
      "2020-09-29 23:07:19,787 - june.simulator - INFO - CMS: Infection COMS for rank 0/1 - 3.359000402269885e-06,2.86102294921875e-06 - 2020-04-13 13:00:00\n",
      "2020-09-29 23:07:19,952 - june.simulator - INFO - CMS: Timestep for rank 0/1 - 0.6543548619993089, 0.6543552875518799 - 2020-04-13 13:00:00\n",
      "2020-09-29 23:07:20,349 - june.activity.activity_manager - INFO - CMS: People COMS for rank 0/1 - 4.5840006350772455e-06,4.0531158447265625e-06 - 2020-04-14 00:00:00\n",
      "2020-09-29 23:07:20,356 - june.simulator - INFO - Date = 2020-04-14 00:00:00, number of deaths =  74, number of infected = 11463\n",
      "2020-09-29 23:07:20,524 - june.simulator - INFO - CMS: Infection COMS for rank 0/1 - 3.1340005079982802e-06,2.6226043701171875e-06 - 2020-04-14 00:00:00\n",
      "2020-09-29 23:07:20,688 - june.simulator - INFO - CMS: Timestep for rank 0/1 - 0.7359777000001486, 0.7359786033630371 - 2020-04-14 00:00:00\n",
      "2020-09-29 23:07:21,105 - june.activity.activity_manager - INFO - CMS: People COMS for rank 0/1 - 4.19999923906289e-06,3.5762786865234375e-06 - 2020-04-14 01:00:00\n",
      "2020-09-29 23:07:21,112 - june.simulator - INFO - Date = 2020-04-14 01:00:00, number of deaths =  74, number of infected = 11417\n",
      "2020-09-29 23:07:21,287 - june.simulator - INFO - CMS: Infection COMS for rank 0/1 - 3.6609999369829893e-06,3.0994415283203125e-06 - 2020-04-14 01:00:00\n",
      "2020-09-29 23:07:21,448 - june.simulator - INFO - CMS: Timestep for rank 0/1 - 0.7592687099986506, 0.7592692375183105 - 2020-04-14 01:00:00\n",
      "2020-09-29 23:07:21,828 - june.activity.activity_manager - INFO - CMS: People COMS for rank 0/1 - 4.845000148634426e-06,3.814697265625e-06 - 2020-04-14 09:00:00\n",
      "2020-09-29 23:07:21,835 - june.simulator - INFO - Date = 2020-04-14 09:00:00, number of deaths =  74, number of infected = 11133\n",
      "2020-09-29 23:07:21,983 - june.simulator - INFO - CMS: Infection COMS for rank 0/1 - 3.0110004445305094e-06,2.6226043701171875e-06 - 2020-04-14 09:00:00\n",
      "2020-09-29 23:07:22,134 - june.simulator - INFO - CMS: Timestep for rank 0/1 - 0.6834415929988609, 0.6834423542022705 - 2020-04-14 09:00:00\n",
      "2020-09-29 23:07:22,644 - june.activity.activity_manager - INFO - CMS: People COMS for rank 0/1 - 4.338999133324251e-06,3.5762786865234375e-06 - 2020-04-14 10:00:00\n",
      "2020-09-29 23:07:22,651 - june.simulator - INFO - Date = 2020-04-14 10:00:00, number of deaths =  74, number of infected = 11091\n",
      "2020-09-29 23:07:22,830 - june.simulator - INFO - CMS: Infection COMS for rank 0/1 - 3.3430005714762956e-06,2.86102294921875e-06 - 2020-04-14 10:00:00\n",
      "2020-09-29 23:07:23,006 - june.simulator - INFO - CMS: Timestep for rank 0/1 - 0.8711795630006236, 0.8711802959442139 - 2020-04-14 10:00:00\n",
      "2020-09-29 23:07:23,348 - june.activity.activity_manager - INFO - CMS: People COMS for rank 0/1 - 4.984998668078333e-06,4.291534423828125e-06 - 2020-04-14 13:00:00\n",
      "2020-09-29 23:07:23,355 - june.simulator - INFO - Date = 2020-04-14 13:00:00, number of deaths =  76, number of infected = 10993\n",
      "2020-09-29 23:07:23,543 - june.simulator - INFO - CMS: Infection COMS for rank 0/1 - 3.4100012271665037e-06,3.0994415283203125e-06 - 2020-04-14 13:00:00\n",
      "2020-09-29 23:07:23,701 - june.simulator - INFO - CMS: Timestep for rank 0/1 - 0.694635190999179, 0.6946358680725098 - 2020-04-14 13:00:00\n",
      "2020-09-29 23:07:24,064 - june.activity.activity_manager - INFO - CMS: People COMS for rank 0/1 - 4.853000064031221e-06,4.291534423828125e-06 - 2020-04-15 00:00:00\n",
      "2020-09-29 23:07:24,070 - june.simulator - INFO - Date = 2020-04-15 00:00:00, number of deaths =  76, number of infected = 10615\n",
      "2020-09-29 23:07:24,235 - june.simulator - INFO - CMS: Infection COMS for rank 0/1 - 3.0139999580569565e-06,2.6226043701171875e-06 - 2020-04-15 00:00:00\n",
      "2020-09-29 23:07:24,390 - june.simulator - INFO - CMS: Timestep for rank 0/1 - 0.6883202369990613, 0.6883213520050049 - 2020-04-15 00:00:00\n",
      "2020-09-29 23:07:24,851 - june.activity.activity_manager - INFO - CMS: People COMS for rank 0/1 - 4.441000783117488e-06,3.5762786865234375e-06 - 2020-04-15 01:00:00\n",
      "2020-09-29 23:07:24,858 - june.simulator - INFO - Date = 2020-04-15 01:00:00, number of deaths =  76, number of infected = 10585\n"
     ]
    },
    {
     "name": "stdout",
     "output_type": "stream",
     "text": [
      "2020-09-29 23:07:25,055 - june.simulator - INFO - CMS: Infection COMS for rank 0/1 - 3.3060005080187693e-06,2.86102294921875e-06 - 2020-04-15 01:00:00\n",
      "2020-09-29 23:07:25,223 - june.simulator - INFO - CMS: Timestep for rank 0/1 - 0.8324667840006441, 0.8324680328369141 - 2020-04-15 01:00:00\n",
      "2020-09-29 23:07:25,596 - june.activity.activity_manager - INFO - CMS: People COMS for rank 0/1 - 4.51400046586059e-06,3.814697265625e-06 - 2020-04-15 09:00:00\n",
      "2020-09-29 23:07:25,603 - june.simulator - INFO - Date = 2020-04-15 09:00:00, number of deaths =  77, number of infected = 10312\n",
      "2020-09-29 23:07:25,748 - june.simulator - INFO - CMS: Infection COMS for rank 0/1 - 2.8769991331500933e-06,2.6226043701171875e-06 - 2020-04-15 09:00:00\n",
      "2020-09-29 23:07:25,901 - june.simulator - INFO - CMS: Timestep for rank 0/1 - 0.6767309480001131, 0.6767318248748779 - 2020-04-15 09:00:00\n",
      "2020-09-29 23:07:26,486 - june.activity.activity_manager - INFO - CMS: People COMS for rank 0/1 - 5.052001142757945e-06,4.291534423828125e-06 - 2020-04-15 10:00:00\n",
      "2020-09-29 23:07:26,495 - june.simulator - INFO - Date = 2020-04-15 10:00:00, number of deaths =  77, number of infected = 10267\n",
      "2020-09-29 23:07:26,660 - june.simulator - INFO - CMS: Infection COMS for rank 0/1 - 2.9100010578986257e-06,2.6226043701171875e-06 - 2020-04-15 10:00:00\n",
      "2020-09-29 23:07:26,820 - june.simulator - INFO - CMS: Timestep for rank 0/1 - 0.9180269959997531, 0.9180283546447754 - 2020-04-15 10:00:00\n",
      "2020-09-29 23:07:27,174 - june.activity.activity_manager - INFO - CMS: People COMS for rank 0/1 - 7.020000339252874e-06,5.7220458984375e-06 - 2020-04-15 13:00:00\n",
      "2020-09-29 23:07:27,180 - june.simulator - INFO - Date = 2020-04-15 13:00:00, number of deaths =  77, number of infected = 10135\n",
      "2020-09-29 23:07:27,337 - june.simulator - INFO - CMS: Infection COMS for rank 0/1 - 3.6179990274831653e-06,3.0994415283203125e-06 - 2020-04-15 13:00:00\n",
      "2020-09-29 23:07:27,482 - june.simulator - INFO - CMS: Timestep for rank 0/1 - 0.6610238239991304, 0.6610245704650879 - 2020-04-15 13:00:00\n",
      "2020-09-29 23:07:27,860 - june.activity.activity_manager - INFO - CMS: People COMS for rank 0/1 - 5.067000529379584e-06,4.291534423828125e-06 - 2020-04-16 00:00:00\n",
      "2020-09-29 23:07:27,866 - june.simulator - INFO - Date = 2020-04-16 00:00:00, number of deaths =  77, number of infected = 9747\n",
      "2020-09-29 23:07:28,027 - june.simulator - INFO - CMS: Infection COMS for rank 0/1 - 2.528000550228171e-06,1.9073486328125e-06 - 2020-04-16 00:00:00\n",
      "2020-09-29 23:07:28,167 - june.simulator - INFO - CMS: Timestep for rank 0/1 - 0.6847372810007073, 0.6847381591796875 - 2020-04-16 00:00:00\n",
      "2020-09-29 23:07:28,724 - june.activity.activity_manager - INFO - CMS: People COMS for rank 0/1 - 5.834999683429487e-06,5.0067901611328125e-06 - 2020-04-16 01:00:00\n",
      "2020-09-29 23:07:28,732 - june.simulator - INFO - Date = 2020-04-16 01:00:00, number of deaths =  77, number of infected = 9700\n",
      "2020-09-29 23:07:28,915 - june.simulator - INFO - CMS: Infection COMS for rank 0/1 - 3.442999513936229e-06,2.86102294921875e-06 - 2020-04-16 01:00:00\n",
      "2020-09-29 23:07:29,091 - june.simulator - INFO - CMS: Timestep for rank 0/1 - 0.9233902480009419, 0.9233913421630859 - 2020-04-16 01:00:00\n",
      "2020-09-29 23:07:29,508 - june.activity.activity_manager - INFO - CMS: People COMS for rank 0/1 - 4.6650002332171425e-06,4.0531158447265625e-06 - 2020-04-16 09:00:00\n",
      "2020-09-29 23:07:29,514 - june.simulator - INFO - Date = 2020-04-16 09:00:00, number of deaths =  77, number of infected = 9434\n",
      "2020-09-29 23:07:29,697 - june.simulator - INFO - CMS: Infection COMS for rank 0/1 - 3.387998731341213e-06,2.6226043701171875e-06 - 2020-04-16 09:00:00\n",
      "2020-09-29 23:07:29,868 - june.simulator - INFO - CMS: Timestep for rank 0/1 - 0.7763269579991174, 0.7763276100158691 - 2020-04-16 09:00:00\n",
      "2020-09-29 23:07:30,369 - june.activity.activity_manager - INFO - CMS: People COMS for rank 0/1 - 5.089999831398018e-06,4.0531158447265625e-06 - 2020-04-16 10:00:00\n",
      "2020-09-29 23:07:30,375 - june.simulator - INFO - Date = 2020-04-16 10:00:00, number of deaths =  77, number of infected = 9402\n",
      "2020-09-29 23:07:30,534 - june.simulator - INFO - CMS: Infection COMS for rank 0/1 - 3.6159999581286684e-06,3.0994415283203125e-06 - 2020-04-16 10:00:00\n",
      "2020-09-29 23:07:30,706 - june.simulator - INFO - CMS: Timestep for rank 0/1 - 0.8366033170004812, 0.8366043567657471 - 2020-04-16 10:00:00\n",
      "2020-09-29 23:07:31,059 - june.activity.activity_manager - INFO - CMS: People COMS for rank 0/1 - 4.998000804334879e-06,4.5299530029296875e-06 - 2020-04-16 13:00:00\n",
      "2020-09-29 23:07:31,065 - june.simulator - INFO - Date = 2020-04-16 13:00:00, number of deaths =  78, number of infected = 9311\n",
      "2020-09-29 23:07:31,225 - june.simulator - INFO - CMS: Infection COMS for rank 0/1 - 3.269000444561243e-06,2.6226043701171875e-06 - 2020-04-16 13:00:00\n",
      "2020-09-29 23:07:31,377 - june.simulator - INFO - CMS: Timestep for rank 0/1 - 0.670773095000186, 0.6707737445831299 - 2020-04-16 13:00:00\n",
      "2020-09-29 23:07:31,760 - june.activity.activity_manager - INFO - CMS: People COMS for rank 0/1 - 4.208000973449089e-06,3.5762786865234375e-06 - 2020-04-17 00:00:00\n",
      "2020-09-29 23:07:31,767 - june.simulator - INFO - Date = 2020-04-17 00:00:00, number of deaths =  81, number of infected = 8918\n",
      "2020-09-29 23:07:31,942 - june.simulator - INFO - CMS: Infection COMS for rank 0/1 - 3.1319996196543798e-06,2.384185791015625e-06 - 2020-04-17 00:00:00\n",
      "2020-09-29 23:07:32,096 - june.simulator - INFO - CMS: Timestep for rank 0/1 - 0.7179487400007929, 0.717949628829956 - 2020-04-17 00:00:00\n",
      "2020-09-29 23:07:32,531 - june.activity.activity_manager - INFO - CMS: People COMS for rank 0/1 - 4.131999958190136e-06,3.5762786865234375e-06 - 2020-04-17 01:00:00\n",
      "2020-09-29 23:07:32,538 - june.simulator - INFO - Date = 2020-04-17 01:00:00, number of deaths =  81, number of infected = 8880\n",
      "2020-09-29 23:07:32,726 - june.simulator - INFO - CMS: Infection COMS for rank 0/1 - 3.6500005080597475e-06,2.86102294921875e-06 - 2020-04-17 01:00:00\n",
      "2020-09-29 23:07:32,870 - june.simulator - INFO - CMS: Timestep for rank 0/1 - 0.7731970900003944, 0.773198127746582 - 2020-04-17 01:00:00\n",
      "2020-09-29 23:07:33,250 - june.activity.activity_manager - INFO - CMS: People COMS for rank 0/1 - 4.976000127498992e-06,4.291534423828125e-06 - 2020-04-17 09:00:00\n",
      "2020-09-29 23:07:33,257 - june.simulator - INFO - Date = 2020-04-17 09:00:00, number of deaths =  81, number of infected = 8594\n",
      "2020-09-29 23:07:33,432 - june.simulator - INFO - CMS: Infection COMS for rank 0/1 - 3.158998879371211e-06,2.86102294921875e-06 - 2020-04-17 09:00:00\n",
      "2020-09-29 23:07:33,568 - june.simulator - INFO - CMS: Timestep for rank 0/1 - 0.6974356099999568, 0.6974360942840576 - 2020-04-17 09:00:00\n",
      "2020-09-29 23:07:34,074 - june.activity.activity_manager - INFO - CMS: People COMS for rank 0/1 - 4.523000825429335e-06,3.814697265625e-06 - 2020-04-17 10:00:00\n",
      "2020-09-29 23:07:34,080 - june.simulator - INFO - Date = 2020-04-17 10:00:00, number of deaths =  81, number of infected = 8571\n",
      "2020-09-29 23:07:34,230 - june.simulator - INFO - CMS: Infection COMS for rank 0/1 - 3.283999831182882e-06,2.86102294921875e-06 - 2020-04-17 10:00:00\n",
      "2020-09-29 23:07:34,364 - june.simulator - INFO - CMS: Timestep for rank 0/1 - 0.7952383640003973, 0.7952394485473633 - 2020-04-17 10:00:00\n",
      "2020-09-29 23:07:34,702 - june.activity.activity_manager - INFO - CMS: People COMS for rank 0/1 - 5.686000804416835e-06,4.5299530029296875e-06 - 2020-04-17 13:00:00\n",
      "2020-09-29 23:07:34,709 - june.simulator - INFO - Date = 2020-04-17 13:00:00, number of deaths =  82, number of infected = 8459\n",
      "2020-09-29 23:07:34,860 - june.simulator - INFO - CMS: Infection COMS for rank 0/1 - 3.0819992389297113e-06,2.6226043701171875e-06 - 2020-04-17 13:00:00\n",
      "2020-09-29 23:07:35,001 - june.simulator - INFO - CMS: Timestep for rank 0/1 - 0.6363204700010101, 0.6363215446472168 - 2020-04-17 13:00:00\n",
      "2020-09-29 23:07:35,462 - june.activity.activity_manager - INFO - CMS: People COMS for rank 0/1 - 4.184999852441251e-06,3.337860107421875e-06 - 2020-04-18 00:00:00\n",
      "2020-09-29 23:07:35,468 - june.simulator - INFO - Date = 2020-04-18 00:00:00, number of deaths =  83, number of infected = 8107\n",
      "2020-09-29 23:07:35,626 - june.simulator - INFO - CMS: Infection COMS for rank 0/1 - 3.4320000850129873e-06,3.0994415283203125e-06 - 2020-04-18 00:00:00\n"
     ]
    },
    {
     "name": "stdout",
     "output_type": "stream",
     "text": [
      "2020-09-29 23:07:35,763 - june.simulator - INFO - CMS: Timestep for rank 0/1 - 0.7612117230000877, 0.7612123489379883 - 2020-04-18 00:00:00\n",
      "2020-09-29 23:07:36,265 - june.activity.activity_manager - INFO - CMS: People COMS for rank 0/1 - 4.505998731474392e-06,3.5762786865234375e-06 - 2020-04-18 04:00:00\n",
      "2020-09-29 23:07:36,274 - june.simulator - INFO - Date = 2020-04-18 04:00:00, number of deaths =  83, number of infected = 7965\n",
      "2020-09-29 23:07:36,437 - june.simulator - INFO - CMS: Infection COMS for rank 0/1 - 3.4270015021320432e-06,2.86102294921875e-06 - 2020-04-18 04:00:00\n",
      "2020-09-29 23:07:36,576 - june.simulator - INFO - CMS: Timestep for rank 0/1 - 0.8119944569989457, 0.8119947910308838 - 2020-04-18 04:00:00\n",
      "2020-09-29 23:07:37,429 - june.activity.activity_manager - INFO - CMS: People COMS for rank 0/1 - 4.519000867730938e-06,3.814697265625e-06 - 2020-04-18 08:00:00\n",
      "2020-09-29 23:07:37,436 - june.simulator - INFO - Date = 2020-04-18 08:00:00, number of deaths =  84, number of infected = 7841\n",
      "2020-09-29 23:07:37,603 - june.simulator - INFO - CMS: Infection COMS for rank 0/1 - 3.7440004234667867e-06,3.337860107421875e-06 - 2020-04-18 08:00:00\n",
      "2020-09-29 23:07:37,751 - june.simulator - INFO - CMS: Timestep for rank 0/1 - 1.1749926080010482, 1.1749935150146484 - 2020-04-18 08:00:00\n",
      "2020-09-29 23:07:38,089 - june.activity.activity_manager - INFO - CMS: People COMS for rank 0/1 - 5.5679993238300085e-06,4.76837158203125e-06 - 2020-04-18 12:00:00\n",
      "2020-09-29 23:07:38,101 - june.simulator - INFO - Date = 2020-04-18 12:00:00, number of deaths =  85, number of infected = 7728\n",
      "2020-09-29 23:07:38,267 - june.simulator - INFO - CMS: Infection COMS for rank 0/1 - 3.392000508029014e-06,2.86102294921875e-06 - 2020-04-18 12:00:00\n",
      "2020-09-29 23:07:38,406 - june.simulator - INFO - CMS: Timestep for rank 0/1 - 0.653971931000342, 0.653972864151001 - 2020-04-18 12:00:00\n",
      "2020-09-29 23:07:38,878 - june.activity.activity_manager - INFO - CMS: People COMS for rank 0/1 - 4.034998710267246e-06,2.86102294921875e-06 - 2020-04-19 00:00:00\n",
      "2020-09-29 23:07:38,884 - june.simulator - INFO - Date = 2020-04-19 00:00:00, number of deaths =  85, number of infected = 7348\n",
      "2020-09-29 23:07:39,059 - june.simulator - INFO - CMS: Infection COMS for rank 0/1 - 4.171999535174109e-06,3.0994415283203125e-06 - 2020-04-19 00:00:00\n",
      "2020-09-29 23:07:39,330 - june.simulator - INFO - CMS: Timestep for rank 0/1 - 0.9224306329997489, 0.9224321842193604 - 2020-04-19 00:00:00\n",
      "2020-09-29 23:07:40,081 - june.activity.activity_manager - INFO - CMS: People COMS for rank 0/1 - 4.558000000542961e-06,4.0531158447265625e-06 - 2020-04-19 04:00:00\n",
      "2020-09-29 23:07:40,087 - june.simulator - INFO - Date = 2020-04-19 04:00:00, number of deaths =  85, number of infected = 7222\n",
      "2020-09-29 23:07:40,244 - june.simulator - INFO - CMS: Infection COMS for rank 0/1 - 3.2199986890191212e-06,2.86102294921875e-06 - 2020-04-19 04:00:00\n",
      "2020-09-29 23:07:40,386 - june.simulator - INFO - CMS: Timestep for rank 0/1 - 1.0545462150003004, 1.0545451641082764 - 2020-04-19 04:00:00\n",
      "2020-09-29 23:07:40,924 - june.activity.activity_manager - INFO - CMS: People COMS for rank 0/1 - 5.45799957762938e-06,4.76837158203125e-06 - 2020-04-19 08:00:00\n",
      "2020-09-29 23:07:40,933 - june.simulator - INFO - Date = 2020-04-19 08:00:00, number of deaths =  85, number of infected = 7110\n",
      "2020-09-29 23:07:41,132 - june.simulator - INFO - CMS: Infection COMS for rank 0/1 - 4.606999937095679e-06,4.0531158447265625e-06 - 2020-04-19 08:00:00\n",
      "2020-09-29 23:07:41,273 - june.simulator - INFO - CMS: Timestep for rank 0/1 - 0.8865693309999187, 0.8865706920623779 - 2020-04-19 08:00:00\n",
      "2020-09-29 23:07:41,599 - june.activity.activity_manager - INFO - CMS: People COMS for rank 0/1 - 5.542000508285128e-06,4.5299530029296875e-06 - 2020-04-19 12:00:00\n",
      "2020-09-29 23:07:41,606 - june.simulator - INFO - Date = 2020-04-19 12:00:00, number of deaths =  85, number of infected = 6994\n",
      "2020-09-29 23:07:41,759 - june.simulator - INFO - CMS: Infection COMS for rank 0/1 - 3.2669995562173426e-06,2.86102294921875e-06 - 2020-04-19 12:00:00\n",
      "2020-09-29 23:07:41,913 - june.simulator - INFO - CMS: Timestep for rank 0/1 - 0.6392291210013354, 0.6392297744750977 - 2020-04-19 12:00:00\n",
      "2020-09-29 23:07:42,263 - june.activity.activity_manager - INFO - CMS: People COMS for rank 0/1 - 4.01800025429111e-06,3.337860107421875e-06 - 2020-04-20 00:00:00\n",
      "2020-09-29 23:07:42,270 - june.simulator - INFO - Date = 2020-04-20 00:00:00, number of deaths =  86, number of infected = 6668\n",
      "2020-09-29 23:07:42,434 - june.simulator - INFO - CMS: Infection COMS for rank 0/1 - 3.3090000215452164e-06,2.86102294921875e-06 - 2020-04-20 00:00:00\n",
      "2020-09-29 23:07:42,560 - june.simulator - INFO - CMS: Timestep for rank 0/1 - 0.6467393820003053, 0.646740198135376 - 2020-04-20 00:00:00\n",
      "2020-09-29 23:07:43,016 - june.activity.activity_manager - INFO - CMS: People COMS for rank 0/1 - 4.704999810201116e-06,3.814697265625e-06 - 2020-04-20 01:00:00\n",
      "2020-09-29 23:07:43,025 - june.simulator - INFO - Date = 2020-04-20 01:00:00, number of deaths =  86, number of infected = 6630\n",
      "2020-09-29 23:07:43,191 - june.simulator - INFO - CMS: Infection COMS for rank 0/1 - 3.1170002330327407e-06,2.86102294921875e-06 - 2020-04-20 01:00:00\n",
      "2020-09-29 23:07:43,322 - june.simulator - INFO - CMS: Timestep for rank 0/1 - 0.7612787660000322, 0.761279821395874 - 2020-04-20 01:00:00\n",
      "2020-09-29 23:07:43,711 - june.activity.activity_manager - INFO - CMS: People COMS for rank 0/1 - 4.982999598723836e-06,4.291534423828125e-06 - 2020-04-20 09:00:00\n",
      "2020-09-29 23:07:43,717 - june.simulator - INFO - Date = 2020-04-20 09:00:00, number of deaths =  88, number of infected = 6420\n",
      "2020-09-29 23:07:43,860 - june.simulator - INFO - CMS: Infection COMS for rank 0/1 - 3.0960000003688037e-06,2.384185791015625e-06 - 2020-04-20 09:00:00\n",
      "2020-09-29 23:07:43,982 - june.simulator - INFO - CMS: Timestep for rank 0/1 - 0.6589149529991118, 0.6589157581329346 - 2020-04-20 09:00:00\n",
      "2020-09-29 23:07:44,477 - june.activity.activity_manager - INFO - CMS: People COMS for rank 0/1 - 4.726000042865053e-06,4.0531158447265625e-06 - 2020-04-20 10:00:00\n",
      "2020-09-29 23:07:44,483 - june.simulator - INFO - Date = 2020-04-20 10:00:00, number of deaths =  88, number of infected = 6388\n",
      "2020-09-29 23:07:44,630 - june.simulator - INFO - CMS: Infection COMS for rank 0/1 - 3.397999535081908e-06,3.0994415283203125e-06 - 2020-04-20 10:00:00\n",
      "2020-09-29 23:07:44,764 - june.simulator - INFO - CMS: Timestep for rank 0/1 - 0.7813392019997991, 0.7813410758972168 - 2020-04-20 10:00:00\n",
      "2020-09-29 23:07:45,112 - june.activity.activity_manager - INFO - CMS: People COMS for rank 0/1 - 6.686999768135138e-06,5.7220458984375e-06 - 2020-04-20 13:00:00\n",
      "2020-09-29 23:07:45,120 - june.simulator - INFO - Date = 2020-04-20 13:00:00, number of deaths =  88, number of infected = 6300\n",
      "2020-09-29 23:07:45,291 - june.simulator - INFO - CMS: Infection COMS for rank 0/1 - 3.065999408136122e-06,2.384185791015625e-06 - 2020-04-20 13:00:00\n",
      "2020-09-29 23:07:45,435 - june.simulator - INFO - CMS: Timestep for rank 0/1 - 0.6707942840002943, 0.670795202255249 - 2020-04-20 13:00:00\n",
      "2020-09-29 23:07:45,834 - june.activity.activity_manager - INFO - CMS: People COMS for rank 0/1 - 4.543000613921322e-06,3.814697265625e-06 - 2020-04-21 00:00:00\n",
      "2020-09-29 23:07:45,840 - june.simulator - INFO - Date = 2020-04-21 00:00:00, number of deaths =  88, number of infected = 6008\n",
      "2020-09-29 23:07:46,003 - june.simulator - INFO - CMS: Infection COMS for rank 0/1 - 3.1250001484295353e-06,2.384185791015625e-06 - 2020-04-21 00:00:00\n",
      "2020-09-29 23:07:46,141 - june.simulator - INFO - CMS: Timestep for rank 0/1 - 0.7047796930000914, 0.7047805786132812 - 2020-04-21 00:00:00\n",
      "2020-09-29 23:07:46,608 - june.activity.activity_manager - INFO - CMS: People COMS for rank 0/1 - 4.1789990063989535e-06,3.814697265625e-06 - 2020-04-21 01:00:00\n",
      "2020-09-29 23:07:46,614 - june.simulator - INFO - Date = 2020-04-21 01:00:00, number of deaths =  88, number of infected = 5985\n",
      "2020-09-29 23:07:46,771 - june.simulator - INFO - CMS: Infection COMS for rank 0/1 - 3.973000275436789e-06,3.337860107421875e-06 - 2020-04-21 01:00:00\n",
      "2020-09-29 23:07:46,913 - june.simulator - INFO - CMS: Timestep for rank 0/1 - 0.7708876359993155, 0.7708885669708252 - 2020-04-21 01:00:00\n"
     ]
    },
    {
     "name": "stdout",
     "output_type": "stream",
     "text": [
      "2020-09-29 23:07:47,287 - june.activity.activity_manager - INFO - CMS: People COMS for rank 0/1 - 4.885001544607803e-06,4.291534423828125e-06 - 2020-04-21 09:00:00\n",
      "2020-09-29 23:07:47,294 - june.simulator - INFO - Date = 2020-04-21 09:00:00, number of deaths =  88, number of infected = 5805\n",
      "2020-09-29 23:07:47,439 - june.simulator - INFO - CMS: Infection COMS for rank 0/1 - 2.972999936901033e-06,2.6226043701171875e-06 - 2020-04-21 09:00:00\n",
      "2020-09-29 23:07:47,566 - june.simulator - INFO - CMS: Timestep for rank 0/1 - 0.6527161180001713, 0.652716875076294 - 2020-04-21 09:00:00\n",
      "2020-09-29 23:07:48,065 - june.activity.activity_manager - INFO - CMS: People COMS for rank 0/1 - 4.030000127386302e-06,3.5762786865234375e-06 - 2020-04-21 10:00:00\n",
      "2020-09-29 23:07:48,071 - june.simulator - INFO - Date = 2020-04-21 10:00:00, number of deaths =  88, number of infected = 5781\n",
      "2020-09-29 23:07:48,226 - june.simulator - INFO - CMS: Infection COMS for rank 0/1 - 3.454999387031421e-06,3.0994415283203125e-06 - 2020-04-21 10:00:00\n",
      "2020-09-29 23:07:48,392 - june.simulator - INFO - CMS: Timestep for rank 0/1 - 0.8251090339999791, 0.8251094818115234 - 2020-04-21 10:00:00\n",
      "2020-09-29 23:07:48,732 - june.activity.activity_manager - INFO - CMS: People COMS for rank 0/1 - 5.801999577670358e-06,4.5299530029296875e-06 - 2020-04-21 13:00:00\n",
      "2020-09-29 23:07:48,739 - june.simulator - INFO - Date = 2020-04-21 13:00:00, number of deaths =  88, number of infected = 5694\n",
      "2020-09-29 23:07:48,894 - june.simulator - INFO - CMS: Infection COMS for rank 0/1 - 3.0800001695752144e-06,2.6226043701171875e-06 - 2020-04-21 13:00:00\n",
      "2020-09-29 23:07:49,026 - june.simulator - INFO - CMS: Timestep for rank 0/1 - 0.6328236859990284, 0.632824182510376 - 2020-04-21 13:00:00\n",
      "2020-09-29 23:07:49,393 - june.activity.activity_manager - INFO - CMS: People COMS for rank 0/1 - 7.144000846892595e-06,6.198883056640625e-06 - 2020-04-22 00:00:00\n",
      "2020-09-29 23:07:49,399 - june.simulator - INFO - Date = 2020-04-22 00:00:00, number of deaths =  89, number of infected = 5447\n",
      "2020-09-29 23:07:49,539 - june.simulator - INFO - CMS: Infection COMS for rank 0/1 - 2.9670009098481387e-06,2.1457672119140625e-06 - 2020-04-22 00:00:00\n",
      "2020-09-29 23:07:49,663 - june.simulator - INFO - CMS: Timestep for rank 0/1 - 0.6364633009998215, 0.6364643573760986 - 2020-04-22 00:00:00\n",
      "2020-09-29 23:07:50,163 - june.activity.activity_manager - INFO - CMS: People COMS for rank 0/1 - 4.613999408320524e-06,3.814697265625e-06 - 2020-04-22 01:00:00\n",
      "2020-09-29 23:07:50,175 - june.simulator - INFO - Date = 2020-04-22 01:00:00, number of deaths =  89, number of infected = 5428\n",
      "2020-09-29 23:07:50,336 - june.simulator - INFO - CMS: Infection COMS for rank 0/1 - 5.175001206225716e-06,4.76837158203125e-06 - 2020-04-22 01:00:00\n",
      "2020-09-29 23:07:50,475 - june.simulator - INFO - CMS: Timestep for rank 0/1 - 0.8113903190005658, 0.8113913536071777 - 2020-04-22 01:00:00\n",
      "2020-09-29 23:07:50,881 - june.activity.activity_manager - INFO - CMS: People COMS for rank 0/1 - 5.765999958384782e-06,5.0067901611328125e-06 - 2020-04-22 09:00:00\n",
      "2020-09-29 23:07:50,889 - june.simulator - INFO - Date = 2020-04-22 09:00:00, number of deaths =  89, number of infected = 5226\n",
      "2020-09-29 23:07:51,037 - june.simulator - INFO - CMS: Infection COMS for rank 0/1 - 2.69900010607671e-06,2.1457672119140625e-06 - 2020-04-22 09:00:00\n",
      "2020-09-29 23:07:51,159 - june.simulator - INFO - CMS: Timestep for rank 0/1 - 0.6827021110002534, 0.6827027797698975 - 2020-04-22 09:00:00\n",
      "2020-09-29 23:07:51,694 - june.activity.activity_manager - INFO - CMS: People COMS for rank 0/1 - 4.4859989429824054e-06,3.814697265625e-06 - 2020-04-22 10:00:00\n",
      "2020-09-29 23:07:51,701 - june.simulator - INFO - Date = 2020-04-22 10:00:00, number of deaths =  89, number of infected = 5195\n",
      "2020-09-29 23:07:51,868 - june.simulator - INFO - CMS: Infection COMS for rank 0/1 - 2.99500061373692e-06,2.86102294921875e-06 - 2020-04-22 10:00:00\n",
      "2020-09-29 23:07:51,993 - june.simulator - INFO - CMS: Timestep for rank 0/1 - 0.8337028990008548, 0.8337037563323975 - 2020-04-22 10:00:00\n",
      "2020-09-29 23:07:52,351 - june.activity.activity_manager - INFO - CMS: People COMS for rank 0/1 - 5.056001100456342e-06,4.0531158447265625e-06 - 2020-04-22 13:00:00\n",
      "2020-09-29 23:07:52,357 - june.simulator - INFO - Date = 2020-04-22 13:00:00, number of deaths =  89, number of infected = 5119\n",
      "2020-09-29 23:07:52,522 - june.simulator - INFO - CMS: Infection COMS for rank 0/1 - 3.406999894650653e-06,2.86102294921875e-06 - 2020-04-22 13:00:00\n",
      "2020-09-29 23:07:52,643 - june.simulator - INFO - CMS: Timestep for rank 0/1 - 0.6489022609985113, 0.6489031314849854 - 2020-04-22 13:00:00\n",
      "2020-09-29 23:07:53,018 - june.activity.activity_manager - INFO - CMS: People COMS for rank 0/1 - 4.4240005081519485e-06,3.5762786865234375e-06 - 2020-04-23 00:00:00\n",
      "2020-09-29 23:07:53,026 - june.simulator - INFO - Date = 2020-04-23 00:00:00, number of deaths =  90, number of infected = 4906\n",
      "2020-09-29 23:07:53,201 - june.simulator - INFO - CMS: Infection COMS for rank 0/1 - 4.0979994082590565e-06,3.5762786865234375e-06 - 2020-04-23 00:00:00\n",
      "2020-09-29 23:07:53,331 - june.simulator - INFO - CMS: Timestep for rank 0/1 - 0.6873857360005786, 0.6873862743377686 - 2020-04-23 00:00:00\n",
      "2020-09-29 23:07:53,793 - june.activity.activity_manager - INFO - CMS: People COMS for rank 0/1 - 3.889001163770445e-06,3.337860107421875e-06 - 2020-04-23 01:00:00\n",
      "2020-09-29 23:07:53,799 - june.simulator - INFO - Date = 2020-04-23 01:00:00, number of deaths =  90, number of infected = 4884\n",
      "2020-09-29 23:07:53,960 - june.simulator - INFO - CMS: Infection COMS for rank 0/1 - 2.881999535020441e-06,2.6226043701171875e-06 - 2020-04-23 01:00:00\n",
      "2020-09-29 23:07:54,075 - june.simulator - INFO - CMS: Timestep for rank 0/1 - 0.7433153229994787, 0.7433159351348877 - 2020-04-23 01:00:00\n",
      "2020-09-29 23:07:54,438 - june.activity.activity_manager - INFO - CMS: People COMS for rank 0/1 - 5.464000423671678e-06,4.5299530029296875e-06 - 2020-04-23 09:00:00\n",
      "2020-09-29 23:07:54,443 - june.simulator - INFO - Date = 2020-04-23 09:00:00, number of deaths =  91, number of infected = 4717\n",
      "2020-09-29 23:07:54,597 - june.simulator - INFO - CMS: Infection COMS for rank 0/1 - 4.086001354153268e-06,3.337860107421875e-06 - 2020-04-23 09:00:00\n",
      "2020-09-29 23:07:54,719 - june.simulator - INFO - CMS: Timestep for rank 0/1 - 0.643955804000143, 0.6439571380615234 - 2020-04-23 09:00:00\n",
      "2020-09-29 23:07:55,393 - june.activity.activity_manager - INFO - CMS: People COMS for rank 0/1 - 4.501998773775995e-06,3.814697265625e-06 - 2020-04-23 10:00:00\n",
      "2020-09-29 23:07:55,399 - june.simulator - INFO - Date = 2020-04-23 10:00:00, number of deaths =  91, number of infected = 4694\n",
      "2020-09-29 23:07:55,533 - june.simulator - INFO - CMS: Infection COMS for rank 0/1 - 2.972999936901033e-06,2.384185791015625e-06 - 2020-04-23 10:00:00\n",
      "2020-09-29 23:07:55,664 - june.simulator - INFO - CMS: Timestep for rank 0/1 - 0.9438470850000158, 0.9438481330871582 - 2020-04-23 10:00:00\n",
      "2020-09-29 23:07:56,022 - june.activity.activity_manager - INFO - CMS: People COMS for rank 0/1 - 4.98300141771324e-06,4.291534423828125e-06 - 2020-04-23 13:00:00\n",
      "2020-09-29 23:07:56,027 - june.simulator - INFO - Date = 2020-04-23 13:00:00, number of deaths =  91, number of infected = 4644\n",
      "2020-09-29 23:07:56,181 - june.simulator - INFO - CMS: Infection COMS for rank 0/1 - 3.4039985621348023e-06,2.86102294921875e-06 - 2020-04-23 13:00:00\n",
      "2020-09-29 23:07:56,302 - june.simulator - INFO - CMS: Timestep for rank 0/1 - 0.6375697129988112, 0.6375710964202881 - 2020-04-23 13:00:00\n",
      "2020-09-29 23:07:56,659 - june.activity.activity_manager - INFO - CMS: People COMS for rank 0/1 - 5.252999471849762e-06,4.291534423828125e-06 - 2020-04-24 00:00:00\n",
      "2020-09-29 23:07:56,665 - june.simulator - INFO - Date = 2020-04-24 00:00:00, number of deaths =  91, number of infected = 4433\n",
      "2020-09-29 23:07:56,812 - june.simulator - INFO - CMS: Infection COMS for rank 0/1 - 2.7669993869494647e-06,2.384185791015625e-06 - 2020-04-24 00:00:00\n",
      "2020-09-29 23:07:56,931 - june.simulator - INFO - CMS: Timestep for rank 0/1 - 0.6275828249999904, 0.6275835037231445 - 2020-04-24 00:00:00\n",
      "2020-09-29 23:07:57,364 - june.activity.activity_manager - INFO - CMS: People COMS for rank 0/1 - 4.854000508203171e-06,4.0531158447265625e-06 - 2020-04-24 01:00:00\n"
     ]
    },
    {
     "name": "stdout",
     "output_type": "stream",
     "text": [
      "2020-09-29 23:07:57,370 - june.simulator - INFO - Date = 2020-04-24 01:00:00, number of deaths =  91, number of infected = 4416\n",
      "2020-09-29 23:07:57,548 - june.simulator - INFO - CMS: Infection COMS for rank 0/1 - 3.7940008041914552e-06,2.6226043701171875e-06 - 2020-04-24 01:00:00\n",
      "2020-09-29 23:07:57,667 - june.simulator - INFO - CMS: Timestep for rank 0/1 - 0.7353117900001962, 0.7353122234344482 - 2020-04-24 01:00:00\n",
      "2020-09-29 23:07:58,037 - june.activity.activity_manager - INFO - CMS: People COMS for rank 0/1 - 5.228999725659378e-06,4.5299530029296875e-06 - 2020-04-24 09:00:00\n",
      "2020-09-29 23:07:58,043 - june.simulator - INFO - Date = 2020-04-24 09:00:00, number of deaths =  92, number of infected = 4240\n",
      "2020-09-29 23:07:58,193 - june.simulator - INFO - CMS: Infection COMS for rank 0/1 - 3.545999788912013e-06,2.86102294921875e-06 - 2020-04-24 09:00:00\n",
      "2020-09-29 23:07:58,307 - june.simulator - INFO - CMS: Timestep for rank 0/1 - 0.6395629649996408, 0.6395635604858398 - 2020-04-24 09:00:00\n",
      "2020-09-29 23:07:58,793 - june.activity.activity_manager - INFO - CMS: People COMS for rank 0/1 - 4.268000338925049e-06,3.5762786865234375e-06 - 2020-04-24 10:00:00\n",
      "2020-09-29 23:07:58,800 - june.simulator - INFO - Date = 2020-04-24 10:00:00, number of deaths =  92, number of infected = 4218\n",
      "2020-09-29 23:07:58,945 - june.simulator - INFO - CMS: Infection COMS for rank 0/1 - 3.302000550320372e-06,2.86102294921875e-06 - 2020-04-24 10:00:00\n",
      "2020-09-29 23:07:59,072 - june.simulator - INFO - CMS: Timestep for rank 0/1 - 0.7648794860015187, 0.7648801803588867 - 2020-04-24 10:00:00\n",
      "2020-09-29 23:07:59,397 - june.activity.activity_manager - INFO - CMS: People COMS for rank 0/1 - 5.343999873730354e-06,4.5299530029296875e-06 - 2020-04-24 13:00:00\n",
      "2020-09-29 23:07:59,405 - june.simulator - INFO - Date = 2020-04-24 13:00:00, number of deaths =  92, number of infected = 4158\n",
      "2020-09-29 23:07:59,535 - june.simulator - INFO - CMS: Infection COMS for rank 0/1 - 3.451999873504974e-06,2.86102294921875e-06 - 2020-04-24 13:00:00\n",
      "2020-09-29 23:07:59,657 - june.simulator - INFO - CMS: Timestep for rank 0/1 - 0.5841301230011595, 0.5841307640075684 - 2020-04-24 13:00:00\n",
      "2020-09-29 23:08:00,143 - june.activity.activity_manager - INFO - CMS: People COMS for rank 0/1 - 4.674000592785887e-06,3.814697265625e-06 - 2020-04-25 00:00:00\n",
      "2020-09-29 23:08:00,151 - june.simulator - INFO - Date = 2020-04-25 00:00:00, number of deaths =  92, number of infected = 3971\n",
      "2020-09-29 23:08:00,305 - june.simulator - INFO - CMS: Infection COMS for rank 0/1 - 3.1380004656966776e-06,2.86102294921875e-06 - 2020-04-25 00:00:00\n",
      "2020-09-29 23:08:00,424 - june.simulator - INFO - CMS: Timestep for rank 0/1 - 0.76649773400095, 0.7664980888366699 - 2020-04-25 00:00:00\n",
      "2020-09-29 23:08:00,896 - june.activity.activity_manager - INFO - CMS: People COMS for rank 0/1 - 4.685000021709129e-06,3.5762786865234375e-06 - 2020-04-25 04:00:00\n",
      "2020-09-29 23:08:00,909 - june.simulator - INFO - Date = 2020-04-25 04:00:00, number of deaths =  93, number of infected = 3909\n",
      "2020-09-29 23:08:01,060 - june.simulator - INFO - CMS: Infection COMS for rank 0/1 - 2.893999408115633e-06,2.384185791015625e-06 - 2020-04-25 04:00:00\n",
      "2020-09-29 23:08:01,172 - june.simulator - INFO - CMS: Timestep for rank 0/1 - 0.7472009450011683, 0.747201681137085 - 2020-04-25 04:00:00\n",
      "2020-09-29 23:08:01,659 - june.activity.activity_manager - INFO - CMS: People COMS for rank 0/1 - 5.272000635159202e-06,4.5299530029296875e-06 - 2020-04-25 08:00:00\n",
      "2020-09-29 23:08:01,664 - june.simulator - INFO - Date = 2020-04-25 08:00:00, number of deaths =  93, number of infected = 3838\n",
      "2020-09-29 23:08:01,802 - june.simulator - INFO - CMS: Infection COMS for rank 0/1 - 3.4750009945128113e-06,2.6226043701171875e-06 - 2020-04-25 08:00:00\n",
      "2020-09-29 23:08:01,909 - june.simulator - INFO - CMS: Timestep for rank 0/1 - 0.7365048039991962, 0.7365059852600098 - 2020-04-25 08:00:00\n",
      "2020-09-29 23:08:02,242 - june.activity.activity_manager - INFO - CMS: People COMS for rank 0/1 - 5.3269995987648144e-06,4.76837158203125e-06 - 2020-04-25 12:00:00\n",
      "2020-09-29 23:08:02,248 - june.simulator - INFO - Date = 2020-04-25 12:00:00, number of deaths =  94, number of infected = 3760\n",
      "2020-09-29 23:08:02,396 - june.simulator - INFO - CMS: Infection COMS for rank 0/1 - 3.588000254239887e-06,2.86102294921875e-06 - 2020-04-25 12:00:00\n",
      "2020-09-29 23:08:02,508 - june.simulator - INFO - CMS: Timestep for rank 0/1 - 0.5976742589991773, 0.5976748466491699 - 2020-04-25 12:00:00\n",
      "2020-09-29 23:08:03,011 - june.activity.activity_manager - INFO - CMS: People COMS for rank 0/1 - 4.436999006429687e-06,3.5762786865234375e-06 - 2020-04-26 00:00:00\n",
      "2020-09-29 23:08:03,016 - june.simulator - INFO - Date = 2020-04-26 00:00:00, number of deaths =  94, number of infected = 3540\n",
      "2020-09-29 23:08:03,155 - june.simulator - INFO - CMS: Infection COMS for rank 0/1 - 3.0470000638160855e-06,2.6226043701171875e-06 - 2020-04-26 00:00:00\n",
      "2020-09-29 23:08:03,268 - june.simulator - INFO - CMS: Timestep for rank 0/1 - 0.7593766080008209, 0.7593774795532227 - 2020-04-26 00:00:00\n",
      "2020-09-29 23:08:03,765 - june.activity.activity_manager - INFO - CMS: People COMS for rank 0/1 - 4.674999217968434e-06,3.5762786865234375e-06 - 2020-04-26 04:00:00\n",
      "2020-09-29 23:08:03,772 - june.simulator - INFO - Date = 2020-04-26 04:00:00, number of deaths =  94, number of infected = 3491\n",
      "2020-09-29 23:08:03,908 - june.simulator - INFO - CMS: Infection COMS for rank 0/1 - 3.031000233022496e-06,2.6226043701171875e-06 - 2020-04-26 04:00:00\n",
      "2020-09-29 23:08:04,022 - june.simulator - INFO - CMS: Timestep for rank 0/1 - 0.7532585810004093, 0.7532591819763184 - 2020-04-26 04:00:00\n",
      "2020-09-29 23:08:04,506 - june.activity.activity_manager - INFO - CMS: People COMS for rank 0/1 - 4.220000846544281e-06,3.5762786865234375e-06 - 2020-04-26 08:00:00\n",
      "2020-09-29 23:08:04,512 - june.simulator - INFO - Date = 2020-04-26 08:00:00, number of deaths =  94, number of infected = 3436\n",
      "2020-09-29 23:08:04,661 - june.simulator - INFO - CMS: Infection COMS for rank 0/1 - 3.043000106117688e-06,2.6226043701171875e-06 - 2020-04-26 08:00:00\n",
      "2020-09-29 23:08:04,793 - june.simulator - INFO - CMS: Timestep for rank 0/1 - 0.7700078260004375, 0.7700090408325195 - 2020-04-26 08:00:00\n",
      "2020-09-29 23:08:05,128 - june.activity.activity_manager - INFO - CMS: People COMS for rank 0/1 - 5.0840008043451235e-06,4.291534423828125e-06 - 2020-04-26 12:00:00\n",
      "2020-09-29 23:08:05,134 - june.simulator - INFO - Date = 2020-04-26 12:00:00, number of deaths =  94, number of infected = 3374\n",
      "2020-09-29 23:08:05,275 - june.simulator - INFO - CMS: Infection COMS for rank 0/1 - 3.332001142553054e-06,2.86102294921875e-06 - 2020-04-26 12:00:00\n",
      "2020-09-29 23:08:05,431 - june.simulator - INFO - CMS: Timestep for rank 0/1 - 0.6376846759994805, 0.6376857757568359 - 2020-04-26 12:00:00\n",
      "2020-09-29 23:08:05,929 - june.activity.activity_manager - INFO - CMS: People COMS for rank 0/1 - 8.426000931649469e-06,7.3909759521484375e-06 - 2020-04-27 00:00:00\n",
      "2020-09-29 23:08:05,937 - june.simulator - INFO - Date = 2020-04-27 00:00:00, number of deaths =  95, number of infected = 3217\n",
      "2020-09-29 23:08:06,074 - june.simulator - INFO - CMS: Infection COMS for rank 0/1 - 2.5860008463496342e-06,1.6689300537109375e-06 - 2020-04-27 00:00:00\n",
      "2020-09-29 23:08:06,185 - june.simulator - INFO - CMS: Timestep for rank 0/1 - 0.7520842270005232, 0.7520847320556641 - 2020-04-27 00:00:00\n",
      "2020-09-29 23:08:06,895 - june.activity.activity_manager - INFO - CMS: People COMS for rank 0/1 - 4.5050001062918454e-06,3.814697265625e-06 - 2020-04-27 01:00:00\n",
      "2020-09-29 23:08:06,907 - june.simulator - INFO - Date = 2020-04-27 01:00:00, number of deaths =  95, number of infected = 3199\n",
      "2020-09-29 23:08:07,061 - june.simulator - INFO - CMS: Infection COMS for rank 0/1 - 3.1399995350511745e-06,2.6226043701171875e-06 - 2020-04-27 01:00:00\n",
      "2020-09-29 23:08:07,173 - june.simulator - INFO - CMS: Timestep for rank 0/1 - 0.9869451229988044, 0.9869458675384521 - 2020-04-27 01:00:00\n",
      "2020-09-29 23:08:07,531 - june.activity.activity_manager - INFO - CMS: People COMS for rank 0/1 - 4.625000656233169e-06,3.5762786865234375e-06 - 2020-04-27 09:00:00\n",
      "2020-09-29 23:08:07,540 - june.simulator - INFO - Date = 2020-04-27 09:00:00, number of deaths =  95, number of infected = 3079\n"
     ]
    },
    {
     "name": "stdout",
     "output_type": "stream",
     "text": [
      "2020-09-29 23:08:07,696 - june.simulator - INFO - CMS: Infection COMS for rank 0/1 - 4.269999408279546e-06,3.337860107421875e-06 - 2020-04-27 09:00:00\n",
      "2020-09-29 23:08:07,806 - june.simulator - INFO - CMS: Timestep for rank 0/1 - 0.632621337999808, 0.6326220035552979 - 2020-04-27 09:00:00\n",
      "2020-09-29 23:08:08,423 - june.activity.activity_manager - INFO - CMS: People COMS for rank 0/1 - 4.720999640994705e-06,4.0531158447265625e-06 - 2020-04-27 10:00:00\n",
      "2020-09-29 23:08:08,430 - june.simulator - INFO - Date = 2020-04-27 10:00:00, number of deaths =  95, number of infected = 3064\n",
      "2020-09-29 23:08:08,656 - june.simulator - INFO - CMS: Infection COMS for rank 0/1 - 8.94699951459188e-06,5.4836273193359375e-06 - 2020-04-27 10:00:00\n",
      "2020-09-29 23:08:08,762 - june.simulator - INFO - CMS: Timestep for rank 0/1 - 0.9555417749998014, 0.955542802810669 - 2020-04-27 10:00:00\n",
      "2020-09-29 23:08:09,164 - june.activity.activity_manager - INFO - CMS: People COMS for rank 0/1 - 4.989000444766134e-06,4.291534423828125e-06 - 2020-04-27 13:00:00\n",
      "2020-09-29 23:08:09,170 - june.simulator - INFO - Date = 2020-04-27 13:00:00, number of deaths =  96, number of infected = 3014\n",
      "2020-09-29 23:08:09,301 - june.simulator - INFO - CMS: Infection COMS for rank 0/1 - 3.7929985410301015e-06,2.6226043701171875e-06 - 2020-04-27 13:00:00\n",
      "2020-09-29 23:08:09,420 - june.simulator - INFO - CMS: Timestep for rank 0/1 - 0.6571632340001088, 0.6571633815765381 - 2020-04-27 13:00:00\n",
      "2020-09-29 23:08:09,796 - june.activity.activity_manager - INFO - CMS: People COMS for rank 0/1 - 5.032001354265958e-06,3.814697265625e-06 - 2020-04-28 00:00:00\n",
      "2020-09-29 23:08:09,804 - june.simulator - INFO - Date = 2020-04-28 00:00:00, number of deaths =  96, number of infected = 2885\n",
      "2020-09-29 23:08:09,964 - june.simulator - INFO - CMS: Infection COMS for rank 0/1 - 2.9530001484090462e-06,2.6226043701171875e-06 - 2020-04-28 00:00:00\n",
      "2020-09-29 23:08:10,080 - june.simulator - INFO - CMS: Timestep for rank 0/1 - 0.6588968590003788, 0.6588983535766602 - 2020-04-28 00:00:00\n",
      "2020-09-29 23:08:10,547 - june.activity.activity_manager - INFO - CMS: People COMS for rank 0/1 - 4.505998731474392e-06,3.814697265625e-06 - 2020-04-28 01:00:00\n",
      "2020-09-29 23:08:10,552 - june.simulator - INFO - Date = 2020-04-28 01:00:00, number of deaths =  96, number of infected = 2874\n",
      "2020-09-29 23:08:10,712 - june.simulator - INFO - CMS: Infection COMS for rank 0/1 - 2.869999661925249e-06,2.6226043701171875e-06 - 2020-04-28 01:00:00\n",
      "2020-09-29 23:08:10,846 - june.simulator - INFO - CMS: Timestep for rank 0/1 - 0.7654022410006291, 0.7654027938842773 - 2020-04-28 01:00:00\n",
      "2020-09-29 23:08:11,358 - june.activity.activity_manager - INFO - CMS: People COMS for rank 0/1 - 4.565999915939756e-06,4.0531158447265625e-06 - 2020-04-28 09:00:00\n",
      "2020-09-29 23:08:11,364 - june.simulator - INFO - Date = 2020-04-28 09:00:00, number of deaths =  97, number of infected = 2742\n",
      "2020-09-29 23:08:11,517 - june.simulator - INFO - CMS: Infection COMS for rank 0/1 - 2.8670001483988017e-06,2.384185791015625e-06 - 2020-04-28 09:00:00\n",
      "2020-09-29 23:08:11,657 - june.simulator - INFO - CMS: Timestep for rank 0/1 - 0.8103510360015207, 0.8103516101837158 - 2020-04-28 09:00:00\n",
      "2020-09-29 23:08:12,386 - june.activity.activity_manager - INFO - CMS: People COMS for rank 0/1 - 5.55500082555227e-06,4.291534423828125e-06 - 2020-04-28 10:00:00\n",
      "2020-09-29 23:08:12,394 - june.simulator - INFO - Date = 2020-04-28 10:00:00, number of deaths =  97, number of infected = 2730\n",
      "2020-09-29 23:08:12,542 - june.simulator - INFO - CMS: Infection COMS for rank 0/1 - 2.9450002330122516e-06,2.384185791015625e-06 - 2020-04-28 10:00:00\n",
      "2020-09-29 23:08:12,653 - june.simulator - INFO - CMS: Timestep for rank 0/1 - 0.9949708050007757, 0.994971513748169 - 2020-04-28 10:00:00\n",
      "2020-09-29 23:08:13,143 - june.activity.activity_manager - INFO - CMS: People COMS for rank 0/1 - 4.602999979397282e-06,3.814697265625e-06 - 2020-04-28 13:00:00\n",
      "2020-09-29 23:08:13,148 - june.simulator - INFO - Date = 2020-04-28 13:00:00, number of deaths =  97, number of infected = 2698\n",
      "2020-09-29 23:08:13,288 - june.simulator - INFO - CMS: Infection COMS for rank 0/1 - 3.4479999158065766e-06,2.86102294921875e-06 - 2020-04-28 13:00:00\n",
      "2020-09-29 23:08:13,451 - june.simulator - INFO - CMS: Timestep for rank 0/1 - 0.7971999349992984, 0.79720139503479 - 2020-04-28 13:00:00\n",
      "2020-09-29 23:08:13,900 - june.activity.activity_manager - INFO - CMS: People COMS for rank 0/1 - 4.8580004659015685e-06,4.0531158447265625e-06 - 2020-04-29 00:00:00\n",
      "2020-09-29 23:08:13,906 - june.simulator - INFO - Date = 2020-04-29 00:00:00, number of deaths =  97, number of infected = 2575\n",
      "2020-09-29 23:08:14,024 - june.simulator - INFO - CMS: Infection COMS for rank 0/1 - 2.871000106097199e-06,2.1457672119140625e-06 - 2020-04-29 00:00:00\n",
      "2020-09-29 23:08:14,131 - june.simulator - INFO - CMS: Timestep for rank 0/1 - 0.6776437569988047, 0.6776437759399414 - 2020-04-29 00:00:00\n",
      "2020-09-29 23:08:14,697 - june.activity.activity_manager - INFO - CMS: People COMS for rank 0/1 - 3.834000381175429e-06,3.0994415283203125e-06 - 2020-04-29 01:00:00\n",
      "2020-09-29 23:08:14,706 - june.simulator - INFO - Date = 2020-04-29 01:00:00, number of deaths =  97, number of infected = 2556\n",
      "2020-09-29 23:08:14,872 - june.simulator - INFO - CMS: Infection COMS for rank 0/1 - 3.441000444581732e-06,2.86102294921875e-06 - 2020-04-29 01:00:00\n",
      "2020-09-29 23:08:14,984 - june.simulator - INFO - CMS: Timestep for rank 0/1 - 0.8524135759998899, 0.8524148464202881 - 2020-04-29 01:00:00\n",
      "2020-09-29 23:08:15,369 - june.activity.activity_manager - INFO - CMS: People COMS for rank 0/1 - 5.226000212132931e-06,3.814697265625e-06 - 2020-04-29 09:00:00\n",
      "2020-09-29 23:08:15,374 - june.simulator - INFO - Date = 2020-04-29 09:00:00, number of deaths =  97, number of infected = 2478\n",
      "2020-09-29 23:08:15,509 - june.simulator - INFO - CMS: Infection COMS for rank 0/1 - 3.097000444540754e-06,2.6226043701171875e-06 - 2020-04-29 09:00:00\n",
      "2020-09-29 23:08:15,611 - june.simulator - INFO - CMS: Timestep for rank 0/1 - 0.6243743730010465, 0.6243743896484375 - 2020-04-29 09:00:00\n",
      "2020-09-29 23:08:16,174 - june.activity.activity_manager - INFO - CMS: People COMS for rank 0/1 - 4.558000000542961e-06,4.0531158447265625e-06 - 2020-04-29 10:00:00\n",
      "2020-09-29 23:08:16,181 - june.simulator - INFO - Date = 2020-04-29 10:00:00, number of deaths =  97, number of infected = 2472\n",
      "2020-09-29 23:08:16,327 - june.simulator - INFO - CMS: Infection COMS for rank 0/1 - 2.597000275272876e-06,1.9073486328125e-06 - 2020-04-29 10:00:00\n",
      "2020-09-29 23:08:16,441 - june.simulator - INFO - CMS: Timestep for rank 0/1 - 0.8301881539991882, 0.8301887512207031 - 2020-04-29 10:00:00\n",
      "2020-09-29 23:08:16,799 - june.activity.activity_manager - INFO - CMS: People COMS for rank 0/1 - 5.081999916001223e-06,4.291534423828125e-06 - 2020-04-29 13:00:00\n",
      "2020-09-29 23:08:16,805 - june.simulator - INFO - Date = 2020-04-29 13:00:00, number of deaths =  97, number of infected = 2431\n",
      "2020-09-29 23:08:16,951 - june.simulator - INFO - CMS: Infection COMS for rank 0/1 - 3.155999365844764e-06,2.6226043701171875e-06 - 2020-04-29 13:00:00\n",
      "2020-09-29 23:08:17,075 - june.simulator - INFO - CMS: Timestep for rank 0/1 - 0.6326856479990965, 0.6326863765716553 - 2020-04-29 13:00:00\n",
      "CPU times: user 3min 32s, sys: 2.78 s, total: 3min 34s\n",
      "Wall time: 3min 32s\n"
     ]
    }
   ],
   "source": [
    "%%time\n",
    "simulator.run()"
   ]
  },
  {
   "cell_type": "markdown",
   "metadata": {},
   "source": [
    "While the simulation runs (and afterwards) we can launch the visualization webpage by running\n",
    "```python june/visualizer.py path/to/results``` "
   ]
  },
  {
   "cell_type": "markdown",
   "metadata": {},
   "source": [
    "# Getting the results"
   ]
  },
  {
   "cell_type": "markdown",
   "metadata": {},
   "source": [
    "All results are stored in a json file specified in the ``record.record_path`` folder. Summaries are found under ``summary.csv``"
   ]
  },
  {
   "cell_type": "code",
   "execution_count": 30,
   "metadata": {},
   "outputs": [],
   "source": [
    "import pandas as pd"
   ]
  },
  {
   "cell_type": "code",
   "execution_count": 31,
   "metadata": {},
   "outputs": [],
   "source": [
    "read = RecordReader()"
   ]
  },
  {
   "cell_type": "markdown",
   "metadata": {},
   "source": [
    "## Contains summaries with regional information"
   ]
  },
  {
   "cell_type": "code",
   "execution_count": 38,
   "metadata": {},
   "outputs": [
    {
     "data": {
      "text/html": [
       "<div>\n",
       "<style scoped>\n",
       "    .dataframe tbody tr th:only-of-type {\n",
       "        vertical-align: middle;\n",
       "    }\n",
       "\n",
       "    .dataframe tbody tr th {\n",
       "        vertical-align: top;\n",
       "    }\n",
       "\n",
       "    .dataframe thead th {\n",
       "        text-align: right;\n",
       "    }\n",
       "</style>\n",
       "<table border=\"1\" class=\"dataframe\">\n",
       "  <thead>\n",
       "    <tr style=\"text-align: right;\">\n",
       "      <th></th>\n",
       "      <th>region</th>\n",
       "      <th>current_infected</th>\n",
       "      <th>daily_infected</th>\n",
       "      <th>current_recovered</th>\n",
       "      <th>daily_recovered</th>\n",
       "      <th>current_hospitalised</th>\n",
       "      <th>daily_hospitalised</th>\n",
       "      <th>current_intensive_care</th>\n",
       "      <th>daily_intensive_care</th>\n",
       "      <th>current_susceptible</th>\n",
       "      <th>daily_hospital_deaths</th>\n",
       "      <th>daily_deaths</th>\n",
       "    </tr>\n",
       "    <tr>\n",
       "      <th>time_stamp</th>\n",
       "      <th></th>\n",
       "      <th></th>\n",
       "      <th></th>\n",
       "      <th></th>\n",
       "      <th></th>\n",
       "      <th></th>\n",
       "      <th></th>\n",
       "      <th></th>\n",
       "      <th></th>\n",
       "      <th></th>\n",
       "      <th></th>\n",
       "      <th></th>\n",
       "    </tr>\n",
       "  </thead>\n",
       "  <tbody>\n",
       "    <tr>\n",
       "      <th>2020-03-01</th>\n",
       "      <td>East of England</td>\n",
       "      <td>20.00</td>\n",
       "      <td>0</td>\n",
       "      <td>0.0</td>\n",
       "      <td>0</td>\n",
       "      <td>0.0</td>\n",
       "      <td>0</td>\n",
       "      <td>0.0</td>\n",
       "      <td>0</td>\n",
       "      <td>14322.00</td>\n",
       "      <td>0</td>\n",
       "      <td>0</td>\n",
       "    </tr>\n",
       "    <tr>\n",
       "      <th>2020-03-01</th>\n",
       "      <td>London</td>\n",
       "      <td>10.25</td>\n",
       "      <td>1</td>\n",
       "      <td>0.0</td>\n",
       "      <td>0</td>\n",
       "      <td>0.0</td>\n",
       "      <td>0</td>\n",
       "      <td>0.0</td>\n",
       "      <td>0</td>\n",
       "      <td>10762.75</td>\n",
       "      <td>0</td>\n",
       "      <td>0</td>\n",
       "    </tr>\n",
       "    <tr>\n",
       "      <th>2020-03-01</th>\n",
       "      <td>North East</td>\n",
       "      <td>20.75</td>\n",
       "      <td>1</td>\n",
       "      <td>0.0</td>\n",
       "      <td>0</td>\n",
       "      <td>0.0</td>\n",
       "      <td>0</td>\n",
       "      <td>0.0</td>\n",
       "      <td>0</td>\n",
       "      <td>19178.25</td>\n",
       "      <td>0</td>\n",
       "      <td>0</td>\n",
       "    </tr>\n",
       "    <tr>\n",
       "      <th>2020-03-02</th>\n",
       "      <td>East of England</td>\n",
       "      <td>23.20</td>\n",
       "      <td>5</td>\n",
       "      <td>0.0</td>\n",
       "      <td>0</td>\n",
       "      <td>0.0</td>\n",
       "      <td>0</td>\n",
       "      <td>0.0</td>\n",
       "      <td>0</td>\n",
       "      <td>14318.80</td>\n",
       "      <td>0</td>\n",
       "      <td>0</td>\n",
       "    </tr>\n",
       "    <tr>\n",
       "      <th>2020-03-02</th>\n",
       "      <td>London</td>\n",
       "      <td>12.60</td>\n",
       "      <td>2</td>\n",
       "      <td>0.0</td>\n",
       "      <td>0</td>\n",
       "      <td>0.0</td>\n",
       "      <td>0</td>\n",
       "      <td>0.0</td>\n",
       "      <td>0</td>\n",
       "      <td>10760.40</td>\n",
       "      <td>0</td>\n",
       "      <td>0</td>\n",
       "    </tr>\n",
       "    <tr>\n",
       "      <th>...</th>\n",
       "      <td>...</td>\n",
       "      <td>...</td>\n",
       "      <td>...</td>\n",
       "      <td>...</td>\n",
       "      <td>...</td>\n",
       "      <td>...</td>\n",
       "      <td>...</td>\n",
       "      <td>...</td>\n",
       "      <td>...</td>\n",
       "      <td>...</td>\n",
       "      <td>...</td>\n",
       "      <td>...</td>\n",
       "    </tr>\n",
       "    <tr>\n",
       "      <th>2020-04-28</th>\n",
       "      <td>London</td>\n",
       "      <td>646.60</td>\n",
       "      <td>4</td>\n",
       "      <td>4364.4</td>\n",
       "      <td>74</td>\n",
       "      <td>0.0</td>\n",
       "      <td>0</td>\n",
       "      <td>0.0</td>\n",
       "      <td>0</td>\n",
       "      <td>5743.00</td>\n",
       "      <td>0</td>\n",
       "      <td>0</td>\n",
       "    </tr>\n",
       "    <tr>\n",
       "      <th>2020-04-28</th>\n",
       "      <td>North East</td>\n",
       "      <td>1061.00</td>\n",
       "      <td>4</td>\n",
       "      <td>7199.8</td>\n",
       "      <td>139</td>\n",
       "      <td>273.8</td>\n",
       "      <td>0</td>\n",
       "      <td>10.4</td>\n",
       "      <td>0</td>\n",
       "      <td>10922.20</td>\n",
       "      <td>1</td>\n",
       "      <td>0</td>\n",
       "    </tr>\n",
       "    <tr>\n",
       "      <th>2020-04-29</th>\n",
       "      <td>East of England</td>\n",
       "      <td>915.20</td>\n",
       "      <td>4</td>\n",
       "      <td>7298.8</td>\n",
       "      <td>106</td>\n",
       "      <td>0.0</td>\n",
       "      <td>0</td>\n",
       "      <td>0.0</td>\n",
       "      <td>0</td>\n",
       "      <td>6066.00</td>\n",
       "      <td>0</td>\n",
       "      <td>0</td>\n",
       "    </tr>\n",
       "    <tr>\n",
       "      <th>2020-04-29</th>\n",
       "      <td>London</td>\n",
       "      <td>590.80</td>\n",
       "      <td>8</td>\n",
       "      <td>4427.2</td>\n",
       "      <td>60</td>\n",
       "      <td>0.0</td>\n",
       "      <td>0</td>\n",
       "      <td>0.0</td>\n",
       "      <td>0</td>\n",
       "      <td>5736.00</td>\n",
       "      <td>0</td>\n",
       "      <td>0</td>\n",
       "    </tr>\n",
       "    <tr>\n",
       "      <th>2020-04-29</th>\n",
       "      <td>North East</td>\n",
       "      <td>944.80</td>\n",
       "      <td>3</td>\n",
       "      <td>7318.8</td>\n",
       "      <td>107</td>\n",
       "      <td>273.2</td>\n",
       "      <td>1</td>\n",
       "      <td>11.2</td>\n",
       "      <td>0</td>\n",
       "      <td>10919.40</td>\n",
       "      <td>0</td>\n",
       "      <td>0</td>\n",
       "    </tr>\n",
       "  </tbody>\n",
       "</table>\n",
       "<p>180 rows × 12 columns</p>\n",
       "</div>"
      ],
      "text/plain": [
       "                     region  current_infected  daily_infected  \\\n",
       "time_stamp                                                      \n",
       "2020-03-01  East of England             20.00               0   \n",
       "2020-03-01           London             10.25               1   \n",
       "2020-03-01       North East             20.75               1   \n",
       "2020-03-02  East of England             23.20               5   \n",
       "2020-03-02           London             12.60               2   \n",
       "...                     ...               ...             ...   \n",
       "2020-04-28           London            646.60               4   \n",
       "2020-04-28       North East           1061.00               4   \n",
       "2020-04-29  East of England            915.20               4   \n",
       "2020-04-29           London            590.80               8   \n",
       "2020-04-29       North East            944.80               3   \n",
       "\n",
       "            current_recovered  daily_recovered  current_hospitalised  \\\n",
       "time_stamp                                                             \n",
       "2020-03-01                0.0                0                   0.0   \n",
       "2020-03-01                0.0                0                   0.0   \n",
       "2020-03-01                0.0                0                   0.0   \n",
       "2020-03-02                0.0                0                   0.0   \n",
       "2020-03-02                0.0                0                   0.0   \n",
       "...                       ...              ...                   ...   \n",
       "2020-04-28             4364.4               74                   0.0   \n",
       "2020-04-28             7199.8              139                 273.8   \n",
       "2020-04-29             7298.8              106                   0.0   \n",
       "2020-04-29             4427.2               60                   0.0   \n",
       "2020-04-29             7318.8              107                 273.2   \n",
       "\n",
       "            daily_hospitalised  current_intensive_care  daily_intensive_care  \\\n",
       "time_stamp                                                                     \n",
       "2020-03-01                   0                     0.0                     0   \n",
       "2020-03-01                   0                     0.0                     0   \n",
       "2020-03-01                   0                     0.0                     0   \n",
       "2020-03-02                   0                     0.0                     0   \n",
       "2020-03-02                   0                     0.0                     0   \n",
       "...                        ...                     ...                   ...   \n",
       "2020-04-28                   0                     0.0                     0   \n",
       "2020-04-28                   0                    10.4                     0   \n",
       "2020-04-29                   0                     0.0                     0   \n",
       "2020-04-29                   0                     0.0                     0   \n",
       "2020-04-29                   1                    11.2                     0   \n",
       "\n",
       "            current_susceptible  daily_hospital_deaths  daily_deaths  \n",
       "time_stamp                                                            \n",
       "2020-03-01             14322.00                      0             0  \n",
       "2020-03-01             10762.75                      0             0  \n",
       "2020-03-01             19178.25                      0             0  \n",
       "2020-03-02             14318.80                      0             0  \n",
       "2020-03-02             10760.40                      0             0  \n",
       "...                         ...                    ...           ...  \n",
       "2020-04-28              5743.00                      0             0  \n",
       "2020-04-28             10922.20                      1             0  \n",
       "2020-04-29              6066.00                      0             0  \n",
       "2020-04-29              5736.00                      0             0  \n",
       "2020-04-29             10919.40                      0             0  \n",
       "\n",
       "[180 rows x 12 columns]"
      ]
     },
     "execution_count": 38,
     "metadata": {},
     "output_type": "execute_result"
    }
   ],
   "source": [
    "read.regional_summary"
   ]
  },
  {
   "cell_type": "code",
   "execution_count": 42,
   "metadata": {
    "scrolled": false
   },
   "outputs": [
    {
     "data": {
      "image/png": "[encoded data removed]",
      "text/plain": [
       "<Figure size 576x432 with 1 Axes>"
      ]
     },
     "metadata": {
      "needs_background": "light"
     },
     "output_type": "display_data"
    },
    {
     "data": {
      "image/png": "[encoded data removed]",
      "text/plain": [
       "<Figure size 576x432 with 1 Axes>"
      ]
     },
     "metadata": {
      "needs_background": "light"
     },
     "output_type": "display_data"
    },
    {
     "data": {
      "image/png": "[encoded data removed]",
      "text/plain": [
       "<Figure size 576x432 with 1 Axes>"
      ]
     },
     "metadata": {
      "needs_background": "light"
     },
     "output_type": "display_data"
    }
   ],
   "source": [
    "for region in read.regional_summary['region'].unique():\n",
    "    read.regional_summary[read.regional_summary['region'] == region]['current_infected'].plot()\n",
    "    read.regional_summary[read.regional_summary['region'] == region]['current_susceptible'].plot()\n",
    "    plt.title(region)\n",
    "    plt.show()"
   ]
  },
  {
   "cell_type": "code",
   "execution_count": 43,
   "metadata": {},
   "outputs": [
    {
     "data": {
      "text/plain": [
       "<matplotlib.axes._subplots.AxesSubplot at 0x7fdd7aad0fa0>"
      ]
     },
     "execution_count": 43,
     "metadata": {},
     "output_type": "execute_result"
    },
    {
     "data": {
      "image/png": "[encoded data removed]",
      "text/plain": [
       "<Figure size 576x432 with 1 Axes>"
      ]
     },
     "metadata": {
      "needs_background": "light"
     },
     "output_type": "display_data"
    }
   ],
   "source": [
    "read.world_summary['current_infected'].plot()\n",
    "read.world_summary['current_susceptible'].plot()"
   ]
  },
  {
   "cell_type": "markdown",
   "metadata": {},
   "source": [
    "# Asking questions to the records"
   ]
  },
  {
   "cell_type": "markdown",
   "metadata": {},
   "source": [
    "## Sero-prevalence by age"
   ]
  },
  {
   "cell_type": "code",
   "execution_count": 44,
   "metadata": {},
   "outputs": [],
   "source": [
    "infections_df = read.get_table_with_extras('infections', 'infected_ids')"
   ]
  },
  {
   "cell_type": "code",
   "execution_count": 45,
   "metadata": {},
   "outputs": [],
   "source": [
    "deaths_df = read.get_table_with_extras('deaths', 'dead_person_ids')"
   ]
  },
  {
   "cell_type": "code",
   "execution_count": 46,
   "metadata": {},
   "outputs": [],
   "source": [
    "age_bins = (0,20,60,100)"
   ]
  },
  {
   "cell_type": "code",
   "execution_count": 47,
   "metadata": {},
   "outputs": [],
   "source": [
    "infected_by_age = infections_df.groupby([pd.cut(infections_df['age'],\n",
    "            bins=age_bins), 'timestamp']).size()"
   ]
  },
  {
   "cell_type": "code",
   "execution_count": 48,
   "metadata": {},
   "outputs": [],
   "source": [
    "people_df = read.table_to_df('population')"
   ]
  },
  {
   "cell_type": "code",
   "execution_count": 49,
   "metadata": {},
   "outputs": [],
   "source": [
    "n_by_age = people_df.groupby(pd.cut(people_df['age'],\n",
    "            bins=age_bins)).size()"
   ]
  },
  {
   "cell_type": "code",
   "execution_count": 50,
   "metadata": {},
   "outputs": [
    {
     "data": {
      "text/plain": [
       "<matplotlib.legend.Legend at 0x7fdd79910b50>"
      ]
     },
     "execution_count": 50,
     "metadata": {},
     "output_type": "execute_result"
    },
    {
     "data": {
      "image/png": "[encoded data removed]",
      "text/plain": [
       "<Figure size 576x432 with 1 Axes>"
      ]
     },
     "metadata": {
      "needs_background": "light"
     },
     "output_type": "display_data"
    }
   ],
   "source": [
    "(100*infected_by_age/n_by_age).xs(10).cumsum().plot(label='0,20')\n",
    "(100*infected_by_age/n_by_age).xs(30).cumsum().plot(label='20,60')\n",
    "(100*infected_by_age/n_by_age).xs(70).cumsum().plot(label='60,100')\n",
    "plt.legend()"
   ]
  },
  {
   "cell_type": "markdown",
   "metadata": {},
   "source": [
    "## Care home deaths in hospital"
   ]
  },
  {
   "cell_type": "code",
   "execution_count": 51,
   "metadata": {},
   "outputs": [],
   "source": [
    "care_home_deaths_hospital = deaths_df[\n",
    "    (deaths_df['location_specs'] == 'hospital') & (deaths_df['residence_type'] == 'care_home')\n",
    "]\n",
    "care_home_deaths_hospital=care_home_deaths_hospital.groupby(['name_region', 'timestamp']).size()"
   ]
  },
  {
   "cell_type": "code",
   "execution_count": 52,
   "metadata": {},
   "outputs": [
    {
     "data": {
      "text/plain": [
       "name_region      timestamp \n",
       "East of England  2020-03-29    1\n",
       "                 2020-03-30    1\n",
       "                 2020-04-05    2\n",
       "                 2020-04-10    1\n",
       "                 2020-04-17    2\n",
       "                 2020-04-26    1\n",
       "North East       2020-04-16    1\n",
       "                 2020-04-18    1\n",
       "dtype: int64"
      ]
     },
     "execution_count": 52,
     "metadata": {},
     "output_type": "execute_result"
    }
   ],
   "source": [
    "care_home_deaths_hospital"
   ]
  },
  {
   "cell_type": "markdown",
   "metadata": {},
   "source": [
    "## Where people get infected as a function of time"
   ]
  },
  {
   "cell_type": "code",
   "execution_count": 53,
   "metadata": {},
   "outputs": [],
   "source": [
    "locations_df = infections_df.groupby(['location_specs', 'timestamp']).size()"
   ]
  },
  {
   "cell_type": "code",
   "execution_count": 54,
   "metadata": {},
   "outputs": [
    {
     "data": {
      "text/plain": [
       "<matplotlib.axes._subplots.AxesSubplot at 0x7fdd798dc760>"
      ]
     },
     "execution_count": 54,
     "metadata": {},
     "output_type": "execute_result"
    },
    {
     "data": {
      "image/png": "[encoded data removed]",
      "text/plain": [
       "<Figure size 576x432 with 1 Axes>"
      ]
     },
     "metadata": {
      "needs_background": "light"
     },
     "output_type": "display_data"
    }
   ],
   "source": [
    "locations_df.unstack(level=0).plot()"
   ]
  },
  {
   "cell_type": "code",
   "execution_count": 55,
   "metadata": {},
   "outputs": [
    {
     "data": {
      "text/plain": [
       "Text(0.5, 0, 'location')"
      ]
     },
     "execution_count": 55,
     "metadata": {},
     "output_type": "execute_result"
    },
    {
     "data": {
      "image/png": "[encoded data removed]",
      "text/plain": [
       "<Figure size 576x432 with 1 Axes>"
      ]
     },
     "metadata": {
      "needs_background": "light"
     },
     "output_type": "display_data"
    }
   ],
   "source": [
    "import matplotlib.ticker as mtick\n",
    "location_counts_df = locations_df.groupby('location_specs').size()\n",
    "location_counts_df = 100*location_counts_df / location_counts_df.sum()\n",
    "ax = location_counts_df.sort_values().plot.bar()\n",
    "ax.yaxis.set_major_formatter(mtick.PercentFormatter())\n",
    "plt.ylabel('Percentage of infections at location')\n",
    "plt.xlabel('location')\n"
   ]
  },
  {
   "cell_type": "markdown",
   "metadata": {},
   "source": [
    "## Where people of certain age get infected as a function of time"
   ]
  },
  {
   "cell_type": "code",
   "execution_count": 56,
   "metadata": {},
   "outputs": [],
   "source": [
    "old_locations_df = infections_df[infections_df.age > 65].groupby(['location_specs', 'timestamp']).size()"
   ]
  },
  {
   "cell_type": "code",
   "execution_count": 57,
   "metadata": {},
   "outputs": [
    {
     "data": {
      "text/plain": [
       "<matplotlib.axes._subplots.AxesSubplot at 0x7fdd797097c0>"
      ]
     },
     "execution_count": 57,
     "metadata": {},
     "output_type": "execute_result"
    },
    {
     "data": {
      "image/png": "[encoded data removed]",
      "text/plain": [
       "<Figure size 576x432 with 1 Axes>"
      ]
     },
     "metadata": {
      "needs_background": "light"
     },
     "output_type": "display_data"
    }
   ],
   "source": [
    "old_locations_df.unstack(level=0).plot()"
   ]
  },
  {
   "cell_type": "markdown",
   "metadata": {},
   "source": [
    "## Prevalence by household size"
   ]
  },
  {
   "cell_type": "code",
   "execution_count": 58,
   "metadata": {},
   "outputs": [],
   "source": [
    "household_people = people_df[people_df['residence_type'] == 'household']"
   ]
  },
  {
   "cell_type": "code",
   "execution_count": 59,
   "metadata": {},
   "outputs": [],
   "source": [
    "household_sizes = household_people.groupby('residence_id').size()"
   ]
  },
  {
   "cell_type": "code",
   "execution_count": 60,
   "metadata": {},
   "outputs": [
    {
     "data": {
      "text/plain": [
       "<matplotlib.axes._subplots.AxesSubplot at 0x7fdd777e4c10>"
      ]
     },
     "execution_count": 60,
     "metadata": {},
     "output_type": "execute_result"
    },
    {
     "data": {
      "image/png": "[encoded data removed]",
      "text/plain": [
       "<Figure size 576x432 with 1 Axes>"
      ]
     },
     "metadata": {
      "needs_background": "light"
     },
     "output_type": "display_data"
    }
   ],
   "source": [
    "household_sizes.hist() # in units of households"
   ]
  },
  {
   "cell_type": "code",
   "execution_count": 61,
   "metadata": {},
   "outputs": [
    {
     "name": "stderr",
     "output_type": "stream",
     "text": [
      "/home/florpi/.local/lib/python3.8/site-packages/pandas/core/indexing.py:845: SettingWithCopyWarning: \n",
      "A value is trying to be set on a copy of a slice from a DataFrame.\n",
      "Try using .loc[row_indexer,col_indexer] = value instead\n",
      "\n",
      "See the caveats in the documentation: https://pandas.pydata.org/pandas-docs/stable/user_guide/indexing.html#returning-a-view-versus-a-copy\n",
      "  self.obj[key] = _infer_fill_value(value)\n",
      "/home/florpi/.local/lib/python3.8/site-packages/pandas/core/indexing.py:966: SettingWithCopyWarning: \n",
      "A value is trying to be set on a copy of a slice from a DataFrame.\n",
      "Try using .loc[row_indexer,col_indexer] = value instead\n",
      "\n",
      "See the caveats in the documentation: https://pandas.pydata.org/pandas-docs/stable/user_guide/indexing.html#returning-a-view-versus-a-copy\n",
      "  self.obj[item] = s\n"
     ]
    }
   ],
   "source": [
    "household_people.loc[:,'household_size'] = household_sizes.loc[\n",
    "    household_people['residence_id']\n",
    "].copy(deep=True).values"
   ]
  },
  {
   "cell_type": "code",
   "execution_count": 62,
   "metadata": {},
   "outputs": [
    {
     "data": {
      "text/plain": [
       "<matplotlib.axes._subplots.AxesSubplot at 0x7fdd7778f8b0>"
      ]
     },
     "execution_count": 62,
     "metadata": {},
     "output_type": "execute_result"
    },
    {
     "data": {
      "image/png": "[encoded data removed]",
      "text/plain": [
       "<Figure size 576x432 with 1 Axes>"
      ]
     },
     "metadata": {
      "needs_background": "light"
     },
     "output_type": "display_data"
    }
   ],
   "source": [
    "household_people['household_size'].hist() # in units of people"
   ]
  },
  {
   "cell_type": "code",
   "execution_count": 63,
   "metadata": {},
   "outputs": [],
   "source": [
    "household_infections_df = infections_df.merge(household_people['household_size'], left_index=True, right_index=True, how='inner')"
   ]
  },
  {
   "cell_type": "code",
   "execution_count": 64,
   "metadata": {},
   "outputs": [
    {
     "data": {
      "text/plain": [
       "(0.0, 8.0)"
      ]
     },
     "execution_count": 64,
     "metadata": {},
     "output_type": "execute_result"
    },
    {
     "data": {
      "image/png": "[encoded data removed]",
      "text/plain": [
       "<Figure size 576x432 with 1 Axes>"
      ]
     },
     "metadata": {
      "needs_background": "light"
     },
     "output_type": "display_data"
    }
   ],
   "source": [
    "(household_infections_df.groupby('household_size').size()/household_people.groupby('household_size').size()).plot()\n",
    "plt.xlabel('Household size')\n",
    "plt.ylabel('% of people infected by household size')\n",
    "plt.xlim(0,8)"
   ]
  },
  {
   "cell_type": "code",
   "execution_count": 65,
   "metadata": {},
   "outputs": [],
   "source": [
    "# How many households have everyone infected?"
   ]
  },
  {
   "cell_type": "code",
   "execution_count": 66,
   "metadata": {},
   "outputs": [],
   "source": [
    "n_infected_by_household = infections_df[\n",
    "    infections_df['residence_type'] == 'household'\n",
    "].groupby('residence_id').size()"
   ]
  },
  {
   "cell_type": "code",
   "execution_count": 67,
   "metadata": {},
   "outputs": [],
   "source": [
    "n_total_in_household = household_people[\n",
    "    household_people['residence_id'].isin(n_infected_by_household.index)\n",
    "].groupby('residence_id').size()"
   ]
  },
  {
   "cell_type": "code",
   "execution_count": 68,
   "metadata": {},
   "outputs": [
    {
     "data": {
      "text/plain": [
       "Text(0.5, 0, '% of the household infected')"
      ]
     },
     "execution_count": 68,
     "metadata": {},
     "output_type": "execute_result"
    },
    {
     "data": {
      "image/png": "[encoded data removed]",
      "text/plain": [
       "<Figure size 576x432 with 1 Axes>"
      ]
     },
     "metadata": {
      "needs_background": "light"
     },
     "output_type": "display_data"
    }
   ],
   "source": [
    "(n_infected_by_household/n_total_in_household).hist()\n",
    "plt.xlabel('% of the household infected')"
   ]
  },
  {
   "cell_type": "markdown",
   "metadata": {},
   "source": [
    "## Percentage of infected per care home"
   ]
  },
  {
   "cell_type": "code",
   "execution_count": 75,
   "metadata": {},
   "outputs": [
    {
     "data": {
      "text/html": [
       "<div>\n",
       "<style scoped>\n",
       "    .dataframe tbody tr th:only-of-type {\n",
       "        vertical-align: middle;\n",
       "    }\n",
       "\n",
       "    .dataframe tbody tr th {\n",
       "        vertical-align: top;\n",
       "    }\n",
       "\n",
       "    .dataframe thead th {\n",
       "        text-align: right;\n",
       "    }\n",
       "</style>\n",
       "<table border=\"1\" class=\"dataframe\">\n",
       "  <thead>\n",
       "    <tr style=\"text-align: right;\">\n",
       "      <th></th>\n",
       "      <th>timestamp</th>\n",
       "      <th>location_ids</th>\n",
       "      <th>location_specs</th>\n",
       "      <th>age</th>\n",
       "      <th>socioeconomic_index</th>\n",
       "      <th>primary_activity_id</th>\n",
       "      <th>residence_id</th>\n",
       "      <th>area_id</th>\n",
       "      <th>sex</th>\n",
       "      <th>ethnicity</th>\n",
       "      <th>primary_activity_type</th>\n",
       "      <th>residence_type</th>\n",
       "      <th>super_area_id</th>\n",
       "      <th>name_area</th>\n",
       "      <th>region_id</th>\n",
       "      <th>name_super_area</th>\n",
       "      <th>name_region</th>\n",
       "    </tr>\n",
       "  </thead>\n",
       "  <tbody>\n",
       "    <tr>\n",
       "      <th>20556</th>\n",
       "      <td>2020-03-22</td>\n",
       "      <td>8</td>\n",
       "      <td>carehome</td>\n",
       "      <td>77</td>\n",
       "      <td>8</td>\n",
       "      <td>0</td>\n",
       "      <td>8</td>\n",
       "      <td>68</td>\n",
       "      <td>m</td>\n",
       "      <td>A</td>\n",
       "      <td>None</td>\n",
       "      <td>care_home</td>\n",
       "      <td>2</td>\n",
       "      <td>E00004035</td>\n",
       "      <td>1</td>\n",
       "      <td>E02000134</td>\n",
       "      <td>London</td>\n",
       "    </tr>\n",
       "    <tr>\n",
       "      <th>20557</th>\n",
       "      <td>2020-03-22</td>\n",
       "      <td>8</td>\n",
       "      <td>carehome</td>\n",
       "      <td>79</td>\n",
       "      <td>8</td>\n",
       "      <td>0</td>\n",
       "      <td>8</td>\n",
       "      <td>68</td>\n",
       "      <td>f</td>\n",
       "      <td>A</td>\n",
       "      <td>None</td>\n",
       "      <td>care_home</td>\n",
       "      <td>2</td>\n",
       "      <td>E00004035</td>\n",
       "      <td>1</td>\n",
       "      <td>E02000134</td>\n",
       "      <td>London</td>\n",
       "    </tr>\n",
       "    <tr>\n",
       "      <th>20559</th>\n",
       "      <td>2020-03-22</td>\n",
       "      <td>8</td>\n",
       "      <td>carehome</td>\n",
       "      <td>80</td>\n",
       "      <td>8</td>\n",
       "      <td>0</td>\n",
       "      <td>8</td>\n",
       "      <td>68</td>\n",
       "      <td>m</td>\n",
       "      <td>A</td>\n",
       "      <td>None</td>\n",
       "      <td>care_home</td>\n",
       "      <td>2</td>\n",
       "      <td>E00004035</td>\n",
       "      <td>1</td>\n",
       "      <td>E02000134</td>\n",
       "      <td>London</td>\n",
       "    </tr>\n",
       "    <tr>\n",
       "      <th>20560</th>\n",
       "      <td>2020-03-22</td>\n",
       "      <td>8</td>\n",
       "      <td>carehome</td>\n",
       "      <td>81</td>\n",
       "      <td>8</td>\n",
       "      <td>0</td>\n",
       "      <td>8</td>\n",
       "      <td>68</td>\n",
       "      <td>m</td>\n",
       "      <td>A</td>\n",
       "      <td>None</td>\n",
       "      <td>care_home</td>\n",
       "      <td>2</td>\n",
       "      <td>E00004035</td>\n",
       "      <td>1</td>\n",
       "      <td>E02000134</td>\n",
       "      <td>London</td>\n",
       "    </tr>\n",
       "    <tr>\n",
       "      <th>20558</th>\n",
       "      <td>2020-03-25</td>\n",
       "      <td>8</td>\n",
       "      <td>carehome</td>\n",
       "      <td>79</td>\n",
       "      <td>8</td>\n",
       "      <td>0</td>\n",
       "      <td>8</td>\n",
       "      <td>68</td>\n",
       "      <td>f</td>\n",
       "      <td>A</td>\n",
       "      <td>None</td>\n",
       "      <td>care_home</td>\n",
       "      <td>2</td>\n",
       "      <td>E00004035</td>\n",
       "      <td>1</td>\n",
       "      <td>E02000134</td>\n",
       "      <td>London</td>\n",
       "    </tr>\n",
       "    <tr>\n",
       "      <th>...</th>\n",
       "      <td>...</td>\n",
       "      <td>...</td>\n",
       "      <td>...</td>\n",
       "      <td>...</td>\n",
       "      <td>...</td>\n",
       "      <td>...</td>\n",
       "      <td>...</td>\n",
       "      <td>...</td>\n",
       "      <td>...</td>\n",
       "      <td>...</td>\n",
       "      <td>...</td>\n",
       "      <td>...</td>\n",
       "      <td>...</td>\n",
       "      <td>...</td>\n",
       "      <td>...</td>\n",
       "      <td>...</td>\n",
       "      <td>...</td>\n",
       "    </tr>\n",
       "    <tr>\n",
       "      <th>6272</th>\n",
       "      <td>2020-04-02</td>\n",
       "      <td>2</td>\n",
       "      <td>carehome</td>\n",
       "      <td>99</td>\n",
       "      <td>9</td>\n",
       "      <td>0</td>\n",
       "      <td>2</td>\n",
       "      <td>21</td>\n",
       "      <td>f</td>\n",
       "      <td>A</td>\n",
       "      <td>None</td>\n",
       "      <td>care_home</td>\n",
       "      <td>0</td>\n",
       "      <td>E00120480</td>\n",
       "      <td>0</td>\n",
       "      <td>E02004935</td>\n",
       "      <td>East of England</td>\n",
       "    </tr>\n",
       "    <tr>\n",
       "      <th>6240</th>\n",
       "      <td>2020-04-02</td>\n",
       "      <td>2</td>\n",
       "      <td>carehome</td>\n",
       "      <td>83</td>\n",
       "      <td>9</td>\n",
       "      <td>0</td>\n",
       "      <td>2</td>\n",
       "      <td>21</td>\n",
       "      <td>f</td>\n",
       "      <td>A</td>\n",
       "      <td>None</td>\n",
       "      <td>care_home</td>\n",
       "      <td>0</td>\n",
       "      <td>E00120480</td>\n",
       "      <td>0</td>\n",
       "      <td>E02004935</td>\n",
       "      <td>East of England</td>\n",
       "    </tr>\n",
       "    <tr>\n",
       "      <th>6238</th>\n",
       "      <td>2020-04-04</td>\n",
       "      <td>2</td>\n",
       "      <td>carehome</td>\n",
       "      <td>83</td>\n",
       "      <td>9</td>\n",
       "      <td>0</td>\n",
       "      <td>2</td>\n",
       "      <td>21</td>\n",
       "      <td>f</td>\n",
       "      <td>A</td>\n",
       "      <td>None</td>\n",
       "      <td>care_home</td>\n",
       "      <td>0</td>\n",
       "      <td>E00120480</td>\n",
       "      <td>0</td>\n",
       "      <td>E02004935</td>\n",
       "      <td>East of England</td>\n",
       "    </tr>\n",
       "    <tr>\n",
       "      <th>26913</th>\n",
       "      <td>2020-04-01</td>\n",
       "      <td>10</td>\n",
       "      <td>carehome</td>\n",
       "      <td>87</td>\n",
       "      <td>1</td>\n",
       "      <td>0</td>\n",
       "      <td>10</td>\n",
       "      <td>89</td>\n",
       "      <td>m</td>\n",
       "      <td>A</td>\n",
       "      <td>None</td>\n",
       "      <td>care_home</td>\n",
       "      <td>3</td>\n",
       "      <td>E00062312</td>\n",
       "      <td>2</td>\n",
       "      <td>E02002566</td>\n",
       "      <td>North East</td>\n",
       "    </tr>\n",
       "    <tr>\n",
       "      <th>26914</th>\n",
       "      <td>2020-04-01</td>\n",
       "      <td>10</td>\n",
       "      <td>carehome</td>\n",
       "      <td>93</td>\n",
       "      <td>1</td>\n",
       "      <td>0</td>\n",
       "      <td>10</td>\n",
       "      <td>89</td>\n",
       "      <td>m</td>\n",
       "      <td>A</td>\n",
       "      <td>None</td>\n",
       "      <td>care_home</td>\n",
       "      <td>3</td>\n",
       "      <td>E00062312</td>\n",
       "      <td>2</td>\n",
       "      <td>E02002566</td>\n",
       "      <td>North East</td>\n",
       "    </tr>\n",
       "  </tbody>\n",
       "</table>\n",
       "<p>144 rows × 17 columns</p>\n",
       "</div>"
      ],
      "text/plain": [
       "        timestamp  location_ids location_specs  age  socioeconomic_index  \\\n",
       "20556  2020-03-22             8       carehome   77                    8   \n",
       "20557  2020-03-22             8       carehome   79                    8   \n",
       "20559  2020-03-22             8       carehome   80                    8   \n",
       "20560  2020-03-22             8       carehome   81                    8   \n",
       "20558  2020-03-25             8       carehome   79                    8   \n",
       "...           ...           ...            ...  ...                  ...   \n",
       "6272   2020-04-02             2       carehome   99                    9   \n",
       "6240   2020-04-02             2       carehome   83                    9   \n",
       "6238   2020-04-04             2       carehome   83                    9   \n",
       "26913  2020-04-01            10       carehome   87                    1   \n",
       "26914  2020-04-01            10       carehome   93                    1   \n",
       "\n",
       "       primary_activity_id  residence_id  area_id sex ethnicity  \\\n",
       "20556                    0             8       68   m         A   \n",
       "20557                    0             8       68   f         A   \n",
       "20559                    0             8       68   m         A   \n",
       "20560                    0             8       68   m         A   \n",
       "20558                    0             8       68   f         A   \n",
       "...                    ...           ...      ...  ..       ...   \n",
       "6272                     0             2       21   f         A   \n",
       "6240                     0             2       21   f         A   \n",
       "6238                     0             2       21   f         A   \n",
       "26913                    0            10       89   m         A   \n",
       "26914                    0            10       89   m         A   \n",
       "\n",
       "      primary_activity_type residence_type  super_area_id  name_area  \\\n",
       "20556                  None      care_home              2  E00004035   \n",
       "20557                  None      care_home              2  E00004035   \n",
       "20559                  None      care_home              2  E00004035   \n",
       "20560                  None      care_home              2  E00004035   \n",
       "20558                  None      care_home              2  E00004035   \n",
       "...                     ...            ...            ...        ...   \n",
       "6272                   None      care_home              0  E00120480   \n",
       "6240                   None      care_home              0  E00120480   \n",
       "6238                   None      care_home              0  E00120480   \n",
       "26913                  None      care_home              3  E00062312   \n",
       "26914                  None      care_home              3  E00062312   \n",
       "\n",
       "       region_id name_super_area      name_region  \n",
       "20556          1       E02000134           London  \n",
       "20557          1       E02000134           London  \n",
       "20559          1       E02000134           London  \n",
       "20560          1       E02000134           London  \n",
       "20558          1       E02000134           London  \n",
       "...          ...             ...              ...  \n",
       "6272           0       E02004935  East of England  \n",
       "6240           0       E02004935  East of England  \n",
       "6238           0       E02004935  East of England  \n",
       "26913          2       E02002566       North East  \n",
       "26914          2       E02002566       North East  \n",
       "\n",
       "[144 rows x 17 columns]"
      ]
     },
     "execution_count": 75,
     "metadata": {},
     "output_type": "execute_result"
    }
   ],
   "source": [
    "infections_df[infections_df['residence_type'] == 'care_home']"
   ]
  },
  {
   "cell_type": "code",
   "execution_count": 76,
   "metadata": {},
   "outputs": [],
   "source": [
    "n_infected_by_carehome = infections_df[infections_df['residence_type'] == 'care_home'].groupby('residence_id').size()"
   ]
  },
  {
   "cell_type": "code",
   "execution_count": 77,
   "metadata": {},
   "outputs": [],
   "source": [
    "n_total_in_carehome = people_df[\n",
    "    (people_df['residence_type'] == 'care_home') & (people_df['residence_id'].isin(n_infected_by_carehome.index))    \n",
    "].groupby('residence_id').size()"
   ]
  },
  {
   "cell_type": "code",
   "execution_count": 78,
   "metadata": {},
   "outputs": [
    {
     "data": {
      "text/plain": [
       "residence_id\n",
       "2     42\n",
       "3      6\n",
       "5     10\n",
       "6      7\n",
       "8      5\n",
       "10     2\n",
       "11    17\n",
       "12    18\n",
       "13    37\n",
       "dtype: int64"
      ]
     },
     "execution_count": 78,
     "metadata": {},
     "output_type": "execute_result"
    }
   ],
   "source": [
    "n_infected_by_carehome"
   ]
  },
  {
   "cell_type": "code",
   "execution_count": 79,
   "metadata": {},
   "outputs": [
    {
     "data": {
      "text/plain": [
       "Text(0.5, 0, '% of the care home infected')"
      ]
     },
     "execution_count": 79,
     "metadata": {},
     "output_type": "execute_result"
    },
    {
     "data": {
      "image/png": "[encoded data removed]",
      "text/plain": [
       "<Figure size 576x432 with 1 Axes>"
      ]
     },
     "metadata": {
      "needs_background": "light"
     },
     "output_type": "display_data"
    }
   ],
   "source": [
    "(n_infected_by_carehome/n_total_in_carehome).hist()\n",
    "plt.xlabel('% of the care home infected')"
   ]
  },
  {
   "cell_type": "code",
   "execution_count": null,
   "metadata": {},
   "outputs": [],
   "source": []
  }
 ],
 "metadata": {
  "kernelspec": {
   "display_name": "Python 3",
   "language": "python",
   "name": "python3"
  },
  "language_info": {
   "codemirror_mode": {
    "name": "ipython",
    "version": 3
   },
   "file_extension": ".py",
   "mimetype": "text/x-python",
   "name": "python",
   "nbconvert_exporter": "python",
   "pygments_lexer": "ipython3",
   "version": "3.8.3"
  }
 },
 "nbformat": 4,
 "nbformat_minor": 4
}
