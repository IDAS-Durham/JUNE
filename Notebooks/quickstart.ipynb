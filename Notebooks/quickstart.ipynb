{
 "cells": [
  {
   "cell_type": "code",
   "execution_count": 1,
   "metadata": {},
   "outputs": [],
   "source": [
    "%load_ext autoreload\n",
    "%autoreload 2"
   ]
  },
  {
   "cell_type": "code",
   "execution_count": 2,
   "metadata": {},
   "outputs": [],
   "source": [
    "import warnings\n",
    "warnings.filterwarnings('ignore')"
   ]
  },
  {
   "cell_type": "code",
   "execution_count": 3,
   "metadata": {},
   "outputs": [],
   "source": [
    "import numpy as np\n",
    "import time"
   ]
  },
  {
   "cell_type": "code",
   "execution_count": 4,
   "metadata": {},
   "outputs": [
    {
     "name": "stderr",
     "output_type": "stream",
     "text": [
      "No --data argument given - defaulting to:\n",
      "/home/florpi/JUNE/data\n",
      "No --configs argument given - defaulting to:\n",
      "/home/florpi/JUNE/configs\n"
     ]
    }
   ],
   "source": [
    "from june import World \n",
    "from june.demography.geography import Geography\n",
    "from june.demography import Demography\n",
    "from june.interaction import DefaultInteraction\n",
    "from june.infection import Infection\n",
    "from june.infection.symptoms import SymptomsConstant\n",
    "from june.infection.transmission import TransmissionConstant\n",
    "from june.groups import Hospitals, Schools, Companies, Households, CareHomes, Cemeteries\n",
    "from june.groups.leisure import Cinemas, Pubs, Groceries\n",
    "from june.simulator import Simulator\n",
    "from june.seed import Seed\n",
    "from june import paths\n",
    "from june.infection.infection import InfectionSelector"
   ]
  },
  {
   "cell_type": "markdown",
   "metadata": {},
   "source": [
    "# Initialize world\n",
    "\n",
    "To initialize a certain world, we need to add the different components we want to have in it. First we specify what super areas (msoa) we want to create. We have included these ones, because they are known to contain hospitals, schools, care homes, and companies.\n",
    "\n",
    "After creating the geography, we create the different components the worlds need to have such as care homes, companies ..."
   ]
  },
  {
   "cell_type": "code",
   "execution_count": 5,
   "metadata": {},
   "outputs": [
    {
     "name": "stdout",
     "output_type": "stream",
     "text": [
      "populating the world's geography with the specified demography...\n",
      "CPU times: user 43.1 s, sys: 2.87 s, total: 45.9 s\n",
      "Wall time: 48.2 s\n"
     ]
    }
   ],
   "source": [
    "%%time\n",
    "geography = Geography.from_file({\n",
    "                                \"msoa\":  [\"E02001720\",\n",
    "                                          \"E00088544\", \n",
    "                                          \"E02002560\", \n",
    "                                          \"E02002559\"]\n",
    "                                }\n",
    "                                )\n",
    "\n",
    "geography.hospitals = Hospitals.for_geography(geography)\n",
    "geography.schools = Schools.for_geography(geography)\n",
    "geography.cemeteries = Cemeteries()\n",
    "geography.companies = Companies.for_geography(geography)\n",
    "geography.care_homes = CareHomes.for_geography(geography)\n",
    "demography = Demography.for_geography(geography)\n",
    "world = World(geography, demography, include_households=True,\n",
    "             include_commute=True)\n",
    "world.cinemas = Cinemas.for_geography(geography)\n",
    "world.pubs = Pubs.for_geography(geography)\n",
    "world.groceries = Groceries.for_super_areas(geography.super_areas,\n",
    "                                            venues_per_capita=1/500)"
   ]
  },
  {
   "cell_type": "markdown",
   "metadata": {},
   "source": [
    "### If it took a long time to run the previous command, it might be a good idea to save the world in a pickle object to reuse it later."
   ]
  },
  {
   "cell_type": "code",
   "execution_count": 6,
   "metadata": {},
   "outputs": [],
   "source": [
    "#world.to_pickle(\"world.pkl\")"
   ]
  },
  {
   "cell_type": "markdown",
   "metadata": {},
   "source": [
    "If we would like to load the world we saved, we just do"
   ]
  },
  {
   "cell_type": "code",
   "execution_count": 7,
   "metadata": {},
   "outputs": [],
   "source": [
    "#world = World.from_pickle(\"world.pkl\")"
   ]
  },
  {
   "cell_type": "markdown",
   "metadata": {},
   "source": [
    "you have now a beautiful pre-pandemic world. "
   ]
  },
  {
   "cell_type": "markdown",
   "metadata": {},
   "source": [
    "# Adding the infection"
   ]
  },
  {
   "cell_type": "markdown",
   "metadata": {},
   "source": [
    "Now, you can play around with different models of infections. The building blocks for an infection are: Transmission and Symptoms. For now, only SymptomsConstant and TransmissionConstant are in a state to be used."
   ]
  },
  {
   "cell_type": "code",
   "execution_count": 8,
   "metadata": {},
   "outputs": [],
   "source": [
    "selector_config = paths.configs_path / \"defaults/infection/InfectionConstant.yaml\"\n",
    "\n",
    "selector = InfectionSelector.from_file(selector_config)"
   ]
  },
  {
   "cell_type": "code",
   "execution_count": 9,
   "metadata": {},
   "outputs": [
    {
     "data": {
      "text/plain": [
       "<june.infection.infection.InfectionSelector at 0x7ffb94658190>"
      ]
     },
     "execution_count": 9,
     "metadata": {},
     "output_type": "execute_result"
    }
   ],
   "source": [
    "selector"
   ]
  },
  {
   "cell_type": "markdown",
   "metadata": {},
   "source": [
    "# Adding the interaction"
   ]
  },
  {
   "cell_type": "code",
   "execution_count": 10,
   "metadata": {},
   "outputs": [],
   "source": [
    "interaction = DefaultInteraction.from_file(selector=selector)"
   ]
  },
  {
   "cell_type": "markdown",
   "metadata": {},
   "source": [
    "Beta are the intensities of the interaction taking place at the different groups"
   ]
  },
  {
   "cell_type": "code",
   "execution_count": 11,
   "metadata": {},
   "outputs": [
    {
     "data": {
      "text/plain": [
       "{'box': 1,\n",
       " 'pub': 1,\n",
       " 'grocery': 1,\n",
       " 'cinema': 1,\n",
       " 'commute_unit': 1,\n",
       " 'commute_city_unit': 1,\n",
       " 'hospital': 1.0,\n",
       " 'care_home': 1.0,\n",
       " 'company': 1.0,\n",
       " 'school': 1.0,\n",
       " 'household': 1.0}"
      ]
     },
     "execution_count": 11,
     "metadata": {},
     "output_type": "execute_result"
    }
   ],
   "source": [
    "interaction.beta"
   ]
  },
  {
   "cell_type": "markdown",
   "metadata": {},
   "source": [
    "to modify these, simply do"
   ]
  },
  {
   "cell_type": "code",
   "execution_count": 12,
   "metadata": {},
   "outputs": [],
   "source": [
    "interaction.beta['household'] *= 2"
   ]
  },
  {
   "cell_type": "code",
   "execution_count": 13,
   "metadata": {},
   "outputs": [
    {
     "data": {
      "text/plain": [
       "{'box': 1,\n",
       " 'pub': 1,\n",
       " 'grocery': 1,\n",
       " 'cinema': 1,\n",
       " 'commute_unit': 1,\n",
       " 'commute_city_unit': 1,\n",
       " 'hospital': 1.0,\n",
       " 'care_home': 1.0,\n",
       " 'company': 1.0,\n",
       " 'school': 1.0,\n",
       " 'household': 2.0}"
      ]
     },
     "execution_count": 13,
     "metadata": {},
     "output_type": "execute_result"
    }
   ],
   "source": [
    "interaction.beta"
   ]
  },
  {
   "cell_type": "markdown",
   "metadata": {},
   "source": [
    "moreover this interaction module uses contact matrices, that are different for different groups. These contact matrices shouldnt be modified for now. However they are a combination of conversational contact matrices, and physical contact matrices (see the BBC pandemic paper, from where these matrices are extracted https://www.medrxiv.org/content/10.1101/2020.02.16.20023754v2)\n",
    "\n",
    "There is a parameter, ``alpha`` ($\\alpha$), that combines these two matrices in the following way,\n",
    "\n",
    "\n",
    "$\\beta M \\left(1 + (\\alpha -1) \\right) P$\n",
    "\n",
    "where $\\beta$ is the intensity of the interaction, and $P$ the physical contact matrix. A larger $\\alpha$ produces more physical contacts. It is an overall number, non dependent of the particular group.\n"
   ]
  },
  {
   "cell_type": "code",
   "execution_count": 14,
   "metadata": {},
   "outputs": [
    {
     "data": {
      "text/plain": [
       "2.0"
      ]
     },
     "execution_count": 14,
     "metadata": {},
     "output_type": "execute_result"
    }
   ],
   "source": [
    "interaction.alpha"
   ]
  },
  {
   "cell_type": "code",
   "execution_count": 15,
   "metadata": {},
   "outputs": [],
   "source": [
    "interaction.alpha /= 2"
   ]
  },
  {
   "cell_type": "code",
   "execution_count": 16,
   "metadata": {},
   "outputs": [
    {
     "data": {
      "text/plain": [
       "1.0"
      ]
     },
     "execution_count": 16,
     "metadata": {},
     "output_type": "execute_result"
    }
   ],
   "source": [
    "interaction.alpha"
   ]
  },
  {
   "cell_type": "markdown",
   "metadata": {},
   "source": [
    "# Seed the disease"
   ]
  },
  {
   "cell_type": "markdown",
   "metadata": {},
   "source": [
    "There are two options implemented in the seed at the moment, either you specify the number of cases and these are then homogeneously distributed by population to the different areas, or you use UK data on cases per region. For now use the first case."
   ]
  },
  {
   "cell_type": "code",
   "execution_count": 17,
   "metadata": {},
   "outputs": [],
   "source": [
    "seed = Seed(world.super_areas, selector,)"
   ]
  },
  {
   "cell_type": "code",
   "execution_count": 18,
   "metadata": {},
   "outputs": [],
   "source": [
    "n_cases = 2_000\n",
    "seed.unleash_virus(n_cases) # play around with the initial number of cases"
   ]
  },
  {
   "cell_type": "markdown",
   "metadata": {},
   "source": [
    "# Run the simulation"
   ]
  },
  {
   "cell_type": "markdown",
   "metadata": {},
   "source": [
    "Since the timer configuration is a bit cumbersome, it is read from the config file at ``configs/config_example.yaml``"
   ]
  },
  {
   "cell_type": "code",
   "execution_count": 26,
   "metadata": {},
   "outputs": [],
   "source": [
    "CONFIG_PATH = \"../configs/config_example.yaml\"\n",
    "\n",
    "simulator = Simulator.from_file(\n",
    "     world, interaction, selector, \n",
    "    config_filename = CONFIG_PATH\n",
    ")"
   ]
  },
  {
   "cell_type": "code",
   "execution_count": 27,
   "metadata": {},
   "outputs": [
    {
     "name": "stdout",
     "output_type": "stream",
     "text": [
      "CPU times: user 8.75 s, sys: 16.8 ms, total: 8.76 s\n",
      "Wall time: 8.78 s\n"
     ]
    }
   ],
   "source": [
    "%%time\n",
    "simulator.run()"
   ]
  },
  {
   "cell_type": "markdown",
   "metadata": {},
   "source": [
    "# Getting the results"
   ]
  },
  {
   "cell_type": "markdown",
   "metadata": {},
   "source": [
    "All results are stored in a json file specified in the ``save_path`` variable in the config file. We can also access it from ``world.logger`` directly."
   ]
  },
  {
   "cell_type": "code",
   "execution_count": 28,
   "metadata": {},
   "outputs": [],
   "source": [
    "data_dict = simulator.logger.data_dict"
   ]
  },
  {
   "cell_type": "code",
   "execution_count": 29,
   "metadata": {},
   "outputs": [
    {
     "data": {
      "text/plain": [
       "dict_keys(['E00062207', 'E00062382', 'E00062386', 'E00062385', 'E00062380', 'E00062381', 'E00174202', 'E00062202', 'E00062203', 'E00174208', 'E00062204', 'E00062205', 'E00174206', 'E00062206', 'E00174204', 'E00174207', 'E00174205', 'E00062384', 'E00062383', 'E00062210', 'E00174209', 'E00174203', 'E00062212', 'E00174212', 'E00062209', 'E00062208', 'E00062211', 'E00062133', 'E00062134', 'E00062136', 'E00174210', 'E00062379', 'E00062151', 'E00062150', 'E00062149', 'E00062147', 'E00062141', 'E00062146', 'E00062142', 'E00062156', 'E00062144', 'E00062153', 'E00062140', 'E00062148', 'E00062138', 'E00062152', 'E00062143', 'E00062139', 'E00062145', 'E00062155', 'E00062154', 'E00042463', 'E00042453', 'E00042458', 'E00042451', 'E00042471', 'E00042470', 'E00042445', 'E00042474', 'E00042472', 'E00042459', 'E00042440', 'E00042457', 'E00042454', 'E00042456', 'E00042448', 'E00042476', 'E00042473', 'E00042449', 'E00042452', 'E00042450', 'E00042446', 'E00042475', 'E00042447', 'E00042477', 'E00042444', 'world', 'ByAge', 'R0_raw', 'R0_recon'])"
      ]
     },
     "execution_count": 29,
     "metadata": {},
     "output_type": "execute_result"
    }
   ],
   "source": [
    "data_dict.keys()"
   ]
  },
  {
   "cell_type": "markdown",
   "metadata": {},
   "source": [
    "As we can see, the keys of the data dictionary are all the output areas in the world, as well as the ``world`` key."
   ]
  },
  {
   "cell_type": "code",
   "execution_count": 31,
   "metadata": {},
   "outputs": [
    {
     "data": {
      "text/plain": [
       "{1.0: {'susceptible': 22458,\n",
       "  'infected': 2107,\n",
       "  'recovered': 0,\n",
       "  'cumulative_infected': 2107},\n",
       " 1.4166666666666667: {'susceptible': 22458,\n",
       "  'infected': 2107,\n",
       "  'recovered': 0,\n",
       "  'cumulative_infected': 2107},\n",
       " 1.5: {'susceptible': 22334,\n",
       "  'infected': 2019,\n",
       "  'recovered': 212,\n",
       "  'cumulative_infected': 2231},\n",
       " 2.0: {'susceptible': 21801,\n",
       "  'infected': 2350,\n",
       "  'recovered': 414,\n",
       "  'cumulative_infected': 2764},\n",
       " 2.4166666666666665: {'susceptible': 20986,\n",
       "  'infected': 2797,\n",
       "  'recovered': 782,\n",
       "  'cumulative_infected': 3579},\n",
       " 2.5: {'susceptible': 20871,\n",
       "  'infected': 2434,\n",
       "  'recovered': 1260,\n",
       "  'cumulative_infected': 3694},\n",
       " 3.0: {'susceptible': 20391,\n",
       "  'infected': 2487,\n",
       "  'recovered': 1687,\n",
       "  'cumulative_infected': 4174},\n",
       " 3.4166666666666665: {'susceptible': 19588,\n",
       "  'infected': 2723,\n",
       "  'recovered': 2254,\n",
       "  'cumulative_infected': 4977},\n",
       " 3.5: {'susceptible': 19497,\n",
       "  'infected': 2212,\n",
       "  'recovered': 2856,\n",
       "  'cumulative_infected': 5068},\n",
       " 4.0: {'susceptible': 19017,\n",
       "  'infected': 2245,\n",
       "  'recovered': 3303,\n",
       "  'cumulative_infected': 5548},\n",
       " 4.416666666666667: {'susceptible': 18349,\n",
       "  'infected': 2386,\n",
       "  'recovered': 3830,\n",
       "  'cumulative_infected': 6216},\n",
       " 4.5: {'susceptible': 18264,\n",
       "  'infected': 1918,\n",
       "  'recovered': 4383,\n",
       "  'cumulative_infected': 6301},\n",
       " 5.0: {'susceptible': 17901,\n",
       "  'infected': 1898,\n",
       "  'recovered': 4766,\n",
       "  'cumulative_infected': 6664},\n",
       " 5.416666666666667: {'susceptible': 17349,\n",
       "  'infected': 2020,\n",
       "  'recovered': 5196,\n",
       "  'cumulative_infected': 7216},\n",
       " 5.5: {'susceptible': 17272,\n",
       "  'infected': 1659,\n",
       "  'recovered': 5634,\n",
       "  'cumulative_infected': 7293},\n",
       " 6.0: {'susceptible': 16996,\n",
       "  'infected': 1584,\n",
       "  'recovered': 5985,\n",
       "  'cumulative_infected': 7569},\n",
       " 7.0: {'susceptible': 16693,\n",
       "  'infected': 1506,\n",
       "  'recovered': 6366,\n",
       "  'cumulative_infected': 7872},\n",
       " 8.0: {'susceptible': 16451,\n",
       "  'infected': 1238,\n",
       "  'recovered': 6876,\n",
       "  'cumulative_infected': 8114},\n",
       " 8.416666666666666: {'susceptible': 16162,\n",
       "  'infected': 1054,\n",
       "  'recovered': 7349,\n",
       "  'cumulative_infected': 8403},\n",
       " 8.5: {'susceptible': 16127,\n",
       "  'infected': 743,\n",
       "  'recovered': 7695,\n",
       "  'cumulative_infected': 8438},\n",
       " 9.0: {'susceptible': 15987,\n",
       "  'infected': 690,\n",
       "  'recovered': 7888,\n",
       "  'cumulative_infected': 8578},\n",
       " 9.416666666666666: {'susceptible': 15816,\n",
       "  'infected': 684,\n",
       "  'recovered': 8065,\n",
       "  'cumulative_infected': 8749},\n",
       " 9.5: {'susceptible': 15794,\n",
       "  'infected': 531,\n",
       "  'recovered': 8240,\n",
       "  'cumulative_infected': 8771},\n",
       " 10.0: {'susceptible': 15698,\n",
       "  'infected': 521,\n",
       "  'recovered': 8346,\n",
       "  'cumulative_infected': 8867}}"
      ]
     },
     "execution_count": 31,
     "metadata": {},
     "output_type": "execute_result"
    }
   ],
   "source": [
    "data_dict[\"world\"]"
   ]
  },
  {
   "cell_type": "markdown",
   "metadata": {},
   "source": [
    "The second layer of keys containts the days for which the simulation has been run. Note that 1.33 means one day and 8 hours, corresponding to end of the first shift in day one."
   ]
  },
  {
   "cell_type": "code",
   "execution_count": 32,
   "metadata": {},
   "outputs": [
    {
     "data": {
      "text/plain": [
       "{'susceptible': 15698,\n",
       " 'infected': 521,\n",
       " 'recovered': 8346,\n",
       " 'cumulative_infected': 8867}"
      ]
     },
     "execution_count": 32,
     "metadata": {},
     "output_type": "execute_result"
    }
   ],
   "source": [
    "data_dict[\"world\"][10]"
   ]
  },
  {
   "cell_type": "markdown",
   "metadata": {},
   "source": [
    "For each day we store the number of suscpetible, infected and recovered people. We also store the r0 number, which is averaged correctly depending on the location we are looking at."
   ]
  },
  {
   "cell_type": "markdown",
   "metadata": {},
   "source": [
    "The logger also has some plotting functions"
   ]
  },
  {
   "cell_type": "code",
   "execution_count": 33,
   "metadata": {},
   "outputs": [
    {
     "data": {
      "image/png": "[encoded data removed]",
      "text/plain": [
       "<Figure size 432x288 with 1 Axes>"
      ]
     },
     "metadata": {
      "needs_background": "light"
     },
     "output_type": "display_data"
    }
   ],
   "source": [
    "fig, ax = simulator.logger.plot_infection_curves_per_day()"
   ]
  },
  {
   "cell_type": "code",
   "execution_count": 34,
   "metadata": {},
   "outputs": [
    {
     "data": {
      "image/png": "[encoded data removed]",
      "text/plain": [
       "<Figure size 432x288 with 1 Axes>"
      ]
     },
     "metadata": {
      "needs_background": "light"
     },
     "output_type": "display_data"
    }
   ],
   "source": [
    "fig = simulator.logger.plot_infections_per_day()"
   ]
  },
  {
   "cell_type": "code",
   "execution_count": 35,
   "metadata": {},
   "outputs": [
    {
     "data": {
      "image/png": "[encoded data removed]",
      "text/plain": [
       "<Figure size 432x288 with 1 Axes>"
      ]
     },
     "metadata": {
      "needs_background": "light"
     },
     "output_type": "display_data"
    }
   ],
   "source": [
    "fig = simulator.logger.plot_cumulative_fraction()"
   ]
  },
  {
   "cell_type": "code",
   "execution_count": 36,
   "metadata": {},
   "outputs": [
    {
     "data": {
      "image/png": "[encoded data removed]",
      "text/plain": [
       "<Figure size 432x288 with 1 Axes>"
      ]
     },
     "metadata": {
      "needs_background": "light"
     },
     "output_type": "display_data"
    }
   ],
   "source": [
    "fig = simulator.logger.plot_infection_location()\n",
    "plt."
   ]
  },
  {
   "cell_type": "code",
   "execution_count": 37,
   "metadata": {},
   "outputs": [
    {
     "data": {
      "image/png": "[encoded data removed]",
      "text/plain": [
       "<Figure size 432x288 with 1 Axes>"
      ]
     },
     "metadata": {
      "needs_background": "light"
     },
     "output_type": "display_data"
    }
   ],
   "source": [
    "fig = simulator.logger.plot_R()\n",
    "#TODO: Needs to be fixed"
   ]
  },
  {
   "cell_type": "code",
   "execution_count": null,
   "metadata": {},
   "outputs": [],
   "source": []
  }
 ],
 "metadata": {
  "kernelspec": {
   "display_name": "Python 3",
   "language": "python",
   "name": "python3"
  },
  "language_info": {
   "codemirror_mode": {
    "name": "ipython",
    "version": 3
   },
   "file_extension": ".py",
   "mimetype": "text/x-python",
   "name": "python",
   "nbconvert_exporter": "python",
   "pygments_lexer": "ipython3",
   "version": "3.8.2"
  }
 },
 "nbformat": 4,
 "nbformat_minor": 4
}
