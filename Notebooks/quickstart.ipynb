{
 "cells": [
  {
   "cell_type": "code",
   "execution_count": 1,
   "metadata": {},
   "outputs": [],
   "source": [
    "%load_ext autoreload\n",
    "%autoreload 2"
   ]
  },
  {
   "cell_type": "code",
   "execution_count": 2,
   "metadata": {},
   "outputs": [],
   "source": [
    "import numpy as np\n",
    "import time\n",
    "from datetime import datetime\n",
    "import matplotlib.pyplot as plt\n",
    "import seaborn as sns\n",
    "sns.set_context('notebook')"
   ]
  },
  {
   "cell_type": "code",
   "execution_count": 3,
   "metadata": {},
   "outputs": [
    {
     "name": "stderr",
     "output_type": "stream",
     "text": [
      "No --data argument given - defaulting to:\n",
      "/home/arnau/code/JUNE/data\n",
      "No --configs argument given - defaulting to:\n",
      "/home/arnau/code/JUNE/configs\n"
     ]
    }
   ],
   "source": [
    "from june import World \n",
    "from june.demography.geography import Geography\n",
    "from june.demography import Demography\n",
    "from june.interaction import ContactAveraging\n",
    "from june.infection import Infection\n",
    "from june.infection.transmission import TransmissionConstant\n",
    "from june.groups import Hospitals, Schools, Companies, Households, CareHomes, Cemeteries, Universities\n",
    "from june.groups.leisure import leisure, Cinemas, Pubs, Groceries\n",
    "from june.simulator import Simulator\n",
    "from june.seed import Seed\n",
    "from june.policy import Policy, Policies\n",
    "from june import paths\n",
    "from june.logger.read_logger import ReadLogger\n",
    "from june.infection.infection import InfectionSelector\n",
    "from june.world import generate_world_from_hdf5, generate_world_from_geography"
   ]
  },
  {
   "cell_type": "markdown",
   "metadata": {},
   "source": [
    "# Initialize world\n",
    "\n",
    "To initialize a certain world, we need to add the different components we want to have in it. First we specify what super areas (msoa) we want to create. We have included these ones, because they are known to contain hospitals, schools, care homes, and companies.\n",
    "\n",
    "After creating the geography, we create the different components the worlds need to have such as care homes, companies ..."
   ]
  },
  {
   "cell_type": "code",
   "execution_count": 4,
   "metadata": {},
   "outputs": [
    {
     "name": "stdout",
     "output_type": "stream",
     "text": [
      "2020-06-22 19:08:16,349 - june.demography.geography - INFO - There are 129 areas and 5 super_areas in the world.\n",
      "2020-06-22 19:08:16,356 - june.groups.hospital - INFO - There are 1 hospitals in this geography.\n",
      "2020-06-22 19:08:16,419 - june.groups.school - INFO - There are 19 schools in this geography.\n",
      "2020-06-22 19:08:16,450 - june.groups.school - INFO - No school for the age 0 in this world.\n",
      "2020-06-22 19:08:16,454 - june.groups.school - INFO - No school for the age 1 in this world.\n",
      "2020-06-22 19:08:16,459 - june.groups.school - INFO - No school for the age 2 in this world.\n",
      "2020-06-22 19:08:16,778 - june.groups.carehome - INFO - There are 9 care_homes in this geography.\n",
      "2020-06-22 19:08:25,907 - june.distributors.worker_distributor - INFO - There are 0 who had to be told to stay real\n",
      "CPU times: user 39.8 s, sys: 871 ms, total: 40.7 s\n",
      "Wall time: 42.4 s\n"
     ]
    }
   ],
   "source": [
    "%%time \n",
    "\n",
    "geography = Geography.from_file(\n",
    "        {\n",
    "            \"super_area\": [\n",
    "                \"E02003282\",\n",
    "                \"E02001720\",\n",
    "                \"E00088544\",\n",
    "                \"E02002560\",\n",
    "                \"E02002559\",\n",
    "                \"E02004314\",\n",
    "            ]\n",
    "        }\n",
    ")\n",
    "\n",
    "geography.hospitals = Hospitals.for_geography(geography)\n",
    "geography.schools = Schools.for_geography(geography)\n",
    "geography.companies = Companies.for_geography(geography)\n",
    "geography.care_homes = CareHomes.for_geography(geography)\n",
    "geography.universities = Universities.for_super_areas(geography.super_areas)\n",
    "world = generate_world_from_geography(geography, include_households=True, include_commute=True)\n"
   ]
  },
  {
   "cell_type": "markdown",
   "metadata": {},
   "source": [
    "### If it took a long time to run the previous command, it might be a good idea to save the world to reuse it later."
   ]
  },
  {
   "cell_type": "code",
   "execution_count": 5,
   "metadata": {},
   "outputs": [],
   "source": [
    "world.to_hdf5(\"world.hdf5\")"
   ]
  },
  {
   "cell_type": "markdown",
   "metadata": {},
   "source": [
    "If we would like to load the world we saved, we just do"
   ]
  },
  {
   "cell_type": "code",
   "execution_count": 6,
   "metadata": {},
   "outputs": [
    {
     "name": "stdout",
     "output_type": "stream",
     "text": [
      "Loaded chunk 0 of 1\n",
      "Loaded chunk 0 of 1\n"
     ]
    },
    {
     "name": "stderr",
     "output_type": "stream",
     "text": [
      "100%|██████████| 46784/46784 [00:00<00:00, 104631.05it/s]\n"
     ]
    }
   ],
   "source": [
    "world = generate_world_from_hdf5(\"world.hdf5\")"
   ]
  },
  {
   "cell_type": "markdown",
   "metadata": {},
   "source": [
    "you have now a beautiful pre-pandemic world. "
   ]
  },
  {
   "cell_type": "markdown",
   "metadata": {},
   "source": [
    "## Commute, travel and leisure"
   ]
  },
  {
   "cell_type": "markdown",
   "metadata": {},
   "source": [
    "We can add cinemas, pubs, groceries, etc. as well as commute in major cities with"
   ]
  },
  {
   "cell_type": "code",
   "execution_count": 7,
   "metadata": {},
   "outputs": [],
   "source": [
    "# leisure\n",
    "world.cinemas = Cinemas.for_geography(geography)\n",
    "world.pubs = Pubs.for_geography(geography)\n",
    "world.groceries = Groceries.for_super_areas(world.super_areas,\n",
    "                                            venues_per_capita=1/500)"
   ]
  },
  {
   "cell_type": "code",
   "execution_count": 8,
   "metadata": {},
   "outputs": [],
   "source": [
    "# commute\n",
    "#world.initialise_commuting()"
   ]
  },
  {
   "cell_type": "markdown",
   "metadata": {},
   "source": [
    "We are also going to need some cemeteries...geography.cemeteries = Cemeteries()\n"
   ]
  },
  {
   "cell_type": "code",
   "execution_count": 9,
   "metadata": {},
   "outputs": [],
   "source": [
    "world.cemeteries = Cemeteries()"
   ]
  },
  {
   "cell_type": "markdown",
   "metadata": {},
   "source": [
    "# Adding the infection"
   ]
  },
  {
   "cell_type": "markdown",
   "metadata": {},
   "source": [
    "Now, you can play around with different models of infections. The building blocks for an infection are: Transmission and Symptoms. For now, only SymptomsConstant and TransmissionConstant are in a state to be used."
   ]
  },
  {
   "cell_type": "code",
   "execution_count": 10,
   "metadata": {},
   "outputs": [],
   "source": [
    "selector = InfectionSelector.from_file()"
   ]
  },
  {
   "cell_type": "code",
   "execution_count": 11,
   "metadata": {},
   "outputs": [
    {
     "data": {
      "text/plain": [
       "<june.infection.infection.InfectionSelector at 0x7fa4504e5df0>"
      ]
     },
     "execution_count": 11,
     "metadata": {},
     "output_type": "execute_result"
    }
   ],
   "source": [
    "selector"
   ]
  },
  {
   "cell_type": "markdown",
   "metadata": {},
   "source": [
    "# Adding the interaction"
   ]
  },
  {
   "cell_type": "code",
   "execution_count": 12,
   "metadata": {},
   "outputs": [],
   "source": [
    "interaction = ContactAveraging.from_file(selector=selector)\n",
    "#interaction = DefaultInteraction.from_file(selector=selector)"
   ]
  },
  {
   "cell_type": "markdown",
   "metadata": {},
   "source": [
    "Beta are the intensities of the interaction taking place at the different groups"
   ]
  },
  {
   "cell_type": "code",
   "execution_count": 13,
   "metadata": {},
   "outputs": [
    {
     "data": {
      "text/plain": [
       "{'box': 1,\n",
       " 'pub': 1,\n",
       " 'grocery': 1,\n",
       " 'cinema': 1,\n",
       " 'commute_unit': 1.0,\n",
       " 'commute_city_unit': 1.0,\n",
       " 'hospital': 1.0,\n",
       " 'care_home': 1.0,\n",
       " 'company': 1.0,\n",
       " 'school': 1.0,\n",
       " 'household': 1.0,\n",
       " 'university': 1.0}"
      ]
     },
     "execution_count": 13,
     "metadata": {},
     "output_type": "execute_result"
    }
   ],
   "source": [
    "interaction.beta"
   ]
  },
  {
   "cell_type": "markdown",
   "metadata": {},
   "source": [
    "to modify these, simply do"
   ]
  },
  {
   "cell_type": "code",
   "execution_count": 14,
   "metadata": {},
   "outputs": [],
   "source": [
    "interaction.beta['household'] *= 2"
   ]
  },
  {
   "cell_type": "code",
   "execution_count": 15,
   "metadata": {},
   "outputs": [
    {
     "data": {
      "text/plain": [
       "{'box': 1,\n",
       " 'pub': 1,\n",
       " 'grocery': 1,\n",
       " 'cinema': 1,\n",
       " 'commute_unit': 1.0,\n",
       " 'commute_city_unit': 1.0,\n",
       " 'hospital': 1.0,\n",
       " 'care_home': 1.0,\n",
       " 'company': 1.0,\n",
       " 'school': 1.0,\n",
       " 'household': 2.0,\n",
       " 'university': 1.0}"
      ]
     },
     "execution_count": 15,
     "metadata": {},
     "output_type": "execute_result"
    }
   ],
   "source": [
    "interaction.beta"
   ]
  },
  {
   "cell_type": "markdown",
   "metadata": {},
   "source": [
    "moreover this interaction module uses contact matrices, that are different for different groups. These contact matrices shouldnt be modified for now. However they are a combination of conversational contact matrices, and physical contact matrices (see the BBC pandemic paper, from where these matrices are extracted https://www.medrxiv.org/content/10.1101/2020.02.16.20023754v2)\n",
    "\n",
    "There is a parameter, ``alpha`` ($\\alpha$), that combines these two matrices in the following way,\n",
    "\n",
    "\n",
    "$\\beta M \\left(1 + (\\alpha -1) \\right) P$\n",
    "\n",
    "where $\\beta$ is the intensity of the interaction, and $P$ the physical contact matrix. A larger $\\alpha$ produces more physical contacts. It is an overall number, non dependent of the particular group.\n"
   ]
  },
  {
   "cell_type": "code",
   "execution_count": 16,
   "metadata": {},
   "outputs": [
    {
     "data": {
      "text/plain": [
       "2.0"
      ]
     },
     "execution_count": 16,
     "metadata": {},
     "output_type": "execute_result"
    }
   ],
   "source": [
    "interaction.alpha_physical"
   ]
  },
  {
   "cell_type": "code",
   "execution_count": 17,
   "metadata": {},
   "outputs": [],
   "source": [
    "interaction.alpha_physical /= 2"
   ]
  },
  {
   "cell_type": "code",
   "execution_count": 18,
   "metadata": {},
   "outputs": [
    {
     "data": {
      "text/plain": [
       "1.0"
      ]
     },
     "execution_count": 18,
     "metadata": {},
     "output_type": "execute_result"
    }
   ],
   "source": [
    "interaction.alpha_physical"
   ]
  },
  {
   "cell_type": "markdown",
   "metadata": {},
   "source": [
    "# Seed the disease"
   ]
  },
  {
   "cell_type": "markdown",
   "metadata": {},
   "source": [
    "There are two options implemented in the seed at the moment, either you specify the number of cases and these are then homogeneously distributed by population to the different areas, or you use UK data on cases per region. For now use the first case."
   ]
  },
  {
   "cell_type": "code",
   "execution_count": 19,
   "metadata": {},
   "outputs": [],
   "source": [
    "seed = Seed(world.super_areas, selector,)"
   ]
  },
  {
   "cell_type": "code",
   "execution_count": 20,
   "metadata": {},
   "outputs": [],
   "source": [
    "n_cases = 50\n",
    "seed.unleash_virus(n_cases) # play around with the initial number of cases"
   ]
  },
  {
   "cell_type": "markdown",
   "metadata": {},
   "source": [
    "# Set policies"
   ]
  },
  {
   "cell_type": "code",
   "execution_count": 21,
   "metadata": {},
   "outputs": [],
   "source": [
    "social_distance = Policy(policy=\"social_distance\",\n",
    "                         start_time=datetime(2020, 3, 25), \n",
    "                         end_time=datetime(2020, 4, 1))"
   ]
  },
  {
   "cell_type": "code",
   "execution_count": 22,
   "metadata": {},
   "outputs": [],
   "source": [
    "policies = Policies.from_file([social_distance])"
   ]
  },
  {
   "cell_type": "code",
   "execution_count": 23,
   "metadata": {},
   "outputs": [
    {
     "data": {
      "text/plain": [
       "{'alpha factor': 1.0,\n",
       " 'beta factor': {'box': 0.5,\n",
       "  'pub': 0.5,\n",
       "  'grocery': 0.5,\n",
       "  'cinema': 0.5,\n",
       "  'commute_unit': 0.5,\n",
       "  'commute_city_unit': 0.5,\n",
       "  'hospital': 0.5,\n",
       "  'care_home': 0.5,\n",
       "  'company': 0.5,\n",
       "  'school': 0.5,\n",
       "  'household': 1.0,\n",
       "  'university': 0.5}}"
      ]
     },
     "execution_count": 23,
     "metadata": {},
     "output_type": "execute_result"
    }
   ],
   "source": [
    "policies.config['social distancing']"
   ]
  },
  {
   "cell_type": "markdown",
   "metadata": {},
   "source": [
    "# Run the simulation"
   ]
  },
  {
   "cell_type": "markdown",
   "metadata": {},
   "source": [
    "Since the timer configuration is a bit cumbersome, it is read from the config file at ``configs/config_example.yaml``"
   ]
  },
  {
   "cell_type": "code",
   "execution_count": 24,
   "metadata": {},
   "outputs": [],
   "source": [
    "CONFIG_PATH = \"../configs/config_example.yaml\"\n",
    "\n",
    "leisure_instance = leisure.generate_leisure_for_config(\n",
    "world=world, config_filename = CONFIG_PATH\n",
    ")\n",
    "simulator = Simulator.from_file(\n",
    "     world, interaction, selector, \n",
    "    config_filename = CONFIG_PATH,\n",
    "    leisure = leisure_instance,\n",
    "    policies = policies\n",
    ")"
   ]
  },
  {
   "cell_type": "code",
   "execution_count": 25,
   "metadata": {
    "scrolled": true
   },
   "outputs": [
    {
     "name": "stdout",
     "output_type": "stream",
     "text": [
      "2020-06-22 19:09:03,724 - june.simulator - INFO - Starting group_dynamics for 70 days at day 0\n",
      "2020-06-22 19:09:03,727 - june.simulator - INFO - starting the loop ..., at 0 days, to run for 70 days\n",
      "2020-06-22 19:09:08,625 - june.simulator - INFO - Date = 2020-03-07 04:00:00, number of deaths =  0, number of infected = 50\n",
      "2020-06-22 19:09:12,390 - june.simulator - INFO - Date = 2020-03-07 08:00:00, number of deaths =  0, number of infected = 50\n",
      "2020-06-22 19:09:12,867 - june.simulator - INFO - Date = 2020-03-07 12:00:00, number of deaths =  0, number of infected = 50\n",
      "2020-06-22 19:09:16,567 - june.simulator - INFO - Date = 2020-03-08 00:00:00, number of deaths =  0, number of infected = 50\n",
      "2020-06-22 19:09:20,279 - june.simulator - INFO - Date = 2020-03-08 04:00:00, number of deaths =  0, number of infected = 50\n",
      "2020-06-22 19:09:23,292 - june.simulator - INFO - Date = 2020-03-08 08:00:00, number of deaths =  0, number of infected = 50\n",
      "2020-06-22 19:09:23,836 - june.simulator - INFO - Date = 2020-03-08 12:00:00, number of deaths =  0, number of infected = 50\n",
      "2020-06-22 19:09:24,465 - june.simulator - INFO - Date = 2020-03-09 00:00:00, number of deaths =  0, number of infected = 50\n",
      "2020-06-22 19:09:25,648 - june.simulator - INFO - Date = 2020-03-09 01:00:00, number of deaths =  0, number of infected = 50\n",
      "2020-06-22 19:09:26,576 - june.simulator - INFO - Date = 2020-03-09 05:00:00, number of deaths =  0, number of infected = 50\n",
      "2020-06-22 19:09:27,094 - june.simulator - INFO - Date = 2020-03-09 09:00:00, number of deaths =  0, number of infected = 50\n",
      "2020-06-22 19:09:30,433 - june.simulator - INFO - Date = 2020-03-09 10:00:00, number of deaths =  0, number of infected = 50\n",
      "2020-06-22 19:09:31,015 - june.simulator - INFO - Date = 2020-03-09 13:00:00, number of deaths =  0, number of infected = 50\n",
      "2020-06-22 19:09:31,489 - june.simulator - INFO - Date = 2020-03-10 00:00:00, number of deaths =  0, number of infected = 50\n",
      "2020-06-22 19:09:32,325 - june.simulator - INFO - Date = 2020-03-10 01:00:00, number of deaths =  0, number of infected = 50\n",
      "2020-06-22 19:09:32,995 - june.simulator - INFO - Date = 2020-03-10 05:00:00, number of deaths =  0, number of infected = 50\n",
      "2020-06-22 19:09:33,402 - june.simulator - INFO - Date = 2020-03-10 09:00:00, number of deaths =  0, number of infected = 50\n",
      "2020-06-22 19:09:35,899 - june.simulator - INFO - Date = 2020-03-10 10:00:00, number of deaths =  0, number of infected = 50\n",
      "2020-06-22 19:09:36,587 - june.simulator - INFO - Date = 2020-03-10 13:00:00, number of deaths =  0, number of infected = 50\n",
      "2020-06-22 19:09:37,203 - june.simulator - INFO - Date = 2020-03-11 00:00:00, number of deaths =  0, number of infected = 50\n",
      "2020-06-22 19:09:38,433 - june.simulator - INFO - Date = 2020-03-11 01:00:00, number of deaths =  0, number of infected = 53\n",
      "2020-06-22 19:09:39,315 - june.simulator - INFO - Date = 2020-03-11 05:00:00, number of deaths =  0, number of infected = 74\n",
      "2020-06-22 19:09:39,991 - june.simulator - INFO - Date = 2020-03-11 09:00:00, number of deaths =  0, number of infected = 108\n",
      "2020-06-22 19:09:42,817 - june.simulator - INFO - Date = 2020-03-11 10:00:00, number of deaths =  0, number of infected = 113\n",
      "2020-06-22 19:09:43,329 - june.simulator - INFO - Date = 2020-03-11 13:00:00, number of deaths =  0, number of infected = 137\n",
      "2020-06-22 19:09:44,023 - june.simulator - INFO - Date = 2020-03-12 00:00:00, number of deaths =  0, number of infected = 182\n",
      "2020-06-22 19:09:44,976 - june.simulator - INFO - Date = 2020-03-12 01:00:00, number of deaths =  0, number of infected = 186\n",
      "2020-06-22 19:09:45,957 - june.simulator - INFO - Date = 2020-03-12 05:00:00, number of deaths =  0, number of infected = 245\n",
      "2020-06-22 19:09:46,708 - june.simulator - INFO - Date = 2020-03-12 09:00:00, number of deaths =  0, number of infected = 301\n",
      "2020-06-22 19:09:51,654 - june.simulator - INFO - Date = 2020-03-12 10:00:00, number of deaths =  0, number of infected = 307\n",
      "2020-06-22 19:09:52,248 - june.simulator - INFO - Date = 2020-03-12 13:00:00, number of deaths =  0, number of infected = 334\n",
      "2020-06-22 19:09:52,959 - june.simulator - INFO - Date = 2020-03-13 00:00:00, number of deaths =  0, number of infected = 355\n",
      "2020-06-22 19:09:53,803 - june.simulator - INFO - Date = 2020-03-13 01:00:00, number of deaths =  0, number of infected = 357\n",
      "2020-06-22 19:09:54,958 - june.simulator - INFO - Date = 2020-03-13 05:00:00, number of deaths =  0, number of infected = 432\n",
      "2020-06-22 19:09:55,459 - june.simulator - INFO - Date = 2020-03-13 09:00:00, number of deaths =  0, number of infected = 488\n",
      "2020-06-22 19:09:59,216 - june.simulator - INFO - Date = 2020-03-13 10:00:00, number of deaths =  0, number of infected = 491\n",
      "2020-06-22 19:09:59,868 - june.simulator - INFO - Date = 2020-03-13 13:00:00, number of deaths =  0, number of infected = 530\n",
      "2020-06-22 19:10:03,880 - june.simulator - INFO - Date = 2020-03-14 00:00:00, number of deaths =  0, number of infected = 551\n",
      "2020-06-22 19:10:07,584 - june.simulator - INFO - Date = 2020-03-14 04:00:00, number of deaths =  0, number of infected = 592\n",
      "2020-06-22 19:10:13,248 - june.simulator - INFO - Date = 2020-03-14 08:00:00, number of deaths =  0, number of infected = 705\n",
      "2020-06-22 19:10:13,946 - june.simulator - INFO - Date = 2020-03-14 12:00:00, number of deaths =  0, number of infected = 782\n",
      "2020-06-22 19:10:19,881 - june.simulator - INFO - Date = 2020-03-15 00:00:00, number of deaths =  0, number of infected = 854\n",
      "2020-06-22 19:10:23,811 - june.simulator - INFO - Date = 2020-03-15 04:00:00, number of deaths =  0, number of infected = 982\n",
      "2020-06-22 19:10:27,719 - june.simulator - INFO - Date = 2020-03-15 08:00:00, number of deaths =  0, number of infected = 1167\n",
      "2020-06-22 19:10:28,187 - june.simulator - INFO - Date = 2020-03-15 12:00:00, number of deaths =  0, number of infected = 1336\n",
      "2020-06-22 19:10:28,988 - june.simulator - INFO - Date = 2020-03-16 00:00:00, number of deaths =  0, number of infected = 1552\n",
      "2020-06-22 19:10:30,425 - june.simulator - INFO - Date = 2020-03-16 01:00:00, number of deaths =  0, number of infected = 1594\n",
      "2020-06-22 19:10:32,015 - june.simulator - INFO - Date = 2020-03-16 05:00:00, number of deaths =  0, number of infected = 2042\n",
      "2020-06-22 19:10:33,038 - june.simulator - INFO - Date = 2020-03-16 09:00:00, number of deaths =  0, number of infected = 2501\n",
      "2020-06-22 19:10:35,781 - june.simulator - INFO - Date = 2020-03-16 10:00:00, number of deaths =  0, number of infected = 2544\n",
      "2020-06-22 19:10:36,376 - june.simulator - INFO - Date = 2020-03-16 13:00:00, number of deaths =  0, number of infected = 2814\n",
      "2020-06-22 19:10:37,238 - june.simulator - INFO - Date = 2020-03-17 00:00:00, number of deaths =  0, number of infected = 3129\n",
      "2020-06-22 19:10:38,136 - june.simulator - INFO - Date = 2020-03-17 01:00:00, number of deaths =  0, number of infected = 3183\n",
      "2020-06-22 19:10:39,413 - june.simulator - INFO - Date = 2020-03-17 05:00:00, number of deaths =  0, number of infected = 3784\n",
      "2020-06-22 19:10:41,015 - june.simulator - INFO - Date = 2020-03-17 09:00:00, number of deaths =  0, number of infected = 4424\n",
      "2020-06-22 19:10:44,324 - june.simulator - INFO - Date = 2020-03-17 10:00:00, number of deaths =  0, number of infected = 4482\n",
      "2020-06-22 19:10:45,307 - june.simulator - INFO - Date = 2020-03-17 13:00:00, number of deaths =  0, number of infected = 4846\n",
      "2020-06-22 19:10:46,388 - june.simulator - INFO - Date = 2020-03-18 00:00:00, number of deaths =  0, number of infected = 5253\n",
      "2020-06-22 19:10:47,674 - june.simulator - INFO - Date = 2020-03-18 01:00:00, number of deaths =  0, number of infected = 5311\n",
      "2020-06-22 19:10:50,177 - june.simulator - INFO - Date = 2020-03-18 05:00:00, number of deaths =  0, number of infected = 6536\n",
      "2020-06-22 19:10:52,672 - june.simulator - INFO - Date = 2020-03-18 09:00:00, number of deaths =  0, number of infected = 7644\n",
      "2020-06-22 19:10:55,424 - june.simulator - INFO - Date = 2020-03-18 10:00:00, number of deaths =  0, number of infected = 7729\n",
      "2020-06-22 19:10:56,073 - june.simulator - INFO - Date = 2020-03-18 13:00:00, number of deaths =  0, number of infected = 8203\n",
      "2020-06-22 19:10:56,982 - june.simulator - INFO - Date = 2020-03-19 00:00:00, number of deaths =  1, number of infected = 8772\n",
      "2020-06-22 19:10:58,153 - june.simulator - INFO - Date = 2020-03-19 01:00:00, number of deaths =  1, number of infected = 8887\n",
      "2020-06-22 19:11:04,093 - june.simulator - INFO - Date = 2020-03-19 05:00:00, number of deaths =  1, number of infected = 10556\n",
      "2020-06-22 19:11:09,504 - june.simulator - INFO - Date = 2020-03-19 09:00:00, number of deaths =  1, number of infected = 12223\n",
      "2020-06-22 19:11:12,486 - june.simulator - INFO - Date = 2020-03-19 10:00:00, number of deaths =  1, number of infected = 12393\n",
      "2020-06-22 19:11:13,370 - june.simulator - INFO - Date = 2020-03-19 13:00:00, number of deaths =  1, number of infected = 13232\n",
      "2020-06-22 19:11:14,410 - june.simulator - INFO - Date = 2020-03-20 00:00:00, number of deaths =  1, number of infected = 14330\n",
      "2020-06-22 19:11:15,775 - june.simulator - INFO - Date = 2020-03-20 01:00:00, number of deaths =  1, number of infected = 14506\n",
      "2020-06-22 19:11:25,779 - june.simulator - INFO - Date = 2020-03-20 05:00:00, number of deaths =  1, number of infected = 16943\n",
      "2020-06-22 19:11:35,328 - june.simulator - INFO - Date = 2020-03-20 09:00:00, number of deaths =  1, number of infected = 19064\n",
      "2020-06-22 19:11:39,638 - june.simulator - INFO - Date = 2020-03-20 10:00:00, number of deaths =  1, number of infected = 19251\n",
      "2020-06-22 19:11:41,166 - june.simulator - INFO - Date = 2020-03-20 13:00:00, number of deaths =  1, number of infected = 20263\n",
      "2020-06-22 19:11:45,521 - june.simulator - INFO - Date = 2020-03-21 00:00:00, number of deaths =  1, number of infected = 21322\n",
      "2020-06-22 19:11:50,983 - june.simulator - INFO - Date = 2020-03-21 04:00:00, number of deaths =  1, number of infected = 22943\n",
      "2020-06-22 19:11:55,061 - june.simulator - INFO - Date = 2020-03-21 08:00:00, number of deaths =  1, number of infected = 24723\n",
      "2020-06-22 19:11:56,292 - june.simulator - INFO - Date = 2020-03-21 12:00:00, number of deaths =  1, number of infected = 26360\n",
      "2020-06-22 19:12:00,504 - june.simulator - INFO - Date = 2020-03-22 00:00:00, number of deaths =  1, number of infected = 27475\n",
      "2020-06-22 19:12:04,994 - june.simulator - INFO - Date = 2020-03-22 04:00:00, number of deaths =  1, number of infected = 29188\n",
      "2020-06-22 19:12:09,936 - june.simulator - INFO - Date = 2020-03-22 08:00:00, number of deaths =  1, number of infected = 30867\n",
      "2020-06-22 19:12:11,017 - june.simulator - INFO - Date = 2020-03-22 12:00:00, number of deaths =  1, number of infected = 32355\n",
      "2020-06-22 19:12:11,913 - june.simulator - INFO - Date = 2020-03-23 00:00:00, number of deaths =  1, number of infected = 33202\n",
      "2020-06-22 19:12:12,992 - june.simulator - INFO - Date = 2020-03-23 01:00:00, number of deaths =  1, number of infected = 33367\n",
      "2020-06-22 19:12:19,829 - june.simulator - INFO - Date = 2020-03-23 05:00:00, number of deaths =  1, number of infected = 35699\n",
      "2020-06-22 19:12:22,193 - june.simulator - INFO - Date = 2020-03-23 09:00:00, number of deaths =  2, number of infected = 37206\n",
      "2020-06-22 19:12:24,687 - june.simulator - INFO - Date = 2020-03-23 10:00:00, number of deaths =  2, number of infected = 37362\n",
      "2020-06-22 19:12:26,224 - june.simulator - INFO - Date = 2020-03-23 13:00:00, number of deaths =  2, number of infected = 38255\n",
      "2020-06-22 19:12:27,417 - june.simulator - INFO - Date = 2020-03-24 00:00:00, number of deaths =  2, number of infected = 38899\n",
      "2020-06-22 19:12:28,922 - june.simulator - INFO - Date = 2020-03-24 01:00:00, number of deaths =  2, number of infected = 38977\n",
      "2020-06-22 19:12:31,134 - june.simulator - INFO - Date = 2020-03-24 05:00:00, number of deaths =  2, number of infected = 40118\n",
      "2020-06-22 19:12:32,286 - june.simulator - INFO - Date = 2020-03-24 09:00:00, number of deaths =  3, number of infected = 41001\n",
      "2020-06-22 19:12:34,666 - june.simulator - INFO - Date = 2020-03-24 10:00:00, number of deaths =  3, number of infected = 41074\n",
      "2020-06-22 19:12:35,507 - june.simulator - INFO - Date = 2020-03-24 13:00:00, number of deaths =  4, number of infected = 41728\n",
      "2020-06-22 19:12:36,842 - june.simulator - INFO - Date = 2020-03-25 00:00:00, number of deaths =  4, number of infected = 42077\n",
      "2020-06-22 19:12:39,112 - june.simulator - INFO - Date = 2020-03-25 01:00:00, number of deaths =  4, number of infected = 42130\n",
      "2020-06-22 19:12:40,350 - june.simulator - INFO - Date = 2020-03-25 05:00:00, number of deaths =  4, number of infected = 42623\n",
      "2020-06-22 19:12:41,391 - june.simulator - INFO - Date = 2020-03-25 09:00:00, number of deaths =  4, number of infected = 43082\n",
      "2020-06-22 19:12:44,245 - june.simulator - INFO - Date = 2020-03-25 10:00:00, number of deaths =  4, number of infected = 43148\n",
      "2020-06-22 19:12:45,022 - june.simulator - INFO - Date = 2020-03-25 13:00:00, number of deaths =  4, number of infected = 43526\n",
      "2020-06-22 19:12:45,950 - june.simulator - INFO - Date = 2020-03-26 00:00:00, number of deaths =  5, number of infected = 43816\n",
      "2020-06-22 19:12:47,343 - june.simulator - INFO - Date = 2020-03-26 01:00:00, number of deaths =  5, number of infected = 43869\n",
      "2020-06-22 19:12:48,949 - june.simulator - INFO - Date = 2020-03-26 05:00:00, number of deaths =  5, number of infected = 44184\n",
      "2020-06-22 19:12:49,882 - june.simulator - INFO - Date = 2020-03-26 09:00:00, number of deaths =  5, number of infected = 44465\n",
      "2020-06-22 19:12:52,174 - june.simulator - INFO - Date = 2020-03-26 10:00:00, number of deaths =  5, number of infected = 44514\n",
      "2020-06-22 19:12:53,251 - june.simulator - INFO - Date = 2020-03-26 13:00:00, number of deaths =  5, number of infected = 44778\n",
      "2020-06-22 19:12:54,351 - june.simulator - INFO - Date = 2020-03-27 00:00:00, number of deaths =  6, number of infected = 44957\n",
      "2020-06-22 19:12:55,559 - june.simulator - INFO - Date = 2020-03-27 01:00:00, number of deaths =  6, number of infected = 44984\n",
      "2020-06-22 19:12:57,066 - june.simulator - INFO - Date = 2020-03-27 05:00:00, number of deaths =  6, number of infected = 45193\n",
      "2020-06-22 19:12:58,264 - june.simulator - INFO - Date = 2020-03-27 09:00:00, number of deaths =  6, number of infected = 45378\n",
      "2020-06-22 19:13:01,101 - june.simulator - INFO - Date = 2020-03-27 10:00:00, number of deaths =  7, number of infected = 45404\n",
      "2020-06-22 19:13:02,395 - june.simulator - INFO - Date = 2020-03-27 13:00:00, number of deaths =  7, number of infected = 45546\n",
      "2020-06-22 19:13:04,936 - june.simulator - INFO - Date = 2020-03-28 00:00:00, number of deaths =  7, number of infected = 45648\n",
      "2020-06-22 19:13:08,256 - june.simulator - INFO - Date = 2020-03-28 04:00:00, number of deaths =  7, number of infected = 45820\n",
      "2020-06-22 19:13:10,904 - june.simulator - INFO - Date = 2020-03-28 08:00:00, number of deaths =  8, number of infected = 45945\n",
      "2020-06-22 19:13:12,029 - june.simulator - INFO - Date = 2020-03-28 12:00:00, number of deaths =  9, number of infected = 46074\n",
      "2020-06-22 19:13:14,515 - june.simulator - INFO - Date = 2020-03-29 00:00:00, number of deaths =  11, number of infected = 46088\n",
      "2020-06-22 19:13:17,289 - june.simulator - INFO - Date = 2020-03-29 04:00:00, number of deaths =  11, number of infected = 46162\n",
      "2020-06-22 19:13:19,642 - june.simulator - INFO - Date = 2020-03-29 08:00:00, number of deaths =  11, number of infected = 46266\n",
      "2020-06-22 19:13:20,496 - june.simulator - INFO - Date = 2020-03-29 12:00:00, number of deaths =  12, number of infected = 46321\n",
      "2020-06-22 19:13:21,445 - june.simulator - INFO - Date = 2020-03-30 00:00:00, number of deaths =  13, number of infected = 46301\n",
      "2020-06-22 19:13:22,397 - june.simulator - INFO - Date = 2020-03-30 01:00:00, number of deaths =  13, number of infected = 46302\n",
      "2020-06-22 19:13:23,473 - june.simulator - INFO - Date = 2020-03-30 05:00:00, number of deaths =  15, number of infected = 46326\n",
      "2020-06-22 19:13:24,561 - june.simulator - INFO - Date = 2020-03-30 09:00:00, number of deaths =  17, number of infected = 46338\n",
      "2020-06-22 19:13:27,787 - june.simulator - INFO - Date = 2020-03-30 10:00:00, number of deaths =  18, number of infected = 46333\n",
      "2020-06-22 19:13:28,582 - june.simulator - INFO - Date = 2020-03-30 13:00:00, number of deaths =  18, number of infected = 46348\n",
      "2020-06-22 19:13:29,786 - june.simulator - INFO - Date = 2020-03-31 00:00:00, number of deaths =  22, number of infected = 46315\n",
      "2020-06-22 19:13:31,198 - june.simulator - INFO - Date = 2020-03-31 01:00:00, number of deaths =  22, number of infected = 46311\n",
      "2020-06-22 19:13:32,458 - june.simulator - INFO - Date = 2020-03-31 05:00:00, number of deaths =  23, number of infected = 46309\n",
      "2020-06-22 19:13:33,804 - june.simulator - INFO - Date = 2020-03-31 09:00:00, number of deaths =  24, number of infected = 46312\n",
      "2020-06-22 19:13:36,081 - june.simulator - INFO - Date = 2020-03-31 10:00:00, number of deaths =  24, number of infected = 46310\n",
      "2020-06-22 19:13:37,059 - june.simulator - INFO - Date = 2020-03-31 13:00:00, number of deaths =  25, number of infected = 46313\n",
      "2020-06-22 19:13:37,894 - june.simulator - INFO - Date = 2020-04-01 00:00:00, number of deaths =  25, number of infected = 46225\n",
      "2020-06-22 19:13:39,168 - june.simulator - INFO - Date = 2020-04-01 01:00:00, number of deaths =  26, number of infected = 46213\n",
      "2020-06-22 19:13:40,721 - june.simulator - INFO - Date = 2020-04-01 05:00:00, number of deaths =  29, number of infected = 46201\n",
      "2020-06-22 19:13:41,846 - june.simulator - INFO - Date = 2020-04-01 09:00:00, number of deaths =  30, number of infected = 46168\n",
      "2020-06-22 19:13:43,923 - june.simulator - INFO - Date = 2020-04-01 10:00:00, number of deaths =  30, number of infected = 46154\n",
      "2020-06-22 19:13:44,866 - june.simulator - INFO - Date = 2020-04-01 13:00:00, number of deaths =  31, number of infected = 46115\n",
      "2020-06-22 19:13:45,853 - june.simulator - INFO - Date = 2020-04-02 00:00:00, number of deaths =  35, number of infected = 45960\n",
      "2020-06-22 19:13:47,012 - june.simulator - INFO - Date = 2020-04-02 01:00:00, number of deaths =  35, number of infected = 45949\n",
      "2020-06-22 19:13:48,804 - june.simulator - INFO - Date = 2020-04-02 05:00:00, number of deaths =  36, number of infected = 45907\n",
      "2020-06-22 19:13:50,524 - june.simulator - INFO - Date = 2020-04-02 09:00:00, number of deaths =  41, number of infected = 45834\n",
      "2020-06-22 19:13:54,762 - june.simulator - INFO - Date = 2020-04-02 10:00:00, number of deaths =  41, number of infected = 45811\n",
      "2020-06-22 19:13:56,949 - june.simulator - INFO - Date = 2020-04-02 13:00:00, number of deaths =  41, number of infected = 45750\n",
      "2020-06-22 19:13:59,239 - june.simulator - INFO - Date = 2020-04-03 00:00:00, number of deaths =  49, number of infected = 45463\n",
      "2020-06-22 19:14:01,387 - june.simulator - INFO - Date = 2020-04-03 01:00:00, number of deaths =  49, number of infected = 45437\n",
      "2020-06-22 19:14:04,927 - june.simulator - INFO - Date = 2020-04-03 05:00:00, number of deaths =  50, number of infected = 45328\n",
      "2020-06-22 19:14:07,815 - june.simulator - INFO - Date = 2020-04-03 09:00:00, number of deaths =  53, number of infected = 45198\n",
      "2020-06-22 19:14:13,397 - june.simulator - INFO - Date = 2020-04-03 10:00:00, number of deaths =  55, number of infected = 45161\n",
      "2020-06-22 19:14:14,499 - june.simulator - INFO - Date = 2020-04-03 13:00:00, number of deaths =  58, number of infected = 45061\n",
      "2020-06-22 19:14:17,407 - june.simulator - INFO - Date = 2020-04-04 00:00:00, number of deaths =  63, number of infected = 44618\n",
      "2020-06-22 19:14:20,301 - june.simulator - INFO - Date = 2020-04-04 04:00:00, number of deaths =  66, number of infected = 44439\n",
      "2020-06-22 19:14:22,745 - june.simulator - INFO - Date = 2020-04-04 08:00:00, number of deaths =  67, number of infected = 44244\n",
      "2020-06-22 19:14:23,657 - june.simulator - INFO - Date = 2020-04-04 12:00:00, number of deaths =  69, number of infected = 44045\n",
      "2020-06-22 19:14:26,592 - june.simulator - INFO - Date = 2020-04-05 00:00:00, number of deaths =  77, number of infected = 43243\n",
      "2020-06-22 19:14:28,970 - june.simulator - INFO - Date = 2020-04-05 04:00:00, number of deaths =  80, number of infected = 43000\n",
      "2020-06-22 19:14:31,814 - june.simulator - INFO - Date = 2020-04-05 08:00:00, number of deaths =  83, number of infected = 42689\n",
      "2020-06-22 19:14:32,745 - june.simulator - INFO - Date = 2020-04-05 12:00:00, number of deaths =  84, number of infected = 42422\n",
      "2020-06-22 19:14:33,679 - june.simulator - INFO - Date = 2020-04-06 00:00:00, number of deaths =  94, number of infected = 41548\n",
      "2020-06-22 19:14:34,829 - june.simulator - INFO - Date = 2020-04-06 01:00:00, number of deaths =  94, number of infected = 41470\n",
      "2020-06-22 19:14:35,918 - june.simulator - INFO - Date = 2020-04-06 05:00:00, number of deaths =  95, number of infected = 41128\n",
      "2020-06-22 19:14:36,916 - june.simulator - INFO - Date = 2020-04-06 09:00:00, number of deaths =  96, number of infected = 40797\n",
      "2020-06-22 19:14:39,466 - june.simulator - INFO - Date = 2020-04-06 10:00:00, number of deaths =  96, number of infected = 40694\n",
      "2020-06-22 19:14:40,347 - june.simulator - INFO - Date = 2020-04-06 13:00:00, number of deaths =  97, number of infected = 40406\n",
      "2020-06-22 19:14:41,144 - june.simulator - INFO - Date = 2020-04-07 00:00:00, number of deaths =  106, number of infected = 39379\n",
      "2020-06-22 19:14:42,100 - june.simulator - INFO - Date = 2020-04-07 01:00:00, number of deaths =  106, number of infected = 39287\n",
      "2020-06-22 19:14:43,005 - june.simulator - INFO - Date = 2020-04-07 05:00:00, number of deaths =  108, number of infected = 38900\n",
      "2020-06-22 19:14:43,692 - june.simulator - INFO - Date = 2020-04-07 09:00:00, number of deaths =  113, number of infected = 38500\n",
      "2020-06-22 19:14:45,431 - june.simulator - INFO - Date = 2020-04-07 10:00:00, number of deaths =  115, number of infected = 38412\n",
      "2020-06-22 19:14:46,099 - june.simulator - INFO - Date = 2020-04-07 13:00:00, number of deaths =  117, number of infected = 38116\n",
      "2020-06-22 19:14:46,869 - june.simulator - INFO - Date = 2020-04-08 00:00:00, number of deaths =  125, number of infected = 36967\n",
      "2020-06-22 19:14:48,208 - june.simulator - INFO - Date = 2020-04-08 01:00:00, number of deaths =  125, number of infected = 36862\n",
      "2020-06-22 19:14:49,821 - june.simulator - INFO - Date = 2020-04-08 05:00:00, number of deaths =  129, number of infected = 36407\n",
      "2020-06-22 19:14:50,810 - june.simulator - INFO - Date = 2020-04-08 09:00:00, number of deaths =  134, number of infected = 35942\n",
      "2020-06-22 19:14:53,993 - june.simulator - INFO - Date = 2020-04-08 10:00:00, number of deaths =  134, number of infected = 35810\n",
      "2020-06-22 19:14:55,536 - june.simulator - INFO - Date = 2020-04-08 13:00:00, number of deaths =  135, number of infected = 35464\n",
      "2020-06-22 19:14:56,841 - june.simulator - INFO - Date = 2020-04-09 00:00:00, number of deaths =  140, number of infected = 34165\n",
      "2020-06-22 19:14:58,321 - june.simulator - INFO - Date = 2020-04-09 01:00:00, number of deaths =  140, number of infected = 34045\n",
      "2020-06-22 19:14:59,932 - june.simulator - INFO - Date = 2020-04-09 05:00:00, number of deaths =  141, number of infected = 33516\n",
      "2020-06-22 19:15:00,854 - june.simulator - INFO - Date = 2020-04-09 09:00:00, number of deaths =  144, number of infected = 32985\n",
      "2020-06-22 19:15:03,751 - june.simulator - INFO - Date = 2020-04-09 10:00:00, number of deaths =  144, number of infected = 32867\n",
      "2020-06-22 19:15:04,775 - june.simulator - INFO - Date = 2020-04-09 13:00:00, number of deaths =  144, number of infected = 32498\n",
      "2020-06-22 19:15:05,702 - june.simulator - INFO - Date = 2020-04-10 00:00:00, number of deaths =  151, number of infected = 31038\n",
      "2020-06-22 19:15:06,799 - june.simulator - INFO - Date = 2020-04-10 01:00:00, number of deaths =  152, number of infected = 30910\n",
      "2020-06-22 19:15:07,765 - june.simulator - INFO - Date = 2020-04-10 05:00:00, number of deaths =  158, number of infected = 30342\n",
      "2020-06-22 19:15:08,656 - june.simulator - INFO - Date = 2020-04-10 09:00:00, number of deaths =  159, number of infected = 29807\n",
      "2020-06-22 19:15:12,417 - june.simulator - INFO - Date = 2020-04-10 10:00:00, number of deaths =  159, number of infected = 29692\n",
      "2020-06-22 19:15:13,490 - june.simulator - INFO - Date = 2020-04-10 13:00:00, number of deaths =  161, number of infected = 29291\n",
      "2020-06-22 19:15:17,586 - june.simulator - INFO - Date = 2020-04-11 00:00:00, number of deaths =  165, number of infected = 27780\n",
      "2020-06-22 19:15:20,579 - june.simulator - INFO - Date = 2020-04-11 04:00:00, number of deaths =  166, number of infected = 27194\n",
      "2020-06-22 19:15:22,923 - june.simulator - INFO - Date = 2020-04-11 08:00:00, number of deaths =  170, number of infected = 26598\n",
      "2020-06-22 19:15:23,485 - june.simulator - INFO - Date = 2020-04-11 12:00:00, number of deaths =  173, number of infected = 25990\n",
      "2020-06-22 19:15:25,622 - june.simulator - INFO - Date = 2020-04-12 00:00:00, number of deaths =  178, number of infected = 24244\n",
      "2020-06-22 19:15:27,774 - june.simulator - INFO - Date = 2020-04-12 04:00:00, number of deaths =  180, number of infected = 23616\n",
      "2020-06-22 19:15:30,152 - june.simulator - INFO - Date = 2020-04-12 08:00:00, number of deaths =  181, number of infected = 22974\n",
      "2020-06-22 19:15:30,798 - june.simulator - INFO - Date = 2020-04-12 12:00:00, number of deaths =  183, number of infected = 22398\n",
      "2020-06-22 19:15:31,397 - june.simulator - INFO - Date = 2020-04-13 00:00:00, number of deaths =  189, number of infected = 20570\n",
      "2020-06-22 19:15:32,289 - june.simulator - INFO - Date = 2020-04-13 01:00:00, number of deaths =  189, number of infected = 20433\n",
      "2020-06-22 19:15:33,235 - june.simulator - INFO - Date = 2020-04-13 05:00:00, number of deaths =  193, number of infected = 19851\n",
      "2020-06-22 19:15:33,980 - june.simulator - INFO - Date = 2020-04-13 09:00:00, number of deaths =  200, number of infected = 19261\n",
      "2020-06-22 19:15:35,797 - june.simulator - INFO - Date = 2020-04-13 10:00:00, number of deaths =  200, number of infected = 19101\n",
      "2020-06-22 19:15:36,322 - june.simulator - INFO - Date = 2020-04-13 13:00:00, number of deaths =  201, number of infected = 18677\n",
      "2020-06-22 19:15:37,029 - june.simulator - INFO - Date = 2020-04-14 00:00:00, number of deaths =  205, number of infected = 17034\n",
      "2020-06-22 19:15:37,838 - june.simulator - INFO - Date = 2020-04-14 01:00:00, number of deaths =  205, number of infected = 16877\n",
      "2020-06-22 19:15:38,662 - june.simulator - INFO - Date = 2020-04-14 05:00:00, number of deaths =  207, number of infected = 16298\n",
      "2020-06-22 19:15:39,222 - june.simulator - INFO - Date = 2020-04-14 09:00:00, number of deaths =  210, number of infected = 15721\n",
      "2020-06-22 19:15:41,664 - june.simulator - INFO - Date = 2020-04-14 10:00:00, number of deaths =  210, number of infected = 15566\n",
      "2020-06-22 19:15:42,189 - june.simulator - INFO - Date = 2020-04-14 13:00:00, number of deaths =  216, number of infected = 15160\n",
      "2020-06-22 19:15:42,782 - june.simulator - INFO - Date = 2020-04-15 00:00:00, number of deaths =  224, number of infected = 13679\n",
      "2020-06-22 19:15:43,607 - june.simulator - INFO - Date = 2020-04-15 01:00:00, number of deaths =  224, number of infected = 13532\n",
      "2020-06-22 19:15:44,511 - june.simulator - INFO - Date = 2020-04-15 05:00:00, number of deaths =  225, number of infected = 13036\n",
      "2020-06-22 19:15:45,036 - june.simulator - INFO - Date = 2020-04-15 09:00:00, number of deaths =  230, number of infected = 12563\n",
      "2020-06-22 19:15:47,500 - june.simulator - INFO - Date = 2020-04-15 10:00:00, number of deaths =  230, number of infected = 12431\n",
      "2020-06-22 19:15:47,936 - june.simulator - INFO - Date = 2020-04-15 13:00:00, number of deaths =  233, number of infected = 12033\n",
      "2020-06-22 19:15:48,424 - june.simulator - INFO - Date = 2020-04-16 00:00:00, number of deaths =  240, number of infected = 10764\n",
      "2020-06-22 19:15:49,106 - june.simulator - INFO - Date = 2020-04-16 01:00:00, number of deaths =  240, number of infected = 10649\n",
      "2020-06-22 19:15:49,775 - june.simulator - INFO - Date = 2020-04-16 05:00:00, number of deaths =  240, number of infected = 10205\n",
      "2020-06-22 19:15:50,336 - june.simulator - INFO - Date = 2020-04-16 09:00:00, number of deaths =  241, number of infected = 9794\n",
      "2020-06-22 19:15:53,283 - june.simulator - INFO - Date = 2020-04-16 10:00:00, number of deaths =  241, number of infected = 9686\n",
      "2020-06-22 19:15:53,774 - june.simulator - INFO - Date = 2020-04-16 13:00:00, number of deaths =  244, number of infected = 9382\n",
      "2020-06-22 19:15:54,452 - june.simulator - INFO - Date = 2020-04-17 00:00:00, number of deaths =  246, number of infected = 8261\n",
      "2020-06-22 19:15:55,255 - june.simulator - INFO - Date = 2020-04-17 01:00:00, number of deaths =  246, number of infected = 8169\n",
      "2020-06-22 19:15:56,286 - june.simulator - INFO - Date = 2020-04-17 05:00:00, number of deaths =  249, number of infected = 7807\n",
      "2020-06-22 19:15:56,823 - june.simulator - INFO - Date = 2020-04-17 09:00:00, number of deaths =  251, number of infected = 7427\n",
      "2020-06-22 19:15:59,259 - june.simulator - INFO - Date = 2020-04-17 10:00:00, number of deaths =  253, number of infected = 7337\n",
      "2020-06-22 19:15:59,685 - june.simulator - INFO - Date = 2020-04-17 13:00:00, number of deaths =  254, number of infected = 7110\n",
      "2020-06-22 19:16:02,747 - june.simulator - INFO - Date = 2020-04-18 00:00:00, number of deaths =  256, number of infected = 6261\n",
      "2020-06-22 19:16:05,767 - june.simulator - INFO - Date = 2020-04-18 04:00:00, number of deaths =  259, number of infected = 5927\n",
      "2020-06-22 19:16:08,789 - june.simulator - INFO - Date = 2020-04-18 08:00:00, number of deaths =  259, number of infected = 5624\n",
      "2020-06-22 19:16:09,205 - june.simulator - INFO - Date = 2020-04-18 12:00:00, number of deaths =  259, number of infected = 5359\n",
      "2020-06-22 19:16:12,004 - june.simulator - INFO - Date = 2020-04-19 00:00:00, number of deaths =  260, number of infected = 4603\n",
      "2020-06-22 19:16:14,609 - june.simulator - INFO - Date = 2020-04-19 04:00:00, number of deaths =  261, number of infected = 4338\n",
      "2020-06-22 19:16:17,236 - june.simulator - INFO - Date = 2020-04-19 08:00:00, number of deaths =  261, number of infected = 4104\n",
      "2020-06-22 19:16:17,632 - june.simulator - INFO - Date = 2020-04-19 12:00:00, number of deaths =  263, number of infected = 3889\n",
      "2020-06-22 19:16:18,052 - june.simulator - INFO - Date = 2020-04-20 00:00:00, number of deaths =  269, number of infected = 3328\n",
      "2020-06-22 19:16:18,932 - june.simulator - INFO - Date = 2020-04-20 01:00:00, number of deaths =  269, number of infected = 3280\n",
      "2020-06-22 19:16:19,726 - june.simulator - INFO - Date = 2020-04-20 05:00:00, number of deaths =  271, number of infected = 3099\n",
      "2020-06-22 19:16:20,147 - june.simulator - INFO - Date = 2020-04-20 09:00:00, number of deaths =  271, number of infected = 2919\n",
      "2020-06-22 19:16:22,397 - june.simulator - INFO - Date = 2020-04-20 10:00:00, number of deaths =  271, number of infected = 2865\n",
      "2020-06-22 19:16:22,913 - june.simulator - INFO - Date = 2020-04-20 13:00:00, number of deaths =  271, number of infected = 2751\n",
      "2020-06-22 19:16:23,381 - june.simulator - INFO - Date = 2020-04-21 00:00:00, number of deaths =  272, number of infected = 2362\n",
      "2020-06-22 19:16:24,257 - june.simulator - INFO - Date = 2020-04-21 01:00:00, number of deaths =  272, number of infected = 2335\n",
      "2020-06-22 19:16:25,048 - june.simulator - INFO - Date = 2020-04-21 05:00:00, number of deaths =  273, number of infected = 2179\n",
      "2020-06-22 19:16:25,352 - june.simulator - INFO - Date = 2020-04-21 09:00:00, number of deaths =  273, number of infected = 2058\n",
      "2020-06-22 19:16:27,531 - june.simulator - INFO - Date = 2020-04-21 10:00:00, number of deaths =  273, number of infected = 2027\n",
      "2020-06-22 19:16:27,918 - june.simulator - INFO - Date = 2020-04-21 13:00:00, number of deaths =  274, number of infected = 1922\n",
      "2020-06-22 19:16:28,218 - june.simulator - INFO - Date = 2020-04-22 00:00:00, number of deaths =  276, number of infected = 1627\n",
      "2020-06-22 19:16:28,824 - june.simulator - INFO - Date = 2020-04-22 01:00:00, number of deaths =  276, number of infected = 1606\n",
      "2020-06-22 19:16:29,424 - june.simulator - INFO - Date = 2020-04-22 05:00:00, number of deaths =  276, number of infected = 1527\n",
      "2020-06-22 19:16:29,755 - june.simulator - INFO - Date = 2020-04-22 09:00:00, number of deaths =  276, number of infected = 1430\n",
      "2020-06-22 19:16:31,988 - june.simulator - INFO - Date = 2020-04-22 10:00:00, number of deaths =  276, number of infected = 1401\n",
      "2020-06-22 19:16:32,301 - june.simulator - INFO - Date = 2020-04-22 13:00:00, number of deaths =  277, number of infected = 1344\n",
      "2020-06-22 19:16:32,581 - june.simulator - INFO - Date = 2020-04-23 00:00:00, number of deaths =  279, number of infected = 1131\n",
      "2020-06-22 19:16:33,490 - june.simulator - INFO - Date = 2020-04-23 01:00:00, number of deaths =  279, number of infected = 1118\n",
      "2020-06-22 19:16:34,087 - june.simulator - INFO - Date = 2020-04-23 05:00:00, number of deaths =  279, number of infected = 1055\n",
      "2020-06-22 19:16:34,372 - june.simulator - INFO - Date = 2020-04-23 09:00:00, number of deaths =  279, number of infected = 996\n",
      "2020-06-22 19:16:37,161 - june.simulator - INFO - Date = 2020-04-23 10:00:00, number of deaths =  279, number of infected = 980\n",
      "2020-06-22 19:16:37,554 - june.simulator - INFO - Date = 2020-04-23 13:00:00, number of deaths =  279, number of infected = 929\n",
      "2020-06-22 19:16:37,877 - june.simulator - INFO - Date = 2020-04-24 00:00:00, number of deaths =  280, number of infected = 786\n",
      "2020-06-22 19:16:38,574 - june.simulator - INFO - Date = 2020-04-24 01:00:00, number of deaths =  281, number of infected = 766\n",
      "2020-06-22 19:16:39,374 - june.simulator - INFO - Date = 2020-04-24 05:00:00, number of deaths =  281, number of infected = 727\n",
      "2020-06-22 19:16:39,779 - june.simulator - INFO - Date = 2020-04-24 09:00:00, number of deaths =  281, number of infected = 676\n",
      "2020-06-22 19:16:42,597 - june.simulator - INFO - Date = 2020-04-24 10:00:00, number of deaths =  281, number of infected = 667\n",
      "2020-06-22 19:16:42,917 - june.simulator - INFO - Date = 2020-04-24 13:00:00, number of deaths =  282, number of infected = 642\n",
      "2020-06-22 19:16:46,252 - june.simulator - INFO - Date = 2020-04-25 00:00:00, number of deaths =  283, number of infected = 546\n",
      "2020-06-22 19:16:49,586 - june.simulator - INFO - Date = 2020-04-25 04:00:00, number of deaths =  285, number of infected = 517\n",
      "2020-06-22 19:16:52,150 - june.simulator - INFO - Date = 2020-04-25 08:00:00, number of deaths =  288, number of infected = 481\n",
      "2020-06-22 19:16:52,428 - june.simulator - INFO - Date = 2020-04-25 12:00:00, number of deaths =  288, number of infected = 451\n",
      "2020-06-22 19:16:55,009 - june.simulator - INFO - Date = 2020-04-26 00:00:00, number of deaths =  289, number of infected = 364\n",
      "2020-06-22 19:16:57,816 - june.simulator - INFO - Date = 2020-04-26 04:00:00, number of deaths =  289, number of infected = 343\n",
      "2020-06-22 19:17:00,437 - june.simulator - INFO - Date = 2020-04-26 08:00:00, number of deaths =  289, number of infected = 325\n",
      "2020-06-22 19:17:00,709 - june.simulator - INFO - Date = 2020-04-26 12:00:00, number of deaths =  292, number of infected = 300\n",
      "2020-06-22 19:17:01,007 - june.simulator - INFO - Date = 2020-04-27 00:00:00, number of deaths =  296, number of infected = 242\n",
      "2020-06-22 19:17:01,674 - june.simulator - INFO - Date = 2020-04-27 01:00:00, number of deaths =  296, number of infected = 238\n",
      "2020-06-22 19:17:02,261 - june.simulator - INFO - Date = 2020-04-27 05:00:00, number of deaths =  297, number of infected = 224\n",
      "2020-06-22 19:17:02,630 - june.simulator - INFO - Date = 2020-04-27 09:00:00, number of deaths =  297, number of infected = 200\n",
      "2020-06-22 19:17:04,808 - june.simulator - INFO - Date = 2020-04-27 10:00:00, number of deaths =  297, number of infected = 194\n",
      "2020-06-22 19:17:05,279 - june.simulator - INFO - Date = 2020-04-27 13:00:00, number of deaths =  297, number of infected = 186\n",
      "2020-06-22 19:17:05,639 - june.simulator - INFO - Date = 2020-04-28 00:00:00, number of deaths =  298, number of infected = 160\n",
      "2020-06-22 19:17:06,213 - june.simulator - INFO - Date = 2020-04-28 01:00:00, number of deaths =  298, number of infected = 155\n",
      "2020-06-22 19:17:06,935 - june.simulator - INFO - Date = 2020-04-28 05:00:00, number of deaths =  298, number of infected = 147\n",
      "2020-06-22 19:17:07,259 - june.simulator - INFO - Date = 2020-04-28 09:00:00, number of deaths =  298, number of infected = 134\n",
      "2020-06-22 19:17:10,012 - june.simulator - INFO - Date = 2020-04-28 10:00:00, number of deaths =  298, number of infected = 132\n",
      "2020-06-22 19:17:10,266 - june.simulator - INFO - Date = 2020-04-28 13:00:00, number of deaths =  298, number of infected = 125\n",
      "2020-06-22 19:17:10,559 - june.simulator - INFO - Date = 2020-04-29 00:00:00, number of deaths =  298, number of infected = 107\n",
      "2020-06-22 19:17:11,244 - june.simulator - INFO - Date = 2020-04-29 01:00:00, number of deaths =  298, number of infected = 105\n",
      "2020-06-22 19:17:11,887 - june.simulator - INFO - Date = 2020-04-29 05:00:00, number of deaths =  299, number of infected = 97\n",
      "2020-06-22 19:17:12,254 - june.simulator - INFO - Date = 2020-04-29 09:00:00, number of deaths =  299, number of infected = 89\n",
      "2020-06-22 19:17:14,922 - june.simulator - INFO - Date = 2020-04-29 10:00:00, number of deaths =  299, number of infected = 87\n",
      "2020-06-22 19:17:15,242 - june.simulator - INFO - Date = 2020-04-29 13:00:00, number of deaths =  299, number of infected = 84\n",
      "2020-06-22 19:17:15,599 - june.simulator - INFO - Date = 2020-04-30 00:00:00, number of deaths =  299, number of infected = 71\n",
      "2020-06-22 19:17:16,362 - june.simulator - INFO - Date = 2020-04-30 01:00:00, number of deaths =  299, number of infected = 70\n",
      "2020-06-22 19:17:16,952 - june.simulator - INFO - Date = 2020-04-30 05:00:00, number of deaths =  301, number of infected = 64\n",
      "2020-06-22 19:17:17,260 - june.simulator - INFO - Date = 2020-04-30 09:00:00, number of deaths =  301, number of infected = 63\n",
      "2020-06-22 19:17:19,526 - june.simulator - INFO - Date = 2020-04-30 10:00:00, number of deaths =  301, number of infected = 62\n",
      "2020-06-22 19:17:19,792 - june.simulator - INFO - Date = 2020-04-30 13:00:00, number of deaths =  301, number of infected = 58\n",
      "2020-06-22 19:17:20,097 - june.simulator - INFO - Date = 2020-05-01 00:00:00, number of deaths =  301, number of infected = 51\n",
      "2020-06-22 19:17:20,697 - june.simulator - INFO - Date = 2020-05-01 01:00:00, number of deaths =  301, number of infected = 49\n",
      "2020-06-22 19:17:21,426 - june.simulator - INFO - Date = 2020-05-01 05:00:00, number of deaths =  301, number of infected = 47\n",
      "2020-06-22 19:17:21,788 - june.simulator - INFO - Date = 2020-05-01 09:00:00, number of deaths =  302, number of infected = 43\n",
      "2020-06-22 19:17:24,021 - june.simulator - INFO - Date = 2020-05-01 10:00:00, number of deaths =  302, number of infected = 41\n",
      "2020-06-22 19:17:24,360 - june.simulator - INFO - Date = 2020-05-01 13:00:00, number of deaths =  302, number of infected = 39\n",
      "2020-06-22 19:17:27,157 - june.simulator - INFO - Date = 2020-05-02 00:00:00, number of deaths =  302, number of infected = 31\n",
      "2020-06-22 19:17:30,515 - june.simulator - INFO - Date = 2020-05-02 04:00:00, number of deaths =  302, number of infected = 28\n",
      "2020-06-22 19:17:33,807 - june.simulator - INFO - Date = 2020-05-02 08:00:00, number of deaths =  302, number of infected = 26\n",
      "2020-06-22 19:17:34,134 - june.simulator - INFO - Date = 2020-05-02 12:00:00, number of deaths =  302, number of infected = 25\n",
      "2020-06-22 19:17:37,585 - june.simulator - INFO - Date = 2020-05-03 00:00:00, number of deaths =  302, number of infected = 22\n",
      "2020-06-22 19:17:40,912 - june.simulator - INFO - Date = 2020-05-03 04:00:00, number of deaths =  302, number of infected = 21\n",
      "2020-06-22 19:17:44,348 - june.simulator - INFO - Date = 2020-05-03 08:00:00, number of deaths =  302, number of infected = 20\n",
      "2020-06-22 19:17:44,638 - june.simulator - INFO - Date = 2020-05-03 12:00:00, number of deaths =  302, number of infected = 19\n",
      "2020-06-22 19:17:44,999 - june.simulator - INFO - Date = 2020-05-04 00:00:00, number of deaths =  302, number of infected = 15\n",
      "2020-06-22 19:17:45,868 - june.simulator - INFO - Date = 2020-05-04 01:00:00, number of deaths =  302, number of infected = 14\n",
      "2020-06-22 19:17:46,466 - june.simulator - INFO - Date = 2020-05-04 05:00:00, number of deaths =  302, number of infected = 12\n",
      "2020-06-22 19:17:46,829 - june.simulator - INFO - Date = 2020-05-04 09:00:00, number of deaths =  302, number of infected = 10\n",
      "2020-06-22 19:17:49,181 - june.simulator - INFO - Date = 2020-05-04 10:00:00, number of deaths =  302, number of infected = 10\n",
      "2020-06-22 19:17:49,549 - june.simulator - INFO - Date = 2020-05-04 13:00:00, number of deaths =  302, number of infected = 10\n",
      "2020-06-22 19:17:49,941 - june.simulator - INFO - Date = 2020-05-05 00:00:00, number of deaths =  302, number of infected = 7\n",
      "2020-06-22 19:17:50,653 - june.simulator - INFO - Date = 2020-05-05 01:00:00, number of deaths =  302, number of infected = 7\n",
      "2020-06-22 19:17:51,593 - june.simulator - INFO - Date = 2020-05-05 05:00:00, number of deaths =  302, number of infected = 7\n",
      "2020-06-22 19:17:51,928 - june.simulator - INFO - Date = 2020-05-05 09:00:00, number of deaths =  302, number of infected = 6\n",
      "2020-06-22 19:17:54,654 - june.simulator - INFO - Date = 2020-05-05 10:00:00, number of deaths =  302, number of infected = 6\n",
      "2020-06-22 19:17:54,919 - june.simulator - INFO - Date = 2020-05-05 13:00:00, number of deaths =  302, number of infected = 4\n",
      "2020-06-22 19:17:55,272 - june.simulator - INFO - Date = 2020-05-06 00:00:00, number of deaths =  302, number of infected = 3\n",
      "2020-06-22 19:17:56,026 - june.simulator - INFO - Date = 2020-05-06 01:00:00, number of deaths =  302, number of infected = 3\n",
      "2020-06-22 19:17:56,719 - june.simulator - INFO - Date = 2020-05-06 05:00:00, number of deaths =  302, number of infected = 3\n",
      "2020-06-22 19:17:57,058 - june.simulator - INFO - Date = 2020-05-06 09:00:00, number of deaths =  302, number of infected = 3\n",
      "2020-06-22 19:18:00,035 - june.simulator - INFO - Date = 2020-05-06 10:00:00, number of deaths =  302, number of infected = 3\n",
      "2020-06-22 19:18:00,588 - june.simulator - INFO - Date = 2020-05-06 13:00:00, number of deaths =  302, number of infected = 3\n",
      "2020-06-22 19:18:01,064 - june.simulator - INFO - Date = 2020-05-07 00:00:00, number of deaths =  302, number of infected = 2\n",
      "2020-06-22 19:18:01,832 - june.simulator - INFO - Date = 2020-05-07 01:00:00, number of deaths =  302, number of infected = 2\n",
      "2020-06-22 19:18:02,490 - june.simulator - INFO - Date = 2020-05-07 05:00:00, number of deaths =  302, number of infected = 2\n",
      "2020-06-22 19:18:02,814 - june.simulator - INFO - Date = 2020-05-07 09:00:00, number of deaths =  302, number of infected = 2\n",
      "2020-06-22 19:18:05,566 - june.simulator - INFO - Date = 2020-05-07 10:00:00, number of deaths =  302, number of infected = 2\n",
      "2020-06-22 19:18:05,905 - june.simulator - INFO - Date = 2020-05-07 13:00:00, number of deaths =  302, number of infected = 2\n",
      "2020-06-22 19:18:06,291 - june.simulator - INFO - Date = 2020-05-08 00:00:00, number of deaths =  302, number of infected = 2\n",
      "2020-06-22 19:18:06,982 - june.simulator - INFO - Date = 2020-05-08 01:00:00, number of deaths =  302, number of infected = 2\n",
      "2020-06-22 19:18:07,785 - june.simulator - INFO - Date = 2020-05-08 05:00:00, number of deaths =  302, number of infected = 2\n",
      "2020-06-22 19:18:08,118 - june.simulator - INFO - Date = 2020-05-08 09:00:00, number of deaths =  302, number of infected = 2\n",
      "2020-06-22 19:18:10,869 - june.simulator - INFO - Date = 2020-05-08 10:00:00, number of deaths =  302, number of infected = 2\n",
      "2020-06-22 19:18:11,266 - june.simulator - INFO - Date = 2020-05-08 13:00:00, number of deaths =  302, number of infected = 2\n",
      "2020-06-22 19:18:14,631 - june.simulator - INFO - Date = 2020-05-09 00:00:00, number of deaths =  302, number of infected = 2\n",
      "2020-06-22 19:18:17,969 - june.simulator - INFO - Date = 2020-05-09 04:00:00, number of deaths =  302, number of infected = 2\n",
      "2020-06-22 19:18:21,354 - june.simulator - INFO - Date = 2020-05-09 08:00:00, number of deaths =  302, number of infected = 2\n",
      "2020-06-22 19:18:21,639 - june.simulator - INFO - Date = 2020-05-09 12:00:00, number of deaths =  303, number of infected = 1\n",
      "2020-06-22 19:18:24,376 - june.simulator - INFO - Date = 2020-05-10 00:00:00, number of deaths =  303, number of infected = 1\n",
      "2020-06-22 19:18:27,493 - june.simulator - INFO - Date = 2020-05-10 04:00:00, number of deaths =  303, number of infected = 1\n",
      "2020-06-22 19:18:31,070 - june.simulator - INFO - Date = 2020-05-10 08:00:00, number of deaths =  303, number of infected = 1\n",
      "2020-06-22 19:18:31,535 - june.simulator - INFO - Date = 2020-05-10 12:00:00, number of deaths =  303, number of infected = 1\n",
      "2020-06-22 19:18:31,956 - june.simulator - INFO - Date = 2020-05-11 00:00:00, number of deaths =  303, number of infected = 1\n",
      "2020-06-22 19:18:32,654 - june.simulator - INFO - Date = 2020-05-11 01:00:00, number of deaths =  303, number of infected = 1\n",
      "2020-06-22 19:18:33,382 - june.simulator - INFO - Date = 2020-05-11 05:00:00, number of deaths =  303, number of infected = 1\n",
      "2020-06-22 19:18:33,699 - june.simulator - INFO - Date = 2020-05-11 09:00:00, number of deaths =  303, number of infected = 1\n",
      "2020-06-22 19:18:36,157 - june.simulator - INFO - Date = 2020-05-11 10:00:00, number of deaths =  303, number of infected = 1\n",
      "2020-06-22 19:18:36,499 - june.simulator - INFO - Date = 2020-05-11 13:00:00, number of deaths =  303, number of infected = 1\n",
      "2020-06-22 19:18:36,934 - june.simulator - INFO - Date = 2020-05-12 00:00:00, number of deaths =  303, number of infected = 1\n",
      "2020-06-22 19:18:37,635 - june.simulator - INFO - Date = 2020-05-12 01:00:00, number of deaths =  303, number of infected = 1\n",
      "2020-06-22 19:18:38,393 - june.simulator - INFO - Date = 2020-05-12 05:00:00, number of deaths =  303, number of infected = 1\n",
      "2020-06-22 19:18:38,685 - june.simulator - INFO - Date = 2020-05-12 09:00:00, number of deaths =  303, number of infected = 1\n",
      "2020-06-22 19:18:40,899 - june.simulator - INFO - Date = 2020-05-12 10:00:00, number of deaths =  303, number of infected = 1\n",
      "2020-06-22 19:18:41,289 - june.simulator - INFO - Date = 2020-05-12 13:00:00, number of deaths =  303, number of infected = 1\n",
      "2020-06-22 19:18:41,736 - june.simulator - INFO - Date = 2020-05-13 00:00:00, number of deaths =  303, number of infected = 1\n",
      "2020-06-22 19:18:42,481 - june.simulator - INFO - Date = 2020-05-13 01:00:00, number of deaths =  303, number of infected = 1\n",
      "2020-06-22 19:18:43,221 - june.simulator - INFO - Date = 2020-05-13 05:00:00, number of deaths =  303, number of infected = 1\n",
      "2020-06-22 19:18:43,580 - june.simulator - INFO - Date = 2020-05-13 09:00:00, number of deaths =  303, number of infected = 1\n",
      "2020-06-22 19:18:45,782 - june.simulator - INFO - Date = 2020-05-13 10:00:00, number of deaths =  303, number of infected = 1\n",
      "2020-06-22 19:18:46,072 - june.simulator - INFO - Date = 2020-05-13 13:00:00, number of deaths =  303, number of infected = 1\n",
      "2020-06-22 19:18:46,375 - june.simulator - INFO - Date = 2020-05-14 00:00:00, number of deaths =  303, number of infected = 1\n",
      "2020-06-22 19:18:47,100 - june.simulator - INFO - Date = 2020-05-14 01:00:00, number of deaths =  303, number of infected = 1\n",
      "2020-06-22 19:18:47,721 - june.simulator - INFO - Date = 2020-05-14 05:00:00, number of deaths =  303, number of infected = 1\n",
      "2020-06-22 19:18:48,119 - june.simulator - INFO - Date = 2020-05-14 09:00:00, number of deaths =  303, number of infected = 1\n",
      "2020-06-22 19:18:50,394 - june.simulator - INFO - Date = 2020-05-14 10:00:00, number of deaths =  303, number of infected = 1\n",
      "2020-06-22 19:18:50,674 - june.simulator - INFO - Date = 2020-05-14 13:00:00, number of deaths =  303, number of infected = 0\n",
      "2020-06-22 19:18:50,983 - june.simulator - INFO - Date = 2020-05-15 00:00:00, number of deaths =  303, number of infected = 0\n",
      "2020-06-22 19:18:51,623 - june.simulator - INFO - Date = 2020-05-15 01:00:00, number of deaths =  303, number of infected = 0\n",
      "2020-06-22 19:18:52,300 - june.simulator - INFO - Date = 2020-05-15 05:00:00, number of deaths =  303, number of infected = 0\n",
      "2020-06-22 19:18:52,708 - june.simulator - INFO - Date = 2020-05-15 09:00:00, number of deaths =  303, number of infected = 0\n",
      "2020-06-22 19:18:55,540 - june.simulator - INFO - Date = 2020-05-15 10:00:00, number of deaths =  303, number of infected = 0\n",
      "2020-06-22 19:18:55,806 - june.simulator - INFO - Date = 2020-05-15 13:00:00, number of deaths =  303, number of infected = 0\n",
      "2020-06-22 19:18:58,509 - june.simulator - INFO - Date = 2020-05-16 00:00:00, number of deaths =  303, number of infected = 0\n",
      "CPU times: user 9min 32s, sys: 1.04 s, total: 9min 33s\n",
      "Wall time: 9min 54s\n"
     ]
    }
   ],
   "source": [
    "%%time\n",
    "simulator.run()"
   ]
  },
  {
   "cell_type": "markdown",
   "metadata": {},
   "source": [
    "While the simulation runs (and afterwards) we can launch the visualization webpage by running\n",
    "```python june/visualizer.py path/to/results``` "
   ]
  },
  {
   "cell_type": "markdown",
   "metadata": {},
   "source": [
    "# Getting the results"
   ]
  },
  {
   "cell_type": "markdown",
   "metadata": {},
   "source": [
    "All results are stored in a json file specified in the ``save_path`` variable in the config file. We can also access it from ``world.logger`` directly."
   ]
  },
  {
   "cell_type": "code",
   "execution_count": 26,
   "metadata": {},
   "outputs": [],
   "source": [
    "import pandas as pd"
   ]
  },
  {
   "cell_type": "code",
   "execution_count": 27,
   "metadata": {},
   "outputs": [],
   "source": [
    "read = ReadLogger()"
   ]
  },
  {
   "cell_type": "markdown",
   "metadata": {},
   "source": [
    "## Hospital data and how it changed over time"
   ]
  },
  {
   "cell_type": "code",
   "execution_count": 28,
   "metadata": {},
   "outputs": [],
   "source": [
    "hospitals_df = read.load_hospital_capacity()"
   ]
  },
  {
   "cell_type": "code",
   "execution_count": 29,
   "metadata": {},
   "outputs": [
    {
     "data": {
      "text/html": [
       "<div>\n",
       "<style scoped>\n",
       "    .dataframe tbody tr th:only-of-type {\n",
       "        vertical-align: middle;\n",
       "    }\n",
       "\n",
       "    .dataframe tbody tr th {\n",
       "        vertical-align: top;\n",
       "    }\n",
       "\n",
       "    .dataframe thead th {\n",
       "        text-align: right;\n",
       "    }\n",
       "</style>\n",
       "<table border=\"1\" class=\"dataframe\">\n",
       "  <thead>\n",
       "    <tr style=\"text-align: right;\">\n",
       "      <th></th>\n",
       "      <th>time_stamp</th>\n",
       "      <th>id</th>\n",
       "      <th>n_patients</th>\n",
       "      <th>n_patients_icu</th>\n",
       "    </tr>\n",
       "  </thead>\n",
       "  <tbody>\n",
       "    <tr>\n",
       "      <th>0</th>\n",
       "      <td>2020-03-07T04:00:00.000000</td>\n",
       "      <td>0</td>\n",
       "      <td>0</td>\n",
       "      <td>0</td>\n",
       "    </tr>\n",
       "    <tr>\n",
       "      <th>1</th>\n",
       "      <td>2020-03-07T08:00:00.000000</td>\n",
       "      <td>0</td>\n",
       "      <td>0</td>\n",
       "      <td>0</td>\n",
       "    </tr>\n",
       "    <tr>\n",
       "      <th>2</th>\n",
       "      <td>2020-03-07T12:00:00.000000</td>\n",
       "      <td>0</td>\n",
       "      <td>0</td>\n",
       "      <td>0</td>\n",
       "    </tr>\n",
       "  </tbody>\n",
       "</table>\n",
       "</div>"
      ],
      "text/plain": [
       "                   time_stamp id n_patients n_patients_icu\n",
       "0  2020-03-07T04:00:00.000000  0          0              0\n",
       "1  2020-03-07T08:00:00.000000  0          0              0\n",
       "2  2020-03-07T12:00:00.000000  0          0              0"
      ]
     },
     "execution_count": 29,
     "metadata": {},
     "output_type": "execute_result"
    }
   ],
   "source": [
    "hospitals_df.head(3)"
   ]
  },
  {
   "cell_type": "code",
   "execution_count": 30,
   "metadata": {},
   "outputs": [],
   "source": [
    "hospitals_characteristics_df = read.load_hospital_characteristics()"
   ]
  },
  {
   "cell_type": "code",
   "execution_count": 31,
   "metadata": {},
   "outputs": [
    {
     "data": {
      "text/html": [
       "<div>\n",
       "<style scoped>\n",
       "    .dataframe tbody tr th:only-of-type {\n",
       "        vertical-align: middle;\n",
       "    }\n",
       "\n",
       "    .dataframe tbody tr th {\n",
       "        vertical-align: top;\n",
       "    }\n",
       "\n",
       "    .dataframe thead th {\n",
       "        text-align: right;\n",
       "    }\n",
       "</style>\n",
       "<table border=\"1\" class=\"dataframe\">\n",
       "  <thead>\n",
       "    <tr style=\"text-align: right;\">\n",
       "      <th></th>\n",
       "      <th>longitude</th>\n",
       "      <th>latitude</th>\n",
       "      <th>n_beds</th>\n",
       "      <th>n_icu_beds</th>\n",
       "      <th>trust_code</th>\n",
       "    </tr>\n",
       "  </thead>\n",
       "  <tbody>\n",
       "    <tr>\n",
       "      <th>0</th>\n",
       "      <td>0.688477</td>\n",
       "      <td>51.5625</td>\n",
       "      <td>2115</td>\n",
       "      <td>296</td>\n",
       "      <td>RAJ</td>\n",
       "    </tr>\n",
       "  </tbody>\n",
       "</table>\n",
       "</div>"
      ],
      "text/plain": [
       "   longitude  latitude  n_beds  n_icu_beds trust_code\n",
       "0   0.688477   51.5625    2115         296        RAJ"
      ]
     },
     "execution_count": 31,
     "metadata": {},
     "output_type": "execute_result"
    }
   ],
   "source": [
    "hospitals_characteristics_df"
   ]
  },
  {
   "cell_type": "markdown",
   "metadata": {},
   "source": [
    "## where did infections happen?"
   ]
  },
  {
   "cell_type": "code",
   "execution_count": 32,
   "metadata": {},
   "outputs": [],
   "source": [
    "loc_df = read.get_locations_infections()"
   ]
  },
  {
   "cell_type": "code",
   "execution_count": 33,
   "metadata": {},
   "outputs": [
    {
     "data": {
      "text/plain": [
       "Text(0.5, 0, 'location')"
      ]
     },
     "execution_count": 33,
     "metadata": {},
     "output_type": "execute_result"
    },
    {
     "data": {
      "image/png": "[encoded data removed]",
      "text/plain": [
       "<Figure size 432x288 with 1 Axes>"
      ]
     },
     "metadata": {
      "needs_background": "light"
     },
     "output_type": "display_data"
    }
   ],
   "source": [
    "import matplotlib.ticker as mtick\n",
    "\n",
    "ax = loc_df['percentage_infections'].sort_values().plot.bar()\n",
    "ax.yaxis.set_major_formatter(mtick.PercentFormatter())\n",
    "plt.ylabel('Percentage of infections at location')\n",
    "plt.xlabel('location')\n",
    "#plt.yscale('log')"
   ]
  },
  {
   "cell_type": "markdown",
   "metadata": {},
   "source": [
    "## rate of infection"
   ]
  },
  {
   "cell_type": "code",
   "execution_count": 34,
   "metadata": {},
   "outputs": [
    {
     "name": "stderr",
     "output_type": "stream",
     "text": [
      "/home/arnau/.local/lib/python3.8/site-packages/numpy/core/fromnumeric.py:3334: RuntimeWarning: Mean of empty slice.\n",
      "  return _methods._mean(a, axis=axis, dtype=dtype,\n",
      "/home/arnau/.local/lib/python3.8/site-packages/numpy/core/_methods.py:161: RuntimeWarning: invalid value encountered in double_scalars\n",
      "  ret = ret.dtype.type(ret / rcount)\n"
     ]
    }
   ],
   "source": [
    "r_df = read.get_r()"
   ]
  },
  {
   "cell_type": "code",
   "execution_count": 35,
   "metadata": {},
   "outputs": [
    {
     "data": {
      "image/png": "[encoded data removed]",
      "text/plain": [
       "<Figure size 432x288 with 1 Axes>"
      ]
     },
     "metadata": {
      "needs_background": "light"
     },
     "output_type": "display_data"
    }
   ],
   "source": [
    "r_df.plot()\n",
    "plt.axvspan(policies.social_distancing_start, \n",
    "            policies.social_distancing_end,\n",
    "            facecolor='y', alpha=0.2)\n",
    "plt.axhline(y=1, linestyle='dashed', color='gray')\n",
    "plt.xlabel('Date')\n",
    "plt.ylabel('R')\n",
    "plt.yscale('log')"
   ]
  },
  {
   "cell_type": "markdown",
   "metadata": {},
   "source": [
    "## World infection curves, and by super area"
   ]
  },
  {
   "cell_type": "code",
   "execution_count": 36,
   "metadata": {},
   "outputs": [],
   "source": [
    "world_df = read.world_summary()"
   ]
  },
  {
   "cell_type": "code",
   "execution_count": 37,
   "metadata": {},
   "outputs": [
    {
     "data": {
      "text/plain": [
       "<matplotlib.legend.Legend at 0x7fa43ebb4550>"
      ]
     },
     "execution_count": 37,
     "metadata": {},
     "output_type": "execute_result"
    },
    {
     "data": {
      "image/png": "[encoded data removed]",
      "text/plain": [
       "<Figure size 432x288 with 1 Axes>"
      ]
     },
     "metadata": {
      "needs_background": "light"
     },
     "output_type": "display_data"
    }
   ],
   "source": [
    "world_df.plot()\n",
    "plt.axvspan(policies.social_distancing_start, \n",
    "            policies.social_distancing_end,\n",
    "            facecolor='y', alpha=0.2)\n",
    "plt.legend()"
   ]
  },
  {
   "cell_type": "code",
   "execution_count": 38,
   "metadata": {},
   "outputs": [
    {
     "data": {
      "image/png": "[encoded data removed]",
      "text/plain": [
       "<Figure size 432x288 with 1 Axes>"
      ]
     },
     "metadata": {
      "needs_background": "light"
     },
     "output_type": "display_data"
    }
   ],
   "source": [
    "world_df.plot()\n",
    "plt.axvspan(policies.social_distancing_start, \n",
    "            policies.social_distancing_end,\n",
    "            facecolor='y', alpha=0.2)\n",
    "plt.legend()\n",
    "plt.yscale('log')"
   ]
  },
  {
   "cell_type": "code",
   "execution_count": 39,
   "metadata": {},
   "outputs": [],
   "source": [
    "area_df = read.super_area_summary()"
   ]
  },
  {
   "cell_type": "code",
   "execution_count": 40,
   "metadata": {},
   "outputs": [
    {
     "data": {
      "text/plain": [
       "<matplotlib.legend.Legend at 0x7fa445e01730>"
      ]
     },
     "execution_count": 40,
     "metadata": {},
     "output_type": "execute_result"
    },
    {
     "data": {
      "image/png": "[encoded data removed]",
      "text/plain": [
       "<Figure size 432x288 with 1 Axes>"
      ]
     },
     "metadata": {
      "needs_background": "light"
     },
     "output_type": "display_data"
    }
   ],
   "source": [
    "area_df[area_df.super_area == \"E02002512\"].plot()\n",
    "plt.legend()"
   ]
  },
  {
   "cell_type": "markdown",
   "metadata": {},
   "source": [
    "## World infection curves per age group"
   ]
  },
  {
   "cell_type": "code",
   "execution_count": 41,
   "metadata": {},
   "outputs": [],
   "source": [
    "ages_df = read.age_summary([0,10,20,30,40,\n",
    "                  50,60,70,80,90,100])"
   ]
  },
  {
   "cell_type": "code",
   "execution_count": 42,
   "metadata": {},
   "outputs": [
    {
     "data": {
      "text/plain": [
       "<matplotlib.legend.Legend at 0x7fa444baab80>"
      ]
     },
     "execution_count": 42,
     "metadata": {},
     "output_type": "execute_result"
    },
    {
     "data": {
      "image/png": "[encoded data removed]",
      "text/plain": [
       "<Figure size 432x288 with 1 Axes>"
      ]
     },
     "metadata": {
      "needs_background": "light"
     },
     "output_type": "display_data"
    }
   ],
   "source": [
    "for name, group in ages_df.groupby('age_range'):\n",
    "    group['infected'].plot(label=name)\n",
    "plt.axvspan(policies.social_distancing_start, \n",
    "            policies.social_distancing_end,\n",
    "            facecolor='y', alpha=0.2)\n",
    "plt.legend()"
   ]
  },
  {
   "cell_type": "code",
   "execution_count": 43,
   "metadata": {},
   "outputs": [
    {
     "data": {
      "text/plain": [
       "<matplotlib.legend.Legend at 0x7fa44abb2bb0>"
      ]
     },
     "execution_count": 43,
     "metadata": {},
     "output_type": "execute_result"
    },
    {
     "data": {
      "image/png": "[encoded data removed]",
      "text/plain": [
       "<Figure size 432x288 with 1 Axes>"
      ]
     },
     "metadata": {
      "needs_background": "light"
     },
     "output_type": "display_data"
    }
   ],
   "source": [
    "for name, group in ages_df.groupby('age_range'):\n",
    "    group['dead'].cumsum().plot(label=name)\n",
    "plt.legend()"
   ]
  },
  {
   "cell_type": "code",
   "execution_count": 44,
   "metadata": {},
   "outputs": [
    {
     "data": {
      "text/plain": [
       "<matplotlib.legend.Legend at 0x7fa44be478b0>"
      ]
     },
     "execution_count": 44,
     "metadata": {},
     "output_type": "execute_result"
    },
    {
     "data": {
      "image/png": "[encoded data removed]",
      "text/plain": [
       "<Figure size 432x288 with 1 Axes>"
      ]
     },
     "metadata": {
      "needs_background": "light"
     },
     "output_type": "display_data"
    }
   ],
   "source": [
    "for name, group in ages_df.groupby('age_range'):\n",
    "    group['susceptible'].plot(label=name)\n",
    "plt.legend()"
   ]
  },
  {
   "cell_type": "markdown",
   "metadata": {},
   "source": [
    "## Draw some of the symptoms trajectories"
   ]
  },
  {
   "cell_type": "code",
   "execution_count": 45,
   "metadata": {},
   "outputs": [
    {
     "ename": "ValueError",
     "evalue": "Sample larger than population or is negative",
     "output_type": "error",
     "traceback": [
      "\u001b[0;31m---------------------------------------------------------------------------\u001b[0m",
      "\u001b[0;31mValueError\u001b[0m                                Traceback (most recent call last)",
      "\u001b[0;32m<ipython-input-45-dd0d6970bb01>\u001b[0m in \u001b[0;36m<module>\u001b[0;34m\u001b[0m\n\u001b[0;32m----> 1\u001b[0;31m random_trajectories = read.draw_symptom_trajectories(window_length=200,\n\u001b[0m\u001b[1;32m      2\u001b[0m                                         n_people=5)\n",
      "\u001b[0;32m~/code/JUNE/june/logger/read_logger.py\u001b[0m in \u001b[0;36mdraw_symptom_trajectories\u001b[0;34m(self, window_length, n_people)\u001b[0m\n\u001b[1;32m    241\u001b[0m         \u001b[0mrandom_trajectories\u001b[0m \u001b[0;34m=\u001b[0m \u001b[0mself\u001b[0m\u001b[0;34m.\u001b[0m\u001b[0minfections_df\u001b[0m\u001b[0;34m.\u001b[0m\u001b[0mloc\u001b[0m\u001b[0;34m[\u001b[0m\u001b[0mmask\u001b[0m\u001b[0;34m]\u001b[0m\u001b[0;34m\u001b[0m\u001b[0;34m\u001b[0m\u001b[0m\n\u001b[1;32m    242\u001b[0m         \u001b[0mrandom_trajectories\u001b[0m \u001b[0;34m=\u001b[0m \u001b[0mrandom_trajectories\u001b[0m\u001b[0;34m.\u001b[0m\u001b[0mapply\u001b[0m\u001b[0;34m(\u001b[0m\u001b[0mpd\u001b[0m\u001b[0;34m.\u001b[0m\u001b[0mSeries\u001b[0m\u001b[0;34m.\u001b[0m\u001b[0mexplode\u001b[0m\u001b[0;34m)\u001b[0m\u001b[0;34m\u001b[0m\u001b[0;34m\u001b[0m\u001b[0m\n\u001b[0;32m--> 243\u001b[0;31m         random_ids = random.sample(\n\u001b[0m\u001b[1;32m    244\u001b[0m             \u001b[0mlist\u001b[0m\u001b[0;34m(\u001b[0m\u001b[0mrandom_trajectories\u001b[0m\u001b[0;34m.\u001b[0m\u001b[0minfected_id\u001b[0m\u001b[0;34m.\u001b[0m\u001b[0munique\u001b[0m\u001b[0;34m(\u001b[0m\u001b[0;34m)\u001b[0m\u001b[0;34m)\u001b[0m\u001b[0;34m,\u001b[0m \u001b[0mn_people\u001b[0m\u001b[0;34m\u001b[0m\u001b[0;34m\u001b[0m\u001b[0m\n\u001b[1;32m    245\u001b[0m         )\n",
      "\u001b[0;32m/usr/lib/python3.8/random.py\u001b[0m in \u001b[0;36msample\u001b[0;34m(self, population, k)\u001b[0m\n\u001b[1;32m    361\u001b[0m         \u001b[0mn\u001b[0m \u001b[0;34m=\u001b[0m \u001b[0mlen\u001b[0m\u001b[0;34m(\u001b[0m\u001b[0mpopulation\u001b[0m\u001b[0;34m)\u001b[0m\u001b[0;34m\u001b[0m\u001b[0;34m\u001b[0m\u001b[0m\n\u001b[1;32m    362\u001b[0m         \u001b[0;32mif\u001b[0m \u001b[0;32mnot\u001b[0m \u001b[0;36m0\u001b[0m \u001b[0;34m<=\u001b[0m \u001b[0mk\u001b[0m \u001b[0;34m<=\u001b[0m \u001b[0mn\u001b[0m\u001b[0;34m:\u001b[0m\u001b[0;34m\u001b[0m\u001b[0;34m\u001b[0m\u001b[0m\n\u001b[0;32m--> 363\u001b[0;31m             \u001b[0;32mraise\u001b[0m \u001b[0mValueError\u001b[0m\u001b[0;34m(\u001b[0m\u001b[0;34m\"Sample larger than population or is negative\"\u001b[0m\u001b[0;34m)\u001b[0m\u001b[0;34m\u001b[0m\u001b[0;34m\u001b[0m\u001b[0m\n\u001b[0m\u001b[1;32m    364\u001b[0m         \u001b[0mresult\u001b[0m \u001b[0;34m=\u001b[0m \u001b[0;34m[\u001b[0m\u001b[0;32mNone\u001b[0m\u001b[0;34m]\u001b[0m \u001b[0;34m*\u001b[0m \u001b[0mk\u001b[0m\u001b[0;34m\u001b[0m\u001b[0;34m\u001b[0m\u001b[0m\n\u001b[1;32m    365\u001b[0m         \u001b[0msetsize\u001b[0m \u001b[0;34m=\u001b[0m \u001b[0;36m21\u001b[0m        \u001b[0;31m# size of a small set minus size of an empty list\u001b[0m\u001b[0;34m\u001b[0m\u001b[0;34m\u001b[0m\u001b[0m\n",
      "\u001b[0;31mValueError\u001b[0m: Sample larger than population or is negative"
     ]
    }
   ],
   "source": [
    "random_trajectories = read.draw_symptom_trajectories(window_length=200,\n",
    "                                        n_people=5)"
   ]
  },
  {
   "cell_type": "code",
   "execution_count": null,
   "metadata": {},
   "outputs": [],
   "source": [
    "from june.infection import SymptomTag"
   ]
  },
  {
   "cell_type": "code",
   "execution_count": null,
   "metadata": {},
   "outputs": [],
   "source": [
    "symptoms_values = [tag.value for tag in SymptomTag]\n",
    "symptoms_names = [tag.name for tag in SymptomTag]\n"
   ]
  },
  {
   "cell_type": "code",
   "execution_count": null,
   "metadata": {},
   "outputs": [],
   "source": [
    "for df_person in random_trajectories:\n",
    "    df_person['symptoms'].plot()\n",
    "plt.ylabel('Symptoms Trajectory')\n",
    "_ = plt.yticks(symptoms_values, symptoms_names)\n",
    "plt.xlabel('Date')"
   ]
  },
  {
   "cell_type": "code",
   "execution_count": null,
   "metadata": {},
   "outputs": [],
   "source": [
    "for df_person in random_trajectories:\n",
    "    df_person['n_secondary_infections'].plot()\n",
    "plt.ylabel('Number of secondary infections')\n",
    "\n",
    "plt.xlabel('Date')"
   ]
  }
 ],
 "metadata": {
  "kernelspec": {
   "display_name": "Python 3",
   "language": "python",
   "name": "python3"
  },
  "language_info": {
   "codemirror_mode": {
    "name": "ipython",
    "version": 3
   },
   "file_extension": ".py",
   "mimetype": "text/x-python",
   "name": "python",
   "nbconvert_exporter": "python",
   "pygments_lexer": "ipython3",
   "version": "3.8.3"
  }
 },
 "nbformat": 4,
 "nbformat_minor": 4
}
