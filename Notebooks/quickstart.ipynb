{
 "cells": [
  {
   "cell_type": "code",
   "execution_count": 1,
   "metadata": {},
   "outputs": [],
   "source": [
    "%load_ext autoreload\n",
    "%autoreload 2"
   ]
  },
  {
   "cell_type": "code",
   "execution_count": 2,
   "metadata": {},
   "outputs": [],
   "source": [
    "import warnings\n",
    "warnings.filterwarnings('ignore')"
   ]
  },
  {
   "cell_type": "code",
   "execution_count": 3,
   "metadata": {},
   "outputs": [],
   "source": [
    "import numpy as np\n",
    "import time\n",
    "import matplotlib.pyplot as plt\n",
    "import seaborn as sns\n",
    "sns.set_context('notebook')"
   ]
  },
  {
   "cell_type": "code",
   "execution_count": 4,
   "metadata": {},
   "outputs": [
    {
     "name": "stderr",
     "output_type": "stream",
     "text": [
      "No --data argument given - defaulting to:\n",
      "/home/florpi/JUNE/data\n",
      "No --configs argument given - defaulting to:\n",
      "/home/florpi/JUNE/configs\n"
     ]
    }
   ],
   "source": [
    "from june import World \n",
    "from june.demography.geography import Geography\n",
    "from june.demography import Demography\n",
    "from june.interaction import DefaultInteraction\n",
    "from june.infection import Infection\n",
    "from june.infection.symptoms import SymptomsConstant\n",
    "from june.infection.transmission import TransmissionConstant\n",
    "from june.groups import Hospitals, Schools, Companies, Households, CareHomes, Cemeteries\n",
    "from june.groups.leisure import Cinemas, Pubs, Groceries\n",
    "from june.simulator import Simulator\n",
    "from june.seed import Seed\n",
    "from june import paths\n",
    "from june.logger.read_logger import ReadLogger\n",
    "from june.infection.infection import InfectionSelector"
   ]
  },
  {
   "cell_type": "markdown",
   "metadata": {},
   "source": [
    "# Initialize world\n",
    "\n",
    "To initialize a certain world, we need to add the different components we want to have in it. First we specify what super areas (msoa) we want to create. We have included these ones, because they are known to contain hospitals, schools, care homes, and companies.\n",
    "\n",
    "After creating the geography, we create the different components the worlds need to have such as care homes, companies ..."
   ]
  },
  {
   "cell_type": "code",
   "execution_count": 5,
   "metadata": {},
   "outputs": [
    {
     "name": "stdout",
     "output_type": "stream",
     "text": [
      "populating the world's geography with the specified demography...\n",
      "CPU times: user 23.8 s, sys: 948 ms, total: 24.7 s\n",
      "Wall time: 24.7 s\n"
     ]
    }
   ],
   "source": [
    "%%time\n",
    "geography = Geography.from_file({\n",
    "                                \"msoa\":  [\"E02001720\",\n",
    "                                          \"E00088544\", \n",
    "                                          \"E02002560\", \n",
    "                                          \"E02002559\"]\n",
    "                                }\n",
    "                                )\n",
    "\n",
    "geography.hospitals = Hospitals.for_geography(geography)\n",
    "geography.schools = Schools.for_geography(geography)\n",
    "geography.cemeteries = Cemeteries()\n",
    "geography.companies = Companies.for_geography(geography)\n",
    "geography.care_homes = CareHomes.for_geography(geography)\n",
    "demography = Demography.for_geography(geography)\n",
    "world = World(geography, demography, include_households=True,\n",
    "             include_commute=True)\n",
    "world.cinemas = Cinemas.for_geography(geography)\n",
    "world.pubs = Pubs.for_geography(geography)\n",
    "world.groceries = Groceries.for_super_areas(geography.super_areas,\n",
    "                                            venues_per_capita=1/500)"
   ]
  },
  {
   "cell_type": "markdown",
   "metadata": {},
   "source": [
    "### If it took a long time to run the previous command, it might be a good idea to save the world in a pickle object to reuse it later."
   ]
  },
  {
   "cell_type": "code",
   "execution_count": 6,
   "metadata": {},
   "outputs": [],
   "source": [
    "#world.to_pickle(\"world.pkl\")"
   ]
  },
  {
   "cell_type": "markdown",
   "metadata": {},
   "source": [
    "If we would like to load the world we saved, we just do"
   ]
  },
  {
   "cell_type": "code",
   "execution_count": 7,
   "metadata": {},
   "outputs": [],
   "source": [
    "#world = World.from_pickle(\"world.pkl\")"
   ]
  },
  {
   "cell_type": "markdown",
   "metadata": {},
   "source": [
    "you have now a beautiful pre-pandemic world. "
   ]
  },
  {
   "cell_type": "markdown",
   "metadata": {},
   "source": [
    "# Adding the infection"
   ]
  },
  {
   "cell_type": "markdown",
   "metadata": {},
   "source": [
    "Now, you can play around with different models of infections. The building blocks for an infection are: Transmission and Symptoms. For now, only SymptomsConstant and TransmissionConstant are in a state to be used."
   ]
  },
  {
   "cell_type": "code",
   "execution_count": 8,
   "metadata": {},
   "outputs": [],
   "source": [
    "#selector_config = paths.configs_path / \"defaults/infection/InfectionConstant.yaml\"\n",
    "\n",
    "selector = InfectionSelector.from_file()"
   ]
  },
  {
   "cell_type": "code",
   "execution_count": 9,
   "metadata": {},
   "outputs": [
    {
     "data": {
      "text/plain": [
       "<june.infection.infection.InfectionSelector at 0x7f9728653610>"
      ]
     },
     "execution_count": 9,
     "metadata": {},
     "output_type": "execute_result"
    }
   ],
   "source": [
    "selector"
   ]
  },
  {
   "cell_type": "markdown",
   "metadata": {},
   "source": [
    "# Adding the interaction"
   ]
  },
  {
   "cell_type": "code",
   "execution_count": 10,
   "metadata": {},
   "outputs": [],
   "source": [
    "interaction = DefaultInteraction.from_file(selector=selector)"
   ]
  },
  {
   "cell_type": "markdown",
   "metadata": {},
   "source": [
    "Beta are the intensities of the interaction taking place at the different groups"
   ]
  },
  {
   "cell_type": "code",
   "execution_count": 11,
   "metadata": {},
   "outputs": [
    {
     "data": {
      "text/plain": [
       "{'box': 1,\n",
       " 'pub': 1,\n",
       " 'grocery': 1,\n",
       " 'cinema': 1,\n",
       " 'commute_unit': 1,\n",
       " 'commute_city_unit': 1,\n",
       " 'hospital': 1.0,\n",
       " 'care_home': 1.0,\n",
       " 'company': 1.0,\n",
       " 'school': 1.0,\n",
       " 'household': 1.0}"
      ]
     },
     "execution_count": 11,
     "metadata": {},
     "output_type": "execute_result"
    }
   ],
   "source": [
    "interaction.beta"
   ]
  },
  {
   "cell_type": "markdown",
   "metadata": {},
   "source": [
    "to modify these, simply do"
   ]
  },
  {
   "cell_type": "code",
   "execution_count": 12,
   "metadata": {},
   "outputs": [],
   "source": [
    "interaction.beta['household'] *= 2"
   ]
  },
  {
   "cell_type": "code",
   "execution_count": 13,
   "metadata": {},
   "outputs": [
    {
     "data": {
      "text/plain": [
       "{'box': 1,\n",
       " 'pub': 1,\n",
       " 'grocery': 1,\n",
       " 'cinema': 1,\n",
       " 'commute_unit': 1,\n",
       " 'commute_city_unit': 1,\n",
       " 'hospital': 1.0,\n",
       " 'care_home': 1.0,\n",
       " 'company': 1.0,\n",
       " 'school': 1.0,\n",
       " 'household': 2.0}"
      ]
     },
     "execution_count": 13,
     "metadata": {},
     "output_type": "execute_result"
    }
   ],
   "source": [
    "interaction.beta"
   ]
  },
  {
   "cell_type": "markdown",
   "metadata": {},
   "source": [
    "moreover this interaction module uses contact matrices, that are different for different groups. These contact matrices shouldnt be modified for now. However they are a combination of conversational contact matrices, and physical contact matrices (see the BBC pandemic paper, from where these matrices are extracted https://www.medrxiv.org/content/10.1101/2020.02.16.20023754v2)\n",
    "\n",
    "There is a parameter, ``alpha`` ($\\alpha$), that combines these two matrices in the following way,\n",
    "\n",
    "\n",
    "$\\beta M \\left(1 + (\\alpha -1) \\right) P$\n",
    "\n",
    "where $\\beta$ is the intensity of the interaction, and $P$ the physical contact matrix. A larger $\\alpha$ produces more physical contacts. It is an overall number, non dependent of the particular group.\n"
   ]
  },
  {
   "cell_type": "code",
   "execution_count": 14,
   "metadata": {},
   "outputs": [
    {
     "data": {
      "text/plain": [
       "2.0"
      ]
     },
     "execution_count": 14,
     "metadata": {},
     "output_type": "execute_result"
    }
   ],
   "source": [
    "interaction.alpha"
   ]
  },
  {
   "cell_type": "code",
   "execution_count": 15,
   "metadata": {},
   "outputs": [],
   "source": [
    "interaction.alpha /= 2"
   ]
  },
  {
   "cell_type": "code",
   "execution_count": 16,
   "metadata": {},
   "outputs": [
    {
     "data": {
      "text/plain": [
       "1.0"
      ]
     },
     "execution_count": 16,
     "metadata": {},
     "output_type": "execute_result"
    }
   ],
   "source": [
    "interaction.alpha"
   ]
  },
  {
   "cell_type": "markdown",
   "metadata": {},
   "source": [
    "# Seed the disease"
   ]
  },
  {
   "cell_type": "markdown",
   "metadata": {},
   "source": [
    "There are two options implemented in the seed at the moment, either you specify the number of cases and these are then homogeneously distributed by population to the different areas, or you use UK data on cases per region. For now use the first case."
   ]
  },
  {
   "cell_type": "code",
   "execution_count": 17,
   "metadata": {},
   "outputs": [],
   "source": [
    "seed = Seed(world.super_areas, selector,)"
   ]
  },
  {
   "cell_type": "code",
   "execution_count": 18,
   "metadata": {},
   "outputs": [],
   "source": [
    "n_cases = 50\n",
    "seed.unleash_virus(n_cases) # play around with the initial number of cases"
   ]
  },
  {
   "cell_type": "markdown",
   "metadata": {},
   "source": [
    "# Run the simulation"
   ]
  },
  {
   "cell_type": "markdown",
   "metadata": {},
   "source": [
    "Since the timer configuration is a bit cumbersome, it is read from the config file at ``configs/config_example.yaml``"
   ]
  },
  {
   "cell_type": "code",
   "execution_count": 19,
   "metadata": {},
   "outputs": [],
   "source": [
    "CONFIG_PATH = \"../configs/config_example.yaml\"\n",
    "\n",
    "simulator = Simulator.from_file(\n",
    "     world, interaction, selector, \n",
    "    config_filename = CONFIG_PATH\n",
    ")"
   ]
  },
  {
   "cell_type": "code",
   "execution_count": 20,
   "metadata": {
    "scrolled": true
   },
   "outputs": [],
   "source": [
    "# %%time\n",
    "simulator.run()"
   ]
  },
  {
   "cell_type": "markdown",
   "metadata": {},
   "source": [
    "# Getting the results"
   ]
  },
  {
   "cell_type": "markdown",
   "metadata": {},
   "source": [
    "All results are stored in a json file specified in the ``save_path`` variable in the config file. We can also access it from ``world.logger`` directly."
   ]
  },
  {
   "cell_type": "code",
   "execution_count": 145,
   "metadata": {},
   "outputs": [],
   "source": [
    "import pandas as pd"
   ]
  },
  {
   "cell_type": "code",
   "execution_count": 146,
   "metadata": {},
   "outputs": [],
   "source": [
    "read = ReadLogger()"
   ]
  },
  {
   "cell_type": "code",
   "execution_count": 147,
   "metadata": {},
   "outputs": [
    {
     "name": "stdout",
     "output_type": "stream",
     "text": [
      "<KeysViewHDF5 ['hospital_id', 'n_patients', 'n_patients_icu']>\n",
      "[0 1]\n",
      "<KeysViewHDF5 ['hospital_id', 'n_patients', 'n_patients_icu']>\n",
      "[0 1]\n",
      "<KeysViewHDF5 ['hospital_id', 'n_patients', 'n_patients_icu']>\n",
      "[0 1]\n",
      "<KeysViewHDF5 ['hospital_id', 'n_patients', 'n_patients_icu']>\n",
      "[0 1]\n",
      "<KeysViewHDF5 ['hospital_id', 'n_patients', 'n_patients_icu']>\n",
      "[0 1]\n",
      "<KeysViewHDF5 ['hospital_id', 'n_patients', 'n_patients_icu']>\n",
      "[0 1]\n",
      "<KeysViewHDF5 ['hospital_id', 'n_patients', 'n_patients_icu']>\n",
      "[0 1]\n",
      "<KeysViewHDF5 ['hospital_id', 'n_patients', 'n_patients_icu']>\n",
      "[0 1]\n",
      "<KeysViewHDF5 ['hospital_id', 'n_patients', 'n_patients_icu']>\n",
      "[0 1]\n",
      "<KeysViewHDF5 ['hospital_id', 'n_patients', 'n_patients_icu']>\n",
      "[0 1]\n",
      "<KeysViewHDF5 ['hospital_id', 'n_patients', 'n_patients_icu']>\n",
      "[0 1]\n",
      "<KeysViewHDF5 ['hospital_id', 'n_patients', 'n_patients_icu']>\n",
      "[0 1]\n",
      "<KeysViewHDF5 ['hospital_id', 'n_patients', 'n_patients_icu']>\n",
      "[0 1]\n",
      "<KeysViewHDF5 ['hospital_id', 'n_patients', 'n_patients_icu']>\n",
      "[0 1]\n",
      "<KeysViewHDF5 ['hospital_id', 'n_patients', 'n_patients_icu']>\n",
      "[0 1]\n",
      "<KeysViewHDF5 ['hospital_id', 'n_patients', 'n_patients_icu']>\n",
      "[0 1]\n",
      "<KeysViewHDF5 ['hospital_id', 'n_patients', 'n_patients_icu']>\n",
      "[0 1]\n",
      "<KeysViewHDF5 ['hospital_id', 'n_patients', 'n_patients_icu']>\n",
      "[0 1]\n",
      "<KeysViewHDF5 ['hospital_id', 'n_patients', 'n_patients_icu']>\n",
      "[0 1]\n",
      "<KeysViewHDF5 ['hospital_id', 'n_patients', 'n_patients_icu']>\n",
      "[0 1]\n",
      "<KeysViewHDF5 ['hospital_id', 'n_patients', 'n_patients_icu']>\n",
      "[0 1]\n",
      "<KeysViewHDF5 ['hospital_id', 'n_patients', 'n_patients_icu']>\n",
      "[0 1]\n",
      "<KeysViewHDF5 ['hospital_id', 'n_patients', 'n_patients_icu']>\n",
      "[0 1]\n",
      "<KeysViewHDF5 ['hospital_id', 'n_patients', 'n_patients_icu']>\n",
      "[0 1]\n",
      "<KeysViewHDF5 ['hospital_id', 'n_patients', 'n_patients_icu']>\n",
      "[0 1]\n",
      "<KeysViewHDF5 ['hospital_id', 'n_patients', 'n_patients_icu']>\n",
      "[0 1]\n",
      "<KeysViewHDF5 ['hospital_id', 'n_patients', 'n_patients_icu']>\n",
      "[0 1]\n",
      "<KeysViewHDF5 ['hospital_id', 'n_patients', 'n_patients_icu']>\n",
      "[0 1]\n",
      "<KeysViewHDF5 ['hospital_id', 'n_patients', 'n_patients_icu']>\n",
      "[0 1]\n",
      "<KeysViewHDF5 ['hospital_id', 'n_patients', 'n_patients_icu']>\n",
      "[0 1]\n",
      "<KeysViewHDF5 ['hospital_id', 'n_patients', 'n_patients_icu']>\n",
      "[0 1]\n",
      "<KeysViewHDF5 ['hospital_id', 'n_patients', 'n_patients_icu']>\n",
      "[0 1]\n",
      "<KeysViewHDF5 ['hospital_id', 'n_patients', 'n_patients_icu']>\n",
      "[0 1]\n",
      "<KeysViewHDF5 ['hospital_id', 'n_patients', 'n_patients_icu']>\n",
      "[0 1]\n",
      "<KeysViewHDF5 ['hospital_id', 'n_patients', 'n_patients_icu']>\n",
      "[0 1]\n",
      "<KeysViewHDF5 ['hospital_id', 'n_patients', 'n_patients_icu']>\n",
      "[0 1]\n",
      "<KeysViewHDF5 ['hospital_id', 'n_patients', 'n_patients_icu']>\n",
      "[0 1]\n",
      "<KeysViewHDF5 ['hospital_id', 'n_patients', 'n_patients_icu']>\n",
      "[0 1]\n",
      "<KeysViewHDF5 ['hospital_id', 'n_patients', 'n_patients_icu']>\n",
      "[0 1]\n",
      "<KeysViewHDF5 ['hospital_id', 'n_patients', 'n_patients_icu']>\n",
      "[0 1]\n",
      "<KeysViewHDF5 ['hospital_id', 'n_patients', 'n_patients_icu']>\n",
      "[0 1]\n",
      "<KeysViewHDF5 ['hospital_id', 'n_patients', 'n_patients_icu']>\n",
      "[0 1]\n",
      "<KeysViewHDF5 ['hospital_id', 'n_patients', 'n_patients_icu']>\n",
      "[0 1]\n",
      "<KeysViewHDF5 ['hospital_id', 'n_patients', 'n_patients_icu']>\n",
      "[0 1]\n",
      "<KeysViewHDF5 ['hospital_id', 'n_patients', 'n_patients_icu']>\n",
      "[0 1]\n",
      "<KeysViewHDF5 ['hospital_id', 'n_patients', 'n_patients_icu']>\n",
      "[0 1]\n",
      "<KeysViewHDF5 ['hospital_id', 'n_patients', 'n_patients_icu']>\n",
      "[0 1]\n",
      "<KeysViewHDF5 ['hospital_id', 'n_patients', 'n_patients_icu']>\n",
      "[0 1]\n",
      "<KeysViewHDF5 ['hospital_id', 'n_patients', 'n_patients_icu']>\n",
      "[0 1]\n",
      "<KeysViewHDF5 ['hospital_id', 'n_patients', 'n_patients_icu']>\n",
      "[0 1]\n",
      "<KeysViewHDF5 ['hospital_id', 'n_patients', 'n_patients_icu']>\n",
      "[0 1]\n",
      "<KeysViewHDF5 ['hospital_id', 'n_patients', 'n_patients_icu']>\n",
      "[0 1]\n",
      "<KeysViewHDF5 ['hospital_id', 'n_patients', 'n_patients_icu']>\n",
      "[0 1]\n",
      "<KeysViewHDF5 ['hospital_id', 'n_patients', 'n_patients_icu']>\n",
      "[0 1]\n",
      "<KeysViewHDF5 ['hospital_id', 'n_patients', 'n_patients_icu']>\n",
      "[0 1]\n",
      "<KeysViewHDF5 ['hospital_id', 'n_patients', 'n_patients_icu']>\n",
      "[0 1]\n",
      "<KeysViewHDF5 ['hospital_id', 'n_patients', 'n_patients_icu']>\n",
      "[0 1]\n",
      "<KeysViewHDF5 ['hospital_id', 'n_patients', 'n_patients_icu']>\n",
      "[0 1]\n",
      "<KeysViewHDF5 ['hospital_id', 'n_patients', 'n_patients_icu']>\n",
      "[0 1]\n",
      "<KeysViewHDF5 ['hospital_id', 'n_patients', 'n_patients_icu']>\n",
      "[0 1]\n",
      "<KeysViewHDF5 ['hospital_id', 'n_patients', 'n_patients_icu']>\n",
      "[0 1]\n",
      "<KeysViewHDF5 ['hospital_id', 'n_patients', 'n_patients_icu']>\n",
      "[0 1]\n",
      "<KeysViewHDF5 ['hospital_id', 'n_patients', 'n_patients_icu']>\n",
      "[0 1]\n",
      "<KeysViewHDF5 ['hospital_id', 'n_patients', 'n_patients_icu']>\n",
      "[0 1]\n",
      "<KeysViewHDF5 ['hospital_id', 'n_patients', 'n_patients_icu']>\n",
      "[0 1]\n",
      "<KeysViewHDF5 ['hospital_id', 'n_patients', 'n_patients_icu']>\n",
      "[0 1]\n",
      "<KeysViewHDF5 ['hospital_id', 'n_patients', 'n_patients_icu']>\n",
      "[0 1]\n",
      "<KeysViewHDF5 ['hospital_id', 'n_patients', 'n_patients_icu']>\n",
      "[0 1]\n",
      "<KeysViewHDF5 ['hospital_id', 'n_patients', 'n_patients_icu']>\n",
      "[0 1]\n",
      "<KeysViewHDF5 ['hospital_id', 'n_patients', 'n_patients_icu']>\n",
      "[0 1]\n",
      "<KeysViewHDF5 ['hospital_id', 'n_patients', 'n_patients_icu']>\n",
      "[0 1]\n",
      "<KeysViewHDF5 ['hospital_id', 'n_patients', 'n_patients_icu']>\n",
      "[0 1]\n",
      "<KeysViewHDF5 ['hospital_id', 'n_patients', 'n_patients_icu']>\n",
      "[0 1]\n",
      "<KeysViewHDF5 ['hospital_id', 'n_patients', 'n_patients_icu']>\n",
      "[0 1]\n",
      "<KeysViewHDF5 ['hospital_id', 'n_patients', 'n_patients_icu']>\n",
      "[0 1]\n",
      "<KeysViewHDF5 ['hospital_id', 'n_patients', 'n_patients_icu']>\n",
      "[0 1]\n",
      "<KeysViewHDF5 ['hospital_id', 'n_patients', 'n_patients_icu']>\n",
      "[0 1]\n",
      "<KeysViewHDF5 ['hospital_id', 'n_patients', 'n_patients_icu']>\n",
      "[0 1]\n",
      "<KeysViewHDF5 ['hospital_id', 'n_patients', 'n_patients_icu']>\n",
      "[0 1]\n",
      "<KeysViewHDF5 ['hospital_id', 'n_patients', 'n_patients_icu']>\n",
      "[0 1]\n",
      "<KeysViewHDF5 ['hospital_id', 'n_patients', 'n_patients_icu']>\n",
      "[0 1]\n",
      "<KeysViewHDF5 ['hospital_id', 'n_patients', 'n_patients_icu']>\n",
      "[0 1]\n",
      "<KeysViewHDF5 ['hospital_id', 'n_patients', 'n_patients_icu']>\n",
      "[0 1]\n",
      "<KeysViewHDF5 ['hospital_id', 'n_patients', 'n_patients_icu']>\n",
      "[0 1]\n",
      "<KeysViewHDF5 ['hospital_id', 'n_patients', 'n_patients_icu']>\n",
      "[0 1]\n",
      "<KeysViewHDF5 ['hospital_id', 'n_patients', 'n_patients_icu']>\n",
      "[0 1]\n",
      "<KeysViewHDF5 ['hospital_id', 'n_patients', 'n_patients_icu']>\n",
      "[0 1]\n",
      "<KeysViewHDF5 ['hospital_id', 'n_patients', 'n_patients_icu']>\n",
      "[0 1]\n",
      "<KeysViewHDF5 ['hospital_id', 'n_patients', 'n_patients_icu']>\n",
      "[0 1]\n",
      "<KeysViewHDF5 ['hospital_id', 'n_patients', 'n_patients_icu']>\n",
      "[0 1]\n",
      "<KeysViewHDF5 ['hospital_id', 'n_patients', 'n_patients_icu']>\n",
      "[0 1]\n",
      "<KeysViewHDF5 ['hospital_id', 'n_patients', 'n_patients_icu']>\n",
      "[0 1]\n",
      "<KeysViewHDF5 ['hospital_id', 'n_patients', 'n_patients_icu']>\n",
      "[0 1]\n",
      "<KeysViewHDF5 ['hospital_id', 'n_patients', 'n_patients_icu']>\n",
      "[0 1]\n",
      "<KeysViewHDF5 ['hospital_id', 'n_patients', 'n_patients_icu']>\n",
      "[0 1]\n",
      "<KeysViewHDF5 ['hospital_id', 'n_patients', 'n_patients_icu']>\n",
      "[0 1]\n",
      "<KeysViewHDF5 ['hospital_id', 'n_patients', 'n_patients_icu']>\n",
      "[0 1]\n",
      "<KeysViewHDF5 ['hospital_id', 'n_patients', 'n_patients_icu']>\n",
      "[0 1]\n",
      "<KeysViewHDF5 ['hospital_id', 'n_patients', 'n_patients_icu']>\n",
      "[0 1]\n",
      "<KeysViewHDF5 ['hospital_id', 'n_patients', 'n_patients_icu']>\n",
      "[0 1]\n",
      "<KeysViewHDF5 ['hospital_id', 'n_patients', 'n_patients_icu']>\n",
      "[0 1]\n",
      "<KeysViewHDF5 ['hospital_id', 'n_patients', 'n_patients_icu']>\n",
      "[0 1]\n",
      "<KeysViewHDF5 ['hospital_id', 'n_patients', 'n_patients_icu']>\n",
      "[0 1]\n",
      "<KeysViewHDF5 ['hospital_id', 'n_patients', 'n_patients_icu']>\n",
      "[0 1]\n",
      "<KeysViewHDF5 ['hospital_id', 'n_patients', 'n_patients_icu']>\n",
      "[0 1]\n",
      "<KeysViewHDF5 ['hospital_id', 'n_patients', 'n_patients_icu']>\n",
      "[0 1]\n",
      "<KeysViewHDF5 ['hospital_id', 'n_patients', 'n_patients_icu']>\n",
      "[0 1]\n",
      "<KeysViewHDF5 ['hospital_id', 'n_patients', 'n_patients_icu']>\n",
      "[0 1]\n",
      "<KeysViewHDF5 ['hospital_id', 'n_patients', 'n_patients_icu']>\n",
      "[0 1]\n",
      "<KeysViewHDF5 ['hospital_id', 'n_patients', 'n_patients_icu']>\n",
      "[0 1]\n",
      "<KeysViewHDF5 ['hospital_id', 'n_patients', 'n_patients_icu']>\n",
      "[0 1]\n",
      "<KeysViewHDF5 ['hospital_id', 'n_patients', 'n_patients_icu']>\n",
      "[0 1]\n",
      "<KeysViewHDF5 ['hospital_id', 'n_patients', 'n_patients_icu']>\n",
      "[0 1]\n",
      "<KeysViewHDF5 ['hospital_id', 'n_patients', 'n_patients_icu']>\n",
      "[0 1]\n",
      "<KeysViewHDF5 ['hospital_id', 'n_patients', 'n_patients_icu']>\n",
      "[0 1]\n",
      "<KeysViewHDF5 ['hospital_id', 'n_patients', 'n_patients_icu']>\n",
      "[0 1]\n",
      "<KeysViewHDF5 ['hospital_id', 'n_patients', 'n_patients_icu']>\n",
      "[0 1]\n",
      "<KeysViewHDF5 ['hospital_id', 'n_patients', 'n_patients_icu']>\n",
      "[0 1]\n",
      "<KeysViewHDF5 ['hospital_id', 'n_patients', 'n_patients_icu']>\n",
      "[0 1]\n",
      "<KeysViewHDF5 ['hospital_id', 'n_patients', 'n_patients_icu']>\n",
      "[0 1]\n",
      "<KeysViewHDF5 ['hospital_id', 'n_patients', 'n_patients_icu']>\n",
      "[0 1]\n",
      "<KeysViewHDF5 ['hospital_id', 'n_patients', 'n_patients_icu']>\n",
      "[0 1]\n",
      "<KeysViewHDF5 ['hospital_id', 'n_patients', 'n_patients_icu']>\n",
      "[0 1]\n",
      "<KeysViewHDF5 ['hospital_id', 'n_patients', 'n_patients_icu']>\n",
      "[0 1]\n",
      "<KeysViewHDF5 ['hospital_id', 'n_patients', 'n_patients_icu']>\n",
      "[0 1]\n",
      "<KeysViewHDF5 ['hospital_id', 'n_patients', 'n_patients_icu']>\n",
      "[0 1]\n",
      "<KeysViewHDF5 ['hospital_id', 'n_patients', 'n_patients_icu']>\n",
      "[0 1]\n",
      "<KeysViewHDF5 ['hospital_id', 'n_patients', 'n_patients_icu']>\n",
      "[0 1]\n",
      "<KeysViewHDF5 ['hospital_id', 'n_patients', 'n_patients_icu']>\n",
      "[0 1]\n",
      "<KeysViewHDF5 ['hospital_id', 'n_patients', 'n_patients_icu']>\n",
      "[0 1]\n",
      "<KeysViewHDF5 ['hospital_id', 'n_patients', 'n_patients_icu']>\n",
      "[0 1]\n",
      "<KeysViewHDF5 ['hospital_id', 'n_patients', 'n_patients_icu']>\n",
      "[0 1]\n",
      "<KeysViewHDF5 ['hospital_id', 'n_patients', 'n_patients_icu']>\n",
      "[0 1]\n",
      "<KeysViewHDF5 ['hospital_id', 'n_patients', 'n_patients_icu']>\n",
      "[0 1]\n",
      "<KeysViewHDF5 ['hospital_id', 'n_patients', 'n_patients_icu']>\n",
      "[0 1]\n",
      "<KeysViewHDF5 ['hospital_id', 'n_patients', 'n_patients_icu']>\n",
      "[0 1]\n",
      "<KeysViewHDF5 ['hospital_id', 'n_patients', 'n_patients_icu']>\n",
      "[0 1]\n",
      "<KeysViewHDF5 ['hospital_id', 'n_patients', 'n_patients_icu']>\n",
      "[0 1]\n",
      "<KeysViewHDF5 ['hospital_id', 'n_patients', 'n_patients_icu']>\n",
      "[0 1]\n",
      "<KeysViewHDF5 ['hospital_id', 'n_patients', 'n_patients_icu']>\n",
      "[0 1]\n",
      "<KeysViewHDF5 ['hospital_id', 'n_patients', 'n_patients_icu']>\n",
      "[0 1]\n",
      "<KeysViewHDF5 ['hospital_id', 'n_patients', 'n_patients_icu']>\n",
      "[0 1]\n",
      "<KeysViewHDF5 ['hospital_id', 'n_patients', 'n_patients_icu']>\n",
      "[0 1]\n",
      "<KeysViewHDF5 ['hospital_id', 'n_patients', 'n_patients_icu']>\n"
     ]
    },
    {
     "name": "stdout",
     "output_type": "stream",
     "text": [
      "[0 1]\n",
      "<KeysViewHDF5 ['hospital_id', 'n_patients', 'n_patients_icu']>\n",
      "[0 1]\n",
      "<KeysViewHDF5 ['hospital_id', 'n_patients', 'n_patients_icu']>\n",
      "[0 1]\n",
      "<KeysViewHDF5 ['hospital_id', 'n_patients', 'n_patients_icu']>\n",
      "[0 1]\n",
      "<KeysViewHDF5 ['hospital_id', 'n_patients', 'n_patients_icu']>\n",
      "[0 1]\n",
      "<KeysViewHDF5 ['hospital_id', 'n_patients', 'n_patients_icu']>\n",
      "[0 1]\n",
      "<KeysViewHDF5 ['hospital_id', 'n_patients', 'n_patients_icu']>\n",
      "[0 1]\n",
      "<KeysViewHDF5 ['hospital_id', 'n_patients', 'n_patients_icu']>\n",
      "[0 1]\n",
      "<KeysViewHDF5 ['hospital_id', 'n_patients', 'n_patients_icu']>\n",
      "[0 1]\n",
      "<KeysViewHDF5 ['hospital_id', 'n_patients', 'n_patients_icu']>\n",
      "[0 1]\n",
      "<KeysViewHDF5 ['hospital_id', 'n_patients', 'n_patients_icu']>\n",
      "[0 1]\n",
      "<KeysViewHDF5 ['hospital_id', 'n_patients', 'n_patients_icu']>\n",
      "[0 1]\n",
      "<KeysViewHDF5 ['hospital_id', 'n_patients', 'n_patients_icu']>\n",
      "[0 1]\n",
      "<KeysViewHDF5 ['hospital_id', 'n_patients', 'n_patients_icu']>\n",
      "[0 1]\n",
      "<KeysViewHDF5 ['hospital_id', 'n_patients', 'n_patients_icu']>\n",
      "[0 1]\n",
      "<KeysViewHDF5 ['hospital_id', 'n_patients', 'n_patients_icu']>\n",
      "[0 1]\n",
      "<KeysViewHDF5 ['hospital_id', 'n_patients', 'n_patients_icu']>\n",
      "[0 1]\n",
      "<KeysViewHDF5 ['hospital_id', 'n_patients', 'n_patients_icu']>\n",
      "[0 1]\n",
      "<KeysViewHDF5 ['hospital_id', 'n_patients', 'n_patients_icu']>\n",
      "[0 1]\n",
      "<KeysViewHDF5 ['hospital_id', 'n_patients', 'n_patients_icu']>\n",
      "[0 1]\n",
      "<KeysViewHDF5 ['hospital_id', 'n_patients', 'n_patients_icu']>\n",
      "[0 1]\n",
      "<KeysViewHDF5 ['hospital_id', 'n_patients', 'n_patients_icu']>\n",
      "[0 1]\n",
      "<KeysViewHDF5 ['hospital_id', 'n_patients', 'n_patients_icu']>\n",
      "[0 1]\n",
      "<KeysViewHDF5 ['hospital_id', 'n_patients', 'n_patients_icu']>\n",
      "[0 1]\n",
      "<KeysViewHDF5 ['hospital_id', 'n_patients', 'n_patients_icu']>\n",
      "[0 1]\n",
      "<KeysViewHDF5 ['hospital_id', 'n_patients', 'n_patients_icu']>\n",
      "[0 1]\n",
      "<KeysViewHDF5 ['hospital_id', 'n_patients', 'n_patients_icu']>\n",
      "[0 1]\n",
      "<KeysViewHDF5 ['hospital_id', 'n_patients', 'n_patients_icu']>\n",
      "[0 1]\n",
      "<KeysViewHDF5 ['hospital_id', 'n_patients', 'n_patients_icu']>\n",
      "[0 1]\n",
      "<KeysViewHDF5 ['hospital_id', 'n_patients', 'n_patients_icu']>\n",
      "[0 1]\n",
      "<KeysViewHDF5 ['hospital_id', 'n_patients', 'n_patients_icu']>\n",
      "[0 1]\n",
      "<KeysViewHDF5 ['hospital_id', 'n_patients', 'n_patients_icu']>\n",
      "[0 1]\n",
      "<KeysViewHDF5 ['hospital_id', 'n_patients', 'n_patients_icu']>\n",
      "[0 1]\n",
      "<KeysViewHDF5 ['hospital_id', 'n_patients', 'n_patients_icu']>\n",
      "[0 1]\n",
      "<KeysViewHDF5 ['hospital_id', 'n_patients', 'n_patients_icu']>\n",
      "[0 1]\n",
      "<KeysViewHDF5 ['hospital_id', 'n_patients', 'n_patients_icu']>\n",
      "[0 1]\n",
      "<KeysViewHDF5 ['hospital_id', 'n_patients', 'n_patients_icu']>\n",
      "[0 1]\n",
      "<KeysViewHDF5 ['hospital_id', 'n_patients', 'n_patients_icu']>\n",
      "[0 1]\n",
      "<KeysViewHDF5 ['hospital_id', 'n_patients', 'n_patients_icu']>\n",
      "[0 1]\n",
      "<KeysViewHDF5 ['hospital_id', 'n_patients', 'n_patients_icu']>\n",
      "[0 1]\n",
      "<KeysViewHDF5 ['hospital_id', 'n_patients', 'n_patients_icu']>\n",
      "[0 1]\n",
      "<KeysViewHDF5 ['hospital_id', 'n_patients', 'n_patients_icu']>\n",
      "[0 1]\n",
      "<KeysViewHDF5 ['hospital_id', 'n_patients', 'n_patients_icu']>\n",
      "[0 1]\n",
      "<KeysViewHDF5 ['hospital_id', 'n_patients', 'n_patients_icu']>\n",
      "[0 1]\n",
      "<KeysViewHDF5 ['hospital_id', 'n_patients', 'n_patients_icu']>\n",
      "[0 1]\n",
      "<KeysViewHDF5 ['hospital_id', 'n_patients', 'n_patients_icu']>\n",
      "[0 1]\n",
      "<KeysViewHDF5 ['hospital_id', 'n_patients', 'n_patients_icu']>\n",
      "[0 1]\n",
      "<KeysViewHDF5 ['hospital_id', 'n_patients', 'n_patients_icu']>\n",
      "[0 1]\n",
      "<KeysViewHDF5 ['hospital_id', 'n_patients', 'n_patients_icu']>\n",
      "[0 1]\n",
      "<KeysViewHDF5 ['hospital_id', 'n_patients', 'n_patients_icu']>\n",
      "[0 1]\n",
      "<KeysViewHDF5 ['hospital_id', 'n_patients', 'n_patients_icu']>\n",
      "[0 1]\n",
      "<KeysViewHDF5 ['hospital_id', 'n_patients', 'n_patients_icu']>\n",
      "[0 1]\n",
      "<KeysViewHDF5 ['hospital_id', 'n_patients', 'n_patients_icu']>\n",
      "[0 1]\n",
      "<KeysViewHDF5 ['hospital_id', 'n_patients', 'n_patients_icu']>\n",
      "[0 1]\n",
      "<KeysViewHDF5 ['hospital_id', 'n_patients', 'n_patients_icu']>\n",
      "[0 1]\n",
      "<KeysViewHDF5 ['hospital_id', 'n_patients', 'n_patients_icu']>\n",
      "[0 1]\n",
      "<KeysViewHDF5 ['hospital_id', 'n_patients', 'n_patients_icu']>\n",
      "[0 1]\n",
      "<KeysViewHDF5 ['hospital_id', 'n_patients', 'n_patients_icu']>\n",
      "[0 1]\n",
      "<KeysViewHDF5 ['hospital_id', 'n_patients', 'n_patients_icu']>\n",
      "[0 1]\n",
      "<KeysViewHDF5 ['hospital_id', 'n_patients', 'n_patients_icu']>\n",
      "[0 1]\n",
      "<KeysViewHDF5 ['hospital_id', 'n_patients', 'n_patients_icu']>\n",
      "[0 1]\n",
      "<KeysViewHDF5 ['hospital_id', 'n_patients', 'n_patients_icu']>\n",
      "[0 1]\n",
      "<KeysViewHDF5 ['hospital_id', 'n_patients', 'n_patients_icu']>\n",
      "[0 1]\n",
      "<KeysViewHDF5 ['hospital_id', 'n_patients', 'n_patients_icu']>\n",
      "[0 1]\n",
      "<KeysViewHDF5 ['hospital_id', 'n_patients', 'n_patients_icu']>\n",
      "[0 1]\n",
      "<KeysViewHDF5 ['hospital_id', 'n_patients', 'n_patients_icu']>\n",
      "[0 1]\n",
      "<KeysViewHDF5 ['hospital_id', 'n_patients', 'n_patients_icu']>\n",
      "[0 1]\n",
      "<KeysViewHDF5 ['hospital_id', 'n_patients', 'n_patients_icu']>\n",
      "[0 1]\n",
      "<KeysViewHDF5 ['hospital_id', 'n_patients', 'n_patients_icu']>\n",
      "[0 1]\n",
      "<KeysViewHDF5 ['hospital_id', 'n_patients', 'n_patients_icu']>\n",
      "[0 1]\n",
      "<KeysViewHDF5 ['hospital_id', 'n_patients', 'n_patients_icu']>\n",
      "[0 1]\n",
      "<KeysViewHDF5 ['hospital_id', 'n_patients', 'n_patients_icu']>\n",
      "[0 1]\n",
      "<KeysViewHDF5 ['hospital_id', 'n_patients', 'n_patients_icu']>\n",
      "[0 1]\n",
      "<KeysViewHDF5 ['hospital_id', 'n_patients', 'n_patients_icu']>\n",
      "[0 1]\n",
      "<KeysViewHDF5 ['hospital_id', 'n_patients', 'n_patients_icu']>\n",
      "[0 1]\n",
      "<KeysViewHDF5 ['hospital_id', 'n_patients', 'n_patients_icu']>\n",
      "[0 1]\n",
      "<KeysViewHDF5 ['hospital_id', 'n_patients', 'n_patients_icu']>\n",
      "[0 1]\n",
      "<KeysViewHDF5 ['hospital_id', 'n_patients', 'n_patients_icu']>\n",
      "[0 1]\n",
      "<KeysViewHDF5 ['hospital_id', 'n_patients', 'n_patients_icu']>\n",
      "[0 1]\n",
      "<KeysViewHDF5 ['hospital_id', 'n_patients', 'n_patients_icu']>\n",
      "[0 1]\n",
      "<KeysViewHDF5 ['hospital_id', 'n_patients', 'n_patients_icu']>\n",
      "[0 1]\n",
      "<KeysViewHDF5 ['hospital_id', 'n_patients', 'n_patients_icu']>\n",
      "[0 1]\n",
      "<KeysViewHDF5 ['hospital_id', 'n_patients', 'n_patients_icu']>\n",
      "[0 1]\n",
      "<KeysViewHDF5 ['hospital_id', 'n_patients', 'n_patients_icu']>\n",
      "[0 1]\n",
      "<KeysViewHDF5 ['hospital_id', 'n_patients', 'n_patients_icu']>\n",
      "[0 1]\n",
      "<KeysViewHDF5 ['hospital_id', 'n_patients', 'n_patients_icu']>\n",
      "[0 1]\n",
      "<KeysViewHDF5 ['hospital_id', 'n_patients', 'n_patients_icu']>\n",
      "[0 1]\n",
      "<KeysViewHDF5 ['hospital_id', 'n_patients', 'n_patients_icu']>\n",
      "[0 1]\n",
      "<KeysViewHDF5 ['hospital_id', 'n_patients', 'n_patients_icu']>\n",
      "[0 1]\n",
      "<KeysViewHDF5 ['hospital_id', 'n_patients', 'n_patients_icu']>\n",
      "[0 1]\n",
      "<KeysViewHDF5 ['hospital_id', 'n_patients', 'n_patients_icu']>\n",
      "[0 1]\n",
      "<KeysViewHDF5 ['hospital_id', 'n_patients', 'n_patients_icu']>\n",
      "[0 1]\n",
      "<KeysViewHDF5 ['hospital_id', 'n_patients', 'n_patients_icu']>\n",
      "[0 1]\n",
      "<KeysViewHDF5 ['hospital_id', 'n_patients', 'n_patients_icu']>\n",
      "[0 1]\n",
      "<KeysViewHDF5 ['hospital_id', 'n_patients', 'n_patients_icu']>\n",
      "[0 1]\n",
      "<KeysViewHDF5 ['hospital_id', 'n_patients', 'n_patients_icu']>\n",
      "[0 1]\n",
      "<KeysViewHDF5 ['hospital_id', 'n_patients', 'n_patients_icu']>\n",
      "[0 1]\n",
      "<KeysViewHDF5 ['hospital_id', 'n_patients', 'n_patients_icu']>\n",
      "[0 1]\n",
      "<KeysViewHDF5 ['hospital_id', 'n_patients', 'n_patients_icu']>\n",
      "[0 1]\n",
      "<KeysViewHDF5 ['hospital_id', 'n_patients', 'n_patients_icu']>\n",
      "[0 1]\n",
      "<KeysViewHDF5 ['hospital_id', 'n_patients', 'n_patients_icu']>\n",
      "[0 1]\n",
      "<KeysViewHDF5 ['hospital_id', 'n_patients', 'n_patients_icu']>\n",
      "[0 1]\n",
      "<KeysViewHDF5 ['hospital_id', 'n_patients', 'n_patients_icu']>\n",
      "[0 1]\n",
      "<KeysViewHDF5 ['hospital_id', 'n_patients', 'n_patients_icu']>\n",
      "[0 1]\n",
      "<KeysViewHDF5 ['hospital_id', 'n_patients', 'n_patients_icu']>\n",
      "[0 1]\n",
      "<KeysViewHDF5 ['hospital_id', 'n_patients', 'n_patients_icu']>\n",
      "[0 1]\n",
      "<KeysViewHDF5 ['hospital_id', 'n_patients', 'n_patients_icu']>\n",
      "[0 1]\n",
      "<KeysViewHDF5 ['hospital_id', 'n_patients', 'n_patients_icu']>\n",
      "[0 1]\n",
      "<KeysViewHDF5 ['hospital_id', 'n_patients', 'n_patients_icu']>\n",
      "[0 1]\n",
      "<KeysViewHDF5 ['hospital_id', 'n_patients', 'n_patients_icu']>\n",
      "[0 1]\n",
      "<KeysViewHDF5 ['hospital_id', 'n_patients', 'n_patients_icu']>\n",
      "[0 1]\n",
      "<KeysViewHDF5 ['hospital_id', 'n_patients', 'n_patients_icu']>\n",
      "[0 1]\n",
      "<KeysViewHDF5 ['hospital_id', 'n_patients', 'n_patients_icu']>\n",
      "[0 1]\n",
      "<KeysViewHDF5 ['hospital_id', 'n_patients', 'n_patients_icu']>\n",
      "[0 1]\n",
      "<KeysViewHDF5 ['hospital_id', 'n_patients', 'n_patients_icu']>\n",
      "[0 1]\n",
      "<KeysViewHDF5 ['hospital_id', 'n_patients', 'n_patients_icu']>\n",
      "[0 1]\n",
      "<KeysViewHDF5 ['hospital_id', 'n_patients', 'n_patients_icu']>\n",
      "[0 1]\n",
      "<KeysViewHDF5 ['hospital_id', 'n_patients', 'n_patients_icu']>\n",
      "[0 1]\n",
      "<KeysViewHDF5 ['hospital_id', 'n_patients', 'n_patients_icu']>\n",
      "[0 1]\n",
      "<KeysViewHDF5 ['hospital_id', 'n_patients', 'n_patients_icu']>\n",
      "[0 1]\n",
      "<KeysViewHDF5 ['hospital_id', 'n_patients', 'n_patients_icu']>\n",
      "[0 1]\n",
      "<KeysViewHDF5 ['hospital_id', 'n_patients', 'n_patients_icu']>\n",
      "[0 1]\n",
      "<KeysViewHDF5 ['hospital_id', 'n_patients', 'n_patients_icu']>\n",
      "[0 1]\n",
      "<KeysViewHDF5 ['hospital_id', 'n_patients', 'n_patients_icu']>\n",
      "[0 1]\n",
      "<KeysViewHDF5 ['hospital_id', 'n_patients', 'n_patients_icu']>\n",
      "[0 1]\n"
     ]
    },
    {
     "name": "stdout",
     "output_type": "stream",
     "text": [
      "<KeysViewHDF5 ['hospital_id', 'n_patients', 'n_patients_icu']>\n",
      "[0 1]\n",
      "<KeysViewHDF5 ['hospital_id', 'n_patients', 'n_patients_icu']>\n",
      "[0 1]\n",
      "<KeysViewHDF5 ['hospital_id', 'n_patients', 'n_patients_icu']>\n",
      "[0 1]\n",
      "<KeysViewHDF5 ['hospital_id', 'n_patients', 'n_patients_icu']>\n",
      "[0 1]\n",
      "<KeysViewHDF5 ['hospital_id', 'n_patients', 'n_patients_icu']>\n",
      "[0 1]\n",
      "<KeysViewHDF5 ['hospital_id', 'n_patients', 'n_patients_icu']>\n",
      "[0 1]\n",
      "<KeysViewHDF5 ['hospital_id', 'n_patients', 'n_patients_icu']>\n",
      "[0 1]\n",
      "<KeysViewHDF5 ['hospital_id', 'n_patients', 'n_patients_icu']>\n",
      "[0 1]\n",
      "<KeysViewHDF5 ['hospital_id', 'n_patients', 'n_patients_icu']>\n",
      "[0 1]\n",
      "<KeysViewHDF5 ['hospital_id', 'n_patients', 'n_patients_icu']>\n",
      "[0 1]\n",
      "<KeysViewHDF5 ['hospital_id', 'n_patients', 'n_patients_icu']>\n",
      "[0 1]\n",
      "<KeysViewHDF5 ['hospital_id', 'n_patients', 'n_patients_icu']>\n",
      "[0 1]\n",
      "<KeysViewHDF5 ['hospital_id', 'n_patients', 'n_patients_icu']>\n",
      "[0 1]\n",
      "<KeysViewHDF5 ['hospital_id', 'n_patients', 'n_patients_icu']>\n",
      "[0 1]\n",
      "<KeysViewHDF5 ['hospital_id', 'n_patients', 'n_patients_icu']>\n",
      "[0 1]\n",
      "<KeysViewHDF5 ['hospital_id', 'n_patients', 'n_patients_icu']>\n",
      "[0 1]\n",
      "<KeysViewHDF5 ['hospital_id', 'n_patients', 'n_patients_icu']>\n",
      "[0 1]\n",
      "<KeysViewHDF5 ['hospital_id', 'n_patients', 'n_patients_icu']>\n",
      "[0 1]\n",
      "<KeysViewHDF5 ['hospital_id', 'n_patients', 'n_patients_icu']>\n",
      "[0 1]\n",
      "<KeysViewHDF5 ['hospital_id', 'n_patients', 'n_patients_icu']>\n",
      "[0 1]\n",
      "<KeysViewHDF5 ['hospital_id', 'n_patients', 'n_patients_icu']>\n",
      "[0 1]\n",
      "<KeysViewHDF5 ['hospital_id', 'n_patients', 'n_patients_icu']>\n",
      "[0 1]\n",
      "<KeysViewHDF5 ['hospital_id', 'n_patients', 'n_patients_icu']>\n",
      "[0 1]\n",
      "<KeysViewHDF5 ['hospital_id', 'n_patients', 'n_patients_icu']>\n",
      "[0 1]\n",
      "<KeysViewHDF5 ['hospital_id', 'n_patients', 'n_patients_icu']>\n",
      "[0 1]\n",
      "<KeysViewHDF5 ['hospital_id', 'n_patients', 'n_patients_icu']>\n",
      "[0 1]\n",
      "<KeysViewHDF5 ['hospital_id', 'n_patients', 'n_patients_icu']>\n",
      "[0 1]\n",
      "<KeysViewHDF5 ['hospital_id', 'n_patients', 'n_patients_icu']>\n",
      "[0 1]\n",
      "<KeysViewHDF5 ['hospital_id', 'n_patients', 'n_patients_icu']>\n",
      "[0 1]\n",
      "<KeysViewHDF5 ['hospital_id', 'n_patients', 'n_patients_icu']>\n",
      "[0 1]\n",
      "<KeysViewHDF5 ['hospital_id', 'n_patients', 'n_patients_icu']>\n",
      "[0 1]\n",
      "<KeysViewHDF5 ['hospital_id', 'n_patients', 'n_patients_icu']>\n",
      "[0 1]\n",
      "<KeysViewHDF5 ['hospital_id', 'n_patients', 'n_patients_icu']>\n",
      "[0 1]\n",
      "<KeysViewHDF5 ['hospital_id', 'n_patients', 'n_patients_icu']>\n",
      "[0 1]\n",
      "<KeysViewHDF5 ['hospital_id', 'n_patients', 'n_patients_icu']>\n",
      "[0 1]\n",
      "<KeysViewHDF5 ['hospital_id', 'n_patients', 'n_patients_icu']>\n",
      "[0 1]\n",
      "<KeysViewHDF5 ['hospital_id', 'n_patients', 'n_patients_icu']>\n",
      "[0 1]\n",
      "<KeysViewHDF5 ['hospital_id', 'n_patients', 'n_patients_icu']>\n",
      "[0 1]\n",
      "<KeysViewHDF5 ['hospital_id', 'n_patients', 'n_patients_icu']>\n",
      "[0 1]\n",
      "<KeysViewHDF5 ['hospital_id', 'n_patients', 'n_patients_icu']>\n",
      "[0 1]\n",
      "<KeysViewHDF5 ['hospital_id', 'n_patients', 'n_patients_icu']>\n",
      "[0 1]\n",
      "<KeysViewHDF5 ['hospital_id', 'n_patients', 'n_patients_icu']>\n",
      "[0 1]\n",
      "<KeysViewHDF5 ['hospital_id', 'n_patients', 'n_patients_icu']>\n",
      "[0 1]\n",
      "<KeysViewHDF5 ['hospital_id', 'n_patients', 'n_patients_icu']>\n",
      "[0 1]\n",
      "<KeysViewHDF5 ['hospital_id', 'n_patients', 'n_patients_icu']>\n",
      "[0 1]\n",
      "<KeysViewHDF5 ['hospital_id', 'n_patients', 'n_patients_icu']>\n",
      "[0 1]\n",
      "<KeysViewHDF5 ['hospital_id', 'n_patients', 'n_patients_icu']>\n",
      "[0 1]\n",
      "<KeysViewHDF5 ['hospital_id', 'n_patients', 'n_patients_icu']>\n",
      "[0 1]\n",
      "<KeysViewHDF5 ['hospital_id', 'n_patients', 'n_patients_icu']>\n",
      "[0 1]\n",
      "<KeysViewHDF5 ['hospital_id', 'n_patients', 'n_patients_icu']>\n",
      "[0 1]\n",
      "<KeysViewHDF5 ['hospital_id', 'n_patients', 'n_patients_icu']>\n",
      "[0 1]\n",
      "<KeysViewHDF5 ['hospital_id', 'n_patients', 'n_patients_icu']>\n",
      "[0 1]\n",
      "<KeysViewHDF5 ['hospital_id', 'n_patients', 'n_patients_icu']>\n",
      "[0 1]\n",
      "<KeysViewHDF5 ['hospital_id', 'n_patients', 'n_patients_icu']>\n",
      "[0 1]\n",
      "<KeysViewHDF5 ['hospital_id', 'n_patients', 'n_patients_icu']>\n",
      "[0 1]\n",
      "<KeysViewHDF5 ['hospital_id', 'n_patients', 'n_patients_icu']>\n",
      "[0 1]\n",
      "<KeysViewHDF5 ['hospital_id', 'n_patients', 'n_patients_icu']>\n",
      "[0 1]\n",
      "<KeysViewHDF5 ['hospital_id', 'n_patients', 'n_patients_icu']>\n",
      "[0 1]\n"
     ]
    },
    {
     "ename": "AttributeError",
     "evalue": "'Dataset' object has no attribute 'keys'",
     "output_type": "error",
     "traceback": [
      "\u001b[0;31m---------------------------------------------------------------------------\u001b[0m",
      "\u001b[0;31mAttributeError\u001b[0m                            Traceback (most recent call last)",
      "\u001b[0;32m<ipython-input-147-18017db56bad>\u001b[0m in \u001b[0;36m<module>\u001b[0;34m\u001b[0m\n\u001b[0;32m----> 1\u001b[0;31m \u001b[0mhospitals_df\u001b[0m \u001b[0;34m=\u001b[0m \u001b[0mread\u001b[0m\u001b[0;34m.\u001b[0m\u001b[0mload_hospital_capacity\u001b[0m\u001b[0;34m(\u001b[0m\u001b[0;34m)\u001b[0m\u001b[0;34m\u001b[0m\u001b[0;34m\u001b[0m\u001b[0m\n\u001b[0m",
      "\u001b[0;32m~/JUNE/june/logger/read_logger.py\u001b[0m in \u001b[0;36mload_hospital_capacity\u001b[0;34m(self)\u001b[0m\n\u001b[1;32m    309\u001b[0m             \u001b[0mn_patients_icu\u001b[0m \u001b[0;34m=\u001b[0m \u001b[0;34m[\u001b[0m\u001b[0;34m]\u001b[0m\u001b[0;34m\u001b[0m\u001b[0;34m\u001b[0m\u001b[0m\n\u001b[1;32m    310\u001b[0m             \u001b[0;32mfor\u001b[0m \u001b[0mtime_stamp\u001b[0m \u001b[0;32min\u001b[0m \u001b[0mhospitals\u001b[0m\u001b[0;34m.\u001b[0m\u001b[0mkeys\u001b[0m\u001b[0;34m(\u001b[0m\u001b[0;34m)\u001b[0m\u001b[0;34m:\u001b[0m\u001b[0;34m\u001b[0m\u001b[0;34m\u001b[0m\u001b[0m\n\u001b[0;32m--> 311\u001b[0;31m                 \u001b[0mprint\u001b[0m\u001b[0;34m(\u001b[0m\u001b[0mhospitals\u001b[0m\u001b[0;34m[\u001b[0m\u001b[0mtime_stamp\u001b[0m\u001b[0;34m]\u001b[0m\u001b[0;34m.\u001b[0m\u001b[0mkeys\u001b[0m\u001b[0;34m(\u001b[0m\u001b[0;34m)\u001b[0m\u001b[0;34m)\u001b[0m\u001b[0;34m\u001b[0m\u001b[0;34m\u001b[0m\u001b[0m\n\u001b[0m\u001b[1;32m    312\u001b[0m                 \u001b[0mprint\u001b[0m\u001b[0;34m(\u001b[0m\u001b[0mhospitals\u001b[0m\u001b[0;34m[\u001b[0m\u001b[0mtime_stamp\u001b[0m\u001b[0;34m]\u001b[0m\u001b[0;34m[\u001b[0m\u001b[0;34m'hospital_id'\u001b[0m\u001b[0;34m]\u001b[0m\u001b[0;34m[\u001b[0m\u001b[0;34m:\u001b[0m\u001b[0;34m]\u001b[0m\u001b[0;34m)\u001b[0m\u001b[0;34m\u001b[0m\u001b[0;34m\u001b[0m\u001b[0m\n\u001b[1;32m    313\u001b[0m                 \u001b[0mhospital_ids\u001b[0m\u001b[0;34m.\u001b[0m\u001b[0mappend\u001b[0m\u001b[0;34m(\u001b[0m\u001b[0mhospitals\u001b[0m\u001b[0;34m[\u001b[0m\u001b[0mtime_stamp\u001b[0m\u001b[0;34m]\u001b[0m\u001b[0;34m[\u001b[0m\u001b[0;34m\"hospital_id\"\u001b[0m\u001b[0;34m]\u001b[0m\u001b[0;34m[\u001b[0m\u001b[0;34m:\u001b[0m\u001b[0;34m]\u001b[0m\u001b[0;34m)\u001b[0m\u001b[0;34m\u001b[0m\u001b[0;34m\u001b[0m\u001b[0m\n",
      "\u001b[0;31mAttributeError\u001b[0m: 'Dataset' object has no attribute 'keys'"
     ]
    }
   ],
   "source": [
    "hospitals_df = read.load_hospital_capacity()"
   ]
  },
  {
   "cell_type": "code",
   "execution_count": 135,
   "metadata": {},
   "outputs": [],
   "source": [
    "loc_df = read.get_locations_infections()"
   ]
  },
  {
   "cell_type": "code",
   "execution_count": 136,
   "metadata": {},
   "outputs": [
    {
     "data": {
      "text/plain": [
       "Text(0.5, 0, 'location')"
      ]
     },
     "execution_count": 136,
     "metadata": {},
     "output_type": "execute_result"
    },
    {
     "data": {
      "image/png": "[encoded data removed]",
      "text/plain": [
       "<Figure size 432x288 with 1 Axes>"
      ]
     },
     "metadata": {
      "needs_background": "light"
     },
     "output_type": "display_data"
    }
   ],
   "source": [
    "import matplotlib.ticker as mtick\n",
    "\n",
    "ax = loc_df['percentage_infections'].sort_values().plot.bar()\n",
    "ax.yaxis.set_major_formatter(mtick.PercentFormatter())\n",
    "plt.ylabel('Percentage of infections at location')\n",
    "plt.xlabel('location')"
   ]
  },
  {
   "cell_type": "code",
   "execution_count": 137,
   "metadata": {},
   "outputs": [],
   "source": [
    "hospitals_char_df = read.load_hospital_characteristics()"
   ]
  },
  {
   "cell_type": "code",
   "execution_count": 138,
   "metadata": {},
   "outputs": [
    {
     "data": {
      "text/html": [
       "<div>\n",
       "<style scoped>\n",
       "    .dataframe tbody tr th:only-of-type {\n",
       "        vertical-align: middle;\n",
       "    }\n",
       "\n",
       "    .dataframe tbody tr th {\n",
       "        vertical-align: top;\n",
       "    }\n",
       "\n",
       "    .dataframe thead th {\n",
       "        text-align: right;\n",
       "    }\n",
       "</style>\n",
       "<table border=\"1\" class=\"dataframe\">\n",
       "  <thead>\n",
       "    <tr style=\"text-align: right;\">\n",
       "      <th></th>\n",
       "      <th>longitude</th>\n",
       "      <th>latitude</th>\n",
       "      <th>n_beds</th>\n",
       "      <th>n_icu_beds</th>\n",
       "    </tr>\n",
       "  </thead>\n",
       "  <tbody>\n",
       "    <tr>\n",
       "      <th>0</th>\n",
       "      <td>54.543568</td>\n",
       "      <td>-1.591137</td>\n",
       "      <td>126</td>\n",
       "      <td>6</td>\n",
       "    </tr>\n",
       "    <tr>\n",
       "      <th>1</th>\n",
       "      <td>54.543568</td>\n",
       "      <td>-1.591137</td>\n",
       "      <td>126</td>\n",
       "      <td>6</td>\n",
       "    </tr>\n",
       "  </tbody>\n",
       "</table>\n",
       "</div>"
      ],
      "text/plain": [
       "   longitude  latitude  n_beds  n_icu_beds\n",
       "0  54.543568 -1.591137     126           6\n",
       "1  54.543568 -1.591137     126           6"
      ]
     },
     "execution_count": 138,
     "metadata": {},
     "output_type": "execute_result"
    }
   ],
   "source": [
    "hospitals_char_df"
   ]
  },
  {
   "cell_type": "code",
   "execution_count": 29,
   "metadata": {},
   "outputs": [],
   "source": [
    "r_df = read.get_r()"
   ]
  },
  {
   "cell_type": "code",
   "execution_count": 30,
   "metadata": {},
   "outputs": [
    {
     "data": {
      "text/plain": [
       "Text(0, 0.5, 'R')"
      ]
     },
     "execution_count": 30,
     "metadata": {},
     "output_type": "execute_result"
    },
    {
     "data": {
      "image/png": "[encoded data removed]",
      "text/plain": [
       "<Figure size 432x288 with 1 Axes>"
      ]
     },
     "metadata": {
      "needs_background": "light"
     },
     "output_type": "display_data"
    }
   ],
   "source": [
    "r_df.plot()\n",
    "plt.axhline(y=1, linestyle='dashed', color='gray')\n",
    "plt.xlabel('Date')\n",
    "plt.ylabel('R')"
   ]
  },
  {
   "cell_type": "code",
   "execution_count": null,
   "metadata": {},
   "outputs": [],
   "source": [
    "hospitals_df"
   ]
  },
  {
   "cell_type": "code",
   "execution_count": 32,
   "metadata": {},
   "outputs": [],
   "source": [
    "world_df = read.world_summary()"
   ]
  },
  {
   "cell_type": "code",
   "execution_count": 33,
   "metadata": {},
   "outputs": [
    {
     "data": {
      "text/plain": [
       "<matplotlib.legend.Legend at 0x7f96e02d5490>"
      ]
     },
     "execution_count": 33,
     "metadata": {},
     "output_type": "execute_result"
    },
    {
     "data": {
      "image/png": "[encoded data removed]",
      "text/plain": [
       "<Figure size 432x288 with 1 Axes>"
      ]
     },
     "metadata": {
      "needs_background": "light"
     },
     "output_type": "display_data"
    }
   ],
   "source": [
    "world_df.plot()\n",
    "plt.legend()"
   ]
  },
  {
   "cell_type": "code",
   "execution_count": 34,
   "metadata": {},
   "outputs": [],
   "source": [
    "area_df = read.super_area_summary()"
   ]
  },
  {
   "cell_type": "code",
   "execution_count": 35,
   "metadata": {},
   "outputs": [
    {
     "data": {
      "text/plain": [
       "<matplotlib.legend.Legend at 0x7f96e0e0fd30>"
      ]
     },
     "execution_count": 35,
     "metadata": {},
     "output_type": "execute_result"
    },
    {
     "data": {
      "image/png": "[encoded data removed]",
      "text/plain": [
       "<Figure size 432x288 with 1 Axes>"
      ]
     },
     "metadata": {
      "needs_background": "light"
     },
     "output_type": "display_data"
    }
   ],
   "source": [
    "area_df[area_df.super_area == 'E02002560'].plot()\n",
    "plt.legend()"
   ]
  },
  {
   "cell_type": "code",
   "execution_count": 36,
   "metadata": {},
   "outputs": [
    {
     "data": {
      "text/plain": [
       "<matplotlib.legend.Legend at 0x7f96dfba0d00>"
      ]
     },
     "execution_count": 36,
     "metadata": {},
     "output_type": "execute_result"
    },
    {
     "data": {
      "image/png": "[encoded data removed]",
      "text/plain": [
       "<Figure size 432x288 with 1 Axes>"
      ]
     },
     "metadata": {
      "needs_background": "light"
     },
     "output_type": "display_data"
    }
   ],
   "source": [
    "area_df[area_df.super_area == 'E02001720'].plot()\n",
    "plt.legend()"
   ]
  },
  {
   "cell_type": "code",
   "execution_count": 37,
   "metadata": {},
   "outputs": [],
   "source": [
    "ages_df = read.age_summary([0,10,20,30,40,\n",
    "                  50,60,70,80,90,100])"
   ]
  },
  {
   "cell_type": "code",
   "execution_count": 38,
   "metadata": {},
   "outputs": [
    {
     "data": {
      "text/plain": [
       "<matplotlib.legend.Legend at 0x7f96dfbc5040>"
      ]
     },
     "execution_count": 38,
     "metadata": {},
     "output_type": "execute_result"
    },
    {
     "data": {
      "image/png": "[encoded data removed]",
      "text/plain": [
       "<Figure size 432x288 with 1 Axes>"
      ]
     },
     "metadata": {
      "needs_background": "light"
     },
     "output_type": "display_data"
    }
   ],
   "source": [
    "for name, group in ages_df.groupby('age_range'):\n",
    "    group['infected'].plot(label=name)\n",
    "plt.legend()"
   ]
  },
  {
   "cell_type": "code",
   "execution_count": 50,
   "metadata": {},
   "outputs": [],
   "source": [
    "random_trajectories = read.draw_symptom_trajectories(window_length=100,\n",
    "                                        n_people=5)"
   ]
  },
  {
   "cell_type": "code",
   "execution_count": 51,
   "metadata": {},
   "outputs": [
    {
     "data": {
      "text/plain": [
       "Text(0.5, 0, 'Date')"
      ]
     },
     "execution_count": 51,
     "metadata": {},
     "output_type": "execute_result"
    },
    {
     "data": {
      "image/png": "[encoded data removed]",
      "text/plain": [
       "<Figure size 432x288 with 1 Axes>"
      ]
     },
     "metadata": {
      "needs_background": "light"
     },
     "output_type": "display_data"
    }
   ],
   "source": [
    "for df_person in random_trajectories:\n",
    "    df_person['symptoms'].plot()\n",
    "plt.ylabel('Symptoms Trajectory')\n",
    "symptoms = ['healthy','infected', 'asymptomatic',\n",
    "            'influenza','pneumonia', 'hospitalised',\n",
    "           'intensive_care', 'dead', 'recovered']\n",
    "_ = plt.yticks(range(len(symptoms)), symptoms)\n",
    "plt.xlabel('Date')"
   ]
  },
  {
   "cell_type": "code",
   "execution_count": 52,
   "metadata": {},
   "outputs": [
    {
     "data": {
      "text/plain": [
       "Text(0.5, 0, 'Date')"
      ]
     },
     "execution_count": 52,
     "metadata": {},
     "output_type": "execute_result"
    },
    {
     "data": {
      "image/png": "[encoded data removed]",
      "text/plain": [
       "<Figure size 432x288 with 1 Axes>"
      ]
     },
     "metadata": {
      "needs_background": "light"
     },
     "output_type": "display_data"
    }
   ],
   "source": [
    "for df_person in random_trajectories:\n",
    "    df_person['n_secondary_infections'].plot()\n",
    "plt.ylabel('Number of secondary infections')\n",
    "\n",
    "plt.xlabel('Date')"
   ]
  },
  {
   "cell_type": "code",
   "execution_count": 56,
   "metadata": {},
   "outputs": [
    {
     "data": {
      "text/plain": [
       "Text(0, 0.5, 'Number of infections at location')"
      ]
     },
     "execution_count": 56,
     "metadata": {},
     "output_type": "execute_result"
    },
    {
     "data": {
      "image/png": "[encoded data removed]",
      "text/plain": [
       "<Figure size 432x288 with 1 Axes>"
      ]
     },
     "metadata": {
      "needs_background": "light"
     },
     "output_type": "display_data"
    }
   ],
   "source": [
    "locations_df['counts'].sort_values().plot.bar()\n",
    "plt.ylabel('Number of infections at location')"
   ]
  },
  {
   "cell_type": "code",
   "execution_count": 58,
   "metadata": {},
   "outputs": [
    {
     "data": {
      "text/plain": [
       "Text(0, 0.5, 'Number of infections at location')"
      ]
     },
     "execution_count": 58,
     "metadata": {},
     "output_type": "execute_result"
    },
    {
     "data": {
      "image/png": "[encoded data removed]",
      "text/plain": [
       "<Figure size 432x288 with 1 Axes>"
      ]
     },
     "metadata": {
      "needs_background": "light"
     },
     "output_type": "display_data"
    }
   ],
   "source": [
    "locations_df['average_counts'].sort_values().plot.bar()\n",
    "plt.ylabel('Number of infections at location')"
   ]
  },
  {
   "cell_type": "code",
   "execution_count": null,
   "metadata": {},
   "outputs": [],
   "source": []
  }
 ],
 "metadata": {
  "kernelspec": {
   "display_name": "Python 3",
   "language": "python",
   "name": "python3"
  },
  "language_info": {
   "codemirror_mode": {
    "name": "ipython",
    "version": 3
   },
   "file_extension": ".py",
   "mimetype": "text/x-python",
   "name": "python",
   "nbconvert_exporter": "python",
   "pygments_lexer": "ipython3",
   "version": "3.8.2"
  }
 },
 "nbformat": 4,
 "nbformat_minor": 4
}
