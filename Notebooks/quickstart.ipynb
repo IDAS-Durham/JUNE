{
 "cells": [
  {
   "cell_type": "code",
   "execution_count": 1,
   "metadata": {},
   "outputs": [],
   "source": [
    "%load_ext autoreload\n",
    "%autoreload 2"
   ]
  },
  {
   "cell_type": "code",
   "execution_count": 2,
   "metadata": {},
   "outputs": [],
   "source": [
    "import numpy as np\n",
    "import time\n",
    "from datetime import datetime\n",
    "import matplotlib.pyplot as plt\n",
    "import seaborn as sns\n",
    "sns.set_context('notebook')"
   ]
  },
  {
   "cell_type": "code",
   "execution_count": 3,
   "metadata": {},
   "outputs": [
    {
     "name": "stderr",
     "output_type": "stream",
     "text": [
      "No --data argument given - defaulting to:\n",
      "/home/florpi/JUNE/data\n",
      "No --configs argument given - defaulting to:\n",
      "/home/florpi/JUNE/configs\n"
     ]
    }
   ],
   "source": [
    "from june import World \n",
    "from june.demography.geography import Geography\n",
    "from june.demography import Demography\n",
    "from june.interaction import ContactAveraging\n",
    "from june.infection import Infection\n",
    "from june.infection.transmission import TransmissionConstant\n",
    "from june.groups import Hospitals, Schools, Companies, Households, CareHomes, Cemeteries, Universities\n",
    "from june.groups.leisure import leisure, Cinemas, Pubs, Groceries\n",
    "from june.simulator import Simulator\n",
    "from june.seed import Seed\n",
    "from june.policy import Policy, Policies\n",
    "from june import paths\n",
    "from june.logger.read_logger import ReadLogger\n",
    "from june.infection.infection import InfectionSelector\n",
    "from june.world import generate_world_from_hdf5, generate_world_from_geography"
   ]
  },
  {
   "cell_type": "markdown",
   "metadata": {},
   "source": [
    "# Initialize world\n",
    "\n",
    "To initialize a certain world, we need to add the different components we want to have in it. First we specify what super areas (msoa) we want to create. We have included these ones, because they are known to contain hospitals, schools, care homes, and companies.\n",
    "\n",
    "After creating the geography, we create the different components the worlds need to have such as care homes, companies ..."
   ]
  },
  {
   "cell_type": "code",
   "execution_count": 4,
   "metadata": {},
   "outputs": [
    {
     "name": "stdout",
     "output_type": "stream",
     "text": [
      "2020-06-23 17:15:57,898 - june.demography.geography - INFO - There are 129 areas and 5 super_areas in the world.\n",
      "2020-06-23 17:15:57,909 - june.groups.hospital - INFO - There are 1 hospitals in this geography.\n",
      "2020-06-23 17:15:57,967 - june.groups.school - INFO - There are 19 schools in this geography.\n",
      "2020-06-23 17:15:58,003 - june.groups.school - INFO - No school for the age 0 in this world.\n",
      "2020-06-23 17:15:58,009 - june.groups.school - INFO - No school for the age 1 in this world.\n",
      "2020-06-23 17:15:58,023 - june.groups.school - INFO - No school for the age 2 in this world.\n",
      "2020-06-23 17:15:58,364 - june.groups.carehome - INFO - There are 9 care_homes in this geography.\n",
      "2020-06-23 17:16:05,777 - numexpr.utils - INFO - NumExpr defaulting to 4 threads.\n",
      "2020-06-23 17:16:08,635 - june.distributors.worker_distributor - INFO - There are 0 who had to be told to stay real\n",
      "CPU times: user 34.2 s, sys: 1.2 s, total: 35.4 s\n",
      "Wall time: 36 s\n"
     ]
    }
   ],
   "source": [
    "%%time \n",
    "\n",
    "geography = Geography.from_file(\n",
    "        {\n",
    "            \"super_area\": [\n",
    "                \"E02003282\",\n",
    "                \"E02001720\",\n",
    "                \"E00088544\",\n",
    "                \"E02002560\",\n",
    "                \"E02002559\",\n",
    "                \"E02004314\",\n",
    "            ]\n",
    "        }\n",
    ")\n",
    "\n",
    "geography.hospitals = Hospitals.for_geography(geography)\n",
    "geography.schools = Schools.for_geography(geography)\n",
    "geography.companies = Companies.for_geography(geography)\n",
    "geography.care_homes = CareHomes.for_geography(geography)\n",
    "geography.universities = Universities.for_super_areas(geography.super_areas)\n",
    "world = generate_world_from_geography(geography, include_households=True, include_commute=True)\n"
   ]
  },
  {
   "cell_type": "code",
   "execution_count": null,
   "metadata": {},
   "outputs": [],
   "source": []
  },
  {
   "cell_type": "code",
   "execution_count": 5,
   "metadata": {},
   "outputs": [
    {
     "data": {
      "text/plain": [
       "46784"
      ]
     },
     "execution_count": 5,
     "metadata": {},
     "output_type": "execute_result"
    }
   ],
   "source": [
    "len(world.people)"
   ]
  },
  {
   "cell_type": "markdown",
   "metadata": {},
   "source": [
    "### If it took a long time to run the previous command, it might be a good idea to save the world to reuse it later."
   ]
  },
  {
   "cell_type": "code",
   "execution_count": 6,
   "metadata": {},
   "outputs": [],
   "source": [
    "#world.to_hdf5(\"world.hdf5\")"
   ]
  },
  {
   "cell_type": "markdown",
   "metadata": {},
   "source": [
    "If we would like to load the world we saved, we just do"
   ]
  },
  {
   "cell_type": "code",
   "execution_count": 7,
   "metadata": {},
   "outputs": [],
   "source": [
    "#world = generate_world_from_hdf5(\"world.hdf5\")"
   ]
  },
  {
   "cell_type": "markdown",
   "metadata": {},
   "source": [
    "you have now a beautiful pre-pandemic world. "
   ]
  },
  {
   "cell_type": "markdown",
   "metadata": {},
   "source": [
    "## Commute, travel and leisure"
   ]
  },
  {
   "cell_type": "markdown",
   "metadata": {},
   "source": [
    "We can add cinemas, pubs, groceries, etc. as well as commute in major cities with"
   ]
  },
  {
   "cell_type": "code",
   "execution_count": 8,
   "metadata": {},
   "outputs": [],
   "source": [
    "# leisure\n",
    "world.cinemas = Cinemas.for_geography(geography)\n",
    "world.pubs = Pubs.for_geography(geography)\n",
    "world.groceries = Groceries.for_super_areas(world.super_areas,\n",
    "                                            venues_per_capita=1/500)"
   ]
  },
  {
   "cell_type": "code",
   "execution_count": 9,
   "metadata": {},
   "outputs": [],
   "source": [
    "# commute\n",
    "#world.initialise_commuting()"
   ]
  },
  {
   "cell_type": "markdown",
   "metadata": {},
   "source": [
    "We are also going to need some cemeteries...geography.cemeteries = Cemeteries()\n"
   ]
  },
  {
   "cell_type": "code",
   "execution_count": 10,
   "metadata": {},
   "outputs": [],
   "source": [
    "world.cemeteries = Cemeteries()"
   ]
  },
  {
   "cell_type": "markdown",
   "metadata": {},
   "source": [
    "# Adding the infection"
   ]
  },
  {
   "cell_type": "markdown",
   "metadata": {},
   "source": [
    "Now, you can play around with different models of infections. The building blocks for an infection are: Transmission and Symptoms. For now, only SymptomsConstant and TransmissionConstant are in a state to be used."
   ]
  },
  {
   "cell_type": "code",
   "execution_count": 11,
   "metadata": {},
   "outputs": [],
   "source": [
    "selector = InfectionSelector.from_file()"
   ]
  },
  {
   "cell_type": "code",
   "execution_count": 12,
   "metadata": {},
   "outputs": [
    {
     "data": {
      "text/plain": [
       "<june.infection.infection.InfectionSelector at 0x7fb7b537ae50>"
      ]
     },
     "execution_count": 12,
     "metadata": {},
     "output_type": "execute_result"
    }
   ],
   "source": [
    "selector"
   ]
  },
  {
   "cell_type": "markdown",
   "metadata": {},
   "source": [
    "# Adding the interaction"
   ]
  },
  {
   "cell_type": "code",
   "execution_count": 13,
   "metadata": {},
   "outputs": [],
   "source": [
    "interaction = ContactAveraging.from_file(selector=selector)\n",
    "#interaction = DefaultInteraction.from_file(selector=selector)"
   ]
  },
  {
   "cell_type": "markdown",
   "metadata": {},
   "source": [
    "Beta are the intensities of the interaction taking place at the different groups"
   ]
  },
  {
   "cell_type": "code",
   "execution_count": 14,
   "metadata": {},
   "outputs": [
    {
     "data": {
      "text/plain": [
       "{'box': 1,\n",
       " 'pub': 1,\n",
       " 'grocery': 1,\n",
       " 'cinema': 1,\n",
       " 'commute_unit': 1.0,\n",
       " 'commute_city_unit': 1.0,\n",
       " 'hospital': 1.0,\n",
       " 'care_home': 1.0,\n",
       " 'company': 1.0,\n",
       " 'school': 1.0,\n",
       " 'household': 1.0,\n",
       " 'university': 1.0}"
      ]
     },
     "execution_count": 14,
     "metadata": {},
     "output_type": "execute_result"
    }
   ],
   "source": [
    "interaction.beta"
   ]
  },
  {
   "cell_type": "markdown",
   "metadata": {},
   "source": [
    "to modify these, simply do"
   ]
  },
  {
   "cell_type": "code",
   "execution_count": 15,
   "metadata": {},
   "outputs": [],
   "source": [
    "interaction.beta['household'] *= 2"
   ]
  },
  {
   "cell_type": "code",
   "execution_count": 16,
   "metadata": {},
   "outputs": [
    {
     "data": {
      "text/plain": [
       "{'box': 1,\n",
       " 'pub': 1,\n",
       " 'grocery': 1,\n",
       " 'cinema': 1,\n",
       " 'commute_unit': 1.0,\n",
       " 'commute_city_unit': 1.0,\n",
       " 'hospital': 1.0,\n",
       " 'care_home': 1.0,\n",
       " 'company': 1.0,\n",
       " 'school': 1.0,\n",
       " 'household': 2.0,\n",
       " 'university': 1.0}"
      ]
     },
     "execution_count": 16,
     "metadata": {},
     "output_type": "execute_result"
    }
   ],
   "source": [
    "interaction.beta"
   ]
  },
  {
   "cell_type": "markdown",
   "metadata": {},
   "source": [
    "moreover this interaction module uses contact matrices, that are different for different groups. These contact matrices shouldnt be modified for now. However they are a combination of conversational contact matrices, and physical contact matrices (see the BBC pandemic paper, from where these matrices are extracted https://www.medrxiv.org/content/10.1101/2020.02.16.20023754v2)\n",
    "\n",
    "There is a parameter, ``alpha`` ($\\alpha$), that combines these two matrices in the following way,\n",
    "\n",
    "\n",
    "$\\beta M \\left(1 + (\\alpha -1) \\right) P$\n",
    "\n",
    "where $\\beta$ is the intensity of the interaction, and $P$ the physical contact matrix. A larger $\\alpha$ produces more physical contacts. It is an overall number, non dependent of the particular group.\n"
   ]
  },
  {
   "cell_type": "code",
   "execution_count": 17,
   "metadata": {},
   "outputs": [
    {
     "data": {
      "text/plain": [
       "2.0"
      ]
     },
     "execution_count": 17,
     "metadata": {},
     "output_type": "execute_result"
    }
   ],
   "source": [
    "interaction.alpha_physical"
   ]
  },
  {
   "cell_type": "code",
   "execution_count": 18,
   "metadata": {},
   "outputs": [],
   "source": [
    "interaction.alpha_physical /= 2"
   ]
  },
  {
   "cell_type": "code",
   "execution_count": 19,
   "metadata": {},
   "outputs": [
    {
     "data": {
      "text/plain": [
       "1.0"
      ]
     },
     "execution_count": 19,
     "metadata": {},
     "output_type": "execute_result"
    }
   ],
   "source": [
    "interaction.alpha_physical"
   ]
  },
  {
   "cell_type": "markdown",
   "metadata": {},
   "source": [
    "# Seed the disease"
   ]
  },
  {
   "cell_type": "markdown",
   "metadata": {},
   "source": [
    "There are two options implemented in the seed at the moment, either you specify the number of cases and these are then homogeneously distributed by population to the different areas, or you use UK data on cases per region. For now use the first case."
   ]
  },
  {
   "cell_type": "code",
   "execution_count": 20,
   "metadata": {},
   "outputs": [],
   "source": [
    "seed = Seed(world.super_areas, selector,)"
   ]
  },
  {
   "cell_type": "code",
   "execution_count": 21,
   "metadata": {},
   "outputs": [],
   "source": [
    "n_cases = 50\n",
    "seed.unleash_virus(n_cases) # play around with the initial number of cases"
   ]
  },
  {
   "cell_type": "markdown",
   "metadata": {},
   "source": [
    "# Set policies"
   ]
  },
  {
   "cell_type": "code",
   "execution_count": 22,
   "metadata": {},
   "outputs": [],
   "source": [
    "\n",
    "social_distance = Policy(policy=\"social_distance\",\n",
    "                         start_time=datetime(2020, 3, 25), \n",
    "                         end_time=datetime(2020, 4, 1))\n",
    "policies = Policies.from_file([social_distance])\n"
   ]
  },
  {
   "cell_type": "markdown",
   "metadata": {},
   "source": [
    "# Run the simulation"
   ]
  },
  {
   "cell_type": "markdown",
   "metadata": {},
   "source": [
    "Since the timer configuration is a bit cumbersome, it is read from the config file at ``configs/config_example.yaml``"
   ]
  },
  {
   "cell_type": "code",
   "execution_count": 23,
   "metadata": {},
   "outputs": [],
   "source": [
    "CONFIG_PATH = \"../configs/config_example.yaml\"\n",
    "\n",
    "leisure_instance = leisure.generate_leisure_for_config(\n",
    "world=world, config_filename = CONFIG_PATH\n",
    ")\n",
    "simulator = Simulator.from_file(\n",
    "     world, interaction, selector, \n",
    "    config_filename = CONFIG_PATH,\n",
    "    leisure = leisure_instance,\n",
    "    policies = policies\n",
    ")"
   ]
  },
  {
   "cell_type": "code",
   "execution_count": 24,
   "metadata": {
    "scrolled": true
   },
   "outputs": [
    {
     "name": "stdout",
     "output_type": "stream",
     "text": [
      "2020-06-23 17:17:29,936 - june.simulator - INFO - Starting group_dynamics for 70 days at day 0\n",
      "2020-06-23 17:17:29,937 - june.simulator - INFO - starting the loop ..., at 0 days, to run for 70 days\n",
      "2020-06-23 17:17:34,295 - june.simulator - INFO - Date = 2020-03-07 04:00:00, number of deaths =  0, number of infected = 50\n",
      "2020-06-23 17:17:38,788 - june.simulator - INFO - Date = 2020-03-07 08:00:00, number of deaths =  0, number of infected = 50\n",
      "2020-06-23 17:17:39,438 - june.simulator - INFO - Date = 2020-03-07 12:00:00, number of deaths =  0, number of infected = 50\n",
      "2020-06-23 17:17:43,649 - june.simulator - INFO - Date = 2020-03-08 00:00:00, number of deaths =  0, number of infected = 50\n",
      "2020-06-23 17:17:46,690 - june.simulator - INFO - Date = 2020-03-08 04:00:00, number of deaths =  0, number of infected = 50\n",
      "2020-06-23 17:17:49,553 - june.simulator - INFO - Date = 2020-03-08 08:00:00, number of deaths =  0, number of infected = 50\n",
      "2020-06-23 17:17:50,013 - june.simulator - INFO - Date = 2020-03-08 12:00:00, number of deaths =  0, number of infected = 50\n",
      "2020-06-23 17:17:50,511 - june.simulator - INFO - Date = 2020-03-09 00:00:00, number of deaths =  0, number of infected = 50\n",
      "2020-06-23 17:17:51,406 - june.simulator - INFO - Date = 2020-03-09 01:00:00, number of deaths =  0, number of infected = 50\n",
      "2020-06-23 17:17:52,182 - june.simulator - INFO - Date = 2020-03-09 05:00:00, number of deaths =  0, number of infected = 50\n",
      "2020-06-23 17:17:52,566 - june.simulator - INFO - Date = 2020-03-09 09:00:00, number of deaths =  0, number of infected = 50\n",
      "2020-06-23 17:17:55,191 - june.simulator - INFO - Date = 2020-03-09 10:00:00, number of deaths =  0, number of infected = 50\n",
      "2020-06-23 17:17:55,676 - june.simulator - INFO - Date = 2020-03-09 13:00:00, number of deaths =  0, number of infected = 50\n",
      "2020-06-23 17:17:56,255 - june.simulator - INFO - Date = 2020-03-10 00:00:00, number of deaths =  0, number of infected = 50\n",
      "2020-06-23 17:17:57,214 - june.simulator - INFO - Date = 2020-03-10 01:00:00, number of deaths =  0, number of infected = 50\n",
      "2020-06-23 17:17:57,987 - june.simulator - INFO - Date = 2020-03-10 05:00:00, number of deaths =  0, number of infected = 50\n",
      "2020-06-23 17:17:58,387 - june.simulator - INFO - Date = 2020-03-10 09:00:00, number of deaths =  0, number of infected = 50\n",
      "2020-06-23 17:18:01,661 - june.simulator - INFO - Date = 2020-03-10 10:00:00, number of deaths =  0, number of infected = 50\n",
      "2020-06-23 17:18:02,390 - june.simulator - INFO - Date = 2020-03-10 13:00:00, number of deaths =  0, number of infected = 50\n",
      "2020-06-23 17:18:03,071 - june.simulator - INFO - Date = 2020-03-11 00:00:00, number of deaths =  0, number of infected = 50\n",
      "2020-06-23 17:18:04,247 - june.simulator - INFO - Date = 2020-03-11 01:00:00, number of deaths =  0, number of infected = 56\n",
      "2020-06-23 17:18:05,237 - june.simulator - INFO - Date = 2020-03-11 05:00:00, number of deaths =  0, number of infected = 83\n",
      "2020-06-23 17:18:05,747 - june.simulator - INFO - Date = 2020-03-11 09:00:00, number of deaths =  0, number of infected = 121\n",
      "2020-06-23 17:18:08,353 - june.simulator - INFO - Date = 2020-03-11 10:00:00, number of deaths =  0, number of infected = 129\n",
      "2020-06-23 17:18:08,889 - june.simulator - INFO - Date = 2020-03-11 13:00:00, number of deaths =  0, number of infected = 149\n",
      "2020-06-23 17:18:09,477 - june.simulator - INFO - Date = 2020-03-12 00:00:00, number of deaths =  0, number of infected = 209\n",
      "2020-06-23 17:18:10,470 - june.simulator - INFO - Date = 2020-03-12 01:00:00, number of deaths =  0, number of infected = 213\n",
      "2020-06-23 17:18:11,283 - june.simulator - INFO - Date = 2020-03-12 05:00:00, number of deaths =  0, number of infected = 275\n",
      "2020-06-23 17:18:11,696 - june.simulator - INFO - Date = 2020-03-12 09:00:00, number of deaths =  0, number of infected = 326\n",
      "2020-06-23 17:18:14,788 - june.simulator - INFO - Date = 2020-03-12 10:00:00, number of deaths =  0, number of infected = 332\n",
      "2020-06-23 17:18:15,317 - june.simulator - INFO - Date = 2020-03-12 13:00:00, number of deaths =  0, number of infected = 343\n",
      "2020-06-23 17:18:16,066 - june.simulator - INFO - Date = 2020-03-13 00:00:00, number of deaths =  0, number of infected = 375\n",
      "2020-06-23 17:18:17,131 - june.simulator - INFO - Date = 2020-03-13 01:00:00, number of deaths =  0, number of infected = 381\n",
      "2020-06-23 17:18:18,067 - june.simulator - INFO - Date = 2020-03-13 05:00:00, number of deaths =  0, number of infected = 431\n",
      "2020-06-23 17:18:18,613 - june.simulator - INFO - Date = 2020-03-13 09:00:00, number of deaths =  0, number of infected = 492\n",
      "2020-06-23 17:18:21,064 - june.simulator - INFO - Date = 2020-03-13 10:00:00, number of deaths =  0, number of infected = 497\n",
      "2020-06-23 17:18:21,555 - june.simulator - INFO - Date = 2020-03-13 13:00:00, number of deaths =  0, number of infected = 522\n",
      "2020-06-23 17:18:25,043 - june.simulator - INFO - Date = 2020-03-14 00:00:00, number of deaths =  0, number of infected = 551\n",
      "2020-06-23 17:18:29,328 - june.simulator - INFO - Date = 2020-03-14 04:00:00, number of deaths =  0, number of infected = 601\n",
      "2020-06-23 17:18:34,026 - june.simulator - INFO - Date = 2020-03-14 08:00:00, number of deaths =  0, number of infected = 670\n",
      "2020-06-23 17:18:34,898 - june.simulator - INFO - Date = 2020-03-14 12:00:00, number of deaths =  0, number of infected = 766\n",
      "2020-06-23 17:18:38,639 - june.simulator - INFO - Date = 2020-03-15 00:00:00, number of deaths =  0, number of infected = 848\n",
      "2020-06-23 17:18:42,578 - june.simulator - INFO - Date = 2020-03-15 04:00:00, number of deaths =  0, number of infected = 1003\n",
      "2020-06-23 17:18:46,435 - june.simulator - INFO - Date = 2020-03-15 08:00:00, number of deaths =  0, number of infected = 1203\n",
      "2020-06-23 17:18:47,078 - june.simulator - INFO - Date = 2020-03-15 12:00:00, number of deaths =  0, number of infected = 1384\n",
      "2020-06-23 17:18:47,780 - june.simulator - INFO - Date = 2020-03-16 00:00:00, number of deaths =  0, number of infected = 1557\n",
      "2020-06-23 17:18:48,919 - june.simulator - INFO - Date = 2020-03-16 01:00:00, number of deaths =  0, number of infected = 1590\n",
      "2020-06-23 17:18:50,280 - june.simulator - INFO - Date = 2020-03-16 05:00:00, number of deaths =  0, number of infected = 2335\n",
      "2020-06-23 17:18:51,237 - june.simulator - INFO - Date = 2020-03-16 09:00:00, number of deaths =  0, number of infected = 2879\n",
      "2020-06-23 17:18:54,688 - june.simulator - INFO - Date = 2020-03-16 10:00:00, number of deaths =  0, number of infected = 2918\n",
      "2020-06-23 17:18:55,310 - june.simulator - INFO - Date = 2020-03-16 13:00:00, number of deaths =  0, number of infected = 3146\n",
      "2020-06-23 17:18:55,973 - june.simulator - INFO - Date = 2020-03-17 00:00:00, number of deaths =  0, number of infected = 3410\n",
      "2020-06-23 17:18:56,934 - june.simulator - INFO - Date = 2020-03-17 01:00:00, number of deaths =  0, number of infected = 3463\n",
      "2020-06-23 17:18:58,380 - june.simulator - INFO - Date = 2020-03-17 05:00:00, number of deaths =  0, number of infected = 4077\n",
      "2020-06-23 17:18:59,901 - june.simulator - INFO - Date = 2020-03-17 09:00:00, number of deaths =  0, number of infected = 4770\n",
      "2020-06-23 17:19:03,093 - june.simulator - INFO - Date = 2020-03-17 10:00:00, number of deaths =  0, number of infected = 4829\n",
      "2020-06-23 17:19:03,951 - june.simulator - INFO - Date = 2020-03-17 13:00:00, number of deaths =  0, number of infected = 5101\n",
      "2020-06-23 17:19:04,823 - june.simulator - INFO - Date = 2020-03-18 00:00:00, number of deaths =  0, number of infected = 5431\n",
      "2020-06-23 17:19:05,912 - june.simulator - INFO - Date = 2020-03-18 01:00:00, number of deaths =  0, number of infected = 5512\n",
      "2020-06-23 17:19:09,054 - june.simulator - INFO - Date = 2020-03-18 05:00:00, number of deaths =  0, number of infected = 6531\n",
      "2020-06-23 17:19:12,380 - june.simulator - INFO - Date = 2020-03-18 09:00:00, number of deaths =  0, number of infected = 7669\n",
      "2020-06-23 17:19:15,705 - june.simulator - INFO - Date = 2020-03-18 10:00:00, number of deaths =  0, number of infected = 7772\n",
      "2020-06-23 17:19:16,560 - june.simulator - INFO - Date = 2020-03-18 13:00:00, number of deaths =  0, number of infected = 8280\n",
      "2020-06-23 17:19:17,400 - june.simulator - INFO - Date = 2020-03-19 00:00:00, number of deaths =  0, number of infected = 8868\n"
     ]
    },
    {
     "name": "stdout",
     "output_type": "stream",
     "text": [
      "2020-06-23 17:19:18,505 - june.simulator - INFO - Date = 2020-03-19 01:00:00, number of deaths =  0, number of infected = 9025\n",
      "2020-06-23 17:19:25,261 - june.simulator - INFO - Date = 2020-03-19 05:00:00, number of deaths =  0, number of infected = 10702\n",
      "2020-06-23 17:19:33,052 - june.simulator - INFO - Date = 2020-03-19 09:00:00, number of deaths =  0, number of infected = 12454\n",
      "2020-06-23 17:19:35,872 - june.simulator - INFO - Date = 2020-03-19 10:00:00, number of deaths =  0, number of infected = 12647\n",
      "2020-06-23 17:19:36,752 - june.simulator - INFO - Date = 2020-03-19 13:00:00, number of deaths =  0, number of infected = 13591\n",
      "2020-06-23 17:19:37,876 - june.simulator - INFO - Date = 2020-03-20 00:00:00, number of deaths =  0, number of infected = 14756\n",
      "2020-06-23 17:19:39,063 - june.simulator - INFO - Date = 2020-03-20 01:00:00, number of deaths =  0, number of infected = 14927\n",
      "2020-06-23 17:19:49,891 - june.simulator - INFO - Date = 2020-03-20 05:00:00, number of deaths =  0, number of infected = 17130\n",
      "2020-06-23 17:19:59,645 - june.simulator - INFO - Date = 2020-03-20 09:00:00, number of deaths =  0, number of infected = 19077\n",
      "2020-06-23 17:20:02,849 - june.simulator - INFO - Date = 2020-03-20 10:00:00, number of deaths =  0, number of infected = 19261\n",
      "2020-06-23 17:20:03,997 - june.simulator - INFO - Date = 2020-03-20 13:00:00, number of deaths =  0, number of infected = 20239\n",
      "2020-06-23 17:20:07,369 - june.simulator - INFO - Date = 2020-03-21 00:00:00, number of deaths =  0, number of infected = 21327\n",
      "2020-06-23 17:20:10,843 - june.simulator - INFO - Date = 2020-03-21 04:00:00, number of deaths =  0, number of infected = 23003\n",
      "2020-06-23 17:20:15,419 - june.simulator - INFO - Date = 2020-03-21 08:00:00, number of deaths =  0, number of infected = 24621\n",
      "2020-06-23 17:20:17,075 - june.simulator - INFO - Date = 2020-03-21 12:00:00, number of deaths =  0, number of infected = 26171\n",
      "2020-06-23 17:20:21,031 - june.simulator - INFO - Date = 2020-03-22 00:00:00, number of deaths =  0, number of infected = 27107\n",
      "2020-06-23 17:20:24,438 - june.simulator - INFO - Date = 2020-03-22 04:00:00, number of deaths =  0, number of infected = 28686\n",
      "2020-06-23 17:20:29,114 - june.simulator - INFO - Date = 2020-03-22 08:00:00, number of deaths =  0, number of infected = 30333\n",
      "2020-06-23 17:20:30,606 - june.simulator - INFO - Date = 2020-03-22 12:00:00, number of deaths =  0, number of infected = 31816\n",
      "2020-06-23 17:20:31,744 - june.simulator - INFO - Date = 2020-03-23 00:00:00, number of deaths =  1, number of infected = 32621\n",
      "2020-06-23 17:20:33,360 - june.simulator - INFO - Date = 2020-03-23 01:00:00, number of deaths =  1, number of infected = 32755\n",
      "2020-06-23 17:20:39,057 - june.simulator - INFO - Date = 2020-03-23 05:00:00, number of deaths =  1, number of infected = 34988\n",
      "2020-06-23 17:20:40,894 - june.simulator - INFO - Date = 2020-03-23 09:00:00, number of deaths =  1, number of infected = 36513\n",
      "2020-06-23 17:20:43,829 - june.simulator - INFO - Date = 2020-03-23 10:00:00, number of deaths =  1, number of infected = 36654\n",
      "2020-06-23 17:20:44,888 - june.simulator - INFO - Date = 2020-03-23 13:00:00, number of deaths =  1, number of infected = 37513\n",
      "2020-06-23 17:20:45,973 - june.simulator - INFO - Date = 2020-03-24 00:00:00, number of deaths =  1, number of infected = 38107\n",
      "2020-06-23 17:20:47,258 - june.simulator - INFO - Date = 2020-03-24 01:00:00, number of deaths =  1, number of infected = 38191\n",
      "2020-06-23 17:20:48,914 - june.simulator - INFO - Date = 2020-03-24 05:00:00, number of deaths =  1, number of infected = 39538\n",
      "2020-06-23 17:20:49,851 - june.simulator - INFO - Date = 2020-03-24 09:00:00, number of deaths =  1, number of infected = 40582\n",
      "2020-06-23 17:20:51,984 - june.simulator - INFO - Date = 2020-03-24 10:00:00, number of deaths =  1, number of infected = 40659\n",
      "2020-06-23 17:20:52,840 - june.simulator - INFO - Date = 2020-03-24 13:00:00, number of deaths =  1, number of infected = 41272\n",
      "2020-06-23 17:20:53,655 - june.simulator - INFO - Date = 2020-03-25 00:00:00, number of deaths =  2, number of infected = 41651\n",
      "2020-06-23 17:20:54,868 - june.simulator - INFO - Date = 2020-03-25 01:00:00, number of deaths =  2, number of infected = 41696\n",
      "2020-06-23 17:20:56,171 - june.simulator - INFO - Date = 2020-03-25 05:00:00, number of deaths =  2, number of infected = 42207\n",
      "2020-06-23 17:20:57,170 - june.simulator - INFO - Date = 2020-03-25 09:00:00, number of deaths =  2, number of infected = 42641\n",
      "2020-06-23 17:20:59,435 - june.simulator - INFO - Date = 2020-03-25 10:00:00, number of deaths =  2, number of infected = 42707\n",
      "2020-06-23 17:21:00,330 - june.simulator - INFO - Date = 2020-03-25 13:00:00, number of deaths =  2, number of infected = 43064\n",
      "2020-06-23 17:21:01,169 - june.simulator - INFO - Date = 2020-03-26 00:00:00, number of deaths =  2, number of infected = 43335\n",
      "2020-06-23 17:21:02,256 - june.simulator - INFO - Date = 2020-03-26 01:00:00, number of deaths =  2, number of infected = 43384\n",
      "2020-06-23 17:21:03,425 - june.simulator - INFO - Date = 2020-03-26 05:00:00, number of deaths =  2, number of infected = 43765\n",
      "2020-06-23 17:21:04,298 - june.simulator - INFO - Date = 2020-03-26 09:00:00, number of deaths =  3, number of infected = 44069\n",
      "2020-06-23 17:21:06,575 - june.simulator - INFO - Date = 2020-03-26 10:00:00, number of deaths =  3, number of infected = 44125\n",
      "2020-06-23 17:21:07,531 - june.simulator - INFO - Date = 2020-03-26 13:00:00, number of deaths =  3, number of infected = 44448\n",
      "2020-06-23 17:21:08,597 - june.simulator - INFO - Date = 2020-03-27 00:00:00, number of deaths =  4, number of infected = 44685\n",
      "2020-06-23 17:21:09,951 - june.simulator - INFO - Date = 2020-03-27 01:00:00, number of deaths =  5, number of infected = 44711\n",
      "2020-06-23 17:21:11,048 - june.simulator - INFO - Date = 2020-03-27 05:00:00, number of deaths =  5, number of infected = 44953\n",
      "2020-06-23 17:21:11,806 - june.simulator - INFO - Date = 2020-03-27 09:00:00, number of deaths =  5, number of infected = 45128\n",
      "2020-06-23 17:21:13,890 - june.simulator - INFO - Date = 2020-03-27 10:00:00, number of deaths =  5, number of infected = 45151\n",
      "2020-06-23 17:21:14,823 - june.simulator - INFO - Date = 2020-03-27 13:00:00, number of deaths =  5, number of infected = 45335\n",
      "2020-06-23 17:21:17,478 - june.simulator - INFO - Date = 2020-03-28 00:00:00, number of deaths =  5, number of infected = 45433\n",
      "2020-06-23 17:21:20,016 - june.simulator - INFO - Date = 2020-03-28 04:00:00, number of deaths =  5, number of infected = 45660\n",
      "2020-06-23 17:21:22,142 - june.simulator - INFO - Date = 2020-03-28 08:00:00, number of deaths =  5, number of infected = 45809\n",
      "2020-06-23 17:21:22,898 - june.simulator - INFO - Date = 2020-03-28 12:00:00, number of deaths =  5, number of infected = 45941\n",
      "2020-06-23 17:21:24,926 - june.simulator - INFO - Date = 2020-03-29 00:00:00, number of deaths =  8, number of infected = 45947\n",
      "2020-06-23 17:21:26,943 - june.simulator - INFO - Date = 2020-03-29 04:00:00, number of deaths =  8, number of infected = 46063\n",
      "2020-06-23 17:21:29,157 - june.simulator - INFO - Date = 2020-03-29 08:00:00, number of deaths =  8, number of infected = 46160\n",
      "2020-06-23 17:21:29,885 - june.simulator - INFO - Date = 2020-03-29 12:00:00, number of deaths =  8, number of infected = 46239\n",
      "2020-06-23 17:21:30,603 - june.simulator - INFO - Date = 2020-03-30 00:00:00, number of deaths =  10, number of infected = 46217\n",
      "2020-06-23 17:21:31,527 - june.simulator - INFO - Date = 2020-03-30 01:00:00, number of deaths =  10, number of infected = 46219\n",
      "2020-06-23 17:21:32,495 - june.simulator - INFO - Date = 2020-03-30 05:00:00, number of deaths =  11, number of infected = 46259\n",
      "2020-06-23 17:21:33,198 - june.simulator - INFO - Date = 2020-03-30 09:00:00, number of deaths =  12, number of infected = 46278\n",
      "2020-06-23 17:21:35,186 - june.simulator - INFO - Date = 2020-03-30 10:00:00, number of deaths =  12, number of infected = 46272\n",
      "2020-06-23 17:21:35,911 - june.simulator - INFO - Date = 2020-03-30 13:00:00, number of deaths =  12, number of infected = 46307\n",
      "2020-06-23 17:21:36,660 - june.simulator - INFO - Date = 2020-03-31 00:00:00, number of deaths =  16, number of infected = 46255\n"
     ]
    },
    {
     "name": "stdout",
     "output_type": "stream",
     "text": [
      "2020-06-23 17:21:37,753 - june.simulator - INFO - Date = 2020-03-31 01:00:00, number of deaths =  16, number of infected = 46252\n",
      "2020-06-23 17:21:38,870 - june.simulator - INFO - Date = 2020-03-31 05:00:00, number of deaths =  20, number of infected = 46250\n",
      "2020-06-23 17:21:39,601 - june.simulator - INFO - Date = 2020-03-31 09:00:00, number of deaths =  22, number of infected = 46252\n",
      "2020-06-23 17:21:41,233 - june.simulator - INFO - Date = 2020-03-31 10:00:00, number of deaths =  22, number of infected = 46245\n",
      "2020-06-23 17:21:41,923 - june.simulator - INFO - Date = 2020-03-31 13:00:00, number of deaths =  22, number of infected = 46227\n",
      "2020-06-23 17:21:42,608 - june.simulator - INFO - Date = 2020-04-01 00:00:00, number of deaths =  23, number of infected = 46118\n",
      "2020-06-23 17:21:43,553 - june.simulator - INFO - Date = 2020-04-01 01:00:00, number of deaths =  23, number of infected = 46105\n",
      "2020-06-23 17:21:44,469 - june.simulator - INFO - Date = 2020-04-01 05:00:00, number of deaths =  25, number of infected = 46081\n",
      "2020-06-23 17:21:45,212 - june.simulator - INFO - Date = 2020-04-01 09:00:00, number of deaths =  25, number of infected = 46054\n",
      "2020-06-23 17:21:46,853 - june.simulator - INFO - Date = 2020-04-01 10:00:00, number of deaths =  25, number of infected = 46049\n",
      "2020-06-23 17:21:47,576 - june.simulator - INFO - Date = 2020-04-01 13:00:00, number of deaths =  26, number of infected = 46016\n",
      "2020-06-23 17:21:48,262 - june.simulator - INFO - Date = 2020-04-02 00:00:00, number of deaths =  31, number of infected = 45825\n",
      "2020-06-23 17:21:49,323 - june.simulator - INFO - Date = 2020-04-02 01:00:00, number of deaths =  31, number of infected = 45806\n",
      "2020-06-23 17:21:50,444 - june.simulator - INFO - Date = 2020-04-02 05:00:00, number of deaths =  31, number of infected = 45751\n",
      "2020-06-23 17:21:51,264 - june.simulator - INFO - Date = 2020-04-02 09:00:00, number of deaths =  33, number of infected = 45671\n",
      "2020-06-23 17:21:53,301 - june.simulator - INFO - Date = 2020-04-02 10:00:00, number of deaths =  34, number of infected = 45645\n",
      "2020-06-23 17:21:54,022 - june.simulator - INFO - Date = 2020-04-02 13:00:00, number of deaths =  35, number of infected = 45588\n",
      "2020-06-23 17:21:54,739 - june.simulator - INFO - Date = 2020-04-03 00:00:00, number of deaths =  38, number of infected = 45295\n",
      "2020-06-23 17:21:55,640 - june.simulator - INFO - Date = 2020-04-03 01:00:00, number of deaths =  38, number of infected = 45268\n",
      "2020-06-23 17:21:56,704 - june.simulator - INFO - Date = 2020-04-03 05:00:00, number of deaths =  38, number of infected = 45168\n",
      "2020-06-23 17:21:57,574 - june.simulator - INFO - Date = 2020-04-03 09:00:00, number of deaths =  38, number of infected = 45046\n",
      "2020-06-23 17:21:59,513 - june.simulator - INFO - Date = 2020-04-03 10:00:00, number of deaths =  38, number of infected = 45018\n",
      "2020-06-23 17:22:00,349 - june.simulator - INFO - Date = 2020-04-03 13:00:00, number of deaths =  39, number of infected = 44918\n",
      "2020-06-23 17:22:02,545 - june.simulator - INFO - Date = 2020-04-04 00:00:00, number of deaths =  43, number of infected = 44526\n",
      "2020-06-23 17:22:04,744 - june.simulator - INFO - Date = 2020-04-04 04:00:00, number of deaths =  44, number of infected = 44339\n",
      "2020-06-23 17:22:06,560 - june.simulator - INFO - Date = 2020-04-04 08:00:00, number of deaths =  45, number of infected = 44143\n",
      "2020-06-23 17:22:07,255 - june.simulator - INFO - Date = 2020-04-04 12:00:00, number of deaths =  46, number of infected = 43939\n",
      "2020-06-23 17:22:09,531 - june.simulator - INFO - Date = 2020-04-05 00:00:00, number of deaths =  56, number of infected = 43229\n",
      "2020-06-23 17:22:11,406 - june.simulator - INFO - Date = 2020-04-05 04:00:00, number of deaths =  56, number of infected = 42972\n",
      "2020-06-23 17:22:13,162 - june.simulator - INFO - Date = 2020-04-05 08:00:00, number of deaths =  59, number of infected = 42720\n",
      "2020-06-23 17:22:13,869 - june.simulator - INFO - Date = 2020-04-05 12:00:00, number of deaths =  62, number of infected = 42461\n",
      "2020-06-23 17:22:14,623 - june.simulator - INFO - Date = 2020-04-06 00:00:00, number of deaths =  67, number of infected = 41592\n",
      "2020-06-23 17:22:15,632 - june.simulator - INFO - Date = 2020-04-06 01:00:00, number of deaths =  69, number of infected = 41508\n",
      "2020-06-23 17:22:16,493 - june.simulator - INFO - Date = 2020-04-06 05:00:00, number of deaths =  70, number of infected = 41188\n",
      "2020-06-23 17:22:17,295 - june.simulator - INFO - Date = 2020-04-06 09:00:00, number of deaths =  71, number of infected = 40873\n",
      "2020-06-23 17:22:19,143 - june.simulator - INFO - Date = 2020-04-06 10:00:00, number of deaths =  73, number of infected = 40786\n",
      "2020-06-23 17:22:19,914 - june.simulator - INFO - Date = 2020-04-06 13:00:00, number of deaths =  74, number of infected = 40546\n",
      "2020-06-23 17:22:20,710 - june.simulator - INFO - Date = 2020-04-07 00:00:00, number of deaths =  76, number of infected = 39594\n",
      "2020-06-23 17:22:21,711 - june.simulator - INFO - Date = 2020-04-07 01:00:00, number of deaths =  76, number of infected = 39517\n",
      "2020-06-23 17:22:22,699 - june.simulator - INFO - Date = 2020-04-07 05:00:00, number of deaths =  77, number of infected = 39138\n",
      "2020-06-23 17:22:23,501 - june.simulator - INFO - Date = 2020-04-07 09:00:00, number of deaths =  80, number of infected = 38760\n",
      "2020-06-23 17:22:25,400 - june.simulator - INFO - Date = 2020-04-07 10:00:00, number of deaths =  80, number of infected = 38668\n",
      "2020-06-23 17:22:26,183 - june.simulator - INFO - Date = 2020-04-07 13:00:00, number of deaths =  81, number of infected = 38384\n",
      "2020-06-23 17:22:26,965 - june.simulator - INFO - Date = 2020-04-08 00:00:00, number of deaths =  87, number of infected = 37326\n",
      "2020-06-23 17:22:27,932 - june.simulator - INFO - Date = 2020-04-08 01:00:00, number of deaths =  89, number of infected = 37241\n",
      "2020-06-23 17:22:29,024 - june.simulator - INFO - Date = 2020-04-08 05:00:00, number of deaths =  91, number of infected = 36815\n",
      "2020-06-23 17:22:29,672 - june.simulator - INFO - Date = 2020-04-08 09:00:00, number of deaths =  92, number of infected = 36374\n",
      "2020-06-23 17:22:31,230 - june.simulator - INFO - Date = 2020-04-08 10:00:00, number of deaths =  94, number of infected = 36272\n",
      "2020-06-23 17:22:31,897 - june.simulator - INFO - Date = 2020-04-08 13:00:00, number of deaths =  96, number of infected = 35955\n",
      "2020-06-23 17:22:32,517 - june.simulator - INFO - Date = 2020-04-09 00:00:00, number of deaths =  100, number of infected = 34763\n",
      "2020-06-23 17:22:33,326 - june.simulator - INFO - Date = 2020-04-09 01:00:00, number of deaths =  100, number of infected = 34653\n",
      "2020-06-23 17:22:34,216 - june.simulator - INFO - Date = 2020-04-09 05:00:00, number of deaths =  101, number of infected = 34234\n",
      "2020-06-23 17:22:34,833 - june.simulator - INFO - Date = 2020-04-09 09:00:00, number of deaths =  105, number of infected = 33825\n",
      "2020-06-23 17:22:36,342 - june.simulator - INFO - Date = 2020-04-09 10:00:00, number of deaths =  105, number of infected = 33714\n",
      "2020-06-23 17:22:36,987 - june.simulator - INFO - Date = 2020-04-09 13:00:00, number of deaths =  105, number of infected = 33406\n",
      "2020-06-23 17:22:37,677 - june.simulator - INFO - Date = 2020-04-10 00:00:00, number of deaths =  108, number of infected = 32214\n",
      "2020-06-23 17:22:38,682 - june.simulator - INFO - Date = 2020-04-10 01:00:00, number of deaths =  108, number of infected = 32091\n",
      "2020-06-23 17:22:40,189 - june.simulator - INFO - Date = 2020-04-10 05:00:00, number of deaths =  108, number of infected = 31614\n",
      "2020-06-23 17:22:40,901 - june.simulator - INFO - Date = 2020-04-10 09:00:00, number of deaths =  110, number of infected = 31168\n",
      "2020-06-23 17:22:42,899 - june.simulator - INFO - Date = 2020-04-10 10:00:00, number of deaths =  110, number of infected = 31052\n",
      "2020-06-23 17:22:43,684 - june.simulator - INFO - Date = 2020-04-10 13:00:00, number of deaths =  113, number of infected = 30730\n",
      "2020-06-23 17:22:45,828 - june.simulator - INFO - Date = 2020-04-11 00:00:00, number of deaths =  120, number of infected = 29500\n",
      "2020-06-23 17:22:48,005 - june.simulator - INFO - Date = 2020-04-11 04:00:00, number of deaths =  123, number of infected = 29058\n",
      "2020-06-23 17:22:50,184 - june.simulator - INFO - Date = 2020-04-11 08:00:00, number of deaths =  123, number of infected = 28609\n"
     ]
    },
    {
     "name": "stdout",
     "output_type": "stream",
     "text": [
      "2020-06-23 17:22:50,828 - june.simulator - INFO - Date = 2020-04-11 12:00:00, number of deaths =  124, number of infected = 28153\n",
      "2020-06-23 17:22:52,718 - june.simulator - INFO - Date = 2020-04-12 00:00:00, number of deaths =  130, number of infected = 26782\n",
      "2020-06-23 17:22:54,622 - june.simulator - INFO - Date = 2020-04-12 04:00:00, number of deaths =  133, number of infected = 26307\n",
      "2020-06-23 17:22:56,868 - june.simulator - INFO - Date = 2020-04-12 08:00:00, number of deaths =  136, number of infected = 25852\n",
      "2020-06-23 17:22:57,485 - june.simulator - INFO - Date = 2020-04-12 12:00:00, number of deaths =  137, number of infected = 25363\n",
      "2020-06-23 17:22:58,016 - june.simulator - INFO - Date = 2020-04-13 00:00:00, number of deaths =  144, number of infected = 23937\n",
      "2020-06-23 17:22:58,720 - june.simulator - INFO - Date = 2020-04-13 01:00:00, number of deaths =  144, number of infected = 23818\n",
      "2020-06-23 17:22:59,449 - june.simulator - INFO - Date = 2020-04-13 05:00:00, number of deaths =  145, number of infected = 23360\n",
      "2020-06-23 17:22:59,957 - june.simulator - INFO - Date = 2020-04-13 09:00:00, number of deaths =  146, number of infected = 22914\n",
      "2020-06-23 17:23:01,586 - june.simulator - INFO - Date = 2020-04-13 10:00:00, number of deaths =  146, number of infected = 22801\n",
      "2020-06-23 17:23:02,087 - june.simulator - INFO - Date = 2020-04-13 13:00:00, number of deaths =  148, number of infected = 22454\n",
      "2020-06-23 17:23:02,611 - june.simulator - INFO - Date = 2020-04-14 00:00:00, number of deaths =  152, number of infected = 21138\n",
      "2020-06-23 17:23:03,515 - june.simulator - INFO - Date = 2020-04-14 01:00:00, number of deaths =  152, number of infected = 21018\n",
      "2020-06-23 17:23:04,390 - june.simulator - INFO - Date = 2020-04-14 05:00:00, number of deaths =  154, number of infected = 20525\n",
      "2020-06-23 17:23:04,973 - june.simulator - INFO - Date = 2020-04-14 09:00:00, number of deaths =  156, number of infected = 20085\n",
      "2020-06-23 17:23:06,909 - june.simulator - INFO - Date = 2020-04-14 10:00:00, number of deaths =  157, number of infected = 19971\n",
      "2020-06-23 17:23:07,551 - june.simulator - INFO - Date = 2020-04-14 13:00:00, number of deaths =  159, number of infected = 19638\n",
      "2020-06-23 17:23:08,299 - june.simulator - INFO - Date = 2020-04-15 00:00:00, number of deaths =  161, number of infected = 18422\n",
      "2020-06-23 17:23:09,124 - june.simulator - INFO - Date = 2020-04-15 01:00:00, number of deaths =  161, number of infected = 18305\n",
      "2020-06-23 17:23:10,196 - june.simulator - INFO - Date = 2020-04-15 05:00:00, number of deaths =  162, number of infected = 17861\n",
      "2020-06-23 17:23:10,898 - june.simulator - INFO - Date = 2020-04-15 09:00:00, number of deaths =  162, number of infected = 17444\n",
      "2020-06-23 17:23:13,212 - june.simulator - INFO - Date = 2020-04-15 10:00:00, number of deaths =  162, number of infected = 17354\n",
      "2020-06-23 17:23:14,064 - june.simulator - INFO - Date = 2020-04-15 13:00:00, number of deaths =  162, number of infected = 16998\n",
      "2020-06-23 17:23:14,889 - june.simulator - INFO - Date = 2020-04-16 00:00:00, number of deaths =  170, number of infected = 15838\n",
      "2020-06-23 17:23:16,428 - june.simulator - INFO - Date = 2020-04-16 01:00:00, number of deaths =  170, number of infected = 15728\n",
      "2020-06-23 17:23:17,316 - june.simulator - INFO - Date = 2020-04-16 05:00:00, number of deaths =  171, number of infected = 15307\n",
      "2020-06-23 17:23:17,797 - june.simulator - INFO - Date = 2020-04-16 09:00:00, number of deaths =  171, number of infected = 14882\n",
      "2020-06-23 17:23:20,294 - june.simulator - INFO - Date = 2020-04-16 10:00:00, number of deaths =  171, number of infected = 14778\n",
      "2020-06-23 17:23:20,929 - june.simulator - INFO - Date = 2020-04-16 13:00:00, number of deaths =  173, number of infected = 14457\n",
      "2020-06-23 17:23:21,412 - june.simulator - INFO - Date = 2020-04-17 00:00:00, number of deaths =  175, number of infected = 13282\n",
      "2020-06-23 17:23:22,364 - june.simulator - INFO - Date = 2020-04-17 01:00:00, number of deaths =  175, number of infected = 13165\n",
      "2020-06-23 17:23:23,122 - june.simulator - INFO - Date = 2020-04-17 05:00:00, number of deaths =  176, number of infected = 12736\n",
      "2020-06-23 17:23:23,597 - june.simulator - INFO - Date = 2020-04-17 09:00:00, number of deaths =  179, number of infected = 12321\n",
      "2020-06-23 17:23:26,083 - june.simulator - INFO - Date = 2020-04-17 10:00:00, number of deaths =  179, number of infected = 12233\n",
      "2020-06-23 17:23:26,654 - june.simulator - INFO - Date = 2020-04-17 13:00:00, number of deaths =  180, number of infected = 11911\n",
      "2020-06-23 17:23:29,011 - june.simulator - INFO - Date = 2020-04-18 00:00:00, number of deaths =  182, number of infected = 10831\n",
      "2020-06-23 17:23:31,610 - june.simulator - INFO - Date = 2020-04-18 04:00:00, number of deaths =  183, number of infected = 10429\n",
      "2020-06-23 17:23:34,664 - june.simulator - INFO - Date = 2020-04-18 08:00:00, number of deaths =  183, number of infected = 10062\n",
      "2020-06-23 17:23:35,179 - june.simulator - INFO - Date = 2020-04-18 12:00:00, number of deaths =  183, number of infected = 9705\n",
      "2020-06-23 17:23:38,229 - june.simulator - INFO - Date = 2020-04-19 00:00:00, number of deaths =  186, number of infected = 8646\n",
      "2020-06-23 17:23:40,802 - june.simulator - INFO - Date = 2020-04-19 04:00:00, number of deaths =  187, number of infected = 8287\n",
      "2020-06-23 17:23:43,760 - june.simulator - INFO - Date = 2020-04-19 08:00:00, number of deaths =  187, number of infected = 7960\n",
      "2020-06-23 17:23:44,180 - june.simulator - INFO - Date = 2020-04-19 12:00:00, number of deaths =  187, number of infected = 7605\n",
      "2020-06-23 17:23:44,663 - june.simulator - INFO - Date = 2020-04-20 00:00:00, number of deaths =  191, number of infected = 6626\n",
      "2020-06-23 17:23:45,526 - june.simulator - INFO - Date = 2020-04-20 01:00:00, number of deaths =  191, number of infected = 6555\n",
      "2020-06-23 17:23:46,545 - june.simulator - INFO - Date = 2020-04-20 05:00:00, number of deaths =  193, number of infected = 6265\n",
      "2020-06-23 17:23:47,092 - june.simulator - INFO - Date = 2020-04-20 09:00:00, number of deaths =  195, number of infected = 5970\n",
      "2020-06-23 17:23:50,824 - june.simulator - INFO - Date = 2020-04-20 10:00:00, number of deaths =  196, number of infected = 5910\n",
      "2020-06-23 17:23:51,335 - june.simulator - INFO - Date = 2020-04-20 13:00:00, number of deaths =  197, number of infected = 5725\n",
      "2020-06-23 17:23:52,166 - june.simulator - INFO - Date = 2020-04-21 00:00:00, number of deaths =  202, number of infected = 4990\n",
      "2020-06-23 17:23:52,888 - june.simulator - INFO - Date = 2020-04-21 01:00:00, number of deaths =  202, number of infected = 4927\n",
      "2020-06-23 17:23:53,681 - june.simulator - INFO - Date = 2020-04-21 05:00:00, number of deaths =  202, number of infected = 4684\n",
      "2020-06-23 17:23:54,036 - june.simulator - INFO - Date = 2020-04-21 09:00:00, number of deaths =  203, number of infected = 4424\n",
      "2020-06-23 17:23:56,705 - june.simulator - INFO - Date = 2020-04-21 10:00:00, number of deaths =  203, number of infected = 4354\n",
      "2020-06-23 17:23:57,054 - june.simulator - INFO - Date = 2020-04-21 13:00:00, number of deaths =  204, number of infected = 4183\n",
      "2020-06-23 17:23:57,428 - june.simulator - INFO - Date = 2020-04-22 00:00:00, number of deaths =  210, number of infected = 3639\n",
      "2020-06-23 17:23:58,113 - june.simulator - INFO - Date = 2020-04-22 01:00:00, number of deaths =  210, number of infected = 3595\n",
      "2020-06-23 17:23:58,838 - june.simulator - INFO - Date = 2020-04-22 05:00:00, number of deaths =  211, number of infected = 3388\n",
      "2020-06-23 17:23:59,239 - june.simulator - INFO - Date = 2020-04-22 09:00:00, number of deaths =  212, number of infected = 3225\n",
      "2020-06-23 17:24:02,050 - june.simulator - INFO - Date = 2020-04-22 10:00:00, number of deaths =  213, number of infected = 3172\n",
      "2020-06-23 17:24:02,405 - june.simulator - INFO - Date = 2020-04-22 13:00:00, number of deaths =  213, number of infected = 3038\n",
      "2020-06-23 17:24:02,779 - june.simulator - INFO - Date = 2020-04-23 00:00:00, number of deaths =  215, number of infected = 2577\n",
      "2020-06-23 17:24:03,626 - june.simulator - INFO - Date = 2020-04-23 01:00:00, number of deaths =  215, number of infected = 2540\n",
      "2020-06-23 17:24:04,691 - june.simulator - INFO - Date = 2020-04-23 05:00:00, number of deaths =  215, number of infected = 2395\n"
     ]
    },
    {
     "name": "stdout",
     "output_type": "stream",
     "text": [
      "2020-06-23 17:24:05,159 - june.simulator - INFO - Date = 2020-04-23 09:00:00, number of deaths =  215, number of infected = 2258\n",
      "2020-06-23 17:24:08,679 - june.simulator - INFO - Date = 2020-04-23 10:00:00, number of deaths =  215, number of infected = 2228\n",
      "2020-06-23 17:24:09,092 - june.simulator - INFO - Date = 2020-04-23 13:00:00, number of deaths =  216, number of infected = 2136\n",
      "2020-06-23 17:24:09,501 - june.simulator - INFO - Date = 2020-04-24 00:00:00, number of deaths =  218, number of infected = 1797\n",
      "2020-06-23 17:24:10,262 - june.simulator - INFO - Date = 2020-04-24 01:00:00, number of deaths =  218, number of infected = 1761\n",
      "2020-06-23 17:24:11,076 - june.simulator - INFO - Date = 2020-04-24 05:00:00, number of deaths =  218, number of infected = 1653\n",
      "2020-06-23 17:24:11,398 - june.simulator - INFO - Date = 2020-04-24 09:00:00, number of deaths =  219, number of infected = 1535\n",
      "2020-06-23 17:24:13,714 - june.simulator - INFO - Date = 2020-04-24 10:00:00, number of deaths =  219, number of infected = 1514\n",
      "2020-06-23 17:24:13,993 - june.simulator - INFO - Date = 2020-04-24 13:00:00, number of deaths =  219, number of infected = 1448\n",
      "2020-06-23 17:24:16,822 - june.simulator - INFO - Date = 2020-04-25 00:00:00, number of deaths =  221, number of infected = 1208\n",
      "2020-06-23 17:24:19,448 - june.simulator - INFO - Date = 2020-04-25 04:00:00, number of deaths =  221, number of infected = 1133\n",
      "2020-06-23 17:24:22,111 - june.simulator - INFO - Date = 2020-04-25 08:00:00, number of deaths =  221, number of infected = 1049\n",
      "2020-06-23 17:24:22,443 - june.simulator - INFO - Date = 2020-04-25 12:00:00, number of deaths =  221, number of infected = 965\n",
      "2020-06-23 17:24:25,647 - june.simulator - INFO - Date = 2020-04-26 00:00:00, number of deaths =  221, number of infected = 772\n",
      "2020-06-23 17:24:28,915 - june.simulator - INFO - Date = 2020-04-26 04:00:00, number of deaths =  221, number of infected = 713\n",
      "2020-06-23 17:24:31,730 - june.simulator - INFO - Date = 2020-04-26 08:00:00, number of deaths =  221, number of infected = 668\n",
      "2020-06-23 17:24:32,043 - june.simulator - INFO - Date = 2020-04-26 12:00:00, number of deaths =  221, number of infected = 614\n",
      "2020-06-23 17:24:32,392 - june.simulator - INFO - Date = 2020-04-27 00:00:00, number of deaths =  221, number of infected = 501\n",
      "2020-06-23 17:24:33,105 - june.simulator - INFO - Date = 2020-04-27 01:00:00, number of deaths =  221, number of infected = 493\n",
      "2020-06-23 17:24:33,744 - june.simulator - INFO - Date = 2020-04-27 05:00:00, number of deaths =  221, number of infected = 453\n",
      "2020-06-23 17:24:34,071 - june.simulator - INFO - Date = 2020-04-27 09:00:00, number of deaths =  221, number of infected = 421\n",
      "2020-06-23 17:24:36,646 - june.simulator - INFO - Date = 2020-04-27 10:00:00, number of deaths =  221, number of infected = 410\n",
      "2020-06-23 17:24:36,926 - june.simulator - INFO - Date = 2020-04-27 13:00:00, number of deaths =  221, number of infected = 385\n",
      "2020-06-23 17:24:37,268 - june.simulator - INFO - Date = 2020-04-28 00:00:00, number of deaths =  221, number of infected = 316\n",
      "2020-06-23 17:24:37,875 - june.simulator - INFO - Date = 2020-04-28 01:00:00, number of deaths =  221, number of infected = 311\n",
      "2020-06-23 17:24:38,578 - june.simulator - INFO - Date = 2020-04-28 05:00:00, number of deaths =  221, number of infected = 283\n",
      "2020-06-23 17:24:38,882 - june.simulator - INFO - Date = 2020-04-28 09:00:00, number of deaths =  221, number of infected = 268\n",
      "2020-06-23 17:24:41,622 - june.simulator - INFO - Date = 2020-04-28 10:00:00, number of deaths =  221, number of infected = 265\n",
      "2020-06-23 17:24:41,965 - june.simulator - INFO - Date = 2020-04-28 13:00:00, number of deaths =  222, number of infected = 254\n",
      "2020-06-23 17:24:42,320 - june.simulator - INFO - Date = 2020-04-29 00:00:00, number of deaths =  225, number of infected = 210\n",
      "2020-06-23 17:24:42,932 - june.simulator - INFO - Date = 2020-04-29 01:00:00, number of deaths =  225, number of infected = 208\n",
      "2020-06-23 17:24:43,879 - june.simulator - INFO - Date = 2020-04-29 05:00:00, number of deaths =  225, number of infected = 200\n",
      "2020-06-23 17:24:44,189 - june.simulator - INFO - Date = 2020-04-29 09:00:00, number of deaths =  226, number of infected = 179\n",
      "2020-06-23 17:24:47,229 - june.simulator - INFO - Date = 2020-04-29 10:00:00, number of deaths =  226, number of infected = 175\n",
      "2020-06-23 17:24:47,631 - june.simulator - INFO - Date = 2020-04-29 13:00:00, number of deaths =  226, number of infected = 161\n",
      "2020-06-23 17:24:47,988 - june.simulator - INFO - Date = 2020-04-30 00:00:00, number of deaths =  227, number of infected = 122\n",
      "2020-06-23 17:24:48,927 - june.simulator - INFO - Date = 2020-04-30 01:00:00, number of deaths =  227, number of infected = 118\n",
      "2020-06-23 17:24:49,731 - june.simulator - INFO - Date = 2020-04-30 05:00:00, number of deaths =  227, number of infected = 103\n",
      "2020-06-23 17:24:50,086 - june.simulator - INFO - Date = 2020-04-30 09:00:00, number of deaths =  228, number of infected = 91\n",
      "2020-06-23 17:24:52,994 - june.simulator - INFO - Date = 2020-04-30 10:00:00, number of deaths =  228, number of infected = 88\n",
      "2020-06-23 17:24:53,302 - june.simulator - INFO - Date = 2020-04-30 13:00:00, number of deaths =  228, number of infected = 85\n",
      "2020-06-23 17:24:53,636 - june.simulator - INFO - Date = 2020-05-01 00:00:00, number of deaths =  229, number of infected = 73\n",
      "2020-06-23 17:24:54,415 - june.simulator - INFO - Date = 2020-05-01 01:00:00, number of deaths =  229, number of infected = 71\n",
      "2020-06-23 17:24:55,081 - june.simulator - INFO - Date = 2020-05-01 05:00:00, number of deaths =  229, number of infected = 64\n",
      "2020-06-23 17:24:55,397 - june.simulator - INFO - Date = 2020-05-01 09:00:00, number of deaths =  231, number of infected = 59\n",
      "2020-06-23 17:24:58,004 - june.simulator - INFO - Date = 2020-05-01 10:00:00, number of deaths =  231, number of infected = 57\n",
      "2020-06-23 17:24:58,367 - june.simulator - INFO - Date = 2020-05-01 13:00:00, number of deaths =  231, number of infected = 53\n",
      "2020-06-23 17:25:01,848 - june.simulator - INFO - Date = 2020-05-02 00:00:00, number of deaths =  231, number of infected = 46\n",
      "2020-06-23 17:25:05,390 - june.simulator - INFO - Date = 2020-05-02 04:00:00, number of deaths =  231, number of infected = 43\n",
      "2020-06-23 17:25:08,350 - june.simulator - INFO - Date = 2020-05-02 08:00:00, number of deaths =  231, number of infected = 39\n",
      "2020-06-23 17:25:08,645 - june.simulator - INFO - Date = 2020-05-02 12:00:00, number of deaths =  231, number of infected = 35\n",
      "2020-06-23 17:25:11,346 - june.simulator - INFO - Date = 2020-05-03 00:00:00, number of deaths =  231, number of infected = 26\n",
      "2020-06-23 17:25:14,004 - june.simulator - INFO - Date = 2020-05-03 04:00:00, number of deaths =  231, number of infected = 23\n",
      "2020-06-23 17:25:16,616 - june.simulator - INFO - Date = 2020-05-03 08:00:00, number of deaths =  231, number of infected = 23\n",
      "2020-06-23 17:25:16,919 - june.simulator - INFO - Date = 2020-05-03 12:00:00, number of deaths =  231, number of infected = 23\n",
      "2020-06-23 17:25:17,284 - june.simulator - INFO - Date = 2020-05-04 00:00:00, number of deaths =  231, number of infected = 19\n",
      "2020-06-23 17:25:18,140 - june.simulator - INFO - Date = 2020-05-04 01:00:00, number of deaths =  231, number of infected = 19\n",
      "2020-06-23 17:25:18,873 - june.simulator - INFO - Date = 2020-05-04 05:00:00, number of deaths =  231, number of infected = 15\n",
      "2020-06-23 17:25:19,196 - june.simulator - INFO - Date = 2020-05-04 09:00:00, number of deaths =  231, number of infected = 15\n",
      "2020-06-23 17:25:22,590 - june.simulator - INFO - Date = 2020-05-04 10:00:00, number of deaths =  231, number of infected = 15\n",
      "2020-06-23 17:25:23,013 - june.simulator - INFO - Date = 2020-05-04 13:00:00, number of deaths =  231, number of infected = 14\n",
      "2020-06-23 17:25:23,582 - june.simulator - INFO - Date = 2020-05-05 00:00:00, number of deaths =  231, number of infected = 11\n",
      "2020-06-23 17:25:24,929 - june.simulator - INFO - Date = 2020-05-05 01:00:00, number of deaths =  231, number of infected = 11\n",
      "2020-06-23 17:25:26,153 - june.simulator - INFO - Date = 2020-05-05 05:00:00, number of deaths =  231, number of infected = 10\n",
      "2020-06-23 17:25:26,515 - june.simulator - INFO - Date = 2020-05-05 09:00:00, number of deaths =  231, number of infected = 8\n"
     ]
    },
    {
     "name": "stdout",
     "output_type": "stream",
     "text": [
      "2020-06-23 17:25:29,451 - june.simulator - INFO - Date = 2020-05-05 10:00:00, number of deaths =  231, number of infected = 8\n",
      "2020-06-23 17:25:29,848 - june.simulator - INFO - Date = 2020-05-05 13:00:00, number of deaths =  231, number of infected = 8\n",
      "2020-06-23 17:25:30,253 - june.simulator - INFO - Date = 2020-05-06 00:00:00, number of deaths =  232, number of infected = 6\n",
      "2020-06-23 17:25:30,998 - june.simulator - INFO - Date = 2020-05-06 01:00:00, number of deaths =  232, number of infected = 6\n",
      "2020-06-23 17:25:31,720 - june.simulator - INFO - Date = 2020-05-06 05:00:00, number of deaths =  232, number of infected = 4\n",
      "2020-06-23 17:25:32,096 - june.simulator - INFO - Date = 2020-05-06 09:00:00, number of deaths =  232, number of infected = 4\n",
      "2020-06-23 17:25:35,481 - june.simulator - INFO - Date = 2020-05-06 10:00:00, number of deaths =  232, number of infected = 4\n",
      "2020-06-23 17:25:36,016 - june.simulator - INFO - Date = 2020-05-06 13:00:00, number of deaths =  232, number of infected = 3\n",
      "2020-06-23 17:25:36,479 - june.simulator - INFO - Date = 2020-05-07 00:00:00, number of deaths =  232, number of infected = 2\n",
      "2020-06-23 17:25:37,753 - june.simulator - INFO - Date = 2020-05-07 01:00:00, number of deaths =  232, number of infected = 2\n",
      "2020-06-23 17:25:38,628 - june.simulator - INFO - Date = 2020-05-07 05:00:00, number of deaths =  232, number of infected = 1\n",
      "2020-06-23 17:25:39,175 - june.simulator - INFO - Date = 2020-05-07 09:00:00, number of deaths =  232, number of infected = 0\n",
      "2020-06-23 17:25:42,396 - june.simulator - INFO - Date = 2020-05-07 10:00:00, number of deaths =  232, number of infected = 0\n",
      "2020-06-23 17:25:42,764 - june.simulator - INFO - Date = 2020-05-07 13:00:00, number of deaths =  232, number of infected = 0\n",
      "2020-06-23 17:25:43,247 - june.simulator - INFO - Date = 2020-05-08 00:00:00, number of deaths =  232, number of infected = 0\n",
      "2020-06-23 17:25:44,327 - june.simulator - INFO - Date = 2020-05-08 01:00:00, number of deaths =  232, number of infected = 0\n",
      "2020-06-23 17:25:45,126 - june.simulator - INFO - Date = 2020-05-08 05:00:00, number of deaths =  232, number of infected = 0\n",
      "2020-06-23 17:25:45,447 - june.simulator - INFO - Date = 2020-05-08 09:00:00, number of deaths =  232, number of infected = 0\n",
      "2020-06-23 17:25:48,450 - june.simulator - INFO - Date = 2020-05-08 10:00:00, number of deaths =  232, number of infected = 0\n",
      "2020-06-23 17:25:48,764 - june.simulator - INFO - Date = 2020-05-08 13:00:00, number of deaths =  232, number of infected = 0\n",
      "2020-06-23 17:25:51,735 - june.simulator - INFO - Date = 2020-05-09 00:00:00, number of deaths =  232, number of infected = 0\n",
      "2020-06-23 17:25:54,735 - june.simulator - INFO - Date = 2020-05-09 04:00:00, number of deaths =  232, number of infected = 0\n",
      "2020-06-23 17:25:58,376 - june.simulator - INFO - Date = 2020-05-09 08:00:00, number of deaths =  232, number of infected = 0\n",
      "2020-06-23 17:25:58,680 - june.simulator - INFO - Date = 2020-05-09 12:00:00, number of deaths =  232, number of infected = 0\n",
      "2020-06-23 17:26:01,924 - june.simulator - INFO - Date = 2020-05-10 00:00:00, number of deaths =  232, number of infected = 0\n",
      "2020-06-23 17:26:06,001 - june.simulator - INFO - Date = 2020-05-10 04:00:00, number of deaths =  232, number of infected = 0\n",
      "2020-06-23 17:26:09,376 - june.simulator - INFO - Date = 2020-05-10 08:00:00, number of deaths =  232, number of infected = 0\n",
      "2020-06-23 17:26:09,721 - june.simulator - INFO - Date = 2020-05-10 12:00:00, number of deaths =  232, number of infected = 0\n",
      "2020-06-23 17:26:10,101 - june.simulator - INFO - Date = 2020-05-11 00:00:00, number of deaths =  232, number of infected = 0\n",
      "2020-06-23 17:26:10,924 - june.simulator - INFO - Date = 2020-05-11 01:00:00, number of deaths =  232, number of infected = 0\n",
      "2020-06-23 17:26:11,635 - june.simulator - INFO - Date = 2020-05-11 05:00:00, number of deaths =  232, number of infected = 0\n",
      "2020-06-23 17:26:11,949 - june.simulator - INFO - Date = 2020-05-11 09:00:00, number of deaths =  232, number of infected = 0\n",
      "2020-06-23 17:26:14,348 - june.simulator - INFO - Date = 2020-05-11 10:00:00, number of deaths =  232, number of infected = 0\n",
      "2020-06-23 17:26:14,661 - june.simulator - INFO - Date = 2020-05-11 13:00:00, number of deaths =  232, number of infected = 0\n",
      "2020-06-23 17:26:15,005 - june.simulator - INFO - Date = 2020-05-12 00:00:00, number of deaths =  232, number of infected = 0\n",
      "2020-06-23 17:26:15,717 - june.simulator - INFO - Date = 2020-05-12 01:00:00, number of deaths =  232, number of infected = 0\n",
      "2020-06-23 17:26:16,400 - june.simulator - INFO - Date = 2020-05-12 05:00:00, number of deaths =  232, number of infected = 0\n",
      "2020-06-23 17:26:16,715 - june.simulator - INFO - Date = 2020-05-12 09:00:00, number of deaths =  232, number of infected = 0\n",
      "2020-06-23 17:26:19,053 - june.simulator - INFO - Date = 2020-05-12 10:00:00, number of deaths =  232, number of infected = 0\n",
      "2020-06-23 17:26:19,364 - june.simulator - INFO - Date = 2020-05-12 13:00:00, number of deaths =  232, number of infected = 0\n",
      "2020-06-23 17:26:19,710 - june.simulator - INFO - Date = 2020-05-13 00:00:00, number of deaths =  232, number of infected = 0\n",
      "2020-06-23 17:26:20,524 - june.simulator - INFO - Date = 2020-05-13 01:00:00, number of deaths =  232, number of infected = 0\n",
      "2020-06-23 17:26:21,231 - june.simulator - INFO - Date = 2020-05-13 05:00:00, number of deaths =  232, number of infected = 0\n",
      "2020-06-23 17:26:21,558 - june.simulator - INFO - Date = 2020-05-13 09:00:00, number of deaths =  232, number of infected = 0\n",
      "2020-06-23 17:26:24,842 - june.simulator - INFO - Date = 2020-05-13 10:00:00, number of deaths =  232, number of infected = 0\n",
      "2020-06-23 17:26:25,151 - june.simulator - INFO - Date = 2020-05-13 13:00:00, number of deaths =  232, number of infected = 0\n",
      "2020-06-23 17:26:25,538 - june.simulator - INFO - Date = 2020-05-14 00:00:00, number of deaths =  232, number of infected = 0\n",
      "2020-06-23 17:26:26,413 - june.simulator - INFO - Date = 2020-05-14 01:00:00, number of deaths =  232, number of infected = 0\n",
      "2020-06-23 17:26:27,415 - june.simulator - INFO - Date = 2020-05-14 05:00:00, number of deaths =  232, number of infected = 0\n",
      "2020-06-23 17:26:27,812 - june.simulator - INFO - Date = 2020-05-14 09:00:00, number of deaths =  232, number of infected = 0\n",
      "2020-06-23 17:26:30,844 - june.simulator - INFO - Date = 2020-05-14 10:00:00, number of deaths =  232, number of infected = 0\n",
      "2020-06-23 17:26:31,215 - june.simulator - INFO - Date = 2020-05-14 13:00:00, number of deaths =  232, number of infected = 0\n",
      "2020-06-23 17:26:31,574 - june.simulator - INFO - Date = 2020-05-15 00:00:00, number of deaths =  232, number of infected = 0\n",
      "2020-06-23 17:26:32,351 - june.simulator - INFO - Date = 2020-05-15 01:00:00, number of deaths =  232, number of infected = 0\n",
      "2020-06-23 17:26:33,041 - june.simulator - INFO - Date = 2020-05-15 05:00:00, number of deaths =  232, number of infected = 0\n",
      "2020-06-23 17:26:33,349 - june.simulator - INFO - Date = 2020-05-15 09:00:00, number of deaths =  232, number of infected = 0\n",
      "2020-06-23 17:26:35,674 - june.simulator - INFO - Date = 2020-05-15 10:00:00, number of deaths =  232, number of infected = 0\n",
      "2020-06-23 17:26:35,977 - june.simulator - INFO - Date = 2020-05-15 13:00:00, number of deaths =  232, number of infected = 0\n",
      "2020-06-23 17:26:38,608 - june.simulator - INFO - Date = 2020-05-16 00:00:00, number of deaths =  232, number of infected = 0\n",
      "CPU times: user 9min 5s, sys: 659 ms, total: 9min 6s\n",
      "Wall time: 9min 8s\n"
     ]
    }
   ],
   "source": [
    "%%time\n",
    "simulator.run()"
   ]
  },
  {
   "cell_type": "markdown",
   "metadata": {},
   "source": [
    "While the simulation runs (and afterwards) we can launch the visualization webpage by running\n",
    "```python june/visualizer.py path/to/results``` "
   ]
  },
  {
   "cell_type": "markdown",
   "metadata": {},
   "source": [
    "# Getting the results"
   ]
  },
  {
   "cell_type": "markdown",
   "metadata": {},
   "source": [
    "All results are stored in a json file specified in the ``save_path`` variable in the config file. We can also access it from ``world.logger`` directly."
   ]
  },
  {
   "cell_type": "code",
   "execution_count": 25,
   "metadata": {},
   "outputs": [],
   "source": [
    "import pandas as pd"
   ]
  },
  {
   "cell_type": "code",
   "execution_count": 43,
   "metadata": {},
   "outputs": [],
   "source": [
    "read = ReadLogger()"
   ]
  },
  {
   "cell_type": "markdown",
   "metadata": {},
   "source": [
    "## Hospital data and how it changed over time"
   ]
  },
  {
   "cell_type": "code",
   "execution_count": 27,
   "metadata": {},
   "outputs": [],
   "source": [
    "hospitals_df = read.load_hospital_capacity()"
   ]
  },
  {
   "cell_type": "code",
   "execution_count": 28,
   "metadata": {},
   "outputs": [
    {
     "data": {
      "text/html": [
       "<div>\n",
       "<style scoped>\n",
       "    .dataframe tbody tr th:only-of-type {\n",
       "        vertical-align: middle;\n",
       "    }\n",
       "\n",
       "    .dataframe tbody tr th {\n",
       "        vertical-align: top;\n",
       "    }\n",
       "\n",
       "    .dataframe thead th {\n",
       "        text-align: right;\n",
       "    }\n",
       "</style>\n",
       "<table border=\"1\" class=\"dataframe\">\n",
       "  <thead>\n",
       "    <tr style=\"text-align: right;\">\n",
       "      <th></th>\n",
       "      <th>time_stamp</th>\n",
       "      <th>id</th>\n",
       "      <th>n_patients</th>\n",
       "      <th>n_patients_icu</th>\n",
       "    </tr>\n",
       "  </thead>\n",
       "  <tbody>\n",
       "    <tr>\n",
       "      <th>0</th>\n",
       "      <td>2020-03-07T04:00:00.000000</td>\n",
       "      <td>0</td>\n",
       "      <td>0</td>\n",
       "      <td>0</td>\n",
       "    </tr>\n",
       "    <tr>\n",
       "      <th>1</th>\n",
       "      <td>2020-03-07T08:00:00.000000</td>\n",
       "      <td>0</td>\n",
       "      <td>0</td>\n",
       "      <td>0</td>\n",
       "    </tr>\n",
       "    <tr>\n",
       "      <th>2</th>\n",
       "      <td>2020-03-07T12:00:00.000000</td>\n",
       "      <td>0</td>\n",
       "      <td>0</td>\n",
       "      <td>0</td>\n",
       "    </tr>\n",
       "  </tbody>\n",
       "</table>\n",
       "</div>"
      ],
      "text/plain": [
       "                   time_stamp id n_patients n_patients_icu\n",
       "0  2020-03-07T04:00:00.000000  0          0              0\n",
       "1  2020-03-07T08:00:00.000000  0          0              0\n",
       "2  2020-03-07T12:00:00.000000  0          0              0"
      ]
     },
     "execution_count": 28,
     "metadata": {},
     "output_type": "execute_result"
    }
   ],
   "source": [
    "hospitals_df.head(3)"
   ]
  },
  {
   "cell_type": "code",
   "execution_count": 29,
   "metadata": {},
   "outputs": [],
   "source": [
    "hospitals_characteristics_df = read.load_hospital_characteristics()"
   ]
  },
  {
   "cell_type": "code",
   "execution_count": 30,
   "metadata": {},
   "outputs": [
    {
     "data": {
      "text/html": [
       "<div>\n",
       "<style scoped>\n",
       "    .dataframe tbody tr th:only-of-type {\n",
       "        vertical-align: middle;\n",
       "    }\n",
       "\n",
       "    .dataframe tbody tr th {\n",
       "        vertical-align: top;\n",
       "    }\n",
       "\n",
       "    .dataframe thead th {\n",
       "        text-align: right;\n",
       "    }\n",
       "</style>\n",
       "<table border=\"1\" class=\"dataframe\">\n",
       "  <thead>\n",
       "    <tr style=\"text-align: right;\">\n",
       "      <th></th>\n",
       "      <th>longitude</th>\n",
       "      <th>latitude</th>\n",
       "      <th>n_beds</th>\n",
       "      <th>n_icu_beds</th>\n",
       "      <th>trust_code</th>\n",
       "    </tr>\n",
       "  </thead>\n",
       "  <tbody>\n",
       "    <tr>\n",
       "      <th>0</th>\n",
       "      <td>0.688477</td>\n",
       "      <td>51.5625</td>\n",
       "      <td>2115</td>\n",
       "      <td>296</td>\n",
       "      <td>RAJ</td>\n",
       "    </tr>\n",
       "  </tbody>\n",
       "</table>\n",
       "</div>"
      ],
      "text/plain": [
       "   longitude  latitude  n_beds  n_icu_beds trust_code\n",
       "0   0.688477   51.5625    2115         296        RAJ"
      ]
     },
     "execution_count": 30,
     "metadata": {},
     "output_type": "execute_result"
    }
   ],
   "source": [
    "hospitals_characteristics_df"
   ]
  },
  {
   "cell_type": "markdown",
   "metadata": {},
   "source": [
    "## where did infections happen?"
   ]
  },
  {
   "cell_type": "code",
   "execution_count": 31,
   "metadata": {},
   "outputs": [],
   "source": [
    "loc_df = read.get_locations_infections()"
   ]
  },
  {
   "cell_type": "code",
   "execution_count": 32,
   "metadata": {},
   "outputs": [],
   "source": [
    "locations_per_day = read.locations_df.groupby(pd.Grouper(freq='D')).sum()"
   ]
  },
  {
   "cell_type": "code",
   "execution_count": 33,
   "metadata": {},
   "outputs": [],
   "source": [
    "all_infection_places = set(locations_per_day.location.sum())"
   ]
  },
  {
   "cell_type": "code",
   "execution_count": 34,
   "metadata": {},
   "outputs": [],
   "source": [
    "def n_infections(row, infection_place):\n",
    "    return sum([row.counts[i] for i, x in enumerate(row.location) if x == infection_place])\n"
   ]
  },
  {
   "cell_type": "code",
   "execution_count": 35,
   "metadata": {},
   "outputs": [],
   "source": [
    "for infection_place in all_infection_places:\n",
    "    locations_per_day[str(infection_place)] = locations_per_day.apply(\n",
    "        lambda x: n_infections(x, infection_place),\n",
    "        axis=1\n",
    "    )"
   ]
  },
  {
   "cell_type": "code",
   "execution_count": 36,
   "metadata": {},
   "outputs": [],
   "source": [
    "locations_per_day = locations_per_day.drop(columns=['location',\n",
    "                                                    'counts'])"
   ]
  },
  {
   "cell_type": "code",
   "execution_count": 37,
   "metadata": {},
   "outputs": [],
   "source": [
    "locations_per_day = locations_per_day.div(\n",
    "    locations_per_day.sum(axis=1), axis=0\n",
    ")\n"
   ]
  },
  {
   "cell_type": "code",
   "execution_count": 38,
   "metadata": {},
   "outputs": [
    {
     "data": {
      "text/plain": [
       "Text(0, 0.5, 'Percent of infections')"
      ]
     },
     "execution_count": 38,
     "metadata": {},
     "output_type": "execute_result"
    },
    {
     "data": {
      "image/png": "[encoded data removed]",
      "text/plain": [
       "<Figure size 432x288 with 1 Axes>"
      ]
     },
     "metadata": {
      "needs_background": "light"
     },
     "output_type": "display_data"
    }
   ],
   "source": [
    "locations_per_day.plot.area( alpha=0.5)\n",
    "plt.legend(bbox_to_anchor=(1,1))\n",
    "plt.ylabel('Percent of infections')"
   ]
  },
  {
   "cell_type": "code",
   "execution_count": 39,
   "metadata": {},
   "outputs": [
    {
     "data": {
      "text/plain": [
       "Text(0.5, 0, 'location')"
      ]
     },
     "execution_count": 39,
     "metadata": {},
     "output_type": "execute_result"
    },
    {
     "data": {
      "image/png": "[encoded data removed]",
      "text/plain": [
       "<Figure size 432x288 with 1 Axes>"
      ]
     },
     "metadata": {
      "needs_background": "light"
     },
     "output_type": "display_data"
    }
   ],
   "source": [
    "import matplotlib.ticker as mtick\n",
    "\n",
    "ax = loc_df['percentage_infections'].sort_values().plot.bar()\n",
    "ax.yaxis.set_major_formatter(mtick.PercentFormatter())\n",
    "plt.ylabel('Percentage of infections at location')\n",
    "plt.xlabel('location')\n",
    "#plt.yscale('log')"
   ]
  },
  {
   "cell_type": "markdown",
   "metadata": {},
   "source": [
    "## rate of infection"
   ]
  },
  {
   "cell_type": "code",
   "execution_count": 40,
   "metadata": {},
   "outputs": [
    {
     "name": "stderr",
     "output_type": "stream",
     "text": [
      "/home/florpi/.local/lib/python3.8/site-packages/numpy/core/fromnumeric.py:3334: RuntimeWarning: Mean of empty slice.\n",
      "  return _methods._mean(a, axis=axis, dtype=dtype,\n",
      "/home/florpi/.local/lib/python3.8/site-packages/numpy/core/_methods.py:161: RuntimeWarning: invalid value encountered in double_scalars\n",
      "  ret = ret.dtype.type(ret / rcount)\n"
     ]
    }
   ],
   "source": [
    "r_df = read.get_r()"
   ]
  },
  {
   "cell_type": "code",
   "execution_count": 41,
   "metadata": {},
   "outputs": [
    {
     "data": {
      "text/plain": [
       "Text(0, 0.5, 'R')"
      ]
     },
     "execution_count": 41,
     "metadata": {},
     "output_type": "execute_result"
    },
    {
     "data": {
      "image/png": "[encoded data removed]",
      "text/plain": [
       "<Figure size 432x288 with 1 Axes>"
      ]
     },
     "metadata": {
      "needs_background": "light"
     },
     "output_type": "display_data"
    }
   ],
   "source": [
    "r_df.plot()\n",
    "plt.axvspan(policies.social_distancing_start, \n",
    "            policies.social_distancing_end,\n",
    "            facecolor='y', alpha=0.2)\n",
    "plt.axhline(y=1, linestyle='dashed', color='gray')\n",
    "plt.xlabel('Date')\n",
    "plt.ylabel('R')"
   ]
  },
  {
   "cell_type": "markdown",
   "metadata": {},
   "source": [
    "## World infection curves, and by super area"
   ]
  },
  {
   "cell_type": "code",
   "execution_count": 44,
   "metadata": {},
   "outputs": [],
   "source": [
    "world_df = read.world_summary()"
   ]
  },
  {
   "cell_type": "code",
   "execution_count": 45,
   "metadata": {},
   "outputs": [
    {
     "data": {
      "text/plain": [
       "Text(0, 0.5, '# Infected')"
      ]
     },
     "execution_count": 45,
     "metadata": {},
     "output_type": "execute_result"
    },
    {
     "data": {
      "image/png": "[encoded data removed]",
      "text/plain": [
       "<Figure size 432x288 with 1 Axes>"
      ]
     },
     "metadata": {
      "needs_background": "light"
     },
     "output_type": "display_data"
    }
   ],
   "source": [
    "world_df['infected'].plot()\n",
    "plt.axvspan(policies.social_distancing_start, \n",
    "            policies.social_distancing_end,\n",
    "            facecolor='y', alpha=0.2)\n",
    "plt.ylabel('# Infected')"
   ]
  },
  {
   "cell_type": "markdown",
   "metadata": {},
   "source": [
    "## Seroprevalence"
   ]
  },
  {
   "cell_type": "code",
   "execution_count": 47,
   "metadata": {},
   "outputs": [
    {
     "data": {
      "text/plain": [
       "Text(0, 0.5, 'Seroprevalence (% infected)')"
      ]
     },
     "execution_count": 47,
     "metadata": {},
     "output_type": "execute_result"
    },
    {
     "data": {
      "image/png": "[encoded data removed]",
      "text/plain": [
       "<Figure size 432x288 with 1 Axes>"
      ]
     },
     "metadata": {
      "needs_background": "light"
     },
     "output_type": "display_data"
    }
   ],
   "source": [
    "(100*world_df['new_infections'].cumsum()/read.n_people).plot()\n",
    "plt.axvspan(policies.social_distancing_start, \n",
    "            policies.social_distancing_end,\n",
    "            facecolor='y', alpha=0.2)\n",
    "plt.axhline(y=20, linestyle='dashed', color='indianred')\n",
    "plt.ylabel('Seroprevalence (% infected)')"
   ]
  },
  {
   "cell_type": "code",
   "execution_count": 48,
   "metadata": {},
   "outputs": [
    {
     "data": {
      "text/plain": [
       "<matplotlib.legend.Legend at 0x7fb7695ebbb0>"
      ]
     },
     "execution_count": 48,
     "metadata": {},
     "output_type": "execute_result"
    },
    {
     "data": {
      "image/png": "[encoded data removed]",
      "text/plain": [
       "<Figure size 432x288 with 1 Axes>"
      ]
     },
     "metadata": {
      "needs_background": "light"
     },
     "output_type": "display_data"
    }
   ],
   "source": [
    "world_df.plot()\n",
    "plt.axvspan(policies.social_distancing_start, \n",
    "            policies.social_distancing_end,\n",
    "            facecolor='y', alpha=0.2)\n",
    "plt.legend(bbox_to_anchor=(1,1))\n"
   ]
  },
  {
   "cell_type": "code",
   "execution_count": 49,
   "metadata": {},
   "outputs": [],
   "source": [
    "area_df = read.super_area_summary()"
   ]
  },
  {
   "cell_type": "code",
   "execution_count": null,
   "metadata": {},
   "outputs": [],
   "source": [
    "area_df[area_df.super_area == \"E02003282\"].plot()\n",
    "plt.legend(bbox_to_anchor=(1,1))\n",
    "\n"
   ]
  },
  {
   "cell_type": "markdown",
   "metadata": {},
   "source": [
    "## World infection curves per age group"
   ]
  },
  {
   "cell_type": "code",
   "execution_count": null,
   "metadata": {},
   "outputs": [],
   "source": [
    "ages_df = read.age_summary([0,10,20,30,40,\n",
    "                  50,60,70,80,90,100])"
   ]
  },
  {
   "cell_type": "code",
   "execution_count": null,
   "metadata": {},
   "outputs": [],
   "source": [
    "for name, group in ages_df.groupby('age_range'):\n",
    "    group['infected'].plot(label=name)\n",
    "plt.axvspan(policies.social_distancing_start, \n",
    "            policies.social_distancing_end,\n",
    "            facecolor='y', alpha=0.2)\n",
    "plt.legend(bbox_to_anchor=(1,1))\n"
   ]
  },
  {
   "cell_type": "code",
   "execution_count": null,
   "metadata": {},
   "outputs": [],
   "source": [
    "for name, group in ages_df.groupby('age_range'):\n",
    "    group['dead'].cumsum().plot(label=name)\n",
    "plt.legend()"
   ]
  },
  {
   "cell_type": "code",
   "execution_count": null,
   "metadata": {},
   "outputs": [],
   "source": [
    "for name, group in ages_df.groupby('age_range'):\n",
    "    group['susceptible'].plot(label=name)\n",
    "plt.legend()"
   ]
  },
  {
   "cell_type": "code",
   "execution_count": null,
   "metadata": {},
   "outputs": [],
   "source": [
    "for name, group in ages_df.groupby('age_range'):\n",
    "    group['hospital_admissions'].cumsum().plot(label=name)\n",
    "plt.legend()"
   ]
  },
  {
   "cell_type": "code",
   "execution_count": null,
   "metadata": {},
   "outputs": [],
   "source": [
    "for name, group in ages_df.groupby('age_range'):\n",
    "    group['intensive_care_admissions'].cumsum().plot(label=name)\n",
    "plt.legend()"
   ]
  },
  {
   "cell_type": "markdown",
   "metadata": {},
   "source": [
    "## Draw some of the symptoms trajectories"
   ]
  },
  {
   "cell_type": "code",
   "execution_count": null,
   "metadata": {},
   "outputs": [],
   "source": [
    "random_trajectories = read.draw_symptom_trajectories(window_length=600,\n",
    "                                        n_people=10)"
   ]
  },
  {
   "cell_type": "code",
   "execution_count": null,
   "metadata": {},
   "outputs": [],
   "source": [
    "from june.infection import SymptomTag"
   ]
  },
  {
   "cell_type": "code",
   "execution_count": null,
   "metadata": {},
   "outputs": [],
   "source": [
    "symptoms_values = [tag.value for tag in SymptomTag]\n",
    "symptoms_names = [tag.name for tag in SymptomTag]\n"
   ]
  },
  {
   "cell_type": "code",
   "execution_count": null,
   "metadata": {},
   "outputs": [],
   "source": [
    "for df_person in random_trajectories:\n",
    "    df_person['symptoms'].plot()\n",
    "plt.ylabel('Symptoms Trajectory')\n",
    "_ = plt.yticks(symptoms_values, symptoms_names)\n",
    "plt.xlabel('Date')"
   ]
  },
  {
   "cell_type": "code",
   "execution_count": null,
   "metadata": {},
   "outputs": [],
   "source": [
    "for df_person in random_trajectories:\n",
    "    df_person['n_secondary_infections'].plot()\n",
    "plt.ylabel('Number of secondary infections')\n",
    "\n",
    "plt.xlabel('Date')"
   ]
  },
  {
   "cell_type": "code",
   "execution_count": null,
   "metadata": {},
   "outputs": [],
   "source": []
  }
 ],
 "metadata": {
  "kernelspec": {
   "display_name": "Python 3",
   "language": "python",
   "name": "python3"
  },
  "language_info": {
   "codemirror_mode": {
    "name": "ipython",
    "version": 3
   },
   "file_extension": ".py",
   "mimetype": "text/x-python",
   "name": "python",
   "nbconvert_exporter": "python",
   "pygments_lexer": "ipython3",
   "version": "3.8.3"
  }
 },
 "nbformat": 4,
 "nbformat_minor": 4
}
