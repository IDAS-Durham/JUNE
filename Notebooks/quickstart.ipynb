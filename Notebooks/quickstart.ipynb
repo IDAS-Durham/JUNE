{
 "cells": [
  {
   "cell_type": "code",
   "execution_count": 1,
   "metadata": {},
   "outputs": [],
   "source": [
    "%load_ext autoreload\n",
    "%autoreload 2"
   ]
  },
  {
   "cell_type": "code",
   "execution_count": 2,
   "metadata": {},
   "outputs": [],
   "source": [
    "import warnings\n",
    "warnings.filterwarnings('ignore')"
   ]
  },
  {
   "cell_type": "code",
   "execution_count": 3,
   "metadata": {},
   "outputs": [],
   "source": [
    "import numpy as np\n",
    "import time\n",
    "from datetime import datetime\n",
    "import matplotlib.pyplot as plt\n",
    "import seaborn as sns\n",
    "sns.set_context('notebook')"
   ]
  },
  {
   "cell_type": "code",
   "execution_count": 4,
   "metadata": {},
   "outputs": [
    {
     "name": "stderr",
     "output_type": "stream",
     "text": [
      "No --data argument given - defaulting to:\n",
      "/home/florpi/JUNE/data\n",
      "No --configs argument given - defaulting to:\n",
      "/home/florpi/JUNE/configs\n"
     ]
    }
   ],
   "source": [
    "from june import World \n",
    "from june.demography.geography import Geography\n",
    "from june.demography import Demography\n",
    "from june.interaction import ContactAveraging\n",
    "from june.infection import Infection\n",
    "from june.infection.symptoms import SymptomsConstant\n",
    "from june.infection.transmission import TransmissionConstant\n",
    "from june.groups import Hospitals, Schools, Companies, Households, CareHomes, Cemeteries, Universities\n",
    "from june.groups.leisure import leisure, Cinemas, Pubs, Groceries\n",
    "from june.simulator import Simulator\n",
    "from june.seed import Seed\n",
    "from june.policy import Policy, Policies\n",
    "from june import paths\n",
    "from june.logger.read_logger import ReadLogger\n",
    "from june.infection.infection import InfectionSelector\n",
    "from june.world import generate_world_from_hdf5, generate_world_from_geography"
   ]
  },
  {
   "cell_type": "markdown",
   "metadata": {},
   "source": [
    "# Initialize world\n",
    "\n",
    "To initialize a certain world, we need to add the different components we want to have in it. First we specify what super areas (msoa) we want to create. We have included these ones, because they are known to contain hospitals, schools, care homes, and companies.\n",
    "\n",
    "After creating the geography, we create the different components the worlds need to have such as care homes, companies ..."
   ]
  },
  {
   "cell_type": "code",
   "execution_count": 10,
   "metadata": {},
   "outputs": [
    {
     "name": "stdout",
     "output_type": "stream",
     "text": [
      "2020-06-15 23:29:39,587 - june.demography.geography - INFO - There are 84 areas and 3 super_areas in the world.\n",
      "2020-06-15 23:29:39,595 - june.groups.hospital - INFO - There are 1 hospitals in this geography.\n",
      "2020-06-15 23:29:39,659 - june.groups.school - INFO - There are 13 schools in this geography.\n",
      "2020-06-15 23:29:39,689 - june.groups.school - INFO - No school for the age 0 in this world.\n",
      "2020-06-15 23:29:39,696 - june.groups.school - INFO - No school for the age 1 in this world.\n",
      "2020-06-15 23:29:39,702 - june.groups.school - INFO - No school for the age 2 in this world.\n",
      "2020-06-15 23:29:39,968 - june.groups.carehome - INFO - There are 6 care_homes in this geography.\n",
      "2020-06-15 23:29:46,152 - numexpr.utils - INFO - NumExpr defaulting to 4 threads.\n",
      "2020-06-15 23:29:47,984 - june.distributors.worker_distributor - INFO - There are 0 who had to be told to stay real\n",
      "CPU times: user 10.9 s, sys: 733 ms, total: 11.6 s\n",
      "Wall time: 11.6 s\n"
     ]
    }
   ],
   "source": [
    "%%time\n",
    "geography = Geography.from_file({\n",
    "                                \"super_area\": \n",
    "                                          [\"E02003282\",\n",
    "                                          \"E00088544\", \n",
    "                                          \"E02002560\", \n",
    "                                          \"E02002559\"]\n",
    "                                }\n",
    "                                )\n",
    "\n",
    "geography.hospitals = Hospitals.for_geography(geography)\n",
    "geography.schools = Schools.for_geography(geography)\n",
    "geography.companies = Companies.for_geography(geography)\n",
    "geography.care_homes = CareHomes.for_geography(geography)\n",
    "geography.universities = Universities.for_super_areas(geography.super_areas)\n",
    "world = generate_world_from_geography(geography, include_households=True)\n"
   ]
  },
  {
   "cell_type": "markdown",
   "metadata": {},
   "source": [
    "### If it took a long time to run the previous command, it might be a good idea to save the world to reuse it later."
   ]
  },
  {
   "cell_type": "code",
   "execution_count": 11,
   "metadata": {},
   "outputs": [],
   "source": [
    "#world.to_hdf5(\"world.hdf5\")"
   ]
  },
  {
   "cell_type": "markdown",
   "metadata": {},
   "source": [
    "If we would like to load the world we saved, we just do"
   ]
  },
  {
   "cell_type": "code",
   "execution_count": 12,
   "metadata": {},
   "outputs": [],
   "source": [
    "#world = generate_world_from_hdf5(\"world.hdf5\")"
   ]
  },
  {
   "cell_type": "markdown",
   "metadata": {},
   "source": [
    "you have now a beautiful pre-pandemic world. "
   ]
  },
  {
   "cell_type": "markdown",
   "metadata": {},
   "source": [
    "## Commute, travel and leisure"
   ]
  },
  {
   "cell_type": "markdown",
   "metadata": {},
   "source": [
    "We can add cinemas, pubs, groceries, etc. as well as commute in major cities with"
   ]
  },
  {
   "cell_type": "code",
   "execution_count": 13,
   "metadata": {},
   "outputs": [],
   "source": [
    "# leisure\n",
    "world.cinemas = Cinemas.for_geography(geography)\n",
    "world.pubs = Pubs.for_geography(geography)\n",
    "world.groceries = Groceries.for_super_areas(world.super_areas,\n",
    "                                            venues_per_capita=1/500)"
   ]
  },
  {
   "cell_type": "code",
   "execution_count": 14,
   "metadata": {},
   "outputs": [],
   "source": [
    "# commute\n",
    "world.initialise_commuting()"
   ]
  },
  {
   "cell_type": "markdown",
   "metadata": {},
   "source": [
    "We are also going to need some cemeteries...geography.cemeteries = Cemeteries()\n"
   ]
  },
  {
   "cell_type": "code",
   "execution_count": 15,
   "metadata": {},
   "outputs": [],
   "source": [
    "world.cemeteries = Cemeteries()"
   ]
  },
  {
   "cell_type": "markdown",
   "metadata": {},
   "source": [
    "# Adding the infection"
   ]
  },
  {
   "cell_type": "markdown",
   "metadata": {},
   "source": [
    "Now, you can play around with different models of infections. The building blocks for an infection are: Transmission and Symptoms. For now, only SymptomsConstant and TransmissionConstant are in a state to be used."
   ]
  },
  {
   "cell_type": "code",
   "execution_count": 16,
   "metadata": {},
   "outputs": [],
   "source": [
    "selector = InfectionSelector.from_file()"
   ]
  },
  {
   "cell_type": "code",
   "execution_count": 17,
   "metadata": {},
   "outputs": [
    {
     "data": {
      "text/plain": [
       "<june.infection.infection.InfectionSelector at 0x7f561129e160>"
      ]
     },
     "execution_count": 17,
     "metadata": {},
     "output_type": "execute_result"
    }
   ],
   "source": [
    "selector"
   ]
  },
  {
   "cell_type": "markdown",
   "metadata": {},
   "source": [
    "# Adding the interaction"
   ]
  },
  {
   "cell_type": "code",
   "execution_count": 18,
   "metadata": {},
   "outputs": [],
   "source": [
    "interaction = ContactAveraging.from_file(selector=selector)\n",
    "#interaction = DefaultInteraction.from_file(selector=selector)"
   ]
  },
  {
   "cell_type": "markdown",
   "metadata": {},
   "source": [
    "Beta are the intensities of the interaction taking place at the different groups"
   ]
  },
  {
   "cell_type": "code",
   "execution_count": 19,
   "metadata": {},
   "outputs": [
    {
     "data": {
      "text/plain": [
       "{'box': 1,\n",
       " 'pub': 0.1,\n",
       " 'grocery': 0.1,\n",
       " 'cinema': 0.1,\n",
       " 'commute_unit': 0.5,\n",
       " 'commute_city_unit': 0.5,\n",
       " 'hospital': 0.5,\n",
       " 'care_home': 0.5,\n",
       " 'company': 0.5,\n",
       " 'school': 0.5,\n",
       " 'household': 0.5,\n",
       " 'university': 0.05}"
      ]
     },
     "execution_count": 19,
     "metadata": {},
     "output_type": "execute_result"
    }
   ],
   "source": [
    "interaction.beta"
   ]
  },
  {
   "cell_type": "markdown",
   "metadata": {},
   "source": [
    "to modify these, simply do"
   ]
  },
  {
   "cell_type": "code",
   "execution_count": 20,
   "metadata": {},
   "outputs": [],
   "source": [
    "interaction.beta['household'] *= 2"
   ]
  },
  {
   "cell_type": "code",
   "execution_count": 21,
   "metadata": {},
   "outputs": [
    {
     "data": {
      "text/plain": [
       "{'box': 1,\n",
       " 'pub': 0.1,\n",
       " 'grocery': 0.1,\n",
       " 'cinema': 0.1,\n",
       " 'commute_unit': 0.5,\n",
       " 'commute_city_unit': 0.5,\n",
       " 'hospital': 0.5,\n",
       " 'care_home': 0.5,\n",
       " 'company': 0.5,\n",
       " 'school': 0.5,\n",
       " 'household': 1.0,\n",
       " 'university': 0.05}"
      ]
     },
     "execution_count": 21,
     "metadata": {},
     "output_type": "execute_result"
    }
   ],
   "source": [
    "interaction.beta"
   ]
  },
  {
   "cell_type": "markdown",
   "metadata": {},
   "source": [
    "moreover this interaction module uses contact matrices, that are different for different groups. These contact matrices shouldnt be modified for now. However they are a combination of conversational contact matrices, and physical contact matrices (see the BBC pandemic paper, from where these matrices are extracted https://www.medrxiv.org/content/10.1101/2020.02.16.20023754v2)\n",
    "\n",
    "There is a parameter, ``alpha`` ($\\alpha$), that combines these two matrices in the following way,\n",
    "\n",
    "\n",
    "$\\beta M \\left(1 + (\\alpha -1) \\right) P$\n",
    "\n",
    "where $\\beta$ is the intensity of the interaction, and $P$ the physical contact matrix. A larger $\\alpha$ produces more physical contacts. It is an overall number, non dependent of the particular group.\n"
   ]
  },
  {
   "cell_type": "code",
   "execution_count": 22,
   "metadata": {},
   "outputs": [
    {
     "data": {
      "text/plain": [
       "2.0"
      ]
     },
     "execution_count": 22,
     "metadata": {},
     "output_type": "execute_result"
    }
   ],
   "source": [
    "interaction.alpha_physical"
   ]
  },
  {
   "cell_type": "code",
   "execution_count": 23,
   "metadata": {},
   "outputs": [],
   "source": [
    "interaction.alpha_physical /= 2"
   ]
  },
  {
   "cell_type": "code",
   "execution_count": 24,
   "metadata": {},
   "outputs": [
    {
     "data": {
      "text/plain": [
       "1.0"
      ]
     },
     "execution_count": 24,
     "metadata": {},
     "output_type": "execute_result"
    }
   ],
   "source": [
    "interaction.alpha_physical"
   ]
  },
  {
   "cell_type": "markdown",
   "metadata": {},
   "source": [
    "# Seed the disease"
   ]
  },
  {
   "cell_type": "markdown",
   "metadata": {},
   "source": [
    "There are two options implemented in the seed at the moment, either you specify the number of cases and these are then homogeneously distributed by population to the different areas, or you use UK data on cases per region. For now use the first case."
   ]
  },
  {
   "cell_type": "code",
   "execution_count": 25,
   "metadata": {},
   "outputs": [],
   "source": [
    "seed = Seed(world.super_areas, selector,)"
   ]
  },
  {
   "cell_type": "code",
   "execution_count": 26,
   "metadata": {},
   "outputs": [],
   "source": [
    "n_cases = 50\n",
    "seed.unleash_virus(n_cases) # play around with the initial number of cases"
   ]
  },
  {
   "cell_type": "markdown",
   "metadata": {},
   "source": [
    "# Set policies"
   ]
  },
  {
   "cell_type": "code",
   "execution_count": 27,
   "metadata": {},
   "outputs": [],
   "source": [
    "social_distance = Policy(policy=\"social_distance\",\n",
    "                         start_time=datetime(2020, 3, 25), \n",
    "                         end_time=datetime(2020, 4, 1))"
   ]
  },
  {
   "cell_type": "code",
   "execution_count": 28,
   "metadata": {},
   "outputs": [],
   "source": [
    "policies = Policies.from_file([social_distance])"
   ]
  },
  {
   "cell_type": "code",
   "execution_count": 29,
   "metadata": {},
   "outputs": [
    {
     "data": {
      "text/plain": [
       "{'alpha factor': 1.0,\n",
       " 'beta factor': {'box': 0.5,\n",
       "  'pub': 0.5,\n",
       "  'grocery': 0.5,\n",
       "  'cinema': 0.5,\n",
       "  'commute_unit': 0.5,\n",
       "  'commute_city_unit': 0.5,\n",
       "  'hospital': 0.5,\n",
       "  'care_home': 0.5,\n",
       "  'company': 0.5,\n",
       "  'school': 0.5,\n",
       "  'household': 1.0,\n",
       "  'university': 0.5}}"
      ]
     },
     "execution_count": 29,
     "metadata": {},
     "output_type": "execute_result"
    }
   ],
   "source": [
    "policies.config['social distancing']"
   ]
  },
  {
   "cell_type": "markdown",
   "metadata": {},
   "source": [
    "# Run the simulation"
   ]
  },
  {
   "cell_type": "markdown",
   "metadata": {},
   "source": [
    "Since the timer configuration is a bit cumbersome, it is read from the config file at ``configs/config_example.yaml``"
   ]
  },
  {
   "cell_type": "code",
   "execution_count": 30,
   "metadata": {},
   "outputs": [],
   "source": [
    "CONFIG_PATH = \"../configs/config_example.yaml\"\n",
    "\n",
    "leisure_instance = leisure.generate_leisure_for_config(\n",
    "world=world, config_filename = CONFIG_PATH\n",
    ")\n",
    "simulator = Simulator.from_file(\n",
    "     world, interaction, selector, \n",
    "    config_filename = CONFIG_PATH,\n",
    "    leisure = leisure_instance,\n",
    "    policies = policies\n",
    ")"
   ]
  },
  {
   "cell_type": "code",
   "execution_count": 31,
   "metadata": {},
   "outputs": [],
   "source": [
    "simulator.timer.reset()"
   ]
  },
  {
   "cell_type": "code",
   "execution_count": 32,
   "metadata": {
    "scrolled": true
   },
   "outputs": [
    {
     "name": "stdout",
     "output_type": "stream",
     "text": [
      "2020-06-15 23:30:09,461 - june.simulator - INFO - Starting group_dynamics for 70 days at day 0\n",
      "2020-06-15 23:30:09,463 - june.simulator - INFO - starting the loop ..., at 0 days, to run for 70 days\n",
      "2020-06-15 23:30:11,306 - june.simulator - INFO - Date = 2020-03-07 03:00:00, number of deaths =  0, number of infected = 10\n",
      "2020-06-15 23:30:12,434 - june.simulator - INFO - Date = 2020-03-07 06:00:00, number of deaths =  0, number of infected = 10\n",
      "2020-06-15 23:30:12,812 - june.simulator - INFO - Date = 2020-03-07 09:00:00, number of deaths =  0, number of infected = 10\n",
      "2020-06-15 23:30:13,894 - june.simulator - INFO - Date = 2020-03-08 00:00:00, number of deaths =  0, number of infected = 10\n",
      "2020-06-15 23:30:14,446 - june.simulator - INFO - Date = 2020-03-08 03:00:00, number of deaths =  0, number of infected = 10\n",
      "2020-06-15 23:30:14,973 - june.simulator - INFO - Date = 2020-03-08 06:00:00, number of deaths =  0, number of infected = 10\n",
      "2020-06-15 23:30:15,209 - june.simulator - INFO - Date = 2020-03-08 09:00:00, number of deaths =  0, number of infected = 10\n",
      "2020-06-15 23:30:15,529 - june.simulator - INFO - Date = 2020-03-09 00:00:00, number of deaths =  0, number of infected = 10\n",
      "2020-06-15 23:30:15,881 - june.simulator - INFO - Date = 2020-03-09 01:00:00, number of deaths =  0, number of infected = 10\n",
      "2020-06-15 23:30:16,104 - june.simulator - INFO - Date = 2020-03-09 09:00:00, number of deaths =  0, number of infected = 10\n",
      "2020-06-15 23:30:16,618 - june.simulator - INFO - Date = 2020-03-09 10:00:00, number of deaths =  0, number of infected = 10\n",
      "2020-06-15 23:30:16,843 - june.simulator - INFO - Date = 2020-03-09 13:00:00, number of deaths =  0, number of infected = 10\n",
      "2020-06-15 23:30:17,134 - june.simulator - INFO - Date = 2020-03-10 00:00:00, number of deaths =  0, number of infected = 10\n",
      "2020-06-15 23:30:17,383 - june.simulator - INFO - Date = 2020-03-10 01:00:00, number of deaths =  0, number of infected = 10\n",
      "2020-06-15 23:30:17,629 - june.simulator - INFO - Date = 2020-03-10 09:00:00, number of deaths =  0, number of infected = 10\n",
      "2020-06-15 23:30:18,144 - june.simulator - INFO - Date = 2020-03-10 10:00:00, number of deaths =  0, number of infected = 10\n",
      "2020-06-15 23:30:18,388 - june.simulator - INFO - Date = 2020-03-10 13:00:00, number of deaths =  0, number of infected = 10\n",
      "2020-06-15 23:30:18,657 - june.simulator - INFO - Date = 2020-03-11 00:00:00, number of deaths =  0, number of infected = 10\n",
      "2020-06-15 23:30:18,976 - june.simulator - INFO - Date = 2020-03-11 01:00:00, number of deaths =  0, number of infected = 10\n",
      "2020-06-15 23:30:19,230 - june.simulator - INFO - Date = 2020-03-11 09:00:00, number of deaths =  0, number of infected = 11\n",
      "2020-06-15 23:30:19,695 - june.simulator - INFO - Date = 2020-03-11 10:00:00, number of deaths =  0, number of infected = 11\n",
      "2020-06-15 23:30:19,924 - june.simulator - INFO - Date = 2020-03-11 13:00:00, number of deaths =  0, number of infected = 12\n",
      "2020-06-15 23:30:20,203 - june.simulator - INFO - Date = 2020-03-12 00:00:00, number of deaths =  0, number of infected = 17\n",
      "2020-06-15 23:30:20,505 - june.simulator - INFO - Date = 2020-03-12 01:00:00, number of deaths =  0, number of infected = 17\n",
      "2020-06-15 23:30:20,720 - june.simulator - INFO - Date = 2020-03-12 09:00:00, number of deaths =  0, number of infected = 20\n",
      "2020-06-15 23:30:21,259 - june.simulator - INFO - Date = 2020-03-12 10:00:00, number of deaths =  0, number of infected = 20\n",
      "2020-06-15 23:30:21,558 - june.simulator - INFO - Date = 2020-03-12 13:00:00, number of deaths =  0, number of infected = 20\n",
      "2020-06-15 23:30:21,897 - june.simulator - INFO - Date = 2020-03-13 00:00:00, number of deaths =  0, number of infected = 26\n",
      "2020-06-15 23:30:22,207 - june.simulator - INFO - Date = 2020-03-13 01:00:00, number of deaths =  0, number of infected = 26\n",
      "2020-06-15 23:30:22,427 - june.simulator - INFO - Date = 2020-03-13 09:00:00, number of deaths =  0, number of infected = 32\n",
      "2020-06-15 23:30:22,895 - june.simulator - INFO - Date = 2020-03-13 10:00:00, number of deaths =  0, number of infected = 32\n",
      "2020-06-15 23:30:23,356 - june.simulator - INFO - Date = 2020-03-13 13:00:00, number of deaths =  0, number of infected = 33\n",
      "2020-06-15 23:30:23,969 - june.simulator - INFO - Date = 2020-03-14 00:00:00, number of deaths =  0, number of infected = 33\n",
      "2020-06-15 23:30:24,417 - june.simulator - INFO - Date = 2020-03-14 03:00:00, number of deaths =  0, number of infected = 33\n",
      "2020-06-15 23:30:25,012 - june.simulator - INFO - Date = 2020-03-14 06:00:00, number of deaths =  0, number of infected = 35\n",
      "2020-06-15 23:30:25,227 - june.simulator - INFO - Date = 2020-03-14 09:00:00, number of deaths =  0, number of infected = 35\n",
      "2020-06-15 23:30:25,676 - june.simulator - INFO - Date = 2020-03-15 00:00:00, number of deaths =  0, number of infected = 35\n",
      "2020-06-15 23:30:26,071 - june.simulator - INFO - Date = 2020-03-15 03:00:00, number of deaths =  0, number of infected = 35\n",
      "2020-06-15 23:30:26,450 - june.simulator - INFO - Date = 2020-03-15 06:00:00, number of deaths =  0, number of infected = 35\n",
      "2020-06-15 23:30:26,659 - june.simulator - INFO - Date = 2020-03-15 09:00:00, number of deaths =  0, number of infected = 35\n",
      "2020-06-15 23:30:26,919 - june.simulator - INFO - Date = 2020-03-16 00:00:00, number of deaths =  0, number of infected = 39\n",
      "2020-06-15 23:30:27,275 - june.simulator - INFO - Date = 2020-03-16 01:00:00, number of deaths =  0, number of infected = 39\n",
      "2020-06-15 23:30:27,521 - june.simulator - INFO - Date = 2020-03-16 09:00:00, number of deaths =  0, number of infected = 270\n",
      "2020-06-15 23:30:27,965 - june.simulator - INFO - Date = 2020-03-16 10:00:00, number of deaths =  0, number of infected = 271\n",
      "2020-06-15 23:30:28,196 - june.simulator - INFO - Date = 2020-03-16 13:00:00, number of deaths =  0, number of infected = 271\n",
      "2020-06-15 23:30:28,485 - june.simulator - INFO - Date = 2020-03-17 00:00:00, number of deaths =  0, number of infected = 277\n",
      "2020-06-15 23:30:28,757 - june.simulator - INFO - Date = 2020-03-17 01:00:00, number of deaths =  0, number of infected = 277\n",
      "2020-06-15 23:30:28,964 - june.simulator - INFO - Date = 2020-03-17 09:00:00, number of deaths =  0, number of infected = 297\n",
      "2020-06-15 23:30:29,389 - june.simulator - INFO - Date = 2020-03-17 10:00:00, number of deaths =  0, number of infected = 298\n",
      "2020-06-15 23:30:29,635 - june.simulator - INFO - Date = 2020-03-17 13:00:00, number of deaths =  0, number of infected = 300\n",
      "2020-06-15 23:30:29,892 - june.simulator - INFO - Date = 2020-03-18 00:00:00, number of deaths =  0, number of infected = 301\n",
      "2020-06-15 23:30:30,195 - june.simulator - INFO - Date = 2020-03-18 01:00:00, number of deaths =  0, number of infected = 301\n",
      "2020-06-15 23:30:30,415 - june.simulator - INFO - Date = 2020-03-18 09:00:00, number of deaths =  0, number of infected = 310\n",
      "2020-06-15 23:30:30,788 - june.simulator - INFO - Date = 2020-03-18 10:00:00, number of deaths =  0, number of infected = 310\n",
      "2020-06-15 23:30:30,999 - june.simulator - INFO - Date = 2020-03-18 13:00:00, number of deaths =  0, number of infected = 310\n",
      "2020-06-15 23:30:31,298 - june.simulator - INFO - Date = 2020-03-19 00:00:00, number of deaths =  0, number of infected = 313\n",
      "2020-06-15 23:30:31,589 - june.simulator - INFO - Date = 2020-03-19 01:00:00, number of deaths =  0, number of infected = 320\n",
      "2020-06-15 23:30:31,799 - june.simulator - INFO - Date = 2020-03-19 09:00:00, number of deaths =  0, number of infected = 324\n",
      "2020-06-15 23:30:32,177 - june.simulator - INFO - Date = 2020-03-19 10:00:00, number of deaths =  0, number of infected = 330\n",
      "2020-06-15 23:30:32,392 - june.simulator - INFO - Date = 2020-03-19 13:00:00, number of deaths =  0, number of infected = 343\n",
      "2020-06-15 23:30:32,788 - june.simulator - INFO - Date = 2020-03-20 00:00:00, number of deaths =  0, number of infected = 455\n",
      "2020-06-15 23:30:33,091 - june.simulator - INFO - Date = 2020-03-20 01:00:00, number of deaths =  0, number of infected = 472\n",
      "2020-06-15 23:30:33,385 - june.simulator - INFO - Date = 2020-03-20 09:00:00, number of deaths =  0, number of infected = 485\n",
      "2020-06-15 23:30:33,859 - june.simulator - INFO - Date = 2020-03-20 10:00:00, number of deaths =  0, number of infected = 500\n"
     ]
    },
    {
     "name": "stdout",
     "output_type": "stream",
     "text": [
      "2020-06-15 23:30:34,261 - june.simulator - INFO - Date = 2020-03-20 13:00:00, number of deaths =  0, number of infected = 513\n",
      "2020-06-15 23:30:34,732 - june.simulator - INFO - Date = 2020-03-21 00:00:00, number of deaths =  0, number of infected = 625\n",
      "2020-06-15 23:30:35,077 - june.simulator - INFO - Date = 2020-03-21 03:00:00, number of deaths =  0, number of infected = 637\n",
      "2020-06-15 23:30:35,504 - june.simulator - INFO - Date = 2020-03-21 06:00:00, number of deaths =  0, number of infected = 649\n",
      "2020-06-15 23:30:35,751 - june.simulator - INFO - Date = 2020-03-21 09:00:00, number of deaths =  0, number of infected = 661\n",
      "2020-06-15 23:30:36,208 - june.simulator - INFO - Date = 2020-03-22 00:00:00, number of deaths =  0, number of infected = 756\n",
      "2020-06-15 23:30:36,565 - june.simulator - INFO - Date = 2020-03-22 03:00:00, number of deaths =  0, number of infected = 763\n",
      "2020-06-15 23:30:36,957 - june.simulator - INFO - Date = 2020-03-22 06:00:00, number of deaths =  0, number of infected = 772\n",
      "2020-06-15 23:30:37,179 - june.simulator - INFO - Date = 2020-03-22 09:00:00, number of deaths =  0, number of infected = 777\n",
      "2020-06-15 23:30:37,483 - june.simulator - INFO - Date = 2020-03-23 00:00:00, number of deaths =  0, number of infected = 847\n",
      "2020-06-15 23:30:37,759 - june.simulator - INFO - Date = 2020-03-23 01:00:00, number of deaths =  0, number of infected = 852\n",
      "2020-06-15 23:30:38,013 - june.simulator - INFO - Date = 2020-03-23 09:00:00, number of deaths =  0, number of infected = 904\n",
      "2020-06-15 23:30:38,446 - june.simulator - INFO - Date = 2020-03-23 10:00:00, number of deaths =  0, number of infected = 909\n",
      "2020-06-15 23:30:38,679 - june.simulator - INFO - Date = 2020-03-23 13:00:00, number of deaths =  1, number of infected = 916\n",
      "2020-06-15 23:30:38,978 - june.simulator - INFO - Date = 2020-03-24 00:00:00, number of deaths =  1, number of infected = 950\n",
      "2020-06-15 23:30:39,240 - june.simulator - INFO - Date = 2020-03-24 01:00:00, number of deaths =  1, number of infected = 953\n",
      "2020-06-15 23:30:39,509 - june.simulator - INFO - Date = 2020-03-24 09:00:00, number of deaths =  1, number of infected = 1118\n",
      "2020-06-15 23:30:39,963 - june.simulator - INFO - Date = 2020-03-24 10:00:00, number of deaths =  1, number of infected = 1122\n",
      "2020-06-15 23:30:40,301 - june.simulator - INFO - Date = 2020-03-24 13:00:00, number of deaths =  1, number of infected = 1129\n",
      "2020-06-15 23:30:40,625 - june.simulator - INFO - Date = 2020-03-25 00:00:00, number of deaths =  1, number of infected = 1164\n",
      "2020-06-15 23:30:40,953 - june.simulator - INFO - Date = 2020-03-25 01:00:00, number of deaths =  1, number of infected = 1166\n",
      "2020-06-15 23:30:41,238 - june.simulator - INFO - Date = 2020-03-25 09:00:00, number of deaths =  1, number of infected = 1302\n",
      "2020-06-15 23:30:41,624 - june.simulator - INFO - Date = 2020-03-25 10:00:00, number of deaths =  1, number of infected = 1304\n",
      "2020-06-15 23:30:41,843 - june.simulator - INFO - Date = 2020-03-25 13:00:00, number of deaths =  1, number of infected = 1309\n",
      "2020-06-15 23:30:42,106 - june.simulator - INFO - Date = 2020-03-26 00:00:00, number of deaths =  1, number of infected = 1326\n",
      "2020-06-15 23:30:42,423 - june.simulator - INFO - Date = 2020-03-26 01:00:00, number of deaths =  1, number of infected = 1326\n",
      "2020-06-15 23:30:42,928 - june.simulator - INFO - Date = 2020-03-26 09:00:00, number of deaths =  1, number of infected = 1497\n",
      "2020-06-15 23:30:43,262 - june.simulator - INFO - Date = 2020-03-26 10:00:00, number of deaths =  1, number of infected = 1499\n",
      "2020-06-15 23:30:43,464 - june.simulator - INFO - Date = 2020-03-26 13:00:00, number of deaths =  1, number of infected = 1501\n",
      "2020-06-15 23:30:43,748 - june.simulator - INFO - Date = 2020-03-27 00:00:00, number of deaths =  1, number of infected = 1547\n",
      "2020-06-15 23:30:44,009 - june.simulator - INFO - Date = 2020-03-27 01:00:00, number of deaths =  1, number of infected = 1557\n",
      "2020-06-15 23:30:44,266 - june.simulator - INFO - Date = 2020-03-27 09:00:00, number of deaths =  1, number of infected = 1746\n",
      "2020-06-15 23:30:44,727 - june.simulator - INFO - Date = 2020-03-27 10:00:00, number of deaths =  1, number of infected = 1759\n",
      "2020-06-15 23:30:45,023 - june.simulator - INFO - Date = 2020-03-27 13:00:00, number of deaths =  1, number of infected = 1780\n",
      "2020-06-15 23:30:45,568 - june.simulator - INFO - Date = 2020-03-28 00:00:00, number of deaths =  1, number of infected = 1889\n",
      "2020-06-15 23:30:46,000 - june.simulator - INFO - Date = 2020-03-28 03:00:00, number of deaths =  1, number of infected = 1900\n",
      "2020-06-15 23:30:46,332 - june.simulator - INFO - Date = 2020-03-28 06:00:00, number of deaths =  1, number of infected = 1920\n",
      "2020-06-15 23:30:46,557 - june.simulator - INFO - Date = 2020-03-28 09:00:00, number of deaths =  1, number of infected = 1938\n",
      "2020-06-15 23:30:47,052 - june.simulator - INFO - Date = 2020-03-29 00:00:00, number of deaths =  1, number of infected = 2160\n",
      "2020-06-15 23:30:47,527 - june.simulator - INFO - Date = 2020-03-29 03:00:00, number of deaths =  1, number of infected = 2174\n",
      "2020-06-15 23:30:47,857 - june.simulator - INFO - Date = 2020-03-29 06:00:00, number of deaths =  1, number of infected = 2192\n",
      "2020-06-15 23:30:48,104 - june.simulator - INFO - Date = 2020-03-29 09:00:00, number of deaths =  1, number of infected = 2214\n",
      "2020-06-15 23:30:48,425 - june.simulator - INFO - Date = 2020-03-30 00:00:00, number of deaths =  1, number of infected = 2454\n",
      "2020-06-15 23:30:48,738 - june.simulator - INFO - Date = 2020-03-30 01:00:00, number of deaths =  1, number of infected = 2472\n",
      "2020-06-15 23:30:49,099 - june.simulator - INFO - Date = 2020-03-30 09:00:00, number of deaths =  1, number of infected = 2863\n",
      "2020-06-15 23:30:49,484 - june.simulator - INFO - Date = 2020-03-30 10:00:00, number of deaths =  1, number of infected = 2893\n",
      "2020-06-15 23:30:49,715 - june.simulator - INFO - Date = 2020-03-30 13:00:00, number of deaths =  1, number of infected = 2927\n",
      "2020-06-15 23:30:50,145 - june.simulator - INFO - Date = 2020-03-31 00:00:00, number of deaths =  1, number of infected = 3176\n",
      "2020-06-15 23:30:50,442 - june.simulator - INFO - Date = 2020-03-31 01:00:00, number of deaths =  1, number of infected = 3195\n",
      "2020-06-15 23:30:50,810 - june.simulator - INFO - Date = 2020-03-31 09:00:00, number of deaths =  1, number of infected = 3658\n",
      "2020-06-15 23:30:51,172 - june.simulator - INFO - Date = 2020-03-31 10:00:00, number of deaths =  1, number of infected = 3675\n",
      "2020-06-15 23:30:51,393 - june.simulator - INFO - Date = 2020-03-31 13:00:00, number of deaths =  1, number of infected = 3695\n",
      "2020-06-15 23:30:51,726 - june.simulator - INFO - Date = 2020-04-01 00:00:00, number of deaths =  1, number of infected = 3844\n",
      "2020-06-15 23:30:52,045 - june.simulator - INFO - Date = 2020-04-01 01:00:00, number of deaths =  1, number of infected = 3858\n",
      "2020-06-15 23:30:52,472 - june.simulator - INFO - Date = 2020-04-01 09:00:00, number of deaths =  1, number of infected = 4756\n",
      "2020-06-15 23:30:52,865 - june.simulator - INFO - Date = 2020-04-01 10:00:00, number of deaths =  1, number of infected = 4771\n",
      "2020-06-15 23:30:53,096 - june.simulator - INFO - Date = 2020-04-01 13:00:00, number of deaths =  1, number of infected = 4791\n",
      "2020-06-15 23:30:53,461 - june.simulator - INFO - Date = 2020-04-02 00:00:00, number of deaths =  1, number of infected = 4887\n",
      "2020-06-15 23:30:53,816 - june.simulator - INFO - Date = 2020-04-02 01:00:00, number of deaths =  1, number of infected = 4899\n",
      "2020-06-15 23:30:54,240 - june.simulator - INFO - Date = 2020-04-02 09:00:00, number of deaths =  1, number of infected = 5673\n",
      "2020-06-15 23:30:54,659 - june.simulator - INFO - Date = 2020-04-02 10:00:00, number of deaths =  1, number of infected = 5689\n",
      "2020-06-15 23:30:54,898 - june.simulator - INFO - Date = 2020-04-02 13:00:00, number of deaths =  1, number of infected = 5713\n",
      "2020-06-15 23:30:55,321 - june.simulator - INFO - Date = 2020-04-03 00:00:00, number of deaths =  2, number of infected = 5919\n",
      "2020-06-15 23:30:55,675 - june.simulator - INFO - Date = 2020-04-03 01:00:00, number of deaths =  2, number of infected = 5944\n",
      "2020-06-15 23:30:56,193 - june.simulator - INFO - Date = 2020-04-03 09:00:00, number of deaths =  2, number of infected = 6745\n"
     ]
    },
    {
     "name": "stdout",
     "output_type": "stream",
     "text": [
      "2020-06-15 23:30:56,680 - june.simulator - INFO - Date = 2020-04-03 10:00:00, number of deaths =  2, number of infected = 6790\n",
      "2020-06-15 23:30:56,925 - june.simulator - INFO - Date = 2020-04-03 13:00:00, number of deaths =  2, number of infected = 6818\n",
      "2020-06-15 23:30:57,391 - june.simulator - INFO - Date = 2020-04-04 00:00:00, number of deaths =  2, number of infected = 7164\n",
      "2020-06-15 23:30:57,719 - june.simulator - INFO - Date = 2020-04-04 03:00:00, number of deaths =  2, number of infected = 7199\n",
      "2020-06-15 23:30:58,209 - june.simulator - INFO - Date = 2020-04-04 06:00:00, number of deaths =  2, number of infected = 7245\n",
      "2020-06-15 23:30:58,506 - june.simulator - INFO - Date = 2020-04-04 09:00:00, number of deaths =  2, number of infected = 7308\n",
      "2020-06-15 23:30:59,023 - june.simulator - INFO - Date = 2020-04-05 00:00:00, number of deaths =  2, number of infected = 8048\n",
      "2020-06-15 23:30:59,389 - june.simulator - INFO - Date = 2020-04-05 03:00:00, number of deaths =  2, number of infected = 8106\n",
      "2020-06-15 23:30:59,721 - june.simulator - INFO - Date = 2020-04-05 06:00:00, number of deaths =  2, number of infected = 8159\n",
      "2020-06-15 23:31:00,032 - june.simulator - INFO - Date = 2020-04-05 09:00:00, number of deaths =  2, number of infected = 8209\n",
      "2020-06-15 23:31:00,503 - june.simulator - INFO - Date = 2020-04-06 00:00:00, number of deaths =  2, number of infected = 9084\n",
      "2020-06-15 23:31:00,884 - june.simulator - INFO - Date = 2020-04-06 01:00:00, number of deaths =  2, number of infected = 9167\n",
      "2020-06-15 23:31:01,590 - june.simulator - INFO - Date = 2020-04-06 09:00:00, number of deaths =  3, number of infected = 10376\n",
      "2020-06-15 23:31:02,061 - june.simulator - INFO - Date = 2020-04-06 10:00:00, number of deaths =  3, number of infected = 10458\n",
      "2020-06-15 23:31:02,382 - june.simulator - INFO - Date = 2020-04-06 13:00:00, number of deaths =  3, number of infected = 10520\n",
      "2020-06-15 23:31:02,880 - june.simulator - INFO - Date = 2020-04-07 00:00:00, number of deaths =  3, number of infected = 11119\n",
      "2020-06-15 23:31:03,270 - june.simulator - INFO - Date = 2020-04-07 01:00:00, number of deaths =  3, number of infected = 11176\n",
      "2020-06-15 23:31:03,782 - june.simulator - INFO - Date = 2020-04-07 09:00:00, number of deaths =  5, number of infected = 11987\n",
      "2020-06-15 23:31:04,225 - june.simulator - INFO - Date = 2020-04-07 10:00:00, number of deaths =  5, number of infected = 12048\n",
      "2020-06-15 23:31:04,528 - june.simulator - INFO - Date = 2020-04-07 13:00:00, number of deaths =  5, number of infected = 12086\n",
      "2020-06-15 23:31:05,166 - june.simulator - INFO - Date = 2020-04-08 00:00:00, number of deaths =  5, number of infected = 12445\n",
      "2020-06-15 23:31:05,637 - june.simulator - INFO - Date = 2020-04-08 01:00:00, number of deaths =  5, number of infected = 12461\n",
      "2020-06-15 23:31:06,180 - june.simulator - INFO - Date = 2020-04-08 09:00:00, number of deaths =  5, number of infected = 13142\n",
      "2020-06-15 23:31:06,571 - june.simulator - INFO - Date = 2020-04-08 10:00:00, number of deaths =  5, number of infected = 13165\n",
      "2020-06-15 23:31:06,963 - june.simulator - INFO - Date = 2020-04-08 13:00:00, number of deaths =  5, number of infected = 13199\n",
      "2020-06-15 23:31:07,362 - june.simulator - INFO - Date = 2020-04-09 00:00:00, number of deaths =  6, number of infected = 13366\n",
      "2020-06-15 23:31:07,707 - june.simulator - INFO - Date = 2020-04-09 01:00:00, number of deaths =  6, number of infected = 13391\n",
      "2020-06-15 23:31:08,192 - june.simulator - INFO - Date = 2020-04-09 09:00:00, number of deaths =  8, number of infected = 14137\n",
      "2020-06-15 23:31:08,593 - june.simulator - INFO - Date = 2020-04-09 10:00:00, number of deaths =  8, number of infected = 14179\n",
      "2020-06-15 23:31:08,914 - june.simulator - INFO - Date = 2020-04-09 13:00:00, number of deaths =  8, number of infected = 14222\n",
      "2020-06-15 23:31:09,355 - june.simulator - INFO - Date = 2020-04-10 00:00:00, number of deaths =  8, number of infected = 14557\n",
      "2020-06-15 23:31:09,715 - june.simulator - INFO - Date = 2020-04-10 01:00:00, number of deaths =  8, number of infected = 14604\n",
      "2020-06-15 23:31:10,171 - june.simulator - INFO - Date = 2020-04-10 09:00:00, number of deaths =  8, number of infected = 15271\n",
      "2020-06-15 23:31:10,795 - june.simulator - INFO - Date = 2020-04-10 10:00:00, number of deaths =  8, number of infected = 15322\n",
      "2020-06-15 23:31:11,223 - june.simulator - INFO - Date = 2020-04-10 13:00:00, number of deaths =  8, number of infected = 15362\n",
      "2020-06-15 23:31:11,849 - june.simulator - INFO - Date = 2020-04-11 00:00:00, number of deaths =  8, number of infected = 15712\n",
      "2020-06-15 23:31:12,339 - june.simulator - INFO - Date = 2020-04-11 03:00:00, number of deaths =  8, number of infected = 15763\n",
      "2020-06-15 23:31:12,855 - june.simulator - INFO - Date = 2020-04-11 06:00:00, number of deaths =  9, number of infected = 15809\n",
      "2020-06-15 23:31:13,184 - june.simulator - INFO - Date = 2020-04-11 09:00:00, number of deaths =  9, number of infected = 15856\n",
      "2020-06-15 23:31:13,746 - june.simulator - INFO - Date = 2020-04-12 00:00:00, number of deaths =  11, number of infected = 16270\n",
      "2020-06-15 23:31:14,127 - june.simulator - INFO - Date = 2020-04-12 03:00:00, number of deaths =  12, number of infected = 16313\n",
      "2020-06-15 23:31:14,506 - june.simulator - INFO - Date = 2020-04-12 06:00:00, number of deaths =  12, number of infected = 16364\n",
      "2020-06-15 23:31:15,136 - june.simulator - INFO - Date = 2020-04-12 09:00:00, number of deaths =  12, number of infected = 16415\n",
      "2020-06-15 23:31:15,609 - june.simulator - INFO - Date = 2020-04-13 00:00:00, number of deaths =  12, number of infected = 16733\n",
      "2020-06-15 23:31:15,972 - june.simulator - INFO - Date = 2020-04-13 01:00:00, number of deaths =  12, number of infected = 16749\n",
      "2020-06-15 23:31:16,469 - june.simulator - INFO - Date = 2020-04-13 09:00:00, number of deaths =  13, number of infected = 17439\n",
      "2020-06-15 23:31:16,937 - june.simulator - INFO - Date = 2020-04-13 10:00:00, number of deaths =  13, number of infected = 17459\n",
      "2020-06-15 23:31:17,318 - june.simulator - INFO - Date = 2020-04-13 13:00:00, number of deaths =  13, number of infected = 17494\n",
      "2020-06-15 23:31:17,910 - june.simulator - INFO - Date = 2020-04-14 00:00:00, number of deaths =  14, number of infected = 17697\n",
      "2020-06-15 23:31:18,278 - june.simulator - INFO - Date = 2020-04-14 01:00:00, number of deaths =  14, number of infected = 17718\n",
      "2020-06-15 23:31:18,707 - june.simulator - INFO - Date = 2020-04-14 09:00:00, number of deaths =  15, number of infected = 18165\n",
      "2020-06-15 23:31:19,138 - june.simulator - INFO - Date = 2020-04-14 10:00:00, number of deaths =  15, number of infected = 18164\n",
      "2020-06-15 23:31:19,579 - june.simulator - INFO - Date = 2020-04-14 13:00:00, number of deaths =  15, number of infected = 18185\n",
      "2020-06-15 23:31:20,279 - june.simulator - INFO - Date = 2020-04-15 00:00:00, number of deaths =  17, number of infected = 18243\n",
      "2020-06-15 23:31:20,646 - june.simulator - INFO - Date = 2020-04-15 01:00:00, number of deaths =  17, number of infected = 18241\n",
      "2020-06-15 23:31:21,132 - june.simulator - INFO - Date = 2020-04-15 09:00:00, number of deaths =  19, number of infected = 18549\n",
      "2020-06-15 23:31:21,520 - june.simulator - INFO - Date = 2020-04-15 10:00:00, number of deaths =  19, number of infected = 18552\n",
      "2020-06-15 23:31:21,864 - june.simulator - INFO - Date = 2020-04-15 13:00:00, number of deaths =  20, number of infected = 18557\n",
      "2020-06-15 23:31:22,285 - june.simulator - INFO - Date = 2020-04-16 00:00:00, number of deaths =  20, number of infected = 18531\n",
      "2020-06-15 23:31:22,675 - june.simulator - INFO - Date = 2020-04-16 01:00:00, number of deaths =  20, number of infected = 18526\n",
      "2020-06-15 23:31:23,132 - june.simulator - INFO - Date = 2020-04-16 09:00:00, number of deaths =  21, number of infected = 18697\n",
      "2020-06-15 23:31:23,527 - june.simulator - INFO - Date = 2020-04-16 10:00:00, number of deaths =  21, number of infected = 18699\n",
      "2020-06-15 23:31:23,861 - june.simulator - INFO - Date = 2020-04-16 13:00:00, number of deaths =  22, number of infected = 18709\n",
      "2020-06-15 23:31:24,248 - june.simulator - INFO - Date = 2020-04-17 00:00:00, number of deaths =  25, number of infected = 18692\n"
     ]
    },
    {
     "name": "stdout",
     "output_type": "stream",
     "text": [
      "2020-06-15 23:31:24,608 - june.simulator - INFO - Date = 2020-04-17 01:00:00, number of deaths =  25, number of infected = 18689\n",
      "2020-06-15 23:31:24,998 - june.simulator - INFO - Date = 2020-04-17 09:00:00, number of deaths =  26, number of infected = 18771\n",
      "2020-06-15 23:31:25,377 - june.simulator - INFO - Date = 2020-04-17 10:00:00, number of deaths =  26, number of infected = 18776\n",
      "2020-06-15 23:31:25,863 - june.simulator - INFO - Date = 2020-04-17 13:00:00, number of deaths =  26, number of infected = 18777\n",
      "2020-06-15 23:31:26,496 - june.simulator - INFO - Date = 2020-04-18 00:00:00, number of deaths =  26, number of infected = 18728\n",
      "2020-06-15 23:31:26,868 - june.simulator - INFO - Date = 2020-04-18 03:00:00, number of deaths =  27, number of infected = 18709\n",
      "2020-06-15 23:31:27,256 - june.simulator - INFO - Date = 2020-04-18 06:00:00, number of deaths =  27, number of infected = 18689\n",
      "2020-06-15 23:31:27,636 - june.simulator - INFO - Date = 2020-04-18 09:00:00, number of deaths =  29, number of infected = 18675\n",
      "2020-06-15 23:31:28,059 - june.simulator - INFO - Date = 2020-04-19 00:00:00, number of deaths =  29, number of infected = 18562\n",
      "2020-06-15 23:31:28,416 - june.simulator - INFO - Date = 2020-04-19 03:00:00, number of deaths =  30, number of infected = 18544\n",
      "2020-06-15 23:31:28,827 - june.simulator - INFO - Date = 2020-04-19 06:00:00, number of deaths =  30, number of infected = 18526\n",
      "2020-06-15 23:31:29,173 - june.simulator - INFO - Date = 2020-04-19 09:00:00, number of deaths =  31, number of infected = 18511\n",
      "2020-06-15 23:31:29,562 - june.simulator - INFO - Date = 2020-04-20 00:00:00, number of deaths =  35, number of infected = 18327\n",
      "2020-06-15 23:31:30,071 - june.simulator - INFO - Date = 2020-04-20 01:00:00, number of deaths =  35, number of infected = 18322\n",
      "2020-06-15 23:31:30,456 - june.simulator - INFO - Date = 2020-04-20 09:00:00, number of deaths =  36, number of infected = 18287\n",
      "2020-06-15 23:31:30,860 - june.simulator - INFO - Date = 2020-04-20 10:00:00, number of deaths =  36, number of infected = 18279\n",
      "2020-06-15 23:31:31,180 - june.simulator - INFO - Date = 2020-04-20 13:00:00, number of deaths =  36, number of infected = 18255\n",
      "2020-06-15 23:31:31,560 - june.simulator - INFO - Date = 2020-04-21 00:00:00, number of deaths =  38, number of infected = 18068\n",
      "2020-06-15 23:31:31,928 - june.simulator - INFO - Date = 2020-04-21 01:00:00, number of deaths =  38, number of infected = 18048\n",
      "2020-06-15 23:31:32,352 - june.simulator - INFO - Date = 2020-04-21 09:00:00, number of deaths =  40, number of infected = 17940\n",
      "2020-06-15 23:31:32,766 - june.simulator - INFO - Date = 2020-04-21 10:00:00, number of deaths =  41, number of infected = 17913\n",
      "2020-06-15 23:31:33,091 - june.simulator - INFO - Date = 2020-04-21 13:00:00, number of deaths =  41, number of infected = 17865\n",
      "2020-06-15 23:31:33,452 - june.simulator - INFO - Date = 2020-04-22 00:00:00, number of deaths =  42, number of infected = 17613\n",
      "2020-06-15 23:31:33,784 - june.simulator - INFO - Date = 2020-04-22 01:00:00, number of deaths =  42, number of infected = 17587\n",
      "2020-06-15 23:31:34,138 - june.simulator - INFO - Date = 2020-04-22 09:00:00, number of deaths =  45, number of infected = 17406\n",
      "2020-06-15 23:31:34,484 - june.simulator - INFO - Date = 2020-04-22 10:00:00, number of deaths =  46, number of infected = 17381\n",
      "2020-06-15 23:31:34,795 - june.simulator - INFO - Date = 2020-04-22 13:00:00, number of deaths =  47, number of infected = 17327\n",
      "2020-06-15 23:31:35,156 - june.simulator - INFO - Date = 2020-04-23 00:00:00, number of deaths =  48, number of infected = 17009\n",
      "2020-06-15 23:31:35,499 - june.simulator - INFO - Date = 2020-04-23 01:00:00, number of deaths =  48, number of infected = 16985\n",
      "2020-06-15 23:31:35,833 - june.simulator - INFO - Date = 2020-04-23 09:00:00, number of deaths =  52, number of infected = 16795\n",
      "2020-06-15 23:31:36,368 - june.simulator - INFO - Date = 2020-04-23 10:00:00, number of deaths =  53, number of infected = 16770\n",
      "2020-06-15 23:31:36,673 - june.simulator - INFO - Date = 2020-04-23 13:00:00, number of deaths =  53, number of infected = 16699\n",
      "2020-06-15 23:31:37,010 - june.simulator - INFO - Date = 2020-04-24 00:00:00, number of deaths =  56, number of infected = 16353\n",
      "2020-06-15 23:31:37,328 - june.simulator - INFO - Date = 2020-04-24 01:00:00, number of deaths =  56, number of infected = 16329\n",
      "2020-06-15 23:31:37,869 - june.simulator - INFO - Date = 2020-04-24 09:00:00, number of deaths =  57, number of infected = 16079\n",
      "2020-06-15 23:31:38,222 - june.simulator - INFO - Date = 2020-04-24 10:00:00, number of deaths =  57, number of infected = 16044\n",
      "2020-06-15 23:31:38,526 - june.simulator - INFO - Date = 2020-04-24 13:00:00, number of deaths =  59, number of infected = 15967\n",
      "2020-06-15 23:31:38,892 - june.simulator - INFO - Date = 2020-04-25 00:00:00, number of deaths =  62, number of infected = 15607\n",
      "2020-06-15 23:31:39,332 - june.simulator - INFO - Date = 2020-04-25 03:00:00, number of deaths =  62, number of infected = 15516\n",
      "2020-06-15 23:31:39,766 - june.simulator - INFO - Date = 2020-04-25 06:00:00, number of deaths =  62, number of infected = 15412\n",
      "2020-06-15 23:31:40,059 - june.simulator - INFO - Date = 2020-04-25 09:00:00, number of deaths =  63, number of infected = 15321\n",
      "2020-06-15 23:31:40,446 - june.simulator - INFO - Date = 2020-04-26 00:00:00, number of deaths =  66, number of infected = 14840\n",
      "2020-06-15 23:31:40,766 - june.simulator - INFO - Date = 2020-04-26 03:00:00, number of deaths =  67, number of infected = 14742\n",
      "2020-06-15 23:31:41,142 - june.simulator - INFO - Date = 2020-04-26 06:00:00, number of deaths =  67, number of infected = 14650\n",
      "2020-06-15 23:31:41,440 - june.simulator - INFO - Date = 2020-04-26 09:00:00, number of deaths =  68, number of infected = 14556\n",
      "2020-06-15 23:31:41,791 - june.simulator - INFO - Date = 2020-04-27 00:00:00, number of deaths =  75, number of infected = 14014\n",
      "2020-06-15 23:31:42,083 - june.simulator - INFO - Date = 2020-04-27 01:00:00, number of deaths =  78, number of infected = 13981\n",
      "2020-06-15 23:31:42,402 - june.simulator - INFO - Date = 2020-04-27 09:00:00, number of deaths =  79, number of infected = 13700\n",
      "2020-06-15 23:31:42,813 - june.simulator - INFO - Date = 2020-04-27 10:00:00, number of deaths =  80, number of infected = 13661\n",
      "2020-06-15 23:31:43,264 - june.simulator - INFO - Date = 2020-04-27 13:00:00, number of deaths =  81, number of infected = 13557\n",
      "2020-06-15 23:31:43,679 - june.simulator - INFO - Date = 2020-04-28 00:00:00, number of deaths =  84, number of infected = 13137\n",
      "2020-06-15 23:31:43,982 - june.simulator - INFO - Date = 2020-04-28 01:00:00, number of deaths =  85, number of infected = 13096\n",
      "2020-06-15 23:31:44,307 - june.simulator - INFO - Date = 2020-04-28 09:00:00, number of deaths =  89, number of infected = 12787\n",
      "2020-06-15 23:31:44,637 - june.simulator - INFO - Date = 2020-04-28 10:00:00, number of deaths =  90, number of infected = 12751\n",
      "2020-06-15 23:31:44,914 - june.simulator - INFO - Date = 2020-04-28 13:00:00, number of deaths =  91, number of infected = 12632\n",
      "2020-06-15 23:31:45,218 - june.simulator - INFO - Date = 2020-04-29 00:00:00, number of deaths =  91, number of infected = 12200\n",
      "2020-06-15 23:31:45,590 - june.simulator - INFO - Date = 2020-04-29 01:00:00, number of deaths =  91, number of infected = 12148\n",
      "2020-06-15 23:31:45,884 - june.simulator - INFO - Date = 2020-04-29 09:00:00, number of deaths =  94, number of infected = 11848\n",
      "2020-06-15 23:31:46,194 - june.simulator - INFO - Date = 2020-04-29 10:00:00, number of deaths =  95, number of infected = 11803\n",
      "2020-06-15 23:31:46,456 - june.simulator - INFO - Date = 2020-04-29 13:00:00, number of deaths =  97, number of infected = 11685\n",
      "2020-06-15 23:31:46,739 - june.simulator - INFO - Date = 2020-04-30 00:00:00, number of deaths =  102, number of infected = 11206\n",
      "2020-06-15 23:31:47,017 - june.simulator - INFO - Date = 2020-04-30 01:00:00, number of deaths =  103, number of infected = 11154\n",
      "2020-06-15 23:31:47,293 - june.simulator - INFO - Date = 2020-04-30 09:00:00, number of deaths =  106, number of infected = 10853\n",
      "2020-06-15 23:31:47,589 - june.simulator - INFO - Date = 2020-04-30 10:00:00, number of deaths =  107, number of infected = 10818\n"
     ]
    },
    {
     "name": "stdout",
     "output_type": "stream",
     "text": [
      "2020-06-15 23:31:47,833 - june.simulator - INFO - Date = 2020-04-30 13:00:00, number of deaths =  109, number of infected = 10721\n",
      "2020-06-15 23:31:48,100 - june.simulator - INFO - Date = 2020-05-01 00:00:00, number of deaths =  112, number of infected = 10250\n",
      "2020-06-15 23:31:48,366 - june.simulator - INFO - Date = 2020-05-01 01:00:00, number of deaths =  112, number of infected = 10211\n",
      "2020-06-15 23:31:48,632 - june.simulator - INFO - Date = 2020-05-01 09:00:00, number of deaths =  116, number of infected = 9888\n",
      "2020-06-15 23:31:48,921 - june.simulator - INFO - Date = 2020-05-01 10:00:00, number of deaths =  116, number of infected = 9851\n",
      "2020-06-15 23:31:49,158 - june.simulator - INFO - Date = 2020-05-01 13:00:00, number of deaths =  117, number of infected = 9715\n",
      "2020-06-15 23:31:49,452 - june.simulator - INFO - Date = 2020-05-02 00:00:00, number of deaths =  121, number of infected = 9279\n",
      "2020-06-15 23:31:49,725 - june.simulator - INFO - Date = 2020-05-02 03:00:00, number of deaths =  121, number of infected = 9156\n",
      "2020-06-15 23:31:49,994 - june.simulator - INFO - Date = 2020-05-02 06:00:00, number of deaths =  122, number of infected = 9029\n",
      "2020-06-15 23:31:50,220 - june.simulator - INFO - Date = 2020-05-02 09:00:00, number of deaths =  124, number of infected = 8894\n",
      "2020-06-15 23:31:50,516 - june.simulator - INFO - Date = 2020-05-03 00:00:00, number of deaths =  127, number of infected = 8321\n",
      "2020-06-15 23:31:50,793 - june.simulator - INFO - Date = 2020-05-03 03:00:00, number of deaths =  128, number of infected = 8207\n",
      "2020-06-15 23:31:51,075 - june.simulator - INFO - Date = 2020-05-03 06:00:00, number of deaths =  128, number of infected = 8105\n",
      "2020-06-15 23:31:51,296 - june.simulator - INFO - Date = 2020-05-03 09:00:00, number of deaths =  128, number of infected = 8020\n",
      "2020-06-15 23:31:51,555 - june.simulator - INFO - Date = 2020-05-04 00:00:00, number of deaths =  134, number of infected = 7494\n",
      "2020-06-15 23:31:51,806 - june.simulator - INFO - Date = 2020-05-04 01:00:00, number of deaths =  134, number of infected = 7456\n",
      "2020-06-15 23:31:52,061 - june.simulator - INFO - Date = 2020-05-04 09:00:00, number of deaths =  135, number of infected = 7183\n",
      "2020-06-15 23:31:52,359 - june.simulator - INFO - Date = 2020-05-04 10:00:00, number of deaths =  135, number of infected = 7148\n",
      "2020-06-15 23:31:52,592 - june.simulator - INFO - Date = 2020-05-04 13:00:00, number of deaths =  136, number of infected = 7033\n",
      "2020-06-15 23:31:52,893 - june.simulator - INFO - Date = 2020-05-05 00:00:00, number of deaths =  140, number of infected = 6672\n",
      "2020-06-15 23:31:53,208 - june.simulator - INFO - Date = 2020-05-05 01:00:00, number of deaths =  142, number of infected = 6636\n",
      "2020-06-15 23:31:53,448 - june.simulator - INFO - Date = 2020-05-05 09:00:00, number of deaths =  146, number of infected = 6371\n",
      "2020-06-15 23:31:53,799 - june.simulator - INFO - Date = 2020-05-05 10:00:00, number of deaths =  146, number of infected = 6330\n",
      "2020-06-15 23:31:54,014 - june.simulator - INFO - Date = 2020-05-05 13:00:00, number of deaths =  146, number of infected = 6242\n",
      "2020-06-15 23:31:54,255 - june.simulator - INFO - Date = 2020-05-06 00:00:00, number of deaths =  149, number of infected = 5939\n",
      "2020-06-15 23:31:54,479 - june.simulator - INFO - Date = 2020-05-06 01:00:00, number of deaths =  150, number of infected = 5905\n",
      "2020-06-15 23:31:54,848 - june.simulator - INFO - Date = 2020-05-06 09:00:00, number of deaths =  151, number of infected = 5656\n",
      "2020-06-15 23:31:55,103 - june.simulator - INFO - Date = 2020-05-06 10:00:00, number of deaths =  151, number of infected = 5630\n",
      "2020-06-15 23:31:55,359 - june.simulator - INFO - Date = 2020-05-06 13:00:00, number of deaths =  151, number of infected = 5536\n",
      "2020-06-15 23:31:55,594 - june.simulator - INFO - Date = 2020-05-07 00:00:00, number of deaths =  154, number of infected = 5215\n",
      "2020-06-15 23:31:55,817 - june.simulator - INFO - Date = 2020-05-07 01:00:00, number of deaths =  154, number of infected = 5178\n",
      "2020-06-15 23:31:56,062 - june.simulator - INFO - Date = 2020-05-07 09:00:00, number of deaths =  157, number of infected = 4965\n",
      "2020-06-15 23:31:56,364 - june.simulator - INFO - Date = 2020-05-07 10:00:00, number of deaths =  157, number of infected = 4943\n",
      "2020-06-15 23:31:56,551 - june.simulator - INFO - Date = 2020-05-07 13:00:00, number of deaths =  157, number of infected = 4854\n",
      "2020-06-15 23:31:56,767 - june.simulator - INFO - Date = 2020-05-08 00:00:00, number of deaths =  157, number of infected = 4584\n",
      "2020-06-15 23:31:57,103 - june.simulator - INFO - Date = 2020-05-08 01:00:00, number of deaths =  157, number of infected = 4565\n",
      "2020-06-15 23:31:57,343 - june.simulator - INFO - Date = 2020-05-08 09:00:00, number of deaths =  157, number of infected = 4379\n",
      "2020-06-15 23:31:57,670 - june.simulator - INFO - Date = 2020-05-08 10:00:00, number of deaths =  157, number of infected = 4346\n",
      "2020-06-15 23:31:57,866 - june.simulator - INFO - Date = 2020-05-08 13:00:00, number of deaths =  157, number of infected = 4272\n",
      "2020-06-15 23:31:58,163 - june.simulator - INFO - Date = 2020-05-09 00:00:00, number of deaths =  160, number of infected = 4014\n",
      "2020-06-15 23:31:58,418 - june.simulator - INFO - Date = 2020-05-09 03:00:00, number of deaths =  161, number of infected = 3948\n",
      "2020-06-15 23:31:58,662 - june.simulator - INFO - Date = 2020-05-09 06:00:00, number of deaths =  161, number of infected = 3892\n",
      "2020-06-15 23:31:58,939 - june.simulator - INFO - Date = 2020-05-09 09:00:00, number of deaths =  162, number of infected = 3830\n",
      "2020-06-15 23:31:59,229 - june.simulator - INFO - Date = 2020-05-10 00:00:00, number of deaths =  165, number of infected = 3509\n",
      "2020-06-15 23:31:59,450 - june.simulator - INFO - Date = 2020-05-10 03:00:00, number of deaths =  167, number of infected = 3441\n",
      "2020-06-15 23:31:59,670 - june.simulator - INFO - Date = 2020-05-10 06:00:00, number of deaths =  168, number of infected = 3371\n",
      "2020-06-15 23:31:59,843 - june.simulator - INFO - Date = 2020-05-10 09:00:00, number of deaths =  169, number of infected = 3318\n",
      "2020-06-15 23:32:00,062 - june.simulator - INFO - Date = 2020-05-11 00:00:00, number of deaths =  170, number of infected = 3033\n",
      "2020-06-15 23:32:00,262 - june.simulator - INFO - Date = 2020-05-11 01:00:00, number of deaths =  170, number of infected = 3016\n",
      "2020-06-15 23:32:00,467 - june.simulator - INFO - Date = 2020-05-11 09:00:00, number of deaths =  171, number of infected = 2870\n",
      "2020-06-15 23:32:00,696 - june.simulator - INFO - Date = 2020-05-11 10:00:00, number of deaths =  171, number of infected = 2849\n",
      "2020-06-15 23:32:00,863 - june.simulator - INFO - Date = 2020-05-11 13:00:00, number of deaths =  173, number of infected = 2792\n",
      "2020-06-15 23:32:01,061 - june.simulator - INFO - Date = 2020-05-12 00:00:00, number of deaths =  175, number of infected = 2606\n",
      "2020-06-15 23:32:01,264 - june.simulator - INFO - Date = 2020-05-12 01:00:00, number of deaths =  175, number of infected = 2592\n",
      "2020-06-15 23:32:01,466 - june.simulator - INFO - Date = 2020-05-12 09:00:00, number of deaths =  176, number of infected = 2477\n",
      "2020-06-15 23:32:01,696 - june.simulator - INFO - Date = 2020-05-12 10:00:00, number of deaths =  176, number of infected = 2464\n",
      "2020-06-15 23:32:01,862 - june.simulator - INFO - Date = 2020-05-12 13:00:00, number of deaths =  176, number of infected = 2416\n",
      "2020-06-15 23:32:02,063 - june.simulator - INFO - Date = 2020-05-13 00:00:00, number of deaths =  180, number of infected = 2244\n",
      "2020-06-15 23:32:02,266 - june.simulator - INFO - Date = 2020-05-13 01:00:00, number of deaths =  180, number of infected = 2236\n",
      "2020-06-15 23:32:02,455 - june.simulator - INFO - Date = 2020-05-13 09:00:00, number of deaths =  181, number of infected = 2127\n",
      "2020-06-15 23:32:02,676 - june.simulator - INFO - Date = 2020-05-13 10:00:00, number of deaths =  181, number of infected = 2119\n",
      "2020-06-15 23:32:02,839 - june.simulator - INFO - Date = 2020-05-13 13:00:00, number of deaths =  181, number of infected = 2078\n",
      "2020-06-15 23:32:03,044 - june.simulator - INFO - Date = 2020-05-14 00:00:00, number of deaths =  183, number of infected = 1921\n",
      "2020-06-15 23:32:03,232 - june.simulator - INFO - Date = 2020-05-14 01:00:00, number of deaths =  183, number of infected = 1906\n"
     ]
    },
    {
     "name": "stdout",
     "output_type": "stream",
     "text": [
      "2020-06-15 23:32:03,422 - june.simulator - INFO - Date = 2020-05-14 09:00:00, number of deaths =  184, number of infected = 1815\n",
      "2020-06-15 23:32:03,653 - june.simulator - INFO - Date = 2020-05-14 10:00:00, number of deaths =  184, number of infected = 1804\n",
      "2020-06-15 23:32:03,822 - june.simulator - INFO - Date = 2020-05-14 13:00:00, number of deaths =  184, number of infected = 1770\n",
      "2020-06-15 23:32:04,053 - june.simulator - INFO - Date = 2020-05-15 00:00:00, number of deaths =  186, number of infected = 1651\n",
      "2020-06-15 23:32:04,248 - june.simulator - INFO - Date = 2020-05-15 01:00:00, number of deaths =  186, number of infected = 1644\n",
      "2020-06-15 23:32:04,430 - june.simulator - INFO - Date = 2020-05-15 09:00:00, number of deaths =  187, number of infected = 1568\n",
      "2020-06-15 23:32:04,645 - june.simulator - INFO - Date = 2020-05-15 10:00:00, number of deaths =  188, number of infected = 1561\n",
      "2020-06-15 23:32:04,873 - june.simulator - INFO - Date = 2020-05-15 13:00:00, number of deaths =  188, number of infected = 1540\n",
      "2020-06-15 23:32:05,270 - june.simulator - INFO - Date = 2020-05-16 00:00:00, number of deaths =  191, number of infected = 1435\n",
      "CPU times: user 1min 56s, sys: 3 s, total: 1min 59s\n",
      "Wall time: 1min 55s\n"
     ]
    }
   ],
   "source": [
    "%%time\n",
    "simulator.run()"
   ]
  },
  {
   "cell_type": "markdown",
   "metadata": {},
   "source": [
    "While the simulation runs (and afterwards) we can launch the visualization webpage by running\n",
    "```python june/visualizer.py path/to/results``` "
   ]
  },
  {
   "cell_type": "markdown",
   "metadata": {},
   "source": [
    "# Getting the results"
   ]
  },
  {
   "cell_type": "markdown",
   "metadata": {},
   "source": [
    "All results are stored in a json file specified in the ``save_path`` variable in the config file. We can also access it from ``world.logger`` directly."
   ]
  },
  {
   "cell_type": "code",
   "execution_count": 33,
   "metadata": {},
   "outputs": [],
   "source": [
    "import pandas as pd"
   ]
  },
  {
   "cell_type": "code",
   "execution_count": 63,
   "metadata": {},
   "outputs": [],
   "source": [
    "read = ReadLogger()"
   ]
  },
  {
   "cell_type": "markdown",
   "metadata": {},
   "source": [
    "## Hospital data and how it changed over time"
   ]
  },
  {
   "cell_type": "code",
   "execution_count": 64,
   "metadata": {},
   "outputs": [],
   "source": [
    "hospitals_df = read.load_hospital_capacity()"
   ]
  },
  {
   "cell_type": "code",
   "execution_count": 65,
   "metadata": {},
   "outputs": [
    {
     "data": {
      "text/html": [
       "<div>\n",
       "<style scoped>\n",
       "    .dataframe tbody tr th:only-of-type {\n",
       "        vertical-align: middle;\n",
       "    }\n",
       "\n",
       "    .dataframe tbody tr th {\n",
       "        vertical-align: top;\n",
       "    }\n",
       "\n",
       "    .dataframe thead th {\n",
       "        text-align: right;\n",
       "    }\n",
       "</style>\n",
       "<table border=\"1\" class=\"dataframe\">\n",
       "  <thead>\n",
       "    <tr style=\"text-align: right;\">\n",
       "      <th></th>\n",
       "      <th>time_stamp</th>\n",
       "      <th>id</th>\n",
       "      <th>n_patients</th>\n",
       "      <th>n_patients_icu</th>\n",
       "    </tr>\n",
       "  </thead>\n",
       "  <tbody>\n",
       "    <tr>\n",
       "      <th>0</th>\n",
       "      <td>2020-03-07T03:00:00.000000</td>\n",
       "      <td>0</td>\n",
       "      <td>0</td>\n",
       "      <td>0</td>\n",
       "    </tr>\n",
       "    <tr>\n",
       "      <th>1</th>\n",
       "      <td>2020-03-07T06:00:00.000000</td>\n",
       "      <td>0</td>\n",
       "      <td>0</td>\n",
       "      <td>0</td>\n",
       "    </tr>\n",
       "    <tr>\n",
       "      <th>2</th>\n",
       "      <td>2020-03-07T09:00:00.000000</td>\n",
       "      <td>0</td>\n",
       "      <td>0</td>\n",
       "      <td>0</td>\n",
       "    </tr>\n",
       "  </tbody>\n",
       "</table>\n",
       "</div>"
      ],
      "text/plain": [
       "                   time_stamp id n_patients n_patients_icu\n",
       "0  2020-03-07T03:00:00.000000  0          0              0\n",
       "1  2020-03-07T06:00:00.000000  0          0              0\n",
       "2  2020-03-07T09:00:00.000000  0          0              0"
      ]
     },
     "execution_count": 65,
     "metadata": {},
     "output_type": "execute_result"
    }
   ],
   "source": [
    "hospitals_df.head(3)"
   ]
  },
  {
   "cell_type": "code",
   "execution_count": 47,
   "metadata": {},
   "outputs": [],
   "source": [
    "hospitals_characteristics_df = read.load_hospital_characteristics()"
   ]
  },
  {
   "cell_type": "code",
   "execution_count": 48,
   "metadata": {},
   "outputs": [
    {
     "data": {
      "text/html": [
       "<div>\n",
       "<style scoped>\n",
       "    .dataframe tbody tr th:only-of-type {\n",
       "        vertical-align: middle;\n",
       "    }\n",
       "\n",
       "    .dataframe tbody tr th {\n",
       "        vertical-align: top;\n",
       "    }\n",
       "\n",
       "    .dataframe thead th {\n",
       "        text-align: right;\n",
       "    }\n",
       "</style>\n",
       "<table border=\"1\" class=\"dataframe\">\n",
       "  <thead>\n",
       "    <tr style=\"text-align: right;\">\n",
       "      <th></th>\n",
       "      <th>longitude</th>\n",
       "      <th>latitude</th>\n",
       "      <th>n_beds</th>\n",
       "      <th>n_icu_beds</th>\n",
       "      <th>trust_code</th>\n",
       "    </tr>\n",
       "  </thead>\n",
       "  <tbody>\n",
       "    <tr>\n",
       "      <th>0</th>\n",
       "      <td>0.688477</td>\n",
       "      <td>51.5625</td>\n",
       "      <td>2115</td>\n",
       "      <td>296</td>\n",
       "      <td>RAJ</td>\n",
       "    </tr>\n",
       "  </tbody>\n",
       "</table>\n",
       "</div>"
      ],
      "text/plain": [
       "   longitude  latitude  n_beds  n_icu_beds trust_code\n",
       "0   0.688477   51.5625    2115         296        RAJ"
      ]
     },
     "execution_count": 48,
     "metadata": {},
     "output_type": "execute_result"
    }
   ],
   "source": [
    "hospitals_characteristics_df"
   ]
  },
  {
   "cell_type": "markdown",
   "metadata": {},
   "source": [
    "## where did infections happen?"
   ]
  },
  {
   "cell_type": "code",
   "execution_count": null,
   "metadata": {},
   "outputs": [],
   "source": [
    "loc_df = read.get_locations_infections()"
   ]
  },
  {
   "cell_type": "code",
   "execution_count": null,
   "metadata": {},
   "outputs": [],
   "source": [
    "import matplotlib.ticker as mtick\n",
    "\n",
    "ax = loc_df['percentage_infections'].sort_values().plot.bar()\n",
    "ax.yaxis.set_major_formatter(mtick.PercentFormatter())\n",
    "plt.ylabel('Percentage of infections at location')\n",
    "plt.xlabel('location')"
   ]
  },
  {
   "cell_type": "markdown",
   "metadata": {},
   "source": [
    "## rate of infection"
   ]
  },
  {
   "cell_type": "code",
   "execution_count": null,
   "metadata": {},
   "outputs": [],
   "source": [
    "r_df = read.get_r()"
   ]
  },
  {
   "cell_type": "code",
   "execution_count": null,
   "metadata": {},
   "outputs": [],
   "source": [
    "r_df.plot()\n",
    "plt.axvspan(policies.social_distancing_start, \n",
    "            policies.social_distancing_end,\n",
    "            facecolor='y', alpha=0.2)\n",
    "plt.axhline(y=1, linestyle='dashed', color='gray')\n",
    "plt.xlabel('Date')\n",
    "plt.ylabel('R')"
   ]
  },
  {
   "cell_type": "markdown",
   "metadata": {},
   "source": [
    "## World infection curves, and by super area"
   ]
  },
  {
   "cell_type": "code",
   "execution_count": 49,
   "metadata": {},
   "outputs": [],
   "source": [
    "world_df = read.world_summary()"
   ]
  },
  {
   "cell_type": "code",
   "execution_count": 50,
   "metadata": {},
   "outputs": [
    {
     "data": {
      "text/plain": [
       "<matplotlib.legend.Legend at 0x7f561c657850>"
      ]
     },
     "execution_count": 50,
     "metadata": {},
     "output_type": "execute_result"
    },
    {
     "data": {
      "image/png": "[encoded data removed]",
      "text/plain": [
       "<Figure size 432x288 with 1 Axes>"
      ]
     },
     "metadata": {
      "needs_background": "light"
     },
     "output_type": "display_data"
    }
   ],
   "source": [
    "world_df.plot()\n",
    "plt.axvspan(policies.social_distancing_start, \n",
    "            policies.social_distancing_end,\n",
    "            facecolor='y', alpha=0.2)\n",
    "plt.legend()"
   ]
  },
  {
   "cell_type": "code",
   "execution_count": 51,
   "metadata": {},
   "outputs": [],
   "source": [
    "area_df = read.super_area_summary()"
   ]
  },
  {
   "cell_type": "code",
   "execution_count": 52,
   "metadata": {},
   "outputs": [
    {
     "data": {
      "text/plain": [
       "<matplotlib.legend.Legend at 0x7f561ca95700>"
      ]
     },
     "execution_count": 52,
     "metadata": {},
     "output_type": "execute_result"
    },
    {
     "data": {
      "image/png": "[encoded data removed]",
      "text/plain": [
       "<Figure size 432x288 with 1 Axes>"
      ]
     },
     "metadata": {
      "needs_background": "light"
     },
     "output_type": "display_data"
    }
   ],
   "source": [
    "area_df[area_df.super_area == \"E02002512\"].plot()\n",
    "plt.legend()"
   ]
  },
  {
   "cell_type": "markdown",
   "metadata": {},
   "source": [
    "## World infection curves per age group"
   ]
  },
  {
   "cell_type": "code",
   "execution_count": 54,
   "metadata": {},
   "outputs": [],
   "source": [
    "ages_df = read.age_summary([0,10,20,30,40,\n",
    "                  50,60,70,80,90,100])"
   ]
  },
  {
   "cell_type": "code",
   "execution_count": 55,
   "metadata": {},
   "outputs": [
    {
     "data": {
      "text/plain": [
       "<matplotlib.legend.Legend at 0x7f561c739190>"
      ]
     },
     "execution_count": 55,
     "metadata": {},
     "output_type": "execute_result"
    },
    {
     "data": {
      "image/png": "[encoded data removed]",
      "text/plain": [
       "<Figure size 432x288 with 1 Axes>"
      ]
     },
     "metadata": {
      "needs_background": "light"
     },
     "output_type": "display_data"
    }
   ],
   "source": [
    "for name, group in ages_df.groupby('age_range'):\n",
    "    group['infected'].plot(label=name)\n",
    "plt.axvspan(policies.social_distancing_start, \n",
    "            policies.social_distancing_end,\n",
    "            facecolor='y', alpha=0.2)\n",
    "plt.legend()"
   ]
  },
  {
   "cell_type": "code",
   "execution_count": 56,
   "metadata": {},
   "outputs": [
    {
     "data": {
      "text/plain": [
       "<matplotlib.legend.Legend at 0x7f561c72d340>"
      ]
     },
     "execution_count": 56,
     "metadata": {},
     "output_type": "execute_result"
    },
    {
     "data": {
      "image/png": "[encoded data removed]",
      "text/plain": [
       "<Figure size 432x288 with 1 Axes>"
      ]
     },
     "metadata": {
      "needs_background": "light"
     },
     "output_type": "display_data"
    }
   ],
   "source": [
    "for name, group in ages_df.groupby('age_range'):\n",
    "    group['dead'].cumsum().plot(label=name)\n",
    "plt.legend()"
   ]
  },
  {
   "cell_type": "code",
   "execution_count": 57,
   "metadata": {},
   "outputs": [
    {
     "data": {
      "text/plain": [
       "<matplotlib.legend.Legend at 0x7f561d4e0550>"
      ]
     },
     "execution_count": 57,
     "metadata": {},
     "output_type": "execute_result"
    },
    {
     "data": {
      "image/png": "[encoded data removed]",
      "text/plain": [
       "<Figure size 432x288 with 1 Axes>"
      ]
     },
     "metadata": {
      "needs_background": "light"
     },
     "output_type": "display_data"
    }
   ],
   "source": [
    "for name, group in ages_df.groupby('age_range'):\n",
    "    group['susceptible'].plot(label=name)\n",
    "plt.legend()"
   ]
  },
  {
   "cell_type": "markdown",
   "metadata": {},
   "source": [
    "## Draw some of the symptoms trajectories"
   ]
  },
  {
   "cell_type": "code",
   "execution_count": 58,
   "metadata": {},
   "outputs": [],
   "source": [
    "random_trajectories = read.draw_symptom_trajectories(window_length=200,\n",
    "                                        n_people=5)"
   ]
  },
  {
   "cell_type": "code",
   "execution_count": 59,
   "metadata": {},
   "outputs": [],
   "source": [
    "from june.infection import SymptomTag"
   ]
  },
  {
   "cell_type": "code",
   "execution_count": 60,
   "metadata": {},
   "outputs": [],
   "source": [
    "symptoms_values = [tag.value for tag in SymptomTag]\n",
    "symptoms_names = [tag.name for tag in SymptomTag]\n"
   ]
  },
  {
   "cell_type": "code",
   "execution_count": 61,
   "metadata": {},
   "outputs": [
    {
     "data": {
      "text/plain": [
       "Text(0.5, 0, 'Date')"
      ]
     },
     "execution_count": 61,
     "metadata": {},
     "output_type": "execute_result"
    },
    {
     "data": {
      "image/png": "[encoded data removed]",
      "text/plain": [
       "<Figure size 432x288 with 1 Axes>"
      ]
     },
     "metadata": {
      "needs_background": "light"
     },
     "output_type": "display_data"
    }
   ],
   "source": [
    "for df_person in random_trajectories:\n",
    "    df_person['symptoms'].plot()\n",
    "plt.ylabel('Symptoms Trajectory')\n",
    "_ = plt.yticks(symptoms_values, symptoms_names)\n",
    "plt.xlabel('Date')"
   ]
  },
  {
   "cell_type": "code",
   "execution_count": 62,
   "metadata": {},
   "outputs": [
    {
     "data": {
      "text/plain": [
       "Text(0.5, 0, 'Date')"
      ]
     },
     "execution_count": 62,
     "metadata": {},
     "output_type": "execute_result"
    },
    {
     "data": {
      "image/png": "[encoded data removed]",
      "text/plain": [
       "<Figure size 432x288 with 1 Axes>"
      ]
     },
     "metadata": {
      "needs_background": "light"
     },
     "output_type": "display_data"
    }
   ],
   "source": [
    "for df_person in random_trajectories:\n",
    "    df_person['n_secondary_infections'].plot()\n",
    "plt.ylabel('Number of secondary infections')\n",
    "\n",
    "plt.xlabel('Date')"
   ]
  },
  {
   "cell_type": "code",
   "execution_count": null,
   "metadata": {},
   "outputs": [],
   "source": []
  },
  {
   "cell_type": "code",
   "execution_count": null,
   "metadata": {},
   "outputs": [],
   "source": []
  },
  {
   "cell_type": "code",
   "execution_count": null,
   "metadata": {},
   "outputs": [],
   "source": []
  }
 ],
 "metadata": {
  "kernelspec": {
   "display_name": "Python 3",
   "language": "python",
   "name": "python3"
  },
  "language_info": {
   "codemirror_mode": {
    "name": "ipython",
    "version": 3
   },
   "file_extension": ".py",
   "mimetype": "text/x-python",
   "name": "python",
   "nbconvert_exporter": "python",
   "pygments_lexer": "ipython3",
   "version": "3.8.3"
  }
 },
 "nbformat": 4,
 "nbformat_minor": 4
}
