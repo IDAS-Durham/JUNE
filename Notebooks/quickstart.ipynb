{
 "cells": [
  {
   "cell_type": "code",
   "execution_count": 1,
   "metadata": {},
   "outputs": [],
   "source": [
    "%load_ext autoreload\n",
    "%autoreload 2"
   ]
  },
  {
   "cell_type": "code",
   "execution_count": 2,
   "metadata": {},
   "outputs": [],
   "source": [
    "import numpy as np\n",
    "import time\n",
    "from datetime import datetime\n",
    "import matplotlib.pyplot as plt\n",
    "\n",
    " \n",
    "plt.style.use(['science','notebook'])\n",
    "plt.style.reload_library()"
   ]
  },
  {
   "cell_type": "code",
   "execution_count": 3,
   "metadata": {},
   "outputs": [
    {
     "name": "stderr",
     "output_type": "stream",
     "text": [
      "No --data argument given - defaulting to:\n",
      "/home/arnau/code/JUNE/data\n",
      "No --configs argument given - defaulting to:\n",
      "/home/arnau/code/JUNE/configs\n"
     ]
    }
   ],
   "source": [
    "from june import World \n",
    "from june.geography import Geography\n",
    "from june.demography import Demography\n",
    "from june.interaction import Interaction\n",
    "from june.infection import Infection, HealthIndexGenerator, InfectionSelector\n",
    "from june.infection.transmission import TransmissionConstant\n",
    "from june.groups import Hospitals, Schools, Companies, Households, CareHomes, Cemeteries, Universities\n",
    "from june.groups.leisure import generate_leisure_for_config, Cinemas, Pubs, Groceries\n",
    "from june.groups.travel import *\n",
    "from june.simulator import Simulator\n",
    "from june.infection_seed import InfectionSeed\n",
    "from june.policy import Policy, Policies\n",
    "from june import paths\n",
    "from june.hdf5_savers import load_geography_from_hdf5\n",
    "from june.logger import Logger\n",
    "from june.logger.read_logger import ReadLogger\n",
    "from june.world import generate_world_from_geography\n",
    "from june.hdf5_savers import generate_world_from_hdf5"
   ]
  },
  {
   "cell_type": "markdown",
   "metadata": {},
   "source": [
    "# Initialize world\n",
    "\n",
    "To initialize a certain world, we need to add the different components we want to have in it. First we specify what super areas (msoa) we want to create. We have included these ones, because they are known to contain hospitals, schools, care homes, and companies.\n",
    "\n",
    "After creating the geography, we create the different components the worlds need to have such as care homes, companies ..."
   ]
  },
  {
   "cell_type": "code",
   "execution_count": 4,
   "metadata": {},
   "outputs": [],
   "source": [
    "CONFIG_PATH = paths.configs_path / \"config_example.yaml\""
   ]
  },
  {
   "cell_type": "code",
   "execution_count": 5,
   "metadata": {},
   "outputs": [
    {
     "name": "stdout",
     "output_type": "stream",
     "text": [
      "2020-09-30 19:48:24,604 - june.geography.geography - INFO - There are 67 areas and 2 super_areas in the world.\n",
      "2020-09-30 19:48:24,610 - june.groups.hospital - INFO - There are 1 hospitals in this geography.\n",
      "2020-09-30 19:48:24,644 - june.groups.school - INFO - There are 7 schools in this geography.\n",
      "2020-09-30 19:48:24,653 - june.groups.school - INFO - No school for the age 0 in this world.\n",
      "2020-09-30 19:48:24,656 - june.groups.school - INFO - No school for the age 1 in this world.\n",
      "2020-09-30 19:48:24,686 - june.groups.school - INFO - No school for the age 12 in this world.\n",
      "2020-09-30 19:48:24,690 - june.groups.school - INFO - No school for the age 13 in this world.\n",
      "2020-09-30 19:48:24,898 - june.groups.carehome - INFO - There are 4 care_homes in this geography.\n",
      "2020-09-30 19:48:24,913 - june.groups.university - INFO - There are 3 universities in this world.\n",
      "2020-09-30 19:48:28,949 - june.world - INFO - Populating areas\n",
      "2020-09-30 19:48:29,129 - june.world - INFO - Areas populated. This world's population is: 19199\n",
      "2020-09-30 19:48:31,017 - june.distributors.worker_distributor - INFO - Distributing workers to super areas...\n",
      "2020-09-30 19:48:31,516 - june.distributors.worker_distributor - INFO - Workers distributed.\n",
      "2020-09-30 19:48:31,518 - june.distributors.carehome_distributor - INFO - Populating care homes\n",
      "2020-09-30 19:48:31,672 - june.distributors.carehome_distributor - INFO - This world has 78 people living in care homes.\n",
      "2020-09-30 19:48:31,685 - june.distributors.household_distributor - INFO - Distributing people to households\n",
      "2020-09-30 19:48:33,097 - june.distributors.household_distributor - INFO - People assigned to households. There are 9123 households in this world.\n",
      "2020-09-30 19:48:33,099 - june.distributors.school_distributor - INFO - Distributing kids to schools\n",
      "2020-09-30 19:48:33,100 - june.distributors.school_distributor - INFO - Distributed kids in 0 of 67 areas.\n",
      "2020-09-30 19:48:33,442 - june.distributors.school_distributor - INFO - Kids distributed to schools\n",
      "2020-09-30 19:48:33,449 - june.distributors.university_distributor - INFO - Distributing students to universities\n",
      "2020-09-30 19:48:34,146 - june.distributors.university_distributor - INFO - Distributed 5045 students to 3 universities\n",
      "2020-09-30 19:48:34,149 - june.distributors.hospital_distributor - INFO - Distributing medics to hospitals\n",
      "2020-09-30 19:48:34,150 - june.distributors.hospital_distributor - INFO - Medics distributed to hospitals\n",
      "2020-09-30 19:48:34,151 - june.distributors.company_distributor - INFO - Distributing workers to companies\n",
      "2020-09-30 19:48:34,152 - june.distributors.company_distributor - INFO - Distributed workers to companies in 0 of 2 super areas.\n",
      "2020-09-30 19:48:34,209 - june.distributors.company_distributor - INFO - Workers distributed to companies\n",
      "CPU times: user 9.22 s, sys: 646 ms, total: 9.87 s\n",
      "Wall time: 9.91 s\n"
     ]
    }
   ],
   "source": [
    "%%time \n",
    "\n",
    "geography = Geography.from_file(\n",
    "        {\n",
    "            \"super_area\": [\"E02001731\", \"E02002566\"]\n",
    "        }\n",
    ")\n",
    "\n",
    "geography.hospitals = Hospitals.for_geography(geography)\n",
    "geography.schools = Schools.for_geography(geography)\n",
    "geography.companies = Companies.for_geography(geography)\n",
    "geography.care_homes = CareHomes.for_geography(geography)\n",
    "geography.universities = Universities.for_super_areas(geography.super_areas)\n",
    "world = generate_world_from_geography(geography, include_households=True)\n"
   ]
  },
  {
   "cell_type": "markdown",
   "metadata": {},
   "source": [
    "## Commute, travel and leisure"
   ]
  },
  {
   "cell_type": "code",
   "execution_count": 6,
   "metadata": {},
   "outputs": [
    {
     "name": "stdout",
     "output_type": "stream",
     "text": [
      "2020-09-30 19:48:34,292 - june.groups.leisure.social_venue - INFO - Initialized 640 pubs(s)\n",
      "2020-09-30 19:48:34,299 - june.groups.leisure.social_venue - INFO - Initialized 6 cinemas(s)\n",
      "2020-09-30 19:48:34,330 - june.groups.leisure.social_venue - INFO - Initialized 55 groceries(s)\n"
     ]
    },
    {
     "ename": "AttributeError",
     "evalue": "'Leisure' object has no attribute 'distibute_social_venues_to_areas'",
     "output_type": "error",
     "traceback": [
      "\u001b[0;31m---------------------------------------------------------------------------\u001b[0m",
      "\u001b[0;31mAttributeError\u001b[0m                            Traceback (most recent call last)",
      "\u001b[0;32m<ipython-input-6-572c84d1a370>\u001b[0m in \u001b[0;36m<module>\u001b[0;34m\u001b[0m\n\u001b[1;32m      3\u001b[0m \u001b[0mworld\u001b[0m\u001b[0;34m.\u001b[0m\u001b[0mgroceries\u001b[0m \u001b[0;34m=\u001b[0m \u001b[0mGroceries\u001b[0m\u001b[0;34m.\u001b[0m\u001b[0mfor_geography\u001b[0m\u001b[0;34m(\u001b[0m\u001b[0mgeography\u001b[0m\u001b[0;34m)\u001b[0m\u001b[0;34m\u001b[0m\u001b[0;34m\u001b[0m\u001b[0m\n\u001b[1;32m      4\u001b[0m \u001b[0mleisure\u001b[0m \u001b[0;34m=\u001b[0m \u001b[0mgenerate_leisure_for_config\u001b[0m\u001b[0;34m(\u001b[0m\u001b[0mworld\u001b[0m\u001b[0;34m,\u001b[0m \u001b[0mconfig_filename\u001b[0m\u001b[0;34m=\u001b[0m\u001b[0mCONFIG_PATH\u001b[0m\u001b[0;34m)\u001b[0m\u001b[0;34m\u001b[0m\u001b[0;34m\u001b[0m\u001b[0m\n\u001b[0;32m----> 5\u001b[0;31m \u001b[0mleisure\u001b[0m\u001b[0;34m.\u001b[0m\u001b[0mdistibute_social_venues_to_areas\u001b[0m\u001b[0;34m(\u001b[0m\u001b[0mareas\u001b[0m\u001b[0;34m=\u001b[0m\u001b[0mworld\u001b[0m\u001b[0;34m.\u001b[0m\u001b[0mareas\u001b[0m\u001b[0;34m,\u001b[0m \u001b[0msuper_areas\u001b[0m\u001b[0;34m=\u001b[0m\u001b[0mworld\u001b[0m\u001b[0;34m.\u001b[0m\u001b[0msuper_areas\u001b[0m\u001b[0;34m)\u001b[0m\u001b[0;34m\u001b[0m\u001b[0;34m\u001b[0m\u001b[0m\n\u001b[0m",
      "\u001b[0;31mAttributeError\u001b[0m: 'Leisure' object has no attribute 'distibute_social_venues_to_areas'"
     ]
    }
   ],
   "source": [
    "world.pubs = Pubs.for_geography(geography)\n",
    "world.cinemas = Cinemas.for_geography(geography)\n",
    "world.groceries = Groceries.for_geography(geography)\n",
    "leisure = generate_leisure_for_config(world, config_filename=CONFIG_PATH)\n",
    "leisure.distibute_social_venues_to_areas(areas=world.areas, super_areas=world.super_areas)\n"
   ]
  },
  {
   "cell_type": "markdown",
   "metadata": {},
   "source": [
    "We are also going to need some cemeteries...geography.cemeteries = Cemeteries()\n"
   ]
  },
  {
   "cell_type": "code",
   "execution_count": null,
   "metadata": {},
   "outputs": [],
   "source": [
    "# initialise commuting\n",
    "travel = Travel()\n",
    "travel.initialise_commute(world)"
   ]
  },
  {
   "cell_type": "code",
   "execution_count": null,
   "metadata": {},
   "outputs": [],
   "source": [
    "world.cemeteries = Cemeteries()"
   ]
  },
  {
   "cell_type": "code",
   "execution_count": null,
   "metadata": {},
   "outputs": [],
   "source": [
    "len(world.people)"
   ]
  },
  {
   "cell_type": "markdown",
   "metadata": {},
   "source": [
    "### If it took a long time to run the previous commands, it might be a good idea to save the world to reuse it later."
   ]
  },
  {
   "cell_type": "code",
   "execution_count": null,
   "metadata": {},
   "outputs": [],
   "source": [
    "world.to_hdf5(\"world.hdf5\")"
   ]
  },
  {
   "cell_type": "markdown",
   "metadata": {},
   "source": [
    "If we would like to load the world we saved, we just do"
   ]
  },
  {
   "cell_type": "code",
   "execution_count": null,
   "metadata": {},
   "outputs": [],
   "source": [
    "world = generate_world_from_hdf5(\"world.hdf5\")"
   ]
  },
  {
   "cell_type": "code",
   "execution_count": 12,
   "metadata": {},
   "outputs": [],
   "source": [
    "# and regenerate leisure in case we load it externally\n",
    "leisure = generate_leisure_for_config(world, CONFIG_PATH)\n",
    "# create travel as well\n",
    "travel = Travel()"
   ]
  },
  {
   "cell_type": "markdown",
   "metadata": {},
   "source": [
    "you have now a beautiful pre-pandemic world. "
   ]
  },
  {
   "cell_type": "markdown",
   "metadata": {},
   "source": [
    "# Adding the infection"
   ]
  },
  {
   "cell_type": "markdown",
   "metadata": {},
   "source": [
    "The module in charge of infecting people is called the ``InfectionSelector``, which gives people a transmission time profile and a symptoms trajectory based on their age and sex (through the health index generator)"
   ]
  },
  {
   "cell_type": "code",
   "execution_count": 13,
   "metadata": {},
   "outputs": [],
   "source": [
    "health_index_generator = HealthIndexGenerator.from_file(asymptomatic_ratio=0.2)\n",
    "selector = InfectionSelector.from_file(\n",
    "        health_index_generator=health_index_generator,\n",
    "        transmission_config_path=paths.configs_path / 'defaults/transmission/XNExp.yaml'\n",
    ")"
   ]
  },
  {
   "cell_type": "markdown",
   "metadata": {},
   "source": [
    "# Adding the interaction"
   ]
  },
  {
   "cell_type": "code",
   "execution_count": 14,
   "metadata": {},
   "outputs": [],
   "source": [
    "interaction = Interaction.from_file()"
   ]
  },
  {
   "cell_type": "markdown",
   "metadata": {},
   "source": [
    "Beta are the intensities of the interaction taking place at the different groups"
   ]
  },
  {
   "cell_type": "code",
   "execution_count": 15,
   "metadata": {},
   "outputs": [],
   "source": [
    "for key in interaction.beta.keys():\n",
    "    interaction.beta[key] *= 0.2"
   ]
  },
  {
   "cell_type": "code",
   "execution_count": 16,
   "metadata": {},
   "outputs": [
    {
     "data": {
      "text/plain": [
       "{'box': 0.2,\n",
       " 'pub': 0.08588200000000001,\n",
       " 'grocery': 0.008274,\n",
       " 'cinema': 0.0314922,\n",
       " 'city_transport': 0.0215938,\n",
       " 'inter_city_transport': 0.0766,\n",
       " 'hospital': 0.023360000000000002,\n",
       " 'care_home': 0.05600000000000001,\n",
       " 'company': 0.0742,\n",
       " 'school': 0.014000000000000002,\n",
       " 'household': 0.0416,\n",
       " 'university': 0.061200000000000004}"
      ]
     },
     "execution_count": 16,
     "metadata": {},
     "output_type": "execute_result"
    }
   ],
   "source": [
    "interaction.beta"
   ]
  },
  {
   "cell_type": "markdown",
   "metadata": {},
   "source": [
    "moreover this interaction module uses contact matrices, that are different for different groups. These contact matrices shouldnt be modified for now. However they are a combination of conversational contact matrices, and physical contact matrices (see the BBC pandemic paper, from where these matrices are extracted https://www.medrxiv.org/content/10.1101/2020.02.16.20023754v2)\n",
    "\n",
    "There is a parameter, ``alpha`` ($\\alpha$), that combines these two matrices in the following way,\n",
    "\n",
    "\n",
    "$\\beta M \\left(1 + (\\alpha -1) \\right) P$\n",
    "\n",
    "where $\\beta$ is the intensity of the interaction, and $P$ the physical contact matrix. A larger $\\alpha$ produces more physical contacts. It is an overall number, non dependent of the particular group.\n"
   ]
  },
  {
   "cell_type": "code",
   "execution_count": 17,
   "metadata": {},
   "outputs": [
    {
     "data": {
      "text/plain": [
       "2.0"
      ]
     },
     "execution_count": 17,
     "metadata": {},
     "output_type": "execute_result"
    }
   ],
   "source": [
    "interaction.alpha_physical"
   ]
  },
  {
   "cell_type": "markdown",
   "metadata": {},
   "source": [
    "# Seed the disease"
   ]
  },
  {
   "cell_type": "markdown",
   "metadata": {},
   "source": [
    "There are two options implemented in the seed at the moment, either you specify the number of cases and these are then homogeneously distributed by population to the different areas, or you use UK data on cases per region. For now use the first case."
   ]
  },
  {
   "cell_type": "code",
   "execution_count": 18,
   "metadata": {},
   "outputs": [],
   "source": [
    "infection_seed = InfectionSeed(\n",
    "    world, selector,\n",
    ")"
   ]
  },
  {
   "cell_type": "code",
   "execution_count": 19,
   "metadata": {},
   "outputs": [
    {
     "data": {
      "text/plain": [
       "<june.world.World at 0x7f1269e10d00>"
      ]
     },
     "execution_count": 19,
     "metadata": {},
     "output_type": "execute_result"
    }
   ],
   "source": [
    "world"
   ]
  },
  {
   "cell_type": "code",
   "execution_count": 20,
   "metadata": {},
   "outputs": [],
   "source": [
    "n_cases = 50\n",
    "infection_seed.unleash_virus(\n",
    "    population=world.people,\n",
    "    n_cases=n_cases) # play around with the initial number of cases"
   ]
  },
  {
   "cell_type": "markdown",
   "metadata": {},
   "source": [
    "# Set policies"
   ]
  },
  {
   "cell_type": "code",
   "execution_count": 21,
   "metadata": {},
   "outputs": [],
   "source": [
    "policies = Policies.from_file()"
   ]
  },
  {
   "cell_type": "code",
   "execution_count": 22,
   "metadata": {},
   "outputs": [
    {
     "data": {
      "text/plain": [
       "<june.policy.policy.Policies at 0x7f1263c05460>"
      ]
     },
     "execution_count": 22,
     "metadata": {},
     "output_type": "execute_result"
    }
   ],
   "source": [
    "policies"
   ]
  },
  {
   "cell_type": "markdown",
   "metadata": {},
   "source": [
    "# Run the simulation"
   ]
  },
  {
   "cell_type": "markdown",
   "metadata": {},
   "source": [
    "The simulator is the main module in charge of running the simulation. It coordinates the ``ActivityManager`` which is responsible of allocating people to the right groups given the current timestep, it updates the health status of the population, and it runs the interaction over the different groups. All of these modules can be modified by policies at any given time."
   ]
  },
  {
   "cell_type": "markdown",
   "metadata": {},
   "source": [
    "Since the timer configuration is a bit cumbersome, it is read from the config file at ``configs/config_example.yaml``"
   ]
  },
  {
   "cell_type": "code",
   "execution_count": 23,
   "metadata": {},
   "outputs": [],
   "source": [
    "logger = Logger()"
   ]
  },
  {
   "cell_type": "code",
   "execution_count": 24,
   "metadata": {},
   "outputs": [],
   "source": [
    "logger.log_population(world.people)"
   ]
  },
  {
   "cell_type": "code",
   "execution_count": 25,
   "metadata": {},
   "outputs": [],
   "source": [
    "simulator = Simulator.from_file(\n",
    "    world=world,\n",
    "    infection_selector=selector,\n",
    "    interaction=interaction, \n",
    "    config_filename = CONFIG_PATH,\n",
    "    leisure = leisure,\n",
    "    travel=travel,\n",
    "    logger=logger,\n",
    "    policies = policies\n",
    ")"
   ]
  },
  {
   "cell_type": "code",
   "execution_count": 26,
   "metadata": {
    "scrolled": true
   },
   "outputs": [
    {
     "name": "stdout",
     "output_type": "stream",
     "text": [
      "2020-09-30 19:43:51,708 - june.simulator - INFO - Starting simulation for 10 days at day 2020-03-01 00:00:00, to run for 10 days\n",
      "2020-09-30 19:43:52,036 - june.activity.activity_manager - INFO - CMS: People COMS for rank 0/1 - 3.387918695807457e-06,2.86102294921875e-06 - 2020-03-01 00:00:00\n",
      "2020-09-30 19:43:52,042 - june.simulator - INFO - Date = 2020-03-01 00:00:00, number of deaths =  0, number of infected = 50\n",
      "2020-09-30 19:43:52,097 - june.simulator - INFO - CMS: Infection COMS for rank 0/1 - 3.364984877407551e-06,2.6226043701171875e-06 - 2020-03-01 00:00:00\n",
      "2020-09-30 19:43:52,279 - june.simulator - INFO - CMS: Timestep for rank 0/1 - 0.3429762430023402, 0.3429751396179199 - 2020-03-01 00:00:00\n",
      "2020-09-30 19:43:52,385 - june.activity.activity_manager - INFO - CMS: People COMS for rank 0/1 - 3.7619611248373985e-06,3.0994415283203125e-06 - 2020-03-01 04:00:00\n",
      "2020-09-30 19:43:52,389 - june.simulator - INFO - Date = 2020-03-01 04:00:00, number of deaths =  0, number of infected = 50\n",
      "2020-09-30 19:43:52,459 - june.simulator - INFO - CMS: Infection COMS for rank 0/1 - 3.908993676304817e-06,3.0994415283203125e-06 - 2020-03-01 04:00:00\n",
      "2020-09-30 19:43:52,476 - june.simulator - INFO - CMS: Timestep for rank 0/1 - 0.19643297302536666, 0.19643425941467285 - 2020-03-01 04:00:00\n",
      "2020-09-30 19:43:52,604 - june.activity.activity_manager - INFO - CMS: People COMS for rank 0/1 - 5.190027877688408e-06,4.291534423828125e-06 - 2020-03-01 08:00:00\n",
      "2020-09-30 19:43:52,607 - june.simulator - INFO - Date = 2020-03-01 08:00:00, number of deaths =  0, number of infected = 50\n",
      "2020-09-30 19:43:52,662 - june.simulator - INFO - CMS: Infection COMS for rank 0/1 - 3.548921085894108e-06,2.86102294921875e-06 - 2020-03-01 08:00:00\n",
      "2020-09-30 19:43:52,679 - june.simulator - INFO - CMS: Timestep for rank 0/1 - 0.20183381193783134, 0.20183467864990234 - 2020-03-01 08:00:00\n",
      "2020-09-30 19:43:52,712 - june.activity.activity_manager - INFO - CMS: People COMS for rank 0/1 - 3.5529956221580505e-06,3.0994415283203125e-06 - 2020-03-01 12:00:00\n",
      "2020-09-30 19:43:52,715 - june.simulator - INFO - Date = 2020-03-01 12:00:00, number of deaths =  0, number of infected = 50\n",
      "2020-09-30 19:43:52,781 - june.simulator - INFO - CMS: Infection COMS for rank 0/1 - 2.4779001250863075e-06,1.9073486328125e-06 - 2020-03-01 12:00:00\n",
      "2020-09-30 19:43:52,796 - june.simulator - INFO - CMS: Timestep for rank 0/1 - 0.11575042607728392, 0.11575102806091309 - 2020-03-01 12:00:00\n",
      "2020-09-30 19:43:52,835 - june.activity.activity_manager - INFO - CMS: People COMS for rank 0/1 - 4.54997643828392e-06,3.814697265625e-06 - 2020-03-02 00:00:00\n",
      "2020-09-30 19:43:52,837 - june.simulator - INFO - Date = 2020-03-02 00:00:00, number of deaths =  0, number of infected = 51\n",
      "2020-09-30 19:43:52,886 - june.simulator - INFO - CMS: Infection COMS for rank 0/1 - 2.1050218492746353e-06,1.430511474609375e-06 - 2020-03-02 00:00:00\n",
      "2020-09-30 19:43:52,900 - june.simulator - INFO - CMS: Timestep for rank 0/1 - 0.10392789891920984, 0.1039285659790039 - 2020-03-02 00:00:00\n",
      "2020-09-30 19:43:52,962 - june.activity.activity_manager - INFO - CMS: People COMS for rank 0/1 - 3.867084160447121e-06,3.0994415283203125e-06 - 2020-03-02 01:00:00\n",
      "2020-09-30 19:43:52,966 - june.simulator - INFO - Date = 2020-03-02 01:00:00, number of deaths =  0, number of infected = 51\n",
      "2020-09-30 19:43:53,303 - june.simulator - INFO - CMS: Infection COMS for rank 0/1 - 2.5690533220767975e-06,1.6689300537109375e-06 - 2020-03-02 01:00:00\n",
      "2020-09-30 19:43:53,319 - june.simulator - INFO - CMS: Timestep for rank 0/1 - 0.41803454502951354, 0.41803526878356934 - 2020-03-02 01:00:00\n",
      "2020-09-30 19:43:53,361 - june.activity.activity_manager - INFO - CMS: People COMS for rank 0/1 - 5.293055437505245e-06,4.76837158203125e-06 - 2020-03-02 09:00:00\n",
      "2020-09-30 19:43:53,364 - june.simulator - INFO - Date = 2020-03-02 09:00:00, number of deaths =  0, number of infected = 53\n",
      "2020-09-30 19:43:53,413 - june.simulator - INFO - CMS: Infection COMS for rank 0/1 - 3.1440285965800285e-06,2.6226043701171875e-06 - 2020-03-02 09:00:00\n",
      "2020-09-30 19:43:53,439 - june.simulator - INFO - CMS: Timestep for rank 0/1 - 0.11882409895770252, 0.11882495880126953 - 2020-03-02 09:00:00\n",
      "2020-09-30 19:43:53,560 - june.activity.activity_manager - INFO - CMS: People COMS for rank 0/1 - 3.859051503241062e-06,3.337860107421875e-06 - 2020-03-02 10:00:00\n",
      "2020-09-30 19:43:53,563 - june.simulator - INFO - Date = 2020-03-02 10:00:00, number of deaths =  0, number of infected = 53\n",
      "2020-09-30 19:43:53,621 - june.simulator - INFO - CMS: Infection COMS for rank 0/1 - 3.0619557946920395e-06,2.384185791015625e-06 - 2020-03-02 10:00:00\n",
      "2020-09-30 19:43:53,636 - june.simulator - INFO - CMS: Timestep for rank 0/1 - 0.19639309402555227, 0.19639372825622559 - 2020-03-02 10:00:00\n",
      "2020-09-30 19:43:53,676 - june.activity.activity_manager - INFO - CMS: People COMS for rank 0/1 - 5.766982212662697e-06,5.0067901611328125e-06 - 2020-03-02 13:00:00\n",
      "2020-09-30 19:43:53,679 - june.simulator - INFO - Date = 2020-03-02 13:00:00, number of deaths =  0, number of infected = 53\n",
      "2020-09-30 19:43:53,728 - june.simulator - INFO - CMS: Infection COMS for rank 0/1 - 2.220040187239647e-06,1.9073486328125e-06 - 2020-03-02 13:00:00\n",
      "2020-09-30 19:43:53,743 - june.simulator - INFO - CMS: Timestep for rank 0/1 - 0.1068648899672553, 0.10686564445495605 - 2020-03-02 13:00:00\n",
      "2020-09-30 19:43:53,795 - june.activity.activity_manager - INFO - CMS: People COMS for rank 0/1 - 4.759989678859711e-06,4.291534423828125e-06 - 2020-03-03 00:00:00\n",
      "2020-09-30 19:43:53,798 - june.simulator - INFO - Date = 2020-03-03 00:00:00, number of deaths =  0, number of infected = 54\n",
      "2020-09-30 19:43:53,866 - june.simulator - INFO - CMS: Infection COMS for rank 0/1 - 3.077089786529541e-06,2.1457672119140625e-06 - 2020-03-03 00:00:00\n",
      "2020-09-30 19:43:53,882 - june.simulator - INFO - CMS: Timestep for rank 0/1 - 0.13814412092324346, 0.13814449310302734 - 2020-03-03 00:00:00\n",
      "2020-09-30 19:43:53,956 - june.activity.activity_manager - INFO - CMS: People COMS for rank 0/1 - 3.6639394238591194e-06,3.0994415283203125e-06 - 2020-03-03 01:00:00\n",
      "2020-09-30 19:43:53,959 - june.simulator - INFO - Date = 2020-03-03 01:00:00, number of deaths =  0, number of infected = 54\n",
      "2020-09-30 19:43:54,054 - june.simulator - INFO - CMS: Infection COMS for rank 0/1 - 2.4490291252732277e-06,1.6689300537109375e-06 - 2020-03-03 01:00:00\n",
      "2020-09-30 19:43:54,068 - june.simulator - INFO - CMS: Timestep for rank 0/1 - 0.18560234899632633, 0.18560242652893066 - 2020-03-03 01:00:00\n",
      "2020-09-30 19:43:54,134 - june.activity.activity_manager - INFO - CMS: People COMS for rank 0/1 - 5.239970050752163e-06,4.291534423828125e-06 - 2020-03-03 09:00:00\n",
      "2020-09-30 19:43:54,137 - june.simulator - INFO - Date = 2020-03-03 09:00:00, number of deaths =  0, number of infected = 56\n",
      "2020-09-30 19:43:54,199 - june.simulator - INFO - CMS: Infection COMS for rank 0/1 - 2.8170179575681686e-06,2.384185791015625e-06 - 2020-03-03 09:00:00\n",
      "2020-09-30 19:43:54,216 - june.simulator - INFO - CMS: Timestep for rank 0/1 - 0.14659072505310178, 0.1465914249420166 - 2020-03-03 09:00:00\n",
      "2020-09-30 19:43:54,357 - june.activity.activity_manager - INFO - CMS: People COMS for rank 0/1 - 4.761037416756153e-06,4.0531158447265625e-06 - 2020-03-03 10:00:00\n",
      "2020-09-30 19:43:54,362 - june.simulator - INFO - Date = 2020-03-03 10:00:00, number of deaths =  0, number of infected = 56\n",
      "2020-09-30 19:43:54,440 - june.simulator - INFO - CMS: Infection COMS for rank 0/1 - 2.003973349928856e-06,1.9073486328125e-06 - 2020-03-03 10:00:00\n",
      "2020-09-30 19:43:54,456 - june.simulator - INFO - CMS: Timestep for rank 0/1 - 0.23936463298741728, 0.2393653392791748 - 2020-03-03 10:00:00\n",
      "2020-09-30 19:43:54,511 - june.activity.activity_manager - INFO - CMS: People COMS for rank 0/1 - 5.888054147362709e-06,4.76837158203125e-06 - 2020-03-03 13:00:00\n",
      "2020-09-30 19:43:54,513 - june.simulator - INFO - Date = 2020-03-03 13:00:00, number of deaths =  0, number of infected = 56\n",
      "2020-09-30 19:43:54,563 - june.simulator - INFO - CMS: Infection COMS for rank 0/1 - 2.7510104700922966e-06,1.9073486328125e-06 - 2020-03-03 13:00:00\n",
      "2020-09-30 19:43:54,581 - june.simulator - INFO - CMS: Timestep for rank 0/1 - 0.12416295509319752, 0.12416338920593262 - 2020-03-03 13:00:00\n",
      "2020-09-30 19:43:54,615 - june.activity.activity_manager - INFO - CMS: People COMS for rank 0/1 - 5.075009539723396e-06,4.291534423828125e-06 - 2020-03-04 00:00:00\n",
      "2020-09-30 19:43:54,618 - june.simulator - INFO - Date = 2020-03-04 00:00:00, number of deaths =  0, number of infected = 57\n",
      "2020-09-30 19:43:54,680 - june.simulator - INFO - CMS: Infection COMS for rank 0/1 - 2.8819777071475983e-06,2.1457672119140625e-06 - 2020-03-04 00:00:00\n",
      "2020-09-30 19:43:54,698 - june.simulator - INFO - CMS: Timestep for rank 0/1 - 0.1165705630555749, 0.11657094955444336 - 2020-03-04 00:00:00\n",
      "2020-09-30 19:43:54,758 - june.activity.activity_manager - INFO - CMS: People COMS for rank 0/1 - 3.7589343264698982e-06,3.0994415283203125e-06 - 2020-03-04 01:00:00\n",
      "2020-09-30 19:43:54,762 - june.simulator - INFO - Date = 2020-03-04 01:00:00, number of deaths =  0, number of infected = 57\n",
      "2020-09-30 19:43:54,838 - june.simulator - INFO - CMS: Infection COMS for rank 0/1 - 2.5921035557985306e-06,1.6689300537109375e-06 - 2020-03-04 01:00:00\n",
      "2020-09-30 19:43:54,852 - june.simulator - INFO - CMS: Timestep for rank 0/1 - 0.15379113797098398, 0.1537914276123047 - 2020-03-04 01:00:00\n",
      "2020-09-30 19:43:54,889 - june.activity.activity_manager - INFO - CMS: People COMS for rank 0/1 - 3.091059625148773e-06,3.0994415283203125e-06 - 2020-03-04 09:00:00\n",
      "2020-09-30 19:43:54,892 - june.simulator - INFO - Date = 2020-03-04 09:00:00, number of deaths =  0, number of infected = 59\n",
      "2020-09-30 19:43:54,948 - june.simulator - INFO - CMS: Infection COMS for rank 0/1 - 2.6649795472621918e-06,1.6689300537109375e-06 - 2020-03-04 09:00:00\n",
      "2020-09-30 19:43:54,963 - june.simulator - INFO - CMS: Timestep for rank 0/1 - 0.10993050504475832, 0.10993099212646484 - 2020-03-04 09:00:00\n",
      "2020-09-30 19:43:55,084 - june.activity.activity_manager - INFO - CMS: People COMS for rank 0/1 - 3.803987056016922e-06,3.337860107421875e-06 - 2020-03-04 10:00:00\n",
      "2020-09-30 19:43:55,086 - june.simulator - INFO - Date = 2020-03-04 10:00:00, number of deaths =  0, number of infected = 60\n",
      "2020-09-30 19:43:55,147 - june.simulator - INFO - CMS: Infection COMS for rank 0/1 - 2.4760374799370766e-06,1.6689300537109375e-06 - 2020-03-04 10:00:00\n",
      "2020-09-30 19:43:55,164 - june.simulator - INFO - CMS: Timestep for rank 0/1 - 0.2008127470035106, 0.20081377029418945 - 2020-03-04 10:00:00\n",
      "2020-09-30 19:43:55,215 - june.activity.activity_manager - INFO - CMS: People COMS for rank 0/1 - 6.27199187874794e-06,5.7220458984375e-06 - 2020-03-04 13:00:00\n",
      "2020-09-30 19:43:55,220 - june.simulator - INFO - Date = 2020-03-04 13:00:00, number of deaths =  0, number of infected = 61\n",
      "2020-09-30 19:43:55,310 - june.simulator - INFO - CMS: Infection COMS for rank 0/1 - 2.451939508318901e-06,1.9073486328125e-06 - 2020-03-04 13:00:00\n",
      "2020-09-30 19:43:55,325 - june.simulator - INFO - CMS: Timestep for rank 0/1 - 0.1594372340478003, 0.159437894821167 - 2020-03-04 13:00:00\n",
      "2020-09-30 19:43:55,379 - june.activity.activity_manager - INFO - CMS: People COMS for rank 0/1 - 6.7249638959765434e-06,5.9604644775390625e-06 - 2020-03-05 00:00:00\n",
      "2020-09-30 19:43:55,384 - june.simulator - INFO - Date = 2020-03-05 00:00:00, number of deaths =  0, number of infected = 62\n",
      "2020-09-30 19:43:55,457 - june.simulator - INFO - CMS: Infection COMS for rank 0/1 - 1.9349390640854836e-06,1.430511474609375e-06 - 2020-03-05 00:00:00\n",
      "2020-09-30 19:43:55,473 - june.simulator - INFO - CMS: Timestep for rank 0/1 - 0.14766854792833328, 0.14766931533813477 - 2020-03-05 00:00:00\n",
      "2020-09-30 19:43:55,556 - june.activity.activity_manager - INFO - CMS: People COMS for rank 0/1 - 4.377914592623711e-06,4.0531158447265625e-06 - 2020-03-05 01:00:00\n",
      "2020-09-30 19:43:55,559 - june.simulator - INFO - Date = 2020-03-05 01:00:00, number of deaths =  0, number of infected = 62\n",
      "2020-09-30 19:43:55,997 - june.simulator - INFO - CMS: Infection COMS for rank 0/1 - 2.5529880076646805e-06,2.1457672119140625e-06 - 2020-03-05 01:00:00\n",
      "2020-09-30 19:43:56,011 - june.simulator - INFO - CMS: Timestep for rank 0/1 - 0.537688813987188, 0.5376889705657959 - 2020-03-05 01:00:00\n",
      "2020-09-30 19:43:56,063 - june.activity.activity_manager - INFO - CMS: People COMS for rank 0/1 - 5.482928827404976e-06,4.76837158203125e-06 - 2020-03-05 09:00:00\n",
      "2020-09-30 19:43:56,066 - june.simulator - INFO - Date = 2020-03-05 09:00:00, number of deaths =  0, number of infected = 68\n",
      "2020-09-30 19:43:56,150 - june.simulator - INFO - CMS: Infection COMS for rank 0/1 - 2.157059498131275e-06,1.6689300537109375e-06 - 2020-03-05 09:00:00\n",
      "2020-09-30 19:43:56,165 - june.simulator - INFO - CMS: Timestep for rank 0/1 - 0.1525381039828062, 0.15253901481628418 - 2020-03-05 09:00:00\n",
      "2020-09-30 19:43:56,297 - june.activity.activity_manager - INFO - CMS: People COMS for rank 0/1 - 4.393979907035828e-06,3.814697265625e-06 - 2020-03-05 10:00:00\n",
      "2020-09-30 19:43:56,300 - june.simulator - INFO - Date = 2020-03-05 10:00:00, number of deaths =  0, number of infected = 68\n",
      "2020-09-30 19:43:56,361 - june.simulator - INFO - CMS: Infection COMS for rank 0/1 - 2.46299896389246e-06,1.9073486328125e-06 - 2020-03-05 10:00:00\n",
      "2020-09-30 19:43:56,381 - june.simulator - INFO - CMS: Timestep for rank 0/1 - 0.2155878550838679, 0.21558833122253418 - 2020-03-05 10:00:00\n",
      "2020-09-30 19:43:56,427 - june.activity.activity_manager - INFO - CMS: People COMS for rank 0/1 - 6.4300838857889175e-06,5.245208740234375e-06 - 2020-03-05 13:00:00\n",
      "2020-09-30 19:43:56,432 - june.simulator - INFO - Date = 2020-03-05 13:00:00, number of deaths =  0, number of infected = 69\n",
      "2020-09-30 19:43:56,525 - june.simulator - INFO - CMS: Infection COMS for rank 0/1 - 2.385932020843029e-06,2.1457672119140625e-06 - 2020-03-05 13:00:00\n",
      "2020-09-30 19:43:56,542 - june.simulator - INFO - CMS: Timestep for rank 0/1 - 0.16072488797362894, 0.16072559356689453 - 2020-03-05 13:00:00\n",
      "2020-09-30 19:43:56,599 - june.activity.activity_manager - INFO - CMS: People COMS for rank 0/1 - 5.3390394896268845e-06,4.5299530029296875e-06 - 2020-03-06 00:00:00\n",
      "2020-09-30 19:43:56,602 - june.simulator - INFO - Date = 2020-03-06 00:00:00, number of deaths =  0, number of infected = 73\n",
      "2020-09-30 19:43:56,685 - june.simulator - INFO - CMS: Infection COMS for rank 0/1 - 2.061016857624054e-06,1.6689300537109375e-06 - 2020-03-06 00:00:00\n",
      "2020-09-30 19:43:56,700 - june.simulator - INFO - CMS: Timestep for rank 0/1 - 0.15686911903321743, 0.15686941146850586 - 2020-03-06 00:00:00\n",
      "2020-09-30 19:43:56,764 - june.activity.activity_manager - INFO - CMS: People COMS for rank 0/1 - 4.073022864758968e-06,2.86102294921875e-06 - 2020-03-06 01:00:00\n",
      "2020-09-30 19:43:56,767 - june.simulator - INFO - Date = 2020-03-06 01:00:00, number of deaths =  0, number of infected = 73\n",
      "2020-09-30 19:43:57,125 - june.simulator - INFO - CMS: Infection COMS for rank 0/1 - 2.4799956008791924e-06,2.1457672119140625e-06 - 2020-03-06 01:00:00\n",
      "2020-09-30 19:43:57,139 - june.simulator - INFO - CMS: Timestep for rank 0/1 - 0.4383784820092842, 0.43837904930114746 - 2020-03-06 01:00:00\n",
      "2020-09-30 19:43:57,177 - june.activity.activity_manager - INFO - CMS: People COMS for rank 0/1 - 3.554043360054493e-06,3.0994415283203125e-06 - 2020-03-06 09:00:00\n",
      "2020-09-30 19:43:57,180 - june.simulator - INFO - Date = 2020-03-06 09:00:00, number of deaths =  0, number of infected = 81\n",
      "2020-09-30 19:43:57,266 - june.simulator - INFO - CMS: Infection COMS for rank 0/1 - 2.5690533220767975e-06,2.1457672119140625e-06 - 2020-03-06 09:00:00\n",
      "2020-09-30 19:43:57,282 - june.simulator - INFO - CMS: Timestep for rank 0/1 - 0.14207407995127141, 0.1420745849609375 - 2020-03-06 09:00:00\n",
      "2020-09-30 19:43:57,421 - june.activity.activity_manager - INFO - CMS: People COMS for rank 0/1 - 5.0300732254981995e-06,4.5299530029296875e-06 - 2020-03-06 10:00:00\n",
      "2020-09-30 19:43:57,425 - june.simulator - INFO - Date = 2020-03-06 10:00:00, number of deaths =  0, number of infected = 82\n",
      "2020-09-30 19:43:57,499 - june.simulator - INFO - CMS: Infection COMS for rank 0/1 - 2.592918463051319e-06,2.1457672119140625e-06 - 2020-03-06 10:00:00\n",
      "2020-09-30 19:43:57,513 - june.simulator - INFO - CMS: Timestep for rank 0/1 - 0.2303276100428775, 0.23032832145690918 - 2020-03-06 10:00:00\n",
      "2020-09-30 19:43:57,550 - june.activity.activity_manager - INFO - CMS: People COMS for rank 0/1 - 5.090958438813686e-06,4.5299530029296875e-06 - 2020-03-06 13:00:00\n",
      "2020-09-30 19:43:57,552 - june.simulator - INFO - Date = 2020-03-06 13:00:00, number of deaths =  0, number of infected = 82\n",
      "2020-09-30 19:43:57,614 - june.simulator - INFO - CMS: Infection COMS for rank 0/1 - 2.5989720597863197e-06,2.1457672119140625e-06 - 2020-03-06 13:00:00\n",
      "2020-09-30 19:43:57,631 - june.simulator - INFO - CMS: Timestep for rank 0/1 - 0.11740162095520645, 0.11740231513977051 - 2020-03-06 13:00:00\n",
      "2020-09-30 19:43:57,766 - june.activity.activity_manager - INFO - CMS: People COMS for rank 0/1 - 4.1530001908540726e-06,3.814697265625e-06 - 2020-03-07 00:00:00\n",
      "2020-09-30 19:43:57,769 - june.simulator - INFO - Date = 2020-03-07 00:00:00, number of deaths =  0, number of infected = 82\n",
      "2020-09-30 19:43:57,827 - june.simulator - INFO - CMS: Infection COMS for rank 0/1 - 2.5320332497358322e-06,1.9073486328125e-06 - 2020-03-07 00:00:00\n",
      "2020-09-30 19:43:57,842 - june.simulator - INFO - CMS: Timestep for rank 0/1 - 0.21009102498646826, 0.21009182929992676 - 2020-03-07 00:00:00\n",
      "2020-09-30 19:43:57,952 - june.activity.activity_manager - INFO - CMS: People COMS for rank 0/1 - 3.91004141420126e-06,3.337860107421875e-06 - 2020-03-07 04:00:00\n",
      "2020-09-30 19:43:57,954 - june.simulator - INFO - Date = 2020-03-07 04:00:00, number of deaths =  0, number of infected = 83\n",
      "2020-09-30 19:43:58,054 - june.simulator - INFO - CMS: Infection COMS for rank 0/1 - 2.4599721655249596e-06,1.6689300537109375e-06 - 2020-03-07 04:00:00\n",
      "2020-09-30 19:43:58,070 - june.simulator - INFO - CMS: Timestep for rank 0/1 - 0.22738778695929796, 0.2273881435394287 - 2020-03-07 04:00:00\n",
      "2020-09-30 19:43:58,202 - june.activity.activity_manager - INFO - CMS: People COMS for rank 0/1 - 4.198052920401096e-06,3.5762786865234375e-06 - 2020-03-07 08:00:00\n",
      "2020-09-30 19:43:58,205 - june.simulator - INFO - Date = 2020-03-07 08:00:00, number of deaths =  0, number of infected = 83\n",
      "2020-09-30 19:43:58,306 - june.simulator - INFO - CMS: Infection COMS for rank 0/1 - 2.6229536160826683e-06,1.6689300537109375e-06 - 2020-03-07 08:00:00\n",
      "2020-09-30 19:43:58,320 - june.simulator - INFO - CMS: Timestep for rank 0/1 - 0.24956759496126324, 0.24956798553466797 - 2020-03-07 08:00:00\n",
      "2020-09-30 19:43:58,355 - june.activity.activity_manager - INFO - CMS: People COMS for rank 0/1 - 5.341949872672558e-06,4.291534423828125e-06 - 2020-03-07 12:00:00\n",
      "2020-09-30 19:43:58,358 - june.simulator - INFO - Date = 2020-03-07 12:00:00, number of deaths =  0, number of infected = 83\n",
      "2020-09-30 19:43:58,447 - june.simulator - INFO - CMS: Infection COMS for rank 0/1 - 3.229011781513691e-06,2.86102294921875e-06 - 2020-03-07 12:00:00\n",
      "2020-09-30 19:43:58,463 - june.simulator - INFO - CMS: Timestep for rank 0/1 - 0.14216311101336032, 0.1421642303466797 - 2020-03-07 12:00:00\n",
      "2020-09-30 19:43:58,571 - june.activity.activity_manager - INFO - CMS: People COMS for rank 0/1 - 4.007946699857712e-06,3.337860107421875e-06 - 2020-03-08 00:00:00\n",
      "2020-09-30 19:43:58,573 - june.simulator - INFO - Date = 2020-03-08 00:00:00, number of deaths =  0, number of infected = 85\n",
      "2020-09-30 19:43:58,642 - june.simulator - INFO - CMS: Infection COMS for rank 0/1 - 3.6549754440784454e-06,2.6226043701171875e-06 - 2020-03-08 00:00:00\n",
      "2020-09-30 19:43:58,657 - june.simulator - INFO - CMS: Timestep for rank 0/1 - 0.1929333519656211, 0.1929340362548828 - 2020-03-08 00:00:00\n",
      "2020-09-30 19:43:58,788 - june.activity.activity_manager - INFO - CMS: People COMS for rank 0/1 - 4.050089046359062e-06,3.337860107421875e-06 - 2020-03-08 04:00:00\n",
      "2020-09-30 19:43:58,791 - june.simulator - INFO - Date = 2020-03-08 04:00:00, number of deaths =  0, number of infected = 85\n",
      "2020-09-30 19:43:58,840 - june.simulator - INFO - CMS: Infection COMS for rank 0/1 - 2.086046151816845e-06,1.430511474609375e-06 - 2020-03-08 04:00:00\n",
      "2020-09-30 19:43:58,855 - june.simulator - INFO - CMS: Timestep for rank 0/1 - 0.19799317698925734, 0.19799351692199707 - 2020-03-08 04:00:00\n",
      "2020-09-30 19:43:58,972 - june.activity.activity_manager - INFO - CMS: People COMS for rank 0/1 - 3.7209829315543175e-06,2.6226043701171875e-06 - 2020-03-08 08:00:00\n",
      "2020-09-30 19:43:58,975 - june.simulator - INFO - Date = 2020-03-08 08:00:00, number of deaths =  0, number of infected = 85\n",
      "2020-09-30 19:43:59,027 - june.simulator - INFO - CMS: Infection COMS for rank 0/1 - 2.674991264939308e-06,1.9073486328125e-06 - 2020-03-08 08:00:00\n",
      "2020-09-30 19:43:59,042 - june.simulator - INFO - CMS: Timestep for rank 0/1 - 0.18663355894386768, 0.18663454055786133 - 2020-03-08 08:00:00\n",
      "2020-09-30 19:43:59,078 - june.activity.activity_manager - INFO - CMS: People COMS for rank 0/1 - 4.870002157986164e-06,4.5299530029296875e-06 - 2020-03-08 12:00:00\n",
      "2020-09-30 19:43:59,081 - june.simulator - INFO - Date = 2020-03-08 12:00:00, number of deaths =  0, number of infected = 85\n",
      "2020-09-30 19:43:59,133 - june.simulator - INFO - CMS: Infection COMS for rank 0/1 - 2.2170133888721466e-06,1.430511474609375e-06 - 2020-03-08 12:00:00\n",
      "2020-09-30 19:43:59,148 - june.simulator - INFO - CMS: Timestep for rank 0/1 - 0.10472466901410371, 0.10472512245178223 - 2020-03-08 12:00:00\n",
      "2020-09-30 19:43:59,189 - june.activity.activity_manager - INFO - CMS: People COMS for rank 0/1 - 3.5819830372929573e-06,3.0994415283203125e-06 - 2020-03-09 00:00:00\n",
      "2020-09-30 19:43:59,192 - june.simulator - INFO - Date = 2020-03-09 00:00:00, number of deaths =  0, number of infected = 85\n",
      "2020-09-30 19:43:59,250 - june.simulator - INFO - CMS: Infection COMS for rank 0/1 - 2.457061782479286e-06,2.1457672119140625e-06 - 2020-03-09 00:00:00\n",
      "2020-09-30 19:43:59,266 - june.simulator - INFO - CMS: Timestep for rank 0/1 - 0.117070366977714, 0.11707139015197754 - 2020-03-09 00:00:00\n",
      "2020-09-30 19:43:59,335 - june.activity.activity_manager - INFO - CMS: People COMS for rank 0/1 - 3.8139987736940384e-06,3.0994415283203125e-06 - 2020-03-09 01:00:00\n",
      "2020-09-30 19:43:59,339 - june.simulator - INFO - Date = 2020-03-09 01:00:00, number of deaths =  0, number of infected = 85\n",
      "2020-09-30 19:43:59,432 - june.simulator - INFO - CMS: Infection COMS for rank 0/1 - 3.6740675568580627e-06,2.86102294921875e-06 - 2020-03-09 01:00:00\n",
      "2020-09-30 19:43:59,447 - june.simulator - INFO - CMS: Timestep for rank 0/1 - 0.18098247004672885, 0.1809830665588379 - 2020-03-09 01:00:00\n",
      "2020-09-30 19:43:59,482 - june.activity.activity_manager - INFO - CMS: People COMS for rank 0/1 - 5.541020072996616e-06,5.245208740234375e-06 - 2020-03-09 09:00:00\n",
      "2020-09-30 19:43:59,487 - june.simulator - INFO - Date = 2020-03-09 09:00:00, number of deaths =  0, number of infected = 101\n",
      "2020-09-30 19:43:59,543 - june.simulator - INFO - CMS: Infection COMS for rank 0/1 - 2.3079337552189827e-06,1.430511474609375e-06 - 2020-03-09 09:00:00\n",
      "2020-09-30 19:43:59,562 - june.simulator - INFO - CMS: Timestep for rank 0/1 - 0.11353560001589358, 0.11353611946105957 - 2020-03-09 09:00:00\n",
      "2020-09-30 19:43:59,698 - june.activity.activity_manager - INFO - CMS: People COMS for rank 0/1 - 4.088040441274643e-06,3.5762786865234375e-06 - 2020-03-09 10:00:00\n",
      "2020-09-30 19:43:59,701 - june.simulator - INFO - Date = 2020-03-09 10:00:00, number of deaths =  0, number of infected = 101\n",
      "2020-09-30 19:43:59,766 - june.simulator - INFO - CMS: Infection COMS for rank 0/1 - 2.39501241594553e-06,1.6689300537109375e-06 - 2020-03-09 10:00:00\n",
      "2020-09-30 19:43:59,783 - june.simulator - INFO - CMS: Timestep for rank 0/1 - 0.22103672393132, 0.2210373878479004 - 2020-03-09 10:00:00\n",
      "2020-09-30 19:43:59,818 - june.activity.activity_manager - INFO - CMS: People COMS for rank 0/1 - 4.439963959157467e-06,3.814697265625e-06 - 2020-03-09 13:00:00\n",
      "2020-09-30 19:43:59,821 - june.simulator - INFO - Date = 2020-03-09 13:00:00, number of deaths =  0, number of infected = 101\n",
      "2020-09-30 19:43:59,912 - june.simulator - INFO - CMS: Infection COMS for rank 0/1 - 2.20397487282753e-06,1.6689300537109375e-06 - 2020-03-09 13:00:00\n",
      "2020-09-30 19:43:59,927 - june.simulator - INFO - CMS: Timestep for rank 0/1 - 0.1425667320145294, 0.14256715774536133 - 2020-03-09 13:00:00\n",
      "2020-09-30 19:43:59,962 - june.activity.activity_manager - INFO - CMS: People COMS for rank 0/1 - 5.142064765095711e-06,4.291534423828125e-06 - 2020-03-10 00:00:00\n",
      "2020-09-30 19:43:59,966 - june.simulator - INFO - Date = 2020-03-10 00:00:00, number of deaths =  0, number of infected = 101\n",
      "2020-09-30 19:44:00,070 - june.simulator - INFO - CMS: Infection COMS for rank 0/1 - 3.2730167731642723e-06,2.384185791015625e-06 - 2020-03-10 00:00:00\n",
      "2020-09-30 19:44:00,087 - june.simulator - INFO - CMS: Timestep for rank 0/1 - 0.15950263396371156, 0.15950345993041992 - 2020-03-10 00:00:00\n",
      "2020-09-30 19:44:00,153 - june.activity.activity_manager - INFO - CMS: People COMS for rank 0/1 - 4.002009518444538e-06,3.337860107421875e-06 - 2020-03-10 01:00:00\n",
      "2020-09-30 19:44:00,157 - june.simulator - INFO - Date = 2020-03-10 01:00:00, number of deaths =  0, number of infected = 101\n",
      "2020-09-30 19:44:00,279 - june.simulator - INFO - CMS: Infection COMS for rank 0/1 - 2.3569446057081223e-06,1.9073486328125e-06 - 2020-03-10 01:00:00\n",
      "2020-09-30 19:44:00,293 - june.simulator - INFO - CMS: Timestep for rank 0/1 - 0.20609537907876074, 0.20609593391418457 - 2020-03-10 01:00:00\n",
      "2020-09-30 19:44:00,354 - june.activity.activity_manager - INFO - CMS: People COMS for rank 0/1 - 6.6020293161273e-06,5.9604644775390625e-06 - 2020-03-10 09:00:00\n",
      "2020-09-30 19:44:00,359 - june.simulator - INFO - Date = 2020-03-10 09:00:00, number of deaths =  0, number of infected = 108\n",
      "2020-09-30 19:44:00,440 - june.simulator - INFO - CMS: Infection COMS for rank 0/1 - 2.449960447847843e-06,1.430511474609375e-06 - 2020-03-10 09:00:00\n",
      "2020-09-30 19:44:00,461 - june.simulator - INFO - CMS: Timestep for rank 0/1 - 0.16646089893765748, 0.16646194458007812 - 2020-03-10 09:00:00\n",
      "2020-09-30 19:44:00,581 - june.activity.activity_manager - INFO - CMS: People COMS for rank 0/1 - 3.8079451769590378e-06,3.5762786865234375e-06 - 2020-03-10 10:00:00\n",
      "2020-09-30 19:44:00,584 - june.simulator - INFO - Date = 2020-03-10 10:00:00, number of deaths =  0, number of infected = 108\n",
      "2020-09-30 19:44:00,642 - june.simulator - INFO - CMS: Infection COMS for rank 0/1 - 3.1120143830776215e-06,2.384185791015625e-06 - 2020-03-10 10:00:00\n",
      "2020-09-30 19:44:00,658 - june.simulator - INFO - CMS: Timestep for rank 0/1 - 0.19660882791504264, 0.1966097354888916 - 2020-03-10 10:00:00\n",
      "2020-09-30 19:44:00,712 - june.activity.activity_manager - INFO - CMS: People COMS for rank 0/1 - 6.290036253631115e-06,5.4836273193359375e-06 - 2020-03-10 13:00:00\n",
      "2020-09-30 19:44:00,716 - june.simulator - INFO - Date = 2020-03-10 13:00:00, number of deaths =  0, number of infected = 109\n",
      "2020-09-30 19:44:00,771 - june.simulator - INFO - CMS: Infection COMS for rank 0/1 - 2.42691021412611e-06,1.6689300537109375e-06 - 2020-03-10 13:00:00\n",
      "2020-09-30 19:44:00,787 - june.simulator - INFO - CMS: Timestep for rank 0/1 - 0.1277874419465661, 0.12778759002685547 - 2020-03-10 13:00:00\n",
      "CPU times: user 9.14 s, sys: 333 ms, total: 9.47 s\n",
      "Wall time: 9.08 s\n"
     ]
    }
   ],
   "source": [
    "%%time\n",
    "simulator.run()"
   ]
  },
  {
   "cell_type": "markdown",
   "metadata": {},
   "source": [
    "While the simulation runs (and afterwards) we can launch the visualization webpage by running\n",
    "```python june/visualizer.py path/to/results``` "
   ]
  },
  {
   "cell_type": "markdown",
   "metadata": {},
   "source": [
    "# Getting the results"
   ]
  },
  {
   "cell_type": "markdown",
   "metadata": {},
   "source": [
    "## World infection curves, and by super area"
   ]
  },
  {
   "cell_type": "code",
   "execution_count": 30,
   "metadata": {},
   "outputs": [
    {
     "name": "stdout",
     "output_type": "stream",
     "text": [
      "CPU times: user 54 ms, sys: 10.3 ms, total: 64.3 ms\n",
      "Wall time: 62.4 ms\n"
     ]
    },
    {
     "name": "stderr",
     "output_type": "stream",
     "text": [
      "/home/arnau/.local/lib/python3.8/site-packages/pandas/core/indexing.py:671: SettingWithCopyWarning: \n",
      "A value is trying to be set on a copy of a slice from a DataFrame\n",
      "\n",
      "See the caveats in the documentation: https://pandas.pydata.org/pandas-docs/stable/user_guide/indexing.html#returning-a-view-versus-a-copy\n",
      "  self._setitem_with_indexer(indexer, value)\n",
      "/home/arnau/code/JUNE/june/logger/read_logger.py:208: SettingWithCopyWarning: \n",
      "A value is trying to be set on a copy of a slice from a DataFrame\n",
      "\n",
      "See the caveats in the documentation: https://pandas.pydata.org/pandas-docs/stable/user_guide/indexing.html#returning-a-view-versus-a-copy\n",
      "  hosp_df.loc[ts, col] = data[mask]\n",
      "/home/arnau/code/JUNE/june/logger/read_logger.py:225: SettingWithCopyWarning: \n",
      "A value is trying to be set on a copy of a slice from a DataFrame\n",
      "\n",
      "See the caveats in the documentation: https://pandas.pydata.org/pandas-docs/stable/user_guide/indexing.html#returning-a-view-versus-a-copy\n",
      "  hosp_df.loc[ts, col] = data[mask]\n"
     ]
    }
   ],
   "source": [
    "%%time\n",
    "world_df = read.world_summary()"
   ]
  },
  {
   "cell_type": "code",
   "execution_count": 31,
   "metadata": {},
   "outputs": [
    {
     "data": {
      "text/plain": [
       "Text(0.5, 0, 'Date')"
      ]
     },
     "execution_count": 31,
     "metadata": {},
     "output_type": "execute_result"
    },
    {
     "data": {
      "image/png": "[encoded data removed]",
      "text/plain": [
       "<Figure size 576x432 with 1 Axes>"
      ]
     },
     "metadata": {
      "needs_background": "light"
     },
     "output_type": "display_data"
    }
   ],
   "source": [
    "fig, ax = plt.subplots()\n",
    "world_df['daily_infections'].resample('D').sum().plot(ax=ax)\n",
    "for policy in policies.policies:\n",
    "    plt.axvspan(policy.start_time, \n",
    "                policy.end_time,\n",
    "                alpha=0.01)\n",
    "plt.axvline('2020-03-23',\n",
    "           linestyle='dashed',\n",
    "           color='indianred')\n",
    "ax.set_ylabel('# daily infections')\n",
    "ax.set_xlabel('Date')"
   ]
  },
  {
   "cell_type": "code",
   "execution_count": 32,
   "metadata": {},
   "outputs": [
    {
     "data": {
      "text/plain": [
       "Text(0.5, 0, 'Date')"
      ]
     },
     "execution_count": 32,
     "metadata": {},
     "output_type": "execute_result"
    },
    {
     "data": {
      "image/png": "[encoded data removed]",
      "text/plain": [
       "<Figure size 576x432 with 1 Axes>"
      ]
     },
     "metadata": {
      "needs_background": "light"
     },
     "output_type": "display_data"
    }
   ],
   "source": [
    "fig, ax = plt.subplots()\n",
    "world_df['daily_hospital_admissions'].resample('D').sum().plot(ax=ax)\n",
    "\n",
    "plt.axvline('2020-04-01',\n",
    "           linestyle='dashed',\n",
    "           color='indianred')\n",
    "ax.set_ylabel('# daily hospital admissions')\n",
    "ax.set_xlabel('Date')"
   ]
  },
  {
   "cell_type": "code",
   "execution_count": 33,
   "metadata": {},
   "outputs": [
    {
     "data": {
      "text/plain": [
       "Text(0.5, 0, 'Date')"
      ]
     },
     "execution_count": 33,
     "metadata": {},
     "output_type": "execute_result"
    },
    {
     "data": {
      "image/png": "[encoded data removed]",
      "text/plain": [
       "<Figure size 576x432 with 1 Axes>"
      ]
     },
     "metadata": {
      "needs_background": "light"
     },
     "output_type": "display_data"
    }
   ],
   "source": [
    "fig, ax = plt.subplots()\n",
    "world_df['current_infected'].plot(ax=ax)\n",
    "\n",
    "ax.set_ylabel('# Infected')\n",
    "ax.set_xlabel('Date')"
   ]
  },
  {
   "cell_type": "markdown",
   "metadata": {},
   "source": [
    "# This sections is currently unavailable due to some adaption of the logger to the parallel version"
   ]
  },
  {
   "cell_type": "markdown",
   "metadata": {},
   "source": [
    "All results are stored in a json file specified in the ``save_path`` variable in the config file. We can also access it from ``world.logger`` directly."
   ]
  },
  {
   "cell_type": "code",
   "execution_count": 27,
   "metadata": {},
   "outputs": [],
   "source": [
    "import pandas as pd"
   ]
  },
  {
   "cell_type": "code",
   "execution_count": 28,
   "metadata": {},
   "outputs": [
    {
     "name": "stdout",
     "output_type": "stream",
     "text": [
      "CPU times: user 62.9 ms, sys: 3.31 ms, total: 66.2 ms\n",
      "Wall time: 66 ms\n"
     ]
    }
   ],
   "source": [
    "%%time\n",
    "read = ReadLogger()"
   ]
  },
  {
   "cell_type": "markdown",
   "metadata": {},
   "source": [
    "## Hospital data and how it changed over time"
   ]
  },
  {
   "cell_type": "code",
   "execution_count": 29,
   "metadata": {},
   "outputs": [
    {
     "ename": "AttributeError",
     "evalue": "'ReadLogger' object has no attribute 'file_path'",
     "output_type": "error",
     "traceback": [
      "\u001b[0;31m---------------------------------------------------------------------------\u001b[0m",
      "\u001b[0;31mAttributeError\u001b[0m                            Traceback (most recent call last)",
      "\u001b[0;32m<ipython-input-29-51499e277f89>\u001b[0m in \u001b[0;36m<module>\u001b[0;34m\u001b[0m\n\u001b[0;32m----> 1\u001b[0;31m \u001b[0mhospitals_characteristics_df\u001b[0m \u001b[0;34m=\u001b[0m \u001b[0mread\u001b[0m\u001b[0;34m.\u001b[0m\u001b[0mload_hospital_characteristics\u001b[0m\u001b[0;34m(\u001b[0m\u001b[0;34m)\u001b[0m\u001b[0;34m\u001b[0m\u001b[0;34m\u001b[0m\u001b[0m\n\u001b[0m",
      "\u001b[0;32m~/code/JUNE/june/logger/read_logger.py\u001b[0m in \u001b[0;36mload_hospital_characteristics\u001b[0;34m(self)\u001b[0m\n\u001b[1;32m    471\u001b[0m         \"\"\"\n\u001b[1;32m    472\u001b[0m         \u001b[0mcoordinates\u001b[0m\u001b[0;34m,\u001b[0m \u001b[0mn_beds\u001b[0m\u001b[0;34m,\u001b[0m \u001b[0mn_icu_beds\u001b[0m\u001b[0;34m,\u001b[0m \u001b[0mtrust_code\u001b[0m \u001b[0;34m=\u001b[0m \u001b[0;34m[\u001b[0m\u001b[0;34m]\u001b[0m\u001b[0;34m,\u001b[0m \u001b[0;34m[\u001b[0m\u001b[0;34m]\u001b[0m\u001b[0;34m,\u001b[0m \u001b[0;34m[\u001b[0m\u001b[0;34m]\u001b[0m\u001b[0;34m,\u001b[0m \u001b[0;34m[\u001b[0m\u001b[0;34m]\u001b[0m\u001b[0;34m\u001b[0m\u001b[0;34m\u001b[0m\u001b[0m\n\u001b[0;32m--> 473\u001b[0;31m         \u001b[0;32mwith\u001b[0m \u001b[0mh5py\u001b[0m\u001b[0;34m.\u001b[0m\u001b[0mFile\u001b[0m\u001b[0;34m(\u001b[0m\u001b[0mself\u001b[0m\u001b[0;34m.\u001b[0m\u001b[0mfile_path\u001b[0m\u001b[0;34m,\u001b[0m \u001b[0;34m\"r\"\u001b[0m\u001b[0;34m,\u001b[0m \u001b[0mlibver\u001b[0m\u001b[0;34m=\u001b[0m\u001b[0;34m\"latest\"\u001b[0m\u001b[0;34m,\u001b[0m \u001b[0mswmr\u001b[0m\u001b[0;34m=\u001b[0m\u001b[0;32mTrue\u001b[0m\u001b[0;34m)\u001b[0m \u001b[0;32mas\u001b[0m \u001b[0mf\u001b[0m\u001b[0;34m:\u001b[0m\u001b[0;34m\u001b[0m\u001b[0;34m\u001b[0m\u001b[0m\n\u001b[0m\u001b[1;32m    474\u001b[0m             super_areas = [\n\u001b[1;32m    475\u001b[0m                 \u001b[0mkey\u001b[0m \u001b[0;32mfor\u001b[0m \u001b[0mkey\u001b[0m \u001b[0;32min\u001b[0m \u001b[0mf\u001b[0m\u001b[0;34m.\u001b[0m\u001b[0mkeys\u001b[0m\u001b[0;34m(\u001b[0m\u001b[0;34m)\u001b[0m \u001b[0;32mif\u001b[0m \u001b[0mkey\u001b[0m \u001b[0;32mnot\u001b[0m \u001b[0;32min\u001b[0m \u001b[0;34m(\u001b[0m\u001b[0;34m\"population\"\u001b[0m\u001b[0;34m,\u001b[0m \u001b[0;34m\"parameters\"\u001b[0m\u001b[0;34m)\u001b[0m\u001b[0;34m\u001b[0m\u001b[0;34m\u001b[0m\u001b[0m\n",
      "\u001b[0;31mAttributeError\u001b[0m: 'ReadLogger' object has no attribute 'file_path'"
     ]
    }
   ],
   "source": [
    "hospitals_characteristics_df = read.load_hospital_characteristics()"
   ]
  },
  {
   "cell_type": "code",
   "execution_count": null,
   "metadata": {},
   "outputs": [],
   "source": [
    "hospitals_characteristics_df"
   ]
  },
  {
   "cell_type": "code",
   "execution_count": null,
   "metadata": {
    "scrolled": true
   },
   "outputs": [],
   "source": [
    "hospitals_df = read.load_hospital_capacity()"
   ]
  },
  {
   "cell_type": "code",
   "execution_count": null,
   "metadata": {},
   "outputs": [],
   "source": [
    "hospitals_df"
   ]
  },
  {
   "cell_type": "markdown",
   "metadata": {},
   "source": [
    "## where did infections happen?"
   ]
  },
  {
   "cell_type": "code",
   "execution_count": null,
   "metadata": {},
   "outputs": [],
   "source": [
    "read.load_infection_location()"
   ]
  },
  {
   "cell_type": "code",
   "execution_count": null,
   "metadata": {},
   "outputs": [],
   "source": [
    "infection_locations = read.get_locations_infections()"
   ]
  },
  {
   "cell_type": "code",
   "execution_count": null,
   "metadata": {},
   "outputs": [],
   "source": [
    "infection_locations"
   ]
  },
  {
   "cell_type": "code",
   "execution_count": null,
   "metadata": {},
   "outputs": [],
   "source": [
    "unique_locations, counts_locations = np.unique(\n",
    "                np.array(infection_locations),\n",
    "                return_counts=True)\n",
    "\n",
    "location_counts_df = pd.DataFrame(\n",
    "    {'locations': unique_locations,\n",
    "    'counts': counts_locations}\n",
    ")\n",
    "location_counts_df.set_index('locations', inplace=True)"
   ]
  },
  {
   "cell_type": "code",
   "execution_count": null,
   "metadata": {},
   "outputs": [],
   "source": [
    "location_counts_df['percent_infections']= 100*(location_counts_df['counts'])/location_counts_df.values.sum()"
   ]
  },
  {
   "cell_type": "code",
   "execution_count": null,
   "metadata": {},
   "outputs": [],
   "source": [
    "import matplotlib.ticker as mtick\n",
    "\n",
    "ax = location_counts_df['percent_infections'].sort_values().plot.bar()\n",
    "ax.yaxis.set_major_formatter(mtick.PercentFormatter())\n",
    "plt.ylabel('Percentage of infections at location')\n",
    "plt.xlabel('location')\n"
   ]
  },
  {
   "cell_type": "markdown",
   "metadata": {},
   "source": [
    "You can use the location id column to find where outbreaks happend and how many people got infected at that location"
   ]
  },
  {
   "cell_type": "code",
   "execution_count": null,
   "metadata": {},
   "outputs": [],
   "source": [
    "unique_id, count_id =  np.unique(\n",
    "        np.array(read.locations_df['location_id'].sum()),\n",
    "        return_counts=True\n",
    ")"
   ]
  },
  {
   "cell_type": "code",
   "execution_count": null,
   "metadata": {},
   "outputs": [],
   "source": [
    "unique_id[np.argsort(count_id)[-5:]]"
   ]
  },
  {
   "cell_type": "code",
   "execution_count": null,
   "metadata": {},
   "outputs": [],
   "source": [
    "count_id[np.argsort(count_id)[-5:]]"
   ]
  },
  {
   "cell_type": "markdown",
   "metadata": {},
   "source": [
    "Alternatively, use the location time series to see where people get infected as a function of time (per week or per day)"
   ]
  },
  {
   "cell_type": "code",
   "execution_count": null,
   "metadata": {},
   "outputs": [],
   "source": [
    "weekly_infections=read.locations_df.resample('W').sum()"
   ]
  },
  {
   "cell_type": "code",
   "execution_count": null,
   "metadata": {},
   "outputs": [],
   "source": [
    "for location in unique_locations:\n",
    "    weekly_infections[str(location)] = weekly_infections.apply(\n",
    "        lambda x: x.location.count(str(location)), axis=1\n",
    "    )"
   ]
  },
  {
   "cell_type": "code",
   "execution_count": null,
   "metadata": {},
   "outputs": [],
   "source": [
    "weekly_infections.iloc[:,3:].plot()"
   ]
  },
  {
   "cell_type": "code",
   "execution_count": null,
   "metadata": {},
   "outputs": [],
   "source": [
    "for location in unique_locations:\n",
    "    read.locations_df[str(location)] = read.locations_df.apply(\n",
    "        lambda x: x.location.count(str(location)), axis=1\n",
    "    )"
   ]
  },
  {
   "cell_type": "code",
   "execution_count": null,
   "metadata": {},
   "outputs": [],
   "source": [
    "read.locations_df.index = pd.to_datetime(read.locations_df.index)\n"
   ]
  },
  {
   "cell_type": "code",
   "execution_count": null,
   "metadata": {},
   "outputs": [],
   "source": [
    "read.locations_df.iloc[:,3:].plot()"
   ]
  },
  {
   "cell_type": "markdown",
   "metadata": {},
   "source": [
    "## rate of infection"
   ]
  },
  {
   "cell_type": "code",
   "execution_count": null,
   "metadata": {},
   "outputs": [],
   "source": [
    "r_df = read.get_r()"
   ]
  },
  {
   "cell_type": "code",
   "execution_count": null,
   "metadata": {},
   "outputs": [],
   "source": [
    "from june.policy import SocialDistancing\n",
    "r_df.plot()\n",
    "colors = [\"yellow\", \"orange\", 'blue']\n",
    "for policy in policies.policies:\n",
    "    if isinstance(policy, SocialDistancing):\n",
    "        plt.axvspan(policy.start_time, \n",
    "                policy.end_time,\n",
    "                facecolor=colors.pop(),\n",
    "                alpha=0.2)\n",
    "plt.axhline(y=1, linestyle='dashed', color='gray')\n",
    "plt.xlabel('Date')\n",
    "plt.ylim(0,3)\n",
    "plt.ylabel('R')"
   ]
  },
  {
   "cell_type": "code",
   "execution_count": 34,
   "metadata": {},
   "outputs": [
    {
     "data": {
      "text/plain": [
       "<matplotlib.legend.Legend at 0x7f1268089b20>"
      ]
     },
     "execution_count": 34,
     "metadata": {},
     "output_type": "execute_result"
    },
    {
     "data": {
      "image/png": "[encoded data removed]",
      "text/plain": [
       "<Figure size 576x432 with 1 Axes>"
      ]
     },
     "metadata": {
      "needs_background": "light"
     },
     "output_type": "display_data"
    }
   ],
   "source": [
    "world_df.plot()\n",
    "\n",
    "plt.legend(bbox_to_anchor=(1,1))\n"
   ]
  },
  {
   "cell_type": "code",
   "execution_count": 35,
   "metadata": {},
   "outputs": [
    {
     "ename": "AttributeError",
     "evalue": "'Series' object has no attribute 'super_areas'",
     "output_type": "error",
     "traceback": [
      "\u001b[0;31m---------------------------------------------------------------------------\u001b[0m",
      "\u001b[0;31mAttributeError\u001b[0m                            Traceback (most recent call last)",
      "\u001b[0;32m<timed exec>\u001b[0m in \u001b[0;36m<module>\u001b[0;34m\u001b[0m\n",
      "\u001b[0;32m~/code/JUNE/june/logger/read_logger.py\u001b[0m in \u001b[0;36mrun_summary\u001b[0;34m(self)\u001b[0m\n\u001b[1;32m    661\u001b[0m \u001b[0;34m\u001b[0m\u001b[0m\n\u001b[1;32m    662\u001b[0m     \u001b[0;32mdef\u001b[0m \u001b[0mrun_summary\u001b[0m\u001b[0;34m(\u001b[0m\u001b[0mself\u001b[0m\u001b[0;34m,\u001b[0m\u001b[0;34m)\u001b[0m\u001b[0;34m:\u001b[0m\u001b[0;34m\u001b[0m\u001b[0;34m\u001b[0m\u001b[0m\n\u001b[0;32m--> 663\u001b[0;31m         \u001b[0msuper_area_df\u001b[0m \u001b[0;34m=\u001b[0m \u001b[0mself\u001b[0m\u001b[0;34m.\u001b[0m\u001b[0msuper_area_summary\u001b[0m\u001b[0;34m(\u001b[0m\u001b[0;34m)\u001b[0m\u001b[0;34m\u001b[0m\u001b[0;34m\u001b[0m\u001b[0m\n\u001b[0m\u001b[1;32m    664\u001b[0m         super_area_df[\"region\"] = self.super_areas_to_region(\n\u001b[1;32m    665\u001b[0m             \u001b[0msuper_area_df\u001b[0m\u001b[0;34m[\u001b[0m\u001b[0;34m\"super_area\"\u001b[0m\u001b[0;34m]\u001b[0m\u001b[0;34m.\u001b[0m\u001b[0mvalues\u001b[0m\u001b[0;34m\u001b[0m\u001b[0;34m\u001b[0m\u001b[0m\n",
      "\u001b[0;32m~/code/JUNE/june/logger/read_logger.py\u001b[0m in \u001b[0;36msuper_area_summary\u001b[0;34m(self)\u001b[0m\n\u001b[1;32m    262\u001b[0m             \u001b[0marea_df\u001b[0m \u001b[0;34m=\u001b[0m \u001b[0mpd\u001b[0m\u001b[0;34m.\u001b[0m\u001b[0mDataFrame\u001b[0m\u001b[0;34m(\u001b[0m\u001b[0;34m)\u001b[0m\u001b[0;34m\u001b[0m\u001b[0;34m\u001b[0m\u001b[0m\n\u001b[1;32m    263\u001b[0m             \u001b[0mn_people_in_area\u001b[0m \u001b[0;34m=\u001b[0m \u001b[0mnp\u001b[0m\u001b[0;34m.\u001b[0m\u001b[0msum\u001b[0m\u001b[0;34m(\u001b[0m\u001b[0mself\u001b[0m\u001b[0;34m.\u001b[0m\u001b[0msuper_areas\u001b[0m \u001b[0;34m==\u001b[0m \u001b[0marea\u001b[0m\u001b[0;34m)\u001b[0m\u001b[0;34m\u001b[0m\u001b[0;34m\u001b[0m\u001b[0m\n\u001b[0;32m--> 264\u001b[0;31m             area_df[\"symptoms\"] = self.infections_df.apply(\n\u001b[0m\u001b[1;32m    265\u001b[0m                 \u001b[0;32mlambda\u001b[0m \u001b[0mx\u001b[0m\u001b[0;34m:\u001b[0m \u001b[0mx\u001b[0m\u001b[0;34m.\u001b[0m\u001b[0msymptoms\u001b[0m\u001b[0;34m[\u001b[0m\u001b[0mx\u001b[0m\u001b[0;34m.\u001b[0m\u001b[0msuper_areas\u001b[0m \u001b[0;34m==\u001b[0m \u001b[0marea\u001b[0m\u001b[0;34m]\u001b[0m\u001b[0;34m,\u001b[0m \u001b[0maxis\u001b[0m\u001b[0;34m=\u001b[0m\u001b[0;36m1\u001b[0m\u001b[0;34m\u001b[0m\u001b[0;34m\u001b[0m\u001b[0m\n\u001b[1;32m    266\u001b[0m             )\n",
      "\u001b[0;32m~/.local/lib/python3.8/site-packages/pandas/core/frame.py\u001b[0m in \u001b[0;36mapply\u001b[0;34m(self, func, axis, raw, result_type, args, **kwds)\u001b[0m\n\u001b[1;32m   6876\u001b[0m             \u001b[0mkwds\u001b[0m\u001b[0;34m=\u001b[0m\u001b[0mkwds\u001b[0m\u001b[0;34m,\u001b[0m\u001b[0;34m\u001b[0m\u001b[0;34m\u001b[0m\u001b[0m\n\u001b[1;32m   6877\u001b[0m         )\n\u001b[0;32m-> 6878\u001b[0;31m         \u001b[0;32mreturn\u001b[0m \u001b[0mop\u001b[0m\u001b[0;34m.\u001b[0m\u001b[0mget_result\u001b[0m\u001b[0;34m(\u001b[0m\u001b[0;34m)\u001b[0m\u001b[0;34m\u001b[0m\u001b[0;34m\u001b[0m\u001b[0m\n\u001b[0m\u001b[1;32m   6879\u001b[0m \u001b[0;34m\u001b[0m\u001b[0m\n\u001b[1;32m   6880\u001b[0m     \u001b[0;32mdef\u001b[0m \u001b[0mapplymap\u001b[0m\u001b[0;34m(\u001b[0m\u001b[0mself\u001b[0m\u001b[0;34m,\u001b[0m \u001b[0mfunc\u001b[0m\u001b[0;34m)\u001b[0m \u001b[0;34m->\u001b[0m \u001b[0;34m\"DataFrame\"\u001b[0m\u001b[0;34m:\u001b[0m\u001b[0;34m\u001b[0m\u001b[0;34m\u001b[0m\u001b[0m\n",
      "\u001b[0;32m~/.local/lib/python3.8/site-packages/pandas/core/apply.py\u001b[0m in \u001b[0;36mget_result\u001b[0;34m(self)\u001b[0m\n\u001b[1;32m    184\u001b[0m             \u001b[0;32mreturn\u001b[0m \u001b[0mself\u001b[0m\u001b[0;34m.\u001b[0m\u001b[0mapply_raw\u001b[0m\u001b[0;34m(\u001b[0m\u001b[0;34m)\u001b[0m\u001b[0;34m\u001b[0m\u001b[0;34m\u001b[0m\u001b[0m\n\u001b[1;32m    185\u001b[0m \u001b[0;34m\u001b[0m\u001b[0m\n\u001b[0;32m--> 186\u001b[0;31m         \u001b[0;32mreturn\u001b[0m \u001b[0mself\u001b[0m\u001b[0;34m.\u001b[0m\u001b[0mapply_standard\u001b[0m\u001b[0;34m(\u001b[0m\u001b[0;34m)\u001b[0m\u001b[0;34m\u001b[0m\u001b[0;34m\u001b[0m\u001b[0m\n\u001b[0m\u001b[1;32m    187\u001b[0m \u001b[0;34m\u001b[0m\u001b[0m\n\u001b[1;32m    188\u001b[0m     \u001b[0;32mdef\u001b[0m \u001b[0mapply_empty_result\u001b[0m\u001b[0;34m(\u001b[0m\u001b[0mself\u001b[0m\u001b[0;34m)\u001b[0m\u001b[0;34m:\u001b[0m\u001b[0;34m\u001b[0m\u001b[0;34m\u001b[0m\u001b[0m\n",
      "\u001b[0;32m~/.local/lib/python3.8/site-packages/pandas/core/apply.py\u001b[0m in \u001b[0;36mapply_standard\u001b[0;34m(self)\u001b[0m\n\u001b[1;32m    293\u001b[0m \u001b[0;34m\u001b[0m\u001b[0m\n\u001b[1;32m    294\u001b[0m             \u001b[0;32mtry\u001b[0m\u001b[0;34m:\u001b[0m\u001b[0;34m\u001b[0m\u001b[0;34m\u001b[0m\u001b[0m\n\u001b[0;32m--> 295\u001b[0;31m                 result = libreduction.compute_reduction(\n\u001b[0m\u001b[1;32m    296\u001b[0m                     \u001b[0mvalues\u001b[0m\u001b[0;34m,\u001b[0m \u001b[0mself\u001b[0m\u001b[0;34m.\u001b[0m\u001b[0mf\u001b[0m\u001b[0;34m,\u001b[0m \u001b[0maxis\u001b[0m\u001b[0;34m=\u001b[0m\u001b[0mself\u001b[0m\u001b[0;34m.\u001b[0m\u001b[0maxis\u001b[0m\u001b[0;34m,\u001b[0m \u001b[0mdummy\u001b[0m\u001b[0;34m=\u001b[0m\u001b[0mdummy\u001b[0m\u001b[0;34m,\u001b[0m \u001b[0mlabels\u001b[0m\u001b[0;34m=\u001b[0m\u001b[0mlabels\u001b[0m\u001b[0;34m\u001b[0m\u001b[0;34m\u001b[0m\u001b[0m\n\u001b[1;32m    297\u001b[0m                 )\n",
      "\u001b[0;32mpandas/_libs/reduction.pyx\u001b[0m in \u001b[0;36mpandas._libs.reduction.compute_reduction\u001b[0;34m()\u001b[0m\n",
      "\u001b[0;32mpandas/_libs/reduction.pyx\u001b[0m in \u001b[0;36mpandas._libs.reduction.Reducer.get_result\u001b[0;34m()\u001b[0m\n",
      "\u001b[0;32m~/code/JUNE/june/logger/read_logger.py\u001b[0m in \u001b[0;36m<lambda>\u001b[0;34m(x)\u001b[0m\n\u001b[1;32m    263\u001b[0m             \u001b[0mn_people_in_area\u001b[0m \u001b[0;34m=\u001b[0m \u001b[0mnp\u001b[0m\u001b[0;34m.\u001b[0m\u001b[0msum\u001b[0m\u001b[0;34m(\u001b[0m\u001b[0mself\u001b[0m\u001b[0;34m.\u001b[0m\u001b[0msuper_areas\u001b[0m \u001b[0;34m==\u001b[0m \u001b[0marea\u001b[0m\u001b[0;34m)\u001b[0m\u001b[0;34m\u001b[0m\u001b[0;34m\u001b[0m\u001b[0m\n\u001b[1;32m    264\u001b[0m             area_df[\"symptoms\"] = self.infections_df.apply(\n\u001b[0;32m--> 265\u001b[0;31m                 \u001b[0;32mlambda\u001b[0m \u001b[0mx\u001b[0m\u001b[0;34m:\u001b[0m \u001b[0mx\u001b[0m\u001b[0;34m.\u001b[0m\u001b[0msymptoms\u001b[0m\u001b[0;34m[\u001b[0m\u001b[0mx\u001b[0m\u001b[0;34m.\u001b[0m\u001b[0msuper_areas\u001b[0m \u001b[0;34m==\u001b[0m \u001b[0marea\u001b[0m\u001b[0;34m]\u001b[0m\u001b[0;34m,\u001b[0m \u001b[0maxis\u001b[0m\u001b[0;34m=\u001b[0m\u001b[0;36m1\u001b[0m\u001b[0;34m\u001b[0m\u001b[0;34m\u001b[0m\u001b[0m\n\u001b[0m\u001b[1;32m    266\u001b[0m             )\n\u001b[1;32m    267\u001b[0m             area_df[\"infected_id\"] = self.infections_df.apply(\n",
      "\u001b[0;32m~/.local/lib/python3.8/site-packages/pandas/core/generic.py\u001b[0m in \u001b[0;36m__getattr__\u001b[0;34m(self, name)\u001b[0m\n\u001b[1;32m   5272\u001b[0m             \u001b[0;32mif\u001b[0m \u001b[0mself\u001b[0m\u001b[0;34m.\u001b[0m\u001b[0m_info_axis\u001b[0m\u001b[0;34m.\u001b[0m\u001b[0m_can_hold_identifiers_and_holds_name\u001b[0m\u001b[0;34m(\u001b[0m\u001b[0mname\u001b[0m\u001b[0;34m)\u001b[0m\u001b[0;34m:\u001b[0m\u001b[0;34m\u001b[0m\u001b[0;34m\u001b[0m\u001b[0m\n\u001b[1;32m   5273\u001b[0m                 \u001b[0;32mreturn\u001b[0m \u001b[0mself\u001b[0m\u001b[0;34m[\u001b[0m\u001b[0mname\u001b[0m\u001b[0;34m]\u001b[0m\u001b[0;34m\u001b[0m\u001b[0;34m\u001b[0m\u001b[0m\n\u001b[0;32m-> 5274\u001b[0;31m             \u001b[0;32mreturn\u001b[0m \u001b[0mobject\u001b[0m\u001b[0;34m.\u001b[0m\u001b[0m__getattribute__\u001b[0m\u001b[0;34m(\u001b[0m\u001b[0mself\u001b[0m\u001b[0;34m,\u001b[0m \u001b[0mname\u001b[0m\u001b[0;34m)\u001b[0m\u001b[0;34m\u001b[0m\u001b[0;34m\u001b[0m\u001b[0m\n\u001b[0m\u001b[1;32m   5275\u001b[0m \u001b[0;34m\u001b[0m\u001b[0m\n\u001b[1;32m   5276\u001b[0m     \u001b[0;32mdef\u001b[0m \u001b[0m__setattr__\u001b[0m\u001b[0;34m(\u001b[0m\u001b[0mself\u001b[0m\u001b[0;34m,\u001b[0m \u001b[0mname\u001b[0m\u001b[0;34m:\u001b[0m \u001b[0mstr\u001b[0m\u001b[0;34m,\u001b[0m \u001b[0mvalue\u001b[0m\u001b[0;34m)\u001b[0m \u001b[0;34m->\u001b[0m \u001b[0;32mNone\u001b[0m\u001b[0;34m:\u001b[0m\u001b[0;34m\u001b[0m\u001b[0;34m\u001b[0m\u001b[0m\n",
      "\u001b[0;31mAttributeError\u001b[0m: 'Series' object has no attribute 'super_areas'"
     ]
    }
   ],
   "source": [
    "%%time\n",
    "run_summary = read.run_summary()"
   ]
  },
  {
   "cell_type": "code",
   "execution_count": null,
   "metadata": {},
   "outputs": [],
   "source": [
    "run_summary"
   ]
  },
  {
   "cell_type": "code",
   "execution_count": null,
   "metadata": {},
   "outputs": [],
   "source": [
    "regional_run_summary = run_summary.groupby(['region', run_summary.index]).sum()"
   ]
  },
  {
   "cell_type": "code",
   "execution_count": null,
   "metadata": {},
   "outputs": [],
   "source": [
    "regional_run_summary.loc['North East']['daily_infections'].plot(label='North East')\n",
    "world_df['daily_infections'].resample('D').sum().plot(linestyle='dashed', label='world')\n",
    "plt.legend()"
   ]
  },
  {
   "cell_type": "markdown",
   "metadata": {},
   "source": [
    "## World infection curves per age group"
   ]
  },
  {
   "cell_type": "code",
   "execution_count": null,
   "metadata": {},
   "outputs": [],
   "source": [
    "%%time\n",
    "ages_df = read.age_summary([0,10,20,30,40,\n",
    "                  50,60,70,80,90,100])"
   ]
  },
  {
   "cell_type": "code",
   "execution_count": null,
   "metadata": {},
   "outputs": [],
   "source": [
    "for name, group in ages_df.groupby('age_range'):\n",
    "    group['current_infected'].plot(label=name)\n",
    "colors = [\"yellow\", \"orange\",\"blue\"]\n",
    "\n",
    "plt.legend(bbox_to_anchor=(1,1))\n"
   ]
  },
  {
   "cell_type": "code",
   "execution_count": null,
   "metadata": {},
   "outputs": [],
   "source": [
    "read.super_areas"
   ]
  },
  {
   "cell_type": "code",
   "execution_count": null,
   "metadata": {},
   "outputs": [],
   "source": [
    "regions = read.region_summary()"
   ]
  },
  {
   "cell_type": "code",
   "execution_count": null,
   "metadata": {},
   "outputs": [],
   "source": [
    "regions"
   ]
  },
  {
   "cell_type": "markdown",
   "metadata": {},
   "source": [
    "## Draw some of the symptoms trajectories"
   ]
  },
  {
   "cell_type": "code",
   "execution_count": null,
   "metadata": {},
   "outputs": [],
   "source": [
    "random_trajectories = read.draw_symptom_trajectories(window_length=600,\n",
    "                                        n_people=10)"
   ]
  },
  {
   "cell_type": "code",
   "execution_count": null,
   "metadata": {},
   "outputs": [],
   "source": [
    "from june.infection import SymptomTag"
   ]
  },
  {
   "cell_type": "code",
   "execution_count": null,
   "metadata": {},
   "outputs": [],
   "source": [
    "symptoms_values = [tag.value for tag in SymptomTag]\n",
    "symptoms_names = [tag.name for tag in SymptomTag]\n"
   ]
  },
  {
   "cell_type": "code",
   "execution_count": null,
   "metadata": {},
   "outputs": [],
   "source": [
    "for df_person in random_trajectories:\n",
    "    df_person['symptoms'].plot()\n",
    "plt.ylabel('Symptoms Trajectory')\n",
    "_ = plt.yticks(symptoms_values, symptoms_names)\n",
    "plt.xlabel('Date')"
   ]
  },
  {
   "cell_type": "code",
   "execution_count": null,
   "metadata": {},
   "outputs": [],
   "source": [
    "for df_person in random_trajectories:\n",
    "    df_person['n_secondary_infections'].plot()\n",
    "plt.ylabel('Number of secondary infections')\n",
    "\n",
    "plt.xlabel('Date')"
   ]
  },
  {
   "cell_type": "code",
   "execution_count": null,
   "metadata": {},
   "outputs": [],
   "source": []
  },
  {
   "cell_type": "code",
   "execution_count": null,
   "metadata": {},
   "outputs": [],
   "source": []
  }
 ],
 "metadata": {
  "kernelspec": {
   "display_name": "Python 3",
   "language": "python",
   "name": "python3"
  },
  "language_info": {
   "codemirror_mode": {
    "name": "ipython",
    "version": 3
   },
   "file_extension": ".py",
   "mimetype": "text/x-python",
   "name": "python",
   "nbconvert_exporter": "python",
   "pygments_lexer": "ipython3",
   "version": "3.8.5"
  }
 },
 "nbformat": 4,
 "nbformat_minor": 4
}
