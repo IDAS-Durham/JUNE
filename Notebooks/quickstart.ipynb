{
 "cells": [
  {
   "cell_type": "code",
   "execution_count": 1,
   "metadata": {},
   "outputs": [],
   "source": [
    "%load_ext autoreload\n",
    "%autoreload 2"
   ]
  },
  {
   "cell_type": "code",
   "execution_count": 2,
   "metadata": {},
   "outputs": [],
   "source": [
    "import numpy as np\n",
    "import time\n",
    "from datetime import datetime\n",
    "import matplotlib.pyplot as plt\n",
    "import seaborn as sns\n",
    "sns.set_context('notebook')"
   ]
  },
  {
   "cell_type": "code",
   "execution_count": 3,
   "metadata": {},
   "outputs": [
    {
     "name": "stderr",
     "output_type": "stream",
     "text": [
      "No --data argument given - defaulting to:\n",
      "/home/florpi/JUNE/data\n",
      "No --configs argument given - defaulting to:\n",
      "/home/florpi/JUNE/configs\n"
     ]
    }
   ],
   "source": [
    "from june import World \n",
    "from june.demography.geography import Geography\n",
    "from june.demography import Demography\n",
    "from june.interaction import Interaction\n",
    "from june.infection import Infection, HealthIndexGenerator\n",
    "from june.infection.transmission import TransmissionConstant\n",
    "from june.groups import Hospitals, Schools, Companies, Households, CareHomes, Cemeteries, Universities\n",
    "from june.groups.leisure import generate_leisure_for_config, Cinemas, Pubs, Groceries\n",
    "from june.simulator import Simulator\n",
    "from june.infection_seed import InfectionSeed\n",
    "from june.policy import Policy, Policies\n",
    "from june import paths\n",
    "from june.hdf5_savers import load_geography_from_hdf5\n",
    "from june.logger.read_logger import ReadLogger\n",
    "from june.infection.infection import InfectionSelector\n",
    "from june.world import generate_world_from_hdf5, generate_world_from_geography"
   ]
  },
  {
   "cell_type": "markdown",
   "metadata": {},
   "source": [
    "# Initialize world\n",
    "\n",
    "To initialize a certain world, we need to add the different components we want to have in it. First we specify what super areas (msoa) we want to create. We have included these ones, because they are known to contain hospitals, schools, care homes, and companies.\n",
    "\n",
    "After creating the geography, we create the different components the worlds need to have such as care homes, companies ..."
   ]
  },
  {
   "cell_type": "code",
   "execution_count": 4,
   "metadata": {},
   "outputs": [],
   "source": [
    "CONFIG_PATH = \"../configs/config_example.yaml\""
   ]
  },
  {
   "cell_type": "code",
   "execution_count": 5,
   "metadata": {},
   "outputs": [
    {
     "name": "stdout",
     "output_type": "stream",
     "text": [
      "2020-08-04 15:49:31,856 - june.demography.geography - INFO - There are 129 areas and 5 super_areas in the world.\n",
      "2020-08-04 15:49:31,863 - june.groups.hospital - INFO - There are 1 hospitals in this geography.\n",
      "2020-08-04 15:49:31,947 - june.groups.school - INFO - There are 19 schools in this geography.\n",
      "2020-08-04 15:49:31,974 - june.groups.school - INFO - No school for the age 0 in this world.\n",
      "2020-08-04 15:49:31,977 - june.groups.school - INFO - No school for the age 1 in this world.\n",
      "2020-08-04 15:49:31,981 - june.groups.school - INFO - No school for the age 2 in this world.\n",
      "2020-08-04 15:49:32,299 - june.groups.carehome - INFO - There are 9 care_homes in this geography.\n",
      "2020-08-04 15:49:44,689 - numexpr.utils - INFO - NumExpr defaulting to 4 threads.\n",
      "2020-08-04 15:49:49,551 - june.distributors.worker_distributor - INFO - There are 0 who had to be told to stay real\n",
      "CPU times: user 42.5 s, sys: 1.85 s, total: 44.3 s\n",
      "Wall time: 45.7 s\n"
     ]
    }
   ],
   "source": [
    "%%time \n",
    "\n",
    "geography = Geography.from_file(\n",
    "        {\n",
    "            \"super_area\": [\n",
    "                \"E02003282\",\n",
    "                \"E02001720\",\n",
    "                \"E02002560\",\n",
    "                \"E02002559\",\n",
    "                \"E02004314\",\n",
    "            ]\n",
    "        }\n",
    ")\n",
    "\n",
    "geography.hospitals = Hospitals.for_geography(geography)\n",
    "geography.schools = Schools.for_geography(geography)\n",
    "geography.companies = Companies.for_geography(geography)\n",
    "geography.care_homes = CareHomes.for_geography(geography)\n",
    "geography.universities = Universities.for_super_areas(geography.super_areas)\n",
    "world = generate_world_from_geography(geography, include_households=True, include_commute=True)"
   ]
  },
  {
   "cell_type": "markdown",
   "metadata": {},
   "source": [
    "## Commute, travel and leisure"
   ]
  },
  {
   "cell_type": "code",
   "execution_count": 6,
   "metadata": {},
   "outputs": [
    {
     "name": "stdout",
     "output_type": "stream",
     "text": [
      "2020-08-04 15:50:20,617 - june.groups.leisure.leisure - INFO - Distributing social venues to households\n",
      "2020-08-04 15:50:20,659 - june.groups.leisure.leisure - INFO - Distributed in 0 of 16223 households.\n"
     ]
    }
   ],
   "source": [
    "world.pubs = Pubs.for_geography(geography)\n",
    "world.cinemas = Cinemas.for_geography(geography)\n",
    "world.groceries = Groceries.for_geography(geography)\n",
    "leisure = generate_leisure_for_config(world, config_filename=CONFIG_PATH)\n",
    "leisure.distribute_social_venues_to_households(world.households) # this assigns possible social venues to people."
   ]
  },
  {
   "cell_type": "markdown",
   "metadata": {},
   "source": [
    "We are also going to need some cemeteries...geography.cemeteries = Cemeteries()\n"
   ]
  },
  {
   "cell_type": "code",
   "execution_count": 7,
   "metadata": {},
   "outputs": [],
   "source": [
    "world.cemeteries = Cemeteries()"
   ]
  },
  {
   "cell_type": "code",
   "execution_count": 8,
   "metadata": {},
   "outputs": [
    {
     "data": {
      "text/plain": [
       "46784"
      ]
     },
     "execution_count": 8,
     "metadata": {},
     "output_type": "execute_result"
    }
   ],
   "source": [
    "len(world.people)"
   ]
  },
  {
   "cell_type": "markdown",
   "metadata": {},
   "source": [
    "### If it took a long time to run the previous commands, it might be a good idea to save the world to reuse it later."
   ]
  },
  {
   "cell_type": "code",
   "execution_count": 9,
   "metadata": {},
   "outputs": [],
   "source": [
    "world.to_hdf5(\"world.hdf5\")"
   ]
  },
  {
   "cell_type": "markdown",
   "metadata": {},
   "source": [
    "If we would like to load the world we saved, we just do"
   ]
  },
  {
   "cell_type": "code",
   "execution_count": 10,
   "metadata": {},
   "outputs": [
    {
     "name": "stdout",
     "output_type": "stream",
     "text": [
      "loading world data ...\n",
      "loading population from hdf5 .\n",
      "loading companies from hdf5 .\n",
      "loading households from hdf5 .\n",
      "restoring world...\n",
      "restoring people...\n",
      "done\n",
      "restoring areas...\n",
      "done\n",
      "restoring households...\n",
      "done\n",
      "restoring care homes...\n",
      "done\n",
      "restoring commute...\n",
      "done\n"
     ]
    }
   ],
   "source": [
    "world = generate_world_from_hdf5(\"world.hdf5\")"
   ]
  },
  {
   "cell_type": "code",
   "execution_count": 11,
   "metadata": {},
   "outputs": [],
   "source": [
    "# and regenerate leisure in case we load it externally\n",
    "leisure = generate_leisure_for_config(world, CONFIG_PATH)"
   ]
  },
  {
   "cell_type": "markdown",
   "metadata": {},
   "source": [
    "you have now a beautiful pre-pandemic world. "
   ]
  },
  {
   "cell_type": "markdown",
   "metadata": {},
   "source": [
    "# Adding the infection"
   ]
  },
  {
   "cell_type": "markdown",
   "metadata": {},
   "source": [
    "The module in charge of infecting people is called the ``InfectionSelector``, which gives people a transmission time profile and a symptoms trajectory based on their age and sex (through the health index generator)"
   ]
  },
  {
   "cell_type": "code",
   "execution_count": 12,
   "metadata": {},
   "outputs": [],
   "source": [
    "health_index_generator = HealthIndexGenerator.from_file(asymptomatic_ratio=0.2)\n",
    "selector = InfectionSelector.from_file(\n",
    "        health_index_generator=health_index_generator,\n",
    "        transmission_config_path=paths.configs_path / 'defaults/transmission/nature.yaml'\n",
    ")"
   ]
  },
  {
   "cell_type": "code",
   "execution_count": 13,
   "metadata": {},
   "outputs": [
    {
     "data": {
      "text/plain": [
       "0.2"
      ]
     },
     "execution_count": 13,
     "metadata": {},
     "output_type": "execute_result"
    }
   ],
   "source": [
    "selector.health_index_generator.asymptomatic_ratio"
   ]
  },
  {
   "cell_type": "markdown",
   "metadata": {},
   "source": [
    "# Adding the interaction"
   ]
  },
  {
   "cell_type": "code",
   "execution_count": 14,
   "metadata": {},
   "outputs": [],
   "source": [
    "interaction = Interaction.from_file()"
   ]
  },
  {
   "cell_type": "markdown",
   "metadata": {},
   "source": [
    "Beta are the intensities of the interaction taking place at the different groups"
   ]
  },
  {
   "cell_type": "code",
   "execution_count": 15,
   "metadata": {},
   "outputs": [
    {
     "data": {
      "text/plain": [
       "{'box': 1,\n",
       " 'pub': 0.1,\n",
       " 'grocery': 0.1,\n",
       " 'cinema': 0.1,\n",
       " 'commute_unit': 1.0,\n",
       " 'commute_city_unit': 1.0,\n",
       " 'hospital': 1.0,\n",
       " 'care_home': 1.0,\n",
       " 'company': 0.1,\n",
       " 'school': 0.1,\n",
       " 'household': 0.2,\n",
       " 'university': 0.01}"
      ]
     },
     "execution_count": 15,
     "metadata": {},
     "output_type": "execute_result"
    }
   ],
   "source": [
    "interaction.beta"
   ]
  },
  {
   "cell_type": "markdown",
   "metadata": {},
   "source": [
    "to modify these, simply do"
   ]
  },
  {
   "cell_type": "code",
   "execution_count": 16,
   "metadata": {},
   "outputs": [],
   "source": [
    "for key in interaction.beta.keys():\n",
    "    interaction.beta[key] *= 2"
   ]
  },
  {
   "cell_type": "code",
   "execution_count": 17,
   "metadata": {},
   "outputs": [
    {
     "data": {
      "text/plain": [
       "{'box': 2,\n",
       " 'pub': 0.2,\n",
       " 'grocery': 0.2,\n",
       " 'cinema': 0.2,\n",
       " 'commute_unit': 2.0,\n",
       " 'commute_city_unit': 2.0,\n",
       " 'hospital': 2.0,\n",
       " 'care_home': 2.0,\n",
       " 'company': 0.2,\n",
       " 'school': 0.2,\n",
       " 'household': 0.4,\n",
       " 'university': 0.02}"
      ]
     },
     "execution_count": 17,
     "metadata": {},
     "output_type": "execute_result"
    }
   ],
   "source": [
    "interaction.beta"
   ]
  },
  {
   "cell_type": "markdown",
   "metadata": {},
   "source": [
    "moreover this interaction module uses contact matrices, that are different for different groups. These contact matrices shouldnt be modified for now. However they are a combination of conversational contact matrices, and physical contact matrices (see the BBC pandemic paper, from where these matrices are extracted https://www.medrxiv.org/content/10.1101/2020.02.16.20023754v2)\n",
    "\n",
    "There is a parameter, ``alpha`` ($\\alpha$), that combines these two matrices in the following way,\n",
    "\n",
    "\n",
    "$\\beta M \\left(1 + (\\alpha -1) \\right) P$\n",
    "\n",
    "where $\\beta$ is the intensity of the interaction, and $P$ the physical contact matrix. A larger $\\alpha$ produces more physical contacts. It is an overall number, non dependent of the particular group.\n"
   ]
  },
  {
   "cell_type": "code",
   "execution_count": 18,
   "metadata": {},
   "outputs": [
    {
     "data": {
      "text/plain": [
       "2.0"
      ]
     },
     "execution_count": 18,
     "metadata": {},
     "output_type": "execute_result"
    }
   ],
   "source": [
    "interaction.alpha_physical"
   ]
  },
  {
   "cell_type": "markdown",
   "metadata": {},
   "source": [
    "# Seed the disease"
   ]
  },
  {
   "cell_type": "markdown",
   "metadata": {},
   "source": [
    "There are two options implemented in the seed at the moment, either you specify the number of cases and these are then homogeneously distributed by population to the different areas, or you use UK data on cases per region. For now use the first case."
   ]
  },
  {
   "cell_type": "code",
   "execution_count": 19,
   "metadata": {},
   "outputs": [],
   "source": [
    "infection_seed = InfectionSeed(\n",
    "    world.super_areas, selector,\n",
    ")"
   ]
  },
  {
   "cell_type": "code",
   "execution_count": 20,
   "metadata": {},
   "outputs": [],
   "source": [
    "n_cases = 50\n",
    "infection_seed.unleash_virus(n_cases) # play around with the initial number of cases"
   ]
  },
  {
   "cell_type": "markdown",
   "metadata": {},
   "source": [
    "# Set policies"
   ]
  },
  {
   "cell_type": "code",
   "execution_count": 21,
   "metadata": {},
   "outputs": [],
   "source": [
    "policies = Policies.from_file()"
   ]
  },
  {
   "cell_type": "code",
   "execution_count": 22,
   "metadata": {},
   "outputs": [
    {
     "data": {
      "text/plain": [
       "<june.policy.policy.Policies at 0x7f82112dea60>"
      ]
     },
     "execution_count": 22,
     "metadata": {},
     "output_type": "execute_result"
    }
   ],
   "source": [
    "policies"
   ]
  },
  {
   "cell_type": "markdown",
   "metadata": {},
   "source": [
    "# Run the simulation"
   ]
  },
  {
   "cell_type": "markdown",
   "metadata": {},
   "source": [
    "The simulator is the main module in charge of running the simulation. It coordinates the ``ActivityManager`` which is responsible of allocating people to the right groups given the current timestep, it updates the health status of the population, and it runs the interaction over the different groups. All of these modules can be modified by policies at any given time."
   ]
  },
  {
   "cell_type": "markdown",
   "metadata": {},
   "source": [
    "Since the timer configuration is a bit cumbersome, it is read from the config file at ``configs/config_example.yaml``"
   ]
  },
  {
   "cell_type": "code",
   "execution_count": 23,
   "metadata": {},
   "outputs": [],
   "source": [
    "simulator = Simulator.from_file(\n",
    "    world=world,\n",
    "    infection_selector=selector,\n",
    "    interaction=interaction, \n",
    "    config_filename = CONFIG_PATH,\n",
    "    leisure = leisure,\n",
    "    policies = policies\n",
    ")"
   ]
  },
  {
   "cell_type": "code",
   "execution_count": null,
   "metadata": {
    "scrolled": true
   },
   "outputs": [
    {
     "name": "stdout",
     "output_type": "stream",
     "text": [
      "2020-08-04 15:50:45,076 - june.simulator - INFO - Starting group_dynamics for 210 days at day 0\n",
      "2020-08-04 15:50:45,079 - june.simulator - INFO - starting the loop ..., at 0 days, to run for 210 days\n",
      "2020-08-04 15:50:46,492 - june.simulator - INFO - Date = 2020-03-01 04:00:00, number of deaths =  0, number of infected = 50\n",
      "2020-08-04 15:50:47,084 - june.simulator - INFO - Date = 2020-03-01 08:00:00, number of deaths =  0, number of infected = 50\n",
      "2020-08-04 15:50:47,409 - june.simulator - INFO - Date = 2020-03-01 12:00:00, number of deaths =  0, number of infected = 50\n",
      "2020-08-04 15:50:47,733 - june.simulator - INFO - Date = 2020-03-02 00:00:00, number of deaths =  0, number of infected = 50\n",
      "2020-08-04 15:50:48,137 - june.simulator - INFO - Date = 2020-03-02 01:00:00, number of deaths =  0, number of infected = 50\n",
      "2020-08-04 15:50:48,735 - june.simulator - INFO - Date = 2020-03-02 09:00:00, number of deaths =  0, number of infected = 51\n",
      "2020-08-04 15:50:49,328 - june.simulator - INFO - Date = 2020-03-02 10:00:00, number of deaths =  0, number of infected = 51\n",
      "2020-08-04 15:50:49,650 - june.simulator - INFO - Date = 2020-03-02 13:00:00, number of deaths =  0, number of infected = 51\n",
      "2020-08-04 15:50:49,978 - june.simulator - INFO - Date = 2020-03-03 00:00:00, number of deaths =  0, number of infected = 51\n",
      "2020-08-04 15:50:50,385 - june.simulator - INFO - Date = 2020-03-03 01:00:00, number of deaths =  0, number of infected = 52\n",
      "2020-08-04 15:50:50,770 - june.simulator - INFO - Date = 2020-03-03 09:00:00, number of deaths =  0, number of infected = 54\n",
      "2020-08-04 15:50:51,347 - june.simulator - INFO - Date = 2020-03-03 10:00:00, number of deaths =  0, number of infected = 54\n",
      "2020-08-04 15:50:51,687 - june.simulator - INFO - Date = 2020-03-03 13:00:00, number of deaths =  0, number of infected = 55\n",
      "2020-08-04 15:50:52,049 - june.simulator - INFO - Date = 2020-03-04 00:00:00, number of deaths =  0, number of infected = 58\n",
      "2020-08-04 15:50:52,452 - june.simulator - INFO - Date = 2020-03-04 01:00:00, number of deaths =  0, number of infected = 59\n",
      "2020-08-04 15:50:53,894 - june.simulator - INFO - Date = 2020-03-04 09:00:00, number of deaths =  0, number of infected = 71\n",
      "2020-08-04 15:50:54,522 - june.simulator - INFO - Date = 2020-03-04 10:00:00, number of deaths =  0, number of infected = 76\n",
      "2020-08-04 15:50:54,864 - june.simulator - INFO - Date = 2020-03-04 13:00:00, number of deaths =  0, number of infected = 78\n",
      "2020-08-04 15:50:55,314 - june.simulator - INFO - Date = 2020-03-05 00:00:00, number of deaths =  0, number of infected = 91\n",
      "2020-08-04 15:50:55,707 - june.simulator - INFO - Date = 2020-03-05 01:00:00, number of deaths =  0, number of infected = 91\n",
      "2020-08-04 15:50:56,428 - june.simulator - INFO - Date = 2020-03-05 09:00:00, number of deaths =  0, number of infected = 109\n",
      "2020-08-04 15:50:57,024 - june.simulator - INFO - Date = 2020-03-05 10:00:00, number of deaths =  0, number of infected = 109\n",
      "2020-08-04 15:50:57,381 - june.simulator - INFO - Date = 2020-03-05 13:00:00, number of deaths =  0, number of infected = 112\n",
      "2020-08-04 15:50:57,804 - june.simulator - INFO - Date = 2020-03-06 00:00:00, number of deaths =  0, number of infected = 121\n",
      "2020-08-04 15:50:58,227 - june.simulator - INFO - Date = 2020-03-06 01:00:00, number of deaths =  0, number of infected = 122\n",
      "2020-08-04 15:50:59,019 - june.simulator - INFO - Date = 2020-03-06 09:00:00, number of deaths =  0, number of infected = 172\n",
      "2020-08-04 15:50:59,635 - june.simulator - INFO - Date = 2020-03-06 10:00:00, number of deaths =  0, number of infected = 173\n",
      "2020-08-04 15:51:00,065 - june.simulator - INFO - Date = 2020-03-06 13:00:00, number of deaths =  0, number of infected = 183\n",
      "2020-08-04 15:51:00,819 - june.simulator - INFO - Date = 2020-03-07 00:00:00, number of deaths =  0, number of infected = 200\n",
      "2020-08-04 15:51:01,549 - june.simulator - INFO - Date = 2020-03-07 04:00:00, number of deaths =  0, number of infected = 216\n",
      "2020-08-04 15:51:02,294 - june.simulator - INFO - Date = 2020-03-07 08:00:00, number of deaths =  0, number of infected = 232\n",
      "2020-08-04 15:51:02,753 - june.simulator - INFO - Date = 2020-03-07 12:00:00, number of deaths =  0, number of infected = 243\n",
      "2020-08-04 15:51:03,392 - june.simulator - INFO - Date = 2020-03-08 00:00:00, number of deaths =  0, number of infected = 255\n",
      "2020-08-04 15:51:04,079 - june.simulator - INFO - Date = 2020-03-08 04:00:00, number of deaths =  0, number of infected = 271\n",
      "2020-08-04 15:51:04,755 - june.simulator - INFO - Date = 2020-03-08 08:00:00, number of deaths =  0, number of infected = 284\n",
      "2020-08-04 15:51:05,262 - june.simulator - INFO - Date = 2020-03-08 12:00:00, number of deaths =  0, number of infected = 304\n",
      "2020-08-04 15:51:05,803 - june.simulator - INFO - Date = 2020-03-09 00:00:00, number of deaths =  0, number of infected = 328\n",
      "2020-08-04 15:51:06,219 - june.simulator - INFO - Date = 2020-03-09 01:00:00, number of deaths =  0, number of infected = 330\n",
      "2020-08-04 15:51:07,966 - june.simulator - INFO - Date = 2020-03-09 09:00:00, number of deaths =  0, number of infected = 441\n",
      "2020-08-04 15:51:08,576 - june.simulator - INFO - Date = 2020-03-09 10:00:00, number of deaths =  0, number of infected = 446\n",
      "2020-08-04 15:51:09,014 - june.simulator - INFO - Date = 2020-03-09 13:00:00, number of deaths =  0, number of infected = 462\n",
      "2020-08-04 15:51:09,662 - june.simulator - INFO - Date = 2020-03-10 00:00:00, number of deaths =  0, number of infected = 503\n",
      "2020-08-04 15:51:10,134 - june.simulator - INFO - Date = 2020-03-10 01:00:00, number of deaths =  0, number of infected = 512\n",
      "2020-08-04 15:51:11,685 - june.simulator - INFO - Date = 2020-03-10 09:00:00, number of deaths =  0, number of infected = 687\n",
      "2020-08-04 15:51:12,387 - june.simulator - INFO - Date = 2020-03-10 10:00:00, number of deaths =  0, number of infected = 706\n",
      "2020-08-04 15:51:12,912 - june.simulator - INFO - Date = 2020-03-10 13:00:00, number of deaths =  0, number of infected = 731\n",
      "2020-08-04 15:51:14,080 - june.simulator - INFO - Date = 2020-03-11 00:00:00, number of deaths =  0, number of infected = 791\n",
      "2020-08-04 15:51:14,699 - june.simulator - INFO - Date = 2020-03-11 01:00:00, number of deaths =  0, number of infected = 816\n",
      "2020-08-04 15:51:15,797 - june.simulator - INFO - Date = 2020-03-11 09:00:00, number of deaths =  0, number of infected = 908\n",
      "2020-08-04 15:51:16,729 - june.simulator - INFO - Date = 2020-03-11 10:00:00, number of deaths =  0, number of infected = 953\n",
      "2020-08-04 15:51:17,341 - june.simulator - INFO - Date = 2020-03-11 13:00:00, number of deaths =  0, number of infected = 982\n",
      "2020-08-04 15:51:18,446 - june.simulator - INFO - Date = 2020-03-12 00:00:00, number of deaths =  0, number of infected = 1078\n",
      "2020-08-04 15:51:19,223 - june.simulator - INFO - Date = 2020-03-12 01:00:00, number of deaths =  0, number of infected = 1116\n",
      "2020-08-04 15:51:20,884 - june.simulator - INFO - Date = 2020-03-12 09:00:00, number of deaths =  0, number of infected = 1244\n",
      "2020-08-04 15:51:21,998 - june.simulator - INFO - Date = 2020-03-12 10:00:00, number of deaths =  0, number of infected = 1309\n",
      "2020-08-04 15:51:22,759 - june.simulator - INFO - Date = 2020-03-12 13:00:00, number of deaths =  0, number of infected = 1353\n",
      "2020-08-04 15:51:24,010 - june.simulator - INFO - Date = 2020-03-13 00:00:00, number of deaths =  0, number of infected = 1463\n",
      "2020-08-04 15:51:25,147 - june.simulator - INFO - Date = 2020-03-13 01:00:00, number of deaths =  0, number of infected = 1549\n",
      "2020-08-04 15:51:27,674 - june.simulator - INFO - Date = 2020-03-13 09:00:00, number of deaths =  0, number of infected = 1760\n",
      "2020-08-04 15:51:29,069 - june.simulator - INFO - Date = 2020-03-13 10:00:00, number of deaths =  0, number of infected = 1854\n",
      "2020-08-04 15:51:30,129 - june.simulator - INFO - Date = 2020-03-13 13:00:00, number of deaths =  0, number of infected = 1932\n",
      "2020-08-04 15:51:32,093 - june.simulator - INFO - Date = 2020-03-14 00:00:00, number of deaths =  0, number of infected = 2118\n",
      "2020-08-04 15:51:34,073 - june.simulator - INFO - Date = 2020-03-14 04:00:00, number of deaths =  0, number of infected = 2254\n",
      "2020-08-04 15:51:35,567 - june.simulator - INFO - Date = 2020-03-14 08:00:00, number of deaths =  0, number of infected = 2354\n"
     ]
    },
    {
     "name": "stdout",
     "output_type": "stream",
     "text": [
      "2020-08-04 15:51:36,747 - june.simulator - INFO - Date = 2020-03-14 12:00:00, number of deaths =  0, number of infected = 2448\n",
      "2020-08-04 15:51:38,658 - june.simulator - INFO - Date = 2020-03-15 00:00:00, number of deaths =  0, number of infected = 2618\n",
      "2020-08-04 15:51:40,679 - june.simulator - INFO - Date = 2020-03-15 04:00:00, number of deaths =  0, number of infected = 2750\n",
      "2020-08-04 15:51:42,991 - june.simulator - INFO - Date = 2020-03-15 08:00:00, number of deaths =  0, number of infected = 2964\n",
      "2020-08-04 15:51:44,719 - june.simulator - INFO - Date = 2020-03-15 12:00:00, number of deaths =  0, number of infected = 3070\n",
      "2020-08-04 15:51:47,821 - june.simulator - INFO - Date = 2020-03-16 00:00:00, number of deaths =  0, number of infected = 3267\n",
      "2020-08-04 15:51:49,472 - june.simulator - INFO - Date = 2020-03-16 01:00:00, number of deaths =  0, number of infected = 3332\n",
      "2020-08-04 15:51:52,061 - june.simulator - INFO - Date = 2020-03-16 09:00:00, number of deaths =  0, number of infected = 3541\n",
      "2020-08-04 15:51:53,635 - june.simulator - INFO - Date = 2020-03-16 10:00:00, number of deaths =  0, number of infected = 3575\n",
      "2020-08-04 15:51:55,356 - june.simulator - INFO - Date = 2020-03-16 13:00:00, number of deaths =  0, number of infected = 3654\n",
      "2020-08-04 15:51:58,530 - june.simulator - INFO - Date = 2020-03-17 00:00:00, number of deaths =  0, number of infected = 3859\n",
      "2020-08-04 15:52:00,005 - june.simulator - INFO - Date = 2020-03-17 01:00:00, number of deaths =  0, number of infected = 3881\n",
      "2020-08-04 15:52:02,987 - june.simulator - INFO - Date = 2020-03-17 09:00:00, number of deaths =  0, number of infected = 4085\n",
      "2020-08-04 15:52:04,749 - june.simulator - INFO - Date = 2020-03-17 10:00:00, number of deaths =  0, number of infected = 4115\n",
      "2020-08-04 15:52:06,536 - june.simulator - INFO - Date = 2020-03-17 13:00:00, number of deaths =  0, number of infected = 4188\n",
      "2020-08-04 15:52:10,106 - june.simulator - INFO - Date = 2020-03-18 00:00:00, number of deaths =  0, number of infected = 4424\n",
      "2020-08-04 15:52:11,656 - june.simulator - INFO - Date = 2020-03-18 01:00:00, number of deaths =  0, number of infected = 4441\n",
      "2020-08-04 15:52:14,371 - june.simulator - INFO - Date = 2020-03-18 09:00:00, number of deaths =  0, number of infected = 4659\n",
      "2020-08-04 15:52:15,949 - june.simulator - INFO - Date = 2020-03-18 10:00:00, number of deaths =  0, number of infected = 4686\n",
      "2020-08-04 15:52:18,083 - june.simulator - INFO - Date = 2020-03-18 13:00:00, number of deaths =  0, number of infected = 4767\n",
      "2020-08-04 15:52:20,881 - june.simulator - INFO - Date = 2020-03-19 00:00:00, number of deaths =  0, number of infected = 5000\n",
      "2020-08-04 15:52:22,373 - june.simulator - INFO - Date = 2020-03-19 01:00:00, number of deaths =  0, number of infected = 5025\n",
      "2020-08-04 15:52:25,289 - june.simulator - INFO - Date = 2020-03-19 09:00:00, number of deaths =  0, number of infected = 5272\n",
      "2020-08-04 15:52:26,889 - june.simulator - INFO - Date = 2020-03-19 10:00:00, number of deaths =  0, number of infected = 5293\n",
      "2020-08-04 15:52:29,175 - june.simulator - INFO - Date = 2020-03-19 13:00:00, number of deaths =  0, number of infected = 5392\n",
      "2020-08-04 15:52:32,526 - june.simulator - INFO - Date = 2020-03-20 00:00:00, number of deaths =  0, number of infected = 5645\n",
      "2020-08-04 15:52:34,625 - june.simulator - INFO - Date = 2020-03-20 01:00:00, number of deaths =  0, number of infected = 5668\n",
      "2020-08-04 15:52:39,790 - june.simulator - INFO - Date = 2020-03-20 09:00:00, number of deaths =  0, number of infected = 5926\n",
      "2020-08-04 15:52:41,940 - june.simulator - INFO - Date = 2020-03-20 10:00:00, number of deaths =  0, number of infected = 5945\n",
      "2020-08-04 15:52:44,918 - june.simulator - INFO - Date = 2020-03-20 13:00:00, number of deaths =  0, number of infected = 6070\n",
      "2020-08-04 15:52:48,833 - june.simulator - INFO - Date = 2020-03-21 00:00:00, number of deaths =  0, number of infected = 6324\n",
      "2020-08-04 15:52:52,216 - june.simulator - INFO - Date = 2020-03-21 04:00:00, number of deaths =  0, number of infected = 6448\n",
      "2020-08-04 15:52:55,123 - june.simulator - INFO - Date = 2020-03-21 08:00:00, number of deaths =  1, number of infected = 6568\n",
      "2020-08-04 15:52:58,846 - june.simulator - INFO - Date = 2020-03-21 12:00:00, number of deaths =  1, number of infected = 6693\n",
      "2020-08-04 15:53:02,973 - june.simulator - INFO - Date = 2020-03-22 00:00:00, number of deaths =  1, number of infected = 6963\n",
      "2020-08-04 15:53:06,243 - june.simulator - INFO - Date = 2020-03-22 04:00:00, number of deaths =  1, number of infected = 7056\n",
      "2020-08-04 15:53:09,434 - june.simulator - INFO - Date = 2020-03-22 08:00:00, number of deaths =  1, number of infected = 7155\n",
      "2020-08-04 15:53:12,150 - june.simulator - INFO - Date = 2020-03-22 12:00:00, number of deaths =  1, number of infected = 7239\n",
      "2020-08-04 15:53:15,396 - june.simulator - INFO - Date = 2020-03-23 00:00:00, number of deaths =  1, number of infected = 7466\n",
      "2020-08-04 15:53:17,346 - june.simulator - INFO - Date = 2020-03-23 01:00:00, number of deaths =  1, number of infected = 7490\n",
      "2020-08-04 15:53:21,007 - june.simulator - INFO - Date = 2020-03-23 09:00:00, number of deaths =  2, number of infected = 7782\n",
      "2020-08-04 15:53:22,969 - june.simulator - INFO - Date = 2020-03-23 10:00:00, number of deaths =  2, number of infected = 7809\n",
      "2020-08-04 15:53:25,461 - june.simulator - INFO - Date = 2020-03-23 13:00:00, number of deaths =  2, number of infected = 7904\n",
      "2020-08-04 15:53:30,744 - june.simulator - INFO - Date = 2020-03-24 00:00:00, number of deaths =  2, number of infected = 8138\n",
      "2020-08-04 15:53:33,191 - june.simulator - INFO - Date = 2020-03-24 01:00:00, number of deaths =  2, number of infected = 8161\n",
      "2020-08-04 15:53:37,691 - june.simulator - INFO - Date = 2020-03-24 09:00:00, number of deaths =  4, number of infected = 8448\n",
      "2020-08-04 15:53:40,149 - june.simulator - INFO - Date = 2020-03-24 10:00:00, number of deaths =  4, number of infected = 8467\n",
      "2020-08-04 15:53:43,300 - june.simulator - INFO - Date = 2020-03-24 13:00:00, number of deaths =  4, number of infected = 8559\n",
      "2020-08-04 15:53:47,184 - june.simulator - INFO - Date = 2020-03-25 00:00:00, number of deaths =  4, number of infected = 8772\n",
      "2020-08-04 15:53:49,466 - june.simulator - INFO - Date = 2020-03-25 01:00:00, number of deaths =  4, number of infected = 8789\n",
      "2020-08-04 15:53:53,900 - june.simulator - INFO - Date = 2020-03-25 09:00:00, number of deaths =  4, number of infected = 9074\n",
      "2020-08-04 15:53:57,415 - june.simulator - INFO - Date = 2020-03-25 10:00:00, number of deaths =  4, number of infected = 9089\n",
      "2020-08-04 15:54:02,118 - june.simulator - INFO - Date = 2020-03-25 13:00:00, number of deaths =  4, number of infected = 9179\n",
      "2020-08-04 15:54:07,562 - june.simulator - INFO - Date = 2020-03-26 00:00:00, number of deaths =  4, number of infected = 9426\n",
      "2020-08-04 15:54:10,195 - june.simulator - INFO - Date = 2020-03-26 01:00:00, number of deaths =  4, number of infected = 9455\n",
      "2020-08-04 15:54:16,072 - june.simulator - INFO - Date = 2020-03-26 09:00:00, number of deaths =  4, number of infected = 9745\n",
      "2020-08-04 15:54:20,344 - june.simulator - INFO - Date = 2020-03-26 10:00:00, number of deaths =  4, number of infected = 9769\n",
      "2020-08-04 15:54:23,441 - june.simulator - INFO - Date = 2020-03-26 13:00:00, number of deaths =  5, number of infected = 9850\n",
      "2020-08-04 15:54:27,954 - june.simulator - INFO - Date = 2020-03-27 00:00:00, number of deaths =  8, number of infected = 10107\n",
      "2020-08-04 15:54:30,926 - june.simulator - INFO - Date = 2020-03-27 01:00:00, number of deaths =  8, number of infected = 10135\n",
      "2020-08-04 15:54:35,989 - june.simulator - INFO - Date = 2020-03-27 09:00:00, number of deaths =  9, number of infected = 10416\n",
      "2020-08-04 15:54:38,754 - june.simulator - INFO - Date = 2020-03-27 10:00:00, number of deaths =  9, number of infected = 10448\n",
      "2020-08-04 15:54:42,427 - june.simulator - INFO - Date = 2020-03-27 13:00:00, number of deaths =  10, number of infected = 10524\n",
      "2020-08-04 15:54:47,465 - june.simulator - INFO - Date = 2020-03-28 00:00:00, number of deaths =  10, number of infected = 10766\n",
      "2020-08-04 15:54:51,220 - june.simulator - INFO - Date = 2020-03-28 04:00:00, number of deaths =  10, number of infected = 10898\n"
     ]
    },
    {
     "name": "stdout",
     "output_type": "stream",
     "text": [
      "2020-08-04 15:54:54,938 - june.simulator - INFO - Date = 2020-03-28 08:00:00, number of deaths =  10, number of infected = 11031\n",
      "2020-08-04 15:54:59,090 - june.simulator - INFO - Date = 2020-03-28 12:00:00, number of deaths =  13, number of infected = 11159\n",
      "2020-08-04 15:55:03,788 - june.simulator - INFO - Date = 2020-03-29 00:00:00, number of deaths =  15, number of infected = 11370\n",
      "2020-08-04 15:55:07,494 - june.simulator - INFO - Date = 2020-03-29 04:00:00, number of deaths =  15, number of infected = 11484\n",
      "2020-08-04 15:55:11,195 - june.simulator - INFO - Date = 2020-03-29 08:00:00, number of deaths =  15, number of infected = 11593\n",
      "2020-08-04 15:55:15,327 - june.simulator - INFO - Date = 2020-03-29 12:00:00, number of deaths =  15, number of infected = 11716\n",
      "2020-08-04 15:55:20,084 - june.simulator - INFO - Date = 2020-03-30 00:00:00, number of deaths =  15, number of infected = 11924\n",
      "2020-08-04 15:55:23,018 - june.simulator - INFO - Date = 2020-03-30 01:00:00, number of deaths =  15, number of infected = 11939\n",
      "2020-08-04 15:55:30,450 - june.simulator - INFO - Date = 2020-03-30 09:00:00, number of deaths =  15, number of infected = 12196\n",
      "2020-08-04 15:55:33,421 - june.simulator - INFO - Date = 2020-03-30 10:00:00, number of deaths =  15, number of infected = 12213\n",
      "2020-08-04 15:55:38,373 - june.simulator - INFO - Date = 2020-03-30 13:00:00, number of deaths =  15, number of infected = 12281\n",
      "2020-08-04 15:55:44,527 - june.simulator - INFO - Date = 2020-03-31 00:00:00, number of deaths =  16, number of infected = 12460\n",
      "2020-08-04 15:55:49,473 - june.simulator - INFO - Date = 2020-03-31 01:00:00, number of deaths =  16, number of infected = 12473\n",
      "2020-08-04 15:55:56,994 - june.simulator - INFO - Date = 2020-03-31 09:00:00, number of deaths =  16, number of infected = 12746\n",
      "2020-08-04 15:56:00,893 - june.simulator - INFO - Date = 2020-03-31 10:00:00, number of deaths =  16, number of infected = 12764\n",
      "2020-08-04 15:56:08,082 - june.simulator - INFO - Date = 2020-03-31 13:00:00, number of deaths =  17, number of infected = 12846\n",
      "2020-08-04 15:56:14,323 - june.simulator - INFO - Date = 2020-04-01 00:00:00, number of deaths =  19, number of infected = 13045\n",
      "2020-08-04 15:56:18,531 - june.simulator - INFO - Date = 2020-04-01 01:00:00, number of deaths =  19, number of infected = 13056\n",
      "2020-08-04 15:56:27,643 - june.simulator - INFO - Date = 2020-04-01 09:00:00, number of deaths =  19, number of infected = 13306\n",
      "2020-08-04 15:56:31,619 - june.simulator - INFO - Date = 2020-04-01 10:00:00, number of deaths =  19, number of infected = 13316\n",
      "2020-08-04 15:56:36,132 - june.simulator - INFO - Date = 2020-04-01 13:00:00, number of deaths =  19, number of infected = 13382\n",
      "2020-08-04 15:56:41,459 - june.simulator - INFO - Date = 2020-04-02 00:00:00, number of deaths =  19, number of infected = 13510\n",
      "2020-08-04 15:56:44,875 - june.simulator - INFO - Date = 2020-04-02 01:00:00, number of deaths =  19, number of infected = 13529\n",
      "2020-08-04 15:56:50,759 - june.simulator - INFO - Date = 2020-04-02 09:00:00, number of deaths =  20, number of infected = 13749\n",
      "2020-08-04 15:56:54,309 - june.simulator - INFO - Date = 2020-04-02 10:00:00, number of deaths =  20, number of infected = 13774\n",
      "2020-08-04 15:56:58,054 - june.simulator - INFO - Date = 2020-04-02 13:00:00, number of deaths =  20, number of infected = 13832\n",
      "2020-08-04 15:57:03,277 - june.simulator - INFO - Date = 2020-04-03 00:00:00, number of deaths =  21, number of infected = 13993\n",
      "2020-08-04 15:57:06,785 - june.simulator - INFO - Date = 2020-04-03 01:00:00, number of deaths =  21, number of infected = 14008\n",
      "2020-08-04 15:57:13,184 - june.simulator - INFO - Date = 2020-04-03 09:00:00, number of deaths =  21, number of infected = 14186\n",
      "2020-08-04 15:57:19,749 - june.simulator - INFO - Date = 2020-04-03 10:00:00, number of deaths =  22, number of infected = 14197\n",
      "2020-08-04 15:57:26,434 - june.simulator - INFO - Date = 2020-04-03 13:00:00, number of deaths =  23, number of infected = 14246\n",
      "2020-08-04 15:57:34,908 - june.simulator - INFO - Date = 2020-04-04 00:00:00, number of deaths =  24, number of infected = 14352\n",
      "2020-08-04 15:57:39,193 - june.simulator - INFO - Date = 2020-04-04 04:00:00, number of deaths =  24, number of infected = 14375\n",
      "2020-08-04 15:57:43,400 - june.simulator - INFO - Date = 2020-04-04 08:00:00, number of deaths =  25, number of infected = 14416\n",
      "2020-08-04 15:57:48,369 - june.simulator - INFO - Date = 2020-04-04 12:00:00, number of deaths =  26, number of infected = 14455\n",
      "2020-08-04 15:57:53,680 - june.simulator - INFO - Date = 2020-04-05 00:00:00, number of deaths =  28, number of infected = 14501\n",
      "2020-08-04 15:57:57,446 - june.simulator - INFO - Date = 2020-04-05 04:00:00, number of deaths =  28, number of infected = 14541\n",
      "2020-08-04 15:58:01,364 - june.simulator - INFO - Date = 2020-04-05 08:00:00, number of deaths =  28, number of infected = 14563\n",
      "2020-08-04 15:58:05,153 - june.simulator - INFO - Date = 2020-04-05 12:00:00, number of deaths =  28, number of infected = 14592\n",
      "2020-08-04 15:58:11,352 - june.simulator - INFO - Date = 2020-04-06 00:00:00, number of deaths =  29, number of infected = 14625\n",
      "2020-08-04 15:58:14,676 - june.simulator - INFO - Date = 2020-04-06 01:00:00, number of deaths =  29, number of infected = 14625\n",
      "2020-08-04 15:58:19,722 - june.simulator - INFO - Date = 2020-04-06 09:00:00, number of deaths =  29, number of infected = 14738\n",
      "2020-08-04 15:58:22,924 - june.simulator - INFO - Date = 2020-04-06 10:00:00, number of deaths =  29, number of infected = 14737\n",
      "2020-08-04 15:58:26,282 - june.simulator - INFO - Date = 2020-04-06 13:00:00, number of deaths =  29, number of infected = 14766\n",
      "2020-08-04 15:58:30,351 - june.simulator - INFO - Date = 2020-04-07 00:00:00, number of deaths =  29, number of infected = 14721\n",
      "2020-08-04 15:58:33,460 - june.simulator - INFO - Date = 2020-04-07 01:00:00, number of deaths =  29, number of infected = 14721\n",
      "2020-08-04 15:58:38,417 - june.simulator - INFO - Date = 2020-04-07 09:00:00, number of deaths =  29, number of infected = 14768\n",
      "2020-08-04 15:58:42,799 - june.simulator - INFO - Date = 2020-04-07 10:00:00, number of deaths =  29, number of infected = 14767\n",
      "2020-08-04 15:58:47,678 - june.simulator - INFO - Date = 2020-04-07 13:00:00, number of deaths =  29, number of infected = 14769\n",
      "2020-08-04 15:58:52,335 - june.simulator - INFO - Date = 2020-04-08 00:00:00, number of deaths =  30, number of infected = 14711\n",
      "2020-08-04 15:58:55,725 - june.simulator - INFO - Date = 2020-04-08 01:00:00, number of deaths =  30, number of infected = 14710\n",
      "2020-08-04 15:59:03,510 - june.simulator - INFO - Date = 2020-04-08 09:00:00, number of deaths =  30, number of infected = 14788\n",
      "2020-08-04 15:59:10,095 - june.simulator - INFO - Date = 2020-04-08 10:00:00, number of deaths =  30, number of infected = 14785\n",
      "2020-08-04 15:59:16,783 - june.simulator - INFO - Date = 2020-04-08 13:00:00, number of deaths =  31, number of infected = 14791\n",
      "2020-08-04 15:59:21,672 - june.simulator - INFO - Date = 2020-04-09 00:00:00, number of deaths =  32, number of infected = 14779\n",
      "2020-08-04 15:59:25,298 - june.simulator - INFO - Date = 2020-04-09 01:00:00, number of deaths =  33, number of infected = 14779\n",
      "2020-08-04 15:59:30,813 - june.simulator - INFO - Date = 2020-04-09 09:00:00, number of deaths =  33, number of infected = 14864\n",
      "2020-08-04 15:59:33,872 - june.simulator - INFO - Date = 2020-04-09 10:00:00, number of deaths =  33, number of infected = 14861\n",
      "2020-08-04 15:59:37,132 - june.simulator - INFO - Date = 2020-04-09 13:00:00, number of deaths =  33, number of infected = 14840\n",
      "2020-08-04 15:59:41,112 - june.simulator - INFO - Date = 2020-04-10 00:00:00, number of deaths =  36, number of infected = 14756\n",
      "2020-08-04 15:59:44,405 - june.simulator - INFO - Date = 2020-04-10 01:00:00, number of deaths =  36, number of infected = 14766\n",
      "2020-08-04 15:59:48,736 - june.simulator - INFO - Date = 2020-04-10 09:00:00, number of deaths =  38, number of infected = 14785\n",
      "2020-08-04 15:59:51,710 - june.simulator - INFO - Date = 2020-04-10 10:00:00, number of deaths =  38, number of infected = 14787\n",
      "2020-08-04 15:59:54,956 - june.simulator - INFO - Date = 2020-04-10 13:00:00, number of deaths =  39, number of infected = 14789\n"
     ]
    },
    {
     "name": "stdout",
     "output_type": "stream",
     "text": [
      "2020-08-04 15:59:59,646 - june.simulator - INFO - Date = 2020-04-11 00:00:00, number of deaths =  42, number of infected = 14726\n",
      "2020-08-04 16:00:02,909 - june.simulator - INFO - Date = 2020-04-11 04:00:00, number of deaths =  42, number of infected = 14685\n",
      "2020-08-04 16:00:06,819 - june.simulator - INFO - Date = 2020-04-11 08:00:00, number of deaths =  42, number of infected = 14665\n",
      "2020-08-04 16:00:11,739 - june.simulator - INFO - Date = 2020-04-11 12:00:00, number of deaths =  43, number of infected = 14636\n",
      "2020-08-04 16:00:17,291 - june.simulator - INFO - Date = 2020-04-12 00:00:00, number of deaths =  44, number of infected = 14511\n",
      "2020-08-04 16:00:21,934 - june.simulator - INFO - Date = 2020-04-12 04:00:00, number of deaths =  44, number of infected = 14478\n",
      "2020-08-04 16:00:26,216 - june.simulator - INFO - Date = 2020-04-12 08:00:00, number of deaths =  44, number of infected = 14429\n",
      "2020-08-04 16:00:30,132 - june.simulator - INFO - Date = 2020-04-12 12:00:00, number of deaths =  44, number of infected = 14415\n",
      "2020-08-04 16:00:34,854 - june.simulator - INFO - Date = 2020-04-13 00:00:00, number of deaths =  44, number of infected = 14273\n",
      "2020-08-04 16:00:38,341 - june.simulator - INFO - Date = 2020-04-13 01:00:00, number of deaths =  44, number of infected = 14271\n",
      "2020-08-04 16:00:42,826 - june.simulator - INFO - Date = 2020-04-13 09:00:00, number of deaths =  45, number of infected = 14259\n",
      "2020-08-04 16:00:46,139 - june.simulator - INFO - Date = 2020-04-13 10:00:00, number of deaths =  45, number of infected = 14245\n",
      "2020-08-04 16:00:50,226 - june.simulator - INFO - Date = 2020-04-13 13:00:00, number of deaths =  46, number of infected = 14211\n",
      "2020-08-04 16:00:54,373 - june.simulator - INFO - Date = 2020-04-14 00:00:00, number of deaths =  46, number of infected = 14076\n",
      "2020-08-04 16:00:57,691 - june.simulator - INFO - Date = 2020-04-14 01:00:00, number of deaths =  46, number of infected = 14068\n",
      "2020-08-04 16:01:01,879 - june.simulator - INFO - Date = 2020-04-14 09:00:00, number of deaths =  46, number of infected = 14013\n",
      "2020-08-04 16:01:05,166 - june.simulator - INFO - Date = 2020-04-14 10:00:00, number of deaths =  46, number of infected = 14007\n",
      "2020-08-04 16:01:08,431 - june.simulator - INFO - Date = 2020-04-14 13:00:00, number of deaths =  46, number of infected = 13966\n",
      "2020-08-04 16:01:13,239 - june.simulator - INFO - Date = 2020-04-15 00:00:00, number of deaths =  46, number of infected = 13826\n",
      "2020-08-04 16:01:16,709 - june.simulator - INFO - Date = 2020-04-15 01:00:00, number of deaths =  46, number of infected = 13811\n",
      "2020-08-04 16:01:21,917 - june.simulator - INFO - Date = 2020-04-15 09:00:00, number of deaths =  46, number of infected = 13738\n",
      "2020-08-04 16:01:24,991 - june.simulator - INFO - Date = 2020-04-15 10:00:00, number of deaths =  46, number of infected = 13726\n",
      "2020-08-04 16:01:28,170 - june.simulator - INFO - Date = 2020-04-15 13:00:00, number of deaths =  47, number of infected = 13693\n",
      "2020-08-04 16:01:32,309 - june.simulator - INFO - Date = 2020-04-16 00:00:00, number of deaths =  47, number of infected = 13559\n",
      "2020-08-04 16:01:35,755 - june.simulator - INFO - Date = 2020-04-16 01:00:00, number of deaths =  47, number of infected = 13541\n",
      "2020-08-04 16:01:39,886 - june.simulator - INFO - Date = 2020-04-16 09:00:00, number of deaths =  47, number of infected = 13442\n",
      "2020-08-04 16:01:43,101 - june.simulator - INFO - Date = 2020-04-16 10:00:00, number of deaths =  47, number of infected = 13414\n",
      "2020-08-04 16:01:47,017 - june.simulator - INFO - Date = 2020-04-16 13:00:00, number of deaths =  47, number of infected = 13376\n",
      "2020-08-04 16:01:50,982 - june.simulator - INFO - Date = 2020-04-17 00:00:00, number of deaths =  47, number of infected = 13169\n",
      "2020-08-04 16:01:54,390 - june.simulator - INFO - Date = 2020-04-17 01:00:00, number of deaths =  47, number of infected = 13159\n",
      "2020-08-04 16:01:58,461 - june.simulator - INFO - Date = 2020-04-17 09:00:00, number of deaths =  47, number of infected = 13057\n",
      "2020-08-04 16:02:01,484 - june.simulator - INFO - Date = 2020-04-17 10:00:00, number of deaths =  47, number of infected = 13048\n",
      "2020-08-04 16:02:04,826 - june.simulator - INFO - Date = 2020-04-17 13:00:00, number of deaths =  47, number of infected = 13018\n",
      "2020-08-04 16:02:09,107 - june.simulator - INFO - Date = 2020-04-18 00:00:00, number of deaths =  48, number of infected = 12828\n",
      "2020-08-04 16:02:12,375 - june.simulator - INFO - Date = 2020-04-18 04:00:00, number of deaths =  48, number of infected = 12766\n",
      "2020-08-04 16:02:17,247 - june.simulator - INFO - Date = 2020-04-18 08:00:00, number of deaths =  49, number of infected = 12708\n",
      "2020-08-04 16:02:21,854 - june.simulator - INFO - Date = 2020-04-18 12:00:00, number of deaths =  49, number of infected = 12650\n",
      "2020-08-04 16:02:26,562 - june.simulator - INFO - Date = 2020-04-19 00:00:00, number of deaths =  49, number of infected = 12392\n",
      "2020-08-04 16:02:31,158 - june.simulator - INFO - Date = 2020-04-19 04:00:00, number of deaths =  50, number of infected = 12336\n",
      "2020-08-04 16:02:36,117 - june.simulator - INFO - Date = 2020-04-19 08:00:00, number of deaths =  50, number of infected = 12257\n",
      "2020-08-04 16:02:39,564 - june.simulator - INFO - Date = 2020-04-19 12:00:00, number of deaths =  50, number of infected = 12185\n",
      "2020-08-04 16:02:43,058 - june.simulator - INFO - Date = 2020-04-20 00:00:00, number of deaths =  51, number of infected = 11929\n",
      "2020-08-04 16:02:46,226 - june.simulator - INFO - Date = 2020-04-20 01:00:00, number of deaths =  51, number of infected = 11908\n",
      "2020-08-04 16:02:50,888 - june.simulator - INFO - Date = 2020-04-20 09:00:00, number of deaths =  51, number of infected = 11809\n",
      "2020-08-04 16:02:53,973 - june.simulator - INFO - Date = 2020-04-20 10:00:00, number of deaths =  51, number of infected = 11786\n",
      "2020-08-04 16:02:57,364 - june.simulator - INFO - Date = 2020-04-20 13:00:00, number of deaths =  51, number of infected = 11727\n",
      "2020-08-04 16:03:00,977 - june.simulator - INFO - Date = 2020-04-21 00:00:00, number of deaths =  51, number of infected = 11530\n",
      "2020-08-04 16:03:03,712 - june.simulator - INFO - Date = 2020-04-21 01:00:00, number of deaths =  51, number of infected = 11502\n",
      "2020-08-04 16:03:07,236 - june.simulator - INFO - Date = 2020-04-21 09:00:00, number of deaths =  51, number of infected = 11388\n",
      "2020-08-04 16:03:09,792 - june.simulator - INFO - Date = 2020-04-21 10:00:00, number of deaths =  51, number of infected = 11366\n",
      "2020-08-04 16:03:12,481 - june.simulator - INFO - Date = 2020-04-21 13:00:00, number of deaths =  51, number of infected = 11318\n",
      "2020-08-04 16:03:15,766 - june.simulator - INFO - Date = 2020-04-22 00:00:00, number of deaths =  51, number of infected = 11069\n",
      "2020-08-04 16:03:18,370 - june.simulator - INFO - Date = 2020-04-22 01:00:00, number of deaths =  51, number of infected = 11038\n",
      "2020-08-04 16:03:21,607 - june.simulator - INFO - Date = 2020-04-22 09:00:00, number of deaths =  52, number of infected = 10916\n",
      "2020-08-04 16:03:24,078 - june.simulator - INFO - Date = 2020-04-22 10:00:00, number of deaths =  52, number of infected = 10886\n",
      "2020-08-04 16:03:26,471 - june.simulator - INFO - Date = 2020-04-22 13:00:00, number of deaths =  52, number of infected = 10817\n",
      "2020-08-04 16:03:30,036 - june.simulator - INFO - Date = 2020-04-23 00:00:00, number of deaths =  52, number of infected = 10567\n",
      "2020-08-04 16:03:32,460 - june.simulator - INFO - Date = 2020-04-23 01:00:00, number of deaths =  52, number of infected = 10539\n",
      "2020-08-04 16:03:35,244 - june.simulator - INFO - Date = 2020-04-23 09:00:00, number of deaths =  53, number of infected = 10392\n",
      "2020-08-04 16:03:37,554 - june.simulator - INFO - Date = 2020-04-23 10:00:00, number of deaths =  53, number of infected = 10364\n",
      "2020-08-04 16:03:39,962 - june.simulator - INFO - Date = 2020-04-23 13:00:00, number of deaths =  54, number of infected = 10283\n",
      "2020-08-04 16:03:42,740 - june.simulator - INFO - Date = 2020-04-24 00:00:00, number of deaths =  55, number of infected = 10058\n",
      "2020-08-04 16:03:45,154 - june.simulator - INFO - Date = 2020-04-24 01:00:00, number of deaths =  55, number of infected = 10032\n",
      "2020-08-04 16:03:47,923 - june.simulator - INFO - Date = 2020-04-24 09:00:00, number of deaths =  56, number of infected = 9884\n"
     ]
    },
    {
     "name": "stdout",
     "output_type": "stream",
     "text": [
      "2020-08-04 16:03:50,281 - june.simulator - INFO - Date = 2020-04-24 10:00:00, number of deaths =  56, number of infected = 9864\n",
      "2020-08-04 16:03:52,517 - june.simulator - INFO - Date = 2020-04-24 13:00:00, number of deaths =  56, number of infected = 9799\n",
      "2020-08-04 16:03:55,240 - june.simulator - INFO - Date = 2020-04-25 00:00:00, number of deaths =  57, number of infected = 9570\n",
      "2020-08-04 16:03:57,817 - june.simulator - INFO - Date = 2020-04-25 04:00:00, number of deaths =  57, number of infected = 9505\n",
      "2020-08-04 16:04:00,275 - june.simulator - INFO - Date = 2020-04-25 08:00:00, number of deaths =  58, number of infected = 9400\n",
      "2020-08-04 16:04:02,584 - june.simulator - INFO - Date = 2020-04-25 12:00:00, number of deaths =  58, number of infected = 9311\n",
      "2020-08-04 16:04:05,252 - june.simulator - INFO - Date = 2020-04-26 00:00:00, number of deaths =  58, number of infected = 9064\n",
      "2020-08-04 16:04:08,370 - june.simulator - INFO - Date = 2020-04-26 04:00:00, number of deaths =  58, number of infected = 8993\n",
      "2020-08-04 16:04:10,804 - june.simulator - INFO - Date = 2020-04-26 08:00:00, number of deaths =  60, number of infected = 8901\n",
      "2020-08-04 16:04:13,020 - june.simulator - INFO - Date = 2020-04-26 12:00:00, number of deaths =  60, number of infected = 8830\n",
      "2020-08-04 16:04:15,451 - june.simulator - INFO - Date = 2020-04-27 00:00:00, number of deaths =  60, number of infected = 8590\n",
      "2020-08-04 16:04:17,720 - june.simulator - INFO - Date = 2020-04-27 01:00:00, number of deaths =  60, number of infected = 8566\n",
      "2020-08-04 16:04:20,259 - june.simulator - INFO - Date = 2020-04-27 09:00:00, number of deaths =  61, number of infected = 8413\n",
      "2020-08-04 16:04:22,402 - june.simulator - INFO - Date = 2020-04-27 10:00:00, number of deaths =  61, number of infected = 8395\n",
      "2020-08-04 16:04:24,464 - june.simulator - INFO - Date = 2020-04-27 13:00:00, number of deaths =  61, number of infected = 8340\n",
      "2020-08-04 16:04:26,684 - june.simulator - INFO - Date = 2020-04-28 00:00:00, number of deaths =  61, number of infected = 8109\n",
      "2020-08-04 16:04:28,718 - june.simulator - INFO - Date = 2020-04-28 01:00:00, number of deaths =  61, number of infected = 8084\n",
      "2020-08-04 16:04:31,101 - june.simulator - INFO - Date = 2020-04-28 09:00:00, number of deaths =  61, number of infected = 7945\n",
      "2020-08-04 16:04:33,147 - june.simulator - INFO - Date = 2020-04-28 10:00:00, number of deaths =  62, number of infected = 7921\n",
      "2020-08-04 16:04:35,184 - june.simulator - INFO - Date = 2020-04-28 13:00:00, number of deaths =  62, number of infected = 7882\n",
      "2020-08-04 16:04:37,499 - june.simulator - INFO - Date = 2020-04-29 00:00:00, number of deaths =  62, number of infected = 7667\n",
      "2020-08-04 16:04:39,522 - june.simulator - INFO - Date = 2020-04-29 01:00:00, number of deaths =  62, number of infected = 7650\n",
      "2020-08-04 16:04:42,657 - june.simulator - INFO - Date = 2020-04-29 09:00:00, number of deaths =  63, number of infected = 7505\n",
      "2020-08-04 16:04:44,673 - june.simulator - INFO - Date = 2020-04-29 10:00:00, number of deaths =  63, number of infected = 7484\n",
      "2020-08-04 16:04:46,856 - june.simulator - INFO - Date = 2020-04-29 13:00:00, number of deaths =  63, number of infected = 7431\n",
      "2020-08-04 16:04:49,640 - june.simulator - INFO - Date = 2020-04-30 00:00:00, number of deaths =  64, number of infected = 7222\n",
      "2020-08-04 16:04:51,799 - june.simulator - INFO - Date = 2020-04-30 01:00:00, number of deaths =  64, number of infected = 7202\n",
      "2020-08-04 16:04:54,810 - june.simulator - INFO - Date = 2020-04-30 09:00:00, number of deaths =  64, number of infected = 7079\n",
      "2020-08-04 16:04:57,472 - june.simulator - INFO - Date = 2020-04-30 10:00:00, number of deaths =  64, number of infected = 7055\n",
      "2020-08-04 16:04:59,970 - june.simulator - INFO - Date = 2020-04-30 13:00:00, number of deaths =  64, number of infected = 6998\n",
      "2020-08-04 16:05:02,137 - june.simulator - INFO - Date = 2020-05-01 00:00:00, number of deaths =  64, number of infected = 6777\n",
      "2020-08-04 16:05:04,359 - june.simulator - INFO - Date = 2020-05-01 01:00:00, number of deaths =  64, number of infected = 6766\n",
      "2020-08-04 16:05:07,184 - june.simulator - INFO - Date = 2020-05-01 09:00:00, number of deaths =  64, number of infected = 6617\n",
      "2020-08-04 16:05:09,657 - june.simulator - INFO - Date = 2020-05-01 10:00:00, number of deaths =  64, number of infected = 6600\n",
      "2020-08-04 16:05:11,530 - june.simulator - INFO - Date = 2020-05-01 13:00:00, number of deaths =  64, number of infected = 6558\n",
      "2020-08-04 16:05:13,584 - june.simulator - INFO - Date = 2020-05-02 00:00:00, number of deaths =  65, number of infected = 6368\n",
      "2020-08-04 16:05:15,411 - june.simulator - INFO - Date = 2020-05-02 04:00:00, number of deaths =  65, number of infected = 6301\n",
      "2020-08-04 16:05:17,056 - june.simulator - INFO - Date = 2020-05-02 08:00:00, number of deaths =  65, number of infected = 6236\n",
      "2020-08-04 16:05:18,686 - june.simulator - INFO - Date = 2020-05-02 12:00:00, number of deaths =  65, number of infected = 6155\n",
      "2020-08-04 16:05:20,438 - june.simulator - INFO - Date = 2020-05-03 00:00:00, number of deaths =  66, number of infected = 5965\n",
      "2020-08-04 16:05:21,945 - june.simulator - INFO - Date = 2020-05-03 04:00:00, number of deaths =  66, number of infected = 5895\n",
      "2020-08-04 16:05:23,478 - june.simulator - INFO - Date = 2020-05-03 08:00:00, number of deaths =  66, number of infected = 5845\n",
      "2020-08-04 16:05:24,904 - june.simulator - INFO - Date = 2020-05-03 12:00:00, number of deaths =  66, number of infected = 5762\n",
      "2020-08-04 16:05:26,454 - june.simulator - INFO - Date = 2020-05-04 00:00:00, number of deaths =  66, number of infected = 5553\n",
      "2020-08-04 16:05:28,024 - june.simulator - INFO - Date = 2020-05-04 01:00:00, number of deaths =  67, number of infected = 5534\n",
      "2020-08-04 16:05:30,209 - june.simulator - INFO - Date = 2020-05-04 09:00:00, number of deaths =  68, number of infected = 5410\n",
      "2020-08-04 16:05:32,478 - june.simulator - INFO - Date = 2020-05-04 10:00:00, number of deaths =  68, number of infected = 5402\n",
      "2020-08-04 16:05:34,296 - june.simulator - INFO - Date = 2020-05-04 13:00:00, number of deaths =  68, number of infected = 5349\n",
      "2020-08-04 16:05:36,505 - june.simulator - INFO - Date = 2020-05-05 00:00:00, number of deaths =  68, number of infected = 5196\n",
      "2020-08-04 16:05:39,538 - june.simulator - INFO - Date = 2020-05-05 01:00:00, number of deaths =  68, number of infected = 5179\n",
      "2020-08-04 16:05:41,410 - june.simulator - INFO - Date = 2020-05-05 09:00:00, number of deaths =  68, number of infected = 5086\n",
      "2020-08-04 16:05:42,998 - june.simulator - INFO - Date = 2020-05-05 10:00:00, number of deaths =  68, number of infected = 5074\n",
      "2020-08-04 16:05:45,578 - june.simulator - INFO - Date = 2020-05-05 13:00:00, number of deaths =  68, number of infected = 5046\n",
      "2020-08-04 16:05:47,133 - june.simulator - INFO - Date = 2020-05-06 00:00:00, number of deaths =  68, number of infected = 4878\n",
      "2020-08-04 16:05:48,705 - june.simulator - INFO - Date = 2020-05-06 01:00:00, number of deaths =  68, number of infected = 4870\n",
      "2020-08-04 16:05:51,048 - june.simulator - INFO - Date = 2020-05-06 09:00:00, number of deaths =  68, number of infected = 4759\n",
      "2020-08-04 16:05:53,164 - june.simulator - INFO - Date = 2020-05-06 10:00:00, number of deaths =  68, number of infected = 4746\n",
      "2020-08-04 16:05:55,120 - june.simulator - INFO - Date = 2020-05-06 13:00:00, number of deaths =  68, number of infected = 4704\n",
      "2020-08-04 16:05:56,749 - june.simulator - INFO - Date = 2020-05-07 00:00:00, number of deaths =  69, number of infected = 4553\n",
      "2020-08-04 16:05:58,523 - june.simulator - INFO - Date = 2020-05-07 01:00:00, number of deaths =  69, number of infected = 4542\n",
      "2020-08-04 16:05:59,962 - june.simulator - INFO - Date = 2020-05-07 09:00:00, number of deaths =  69, number of infected = 4425\n",
      "2020-08-04 16:06:01,456 - june.simulator - INFO - Date = 2020-05-07 10:00:00, number of deaths =  69, number of infected = 4410\n",
      "2020-08-04 16:06:02,900 - june.simulator - INFO - Date = 2020-05-07 13:00:00, number of deaths =  69, number of infected = 4374\n",
      "2020-08-04 16:06:04,241 - june.simulator - INFO - Date = 2020-05-08 00:00:00, number of deaths =  69, number of infected = 4226\n",
      "2020-08-04 16:06:05,687 - june.simulator - INFO - Date = 2020-05-08 01:00:00, number of deaths =  69, number of infected = 4216\n"
     ]
    },
    {
     "name": "stdout",
     "output_type": "stream",
     "text": [
      "2020-08-04 16:06:07,095 - june.simulator - INFO - Date = 2020-05-08 09:00:00, number of deaths =  69, number of infected = 4138\n",
      "2020-08-04 16:06:08,382 - june.simulator - INFO - Date = 2020-05-08 10:00:00, number of deaths =  69, number of infected = 4136\n",
      "2020-08-04 16:06:09,570 - june.simulator - INFO - Date = 2020-05-08 13:00:00, number of deaths =  69, number of infected = 4105\n",
      "2020-08-04 16:06:10,897 - june.simulator - INFO - Date = 2020-05-09 00:00:00, number of deaths =  69, number of infected = 3962\n",
      "2020-08-04 16:06:12,230 - june.simulator - INFO - Date = 2020-05-09 04:00:00, number of deaths =  69, number of infected = 3918\n",
      "2020-08-04 16:06:14,124 - june.simulator - INFO - Date = 2020-05-09 08:00:00, number of deaths =  69, number of infected = 3886\n",
      "2020-08-04 16:06:16,287 - june.simulator - INFO - Date = 2020-05-09 12:00:00, number of deaths =  69, number of infected = 3856\n",
      "2020-08-04 16:06:17,863 - june.simulator - INFO - Date = 2020-05-10 00:00:00, number of deaths =  69, number of infected = 3709\n",
      "2020-08-04 16:06:19,479 - june.simulator - INFO - Date = 2020-05-10 04:00:00, number of deaths =  69, number of infected = 3654\n",
      "2020-08-04 16:06:20,763 - june.simulator - INFO - Date = 2020-05-10 08:00:00, number of deaths =  69, number of infected = 3601\n",
      "2020-08-04 16:06:22,042 - june.simulator - INFO - Date = 2020-05-10 12:00:00, number of deaths =  69, number of infected = 3565\n",
      "2020-08-04 16:06:23,415 - june.simulator - INFO - Date = 2020-05-11 00:00:00, number of deaths =  70, number of infected = 3432\n",
      "2020-08-04 16:06:24,842 - june.simulator - INFO - Date = 2020-05-11 01:00:00, number of deaths =  70, number of infected = 3422\n",
      "2020-08-04 16:06:26,144 - june.simulator - INFO - Date = 2020-05-11 09:00:00, number of deaths =  70, number of infected = 3368\n",
      "2020-08-04 16:06:27,356 - june.simulator - INFO - Date = 2020-05-11 10:00:00, number of deaths =  70, number of infected = 3360\n",
      "2020-08-04 16:06:28,480 - june.simulator - INFO - Date = 2020-05-11 13:00:00, number of deaths =  70, number of infected = 3318\n",
      "2020-08-04 16:06:29,659 - june.simulator - INFO - Date = 2020-05-12 00:00:00, number of deaths =  70, number of infected = 3191\n",
      "2020-08-04 16:06:30,903 - june.simulator - INFO - Date = 2020-05-12 01:00:00, number of deaths =  70, number of infected = 3183\n",
      "2020-08-04 16:06:32,233 - june.simulator - INFO - Date = 2020-05-12 09:00:00, number of deaths =  70, number of infected = 3119\n",
      "2020-08-04 16:06:33,362 - june.simulator - INFO - Date = 2020-05-12 10:00:00, number of deaths =  70, number of infected = 3104\n",
      "2020-08-04 16:06:34,377 - june.simulator - INFO - Date = 2020-05-12 13:00:00, number of deaths =  70, number of infected = 3077\n",
      "2020-08-04 16:06:35,495 - june.simulator - INFO - Date = 2020-05-13 00:00:00, number of deaths =  70, number of infected = 2976\n",
      "2020-08-04 16:06:36,723 - june.simulator - INFO - Date = 2020-05-13 01:00:00, number of deaths =  70, number of infected = 2964\n",
      "2020-08-04 16:06:37,908 - june.simulator - INFO - Date = 2020-05-13 09:00:00, number of deaths =  71, number of infected = 2906\n",
      "2020-08-04 16:06:38,998 - june.simulator - INFO - Date = 2020-05-13 10:00:00, number of deaths =  71, number of infected = 2892\n",
      "2020-08-04 16:06:40,024 - june.simulator - INFO - Date = 2020-05-13 13:00:00, number of deaths =  71, number of infected = 2871\n",
      "2020-08-04 16:06:41,058 - june.simulator - INFO - Date = 2020-05-14 00:00:00, number of deaths =  72, number of infected = 2768\n",
      "2020-08-04 16:06:42,251 - june.simulator - INFO - Date = 2020-05-14 01:00:00, number of deaths =  72, number of infected = 2759\n",
      "2020-08-04 16:06:43,338 - june.simulator - INFO - Date = 2020-05-14 09:00:00, number of deaths =  73, number of infected = 2681\n",
      "2020-08-04 16:06:44,464 - june.simulator - INFO - Date = 2020-05-14 10:00:00, number of deaths =  73, number of infected = 2667\n",
      "2020-08-04 16:06:45,475 - june.simulator - INFO - Date = 2020-05-14 13:00:00, number of deaths =  73, number of infected = 2644\n",
      "2020-08-04 16:06:46,528 - june.simulator - INFO - Date = 2020-05-15 00:00:00, number of deaths =  73, number of infected = 2554\n",
      "2020-08-04 16:06:47,684 - june.simulator - INFO - Date = 2020-05-15 01:00:00, number of deaths =  73, number of infected = 2542\n",
      "2020-08-04 16:06:48,729 - june.simulator - INFO - Date = 2020-05-15 09:00:00, number of deaths =  75, number of infected = 2458\n",
      "2020-08-04 16:06:49,801 - june.simulator - INFO - Date = 2020-05-15 10:00:00, number of deaths =  75, number of infected = 2446\n",
      "2020-08-04 16:06:50,778 - june.simulator - INFO - Date = 2020-05-15 13:00:00, number of deaths =  75, number of infected = 2426\n",
      "2020-08-04 16:06:51,921 - june.simulator - INFO - Date = 2020-05-16 00:00:00, number of deaths =  76, number of infected = 2352\n",
      "2020-08-04 16:06:52,997 - june.simulator - INFO - Date = 2020-05-16 04:00:00, number of deaths =  76, number of infected = 2322\n",
      "2020-08-04 16:06:54,287 - june.simulator - INFO - Date = 2020-05-16 08:00:00, number of deaths =  76, number of infected = 2290\n",
      "2020-08-04 16:06:56,298 - june.simulator - INFO - Date = 2020-05-16 12:00:00, number of deaths =  76, number of infected = 2267\n",
      "2020-08-04 16:06:57,986 - june.simulator - INFO - Date = 2020-05-17 00:00:00, number of deaths =  77, number of infected = 2200\n",
      "2020-08-04 16:06:59,415 - june.simulator - INFO - Date = 2020-05-17 04:00:00, number of deaths =  77, number of infected = 2165\n",
      "2020-08-04 16:07:00,773 - june.simulator - INFO - Date = 2020-05-17 08:00:00, number of deaths =  77, number of infected = 2130\n",
      "2020-08-04 16:07:02,164 - june.simulator - INFO - Date = 2020-05-17 12:00:00, number of deaths =  77, number of infected = 2096\n",
      "2020-08-04 16:07:03,251 - june.simulator - INFO - Date = 2020-05-18 00:00:00, number of deaths =  77, number of infected = 2015\n",
      "2020-08-04 16:07:04,338 - june.simulator - INFO - Date = 2020-05-18 01:00:00, number of deaths =  77, number of infected = 2010\n",
      "2020-08-04 16:07:05,493 - june.simulator - INFO - Date = 2020-05-18 09:00:00, number of deaths =  78, number of infected = 1961\n",
      "2020-08-04 16:07:06,608 - june.simulator - INFO - Date = 2020-05-18 10:00:00, number of deaths =  78, number of infected = 1956\n",
      "2020-08-04 16:07:07,473 - june.simulator - INFO - Date = 2020-05-18 13:00:00, number of deaths =  78, number of infected = 1940\n",
      "2020-08-04 16:07:08,412 - june.simulator - INFO - Date = 2020-05-19 00:00:00, number of deaths =  78, number of infected = 1866\n",
      "2020-08-04 16:07:09,517 - june.simulator - INFO - Date = 2020-05-19 01:00:00, number of deaths =  78, number of infected = 1861\n",
      "2020-08-04 16:07:10,643 - june.simulator - INFO - Date = 2020-05-19 09:00:00, number of deaths =  78, number of infected = 1820\n",
      "2020-08-04 16:07:11,642 - june.simulator - INFO - Date = 2020-05-19 10:00:00, number of deaths =  78, number of infected = 1811\n",
      "2020-08-04 16:07:12,520 - june.simulator - INFO - Date = 2020-05-19 13:00:00, number of deaths =  78, number of infected = 1793\n",
      "2020-08-04 16:07:13,401 - june.simulator - INFO - Date = 2020-05-20 00:00:00, number of deaths =  78, number of infected = 1713\n",
      "2020-08-04 16:07:14,396 - june.simulator - INFO - Date = 2020-05-20 01:00:00, number of deaths =  78, number of infected = 1703\n",
      "2020-08-04 16:07:15,279 - june.simulator - INFO - Date = 2020-05-20 09:00:00, number of deaths =  78, number of infected = 1664\n",
      "2020-08-04 16:07:16,218 - june.simulator - INFO - Date = 2020-05-20 10:00:00, number of deaths =  78, number of infected = 1657\n",
      "2020-08-04 16:07:17,092 - june.simulator - INFO - Date = 2020-05-20 13:00:00, number of deaths =  78, number of infected = 1651\n",
      "2020-08-04 16:07:18,409 - june.simulator - INFO - Date = 2020-05-21 00:00:00, number of deaths =  79, number of infected = 1597\n",
      "2020-08-04 16:07:19,513 - june.simulator - INFO - Date = 2020-05-21 01:00:00, number of deaths =  79, number of infected = 1594\n",
      "2020-08-04 16:07:20,422 - june.simulator - INFO - Date = 2020-05-21 09:00:00, number of deaths =  79, number of infected = 1551\n",
      "2020-08-04 16:07:21,389 - june.simulator - INFO - Date = 2020-05-21 10:00:00, number of deaths =  79, number of infected = 1551\n",
      "2020-08-04 16:07:22,183 - june.simulator - INFO - Date = 2020-05-21 13:00:00, number of deaths =  79, number of infected = 1531\n",
      "2020-08-04 16:07:23,030 - june.simulator - INFO - Date = 2020-05-22 00:00:00, number of deaths =  79, number of infected = 1487\n"
     ]
    },
    {
     "name": "stdout",
     "output_type": "stream",
     "text": [
      "2020-08-04 16:07:24,008 - june.simulator - INFO - Date = 2020-05-22 01:00:00, number of deaths =  79, number of infected = 1486\n",
      "2020-08-04 16:07:24,861 - june.simulator - INFO - Date = 2020-05-22 09:00:00, number of deaths =  79, number of infected = 1459\n",
      "2020-08-04 16:07:25,793 - june.simulator - INFO - Date = 2020-05-22 10:00:00, number of deaths =  79, number of infected = 1455\n",
      "2020-08-04 16:07:26,688 - june.simulator - INFO - Date = 2020-05-22 13:00:00, number of deaths =  79, number of infected = 1445\n",
      "2020-08-04 16:07:27,668 - june.simulator - INFO - Date = 2020-05-23 00:00:00, number of deaths =  79, number of infected = 1393\n",
      "2020-08-04 16:07:28,726 - june.simulator - INFO - Date = 2020-05-23 04:00:00, number of deaths =  79, number of infected = 1378\n",
      "2020-08-04 16:07:29,784 - june.simulator - INFO - Date = 2020-05-23 08:00:00, number of deaths =  79, number of infected = 1361\n",
      "2020-08-04 16:07:30,850 - june.simulator - INFO - Date = 2020-05-23 12:00:00, number of deaths =  79, number of infected = 1348\n",
      "2020-08-04 16:07:31,958 - june.simulator - INFO - Date = 2020-05-24 00:00:00, number of deaths =  79, number of infected = 1297\n",
      "2020-08-04 16:07:32,999 - june.simulator - INFO - Date = 2020-05-24 04:00:00, number of deaths =  79, number of infected = 1285\n",
      "2020-08-04 16:07:33,942 - june.simulator - INFO - Date = 2020-05-24 08:00:00, number of deaths =  79, number of infected = 1267\n",
      "2020-08-04 16:07:34,761 - june.simulator - INFO - Date = 2020-05-24 12:00:00, number of deaths =  79, number of infected = 1254\n",
      "2020-08-04 16:07:35,712 - june.simulator - INFO - Date = 2020-05-25 00:00:00, number of deaths =  79, number of infected = 1201\n",
      "2020-08-04 16:07:36,776 - june.simulator - INFO - Date = 2020-05-25 01:00:00, number of deaths =  79, number of infected = 1196\n",
      "2020-08-04 16:07:37,669 - june.simulator - INFO - Date = 2020-05-25 09:00:00, number of deaths =  79, number of infected = 1170\n",
      "2020-08-04 16:07:38,722 - june.simulator - INFO - Date = 2020-05-25 10:00:00, number of deaths =  79, number of infected = 1166\n",
      "2020-08-04 16:07:39,524 - june.simulator - INFO - Date = 2020-05-25 13:00:00, number of deaths =  79, number of infected = 1159\n",
      "2020-08-04 16:07:40,372 - june.simulator - INFO - Date = 2020-05-26 00:00:00, number of deaths =  79, number of infected = 1129\n",
      "2020-08-04 16:07:41,395 - june.simulator - INFO - Date = 2020-05-26 01:00:00, number of deaths =  79, number of infected = 1127\n",
      "2020-08-04 16:07:42,234 - june.simulator - INFO - Date = 2020-05-26 09:00:00, number of deaths =  79, number of infected = 1101\n",
      "2020-08-04 16:07:43,096 - june.simulator - INFO - Date = 2020-05-26 10:00:00, number of deaths =  79, number of infected = 1099\n",
      "2020-08-04 16:07:43,829 - june.simulator - INFO - Date = 2020-05-26 13:00:00, number of deaths =  79, number of infected = 1082\n",
      "2020-08-04 16:07:44,613 - june.simulator - INFO - Date = 2020-05-27 00:00:00, number of deaths =  79, number of infected = 1054\n",
      "2020-08-04 16:07:45,606 - june.simulator - INFO - Date = 2020-05-27 01:00:00, number of deaths =  79, number of infected = 1053\n",
      "2020-08-04 16:07:46,472 - june.simulator - INFO - Date = 2020-05-27 09:00:00, number of deaths =  79, number of infected = 1017\n",
      "2020-08-04 16:07:47,371 - june.simulator - INFO - Date = 2020-05-27 10:00:00, number of deaths =  79, number of infected = 1014\n",
      "2020-08-04 16:07:48,090 - june.simulator - INFO - Date = 2020-05-27 13:00:00, number of deaths =  79, number of infected = 1008\n",
      "2020-08-04 16:07:48,887 - june.simulator - INFO - Date = 2020-05-28 00:00:00, number of deaths =  79, number of infected = 978\n",
      "2020-08-04 16:07:49,802 - june.simulator - INFO - Date = 2020-05-28 01:00:00, number of deaths =  79, number of infected = 976\n",
      "2020-08-04 16:07:50,576 - june.simulator - INFO - Date = 2020-05-28 09:00:00, number of deaths =  80, number of infected = 952\n",
      "2020-08-04 16:07:51,425 - june.simulator - INFO - Date = 2020-05-28 10:00:00, number of deaths =  80, number of infected = 948\n",
      "2020-08-04 16:07:52,128 - june.simulator - INFO - Date = 2020-05-28 13:00:00, number of deaths =  80, number of infected = 933\n",
      "2020-08-04 16:07:52,846 - june.simulator - INFO - Date = 2020-05-29 00:00:00, number of deaths =  80, number of infected = 898\n",
      "2020-08-04 16:07:53,730 - june.simulator - INFO - Date = 2020-05-29 01:00:00, number of deaths =  80, number of infected = 897\n",
      "2020-08-04 16:07:54,478 - june.simulator - INFO - Date = 2020-05-29 09:00:00, number of deaths =  80, number of infected = 876\n",
      "2020-08-04 16:07:55,305 - june.simulator - INFO - Date = 2020-05-29 10:00:00, number of deaths =  80, number of infected = 873\n",
      "2020-08-04 16:07:55,994 - june.simulator - INFO - Date = 2020-05-29 13:00:00, number of deaths =  80, number of infected = 866\n",
      "2020-08-04 16:07:56,893 - june.simulator - INFO - Date = 2020-05-30 00:00:00, number of deaths =  80, number of infected = 833\n",
      "2020-08-04 16:07:57,771 - june.simulator - INFO - Date = 2020-05-30 04:00:00, number of deaths =  80, number of infected = 826\n",
      "2020-08-04 16:07:58,619 - june.simulator - INFO - Date = 2020-05-30 08:00:00, number of deaths =  80, number of infected = 816\n",
      "2020-08-04 16:07:59,295 - june.simulator - INFO - Date = 2020-05-30 12:00:00, number of deaths =  80, number of infected = 807\n",
      "2020-08-04 16:08:00,096 - june.simulator - INFO - Date = 2020-05-31 00:00:00, number of deaths =  80, number of infected = 763\n",
      "2020-08-04 16:08:00,918 - june.simulator - INFO - Date = 2020-05-31 04:00:00, number of deaths =  80, number of infected = 759\n",
      "2020-08-04 16:08:01,714 - june.simulator - INFO - Date = 2020-05-31 08:00:00, number of deaths =  80, number of infected = 748\n",
      "2020-08-04 16:08:02,380 - june.simulator - INFO - Date = 2020-05-31 12:00:00, number of deaths =  80, number of infected = 741\n",
      "2020-08-04 16:08:03,024 - june.simulator - INFO - Date = 2020-06-01 00:00:00, number of deaths =  80, number of infected = 706\n",
      "2020-08-04 16:08:03,846 - june.simulator - INFO - Date = 2020-06-01 01:00:00, number of deaths =  80, number of infected = 707\n",
      "2020-08-04 16:08:04,527 - june.simulator - INFO - Date = 2020-06-01 09:00:00, number of deaths =  80, number of infected = 694\n",
      "2020-08-04 16:08:05,307 - june.simulator - INFO - Date = 2020-06-01 10:00:00, number of deaths =  80, number of infected = 694\n",
      "2020-08-04 16:08:05,982 - june.simulator - INFO - Date = 2020-06-01 13:00:00, number of deaths =  80, number of infected = 689\n",
      "2020-08-04 16:08:06,644 - june.simulator - INFO - Date = 2020-06-02 00:00:00, number of deaths =  80, number of infected = 656\n",
      "2020-08-04 16:08:07,511 - june.simulator - INFO - Date = 2020-06-02 01:00:00, number of deaths =  80, number of infected = 654\n",
      "2020-08-04 16:08:08,357 - june.simulator - INFO - Date = 2020-06-02 09:00:00, number of deaths =  80, number of infected = 650\n",
      "2020-08-04 16:08:09,336 - june.simulator - INFO - Date = 2020-06-02 10:00:00, number of deaths =  80, number of infected = 648\n",
      "2020-08-04 16:08:09,978 - june.simulator - INFO - Date = 2020-06-02 13:00:00, number of deaths =  80, number of infected = 647\n",
      "2020-08-04 16:08:10,639 - june.simulator - INFO - Date = 2020-06-03 00:00:00, number of deaths =  80, number of infected = 622\n",
      "2020-08-04 16:08:11,605 - june.simulator - INFO - Date = 2020-06-03 01:00:00, number of deaths =  80, number of infected = 620\n",
      "2020-08-04 16:08:12,427 - june.simulator - INFO - Date = 2020-06-03 09:00:00, number of deaths =  80, number of infected = 613\n",
      "2020-08-04 16:08:13,393 - june.simulator - INFO - Date = 2020-06-03 10:00:00, number of deaths =  80, number of infected = 613\n",
      "2020-08-04 16:08:14,088 - june.simulator - INFO - Date = 2020-06-03 13:00:00, number of deaths =  80, number of infected = 606\n",
      "2020-08-04 16:08:14,717 - june.simulator - INFO - Date = 2020-06-04 00:00:00, number of deaths =  80, number of infected = 585\n",
      "2020-08-04 16:08:15,540 - june.simulator - INFO - Date = 2020-06-04 01:00:00, number of deaths =  80, number of infected = 583\n",
      "2020-08-04 16:08:16,229 - june.simulator - INFO - Date = 2020-06-04 09:00:00, number of deaths =  80, number of infected = 569\n",
      "2020-08-04 16:08:17,031 - june.simulator - INFO - Date = 2020-06-04 10:00:00, number of deaths =  80, number of infected = 569\n",
      "2020-08-04 16:08:17,623 - june.simulator - INFO - Date = 2020-06-04 13:00:00, number of deaths =  80, number of infected = 566\n"
     ]
    },
    {
     "name": "stdout",
     "output_type": "stream",
     "text": [
      "2020-08-04 16:08:18,216 - june.simulator - INFO - Date = 2020-06-05 00:00:00, number of deaths =  80, number of infected = 549\n",
      "2020-08-04 16:08:19,032 - june.simulator - INFO - Date = 2020-06-05 01:00:00, number of deaths =  80, number of infected = 547\n",
      "2020-08-04 16:08:19,634 - june.simulator - INFO - Date = 2020-06-05 09:00:00, number of deaths =  80, number of infected = 534\n",
      "2020-08-04 16:08:20,347 - june.simulator - INFO - Date = 2020-06-05 10:00:00, number of deaths =  80, number of infected = 531\n",
      "2020-08-04 16:08:20,925 - june.simulator - INFO - Date = 2020-06-05 13:00:00, number of deaths =  80, number of infected = 524\n",
      "2020-08-04 16:08:21,671 - june.simulator - INFO - Date = 2020-06-06 00:00:00, number of deaths =  80, number of infected = 497\n",
      "2020-08-04 16:08:22,396 - june.simulator - INFO - Date = 2020-06-06 04:00:00, number of deaths =  80, number of infected = 483\n",
      "2020-08-04 16:08:23,149 - june.simulator - INFO - Date = 2020-06-06 08:00:00, number of deaths =  80, number of infected = 473\n",
      "2020-08-04 16:08:23,722 - june.simulator - INFO - Date = 2020-06-06 12:00:00, number of deaths =  80, number of infected = 468\n",
      "2020-08-04 16:08:24,480 - june.simulator - INFO - Date = 2020-06-07 00:00:00, number of deaths =  80, number of infected = 455\n",
      "2020-08-04 16:08:25,182 - june.simulator - INFO - Date = 2020-06-07 04:00:00, number of deaths =  80, number of infected = 448\n",
      "2020-08-04 16:08:25,910 - june.simulator - INFO - Date = 2020-06-07 08:00:00, number of deaths =  80, number of infected = 442\n",
      "2020-08-04 16:08:26,585 - june.simulator - INFO - Date = 2020-06-07 12:00:00, number of deaths =  80, number of infected = 438\n",
      "2020-08-04 16:08:27,268 - june.simulator - INFO - Date = 2020-06-08 00:00:00, number of deaths =  80, number of infected = 418\n",
      "2020-08-04 16:08:28,159 - june.simulator - INFO - Date = 2020-06-08 01:00:00, number of deaths =  80, number of infected = 417\n",
      "2020-08-04 16:08:28,853 - june.simulator - INFO - Date = 2020-06-08 09:00:00, number of deaths =  80, number of infected = 402\n",
      "2020-08-04 16:08:29,722 - june.simulator - INFO - Date = 2020-06-08 10:00:00, number of deaths =  80, number of infected = 403\n",
      "2020-08-04 16:08:30,382 - june.simulator - INFO - Date = 2020-06-08 13:00:00, number of deaths =  80, number of infected = 397\n",
      "2020-08-04 16:08:31,058 - june.simulator - INFO - Date = 2020-06-09 00:00:00, number of deaths =  80, number of infected = 388\n",
      "2020-08-04 16:08:31,951 - june.simulator - INFO - Date = 2020-06-09 01:00:00, number of deaths =  80, number of infected = 388\n",
      "2020-08-04 16:08:32,733 - june.simulator - INFO - Date = 2020-06-09 09:00:00, number of deaths =  80, number of infected = 383\n",
      "2020-08-04 16:08:33,695 - june.simulator - INFO - Date = 2020-06-09 10:00:00, number of deaths =  80, number of infected = 382\n",
      "2020-08-04 16:08:34,489 - june.simulator - INFO - Date = 2020-06-09 13:00:00, number of deaths =  80, number of infected = 381\n",
      "2020-08-04 16:08:35,206 - june.simulator - INFO - Date = 2020-06-10 00:00:00, number of deaths =  80, number of infected = 367\n",
      "2020-08-04 16:08:36,260 - june.simulator - INFO - Date = 2020-06-10 01:00:00, number of deaths =  80, number of infected = 366\n",
      "2020-08-04 16:08:37,026 - june.simulator - INFO - Date = 2020-06-10 09:00:00, number of deaths =  81, number of infected = 354\n",
      "2020-08-04 16:08:39,952 - june.simulator - INFO - Date = 2020-06-10 10:00:00, number of deaths =  81, number of infected = 355\n",
      "2020-08-04 16:08:40,564 - june.simulator - INFO - Date = 2020-06-10 13:00:00, number of deaths =  81, number of infected = 353\n",
      "2020-08-04 16:08:41,183 - june.simulator - INFO - Date = 2020-06-11 00:00:00, number of deaths =  82, number of infected = 336\n",
      "2020-08-04 16:08:41,970 - june.simulator - INFO - Date = 2020-06-11 01:00:00, number of deaths =  82, number of infected = 334\n",
      "2020-08-04 16:08:42,812 - june.simulator - INFO - Date = 2020-06-11 09:00:00, number of deaths =  82, number of infected = 329\n",
      "2020-08-04 16:08:43,577 - june.simulator - INFO - Date = 2020-06-11 10:00:00, number of deaths =  82, number of infected = 329\n",
      "2020-08-04 16:08:44,156 - june.simulator - INFO - Date = 2020-06-11 13:00:00, number of deaths =  82, number of infected = 327\n",
      "2020-08-04 16:08:44,734 - june.simulator - INFO - Date = 2020-06-12 00:00:00, number of deaths =  82, number of infected = 310\n",
      "2020-08-04 16:08:45,514 - june.simulator - INFO - Date = 2020-06-12 01:00:00, number of deaths =  82, number of infected = 309\n",
      "2020-08-04 16:08:46,096 - june.simulator - INFO - Date = 2020-06-12 09:00:00, number of deaths =  82, number of infected = 298\n",
      "2020-08-04 16:08:46,825 - june.simulator - INFO - Date = 2020-06-12 10:00:00, number of deaths =  82, number of infected = 297\n",
      "2020-08-04 16:08:47,376 - june.simulator - INFO - Date = 2020-06-12 13:00:00, number of deaths =  82, number of infected = 292\n",
      "2020-08-04 16:08:48,069 - june.simulator - INFO - Date = 2020-06-13 00:00:00, number of deaths =  82, number of infected = 274\n",
      "2020-08-04 16:08:48,767 - june.simulator - INFO - Date = 2020-06-13 04:00:00, number of deaths =  82, number of infected = 273\n",
      "2020-08-04 16:08:49,456 - june.simulator - INFO - Date = 2020-06-13 08:00:00, number of deaths =  82, number of infected = 269\n",
      "2020-08-04 16:08:50,003 - june.simulator - INFO - Date = 2020-06-13 12:00:00, number of deaths =  82, number of infected = 267\n",
      "2020-08-04 16:08:50,714 - june.simulator - INFO - Date = 2020-06-14 00:00:00, number of deaths =  82, number of infected = 251\n",
      "2020-08-04 16:08:51,419 - june.simulator - INFO - Date = 2020-06-14 04:00:00, number of deaths =  82, number of infected = 246\n",
      "2020-08-04 16:08:52,120 - june.simulator - INFO - Date = 2020-06-14 08:00:00, number of deaths =  82, number of infected = 243\n",
      "2020-08-04 16:08:52,674 - june.simulator - INFO - Date = 2020-06-14 12:00:00, number of deaths =  82, number of infected = 243\n",
      "2020-08-04 16:08:53,234 - june.simulator - INFO - Date = 2020-06-15 00:00:00, number of deaths =  82, number of infected = 233\n",
      "2020-08-04 16:08:54,013 - june.simulator - INFO - Date = 2020-06-15 01:00:00, number of deaths =  82, number of infected = 232\n",
      "2020-08-04 16:08:54,608 - june.simulator - INFO - Date = 2020-06-15 09:00:00, number of deaths =  82, number of infected = 228\n",
      "2020-08-04 16:08:55,309 - june.simulator - INFO - Date = 2020-06-15 10:00:00, number of deaths =  82, number of infected = 228\n",
      "2020-08-04 16:08:55,842 - june.simulator - INFO - Date = 2020-06-15 13:00:00, number of deaths =  82, number of infected = 223\n",
      "2020-08-04 16:08:56,392 - june.simulator - INFO - Date = 2020-06-16 00:00:00, number of deaths =  82, number of infected = 210\n",
      "2020-08-04 16:08:57,172 - june.simulator - INFO - Date = 2020-06-16 01:00:00, number of deaths =  82, number of infected = 210\n",
      "2020-08-04 16:08:57,741 - june.simulator - INFO - Date = 2020-06-16 09:00:00, number of deaths =  82, number of infected = 203\n",
      "2020-08-04 16:08:58,428 - june.simulator - INFO - Date = 2020-06-16 10:00:00, number of deaths =  82, number of infected = 203\n",
      "2020-08-04 16:08:58,970 - june.simulator - INFO - Date = 2020-06-16 13:00:00, number of deaths =  82, number of infected = 203\n",
      "2020-08-04 16:08:59,508 - june.simulator - INFO - Date = 2020-06-17 00:00:00, number of deaths =  82, number of infected = 196\n",
      "2020-08-04 16:09:00,286 - june.simulator - INFO - Date = 2020-06-17 01:00:00, number of deaths =  82, number of infected = 196\n",
      "2020-08-04 16:09:00,866 - june.simulator - INFO - Date = 2020-06-17 09:00:00, number of deaths =  82, number of infected = 191\n",
      "2020-08-04 16:09:01,552 - june.simulator - INFO - Date = 2020-06-17 10:00:00, number of deaths =  82, number of infected = 189\n",
      "2020-08-04 16:09:02,080 - june.simulator - INFO - Date = 2020-06-17 13:00:00, number of deaths =  82, number of infected = 185\n",
      "2020-08-04 16:09:02,644 - june.simulator - INFO - Date = 2020-06-18 00:00:00, number of deaths =  82, number of infected = 183\n",
      "2020-08-04 16:09:03,400 - june.simulator - INFO - Date = 2020-06-18 01:00:00, number of deaths =  82, number of infected = 183\n",
      "2020-08-04 16:09:03,940 - june.simulator - INFO - Date = 2020-06-18 09:00:00, number of deaths =  82, number of infected = 179\n",
      "2020-08-04 16:09:04,633 - june.simulator - INFO - Date = 2020-06-18 10:00:00, number of deaths =  82, number of infected = 179\n"
     ]
    },
    {
     "name": "stdout",
     "output_type": "stream",
     "text": [
      "2020-08-04 16:09:05,331 - june.simulator - INFO - Date = 2020-06-18 13:00:00, number of deaths =  82, number of infected = 180\n",
      "2020-08-04 16:09:05,894 - june.simulator - INFO - Date = 2020-06-19 00:00:00, number of deaths =  82, number of infected = 172\n",
      "2020-08-04 16:09:06,661 - june.simulator - INFO - Date = 2020-06-19 01:00:00, number of deaths =  82, number of infected = 172\n",
      "2020-08-04 16:09:07,209 - june.simulator - INFO - Date = 2020-06-19 09:00:00, number of deaths =  82, number of infected = 169\n",
      "2020-08-04 16:09:07,896 - june.simulator - INFO - Date = 2020-06-19 10:00:00, number of deaths =  82, number of infected = 166\n",
      "2020-08-04 16:09:08,417 - june.simulator - INFO - Date = 2020-06-19 13:00:00, number of deaths =  82, number of infected = 165\n",
      "2020-08-04 16:09:09,141 - june.simulator - INFO - Date = 2020-06-20 00:00:00, number of deaths =  82, number of infected = 163\n",
      "2020-08-04 16:09:09,872 - june.simulator - INFO - Date = 2020-06-20 04:00:00, number of deaths =  82, number of infected = 163\n",
      "2020-08-04 16:09:10,547 - june.simulator - INFO - Date = 2020-06-20 08:00:00, number of deaths =  82, number of infected = 160\n",
      "2020-08-04 16:09:11,103 - june.simulator - INFO - Date = 2020-06-20 12:00:00, number of deaths =  82, number of infected = 159\n",
      "2020-08-04 16:09:11,894 - june.simulator - INFO - Date = 2020-06-21 00:00:00, number of deaths =  82, number of infected = 156\n",
      "2020-08-04 16:09:12,698 - june.simulator - INFO - Date = 2020-06-21 04:00:00, number of deaths =  82, number of infected = 154\n",
      "2020-08-04 16:09:13,471 - june.simulator - INFO - Date = 2020-06-21 08:00:00, number of deaths =  82, number of infected = 154\n",
      "2020-08-04 16:09:14,119 - june.simulator - INFO - Date = 2020-06-21 12:00:00, number of deaths =  82, number of infected = 153\n",
      "2020-08-04 16:09:14,681 - june.simulator - INFO - Date = 2020-06-22 00:00:00, number of deaths =  82, number of infected = 147\n",
      "2020-08-04 16:09:15,432 - june.simulator - INFO - Date = 2020-06-22 01:00:00, number of deaths =  82, number of infected = 147\n",
      "2020-08-04 16:09:16,006 - june.simulator - INFO - Date = 2020-06-22 09:00:00, number of deaths =  82, number of infected = 144\n",
      "2020-08-04 16:09:16,680 - june.simulator - INFO - Date = 2020-06-22 10:00:00, number of deaths =  82, number of infected = 144\n",
      "2020-08-04 16:09:17,223 - june.simulator - INFO - Date = 2020-06-22 13:00:00, number of deaths =  82, number of infected = 141\n",
      "2020-08-04 16:09:17,780 - june.simulator - INFO - Date = 2020-06-23 00:00:00, number of deaths =  82, number of infected = 134\n",
      "2020-08-04 16:09:18,552 - june.simulator - INFO - Date = 2020-06-23 01:00:00, number of deaths =  82, number of infected = 133\n",
      "2020-08-04 16:09:19,103 - june.simulator - INFO - Date = 2020-06-23 09:00:00, number of deaths =  82, number of infected = 129\n",
      "2020-08-04 16:09:19,809 - june.simulator - INFO - Date = 2020-06-23 10:00:00, number of deaths =  82, number of infected = 129\n",
      "2020-08-04 16:09:20,328 - june.simulator - INFO - Date = 2020-06-23 13:00:00, number of deaths =  82, number of infected = 127\n",
      "2020-08-04 16:09:20,891 - june.simulator - INFO - Date = 2020-06-24 00:00:00, number of deaths =  82, number of infected = 122\n",
      "2020-08-04 16:09:21,696 - june.simulator - INFO - Date = 2020-06-24 01:00:00, number of deaths =  82, number of infected = 122\n",
      "2020-08-04 16:09:22,332 - june.simulator - INFO - Date = 2020-06-24 09:00:00, number of deaths =  82, number of infected = 121\n",
      "2020-08-04 16:09:23,024 - june.simulator - INFO - Date = 2020-06-24 10:00:00, number of deaths =  82, number of infected = 121\n",
      "2020-08-04 16:09:23,564 - june.simulator - INFO - Date = 2020-06-24 13:00:00, number of deaths =  82, number of infected = 122\n",
      "2020-08-04 16:09:24,163 - june.simulator - INFO - Date = 2020-06-25 00:00:00, number of deaths =  82, number of infected = 119\n",
      "2020-08-04 16:09:24,949 - june.simulator - INFO - Date = 2020-06-25 01:00:00, number of deaths =  82, number of infected = 119\n",
      "2020-08-04 16:09:25,493 - june.simulator - INFO - Date = 2020-06-25 09:00:00, number of deaths =  82, number of infected = 115\n",
      "2020-08-04 16:09:26,329 - june.simulator - INFO - Date = 2020-06-25 10:00:00, number of deaths =  82, number of infected = 115\n",
      "2020-08-04 16:09:26,974 - june.simulator - INFO - Date = 2020-06-25 13:00:00, number of deaths =  82, number of infected = 114\n",
      "2020-08-04 16:09:27,560 - june.simulator - INFO - Date = 2020-06-26 00:00:00, number of deaths =  82, number of infected = 109\n",
      "2020-08-04 16:09:28,504 - june.simulator - INFO - Date = 2020-06-26 01:00:00, number of deaths =  82, number of infected = 107\n",
      "2020-08-04 16:09:29,174 - june.simulator - INFO - Date = 2020-06-26 09:00:00, number of deaths =  82, number of infected = 105\n",
      "2020-08-04 16:09:30,075 - june.simulator - INFO - Date = 2020-06-26 10:00:00, number of deaths =  82, number of infected = 105\n",
      "2020-08-04 16:09:30,599 - june.simulator - INFO - Date = 2020-06-26 13:00:00, number of deaths =  82, number of infected = 104\n",
      "2020-08-04 16:09:31,302 - june.simulator - INFO - Date = 2020-06-27 00:00:00, number of deaths =  82, number of infected = 102\n",
      "2020-08-04 16:09:32,067 - june.simulator - INFO - Date = 2020-06-27 04:00:00, number of deaths =  82, number of infected = 102\n",
      "2020-08-04 16:09:32,781 - june.simulator - INFO - Date = 2020-06-27 08:00:00, number of deaths =  82, number of infected = 103\n",
      "2020-08-04 16:09:33,314 - june.simulator - INFO - Date = 2020-06-27 12:00:00, number of deaths =  82, number of infected = 103\n",
      "2020-08-04 16:09:34,000 - june.simulator - INFO - Date = 2020-06-28 00:00:00, number of deaths =  82, number of infected = 100\n",
      "2020-08-04 16:09:34,682 - june.simulator - INFO - Date = 2020-06-28 04:00:00, number of deaths =  82, number of infected = 98\n",
      "2020-08-04 16:09:35,366 - june.simulator - INFO - Date = 2020-06-28 08:00:00, number of deaths =  82, number of infected = 97\n",
      "2020-08-04 16:09:35,879 - june.simulator - INFO - Date = 2020-06-28 12:00:00, number of deaths =  82, number of infected = 96\n",
      "2020-08-04 16:09:36,427 - june.simulator - INFO - Date = 2020-06-29 00:00:00, number of deaths =  82, number of infected = 92\n",
      "2020-08-04 16:09:37,211 - june.simulator - INFO - Date = 2020-06-29 01:00:00, number of deaths =  82, number of infected = 92\n",
      "2020-08-04 16:09:37,775 - june.simulator - INFO - Date = 2020-06-29 09:00:00, number of deaths =  82, number of infected = 92\n",
      "2020-08-04 16:09:38,475 - june.simulator - INFO - Date = 2020-06-29 10:00:00, number of deaths =  82, number of infected = 91\n",
      "2020-08-04 16:09:39,023 - june.simulator - INFO - Date = 2020-06-29 13:00:00, number of deaths =  82, number of infected = 91\n",
      "2020-08-04 16:09:39,591 - june.simulator - INFO - Date = 2020-06-30 00:00:00, number of deaths =  82, number of infected = 89\n",
      "2020-08-04 16:09:40,366 - june.simulator - INFO - Date = 2020-06-30 01:00:00, number of deaths =  82, number of infected = 89\n",
      "2020-08-04 16:09:40,928 - june.simulator - INFO - Date = 2020-06-30 09:00:00, number of deaths =  82, number of infected = 89\n",
      "2020-08-04 16:09:41,667 - june.simulator - INFO - Date = 2020-06-30 10:00:00, number of deaths =  82, number of infected = 89\n",
      "2020-08-04 16:09:42,298 - june.simulator - INFO - Date = 2020-06-30 13:00:00, number of deaths =  82, number of infected = 88\n",
      "2020-08-04 16:09:42,835 - june.simulator - INFO - Date = 2020-07-01 00:00:00, number of deaths =  82, number of infected = 84\n",
      "2020-08-04 16:09:43,867 - june.simulator - INFO - Date = 2020-07-01 01:00:00, number of deaths =  82, number of infected = 83\n",
      "2020-08-04 16:09:44,634 - june.simulator - INFO - Date = 2020-07-01 09:00:00, number of deaths =  82, number of infected = 80\n",
      "2020-08-04 16:09:45,630 - june.simulator - INFO - Date = 2020-07-01 10:00:00, number of deaths =  82, number of infected = 80\n",
      "2020-08-04 16:09:46,286 - june.simulator - INFO - Date = 2020-07-01 13:00:00, number of deaths =  82, number of infected = 81\n",
      "2020-08-04 16:09:46,834 - june.simulator - INFO - Date = 2020-07-02 00:00:00, number of deaths =  82, number of infected = 76\n",
      "2020-08-04 16:09:47,616 - june.simulator - INFO - Date = 2020-07-02 01:00:00, number of deaths =  82, number of infected = 76\n",
      "2020-08-04 16:09:48,335 - june.simulator - INFO - Date = 2020-07-02 09:00:00, number of deaths =  82, number of infected = 77\n"
     ]
    },
    {
     "name": "stdout",
     "output_type": "stream",
     "text": [
      "2020-08-04 16:09:48,996 - june.simulator - INFO - Date = 2020-07-02 10:00:00, number of deaths =  82, number of infected = 77\n",
      "2020-08-04 16:09:49,504 - june.simulator - INFO - Date = 2020-07-02 13:00:00, number of deaths =  83, number of infected = 76\n",
      "2020-08-04 16:09:50,027 - june.simulator - INFO - Date = 2020-07-03 00:00:00, number of deaths =  83, number of infected = 76\n",
      "2020-08-04 16:09:50,759 - june.simulator - INFO - Date = 2020-07-03 01:00:00, number of deaths =  83, number of infected = 76\n",
      "2020-08-04 16:09:51,316 - june.simulator - INFO - Date = 2020-07-03 09:00:00, number of deaths =  83, number of infected = 75\n",
      "2020-08-04 16:09:52,062 - june.simulator - INFO - Date = 2020-07-03 10:00:00, number of deaths =  83, number of infected = 75\n",
      "2020-08-04 16:09:52,624 - june.simulator - INFO - Date = 2020-07-03 13:00:00, number of deaths =  83, number of infected = 76\n",
      "2020-08-04 16:09:53,391 - june.simulator - INFO - Date = 2020-07-04 00:00:00, number of deaths =  83, number of infected = 74\n",
      "2020-08-04 16:09:53,983 - june.simulator - INFO - Date = 2020-07-04 04:00:00, number of deaths =  83, number of infected = 74\n",
      "2020-08-04 16:09:54,553 - june.simulator - INFO - Date = 2020-07-04 08:00:00, number of deaths =  83, number of infected = 74\n",
      "2020-08-04 16:09:54,980 - june.simulator - INFO - Date = 2020-07-04 12:00:00, number of deaths =  83, number of infected = 73\n",
      "2020-08-04 16:09:55,651 - june.simulator - INFO - Date = 2020-07-05 00:00:00, number of deaths =  83, number of infected = 71\n",
      "2020-08-04 16:09:56,239 - june.simulator - INFO - Date = 2020-07-05 04:00:00, number of deaths =  83, number of infected = 71\n",
      "2020-08-04 16:09:56,814 - june.simulator - INFO - Date = 2020-07-05 08:00:00, number of deaths =  83, number of infected = 69\n",
      "2020-08-04 16:09:57,185 - june.simulator - INFO - Date = 2020-07-05 12:00:00, number of deaths =  83, number of infected = 67\n",
      "2020-08-04 16:09:57,559 - june.simulator - INFO - Date = 2020-07-06 00:00:00, number of deaths =  83, number of infected = 63\n",
      "2020-08-04 16:09:58,151 - june.simulator - INFO - Date = 2020-07-06 01:00:00, number of deaths =  83, number of infected = 63\n",
      "2020-08-04 16:09:58,551 - june.simulator - INFO - Date = 2020-07-06 09:00:00, number of deaths =  83, number of infected = 63\n",
      "2020-08-04 16:09:59,177 - june.simulator - INFO - Date = 2020-07-06 10:00:00, number of deaths =  83, number of infected = 63\n",
      "2020-08-04 16:09:59,549 - june.simulator - INFO - Date = 2020-07-06 13:00:00, number of deaths =  83, number of infected = 63\n",
      "2020-08-04 16:09:59,954 - june.simulator - INFO - Date = 2020-07-07 00:00:00, number of deaths =  83, number of infected = 64\n",
      "2020-08-04 16:10:00,568 - june.simulator - INFO - Date = 2020-07-07 01:00:00, number of deaths =  83, number of infected = 64\n",
      "2020-08-04 16:10:00,993 - june.simulator - INFO - Date = 2020-07-07 09:00:00, number of deaths =  83, number of infected = 64\n",
      "2020-08-04 16:10:01,641 - june.simulator - INFO - Date = 2020-07-07 10:00:00, number of deaths =  83, number of infected = 64\n",
      "2020-08-04 16:10:02,053 - june.simulator - INFO - Date = 2020-07-07 13:00:00, number of deaths =  83, number of infected = 63\n",
      "2020-08-04 16:10:02,541 - june.simulator - INFO - Date = 2020-07-08 00:00:00, number of deaths =  83, number of infected = 62\n",
      "2020-08-04 16:10:03,197 - june.simulator - INFO - Date = 2020-07-08 01:00:00, number of deaths =  83, number of infected = 62\n",
      "2020-08-04 16:10:03,638 - june.simulator - INFO - Date = 2020-07-08 09:00:00, number of deaths =  83, number of infected = 61\n",
      "2020-08-04 16:10:04,331 - june.simulator - INFO - Date = 2020-07-08 10:00:00, number of deaths =  83, number of infected = 61\n",
      "2020-08-04 16:10:04,735 - june.simulator - INFO - Date = 2020-07-08 13:00:00, number of deaths =  83, number of infected = 61\n",
      "2020-08-04 16:10:05,172 - june.simulator - INFO - Date = 2020-07-09 00:00:00, number of deaths =  83, number of infected = 60\n",
      "2020-08-04 16:10:05,772 - june.simulator - INFO - Date = 2020-07-09 01:00:00, number of deaths =  83, number of infected = 60\n",
      "2020-08-04 16:10:06,169 - june.simulator - INFO - Date = 2020-07-09 09:00:00, number of deaths =  83, number of infected = 59\n",
      "2020-08-04 16:10:06,793 - june.simulator - INFO - Date = 2020-07-09 10:00:00, number of deaths =  83, number of infected = 59\n",
      "2020-08-04 16:10:07,163 - june.simulator - INFO - Date = 2020-07-09 13:00:00, number of deaths =  83, number of infected = 59\n",
      "2020-08-04 16:10:07,549 - june.simulator - INFO - Date = 2020-07-10 00:00:00, number of deaths =  83, number of infected = 58\n",
      "2020-08-04 16:10:08,147 - june.simulator - INFO - Date = 2020-07-10 01:00:00, number of deaths =  83, number of infected = 58\n",
      "2020-08-04 16:10:08,526 - june.simulator - INFO - Date = 2020-07-10 09:00:00, number of deaths =  83, number of infected = 56\n",
      "2020-08-04 16:10:09,117 - june.simulator - INFO - Date = 2020-07-10 10:00:00, number of deaths =  83, number of infected = 56\n",
      "2020-08-04 16:10:09,511 - june.simulator - INFO - Date = 2020-07-10 13:00:00, number of deaths =  83, number of infected = 56\n",
      "2020-08-04 16:10:10,113 - june.simulator - INFO - Date = 2020-07-11 00:00:00, number of deaths =  83, number of infected = 52\n",
      "2020-08-04 16:10:10,744 - june.simulator - INFO - Date = 2020-07-11 04:00:00, number of deaths =  83, number of infected = 52\n",
      "2020-08-04 16:10:11,318 - june.simulator - INFO - Date = 2020-07-11 08:00:00, number of deaths =  83, number of infected = 52\n",
      "2020-08-04 16:10:11,706 - june.simulator - INFO - Date = 2020-07-11 12:00:00, number of deaths =  83, number of infected = 51\n",
      "2020-08-04 16:10:12,289 - june.simulator - INFO - Date = 2020-07-12 00:00:00, number of deaths =  83, number of infected = 50\n",
      "2020-08-04 16:10:12,914 - june.simulator - INFO - Date = 2020-07-12 04:00:00, number of deaths =  83, number of infected = 49\n",
      "2020-08-04 16:10:13,610 - june.simulator - INFO - Date = 2020-07-12 08:00:00, number of deaths =  83, number of infected = 49\n",
      "2020-08-04 16:10:14,027 - june.simulator - INFO - Date = 2020-07-12 12:00:00, number of deaths =  83, number of infected = 49\n",
      "2020-08-04 16:10:14,408 - june.simulator - INFO - Date = 2020-07-13 00:00:00, number of deaths =  83, number of infected = 49\n",
      "2020-08-04 16:10:14,957 - june.simulator - INFO - Date = 2020-07-13 01:00:00, number of deaths =  83, number of infected = 49\n",
      "2020-08-04 16:10:15,377 - june.simulator - INFO - Date = 2020-07-13 09:00:00, number of deaths =  83, number of infected = 46\n",
      "2020-08-04 16:10:15,946 - june.simulator - INFO - Date = 2020-07-13 10:00:00, number of deaths =  83, number of infected = 46\n"
     ]
    }
   ],
   "source": [
    "%%time\n",
    "simulator.run()"
   ]
  },
  {
   "cell_type": "markdown",
   "metadata": {},
   "source": [
    "While the simulation runs (and afterwards) we can launch the visualization webpage by running\n",
    "```python june/visualizer.py path/to/results``` "
   ]
  },
  {
   "cell_type": "markdown",
   "metadata": {},
   "source": [
    "# Getting the results"
   ]
  },
  {
   "cell_type": "markdown",
   "metadata": {},
   "source": [
    "All results are stored in a json file specified in the ``save_path`` variable in the config file. We can also access it from ``world.logger`` directly."
   ]
  },
  {
   "cell_type": "code",
   "execution_count": null,
   "metadata": {},
   "outputs": [],
   "source": [
    "import pandas as pd"
   ]
  },
  {
   "cell_type": "code",
   "execution_count": null,
   "metadata": {},
   "outputs": [],
   "source": [
    "read = ReadLogger()"
   ]
  },
  {
   "cell_type": "markdown",
   "metadata": {},
   "source": [
    "## Hospital data and how it changed over time"
   ]
  },
  {
   "cell_type": "code",
   "execution_count": null,
   "metadata": {},
   "outputs": [],
   "source": [
    "hospitals_df = read.load_hospital_capacity()"
   ]
  },
  {
   "cell_type": "code",
   "execution_count": null,
   "metadata": {},
   "outputs": [],
   "source": [
    "hospitals_df.head(3)"
   ]
  },
  {
   "cell_type": "code",
   "execution_count": null,
   "metadata": {},
   "outputs": [],
   "source": [
    "hospitals_characteristics_df = read.load_hospital_characteristics()"
   ]
  },
  {
   "cell_type": "code",
   "execution_count": null,
   "metadata": {},
   "outputs": [],
   "source": [
    "hospitals_characteristics_df"
   ]
  },
  {
   "cell_type": "markdown",
   "metadata": {},
   "source": [
    "## where did infections happen?"
   ]
  },
  {
   "cell_type": "code",
   "execution_count": null,
   "metadata": {},
   "outputs": [],
   "source": [
    "loc_df = read.get_locations_infections()"
   ]
  },
  {
   "cell_type": "code",
   "execution_count": null,
   "metadata": {},
   "outputs": [],
   "source": [
    "locations_per_day = read.locations_df.groupby(pd.Grouper(freq='D')).sum()"
   ]
  },
  {
   "cell_type": "code",
   "execution_count": null,
   "metadata": {},
   "outputs": [],
   "source": [
    "all_infection_places = set(locations_per_day.location.sum())"
   ]
  },
  {
   "cell_type": "code",
   "execution_count": null,
   "metadata": {},
   "outputs": [],
   "source": [
    "def n_infections(row, infection_place):\n",
    "    return sum([row.counts[i] for i, x in enumerate(row.location) if x == infection_place])\n"
   ]
  },
  {
   "cell_type": "code",
   "execution_count": null,
   "metadata": {},
   "outputs": [],
   "source": [
    "for infection_place in all_infection_places:\n",
    "    locations_per_day[str(infection_place)] = locations_per_day.apply(\n",
    "        lambda x: n_infections(x, infection_place),\n",
    "        axis=1\n",
    "    )"
   ]
  },
  {
   "cell_type": "code",
   "execution_count": null,
   "metadata": {},
   "outputs": [],
   "source": [
    "locations_per_day = locations_per_day.drop(columns=['location',\n",
    "                                                    'counts'])"
   ]
  },
  {
   "cell_type": "code",
   "execution_count": null,
   "metadata": {},
   "outputs": [],
   "source": [
    "locations_per_day = locations_per_day.div(\n",
    "    locations_per_day.sum(axis=1), axis=0\n",
    ")\n"
   ]
  },
  {
   "cell_type": "code",
   "execution_count": null,
   "metadata": {},
   "outputs": [],
   "source": [
    "import matplotlib as mpl\n",
    "mpl.rcParams['figure.dpi'] = 100"
   ]
  },
  {
   "cell_type": "code",
   "execution_count": null,
   "metadata": {},
   "outputs": [],
   "source": [
    "locations_per_day.plot.area( alpha=0.5)\n",
    "plt.legend(bbox_to_anchor=(1,1))\n",
    "plt.ylabel('Percent of infections')"
   ]
  },
  {
   "cell_type": "code",
   "execution_count": null,
   "metadata": {},
   "outputs": [],
   "source": [
    "from matplotlib import cm\n",
    "cmap = cm.get_cmap('Spectral') # Colour map (there are many others)\n",
    "\n",
    "locations_per_day.plot(figsize=(30,8), logy=True, ylim=(1e-3, 1), cmap=cmap)"
   ]
  },
  {
   "cell_type": "code",
   "execution_count": null,
   "metadata": {},
   "outputs": [],
   "source": [
    "import matplotlib.ticker as mtick\n",
    "\n",
    "ax = loc_df['percentage_infections'].sort_values().plot.bar()\n",
    "ax.yaxis.set_major_formatter(mtick.PercentFormatter())\n",
    "plt.ylabel('Percentage of infections at location')\n",
    "plt.xlabel('location')\n",
    "#plt.yscale('log')"
   ]
  },
  {
   "cell_type": "markdown",
   "metadata": {},
   "source": [
    "## rate of infection"
   ]
  },
  {
   "cell_type": "code",
   "execution_count": null,
   "metadata": {},
   "outputs": [],
   "source": [
    "r_df = read.get_r()"
   ]
  },
  {
   "cell_type": "code",
   "execution_count": null,
   "metadata": {},
   "outputs": [],
   "source": [
    "from june.policy import SocialDistancing\n",
    "r_df.plot()\n",
    "colors = [\"yellow\", \"orange\"]\n",
    "for policy in policies.policies:\n",
    "    if isinstance(policy, SocialDistancing):\n",
    "        plt.axvspan(policy.start_time, \n",
    "                policy.end_time,\n",
    "                facecolor=colors.pop(), alpha=0.2)\n",
    "plt.axhline(y=1, linestyle='dashed', color='gray')\n",
    "plt.xlabel('Date')\n",
    "plt.yscale('log')\n",
    "plt.ylabel('R')"
   ]
  },
  {
   "cell_type": "markdown",
   "metadata": {},
   "source": [
    "## World infection curves, and by super area"
   ]
  },
  {
   "cell_type": "code",
   "execution_count": null,
   "metadata": {},
   "outputs": [],
   "source": [
    "world_df = read.world_summary()"
   ]
  },
  {
   "cell_type": "code",
   "execution_count": null,
   "metadata": {},
   "outputs": [],
   "source": [
    "fig, ax = plt.subplots()\n",
    "world_df['new_infections'].resample('D').sum().plot(ax=ax)\n",
    "colors = [\"yellow\", \"orange\"]\n",
    "for policy in policies.policies:\n",
    "    if isinstance(policy, SocialDistancing):\n",
    "        plt.axvspan(policy.start_time, \n",
    "                policy.end_time,\n",
    "                facecolor=colors.pop(), alpha=0.2)\n",
    "plt.axvline('2020-03-23',\n",
    "           linestyle='dashed',\n",
    "           color='indianred')\n",
    "ax.set_ylabel('# new infections')\n",
    "ax.set_xlabel('Date')"
   ]
  },
  {
   "cell_type": "code",
   "execution_count": null,
   "metadata": {},
   "outputs": [],
   "source": [
    "fig, ax = plt.subplots()\n",
    "(world_df['hospital_admissions']+world_df['intensive_care_admissions']).resample('D').sum().plot(ax=ax)\n",
    "colors = [\"yellow\", \"orange\"]\n",
    "for policy in policies.policies:\n",
    "    if isinstance(policy, SocialDistancing):\n",
    "        plt.axvspan(policy.start_time, \n",
    "                policy.end_time,\n",
    "                facecolor=colors.pop(), alpha=0.2)\n",
    "plt.axvline('2020-04-01',\n",
    "           linestyle='dashed',\n",
    "           color='indianred')\n",
    "ax.set_ylabel('# hospital admissions')\n",
    "ax.set_xlabel('Date')"
   ]
  },
  {
   "cell_type": "code",
   "execution_count": null,
   "metadata": {},
   "outputs": [],
   "source": [
    "fig, ax = plt.subplots()\n",
    "world_df['infected'].plot(ax=ax)\n",
    "colors = [\"yellow\", \"orange\"]\n",
    "for policy in policies.policies:\n",
    "    if isinstance(policy, SocialDistancing):\n",
    "        plt.axvspan(policy.start_time, \n",
    "                policy.end_time,\n",
    "                facecolor=colors.pop(), alpha=0.2)\n",
    "ax.set_ylabel('# Infected')\n",
    "ax.set_xlabel('Date')"
   ]
  },
  {
   "cell_type": "code",
   "execution_count": null,
   "metadata": {},
   "outputs": [],
   "source": [
    "world_df.plot()\n",
    "colors = [\"yellow\", \"orange\"]\n",
    "for policy in policies.policies:\n",
    "    if isinstance(policy, SocialDistancing):\n",
    "        plt.axvspan(policy.start_time, \n",
    "                policy.end_time,\n",
    "                facecolor=colors.pop(), alpha=0.2)\n",
    "plt.legend(bbox_to_anchor=(1,1))\n"
   ]
  },
  {
   "cell_type": "code",
   "execution_count": null,
   "metadata": {},
   "outputs": [],
   "source": [
    "area_df = read.super_area_summary()"
   ]
  },
  {
   "cell_type": "code",
   "execution_count": null,
   "metadata": {},
   "outputs": [],
   "source": [
    "area_df[area_df.super_area == \"E02003282\"].plot()\n",
    "plt.legend(bbox_to_anchor=(1,1))"
   ]
  },
  {
   "cell_type": "markdown",
   "metadata": {},
   "source": [
    "## World infection curves per age group"
   ]
  },
  {
   "cell_type": "code",
   "execution_count": null,
   "metadata": {},
   "outputs": [],
   "source": [
    "ages_df = read.age_summary([0,10,20,30,40,\n",
    "                  50,60,70,80,90,100])"
   ]
  },
  {
   "cell_type": "code",
   "execution_count": null,
   "metadata": {},
   "outputs": [],
   "source": [
    "for name, group in ages_df.groupby('age_range'):\n",
    "    group['infected'].plot(label=name)\n",
    "colors = [\"yellow\", \"orange\"]\n",
    "for policy in policies.policies:\n",
    "    if isinstance(policy, SocialDistancing):\n",
    "        plt.axvspan(policy.start_time, \n",
    "                policy.end_time,\n",
    "                facecolor=colors.pop(), alpha=0.2)\n",
    "plt.legend(bbox_to_anchor=(1,1))\n"
   ]
  },
  {
   "cell_type": "code",
   "execution_count": null,
   "metadata": {},
   "outputs": [],
   "source": [
    "for name, group in ages_df.groupby('age_range'):\n",
    "    group['dead'].cumsum().plot(label=name)\n",
    "plt.legend()"
   ]
  },
  {
   "cell_type": "code",
   "execution_count": null,
   "metadata": {},
   "outputs": [],
   "source": [
    "for name, group in ages_df.groupby('age_range'):\n",
    "    group['susceptible'].plot(label=name)\n",
    "plt.legend()"
   ]
  },
  {
   "cell_type": "code",
   "execution_count": null,
   "metadata": {},
   "outputs": [],
   "source": [
    "for name, group in ages_df.groupby('age_range'):\n",
    "    group['hospital_admissions'].cumsum().plot(label=name)\n",
    "plt.legend()"
   ]
  },
  {
   "cell_type": "code",
   "execution_count": null,
   "metadata": {},
   "outputs": [],
   "source": [
    "for name, group in ages_df.groupby('age_range'):\n",
    "    group['intensive_care_admissions'].cumsum().plot(label=name)\n",
    "plt.legend()"
   ]
  },
  {
   "cell_type": "markdown",
   "metadata": {},
   "source": [
    "## Draw some of the symptoms trajectories"
   ]
  },
  {
   "cell_type": "code",
   "execution_count": null,
   "metadata": {},
   "outputs": [],
   "source": [
    "random_trajectories = read.draw_symptom_trajectories(window_length=600,\n",
    "                                        n_people=10)"
   ]
  },
  {
   "cell_type": "code",
   "execution_count": null,
   "metadata": {},
   "outputs": [],
   "source": [
    "from june.infection import SymptomTag"
   ]
  },
  {
   "cell_type": "code",
   "execution_count": null,
   "metadata": {},
   "outputs": [],
   "source": [
    "symptoms_values = [tag.value for tag in SymptomTag]\n",
    "symptoms_names = [tag.name for tag in SymptomTag]\n"
   ]
  },
  {
   "cell_type": "code",
   "execution_count": null,
   "metadata": {},
   "outputs": [],
   "source": [
    "for df_person in random_trajectories:\n",
    "    df_person['symptoms'].plot()\n",
    "plt.ylabel('Symptoms Trajectory')\n",
    "_ = plt.yticks(symptoms_values, symptoms_names)\n",
    "plt.xlabel('Date')"
   ]
  },
  {
   "cell_type": "code",
   "execution_count": null,
   "metadata": {},
   "outputs": [],
   "source": [
    "for df_person in random_trajectories:\n",
    "    df_person['n_secondary_infections'].plot()\n",
    "plt.ylabel('Number of secondary infections')\n",
    "\n",
    "plt.xlabel('Date')"
   ]
  },
  {
   "cell_type": "code",
   "execution_count": null,
   "metadata": {},
   "outputs": [],
   "source": []
  },
  {
   "cell_type": "code",
   "execution_count": null,
   "metadata": {},
   "outputs": [],
   "source": [
    "\n"
   ]
  }
 ],
 "metadata": {
  "kernelspec": {
   "display_name": "Python 3",
   "language": "python",
   "name": "python3"
  },
  "language_info": {
   "codemirror_mode": {
    "name": "ipython",
    "version": 3
   },
   "file_extension": ".py",
   "mimetype": "text/x-python",
   "name": "python",
   "nbconvert_exporter": "python",
   "pygments_lexer": "ipython3",
   "version": "3.8.3"
  }
 },
 "nbformat": 4,
 "nbformat_minor": 4
}
