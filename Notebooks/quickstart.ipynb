{
 "cells": [
  {
   "cell_type": "code",
   "execution_count": 1,
   "metadata": {},
   "outputs": [],
   "source": [
    "%load_ext autoreload\n",
    "%autoreload 2"
   ]
  },
  {
   "cell_type": "code",
   "execution_count": 2,
   "metadata": {},
   "outputs": [],
   "source": [
    "import numpy as np\n",
    "import time\n",
    "from datetime import datetime\n",
    "import matplotlib.pyplot as plt\n",
    "import seaborn as sns\n",
    "sns.set_context('notebook')"
   ]
  },
  {
   "cell_type": "code",
   "execution_count": 18,
   "metadata": {},
   "outputs": [],
   "source": [
    "from june import World \n",
    "from june.demography.geography import Geography\n",
    "from june.demography import Demography\n",
    "from june.interaction import Interaction\n",
    "from june.infection import Infection, HealthIndexGenerator\n",
    "from june.infection.transmission import TransmissionConstant\n",
    "from june.groups import Hospitals, Schools, Companies, Households, CareHomes, Cemeteries, Universities\n",
    "from june.groups.leisure import generate_leisure_for_config, Cinemas, Pubs, Groceries\n",
    "from june.simulator import Simulator\n",
    "from june.infection_seed import InfectionSeed\n",
    "from june.policy import Policy, Policies\n",
    "from june import paths\n",
    "from june.hdf5_savers import load_geography_from_hdf5\n",
    "from june.logger.read_logger import ReadLogger\n",
    "from june.infection.infection import InfectionSelector\n",
    "from june.world import generate_world_from_hdf5, generate_world_from_geography"
   ]
  },
  {
   "cell_type": "markdown",
   "metadata": {},
   "source": [
    "# Initialize world\n",
    "\n",
    "To initialize a certain world, we need to add the different components we want to have in it. First we specify what super areas (msoa) we want to create. We have included these ones, because they are known to contain hospitals, schools, care homes, and companies.\n",
    "\n",
    "After creating the geography, we create the different components the worlds need to have such as care homes, companies ..."
   ]
  },
  {
   "cell_type": "code",
   "execution_count": 5,
   "metadata": {},
   "outputs": [],
   "source": [
    "CONFIG_PATH = \"../configs/config_example.yaml\""
   ]
  },
  {
   "cell_type": "code",
   "execution_count": 6,
   "metadata": {},
   "outputs": [
    {
     "name": "stdout",
     "output_type": "stream",
     "text": [
      "2020-07-29 08:29:46,880 - june.demography.geography - INFO - There are 129 areas and 5 super_areas in the world.\n",
      "2020-07-29 08:29:46,887 - june.groups.hospital - INFO - There are 1 hospitals in this geography.\n",
      "2020-07-29 08:29:46,945 - june.groups.school - INFO - There are 19 schools in this geography.\n",
      "2020-07-29 08:29:46,978 - june.groups.school - INFO - No school for the age 0 in this world.\n",
      "2020-07-29 08:29:46,982 - june.groups.school - INFO - No school for the age 1 in this world.\n",
      "2020-07-29 08:29:46,987 - june.groups.school - INFO - No school for the age 2 in this world.\n",
      "2020-07-29 08:29:47,341 - june.groups.carehome - INFO - There are 9 care_homes in this geography.\n",
      "2020-07-29 08:30:00,040 - june.distributors.worker_distributor - INFO - There are 0 who had to be told to stay real\n",
      "CPU times: user 38.3 s, sys: 1.05 s, total: 39.4 s\n",
      "Wall time: 40.3 s\n"
     ]
    }
   ],
   "source": [
    "%%time \n",
    "\n",
    "geography = Geography.from_file(\n",
    "        {\n",
    "            \"super_area\": [\n",
    "                \"E02003282\",\n",
    "                \"E02001720\",\n",
    "                \"E02002560\",\n",
    "                \"E02002559\",\n",
    "                \"E02004314\",\n",
    "            ]\n",
    "        }\n",
    ")\n",
    "\n",
    "geography.hospitals = Hospitals.for_geography(geography)\n",
    "geography.schools = Schools.for_geography(geography)\n",
    "geography.companies = Companies.for_geography(geography)\n",
    "geography.care_homes = CareHomes.for_geography(geography)\n",
    "geography.universities = Universities.for_super_areas(geography.super_areas)\n",
    "world = generate_world_from_geography(geography, include_households=True, include_commute=True)"
   ]
  },
  {
   "cell_type": "markdown",
   "metadata": {},
   "source": [
    "## Commute, travel and leisure"
   ]
  },
  {
   "cell_type": "code",
   "execution_count": 7,
   "metadata": {},
   "outputs": [
    {
     "name": "stdout",
     "output_type": "stream",
     "text": [
      "2020-07-29 08:30:28,747 - june.groups.leisure.leisure - INFO - Distributing social venues to households\n",
      "2020-07-29 08:30:28,747 - june.groups.leisure.leisure - INFO - Distributed in 0 of 16223 households.\n"
     ]
    }
   ],
   "source": [
    "world.pubs = Pubs.for_geography(geography)\n",
    "world.cinemas = Cinemas.for_geography(geography)\n",
    "world.groceries = Groceries.for_geography(geography)\n",
    "leisure = generate_leisure_for_config(world, config_filename=CONFIG_PATH)\n",
    "leisure.distribute_social_venues_to_households(world.households) # this assigns possible social venues to people."
   ]
  },
  {
   "cell_type": "markdown",
   "metadata": {},
   "source": [
    "We are also going to need some cemeteries...geography.cemeteries = Cemeteries()\n"
   ]
  },
  {
   "cell_type": "code",
   "execution_count": 8,
   "metadata": {},
   "outputs": [],
   "source": [
    "world.cemeteries = Cemeteries()"
   ]
  },
  {
   "cell_type": "code",
   "execution_count": 9,
   "metadata": {},
   "outputs": [
    {
     "data": {
      "text/plain": [
       "46784"
      ]
     },
     "execution_count": 9,
     "metadata": {},
     "output_type": "execute_result"
    }
   ],
   "source": [
    "len(world.people)"
   ]
  },
  {
   "cell_type": "markdown",
   "metadata": {},
   "source": [
    "### If it took a long time to run the previous commands, it might be a good idea to save the world to reuse it later."
   ]
  },
  {
   "cell_type": "code",
   "execution_count": 10,
   "metadata": {},
   "outputs": [],
   "source": [
    "world.to_hdf5(\"world.hdf5\")"
   ]
  },
  {
   "cell_type": "markdown",
   "metadata": {},
   "source": [
    "If we would like to load the world we saved, we just do"
   ]
  },
  {
   "cell_type": "code",
   "execution_count": 11,
   "metadata": {},
   "outputs": [
    {
     "name": "stdout",
     "output_type": "stream",
     "text": [
      "loading population from hdf5 .\n",
      "loading companies from hdf5 .\n",
      "loading households from hdf5 .\n",
      "restoring world...\n",
      "restoring people...\n",
      "done\n",
      "restoring areas...\n",
      "done\n",
      "restoring households...\n",
      "done\n",
      "restoring care homes...\n",
      "done\n",
      "restoring commute...\n",
      "done\n"
     ]
    }
   ],
   "source": [
    "world = generate_world_from_hdf5(\"world.hdf5\")"
   ]
  },
  {
   "cell_type": "code",
   "execution_count": 12,
   "metadata": {},
   "outputs": [
    {
     "data": {
      "text/plain": [
       "<june.groups.leisure.pub.Pubs at 0x7f9991b39040>"
      ]
     },
     "execution_count": 12,
     "metadata": {},
     "output_type": "execute_result"
    }
   ],
   "source": [
    "world.pubs"
   ]
  },
  {
   "cell_type": "code",
   "execution_count": 13,
   "metadata": {},
   "outputs": [],
   "source": [
    "# and regenerate leisure in case we load it externally\n",
    "leisure = generate_leisure_for_config(world, CONFIG_PATH)"
   ]
  },
  {
   "cell_type": "markdown",
   "metadata": {},
   "source": [
    "you have now a beautiful pre-pandemic world. "
   ]
  },
  {
   "cell_type": "markdown",
   "metadata": {},
   "source": [
    "# Adding the infection"
   ]
  },
  {
   "cell_type": "markdown",
   "metadata": {},
   "source": [
    "Now, you can play around with different models of infections. The building blocks for an infection are: Transmission and Symptoms. For now, only SymptomsConstant and TransmissionConstant are in a state to be used."
   ]
  },
  {
   "cell_type": "code",
   "execution_count": 14,
   "metadata": {},
   "outputs": [],
   "source": [
    "health_index_generator = HealthIndexGenerator.from_file(asymptomatic_ratio=0.2)\n",
    "selector = InfectionSelector.from_file(health_index_generator=health_index_generator)"
   ]
  },
  {
   "cell_type": "code",
   "execution_count": 15,
   "metadata": {},
   "outputs": [
    {
     "data": {
      "text/plain": [
       "0.2"
      ]
     },
     "execution_count": 15,
     "metadata": {},
     "output_type": "execute_result"
    }
   ],
   "source": [
    "selector.health_index_generator.asymptomatic_ratio"
   ]
  },
  {
   "cell_type": "markdown",
   "metadata": {},
   "source": [
    "# Adding the interaction"
   ]
  },
  {
   "cell_type": "code",
   "execution_count": 19,
   "metadata": {},
   "outputs": [],
   "source": [
    "interaction = Interaction.from_file()"
   ]
  },
  {
   "cell_type": "markdown",
   "metadata": {},
   "source": [
    "Beta are the intensities of the interaction taking place at the different groups"
   ]
  },
  {
   "cell_type": "code",
   "execution_count": 20,
   "metadata": {},
   "outputs": [
    {
     "data": {
      "text/plain": [
       "{'box': 1,\n",
       " 'pub': 0.1,\n",
       " 'grocery': 0.1,\n",
       " 'cinema': 0.1,\n",
       " 'commute_unit': 1.0,\n",
       " 'commute_city_unit': 1.0,\n",
       " 'hospital': 1.0,\n",
       " 'care_home': 1.0,\n",
       " 'company': 0.1,\n",
       " 'school': 0.1,\n",
       " 'household': 0.2,\n",
       " 'university': 0.01}"
      ]
     },
     "execution_count": 20,
     "metadata": {},
     "output_type": "execute_result"
    }
   ],
   "source": [
    "interaction.beta"
   ]
  },
  {
   "cell_type": "markdown",
   "metadata": {},
   "source": [
    "to modify these, simply do"
   ]
  },
  {
   "cell_type": "code",
   "execution_count": 21,
   "metadata": {},
   "outputs": [],
   "source": [
    "for key in interaction.beta.keys():\n",
    "    interaction.beta[key] *= 2"
   ]
  },
  {
   "cell_type": "code",
   "execution_count": 22,
   "metadata": {},
   "outputs": [
    {
     "data": {
      "text/plain": [
       "{'box': 2,\n",
       " 'pub': 0.2,\n",
       " 'grocery': 0.2,\n",
       " 'cinema': 0.2,\n",
       " 'commute_unit': 2.0,\n",
       " 'commute_city_unit': 2.0,\n",
       " 'hospital': 2.0,\n",
       " 'care_home': 2.0,\n",
       " 'company': 0.2,\n",
       " 'school': 0.2,\n",
       " 'household': 0.4,\n",
       " 'university': 0.02}"
      ]
     },
     "execution_count": 22,
     "metadata": {},
     "output_type": "execute_result"
    }
   ],
   "source": [
    "interaction.beta"
   ]
  },
  {
   "cell_type": "markdown",
   "metadata": {},
   "source": [
    "moreover this interaction module uses contact matrices, that are different for different groups. These contact matrices shouldnt be modified for now. However they are a combination of conversational contact matrices, and physical contact matrices (see the BBC pandemic paper, from where these matrices are extracted https://www.medrxiv.org/content/10.1101/2020.02.16.20023754v2)\n",
    "\n",
    "There is a parameter, ``alpha`` ($\\alpha$), that combines these two matrices in the following way,\n",
    "\n",
    "\n",
    "$\\beta M \\left(1 + (\\alpha -1) \\right) P$\n",
    "\n",
    "where $\\beta$ is the intensity of the interaction, and $P$ the physical contact matrix. A larger $\\alpha$ produces more physical contacts. It is an overall number, non dependent of the particular group.\n"
   ]
  },
  {
   "cell_type": "code",
   "execution_count": 23,
   "metadata": {},
   "outputs": [
    {
     "data": {
      "text/plain": [
       "2.0"
      ]
     },
     "execution_count": 23,
     "metadata": {},
     "output_type": "execute_result"
    }
   ],
   "source": [
    "interaction.alpha_physical"
   ]
  },
  {
   "cell_type": "markdown",
   "metadata": {},
   "source": [
    "# Seed the disease"
   ]
  },
  {
   "cell_type": "markdown",
   "metadata": {},
   "source": [
    "There are two options implemented in the seed at the moment, either you specify the number of cases and these are then homogeneously distributed by population to the different areas, or you use UK data on cases per region. For now use the first case."
   ]
  },
  {
   "cell_type": "code",
   "execution_count": 24,
   "metadata": {},
   "outputs": [],
   "source": [
    "infection_seed = InfectionSeed(\n",
    "    world.super_areas, selector,\n",
    ")"
   ]
  },
  {
   "cell_type": "code",
   "execution_count": 25,
   "metadata": {},
   "outputs": [],
   "source": [
    "n_cases = 50\n",
    "infection_seed.unleash_virus(n_cases) # play around with the initial number of cases"
   ]
  },
  {
   "cell_type": "markdown",
   "metadata": {},
   "source": [
    "# Set policies"
   ]
  },
  {
   "cell_type": "code",
   "execution_count": 26,
   "metadata": {},
   "outputs": [],
   "source": [
    "policies = Policies.from_file()"
   ]
  },
  {
   "cell_type": "markdown",
   "metadata": {},
   "source": [
    "# Run the simulation"
   ]
  },
  {
   "cell_type": "markdown",
   "metadata": {},
   "source": [
    "Since the timer configuration is a bit cumbersome, it is read from the config file at ``configs/config_example.yaml``"
   ]
  },
  {
   "cell_type": "code",
   "execution_count": 27,
   "metadata": {},
   "outputs": [],
   "source": [
    "simulator = Simulator.from_file(\n",
    "    world=world,\n",
    "    interaction=interaction,\n",
    "    infection_selector=selector,\n",
    "    config_filename = CONFIG_PATH,\n",
    "    leisure = leisure,\n",
    "    policies = policies\n",
    ")"
   ]
  },
  {
   "cell_type": "code",
   "execution_count": null,
   "metadata": {
    "scrolled": true
   },
   "outputs": [
    {
     "name": "stdout",
     "output_type": "stream",
     "text": [
      "2020-07-29 08:31:52,453 - june.simulator - INFO - Starting group_dynamics for 250 days at day 0\n",
      "2020-07-29 08:31:52,454 - june.simulator - INFO - starting the loop ..., at 0 days, to run for 250 days\n",
      "2020-07-29 08:31:53,716 - june.simulator - INFO - Date = 2020-03-01 04:00:00, number of deaths =  0, number of infected = 50\n",
      "2020-07-29 08:31:54,452 - june.simulator - INFO - Date = 2020-03-01 08:00:00, number of deaths =  0, number of infected = 50\n",
      "2020-07-29 08:31:54,852 - june.simulator - INFO - Date = 2020-03-01 12:00:00, number of deaths =  0, number of infected = 50\n",
      "2020-07-29 08:31:55,350 - june.simulator - INFO - Date = 2020-03-02 00:00:00, number of deaths =  0, number of infected = 50\n",
      "2020-07-29 08:31:56,612 - june.simulator - INFO - Date = 2020-03-02 01:00:00, number of deaths =  0, number of infected = 51\n",
      "2020-07-29 08:31:58,798 - june.simulator - INFO - Date = 2020-03-02 09:00:00, number of deaths =  0, number of infected = 51\n",
      "2020-07-29 08:31:59,414 - june.simulator - INFO - Date = 2020-03-02 10:00:00, number of deaths =  0, number of infected = 52\n",
      "2020-07-29 08:31:59,795 - june.simulator - INFO - Date = 2020-03-02 13:00:00, number of deaths =  0, number of infected = 53\n",
      "2020-07-29 08:32:00,178 - june.simulator - INFO - Date = 2020-03-03 00:00:00, number of deaths =  0, number of infected = 55\n",
      "2020-07-29 08:32:00,615 - june.simulator - INFO - Date = 2020-03-03 01:00:00, number of deaths =  0, number of infected = 55\n",
      "2020-07-29 08:32:00,933 - june.simulator - INFO - Date = 2020-03-03 09:00:00, number of deaths =  0, number of infected = 56\n",
      "2020-07-29 08:32:01,585 - june.simulator - INFO - Date = 2020-03-03 10:00:00, number of deaths =  0, number of infected = 56\n",
      "2020-07-29 08:32:01,977 - june.simulator - INFO - Date = 2020-03-03 13:00:00, number of deaths =  0, number of infected = 58\n",
      "2020-07-29 08:32:02,365 - june.simulator - INFO - Date = 2020-03-04 00:00:00, number of deaths =  0, number of infected = 62\n",
      "2020-07-29 08:32:02,826 - june.simulator - INFO - Date = 2020-03-04 01:00:00, number of deaths =  0, number of infected = 63\n",
      "2020-07-29 08:32:03,412 - june.simulator - INFO - Date = 2020-03-04 09:00:00, number of deaths =  0, number of infected = 66\n",
      "2020-07-29 08:32:04,008 - june.simulator - INFO - Date = 2020-03-04 10:00:00, number of deaths =  0, number of infected = 66\n",
      "2020-07-29 08:32:04,359 - june.simulator - INFO - Date = 2020-03-04 13:00:00, number of deaths =  0, number of infected = 66\n",
      "2020-07-29 08:32:04,765 - june.simulator - INFO - Date = 2020-03-05 00:00:00, number of deaths =  0, number of infected = 76\n",
      "2020-07-29 08:32:05,202 - june.simulator - INFO - Date = 2020-03-05 01:00:00, number of deaths =  0, number of infected = 77\n",
      "2020-07-29 08:32:06,308 - june.simulator - INFO - Date = 2020-03-05 09:00:00, number of deaths =  0, number of infected = 91\n",
      "2020-07-29 08:32:06,928 - june.simulator - INFO - Date = 2020-03-05 10:00:00, number of deaths =  0, number of infected = 92\n",
      "2020-07-29 08:32:07,289 - june.simulator - INFO - Date = 2020-03-05 13:00:00, number of deaths =  0, number of infected = 93\n",
      "2020-07-29 08:32:07,679 - june.simulator - INFO - Date = 2020-03-06 00:00:00, number of deaths =  0, number of infected = 101\n",
      "2020-07-29 08:32:08,068 - june.simulator - INFO - Date = 2020-03-06 01:00:00, number of deaths =  0, number of infected = 101\n",
      "2020-07-29 08:32:08,503 - june.simulator - INFO - Date = 2020-03-06 09:00:00, number of deaths =  0, number of infected = 118\n",
      "2020-07-29 08:32:09,330 - june.simulator - INFO - Date = 2020-03-06 10:00:00, number of deaths =  0, number of infected = 121\n",
      "2020-07-29 08:32:09,685 - june.simulator - INFO - Date = 2020-03-06 13:00:00, number of deaths =  0, number of infected = 126\n",
      "2020-07-29 08:32:10,353 - june.simulator - INFO - Date = 2020-03-07 00:00:00, number of deaths =  0, number of infected = 132\n",
      "2020-07-29 08:32:10,964 - june.simulator - INFO - Date = 2020-03-07 04:00:00, number of deaths =  0, number of infected = 135\n",
      "2020-07-29 08:32:11,555 - june.simulator - INFO - Date = 2020-03-07 08:00:00, number of deaths =  0, number of infected = 136\n",
      "2020-07-29 08:32:11,950 - june.simulator - INFO - Date = 2020-03-07 12:00:00, number of deaths =  0, number of infected = 144\n",
      "2020-07-29 08:32:12,619 - june.simulator - INFO - Date = 2020-03-08 00:00:00, number of deaths =  0, number of infected = 160\n",
      "2020-07-29 08:32:13,270 - june.simulator - INFO - Date = 2020-03-08 04:00:00, number of deaths =  0, number of infected = 163\n",
      "2020-07-29 08:32:13,883 - june.simulator - INFO - Date = 2020-03-08 08:00:00, number of deaths =  0, number of infected = 165\n",
      "2020-07-29 08:32:14,246 - june.simulator - INFO - Date = 2020-03-08 12:00:00, number of deaths =  0, number of infected = 173\n",
      "2020-07-29 08:32:14,677 - june.simulator - INFO - Date = 2020-03-09 00:00:00, number of deaths =  0, number of infected = 181\n",
      "2020-07-29 08:32:15,163 - june.simulator - INFO - Date = 2020-03-09 01:00:00, number of deaths =  0, number of infected = 185\n",
      "2020-07-29 08:32:17,678 - june.simulator - INFO - Date = 2020-03-09 09:00:00, number of deaths =  0, number of infected = 239\n",
      "2020-07-29 08:32:18,387 - june.simulator - INFO - Date = 2020-03-09 10:00:00, number of deaths =  0, number of infected = 247\n",
      "2020-07-29 08:32:18,766 - june.simulator - INFO - Date = 2020-03-09 13:00:00, number of deaths =  0, number of infected = 250\n",
      "2020-07-29 08:32:19,209 - june.simulator - INFO - Date = 2020-03-10 00:00:00, number of deaths =  0, number of infected = 262\n",
      "2020-07-29 08:32:19,701 - june.simulator - INFO - Date = 2020-03-10 01:00:00, number of deaths =  0, number of infected = 266\n",
      "2020-07-29 08:32:20,972 - june.simulator - INFO - Date = 2020-03-10 09:00:00, number of deaths =  0, number of infected = 335\n",
      "2020-07-29 08:32:21,651 - june.simulator - INFO - Date = 2020-03-10 10:00:00, number of deaths =  0, number of infected = 344\n",
      "2020-07-29 08:32:22,039 - june.simulator - INFO - Date = 2020-03-10 13:00:00, number of deaths =  0, number of infected = 356\n",
      "2020-07-29 08:32:22,929 - june.simulator - INFO - Date = 2020-03-11 00:00:00, number of deaths =  0, number of infected = 390\n",
      "2020-07-29 08:32:23,450 - june.simulator - INFO - Date = 2020-03-11 01:00:00, number of deaths =  0, number of infected = 401\n",
      "2020-07-29 08:32:25,769 - june.simulator - INFO - Date = 2020-03-11 09:00:00, number of deaths =  0, number of infected = 517\n",
      "2020-07-29 08:32:26,615 - june.simulator - INFO - Date = 2020-03-11 10:00:00, number of deaths =  0, number of infected = 544\n",
      "2020-07-29 08:32:27,058 - june.simulator - INFO - Date = 2020-03-11 13:00:00, number of deaths =  0, number of infected = 565\n",
      "2020-07-29 08:32:27,582 - june.simulator - INFO - Date = 2020-03-12 00:00:00, number of deaths =  0, number of infected = 601\n",
      "2020-07-29 08:32:28,163 - june.simulator - INFO - Date = 2020-03-12 01:00:00, number of deaths =  0, number of infected = 628\n",
      "2020-07-29 08:32:30,856 - june.simulator - INFO - Date = 2020-03-12 09:00:00, number of deaths =  0, number of infected = 821\n",
      "2020-07-29 08:32:31,669 - june.simulator - INFO - Date = 2020-03-12 10:00:00, number of deaths =  0, number of infected = 870\n",
      "2020-07-29 08:32:32,109 - june.simulator - INFO - Date = 2020-03-12 13:00:00, number of deaths =  0, number of infected = 896\n",
      "2020-07-29 08:32:32,711 - june.simulator - INFO - Date = 2020-03-13 00:00:00, number of deaths =  0, number of infected = 955\n",
      "2020-07-29 08:32:33,361 - june.simulator - INFO - Date = 2020-03-13 01:00:00, number of deaths =  0, number of infected = 1003\n",
      "2020-07-29 08:32:35,418 - june.simulator - INFO - Date = 2020-03-13 09:00:00, number of deaths =  0, number of infected = 1098\n",
      "2020-07-29 08:32:36,199 - june.simulator - INFO - Date = 2020-03-13 10:00:00, number of deaths =  0, number of infected = 1129\n",
      "2020-07-29 08:32:36,759 - june.simulator - INFO - Date = 2020-03-13 13:00:00, number of deaths =  0, number of infected = 1176\n",
      "2020-07-29 08:32:37,821 - june.simulator - INFO - Date = 2020-03-14 00:00:00, number of deaths =  0, number of infected = 1288\n",
      "2020-07-29 08:32:38,587 - june.simulator - INFO - Date = 2020-03-14 04:00:00, number of deaths =  0, number of infected = 1337\n",
      "2020-07-29 08:32:39,447 - june.simulator - INFO - Date = 2020-03-14 08:00:00, number of deaths =  0, number of infected = 1400\n",
      "2020-07-29 08:32:40,134 - june.simulator - INFO - Date = 2020-03-14 12:00:00, number of deaths =  0, number of infected = 1450\n",
      "2020-07-29 08:32:41,198 - june.simulator - INFO - Date = 2020-03-15 00:00:00, number of deaths =  0, number of infected = 1573\n",
      "2020-07-29 08:32:42,084 - june.simulator - INFO - Date = 2020-03-15 04:00:00, number of deaths =  0, number of infected = 1642\n",
      "2020-07-29 08:32:43,030 - june.simulator - INFO - Date = 2020-03-15 08:00:00, number of deaths =  0, number of infected = 1716\n",
      "2020-07-29 08:32:43,657 - june.simulator - INFO - Date = 2020-03-15 12:00:00, number of deaths =  0, number of infected = 1795\n",
      "2020-07-29 08:32:44,829 - june.simulator - INFO - Date = 2020-03-16 00:00:00, number of deaths =  0, number of infected = 1918\n",
      "2020-07-29 08:32:45,803 - june.simulator - INFO - Date = 2020-03-16 01:00:00, number of deaths =  0, number of infected = 1953\n",
      "2020-07-29 08:32:48,363 - june.simulator - INFO - Date = 2020-03-16 09:00:00, number of deaths =  0, number of infected = 2042\n",
      "2020-07-29 08:32:49,484 - june.simulator - INFO - Date = 2020-03-16 10:00:00, number of deaths =  0, number of infected = 2064\n",
      "2020-07-29 08:32:50,476 - june.simulator - INFO - Date = 2020-03-16 13:00:00, number of deaths =  0, number of infected = 2143\n",
      "2020-07-29 08:32:51,679 - june.simulator - INFO - Date = 2020-03-17 00:00:00, number of deaths =  0, number of infected = 2263\n",
      "2020-07-29 08:32:52,598 - june.simulator - INFO - Date = 2020-03-17 01:00:00, number of deaths =  0, number of infected = 2281\n",
      "2020-07-29 08:32:53,931 - june.simulator - INFO - Date = 2020-03-17 09:00:00, number of deaths =  0, number of infected = 2393\n",
      "2020-07-29 08:32:54,964 - june.simulator - INFO - Date = 2020-03-17 10:00:00, number of deaths =  0, number of infected = 2401\n",
      "2020-07-29 08:32:56,019 - june.simulator - INFO - Date = 2020-03-17 13:00:00, number of deaths =  0, number of infected = 2461\n",
      "2020-07-29 08:32:57,714 - june.simulator - INFO - Date = 2020-03-18 00:00:00, number of deaths =  0, number of infected = 2585\n",
      "2020-07-29 08:32:58,634 - june.simulator - INFO - Date = 2020-03-18 01:00:00, number of deaths =  0, number of infected = 2594\n",
      "2020-07-29 08:33:00,089 - june.simulator - INFO - Date = 2020-03-18 09:00:00, number of deaths =  0, number of infected = 2702\n",
      "2020-07-29 08:33:01,302 - june.simulator - INFO - Date = 2020-03-18 10:00:00, number of deaths =  0, number of infected = 2711\n",
      "2020-07-29 08:33:02,217 - june.simulator - INFO - Date = 2020-03-18 13:00:00, number of deaths =  0, number of infected = 2750\n",
      "2020-07-29 08:33:03,433 - june.simulator - INFO - Date = 2020-03-19 00:00:00, number of deaths =  0, number of infected = 2874\n",
      "2020-07-29 08:33:04,388 - june.simulator - INFO - Date = 2020-03-19 01:00:00, number of deaths =  0, number of infected = 2888\n",
      "2020-07-29 08:33:05,789 - june.simulator - INFO - Date = 2020-03-19 09:00:00, number of deaths =  0, number of infected = 3001\n",
      "2020-07-29 08:33:06,950 - june.simulator - INFO - Date = 2020-03-19 10:00:00, number of deaths =  0, number of infected = 3013\n",
      "2020-07-29 08:33:08,012 - june.simulator - INFO - Date = 2020-03-19 13:00:00, number of deaths =  0, number of infected = 3083\n",
      "2020-07-29 08:33:09,604 - june.simulator - INFO - Date = 2020-03-20 00:00:00, number of deaths =  0, number of infected = 3228\n",
      "2020-07-29 08:33:10,990 - june.simulator - INFO - Date = 2020-03-20 01:00:00, number of deaths =  0, number of infected = 3254\n",
      "2020-07-29 08:33:12,521 - june.simulator - INFO - Date = 2020-03-20 09:00:00, number of deaths =  0, number of infected = 3401\n",
      "2020-07-29 08:33:14,026 - june.simulator - INFO - Date = 2020-03-20 10:00:00, number of deaths =  0, number of infected = 3423\n",
      "2020-07-29 08:33:15,246 - june.simulator - INFO - Date = 2020-03-20 13:00:00, number of deaths =  0, number of infected = 3480\n",
      "2020-07-29 08:33:16,952 - june.simulator - INFO - Date = 2020-03-21 00:00:00, number of deaths =  0, number of infected = 3622\n",
      "2020-07-29 08:33:18,597 - june.simulator - INFO - Date = 2020-03-21 04:00:00, number of deaths =  0, number of infected = 3713\n",
      "2020-07-29 08:33:20,115 - june.simulator - INFO - Date = 2020-03-21 08:00:00, number of deaths =  0, number of infected = 3779\n",
      "2020-07-29 08:33:21,319 - june.simulator - INFO - Date = 2020-03-21 12:00:00, number of deaths =  0, number of infected = 3830\n",
      "2020-07-29 08:33:23,517 - june.simulator - INFO - Date = 2020-03-22 00:00:00, number of deaths =  0, number of infected = 3962\n",
      "2020-07-29 08:33:24,952 - june.simulator - INFO - Date = 2020-03-22 04:00:00, number of deaths =  0, number of infected = 4018\n",
      "2020-07-29 08:33:26,508 - june.simulator - INFO - Date = 2020-03-22 08:00:00, number of deaths =  0, number of infected = 4103\n",
      "2020-07-29 08:33:27,767 - june.simulator - INFO - Date = 2020-03-22 12:00:00, number of deaths =  0, number of infected = 4158\n",
      "2020-07-29 08:33:29,030 - june.simulator - INFO - Date = 2020-03-23 00:00:00, number of deaths =  1, number of infected = 4266\n",
      "2020-07-29 08:33:30,201 - june.simulator - INFO - Date = 2020-03-23 01:00:00, number of deaths =  1, number of infected = 4286\n",
      "2020-07-29 08:33:32,200 - june.simulator - INFO - Date = 2020-03-23 09:00:00, number of deaths =  1, number of infected = 4436\n",
      "2020-07-29 08:33:33,352 - june.simulator - INFO - Date = 2020-03-23 10:00:00, number of deaths =  1, number of infected = 4459\n",
      "2020-07-29 08:33:34,341 - june.simulator - INFO - Date = 2020-03-23 13:00:00, number of deaths =  1, number of infected = 4503\n",
      "2020-07-29 08:33:35,608 - june.simulator - INFO - Date = 2020-03-24 00:00:00, number of deaths =  1, number of infected = 4616\n",
      "2020-07-29 08:33:36,878 - june.simulator - INFO - Date = 2020-03-24 01:00:00, number of deaths =  1, number of infected = 4642\n",
      "2020-07-29 08:33:38,573 - june.simulator - INFO - Date = 2020-03-24 09:00:00, number of deaths =  1, number of infected = 4803\n",
      "2020-07-29 08:33:39,685 - june.simulator - INFO - Date = 2020-03-24 10:00:00, number of deaths =  1, number of infected = 4823\n",
      "2020-07-29 08:33:40,701 - june.simulator - INFO - Date = 2020-03-24 13:00:00, number of deaths =  1, number of infected = 4882\n",
      "2020-07-29 08:33:41,991 - june.simulator - INFO - Date = 2020-03-25 00:00:00, number of deaths =  1, number of infected = 5000\n",
      "2020-07-29 08:33:43,166 - june.simulator - INFO - Date = 2020-03-25 01:00:00, number of deaths =  1, number of infected = 5023\n",
      "2020-07-29 08:33:45,305 - june.simulator - INFO - Date = 2020-03-25 09:00:00, number of deaths =  1, number of infected = 5193\n",
      "2020-07-29 08:33:46,396 - june.simulator - INFO - Date = 2020-03-25 10:00:00, number of deaths =  1, number of infected = 5212\n",
      "2020-07-29 08:33:47,518 - june.simulator - INFO - Date = 2020-03-25 13:00:00, number of deaths =  1, number of infected = 5286\n",
      "2020-07-29 08:33:48,896 - june.simulator - INFO - Date = 2020-03-26 00:00:00, number of deaths =  2, number of infected = 5420\n",
      "2020-07-29 08:33:50,216 - june.simulator - INFO - Date = 2020-03-26 01:00:00, number of deaths =  2, number of infected = 5443\n",
      "2020-07-29 08:33:51,636 - june.simulator - INFO - Date = 2020-03-26 09:00:00, number of deaths =  2, number of infected = 5602\n",
      "2020-07-29 08:33:52,772 - june.simulator - INFO - Date = 2020-03-26 10:00:00, number of deaths =  2, number of infected = 5631\n",
      "2020-07-29 08:33:53,807 - june.simulator - INFO - Date = 2020-03-26 13:00:00, number of deaths =  3, number of infected = 5680\n",
      "2020-07-29 08:33:55,171 - june.simulator - INFO - Date = 2020-03-27 00:00:00, number of deaths =  3, number of infected = 5795\n",
      "2020-07-29 08:33:56,301 - june.simulator - INFO - Date = 2020-03-27 01:00:00, number of deaths =  3, number of infected = 5807\n",
      "2020-07-29 08:33:58,119 - june.simulator - INFO - Date = 2020-03-27 09:00:00, number of deaths =  3, number of infected = 5975\n",
      "2020-07-29 08:33:59,199 - june.simulator - INFO - Date = 2020-03-27 10:00:00, number of deaths =  4, number of infected = 5991\n",
      "2020-07-29 08:34:00,176 - june.simulator - INFO - Date = 2020-03-27 13:00:00, number of deaths =  4, number of infected = 6025\n",
      "2020-07-29 08:34:01,655 - june.simulator - INFO - Date = 2020-03-28 00:00:00, number of deaths =  4, number of infected = 6133\n",
      "2020-07-29 08:34:02,868 - june.simulator - INFO - Date = 2020-03-28 04:00:00, number of deaths =  4, number of infected = 6188\n",
      "2020-07-29 08:34:04,205 - june.simulator - INFO - Date = 2020-03-28 08:00:00, number of deaths =  4, number of infected = 6257\n",
      "2020-07-29 08:34:05,242 - june.simulator - INFO - Date = 2020-03-28 12:00:00, number of deaths =  4, number of infected = 6315\n",
      "2020-07-29 08:34:07,189 - june.simulator - INFO - Date = 2020-03-29 00:00:00, number of deaths =  4, number of infected = 6467\n",
      "2020-07-29 08:34:08,541 - june.simulator - INFO - Date = 2020-03-29 04:00:00, number of deaths =  5, number of infected = 6543\n",
      "2020-07-29 08:34:09,852 - june.simulator - INFO - Date = 2020-03-29 08:00:00, number of deaths =  5, number of infected = 6615\n",
      "2020-07-29 08:34:10,991 - june.simulator - INFO - Date = 2020-03-29 12:00:00, number of deaths =  5, number of infected = 6685\n",
      "2020-07-29 08:34:12,388 - june.simulator - INFO - Date = 2020-03-30 00:00:00, number of deaths =  7, number of infected = 6816\n",
      "2020-07-29 08:34:13,792 - june.simulator - INFO - Date = 2020-03-30 01:00:00, number of deaths =  7, number of infected = 6843\n",
      "2020-07-29 08:34:15,412 - june.simulator - INFO - Date = 2020-03-30 09:00:00, number of deaths =  7, number of infected = 7015\n",
      "2020-07-29 08:34:16,521 - june.simulator - INFO - Date = 2020-03-30 10:00:00, number of deaths =  7, number of infected = 7025\n",
      "2020-07-29 08:34:17,578 - june.simulator - INFO - Date = 2020-03-30 13:00:00, number of deaths =  7, number of infected = 7064\n",
      "2020-07-29 08:34:19,111 - june.simulator - INFO - Date = 2020-03-31 00:00:00, number of deaths =  9, number of infected = 7184\n",
      "2020-07-29 08:34:20,316 - june.simulator - INFO - Date = 2020-03-31 01:00:00, number of deaths =  9, number of infected = 7200\n",
      "2020-07-29 08:34:22,156 - june.simulator - INFO - Date = 2020-03-31 09:00:00, number of deaths =  9, number of infected = 7373\n",
      "2020-07-29 08:34:23,321 - june.simulator - INFO - Date = 2020-03-31 10:00:00, number of deaths =  9, number of infected = 7392\n",
      "2020-07-29 08:34:24,435 - june.simulator - INFO - Date = 2020-03-31 13:00:00, number of deaths =  10, number of infected = 7434\n",
      "2020-07-29 08:34:25,859 - june.simulator - INFO - Date = 2020-04-01 00:00:00, number of deaths =  10, number of infected = 7531\n"
     ]
    }
   ],
   "source": [
    "%%time\n",
    "simulator.run()"
   ]
  },
  {
   "cell_type": "markdown",
   "metadata": {},
   "source": [
    "While the simulation runs (and afterwards) we can launch the visualization webpage by running\n",
    "```python june/visualizer.py path/to/results``` "
   ]
  },
  {
   "cell_type": "markdown",
   "metadata": {},
   "source": [
    "# Getting the results"
   ]
  },
  {
   "cell_type": "markdown",
   "metadata": {},
   "source": [
    "All results are stored in a json file specified in the ``save_path`` variable in the config file. We can also access it from ``world.logger`` directly."
   ]
  },
  {
   "cell_type": "code",
   "execution_count": null,
   "metadata": {},
   "outputs": [],
   "source": [
    "import pandas as pd"
   ]
  },
  {
   "cell_type": "code",
   "execution_count": null,
   "metadata": {},
   "outputs": [],
   "source": [
    "read = ReadLogger()"
   ]
  },
  {
   "cell_type": "markdown",
   "metadata": {},
   "source": [
    "## Hospital data and how it changed over time"
   ]
  },
  {
   "cell_type": "code",
   "execution_count": null,
   "metadata": {},
   "outputs": [],
   "source": [
    "hospitals_df = read.load_hospital_capacity()"
   ]
  },
  {
   "cell_type": "code",
   "execution_count": null,
   "metadata": {},
   "outputs": [],
   "source": [
    "hospitals_df.head(3)"
   ]
  },
  {
   "cell_type": "code",
   "execution_count": null,
   "metadata": {},
   "outputs": [],
   "source": [
    "hospitals_characteristics_df = read.load_hospital_characteristics()"
   ]
  },
  {
   "cell_type": "code",
   "execution_count": null,
   "metadata": {},
   "outputs": [],
   "source": [
    "hospitals_characteristics_df"
   ]
  },
  {
   "cell_type": "markdown",
   "metadata": {},
   "source": [
    "## where did infections happen?"
   ]
  },
  {
   "cell_type": "code",
   "execution_count": null,
   "metadata": {},
   "outputs": [],
   "source": [
    "loc_df = read.get_locations_infections()"
   ]
  },
  {
   "cell_type": "code",
   "execution_count": null,
   "metadata": {},
   "outputs": [],
   "source": [
    "locations_per_day = read.locations_df.groupby(pd.Grouper(freq='D')).sum()"
   ]
  },
  {
   "cell_type": "code",
   "execution_count": null,
   "metadata": {},
   "outputs": [],
   "source": [
    "all_infection_places = set(locations_per_day.location.sum())"
   ]
  },
  {
   "cell_type": "code",
   "execution_count": null,
   "metadata": {},
   "outputs": [],
   "source": [
    "def n_infections(row, infection_place):\n",
    "    return sum([row.counts[i] for i, x in enumerate(row.location) if x == infection_place])\n"
   ]
  },
  {
   "cell_type": "code",
   "execution_count": null,
   "metadata": {},
   "outputs": [],
   "source": [
    "for infection_place in all_infection_places:\n",
    "    locations_per_day[str(infection_place)] = locations_per_day.apply(\n",
    "        lambda x: n_infections(x, infection_place),\n",
    "        axis=1\n",
    "    )"
   ]
  },
  {
   "cell_type": "code",
   "execution_count": null,
   "metadata": {},
   "outputs": [],
   "source": [
    "locations_per_day = locations_per_day.drop(columns=['location',\n",
    "                                                    'counts'])"
   ]
  },
  {
   "cell_type": "code",
   "execution_count": null,
   "metadata": {},
   "outputs": [],
   "source": [
    "locations_per_day = locations_per_day.div(\n",
    "    locations_per_day.sum(axis=1), axis=0\n",
    ")\n"
   ]
  },
  {
   "cell_type": "code",
   "execution_count": null,
   "metadata": {},
   "outputs": [],
   "source": [
    "locations_per_day.plot.area( alpha=0.5)\n",
    "plt.legend(bbox_to_anchor=(1,1))\n",
    "plt.ylabel('Percent of infections')"
   ]
  },
  {
   "cell_type": "code",
   "execution_count": null,
   "metadata": {},
   "outputs": [],
   "source": [
    "from matplotlib import cm\n",
    "cmap = cm.get_cmap('Spectral') # Colour map (there are many others)\n",
    "\n",
    "locations_per_day.plot(figsize=(30,8), logy=True, ylim=(1e-3, 1), cmap=cmap)"
   ]
  },
  {
   "cell_type": "code",
   "execution_count": null,
   "metadata": {},
   "outputs": [],
   "source": [
    "import matplotlib.ticker as mtick\n",
    "\n",
    "ax = loc_df['percentage_infections'].sort_values().plot.bar()\n",
    "ax.yaxis.set_major_formatter(mtick.PercentFormatter())\n",
    "plt.ylabel('Percentage of infections at location')\n",
    "plt.xlabel('location')\n",
    "#plt.yscale('log')"
   ]
  },
  {
   "cell_type": "markdown",
   "metadata": {},
   "source": [
    "## rate of infection"
   ]
  },
  {
   "cell_type": "code",
   "execution_count": null,
   "metadata": {},
   "outputs": [],
   "source": [
    "r_df = read.get_r()"
   ]
  },
  {
   "cell_type": "code",
   "execution_count": null,
   "metadata": {},
   "outputs": [],
   "source": [
    "from june.policy import SocialDistancing\n",
    "r_df.plot()\n",
    "colors = [\"yellow\", \"orange\"]\n",
    "for policy in policies.policies:\n",
    "    if isinstance(policy, SocialDistancing):\n",
    "        plt.axvspan(policy.start_time, \n",
    "                policy.end_time,\n",
    "                facecolor=colors.pop(), alpha=0.2)\n",
    "plt.axhline(y=1, linestyle='dashed', color='gray')\n",
    "plt.xlabel('Date')\n",
    "plt.yscale('log')\n",
    "plt.ylabel('R')"
   ]
  },
  {
   "cell_type": "markdown",
   "metadata": {},
   "source": [
    "## World infection curves, and by super area"
   ]
  },
  {
   "cell_type": "code",
   "execution_count": null,
   "metadata": {},
   "outputs": [],
   "source": [
    "world_df = read.world_summary()"
   ]
  },
  {
   "cell_type": "code",
   "execution_count": null,
   "metadata": {},
   "outputs": [],
   "source": [
    "#import matplotlib.pyplot as plt\n",
    " \n",
    "#plt.style.use(['science','notebook'])\n",
    "#plt.style.reload_library()"
   ]
  },
  {
   "cell_type": "code",
   "execution_count": null,
   "metadata": {},
   "outputs": [],
   "source": [
    "import matplotlib as mpl\n",
    "mpl.rcParams['figure.dpi'] = 50"
   ]
  },
  {
   "cell_type": "code",
   "execution_count": null,
   "metadata": {},
   "outputs": [],
   "source": [
    "fig, ax = plt.subplots()\n",
    "world_df['new_infections'].resample('D').sum().plot(ax=ax)\n",
    "colors = [\"yellow\", \"orange\"]\n",
    "for policy in policies.policies:\n",
    "    if isinstance(policy, SocialDistancing):\n",
    "        plt.axvspan(policy.start_time, \n",
    "                policy.end_time,\n",
    "                facecolor=colors.pop(), alpha=0.2)\n",
    "plt.axvline('2020-03-23',\n",
    "           linestyle='dashed',\n",
    "           color='indianred')\n",
    "ax.set_ylabel('# new infections')\n",
    "ax.set_xlabel('Date')"
   ]
  },
  {
   "cell_type": "code",
   "execution_count": null,
   "metadata": {},
   "outputs": [],
   "source": [
    "fig, ax = plt.subplots()\n",
    "(world_df['hospital_admissions']+world_df['intensive_care_admissions']).resample('D').sum().plot(ax=ax)\n",
    "colors = [\"yellow\", \"orange\"]\n",
    "for policy in policies.policies:\n",
    "    if isinstance(policy, SocialDistancing):\n",
    "        plt.axvspan(policy.start_time, \n",
    "                policy.end_time,\n",
    "                facecolor=colors.pop(), alpha=0.2)\n",
    "plt.axvline('2020-04-01',\n",
    "           linestyle='dashed',\n",
    "           color='indianred')\n",
    "ax.set_ylabel('# hospital admissions')\n",
    "ax.set_xlabel('Date')"
   ]
  },
  {
   "cell_type": "code",
   "execution_count": null,
   "metadata": {},
   "outputs": [],
   "source": [
    "fig, ax = plt.subplots()\n",
    "world_df['infected'].plot(ax=ax)\n",
    "colors = [\"yellow\", \"orange\"]\n",
    "for policy in policies.policies:\n",
    "    if isinstance(policy, SocialDistancing):\n",
    "        plt.axvspan(policy.start_time, \n",
    "                policy.end_time,\n",
    "                facecolor=colors.pop(), alpha=0.2)\n",
    "ax.set_ylabel('# Infected')\n",
    "ax.set_xlabel('Date')"
   ]
  },
  {
   "cell_type": "code",
   "execution_count": null,
   "metadata": {},
   "outputs": [],
   "source": [
    "world_df.plot()\n",
    "colors = [\"yellow\", \"orange\"]\n",
    "for policy in policies.policies:\n",
    "    if isinstance(policy, SocialDistancing):\n",
    "        plt.axvspan(policy.start_time, \n",
    "                policy.end_time,\n",
    "                facecolor=colors.pop(), alpha=0.2)\n",
    "plt.legend(bbox_to_anchor=(1,1))\n"
   ]
  },
  {
   "cell_type": "code",
   "execution_count": null,
   "metadata": {},
   "outputs": [],
   "source": [
    "area_df = read.super_area_summary()"
   ]
  },
  {
   "cell_type": "code",
   "execution_count": null,
   "metadata": {},
   "outputs": [],
   "source": [
    "area_df[area_df.super_area == \"E02003282\"].plot()\n",
    "plt.legend(bbox_to_anchor=(1,1))\n",
    "\n"
   ]
  },
  {
   "cell_type": "markdown",
   "metadata": {},
   "source": [
    "## World infection curves per age group"
   ]
  },
  {
   "cell_type": "code",
   "execution_count": null,
   "metadata": {},
   "outputs": [],
   "source": [
    "ages_df = read.age_summary([0,10,20,30,40,\n",
    "                  50,60,70,80,90,100])"
   ]
  },
  {
   "cell_type": "code",
   "execution_count": null,
   "metadata": {},
   "outputs": [],
   "source": [
    "for name, group in ages_df.groupby('age_range'):\n",
    "    group['infected'].plot(label=name)\n",
    "colors = [\"yellow\", \"orange\"]\n",
    "for policy in policies.policies:\n",
    "    if isinstance(policy, SocialDistancing):\n",
    "        plt.axvspan(policy.start_time, \n",
    "                policy.end_time,\n",
    "                facecolor=colors.pop(), alpha=0.2)\n",
    "plt.legend(bbox_to_anchor=(1,1))\n"
   ]
  },
  {
   "cell_type": "code",
   "execution_count": null,
   "metadata": {},
   "outputs": [],
   "source": [
    "for name, group in ages_df.groupby('age_range'):\n",
    "    group['dead'].cumsum().plot(label=name)\n",
    "plt.legend()"
   ]
  },
  {
   "cell_type": "code",
   "execution_count": null,
   "metadata": {},
   "outputs": [],
   "source": [
    "for name, group in ages_df.groupby('age_range'):\n",
    "    group['susceptible'].plot(label=name)\n",
    "plt.legend()"
   ]
  },
  {
   "cell_type": "code",
   "execution_count": null,
   "metadata": {},
   "outputs": [],
   "source": [
    "for name, group in ages_df.groupby('age_range'):\n",
    "    group['hospital_admissions'].cumsum().plot(label=name)\n",
    "plt.legend()"
   ]
  },
  {
   "cell_type": "code",
   "execution_count": null,
   "metadata": {},
   "outputs": [],
   "source": [
    "for name, group in ages_df.groupby('age_range'):\n",
    "    group['intensive_care_admissions'].cumsum().plot(label=name)\n",
    "plt.legend()"
   ]
  },
  {
   "cell_type": "markdown",
   "metadata": {},
   "source": [
    "## Draw some of the symptoms trajectories"
   ]
  },
  {
   "cell_type": "code",
   "execution_count": null,
   "metadata": {},
   "outputs": [],
   "source": [
    "random_trajectories = read.draw_symptom_trajectories(window_length=600,\n",
    "                                        n_people=10)"
   ]
  },
  {
   "cell_type": "code",
   "execution_count": null,
   "metadata": {},
   "outputs": [],
   "source": [
    "from june.infection import SymptomTag"
   ]
  },
  {
   "cell_type": "code",
   "execution_count": null,
   "metadata": {},
   "outputs": [],
   "source": [
    "symptoms_values = [tag.value for tag in SymptomTag]\n",
    "symptoms_names = [tag.name for tag in SymptomTag]\n"
   ]
  },
  {
   "cell_type": "code",
   "execution_count": null,
   "metadata": {},
   "outputs": [],
   "source": [
    "for df_person in random_trajectories:\n",
    "    df_person['symptoms'].plot()\n",
    "plt.ylabel('Symptoms Trajectory')\n",
    "_ = plt.yticks(symptoms_values, symptoms_names)\n",
    "plt.xlabel('Date')"
   ]
  },
  {
   "cell_type": "code",
   "execution_count": null,
   "metadata": {},
   "outputs": [],
   "source": [
    "for df_person in random_trajectories:\n",
    "    df_person['n_secondary_infections'].plot()\n",
    "plt.ylabel('Number of secondary infections')\n",
    "\n",
    "plt.xlabel('Date')"
   ]
  },
  {
   "cell_type": "code",
   "execution_count": null,
   "metadata": {},
   "outputs": [],
   "source": []
  }
 ],
 "metadata": {
  "kernelspec": {
   "display_name": "Python 3",
   "language": "python",
   "name": "python3"
  },
  "language_info": {
   "codemirror_mode": {
    "name": "ipython",
    "version": 3
   },
   "file_extension": ".py",
   "mimetype": "text/x-python",
   "name": "python",
   "nbconvert_exporter": "python",
   "pygments_lexer": "ipython3",
   "version": "3.8.3"
  }
 },
 "nbformat": 4,
 "nbformat_minor": 4
}
