{
 "cells": [
  {
   "cell_type": "code",
   "execution_count": 1,
   "metadata": {},
   "outputs": [],
   "source": [
    "%load_ext autoreload\n",
    "%autoreload 2"
   ]
  },
  {
   "cell_type": "code",
   "execution_count": 2,
   "metadata": {},
   "outputs": [],
   "source": [
    "import warnings\n",
    "warnings.filterwarnings('ignore')"
   ]
  },
  {
   "cell_type": "code",
   "execution_count": 3,
   "metadata": {},
   "outputs": [],
   "source": [
    "import numpy as np\n",
    "import time\n",
    "from datetime import datetime\n",
    "import matplotlib.pyplot as plt\n",
    "import seaborn as sns\n",
    "sns.set_context('notebook')"
   ]
  },
  {
   "cell_type": "code",
   "execution_count": 4,
   "metadata": {},
   "outputs": [
    {
     "name": "stderr",
     "output_type": "stream",
     "text": [
      "No --data argument given - defaulting to:\n",
      "/home/florpi/JUNE/data\n",
      "No --configs argument given - defaulting to:\n",
      "/home/florpi/JUNE/configs\n"
     ]
    }
   ],
   "source": [
    "from june import World \n",
    "from june.demography.geography import Geography\n",
    "from june.demography import Demography\n",
    "from june.interaction import ContactAveraging\n",
    "from june.infection import Infection\n",
    "from june.infection.symptoms import SymptomsConstant\n",
    "from june.infection.transmission import TransmissionConstant\n",
    "from june.groups import Hospitals, Schools, Companies, Households, CareHomes, Cemeteries\n",
    "from june.groups.leisure import Cinemas, Pubs, Groceries\n",
    "from june.simulator import Simulator\n",
    "from june.seed import Seed\n",
    "from june.policy import Policy, Policies\n",
    "from june import paths\n",
    "from june.logger.read_logger import ReadLogger\n",
    "from june.infection.infection import InfectionSelector\n",
    "from june.world import generate_world_from_hdf5"
   ]
  },
  {
   "cell_type": "markdown",
   "metadata": {},
   "source": [
    "# Initialize world\n",
    "\n",
    "To initialize a certain world, we need to add the different components we want to have in it. First we specify what super areas (msoa) we want to create. We have included these ones, because they are known to contain hospitals, schools, care homes, and companies.\n",
    "\n",
    "After creating the geography, we create the different components the worlds need to have such as care homes, companies ..."
   ]
  },
  {
   "cell_type": "code",
   "execution_count": 5,
   "metadata": {},
   "outputs": [
    {
     "name": "stdout",
     "output_type": "stream",
     "text": [
      "2020-06-09 12:24:02,454 - june.demography.geography - INFO - There are 43 areas and 2 super_areas in the world.\n",
      "2020-06-09 12:24:02,468 - june.groups.hospital - INFO - There are 1 hospitals in this geography.\n",
      "2020-06-09 12:24:02,548 - june.groups.school - INFO - There are 5 schools in this geography.\n",
      "2020-06-09 12:24:02,568 - june.groups.school - INFO - No school for the age 0 in this world.\n",
      "2020-06-09 12:24:02,582 - june.groups.school - INFO - No school for the age 1 in this world.\n",
      "2020-06-09 12:24:02,586 - june.groups.school - INFO - No school for the age 2 in this world.\n",
      "2020-06-09 12:24:02,655 - june.groups.school - INFO - No school for the age 19 in this world.\n",
      "2020-06-09 12:24:02,937 - june.groups.carehome - INFO - There are 43 care_homes in this geography.\n",
      "populating the world's geography with the specified demography...\n",
      "2020-06-09 12:24:09,775 - numexpr.utils - INFO - NumExpr defaulting to 4 threads.\n",
      "2020-06-09 12:24:11,446 - june.distributors.worker_distributor - INFO - There are 0 who had to be told to stay real\n",
      "CPU times: user 10.1 s, sys: 669 ms, total: 10.8 s\n",
      "Wall time: 11.4 s\n"
     ]
    }
   ],
   "source": [
    "%%time\n",
    "geography = Geography.from_file({\n",
    "                                \"super_area\":  [\"E02002512\", \"E02001697\"]\n",
    "                                          #[\"E02001720\",\n",
    "                                          #\"E00088544\", \n",
    "                                          #\"E02002560\", \n",
    "                                          #\"E02002559\"]\n",
    "                                }\n",
    "                                )\n",
    "\n",
    "geography.hospitals = Hospitals.for_geography(geography)\n",
    "geography.schools = Schools.for_geography(geography)\n",
    "geography.companies = Companies.for_geography(geography)\n",
    "geography.care_homes = CareHomes.for_geography(geography)\n",
    "demography = Demography.for_geography(geography)\n",
    "world = World(geography, demography, include_households=True)"
   ]
  },
  {
   "cell_type": "markdown",
   "metadata": {},
   "source": [
    "### If it took a long time to run the previous command, it might be a good idea to save the world to reuse it later."
   ]
  },
  {
   "cell_type": "code",
   "execution_count": 6,
   "metadata": {},
   "outputs": [],
   "source": [
    "#world.to_hdf5(\"world.hdf5\")"
   ]
  },
  {
   "cell_type": "markdown",
   "metadata": {},
   "source": [
    "If we would like to load the world we saved, we just do"
   ]
  },
  {
   "cell_type": "code",
   "execution_count": 7,
   "metadata": {},
   "outputs": [],
   "source": [
    "#world = generate_world_from_hdf5(\"world.hdf5\")"
   ]
  },
  {
   "cell_type": "markdown",
   "metadata": {},
   "source": [
    "you have now a beautiful pre-pandemic world. "
   ]
  },
  {
   "cell_type": "markdown",
   "metadata": {},
   "source": [
    "## Commute, travel and leisure"
   ]
  },
  {
   "cell_type": "markdown",
   "metadata": {},
   "source": [
    "We can add cinemas, pubs, groceries, etc. as well as commute in major cities with"
   ]
  },
  {
   "cell_type": "code",
   "execution_count": 8,
   "metadata": {},
   "outputs": [],
   "source": [
    "# leisure\n",
    "world.cinemas = Cinemas.for_geography(geography)\n",
    "world.pubs = Pubs.for_geography(geography)\n",
    "world.groceries = Groceries.for_super_areas(world.super_areas,\n",
    "                                            venues_per_capita=1/500)"
   ]
  },
  {
   "cell_type": "code",
   "execution_count": 9,
   "metadata": {},
   "outputs": [],
   "source": [
    "# commute\n",
    "world.initialise_commuting()"
   ]
  },
  {
   "cell_type": "markdown",
   "metadata": {},
   "source": [
    "We are also going to need some cemeteries...geography.cemeteries = Cemeteries()\n"
   ]
  },
  {
   "cell_type": "code",
   "execution_count": 10,
   "metadata": {},
   "outputs": [],
   "source": [
    "world.cemeteries = Cemeteries()"
   ]
  },
  {
   "cell_type": "markdown",
   "metadata": {},
   "source": [
    "# Adding the infection"
   ]
  },
  {
   "cell_type": "markdown",
   "metadata": {},
   "source": [
    "Now, you can play around with different models of infections. The building blocks for an infection are: Transmission and Symptoms. For now, only SymptomsConstant and TransmissionConstant are in a state to be used."
   ]
  },
  {
   "cell_type": "code",
   "execution_count": 11,
   "metadata": {},
   "outputs": [],
   "source": [
    "selector = InfectionSelector.from_file()"
   ]
  },
  {
   "cell_type": "code",
   "execution_count": 12,
   "metadata": {},
   "outputs": [
    {
     "data": {
      "text/plain": [
       "<june.infection.infection.InfectionSelector at 0x7f3fda4556a0>"
      ]
     },
     "execution_count": 12,
     "metadata": {},
     "output_type": "execute_result"
    }
   ],
   "source": [
    "selector"
   ]
  },
  {
   "cell_type": "markdown",
   "metadata": {},
   "source": [
    "# Adding the interaction"
   ]
  },
  {
   "cell_type": "code",
   "execution_count": 13,
   "metadata": {},
   "outputs": [],
   "source": [
    "interaction = ContactAveraging.from_file(selector=selector)\n",
    "#interaction = DefaultInteraction.from_file(selector=selector)"
   ]
  },
  {
   "cell_type": "markdown",
   "metadata": {},
   "source": [
    "Beta are the intensities of the interaction taking place at the different groups"
   ]
  },
  {
   "cell_type": "code",
   "execution_count": 14,
   "metadata": {},
   "outputs": [
    {
     "data": {
      "text/plain": [
       "{'box': 1,\n",
       " 'pub': 0.1,\n",
       " 'grocery': 0.1,\n",
       " 'cinema': 0.1,\n",
       " 'commute_unit': 0.5,\n",
       " 'commute_city_unit': 0.5,\n",
       " 'hospital': 0.5,\n",
       " 'care_home': 0.5,\n",
       " 'company': 0.5,\n",
       " 'school': 0.5,\n",
       " 'household': 0.5}"
      ]
     },
     "execution_count": 14,
     "metadata": {},
     "output_type": "execute_result"
    }
   ],
   "source": [
    "interaction.beta"
   ]
  },
  {
   "cell_type": "markdown",
   "metadata": {},
   "source": [
    "to modify these, simply do"
   ]
  },
  {
   "cell_type": "code",
   "execution_count": 15,
   "metadata": {},
   "outputs": [],
   "source": [
    "interaction.beta['household'] *= 2"
   ]
  },
  {
   "cell_type": "code",
   "execution_count": 16,
   "metadata": {},
   "outputs": [
    {
     "data": {
      "text/plain": [
       "{'box': 1,\n",
       " 'pub': 0.1,\n",
       " 'grocery': 0.1,\n",
       " 'cinema': 0.1,\n",
       " 'commute_unit': 0.5,\n",
       " 'commute_city_unit': 0.5,\n",
       " 'hospital': 0.5,\n",
       " 'care_home': 0.5,\n",
       " 'company': 0.5,\n",
       " 'school': 0.5,\n",
       " 'household': 1.0}"
      ]
     },
     "execution_count": 16,
     "metadata": {},
     "output_type": "execute_result"
    }
   ],
   "source": [
    "interaction.beta"
   ]
  },
  {
   "cell_type": "markdown",
   "metadata": {},
   "source": [
    "moreover this interaction module uses contact matrices, that are different for different groups. These contact matrices shouldnt be modified for now. However they are a combination of conversational contact matrices, and physical contact matrices (see the BBC pandemic paper, from where these matrices are extracted https://www.medrxiv.org/content/10.1101/2020.02.16.20023754v2)\n",
    "\n",
    "There is a parameter, ``alpha`` ($\\alpha$), that combines these two matrices in the following way,\n",
    "\n",
    "\n",
    "$\\beta M \\left(1 + (\\alpha -1) \\right) P$\n",
    "\n",
    "where $\\beta$ is the intensity of the interaction, and $P$ the physical contact matrix. A larger $\\alpha$ produces more physical contacts. It is an overall number, non dependent of the particular group.\n"
   ]
  },
  {
   "cell_type": "code",
   "execution_count": 17,
   "metadata": {},
   "outputs": [
    {
     "data": {
      "text/plain": [
       "2.0"
      ]
     },
     "execution_count": 17,
     "metadata": {},
     "output_type": "execute_result"
    }
   ],
   "source": [
    "interaction.alpha_physical"
   ]
  },
  {
   "cell_type": "code",
   "execution_count": 18,
   "metadata": {},
   "outputs": [],
   "source": [
    "interaction.alpha_physical /= 2"
   ]
  },
  {
   "cell_type": "code",
   "execution_count": 19,
   "metadata": {},
   "outputs": [
    {
     "data": {
      "text/plain": [
       "1.0"
      ]
     },
     "execution_count": 19,
     "metadata": {},
     "output_type": "execute_result"
    }
   ],
   "source": [
    "interaction.alpha_physical"
   ]
  },
  {
   "cell_type": "markdown",
   "metadata": {},
   "source": [
    "# Seed the disease"
   ]
  },
  {
   "cell_type": "markdown",
   "metadata": {},
   "source": [
    "There are two options implemented in the seed at the moment, either you specify the number of cases and these are then homogeneously distributed by population to the different areas, or you use UK data on cases per region. For now use the first case."
   ]
  },
  {
   "cell_type": "code",
   "execution_count": 20,
   "metadata": {},
   "outputs": [],
   "source": [
    "seed = Seed(world.super_areas, selector,)"
   ]
  },
  {
   "cell_type": "code",
   "execution_count": 21,
   "metadata": {},
   "outputs": [],
   "source": [
    "n_cases = 50\n",
    "seed.unleash_virus(n_cases) # play around with the initial number of cases"
   ]
  },
  {
   "cell_type": "markdown",
   "metadata": {},
   "source": [
    "# Set policies"
   ]
  },
  {
   "cell_type": "code",
   "execution_count": 22,
   "metadata": {},
   "outputs": [],
   "source": [
    "social_distance = Policy(policy=\"social_distance\", start_time=datetime(2020, 3, 16), end_time=datetime(2020, 3, 20))"
   ]
  },
  {
   "cell_type": "code",
   "execution_count": 23,
   "metadata": {},
   "outputs": [],
   "source": [
    "policies = Policies.from_file([social_distance])"
   ]
  },
  {
   "cell_type": "code",
   "execution_count": 24,
   "metadata": {},
   "outputs": [
    {
     "data": {
      "text/plain": [
       "{'alpha factor': 1.0,\n",
       " 'beta factor': {'box': 0.5,\n",
       "  'pub': 0.5,\n",
       "  'grocery': 0.5,\n",
       "  'cinema': 0.5,\n",
       "  'commute_unit': 0.5,\n",
       "  'commute_city_unit': 0.5,\n",
       "  'hospital': 0.5,\n",
       "  'care_home': 0.5,\n",
       "  'company': 0.5,\n",
       "  'school': 0.5,\n",
       "  'household': 1.0}}"
      ]
     },
     "execution_count": 24,
     "metadata": {},
     "output_type": "execute_result"
    }
   ],
   "source": [
    "policies.config['social distancing']"
   ]
  },
  {
   "cell_type": "markdown",
   "metadata": {},
   "source": [
    "# Run the simulation"
   ]
  },
  {
   "cell_type": "markdown",
   "metadata": {},
   "source": [
    "Since the timer configuration is a bit cumbersome, it is read from the config file at ``configs/config_example.yaml``"
   ]
  },
  {
   "cell_type": "code",
   "execution_count": 25,
   "metadata": {},
   "outputs": [],
   "source": [
    "CONFIG_PATH = \"../configs/config_example.yaml\"\n",
    "\n",
    "simulator = Simulator.from_file(\n",
    "     world, interaction, selector, \n",
    "    config_filename = CONFIG_PATH,\n",
    "    policies = policies\n",
    ")"
   ]
  },
  {
   "cell_type": "code",
   "execution_count": 26,
   "metadata": {},
   "outputs": [],
   "source": [
    "simulator.timer.reset()"
   ]
  },
  {
   "cell_type": "code",
   "execution_count": 27,
   "metadata": {
    "scrolled": true
   },
   "outputs": [
    {
     "name": "stdout",
     "output_type": "stream",
     "text": [
      "2020-06-09 12:24:35,096 - june.simulator - INFO - Starting group_dynamics for 70 days at day 0\n",
      "2020-06-09 12:24:35,097 - june.simulator - INFO - starting the loop ..., at 0 days, to run for 70 days\n",
      "2020-06-09 12:24:35,195 - june.simulator - INFO - Date = 2020-03-07 12:00:00, number of deaths =  0, number of infected = 50\n",
      "2020-06-09 12:24:37,405 - june.simulator - INFO - Date = 2020-03-08 00:00:00, number of deaths =  0, number of infected = 50\n",
      "2020-06-09 12:24:37,587 - june.simulator - INFO - Date = 2020-03-08 12:00:00, number of deaths =  0, number of infected = 50\n",
      "2020-06-09 12:24:37,803 - june.simulator - INFO - Date = 2020-03-09 00:00:00, number of deaths =  0, number of infected = 50\n",
      "2020-06-09 12:24:37,946 - june.simulator - INFO - Date = 2020-03-09 10:00:00, number of deaths =  0, number of infected = 50\n",
      "2020-06-09 12:24:38,125 - june.simulator - INFO - Date = 2020-03-09 12:00:00, number of deaths =  0, number of infected = 50\n",
      "2020-06-09 12:24:38,307 - june.simulator - INFO - Date = 2020-03-10 00:00:00, number of deaths =  0, number of infected = 50\n",
      "2020-06-09 12:24:38,439 - june.simulator - INFO - Date = 2020-03-10 10:00:00, number of deaths =  0, number of infected = 50\n",
      "2020-06-09 12:24:38,608 - june.simulator - INFO - Date = 2020-03-10 12:00:00, number of deaths =  0, number of infected = 50\n",
      "2020-06-09 12:24:38,793 - june.simulator - INFO - Date = 2020-03-11 00:00:00, number of deaths =  0, number of infected = 50\n",
      "2020-06-09 12:24:38,927 - june.simulator - INFO - Date = 2020-03-11 10:00:00, number of deaths =  0, number of infected = 59\n",
      "2020-06-09 12:24:39,104 - june.simulator - INFO - Date = 2020-03-11 12:00:00, number of deaths =  0, number of infected = 64\n",
      "2020-06-09 12:24:39,281 - june.simulator - INFO - Date = 2020-03-12 00:00:00, number of deaths =  0, number of infected = 86\n",
      "2020-06-09 12:24:39,425 - june.simulator - INFO - Date = 2020-03-12 10:00:00, number of deaths =  0, number of infected = 122\n",
      "2020-06-09 12:24:39,593 - june.simulator - INFO - Date = 2020-03-12 12:00:00, number of deaths =  0, number of infected = 130\n",
      "2020-06-09 12:24:39,761 - june.simulator - INFO - Date = 2020-03-13 00:00:00, number of deaths =  0, number of infected = 155\n",
      "2020-06-09 12:24:39,908 - june.simulator - INFO - Date = 2020-03-13 10:00:00, number of deaths =  0, number of infected = 182\n",
      "2020-06-09 12:24:40,078 - june.simulator - INFO - Date = 2020-03-13 12:00:00, number of deaths =  0, number of infected = 184\n",
      "2020-06-09 12:24:40,621 - june.simulator - INFO - Date = 2020-03-14 00:00:00, number of deaths =  0, number of infected = 192\n",
      "2020-06-09 12:24:40,809 - june.simulator - INFO - Date = 2020-03-14 12:00:00, number of deaths =  0, number of infected = 198\n",
      "2020-06-09 12:24:41,423 - june.simulator - INFO - Date = 2020-03-15 00:00:00, number of deaths =  0, number of infected = 207\n",
      "2020-06-09 12:24:41,570 - june.simulator - INFO - Date = 2020-03-15 12:00:00, number of deaths =  0, number of infected = 217\n",
      "2020-06-09 12:24:41,758 - june.simulator - INFO - Date = 2020-03-16 00:00:00, number of deaths =  0, number of infected = 239\n",
      "2020-06-09 12:24:41,915 - june.simulator - INFO - Date = 2020-03-16 10:00:00, number of deaths =  0, number of infected = 311\n",
      "2020-06-09 12:24:42,087 - june.simulator - INFO - Date = 2020-03-16 12:00:00, number of deaths =  0, number of infected = 318\n",
      "2020-06-09 12:24:42,303 - june.simulator - INFO - Date = 2020-03-17 00:00:00, number of deaths =  0, number of infected = 341\n",
      "2020-06-09 12:24:42,490 - june.simulator - INFO - Date = 2020-03-17 10:00:00, number of deaths =  0, number of infected = 379\n",
      "2020-06-09 12:24:42,726 - june.simulator - INFO - Date = 2020-03-17 12:00:00, number of deaths =  0, number of infected = 381\n",
      "2020-06-09 12:24:42,936 - june.simulator - INFO - Date = 2020-03-18 00:00:00, number of deaths =  0, number of infected = 403\n",
      "2020-06-09 12:24:43,110 - june.simulator - INFO - Date = 2020-03-18 10:00:00, number of deaths =  0, number of infected = 442\n",
      "2020-06-09 12:24:43,314 - june.simulator - INFO - Date = 2020-03-18 12:00:00, number of deaths =  0, number of infected = 445\n",
      "2020-06-09 12:24:43,523 - june.simulator - INFO - Date = 2020-03-19 00:00:00, number of deaths =  0, number of infected = 458\n",
      "2020-06-09 12:24:43,727 - june.simulator - INFO - Date = 2020-03-19 10:00:00, number of deaths =  0, number of infected = 504\n",
      "2020-06-09 12:24:43,910 - june.simulator - INFO - Date = 2020-03-19 12:00:00, number of deaths =  0, number of infected = 512\n",
      "2020-06-09 12:24:44,108 - june.simulator - INFO - Date = 2020-03-20 00:00:00, number of deaths =  0, number of infected = 559\n",
      "2020-06-09 12:24:44,335 - june.simulator - INFO - Date = 2020-03-20 10:00:00, number of deaths =  0, number of infected = 681\n",
      "2020-06-09 12:24:44,526 - june.simulator - INFO - Date = 2020-03-20 12:00:00, number of deaths =  0, number of infected = 693\n",
      "2020-06-09 12:24:45,047 - june.simulator - INFO - Date = 2020-03-21 00:00:00, number of deaths =  0, number of infected = 768\n",
      "2020-06-09 12:24:45,203 - june.simulator - INFO - Date = 2020-03-21 12:00:00, number of deaths =  0, number of infected = 793\n",
      "2020-06-09 12:24:45,558 - june.simulator - INFO - Date = 2020-03-22 00:00:00, number of deaths =  0, number of infected = 862\n",
      "2020-06-09 12:24:45,707 - june.simulator - INFO - Date = 2020-03-22 12:00:00, number of deaths =  0, number of infected = 894\n",
      "2020-06-09 12:24:45,903 - june.simulator - INFO - Date = 2020-03-23 00:00:00, number of deaths =  0, number of infected = 962\n",
      "2020-06-09 12:24:46,132 - june.simulator - INFO - Date = 2020-03-23 10:00:00, number of deaths =  0, number of infected = 1299\n",
      "2020-06-09 12:24:46,352 - june.simulator - INFO - Date = 2020-03-23 12:00:00, number of deaths =  0, number of infected = 1325\n",
      "2020-06-09 12:24:46,594 - june.simulator - INFO - Date = 2020-03-24 00:00:00, number of deaths =  0, number of infected = 1423\n",
      "2020-06-09 12:24:46,826 - june.simulator - INFO - Date = 2020-03-24 10:00:00, number of deaths =  0, number of infected = 1751\n",
      "2020-06-09 12:24:47,095 - june.simulator - INFO - Date = 2020-03-24 12:00:00, number of deaths =  0, number of infected = 1770\n",
      "2020-06-09 12:24:47,313 - june.simulator - INFO - Date = 2020-03-25 00:00:00, number of deaths =  0, number of infected = 1856\n",
      "2020-06-09 12:24:47,571 - june.simulator - INFO - Date = 2020-03-25 10:00:00, number of deaths =  0, number of infected = 2178\n",
      "2020-06-09 12:24:47,805 - june.simulator - INFO - Date = 2020-03-25 12:00:00, number of deaths =  0, number of infected = 2187\n",
      "2020-06-09 12:24:48,031 - june.simulator - INFO - Date = 2020-03-26 00:00:00, number of deaths =  0, number of infected = 2232\n",
      "2020-06-09 12:24:48,341 - june.simulator - INFO - Date = 2020-03-26 10:00:00, number of deaths =  0, number of infected = 2623\n",
      "2020-06-09 12:24:48,537 - june.simulator - INFO - Date = 2020-03-26 12:00:00, number of deaths =  0, number of infected = 2658\n",
      "2020-06-09 12:24:48,780 - june.simulator - INFO - Date = 2020-03-27 00:00:00, number of deaths =  0, number of infected = 2849\n",
      "2020-06-09 12:24:49,084 - june.simulator - INFO - Date = 2020-03-27 10:00:00, number of deaths =  0, number of infected = 3406\n",
      "2020-06-09 12:24:49,292 - june.simulator - INFO - Date = 2020-03-27 12:00:00, number of deaths =  0, number of infected = 3465\n",
      "2020-06-09 12:24:49,693 - june.simulator - INFO - Date = 2020-03-28 00:00:00, number of deaths =  1, number of infected = 3760\n",
      "2020-06-09 12:24:49,870 - june.simulator - INFO - Date = 2020-03-28 12:00:00, number of deaths =  1, number of infected = 3854\n",
      "2020-06-09 12:24:50,321 - june.simulator - INFO - Date = 2020-03-29 00:00:00, number of deaths =  1, number of infected = 4168\n",
      "2020-06-09 12:24:50,535 - june.simulator - INFO - Date = 2020-03-29 12:00:00, number of deaths =  1, number of infected = 4258\n",
      "2020-06-09 12:24:50,862 - june.simulator - INFO - Date = 2020-03-30 00:00:00, number of deaths =  1, number of infected = 4641\n",
      "2020-06-09 12:24:51,178 - june.simulator - INFO - Date = 2020-03-30 10:00:00, number of deaths =  1, number of infected = 5364\n",
      "2020-06-09 12:24:51,391 - june.simulator - INFO - Date = 2020-03-30 12:00:00, number of deaths =  1, number of infected = 5440\n",
      "2020-06-09 12:24:51,729 - june.simulator - INFO - Date = 2020-03-31 00:00:00, number of deaths =  1, number of infected = 5817\n"
     ]
    },
    {
     "name": "stdout",
     "output_type": "stream",
     "text": [
      "2020-06-09 12:24:52,031 - june.simulator - INFO - Date = 2020-03-31 10:00:00, number of deaths =  2, number of infected = 6343\n",
      "2020-06-09 12:24:52,297 - june.simulator - INFO - Date = 2020-03-31 12:00:00, number of deaths =  2, number of infected = 6396\n",
      "2020-06-09 12:24:52,709 - june.simulator - INFO - Date = 2020-04-01 00:00:00, number of deaths =  2, number of infected = 6614\n",
      "2020-06-09 12:24:53,056 - june.simulator - INFO - Date = 2020-04-01 10:00:00, number of deaths =  2, number of infected = 7064\n",
      "2020-06-09 12:24:53,268 - june.simulator - INFO - Date = 2020-04-01 12:00:00, number of deaths =  2, number of infected = 7089\n",
      "2020-06-09 12:24:53,523 - june.simulator - INFO - Date = 2020-04-02 00:00:00, number of deaths =  2, number of infected = 7167\n",
      "2020-06-09 12:24:53,792 - june.simulator - INFO - Date = 2020-04-02 10:00:00, number of deaths =  2, number of infected = 7583\n",
      "2020-06-09 12:24:53,997 - june.simulator - INFO - Date = 2020-04-02 12:00:00, number of deaths =  2, number of infected = 7628\n",
      "2020-06-09 12:24:54,253 - june.simulator - INFO - Date = 2020-04-03 00:00:00, number of deaths =  2, number of infected = 7825\n",
      "2020-06-09 12:24:54,527 - june.simulator - INFO - Date = 2020-04-03 10:00:00, number of deaths =  2, number of infected = 8250\n",
      "2020-06-09 12:24:54,755 - june.simulator - INFO - Date = 2020-04-03 12:00:00, number of deaths =  2, number of infected = 8306\n",
      "2020-06-09 12:24:55,100 - june.simulator - INFO - Date = 2020-04-04 00:00:00, number of deaths =  2, number of infected = 8523\n",
      "2020-06-09 12:24:55,319 - june.simulator - INFO - Date = 2020-04-04 12:00:00, number of deaths =  4, number of infected = 8579\n",
      "2020-06-09 12:24:55,713 - june.simulator - INFO - Date = 2020-04-05 00:00:00, number of deaths =  4, number of infected = 8777\n",
      "2020-06-09 12:24:55,921 - june.simulator - INFO - Date = 2020-04-05 12:00:00, number of deaths =  4, number of infected = 8835\n",
      "2020-06-09 12:24:56,180 - june.simulator - INFO - Date = 2020-04-06 00:00:00, number of deaths =  5, number of infected = 9008\n",
      "2020-06-09 12:24:56,467 - june.simulator - INFO - Date = 2020-04-06 10:00:00, number of deaths =  6, number of infected = 9440\n",
      "2020-06-09 12:24:56,672 - june.simulator - INFO - Date = 2020-04-06 12:00:00, number of deaths =  6, number of infected = 9462\n",
      "2020-06-09 12:24:56,946 - june.simulator - INFO - Date = 2020-04-07 00:00:00, number of deaths =  6, number of infected = 9581\n",
      "2020-06-09 12:24:57,216 - june.simulator - INFO - Date = 2020-04-07 10:00:00, number of deaths =  6, number of infected = 9828\n",
      "2020-06-09 12:24:57,434 - june.simulator - INFO - Date = 2020-04-07 12:00:00, number of deaths =  6, number of infected = 9841\n",
      "2020-06-09 12:24:57,762 - june.simulator - INFO - Date = 2020-04-08 00:00:00, number of deaths =  6, number of infected = 9860\n",
      "2020-06-09 12:24:58,011 - june.simulator - INFO - Date = 2020-04-08 10:00:00, number of deaths =  6, number of infected = 10008\n",
      "2020-06-09 12:24:58,272 - june.simulator - INFO - Date = 2020-04-08 12:00:00, number of deaths =  6, number of infected = 10009\n",
      "2020-06-09 12:24:58,550 - june.simulator - INFO - Date = 2020-04-09 00:00:00, number of deaths =  8, number of infected = 9972\n",
      "2020-06-09 12:24:58,849 - june.simulator - INFO - Date = 2020-04-09 10:00:00, number of deaths =  10, number of infected = 10061\n",
      "2020-06-09 12:24:59,103 - june.simulator - INFO - Date = 2020-04-09 12:00:00, number of deaths =  10, number of infected = 10073\n",
      "2020-06-09 12:24:59,334 - june.simulator - INFO - Date = 2020-04-10 00:00:00, number of deaths =  10, number of infected = 10046\n",
      "2020-06-09 12:24:59,574 - june.simulator - INFO - Date = 2020-04-10 10:00:00, number of deaths =  11, number of infected = 10072\n",
      "2020-06-09 12:24:59,787 - june.simulator - INFO - Date = 2020-04-10 12:00:00, number of deaths =  11, number of infected = 10067\n",
      "2020-06-09 12:25:00,067 - june.simulator - INFO - Date = 2020-04-11 00:00:00, number of deaths =  11, number of infected = 10037\n",
      "2020-06-09 12:25:00,320 - june.simulator - INFO - Date = 2020-04-11 12:00:00, number of deaths =  13, number of infected = 9962\n",
      "2020-06-09 12:25:00,588 - june.simulator - INFO - Date = 2020-04-12 00:00:00, number of deaths =  15, number of infected = 9914\n",
      "2020-06-09 12:25:00,826 - june.simulator - INFO - Date = 2020-04-12 12:00:00, number of deaths =  15, number of infected = 9828\n",
      "2020-06-09 12:25:01,050 - june.simulator - INFO - Date = 2020-04-13 00:00:00, number of deaths =  16, number of infected = 9753\n",
      "2020-06-09 12:25:01,278 - june.simulator - INFO - Date = 2020-04-13 10:00:00, number of deaths =  18, number of infected = 9676\n",
      "2020-06-09 12:25:01,533 - june.simulator - INFO - Date = 2020-04-13 12:00:00, number of deaths =  18, number of infected = 9652\n",
      "2020-06-09 12:25:01,791 - june.simulator - INFO - Date = 2020-04-14 00:00:00, number of deaths =  19, number of infected = 9540\n",
      "2020-06-09 12:25:02,046 - june.simulator - INFO - Date = 2020-04-14 10:00:00, number of deaths =  20, number of infected = 9428\n",
      "2020-06-09 12:25:02,239 - june.simulator - INFO - Date = 2020-04-14 12:00:00, number of deaths =  20, number of infected = 9398\n",
      "2020-06-09 12:25:02,448 - june.simulator - INFO - Date = 2020-04-15 00:00:00, number of deaths =  25, number of infected = 9205\n",
      "2020-06-09 12:25:02,661 - june.simulator - INFO - Date = 2020-04-15 10:00:00, number of deaths =  26, number of infected = 9049\n",
      "2020-06-09 12:25:02,864 - june.simulator - INFO - Date = 2020-04-15 12:00:00, number of deaths =  26, number of infected = 9019\n",
      "2020-06-09 12:25:03,082 - june.simulator - INFO - Date = 2020-04-16 00:00:00, number of deaths =  27, number of infected = 8828\n",
      "2020-06-09 12:25:03,284 - june.simulator - INFO - Date = 2020-04-16 10:00:00, number of deaths =  30, number of infected = 8667\n",
      "2020-06-09 12:25:03,483 - june.simulator - INFO - Date = 2020-04-16 12:00:00, number of deaths =  30, number of infected = 8627\n",
      "2020-06-09 12:25:03,686 - june.simulator - INFO - Date = 2020-04-17 00:00:00, number of deaths =  30, number of infected = 8429\n",
      "2020-06-09 12:25:03,889 - june.simulator - INFO - Date = 2020-04-17 10:00:00, number of deaths =  32, number of infected = 8230\n",
      "2020-06-09 12:25:04,087 - june.simulator - INFO - Date = 2020-04-17 12:00:00, number of deaths =  33, number of infected = 8188\n",
      "2020-06-09 12:25:04,343 - june.simulator - INFO - Date = 2020-04-18 00:00:00, number of deaths =  35, number of infected = 7957\n",
      "2020-06-09 12:25:04,554 - june.simulator - INFO - Date = 2020-04-18 12:00:00, number of deaths =  44, number of infected = 7717\n",
      "2020-06-09 12:25:04,826 - june.simulator - INFO - Date = 2020-04-19 00:00:00, number of deaths =  45, number of infected = 7456\n",
      "2020-06-09 12:25:04,990 - june.simulator - INFO - Date = 2020-04-19 12:00:00, number of deaths =  48, number of infected = 7222\n",
      "2020-06-09 12:25:05,169 - june.simulator - INFO - Date = 2020-04-20 00:00:00, number of deaths =  49, number of infected = 6982\n",
      "2020-06-09 12:25:05,354 - june.simulator - INFO - Date = 2020-04-20 10:00:00, number of deaths =  50, number of infected = 6831\n",
      "2020-06-09 12:25:05,529 - june.simulator - INFO - Date = 2020-04-20 12:00:00, number of deaths =  51, number of infected = 6785\n",
      "2020-06-09 12:25:05,703 - june.simulator - INFO - Date = 2020-04-21 00:00:00, number of deaths =  54, number of infected = 6531\n",
      "2020-06-09 12:25:05,878 - june.simulator - INFO - Date = 2020-04-21 10:00:00, number of deaths =  55, number of infected = 6328\n",
      "2020-06-09 12:25:06,050 - june.simulator - INFO - Date = 2020-04-21 12:00:00, number of deaths =  55, number of infected = 6274\n",
      "2020-06-09 12:25:06,216 - june.simulator - INFO - Date = 2020-04-22 00:00:00, number of deaths =  55, number of infected = 6012\n",
      "2020-06-09 12:25:06,388 - june.simulator - INFO - Date = 2020-04-22 10:00:00, number of deaths =  56, number of infected = 5784\n",
      "2020-06-09 12:25:06,589 - june.simulator - INFO - Date = 2020-04-22 12:00:00, number of deaths =  57, number of infected = 5739\n",
      "2020-06-09 12:25:06,787 - june.simulator - INFO - Date = 2020-04-23 00:00:00, number of deaths =  59, number of infected = 5478\n",
      "2020-06-09 12:25:06,985 - june.simulator - INFO - Date = 2020-04-23 10:00:00, number of deaths =  62, number of infected = 5256\n",
      "2020-06-09 12:25:07,169 - june.simulator - INFO - Date = 2020-04-23 12:00:00, number of deaths =  62, number of infected = 5218\n"
     ]
    },
    {
     "name": "stdout",
     "output_type": "stream",
     "text": [
      "2020-06-09 12:25:07,336 - june.simulator - INFO - Date = 2020-04-24 00:00:00, number of deaths =  65, number of infected = 4949\n",
      "2020-06-09 12:25:07,491 - june.simulator - INFO - Date = 2020-04-24 10:00:00, number of deaths =  66, number of infected = 4760\n",
      "2020-06-09 12:25:07,643 - june.simulator - INFO - Date = 2020-04-24 12:00:00, number of deaths =  66, number of infected = 4719\n",
      "2020-06-09 12:25:07,854 - june.simulator - INFO - Date = 2020-04-25 00:00:00, number of deaths =  67, number of infected = 4482\n",
      "2020-06-09 12:25:07,996 - june.simulator - INFO - Date = 2020-04-25 12:00:00, number of deaths =  67, number of infected = 4238\n",
      "2020-06-09 12:25:08,196 - june.simulator - INFO - Date = 2020-04-26 00:00:00, number of deaths =  67, number of infected = 3993\n",
      "2020-06-09 12:25:08,331 - june.simulator - INFO - Date = 2020-04-26 12:00:00, number of deaths =  67, number of infected = 3772\n",
      "2020-06-09 12:25:08,486 - june.simulator - INFO - Date = 2020-04-27 00:00:00, number of deaths =  68, number of infected = 3542\n",
      "2020-06-09 12:25:08,653 - june.simulator - INFO - Date = 2020-04-27 10:00:00, number of deaths =  70, number of infected = 3358\n",
      "2020-06-09 12:25:08,817 - june.simulator - INFO - Date = 2020-04-27 12:00:00, number of deaths =  71, number of infected = 3307\n",
      "2020-06-09 12:25:08,979 - june.simulator - INFO - Date = 2020-04-28 00:00:00, number of deaths =  71, number of infected = 3100\n",
      "2020-06-09 12:25:09,144 - june.simulator - INFO - Date = 2020-04-28 10:00:00, number of deaths =  72, number of infected = 2922\n",
      "2020-06-09 12:25:09,303 - june.simulator - INFO - Date = 2020-04-28 12:00:00, number of deaths =  72, number of infected = 2891\n",
      "2020-06-09 12:25:09,446 - june.simulator - INFO - Date = 2020-04-29 00:00:00, number of deaths =  72, number of infected = 2686\n",
      "2020-06-09 12:25:09,588 - june.simulator - INFO - Date = 2020-04-29 10:00:00, number of deaths =  72, number of infected = 2529\n",
      "2020-06-09 12:25:09,721 - june.simulator - INFO - Date = 2020-04-29 12:00:00, number of deaths =  72, number of infected = 2502\n",
      "2020-06-09 12:25:09,857 - june.simulator - INFO - Date = 2020-04-30 00:00:00, number of deaths =  73, number of infected = 2334\n",
      "2020-06-09 12:25:09,991 - june.simulator - INFO - Date = 2020-04-30 10:00:00, number of deaths =  73, number of infected = 2199\n",
      "2020-06-09 12:25:10,123 - june.simulator - INFO - Date = 2020-04-30 12:00:00, number of deaths =  74, number of infected = 2167\n",
      "2020-06-09 12:25:10,253 - june.simulator - INFO - Date = 2020-05-01 00:00:00, number of deaths =  75, number of infected = 2020\n",
      "2020-06-09 12:25:10,382 - june.simulator - INFO - Date = 2020-05-01 10:00:00, number of deaths =  75, number of infected = 1904\n",
      "2020-06-09 12:25:10,504 - june.simulator - INFO - Date = 2020-05-01 12:00:00, number of deaths =  77, number of infected = 1881\n",
      "2020-06-09 12:25:10,675 - june.simulator - INFO - Date = 2020-05-02 00:00:00, number of deaths =  77, number of infected = 1753\n",
      "2020-06-09 12:25:10,796 - june.simulator - INFO - Date = 2020-05-02 12:00:00, number of deaths =  78, number of infected = 1624\n",
      "2020-06-09 12:25:11,002 - june.simulator - INFO - Date = 2020-05-03 00:00:00, number of deaths =  78, number of infected = 1473\n",
      "2020-06-09 12:25:11,124 - june.simulator - INFO - Date = 2020-05-03 12:00:00, number of deaths =  78, number of infected = 1373\n",
      "2020-06-09 12:25:11,258 - june.simulator - INFO - Date = 2020-05-04 00:00:00, number of deaths =  79, number of infected = 1264\n",
      "2020-06-09 12:25:11,382 - june.simulator - INFO - Date = 2020-05-04 10:00:00, number of deaths =  79, number of infected = 1176\n",
      "2020-06-09 12:25:11,524 - june.simulator - INFO - Date = 2020-05-04 12:00:00, number of deaths =  79, number of infected = 1156\n",
      "2020-06-09 12:25:11,660 - june.simulator - INFO - Date = 2020-05-05 00:00:00, number of deaths =  80, number of infected = 1055\n",
      "2020-06-09 12:25:11,790 - june.simulator - INFO - Date = 2020-05-05 10:00:00, number of deaths =  80, number of infected = 978\n",
      "2020-06-09 12:25:11,919 - june.simulator - INFO - Date = 2020-05-05 12:00:00, number of deaths =  81, number of infected = 961\n",
      "2020-06-09 12:25:12,061 - june.simulator - INFO - Date = 2020-05-06 00:00:00, number of deaths =  81, number of infected = 870\n",
      "2020-06-09 12:25:12,193 - june.simulator - INFO - Date = 2020-05-06 10:00:00, number of deaths =  82, number of infected = 821\n",
      "2020-06-09 12:25:12,314 - june.simulator - INFO - Date = 2020-05-06 12:00:00, number of deaths =  82, number of infected = 811\n",
      "2020-06-09 12:25:12,432 - june.simulator - INFO - Date = 2020-05-07 00:00:00, number of deaths =  82, number of infected = 750\n",
      "2020-06-09 12:25:12,541 - june.simulator - INFO - Date = 2020-05-07 10:00:00, number of deaths =  83, number of infected = 700\n",
      "2020-06-09 12:25:12,660 - june.simulator - INFO - Date = 2020-05-07 12:00:00, number of deaths =  83, number of infected = 689\n",
      "2020-06-09 12:25:12,780 - june.simulator - INFO - Date = 2020-05-08 00:00:00, number of deaths =  83, number of infected = 645\n",
      "2020-06-09 12:25:12,899 - june.simulator - INFO - Date = 2020-05-08 10:00:00, number of deaths =  84, number of infected = 616\n",
      "2020-06-09 12:25:13,008 - june.simulator - INFO - Date = 2020-05-08 12:00:00, number of deaths =  84, number of infected = 611\n",
      "2020-06-09 12:25:13,180 - june.simulator - INFO - Date = 2020-05-09 00:00:00, number of deaths =  86, number of infected = 563\n",
      "2020-06-09 12:25:13,288 - june.simulator - INFO - Date = 2020-05-09 12:00:00, number of deaths =  86, number of infected = 518\n",
      "2020-06-09 12:25:13,464 - june.simulator - INFO - Date = 2020-05-10 00:00:00, number of deaths =  86, number of infected = 483\n",
      "2020-06-09 12:25:13,568 - june.simulator - INFO - Date = 2020-05-10 12:00:00, number of deaths =  86, number of infected = 454\n",
      "2020-06-09 12:25:13,698 - june.simulator - INFO - Date = 2020-05-11 00:00:00, number of deaths =  86, number of infected = 430\n",
      "2020-06-09 12:25:13,821 - june.simulator - INFO - Date = 2020-05-11 10:00:00, number of deaths =  86, number of infected = 412\n",
      "2020-06-09 12:25:13,954 - june.simulator - INFO - Date = 2020-05-11 12:00:00, number of deaths =  86, number of infected = 409\n",
      "2020-06-09 12:25:14,084 - june.simulator - INFO - Date = 2020-05-12 00:00:00, number of deaths =  86, number of infected = 382\n",
      "2020-06-09 12:25:14,194 - june.simulator - INFO - Date = 2020-05-12 10:00:00, number of deaths =  86, number of infected = 365\n",
      "2020-06-09 12:25:14,300 - june.simulator - INFO - Date = 2020-05-12 12:00:00, number of deaths =  86, number of infected = 363\n",
      "2020-06-09 12:25:14,412 - june.simulator - INFO - Date = 2020-05-13 00:00:00, number of deaths =  86, number of infected = 337\n",
      "2020-06-09 12:25:14,518 - june.simulator - INFO - Date = 2020-05-13 10:00:00, number of deaths =  86, number of infected = 312\n",
      "2020-06-09 12:25:14,625 - june.simulator - INFO - Date = 2020-05-13 12:00:00, number of deaths =  86, number of infected = 306\n",
      "2020-06-09 12:25:14,742 - june.simulator - INFO - Date = 2020-05-14 00:00:00, number of deaths =  86, number of infected = 281\n",
      "2020-06-09 12:25:14,847 - june.simulator - INFO - Date = 2020-05-14 10:00:00, number of deaths =  87, number of infected = 270\n",
      "2020-06-09 12:25:14,961 - june.simulator - INFO - Date = 2020-05-14 12:00:00, number of deaths =  87, number of infected = 267\n",
      "2020-06-09 12:25:15,074 - june.simulator - INFO - Date = 2020-05-15 00:00:00, number of deaths =  87, number of infected = 258\n",
      "2020-06-09 12:25:15,185 - june.simulator - INFO - Date = 2020-05-15 10:00:00, number of deaths =  87, number of infected = 248\n",
      "2020-06-09 12:25:15,292 - june.simulator - INFO - Date = 2020-05-15 12:00:00, number of deaths =  87, number of infected = 245\n",
      "2020-06-09 12:25:15,455 - june.simulator - INFO - Date = 2020-05-16 00:00:00, number of deaths =  87, number of infected = 229\n",
      "CPU times: user 39.8 s, sys: 478 ms, total: 40.3 s\n",
      "Wall time: 40.4 s\n"
     ]
    }
   ],
   "source": [
    "%%time\n",
    "simulator.run()"
   ]
  },
  {
   "cell_type": "markdown",
   "metadata": {},
   "source": [
    "While the simulation runs (and afterwards) we can launch the visualization webpage by running\n",
    "```python june/visualizer.py path/to/results``` "
   ]
  },
  {
   "cell_type": "markdown",
   "metadata": {},
   "source": [
    "# Getting the results"
   ]
  },
  {
   "cell_type": "markdown",
   "metadata": {},
   "source": [
    "All results are stored in a json file specified in the ``save_path`` variable in the config file. We can also access it from ``world.logger`` directly."
   ]
  },
  {
   "cell_type": "code",
   "execution_count": 28,
   "metadata": {},
   "outputs": [],
   "source": [
    "import pandas as pd"
   ]
  },
  {
   "cell_type": "code",
   "execution_count": 29,
   "metadata": {},
   "outputs": [],
   "source": [
    "read = ReadLogger()"
   ]
  },
  {
   "cell_type": "markdown",
   "metadata": {},
   "source": [
    "## Hospital data and how it changed over time"
   ]
  },
  {
   "cell_type": "code",
   "execution_count": 30,
   "metadata": {},
   "outputs": [],
   "source": [
    "hospitals_df = read.load_hospital_capacity()"
   ]
  },
  {
   "cell_type": "code",
   "execution_count": 31,
   "metadata": {},
   "outputs": [
    {
     "data": {
      "text/html": [
       "<div>\n",
       "<style scoped>\n",
       "    .dataframe tbody tr th:only-of-type {\n",
       "        vertical-align: middle;\n",
       "    }\n",
       "\n",
       "    .dataframe tbody tr th {\n",
       "        vertical-align: top;\n",
       "    }\n",
       "\n",
       "    .dataframe thead th {\n",
       "        text-align: right;\n",
       "    }\n",
       "</style>\n",
       "<table border=\"1\" class=\"dataframe\">\n",
       "  <thead>\n",
       "    <tr style=\"text-align: right;\">\n",
       "      <th></th>\n",
       "      <th>time_stamp</th>\n",
       "      <th>id</th>\n",
       "      <th>n_patients</th>\n",
       "      <th>n_patients_icu</th>\n",
       "    </tr>\n",
       "  </thead>\n",
       "  <tbody>\n",
       "    <tr>\n",
       "      <th>0</th>\n",
       "      <td>2020-03-07T12:00:00.000000</td>\n",
       "      <td>0</td>\n",
       "      <td>0</td>\n",
       "      <td>0</td>\n",
       "    </tr>\n",
       "    <tr>\n",
       "      <th>1</th>\n",
       "      <td>2020-03-08T00:00:00.000000</td>\n",
       "      <td>0</td>\n",
       "      <td>0</td>\n",
       "      <td>0</td>\n",
       "    </tr>\n",
       "    <tr>\n",
       "      <th>2</th>\n",
       "      <td>2020-03-08T12:00:00.000000</td>\n",
       "      <td>0</td>\n",
       "      <td>0</td>\n",
       "      <td>0</td>\n",
       "    </tr>\n",
       "  </tbody>\n",
       "</table>\n",
       "</div>"
      ],
      "text/plain": [
       "                   time_stamp id n_patients n_patients_icu\n",
       "0  2020-03-07T12:00:00.000000  0          0              0\n",
       "1  2020-03-08T00:00:00.000000  0          0              0\n",
       "2  2020-03-08T12:00:00.000000  0          0              0"
      ]
     },
     "execution_count": 31,
     "metadata": {},
     "output_type": "execute_result"
    }
   ],
   "source": [
    "hospitals_df.head(3)"
   ]
  },
  {
   "cell_type": "code",
   "execution_count": 32,
   "metadata": {},
   "outputs": [],
   "source": [
    "hospitals_characteristics_df = read.load_hospital_characteristics()"
   ]
  },
  {
   "cell_type": "code",
   "execution_count": 33,
   "metadata": {},
   "outputs": [
    {
     "data": {
      "text/html": [
       "<div>\n",
       "<style scoped>\n",
       "    .dataframe tbody tr th:only-of-type {\n",
       "        vertical-align: middle;\n",
       "    }\n",
       "\n",
       "    .dataframe tbody tr th {\n",
       "        vertical-align: top;\n",
       "    }\n",
       "\n",
       "    .dataframe thead th {\n",
       "        text-align: right;\n",
       "    }\n",
       "</style>\n",
       "<table border=\"1\" class=\"dataframe\">\n",
       "  <thead>\n",
       "    <tr style=\"text-align: right;\">\n",
       "      <th></th>\n",
       "      <th>longitude</th>\n",
       "      <th>latitude</th>\n",
       "      <th>n_beds</th>\n",
       "      <th>n_icu_beds</th>\n",
       "    </tr>\n",
       "  </thead>\n",
       "  <tbody>\n",
       "    <tr>\n",
       "      <th>0</th>\n",
       "      <td>-1.581055</td>\n",
       "      <td>54.9375</td>\n",
       "      <td>485</td>\n",
       "      <td>21</td>\n",
       "    </tr>\n",
       "  </tbody>\n",
       "</table>\n",
       "</div>"
      ],
      "text/plain": [
       "   longitude  latitude  n_beds  n_icu_beds\n",
       "0  -1.581055   54.9375     485          21"
      ]
     },
     "execution_count": 33,
     "metadata": {},
     "output_type": "execute_result"
    }
   ],
   "source": [
    "hospitals_characteristics_df"
   ]
  },
  {
   "cell_type": "markdown",
   "metadata": {},
   "source": [
    "## where did infections happen?"
   ]
  },
  {
   "cell_type": "code",
   "execution_count": 34,
   "metadata": {},
   "outputs": [],
   "source": [
    "loc_df = read.get_locations_infections()"
   ]
  },
  {
   "cell_type": "code",
   "execution_count": 35,
   "metadata": {},
   "outputs": [
    {
     "data": {
      "text/plain": [
       "Text(0.5, 0, 'location')"
      ]
     },
     "execution_count": 35,
     "metadata": {},
     "output_type": "execute_result"
    },
    {
     "data": {
      "image/png": "[encoded data removed]",
      "text/plain": [
       "<Figure size 432x288 with 1 Axes>"
      ]
     },
     "metadata": {
      "needs_background": "light"
     },
     "output_type": "display_data"
    }
   ],
   "source": [
    "import matplotlib.ticker as mtick\n",
    "\n",
    "ax = loc_df['percentage_infections'].sort_values().plot.bar()\n",
    "ax.yaxis.set_major_formatter(mtick.PercentFormatter())\n",
    "plt.ylabel('Percentage of infections at location')\n",
    "plt.xlabel('location')"
   ]
  },
  {
   "cell_type": "markdown",
   "metadata": {},
   "source": [
    "## rate of infection"
   ]
  },
  {
   "cell_type": "code",
   "execution_count": 36,
   "metadata": {},
   "outputs": [
    {
     "data": {
      "text/html": [
       "<div>\n",
       "<style scoped>\n",
       "    .dataframe tbody tr th:only-of-type {\n",
       "        vertical-align: middle;\n",
       "    }\n",
       "\n",
       "    .dataframe tbody tr th {\n",
       "        vertical-align: top;\n",
       "    }\n",
       "\n",
       "    .dataframe thead th {\n",
       "        text-align: right;\n",
       "    }\n",
       "</style>\n",
       "<table border=\"1\" class=\"dataframe\">\n",
       "  <thead>\n",
       "    <tr style=\"text-align: right;\">\n",
       "      <th></th>\n",
       "      <th>infected_id</th>\n",
       "      <th>symptoms</th>\n",
       "      <th>n_secondary_infections</th>\n",
       "    </tr>\n",
       "    <tr>\n",
       "      <th>time_stamp</th>\n",
       "      <th></th>\n",
       "      <th></th>\n",
       "      <th></th>\n",
       "    </tr>\n",
       "  </thead>\n",
       "  <tbody>\n",
       "    <tr>\n",
       "      <th>2020-03-07 12:00:00</th>\n",
       "      <td>[1076, 1237, 1732, 1837, 2066, 2358, 2713, 282...</td>\n",
       "      <td>[-1, -1, -1, -1, -1, -1, -1, -1, -1, -1, -1, -...</td>\n",
       "      <td>[0, 0, 0, 0, 0, 0, 0, 0, 0, 0, 0, 0, 0, 0, 0, ...</td>\n",
       "    </tr>\n",
       "    <tr>\n",
       "      <th>2020-03-08 00:00:00</th>\n",
       "      <td>[1076, 1237, 1732, 1837, 2066, 2358, 2713, 282...</td>\n",
       "      <td>[-1, -1, -1, -1, -1, -1, -1, -1, -1, -1, -1, -...</td>\n",
       "      <td>[0, 0, 0, 0, 0, 0, 0, 0, 0, 0, 0, 0, 0, 0, 0, ...</td>\n",
       "    </tr>\n",
       "    <tr>\n",
       "      <th>2020-03-08 12:00:00</th>\n",
       "      <td>[1076, 1237, 1732, 1837, 2066, 2358, 2713, 282...</td>\n",
       "      <td>[-1, -1, -1, -1, -1, -1, -1, -1, -1, -1, -1, -...</td>\n",
       "      <td>[0, 0, 0, 0, 0, 0, 0, 0, 0, 0, 0, 0, 0, 0, 0, ...</td>\n",
       "    </tr>\n",
       "    <tr>\n",
       "      <th>2020-03-09 00:00:00</th>\n",
       "      <td>[1076, 1237, 1732, 1837, 2066, 2358, 2713, 282...</td>\n",
       "      <td>[-1, -1, -1, -1, 0, -1, -1, -1, -1, 1, -1, -1,...</td>\n",
       "      <td>[0, 0, 0, 0, 0, 0, 0, 0, 0, 0, 0, 0, 0, 0, 0, ...</td>\n",
       "    </tr>\n",
       "    <tr>\n",
       "      <th>2020-03-09 10:00:00</th>\n",
       "      <td>[1076, 1237, 1732, 1837, 2066, 2358, 2713, 282...</td>\n",
       "      <td>[-1, -1, -1, -1, 0, -1, -1, -1, -1, 1, -1, -1,...</td>\n",
       "      <td>[0, 0, 0, 0, 0, 0, 0, 0, 0, 0, 0, 0, 0, 0, 0, ...</td>\n",
       "    </tr>\n",
       "    <tr>\n",
       "      <th>...</th>\n",
       "      <td>...</td>\n",
       "      <td>...</td>\n",
       "      <td>...</td>\n",
       "    </tr>\n",
       "    <tr>\n",
       "      <th>2020-05-14 12:00:00</th>\n",
       "      <td>[55, 100, 155, 163, 170, 172, 206, 214, 216, 3...</td>\n",
       "      <td>[3, 3, 3, 3, 3, 3, 3, 3, 3, 3, 3, 3, 3, 3, 1, ...</td>\n",
       "      <td>[0, 0, 0, 0, 0, 0, 1, 1, 1, 0, 0, 0, 1, 0, 0, ...</td>\n",
       "    </tr>\n",
       "    <tr>\n",
       "      <th>2020-05-15 00:00:00</th>\n",
       "      <td>[55, 100, 155, 163, 170, 172, 206, 214, 216, 3...</td>\n",
       "      <td>[3, 3, 3, 3, 3, 3, 3, 3, 3, 3, 3, 3, 3, 3, 1, ...</td>\n",
       "      <td>[0, 0, 0, 0, 0, 0, 1, 1, 1, 0, 0, 0, 1, 0, 0, ...</td>\n",
       "    </tr>\n",
       "    <tr>\n",
       "      <th>2020-05-15 10:00:00</th>\n",
       "      <td>[55, 100, 155, 163, 170, 172, 206, 214, 216, 3...</td>\n",
       "      <td>[3, 3, 3, 3, 3, 3, 3, -3, 3, 3, 3, 3, 3, 3, 1,...</td>\n",
       "      <td>[0, 0, 0, 0, 0, 0, 1, 1, 1, 0, 0, 0, 1, 0, 0, ...</td>\n",
       "    </tr>\n",
       "    <tr>\n",
       "      <th>2020-05-15 12:00:00</th>\n",
       "      <td>[55, 100, 155, 163, 170, 172, 206, 216, 393, 4...</td>\n",
       "      <td>[3, 3, 3, 3, 3, 3, -3, 3, 3, 3, 3, 3, 3, 1, 3,...</td>\n",
       "      <td>[0, 0, 0, 0, 0, 0, 1, 1, 0, 0, 0, 1, 0, 0, 0, ...</td>\n",
       "    </tr>\n",
       "    <tr>\n",
       "      <th>2020-05-16 00:00:00</th>\n",
       "      <td>[55, 100, 155, 163, 170, 172, 216, 393, 425, 4...</td>\n",
       "      <td>[3, 3, 3, 3, 3, -3, 3, 3, 3, 3, 3, 3, 1, 3, 3,...</td>\n",
       "      <td>[0, 0, 0, 0, 0, 0, 1, 0, 0, 0, 1, 0, 0, 0, 0, ...</td>\n",
       "    </tr>\n",
       "  </tbody>\n",
       "</table>\n",
       "<p>190 rows × 3 columns</p>\n",
       "</div>"
      ],
      "text/plain": [
       "                                                           infected_id  \\\n",
       "time_stamp                                                               \n",
       "2020-03-07 12:00:00  [1076, 1237, 1732, 1837, 2066, 2358, 2713, 282...   \n",
       "2020-03-08 00:00:00  [1076, 1237, 1732, 1837, 2066, 2358, 2713, 282...   \n",
       "2020-03-08 12:00:00  [1076, 1237, 1732, 1837, 2066, 2358, 2713, 282...   \n",
       "2020-03-09 00:00:00  [1076, 1237, 1732, 1837, 2066, 2358, 2713, 282...   \n",
       "2020-03-09 10:00:00  [1076, 1237, 1732, 1837, 2066, 2358, 2713, 282...   \n",
       "...                                                                ...   \n",
       "2020-05-14 12:00:00  [55, 100, 155, 163, 170, 172, 206, 214, 216, 3...   \n",
       "2020-05-15 00:00:00  [55, 100, 155, 163, 170, 172, 206, 214, 216, 3...   \n",
       "2020-05-15 10:00:00  [55, 100, 155, 163, 170, 172, 206, 214, 216, 3...   \n",
       "2020-05-15 12:00:00  [55, 100, 155, 163, 170, 172, 206, 216, 393, 4...   \n",
       "2020-05-16 00:00:00  [55, 100, 155, 163, 170, 172, 216, 393, 425, 4...   \n",
       "\n",
       "                                                              symptoms  \\\n",
       "time_stamp                                                               \n",
       "2020-03-07 12:00:00  [-1, -1, -1, -1, -1, -1, -1, -1, -1, -1, -1, -...   \n",
       "2020-03-08 00:00:00  [-1, -1, -1, -1, -1, -1, -1, -1, -1, -1, -1, -...   \n",
       "2020-03-08 12:00:00  [-1, -1, -1, -1, -1, -1, -1, -1, -1, -1, -1, -...   \n",
       "2020-03-09 00:00:00  [-1, -1, -1, -1, 0, -1, -1, -1, -1, 1, -1, -1,...   \n",
       "2020-03-09 10:00:00  [-1, -1, -1, -1, 0, -1, -1, -1, -1, 1, -1, -1,...   \n",
       "...                                                                ...   \n",
       "2020-05-14 12:00:00  [3, 3, 3, 3, 3, 3, 3, 3, 3, 3, 3, 3, 3, 3, 1, ...   \n",
       "2020-05-15 00:00:00  [3, 3, 3, 3, 3, 3, 3, 3, 3, 3, 3, 3, 3, 3, 1, ...   \n",
       "2020-05-15 10:00:00  [3, 3, 3, 3, 3, 3, 3, -3, 3, 3, 3, 3, 3, 3, 1,...   \n",
       "2020-05-15 12:00:00  [3, 3, 3, 3, 3, 3, -3, 3, 3, 3, 3, 3, 3, 1, 3,...   \n",
       "2020-05-16 00:00:00  [3, 3, 3, 3, 3, -3, 3, 3, 3, 3, 3, 3, 1, 3, 3,...   \n",
       "\n",
       "                                                n_secondary_infections  \n",
       "time_stamp                                                              \n",
       "2020-03-07 12:00:00  [0, 0, 0, 0, 0, 0, 0, 0, 0, 0, 0, 0, 0, 0, 0, ...  \n",
       "2020-03-08 00:00:00  [0, 0, 0, 0, 0, 0, 0, 0, 0, 0, 0, 0, 0, 0, 0, ...  \n",
       "2020-03-08 12:00:00  [0, 0, 0, 0, 0, 0, 0, 0, 0, 0, 0, 0, 0, 0, 0, ...  \n",
       "2020-03-09 00:00:00  [0, 0, 0, 0, 0, 0, 0, 0, 0, 0, 0, 0, 0, 0, 0, ...  \n",
       "2020-03-09 10:00:00  [0, 0, 0, 0, 0, 0, 0, 0, 0, 0, 0, 0, 0, 0, 0, ...  \n",
       "...                                                                ...  \n",
       "2020-05-14 12:00:00  [0, 0, 0, 0, 0, 0, 1, 1, 1, 0, 0, 0, 1, 0, 0, ...  \n",
       "2020-05-15 00:00:00  [0, 0, 0, 0, 0, 0, 1, 1, 1, 0, 0, 0, 1, 0, 0, ...  \n",
       "2020-05-15 10:00:00  [0, 0, 0, 0, 0, 0, 1, 1, 1, 0, 0, 0, 1, 0, 0, ...  \n",
       "2020-05-15 12:00:00  [0, 0, 0, 0, 0, 0, 1, 1, 0, 0, 0, 1, 0, 0, 0, ...  \n",
       "2020-05-16 00:00:00  [0, 0, 0, 0, 0, 0, 1, 0, 0, 0, 1, 0, 0, 0, 0, ...  \n",
       "\n",
       "[190 rows x 3 columns]"
      ]
     },
     "execution_count": 36,
     "metadata": {},
     "output_type": "execute_result"
    }
   ],
   "source": [
    "read.infections_df"
   ]
  },
  {
   "cell_type": "code",
   "execution_count": 37,
   "metadata": {},
   "outputs": [],
   "source": [
    "r_df = read.get_r()"
   ]
  },
  {
   "cell_type": "code",
   "execution_count": 38,
   "metadata": {},
   "outputs": [
    {
     "data": {
      "text/html": [
       "<div>\n",
       "<style scoped>\n",
       "    .dataframe tbody tr th:only-of-type {\n",
       "        vertical-align: middle;\n",
       "    }\n",
       "\n",
       "    .dataframe tbody tr th {\n",
       "        vertical-align: top;\n",
       "    }\n",
       "\n",
       "    .dataframe thead th {\n",
       "        text-align: right;\n",
       "    }\n",
       "</style>\n",
       "<table border=\"1\" class=\"dataframe\">\n",
       "  <thead>\n",
       "    <tr style=\"text-align: right;\">\n",
       "      <th></th>\n",
       "      <th>value</th>\n",
       "    </tr>\n",
       "    <tr>\n",
       "      <th>time_stamp</th>\n",
       "      <th></th>\n",
       "    </tr>\n",
       "  </thead>\n",
       "  <tbody>\n",
       "    <tr>\n",
       "      <th>2020-03-07 12:00:00</th>\n",
       "      <td>NaN</td>\n",
       "    </tr>\n",
       "    <tr>\n",
       "      <th>2020-03-08 00:00:00</th>\n",
       "      <td>NaN</td>\n",
       "    </tr>\n",
       "    <tr>\n",
       "      <th>2020-03-08 12:00:00</th>\n",
       "      <td>NaN</td>\n",
       "    </tr>\n",
       "    <tr>\n",
       "      <th>2020-03-09 00:00:00</th>\n",
       "      <td>NaN</td>\n",
       "    </tr>\n",
       "    <tr>\n",
       "      <th>2020-03-09 10:00:00</th>\n",
       "      <td>NaN</td>\n",
       "    </tr>\n",
       "    <tr>\n",
       "      <th>...</th>\n",
       "      <td>...</td>\n",
       "    </tr>\n",
       "    <tr>\n",
       "      <th>2020-05-14 12:00:00</th>\n",
       "      <td>0.316456</td>\n",
       "    </tr>\n",
       "    <tr>\n",
       "      <th>2020-05-15 00:00:00</th>\n",
       "      <td>0.317391</td>\n",
       "    </tr>\n",
       "    <tr>\n",
       "      <th>2020-05-15 10:00:00</th>\n",
       "      <td>0.315789</td>\n",
       "    </tr>\n",
       "    <tr>\n",
       "      <th>2020-05-15 12:00:00</th>\n",
       "      <td>0.311628</td>\n",
       "    </tr>\n",
       "    <tr>\n",
       "      <th>2020-05-16 00:00:00</th>\n",
       "      <td>0.320388</td>\n",
       "    </tr>\n",
       "  </tbody>\n",
       "</table>\n",
       "<p>190 rows × 1 columns</p>\n",
       "</div>"
      ],
      "text/plain": [
       "                        value\n",
       "time_stamp                   \n",
       "2020-03-07 12:00:00       NaN\n",
       "2020-03-08 00:00:00       NaN\n",
       "2020-03-08 12:00:00       NaN\n",
       "2020-03-09 00:00:00       NaN\n",
       "2020-03-09 10:00:00       NaN\n",
       "...                       ...\n",
       "2020-05-14 12:00:00  0.316456\n",
       "2020-05-15 00:00:00  0.317391\n",
       "2020-05-15 10:00:00  0.315789\n",
       "2020-05-15 12:00:00  0.311628\n",
       "2020-05-16 00:00:00  0.320388\n",
       "\n",
       "[190 rows x 1 columns]"
      ]
     },
     "execution_count": 38,
     "metadata": {},
     "output_type": "execute_result"
    }
   ],
   "source": [
    "r_df"
   ]
  },
  {
   "cell_type": "code",
   "execution_count": 39,
   "metadata": {},
   "outputs": [
    {
     "data": {
      "text/plain": [
       "Text(0, 0.5, 'R')"
      ]
     },
     "execution_count": 39,
     "metadata": {},
     "output_type": "execute_result"
    },
    {
     "data": {
      "image/png": "[encoded data removed]",
      "text/plain": [
       "<Figure size 432x288 with 1 Axes>"
      ]
     },
     "metadata": {
      "needs_background": "light"
     },
     "output_type": "display_data"
    }
   ],
   "source": [
    "r_df.plot()\n",
    "plt.axhline(y=1, linestyle='dashed', color='gray')\n",
    "plt.xlabel('Date')\n",
    "plt.ylabel('R')"
   ]
  },
  {
   "cell_type": "markdown",
   "metadata": {},
   "source": [
    "## World infection curves, and by super area"
   ]
  },
  {
   "cell_type": "code",
   "execution_count": 40,
   "metadata": {},
   "outputs": [],
   "source": [
    "world_df = read.world_summary()"
   ]
  },
  {
   "cell_type": "code",
   "execution_count": 41,
   "metadata": {},
   "outputs": [
    {
     "data": {
      "text/plain": [
       "<matplotlib.legend.Legend at 0x7f3fd83927c0>"
      ]
     },
     "execution_count": 41,
     "metadata": {},
     "output_type": "execute_result"
    },
    {
     "data": {
      "image/png": "[encoded data removed]",
      "text/plain": [
       "<Figure size 432x288 with 1 Axes>"
      ]
     },
     "metadata": {
      "needs_background": "light"
     },
     "output_type": "display_data"
    }
   ],
   "source": [
    "world_df.plot()\n",
    "plt.legend()"
   ]
  },
  {
   "cell_type": "code",
   "execution_count": 42,
   "metadata": {},
   "outputs": [],
   "source": [
    "area_df = read.super_area_summary()"
   ]
  },
  {
   "cell_type": "code",
   "execution_count": 43,
   "metadata": {},
   "outputs": [
    {
     "data": {
      "text/plain": [
       "<matplotlib.legend.Legend at 0x7f3fd84bde20>"
      ]
     },
     "execution_count": 43,
     "metadata": {},
     "output_type": "execute_result"
    },
    {
     "data": {
      "image/png": "[encoded data removed]",
      "text/plain": [
       "<Figure size 432x288 with 1 Axes>"
      ]
     },
     "metadata": {
      "needs_background": "light"
     },
     "output_type": "display_data"
    }
   ],
   "source": [
    "area_df[area_df.super_area == \"E02002512\"].plot()\n",
    "plt.legend()"
   ]
  },
  {
   "cell_type": "code",
   "execution_count": 44,
   "metadata": {},
   "outputs": [
    {
     "data": {
      "text/plain": [
       "<matplotlib.legend.Legend at 0x7f3fd8ab3340>"
      ]
     },
     "execution_count": 44,
     "metadata": {},
     "output_type": "execute_result"
    },
    {
     "data": {
      "image/png": "[encoded data removed]",
      "text/plain": [
       "<Figure size 432x288 with 1 Axes>"
      ]
     },
     "metadata": {
      "needs_background": "light"
     },
     "output_type": "display_data"
    }
   ],
   "source": [
    "area_df[area_df.super_area == \"E02001697\"].plot()\n",
    "plt.legend()"
   ]
  },
  {
   "cell_type": "markdown",
   "metadata": {},
   "source": [
    "## World infection curves per age group"
   ]
  },
  {
   "cell_type": "code",
   "execution_count": 45,
   "metadata": {},
   "outputs": [],
   "source": [
    "ages_df = read.age_summary([0,10,20,30,40,\n",
    "                  50,60,70,80,90,100])"
   ]
  },
  {
   "cell_type": "code",
   "execution_count": 46,
   "metadata": {},
   "outputs": [
    {
     "data": {
      "text/plain": [
       "<matplotlib.legend.Legend at 0x7f3fd84a62b0>"
      ]
     },
     "execution_count": 46,
     "metadata": {},
     "output_type": "execute_result"
    },
    {
     "data": {
      "image/png": "[encoded data removed]",
      "text/plain": [
       "<Figure size 432x288 with 1 Axes>"
      ]
     },
     "metadata": {
      "needs_background": "light"
     },
     "output_type": "display_data"
    }
   ],
   "source": [
    "for name, group in ages_df.groupby('age_range'):\n",
    "    group['infected'].plot(label=name)\n",
    "plt.legend()"
   ]
  },
  {
   "cell_type": "code",
   "execution_count": 47,
   "metadata": {},
   "outputs": [
    {
     "data": {
      "text/plain": [
       "<matplotlib.legend.Legend at 0x7f3fd91bb850>"
      ]
     },
     "execution_count": 47,
     "metadata": {},
     "output_type": "execute_result"
    },
    {
     "data": {
      "image/png": "[encoded data removed]",
      "text/plain": [
       "<Figure size 432x288 with 1 Axes>"
      ]
     },
     "metadata": {
      "needs_background": "light"
     },
     "output_type": "display_data"
    }
   ],
   "source": [
    "for name, group in ages_df.groupby('age_range'):\n",
    "    group['dead'].cumsum().plot(label=name)\n",
    "plt.legend()"
   ]
  },
  {
   "cell_type": "markdown",
   "metadata": {},
   "source": [
    "## Draw some of the symptoms trajectories"
   ]
  },
  {
   "cell_type": "code",
   "execution_count": 48,
   "metadata": {},
   "outputs": [],
   "source": [
    "random_trajectories = read.draw_symptom_trajectories(window_length=100,\n",
    "                                        n_people=5)"
   ]
  },
  {
   "cell_type": "code",
   "execution_count": 49,
   "metadata": {},
   "outputs": [],
   "source": [
    "from june.infection import SymptomTag"
   ]
  },
  {
   "cell_type": "code",
   "execution_count": 50,
   "metadata": {},
   "outputs": [],
   "source": [
    "symptoms_values = [tag.value for tag in SymptomTag]\n",
    "symptoms_names = [tag.name for tag in SymptomTag]\n"
   ]
  },
  {
   "cell_type": "code",
   "execution_count": 51,
   "metadata": {},
   "outputs": [
    {
     "data": {
      "text/plain": [
       "Text(0.5, 0, 'Date')"
      ]
     },
     "execution_count": 51,
     "metadata": {},
     "output_type": "execute_result"
    },
    {
     "data": {
      "image/png": "[encoded data removed]",
      "text/plain": [
       "<Figure size 432x288 with 1 Axes>"
      ]
     },
     "metadata": {
      "needs_background": "light"
     },
     "output_type": "display_data"
    }
   ],
   "source": [
    "for df_person in random_trajectories:\n",
    "    df_person['symptoms'].plot()\n",
    "plt.ylabel('Symptoms Trajectory')\n",
    "_ = plt.yticks(symptoms_values, symptoms_names)\n",
    "plt.xlabel('Date')"
   ]
  },
  {
   "cell_type": "code",
   "execution_count": 52,
   "metadata": {},
   "outputs": [
    {
     "data": {
      "text/plain": [
       "Text(0.5, 0, 'Date')"
      ]
     },
     "execution_count": 52,
     "metadata": {},
     "output_type": "execute_result"
    },
    {
     "data": {
      "image/png": "[encoded data removed]",
      "text/plain": [
       "<Figure size 432x288 with 1 Axes>"
      ]
     },
     "metadata": {
      "needs_background": "light"
     },
     "output_type": "display_data"
    }
   ],
   "source": [
    "for df_person in random_trajectories:\n",
    "    df_person['n_secondary_infections'].plot()\n",
    "plt.ylabel('Number of secondary infections')\n",
    "\n",
    "plt.xlabel('Date')"
   ]
  },
  {
   "cell_type": "code",
   "execution_count": null,
   "metadata": {},
   "outputs": [],
   "source": []
  },
  {
   "cell_type": "code",
   "execution_count": null,
   "metadata": {},
   "outputs": [],
   "source": []
  },
  {
   "cell_type": "code",
   "execution_count": null,
   "metadata": {},
   "outputs": [],
   "source": []
  }
 ],
 "metadata": {
  "kernelspec": {
   "display_name": "Python 3",
   "language": "python",
   "name": "python3"
  },
  "language_info": {
   "codemirror_mode": {
    "name": "ipython",
    "version": 3
   },
   "file_extension": ".py",
   "mimetype": "text/x-python",
   "name": "python",
   "nbconvert_exporter": "python",
   "pygments_lexer": "ipython3",
   "version": "3.8.3"
  }
 },
 "nbformat": 4,
 "nbformat_minor": 4
}
