{
 "cells": [
  {
   "cell_type": "code",
   "execution_count": 1,
   "metadata": {},
   "outputs": [],
   "source": [
    "%load_ext autoreload\n",
    "%autoreload 2"
   ]
  },
  {
   "cell_type": "code",
   "execution_count": 3,
   "metadata": {},
   "outputs": [],
   "source": [
    "import warnings\n",
    "warnings.filterwarnings('ignore')"
   ]
  },
  {
   "cell_type": "code",
   "execution_count": 4,
   "metadata": {},
   "outputs": [],
   "source": [
    "import numpy as np\n",
    "import time\n",
    "from datetime import datetime\n",
    "import matplotlib.pyplot as plt\n",
    "import seaborn as sns\n",
    "sns.set_context('notebook')"
   ]
  },
  {
   "cell_type": "code",
   "execution_count": 5,
   "metadata": {},
   "outputs": [
    {
     "name": "stderr",
     "output_type": "stream",
     "text": [
      "No --data argument given - defaulting to:\n",
      "/home/florpi/JUNE/data\n",
      "No --configs argument given - defaulting to:\n",
      "/home/florpi/JUNE/configs\n"
     ]
    }
   ],
   "source": [
    "from june import World \n",
    "from june.demography.geography import Geography\n",
    "from june.demography import Demography\n",
    "from june.interaction import ContactAveraging\n",
    "from june.infection import Infection\n",
    "from june.infection.symptoms import SymptomsConstant\n",
    "from june.infection.transmission import TransmissionConstant\n",
    "from june.groups import Hospitals, Schools, Companies, Households, CareHomes, Cemeteries\n",
    "from june.groups.leisure import Cinemas, Pubs, Groceries\n",
    "from june.simulator import Simulator\n",
    "from june.seed import Seed\n",
    "from june.policy import Policy, Policies\n",
    "from june import paths\n",
    "from june.logger.read_logger import ReadLogger\n",
    "from june.infection.infection import InfectionSelector\n",
    "from june.world import generate_world_from_hdf5"
   ]
  },
  {
   "cell_type": "markdown",
   "metadata": {},
   "source": [
    "# Initialize world\n",
    "\n",
    "To initialize a certain world, we need to add the different components we want to have in it. First we specify what super areas (msoa) we want to create. We have included these ones, because they are known to contain hospitals, schools, care homes, and companies.\n",
    "\n",
    "After creating the geography, we create the different components the worlds need to have such as care homes, companies ..."
   ]
  },
  {
   "cell_type": "code",
   "execution_count": 6,
   "metadata": {},
   "outputs": [
    {
     "name": "stdout",
     "output_type": "stream",
     "text": [
      "2020-06-09 10:35:05,152 - june.demography.geography - INFO - There are 43 areas and 2 super_areas in the world.\n",
      "2020-06-09 10:35:05,166 - june.groups.hospital - INFO - There are 1 hospitals in this geography.\n",
      "2020-06-09 10:35:05,237 - june.groups.school - INFO - There are 5 schools in this geography.\n",
      "2020-06-09 10:35:05,254 - june.groups.school - INFO - No school for the age 0 in this world.\n",
      "2020-06-09 10:35:05,261 - june.groups.school - INFO - No school for the age 1 in this world.\n",
      "2020-06-09 10:35:05,268 - june.groups.school - INFO - No school for the age 2 in this world.\n",
      "2020-06-09 10:35:05,317 - june.groups.school - INFO - No school for the age 19 in this world.\n",
      "2020-06-09 10:35:05,679 - june.groups.carehome - INFO - There are 43 care_homes in this geography.\n",
      "populating the world's geography with the specified demography...\n",
      "2020-06-09 10:35:13,709 - numexpr.utils - INFO - NumExpr defaulting to 4 threads.\n",
      "2020-06-09 10:35:15,824 - june.distributors.worker_distributor - INFO - There are 0 who had to be told to stay real\n",
      "CPU times: user 11.7 s, sys: 1.29 s, total: 13 s\n",
      "Wall time: 13.7 s\n"
     ]
    }
   ],
   "source": [
    "%%time\n",
    "geography = Geography.from_file({\n",
    "                                \"super_area\":  [\"E02002512\", \"E02001697\"]\n",
    "                                          #[\"E02001720\",\n",
    "                                          #\"E00088544\", \n",
    "                                          #\"E02002560\", \n",
    "                                          #\"E02002559\"]\n",
    "                                }\n",
    "                                )\n",
    "\n",
    "geography.hospitals = Hospitals.for_geography(geography)\n",
    "geography.schools = Schools.for_geography(geography)\n",
    "geography.companies = Companies.for_geography(geography)\n",
    "geography.care_homes = CareHomes.for_geography(geography)\n",
    "demography = Demography.for_geography(geography)\n",
    "world = World(geography, demography, include_households=True)"
   ]
  },
  {
   "cell_type": "markdown",
   "metadata": {},
   "source": [
    "### If it took a long time to run the previous command, it might be a good idea to save the world to reuse it later."
   ]
  },
  {
   "cell_type": "code",
   "execution_count": 7,
   "metadata": {},
   "outputs": [],
   "source": [
    "#world.to_hdf5(\"world.hdf5\")"
   ]
  },
  {
   "cell_type": "markdown",
   "metadata": {},
   "source": [
    "If we would like to load the world we saved, we just do"
   ]
  },
  {
   "cell_type": "code",
   "execution_count": 8,
   "metadata": {},
   "outputs": [],
   "source": [
    "#world = generate_world_from_hdf5(\"world.hdf5\")"
   ]
  },
  {
   "cell_type": "markdown",
   "metadata": {},
   "source": [
    "you have now a beautiful pre-pandemic world. "
   ]
  },
  {
   "cell_type": "markdown",
   "metadata": {},
   "source": [
    "## Commute, travel and leisure"
   ]
  },
  {
   "cell_type": "markdown",
   "metadata": {},
   "source": [
    "We can add cinemas, pubs, groceries, etc. as well as commute in major cities with"
   ]
  },
  {
   "cell_type": "code",
   "execution_count": 9,
   "metadata": {},
   "outputs": [],
   "source": [
    "# leisure\n",
    "world.cinemas = Cinemas.for_geography(geography)\n",
    "world.pubs = Pubs.for_geography(geography)\n",
    "world.groceries = Groceries.for_super_areas(world.super_areas,\n",
    "                                            venues_per_capita=1/500)"
   ]
  },
  {
   "cell_type": "code",
   "execution_count": 10,
   "metadata": {},
   "outputs": [],
   "source": [
    "# commute\n",
    "world.initialise_commuting()"
   ]
  },
  {
   "cell_type": "markdown",
   "metadata": {},
   "source": [
    "We are also going to need some cemeteries...geography.cemeteries = Cemeteries()\n"
   ]
  },
  {
   "cell_type": "code",
   "execution_count": 11,
   "metadata": {},
   "outputs": [],
   "source": [
    "world.cemeteries = Cemeteries()"
   ]
  },
  {
   "cell_type": "markdown",
   "metadata": {},
   "source": [
    "# Adding the infection"
   ]
  },
  {
   "cell_type": "markdown",
   "metadata": {},
   "source": [
    "Now, you can play around with different models of infections. The building blocks for an infection are: Transmission and Symptoms. For now, only SymptomsConstant and TransmissionConstant are in a state to be used."
   ]
  },
  {
   "cell_type": "code",
   "execution_count": 12,
   "metadata": {},
   "outputs": [],
   "source": [
    "selector = InfectionSelector.from_file()"
   ]
  },
  {
   "cell_type": "code",
   "execution_count": 13,
   "metadata": {},
   "outputs": [
    {
     "data": {
      "text/plain": [
       "<june.infection.infection.InfectionSelector at 0x7f54edfabdf0>"
      ]
     },
     "execution_count": 13,
     "metadata": {},
     "output_type": "execute_result"
    }
   ],
   "source": [
    "selector"
   ]
  },
  {
   "cell_type": "markdown",
   "metadata": {},
   "source": [
    "# Adding the interaction"
   ]
  },
  {
   "cell_type": "code",
   "execution_count": 14,
   "metadata": {},
   "outputs": [],
   "source": [
    "interaction = ContactAveraging.from_file(selector=selector)\n",
    "#interaction = DefaultInteraction.from_file(selector=selector)"
   ]
  },
  {
   "cell_type": "markdown",
   "metadata": {},
   "source": [
    "Beta are the intensities of the interaction taking place at the different groups"
   ]
  },
  {
   "cell_type": "code",
   "execution_count": 15,
   "metadata": {},
   "outputs": [
    {
     "data": {
      "text/plain": [
       "{'box': 1,\n",
       " 'pub': 0.1,\n",
       " 'grocery': 0.1,\n",
       " 'cinema': 0.1,\n",
       " 'commute_unit': 0.5,\n",
       " 'commute_city_unit': 0.5,\n",
       " 'hospital': 0.5,\n",
       " 'care_home': 0.5,\n",
       " 'company': 0.5,\n",
       " 'school': 0.5,\n",
       " 'household': 0.5}"
      ]
     },
     "execution_count": 15,
     "metadata": {},
     "output_type": "execute_result"
    }
   ],
   "source": [
    "interaction.beta"
   ]
  },
  {
   "cell_type": "markdown",
   "metadata": {},
   "source": [
    "to modify these, simply do"
   ]
  },
  {
   "cell_type": "code",
   "execution_count": 16,
   "metadata": {},
   "outputs": [],
   "source": [
    "interaction.beta['household'] *= 2"
   ]
  },
  {
   "cell_type": "code",
   "execution_count": 17,
   "metadata": {},
   "outputs": [
    {
     "data": {
      "text/plain": [
       "{'box': 1,\n",
       " 'pub': 0.1,\n",
       " 'grocery': 0.1,\n",
       " 'cinema': 0.1,\n",
       " 'commute_unit': 0.5,\n",
       " 'commute_city_unit': 0.5,\n",
       " 'hospital': 0.5,\n",
       " 'care_home': 0.5,\n",
       " 'company': 0.5,\n",
       " 'school': 0.5,\n",
       " 'household': 1.0}"
      ]
     },
     "execution_count": 17,
     "metadata": {},
     "output_type": "execute_result"
    }
   ],
   "source": [
    "interaction.beta"
   ]
  },
  {
   "cell_type": "markdown",
   "metadata": {},
   "source": [
    "moreover this interaction module uses contact matrices, that are different for different groups. These contact matrices shouldnt be modified for now. However they are a combination of conversational contact matrices, and physical contact matrices (see the BBC pandemic paper, from where these matrices are extracted https://www.medrxiv.org/content/10.1101/2020.02.16.20023754v2)\n",
    "\n",
    "There is a parameter, ``alpha`` ($\\alpha$), that combines these two matrices in the following way,\n",
    "\n",
    "\n",
    "$\\beta M \\left(1 + (\\alpha -1) \\right) P$\n",
    "\n",
    "where $\\beta$ is the intensity of the interaction, and $P$ the physical contact matrix. A larger $\\alpha$ produces more physical contacts. It is an overall number, non dependent of the particular group.\n"
   ]
  },
  {
   "cell_type": "code",
   "execution_count": 18,
   "metadata": {},
   "outputs": [
    {
     "data": {
      "text/plain": [
       "2.0"
      ]
     },
     "execution_count": 18,
     "metadata": {},
     "output_type": "execute_result"
    }
   ],
   "source": [
    "interaction.alpha_physical"
   ]
  },
  {
   "cell_type": "code",
   "execution_count": 19,
   "metadata": {},
   "outputs": [],
   "source": [
    "interaction.alpha_physical /= 2"
   ]
  },
  {
   "cell_type": "code",
   "execution_count": 20,
   "metadata": {},
   "outputs": [
    {
     "data": {
      "text/plain": [
       "1.0"
      ]
     },
     "execution_count": 20,
     "metadata": {},
     "output_type": "execute_result"
    }
   ],
   "source": [
    "interaction.alpha_physical"
   ]
  },
  {
   "cell_type": "markdown",
   "metadata": {},
   "source": [
    "# Seed the disease"
   ]
  },
  {
   "cell_type": "markdown",
   "metadata": {},
   "source": [
    "There are two options implemented in the seed at the moment, either you specify the number of cases and these are then homogeneously distributed by population to the different areas, or you use UK data on cases per region. For now use the first case."
   ]
  },
  {
   "cell_type": "code",
   "execution_count": 21,
   "metadata": {},
   "outputs": [],
   "source": [
    "seed = Seed(world.super_areas, selector,)"
   ]
  },
  {
   "cell_type": "code",
   "execution_count": 22,
   "metadata": {},
   "outputs": [],
   "source": [
    "n_cases = 50\n",
    "seed.unleash_virus(n_cases) # play around with the initial number of cases"
   ]
  },
  {
   "cell_type": "markdown",
   "metadata": {},
   "source": [
    "# Set policies"
   ]
  },
  {
   "cell_type": "code",
   "execution_count": 23,
   "metadata": {},
   "outputs": [],
   "source": [
    "social_distance = Policy(policy=\"social_distance\", start_time=datetime(2020, 3, 16), end_time=datetime(2020, 3, 20))"
   ]
  },
  {
   "cell_type": "code",
   "execution_count": 24,
   "metadata": {},
   "outputs": [],
   "source": [
    "policies = Policies.from_file([social_distance])"
   ]
  },
  {
   "cell_type": "code",
   "execution_count": 25,
   "metadata": {},
   "outputs": [
    {
     "data": {
      "text/plain": [
       "{'alpha factor': 1.0,\n",
       " 'beta factor': {'box': 0.5,\n",
       "  'pub': 0.5,\n",
       "  'grocery': 0.5,\n",
       "  'cinema': 0.5,\n",
       "  'commute_unit': 0.5,\n",
       "  'commute_city_unit': 0.5,\n",
       "  'hospital': 0.5,\n",
       "  'care_home': 0.5,\n",
       "  'company': 0.5,\n",
       "  'school': 0.5,\n",
       "  'household': 1.0}}"
      ]
     },
     "execution_count": 25,
     "metadata": {},
     "output_type": "execute_result"
    }
   ],
   "source": [
    "policies.config['social distancing']"
   ]
  },
  {
   "cell_type": "markdown",
   "metadata": {},
   "source": [
    "# Run the simulation"
   ]
  },
  {
   "cell_type": "markdown",
   "metadata": {},
   "source": [
    "Since the timer configuration is a bit cumbersome, it is read from the config file at ``configs/config_example.yaml``"
   ]
  },
  {
   "cell_type": "code",
   "execution_count": 26,
   "metadata": {},
   "outputs": [],
   "source": [
    "CONFIG_PATH = \"../configs/config_example.yaml\"\n",
    "\n",
    "simulator = Simulator.from_file(\n",
    "     world, interaction, selector, \n",
    "    config_filename = CONFIG_PATH,\n",
    "    policies = policies\n",
    ")"
   ]
  },
  {
   "cell_type": "code",
   "execution_count": 27,
   "metadata": {},
   "outputs": [],
   "source": [
    "simulator.timer.reset()"
   ]
  },
  {
   "cell_type": "code",
   "execution_count": 28,
   "metadata": {
    "scrolled": true
   },
   "outputs": [
    {
     "name": "stdout",
     "output_type": "stream",
     "text": [
      "2020-06-09 10:35:41,321 - june.simulator - INFO - Starting group_dynamics for 70 days at day 0\n",
      "2020-06-09 10:35:41,325 - june.simulator - INFO - starting the loop ..., at 0 days, to run for 70 days\n",
      "2020-06-09 10:35:41,416 - june.simulator - INFO - Date = 2020-03-07 12:00:00, number of deaths =  0, number of infected = 50\n",
      "2020-06-09 10:35:43,666 - june.simulator - INFO - Date = 2020-03-08 00:00:00, number of deaths =  0, number of infected = 50\n",
      "2020-06-09 10:35:43,968 - june.simulator - INFO - Date = 2020-03-08 12:00:00, number of deaths =  0, number of infected = 50\n",
      "2020-06-09 10:35:44,189 - june.simulator - INFO - Date = 2020-03-09 00:00:00, number of deaths =  0, number of infected = 50\n",
      "2020-06-09 10:35:44,353 - june.simulator - INFO - Date = 2020-03-09 10:00:00, number of deaths =  0, number of infected = 50\n",
      "2020-06-09 10:35:44,552 - june.simulator - INFO - Date = 2020-03-09 12:00:00, number of deaths =  0, number of infected = 50\n",
      "2020-06-09 10:35:44,778 - june.simulator - INFO - Date = 2020-03-10 00:00:00, number of deaths =  0, number of infected = 50\n",
      "2020-06-09 10:35:44,948 - june.simulator - INFO - Date = 2020-03-10 10:00:00, number of deaths =  0, number of infected = 50\n",
      "2020-06-09 10:35:45,185 - june.simulator - INFO - Date = 2020-03-10 12:00:00, number of deaths =  0, number of infected = 52\n",
      "2020-06-09 10:35:45,408 - june.simulator - INFO - Date = 2020-03-11 00:00:00, number of deaths =  0, number of infected = 70\n",
      "2020-06-09 10:35:45,600 - june.simulator - INFO - Date = 2020-03-11 10:00:00, number of deaths =  0, number of infected = 98\n",
      "2020-06-09 10:35:45,801 - june.simulator - INFO - Date = 2020-03-11 12:00:00, number of deaths =  0, number of infected = 103\n",
      "2020-06-09 10:35:45,981 - june.simulator - INFO - Date = 2020-03-12 00:00:00, number of deaths =  0, number of infected = 122\n",
      "2020-06-09 10:35:46,162 - june.simulator - INFO - Date = 2020-03-12 10:00:00, number of deaths =  0, number of infected = 235\n",
      "2020-06-09 10:35:46,330 - june.simulator - INFO - Date = 2020-03-12 12:00:00, number of deaths =  0, number of infected = 239\n",
      "2020-06-09 10:35:46,541 - june.simulator - INFO - Date = 2020-03-13 00:00:00, number of deaths =  0, number of infected = 256\n",
      "2020-06-09 10:35:46,752 - june.simulator - INFO - Date = 2020-03-13 10:00:00, number of deaths =  0, number of infected = 407\n",
      "2020-06-09 10:35:46,964 - june.simulator - INFO - Date = 2020-03-13 12:00:00, number of deaths =  0, number of infected = 414\n",
      "2020-06-09 10:35:47,670 - june.simulator - INFO - Date = 2020-03-14 00:00:00, number of deaths =  0, number of infected = 442\n",
      "2020-06-09 10:35:47,874 - june.simulator - INFO - Date = 2020-03-14 12:00:00, number of deaths =  0, number of infected = 454\n",
      "2020-06-09 10:35:48,494 - june.simulator - INFO - Date = 2020-03-15 00:00:00, number of deaths =  0, number of infected = 517\n",
      "2020-06-09 10:35:48,693 - june.simulator - INFO - Date = 2020-03-15 12:00:00, number of deaths =  0, number of infected = 542\n",
      "2020-06-09 10:35:48,961 - june.simulator - INFO - Date = 2020-03-16 00:00:00, number of deaths =  0, number of infected = 675\n",
      "2020-06-09 10:35:49,218 - june.simulator - INFO - Date = 2020-03-16 10:00:00, number of deaths =  0, number of infected = 937\n",
      "2020-06-09 10:35:49,450 - june.simulator - INFO - Date = 2020-03-16 12:00:00, number of deaths =  0, number of infected = 966\n",
      "2020-06-09 10:35:49,730 - june.simulator - INFO - Date = 2020-03-17 00:00:00, number of deaths =  0, number of infected = 1129\n",
      "2020-06-09 10:35:49,976 - june.simulator - INFO - Date = 2020-03-17 10:00:00, number of deaths =  0, number of infected = 1270\n",
      "2020-06-09 10:35:50,203 - june.simulator - INFO - Date = 2020-03-17 12:00:00, number of deaths =  0, number of infected = 1295\n",
      "2020-06-09 10:35:50,455 - june.simulator - INFO - Date = 2020-03-18 00:00:00, number of deaths =  0, number of infected = 1392\n",
      "2020-06-09 10:35:50,686 - june.simulator - INFO - Date = 2020-03-18 10:00:00, number of deaths =  0, number of infected = 1519\n",
      "2020-06-09 10:35:50,919 - june.simulator - INFO - Date = 2020-03-18 12:00:00, number of deaths =  0, number of infected = 1548\n",
      "2020-06-09 10:35:51,186 - june.simulator - INFO - Date = 2020-03-19 00:00:00, number of deaths =  0, number of infected = 1666\n",
      "2020-06-09 10:35:51,576 - june.simulator - INFO - Date = 2020-03-19 10:00:00, number of deaths =  0, number of infected = 1851\n",
      "2020-06-09 10:35:51,800 - june.simulator - INFO - Date = 2020-03-19 12:00:00, number of deaths =  0, number of infected = 1896\n",
      "2020-06-09 10:35:52,085 - june.simulator - INFO - Date = 2020-03-20 00:00:00, number of deaths =  0, number of infected = 2095\n",
      "2020-06-09 10:35:52,471 - june.simulator - INFO - Date = 2020-03-20 10:00:00, number of deaths =  0, number of infected = 2565\n",
      "2020-06-09 10:35:52,653 - june.simulator - INFO - Date = 2020-03-20 12:00:00, number of deaths =  0, number of infected = 2624\n",
      "2020-06-09 10:35:53,078 - june.simulator - INFO - Date = 2020-03-21 00:00:00, number of deaths =  0, number of infected = 2824\n",
      "2020-06-09 10:35:53,260 - june.simulator - INFO - Date = 2020-03-21 12:00:00, number of deaths =  0, number of infected = 2880\n",
      "2020-06-09 10:35:53,651 - june.simulator - INFO - Date = 2020-03-22 00:00:00, number of deaths =  0, number of infected = 3085\n",
      "2020-06-09 10:35:53,836 - june.simulator - INFO - Date = 2020-03-22 12:00:00, number of deaths =  0, number of infected = 3134\n",
      "2020-06-09 10:35:54,141 - june.simulator - INFO - Date = 2020-03-23 00:00:00, number of deaths =  0, number of infected = 3469\n",
      "2020-06-09 10:35:54,557 - june.simulator - INFO - Date = 2020-03-23 10:00:00, number of deaths =  0, number of infected = 4142\n",
      "2020-06-09 10:35:54,790 - june.simulator - INFO - Date = 2020-03-23 12:00:00, number of deaths =  0, number of infected = 4206\n",
      "2020-06-09 10:35:55,084 - june.simulator - INFO - Date = 2020-03-24 00:00:00, number of deaths =  0, number of infected = 4480\n",
      "2020-06-09 10:35:55,508 - june.simulator - INFO - Date = 2020-03-24 10:00:00, number of deaths =  1, number of infected = 5179\n",
      "2020-06-09 10:35:55,723 - june.simulator - INFO - Date = 2020-03-24 12:00:00, number of deaths =  1, number of infected = 5211\n",
      "2020-06-09 10:35:55,975 - june.simulator - INFO - Date = 2020-03-25 00:00:00, number of deaths =  1, number of infected = 5332\n",
      "2020-06-09 10:35:56,346 - june.simulator - INFO - Date = 2020-03-25 10:00:00, number of deaths =  2, number of infected = 5811\n",
      "2020-06-09 10:35:56,556 - june.simulator - INFO - Date = 2020-03-25 12:00:00, number of deaths =  2, number of infected = 5850\n",
      "2020-06-09 10:35:56,777 - june.simulator - INFO - Date = 2020-03-26 00:00:00, number of deaths =  2, number of infected = 6064\n",
      "2020-06-09 10:35:57,101 - june.simulator - INFO - Date = 2020-03-26 10:00:00, number of deaths =  3, number of infected = 6539\n",
      "2020-06-09 10:35:57,345 - june.simulator - INFO - Date = 2020-03-26 12:00:00, number of deaths =  3, number of infected = 6618\n",
      "2020-06-09 10:35:57,658 - june.simulator - INFO - Date = 2020-03-27 00:00:00, number of deaths =  3, number of infected = 6974\n",
      "2020-06-09 10:35:58,025 - june.simulator - INFO - Date = 2020-03-27 10:00:00, number of deaths =  5, number of infected = 7426\n",
      "2020-06-09 10:35:58,213 - june.simulator - INFO - Date = 2020-03-27 12:00:00, number of deaths =  5, number of infected = 7509\n",
      "2020-06-09 10:35:58,578 - june.simulator - INFO - Date = 2020-03-28 00:00:00, number of deaths =  5, number of infected = 7842\n",
      "2020-06-09 10:35:58,807 - june.simulator - INFO - Date = 2020-03-28 12:00:00, number of deaths =  6, number of infected = 7894\n",
      "2020-06-09 10:35:59,130 - june.simulator - INFO - Date = 2020-03-29 00:00:00, number of deaths =  6, number of infected = 8192\n",
      "2020-06-09 10:35:59,362 - june.simulator - INFO - Date = 2020-03-29 12:00:00, number of deaths =  7, number of infected = 8217\n",
      "2020-06-09 10:35:59,604 - june.simulator - INFO - Date = 2020-03-30 00:00:00, number of deaths =  7, number of infected = 8525\n",
      "2020-06-09 10:35:59,936 - june.simulator - INFO - Date = 2020-03-30 10:00:00, number of deaths =  11, number of infected = 9016\n",
      "2020-06-09 10:36:00,092 - june.simulator - INFO - Date = 2020-03-30 12:00:00, number of deaths =  11, number of infected = 9070\n",
      "2020-06-09 10:36:00,301 - june.simulator - INFO - Date = 2020-03-31 00:00:00, number of deaths =  11, number of infected = 9253\n"
     ]
    },
    {
     "name": "stdout",
     "output_type": "stream",
     "text": [
      "2020-06-09 10:36:00,602 - june.simulator - INFO - Date = 2020-03-31 10:00:00, number of deaths =  11, number of infected = 9580\n",
      "2020-06-09 10:36:00,780 - june.simulator - INFO - Date = 2020-03-31 12:00:00, number of deaths =  11, number of infected = 9597\n",
      "2020-06-09 10:36:00,981 - june.simulator - INFO - Date = 2020-04-01 00:00:00, number of deaths =  11, number of infected = 9663\n",
      "2020-06-09 10:36:01,434 - june.simulator - INFO - Date = 2020-04-01 10:00:00, number of deaths =  15, number of infected = 9881\n",
      "2020-06-09 10:36:01,616 - june.simulator - INFO - Date = 2020-04-01 12:00:00, number of deaths =  15, number of infected = 9900\n",
      "2020-06-09 10:36:01,791 - june.simulator - INFO - Date = 2020-04-02 00:00:00, number of deaths =  15, number of infected = 9975\n",
      "2020-06-09 10:36:02,072 - june.simulator - INFO - Date = 2020-04-02 10:00:00, number of deaths =  18, number of infected = 10022\n",
      "2020-06-09 10:36:02,224 - june.simulator - INFO - Date = 2020-04-02 12:00:00, number of deaths =  18, number of infected = 10046\n",
      "2020-06-09 10:36:02,400 - june.simulator - INFO - Date = 2020-04-03 00:00:00, number of deaths =  18, number of infected = 10161\n",
      "2020-06-09 10:36:02,658 - june.simulator - INFO - Date = 2020-04-03 10:00:00, number of deaths =  20, number of infected = 10114\n",
      "2020-06-09 10:36:02,809 - june.simulator - INFO - Date = 2020-04-03 12:00:00, number of deaths =  20, number of infected = 10139\n",
      "2020-06-09 10:36:03,063 - june.simulator - INFO - Date = 2020-04-04 00:00:00, number of deaths =  20, number of infected = 10228\n",
      "2020-06-09 10:36:03,304 - june.simulator - INFO - Date = 2020-04-04 12:00:00, number of deaths =  27, number of infected = 10100\n",
      "2020-06-09 10:36:03,515 - june.simulator - INFO - Date = 2020-04-05 00:00:00, number of deaths =  27, number of infected = 10174\n",
      "2020-06-09 10:36:03,755 - june.simulator - INFO - Date = 2020-04-05 12:00:00, number of deaths =  30, number of infected = 10010\n",
      "2020-06-09 10:36:03,929 - june.simulator - INFO - Date = 2020-04-06 00:00:00, number of deaths =  30, number of infected = 10088\n",
      "2020-06-09 10:36:04,201 - june.simulator - INFO - Date = 2020-04-06 10:00:00, number of deaths =  33, number of infected = 9920\n",
      "2020-06-09 10:36:04,355 - june.simulator - INFO - Date = 2020-04-06 12:00:00, number of deaths =  33, number of infected = 9926\n",
      "2020-06-09 10:36:04,519 - june.simulator - INFO - Date = 2020-04-07 00:00:00, number of deaths =  33, number of infected = 9967\n",
      "2020-06-09 10:36:04,769 - june.simulator - INFO - Date = 2020-04-07 10:00:00, number of deaths =  41, number of infected = 9744\n",
      "2020-06-09 10:36:04,918 - june.simulator - INFO - Date = 2020-04-07 12:00:00, number of deaths =  41, number of infected = 9750\n",
      "2020-06-09 10:36:05,074 - june.simulator - INFO - Date = 2020-04-08 00:00:00, number of deaths =  41, number of infected = 9776\n",
      "2020-06-09 10:36:05,304 - june.simulator - INFO - Date = 2020-04-08 10:00:00, number of deaths =  45, number of infected = 9461\n",
      "2020-06-09 10:36:05,464 - june.simulator - INFO - Date = 2020-04-08 12:00:00, number of deaths =  45, number of infected = 9465\n",
      "2020-06-09 10:36:05,658 - june.simulator - INFO - Date = 2020-04-09 00:00:00, number of deaths =  45, number of infected = 9483\n",
      "2020-06-09 10:36:05,947 - june.simulator - INFO - Date = 2020-04-09 10:00:00, number of deaths =  48, number of infected = 9100\n",
      "2020-06-09 10:36:06,110 - june.simulator - INFO - Date = 2020-04-09 12:00:00, number of deaths =  48, number of infected = 9102\n",
      "2020-06-09 10:36:06,280 - june.simulator - INFO - Date = 2020-04-10 00:00:00, number of deaths =  48, number of infected = 9123\n",
      "2020-06-09 10:36:06,594 - june.simulator - INFO - Date = 2020-04-10 10:00:00, number of deaths =  52, number of infected = 8714\n",
      "2020-06-09 10:36:06,774 - june.simulator - INFO - Date = 2020-04-10 12:00:00, number of deaths =  52, number of infected = 8715\n",
      "2020-06-09 10:36:07,013 - june.simulator - INFO - Date = 2020-04-11 00:00:00, number of deaths =  52, number of infected = 8726\n",
      "2020-06-09 10:36:07,280 - june.simulator - INFO - Date = 2020-04-11 12:00:00, number of deaths =  59, number of infected = 8294\n",
      "2020-06-09 10:36:07,522 - june.simulator - INFO - Date = 2020-04-12 00:00:00, number of deaths =  59, number of infected = 8298\n",
      "2020-06-09 10:36:07,763 - june.simulator - INFO - Date = 2020-04-12 12:00:00, number of deaths =  63, number of infected = 7857\n",
      "2020-06-09 10:36:07,927 - june.simulator - INFO - Date = 2020-04-13 00:00:00, number of deaths =  63, number of infected = 7861\n",
      "2020-06-09 10:36:08,175 - june.simulator - INFO - Date = 2020-04-13 10:00:00, number of deaths =  65, number of infected = 7353\n",
      "2020-06-09 10:36:08,334 - june.simulator - INFO - Date = 2020-04-13 12:00:00, number of deaths =  65, number of infected = 7354\n",
      "2020-06-09 10:36:08,522 - june.simulator - INFO - Date = 2020-04-14 00:00:00, number of deaths =  65, number of infected = 7366\n",
      "2020-06-09 10:36:08,739 - june.simulator - INFO - Date = 2020-04-14 10:00:00, number of deaths =  68, number of infected = 6877\n",
      "2020-06-09 10:36:08,873 - june.simulator - INFO - Date = 2020-04-14 12:00:00, number of deaths =  68, number of infected = 6880\n",
      "2020-06-09 10:36:09,010 - june.simulator - INFO - Date = 2020-04-15 00:00:00, number of deaths =  68, number of infected = 6882\n",
      "2020-06-09 10:36:09,207 - june.simulator - INFO - Date = 2020-04-15 10:00:00, number of deaths =  74, number of infected = 6360\n",
      "2020-06-09 10:36:09,336 - june.simulator - INFO - Date = 2020-04-15 12:00:00, number of deaths =  74, number of infected = 6361\n",
      "2020-06-09 10:36:09,474 - june.simulator - INFO - Date = 2020-04-16 00:00:00, number of deaths =  74, number of infected = 6364\n",
      "2020-06-09 10:36:09,663 - june.simulator - INFO - Date = 2020-04-16 10:00:00, number of deaths =  75, number of infected = 5796\n",
      "2020-06-09 10:36:09,788 - june.simulator - INFO - Date = 2020-04-16 12:00:00, number of deaths =  75, number of infected = 5797\n",
      "2020-06-09 10:36:09,917 - june.simulator - INFO - Date = 2020-04-17 00:00:00, number of deaths =  75, number of infected = 5799\n",
      "2020-06-09 10:36:10,127 - june.simulator - INFO - Date = 2020-04-17 10:00:00, number of deaths =  78, number of infected = 5252\n",
      "2020-06-09 10:36:10,268 - june.simulator - INFO - Date = 2020-04-17 12:00:00, number of deaths =  78, number of infected = 5252\n",
      "2020-06-09 10:36:10,471 - june.simulator - INFO - Date = 2020-04-18 00:00:00, number of deaths =  78, number of infected = 5252\n",
      "2020-06-09 10:36:10,664 - june.simulator - INFO - Date = 2020-04-18 12:00:00, number of deaths =  79, number of infected = 4755\n",
      "2020-06-09 10:36:10,863 - june.simulator - INFO - Date = 2020-04-19 00:00:00, number of deaths =  79, number of infected = 4755\n",
      "2020-06-09 10:36:11,026 - june.simulator - INFO - Date = 2020-04-19 12:00:00, number of deaths =  81, number of infected = 4234\n",
      "2020-06-09 10:36:11,158 - june.simulator - INFO - Date = 2020-04-20 00:00:00, number of deaths =  81, number of infected = 4235\n",
      "2020-06-09 10:36:11,321 - june.simulator - INFO - Date = 2020-04-20 10:00:00, number of deaths =  81, number of infected = 3760\n",
      "2020-06-09 10:36:11,449 - june.simulator - INFO - Date = 2020-04-20 12:00:00, number of deaths =  81, number of infected = 3760\n",
      "2020-06-09 10:36:11,569 - june.simulator - INFO - Date = 2020-04-21 00:00:00, number of deaths =  81, number of infected = 3760\n",
      "2020-06-09 10:36:11,728 - june.simulator - INFO - Date = 2020-04-21 10:00:00, number of deaths =  83, number of infected = 3308\n",
      "2020-06-09 10:36:11,857 - june.simulator - INFO - Date = 2020-04-21 12:00:00, number of deaths =  83, number of infected = 3308\n",
      "2020-06-09 10:36:11,997 - june.simulator - INFO - Date = 2020-04-22 00:00:00, number of deaths =  83, number of infected = 3309\n",
      "2020-06-09 10:36:12,141 - june.simulator - INFO - Date = 2020-04-22 10:00:00, number of deaths =  84, number of infected = 2880\n",
      "2020-06-09 10:36:12,259 - june.simulator - INFO - Date = 2020-04-22 12:00:00, number of deaths =  84, number of infected = 2880\n",
      "2020-06-09 10:36:12,398 - june.simulator - INFO - Date = 2020-04-23 00:00:00, number of deaths =  84, number of infected = 2881\n",
      "2020-06-09 10:36:12,549 - june.simulator - INFO - Date = 2020-04-23 10:00:00, number of deaths =  85, number of infected = 2462\n"
     ]
    },
    {
     "name": "stdout",
     "output_type": "stream",
     "text": [
      "2020-06-09 10:36:12,679 - june.simulator - INFO - Date = 2020-04-23 12:00:00, number of deaths =  85, number of infected = 2462\n",
      "2020-06-09 10:36:12,840 - june.simulator - INFO - Date = 2020-04-24 00:00:00, number of deaths =  85, number of infected = 2464\n",
      "2020-06-09 10:36:12,983 - june.simulator - INFO - Date = 2020-04-24 10:00:00, number of deaths =  85, number of infected = 2106\n",
      "2020-06-09 10:36:13,093 - june.simulator - INFO - Date = 2020-04-24 12:00:00, number of deaths =  85, number of infected = 2106\n",
      "2020-06-09 10:36:13,312 - june.simulator - INFO - Date = 2020-04-25 00:00:00, number of deaths =  85, number of infected = 2106\n",
      "2020-06-09 10:36:13,472 - june.simulator - INFO - Date = 2020-04-25 12:00:00, number of deaths =  86, number of infected = 1801\n",
      "2020-06-09 10:36:13,677 - june.simulator - INFO - Date = 2020-04-26 00:00:00, number of deaths =  86, number of infected = 1801\n",
      "2020-06-09 10:36:13,821 - june.simulator - INFO - Date = 2020-04-26 12:00:00, number of deaths =  87, number of infected = 1511\n",
      "2020-06-09 10:36:13,962 - june.simulator - INFO - Date = 2020-04-27 00:00:00, number of deaths =  87, number of infected = 1511\n",
      "2020-06-09 10:36:14,155 - june.simulator - INFO - Date = 2020-04-27 10:00:00, number of deaths =  87, number of infected = 1286\n",
      "2020-06-09 10:36:14,345 - june.simulator - INFO - Date = 2020-04-27 12:00:00, number of deaths =  87, number of infected = 1286\n",
      "2020-06-09 10:36:14,480 - june.simulator - INFO - Date = 2020-04-28 00:00:00, number of deaths =  87, number of infected = 1286\n",
      "2020-06-09 10:36:14,624 - june.simulator - INFO - Date = 2020-04-28 10:00:00, number of deaths =  88, number of infected = 1084\n",
      "2020-06-09 10:36:14,800 - june.simulator - INFO - Date = 2020-04-28 12:00:00, number of deaths =  88, number of infected = 1084\n",
      "2020-06-09 10:36:14,960 - june.simulator - INFO - Date = 2020-04-29 00:00:00, number of deaths =  88, number of infected = 1084\n",
      "2020-06-09 10:36:15,128 - june.simulator - INFO - Date = 2020-04-29 10:00:00, number of deaths =  89, number of infected = 914\n",
      "2020-06-09 10:36:15,263 - june.simulator - INFO - Date = 2020-04-29 12:00:00, number of deaths =  89, number of infected = 914\n",
      "2020-06-09 10:36:15,422 - june.simulator - INFO - Date = 2020-04-30 00:00:00, number of deaths =  89, number of infected = 916\n",
      "2020-06-09 10:36:15,599 - june.simulator - INFO - Date = 2020-04-30 10:00:00, number of deaths =  90, number of infected = 776\n",
      "2020-06-09 10:36:15,739 - june.simulator - INFO - Date = 2020-04-30 12:00:00, number of deaths =  90, number of infected = 776\n",
      "2020-06-09 10:36:15,863 - june.simulator - INFO - Date = 2020-05-01 00:00:00, number of deaths =  90, number of infected = 776\n",
      "2020-06-09 10:36:16,000 - june.simulator - INFO - Date = 2020-05-01 10:00:00, number of deaths =  91, number of infected = 657\n",
      "2020-06-09 10:36:16,122 - june.simulator - INFO - Date = 2020-05-01 12:00:00, number of deaths =  91, number of infected = 658\n",
      "2020-06-09 10:36:16,303 - june.simulator - INFO - Date = 2020-05-02 00:00:00, number of deaths =  91, number of infected = 658\n",
      "2020-06-09 10:36:16,423 - june.simulator - INFO - Date = 2020-05-02 12:00:00, number of deaths =  92, number of infected = 574\n",
      "2020-06-09 10:36:16,745 - june.simulator - INFO - Date = 2020-05-03 00:00:00, number of deaths =  92, number of infected = 574\n",
      "2020-06-09 10:36:16,895 - june.simulator - INFO - Date = 2020-05-03 12:00:00, number of deaths =  92, number of infected = 491\n",
      "2020-06-09 10:36:17,013 - june.simulator - INFO - Date = 2020-05-04 00:00:00, number of deaths =  92, number of infected = 491\n",
      "2020-06-09 10:36:17,179 - june.simulator - INFO - Date = 2020-05-04 10:00:00, number of deaths =  92, number of infected = 423\n",
      "2020-06-09 10:36:17,349 - june.simulator - INFO - Date = 2020-05-04 12:00:00, number of deaths =  92, number of infected = 423\n",
      "2020-06-09 10:36:17,502 - june.simulator - INFO - Date = 2020-05-05 00:00:00, number of deaths =  92, number of infected = 423\n",
      "2020-06-09 10:36:17,648 - june.simulator - INFO - Date = 2020-05-05 10:00:00, number of deaths =  93, number of infected = 372\n",
      "2020-06-09 10:36:17,815 - june.simulator - INFO - Date = 2020-05-05 12:00:00, number of deaths =  93, number of infected = 372\n",
      "2020-06-09 10:36:17,977 - june.simulator - INFO - Date = 2020-05-06 00:00:00, number of deaths =  93, number of infected = 372\n",
      "2020-06-09 10:36:18,130 - june.simulator - INFO - Date = 2020-05-06 10:00:00, number of deaths =  93, number of infected = 330\n",
      "2020-06-09 10:36:18,254 - june.simulator - INFO - Date = 2020-05-06 12:00:00, number of deaths =  93, number of infected = 330\n",
      "2020-06-09 10:36:18,410 - june.simulator - INFO - Date = 2020-05-07 00:00:00, number of deaths =  93, number of infected = 330\n",
      "2020-06-09 10:36:18,571 - june.simulator - INFO - Date = 2020-05-07 10:00:00, number of deaths =  93, number of infected = 282\n",
      "2020-06-09 10:36:18,731 - june.simulator - INFO - Date = 2020-05-07 12:00:00, number of deaths =  93, number of infected = 282\n",
      "2020-06-09 10:36:18,872 - june.simulator - INFO - Date = 2020-05-08 00:00:00, number of deaths =  93, number of infected = 282\n",
      "2020-06-09 10:36:19,014 - june.simulator - INFO - Date = 2020-05-08 10:00:00, number of deaths =  94, number of infected = 251\n",
      "2020-06-09 10:36:19,150 - june.simulator - INFO - Date = 2020-05-08 12:00:00, number of deaths =  94, number of infected = 251\n",
      "2020-06-09 10:36:19,364 - june.simulator - INFO - Date = 2020-05-09 00:00:00, number of deaths =  94, number of infected = 251\n",
      "2020-06-09 10:36:19,520 - june.simulator - INFO - Date = 2020-05-09 12:00:00, number of deaths =  94, number of infected = 224\n",
      "2020-06-09 10:36:19,735 - june.simulator - INFO - Date = 2020-05-10 00:00:00, number of deaths =  94, number of infected = 224\n",
      "2020-06-09 10:36:19,862 - june.simulator - INFO - Date = 2020-05-10 12:00:00, number of deaths =  94, number of infected = 199\n",
      "2020-06-09 10:36:19,996 - june.simulator - INFO - Date = 2020-05-11 00:00:00, number of deaths =  94, number of infected = 199\n",
      "2020-06-09 10:36:20,103 - june.simulator - INFO - Date = 2020-05-11 10:00:00, number of deaths =  94, number of infected = 177\n",
      "2020-06-09 10:36:20,239 - june.simulator - INFO - Date = 2020-05-11 12:00:00, number of deaths =  94, number of infected = 177\n",
      "2020-06-09 10:36:20,359 - june.simulator - INFO - Date = 2020-05-12 00:00:00, number of deaths =  94, number of infected = 177\n",
      "2020-06-09 10:36:20,473 - june.simulator - INFO - Date = 2020-05-12 10:00:00, number of deaths =  94, number of infected = 153\n",
      "2020-06-09 10:36:20,589 - june.simulator - INFO - Date = 2020-05-12 12:00:00, number of deaths =  94, number of infected = 153\n",
      "2020-06-09 10:36:20,716 - june.simulator - INFO - Date = 2020-05-13 00:00:00, number of deaths =  94, number of infected = 153\n",
      "2020-06-09 10:36:20,839 - june.simulator - INFO - Date = 2020-05-13 10:00:00, number of deaths =  94, number of infected = 138\n",
      "2020-06-09 10:36:20,961 - june.simulator - INFO - Date = 2020-05-13 12:00:00, number of deaths =  94, number of infected = 138\n",
      "2020-06-09 10:36:21,093 - june.simulator - INFO - Date = 2020-05-14 00:00:00, number of deaths =  94, number of infected = 138\n",
      "2020-06-09 10:36:21,222 - june.simulator - INFO - Date = 2020-05-14 10:00:00, number of deaths =  94, number of infected = 125\n",
      "2020-06-09 10:36:21,349 - june.simulator - INFO - Date = 2020-05-14 12:00:00, number of deaths =  94, number of infected = 125\n",
      "2020-06-09 10:36:21,478 - june.simulator - INFO - Date = 2020-05-15 00:00:00, number of deaths =  94, number of infected = 125\n",
      "2020-06-09 10:36:21,607 - june.simulator - INFO - Date = 2020-05-15 10:00:00, number of deaths =  94, number of infected = 110\n",
      "2020-06-09 10:36:21,730 - june.simulator - INFO - Date = 2020-05-15 12:00:00, number of deaths =  94, number of infected = 110\n",
      "2020-06-09 10:36:21,885 - june.simulator - INFO - Date = 2020-05-16 00:00:00, number of deaths =  94, number of infected = 110\n",
      "CPU times: user 39.7 s, sys: 430 ms, total: 40.1 s\n",
      "Wall time: 40.6 s\n"
     ]
    }
   ],
   "source": [
    "%%time\n",
    "simulator.run()"
   ]
  },
  {
   "cell_type": "markdown",
   "metadata": {},
   "source": [
    "While the simulation runs (and afterwards) we can launch the visualization webpage by running\n",
    "```python june/visualizer.py path/to/results``` "
   ]
  },
  {
   "cell_type": "markdown",
   "metadata": {},
   "source": [
    "# Getting the results"
   ]
  },
  {
   "cell_type": "markdown",
   "metadata": {},
   "source": [
    "All results are stored in a json file specified in the ``save_path`` variable in the config file. We can also access it from ``world.logger`` directly."
   ]
  },
  {
   "cell_type": "code",
   "execution_count": 29,
   "metadata": {},
   "outputs": [],
   "source": [
    "import pandas as pd"
   ]
  },
  {
   "cell_type": "code",
   "execution_count": 46,
   "metadata": {},
   "outputs": [],
   "source": [
    "read = ReadLogger(light_logger=False)"
   ]
  },
  {
   "cell_type": "markdown",
   "metadata": {},
   "source": [
    "## Hospital data and how it changed over time"
   ]
  },
  {
   "cell_type": "code",
   "execution_count": 32,
   "metadata": {},
   "outputs": [],
   "source": [
    "hospitals_df = read.load_hospital_capacity()"
   ]
  },
  {
   "cell_type": "code",
   "execution_count": 33,
   "metadata": {},
   "outputs": [
    {
     "data": {
      "text/html": [
       "<div>\n",
       "<style scoped>\n",
       "    .dataframe tbody tr th:only-of-type {\n",
       "        vertical-align: middle;\n",
       "    }\n",
       "\n",
       "    .dataframe tbody tr th {\n",
       "        vertical-align: top;\n",
       "    }\n",
       "\n",
       "    .dataframe thead th {\n",
       "        text-align: right;\n",
       "    }\n",
       "</style>\n",
       "<table border=\"1\" class=\"dataframe\">\n",
       "  <thead>\n",
       "    <tr style=\"text-align: right;\">\n",
       "      <th></th>\n",
       "      <th>time_stamp</th>\n",
       "      <th>id</th>\n",
       "      <th>n_patients</th>\n",
       "      <th>n_patients_icu</th>\n",
       "    </tr>\n",
       "  </thead>\n",
       "  <tbody>\n",
       "    <tr>\n",
       "      <th>0</th>\n",
       "      <td>2020-03-07T12:00:00.000000</td>\n",
       "      <td>0</td>\n",
       "      <td>0</td>\n",
       "      <td>0</td>\n",
       "    </tr>\n",
       "    <tr>\n",
       "      <th>1</th>\n",
       "      <td>2020-03-08T00:00:00.000000</td>\n",
       "      <td>0</td>\n",
       "      <td>0</td>\n",
       "      <td>0</td>\n",
       "    </tr>\n",
       "    <tr>\n",
       "      <th>2</th>\n",
       "      <td>2020-03-08T12:00:00.000000</td>\n",
       "      <td>0</td>\n",
       "      <td>0</td>\n",
       "      <td>0</td>\n",
       "    </tr>\n",
       "  </tbody>\n",
       "</table>\n",
       "</div>"
      ],
      "text/plain": [
       "                   time_stamp id n_patients n_patients_icu\n",
       "0  2020-03-07T12:00:00.000000  0          0              0\n",
       "1  2020-03-08T00:00:00.000000  0          0              0\n",
       "2  2020-03-08T12:00:00.000000  0          0              0"
      ]
     },
     "execution_count": 33,
     "metadata": {},
     "output_type": "execute_result"
    }
   ],
   "source": [
    "hospitals_df.head(3)"
   ]
  },
  {
   "cell_type": "code",
   "execution_count": 34,
   "metadata": {},
   "outputs": [],
   "source": [
    "hospitals_characteristics_df = read.load_hospital_characteristics()"
   ]
  },
  {
   "cell_type": "code",
   "execution_count": 35,
   "metadata": {},
   "outputs": [
    {
     "data": {
      "text/html": [
       "<div>\n",
       "<style scoped>\n",
       "    .dataframe tbody tr th:only-of-type {\n",
       "        vertical-align: middle;\n",
       "    }\n",
       "\n",
       "    .dataframe tbody tr th {\n",
       "        vertical-align: top;\n",
       "    }\n",
       "\n",
       "    .dataframe thead th {\n",
       "        text-align: right;\n",
       "    }\n",
       "</style>\n",
       "<table border=\"1\" class=\"dataframe\">\n",
       "  <thead>\n",
       "    <tr style=\"text-align: right;\">\n",
       "      <th></th>\n",
       "      <th>longitude</th>\n",
       "      <th>latitude</th>\n",
       "      <th>n_beds</th>\n",
       "      <th>n_icu_beds</th>\n",
       "    </tr>\n",
       "  </thead>\n",
       "  <tbody>\n",
       "    <tr>\n",
       "      <th>0</th>\n",
       "      <td>-1.581055</td>\n",
       "      <td>54.9375</td>\n",
       "      <td>485</td>\n",
       "      <td>21</td>\n",
       "    </tr>\n",
       "  </tbody>\n",
       "</table>\n",
       "</div>"
      ],
      "text/plain": [
       "   longitude  latitude  n_beds  n_icu_beds\n",
       "0  -1.581055   54.9375     485          21"
      ]
     },
     "execution_count": 35,
     "metadata": {},
     "output_type": "execute_result"
    }
   ],
   "source": [
    "hospitals_characteristics_df"
   ]
  },
  {
   "cell_type": "markdown",
   "metadata": {},
   "source": [
    "## where did infections happen?"
   ]
  },
  {
   "cell_type": "code",
   "execution_count": 36,
   "metadata": {},
   "outputs": [],
   "source": [
    "loc_df = read.get_locations_infections()"
   ]
  },
  {
   "cell_type": "code",
   "execution_count": 37,
   "metadata": {},
   "outputs": [
    {
     "data": {
      "text/plain": [
       "Text(0.5, 0, 'location')"
      ]
     },
     "execution_count": 37,
     "metadata": {},
     "output_type": "execute_result"
    },
    {
     "data": {
      "image/png": "[encoded data removed]",
      "text/plain": [
       "<Figure size 432x288 with 1 Axes>"
      ]
     },
     "metadata": {
      "needs_background": "light"
     },
     "output_type": "display_data"
    }
   ],
   "source": [
    "import matplotlib.ticker as mtick\n",
    "\n",
    "ax = loc_df['percentage_infections'].sort_values().plot.bar()\n",
    "ax.yaxis.set_major_formatter(mtick.PercentFormatter())\n",
    "plt.ylabel('Percentage of infections at location')\n",
    "plt.xlabel('location')"
   ]
  },
  {
   "cell_type": "markdown",
   "metadata": {},
   "source": [
    "## rate of infection"
   ]
  },
  {
   "cell_type": "code",
   "execution_count": 38,
   "metadata": {},
   "outputs": [
    {
     "data": {
      "text/html": [
       "<div>\n",
       "<style scoped>\n",
       "    .dataframe tbody tr th:only-of-type {\n",
       "        vertical-align: middle;\n",
       "    }\n",
       "\n",
       "    .dataframe tbody tr th {\n",
       "        vertical-align: top;\n",
       "    }\n",
       "\n",
       "    .dataframe thead th {\n",
       "        text-align: right;\n",
       "    }\n",
       "</style>\n",
       "<table border=\"1\" class=\"dataframe\">\n",
       "  <thead>\n",
       "    <tr style=\"text-align: right;\">\n",
       "      <th></th>\n",
       "      <th>infected_id</th>\n",
       "      <th>symptoms</th>\n",
       "      <th>n_secondary_infections</th>\n",
       "    </tr>\n",
       "    <tr>\n",
       "      <th>time_stamp</th>\n",
       "      <th></th>\n",
       "      <th></th>\n",
       "      <th></th>\n",
       "    </tr>\n",
       "  </thead>\n",
       "  <tbody>\n",
       "    <tr>\n",
       "      <th>2020-03-08</th>\n",
       "      <td>[1038, 1060, 1085, 1288, 2067, 2385, 2391, 325...</td>\n",
       "      <td>[-1, -1, -1, -1, -1, -1, -1, -1, -1, -1, -1, -...</td>\n",
       "      <td>[0, 0, 0, 0, 0, 0, 0, 0, 0, 0, 0, 0, 0, 0, 0, ...</td>\n",
       "    </tr>\n",
       "    <tr>\n",
       "      <th>2020-03-09</th>\n",
       "      <td>[1038, 1060, 1085, 1288, 2067, 2385, 2391, 325...</td>\n",
       "      <td>[-1, -1, -1, 1, -1, -1, -1, -1, -1, -1, -1, 1,...</td>\n",
       "      <td>[0, 0, 0, 0, 0, 0, 0, 0, 0, 0, 0, 0, 0, 0, 0, ...</td>\n",
       "    </tr>\n",
       "    <tr>\n",
       "      <th>2020-03-10</th>\n",
       "      <td>[1038, 1060, 1085, 1288, 2067, 2385, 2391, 325...</td>\n",
       "      <td>[0, -1, -1, 1, -1, -1, -1, 0, -1, -1, -1, 1, -...</td>\n",
       "      <td>[0, 0, 0, 0, 0, 0, 0, 0, 0, 0, 0, 0, 0, 0, 0, ...</td>\n",
       "    </tr>\n",
       "    <tr>\n",
       "      <th>2020-03-11</th>\n",
       "      <td>[653, 926, 1015, 1021, 1038, 1060, 1085, 1220,...</td>\n",
       "      <td>[-1, 1, -1, -1, 0, -1, -1, -1, -1, 1, -1, -1, ...</td>\n",
       "      <td>[0, 0, 0, 0, 1, 0, 1, 0, 0, 1, 0, 0, 0, 1, 0, ...</td>\n",
       "    </tr>\n",
       "    <tr>\n",
       "      <th>2020-03-12</th>\n",
       "      <td>[27, 37, 39, 321, 335, 351, 628, 638, 642, 653...</td>\n",
       "      <td>[-1, -1, -1, -1, -1, -1, -1, -1, -1, -1, -1, -...</td>\n",
       "      <td>[0, 0, 0, 0, 0, 0, 0, 0, 0, 0, 0, 0, 0, 0, 0, ...</td>\n",
       "    </tr>\n",
       "    <tr>\n",
       "      <th>...</th>\n",
       "      <td>...</td>\n",
       "      <td>...</td>\n",
       "      <td>...</td>\n",
       "    </tr>\n",
       "    <tr>\n",
       "      <th>2020-05-12</th>\n",
       "      <td>[167, 189, 214, 302, 431, 494, 728, 798, 836, ...</td>\n",
       "      <td>[3, 3, 3, 3, 3, 3, 3, 3, 3, 3, 3, 3, 3, -3, 3,...</td>\n",
       "      <td>[0, 0, 1, 0, 0, 1, 0, 1, 1, 0, 0, 0, 0, 0, 0, ...</td>\n",
       "    </tr>\n",
       "    <tr>\n",
       "      <th>2020-05-13</th>\n",
       "      <td>[167, 189, 214, 302, 431, 494, 728, 798, 836, ...</td>\n",
       "      <td>[3, 3, 3, 3, 3, 3, 3, 3, 3, -3, 3, 3, 3, 3, 3,...</td>\n",
       "      <td>[0, 0, 1, 0, 0, 1, 0, 1, 1, 0, 0, 0, 0, 0, 1, ...</td>\n",
       "    </tr>\n",
       "    <tr>\n",
       "      <th>2020-05-14</th>\n",
       "      <td>[167, 189, 214, 302, 431, 494, 728, 798, 836, ...</td>\n",
       "      <td>[3, 3, -3, 3, 3, 3, 3, 3, 3, 3, 3, 3, 3, 3, 3,...</td>\n",
       "      <td>[0, 0, 1, 0, 0, 1, 0, 1, 1, 0, 0, 0, 0, 1, 0, ...</td>\n",
       "    </tr>\n",
       "    <tr>\n",
       "      <th>2020-05-15</th>\n",
       "      <td>[167, 189, 302, 431, 494, 728, 798, 836, 854, ...</td>\n",
       "      <td>[3, 3, 3, 3, 3, 3, 3, 3, 3, 3, 3, 3, 3, 3, 3, ...</td>\n",
       "      <td>[0, 0, 0, 0, 1, 0, 1, 1, 0, 0, 0, 0, 1, 0, 1, ...</td>\n",
       "    </tr>\n",
       "    <tr>\n",
       "      <th>2020-05-16</th>\n",
       "      <td>[167, 189, 302, 431, 494, 728, 798, 836, 854, ...</td>\n",
       "      <td>[3, 3, 3, 3, 3, 3, 3, 3, 3, 3, -3, 3, 3, 3, 3,...</td>\n",
       "      <td>[0, 0, 0, 0, 1, 0, 1, 1, 0, 0, 0, 0, 1, 0, 1, ...</td>\n",
       "    </tr>\n",
       "  </tbody>\n",
       "</table>\n",
       "<p>70 rows × 3 columns</p>\n",
       "</div>"
      ],
      "text/plain": [
       "                                                  infected_id  \\\n",
       "time_stamp                                                      \n",
       "2020-03-08  [1038, 1060, 1085, 1288, 2067, 2385, 2391, 325...   \n",
       "2020-03-09  [1038, 1060, 1085, 1288, 2067, 2385, 2391, 325...   \n",
       "2020-03-10  [1038, 1060, 1085, 1288, 2067, 2385, 2391, 325...   \n",
       "2020-03-11  [653, 926, 1015, 1021, 1038, 1060, 1085, 1220,...   \n",
       "2020-03-12  [27, 37, 39, 321, 335, 351, 628, 638, 642, 653...   \n",
       "...                                                       ...   \n",
       "2020-05-12  [167, 189, 214, 302, 431, 494, 728, 798, 836, ...   \n",
       "2020-05-13  [167, 189, 214, 302, 431, 494, 728, 798, 836, ...   \n",
       "2020-05-14  [167, 189, 214, 302, 431, 494, 728, 798, 836, ...   \n",
       "2020-05-15  [167, 189, 302, 431, 494, 728, 798, 836, 854, ...   \n",
       "2020-05-16  [167, 189, 302, 431, 494, 728, 798, 836, 854, ...   \n",
       "\n",
       "                                                     symptoms  \\\n",
       "time_stamp                                                      \n",
       "2020-03-08  [-1, -1, -1, -1, -1, -1, -1, -1, -1, -1, -1, -...   \n",
       "2020-03-09  [-1, -1, -1, 1, -1, -1, -1, -1, -1, -1, -1, 1,...   \n",
       "2020-03-10  [0, -1, -1, 1, -1, -1, -1, 0, -1, -1, -1, 1, -...   \n",
       "2020-03-11  [-1, 1, -1, -1, 0, -1, -1, -1, -1, 1, -1, -1, ...   \n",
       "2020-03-12  [-1, -1, -1, -1, -1, -1, -1, -1, -1, -1, -1, -...   \n",
       "...                                                       ...   \n",
       "2020-05-12  [3, 3, 3, 3, 3, 3, 3, 3, 3, 3, 3, 3, 3, -3, 3,...   \n",
       "2020-05-13  [3, 3, 3, 3, 3, 3, 3, 3, 3, -3, 3, 3, 3, 3, 3,...   \n",
       "2020-05-14  [3, 3, -3, 3, 3, 3, 3, 3, 3, 3, 3, 3, 3, 3, 3,...   \n",
       "2020-05-15  [3, 3, 3, 3, 3, 3, 3, 3, 3, 3, 3, 3, 3, 3, 3, ...   \n",
       "2020-05-16  [3, 3, 3, 3, 3, 3, 3, 3, 3, 3, -3, 3, 3, 3, 3,...   \n",
       "\n",
       "                                       n_secondary_infections  \n",
       "time_stamp                                                     \n",
       "2020-03-08  [0, 0, 0, 0, 0, 0, 0, 0, 0, 0, 0, 0, 0, 0, 0, ...  \n",
       "2020-03-09  [0, 0, 0, 0, 0, 0, 0, 0, 0, 0, 0, 0, 0, 0, 0, ...  \n",
       "2020-03-10  [0, 0, 0, 0, 0, 0, 0, 0, 0, 0, 0, 0, 0, 0, 0, ...  \n",
       "2020-03-11  [0, 0, 0, 0, 1, 0, 1, 0, 0, 1, 0, 0, 0, 1, 0, ...  \n",
       "2020-03-12  [0, 0, 0, 0, 0, 0, 0, 0, 0, 0, 0, 0, 0, 0, 0, ...  \n",
       "...                                                       ...  \n",
       "2020-05-12  [0, 0, 1, 0, 0, 1, 0, 1, 1, 0, 0, 0, 0, 0, 0, ...  \n",
       "2020-05-13  [0, 0, 1, 0, 0, 1, 0, 1, 1, 0, 0, 0, 0, 0, 1, ...  \n",
       "2020-05-14  [0, 0, 1, 0, 0, 1, 0, 1, 1, 0, 0, 0, 0, 1, 0, ...  \n",
       "2020-05-15  [0, 0, 0, 0, 1, 0, 1, 1, 0, 0, 0, 0, 1, 0, 1, ...  \n",
       "2020-05-16  [0, 0, 0, 0, 1, 0, 1, 1, 0, 0, 0, 0, 1, 0, 1, ...  \n",
       "\n",
       "[70 rows x 3 columns]"
      ]
     },
     "execution_count": 38,
     "metadata": {},
     "output_type": "execute_result"
    }
   ],
   "source": [
    "read.infections_df"
   ]
  },
  {
   "cell_type": "code",
   "execution_count": 39,
   "metadata": {},
   "outputs": [],
   "source": [
    "r_df = read.get_r()"
   ]
  },
  {
   "cell_type": "code",
   "execution_count": 40,
   "metadata": {},
   "outputs": [
    {
     "data": {
      "text/html": [
       "<div>\n",
       "<style scoped>\n",
       "    .dataframe tbody tr th:only-of-type {\n",
       "        vertical-align: middle;\n",
       "    }\n",
       "\n",
       "    .dataframe tbody tr th {\n",
       "        vertical-align: top;\n",
       "    }\n",
       "\n",
       "    .dataframe thead th {\n",
       "        text-align: right;\n",
       "    }\n",
       "</style>\n",
       "<table border=\"1\" class=\"dataframe\">\n",
       "  <thead>\n",
       "    <tr style=\"text-align: right;\">\n",
       "      <th></th>\n",
       "      <th>value</th>\n",
       "    </tr>\n",
       "    <tr>\n",
       "      <th>time_stamp</th>\n",
       "      <th></th>\n",
       "    </tr>\n",
       "  </thead>\n",
       "  <tbody>\n",
       "    <tr>\n",
       "      <th>2020-03-08</th>\n",
       "      <td>NaN</td>\n",
       "    </tr>\n",
       "    <tr>\n",
       "      <th>2020-03-09</th>\n",
       "      <td>NaN</td>\n",
       "    </tr>\n",
       "    <tr>\n",
       "      <th>2020-03-10</th>\n",
       "      <td>NaN</td>\n",
       "    </tr>\n",
       "    <tr>\n",
       "      <th>2020-03-11</th>\n",
       "      <td>NaN</td>\n",
       "    </tr>\n",
       "    <tr>\n",
       "      <th>2020-03-12</th>\n",
       "      <td>NaN</td>\n",
       "    </tr>\n",
       "    <tr>\n",
       "      <th>...</th>\n",
       "      <td>...</td>\n",
       "    </tr>\n",
       "    <tr>\n",
       "      <th>2020-05-12</th>\n",
       "      <td>0.417808</td>\n",
       "    </tr>\n",
       "    <tr>\n",
       "      <th>2020-05-13</th>\n",
       "      <td>0.446970</td>\n",
       "    </tr>\n",
       "    <tr>\n",
       "      <th>2020-05-14</th>\n",
       "      <td>0.478992</td>\n",
       "    </tr>\n",
       "    <tr>\n",
       "      <th>2020-05-15</th>\n",
       "      <td>0.476190</td>\n",
       "    </tr>\n",
       "    <tr>\n",
       "      <th>2020-05-16</th>\n",
       "      <td>0.468085</td>\n",
       "    </tr>\n",
       "  </tbody>\n",
       "</table>\n",
       "<p>70 rows × 1 columns</p>\n",
       "</div>"
      ],
      "text/plain": [
       "               value\n",
       "time_stamp          \n",
       "2020-03-08       NaN\n",
       "2020-03-09       NaN\n",
       "2020-03-10       NaN\n",
       "2020-03-11       NaN\n",
       "2020-03-12       NaN\n",
       "...              ...\n",
       "2020-05-12  0.417808\n",
       "2020-05-13  0.446970\n",
       "2020-05-14  0.478992\n",
       "2020-05-15  0.476190\n",
       "2020-05-16  0.468085\n",
       "\n",
       "[70 rows x 1 columns]"
      ]
     },
     "execution_count": 40,
     "metadata": {},
     "output_type": "execute_result"
    }
   ],
   "source": [
    "r_df"
   ]
  },
  {
   "cell_type": "code",
   "execution_count": 41,
   "metadata": {},
   "outputs": [
    {
     "data": {
      "text/plain": [
       "Text(0, 0.5, 'R')"
      ]
     },
     "execution_count": 41,
     "metadata": {},
     "output_type": "execute_result"
    },
    {
     "data": {
      "image/png": "[encoded data removed]",
      "text/plain": [
       "<Figure size 432x288 with 1 Axes>"
      ]
     },
     "metadata": {
      "needs_background": "light"
     },
     "output_type": "display_data"
    }
   ],
   "source": [
    "r_df.plot()\n",
    "plt.axhline(y=1, linestyle='dashed', color='gray')\n",
    "plt.xlabel('Date')\n",
    "plt.ylabel('R')"
   ]
  },
  {
   "cell_type": "markdown",
   "metadata": {},
   "source": [
    "## World infection curves, and by super area"
   ]
  },
  {
   "cell_type": "code",
   "execution_count": 42,
   "metadata": {},
   "outputs": [],
   "source": [
    "world_df = read.world_summary()"
   ]
  },
  {
   "cell_type": "code",
   "execution_count": 43,
   "metadata": {},
   "outputs": [
    {
     "data": {
      "text/plain": [
       "<matplotlib.legend.Legend at 0x7f54aca04a60>"
      ]
     },
     "execution_count": 43,
     "metadata": {},
     "output_type": "execute_result"
    },
    {
     "data": {
      "image/png": "[encoded data removed]",
      "text/plain": [
       "<Figure size 432x288 with 1 Axes>"
      ]
     },
     "metadata": {
      "needs_background": "light"
     },
     "output_type": "display_data"
    }
   ],
   "source": [
    "world_df.plot()\n",
    "plt.legend()"
   ]
  },
  {
   "cell_type": "code",
   "execution_count": 47,
   "metadata": {},
   "outputs": [],
   "source": [
    "area_df = read.super_area_summary()"
   ]
  },
  {
   "cell_type": "code",
   "execution_count": 50,
   "metadata": {},
   "outputs": [
    {
     "data": {
      "text/plain": [
       "<matplotlib.legend.Legend at 0x7f54a6c35580>"
      ]
     },
     "execution_count": 50,
     "metadata": {},
     "output_type": "execute_result"
    },
    {
     "data": {
      "image/png": "[encoded data removed]",
      "text/plain": [
       "<Figure size 432x288 with 1 Axes>"
      ]
     },
     "metadata": {
      "needs_background": "light"
     },
     "output_type": "display_data"
    }
   ],
   "source": [
    "area_df[area_df.super_area == \"E02002512\"].plot()\n",
    "plt.legend()"
   ]
  },
  {
   "cell_type": "code",
   "execution_count": 51,
   "metadata": {},
   "outputs": [
    {
     "data": {
      "text/plain": [
       "<matplotlib.legend.Legend at 0x7f54a6aeea30>"
      ]
     },
     "execution_count": 51,
     "metadata": {},
     "output_type": "execute_result"
    },
    {
     "data": {
      "image/png": "[encoded data removed]",
      "text/plain": [
       "<Figure size 432x288 with 1 Axes>"
      ]
     },
     "metadata": {
      "needs_background": "light"
     },
     "output_type": "display_data"
    }
   ],
   "source": [
    "area_df[area_df.super_area == \"E02001697\"].plot()\n",
    "plt.legend()"
   ]
  },
  {
   "cell_type": "markdown",
   "metadata": {},
   "source": [
    "## World infection curves per age group"
   ]
  },
  {
   "cell_type": "code",
   "execution_count": 52,
   "metadata": {},
   "outputs": [],
   "source": [
    "ages_df = read.age_summary([0,10,20,30,40,\n",
    "                  50,60,70,80,90,100])"
   ]
  },
  {
   "cell_type": "code",
   "execution_count": 53,
   "metadata": {},
   "outputs": [
    {
     "data": {
      "text/plain": [
       "<matplotlib.legend.Legend at 0x7f54a66c7640>"
      ]
     },
     "execution_count": 53,
     "metadata": {},
     "output_type": "execute_result"
    },
    {
     "data": {
      "image/png": "[encoded data removed]",
      "text/plain": [
       "<Figure size 432x288 with 1 Axes>"
      ]
     },
     "metadata": {
      "needs_background": "light"
     },
     "output_type": "display_data"
    }
   ],
   "source": [
    "for name, group in ages_df.groupby('age_range'):\n",
    "    group['infected'].plot(label=name)\n",
    "plt.legend()"
   ]
  },
  {
   "cell_type": "code",
   "execution_count": 61,
   "metadata": {},
   "outputs": [
    {
     "data": {
      "text/plain": [
       "<matplotlib.legend.Legend at 0x7f54a6c47910>"
      ]
     },
     "execution_count": 61,
     "metadata": {},
     "output_type": "execute_result"
    },
    {
     "data": {
      "image/png": "[encoded data removed]",
      "text/plain": [
       "<Figure size 432x288 with 1 Axes>"
      ]
     },
     "metadata": {
      "needs_background": "light"
     },
     "output_type": "display_data"
    }
   ],
   "source": [
    "for name, group in ages_df.groupby('age_range'):\n",
    "    group['dead'].cumsum().plot(label=name)\n",
    "plt.legend()"
   ]
  },
  {
   "cell_type": "markdown",
   "metadata": {},
   "source": [
    "## Draw some of the symptoms trajectories"
   ]
  },
  {
   "cell_type": "code",
   "execution_count": 54,
   "metadata": {},
   "outputs": [],
   "source": [
    "random_trajectories = read.draw_symptom_trajectories(window_length=100,\n",
    "                                        n_people=5)"
   ]
  },
  {
   "cell_type": "code",
   "execution_count": 55,
   "metadata": {},
   "outputs": [],
   "source": [
    "from june.infection import SymptomTag"
   ]
  },
  {
   "cell_type": "code",
   "execution_count": 56,
   "metadata": {},
   "outputs": [],
   "source": [
    "symptoms_values = [tag.value for tag in SymptomTag]\n",
    "symptoms_names = [tag.name for tag in SymptomTag]\n"
   ]
  },
  {
   "cell_type": "code",
   "execution_count": 57,
   "metadata": {},
   "outputs": [
    {
     "data": {
      "text/plain": [
       "Text(0.5, 0, 'Date')"
      ]
     },
     "execution_count": 57,
     "metadata": {},
     "output_type": "execute_result"
    },
    {
     "data": {
      "image/png": "[encoded data removed]",
      "text/plain": [
       "<Figure size 432x288 with 1 Axes>"
      ]
     },
     "metadata": {
      "needs_background": "light"
     },
     "output_type": "display_data"
    }
   ],
   "source": [
    "for df_person in random_trajectories:\n",
    "    df_person['symptoms'].plot()\n",
    "plt.ylabel('Symptoms Trajectory')\n",
    "_ = plt.yticks(symptoms_values, symptoms_names)\n",
    "plt.xlabel('Date')"
   ]
  },
  {
   "cell_type": "code",
   "execution_count": 58,
   "metadata": {},
   "outputs": [
    {
     "data": {
      "text/plain": [
       "Text(0.5, 0, 'Date')"
      ]
     },
     "execution_count": 58,
     "metadata": {},
     "output_type": "execute_result"
    },
    {
     "data": {
      "image/png": "[encoded data removed]",
      "text/plain": [
       "<Figure size 432x288 with 1 Axes>"
      ]
     },
     "metadata": {
      "needs_background": "light"
     },
     "output_type": "display_data"
    }
   ],
   "source": [
    "for df_person in random_trajectories:\n",
    "    df_person['n_secondary_infections'].plot()\n",
    "plt.ylabel('Number of secondary infections')\n",
    "\n",
    "plt.xlabel('Date')"
   ]
  },
  {
   "cell_type": "code",
   "execution_count": null,
   "metadata": {},
   "outputs": [],
   "source": []
  },
  {
   "cell_type": "code",
   "execution_count": null,
   "metadata": {},
   "outputs": [],
   "source": []
  },
  {
   "cell_type": "code",
   "execution_count": null,
   "metadata": {},
   "outputs": [],
   "source": []
  }
 ],
 "metadata": {
  "kernelspec": {
   "display_name": "Python 3",
   "language": "python",
   "name": "python3"
  },
  "language_info": {
   "codemirror_mode": {
    "name": "ipython",
    "version": 3
   },
   "file_extension": ".py",
   "mimetype": "text/x-python",
   "name": "python",
   "nbconvert_exporter": "python",
   "pygments_lexer": "ipython3",
   "version": "3.8.3"
  }
 },
 "nbformat": 4,
 "nbformat_minor": 4
}
