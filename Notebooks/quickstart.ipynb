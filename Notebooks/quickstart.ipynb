{
 "cells": [
  {
   "cell_type": "code",
   "execution_count": 1,
   "metadata": {},
   "outputs": [],
   "source": [
    "%load_ext autoreload\n",
    "%autoreload 2"
   ]
  },
  {
   "cell_type": "code",
   "execution_count": 2,
   "metadata": {},
   "outputs": [],
   "source": [
    "import warnings\n",
    "warnings.filterwarnings('ignore')"
   ]
  },
  {
   "cell_type": "code",
   "execution_count": 3,
   "metadata": {},
   "outputs": [],
   "source": [
    "import numpy as np\n",
    "import time\n",
    "from datetime import datetime\n",
    "import matplotlib.pyplot as plt\n",
    "import seaborn as sns\n",
    "sns.set_context('notebook')"
   ]
  },
  {
   "cell_type": "code",
   "execution_count": 4,
   "metadata": {},
   "outputs": [
    {
     "name": "stderr",
     "output_type": "stream",
     "text": [
      "No --data argument given - defaulting to:\n",
      "/home/arnau/code/JUNE/data\n",
      "No --configs argument given - defaulting to:\n",
      "/home/arnau/code/JUNE/configs\n"
     ]
    }
   ],
   "source": [
    "from june import World \n",
    "from june.demography.geography import Geography\n",
    "from june.demography import Demography\n",
    "from june.interaction import ContactAveraging\n",
    "from june.infection import Infection\n",
    "from june.infection.symptoms import SymptomsConstant\n",
    "from june.infection.transmission import TransmissionConstant\n",
    "from june.groups import Hospitals, Schools, Companies, Households, CareHomes, Cemeteries, Universities\n",
    "from june.groups.leisure import leisure, Cinemas, Pubs, Groceries\n",
    "from june.simulator import Simulator\n",
    "from june.seed import Seed\n",
    "from june.policy import Policy, Policies\n",
    "from june import paths\n",
    "from june.logger.read_logger import ReadLogger\n",
    "from june.infection.infection import InfectionSelector\n",
    "from june.world import generate_world_from_hdf5, generate_world_from_geography"
   ]
  },
  {
   "cell_type": "markdown",
   "metadata": {},
   "source": [
    "# Initialize world\n",
    "\n",
    "To initialize a certain world, we need to add the different components we want to have in it. First we specify what super areas (msoa) we want to create. We have included these ones, because they are known to contain hospitals, schools, care homes, and companies.\n",
    "\n",
    "After creating the geography, we create the different components the worlds need to have such as care homes, companies ..."
   ]
  },
  {
   "cell_type": "code",
   "execution_count": 9,
   "metadata": {},
   "outputs": [
    {
     "name": "stdout",
     "output_type": "stream",
     "text": [
      "2020-06-16 23:23:36,777 - june.demography.geography - INFO - There are 129 areas and 5 super_areas in the world.\n",
      "2020-06-16 23:23:36,791 - june.groups.hospital - INFO - There are 1 hospitals in this geography.\n",
      "2020-06-16 23:23:36,870 - june.groups.school - INFO - There are 19 schools in this geography.\n",
      "2020-06-16 23:23:36,961 - june.groups.school - INFO - No school for the age 0 in this world.\n",
      "2020-06-16 23:23:36,995 - june.groups.school - INFO - No school for the age 1 in this world.\n",
      "2020-06-16 23:23:37,016 - june.groups.school - INFO - No school for the age 2 in this world.\n",
      "2020-06-16 23:23:37,563 - june.groups.carehome - INFO - There are 9 care_homes in this geography.\n",
      "2020-06-16 23:23:55,253 - june.distributors.worker_distributor - INFO - There are 0 who had to be told to stay real\n",
      "CPU times: user 21.1 s, sys: 1.12 s, total: 22.2 s\n",
      "Wall time: 27.3 s\n"
     ]
    }
   ],
   "source": [
    "%%time\n",
    "#geography = Geography.from_file({\n",
    "#                                \"super_area\": \n",
    "#                                          [\"E02003282\",\n",
    "#                                          \"E00088544\", \n",
    "#                                          \"E02002560\", \n",
    "#                                          \"E02002559\"]\n",
    "#                                }\n",
    "#                                )\n",
    "geography = Geography.from_file(\n",
    "        {\n",
    "            \"super_area\": [\n",
    "                \"E02003282\",\n",
    "                \"E02001720\",\n",
    "                \"E00088544\",\n",
    "                \"E02002560\",\n",
    "                \"E02002559\",\n",
    "                \"E02004314\",\n",
    "            ]\n",
    "        }\n",
    ")\n",
    "\n",
    "geography.hospitals = Hospitals.for_geography(geography)\n",
    "geography.schools = Schools.for_geography(geography)\n",
    "geography.companies = Companies.for_geography(geography)\n",
    "geography.care_homes = CareHomes.for_geography(geography)\n",
    "geography.universities = Universities.for_super_areas(geography.super_areas)\n",
    "world = generate_world_from_geography(geography, include_households=True)\n"
   ]
  },
  {
   "cell_type": "markdown",
   "metadata": {},
   "source": [
    "### If it took a long time to run the previous command, it might be a good idea to save the world to reuse it later."
   ]
  },
  {
   "cell_type": "code",
   "execution_count": 6,
   "metadata": {},
   "outputs": [],
   "source": [
    "#world.to_hdf5(\"world.hdf5\")"
   ]
  },
  {
   "cell_type": "markdown",
   "metadata": {},
   "source": [
    "If we would like to load the world we saved, we just do"
   ]
  },
  {
   "cell_type": "code",
   "execution_count": 7,
   "metadata": {},
   "outputs": [],
   "source": [
    "#world = generate_world_from_hdf5(\"world.hdf5\")"
   ]
  },
  {
   "cell_type": "markdown",
   "metadata": {},
   "source": [
    "you have now a beautiful pre-pandemic world. "
   ]
  },
  {
   "cell_type": "markdown",
   "metadata": {},
   "source": [
    "## Commute, travel and leisure"
   ]
  },
  {
   "cell_type": "markdown",
   "metadata": {},
   "source": [
    "We can add cinemas, pubs, groceries, etc. as well as commute in major cities with"
   ]
  },
  {
   "cell_type": "code",
   "execution_count": 10,
   "metadata": {},
   "outputs": [],
   "source": [
    "# leisure\n",
    "world.cinemas = Cinemas.for_geography(geography)\n",
    "world.pubs = Pubs.for_geography(geography)\n",
    "world.groceries = Groceries.for_super_areas(world.super_areas,\n",
    "                                            venues_per_capita=1/500)"
   ]
  },
  {
   "cell_type": "code",
   "execution_count": 11,
   "metadata": {},
   "outputs": [],
   "source": [
    "# commute\n",
    "world.initialise_commuting()"
   ]
  },
  {
   "cell_type": "markdown",
   "metadata": {},
   "source": [
    "We are also going to need some cemeteries...geography.cemeteries = Cemeteries()\n"
   ]
  },
  {
   "cell_type": "code",
   "execution_count": 12,
   "metadata": {},
   "outputs": [
    {
     "data": {
      "text/plain": [
       "[Person(id=238, sex='m', age=19, ethnicity='A', socioecon_index=8, area=<june.demography.geography.Area object at 0x7fe9f9599e20>, work_super_area=<june.demography.geography.SuperArea object at 0x7fe9f95c9400>, sector='P', sub_sector='teacher_secondary', home_city=None, mode_of_transport=<ModeOfTransport Bus, minibus or coach>, busy=True, subgroups=Activities(residence=<june.groups.group.subgroup.Subgroup object at 0x7fe9fa9bed60>, primary_activity=<june.groups.group.subgroup.Subgroup object at 0x7fe9f9590d60>, hospital=None, commute=<june.groups.group.subgroup.Subgroup object at 0x7fe9e0e68040>, rail_travel=None, leisure=None, box=None), health_information=None, susceptibility=1.0, dead=False),\n",
       " Person(id=266, sex='f', age=20, ethnicity='A', socioecon_index=8, area=<june.demography.geography.Area object at 0x7fe9f9599e20>, work_super_area=<june.demography.geography.SuperArea object at 0x7fe9f95c9400>, sector='G', sub_sector=None, home_city=None, mode_of_transport=<ModeOfTransport Bus, minibus or coach>, busy=True, subgroups=Activities(residence=<june.groups.group.subgroup.Subgroup object at 0x7fe9fa9b9dd0>, primary_activity=<june.groups.group.subgroup.Subgroup object at 0x7fe9f9590e40>, hospital=None, commute=<june.groups.group.subgroup.Subgroup object at 0x7fe9e0e68040>, rail_travel=None, leisure=None, box=None), health_information=None, susceptibility=1.0, dead=False),\n",
       " Person(id=419, sex='f', age=21, ethnicity='A', socioecon_index=8, area=<june.demography.geography.Area object at 0x7fe9f9599e20>, work_super_area=<june.demography.geography.SuperArea object at 0x7fe9f95c9400>, sector='I', sub_sector=None, home_city=None, mode_of_transport=<ModeOfTransport Train>, busy=True, subgroups=Activities(residence=<june.groups.group.subgroup.Subgroup object at 0x7fe9fa9b96d0>, primary_activity=<june.groups.group.subgroup.Subgroup object at 0x7fe9f9590f20>, hospital=None, commute=<june.groups.group.subgroup.Subgroup object at 0x7fe9e0e68040>, rail_travel=None, leisure=None, box=None), health_information=None, susceptibility=1.0, dead=False),\n",
       " Person(id=1077, sex='m', age=35, ethnicity='A', socioecon_index=9, area=<june.demography.geography.Area object at 0x7fe9f9599e80>, work_super_area=<june.demography.geography.SuperArea object at 0x7fe9f95c9400>, sector='Q', sub_sector=None, home_city=None, mode_of_transport=<ModeOfTransport Train>, busy=True, subgroups=Activities(residence=<june.groups.group.subgroup.Subgroup object at 0x7fe9fa8e7350>, primary_activity=<june.groups.group.subgroup.Subgroup object at 0x7fe9fb813740>, hospital=None, commute=<june.groups.group.subgroup.Subgroup object at 0x7fe9e0e68040>, rail_travel=None, leisure=None, box=None), health_information=None, susceptibility=1.0, dead=False),\n",
       " Person(id=1121, sex='m', age=50, ethnicity='A', socioecon_index=9, area=<june.demography.geography.Area object at 0x7fe9f9599e80>, work_super_area=<june.demography.geography.SuperArea object at 0x7fe9f95c9400>, sector='P', sub_sector=None, home_city=None, mode_of_transport=<ModeOfTransport Train>, busy=True, subgroups=Activities(residence=<june.groups.group.subgroup.Subgroup object at 0x7fe9fa8e7190>, primary_activity=<june.groups.group.subgroup.Subgroup object at 0x7fe9fb85a740>, hospital=None, commute=<june.groups.group.subgroup.Subgroup object at 0x7fe9e0e68040>, rail_travel=None, leisure=None, box=None), health_information=None, susceptibility=1.0, dead=False),\n",
       " Person(id=1554, sex='f', age=20, ethnicity='A', socioecon_index=9, area=<june.demography.geography.Area object at 0x7fe9f9599d60>, work_super_area=<june.demography.geography.SuperArea object at 0x7fe9f95c9400>, sector='N', sub_sector=None, home_city=None, mode_of_transport=<ModeOfTransport Bus, minibus or coach>, busy=True, subgroups=Activities(residence=<june.groups.group.subgroup.Subgroup object at 0x7fe9fa781890>, primary_activity=<june.groups.group.subgroup.Subgroup object at 0x7fe9f9590e40>, hospital=None, commute=<june.groups.group.subgroup.Subgroup object at 0x7fe9e0e68040>, rail_travel=None, leisure=None, box=None), health_information=None, susceptibility=1.0, dead=False),\n",
       " Person(id=2081, sex='m', age=41, ethnicity='A', socioecon_index=8, area=<june.demography.geography.Area object at 0x7fe9f9599ca0>, work_super_area=<june.demography.geography.SuperArea object at 0x7fe9f95c9400>, sector='C', sub_sector=None, home_city=None, mode_of_transport=<ModeOfTransport Train>, busy=True, subgroups=Activities(residence=<june.groups.group.subgroup.Subgroup object at 0x7fe9fa78b510>, primary_activity=<june.groups.group.subgroup.Subgroup object at 0x7fe9fb881120>, hospital=None, commute=<june.groups.group.subgroup.Subgroup object at 0x7fe9e0e68040>, rail_travel=None, leisure=None, box=None), health_information=None, susceptibility=1.0, dead=False),\n",
       " Person(id=3849, sex='f', age=19, ethnicity='A', socioecon_index=8, area=<june.demography.geography.Area object at 0x7fe9f9599b80>, work_super_area=<june.demography.geography.SuperArea object at 0x7fe9f95c9400>, sector='I', sub_sector=None, home_city=None, mode_of_transport=<ModeOfTransport Underground, metro, light rail, tram>, busy=True, subgroups=Activities(residence=<june.groups.group.subgroup.Subgroup object at 0x7fe9f9f6e7b0>, primary_activity=<june.groups.group.subgroup.Subgroup object at 0x7fe9f9590d60>, hospital=None, commute=<june.groups.group.subgroup.Subgroup object at 0x7fe9e0e68040>, rail_travel=None, leisure=None, box=None), health_information=None, susceptibility=1.0, dead=False),\n",
       " Person(id=4136, sex='m', age=19, ethnicity='A', socioecon_index=8, area=<june.demography.geography.Area object at 0x7fe9f9599b80>, work_super_area=<june.demography.geography.SuperArea object at 0x7fe9f95c9400>, sector='G', sub_sector=None, home_city=None, mode_of_transport=<ModeOfTransport Bus, minibus or coach>, busy=True, subgroups=Activities(residence=<june.groups.group.subgroup.Subgroup object at 0x7fe9f9f68cf0>, primary_activity=<june.groups.group.subgroup.Subgroup object at 0x7fe9f9590d60>, hospital=None, commute=<june.groups.group.subgroup.Subgroup object at 0x7fe9e0e68040>, rail_travel=None, leisure=None, box=None), health_information=None, susceptibility=1.0, dead=False),\n",
       " Person(id=5740, sex='f', age=23, ethnicity='C', socioecon_index=8, area=<june.demography.geography.Area object at 0x7fe9f9599b80>, work_super_area=<june.demography.geography.SuperArea object at 0x7fe9f95c9400>, sector='I', sub_sector=None, home_city=None, mode_of_transport=<ModeOfTransport Train>, busy=True, subgroups=Activities(residence=<june.groups.group.subgroup.Subgroup object at 0x7fe9f90d1970>, primary_activity=<june.groups.group.subgroup.Subgroup object at 0x7fe9f95b3040>, hospital=None, commute=<june.groups.group.subgroup.Subgroup object at 0x7fe9e0e68040>, rail_travel=None, leisure=None, box=None), health_information=None, susceptibility=1.0, dead=False),\n",
       " Person(id=6394, sex='f', age=19, ethnicity='A', socioecon_index=8, area=<june.demography.geography.Area object at 0x7fe9f9599be0>, work_super_area=<june.demography.geography.SuperArea object at 0x7fe9f95c9400>, sector='I', sub_sector=None, home_city=None, mode_of_transport=<ModeOfTransport Train>, busy=True, subgroups=Activities(residence=<june.groups.group.subgroup.Subgroup object at 0x7fe9fabd0200>, primary_activity=<june.groups.group.subgroup.Subgroup object at 0x7fe9f9590d60>, hospital=None, commute=<june.groups.group.subgroup.Subgroup object at 0x7fe9e0e68040>, rail_travel=None, leisure=None, box=None), health_information=None, susceptibility=1.0, dead=False),\n",
       " Person(id=6792, sex='f', age=26, ethnicity='A', socioecon_index=8, area=<june.demography.geography.Area object at 0x7fe9f9599be0>, work_super_area=<june.demography.geography.SuperArea object at 0x7fe9f95c9400>, sector='I', sub_sector=None, home_city=None, mode_of_transport=<ModeOfTransport Train>, busy=True, subgroups=Activities(residence=<june.groups.group.subgroup.Subgroup object at 0x7fe9f90a2eb0>, primary_activity=<june.groups.group.subgroup.Subgroup object at 0x7fe9fb88add0>, hospital=None, commute=<june.groups.group.subgroup.Subgroup object at 0x7fe9e0e68040>, rail_travel=None, leisure=None, box=None), health_information=None, susceptibility=1.0, dead=False),\n",
       " Person(id=7873, sex='m', age=26, ethnicity='C', socioecon_index=4, area=<june.demography.geography.Area object at 0x7fe9f9599a60>, work_super_area=<june.demography.geography.SuperArea object at 0x7fe9f95c9400>, sector='P', sub_sector=None, home_city=None, mode_of_transport=<ModeOfTransport Train>, busy=True, subgroups=Activities(residence=<june.groups.group.subgroup.Subgroup object at 0x7fe9f92e67b0>, primary_activity=<june.groups.group.subgroup.Subgroup object at 0x7fe9fb881430>, hospital=None, commute=<june.groups.group.subgroup.Subgroup object at 0x7fe9e0e68040>, rail_travel=None, leisure=None, box=None), health_information=None, susceptibility=1.0, dead=False),\n",
       " Person(id=7942, sex='m', age=29, ethnicity='C', socioecon_index=4, area=<june.demography.geography.Area object at 0x7fe9f9599a60>, work_super_area=<june.demography.geography.SuperArea object at 0x7fe9f95c9400>, sector='F', sub_sector=None, home_city=None, mode_of_transport=<ModeOfTransport Bus, minibus or coach>, busy=True, subgroups=Activities(residence=<june.groups.group.subgroup.Subgroup object at 0x7fe9f92e65f0>, primary_activity=<june.groups.group.subgroup.Subgroup object at 0x7fe9fb86cdd0>, hospital=None, commute=<june.groups.group.subgroup.Subgroup object at 0x7fe9e0e68040>, rail_travel=None, leisure=None, box=None), health_information=None, susceptibility=1.0, dead=False),\n",
       " Person(id=8362, sex='m', age=21, ethnicity='A', socioecon_index=7, area=<june.demography.geography.Area object at 0x7fe9f9599a00>, work_super_area=<june.demography.geography.SuperArea object at 0x7fe9f95c9400>, sector='M', sub_sector=None, home_city=None, mode_of_transport=<ModeOfTransport Bus, minibus or coach>, busy=True, subgroups=Activities(residence=<june.groups.group.subgroup.Subgroup object at 0x7fe9f96ebcf0>, primary_activity=<june.groups.group.subgroup.Subgroup object at 0x7fe9f9590f20>, hospital=None, commute=<june.groups.group.subgroup.Subgroup object at 0x7fe9e0e68040>, rail_travel=None, leisure=None, box=None), health_information=None, susceptibility=1.0, dead=False),\n",
       " Person(id=9207, sex='f', age=20, ethnicity='A', socioecon_index=8, area=<june.demography.geography.Area object at 0x7fe9f95999a0>, work_super_area=<june.demography.geography.SuperArea object at 0x7fe9f95c9400>, sector='I', sub_sector=None, home_city=None, mode_of_transport=<ModeOfTransport Bus, minibus or coach>, busy=True, subgroups=Activities(residence=<june.groups.group.subgroup.Subgroup object at 0x7fe9f9a0e270>, primary_activity=<june.groups.group.subgroup.Subgroup object at 0x7fe9f9590e40>, hospital=None, commute=<june.groups.group.subgroup.Subgroup object at 0x7fe9e0e68040>, rail_travel=None, leisure=None, box=None), health_information=None, susceptibility=1.0, dead=False),\n",
       " Person(id=9458, sex='m', age=22, ethnicity='A', socioecon_index=8, area=<june.demography.geography.Area object at 0x7fe9f95999a0>, work_super_area=<june.demography.geography.SuperArea object at 0x7fe9f95c9400>, sector='J', sub_sector=None, home_city=None, mode_of_transport=<ModeOfTransport Train>, busy=True, subgroups=Activities(residence=<june.groups.group.subgroup.Subgroup object at 0x7fe9f9a150b0>, primary_activity=<june.groups.group.subgroup.Subgroup object at 0x7fe9f9590f90>, hospital=None, commute=<june.groups.group.subgroup.Subgroup object at 0x7fe9e0e68040>, rail_travel=None, leisure=None, box=None), health_information=None, susceptibility=1.0, dead=False),\n",
       " Person(id=9921, sex='m', age=29, ethnicity='C', socioecon_index=4, area=<june.demography.geography.Area object at 0x7fe9f9599940>, work_super_area=<june.demography.geography.SuperArea object at 0x7fe9f95c9400>, sector='P', sub_sector=None, home_city=None, mode_of_transport=<ModeOfTransport Bus, minibus or coach>, busy=True, subgroups=Activities(residence=<june.groups.group.subgroup.Subgroup object at 0x7fe9f9a547b0>, primary_activity=<june.groups.group.subgroup.Subgroup object at 0x7fe9fb85a740>, hospital=None, commute=<june.groups.group.subgroup.Subgroup object at 0x7fe9e0e68040>, rail_travel=None, leisure=None, box=None), health_information=None, susceptibility=1.0, dead=False),\n",
       " Person(id=10258, sex='m', age=20, ethnicity='A', socioecon_index=4, area=<june.demography.geography.Area object at 0x7fe9f95998e0>, work_super_area=<june.demography.geography.SuperArea object at 0x7fe9f95c9400>, sector='N', sub_sector=None, home_city=None, mode_of_transport=<ModeOfTransport Bus, minibus or coach>, busy=True, subgroups=Activities(residence=<june.groups.group.subgroup.Subgroup object at 0x7fe9fb979740>, primary_activity=<june.groups.group.subgroup.Subgroup object at 0x7fe9f9590e40>, hospital=None, commute=<june.groups.group.subgroup.Subgroup object at 0x7fe9e0e68040>, rail_travel=None, leisure=None, box=None), health_information=None, susceptibility=1.0, dead=False),\n",
       " Person(id=11014, sex='f', age=32, ethnicity='A', socioecon_index=7, area=<june.demography.geography.Area object at 0x7fe9f9599880>, work_super_area=<june.demography.geography.SuperArea object at 0x7fe9f95c9400>, sector='I', sub_sector=None, home_city=None, mode_of_transport=<ModeOfTransport Underground, metro, light rail, tram>, busy=True, subgroups=Activities(residence=<june.groups.group.subgroup.Subgroup object at 0x7fe9f8cbe9e0>, primary_activity=<june.groups.group.subgroup.Subgroup object at 0x7fe9fb88add0>, hospital=None, commute=<june.groups.group.subgroup.Subgroup object at 0x7fe9e0e68040>, rail_travel=None, leisure=None, box=None), health_information=None, susceptibility=1.0, dead=False),\n",
       " Person(id=12816, sex='f', age=42, ethnicity='A', socioecon_index=7, area=<june.demography.geography.Area object at 0x7fe9f922c580>, work_super_area=<june.demography.geography.SuperArea object at 0x7fe9f95c9400>, sector='T', sub_sector=None, home_city=None, mode_of_transport=<ModeOfTransport Bus, minibus or coach>, busy=True, subgroups=Activities(residence=<june.groups.group.subgroup.Subgroup object at 0x7fe9f9002510>, primary_activity=<june.groups.group.subgroup.Subgroup object at 0x7fe9fb86c2e0>, hospital=None, commute=<june.groups.group.subgroup.Subgroup object at 0x7fe9e0e68040>, rail_travel=None, leisure=None, box=None), health_information=None, susceptibility=1.0, dead=False),\n",
       " Person(id=12832, sex='f', age=47, ethnicity='A', socioecon_index=7, area=<june.demography.geography.Area object at 0x7fe9f922c580>, work_super_area=<june.demography.geography.SuperArea object at 0x7fe9f95c9400>, sector='Q', sub_sector=None, home_city=None, mode_of_transport=<ModeOfTransport Bus, minibus or coach>, busy=True, subgroups=Activities(residence=<june.groups.group.subgroup.Subgroup object at 0x7fe9f9001c10>, primary_activity=<june.groups.group.subgroup.Subgroup object at 0x7fe9fb813740>, hospital=None, commute=<june.groups.group.subgroup.Subgroup object at 0x7fe9e0e68040>, rail_travel=None, leisure=None, box=None), health_information=None, susceptibility=1.0, dead=False),\n",
       " Person(id=13184, sex='f', age=61, ethnicity='A', socioecon_index=7, area=<june.demography.geography.Area object at 0x7fe9f922c460>, work_super_area=<june.demography.geography.SuperArea object at 0x7fe9f95c9400>, sector='G', sub_sector=None, home_city=None, mode_of_transport=<ModeOfTransport Bus, minibus or coach>, busy=True, subgroups=Activities(residence=<june.groups.group.subgroup.Subgroup object at 0x7fe9f9f3b5f0>, primary_activity=<june.groups.group.subgroup.Subgroup object at 0x7fe9fb864b30>, hospital=None, commute=<june.groups.group.subgroup.Subgroup object at 0x7fe9e0e68040>, rail_travel=None, leisure=None, box=None), health_information=None, susceptibility=1.0, dead=False),\n",
       " Person(id=14076, sex='f', age=39, ethnicity='A', socioecon_index=9, area=<june.demography.geography.Area object at 0x7fe9f922c400>, work_super_area=<june.demography.geography.SuperArea object at 0x7fe9f95c9400>, sector='M', sub_sector=None, home_city=None, mode_of_transport=<ModeOfTransport Bus, minibus or coach>, busy=True, subgroups=Activities(residence=<june.groups.group.subgroup.Subgroup object at 0x7fe9fab4b040>, primary_activity=<june.groups.group.subgroup.Subgroup object at 0x7fe9fb8136d0>, hospital=None, commute=<june.groups.group.subgroup.Subgroup object at 0x7fe9e0e68040>, rail_travel=None, leisure=None, box=None), health_information=None, susceptibility=1.0, dead=False),\n",
       " Person(id=14380, sex='m', age=46, ethnicity='A', socioecon_index=9, area=<june.demography.geography.Area object at 0x7fe9f922c2e0>, work_super_area=<june.demography.geography.SuperArea object at 0x7fe9f95c9400>, sector='Q', sub_sector=None, home_city=None, mode_of_transport=<ModeOfTransport Train>, busy=True, subgroups=Activities(residence=<june.groups.group.subgroup.Subgroup object at 0x7fe9faa97eb0>, primary_activity=<june.groups.group.subgroup.Subgroup object at 0x7fe9fb881c80>, hospital=None, commute=<june.groups.group.subgroup.Subgroup object at 0x7fe9e0e68040>, rail_travel=None, leisure=None, box=None), health_information=None, susceptibility=1.0, dead=False),\n",
       " Person(id=14419, sex='f', age=55, ethnicity='A', socioecon_index=9, area=<june.demography.geography.Area object at 0x7fe9f922c2e0>, work_super_area=<june.demography.geography.SuperArea object at 0x7fe9f95c9400>, sector='E', sub_sector=None, home_city=None, mode_of_transport=<ModeOfTransport Train>, busy=True, subgroups=Activities(residence=<june.groups.group.subgroup.Subgroup object at 0x7fe9faabe430>, primary_activity=<june.groups.group.subgroup.Subgroup object at 0x7fe9fb8776d0>, hospital=None, commute=<june.groups.group.subgroup.Subgroup object at 0x7fe9e0e68040>, rail_travel=None, leisure=None, box=None), health_information=None, susceptibility=1.0, dead=False),\n",
       " Person(id=14731, sex='m', age=64, ethnicity='A', socioecon_index=7, area=<june.demography.geography.Area object at 0x7fe9f922c340>, work_super_area=<june.demography.geography.SuperArea object at 0x7fe9f95c9400>, sector='M', sub_sector=None, home_city=None, mode_of_transport=<ModeOfTransport Train>, busy=True, subgroups=Activities(residence=<june.groups.group.subgroup.Subgroup object at 0x7fe9faa52c80>, primary_activity=<june.groups.group.subgroup.Subgroup object at 0x7fe9fb8136d0>, hospital=None, commute=<june.groups.group.subgroup.Subgroup object at 0x7fe9e0e68040>, rail_travel=None, leisure=None, box=None), health_information=None, susceptibility=1.0, dead=False),\n",
       " Person(id=15190, sex='f', age=47, ethnicity='A', socioecon_index=9, area=<june.demography.geography.Area object at 0x7fe9f922c040>, work_super_area=<june.demography.geography.SuperArea object at 0x7fe9f95c9400>, sector='G', sub_sector=None, home_city=None, mode_of_transport=<ModeOfTransport Bus, minibus or coach>, busy=True, subgroups=Activities(residence=<june.groups.group.subgroup.Subgroup object at 0x7fe9fa7d2970>, primary_activity=<june.groups.group.subgroup.Subgroup object at 0x7fe9fb85a970>, hospital=None, commute=<june.groups.group.subgroup.Subgroup object at 0x7fe9e0e68040>, rail_travel=None, leisure=None, box=None), health_information=None, susceptibility=1.0, dead=False),\n",
       " Person(id=15515, sex='m', age=32, ethnicity='A', socioecon_index=7, area=<june.demography.geography.Area object at 0x7fe9f9b4b7c0>, work_super_area=<june.demography.geography.SuperArea object at 0x7fe9f95c9400>, sector='C', sub_sector=None, home_city=None, mode_of_transport=<ModeOfTransport Bus, minibus or coach>, busy=True, subgroups=Activities(residence=<june.groups.group.subgroup.Subgroup object at 0x7fe9fa8050b0>, primary_activity=<june.groups.group.subgroup.Subgroup object at 0x7fe9fb881f20>, hospital=None, commute=<june.groups.group.subgroup.Subgroup object at 0x7fe9e0e68040>, rail_travel=None, leisure=None, box=None), health_information=None, susceptibility=1.0, dead=False),\n",
       " Person(id=15613, sex='m', age=44, ethnicity='A', socioecon_index=7, area=<june.demography.geography.Area object at 0x7fe9f9b4b7c0>, work_super_area=<june.demography.geography.SuperArea object at 0x7fe9f95c9400>, sector='F', sub_sector=None, home_city=None, mode_of_transport=<ModeOfTransport Bus, minibus or coach>, busy=True, subgroups=Activities(residence=<june.groups.group.subgroup.Subgroup object at 0x7fe9fa7fceb0>, primary_activity=<june.groups.group.subgroup.Subgroup object at 0x7fe9fb8813c0>, hospital=None, commute=<june.groups.group.subgroup.Subgroup object at 0x7fe9e0e68040>, rail_travel=None, leisure=None, box=None), health_information=None, susceptibility=1.0, dead=False),\n",
       " Person(id=16274, sex='m', age=54, ethnicity='A', socioecon_index=8, area=<june.demography.geography.Area object at 0x7fe9f9220fa0>, work_super_area=<june.demography.geography.SuperArea object at 0x7fe9f95c9400>, sector='O', sub_sector=None, home_city=None, mode_of_transport=<ModeOfTransport Bus, minibus or coach>, busy=True, subgroups=Activities(residence=<june.groups.group.subgroup.Subgroup object at 0x7fe9fa6c8c10>, primary_activity=<june.groups.group.subgroup.Subgroup object at 0x7fe9fb88a510>, hospital=None, commute=<june.groups.group.subgroup.Subgroup object at 0x7fe9e0e68040>, rail_travel=None, leisure=None, box=None), health_information=None, susceptibility=1.0, dead=False),\n",
       " Person(id=17182, sex='m', age=60, ethnicity='A', socioecon_index=7, area=<june.demography.geography.Area object at 0x7fe9f9220e80>, work_super_area=<june.demography.geography.SuperArea object at 0x7fe9f95c9400>, sector='M', sub_sector=None, home_city=None, mode_of_transport=<ModeOfTransport Bus, minibus or coach>, busy=True, subgroups=Activities(residence=<june.groups.group.subgroup.Subgroup object at 0x7fe9fa5c3510>, primary_activity=<june.groups.group.subgroup.Subgroup object at 0x7fe9fb8136d0>, hospital=None, commute=<june.groups.group.subgroup.Subgroup object at 0x7fe9e0e68040>, rail_travel=None, leisure=None, box=None), health_information=None, susceptibility=1.0, dead=False),\n",
       " Person(id=17973, sex='f', age=39, ethnicity='A', socioecon_index=8, area=<june.demography.geography.Area object at 0x7fe9f9220d60>, work_super_area=<june.demography.geography.SuperArea object at 0x7fe9f95c9400>, sector='P', sub_sector=None, home_city=None, mode_of_transport=<ModeOfTransport Bus, minibus or coach>, busy=True, subgroups=Activities(residence=<june.groups.group.subgroup.Subgroup object at 0x7fe9fa498a50>, primary_activity=<june.groups.group.subgroup.Subgroup object at 0x7fe9fb813430>, hospital=None, commute=<june.groups.group.subgroup.Subgroup object at 0x7fe9e0e68040>, rail_travel=None, leisure=None, box=None), health_information=None, susceptibility=1.0, dead=False),\n",
       " Person(id=19300, sex='m', age=45, ethnicity='A', socioecon_index=7, area=<june.demography.geography.Area object at 0x7fe9fba73340>, work_super_area=<june.demography.geography.SuperArea object at 0x7fe9f95c9400>, sector='M', sub_sector=None, home_city=None, mode_of_transport=<ModeOfTransport Train>, busy=True, subgroups=Activities(residence=<june.groups.group.subgroup.Subgroup object at 0x7fe9fa26eac0>, primary_activity=<june.groups.group.subgroup.Subgroup object at 0x7fe9fb8136d0>, hospital=None, commute=<june.groups.group.subgroup.Subgroup object at 0x7fe9e0e68040>, rail_travel=None, leisure=None, box=None), health_information=None, susceptibility=1.0, dead=False),\n",
       " Person(id=19548, sex='f', age=30, ethnicity='A', socioecon_index=9, area=<june.demography.geography.Area object at 0x7fe9fba732e0>, work_super_area=<june.demography.geography.SuperArea object at 0x7fe9f95c9400>, sector='Q', sub_sector=None, home_city=None, mode_of_transport=<ModeOfTransport Train>, busy=True, subgroups=Activities(residence=<june.groups.group.subgroup.Subgroup object at 0x7fe9fa112c80>, primary_activity=<june.groups.group.subgroup.Subgroup object at 0x7fe9fb88a890>, hospital=None, commute=<june.groups.group.subgroup.Subgroup object at 0x7fe9e0e68040>, rail_travel=None, leisure=None, box=None), health_information=None, susceptibility=1.0, dead=False),\n",
       " Person(id=19583, sex='f', age=35, ethnicity='C', socioecon_index=9, area=<june.demography.geography.Area object at 0x7fe9fba732e0>, work_super_area=<june.demography.geography.SuperArea object at 0x7fe9f95c9400>, sector='G', sub_sector=None, home_city=None, mode_of_transport=<ModeOfTransport Bus, minibus or coach>, busy=True, subgroups=Activities(residence=<june.groups.group.subgroup.Subgroup object at 0x7fe9fa117ac0>, primary_activity=<june.groups.group.subgroup.Subgroup object at 0x7fe9fb86c4a0>, hospital=None, commute=<june.groups.group.subgroup.Subgroup object at 0x7fe9e0e68040>, rail_travel=None, leisure=None, box=None), health_information=None, susceptibility=1.0, dead=False),\n",
       " Person(id=19999, sex='m', age=33, ethnicity='A', socioecon_index=9, area=<june.demography.geography.Area object at 0x7fe9fba73280>, work_super_area=<june.demography.geography.SuperArea object at 0x7fe9f95c9400>, sector='O', sub_sector=None, home_city=None, mode_of_transport=<ModeOfTransport Train>, busy=True, subgroups=Activities(residence=<june.groups.group.subgroup.Subgroup object at 0x7fe9fa09beb0>, primary_activity=<june.groups.group.subgroup.Subgroup object at 0x7fe9fb813900>, hospital=None, commute=<june.groups.group.subgroup.Subgroup object at 0x7fe9e0e68040>, rail_travel=None, leisure=None, box=None), health_information=None, susceptibility=1.0, dead=False),\n",
       " Person(id=20025, sex='f', age=35, ethnicity='A', socioecon_index=9, area=<june.demography.geography.Area object at 0x7fe9fba73280>, work_super_area=<june.demography.geography.SuperArea object at 0x7fe9f95c9400>, sector='I', sub_sector=None, home_city=None, mode_of_transport=<ModeOfTransport Train>, busy=True, subgroups=Activities(residence=<june.groups.group.subgroup.Subgroup object at 0x7fe9fa0ff5f0>, primary_activity=<june.groups.group.subgroup.Subgroup object at 0x7fe9fb86c970>, hospital=None, commute=<june.groups.group.subgroup.Subgroup object at 0x7fe9e0e68040>, rail_travel=None, leisure=None, box=None), health_information=None, susceptibility=1.0, dead=False),\n",
       " Person(id=20186, sex='m', age=54, ethnicity='A', socioecon_index=9, area=<june.demography.geography.Area object at 0x7fe9fba73280>, work_super_area=<june.demography.geography.SuperArea object at 0x7fe9f95c9400>, sector='N', sub_sector=None, home_city=None, mode_of_transport=<ModeOfTransport Bus, minibus or coach>, busy=True, subgroups=Activities(residence=<june.groups.group.subgroup.Subgroup object at 0x7fe9fa09b5f0>, primary_activity=<june.groups.group.subgroup.Subgroup object at 0x7fe9fb8137b0>, hospital=None, commute=<june.groups.group.subgroup.Subgroup object at 0x7fe9e0e68040>, rail_travel=None, leisure=None, box=None), health_information=None, susceptibility=1.0, dead=False),\n",
       " Person(id=20204, sex='f', age=60, ethnicity='A', socioecon_index=9, area=<june.demography.geography.Area object at 0x7fe9fba73280>, work_super_area=<june.demography.geography.SuperArea object at 0x7fe9f95c9400>, sector='O', sub_sector=None, home_city=None, mode_of_transport=<ModeOfTransport Bus, minibus or coach>, busy=True, subgroups=Activities(residence=<june.groups.group.subgroup.Subgroup object at 0x7fe9fa0a07b0>, primary_activity=<june.groups.group.subgroup.Subgroup object at 0x7fe9fb8cfba0>, hospital=None, commute=<june.groups.group.subgroup.Subgroup object at 0x7fe9e0e68040>, rail_travel=None, leisure=None, box=None), health_information=None, susceptibility=1.0, dead=False),\n",
       " Person(id=20323, sex='f', age=26, ethnicity='A', socioecon_index=9, area=<june.demography.geography.Area object at 0x7fe9fba731c0>, work_super_area=<june.demography.geography.SuperArea object at 0x7fe9f95c9400>, sector='O', sub_sector=None, home_city=None, mode_of_transport=<ModeOfTransport Bus, minibus or coach>, busy=True, subgroups=Activities(residence=<june.groups.group.subgroup.Subgroup object at 0x7fe9fa076430>, primary_activity=<june.groups.group.subgroup.Subgroup object at 0x7fe9fb877900>, hospital=None, commute=<june.groups.group.subgroup.Subgroup object at 0x7fe9e0e68040>, rail_travel=None, leisure=None, box=None), health_information=None, susceptibility=1.0, dead=False),\n",
       " Person(id=20412, sex='m', age=49, ethnicity='A', socioecon_index=9, area=<june.demography.geography.Area object at 0x7fe9fba731c0>, work_super_area=<june.demography.geography.SuperArea object at 0x7fe9f95c9400>, sector='O', sub_sector=None, home_city=None, mode_of_transport=<ModeOfTransport Train>, busy=True, subgroups=Activities(residence=<june.groups.group.subgroup.Subgroup object at 0x7fe9fa06c660>, primary_activity=<june.groups.group.subgroup.Subgroup object at 0x7fe9fb85a4a0>, hospital=None, commute=<june.groups.group.subgroup.Subgroup object at 0x7fe9e0e68040>, rail_travel=None, leisure=None, box=None), health_information=None, susceptibility=1.0, dead=False),\n",
       " Person(id=20599, sex='m', age=34, ethnicity='A', socioecon_index=8, area=<june.demography.geography.Area object at 0x7fe9fba73220>, work_super_area=<june.demography.geography.SuperArea object at 0x7fe9f95c9400>, sector='G', sub_sector=None, home_city=None, mode_of_transport=<ModeOfTransport Bus, minibus or coach>, busy=True, subgroups=Activities(residence=<june.groups.group.subgroup.Subgroup object at 0x7fe9f9fdf2e0>, primary_activity=<june.groups.group.subgroup.Subgroup object at 0x7fe9fb88a510>, hospital=None, commute=<june.groups.group.subgroup.Subgroup object at 0x7fe9e0e68040>, rail_travel=None, leisure=None, box=None), health_information=None, susceptibility=1.0, dead=False),\n",
       " Person(id=21185, sex='f', age=34, ethnicity='A', socioecon_index=7, area=<june.demography.geography.Area object at 0x7fea43183ee0>, work_super_area=<june.demography.geography.SuperArea object at 0x7fe9f95c9400>, sector='P', sub_sector=None, home_city=None, mode_of_transport=<ModeOfTransport Bus, minibus or coach>, busy=True, subgroups=Activities(residence=<june.groups.group.subgroup.Subgroup object at 0x7fe9f9e83270>, primary_activity=<june.groups.group.subgroup.Subgroup object at 0x7fe9fb877190>, hospital=None, commute=<june.groups.group.subgroup.Subgroup object at 0x7fe9e0e68040>, rail_travel=None, leisure=None, box=None), health_information=None, susceptibility=1.0, dead=False),\n",
       " Person(id=21533, sex='m', age=42, ethnicity='A', socioecon_index=7, area=<june.demography.geography.Area object at 0x7fea400f3ee0>, work_super_area=<june.demography.geography.SuperArea object at 0x7fe9f95c9400>, sector='Q', sub_sector=None, home_city=None, mode_of_transport=<ModeOfTransport Bus, minibus or coach>, busy=True, subgroups=Activities(residence=<june.groups.group.subgroup.Subgroup object at 0x7fe9f9e4bba0>, primary_activity=<june.groups.group.subgroup.Subgroup object at 0x7fe9fb8646d0>, hospital=None, commute=<june.groups.group.subgroup.Subgroup object at 0x7fe9e0e68040>, rail_travel=None, leisure=None, box=None), health_information=None, susceptibility=1.0, dead=False),\n",
       " Person(id=21587, sex='f', age=59, ethnicity='A', socioecon_index=7, area=<june.demography.geography.Area object at 0x7fea400f3ee0>, work_super_area=<june.demography.geography.SuperArea object at 0x7fe9f95c9400>, sector='Q', sub_sector=None, home_city=None, mode_of_transport=<ModeOfTransport Bus, minibus or coach>, busy=True, subgroups=Activities(residence=<june.groups.group.subgroup.Subgroup object at 0x7fe9f9ded9e0>, primary_activity=<june.groups.group.subgroup.Subgroup object at 0x7fe9fb88a3c0>, hospital=None, commute=<june.groups.group.subgroup.Subgroup object at 0x7fe9e0e68040>, rail_travel=None, leisure=None, box=None), health_information=None, susceptibility=1.0, dead=False),\n",
       " Person(id=22305, sex='m', age=24, ethnicity='C', socioecon_index=4, area=<june.demography.geography.Area object at 0x7fea4005bd60>, work_super_area=<june.demography.geography.SuperArea object at 0x7fe9f95c9400>, sector='J', sub_sector=None, home_city=None, mode_of_transport=<ModeOfTransport Bus, minibus or coach>, busy=True, subgroups=Activities(residence=<june.groups.group.subgroup.Subgroup object at 0x7fe9f9d30dd0>, primary_activity=<june.groups.group.subgroup.Subgroup object at 0x7fe9f9590d60>, hospital=None, commute=<june.groups.group.subgroup.Subgroup object at 0x7fe9e0e68040>, rail_travel=None, leisure=None, box=None), health_information=None, susceptibility=1.0, dead=False),\n",
       " Person(id=22357, sex='f', age=39, ethnicity='A', socioecon_index=4, area=<june.demography.geography.Area object at 0x7fea4005bd60>, work_super_area=<june.demography.geography.SuperArea object at 0x7fe9f95c9400>, sector='P', sub_sector=None, home_city=None, mode_of_transport=<ModeOfTransport Bus, minibus or coach>, busy=True, subgroups=Activities(residence=<june.groups.group.subgroup.Subgroup object at 0x7fe9f9d0fe40>, primary_activity=<june.groups.group.subgroup.Subgroup object at 0x7fe9fb864120>, hospital=None, commute=<june.groups.group.subgroup.Subgroup object at 0x7fe9e0e68040>, rail_travel=None, leisure=None, box=None), health_information=None, susceptibility=1.0, dead=False),\n",
       " Person(id=22992, sex='m', age=37, ethnicity='A', socioecon_index=4, area=<june.demography.geography.Area object at 0x7fea4005bd00>, work_super_area=<june.demography.geography.SuperArea object at 0x7fe9f95c9400>, sector='G', sub_sector=None, home_city=None, mode_of_transport=<ModeOfTransport Bus, minibus or coach>, busy=True, subgroups=Activities(residence=<june.groups.group.subgroup.Subgroup object at 0x7fe9f9cc1970>, primary_activity=<june.groups.group.subgroup.Subgroup object at 0x7fe9fb85a970>, hospital=None, commute=<june.groups.group.subgroup.Subgroup object at 0x7fe9e0e68040>, rail_travel=None, leisure=None, box=None), health_information=None, susceptibility=1.0, dead=False),\n",
       " Person(id=23054, sex='f', age=49, ethnicity='A', socioecon_index=4, area=<june.demography.geography.Area object at 0x7fea4005bd00>, work_super_area=<june.demography.geography.SuperArea object at 0x7fe9f95c9400>, sector='I', sub_sector=None, home_city=None, mode_of_transport=<ModeOfTransport Bus, minibus or coach>, busy=True, subgroups=Activities(residence=<june.groups.group.subgroup.Subgroup object at 0x7fe9f9c54270>, primary_activity=<june.groups.group.subgroup.Subgroup object at 0x7fe9fb86c350>, hospital=None, commute=<june.groups.group.subgroup.Subgroup object at 0x7fe9e0e68040>, rail_travel=None, leisure=None, box=None), health_information=None, susceptibility=1.0, dead=False),\n",
       " Person(id=23492, sex='m', age=46, ethnicity='A', socioecon_index=9, area=<june.demography.geography.Area object at 0x7fea4005bb20>, work_super_area=<june.demography.geography.SuperArea object at 0x7fe9f95c9400>, sector='C', sub_sector=None, home_city=None, mode_of_transport=<ModeOfTransport Bus, minibus or coach>, busy=True, subgroups=Activities(residence=<june.groups.group.subgroup.Subgroup object at 0x7fe9f9c1aeb0>, primary_activity=<june.groups.group.subgroup.Subgroup object at 0x7fe9fb881120>, hospital=None, commute=<june.groups.group.subgroup.Subgroup object at 0x7fe9e0e68040>, rail_travel=None, leisure=None, box=None), health_information=None, susceptibility=1.0, dead=False),\n",
       " Person(id=23726, sex='m', age=23, ethnicity='A', socioecon_index=9, area=<june.demography.geography.Area object at 0x7fea08b7ebe0>, work_super_area=<june.demography.geography.SuperArea object at 0x7fe9f95c9400>, sector='O', sub_sector=None, home_city=None, mode_of_transport=<ModeOfTransport Bus, minibus or coach>, busy=True, subgroups=Activities(residence=<june.groups.group.subgroup.Subgroup object at 0x7fe9f9c02740>, primary_activity=<june.groups.group.subgroup.Subgroup object at 0x7fe9f95b3040>, hospital=None, commute=<june.groups.group.subgroup.Subgroup object at 0x7fe9e0e68040>, rail_travel=None, leisure=None, box=None), health_information=None, susceptibility=1.0, dead=False),\n",
       " Person(id=24013, sex='m', age=19, ethnicity='A', socioecon_index=7, area=<june.demography.geography.Area object at 0x7fe9f95c9040>, work_super_area=<june.demography.geography.SuperArea object at 0x7fe9f95c9400>, sector='C', sub_sector=None, home_city=None, mode_of_transport=<ModeOfTransport Bus, minibus or coach>, busy=True, subgroups=Activities(residence=<june.groups.group.subgroup.Subgroup object at 0x7fe9f9b38740>, primary_activity=<june.groups.group.subgroup.Subgroup object at 0x7fe9f9590d60>, hospital=None, commute=<june.groups.group.subgroup.Subgroup object at 0x7fe9e0e68040>, rail_travel=None, leisure=None, box=None), health_information=None, susceptibility=1.0, dead=False),\n",
       " Person(id=24072, sex='f', age=39, ethnicity='A', socioecon_index=7, area=<june.demography.geography.Area object at 0x7fe9f95c9040>, work_super_area=<june.demography.geography.SuperArea object at 0x7fe9f95c9400>, sector='G', sub_sector=None, home_city=None, mode_of_transport=<ModeOfTransport Bus, minibus or coach>, busy=True, subgroups=Activities(residence=<june.groups.group.subgroup.Subgroup object at 0x7fe9f9b3c200>, primary_activity=<june.groups.group.subgroup.Subgroup object at 0x7fe9fb881510>, hospital=None, commute=<june.groups.group.subgroup.Subgroup object at 0x7fe9e0e68040>, rail_travel=None, leisure=None, box=None), health_information=None, susceptibility=1.0, dead=False),\n",
       " Person(id=24083, sex='m', age=42, ethnicity='A', socioecon_index=7, area=<june.demography.geography.Area object at 0x7fe9f95c9040>, work_super_area=<june.demography.geography.SuperArea object at 0x7fe9f95c9400>, sector='C', sub_sector=None, home_city=None, mode_of_transport=<ModeOfTransport Bus, minibus or coach>, busy=True, subgroups=Activities(residence=<june.groups.group.subgroup.Subgroup object at 0x7fe9f9b3c3c0>, primary_activity=<june.groups.group.subgroup.Subgroup object at 0x7fe9fb881f20>, hospital=None, commute=<june.groups.group.subgroup.Subgroup object at 0x7fe9e0e68040>, rail_travel=None, leisure=None, box=None), health_information=None, susceptibility=1.0, dead=False),\n",
       " Person(id=24091, sex='f', age=44, ethnicity='A', socioecon_index=7, area=<june.demography.geography.Area object at 0x7fe9f95c9040>, work_super_area=<june.demography.geography.SuperArea object at 0x7fe9f95c9400>, sector='C', sub_sector=None, home_city=None, mode_of_transport=<ModeOfTransport Bus, minibus or coach>, busy=True, subgroups=Activities(residence=<june.groups.group.subgroup.Subgroup object at 0x7fe9f9b333c0>, primary_activity=<june.groups.group.subgroup.Subgroup object at 0x7fe9fb881120>, hospital=None, commute=<june.groups.group.subgroup.Subgroup object at 0x7fe9e0e68040>, rail_travel=None, leisure=None, box=None), health_information=None, susceptibility=1.0, dead=False),\n",
       " Person(id=24109, sex='f', age=48, ethnicity='A', socioecon_index=7, area=<june.demography.geography.Area object at 0x7fe9f95c9040>, work_super_area=<june.demography.geography.SuperArea object at 0x7fe9f95c9400>, sector='J', sub_sector=None, home_city=None, mode_of_transport=<ModeOfTransport Bus, minibus or coach>, busy=True, subgroups=Activities(residence=<june.groups.group.subgroup.Subgroup object at 0x7fe9f9b2ec80>, primary_activity=<june.groups.group.subgroup.Subgroup object at 0x7fe9fb88a200>, hospital=None, commute=<june.groups.group.subgroup.Subgroup object at 0x7fe9e0e68040>, rail_travel=None, leisure=None, box=None), health_information=None, susceptibility=1.0, dead=False),\n",
       " Person(id=24115, sex='f', age=50, ethnicity='A', socioecon_index=7, area=<june.demography.geography.Area object at 0x7fe9f95c9040>, work_super_area=<june.demography.geography.SuperArea object at 0x7fe9f95c9400>, sector='G', sub_sector=None, home_city=None, mode_of_transport=<ModeOfTransport Bus, minibus or coach>, busy=True, subgroups=Activities(residence=<june.groups.group.subgroup.Subgroup object at 0x7fe9f9acf3c0>, primary_activity=<june.groups.group.subgroup.Subgroup object at 0x7fe9fb85a5f0>, hospital=None, commute=<june.groups.group.subgroup.Subgroup object at 0x7fe9e0e68040>, rail_travel=None, leisure=None, box=None), health_information=None, susceptibility=1.0, dead=False),\n",
       " Person(id=24291, sex='m', age=21, ethnicity='A', socioecon_index=7, area=<june.demography.geography.Area object at 0x7fe9f95c90a0>, work_super_area=<june.demography.geography.SuperArea object at 0x7fe9f95c9400>, sector='E', sub_sector=None, home_city=None, mode_of_transport=<ModeOfTransport Bus, minibus or coach>, busy=True, subgroups=Activities(residence=<june.groups.group.subgroup.Subgroup object at 0x7fe9f9af8d60>, primary_activity=<june.groups.group.subgroup.Subgroup object at 0x7fe9f9590f20>, hospital=None, commute=<june.groups.group.subgroup.Subgroup object at 0x7fe9e0e68040>, rail_travel=None, leisure=None, box=None), health_information=None, susceptibility=1.0, dead=False),\n",
       " Person(id=24323, sex='m', age=31, ethnicity='A', socioecon_index=7, area=<june.demography.geography.Area object at 0x7fe9f95c90a0>, work_super_area=<june.demography.geography.SuperArea object at 0x7fe9f95c9400>, sector='C', sub_sector=None, home_city=None, mode_of_transport=<ModeOfTransport Bus, minibus or coach>, busy=True, subgroups=Activities(residence=<june.groups.group.subgroup.Subgroup object at 0x7fe9f9a8f9e0>, primary_activity=<june.groups.group.subgroup.Subgroup object at 0x7fe9fb881f20>, hospital=None, commute=<june.groups.group.subgroup.Subgroup object at 0x7fe9e0e68040>, rail_travel=None, leisure=None, box=None), health_information=None, susceptibility=1.0, dead=False),\n",
       " Person(id=24335, sex='f', age=35, ethnicity='A', socioecon_index=7, area=<june.demography.geography.Area object at 0x7fe9f95c90a0>, work_super_area=<june.demography.geography.SuperArea object at 0x7fe9f95c9400>, sector='P', sub_sector=None, home_city=None, mode_of_transport=<ModeOfTransport Bus, minibus or coach>, busy=True, subgroups=Activities(residence=<june.groups.group.subgroup.Subgroup object at 0x7fe9f9af8120>, primary_activity=<june.groups.group.subgroup.Subgroup object at 0x7fe9fb813430>, hospital=None, commute=<june.groups.group.subgroup.Subgroup object at 0x7fe9e0e68040>, rail_travel=None, leisure=None, box=None), health_information=None, susceptibility=1.0, dead=False),\n",
       " Person(id=24365, sex='m', age=43, ethnicity='A', socioecon_index=7, area=<june.demography.geography.Area object at 0x7fe9f95c90a0>, work_super_area=<june.demography.geography.SuperArea object at 0x7fe9f95c9400>, sector='P', sub_sector=None, home_city=None, mode_of_transport=<ModeOfTransport Bus, minibus or coach>, busy=True, subgroups=Activities(residence=<june.groups.group.subgroup.Subgroup object at 0x7fe9f9b012e0>, primary_activity=<june.groups.group.subgroup.Subgroup object at 0x7fe9fb881430>, hospital=None, commute=<june.groups.group.subgroup.Subgroup object at 0x7fe9e0e68040>, rail_travel=None, leisure=None, box=None), health_information=None, susceptibility=1.0, dead=False),\n",
       " Person(id=24616, sex='m', age=26, ethnicity='A', socioecon_index=6, area=<june.demography.geography.Area object at 0x7fe9f95c9100>, work_super_area=<june.demography.geography.SuperArea object at 0x7fe9f95c9400>, sector='H', sub_sector=None, home_city=None, mode_of_transport=<ModeOfTransport Bus, minibus or coach>, busy=True, subgroups=Activities(residence=<june.groups.group.subgroup.Subgroup object at 0x7fe9f99de9e0>, primary_activity=<june.groups.group.subgroup.Subgroup object at 0x7fe9fb8649e0>, hospital=None, commute=<june.groups.group.subgroup.Subgroup object at 0x7fe9e0e68040>, rail_travel=None, leisure=None, box=None), health_information=None, susceptibility=1.0, dead=False),\n",
       " Person(id=24981, sex='m', age=42, ethnicity='A', socioecon_index=6, area=<june.demography.geography.Area object at 0x7fe9f95c9160>, work_super_area=<june.demography.geography.SuperArea object at 0x7fe9f95c9400>, sector='C', sub_sector=None, home_city=None, mode_of_transport=<ModeOfTransport Bus, minibus or coach>, busy=True, subgroups=Activities(residence=<june.groups.group.subgroup.Subgroup object at 0x7fe9f99bb120>, primary_activity=<june.groups.group.subgroup.Subgroup object at 0x7fe9fb813040>, hospital=None, commute=<june.groups.group.subgroup.Subgroup object at 0x7fe9e0e68040>, rail_travel=None, leisure=None, box=None), health_information=None, susceptibility=1.0, dead=False),\n",
       " Person(id=25058, sex='f', age=58, ethnicity='A', socioecon_index=6, area=<june.demography.geography.Area object at 0x7fe9f95c9160>, work_super_area=<june.demography.geography.SuperArea object at 0x7fe9f95c9400>, sector='H', sub_sector=None, home_city=None, mode_of_transport=<ModeOfTransport Bus, minibus or coach>, busy=True, subgroups=Activities(residence=<june.groups.group.subgroup.Subgroup object at 0x7fe9f99c69e0>, primary_activity=<june.groups.group.subgroup.Subgroup object at 0x7fe9fb877d60>, hospital=None, commute=<june.groups.group.subgroup.Subgroup object at 0x7fe9e0e68040>, rail_travel=None, leisure=None, box=None), health_information=None, susceptibility=1.0, dead=False),\n",
       " Person(id=25578, sex='f', age=40, ethnicity='A', socioecon_index=6, area=<june.demography.geography.Area object at 0x7fe9f95c9220>, work_super_area=<june.demography.geography.SuperArea object at 0x7fe9f95c9400>, sector='O', sub_sector=None, home_city=None, mode_of_transport=<ModeOfTransport Bus, minibus or coach>, busy=True, subgroups=Activities(residence=<june.groups.group.subgroup.Subgroup object at 0x7fe9f98da2e0>, primary_activity=<june.groups.group.subgroup.Subgroup object at 0x7fe9fb877190>, hospital=None, commute=<june.groups.group.subgroup.Subgroup object at 0x7fe9e0e68040>, rail_travel=None, leisure=None, box=None), health_information=None, susceptibility=1.0, dead=False),\n",
       " Person(id=25581, sex='f', age=41, ethnicity='C', socioecon_index=6, area=<june.demography.geography.Area object at 0x7fe9f95c9220>, work_super_area=<june.demography.geography.SuperArea object at 0x7fe9f95c9400>, sector='Q', sub_sector=None, home_city=None, mode_of_transport=<ModeOfTransport Bus, minibus or coach>, busy=True, subgroups=Activities(residence=<june.groups.group.subgroup.Subgroup object at 0x7fe9f9941120>, primary_activity=<june.groups.group.subgroup.Subgroup object at 0x7fe9fb813740>, hospital=None, commute=<june.groups.group.subgroup.Subgroup object at 0x7fe9e0e68040>, rail_travel=None, leisure=None, box=None), health_information=None, susceptibility=1.0, dead=False),\n",
       " Person(id=25988, sex='f', age=47, ethnicity='B', socioecon_index=6, area=<june.demography.geography.Area object at 0x7fe9f95c9280>, work_super_area=<june.demography.geography.SuperArea object at 0x7fe9f95c9400>, sector='C', sub_sector=None, home_city=None, mode_of_transport=<ModeOfTransport Bus, minibus or coach>, busy=True, subgroups=Activities(residence=<june.groups.group.subgroup.Subgroup object at 0x7fe9f989fc10>, primary_activity=<june.groups.group.subgroup.Subgroup object at 0x7fe9fb86c660>, hospital=None, commute=<june.groups.group.subgroup.Subgroup object at 0x7fe9e0e68040>, rail_travel=None, leisure=None, box=None), health_information=None, susceptibility=1.0, dead=False),\n",
       " Person(id=26005, sex='m', age=50, ethnicity='A', socioecon_index=6, area=<june.demography.geography.Area object at 0x7fe9f95c9280>, work_super_area=<june.demography.geography.SuperArea object at 0x7fe9f95c9400>, sector='C', sub_sector=None, home_city=None, mode_of_transport=<ModeOfTransport Bus, minibus or coach>, busy=True, subgroups=Activities(residence=<june.groups.group.subgroup.Subgroup object at 0x7fe9f9890f90>, primary_activity=<june.groups.group.subgroup.Subgroup object at 0x7fe9fb86c660>, hospital=None, commute=<june.groups.group.subgroup.Subgroup object at 0x7fe9e0e68040>, rail_travel=None, leisure=None, box=None), health_information=None, susceptibility=1.0, dead=False),\n",
       " Person(id=26191, sex='f', age=40, ethnicity='A', socioecon_index=9, area=<june.demography.geography.Area object at 0x7fe9f95c92e0>, work_super_area=<june.demography.geography.SuperArea object at 0x7fe9f95c9400>, sector='Q', sub_sector=None, home_city=None, mode_of_transport=<ModeOfTransport Bus, minibus or coach>, busy=True, subgroups=Activities(residence=<june.groups.group.subgroup.Subgroup object at 0x7fe9f984f190>, primary_activity=<june.groups.group.subgroup.Subgroup object at 0x7fe9fb85aa50>, hospital=None, commute=<june.groups.group.subgroup.Subgroup object at 0x7fe9e0e68040>, rail_travel=None, leisure=None, box=None), health_information=None, susceptibility=1.0, dead=False),\n",
       " Person(id=26803, sex='m', age=23, ethnicity='A', socioecon_index=9, area=<june.demography.geography.Area object at 0x7fe9f95c93a0>, work_super_area=<june.demography.geography.SuperArea object at 0x7fe9f95c9400>, sector='C', sub_sector=None, home_city=None, mode_of_transport=<ModeOfTransport Bus, minibus or coach>, busy=True, subgroups=Activities(residence=<june.groups.group.subgroup.Subgroup object at 0x7fe9f97ec5f0>, primary_activity=<june.groups.group.subgroup.Subgroup object at 0x7fe9f95b3040>, hospital=None, commute=<june.groups.group.subgroup.Subgroup object at 0x7fe9e0e68040>, rail_travel=None, leisure=None, box=None), health_information=None, susceptibility=1.0, dead=False),\n",
       " Person(id=26830, sex='f', age=32, ethnicity='A', socioecon_index=9, area=<june.demography.geography.Area object at 0x7fe9f95c93a0>, work_super_area=<june.demography.geography.SuperArea object at 0x7fe9f95c9400>, sector='O', sub_sector=None, home_city=None, mode_of_transport=<ModeOfTransport Bus, minibus or coach>, busy=True, subgroups=Activities(residence=<june.groups.group.subgroup.Subgroup object at 0x7fe9f97d2270>, primary_activity=<june.groups.group.subgroup.Subgroup object at 0x7fe9fb864430>, hospital=None, commute=<june.groups.group.subgroup.Subgroup object at 0x7fe9e0e68040>, rail_travel=None, leisure=None, box=None), health_information=None, susceptibility=1.0, dead=False),\n",
       " Person(id=26846, sex='m', age=37, ethnicity='B', socioecon_index=9, area=<june.demography.geography.Area object at 0x7fe9f95c93a0>, work_super_area=<june.demography.geography.SuperArea object at 0x7fe9f95c9400>, sector='H', sub_sector=None, home_city=None, mode_of_transport=<ModeOfTransport Bus, minibus or coach>, busy=True, subgroups=Activities(residence=<june.groups.group.subgroup.Subgroup object at 0x7fe9f97fe5f0>, primary_activity=<june.groups.group.subgroup.Subgroup object at 0x7fe9fb85a820>, hospital=None, commute=<june.groups.group.subgroup.Subgroup object at 0x7fe9e0e68040>, rail_travel=None, leisure=None, box=None), health_information=None, susceptibility=1.0, dead=False),\n",
       " Person(id=26849, sex='f', age=37, ethnicity='A', socioecon_index=9, area=<june.demography.geography.Area object at 0x7fe9f95c93a0>, work_super_area=<june.demography.geography.SuperArea object at 0x7fe9f95c9400>, sector='P', sub_sector=None, home_city=None, mode_of_transport=<ModeOfTransport Bus, minibus or coach>, busy=True, subgroups=Activities(residence=<june.groups.group.subgroup.Subgroup object at 0x7fe9f97e6b30>, primary_activity=<june.groups.group.subgroup.Subgroup object at 0x7fe9fb85a740>, hospital=None, commute=<june.groups.group.subgroup.Subgroup object at 0x7fe9e0e68040>, rail_travel=None, leisure=None, box=None), health_information=None, susceptibility=1.0, dead=False),\n",
       " Person(id=26891, sex='f', age=42, ethnicity='A', socioecon_index=9, area=<june.demography.geography.Area object at 0x7fe9f95c93a0>, work_super_area=<june.demography.geography.SuperArea object at 0x7fe9f95c9400>, sector='Q', sub_sector=None, home_city=None, mode_of_transport=<ModeOfTransport Bus, minibus or coach>, busy=True, subgroups=Activities(residence=<june.groups.group.subgroup.Subgroup object at 0x7fe9f9803eb0>, primary_activity=<june.groups.group.subgroup.Subgroup object at 0x7fe9fb881c80>, hospital=None, commute=<june.groups.group.subgroup.Subgroup object at 0x7fe9e0e68040>, rail_travel=None, leisure=None, box=None), health_information=None, susceptibility=1.0, dead=False),\n",
       " Person(id=26894, sex='f', age=42, ethnicity='A', socioecon_index=9, area=<june.demography.geography.Area object at 0x7fe9f95c93a0>, work_super_area=<june.demography.geography.SuperArea object at 0x7fe9f95c9400>, sector='I', sub_sector=None, home_city=None, mode_of_transport=<ModeOfTransport Bus, minibus or coach>, busy=True, subgroups=Activities(residence=<june.groups.group.subgroup.Subgroup object at 0x7fe9f97d27b0>, primary_activity=<june.groups.group.subgroup.Subgroup object at 0x7fe9fb85a200>, hospital=None, commute=<june.groups.group.subgroup.Subgroup object at 0x7fe9e0e68040>, rail_travel=None, leisure=None, box=None), health_information=None, susceptibility=1.0, dead=False),\n",
       " Person(id=26896, sex='m', age=43, ethnicity='A', socioecon_index=9, area=<june.demography.geography.Area object at 0x7fe9f95c93a0>, work_super_area=<june.demography.geography.SuperArea object at 0x7fe9f95c9400>, sector='G', sub_sector=None, home_city=None, mode_of_transport=<ModeOfTransport Bus, minibus or coach>, busy=True, subgroups=Activities(residence=<june.groups.group.subgroup.Subgroup object at 0x7fe9f97f0270>, primary_activity=<june.groups.group.subgroup.Subgroup object at 0x7fe9fb8773c0>, hospital=None, commute=<june.groups.group.subgroup.Subgroup object at 0x7fe9e0e68040>, rail_travel=None, leisure=None, box=None), health_information=None, susceptibility=1.0, dead=False),\n",
       " Person(id=26902, sex='f', age=43, ethnicity='A', socioecon_index=9, area=<june.demography.geography.Area object at 0x7fe9f95c93a0>, work_super_area=<june.demography.geography.SuperArea object at 0x7fe9f95c9400>, sector='P', sub_sector=None, home_city=None, mode_of_transport=<ModeOfTransport Bus, minibus or coach>, busy=True, subgroups=Activities(residence=<june.groups.group.subgroup.Subgroup object at 0x7fe9f97e6270>, primary_activity=<june.groups.group.subgroup.Subgroup object at 0x7fe9fb877190>, hospital=None, commute=<june.groups.group.subgroup.Subgroup object at 0x7fe9e0e68040>, rail_travel=None, leisure=None, box=None), health_information=None, susceptibility=1.0, dead=False),\n",
       " Person(id=26907, sex='f', age=44, ethnicity='A', socioecon_index=9, area=<june.demography.geography.Area object at 0x7fe9f95c93a0>, work_super_area=<june.demography.geography.SuperArea object at 0x7fe9f95c9400>, sector='P', sub_sector=None, home_city=None, mode_of_transport=<ModeOfTransport Bus, minibus or coach>, busy=True, subgroups=Activities(residence=<june.groups.group.subgroup.Subgroup object at 0x7fe9f9803b30>, primary_activity=<june.groups.group.subgroup.Subgroup object at 0x7fe9fb864120>, hospital=None, commute=<june.groups.group.subgroup.Subgroup object at 0x7fe9e0e68040>, rail_travel=None, leisure=None, box=None), health_information=None, susceptibility=1.0, dead=False),\n",
       " Person(id=27007, sex='m', age=56, ethnicity='A', socioecon_index=9, area=<june.demography.geography.Area object at 0x7fe9f95c93a0>, work_super_area=<june.demography.geography.SuperArea object at 0x7fe9f95c9400>, sector='C', sub_sector=None, home_city=None, mode_of_transport=<ModeOfTransport Bus, minibus or coach>, busy=True, subgroups=Activities(residence=<june.groups.group.subgroup.Subgroup object at 0x7fe9f97f4970>, primary_activity=<june.groups.group.subgroup.Subgroup object at 0x7fe9fb881d60>, hospital=None, commute=<june.groups.group.subgroup.Subgroup object at 0x7fe9e0e68040>, rail_travel=None, leisure=None, box=None), health_information=None, susceptibility=1.0, dead=False),\n",
       " Person(id=27031, sex='f', age=62, ethnicity='A', socioecon_index=9, area=<june.demography.geography.Area object at 0x7fe9f95c93a0>, work_super_area=<june.demography.geography.SuperArea object at 0x7fe9f95c9400>, sector='Q', sub_sector=None, home_city=None, mode_of_transport=<ModeOfTransport Train>, busy=True, subgroups=Activities(residence=<june.groups.group.subgroup.Subgroup object at 0x7fe9f9803970>, primary_activity=<june.groups.group.subgroup.Subgroup object at 0x7fe9fb85a3c0>, hospital=None, commute=<june.groups.group.subgroup.Subgroup object at 0x7fe9e0e68040>, rail_travel=None, leisure=None, box=None), health_information=None, susceptibility=1.0, dead=False),\n",
       " Person(id=36993, sex='f', age=56, ethnicity='A', socioecon_index=9, area=<june.demography.geography.Area object at 0x7fe9f95c9e20>, work_super_area=<june.demography.geography.SuperArea object at 0x7fe9f95c9400>, sector='R', sub_sector=None, home_city=None, mode_of_transport=<ModeOfTransport Train>, busy=True, subgroups=Activities(residence=<june.groups.group.subgroup.Subgroup object at 0x7fe9f8e066d0>, primary_activity=<june.groups.group.subgroup.Subgroup object at 0x7fe9fb85a4a0>, hospital=None, commute=<june.groups.group.subgroup.Subgroup object at 0x7fe9e0e68040>, rail_travel=None, leisure=None, box=None), health_information=None, susceptibility=1.0, dead=False),\n",
       " Person(id=37013, sex='f', age=62, ethnicity='A', socioecon_index=9, area=<june.demography.geography.Area object at 0x7fe9f95c9e20>, work_super_area=<june.demography.geography.SuperArea object at 0x7fe9f95c9400>, sector='P', sub_sector=None, home_city=None, mode_of_transport=<ModeOfTransport Train>, busy=True, subgroups=Activities(residence=<june.groups.group.subgroup.Subgroup object at 0x7fe9f8e06f90>, primary_activity=<june.groups.group.subgroup.Subgroup object at 0x7fe9fb877190>, hospital=None, commute=<june.groups.group.subgroup.Subgroup object at 0x7fe9e0e68040>, rail_travel=None, leisure=None, box=None), health_information=None, susceptibility=1.0, dead=False),\n",
       " Person(id=37283, sex='m', age=51, ethnicity='A', socioecon_index=9, area=<june.demography.geography.Area object at 0x7fe9f95c9e80>, work_super_area=<june.demography.geography.SuperArea object at 0x7fe9f95c9400>, sector='G', sub_sector=None, home_city=None, mode_of_transport=<ModeOfTransport Train>, busy=True, subgroups=Activities(residence=<june.groups.group.subgroup.Subgroup object at 0x7fe9f8d5fe40>, primary_activity=<june.groups.group.subgroup.Subgroup object at 0x7fe9fb8776d0>, hospital=None, commute=<june.groups.group.subgroup.Subgroup object at 0x7fe9e0e68040>, rail_travel=None, leisure=None, box=None), health_information=None, susceptibility=1.0, dead=False),\n",
       " Person(id=37350, sex='f', age=63, ethnicity='A', socioecon_index=9, area=<june.demography.geography.Area object at 0x7fe9f95c9e80>, work_super_area=<june.demography.geography.SuperArea object at 0x7fe9f95c9400>, sector='P', sub_sector=None, home_city=None, mode_of_transport=<ModeOfTransport Bus, minibus or coach>, busy=True, subgroups=Activities(residence=<june.groups.group.subgroup.Subgroup object at 0x7fe9f8d73200>, primary_activity=<june.groups.group.subgroup.Subgroup object at 0x7fe9fb877190>, hospital=None, commute=<june.groups.group.subgroup.Subgroup object at 0x7fe9e0e68040>, rail_travel=None, leisure=None, box=None), health_information=None, susceptibility=1.0, dead=False),\n",
       " Person(id=37351, sex='m', age=63, ethnicity='A', socioecon_index=9, area=<june.demography.geography.Area object at 0x7fe9f95c9e80>, work_super_area=<june.demography.geography.SuperArea object at 0x7fe9f95c9400>, sector='C', sub_sector=None, home_city=None, mode_of_transport=<ModeOfTransport Train>, busy=True, subgroups=Activities(residence=<june.groups.group.subgroup.Subgroup object at 0x7fe9f8d63c80>, primary_activity=<june.groups.group.subgroup.Subgroup object at 0x7fe9fb881f20>, hospital=None, commute=<june.groups.group.subgroup.Subgroup object at 0x7fe9e0e68040>, rail_travel=None, leisure=None, box=None), health_information=None, susceptibility=1.0, dead=False),\n",
       " Person(id=37649, sex='f', age=52, ethnicity='A', socioecon_index=9, area=<june.demography.geography.Area object at 0x7fe9f95c9ee0>, work_super_area=<june.demography.geography.SuperArea object at 0x7fe9f95c9400>, sector='G', sub_sector=None, home_city=None, mode_of_transport=<ModeOfTransport Train>, busy=True, subgroups=Activities(residence=<june.groups.group.subgroup.Subgroup object at 0x7fe9f8d25a50>, primary_activity=<june.groups.group.subgroup.Subgroup object at 0x7fe9fb864b30>, hospital=None, commute=<june.groups.group.subgroup.Subgroup object at 0x7fe9e0e68040>, rail_travel=None, leisure=None, box=None), health_information=None, susceptibility=1.0, dead=False),\n",
       " Person(id=37888, sex='m', age=18, ethnicity='A', socioecon_index=9, area=<june.demography.geography.Area object at 0x7fe9f95c9f40>, work_super_area=<june.demography.geography.SuperArea object at 0x7fe9f95c9400>, sector='M', sub_sector=None, home_city=None, mode_of_transport=<ModeOfTransport Train>, busy=True, subgroups=Activities(residence=<june.groups.group.subgroup.Subgroup object at 0x7fe9f8c653c0>, primary_activity=<june.groups.group.subgroup.Subgroup object at 0x7fe9f939c430>, hospital=None, commute=<june.groups.group.subgroup.Subgroup object at 0x7fe9e0e68040>, rail_travel=None, leisure=None, box=None), health_information=None, susceptibility=1.0, dead=False),\n",
       " Person(id=37925, sex='f', age=32, ethnicity='A', socioecon_index=9, area=<june.demography.geography.Area object at 0x7fe9f95c9f40>, work_super_area=<june.demography.geography.SuperArea object at 0x7fe9f95c9400>, sector='G', sub_sector=None, home_city=None, mode_of_transport=<ModeOfTransport Bus, minibus or coach>, busy=True, subgroups=Activities(residence=<june.groups.group.subgroup.Subgroup object at 0x7fe9f8c485f0>, primary_activity=<june.groups.group.subgroup.Subgroup object at 0x7fe9fb86c2e0>, hospital=None, commute=<june.groups.group.subgroup.Subgroup object at 0x7fe9e0e68040>, rail_travel=None, leisure=None, box=None), health_information=None, susceptibility=1.0, dead=False),\n",
       " Person(id=38612, sex='f', age=20, ethnicity='A', socioecon_index=9, area=<june.demography.geography.Area object at 0x7fe9f95c7040>, work_super_area=<june.demography.geography.SuperArea object at 0x7fe9f95c9400>, sector='C', sub_sector=None, home_city=None, mode_of_transport=<ModeOfTransport Train>, busy=True, subgroups=Activities(residence=<june.groups.group.subgroup.Subgroup object at 0x7fe9f8b92430>, primary_activity=<june.groups.group.subgroup.Subgroup object at 0x7fe9f9590e40>, hospital=None, commute=<june.groups.group.subgroup.Subgroup object at 0x7fe9e0e68040>, rail_travel=None, leisure=None, box=None), health_information=None, susceptibility=1.0, dead=False),\n",
       " Person(id=38619, sex='m', age=21, ethnicity='A', socioecon_index=9, area=<june.demography.geography.Area object at 0x7fe9f95c7040>, work_super_area=<june.demography.geography.SuperArea object at 0x7fe9f95c9400>, sector='F', sub_sector=None, home_city=None, mode_of_transport=<ModeOfTransport Train>, busy=True, subgroups=Activities(residence=<june.groups.group.subgroup.Subgroup object at 0x7fe9f8b8de40>, primary_activity=<june.groups.group.subgroup.Subgroup object at 0x7fe9f9590f20>, hospital=None, commute=<june.groups.group.subgroup.Subgroup object at 0x7fe9e0e68040>, rail_travel=None, leisure=None, box=None), health_information=None, susceptibility=1.0, dead=False),\n",
       " Person(id=38712, sex='f', age=46, ethnicity='A', socioecon_index=9, area=<june.demography.geography.Area object at 0x7fe9f95c7040>, work_super_area=<june.demography.geography.SuperArea object at 0x7fe9f95c9400>, sector='P', sub_sector=None, home_city=None, mode_of_transport=<ModeOfTransport Train>, busy=True, subgroups=Activities(residence=<june.groups.group.subgroup.Subgroup object at 0x7fe9f8be3cf0>, primary_activity=<june.groups.group.subgroup.Subgroup object at 0x7fe9fb881430>, hospital=None, commute=<june.groups.group.subgroup.Subgroup object at 0x7fe9e0e68040>, rail_travel=None, leisure=None, box=None), health_information=None, susceptibility=1.0, dead=False),\n",
       " Person(id=38760, sex='m', age=55, ethnicity='A', socioecon_index=9, area=<june.demography.geography.Area object at 0x7fe9f95c7040>, work_super_area=<june.demography.geography.SuperArea object at 0x7fe9f95c9400>, sector='F', sub_sector=None, home_city=None, mode_of_transport=<ModeOfTransport Train>, busy=True, subgroups=Activities(residence=<june.groups.group.subgroup.Subgroup object at 0x7fe9f8bedeb0>, primary_activity=<june.groups.group.subgroup.Subgroup object at 0x7fe9fb86c0b0>, hospital=None, commute=<june.groups.group.subgroup.Subgroup object at 0x7fe9e0e68040>, rail_travel=None, leisure=None, box=None), health_information=None, susceptibility=1.0, dead=False),\n",
       " Person(id=38775, sex='f', age=58, ethnicity='A', socioecon_index=9, area=<june.demography.geography.Area object at 0x7fe9f95c7040>, work_super_area=<june.demography.geography.SuperArea object at 0x7fe9f95c9400>, sector='M', sub_sector=None, home_city=None, mode_of_transport=<ModeOfTransport Train>, busy=True, subgroups=Activities(residence=<june.groups.group.subgroup.Subgroup object at 0x7fe9f8b96270>, primary_activity=<june.groups.group.subgroup.Subgroup object at 0x7fe9fb881f90>, hospital=None, commute=<june.groups.group.subgroup.Subgroup object at 0x7fe9e0e68040>, rail_travel=None, leisure=None, box=None), health_information=None, susceptibility=1.0, dead=False),\n",
       " Person(id=38946, sex='f', age=32, ethnicity='A', socioecon_index=9, area=<june.demography.geography.Area object at 0x7fe9f95c70a0>, work_super_area=<june.demography.geography.SuperArea object at 0x7fe9f95c9400>, sector='K', sub_sector=None, home_city=None, mode_of_transport=<ModeOfTransport Train>, busy=True, subgroups=Activities(residence=<june.groups.group.subgroup.Subgroup object at 0x7fe9f8bb90b0>, primary_activity=<june.groups.group.subgroup.Subgroup object at 0x7fe9fb881890>, hospital=None, commute=<june.groups.group.subgroup.Subgroup object at 0x7fe9e0e68040>, rail_travel=None, leisure=None, box=None), health_information=None, susceptibility=1.0, dead=False),\n",
       " Person(id=38953, sex='m', age=34, ethnicity='A', socioecon_index=9, area=<june.demography.geography.Area object at 0x7fe9f95c70a0>, work_super_area=<june.demography.geography.SuperArea object at 0x7fe9f95c9400>, sector='H', sub_sector=None, home_city=None, mode_of_transport=<ModeOfTransport Train>, busy=True, subgroups=Activities(residence=<june.groups.group.subgroup.Subgroup object at 0x7fe9f8b50430>, primary_activity=<june.groups.group.subgroup.Subgroup object at 0x7fe9fb864c80>, hospital=None, commute=<june.groups.group.subgroup.Subgroup object at 0x7fe9e0e68040>, rail_travel=None, leisure=None, box=None), health_information=None, susceptibility=1.0, dead=False),\n",
       " Person(id=39530, sex='m', age=26, ethnicity='A', socioecon_index=9, area=<june.demography.geography.Area object at 0x7fe9f95c7160>, work_super_area=<june.demography.geography.SuperArea object at 0x7fe9f95c9400>, sector='J', sub_sector=None, home_city=None, mode_of_transport=<ModeOfTransport Bus, minibus or coach>, busy=True, subgroups=Activities(residence=<june.groups.group.subgroup.Subgroup object at 0x7fe9f8ae00b0>, primary_activity=<june.groups.group.subgroup.Subgroup object at 0x7fe9fb86cf90>, hospital=None, commute=<june.groups.group.subgroup.Subgroup object at 0x7fe9e0e68040>, rail_travel=None, leisure=None, box=None), health_information=None, susceptibility=1.0, dead=False),\n",
       " Person(id=39547, sex='m', age=39, ethnicity='A', socioecon_index=9, area=<june.demography.geography.Area object at 0x7fe9f95c7160>, work_super_area=<june.demography.geography.SuperArea object at 0x7fe9f95c9400>, sector='G', sub_sector=None, home_city=None, mode_of_transport=<ModeOfTransport Train>, busy=True, subgroups=Activities(residence=<june.groups.group.subgroup.Subgroup object at 0x7fe9f8ae6eb0>, primary_activity=<june.groups.group.subgroup.Subgroup object at 0x7fe9fb86c7b0>, hospital=None, commute=<june.groups.group.subgroup.Subgroup object at 0x7fe9e0e68040>, rail_travel=None, leisure=None, box=None), health_information=None, susceptibility=1.0, dead=False),\n",
       " Person(id=39555, sex='f', age=42, ethnicity='A', socioecon_index=9, area=<june.demography.geography.Area object at 0x7fe9f95c7160>, work_super_area=<june.demography.geography.SuperArea object at 0x7fe9f95c9400>, sector='Q', sub_sector=None, home_city=None, mode_of_transport=<ModeOfTransport Train>, busy=True, subgroups=Activities(residence=<june.groups.group.subgroup.Subgroup object at 0x7fe9f8aefcf0>, primary_activity=<june.groups.group.subgroup.Subgroup object at 0x7fe9fb8774a0>, hospital=None, commute=<june.groups.group.subgroup.Subgroup object at 0x7fe9e0e68040>, rail_travel=None, leisure=None, box=None), health_information=None, susceptibility=1.0, dead=False),\n",
       " Person(id=39608, sex='m', age=60, ethnicity='A', socioecon_index=9, area=<june.demography.geography.Area object at 0x7fe9f95c7160>, work_super_area=<june.demography.geography.SuperArea object at 0x7fe9f95c9400>, sector='N', sub_sector=None, home_city=None, mode_of_transport=<ModeOfTransport Bus, minibus or coach>, busy=True, subgroups=Activities(residence=<june.groups.group.subgroup.Subgroup object at 0x7fe9f8ad3120>, primary_activity=<june.groups.group.subgroup.Subgroup object at 0x7fe9fb8640b0>, hospital=None, commute=<june.groups.group.subgroup.Subgroup object at 0x7fe9e0e68040>, rail_travel=None, leisure=None, box=None), health_information=None, susceptibility=1.0, dead=False),\n",
       " Person(id=39828, sex='f', age=30, ethnicity='A', socioecon_index=6, area=<june.demography.geography.Area object at 0x7fe9f95c71c0>, work_super_area=<june.demography.geography.SuperArea object at 0x7fe9f95c9400>, sector='P', sub_sector=None, home_city=None, mode_of_transport=<ModeOfTransport Train>, busy=True, subgroups=Activities(residence=<june.groups.group.subgroup.Subgroup object at 0x7fe9f8a9eb30>, primary_activity=<june.groups.group.subgroup.Subgroup object at 0x7fe9fb864120>, hospital=None, commute=<june.groups.group.subgroup.Subgroup object at 0x7fe9e0e68040>, rail_travel=None, leisure=None, box=None), health_information=None, susceptibility=1.0, dead=False),\n",
       " Person(id=39846, sex='f', age=35, ethnicity='A', socioecon_index=6, area=<june.demography.geography.Area object at 0x7fe9f95c71c0>, work_super_area=<june.demography.geography.SuperArea object at 0x7fe9f95c9400>, sector='G', sub_sector=None, home_city=None, mode_of_transport=<ModeOfTransport Train>, busy=True, subgroups=Activities(residence=<june.groups.group.subgroup.Subgroup object at 0x7fe9f8a93eb0>, primary_activity=<june.groups.group.subgroup.Subgroup object at 0x7fe9fb8cfb30>, hospital=None, commute=<june.groups.group.subgroup.Subgroup object at 0x7fe9e0e68040>, rail_travel=None, leisure=None, box=None), health_information=None, susceptibility=1.0, dead=False),\n",
       " Person(id=39916, sex='f', age=45, ethnicity='A', socioecon_index=6, area=<june.demography.geography.Area object at 0x7fe9f95c71c0>, work_super_area=<june.demography.geography.SuperArea object at 0x7fe9f95c9400>, sector='Q', sub_sector=None, home_city=None, mode_of_transport=<ModeOfTransport Train>, busy=True, subgroups=Activities(residence=<june.groups.group.subgroup.Subgroup object at 0x7fe9f8a8fcf0>, primary_activity=<june.groups.group.subgroup.Subgroup object at 0x7fe9fb813740>, hospital=None, commute=<june.groups.group.subgroup.Subgroup object at 0x7fe9e0e68040>, rail_travel=None, leisure=None, box=None), health_information=None, susceptibility=1.0, dead=False),\n",
       " Person(id=39952, sex='f', age=52, ethnicity='A', socioecon_index=6, area=<june.demography.geography.Area object at 0x7fe9f95c71c0>, work_super_area=<june.demography.geography.SuperArea object at 0x7fe9f95c9400>, sector='Q', sub_sector=None, home_city=None, mode_of_transport=<ModeOfTransport Train>, busy=True, subgroups=Activities(residence=<june.groups.group.subgroup.Subgroup object at 0x7fe9f8a98b30>, primary_activity=<june.groups.group.subgroup.Subgroup object at 0x7fe9fb813200>, hospital=None, commute=<june.groups.group.subgroup.Subgroup object at 0x7fe9e0e68040>, rail_travel=None, leisure=None, box=None), health_information=None, susceptibility=1.0, dead=False),\n",
       " Person(id=39982, sex='f', age=59, ethnicity='A', socioecon_index=6, area=<june.demography.geography.Area object at 0x7fe9f95c71c0>, work_super_area=<june.demography.geography.SuperArea object at 0x7fe9f95c9400>, sector='Q', sub_sector=None, home_city=None, mode_of_transport=<ModeOfTransport Bus, minibus or coach>, busy=True, subgroups=Activities(residence=<june.groups.group.subgroup.Subgroup object at 0x7fe9f8a8f7b0>, primary_activity=<june.groups.group.subgroup.Subgroup object at 0x7fe9fb88a890>, hospital=None, commute=<june.groups.group.subgroup.Subgroup object at 0x7fe9e0e68040>, rail_travel=None, leisure=None, box=None), health_information=None, susceptibility=1.0, dead=False),\n",
       " Person(id=40149, sex='f', age=19, ethnicity='A', socioecon_index=5, area=<june.demography.geography.Area object at 0x7fe9f95c7220>, work_super_area=<june.demography.geography.SuperArea object at 0x7fe9f95c9400>, sector='Q', sub_sector=None, home_city=None, mode_of_transport=<ModeOfTransport Bus, minibus or coach>, busy=True, subgroups=Activities(residence=<june.groups.group.subgroup.Subgroup object at 0x7fe9f8a80ba0>, primary_activity=<june.groups.group.subgroup.Subgroup object at 0x7fe9f9590d60>, hospital=None, commute=<june.groups.group.subgroup.Subgroup object at 0x7fe9e0e68040>, rail_travel=None, leisure=None, box=None), health_information=None, susceptibility=1.0, dead=False),\n",
       " Person(id=40460, sex='f', age=28, ethnicity='A', socioecon_index=6, area=<june.demography.geography.Area object at 0x7fe9f95c7280>, work_super_area=<june.demography.geography.SuperArea object at 0x7fe9f95c9400>, sector='G', sub_sector=None, home_city=None, mode_of_transport=<ModeOfTransport Bus, minibus or coach>, busy=True, subgroups=Activities(residence=<june.groups.group.subgroup.Subgroup object at 0x7fe9f8a2f580>, primary_activity=<june.groups.group.subgroup.Subgroup object at 0x7fe9fb8773c0>, hospital=None, commute=<june.groups.group.subgroup.Subgroup object at 0x7fe9e0e68040>, rail_travel=None, leisure=None, box=None), health_information=None, susceptibility=1.0, dead=False),\n",
       " Person(id=40561, sex='f', age=60, ethnicity='A', socioecon_index=6, area=<june.demography.geography.Area object at 0x7fe9f95c7280>, work_super_area=<june.demography.geography.SuperArea object at 0x7fe9f95c9400>, sector='G', sub_sector=None, home_city=None, mode_of_transport=<ModeOfTransport Bus, minibus or coach>, busy=True, subgroups=Activities(residence=<june.groups.group.subgroup.Subgroup object at 0x7fe9f89d9040>, primary_activity=<june.groups.group.subgroup.Subgroup object at 0x7fe9fb8777b0>, hospital=None, commute=<june.groups.group.subgroup.Subgroup object at 0x7fe9e0e68040>, rail_travel=None, leisure=None, box=None), health_information=None, susceptibility=1.0, dead=False),\n",
       " Person(id=40814, sex='f', age=46, ethnicity='A', socioecon_index=6, area=<june.demography.geography.Area object at 0x7fe9f95c72e0>, work_super_area=<june.demography.geography.SuperArea object at 0x7fe9f95c9400>, sector='Q', sub_sector=None, home_city=None, mode_of_transport=<ModeOfTransport Train>, busy=True, subgroups=Activities(residence=<june.groups.group.subgroup.Subgroup object at 0x7fe9f898c740>, primary_activity=<june.groups.group.subgroup.Subgroup object at 0x7fe9fb8646d0>, hospital=None, commute=<june.groups.group.subgroup.Subgroup object at 0x7fe9e0e68040>, rail_travel=None, leisure=None, box=None), health_information=None, susceptibility=1.0, dead=False),\n",
       " Person(id=41057, sex='m', age=26, ethnicity='C', socioecon_index=9, area=<june.demography.geography.Area object at 0x7fe9f95c7340>, work_super_area=<june.demography.geography.SuperArea object at 0x7fe9f95c9400>, sector='G', sub_sector=None, home_city=None, mode_of_transport=<ModeOfTransport Underground, metro, light rail, tram>, busy=True, subgroups=Activities(residence=<june.groups.group.subgroup.Subgroup object at 0x7fe9f895ccf0>, primary_activity=<june.groups.group.subgroup.Subgroup object at 0x7fe9fb881580>, hospital=None, commute=<june.groups.group.subgroup.Subgroup object at 0x7fe9e0e68040>, rail_travel=None, leisure=None, box=None), health_information=None, susceptibility=1.0, dead=False),\n",
       " Person(id=41059, sex='m', age=27, ethnicity='C', socioecon_index=9, area=<june.demography.geography.Area object at 0x7fe9f95c7340>, work_super_area=<june.demography.geography.SuperArea object at 0x7fe9f95c9400>, sector='K', sub_sector=None, home_city=None, mode_of_transport=<ModeOfTransport Train>, busy=True, subgroups=Activities(residence=<june.groups.group.subgroup.Subgroup object at 0x7fe9f8949d60>, primary_activity=<june.groups.group.subgroup.Subgroup object at 0x7fe9fb864270>, hospital=None, commute=<june.groups.group.subgroup.Subgroup object at 0x7fe9e0e68040>, rail_travel=None, leisure=None, box=None), health_information=None, susceptibility=1.0, dead=False),\n",
       " Person(id=41117, sex='m', age=41, ethnicity='A', socioecon_index=9, area=<june.demography.geography.Area object at 0x7fe9f95c7340>, work_super_area=<june.demography.geography.SuperArea object at 0x7fe9f95c9400>, sector='C', sub_sector=None, home_city=None, mode_of_transport=<ModeOfTransport Train>, busy=True, subgroups=Activities(residence=<june.groups.group.subgroup.Subgroup object at 0x7fe9f8962120>, primary_activity=<june.groups.group.subgroup.Subgroup object at 0x7fe9fb881d60>, hospital=None, commute=<june.groups.group.subgroup.Subgroup object at 0x7fe9e0e68040>, rail_travel=None, leisure=None, box=None), health_information=None, susceptibility=1.0, dead=False),\n",
       " Person(id=41203, sex='m', age=58, ethnicity='A', socioecon_index=9, area=<june.demography.geography.Area object at 0x7fe9f95c7340>, work_super_area=<june.demography.geography.SuperArea object at 0x7fe9f95c9400>, sector='P', sub_sector=None, home_city=None, mode_of_transport=<ModeOfTransport Bus, minibus or coach>, busy=True, subgroups=Activities(residence=<june.groups.group.subgroup.Subgroup object at 0x7fe9f8953120>, primary_activity=<june.groups.group.subgroup.Subgroup object at 0x7fe9fb813430>, hospital=None, commute=<june.groups.group.subgroup.Subgroup object at 0x7fe9e0e68040>, rail_travel=None, leisure=None, box=None), health_information=None, susceptibility=1.0, dead=False),\n",
       " Person(id=41649, sex='m', age=31, ethnicity='D', socioecon_index=5, area=<june.demography.geography.Area object at 0x7fe9f95c7400>, work_super_area=<june.demography.geography.SuperArea object at 0x7fe9f95c9400>, sector='I', sub_sector=None, home_city=None, mode_of_transport=<ModeOfTransport Bus, minibus or coach>, busy=True, subgroups=Activities(residence=<june.groups.group.subgroup.Subgroup object at 0x7fe9f8944c80>, primary_activity=<june.groups.group.subgroup.Subgroup object at 0x7fe9fb813820>, hospital=None, commute=<june.groups.group.subgroup.Subgroup object at 0x7fe9e0e68040>, rail_travel=None, leisure=None, box=None), health_information=None, susceptibility=1.0, dead=False),\n",
       " Person(id=41661, sex='f', age=34, ethnicity='A', socioecon_index=5, area=<june.demography.geography.Area object at 0x7fe9f95c7400>, work_super_area=<june.demography.geography.SuperArea object at 0x7fe9f95c9400>, sector='G', sub_sector=None, home_city=None, mode_of_transport=<ModeOfTransport Bus, minibus or coach>, busy=True, subgroups=Activities(residence=<june.groups.group.subgroup.Subgroup object at 0x7fe9f88d66d0>, primary_activity=<june.groups.group.subgroup.Subgroup object at 0x7fe9fb86c4a0>, hospital=None, commute=<june.groups.group.subgroup.Subgroup object at 0x7fe9e0e68040>, rail_travel=None, leisure=None, box=None), health_information=None, susceptibility=1.0, dead=False),\n",
       " Person(id=41724, sex='m', age=51, ethnicity='A', socioecon_index=5, area=<june.demography.geography.Area object at 0x7fe9f95c7400>, work_super_area=<june.demography.geography.SuperArea object at 0x7fe9f95c9400>, sector='J', sub_sector=None, home_city=None, mode_of_transport=<ModeOfTransport Train>, busy=True, subgroups=Activities(residence=<june.groups.group.subgroup.Subgroup object at 0x7fe9f88e2e40>, primary_activity=<june.groups.group.subgroup.Subgroup object at 0x7fe9fb8814a0>, hospital=None, commute=<june.groups.group.subgroup.Subgroup object at 0x7fe9e0e68040>, rail_travel=None, leisure=None, box=None), health_information=None, susceptibility=1.0, dead=False),\n",
       " Person(id=41755, sex='f', age=64, ethnicity='A', socioecon_index=5, area=<june.demography.geography.Area object at 0x7fe9f95c7400>, work_super_area=<june.demography.geography.SuperArea object at 0x7fe9f95c9400>, sector='P', sub_sector=None, home_city=None, mode_of_transport=<ModeOfTransport Train>, busy=True, subgroups=Activities(residence=<june.groups.group.subgroup.Subgroup object at 0x7fe9f88eae40>, primary_activity=<june.groups.group.subgroup.Subgroup object at 0x7fe9fb864120>, hospital=None, commute=<june.groups.group.subgroup.Subgroup object at 0x7fe9e0e68040>, rail_travel=None, leisure=None, box=None), health_information=None, susceptibility=1.0, dead=False),\n",
       " Person(id=41917, sex='m', age=36, ethnicity='A', socioecon_index=5, area=<june.demography.geography.Area object at 0x7fe9f95c7460>, work_super_area=<june.demography.geography.SuperArea object at 0x7fe9f95c9400>, sector='F', sub_sector=None, home_city=None, mode_of_transport=<ModeOfTransport Bus, minibus or coach>, busy=True, subgroups=Activities(residence=<june.groups.group.subgroup.Subgroup object at 0x7fe9f888f5f0>, primary_activity=<june.groups.group.subgroup.Subgroup object at 0x7fe9fb86c5f0>, hospital=None, commute=<june.groups.group.subgroup.Subgroup object at 0x7fe9e0e68040>, rail_travel=None, leisure=None, box=None), health_information=None, susceptibility=1.0, dead=False),\n",
       " Person(id=41938, sex='f', age=42, ethnicity='A', socioecon_index=5, area=<june.demography.geography.Area object at 0x7fe9f95c7460>, work_super_area=<june.demography.geography.SuperArea object at 0x7fe9f95c9400>, sector='K', sub_sector=None, home_city=None, mode_of_transport=<ModeOfTransport Bus, minibus or coach>, busy=True, subgroups=Activities(residence=<june.groups.group.subgroup.Subgroup object at 0x7fe9f888fb30>, primary_activity=<june.groups.group.subgroup.Subgroup object at 0x7fe9fb8772e0>, hospital=None, commute=<june.groups.group.subgroup.Subgroup object at 0x7fe9e0e68040>, rail_travel=None, leisure=None, box=None), health_information=None, susceptibility=1.0, dead=False),\n",
       " Person(id=42295, sex='m', age=50, ethnicity='A', socioecon_index=6, area=<june.demography.geography.Area object at 0x7fe9f95c74c0>, work_super_area=<june.demography.geography.SuperArea object at 0x7fe9f95c9400>, sector='U', sub_sector=None, home_city=None, mode_of_transport=<ModeOfTransport Train>, busy=True, subgroups=Activities(residence=<june.groups.group.subgroup.Subgroup object at 0x7fe9f8876430>, primary_activity=<june.groups.group.subgroup.Subgroup object at 0x7fe9fb88a820>, hospital=None, commute=<june.groups.group.subgroup.Subgroup object at 0x7fe9e0e68040>, rail_travel=None, leisure=None, box=None), health_information=None, susceptibility=1.0, dead=False),\n",
       " Person(id=42322, sex='f', age=54, ethnicity='A', socioecon_index=6, area=<june.demography.geography.Area object at 0x7fe9f95c74c0>, work_super_area=<june.demography.geography.SuperArea object at 0x7fe9f95c9400>, sector='P', sub_sector=None, home_city=None, mode_of_transport=<ModeOfTransport Underground, metro, light rail, tram>, busy=True, subgroups=Activities(residence=<june.groups.group.subgroup.Subgroup object at 0x7fe9f884f0b0>, primary_activity=<june.groups.group.subgroup.Subgroup object at 0x7fe9fb877190>, hospital=None, commute=<june.groups.group.subgroup.Subgroup object at 0x7fe9e0e68040>, rail_travel=None, leisure=None, box=None), health_information=None, susceptibility=1.0, dead=False),\n",
       " Person(id=42544, sex='m', age=45, ethnicity='A', socioecon_index=3, area=<june.demography.geography.Area object at 0x7fe9f95c7520>, work_super_area=<june.demography.geography.SuperArea object at 0x7fe9f95c9400>, sector='K', sub_sector=None, home_city=None, mode_of_transport=<ModeOfTransport Train>, busy=True, subgroups=Activities(residence=<june.groups.group.subgroup.Subgroup object at 0x7fe9f882a660>, primary_activity=<june.groups.group.subgroup.Subgroup object at 0x7fe9fb864270>, hospital=None, commute=<june.groups.group.subgroup.Subgroup object at 0x7fe9e0e68040>, rail_travel=None, leisure=None, box=None), health_information=None, susceptibility=1.0, dead=False),\n",
       " Person(id=42593, sex='f', age=58, ethnicity='A', socioecon_index=3, area=<june.demography.geography.Area object at 0x7fe9f95c7520>, work_super_area=<june.demography.geography.SuperArea object at 0x7fe9f95c9400>, sector='N', sub_sector=None, home_city=None, mode_of_transport=<ModeOfTransport Bus, minibus or coach>, busy=True, subgroups=Activities(residence=<june.groups.group.subgroup.Subgroup object at 0x7fe9f88472e0>, primary_activity=<june.groups.group.subgroup.Subgroup object at 0x7fe9fb8137b0>, hospital=None, commute=<june.groups.group.subgroup.Subgroup object at 0x7fe9e0e68040>, rail_travel=None, leisure=None, box=None), health_information=None, susceptibility=1.0, dead=False),\n",
       " Person(id=42802, sex='f', age=44, ethnicity='A', socioecon_index=5, area=<june.demography.geography.Area object at 0x7fe9f95c7580>, work_super_area=<june.demography.geography.SuperArea object at 0x7fe9f95c9400>, sector='M', sub_sector=None, home_city=None, mode_of_transport=<ModeOfTransport Bus, minibus or coach>, busy=True, subgroups=Activities(residence=<june.groups.group.subgroup.Subgroup object at 0x7fe9f87fc9e0>, primary_activity=<june.groups.group.subgroup.Subgroup object at 0x7fe9fb88a0b0>, hospital=None, commute=<june.groups.group.subgroup.Subgroup object at 0x7fe9e0e68040>, rail_travel=None, leisure=None, box=None), health_information=None, susceptibility=1.0, dead=False),\n",
       " Person(id=42806, sex='m', age=45, ethnicity='A', socioecon_index=5, area=<june.demography.geography.Area object at 0x7fe9f95c7580>, work_super_area=<june.demography.geography.SuperArea object at 0x7fe9f95c9400>, sector='G', sub_sector=None, home_city=None, mode_of_transport=<ModeOfTransport Train>, busy=True, subgroups=Activities(residence=<june.groups.group.subgroup.Subgroup object at 0x7fe9f8801f20>, primary_activity=<june.groups.group.subgroup.Subgroup object at 0x7fe9fb88a9e0>, hospital=None, commute=<june.groups.group.subgroup.Subgroup object at 0x7fe9e0e68040>, rail_travel=None, leisure=None, box=None), health_information=None, susceptibility=1.0, dead=False),\n",
       " Person(id=42829, sex='m', age=50, ethnicity='A', socioecon_index=5, area=<june.demography.geography.Area object at 0x7fe9f95c7580>, work_super_area=<june.demography.geography.SuperArea object at 0x7fe9f95c9400>, sector='F', sub_sector=None, home_city=None, mode_of_transport=<ModeOfTransport Train>, busy=True, subgroups=Activities(residence=<june.groups.group.subgroup.Subgroup object at 0x7fe9f87fc4a0>, primary_activity=<june.groups.group.subgroup.Subgroup object at 0x7fe9fb85a820>, hospital=None, commute=<june.groups.group.subgroup.Subgroup object at 0x7fe9e0e68040>, rail_travel=None, leisure=None, box=None), health_information=None, susceptibility=1.0, dead=False),\n",
       " Person(id=42848, sex='f', age=55, ethnicity='D', socioecon_index=5, area=<june.demography.geography.Area object at 0x7fe9f95c7580>, work_super_area=<june.demography.geography.SuperArea object at 0x7fe9f95c9400>, sector='K', sub_sector=None, home_city=None, mode_of_transport=<ModeOfTransport Bus, minibus or coach>, busy=True, subgroups=Activities(residence=<june.groups.group.subgroup.Subgroup object at 0x7fe9f8805820>, primary_activity=<june.groups.group.subgroup.Subgroup object at 0x7fe9fb864970>, hospital=None, commute=<june.groups.group.subgroup.Subgroup object at 0x7fe9e0e68040>, rail_travel=None, leisure=None, box=None), health_information=None, susceptibility=1.0, dead=False),\n",
       " Person(id=43075, sex='m', age=34, ethnicity='A', socioecon_index=3, area=<june.demography.geography.Area object at 0x7fe9f95c75e0>, work_super_area=<june.demography.geography.SuperArea object at 0x7fe9f95c9400>, sector='O', sub_sector=None, home_city=None, mode_of_transport=<ModeOfTransport Train>, busy=True, subgroups=Activities(residence=<june.groups.group.subgroup.Subgroup object at 0x7fe9f87bd5f0>, primary_activity=<june.groups.group.subgroup.Subgroup object at 0x7fe9fb8816d0>, hospital=None, commute=<june.groups.group.subgroup.Subgroup object at 0x7fe9e0e68040>, rail_travel=None, leisure=None, box=None), health_information=None, susceptibility=1.0, dead=False),\n",
       " Person(id=43096, sex='f', age=41, ethnicity='C', socioecon_index=3, area=<june.demography.geography.Area object at 0x7fe9f95c75e0>, work_super_area=<june.demography.geography.SuperArea object at 0x7fe9f95c9400>, sector='P', sub_sector=None, home_city=None, mode_of_transport=<ModeOfTransport Train>, busy=True, subgroups=Activities(residence=<june.groups.group.subgroup.Subgroup object at 0x7fe9f87a94a0>, primary_activity=<june.groups.group.subgroup.Subgroup object at 0x7fe9fb864120>, hospital=None, commute=<june.groups.group.subgroup.Subgroup object at 0x7fe9e0e68040>, rail_travel=None, leisure=None, box=None), health_information=None, susceptibility=1.0, dead=False),\n",
       " Person(id=43325, sex='f', age=28, ethnicity='A', socioecon_index=2, area=<june.demography.geography.Area object at 0x7fe9f95c7640>, work_super_area=<june.demography.geography.SuperArea object at 0x7fe9f95c9400>, sector='P', sub_sector=None, home_city=None, mode_of_transport=<ModeOfTransport Train>, busy=True, subgroups=Activities(residence=<june.groups.group.subgroup.Subgroup object at 0x7fe9f877a350>, primary_activity=<june.groups.group.subgroup.Subgroup object at 0x7fe9fb85a740>, hospital=None, commute=<june.groups.group.subgroup.Subgroup object at 0x7fe9e0e68040>, rail_travel=None, leisure=None, box=None), health_information=None, susceptibility=1.0, dead=False),\n",
       " Person(id=43523, sex='f', age=27, ethnicity='A', socioecon_index=5, area=<june.demography.geography.Area object at 0x7fe9f95c76a0>, work_super_area=<june.demography.geography.SuperArea object at 0x7fe9f95c9400>, sector='N', sub_sector=None, home_city=None, mode_of_transport=<ModeOfTransport Bus, minibus or coach>, busy=True, subgroups=Activities(residence=<june.groups.group.subgroup.Subgroup object at 0x7fe9f86cc510>, primary_activity=<june.groups.group.subgroup.Subgroup object at 0x7fe9fb8643c0>, hospital=None, commute=<june.groups.group.subgroup.Subgroup object at 0x7fe9e0e68040>, rail_travel=None, leisure=None, box=None), health_information=None, susceptibility=1.0, dead=False),\n",
       " Person(id=43777, sex='f', age=27, ethnicity='A', socioecon_index=5, area=<june.demography.geography.Area object at 0x7fe9f95c7700>, work_super_area=<june.demography.geography.SuperArea object at 0x7fe9f95c9400>, sector='Q', sub_sector=None, home_city=None, mode_of_transport=<ModeOfTransport Train>, busy=True, subgroups=Activities(residence=<june.groups.group.subgroup.Subgroup object at 0x7fe9f8696d60>, primary_activity=<june.groups.group.subgroup.Subgroup object at 0x7fe9fb813200>, hospital=None, commute=<june.groups.group.subgroup.Subgroup object at 0x7fe9e0e68040>, rail_travel=None, leisure=None, box=None), health_information=None, susceptibility=1.0, dead=False),\n",
       " Person(id=43780, sex='m', age=28, ethnicity='A', socioecon_index=5, area=<june.demography.geography.Area object at 0x7fe9f95c7700>, work_super_area=<june.demography.geography.SuperArea object at 0x7fe9f95c9400>, sector='J', sub_sector=None, home_city=None, mode_of_transport=<ModeOfTransport Train>, busy=True, subgroups=Activities(residence=<june.groups.group.subgroup.Subgroup object at 0x7fe9f86fea50>, primary_activity=<june.groups.group.subgroup.Subgroup object at 0x7fe9fb85ad60>, hospital=None, commute=<june.groups.group.subgroup.Subgroup object at 0x7fe9e0e68040>, rail_travel=None, leisure=None, box=None), health_information=None, susceptibility=1.0, dead=False),\n",
       " Person(id=43834, sex='m', age=45, ethnicity='A', socioecon_index=5, area=<june.demography.geography.Area object at 0x7fe9f95c7700>, work_super_area=<june.demography.geography.SuperArea object at 0x7fe9f95c9400>, sector='R', sub_sector=None, home_city=None, mode_of_transport=<ModeOfTransport Bus, minibus or coach>, busy=True, subgroups=Activities(residence=<june.groups.group.subgroup.Subgroup object at 0x7fe9f8702c10>, primary_activity=<june.groups.group.subgroup.Subgroup object at 0x7fe9fb85a4a0>, hospital=None, commute=<june.groups.group.subgroup.Subgroup object at 0x7fe9e0e68040>, rail_travel=None, leisure=None, box=None), health_information=None, susceptibility=1.0, dead=False),\n",
       " Person(id=43849, sex='m', age=49, ethnicity='A', socioecon_index=5, area=<june.demography.geography.Area object at 0x7fe9f95c7700>, work_super_area=<june.demography.geography.SuperArea object at 0x7fe9f95c9400>, sector='C', sub_sector=None, home_city=None, mode_of_transport=<ModeOfTransport Train>, busy=True, subgroups=Activities(residence=<june.groups.group.subgroup.Subgroup object at 0x7fe9f8690a50>, primary_activity=<june.groups.group.subgroup.Subgroup object at 0x7fe9fb881f20>, hospital=None, commute=<june.groups.group.subgroup.Subgroup object at 0x7fe9e0e68040>, rail_travel=None, leisure=None, box=None), health_information=None, susceptibility=1.0, dead=False),\n",
       " Person(id=43880, sex='m', age=58, ethnicity='A', socioecon_index=5, area=<june.demography.geography.Area object at 0x7fe9f95c7700>, work_super_area=<june.demography.geography.SuperArea object at 0x7fe9f95c9400>, sector='J', sub_sector=None, home_city=None, mode_of_transport=<ModeOfTransport Bus, minibus or coach>, busy=True, subgroups=Activities(residence=<june.groups.group.subgroup.Subgroup object at 0x7fe9f868c890>, primary_activity=<june.groups.group.subgroup.Subgroup object at 0x7fe9fb88acf0>, hospital=None, commute=<june.groups.group.subgroup.Subgroup object at 0x7fe9e0e68040>, rail_travel=None, leisure=None, box=None), health_information=None, susceptibility=1.0, dead=False),\n",
       " Person(id=44189, sex='m', age=42, ethnicity='D', socioecon_index=3, area=<june.demography.geography.Area object at 0x7fe9f95c7760>, work_super_area=<june.demography.geography.SuperArea object at 0x7fe9f95c9400>, sector='E', sub_sector=None, home_city=None, mode_of_transport=<ModeOfTransport Bus, minibus or coach>, busy=True, subgroups=Activities(residence=<june.groups.group.subgroup.Subgroup object at 0x7fe9f86c6f90>, primary_activity=<june.groups.group.subgroup.Subgroup object at 0x7fe9fb88a900>, hospital=None, commute=<june.groups.group.subgroup.Subgroup object at 0x7fe9e0e68040>, rail_travel=None, leisure=None, box=None), health_information=None, susceptibility=1.0, dead=False),\n",
       " Person(id=44375, sex='m', age=20, ethnicity='A', socioecon_index=3, area=<june.demography.geography.Area object at 0x7fe9f95c77c0>, work_super_area=<june.demography.geography.SuperArea object at 0x7fe9f95c9400>, sector='C', sub_sector=None, home_city=None, mode_of_transport=<ModeOfTransport Train>, busy=True, subgroups=Activities(residence=<june.groups.group.subgroup.Subgroup object at 0x7fe9f86222e0>, primary_activity=<june.groups.group.subgroup.Subgroup object at 0x7fe9f9590e40>, hospital=None, commute=<june.groups.group.subgroup.Subgroup object at 0x7fe9e0e68040>, rail_travel=None, leisure=None, box=None), health_information=None, susceptibility=1.0, dead=False),\n",
       " Person(id=44394, sex='m', age=23, ethnicity='A', socioecon_index=3, area=<june.demography.geography.Area object at 0x7fe9f95c77c0>, work_super_area=<june.demography.geography.SuperArea object at 0x7fe9f95c9400>, sector='G', sub_sector=None, home_city=None, mode_of_transport=<ModeOfTransport Bus, minibus or coach>, busy=True, subgroups=Activities(residence=<june.groups.group.subgroup.Subgroup object at 0x7fe9f8680890>, primary_activity=<june.groups.group.subgroup.Subgroup object at 0x7fe9f95b3040>, hospital=None, commute=<june.groups.group.subgroup.Subgroup object at 0x7fe9e0e68040>, rail_travel=None, leisure=None, box=None), health_information=None, susceptibility=1.0, dead=False),\n",
       " Person(id=44401, sex='f', age=24, ethnicity='A', socioecon_index=3, area=<june.demography.geography.Area object at 0x7fe9f95c77c0>, work_super_area=<june.demography.geography.SuperArea object at 0x7fe9f95c9400>, sector='G', sub_sector=None, home_city=None, mode_of_transport=<ModeOfTransport Train>, busy=True, subgroups=Activities(residence=<june.groups.group.subgroup.Subgroup object at 0x7fe9f8636510>, primary_activity=<june.groups.group.subgroup.Subgroup object at 0x7fe9f9590d60>, hospital=None, commute=<june.groups.group.subgroup.Subgroup object at 0x7fe9e0e68040>, rail_travel=None, leisure=None, box=None), health_information=None, susceptibility=1.0, dead=False),\n",
       " Person(id=44457, sex='f', age=30, ethnicity='D', socioecon_index=3, area=<june.demography.geography.Area object at 0x7fe9f95c77c0>, work_super_area=<june.demography.geography.SuperArea object at 0x7fe9f95c9400>, sector='Q', sub_sector=None, home_city=None, mode_of_transport=<ModeOfTransport Train>, busy=True, subgroups=Activities(residence=<june.groups.group.subgroup.Subgroup object at 0x7fe9f8680a50>, primary_activity=<june.groups.group.subgroup.Subgroup object at 0x7fe9fb881cf0>, hospital=None, commute=<june.groups.group.subgroup.Subgroup object at 0x7fe9e0e68040>, rail_travel=None, leisure=None, box=None), health_information=None, susceptibility=1.0, dead=False),\n",
       " Person(id=44463, sex='f', age=31, ethnicity='A', socioecon_index=3, area=<june.demography.geography.Area object at 0x7fe9f95c77c0>, work_super_area=<june.demography.geography.SuperArea object at 0x7fe9f95c9400>, sector='G', sub_sector=None, home_city=None, mode_of_transport=<ModeOfTransport Train>, busy=True, subgroups=Activities(residence=<june.groups.group.subgroup.Subgroup object at 0x7fe9f860a350>, primary_activity=<june.groups.group.subgroup.Subgroup object at 0x7fe9fb881350>, hospital=None, commute=<june.groups.group.subgroup.Subgroup object at 0x7fe9e0e68040>, rail_travel=None, leisure=None, box=None), health_information=None, susceptibility=1.0, dead=False),\n",
       " Person(id=44464, sex='f', age=31, ethnicity='A', socioecon_index=3, area=<june.demography.geography.Area object at 0x7fe9f95c77c0>, work_super_area=<june.demography.geography.SuperArea object at 0x7fe9f95c9400>, sector='G', sub_sector=None, home_city=None, mode_of_transport=<ModeOfTransport Bus, minibus or coach>, busy=True, subgroups=Activities(residence=<june.groups.group.subgroup.Subgroup object at 0x7fe9f860a190>, primary_activity=<june.groups.group.subgroup.Subgroup object at 0x7fe9fb8cfb30>, hospital=None, commute=<june.groups.group.subgroup.Subgroup object at 0x7fe9e0e68040>, rail_travel=None, leisure=None, box=None), health_information=None, susceptibility=1.0, dead=False),\n",
       " Person(id=44493, sex='m', age=34, ethnicity='A', socioecon_index=3, area=<june.demography.geography.Area object at 0x7fe9f95c77c0>, work_super_area=<june.demography.geography.SuperArea object at 0x7fe9f95c9400>, sector='O', sub_sector=None, home_city=None, mode_of_transport=<ModeOfTransport Train>, busy=True, subgroups=Activities(residence=<june.groups.group.subgroup.Subgroup object at 0x7fe9f8618190>, primary_activity=<june.groups.group.subgroup.Subgroup object at 0x7fe9fb8a7c80>, hospital=None, commute=<june.groups.group.subgroup.Subgroup object at 0x7fe9e0e68040>, rail_travel=None, leisure=None, box=None), health_information=None, susceptibility=1.0, dead=False),\n",
       " Person(id=44788, sex='f', age=25, ethnicity='A', socioecon_index=3, area=<june.demography.geography.Area object at 0x7fe9f95c7820>, work_super_area=<june.demography.geography.SuperArea object at 0x7fe9f95c9400>, sector='Q', sub_sector=None, home_city=None, mode_of_transport=<ModeOfTransport Train>, busy=True, subgroups=Activities(residence=<june.groups.group.subgroup.Subgroup object at 0x7fe9f85eea50>, primary_activity=<june.groups.group.subgroup.Subgroup object at 0x7fe9fb881660>, hospital=None, commute=<june.groups.group.subgroup.Subgroup object at 0x7fe9e0e68040>, rail_travel=None, leisure=None, box=None), health_information=None, susceptibility=1.0, dead=False),\n",
       " Person(id=44836, sex='f', age=32, ethnicity='A', socioecon_index=3, area=<june.demography.geography.Area object at 0x7fe9f95c7820>, work_super_area=<june.demography.geography.SuperArea object at 0x7fe9f95c9400>, sector='G', sub_sector=None, home_city=None, mode_of_transport=<ModeOfTransport Train>, busy=True, subgroups=Activities(residence=<june.groups.group.subgroup.Subgroup object at 0x7fe9f85d6dd0>, primary_activity=<june.groups.group.subgroup.Subgroup object at 0x7fe9fb85a270>, hospital=None, commute=<june.groups.group.subgroup.Subgroup object at 0x7fe9e0e68040>, rail_travel=None, leisure=None, box=None), health_information=None, susceptibility=1.0, dead=False),\n",
       " Person(id=44848, sex='f', age=34, ethnicity='C', socioecon_index=3, area=<june.demography.geography.Area object at 0x7fe9f95c7820>, work_super_area=<june.demography.geography.SuperArea object at 0x7fe9f95c9400>, sector='K', sub_sector=None, home_city=None, mode_of_transport=<ModeOfTransport Train>, busy=True, subgroups=Activities(residence=<june.groups.group.subgroup.Subgroup object at 0x7fe9f85e0190>, primary_activity=<june.groups.group.subgroup.Subgroup object at 0x7fe9fb813ba0>, hospital=None, commute=<june.groups.group.subgroup.Subgroup object at 0x7fe9e0e68040>, rail_travel=None, leisure=None, box=None), health_information=None, susceptibility=1.0, dead=False),\n",
       " Person(id=44862, sex='f', age=36, ethnicity='A', socioecon_index=3, area=<june.demography.geography.Area object at 0x7fe9f95c7820>, work_super_area=<june.demography.geography.SuperArea object at 0x7fe9f95c9400>, sector='P', sub_sector=None, home_city=None, mode_of_transport=<ModeOfTransport Train>, busy=True, subgroups=Activities(residence=<june.groups.group.subgroup.Subgroup object at 0x7fe9f85ee6d0>, primary_activity=<june.groups.group.subgroup.Subgroup object at 0x7fe9fb881430>, hospital=None, commute=<june.groups.group.subgroup.Subgroup object at 0x7fe9e0e68040>, rail_travel=None, leisure=None, box=None), health_information=None, susceptibility=1.0, dead=False),\n",
       " Person(id=44933, sex='f', age=51, ethnicity='B', socioecon_index=3, area=<june.demography.geography.Area object at 0x7fe9f95c7820>, work_super_area=<june.demography.geography.SuperArea object at 0x7fe9f95c9400>, sector='Q', sub_sector=None, home_city=None, mode_of_transport=<ModeOfTransport Train>, busy=True, subgroups=Activities(residence=<june.groups.group.subgroup.Subgroup object at 0x7fe9f85f3890>, primary_activity=<june.groups.group.subgroup.Subgroup object at 0x7fe9fb85a3c0>, hospital=None, commute=<june.groups.group.subgroup.Subgroup object at 0x7fe9e0e68040>, rail_travel=None, leisure=None, box=None), health_information=None, susceptibility=1.0, dead=False),\n",
       " Person(id=45304, sex='m', age=24, ethnicity='A', socioecon_index=2, area=<june.demography.geography.Area object at 0x7fe9f95c78e0>, work_super_area=<june.demography.geography.SuperArea object at 0x7fe9f95c9400>, sector='K', sub_sector=None, home_city=None, mode_of_transport=<ModeOfTransport Bus, minibus or coach>, busy=True, subgroups=Activities(residence=<june.groups.group.subgroup.Subgroup object at 0x7fe9f850b2e0>, primary_activity=<june.groups.group.subgroup.Subgroup object at 0x7fe9f9590f90>, hospital=None, commute=<june.groups.group.subgroup.Subgroup object at 0x7fe9e0e68040>, rail_travel=None, leisure=None, box=None), health_information=None, susceptibility=1.0, dead=False),\n",
       " Person(id=45308, sex='f', age=26, ethnicity='A', socioecon_index=2, area=<june.demography.geography.Area object at 0x7fe9f95c78e0>, work_super_area=<june.demography.geography.SuperArea object at 0x7fe9f95c9400>, sector='K', sub_sector=None, home_city=None, mode_of_transport=<ModeOfTransport Bus, minibus or coach>, busy=True, subgroups=Activities(residence=<june.groups.group.subgroup.Subgroup object at 0x7fe9f8586ba0>, primary_activity=<june.groups.group.subgroup.Subgroup object at 0x7fe9fb8815f0>, hospital=None, commute=<june.groups.group.subgroup.Subgroup object at 0x7fe9e0e68040>, rail_travel=None, leisure=None, box=None), health_information=None, susceptibility=1.0, dead=False),\n",
       " Person(id=45309, sex='m', age=27, ethnicity='A', socioecon_index=2, area=<june.demography.geography.Area object at 0x7fe9f95c78e0>, work_super_area=<june.demography.geography.SuperArea object at 0x7fe9f95c9400>, sector='C', sub_sector=None, home_city=None, mode_of_transport=<ModeOfTransport Bus, minibus or coach>, busy=True, subgroups=Activities(residence=<june.groups.group.subgroup.Subgroup object at 0x7fe9f8586820>, primary_activity=<june.groups.group.subgroup.Subgroup object at 0x7fe9fb813040>, hospital=None, commute=<june.groups.group.subgroup.Subgroup object at 0x7fe9e0e68040>, rail_travel=None, leisure=None, box=None), health_information=None, susceptibility=1.0, dead=False),\n",
       " Person(id=45390, sex='f', age=51, ethnicity='A', socioecon_index=2, area=<june.demography.geography.Area object at 0x7fe9f95c78e0>, work_super_area=<june.demography.geography.SuperArea object at 0x7fe9f95c9400>, sector='G', sub_sector=None, home_city=None, mode_of_transport=<ModeOfTransport Bus, minibus or coach>, busy=True, subgroups=Activities(residence=<june.groups.group.subgroup.Subgroup object at 0x7fe9f8569dd0>, primary_activity=<june.groups.group.subgroup.Subgroup object at 0x7fe9fb881040>, hospital=None, commute=<june.groups.group.subgroup.Subgroup object at 0x7fe9e0e68040>, rail_travel=None, leisure=None, box=None), health_information=None, susceptibility=1.0, dead=False),\n",
       " Person(id=45426, sex='f', age=62, ethnicity='A', socioecon_index=2, area=<june.demography.geography.Area object at 0x7fe9f95c78e0>, work_super_area=<june.demography.geography.SuperArea object at 0x7fe9f95c9400>, sector='G', sub_sector=None, home_city=None, mode_of_transport=<ModeOfTransport Train>, busy=True, subgroups=Activities(residence=<june.groups.group.subgroup.Subgroup object at 0x7fe9f8569dd0>, primary_activity=<june.groups.group.subgroup.Subgroup object at 0x7fe9fb88a350>, hospital=None, commute=<june.groups.group.subgroup.Subgroup object at 0x7fe9e0e68040>, rail_travel=None, leisure=None, box=None), health_information=None, susceptibility=1.0, dead=False),\n",
       " Person(id=45591, sex='f', age=18, ethnicity='A', socioecon_index=2, area=<june.demography.geography.Area object at 0x7fe9f95c7940>, work_super_area=<june.demography.geography.SuperArea object at 0x7fe9f95c9400>, sector='Q', sub_sector=None, home_city=None, mode_of_transport=<ModeOfTransport Train>, busy=True, subgroups=Activities(residence=<june.groups.group.subgroup.Subgroup object at 0x7fe9f84d2cf0>, primary_activity=<june.groups.group.subgroup.Subgroup object at 0x7fe9f93a2350>, hospital=None, commute=<june.groups.group.subgroup.Subgroup object at 0x7fe9e0e68040>, rail_travel=None, leisure=None, box=None), health_information=None, susceptibility=1.0, dead=False),\n",
       " Person(id=45611, sex='f', age=23, ethnicity='A', socioecon_index=2, area=<june.demography.geography.Area object at 0x7fe9f95c7940>, work_super_area=<june.demography.geography.SuperArea object at 0x7fe9f95c9400>, sector='O', sub_sector=None, home_city=None, mode_of_transport=<ModeOfTransport Train>, busy=True, subgroups=Activities(residence=<june.groups.group.subgroup.Subgroup object at 0x7fe9f852f970>, primary_activity=<june.groups.group.subgroup.Subgroup object at 0x7fe9f95b3040>, hospital=None, commute=<june.groups.group.subgroup.Subgroup object at 0x7fe9e0e68040>, rail_travel=None, leisure=None, box=None), health_information=None, susceptibility=1.0, dead=False),\n",
       " Person(id=45620, sex='m', age=27, ethnicity='A', socioecon_index=2, area=<june.demography.geography.Area object at 0x7fe9f95c7940>, work_super_area=<june.demography.geography.SuperArea object at 0x7fe9f95c9400>, sector='F', sub_sector=None, home_city=None, mode_of_transport=<ModeOfTransport Train>, busy=True, subgroups=Activities(residence=<june.groups.group.subgroup.Subgroup object at 0x7fe9f8534430>, primary_activity=<june.groups.group.subgroup.Subgroup object at 0x7fe9fb86c0b0>, hospital=None, commute=<june.groups.group.subgroup.Subgroup object at 0x7fe9e0e68040>, rail_travel=None, leisure=None, box=None), health_information=None, susceptibility=1.0, dead=False),\n",
       " Person(id=45634, sex='m', age=30, ethnicity='C', socioecon_index=2, area=<june.demography.geography.Area object at 0x7fe9f95c7940>, work_super_area=<june.demography.geography.SuperArea object at 0x7fe9f95c9400>, sector='M', sub_sector=None, home_city=None, mode_of_transport=<ModeOfTransport Train>, busy=True, subgroups=Activities(residence=<june.groups.group.subgroup.Subgroup object at 0x7fe9f8534cf0>, primary_activity=<june.groups.group.subgroup.Subgroup object at 0x7fe9fb86c190>, hospital=None, commute=<june.groups.group.subgroup.Subgroup object at 0x7fe9e0e68040>, rail_travel=None, leisure=None, box=None), health_information=None, susceptibility=1.0, dead=False),\n",
       " Person(id=45939, sex='m', age=30, ethnicity='A', socioecon_index=2, area=<june.demography.geography.Area object at 0x7fe9f95c79a0>, work_super_area=<june.demography.geography.SuperArea object at 0x7fe9f95c9400>, sector='M', sub_sector=None, home_city=None, mode_of_transport=<ModeOfTransport Train>, busy=True, subgroups=Activities(residence=<june.groups.group.subgroup.Subgroup object at 0x7fe9f85074a0>, primary_activity=<june.groups.group.subgroup.Subgroup object at 0x7fe9fb8cfeb0>, hospital=None, commute=<june.groups.group.subgroup.Subgroup object at 0x7fe9e0e68040>, rail_travel=None, leisure=None, box=None), health_information=None, susceptibility=1.0, dead=False),\n",
       " Person(id=45965, sex='f', age=35, ethnicity='D', socioecon_index=2, area=<june.demography.geography.Area object at 0x7fe9f95c79a0>, work_super_area=<june.demography.geography.SuperArea object at 0x7fe9f95c9400>, sector='L', sub_sector=None, home_city=None, mode_of_transport=<ModeOfTransport Train>, busy=True, subgroups=Activities(residence=<june.groups.group.subgroup.Subgroup object at 0x7fe9f848d120>, primary_activity=<june.groups.group.subgroup.Subgroup object at 0x7fe9fb813b30>, hospital=None, commute=<june.groups.group.subgroup.Subgroup object at 0x7fe9e0e68040>, rail_travel=None, leisure=None, box=None), health_information=None, susceptibility=1.0, dead=False),\n",
       " Person(id=45994, sex='f', age=40, ethnicity='A', socioecon_index=2, area=<june.demography.geography.Area object at 0x7fe9f95c79a0>, work_super_area=<june.demography.geography.SuperArea object at 0x7fe9f95c9400>, sector='O', sub_sector=None, home_city=None, mode_of_transport=<ModeOfTransport Train>, busy=True, subgroups=Activities(residence=<june.groups.group.subgroup.Subgroup object at 0x7fe9f84f9660>, primary_activity=<june.groups.group.subgroup.Subgroup object at 0x7fe9fb877c10>, hospital=None, commute=<june.groups.group.subgroup.Subgroup object at 0x7fe9e0e68040>, rail_travel=None, leisure=None, box=None), health_information=None, susceptibility=1.0, dead=False),\n",
       " Person(id=45998, sex='m', age=41, ethnicity='A', socioecon_index=2, area=<june.demography.geography.Area object at 0x7fe9f95c79a0>, work_super_area=<june.demography.geography.SuperArea object at 0x7fe9f95c9400>, sector='M', sub_sector=None, home_city=None, mode_of_transport=<ModeOfTransport Train>, busy=True, subgroups=Activities(residence=<june.groups.group.subgroup.Subgroup object at 0x7fe9f8503820>, primary_activity=<june.groups.group.subgroup.Subgroup object at 0x7fe9fb88a660>, hospital=None, commute=<june.groups.group.subgroup.Subgroup object at 0x7fe9e0e68040>, rail_travel=None, leisure=None, box=None), health_information=None, susceptibility=1.0, dead=False),\n",
       " Person(id=46005, sex='m', age=44, ethnicity='A', socioecon_index=2, area=<june.demography.geography.Area object at 0x7fe9f95c79a0>, work_super_area=<june.demography.geography.SuperArea object at 0x7fe9f95c9400>, sector='O', sub_sector=None, home_city=None, mode_of_transport=<ModeOfTransport Train>, busy=True, subgroups=Activities(residence=<june.groups.group.subgroup.Subgroup object at 0x7fe9f8507d60>, primary_activity=<june.groups.group.subgroup.Subgroup object at 0x7fe9fb85a040>, hospital=None, commute=<june.groups.group.subgroup.Subgroup object at 0x7fe9e0e68040>, rail_travel=None, leisure=None, box=None), health_information=None, susceptibility=1.0, dead=False),\n",
       " Person(id=46020, sex='m', age=47, ethnicity='A', socioecon_index=2, area=<june.demography.geography.Area object at 0x7fe9f95c79a0>, work_super_area=<june.demography.geography.SuperArea object at 0x7fe9f95c9400>, sector='O', sub_sector=None, home_city=None, mode_of_transport=<ModeOfTransport Train>, busy=True, subgroups=Activities(residence=<june.groups.group.subgroup.Subgroup object at 0x7fe9f84959e0>, primary_activity=<june.groups.group.subgroup.Subgroup object at 0x7fe9fb8cff90>, hospital=None, commute=<june.groups.group.subgroup.Subgroup object at 0x7fe9e0e68040>, rail_travel=None, leisure=None, box=None), health_information=None, susceptibility=1.0, dead=False),\n",
       " Person(id=46254, sex='m', age=22, ethnicity='A', socioecon_index=2, area=<june.demography.geography.Area object at 0x7fe9f95c7a00>, work_super_area=<june.demography.geography.SuperArea object at 0x7fe9f95c9400>, sector='S', sub_sector=None, home_city=None, mode_of_transport=<ModeOfTransport Train>, busy=True, subgroups=Activities(residence=<june.groups.group.subgroup.Subgroup object at 0x7fe9f8452430>, primary_activity=<june.groups.group.subgroup.Subgroup object at 0x7fe9f9590f90>, hospital=None, commute=<june.groups.group.subgroup.Subgroup object at 0x7fe9e0e68040>, rail_travel=None, leisure=None, box=None), health_information=None, susceptibility=1.0, dead=False),\n",
       " Person(id=46293, sex='m', age=37, ethnicity='A', socioecon_index=2, area=<june.demography.geography.Area object at 0x7fe9f95c7a00>, work_super_area=<june.demography.geography.SuperArea object at 0x7fe9f95c9400>, sector='Q', sub_sector=None, home_city=None, mode_of_transport=<ModeOfTransport Train>, busy=True, subgroups=Activities(residence=<june.groups.group.subgroup.Subgroup object at 0x7fe9f845a660>, primary_activity=<june.groups.group.subgroup.Subgroup object at 0x7fe9fb8646d0>, hospital=None, commute=<june.groups.group.subgroup.Subgroup object at 0x7fe9e0e68040>, rail_travel=None, leisure=None, box=None), health_information=None, susceptibility=1.0, dead=False),\n",
       " Person(id=46348, sex='f', age=50, ethnicity='A', socioecon_index=2, area=<june.demography.geography.Area object at 0x7fe9f95c7a00>, work_super_area=<june.demography.geography.SuperArea object at 0x7fe9f95c9400>, sector='N', sub_sector=None, home_city=None, mode_of_transport=<ModeOfTransport Train>, busy=True, subgroups=Activities(residence=<june.groups.group.subgroup.Subgroup object at 0x7fe9f8465d60>, primary_activity=<june.groups.group.subgroup.Subgroup object at 0x7fe9fb8643c0>, hospital=None, commute=<june.groups.group.subgroup.Subgroup object at 0x7fe9e0e68040>, rail_travel=None, leisure=None, box=None), health_information=None, susceptibility=1.0, dead=False),\n",
       " Person(id=46366, sex='m', age=55, ethnicity='A', socioecon_index=2, area=<june.demography.geography.Area object at 0x7fe9f95c7a00>, work_super_area=<june.demography.geography.SuperArea object at 0x7fe9f95c9400>, sector='G', sub_sector=None, home_city=None, mode_of_transport=<ModeOfTransport Train>, busy=True, subgroups=Activities(residence=<june.groups.group.subgroup.Subgroup object at 0x7fe9f845f660>, primary_activity=<june.groups.group.subgroup.Subgroup object at 0x7fe9fb881ac0>, hospital=None, commute=<june.groups.group.subgroup.Subgroup object at 0x7fe9e0e68040>, rail_travel=None, leisure=None, box=None), health_information=None, susceptibility=1.0, dead=False),\n",
       " Person(id=46527, sex='m', age=19, ethnicity='A', socioecon_index=6, area=<june.demography.geography.Area object at 0x7fe9f95c7a60>, work_super_area=<june.demography.geography.SuperArea object at 0x7fe9f95c9400>, sector='G', sub_sector=None, home_city=None, mode_of_transport=<ModeOfTransport Train>, busy=True, subgroups=Activities(residence=<june.groups.group.subgroup.Subgroup object at 0x7fe9f8416040>, primary_activity=<june.groups.group.subgroup.Subgroup object at 0x7fe9f9590d60>, hospital=None, commute=<june.groups.group.subgroup.Subgroup object at 0x7fe9e0e68040>, rail_travel=None, leisure=None, box=None), health_information=None, susceptibility=1.0, dead=False),\n",
       " Person(id=46540, sex='m', age=22, ethnicity='A', socioecon_index=6, area=<june.demography.geography.Area object at 0x7fe9f95c7a60>, work_super_area=<june.demography.geography.SuperArea object at 0x7fe9f95c9400>, sector='C', sub_sector=None, home_city=None, mode_of_transport=<ModeOfTransport Train>, busy=True, subgroups=Activities(residence=<june.groups.group.subgroup.Subgroup object at 0x7fe9f843bcf0>, primary_activity=<june.groups.group.subgroup.Subgroup object at 0x7fe9f9590f90>, hospital=None, commute=<june.groups.group.subgroup.Subgroup object at 0x7fe9e0e68040>, rail_travel=None, leisure=None, box=None), health_information=None, susceptibility=1.0, dead=False),\n",
       " Person(id=46580, sex='f', age=37, ethnicity='A', socioecon_index=6, area=<june.demography.geography.Area object at 0x7fe9f95c7a60>, work_super_area=<june.demography.geography.SuperArea object at 0x7fe9f95c9400>, sector='P', sub_sector=None, home_city=None, mode_of_transport=<ModeOfTransport Train>, busy=True, subgroups=Activities(residence=<june.groups.group.subgroup.Subgroup object at 0x7fe9f84165f0>, primary_activity=<june.groups.group.subgroup.Subgroup object at 0x7fe9fb85a740>, hospital=None, commute=<june.groups.group.subgroup.Subgroup object at 0x7fe9e0e68040>, rail_travel=None, leisure=None, box=None), health_information=None, susceptibility=1.0, dead=False),\n",
       " Person(id=46617, sex='f', age=45, ethnicity='A', socioecon_index=6, area=<june.demography.geography.Area object at 0x7fe9f95c7a60>, work_super_area=<june.demography.geography.SuperArea object at 0x7fe9f95c9400>, sector='Q', sub_sector=None, home_city=None, mode_of_transport=<ModeOfTransport Train>, busy=True, subgroups=Activities(residence=<june.groups.group.subgroup.Subgroup object at 0x7fe9f84360b0>, primary_activity=<june.groups.group.subgroup.Subgroup object at 0x7fe9fb881c80>, hospital=None, commute=<june.groups.group.subgroup.Subgroup object at 0x7fe9e0e68040>, rail_travel=None, leisure=None, box=None), health_information=None, susceptibility=1.0, dead=False),\n",
       " Person(id=46657, sex='m', age=55, ethnicity='A', socioecon_index=6, area=<june.demography.geography.Area object at 0x7fe9f95c7a60>, work_super_area=<june.demography.geography.SuperArea object at 0x7fe9f95c9400>, sector='F', sub_sector=None, home_city=None, mode_of_transport=<ModeOfTransport Train>, busy=True, subgroups=Activities(residence=<june.groups.group.subgroup.Subgroup object at 0x7fe9f842d7b0>, primary_activity=<june.groups.group.subgroup.Subgroup object at 0x7fe9fb88aba0>, hospital=None, commute=<june.groups.group.subgroup.Subgroup object at 0x7fe9e0e68040>, rail_travel=None, leisure=None, box=None), health_information=None, susceptibility=1.0, dead=False),\n",
       " Person(id=46702, sex='f', age=63, ethnicity='A', socioecon_index=6, area=<june.demography.geography.Area object at 0x7fe9f95c7a60>, work_super_area=<june.demography.geography.SuperArea object at 0x7fe9f95c9400>, sector='K', sub_sector=None, home_city=None, mode_of_transport=<ModeOfTransport Train>, busy=True, subgroups=Activities(residence=<june.groups.group.subgroup.Subgroup object at 0x7fe9f8431cf0>, primary_activity=<june.groups.group.subgroup.Subgroup object at 0x7fe9fb8810b0>, hospital=None, commute=<june.groups.group.subgroup.Subgroup object at 0x7fe9e0e68040>, rail_travel=None, leisure=None, box=None), health_information=None, susceptibility=1.0, dead=False)]"
      ]
     },
     "execution_count": 12,
     "metadata": {},
     "output_type": "execute_result"
    }
   ],
   "source": [
    "[person for hub in world.commutehubs for person in hub.people]"
   ]
  },
  {
   "cell_type": "code",
   "execution_count": null,
   "metadata": {},
   "outputs": [],
   "source": []
  },
  {
   "cell_type": "code",
   "execution_count": null,
   "metadata": {},
   "outputs": [],
   "source": []
  },
  {
   "cell_type": "code",
   "execution_count": null,
   "metadata": {},
   "outputs": [],
   "source": []
  },
  {
   "cell_type": "code",
   "execution_count": null,
   "metadata": {},
   "outputs": [],
   "source": []
  },
  {
   "cell_type": "code",
   "execution_count": null,
   "metadata": {},
   "outputs": [],
   "source": [
    "world.cemeteries = Cemeteries()"
   ]
  },
  {
   "cell_type": "markdown",
   "metadata": {},
   "source": [
    "# Adding the infection"
   ]
  },
  {
   "cell_type": "markdown",
   "metadata": {},
   "source": [
    "Now, you can play around with different models of infections. The building blocks for an infection are: Transmission and Symptoms. For now, only SymptomsConstant and TransmissionConstant are in a state to be used."
   ]
  },
  {
   "cell_type": "code",
   "execution_count": null,
   "metadata": {},
   "outputs": [],
   "source": [
    "selector = InfectionSelector.from_file()"
   ]
  },
  {
   "cell_type": "code",
   "execution_count": null,
   "metadata": {},
   "outputs": [],
   "source": [
    "selector"
   ]
  },
  {
   "cell_type": "markdown",
   "metadata": {},
   "source": [
    "# Adding the interaction"
   ]
  },
  {
   "cell_type": "code",
   "execution_count": null,
   "metadata": {},
   "outputs": [],
   "source": [
    "interaction = ContactAveraging.from_file(selector=selector)\n",
    "#interaction = DefaultInteraction.from_file(selector=selector)"
   ]
  },
  {
   "cell_type": "markdown",
   "metadata": {},
   "source": [
    "Beta are the intensities of the interaction taking place at the different groups"
   ]
  },
  {
   "cell_type": "code",
   "execution_count": null,
   "metadata": {},
   "outputs": [],
   "source": [
    "interaction.beta"
   ]
  },
  {
   "cell_type": "markdown",
   "metadata": {},
   "source": [
    "to modify these, simply do"
   ]
  },
  {
   "cell_type": "code",
   "execution_count": null,
   "metadata": {},
   "outputs": [],
   "source": [
    "interaction.beta['household'] *= 2"
   ]
  },
  {
   "cell_type": "code",
   "execution_count": null,
   "metadata": {},
   "outputs": [],
   "source": [
    "interaction.beta"
   ]
  },
  {
   "cell_type": "markdown",
   "metadata": {},
   "source": [
    "moreover this interaction module uses contact matrices, that are different for different groups. These contact matrices shouldnt be modified for now. However they are a combination of conversational contact matrices, and physical contact matrices (see the BBC pandemic paper, from where these matrices are extracted https://www.medrxiv.org/content/10.1101/2020.02.16.20023754v2)\n",
    "\n",
    "There is a parameter, ``alpha`` ($\\alpha$), that combines these two matrices in the following way,\n",
    "\n",
    "\n",
    "$\\beta M \\left(1 + (\\alpha -1) \\right) P$\n",
    "\n",
    "where $\\beta$ is the intensity of the interaction, and $P$ the physical contact matrix. A larger $\\alpha$ produces more physical contacts. It is an overall number, non dependent of the particular group.\n"
   ]
  },
  {
   "cell_type": "code",
   "execution_count": null,
   "metadata": {},
   "outputs": [],
   "source": [
    "interaction.alpha_physical"
   ]
  },
  {
   "cell_type": "code",
   "execution_count": null,
   "metadata": {},
   "outputs": [],
   "source": [
    "interaction.alpha_physical /= 2"
   ]
  },
  {
   "cell_type": "code",
   "execution_count": null,
   "metadata": {},
   "outputs": [],
   "source": [
    "interaction.alpha_physical"
   ]
  },
  {
   "cell_type": "markdown",
   "metadata": {},
   "source": [
    "# Seed the disease"
   ]
  },
  {
   "cell_type": "markdown",
   "metadata": {},
   "source": [
    "There are two options implemented in the seed at the moment, either you specify the number of cases and these are then homogeneously distributed by population to the different areas, or you use UK data on cases per region. For now use the first case."
   ]
  },
  {
   "cell_type": "code",
   "execution_count": null,
   "metadata": {},
   "outputs": [],
   "source": [
    "seed = Seed(world.super_areas, selector,)"
   ]
  },
  {
   "cell_type": "code",
   "execution_count": null,
   "metadata": {},
   "outputs": [],
   "source": [
    "n_cases = 50\n",
    "seed.unleash_virus(n_cases) # play around with the initial number of cases"
   ]
  },
  {
   "cell_type": "markdown",
   "metadata": {},
   "source": [
    "# Set policies"
   ]
  },
  {
   "cell_type": "code",
   "execution_count": null,
   "metadata": {},
   "outputs": [],
   "source": [
    "social_distance = Policy(policy=\"social_distance\",\n",
    "                         start_time=datetime(2020, 3, 25), \n",
    "                         end_time=datetime(2020, 4, 1))"
   ]
  },
  {
   "cell_type": "code",
   "execution_count": null,
   "metadata": {},
   "outputs": [],
   "source": [
    "policies = Policies.from_file([social_distance])"
   ]
  },
  {
   "cell_type": "code",
   "execution_count": null,
   "metadata": {},
   "outputs": [],
   "source": [
    "policies.config['social distancing']"
   ]
  },
  {
   "cell_type": "markdown",
   "metadata": {},
   "source": [
    "# Run the simulation"
   ]
  },
  {
   "cell_type": "markdown",
   "metadata": {},
   "source": [
    "Since the timer configuration is a bit cumbersome, it is read from the config file at ``configs/config_example.yaml``"
   ]
  },
  {
   "cell_type": "code",
   "execution_count": null,
   "metadata": {},
   "outputs": [],
   "source": [
    "CONFIG_PATH = \"../configs/config_example.yaml\"\n",
    "\n",
    "leisure_instance = leisure.generate_leisure_for_config(\n",
    "world=world, config_filename = CONFIG_PATH\n",
    ")\n",
    "simulator = Simulator.from_file(\n",
    "     world, interaction, selector, \n",
    "    config_filename = CONFIG_PATH,\n",
    "    leisure = leisure_instance,\n",
    "    policies = policies\n",
    ")"
   ]
  },
  {
   "cell_type": "code",
   "execution_count": null,
   "metadata": {},
   "outputs": [],
   "source": [
    "simulator.timer.reset()"
   ]
  },
  {
   "cell_type": "code",
   "execution_count": null,
   "metadata": {
    "scrolled": true
   },
   "outputs": [],
   "source": [
    "%%time\n",
    "simulator.run()"
   ]
  },
  {
   "cell_type": "markdown",
   "metadata": {},
   "source": [
    "While the simulation runs (and afterwards) we can launch the visualization webpage by running\n",
    "```python june/visualizer.py path/to/results``` "
   ]
  },
  {
   "cell_type": "markdown",
   "metadata": {},
   "source": [
    "# Getting the results"
   ]
  },
  {
   "cell_type": "markdown",
   "metadata": {},
   "source": [
    "All results are stored in a json file specified in the ``save_path`` variable in the config file. We can also access it from ``world.logger`` directly."
   ]
  },
  {
   "cell_type": "code",
   "execution_count": null,
   "metadata": {},
   "outputs": [],
   "source": [
    "import pandas as pd"
   ]
  },
  {
   "cell_type": "code",
   "execution_count": null,
   "metadata": {},
   "outputs": [],
   "source": [
    "read = ReadLogger()"
   ]
  },
  {
   "cell_type": "markdown",
   "metadata": {},
   "source": [
    "## Hospital data and how it changed over time"
   ]
  },
  {
   "cell_type": "code",
   "execution_count": null,
   "metadata": {},
   "outputs": [],
   "source": [
    "hospitals_df = read.load_hospital_capacity()"
   ]
  },
  {
   "cell_type": "code",
   "execution_count": null,
   "metadata": {},
   "outputs": [],
   "source": [
    "hospitals_df.head(3)"
   ]
  },
  {
   "cell_type": "code",
   "execution_count": null,
   "metadata": {},
   "outputs": [],
   "source": [
    "hospitals_characteristics_df = read.load_hospital_characteristics()"
   ]
  },
  {
   "cell_type": "code",
   "execution_count": null,
   "metadata": {},
   "outputs": [],
   "source": [
    "hospitals_characteristics_df"
   ]
  },
  {
   "cell_type": "markdown",
   "metadata": {},
   "source": [
    "## where did infections happen?"
   ]
  },
  {
   "cell_type": "code",
   "execution_count": null,
   "metadata": {},
   "outputs": [],
   "source": [
    "loc_df = read.get_locations_infections()"
   ]
  },
  {
   "cell_type": "code",
   "execution_count": null,
   "metadata": {},
   "outputs": [],
   "source": [
    "import matplotlib.ticker as mtick\n",
    "\n",
    "ax = loc_df['percentage_infections'].sort_values().plot.bar()\n",
    "ax.yaxis.set_major_formatter(mtick.PercentFormatter())\n",
    "plt.ylabel('Percentage of infections at location')\n",
    "plt.xlabel('location')"
   ]
  },
  {
   "cell_type": "markdown",
   "metadata": {},
   "source": [
    "## rate of infection"
   ]
  },
  {
   "cell_type": "code",
   "execution_count": null,
   "metadata": {},
   "outputs": [],
   "source": [
    "r_df = read.get_r()"
   ]
  },
  {
   "cell_type": "code",
   "execution_count": null,
   "metadata": {},
   "outputs": [],
   "source": [
    "r_df.plot()\n",
    "plt.axvspan(policies.social_distancing_start, \n",
    "            policies.social_distancing_end,\n",
    "            facecolor='y', alpha=0.2)\n",
    "plt.axhline(y=1, linestyle='dashed', color='gray')\n",
    "plt.xlabel('Date')\n",
    "plt.ylabel('R')"
   ]
  },
  {
   "cell_type": "markdown",
   "metadata": {},
   "source": [
    "## World infection curves, and by super area"
   ]
  },
  {
   "cell_type": "code",
   "execution_count": null,
   "metadata": {},
   "outputs": [],
   "source": [
    "world_df = read.world_summary()"
   ]
  },
  {
   "cell_type": "code",
   "execution_count": null,
   "metadata": {},
   "outputs": [],
   "source": [
    "world_df.plot()\n",
    "plt.axvspan(policies.social_distancing_start, \n",
    "            policies.social_distancing_end,\n",
    "            facecolor='y', alpha=0.2)\n",
    "plt.legend()"
   ]
  },
  {
   "cell_type": "code",
   "execution_count": null,
   "metadata": {},
   "outputs": [],
   "source": [
    "area_df = read.super_area_summary()"
   ]
  },
  {
   "cell_type": "code",
   "execution_count": null,
   "metadata": {},
   "outputs": [],
   "source": [
    "area_df[area_df.super_area == \"E02002512\"].plot()\n",
    "plt.legend()"
   ]
  },
  {
   "cell_type": "markdown",
   "metadata": {},
   "source": [
    "## World infection curves per age group"
   ]
  },
  {
   "cell_type": "code",
   "execution_count": null,
   "metadata": {},
   "outputs": [],
   "source": [
    "ages_df = read.age_summary([0,10,20,30,40,\n",
    "                  50,60,70,80,90,100])"
   ]
  },
  {
   "cell_type": "code",
   "execution_count": null,
   "metadata": {},
   "outputs": [],
   "source": [
    "for name, group in ages_df.groupby('age_range'):\n",
    "    group['infected'].plot(label=name)\n",
    "plt.axvspan(policies.social_distancing_start, \n",
    "            policies.social_distancing_end,\n",
    "            facecolor='y', alpha=0.2)\n",
    "plt.legend()"
   ]
  },
  {
   "cell_type": "code",
   "execution_count": null,
   "metadata": {},
   "outputs": [],
   "source": [
    "for name, group in ages_df.groupby('age_range'):\n",
    "    group['dead'].cumsum().plot(label=name)\n",
    "plt.legend()"
   ]
  },
  {
   "cell_type": "code",
   "execution_count": null,
   "metadata": {},
   "outputs": [],
   "source": [
    "for name, group in ages_df.groupby('age_range'):\n",
    "    group['susceptible'].plot(label=name)\n",
    "plt.legend()"
   ]
  },
  {
   "cell_type": "markdown",
   "metadata": {},
   "source": [
    "## Draw some of the symptoms trajectories"
   ]
  },
  {
   "cell_type": "code",
   "execution_count": null,
   "metadata": {},
   "outputs": [],
   "source": [
    "random_trajectories = read.draw_symptom_trajectories(window_length=200,\n",
    "                                        n_people=5)"
   ]
  },
  {
   "cell_type": "code",
   "execution_count": null,
   "metadata": {},
   "outputs": [],
   "source": [
    "from june.infection import SymptomTag"
   ]
  },
  {
   "cell_type": "code",
   "execution_count": null,
   "metadata": {},
   "outputs": [],
   "source": [
    "symptoms_values = [tag.value for tag in SymptomTag]\n",
    "symptoms_names = [tag.name for tag in SymptomTag]\n"
   ]
  },
  {
   "cell_type": "code",
   "execution_count": null,
   "metadata": {},
   "outputs": [],
   "source": [
    "for df_person in random_trajectories:\n",
    "    df_person['symptoms'].plot()\n",
    "plt.ylabel('Symptoms Trajectory')\n",
    "_ = plt.yticks(symptoms_values, symptoms_names)\n",
    "plt.xlabel('Date')"
   ]
  },
  {
   "cell_type": "code",
   "execution_count": null,
   "metadata": {},
   "outputs": [],
   "source": [
    "for df_person in random_trajectories:\n",
    "    df_person['n_secondary_infections'].plot()\n",
    "plt.ylabel('Number of secondary infections')\n",
    "\n",
    "plt.xlabel('Date')"
   ]
  },
  {
   "cell_type": "code",
   "execution_count": null,
   "metadata": {},
   "outputs": [],
   "source": []
  },
  {
   "cell_type": "code",
   "execution_count": null,
   "metadata": {},
   "outputs": [],
   "source": []
  },
  {
   "cell_type": "code",
   "execution_count": null,
   "metadata": {},
   "outputs": [],
   "source": []
  },
  {
   "cell_type": "code",
   "execution_count": null,
   "metadata": {},
   "outputs": [],
   "source": []
  },
  {
   "cell_type": "code",
   "execution_count": null,
   "metadata": {},
   "outputs": [],
   "source": []
  },
  {
   "cell_type": "code",
   "execution_count": null,
   "metadata": {},
   "outputs": [],
   "source": []
  },
  {
   "cell_type": "code",
   "execution_count": null,
   "metadata": {},
   "outputs": [],
   "source": []
  }
 ],
 "metadata": {
  "kernelspec": {
   "display_name": "Python 3",
   "language": "python",
   "name": "python3"
  },
  "language_info": {
   "codemirror_mode": {
    "name": "ipython",
    "version": 3
   },
   "file_extension": ".py",
   "mimetype": "text/x-python",
   "name": "python",
   "nbconvert_exporter": "python",
   "pygments_lexer": "ipython3",
   "version": "3.8.3"
  }
 },
 "nbformat": 4,
 "nbformat_minor": 4
}
