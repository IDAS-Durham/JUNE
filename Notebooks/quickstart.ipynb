{
 "cells": [
  {
   "cell_type": "code",
   "execution_count": 1,
   "metadata": {},
   "outputs": [],
   "source": [
    "%load_ext autoreload\n",
    "%autoreload 2"
   ]
  },
  {
   "cell_type": "code",
   "execution_count": 2,
   "metadata": {},
   "outputs": [],
   "source": [
    "import numpy as np\n",
    "import time\n",
    "from datetime import datetime\n",
    "import matplotlib.pyplot as plt\n",
    "\n",
    " \n",
    "plt.style.use(['science','notebook'])\n",
    "plt.style.reload_library()"
   ]
  },
  {
   "cell_type": "code",
   "execution_count": 3,
   "metadata": {},
   "outputs": [
    {
     "name": "stderr",
     "output_type": "stream",
     "text": [
      "No --data argument given - defaulting to:\n",
      "/cosma6/data/dp004/dc-cues1/JUNE/data\n",
      "No --configs argument given - defaulting to:\n",
      "/cosma6/data/dp004/dc-cues1/JUNE/configs\n"
     ]
    }
   ],
   "source": [
    "from june import World \n",
    "from june.geography import Geography\n",
    "from june.demography import Demography\n",
    "from june.interaction import Interaction\n",
    "from june.infection import Infection, HealthIndexGenerator, InfectionSelector\n",
    "from june.infection.transmission import TransmissionConstant\n",
    "from june.groups import Hospitals, Schools, Companies, Households, CareHomes, Cemeteries, Universities\n",
    "from june.groups.leisure import generate_leisure_for_config, Cinemas, Pubs, Groceries\n",
    "from june.groups.travel import *\n",
    "from june.simulator import Simulator\n",
    "from june.infection_seed import InfectionSeed\n",
    "from june.policy import Policy, Policies\n",
    "from june import paths\n",
    "from june.hdf5_savers import load_geography_from_hdf5\n",
    "from june.logger import Logger\n",
    "from june.logger.read_logger import ReadLogger\n",
    "from june.world import generate_world_from_geography\n",
    "from june.hdf5_savers import generate_world_from_hdf5"
   ]
  },
  {
   "cell_type": "markdown",
   "metadata": {},
   "source": [
    "# Initialize world\n",
    "\n",
    "To initialize a certain world, we need to add the different components we want to have in it. First we specify what super areas (msoa) we want to create. We have included these ones, because they are known to contain hospitals, schools, care homes, and companies.\n",
    "\n",
    "After creating the geography, we create the different components the worlds need to have such as care homes, companies ..."
   ]
  },
  {
   "cell_type": "code",
   "execution_count": 4,
   "metadata": {},
   "outputs": [],
   "source": [
    "CONFIG_PATH = paths.configs_path / \"config_example.yaml\""
   ]
  },
  {
   "cell_type": "code",
   "execution_count": 5,
   "metadata": {},
   "outputs": [
    {
     "name": "stdout",
     "output_type": "stream",
     "text": [
      "2020-09-25 20:16:59,981 - june.geography.geography - INFO - There are 67 areas and 2 super_areas in the world.\n",
      "2020-09-25 20:17:00,025 - june.groups.hospital - INFO - There are 1 hospitals in this geography.\n",
      "2020-09-25 20:17:00,133 - june.groups.school - INFO - There are 7 schools in this geography.\n",
      "2020-09-25 20:17:00,146 - june.groups.school - INFO - No school for the age 0 in this world.\n",
      "2020-09-25 20:17:00,148 - june.groups.school - INFO - No school for the age 1 in this world.\n",
      "2020-09-25 20:17:00,167 - june.groups.school - INFO - No school for the age 12 in this world.\n",
      "2020-09-25 20:17:00,169 - june.groups.school - INFO - No school for the age 13 in this world.\n",
      "2020-09-25 20:17:00,771 - june.groups.carehome - INFO - There are 4 care_homes in this geography.\n",
      "2020-09-25 20:17:00,806 - june.groups.university - INFO - There are 3 universities in this world.\n",
      "2020-09-25 20:17:06,752 - june.world - INFO - Populating areas\n",
      "2020-09-25 20:17:07,271 - june.world - INFO - Areas populated. This world's population is: 19199\n",
      "2020-09-25 20:17:09,150 - numexpr.utils - INFO - Note: NumExpr detected 28 cores but \"NUMEXPR_MAX_THREADS\" not set, so enforcing safe limit of 8.\n",
      "2020-09-25 20:17:09,152 - numexpr.utils - INFO - NumExpr defaulting to 8 threads.\n",
      "2020-09-25 20:17:11,004 - june.distributors.worker_distributor - INFO - Distributing workers to super areas...\n",
      "2020-09-25 20:17:11,508 - june.distributors.worker_distributor - INFO - Workers distributed.\n",
      "2020-09-25 20:17:11,511 - june.distributors.carehome_distributor - INFO - Populating care homes\n",
      "2020-09-25 20:17:11,664 - june.distributors.carehome_distributor - INFO - This world has 78 people living in care homes.\n",
      "2020-09-25 20:17:11,720 - june.distributors.household_distributor - INFO - Distributing people to households\n",
      "2020-09-25 20:17:13,287 - june.distributors.household_distributor - INFO - People assigned to households. There are 9123 households in this world.\n",
      "2020-09-25 20:17:13,290 - june.distributors.school_distributor - INFO - Distributing kids to schools\n",
      "2020-09-25 20:17:13,291 - june.distributors.school_distributor - INFO - Distributed kids in 0 of 67 areas.\n",
      "2020-09-25 20:17:13,582 - june.distributors.school_distributor - INFO - Kids distributed to schools\n",
      "2020-09-25 20:17:13,589 - june.distributors.university_distributor - INFO - Distributing students to universities\n",
      "2020-09-25 20:17:14,295 - june.distributors.university_distributor - INFO - Distributed 5047 students to 3 universities\n",
      "2020-09-25 20:17:14,299 - june.distributors.hospital_distributor - INFO - Distributing medics to hospitals\n",
      "2020-09-25 20:17:14,301 - june.distributors.hospital_distributor - INFO - Medics distributed to hospitals\n",
      "2020-09-25 20:17:14,303 - june.distributors.company_distributor - INFO - Distributing workers to companies\n",
      "2020-09-25 20:17:14,304 - june.distributors.company_distributor - INFO - Distributed workers to companies in 0 of 2 super areas.\n",
      "2020-09-25 20:17:14,361 - june.distributors.company_distributor - INFO - Workers distributed to companies\n",
      "CPU times: user 10.6 s, sys: 1.31 s, total: 11.9 s\n",
      "Wall time: 15.3 s\n"
     ]
    }
   ],
   "source": [
    "%%time \n",
    "\n",
    "geography = Geography.from_file(\n",
    "        {\n",
    "            \"super_area\": [\"E02001731\", \"E02002566\"]\n",
    "        }\n",
    ")\n",
    "\n",
    "geography.hospitals = Hospitals.for_geography(geography)\n",
    "geography.schools = Schools.for_geography(geography)\n",
    "geography.companies = Companies.for_geography(geography)\n",
    "geography.care_homes = CareHomes.for_geography(geography)\n",
    "geography.universities = Universities.for_super_areas(geography.super_areas)\n",
    "world = generate_world_from_geography(geography, include_households=True)\n"
   ]
  },
  {
   "cell_type": "markdown",
   "metadata": {},
   "source": [
    "## Commute, travel and leisure"
   ]
  },
  {
   "cell_type": "code",
   "execution_count": 7,
   "metadata": {},
   "outputs": [
    {
     "name": "stdout",
     "output_type": "stream",
     "text": [
      "2020-09-25 20:17:49,820 - june.groups.leisure.social_venue - INFO - Initialized 640 pubs(s)\n",
      "2020-09-25 20:17:49,830 - june.groups.leisure.social_venue - INFO - Initialized 6 cinemas(s)\n",
      "2020-09-25 20:17:49,855 - june.groups.leisure.social_venue - INFO - Initialized 55 groceries(s)\n"
     ]
    }
   ],
   "source": [
    "world.pubs = Pubs.for_geography(geography)\n",
    "world.cinemas = Cinemas.for_geography(geography)\n",
    "world.groceries = Groceries.for_geography(geography)\n",
    "leisure = generate_leisure_for_config(world, config_filename=CONFIG_PATH)\n"
   ]
  },
  {
   "cell_type": "markdown",
   "metadata": {},
   "source": [
    "We are also going to need some cemeteries...geography.cemeteries = Cemeteries()\n"
   ]
  },
  {
   "cell_type": "code",
   "execution_count": 8,
   "metadata": {},
   "outputs": [
    {
     "name": "stdout",
     "output_type": "stream",
     "text": [
      "2020-09-25 20:18:05,654 - june.groups.travel.travel - INFO - Initialising commute...\n",
      "2020-09-25 20:18:05,672 - june.groups.travel.travel - INFO - Creating cities...\n",
      "2020-09-25 20:18:05,700 - june.groups.travel.travel - INFO - This world has 2 cities, with names\n",
      "['Newcastle upon Tyne', 'Darlington']\n",
      "2020-09-25 20:18:05,701 - june.groups.travel.travel - INFO - Creating stations...\n",
      "2020-09-25 20:18:05,703 - june.groups.travel.travel - INFO - City Newcastle upon Tyne has 4 stations.\n",
      "2020-09-25 20:18:05,704 - june.groups.travel.travel - INFO - This world has 4 stations.\n",
      "2020-09-25 20:18:05,705 - june.groups.travel.travel - INFO - Recording closest stations to super areas\n",
      "2020-09-25 20:18:05,706 - june.groups.travel.travel - INFO - Determining people mode of transport\n",
      "2020-09-25 20:18:14,726 - june.groups.travel.travel - INFO - Mode of transport allocated in 0 of 67 areas.\n",
      "2020-09-25 20:18:14,755 - june.groups.travel.travel - INFO - Mode of transport determined for everyone.\n",
      "2020-09-25 20:18:15,083 - june.groups.travel.travel - INFO - Assigning commuters to stations...\n",
      "2020-09-25 20:18:15,087 - june.groups.travel.travel - INFO - Assigned 0 of 19199 commuters...\n",
      "2020-09-25 20:18:15,097 - june.groups.travel.travel - INFO - Commuters assigned\n",
      "2020-09-25 20:18:15,098 - june.groups.travel.travel - INFO - City Newcastle upon Tyne has 898 people commuting internally and 153 people commuting externally.\n",
      "2020-09-25 20:18:15,099 - june.groups.travel.travel - INFO - Creating transport units for the population\n",
      "2020-09-25 20:18:15,100 - june.groups.travel.travel - INFO - Cities' transport initialised\n"
     ]
    }
   ],
   "source": [
    "# initialise commuting\n",
    "travel = Travel()\n",
    "travel.initialise_commute(world)"
   ]
  },
  {
   "cell_type": "code",
   "execution_count": 9,
   "metadata": {},
   "outputs": [],
   "source": [
    "world.cemeteries = Cemeteries()"
   ]
  },
  {
   "cell_type": "code",
   "execution_count": 10,
   "metadata": {},
   "outputs": [
    {
     "data": {
      "text/plain": [
       "19199"
      ]
     },
     "execution_count": 10,
     "metadata": {},
     "output_type": "execute_result"
    }
   ],
   "source": [
    "len(world.people)"
   ]
  },
  {
   "cell_type": "markdown",
   "metadata": {},
   "source": [
    "### If it took a long time to run the previous commands, it might be a good idea to save the world to reuse it later."
   ]
  },
  {
   "cell_type": "code",
   "execution_count": 11,
   "metadata": {},
   "outputs": [
    {
     "name": "stdout",
     "output_type": "stream",
     "text": [
      "2020-09-25 20:18:15,202 - june.hdf5_savers.world_saver - INFO - saving world to HDF5\n",
      "2020-09-25 20:18:15,220 - june.hdf5_savers.world_saver - INFO - saving population...\n",
      "2020-09-25 20:18:15,655 - june.hdf5_savers.world_saver - INFO - saving hospitals...\n",
      "2020-09-25 20:18:15,663 - june.hdf5_savers.world_saver - INFO - saving schools...\n",
      "2020-09-25 20:18:15,670 - june.hdf5_savers.world_saver - INFO - saving companies...\n",
      "2020-09-25 20:18:15,681 - june.hdf5_savers.world_saver - INFO - saving households...\n",
      "2020-09-25 20:18:15,748 - june.hdf5_savers.world_saver - INFO - saving care homes...\n",
      "2020-09-25 20:18:15,753 - june.hdf5_savers.world_saver - INFO - saving cities...\n",
      "2020-09-25 20:18:15,758 - june.hdf5_savers.world_saver - INFO - saving stations...\n",
      "2020-09-25 20:18:15,762 - june.hdf5_savers.world_saver - INFO - saving universities...\n",
      "2020-09-25 20:18:15,766 - june.hdf5_savers.world_saver - INFO - saving social venues...\n"
     ]
    }
   ],
   "source": [
    "world.to_hdf5(\"world.hdf5\")"
   ]
  },
  {
   "cell_type": "markdown",
   "metadata": {},
   "source": [
    "If we would like to load the world we saved, we just do"
   ]
  },
  {
   "cell_type": "code",
   "execution_count": 12,
   "metadata": {},
   "outputs": [
    {
     "name": "stdout",
     "output_type": "stream",
     "text": [
      "2020-09-25 20:18:15,815 - june.hdf5_savers.world_saver - INFO - loading world from HDF5\n",
      "2020-09-25 20:18:15,824 - june.hdf5_savers.world_saver - INFO - loading hospitals...\n",
      "2020-09-25 20:18:15,829 - june.hdf5_savers.world_saver - INFO - loading schools...\n",
      "2020-09-25 20:18:15,834 - june.hdf5_savers.company_saver - INFO - loading companies...\n",
      "2020-09-25 20:18:15,836 - june.hdf5_savers.company_saver - INFO - Companies chunk 0 of 1\n",
      "2020-09-25 20:18:15,864 - june.hdf5_savers.world_saver - INFO - loading care homes...\n",
      "2020-09-25 20:18:15,868 - june.hdf5_savers.world_saver - INFO - loading universities...\n",
      "2020-09-25 20:18:15,873 - june.hdf5_savers.world_saver - INFO - loading cities...\n",
      "2020-09-25 20:18:15,880 - june.hdf5_savers.world_saver - INFO - loading stations...\n",
      "2020-09-25 20:18:15,884 - june.hdf5_savers.household_saver - INFO - loading households...\n",
      "2020-09-25 20:18:15,886 - june.hdf5_savers.household_saver - INFO - Households chunk 0 of 1\n",
      "2020-09-25 20:18:15,970 - june.hdf5_savers.population_saver - INFO - loading population...\n",
      "2020-09-25 20:18:15,972 - june.hdf5_savers.population_saver - INFO - Population chunk 0 of 1\n",
      "2020-09-25 20:18:16,083 - june.hdf5_savers.world_saver - INFO - loading social venues...\n",
      "2020-09-25 20:18:16,087 - june.groups.leisure.social_venue - INFO - Initialized 6 cinemas(s)\n",
      "2020-09-25 20:18:16,089 - june.groups.leisure.social_venue - INFO - Initialized 55 groceries(s)\n",
      "2020-09-25 20:18:16,097 - june.groups.leisure.social_venue - INFO - Initialized 640 pubs(s)\n",
      "2020-09-25 20:18:16,101 - june.hdf5_savers.world_saver - INFO - restoring world...\n",
      "2020-09-25 20:18:16,105 - june.hdf5_savers.population_saver - INFO - restoring population...\n",
      "2020-09-25 20:18:16,107 - june.hdf5_savers.population_saver - INFO - Population chunk 0 of 1\n",
      "2020-09-25 20:18:16,419 - june.hdf5_savers.household_saver - INFO - restoring households...\n",
      "2020-09-25 20:18:16,423 - june.hdf5_savers.household_saver - INFO - Households chunk 0 of 1\n",
      "2020-09-25 20:18:16,451 - june.hdf5_savers.world_saver - INFO - restoring care homes...\n",
      "2020-09-25 20:18:16,455 - june.hdf5_savers.world_saver - INFO - restoring hospitals...\n",
      "2020-09-25 20:18:16,459 - june.hdf5_savers.world_saver - INFO - restoring commute...\n",
      "2020-09-25 20:18:16,465 - june.hdf5_savers.world_saver - INFO - restoring companies...\n",
      "2020-09-25 20:18:16,473 - june.hdf5_savers.world_saver - INFO - restoring schools...\n",
      "2020-09-25 20:18:16,476 - june.hdf5_savers.world_saver - INFO - restoring unis...\n",
      "2020-09-25 20:18:16,479 - june.hdf5_savers.world_saver - INFO - restoring social venues...\n"
     ]
    }
   ],
   "source": [
    "world = generate_world_from_hdf5(\"world.hdf5\")"
   ]
  },
  {
   "cell_type": "code",
   "execution_count": 13,
   "metadata": {},
   "outputs": [],
   "source": [
    "# and regenerate leisure in case we load it externally\n",
    "leisure = generate_leisure_for_config(world, CONFIG_PATH)\n",
    "# create travel as well\n",
    "travel = Travel()"
   ]
  },
  {
   "cell_type": "markdown",
   "metadata": {},
   "source": [
    "you have now a beautiful pre-pandemic world. "
   ]
  },
  {
   "cell_type": "markdown",
   "metadata": {},
   "source": [
    "# Adding the infection"
   ]
  },
  {
   "cell_type": "markdown",
   "metadata": {},
   "source": [
    "The module in charge of infecting people is called the ``InfectionSelector``, which gives people a transmission time profile and a symptoms trajectory based on their age and sex (through the health index generator)"
   ]
  },
  {
   "cell_type": "code",
   "execution_count": 14,
   "metadata": {},
   "outputs": [],
   "source": [
    "health_index_generator = HealthIndexGenerator.from_file(asymptomatic_ratio=0.2)\n",
    "selector = InfectionSelector.from_file(\n",
    "        health_index_generator=health_index_generator,\n",
    "        transmission_config_path=paths.configs_path / 'defaults/transmission/XNExp.yaml'\n",
    ")"
   ]
  },
  {
   "cell_type": "markdown",
   "metadata": {},
   "source": [
    "# Adding the interaction"
   ]
  },
  {
   "cell_type": "code",
   "execution_count": 15,
   "metadata": {},
   "outputs": [],
   "source": [
    "interaction = Interaction.from_file()"
   ]
  },
  {
   "cell_type": "markdown",
   "metadata": {},
   "source": [
    "Beta are the intensities of the interaction taking place at the different groups"
   ]
  },
  {
   "cell_type": "code",
   "execution_count": 16,
   "metadata": {},
   "outputs": [],
   "source": [
    "for key in interaction.beta.keys():\n",
    "    interaction.beta[key] *= 0.2"
   ]
  },
  {
   "cell_type": "code",
   "execution_count": 17,
   "metadata": {},
   "outputs": [
    {
     "data": {
      "text/plain": [
       "{'box': 0.2,\n",
       " 'pub': 0.08588200000000001,\n",
       " 'grocery': 0.008274,\n",
       " 'cinema': 0.0314922,\n",
       " 'city_transport': 0.0215938,\n",
       " 'inter_city_transport': 0.0766,\n",
       " 'hospital': 0.023360000000000002,\n",
       " 'care_home': 0.05600000000000001,\n",
       " 'company': 0.0742,\n",
       " 'school': 0.014000000000000002,\n",
       " 'household': 0.0416,\n",
       " 'university': 0.061200000000000004}"
      ]
     },
     "execution_count": 17,
     "metadata": {},
     "output_type": "execute_result"
    }
   ],
   "source": [
    "interaction.beta"
   ]
  },
  {
   "cell_type": "markdown",
   "metadata": {},
   "source": [
    "moreover this interaction module uses contact matrices, that are different for different groups. These contact matrices shouldnt be modified for now. However they are a combination of conversational contact matrices, and physical contact matrices (see the BBC pandemic paper, from where these matrices are extracted https://www.medrxiv.org/content/10.1101/2020.02.16.20023754v2)\n",
    "\n",
    "There is a parameter, ``alpha`` ($\\alpha$), that combines these two matrices in the following way,\n",
    "\n",
    "\n",
    "$\\beta M \\left(1 + (\\alpha -1) \\right) P$\n",
    "\n",
    "where $\\beta$ is the intensity of the interaction, and $P$ the physical contact matrix. A larger $\\alpha$ produces more physical contacts. It is an overall number, non dependent of the particular group.\n"
   ]
  },
  {
   "cell_type": "code",
   "execution_count": 18,
   "metadata": {},
   "outputs": [
    {
     "data": {
      "text/plain": [
       "2.0"
      ]
     },
     "execution_count": 18,
     "metadata": {},
     "output_type": "execute_result"
    }
   ],
   "source": [
    "interaction.alpha_physical"
   ]
  },
  {
   "cell_type": "markdown",
   "metadata": {},
   "source": [
    "# Seed the disease"
   ]
  },
  {
   "cell_type": "markdown",
   "metadata": {},
   "source": [
    "There are two options implemented in the seed at the moment, either you specify the number of cases and these are then homogeneously distributed by population to the different areas, or you use UK data on cases per region. For now use the first case."
   ]
  },
  {
   "cell_type": "code",
   "execution_count": 19,
   "metadata": {},
   "outputs": [],
   "source": [
    "infection_seed = InfectionSeed(\n",
    "    world, selector,\n",
    ")"
   ]
  },
  {
   "cell_type": "code",
   "execution_count": 20,
   "metadata": {},
   "outputs": [
    {
     "data": {
      "text/plain": [
       "<june.world.World at 0x2abbb8c7c950>"
      ]
     },
     "execution_count": 20,
     "metadata": {},
     "output_type": "execute_result"
    }
   ],
   "source": [
    "world"
   ]
  },
  {
   "cell_type": "code",
   "execution_count": 21,
   "metadata": {},
   "outputs": [],
   "source": [
    "n_cases = 50\n",
    "infection_seed.unleash_virus(\n",
    "    population=world.people,\n",
    "    n_cases=n_cases) # play around with the initial number of cases"
   ]
  },
  {
   "cell_type": "markdown",
   "metadata": {},
   "source": [
    "# Set policies"
   ]
  },
  {
   "cell_type": "code",
   "execution_count": 22,
   "metadata": {},
   "outputs": [],
   "source": [
    "policies = Policies.from_file()"
   ]
  },
  {
   "cell_type": "code",
   "execution_count": 23,
   "metadata": {},
   "outputs": [
    {
     "data": {
      "text/plain": [
       "<june.policy.policy.Policies at 0x2abbc221bd90>"
      ]
     },
     "execution_count": 23,
     "metadata": {},
     "output_type": "execute_result"
    }
   ],
   "source": [
    "policies"
   ]
  },
  {
   "cell_type": "markdown",
   "metadata": {},
   "source": [
    "# Run the simulation"
   ]
  },
  {
   "cell_type": "markdown",
   "metadata": {},
   "source": [
    "The simulator is the main module in charge of running the simulation. It coordinates the ``ActivityManager`` which is responsible of allocating people to the right groups given the current timestep, it updates the health status of the population, and it runs the interaction over the different groups. All of these modules can be modified by policies at any given time."
   ]
  },
  {
   "cell_type": "markdown",
   "metadata": {},
   "source": [
    "Since the timer configuration is a bit cumbersome, it is read from the config file at ``configs/config_example.yaml``"
   ]
  },
  {
   "cell_type": "code",
   "execution_count": 53,
   "metadata": {},
   "outputs": [],
   "source": [
    "logger = Logger()"
   ]
  },
  {
   "cell_type": "code",
   "execution_count": 54,
   "metadata": {},
   "outputs": [],
   "source": [
    "logger.log_population(world.people)"
   ]
  },
  {
   "cell_type": "code",
   "execution_count": 55,
   "metadata": {},
   "outputs": [],
   "source": [
    "simulator = Simulator.from_file(\n",
    "    world=world,\n",
    "    infection_selector=selector,\n",
    "    interaction=interaction, \n",
    "    config_filename = CONFIG_PATH,\n",
    "    leisure = leisure,\n",
    "    logger=logger,\n",
    "    policies = policies\n",
    ")"
   ]
  },
  {
   "cell_type": "code",
   "execution_count": 56,
   "metadata": {
    "scrolled": true
   },
   "outputs": [
    {
     "name": "stdout",
     "output_type": "stream",
     "text": [
      "2020-09-25 20:26:31,173 - june.simulator - INFO - Starting simulation for 10 days at day 0, to run for 10 days\n",
      "2020-09-25 20:26:31,726 - june.activity.activity_manager - INFO - CMS: People COMS for rank 0/1 - 4.829838871955872e-06,4.291534423828125e-06 - 2020-03-01 00:00:00\n",
      "2020-09-25 20:26:31,731 - june.simulator - INFO - Date = 2020-03-01 00:00:00, number of deaths =  0, number of infected = 82\n",
      "2020-09-25 20:26:31,792 - june.simulator - INFO - CMS: Infection COMS for rank 0/1 - 2.464279532432556e-06,1.430511474609375e-06 - 2020-03-01 00:00:00\n",
      "2020-09-25 20:26:31,817 - june.simulator - INFO - CMS: Timestep for rank 0/1 - 0.2684739790856838, 0.26847290992736816 - 2020-03-01 00:00:00\n",
      "2020-09-25 20:26:31,942 - june.activity.activity_manager - INFO - CMS: People COMS for rank 0/1 - 3.904104232788086e-06,3.0994415283203125e-06 - 2020-03-01 04:00:00\n",
      "2020-09-25 20:26:31,945 - june.simulator - INFO - Date = 2020-03-01 04:00:00, number of deaths =  0, number of infected = 82\n",
      "2020-09-25 20:26:32,000 - june.simulator - INFO - CMS: Infection COMS for rank 0/1 - 2.1476298570632935e-06,1.6689300537109375e-06 - 2020-03-01 04:00:00\n",
      "2020-09-25 20:26:32,024 - june.simulator - INFO - CMS: Timestep for rank 0/1 - 0.20607330277562141, 0.20607376098632812 - 2020-03-01 04:00:00\n",
      "2020-09-25 20:26:32,142 - june.activity.activity_manager - INFO - CMS: People COMS for rank 0/1 - 3.0491501092910767e-06,2.6226043701171875e-06 - 2020-03-01 08:00:00\n",
      "2020-09-25 20:26:32,146 - june.simulator - INFO - Date = 2020-03-01 08:00:00, number of deaths =  0, number of infected = 82\n",
      "2020-09-25 20:26:32,240 - june.simulator - INFO - CMS: Infection COMS for rank 0/1 - 3.688037395477295e-06,3.0994415283203125e-06 - 2020-03-01 08:00:00\n",
      "2020-09-25 20:26:32,277 - june.simulator - INFO - CMS: Timestep for rank 0/1 - 0.25124557316303253, 0.25124621391296387 - 2020-03-01 08:00:00\n",
      "2020-09-25 20:26:32,336 - june.activity.activity_manager - INFO - CMS: People COMS for rank 0/1 - 4.276633262634277e-06,3.337860107421875e-06 - 2020-03-01 12:00:00\n",
      "2020-09-25 20:26:32,340 - june.simulator - INFO - Date = 2020-03-01 12:00:00, number of deaths =  0, number of infected = 82\n",
      "2020-09-25 20:26:32,396 - june.simulator - INFO - CMS: Infection COMS for rank 0/1 - 2.33575701713562e-06,2.384185791015625e-06 - 2020-03-01 12:00:00\n",
      "2020-09-25 20:26:32,419 - june.simulator - INFO - CMS: Timestep for rank 0/1 - 0.14120404794812202, 0.1412043571472168 - 2020-03-01 12:00:00\n",
      "2020-09-25 20:26:32,461 - june.activity.activity_manager - INFO - CMS: People COMS for rank 0/1 - 3.4980475902557373e-06,3.337860107421875e-06 - 2020-03-02 00:00:00\n",
      "2020-09-25 20:26:32,464 - june.simulator - INFO - Date = 2020-03-02 00:00:00, number of deaths =  0, number of infected = 83\n",
      "2020-09-25 20:26:32,514 - june.simulator - INFO - CMS: Infection COMS for rank 0/1 - 2.559274435043335e-06,1.9073486328125e-06 - 2020-03-02 00:00:00\n",
      "2020-09-25 20:26:32,536 - june.simulator - INFO - CMS: Timestep for rank 0/1 - 0.11629668436944485, 0.11629700660705566 - 2020-03-02 00:00:00\n",
      "2020-09-25 20:26:32,594 - june.activity.activity_manager - INFO - CMS: People COMS for rank 0/1 - 3.1925737857818604e-06,2.6226043701171875e-06 - 2020-03-02 01:00:00\n",
      "2020-09-25 20:26:32,598 - june.simulator - INFO - Date = 2020-03-02 01:00:00, number of deaths =  0, number of infected = 83\n",
      "2020-09-25 20:26:32,653 - june.simulator - INFO - CMS: Infection COMS for rank 0/1 - 2.1830201148986816e-06,1.9073486328125e-06 - 2020-03-02 01:00:00\n",
      "2020-09-25 20:26:32,675 - june.simulator - INFO - CMS: Timestep for rank 0/1 - 0.13785742595791817, 0.13785791397094727 - 2020-03-02 01:00:00\n",
      "2020-09-25 20:26:32,717 - june.activity.activity_manager - INFO - CMS: People COMS for rank 0/1 - 4.034489393234253e-06,3.5762786865234375e-06 - 2020-03-02 09:00:00\n",
      "2020-09-25 20:26:32,721 - june.simulator - INFO - Date = 2020-03-02 09:00:00, number of deaths =  0, number of infected = 89\n",
      "2020-09-25 20:26:32,768 - june.simulator - INFO - CMS: Infection COMS for rank 0/1 - 2.0135194063186646e-06,1.6689300537109375e-06 - 2020-03-02 09:00:00\n",
      "2020-09-25 20:26:32,790 - june.simulator - INFO - CMS: Timestep for rank 0/1 - 0.11449188739061356, 0.11449217796325684 - 2020-03-02 09:00:00\n",
      "2020-09-25 20:26:32,948 - june.activity.activity_manager - INFO - CMS: People COMS for rank 0/1 - 5.500391125679016e-06,4.76837158203125e-06 - 2020-03-02 10:00:00\n",
      "2020-09-25 20:26:32,954 - june.simulator - INFO - Date = 2020-03-02 10:00:00, number of deaths =  0, number of infected = 89\n",
      "2020-09-25 20:26:33,033 - june.simulator - INFO - CMS: Infection COMS for rank 0/1 - 2.596527338027954e-06,2.384185791015625e-06 - 2020-03-02 10:00:00\n",
      "2020-09-25 20:26:33,061 - june.simulator - INFO - CMS: Timestep for rank 0/1 - 0.27004414796829224, 0.27004456520080566 - 2020-03-02 10:00:00\n",
      "2020-09-25 20:26:33,111 - june.activity.activity_manager - INFO - CMS: People COMS for rank 0/1 - 3.682449460029602e-06,3.0994415283203125e-06 - 2020-03-02 13:00:00\n",
      "2020-09-25 20:26:33,114 - june.simulator - INFO - Date = 2020-03-02 13:00:00, number of deaths =  0, number of infected = 89\n",
      "2020-09-25 20:26:33,163 - june.simulator - INFO - CMS: Infection COMS for rank 0/1 - 1.8756836652755737e-06,1.6689300537109375e-06 - 2020-03-02 13:00:00\n",
      "2020-09-25 20:26:33,188 - june.simulator - INFO - CMS: Timestep for rank 0/1 - 0.1257561333477497, 0.12575650215148926 - 2020-03-02 13:00:00\n",
      "2020-09-25 20:26:33,231 - june.activity.activity_manager - INFO - CMS: People COMS for rank 0/1 - 3.6209821701049805e-06,2.86102294921875e-06 - 2020-03-03 00:00:00\n",
      "2020-09-25 20:26:33,234 - june.simulator - INFO - Date = 2020-03-03 00:00:00, number of deaths =  0, number of infected = 89\n",
      "2020-09-25 20:26:33,281 - june.simulator - INFO - CMS: Infection COMS for rank 0/1 - 1.8347054719924927e-06,1.430511474609375e-06 - 2020-03-03 00:00:00\n",
      "2020-09-25 20:26:33,304 - june.simulator - INFO - CMS: Timestep for rank 0/1 - 0.1152181401848793, 0.1152184009552002 - 2020-03-03 00:00:00\n",
      "2020-09-25 20:26:33,359 - june.activity.activity_manager - INFO - CMS: People COMS for rank 0/1 - 3.0621886253356934e-06,2.384185791015625e-06 - 2020-03-03 01:00:00\n",
      "2020-09-25 20:26:33,362 - june.simulator - INFO - Date = 2020-03-03 01:00:00, number of deaths =  0, number of infected = 89\n",
      "2020-09-25 20:26:33,419 - june.simulator - INFO - CMS: Infection COMS for rank 0/1 - 2.469867467880249e-06,2.1457672119140625e-06 - 2020-03-03 01:00:00\n",
      "2020-09-25 20:26:33,441 - june.simulator - INFO - CMS: Timestep for rank 0/1 - 0.13639196753501892, 0.13639211654663086 - 2020-03-03 01:00:00\n",
      "2020-09-25 20:26:33,483 - june.activity.activity_manager - INFO - CMS: People COMS for rank 0/1 - 3.112480044364929e-06,2.86102294921875e-06 - 2020-03-03 09:00:00\n",
      "2020-09-25 20:26:33,486 - june.simulator - INFO - Date = 2020-03-03 09:00:00, number of deaths =  0, number of infected = 91\n",
      "2020-09-25 20:26:33,535 - june.simulator - INFO - CMS: Infection COMS for rank 0/1 - 1.9278377294540405e-06,1.430511474609375e-06 - 2020-03-03 09:00:00\n",
      "2020-09-25 20:26:33,558 - june.simulator - INFO - CMS: Timestep for rank 0/1 - 0.1158752404153347, 0.1158761978149414 - 2020-03-03 09:00:00\n",
      "2020-09-25 20:26:33,700 - june.activity.activity_manager - INFO - CMS: People COMS for rank 0/1 - 6.010755896568298e-06,3.0994415283203125e-06 - 2020-03-03 10:00:00\n",
      "2020-09-25 20:26:33,705 - june.simulator - INFO - Date = 2020-03-03 10:00:00, number of deaths =  0, number of infected = 91\n",
      "2020-09-25 20:26:33,758 - june.simulator - INFO - CMS: Infection COMS for rank 0/1 - 2.3562461137771606e-06,2.1457672119140625e-06 - 2020-03-03 10:00:00\n",
      "2020-09-25 20:26:33,784 - june.simulator - INFO - CMS: Timestep for rank 0/1 - 0.22548575140535831, 0.22548604011535645 - 2020-03-03 10:00:00\n",
      "2020-09-25 20:26:33,827 - june.activity.activity_manager - INFO - CMS: People COMS for rank 0/1 - 4.1835010051727295e-06,3.5762786865234375e-06 - 2020-03-03 13:00:00\n",
      "2020-09-25 20:26:33,830 - june.simulator - INFO - Date = 2020-03-03 13:00:00, number of deaths =  0, number of infected = 91\n",
      "2020-09-25 20:26:33,882 - june.simulator - INFO - CMS: Infection COMS for rank 0/1 - 3.0230730772018433e-06,2.6226043701171875e-06 - 2020-03-03 13:00:00\n",
      "2020-09-25 20:26:33,904 - june.simulator - INFO - CMS: Timestep for rank 0/1 - 0.11972957290709019, 0.11972999572753906 - 2020-03-03 13:00:00\n"
     ]
    },
    {
     "name": "stdout",
     "output_type": "stream",
     "text": [
      "2020-09-25 20:26:33,948 - june.activity.activity_manager - INFO - CMS: People COMS for rank 0/1 - 4.2244791984558105e-06,3.5762786865234375e-06 - 2020-03-04 00:00:00\n",
      "2020-09-25 20:26:33,952 - june.simulator - INFO - Date = 2020-03-04 00:00:00, number of deaths =  0, number of infected = 92\n",
      "2020-09-25 20:26:34,001 - june.simulator - INFO - CMS: Infection COMS for rank 0/1 - 2.5890767574310303e-06,2.1457672119140625e-06 - 2020-03-04 00:00:00\n",
      "2020-09-25 20:26:34,024 - june.simulator - INFO - CMS: Timestep for rank 0/1 - 0.11868232488632202, 0.118682861328125 - 2020-03-04 00:00:00\n",
      "2020-09-25 20:26:34,081 - june.activity.activity_manager - INFO - CMS: People COMS for rank 0/1 - 2.643093466758728e-06,2.384185791015625e-06 - 2020-03-04 01:00:00\n",
      "2020-09-25 20:26:34,085 - june.simulator - INFO - Date = 2020-03-04 01:00:00, number of deaths =  0, number of infected = 93\n",
      "2020-09-25 20:26:34,142 - june.simulator - INFO - CMS: Infection COMS for rank 0/1 - 2.1997839212417603e-06,1.9073486328125e-06 - 2020-03-04 01:00:00\n",
      "2020-09-25 20:26:34,165 - june.simulator - INFO - CMS: Timestep for rank 0/1 - 0.13910528272390366, 0.13910555839538574 - 2020-03-04 01:00:00\n",
      "2020-09-25 20:26:34,209 - june.activity.activity_manager - INFO - CMS: People COMS for rank 0/1 - 4.382804036140442e-06,3.5762786865234375e-06 - 2020-03-04 09:00:00\n",
      "2020-09-25 20:26:34,212 - june.simulator - INFO - Date = 2020-03-04 09:00:00, number of deaths =  0, number of infected = 95\n",
      "2020-09-25 20:26:34,262 - june.simulator - INFO - CMS: Infection COMS for rank 0/1 - 1.6726553440093994e-06,1.430511474609375e-06 - 2020-03-04 09:00:00\n",
      "2020-09-25 20:26:34,285 - june.simulator - INFO - CMS: Timestep for rank 0/1 - 0.1190624013543129, 0.11906290054321289 - 2020-03-04 09:00:00\n",
      "2020-09-25 20:26:34,412 - june.activity.activity_manager - INFO - CMS: People COMS for rank 0/1 - 3.902241587638855e-06,3.337860107421875e-06 - 2020-03-04 10:00:00\n",
      "2020-09-25 20:26:34,415 - june.simulator - INFO - Date = 2020-03-04 10:00:00, number of deaths =  0, number of infected = 95\n",
      "2020-09-25 20:26:34,469 - june.simulator - INFO - CMS: Infection COMS for rank 0/1 - 2.0470470190048218e-06,1.9073486328125e-06 - 2020-03-04 10:00:00\n",
      "2020-09-25 20:26:34,493 - june.simulator - INFO - CMS: Timestep for rank 0/1 - 0.20697766542434692, 0.20697784423828125 - 2020-03-04 10:00:00\n",
      "2020-09-25 20:26:34,538 - june.activity.activity_manager - INFO - CMS: People COMS for rank 0/1 - 3.5688281059265137e-06,3.0994415283203125e-06 - 2020-03-04 13:00:00\n",
      "2020-09-25 20:26:34,541 - june.simulator - INFO - Date = 2020-03-04 13:00:00, number of deaths =  0, number of infected = 95\n",
      "2020-09-25 20:26:34,591 - june.simulator - INFO - CMS: Infection COMS for rank 0/1 - 2.4028122425079346e-06,2.384185791015625e-06 - 2020-03-04 13:00:00\n",
      "2020-09-25 20:26:34,613 - june.simulator - INFO - CMS: Timestep for rank 0/1 - 0.1191839911043644, 0.11918473243713379 - 2020-03-04 13:00:00\n",
      "2020-09-25 20:26:34,654 - june.activity.activity_manager - INFO - CMS: People COMS for rank 0/1 - 3.555789589881897e-06,3.0994415283203125e-06 - 2020-03-05 00:00:00\n",
      "2020-09-25 20:26:34,657 - june.simulator - INFO - Date = 2020-03-05 00:00:00, number of deaths =  0, number of infected = 98\n",
      "2020-09-25 20:26:34,705 - june.simulator - INFO - CMS: Infection COMS for rank 0/1 - 2.25752592086792e-06,1.9073486328125e-06 - 2020-03-05 00:00:00\n",
      "2020-09-25 20:26:34,727 - june.simulator - INFO - CMS: Timestep for rank 0/1 - 0.11298714391887188, 0.11298727989196777 - 2020-03-05 00:00:00\n",
      "2020-09-25 20:26:34,782 - june.activity.activity_manager - INFO - CMS: People COMS for rank 0/1 - 3.373250365257263e-06,2.86102294921875e-06 - 2020-03-05 01:00:00\n",
      "2020-09-25 20:26:34,785 - june.simulator - INFO - Date = 2020-03-05 01:00:00, number of deaths =  0, number of infected = 98\n",
      "2020-09-25 20:26:34,841 - june.simulator - INFO - CMS: Infection COMS for rank 0/1 - 2.305954694747925e-06,2.1457672119140625e-06 - 2020-03-05 01:00:00\n",
      "2020-09-25 20:26:34,863 - june.simulator - INFO - CMS: Timestep for rank 0/1 - 0.1359773948788643, 0.13597750663757324 - 2020-03-05 01:00:00\n",
      "2020-09-25 20:26:34,905 - june.activity.activity_manager - INFO - CMS: People COMS for rank 0/1 - 3.4011900424957275e-06,2.6226043701171875e-06 - 2020-03-05 09:00:00\n",
      "2020-09-25 20:26:34,908 - june.simulator - INFO - Date = 2020-03-05 09:00:00, number of deaths =  0, number of infected = 105\n",
      "2020-09-25 20:26:34,958 - june.simulator - INFO - CMS: Infection COMS for rank 0/1 - 2.169981598854065e-06,1.9073486328125e-06 - 2020-03-05 09:00:00\n",
      "2020-09-25 20:26:34,982 - june.simulator - INFO - CMS: Timestep for rank 0/1 - 0.11774466559290886, 0.11774492263793945 - 2020-03-05 09:00:00\n",
      "2020-09-25 20:26:35,113 - june.activity.activity_manager - INFO - CMS: People COMS for rank 0/1 - 5.461275577545166e-06,4.76837158203125e-06 - 2020-03-05 10:00:00\n",
      "2020-09-25 20:26:35,120 - june.simulator - INFO - Date = 2020-03-05 10:00:00, number of deaths =  0, number of infected = 105\n",
      "2020-09-25 20:26:35,175 - june.simulator - INFO - CMS: Infection COMS for rank 0/1 - 2.08243727684021e-06,1.6689300537109375e-06 - 2020-03-05 10:00:00\n",
      "2020-09-25 20:26:35,201 - june.simulator - INFO - CMS: Timestep for rank 0/1 - 0.21777769550681114, 0.21777796745300293 - 2020-03-05 10:00:00\n",
      "2020-09-25 20:26:35,243 - june.activity.activity_manager - INFO - CMS: People COMS for rank 0/1 - 3.205612301826477e-06,2.6226043701171875e-06 - 2020-03-05 13:00:00\n",
      "2020-09-25 20:26:35,246 - june.simulator - INFO - Date = 2020-03-05 13:00:00, number of deaths =  0, number of infected = 105\n",
      "2020-09-25 20:26:35,297 - june.simulator - INFO - CMS: Infection COMS for rank 0/1 - 2.5890767574310303e-06,2.384185791015625e-06 - 2020-03-05 13:00:00\n",
      "2020-09-25 20:26:35,321 - june.simulator - INFO - CMS: Timestep for rank 0/1 - 0.11915063671767712, 0.11915087699890137 - 2020-03-05 13:00:00\n",
      "2020-09-25 20:26:35,367 - june.activity.activity_manager - INFO - CMS: People COMS for rank 0/1 - 4.429370164871216e-06,3.337860107421875e-06 - 2020-03-06 00:00:00\n",
      "2020-09-25 20:26:35,370 - june.simulator - INFO - Date = 2020-03-06 00:00:00, number of deaths =  0, number of infected = 108\n",
      "2020-09-25 20:26:35,422 - june.simulator - INFO - CMS: Infection COMS for rank 0/1 - 1.6856938600540161e-06,1.430511474609375e-06 - 2020-03-06 00:00:00\n",
      "2020-09-25 20:26:35,449 - june.simulator - INFO - CMS: Timestep for rank 0/1 - 0.12670540623366833, 0.12670564651489258 - 2020-03-06 00:00:00\n",
      "2020-09-25 20:26:35,505 - june.activity.activity_manager - INFO - CMS: People COMS for rank 0/1 - 3.1404197216033936e-06,2.384185791015625e-06 - 2020-03-06 01:00:00\n",
      "2020-09-25 20:26:35,508 - june.simulator - INFO - Date = 2020-03-06 01:00:00, number of deaths =  0, number of infected = 108\n",
      "2020-09-25 20:26:35,568 - june.simulator - INFO - CMS: Infection COMS for rank 0/1 - 2.421438694000244e-06,1.9073486328125e-06 - 2020-03-06 01:00:00\n",
      "2020-09-25 20:26:35,592 - june.simulator - INFO - CMS: Timestep for rank 0/1 - 0.14197394251823425, 0.14197444915771484 - 2020-03-06 01:00:00\n",
      "2020-09-25 20:26:35,634 - june.activity.activity_manager - INFO - CMS: People COMS for rank 0/1 - 3.557652235031128e-06,3.0994415283203125e-06 - 2020-03-06 09:00:00\n",
      "2020-09-25 20:26:35,637 - june.simulator - INFO - Date = 2020-03-06 09:00:00, number of deaths =  0, number of infected = 112\n",
      "2020-09-25 20:26:35,687 - june.simulator - INFO - CMS: Infection COMS for rank 0/1 - 1.7043203115463257e-06,1.1920928955078125e-06 - 2020-03-06 09:00:00\n",
      "2020-09-25 20:26:35,711 - june.simulator - INFO - CMS: Timestep for rank 0/1 - 0.11819302290678024, 0.11819338798522949 - 2020-03-06 09:00:00\n",
      "2020-09-25 20:26:35,823 - june.activity.activity_manager - INFO - CMS: People COMS for rank 0/1 - 3.0007213354110718e-06,2.6226043701171875e-06 - 2020-03-06 10:00:00\n",
      "2020-09-25 20:26:35,826 - june.simulator - INFO - Date = 2020-03-06 10:00:00, number of deaths =  0, number of infected = 112\n",
      "2020-09-25 20:26:35,877 - june.simulator - INFO - CMS: Infection COMS for rank 0/1 - 2.129003405570984e-06,1.6689300537109375e-06 - 2020-03-06 10:00:00\n",
      "2020-09-25 20:26:35,900 - june.simulator - INFO - CMS: Timestep for rank 0/1 - 0.1876967716962099, 0.1876969337463379 - 2020-03-06 10:00:00\n",
      "2020-09-25 20:26:35,943 - june.activity.activity_manager - INFO - CMS: People COMS for rank 0/1 - 3.512948751449585e-06,2.86102294921875e-06 - 2020-03-06 13:00:00\n"
     ]
    },
    {
     "name": "stdout",
     "output_type": "stream",
     "text": [
      "2020-09-25 20:26:35,946 - june.simulator - INFO - Date = 2020-03-06 13:00:00, number of deaths =  0, number of infected = 113\n",
      "2020-09-25 20:26:35,997 - june.simulator - INFO - CMS: Infection COMS for rank 0/1 - 1.8998980522155762e-06,1.6689300537109375e-06 - 2020-03-06 13:00:00\n",
      "2020-09-25 20:26:36,020 - june.simulator - INFO - CMS: Timestep for rank 0/1 - 0.11927349306643009, 0.11927366256713867 - 2020-03-06 13:00:00\n",
      "2020-09-25 20:26:36,124 - june.activity.activity_manager - INFO - CMS: People COMS for rank 0/1 - 3.0249357223510742e-06,2.6226043701171875e-06 - 2020-03-07 00:00:00\n",
      "2020-09-25 20:26:36,127 - june.simulator - INFO - Date = 2020-03-07 00:00:00, number of deaths =  0, number of infected = 113\n",
      "2020-09-25 20:26:36,178 - june.simulator - INFO - CMS: Infection COMS for rank 0/1 - 1.5348196029663086e-06,1.1920928955078125e-06 - 2020-03-07 00:00:00\n",
      "2020-09-25 20:26:36,201 - june.simulator - INFO - CMS: Timestep for rank 0/1 - 0.17971532978117466, 0.17971563339233398 - 2020-03-07 00:00:00\n",
      "2020-09-25 20:26:36,303 - june.activity.activity_manager - INFO - CMS: People COMS for rank 0/1 - 3.8780272006988525e-06,3.337860107421875e-06 - 2020-03-07 04:00:00\n",
      "2020-09-25 20:26:36,306 - june.simulator - INFO - Date = 2020-03-07 04:00:00, number of deaths =  0, number of infected = 113\n",
      "2020-09-25 20:26:36,357 - june.simulator - INFO - CMS: Infection COMS for rank 0/1 - 1.86823308467865e-06,1.6689300537109375e-06 - 2020-03-07 04:00:00\n",
      "2020-09-25 20:26:36,381 - june.simulator - INFO - CMS: Timestep for rank 0/1 - 0.17883680574595928, 0.17883706092834473 - 2020-03-07 04:00:00\n",
      "2020-09-25 20:26:36,485 - june.activity.activity_manager - INFO - CMS: People COMS for rank 0/1 - 3.0212104320526123e-06,2.384185791015625e-06 - 2020-03-07 08:00:00\n",
      "2020-09-25 20:26:36,488 - june.simulator - INFO - Date = 2020-03-07 08:00:00, number of deaths =  0, number of infected = 114\n",
      "2020-09-25 20:26:36,539 - june.simulator - INFO - CMS: Infection COMS for rank 0/1 - 1.6260892152786255e-06,1.1920928955078125e-06 - 2020-03-07 08:00:00\n",
      "2020-09-25 20:26:36,568 - june.simulator - INFO - CMS: Timestep for rank 0/1 - 0.18601493164896965, 0.18601536750793457 - 2020-03-07 08:00:00\n",
      "2020-09-25 20:26:36,612 - june.activity.activity_manager - INFO - CMS: People COMS for rank 0/1 - 3.6507844924926758e-06,3.0994415283203125e-06 - 2020-03-07 12:00:00\n",
      "2020-09-25 20:26:36,615 - june.simulator - INFO - Date = 2020-03-07 12:00:00, number of deaths =  0, number of infected = 114\n",
      "2020-09-25 20:26:36,666 - june.simulator - INFO - CMS: Infection COMS for rank 0/1 - 2.0954757928848267e-06,1.6689300537109375e-06 - 2020-03-07 12:00:00\n",
      "2020-09-25 20:26:36,689 - june.simulator - INFO - CMS: Timestep for rank 0/1 - 0.12044073641300201, 0.12044119834899902 - 2020-03-07 12:00:00\n",
      "2020-09-25 20:26:36,799 - june.activity.activity_manager - INFO - CMS: People COMS for rank 0/1 - 3.0212104320526123e-06,2.6226043701171875e-06 - 2020-03-08 00:00:00\n",
      "2020-09-25 20:26:36,802 - june.simulator - INFO - Date = 2020-03-08 00:00:00, number of deaths =  0, number of infected = 117\n",
      "2020-09-25 20:26:36,851 - june.simulator - INFO - CMS: Infection COMS for rank 0/1 - 1.601874828338623e-06,1.1920928955078125e-06 - 2020-03-08 00:00:00\n",
      "2020-09-25 20:26:36,874 - june.simulator - INFO - CMS: Timestep for rank 0/1 - 0.18402148596942425, 0.1840217113494873 - 2020-03-08 00:00:00\n",
      "2020-09-25 20:26:36,991 - june.activity.activity_manager - INFO - CMS: People COMS for rank 0/1 - 3.0547380447387695e-06,2.384185791015625e-06 - 2020-03-08 04:00:00\n",
      "2020-09-25 20:26:36,994 - june.simulator - INFO - Date = 2020-03-08 04:00:00, number of deaths =  0, number of infected = 117\n",
      "2020-09-25 20:26:37,045 - june.simulator - INFO - CMS: Infection COMS for rank 0/1 - 2.2705644369125366e-06,2.384185791015625e-06 - 2020-03-08 04:00:00\n",
      "2020-09-25 20:26:37,067 - june.simulator - INFO - CMS: Timestep for rank 0/1 - 0.1919804122298956, 0.19198083877563477 - 2020-03-08 04:00:00\n",
      "2020-09-25 20:26:37,167 - june.activity.activity_manager - INFO - CMS: People COMS for rank 0/1 - 2.816319465637207e-06,2.384185791015625e-06 - 2020-03-08 08:00:00\n",
      "2020-09-25 20:26:37,171 - june.simulator - INFO - Date = 2020-03-08 08:00:00, number of deaths =  0, number of infected = 119\n",
      "2020-09-25 20:26:37,222 - june.simulator - INFO - CMS: Infection COMS for rank 0/1 - 1.648440957069397e-06,1.430511474609375e-06 - 2020-03-08 08:00:00\n",
      "2020-09-25 20:26:37,252 - june.simulator - INFO - CMS: Timestep for rank 0/1 - 0.18436716869473457, 0.18436741828918457 - 2020-03-08 08:00:00\n",
      "2020-09-25 20:26:37,295 - june.activity.activity_manager - INFO - CMS: People COMS for rank 0/1 - 3.3527612686157227e-06,2.86102294921875e-06 - 2020-03-08 12:00:00\n",
      "2020-09-25 20:26:37,298 - june.simulator - INFO - Date = 2020-03-08 12:00:00, number of deaths =  0, number of infected = 119\n",
      "2020-09-25 20:26:37,354 - june.simulator - INFO - CMS: Infection COMS for rank 0/1 - 3.7830322980880737e-06,2.1457672119140625e-06 - 2020-03-08 12:00:00\n",
      "2020-09-25 20:26:37,390 - june.simulator - INFO - CMS: Timestep for rank 0/1 - 0.13708534836769104, 0.1370861530303955 - 2020-03-08 12:00:00\n",
      "2020-09-25 20:26:37,437 - june.activity.activity_manager - INFO - CMS: People COMS for rank 0/1 - 3.725290298461914e-06,3.337860107421875e-06 - 2020-03-09 00:00:00\n",
      "2020-09-25 20:26:37,440 - june.simulator - INFO - Date = 2020-03-09 00:00:00, number of deaths =  0, number of infected = 122\n",
      "2020-09-25 20:26:37,493 - june.simulator - INFO - CMS: Infection COMS for rank 0/1 - 2.0246952772140503e-06,1.9073486328125e-06 - 2020-03-09 00:00:00\n",
      "2020-09-25 20:26:37,517 - june.simulator - INFO - CMS: Timestep for rank 0/1 - 0.12543024867773056, 0.12543058395385742 - 2020-03-09 00:00:00\n",
      "2020-09-25 20:26:37,573 - june.activity.activity_manager - INFO - CMS: People COMS for rank 0/1 - 2.985820174217224e-06,2.6226043701171875e-06 - 2020-03-09 01:00:00\n",
      "2020-09-25 20:26:37,576 - june.simulator - INFO - Date = 2020-03-09 01:00:00, number of deaths =  0, number of infected = 122\n",
      "2020-09-25 20:26:37,638 - june.simulator - INFO - CMS: Infection COMS for rank 0/1 - 1.8998980522155762e-06,1.430511474609375e-06 - 2020-03-09 01:00:00\n",
      "2020-09-25 20:26:37,662 - june.simulator - INFO - CMS: Timestep for rank 0/1 - 0.14416561275720596, 0.1441657543182373 - 2020-03-09 01:00:00\n",
      "2020-09-25 20:26:37,705 - june.activity.activity_manager - INFO - CMS: People COMS for rank 0/1 - 3.3508986234664917e-06,2.86102294921875e-06 - 2020-03-09 09:00:00\n",
      "2020-09-25 20:26:37,708 - june.simulator - INFO - Date = 2020-03-09 09:00:00, number of deaths =  0, number of infected = 132\n",
      "2020-09-25 20:26:37,757 - june.simulator - INFO - CMS: Infection COMS for rank 0/1 - 2.076849341392517e-06,1.9073486328125e-06 - 2020-03-09 09:00:00\n",
      "2020-09-25 20:26:37,782 - june.simulator - INFO - CMS: Timestep for rank 0/1 - 0.11910135671496391, 0.11910152435302734 - 2020-03-09 09:00:00\n",
      "2020-09-25 20:26:37,893 - june.activity.activity_manager - INFO - CMS: People COMS for rank 0/1 - 3.4514814615249634e-06,2.86102294921875e-06 - 2020-03-09 10:00:00\n",
      "2020-09-25 20:26:37,896 - june.simulator - INFO - Date = 2020-03-09 10:00:00, number of deaths =  0, number of infected = 132\n",
      "2020-09-25 20:26:37,948 - june.simulator - INFO - CMS: Infection COMS for rank 0/1 - 1.644715666770935e-06,1.1920928955078125e-06 - 2020-03-09 10:00:00\n",
      "2020-09-25 20:26:37,973 - june.simulator - INFO - CMS: Timestep for rank 0/1 - 0.1899786926805973, 0.18997907638549805 - 2020-03-09 10:00:00\n",
      "2020-09-25 20:26:38,016 - june.activity.activity_manager - INFO - CMS: People COMS for rank 0/1 - 3.952533006668091e-06,3.337860107421875e-06 - 2020-03-09 13:00:00\n",
      "2020-09-25 20:26:38,020 - june.simulator - INFO - Date = 2020-03-09 13:00:00, number of deaths =  0, number of infected = 132\n",
      "2020-09-25 20:26:38,074 - june.simulator - INFO - CMS: Infection COMS for rank 0/1 - 2.4568289518356323e-06,1.9073486328125e-06 - 2020-03-09 13:00:00\n",
      "2020-09-25 20:26:38,098 - june.simulator - INFO - CMS: Timestep for rank 0/1 - 0.1241155881434679, 0.12411618232727051 - 2020-03-09 13:00:00\n",
      "2020-09-25 20:26:38,142 - june.activity.activity_manager - INFO - CMS: People COMS for rank 0/1 - 3.42540442943573e-06,2.6226043701171875e-06 - 2020-03-10 00:00:00\n",
      "2020-09-25 20:26:38,145 - june.simulator - INFO - Date = 2020-03-10 00:00:00, number of deaths =  0, number of infected = 135\n"
     ]
    },
    {
     "name": "stdout",
     "output_type": "stream",
     "text": [
      "2020-09-25 20:26:38,194 - june.simulator - INFO - CMS: Infection COMS for rank 0/1 - 1.8496066331863403e-06,1.6689300537109375e-06 - 2020-03-10 00:00:00\n",
      "2020-09-25 20:26:38,217 - june.simulator - INFO - CMS: Timestep for rank 0/1 - 0.1178265418857336, 0.11782670021057129 - 2020-03-10 00:00:00\n",
      "2020-09-25 20:26:38,270 - june.activity.activity_manager - INFO - CMS: People COMS for rank 0/1 - 2.8014183044433594e-06,2.384185791015625e-06 - 2020-03-10 01:00:00\n",
      "2020-09-25 20:26:38,274 - june.simulator - INFO - Date = 2020-03-10 01:00:00, number of deaths =  0, number of infected = 135\n",
      "2020-09-25 20:26:38,331 - june.simulator - INFO - CMS: Infection COMS for rank 0/1 - 1.9669532775878906e-06,1.9073486328125e-06 - 2020-03-10 01:00:00\n",
      "2020-09-25 20:26:38,355 - june.simulator - INFO - CMS: Timestep for rank 0/1 - 0.1369390655308962, 0.13693928718566895 - 2020-03-10 01:00:00\n",
      "2020-09-25 20:26:38,397 - june.activity.activity_manager - INFO - CMS: People COMS for rank 0/1 - 3.4384429454803467e-06,3.0994415283203125e-06 - 2020-03-10 09:00:00\n",
      "2020-09-25 20:26:38,400 - june.simulator - INFO - Date = 2020-03-10 09:00:00, number of deaths =  0, number of infected = 140\n",
      "2020-09-25 20:26:38,451 - june.simulator - INFO - CMS: Infection COMS for rank 0/1 - 1.6391277313232422e-06,1.6689300537109375e-06 - 2020-03-10 09:00:00\n",
      "2020-09-25 20:26:38,473 - june.simulator - INFO - CMS: Timestep for rank 0/1 - 0.11771310865879059, 0.11771321296691895 - 2020-03-10 09:00:00\n",
      "2020-09-25 20:26:38,586 - june.activity.activity_manager - INFO - CMS: People COMS for rank 0/1 - 3.1907111406326294e-06,2.86102294921875e-06 - 2020-03-10 10:00:00\n",
      "2020-09-25 20:26:38,589 - june.simulator - INFO - Date = 2020-03-10 10:00:00, number of deaths =  0, number of infected = 140\n",
      "2020-09-25 20:26:38,641 - june.simulator - INFO - CMS: Infection COMS for rank 0/1 - 1.8514692783355713e-06,1.6689300537109375e-06 - 2020-03-10 10:00:00\n",
      "2020-09-25 20:26:38,665 - june.simulator - INFO - CMS: Timestep for rank 0/1 - 0.1904933601617813, 0.19049358367919922 - 2020-03-10 10:00:00\n",
      "2020-09-25 20:26:38,707 - june.activity.activity_manager - INFO - CMS: People COMS for rank 0/1 - 3.1404197216033936e-06,2.384185791015625e-06 - 2020-03-10 13:00:00\n",
      "2020-09-25 20:26:38,710 - june.simulator - INFO - Date = 2020-03-10 13:00:00, number of deaths =  0, number of infected = 140\n",
      "2020-09-25 20:26:38,760 - june.simulator - INFO - CMS: Infection COMS for rank 0/1 - 1.8794089555740356e-06,1.6689300537109375e-06 - 2020-03-10 13:00:00\n",
      "2020-09-25 20:26:38,783 - june.simulator - INFO - CMS: Timestep for rank 0/1 - 0.1167920883744955, 0.11679244041442871 - 2020-03-10 13:00:00\n",
      "CPU times: user 7.26 s, sys: 677 ms, total: 7.94 s\n",
      "Wall time: 7.61 s\n"
     ]
    }
   ],
   "source": [
    "%%time\n",
    "simulator.run()"
   ]
  },
  {
   "cell_type": "markdown",
   "metadata": {},
   "source": [
    "While the simulation runs (and afterwards) we can launch the visualization webpage by running\n",
    "```python june/visualizer.py path/to/results``` "
   ]
  },
  {
   "cell_type": "markdown",
   "metadata": {},
   "source": [
    "# Getting the results"
   ]
  },
  {
   "cell_type": "markdown",
   "metadata": {},
   "source": [
    "All results are stored in a json file specified in the ``save_path`` variable in the config file. We can also access it from ``world.logger`` directly."
   ]
  },
  {
   "cell_type": "code",
   "execution_count": 57,
   "metadata": {},
   "outputs": [],
   "source": [
    "import pandas as pd"
   ]
  },
  {
   "cell_type": "code",
   "execution_count": 58,
   "metadata": {},
   "outputs": [
    {
     "name": "stdout",
     "output_type": "stream",
     "text": [
      "['E02001731' 'E02001731' 'E02001731' ... 'E02002566' 'E02002566'\n",
      " 'E02002566']\n",
      "Reading 1 processes\n",
      "Reading rank = 0\n",
      "Finished loading infected data\n",
      "CPU times: user 88.1 ms, sys: 4.99 ms, total: 93 ms\n",
      "Wall time: 93.6 ms\n"
     ]
    }
   ],
   "source": [
    "%%time\n",
    "read = ReadLogger()"
   ]
  },
  {
   "cell_type": "markdown",
   "metadata": {},
   "source": [
    "## Hospital data and how it changed over time"
   ]
  },
  {
   "cell_type": "code",
   "execution_count": 26,
   "metadata": {},
   "outputs": [],
   "source": [
    "hospitals_characteristics_df = read.load_hospital_characteristics()"
   ]
  },
  {
   "cell_type": "code",
   "execution_count": 27,
   "metadata": {},
   "outputs": [
    {
     "data": {
      "text/html": [
       "<div>\n",
       "<style scoped>\n",
       "    .dataframe tbody tr th:only-of-type {\n",
       "        vertical-align: middle;\n",
       "    }\n",
       "\n",
       "    .dataframe tbody tr th {\n",
       "        vertical-align: top;\n",
       "    }\n",
       "\n",
       "    .dataframe thead th {\n",
       "        text-align: right;\n",
       "    }\n",
       "</style>\n",
       "<table border=\"1\" class=\"dataframe\">\n",
       "  <thead>\n",
       "    <tr style=\"text-align: right;\">\n",
       "      <th></th>\n",
       "      <th>longitude</th>\n",
       "      <th>latitude</th>\n",
       "      <th>n_beds</th>\n",
       "      <th>n_icu_beds</th>\n",
       "      <th>trust_code</th>\n",
       "    </tr>\n",
       "  </thead>\n",
       "  <tbody>\n",
       "    <tr>\n",
       "      <th>0</th>\n",
       "      <td>-1.563477</td>\n",
       "      <td>54.53125</td>\n",
       "      <td>905</td>\n",
       "      <td>128</td>\n",
       "      <td>RXP</td>\n",
       "    </tr>\n",
       "  </tbody>\n",
       "</table>\n",
       "</div>"
      ],
      "text/plain": [
       "   longitude  latitude  n_beds  n_icu_beds trust_code\n",
       "0  -1.563477  54.53125     905         128        RXP"
      ]
     },
     "execution_count": 27,
     "metadata": {},
     "output_type": "execute_result"
    }
   ],
   "source": [
    "hospitals_characteristics_df"
   ]
  },
  {
   "cell_type": "code",
   "execution_count": 28,
   "metadata": {
    "scrolled": true
   },
   "outputs": [],
   "source": [
    "hospitals_df = read.load_hospital_capacity()"
   ]
  },
  {
   "cell_type": "code",
   "execution_count": 29,
   "metadata": {},
   "outputs": [
    {
     "data": {
      "text/html": [
       "<div>\n",
       "<style scoped>\n",
       "    .dataframe tbody tr th:only-of-type {\n",
       "        vertical-align: middle;\n",
       "    }\n",
       "\n",
       "    .dataframe tbody tr th {\n",
       "        vertical-align: top;\n",
       "    }\n",
       "\n",
       "    .dataframe thead th {\n",
       "        text-align: right;\n",
       "    }\n",
       "</style>\n",
       "<table border=\"1\" class=\"dataframe\">\n",
       "  <thead>\n",
       "    <tr style=\"text-align: right;\">\n",
       "      <th></th>\n",
       "      <th>id</th>\n",
       "      <th>n_patients</th>\n",
       "      <th>n_patients_icu</th>\n",
       "    </tr>\n",
       "    <tr>\n",
       "      <th>time_stamp</th>\n",
       "      <th></th>\n",
       "      <th></th>\n",
       "      <th></th>\n",
       "    </tr>\n",
       "  </thead>\n",
       "  <tbody>\n",
       "    <tr>\n",
       "      <th>2020-03-01 00:00:00</th>\n",
       "      <td>0</td>\n",
       "      <td>0</td>\n",
       "      <td>0</td>\n",
       "    </tr>\n",
       "    <tr>\n",
       "      <th>2020-03-01 04:00:00</th>\n",
       "      <td>0</td>\n",
       "      <td>0</td>\n",
       "      <td>0</td>\n",
       "    </tr>\n",
       "    <tr>\n",
       "      <th>2020-03-01 08:00:00</th>\n",
       "      <td>0</td>\n",
       "      <td>0</td>\n",
       "      <td>0</td>\n",
       "    </tr>\n",
       "    <tr>\n",
       "      <th>2020-03-01 12:00:00</th>\n",
       "      <td>0</td>\n",
       "      <td>0</td>\n",
       "      <td>0</td>\n",
       "    </tr>\n",
       "    <tr>\n",
       "      <th>2020-03-02 00:00:00</th>\n",
       "      <td>0</td>\n",
       "      <td>0</td>\n",
       "      <td>0</td>\n",
       "    </tr>\n",
       "    <tr>\n",
       "      <th>...</th>\n",
       "      <td>...</td>\n",
       "      <td>...</td>\n",
       "      <td>...</td>\n",
       "    </tr>\n",
       "    <tr>\n",
       "      <th>2020-07-05 08:00:00</th>\n",
       "      <td>0</td>\n",
       "      <td>32</td>\n",
       "      <td>0</td>\n",
       "    </tr>\n",
       "    <tr>\n",
       "      <th>2020-07-05 12:00:00</th>\n",
       "      <td>0</td>\n",
       "      <td>32</td>\n",
       "      <td>0</td>\n",
       "    </tr>\n",
       "    <tr>\n",
       "      <th>2020-07-06 00:00:00</th>\n",
       "      <td>0</td>\n",
       "      <td>32</td>\n",
       "      <td>0</td>\n",
       "    </tr>\n",
       "    <tr>\n",
       "      <th>2020-07-06 01:00:00</th>\n",
       "      <td>0</td>\n",
       "      <td>32</td>\n",
       "      <td>0</td>\n",
       "    </tr>\n",
       "    <tr>\n",
       "      <th>2020-07-06 09:00:00</th>\n",
       "      <td>0</td>\n",
       "      <td>32</td>\n",
       "      <td>0</td>\n",
       "    </tr>\n",
       "  </tbody>\n",
       "</table>\n",
       "<p>601 rows × 3 columns</p>\n",
       "</div>"
      ],
      "text/plain": [
       "                    id n_patients n_patients_icu\n",
       "time_stamp                                      \n",
       "2020-03-01 00:00:00  0          0              0\n",
       "2020-03-01 04:00:00  0          0              0\n",
       "2020-03-01 08:00:00  0          0              0\n",
       "2020-03-01 12:00:00  0          0              0\n",
       "2020-03-02 00:00:00  0          0              0\n",
       "...                 ..        ...            ...\n",
       "2020-07-05 08:00:00  0         32              0\n",
       "2020-07-05 12:00:00  0         32              0\n",
       "2020-07-06 00:00:00  0         32              0\n",
       "2020-07-06 01:00:00  0         32              0\n",
       "2020-07-06 09:00:00  0         32              0\n",
       "\n",
       "[601 rows x 3 columns]"
      ]
     },
     "execution_count": 29,
     "metadata": {},
     "output_type": "execute_result"
    }
   ],
   "source": [
    "hospitals_df"
   ]
  },
  {
   "cell_type": "markdown",
   "metadata": {},
   "source": [
    "## where did infections happen?"
   ]
  },
  {
   "cell_type": "code",
   "execution_count": 59,
   "metadata": {},
   "outputs": [],
   "source": [
    "read.load_infection_location()"
   ]
  },
  {
   "cell_type": "code",
   "execution_count": 60,
   "metadata": {},
   "outputs": [],
   "source": [
    "infection_locations = read.get_locations_infections()"
   ]
  },
  {
   "cell_type": "code",
   "execution_count": 77,
   "metadata": {},
   "outputs": [
    {
     "data": {
      "text/plain": [
       "['household',\n",
       " 'school',\n",
       " 'company',\n",
       " 'company',\n",
       " 'company',\n",
       " 'company',\n",
       " 'company',\n",
       " 'company',\n",
       " 'university',\n",
       " 'household',\n",
       " 'household',\n",
       " 'company',\n",
       " 'company',\n",
       " 'household',\n",
       " 'household',\n",
       " 'household',\n",
       " 'company',\n",
       " 'company',\n",
       " 'company',\n",
       " 'company',\n",
       " 'company',\n",
       " 'company',\n",
       " 'university',\n",
       " 'household',\n",
       " 'household',\n",
       " 'household',\n",
       " 'company',\n",
       " 'university',\n",
       " 'university',\n",
       " 'university',\n",
       " 'household',\n",
       " 'household',\n",
       " 'household',\n",
       " 'household',\n",
       " 'household',\n",
       " 'household',\n",
       " 'household',\n",
       " 'household',\n",
       " 'household',\n",
       " 'household',\n",
       " 'company',\n",
       " 'company',\n",
       " 'company',\n",
       " 'company',\n",
       " 'company',\n",
       " 'company',\n",
       " 'university',\n",
       " 'university',\n",
       " 'university',\n",
       " 'university',\n",
       " 'household',\n",
       " 'household',\n",
       " 'household',\n",
       " 'school',\n",
       " 'company',\n",
       " 'company',\n",
       " 'company',\n",
       " 'university',\n",
       " 'household']"
      ]
     },
     "execution_count": 77,
     "metadata": {},
     "output_type": "execute_result"
    }
   ],
   "source": [
    "infection_locations"
   ]
  },
  {
   "cell_type": "code",
   "execution_count": 61,
   "metadata": {},
   "outputs": [],
   "source": [
    "unique_locations, counts_locations = np.unique(\n",
    "                np.array(infection_locations),\n",
    "                return_counts=True)\n",
    "\n",
    "location_counts_df = pd.DataFrame(\n",
    "    {'locations': unique_locations,\n",
    "    'counts': counts_locations}\n",
    ")\n",
    "location_counts_df.set_index('locations', inplace=True)"
   ]
  },
  {
   "cell_type": "code",
   "execution_count": 62,
   "metadata": {},
   "outputs": [],
   "source": [
    "location_counts_df['percent_infections']= 100*(location_counts_df['counts'])/location_counts_df.values.sum()"
   ]
  },
  {
   "cell_type": "code",
   "execution_count": 63,
   "metadata": {},
   "outputs": [
    {
     "data": {
      "text/plain": [
       "Text(0.5, 0, 'location')"
      ]
     },
     "execution_count": 63,
     "metadata": {},
     "output_type": "execute_result"
    },
    {
     "data": {
      "image/png": "[encoded data removed]",
      "text/plain": [
       "<Figure size 576x432 with 1 Axes>"
      ]
     },
     "metadata": {
      "needs_background": "light"
     },
     "output_type": "display_data"
    }
   ],
   "source": [
    "import matplotlib.ticker as mtick\n",
    "\n",
    "ax = location_counts_df['percent_infections'].sort_values().plot.bar()\n",
    "ax.yaxis.set_major_formatter(mtick.PercentFormatter())\n",
    "plt.ylabel('Percentage of infections at location')\n",
    "plt.xlabel('location')\n"
   ]
  },
  {
   "cell_type": "markdown",
   "metadata": {},
   "source": [
    "You can use the location id column to find where outbreaks happend and how many people got infected at that location"
   ]
  },
  {
   "cell_type": "code",
   "execution_count": 68,
   "metadata": {},
   "outputs": [],
   "source": [
    "unique_id, count_id =  np.unique(\n",
    "        np.array(read.locations_df['location_id'].sum()),\n",
    "        return_counts=True\n",
    ")"
   ]
  },
  {
   "cell_type": "code",
   "execution_count": 69,
   "metadata": {},
   "outputs": [
    {
     "data": {
      "text/plain": [
       "array(['company_0', 'company_5', 'company_8', 'company_2808',\n",
       "       'university_0'], dtype='<U14')"
      ]
     },
     "execution_count": 69,
     "metadata": {},
     "output_type": "execute_result"
    }
   ],
   "source": [
    "unique_id[np.argsort(count_id)[-5:]]"
   ]
  },
  {
   "cell_type": "code",
   "execution_count": 70,
   "metadata": {},
   "outputs": [
    {
     "data": {
      "text/plain": [
       "array([ 3,  3,  4,  9, 10])"
      ]
     },
     "execution_count": 70,
     "metadata": {},
     "output_type": "execute_result"
    }
   ],
   "source": [
    "count_id[np.argsort(count_id)[-5:]]"
   ]
  },
  {
   "cell_type": "markdown",
   "metadata": {},
   "source": [
    "Alternatively, use the location time series to see where people get infected as a function of time (per week or per day)"
   ]
  },
  {
   "cell_type": "code",
   "execution_count": 71,
   "metadata": {},
   "outputs": [],
   "source": [
    "weekly_infections=read.locations_df.resample('W').sum()"
   ]
  },
  {
   "cell_type": "code",
   "execution_count": 72,
   "metadata": {},
   "outputs": [],
   "source": [
    "for location in unique_locations:\n",
    "    weekly_infections[str(location)] = weekly_infections.apply(\n",
    "        lambda x: x.location.count(str(location)), axis=1\n",
    "    )"
   ]
  },
  {
   "cell_type": "code",
   "execution_count": 73,
   "metadata": {},
   "outputs": [
    {
     "data": {
      "text/plain": [
       "<matplotlib.axes._subplots.AxesSubplot at 0x2abbb910d0d0>"
      ]
     },
     "execution_count": 73,
     "metadata": {},
     "output_type": "execute_result"
    },
    {
     "data": {
      "image/png": "[encoded data removed]",
      "text/plain": [
       "<Figure size 576x432 with 1 Axes>"
      ]
     },
     "metadata": {
      "needs_background": "light"
     },
     "output_type": "display_data"
    }
   ],
   "source": [
    "weekly_infections.iloc[:,3:].plot()"
   ]
  },
  {
   "cell_type": "code",
   "execution_count": 74,
   "metadata": {},
   "outputs": [],
   "source": [
    "for location in unique_locations:\n",
    "    read.locations_df[str(location)] = read.locations_df.apply(\n",
    "        lambda x: x.location.count(str(location)), axis=1\n",
    "    )"
   ]
  },
  {
   "cell_type": "code",
   "execution_count": 75,
   "metadata": {},
   "outputs": [],
   "source": [
    "read.locations_df.index = pd.to_datetime(read.locations_df.index)\n"
   ]
  },
  {
   "cell_type": "code",
   "execution_count": 76,
   "metadata": {},
   "outputs": [
    {
     "data": {
      "text/plain": [
       "<matplotlib.axes._subplots.AxesSubplot at 0x2abbc2ef0e90>"
      ]
     },
     "execution_count": 76,
     "metadata": {},
     "output_type": "execute_result"
    },
    {
     "data": {
      "image/png": "[encoded data removed]",
      "text/plain": [
       "<Figure size 576x432 with 1 Axes>"
      ]
     },
     "metadata": {
      "needs_background": "light"
     },
     "output_type": "display_data"
    }
   ],
   "source": [
    "read.locations_df.iloc[:,3:].plot()"
   ]
  },
  {
   "cell_type": "markdown",
   "metadata": {},
   "source": [
    "## rate of infection"
   ]
  },
  {
   "cell_type": "code",
   "execution_count": 44,
   "metadata": {},
   "outputs": [
    {
     "name": "stderr",
     "output_type": "stream",
     "text": [
      "/home/arnau/.local/lib/python3.8/site-packages/numpy/core/fromnumeric.py:3372: RuntimeWarning: Mean of empty slice.\n",
      "  return _methods._mean(a, axis=axis, dtype=dtype,\n",
      "/home/arnau/.local/lib/python3.8/site-packages/numpy/core/_methods.py:170: RuntimeWarning: invalid value encountered in double_scalars\n",
      "  ret = ret.dtype.type(ret / rcount)\n"
     ]
    }
   ],
   "source": [
    "r_df = read.get_r()"
   ]
  },
  {
   "cell_type": "code",
   "execution_count": 45,
   "metadata": {},
   "outputs": [
    {
     "data": {
      "text/plain": [
       "Text(0, 0.5, 'R')"
      ]
     },
     "execution_count": 45,
     "metadata": {},
     "output_type": "execute_result"
    },
    {
     "data": {
      "image/png": "[encoded data removed]",
      "text/plain": [
       "<Figure size 576x432 with 1 Axes>"
      ]
     },
     "metadata": {
      "needs_background": "light"
     },
     "output_type": "display_data"
    }
   ],
   "source": [
    "from june.policy import SocialDistancing\n",
    "r_df.plot()\n",
    "colors = [\"yellow\", \"orange\", 'blue']\n",
    "for policy in policies.policies:\n",
    "    if isinstance(policy, SocialDistancing):\n",
    "        plt.axvspan(policy.start_time, \n",
    "                policy.end_time,\n",
    "                facecolor=colors.pop(),\n",
    "                alpha=0.2)\n",
    "plt.axhline(y=1, linestyle='dashed', color='gray')\n",
    "plt.xlabel('Date')\n",
    "plt.ylim(0,3)\n",
    "plt.ylabel('R')"
   ]
  },
  {
   "cell_type": "markdown",
   "metadata": {},
   "source": [
    "## World infection curves, and by super area"
   ]
  },
  {
   "cell_type": "code",
   "execution_count": 64,
   "metadata": {},
   "outputs": [
    {
     "name": "stdout",
     "output_type": "stream",
     "text": [
      "CPU times: user 56.4 ms, sys: 2.07 ms, total: 58.5 ms\n",
      "Wall time: 56.7 ms\n"
     ]
    }
   ],
   "source": [
    "%%time\n",
    "world_df = read.world_summary()"
   ]
  },
  {
   "cell_type": "code",
   "execution_count": 65,
   "metadata": {},
   "outputs": [
    {
     "data": {
      "text/plain": [
       "Text(0.5, 0, 'Date')"
      ]
     },
     "execution_count": 65,
     "metadata": {},
     "output_type": "execute_result"
    },
    {
     "data": {
      "image/png": "[encoded data removed]",
      "text/plain": [
       "<Figure size 576x432 with 1 Axes>"
      ]
     },
     "metadata": {
      "needs_background": "light"
     },
     "output_type": "display_data"
    }
   ],
   "source": [
    "fig, ax = plt.subplots()\n",
    "world_df['daily_infections'].resample('D').sum().plot(ax=ax)\n",
    "for policy in policies.policies:\n",
    "    plt.axvspan(policy.start_time, \n",
    "                policy.end_time,\n",
    "                alpha=0.01)\n",
    "plt.axvline('2020-03-23',\n",
    "           linestyle='dashed',\n",
    "           color='indianred')\n",
    "ax.set_ylabel('# daily infections')\n",
    "ax.set_xlabel('Date')"
   ]
  },
  {
   "cell_type": "code",
   "execution_count": 38,
   "metadata": {},
   "outputs": [
    {
     "data": {
      "text/plain": [
       "Text(0.5, 0, 'Date')"
      ]
     },
     "execution_count": 38,
     "metadata": {},
     "output_type": "execute_result"
    },
    {
     "data": {
      "image/png": "[encoded data removed]",
      "text/plain": [
       "<Figure size 576x432 with 1 Axes>"
      ]
     },
     "metadata": {
      "needs_background": "light"
     },
     "output_type": "display_data"
    }
   ],
   "source": [
    "fig, ax = plt.subplots()\n",
    "world_df['daily_hospital_admissions'].resample('D').sum().plot(ax=ax)\n",
    "\n",
    "plt.axvline('2020-04-01',\n",
    "           linestyle='dashed',\n",
    "           color='indianred')\n",
    "ax.set_ylabel('# daily hospital admissions')\n",
    "ax.set_xlabel('Date')"
   ]
  },
  {
   "cell_type": "code",
   "execution_count": 39,
   "metadata": {},
   "outputs": [
    {
     "data": {
      "text/plain": [
       "Text(0.5, 0, 'Date')"
      ]
     },
     "execution_count": 39,
     "metadata": {},
     "output_type": "execute_result"
    },
    {
     "data": {
      "image/png": "[encoded data removed]",
      "text/plain": [
       "<Figure size 576x432 with 1 Axes>"
      ]
     },
     "metadata": {
      "needs_background": "light"
     },
     "output_type": "display_data"
    }
   ],
   "source": [
    "fig, ax = plt.subplots()\n",
    "world_df['current_infected'].plot(ax=ax)\n",
    "\n",
    "ax.set_ylabel('# Infected')\n",
    "ax.set_xlabel('Date')"
   ]
  },
  {
   "cell_type": "code",
   "execution_count": 40,
   "metadata": {},
   "outputs": [
    {
     "data": {
      "text/plain": [
       "<matplotlib.legend.Legend at 0x2abbc3409190>"
      ]
     },
     "execution_count": 40,
     "metadata": {},
     "output_type": "execute_result"
    },
    {
     "data": {
      "image/png": "[encoded data removed]",
      "text/plain": [
       "<Figure size 576x432 with 1 Axes>"
      ]
     },
     "metadata": {
      "needs_background": "light"
     },
     "output_type": "display_data"
    }
   ],
   "source": [
    "world_df.plot()\n",
    "\n",
    "plt.legend(bbox_to_anchor=(1,1))\n"
   ]
  },
  {
   "cell_type": "code",
   "execution_count": 51,
   "metadata": {},
   "outputs": [
    {
     "name": "stderr",
     "output_type": "stream",
     "text": [
      "/home/arnau/.local/lib/python3.8/site-packages/pandas/core/indexing.py:671: SettingWithCopyWarning: \n",
      "A value is trying to be set on a copy of a slice from a DataFrame\n",
      "\n",
      "See the caveats in the documentation: https://pandas.pydata.org/pandas-docs/stable/user_guide/indexing.html#returning-a-view-versus-a-copy\n",
      "  self._setitem_with_indexer(indexer, value)\n",
      "/home/arnau/code/JUNE/june/logger/read_logger.py:194: SettingWithCopyWarning: \n",
      "A value is trying to be set on a copy of a slice from a DataFrame\n",
      "\n",
      "See the caveats in the documentation: https://pandas.pydata.org/pandas-docs/stable/user_guide/indexing.html#returning-a-view-versus-a-copy\n",
      "  symptoms_df.loc[ts,col] = data[mask]\n"
     ]
    },
    {
     "name": "stdout",
     "output_type": "stream",
     "text": [
      "CPU times: user 1.51 s, sys: 13.3 ms, total: 1.52 s\n",
      "Wall time: 1.52 s\n"
     ]
    }
   ],
   "source": [
    "%%time\n",
    "run_summary = read.run_summary()"
   ]
  },
  {
   "cell_type": "code",
   "execution_count": 52,
   "metadata": {},
   "outputs": [
    {
     "data": {
      "text/html": [
       "<div>\n",
       "<style scoped>\n",
       "    .dataframe tbody tr th:only-of-type {\n",
       "        vertical-align: middle;\n",
       "    }\n",
       "\n",
       "    .dataframe tbody tr th {\n",
       "        vertical-align: top;\n",
       "    }\n",
       "\n",
       "    .dataframe thead th {\n",
       "        text-align: right;\n",
       "    }\n",
       "</style>\n",
       "<table border=\"1\" class=\"dataframe\">\n",
       "  <thead>\n",
       "    <tr style=\"text-align: right;\">\n",
       "      <th></th>\n",
       "      <th>super_area</th>\n",
       "      <th>current_infected</th>\n",
       "      <th>current_dead</th>\n",
       "      <th>current_recovered</th>\n",
       "      <th>current_susceptible</th>\n",
       "      <th>current_hospitalised</th>\n",
       "      <th>current_intensive_care</th>\n",
       "      <th>daily_recovered</th>\n",
       "      <th>daily_deaths_home</th>\n",
       "      <th>daily_deaths_hospital</th>\n",
       "      <th>daily_deaths_icu</th>\n",
       "      <th>daily_deaths</th>\n",
       "      <th>daily_infections</th>\n",
       "      <th>daily_hospital_admissions</th>\n",
       "      <th>region</th>\n",
       "      <th>location_id</th>\n",
       "    </tr>\n",
       "    <tr>\n",
       "      <th>time_stamp</th>\n",
       "      <th></th>\n",
       "      <th></th>\n",
       "      <th></th>\n",
       "      <th></th>\n",
       "      <th></th>\n",
       "      <th></th>\n",
       "      <th></th>\n",
       "      <th></th>\n",
       "      <th></th>\n",
       "      <th></th>\n",
       "      <th></th>\n",
       "      <th></th>\n",
       "      <th></th>\n",
       "      <th></th>\n",
       "      <th></th>\n",
       "      <th></th>\n",
       "    </tr>\n",
       "  </thead>\n",
       "  <tbody>\n",
       "    <tr>\n",
       "      <th>2020-03-01</th>\n",
       "      <td>E02001731</td>\n",
       "      <td>32</td>\n",
       "      <td>0</td>\n",
       "      <td>0</td>\n",
       "      <td>12249</td>\n",
       "      <td>0</td>\n",
       "      <td>0</td>\n",
       "      <td>0</td>\n",
       "      <td>0</td>\n",
       "      <td>0</td>\n",
       "      <td>0</td>\n",
       "      <td>0</td>\n",
       "      <td>32</td>\n",
       "      <td>0.0</td>\n",
       "      <td>North East</td>\n",
       "      <td>NaN</td>\n",
       "    </tr>\n",
       "    <tr>\n",
       "      <th>2020-03-02</th>\n",
       "      <td>E02001731</td>\n",
       "      <td>32</td>\n",
       "      <td>0</td>\n",
       "      <td>0</td>\n",
       "      <td>12249</td>\n",
       "      <td>0</td>\n",
       "      <td>0</td>\n",
       "      <td>0</td>\n",
       "      <td>0</td>\n",
       "      <td>0</td>\n",
       "      <td>0</td>\n",
       "      <td>0</td>\n",
       "      <td>0</td>\n",
       "      <td>0.0</td>\n",
       "      <td>North East</td>\n",
       "      <td>NaN</td>\n",
       "    </tr>\n",
       "    <tr>\n",
       "      <th>2020-03-03</th>\n",
       "      <td>E02001731</td>\n",
       "      <td>36</td>\n",
       "      <td>0</td>\n",
       "      <td>0</td>\n",
       "      <td>12245</td>\n",
       "      <td>0</td>\n",
       "      <td>0</td>\n",
       "      <td>0</td>\n",
       "      <td>0</td>\n",
       "      <td>0</td>\n",
       "      <td>0</td>\n",
       "      <td>0</td>\n",
       "      <td>5</td>\n",
       "      <td>0.0</td>\n",
       "      <td>North East</td>\n",
       "      <td>[school_1, school_6, school_6, school_6, compa...</td>\n",
       "    </tr>\n",
       "    <tr>\n",
       "      <th>2020-03-04</th>\n",
       "      <td>E02001731</td>\n",
       "      <td>45</td>\n",
       "      <td>0</td>\n",
       "      <td>0</td>\n",
       "      <td>12235</td>\n",
       "      <td>0</td>\n",
       "      <td>0</td>\n",
       "      <td>0</td>\n",
       "      <td>0</td>\n",
       "      <td>0</td>\n",
       "      <td>0</td>\n",
       "      <td>0</td>\n",
       "      <td>15</td>\n",
       "      <td>0.0</td>\n",
       "      <td>North East</td>\n",
       "      <td>[school_6, school_6, school_6, school_6, schoo...</td>\n",
       "    </tr>\n",
       "    <tr>\n",
       "      <th>2020-03-05</th>\n",
       "      <td>E02001731</td>\n",
       "      <td>61</td>\n",
       "      <td>0</td>\n",
       "      <td>0</td>\n",
       "      <td>12220</td>\n",
       "      <td>0</td>\n",
       "      <td>0</td>\n",
       "      <td>0</td>\n",
       "      <td>0</td>\n",
       "      <td>0</td>\n",
       "      <td>0</td>\n",
       "      <td>0</td>\n",
       "      <td>13</td>\n",
       "      <td>0.0</td>\n",
       "      <td>North East</td>\n",
       "      <td>[city_transport_27, school_6, school_6, school...</td>\n",
       "    </tr>\n",
       "    <tr>\n",
       "      <th>...</th>\n",
       "      <td>...</td>\n",
       "      <td>...</td>\n",
       "      <td>...</td>\n",
       "      <td>...</td>\n",
       "      <td>...</td>\n",
       "      <td>...</td>\n",
       "      <td>...</td>\n",
       "      <td>...</td>\n",
       "      <td>...</td>\n",
       "      <td>...</td>\n",
       "      <td>...</td>\n",
       "      <td>...</td>\n",
       "      <td>...</td>\n",
       "      <td>...</td>\n",
       "      <td>...</td>\n",
       "      <td>...</td>\n",
       "    </tr>\n",
       "    <tr>\n",
       "      <th>2020-07-02</th>\n",
       "      <td>E02002566</td>\n",
       "      <td>1</td>\n",
       "      <td>3</td>\n",
       "      <td>1227</td>\n",
       "      <td>5687</td>\n",
       "      <td>0</td>\n",
       "      <td>0</td>\n",
       "      <td>0</td>\n",
       "      <td>0</td>\n",
       "      <td>0</td>\n",
       "      <td>0</td>\n",
       "      <td>0</td>\n",
       "      <td>0</td>\n",
       "      <td>0.0</td>\n",
       "      <td>North East</td>\n",
       "      <td>NaN</td>\n",
       "    </tr>\n",
       "    <tr>\n",
       "      <th>2020-07-03</th>\n",
       "      <td>E02002566</td>\n",
       "      <td>1</td>\n",
       "      <td>3</td>\n",
       "      <td>1227</td>\n",
       "      <td>5687</td>\n",
       "      <td>0</td>\n",
       "      <td>0</td>\n",
       "      <td>0</td>\n",
       "      <td>0</td>\n",
       "      <td>0</td>\n",
       "      <td>0</td>\n",
       "      <td>0</td>\n",
       "      <td>0</td>\n",
       "      <td>0.0</td>\n",
       "      <td>North East</td>\n",
       "      <td>NaN</td>\n",
       "    </tr>\n",
       "    <tr>\n",
       "      <th>2020-07-04</th>\n",
       "      <td>E02002566</td>\n",
       "      <td>1</td>\n",
       "      <td>3</td>\n",
       "      <td>1227</td>\n",
       "      <td>5687</td>\n",
       "      <td>0</td>\n",
       "      <td>0</td>\n",
       "      <td>0</td>\n",
       "      <td>0</td>\n",
       "      <td>0</td>\n",
       "      <td>0</td>\n",
       "      <td>0</td>\n",
       "      <td>0</td>\n",
       "      <td>0.0</td>\n",
       "      <td>North East</td>\n",
       "      <td>NaN</td>\n",
       "    </tr>\n",
       "    <tr>\n",
       "      <th>2020-07-05</th>\n",
       "      <td>E02002566</td>\n",
       "      <td>1</td>\n",
       "      <td>3</td>\n",
       "      <td>1227</td>\n",
       "      <td>5687</td>\n",
       "      <td>0</td>\n",
       "      <td>0</td>\n",
       "      <td>0</td>\n",
       "      <td>0</td>\n",
       "      <td>0</td>\n",
       "      <td>0</td>\n",
       "      <td>0</td>\n",
       "      <td>0</td>\n",
       "      <td>0.0</td>\n",
       "      <td>North East</td>\n",
       "      <td>NaN</td>\n",
       "    </tr>\n",
       "    <tr>\n",
       "      <th>2020-07-06</th>\n",
       "      <td>E02002566</td>\n",
       "      <td>1</td>\n",
       "      <td>3</td>\n",
       "      <td>1227</td>\n",
       "      <td>5687</td>\n",
       "      <td>0</td>\n",
       "      <td>0</td>\n",
       "      <td>0</td>\n",
       "      <td>0</td>\n",
       "      <td>0</td>\n",
       "      <td>0</td>\n",
       "      <td>0</td>\n",
       "      <td>0</td>\n",
       "      <td>0.0</td>\n",
       "      <td>North East</td>\n",
       "      <td>NaN</td>\n",
       "    </tr>\n",
       "  </tbody>\n",
       "</table>\n",
       "<p>256 rows × 16 columns</p>\n",
       "</div>"
      ],
      "text/plain": [
       "           super_area  current_infected  current_dead  current_recovered  \\\n",
       "time_stamp                                                                 \n",
       "2020-03-01  E02001731                32             0                  0   \n",
       "2020-03-02  E02001731                32             0                  0   \n",
       "2020-03-03  E02001731                36             0                  0   \n",
       "2020-03-04  E02001731                45             0                  0   \n",
       "2020-03-05  E02001731                61             0                  0   \n",
       "...               ...               ...           ...                ...   \n",
       "2020-07-02  E02002566                 1             3               1227   \n",
       "2020-07-03  E02002566                 1             3               1227   \n",
       "2020-07-04  E02002566                 1             3               1227   \n",
       "2020-07-05  E02002566                 1             3               1227   \n",
       "2020-07-06  E02002566                 1             3               1227   \n",
       "\n",
       "            current_susceptible  current_hospitalised  current_intensive_care  \\\n",
       "time_stamp                                                                      \n",
       "2020-03-01                12249                     0                       0   \n",
       "2020-03-02                12249                     0                       0   \n",
       "2020-03-03                12245                     0                       0   \n",
       "2020-03-04                12235                     0                       0   \n",
       "2020-03-05                12220                     0                       0   \n",
       "...                         ...                   ...                     ...   \n",
       "2020-07-02                 5687                     0                       0   \n",
       "2020-07-03                 5687                     0                       0   \n",
       "2020-07-04                 5687                     0                       0   \n",
       "2020-07-05                 5687                     0                       0   \n",
       "2020-07-06                 5687                     0                       0   \n",
       "\n",
       "            daily_recovered  daily_deaths_home  daily_deaths_hospital  \\\n",
       "time_stamp                                                              \n",
       "2020-03-01                0                  0                      0   \n",
       "2020-03-02                0                  0                      0   \n",
       "2020-03-03                0                  0                      0   \n",
       "2020-03-04                0                  0                      0   \n",
       "2020-03-05                0                  0                      0   \n",
       "...                     ...                ...                    ...   \n",
       "2020-07-02                0                  0                      0   \n",
       "2020-07-03                0                  0                      0   \n",
       "2020-07-04                0                  0                      0   \n",
       "2020-07-05                0                  0                      0   \n",
       "2020-07-06                0                  0                      0   \n",
       "\n",
       "            daily_deaths_icu  daily_deaths  daily_infections  \\\n",
       "time_stamp                                                     \n",
       "2020-03-01                 0             0                32   \n",
       "2020-03-02                 0             0                 0   \n",
       "2020-03-03                 0             0                 5   \n",
       "2020-03-04                 0             0                15   \n",
       "2020-03-05                 0             0                13   \n",
       "...                      ...           ...               ...   \n",
       "2020-07-02                 0             0                 0   \n",
       "2020-07-03                 0             0                 0   \n",
       "2020-07-04                 0             0                 0   \n",
       "2020-07-05                 0             0                 0   \n",
       "2020-07-06                 0             0                 0   \n",
       "\n",
       "            daily_hospital_admissions      region  \\\n",
       "time_stamp                                          \n",
       "2020-03-01                        0.0  North East   \n",
       "2020-03-02                        0.0  North East   \n",
       "2020-03-03                        0.0  North East   \n",
       "2020-03-04                        0.0  North East   \n",
       "2020-03-05                        0.0  North East   \n",
       "...                               ...         ...   \n",
       "2020-07-02                        0.0  North East   \n",
       "2020-07-03                        0.0  North East   \n",
       "2020-07-04                        0.0  North East   \n",
       "2020-07-05                        0.0  North East   \n",
       "2020-07-06                        0.0  North East   \n",
       "\n",
       "                                                  location_id  \n",
       "time_stamp                                                     \n",
       "2020-03-01                                                NaN  \n",
       "2020-03-02                                                NaN  \n",
       "2020-03-03  [school_1, school_6, school_6, school_6, compa...  \n",
       "2020-03-04  [school_6, school_6, school_6, school_6, schoo...  \n",
       "2020-03-05  [city_transport_27, school_6, school_6, school...  \n",
       "...                                                       ...  \n",
       "2020-07-02                                                NaN  \n",
       "2020-07-03                                                NaN  \n",
       "2020-07-04                                                NaN  \n",
       "2020-07-05                                                NaN  \n",
       "2020-07-06                                                NaN  \n",
       "\n",
       "[256 rows x 16 columns]"
      ]
     },
     "execution_count": 52,
     "metadata": {},
     "output_type": "execute_result"
    }
   ],
   "source": [
    "run_summary"
   ]
  },
  {
   "cell_type": "code",
   "execution_count": 53,
   "metadata": {},
   "outputs": [],
   "source": [
    "regional_run_summary = run_summary.groupby(['region', run_summary.index]).sum()"
   ]
  },
  {
   "cell_type": "code",
   "execution_count": 54,
   "metadata": {},
   "outputs": [
    {
     "data": {
      "text/plain": [
       "<matplotlib.legend.Legend at 0x7f00a71cffa0>"
      ]
     },
     "execution_count": 54,
     "metadata": {},
     "output_type": "execute_result"
    },
    {
     "data": {
      "image/png": "[encoded data removed]",
      "text/plain": [
       "<Figure size 576x432 with 1 Axes>"
      ]
     },
     "metadata": {
      "needs_background": "light"
     },
     "output_type": "display_data"
    }
   ],
   "source": [
    "regional_run_summary.loc['North East']['daily_infections'].plot(label='North East')\n",
    "world_df['daily_infections'].resample('D').sum().plot(linestyle='dashed', label='world')\n",
    "plt.legend()"
   ]
  },
  {
   "cell_type": "markdown",
   "metadata": {},
   "source": [
    "## World infection curves per age group"
   ]
  },
  {
   "cell_type": "code",
   "execution_count": 41,
   "metadata": {},
   "outputs": [
    {
     "name": "stderr",
     "output_type": "stream",
     "text": [
      "[autoreload of june.logger.read_logger failed: Traceback (most recent call last):\n",
      "  File \"/cosma/local/pythonconda3/2020-02/lib/python3.7/site-packages/IPython/extensions/autoreload.py\", line 245, in check\n",
      "    superreload(m, reload, self.old_objects)\n",
      "  File \"/cosma/local/pythonconda3/2020-02/lib/python3.7/site-packages/IPython/extensions/autoreload.py\", line 394, in superreload\n",
      "    module = reload(module)\n",
      "  File \"/cosma/local/pythonconda3/2020-02/lib/python3.7/imp.py\", line 314, in reload\n",
      "    return importlib.reload(module)\n",
      "  File \"/cosma/local/pythonconda3/2020-02/lib/python3.7/importlib/__init__.py\", line 169, in reload\n",
      "    _bootstrap._exec(spec, module)\n",
      "  File \"<frozen importlib._bootstrap>\", line 630, in _exec\n",
      "  File \"<frozen importlib._bootstrap_external>\", line 724, in exec_module\n",
      "  File \"<frozen importlib._bootstrap_external>\", line 860, in get_code\n",
      "  File \"<frozen importlib._bootstrap_external>\", line 791, in source_to_code\n",
      "  File \"<frozen importlib._bootstrap>\", line 219, in _call_with_frames_removed\n",
      "  File \"/cosma6/data/dp004/dc-cues1/JUNE/june/logger/read_logger.py\", line 681\n",
      "    return pd.concat(regions_df)i\n",
      "                                ^\n",
      "SyntaxError: invalid syntax\n",
      "]\n"
     ]
    },
    {
     "name": "stdout",
     "output_type": "stream",
     "text": [
      "CPU times: user 544 ms, sys: 13.8 ms, total: 557 ms\n",
      "Wall time: 556 ms\n"
     ]
    }
   ],
   "source": [
    "%%time\n",
    "ages_df = read.age_summary([0,10,20,30,40,\n",
    "                  50,60,70,80,90,100])"
   ]
  },
  {
   "cell_type": "code",
   "execution_count": 43,
   "metadata": {},
   "outputs": [
    {
     "data": {
      "text/plain": [
       "<matplotlib.legend.Legend at 0x2abbc34d03d0>"
      ]
     },
     "execution_count": 43,
     "metadata": {},
     "output_type": "execute_result"
    },
    {
     "data": {
      "image/png": "[encoded data removed]",
      "text/plain": [
       "<Figure size 576x432 with 1 Axes>"
      ]
     },
     "metadata": {
      "needs_background": "light"
     },
     "output_type": "display_data"
    }
   ],
   "source": [
    "for name, group in ages_df.groupby('age_range'):\n",
    "    group['current_infected'].plot(label=name)\n",
    "colors = [\"yellow\", \"orange\",\"blue\"]\n",
    "\n",
    "plt.legend(bbox_to_anchor=(1,1))\n"
   ]
  },
  {
   "cell_type": "code",
   "execution_count": 46,
   "metadata": {},
   "outputs": [
    {
     "data": {
      "text/plain": [
       "array([], dtype='<U13')"
      ]
     },
     "execution_count": 46,
     "metadata": {},
     "output_type": "execute_result"
    }
   ],
   "source": [
    "read.super_areas"
   ]
  },
  {
   "cell_type": "code",
   "execution_count": 66,
   "metadata": {},
   "outputs": [
    {
     "name": "stdout",
     "output_type": "stream",
     "text": [
      "['North East' 'North East' 'North East' ... 'North East' 'North East'\n",
      " 'North East']\n"
     ]
    }
   ],
   "source": [
    "regions = read.region_summary()"
   ]
  },
  {
   "cell_type": "code",
   "execution_count": 67,
   "metadata": {},
   "outputs": [
    {
     "data": {
      "text/html": [
       "<div>\n",
       "<style scoped>\n",
       "    .dataframe tbody tr th:only-of-type {\n",
       "        vertical-align: middle;\n",
       "    }\n",
       "\n",
       "    .dataframe tbody tr th {\n",
       "        vertical-align: top;\n",
       "    }\n",
       "\n",
       "    .dataframe thead th {\n",
       "        text-align: right;\n",
       "    }\n",
       "</style>\n",
       "<table border=\"1\" class=\"dataframe\">\n",
       "  <thead>\n",
       "    <tr style=\"text-align: right;\">\n",
       "      <th></th>\n",
       "      <th>daily_recovered</th>\n",
       "      <th>daily_deaths_home</th>\n",
       "      <th>daily_deaths_hospital</th>\n",
       "      <th>daily_deaths_icu</th>\n",
       "      <th>daily_deaths</th>\n",
       "      <th>current_infected</th>\n",
       "      <th>current_dead</th>\n",
       "      <th>current_recovered</th>\n",
       "      <th>current_susceptible</th>\n",
       "      <th>current_hospitalised</th>\n",
       "      <th>current_intensive_care</th>\n",
       "      <th>daily_infections</th>\n",
       "      <th>daily_hospital_admissions</th>\n",
       "      <th>region</th>\n",
       "    </tr>\n",
       "    <tr>\n",
       "      <th>time_stamp</th>\n",
       "      <th></th>\n",
       "      <th></th>\n",
       "      <th></th>\n",
       "      <th></th>\n",
       "      <th></th>\n",
       "      <th></th>\n",
       "      <th></th>\n",
       "      <th></th>\n",
       "      <th></th>\n",
       "      <th></th>\n",
       "      <th></th>\n",
       "      <th></th>\n",
       "      <th></th>\n",
       "      <th></th>\n",
       "    </tr>\n",
       "  </thead>\n",
       "  <tbody>\n",
       "    <tr>\n",
       "      <th>2020-03-01 00:00:00</th>\n",
       "      <td>0</td>\n",
       "      <td>0</td>\n",
       "      <td>0</td>\n",
       "      <td>0</td>\n",
       "      <td>0</td>\n",
       "      <td>82</td>\n",
       "      <td>0</td>\n",
       "      <td>0</td>\n",
       "      <td>19117</td>\n",
       "      <td>0</td>\n",
       "      <td>0</td>\n",
       "      <td>82</td>\n",
       "      <td>0.0</td>\n",
       "      <td>North East</td>\n",
       "    </tr>\n",
       "    <tr>\n",
       "      <th>2020-03-01 04:00:00</th>\n",
       "      <td>0</td>\n",
       "      <td>0</td>\n",
       "      <td>0</td>\n",
       "      <td>0</td>\n",
       "      <td>0</td>\n",
       "      <td>82</td>\n",
       "      <td>0</td>\n",
       "      <td>0</td>\n",
       "      <td>19117</td>\n",
       "      <td>0</td>\n",
       "      <td>0</td>\n",
       "      <td>0</td>\n",
       "      <td>0.0</td>\n",
       "      <td>North East</td>\n",
       "    </tr>\n",
       "    <tr>\n",
       "      <th>2020-03-01 08:00:00</th>\n",
       "      <td>0</td>\n",
       "      <td>0</td>\n",
       "      <td>0</td>\n",
       "      <td>0</td>\n",
       "      <td>0</td>\n",
       "      <td>82</td>\n",
       "      <td>0</td>\n",
       "      <td>0</td>\n",
       "      <td>19117</td>\n",
       "      <td>0</td>\n",
       "      <td>0</td>\n",
       "      <td>0</td>\n",
       "      <td>0.0</td>\n",
       "      <td>North East</td>\n",
       "    </tr>\n",
       "    <tr>\n",
       "      <th>2020-03-01 12:00:00</th>\n",
       "      <td>0</td>\n",
       "      <td>0</td>\n",
       "      <td>0</td>\n",
       "      <td>0</td>\n",
       "      <td>0</td>\n",
       "      <td>83</td>\n",
       "      <td>0</td>\n",
       "      <td>0</td>\n",
       "      <td>19116</td>\n",
       "      <td>0</td>\n",
       "      <td>0</td>\n",
       "      <td>1</td>\n",
       "      <td>0.0</td>\n",
       "      <td>North East</td>\n",
       "    </tr>\n",
       "    <tr>\n",
       "      <th>2020-03-02 00:00:00</th>\n",
       "      <td>0</td>\n",
       "      <td>0</td>\n",
       "      <td>0</td>\n",
       "      <td>0</td>\n",
       "      <td>0</td>\n",
       "      <td>83</td>\n",
       "      <td>0</td>\n",
       "      <td>0</td>\n",
       "      <td>19116</td>\n",
       "      <td>0</td>\n",
       "      <td>0</td>\n",
       "      <td>0</td>\n",
       "      <td>0.0</td>\n",
       "      <td>North East</td>\n",
       "    </tr>\n",
       "    <tr>\n",
       "      <th>2020-03-02 01:00:00</th>\n",
       "      <td>0</td>\n",
       "      <td>0</td>\n",
       "      <td>0</td>\n",
       "      <td>0</td>\n",
       "      <td>0</td>\n",
       "      <td>89</td>\n",
       "      <td>0</td>\n",
       "      <td>0</td>\n",
       "      <td>19110</td>\n",
       "      <td>0</td>\n",
       "      <td>0</td>\n",
       "      <td>6</td>\n",
       "      <td>0.0</td>\n",
       "      <td>North East</td>\n",
       "    </tr>\n",
       "    <tr>\n",
       "      <th>2020-03-02 09:00:00</th>\n",
       "      <td>0</td>\n",
       "      <td>0</td>\n",
       "      <td>0</td>\n",
       "      <td>0</td>\n",
       "      <td>0</td>\n",
       "      <td>89</td>\n",
       "      <td>0</td>\n",
       "      <td>0</td>\n",
       "      <td>19110</td>\n",
       "      <td>0</td>\n",
       "      <td>0</td>\n",
       "      <td>0</td>\n",
       "      <td>0.0</td>\n",
       "      <td>North East</td>\n",
       "    </tr>\n",
       "    <tr>\n",
       "      <th>2020-03-02 10:00:00</th>\n",
       "      <td>0</td>\n",
       "      <td>0</td>\n",
       "      <td>0</td>\n",
       "      <td>0</td>\n",
       "      <td>0</td>\n",
       "      <td>89</td>\n",
       "      <td>0</td>\n",
       "      <td>0</td>\n",
       "      <td>19110</td>\n",
       "      <td>0</td>\n",
       "      <td>0</td>\n",
       "      <td>0</td>\n",
       "      <td>0.0</td>\n",
       "      <td>North East</td>\n",
       "    </tr>\n",
       "    <tr>\n",
       "      <th>2020-03-02 13:00:00</th>\n",
       "      <td>0</td>\n",
       "      <td>0</td>\n",
       "      <td>0</td>\n",
       "      <td>0</td>\n",
       "      <td>0</td>\n",
       "      <td>89</td>\n",
       "      <td>0</td>\n",
       "      <td>0</td>\n",
       "      <td>19110</td>\n",
       "      <td>0</td>\n",
       "      <td>0</td>\n",
       "      <td>0</td>\n",
       "      <td>0.0</td>\n",
       "      <td>North East</td>\n",
       "    </tr>\n",
       "    <tr>\n",
       "      <th>2020-03-03 00:00:00</th>\n",
       "      <td>0</td>\n",
       "      <td>0</td>\n",
       "      <td>0</td>\n",
       "      <td>0</td>\n",
       "      <td>0</td>\n",
       "      <td>89</td>\n",
       "      <td>0</td>\n",
       "      <td>0</td>\n",
       "      <td>19110</td>\n",
       "      <td>0</td>\n",
       "      <td>0</td>\n",
       "      <td>0</td>\n",
       "      <td>0.0</td>\n",
       "      <td>North East</td>\n",
       "    </tr>\n",
       "    <tr>\n",
       "      <th>2020-03-03 01:00:00</th>\n",
       "      <td>0</td>\n",
       "      <td>0</td>\n",
       "      <td>0</td>\n",
       "      <td>0</td>\n",
       "      <td>0</td>\n",
       "      <td>91</td>\n",
       "      <td>0</td>\n",
       "      <td>0</td>\n",
       "      <td>19108</td>\n",
       "      <td>0</td>\n",
       "      <td>0</td>\n",
       "      <td>2</td>\n",
       "      <td>0.0</td>\n",
       "      <td>North East</td>\n",
       "    </tr>\n",
       "    <tr>\n",
       "      <th>2020-03-03 09:00:00</th>\n",
       "      <td>0</td>\n",
       "      <td>0</td>\n",
       "      <td>0</td>\n",
       "      <td>0</td>\n",
       "      <td>0</td>\n",
       "      <td>91</td>\n",
       "      <td>0</td>\n",
       "      <td>0</td>\n",
       "      <td>19108</td>\n",
       "      <td>0</td>\n",
       "      <td>0</td>\n",
       "      <td>0</td>\n",
       "      <td>0.0</td>\n",
       "      <td>North East</td>\n",
       "    </tr>\n",
       "    <tr>\n",
       "      <th>2020-03-03 10:00:00</th>\n",
       "      <td>0</td>\n",
       "      <td>0</td>\n",
       "      <td>0</td>\n",
       "      <td>0</td>\n",
       "      <td>0</td>\n",
       "      <td>91</td>\n",
       "      <td>0</td>\n",
       "      <td>0</td>\n",
       "      <td>19108</td>\n",
       "      <td>0</td>\n",
       "      <td>0</td>\n",
       "      <td>0</td>\n",
       "      <td>0.0</td>\n",
       "      <td>North East</td>\n",
       "    </tr>\n",
       "    <tr>\n",
       "      <th>2020-03-03 13:00:00</th>\n",
       "      <td>0</td>\n",
       "      <td>0</td>\n",
       "      <td>0</td>\n",
       "      <td>0</td>\n",
       "      <td>0</td>\n",
       "      <td>92</td>\n",
       "      <td>0</td>\n",
       "      <td>0</td>\n",
       "      <td>19107</td>\n",
       "      <td>0</td>\n",
       "      <td>0</td>\n",
       "      <td>1</td>\n",
       "      <td>0.0</td>\n",
       "      <td>North East</td>\n",
       "    </tr>\n",
       "    <tr>\n",
       "      <th>2020-03-04 00:00:00</th>\n",
       "      <td>0</td>\n",
       "      <td>0</td>\n",
       "      <td>0</td>\n",
       "      <td>0</td>\n",
       "      <td>0</td>\n",
       "      <td>93</td>\n",
       "      <td>0</td>\n",
       "      <td>0</td>\n",
       "      <td>19106</td>\n",
       "      <td>0</td>\n",
       "      <td>0</td>\n",
       "      <td>1</td>\n",
       "      <td>0.0</td>\n",
       "      <td>North East</td>\n",
       "    </tr>\n",
       "    <tr>\n",
       "      <th>2020-03-04 01:00:00</th>\n",
       "      <td>0</td>\n",
       "      <td>0</td>\n",
       "      <td>0</td>\n",
       "      <td>0</td>\n",
       "      <td>0</td>\n",
       "      <td>95</td>\n",
       "      <td>0</td>\n",
       "      <td>0</td>\n",
       "      <td>19104</td>\n",
       "      <td>0</td>\n",
       "      <td>0</td>\n",
       "      <td>2</td>\n",
       "      <td>0.0</td>\n",
       "      <td>North East</td>\n",
       "    </tr>\n",
       "    <tr>\n",
       "      <th>2020-03-04 09:00:00</th>\n",
       "      <td>0</td>\n",
       "      <td>0</td>\n",
       "      <td>0</td>\n",
       "      <td>0</td>\n",
       "      <td>0</td>\n",
       "      <td>95</td>\n",
       "      <td>0</td>\n",
       "      <td>0</td>\n",
       "      <td>19104</td>\n",
       "      <td>0</td>\n",
       "      <td>0</td>\n",
       "      <td>0</td>\n",
       "      <td>0.0</td>\n",
       "      <td>North East</td>\n",
       "    </tr>\n",
       "    <tr>\n",
       "      <th>2020-03-04 10:00:00</th>\n",
       "      <td>0</td>\n",
       "      <td>0</td>\n",
       "      <td>0</td>\n",
       "      <td>0</td>\n",
       "      <td>0</td>\n",
       "      <td>95</td>\n",
       "      <td>0</td>\n",
       "      <td>0</td>\n",
       "      <td>19104</td>\n",
       "      <td>0</td>\n",
       "      <td>0</td>\n",
       "      <td>0</td>\n",
       "      <td>0.0</td>\n",
       "      <td>North East</td>\n",
       "    </tr>\n",
       "    <tr>\n",
       "      <th>2020-03-04 13:00:00</th>\n",
       "      <td>0</td>\n",
       "      <td>0</td>\n",
       "      <td>0</td>\n",
       "      <td>0</td>\n",
       "      <td>0</td>\n",
       "      <td>98</td>\n",
       "      <td>0</td>\n",
       "      <td>0</td>\n",
       "      <td>19101</td>\n",
       "      <td>0</td>\n",
       "      <td>0</td>\n",
       "      <td>3</td>\n",
       "      <td>0.0</td>\n",
       "      <td>North East</td>\n",
       "    </tr>\n",
       "    <tr>\n",
       "      <th>2020-03-05 00:00:00</th>\n",
       "      <td>0</td>\n",
       "      <td>0</td>\n",
       "      <td>0</td>\n",
       "      <td>0</td>\n",
       "      <td>0</td>\n",
       "      <td>98</td>\n",
       "      <td>0</td>\n",
       "      <td>0</td>\n",
       "      <td>19101</td>\n",
       "      <td>0</td>\n",
       "      <td>0</td>\n",
       "      <td>0</td>\n",
       "      <td>0.0</td>\n",
       "      <td>North East</td>\n",
       "    </tr>\n",
       "    <tr>\n",
       "      <th>2020-03-05 01:00:00</th>\n",
       "      <td>0</td>\n",
       "      <td>0</td>\n",
       "      <td>0</td>\n",
       "      <td>0</td>\n",
       "      <td>0</td>\n",
       "      <td>105</td>\n",
       "      <td>0</td>\n",
       "      <td>0</td>\n",
       "      <td>19094</td>\n",
       "      <td>0</td>\n",
       "      <td>0</td>\n",
       "      <td>7</td>\n",
       "      <td>0.0</td>\n",
       "      <td>North East</td>\n",
       "    </tr>\n",
       "    <tr>\n",
       "      <th>2020-03-05 09:00:00</th>\n",
       "      <td>0</td>\n",
       "      <td>0</td>\n",
       "      <td>0</td>\n",
       "      <td>0</td>\n",
       "      <td>0</td>\n",
       "      <td>105</td>\n",
       "      <td>0</td>\n",
       "      <td>0</td>\n",
       "      <td>19094</td>\n",
       "      <td>0</td>\n",
       "      <td>0</td>\n",
       "      <td>0</td>\n",
       "      <td>0.0</td>\n",
       "      <td>North East</td>\n",
       "    </tr>\n",
       "    <tr>\n",
       "      <th>2020-03-05 10:00:00</th>\n",
       "      <td>0</td>\n",
       "      <td>0</td>\n",
       "      <td>0</td>\n",
       "      <td>0</td>\n",
       "      <td>0</td>\n",
       "      <td>105</td>\n",
       "      <td>0</td>\n",
       "      <td>0</td>\n",
       "      <td>19094</td>\n",
       "      <td>0</td>\n",
       "      <td>0</td>\n",
       "      <td>0</td>\n",
       "      <td>0.0</td>\n",
       "      <td>North East</td>\n",
       "    </tr>\n",
       "    <tr>\n",
       "      <th>2020-03-05 13:00:00</th>\n",
       "      <td>0</td>\n",
       "      <td>0</td>\n",
       "      <td>0</td>\n",
       "      <td>0</td>\n",
       "      <td>0</td>\n",
       "      <td>108</td>\n",
       "      <td>0</td>\n",
       "      <td>0</td>\n",
       "      <td>19091</td>\n",
       "      <td>0</td>\n",
       "      <td>0</td>\n",
       "      <td>3</td>\n",
       "      <td>0.0</td>\n",
       "      <td>North East</td>\n",
       "    </tr>\n",
       "    <tr>\n",
       "      <th>2020-03-06 00:00:00</th>\n",
       "      <td>0</td>\n",
       "      <td>0</td>\n",
       "      <td>0</td>\n",
       "      <td>0</td>\n",
       "      <td>0</td>\n",
       "      <td>108</td>\n",
       "      <td>0</td>\n",
       "      <td>0</td>\n",
       "      <td>19091</td>\n",
       "      <td>0</td>\n",
       "      <td>0</td>\n",
       "      <td>0</td>\n",
       "      <td>0.0</td>\n",
       "      <td>North East</td>\n",
       "    </tr>\n",
       "    <tr>\n",
       "      <th>2020-03-06 01:00:00</th>\n",
       "      <td>0</td>\n",
       "      <td>0</td>\n",
       "      <td>0</td>\n",
       "      <td>0</td>\n",
       "      <td>0</td>\n",
       "      <td>112</td>\n",
       "      <td>0</td>\n",
       "      <td>0</td>\n",
       "      <td>19087</td>\n",
       "      <td>0</td>\n",
       "      <td>0</td>\n",
       "      <td>4</td>\n",
       "      <td>0.0</td>\n",
       "      <td>North East</td>\n",
       "    </tr>\n",
       "    <tr>\n",
       "      <th>2020-03-06 09:00:00</th>\n",
       "      <td>0</td>\n",
       "      <td>0</td>\n",
       "      <td>0</td>\n",
       "      <td>0</td>\n",
       "      <td>0</td>\n",
       "      <td>112</td>\n",
       "      <td>0</td>\n",
       "      <td>0</td>\n",
       "      <td>19087</td>\n",
       "      <td>0</td>\n",
       "      <td>0</td>\n",
       "      <td>0</td>\n",
       "      <td>0.0</td>\n",
       "      <td>North East</td>\n",
       "    </tr>\n",
       "    <tr>\n",
       "      <th>2020-03-06 10:00:00</th>\n",
       "      <td>0</td>\n",
       "      <td>0</td>\n",
       "      <td>0</td>\n",
       "      <td>0</td>\n",
       "      <td>0</td>\n",
       "      <td>113</td>\n",
       "      <td>0</td>\n",
       "      <td>0</td>\n",
       "      <td>19086</td>\n",
       "      <td>0</td>\n",
       "      <td>0</td>\n",
       "      <td>1</td>\n",
       "      <td>0.0</td>\n",
       "      <td>North East</td>\n",
       "    </tr>\n",
       "    <tr>\n",
       "      <th>2020-03-06 13:00:00</th>\n",
       "      <td>0</td>\n",
       "      <td>0</td>\n",
       "      <td>0</td>\n",
       "      <td>0</td>\n",
       "      <td>0</td>\n",
       "      <td>113</td>\n",
       "      <td>0</td>\n",
       "      <td>0</td>\n",
       "      <td>19086</td>\n",
       "      <td>0</td>\n",
       "      <td>0</td>\n",
       "      <td>0</td>\n",
       "      <td>0.0</td>\n",
       "      <td>North East</td>\n",
       "    </tr>\n",
       "    <tr>\n",
       "      <th>2020-03-07 00:00:00</th>\n",
       "      <td>0</td>\n",
       "      <td>0</td>\n",
       "      <td>0</td>\n",
       "      <td>0</td>\n",
       "      <td>0</td>\n",
       "      <td>113</td>\n",
       "      <td>0</td>\n",
       "      <td>0</td>\n",
       "      <td>19086</td>\n",
       "      <td>0</td>\n",
       "      <td>0</td>\n",
       "      <td>0</td>\n",
       "      <td>0.0</td>\n",
       "      <td>North East</td>\n",
       "    </tr>\n",
       "    <tr>\n",
       "      <th>2020-03-07 04:00:00</th>\n",
       "      <td>0</td>\n",
       "      <td>0</td>\n",
       "      <td>0</td>\n",
       "      <td>0</td>\n",
       "      <td>0</td>\n",
       "      <td>114</td>\n",
       "      <td>0</td>\n",
       "      <td>0</td>\n",
       "      <td>19085</td>\n",
       "      <td>0</td>\n",
       "      <td>0</td>\n",
       "      <td>1</td>\n",
       "      <td>0.0</td>\n",
       "      <td>North East</td>\n",
       "    </tr>\n",
       "    <tr>\n",
       "      <th>2020-03-07 08:00:00</th>\n",
       "      <td>0</td>\n",
       "      <td>0</td>\n",
       "      <td>0</td>\n",
       "      <td>0</td>\n",
       "      <td>0</td>\n",
       "      <td>114</td>\n",
       "      <td>0</td>\n",
       "      <td>0</td>\n",
       "      <td>19085</td>\n",
       "      <td>0</td>\n",
       "      <td>0</td>\n",
       "      <td>0</td>\n",
       "      <td>0.0</td>\n",
       "      <td>North East</td>\n",
       "    </tr>\n",
       "    <tr>\n",
       "      <th>2020-03-07 12:00:00</th>\n",
       "      <td>0</td>\n",
       "      <td>0</td>\n",
       "      <td>0</td>\n",
       "      <td>0</td>\n",
       "      <td>0</td>\n",
       "      <td>117</td>\n",
       "      <td>0</td>\n",
       "      <td>0</td>\n",
       "      <td>19082</td>\n",
       "      <td>0</td>\n",
       "      <td>0</td>\n",
       "      <td>3</td>\n",
       "      <td>0.0</td>\n",
       "      <td>North East</td>\n",
       "    </tr>\n",
       "    <tr>\n",
       "      <th>2020-03-08 00:00:00</th>\n",
       "      <td>0</td>\n",
       "      <td>0</td>\n",
       "      <td>0</td>\n",
       "      <td>0</td>\n",
       "      <td>0</td>\n",
       "      <td>117</td>\n",
       "      <td>0</td>\n",
       "      <td>0</td>\n",
       "      <td>19082</td>\n",
       "      <td>0</td>\n",
       "      <td>0</td>\n",
       "      <td>0</td>\n",
       "      <td>0.0</td>\n",
       "      <td>North East</td>\n",
       "    </tr>\n",
       "    <tr>\n",
       "      <th>2020-03-08 04:00:00</th>\n",
       "      <td>0</td>\n",
       "      <td>0</td>\n",
       "      <td>0</td>\n",
       "      <td>0</td>\n",
       "      <td>0</td>\n",
       "      <td>119</td>\n",
       "      <td>0</td>\n",
       "      <td>0</td>\n",
       "      <td>19080</td>\n",
       "      <td>0</td>\n",
       "      <td>0</td>\n",
       "      <td>2</td>\n",
       "      <td>0.0</td>\n",
       "      <td>North East</td>\n",
       "    </tr>\n",
       "    <tr>\n",
       "      <th>2020-03-08 08:00:00</th>\n",
       "      <td>0</td>\n",
       "      <td>0</td>\n",
       "      <td>0</td>\n",
       "      <td>0</td>\n",
       "      <td>0</td>\n",
       "      <td>119</td>\n",
       "      <td>0</td>\n",
       "      <td>0</td>\n",
       "      <td>19080</td>\n",
       "      <td>0</td>\n",
       "      <td>0</td>\n",
       "      <td>0</td>\n",
       "      <td>0.0</td>\n",
       "      <td>North East</td>\n",
       "    </tr>\n",
       "    <tr>\n",
       "      <th>2020-03-08 12:00:00</th>\n",
       "      <td>0</td>\n",
       "      <td>0</td>\n",
       "      <td>0</td>\n",
       "      <td>0</td>\n",
       "      <td>0</td>\n",
       "      <td>122</td>\n",
       "      <td>0</td>\n",
       "      <td>0</td>\n",
       "      <td>19077</td>\n",
       "      <td>0</td>\n",
       "      <td>0</td>\n",
       "      <td>3</td>\n",
       "      <td>0.0</td>\n",
       "      <td>North East</td>\n",
       "    </tr>\n",
       "    <tr>\n",
       "      <th>2020-03-09 00:00:00</th>\n",
       "      <td>0</td>\n",
       "      <td>0</td>\n",
       "      <td>0</td>\n",
       "      <td>0</td>\n",
       "      <td>0</td>\n",
       "      <td>122</td>\n",
       "      <td>0</td>\n",
       "      <td>0</td>\n",
       "      <td>19077</td>\n",
       "      <td>0</td>\n",
       "      <td>0</td>\n",
       "      <td>0</td>\n",
       "      <td>0.0</td>\n",
       "      <td>North East</td>\n",
       "    </tr>\n",
       "    <tr>\n",
       "      <th>2020-03-09 01:00:00</th>\n",
       "      <td>0</td>\n",
       "      <td>0</td>\n",
       "      <td>0</td>\n",
       "      <td>0</td>\n",
       "      <td>0</td>\n",
       "      <td>132</td>\n",
       "      <td>0</td>\n",
       "      <td>0</td>\n",
       "      <td>19067</td>\n",
       "      <td>0</td>\n",
       "      <td>0</td>\n",
       "      <td>10</td>\n",
       "      <td>0.0</td>\n",
       "      <td>North East</td>\n",
       "    </tr>\n",
       "    <tr>\n",
       "      <th>2020-03-09 09:00:00</th>\n",
       "      <td>0</td>\n",
       "      <td>0</td>\n",
       "      <td>0</td>\n",
       "      <td>0</td>\n",
       "      <td>0</td>\n",
       "      <td>132</td>\n",
       "      <td>0</td>\n",
       "      <td>0</td>\n",
       "      <td>19067</td>\n",
       "      <td>0</td>\n",
       "      <td>0</td>\n",
       "      <td>0</td>\n",
       "      <td>0.0</td>\n",
       "      <td>North East</td>\n",
       "    </tr>\n",
       "    <tr>\n",
       "      <th>2020-03-09 10:00:00</th>\n",
       "      <td>0</td>\n",
       "      <td>0</td>\n",
       "      <td>0</td>\n",
       "      <td>0</td>\n",
       "      <td>0</td>\n",
       "      <td>132</td>\n",
       "      <td>0</td>\n",
       "      <td>0</td>\n",
       "      <td>19067</td>\n",
       "      <td>0</td>\n",
       "      <td>0</td>\n",
       "      <td>0</td>\n",
       "      <td>0.0</td>\n",
       "      <td>North East</td>\n",
       "    </tr>\n",
       "    <tr>\n",
       "      <th>2020-03-09 13:00:00</th>\n",
       "      <td>0</td>\n",
       "      <td>0</td>\n",
       "      <td>0</td>\n",
       "      <td>0</td>\n",
       "      <td>0</td>\n",
       "      <td>135</td>\n",
       "      <td>0</td>\n",
       "      <td>0</td>\n",
       "      <td>19064</td>\n",
       "      <td>0</td>\n",
       "      <td>0</td>\n",
       "      <td>3</td>\n",
       "      <td>0.0</td>\n",
       "      <td>North East</td>\n",
       "    </tr>\n",
       "    <tr>\n",
       "      <th>2020-03-10 00:00:00</th>\n",
       "      <td>0</td>\n",
       "      <td>0</td>\n",
       "      <td>0</td>\n",
       "      <td>0</td>\n",
       "      <td>0</td>\n",
       "      <td>135</td>\n",
       "      <td>0</td>\n",
       "      <td>0</td>\n",
       "      <td>19064</td>\n",
       "      <td>0</td>\n",
       "      <td>0</td>\n",
       "      <td>0</td>\n",
       "      <td>0.0</td>\n",
       "      <td>North East</td>\n",
       "    </tr>\n",
       "    <tr>\n",
       "      <th>2020-03-10 01:00:00</th>\n",
       "      <td>0</td>\n",
       "      <td>0</td>\n",
       "      <td>0</td>\n",
       "      <td>0</td>\n",
       "      <td>0</td>\n",
       "      <td>140</td>\n",
       "      <td>0</td>\n",
       "      <td>0</td>\n",
       "      <td>19059</td>\n",
       "      <td>0</td>\n",
       "      <td>0</td>\n",
       "      <td>5</td>\n",
       "      <td>0.0</td>\n",
       "      <td>North East</td>\n",
       "    </tr>\n",
       "    <tr>\n",
       "      <th>2020-03-10 09:00:00</th>\n",
       "      <td>0</td>\n",
       "      <td>0</td>\n",
       "      <td>0</td>\n",
       "      <td>0</td>\n",
       "      <td>0</td>\n",
       "      <td>140</td>\n",
       "      <td>0</td>\n",
       "      <td>0</td>\n",
       "      <td>19059</td>\n",
       "      <td>0</td>\n",
       "      <td>0</td>\n",
       "      <td>0</td>\n",
       "      <td>0.0</td>\n",
       "      <td>North East</td>\n",
       "    </tr>\n",
       "    <tr>\n",
       "      <th>2020-03-10 10:00:00</th>\n",
       "      <td>0</td>\n",
       "      <td>0</td>\n",
       "      <td>0</td>\n",
       "      <td>0</td>\n",
       "      <td>0</td>\n",
       "      <td>140</td>\n",
       "      <td>0</td>\n",
       "      <td>0</td>\n",
       "      <td>19059</td>\n",
       "      <td>0</td>\n",
       "      <td>0</td>\n",
       "      <td>0</td>\n",
       "      <td>0.0</td>\n",
       "      <td>North East</td>\n",
       "    </tr>\n",
       "    <tr>\n",
       "      <th>2020-03-10 13:00:00</th>\n",
       "      <td>0</td>\n",
       "      <td>0</td>\n",
       "      <td>0</td>\n",
       "      <td>0</td>\n",
       "      <td>0</td>\n",
       "      <td>141</td>\n",
       "      <td>0</td>\n",
       "      <td>0</td>\n",
       "      <td>19058</td>\n",
       "      <td>0</td>\n",
       "      <td>0</td>\n",
       "      <td>1</td>\n",
       "      <td>0.0</td>\n",
       "      <td>North East</td>\n",
       "    </tr>\n",
       "  </tbody>\n",
       "</table>\n",
       "</div>"
      ],
      "text/plain": [
       "                     daily_recovered  daily_deaths_home  \\\n",
       "time_stamp                                                \n",
       "2020-03-01 00:00:00                0                  0   \n",
       "2020-03-01 04:00:00                0                  0   \n",
       "2020-03-01 08:00:00                0                  0   \n",
       "2020-03-01 12:00:00                0                  0   \n",
       "2020-03-02 00:00:00                0                  0   \n",
       "2020-03-02 01:00:00                0                  0   \n",
       "2020-03-02 09:00:00                0                  0   \n",
       "2020-03-02 10:00:00                0                  0   \n",
       "2020-03-02 13:00:00                0                  0   \n",
       "2020-03-03 00:00:00                0                  0   \n",
       "2020-03-03 01:00:00                0                  0   \n",
       "2020-03-03 09:00:00                0                  0   \n",
       "2020-03-03 10:00:00                0                  0   \n",
       "2020-03-03 13:00:00                0                  0   \n",
       "2020-03-04 00:00:00                0                  0   \n",
       "2020-03-04 01:00:00                0                  0   \n",
       "2020-03-04 09:00:00                0                  0   \n",
       "2020-03-04 10:00:00                0                  0   \n",
       "2020-03-04 13:00:00                0                  0   \n",
       "2020-03-05 00:00:00                0                  0   \n",
       "2020-03-05 01:00:00                0                  0   \n",
       "2020-03-05 09:00:00                0                  0   \n",
       "2020-03-05 10:00:00                0                  0   \n",
       "2020-03-05 13:00:00                0                  0   \n",
       "2020-03-06 00:00:00                0                  0   \n",
       "2020-03-06 01:00:00                0                  0   \n",
       "2020-03-06 09:00:00                0                  0   \n",
       "2020-03-06 10:00:00                0                  0   \n",
       "2020-03-06 13:00:00                0                  0   \n",
       "2020-03-07 00:00:00                0                  0   \n",
       "2020-03-07 04:00:00                0                  0   \n",
       "2020-03-07 08:00:00                0                  0   \n",
       "2020-03-07 12:00:00                0                  0   \n",
       "2020-03-08 00:00:00                0                  0   \n",
       "2020-03-08 04:00:00                0                  0   \n",
       "2020-03-08 08:00:00                0                  0   \n",
       "2020-03-08 12:00:00                0                  0   \n",
       "2020-03-09 00:00:00                0                  0   \n",
       "2020-03-09 01:00:00                0                  0   \n",
       "2020-03-09 09:00:00                0                  0   \n",
       "2020-03-09 10:00:00                0                  0   \n",
       "2020-03-09 13:00:00                0                  0   \n",
       "2020-03-10 00:00:00                0                  0   \n",
       "2020-03-10 01:00:00                0                  0   \n",
       "2020-03-10 09:00:00                0                  0   \n",
       "2020-03-10 10:00:00                0                  0   \n",
       "2020-03-10 13:00:00                0                  0   \n",
       "\n",
       "                     daily_deaths_hospital  daily_deaths_icu  daily_deaths  \\\n",
       "time_stamp                                                                   \n",
       "2020-03-01 00:00:00                      0                 0             0   \n",
       "2020-03-01 04:00:00                      0                 0             0   \n",
       "2020-03-01 08:00:00                      0                 0             0   \n",
       "2020-03-01 12:00:00                      0                 0             0   \n",
       "2020-03-02 00:00:00                      0                 0             0   \n",
       "2020-03-02 01:00:00                      0                 0             0   \n",
       "2020-03-02 09:00:00                      0                 0             0   \n",
       "2020-03-02 10:00:00                      0                 0             0   \n",
       "2020-03-02 13:00:00                      0                 0             0   \n",
       "2020-03-03 00:00:00                      0                 0             0   \n",
       "2020-03-03 01:00:00                      0                 0             0   \n",
       "2020-03-03 09:00:00                      0                 0             0   \n",
       "2020-03-03 10:00:00                      0                 0             0   \n",
       "2020-03-03 13:00:00                      0                 0             0   \n",
       "2020-03-04 00:00:00                      0                 0             0   \n",
       "2020-03-04 01:00:00                      0                 0             0   \n",
       "2020-03-04 09:00:00                      0                 0             0   \n",
       "2020-03-04 10:00:00                      0                 0             0   \n",
       "2020-03-04 13:00:00                      0                 0             0   \n",
       "2020-03-05 00:00:00                      0                 0             0   \n",
       "2020-03-05 01:00:00                      0                 0             0   \n",
       "2020-03-05 09:00:00                      0                 0             0   \n",
       "2020-03-05 10:00:00                      0                 0             0   \n",
       "2020-03-05 13:00:00                      0                 0             0   \n",
       "2020-03-06 00:00:00                      0                 0             0   \n",
       "2020-03-06 01:00:00                      0                 0             0   \n",
       "2020-03-06 09:00:00                      0                 0             0   \n",
       "2020-03-06 10:00:00                      0                 0             0   \n",
       "2020-03-06 13:00:00                      0                 0             0   \n",
       "2020-03-07 00:00:00                      0                 0             0   \n",
       "2020-03-07 04:00:00                      0                 0             0   \n",
       "2020-03-07 08:00:00                      0                 0             0   \n",
       "2020-03-07 12:00:00                      0                 0             0   \n",
       "2020-03-08 00:00:00                      0                 0             0   \n",
       "2020-03-08 04:00:00                      0                 0             0   \n",
       "2020-03-08 08:00:00                      0                 0             0   \n",
       "2020-03-08 12:00:00                      0                 0             0   \n",
       "2020-03-09 00:00:00                      0                 0             0   \n",
       "2020-03-09 01:00:00                      0                 0             0   \n",
       "2020-03-09 09:00:00                      0                 0             0   \n",
       "2020-03-09 10:00:00                      0                 0             0   \n",
       "2020-03-09 13:00:00                      0                 0             0   \n",
       "2020-03-10 00:00:00                      0                 0             0   \n",
       "2020-03-10 01:00:00                      0                 0             0   \n",
       "2020-03-10 09:00:00                      0                 0             0   \n",
       "2020-03-10 10:00:00                      0                 0             0   \n",
       "2020-03-10 13:00:00                      0                 0             0   \n",
       "\n",
       "                     current_infected  current_dead  current_recovered  \\\n",
       "time_stamp                                                               \n",
       "2020-03-01 00:00:00                82             0                  0   \n",
       "2020-03-01 04:00:00                82             0                  0   \n",
       "2020-03-01 08:00:00                82             0                  0   \n",
       "2020-03-01 12:00:00                83             0                  0   \n",
       "2020-03-02 00:00:00                83             0                  0   \n",
       "2020-03-02 01:00:00                89             0                  0   \n",
       "2020-03-02 09:00:00                89             0                  0   \n",
       "2020-03-02 10:00:00                89             0                  0   \n",
       "2020-03-02 13:00:00                89             0                  0   \n",
       "2020-03-03 00:00:00                89             0                  0   \n",
       "2020-03-03 01:00:00                91             0                  0   \n",
       "2020-03-03 09:00:00                91             0                  0   \n",
       "2020-03-03 10:00:00                91             0                  0   \n",
       "2020-03-03 13:00:00                92             0                  0   \n",
       "2020-03-04 00:00:00                93             0                  0   \n",
       "2020-03-04 01:00:00                95             0                  0   \n",
       "2020-03-04 09:00:00                95             0                  0   \n",
       "2020-03-04 10:00:00                95             0                  0   \n",
       "2020-03-04 13:00:00                98             0                  0   \n",
       "2020-03-05 00:00:00                98             0                  0   \n",
       "2020-03-05 01:00:00               105             0                  0   \n",
       "2020-03-05 09:00:00               105             0                  0   \n",
       "2020-03-05 10:00:00               105             0                  0   \n",
       "2020-03-05 13:00:00               108             0                  0   \n",
       "2020-03-06 00:00:00               108             0                  0   \n",
       "2020-03-06 01:00:00               112             0                  0   \n",
       "2020-03-06 09:00:00               112             0                  0   \n",
       "2020-03-06 10:00:00               113             0                  0   \n",
       "2020-03-06 13:00:00               113             0                  0   \n",
       "2020-03-07 00:00:00               113             0                  0   \n",
       "2020-03-07 04:00:00               114             0                  0   \n",
       "2020-03-07 08:00:00               114             0                  0   \n",
       "2020-03-07 12:00:00               117             0                  0   \n",
       "2020-03-08 00:00:00               117             0                  0   \n",
       "2020-03-08 04:00:00               119             0                  0   \n",
       "2020-03-08 08:00:00               119             0                  0   \n",
       "2020-03-08 12:00:00               122             0                  0   \n",
       "2020-03-09 00:00:00               122             0                  0   \n",
       "2020-03-09 01:00:00               132             0                  0   \n",
       "2020-03-09 09:00:00               132             0                  0   \n",
       "2020-03-09 10:00:00               132             0                  0   \n",
       "2020-03-09 13:00:00               135             0                  0   \n",
       "2020-03-10 00:00:00               135             0                  0   \n",
       "2020-03-10 01:00:00               140             0                  0   \n",
       "2020-03-10 09:00:00               140             0                  0   \n",
       "2020-03-10 10:00:00               140             0                  0   \n",
       "2020-03-10 13:00:00               141             0                  0   \n",
       "\n",
       "                     current_susceptible  current_hospitalised  \\\n",
       "time_stamp                                                       \n",
       "2020-03-01 00:00:00                19117                     0   \n",
       "2020-03-01 04:00:00                19117                     0   \n",
       "2020-03-01 08:00:00                19117                     0   \n",
       "2020-03-01 12:00:00                19116                     0   \n",
       "2020-03-02 00:00:00                19116                     0   \n",
       "2020-03-02 01:00:00                19110                     0   \n",
       "2020-03-02 09:00:00                19110                     0   \n",
       "2020-03-02 10:00:00                19110                     0   \n",
       "2020-03-02 13:00:00                19110                     0   \n",
       "2020-03-03 00:00:00                19110                     0   \n",
       "2020-03-03 01:00:00                19108                     0   \n",
       "2020-03-03 09:00:00                19108                     0   \n",
       "2020-03-03 10:00:00                19108                     0   \n",
       "2020-03-03 13:00:00                19107                     0   \n",
       "2020-03-04 00:00:00                19106                     0   \n",
       "2020-03-04 01:00:00                19104                     0   \n",
       "2020-03-04 09:00:00                19104                     0   \n",
       "2020-03-04 10:00:00                19104                     0   \n",
       "2020-03-04 13:00:00                19101                     0   \n",
       "2020-03-05 00:00:00                19101                     0   \n",
       "2020-03-05 01:00:00                19094                     0   \n",
       "2020-03-05 09:00:00                19094                     0   \n",
       "2020-03-05 10:00:00                19094                     0   \n",
       "2020-03-05 13:00:00                19091                     0   \n",
       "2020-03-06 00:00:00                19091                     0   \n",
       "2020-03-06 01:00:00                19087                     0   \n",
       "2020-03-06 09:00:00                19087                     0   \n",
       "2020-03-06 10:00:00                19086                     0   \n",
       "2020-03-06 13:00:00                19086                     0   \n",
       "2020-03-07 00:00:00                19086                     0   \n",
       "2020-03-07 04:00:00                19085                     0   \n",
       "2020-03-07 08:00:00                19085                     0   \n",
       "2020-03-07 12:00:00                19082                     0   \n",
       "2020-03-08 00:00:00                19082                     0   \n",
       "2020-03-08 04:00:00                19080                     0   \n",
       "2020-03-08 08:00:00                19080                     0   \n",
       "2020-03-08 12:00:00                19077                     0   \n",
       "2020-03-09 00:00:00                19077                     0   \n",
       "2020-03-09 01:00:00                19067                     0   \n",
       "2020-03-09 09:00:00                19067                     0   \n",
       "2020-03-09 10:00:00                19067                     0   \n",
       "2020-03-09 13:00:00                19064                     0   \n",
       "2020-03-10 00:00:00                19064                     0   \n",
       "2020-03-10 01:00:00                19059                     0   \n",
       "2020-03-10 09:00:00                19059                     0   \n",
       "2020-03-10 10:00:00                19059                     0   \n",
       "2020-03-10 13:00:00                19058                     0   \n",
       "\n",
       "                     current_intensive_care  daily_infections  \\\n",
       "time_stamp                                                      \n",
       "2020-03-01 00:00:00                       0                82   \n",
       "2020-03-01 04:00:00                       0                 0   \n",
       "2020-03-01 08:00:00                       0                 0   \n",
       "2020-03-01 12:00:00                       0                 1   \n",
       "2020-03-02 00:00:00                       0                 0   \n",
       "2020-03-02 01:00:00                       0                 6   \n",
       "2020-03-02 09:00:00                       0                 0   \n",
       "2020-03-02 10:00:00                       0                 0   \n",
       "2020-03-02 13:00:00                       0                 0   \n",
       "2020-03-03 00:00:00                       0                 0   \n",
       "2020-03-03 01:00:00                       0                 2   \n",
       "2020-03-03 09:00:00                       0                 0   \n",
       "2020-03-03 10:00:00                       0                 0   \n",
       "2020-03-03 13:00:00                       0                 1   \n",
       "2020-03-04 00:00:00                       0                 1   \n",
       "2020-03-04 01:00:00                       0                 2   \n",
       "2020-03-04 09:00:00                       0                 0   \n",
       "2020-03-04 10:00:00                       0                 0   \n",
       "2020-03-04 13:00:00                       0                 3   \n",
       "2020-03-05 00:00:00                       0                 0   \n",
       "2020-03-05 01:00:00                       0                 7   \n",
       "2020-03-05 09:00:00                       0                 0   \n",
       "2020-03-05 10:00:00                       0                 0   \n",
       "2020-03-05 13:00:00                       0                 3   \n",
       "2020-03-06 00:00:00                       0                 0   \n",
       "2020-03-06 01:00:00                       0                 4   \n",
       "2020-03-06 09:00:00                       0                 0   \n",
       "2020-03-06 10:00:00                       0                 1   \n",
       "2020-03-06 13:00:00                       0                 0   \n",
       "2020-03-07 00:00:00                       0                 0   \n",
       "2020-03-07 04:00:00                       0                 1   \n",
       "2020-03-07 08:00:00                       0                 0   \n",
       "2020-03-07 12:00:00                       0                 3   \n",
       "2020-03-08 00:00:00                       0                 0   \n",
       "2020-03-08 04:00:00                       0                 2   \n",
       "2020-03-08 08:00:00                       0                 0   \n",
       "2020-03-08 12:00:00                       0                 3   \n",
       "2020-03-09 00:00:00                       0                 0   \n",
       "2020-03-09 01:00:00                       0                10   \n",
       "2020-03-09 09:00:00                       0                 0   \n",
       "2020-03-09 10:00:00                       0                 0   \n",
       "2020-03-09 13:00:00                       0                 3   \n",
       "2020-03-10 00:00:00                       0                 0   \n",
       "2020-03-10 01:00:00                       0                 5   \n",
       "2020-03-10 09:00:00                       0                 0   \n",
       "2020-03-10 10:00:00                       0                 0   \n",
       "2020-03-10 13:00:00                       0                 1   \n",
       "\n",
       "                     daily_hospital_admissions      region  \n",
       "time_stamp                                                  \n",
       "2020-03-01 00:00:00                        0.0  North East  \n",
       "2020-03-01 04:00:00                        0.0  North East  \n",
       "2020-03-01 08:00:00                        0.0  North East  \n",
       "2020-03-01 12:00:00                        0.0  North East  \n",
       "2020-03-02 00:00:00                        0.0  North East  \n",
       "2020-03-02 01:00:00                        0.0  North East  \n",
       "2020-03-02 09:00:00                        0.0  North East  \n",
       "2020-03-02 10:00:00                        0.0  North East  \n",
       "2020-03-02 13:00:00                        0.0  North East  \n",
       "2020-03-03 00:00:00                        0.0  North East  \n",
       "2020-03-03 01:00:00                        0.0  North East  \n",
       "2020-03-03 09:00:00                        0.0  North East  \n",
       "2020-03-03 10:00:00                        0.0  North East  \n",
       "2020-03-03 13:00:00                        0.0  North East  \n",
       "2020-03-04 00:00:00                        0.0  North East  \n",
       "2020-03-04 01:00:00                        0.0  North East  \n",
       "2020-03-04 09:00:00                        0.0  North East  \n",
       "2020-03-04 10:00:00                        0.0  North East  \n",
       "2020-03-04 13:00:00                        0.0  North East  \n",
       "2020-03-05 00:00:00                        0.0  North East  \n",
       "2020-03-05 01:00:00                        0.0  North East  \n",
       "2020-03-05 09:00:00                        0.0  North East  \n",
       "2020-03-05 10:00:00                        0.0  North East  \n",
       "2020-03-05 13:00:00                        0.0  North East  \n",
       "2020-03-06 00:00:00                        0.0  North East  \n",
       "2020-03-06 01:00:00                        0.0  North East  \n",
       "2020-03-06 09:00:00                        0.0  North East  \n",
       "2020-03-06 10:00:00                        0.0  North East  \n",
       "2020-03-06 13:00:00                        0.0  North East  \n",
       "2020-03-07 00:00:00                        0.0  North East  \n",
       "2020-03-07 04:00:00                        0.0  North East  \n",
       "2020-03-07 08:00:00                        0.0  North East  \n",
       "2020-03-07 12:00:00                        0.0  North East  \n",
       "2020-03-08 00:00:00                        0.0  North East  \n",
       "2020-03-08 04:00:00                        0.0  North East  \n",
       "2020-03-08 08:00:00                        0.0  North East  \n",
       "2020-03-08 12:00:00                        0.0  North East  \n",
       "2020-03-09 00:00:00                        0.0  North East  \n",
       "2020-03-09 01:00:00                        0.0  North East  \n",
       "2020-03-09 09:00:00                        0.0  North East  \n",
       "2020-03-09 10:00:00                        0.0  North East  \n",
       "2020-03-09 13:00:00                        0.0  North East  \n",
       "2020-03-10 00:00:00                        0.0  North East  \n",
       "2020-03-10 01:00:00                        0.0  North East  \n",
       "2020-03-10 09:00:00                        0.0  North East  \n",
       "2020-03-10 10:00:00                        0.0  North East  \n",
       "2020-03-10 13:00:00                        0.0  North East  "
      ]
     },
     "execution_count": 67,
     "metadata": {},
     "output_type": "execute_result"
    }
   ],
   "source": [
    "regions"
   ]
  },
  {
   "cell_type": "markdown",
   "metadata": {},
   "source": [
    "## Draw some of the symptoms trajectories"
   ]
  },
  {
   "cell_type": "code",
   "execution_count": 57,
   "metadata": {},
   "outputs": [],
   "source": [
    "random_trajectories = read.draw_symptom_trajectories(window_length=600,\n",
    "                                        n_people=10)"
   ]
  },
  {
   "cell_type": "code",
   "execution_count": 58,
   "metadata": {},
   "outputs": [],
   "source": [
    "from june.infection import SymptomTag"
   ]
  },
  {
   "cell_type": "code",
   "execution_count": 59,
   "metadata": {},
   "outputs": [],
   "source": [
    "symptoms_values = [tag.value for tag in SymptomTag]\n",
    "symptoms_names = [tag.name for tag in SymptomTag]\n"
   ]
  },
  {
   "cell_type": "code",
   "execution_count": 60,
   "metadata": {},
   "outputs": [
    {
     "data": {
      "text/plain": [
       "Text(0.5, 0, 'Date')"
      ]
     },
     "execution_count": 60,
     "metadata": {},
     "output_type": "execute_result"
    },
    {
     "data": {
      "image/png": "[encoded data removed]",
      "text/plain": [
       "<Figure size 576x432 with 1 Axes>"
      ]
     },
     "metadata": {
      "needs_background": "light"
     },
     "output_type": "display_data"
    }
   ],
   "source": [
    "for df_person in random_trajectories:\n",
    "    df_person['symptoms'].plot()\n",
    "plt.ylabel('Symptoms Trajectory')\n",
    "_ = plt.yticks(symptoms_values, symptoms_names)\n",
    "plt.xlabel('Date')"
   ]
  },
  {
   "cell_type": "code",
   "execution_count": 61,
   "metadata": {},
   "outputs": [
    {
     "data": {
      "text/plain": [
       "Text(0.5, 0, 'Date')"
      ]
     },
     "execution_count": 61,
     "metadata": {},
     "output_type": "execute_result"
    },
    {
     "data": {
      "image/png": "[encoded data removed]",
      "text/plain": [
       "<Figure size 576x432 with 1 Axes>"
      ]
     },
     "metadata": {
      "needs_background": "light"
     },
     "output_type": "display_data"
    }
   ],
   "source": [
    "for df_person in random_trajectories:\n",
    "    df_person['n_secondary_infections'].plot()\n",
    "plt.ylabel('Number of secondary infections')\n",
    "\n",
    "plt.xlabel('Date')"
   ]
  },
  {
   "cell_type": "code",
   "execution_count": null,
   "metadata": {},
   "outputs": [],
   "source": []
  },
  {
   "cell_type": "code",
   "execution_count": null,
   "metadata": {},
   "outputs": [],
   "source": []
  }
 ],
 "metadata": {
  "kernelspec": {
   "display_name": "Python 3",
   "language": "python",
   "name": "python3"
  },
  "language_info": {
   "codemirror_mode": {
    "name": "ipython",
    "version": 3
   },
   "file_extension": ".py",
   "mimetype": "text/x-python",
   "name": "python",
   "nbconvert_exporter": "python",
   "pygments_lexer": "ipython3",
   "version": "3.7.6"
  }
 },
 "nbformat": 4,
 "nbformat_minor": 4
}
