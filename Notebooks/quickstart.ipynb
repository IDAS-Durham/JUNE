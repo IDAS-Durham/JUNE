{
 "cells": [
  {
   "cell_type": "code",
   "execution_count": 1,
   "metadata": {},
   "outputs": [],
   "source": [
    "%load_ext autoreload\n",
    "%autoreload 2"
   ]
  },
  {
   "cell_type": "code",
   "execution_count": 2,
   "metadata": {},
   "outputs": [],
   "source": [
    "import numpy as np\n",
    "import time\n",
    "from datetime import datetime\n",
    "import matplotlib.pyplot as plt\n",
    "import seaborn as sns\n",
    "sns.set_context('notebook')"
   ]
  },
  {
   "cell_type": "code",
   "execution_count": 3,
   "metadata": {},
   "outputs": [
    {
     "name": "stderr",
     "output_type": "stream",
     "text": [
      "No --data argument given - defaulting to:\n",
      "/home/arnau/code/JUNE/data\n",
      "No --configs argument given - defaulting to:\n",
      "/home/arnau/code/JUNE/configs\n"
     ]
    }
   ],
   "source": [
    "from june import World \n",
    "from june.demography.geography import Geography\n",
    "from june.demography import Demography\n",
    "from june.interaction import ContactAveraging\n",
    "from june.infection import Infection\n",
    "from june.infection.transmission import TransmissionConstant\n",
    "from june.groups import Hospitals, Schools, Companies, Households, CareHomes, Cemeteries, Universities\n",
    "from june.groups.leisure import leisure, Cinemas, Pubs, Groceries\n",
    "from june.simulator import Simulator\n",
    "from june.seed import Seed\n",
    "from june.policy import Policy, Policies\n",
    "from june import paths\n",
    "from june.hdf5_savers import load_geography_from_hdf5\n",
    "from june.logger.read_logger import ReadLogger\n",
    "from june.infection.infection import InfectionSelector\n",
    "from june.world import generate_world_from_hdf5, generate_world_from_geography"
   ]
  },
  {
   "cell_type": "markdown",
   "metadata": {},
   "source": [
    "# Initialize world\n",
    "\n",
    "To initialize a certain world, we need to add the different components we want to have in it. First we specify what super areas (msoa) we want to create. We have included these ones, because they are known to contain hospitals, schools, care homes, and companies.\n",
    "\n",
    "After creating the geography, we create the different components the worlds need to have such as care homes, companies ..."
   ]
  },
  {
   "cell_type": "code",
   "execution_count": 4,
   "metadata": {},
   "outputs": [
    {
     "name": "stdout",
     "output_type": "stream",
     "text": [
      "2020-06-26 21:38:37,251 - june.demography.geography - INFO - There are 129 areas and 5 super_areas in the world.\n",
      "2020-06-26 21:38:37,262 - june.groups.hospital - INFO - There are 1 hospitals in this geography.\n",
      "2020-06-26 21:38:37,350 - june.groups.school - INFO - There are 19 schools in this geography.\n",
      "2020-06-26 21:38:37,390 - june.groups.school - INFO - No school for the age 0 in this world.\n",
      "2020-06-26 21:38:37,394 - june.groups.school - INFO - No school for the age 1 in this world.\n",
      "2020-06-26 21:38:37,399 - june.groups.school - INFO - No school for the age 2 in this world.\n",
      "2020-06-26 21:38:37,707 - june.groups.carehome - INFO - There are 9 care_homes in this geography.\n",
      "2020-06-26 21:38:49,840 - june.distributors.worker_distributor - INFO - There are 0 who had to be told to stay real\n",
      "CPU times: user 36.3 s, sys: 1.26 s, total: 37.5 s\n",
      "Wall time: 37.6 s\n"
     ]
    }
   ],
   "source": [
    "%%time \n",
    "\n",
    "geography = Geography.from_file(\n",
    "        {\n",
    "            \"super_area\": [\n",
    "                \"E02003282\",\n",
    "                \"E02001720\",\n",
    "                \"E00088544\",\n",
    "                \"E02002560\",\n",
    "                \"E02002559\",\n",
    "                \"E02004314\",\n",
    "            ]\n",
    "        }\n",
    ")\n",
    "\n",
    "geography.hospitals = Hospitals.for_geography(geography)\n",
    "geography.schools = Schools.for_geography(geography)\n",
    "geography.companies = Companies.for_geography(geography)\n",
    "geography.care_homes = CareHomes.for_geography(geography)\n",
    "geography.universities = Universities.for_super_areas(geography.super_areas)\n",
    "world = generate_world_from_geography(geography, include_households=True, include_commute=True)\n"
   ]
  },
  {
   "cell_type": "code",
   "execution_count": 5,
   "metadata": {},
   "outputs": [
    {
     "data": {
      "text/plain": [
       "46784"
      ]
     },
     "execution_count": 5,
     "metadata": {},
     "output_type": "execute_result"
    }
   ],
   "source": [
    "len(world.people)"
   ]
  },
  {
   "cell_type": "markdown",
   "metadata": {},
   "source": [
    "### If it took a long time to run the previous command, it might be a good idea to save the world to reuse it later."
   ]
  },
  {
   "cell_type": "code",
   "execution_count": 6,
   "metadata": {},
   "outputs": [],
   "source": [
    "world.to_hdf5(\"world.hdf5\")"
   ]
  },
  {
   "cell_type": "markdown",
   "metadata": {},
   "source": [
    "If we would like to load the world we saved, we just do"
   ]
  },
  {
   "cell_type": "code",
   "execution_count": 7,
   "metadata": {},
   "outputs": [
    {
     "name": "stdout",
     "output_type": "stream",
     "text": [
      "Loaded chunk 0 of 1\n",
      "Loaded chunk 0 of 1\n"
     ]
    },
    {
     "name": "stderr",
     "output_type": "stream",
     "text": [
      "100%|██████████| 46784/46784 [00:00<00:00, 115164.27it/s]\n"
     ]
    }
   ],
   "source": [
    "world = generate_world_from_hdf5(\"world.hdf5\")"
   ]
  },
  {
   "cell_type": "markdown",
   "metadata": {},
   "source": [
    "you have now a beautiful pre-pandemic world. "
   ]
  },
  {
   "cell_type": "markdown",
   "metadata": {},
   "source": [
    "## Commute, travel and leisure"
   ]
  },
  {
   "cell_type": "markdown",
   "metadata": {},
   "source": [
    "We can add cinemas, pubs, groceries, etc. as well as commute in major cities with"
   ]
  },
  {
   "cell_type": "code",
   "execution_count": 8,
   "metadata": {},
   "outputs": [],
   "source": [
    "# leisure\n",
    "geography = load_geography_from_hdf5(\"world.hdf5\")\n",
    "world.cinemas = Cinemas.for_geography(geography)\n",
    "world.pubs = Pubs.for_geography(geography)\n",
    "world.groceries = Groceries.for_super_areas(world.super_areas,\n",
    "                                            venues_per_capita=1/500)"
   ]
  },
  {
   "cell_type": "markdown",
   "metadata": {},
   "source": [
    "We are also going to need some cemeteries...geography.cemeteries = Cemeteries()\n"
   ]
  },
  {
   "cell_type": "code",
   "execution_count": 9,
   "metadata": {},
   "outputs": [],
   "source": [
    "world.cemeteries = Cemeteries()"
   ]
  },
  {
   "cell_type": "markdown",
   "metadata": {},
   "source": [
    "# Adding the infection"
   ]
  },
  {
   "cell_type": "markdown",
   "metadata": {},
   "source": [
    "Now, you can play around with different models of infections. The building blocks for an infection are: Transmission and Symptoms. For now, only SymptomsConstant and TransmissionConstant are in a state to be used."
   ]
  },
  {
   "cell_type": "code",
   "execution_count": 10,
   "metadata": {},
   "outputs": [],
   "source": [
    "selector = InfectionSelector.from_file()"
   ]
  },
  {
   "cell_type": "markdown",
   "metadata": {},
   "source": [
    "# Adding the interaction"
   ]
  },
  {
   "cell_type": "code",
   "execution_count": 11,
   "metadata": {},
   "outputs": [],
   "source": [
    "interaction = ContactAveraging.from_file(selector=selector)"
   ]
  },
  {
   "cell_type": "markdown",
   "metadata": {},
   "source": [
    "Beta are the intensities of the interaction taking place at the different groups"
   ]
  },
  {
   "cell_type": "code",
   "execution_count": 12,
   "metadata": {},
   "outputs": [
    {
     "data": {
      "text/plain": [
       "{'box': 1,\n",
       " 'pub': 0.1,\n",
       " 'grocery': 0.1,\n",
       " 'cinema': 0.1,\n",
       " 'commute_unit': 1.0,\n",
       " 'commute_city_unit': 1.0,\n",
       " 'hospital': 1.0,\n",
       " 'care_home': 1.0,\n",
       " 'company': 0.1,\n",
       " 'school': 0.1,\n",
       " 'household': 0.2,\n",
       " 'university': 0.01}"
      ]
     },
     "execution_count": 12,
     "metadata": {},
     "output_type": "execute_result"
    }
   ],
   "source": [
    "interaction.beta"
   ]
  },
  {
   "cell_type": "markdown",
   "metadata": {},
   "source": [
    "to modify these, simply do"
   ]
  },
  {
   "cell_type": "code",
   "execution_count": 13,
   "metadata": {},
   "outputs": [],
   "source": [
    "interaction.beta['household'] *= 2"
   ]
  },
  {
   "cell_type": "code",
   "execution_count": 14,
   "metadata": {},
   "outputs": [
    {
     "data": {
      "text/plain": [
       "{'box': 1,\n",
       " 'pub': 0.1,\n",
       " 'grocery': 0.1,\n",
       " 'cinema': 0.1,\n",
       " 'commute_unit': 1.0,\n",
       " 'commute_city_unit': 1.0,\n",
       " 'hospital': 1.0,\n",
       " 'care_home': 1.0,\n",
       " 'company': 0.1,\n",
       " 'school': 0.1,\n",
       " 'household': 0.4,\n",
       " 'university': 0.01}"
      ]
     },
     "execution_count": 14,
     "metadata": {},
     "output_type": "execute_result"
    }
   ],
   "source": [
    "interaction.beta"
   ]
  },
  {
   "cell_type": "markdown",
   "metadata": {},
   "source": [
    "moreover this interaction module uses contact matrices, that are different for different groups. These contact matrices shouldnt be modified for now. However they are a combination of conversational contact matrices, and physical contact matrices (see the BBC pandemic paper, from where these matrices are extracted https://www.medrxiv.org/content/10.1101/2020.02.16.20023754v2)\n",
    "\n",
    "There is a parameter, ``alpha`` ($\\alpha$), that combines these two matrices in the following way,\n",
    "\n",
    "\n",
    "$\\beta M \\left(1 + (\\alpha -1) \\right) P$\n",
    "\n",
    "where $\\beta$ is the intensity of the interaction, and $P$ the physical contact matrix. A larger $\\alpha$ produces more physical contacts. It is an overall number, non dependent of the particular group.\n"
   ]
  },
  {
   "cell_type": "code",
   "execution_count": 15,
   "metadata": {},
   "outputs": [
    {
     "data": {
      "text/plain": [
       "2.0"
      ]
     },
     "execution_count": 15,
     "metadata": {},
     "output_type": "execute_result"
    }
   ],
   "source": [
    "interaction.alpha_physical"
   ]
  },
  {
   "cell_type": "code",
   "execution_count": 16,
   "metadata": {},
   "outputs": [],
   "source": [
    "interaction.alpha_physical /= 2"
   ]
  },
  {
   "cell_type": "code",
   "execution_count": 17,
   "metadata": {},
   "outputs": [
    {
     "data": {
      "text/plain": [
       "1.0"
      ]
     },
     "execution_count": 17,
     "metadata": {},
     "output_type": "execute_result"
    }
   ],
   "source": [
    "interaction.alpha_physical"
   ]
  },
  {
   "cell_type": "markdown",
   "metadata": {},
   "source": [
    "# Seed the disease"
   ]
  },
  {
   "cell_type": "markdown",
   "metadata": {},
   "source": [
    "There are two options implemented in the seed at the moment, either you specify the number of cases and these are then homogeneously distributed by population to the different areas, or you use UK data on cases per region. For now use the first case."
   ]
  },
  {
   "cell_type": "code",
   "execution_count": 18,
   "metadata": {},
   "outputs": [],
   "source": [
    "seed = Seed(world.super_areas, selector,)"
   ]
  },
  {
   "cell_type": "code",
   "execution_count": 19,
   "metadata": {},
   "outputs": [],
   "source": [
    "n_cases = 50\n",
    "seed.unleash_virus(n_cases) # play around with the initial number of cases"
   ]
  },
  {
   "cell_type": "markdown",
   "metadata": {},
   "source": [
    "# Set policies"
   ]
  },
  {
   "cell_type": "code",
   "execution_count": 20,
   "metadata": {},
   "outputs": [],
   "source": [
    "policies = Policies.from_file()"
   ]
  },
  {
   "cell_type": "markdown",
   "metadata": {},
   "source": [
    "# Run the simulation"
   ]
  },
  {
   "cell_type": "markdown",
   "metadata": {},
   "source": [
    "Since the timer configuration is a bit cumbersome, it is read from the config file at ``configs/config_example.yaml``"
   ]
  },
  {
   "cell_type": "code",
   "execution_count": 21,
   "metadata": {},
   "outputs": [],
   "source": [
    "CONFIG_PATH = \"../configs/config_example.yaml\"\n",
    "\n",
    "leisure_instance = leisure.generate_leisure_for_config(\n",
    "world=world, config_filename = CONFIG_PATH\n",
    ")\n",
    "simulator = Simulator.from_file(\n",
    "     world, interaction, selector, \n",
    "    config_filename = CONFIG_PATH,\n",
    "    leisure = leisure_instance,\n",
    "    policies = policies\n",
    ")"
   ]
  },
  {
   "cell_type": "code",
   "execution_count": null,
   "metadata": {
    "scrolled": true
   },
   "outputs": [
    {
     "name": "stdout",
     "output_type": "stream",
     "text": [
      "2020-06-26 21:39:34,651 - june.simulator - INFO - Starting group_dynamics for 200 days at day 0\n",
      "2020-06-26 21:39:34,652 - june.simulator - INFO - starting the loop ..., at 0 days, to run for 200 days\n",
      "2020-06-26 21:39:35,875 - june.simulator - INFO - Date = 2020-03-07 04:00:00, number of deaths =  0, number of infected = 50\n",
      "2020-06-26 21:39:36,719 - june.simulator - INFO - Date = 2020-03-07 08:00:00, number of deaths =  0, number of infected = 50\n",
      "2020-06-26 21:39:37,164 - june.simulator - INFO - Date = 2020-03-07 12:00:00, number of deaths =  0, number of infected = 50\n",
      "2020-06-26 21:39:38,056 - june.simulator - INFO - Date = 2020-03-08 00:00:00, number of deaths =  0, number of infected = 50\n",
      "2020-06-26 21:39:38,720 - june.simulator - INFO - Date = 2020-03-08 04:00:00, number of deaths =  0, number of infected = 50\n",
      "2020-06-26 21:39:39,363 - june.simulator - INFO - Date = 2020-03-08 08:00:00, number of deaths =  0, number of infected = 50\n",
      "2020-06-26 21:39:39,814 - june.simulator - INFO - Date = 2020-03-08 12:00:00, number of deaths =  0, number of infected = 50\n",
      "2020-06-26 21:39:40,352 - june.simulator - INFO - Date = 2020-03-09 00:00:00, number of deaths =  0, number of infected = 50\n",
      "2020-06-26 21:39:40,885 - june.simulator - INFO - Date = 2020-03-09 01:00:00, number of deaths =  0, number of infected = 50\n",
      "2020-06-26 21:39:41,265 - june.simulator - INFO - Date = 2020-03-09 05:00:00, number of deaths =  0, number of infected = 50\n",
      "2020-06-26 21:39:41,633 - june.simulator - INFO - Date = 2020-03-09 09:00:00, number of deaths =  0, number of infected = 50\n",
      "2020-06-26 21:39:42,348 - june.simulator - INFO - Date = 2020-03-09 10:00:00, number of deaths =  0, number of infected = 50\n",
      "2020-06-26 21:39:42,813 - june.simulator - INFO - Date = 2020-03-09 13:00:00, number of deaths =  0, number of infected = 50\n",
      "2020-06-26 21:39:43,328 - june.simulator - INFO - Date = 2020-03-10 00:00:00, number of deaths =  0, number of infected = 50\n",
      "2020-06-26 21:39:43,859 - june.simulator - INFO - Date = 2020-03-10 01:00:00, number of deaths =  0, number of infected = 50\n",
      "2020-06-26 21:39:44,216 - june.simulator - INFO - Date = 2020-03-10 05:00:00, number of deaths =  0, number of infected = 50\n",
      "2020-06-26 21:39:44,558 - june.simulator - INFO - Date = 2020-03-10 09:00:00, number of deaths =  0, number of infected = 50\n",
      "2020-06-26 21:39:45,230 - june.simulator - INFO - Date = 2020-03-10 10:00:00, number of deaths =  0, number of infected = 50\n",
      "2020-06-26 21:39:45,671 - june.simulator - INFO - Date = 2020-03-10 13:00:00, number of deaths =  0, number of infected = 50\n",
      "2020-06-26 21:39:46,176 - june.simulator - INFO - Date = 2020-03-11 00:00:00, number of deaths =  0, number of infected = 50\n",
      "2020-06-26 21:39:46,752 - june.simulator - INFO - Date = 2020-03-11 01:00:00, number of deaths =  0, number of infected = 53\n",
      "2020-06-26 21:39:47,147 - june.simulator - INFO - Date = 2020-03-11 05:00:00, number of deaths =  0, number of infected = 55\n",
      "2020-06-26 21:39:47,491 - june.simulator - INFO - Date = 2020-03-11 09:00:00, number of deaths =  0, number of infected = 58\n",
      "2020-06-26 21:39:48,179 - june.simulator - INFO - Date = 2020-03-11 10:00:00, number of deaths =  0, number of infected = 60\n",
      "2020-06-26 21:39:48,629 - june.simulator - INFO - Date = 2020-03-11 13:00:00, number of deaths =  0, number of infected = 68\n",
      "2020-06-26 21:39:49,172 - june.simulator - INFO - Date = 2020-03-12 00:00:00, number of deaths =  0, number of infected = 102\n",
      "2020-06-26 21:39:49,637 - june.simulator - INFO - Date = 2020-03-12 01:00:00, number of deaths =  0, number of infected = 108\n",
      "2020-06-26 21:39:50,043 - june.simulator - INFO - Date = 2020-03-12 05:00:00, number of deaths =  0, number of infected = 114\n",
      "2020-06-26 21:39:50,400 - june.simulator - INFO - Date = 2020-03-12 09:00:00, number of deaths =  0, number of infected = 115\n",
      "2020-06-26 21:39:51,110 - june.simulator - INFO - Date = 2020-03-12 10:00:00, number of deaths =  0, number of infected = 116\n",
      "2020-06-26 21:39:51,552 - june.simulator - INFO - Date = 2020-03-12 13:00:00, number of deaths =  0, number of infected = 120\n",
      "2020-06-26 21:39:52,120 - june.simulator - INFO - Date = 2020-03-13 00:00:00, number of deaths =  0, number of infected = 144\n",
      "2020-06-26 21:39:52,697 - june.simulator - INFO - Date = 2020-03-13 01:00:00, number of deaths =  0, number of infected = 147\n",
      "2020-06-26 21:39:53,091 - june.simulator - INFO - Date = 2020-03-13 05:00:00, number of deaths =  0, number of infected = 153\n",
      "2020-06-26 21:39:53,455 - june.simulator - INFO - Date = 2020-03-13 09:00:00, number of deaths =  0, number of infected = 159\n",
      "2020-06-26 21:39:54,221 - june.simulator - INFO - Date = 2020-03-13 10:00:00, number of deaths =  0, number of infected = 164\n",
      "2020-06-26 21:39:54,687 - june.simulator - INFO - Date = 2020-03-13 13:00:00, number of deaths =  0, number of infected = 169\n",
      "2020-06-26 21:39:55,405 - june.simulator - INFO - Date = 2020-03-14 00:00:00, number of deaths =  0, number of infected = 178\n",
      "2020-06-26 21:39:56,043 - june.simulator - INFO - Date = 2020-03-14 04:00:00, number of deaths =  0, number of infected = 184\n",
      "2020-06-26 21:39:56,696 - june.simulator - INFO - Date = 2020-03-14 08:00:00, number of deaths =  0, number of infected = 194\n",
      "2020-06-26 21:39:57,159 - june.simulator - INFO - Date = 2020-03-14 12:00:00, number of deaths =  0, number of infected = 199\n",
      "2020-06-26 21:39:57,867 - june.simulator - INFO - Date = 2020-03-15 00:00:00, number of deaths =  0, number of infected = 217\n",
      "2020-06-26 21:39:58,511 - june.simulator - INFO - Date = 2020-03-15 04:00:00, number of deaths =  0, number of infected = 229\n",
      "2020-06-26 21:39:59,141 - june.simulator - INFO - Date = 2020-03-15 08:00:00, number of deaths =  0, number of infected = 234\n",
      "2020-06-26 21:39:59,605 - june.simulator - INFO - Date = 2020-03-15 12:00:00, number of deaths =  0, number of infected = 248\n",
      "2020-06-26 21:40:00,342 - june.simulator - INFO - Date = 2020-03-16 00:00:00, number of deaths =  0, number of infected = 275\n",
      "2020-06-26 21:40:01,091 - june.simulator - INFO - Date = 2020-03-16 01:00:00, number of deaths =  0, number of infected = 279\n",
      "2020-06-26 21:40:01,818 - june.simulator - INFO - Date = 2020-03-16 05:00:00, number of deaths =  0, number of infected = 481\n",
      "2020-06-26 21:40:02,397 - june.simulator - INFO - Date = 2020-03-16 09:00:00, number of deaths =  0, number of infected = 520\n",
      "2020-06-26 21:40:03,219 - june.simulator - INFO - Date = 2020-03-16 10:00:00, number of deaths =  0, number of infected = 525\n",
      "2020-06-26 21:40:03,847 - june.simulator - INFO - Date = 2020-03-16 13:00:00, number of deaths =  0, number of infected = 536\n",
      "2020-06-26 21:40:04,540 - june.simulator - INFO - Date = 2020-03-17 00:00:00, number of deaths =  0, number of infected = 553\n",
      "2020-06-26 21:40:05,330 - june.simulator - INFO - Date = 2020-03-17 01:00:00, number of deaths =  0, number of infected = 557\n",
      "2020-06-26 21:40:05,997 - june.simulator - INFO - Date = 2020-03-17 05:00:00, number of deaths =  0, number of infected = 569\n",
      "2020-06-26 21:40:06,564 - june.simulator - INFO - Date = 2020-03-17 09:00:00, number of deaths =  0, number of infected = 579\n",
      "2020-06-26 21:40:07,421 - june.simulator - INFO - Date = 2020-03-17 10:00:00, number of deaths =  0, number of infected = 585\n",
      "2020-06-26 21:40:08,049 - june.simulator - INFO - Date = 2020-03-17 13:00:00, number of deaths =  0, number of infected = 592\n",
      "2020-06-26 21:40:08,816 - june.simulator - INFO - Date = 2020-03-18 00:00:00, number of deaths =  0, number of infected = 622\n",
      "2020-06-26 21:40:09,652 - june.simulator - INFO - Date = 2020-03-18 01:00:00, number of deaths =  0, number of infected = 625\n",
      "2020-06-26 21:40:10,344 - june.simulator - INFO - Date = 2020-03-18 05:00:00, number of deaths =  0, number of infected = 627\n",
      "2020-06-26 21:40:10,926 - june.simulator - INFO - Date = 2020-03-18 09:00:00, number of deaths =  0, number of infected = 634\n",
      "2020-06-26 21:40:11,865 - june.simulator - INFO - Date = 2020-03-18 10:00:00, number of deaths =  0, number of infected = 638\n",
      "2020-06-26 21:40:12,492 - june.simulator - INFO - Date = 2020-03-18 13:00:00, number of deaths =  0, number of infected = 647\n",
      "2020-06-26 21:40:13,132 - june.simulator - INFO - Date = 2020-03-19 00:00:00, number of deaths =  0, number of infected = 674\n",
      "2020-06-26 21:40:13,964 - june.simulator - INFO - Date = 2020-03-19 01:00:00, number of deaths =  0, number of infected = 687\n",
      "2020-06-26 21:40:14,659 - june.simulator - INFO - Date = 2020-03-19 05:00:00, number of deaths =  0, number of infected = 694\n",
      "2020-06-26 21:40:15,271 - june.simulator - INFO - Date = 2020-03-19 09:00:00, number of deaths =  0, number of infected = 705\n",
      "2020-06-26 21:40:16,145 - june.simulator - INFO - Date = 2020-03-19 10:00:00, number of deaths =  0, number of infected = 717\n",
      "2020-06-26 21:40:16,796 - june.simulator - INFO - Date = 2020-03-19 13:00:00, number of deaths =  0, number of infected = 749\n",
      "2020-06-26 21:40:17,549 - june.simulator - INFO - Date = 2020-03-20 00:00:00, number of deaths =  0, number of infected = 864\n",
      "2020-06-26 21:40:18,564 - june.simulator - INFO - Date = 2020-03-20 01:00:00, number of deaths =  0, number of infected = 887\n",
      "2020-06-26 21:40:19,475 - june.simulator - INFO - Date = 2020-03-20 05:00:00, number of deaths =  0, number of infected = 908\n",
      "2020-06-26 21:40:20,202 - june.simulator - INFO - Date = 2020-03-20 09:00:00, number of deaths =  0, number of infected = 930\n",
      "2020-06-26 21:40:21,178 - june.simulator - INFO - Date = 2020-03-20 10:00:00, number of deaths =  0, number of infected = 949\n",
      "2020-06-26 21:40:21,887 - june.simulator - INFO - Date = 2020-03-20 13:00:00, number of deaths =  0, number of infected = 981\n",
      "2020-06-26 21:40:22,807 - june.simulator - INFO - Date = 2020-03-21 00:00:00, number of deaths =  0, number of infected = 1112\n",
      "2020-06-26 21:40:23,701 - june.simulator - INFO - Date = 2020-03-21 04:00:00, number of deaths =  0, number of infected = 1147\n",
      "2020-06-26 21:40:24,609 - june.simulator - INFO - Date = 2020-03-21 08:00:00, number of deaths =  0, number of infected = 1183\n",
      "2020-06-26 21:40:25,293 - june.simulator - INFO - Date = 2020-03-21 12:00:00, number of deaths =  0, number of infected = 1214\n",
      "2020-06-26 21:40:26,248 - june.simulator - INFO - Date = 2020-03-22 00:00:00, number of deaths =  0, number of infected = 1298\n",
      "2020-06-26 21:40:27,132 - june.simulator - INFO - Date = 2020-03-22 04:00:00, number of deaths =  0, number of infected = 1329\n",
      "2020-06-26 21:40:28,015 - june.simulator - INFO - Date = 2020-03-22 08:00:00, number of deaths =  0, number of infected = 1361\n",
      "2020-06-26 21:40:28,803 - june.simulator - INFO - Date = 2020-03-22 12:00:00, number of deaths =  0, number of infected = 1394\n",
      "2020-06-26 21:40:29,493 - june.simulator - INFO - Date = 2020-03-23 00:00:00, number of deaths =  0, number of infected = 1461\n",
      "2020-06-26 21:40:30,382 - june.simulator - INFO - Date = 2020-03-23 01:00:00, number of deaths =  0, number of infected = 1476\n",
      "2020-06-26 21:40:31,245 - june.simulator - INFO - Date = 2020-03-23 05:00:00, number of deaths =  0, number of infected = 1492\n"
     ]
    }
   ],
   "source": [
    "%%time\n",
    "simulator.run()"
   ]
  },
  {
   "cell_type": "markdown",
   "metadata": {},
   "source": [
    "While the simulation runs (and afterwards) we can launch the visualization webpage by running\n",
    "```python june/visualizer.py path/to/results``` "
   ]
  },
  {
   "cell_type": "markdown",
   "metadata": {},
   "source": [
    "# Getting the results"
   ]
  },
  {
   "cell_type": "markdown",
   "metadata": {},
   "source": [
    "All results are stored in a json file specified in the ``save_path`` variable in the config file. We can also access it from ``world.logger`` directly."
   ]
  },
  {
   "cell_type": "code",
   "execution_count": null,
   "metadata": {},
   "outputs": [],
   "source": [
    "import pandas as pd"
   ]
  },
  {
   "cell_type": "code",
   "execution_count": null,
   "metadata": {},
   "outputs": [],
   "source": [
    "read = ReadLogger()"
   ]
  },
  {
   "cell_type": "markdown",
   "metadata": {},
   "source": [
    "## Hospital data and how it changed over time"
   ]
  },
  {
   "cell_type": "code",
   "execution_count": null,
   "metadata": {},
   "outputs": [],
   "source": [
    "hospitals_df = read.load_hospital_capacity()"
   ]
  },
  {
   "cell_type": "code",
   "execution_count": null,
   "metadata": {},
   "outputs": [],
   "source": [
    "hospitals_df.head(3)"
   ]
  },
  {
   "cell_type": "code",
   "execution_count": null,
   "metadata": {},
   "outputs": [],
   "source": [
    "hospitals_characteristics_df = read.load_hospital_characteristics()"
   ]
  },
  {
   "cell_type": "code",
   "execution_count": null,
   "metadata": {},
   "outputs": [],
   "source": [
    "hospitals_characteristics_df"
   ]
  },
  {
   "cell_type": "markdown",
   "metadata": {},
   "source": [
    "## where did infections happen?"
   ]
  },
  {
   "cell_type": "code",
   "execution_count": null,
   "metadata": {},
   "outputs": [],
   "source": [
    "loc_df = read.get_locations_infections()"
   ]
  },
  {
   "cell_type": "code",
   "execution_count": null,
   "metadata": {},
   "outputs": [],
   "source": [
    "locations_per_day = read.locations_df.groupby(pd.Grouper(freq='D')).sum()"
   ]
  },
  {
   "cell_type": "code",
   "execution_count": null,
   "metadata": {},
   "outputs": [],
   "source": [
    "all_infection_places = set(locations_per_day.location.sum())"
   ]
  },
  {
   "cell_type": "code",
   "execution_count": null,
   "metadata": {},
   "outputs": [],
   "source": [
    "def n_infections(row, infection_place):\n",
    "    return sum([row.counts[i] for i, x in enumerate(row.location) if x == infection_place])\n"
   ]
  },
  {
   "cell_type": "code",
   "execution_count": null,
   "metadata": {},
   "outputs": [],
   "source": [
    "for infection_place in all_infection_places:\n",
    "    locations_per_day[str(infection_place)] = locations_per_day.apply(\n",
    "        lambda x: n_infections(x, infection_place),\n",
    "        axis=1\n",
    "    )"
   ]
  },
  {
   "cell_type": "code",
   "execution_count": null,
   "metadata": {},
   "outputs": [],
   "source": [
    "locations_per_day = locations_per_day.drop(columns=['location',\n",
    "                                                    'counts'])"
   ]
  },
  {
   "cell_type": "code",
   "execution_count": null,
   "metadata": {},
   "outputs": [],
   "source": [
    "locations_per_day = locations_per_day.div(\n",
    "    locations_per_day.sum(axis=1), axis=0\n",
    ")\n"
   ]
  },
  {
   "cell_type": "code",
   "execution_count": null,
   "metadata": {},
   "outputs": [],
   "source": [
    "locations_per_day.plot.area( alpha=0.5)\n",
    "plt.legend(bbox_to_anchor=(1,1))\n",
    "plt.ylabel('Percent of infections')"
   ]
  },
  {
   "cell_type": "code",
   "execution_count": null,
   "metadata": {},
   "outputs": [],
   "source": [
    "import matplotlib.ticker as mtick\n",
    "\n",
    "ax = loc_df['percentage_infections'].sort_values().plot.bar()\n",
    "ax.yaxis.set_major_formatter(mtick.PercentFormatter())\n",
    "plt.ylabel('Percentage of infections at location')\n",
    "plt.xlabel('location')\n",
    "#plt.yscale('log')"
   ]
  },
  {
   "cell_type": "markdown",
   "metadata": {},
   "source": [
    "## rate of infection"
   ]
  },
  {
   "cell_type": "code",
   "execution_count": null,
   "metadata": {},
   "outputs": [],
   "source": [
    "r_df = read.get_r()"
   ]
  },
  {
   "cell_type": "code",
   "execution_count": null,
   "metadata": {},
   "outputs": [],
   "source": [
    "r_df.plot()\n",
    "plt.axvspan(policies.social_distancing_start, \n",
    "            policies.social_distancing_end,\n",
    "            facecolor='y', alpha=0.2)\n",
    "plt.axhline(y=1, linestyle='dashed', color='gray')\n",
    "plt.xlabel('Date')\n",
    "plt.ylabel('R')"
   ]
  },
  {
   "cell_type": "markdown",
   "metadata": {},
   "source": [
    "## World infection curves, and by super area"
   ]
  },
  {
   "cell_type": "code",
   "execution_count": null,
   "metadata": {},
   "outputs": [],
   "source": [
    "world_df = read.world_summary()"
   ]
  },
  {
   "cell_type": "code",
   "execution_count": null,
   "metadata": {},
   "outputs": [],
   "source": [
    "world_df['infected'].plot()\n",
    "plt.axvspan(policies.social_distancing_start, \n",
    "            policies.social_distancing_end,\n",
    "            facecolor='y', alpha=0.2)\n",
    "plt.ylabel('# Infected')"
   ]
  },
  {
   "cell_type": "code",
   "execution_count": null,
   "metadata": {},
   "outputs": [],
   "source": [
    "world_df.plot()\n",
    "plt.axvspan(policies.social_distancing_start, \n",
    "            policies.social_distancing_end,\n",
    "            facecolor='y', alpha=0.2)\n",
    "plt.legend(bbox_to_anchor=(1,1))\n"
   ]
  },
  {
   "cell_type": "code",
   "execution_count": null,
   "metadata": {},
   "outputs": [],
   "source": [
    "area_df = read.super_area_summary()"
   ]
  },
  {
   "cell_type": "code",
   "execution_count": null,
   "metadata": {},
   "outputs": [],
   "source": [
    "area_df[area_df.super_area == \"E02003282\"].plot()\n",
    "plt.legend(bbox_to_anchor=(1,1))\n",
    "\n"
   ]
  },
  {
   "cell_type": "markdown",
   "metadata": {},
   "source": [
    "## World infection curves per age group"
   ]
  },
  {
   "cell_type": "code",
   "execution_count": null,
   "metadata": {},
   "outputs": [],
   "source": [
    "ages_df = read.age_summary([0,10,20,30,40,\n",
    "                  50,60,70,80,90,100])"
   ]
  },
  {
   "cell_type": "code",
   "execution_count": null,
   "metadata": {},
   "outputs": [],
   "source": [
    "for name, group in ages_df.groupby('age_range'):\n",
    "    group['infected'].plot(label=name)\n",
    "plt.axvspan(policies.social_distancing_start, \n",
    "            policies.social_distancing_end,\n",
    "            facecolor='y', alpha=0.2)\n",
    "plt.legend(bbox_to_anchor=(1,1))\n"
   ]
  },
  {
   "cell_type": "code",
   "execution_count": null,
   "metadata": {},
   "outputs": [],
   "source": [
    "for name, group in ages_df.groupby('age_range'):\n",
    "    group['dead'].cumsum().plot(label=name)\n",
    "plt.legend()"
   ]
  },
  {
   "cell_type": "code",
   "execution_count": null,
   "metadata": {},
   "outputs": [],
   "source": [
    "for name, group in ages_df.groupby('age_range'):\n",
    "    group['susceptible'].plot(label=name)\n",
    "plt.legend()"
   ]
  },
  {
   "cell_type": "code",
   "execution_count": null,
   "metadata": {},
   "outputs": [],
   "source": [
    "for name, group in ages_df.groupby('age_range'):\n",
    "    group['hospital_admissions'].cumsum().plot(label=name)\n",
    "plt.legend()"
   ]
  },
  {
   "cell_type": "code",
   "execution_count": null,
   "metadata": {},
   "outputs": [],
   "source": [
    "for name, group in ages_df.groupby('age_range'):\n",
    "    group['intensive_care_admissions'].cumsum().plot(label=name)\n",
    "plt.legend()"
   ]
  },
  {
   "cell_type": "markdown",
   "metadata": {},
   "source": [
    "## Draw some of the symptoms trajectories"
   ]
  },
  {
   "cell_type": "code",
   "execution_count": null,
   "metadata": {},
   "outputs": [],
   "source": [
    "random_trajectories = read.draw_symptom_trajectories(window_length=600,\n",
    "                                        n_people=10)"
   ]
  },
  {
   "cell_type": "code",
   "execution_count": null,
   "metadata": {},
   "outputs": [],
   "source": [
    "from june.infection import SymptomTag"
   ]
  },
  {
   "cell_type": "code",
   "execution_count": null,
   "metadata": {},
   "outputs": [],
   "source": [
    "symptoms_values = [tag.value for tag in SymptomTag]\n",
    "symptoms_names = [tag.name for tag in SymptomTag]\n"
   ]
  },
  {
   "cell_type": "code",
   "execution_count": null,
   "metadata": {},
   "outputs": [],
   "source": [
    "for df_person in random_trajectories:\n",
    "    df_person['symptoms'].plot()\n",
    "plt.ylabel('Symptoms Trajectory')\n",
    "_ = plt.yticks(symptoms_values, symptoms_names)\n",
    "plt.xlabel('Date')"
   ]
  },
  {
   "cell_type": "code",
   "execution_count": null,
   "metadata": {},
   "outputs": [],
   "source": [
    "for df_person in random_trajectories:\n",
    "    df_person['n_secondary_infections'].plot()\n",
    "plt.ylabel('Number of secondary infections')\n",
    "\n",
    "plt.xlabel('Date')"
   ]
  }
 ],
 "metadata": {
  "kernelspec": {
   "display_name": "Python 3",
   "language": "python",
   "name": "python3"
  },
  "language_info": {
   "codemirror_mode": {
    "name": "ipython",
    "version": 3
   },
   "file_extension": ".py",
   "mimetype": "text/x-python",
   "name": "python",
   "nbconvert_exporter": "python",
   "pygments_lexer": "ipython3",
   "version": "3.8.3"
  }
 },
 "nbformat": 4,
 "nbformat_minor": 4
}
