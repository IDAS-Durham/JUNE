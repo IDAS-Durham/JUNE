{
 "cells": [
  {
   "cell_type": "code",
   "execution_count": 1,
   "metadata": {},
   "outputs": [],
   "source": [
    "%load_ext autoreload\n",
    "%autoreload 2"
   ]
  },
  {
   "cell_type": "code",
   "execution_count": 2,
   "metadata": {},
   "outputs": [],
   "source": [
    "import numpy as np\n",
    "import time\n",
    "from datetime import datetime\n",
    "import matplotlib.pyplot as plt\n",
    " \n",
    "plt.style.use(['science','notebook'])\n",
    "plt.style.reload_library()"
   ]
  },
  {
   "cell_type": "code",
   "execution_count": 3,
   "metadata": {},
   "outputs": [
    {
     "name": "stderr",
     "output_type": "stream",
     "text": [
      "No --data argument given - defaulting to:\n",
      "/home/florpi/JUNE/data\n",
      "No --configs argument given - defaulting to:\n",
      "/home/florpi/JUNE/configs\n"
     ]
    }
   ],
   "source": [
    "from june import World \n",
    "from june.demography.geography import Geography\n",
    "from june.demography import Demography\n",
    "from june.interaction import Interaction\n",
    "from june.infection import Infection, HealthIndexGenerator, InfectionSelector\n",
    "from june.infection.transmission import TransmissionConstant\n",
    "from june.groups import Hospitals, Schools, Companies, Households, CareHomes, Cemeteries, Universities\n",
    "from june.groups.leisure import generate_leisure_for_config, Cinemas, Pubs, Groceries\n",
    "from june.simulator import Simulator\n",
    "from june.infection_seed import InfectionSeed\n",
    "from june.policy import Policy, Policies\n",
    "from june import paths\n",
    "from june.hdf5_savers import load_geography_from_hdf5\n",
    "from june.logger.read_logger import ReadLogger\n",
    "from june.world import generate_world_from_geography\n",
    "from june.hdf5_savers import generate_world_from_hdf5"
   ]
  },
  {
   "cell_type": "markdown",
   "metadata": {},
   "source": [
    "# Initialize world\n",
    "\n",
    "To initialize a certain world, we need to add the different components we want to have in it. First we specify what super areas (msoa) we want to create. We have included these ones, because they are known to contain hospitals, schools, care homes, and companies.\n",
    "\n",
    "After creating the geography, we create the different components the worlds need to have such as care homes, companies ..."
   ]
  },
  {
   "cell_type": "code",
   "execution_count": 4,
   "metadata": {},
   "outputs": [],
   "source": [
    "CONFIG_PATH = paths.configs_path / \"config_example.yaml\""
   ]
  },
  {
   "cell_type": "code",
   "execution_count": 5,
   "metadata": {
    "scrolled": false
   },
   "outputs": [
    {
     "name": "stdout",
     "output_type": "stream",
     "text": [
      "2020-08-30 17:38:30,592 - june.demography.geography - INFO - There are 162 areas and 6 super_areas in the world.\n",
      "2020-08-30 17:38:30,602 - june.groups.hospital - INFO - There are 1 hospitals in this geography.\n",
      "2020-08-30 17:38:30,684 - june.groups.school - INFO - There are 26 schools in this geography.\n",
      "2020-08-30 17:38:30,724 - june.groups.school - INFO - No school for the age 0 in this world.\n",
      "2020-08-30 17:38:30,731 - june.groups.school - INFO - No school for the age 1 in this world.\n",
      "2020-08-30 17:38:30,738 - june.groups.school - INFO - No school for the age 2 in this world.\n",
      "2020-08-30 17:38:31,047 - june.groups.carehome - INFO - There are 11 care_homes in this geography.\n",
      "2020-08-30 17:38:41,591 - numexpr.utils - INFO - NumExpr defaulting to 4 threads.\n",
      "2020-08-30 17:38:46,042 - june.distributors.worker_distributor - INFO - There are 0 who had to be told to stay real\n",
      "2020-08-30 17:39:08,210 - june.groups.commute.commutehub_distributor - INFO - Distributing people to commute hubs in 11 commute cities.\n",
      "2020-08-30 17:39:08,211 - june.groups.commute.commutehub_distributor - INFO - Birmingham : 0 people commute in, 0 commute out.\n",
      "2020-08-30 17:39:08,213 - june.groups.commute.commutehub_distributor - INFO - Bristol : 0 people commute in, 0 commute out.\n",
      "2020-08-30 17:39:08,214 - june.groups.commute.commutehub_distributor - INFO - Cardiff : 0 people commute in, 0 commute out.\n",
      "2020-08-30 17:39:08,215 - june.groups.commute.commutehub_distributor - INFO - Leeds : 0 people commute in, 0 commute out.\n",
      "2020-08-30 17:39:08,216 - june.groups.commute.commutehub_distributor - INFO - Leicester : 0 people commute in, 0 commute out.\n",
      "2020-08-30 17:39:08,217 - june.groups.commute.commutehub_distributor - INFO - Liverpool : 0 people commute in, 0 commute out.\n",
      "2020-08-30 17:39:08,218 - june.groups.commute.commutehub_distributor - INFO - Manchester : 0 people commute in, 0 commute out.\n",
      "2020-08-30 17:39:08,229 - june.groups.commute.commutehub_distributor - INFO - Newcastle : 176 people commute in, 224 commute out.\n",
      "2020-08-30 17:39:08,254 - june.groups.commute.commutehub_distributor - INFO - Nottingham : 0 people commute in, 0 commute out.\n",
      "2020-08-30 17:39:08,255 - june.groups.commute.commutehub_distributor - INFO - Sheffield : 0 people commute in, 0 commute out.\n",
      "2020-08-30 17:39:08,256 - june.groups.commute.commutehub_distributor - INFO - London : 0 people commute in, 0 commute out.\n",
      "CPU times: user 37.5 s, sys: 1.14 s, total: 38.7 s\n",
      "Wall time: 39.1 s\n"
     ]
    }
   ],
   "source": [
    "%%time \n",
    "\n",
    "geography = Geography.from_file(\n",
    "        {\n",
    "            \"super_area\": [\n",
    "                \"E02003282\",\n",
    "                \"E02003283\",\n",
    "                \"E02001720\",\n",
    "                \"E02002560\",\n",
    "                \"E02002559\",\n",
    "                \"E02004314\",\n",
    "            ]\n",
    "        }\n",
    ")\n",
    "\n",
    "geography.hospitals = Hospitals.for_geography(geography)\n",
    "geography.schools = Schools.for_geography(geography)\n",
    "geography.companies = Companies.for_geography(geography)\n",
    "geography.care_homes = CareHomes.for_geography(geography)\n",
    "geography.universities = Universities.for_super_areas(geography.super_areas)\n",
    "world = generate_world_from_geography(geography, include_households=True, include_commute=True)\n"
   ]
  },
  {
   "cell_type": "markdown",
   "metadata": {},
   "source": [
    "## Commute, travel and leisure"
   ]
  },
  {
   "cell_type": "code",
   "execution_count": 6,
   "metadata": {},
   "outputs": [
    {
     "name": "stdout",
     "output_type": "stream",
     "text": [
      "2020-08-30 17:39:09,871 - june.groups.leisure.leisure - INFO - Distributing social venues to households\n",
      "2020-08-30 17:39:09,872 - june.groups.leisure.leisure - INFO - Distributed in 0 of 20498 households.\n"
     ]
    }
   ],
   "source": [
    "world.pubs = Pubs.for_geography(geography)\n",
    "world.cinemas = Cinemas.for_geography(geography)\n",
    "world.groceries = Groceries.for_geography(geography)\n",
    "leisure = generate_leisure_for_config(world, config_filename=CONFIG_PATH)\n",
    "leisure.distribute_social_venues_to_households(world.households, super_areas=world.super_areas) # this assigns possible social venues to people."
   ]
  },
  {
   "cell_type": "markdown",
   "metadata": {},
   "source": [
    "We are also going to need some cemeteries...geography.cemeteries = Cemeteries()\n"
   ]
  },
  {
   "cell_type": "code",
   "execution_count": 7,
   "metadata": {},
   "outputs": [],
   "source": [
    "world.cemeteries = Cemeteries()"
   ]
  },
  {
   "cell_type": "code",
   "execution_count": 8,
   "metadata": {},
   "outputs": [
    {
     "data": {
      "text/plain": [
       "57259"
      ]
     },
     "execution_count": 8,
     "metadata": {},
     "output_type": "execute_result"
    }
   ],
   "source": [
    "len(world.people)"
   ]
  },
  {
   "cell_type": "markdown",
   "metadata": {},
   "source": [
    "### If it took a long time to run the previous commands, it might be a good idea to save the world to reuse it later."
   ]
  },
  {
   "cell_type": "code",
   "execution_count": 9,
   "metadata": {},
   "outputs": [
    {
     "name": "stdout",
     "output_type": "stream",
     "text": [
      "2020-08-30 17:39:18,899 - june.hdf5_savers.world_saver - INFO - saving world to HDF5\n",
      "2020-08-30 17:39:19,763 - june.hdf5_savers.world_saver - INFO - saving hospitals...\n",
      "2020-08-30 17:39:19,767 - june.hdf5_savers.world_saver - INFO - saving schools...\n",
      "2020-08-30 17:39:19,771 - june.hdf5_savers.world_saver - INFO - saving companies...\n",
      "2020-08-30 17:39:19,779 - june.hdf5_savers.world_saver - INFO - saving households...\n",
      "2020-08-30 17:39:20,604 - june.hdf5_savers.world_saver - INFO - saving care homes...\n",
      "2020-08-30 17:39:20,607 - june.hdf5_savers.world_saver - INFO - saving commute cities...\n",
      "2020-08-30 17:39:20,612 - june.hdf5_savers.world_saver - INFO - saving commute hubs...\n",
      "2020-08-30 17:39:20,617 - june.hdf5_savers.world_saver - INFO - saving universities...\n",
      "2020-08-30 17:39:20,621 - june.hdf5_savers.world_saver - INFO - saving social venues...\n"
     ]
    }
   ],
   "source": [
    "world.to_hdf5(\"world.hdf5\")"
   ]
  },
  {
   "cell_type": "markdown",
   "metadata": {},
   "source": [
    "If we would like to load the world we saved, we just do"
   ]
  },
  {
   "cell_type": "code",
   "execution_count": 10,
   "metadata": {},
   "outputs": [
    {
     "name": "stdout",
     "output_type": "stream",
     "text": [
      "2020-08-30 17:39:20,669 - june.hdf5_savers.world_saver - INFO - loading world from HDF5\n",
      "2020-08-30 17:39:20,682 - june.hdf5_savers.world_saver - INFO - loading hospitals...\n",
      "2020-08-30 17:39:20,686 - june.hdf5_savers.world_saver - INFO - loading schools...\n",
      "2020-08-30 17:39:20,704 - june.hdf5_savers.world_saver - INFO - loading companies...\n",
      "2020-08-30 17:39:20,764 - june.hdf5_savers.world_saver - INFO - loading care homes...\n",
      "2020-08-30 17:39:20,769 - june.hdf5_savers.world_saver - INFO - loading universities...\n",
      "2020-08-30 17:39:20,774 - june.hdf5_savers.world_saver - INFO - loading commute cities...\n",
      "2020-08-30 17:39:20,818 - june.hdf5_savers.world_saver - INFO - loading commute hubs...\n",
      "2020-08-30 17:39:20,966 - june.hdf5_savers.world_saver - INFO - loading households...\n",
      "2020-08-30 17:39:21,453 - june.hdf5_savers.world_saver - INFO - loading population...\n",
      "2020-08-30 17:39:22,068 - june.hdf5_savers.world_saver - INFO - loading social venues...\n",
      "2020-08-30 17:39:22,073 - june.hdf5_savers.world_saver - INFO - restoring world...\n",
      "2020-08-30 17:39:22,076 - june.hdf5_savers.world_saver - INFO - restoring population...\n",
      "2020-08-30 17:39:28,223 - june.hdf5_savers.world_saver - INFO - restoring households...\n",
      "2020-08-30 17:39:29,615 - june.hdf5_savers.world_saver - INFO - restoring care homes...\n",
      "2020-08-30 17:39:29,617 - june.hdf5_savers.world_saver - INFO - restoring hospitals...\n",
      "2020-08-30 17:39:29,619 - june.hdf5_savers.world_saver - INFO - restoring commute...\n",
      "2020-08-30 17:39:29,621 - june.hdf5_savers.world_saver - INFO - restoring companies...\n",
      "2020-08-30 17:39:29,627 - june.hdf5_savers.world_saver - INFO - restoring schools...\n",
      "2020-08-30 17:39:29,630 - june.hdf5_savers.world_saver - INFO - restoring unis...\n",
      "2020-08-30 17:39:29,632 - june.hdf5_savers.world_saver - INFO - restoring social venues...\n"
     ]
    }
   ],
   "source": [
    "world = generate_world_from_hdf5(\"world.hdf5\")"
   ]
  },
  {
   "cell_type": "code",
   "execution_count": 11,
   "metadata": {},
   "outputs": [],
   "source": [
    "# and regenerate leisure in case we load it externally\n",
    "leisure = generate_leisure_for_config(world, CONFIG_PATH)"
   ]
  },
  {
   "cell_type": "markdown",
   "metadata": {},
   "source": [
    "you have now a beautiful pre-pandemic world. "
   ]
  },
  {
   "cell_type": "markdown",
   "metadata": {},
   "source": [
    "# Adding the infection"
   ]
  },
  {
   "cell_type": "markdown",
   "metadata": {},
   "source": [
    "The module in charge of infecting people is called the ``InfectionSelector``, which gives people a transmission time profile and a symptoms trajectory based on their age and sex (through the health index generator)"
   ]
  },
  {
   "cell_type": "code",
   "execution_count": 12,
   "metadata": {},
   "outputs": [],
   "source": [
    "health_index_generator = HealthIndexGenerator.from_file(asymptomatic_ratio=0.2)\n",
    "selector = InfectionSelector.from_file(\n",
    "        health_index_generator=health_index_generator,\n",
    "        transmission_config_path=paths.configs_path / 'defaults/transmission/XNExp.yaml'\n",
    ")"
   ]
  },
  {
   "cell_type": "markdown",
   "metadata": {},
   "source": [
    "# Adding the interaction"
   ]
  },
  {
   "cell_type": "code",
   "execution_count": 13,
   "metadata": {},
   "outputs": [],
   "source": [
    "interaction = Interaction.from_file()"
   ]
  },
  {
   "cell_type": "markdown",
   "metadata": {},
   "source": [
    "Beta are the intensities of the interaction taking place at the different groups"
   ]
  },
  {
   "cell_type": "code",
   "execution_count": 14,
   "metadata": {},
   "outputs": [],
   "source": [
    "for key in interaction.beta.keys():\n",
    "    interaction.beta[key] *= 0.2"
   ]
  },
  {
   "cell_type": "code",
   "execution_count": 15,
   "metadata": {},
   "outputs": [
    {
     "data": {
      "text/plain": [
       "{'box': 0.2,\n",
       " 'pub': 0.1,\n",
       " 'grocery': 0.05,\n",
       " 'cinema': 0.05,\n",
       " 'commute_unit': 0.1,\n",
       " 'commute_city_unit': 0.1,\n",
       " 'hospital': 0.010000000000000002,\n",
       " 'care_home': 0.24,\n",
       " 'company': 0.16000000000000003,\n",
       " 'school': 0.16000000000000003,\n",
       " 'household': 0.2,\n",
       " 'university': 0.1}"
      ]
     },
     "execution_count": 15,
     "metadata": {},
     "output_type": "execute_result"
    }
   ],
   "source": [
    "interaction.beta"
   ]
  },
  {
   "cell_type": "markdown",
   "metadata": {},
   "source": [
    "moreover this interaction module uses contact matrices, that are different for different groups. These contact matrices shouldnt be modified for now. However they are a combination of conversational contact matrices, and physical contact matrices (see the BBC pandemic paper, from where these matrices are extracted https://www.medrxiv.org/content/10.1101/2020.02.16.20023754v2)\n",
    "\n",
    "There is a parameter, ``alpha`` ($\\alpha$), that combines these two matrices in the following way,\n",
    "\n",
    "\n",
    "$\\beta M \\left(1 + (\\alpha -1) \\right) P$\n",
    "\n",
    "where $\\beta$ is the intensity of the interaction, and $P$ the physical contact matrix. A larger $\\alpha$ produces more physical contacts. It is an overall number, non dependent of the particular group.\n"
   ]
  },
  {
   "cell_type": "code",
   "execution_count": 16,
   "metadata": {},
   "outputs": [
    {
     "data": {
      "text/plain": [
       "2.0"
      ]
     },
     "execution_count": 16,
     "metadata": {},
     "output_type": "execute_result"
    }
   ],
   "source": [
    "interaction.alpha_physical"
   ]
  },
  {
   "cell_type": "markdown",
   "metadata": {},
   "source": [
    "# Seed the disease"
   ]
  },
  {
   "cell_type": "markdown",
   "metadata": {},
   "source": [
    "There are two options implemented in the seed at the moment, either you specify the number of cases and these are then homogeneously distributed by population to the different areas, or you use UK data on cases per region. For now use the first case."
   ]
  },
  {
   "cell_type": "code",
   "execution_count": 17,
   "metadata": {},
   "outputs": [],
   "source": [
    "infection_seed = InfectionSeed(\n",
    "    world.super_areas, selector,\n",
    ")"
   ]
  },
  {
   "cell_type": "code",
   "execution_count": 18,
   "metadata": {},
   "outputs": [],
   "source": [
    "n_cases = 50\n",
    "infection_seed.unleash_virus(n_cases) # play around with the initial number of cases"
   ]
  },
  {
   "cell_type": "markdown",
   "metadata": {},
   "source": [
    "# Set policies"
   ]
  },
  {
   "cell_type": "code",
   "execution_count": 19,
   "metadata": {},
   "outputs": [],
   "source": [
    "policies = Policies.from_file()"
   ]
  },
  {
   "cell_type": "code",
   "execution_count": 20,
   "metadata": {},
   "outputs": [
    {
     "data": {
      "text/plain": [
       "<june.policy.policy.Policies at 0x7fc1c309ca60>"
      ]
     },
     "execution_count": 20,
     "metadata": {},
     "output_type": "execute_result"
    }
   ],
   "source": [
    "policies"
   ]
  },
  {
   "cell_type": "markdown",
   "metadata": {},
   "source": [
    "# Run the simulation"
   ]
  },
  {
   "cell_type": "markdown",
   "metadata": {},
   "source": [
    "The simulator is the main module in charge of running the simulation. It coordinates the ``ActivityManager`` which is responsible of allocating people to the right groups given the current timestep, it updates the health status of the population, and it runs the interaction over the different groups. All of these modules can be modified by policies at any given time."
   ]
  },
  {
   "cell_type": "markdown",
   "metadata": {},
   "source": [
    "Since the timer configuration is a bit cumbersome, it is read from the config file at ``configs/config_example.yaml``"
   ]
  },
  {
   "cell_type": "code",
   "execution_count": 25,
   "metadata": {},
   "outputs": [],
   "source": [
    "simulator = Simulator.from_file(\n",
    "    world=world,\n",
    "    infection_selector=selector,\n",
    "    interaction=interaction, \n",
    "    config_filename = CONFIG_PATH,\n",
    "    leisure = leisure,\n",
    "    policies = policies\n",
    ")"
   ]
  },
  {
   "cell_type": "code",
   "execution_count": null,
   "metadata": {
    "scrolled": true
   },
   "outputs": [
    {
     "name": "stdout",
     "output_type": "stream",
     "text": [
      "2020-08-30 17:40:14,286 - june.simulator - INFO - Starting group_dynamics for 40 days at day 0\n",
      "2020-08-30 17:40:14,288 - june.simulator - INFO - starting the loop ..., at 0 days, to run for 40 days\n",
      "2020-08-30 17:40:15,814 - june.simulator - INFO - Date = 2020-03-01 00:00:00, number of deaths =  0, number of infected = 50\n",
      "2020-08-30 17:40:16,622 - june.simulator - INFO - Date = 2020-03-01 04:00:00, number of deaths =  0, number of infected = 50\n",
      "2020-08-30 17:40:17,335 - june.simulator - INFO - Date = 2020-03-01 08:00:00, number of deaths =  0, number of infected = 50\n",
      "2020-08-30 17:40:17,598 - june.simulator - INFO - Date = 2020-03-01 12:00:00, number of deaths =  0, number of infected = 50\n",
      "2020-08-30 17:40:17,886 - june.simulator - INFO - Date = 2020-03-02 00:00:00, number of deaths =  0, number of infected = 50\n",
      "2020-08-30 17:40:18,245 - june.simulator - INFO - Date = 2020-03-02 01:00:00, number of deaths =  0, number of infected = 50\n",
      "2020-08-30 17:40:18,507 - june.simulator - INFO - Date = 2020-03-02 09:00:00, number of deaths =  0, number of infected = 50\n",
      "2020-08-30 17:40:19,092 - june.simulator - INFO - Date = 2020-03-02 10:00:00, number of deaths =  0, number of infected = 50\n",
      "2020-08-30 17:40:19,352 - june.simulator - INFO - Date = 2020-03-02 13:00:00, number of deaths =  0, number of infected = 50\n",
      "2020-08-30 17:40:19,640 - june.simulator - INFO - Date = 2020-03-03 00:00:00, number of deaths =  0, number of infected = 51\n",
      "2020-08-30 17:40:20,027 - june.simulator - INFO - Date = 2020-03-03 01:00:00, number of deaths =  0, number of infected = 51\n",
      "2020-08-30 17:40:20,292 - june.simulator - INFO - Date = 2020-03-03 09:00:00, number of deaths =  0, number of infected = 52\n",
      "2020-08-30 17:40:20,878 - june.simulator - INFO - Date = 2020-03-03 10:00:00, number of deaths =  0, number of infected = 52\n",
      "2020-08-30 17:40:21,138 - june.simulator - INFO - Date = 2020-03-03 13:00:00, number of deaths =  0, number of infected = 53\n",
      "2020-08-30 17:40:21,548 - june.simulator - INFO - Date = 2020-03-04 00:00:00, number of deaths =  0, number of infected = 54\n",
      "2020-08-30 17:40:21,962 - june.simulator - INFO - Date = 2020-03-04 01:00:00, number of deaths =  0, number of infected = 54\n",
      "2020-08-30 17:40:22,560 - june.simulator - INFO - Date = 2020-03-04 09:00:00, number of deaths =  0, number of infected = 64\n",
      "2020-08-30 17:40:23,389 - june.simulator - INFO - Date = 2020-03-04 10:00:00, number of deaths =  0, number of infected = 65\n",
      "2020-08-30 17:40:23,664 - june.simulator - INFO - Date = 2020-03-04 13:00:00, number of deaths =  0, number of infected = 65\n",
      "2020-08-30 17:40:24,038 - june.simulator - INFO - Date = 2020-03-05 00:00:00, number of deaths =  0, number of infected = 69\n",
      "2020-08-30 17:40:24,608 - june.simulator - INFO - Date = 2020-03-05 01:00:00, number of deaths =  0, number of infected = 70\n",
      "2020-08-30 17:40:25,233 - june.simulator - INFO - Date = 2020-03-05 09:00:00, number of deaths =  0, number of infected = 76\n",
      "2020-08-30 17:40:25,836 - june.simulator - INFO - Date = 2020-03-05 10:00:00, number of deaths =  0, number of infected = 77\n",
      "2020-08-30 17:40:26,099 - june.simulator - INFO - Date = 2020-03-05 13:00:00, number of deaths =  0, number of infected = 78\n",
      "2020-08-30 17:40:26,386 - june.simulator - INFO - Date = 2020-03-06 00:00:00, number of deaths =  0, number of infected = 83\n",
      "2020-08-30 17:40:26,763 - june.simulator - INFO - Date = 2020-03-06 01:00:00, number of deaths =  0, number of infected = 83\n",
      "2020-08-30 17:40:27,043 - june.simulator - INFO - Date = 2020-03-06 09:00:00, number of deaths =  0, number of infected = 97\n",
      "2020-08-30 17:40:27,649 - june.simulator - INFO - Date = 2020-03-06 10:00:00, number of deaths =  0, number of infected = 97\n",
      "2020-08-30 17:40:27,928 - june.simulator - INFO - Date = 2020-03-06 13:00:00, number of deaths =  0, number of infected = 98\n",
      "2020-08-30 17:40:28,505 - june.simulator - INFO - Date = 2020-03-07 00:00:00, number of deaths =  0, number of infected = 105\n",
      "2020-08-30 17:40:29,099 - june.simulator - INFO - Date = 2020-03-07 04:00:00, number of deaths =  0, number of infected = 109\n",
      "2020-08-30 17:40:29,697 - june.simulator - INFO - Date = 2020-03-07 08:00:00, number of deaths =  0, number of infected = 116\n",
      "2020-08-30 17:40:29,968 - june.simulator - INFO - Date = 2020-03-07 12:00:00, number of deaths =  0, number of infected = 127\n",
      "2020-08-30 17:40:30,541 - june.simulator - INFO - Date = 2020-03-08 00:00:00, number of deaths =  0, number of infected = 135\n",
      "2020-08-30 17:40:31,121 - june.simulator - INFO - Date = 2020-03-08 04:00:00, number of deaths =  0, number of infected = 139\n",
      "2020-08-30 17:40:31,721 - june.simulator - INFO - Date = 2020-03-08 08:00:00, number of deaths =  0, number of infected = 142\n",
      "2020-08-30 17:40:31,993 - june.simulator - INFO - Date = 2020-03-08 12:00:00, number of deaths =  0, number of infected = 148\n",
      "2020-08-30 17:40:32,288 - june.simulator - INFO - Date = 2020-03-09 00:00:00, number of deaths =  0, number of infected = 156\n",
      "2020-08-30 17:40:32,671 - june.simulator - INFO - Date = 2020-03-09 01:00:00, number of deaths =  0, number of infected = 156\n",
      "2020-08-30 17:40:34,118 - june.simulator - INFO - Date = 2020-03-09 09:00:00, number of deaths =  0, number of infected = 180\n",
      "2020-08-30 17:40:34,921 - june.simulator - INFO - Date = 2020-03-09 10:00:00, number of deaths =  0, number of infected = 181\n",
      "2020-08-30 17:40:35,212 - june.simulator - INFO - Date = 2020-03-09 13:00:00, number of deaths =  0, number of infected = 184\n",
      "2020-08-30 17:40:35,502 - june.simulator - INFO - Date = 2020-03-10 00:00:00, number of deaths =  0, number of infected = 190\n",
      "2020-08-30 17:40:35,929 - june.simulator - INFO - Date = 2020-03-10 01:00:00, number of deaths =  0, number of infected = 191\n",
      "2020-08-30 17:40:36,457 - june.simulator - INFO - Date = 2020-03-10 09:00:00, number of deaths =  0, number of infected = 214\n",
      "2020-08-30 17:40:37,177 - june.simulator - INFO - Date = 2020-03-10 10:00:00, number of deaths =  0, number of infected = 215\n",
      "2020-08-30 17:40:37,466 - june.simulator - INFO - Date = 2020-03-10 13:00:00, number of deaths =  0, number of infected = 218\n",
      "2020-08-30 17:40:37,821 - june.simulator - INFO - Date = 2020-03-11 00:00:00, number of deaths =  0, number of infected = 226\n",
      "2020-08-30 17:40:38,401 - june.simulator - INFO - Date = 2020-03-11 01:00:00, number of deaths =  0, number of infected = 227\n",
      "2020-08-30 17:40:39,209 - june.simulator - INFO - Date = 2020-03-11 09:00:00, number of deaths =  0, number of infected = 269\n",
      "2020-08-30 17:40:39,833 - june.simulator - INFO - Date = 2020-03-11 10:00:00, number of deaths =  0, number of infected = 271\n",
      "2020-08-30 17:40:40,102 - june.simulator - INFO - Date = 2020-03-11 13:00:00, number of deaths =  0, number of infected = 278\n",
      "2020-08-30 17:40:40,396 - june.simulator - INFO - Date = 2020-03-12 00:00:00, number of deaths =  0, number of infected = 294\n",
      "2020-08-30 17:40:40,760 - june.simulator - INFO - Date = 2020-03-12 01:00:00, number of deaths =  1, number of infected = 296\n",
      "2020-08-30 17:40:41,457 - june.simulator - INFO - Date = 2020-03-12 09:00:00, number of deaths =  1, number of infected = 338\n",
      "2020-08-30 17:40:42,332 - june.simulator - INFO - Date = 2020-03-12 10:00:00, number of deaths =  1, number of infected = 341\n",
      "2020-08-30 17:40:42,609 - june.simulator - INFO - Date = 2020-03-12 13:00:00, number of deaths =  1, number of infected = 348\n",
      "2020-08-30 17:40:43,052 - june.simulator - INFO - Date = 2020-03-13 00:00:00, number of deaths =  1, number of infected = 367\n",
      "2020-08-30 17:40:43,443 - june.simulator - INFO - Date = 2020-03-13 01:00:00, number of deaths =  1, number of infected = 367\n",
      "2020-08-30 17:40:44,128 - june.simulator - INFO - Date = 2020-03-13 09:00:00, number of deaths =  1, number of infected = 409\n",
      "2020-08-30 17:40:44,774 - june.simulator - INFO - Date = 2020-03-13 10:00:00, number of deaths =  1, number of infected = 412\n",
      "2020-08-30 17:40:45,055 - june.simulator - INFO - Date = 2020-03-13 13:00:00, number of deaths =  1, number of infected = 413\n",
      "2020-08-30 17:40:46,113 - june.simulator - INFO - Date = 2020-03-14 00:00:00, number of deaths =  1, number of infected = 442\n",
      "2020-08-30 17:40:46,910 - june.simulator - INFO - Date = 2020-03-14 04:00:00, number of deaths =  1, number of infected = 450\n"
     ]
    },
    {
     "name": "stdout",
     "output_type": "stream",
     "text": [
      "2020-08-30 17:40:47,540 - june.simulator - INFO - Date = 2020-03-14 08:00:00, number of deaths =  1, number of infected = 461\n",
      "2020-08-30 17:40:47,822 - june.simulator - INFO - Date = 2020-03-14 12:00:00, number of deaths =  1, number of infected = 467\n",
      "2020-08-30 17:40:48,395 - june.simulator - INFO - Date = 2020-03-15 00:00:00, number of deaths =  1, number of infected = 485\n",
      "2020-08-30 17:40:48,980 - june.simulator - INFO - Date = 2020-03-15 04:00:00, number of deaths =  1, number of infected = 495\n",
      "2020-08-30 17:40:49,567 - june.simulator - INFO - Date = 2020-03-15 08:00:00, number of deaths =  1, number of infected = 500\n",
      "2020-08-30 17:40:49,980 - june.simulator - INFO - Date = 2020-03-15 12:00:00, number of deaths =  1, number of infected = 506\n",
      "2020-08-30 17:40:50,694 - june.simulator - INFO - Date = 2020-03-16 00:00:00, number of deaths =  1, number of infected = 532\n",
      "2020-08-30 17:40:51,311 - june.simulator - INFO - Date = 2020-03-16 01:00:00, number of deaths =  1, number of infected = 534\n",
      "2020-08-30 17:40:52,264 - june.simulator - INFO - Date = 2020-03-16 09:00:00, number of deaths =  1, number of infected = 593\n",
      "2020-08-30 17:40:53,101 - june.simulator - INFO - Date = 2020-03-16 10:00:00, number of deaths =  1, number of infected = 594\n",
      "2020-08-30 17:40:53,568 - june.simulator - INFO - Date = 2020-03-16 13:00:00, number of deaths =  1, number of infected = 602\n",
      "2020-08-30 17:40:54,048 - june.simulator - INFO - Date = 2020-03-17 00:00:00, number of deaths =  1, number of infected = 624\n",
      "2020-08-30 17:40:54,663 - june.simulator - INFO - Date = 2020-03-17 01:00:00, number of deaths =  1, number of infected = 625\n",
      "2020-08-30 17:40:55,156 - june.simulator - INFO - Date = 2020-03-17 09:00:00, number of deaths =  1, number of infected = 690\n",
      "2020-08-30 17:40:55,992 - june.simulator - INFO - Date = 2020-03-17 10:00:00, number of deaths =  1, number of infected = 693\n",
      "2020-08-30 17:40:56,457 - june.simulator - INFO - Date = 2020-03-17 13:00:00, number of deaths =  1, number of infected = 698\n",
      "2020-08-30 17:40:56,941 - june.simulator - INFO - Date = 2020-03-18 00:00:00, number of deaths =  1, number of infected = 719\n",
      "2020-08-30 17:40:57,575 - june.simulator - INFO - Date = 2020-03-18 01:00:00, number of deaths =  1, number of infected = 722\n",
      "2020-08-30 17:40:58,066 - june.simulator - INFO - Date = 2020-03-18 09:00:00, number of deaths =  1, number of infected = 797\n",
      "2020-08-30 17:40:58,935 - june.simulator - INFO - Date = 2020-03-18 10:00:00, number of deaths =  1, number of infected = 801\n",
      "2020-08-30 17:40:59,413 - june.simulator - INFO - Date = 2020-03-18 13:00:00, number of deaths =  1, number of infected = 813\n",
      "2020-08-30 17:40:59,911 - june.simulator - INFO - Date = 2020-03-19 00:00:00, number of deaths =  1, number of infected = 844\n",
      "2020-08-30 17:41:00,571 - june.simulator - INFO - Date = 2020-03-19 01:00:00, number of deaths =  1, number of infected = 848\n",
      "2020-08-30 17:41:01,065 - june.simulator - INFO - Date = 2020-03-19 09:00:00, number of deaths =  1, number of infected = 924\n",
      "2020-08-30 17:41:02,087 - june.simulator - INFO - Date = 2020-03-19 10:00:00, number of deaths =  1, number of infected = 925\n",
      "2020-08-30 17:41:02,583 - june.simulator - INFO - Date = 2020-03-19 13:00:00, number of deaths =  1, number of infected = 942\n",
      "2020-08-30 17:41:03,396 - june.simulator - INFO - Date = 2020-03-20 00:00:00, number of deaths =  1, number of infected = 991\n",
      "2020-08-30 17:41:04,462 - june.simulator - INFO - Date = 2020-03-20 01:00:00, number of deaths =  1, number of infected = 995\n",
      "2020-08-30 17:41:05,149 - june.simulator - INFO - Date = 2020-03-20 09:00:00, number of deaths =  1, number of infected = 1051\n",
      "2020-08-30 17:41:06,238 - june.simulator - INFO - Date = 2020-03-20 10:00:00, number of deaths =  1, number of infected = 1059\n",
      "2020-08-30 17:41:07,033 - june.simulator - INFO - Date = 2020-03-20 13:00:00, number of deaths =  1, number of infected = 1070\n",
      "2020-08-30 17:41:07,973 - june.simulator - INFO - Date = 2020-03-21 00:00:00, number of deaths =  1, number of infected = 1105\n",
      "2020-08-30 17:41:09,019 - june.simulator - INFO - Date = 2020-03-21 04:00:00, number of deaths =  1, number of infected = 1126\n",
      "2020-08-30 17:41:09,959 - june.simulator - INFO - Date = 2020-03-21 08:00:00, number of deaths =  1, number of infected = 1141\n",
      "2020-08-30 17:41:10,586 - june.simulator - INFO - Date = 2020-03-21 12:00:00, number of deaths =  1, number of infected = 1159\n",
      "2020-08-30 17:41:11,534 - june.simulator - INFO - Date = 2020-03-22 00:00:00, number of deaths =  1, number of infected = 1214\n",
      "2020-08-30 17:41:12,711 - june.simulator - INFO - Date = 2020-03-22 04:00:00, number of deaths =  1, number of infected = 1243\n",
      "2020-08-30 17:41:14,095 - june.simulator - INFO - Date = 2020-03-22 08:00:00, number of deaths =  1, number of infected = 1267\n",
      "2020-08-30 17:41:15,018 - june.simulator - INFO - Date = 2020-03-22 12:00:00, number of deaths =  1, number of infected = 1284\n",
      "2020-08-30 17:41:15,665 - june.simulator - INFO - Date = 2020-03-23 00:00:00, number of deaths =  1, number of infected = 1325\n",
      "2020-08-30 17:41:16,646 - june.simulator - INFO - Date = 2020-03-23 01:00:00, number of deaths =  1, number of infected = 1328\n",
      "2020-08-30 17:41:17,311 - june.simulator - INFO - Date = 2020-03-23 09:00:00, number of deaths =  1, number of infected = 1382\n",
      "2020-08-30 17:41:18,299 - june.simulator - INFO - Date = 2020-03-23 10:00:00, number of deaths =  1, number of infected = 1387\n",
      "2020-08-30 17:41:18,932 - june.simulator - INFO - Date = 2020-03-23 13:00:00, number of deaths =  1, number of infected = 1395\n",
      "2020-08-30 17:41:19,578 - june.simulator - INFO - Date = 2020-03-24 00:00:00, number of deaths =  1, number of infected = 1425\n",
      "2020-08-30 17:41:20,513 - june.simulator - INFO - Date = 2020-03-24 01:00:00, number of deaths =  1, number of infected = 1428\n",
      "2020-08-30 17:41:21,148 - june.simulator - INFO - Date = 2020-03-24 09:00:00, number of deaths =  1, number of infected = 1452\n",
      "2020-08-30 17:41:22,024 - june.simulator - INFO - Date = 2020-03-24 10:00:00, number of deaths =  1, number of infected = 1457\n",
      "2020-08-30 17:41:22,650 - june.simulator - INFO - Date = 2020-03-24 13:00:00, number of deaths =  1, number of infected = 1470\n",
      "2020-08-30 17:41:23,503 - june.simulator - INFO - Date = 2020-03-25 00:00:00, number of deaths =  1, number of infected = 1496\n",
      "2020-08-30 17:41:24,425 - june.simulator - INFO - Date = 2020-03-25 01:00:00, number of deaths =  1, number of infected = 1498\n",
      "2020-08-30 17:41:25,062 - june.simulator - INFO - Date = 2020-03-25 09:00:00, number of deaths =  1, number of infected = 1519\n",
      "2020-08-30 17:41:25,908 - june.simulator - INFO - Date = 2020-03-25 10:00:00, number of deaths =  1, number of infected = 1522\n",
      "2020-08-30 17:41:26,531 - june.simulator - INFO - Date = 2020-03-25 13:00:00, number of deaths =  1, number of infected = 1533\n",
      "2020-08-30 17:41:27,182 - june.simulator - INFO - Date = 2020-03-26 00:00:00, number of deaths =  1, number of infected = 1568\n",
      "2020-08-30 17:41:28,115 - june.simulator - INFO - Date = 2020-03-26 01:00:00, number of deaths =  1, number of infected = 1573\n",
      "2020-08-30 17:41:28,755 - june.simulator - INFO - Date = 2020-03-26 09:00:00, number of deaths =  1, number of infected = 1595\n",
      "2020-08-30 17:41:29,612 - june.simulator - INFO - Date = 2020-03-26 10:00:00, number of deaths =  1, number of infected = 1602\n",
      "2020-08-30 17:41:30,233 - june.simulator - INFO - Date = 2020-03-26 13:00:00, number of deaths =  1, number of infected = 1608\n",
      "2020-08-30 17:41:30,876 - june.simulator - INFO - Date = 2020-03-27 00:00:00, number of deaths =  1, number of infected = 1635\n",
      "2020-08-30 17:41:31,866 - june.simulator - INFO - Date = 2020-03-27 01:00:00, number of deaths =  1, number of infected = 1637\n",
      "2020-08-30 17:41:32,528 - june.simulator - INFO - Date = 2020-03-27 09:00:00, number of deaths =  1, number of infected = 1663\n",
      "2020-08-30 17:41:33,845 - june.simulator - INFO - Date = 2020-03-27 10:00:00, number of deaths =  1, number of infected = 1669\n",
      "2020-08-30 17:41:34,467 - june.simulator - INFO - Date = 2020-03-27 13:00:00, number of deaths =  1, number of infected = 1679\n",
      "2020-08-30 17:41:35,332 - june.simulator - INFO - Date = 2020-03-28 00:00:00, number of deaths =  1, number of infected = 1700\n"
     ]
    },
    {
     "name": "stdout",
     "output_type": "stream",
     "text": [
      "2020-08-30 17:41:36,192 - june.simulator - INFO - Date = 2020-03-28 04:00:00, number of deaths =  1, number of infected = 1706\n",
      "2020-08-30 17:41:37,071 - june.simulator - INFO - Date = 2020-03-28 08:00:00, number of deaths =  1, number of infected = 1716\n",
      "2020-08-30 17:41:37,701 - june.simulator - INFO - Date = 2020-03-28 12:00:00, number of deaths =  1, number of infected = 1728\n",
      "2020-08-30 17:41:38,591 - june.simulator - INFO - Date = 2020-03-29 00:00:00, number of deaths =  1, number of infected = 1758\n",
      "2020-08-30 17:41:39,879 - june.simulator - INFO - Date = 2020-03-29 04:00:00, number of deaths =  1, number of infected = 1762\n",
      "2020-08-30 17:41:41,124 - june.simulator - INFO - Date = 2020-03-29 08:00:00, number of deaths =  1, number of infected = 1772\n",
      "2020-08-30 17:41:42,022 - june.simulator - INFO - Date = 2020-03-29 12:00:00, number of deaths =  1, number of infected = 1780\n",
      "2020-08-30 17:41:42,928 - june.simulator - INFO - Date = 2020-03-30 00:00:00, number of deaths =  1, number of infected = 1809\n",
      "2020-08-30 17:41:44,300 - june.simulator - INFO - Date = 2020-03-30 01:00:00, number of deaths =  1, number of infected = 1811\n",
      "2020-08-30 17:41:44,972 - june.simulator - INFO - Date = 2020-03-30 09:00:00, number of deaths =  1, number of infected = 1841\n",
      "2020-08-30 17:41:46,112 - june.simulator - INFO - Date = 2020-03-30 10:00:00, number of deaths =  1, number of infected = 1842\n",
      "2020-08-30 17:41:46,776 - june.simulator - INFO - Date = 2020-03-30 13:00:00, number of deaths =  1, number of infected = 1851\n",
      "2020-08-30 17:41:47,595 - june.simulator - INFO - Date = 2020-03-31 00:00:00, number of deaths =  1, number of infected = 1874\n",
      "2020-08-30 17:41:48,582 - june.simulator - INFO - Date = 2020-03-31 01:00:00, number of deaths =  1, number of infected = 1874\n",
      "2020-08-30 17:41:49,404 - june.simulator - INFO - Date = 2020-03-31 09:00:00, number of deaths =  1, number of infected = 1892\n",
      "2020-08-30 17:41:50,357 - june.simulator - INFO - Date = 2020-03-31 10:00:00, number of deaths =  1, number of infected = 1894\n",
      "2020-08-30 17:41:51,026 - june.simulator - INFO - Date = 2020-03-31 13:00:00, number of deaths =  1, number of infected = 1896\n",
      "2020-08-30 17:41:51,721 - june.simulator - INFO - Date = 2020-04-01 00:00:00, number of deaths =  1, number of infected = 1908\n",
      "2020-08-30 17:41:52,752 - june.simulator - INFO - Date = 2020-04-01 01:00:00, number of deaths =  1, number of infected = 1908\n",
      "2020-08-30 17:41:53,393 - june.simulator - INFO - Date = 2020-04-01 09:00:00, number of deaths =  1, number of infected = 1918\n",
      "2020-08-30 17:41:54,415 - june.simulator - INFO - Date = 2020-04-01 10:00:00, number of deaths =  1, number of infected = 1919\n",
      "2020-08-30 17:41:55,066 - june.simulator - INFO - Date = 2020-04-01 13:00:00, number of deaths =  1, number of infected = 1909\n",
      "2020-08-30 17:41:55,822 - june.simulator - INFO - Date = 2020-04-02 00:00:00, number of deaths =  1, number of infected = 1911\n",
      "2020-08-30 17:41:56,823 - june.simulator - INFO - Date = 2020-04-02 01:00:00, number of deaths =  1, number of infected = 1909\n",
      "2020-08-30 17:41:57,507 - june.simulator - INFO - Date = 2020-04-02 09:00:00, number of deaths =  1, number of infected = 1915\n",
      "2020-08-30 17:41:58,391 - june.simulator - INFO - Date = 2020-04-02 10:00:00, number of deaths =  1, number of infected = 1914\n",
      "2020-08-30 17:41:59,026 - june.simulator - INFO - Date = 2020-04-02 13:00:00, number of deaths =  1, number of infected = 1923\n",
      "2020-08-30 17:41:59,675 - june.simulator - INFO - Date = 2020-04-03 00:00:00, number of deaths =  1, number of infected = 1924\n",
      "2020-08-30 17:42:00,665 - june.simulator - INFO - Date = 2020-04-03 01:00:00, number of deaths =  1, number of infected = 1926\n",
      "2020-08-30 17:42:01,443 - june.simulator - INFO - Date = 2020-04-03 09:00:00, number of deaths =  1, number of infected = 1935\n",
      "2020-08-30 17:42:02,310 - june.simulator - INFO - Date = 2020-04-03 10:00:00, number of deaths =  1, number of infected = 1937\n",
      "2020-08-30 17:42:02,988 - june.simulator - INFO - Date = 2020-04-03 13:00:00, number of deaths =  1, number of infected = 1937\n",
      "2020-08-30 17:42:03,837 - june.simulator - INFO - Date = 2020-04-04 00:00:00, number of deaths =  1, number of infected = 1937\n",
      "2020-08-30 17:42:04,730 - june.simulator - INFO - Date = 2020-04-04 04:00:00, number of deaths =  1, number of infected = 1938\n",
      "2020-08-30 17:42:05,669 - june.simulator - INFO - Date = 2020-04-04 08:00:00, number of deaths =  1, number of infected = 1932\n",
      "2020-08-30 17:42:06,347 - june.simulator - INFO - Date = 2020-04-04 12:00:00, number of deaths =  1, number of infected = 1928\n",
      "2020-08-30 17:42:07,432 - june.simulator - INFO - Date = 2020-04-05 00:00:00, number of deaths =  1, number of infected = 1916\n",
      "2020-08-30 17:42:08,395 - june.simulator - INFO - Date = 2020-04-05 04:00:00, number of deaths =  1, number of infected = 1906\n",
      "2020-08-30 17:42:09,277 - june.simulator - INFO - Date = 2020-04-05 08:00:00, number of deaths =  1, number of infected = 1915\n",
      "2020-08-30 17:42:09,892 - june.simulator - INFO - Date = 2020-04-05 12:00:00, number of deaths =  1, number of infected = 1912\n",
      "2020-08-30 17:42:10,531 - june.simulator - INFO - Date = 2020-04-06 00:00:00, number of deaths =  1, number of infected = 1900\n",
      "2020-08-30 17:42:11,513 - june.simulator - INFO - Date = 2020-04-06 01:00:00, number of deaths =  1, number of infected = 1902\n",
      "2020-08-30 17:42:12,148 - june.simulator - INFO - Date = 2020-04-06 09:00:00, number of deaths =  1, number of infected = 1903\n",
      "2020-08-30 17:42:12,991 - june.simulator - INFO - Date = 2020-04-06 10:00:00, number of deaths =  1, number of infected = 1898\n",
      "2020-08-30 17:42:13,612 - june.simulator - INFO - Date = 2020-04-06 13:00:00, number of deaths =  1, number of infected = 1892\n",
      "2020-08-30 17:42:14,250 - june.simulator - INFO - Date = 2020-04-07 00:00:00, number of deaths =  1, number of infected = 1879\n",
      "2020-08-30 17:42:15,202 - june.simulator - INFO - Date = 2020-04-07 01:00:00, number of deaths =  1, number of infected = 1874\n",
      "2020-08-30 17:42:15,838 - june.simulator - INFO - Date = 2020-04-07 09:00:00, number of deaths =  1, number of infected = 1871\n",
      "2020-08-30 17:42:16,687 - june.simulator - INFO - Date = 2020-04-07 10:00:00, number of deaths =  1, number of infected = 1870\n",
      "2020-08-30 17:42:17,301 - june.simulator - INFO - Date = 2020-04-07 13:00:00, number of deaths =  1, number of infected = 1864\n",
      "2020-08-30 17:42:17,940 - june.simulator - INFO - Date = 2020-04-08 00:00:00, number of deaths =  1, number of infected = 1849\n",
      "2020-08-30 17:42:18,894 - june.simulator - INFO - Date = 2020-04-08 01:00:00, number of deaths =  1, number of infected = 1846\n",
      "2020-08-30 17:42:19,532 - june.simulator - INFO - Date = 2020-04-08 09:00:00, number of deaths =  1, number of infected = 1836\n",
      "2020-08-30 17:42:20,384 - june.simulator - INFO - Date = 2020-04-08 10:00:00, number of deaths =  1, number of infected = 1832\n",
      "2020-08-30 17:42:20,995 - june.simulator - INFO - Date = 2020-04-08 13:00:00, number of deaths =  1, number of infected = 1823\n",
      "2020-08-30 17:42:21,630 - june.simulator - INFO - Date = 2020-04-09 00:00:00, number of deaths =  1, number of infected = 1804\n"
     ]
    }
   ],
   "source": [
    "%%time\n",
    "simulator.run()"
   ]
  },
  {
   "cell_type": "markdown",
   "metadata": {},
   "source": [
    "While the simulation runs (and afterwards) we can launch the visualization webpage by running\n",
    "```python june/visualizer.py path/to/results``` "
   ]
  },
  {
   "cell_type": "markdown",
   "metadata": {},
   "source": [
    "# Getting the results"
   ]
  },
  {
   "cell_type": "markdown",
   "metadata": {},
   "source": [
    "All results are stored in a json file specified in the ``save_path`` variable in the config file. We can also access it from ``world.logger`` directly."
   ]
  },
  {
   "cell_type": "code",
   "execution_count": 23,
   "metadata": {},
   "outputs": [],
   "source": [
    "import pandas as pd"
   ]
  },
  {
   "cell_type": "code",
   "execution_count": 24,
   "metadata": {},
   "outputs": [
    {
     "ename": "KeyError",
     "evalue": "\"Unable to open object (object 'locations' doesn't exist)\"",
     "output_type": "error",
     "traceback": [
      "\u001b[0;31m---------------------------------------------------------------------------\u001b[0m",
      "\u001b[0;31mKeyError\u001b[0m                                  Traceback (most recent call last)",
      "\u001b[0;32m<ipython-input-24-bf780a9cbc07>\u001b[0m in \u001b[0;36m<module>\u001b[0;34m\u001b[0m\n\u001b[0;32m----> 1\u001b[0;31m \u001b[0mread\u001b[0m \u001b[0;34m=\u001b[0m \u001b[0mReadLogger\u001b[0m\u001b[0;34m(\u001b[0m\u001b[0;34m)\u001b[0m\u001b[0;34m\u001b[0m\u001b[0;34m\u001b[0m\u001b[0m\n\u001b[0m",
      "\u001b[0;32m~/JUNE/june/logger/read_logger.py\u001b[0m in \u001b[0;36m__init__\u001b[0;34m(self, output_path, output_file_name, light_logger)\u001b[0m\n\u001b[1;32m     33\u001b[0m         \u001b[0mself\u001b[0m\u001b[0;34m.\u001b[0m\u001b[0mload_population_data\u001b[0m\u001b[0;34m(\u001b[0m\u001b[0mself\u001b[0m\u001b[0;34m.\u001b[0m\u001b[0mlight_logger\u001b[0m\u001b[0;34m)\u001b[0m\u001b[0;34m\u001b[0m\u001b[0;34m\u001b[0m\u001b[0m\n\u001b[1;32m     34\u001b[0m         \u001b[0mself\u001b[0m\u001b[0;34m.\u001b[0m\u001b[0mload_infected_data\u001b[0m\u001b[0;34m(\u001b[0m\u001b[0;34m)\u001b[0m\u001b[0;34m\u001b[0m\u001b[0;34m\u001b[0m\u001b[0m\n\u001b[0;32m---> 35\u001b[0;31m         \u001b[0mself\u001b[0m\u001b[0;34m.\u001b[0m\u001b[0mload_infection_location\u001b[0m\u001b[0;34m(\u001b[0m\u001b[0;34m)\u001b[0m\u001b[0;34m\u001b[0m\u001b[0;34m\u001b[0m\u001b[0m\n\u001b[0m\u001b[1;32m     36\u001b[0m         \u001b[0mself\u001b[0m\u001b[0;34m.\u001b[0m\u001b[0mstart_date\u001b[0m \u001b[0;34m=\u001b[0m \u001b[0mmin\u001b[0m\u001b[0;34m(\u001b[0m\u001b[0mself\u001b[0m\u001b[0;34m.\u001b[0m\u001b[0minfections_df\u001b[0m\u001b[0;34m.\u001b[0m\u001b[0mindex\u001b[0m\u001b[0;34m)\u001b[0m\u001b[0;34m\u001b[0m\u001b[0;34m\u001b[0m\u001b[0m\n\u001b[1;32m     37\u001b[0m         \u001b[0mself\u001b[0m\u001b[0;34m.\u001b[0m\u001b[0mend_date\u001b[0m \u001b[0;34m=\u001b[0m \u001b[0mmax\u001b[0m\u001b[0;34m(\u001b[0m\u001b[0mself\u001b[0m\u001b[0;34m.\u001b[0m\u001b[0minfections_df\u001b[0m\u001b[0;34m.\u001b[0m\u001b[0mindex\u001b[0m\u001b[0;34m)\u001b[0m\u001b[0;34m\u001b[0m\u001b[0;34m\u001b[0m\u001b[0m\n",
      "\u001b[0;32m~/JUNE/june/logger/read_logger.py\u001b[0m in \u001b[0;36mload_infection_location\u001b[0;34m(self)\u001b[0m\n\u001b[1;32m    292\u001b[0m         \"\"\"\n\u001b[1;32m    293\u001b[0m         \u001b[0;32mwith\u001b[0m \u001b[0mh5py\u001b[0m\u001b[0;34m.\u001b[0m\u001b[0mFile\u001b[0m\u001b[0;34m(\u001b[0m\u001b[0mself\u001b[0m\u001b[0;34m.\u001b[0m\u001b[0mfile_path\u001b[0m\u001b[0;34m,\u001b[0m \u001b[0;34m\"r\"\u001b[0m\u001b[0;34m,\u001b[0m \u001b[0mlibver\u001b[0m\u001b[0;34m=\u001b[0m\u001b[0;34m\"latest\"\u001b[0m\u001b[0;34m,\u001b[0m \u001b[0mswmr\u001b[0m\u001b[0;34m=\u001b[0m\u001b[0;32mTrue\u001b[0m\u001b[0;34m)\u001b[0m \u001b[0;32mas\u001b[0m \u001b[0mf\u001b[0m\u001b[0;34m:\u001b[0m\u001b[0;34m\u001b[0m\u001b[0;34m\u001b[0m\u001b[0m\n\u001b[0;32m--> 294\u001b[0;31m             \u001b[0mlocations\u001b[0m \u001b[0;34m=\u001b[0m \u001b[0mf\u001b[0m\u001b[0;34m[\u001b[0m\u001b[0;34m\"locations\"\u001b[0m\u001b[0;34m]\u001b[0m\u001b[0;34m\u001b[0m\u001b[0;34m\u001b[0m\u001b[0m\n\u001b[0m\u001b[1;32m    295\u001b[0m             \u001b[0minfection_location\u001b[0m \u001b[0;34m=\u001b[0m \u001b[0;34m[\u001b[0m\u001b[0;34m]\u001b[0m\u001b[0;34m\u001b[0m\u001b[0;34m\u001b[0m\u001b[0m\n\u001b[1;32m    296\u001b[0m             \u001b[0mnew_infected_ids\u001b[0m \u001b[0;34m=\u001b[0m \u001b[0;34m[\u001b[0m\u001b[0;34m]\u001b[0m\u001b[0;34m\u001b[0m\u001b[0;34m\u001b[0m\u001b[0m\n",
      "\u001b[0;32mh5py/_objects.pyx\u001b[0m in \u001b[0;36mh5py._objects.with_phil.wrapper\u001b[0;34m()\u001b[0m\n",
      "\u001b[0;32mh5py/_objects.pyx\u001b[0m in \u001b[0;36mh5py._objects.with_phil.wrapper\u001b[0;34m()\u001b[0m\n",
      "\u001b[0;32m~/.local/lib/python3.8/site-packages/h5py/_hl/group.py\u001b[0m in \u001b[0;36m__getitem__\u001b[0;34m(self, name)\u001b[0m\n\u001b[1;32m    262\u001b[0m                 \u001b[0;32mraise\u001b[0m \u001b[0mValueError\u001b[0m\u001b[0;34m(\u001b[0m\u001b[0;34m\"Invalid HDF5 object reference\"\u001b[0m\u001b[0;34m)\u001b[0m\u001b[0;34m\u001b[0m\u001b[0;34m\u001b[0m\u001b[0m\n\u001b[1;32m    263\u001b[0m         \u001b[0;32melse\u001b[0m\u001b[0;34m:\u001b[0m\u001b[0;34m\u001b[0m\u001b[0;34m\u001b[0m\u001b[0m\n\u001b[0;32m--> 264\u001b[0;31m             \u001b[0moid\u001b[0m \u001b[0;34m=\u001b[0m \u001b[0mh5o\u001b[0m\u001b[0;34m.\u001b[0m\u001b[0mopen\u001b[0m\u001b[0;34m(\u001b[0m\u001b[0mself\u001b[0m\u001b[0;34m.\u001b[0m\u001b[0mid\u001b[0m\u001b[0;34m,\u001b[0m \u001b[0mself\u001b[0m\u001b[0;34m.\u001b[0m\u001b[0m_e\u001b[0m\u001b[0;34m(\u001b[0m\u001b[0mname\u001b[0m\u001b[0;34m)\u001b[0m\u001b[0;34m,\u001b[0m \u001b[0mlapl\u001b[0m\u001b[0;34m=\u001b[0m\u001b[0mself\u001b[0m\u001b[0;34m.\u001b[0m\u001b[0m_lapl\u001b[0m\u001b[0;34m)\u001b[0m\u001b[0;34m\u001b[0m\u001b[0;34m\u001b[0m\u001b[0m\n\u001b[0m\u001b[1;32m    265\u001b[0m \u001b[0;34m\u001b[0m\u001b[0m\n\u001b[1;32m    266\u001b[0m         \u001b[0motype\u001b[0m \u001b[0;34m=\u001b[0m \u001b[0mh5i\u001b[0m\u001b[0;34m.\u001b[0m\u001b[0mget_type\u001b[0m\u001b[0;34m(\u001b[0m\u001b[0moid\u001b[0m\u001b[0;34m)\u001b[0m\u001b[0;34m\u001b[0m\u001b[0;34m\u001b[0m\u001b[0m\n",
      "\u001b[0;32mh5py/_objects.pyx\u001b[0m in \u001b[0;36mh5py._objects.with_phil.wrapper\u001b[0;34m()\u001b[0m\n",
      "\u001b[0;32mh5py/_objects.pyx\u001b[0m in \u001b[0;36mh5py._objects.with_phil.wrapper\u001b[0;34m()\u001b[0m\n",
      "\u001b[0;32mh5py/h5o.pyx\u001b[0m in \u001b[0;36mh5py.h5o.open\u001b[0;34m()\u001b[0m\n",
      "\u001b[0;31mKeyError\u001b[0m: \"Unable to open object (object 'locations' doesn't exist)\""
     ]
    }
   ],
   "source": [
    "read = ReadLogger()"
   ]
  },
  {
   "cell_type": "markdown",
   "metadata": {},
   "source": [
    "## Hospital data and how it changed over time"
   ]
  },
  {
   "cell_type": "code",
   "execution_count": null,
   "metadata": {},
   "outputs": [],
   "source": [
    "hospitals_df = read.load_hospital_capacity()"
   ]
  },
  {
   "cell_type": "code",
   "execution_count": null,
   "metadata": {},
   "outputs": [],
   "source": [
    "hospitals_df.head(3)"
   ]
  },
  {
   "cell_type": "code",
   "execution_count": null,
   "metadata": {},
   "outputs": [],
   "source": [
    "hospitals_characteristics_df = read.load_hospital_characteristics()"
   ]
  },
  {
   "cell_type": "code",
   "execution_count": null,
   "metadata": {},
   "outputs": [],
   "source": [
    "hospitals_characteristics_df"
   ]
  },
  {
   "cell_type": "markdown",
   "metadata": {},
   "source": [
    "## where did infections happen?"
   ]
  },
  {
   "cell_type": "code",
   "execution_count": null,
   "metadata": {},
   "outputs": [],
   "source": [
    "infection_locations = read.get_locations_infections()"
   ]
  },
  {
   "cell_type": "code",
   "execution_count": null,
   "metadata": {},
   "outputs": [],
   "source": [
    "unique_locations, counts_locations = np.unique(\n",
    "                np.array(infection_locations),\n",
    "                return_counts=True)\n",
    "\n",
    "location_counts_df = pd.DataFrame(\n",
    "    {'locations': unique_locations,\n",
    "    'counts': counts_locations}\n",
    ")\n",
    "location_counts_df.set_index('locations', inplace=True)"
   ]
  },
  {
   "cell_type": "code",
   "execution_count": null,
   "metadata": {},
   "outputs": [],
   "source": [
    "location_counts_df['percent_infections']= 100*(location_counts_df['counts'])/location_counts_df.values.sum()"
   ]
  },
  {
   "cell_type": "code",
   "execution_count": null,
   "metadata": {},
   "outputs": [],
   "source": [
    "import matplotlib.ticker as mtick\n",
    "\n",
    "ax = location_counts_df['percent_infections'].sort_values().plot.bar()\n",
    "ax.yaxis.set_major_formatter(mtick.PercentFormatter())\n",
    "plt.ylabel('Percentage of infections at location')\n",
    "plt.xlabel('location')\n"
   ]
  },
  {
   "cell_type": "code",
   "execution_count": null,
   "metadata": {},
   "outputs": [],
   "source": [
    "# Find outbreaks"
   ]
  },
  {
   "cell_type": "code",
   "execution_count": null,
   "metadata": {},
   "outputs": [],
   "source": [
    "unique_id, count_id =  np.unique(\n",
    "        np.array(read.locations_df['location_id'].sum()),\n",
    "        return_counts=True\n",
    ")"
   ]
  },
  {
   "cell_type": "code",
   "execution_count": null,
   "metadata": {},
   "outputs": [],
   "source": [
    "unique_id[np.argsort(count_id)[-5:]]"
   ]
  },
  {
   "cell_type": "code",
   "execution_count": null,
   "metadata": {},
   "outputs": [],
   "source": [
    "count_id[np.argsort(count_id)[-5:]]"
   ]
  },
  {
   "cell_type": "code",
   "execution_count": null,
   "metadata": {},
   "outputs": [],
   "source": [
    "weekly_infections=read.locations_df.resample('W').sum()"
   ]
  },
  {
   "cell_type": "code",
   "execution_count": null,
   "metadata": {},
   "outputs": [],
   "source": [
    "for location in unique_locations:\n",
    "    weekly_infections[str(location)] = weekly_infections.apply(\n",
    "        lambda x: x.location.count(str(location)), axis=1\n",
    "    )"
   ]
  },
  {
   "cell_type": "code",
   "execution_count": null,
   "metadata": {},
   "outputs": [],
   "source": [
    "weekly_infections.iloc[:,3:].plot()"
   ]
  },
  {
   "cell_type": "code",
   "execution_count": null,
   "metadata": {},
   "outputs": [],
   "source": [
    "for location in unique_locations:\n",
    "    read.locations_df[str(location)] = read.locations_df.apply(\n",
    "        lambda x: x.location.count(str(location)), axis=1\n",
    "    )"
   ]
  },
  {
   "cell_type": "code",
   "execution_count": null,
   "metadata": {},
   "outputs": [],
   "source": [
    "read.locations_df.index = pd.to_datetime(read.locations_df.index)\n"
   ]
  },
  {
   "cell_type": "code",
   "execution_count": null,
   "metadata": {},
   "outputs": [],
   "source": [
    "read.locations_df.iloc[:,3:].plot()"
   ]
  },
  {
   "cell_type": "markdown",
   "metadata": {},
   "source": [
    "## rate of infection"
   ]
  },
  {
   "cell_type": "code",
   "execution_count": null,
   "metadata": {},
   "outputs": [],
   "source": [
    "r_df = read.get_r()"
   ]
  },
  {
   "cell_type": "code",
   "execution_count": null,
   "metadata": {},
   "outputs": [],
   "source": [
    "from june.policy import SocialDistancing\n",
    "r_df.plot()\n",
    "colors = [\"yellow\", \"orange\", 'blue']\n",
    "for policy in policies.policies:\n",
    "    if isinstance(policy, SocialDistancing):\n",
    "        plt.axvspan(policy.start_time, \n",
    "                policy.end_time,\n",
    "                facecolor=colors.pop(),\n",
    "                alpha=0.2)\n",
    "plt.axhline(y=1, linestyle='dashed', color='gray')\n",
    "plt.xlabel('Date')\n",
    "plt.ylim(0,3)\n",
    "plt.ylabel('R')"
   ]
  },
  {
   "cell_type": "markdown",
   "metadata": {},
   "source": [
    "## World infection curves, and by super area"
   ]
  },
  {
   "cell_type": "code",
   "execution_count": null,
   "metadata": {},
   "outputs": [],
   "source": [
    "%%time\n",
    "world_df = read.world_summary()"
   ]
  },
  {
   "cell_type": "code",
   "execution_count": null,
   "metadata": {},
   "outputs": [],
   "source": [
    "fig, ax = plt.subplots()\n",
    "world_df['daily_infections'].resample('D').sum().plot(ax=ax)\n",
    "for policy in policies.policies:\n",
    "    plt.axvspan(policy.start_time, \n",
    "                policy.end_time,\n",
    "                alpha=0.01)\n",
    "plt.axvline('2020-03-23',\n",
    "           linestyle='dashed',\n",
    "           color='indianred')\n",
    "ax.set_ylabel('# daily infections')\n",
    "ax.set_xlabel('Date')"
   ]
  },
  {
   "cell_type": "code",
   "execution_count": null,
   "metadata": {},
   "outputs": [],
   "source": [
    "fig, ax = plt.subplots()\n",
    "world_df['daily_hospital_admissions'].resample('D').sum().plot(ax=ax)\n",
    "\n",
    "plt.axvline('2020-04-01',\n",
    "           linestyle='dashed',\n",
    "           color='indianred')\n",
    "ax.set_ylabel('# daily hospital admissions')\n",
    "ax.set_xlabel('Date')"
   ]
  },
  {
   "cell_type": "code",
   "execution_count": null,
   "metadata": {},
   "outputs": [],
   "source": [
    "fig, ax = plt.subplots()\n",
    "world_df['current_infected'].plot(ax=ax)\n",
    "\n",
    "ax.set_ylabel('# Infected')\n",
    "ax.set_xlabel('Date')"
   ]
  },
  {
   "cell_type": "code",
   "execution_count": null,
   "metadata": {},
   "outputs": [],
   "source": [
    "world_df.plot()\n",
    "\n",
    "plt.legend(bbox_to_anchor=(1,1))\n"
   ]
  },
  {
   "cell_type": "code",
   "execution_count": null,
   "metadata": {},
   "outputs": [],
   "source": [
    "read = ReadLogger()"
   ]
  },
  {
   "cell_type": "code",
   "execution_count": null,
   "metadata": {},
   "outputs": [],
   "source": [
    "%%time\n",
    "\n",
    "area_df = read.super_area_summary()"
   ]
  },
  {
   "cell_type": "code",
   "execution_count": null,
   "metadata": {},
   "outputs": [],
   "source": [
    "area_df[area_df.super_area == \"E02003282\"].plot()\n",
    "plt.legend(bbox_to_anchor=(1,1))"
   ]
  },
  {
   "cell_type": "markdown",
   "metadata": {},
   "source": [
    "## World infection curves per age group"
   ]
  },
  {
   "cell_type": "code",
   "execution_count": null,
   "metadata": {},
   "outputs": [],
   "source": [
    "ages_df = read.age_summary([0,10,20,30,40,\n",
    "                  50,60,70,80,90,100])"
   ]
  },
  {
   "cell_type": "code",
   "execution_count": null,
   "metadata": {},
   "outputs": [],
   "source": [
    "for name, group in ages_df.groupby('age_range'):\n",
    "    group['current_infected'].plot(label=name)\n",
    "colors = [\"yellow\", \"orange\",\"blue\"]\n",
    "for policy in policies.policies:\n",
    "    if isinstance(policy, SocialDistancing):\n",
    "        plt.axvspan(policy.start_time, \n",
    "                policy.end_time,\n",
    "                facecolor=colors.pop(), alpha=0.2)\n",
    "plt.legend(bbox_to_anchor=(1,1))\n"
   ]
  },
  {
   "cell_type": "markdown",
   "metadata": {},
   "source": [
    "## Draw some of the symptoms trajectories"
   ]
  },
  {
   "cell_type": "code",
   "execution_count": null,
   "metadata": {},
   "outputs": [],
   "source": [
    "random_trajectories = read.draw_symptom_trajectories(window_length=600,\n",
    "                                        n_people=10)"
   ]
  },
  {
   "cell_type": "code",
   "execution_count": null,
   "metadata": {},
   "outputs": [],
   "source": [
    "from june.infection import SymptomTag"
   ]
  },
  {
   "cell_type": "code",
   "execution_count": null,
   "metadata": {},
   "outputs": [],
   "source": [
    "symptoms_values = [tag.value for tag in SymptomTag]\n",
    "symptoms_names = [tag.name for tag in SymptomTag]\n"
   ]
  },
  {
   "cell_type": "code",
   "execution_count": null,
   "metadata": {},
   "outputs": [],
   "source": [
    "for df_person in random_trajectories:\n",
    "    df_person['symptoms'].plot()\n",
    "plt.ylabel('Symptoms Trajectory')\n",
    "_ = plt.yticks(symptoms_values, symptoms_names)\n",
    "plt.xlabel('Date')"
   ]
  },
  {
   "cell_type": "code",
   "execution_count": null,
   "metadata": {},
   "outputs": [],
   "source": [
    "for df_person in random_trajectories:\n",
    "    df_person['n_secondary_infections'].plot()\n",
    "plt.ylabel('Number of secondary infections')\n",
    "\n",
    "plt.xlabel('Date')"
   ]
  }
 ],
 "metadata": {
  "kernelspec": {
   "display_name": "Python 3",
   "language": "python",
   "name": "python3"
  },
  "language_info": {
   "codemirror_mode": {
    "name": "ipython",
    "version": 3
   },
   "file_extension": ".py",
   "mimetype": "text/x-python",
   "name": "python",
   "nbconvert_exporter": "python",
   "pygments_lexer": "ipython3",
   "version": "3.8.3"
  }
 },
 "nbformat": 4,
 "nbformat_minor": 4
}
