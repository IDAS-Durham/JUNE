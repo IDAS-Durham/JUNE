{
 "cells": [
  {
   "cell_type": "code",
   "execution_count": 1,
   "metadata": {},
   "outputs": [],
   "source": [
    "%load_ext autoreload\n",
    "%autoreload 2"
   ]
  },
  {
   "cell_type": "code",
   "execution_count": 2,
   "metadata": {},
   "outputs": [],
   "source": [
    "import numpy as np\n",
    "import time\n",
    "from datetime import datetime\n",
    "import matplotlib.pyplot as plt\n",
    "import seaborn as sns\n",
    "sns.set_context('notebook')"
   ]
  },
  {
   "cell_type": "code",
   "execution_count": 3,
   "metadata": {},
   "outputs": [
    {
     "name": "stderr",
     "output_type": "stream",
     "text": [
      "No --data argument given - defaulting to:\n",
      "/home/arnau/code/JUNE/data\n",
      "No --configs argument given - defaulting to:\n",
      "/home/arnau/code/JUNE/configs\n"
     ]
    }
   ],
   "source": [
    "from june import World \n",
    "from june.demography.geography import Geography\n",
    "from june.demography import Demography\n",
    "from june.interaction import ContactAveraging\n",
    "from june.infection import Infection\n",
    "from june.infection.transmission import TransmissionConstant\n",
    "from june.groups import Hospitals, Schools, Companies, Households, CareHomes, Cemeteries, Universities\n",
    "from june.groups.leisure import leisure, Cinemas, Pubs, Groceries\n",
    "from june.simulator import Simulator\n",
    "from june.seed import Seed\n",
    "from june.policy import Policy, Policies\n",
    "from june import paths\n",
    "from june.logger.read_logger import ReadLogger\n",
    "from june.infection.infection import InfectionSelector\n",
    "from june.world import generate_world_from_hdf5, generate_world_from_geography"
   ]
  },
  {
   "cell_type": "markdown",
   "metadata": {},
   "source": [
    "# Initialize world\n",
    "\n",
    "To initialize a certain world, we need to add the different components we want to have in it. First we specify what super areas (msoa) we want to create. We have included these ones, because they are known to contain hospitals, schools, care homes, and companies.\n",
    "\n",
    "After creating the geography, we create the different components the worlds need to have such as care homes, companies ..."
   ]
  },
  {
   "cell_type": "code",
   "execution_count": 4,
   "metadata": {},
   "outputs": [
    {
     "name": "stdout",
     "output_type": "stream",
     "text": [
      "2020-06-19 11:32:54,171 - june.demography.geography - INFO - There are 129 areas and 5 super_areas in the world.\n",
      "2020-06-19 11:32:54,175 - june.groups.hospital - INFO - There are 1 hospitals in this geography.\n",
      "2020-06-19 11:32:54,215 - june.groups.school - INFO - There are 19 schools in this geography.\n",
      "2020-06-19 11:32:54,232 - june.groups.school - INFO - No school for the age 0 in this world.\n",
      "2020-06-19 11:32:54,234 - june.groups.school - INFO - No school for the age 1 in this world.\n",
      "2020-06-19 11:32:54,238 - june.groups.school - INFO - No school for the age 2 in this world.\n",
      "2020-06-19 11:32:54,452 - june.groups.carehome - INFO - There are 9 care_homes in this geography.\n",
      "2020-06-19 11:33:01,236 - june.distributors.worker_distributor - INFO - There are 0 who had to be told to stay real\n",
      "CPU times: user 25 s, sys: 844 ms, total: 25.9 s\n",
      "Wall time: 26 s\n"
     ]
    }
   ],
   "source": [
    "%%time \n",
    "\n",
    "geography = Geography.from_file(\n",
    "        {\n",
    "            \"super_area\": [\n",
    "                \"E02003282\",\n",
    "                \"E02001720\",\n",
    "                \"E00088544\",\n",
    "                \"E02002560\",\n",
    "                \"E02002559\",\n",
    "                \"E02004314\",\n",
    "            ]\n",
    "        }\n",
    ")\n",
    "\n",
    "geography.hospitals = Hospitals.for_geography(geography)\n",
    "geography.schools = Schools.for_geography(geography)\n",
    "geography.companies = Companies.for_geography(geography)\n",
    "geography.care_homes = CareHomes.for_geography(geography)\n",
    "geography.universities = Universities.for_super_areas(geography.super_areas)\n",
    "world = generate_world_from_geography(geography, include_households=True, include_commute=True)\n"
   ]
  },
  {
   "cell_type": "markdown",
   "metadata": {},
   "source": [
    "### If it took a long time to run the previous command, it might be a good idea to save the world to reuse it later."
   ]
  },
  {
   "cell_type": "code",
   "execution_count": 5,
   "metadata": {},
   "outputs": [],
   "source": [
    "world.to_hdf5(\"world.hdf5\")"
   ]
  },
  {
   "cell_type": "markdown",
   "metadata": {},
   "source": [
    "If we would like to load the world we saved, we just do"
   ]
  },
  {
   "cell_type": "code",
   "execution_count": 6,
   "metadata": {},
   "outputs": [
    {
     "name": "stdout",
     "output_type": "stream",
     "text": [
      "Loaded chunk 0 of 1\n",
      "Loaded chunk 0 of 1\n"
     ]
    },
    {
     "name": "stderr",
     "output_type": "stream",
     "text": [
      "100%|██████████| 46784/46784 [00:00<00:00, 134587.43it/s]\n"
     ]
    }
   ],
   "source": [
    "world = generate_world_from_hdf5(\"world.hdf5\")"
   ]
  },
  {
   "cell_type": "markdown",
   "metadata": {},
   "source": [
    "you have now a beautiful pre-pandemic world. "
   ]
  },
  {
   "cell_type": "markdown",
   "metadata": {},
   "source": [
    "## Commute, travel and leisure"
   ]
  },
  {
   "cell_type": "markdown",
   "metadata": {},
   "source": [
    "We can add cinemas, pubs, groceries, etc. as well as commute in major cities with"
   ]
  },
  {
   "cell_type": "code",
   "execution_count": 7,
   "metadata": {},
   "outputs": [],
   "source": [
    "# leisure\n",
    "world.cinemas = Cinemas.for_geography(geography)\n",
    "world.pubs = Pubs.for_geography(geography)\n",
    "world.groceries = Groceries.for_super_areas(world.super_areas,\n",
    "                                            venues_per_capita=1/500)"
   ]
  },
  {
   "cell_type": "code",
   "execution_count": 8,
   "metadata": {},
   "outputs": [],
   "source": [
    "# commute\n",
    "#world.initialise_commuting()"
   ]
  },
  {
   "cell_type": "markdown",
   "metadata": {},
   "source": [
    "We are also going to need some cemeteries...geography.cemeteries = Cemeteries()\n"
   ]
  },
  {
   "cell_type": "code",
   "execution_count": 9,
   "metadata": {},
   "outputs": [],
   "source": [
    "world.cemeteries = Cemeteries()"
   ]
  },
  {
   "cell_type": "markdown",
   "metadata": {},
   "source": [
    "# Adding the infection"
   ]
  },
  {
   "cell_type": "markdown",
   "metadata": {},
   "source": [
    "Now, you can play around with different models of infections. The building blocks for an infection are: Transmission and Symptoms. For now, only SymptomsConstant and TransmissionConstant are in a state to be used."
   ]
  },
  {
   "cell_type": "code",
   "execution_count": 10,
   "metadata": {},
   "outputs": [],
   "source": [
    "selector = InfectionSelector.from_file()"
   ]
  },
  {
   "cell_type": "code",
   "execution_count": 11,
   "metadata": {},
   "outputs": [
    {
     "data": {
      "text/plain": [
       "<june.infection.infection.InfectionSelector at 0x7f84e2315eb0>"
      ]
     },
     "execution_count": 11,
     "metadata": {},
     "output_type": "execute_result"
    }
   ],
   "source": [
    "selector"
   ]
  },
  {
   "cell_type": "markdown",
   "metadata": {},
   "source": [
    "# Adding the interaction"
   ]
  },
  {
   "cell_type": "code",
   "execution_count": 12,
   "metadata": {},
   "outputs": [],
   "source": [
    "interaction = ContactAveraging.from_file(selector=selector)\n",
    "#interaction = DefaultInteraction.from_file(selector=selector)"
   ]
  },
  {
   "cell_type": "markdown",
   "metadata": {},
   "source": [
    "Beta are the intensities of the interaction taking place at the different groups"
   ]
  },
  {
   "cell_type": "code",
   "execution_count": 13,
   "metadata": {},
   "outputs": [
    {
     "data": {
      "text/plain": [
       "{'box': 1,\n",
       " 'pub': 1,\n",
       " 'grocery': 1,\n",
       " 'cinema': 1,\n",
       " 'commute_unit': 1.0,\n",
       " 'commute_city_unit': 1.0,\n",
       " 'hospital': 1.0,\n",
       " 'care_home': 1.0,\n",
       " 'company': 1.0,\n",
       " 'school': 1.0,\n",
       " 'household': 1.0,\n",
       " 'university': 1.0}"
      ]
     },
     "execution_count": 13,
     "metadata": {},
     "output_type": "execute_result"
    }
   ],
   "source": [
    "interaction.beta"
   ]
  },
  {
   "cell_type": "markdown",
   "metadata": {},
   "source": [
    "to modify these, simply do"
   ]
  },
  {
   "cell_type": "code",
   "execution_count": 14,
   "metadata": {},
   "outputs": [],
   "source": [
    "interaction.beta['household'] *= 2"
   ]
  },
  {
   "cell_type": "code",
   "execution_count": 15,
   "metadata": {},
   "outputs": [
    {
     "data": {
      "text/plain": [
       "{'box': 1,\n",
       " 'pub': 1,\n",
       " 'grocery': 1,\n",
       " 'cinema': 1,\n",
       " 'commute_unit': 1.0,\n",
       " 'commute_city_unit': 1.0,\n",
       " 'hospital': 1.0,\n",
       " 'care_home': 1.0,\n",
       " 'company': 1.0,\n",
       " 'school': 1.0,\n",
       " 'household': 2.0,\n",
       " 'university': 1.0}"
      ]
     },
     "execution_count": 15,
     "metadata": {},
     "output_type": "execute_result"
    }
   ],
   "source": [
    "interaction.beta"
   ]
  },
  {
   "cell_type": "markdown",
   "metadata": {},
   "source": [
    "moreover this interaction module uses contact matrices, that are different for different groups. These contact matrices shouldnt be modified for now. However they are a combination of conversational contact matrices, and physical contact matrices (see the BBC pandemic paper, from where these matrices are extracted https://www.medrxiv.org/content/10.1101/2020.02.16.20023754v2)\n",
    "\n",
    "There is a parameter, ``alpha`` ($\\alpha$), that combines these two matrices in the following way,\n",
    "\n",
    "\n",
    "$\\beta M \\left(1 + (\\alpha -1) \\right) P$\n",
    "\n",
    "where $\\beta$ is the intensity of the interaction, and $P$ the physical contact matrix. A larger $\\alpha$ produces more physical contacts. It is an overall number, non dependent of the particular group.\n"
   ]
  },
  {
   "cell_type": "code",
   "execution_count": 16,
   "metadata": {},
   "outputs": [
    {
     "data": {
      "text/plain": [
       "2.0"
      ]
     },
     "execution_count": 16,
     "metadata": {},
     "output_type": "execute_result"
    }
   ],
   "source": [
    "interaction.alpha_physical"
   ]
  },
  {
   "cell_type": "code",
   "execution_count": 17,
   "metadata": {},
   "outputs": [],
   "source": [
    "interaction.alpha_physical /= 2"
   ]
  },
  {
   "cell_type": "code",
   "execution_count": 18,
   "metadata": {},
   "outputs": [
    {
     "data": {
      "text/plain": [
       "1.0"
      ]
     },
     "execution_count": 18,
     "metadata": {},
     "output_type": "execute_result"
    }
   ],
   "source": [
    "interaction.alpha_physical"
   ]
  },
  {
   "cell_type": "markdown",
   "metadata": {},
   "source": [
    "# Seed the disease"
   ]
  },
  {
   "cell_type": "markdown",
   "metadata": {},
   "source": [
    "There are two options implemented in the seed at the moment, either you specify the number of cases and these are then homogeneously distributed by population to the different areas, or you use UK data on cases per region. For now use the first case."
   ]
  },
  {
   "cell_type": "code",
   "execution_count": 19,
   "metadata": {},
   "outputs": [],
   "source": [
    "seed = Seed(world.super_areas, selector,)"
   ]
  },
  {
   "cell_type": "code",
   "execution_count": 20,
   "metadata": {},
   "outputs": [],
   "source": [
    "n_cases = 50\n",
    "seed.unleash_virus(n_cases) # play around with the initial number of cases"
   ]
  },
  {
   "cell_type": "markdown",
   "metadata": {},
   "source": [
    "# Set policies"
   ]
  },
  {
   "cell_type": "code",
   "execution_count": 21,
   "metadata": {},
   "outputs": [],
   "source": [
    "social_distance = Policy(policy=\"social_distance\",\n",
    "                         start_time=datetime(2020, 3, 25), \n",
    "                         end_time=datetime(2020, 4, 1))"
   ]
  },
  {
   "cell_type": "code",
   "execution_count": 22,
   "metadata": {},
   "outputs": [],
   "source": [
    "policies = Policies.from_file([social_distance])"
   ]
  },
  {
   "cell_type": "code",
   "execution_count": 23,
   "metadata": {},
   "outputs": [
    {
     "data": {
      "text/plain": [
       "{'alpha factor': 1.0,\n",
       " 'beta factor': {'box': 0.5,\n",
       "  'pub': 0.5,\n",
       "  'grocery': 0.5,\n",
       "  'cinema': 0.5,\n",
       "  'commute_unit': 0.5,\n",
       "  'commute_city_unit': 0.5,\n",
       "  'hospital': 0.5,\n",
       "  'care_home': 0.5,\n",
       "  'company': 0.5,\n",
       "  'school': 0.5,\n",
       "  'household': 1.0,\n",
       "  'university': 0.5}}"
      ]
     },
     "execution_count": 23,
     "metadata": {},
     "output_type": "execute_result"
    }
   ],
   "source": [
    "policies.config['social distancing']"
   ]
  },
  {
   "cell_type": "markdown",
   "metadata": {},
   "source": [
    "# Run the simulation"
   ]
  },
  {
   "cell_type": "markdown",
   "metadata": {},
   "source": [
    "Since the timer configuration is a bit cumbersome, it is read from the config file at ``configs/config_example.yaml``"
   ]
  },
  {
   "cell_type": "code",
   "execution_count": 24,
   "metadata": {},
   "outputs": [],
   "source": [
    "CONFIG_PATH = \"../configs/config_example.yaml\"\n",
    "\n",
    "leisure_instance = leisure.generate_leisure_for_config(\n",
    "world=world, config_filename = CONFIG_PATH\n",
    ")\n",
    "simulator = Simulator.from_file(\n",
    "     world, interaction, selector, \n",
    "    config_filename = CONFIG_PATH,\n",
    "    leisure = leisure_instance,\n",
    "    policies = policies\n",
    ")"
   ]
  },
  {
   "cell_type": "code",
   "execution_count": 25,
   "metadata": {
    "scrolled": true
   },
   "outputs": [
    {
     "name": "stdout",
     "output_type": "stream",
     "text": [
      "2020-06-19 11:33:23,477 - june.simulator - INFO - Starting group_dynamics for 70 days at day 0\n",
      "2020-06-19 11:33:23,478 - june.simulator - INFO - starting the loop ..., at 0 days, to run for 70 days\n",
      "2020-06-19 11:33:26,199 - june.simulator - INFO - Date = 2020-03-07 03:00:00, number of deaths =  0, number of infected = 50\n",
      "2020-06-19 11:33:28,423 - june.simulator - INFO - Date = 2020-03-07 06:00:00, number of deaths =  0, number of infected = 50\n",
      "2020-06-19 11:33:28,806 - june.simulator - INFO - Date = 2020-03-07 09:00:00, number of deaths =  0, number of infected = 50\n",
      "2020-06-19 11:33:30,837 - june.simulator - INFO - Date = 2020-03-08 00:00:00, number of deaths =  0, number of infected = 50\n",
      "2020-06-19 11:33:32,788 - june.simulator - INFO - Date = 2020-03-08 03:00:00, number of deaths =  0, number of infected = 50\n",
      "2020-06-19 11:33:34,746 - june.simulator - INFO - Date = 2020-03-08 06:00:00, number of deaths =  0, number of infected = 50\n",
      "2020-06-19 11:33:35,109 - june.simulator - INFO - Date = 2020-03-08 09:00:00, number of deaths =  0, number of infected = 50\n",
      "2020-06-19 11:33:35,500 - june.simulator - INFO - Date = 2020-03-09 00:00:00, number of deaths =  0, number of infected = 50\n",
      "2020-06-19 11:33:35,890 - june.simulator - INFO - Date = 2020-03-09 01:00:00, number of deaths =  0, number of infected = 50\n",
      "2020-06-19 11:33:36,194 - june.simulator - INFO - Date = 2020-03-09 09:00:00, number of deaths =  0, number of infected = 50\n",
      "2020-06-19 11:33:38,070 - june.simulator - INFO - Date = 2020-03-09 10:00:00, number of deaths =  0, number of infected = 50\n",
      "2020-06-19 11:33:38,438 - june.simulator - INFO - Date = 2020-03-09 13:00:00, number of deaths =  0, number of infected = 50\n",
      "2020-06-19 11:33:38,843 - june.simulator - INFO - Date = 2020-03-10 00:00:00, number of deaths =  0, number of infected = 50\n",
      "2020-06-19 11:33:39,225 - june.simulator - INFO - Date = 2020-03-10 01:00:00, number of deaths =  0, number of infected = 50\n",
      "2020-06-19 11:33:39,534 - june.simulator - INFO - Date = 2020-03-10 09:00:00, number of deaths =  0, number of infected = 50\n",
      "2020-06-19 11:33:41,395 - june.simulator - INFO - Date = 2020-03-10 10:00:00, number of deaths =  0, number of infected = 50\n",
      "2020-06-19 11:33:41,862 - june.simulator - INFO - Date = 2020-03-10 13:00:00, number of deaths =  0, number of infected = 50\n",
      "2020-06-19 11:33:42,320 - june.simulator - INFO - Date = 2020-03-11 00:00:00, number of deaths =  0, number of infected = 50\n",
      "2020-06-19 11:33:42,714 - june.simulator - INFO - Date = 2020-03-11 01:00:00, number of deaths =  0, number of infected = 54\n",
      "2020-06-19 11:33:43,056 - june.simulator - INFO - Date = 2020-03-11 09:00:00, number of deaths =  0, number of infected = 116\n",
      "2020-06-19 11:33:44,943 - june.simulator - INFO - Date = 2020-03-11 10:00:00, number of deaths =  0, number of infected = 124\n",
      "2020-06-19 11:33:45,315 - june.simulator - INFO - Date = 2020-03-11 13:00:00, number of deaths =  0, number of infected = 144\n",
      "2020-06-19 11:33:45,737 - june.simulator - INFO - Date = 2020-03-12 00:00:00, number of deaths =  0, number of infected = 186\n",
      "2020-06-19 11:33:46,185 - june.simulator - INFO - Date = 2020-03-12 01:00:00, number of deaths =  0, number of infected = 191\n",
      "2020-06-19 11:33:46,563 - june.simulator - INFO - Date = 2020-03-12 09:00:00, number of deaths =  0, number of infected = 314\n",
      "2020-06-19 11:33:48,912 - june.simulator - INFO - Date = 2020-03-12 10:00:00, number of deaths =  0, number of infected = 319\n",
      "2020-06-19 11:33:49,324 - june.simulator - INFO - Date = 2020-03-12 13:00:00, number of deaths =  0, number of infected = 333\n",
      "2020-06-19 11:33:49,725 - june.simulator - INFO - Date = 2020-03-13 00:00:00, number of deaths =  0, number of infected = 359\n",
      "2020-06-19 11:33:50,130 - june.simulator - INFO - Date = 2020-03-13 01:00:00, number of deaths =  0, number of infected = 362\n",
      "2020-06-19 11:33:50,499 - june.simulator - INFO - Date = 2020-03-13 09:00:00, number of deaths =  0, number of infected = 525\n",
      "2020-06-19 11:33:52,800 - june.simulator - INFO - Date = 2020-03-13 10:00:00, number of deaths =  0, number of infected = 528\n",
      "2020-06-19 11:33:53,435 - june.simulator - INFO - Date = 2020-03-13 13:00:00, number of deaths =  0, number of infected = 547\n",
      "2020-06-19 11:33:57,252 - june.simulator - INFO - Date = 2020-03-14 00:00:00, number of deaths =  0, number of infected = 576\n",
      "2020-06-19 11:34:02,022 - june.simulator - INFO - Date = 2020-03-14 03:00:00, number of deaths =  0, number of infected = 606\n",
      "2020-06-19 11:34:06,558 - june.simulator - INFO - Date = 2020-03-14 06:00:00, number of deaths =  0, number of infected = 642\n",
      "2020-06-19 11:34:07,207 - june.simulator - INFO - Date = 2020-03-14 09:00:00, number of deaths =  0, number of infected = 682\n",
      "2020-06-19 11:34:10,484 - june.simulator - INFO - Date = 2020-03-15 00:00:00, number of deaths =  0, number of infected = 790\n",
      "2020-06-19 11:34:13,153 - june.simulator - INFO - Date = 2020-03-15 03:00:00, number of deaths =  0, number of infected = 862\n",
      "2020-06-19 11:34:15,646 - june.simulator - INFO - Date = 2020-03-15 06:00:00, number of deaths =  0, number of infected = 930\n",
      "2020-06-19 11:34:16,166 - june.simulator - INFO - Date = 2020-03-15 09:00:00, number of deaths =  0, number of infected = 1001\n",
      "2020-06-19 11:34:16,863 - june.simulator - INFO - Date = 2020-03-16 00:00:00, number of deaths =  0, number of infected = 1248\n",
      "2020-06-19 11:34:17,332 - june.simulator - INFO - Date = 2020-03-16 01:00:00, number of deaths =  0, number of infected = 1276\n",
      "2020-06-19 11:34:18,512 - june.simulator - INFO - Date = 2020-03-16 09:00:00, number of deaths =  0, number of infected = 3762\n",
      "2020-06-19 11:34:20,907 - june.simulator - INFO - Date = 2020-03-16 10:00:00, number of deaths =  0, number of infected = 3808\n",
      "2020-06-19 11:34:21,349 - june.simulator - INFO - Date = 2020-03-16 13:00:00, number of deaths =  0, number of infected = 3966\n",
      "2020-06-19 11:34:21,957 - june.simulator - INFO - Date = 2020-03-17 00:00:00, number of deaths =  0, number of infected = 4331\n",
      "2020-06-19 11:34:22,542 - june.simulator - INFO - Date = 2020-03-17 01:00:00, number of deaths =  0, number of infected = 4363\n",
      "2020-06-19 11:34:26,381 - june.simulator - INFO - Date = 2020-03-17 09:00:00, number of deaths =  0, number of infected = 6804\n",
      "2020-06-19 11:34:29,087 - june.simulator - INFO - Date = 2020-03-17 10:00:00, number of deaths =  0, number of infected = 6855\n",
      "2020-06-19 11:34:29,659 - june.simulator - INFO - Date = 2020-03-17 13:00:00, number of deaths =  0, number of infected = 7005\n",
      "2020-06-19 11:34:30,226 - june.simulator - INFO - Date = 2020-03-18 00:00:00, number of deaths =  0, number of infected = 7231\n",
      "2020-06-19 11:34:30,725 - june.simulator - INFO - Date = 2020-03-18 01:00:00, number of deaths =  0, number of infected = 7257\n",
      "2020-06-19 11:34:38,629 - june.simulator - INFO - Date = 2020-03-18 09:00:00, number of deaths =  0, number of infected = 10106\n",
      "2020-06-19 11:34:40,659 - june.simulator - INFO - Date = 2020-03-18 10:00:00, number of deaths =  0, number of infected = 10138\n",
      "2020-06-19 11:34:41,139 - june.simulator - INFO - Date = 2020-03-18 13:00:00, number of deaths =  0, number of infected = 10319\n",
      "2020-06-19 11:34:41,647 - june.simulator - INFO - Date = 2020-03-19 00:00:00, number of deaths =  0, number of infected = 10558\n",
      "2020-06-19 11:34:42,252 - june.simulator - INFO - Date = 2020-03-19 01:00:00, number of deaths =  0, number of infected = 10734\n",
      "2020-06-19 11:34:59,233 - june.simulator - INFO - Date = 2020-03-19 09:00:00, number of deaths =  0, number of infected = 15562\n",
      "2020-06-19 11:35:01,309 - june.simulator - INFO - Date = 2020-03-19 10:00:00, number of deaths =  0, number of infected = 15773\n",
      "2020-06-19 11:35:01,894 - june.simulator - INFO - Date = 2020-03-19 13:00:00, number of deaths =  0, number of infected = 16409\n",
      "2020-06-19 11:35:02,578 - june.simulator - INFO - Date = 2020-03-20 00:00:00, number of deaths =  0, number of infected = 17672\n",
      "2020-06-19 11:35:03,112 - june.simulator - INFO - Date = 2020-03-20 01:00:00, number of deaths =  0, number of infected = 17871\n",
      "2020-06-19 11:35:22,395 - june.simulator - INFO - Date = 2020-03-20 09:00:00, number of deaths =  0, number of infected = 21892\n",
      "2020-06-19 11:35:24,976 - june.simulator - INFO - Date = 2020-03-20 10:00:00, number of deaths =  0, number of infected = 22072\n",
      "2020-06-19 11:35:25,610 - june.simulator - INFO - Date = 2020-03-20 13:00:00, number of deaths =  0, number of infected = 22647\n",
      "2020-06-19 11:35:28,654 - june.simulator - INFO - Date = 2020-03-21 00:00:00, number of deaths =  0, number of infected = 23590\n",
      "2020-06-19 11:35:32,451 - june.simulator - INFO - Date = 2020-03-21 03:00:00, number of deaths =  0, number of infected = 24175\n",
      "2020-06-19 11:35:35,024 - june.simulator - INFO - Date = 2020-03-21 06:00:00, number of deaths =  0, number of infected = 24766\n",
      "2020-06-19 11:35:35,812 - june.simulator - INFO - Date = 2020-03-21 09:00:00, number of deaths =  0, number of infected = 25313\n",
      "2020-06-19 11:35:38,545 - june.simulator - INFO - Date = 2020-03-22 00:00:00, number of deaths =  0, number of infected = 26190\n",
      "2020-06-19 11:35:41,464 - june.simulator - INFO - Date = 2020-03-22 03:00:00, number of deaths =  0, number of infected = 26893\n",
      "2020-06-19 11:35:44,103 - june.simulator - INFO - Date = 2020-03-22 06:00:00, number of deaths =  0, number of infected = 27616\n",
      "2020-06-19 11:35:44,790 - june.simulator - INFO - Date = 2020-03-22 09:00:00, number of deaths =  0, number of infected = 28279\n",
      "2020-06-19 11:35:45,767 - june.simulator - INFO - Date = 2020-03-23 00:00:00, number of deaths =  0, number of infected = 29260\n",
      "2020-06-19 11:35:46,428 - june.simulator - INFO - Date = 2020-03-23 01:00:00, number of deaths =  0, number of infected = 29395\n",
      "2020-06-19 11:35:48,402 - june.simulator - INFO - Date = 2020-03-23 09:00:00, number of deaths =  0, number of infected = 33066\n",
      "2020-06-19 11:35:50,394 - june.simulator - INFO - Date = 2020-03-23 10:00:00, number of deaths =  0, number of infected = 33202\n",
      "2020-06-19 11:35:51,073 - june.simulator - INFO - Date = 2020-03-23 13:00:00, number of deaths =  0, number of infected = 33918\n",
      "2020-06-19 11:35:51,796 - june.simulator - INFO - Date = 2020-03-24 00:00:00, number of deaths =  2, number of infected = 34587\n",
      "2020-06-19 11:35:52,427 - june.simulator - INFO - Date = 2020-03-24 01:00:00, number of deaths =  2, number of infected = 34647\n",
      "2020-06-19 11:35:53,505 - june.simulator - INFO - Date = 2020-03-24 09:00:00, number of deaths =  2, number of infected = 36807\n",
      "2020-06-19 11:35:55,471 - june.simulator - INFO - Date = 2020-03-24 10:00:00, number of deaths =  2, number of infected = 36868\n",
      "2020-06-19 11:35:56,188 - june.simulator - INFO - Date = 2020-03-24 13:00:00, number of deaths =  2, number of infected = 37366\n",
      "2020-06-19 11:35:56,944 - june.simulator - INFO - Date = 2020-03-25 00:00:00, number of deaths =  2, number of infected = 37615\n",
      "2020-06-19 11:35:57,667 - june.simulator - INFO - Date = 2020-03-25 01:00:00, number of deaths =  2, number of infected = 37655\n",
      "2020-06-19 11:35:58,457 - june.simulator - INFO - Date = 2020-03-25 09:00:00, number of deaths =  2, number of infected = 38679\n",
      "2020-06-19 11:36:00,549 - june.simulator - INFO - Date = 2020-03-25 10:00:00, number of deaths =  2, number of infected = 38717\n",
      "2020-06-19 11:36:01,296 - june.simulator - INFO - Date = 2020-03-25 13:00:00, number of deaths =  2, number of infected = 39015\n",
      "2020-06-19 11:36:02,279 - june.simulator - INFO - Date = 2020-03-26 00:00:00, number of deaths =  3, number of infected = 39217\n",
      "2020-06-19 11:36:03,061 - june.simulator - INFO - Date = 2020-03-26 01:00:00, number of deaths =  3, number of infected = 39315\n",
      "2020-06-19 11:36:03,915 - june.simulator - INFO - Date = 2020-03-26 09:00:00, number of deaths =  3, number of infected = 40185\n",
      "2020-06-19 11:36:06,017 - june.simulator - INFO - Date = 2020-03-26 10:00:00, number of deaths =  3, number of infected = 40321\n",
      "2020-06-19 11:36:06,903 - june.simulator - INFO - Date = 2020-03-26 13:00:00, number of deaths =  3, number of infected = 40770\n",
      "2020-06-19 11:36:07,643 - june.simulator - INFO - Date = 2020-03-27 00:00:00, number of deaths =  3, number of infected = 41278\n",
      "2020-06-19 11:36:08,266 - june.simulator - INFO - Date = 2020-03-27 01:00:00, number of deaths =  3, number of infected = 41340\n",
      "2020-06-19 11:36:08,952 - june.simulator - INFO - Date = 2020-03-27 09:00:00, number of deaths =  4, number of infected = 41849\n",
      "2020-06-19 11:36:10,510 - june.simulator - INFO - Date = 2020-03-27 10:00:00, number of deaths =  5, number of infected = 41916\n",
      "2020-06-19 11:36:11,154 - june.simulator - INFO - Date = 2020-03-27 13:00:00, number of deaths =  5, number of infected = 42253\n",
      "2020-06-19 11:36:12,797 - june.simulator - INFO - Date = 2020-03-28 00:00:00, number of deaths =  6, number of infected = 42527\n",
      "2020-06-19 11:36:14,860 - june.simulator - INFO - Date = 2020-03-28 03:00:00, number of deaths =  6, number of infected = 42769\n",
      "2020-06-19 11:36:16,530 - june.simulator - INFO - Date = 2020-03-28 06:00:00, number of deaths =  9, number of infected = 43005\n",
      "2020-06-19 11:36:17,152 - june.simulator - INFO - Date = 2020-03-28 09:00:00, number of deaths =  9, number of infected = 43243\n",
      "2020-06-19 11:36:18,706 - june.simulator - INFO - Date = 2020-03-29 00:00:00, number of deaths =  10, number of infected = 43349\n",
      "2020-06-19 11:36:20,256 - june.simulator - INFO - Date = 2020-03-29 03:00:00, number of deaths =  10, number of infected = 43549\n",
      "2020-06-19 11:36:22,451 - june.simulator - INFO - Date = 2020-03-29 06:00:00, number of deaths =  11, number of infected = 43704\n",
      "2020-06-19 11:36:23,328 - june.simulator - INFO - Date = 2020-03-29 09:00:00, number of deaths =  11, number of infected = 43885\n",
      "2020-06-19 11:36:24,188 - june.simulator - INFO - Date = 2020-03-30 00:00:00, number of deaths =  13, number of infected = 43953\n",
      "2020-06-19 11:36:24,831 - june.simulator - INFO - Date = 2020-03-30 01:00:00, number of deaths =  13, number of infected = 43954\n",
      "2020-06-19 11:36:25,453 - june.simulator - INFO - Date = 2020-03-30 09:00:00, number of deaths =  13, number of infected = 44070\n",
      "2020-06-19 11:36:27,267 - june.simulator - INFO - Date = 2020-03-30 10:00:00, number of deaths =  13, number of infected = 44082\n",
      "2020-06-19 11:36:27,891 - june.simulator - INFO - Date = 2020-03-30 13:00:00, number of deaths =  14, number of infected = 44239\n",
      "2020-06-19 11:36:28,584 - june.simulator - INFO - Date = 2020-03-31 00:00:00, number of deaths =  18, number of infected = 44254\n",
      "2020-06-19 11:36:29,230 - june.simulator - INFO - Date = 2020-03-31 01:00:00, number of deaths =  18, number of infected = 44255\n",
      "2020-06-19 11:36:29,958 - june.simulator - INFO - Date = 2020-03-31 09:00:00, number of deaths =  20, number of infected = 44276\n",
      "2020-06-19 11:36:31,596 - june.simulator - INFO - Date = 2020-03-31 10:00:00, number of deaths =  20, number of infected = 44279\n",
      "2020-06-19 11:36:32,189 - june.simulator - INFO - Date = 2020-03-31 13:00:00, number of deaths =  20, number of infected = 44406\n",
      "2020-06-19 11:36:32,811 - june.simulator - INFO - Date = 2020-04-01 00:00:00, number of deaths =  25, number of infected = 44316\n",
      "2020-06-19 11:36:33,590 - june.simulator - INFO - Date = 2020-04-01 01:00:00, number of deaths =  25, number of infected = 44318\n",
      "2020-06-19 11:36:34,342 - june.simulator - INFO - Date = 2020-04-01 09:00:00, number of deaths =  26, number of infected = 44242\n",
      "2020-06-19 11:36:35,993 - june.simulator - INFO - Date = 2020-04-01 10:00:00, number of deaths =  27, number of infected = 44233\n",
      "2020-06-19 11:36:36,677 - june.simulator - INFO - Date = 2020-04-01 13:00:00, number of deaths =  29, number of infected = 44346\n",
      "2020-06-19 11:36:37,342 - june.simulator - INFO - Date = 2020-04-02 00:00:00, number of deaths =  36, number of infected = 44154\n",
      "2020-06-19 11:36:37,927 - june.simulator - INFO - Date = 2020-04-02 01:00:00, number of deaths =  36, number of infected = 44130\n",
      "2020-06-19 11:36:38,554 - june.simulator - INFO - Date = 2020-04-02 09:00:00, number of deaths =  41, number of infected = 43925\n",
      "2020-06-19 11:36:40,447 - june.simulator - INFO - Date = 2020-04-02 10:00:00, number of deaths =  42, number of infected = 43901\n",
      "2020-06-19 11:36:41,332 - june.simulator - INFO - Date = 2020-04-02 13:00:00, number of deaths =  43, number of infected = 43953\n",
      "2020-06-19 11:36:42,029 - june.simulator - INFO - Date = 2020-04-03 00:00:00, number of deaths =  47, number of infected = 43625\n",
      "2020-06-19 11:36:42,601 - june.simulator - INFO - Date = 2020-04-03 01:00:00, number of deaths =  47, number of infected = 43588\n",
      "2020-06-19 11:36:43,180 - june.simulator - INFO - Date = 2020-04-03 09:00:00, number of deaths =  51, number of infected = 43292\n",
      "2020-06-19 11:36:44,554 - june.simulator - INFO - Date = 2020-04-03 10:00:00, number of deaths =  51, number of infected = 43260\n",
      "2020-06-19 11:36:45,167 - june.simulator - INFO - Date = 2020-04-03 13:00:00, number of deaths =  55, number of infected = 43251\n",
      "2020-06-19 11:36:46,590 - june.simulator - INFO - Date = 2020-04-04 00:00:00, number of deaths =  63, number of infected = 42741\n",
      "2020-06-19 11:36:47,951 - june.simulator - INFO - Date = 2020-04-04 03:00:00, number of deaths =  65, number of infected = 42697\n",
      "2020-06-19 11:36:49,770 - june.simulator - INFO - Date = 2020-04-04 06:00:00, number of deaths =  66, number of infected = 42632\n",
      "2020-06-19 11:36:50,337 - june.simulator - INFO - Date = 2020-04-04 09:00:00, number of deaths =  68, number of infected = 42544\n",
      "2020-06-19 11:36:51,810 - june.simulator - INFO - Date = 2020-04-05 00:00:00, number of deaths =  80, number of infected = 41619\n",
      "2020-06-19 11:36:53,642 - june.simulator - INFO - Date = 2020-04-05 03:00:00, number of deaths =  80, number of infected = 41486\n",
      "2020-06-19 11:36:55,411 - june.simulator - INFO - Date = 2020-04-05 06:00:00, number of deaths =  81, number of infected = 41348\n",
      "2020-06-19 11:36:56,269 - june.simulator - INFO - Date = 2020-04-05 09:00:00, number of deaths =  84, number of infected = 41214\n",
      "2020-06-19 11:36:56,966 - june.simulator - INFO - Date = 2020-04-06 00:00:00, number of deaths =  96, number of infected = 40170\n",
      "2020-06-19 11:36:57,630 - june.simulator - INFO - Date = 2020-04-06 01:00:00, number of deaths =  96, number of infected = 40106\n",
      "2020-06-19 11:36:58,389 - june.simulator - INFO - Date = 2020-04-06 09:00:00, number of deaths =  106, number of infected = 39520\n",
      "2020-06-19 11:37:00,044 - june.simulator - INFO - Date = 2020-04-06 10:00:00, number of deaths =  108, number of infected = 39440\n",
      "2020-06-19 11:37:00,671 - june.simulator - INFO - Date = 2020-04-06 13:00:00, number of deaths =  112, number of infected = 39291\n",
      "2020-06-19 11:37:01,597 - june.simulator - INFO - Date = 2020-04-07 00:00:00, number of deaths =  125, number of infected = 38464\n",
      "2020-06-19 11:37:02,215 - june.simulator - INFO - Date = 2020-04-07 01:00:00, number of deaths =  125, number of infected = 38389\n",
      "2020-06-19 11:37:02,994 - june.simulator - INFO - Date = 2020-04-07 09:00:00, number of deaths =  130, number of infected = 37739\n",
      "2020-06-19 11:37:04,600 - june.simulator - INFO - Date = 2020-04-07 10:00:00, number of deaths =  131, number of infected = 37666\n",
      "2020-06-19 11:37:05,137 - june.simulator - INFO - Date = 2020-04-07 13:00:00, number of deaths =  134, number of infected = 37453\n",
      "2020-06-19 11:37:05,821 - june.simulator - INFO - Date = 2020-04-08 00:00:00, number of deaths =  143, number of infected = 36454\n",
      "2020-06-19 11:37:06,357 - june.simulator - INFO - Date = 2020-04-08 01:00:00, number of deaths =  143, number of infected = 36350\n",
      "2020-06-19 11:37:06,898 - june.simulator - INFO - Date = 2020-04-08 09:00:00, number of deaths =  150, number of infected = 35633\n",
      "2020-06-19 11:37:08,558 - june.simulator - INFO - Date = 2020-04-08 10:00:00, number of deaths =  150, number of infected = 35544\n",
      "2020-06-19 11:37:09,112 - june.simulator - INFO - Date = 2020-04-08 13:00:00, number of deaths =  154, number of infected = 35261\n",
      "2020-06-19 11:37:09,750 - june.simulator - INFO - Date = 2020-04-09 00:00:00, number of deaths =  165, number of infected = 34222\n",
      "2020-06-19 11:37:10,265 - june.simulator - INFO - Date = 2020-04-09 01:00:00, number of deaths =  166, number of infected = 34128\n",
      "2020-06-19 11:37:10,817 - june.simulator - INFO - Date = 2020-04-09 09:00:00, number of deaths =  171, number of infected = 33352\n",
      "2020-06-19 11:37:12,293 - june.simulator - INFO - Date = 2020-04-09 10:00:00, number of deaths =  172, number of infected = 33262\n",
      "2020-06-19 11:37:12,870 - june.simulator - INFO - Date = 2020-04-09 13:00:00, number of deaths =  174, number of infected = 32985\n",
      "2020-06-19 11:37:13,388 - june.simulator - INFO - Date = 2020-04-10 00:00:00, number of deaths =  186, number of infected = 31902\n",
      "2020-06-19 11:37:13,888 - june.simulator - INFO - Date = 2020-04-10 01:00:00, number of deaths =  188, number of infected = 31800\n",
      "2020-06-19 11:37:14,364 - june.simulator - INFO - Date = 2020-04-10 09:00:00, number of deaths =  197, number of infected = 30995\n",
      "2020-06-19 11:37:15,823 - june.simulator - INFO - Date = 2020-04-10 10:00:00, number of deaths =  199, number of infected = 30905\n",
      "2020-06-19 11:37:16,303 - june.simulator - INFO - Date = 2020-04-10 13:00:00, number of deaths =  203, number of infected = 30619\n",
      "2020-06-19 11:37:17,910 - june.simulator - INFO - Date = 2020-04-11 00:00:00, number of deaths =  205, number of infected = 29463\n",
      "2020-06-19 11:37:19,632 - june.simulator - INFO - Date = 2020-04-11 03:00:00, number of deaths =  207, number of infected = 29169\n",
      "2020-06-19 11:37:21,109 - june.simulator - INFO - Date = 2020-04-11 06:00:00, number of deaths =  214, number of infected = 28874\n",
      "2020-06-19 11:37:21,569 - june.simulator - INFO - Date = 2020-04-11 09:00:00, number of deaths =  220, number of infected = 28547\n",
      "2020-06-19 11:37:22,998 - june.simulator - INFO - Date = 2020-04-12 00:00:00, number of deaths =  234, number of infected = 27000\n",
      "2020-06-19 11:37:24,484 - june.simulator - INFO - Date = 2020-04-12 03:00:00, number of deaths =  236, number of infected = 26678\n",
      "2020-06-19 11:37:26,024 - june.simulator - INFO - Date = 2020-04-12 06:00:00, number of deaths =  241, number of infected = 26375\n",
      "2020-06-19 11:37:26,489 - june.simulator - INFO - Date = 2020-04-12 09:00:00, number of deaths =  242, number of infected = 26092\n",
      "2020-06-19 11:37:26,979 - june.simulator - INFO - Date = 2020-04-13 00:00:00, number of deaths =  249, number of infected = 24537\n",
      "2020-06-19 11:37:27,483 - june.simulator - INFO - Date = 2020-04-13 01:00:00, number of deaths =  249, number of infected = 24447\n",
      "2020-06-19 11:37:27,922 - june.simulator - INFO - Date = 2020-04-13 09:00:00, number of deaths =  252, number of infected = 23618\n",
      "2020-06-19 11:37:29,394 - june.simulator - INFO - Date = 2020-04-13 10:00:00, number of deaths =  253, number of infected = 23505\n",
      "2020-06-19 11:37:29,832 - june.simulator - INFO - Date = 2020-04-13 13:00:00, number of deaths =  256, number of infected = 23223\n",
      "2020-06-19 11:37:30,318 - june.simulator - INFO - Date = 2020-04-14 00:00:00, number of deaths =  261, number of infected = 22114\n",
      "2020-06-19 11:37:30,810 - june.simulator - INFO - Date = 2020-04-14 01:00:00, number of deaths =  263, number of infected = 22018\n",
      "2020-06-19 11:37:31,261 - june.simulator - INFO - Date = 2020-04-14 09:00:00, number of deaths =  270, number of infected = 21212\n",
      "2020-06-19 11:37:32,775 - june.simulator - INFO - Date = 2020-04-14 10:00:00, number of deaths =  271, number of infected = 21102\n",
      "2020-06-19 11:37:33,201 - june.simulator - INFO - Date = 2020-04-14 13:00:00, number of deaths =  274, number of infected = 20835\n",
      "2020-06-19 11:37:33,667 - june.simulator - INFO - Date = 2020-04-15 00:00:00, number of deaths =  283, number of infected = 19662\n",
      "2020-06-19 11:37:34,054 - june.simulator - INFO - Date = 2020-04-15 01:00:00, number of deaths =  283, number of infected = 19566\n",
      "2020-06-19 11:37:34,564 - june.simulator - INFO - Date = 2020-04-15 09:00:00, number of deaths =  292, number of infected = 18807\n",
      "2020-06-19 11:37:36,185 - june.simulator - INFO - Date = 2020-04-15 10:00:00, number of deaths =  294, number of infected = 18704\n",
      "2020-06-19 11:37:36,739 - june.simulator - INFO - Date = 2020-04-15 13:00:00, number of deaths =  297, number of infected = 18419\n",
      "2020-06-19 11:37:37,211 - june.simulator - INFO - Date = 2020-04-16 00:00:00, number of deaths =  301, number of infected = 17321\n",
      "2020-06-19 11:37:37,626 - june.simulator - INFO - Date = 2020-04-16 01:00:00, number of deaths =  303, number of infected = 17219\n",
      "2020-06-19 11:37:38,101 - june.simulator - INFO - Date = 2020-04-16 09:00:00, number of deaths =  315, number of infected = 16446\n",
      "2020-06-19 11:37:39,938 - june.simulator - INFO - Date = 2020-04-16 10:00:00, number of deaths =  316, number of infected = 16331\n",
      "2020-06-19 11:37:40,422 - june.simulator - INFO - Date = 2020-04-16 13:00:00, number of deaths =  318, number of infected = 16064\n",
      "2020-06-19 11:37:40,884 - june.simulator - INFO - Date = 2020-04-17 00:00:00, number of deaths =  321, number of infected = 15016\n",
      "2020-06-19 11:37:41,301 - june.simulator - INFO - Date = 2020-04-17 01:00:00, number of deaths =  322, number of infected = 14929\n",
      "2020-06-19 11:37:41,683 - june.simulator - INFO - Date = 2020-04-17 09:00:00, number of deaths =  328, number of infected = 14227\n",
      "2020-06-19 11:37:43,299 - june.simulator - INFO - Date = 2020-04-17 10:00:00, number of deaths =  330, number of infected = 14135\n",
      "2020-06-19 11:37:43,697 - june.simulator - INFO - Date = 2020-04-17 13:00:00, number of deaths =  332, number of infected = 13876\n",
      "2020-06-19 11:37:45,337 - june.simulator - INFO - Date = 2020-04-18 00:00:00, number of deaths =  344, number of infected = 12976\n",
      "2020-06-19 11:37:47,076 - june.simulator - INFO - Date = 2020-04-18 03:00:00, number of deaths =  346, number of infected = 12702\n",
      "2020-06-19 11:37:48,649 - june.simulator - INFO - Date = 2020-04-18 06:00:00, number of deaths =  349, number of infected = 12419\n",
      "2020-06-19 11:37:48,986 - june.simulator - INFO - Date = 2020-04-18 09:00:00, number of deaths =  350, number of infected = 12165\n",
      "2020-06-19 11:37:50,579 - june.simulator - INFO - Date = 2020-04-19 00:00:00, number of deaths =  356, number of infected = 11037\n",
      "2020-06-19 11:37:52,166 - june.simulator - INFO - Date = 2020-04-19 03:00:00, number of deaths =  359, number of infected = 10821\n",
      "2020-06-19 11:37:53,776 - june.simulator - INFO - Date = 2020-04-19 06:00:00, number of deaths =  360, number of infected = 10569\n",
      "2020-06-19 11:37:54,086 - june.simulator - INFO - Date = 2020-04-19 09:00:00, number of deaths =  361, number of infected = 10349\n",
      "2020-06-19 11:37:54,443 - june.simulator - INFO - Date = 2020-04-20 00:00:00, number of deaths =  371, number of infected = 9309\n",
      "2020-06-19 11:37:54,760 - june.simulator - INFO - Date = 2020-04-20 01:00:00, number of deaths =  371, number of infected = 9247\n",
      "2020-06-19 11:37:55,070 - june.simulator - INFO - Date = 2020-04-20 09:00:00, number of deaths =  378, number of infected = 8666\n",
      "2020-06-19 11:37:56,662 - june.simulator - INFO - Date = 2020-04-20 10:00:00, number of deaths =  378, number of infected = 8596\n",
      "2020-06-19 11:37:56,963 - june.simulator - INFO - Date = 2020-04-20 13:00:00, number of deaths =  381, number of infected = 8422\n",
      "2020-06-19 11:37:57,275 - june.simulator - INFO - Date = 2020-04-21 00:00:00, number of deaths =  390, number of infected = 7763\n",
      "2020-06-19 11:37:57,569 - june.simulator - INFO - Date = 2020-04-21 01:00:00, number of deaths =  391, number of infected = 7702\n",
      "2020-06-19 11:37:57,878 - june.simulator - INFO - Date = 2020-04-21 09:00:00, number of deaths =  397, number of infected = 7268\n",
      "2020-06-19 11:37:59,450 - june.simulator - INFO - Date = 2020-04-21 10:00:00, number of deaths =  398, number of infected = 7221\n",
      "2020-06-19 11:37:59,735 - june.simulator - INFO - Date = 2020-04-21 13:00:00, number of deaths =  399, number of infected = 7061\n",
      "2020-06-19 11:38:00,043 - june.simulator - INFO - Date = 2020-04-22 00:00:00, number of deaths =  406, number of infected = 6495\n",
      "2020-06-19 11:38:00,337 - june.simulator - INFO - Date = 2020-04-22 01:00:00, number of deaths =  406, number of infected = 6454\n",
      "2020-06-19 11:38:00,639 - june.simulator - INFO - Date = 2020-04-22 09:00:00, number of deaths =  412, number of infected = 6084\n",
      "2020-06-19 11:38:02,200 - june.simulator - INFO - Date = 2020-04-22 10:00:00, number of deaths =  413, number of infected = 6028\n",
      "2020-06-19 11:38:02,486 - june.simulator - INFO - Date = 2020-04-22 13:00:00, number of deaths =  415, number of infected = 5890\n",
      "2020-06-19 11:38:02,787 - june.simulator - INFO - Date = 2020-04-23 00:00:00, number of deaths =  419, number of infected = 5421\n",
      "2020-06-19 11:38:03,079 - june.simulator - INFO - Date = 2020-04-23 01:00:00, number of deaths =  420, number of infected = 5391\n",
      "2020-06-19 11:38:03,360 - june.simulator - INFO - Date = 2020-04-23 09:00:00, number of deaths =  425, number of infected = 5070\n",
      "2020-06-19 11:38:04,957 - june.simulator - INFO - Date = 2020-04-23 10:00:00, number of deaths =  426, number of infected = 5031\n",
      "2020-06-19 11:38:05,223 - june.simulator - INFO - Date = 2020-04-23 13:00:00, number of deaths =  426, number of infected = 4900\n",
      "2020-06-19 11:38:05,510 - june.simulator - INFO - Date = 2020-04-24 00:00:00, number of deaths =  431, number of infected = 4492\n",
      "2020-06-19 11:38:05,846 - june.simulator - INFO - Date = 2020-04-24 01:00:00, number of deaths =  433, number of infected = 4450\n",
      "2020-06-19 11:38:06,138 - june.simulator - INFO - Date = 2020-04-24 09:00:00, number of deaths =  439, number of infected = 4179\n",
      "2020-06-19 11:38:07,771 - june.simulator - INFO - Date = 2020-04-24 10:00:00, number of deaths =  439, number of infected = 4157\n",
      "2020-06-19 11:38:08,034 - june.simulator - INFO - Date = 2020-04-24 13:00:00, number of deaths =  439, number of infected = 4069\n",
      "2020-06-19 11:38:09,738 - june.simulator - INFO - Date = 2020-04-25 00:00:00, number of deaths =  443, number of infected = 3745\n",
      "2020-06-19 11:38:11,486 - june.simulator - INFO - Date = 2020-04-25 03:00:00, number of deaths =  443, number of infected = 3653\n",
      "2020-06-19 11:38:13,226 - june.simulator - INFO - Date = 2020-04-25 06:00:00, number of deaths =  444, number of infected = 3578\n",
      "2020-06-19 11:38:13,489 - june.simulator - INFO - Date = 2020-04-25 09:00:00, number of deaths =  445, number of infected = 3506\n",
      "2020-06-19 11:38:15,182 - june.simulator - INFO - Date = 2020-04-26 00:00:00, number of deaths =  449, number of infected = 3166\n",
      "2020-06-19 11:38:16,885 - june.simulator - INFO - Date = 2020-04-26 03:00:00, number of deaths =  449, number of infected = 3102\n",
      "2020-06-19 11:38:18,549 - june.simulator - INFO - Date = 2020-04-26 06:00:00, number of deaths =  451, number of infected = 3047\n",
      "2020-06-19 11:38:18,803 - june.simulator - INFO - Date = 2020-04-26 09:00:00, number of deaths =  453, number of infected = 2987\n",
      "2020-06-19 11:38:19,071 - june.simulator - INFO - Date = 2020-04-27 00:00:00, number of deaths =  460, number of infected = 2711\n",
      "2020-06-19 11:38:19,333 - june.simulator - INFO - Date = 2020-04-27 01:00:00, number of deaths =  460, number of infected = 2692\n",
      "2020-06-19 11:38:19,584 - june.simulator - INFO - Date = 2020-04-27 09:00:00, number of deaths =  463, number of infected = 2572\n",
      "2020-06-19 11:38:21,206 - june.simulator - INFO - Date = 2020-04-27 10:00:00, number of deaths =  463, number of infected = 2560\n",
      "2020-06-19 11:38:21,451 - june.simulator - INFO - Date = 2020-04-27 13:00:00, number of deaths =  463, number of infected = 2518\n",
      "2020-06-19 11:38:21,711 - june.simulator - INFO - Date = 2020-04-28 00:00:00, number of deaths =  464, number of infected = 2343\n",
      "2020-06-19 11:38:21,978 - june.simulator - INFO - Date = 2020-04-28 01:00:00, number of deaths =  464, number of infected = 2321\n",
      "2020-06-19 11:38:22,234 - june.simulator - INFO - Date = 2020-04-28 09:00:00, number of deaths =  465, number of infected = 2212\n",
      "2020-06-19 11:38:23,875 - june.simulator - INFO - Date = 2020-04-28 10:00:00, number of deaths =  466, number of infected = 2203\n",
      "2020-06-19 11:38:24,116 - june.simulator - INFO - Date = 2020-04-28 13:00:00, number of deaths =  468, number of infected = 2159\n",
      "2020-06-19 11:38:24,377 - june.simulator - INFO - Date = 2020-04-29 00:00:00, number of deaths =  470, number of infected = 2017\n",
      "2020-06-19 11:38:24,625 - june.simulator - INFO - Date = 2020-04-29 01:00:00, number of deaths =  470, number of infected = 2009\n",
      "2020-06-19 11:38:24,887 - june.simulator - INFO - Date = 2020-04-29 09:00:00, number of deaths =  470, number of infected = 1904\n",
      "2020-06-19 11:38:26,513 - june.simulator - INFO - Date = 2020-04-29 10:00:00, number of deaths =  470, number of infected = 1894\n",
      "2020-06-19 11:38:26,756 - june.simulator - INFO - Date = 2020-04-29 13:00:00, number of deaths =  471, number of infected = 1870\n",
      "2020-06-19 11:38:27,016 - june.simulator - INFO - Date = 2020-04-30 00:00:00, number of deaths =  474, number of infected = 1761\n",
      "2020-06-19 11:38:27,268 - june.simulator - INFO - Date = 2020-04-30 01:00:00, number of deaths =  475, number of infected = 1746\n",
      "2020-06-19 11:38:27,521 - june.simulator - INFO - Date = 2020-04-30 09:00:00, number of deaths =  479, number of infected = 1677\n",
      "2020-06-19 11:38:29,162 - june.simulator - INFO - Date = 2020-04-30 10:00:00, number of deaths =  479, number of infected = 1667\n",
      "2020-06-19 11:38:29,401 - june.simulator - INFO - Date = 2020-04-30 13:00:00, number of deaths =  481, number of infected = 1641\n",
      "2020-06-19 11:38:29,668 - june.simulator - INFO - Date = 2020-05-01 00:00:00, number of deaths =  485, number of infected = 1549\n",
      "2020-06-19 11:38:29,913 - june.simulator - INFO - Date = 2020-05-01 01:00:00, number of deaths =  485, number of infected = 1543\n",
      "2020-06-19 11:38:30,169 - june.simulator - INFO - Date = 2020-05-01 09:00:00, number of deaths =  486, number of infected = 1480\n",
      "2020-06-19 11:38:31,802 - june.simulator - INFO - Date = 2020-05-01 10:00:00, number of deaths =  486, number of infected = 1470\n",
      "2020-06-19 11:38:32,038 - june.simulator - INFO - Date = 2020-05-01 13:00:00, number of deaths =  487, number of infected = 1451\n",
      "2020-06-19 11:38:33,740 - june.simulator - INFO - Date = 2020-05-02 00:00:00, number of deaths =  490, number of infected = 1349\n",
      "2020-06-19 11:38:35,449 - june.simulator - INFO - Date = 2020-05-02 03:00:00, number of deaths =  493, number of infected = 1313\n",
      "2020-06-19 11:38:37,221 - june.simulator - INFO - Date = 2020-05-02 06:00:00, number of deaths =  493, number of infected = 1294\n",
      "2020-06-19 11:38:37,467 - june.simulator - INFO - Date = 2020-05-02 09:00:00, number of deaths =  494, number of infected = 1274\n",
      "2020-06-19 11:38:39,179 - june.simulator - INFO - Date = 2020-05-03 00:00:00, number of deaths =  497, number of infected = 1172\n",
      "2020-06-19 11:38:40,889 - june.simulator - INFO - Date = 2020-05-03 03:00:00, number of deaths =  497, number of infected = 1160\n",
      "2020-06-19 11:38:42,626 - june.simulator - INFO - Date = 2020-05-03 06:00:00, number of deaths =  497, number of infected = 1145\n",
      "2020-06-19 11:38:42,857 - june.simulator - INFO - Date = 2020-05-03 09:00:00, number of deaths =  499, number of infected = 1122\n",
      "2020-06-19 11:38:43,102 - june.simulator - INFO - Date = 2020-05-04 00:00:00, number of deaths =  501, number of infected = 1066\n",
      "2020-06-19 11:38:43,341 - june.simulator - INFO - Date = 2020-05-04 01:00:00, number of deaths =  501, number of infected = 1058\n",
      "2020-06-19 11:38:43,587 - june.simulator - INFO - Date = 2020-05-04 09:00:00, number of deaths =  502, number of infected = 1023\n",
      "2020-06-19 11:38:45,225 - june.simulator - INFO - Date = 2020-05-04 10:00:00, number of deaths =  502, number of infected = 1017\n",
      "2020-06-19 11:38:45,451 - june.simulator - INFO - Date = 2020-05-04 13:00:00, number of deaths =  503, number of infected = 995\n",
      "2020-06-19 11:38:45,709 - june.simulator - INFO - Date = 2020-05-05 00:00:00, number of deaths =  505, number of infected = 939\n",
      "2020-06-19 11:38:45,956 - june.simulator - INFO - Date = 2020-05-05 01:00:00, number of deaths =  505, number of infected = 931\n",
      "2020-06-19 11:38:46,194 - june.simulator - INFO - Date = 2020-05-05 09:00:00, number of deaths =  507, number of infected = 902\n",
      "2020-06-19 11:38:47,851 - june.simulator - INFO - Date = 2020-05-05 10:00:00, number of deaths =  508, number of infected = 894\n",
      "2020-06-19 11:38:48,079 - june.simulator - INFO - Date = 2020-05-05 13:00:00, number of deaths =  509, number of infected = 876\n",
      "2020-06-19 11:38:48,345 - june.simulator - INFO - Date = 2020-05-06 00:00:00, number of deaths =  512, number of infected = 839\n",
      "2020-06-19 11:38:48,596 - june.simulator - INFO - Date = 2020-05-06 01:00:00, number of deaths =  512, number of infected = 834\n",
      "2020-06-19 11:38:48,834 - june.simulator - INFO - Date = 2020-05-06 09:00:00, number of deaths =  513, number of infected = 792\n",
      "2020-06-19 11:38:50,557 - june.simulator - INFO - Date = 2020-05-06 10:00:00, number of deaths =  514, number of infected = 790\n",
      "2020-06-19 11:38:50,804 - june.simulator - INFO - Date = 2020-05-06 13:00:00, number of deaths =  514, number of infected = 773\n",
      "2020-06-19 11:38:51,071 - june.simulator - INFO - Date = 2020-05-07 00:00:00, number of deaths =  515, number of infected = 736\n",
      "2020-06-19 11:38:51,309 - june.simulator - INFO - Date = 2020-05-07 01:00:00, number of deaths =  516, number of infected = 733\n",
      "2020-06-19 11:38:51,547 - june.simulator - INFO - Date = 2020-05-07 09:00:00, number of deaths =  517, number of infected = 693\n",
      "2020-06-19 11:38:53,218 - june.simulator - INFO - Date = 2020-05-07 10:00:00, number of deaths =  518, number of infected = 689\n",
      "2020-06-19 11:38:53,456 - june.simulator - INFO - Date = 2020-05-07 13:00:00, number of deaths =  518, number of infected = 672\n",
      "2020-06-19 11:38:53,719 - june.simulator - INFO - Date = 2020-05-08 00:00:00, number of deaths =  519, number of infected = 631\n",
      "2020-06-19 11:38:53,957 - june.simulator - INFO - Date = 2020-05-08 01:00:00, number of deaths =  520, number of infected = 629\n",
      "2020-06-19 11:38:54,203 - june.simulator - INFO - Date = 2020-05-08 09:00:00, number of deaths =  520, number of infected = 607\n",
      "2020-06-19 11:38:55,877 - june.simulator - INFO - Date = 2020-05-08 10:00:00, number of deaths =  520, number of infected = 604\n",
      "2020-06-19 11:38:56,115 - june.simulator - INFO - Date = 2020-05-08 13:00:00, number of deaths =  520, number of infected = 594\n",
      "2020-06-19 11:38:57,823 - june.simulator - INFO - Date = 2020-05-09 00:00:00, number of deaths =  520, number of infected = 567\n",
      "2020-06-19 11:38:59,514 - june.simulator - INFO - Date = 2020-05-09 03:00:00, number of deaths =  520, number of infected = 558\n",
      "2020-06-19 11:39:01,269 - june.simulator - INFO - Date = 2020-05-09 06:00:00, number of deaths =  520, number of infected = 548\n",
      "2020-06-19 11:39:01,503 - june.simulator - INFO - Date = 2020-05-09 09:00:00, number of deaths =  520, number of infected = 539\n",
      "2020-06-19 11:39:03,235 - june.simulator - INFO - Date = 2020-05-10 00:00:00, number of deaths =  522, number of infected = 497\n",
      "2020-06-19 11:39:04,965 - june.simulator - INFO - Date = 2020-05-10 03:00:00, number of deaths =  522, number of infected = 484\n",
      "2020-06-19 11:39:06,707 - june.simulator - INFO - Date = 2020-05-10 06:00:00, number of deaths =  522, number of infected = 477\n",
      "2020-06-19 11:39:06,947 - june.simulator - INFO - Date = 2020-05-10 09:00:00, number of deaths =  522, number of infected = 470\n",
      "2020-06-19 11:39:07,209 - june.simulator - INFO - Date = 2020-05-11 00:00:00, number of deaths =  523, number of infected = 434\n",
      "2020-06-19 11:39:07,453 - june.simulator - INFO - Date = 2020-05-11 01:00:00, number of deaths =  523, number of infected = 433\n",
      "2020-06-19 11:39:07,692 - june.simulator - INFO - Date = 2020-05-11 09:00:00, number of deaths =  523, number of infected = 414\n",
      "2020-06-19 11:39:09,312 - june.simulator - INFO - Date = 2020-05-11 10:00:00, number of deaths =  523, number of infected = 412\n",
      "2020-06-19 11:39:09,535 - june.simulator - INFO - Date = 2020-05-11 13:00:00, number of deaths =  523, number of infected = 403\n",
      "2020-06-19 11:39:09,796 - june.simulator - INFO - Date = 2020-05-12 00:00:00, number of deaths =  526, number of infected = 378\n",
      "2020-06-19 11:39:10,035 - june.simulator - INFO - Date = 2020-05-12 01:00:00, number of deaths =  526, number of infected = 376\n",
      "2020-06-19 11:39:10,276 - june.simulator - INFO - Date = 2020-05-12 09:00:00, number of deaths =  526, number of infected = 363\n",
      "2020-06-19 11:39:11,908 - june.simulator - INFO - Date = 2020-05-12 10:00:00, number of deaths =  526, number of infected = 361\n",
      "2020-06-19 11:39:12,137 - june.simulator - INFO - Date = 2020-05-12 13:00:00, number of deaths =  526, number of infected = 357\n",
      "2020-06-19 11:39:12,399 - june.simulator - INFO - Date = 2020-05-13 00:00:00, number of deaths =  527, number of infected = 340\n",
      "2020-06-19 11:39:12,646 - june.simulator - INFO - Date = 2020-05-13 01:00:00, number of deaths =  527, number of infected = 339\n",
      "2020-06-19 11:39:12,875 - june.simulator - INFO - Date = 2020-05-13 09:00:00, number of deaths =  527, number of infected = 323\n",
      "2020-06-19 11:39:14,508 - june.simulator - INFO - Date = 2020-05-13 10:00:00, number of deaths =  527, number of infected = 321\n",
      "2020-06-19 11:39:14,729 - june.simulator - INFO - Date = 2020-05-13 13:00:00, number of deaths =  527, number of infected = 318\n",
      "2020-06-19 11:39:14,972 - june.simulator - INFO - Date = 2020-05-14 00:00:00, number of deaths =  529, number of infected = 303\n",
      "2020-06-19 11:39:15,224 - june.simulator - INFO - Date = 2020-05-14 01:00:00, number of deaths =  529, number of infected = 301\n",
      "2020-06-19 11:39:15,469 - june.simulator - INFO - Date = 2020-05-14 09:00:00, number of deaths =  529, number of infected = 291\n",
      "2020-06-19 11:39:17,137 - june.simulator - INFO - Date = 2020-05-14 10:00:00, number of deaths =  529, number of infected = 290\n",
      "2020-06-19 11:39:17,396 - june.simulator - INFO - Date = 2020-05-14 13:00:00, number of deaths =  529, number of infected = 285\n",
      "2020-06-19 11:39:17,642 - june.simulator - INFO - Date = 2020-05-15 00:00:00, number of deaths =  530, number of infected = 268\n",
      "2020-06-19 11:39:17,904 - june.simulator - INFO - Date = 2020-05-15 01:00:00, number of deaths =  530, number of infected = 265\n",
      "2020-06-19 11:39:18,136 - june.simulator - INFO - Date = 2020-05-15 09:00:00, number of deaths =  530, number of infected = 258\n",
      "2020-06-19 11:39:19,765 - june.simulator - INFO - Date = 2020-05-15 10:00:00, number of deaths =  531, number of infected = 255\n",
      "2020-06-19 11:39:19,995 - june.simulator - INFO - Date = 2020-05-15 13:00:00, number of deaths =  531, number of infected = 252\n",
      "2020-06-19 11:39:21,740 - june.simulator - INFO - Date = 2020-05-16 00:00:00, number of deaths =  531, number of infected = 239\n",
      "CPU times: user 5min 56s, sys: 1.2 s, total: 5min 57s\n",
      "Wall time: 5min 58s\n"
     ]
    }
   ],
   "source": [
    "%%time\n",
    "simulator.run()"
   ]
  },
  {
   "cell_type": "markdown",
   "metadata": {},
   "source": [
    "While the simulation runs (and afterwards) we can launch the visualization webpage by running\n",
    "```python june/visualizer.py path/to/results``` "
   ]
  },
  {
   "cell_type": "markdown",
   "metadata": {},
   "source": [
    "# Getting the results"
   ]
  },
  {
   "cell_type": "markdown",
   "metadata": {},
   "source": [
    "All results are stored in a json file specified in the ``save_path`` variable in the config file. We can also access it from ``world.logger`` directly."
   ]
  },
  {
   "cell_type": "code",
   "execution_count": 49,
   "metadata": {},
   "outputs": [],
   "source": [
    "import pandas as pd"
   ]
  },
  {
   "cell_type": "code",
   "execution_count": 50,
   "metadata": {},
   "outputs": [],
   "source": [
    "read = ReadLogger()"
   ]
  },
  {
   "cell_type": "markdown",
   "metadata": {},
   "source": [
    "## Hospital data and how it changed over time"
   ]
  },
  {
   "cell_type": "code",
   "execution_count": 51,
   "metadata": {},
   "outputs": [],
   "source": [
    "hospitals_df = read.load_hospital_capacity()"
   ]
  },
  {
   "cell_type": "code",
   "execution_count": 52,
   "metadata": {},
   "outputs": [
    {
     "data": {
      "text/html": [
       "<div>\n",
       "<style scoped>\n",
       "    .dataframe tbody tr th:only-of-type {\n",
       "        vertical-align: middle;\n",
       "    }\n",
       "\n",
       "    .dataframe tbody tr th {\n",
       "        vertical-align: top;\n",
       "    }\n",
       "\n",
       "    .dataframe thead th {\n",
       "        text-align: right;\n",
       "    }\n",
       "</style>\n",
       "<table border=\"1\" class=\"dataframe\">\n",
       "  <thead>\n",
       "    <tr style=\"text-align: right;\">\n",
       "      <th></th>\n",
       "      <th>time_stamp</th>\n",
       "      <th>id</th>\n",
       "      <th>n_patients</th>\n",
       "      <th>n_patients_icu</th>\n",
       "    </tr>\n",
       "  </thead>\n",
       "  <tbody>\n",
       "    <tr>\n",
       "      <th>0</th>\n",
       "      <td>2020-03-07T03:00:00.000000</td>\n",
       "      <td>0</td>\n",
       "      <td>0</td>\n",
       "      <td>0</td>\n",
       "    </tr>\n",
       "    <tr>\n",
       "      <th>1</th>\n",
       "      <td>2020-03-07T06:00:00.000000</td>\n",
       "      <td>0</td>\n",
       "      <td>0</td>\n",
       "      <td>0</td>\n",
       "    </tr>\n",
       "    <tr>\n",
       "      <th>2</th>\n",
       "      <td>2020-03-07T09:00:00.000000</td>\n",
       "      <td>0</td>\n",
       "      <td>0</td>\n",
       "      <td>0</td>\n",
       "    </tr>\n",
       "  </tbody>\n",
       "</table>\n",
       "</div>"
      ],
      "text/plain": [
       "                   time_stamp id n_patients n_patients_icu\n",
       "0  2020-03-07T03:00:00.000000  0          0              0\n",
       "1  2020-03-07T06:00:00.000000  0          0              0\n",
       "2  2020-03-07T09:00:00.000000  0          0              0"
      ]
     },
     "execution_count": 52,
     "metadata": {},
     "output_type": "execute_result"
    }
   ],
   "source": [
    "hospitals_df.head(3)"
   ]
  },
  {
   "cell_type": "code",
   "execution_count": 53,
   "metadata": {},
   "outputs": [],
   "source": [
    "hospitals_characteristics_df = read.load_hospital_characteristics()"
   ]
  },
  {
   "cell_type": "code",
   "execution_count": 54,
   "metadata": {},
   "outputs": [
    {
     "data": {
      "text/html": [
       "<div>\n",
       "<style scoped>\n",
       "    .dataframe tbody tr th:only-of-type {\n",
       "        vertical-align: middle;\n",
       "    }\n",
       "\n",
       "    .dataframe tbody tr th {\n",
       "        vertical-align: top;\n",
       "    }\n",
       "\n",
       "    .dataframe thead th {\n",
       "        text-align: right;\n",
       "    }\n",
       "</style>\n",
       "<table border=\"1\" class=\"dataframe\">\n",
       "  <thead>\n",
       "    <tr style=\"text-align: right;\">\n",
       "      <th></th>\n",
       "      <th>longitude</th>\n",
       "      <th>latitude</th>\n",
       "      <th>n_beds</th>\n",
       "      <th>n_icu_beds</th>\n",
       "      <th>trust_code</th>\n",
       "    </tr>\n",
       "  </thead>\n",
       "  <tbody>\n",
       "    <tr>\n",
       "      <th>0</th>\n",
       "      <td>0.688477</td>\n",
       "      <td>51.5625</td>\n",
       "      <td>2115</td>\n",
       "      <td>296</td>\n",
       "      <td>RAJ</td>\n",
       "    </tr>\n",
       "  </tbody>\n",
       "</table>\n",
       "</div>"
      ],
      "text/plain": [
       "   longitude  latitude  n_beds  n_icu_beds trust_code\n",
       "0   0.688477   51.5625    2115         296        RAJ"
      ]
     },
     "execution_count": 54,
     "metadata": {},
     "output_type": "execute_result"
    }
   ],
   "source": [
    "hospitals_characteristics_df"
   ]
  },
  {
   "cell_type": "markdown",
   "metadata": {},
   "source": [
    "## where did infections happen?"
   ]
  },
  {
   "cell_type": "code",
   "execution_count": 55,
   "metadata": {},
   "outputs": [],
   "source": [
    "loc_df = read.get_locations_infections()"
   ]
  },
  {
   "cell_type": "code",
   "execution_count": 57,
   "metadata": {},
   "outputs": [
    {
     "data": {
      "text/plain": [
       "Text(0.5, 0, 'location')"
      ]
     },
     "execution_count": 57,
     "metadata": {},
     "output_type": "execute_result"
    },
    {
     "data": {
      "image/png": "[encoded data removed]",
      "text/plain": [
       "<Figure size 432x288 with 1 Axes>"
      ]
     },
     "metadata": {
      "needs_background": "light"
     },
     "output_type": "display_data"
    }
   ],
   "source": [
    "import matplotlib.ticker as mtick\n",
    "\n",
    "ax = loc_df['percentage_infections'].sort_values().plot.bar()\n",
    "ax.yaxis.set_major_formatter(mtick.PercentFormatter())\n",
    "plt.ylabel('Percentage of infections at location')\n",
    "plt.xlabel('location')\n",
    "#plt.yscale('log')"
   ]
  },
  {
   "cell_type": "markdown",
   "metadata": {},
   "source": [
    "## rate of infection"
   ]
  },
  {
   "cell_type": "code",
   "execution_count": 34,
   "metadata": {},
   "outputs": [
    {
     "name": "stderr",
     "output_type": "stream",
     "text": [
      "/home/arnau/.local/lib/python3.8/site-packages/numpy/core/fromnumeric.py:3334: RuntimeWarning: Mean of empty slice.\n",
      "  return _methods._mean(a, axis=axis, dtype=dtype,\n",
      "/home/arnau/.local/lib/python3.8/site-packages/numpy/core/_methods.py:161: RuntimeWarning: invalid value encountered in double_scalars\n",
      "  ret = ret.dtype.type(ret / rcount)\n"
     ]
    }
   ],
   "source": [
    "r_df = read.get_r()"
   ]
  },
  {
   "cell_type": "code",
   "execution_count": 35,
   "metadata": {},
   "outputs": [
    {
     "data": {
      "text/plain": [
       "Text(0, 0.5, 'R')"
      ]
     },
     "execution_count": 35,
     "metadata": {},
     "output_type": "execute_result"
    },
    {
     "data": {
      "image/png": "[encoded data removed]",
      "text/plain": [
       "<Figure size 432x288 with 1 Axes>"
      ]
     },
     "metadata": {
      "needs_background": "light"
     },
     "output_type": "display_data"
    }
   ],
   "source": [
    "r_df.plot()\n",
    "plt.axvspan(policies.social_distancing_start, \n",
    "            policies.social_distancing_end,\n",
    "            facecolor='y', alpha=0.2)\n",
    "plt.axhline(y=1, linestyle='dashed', color='gray')\n",
    "plt.xlabel('Date')\n",
    "plt.ylabel('R')"
   ]
  },
  {
   "cell_type": "markdown",
   "metadata": {},
   "source": [
    "## World infection curves, and by super area"
   ]
  },
  {
   "cell_type": "code",
   "execution_count": 36,
   "metadata": {},
   "outputs": [],
   "source": [
    "world_df = read.world_summary()"
   ]
  },
  {
   "cell_type": "code",
   "execution_count": 37,
   "metadata": {},
   "outputs": [
    {
     "data": {
      "text/plain": [
       "<matplotlib.legend.Legend at 0x7f84d7965b50>"
      ]
     },
     "execution_count": 37,
     "metadata": {},
     "output_type": "execute_result"
    },
    {
     "data": {
      "image/png": "[encoded data removed]",
      "text/plain": [
       "<Figure size 432x288 with 1 Axes>"
      ]
     },
     "metadata": {
      "needs_background": "light"
     },
     "output_type": "display_data"
    }
   ],
   "source": [
    "world_df.plot()\n",
    "plt.axvspan(policies.social_distancing_start, \n",
    "            policies.social_distancing_end,\n",
    "            facecolor='y', alpha=0.2)\n",
    "plt.legend()"
   ]
  },
  {
   "cell_type": "code",
   "execution_count": 38,
   "metadata": {},
   "outputs": [],
   "source": [
    "area_df = read.super_area_summary()"
   ]
  },
  {
   "cell_type": "code",
   "execution_count": 39,
   "metadata": {},
   "outputs": [
    {
     "data": {
      "text/plain": [
       "<matplotlib.legend.Legend at 0x7f84d86b8490>"
      ]
     },
     "execution_count": 39,
     "metadata": {},
     "output_type": "execute_result"
    },
    {
     "data": {
      "image/png": "[encoded data removed]",
      "text/plain": [
       "<Figure size 432x288 with 1 Axes>"
      ]
     },
     "metadata": {
      "needs_background": "light"
     },
     "output_type": "display_data"
    }
   ],
   "source": [
    "area_df[area_df.super_area == \"E02002512\"].plot()\n",
    "plt.legend()"
   ]
  },
  {
   "cell_type": "markdown",
   "metadata": {},
   "source": [
    "## World infection curves per age group"
   ]
  },
  {
   "cell_type": "code",
   "execution_count": 40,
   "metadata": {},
   "outputs": [],
   "source": [
    "ages_df = read.age_summary([0,10,20,30,40,\n",
    "                  50,60,70,80,90,100])"
   ]
  },
  {
   "cell_type": "code",
   "execution_count": 41,
   "metadata": {},
   "outputs": [
    {
     "data": {
      "text/plain": [
       "<matplotlib.legend.Legend at 0x7f84d79f7ee0>"
      ]
     },
     "execution_count": 41,
     "metadata": {},
     "output_type": "execute_result"
    },
    {
     "data": {
      "image/png": "[encoded data removed]",
      "text/plain": [
       "<Figure size 432x288 with 1 Axes>"
      ]
     },
     "metadata": {
      "needs_background": "light"
     },
     "output_type": "display_data"
    }
   ],
   "source": [
    "for name, group in ages_df.groupby('age_range'):\n",
    "    group['infected'].plot(label=name)\n",
    "plt.axvspan(policies.social_distancing_start, \n",
    "            policies.social_distancing_end,\n",
    "            facecolor='y', alpha=0.2)\n",
    "plt.legend()"
   ]
  },
  {
   "cell_type": "code",
   "execution_count": 42,
   "metadata": {},
   "outputs": [
    {
     "data": {
      "text/plain": [
       "<matplotlib.legend.Legend at 0x7f84d7b40d30>"
      ]
     },
     "execution_count": 42,
     "metadata": {},
     "output_type": "execute_result"
    },
    {
     "data": {
      "image/png": "[encoded data removed]",
      "text/plain": [
       "<Figure size 432x288 with 1 Axes>"
      ]
     },
     "metadata": {
      "needs_background": "light"
     },
     "output_type": "display_data"
    }
   ],
   "source": [
    "for name, group in ages_df.groupby('age_range'):\n",
    "    group['dead'].cumsum().plot(label=name)\n",
    "plt.legend()"
   ]
  },
  {
   "cell_type": "code",
   "execution_count": 43,
   "metadata": {},
   "outputs": [
    {
     "data": {
      "text/plain": [
       "<matplotlib.legend.Legend at 0x7f84d78d1310>"
      ]
     },
     "execution_count": 43,
     "metadata": {},
     "output_type": "execute_result"
    },
    {
     "data": {
      "image/png": "[encoded data removed]",
      "text/plain": [
       "<Figure size 432x288 with 1 Axes>"
      ]
     },
     "metadata": {
      "needs_background": "light"
     },
     "output_type": "display_data"
    }
   ],
   "source": [
    "for name, group in ages_df.groupby('age_range'):\n",
    "    group['susceptible'].plot(label=name)\n",
    "plt.legend()"
   ]
  },
  {
   "cell_type": "markdown",
   "metadata": {},
   "source": [
    "## Draw some of the symptoms trajectories"
   ]
  },
  {
   "cell_type": "code",
   "execution_count": 44,
   "metadata": {},
   "outputs": [],
   "source": [
    "random_trajectories = read.draw_symptom_trajectories(window_length=200,\n",
    "                                        n_people=5)"
   ]
  },
  {
   "cell_type": "code",
   "execution_count": 45,
   "metadata": {},
   "outputs": [],
   "source": [
    "from june.infection import SymptomTag"
   ]
  },
  {
   "cell_type": "code",
   "execution_count": 46,
   "metadata": {},
   "outputs": [],
   "source": [
    "symptoms_values = [tag.value for tag in SymptomTag]\n",
    "symptoms_names = [tag.name for tag in SymptomTag]\n"
   ]
  },
  {
   "cell_type": "code",
   "execution_count": 47,
   "metadata": {},
   "outputs": [
    {
     "data": {
      "text/plain": [
       "Text(0.5, 0, 'Date')"
      ]
     },
     "execution_count": 47,
     "metadata": {},
     "output_type": "execute_result"
    },
    {
     "data": {
      "image/png": "[encoded data removed]",
      "text/plain": [
       "<Figure size 432x288 with 1 Axes>"
      ]
     },
     "metadata": {
      "needs_background": "light"
     },
     "output_type": "display_data"
    }
   ],
   "source": [
    "for df_person in random_trajectories:\n",
    "    df_person['symptoms'].plot()\n",
    "plt.ylabel('Symptoms Trajectory')\n",
    "_ = plt.yticks(symptoms_values, symptoms_names)\n",
    "plt.xlabel('Date')"
   ]
  },
  {
   "cell_type": "code",
   "execution_count": 48,
   "metadata": {},
   "outputs": [
    {
     "data": {
      "text/plain": [
       "Text(0.5, 0, 'Date')"
      ]
     },
     "execution_count": 48,
     "metadata": {},
     "output_type": "execute_result"
    },
    {
     "data": {
      "image/png": "[encoded data removed]",
      "text/plain": [
       "<Figure size 432x288 with 1 Axes>"
      ]
     },
     "metadata": {
      "needs_background": "light"
     },
     "output_type": "display_data"
    }
   ],
   "source": [
    "for df_person in random_trajectories:\n",
    "    df_person['n_secondary_infections'].plot()\n",
    "plt.ylabel('Number of secondary infections')\n",
    "\n",
    "plt.xlabel('Date')"
   ]
  },
  {
   "cell_type": "code",
   "execution_count": null,
   "metadata": {},
   "outputs": [],
   "source": []
  }
 ],
 "metadata": {
  "kernelspec": {
   "display_name": "Python 3",
   "language": "python",
   "name": "python3"
  },
  "language_info": {
   "codemirror_mode": {
    "name": "ipython",
    "version": 3
   },
   "file_extension": ".py",
   "mimetype": "text/x-python",
   "name": "python",
   "nbconvert_exporter": "python",
   "pygments_lexer": "ipython3",
   "version": "3.8.3"
  }
 },
 "nbformat": 4,
 "nbformat_minor": 4
}
