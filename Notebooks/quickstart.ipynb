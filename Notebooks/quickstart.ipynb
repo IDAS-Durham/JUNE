{
 "cells": [
  {
   "cell_type": "code",
   "execution_count": 1,
   "metadata": {},
   "outputs": [],
   "source": [
    "%load_ext autoreload\n",
    "%autoreload 2"
   ]
  },
  {
   "cell_type": "code",
   "execution_count": 2,
   "metadata": {},
   "outputs": [],
   "source": [
    "import numpy as np\n",
    "import time\n",
    "from datetime import datetime\n",
    "import matplotlib.pyplot as plt\n",
    "import seaborn as sns\n",
    "sns.set_context('notebook')"
   ]
  },
  {
   "cell_type": "code",
   "execution_count": 4,
   "metadata": {},
   "outputs": [],
   "source": [
    "from june import World \n",
    "from june.demography.geography import Geography\n",
    "from june.demography import Demography\n",
    "from june.interaction import ContactAveraging\n",
    "from june.infection import Infection\n",
    "from june.infection.transmission import TransmissionConstant\n",
    "from june.groups import Hospitals, Schools, Companies, Households, CareHomes, Cemeteries, Universities\n",
    "from june.groups.leisure import generate_leisure_for_config, Cinemas, Pubs, Groceries\n",
    "from june.simulator import Simulator\n",
    "from june.infection_seed import InfectionSeed\n",
    "from june.policy import Policy, Policies\n",
    "from june import paths\n",
    "from june.hdf5_savers import load_geography_from_hdf5\n",
    "from june.logger.read_logger import ReadLogger\n",
    "from june.infection.infection import InfectionSelector\n",
    "from june.world import generate_world_from_hdf5, generate_world_from_geography"
   ]
  },
  {
   "cell_type": "markdown",
   "metadata": {},
   "source": [
    "# Initialize world\n",
    "\n",
    "To initialize a certain world, we need to add the different components we want to have in it. First we specify what super areas (msoa) we want to create. We have included these ones, because they are known to contain hospitals, schools, care homes, and companies.\n",
    "\n",
    "After creating the geography, we create the different components the worlds need to have such as care homes, companies ..."
   ]
  },
  {
   "cell_type": "code",
   "execution_count": 5,
   "metadata": {},
   "outputs": [
    {
     "name": "stdout",
     "output_type": "stream",
     "text": [
      "2020-07-01 08:50:48,902 - june.demography.geography - INFO - There are 129 areas and 5 super_areas in the world.\n",
      "2020-07-01 08:50:48,917 - june.groups.hospital - INFO - There are 1 hospitals in this geography.\n",
      "2020-07-01 08:50:48,982 - june.groups.school - INFO - There are 19 schools in this geography.\n",
      "2020-07-01 08:50:49,030 - june.groups.school - INFO - No school for the age 0 in this world.\n",
      "2020-07-01 08:50:49,034 - june.groups.school - INFO - No school for the age 1 in this world.\n",
      "2020-07-01 08:50:49,039 - june.groups.school - INFO - No school for the age 2 in this world.\n",
      "2020-07-01 08:50:49,430 - june.groups.carehome - INFO - There are 9 care_homes in this geography.\n",
      "2020-07-01 08:50:55,696 - numexpr.utils - INFO - NumExpr defaulting to 4 threads.\n",
      "2020-07-01 08:51:00,921 - june.distributors.worker_distributor - INFO - There are 0 who had to be told to stay real\n",
      "CPU times: user 40.2 s, sys: 1.22 s, total: 41.4 s\n",
      "Wall time: 41.7 s\n"
     ]
    }
   ],
   "source": [
    "%%time \n",
    "\n",
    "geography = Geography.from_file(\n",
    "        {\n",
    "            \"super_area\": [\n",
    "                \"E02003282\",\n",
    "                \"E02001720\",\n",
    "                \"E00088544\",\n",
    "                \"E02002560\",\n",
    "                \"E02002559\",\n",
    "                \"E02004314\",\n",
    "            ]\n",
    "        }\n",
    ")\n",
    "\n",
    "geography.hospitals = Hospitals.for_geography(geography)\n",
    "geography.schools = Schools.for_geography(geography)\n",
    "geography.companies = Companies.for_geography(geography)\n",
    "geography.care_homes = CareHomes.for_geography(geography)\n",
    "geography.universities = Universities.for_super_areas(geography.super_areas)\n",
    "world = generate_world_from_geography(geography, include_households=True, include_commute=True)\n"
   ]
  },
  {
   "cell_type": "code",
   "execution_count": 6,
   "metadata": {},
   "outputs": [
    {
     "data": {
      "text/plain": [
       "46784"
      ]
     },
     "execution_count": 6,
     "metadata": {},
     "output_type": "execute_result"
    }
   ],
   "source": [
    "len(world.people)"
   ]
  },
  {
   "cell_type": "markdown",
   "metadata": {},
   "source": [
    "### If it took a long time to run the previous command, it might be a good idea to save the world to reuse it later."
   ]
  },
  {
   "cell_type": "code",
   "execution_count": 7,
   "metadata": {},
   "outputs": [],
   "source": [
    "world.to_hdf5(\"world.hdf5\")"
   ]
  },
  {
   "cell_type": "markdown",
   "metadata": {},
   "source": [
    "If we would like to load the world we saved, we just do"
   ]
  },
  {
   "cell_type": "code",
   "execution_count": 8,
   "metadata": {},
   "outputs": [
    {
     "name": "stdout",
     "output_type": "stream",
     "text": [
      "loading population from hdf5 .\n",
      "loading companies from hdf5 .\n",
      "loading households from hdf5 ."
     ]
    },
    {
     "name": "stderr",
     "output_type": "stream",
     "text": [
      " 17%|█▋        | 7819/46784 [00:00<00:00, 78182.43it/s]"
     ]
    },
    {
     "name": "stdout",
     "output_type": "stream",
     "text": [
      "\n",
      "restoring world...\n"
     ]
    },
    {
     "name": "stderr",
     "output_type": "stream",
     "text": [
      "100%|██████████| 46784/46784 [00:00<00:00, 50964.01it/s]\n"
     ]
    }
   ],
   "source": [
    "world = generate_world_from_hdf5(\"world.hdf5\")"
   ]
  },
  {
   "cell_type": "markdown",
   "metadata": {},
   "source": [
    "you have now a beautiful pre-pandemic world. "
   ]
  },
  {
   "cell_type": "markdown",
   "metadata": {},
   "source": [
    "## Commute, travel and leisure"
   ]
  },
  {
   "cell_type": "markdown",
   "metadata": {},
   "source": [
    "We can add cinemas, pubs, groceries, etc. as well as commute in major cities with"
   ]
  },
  {
   "cell_type": "code",
   "execution_count": 9,
   "metadata": {},
   "outputs": [],
   "source": [
    "# leisure\n",
    "geography = load_geography_from_hdf5(\"world.hdf5\")\n",
    "world.cinemas = Cinemas.for_geography(geography)\n",
    "world.pubs = Pubs.for_geography(geography)\n",
    "world.groceries = Groceries.for_super_areas(world.super_areas,\n",
    "                                            venues_per_capita=1/500)"
   ]
  },
  {
   "cell_type": "markdown",
   "metadata": {},
   "source": [
    "We are also going to need some cemeteries...geography.cemeteries = Cemeteries()\n"
   ]
  },
  {
   "cell_type": "code",
   "execution_count": 10,
   "metadata": {},
   "outputs": [],
   "source": [
    "world.cemeteries = Cemeteries()"
   ]
  },
  {
   "cell_type": "markdown",
   "metadata": {},
   "source": [
    "# Adding the infection"
   ]
  },
  {
   "cell_type": "markdown",
   "metadata": {},
   "source": [
    "Now, you can play around with different models of infections. The building blocks for an infection are: Transmission and Symptoms. For now, only SymptomsConstant and TransmissionConstant are in a state to be used."
   ]
  },
  {
   "cell_type": "code",
   "execution_count": 11,
   "metadata": {},
   "outputs": [],
   "source": [
    "selector = InfectionSelector.from_file()"
   ]
  },
  {
   "cell_type": "markdown",
   "metadata": {},
   "source": [
    "# Adding the interaction"
   ]
  },
  {
   "cell_type": "code",
   "execution_count": 12,
   "metadata": {},
   "outputs": [],
   "source": [
    "interaction = ContactAveraging.from_file(selector=selector)"
   ]
  },
  {
   "cell_type": "markdown",
   "metadata": {},
   "source": [
    "Beta are the intensities of the interaction taking place at the different groups"
   ]
  },
  {
   "cell_type": "code",
   "execution_count": 13,
   "metadata": {},
   "outputs": [
    {
     "data": {
      "text/plain": [
       "{'box': 1,\n",
       " 'pub': 0.1,\n",
       " 'grocery': 0.1,\n",
       " 'cinema': 0.1,\n",
       " 'commute_unit': 1.0,\n",
       " 'commute_city_unit': 1.0,\n",
       " 'hospital': 1.0,\n",
       " 'care_home': 1.0,\n",
       " 'company': 0.1,\n",
       " 'school': 0.1,\n",
       " 'household': 0.2,\n",
       " 'university': 0.01}"
      ]
     },
     "execution_count": 13,
     "metadata": {},
     "output_type": "execute_result"
    }
   ],
   "source": [
    "interaction.beta"
   ]
  },
  {
   "cell_type": "markdown",
   "metadata": {},
   "source": [
    "to modify these, simply do"
   ]
  },
  {
   "cell_type": "code",
   "execution_count": 14,
   "metadata": {},
   "outputs": [],
   "source": [
    "interaction.beta['household'] *= 2"
   ]
  },
  {
   "cell_type": "code",
   "execution_count": 15,
   "metadata": {},
   "outputs": [
    {
     "data": {
      "text/plain": [
       "{'box': 1,\n",
       " 'pub': 0.1,\n",
       " 'grocery': 0.1,\n",
       " 'cinema': 0.1,\n",
       " 'commute_unit': 1.0,\n",
       " 'commute_city_unit': 1.0,\n",
       " 'hospital': 1.0,\n",
       " 'care_home': 1.0,\n",
       " 'company': 0.1,\n",
       " 'school': 0.1,\n",
       " 'household': 0.4,\n",
       " 'university': 0.01}"
      ]
     },
     "execution_count": 15,
     "metadata": {},
     "output_type": "execute_result"
    }
   ],
   "source": [
    "interaction.beta"
   ]
  },
  {
   "cell_type": "markdown",
   "metadata": {},
   "source": [
    "moreover this interaction module uses contact matrices, that are different for different groups. These contact matrices shouldnt be modified for now. However they are a combination of conversational contact matrices, and physical contact matrices (see the BBC pandemic paper, from where these matrices are extracted https://www.medrxiv.org/content/10.1101/2020.02.16.20023754v2)\n",
    "\n",
    "There is a parameter, ``alpha`` ($\\alpha$), that combines these two matrices in the following way,\n",
    "\n",
    "\n",
    "$\\beta M \\left(1 + (\\alpha -1) \\right) P$\n",
    "\n",
    "where $\\beta$ is the intensity of the interaction, and $P$ the physical contact matrix. A larger $\\alpha$ produces more physical contacts. It is an overall number, non dependent of the particular group.\n"
   ]
  },
  {
   "cell_type": "code",
   "execution_count": 16,
   "metadata": {},
   "outputs": [
    {
     "data": {
      "text/plain": [
       "2.0"
      ]
     },
     "execution_count": 16,
     "metadata": {},
     "output_type": "execute_result"
    }
   ],
   "source": [
    "interaction.alpha_physical"
   ]
  },
  {
   "cell_type": "code",
   "execution_count": 17,
   "metadata": {},
   "outputs": [],
   "source": [
    "interaction.alpha_physical /= 2"
   ]
  },
  {
   "cell_type": "code",
   "execution_count": 18,
   "metadata": {},
   "outputs": [
    {
     "data": {
      "text/plain": [
       "1.0"
      ]
     },
     "execution_count": 18,
     "metadata": {},
     "output_type": "execute_result"
    }
   ],
   "source": [
    "interaction.alpha_physical"
   ]
  },
  {
   "cell_type": "markdown",
   "metadata": {},
   "source": [
    "# Seed the disease"
   ]
  },
  {
   "cell_type": "markdown",
   "metadata": {},
   "source": [
    "There are two options implemented in the seed at the moment, either you specify the number of cases and these are then homogeneously distributed by population to the different areas, or you use UK data on cases per region. For now use the first case."
   ]
  },
  {
   "cell_type": "code",
   "execution_count": 19,
   "metadata": {},
   "outputs": [],
   "source": [
    "infection_seed = InfectionSeed(world.super_areas, selector,)"
   ]
  },
  {
   "cell_type": "code",
   "execution_count": 21,
   "metadata": {},
   "outputs": [],
   "source": [
    "n_cases = 50\n",
    "infection_seed.unleash_virus(n_cases) # play around with the initial number of cases"
   ]
  },
  {
   "cell_type": "markdown",
   "metadata": {},
   "source": [
    "# Set policies"
   ]
  },
  {
   "cell_type": "code",
   "execution_count": 22,
   "metadata": {},
   "outputs": [],
   "source": [
    "policies = Policies.from_file()"
   ]
  },
  {
   "cell_type": "markdown",
   "metadata": {},
   "source": [
    "# Run the simulation"
   ]
  },
  {
   "cell_type": "markdown",
   "metadata": {},
   "source": [
    "Since the timer configuration is a bit cumbersome, it is read from the config file at ``configs/config_example.yaml``"
   ]
  },
  {
   "cell_type": "code",
   "execution_count": 23,
   "metadata": {},
   "outputs": [],
   "source": [
    "CONFIG_PATH = \"../configs/config_example.yaml\"\n",
    "\n",
    "leisure = generate_leisure_for_config(\n",
    "world=world, config_filename = CONFIG_PATH\n",
    ")"
   ]
  },
  {
   "cell_type": "code",
   "execution_count": 24,
   "metadata": {},
   "outputs": [],
   "source": [
    "simulator = Simulator.from_file(\n",
    "     world, interaction, selector, \n",
    "    config_filename = CONFIG_PATH,\n",
    "    leisure = leisure,\n",
    "    policies = policies\n",
    ")"
   ]
  },
  {
   "cell_type": "code",
   "execution_count": null,
   "metadata": {
    "scrolled": true
   },
   "outputs": [
    {
     "name": "stdout",
     "output_type": "stream",
     "text": [
      "2020-07-01 08:52:10,757 - june.simulator - INFO - Starting group_dynamics for 45 days at day 0\n",
      "2020-07-01 08:52:10,759 - june.simulator - INFO - starting the loop ..., at 0 days, to run for 45 days\n",
      "2020-07-01 08:52:12,379 - june.simulator - INFO - Date = 2020-03-01 04:00:00, number of deaths =  0, number of infected = 50\n",
      "2020-07-01 08:52:13,530 - june.simulator - INFO - Date = 2020-03-01 08:00:00, number of deaths =  0, number of infected = 50\n",
      "2020-07-01 08:52:14,140 - june.simulator - INFO - Date = 2020-03-01 12:00:00, number of deaths =  0, number of infected = 50\n",
      "2020-07-01 08:52:14,780 - june.simulator - INFO - Date = 2020-03-02 00:00:00, number of deaths =  0, number of infected = 50\n",
      "2020-07-01 08:52:15,299 - june.simulator - INFO - Date = 2020-03-02 01:00:00, number of deaths =  0, number of infected = 50\n",
      "2020-07-01 08:52:15,715 - june.simulator - INFO - Date = 2020-03-02 05:00:00, number of deaths =  0, number of infected = 50\n",
      "2020-07-01 08:52:16,138 - june.simulator - INFO - Date = 2020-03-02 09:00:00, number of deaths =  0, number of infected = 50\n",
      "2020-07-01 08:52:16,808 - june.simulator - INFO - Date = 2020-03-02 10:00:00, number of deaths =  0, number of infected = 50\n",
      "2020-07-01 08:52:17,243 - june.simulator - INFO - Date = 2020-03-02 13:00:00, number of deaths =  0, number of infected = 50\n",
      "2020-07-01 08:52:17,744 - june.simulator - INFO - Date = 2020-03-03 00:00:00, number of deaths =  0, number of infected = 50\n",
      "2020-07-01 08:52:18,296 - june.simulator - INFO - Date = 2020-03-03 01:00:00, number of deaths =  0, number of infected = 50\n",
      "2020-07-01 08:52:18,697 - june.simulator - INFO - Date = 2020-03-03 05:00:00, number of deaths =  0, number of infected = 50\n",
      "2020-07-01 08:52:19,087 - june.simulator - INFO - Date = 2020-03-03 09:00:00, number of deaths =  0, number of infected = 50\n",
      "2020-07-01 08:52:19,876 - june.simulator - INFO - Date = 2020-03-03 10:00:00, number of deaths =  0, number of infected = 50\n",
      "2020-07-01 08:52:20,438 - june.simulator - INFO - Date = 2020-03-03 13:00:00, number of deaths =  0, number of infected = 50\n",
      "2020-07-01 08:52:21,050 - june.simulator - INFO - Date = 2020-03-04 00:00:00, number of deaths =  0, number of infected = 50\n",
      "2020-07-01 08:52:21,713 - june.simulator - INFO - Date = 2020-03-04 01:00:00, number of deaths =  0, number of infected = 50\n",
      "2020-07-01 08:52:22,131 - june.simulator - INFO - Date = 2020-03-04 05:00:00, number of deaths =  0, number of infected = 50\n",
      "2020-07-01 08:52:22,555 - june.simulator - INFO - Date = 2020-03-04 09:00:00, number of deaths =  0, number of infected = 50\n",
      "2020-07-01 08:52:23,264 - june.simulator - INFO - Date = 2020-03-04 10:00:00, number of deaths =  0, number of infected = 50\n",
      "2020-07-01 08:52:23,743 - june.simulator - INFO - Date = 2020-03-04 13:00:00, number of deaths =  0, number of infected = 50\n",
      "2020-07-01 08:52:24,282 - june.simulator - INFO - Date = 2020-03-05 00:00:00, number of deaths =  0, number of infected = 50\n",
      "2020-07-01 08:52:24,862 - june.simulator - INFO - Date = 2020-03-05 01:00:00, number of deaths =  0, number of infected = 50\n",
      "2020-07-01 08:52:25,279 - june.simulator - INFO - Date = 2020-03-05 05:00:00, number of deaths =  0, number of infected = 51\n",
      "2020-07-01 08:52:25,654 - june.simulator - INFO - Date = 2020-03-05 09:00:00, number of deaths =  0, number of infected = 53\n",
      "2020-07-01 08:52:26,374 - june.simulator - INFO - Date = 2020-03-05 10:00:00, number of deaths =  0, number of infected = 55\n",
      "2020-07-01 08:52:26,865 - june.simulator - INFO - Date = 2020-03-05 13:00:00, number of deaths =  0, number of infected = 62\n",
      "2020-07-01 08:52:27,363 - june.simulator - INFO - Date = 2020-03-06 00:00:00, number of deaths =  0, number of infected = 90\n",
      "2020-07-01 08:52:27,997 - june.simulator - INFO - Date = 2020-03-06 01:00:00, number of deaths =  0, number of infected = 92\n",
      "2020-07-01 08:52:28,582 - june.simulator - INFO - Date = 2020-03-06 05:00:00, number of deaths =  0, number of infected = 98\n",
      "2020-07-01 08:52:28,960 - june.simulator - INFO - Date = 2020-03-06 09:00:00, number of deaths =  0, number of infected = 110\n",
      "2020-07-01 08:52:29,629 - june.simulator - INFO - Date = 2020-03-06 10:00:00, number of deaths =  0, number of infected = 112\n",
      "2020-07-01 08:52:30,115 - june.simulator - INFO - Date = 2020-03-06 13:00:00, number of deaths =  0, number of infected = 122\n",
      "2020-07-01 08:52:31,038 - june.simulator - INFO - Date = 2020-03-07 00:00:00, number of deaths =  0, number of infected = 146\n",
      "2020-07-01 08:52:31,760 - june.simulator - INFO - Date = 2020-03-07 04:00:00, number of deaths =  0, number of infected = 153\n",
      "2020-07-01 08:52:32,446 - june.simulator - INFO - Date = 2020-03-07 08:00:00, number of deaths =  0, number of infected = 160\n",
      "2020-07-01 08:52:32,910 - june.simulator - INFO - Date = 2020-03-07 12:00:00, number of deaths =  0, number of infected = 166\n",
      "2020-07-01 08:52:33,803 - june.simulator - INFO - Date = 2020-03-08 00:00:00, number of deaths =  0, number of infected = 183\n",
      "2020-07-01 08:52:34,799 - june.simulator - INFO - Date = 2020-03-08 04:00:00, number of deaths =  0, number of infected = 189\n",
      "2020-07-01 08:52:35,675 - june.simulator - INFO - Date = 2020-03-08 08:00:00, number of deaths =  0, number of infected = 195\n",
      "2020-07-01 08:52:36,136 - june.simulator - INFO - Date = 2020-03-08 12:00:00, number of deaths =  0, number of infected = 201\n",
      "2020-07-01 08:52:36,849 - june.simulator - INFO - Date = 2020-03-09 00:00:00, number of deaths =  0, number of infected = 212\n",
      "2020-07-01 08:52:37,521 - june.simulator - INFO - Date = 2020-03-09 01:00:00, number of deaths =  0, number of infected = 215\n",
      "2020-07-01 08:52:38,121 - june.simulator - INFO - Date = 2020-03-09 05:00:00, number of deaths =  0, number of infected = 474\n",
      "2020-07-01 08:52:38,505 - june.simulator - INFO - Date = 2020-03-09 09:00:00, number of deaths =  0, number of infected = 487\n",
      "2020-07-01 08:52:39,300 - june.simulator - INFO - Date = 2020-03-09 10:00:00, number of deaths =  0, number of infected = 489\n",
      "2020-07-01 08:52:39,966 - june.simulator - INFO - Date = 2020-03-09 13:00:00, number of deaths =  0, number of infected = 492\n",
      "2020-07-01 08:52:40,607 - june.simulator - INFO - Date = 2020-03-10 00:00:00, number of deaths =  0, number of infected = 506\n",
      "2020-07-01 08:52:41,533 - june.simulator - INFO - Date = 2020-03-10 01:00:00, number of deaths =  0, number of infected = 512\n",
      "2020-07-01 08:52:42,366 - june.simulator - INFO - Date = 2020-03-10 05:00:00, number of deaths =  0, number of infected = 533\n",
      "2020-07-01 08:52:43,004 - june.simulator - INFO - Date = 2020-03-10 09:00:00, number of deaths =  0, number of infected = 555\n",
      "2020-07-01 08:52:44,010 - june.simulator - INFO - Date = 2020-03-10 10:00:00, number of deaths =  0, number of infected = 563\n",
      "2020-07-01 08:52:44,675 - june.simulator - INFO - Date = 2020-03-10 13:00:00, number of deaths =  0, number of infected = 582\n",
      "2020-07-01 08:52:45,430 - june.simulator - INFO - Date = 2020-03-11 00:00:00, number of deaths =  0, number of infected = 606\n",
      "2020-07-01 08:52:46,048 - june.simulator - INFO - Date = 2020-03-11 01:00:00, number of deaths =  0, number of infected = 612\n",
      "2020-07-01 08:52:46,684 - june.simulator - INFO - Date = 2020-03-11 05:00:00, number of deaths =  0, number of infected = 641\n",
      "2020-07-01 08:52:47,139 - june.simulator - INFO - Date = 2020-03-11 09:00:00, number of deaths =  0, number of infected = 671\n",
      "2020-07-01 08:52:48,235 - june.simulator - INFO - Date = 2020-03-11 10:00:00, number of deaths =  0, number of infected = 678\n",
      "2020-07-01 08:52:49,084 - june.simulator - INFO - Date = 2020-03-11 13:00:00, number of deaths =  0, number of infected = 698\n",
      "2020-07-01 08:52:49,659 - june.simulator - INFO - Date = 2020-03-12 00:00:00, number of deaths =  0, number of infected = 727\n",
      "2020-07-01 08:52:50,443 - june.simulator - INFO - Date = 2020-03-12 01:00:00, number of deaths =  0, number of infected = 744\n",
      "2020-07-01 08:52:51,015 - june.simulator - INFO - Date = 2020-03-12 05:00:00, number of deaths =  0, number of infected = 773\n",
      "2020-07-01 08:52:51,581 - june.simulator - INFO - Date = 2020-03-12 09:00:00, number of deaths =  0, number of infected = 805\n",
      "2020-07-01 08:52:52,409 - june.simulator - INFO - Date = 2020-03-12 10:00:00, number of deaths =  0, number of infected = 823\n"
     ]
    },
    {
     "name": "stdout",
     "output_type": "stream",
     "text": [
      "2020-07-01 08:52:52,914 - june.simulator - INFO - Date = 2020-03-12 13:00:00, number of deaths =  0, number of infected = 875\n",
      "2020-07-01 08:52:53,485 - june.simulator - INFO - Date = 2020-03-13 00:00:00, number of deaths =  0, number of infected = 990\n",
      "2020-07-01 08:52:54,212 - june.simulator - INFO - Date = 2020-03-13 01:00:00, number of deaths =  0, number of infected = 1025\n",
      "2020-07-01 08:52:54,749 - june.simulator - INFO - Date = 2020-03-13 05:00:00, number of deaths =  0, number of infected = 1075\n",
      "2020-07-01 08:52:55,223 - june.simulator - INFO - Date = 2020-03-13 09:00:00, number of deaths =  0, number of infected = 1118\n",
      "2020-07-01 08:52:56,166 - june.simulator - INFO - Date = 2020-03-13 10:00:00, number of deaths =  0, number of infected = 1158\n",
      "2020-07-01 08:52:56,709 - june.simulator - INFO - Date = 2020-03-13 13:00:00, number of deaths =  0, number of infected = 1208\n",
      "2020-07-01 08:52:57,541 - june.simulator - INFO - Date = 2020-03-14 00:00:00, number of deaths =  1, number of infected = 1369\n",
      "2020-07-01 08:52:58,277 - june.simulator - INFO - Date = 2020-03-14 04:00:00, number of deaths =  1, number of infected = 1496\n",
      "2020-07-01 08:52:59,098 - june.simulator - INFO - Date = 2020-03-14 08:00:00, number of deaths =  1, number of infected = 1587\n",
      "2020-07-01 08:52:59,636 - june.simulator - INFO - Date = 2020-03-14 12:00:00, number of deaths =  1, number of infected = 1693\n",
      "2020-07-01 08:53:00,413 - june.simulator - INFO - Date = 2020-03-15 00:00:00, number of deaths =  1, number of infected = 1862\n",
      "2020-07-01 08:53:01,201 - june.simulator - INFO - Date = 2020-03-15 04:00:00, number of deaths =  1, number of infected = 1967\n",
      "2020-07-01 08:53:02,009 - june.simulator - INFO - Date = 2020-03-15 08:00:00, number of deaths =  1, number of infected = 2064\n",
      "2020-07-01 08:53:02,542 - june.simulator - INFO - Date = 2020-03-15 12:00:00, number of deaths =  1, number of infected = 2174\n",
      "2020-07-01 08:53:03,331 - june.simulator - INFO - Date = 2020-03-16 00:00:00, number of deaths =  1, number of infected = 2319\n",
      "2020-07-01 08:53:04,163 - june.simulator - INFO - Date = 2020-03-16 01:00:00, number of deaths =  1, number of infected = 2344\n",
      "2020-07-01 08:53:04,906 - june.simulator - INFO - Date = 2020-03-16 05:00:00, number of deaths =  1, number of infected = 2386\n",
      "2020-07-01 08:53:05,536 - june.simulator - INFO - Date = 2020-03-16 09:00:00, number of deaths =  1, number of infected = 2440\n",
      "2020-07-01 08:53:06,473 - june.simulator - INFO - Date = 2020-03-16 10:00:00, number of deaths =  1, number of infected = 2474\n",
      "2020-07-01 08:53:07,176 - june.simulator - INFO - Date = 2020-03-16 13:00:00, number of deaths =  1, number of infected = 2537\n",
      "2020-07-01 08:53:07,947 - june.simulator - INFO - Date = 2020-03-17 00:00:00, number of deaths =  1, number of infected = 2704\n",
      "2020-07-01 08:53:08,783 - june.simulator - INFO - Date = 2020-03-17 01:00:00, number of deaths =  1, number of infected = 2741\n",
      "2020-07-01 08:53:09,735 - june.simulator - INFO - Date = 2020-03-17 05:00:00, number of deaths =  1, number of infected = 2797\n",
      "2020-07-01 08:53:10,393 - june.simulator - INFO - Date = 2020-03-17 09:00:00, number of deaths =  1, number of infected = 2848\n",
      "2020-07-01 08:53:11,292 - june.simulator - INFO - Date = 2020-03-17 10:00:00, number of deaths =  1, number of infected = 2872\n",
      "2020-07-01 08:53:11,986 - june.simulator - INFO - Date = 2020-03-17 13:00:00, number of deaths =  1, number of infected = 2938\n",
      "2020-07-01 08:53:12,763 - june.simulator - INFO - Date = 2020-03-18 00:00:00, number of deaths =  1, number of infected = 3119\n",
      "2020-07-01 08:53:13,884 - june.simulator - INFO - Date = 2020-03-18 01:00:00, number of deaths =  1, number of infected = 3147\n",
      "2020-07-01 08:53:14,624 - june.simulator - INFO - Date = 2020-03-18 05:00:00, number of deaths =  1, number of infected = 3239\n",
      "2020-07-01 08:53:15,256 - june.simulator - INFO - Date = 2020-03-18 09:00:00, number of deaths =  1, number of infected = 3302\n",
      "2020-07-01 08:53:16,415 - june.simulator - INFO - Date = 2020-03-18 10:00:00, number of deaths =  1, number of infected = 3333\n",
      "2020-07-01 08:53:17,312 - june.simulator - INFO - Date = 2020-03-18 13:00:00, number of deaths =  1, number of infected = 3433\n",
      "2020-07-01 08:53:18,265 - june.simulator - INFO - Date = 2020-03-19 00:00:00, number of deaths =  1, number of infected = 3671\n",
      "2020-07-01 08:53:19,139 - june.simulator - INFO - Date = 2020-03-19 01:00:00, number of deaths =  1, number of infected = 3710\n",
      "2020-07-01 08:53:19,945 - june.simulator - INFO - Date = 2020-03-19 05:00:00, number of deaths =  1, number of infected = 3778\n",
      "2020-07-01 08:53:20,614 - june.simulator - INFO - Date = 2020-03-19 09:00:00, number of deaths =  1, number of infected = 3840\n",
      "2020-07-01 08:53:21,525 - june.simulator - INFO - Date = 2020-03-19 10:00:00, number of deaths =  1, number of infected = 3882\n",
      "2020-07-01 08:53:22,229 - june.simulator - INFO - Date = 2020-03-19 13:00:00, number of deaths =  1, number of infected = 3976\n",
      "2020-07-01 08:53:23,138 - june.simulator - INFO - Date = 2020-03-20 00:00:00, number of deaths =  1, number of infected = 4218\n",
      "2020-07-01 08:53:24,209 - june.simulator - INFO - Date = 2020-03-20 01:00:00, number of deaths =  1, number of infected = 4242\n",
      "2020-07-01 08:53:25,454 - june.simulator - INFO - Date = 2020-03-20 05:00:00, number of deaths =  1, number of infected = 4345\n",
      "2020-07-01 08:53:26,466 - june.simulator - INFO - Date = 2020-03-20 09:00:00, number of deaths =  1, number of infected = 4464\n",
      "2020-07-01 08:53:27,538 - june.simulator - INFO - Date = 2020-03-20 10:00:00, number of deaths =  1, number of infected = 4496\n",
      "2020-07-01 08:53:28,539 - june.simulator - INFO - Date = 2020-03-20 13:00:00, number of deaths =  1, number of infected = 4572\n",
      "2020-07-01 08:53:29,753 - june.simulator - INFO - Date = 2020-03-21 00:00:00, number of deaths =  2, number of infected = 4797\n",
      "2020-07-01 08:53:30,873 - june.simulator - INFO - Date = 2020-03-21 04:00:00, number of deaths =  2, number of infected = 4900\n",
      "2020-07-01 08:53:31,957 - june.simulator - INFO - Date = 2020-03-21 08:00:00, number of deaths =  2, number of infected = 5017\n",
      "2020-07-01 08:53:32,928 - june.simulator - INFO - Date = 2020-03-21 12:00:00, number of deaths =  2, number of infected = 5110\n",
      "2020-07-01 08:53:34,097 - june.simulator - INFO - Date = 2020-03-22 00:00:00, number of deaths =  2, number of infected = 5390\n",
      "2020-07-01 08:53:35,201 - june.simulator - INFO - Date = 2020-03-22 04:00:00, number of deaths =  2, number of infected = 5500\n",
      "2020-07-01 08:53:36,228 - june.simulator - INFO - Date = 2020-03-22 08:00:00, number of deaths =  2, number of infected = 5588\n",
      "2020-07-01 08:53:37,169 - june.simulator - INFO - Date = 2020-03-22 12:00:00, number of deaths =  3, number of infected = 5671\n",
      "2020-07-01 08:53:38,424 - june.simulator - INFO - Date = 2020-03-23 00:00:00, number of deaths =  5, number of infected = 5932\n",
      "2020-07-01 08:53:39,859 - june.simulator - INFO - Date = 2020-03-23 01:00:00, number of deaths =  5, number of infected = 5966\n",
      "2020-07-01 08:53:41,383 - june.simulator - INFO - Date = 2020-03-23 05:00:00, number of deaths =  5, number of infected = 6075\n",
      "2020-07-01 08:53:42,813 - june.simulator - INFO - Date = 2020-03-23 09:00:00, number of deaths =  5, number of infected = 6201\n",
      "2020-07-01 08:53:44,427 - june.simulator - INFO - Date = 2020-03-23 10:00:00, number of deaths =  5, number of infected = 6235\n",
      "2020-07-01 08:53:45,844 - june.simulator - INFO - Date = 2020-03-23 13:00:00, number of deaths =  5, number of infected = 6321\n",
      "2020-07-01 08:53:47,655 - june.simulator - INFO - Date = 2020-03-24 00:00:00, number of deaths =  5, number of infected = 6549\n",
      "2020-07-01 08:53:48,787 - june.simulator - INFO - Date = 2020-03-24 01:00:00, number of deaths =  5, number of infected = 6580\n",
      "2020-07-01 08:53:50,048 - june.simulator - INFO - Date = 2020-03-24 05:00:00, number of deaths =  5, number of infected = 6686\n",
      "2020-07-01 08:53:51,098 - june.simulator - INFO - Date = 2020-03-24 09:00:00, number of deaths =  5, number of infected = 6794\n",
      "2020-07-01 08:53:52,411 - june.simulator - INFO - Date = 2020-03-24 10:00:00, number of deaths =  5, number of infected = 6817\n",
      "2020-07-01 08:53:53,742 - june.simulator - INFO - Date = 2020-03-24 13:00:00, number of deaths =  5, number of infected = 6882\n"
     ]
    },
    {
     "name": "stdout",
     "output_type": "stream",
     "text": [
      "2020-07-01 08:53:54,897 - june.simulator - INFO - Date = 2020-03-25 00:00:00, number of deaths =  5, number of infected = 7137\n",
      "2020-07-01 08:53:56,136 - june.simulator - INFO - Date = 2020-03-25 01:00:00, number of deaths =  5, number of infected = 7181\n",
      "2020-07-01 08:53:57,293 - june.simulator - INFO - Date = 2020-03-25 05:00:00, number of deaths =  5, number of infected = 7299\n",
      "2020-07-01 08:53:58,308 - june.simulator - INFO - Date = 2020-03-25 09:00:00, number of deaths =  5, number of infected = 7414\n",
      "2020-07-01 08:53:59,789 - june.simulator - INFO - Date = 2020-03-25 10:00:00, number of deaths =  5, number of infected = 7437\n",
      "2020-07-01 08:54:00,974 - june.simulator - INFO - Date = 2020-03-25 13:00:00, number of deaths =  5, number of infected = 7503\n",
      "2020-07-01 08:54:02,286 - june.simulator - INFO - Date = 2020-03-26 00:00:00, number of deaths =  5, number of infected = 7735\n",
      "2020-07-01 08:54:03,766 - june.simulator - INFO - Date = 2020-03-26 01:00:00, number of deaths =  6, number of infected = 7753\n",
      "2020-07-01 08:54:04,870 - june.simulator - INFO - Date = 2020-03-26 05:00:00, number of deaths =  6, number of infected = 7886\n",
      "2020-07-01 08:54:06,188 - june.simulator - INFO - Date = 2020-03-26 09:00:00, number of deaths =  7, number of infected = 8006\n",
      "2020-07-01 08:54:07,451 - june.simulator - INFO - Date = 2020-03-26 10:00:00, number of deaths =  7, number of infected = 8031\n",
      "2020-07-01 08:54:08,370 - june.simulator - INFO - Date = 2020-03-26 13:00:00, number of deaths =  7, number of infected = 8100\n",
      "2020-07-01 08:54:09,348 - june.simulator - INFO - Date = 2020-03-27 00:00:00, number of deaths =  7, number of infected = 8335\n",
      "2020-07-01 08:54:10,396 - june.simulator - INFO - Date = 2020-03-27 01:00:00, number of deaths =  7, number of infected = 8362\n",
      "2020-07-01 08:54:11,436 - june.simulator - INFO - Date = 2020-03-27 05:00:00, number of deaths =  7, number of infected = 8474\n",
      "2020-07-01 08:54:12,335 - june.simulator - INFO - Date = 2020-03-27 09:00:00, number of deaths =  7, number of infected = 8582\n",
      "2020-07-01 08:54:13,365 - june.simulator - INFO - Date = 2020-03-27 10:00:00, number of deaths =  7, number of infected = 8614\n",
      "2020-07-01 08:54:14,578 - june.simulator - INFO - Date = 2020-03-27 13:00:00, number of deaths =  7, number of infected = 8700\n",
      "2020-07-01 08:54:15,977 - june.simulator - INFO - Date = 2020-03-28 00:00:00, number of deaths =  8, number of infected = 8942\n",
      "2020-07-01 08:54:17,741 - june.simulator - INFO - Date = 2020-03-28 04:00:00, number of deaths =  9, number of infected = 9045\n",
      "2020-07-01 08:54:19,345 - june.simulator - INFO - Date = 2020-03-28 08:00:00, number of deaths =  9, number of infected = 9130\n",
      "2020-07-01 08:54:20,252 - june.simulator - INFO - Date = 2020-03-28 12:00:00, number of deaths =  9, number of infected = 9244\n",
      "2020-07-01 08:54:21,458 - june.simulator - INFO - Date = 2020-03-29 00:00:00, number of deaths =  11, number of infected = 9500\n",
      "2020-07-01 08:54:23,231 - june.simulator - INFO - Date = 2020-03-29 04:00:00, number of deaths =  11, number of infected = 9601\n",
      "2020-07-01 08:54:24,835 - june.simulator - INFO - Date = 2020-03-29 08:00:00, number of deaths =  12, number of infected = 9711\n",
      "2020-07-01 08:54:26,190 - june.simulator - INFO - Date = 2020-03-29 12:00:00, number of deaths =  12, number of infected = 9831\n",
      "2020-07-01 08:54:27,387 - june.simulator - INFO - Date = 2020-03-30 00:00:00, number of deaths =  12, number of infected = 10066\n",
      "2020-07-01 08:54:28,698 - june.simulator - INFO - Date = 2020-03-30 01:00:00, number of deaths =  12, number of infected = 10089\n",
      "2020-07-01 08:54:30,609 - june.simulator - INFO - Date = 2020-03-30 05:00:00, number of deaths =  12, number of infected = 10210\n",
      "2020-07-01 08:54:32,561 - june.simulator - INFO - Date = 2020-03-30 09:00:00, number of deaths =  12, number of infected = 10313\n",
      "2020-07-01 08:54:33,877 - june.simulator - INFO - Date = 2020-03-30 10:00:00, number of deaths =  12, number of infected = 10343\n",
      "2020-07-01 08:54:35,040 - june.simulator - INFO - Date = 2020-03-30 13:00:00, number of deaths =  12, number of infected = 10436\n",
      "2020-07-01 08:54:35,976 - june.simulator - INFO - Date = 2020-03-31 00:00:00, number of deaths =  12, number of infected = 10656\n",
      "2020-07-01 08:54:36,964 - june.simulator - INFO - Date = 2020-03-31 01:00:00, number of deaths =  12, number of infected = 10668\n",
      "2020-07-01 08:54:38,618 - june.simulator - INFO - Date = 2020-03-31 05:00:00, number of deaths =  12, number of infected = 10770\n",
      "2020-07-01 08:54:40,202 - june.simulator - INFO - Date = 2020-03-31 09:00:00, number of deaths =  12, number of infected = 10905\n",
      "2020-07-01 08:54:41,808 - june.simulator - INFO - Date = 2020-03-31 10:00:00, number of deaths =  12, number of infected = 10928\n",
      "2020-07-01 08:54:42,685 - june.simulator - INFO - Date = 2020-03-31 13:00:00, number of deaths =  13, number of infected = 10990\n",
      "2020-07-01 08:54:43,665 - june.simulator - INFO - Date = 2020-04-01 00:00:00, number of deaths =  13, number of infected = 11147\n",
      "2020-07-01 08:54:44,715 - june.simulator - INFO - Date = 2020-04-01 01:00:00, number of deaths =  13, number of infected = 11165\n",
      "2020-07-01 08:54:45,752 - june.simulator - INFO - Date = 2020-04-01 05:00:00, number of deaths =  13, number of infected = 11289\n",
      "2020-07-01 08:54:46,674 - june.simulator - INFO - Date = 2020-04-01 09:00:00, number of deaths =  15, number of infected = 11377\n",
      "2020-07-01 08:54:47,699 - june.simulator - INFO - Date = 2020-04-01 10:00:00, number of deaths =  15, number of infected = 11394\n",
      "2020-07-01 08:54:48,928 - june.simulator - INFO - Date = 2020-04-01 13:00:00, number of deaths =  15, number of infected = 11464\n",
      "2020-07-01 08:54:50,099 - june.simulator - INFO - Date = 2020-04-02 00:00:00, number of deaths =  15, number of infected = 11608\n",
      "2020-07-01 08:54:51,164 - june.simulator - INFO - Date = 2020-04-02 01:00:00, number of deaths =  15, number of infected = 11615\n",
      "2020-07-01 08:54:52,273 - june.simulator - INFO - Date = 2020-04-02 05:00:00, number of deaths =  15, number of infected = 11708\n",
      "2020-07-01 08:54:53,185 - june.simulator - INFO - Date = 2020-04-02 09:00:00, number of deaths =  15, number of infected = 11805\n",
      "2020-07-01 08:54:54,236 - june.simulator - INFO - Date = 2020-04-02 10:00:00, number of deaths =  15, number of infected = 11809\n",
      "2020-07-01 08:54:55,337 - june.simulator - INFO - Date = 2020-04-02 13:00:00, number of deaths =  16, number of infected = 11871\n",
      "2020-07-01 08:54:56,312 - june.simulator - INFO - Date = 2020-04-03 00:00:00, number of deaths =  18, number of infected = 11991\n",
      "2020-07-01 08:54:57,389 - june.simulator - INFO - Date = 2020-04-03 01:00:00, number of deaths =  18, number of infected = 12010\n",
      "2020-07-01 08:54:58,536 - june.simulator - INFO - Date = 2020-04-03 05:00:00, number of deaths =  18, number of infected = 12084\n",
      "2020-07-01 08:54:59,708 - june.simulator - INFO - Date = 2020-04-03 09:00:00, number of deaths =  18, number of infected = 12167\n",
      "2020-07-01 08:55:01,344 - june.simulator - INFO - Date = 2020-04-03 10:00:00, number of deaths =  18, number of infected = 12189\n",
      "2020-07-01 08:55:02,305 - june.simulator - INFO - Date = 2020-04-03 13:00:00, number of deaths =  18, number of infected = 12250\n",
      "2020-07-01 08:55:03,501 - june.simulator - INFO - Date = 2020-04-04 00:00:00, number of deaths =  20, number of infected = 12389\n",
      "2020-07-01 08:55:04,658 - june.simulator - INFO - Date = 2020-04-04 04:00:00, number of deaths =  20, number of infected = 12451\n",
      "2020-07-01 08:55:05,751 - june.simulator - INFO - Date = 2020-04-04 08:00:00, number of deaths =  21, number of infected = 12519\n",
      "2020-07-01 08:55:06,711 - june.simulator - INFO - Date = 2020-04-04 12:00:00, number of deaths =  21, number of infected = 12599\n",
      "2020-07-01 08:55:07,920 - june.simulator - INFO - Date = 2020-04-05 00:00:00, number of deaths =  25, number of infected = 12693\n",
      "2020-07-01 08:55:09,165 - june.simulator - INFO - Date = 2020-04-05 04:00:00, number of deaths =  25, number of infected = 12739\n",
      "2020-07-01 08:55:10,861 - june.simulator - INFO - Date = 2020-04-05 08:00:00, number of deaths =  25, number of infected = 12793\n",
      "2020-07-01 08:55:12,101 - june.simulator - INFO - Date = 2020-04-05 12:00:00, number of deaths =  25, number of infected = 12867\n"
     ]
    },
    {
     "name": "stdout",
     "output_type": "stream",
     "text": [
      "2020-07-01 08:55:13,539 - june.simulator - INFO - Date = 2020-04-06 00:00:00, number of deaths =  25, number of infected = 12945\n",
      "2020-07-01 08:55:15,310 - june.simulator - INFO - Date = 2020-04-06 01:00:00, number of deaths =  25, number of infected = 12956\n",
      "2020-07-01 08:55:17,015 - june.simulator - INFO - Date = 2020-04-06 05:00:00, number of deaths =  25, number of infected = 13036\n",
      "2020-07-01 08:55:18,586 - june.simulator - INFO - Date = 2020-04-06 09:00:00, number of deaths =  25, number of infected = 13089\n",
      "2020-07-01 08:55:19,942 - june.simulator - INFO - Date = 2020-04-06 10:00:00, number of deaths =  25, number of infected = 13090\n",
      "2020-07-01 08:55:21,090 - june.simulator - INFO - Date = 2020-04-06 13:00:00, number of deaths =  27, number of infected = 13128\n",
      "2020-07-01 08:55:22,415 - june.simulator - INFO - Date = 2020-04-07 00:00:00, number of deaths =  27, number of infected = 13159\n",
      "2020-07-01 08:55:23,830 - june.simulator - INFO - Date = 2020-04-07 01:00:00, number of deaths =  27, number of infected = 13162\n",
      "2020-07-01 08:55:25,512 - june.simulator - INFO - Date = 2020-04-07 05:00:00, number of deaths =  27, number of infected = 13212\n",
      "2020-07-01 08:55:27,009 - june.simulator - INFO - Date = 2020-04-07 09:00:00, number of deaths =  27, number of infected = 13274\n",
      "2020-07-01 08:55:28,424 - june.simulator - INFO - Date = 2020-04-07 10:00:00, number of deaths =  27, number of infected = 13281\n",
      "2020-07-01 08:55:29,674 - june.simulator - INFO - Date = 2020-04-07 13:00:00, number of deaths =  27, number of infected = 13315\n",
      "2020-07-01 08:55:31,142 - june.simulator - INFO - Date = 2020-04-08 00:00:00, number of deaths =  27, number of infected = 13278\n",
      "2020-07-01 08:55:32,738 - june.simulator - INFO - Date = 2020-04-08 01:00:00, number of deaths =  27, number of infected = 13273\n",
      "2020-07-01 08:55:34,508 - june.simulator - INFO - Date = 2020-04-08 05:00:00, number of deaths =  27, number of infected = 13320\n",
      "2020-07-01 08:55:36,048 - june.simulator - INFO - Date = 2020-04-08 09:00:00, number of deaths =  27, number of infected = 13357\n",
      "2020-07-01 08:55:37,741 - june.simulator - INFO - Date = 2020-04-08 10:00:00, number of deaths =  27, number of infected = 13363\n",
      "2020-07-01 08:55:39,076 - june.simulator - INFO - Date = 2020-04-08 13:00:00, number of deaths =  27, number of infected = 13382\n",
      "2020-07-01 08:55:40,471 - june.simulator - INFO - Date = 2020-04-09 00:00:00, number of deaths =  29, number of infected = 13340\n",
      "2020-07-01 08:55:42,180 - june.simulator - INFO - Date = 2020-04-09 01:00:00, number of deaths =  29, number of infected = 13338\n",
      "2020-07-01 08:55:44,226 - june.simulator - INFO - Date = 2020-04-09 05:00:00, number of deaths =  29, number of infected = 13387\n",
      "2020-07-01 08:55:45,845 - june.simulator - INFO - Date = 2020-04-09 09:00:00, number of deaths =  29, number of infected = 13397\n",
      "2020-07-01 08:55:47,591 - june.simulator - INFO - Date = 2020-04-09 10:00:00, number of deaths =  29, number of infected = 13389\n",
      "2020-07-01 08:55:49,122 - june.simulator - INFO - Date = 2020-04-09 13:00:00, number of deaths =  30, number of infected = 13382\n",
      "2020-07-01 08:55:50,635 - june.simulator - INFO - Date = 2020-04-10 00:00:00, number of deaths =  31, number of infected = 13336\n",
      "2020-07-01 08:55:52,267 - june.simulator - INFO - Date = 2020-04-10 01:00:00, number of deaths =  31, number of infected = 13340\n",
      "2020-07-01 08:55:53,901 - june.simulator - INFO - Date = 2020-04-10 05:00:00, number of deaths =  32, number of infected = 13347\n",
      "2020-07-01 08:55:55,297 - june.simulator - INFO - Date = 2020-04-10 09:00:00, number of deaths =  32, number of infected = 13351\n",
      "2020-07-01 08:55:56,987 - june.simulator - INFO - Date = 2020-04-10 10:00:00, number of deaths =  32, number of infected = 13351\n",
      "2020-07-01 08:55:58,422 - june.simulator - INFO - Date = 2020-04-10 13:00:00, number of deaths =  32, number of infected = 13355\n",
      "2020-07-01 08:56:00,243 - june.simulator - INFO - Date = 2020-04-11 00:00:00, number of deaths =  32, number of infected = 13293\n",
      "2020-07-01 08:56:02,227 - june.simulator - INFO - Date = 2020-04-11 04:00:00, number of deaths =  32, number of infected = 13290\n",
      "2020-07-01 08:56:03,917 - june.simulator - INFO - Date = 2020-04-11 08:00:00, number of deaths =  32, number of infected = 13248\n",
      "2020-07-01 08:56:05,501 - june.simulator - INFO - Date = 2020-04-11 12:00:00, number of deaths =  32, number of infected = 13252\n",
      "2020-07-01 08:56:07,243 - june.simulator - INFO - Date = 2020-04-12 00:00:00, number of deaths =  32, number of infected = 13137\n",
      "2020-07-01 08:56:09,101 - june.simulator - INFO - Date = 2020-04-12 04:00:00, number of deaths =  33, number of infected = 13120\n",
      "2020-07-01 08:56:10,771 - june.simulator - INFO - Date = 2020-04-12 08:00:00, number of deaths =  33, number of infected = 13101\n",
      "2020-07-01 08:56:12,107 - june.simulator - INFO - Date = 2020-04-12 12:00:00, number of deaths =  33, number of infected = 13079\n"
     ]
    }
   ],
   "source": [
    "%%time\n",
    "simulator.run()"
   ]
  },
  {
   "cell_type": "markdown",
   "metadata": {},
   "source": [
    "While the simulation runs (and afterwards) we can launch the visualization webpage by running\n",
    "```python june/visualizer.py path/to/results``` "
   ]
  },
  {
   "cell_type": "markdown",
   "metadata": {},
   "source": [
    "# Getting the results"
   ]
  },
  {
   "cell_type": "markdown",
   "metadata": {},
   "source": [
    "All results are stored in a json file specified in the ``save_path`` variable in the config file. We can also access it from ``world.logger`` directly."
   ]
  },
  {
   "cell_type": "code",
   "execution_count": null,
   "metadata": {},
   "outputs": [],
   "source": [
    "import pandas as pd"
   ]
  },
  {
   "cell_type": "code",
   "execution_count": null,
   "metadata": {},
   "outputs": [],
   "source": [
    "read = ReadLogger()"
   ]
  },
  {
   "cell_type": "markdown",
   "metadata": {},
   "source": [
    "## Hospital data and how it changed over time"
   ]
  },
  {
   "cell_type": "code",
   "execution_count": null,
   "metadata": {},
   "outputs": [],
   "source": [
    "hospitals_df = read.load_hospital_capacity()"
   ]
  },
  {
   "cell_type": "code",
   "execution_count": null,
   "metadata": {},
   "outputs": [],
   "source": [
    "hospitals_df.head(3)"
   ]
  },
  {
   "cell_type": "code",
   "execution_count": null,
   "metadata": {},
   "outputs": [],
   "source": [
    "hospitals_characteristics_df = read.load_hospital_characteristics()"
   ]
  },
  {
   "cell_type": "code",
   "execution_count": null,
   "metadata": {},
   "outputs": [],
   "source": [
    "hospitals_characteristics_df"
   ]
  },
  {
   "cell_type": "markdown",
   "metadata": {},
   "source": [
    "## where did infections happen?"
   ]
  },
  {
   "cell_type": "code",
   "execution_count": null,
   "metadata": {},
   "outputs": [],
   "source": [
    "loc_df = read.get_locations_infections()"
   ]
  },
  {
   "cell_type": "code",
   "execution_count": null,
   "metadata": {},
   "outputs": [],
   "source": [
    "locations_per_day = read.locations_df.groupby(pd.Grouper(freq='D')).sum()"
   ]
  },
  {
   "cell_type": "code",
   "execution_count": null,
   "metadata": {},
   "outputs": [],
   "source": [
    "all_infection_places = set(locations_per_day.location.sum())"
   ]
  },
  {
   "cell_type": "code",
   "execution_count": null,
   "metadata": {},
   "outputs": [],
   "source": [
    "def n_infections(row, infection_place):\n",
    "    return sum([row.counts[i] for i, x in enumerate(row.location) if x == infection_place])\n"
   ]
  },
  {
   "cell_type": "code",
   "execution_count": null,
   "metadata": {},
   "outputs": [],
   "source": [
    "for infection_place in all_infection_places:\n",
    "    locations_per_day[str(infection_place)] = locations_per_day.apply(\n",
    "        lambda x: n_infections(x, infection_place),\n",
    "        axis=1\n",
    "    )"
   ]
  },
  {
   "cell_type": "code",
   "execution_count": null,
   "metadata": {},
   "outputs": [],
   "source": [
    "locations_per_day = locations_per_day.drop(columns=['location',\n",
    "                                                    'counts'])"
   ]
  },
  {
   "cell_type": "code",
   "execution_count": null,
   "metadata": {},
   "outputs": [],
   "source": [
    "locations_per_day = locations_per_day.div(\n",
    "    locations_per_day.sum(axis=1), axis=0\n",
    ")\n"
   ]
  },
  {
   "cell_type": "code",
   "execution_count": null,
   "metadata": {},
   "outputs": [],
   "source": [
    "locations_per_day.plot.area( alpha=0.5)\n",
    "plt.legend(bbox_to_anchor=(1,1))\n",
    "plt.ylabel('Percent of infections')"
   ]
  },
  {
   "cell_type": "code",
   "execution_count": null,
   "metadata": {},
   "outputs": [],
   "source": [
    "from matplotlib import cm\n",
    "cmap = cm.get_cmap('Spectral') # Colour map (there are many others)\n",
    "\n",
    "locations_per_day.plot(figsize=(30,8), logy=True, ylim=(1e-3, 1), cmap=cmap)"
   ]
  },
  {
   "cell_type": "code",
   "execution_count": null,
   "metadata": {},
   "outputs": [],
   "source": [
    "import matplotlib.ticker as mtick\n",
    "\n",
    "ax = loc_df['percentage_infections'].sort_values().plot.bar()\n",
    "ax.yaxis.set_major_formatter(mtick.PercentFormatter())\n",
    "plt.ylabel('Percentage of infections at location')\n",
    "plt.xlabel('location')\n",
    "#plt.yscale('log')"
   ]
  },
  {
   "cell_type": "markdown",
   "metadata": {},
   "source": [
    "## rate of infection"
   ]
  },
  {
   "cell_type": "code",
   "execution_count": null,
   "metadata": {},
   "outputs": [],
   "source": [
    "r_df = read.get_r()"
   ]
  },
  {
   "cell_type": "code",
   "execution_count": null,
   "metadata": {},
   "outputs": [],
   "source": [
    "r_df.plot()\n",
    "plt.axvspan(policies.social_distancing_start, \n",
    "            policies.social_distancing_end,\n",
    "            facecolor='y', alpha=0.2)\n",
    "plt.axhline(y=1, linestyle='dashed', color='gray')\n",
    "plt.xlabel('Date')\n",
    "plt.yscale('log')\n",
    "plt.ylabel('R')"
   ]
  },
  {
   "cell_type": "markdown",
   "metadata": {},
   "source": [
    "## World infection curves, and by super area"
   ]
  },
  {
   "cell_type": "code",
   "execution_count": null,
   "metadata": {},
   "outputs": [],
   "source": [
    "world_df = read.world_summary()"
   ]
  },
  {
   "cell_type": "code",
   "execution_count": null,
   "metadata": {},
   "outputs": [],
   "source": [
    "fig, ax = plt.subplots()\n",
    "world_df['infected'].plot(ax=ax)\n",
    "ax.axvspan(policies.social_distancing_start, \n",
    "            policies.social_distancing_end,\n",
    "            facecolor='y', alpha=0.2)\n",
    "ax.set_ylabel('# Infected')"
   ]
  },
  {
   "cell_type": "code",
   "execution_count": null,
   "metadata": {},
   "outputs": [],
   "source": [
    "world_df.plot()\n",
    "plt.axvspan(policies.social_distancing_start, \n",
    "            policies.social_distancing_end,\n",
    "            facecolor='y', alpha=0.2)\n",
    "plt.legend(bbox_to_anchor=(1,1))\n"
   ]
  },
  {
   "cell_type": "code",
   "execution_count": null,
   "metadata": {},
   "outputs": [],
   "source": [
    "area_df = read.super_area_summary()"
   ]
  },
  {
   "cell_type": "code",
   "execution_count": null,
   "metadata": {},
   "outputs": [],
   "source": [
    "area_df[area_df.super_area == \"E02003282\"].plot()\n",
    "plt.legend(bbox_to_anchor=(1,1))\n",
    "\n"
   ]
  },
  {
   "cell_type": "markdown",
   "metadata": {},
   "source": [
    "## World infection curves per age group"
   ]
  },
  {
   "cell_type": "code",
   "execution_count": null,
   "metadata": {},
   "outputs": [],
   "source": [
    "ages_df = read.age_summary([0,10,20,30,40,\n",
    "                  50,60,70,80,90,100])"
   ]
  },
  {
   "cell_type": "code",
   "execution_count": null,
   "metadata": {},
   "outputs": [],
   "source": [
    "for name, group in ages_df.groupby('age_range'):\n",
    "    group['infected'].plot(label=name)\n",
    "plt.axvspan(policies.social_distancing_start, \n",
    "            policies.social_distancing_end,\n",
    "            facecolor='y', alpha=0.2)\n",
    "plt.legend(bbox_to_anchor=(1,1))\n"
   ]
  },
  {
   "cell_type": "code",
   "execution_count": null,
   "metadata": {},
   "outputs": [],
   "source": [
    "for name, group in ages_df.groupby('age_range'):\n",
    "    group['dead'].cumsum().plot(label=name)\n",
    "plt.legend()"
   ]
  },
  {
   "cell_type": "code",
   "execution_count": null,
   "metadata": {},
   "outputs": [],
   "source": [
    "for name, group in ages_df.groupby('age_range'):\n",
    "    group['susceptible'].plot(label=name)\n",
    "plt.legend()"
   ]
  },
  {
   "cell_type": "code",
   "execution_count": null,
   "metadata": {},
   "outputs": [],
   "source": [
    "for name, group in ages_df.groupby('age_range'):\n",
    "    group['hospital_admissions'].cumsum().plot(label=name)\n",
    "plt.legend()"
   ]
  },
  {
   "cell_type": "code",
   "execution_count": null,
   "metadata": {},
   "outputs": [],
   "source": [
    "for name, group in ages_df.groupby('age_range'):\n",
    "    group['intensive_care_admissions'].cumsum().plot(label=name)\n",
    "plt.legend()"
   ]
  },
  {
   "cell_type": "markdown",
   "metadata": {},
   "source": [
    "## Draw some of the symptoms trajectories"
   ]
  },
  {
   "cell_type": "code",
   "execution_count": null,
   "metadata": {},
   "outputs": [],
   "source": [
    "random_trajectories = read.draw_symptom_trajectories(window_length=600,\n",
    "                                        n_people=10)"
   ]
  },
  {
   "cell_type": "code",
   "execution_count": null,
   "metadata": {},
   "outputs": [],
   "source": [
    "from june.infection import SymptomTag"
   ]
  },
  {
   "cell_type": "code",
   "execution_count": null,
   "metadata": {},
   "outputs": [],
   "source": [
    "symptoms_values = [tag.value for tag in SymptomTag]\n",
    "symptoms_names = [tag.name for tag in SymptomTag]\n"
   ]
  },
  {
   "cell_type": "code",
   "execution_count": null,
   "metadata": {},
   "outputs": [],
   "source": [
    "for df_person in random_trajectories:\n",
    "    df_person['symptoms'].plot()\n",
    "plt.ylabel('Symptoms Trajectory')\n",
    "_ = plt.yticks(symptoms_values, symptoms_names)\n",
    "plt.xlabel('Date')"
   ]
  },
  {
   "cell_type": "code",
   "execution_count": null,
   "metadata": {},
   "outputs": [],
   "source": [
    "for df_person in random_trajectories:\n",
    "    df_person['n_secondary_infections'].plot()\n",
    "plt.ylabel('Number of secondary infections')\n",
    "\n",
    "plt.xlabel('Date')"
   ]
  },
  {
   "cell_type": "code",
   "execution_count": null,
   "metadata": {},
   "outputs": [],
   "source": []
  },
  {
   "cell_type": "code",
   "execution_count": null,
   "metadata": {},
   "outputs": [],
   "source": []
  },
  {
   "cell_type": "code",
   "execution_count": null,
   "metadata": {},
   "outputs": [],
   "source": []
  },
  {
   "cell_type": "code",
   "execution_count": null,
   "metadata": {},
   "outputs": [],
   "source": []
  },
  {
   "cell_type": "code",
   "execution_count": null,
   "metadata": {},
   "outputs": [],
   "source": []
  }
 ],
 "metadata": {
  "kernelspec": {
   "display_name": "Python 3",
   "language": "python",
   "name": "python3"
  },
  "language_info": {
   "codemirror_mode": {
    "name": "ipython",
    "version": 3
   },
   "file_extension": ".py",
   "mimetype": "text/x-python",
   "name": "python",
   "nbconvert_exporter": "python",
   "pygments_lexer": "ipython3",
   "version": "3.8.3"
  }
 },
 "nbformat": 4,
 "nbformat_minor": 4
}
