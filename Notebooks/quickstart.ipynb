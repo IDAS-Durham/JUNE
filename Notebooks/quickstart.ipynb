{
 "cells": [
  {
   "cell_type": "code",
   "execution_count": 1,
   "metadata": {},
   "outputs": [],
   "source": [
    "%load_ext autoreload\n",
    "%autoreload 2"
   ]
  },
  {
   "cell_type": "code",
   "execution_count": 2,
   "metadata": {},
   "outputs": [],
   "source": [
    "import warnings\n",
    "warnings.filterwarnings('ignore')"
   ]
  },
  {
   "cell_type": "code",
   "execution_count": 3,
   "metadata": {},
   "outputs": [],
   "source": [
    "import numpy as np\n",
    "import time\n",
    "import matplotlib.pyplot as plt\n",
    "import seaborn as sns\n",
    "sns.set_context('notebook')"
   ]
  },
  {
   "cell_type": "code",
   "execution_count": 24,
   "metadata": {},
   "outputs": [],
   "source": [
    "from june import World \n",
    "from june.demography.geography import Geography\n",
    "from june.demography import Demography\n",
    "from june.interaction import ContactAveraging\n",
    "from june.infection import Infection\n",
    "from june.infection.symptoms import SymptomsConstant\n",
    "from june.infection.transmission import TransmissionConstant\n",
    "from june.groups import Hospitals, Schools, Companies, Households, CareHomes, Cemeteries\n",
    "from june.groups.leisure import Cinemas, Pubs, Groceries\n",
    "from june.simulator import Simulator\n",
    "from june.seed import Seed\n",
    "from june import paths\n",
    "from june.logger.read_logger import ReadLogger\n",
    "from june.logger.read_light_logger import ReadLightLogger\n",
    "\n",
    "from june.infection.infection import InfectionSelector\n",
    "from june.world import generate_world_from_hdf5"
   ]
  },
  {
   "cell_type": "markdown",
   "metadata": {},
   "source": [
    "# Initialize world\n",
    "\n",
    "To initialize a certain world, we need to add the different components we want to have in it. First we specify what super areas (msoa) we want to create. We have included these ones, because they are known to contain hospitals, schools, care homes, and companies.\n",
    "\n",
    "After creating the geography, we create the different components the worlds need to have such as care homes, companies ..."
   ]
  },
  {
   "cell_type": "code",
   "execution_count": 5,
   "metadata": {},
   "outputs": [
    {
     "name": "stdout",
     "output_type": "stream",
     "text": [
      "2020-06-08 16:23:09,680 - june.demography.geography - INFO - There are 43 areas and 2 super_areas in the world.\n",
      "2020-06-08 16:23:09,708 - june.groups.hospital - INFO - There are 1 hospitals in this geography.\n",
      "2020-06-08 16:23:09,839 - june.groups.school - INFO - There are 5 schools in this geography.\n",
      "2020-06-08 16:23:09,886 - june.groups.school - INFO - No school for the age 0 in this world.\n",
      "2020-06-08 16:23:09,896 - june.groups.school - INFO - No school for the age 1 in this world.\n",
      "2020-06-08 16:23:09,913 - june.groups.school - INFO - No school for the age 2 in this world.\n",
      "2020-06-08 16:23:10,016 - june.groups.school - INFO - No school for the age 19 in this world.\n",
      "2020-06-08 16:23:10,608 - june.groups.carehome - INFO - There are 43 care_homes in this geography.\n",
      "populating the world's geography with the specified demography...\n",
      "2020-06-08 16:23:33,931 - june.distributors.worker_distributor - INFO - There are 0 who had to be told to stay real\n",
      "CPU times: user 25.2 s, sys: 2.56 s, total: 27.8 s\n",
      "Wall time: 31.1 s\n"
     ]
    }
   ],
   "source": [
    "%%time\n",
    "geography = Geography.from_file({\n",
    "                                \"super_area\":  [\"E02002512\", \"E02001697\"]\n",
    "                                          #[\"E02001720\",\n",
    "                                          #\"E00088544\", \n",
    "                                          #\"E02002560\", \n",
    "                                          #\"E02002559\"]\n",
    "                                }\n",
    "                                )\n",
    "\n",
    "geography.hospitals = Hospitals.for_geography(geography)\n",
    "geography.schools = Schools.for_geography(geography)\n",
    "geography.companies = Companies.for_geography(geography)\n",
    "geography.care_homes = CareHomes.for_geography(geography)\n",
    "demography = Demography.for_geography(geography)\n",
    "world = World(geography, demography, include_households=True)"
   ]
  },
  {
   "cell_type": "markdown",
   "metadata": {},
   "source": [
    "### If it took a long time to run the previous command, it might be a good idea to save the world to reuse it later."
   ]
  },
  {
   "cell_type": "code",
   "execution_count": 6,
   "metadata": {},
   "outputs": [],
   "source": [
    "#world.to_hdf5(\"world.hdf5\")"
   ]
  },
  {
   "cell_type": "markdown",
   "metadata": {},
   "source": [
    "If we would like to load the world we saved, we just do"
   ]
  },
  {
   "cell_type": "code",
   "execution_count": 7,
   "metadata": {},
   "outputs": [],
   "source": [
    "#world = generate_world_from_hdf5(\"world.hdf5\")"
   ]
  },
  {
   "cell_type": "markdown",
   "metadata": {},
   "source": [
    "you have now a beautiful pre-pandemic world. "
   ]
  },
  {
   "cell_type": "markdown",
   "metadata": {},
   "source": [
    "## Commute, travel and leisure"
   ]
  },
  {
   "cell_type": "markdown",
   "metadata": {},
   "source": [
    "We can add cinemas, pubs, groceries, etc. as well as commute in major cities with"
   ]
  },
  {
   "cell_type": "code",
   "execution_count": 8,
   "metadata": {},
   "outputs": [],
   "source": [
    "# leisure\n",
    "world.cinemas = Cinemas.for_geography(geography)\n",
    "world.pubs = Pubs.for_geography(geography)\n",
    "world.groceries = Groceries.for_super_areas(world.super_areas,\n",
    "                                            venues_per_capita=1/500)"
   ]
  },
  {
   "cell_type": "code",
   "execution_count": 9,
   "metadata": {},
   "outputs": [],
   "source": [
    "# commute\n",
    "world.initialise_commuting()"
   ]
  },
  {
   "cell_type": "markdown",
   "metadata": {},
   "source": [
    "We are also going to need some cemeteries...geography.cemeteries = Cemeteries()\n"
   ]
  },
  {
   "cell_type": "code",
   "execution_count": 10,
   "metadata": {},
   "outputs": [],
   "source": [
    "world.cemeteries = Cemeteries()"
   ]
  },
  {
   "cell_type": "markdown",
   "metadata": {},
   "source": [
    "# Adding the infection"
   ]
  },
  {
   "cell_type": "markdown",
   "metadata": {},
   "source": [
    "Now, you can play around with different models of infections. The building blocks for an infection are: Transmission and Symptoms. For now, only SymptomsConstant and TransmissionConstant are in a state to be used."
   ]
  },
  {
   "cell_type": "code",
   "execution_count": 11,
   "metadata": {},
   "outputs": [],
   "source": [
    "selector = InfectionSelector.from_file()"
   ]
  },
  {
   "cell_type": "code",
   "execution_count": 12,
   "metadata": {},
   "outputs": [
    {
     "data": {
      "text/plain": [
       "<june.infection.infection.InfectionSelector at 0x7fe979678190>"
      ]
     },
     "execution_count": 12,
     "metadata": {},
     "output_type": "execute_result"
    }
   ],
   "source": [
    "selector"
   ]
  },
  {
   "cell_type": "markdown",
   "metadata": {},
   "source": [
    "# Adding the interaction"
   ]
  },
  {
   "cell_type": "code",
   "execution_count": 13,
   "metadata": {},
   "outputs": [],
   "source": [
    "interaction = ContactAveraging.from_file(selector=selector)\n",
    "#interaction = DefaultInteraction.from_file(selector=selector)"
   ]
  },
  {
   "cell_type": "markdown",
   "metadata": {},
   "source": [
    "Beta are the intensities of the interaction taking place at the different groups"
   ]
  },
  {
   "cell_type": "code",
   "execution_count": 14,
   "metadata": {},
   "outputs": [
    {
     "data": {
      "text/plain": [
       "{'box': 1,\n",
       " 'pub': 0.1,\n",
       " 'grocery': 0.1,\n",
       " 'cinema': 0.1,\n",
       " 'commute_unit': 0.5,\n",
       " 'commute_city_unit': 0.5,\n",
       " 'hospital': 0.5,\n",
       " 'care_home': 0.5,\n",
       " 'company': 0.5,\n",
       " 'school': 0.5,\n",
       " 'household': 0.5}"
      ]
     },
     "execution_count": 14,
     "metadata": {},
     "output_type": "execute_result"
    }
   ],
   "source": [
    "interaction.beta"
   ]
  },
  {
   "cell_type": "markdown",
   "metadata": {},
   "source": [
    "to modify these, simply do"
   ]
  },
  {
   "cell_type": "code",
   "execution_count": 15,
   "metadata": {},
   "outputs": [],
   "source": [
    "interaction.beta['household'] *= 2"
   ]
  },
  {
   "cell_type": "code",
   "execution_count": 16,
   "metadata": {},
   "outputs": [
    {
     "data": {
      "text/plain": [
       "{'box': 1,\n",
       " 'pub': 0.1,\n",
       " 'grocery': 0.1,\n",
       " 'cinema': 0.1,\n",
       " 'commute_unit': 0.5,\n",
       " 'commute_city_unit': 0.5,\n",
       " 'hospital': 0.5,\n",
       " 'care_home': 0.5,\n",
       " 'company': 0.5,\n",
       " 'school': 0.5,\n",
       " 'household': 1.0}"
      ]
     },
     "execution_count": 16,
     "metadata": {},
     "output_type": "execute_result"
    }
   ],
   "source": [
    "interaction.beta"
   ]
  },
  {
   "cell_type": "markdown",
   "metadata": {},
   "source": [
    "moreover this interaction module uses contact matrices, that are different for different groups. These contact matrices shouldnt be modified for now. However they are a combination of conversational contact matrices, and physical contact matrices (see the BBC pandemic paper, from where these matrices are extracted https://www.medrxiv.org/content/10.1101/2020.02.16.20023754v2)\n",
    "\n",
    "There is a parameter, ``alpha`` ($\\alpha$), that combines these two matrices in the following way,\n",
    "\n",
    "\n",
    "$\\beta M \\left(1 + (\\alpha -1) \\right) P$\n",
    "\n",
    "where $\\beta$ is the intensity of the interaction, and $P$ the physical contact matrix. A larger $\\alpha$ produces more physical contacts. It is an overall number, non dependent of the particular group.\n"
   ]
  },
  {
   "cell_type": "code",
   "execution_count": 17,
   "metadata": {},
   "outputs": [
    {
     "data": {
      "text/plain": [
       "2.0"
      ]
     },
     "execution_count": 17,
     "metadata": {},
     "output_type": "execute_result"
    }
   ],
   "source": [
    "interaction.alpha_physical"
   ]
  },
  {
   "cell_type": "code",
   "execution_count": 18,
   "metadata": {},
   "outputs": [],
   "source": [
    "interaction.alpha_physical /= 2"
   ]
  },
  {
   "cell_type": "code",
   "execution_count": 19,
   "metadata": {},
   "outputs": [
    {
     "data": {
      "text/plain": [
       "1.0"
      ]
     },
     "execution_count": 19,
     "metadata": {},
     "output_type": "execute_result"
    }
   ],
   "source": [
    "interaction.alpha_physical"
   ]
  },
  {
   "cell_type": "markdown",
   "metadata": {},
   "source": [
    "# Seed the disease"
   ]
  },
  {
   "cell_type": "markdown",
   "metadata": {},
   "source": [
    "There are two options implemented in the seed at the moment, either you specify the number of cases and these are then homogeneously distributed by population to the different areas, or you use UK data on cases per region. For now use the first case."
   ]
  },
  {
   "cell_type": "code",
   "execution_count": 20,
   "metadata": {},
   "outputs": [],
   "source": [
    "seed = Seed(world.super_areas, selector,)"
   ]
  },
  {
   "cell_type": "code",
   "execution_count": 21,
   "metadata": {},
   "outputs": [],
   "source": [
    "n_cases = 50\n",
    "seed.unleash_virus(n_cases) # play around with the initial number of cases"
   ]
  },
  {
   "cell_type": "markdown",
   "metadata": {},
   "source": [
    "# Run the simulation"
   ]
  },
  {
   "cell_type": "markdown",
   "metadata": {},
   "source": [
    "Since the timer configuration is a bit cumbersome, it is read from the config file at ``configs/config_example.yaml``"
   ]
  },
  {
   "cell_type": "code",
   "execution_count": 22,
   "metadata": {},
   "outputs": [],
   "source": [
    "CONFIG_PATH = \"../configs/config_example.yaml\"\n",
    "\n",
    "simulator = Simulator.from_file(\n",
    "     world, interaction, selector, \n",
    "    config_filename = CONFIG_PATH\n",
    ")"
   ]
  },
  {
   "cell_type": "code",
   "execution_count": 23,
   "metadata": {
    "scrolled": true
   },
   "outputs": [
    {
     "name": "stdout",
     "output_type": "stream",
     "text": [
      "2020-06-08 16:24:25,159 - june.simulator - INFO - Starting group_dynamics for 120 days at day 0\n",
      "2020-06-08 16:24:25,167 - june.simulator - INFO - starting the loop ..., at 0 days, to run for 120 days\n",
      "2020-06-08 16:24:25,451 - june.simulator - INFO - Date = 2020-03-07 12:00:00, number of deaths =\t0, number of infected = 50\n",
      "2020-06-08 16:24:31,803 - june.simulator - INFO - Date = 2020-03-08 00:00:00, number of deaths =\t0, number of infected = 50\n",
      "2020-06-08 16:24:33,159 - june.simulator - INFO - Date = 2020-03-08 12:00:00, number of deaths =\t0, number of infected = 50\n",
      "2020-06-08 16:24:34,296 - june.simulator - INFO - Date = 2020-03-09 00:00:00, number of deaths =\t0, number of infected = 50\n",
      "2020-06-08 16:24:35,216 - june.simulator - INFO - Date = 2020-03-09 10:00:00, number of deaths =\t0, number of infected = 50\n",
      "2020-06-08 16:24:36,254 - june.simulator - INFO - Date = 2020-03-09 12:00:00, number of deaths =\t0, number of infected = 50\n",
      "2020-06-08 16:24:37,365 - june.simulator - INFO - Date = 2020-03-10 00:00:00, number of deaths =\t0, number of infected = 50\n",
      "2020-06-08 16:24:38,421 - june.simulator - INFO - Date = 2020-03-10 10:00:00, number of deaths =\t0, number of infected = 50\n",
      "2020-06-08 16:24:39,474 - june.simulator - INFO - Date = 2020-03-10 12:00:00, number of deaths =\t0, number of infected = 50\n",
      "2020-06-08 16:24:40,407 - june.simulator - INFO - Date = 2020-03-11 00:00:00, number of deaths =\t0, number of infected = 50\n",
      "2020-06-08 16:24:41,281 - june.simulator - INFO - Date = 2020-03-11 10:00:00, number of deaths =\t0, number of infected = 54\n",
      "2020-06-08 16:24:42,254 - june.simulator - INFO - Date = 2020-03-11 12:00:00, number of deaths =\t0, number of infected = 60\n",
      "2020-06-08 16:24:43,231 - june.simulator - INFO - Date = 2020-03-12 00:00:00, number of deaths =\t0, number of infected = 91\n",
      "2020-06-08 16:24:44,208 - june.simulator - INFO - Date = 2020-03-12 10:00:00, number of deaths =\t0, number of infected = 111\n",
      "2020-06-08 16:24:45,335 - june.simulator - INFO - Date = 2020-03-12 12:00:00, number of deaths =\t0, number of infected = 115\n",
      "2020-06-08 16:24:46,448 - june.simulator - INFO - Date = 2020-03-13 00:00:00, number of deaths =\t0, number of infected = 135\n",
      "2020-06-08 16:24:47,368 - june.simulator - INFO - Date = 2020-03-13 10:00:00, number of deaths =\t0, number of infected = 158\n",
      "2020-06-08 16:24:48,369 - june.simulator - INFO - Date = 2020-03-13 12:00:00, number of deaths =\t0, number of infected = 159\n",
      "2020-06-08 16:24:50,275 - june.simulator - INFO - Date = 2020-03-14 00:00:00, number of deaths =\t0, number of infected = 162\n",
      "2020-06-08 16:24:51,286 - june.simulator - INFO - Date = 2020-03-14 12:00:00, number of deaths =\t0, number of infected = 167\n",
      "2020-06-08 16:24:53,306 - june.simulator - INFO - Date = 2020-03-15 00:00:00, number of deaths =\t0, number of infected = 174\n",
      "2020-06-08 16:24:54,342 - june.simulator - INFO - Date = 2020-03-15 12:00:00, number of deaths =\t0, number of infected = 183\n",
      "2020-06-08 16:24:55,448 - june.simulator - INFO - Date = 2020-03-16 00:00:00, number of deaths =\t0, number of infected = 197\n",
      "2020-06-08 16:24:56,456 - june.simulator - INFO - Date = 2020-03-16 10:00:00, number of deaths =\t0, number of infected = 282\n",
      "2020-06-08 16:24:57,647 - june.simulator - INFO - Date = 2020-03-16 12:00:00, number of deaths =\t0, number of infected = 289\n",
      "2020-06-08 16:24:58,832 - june.simulator - INFO - Date = 2020-03-17 00:00:00, number of deaths =\t0, number of infected = 319\n",
      "2020-06-08 16:24:59,877 - june.simulator - INFO - Date = 2020-03-17 10:00:00, number of deaths =\t0, number of infected = 405\n",
      "2020-06-08 16:25:00,909 - june.simulator - INFO - Date = 2020-03-17 12:00:00, number of deaths =\t0, number of infected = 407\n",
      "2020-06-08 16:25:01,859 - june.simulator - INFO - Date = 2020-03-18 00:00:00, number of deaths =\t0, number of infected = 427\n",
      "2020-06-08 16:25:02,842 - june.simulator - INFO - Date = 2020-03-18 10:00:00, number of deaths =\t0, number of infected = 525\n",
      "2020-06-08 16:25:03,755 - june.simulator - INFO - Date = 2020-03-18 12:00:00, number of deaths =\t0, number of infected = 528\n",
      "2020-06-08 16:25:04,812 - june.simulator - INFO - Date = 2020-03-19 00:00:00, number of deaths =\t0, number of infected = 541\n",
      "2020-06-08 16:25:05,869 - june.simulator - INFO - Date = 2020-03-19 10:00:00, number of deaths =\t0, number of infected = 640\n",
      "2020-06-08 16:25:06,882 - june.simulator - INFO - Date = 2020-03-19 12:00:00, number of deaths =\t0, number of infected = 652\n",
      "2020-06-08 16:25:08,109 - june.simulator - INFO - Date = 2020-03-20 00:00:00, number of deaths =\t0, number of infected = 710\n",
      "2020-06-08 16:25:09,266 - june.simulator - INFO - Date = 2020-03-20 10:00:00, number of deaths =\t0, number of infected = 893\n",
      "2020-06-08 16:25:10,405 - june.simulator - INFO - Date = 2020-03-20 12:00:00, number of deaths =\t0, number of infected = 918\n",
      "2020-06-08 16:25:12,475 - june.simulator - INFO - Date = 2020-03-21 00:00:00, number of deaths =\t0, number of infected = 1012\n",
      "2020-06-08 16:25:13,733 - june.simulator - INFO - Date = 2020-03-21 12:00:00, number of deaths =\t0, number of infected = 1058\n",
      "2020-06-08 16:25:15,714 - june.simulator - INFO - Date = 2020-03-22 00:00:00, number of deaths =\t0, number of infected = 1171\n",
      "2020-06-08 16:25:16,730 - june.simulator - INFO - Date = 2020-03-22 12:00:00, number of deaths =\t0, number of infected = 1207\n",
      "2020-06-08 16:25:17,905 - june.simulator - INFO - Date = 2020-03-23 00:00:00, number of deaths =\t0, number of infected = 1358\n",
      "2020-06-08 16:25:19,339 - june.simulator - INFO - Date = 2020-03-23 10:00:00, number of deaths =\t2, number of infected = 1844\n",
      "2020-06-08 16:25:20,469 - june.simulator - INFO - Date = 2020-03-23 12:00:00, number of deaths =\t2, number of infected = 1892\n",
      "2020-06-08 16:25:21,510 - june.simulator - INFO - Date = 2020-03-24 00:00:00, number of deaths =\t2, number of infected = 2057\n",
      "2020-06-08 16:25:22,993 - june.simulator - INFO - Date = 2020-03-24 10:00:00, number of deaths =\t2, number of infected = 2524\n",
      "2020-06-08 16:25:24,151 - june.simulator - INFO - Date = 2020-03-24 12:00:00, number of deaths =\t2, number of infected = 2558\n",
      "2020-06-08 16:25:25,414 - june.simulator - INFO - Date = 2020-03-25 00:00:00, number of deaths =\t2, number of infected = 2685\n",
      "2020-06-08 16:25:26,818 - june.simulator - INFO - Date = 2020-03-25 10:00:00, number of deaths =\t2, number of infected = 3065\n",
      "2020-06-08 16:25:27,950 - june.simulator - INFO - Date = 2020-03-25 12:00:00, number of deaths =\t2, number of infected = 3080\n",
      "2020-06-08 16:25:29,223 - june.simulator - INFO - Date = 2020-03-26 00:00:00, number of deaths =\t2, number of infected = 3158\n",
      "2020-06-08 16:25:30,630 - june.simulator - INFO - Date = 2020-03-26 10:00:00, number of deaths =\t2, number of infected = 3612\n",
      "2020-06-08 16:25:31,738 - june.simulator - INFO - Date = 2020-03-26 12:00:00, number of deaths =\t2, number of infected = 3657\n",
      "2020-06-08 16:25:32,949 - june.simulator - INFO - Date = 2020-03-27 00:00:00, number of deaths =\t2, number of infected = 3909\n",
      "2020-06-08 16:25:34,554 - june.simulator - INFO - Date = 2020-03-27 10:00:00, number of deaths =\t2, number of infected = 4377\n",
      "2020-06-08 16:25:35,747 - june.simulator - INFO - Date = 2020-03-27 12:00:00, number of deaths =\t2, number of infected = 4457\n",
      "2020-06-08 16:25:37,527 - june.simulator - INFO - Date = 2020-03-28 00:00:00, number of deaths =\t4, number of infected = 4797\n",
      "2020-06-08 16:25:38,541 - june.simulator - INFO - Date = 2020-03-28 12:00:00, number of deaths =\t4, number of infected = 4913\n",
      "2020-06-08 16:25:39,921 - june.simulator - INFO - Date = 2020-03-29 00:00:00, number of deaths =\t4, number of infected = 5271\n",
      "2020-06-08 16:25:40,861 - june.simulator - INFO - Date = 2020-03-29 12:00:00, number of deaths =\t4, number of infected = 5367\n",
      "2020-06-08 16:25:42,193 - june.simulator - INFO - Date = 2020-03-30 00:00:00, number of deaths =\t4, number of infected = 5753\n",
      "2020-06-08 16:25:43,583 - june.simulator - INFO - Date = 2020-03-30 10:00:00, number of deaths =\t4, number of infected = 6439\n",
      "2020-06-08 16:25:44,588 - june.simulator - INFO - Date = 2020-03-30 12:00:00, number of deaths =\t4, number of infected = 6489\n",
      "2020-06-08 16:25:45,870 - june.simulator - INFO - Date = 2020-03-31 00:00:00, number of deaths =\t5, number of infected = 6802\n"
     ]
    },
    {
     "name": "stdout",
     "output_type": "stream",
     "text": [
      "2020-06-08 16:25:47,165 - june.simulator - INFO - Date = 2020-03-31 10:00:00, number of deaths =\t6, number of infected = 7354\n",
      "2020-06-08 16:25:48,163 - june.simulator - INFO - Date = 2020-03-31 12:00:00, number of deaths =\t6, number of infected = 7389\n",
      "2020-06-08 16:25:49,264 - june.simulator - INFO - Date = 2020-04-01 00:00:00, number of deaths =\t6, number of infected = 7528\n",
      "2020-06-08 16:25:50,790 - june.simulator - INFO - Date = 2020-04-01 10:00:00, number of deaths =\t6, number of infected = 7943\n",
      "2020-06-08 16:25:51,836 - june.simulator - INFO - Date = 2020-04-01 12:00:00, number of deaths =\t6, number of infected = 7958\n",
      "2020-06-08 16:25:52,979 - june.simulator - INFO - Date = 2020-04-02 00:00:00, number of deaths =\t9, number of infected = 8024\n",
      "2020-06-08 16:25:54,113 - june.simulator - INFO - Date = 2020-04-02 10:00:00, number of deaths =\t9, number of infected = 8419\n",
      "2020-06-08 16:25:55,164 - june.simulator - INFO - Date = 2020-04-02 12:00:00, number of deaths =\t9, number of infected = 8438\n",
      "2020-06-08 16:25:56,486 - june.simulator - INFO - Date = 2020-04-03 00:00:00, number of deaths =\t9, number of infected = 8601\n",
      "2020-06-08 16:25:57,940 - june.simulator - INFO - Date = 2020-04-03 10:00:00, number of deaths =\t11, number of infected = 8960\n",
      "2020-06-08 16:25:59,096 - june.simulator - INFO - Date = 2020-04-03 12:00:00, number of deaths =\t11, number of infected = 9005\n",
      "2020-06-08 16:26:00,581 - june.simulator - INFO - Date = 2020-04-04 00:00:00, number of deaths =\t11, number of infected = 9162\n",
      "2020-06-08 16:26:01,775 - june.simulator - INFO - Date = 2020-04-04 12:00:00, number of deaths =\t12, number of infected = 9208\n",
      "2020-06-08 16:26:03,341 - june.simulator - INFO - Date = 2020-04-05 00:00:00, number of deaths =\t13, number of infected = 9357\n",
      "2020-06-08 16:26:04,604 - june.simulator - INFO - Date = 2020-04-05 12:00:00, number of deaths =\t15, number of infected = 9368\n",
      "2020-06-08 16:26:05,855 - june.simulator - INFO - Date = 2020-04-06 00:00:00, number of deaths =\t15, number of infected = 9503\n",
      "2020-06-08 16:26:07,200 - june.simulator - INFO - Date = 2020-04-06 10:00:00, number of deaths =\t15, number of infected = 9805\n",
      "2020-06-08 16:26:08,441 - june.simulator - INFO - Date = 2020-04-06 12:00:00, number of deaths =\t15, number of infected = 9828\n",
      "2020-06-08 16:26:09,966 - june.simulator - INFO - Date = 2020-04-07 00:00:00, number of deaths =\t15, number of infected = 9878\n",
      "2020-06-08 16:26:11,256 - june.simulator - INFO - Date = 2020-04-07 10:00:00, number of deaths =\t16, number of infected = 10038\n",
      "2020-06-08 16:26:12,373 - june.simulator - INFO - Date = 2020-04-07 12:00:00, number of deaths =\t16, number of infected = 10039\n",
      "2020-06-08 16:26:13,592 - june.simulator - INFO - Date = 2020-04-08 00:00:00, number of deaths =\t19, number of infected = 10009\n",
      "2020-06-08 16:26:14,909 - june.simulator - INFO - Date = 2020-04-08 10:00:00, number of deaths =\t19, number of infected = 10083\n",
      "2020-06-08 16:26:16,176 - june.simulator - INFO - Date = 2020-04-08 12:00:00, number of deaths =\t19, number of infected = 10077\n",
      "2020-06-08 16:26:17,371 - june.simulator - INFO - Date = 2020-04-09 00:00:00, number of deaths =\t19, number of infected = 10008\n",
      "2020-06-08 16:26:18,538 - june.simulator - INFO - Date = 2020-04-09 10:00:00, number of deaths =\t21, number of infected = 10010\n",
      "2020-06-08 16:26:19,645 - june.simulator - INFO - Date = 2020-04-09 12:00:00, number of deaths =\t21, number of infected = 10004\n",
      "2020-06-08 16:26:20,902 - june.simulator - INFO - Date = 2020-04-10 00:00:00, number of deaths =\t21, number of infected = 9955\n",
      "2020-06-08 16:26:22,071 - june.simulator - INFO - Date = 2020-04-10 10:00:00, number of deaths =\t24, number of infected = 9914\n",
      "2020-06-08 16:26:23,258 - june.simulator - INFO - Date = 2020-04-10 12:00:00, number of deaths =\t24, number of infected = 9910\n",
      "2020-06-08 16:26:24,595 - june.simulator - INFO - Date = 2020-04-11 00:00:00, number of deaths =\t24, number of infected = 9849\n",
      "2020-06-08 16:26:25,829 - june.simulator - INFO - Date = 2020-04-11 12:00:00, number of deaths =\t25, number of infected = 9740\n",
      "2020-06-08 16:26:27,274 - june.simulator - INFO - Date = 2020-04-12 00:00:00, number of deaths =\t26, number of infected = 9658\n",
      "2020-06-08 16:26:28,448 - june.simulator - INFO - Date = 2020-04-12 12:00:00, number of deaths =\t26, number of infected = 9524\n",
      "2020-06-08 16:26:29,704 - june.simulator - INFO - Date = 2020-04-13 00:00:00, number of deaths =\t28, number of infected = 9399\n",
      "2020-06-08 16:26:30,914 - june.simulator - INFO - Date = 2020-04-13 10:00:00, number of deaths =\t29, number of infected = 9269\n",
      "2020-06-08 16:26:31,920 - june.simulator - INFO - Date = 2020-04-13 12:00:00, number of deaths =\t29, number of infected = 9247\n",
      "2020-06-08 16:26:32,957 - june.simulator - INFO - Date = 2020-04-14 00:00:00, number of deaths =\t31, number of infected = 9079\n",
      "2020-06-08 16:26:33,887 - june.simulator - INFO - Date = 2020-04-14 10:00:00, number of deaths =\t35, number of infected = 8953\n",
      "2020-06-08 16:26:34,794 - june.simulator - INFO - Date = 2020-04-14 12:00:00, number of deaths =\t35, number of infected = 8919\n",
      "2020-06-08 16:26:35,806 - june.simulator - INFO - Date = 2020-04-15 00:00:00, number of deaths =\t39, number of infected = 8727\n",
      "2020-06-08 16:26:36,824 - june.simulator - INFO - Date = 2020-04-15 10:00:00, number of deaths =\t42, number of infected = 8553\n",
      "2020-06-08 16:26:37,870 - june.simulator - INFO - Date = 2020-04-15 12:00:00, number of deaths =\t43, number of infected = 8505\n",
      "2020-06-08 16:26:39,020 - june.simulator - INFO - Date = 2020-04-16 00:00:00, number of deaths =\t45, number of infected = 8278\n",
      "2020-06-08 16:26:39,937 - june.simulator - INFO - Date = 2020-04-16 10:00:00, number of deaths =\t47, number of infected = 8090\n",
      "2020-06-08 16:26:40,855 - june.simulator - INFO - Date = 2020-04-16 12:00:00, number of deaths =\t47, number of infected = 8049\n",
      "2020-06-08 16:26:41,871 - june.simulator - INFO - Date = 2020-04-17 00:00:00, number of deaths =\t47, number of infected = 7812\n",
      "2020-06-08 16:26:42,760 - june.simulator - INFO - Date = 2020-04-17 10:00:00, number of deaths =\t48, number of infected = 7600\n",
      "2020-06-08 16:26:43,644 - june.simulator - INFO - Date = 2020-04-17 12:00:00, number of deaths =\t48, number of infected = 7570\n",
      "2020-06-08 16:26:44,794 - june.simulator - INFO - Date = 2020-04-18 00:00:00, number of deaths =\t48, number of infected = 7301\n",
      "2020-06-08 16:26:45,723 - june.simulator - INFO - Date = 2020-04-18 12:00:00, number of deaths =\t51, number of infected = 7076\n",
      "2020-06-08 16:26:47,189 - june.simulator - INFO - Date = 2020-04-19 00:00:00, number of deaths =\t56, number of infected = 6844\n",
      "2020-06-08 16:26:48,345 - june.simulator - INFO - Date = 2020-04-19 12:00:00, number of deaths =\t58, number of infected = 6611\n",
      "2020-06-08 16:26:49,418 - june.simulator - INFO - Date = 2020-04-20 00:00:00, number of deaths =\t62, number of infected = 6359\n",
      "2020-06-08 16:26:50,558 - june.simulator - INFO - Date = 2020-04-20 10:00:00, number of deaths =\t62, number of infected = 6152\n",
      "2020-06-08 16:26:51,783 - june.simulator - INFO - Date = 2020-04-20 12:00:00, number of deaths =\t62, number of infected = 6112\n",
      "2020-06-08 16:26:52,918 - june.simulator - INFO - Date = 2020-04-21 00:00:00, number of deaths =\t64, number of infected = 5855\n",
      "2020-06-08 16:26:54,088 - june.simulator - INFO - Date = 2020-04-21 10:00:00, number of deaths =\t66, number of infected = 5636\n",
      "2020-06-08 16:26:55,118 - june.simulator - INFO - Date = 2020-04-21 12:00:00, number of deaths =\t68, number of infected = 5592\n",
      "2020-06-08 16:26:56,160 - june.simulator - INFO - Date = 2020-04-22 00:00:00, number of deaths =\t71, number of infected = 5343\n",
      "2020-06-08 16:26:57,214 - june.simulator - INFO - Date = 2020-04-22 10:00:00, number of deaths =\t73, number of infected = 5133\n",
      "2020-06-08 16:26:58,160 - june.simulator - INFO - Date = 2020-04-22 12:00:00, number of deaths =\t73, number of infected = 5100\n",
      "2020-06-08 16:26:59,083 - june.simulator - INFO - Date = 2020-04-23 00:00:00, number of deaths =\t76, number of infected = 4841\n",
      "2020-06-08 16:26:59,938 - june.simulator - INFO - Date = 2020-04-23 10:00:00, number of deaths =\t78, number of infected = 4630\n",
      "2020-06-08 16:27:00,782 - june.simulator - INFO - Date = 2020-04-23 12:00:00, number of deaths =\t78, number of infected = 4579\n"
     ]
    },
    {
     "name": "stdout",
     "output_type": "stream",
     "text": [
      "2020-06-08 16:27:01,635 - june.simulator - INFO - Date = 2020-04-24 00:00:00, number of deaths =\t81, number of infected = 4345\n",
      "2020-06-08 16:27:02,496 - june.simulator - INFO - Date = 2020-04-24 10:00:00, number of deaths =\t81, number of infected = 4139\n",
      "2020-06-08 16:27:03,438 - june.simulator - INFO - Date = 2020-04-24 12:00:00, number of deaths =\t81, number of infected = 4099\n",
      "2020-06-08 16:27:04,706 - june.simulator - INFO - Date = 2020-04-25 00:00:00, number of deaths =\t83, number of infected = 3833\n",
      "2020-06-08 16:27:05,609 - june.simulator - INFO - Date = 2020-04-25 12:00:00, number of deaths =\t84, number of infected = 3599\n",
      "2020-06-08 16:27:06,755 - june.simulator - INFO - Date = 2020-04-26 00:00:00, number of deaths =\t87, number of infected = 3358\n",
      "2020-06-08 16:27:07,800 - june.simulator - INFO - Date = 2020-04-26 12:00:00, number of deaths =\t89, number of infected = 3145\n",
      "2020-06-08 16:27:08,708 - june.simulator - INFO - Date = 2020-04-27 00:00:00, number of deaths =\t91, number of infected = 2930\n",
      "2020-06-08 16:27:09,537 - june.simulator - INFO - Date = 2020-04-27 10:00:00, number of deaths =\t91, number of infected = 2799\n",
      "2020-06-08 16:27:10,400 - june.simulator - INFO - Date = 2020-04-27 12:00:00, number of deaths =\t91, number of infected = 2769\n",
      "2020-06-08 16:27:11,273 - june.simulator - INFO - Date = 2020-04-28 00:00:00, number of deaths =\t93, number of infected = 2572\n",
      "2020-06-08 16:27:12,031 - june.simulator - INFO - Date = 2020-04-28 10:00:00, number of deaths =\t93, number of infected = 2420\n",
      "2020-06-08 16:27:12,791 - june.simulator - INFO - Date = 2020-04-28 12:00:00, number of deaths =\t93, number of infected = 2386\n",
      "2020-06-08 16:27:13,674 - june.simulator - INFO - Date = 2020-04-29 00:00:00, number of deaths =\t94, number of infected = 2228\n",
      "2020-06-08 16:27:14,493 - june.simulator - INFO - Date = 2020-04-29 10:00:00, number of deaths =\t94, number of infected = 2090\n",
      "2020-06-08 16:27:15,523 - june.simulator - INFO - Date = 2020-04-29 12:00:00, number of deaths =\t94, number of infected = 2062\n",
      "2020-06-08 16:27:16,395 - june.simulator - INFO - Date = 2020-04-30 00:00:00, number of deaths =\t94, number of infected = 1890\n",
      "2020-06-08 16:27:17,336 - june.simulator - INFO - Date = 2020-04-30 10:00:00, number of deaths =\t94, number of infected = 1780\n",
      "2020-06-08 16:27:18,187 - june.simulator - INFO - Date = 2020-04-30 12:00:00, number of deaths =\t94, number of infected = 1752\n",
      "2020-06-08 16:27:19,082 - june.simulator - INFO - Date = 2020-05-01 00:00:00, number of deaths =\t94, number of infected = 1627\n",
      "2020-06-08 16:27:19,933 - june.simulator - INFO - Date = 2020-05-01 10:00:00, number of deaths =\t94, number of infected = 1526\n",
      "2020-06-08 16:27:20,865 - june.simulator - INFO - Date = 2020-05-01 12:00:00, number of deaths =\t94, number of infected = 1510\n",
      "2020-06-08 16:27:21,890 - june.simulator - INFO - Date = 2020-05-02 00:00:00, number of deaths =\t94, number of infected = 1405\n",
      "2020-06-08 16:27:22,679 - june.simulator - INFO - Date = 2020-05-02 12:00:00, number of deaths =\t94, number of infected = 1315\n",
      "2020-06-08 16:27:23,703 - june.simulator - INFO - Date = 2020-05-03 00:00:00, number of deaths =\t94, number of infected = 1218\n",
      "2020-06-08 16:27:24,535 - june.simulator - INFO - Date = 2020-05-03 12:00:00, number of deaths =\t94, number of infected = 1127\n",
      "2020-06-08 16:27:25,462 - june.simulator - INFO - Date = 2020-05-04 00:00:00, number of deaths =\t94, number of infected = 1039\n",
      "2020-06-08 16:27:26,392 - june.simulator - INFO - Date = 2020-05-04 10:00:00, number of deaths =\t94, number of infected = 966\n",
      "2020-06-08 16:27:27,306 - june.simulator - INFO - Date = 2020-05-04 12:00:00, number of deaths =\t94, number of infected = 953\n",
      "2020-06-08 16:27:28,145 - june.simulator - INFO - Date = 2020-05-05 00:00:00, number of deaths =\t94, number of infected = 899\n",
      "2020-06-08 16:27:29,043 - june.simulator - INFO - Date = 2020-05-05 10:00:00, number of deaths =\t94, number of infected = 850\n",
      "2020-06-08 16:27:29,933 - june.simulator - INFO - Date = 2020-05-05 12:00:00, number of deaths =\t94, number of infected = 843\n",
      "2020-06-08 16:27:30,837 - june.simulator - INFO - Date = 2020-05-06 00:00:00, number of deaths =\t95, number of infected = 780\n",
      "2020-06-08 16:27:31,676 - june.simulator - INFO - Date = 2020-05-06 10:00:00, number of deaths =\t95, number of infected = 732\n",
      "2020-06-08 16:27:32,436 - june.simulator - INFO - Date = 2020-05-06 12:00:00, number of deaths =\t95, number of infected = 726\n",
      "2020-06-08 16:27:33,243 - june.simulator - INFO - Date = 2020-05-07 00:00:00, number of deaths =\t97, number of infected = 672\n",
      "2020-06-08 16:27:34,087 - june.simulator - INFO - Date = 2020-05-07 10:00:00, number of deaths =\t98, number of infected = 626\n",
      "2020-06-08 16:27:34,954 - june.simulator - INFO - Date = 2020-05-07 12:00:00, number of deaths =\t98, number of infected = 615\n",
      "2020-06-08 16:27:35,736 - june.simulator - INFO - Date = 2020-05-08 00:00:00, number of deaths =\t98, number of infected = 578\n",
      "2020-06-08 16:27:36,543 - june.simulator - INFO - Date = 2020-05-08 10:00:00, number of deaths =\t99, number of infected = 546\n",
      "2020-06-08 16:27:37,274 - june.simulator - INFO - Date = 2020-05-08 12:00:00, number of deaths =\t99, number of infected = 538\n",
      "2020-06-08 16:27:38,276 - june.simulator - INFO - Date = 2020-05-09 00:00:00, number of deaths =\t99, number of infected = 504\n",
      "2020-06-08 16:27:39,132 - june.simulator - INFO - Date = 2020-05-09 12:00:00, number of deaths =\t99, number of infected = 473\n",
      "2020-06-08 16:27:40,137 - june.simulator - INFO - Date = 2020-05-10 00:00:00, number of deaths =\t99, number of infected = 441\n",
      "2020-06-08 16:27:41,002 - june.simulator - INFO - Date = 2020-05-10 12:00:00, number of deaths =\t99, number of infected = 413\n",
      "2020-06-08 16:27:41,866 - june.simulator - INFO - Date = 2020-05-11 00:00:00, number of deaths =\t99, number of infected = 383\n",
      "2020-06-08 16:27:42,764 - june.simulator - INFO - Date = 2020-05-11 10:00:00, number of deaths =\t99, number of infected = 364\n",
      "2020-06-08 16:27:43,594 - june.simulator - INFO - Date = 2020-05-11 12:00:00, number of deaths =\t99, number of infected = 359\n",
      "2020-06-08 16:27:44,465 - june.simulator - INFO - Date = 2020-05-12 00:00:00, number of deaths =\t99, number of infected = 337\n",
      "2020-06-08 16:27:45,208 - june.simulator - INFO - Date = 2020-05-12 10:00:00, number of deaths =\t99, number of infected = 319\n",
      "2020-06-08 16:27:46,098 - june.simulator - INFO - Date = 2020-05-12 12:00:00, number of deaths =\t99, number of infected = 314\n",
      "2020-06-08 16:27:46,988 - june.simulator - INFO - Date = 2020-05-13 00:00:00, number of deaths =\t99, number of infected = 296\n",
      "2020-06-08 16:27:47,908 - june.simulator - INFO - Date = 2020-05-13 10:00:00, number of deaths =\t99, number of infected = 279\n",
      "2020-06-08 16:27:48,841 - june.simulator - INFO - Date = 2020-05-13 12:00:00, number of deaths =\t99, number of infected = 276\n",
      "2020-06-08 16:27:49,914 - june.simulator - INFO - Date = 2020-05-14 00:00:00, number of deaths =\t99, number of infected = 262\n",
      "2020-06-08 16:27:50,818 - june.simulator - INFO - Date = 2020-05-14 10:00:00, number of deaths =\t100, number of infected = 251\n",
      "2020-06-08 16:27:51,608 - june.simulator - INFO - Date = 2020-05-14 12:00:00, number of deaths =\t101, number of infected = 249\n",
      "2020-06-08 16:27:52,407 - june.simulator - INFO - Date = 2020-05-15 00:00:00, number of deaths =\t101, number of infected = 237\n",
      "2020-06-08 16:27:53,349 - june.simulator - INFO - Date = 2020-05-15 10:00:00, number of deaths =\t101, number of infected = 228\n",
      "2020-06-08 16:27:54,273 - june.simulator - INFO - Date = 2020-05-15 12:00:00, number of deaths =\t101, number of infected = 226\n",
      "2020-06-08 16:27:55,280 - june.simulator - INFO - Date = 2020-05-16 00:00:00, number of deaths =\t101, number of infected = 216\n",
      "2020-06-08 16:27:56,093 - june.simulator - INFO - Date = 2020-05-16 12:00:00, number of deaths =\t101, number of infected = 204\n",
      "2020-06-08 16:27:57,113 - june.simulator - INFO - Date = 2020-05-17 00:00:00, number of deaths =\t101, number of infected = 196\n",
      "2020-06-08 16:27:57,970 - june.simulator - INFO - Date = 2020-05-17 12:00:00, number of deaths =\t101, number of infected = 183\n",
      "2020-06-08 16:27:58,857 - june.simulator - INFO - Date = 2020-05-18 00:00:00, number of deaths =\t101, number of infected = 177\n"
     ]
    },
    {
     "name": "stdout",
     "output_type": "stream",
     "text": [
      "2020-06-08 16:27:59,700 - june.simulator - INFO - Date = 2020-05-18 10:00:00, number of deaths =\t101, number of infected = 168\n",
      "2020-06-08 16:28:00,526 - june.simulator - INFO - Date = 2020-05-18 12:00:00, number of deaths =\t101, number of infected = 167\n",
      "2020-06-08 16:28:01,380 - june.simulator - INFO - Date = 2020-05-19 00:00:00, number of deaths =\t101, number of infected = 165\n",
      "2020-06-08 16:28:02,335 - june.simulator - INFO - Date = 2020-05-19 10:00:00, number of deaths =\t101, number of infected = 155\n",
      "2020-06-08 16:28:03,110 - june.simulator - INFO - Date = 2020-05-19 12:00:00, number of deaths =\t101, number of infected = 153\n",
      "2020-06-08 16:28:03,920 - june.simulator - INFO - Date = 2020-05-20 00:00:00, number of deaths =\t101, number of infected = 142\n",
      "2020-06-08 16:28:04,606 - june.simulator - INFO - Date = 2020-05-20 10:00:00, number of deaths =\t101, number of infected = 134\n",
      "2020-06-08 16:28:05,360 - june.simulator - INFO - Date = 2020-05-20 12:00:00, number of deaths =\t101, number of infected = 133\n",
      "2020-06-08 16:28:06,121 - june.simulator - INFO - Date = 2020-05-21 00:00:00, number of deaths =\t101, number of infected = 129\n",
      "2020-06-08 16:28:06,728 - june.simulator - INFO - Date = 2020-05-21 10:00:00, number of deaths =\t101, number of infected = 124\n",
      "2020-06-08 16:28:07,383 - june.simulator - INFO - Date = 2020-05-21 12:00:00, number of deaths =\t101, number of infected = 123\n",
      "2020-06-08 16:28:08,099 - june.simulator - INFO - Date = 2020-05-22 00:00:00, number of deaths =\t102, number of infected = 118\n",
      "2020-06-08 16:28:08,786 - june.simulator - INFO - Date = 2020-05-22 10:00:00, number of deaths =\t102, number of infected = 112\n",
      "2020-06-08 16:28:09,480 - june.simulator - INFO - Date = 2020-05-22 12:00:00, number of deaths =\t102, number of infected = 111\n",
      "2020-06-08 16:28:10,293 - june.simulator - INFO - Date = 2020-05-23 00:00:00, number of deaths =\t102, number of infected = 104\n",
      "2020-06-08 16:28:10,997 - june.simulator - INFO - Date = 2020-05-23 12:00:00, number of deaths =\t102, number of infected = 101\n",
      "2020-06-08 16:28:11,861 - june.simulator - INFO - Date = 2020-05-24 00:00:00, number of deaths =\t102, number of infected = 96\n",
      "2020-06-08 16:28:12,496 - june.simulator - INFO - Date = 2020-05-24 12:00:00, number of deaths =\t103, number of infected = 89\n",
      "2020-06-08 16:28:13,149 - june.simulator - INFO - Date = 2020-05-25 00:00:00, number of deaths =\t103, number of infected = 88\n",
      "2020-06-08 16:28:13,848 - june.simulator - INFO - Date = 2020-05-25 10:00:00, number of deaths =\t103, number of infected = 84\n",
      "2020-06-08 16:28:14,597 - june.simulator - INFO - Date = 2020-05-25 12:00:00, number of deaths =\t103, number of infected = 84\n",
      "2020-06-08 16:28:15,368 - june.simulator - INFO - Date = 2020-05-26 00:00:00, number of deaths =\t103, number of infected = 82\n",
      "2020-06-08 16:28:16,175 - june.simulator - INFO - Date = 2020-05-26 10:00:00, number of deaths =\t103, number of infected = 81\n",
      "2020-06-08 16:28:16,942 - june.simulator - INFO - Date = 2020-05-26 12:00:00, number of deaths =\t103, number of infected = 81\n",
      "2020-06-08 16:28:17,732 - june.simulator - INFO - Date = 2020-05-27 00:00:00, number of deaths =\t103, number of infected = 78\n",
      "2020-06-08 16:28:18,571 - june.simulator - INFO - Date = 2020-05-27 10:00:00, number of deaths =\t103, number of infected = 75\n",
      "2020-06-08 16:28:19,427 - june.simulator - INFO - Date = 2020-05-27 12:00:00, number of deaths =\t103, number of infected = 75\n",
      "2020-06-08 16:28:20,138 - june.simulator - INFO - Date = 2020-05-28 00:00:00, number of deaths =\t103, number of infected = 71\n",
      "2020-06-08 16:28:21,020 - june.simulator - INFO - Date = 2020-05-28 10:00:00, number of deaths =\t103, number of infected = 67\n",
      "2020-06-08 16:28:21,835 - june.simulator - INFO - Date = 2020-05-28 12:00:00, number of deaths =\t103, number of infected = 67\n",
      "2020-06-08 16:28:22,622 - june.simulator - INFO - Date = 2020-05-29 00:00:00, number of deaths =\t103, number of infected = 60\n",
      "2020-06-08 16:28:23,392 - june.simulator - INFO - Date = 2020-05-29 10:00:00, number of deaths =\t103, number of infected = 56\n",
      "2020-06-08 16:28:24,154 - june.simulator - INFO - Date = 2020-05-29 12:00:00, number of deaths =\t103, number of infected = 56\n",
      "2020-06-08 16:28:25,050 - june.simulator - INFO - Date = 2020-05-30 00:00:00, number of deaths =\t103, number of infected = 53\n",
      "2020-06-08 16:28:25,896 - june.simulator - INFO - Date = 2020-05-30 12:00:00, number of deaths =\t103, number of infected = 48\n",
      "2020-06-08 16:28:26,897 - june.simulator - INFO - Date = 2020-05-31 00:00:00, number of deaths =\t103, number of infected = 44\n",
      "2020-06-08 16:28:27,659 - june.simulator - INFO - Date = 2020-05-31 12:00:00, number of deaths =\t103, number of infected = 40\n",
      "2020-06-08 16:28:28,620 - june.simulator - INFO - Date = 2020-06-01 00:00:00, number of deaths =\t103, number of infected = 39\n",
      "2020-06-08 16:28:29,491 - june.simulator - INFO - Date = 2020-06-01 10:00:00, number of deaths =\t103, number of infected = 36\n",
      "2020-06-08 16:28:30,246 - june.simulator - INFO - Date = 2020-06-01 12:00:00, number of deaths =\t103, number of infected = 36\n",
      "2020-06-08 16:28:31,073 - june.simulator - INFO - Date = 2020-06-02 00:00:00, number of deaths =\t103, number of infected = 31\n",
      "2020-06-08 16:28:31,858 - june.simulator - INFO - Date = 2020-06-02 10:00:00, number of deaths =\t103, number of infected = 29\n",
      "2020-06-08 16:28:32,638 - june.simulator - INFO - Date = 2020-06-02 12:00:00, number of deaths =\t103, number of infected = 29\n",
      "2020-06-08 16:28:33,538 - june.simulator - INFO - Date = 2020-06-03 00:00:00, number of deaths =\t103, number of infected = 27\n",
      "2020-06-08 16:28:34,389 - june.simulator - INFO - Date = 2020-06-03 10:00:00, number of deaths =\t103, number of infected = 24\n",
      "2020-06-08 16:28:35,315 - june.simulator - INFO - Date = 2020-06-03 12:00:00, number of deaths =\t103, number of infected = 23\n",
      "2020-06-08 16:28:36,230 - june.simulator - INFO - Date = 2020-06-04 00:00:00, number of deaths =\t103, number of infected = 20\n",
      "2020-06-08 16:28:37,061 - june.simulator - INFO - Date = 2020-06-04 10:00:00, number of deaths =\t103, number of infected = 18\n",
      "2020-06-08 16:28:37,860 - june.simulator - INFO - Date = 2020-06-04 12:00:00, number of deaths =\t103, number of infected = 18\n",
      "2020-06-08 16:28:38,668 - june.simulator - INFO - Date = 2020-06-05 00:00:00, number of deaths =\t103, number of infected = 16\n",
      "2020-06-08 16:28:39,487 - june.simulator - INFO - Date = 2020-06-05 10:00:00, number of deaths =\t103, number of infected = 15\n",
      "2020-06-08 16:28:40,383 - june.simulator - INFO - Date = 2020-06-05 12:00:00, number of deaths =\t103, number of infected = 15\n",
      "2020-06-08 16:28:41,391 - june.simulator - INFO - Date = 2020-06-06 00:00:00, number of deaths =\t103, number of infected = 13\n",
      "2020-06-08 16:28:42,147 - june.simulator - INFO - Date = 2020-06-06 12:00:00, number of deaths =\t103, number of infected = 11\n",
      "2020-06-08 16:28:43,105 - june.simulator - INFO - Date = 2020-06-07 00:00:00, number of deaths =\t103, number of infected = 8\n",
      "2020-06-08 16:28:43,889 - june.simulator - INFO - Date = 2020-06-07 12:00:00, number of deaths =\t103, number of infected = 8\n",
      "2020-06-08 16:28:44,738 - june.simulator - INFO - Date = 2020-06-08 00:00:00, number of deaths =\t103, number of infected = 7\n",
      "2020-06-08 16:28:45,543 - june.simulator - INFO - Date = 2020-06-08 10:00:00, number of deaths =\t103, number of infected = 7\n",
      "2020-06-08 16:28:46,417 - june.simulator - INFO - Date = 2020-06-08 12:00:00, number of deaths =\t103, number of infected = 7\n",
      "2020-06-08 16:28:47,294 - june.simulator - INFO - Date = 2020-06-09 00:00:00, number of deaths =\t103, number of infected = 7\n",
      "2020-06-08 16:28:48,140 - june.simulator - INFO - Date = 2020-06-09 10:00:00, number of deaths =\t103, number of infected = 7\n",
      "2020-06-08 16:28:48,972 - june.simulator - INFO - Date = 2020-06-09 12:00:00, number of deaths =\t103, number of infected = 7\n",
      "2020-06-08 16:28:50,019 - june.simulator - INFO - Date = 2020-06-10 00:00:00, number of deaths =\t103, number of infected = 7\n",
      "2020-06-08 16:28:50,954 - june.simulator - INFO - Date = 2020-06-10 10:00:00, number of deaths =\t103, number of infected = 6\n",
      "2020-06-08 16:28:51,812 - june.simulator - INFO - Date = 2020-06-10 12:00:00, number of deaths =\t103, number of infected = 6\n"
     ]
    },
    {
     "name": "stdout",
     "output_type": "stream",
     "text": [
      "2020-06-08 16:28:52,637 - june.simulator - INFO - Date = 2020-06-11 00:00:00, number of deaths =\t103, number of infected = 6\n",
      "2020-06-08 16:28:53,513 - june.simulator - INFO - Date = 2020-06-11 10:00:00, number of deaths =\t103, number of infected = 5\n",
      "2020-06-08 16:28:54,387 - june.simulator - INFO - Date = 2020-06-11 12:00:00, number of deaths =\t103, number of infected = 5\n",
      "2020-06-08 16:28:55,299 - june.simulator - INFO - Date = 2020-06-12 00:00:00, number of deaths =\t103, number of infected = 4\n",
      "2020-06-08 16:28:56,193 - june.simulator - INFO - Date = 2020-06-12 10:00:00, number of deaths =\t103, number of infected = 3\n",
      "2020-06-08 16:28:57,101 - june.simulator - INFO - Date = 2020-06-12 12:00:00, number of deaths =\t103, number of infected = 3\n",
      "2020-06-08 16:28:58,069 - june.simulator - INFO - Date = 2020-06-13 00:00:00, number of deaths =\t103, number of infected = 3\n",
      "2020-06-08 16:28:58,890 - june.simulator - INFO - Date = 2020-06-13 12:00:00, number of deaths =\t103, number of infected = 3\n",
      "2020-06-08 16:28:59,793 - june.simulator - INFO - Date = 2020-06-14 00:00:00, number of deaths =\t103, number of infected = 3\n",
      "2020-06-08 16:29:00,555 - june.simulator - INFO - Date = 2020-06-14 12:00:00, number of deaths =\t103, number of infected = 2\n",
      "2020-06-08 16:29:01,432 - june.simulator - INFO - Date = 2020-06-15 00:00:00, number of deaths =\t103, number of infected = 2\n",
      "2020-06-08 16:29:02,280 - june.simulator - INFO - Date = 2020-06-15 10:00:00, number of deaths =\t103, number of infected = 1\n",
      "2020-06-08 16:29:03,125 - june.simulator - INFO - Date = 2020-06-15 12:00:00, number of deaths =\t103, number of infected = 1\n",
      "2020-06-08 16:29:04,025 - june.simulator - INFO - Date = 2020-06-16 00:00:00, number of deaths =\t103, number of infected = 1\n",
      "2020-06-08 16:29:04,936 - june.simulator - INFO - Date = 2020-06-16 10:00:00, number of deaths =\t103, number of infected = 1\n",
      "2020-06-08 16:29:05,932 - june.simulator - INFO - Date = 2020-06-16 12:00:00, number of deaths =\t103, number of infected = 1\n",
      "2020-06-08 16:29:06,807 - june.simulator - INFO - Date = 2020-06-17 00:00:00, number of deaths =\t103, number of infected = 1\n",
      "2020-06-08 16:29:07,775 - june.simulator - INFO - Date = 2020-06-17 10:00:00, number of deaths =\t103, number of infected = 1\n",
      "2020-06-08 16:29:08,723 - june.simulator - INFO - Date = 2020-06-17 12:00:00, number of deaths =\t103, number of infected = 1\n",
      "2020-06-08 16:29:09,698 - june.simulator - INFO - Date = 2020-06-18 00:00:00, number of deaths =\t103, number of infected = 1\n",
      "2020-06-08 16:29:10,636 - june.simulator - INFO - Date = 2020-06-18 10:00:00, number of deaths =\t103, number of infected = 1\n",
      "2020-06-08 16:29:11,516 - june.simulator - INFO - Date = 2020-06-18 12:00:00, number of deaths =\t103, number of infected = 1\n",
      "2020-06-08 16:29:12,497 - june.simulator - INFO - Date = 2020-06-19 00:00:00, number of deaths =\t103, number of infected = 1\n",
      "2020-06-08 16:29:13,379 - june.simulator - INFO - Date = 2020-06-19 10:00:00, number of deaths =\t103, number of infected = 1\n",
      "2020-06-08 16:29:14,302 - june.simulator - INFO - Date = 2020-06-19 12:00:00, number of deaths =\t103, number of infected = 1\n",
      "2020-06-08 16:29:15,318 - june.simulator - INFO - Date = 2020-06-20 00:00:00, number of deaths =\t103, number of infected = 1\n",
      "2020-06-08 16:29:16,202 - june.simulator - INFO - Date = 2020-06-20 12:00:00, number of deaths =\t103, number of infected = 1\n",
      "2020-06-08 16:29:17,132 - june.simulator - INFO - Date = 2020-06-21 00:00:00, number of deaths =\t103, number of infected = 1\n",
      "2020-06-08 16:29:18,072 - june.simulator - INFO - Date = 2020-06-21 12:00:00, number of deaths =\t103, number of infected = 0\n",
      "2020-06-08 16:29:18,975 - june.simulator - INFO - Date = 2020-06-22 00:00:00, number of deaths =\t103, number of infected = 0\n",
      "2020-06-08 16:29:19,862 - june.simulator - INFO - Date = 2020-06-22 10:00:00, number of deaths =\t103, number of infected = 0\n",
      "2020-06-08 16:29:20,763 - june.simulator - INFO - Date = 2020-06-22 12:00:00, number of deaths =\t103, number of infected = 0\n",
      "2020-06-08 16:29:21,488 - june.simulator - INFO - Date = 2020-06-23 00:00:00, number of deaths =\t103, number of infected = 0\n",
      "2020-06-08 16:29:22,339 - june.simulator - INFO - Date = 2020-06-23 10:00:00, number of deaths =\t103, number of infected = 0\n",
      "2020-06-08 16:29:23,172 - june.simulator - INFO - Date = 2020-06-23 12:00:00, number of deaths =\t103, number of infected = 0\n",
      "2020-06-08 16:29:24,086 - june.simulator - INFO - Date = 2020-06-24 00:00:00, number of deaths =\t103, number of infected = 0\n",
      "2020-06-08 16:29:25,162 - june.simulator - INFO - Date = 2020-06-24 10:00:00, number of deaths =\t103, number of infected = 0\n",
      "2020-06-08 16:29:26,206 - june.simulator - INFO - Date = 2020-06-24 12:00:00, number of deaths =\t103, number of infected = 0\n",
      "2020-06-08 16:29:27,059 - june.simulator - INFO - Date = 2020-06-25 00:00:00, number of deaths =\t103, number of infected = 0\n",
      "2020-06-08 16:29:28,081 - june.simulator - INFO - Date = 2020-06-25 10:00:00, number of deaths =\t103, number of infected = 0\n",
      "2020-06-08 16:29:28,968 - june.simulator - INFO - Date = 2020-06-25 12:00:00, number of deaths =\t103, number of infected = 0\n",
      "2020-06-08 16:29:29,941 - june.simulator - INFO - Date = 2020-06-26 00:00:00, number of deaths =\t103, number of infected = 0\n",
      "2020-06-08 16:29:30,831 - june.simulator - INFO - Date = 2020-06-26 10:00:00, number of deaths =\t103, number of infected = 0\n",
      "2020-06-08 16:29:31,598 - june.simulator - INFO - Date = 2020-06-26 12:00:00, number of deaths =\t103, number of infected = 0\n",
      "2020-06-08 16:29:32,530 - june.simulator - INFO - Date = 2020-06-27 00:00:00, number of deaths =\t103, number of infected = 0\n",
      "2020-06-08 16:29:33,243 - june.simulator - INFO - Date = 2020-06-27 12:00:00, number of deaths =\t103, number of infected = 0\n",
      "2020-06-08 16:29:34,122 - june.simulator - INFO - Date = 2020-06-28 00:00:00, number of deaths =\t103, number of infected = 0\n",
      "2020-06-08 16:29:34,896 - june.simulator - INFO - Date = 2020-06-28 12:00:00, number of deaths =\t103, number of infected = 0\n",
      "2020-06-08 16:29:35,646 - june.simulator - INFO - Date = 2020-06-29 00:00:00, number of deaths =\t103, number of infected = 0\n",
      "2020-06-08 16:29:36,473 - june.simulator - INFO - Date = 2020-06-29 10:00:00, number of deaths =\t103, number of infected = 0\n",
      "2020-06-08 16:29:37,369 - june.simulator - INFO - Date = 2020-06-29 12:00:00, number of deaths =\t103, number of infected = 0\n",
      "2020-06-08 16:29:38,168 - june.simulator - INFO - Date = 2020-06-30 00:00:00, number of deaths =\t103, number of infected = 0\n",
      "2020-06-08 16:29:39,061 - june.simulator - INFO - Date = 2020-06-30 10:00:00, number of deaths =\t103, number of infected = 0\n",
      "2020-06-08 16:29:40,065 - june.simulator - INFO - Date = 2020-06-30 12:00:00, number of deaths =\t103, number of infected = 0\n",
      "2020-06-08 16:29:40,910 - june.simulator - INFO - Date = 2020-07-01 00:00:00, number of deaths =\t103, number of infected = 0\n",
      "2020-06-08 16:29:41,862 - june.simulator - INFO - Date = 2020-07-01 10:00:00, number of deaths =\t103, number of infected = 0\n",
      "2020-06-08 16:29:42,783 - june.simulator - INFO - Date = 2020-07-01 12:00:00, number of deaths =\t103, number of infected = 0\n",
      "2020-06-08 16:29:43,631 - june.simulator - INFO - Date = 2020-07-02 00:00:00, number of deaths =\t103, number of infected = 0\n",
      "2020-06-08 16:29:44,494 - june.simulator - INFO - Date = 2020-07-02 10:00:00, number of deaths =\t103, number of infected = 0\n",
      "2020-06-08 16:29:45,315 - june.simulator - INFO - Date = 2020-07-02 12:00:00, number of deaths =\t103, number of infected = 0\n",
      "2020-06-08 16:29:46,174 - june.simulator - INFO - Date = 2020-07-03 00:00:00, number of deaths =\t103, number of infected = 0\n",
      "2020-06-08 16:29:46,994 - june.simulator - INFO - Date = 2020-07-03 10:00:00, number of deaths =\t103, number of infected = 0\n",
      "2020-06-08 16:29:47,772 - june.simulator - INFO - Date = 2020-07-03 12:00:00, number of deaths =\t103, number of infected = 0\n",
      "2020-06-08 16:29:48,705 - june.simulator - INFO - Date = 2020-07-04 00:00:00, number of deaths =\t103, number of infected = 0\n",
      "2020-06-08 16:29:49,588 - june.simulator - INFO - Date = 2020-07-04 12:00:00, number of deaths =\t103, number of infected = 0\n",
      "2020-06-08 16:29:50,449 - june.simulator - INFO - Date = 2020-07-05 00:00:00, number of deaths =\t103, number of infected = 0\n"
     ]
    },
    {
     "name": "stdout",
     "output_type": "stream",
     "text": [
      "CPU times: user 5min 9s, sys: 2.78 s, total: 5min 12s\n",
      "Wall time: 5min 25s\n"
     ]
    }
   ],
   "source": [
    "%%time\n",
    "simulator.run()"
   ]
  },
  {
   "cell_type": "markdown",
   "metadata": {},
   "source": [
    "While the simulation runs (and afterwards) we can launch the visualization webpage by running\n",
    "```python june/visualizer.py path/to/results``` "
   ]
  },
  {
   "cell_type": "markdown",
   "metadata": {},
   "source": [
    "# Getting the results"
   ]
  },
  {
   "cell_type": "markdown",
   "metadata": {},
   "source": [
    "All results are stored in a json file specified in the ``save_path`` variable in the config file. We can also access it from ``world.logger`` directly."
   ]
  },
  {
   "cell_type": "code",
   "execution_count": 121,
   "metadata": {},
   "outputs": [],
   "source": [
    "import pandas as pd"
   ]
  },
  {
   "cell_type": "code",
   "execution_count": 128,
   "metadata": {},
   "outputs": [],
   "source": [
    "read = ReadLightLogger()"
   ]
  },
  {
   "cell_type": "code",
   "execution_count": 138,
   "metadata": {},
   "outputs": [
    {
     "name": "stdout",
     "output_type": "stream",
     "text": [
      "(325, 6)\n",
      "CPU times: user 25.9 s, sys: 418 ms, total: 26.3 s\n",
      "Wall time: 26.7 s\n"
     ]
    }
   ],
   "source": [
    "%%time\n",
    "world_df = read.world_summary()"
   ]
  },
  {
   "cell_type": "code",
   "execution_count": 139,
   "metadata": {},
   "outputs": [
    {
     "data": {
      "text/html": [
       "<div>\n",
       "<style scoped>\n",
       "    .dataframe tbody tr th:only-of-type {\n",
       "        vertical-align: middle;\n",
       "    }\n",
       "\n",
       "    .dataframe tbody tr th {\n",
       "        vertical-align: top;\n",
       "    }\n",
       "\n",
       "    .dataframe thead th {\n",
       "        text-align: right;\n",
       "    }\n",
       "</style>\n",
       "<table border=\"1\" class=\"dataframe\">\n",
       "  <thead>\n",
       "    <tr style=\"text-align: right;\">\n",
       "      <th></th>\n",
       "      <th>dead</th>\n",
       "      <th>hospitalised</th>\n",
       "      <th>infected</th>\n",
       "      <th>intensive_care</th>\n",
       "      <th>recovered</th>\n",
       "      <th>susceptible</th>\n",
       "    </tr>\n",
       "    <tr>\n",
       "      <th>time_stamp</th>\n",
       "      <th></th>\n",
       "      <th></th>\n",
       "      <th></th>\n",
       "      <th></th>\n",
       "      <th></th>\n",
       "      <th></th>\n",
       "    </tr>\n",
       "  </thead>\n",
       "  <tbody>\n",
       "    <tr>\n",
       "      <th>2020-03-07 12:00:00</th>\n",
       "      <td>0.0</td>\n",
       "      <td>0.0</td>\n",
       "      <td>50.0</td>\n",
       "      <td>0.0</td>\n",
       "      <td>0.0</td>\n",
       "      <td>13078.0</td>\n",
       "    </tr>\n",
       "    <tr>\n",
       "      <th>2020-03-08 00:00:00</th>\n",
       "      <td>0.0</td>\n",
       "      <td>0.0</td>\n",
       "      <td>50.0</td>\n",
       "      <td>0.0</td>\n",
       "      <td>0.0</td>\n",
       "      <td>13078.0</td>\n",
       "    </tr>\n",
       "    <tr>\n",
       "      <th>2020-03-08 12:00:00</th>\n",
       "      <td>0.0</td>\n",
       "      <td>0.0</td>\n",
       "      <td>50.0</td>\n",
       "      <td>0.0</td>\n",
       "      <td>0.0</td>\n",
       "      <td>13078.0</td>\n",
       "    </tr>\n",
       "    <tr>\n",
       "      <th>2020-03-09 00:00:00</th>\n",
       "      <td>0.0</td>\n",
       "      <td>0.0</td>\n",
       "      <td>50.0</td>\n",
       "      <td>0.0</td>\n",
       "      <td>0.0</td>\n",
       "      <td>13078.0</td>\n",
       "    </tr>\n",
       "    <tr>\n",
       "      <th>2020-03-09 10:00:00</th>\n",
       "      <td>0.0</td>\n",
       "      <td>0.0</td>\n",
       "      <td>50.0</td>\n",
       "      <td>0.0</td>\n",
       "      <td>0.0</td>\n",
       "      <td>13078.0</td>\n",
       "    </tr>\n",
       "    <tr>\n",
       "      <th>...</th>\n",
       "      <td>...</td>\n",
       "      <td>...</td>\n",
       "      <td>...</td>\n",
       "      <td>...</td>\n",
       "      <td>...</td>\n",
       "      <td>...</td>\n",
       "    </tr>\n",
       "    <tr>\n",
       "      <th>2020-07-03 10:00:00</th>\n",
       "      <td>103.0</td>\n",
       "      <td>0.0</td>\n",
       "      <td>0.0</td>\n",
       "      <td>103.0</td>\n",
       "      <td>11366.0</td>\n",
       "      <td>1659.0</td>\n",
       "    </tr>\n",
       "    <tr>\n",
       "      <th>2020-07-03 12:00:00</th>\n",
       "      <td>103.0</td>\n",
       "      <td>0.0</td>\n",
       "      <td>0.0</td>\n",
       "      <td>103.0</td>\n",
       "      <td>11366.0</td>\n",
       "      <td>1659.0</td>\n",
       "    </tr>\n",
       "    <tr>\n",
       "      <th>2020-07-04 00:00:00</th>\n",
       "      <td>103.0</td>\n",
       "      <td>0.0</td>\n",
       "      <td>0.0</td>\n",
       "      <td>103.0</td>\n",
       "      <td>11366.0</td>\n",
       "      <td>1659.0</td>\n",
       "    </tr>\n",
       "    <tr>\n",
       "      <th>2020-07-04 12:00:00</th>\n",
       "      <td>103.0</td>\n",
       "      <td>0.0</td>\n",
       "      <td>0.0</td>\n",
       "      <td>103.0</td>\n",
       "      <td>11366.0</td>\n",
       "      <td>1659.0</td>\n",
       "    </tr>\n",
       "    <tr>\n",
       "      <th>2020-07-05 00:00:00</th>\n",
       "      <td>103.0</td>\n",
       "      <td>0.0</td>\n",
       "      <td>0.0</td>\n",
       "      <td>103.0</td>\n",
       "      <td>11366.0</td>\n",
       "      <td>1659.0</td>\n",
       "    </tr>\n",
       "  </tbody>\n",
       "</table>\n",
       "<p>325 rows × 6 columns</p>\n",
       "</div>"
      ],
      "text/plain": [
       "                      dead  hospitalised  infected  intensive_care  recovered  \\\n",
       "time_stamp                                                                      \n",
       "2020-03-07 12:00:00    0.0           0.0      50.0             0.0        0.0   \n",
       "2020-03-08 00:00:00    0.0           0.0      50.0             0.0        0.0   \n",
       "2020-03-08 12:00:00    0.0           0.0      50.0             0.0        0.0   \n",
       "2020-03-09 00:00:00    0.0           0.0      50.0             0.0        0.0   \n",
       "2020-03-09 10:00:00    0.0           0.0      50.0             0.0        0.0   \n",
       "...                    ...           ...       ...             ...        ...   \n",
       "2020-07-03 10:00:00  103.0           0.0       0.0           103.0    11366.0   \n",
       "2020-07-03 12:00:00  103.0           0.0       0.0           103.0    11366.0   \n",
       "2020-07-04 00:00:00  103.0           0.0       0.0           103.0    11366.0   \n",
       "2020-07-04 12:00:00  103.0           0.0       0.0           103.0    11366.0   \n",
       "2020-07-05 00:00:00  103.0           0.0       0.0           103.0    11366.0   \n",
       "\n",
       "                     susceptible  \n",
       "time_stamp                        \n",
       "2020-03-07 12:00:00      13078.0  \n",
       "2020-03-08 00:00:00      13078.0  \n",
       "2020-03-08 12:00:00      13078.0  \n",
       "2020-03-09 00:00:00      13078.0  \n",
       "2020-03-09 10:00:00      13078.0  \n",
       "...                          ...  \n",
       "2020-07-03 10:00:00       1659.0  \n",
       "2020-07-03 12:00:00       1659.0  \n",
       "2020-07-04 00:00:00       1659.0  \n",
       "2020-07-04 12:00:00       1659.0  \n",
       "2020-07-05 00:00:00       1659.0  \n",
       "\n",
       "[325 rows x 6 columns]"
      ]
     },
     "execution_count": 139,
     "metadata": {},
     "output_type": "execute_result"
    }
   ],
   "source": [
    "world_df"
   ]
  },
  {
   "cell_type": "markdown",
   "metadata": {},
   "source": [
    "## Hospital data and how it changed over time"
   ]
  },
  {
   "cell_type": "code",
   "execution_count": 98,
   "metadata": {},
   "outputs": [],
   "source": [
    "hospitals_df = read.load_hospital_capacity()"
   ]
  },
  {
   "cell_type": "code",
   "execution_count": 99,
   "metadata": {},
   "outputs": [
    {
     "data": {
      "text/html": [
       "<div>\n",
       "<style scoped>\n",
       "    .dataframe tbody tr th:only-of-type {\n",
       "        vertical-align: middle;\n",
       "    }\n",
       "\n",
       "    .dataframe tbody tr th {\n",
       "        vertical-align: top;\n",
       "    }\n",
       "\n",
       "    .dataframe thead th {\n",
       "        text-align: right;\n",
       "    }\n",
       "</style>\n",
       "<table border=\"1\" class=\"dataframe\">\n",
       "  <thead>\n",
       "    <tr style=\"text-align: right;\">\n",
       "      <th></th>\n",
       "      <th>time_stamp</th>\n",
       "      <th>id</th>\n",
       "      <th>n_patients</th>\n",
       "      <th>n_patients_icu</th>\n",
       "    </tr>\n",
       "  </thead>\n",
       "  <tbody>\n",
       "    <tr>\n",
       "      <th>0</th>\n",
       "      <td>2020-03-07T12:00:00.000000</td>\n",
       "      <td>0</td>\n",
       "      <td>0</td>\n",
       "      <td>0</td>\n",
       "    </tr>\n",
       "    <tr>\n",
       "      <th>1</th>\n",
       "      <td>2020-03-08T00:00:00.000000</td>\n",
       "      <td>0</td>\n",
       "      <td>0</td>\n",
       "      <td>0</td>\n",
       "    </tr>\n",
       "    <tr>\n",
       "      <th>2</th>\n",
       "      <td>2020-03-08T12:00:00.000000</td>\n",
       "      <td>0</td>\n",
       "      <td>0</td>\n",
       "      <td>0</td>\n",
       "    </tr>\n",
       "  </tbody>\n",
       "</table>\n",
       "</div>"
      ],
      "text/plain": [
       "                   time_stamp id n_patients n_patients_icu\n",
       "0  2020-03-07T12:00:00.000000  0          0              0\n",
       "1  2020-03-08T00:00:00.000000  0          0              0\n",
       "2  2020-03-08T12:00:00.000000  0          0              0"
      ]
     },
     "execution_count": 99,
     "metadata": {},
     "output_type": "execute_result"
    }
   ],
   "source": [
    "hospitals_df.head(3)"
   ]
  },
  {
   "cell_type": "code",
   "execution_count": 100,
   "metadata": {},
   "outputs": [],
   "source": [
    "hospitals_characteristics_df = read.load_hospital_characteristics()"
   ]
  },
  {
   "cell_type": "code",
   "execution_count": 101,
   "metadata": {},
   "outputs": [
    {
     "data": {
      "text/html": [
       "<div>\n",
       "<style scoped>\n",
       "    .dataframe tbody tr th:only-of-type {\n",
       "        vertical-align: middle;\n",
       "    }\n",
       "\n",
       "    .dataframe tbody tr th {\n",
       "        vertical-align: top;\n",
       "    }\n",
       "\n",
       "    .dataframe thead th {\n",
       "        text-align: right;\n",
       "    }\n",
       "</style>\n",
       "<table border=\"1\" class=\"dataframe\">\n",
       "  <thead>\n",
       "    <tr style=\"text-align: right;\">\n",
       "      <th></th>\n",
       "      <th>longitude</th>\n",
       "      <th>latitude</th>\n",
       "      <th>n_beds</th>\n",
       "      <th>n_icu_beds</th>\n",
       "    </tr>\n",
       "  </thead>\n",
       "  <tbody>\n",
       "    <tr>\n",
       "      <th>0</th>\n",
       "      <td>-1.580765</td>\n",
       "      <td>54.939384</td>\n",
       "      <td>485</td>\n",
       "      <td>21</td>\n",
       "    </tr>\n",
       "  </tbody>\n",
       "</table>\n",
       "</div>"
      ],
      "text/plain": [
       "   longitude   latitude  n_beds  n_icu_beds\n",
       "0  -1.580765  54.939384     485          21"
      ]
     },
     "execution_count": 101,
     "metadata": {},
     "output_type": "execute_result"
    }
   ],
   "source": [
    "hospitals_characteristics_df"
   ]
  },
  {
   "cell_type": "markdown",
   "metadata": {},
   "source": [
    "## where did infections happen?"
   ]
  },
  {
   "cell_type": "code",
   "execution_count": 102,
   "metadata": {},
   "outputs": [],
   "source": [
    "import datetime"
   ]
  },
  {
   "cell_type": "code",
   "execution_count": 103,
   "metadata": {},
   "outputs": [],
   "source": [
    "start_date = datetime.datetime(\n",
    "   *[int(value) for value in '2020-03-03'.split(\"-\")]\n",
    ")\n",
    "end_date = datetime.datetime(\n",
    "   *[int(value) for value in '2020-07-04'.split(\"-\")]\n",
    ")"
   ]
  },
  {
   "cell_type": "code",
   "execution_count": 104,
   "metadata": {},
   "outputs": [
    {
     "data": {
      "text/plain": [
       "datetime.datetime(2020, 7, 4, 0, 0)"
      ]
     },
     "execution_count": 104,
     "metadata": {},
     "output_type": "execute_result"
    }
   ],
   "source": [
    "end_date"
   ]
  },
  {
   "cell_type": "code",
   "execution_count": 105,
   "metadata": {},
   "outputs": [],
   "source": [
    "loc_df = read.get_locations_infections(start_date=start_date, end_date=end_date)"
   ]
  },
  {
   "cell_type": "code",
   "execution_count": 106,
   "metadata": {},
   "outputs": [
    {
     "data": {
      "text/html": [
       "<div>\n",
       "<style scoped>\n",
       "    .dataframe tbody tr th:only-of-type {\n",
       "        vertical-align: middle;\n",
       "    }\n",
       "\n",
       "    .dataframe tbody tr th {\n",
       "        vertical-align: top;\n",
       "    }\n",
       "\n",
       "    .dataframe thead th {\n",
       "        text-align: right;\n",
       "    }\n",
       "</style>\n",
       "<table border=\"1\" class=\"dataframe\">\n",
       "  <thead>\n",
       "    <tr style=\"text-align: right;\">\n",
       "      <th></th>\n",
       "      <th>counts</th>\n",
       "      <th>percentage_infections</th>\n",
       "    </tr>\n",
       "  </thead>\n",
       "  <tbody>\n",
       "    <tr>\n",
       "      <th>household</th>\n",
       "      <td>5164</td>\n",
       "      <td>45.222874</td>\n",
       "    </tr>\n",
       "    <tr>\n",
       "      <th>company</th>\n",
       "      <td>3952</td>\n",
       "      <td>34.608985</td>\n",
       "    </tr>\n",
       "    <tr>\n",
       "      <th>commute_un</th>\n",
       "      <td>1</td>\n",
       "      <td>0.008757</td>\n",
       "    </tr>\n",
       "    <tr>\n",
       "      <th>care_home</th>\n",
       "      <td>157</td>\n",
       "      <td>1.374901</td>\n",
       "    </tr>\n",
       "    <tr>\n",
       "      <th>pub</th>\n",
       "      <td>52</td>\n",
       "      <td>0.455381</td>\n",
       "    </tr>\n",
       "    <tr>\n",
       "      <th>school</th>\n",
       "      <td>1868</td>\n",
       "      <td>16.358700</td>\n",
       "    </tr>\n",
       "    <tr>\n",
       "      <th>commute_ci</th>\n",
       "      <td>13</td>\n",
       "      <td>0.113845</td>\n",
       "    </tr>\n",
       "    <tr>\n",
       "      <th>grocery</th>\n",
       "      <td>157</td>\n",
       "      <td>1.374901</td>\n",
       "    </tr>\n",
       "    <tr>\n",
       "      <th>cinema</th>\n",
       "      <td>42</td>\n",
       "      <td>0.367808</td>\n",
       "    </tr>\n",
       "    <tr>\n",
       "      <th>hospital</th>\n",
       "      <td>13</td>\n",
       "      <td>0.113845</td>\n",
       "    </tr>\n",
       "  </tbody>\n",
       "</table>\n",
       "</div>"
      ],
      "text/plain": [
       "            counts  percentage_infections\n",
       "household     5164              45.222874\n",
       "company       3952              34.608985\n",
       "commute_un       1               0.008757\n",
       "care_home      157               1.374901\n",
       "pub             52               0.455381\n",
       "school        1868              16.358700\n",
       "commute_ci      13               0.113845\n",
       "grocery        157               1.374901\n",
       "cinema          42               0.367808\n",
       "hospital        13               0.113845"
      ]
     },
     "execution_count": 106,
     "metadata": {},
     "output_type": "execute_result"
    }
   ],
   "source": [
    "loc_df"
   ]
  },
  {
   "cell_type": "code",
   "execution_count": 107,
   "metadata": {},
   "outputs": [
    {
     "data": {
      "text/plain": [
       "Text(0.5, 0, 'location')"
      ]
     },
     "execution_count": 107,
     "metadata": {},
     "output_type": "execute_result"
    },
    {
     "data": {
      "image/png": "[encoded data removed]",
      "text/plain": [
       "<Figure size 432x288 with 1 Axes>"
      ]
     },
     "metadata": {
      "needs_background": "light"
     },
     "output_type": "display_data"
    }
   ],
   "source": [
    "import matplotlib.ticker as mtick\n",
    "\n",
    "ax = loc_df['percentage_infections'].sort_values().plot.bar()\n",
    "ax.yaxis.set_major_formatter(mtick.PercentFormatter())\n",
    "plt.ylabel('Percentage of infections at location')\n",
    "plt.xlabel('location')"
   ]
  },
  {
   "cell_type": "code",
   "execution_count": 108,
   "metadata": {},
   "outputs": [
    {
     "data": {
      "text/plain": [
       "Text(0.5, 0, 'location')"
      ]
     },
     "execution_count": 108,
     "metadata": {},
     "output_type": "execute_result"
    },
    {
     "data": {
      "image/png": "[encoded data removed]",
      "text/plain": [
       "<Figure size 432x288 with 1 Axes>"
      ]
     },
     "metadata": {
      "needs_background": "light"
     },
     "output_type": "display_data"
    }
   ],
   "source": [
    "import matplotlib.ticker as mtick\n",
    "\n",
    "ax = loc_df['percentage_infections'].sort_values().plot.bar()\n",
    "ax.yaxis.set_major_formatter(mtick.PercentFormatter())\n",
    "plt.ylabel('Percentage of infections at location')\n",
    "plt.xlabel('location')"
   ]
  },
  {
   "cell_type": "markdown",
   "metadata": {},
   "source": [
    "## rate of infection"
   ]
  },
  {
   "cell_type": "code",
   "execution_count": 32,
   "metadata": {},
   "outputs": [
    {
     "data": {
      "text/html": [
       "<div>\n",
       "<style scoped>\n",
       "    .dataframe tbody tr th:only-of-type {\n",
       "        vertical-align: middle;\n",
       "    }\n",
       "\n",
       "    .dataframe tbody tr th {\n",
       "        vertical-align: top;\n",
       "    }\n",
       "\n",
       "    .dataframe thead th {\n",
       "        text-align: right;\n",
       "    }\n",
       "</style>\n",
       "<table border=\"1\" class=\"dataframe\">\n",
       "  <thead>\n",
       "    <tr style=\"text-align: right;\">\n",
       "      <th></th>\n",
       "      <th>infected_id</th>\n",
       "      <th>symptoms</th>\n",
       "      <th>n_secondary_infections</th>\n",
       "    </tr>\n",
       "    <tr>\n",
       "      <th>time_stamp</th>\n",
       "      <th></th>\n",
       "      <th></th>\n",
       "      <th></th>\n",
       "    </tr>\n",
       "  </thead>\n",
       "  <tbody>\n",
       "    <tr>\n",
       "      <th>2020-03-07 12:00:00</th>\n",
       "      <td>[6, 42, 235, 531, 790, 809, 890, 1102, 1120, 1...</td>\n",
       "      <td>[-1, -1, -1, -1, -1, -1, -1, -1, -1, -1, -1, -...</td>\n",
       "      <td>[0, 0, 0, 0, 0, 0, 0, 0, 0, 0, 0, 0, 0, 0, 0, ...</td>\n",
       "    </tr>\n",
       "    <tr>\n",
       "      <th>2020-03-08 00:00:00</th>\n",
       "      <td>[6, 42, 235, 531, 790, 809, 890, 1102, 1120, 1...</td>\n",
       "      <td>[-1, -1, -1, -1, -1, -1, -1, -1, -1, -1, -1, -...</td>\n",
       "      <td>[0, 0, 0, 0, 0, 0, 0, 0, 0, 0, 0, 0, 0, 0, 0, ...</td>\n",
       "    </tr>\n",
       "    <tr>\n",
       "      <th>2020-03-08 12:00:00</th>\n",
       "      <td>[6, 42, 235, 531, 790, 809, 890, 1102, 1120, 1...</td>\n",
       "      <td>[-1, -1, -1, -1, -1, -1, -1, -1, -1, -1, -1, -...</td>\n",
       "      <td>[0, 0, 0, 0, 0, 0, 0, 0, 0, 0, 0, 0, 0, 0, 0, ...</td>\n",
       "    </tr>\n",
       "    <tr>\n",
       "      <th>2020-03-09 00:00:00</th>\n",
       "      <td>[6, 42, 235, 531, 790, 809, 890, 1102, 1120, 1...</td>\n",
       "      <td>[-1, -1, -1, -1, -1, -1, -1, -1, -1, -1, -1, -...</td>\n",
       "      <td>[0, 0, 0, 0, 0, 0, 0, 0, 0, 0, 0, 0, 0, 0, 0, ...</td>\n",
       "    </tr>\n",
       "    <tr>\n",
       "      <th>2020-03-09 10:00:00</th>\n",
       "      <td>[6, 42, 235, 531, 790, 809, 890, 1102, 1120, 1...</td>\n",
       "      <td>[-1, -1, -1, -1, -1, -1, -1, -1, -1, -1, -1, -...</td>\n",
       "      <td>[0, 0, 0, 0, 0, 0, 0, 0, 0, 0, 0, 0, 0, 0, 0, ...</td>\n",
       "    </tr>\n",
       "    <tr>\n",
       "      <th>...</th>\n",
       "      <td>...</td>\n",
       "      <td>...</td>\n",
       "      <td>...</td>\n",
       "    </tr>\n",
       "    <tr>\n",
       "      <th>2020-07-03 10:00:00</th>\n",
       "      <td>[]</td>\n",
       "      <td>[]</td>\n",
       "      <td>[]</td>\n",
       "    </tr>\n",
       "    <tr>\n",
       "      <th>2020-07-03 12:00:00</th>\n",
       "      <td>[]</td>\n",
       "      <td>[]</td>\n",
       "      <td>[]</td>\n",
       "    </tr>\n",
       "    <tr>\n",
       "      <th>2020-07-04 00:00:00</th>\n",
       "      <td>[]</td>\n",
       "      <td>[]</td>\n",
       "      <td>[]</td>\n",
       "    </tr>\n",
       "    <tr>\n",
       "      <th>2020-07-04 12:00:00</th>\n",
       "      <td>[]</td>\n",
       "      <td>[]</td>\n",
       "      <td>[]</td>\n",
       "    </tr>\n",
       "    <tr>\n",
       "      <th>2020-07-05 00:00:00</th>\n",
       "      <td>[]</td>\n",
       "      <td>[]</td>\n",
       "      <td>[]</td>\n",
       "    </tr>\n",
       "  </tbody>\n",
       "</table>\n",
       "<p>325 rows × 3 columns</p>\n",
       "</div>"
      ],
      "text/plain": [
       "                                                           infected_id  \\\n",
       "time_stamp                                                               \n",
       "2020-03-07 12:00:00  [6, 42, 235, 531, 790, 809, 890, 1102, 1120, 1...   \n",
       "2020-03-08 00:00:00  [6, 42, 235, 531, 790, 809, 890, 1102, 1120, 1...   \n",
       "2020-03-08 12:00:00  [6, 42, 235, 531, 790, 809, 890, 1102, 1120, 1...   \n",
       "2020-03-09 00:00:00  [6, 42, 235, 531, 790, 809, 890, 1102, 1120, 1...   \n",
       "2020-03-09 10:00:00  [6, 42, 235, 531, 790, 809, 890, 1102, 1120, 1...   \n",
       "...                                                                ...   \n",
       "2020-07-03 10:00:00                                                 []   \n",
       "2020-07-03 12:00:00                                                 []   \n",
       "2020-07-04 00:00:00                                                 []   \n",
       "2020-07-04 12:00:00                                                 []   \n",
       "2020-07-05 00:00:00                                                 []   \n",
       "\n",
       "                                                              symptoms  \\\n",
       "time_stamp                                                               \n",
       "2020-03-07 12:00:00  [-1, -1, -1, -1, -1, -1, -1, -1, -1, -1, -1, -...   \n",
       "2020-03-08 00:00:00  [-1, -1, -1, -1, -1, -1, -1, -1, -1, -1, -1, -...   \n",
       "2020-03-08 12:00:00  [-1, -1, -1, -1, -1, -1, -1, -1, -1, -1, -1, -...   \n",
       "2020-03-09 00:00:00  [-1, -1, -1, -1, -1, -1, -1, -1, -1, -1, -1, -...   \n",
       "2020-03-09 10:00:00  [-1, -1, -1, -1, -1, -1, -1, -1, -1, -1, -1, -...   \n",
       "...                                                                ...   \n",
       "2020-07-03 10:00:00                                                 []   \n",
       "2020-07-03 12:00:00                                                 []   \n",
       "2020-07-04 00:00:00                                                 []   \n",
       "2020-07-04 12:00:00                                                 []   \n",
       "2020-07-05 00:00:00                                                 []   \n",
       "\n",
       "                                                n_secondary_infections  \n",
       "time_stamp                                                              \n",
       "2020-03-07 12:00:00  [0, 0, 0, 0, 0, 0, 0, 0, 0, 0, 0, 0, 0, 0, 0, ...  \n",
       "2020-03-08 00:00:00  [0, 0, 0, 0, 0, 0, 0, 0, 0, 0, 0, 0, 0, 0, 0, ...  \n",
       "2020-03-08 12:00:00  [0, 0, 0, 0, 0, 0, 0, 0, 0, 0, 0, 0, 0, 0, 0, ...  \n",
       "2020-03-09 00:00:00  [0, 0, 0, 0, 0, 0, 0, 0, 0, 0, 0, 0, 0, 0, 0, ...  \n",
       "2020-03-09 10:00:00  [0, 0, 0, 0, 0, 0, 0, 0, 0, 0, 0, 0, 0, 0, 0, ...  \n",
       "...                                                                ...  \n",
       "2020-07-03 10:00:00                                                 []  \n",
       "2020-07-03 12:00:00                                                 []  \n",
       "2020-07-04 00:00:00                                                 []  \n",
       "2020-07-04 12:00:00                                                 []  \n",
       "2020-07-05 00:00:00                                                 []  \n",
       "\n",
       "[325 rows x 3 columns]"
      ]
     },
     "execution_count": 32,
     "metadata": {},
     "output_type": "execute_result"
    }
   ],
   "source": [
    "read.infections_df"
   ]
  },
  {
   "cell_type": "code",
   "execution_count": 33,
   "metadata": {},
   "outputs": [],
   "source": [
    "r_df = read.get_r()"
   ]
  },
  {
   "cell_type": "code",
   "execution_count": 34,
   "metadata": {},
   "outputs": [
    {
     "data": {
      "text/html": [
       "<div>\n",
       "<style scoped>\n",
       "    .dataframe tbody tr th:only-of-type {\n",
       "        vertical-align: middle;\n",
       "    }\n",
       "\n",
       "    .dataframe tbody tr th {\n",
       "        vertical-align: top;\n",
       "    }\n",
       "\n",
       "    .dataframe thead th {\n",
       "        text-align: right;\n",
       "    }\n",
       "</style>\n",
       "<table border=\"1\" class=\"dataframe\">\n",
       "  <thead>\n",
       "    <tr style=\"text-align: right;\">\n",
       "      <th></th>\n",
       "      <th>value</th>\n",
       "    </tr>\n",
       "    <tr>\n",
       "      <th>time_stamp</th>\n",
       "      <th></th>\n",
       "    </tr>\n",
       "  </thead>\n",
       "  <tbody>\n",
       "    <tr>\n",
       "      <th>2020-03-07 12:00:00</th>\n",
       "      <td>NaN</td>\n",
       "    </tr>\n",
       "    <tr>\n",
       "      <th>2020-03-08 00:00:00</th>\n",
       "      <td>NaN</td>\n",
       "    </tr>\n",
       "    <tr>\n",
       "      <th>2020-03-08 12:00:00</th>\n",
       "      <td>NaN</td>\n",
       "    </tr>\n",
       "    <tr>\n",
       "      <th>2020-03-09 00:00:00</th>\n",
       "      <td>NaN</td>\n",
       "    </tr>\n",
       "    <tr>\n",
       "      <th>2020-03-09 10:00:00</th>\n",
       "      <td>NaN</td>\n",
       "    </tr>\n",
       "    <tr>\n",
       "      <th>...</th>\n",
       "      <td>...</td>\n",
       "    </tr>\n",
       "    <tr>\n",
       "      <th>2020-07-03 10:00:00</th>\n",
       "      <td>NaN</td>\n",
       "    </tr>\n",
       "    <tr>\n",
       "      <th>2020-07-03 12:00:00</th>\n",
       "      <td>NaN</td>\n",
       "    </tr>\n",
       "    <tr>\n",
       "      <th>2020-07-04 00:00:00</th>\n",
       "      <td>NaN</td>\n",
       "    </tr>\n",
       "    <tr>\n",
       "      <th>2020-07-04 12:00:00</th>\n",
       "      <td>NaN</td>\n",
       "    </tr>\n",
       "    <tr>\n",
       "      <th>2020-07-05 00:00:00</th>\n",
       "      <td>NaN</td>\n",
       "    </tr>\n",
       "  </tbody>\n",
       "</table>\n",
       "<p>325 rows × 1 columns</p>\n",
       "</div>"
      ],
      "text/plain": [
       "                     value\n",
       "time_stamp                \n",
       "2020-03-07 12:00:00    NaN\n",
       "2020-03-08 00:00:00    NaN\n",
       "2020-03-08 12:00:00    NaN\n",
       "2020-03-09 00:00:00    NaN\n",
       "2020-03-09 10:00:00    NaN\n",
       "...                    ...\n",
       "2020-07-03 10:00:00    NaN\n",
       "2020-07-03 12:00:00    NaN\n",
       "2020-07-04 00:00:00    NaN\n",
       "2020-07-04 12:00:00    NaN\n",
       "2020-07-05 00:00:00    NaN\n",
       "\n",
       "[325 rows x 1 columns]"
      ]
     },
     "execution_count": 34,
     "metadata": {},
     "output_type": "execute_result"
    }
   ],
   "source": [
    "r_df"
   ]
  },
  {
   "cell_type": "code",
   "execution_count": 35,
   "metadata": {},
   "outputs": [
    {
     "data": {
      "text/plain": [
       "Text(0, 0.5, 'R')"
      ]
     },
     "execution_count": 35,
     "metadata": {},
     "output_type": "execute_result"
    },
    {
     "data": {
      "image/png": "[encoded data removed]",
      "text/plain": [
       "<Figure size 432x288 with 1 Axes>"
      ]
     },
     "metadata": {
      "needs_background": "light"
     },
     "output_type": "display_data"
    }
   ],
   "source": [
    "r_df.plot()\n",
    "plt.axhline(y=1, linestyle='dashed', color='gray')\n",
    "plt.xlabel('Date')\n",
    "plt.ylabel('R')"
   ]
  },
  {
   "cell_type": "markdown",
   "metadata": {},
   "source": [
    "## World infection curves, and by super area"
   ]
  },
  {
   "cell_type": "code",
   "execution_count": 36,
   "metadata": {},
   "outputs": [],
   "source": [
    "world_df = read.world_summary()"
   ]
  },
  {
   "cell_type": "code",
   "execution_count": 131,
   "metadata": {},
   "outputs": [
    {
     "data": {
      "text/plain": [
       "<matplotlib.legend.Legend at 0x7fe97ea13760>"
      ]
     },
     "execution_count": 131,
     "metadata": {},
     "output_type": "execute_result"
    },
    {
     "data": {
      "image/png": "[encoded data removed]",
      "text/plain": [
       "<Figure size 432x288 with 1 Axes>"
      ]
     },
     "metadata": {
      "needs_background": "light"
     },
     "output_type": "display_data"
    }
   ],
   "source": [
    "world_df.plot()\n",
    "plt.legend()"
   ]
  },
  {
   "cell_type": "code",
   "execution_count": 132,
   "metadata": {},
   "outputs": [
    {
     "data": {
      "text/plain": [
       "time_stamp\n",
       "2020-03-07 12:00:00      0.0\n",
       "2020-03-08 00:00:00      0.0\n",
       "2020-03-08 12:00:00      0.0\n",
       "2020-03-09 00:00:00      0.0\n",
       "2020-03-09 10:00:00      0.0\n",
       "                       ...  \n",
       "2020-07-03 10:00:00    103.0\n",
       "2020-07-03 12:00:00    103.0\n",
       "2020-07-04 00:00:00    103.0\n",
       "2020-07-04 12:00:00    103.0\n",
       "2020-07-05 00:00:00    103.0\n",
       "Name: dead, Length: 325, dtype: float64"
      ]
     },
     "execution_count": 132,
     "metadata": {},
     "output_type": "execute_result"
    }
   ],
   "source": [
    "world_df['dead']"
   ]
  },
  {
   "cell_type": "code",
   "execution_count": 37,
   "metadata": {},
   "outputs": [
    {
     "data": {
      "text/plain": [
       "<matplotlib.legend.Legend at 0x7ff57c3bcaf0>"
      ]
     },
     "execution_count": 37,
     "metadata": {},
     "output_type": "execute_result"
    },
    {
     "data": {
      "image/png": "[encoded data removed]",
      "text/plain": [
       "<Figure size 432x288 with 1 Axes>"
      ]
     },
     "metadata": {
      "needs_background": "light"
     },
     "output_type": "display_data"
    }
   ],
   "source": [
    "world_df.plot()\n",
    "plt.legend()"
   ]
  },
  {
   "cell_type": "code",
   "execution_count": 38,
   "metadata": {},
   "outputs": [],
   "source": [
    "area_df = read.super_area_summary()"
   ]
  },
  {
   "cell_type": "code",
   "execution_count": 39,
   "metadata": {},
   "outputs": [
    {
     "data": {
      "text/plain": [
       "<matplotlib.legend.Legend at 0x7ff55cf90eb0>"
      ]
     },
     "execution_count": 39,
     "metadata": {},
     "output_type": "execute_result"
    },
    {
     "data": {
      "image/png": "[encoded data removed]",
      "text/plain": [
       "<Figure size 432x288 with 1 Axes>"
      ]
     },
     "metadata": {
      "needs_background": "light"
     },
     "output_type": "display_data"
    }
   ],
   "source": [
    "area_df[area_df.super_area == 'E02002560'].plot()\n",
    "plt.legend()"
   ]
  },
  {
   "cell_type": "code",
   "execution_count": 40,
   "metadata": {},
   "outputs": [
    {
     "data": {
      "text/plain": [
       "<matplotlib.legend.Legend at 0x7ff55cd50760>"
      ]
     },
     "execution_count": 40,
     "metadata": {},
     "output_type": "execute_result"
    },
    {
     "data": {
      "image/png": "[encoded data removed]",
      "text/plain": [
       "<Figure size 432x288 with 1 Axes>"
      ]
     },
     "metadata": {
      "needs_background": "light"
     },
     "output_type": "display_data"
    }
   ],
   "source": [
    "area_df[area_df.super_area == 'E02001720'].plot()\n",
    "plt.legend()"
   ]
  },
  {
   "cell_type": "markdown",
   "metadata": {},
   "source": [
    "## World infection curves per age group"
   ]
  },
  {
   "cell_type": "code",
   "execution_count": 41,
   "metadata": {},
   "outputs": [],
   "source": [
    "ages_df = read.age_summary([0,10,20,30,40,\n",
    "                  50,60,70,80,90,100])"
   ]
  },
  {
   "cell_type": "code",
   "execution_count": 42,
   "metadata": {},
   "outputs": [
    {
     "data": {
      "text/plain": [
       "<matplotlib.legend.Legend at 0x7ff55ccc4b80>"
      ]
     },
     "execution_count": 42,
     "metadata": {},
     "output_type": "execute_result"
    },
    {
     "data": {
      "image/png": "[encoded data removed]",
      "text/plain": [
       "<Figure size 432x288 with 1 Axes>"
      ]
     },
     "metadata": {
      "needs_background": "light"
     },
     "output_type": "display_data"
    }
   ],
   "source": [
    "for name, group in ages_df.groupby('age_range'):\n",
    "    group['infected'].plot(label=name)\n",
    "plt.legend()"
   ]
  },
  {
   "cell_type": "markdown",
   "metadata": {},
   "source": [
    "## Draw some of the symptoms trajectories"
   ]
  },
  {
   "cell_type": "code",
   "execution_count": 43,
   "metadata": {},
   "outputs": [],
   "source": [
    "random_trajectories = read.draw_symptom_trajectories(window_length=100,\n",
    "                                        n_people=5)"
   ]
  },
  {
   "cell_type": "code",
   "execution_count": 46,
   "metadata": {},
   "outputs": [],
   "source": [
    "from june.infection import SymptomTag"
   ]
  },
  {
   "cell_type": "code",
   "execution_count": 47,
   "metadata": {},
   "outputs": [],
   "source": [
    "symptoms_values = [tag.value for tag in SymptomTag]\n",
    "symptoms_names = [tag.name for tag in SymptomTag]\n"
   ]
  },
  {
   "cell_type": "code",
   "execution_count": 48,
   "metadata": {},
   "outputs": [
    {
     "data": {
      "text/plain": [
       "Text(0.5, 0, 'Date')"
      ]
     },
     "execution_count": 48,
     "metadata": {},
     "output_type": "execute_result"
    },
    {
     "data": {
      "image/png": "[encoded data removed]",
      "text/plain": [
       "<Figure size 432x288 with 1 Axes>"
      ]
     },
     "metadata": {
      "needs_background": "light"
     },
     "output_type": "display_data"
    }
   ],
   "source": [
    "for df_person in random_trajectories:\n",
    "    df_person['symptoms'].plot()\n",
    "plt.ylabel('Symptoms Trajectory')\n",
    "_ = plt.yticks(symptoms_values, symptoms_names)\n",
    "plt.xlabel('Date')"
   ]
  },
  {
   "cell_type": "code",
   "execution_count": 49,
   "metadata": {},
   "outputs": [
    {
     "data": {
      "text/plain": [
       "Text(0.5, 0, 'Date')"
      ]
     },
     "execution_count": 49,
     "metadata": {},
     "output_type": "execute_result"
    },
    {
     "data": {
      "image/png": "[encoded data removed]",
      "text/plain": [
       "<Figure size 432x288 with 1 Axes>"
      ]
     },
     "metadata": {
      "needs_background": "light"
     },
     "output_type": "display_data"
    }
   ],
   "source": [
    "for df_person in random_trajectories:\n",
    "    df_person['n_secondary_infections'].plot()\n",
    "plt.ylabel('Number of secondary infections')\n",
    "\n",
    "plt.xlabel('Date')"
   ]
  },
  {
   "cell_type": "code",
   "execution_count": null,
   "metadata": {},
   "outputs": [],
   "source": []
  },
  {
   "cell_type": "code",
   "execution_count": null,
   "metadata": {},
   "outputs": [],
   "source": []
  },
  {
   "cell_type": "code",
   "execution_count": null,
   "metadata": {},
   "outputs": [],
   "source": []
  }
 ],
 "metadata": {
  "kernelspec": {
   "display_name": "Python 3",
   "language": "python",
   "name": "python3"
  },
  "language_info": {
   "codemirror_mode": {
    "name": "ipython",
    "version": 3
   },
   "file_extension": ".py",
   "mimetype": "text/x-python",
   "name": "python",
   "nbconvert_exporter": "python",
   "pygments_lexer": "ipython3",
   "version": "3.8.3"
  }
 },
 "nbformat": 4,
 "nbformat_minor": 4
}
