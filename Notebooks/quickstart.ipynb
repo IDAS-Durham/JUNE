{
 "cells": [
  {
   "cell_type": "code",
   "execution_count": 1,
   "metadata": {},
   "outputs": [],
   "source": [
    "%load_ext autoreload\n",
    "%autoreload 2"
   ]
  },
  {
   "cell_type": "code",
   "execution_count": 2,
   "metadata": {},
   "outputs": [],
   "source": [
    "import numpy as np\n",
    "import time\n",
    "from datetime import datetime\n",
    "import matplotlib.pyplot as plt\n",
    "\n",
    " \n",
    "plt.style.use(['science','notebook'])\n",
    "plt.style.reload_library()"
   ]
  },
  {
   "cell_type": "code",
   "execution_count": 3,
   "metadata": {},
   "outputs": [
    {
     "name": "stderr",
     "output_type": "stream",
     "text": [
      "No --data argument given - defaulting to:\n",
      "/home/florpi/JUNE/data\n",
      "No --configs argument given - defaulting to:\n",
      "/home/florpi/JUNE/configs\n"
     ]
    },
    {
     "name": "stdout",
     "output_type": "stream",
     "text": [
      "2020-10-01 15:43:23,483 - numexpr.utils - INFO - NumExpr defaulting to 4 threads.\n"
     ]
    }
   ],
   "source": [
    "from june import World \n",
    "from june.geography import Geography\n",
    "from june.demography import Demography\n",
    "from june.interaction import Interaction\n",
    "from june.infection import Infection, HealthIndexGenerator, InfectionSelector\n",
    "from june.infection.transmission import TransmissionConstant\n",
    "from june.groups import Hospitals, Schools, Companies, Households, CareHomes, Cemeteries, Universities\n",
    "from june.groups.leisure import generate_leisure_for_config, Cinemas, Pubs, Groceries\n",
    "from june.groups.travel import *\n",
    "from june.simulator import Simulator\n",
    "from june.infection_seed import InfectionSeed\n",
    "from june.policy import Policy, Policies\n",
    "from june import paths\n",
    "from june.hdf5_savers import load_geography_from_hdf5\n",
    "from june.records import Record, RecordReader\n",
    "\n",
    "from june.world import generate_world_from_geography\n",
    "from june.hdf5_savers import generate_world_from_hdf5"
   ]
  },
  {
   "cell_type": "markdown",
   "metadata": {},
   "source": [
    "# Initialize world\n",
    "\n",
    "To initialize a certain world, we need to add the different components we want to have in it. First we specify what super areas (msoa) we want to create. We have included these ones, because they are known to contain hospitals, schools, care homes, and companies.\n",
    "\n",
    "After creating the geography, we create the different components the worlds need to have such as care homes, companies ..."
   ]
  },
  {
   "cell_type": "code",
   "execution_count": 4,
   "metadata": {},
   "outputs": [],
   "source": [
    "CONFIG_PATH = paths.configs_path / \"config_example.yaml\""
   ]
  },
  {
   "cell_type": "code",
   "execution_count": 5,
   "metadata": {},
   "outputs": [
    {
     "name": "stdout",
     "output_type": "stream",
     "text": [
      "2020-10-01 15:43:24,043 - june.geography.geography - INFO - There are 151 areas and 5 super_areas and 3 in the world.\n",
      "2020-10-01 15:43:24,048 - june.groups.hospital - INFO - There are 1 hospitals in this geography.\n",
      "2020-10-01 15:43:24,109 - june.groups.school - INFO - There are 16 schools in this geography.\n",
      "2020-10-01 15:43:24,151 - june.groups.school - INFO - No school for the age 0 in this world.\n",
      "2020-10-01 15:43:24,157 - june.groups.school - INFO - No school for the age 1 in this world.\n",
      "2020-10-01 15:43:24,505 - june.groups.carehome - INFO - There are 14 care_homes in this geography.\n",
      "2020-10-01 15:43:24,566 - june.groups.university - INFO - There are 37 universities in this world.\n",
      "2020-10-01 15:43:29,220 - june.world - INFO - Populating areas\n",
      "2020-10-01 15:43:29,735 - june.world - INFO - Areas populated. This world's population is: 44314\n",
      "2020-10-01 15:43:32,158 - june.distributors.worker_distributor - INFO - Distributing workers to super areas...\n",
      "2020-10-01 15:43:33,571 - june.distributors.worker_distributor - INFO - Workers distributed.\n",
      "2020-10-01 15:43:33,572 - june.distributors.carehome_distributor - INFO - Populating care homes\n",
      "2020-10-01 15:43:33,808 - june.distributors.carehome_distributor - INFO - This world has 246 people living in care homes.\n",
      "2020-10-01 15:43:33,827 - june.distributors.household_distributor - INFO - Distributing people to households\n",
      "2020-10-01 15:43:37,371 - june.distributors.household_distributor - INFO - People assigned to households. There are 20614 households in this world.\n",
      "2020-10-01 15:43:37,375 - june.distributors.school_distributor - INFO - Distributing kids to schools\n",
      "2020-10-01 15:43:37,376 - june.distributors.school_distributor - INFO - Distributed kids in 0 of 151 areas.\n",
      "2020-10-01 15:43:38,522 - june.distributors.school_distributor - INFO - Kids distributed to schools\n",
      "2020-10-01 15:43:38,548 - june.distributors.university_distributor - INFO - Distributing students to universities\n",
      "2020-10-01 15:43:43,221 - june.distributors.university_distributor - INFO - Distributed 6507 students to 37 universities\n",
      "2020-10-01 15:43:43,223 - june.distributors.hospital_distributor - INFO - Distributing medics to hospitals\n",
      "2020-10-01 15:43:43,226 - june.distributors.hospital_distributor - INFO - Medics distributed to hospitals\n",
      "2020-10-01 15:43:43,228 - june.distributors.company_distributor - INFO - Distributing workers to companies\n",
      "2020-10-01 15:43:43,229 - june.distributors.company_distributor - INFO - Distributed workers to companies in 0 of 5 super areas.\n",
      "2020-10-01 15:43:43,444 - june.distributors.company_distributor - INFO - Workers distributed to companies\n",
      "CPU times: user 19 s, sys: 635 ms, total: 19.7 s\n",
      "Wall time: 19.8 s\n"
     ]
    }
   ],
   "source": [
    "%%time \n",
    "\n",
    "geography = Geography.from_file(\n",
    "{\n",
    "    \"super_area\": [\"E02001731\", \"E02002566\",\"E02004935\",\"E02000134\", \"E02004987\"]\n",
    "}\n",
    ")\n",
    "\n",
    "geography.hospitals = Hospitals.for_geography(geography)\n",
    "geography.schools = Schools.for_geography(geography)\n",
    "geography.companies = Companies.for_geography(geography)\n",
    "geography.care_homes = CareHomes.for_geography(geography)\n",
    "geography.universities = Universities.for_super_areas(geography.super_areas)\n",
    "world = generate_world_from_geography(geography, include_households=True)\n"
   ]
  },
  {
   "cell_type": "markdown",
   "metadata": {},
   "source": [
    "## Commute, travel and leisure"
   ]
  },
  {
   "cell_type": "code",
   "execution_count": 6,
   "metadata": {},
   "outputs": [
    {
     "name": "stdout",
     "output_type": "stream",
     "text": [
      "2020-10-01 15:43:43,802 - june.groups.leisure.social_venue - INFO - Initialized 800 pubs(s)\n",
      "2020-10-01 15:43:43,815 - june.groups.leisure.social_venue - INFO - Initialized 8 cinemas(s)\n",
      "2020-10-01 15:43:43,878 - june.groups.leisure.social_venue - INFO - Initialized 69 groceries(s)\n",
      "2020-10-01 15:43:43,920 - june.groups.leisure.leisure - INFO - Linking households for visits\n",
      "2020-10-01 15:43:44,411 - june.groups.leisure.leisure - INFO - Done\n",
      "2020-10-01 15:43:44,412 - june.groups.leisure.leisure - INFO - Linking households with care homes for visits\n",
      "2020-10-01 15:43:44,542 - june.groups.leisure.leisure - INFO - Done\n",
      "2020-10-01 15:43:44,543 - june.groups.leisure.leisure - INFO - Distributing social venues to areas\n",
      "2020-10-01 15:43:44,545 - june.groups.leisure.leisure - INFO - Distributed in 0 of 151 areas.\n",
      "2020-10-01 15:43:44,650 - june.groups.leisure.leisure - INFO - Distributed in 151 of 151 areas.\n",
      "CPU times: user 1.13 s, sys: 6.2 ms, total: 1.14 s\n",
      "Wall time: 1.17 s\n"
     ]
    }
   ],
   "source": [
    "%%time\n",
    "\n",
    "world.pubs = Pubs.for_geography(geography)\n",
    "world.cinemas = Cinemas.for_geography(geography)\n",
    "world.groceries = Groceries.for_geography(geography)\n",
    "leisure = generate_leisure_for_config(world, config_filename=CONFIG_PATH)\n",
    "leisure.distribute_social_venues_to_areas(\n",
    "    areas=world.areas, super_areas=world.super_areas\n",
    ")\n"
   ]
  },
  {
   "cell_type": "markdown",
   "metadata": {},
   "source": [
    "We are also going to need some cemeteries...geography.cemeteries = Cemeteries()\n"
   ]
  },
  {
   "cell_type": "code",
   "execution_count": 7,
   "metadata": {},
   "outputs": [
    {
     "name": "stdout",
     "output_type": "stream",
     "text": [
      "2020-10-01 15:43:57,306 - june.groups.travel.travel - INFO - Initialising commute...\n",
      "2020-10-01 15:43:57,309 - june.groups.travel.travel - INFO - Creating cities...\n",
      "2020-10-01 15:43:57,319 - june.groups.travel.travel - INFO - This world has 4 cities, with names\n",
      "['London', 'Newcastle upon Tyne', 'Darlington', 'St Albans']\n",
      "2020-10-01 15:43:57,322 - june.groups.travel.travel - INFO - Creating stations...\n",
      "2020-10-01 15:43:57,324 - june.groups.travel.travel - INFO - City London has 8 stations.\n",
      "2020-10-01 15:43:57,326 - june.groups.travel.travel - INFO - City Newcastle upon Tyne has 4 stations.\n",
      "2020-10-01 15:43:57,327 - june.groups.travel.travel - INFO - This world has 12 stations.\n",
      "2020-10-01 15:43:57,328 - june.groups.travel.travel - INFO - Recording closest stations to super areas\n",
      "2020-10-01 15:43:57,330 - june.groups.travel.travel - INFO - Determining people mode of transport\n",
      "2020-10-01 15:44:05,437 - june.groups.travel.travel - INFO - Mode of transport allocated in 0 of 151 areas.\n",
      "2020-10-01 15:44:05,503 - june.groups.travel.travel - INFO - Mode of transport determined for everyone.\n",
      "2020-10-01 15:44:05,749 - june.groups.travel.travel - INFO - Assigning commuters to stations...\n",
      "2020-10-01 15:44:05,750 - june.groups.travel.travel - INFO - Assigned 0 of 44314 commuters...\n",
      "2020-10-01 15:44:05,771 - june.groups.travel.travel - INFO - Commuters assigned\n",
      "2020-10-01 15:44:05,772 - june.groups.travel.travel - INFO - City London has 715 people commuting internally and 592 people commuting externally.\n",
      "2020-10-01 15:44:05,777 - june.groups.travel.travel - INFO - City Newcastle upon Tyne has 650 people commuting internally and 970 people commuting externally.\n",
      "2020-10-01 15:44:05,778 - june.groups.travel.travel - INFO - Creating transport units for the population\n",
      "2020-10-01 15:44:05,779 - june.groups.travel.travel - INFO - Cities' transport initialised\n"
     ]
    }
   ],
   "source": [
    "# initialise commuting\n",
    "travel = Travel()\n",
    "travel.initialise_commute(world)"
   ]
  },
  {
   "cell_type": "code",
   "execution_count": 8,
   "metadata": {},
   "outputs": [],
   "source": [
    "world.cemeteries = Cemeteries()"
   ]
  },
  {
   "cell_type": "code",
   "execution_count": 9,
   "metadata": {},
   "outputs": [
    {
     "data": {
      "text/plain": [
       "44314"
      ]
     },
     "execution_count": 9,
     "metadata": {},
     "output_type": "execute_result"
    }
   ],
   "source": [
    "len(world.people)"
   ]
  },
  {
   "cell_type": "markdown",
   "metadata": {},
   "source": [
    "### If it took a long time to run the previous commands, it might be a good idea to save the world to reuse it later."
   ]
  },
  {
   "cell_type": "code",
   "execution_count": 10,
   "metadata": {
    "scrolled": true
   },
   "outputs": [
    {
     "name": "stdout",
     "output_type": "stream",
     "text": [
      "2020-10-01 15:44:05,911 - june.hdf5_savers.world_saver - INFO - saving world to HDF5\n",
      "2020-10-01 15:44:05,948 - june.hdf5_savers.world_saver - INFO - saving population...\n",
      "2020-10-01 15:44:07,163 - june.hdf5_savers.world_saver - INFO - saving hospitals...\n",
      "2020-10-01 15:44:07,168 - june.hdf5_savers.world_saver - INFO - saving schools...\n",
      "2020-10-01 15:44:07,175 - june.hdf5_savers.world_saver - INFO - saving companies...\n",
      "2020-10-01 15:44:07,207 - june.hdf5_savers.world_saver - INFO - saving households...\n",
      "2020-10-01 15:44:07,587 - june.hdf5_savers.world_saver - INFO - saving care homes...\n",
      "2020-10-01 15:44:07,591 - june.hdf5_savers.world_saver - INFO - saving cities...\n",
      "2020-10-01 15:44:07,597 - june.hdf5_savers.world_saver - INFO - saving stations...\n",
      "2020-10-01 15:44:07,601 - june.hdf5_savers.world_saver - INFO - saving universities...\n",
      "2020-10-01 15:44:07,607 - june.hdf5_savers.world_saver - INFO - saving social venues...\n"
     ]
    }
   ],
   "source": [
    "world.to_hdf5(\"world.hdf5\")"
   ]
  },
  {
   "cell_type": "markdown",
   "metadata": {},
   "source": [
    "If we would like to load the world we saved, we just do"
   ]
  },
  {
   "cell_type": "code",
   "execution_count": 11,
   "metadata": {},
   "outputs": [
    {
     "name": "stdout",
     "output_type": "stream",
     "text": [
      "2020-10-01 15:44:07,655 - june.hdf5_savers.world_saver - INFO - loading world from HDF5\n",
      "2020-10-01 15:44:07,669 - june.hdf5_savers.world_saver - INFO - loading hospitals...\n",
      "2020-10-01 15:44:07,678 - june.hdf5_savers.world_saver - INFO - loading schools...\n",
      "2020-10-01 15:44:07,686 - june.hdf5_savers.company_saver - INFO - loading companies...\n",
      "2020-10-01 15:44:07,687 - june.hdf5_savers.company_saver - INFO - Companies chunk 0 of 1\n",
      "2020-10-01 15:44:07,756 - june.hdf5_savers.world_saver - INFO - loading care homes...\n",
      "2020-10-01 15:44:07,760 - june.hdf5_savers.world_saver - INFO - loading universities...\n",
      "2020-10-01 15:44:07,765 - june.hdf5_savers.world_saver - INFO - loading cities...\n",
      "2020-10-01 15:44:07,774 - june.hdf5_savers.world_saver - INFO - loading stations...\n",
      "2020-10-01 15:44:07,778 - june.hdf5_savers.household_saver - INFO - loading households...\n",
      "2020-10-01 15:44:07,780 - june.hdf5_savers.household_saver - INFO - Households chunk 0 of 1\n",
      "2020-10-01 15:44:08,078 - june.hdf5_savers.population_saver - INFO - loading population...\n",
      "2020-10-01 15:44:08,079 - june.hdf5_savers.population_saver - INFO - Population chunk 0 of 1\n",
      "2020-10-01 15:44:08,531 - june.hdf5_savers.world_saver - INFO - loading social venues...\n",
      "2020-10-01 15:44:08,534 - june.groups.leisure.social_venue - INFO - Initialized 8 cinemas(s)\n",
      "2020-10-01 15:44:08,537 - june.groups.leisure.social_venue - INFO - Initialized 69 groceries(s)\n",
      "2020-10-01 15:44:08,548 - june.groups.leisure.social_venue - INFO - Initialized 800 pubs(s)\n",
      "2020-10-01 15:44:08,554 - june.hdf5_savers.world_saver - INFO - restoring world...\n",
      "2020-10-01 15:44:08,600 - june.hdf5_savers.population_saver - INFO - restoring population...\n",
      "2020-10-01 15:44:08,602 - june.hdf5_savers.population_saver - INFO - Population chunk 0 of 1\n",
      "2020-10-01 15:44:09,359 - june.hdf5_savers.household_saver - INFO - restoring households...\n",
      "2020-10-01 15:44:09,360 - june.hdf5_savers.household_saver - INFO - Households chunk 0 of 1\n",
      "2020-10-01 15:44:09,662 - june.hdf5_savers.world_saver - INFO - restoring care homes...\n",
      "2020-10-01 15:44:09,665 - june.hdf5_savers.world_saver - INFO - restoring hospitals...\n",
      "2020-10-01 15:44:09,669 - june.hdf5_savers.world_saver - INFO - restoring commute...\n",
      "2020-10-01 15:44:09,676 - june.hdf5_savers.world_saver - INFO - restoring companies...\n",
      "2020-10-01 15:44:09,694 - june.hdf5_savers.world_saver - INFO - restoring schools...\n",
      "2020-10-01 15:44:09,696 - june.hdf5_savers.world_saver - INFO - restoring unis...\n",
      "2020-10-01 15:44:09,698 - june.hdf5_savers.world_saver - INFO - restoring social venues...\n"
     ]
    }
   ],
   "source": [
    "world = generate_world_from_hdf5(\"world.hdf5\")"
   ]
  },
  {
   "cell_type": "code",
   "execution_count": 12,
   "metadata": {},
   "outputs": [],
   "source": [
    "# and regenerate leisure in case we load it externally\n",
    "leisure = generate_leisure_for_config(world, CONFIG_PATH)\n",
    "# create travel as well\n",
    "travel = Travel()"
   ]
  },
  {
   "cell_type": "markdown",
   "metadata": {},
   "source": [
    "you have now a beautiful pre-pandemic world. "
   ]
  },
  {
   "cell_type": "markdown",
   "metadata": {},
   "source": [
    "# Adding the infection"
   ]
  },
  {
   "cell_type": "markdown",
   "metadata": {},
   "source": [
    "The module in charge of infecting people is called the ``InfectionSelector``, which gives people a transmission time profile and a symptoms trajectory based on their age and sex (through the health index generator)"
   ]
  },
  {
   "cell_type": "code",
   "execution_count": 13,
   "metadata": {},
   "outputs": [],
   "source": [
    "health_index_generator = HealthIndexGenerator.from_file(asymptomatic_ratio=0.2)\n",
    "selector = InfectionSelector.from_file(\n",
    "        health_index_generator=health_index_generator,\n",
    "        transmission_config_path=paths.configs_path / 'defaults/transmission/XNExp.yaml'\n",
    ")"
   ]
  },
  {
   "cell_type": "markdown",
   "metadata": {},
   "source": [
    "# Adding the interaction"
   ]
  },
  {
   "cell_type": "code",
   "execution_count": 14,
   "metadata": {},
   "outputs": [],
   "source": [
    "interaction = Interaction.from_file()"
   ]
  },
  {
   "cell_type": "markdown",
   "metadata": {},
   "source": [
    "Beta are the intensities of the interaction taking place at the different groups"
   ]
  },
  {
   "cell_type": "code",
   "execution_count": 15,
   "metadata": {},
   "outputs": [
    {
     "data": {
      "text/plain": [
       "{'box': 1,\n",
       " 'pub': 0.42941,\n",
       " 'grocery': 0.04137,\n",
       " 'cinema': 0.157461,\n",
       " 'city_transport': 0.107969,\n",
       " 'inter_city_transport': 0.383,\n",
       " 'hospital': 0.1168,\n",
       " 'care_home': 0.28,\n",
       " 'company': 0.371,\n",
       " 'school': 0.07,\n",
       " 'household': 0.208,\n",
       " 'university': 0.306}"
      ]
     },
     "execution_count": 15,
     "metadata": {},
     "output_type": "execute_result"
    }
   ],
   "source": [
    "interaction.beta"
   ]
  },
  {
   "cell_type": "markdown",
   "metadata": {},
   "source": [
    "moreover this interaction module uses contact matrices, that are different for different groups. These contact matrices shouldnt be modified for now. However they are a combination of conversational contact matrices, and physical contact matrices (see the BBC pandemic paper, from where these matrices are extracted https://www.medrxiv.org/content/10.1101/2020.02.16.20023754v2)\n",
    "\n",
    "There is a parameter, ``alpha`` ($\\alpha$), that combines these two matrices in the following way,\n",
    "\n",
    "\n",
    "$\\beta M \\left(1 + (\\alpha -1) \\right) P$\n",
    "\n",
    "where $\\beta$ is the intensity of the interaction, and $P$ the physical contact matrix. A larger $\\alpha$ produces more physical contacts. It is an overall number, non dependent of the particular group.\n"
   ]
  },
  {
   "cell_type": "code",
   "execution_count": 16,
   "metadata": {},
   "outputs": [
    {
     "data": {
      "text/plain": [
       "2.0"
      ]
     },
     "execution_count": 16,
     "metadata": {},
     "output_type": "execute_result"
    }
   ],
   "source": [
    "interaction.alpha_physical"
   ]
  },
  {
   "cell_type": "markdown",
   "metadata": {},
   "source": [
    "# Seed the disease"
   ]
  },
  {
   "cell_type": "markdown",
   "metadata": {},
   "source": [
    "There are two options implemented in the seed at the moment, either you specify the number of cases and these are then homogeneously distributed by population to the different areas, or you use UK data on cases per region. For now use the first case."
   ]
  },
  {
   "cell_type": "code",
   "execution_count": 17,
   "metadata": {},
   "outputs": [],
   "source": [
    "infection_seed = InfectionSeed(\n",
    "    world, selector,\n",
    ")"
   ]
  },
  {
   "cell_type": "code",
   "execution_count": 18,
   "metadata": {},
   "outputs": [],
   "source": [
    "n_cases = 50\n",
    "infection_seed.unleash_virus(\n",
    "    population=world.people,\n",
    "    n_cases=n_cases) # play around with the initial number of cases"
   ]
  },
  {
   "cell_type": "markdown",
   "metadata": {},
   "source": [
    "# Set policies"
   ]
  },
  {
   "cell_type": "code",
   "execution_count": 19,
   "metadata": {},
   "outputs": [],
   "source": [
    "policies = Policies.from_file()"
   ]
  },
  {
   "cell_type": "code",
   "execution_count": 20,
   "metadata": {},
   "outputs": [
    {
     "data": {
      "text/plain": [
       "<june.policy.policy.Policies at 0x7f5b34f74f10>"
      ]
     },
     "execution_count": 20,
     "metadata": {},
     "output_type": "execute_result"
    }
   ],
   "source": [
    "policies"
   ]
  },
  {
   "cell_type": "markdown",
   "metadata": {},
   "source": [
    "# Run the simulation"
   ]
  },
  {
   "cell_type": "markdown",
   "metadata": {},
   "source": [
    "The simulator is the main module in charge of running the simulation. It coordinates the ``ActivityManager`` which is responsible of allocating people to the right groups given the current timestep, it updates the health status of the population, and it runs the interaction over the different groups. All of these modules can be modified by policies at any given time."
   ]
  },
  {
   "cell_type": "markdown",
   "metadata": {},
   "source": [
    "Since the timer configuration is a bit cumbersome, it is read from the config file at ``configs/config_example.yaml``"
   ]
  },
  {
   "cell_type": "code",
   "execution_count": 21,
   "metadata": {},
   "outputs": [],
   "source": [
    "record = Record(    \n",
    "    record_path = 'results',    \n",
    "    record_static_data=True,\n",
    ") "
   ]
  },
  {
   "cell_type": "code",
   "execution_count": 22,
   "metadata": {},
   "outputs": [],
   "source": [
    "record.static_data(world=world)"
   ]
  },
  {
   "cell_type": "code",
   "execution_count": 23,
   "metadata": {},
   "outputs": [
    {
     "data": {
      "text/plain": [
       "800"
      ]
     },
     "execution_count": 23,
     "metadata": {},
     "output_type": "execute_result"
    }
   ],
   "source": [
    "len(world.pubs)"
   ]
  },
  {
   "cell_type": "code",
   "execution_count": 24,
   "metadata": {},
   "outputs": [],
   "source": [
    "simulator = Simulator.from_file(\n",
    "    world=world,\n",
    "    infection_selector=selector,\n",
    "    interaction=interaction, \n",
    "    config_filename = CONFIG_PATH,\n",
    "    leisure = leisure,\n",
    "    travel = travel,\n",
    "    record=record,\n",
    "    policies = policies\n",
    ")"
   ]
  },
  {
   "cell_type": "code",
   "execution_count": null,
   "metadata": {
    "scrolled": true
   },
   "outputs": [
    {
     "name": "stdout",
     "output_type": "stream",
     "text": [
      "2020-10-01 15:44:11,614 - june.simulator - INFO - Starting simulation for 60 days at day 2020-03-01 00:00:00, to run for 60 days\n",
      "2020-10-01 15:44:11,971 - june.activity.activity_manager - INFO - CMS: People COMS for rank 0/1 - 4.404006176628172e-06,3.814697265625e-06 - 2020-03-01 00:00:00\n",
      "2020-10-01 15:44:11,989 - june.simulator - INFO - Date = 2020-03-01 00:00:00, number of deaths =  0, number of infected = 50\n",
      "2020-10-01 15:44:12,126 - june.simulator - INFO - CMS: Infection COMS for rank 0/1 - 6.696005584672093e-06,5.9604644775390625e-06 - 2020-03-01 00:00:00\n",
      "2020-10-01 15:44:12,287 - june.simulator - INFO - CMS: Timestep for rank 0/1 - 0.6161678930075141, 0.6161675453186035 - 2020-03-01 00:00:00\n",
      "2020-10-01 15:44:12,610 - june.activity.activity_manager - INFO - CMS: People COMS for rank 0/1 - 3.7669960875064135e-06,3.337860107421875e-06 - 2020-03-01 04:00:00\n",
      "2020-10-01 15:44:12,617 - june.simulator - INFO - Date = 2020-03-01 04:00:00, number of deaths =  0, number of infected = 50\n",
      "2020-10-01 15:44:12,757 - june.simulator - INFO - CMS: Infection COMS for rank 0/1 - 5.105990567244589e-06,4.291534423828125e-06 - 2020-03-01 04:00:00\n",
      "2020-10-01 15:44:12,845 - june.simulator - INFO - CMS: Timestep for rank 0/1 - 0.5578224300115835, 0.5578231811523438 - 2020-03-01 04:00:00\n",
      "2020-10-01 15:44:13,208 - june.activity.activity_manager - INFO - CMS: People COMS for rank 0/1 - 5.3440016927197576e-06,4.291534423828125e-06 - 2020-03-01 08:00:00\n",
      "2020-10-01 15:44:13,215 - june.simulator - INFO - Date = 2020-03-01 08:00:00, number of deaths =  0, number of infected = 50\n",
      "2020-10-01 15:44:13,349 - june.simulator - INFO - CMS: Infection COMS for rank 0/1 - 3.6240089684724808e-06,3.0994415283203125e-06 - 2020-03-01 08:00:00\n",
      "2020-10-01 15:44:13,440 - june.simulator - INFO - CMS: Timestep for rank 0/1 - 0.5916251580056269, 0.5916259288787842 - 2020-03-01 08:00:00\n",
      "2020-10-01 15:44:13,536 - june.activity.activity_manager - INFO - CMS: People COMS for rank 0/1 - 6.27199187874794e-06,5.0067901611328125e-06 - 2020-03-01 12:00:00\n",
      "2020-10-01 15:44:13,543 - june.simulator - INFO - Date = 2020-03-01 12:00:00, number of deaths =  0, number of infected = 51\n",
      "2020-10-01 15:44:13,707 - june.simulator - INFO - CMS: Infection COMS for rank 0/1 - 3.3039978006854653e-06,2.86102294921875e-06 - 2020-03-01 12:00:00\n",
      "2020-10-01 15:44:13,795 - june.simulator - INFO - CMS: Timestep for rank 0/1 - 0.35457888498785906, 0.3545799255371094 - 2020-03-01 12:00:00\n",
      "2020-10-01 15:44:13,941 - june.activity.activity_manager - INFO - CMS: People COMS for rank 0/1 - 4.617002559825778e-06,3.814697265625e-06 - 2020-03-02 00:00:00\n",
      "2020-10-01 15:44:13,947 - june.simulator - INFO - Date = 2020-03-02 00:00:00, number of deaths =  0, number of infected = 52\n",
      "2020-10-01 15:44:14,099 - june.simulator - INFO - CMS: Infection COMS for rank 0/1 - 4.595000064000487e-06,4.0531158447265625e-06 - 2020-03-02 00:00:00\n",
      "2020-10-01 15:44:14,187 - june.simulator - INFO - CMS: Timestep for rank 0/1 - 0.39067856599285733, 0.39067912101745605 - 2020-03-02 00:00:00\n",
      "2020-10-01 15:44:14,350 - june.activity.activity_manager - INFO - CMS: People COMS for rank 0/1 - 4.314002580940723e-06,3.337860107421875e-06 - 2020-03-02 01:00:00\n",
      "2020-10-01 15:44:14,357 - june.simulator - INFO - Date = 2020-03-02 01:00:00, number of deaths =  0, number of infected = 52\n",
      "2020-10-01 15:44:15,281 - june.simulator - INFO - CMS: Infection COMS for rank 0/1 - 3.5059929359704256e-06,2.1457672119140625e-06 - 2020-03-02 01:00:00\n",
      "2020-10-01 15:44:15,369 - june.simulator - INFO - CMS: Timestep for rank 0/1 - 1.178244975002599, 1.178246259689331 - 2020-03-02 01:00:00\n",
      "2020-10-01 15:44:15,507 - june.activity.activity_manager - INFO - CMS: People COMS for rank 0/1 - 7.167007424868643e-06,6.198883056640625e-06 - 2020-03-02 09:00:00\n",
      "2020-10-01 15:44:15,513 - june.simulator - INFO - Date = 2020-03-02 09:00:00, number of deaths =  0, number of infected = 60\n",
      "2020-10-01 15:44:15,665 - june.simulator - INFO - CMS: Infection COMS for rank 0/1 - 5.852009053342044e-06,5.0067901611328125e-06 - 2020-03-02 09:00:00\n",
      "2020-10-01 15:44:15,766 - june.simulator - INFO - CMS: Timestep for rank 0/1 - 0.39547964600205887, 0.395479679107666 - 2020-03-02 09:00:00\n",
      "2020-10-01 15:44:16,174 - june.activity.activity_manager - INFO - CMS: People COMS for rank 0/1 - 5.054011126048863e-06,4.0531158447265625e-06 - 2020-03-02 10:00:00\n",
      "2020-10-01 15:44:16,183 - june.simulator - INFO - Date = 2020-03-02 10:00:00, number of deaths =  0, number of infected = 60\n",
      "2020-10-01 15:44:16,367 - june.simulator - INFO - CMS: Infection COMS for rank 0/1 - 3.4840049920603633e-06,2.6226043701171875e-06 - 2020-03-02 10:00:00\n",
      "2020-10-01 15:44:16,456 - june.simulator - INFO - CMS: Timestep for rank 0/1 - 0.6891930220008362, 0.6891937255859375 - 2020-03-02 10:00:00\n",
      "2020-10-01 15:44:16,569 - june.activity.activity_manager - INFO - CMS: People COMS for rank 0/1 - 7.2900002123788e-06,6.4373016357421875e-06 - 2020-03-02 13:00:00\n",
      "2020-10-01 15:44:16,575 - june.simulator - INFO - Date = 2020-03-02 13:00:00, number of deaths =  0, number of infected = 62\n",
      "2020-10-01 15:44:16,760 - june.simulator - INFO - CMS: Infection COMS for rank 0/1 - 2.964006853289902e-06,2.6226043701171875e-06 - 2020-03-02 13:00:00\n",
      "2020-10-01 15:44:16,860 - june.simulator - INFO - CMS: Timestep for rank 0/1 - 0.40341094200266525, 0.4034121036529541 - 2020-03-02 13:00:00\n",
      "2020-10-01 15:44:17,023 - june.activity.activity_manager - INFO - CMS: People COMS for rank 0/1 - 4.671004717238247e-06,4.0531158447265625e-06 - 2020-03-03 00:00:00\n",
      "2020-10-01 15:44:17,037 - june.simulator - INFO - Date = 2020-03-03 00:00:00, number of deaths =  0, number of infected = 65\n",
      "2020-10-01 15:44:17,215 - june.simulator - INFO - CMS: Infection COMS for rank 0/1 - 7.038004696369171e-06,5.7220458984375e-06 - 2020-03-03 00:00:00\n",
      "2020-10-01 15:44:17,317 - june.simulator - INFO - CMS: Timestep for rank 0/1 - 0.45527979399776086, 0.455280065536499 - 2020-03-03 00:00:00\n",
      "2020-10-01 15:44:17,475 - june.activity.activity_manager - INFO - CMS: People COMS for rank 0/1 - 5.1340030040591955e-06,4.5299530029296875e-06 - 2020-03-03 01:00:00\n",
      "2020-10-01 15:44:17,485 - june.simulator - INFO - Date = 2020-03-03 01:00:00, number of deaths =  0, number of infected = 65\n",
      "2020-10-01 15:44:17,665 - june.simulator - INFO - CMS: Infection COMS for rank 0/1 - 3.3079995773732662e-06,2.86102294921875e-06 - 2020-03-03 01:00:00\n",
      "2020-10-01 15:44:17,763 - june.simulator - INFO - CMS: Timestep for rank 0/1 - 0.4449348820053274, 0.44493579864501953 - 2020-03-03 01:00:00\n",
      "2020-10-01 15:44:17,902 - june.activity.activity_manager - INFO - CMS: People COMS for rank 0/1 - 6.461996235884726e-06,5.7220458984375e-06 - 2020-03-03 09:00:00\n",
      "2020-10-01 15:44:17,908 - june.simulator - INFO - Date = 2020-03-03 09:00:00, number of deaths =  0, number of infected = 83\n",
      "2020-10-01 15:44:18,087 - june.simulator - INFO - CMS: Infection COMS for rank 0/1 - 4.576009814627469e-06,3.814697265625e-06 - 2020-03-03 09:00:00\n",
      "2020-10-01 15:44:18,188 - june.simulator - INFO - CMS: Timestep for rank 0/1 - 0.4241889819968492, 0.42418980598449707 - 2020-03-03 09:00:00\n",
      "2020-10-01 15:44:18,530 - june.activity.activity_manager - INFO - CMS: People COMS for rank 0/1 - 5.230001988820732e-06,4.5299530029296875e-06 - 2020-03-03 10:00:00\n",
      "2020-10-01 15:44:18,540 - june.simulator - INFO - Date = 2020-03-03 10:00:00, number of deaths =  0, number of infected = 83\n",
      "2020-10-01 15:44:18,800 - june.simulator - INFO - CMS: Infection COMS for rank 0/1 - 4.936999175697565e-06,4.291534423828125e-06 - 2020-03-03 10:00:00\n",
      "2020-10-01 15:44:18,947 - june.simulator - INFO - CMS: Timestep for rank 0/1 - 0.7576567159994738, 0.7576577663421631 - 2020-03-03 10:00:00\n",
      "2020-10-01 15:44:19,078 - june.activity.activity_manager - INFO - CMS: People COMS for rank 0/1 - 7.78399407863617e-06,6.67572021484375e-06 - 2020-03-03 13:00:00\n",
      "2020-10-01 15:44:19,086 - june.simulator - INFO - Date = 2020-03-03 13:00:00, number of deaths =  0, number of infected = 85\n",
      "2020-10-01 15:44:19,247 - june.simulator - INFO - CMS: Infection COMS for rank 0/1 - 3.2910029403865337e-06,2.6226043701171875e-06 - 2020-03-03 13:00:00\n",
      "2020-10-01 15:44:19,330 - june.simulator - INFO - CMS: Timestep for rank 0/1 - 0.3820756640052423, 0.3820769786834717 - 2020-03-03 13:00:00\n"
     ]
    },
    {
     "name": "stdout",
     "output_type": "stream",
     "text": [
      "2020-10-01 15:44:19,482 - june.activity.activity_manager - INFO - CMS: People COMS for rank 0/1 - 6.132002454251051e-06,5.245208740234375e-06 - 2020-03-04 00:00:00\n",
      "2020-10-01 15:44:19,491 - june.simulator - INFO - Date = 2020-03-04 00:00:00, number of deaths =  0, number of infected = 88\n",
      "2020-10-01 15:44:19,815 - june.simulator - INFO - CMS: Infection COMS for rank 0/1 - 1.5394005458801985e-05,1.1682510375976562e-05 - 2020-03-04 00:00:00\n",
      "2020-10-01 15:44:19,953 - june.simulator - INFO - CMS: Timestep for rank 0/1 - 0.621415835004882, 0.6214165687561035 - 2020-03-04 00:00:00\n",
      "2020-10-01 15:44:20,298 - june.activity.activity_manager - INFO - CMS: People COMS for rank 0/1 - 1.0200004908256233e-05,8.58306884765625e-06 - 2020-03-04 01:00:00\n",
      "2020-10-01 15:44:20,307 - june.simulator - INFO - Date = 2020-03-04 01:00:00, number of deaths =  0, number of infected = 88\n",
      "2020-10-01 15:44:21,037 - june.simulator - INFO - CMS: Infection COMS for rank 0/1 - 5.2170071285218e-06,4.291534423828125e-06 - 2020-03-04 01:00:00\n",
      "2020-10-01 15:44:21,136 - june.simulator - INFO - CMS: Timestep for rank 0/1 - 1.182788302001427, 1.1827902793884277 - 2020-03-04 01:00:00\n",
      "2020-10-01 15:44:21,288 - june.activity.activity_manager - INFO - CMS: People COMS for rank 0/1 - 6.311005563475192e-06,5.7220458984375e-06 - 2020-03-04 09:00:00\n",
      "2020-10-01 15:44:21,294 - june.simulator - INFO - Date = 2020-03-04 09:00:00, number of deaths =  0, number of infected = 102\n",
      "2020-10-01 15:44:21,546 - june.simulator - INFO - CMS: Infection COMS for rank 0/1 - 4.2100000428035855e-06,3.5762786865234375e-06 - 2020-03-04 09:00:00\n",
      "2020-10-01 15:44:21,640 - june.simulator - INFO - CMS: Timestep for rank 0/1 - 0.49807846400653943, 0.4980762004852295 - 2020-03-04 09:00:00\n",
      "2020-10-01 15:44:22,023 - june.activity.activity_manager - INFO - CMS: People COMS for rank 0/1 - 5.52299025002867e-06,4.5299530029296875e-06 - 2020-03-04 10:00:00\n",
      "2020-10-01 15:44:22,032 - june.simulator - INFO - Date = 2020-03-04 10:00:00, number of deaths =  0, number of infected = 103\n",
      "2020-10-01 15:44:22,287 - june.simulator - INFO - CMS: Infection COMS for rank 0/1 - 2.9180082492530346e-06,2.6226043701171875e-06 - 2020-03-04 10:00:00\n",
      "2020-10-01 15:44:22,378 - june.simulator - INFO - CMS: Timestep for rank 0/1 - 0.7371905429899925, 0.7371916770935059 - 2020-03-04 10:00:00\n",
      "2020-10-01 15:44:22,478 - june.activity.activity_manager - INFO - CMS: People COMS for rank 0/1 - 6.324000423774123e-06,5.7220458984375e-06 - 2020-03-04 13:00:00\n",
      "2020-10-01 15:44:22,487 - june.simulator - INFO - Date = 2020-03-04 13:00:00, number of deaths =  0, number of infected = 105\n",
      "2020-10-01 15:44:22,666 - june.simulator - INFO - CMS: Infection COMS for rank 0/1 - 3.420005668886006e-06,2.6226043701171875e-06 - 2020-03-04 13:00:00\n",
      "2020-10-01 15:44:22,768 - june.simulator - INFO - CMS: Timestep for rank 0/1 - 0.3887008349993266, 0.3887012004852295 - 2020-03-04 13:00:00\n",
      "2020-10-01 15:44:22,919 - june.activity.activity_manager - INFO - CMS: People COMS for rank 0/1 - 5.609006620943546e-06,5.0067901611328125e-06 - 2020-03-05 00:00:00\n",
      "2020-10-01 15:44:22,926 - june.simulator - INFO - Date = 2020-03-05 00:00:00, number of deaths =  0, number of infected = 117\n",
      "2020-10-01 15:44:23,077 - june.simulator - INFO - CMS: Infection COMS for rank 0/1 - 2.5619956431910396e-06,1.9073486328125e-06 - 2020-03-05 00:00:00\n",
      "2020-10-01 15:44:23,173 - june.simulator - INFO - CMS: Timestep for rank 0/1 - 0.4043197999999393, 0.40432024002075195 - 2020-03-05 00:00:00\n",
      "2020-10-01 15:44:23,360 - june.activity.activity_manager - INFO - CMS: People COMS for rank 0/1 - 4.05999890062958e-06,3.5762786865234375e-06 - 2020-03-05 01:00:00\n",
      "2020-10-01 15:44:23,367 - june.simulator - INFO - Date = 2020-03-05 01:00:00, number of deaths =  0, number of infected = 117\n",
      "2020-10-01 15:44:23,896 - june.simulator - INFO - CMS: Infection COMS for rank 0/1 - 2.7609930839389563e-06,2.384185791015625e-06 - 2020-03-05 01:00:00\n",
      "2020-10-01 15:44:23,983 - june.simulator - INFO - CMS: Timestep for rank 0/1 - 0.8082993249990977, 0.8083007335662842 - 2020-03-05 01:00:00\n",
      "2020-10-01 15:44:24,133 - june.activity.activity_manager - INFO - CMS: People COMS for rank 0/1 - 5.189998773857951e-06,4.76837158203125e-06 - 2020-03-05 09:00:00\n",
      "2020-10-01 15:44:24,139 - june.simulator - INFO - Date = 2020-03-05 09:00:00, number of deaths =  0, number of infected = 151\n",
      "2020-10-01 15:44:24,327 - june.simulator - INFO - CMS: Infection COMS for rank 0/1 - 4.451008862815797e-06,4.0531158447265625e-06 - 2020-03-05 09:00:00\n",
      "2020-10-01 15:44:24,478 - june.simulator - INFO - CMS: Timestep for rank 0/1 - 0.493095052006538, 0.493100643157959 - 2020-03-05 09:00:00\n",
      "2020-10-01 15:44:24,883 - june.activity.activity_manager - INFO - CMS: People COMS for rank 0/1 - 3.7680001696571708e-06,3.337860107421875e-06 - 2020-03-05 10:00:00\n",
      "2020-10-01 15:44:24,892 - june.simulator - INFO - Date = 2020-03-05 10:00:00, number of deaths =  0, number of infected = 153\n",
      "2020-10-01 15:44:25,050 - june.simulator - INFO - CMS: Infection COMS for rank 0/1 - 3.263994585722685e-06,2.6226043701171875e-06 - 2020-03-05 10:00:00\n",
      "2020-10-01 15:44:25,145 - june.simulator - INFO - CMS: Timestep for rank 0/1 - 0.6647824620013125, 0.6647830009460449 - 2020-03-05 10:00:00\n",
      "2020-10-01 15:44:25,245 - june.activity.activity_manager - INFO - CMS: People COMS for rank 0/1 - 6.110989488661289e-06,5.4836273193359375e-06 - 2020-03-05 13:00:00\n",
      "2020-10-01 15:44:25,251 - june.simulator - INFO - Date = 2020-03-05 13:00:00, number of deaths =  0, number of infected = 161\n",
      "2020-10-01 15:44:25,414 - june.simulator - INFO - CMS: Infection COMS for rank 0/1 - 2.964996383525431e-06,2.6226043701171875e-06 - 2020-03-05 13:00:00\n",
      "2020-10-01 15:44:25,504 - june.simulator - INFO - CMS: Timestep for rank 0/1 - 0.35810696199769154, 0.3581078052520752 - 2020-03-05 13:00:00\n",
      "2020-10-01 15:44:25,673 - june.activity.activity_manager - INFO - CMS: People COMS for rank 0/1 - 5.478999810293317e-06,4.76837158203125e-06 - 2020-03-06 00:00:00\n",
      "2020-10-01 15:44:25,679 - june.simulator - INFO - Date = 2020-03-06 00:00:00, number of deaths =  0, number of infected = 166\n",
      "2020-10-01 15:44:25,852 - june.simulator - INFO - CMS: Infection COMS for rank 0/1 - 2.9009970603510737e-06,2.384185791015625e-06 - 2020-03-06 00:00:00\n",
      "2020-10-01 15:44:25,945 - june.simulator - INFO - CMS: Timestep for rank 0/1 - 0.4400373060052516, 0.44003796577453613 - 2020-03-06 00:00:00\n",
      "2020-10-01 15:44:26,110 - june.activity.activity_manager - INFO - CMS: People COMS for rank 0/1 - 3.7090067053213716e-06,3.337860107421875e-06 - 2020-03-06 01:00:00\n",
      "2020-10-01 15:44:26,116 - june.simulator - INFO - Date = 2020-03-06 01:00:00, number of deaths =  0, number of infected = 168\n",
      "2020-10-01 15:44:26,304 - june.simulator - INFO - CMS: Infection COMS for rank 0/1 - 3.1509989639744163e-06,2.6226043701171875e-06 - 2020-03-06 01:00:00\n",
      "2020-10-01 15:44:26,395 - june.simulator - INFO - CMS: Timestep for rank 0/1 - 0.44919458699587267, 0.44919538497924805 - 2020-03-06 01:00:00\n",
      "2020-10-01 15:44:26,554 - june.activity.activity_manager - INFO - CMS: People COMS for rank 0/1 - 5.689013050869107e-06,4.76837158203125e-06 - 2020-03-06 09:00:00\n",
      "2020-10-01 15:44:26,562 - june.simulator - INFO - Date = 2020-03-06 09:00:00, number of deaths =  0, number of infected = 218\n",
      "2020-10-01 15:44:26,761 - june.simulator - INFO - CMS: Infection COMS for rank 0/1 - 1.1322001228109002e-05,1.0967254638671875e-05 - 2020-03-06 09:00:00\n",
      "2020-10-01 15:44:26,884 - june.simulator - INFO - CMS: Timestep for rank 0/1 - 0.4882169269985752, 0.4882183074951172 - 2020-03-06 09:00:00\n",
      "2020-10-01 15:44:27,362 - june.activity.activity_manager - INFO - CMS: People COMS for rank 0/1 - 5.0779926823452115e-06,4.5299530029296875e-06 - 2020-03-06 10:00:00\n",
      "2020-10-01 15:44:27,372 - june.simulator - INFO - Date = 2020-03-06 10:00:00, number of deaths =  0, number of infected = 221\n",
      "2020-10-01 15:44:27,665 - june.simulator - INFO - CMS: Infection COMS for rank 0/1 - 4.1239982238039374e-06,3.5762786865234375e-06 - 2020-03-06 10:00:00\n",
      "2020-10-01 15:44:27,778 - june.simulator - INFO - CMS: Timestep for rank 0/1 - 0.891623764007818, 0.8916244506835938 - 2020-03-06 10:00:00\n",
      "2020-10-01 15:44:27,875 - june.activity.activity_manager - INFO - CMS: People COMS for rank 0/1 - 5.12300175614655e-06,4.76837158203125e-06 - 2020-03-06 13:00:00\n"
     ]
    },
    {
     "name": "stdout",
     "output_type": "stream",
     "text": [
      "2020-10-01 15:44:27,880 - june.simulator - INFO - Date = 2020-03-06 13:00:00, number of deaths =  0, number of infected = 236\n",
      "2020-10-01 15:44:28,039 - june.simulator - INFO - CMS: Infection COMS for rank 0/1 - 3.2609968911856413e-06,2.6226043701171875e-06 - 2020-03-06 13:00:00\n",
      "2020-10-01 15:44:28,122 - june.simulator - INFO - CMS: Timestep for rank 0/1 - 0.3424146710021887, 0.34241557121276855 - 2020-03-06 13:00:00\n",
      "2020-10-01 15:44:28,419 - june.activity.activity_manager - INFO - CMS: People COMS for rank 0/1 - 4.569999873638153e-06,3.814697265625e-06 - 2020-03-07 00:00:00\n",
      "2020-10-01 15:44:28,426 - june.simulator - INFO - Date = 2020-03-07 00:00:00, number of deaths =  0, number of infected = 251\n",
      "2020-10-01 15:44:28,582 - june.simulator - INFO - CMS: Infection COMS for rank 0/1 - 3.096996806561947e-06,2.384185791015625e-06 - 2020-03-07 00:00:00\n",
      "2020-10-01 15:44:28,676 - june.simulator - INFO - CMS: Timestep for rank 0/1 - 0.5535198300058255, 0.5535211563110352 - 2020-03-07 00:00:00\n",
      "2020-10-01 15:44:28,973 - june.activity.activity_manager - INFO - CMS: People COMS for rank 0/1 - 5.4440024541690946e-06,5.0067901611328125e-06 - 2020-03-07 04:00:00\n",
      "2020-10-01 15:44:28,979 - june.simulator - INFO - Date = 2020-03-07 04:00:00, number of deaths =  0, number of infected = 262\n",
      "2020-10-01 15:44:29,149 - june.simulator - INFO - CMS: Infection COMS for rank 0/1 - 2.8369977371767163e-06,2.384185791015625e-06 - 2020-03-07 04:00:00\n",
      "2020-10-01 15:44:29,261 - june.simulator - INFO - CMS: Timestep for rank 0/1 - 0.5838990899937926, 0.5839009284973145 - 2020-03-07 04:00:00\n",
      "2020-10-01 15:44:29,636 - june.activity.activity_manager - INFO - CMS: People COMS for rank 0/1 - 5.07800723426044e-06,4.5299530029296875e-06 - 2020-03-07 08:00:00\n",
      "2020-10-01 15:44:29,643 - june.simulator - INFO - Date = 2020-03-07 08:00:00, number of deaths =  0, number of infected = 269\n",
      "2020-10-01 15:44:29,853 - june.simulator - INFO - CMS: Infection COMS for rank 0/1 - 4.43200406152755e-06,3.814697265625e-06 - 2020-03-07 08:00:00\n",
      "2020-10-01 15:44:29,946 - june.simulator - INFO - CMS: Timestep for rank 0/1 - 0.6839600590028567, 0.6839611530303955 - 2020-03-07 08:00:00\n",
      "2020-10-01 15:44:30,048 - june.activity.activity_manager - INFO - CMS: People COMS for rank 0/1 - 5.83200016990304e-06,5.7220458984375e-06 - 2020-03-07 12:00:00\n",
      "2020-10-01 15:44:30,053 - june.simulator - INFO - Date = 2020-03-07 12:00:00, number of deaths =  0, number of infected = 282\n",
      "2020-10-01 15:44:30,206 - june.simulator - INFO - CMS: Infection COMS for rank 0/1 - 3.4179975045844913e-06,2.86102294921875e-06 - 2020-03-07 12:00:00\n",
      "2020-10-01 15:44:30,300 - june.simulator - INFO - CMS: Timestep for rank 0/1 - 0.3532354190101614, 0.3532369136810303 - 2020-03-07 12:00:00\n",
      "2020-10-01 15:44:30,667 - june.activity.activity_manager - INFO - CMS: People COMS for rank 0/1 - 7.936992915347219e-06,7.3909759521484375e-06 - 2020-03-08 00:00:00\n",
      "2020-10-01 15:44:30,673 - june.simulator - INFO - Date = 2020-03-08 00:00:00, number of deaths =  0, number of infected = 289\n",
      "2020-10-01 15:44:30,830 - june.simulator - INFO - CMS: Infection COMS for rank 0/1 - 2.9859947971999645e-06,2.384185791015625e-06 - 2020-03-08 00:00:00\n",
      "2020-10-01 15:44:30,922 - june.simulator - INFO - CMS: Timestep for rank 0/1 - 0.6212173199892277, 0.6212179660797119 - 2020-03-08 00:00:00\n",
      "2020-10-01 15:44:31,241 - june.activity.activity_manager - INFO - CMS: People COMS for rank 0/1 - 1.3572993339039385e-05,1.2636184692382812e-05 - 2020-03-08 04:00:00\n",
      "2020-10-01 15:44:31,247 - june.simulator - INFO - Date = 2020-03-08 04:00:00, number of deaths =  0, number of infected = 296\n",
      "2020-10-01 15:44:31,423 - june.simulator - INFO - CMS: Infection COMS for rank 0/1 - 2.9249931685626507e-06,2.384185791015625e-06 - 2020-03-08 04:00:00\n",
      "2020-10-01 15:44:31,511 - june.simulator - INFO - CMS: Timestep for rank 0/1 - 0.5872082889982266, 0.5872087478637695 - 2020-03-08 04:00:00\n",
      "2020-10-01 15:44:31,876 - june.activity.activity_manager - INFO - CMS: People COMS for rank 0/1 - 5.36598963662982e-06,5.0067901611328125e-06 - 2020-03-08 08:00:00\n",
      "2020-10-01 15:44:31,884 - june.simulator - INFO - Date = 2020-03-08 08:00:00, number of deaths =  0, number of infected = 315\n",
      "2020-10-01 15:44:32,093 - june.simulator - INFO - CMS: Infection COMS for rank 0/1 - 3.3709948183968663e-06,2.86102294921875e-06 - 2020-03-08 08:00:00\n",
      "2020-10-01 15:44:32,189 - june.simulator - INFO - CMS: Timestep for rank 0/1 - 0.6761694460001308, 0.6761703491210938 - 2020-03-08 08:00:00\n",
      "2020-10-01 15:44:32,292 - june.activity.activity_manager - INFO - CMS: People COMS for rank 0/1 - 5.883994163013995e-06,5.245208740234375e-06 - 2020-03-08 12:00:00\n",
      "2020-10-01 15:44:32,302 - june.simulator - INFO - Date = 2020-03-08 12:00:00, number of deaths =  0, number of infected = 327\n",
      "2020-10-01 15:44:32,492 - june.simulator - INFO - CMS: Infection COMS for rank 0/1 - 3.1650124583393335e-06,2.6226043701171875e-06 - 2020-03-08 12:00:00\n",
      "2020-10-01 15:44:32,583 - june.simulator - INFO - CMS: Timestep for rank 0/1 - 0.3930887860042276, 0.39308977127075195 - 2020-03-08 12:00:00\n",
      "2020-10-01 15:44:32,738 - june.activity.activity_manager - INFO - CMS: People COMS for rank 0/1 - 4.7100038500502706e-06,4.291534423828125e-06 - 2020-03-09 00:00:00\n",
      "2020-10-01 15:44:32,746 - june.simulator - INFO - Date = 2020-03-09 00:00:00, number of deaths =  0, number of infected = 343\n",
      "2020-10-01 15:44:32,903 - june.simulator - INFO - CMS: Infection COMS for rank 0/1 - 3.031003871001303e-06,2.6226043701171875e-06 - 2020-03-09 00:00:00\n",
      "2020-10-01 15:44:32,991 - june.simulator - INFO - CMS: Timestep for rank 0/1 - 0.4079733889957424, 0.4079735279083252 - 2020-03-09 00:00:00\n",
      "2020-10-01 15:44:33,165 - june.activity.activity_manager - INFO - CMS: People COMS for rank 0/1 - 1.1460011592134833e-05,9.298324584960938e-06 - 2020-03-09 01:00:00\n",
      "2020-10-01 15:44:33,172 - june.simulator - INFO - Date = 2020-03-09 01:00:00, number of deaths =  0, number of infected = 347\n",
      "2020-10-01 15:44:33,383 - june.simulator - INFO - CMS: Infection COMS for rank 0/1 - 3.0899973353371024e-06,2.6226043701171875e-06 - 2020-03-09 01:00:00\n",
      "2020-10-01 15:44:33,473 - june.simulator - INFO - CMS: Timestep for rank 0/1 - 0.48086193299968727, 0.4808623790740967 - 2020-03-09 01:00:00\n",
      "2020-10-01 15:44:33,608 - june.activity.activity_manager - INFO - CMS: People COMS for rank 0/1 - 1.4190998626872897e-05,1.3113021850585938e-05 - 2020-03-09 09:00:00\n",
      "2020-10-01 15:44:33,615 - june.simulator - INFO - Date = 2020-03-09 09:00:00, number of deaths =  0, number of infected = 425\n",
      "2020-10-01 15:44:33,849 - june.simulator - INFO - CMS: Infection COMS for rank 0/1 - 3.1660019885748625e-06,2.384185791015625e-06 - 2020-03-09 09:00:00\n",
      "2020-10-01 15:44:33,946 - june.simulator - INFO - CMS: Timestep for rank 0/1 - 0.4715268010040745, 0.4715287685394287 - 2020-03-09 09:00:00\n",
      "2020-10-01 15:44:34,298 - june.activity.activity_manager - INFO - CMS: People COMS for rank 0/1 - 4.412009730003774e-06,3.814697265625e-06 - 2020-03-09 10:00:00\n",
      "2020-10-01 15:44:34,305 - june.simulator - INFO - Date = 2020-03-09 10:00:00, number of deaths =  0, number of infected = 429\n",
      "2020-10-01 15:44:34,474 - june.simulator - INFO - CMS: Infection COMS for rank 0/1 - 2.9270013328641653e-06,2.1457672119140625e-06 - 2020-03-09 10:00:00\n",
      "2020-10-01 15:44:34,571 - june.simulator - INFO - CMS: Timestep for rank 0/1 - 0.6234431589982705, 0.623443603515625 - 2020-03-09 10:00:00\n",
      "2020-10-01 15:44:34,676 - june.activity.activity_manager - INFO - CMS: People COMS for rank 0/1 - 7.233000360429287e-06,6.67572021484375e-06 - 2020-03-09 13:00:00\n",
      "2020-10-01 15:44:34,683 - june.simulator - INFO - Date = 2020-03-09 13:00:00, number of deaths =  0, number of infected = 440\n",
      "2020-10-01 15:44:34,850 - june.simulator - INFO - CMS: Infection COMS for rank 0/1 - 2.8380018193274736e-06,2.1457672119140625e-06 - 2020-03-09 13:00:00\n"
     ]
    }
   ],
   "source": [
    "%%time\n",
    "simulator.run()"
   ]
  },
  {
   "cell_type": "markdown",
   "metadata": {},
   "source": [
    "While the simulation runs (and afterwards) we can launch the visualization webpage by running\n",
    "```python june/visualizer.py path/to/results``` "
   ]
  },
  {
   "cell_type": "markdown",
   "metadata": {},
   "source": [
    "# Getting the results"
   ]
  },
  {
   "cell_type": "markdown",
   "metadata": {},
   "source": [
    "All results are stored in a json file specified in the ``record.record_path`` folder. Summaries are found under ``summary.csv``"
   ]
  },
  {
   "cell_type": "code",
   "execution_count": null,
   "metadata": {},
   "outputs": [],
   "source": [
    "import pandas as pd"
   ]
  },
  {
   "cell_type": "code",
   "execution_count": null,
   "metadata": {},
   "outputs": [],
   "source": [
    "read = RecordReader()"
   ]
  },
  {
   "cell_type": "markdown",
   "metadata": {},
   "source": [
    "## Contains summaries with regional information"
   ]
  },
  {
   "cell_type": "code",
   "execution_count": null,
   "metadata": {},
   "outputs": [],
   "source": [
    "read.regional_summary.head(3)"
   ]
  },
  {
   "cell_type": "code",
   "execution_count": null,
   "metadata": {
    "scrolled": false
   },
   "outputs": [],
   "source": [
    "for region in read.regional_summary['region'].unique():\n",
    "    read.regional_summary[\n",
    "        read.regional_summary['region'] == region\n",
    "    ]['current_infected'].plot()\n",
    "    read.regional_summary[\n",
    "        read.regional_summary['region'] == region\n",
    "    ]['current_susceptible'].plot()\n",
    "    plt.title(region)\n",
    "    plt.show()"
   ]
  },
  {
   "cell_type": "code",
   "execution_count": null,
   "metadata": {},
   "outputs": [],
   "source": [
    "read.world_summary['current_infected'].plot()\n",
    "read.world_summary['current_susceptible'].plot()"
   ]
  },
  {
   "cell_type": "markdown",
   "metadata": {},
   "source": [
    "# Asking questions to the records"
   ]
  },
  {
   "cell_type": "markdown",
   "metadata": {},
   "source": [
    "## Sero-prevalence by age"
   ]
  },
  {
   "cell_type": "code",
   "execution_count": null,
   "metadata": {},
   "outputs": [],
   "source": [
    "infections_df = read.get_table_with_extras('infections',\n",
    "                                           'infected_ids')"
   ]
  },
  {
   "cell_type": "code",
   "execution_count": null,
   "metadata": {},
   "outputs": [],
   "source": [
    "deaths_df = read.get_table_with_extras('deaths', \n",
    "                                       'dead_person_ids')"
   ]
  },
  {
   "cell_type": "code",
   "execution_count": null,
   "metadata": {},
   "outputs": [],
   "source": [
    "age_bins = (0,20,60,100)"
   ]
  },
  {
   "cell_type": "code",
   "execution_count": null,
   "metadata": {},
   "outputs": [],
   "source": [
    "infected_by_age = infections_df.groupby([pd.cut(infections_df['age'],\n",
    "            bins=age_bins), 'timestamp']).size()"
   ]
  },
  {
   "cell_type": "code",
   "execution_count": null,
   "metadata": {},
   "outputs": [],
   "source": [
    "people_df = read.table_to_df('population')"
   ]
  },
  {
   "cell_type": "code",
   "execution_count": null,
   "metadata": {},
   "outputs": [],
   "source": [
    "n_by_age = people_df.groupby(pd.cut(people_df['age'],\n",
    "            bins=age_bins)).size()"
   ]
  },
  {
   "cell_type": "code",
   "execution_count": null,
   "metadata": {},
   "outputs": [],
   "source": [
    "(100*infected_by_age/n_by_age).xs(10).cumsum().plot(label='0,20')\n",
    "(100*infected_by_age/n_by_age).xs(30).cumsum().plot(label='20,60')\n",
    "(100*infected_by_age/n_by_age).xs(70).cumsum().plot(label='60,100')\n",
    "plt.legend()"
   ]
  },
  {
   "cell_type": "markdown",
   "metadata": {},
   "source": [
    "## Care home deaths in hospital"
   ]
  },
  {
   "cell_type": "code",
   "execution_count": null,
   "metadata": {},
   "outputs": [],
   "source": [
    "care_home_deaths_hospital = deaths_df[\n",
    "    (deaths_df['location_specs'] == 'hospital') \n",
    "    & (deaths_df['residence_type'] == 'care_home')\n",
    "]\n",
    "care_home_deaths_hospital=care_home_deaths_hospital.groupby(\n",
    "    ['name_region', 'timestamp']\n",
    ").size()"
   ]
  },
  {
   "cell_type": "code",
   "execution_count": null,
   "metadata": {},
   "outputs": [],
   "source": [
    "care_home_deaths_hospital.unstack(level=0).plot()\n"
   ]
  },
  {
   "cell_type": "markdown",
   "metadata": {},
   "source": [
    "## Where people get infected as a function of time"
   ]
  },
  {
   "cell_type": "code",
   "execution_count": null,
   "metadata": {},
   "outputs": [],
   "source": [
    "locations_df = infections_df.groupby(['location_specs', \n",
    "                                'timestamp']).size()"
   ]
  },
  {
   "cell_type": "code",
   "execution_count": null,
   "metadata": {},
   "outputs": [],
   "source": [
    "locations_df.unstack(level=0).plot()"
   ]
  },
  {
   "cell_type": "code",
   "execution_count": null,
   "metadata": {},
   "outputs": [],
   "source": [
    "import matplotlib.ticker as mtick\n",
    "location_counts_df = locations_df.groupby('location_specs').size()\n",
    "location_counts_df = 100*location_counts_df / location_counts_df.sum()\n",
    "ax = location_counts_df.sort_values().plot.bar()\n",
    "ax.yaxis.set_major_formatter(mtick.PercentFormatter())\n",
    "plt.ylabel('Percentage of infections at location')\n",
    "plt.xlabel('location')\n"
   ]
  },
  {
   "cell_type": "markdown",
   "metadata": {},
   "source": [
    "## Where people of certain age get infected as a function of time"
   ]
  },
  {
   "cell_type": "code",
   "execution_count": null,
   "metadata": {},
   "outputs": [],
   "source": [
    "old_locations_df = infections_df[\n",
    "    infections_df.age > 65\n",
    "].groupby(['location_specs', 'timestamp']).size()"
   ]
  },
  {
   "cell_type": "code",
   "execution_count": null,
   "metadata": {},
   "outputs": [],
   "source": [
    "old_locations_df.unstack(level=0).plot()"
   ]
  },
  {
   "cell_type": "markdown",
   "metadata": {},
   "source": [
    "## Prevalence by household size"
   ]
  },
  {
   "cell_type": "code",
   "execution_count": null,
   "metadata": {},
   "outputs": [],
   "source": [
    "household_people = people_df[\n",
    "    people_df['residence_type'] == 'household'\n",
    "]"
   ]
  },
  {
   "cell_type": "code",
   "execution_count": null,
   "metadata": {},
   "outputs": [],
   "source": [
    "household_sizes = household_people.groupby('residence_id').size()"
   ]
  },
  {
   "cell_type": "code",
   "execution_count": null,
   "metadata": {},
   "outputs": [],
   "source": [
    "household_sizes.hist() # in units of households"
   ]
  },
  {
   "cell_type": "code",
   "execution_count": null,
   "metadata": {},
   "outputs": [],
   "source": [
    "household_people.loc[:,'household_size'] = household_sizes.loc[\n",
    "    household_people['residence_id']\n",
    "].copy(deep=True).values"
   ]
  },
  {
   "cell_type": "code",
   "execution_count": null,
   "metadata": {},
   "outputs": [],
   "source": [
    "household_people['household_size'].hist() # in units of people"
   ]
  },
  {
   "cell_type": "code",
   "execution_count": null,
   "metadata": {},
   "outputs": [],
   "source": [
    "household_infections_df = infections_df.merge(\n",
    "    household_people['household_size'], \n",
    "    left_index=True, right_index=True, how='inner'\n",
    ")"
   ]
  },
  {
   "cell_type": "code",
   "execution_count": null,
   "metadata": {},
   "outputs": [],
   "source": [
    "(household_infections_df.groupby(\n",
    "    'household_size'\n",
    ").size()/household_people.groupby('household_size').size()).plot()\n",
    "plt.xlabel('Household size')\n",
    "plt.ylabel('% of people infected by household size')\n",
    "plt.xlim(0,8)"
   ]
  },
  {
   "cell_type": "code",
   "execution_count": null,
   "metadata": {},
   "outputs": [],
   "source": [
    "# How many households have everyone infected?"
   ]
  },
  {
   "cell_type": "code",
   "execution_count": null,
   "metadata": {},
   "outputs": [],
   "source": [
    "n_infected_by_household = infections_df[\n",
    "    infections_df['residence_type'] == 'household'\n",
    "].groupby('residence_id').size()"
   ]
  },
  {
   "cell_type": "code",
   "execution_count": null,
   "metadata": {},
   "outputs": [],
   "source": [
    "n_total_in_household = household_people[\n",
    "    household_people['residence_id'].isin(\n",
    "        n_infected_by_household.index\n",
    "    )\n",
    "].groupby('residence_id').size()"
   ]
  },
  {
   "cell_type": "code",
   "execution_count": null,
   "metadata": {},
   "outputs": [],
   "source": [
    "(n_infected_by_household/n_total_in_household).hist()\n",
    "plt.xlabel('% of the household infected')"
   ]
  },
  {
   "cell_type": "markdown",
   "metadata": {},
   "source": [
    "## Percentage of infected per care home"
   ]
  },
  {
   "cell_type": "code",
   "execution_count": null,
   "metadata": {},
   "outputs": [],
   "source": [
    "n_infected_by_carehome = infections_df[\n",
    "    infections_df['residence_type'] == 'care_home'\n",
    "].groupby(\n",
    "    'residence_id'\n",
    ").size()"
   ]
  },
  {
   "cell_type": "code",
   "execution_count": null,
   "metadata": {},
   "outputs": [],
   "source": [
    "n_total_in_carehome = people_df[\n",
    "    (people_df['residence_type'] == 'care_home') \n",
    "    & (people_df['residence_id'].isin(n_infected_by_carehome.index))  \n",
    "].groupby('residence_id').size()"
   ]
  },
  {
   "cell_type": "code",
   "execution_count": null,
   "metadata": {},
   "outputs": [],
   "source": [
    "(n_infected_by_carehome/n_total_in_carehome).hist()\n",
    "plt.xlabel('% of the care home infected')"
   ]
  },
  {
   "cell_type": "code",
   "execution_count": null,
   "metadata": {},
   "outputs": [],
   "source": [
    "# from all care homes, how many got at least one case?"
   ]
  },
  {
   "cell_type": "code",
   "execution_count": null,
   "metadata": {},
   "outputs": [],
   "source": [
    "n_total_care_homes = people_df[\n",
    "    (people_df['residence_type'] == 'care_home') \n",
    "]['residence_id'].nunique()"
   ]
  },
  {
   "cell_type": "code",
   "execution_count": null,
   "metadata": {},
   "outputs": [],
   "source": [
    "n_total_care_homes"
   ]
  },
  {
   "cell_type": "code",
   "execution_count": null,
   "metadata": {},
   "outputs": [],
   "source": [
    "care_homes_with_infected = infections_df[\n",
    "    (infections_df['residence_type'] == 'care_home') \n",
    "]['residence_id'].nunique()"
   ]
  },
  {
   "cell_type": "code",
   "execution_count": null,
   "metadata": {},
   "outputs": [],
   "source": [
    "care_homes_with_infected/n_total_care_homes"
   ]
  },
  {
   "cell_type": "code",
   "execution_count": null,
   "metadata": {},
   "outputs": [],
   "source": []
  }
 ],
 "metadata": {
  "kernelspec": {
   "display_name": "Python 3",
   "language": "python",
   "name": "python3"
  },
  "language_info": {
   "codemirror_mode": {
    "name": "ipython",
    "version": 3
   },
   "file_extension": ".py",
   "mimetype": "text/x-python",
   "name": "python",
   "nbconvert_exporter": "python",
   "pygments_lexer": "ipython3",
   "version": "3.8.3"
  },
  "nbdime-conflicts": {
   "local_diff": [
    {
     "diff": [
      {
       "diff": [
        {
         "key": 0,
         "op": "addrange",
         "valuelist": [
          "3.8.3"
         ]
        },
        {
         "key": 0,
         "length": 1,
         "op": "removerange"
        }
       ],
       "key": "version",
       "op": "patch"
      }
     ],
     "key": "language_info",
     "op": "patch"
    }
   ],
   "remote_diff": [
    {
     "diff": [
      {
       "diff": [
        {
         "key": 0,
         "op": "addrange",
         "valuelist": [
          "3.8.5"
         ]
        },
        {
         "key": 0,
         "length": 1,
         "op": "removerange"
        }
       ],
       "key": "version",
       "op": "patch"
      }
     ],
     "key": "language_info",
     "op": "patch"
    }
   ]
  }
 },
 "nbformat": 4,
 "nbformat_minor": 4
}
