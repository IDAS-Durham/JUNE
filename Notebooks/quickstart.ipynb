{
 "cells": [
  {
   "cell_type": "code",
   "execution_count": 1,
   "metadata": {},
   "outputs": [],
   "source": [
    "%load_ext autoreload\n",
    "%autoreload 2"
   ]
  },
  {
   "cell_type": "code",
   "execution_count": 2,
   "metadata": {},
   "outputs": [],
   "source": [
    "import numpy as np\n",
    "import time\n",
    "from datetime import datetime\n",
    "import matplotlib.pyplot as plt\n",
    "import seaborn as sns\n",
    "sns.set_context('notebook')"
   ]
  },
  {
   "cell_type": "code",
   "execution_count": 3,
   "metadata": {},
   "outputs": [
    {
     "name": "stderr",
     "output_type": "stream",
     "text": [
      "No --data argument given - defaulting to:\n",
      "/home/arnau/code/JUNE/data\n",
      "No --configs argument given - defaulting to:\n",
      "/home/arnau/code/JUNE/configs\n"
     ]
    }
   ],
   "source": [
    "from june import World \n",
    "from june.demography.geography import Geography\n",
    "from june.demography import Demography\n",
    "from june.interaction import ContactAveraging\n",
    "from june.infection import Infection\n",
    "from june.infection.transmission import TransmissionConstant\n",
    "from june.groups import Hospitals, Schools, Companies, Households, CareHomes, Cemeteries, Universities\n",
    "from june.groups.leisure import leisure, Cinemas, Pubs, Groceries\n",
    "from june.simulator import Simulator\n",
    "from june.seed import Seed\n",
    "from june.policy import Policy, Policies\n",
    "from june import paths\n",
    "from june.hdf5_savers import load_geography_from_hdf5\n",
    "from june.logger.read_logger import ReadLogger\n",
    "from june.infection.infection import InfectionSelector\n",
    "from june.world import generate_world_from_hdf5, generate_world_from_geography"
   ]
  },
  {
   "cell_type": "markdown",
   "metadata": {},
   "source": [
    "# Initialize world\n",
    "\n",
    "To initialize a certain world, we need to add the different components we want to have in it. First we specify what super areas (msoa) we want to create. We have included these ones, because they are known to contain hospitals, schools, care homes, and companies.\n",
    "\n",
    "After creating the geography, we create the different components the worlds need to have such as care homes, companies ..."
   ]
  },
  {
   "cell_type": "code",
   "execution_count": 4,
   "metadata": {},
   "outputs": [
    {
     "name": "stdout",
     "output_type": "stream",
     "text": [
      "2020-06-27 00:43:28,540 - june.demography.geography - INFO - There are 129 areas and 5 super_areas in the world.\n",
      "2020-06-27 00:43:28,545 - june.groups.hospital - INFO - There are 1 hospitals in this geography.\n",
      "2020-06-27 00:43:28,592 - june.groups.school - INFO - There are 19 schools in this geography.\n",
      "2020-06-27 00:43:28,622 - june.groups.school - INFO - No school for the age 0 in this world.\n",
      "2020-06-27 00:43:28,626 - june.groups.school - INFO - No school for the age 1 in this world.\n",
      "2020-06-27 00:43:28,630 - june.groups.school - INFO - No school for the age 2 in this world.\n",
      "2020-06-27 00:43:28,880 - june.groups.carehome - INFO - There are 9 care_homes in this geography.\n",
      "2020-06-27 00:43:38,264 - june.distributors.worker_distributor - INFO - There are 0 who had to be told to stay real\n",
      "CPU times: user 30.8 s, sys: 1.13 s, total: 31.9 s\n",
      "Wall time: 31.9 s\n"
     ]
    }
   ],
   "source": [
    "%%time \n",
    "\n",
    "geography = Geography.from_file(\n",
    "        {\n",
    "            \"super_area\": [\n",
    "                \"E02003282\",\n",
    "                \"E02001720\",\n",
    "                \"E00088544\",\n",
    "                \"E02002560\",\n",
    "                \"E02002559\",\n",
    "                \"E02004314\",\n",
    "            ]\n",
    "        }\n",
    ")\n",
    "\n",
    "geography.hospitals = Hospitals.for_geography(geography)\n",
    "geography.schools = Schools.for_geography(geography)\n",
    "geography.companies = Companies.for_geography(geography)\n",
    "geography.care_homes = CareHomes.for_geography(geography)\n",
    "geography.universities = Universities.for_super_areas(geography.super_areas)\n",
    "world = generate_world_from_geography(geography, include_households=True, include_commute=True)\n"
   ]
  },
  {
   "cell_type": "code",
   "execution_count": 5,
   "metadata": {},
   "outputs": [
    {
     "data": {
      "text/plain": [
       "46784"
      ]
     },
     "execution_count": 5,
     "metadata": {},
     "output_type": "execute_result"
    }
   ],
   "source": [
    "len(world.people)"
   ]
  },
  {
   "cell_type": "markdown",
   "metadata": {},
   "source": [
    "### If it took a long time to run the previous command, it might be a good idea to save the world to reuse it later."
   ]
  },
  {
   "cell_type": "code",
   "execution_count": 6,
   "metadata": {},
   "outputs": [],
   "source": [
    "#world.to_hdf5(\"world.hdf5\")"
   ]
  },
  {
   "cell_type": "markdown",
   "metadata": {},
   "source": [
    "If we would like to load the world we saved, we just do"
   ]
  },
  {
   "cell_type": "code",
   "execution_count": 7,
   "metadata": {},
   "outputs": [],
   "source": [
    "#world = generate_world_from_hdf5(\"world.hdf5\")"
   ]
  },
  {
   "cell_type": "markdown",
   "metadata": {},
   "source": [
    "you have now a beautiful pre-pandemic world. "
   ]
  },
  {
   "cell_type": "markdown",
   "metadata": {},
   "source": [
    "## Commute, travel and leisure"
   ]
  },
  {
   "cell_type": "markdown",
   "metadata": {},
   "source": [
    "We can add cinemas, pubs, groceries, etc. as well as commute in major cities with"
   ]
  },
  {
   "cell_type": "code",
   "execution_count": 8,
   "metadata": {},
   "outputs": [],
   "source": [
    "# leisure\n",
    "geography = load_geography_from_hdf5(\"world.hdf5\")\n",
    "world.cinemas = Cinemas.for_geography(geography)\n",
    "world.pubs = Pubs.for_geography(geography)\n",
    "world.groceries = Groceries.for_super_areas(world.super_areas,\n",
    "                                            venues_per_capita=1/500)"
   ]
  },
  {
   "cell_type": "markdown",
   "metadata": {},
   "source": [
    "We are also going to need some cemeteries...geography.cemeteries = Cemeteries()\n"
   ]
  },
  {
   "cell_type": "code",
   "execution_count": 9,
   "metadata": {},
   "outputs": [],
   "source": [
    "world.cemeteries = Cemeteries()"
   ]
  },
  {
   "cell_type": "markdown",
   "metadata": {},
   "source": [
    "# Adding the infection"
   ]
  },
  {
   "cell_type": "markdown",
   "metadata": {},
   "source": [
    "Now, you can play around with different models of infections. The building blocks for an infection are: Transmission and Symptoms. For now, only SymptomsConstant and TransmissionConstant are in a state to be used."
   ]
  },
  {
   "cell_type": "code",
   "execution_count": 10,
   "metadata": {},
   "outputs": [],
   "source": [
    "selector = InfectionSelector.from_file()"
   ]
  },
  {
   "cell_type": "markdown",
   "metadata": {},
   "source": [
    "# Adding the interaction"
   ]
  },
  {
   "cell_type": "code",
   "execution_count": 11,
   "metadata": {},
   "outputs": [],
   "source": [
    "interaction = ContactAveraging.from_file(selector=selector)"
   ]
  },
  {
   "cell_type": "markdown",
   "metadata": {},
   "source": [
    "Beta are the intensities of the interaction taking place at the different groups"
   ]
  },
  {
   "cell_type": "code",
   "execution_count": 12,
   "metadata": {},
   "outputs": [
    {
     "data": {
      "text/plain": [
       "{'box': 1,\n",
       " 'pub': 0.1,\n",
       " 'grocery': 0.1,\n",
       " 'cinema': 0.1,\n",
       " 'commute_unit': 1.0,\n",
       " 'commute_city_unit': 1.0,\n",
       " 'hospital': 1.0,\n",
       " 'care_home': 1.0,\n",
       " 'company': 0.1,\n",
       " 'school': 0.1,\n",
       " 'household': 0.2,\n",
       " 'university': 0.01}"
      ]
     },
     "execution_count": 12,
     "metadata": {},
     "output_type": "execute_result"
    }
   ],
   "source": [
    "interaction.beta"
   ]
  },
  {
   "cell_type": "markdown",
   "metadata": {},
   "source": [
    "to modify these, simply do"
   ]
  },
  {
   "cell_type": "code",
   "execution_count": 13,
   "metadata": {},
   "outputs": [],
   "source": [
    "interaction.beta['household'] *= 2"
   ]
  },
  {
   "cell_type": "code",
   "execution_count": 14,
   "metadata": {},
   "outputs": [
    {
     "data": {
      "text/plain": [
       "{'box': 1,\n",
       " 'pub': 0.1,\n",
       " 'grocery': 0.1,\n",
       " 'cinema': 0.1,\n",
       " 'commute_unit': 1.0,\n",
       " 'commute_city_unit': 1.0,\n",
       " 'hospital': 1.0,\n",
       " 'care_home': 1.0,\n",
       " 'company': 0.1,\n",
       " 'school': 0.1,\n",
       " 'household': 0.4,\n",
       " 'university': 0.01}"
      ]
     },
     "execution_count": 14,
     "metadata": {},
     "output_type": "execute_result"
    }
   ],
   "source": [
    "interaction.beta"
   ]
  },
  {
   "cell_type": "markdown",
   "metadata": {},
   "source": [
    "moreover this interaction module uses contact matrices, that are different for different groups. These contact matrices shouldnt be modified for now. However they are a combination of conversational contact matrices, and physical contact matrices (see the BBC pandemic paper, from where these matrices are extracted https://www.medrxiv.org/content/10.1101/2020.02.16.20023754v2)\n",
    "\n",
    "There is a parameter, ``alpha`` ($\\alpha$), that combines these two matrices in the following way,\n",
    "\n",
    "\n",
    "$\\beta M \\left(1 + (\\alpha -1) \\right) P$\n",
    "\n",
    "where $\\beta$ is the intensity of the interaction, and $P$ the physical contact matrix. A larger $\\alpha$ produces more physical contacts. It is an overall number, non dependent of the particular group.\n"
   ]
  },
  {
   "cell_type": "code",
   "execution_count": 15,
   "metadata": {},
   "outputs": [
    {
     "data": {
      "text/plain": [
       "2.0"
      ]
     },
     "execution_count": 15,
     "metadata": {},
     "output_type": "execute_result"
    }
   ],
   "source": [
    "interaction.alpha_physical"
   ]
  },
  {
   "cell_type": "code",
   "execution_count": 16,
   "metadata": {},
   "outputs": [],
   "source": [
    "interaction.alpha_physical /= 2"
   ]
  },
  {
   "cell_type": "code",
   "execution_count": 17,
   "metadata": {},
   "outputs": [
    {
     "data": {
      "text/plain": [
       "1.0"
      ]
     },
     "execution_count": 17,
     "metadata": {},
     "output_type": "execute_result"
    }
   ],
   "source": [
    "interaction.alpha_physical"
   ]
  },
  {
   "cell_type": "markdown",
   "metadata": {},
   "source": [
    "# Seed the disease"
   ]
  },
  {
   "cell_type": "markdown",
   "metadata": {},
   "source": [
    "There are two options implemented in the seed at the moment, either you specify the number of cases and these are then homogeneously distributed by population to the different areas, or you use UK data on cases per region. For now use the first case."
   ]
  },
  {
   "cell_type": "code",
   "execution_count": 18,
   "metadata": {},
   "outputs": [],
   "source": [
    "seed = Seed(world.super_areas, selector,)"
   ]
  },
  {
   "cell_type": "code",
   "execution_count": 19,
   "metadata": {},
   "outputs": [],
   "source": [
    "n_cases = 50\n",
    "seed.unleash_virus(n_cases) # play around with the initial number of cases"
   ]
  },
  {
   "cell_type": "markdown",
   "metadata": {},
   "source": [
    "# Set policies"
   ]
  },
  {
   "cell_type": "code",
   "execution_count": 20,
   "metadata": {},
   "outputs": [],
   "source": [
    "policies = Policies.from_file()"
   ]
  },
  {
   "cell_type": "markdown",
   "metadata": {},
   "source": [
    "# Run the simulation"
   ]
  },
  {
   "cell_type": "markdown",
   "metadata": {},
   "source": [
    "Since the timer configuration is a bit cumbersome, it is read from the config file at ``configs/config_example.yaml``"
   ]
  },
  {
   "cell_type": "code",
   "execution_count": 21,
   "metadata": {},
   "outputs": [],
   "source": [
    "CONFIG_PATH = \"../configs/config_example.yaml\"\n",
    "\n",
    "leisure_instance = leisure.generate_leisure_for_config(\n",
    "world=world, config_filename = CONFIG_PATH\n",
    ")\n",
    "simulator = Simulator.from_file(\n",
    "     world, interaction, selector, \n",
    "    config_filename = CONFIG_PATH,\n",
    "    leisure = leisure_instance,\n",
    "    policies = policies\n",
    ")"
   ]
  },
  {
   "cell_type": "code",
   "execution_count": 22,
   "metadata": {},
   "outputs": [],
   "source": [
    "def clear_infected():\n",
    "    for person in world.people:\n",
    "        person.health_information = None\n",
    "        person.susceptible = True\n",
    "        person.dead = False"
   ]
  },
  {
   "cell_type": "code",
   "execution_count": null,
   "metadata": {
    "scrolled": true
   },
   "outputs": [
    {
     "name": "stdout",
     "output_type": "stream",
     "text": [
      "2020-06-27 00:44:17,895 - june.simulator - INFO - Starting group_dynamics for 200 days at day 0\n",
      "2020-06-27 00:44:17,896 - june.simulator - INFO - starting the loop ..., at 0 days, to run for 200 days\n",
      "2020-06-27 00:44:18,869 - june.simulator - INFO - Date = 2020-03-07 04:00:00, number of deaths =  0, number of infected = 50\n",
      "2020-06-27 00:44:19,652 - june.simulator - INFO - Date = 2020-03-07 08:00:00, number of deaths =  0, number of infected = 50\n",
      "2020-06-27 00:44:20,079 - june.simulator - INFO - Date = 2020-03-07 12:00:00, number of deaths =  0, number of infected = 50\n",
      "2020-06-27 00:44:20,834 - june.simulator - INFO - Date = 2020-03-08 00:00:00, number of deaths =  0, number of infected = 50\n",
      "2020-06-27 00:44:21,453 - june.simulator - INFO - Date = 2020-03-08 04:00:00, number of deaths =  0, number of infected = 50\n",
      "2020-06-27 00:44:22,087 - june.simulator - INFO - Date = 2020-03-08 08:00:00, number of deaths =  0, number of infected = 50\n",
      "2020-06-27 00:44:22,509 - june.simulator - INFO - Date = 2020-03-08 12:00:00, number of deaths =  0, number of infected = 50\n",
      "2020-06-27 00:44:22,999 - june.simulator - INFO - Date = 2020-03-09 00:00:00, number of deaths =  0, number of infected = 50\n",
      "2020-06-27 00:44:23,516 - june.simulator - INFO - Date = 2020-03-09 01:00:00, number of deaths =  0, number of infected = 50\n",
      "2020-06-27 00:44:23,906 - june.simulator - INFO - Date = 2020-03-09 05:00:00, number of deaths =  0, number of infected = 50\n",
      "2020-06-27 00:44:24,300 - june.simulator - INFO - Date = 2020-03-09 09:00:00, number of deaths =  0, number of infected = 50\n",
      "2020-06-27 00:44:24,896 - june.simulator - INFO - Date = 2020-03-09 10:00:00, number of deaths =  0, number of infected = 50\n",
      "2020-06-27 00:44:25,368 - june.simulator - INFO - Date = 2020-03-09 13:00:00, number of deaths =  0, number of infected = 50\n",
      "2020-06-27 00:44:25,896 - june.simulator - INFO - Date = 2020-03-10 00:00:00, number of deaths =  0, number of infected = 50\n",
      "2020-06-27 00:44:26,505 - june.simulator - INFO - Date = 2020-03-10 01:00:00, number of deaths =  0, number of infected = 50\n",
      "2020-06-27 00:44:26,903 - june.simulator - INFO - Date = 2020-03-10 05:00:00, number of deaths =  0, number of infected = 50\n",
      "2020-06-27 00:44:27,312 - june.simulator - INFO - Date = 2020-03-10 09:00:00, number of deaths =  0, number of infected = 50\n",
      "2020-06-27 00:44:27,955 - june.simulator - INFO - Date = 2020-03-10 10:00:00, number of deaths =  0, number of infected = 50\n",
      "2020-06-27 00:44:28,399 - june.simulator - INFO - Date = 2020-03-10 13:00:00, number of deaths =  0, number of infected = 50\n",
      "2020-06-27 00:44:28,885 - june.simulator - INFO - Date = 2020-03-11 00:00:00, number of deaths =  0, number of infected = 50\n",
      "2020-06-27 00:44:29,470 - june.simulator - INFO - Date = 2020-03-11 01:00:00, number of deaths =  0, number of infected = 53\n",
      "2020-06-27 00:44:29,866 - june.simulator - INFO - Date = 2020-03-11 05:00:00, number of deaths =  0, number of infected = 55\n",
      "2020-06-27 00:44:30,247 - june.simulator - INFO - Date = 2020-03-11 09:00:00, number of deaths =  0, number of infected = 58\n",
      "2020-06-27 00:44:30,882 - june.simulator - INFO - Date = 2020-03-11 10:00:00, number of deaths =  0, number of infected = 60\n",
      "2020-06-27 00:44:31,382 - june.simulator - INFO - Date = 2020-03-11 13:00:00, number of deaths =  0, number of infected = 64\n",
      "2020-06-27 00:44:31,875 - june.simulator - INFO - Date = 2020-03-12 00:00:00, number of deaths =  0, number of infected = 87\n",
      "2020-06-27 00:44:32,454 - june.simulator - INFO - Date = 2020-03-12 01:00:00, number of deaths =  0, number of infected = 91\n",
      "2020-06-27 00:44:33,147 - june.simulator - INFO - Date = 2020-03-12 05:00:00, number of deaths =  0, number of infected = 331\n",
      "2020-06-27 00:44:33,509 - june.simulator - INFO - Date = 2020-03-12 09:00:00, number of deaths =  0, number of infected = 335\n",
      "2020-06-27 00:44:34,220 - june.simulator - INFO - Date = 2020-03-12 10:00:00, number of deaths =  0, number of infected = 337\n",
      "2020-06-27 00:44:34,678 - june.simulator - INFO - Date = 2020-03-12 13:00:00, number of deaths =  0, number of infected = 347\n",
      "2020-06-27 00:44:35,223 - june.simulator - INFO - Date = 2020-03-13 00:00:00, number of deaths =  0, number of infected = 368\n",
      "2020-06-27 00:44:35,706 - june.simulator - INFO - Date = 2020-03-13 01:00:00, number of deaths =  0, number of infected = 370\n",
      "2020-06-27 00:44:36,090 - june.simulator - INFO - Date = 2020-03-13 05:00:00, number of deaths =  0, number of infected = 377\n",
      "2020-06-27 00:44:36,488 - june.simulator - INFO - Date = 2020-03-13 09:00:00, number of deaths =  0, number of infected = 384\n",
      "2020-06-27 00:44:37,094 - june.simulator - INFO - Date = 2020-03-13 10:00:00, number of deaths =  0, number of infected = 385\n",
      "2020-06-27 00:44:37,568 - june.simulator - INFO - Date = 2020-03-13 13:00:00, number of deaths =  0, number of infected = 389\n",
      "2020-06-27 00:44:38,279 - june.simulator - INFO - Date = 2020-03-14 00:00:00, number of deaths =  0, number of infected = 408\n",
      "2020-06-27 00:44:38,906 - june.simulator - INFO - Date = 2020-03-14 04:00:00, number of deaths =  0, number of infected = 413\n",
      "2020-06-27 00:44:39,585 - june.simulator - INFO - Date = 2020-03-14 08:00:00, number of deaths =  0, number of infected = 418\n",
      "2020-06-27 00:44:40,000 - june.simulator - INFO - Date = 2020-03-14 12:00:00, number of deaths =  0, number of infected = 422\n",
      "2020-06-27 00:44:40,720 - june.simulator - INFO - Date = 2020-03-15 00:00:00, number of deaths =  0, number of infected = 443\n",
      "2020-06-27 00:44:41,407 - june.simulator - INFO - Date = 2020-03-15 04:00:00, number of deaths =  0, number of infected = 459\n",
      "2020-06-27 00:44:42,126 - june.simulator - INFO - Date = 2020-03-15 08:00:00, number of deaths =  0, number of infected = 515\n",
      "2020-06-27 00:44:42,628 - june.simulator - INFO - Date = 2020-03-15 12:00:00, number of deaths =  0, number of infected = 573\n",
      "2020-06-27 00:44:43,582 - june.simulator - INFO - Date = 2020-03-16 00:00:00, number of deaths =  0, number of infected = 679\n",
      "2020-06-27 00:44:44,628 - june.simulator - INFO - Date = 2020-03-16 01:00:00, number of deaths =  0, number of infected = 692\n",
      "2020-06-27 00:44:45,576 - june.simulator - INFO - Date = 2020-03-16 05:00:00, number of deaths =  0, number of infected = 698\n",
      "2020-06-27 00:44:46,436 - june.simulator - INFO - Date = 2020-03-16 09:00:00, number of deaths =  0, number of infected = 706\n",
      "2020-06-27 00:44:47,541 - june.simulator - INFO - Date = 2020-03-16 10:00:00, number of deaths =  0, number of infected = 724\n",
      "2020-06-27 00:44:48,452 - june.simulator - INFO - Date = 2020-03-16 13:00:00, number of deaths =  0, number of infected = 762\n",
      "2020-06-27 00:44:49,423 - june.simulator - INFO - Date = 2020-03-17 00:00:00, number of deaths =  0, number of infected = 869\n",
      "2020-06-27 00:44:50,451 - june.simulator - INFO - Date = 2020-03-17 01:00:00, number of deaths =  0, number of infected = 880\n",
      "2020-06-27 00:44:51,468 - june.simulator - INFO - Date = 2020-03-17 05:00:00, number of deaths =  0, number of infected = 886\n",
      "2020-06-27 00:44:52,309 - june.simulator - INFO - Date = 2020-03-17 09:00:00, number of deaths =  0, number of infected = 894\n",
      "2020-06-27 00:44:53,443 - june.simulator - INFO - Date = 2020-03-17 10:00:00, number of deaths =  0, number of infected = 903\n",
      "2020-06-27 00:44:54,441 - june.simulator - INFO - Date = 2020-03-17 13:00:00, number of deaths =  0, number of infected = 944\n",
      "2020-06-27 00:44:55,376 - june.simulator - INFO - Date = 2020-03-18 00:00:00, number of deaths =  0, number of infected = 1042\n",
      "2020-06-27 00:44:56,418 - june.simulator - INFO - Date = 2020-03-18 01:00:00, number of deaths =  0, number of infected = 1051\n",
      "2020-06-27 00:44:57,375 - june.simulator - INFO - Date = 2020-03-18 05:00:00, number of deaths =  0, number of infected = 1064\n",
      "2020-06-27 00:44:58,266 - june.simulator - INFO - Date = 2020-03-18 09:00:00, number of deaths =  0, number of infected = 1073\n",
      "2020-06-27 00:44:59,435 - june.simulator - INFO - Date = 2020-03-18 10:00:00, number of deaths =  0, number of infected = 1079\n",
      "2020-06-27 00:45:00,344 - june.simulator - INFO - Date = 2020-03-18 13:00:00, number of deaths =  0, number of infected = 1104\n",
      "2020-06-27 00:45:01,380 - june.simulator - INFO - Date = 2020-03-19 00:00:00, number of deaths =  0, number of infected = 1186\n",
      "2020-06-27 00:45:02,416 - june.simulator - INFO - Date = 2020-03-19 01:00:00, number of deaths =  0, number of infected = 1189\n",
      "2020-06-27 00:45:03,392 - june.simulator - INFO - Date = 2020-03-19 05:00:00, number of deaths =  0, number of infected = 1213\n",
      "2020-06-27 00:45:04,270 - june.simulator - INFO - Date = 2020-03-19 09:00:00, number of deaths =  0, number of infected = 1235\n",
      "2020-06-27 00:45:05,371 - june.simulator - INFO - Date = 2020-03-19 10:00:00, number of deaths =  0, number of infected = 1245\n",
      "2020-06-27 00:45:06,281 - june.simulator - INFO - Date = 2020-03-19 13:00:00, number of deaths =  0, number of infected = 1265\n",
      "2020-06-27 00:45:07,407 - june.simulator - INFO - Date = 2020-03-20 00:00:00, number of deaths =  0, number of infected = 1337\n",
      "2020-06-27 00:45:08,679 - june.simulator - INFO - Date = 2020-03-20 01:00:00, number of deaths =  0, number of infected = 1341\n",
      "2020-06-27 00:45:09,998 - june.simulator - INFO - Date = 2020-03-20 05:00:00, number of deaths =  0, number of infected = 1408\n",
      "2020-06-27 00:45:11,085 - june.simulator - INFO - Date = 2020-03-20 09:00:00, number of deaths =  0, number of infected = 1432\n",
      "2020-06-27 00:45:12,662 - june.simulator - INFO - Date = 2020-03-20 10:00:00, number of deaths =  0, number of infected = 1439\n",
      "2020-06-27 00:45:13,824 - june.simulator - INFO - Date = 2020-03-20 13:00:00, number of deaths =  0, number of infected = 1459\n",
      "2020-06-27 00:45:15,163 - june.simulator - INFO - Date = 2020-03-21 00:00:00, number of deaths =  0, number of infected = 1523\n",
      "2020-06-27 00:45:16,443 - june.simulator - INFO - Date = 2020-03-21 04:00:00, number of deaths =  1, number of infected = 1551\n",
      "2020-06-27 00:45:17,668 - june.simulator - INFO - Date = 2020-03-21 08:00:00, number of deaths =  1, number of infected = 1580\n",
      "2020-06-27 00:45:18,738 - june.simulator - INFO - Date = 2020-03-21 12:00:00, number of deaths =  2, number of infected = 1601\n",
      "2020-06-27 00:45:20,108 - june.simulator - INFO - Date = 2020-03-22 00:00:00, number of deaths =  2, number of infected = 1645\n",
      "2020-06-27 00:45:21,345 - june.simulator - INFO - Date = 2020-03-22 04:00:00, number of deaths =  3, number of infected = 1666\n",
      "2020-06-27 00:45:22,681 - june.simulator - INFO - Date = 2020-03-22 08:00:00, number of deaths =  3, number of infected = 1685\n",
      "2020-06-27 00:45:23,727 - june.simulator - INFO - Date = 2020-03-22 12:00:00, number of deaths =  3, number of infected = 1700\n",
      "2020-06-27 00:45:24,826 - june.simulator - INFO - Date = 2020-03-23 00:00:00, number of deaths =  3, number of infected = 1750\n",
      "2020-06-27 00:45:26,109 - june.simulator - INFO - Date = 2020-03-23 01:00:00, number of deaths =  3, number of infected = 1754\n",
      "2020-06-27 00:45:27,388 - june.simulator - INFO - Date = 2020-03-23 05:00:00, number of deaths =  3, number of infected = 1777\n",
      "2020-06-27 00:45:28,372 - june.simulator - INFO - Date = 2020-03-23 09:00:00, number of deaths =  3, number of infected = 1804\n",
      "2020-06-27 00:45:29,509 - june.simulator - INFO - Date = 2020-03-23 10:00:00, number of deaths =  3, number of infected = 1807\n",
      "2020-06-27 00:45:30,491 - june.simulator - INFO - Date = 2020-03-23 13:00:00, number of deaths =  3, number of infected = 1825\n",
      "2020-06-27 00:45:31,624 - june.simulator - INFO - Date = 2020-03-24 00:00:00, number of deaths =  5, number of infected = 1856\n",
      "2020-06-27 00:45:32,909 - june.simulator - INFO - Date = 2020-03-24 01:00:00, number of deaths =  5, number of infected = 1860\n",
      "2020-06-27 00:45:34,153 - june.simulator - INFO - Date = 2020-03-24 05:00:00, number of deaths =  5, number of infected = 1879\n",
      "2020-06-27 00:45:35,409 - june.simulator - INFO - Date = 2020-03-24 09:00:00, number of deaths =  5, number of infected = 1896\n",
      "2020-06-27 00:45:36,702 - june.simulator - INFO - Date = 2020-03-24 10:00:00, number of deaths =  6, number of infected = 1899\n",
      "2020-06-27 00:45:37,898 - june.simulator - INFO - Date = 2020-03-24 13:00:00, number of deaths =  6, number of infected = 1920\n",
      "2020-06-27 00:45:39,127 - june.simulator - INFO - Date = 2020-03-25 00:00:00, number of deaths =  7, number of infected = 1960\n",
      "2020-06-27 00:45:40,512 - june.simulator - INFO - Date = 2020-03-25 01:00:00, number of deaths =  7, number of infected = 1963\n",
      "2020-06-27 00:45:41,771 - june.simulator - INFO - Date = 2020-03-25 05:00:00, number of deaths =  7, number of infected = 1983\n",
      "2020-06-27 00:45:42,851 - june.simulator - INFO - Date = 2020-03-25 09:00:00, number of deaths =  7, number of infected = 2005\n",
      "2020-06-27 00:45:44,066 - june.simulator - INFO - Date = 2020-03-25 10:00:00, number of deaths =  7, number of infected = 2009\n",
      "2020-06-27 00:45:45,134 - june.simulator - INFO - Date = 2020-03-25 13:00:00, number of deaths =  7, number of infected = 2023\n",
      "2020-06-27 00:45:46,147 - june.simulator - INFO - Date = 2020-03-26 00:00:00, number of deaths =  7, number of infected = 2069\n",
      "2020-06-27 00:45:47,266 - june.simulator - INFO - Date = 2020-03-26 01:00:00, number of deaths =  7, number of infected = 2075\n",
      "2020-06-27 00:45:48,433 - june.simulator - INFO - Date = 2020-03-26 05:00:00, number of deaths =  7, number of infected = 2098\n",
      "2020-06-27 00:45:49,428 - june.simulator - INFO - Date = 2020-03-26 09:00:00, number of deaths =  7, number of infected = 2116\n",
      "2020-06-27 00:45:50,625 - june.simulator - INFO - Date = 2020-03-26 10:00:00, number of deaths =  7, number of infected = 2122\n",
      "2020-06-27 00:45:51,712 - june.simulator - INFO - Date = 2020-03-26 13:00:00, number of deaths =  7, number of infected = 2139\n",
      "2020-06-27 00:45:52,776 - june.simulator - INFO - Date = 2020-03-27 00:00:00, number of deaths =  7, number of infected = 2185\n",
      "2020-06-27 00:45:54,141 - june.simulator - INFO - Date = 2020-03-27 01:00:00, number of deaths =  7, number of infected = 2189\n",
      "2020-06-27 00:45:55,431 - june.simulator - INFO - Date = 2020-03-27 05:00:00, number of deaths =  7, number of infected = 2217\n",
      "2020-06-27 00:45:56,663 - june.simulator - INFO - Date = 2020-03-27 09:00:00, number of deaths =  7, number of infected = 2234\n",
      "2020-06-27 00:45:58,049 - june.simulator - INFO - Date = 2020-03-27 10:00:00, number of deaths =  7, number of infected = 2238\n",
      "2020-06-27 00:45:59,298 - june.simulator - INFO - Date = 2020-03-27 13:00:00, number of deaths =  7, number of infected = 2251\n",
      "2020-06-27 00:46:00,505 - june.simulator - INFO - Date = 2020-03-28 00:00:00, number of deaths =  7, number of infected = 2282\n",
      "2020-06-27 00:46:01,768 - june.simulator - INFO - Date = 2020-03-28 04:00:00, number of deaths =  8, number of infected = 2296\n",
      "2020-06-27 00:46:03,103 - june.simulator - INFO - Date = 2020-03-28 08:00:00, number of deaths =  9, number of infected = 2316\n",
      "2020-06-27 00:46:04,090 - june.simulator - INFO - Date = 2020-03-28 12:00:00, number of deaths =  9, number of infected = 2342\n",
      "2020-06-27 00:46:05,309 - june.simulator - INFO - Date = 2020-03-29 00:00:00, number of deaths =  9, number of infected = 2379\n",
      "2020-06-27 00:46:06,520 - june.simulator - INFO - Date = 2020-03-29 04:00:00, number of deaths =  9, number of infected = 2401\n",
      "2020-06-27 00:46:07,767 - june.simulator - INFO - Date = 2020-03-29 08:00:00, number of deaths =  9, number of infected = 2418\n",
      "2020-06-27 00:46:08,827 - june.simulator - INFO - Date = 2020-03-29 12:00:00, number of deaths =  9, number of infected = 2438\n",
      "2020-06-27 00:46:09,876 - june.simulator - INFO - Date = 2020-03-30 00:00:00, number of deaths =  10, number of infected = 2466\n",
      "2020-06-27 00:46:11,126 - june.simulator - INFO - Date = 2020-03-30 01:00:00, number of deaths =  10, number of infected = 2469\n",
      "2020-06-27 00:46:12,310 - june.simulator - INFO - Date = 2020-03-30 05:00:00, number of deaths =  10, number of infected = 2486\n",
      "2020-06-27 00:46:13,365 - june.simulator - INFO - Date = 2020-03-30 09:00:00, number of deaths =  10, number of infected = 2512\n",
      "2020-06-27 00:46:14,481 - june.simulator - INFO - Date = 2020-03-30 10:00:00, number of deaths =  10, number of infected = 2512\n",
      "2020-06-27 00:46:15,494 - june.simulator - INFO - Date = 2020-03-30 13:00:00, number of deaths =  10, number of infected = 2519\n",
      "2020-06-27 00:46:16,493 - june.simulator - INFO - Date = 2020-03-31 00:00:00, number of deaths =  10, number of infected = 2549\n",
      "2020-06-27 00:46:17,626 - june.simulator - INFO - Date = 2020-03-31 01:00:00, number of deaths =  10, number of infected = 2555\n",
      "2020-06-27 00:46:18,760 - june.simulator - INFO - Date = 2020-03-31 05:00:00, number of deaths =  10, number of infected = 2589\n",
      "2020-06-27 00:46:19,786 - june.simulator - INFO - Date = 2020-03-31 09:00:00, number of deaths =  10, number of infected = 2600\n",
      "2020-06-27 00:46:20,994 - june.simulator - INFO - Date = 2020-03-31 10:00:00, number of deaths =  10, number of infected = 2608\n",
      "2020-06-27 00:46:22,001 - june.simulator - INFO - Date = 2020-03-31 13:00:00, number of deaths =  10, number of infected = 2621\n",
      "2020-06-27 00:46:23,008 - june.simulator - INFO - Date = 2020-04-01 00:00:00, number of deaths =  11, number of infected = 2662\n",
      "2020-06-27 00:46:24,281 - june.simulator - INFO - Date = 2020-04-01 01:00:00, number of deaths =  11, number of infected = 2664\n",
      "2020-06-27 00:46:25,626 - june.simulator - INFO - Date = 2020-04-01 05:00:00, number of deaths =  11, number of infected = 2683\n",
      "2020-06-27 00:46:26,717 - june.simulator - INFO - Date = 2020-04-01 09:00:00, number of deaths =  11, number of infected = 2693\n",
      "2020-06-27 00:46:27,847 - june.simulator - INFO - Date = 2020-04-01 10:00:00, number of deaths =  11, number of infected = 2694\n",
      "2020-06-27 00:46:28,849 - june.simulator - INFO - Date = 2020-04-01 13:00:00, number of deaths =  11, number of infected = 2707\n",
      "2020-06-27 00:46:29,984 - june.simulator - INFO - Date = 2020-04-02 00:00:00, number of deaths =  12, number of infected = 2735\n"
     ]
    }
   ],
   "source": [
    "%%time\n",
    "simulator.run()"
   ]
  },
  {
   "cell_type": "code",
   "execution_count": null,
   "metadata": {},
   "outputs": [],
   "source": [
    "for person in world.people:\n",
    "    active = False\n",
    "    for subgroup in person.subgroups.iter():\n",
    "        if subgroup is not None:\n",
    "            if person in subgroup.people:\n",
    "                if active:\n",
    "                    print(\"found!\")\n",
    "                    break\n",
    "                active = True"
   ]
  },
  {
   "cell_type": "code",
   "execution_count": null,
   "metadata": {},
   "outputs": [],
   "source": []
  },
  {
   "cell_type": "code",
   "execution_count": null,
   "metadata": {},
   "outputs": [],
   "source": []
  },
  {
   "cell_type": "code",
   "execution_count": null,
   "metadata": {},
   "outputs": [],
   "source": []
  },
  {
   "cell_type": "code",
   "execution_count": null,
   "metadata": {},
   "outputs": [],
   "source": []
  },
  {
   "cell_type": "code",
   "execution_count": null,
   "metadata": {},
   "outputs": [],
   "source": []
  },
  {
   "cell_type": "code",
   "execution_count": null,
   "metadata": {},
   "outputs": [],
   "source": []
  },
  {
   "cell_type": "markdown",
   "metadata": {},
   "source": [
    "While the simulation runs (and afterwards) we can launch the visualization webpage by running\n",
    "```python june/visualizer.py path/to/results``` "
   ]
  },
  {
   "cell_type": "markdown",
   "metadata": {},
   "source": [
    "# Getting the results"
   ]
  },
  {
   "cell_type": "markdown",
   "metadata": {},
   "source": [
    "All results are stored in a json file specified in the ``save_path`` variable in the config file. We can also access it from ``world.logger`` directly."
   ]
  },
  {
   "cell_type": "code",
   "execution_count": null,
   "metadata": {},
   "outputs": [],
   "source": [
    "import pandas as pd"
   ]
  },
  {
   "cell_type": "code",
   "execution_count": null,
   "metadata": {},
   "outputs": [],
   "source": [
    "read = ReadLogger()"
   ]
  },
  {
   "cell_type": "markdown",
   "metadata": {},
   "source": [
    "## Hospital data and how it changed over time"
   ]
  },
  {
   "cell_type": "code",
   "execution_count": null,
   "metadata": {},
   "outputs": [],
   "source": [
    "hospitals_df = read.load_hospital_capacity()"
   ]
  },
  {
   "cell_type": "code",
   "execution_count": null,
   "metadata": {},
   "outputs": [],
   "source": [
    "hospitals_df.head(3)"
   ]
  },
  {
   "cell_type": "code",
   "execution_count": null,
   "metadata": {},
   "outputs": [],
   "source": [
    "hospitals_characteristics_df = read.load_hospital_characteristics()"
   ]
  },
  {
   "cell_type": "code",
   "execution_count": null,
   "metadata": {},
   "outputs": [],
   "source": [
    "hospitals_characteristics_df"
   ]
  },
  {
   "cell_type": "markdown",
   "metadata": {},
   "source": [
    "## where did infections happen?"
   ]
  },
  {
   "cell_type": "code",
   "execution_count": null,
   "metadata": {},
   "outputs": [],
   "source": [
    "loc_df = read.get_locations_infections()"
   ]
  },
  {
   "cell_type": "code",
   "execution_count": null,
   "metadata": {},
   "outputs": [],
   "source": [
    "locations_per_day = read.locations_df.groupby(pd.Grouper(freq='D')).sum()"
   ]
  },
  {
   "cell_type": "code",
   "execution_count": null,
   "metadata": {},
   "outputs": [],
   "source": [
    "all_infection_places = set(locations_per_day.location.sum())"
   ]
  },
  {
   "cell_type": "code",
   "execution_count": null,
   "metadata": {},
   "outputs": [],
   "source": [
    "def n_infections(row, infection_place):\n",
    "    return sum([row.counts[i] for i, x in enumerate(row.location) if x == infection_place])\n"
   ]
  },
  {
   "cell_type": "code",
   "execution_count": null,
   "metadata": {},
   "outputs": [],
   "source": [
    "for infection_place in all_infection_places:\n",
    "    locations_per_day[str(infection_place)] = locations_per_day.apply(\n",
    "        lambda x: n_infections(x, infection_place),\n",
    "        axis=1\n",
    "    )"
   ]
  },
  {
   "cell_type": "code",
   "execution_count": null,
   "metadata": {},
   "outputs": [],
   "source": [
    "locations_per_day = locations_per_day.drop(columns=['location',\n",
    "                                                    'counts'])"
   ]
  },
  {
   "cell_type": "code",
   "execution_count": null,
   "metadata": {},
   "outputs": [],
   "source": [
    "locations_per_day = locations_per_day.div(\n",
    "    locations_per_day.sum(axis=1), axis=0\n",
    ")\n"
   ]
  },
  {
   "cell_type": "code",
   "execution_count": null,
   "metadata": {},
   "outputs": [],
   "source": [
    "locations_per_day.plot.area( alpha=0.5)\n",
    "plt.legend(bbox_to_anchor=(1,1))\n",
    "plt.ylabel('Percent of infections')"
   ]
  },
  {
   "cell_type": "code",
   "execution_count": null,
   "metadata": {},
   "outputs": [],
   "source": [
    "locations_per_day.plot(logy=)"
   ]
  },
  {
   "cell_type": "code",
   "execution_count": null,
   "metadata": {},
   "outputs": [],
   "source": [
    "import matplotlib.ticker as mtick\n",
    "\n",
    "ax = loc_df['percentage_infections'].sort_values().plot.bar()\n",
    "ax.yaxis.set_major_formatter(mtick.PercentFormatter())\n",
    "plt.ylabel('Percentage of infections at location')\n",
    "plt.xlabel('location')\n",
    "#plt.yscale('log')"
   ]
  },
  {
   "cell_type": "markdown",
   "metadata": {},
   "source": [
    "## rate of infection"
   ]
  },
  {
   "cell_type": "code",
   "execution_count": null,
   "metadata": {},
   "outputs": [],
   "source": [
    "r_df = read.get_r()"
   ]
  },
  {
   "cell_type": "code",
   "execution_count": null,
   "metadata": {},
   "outputs": [],
   "source": [
    "r_df.plot()\n",
    "plt.axvspan(policies.social_distancing_start, \n",
    "            policies.social_distancing_end,\n",
    "            facecolor='y', alpha=0.2)\n",
    "plt.axhline(y=1, linestyle='dashed', color='gray')\n",
    "plt.xlabel('Date')\n",
    "plt.ylabel('R')"
   ]
  },
  {
   "cell_type": "markdown",
   "metadata": {},
   "source": [
    "## World infection curves, and by super area"
   ]
  },
  {
   "cell_type": "code",
   "execution_count": null,
   "metadata": {},
   "outputs": [],
   "source": [
    "world_df = read.world_summary()"
   ]
  },
  {
   "cell_type": "code",
   "execution_count": null,
   "metadata": {},
   "outputs": [],
   "source": [
    "world_df['infected'].plot()\n",
    "plt.axvspan(policies.social_distancing_start, \n",
    "            policies.social_distancing_end,\n",
    "            facecolor='y', alpha=0.2)\n",
    "plt.ylabel('# Infected')"
   ]
  },
  {
   "cell_type": "code",
   "execution_count": null,
   "metadata": {},
   "outputs": [],
   "source": [
    "world_df.plot()\n",
    "plt.axvspan(policies.social_distancing_start, \n",
    "            policies.social_distancing_end,\n",
    "            facecolor='y', alpha=0.2)\n",
    "plt.legend(bbox_to_anchor=(1,1))\n"
   ]
  },
  {
   "cell_type": "code",
   "execution_count": null,
   "metadata": {},
   "outputs": [],
   "source": [
    "area_df = read.super_area_summary()"
   ]
  },
  {
   "cell_type": "code",
   "execution_count": null,
   "metadata": {},
   "outputs": [],
   "source": [
    "area_df[area_df.super_area == \"E02003282\"].plot()\n",
    "plt.legend(bbox_to_anchor=(1,1))\n",
    "\n"
   ]
  },
  {
   "cell_type": "markdown",
   "metadata": {},
   "source": [
    "## World infection curves per age group"
   ]
  },
  {
   "cell_type": "code",
   "execution_count": null,
   "metadata": {},
   "outputs": [],
   "source": [
    "ages_df = read.age_summary([0,10,20,30,40,\n",
    "                  50,60,70,80,90,100])"
   ]
  },
  {
   "cell_type": "code",
   "execution_count": null,
   "metadata": {},
   "outputs": [],
   "source": [
    "for name, group in ages_df.groupby('age_range'):\n",
    "    group['infected'].plot(label=name)\n",
    "plt.axvspan(policies.social_distancing_start, \n",
    "            policies.social_distancing_end,\n",
    "            facecolor='y', alpha=0.2)\n",
    "plt.legend(bbox_to_anchor=(1,1))\n"
   ]
  },
  {
   "cell_type": "code",
   "execution_count": null,
   "metadata": {},
   "outputs": [],
   "source": [
    "for name, group in ages_df.groupby('age_range'):\n",
    "    group['dead'].cumsum().plot(label=name)\n",
    "plt.legend()"
   ]
  },
  {
   "cell_type": "code",
   "execution_count": null,
   "metadata": {},
   "outputs": [],
   "source": [
    "for name, group in ages_df.groupby('age_range'):\n",
    "    group['susceptible'].plot(label=name)\n",
    "plt.legend()"
   ]
  },
  {
   "cell_type": "code",
   "execution_count": null,
   "metadata": {},
   "outputs": [],
   "source": [
    "for name, group in ages_df.groupby('age_range'):\n",
    "    group['hospital_admissions'].cumsum().plot(label=name)\n",
    "plt.legend()"
   ]
  },
  {
   "cell_type": "code",
   "execution_count": null,
   "metadata": {},
   "outputs": [],
   "source": [
    "for name, group in ages_df.groupby('age_range'):\n",
    "    group['intensive_care_admissions'].cumsum().plot(label=name)\n",
    "plt.legend()"
   ]
  },
  {
   "cell_type": "markdown",
   "metadata": {},
   "source": [
    "## Draw some of the symptoms trajectories"
   ]
  },
  {
   "cell_type": "code",
   "execution_count": null,
   "metadata": {},
   "outputs": [],
   "source": [
    "random_trajectories = read.draw_symptom_trajectories(window_length=600,\n",
    "                                        n_people=10)"
   ]
  },
  {
   "cell_type": "code",
   "execution_count": null,
   "metadata": {},
   "outputs": [],
   "source": [
    "from june.infection import SymptomTag"
   ]
  },
  {
   "cell_type": "code",
   "execution_count": null,
   "metadata": {},
   "outputs": [],
   "source": [
    "symptoms_values = [tag.value for tag in SymptomTag]\n",
    "symptoms_names = [tag.name for tag in SymptomTag]\n"
   ]
  },
  {
   "cell_type": "code",
   "execution_count": null,
   "metadata": {},
   "outputs": [],
   "source": [
    "for df_person in random_trajectories:\n",
    "    df_person['symptoms'].plot()\n",
    "plt.ylabel('Symptoms Trajectory')\n",
    "_ = plt.yticks(symptoms_values, symptoms_names)\n",
    "plt.xlabel('Date')"
   ]
  },
  {
   "cell_type": "code",
   "execution_count": null,
   "metadata": {},
   "outputs": [],
   "source": [
    "for df_person in random_trajectories:\n",
    "    df_person['n_secondary_infections'].plot()\n",
    "plt.ylabel('Number of secondary infections')\n",
    "\n",
    "plt.xlabel('Date')"
   ]
  }
 ],
 "metadata": {
  "kernelspec": {
   "display_name": "Python 3",
   "language": "python",
   "name": "python3"
  },
  "language_info": {
   "codemirror_mode": {
    "name": "ipython",
    "version": 3
   },
   "file_extension": ".py",
   "mimetype": "text/x-python",
   "name": "python",
   "nbconvert_exporter": "python",
   "pygments_lexer": "ipython3",
   "version": "3.8.3"
  }
 },
 "nbformat": 4,
 "nbformat_minor": 4
}
