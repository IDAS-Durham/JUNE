{
 "cells": [
  {
   "cell_type": "code",
   "execution_count": 1,
   "metadata": {},
   "outputs": [],
   "source": [
    "%load_ext autoreload\n",
    "%autoreload 2"
   ]
  },
  {
   "cell_type": "code",
   "execution_count": 2,
   "metadata": {},
   "outputs": [],
   "source": [
    "import numpy as np\n",
    "import time\n",
    "from datetime import datetime\n",
    "import matplotlib.pyplot as plt\n",
    " \n",
    "plt.style.use(['science','notebook'])\n",
    "plt.style.reload_library()"
   ]
  },
  {
   "cell_type": "code",
   "execution_count": 3,
   "metadata": {},
   "outputs": [
    {
     "name": "stderr",
     "output_type": "stream",
     "text": [
      "No --data argument given - defaulting to:\n",
      "/home/florpi/JUNE/data\n",
      "No --configs argument given - defaulting to:\n",
      "/home/florpi/JUNE/configs\n"
     ]
    }
   ],
   "source": [
    "from june import World \n",
    "from june.demography.geography import Geography\n",
    "from june.demography import Demography\n",
    "from june.interaction import Interaction\n",
    "from june.infection import Infection, HealthIndexGenerator, InfectionSelector\n",
    "from june.infection.transmission import TransmissionConstant\n",
    "from june.groups import Hospitals, Schools, Companies, Households, CareHomes, Cemeteries, Universities\n",
    "from june.groups.leisure import generate_leisure_for_config, Cinemas, Pubs, Groceries\n",
    "from june.simulator import Simulator\n",
    "from june.infection_seed import InfectionSeed\n",
    "from june.policy import Policy, Policies\n",
    "from june import paths\n",
    "from june.hdf5_savers import load_geography_from_hdf5\n",
    "from june.logger.read_logger import ReadLogger\n",
    "from june.world import generate_world_from_geography\n",
    "from june.hdf5_savers import generate_world_from_hdf5"
   ]
  },
  {
   "cell_type": "markdown",
   "metadata": {},
   "source": [
    "# Initialize world\n",
    "\n",
    "To initialize a certain world, we need to add the different components we want to have in it. First we specify what super areas (msoa) we want to create. We have included these ones, because they are known to contain hospitals, schools, care homes, and companies.\n",
    "\n",
    "After creating the geography, we create the different components the worlds need to have such as care homes, companies ..."
   ]
  },
  {
   "cell_type": "code",
   "execution_count": 4,
   "metadata": {},
   "outputs": [],
   "source": [
    "CONFIG_PATH = paths.configs_path / \"config_example.yaml\""
   ]
  },
  {
   "cell_type": "code",
   "execution_count": 5,
   "metadata": {
    "scrolled": false
   },
   "outputs": [
    {
     "name": "stdout",
     "output_type": "stream",
     "text": [
      "2020-08-30 17:51:08,806 - june.demography.geography - INFO - There are 162 areas and 6 super_areas in the world.\n",
      "2020-08-30 17:51:08,811 - june.groups.hospital - INFO - There are 1 hospitals in this geography.\n",
      "2020-08-30 17:51:08,880 - june.groups.school - INFO - There are 26 schools in this geography.\n",
      "2020-08-30 17:51:08,942 - june.groups.school - INFO - No school for the age 0 in this world.\n",
      "2020-08-30 17:51:08,946 - june.groups.school - INFO - No school for the age 1 in this world.\n",
      "2020-08-30 17:51:08,949 - june.groups.school - INFO - No school for the age 2 in this world.\n",
      "2020-08-30 17:51:09,206 - june.groups.carehome - INFO - There are 11 care_homes in this geography.\n",
      "2020-08-30 17:51:19,364 - numexpr.utils - INFO - NumExpr defaulting to 4 threads.\n",
      "2020-08-30 17:51:23,706 - june.distributors.worker_distributor - INFO - There are 0 who had to be told to stay real\n",
      "2020-08-30 17:51:43,802 - june.groups.commute.commutehub_distributor - INFO - Distributing people to commute hubs in 11 commute cities.\n",
      "2020-08-30 17:51:43,802 - june.groups.commute.commutehub_distributor - INFO - Birmingham : 0 people commute in, 0 commute out.\n",
      "2020-08-30 17:51:43,803 - june.groups.commute.commutehub_distributor - INFO - Bristol : 0 people commute in, 0 commute out.\n",
      "2020-08-30 17:51:43,804 - june.groups.commute.commutehub_distributor - INFO - Cardiff : 0 people commute in, 0 commute out.\n",
      "2020-08-30 17:51:43,804 - june.groups.commute.commutehub_distributor - INFO - Leeds : 0 people commute in, 0 commute out.\n",
      "2020-08-30 17:51:43,806 - june.groups.commute.commutehub_distributor - INFO - Leicester : 0 people commute in, 0 commute out.\n",
      "2020-08-30 17:51:43,808 - june.groups.commute.commutehub_distributor - INFO - Liverpool : 0 people commute in, 0 commute out.\n",
      "2020-08-30 17:51:43,808 - june.groups.commute.commutehub_distributor - INFO - Manchester : 0 people commute in, 0 commute out.\n",
      "2020-08-30 17:51:43,815 - june.groups.commute.commutehub_distributor - INFO - Newcastle : 173 people commute in, 240 commute out.\n",
      "2020-08-30 17:51:43,834 - june.groups.commute.commutehub_distributor - INFO - Nottingham : 0 people commute in, 0 commute out.\n",
      "2020-08-30 17:51:43,834 - june.groups.commute.commutehub_distributor - INFO - Sheffield : 0 people commute in, 0 commute out.\n",
      "2020-08-30 17:51:43,838 - june.groups.commute.commutehub_distributor - INFO - London : 0 people commute in, 0 commute out.\n",
      "CPU times: user 35.5 s, sys: 747 ms, total: 36.3 s\n",
      "Wall time: 36.3 s\n"
     ]
    }
   ],
   "source": [
    "%%time \n",
    "\n",
    "geography = Geography.from_file(\n",
    "        {\n",
    "            \"super_area\": [\n",
    "                \"E02003282\",\n",
    "                \"E02003283\",\n",
    "                \"E02001720\",\n",
    "                \"E02002560\",\n",
    "                \"E02002559\",\n",
    "                \"E02004314\",\n",
    "            ]\n",
    "        }\n",
    ")\n",
    "\n",
    "geography.hospitals = Hospitals.for_geography(geography)\n",
    "geography.schools = Schools.for_geography(geography)\n",
    "geography.companies = Companies.for_geography(geography)\n",
    "geography.care_homes = CareHomes.for_geography(geography)\n",
    "geography.universities = Universities.for_super_areas(geography.super_areas)\n",
    "world = generate_world_from_geography(geography, include_households=True, include_commute=True)\n"
   ]
  },
  {
   "cell_type": "markdown",
   "metadata": {},
   "source": [
    "## Commute, travel and leisure"
   ]
  },
  {
   "cell_type": "code",
   "execution_count": 6,
   "metadata": {},
   "outputs": [
    {
     "name": "stdout",
     "output_type": "stream",
     "text": [
      "2020-08-30 17:51:45,115 - june.groups.leisure.leisure - INFO - Distributing social venues to households\n",
      "2020-08-30 17:51:45,115 - june.groups.leisure.leisure - INFO - Distributed in 0 of 20498 households.\n"
     ]
    }
   ],
   "source": [
    "world.pubs = Pubs.for_geography(geography)\n",
    "world.cinemas = Cinemas.for_geography(geography)\n",
    "world.groceries = Groceries.for_geography(geography)\n",
    "leisure = generate_leisure_for_config(world, config_filename=CONFIG_PATH)\n",
    "leisure.distribute_social_venues_to_households(world.households, super_areas=world.super_areas) # this assigns possible social venues to people."
   ]
  },
  {
   "cell_type": "markdown",
   "metadata": {},
   "source": [
    "We are also going to need some cemeteries...geography.cemeteries = Cemeteries()\n"
   ]
  },
  {
   "cell_type": "code",
   "execution_count": 7,
   "metadata": {},
   "outputs": [],
   "source": [
    "world.cemeteries = Cemeteries()"
   ]
  },
  {
   "cell_type": "code",
   "execution_count": 8,
   "metadata": {},
   "outputs": [
    {
     "data": {
      "text/plain": [
       "57259"
      ]
     },
     "execution_count": 8,
     "metadata": {},
     "output_type": "execute_result"
    }
   ],
   "source": [
    "len(world.people)"
   ]
  },
  {
   "cell_type": "markdown",
   "metadata": {},
   "source": [
    "### If it took a long time to run the previous commands, it might be a good idea to save the world to reuse it later."
   ]
  },
  {
   "cell_type": "code",
   "execution_count": 9,
   "metadata": {},
   "outputs": [
    {
     "name": "stdout",
     "output_type": "stream",
     "text": [
      "2020-08-30 17:51:53,659 - june.hdf5_savers.world_saver - INFO - saving world to HDF5\n",
      "2020-08-30 17:51:54,549 - june.hdf5_savers.world_saver - INFO - saving hospitals...\n",
      "2020-08-30 17:51:54,552 - june.hdf5_savers.world_saver - INFO - saving schools...\n",
      "2020-08-30 17:51:54,558 - june.hdf5_savers.world_saver - INFO - saving companies...\n",
      "2020-08-30 17:51:54,565 - june.hdf5_savers.world_saver - INFO - saving households...\n",
      "2020-08-30 17:51:55,158 - june.hdf5_savers.world_saver - INFO - saving care homes...\n",
      "2020-08-30 17:51:55,161 - june.hdf5_savers.world_saver - INFO - saving commute cities...\n",
      "2020-08-30 17:51:55,166 - june.hdf5_savers.world_saver - INFO - saving commute hubs...\n",
      "2020-08-30 17:51:55,171 - june.hdf5_savers.world_saver - INFO - saving universities...\n",
      "2020-08-30 17:51:55,175 - june.hdf5_savers.world_saver - INFO - saving social venues...\n"
     ]
    }
   ],
   "source": [
    "world.to_hdf5(\"world.hdf5\")"
   ]
  },
  {
   "cell_type": "markdown",
   "metadata": {},
   "source": [
    "If we would like to load the world we saved, we just do"
   ]
  },
  {
   "cell_type": "code",
   "execution_count": 10,
   "metadata": {},
   "outputs": [
    {
     "name": "stdout",
     "output_type": "stream",
     "text": [
      "2020-08-30 17:51:55,236 - june.hdf5_savers.world_saver - INFO - loading world from HDF5\n",
      "2020-08-30 17:51:55,257 - june.hdf5_savers.world_saver - INFO - loading hospitals...\n",
      "2020-08-30 17:51:55,262 - june.hdf5_savers.world_saver - INFO - loading schools...\n",
      "2020-08-30 17:51:55,282 - june.hdf5_savers.world_saver - INFO - loading companies...\n",
      "2020-08-30 17:51:55,316 - june.hdf5_savers.world_saver - INFO - loading care homes...\n",
      "2020-08-30 17:51:55,323 - june.hdf5_savers.world_saver - INFO - loading universities...\n",
      "2020-08-30 17:51:55,336 - june.hdf5_savers.world_saver - INFO - loading commute cities...\n",
      "2020-08-30 17:51:55,381 - june.hdf5_savers.world_saver - INFO - loading commute hubs...\n",
      "2020-08-30 17:51:55,501 - june.hdf5_savers.world_saver - INFO - loading households...\n",
      "2020-08-30 17:51:55,840 - june.hdf5_savers.world_saver - INFO - loading population...\n",
      "2020-08-30 17:51:56,208 - june.hdf5_savers.world_saver - INFO - loading social venues...\n",
      "2020-08-30 17:51:56,215 - june.hdf5_savers.world_saver - INFO - restoring world...\n",
      "2020-08-30 17:51:56,217 - june.hdf5_savers.world_saver - INFO - restoring population...\n",
      "2020-08-30 17:52:01,128 - june.hdf5_savers.world_saver - INFO - restoring households...\n",
      "2020-08-30 17:52:02,651 - june.hdf5_savers.world_saver - INFO - restoring care homes...\n",
      "2020-08-30 17:52:02,653 - june.hdf5_savers.world_saver - INFO - restoring hospitals...\n",
      "2020-08-30 17:52:02,655 - june.hdf5_savers.world_saver - INFO - restoring commute...\n",
      "2020-08-30 17:52:02,657 - june.hdf5_savers.world_saver - INFO - restoring companies...\n",
      "2020-08-30 17:52:02,662 - june.hdf5_savers.world_saver - INFO - restoring schools...\n",
      "2020-08-30 17:52:02,664 - june.hdf5_savers.world_saver - INFO - restoring unis...\n",
      "2020-08-30 17:52:02,666 - june.hdf5_savers.world_saver - INFO - restoring social venues...\n"
     ]
    }
   ],
   "source": [
    "world = generate_world_from_hdf5(\"world.hdf5\")"
   ]
  },
  {
   "cell_type": "code",
   "execution_count": 11,
   "metadata": {},
   "outputs": [],
   "source": [
    "# and regenerate leisure in case we load it externally\n",
    "leisure = generate_leisure_for_config(world, CONFIG_PATH)"
   ]
  },
  {
   "cell_type": "markdown",
   "metadata": {},
   "source": [
    "you have now a beautiful pre-pandemic world. "
   ]
  },
  {
   "cell_type": "markdown",
   "metadata": {},
   "source": [
    "# Adding the infection"
   ]
  },
  {
   "cell_type": "markdown",
   "metadata": {},
   "source": [
    "The module in charge of infecting people is called the ``InfectionSelector``, which gives people a transmission time profile and a symptoms trajectory based on their age and sex (through the health index generator)"
   ]
  },
  {
   "cell_type": "code",
   "execution_count": 12,
   "metadata": {},
   "outputs": [],
   "source": [
    "health_index_generator = HealthIndexGenerator.from_file(asymptomatic_ratio=0.2)\n",
    "selector = InfectionSelector.from_file(\n",
    "        health_index_generator=health_index_generator,\n",
    "        transmission_config_path=paths.configs_path / 'defaults/transmission/XNExp.yaml'\n",
    ")"
   ]
  },
  {
   "cell_type": "markdown",
   "metadata": {},
   "source": [
    "# Adding the interaction"
   ]
  },
  {
   "cell_type": "code",
   "execution_count": 13,
   "metadata": {},
   "outputs": [],
   "source": [
    "interaction = Interaction.from_file()"
   ]
  },
  {
   "cell_type": "markdown",
   "metadata": {},
   "source": [
    "Beta are the intensities of the interaction taking place at the different groups"
   ]
  },
  {
   "cell_type": "code",
   "execution_count": 14,
   "metadata": {},
   "outputs": [],
   "source": [
    "for key in interaction.beta.keys():\n",
    "    interaction.beta[key] *= 0.2"
   ]
  },
  {
   "cell_type": "code",
   "execution_count": 15,
   "metadata": {},
   "outputs": [
    {
     "data": {
      "text/plain": [
       "{'box': 0.2,\n",
       " 'pub': 0.1,\n",
       " 'grocery': 0.05,\n",
       " 'cinema': 0.05,\n",
       " 'commute_unit': 0.1,\n",
       " 'commute_city_unit': 0.1,\n",
       " 'hospital': 0.010000000000000002,\n",
       " 'care_home': 0.24,\n",
       " 'company': 0.16000000000000003,\n",
       " 'school': 0.16000000000000003,\n",
       " 'household': 0.2,\n",
       " 'university': 0.1}"
      ]
     },
     "execution_count": 15,
     "metadata": {},
     "output_type": "execute_result"
    }
   ],
   "source": [
    "interaction.beta"
   ]
  },
  {
   "cell_type": "markdown",
   "metadata": {},
   "source": [
    "moreover this interaction module uses contact matrices, that are different for different groups. These contact matrices shouldnt be modified for now. However they are a combination of conversational contact matrices, and physical contact matrices (see the BBC pandemic paper, from where these matrices are extracted https://www.medrxiv.org/content/10.1101/2020.02.16.20023754v2)\n",
    "\n",
    "There is a parameter, ``alpha`` ($\\alpha$), that combines these two matrices in the following way,\n",
    "\n",
    "\n",
    "$\\beta M \\left(1 + (\\alpha -1) \\right) P$\n",
    "\n",
    "where $\\beta$ is the intensity of the interaction, and $P$ the physical contact matrix. A larger $\\alpha$ produces more physical contacts. It is an overall number, non dependent of the particular group.\n"
   ]
  },
  {
   "cell_type": "code",
   "execution_count": 16,
   "metadata": {},
   "outputs": [
    {
     "data": {
      "text/plain": [
       "2.0"
      ]
     },
     "execution_count": 16,
     "metadata": {},
     "output_type": "execute_result"
    }
   ],
   "source": [
    "interaction.alpha_physical"
   ]
  },
  {
   "cell_type": "markdown",
   "metadata": {},
   "source": [
    "# Seed the disease"
   ]
  },
  {
   "cell_type": "markdown",
   "metadata": {},
   "source": [
    "There are two options implemented in the seed at the moment, either you specify the number of cases and these are then homogeneously distributed by population to the different areas, or you use UK data on cases per region. For now use the first case."
   ]
  },
  {
   "cell_type": "code",
   "execution_count": 17,
   "metadata": {},
   "outputs": [],
   "source": [
    "infection_seed = InfectionSeed(\n",
    "    world.super_areas, selector,\n",
    ")"
   ]
  },
  {
   "cell_type": "code",
   "execution_count": 18,
   "metadata": {},
   "outputs": [],
   "source": [
    "n_cases = 50\n",
    "infection_seed.unleash_virus(n_cases) # play around with the initial number of cases"
   ]
  },
  {
   "cell_type": "markdown",
   "metadata": {},
   "source": [
    "# Set policies"
   ]
  },
  {
   "cell_type": "code",
   "execution_count": 19,
   "metadata": {},
   "outputs": [],
   "source": [
    "policies = Policies.from_file()"
   ]
  },
  {
   "cell_type": "code",
   "execution_count": 20,
   "metadata": {},
   "outputs": [
    {
     "data": {
      "text/plain": [
       "<june.policy.policy.Policies at 0x7fd4f309f3a0>"
      ]
     },
     "execution_count": 20,
     "metadata": {},
     "output_type": "execute_result"
    }
   ],
   "source": [
    "policies"
   ]
  },
  {
   "cell_type": "markdown",
   "metadata": {},
   "source": [
    "# Run the simulation"
   ]
  },
  {
   "cell_type": "markdown",
   "metadata": {},
   "source": [
    "The simulator is the main module in charge of running the simulation. It coordinates the ``ActivityManager`` which is responsible of allocating people to the right groups given the current timestep, it updates the health status of the population, and it runs the interaction over the different groups. All of these modules can be modified by policies at any given time."
   ]
  },
  {
   "cell_type": "markdown",
   "metadata": {},
   "source": [
    "Since the timer configuration is a bit cumbersome, it is read from the config file at ``configs/config_example.yaml``"
   ]
  },
  {
   "cell_type": "code",
   "execution_count": 21,
   "metadata": {},
   "outputs": [],
   "source": [
    "simulator = Simulator.from_file(\n",
    "    world=world,\n",
    "    infection_selector=selector,\n",
    "    interaction=interaction, \n",
    "    config_filename = CONFIG_PATH,\n",
    "    leisure = leisure,\n",
    "    policies = policies\n",
    ")"
   ]
  },
  {
   "cell_type": "code",
   "execution_count": 22,
   "metadata": {
    "scrolled": true
   },
   "outputs": [
    {
     "name": "stdout",
     "output_type": "stream",
     "text": [
      "2020-08-30 17:52:04,083 - june.simulator - INFO - Starting group_dynamics for 40 days at day 0\n",
      "2020-08-30 17:52:04,084 - june.simulator - INFO - starting the loop ..., at 0 days, to run for 40 days\n",
      "2020-08-30 17:52:05,403 - june.simulator - INFO - Date = 2020-03-01 00:00:00, number of deaths =  0, number of infected = 50\n",
      "2020-08-30 17:52:06,031 - june.simulator - INFO - Date = 2020-03-01 04:00:00, number of deaths =  0, number of infected = 50\n",
      "2020-08-30 17:52:06,649 - june.simulator - INFO - Date = 2020-03-01 08:00:00, number of deaths =  0, number of infected = 50\n",
      "2020-08-30 17:52:06,908 - june.simulator - INFO - Date = 2020-03-01 12:00:00, number of deaths =  0, number of infected = 50\n",
      "2020-08-30 17:52:07,200 - june.simulator - INFO - Date = 2020-03-02 00:00:00, number of deaths =  0, number of infected = 50\n",
      "2020-08-30 17:52:07,564 - june.simulator - INFO - Date = 2020-03-02 01:00:00, number of deaths =  0, number of infected = 50\n",
      "2020-08-30 17:52:07,829 - june.simulator - INFO - Date = 2020-03-02 09:00:00, number of deaths =  0, number of infected = 53\n",
      "2020-08-30 17:52:08,418 - june.simulator - INFO - Date = 2020-03-02 10:00:00, number of deaths =  0, number of infected = 54\n",
      "2020-08-30 17:52:08,680 - june.simulator - INFO - Date = 2020-03-02 13:00:00, number of deaths =  0, number of infected = 54\n",
      "2020-08-30 17:52:08,978 - june.simulator - INFO - Date = 2020-03-03 00:00:00, number of deaths =  0, number of infected = 54\n",
      "2020-08-30 17:52:09,360 - june.simulator - INFO - Date = 2020-03-03 01:00:00, number of deaths =  0, number of infected = 55\n",
      "2020-08-30 17:52:10,142 - june.simulator - INFO - Date = 2020-03-03 09:00:00, number of deaths =  0, number of infected = 60\n",
      "2020-08-30 17:52:10,764 - june.simulator - INFO - Date = 2020-03-03 10:00:00, number of deaths =  0, number of infected = 60\n",
      "2020-08-30 17:52:11,024 - june.simulator - INFO - Date = 2020-03-03 13:00:00, number of deaths =  0, number of infected = 60\n",
      "2020-08-30 17:52:11,308 - june.simulator - INFO - Date = 2020-03-04 00:00:00, number of deaths =  0, number of infected = 66\n",
      "2020-08-30 17:52:11,672 - june.simulator - INFO - Date = 2020-03-04 01:00:00, number of deaths =  0, number of infected = 68\n",
      "2020-08-30 17:52:12,673 - june.simulator - INFO - Date = 2020-03-04 09:00:00, number of deaths =  0, number of infected = 73\n",
      "2020-08-30 17:52:13,269 - june.simulator - INFO - Date = 2020-03-04 10:00:00, number of deaths =  0, number of infected = 73\n",
      "2020-08-30 17:52:13,526 - june.simulator - INFO - Date = 2020-03-04 13:00:00, number of deaths =  0, number of infected = 74\n",
      "2020-08-30 17:52:13,805 - june.simulator - INFO - Date = 2020-03-05 00:00:00, number of deaths =  0, number of infected = 83\n",
      "2020-08-30 17:52:14,181 - june.simulator - INFO - Date = 2020-03-05 01:00:00, number of deaths =  0, number of infected = 83\n",
      "2020-08-30 17:52:14,654 - june.simulator - INFO - Date = 2020-03-05 09:00:00, number of deaths =  0, number of infected = 95\n",
      "2020-08-30 17:52:15,290 - june.simulator - INFO - Date = 2020-03-05 10:00:00, number of deaths =  0, number of infected = 97\n",
      "2020-08-30 17:52:15,555 - june.simulator - INFO - Date = 2020-03-05 13:00:00, number of deaths =  0, number of infected = 102\n",
      "2020-08-30 17:52:15,837 - june.simulator - INFO - Date = 2020-03-06 00:00:00, number of deaths =  0, number of infected = 109\n",
      "2020-08-30 17:52:16,218 - june.simulator - INFO - Date = 2020-03-06 01:00:00, number of deaths =  0, number of infected = 110\n",
      "2020-08-30 17:52:16,748 - june.simulator - INFO - Date = 2020-03-06 09:00:00, number of deaths =  0, number of infected = 124\n",
      "2020-08-30 17:52:17,357 - june.simulator - INFO - Date = 2020-03-06 10:00:00, number of deaths =  0, number of infected = 125\n",
      "2020-08-30 17:52:17,617 - june.simulator - INFO - Date = 2020-03-06 13:00:00, number of deaths =  0, number of infected = 126\n",
      "2020-08-30 17:52:18,198 - june.simulator - INFO - Date = 2020-03-07 00:00:00, number of deaths =  0, number of infected = 129\n",
      "2020-08-30 17:52:18,797 - june.simulator - INFO - Date = 2020-03-07 04:00:00, number of deaths =  0, number of infected = 134\n",
      "2020-08-30 17:52:19,362 - june.simulator - INFO - Date = 2020-03-07 08:00:00, number of deaths =  0, number of infected = 139\n",
      "2020-08-30 17:52:19,627 - june.simulator - INFO - Date = 2020-03-07 12:00:00, number of deaths =  0, number of infected = 143\n",
      "2020-08-30 17:52:20,218 - june.simulator - INFO - Date = 2020-03-08 00:00:00, number of deaths =  0, number of infected = 150\n",
      "2020-08-30 17:52:20,827 - june.simulator - INFO - Date = 2020-03-08 04:00:00, number of deaths =  0, number of infected = 154\n",
      "2020-08-30 17:52:21,436 - june.simulator - INFO - Date = 2020-03-08 08:00:00, number of deaths =  0, number of infected = 160\n",
      "2020-08-30 17:52:21,714 - june.simulator - INFO - Date = 2020-03-08 12:00:00, number of deaths =  0, number of infected = 166\n",
      "2020-08-30 17:52:21,998 - june.simulator - INFO - Date = 2020-03-09 00:00:00, number of deaths =  0, number of infected = 182\n",
      "2020-08-30 17:52:22,362 - june.simulator - INFO - Date = 2020-03-09 01:00:00, number of deaths =  0, number of infected = 182\n",
      "2020-08-30 17:52:23,513 - june.simulator - INFO - Date = 2020-03-09 09:00:00, number of deaths =  0, number of infected = 205\n",
      "2020-08-30 17:52:24,112 - june.simulator - INFO - Date = 2020-03-09 10:00:00, number of deaths =  0, number of infected = 205\n",
      "2020-08-30 17:52:24,382 - june.simulator - INFO - Date = 2020-03-09 13:00:00, number of deaths =  0, number of infected = 211\n",
      "2020-08-30 17:52:24,668 - june.simulator - INFO - Date = 2020-03-10 00:00:00, number of deaths =  0, number of infected = 222\n",
      "2020-08-30 17:52:25,032 - june.simulator - INFO - Date = 2020-03-10 01:00:00, number of deaths =  0, number of infected = 222\n",
      "2020-08-30 17:52:25,319 - june.simulator - INFO - Date = 2020-03-10 09:00:00, number of deaths =  0, number of infected = 242\n",
      "2020-08-30 17:52:25,905 - june.simulator - INFO - Date = 2020-03-10 10:00:00, number of deaths =  0, number of infected = 243\n",
      "2020-08-30 17:52:26,171 - june.simulator - INFO - Date = 2020-03-10 13:00:00, number of deaths =  0, number of infected = 249\n",
      "2020-08-30 17:52:26,458 - june.simulator - INFO - Date = 2020-03-11 00:00:00, number of deaths =  0, number of infected = 260\n",
      "2020-08-30 17:52:26,815 - june.simulator - INFO - Date = 2020-03-11 01:00:00, number of deaths =  0, number of infected = 260\n",
      "2020-08-30 17:52:27,102 - june.simulator - INFO - Date = 2020-03-11 09:00:00, number of deaths =  0, number of infected = 283\n",
      "2020-08-30 17:52:27,687 - june.simulator - INFO - Date = 2020-03-11 10:00:00, number of deaths =  0, number of infected = 284\n",
      "2020-08-30 17:52:27,953 - june.simulator - INFO - Date = 2020-03-11 13:00:00, number of deaths =  0, number of infected = 288\n",
      "2020-08-30 17:52:28,249 - june.simulator - INFO - Date = 2020-03-12 00:00:00, number of deaths =  0, number of infected = 298\n",
      "2020-08-30 17:52:28,614 - june.simulator - INFO - Date = 2020-03-12 01:00:00, number of deaths =  0, number of infected = 301\n",
      "2020-08-30 17:52:29,148 - june.simulator - INFO - Date = 2020-03-12 09:00:00, number of deaths =  0, number of infected = 331\n",
      "2020-08-30 17:52:29,746 - june.simulator - INFO - Date = 2020-03-12 10:00:00, number of deaths =  0, number of infected = 333\n",
      "2020-08-30 17:52:30,017 - june.simulator - INFO - Date = 2020-03-12 13:00:00, number of deaths =  0, number of infected = 339\n",
      "2020-08-30 17:52:30,316 - june.simulator - INFO - Date = 2020-03-13 00:00:00, number of deaths =  0, number of infected = 358\n",
      "2020-08-30 17:52:30,684 - june.simulator - INFO - Date = 2020-03-13 01:00:00, number of deaths =  0, number of infected = 362\n",
      "2020-08-30 17:52:30,973 - june.simulator - INFO - Date = 2020-03-13 09:00:00, number of deaths =  0, number of infected = 410\n",
      "2020-08-30 17:52:31,576 - june.simulator - INFO - Date = 2020-03-13 10:00:00, number of deaths =  0, number of infected = 413\n",
      "2020-08-30 17:52:31,848 - june.simulator - INFO - Date = 2020-03-13 13:00:00, number of deaths =  0, number of infected = 423\n",
      "2020-08-30 17:52:32,426 - june.simulator - INFO - Date = 2020-03-14 00:00:00, number of deaths =  0, number of infected = 447\n",
      "2020-08-30 17:52:33,028 - june.simulator - INFO - Date = 2020-03-14 04:00:00, number of deaths =  0, number of infected = 456\n"
     ]
    },
    {
     "name": "stdout",
     "output_type": "stream",
     "text": [
      "2020-08-30 17:52:33,686 - june.simulator - INFO - Date = 2020-03-14 08:00:00, number of deaths =  0, number of infected = 465\n",
      "2020-08-30 17:52:33,960 - june.simulator - INFO - Date = 2020-03-14 12:00:00, number of deaths =  0, number of infected = 476\n",
      "2020-08-30 17:52:34,570 - june.simulator - INFO - Date = 2020-03-15 00:00:00, number of deaths =  0, number of infected = 504\n",
      "2020-08-30 17:52:35,192 - june.simulator - INFO - Date = 2020-03-15 04:00:00, number of deaths =  0, number of infected = 513\n",
      "2020-08-30 17:52:35,839 - june.simulator - INFO - Date = 2020-03-15 08:00:00, number of deaths =  0, number of infected = 527\n",
      "2020-08-30 17:52:36,112 - june.simulator - INFO - Date = 2020-03-15 12:00:00, number of deaths =  0, number of infected = 541\n",
      "2020-08-30 17:52:36,612 - june.simulator - INFO - Date = 2020-03-16 00:00:00, number of deaths =  0, number of infected = 572\n",
      "2020-08-30 17:52:37,240 - june.simulator - INFO - Date = 2020-03-16 01:00:00, number of deaths =  0, number of infected = 573\n",
      "2020-08-30 17:52:38,446 - june.simulator - INFO - Date = 2020-03-16 09:00:00, number of deaths =  0, number of infected = 636\n",
      "2020-08-30 17:52:39,352 - june.simulator - INFO - Date = 2020-03-16 10:00:00, number of deaths =  0, number of infected = 638\n",
      "2020-08-30 17:52:39,841 - june.simulator - INFO - Date = 2020-03-16 13:00:00, number of deaths =  0, number of infected = 644\n",
      "2020-08-30 17:52:40,336 - june.simulator - INFO - Date = 2020-03-17 00:00:00, number of deaths =  0, number of infected = 666\n",
      "2020-08-30 17:52:40,962 - june.simulator - INFO - Date = 2020-03-17 01:00:00, number of deaths =  0, number of infected = 670\n",
      "2020-08-30 17:52:41,463 - june.simulator - INFO - Date = 2020-03-17 09:00:00, number of deaths =  0, number of infected = 727\n",
      "2020-08-30 17:52:42,319 - june.simulator - INFO - Date = 2020-03-17 10:00:00, number of deaths =  0, number of infected = 728\n",
      "2020-08-30 17:52:42,785 - june.simulator - INFO - Date = 2020-03-17 13:00:00, number of deaths =  0, number of infected = 733\n",
      "2020-08-30 17:52:43,285 - june.simulator - INFO - Date = 2020-03-18 00:00:00, number of deaths =  0, number of infected = 764\n",
      "2020-08-30 17:52:43,899 - june.simulator - INFO - Date = 2020-03-18 01:00:00, number of deaths =  0, number of infected = 767\n",
      "2020-08-30 17:52:44,398 - june.simulator - INFO - Date = 2020-03-18 09:00:00, number of deaths =  0, number of infected = 839\n",
      "2020-08-30 17:52:45,239 - june.simulator - INFO - Date = 2020-03-18 10:00:00, number of deaths =  0, number of infected = 844\n",
      "2020-08-30 17:52:45,711 - june.simulator - INFO - Date = 2020-03-18 13:00:00, number of deaths =  0, number of infected = 850\n",
      "2020-08-30 17:52:46,212 - june.simulator - INFO - Date = 2020-03-19 00:00:00, number of deaths =  0, number of infected = 881\n",
      "2020-08-30 17:52:46,846 - june.simulator - INFO - Date = 2020-03-19 01:00:00, number of deaths =  0, number of infected = 884\n",
      "2020-08-30 17:52:47,363 - june.simulator - INFO - Date = 2020-03-19 09:00:00, number of deaths =  0, number of infected = 976\n",
      "2020-08-30 17:52:48,196 - june.simulator - INFO - Date = 2020-03-19 10:00:00, number of deaths =  0, number of infected = 979\n",
      "2020-08-30 17:52:48,672 - june.simulator - INFO - Date = 2020-03-19 13:00:00, number of deaths =  0, number of infected = 986\n",
      "2020-08-30 17:52:49,330 - june.simulator - INFO - Date = 2020-03-20 00:00:00, number of deaths =  0, number of infected = 1031\n",
      "2020-08-30 17:52:50,388 - june.simulator - INFO - Date = 2020-03-20 01:00:00, number of deaths =  0, number of infected = 1037\n",
      "2020-08-30 17:52:51,051 - june.simulator - INFO - Date = 2020-03-20 09:00:00, number of deaths =  1, number of infected = 1086\n",
      "2020-08-30 17:52:52,079 - june.simulator - INFO - Date = 2020-03-20 10:00:00, number of deaths =  1, number of infected = 1094\n",
      "2020-08-30 17:52:52,709 - june.simulator - INFO - Date = 2020-03-20 13:00:00, number of deaths =  1, number of infected = 1106\n",
      "2020-08-30 17:52:53,646 - june.simulator - INFO - Date = 2020-03-21 00:00:00, number of deaths =  1, number of infected = 1160\n",
      "2020-08-30 17:52:54,565 - june.simulator - INFO - Date = 2020-03-21 04:00:00, number of deaths =  1, number of infected = 1176\n",
      "2020-08-30 17:52:55,553 - june.simulator - INFO - Date = 2020-03-21 08:00:00, number of deaths =  1, number of infected = 1191\n",
      "2020-08-30 17:52:56,178 - june.simulator - INFO - Date = 2020-03-21 12:00:00, number of deaths =  1, number of infected = 1205\n",
      "2020-08-30 17:52:57,123 - june.simulator - INFO - Date = 2020-03-22 00:00:00, number of deaths =  1, number of infected = 1243\n",
      "2020-08-30 17:52:58,064 - june.simulator - INFO - Date = 2020-03-22 04:00:00, number of deaths =  1, number of infected = 1267\n",
      "2020-08-30 17:52:59,029 - june.simulator - INFO - Date = 2020-03-22 08:00:00, number of deaths =  1, number of infected = 1296\n",
      "2020-08-30 17:52:59,655 - june.simulator - INFO - Date = 2020-03-22 12:00:00, number of deaths =  1, number of infected = 1312\n",
      "2020-08-30 17:53:00,442 - june.simulator - INFO - Date = 2020-03-23 00:00:00, number of deaths =  2, number of infected = 1359\n",
      "2020-08-30 17:53:01,437 - june.simulator - INFO - Date = 2020-03-23 01:00:00, number of deaths =  2, number of infected = 1366\n",
      "2020-08-30 17:53:02,106 - june.simulator - INFO - Date = 2020-03-23 09:00:00, number of deaths =  2, number of infected = 1428\n",
      "2020-08-30 17:53:03,144 - june.simulator - INFO - Date = 2020-03-23 10:00:00, number of deaths =  2, number of infected = 1432\n",
      "2020-08-30 17:53:03,861 - june.simulator - INFO - Date = 2020-03-23 13:00:00, number of deaths =  2, number of infected = 1441\n",
      "2020-08-30 17:53:04,590 - june.simulator - INFO - Date = 2020-03-24 00:00:00, number of deaths =  2, number of infected = 1476\n",
      "2020-08-30 17:53:05,523 - june.simulator - INFO - Date = 2020-03-24 01:00:00, number of deaths =  2, number of infected = 1480\n",
      "2020-08-30 17:53:06,196 - june.simulator - INFO - Date = 2020-03-24 09:00:00, number of deaths =  2, number of infected = 1509\n",
      "2020-08-30 17:53:07,040 - june.simulator - INFO - Date = 2020-03-24 10:00:00, number of deaths =  2, number of infected = 1512\n",
      "2020-08-30 17:53:07,672 - june.simulator - INFO - Date = 2020-03-24 13:00:00, number of deaths =  2, number of infected = 1524\n",
      "2020-08-30 17:53:08,333 - june.simulator - INFO - Date = 2020-03-25 00:00:00, number of deaths =  2, number of infected = 1564\n",
      "2020-08-30 17:53:09,266 - june.simulator - INFO - Date = 2020-03-25 01:00:00, number of deaths =  2, number of infected = 1566\n",
      "2020-08-30 17:53:09,920 - june.simulator - INFO - Date = 2020-03-25 09:00:00, number of deaths =  2, number of infected = 1590\n",
      "2020-08-30 17:53:10,775 - june.simulator - INFO - Date = 2020-03-25 10:00:00, number of deaths =  2, number of infected = 1594\n",
      "2020-08-30 17:53:11,397 - june.simulator - INFO - Date = 2020-03-25 13:00:00, number of deaths =  2, number of infected = 1603\n",
      "2020-08-30 17:53:12,054 - june.simulator - INFO - Date = 2020-03-26 00:00:00, number of deaths =  2, number of infected = 1630\n",
      "2020-08-30 17:53:12,988 - june.simulator - INFO - Date = 2020-03-26 01:00:00, number of deaths =  2, number of infected = 1635\n",
      "2020-08-30 17:53:13,657 - june.simulator - INFO - Date = 2020-03-26 09:00:00, number of deaths =  2, number of infected = 1666\n",
      "2020-08-30 17:53:14,508 - june.simulator - INFO - Date = 2020-03-26 10:00:00, number of deaths =  2, number of infected = 1671\n",
      "2020-08-30 17:53:15,124 - june.simulator - INFO - Date = 2020-03-26 13:00:00, number of deaths =  2, number of infected = 1676\n",
      "2020-08-30 17:53:15,774 - june.simulator - INFO - Date = 2020-03-27 00:00:00, number of deaths =  2, number of infected = 1702\n",
      "2020-08-30 17:53:16,727 - june.simulator - INFO - Date = 2020-03-27 01:00:00, number of deaths =  2, number of infected = 1704\n",
      "2020-08-30 17:53:17,384 - june.simulator - INFO - Date = 2020-03-27 09:00:00, number of deaths =  2, number of infected = 1721\n",
      "2020-08-30 17:53:18,252 - june.simulator - INFO - Date = 2020-03-27 10:00:00, number of deaths =  2, number of infected = 1725\n",
      "2020-08-30 17:53:18,873 - june.simulator - INFO - Date = 2020-03-27 13:00:00, number of deaths =  2, number of infected = 1729\n",
      "2020-08-30 17:53:19,742 - june.simulator - INFO - Date = 2020-03-28 00:00:00, number of deaths =  2, number of infected = 1757\n"
     ]
    },
    {
     "name": "stdout",
     "output_type": "stream",
     "text": [
      "2020-08-30 17:53:20,590 - june.simulator - INFO - Date = 2020-03-28 04:00:00, number of deaths =  2, number of infected = 1769\n",
      "2020-08-30 17:53:21,433 - june.simulator - INFO - Date = 2020-03-28 08:00:00, number of deaths =  2, number of infected = 1777\n",
      "2020-08-30 17:53:22,062 - june.simulator - INFO - Date = 2020-03-28 12:00:00, number of deaths =  2, number of infected = 1792\n",
      "2020-08-30 17:53:22,911 - june.simulator - INFO - Date = 2020-03-29 00:00:00, number of deaths =  2, number of infected = 1803\n",
      "2020-08-30 17:53:23,750 - june.simulator - INFO - Date = 2020-03-29 04:00:00, number of deaths =  2, number of infected = 1802\n",
      "2020-08-30 17:53:24,594 - june.simulator - INFO - Date = 2020-03-29 08:00:00, number of deaths =  2, number of infected = 1812\n",
      "2020-08-30 17:53:25,225 - june.simulator - INFO - Date = 2020-03-29 12:00:00, number of deaths =  2, number of infected = 1816\n",
      "2020-08-30 17:53:25,871 - june.simulator - INFO - Date = 2020-03-30 00:00:00, number of deaths =  2, number of infected = 1823\n",
      "2020-08-30 17:53:26,829 - june.simulator - INFO - Date = 2020-03-30 01:00:00, number of deaths =  2, number of infected = 1825\n",
      "2020-08-30 17:53:27,473 - june.simulator - INFO - Date = 2020-03-30 09:00:00, number of deaths =  3, number of infected = 1837\n",
      "2020-08-30 17:53:28,336 - june.simulator - INFO - Date = 2020-03-30 10:00:00, number of deaths =  3, number of infected = 1837\n",
      "2020-08-30 17:53:28,968 - june.simulator - INFO - Date = 2020-03-30 13:00:00, number of deaths =  3, number of infected = 1839\n",
      "2020-08-30 17:53:29,621 - june.simulator - INFO - Date = 2020-03-31 00:00:00, number of deaths =  3, number of infected = 1842\n",
      "2020-08-30 17:53:30,574 - june.simulator - INFO - Date = 2020-03-31 01:00:00, number of deaths =  3, number of infected = 1842\n",
      "2020-08-30 17:53:31,229 - june.simulator - INFO - Date = 2020-03-31 09:00:00, number of deaths =  3, number of infected = 1861\n",
      "2020-08-30 17:53:32,096 - june.simulator - INFO - Date = 2020-03-31 10:00:00, number of deaths =  3, number of infected = 1865\n",
      "2020-08-30 17:53:32,724 - june.simulator - INFO - Date = 2020-03-31 13:00:00, number of deaths =  3, number of infected = 1874\n",
      "2020-08-30 17:53:33,374 - june.simulator - INFO - Date = 2020-04-01 00:00:00, number of deaths =  3, number of infected = 1882\n",
      "2020-08-30 17:53:34,332 - june.simulator - INFO - Date = 2020-04-01 01:00:00, number of deaths =  3, number of infected = 1883\n",
      "2020-08-30 17:53:34,983 - june.simulator - INFO - Date = 2020-04-01 09:00:00, number of deaths =  4, number of infected = 1881\n",
      "2020-08-30 17:53:35,863 - june.simulator - INFO - Date = 2020-04-01 10:00:00, number of deaths =  4, number of infected = 1876\n",
      "2020-08-30 17:53:36,490 - june.simulator - INFO - Date = 2020-04-01 13:00:00, number of deaths =  4, number of infected = 1873\n",
      "2020-08-30 17:53:37,133 - june.simulator - INFO - Date = 2020-04-02 00:00:00, number of deaths =  5, number of infected = 1870\n",
      "2020-08-30 17:53:38,088 - june.simulator - INFO - Date = 2020-04-02 01:00:00, number of deaths =  5, number of infected = 1872\n",
      "2020-08-30 17:53:38,751 - june.simulator - INFO - Date = 2020-04-02 09:00:00, number of deaths =  5, number of infected = 1878\n",
      "2020-08-30 17:53:39,625 - june.simulator - INFO - Date = 2020-04-02 10:00:00, number of deaths =  5, number of infected = 1878\n",
      "2020-08-30 17:53:40,258 - june.simulator - INFO - Date = 2020-04-02 13:00:00, number of deaths =  6, number of infected = 1873\n",
      "2020-08-30 17:53:40,909 - june.simulator - INFO - Date = 2020-04-03 00:00:00, number of deaths =  7, number of infected = 1868\n",
      "2020-08-30 17:53:41,881 - june.simulator - INFO - Date = 2020-04-03 01:00:00, number of deaths =  8, number of infected = 1868\n",
      "2020-08-30 17:53:42,537 - june.simulator - INFO - Date = 2020-04-03 09:00:00, number of deaths =  8, number of infected = 1855\n",
      "2020-08-30 17:53:43,426 - june.simulator - INFO - Date = 2020-04-03 10:00:00, number of deaths =  8, number of infected = 1856\n",
      "2020-08-30 17:53:44,049 - june.simulator - INFO - Date = 2020-04-03 13:00:00, number of deaths =  8, number of infected = 1851\n",
      "2020-08-30 17:53:44,948 - june.simulator - INFO - Date = 2020-04-04 00:00:00, number of deaths =  8, number of infected = 1846\n",
      "2020-08-30 17:53:45,794 - june.simulator - INFO - Date = 2020-04-04 04:00:00, number of deaths =  9, number of infected = 1841\n",
      "2020-08-30 17:53:46,665 - june.simulator - INFO - Date = 2020-04-04 08:00:00, number of deaths =  9, number of infected = 1841\n",
      "2020-08-30 17:53:47,294 - june.simulator - INFO - Date = 2020-04-04 12:00:00, number of deaths =  9, number of infected = 1840\n",
      "2020-08-30 17:53:48,145 - june.simulator - INFO - Date = 2020-04-05 00:00:00, number of deaths =  9, number of infected = 1839\n",
      "2020-08-30 17:53:48,995 - june.simulator - INFO - Date = 2020-04-05 04:00:00, number of deaths =  10, number of infected = 1831\n",
      "2020-08-30 17:53:49,849 - june.simulator - INFO - Date = 2020-04-05 08:00:00, number of deaths =  10, number of infected = 1833\n",
      "2020-08-30 17:53:50,470 - june.simulator - INFO - Date = 2020-04-05 12:00:00, number of deaths =  10, number of infected = 1828\n",
      "2020-08-30 17:53:51,116 - june.simulator - INFO - Date = 2020-04-06 00:00:00, number of deaths =  10, number of infected = 1808\n",
      "2020-08-30 17:53:52,077 - june.simulator - INFO - Date = 2020-04-06 01:00:00, number of deaths =  10, number of infected = 1806\n",
      "2020-08-30 17:53:52,721 - june.simulator - INFO - Date = 2020-04-06 09:00:00, number of deaths =  10, number of infected = 1797\n",
      "2020-08-30 17:53:53,571 - june.simulator - INFO - Date = 2020-04-06 10:00:00, number of deaths =  10, number of infected = 1795\n",
      "2020-08-30 17:53:54,201 - june.simulator - INFO - Date = 2020-04-06 13:00:00, number of deaths =  10, number of infected = 1794\n",
      "2020-08-30 17:53:54,845 - june.simulator - INFO - Date = 2020-04-07 00:00:00, number of deaths =  10, number of infected = 1773\n",
      "2020-08-30 17:53:55,791 - june.simulator - INFO - Date = 2020-04-07 01:00:00, number of deaths =  10, number of infected = 1776\n",
      "2020-08-30 17:53:56,438 - june.simulator - INFO - Date = 2020-04-07 09:00:00, number of deaths =  10, number of infected = 1766\n",
      "2020-08-30 17:53:57,399 - june.simulator - INFO - Date = 2020-04-07 10:00:00, number of deaths =  10, number of infected = 1763\n",
      "2020-08-30 17:53:58,374 - june.simulator - INFO - Date = 2020-04-07 13:00:00, number of deaths =  10, number of infected = 1765\n",
      "2020-08-30 17:53:59,164 - june.simulator - INFO - Date = 2020-04-08 00:00:00, number of deaths =  10, number of infected = 1749\n",
      "2020-08-30 17:54:00,411 - june.simulator - INFO - Date = 2020-04-08 01:00:00, number of deaths =  10, number of infected = 1745\n",
      "2020-08-30 17:54:01,074 - june.simulator - INFO - Date = 2020-04-08 09:00:00, number of deaths =  10, number of infected = 1726\n",
      "2020-08-30 17:54:01,922 - june.simulator - INFO - Date = 2020-04-08 10:00:00, number of deaths =  10, number of infected = 1726\n",
      "2020-08-30 17:54:02,539 - june.simulator - INFO - Date = 2020-04-08 13:00:00, number of deaths =  11, number of infected = 1714\n",
      "2020-08-30 17:54:03,186 - june.simulator - INFO - Date = 2020-04-09 00:00:00, number of deaths =  12, number of infected = 1688\n",
      "2020-08-30 17:54:04,141 - june.simulator - INFO - Date = 2020-04-09 01:00:00, number of deaths =  12, number of infected = 1685\n",
      "2020-08-30 17:54:04,789 - june.simulator - INFO - Date = 2020-04-09 09:00:00, number of deaths =  12, number of infected = 1649\n",
      "2020-08-30 17:54:05,651 - june.simulator - INFO - Date = 2020-04-09 10:00:00, number of deaths =  12, number of infected = 1645\n",
      "2020-08-30 17:54:06,277 - june.simulator - INFO - Date = 2020-04-09 13:00:00, number of deaths =  12, number of infected = 1634\n",
      "CPU times: user 2min 2s, sys: 963 ms, total: 2min 3s\n",
      "Wall time: 2min 2s\n"
     ]
    }
   ],
   "source": [
    "%%time\n",
    "simulator.run()"
   ]
  },
  {
   "cell_type": "markdown",
   "metadata": {},
   "source": [
    "While the simulation runs (and afterwards) we can launch the visualization webpage by running\n",
    "```python june/visualizer.py path/to/results``` "
   ]
  },
  {
   "cell_type": "markdown",
   "metadata": {},
   "source": [
    "# Getting the results"
   ]
  },
  {
   "cell_type": "markdown",
   "metadata": {},
   "source": [
    "All results are stored in a json file specified in the ``save_path`` variable in the config file. We can also access it from ``world.logger`` directly."
   ]
  },
  {
   "cell_type": "code",
   "execution_count": 87,
   "metadata": {},
   "outputs": [],
   "source": [
    "import pandas as pd"
   ]
  },
  {
   "cell_type": "code",
   "execution_count": 97,
   "metadata": {},
   "outputs": [],
   "source": [
    "read = ReadLogger()"
   ]
  },
  {
   "cell_type": "code",
   "execution_count": 98,
   "metadata": {},
   "outputs": [
    {
     "name": "stdout",
     "output_type": "stream",
     "text": [
      "CPU times: user 663 ms, sys: 0 ns, total: 663 ms\n",
      "Wall time: 666 ms\n"
     ]
    }
   ],
   "source": [
    "%%time\n",
    "for i,area in enumerate(world.super_areas):\n",
    "    read.process_symptoms(read.infections_per_super_area[i], n_people = 100000)"
   ]
  },
  {
   "cell_type": "markdown",
   "metadata": {},
   "source": [
    "## Hospital data and how it changed over time"
   ]
  },
  {
   "cell_type": "code",
   "execution_count": null,
   "metadata": {},
   "outputs": [],
   "source": [
    "hospitals_df = read.load_hospital_capacity()"
   ]
  },
  {
   "cell_type": "code",
   "execution_count": null,
   "metadata": {},
   "outputs": [],
   "source": [
    "hospitals_df.head(3)"
   ]
  },
  {
   "cell_type": "code",
   "execution_count": null,
   "metadata": {},
   "outputs": [],
   "source": [
    "hospitals_characteristics_df = read.load_hospital_characteristics()"
   ]
  },
  {
   "cell_type": "code",
   "execution_count": null,
   "metadata": {},
   "outputs": [],
   "source": [
    "hospitals_characteristics_df"
   ]
  },
  {
   "cell_type": "markdown",
   "metadata": {},
   "source": [
    "## where did infections happen?"
   ]
  },
  {
   "cell_type": "code",
   "execution_count": null,
   "metadata": {},
   "outputs": [],
   "source": [
    "infection_locations = read.get_locations_infections()"
   ]
  },
  {
   "cell_type": "code",
   "execution_count": null,
   "metadata": {},
   "outputs": [],
   "source": [
    "unique_locations, counts_locations = np.unique(\n",
    "                np.array(infection_locations),\n",
    "                return_counts=True)\n",
    "\n",
    "location_counts_df = pd.DataFrame(\n",
    "    {'locations': unique_locations,\n",
    "    'counts': counts_locations}\n",
    ")\n",
    "location_counts_df.set_index('locations', inplace=True)"
   ]
  },
  {
   "cell_type": "code",
   "execution_count": null,
   "metadata": {},
   "outputs": [],
   "source": [
    "location_counts_df['percent_infections']= 100*(location_counts_df['counts'])/location_counts_df.values.sum()"
   ]
  },
  {
   "cell_type": "code",
   "execution_count": null,
   "metadata": {},
   "outputs": [],
   "source": [
    "import matplotlib.ticker as mtick\n",
    "\n",
    "ax = location_counts_df['percent_infections'].sort_values().plot.bar()\n",
    "ax.yaxis.set_major_formatter(mtick.PercentFormatter())\n",
    "plt.ylabel('Percentage of infections at location')\n",
    "plt.xlabel('location')\n"
   ]
  },
  {
   "cell_type": "code",
   "execution_count": null,
   "metadata": {},
   "outputs": [],
   "source": [
    "# Find outbreaks"
   ]
  },
  {
   "cell_type": "code",
   "execution_count": null,
   "metadata": {},
   "outputs": [],
   "source": [
    "unique_id, count_id =  np.unique(\n",
    "        np.array(read.locations_df['location_id'].sum()),\n",
    "        return_counts=True\n",
    ")"
   ]
  },
  {
   "cell_type": "code",
   "execution_count": null,
   "metadata": {},
   "outputs": [],
   "source": [
    "unique_id[np.argsort(count_id)[-5:]]"
   ]
  },
  {
   "cell_type": "code",
   "execution_count": null,
   "metadata": {},
   "outputs": [],
   "source": [
    "count_id[np.argsort(count_id)[-5:]]"
   ]
  },
  {
   "cell_type": "code",
   "execution_count": null,
   "metadata": {},
   "outputs": [],
   "source": [
    "weekly_infections=read.locations_df.resample('W').sum()"
   ]
  },
  {
   "cell_type": "code",
   "execution_count": null,
   "metadata": {},
   "outputs": [],
   "source": [
    "for location in unique_locations:\n",
    "    weekly_infections[str(location)] = weekly_infections.apply(\n",
    "        lambda x: x.location.count(str(location)), axis=1\n",
    "    )"
   ]
  },
  {
   "cell_type": "code",
   "execution_count": null,
   "metadata": {},
   "outputs": [],
   "source": [
    "weekly_infections.iloc[:,3:].plot()"
   ]
  },
  {
   "cell_type": "code",
   "execution_count": null,
   "metadata": {},
   "outputs": [],
   "source": [
    "for location in unique_locations:\n",
    "    read.locations_df[str(location)] = read.locations_df.apply(\n",
    "        lambda x: x.location.count(str(location)), axis=1\n",
    "    )"
   ]
  },
  {
   "cell_type": "code",
   "execution_count": null,
   "metadata": {},
   "outputs": [],
   "source": [
    "read.locations_df.index = pd.to_datetime(read.locations_df.index)\n"
   ]
  },
  {
   "cell_type": "code",
   "execution_count": null,
   "metadata": {},
   "outputs": [],
   "source": [
    "read.locations_df.iloc[:,3:].plot()"
   ]
  },
  {
   "cell_type": "markdown",
   "metadata": {},
   "source": [
    "## rate of infection"
   ]
  },
  {
   "cell_type": "code",
   "execution_count": null,
   "metadata": {},
   "outputs": [],
   "source": [
    "r_df = read.get_r()"
   ]
  },
  {
   "cell_type": "code",
   "execution_count": null,
   "metadata": {},
   "outputs": [],
   "source": [
    "from june.policy import SocialDistancing\n",
    "r_df.plot()\n",
    "colors = [\"yellow\", \"orange\", 'blue']\n",
    "for policy in policies.policies:\n",
    "    if isinstance(policy, SocialDistancing):\n",
    "        plt.axvspan(policy.start_time, \n",
    "                policy.end_time,\n",
    "                facecolor=colors.pop(),\n",
    "                alpha=0.2)\n",
    "plt.axhline(y=1, linestyle='dashed', color='gray')\n",
    "plt.xlabel('Date')\n",
    "plt.ylim(0,3)\n",
    "plt.ylabel('R')"
   ]
  },
  {
   "cell_type": "markdown",
   "metadata": {},
   "source": [
    "## World infection curves, and by super area"
   ]
  },
  {
   "cell_type": "code",
   "execution_count": null,
   "metadata": {},
   "outputs": [],
   "source": [
    "%%time\n",
    "world_df = read.world_summary()"
   ]
  },
  {
   "cell_type": "code",
   "execution_count": null,
   "metadata": {},
   "outputs": [],
   "source": [
    "fig, ax = plt.subplots()\n",
    "world_df['daily_infections'].resample('D').sum().plot(ax=ax)\n",
    "for policy in policies.policies:\n",
    "    plt.axvspan(policy.start_time, \n",
    "                policy.end_time,\n",
    "                alpha=0.01)\n",
    "plt.axvline('2020-03-23',\n",
    "           linestyle='dashed',\n",
    "           color='indianred')\n",
    "ax.set_ylabel('# daily infections')\n",
    "ax.set_xlabel('Date')"
   ]
  },
  {
   "cell_type": "code",
   "execution_count": null,
   "metadata": {},
   "outputs": [],
   "source": [
    "fig, ax = plt.subplots()\n",
    "world_df['daily_hospital_admissions'].resample('D').sum().plot(ax=ax)\n",
    "\n",
    "plt.axvline('2020-04-01',\n",
    "           linestyle='dashed',\n",
    "           color='indianred')\n",
    "ax.set_ylabel('# daily hospital admissions')\n",
    "ax.set_xlabel('Date')"
   ]
  },
  {
   "cell_type": "code",
   "execution_count": null,
   "metadata": {},
   "outputs": [],
   "source": [
    "fig, ax = plt.subplots()\n",
    "world_df['current_infected'].plot(ax=ax)\n",
    "\n",
    "ax.set_ylabel('# Infected')\n",
    "ax.set_xlabel('Date')"
   ]
  },
  {
   "cell_type": "code",
   "execution_count": null,
   "metadata": {},
   "outputs": [],
   "source": [
    "world_df.plot()\n",
    "\n",
    "plt.legend(bbox_to_anchor=(1,1))\n"
   ]
  },
  {
   "cell_type": "code",
   "execution_count": null,
   "metadata": {},
   "outputs": [],
   "source": [
    "read = ReadLogger()"
   ]
  },
  {
   "cell_type": "code",
   "execution_count": null,
   "metadata": {},
   "outputs": [],
   "source": [
    "%%time\n",
    "\n",
    "area_df = read.super_area_summary()"
   ]
  },
  {
   "cell_type": "code",
   "execution_count": null,
   "metadata": {},
   "outputs": [],
   "source": [
    "area_df[area_df.super_area == \"E02003282\"].plot()\n",
    "plt.legend(bbox_to_anchor=(1,1))"
   ]
  },
  {
   "cell_type": "markdown",
   "metadata": {},
   "source": [
    "## World infection curves per age group"
   ]
  },
  {
   "cell_type": "code",
   "execution_count": null,
   "metadata": {},
   "outputs": [],
   "source": [
    "ages_df = read.age_summary([0,10,20,30,40,\n",
    "                  50,60,70,80,90,100])"
   ]
  },
  {
   "cell_type": "code",
   "execution_count": null,
   "metadata": {},
   "outputs": [],
   "source": [
    "for name, group in ages_df.groupby('age_range'):\n",
    "    group['current_infected'].plot(label=name)\n",
    "colors = [\"yellow\", \"orange\",\"blue\"]\n",
    "for policy in policies.policies:\n",
    "    if isinstance(policy, SocialDistancing):\n",
    "        plt.axvspan(policy.start_time, \n",
    "                policy.end_time,\n",
    "                facecolor=colors.pop(), alpha=0.2)\n",
    "plt.legend(bbox_to_anchor=(1,1))\n"
   ]
  },
  {
   "cell_type": "markdown",
   "metadata": {},
   "source": [
    "## Draw some of the symptoms trajectories"
   ]
  },
  {
   "cell_type": "code",
   "execution_count": null,
   "metadata": {},
   "outputs": [],
   "source": [
    "random_trajectories = read.draw_symptom_trajectories(window_length=600,\n",
    "                                        n_people=10)"
   ]
  },
  {
   "cell_type": "code",
   "execution_count": null,
   "metadata": {},
   "outputs": [],
   "source": [
    "from june.infection import SymptomTag"
   ]
  },
  {
   "cell_type": "code",
   "execution_count": null,
   "metadata": {},
   "outputs": [],
   "source": [
    "symptoms_values = [tag.value for tag in SymptomTag]\n",
    "symptoms_names = [tag.name for tag in SymptomTag]\n"
   ]
  },
  {
   "cell_type": "code",
   "execution_count": null,
   "metadata": {},
   "outputs": [],
   "source": [
    "for df_person in random_trajectories:\n",
    "    df_person['symptoms'].plot()\n",
    "plt.ylabel('Symptoms Trajectory')\n",
    "_ = plt.yticks(symptoms_values, symptoms_names)\n",
    "plt.xlabel('Date')"
   ]
  },
  {
   "cell_type": "code",
   "execution_count": null,
   "metadata": {},
   "outputs": [],
   "source": [
    "for df_person in random_trajectories:\n",
    "    df_person['n_secondary_infections'].plot()\n",
    "plt.ylabel('Number of secondary infections')\n",
    "\n",
    "plt.xlabel('Date')"
   ]
  }
 ],
 "metadata": {
  "kernelspec": {
   "display_name": "Python 3",
   "language": "python",
   "name": "python3"
  },
  "language_info": {
   "codemirror_mode": {
    "name": "ipython",
    "version": 3
   },
   "file_extension": ".py",
   "mimetype": "text/x-python",
   "name": "python",
   "nbconvert_exporter": "python",
   "pygments_lexer": "ipython3",
   "version": "3.8.3"
  }
 },
 "nbformat": 4,
 "nbformat_minor": 4
}
