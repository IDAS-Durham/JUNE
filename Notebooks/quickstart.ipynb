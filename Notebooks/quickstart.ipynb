{
 "cells": [
  {
   "cell_type": "code",
   "execution_count": 1,
   "metadata": {},
   "outputs": [],
   "source": [
    "%load_ext autoreload\n",
    "%autoreload 2"
   ]
  },
  {
   "cell_type": "code",
   "execution_count": 2,
   "metadata": {},
   "outputs": [],
   "source": [
    "import warnings\n",
    "warnings.filterwarnings('ignore')"
   ]
  },
  {
   "cell_type": "code",
   "execution_count": 3,
   "metadata": {},
   "outputs": [],
   "source": [
    "import numpy as np\n",
    "import time\n",
    "from datetime import datetime\n",
    "import matplotlib.pyplot as plt\n",
    "import seaborn as sns\n",
    "sns.set_context('notebook')"
   ]
  },
  {
   "cell_type": "code",
   "execution_count": 4,
   "metadata": {},
   "outputs": [
    {
     "name": "stderr",
     "output_type": "stream",
     "text": [
      "No --data argument given - defaulting to:\n",
      "/home/florpi/camps/JUNE/data\n",
      "No --camp_data argument given - defaulting to:\n",
      "/home/florpi/camps/JUNE/camp_data\n",
      "No --configs argument given - defaulting to:\n",
      "/home/florpi/camps/JUNE/configs\n"
     ]
    }
   ],
   "source": [
    "from june import World \n",
    "from june.demography.geography import Geography\n",
    "from june.demography import Demography\n",
    "from june.interaction import ContactAveraging\n",
    "from june.infection import Infection\n",
    "from june.infection.symptoms import SymptomsConstant\n",
    "from june.infection.transmission import TransmissionConstant\n",
    "from june.groups import Hospitals, Schools, Companies, Households, CareHomes, Cemeteries\n",
    "from june.groups.leisure import Cinemas, Pubs, Groceries\n",
    "from june.simulator import Simulator\n",
    "from june.seed import Seed\n",
    "from june.policy import Policy, Policies\n",
    "from june import paths\n",
    "from june.logger.read_logger import ReadLogger\n",
    "from june.infection.infection import InfectionSelector\n",
    "from june.world import generate_world_from_hdf5, generate_world_from_geography"
   ]
  },
  {
   "cell_type": "markdown",
   "metadata": {},
   "source": [
    "# Initialize world\n",
    "\n",
    "To initialize a certain world, we need to add the different components we want to have in it. First we specify what super areas (msoa) we want to create. We have included these ones, because they are known to contain hospitals, schools, care homes, and companies.\n",
    "\n",
    "After creating the geography, we create the different components the worlds need to have such as care homes, companies ..."
   ]
  },
  {
   "cell_type": "code",
   "execution_count": 54,
   "metadata": {},
   "outputs": [
    {
     "name": "stdout",
     "output_type": "stream",
     "text": [
      "2020-06-10 12:25:20,559 - june.demography.geography - INFO - There are 76 areas and 3 super_areas in the world.\n",
      "2020-06-10 12:25:20,569 - june.groups.hospital - INFO - There are 2 hospitals in this geography.\n",
      "2020-06-10 12:25:20,642 - june.groups.school - INFO - There are 10 schools in this geography.\n",
      "2020-06-10 12:25:20,660 - june.groups.school - INFO - No school for the age 0 in this world.\n",
      "2020-06-10 12:25:20,666 - june.groups.school - INFO - No school for the age 1 in this world.\n",
      "2020-06-10 12:25:20,669 - june.groups.school - INFO - No school for the age 2 in this world.\n",
      "2020-06-10 12:25:20,976 - june.groups.carehome - INFO - There are 76 care_homes in this geography.\n",
      "2020-06-10 12:25:32,589 - june.distributors.carehome_distributor - INFO - \n",
      " The SuperArea E02002560 has no health-care workers in it!\n",
      "2020-06-10 12:25:32,596 - june.distributors.carehome_distributor - INFO - \n",
      " The SuperArea E02001720 has no health-care workers in it!\n",
      "2020-06-10 12:25:40,623 - june.distributors.worker_distributor - INFO - There are 0 who had to be told to stay real\n",
      "CPU times: user 20.3 s, sys: 1.36 s, total: 21.6 s\n",
      "Wall time: 22 s\n"
     ]
    }
   ],
   "source": [
    "%%time\n",
    "geography = Geography.from_file({\n",
    "                                \"super_area\": \n",
    "                                          [\"E02001720\",\n",
    "                                          \"E00088544\", \n",
    "                                          \"E02002560\", \n",
    "                                          \"E02002559\"]\n",
    "                                }\n",
    "                                )\n",
    "\n",
    "geography.hospitals = Hospitals.for_geography(geography)\n",
    "geography.schools = Schools.for_geography(geography)\n",
    "geography.companies = Companies.for_geography(geography)\n",
    "geography.care_homes = CareHomes.for_geography(geography)\n",
    "demography = Demography.for_geography(geography)\n",
    "world = generate_world_from_geography(geography, include_households=True)\n"
   ]
  },
  {
   "cell_type": "markdown",
   "metadata": {},
   "source": [
    "### If it took a long time to run the previous command, it might be a good idea to save the world to reuse it later."
   ]
  },
  {
   "cell_type": "code",
   "execution_count": 6,
   "metadata": {},
   "outputs": [],
   "source": [
    "#world.to_hdf5(\"world.hdf5\")"
   ]
  },
  {
   "cell_type": "markdown",
   "metadata": {},
   "source": [
    "If we would like to load the world we saved, we just do"
   ]
  },
  {
   "cell_type": "code",
   "execution_count": 7,
   "metadata": {},
   "outputs": [],
   "source": [
    "#world = generate_world_from_hdf5(\"world.hdf5\")"
   ]
  },
  {
   "cell_type": "markdown",
   "metadata": {},
   "source": [
    "you have now a beautiful pre-pandemic world. "
   ]
  },
  {
   "cell_type": "markdown",
   "metadata": {},
   "source": [
    "## Commute, travel and leisure"
   ]
  },
  {
   "cell_type": "markdown",
   "metadata": {},
   "source": [
    "We can add cinemas, pubs, groceries, etc. as well as commute in major cities with"
   ]
  },
  {
   "cell_type": "code",
   "execution_count": 8,
   "metadata": {},
   "outputs": [],
   "source": [
    "# leisure\n",
    "world.cinemas = Cinemas.for_geography(geography)\n",
    "world.pubs = Pubs.for_geography(geography)\n",
    "world.groceries = Groceries.for_super_areas(world.super_areas,\n",
    "                                            venues_per_capita=1/500)"
   ]
  },
  {
   "cell_type": "code",
   "execution_count": 9,
   "metadata": {},
   "outputs": [],
   "source": [
    "# commute\n",
    "world.initialise_commuting()"
   ]
  },
  {
   "cell_type": "markdown",
   "metadata": {},
   "source": [
    "We are also going to need some cemeteries...geography.cemeteries = Cemeteries()\n"
   ]
  },
  {
   "cell_type": "code",
   "execution_count": 10,
   "metadata": {},
   "outputs": [],
   "source": [
    "world.cemeteries = Cemeteries()"
   ]
  },
  {
   "cell_type": "markdown",
   "metadata": {},
   "source": [
    "# Adding the infection"
   ]
  },
  {
   "cell_type": "markdown",
   "metadata": {},
   "source": [
    "Now, you can play around with different models of infections. The building blocks for an infection are: Transmission and Symptoms. For now, only SymptomsConstant and TransmissionConstant are in a state to be used."
   ]
  },
  {
   "cell_type": "code",
   "execution_count": 11,
   "metadata": {},
   "outputs": [],
   "source": [
    "selector = InfectionSelector.from_file()"
   ]
  },
  {
   "cell_type": "code",
   "execution_count": 12,
   "metadata": {},
   "outputs": [
    {
     "data": {
      "text/plain": [
       "<june.infection.infection.InfectionSelector at 0x7fecacdcde50>"
      ]
     },
     "execution_count": 12,
     "metadata": {},
     "output_type": "execute_result"
    }
   ],
   "source": [
    "selector"
   ]
  },
  {
   "cell_type": "markdown",
   "metadata": {},
   "source": [
    "# Adding the interaction"
   ]
  },
  {
   "cell_type": "code",
   "execution_count": 13,
   "metadata": {},
   "outputs": [],
   "source": [
    "interaction = ContactAveraging.from_file(selector=selector)\n",
    "#interaction = DefaultInteraction.from_file(selector=selector)"
   ]
  },
  {
   "cell_type": "markdown",
   "metadata": {},
   "source": [
    "Beta are the intensities of the interaction taking place at the different groups"
   ]
  },
  {
   "cell_type": "code",
   "execution_count": 14,
   "metadata": {},
   "outputs": [
    {
     "data": {
      "text/plain": [
       "{'box': 1,\n",
       " 'pub': 0.1,\n",
       " 'grocery': 0.1,\n",
       " 'cinema': 0.1,\n",
       " 'commute_unit': 0.5,\n",
       " 'commute_city_unit': 0.5,\n",
       " 'hospital': 0.5,\n",
       " 'care_home': 0.5,\n",
       " 'company': 0.5,\n",
       " 'school': 0.5,\n",
       " 'household': 0.5}"
      ]
     },
     "execution_count": 14,
     "metadata": {},
     "output_type": "execute_result"
    }
   ],
   "source": [
    "interaction.beta"
   ]
  },
  {
   "cell_type": "markdown",
   "metadata": {},
   "source": [
    "to modify these, simply do"
   ]
  },
  {
   "cell_type": "code",
   "execution_count": 15,
   "metadata": {},
   "outputs": [],
   "source": [
    "interaction.beta['household'] *= 2"
   ]
  },
  {
   "cell_type": "code",
   "execution_count": 16,
   "metadata": {},
   "outputs": [
    {
     "data": {
      "text/plain": [
       "{'box': 1,\n",
       " 'pub': 0.1,\n",
       " 'grocery': 0.1,\n",
       " 'cinema': 0.1,\n",
       " 'commute_unit': 0.5,\n",
       " 'commute_city_unit': 0.5,\n",
       " 'hospital': 0.5,\n",
       " 'care_home': 0.5,\n",
       " 'company': 0.5,\n",
       " 'school': 0.5,\n",
       " 'household': 1.0}"
      ]
     },
     "execution_count": 16,
     "metadata": {},
     "output_type": "execute_result"
    }
   ],
   "source": [
    "interaction.beta"
   ]
  },
  {
   "cell_type": "markdown",
   "metadata": {},
   "source": [
    "moreover this interaction module uses contact matrices, that are different for different groups. These contact matrices shouldnt be modified for now. However they are a combination of conversational contact matrices, and physical contact matrices (see the BBC pandemic paper, from where these matrices are extracted https://www.medrxiv.org/content/10.1101/2020.02.16.20023754v2)\n",
    "\n",
    "There is a parameter, ``alpha`` ($\\alpha$), that combines these two matrices in the following way,\n",
    "\n",
    "\n",
    "$\\beta M \\left(1 + (\\alpha -1) \\right) P$\n",
    "\n",
    "where $\\beta$ is the intensity of the interaction, and $P$ the physical contact matrix. A larger $\\alpha$ produces more physical contacts. It is an overall number, non dependent of the particular group.\n"
   ]
  },
  {
   "cell_type": "code",
   "execution_count": 17,
   "metadata": {},
   "outputs": [
    {
     "data": {
      "text/plain": [
       "2.0"
      ]
     },
     "execution_count": 17,
     "metadata": {},
     "output_type": "execute_result"
    }
   ],
   "source": [
    "interaction.alpha_physical"
   ]
  },
  {
   "cell_type": "code",
   "execution_count": 18,
   "metadata": {},
   "outputs": [],
   "source": [
    "interaction.alpha_physical /= 2"
   ]
  },
  {
   "cell_type": "code",
   "execution_count": 19,
   "metadata": {},
   "outputs": [
    {
     "data": {
      "text/plain": [
       "1.0"
      ]
     },
     "execution_count": 19,
     "metadata": {},
     "output_type": "execute_result"
    }
   ],
   "source": [
    "interaction.alpha_physical"
   ]
  },
  {
   "cell_type": "markdown",
   "metadata": {},
   "source": [
    "# Seed the disease"
   ]
  },
  {
   "cell_type": "markdown",
   "metadata": {},
   "source": [
    "There are two options implemented in the seed at the moment, either you specify the number of cases and these are then homogeneously distributed by population to the different areas, or you use UK data on cases per region. For now use the first case."
   ]
  },
  {
   "cell_type": "code",
   "execution_count": 20,
   "metadata": {},
   "outputs": [],
   "source": [
    "seed = Seed(world.super_areas, selector,)"
   ]
  },
  {
   "cell_type": "code",
   "execution_count": 21,
   "metadata": {},
   "outputs": [],
   "source": [
    "n_cases = 10\n",
    "seed.unleash_virus(n_cases) # play around with the initial number of cases"
   ]
  },
  {
   "cell_type": "markdown",
   "metadata": {},
   "source": [
    "# Set policies"
   ]
  },
  {
   "cell_type": "code",
   "execution_count": 22,
   "metadata": {},
   "outputs": [],
   "source": [
    "social_distance = Policy(policy=\"social_distance\",\n",
    "                         start_time=datetime(2020, 3, 25), \n",
    "                         end_time=datetime(2020, 4, 1))"
   ]
  },
  {
   "cell_type": "code",
   "execution_count": 23,
   "metadata": {},
   "outputs": [],
   "source": [
    "policies = Policies.from_file([social_distance])"
   ]
  },
  {
   "cell_type": "code",
   "execution_count": 24,
   "metadata": {},
   "outputs": [
    {
     "data": {
      "text/plain": [
       "{'alpha factor': 1.0,\n",
       " 'beta factor': {'box': 0.5,\n",
       "  'pub': 0.5,\n",
       "  'grocery': 0.5,\n",
       "  'cinema': 0.5,\n",
       "  'commute_unit': 0.5,\n",
       "  'commute_city_unit': 0.5,\n",
       "  'hospital': 0.5,\n",
       "  'care_home': 0.5,\n",
       "  'company': 0.5,\n",
       "  'school': 0.5,\n",
       "  'household': 1.0}}"
      ]
     },
     "execution_count": 24,
     "metadata": {},
     "output_type": "execute_result"
    }
   ],
   "source": [
    "policies.config['social distancing']"
   ]
  },
  {
   "cell_type": "markdown",
   "metadata": {},
   "source": [
    "# Run the simulation"
   ]
  },
  {
   "cell_type": "markdown",
   "metadata": {},
   "source": [
    "Since the timer configuration is a bit cumbersome, it is read from the config file at ``configs/config_example.yaml``"
   ]
  },
  {
   "cell_type": "code",
   "execution_count": 25,
   "metadata": {},
   "outputs": [],
   "source": [
    "CONFIG_PATH = \"../configs/config_example.yaml\"\n",
    "\n",
    "simulator = Simulator.from_file(\n",
    "     world, interaction, selector, \n",
    "    config_filename = CONFIG_PATH,\n",
    "    policies = policies\n",
    ")"
   ]
  },
  {
   "cell_type": "code",
   "execution_count": 26,
   "metadata": {},
   "outputs": [],
   "source": [
    "simulator.timer.reset()"
   ]
  },
  {
   "cell_type": "code",
   "execution_count": 27,
   "metadata": {
    "scrolled": true
   },
   "outputs": [
    {
     "name": "stdout",
     "output_type": "stream",
     "text": [
      "2020-06-10 12:21:51,856 - june.simulator - INFO - Starting group_dynamics for 70 days at day 0\n",
      "2020-06-10 12:21:51,858 - june.simulator - INFO - starting the loop ..., at 0 days, to run for 70 days\n",
      "2020-06-10 12:21:54,840 - june.simulator - INFO - Date = 2020-03-07 03:00:00, number of deaths =  0, number of infected = 10\n",
      "2020-06-10 12:21:56,318 - june.simulator - INFO - Date = 2020-03-07 06:00:00, number of deaths =  0, number of infected = 10\n",
      "2020-06-10 12:21:56,728 - june.simulator - INFO - Date = 2020-03-07 09:00:00, number of deaths =  0, number of infected = 10\n",
      "2020-06-10 12:21:57,896 - june.simulator - INFO - Date = 2020-03-08 00:00:00, number of deaths =  0, number of infected = 10\n",
      "2020-06-10 12:21:58,916 - june.simulator - INFO - Date = 2020-03-08 03:00:00, number of deaths =  0, number of infected = 10\n",
      "2020-06-10 12:21:59,912 - june.simulator - INFO - Date = 2020-03-08 06:00:00, number of deaths =  0, number of infected = 10\n",
      "2020-06-10 12:22:00,304 - june.simulator - INFO - Date = 2020-03-08 09:00:00, number of deaths =  0, number of infected = 10\n",
      "2020-06-10 12:22:00,750 - june.simulator - INFO - Date = 2020-03-09 00:00:00, number of deaths =  0, number of infected = 10\n",
      "2020-06-10 12:22:01,188 - june.simulator - INFO - Date = 2020-03-09 01:00:00, number of deaths =  0, number of infected = 10\n",
      "2020-06-10 12:22:01,541 - june.simulator - INFO - Date = 2020-03-09 09:00:00, number of deaths =  0, number of infected = 10\n",
      "2020-06-10 12:22:02,367 - june.simulator - INFO - Date = 2020-03-09 10:00:00, number of deaths =  0, number of infected = 10\n",
      "2020-06-10 12:22:02,875 - june.simulator - INFO - Date = 2020-03-09 13:00:00, number of deaths =  0, number of infected = 10\n",
      "2020-06-10 12:22:03,288 - june.simulator - INFO - Date = 2020-03-10 00:00:00, number of deaths =  0, number of infected = 10\n",
      "2020-06-10 12:22:03,772 - june.simulator - INFO - Date = 2020-03-10 01:00:00, number of deaths =  0, number of infected = 10\n",
      "2020-06-10 12:22:04,106 - june.simulator - INFO - Date = 2020-03-10 09:00:00, number of deaths =  0, number of infected = 10\n",
      "2020-06-10 12:22:05,143 - june.simulator - INFO - Date = 2020-03-10 10:00:00, number of deaths =  0, number of infected = 10\n",
      "2020-06-10 12:22:05,500 - june.simulator - INFO - Date = 2020-03-10 13:00:00, number of deaths =  0, number of infected = 10\n",
      "2020-06-10 12:22:05,947 - june.simulator - INFO - Date = 2020-03-11 00:00:00, number of deaths =  0, number of infected = 10\n",
      "2020-06-10 12:22:06,381 - june.simulator - INFO - Date = 2020-03-11 01:00:00, number of deaths =  0, number of infected = 10\n",
      "2020-06-10 12:22:06,697 - june.simulator - INFO - Date = 2020-03-11 09:00:00, number of deaths =  0, number of infected = 13\n",
      "2020-06-10 12:22:07,608 - june.simulator - INFO - Date = 2020-03-11 10:00:00, number of deaths =  0, number of infected = 15\n",
      "2020-06-10 12:22:08,058 - june.simulator - INFO - Date = 2020-03-11 13:00:00, number of deaths =  0, number of infected = 15\n",
      "2020-06-10 12:22:08,535 - june.simulator - INFO - Date = 2020-03-12 00:00:00, number of deaths =  0, number of infected = 17\n",
      "2020-06-10 12:22:08,987 - june.simulator - INFO - Date = 2020-03-12 01:00:00, number of deaths =  0, number of infected = 17\n",
      "2020-06-10 12:22:09,333 - june.simulator - INFO - Date = 2020-03-12 09:00:00, number of deaths =  0, number of infected = 20\n",
      "2020-06-10 12:22:10,103 - june.simulator - INFO - Date = 2020-03-12 10:00:00, number of deaths =  0, number of infected = 20\n",
      "2020-06-10 12:22:10,450 - june.simulator - INFO - Date = 2020-03-12 13:00:00, number of deaths =  0, number of infected = 20\n",
      "2020-06-10 12:22:10,921 - june.simulator - INFO - Date = 2020-03-13 00:00:00, number of deaths =  0, number of infected = 24\n",
      "2020-06-10 12:22:11,349 - june.simulator - INFO - Date = 2020-03-13 01:00:00, number of deaths =  0, number of infected = 25\n",
      "2020-06-10 12:22:11,675 - june.simulator - INFO - Date = 2020-03-13 09:00:00, number of deaths =  0, number of infected = 27\n",
      "2020-06-10 12:22:12,365 - june.simulator - INFO - Date = 2020-03-13 10:00:00, number of deaths =  0, number of infected = 28\n",
      "2020-06-10 12:22:12,771 - june.simulator - INFO - Date = 2020-03-13 13:00:00, number of deaths =  0, number of infected = 28\n",
      "2020-06-10 12:22:13,679 - june.simulator - INFO - Date = 2020-03-14 00:00:00, number of deaths =  0, number of infected = 33\n",
      "2020-06-10 12:22:14,517 - june.simulator - INFO - Date = 2020-03-14 03:00:00, number of deaths =  0, number of infected = 34\n",
      "2020-06-10 12:22:15,370 - june.simulator - INFO - Date = 2020-03-14 06:00:00, number of deaths =  0, number of infected = 35\n",
      "2020-06-10 12:22:15,776 - june.simulator - INFO - Date = 2020-03-14 09:00:00, number of deaths =  0, number of infected = 37\n",
      "2020-06-10 12:22:16,584 - june.simulator - INFO - Date = 2020-03-15 00:00:00, number of deaths =  0, number of infected = 42\n",
      "2020-06-10 12:22:17,347 - june.simulator - INFO - Date = 2020-03-15 03:00:00, number of deaths =  0, number of infected = 44\n",
      "2020-06-10 12:22:18,041 - june.simulator - INFO - Date = 2020-03-15 06:00:00, number of deaths =  0, number of infected = 44\n",
      "2020-06-10 12:22:18,407 - june.simulator - INFO - Date = 2020-03-15 09:00:00, number of deaths =  0, number of infected = 44\n",
      "2020-06-10 12:22:18,841 - june.simulator - INFO - Date = 2020-03-16 00:00:00, number of deaths =  0, number of infected = 54\n",
      "2020-06-10 12:22:19,324 - june.simulator - INFO - Date = 2020-03-16 01:00:00, number of deaths =  0, number of infected = 54\n",
      "2020-06-10 12:22:19,696 - june.simulator - INFO - Date = 2020-03-16 09:00:00, number of deaths =  0, number of infected = 75\n",
      "2020-06-10 12:22:20,385 - june.simulator - INFO - Date = 2020-03-16 10:00:00, number of deaths =  0, number of infected = 75\n",
      "2020-06-10 12:22:20,744 - june.simulator - INFO - Date = 2020-03-16 13:00:00, number of deaths =  0, number of infected = 76\n",
      "2020-06-10 12:22:21,200 - june.simulator - INFO - Date = 2020-03-17 00:00:00, number of deaths =  0, number of infected = 80\n",
      "2020-06-10 12:22:21,623 - june.simulator - INFO - Date = 2020-03-17 01:00:00, number of deaths =  0, number of infected = 82\n",
      "2020-06-10 12:22:21,985 - june.simulator - INFO - Date = 2020-03-17 09:00:00, number of deaths =  0, number of infected = 98\n",
      "2020-06-10 12:22:22,619 - june.simulator - INFO - Date = 2020-03-17 10:00:00, number of deaths =  0, number of infected = 101\n",
      "2020-06-10 12:22:23,005 - june.simulator - INFO - Date = 2020-03-17 13:00:00, number of deaths =  0, number of infected = 102\n",
      "2020-06-10 12:22:23,475 - june.simulator - INFO - Date = 2020-03-18 00:00:00, number of deaths =  0, number of infected = 107\n",
      "2020-06-10 12:22:23,960 - june.simulator - INFO - Date = 2020-03-18 01:00:00, number of deaths =  0, number of infected = 108\n",
      "2020-06-10 12:22:24,335 - june.simulator - INFO - Date = 2020-03-18 09:00:00, number of deaths =  0, number of infected = 122\n",
      "2020-06-10 12:22:25,011 - june.simulator - INFO - Date = 2020-03-18 10:00:00, number of deaths =  0, number of infected = 123\n",
      "2020-06-10 12:22:25,421 - june.simulator - INFO - Date = 2020-03-18 13:00:00, number of deaths =  0, number of infected = 126\n",
      "2020-06-10 12:22:25,872 - june.simulator - INFO - Date = 2020-03-19 00:00:00, number of deaths =  0, number of infected = 128\n",
      "2020-06-10 12:22:26,299 - june.simulator - INFO - Date = 2020-03-19 01:00:00, number of deaths =  0, number of infected = 131\n",
      "2020-06-10 12:22:26,671 - june.simulator - INFO - Date = 2020-03-19 09:00:00, number of deaths =  0, number of infected = 154\n",
      "2020-06-10 12:22:27,318 - june.simulator - INFO - Date = 2020-03-19 10:00:00, number of deaths =  0, number of infected = 156\n",
      "2020-06-10 12:22:27,672 - june.simulator - INFO - Date = 2020-03-19 13:00:00, number of deaths =  0, number of infected = 157\n",
      "2020-06-10 12:22:28,121 - june.simulator - INFO - Date = 2020-03-20 00:00:00, number of deaths =  0, number of infected = 170\n",
      "2020-06-10 12:22:28,568 - june.simulator - INFO - Date = 2020-03-20 01:00:00, number of deaths =  0, number of infected = 171\n",
      "2020-06-10 12:22:28,953 - june.simulator - INFO - Date = 2020-03-20 09:00:00, number of deaths =  0, number of infected = 184\n",
      "2020-06-10 12:22:29,686 - june.simulator - INFO - Date = 2020-03-20 10:00:00, number of deaths =  0, number of infected = 187\n"
     ]
    },
    {
     "name": "stdout",
     "output_type": "stream",
     "text": [
      "2020-06-10 12:22:30,071 - june.simulator - INFO - Date = 2020-03-20 13:00:00, number of deaths =  0, number of infected = 190\n",
      "2020-06-10 12:22:30,844 - june.simulator - INFO - Date = 2020-03-21 00:00:00, number of deaths =  0, number of infected = 209\n",
      "2020-06-10 12:22:31,483 - june.simulator - INFO - Date = 2020-03-21 03:00:00, number of deaths =  0, number of infected = 216\n",
      "2020-06-10 12:22:32,108 - june.simulator - INFO - Date = 2020-03-21 06:00:00, number of deaths =  0, number of infected = 222\n",
      "2020-06-10 12:22:32,470 - june.simulator - INFO - Date = 2020-03-21 09:00:00, number of deaths =  0, number of infected = 225\n",
      "2020-06-10 12:22:33,159 - june.simulator - INFO - Date = 2020-03-22 00:00:00, number of deaths =  0, number of infected = 257\n",
      "2020-06-10 12:22:33,640 - june.simulator - INFO - Date = 2020-03-22 03:00:00, number of deaths =  0, number of infected = 262\n",
      "2020-06-10 12:22:34,218 - june.simulator - INFO - Date = 2020-03-22 06:00:00, number of deaths =  0, number of infected = 264\n",
      "2020-06-10 12:22:34,577 - june.simulator - INFO - Date = 2020-03-22 09:00:00, number of deaths =  0, number of infected = 268\n",
      "2020-06-10 12:22:34,949 - june.simulator - INFO - Date = 2020-03-23 00:00:00, number of deaths =  0, number of infected = 307\n",
      "2020-06-10 12:22:35,350 - june.simulator - INFO - Date = 2020-03-23 01:00:00, number of deaths =  0, number of infected = 309\n",
      "2020-06-10 12:22:35,760 - june.simulator - INFO - Date = 2020-03-23 09:00:00, number of deaths =  0, number of infected = 357\n",
      "2020-06-10 12:22:36,222 - june.simulator - INFO - Date = 2020-03-23 10:00:00, number of deaths =  0, number of infected = 359\n",
      "2020-06-10 12:22:36,486 - june.simulator - INFO - Date = 2020-03-23 13:00:00, number of deaths =  0, number of infected = 361\n",
      "2020-06-10 12:22:36,843 - june.simulator - INFO - Date = 2020-03-24 00:00:00, number of deaths =  0, number of infected = 396\n",
      "2020-06-10 12:22:37,305 - june.simulator - INFO - Date = 2020-03-24 01:00:00, number of deaths =  0, number of infected = 398\n",
      "2020-06-10 12:22:37,703 - june.simulator - INFO - Date = 2020-03-24 09:00:00, number of deaths =  0, number of infected = 451\n",
      "2020-06-10 12:22:38,225 - june.simulator - INFO - Date = 2020-03-24 10:00:00, number of deaths =  0, number of infected = 453\n",
      "2020-06-10 12:22:38,552 - june.simulator - INFO - Date = 2020-03-24 13:00:00, number of deaths =  0, number of infected = 456\n",
      "2020-06-10 12:22:39,022 - june.simulator - INFO - Date = 2020-03-25 00:00:00, number of deaths =  0, number of infected = 470\n",
      "2020-06-10 12:22:39,484 - june.simulator - INFO - Date = 2020-03-25 01:00:00, number of deaths =  0, number of infected = 472\n",
      "2020-06-10 12:22:39,875 - june.simulator - INFO - Date = 2020-03-25 09:00:00, number of deaths =  0, number of infected = 512\n",
      "2020-06-10 12:22:40,626 - june.simulator - INFO - Date = 2020-03-25 10:00:00, number of deaths =  0, number of infected = 513\n",
      "2020-06-10 12:22:40,990 - june.simulator - INFO - Date = 2020-03-25 13:00:00, number of deaths =  0, number of infected = 519\n",
      "2020-06-10 12:22:41,368 - june.simulator - INFO - Date = 2020-03-26 00:00:00, number of deaths =  0, number of infected = 528\n",
      "2020-06-10 12:22:41,739 - june.simulator - INFO - Date = 2020-03-26 01:00:00, number of deaths =  0, number of infected = 529\n",
      "2020-06-10 12:22:42,031 - june.simulator - INFO - Date = 2020-03-26 09:00:00, number of deaths =  0, number of infected = 592\n",
      "2020-06-10 12:22:42,504 - june.simulator - INFO - Date = 2020-03-26 10:00:00, number of deaths =  0, number of infected = 598\n",
      "2020-06-10 12:22:42,775 - june.simulator - INFO - Date = 2020-03-26 13:00:00, number of deaths =  0, number of infected = 602\n",
      "2020-06-10 12:22:43,163 - june.simulator - INFO - Date = 2020-03-27 00:00:00, number of deaths =  0, number of infected = 634\n",
      "2020-06-10 12:22:43,527 - june.simulator - INFO - Date = 2020-03-27 01:00:00, number of deaths =  0, number of infected = 637\n",
      "2020-06-10 12:22:43,876 - june.simulator - INFO - Date = 2020-03-27 09:00:00, number of deaths =  0, number of infected = 740\n",
      "2020-06-10 12:22:44,365 - june.simulator - INFO - Date = 2020-03-27 10:00:00, number of deaths =  0, number of infected = 751\n",
      "2020-06-10 12:22:44,651 - june.simulator - INFO - Date = 2020-03-27 13:00:00, number of deaths =  0, number of infected = 757\n",
      "2020-06-10 12:22:45,187 - june.simulator - INFO - Date = 2020-03-28 00:00:00, number of deaths =  0, number of infected = 811\n",
      "2020-06-10 12:22:45,621 - june.simulator - INFO - Date = 2020-03-28 03:00:00, number of deaths =  0, number of infected = 814\n",
      "2020-06-10 12:22:46,045 - june.simulator - INFO - Date = 2020-03-28 06:00:00, number of deaths =  0, number of infected = 829\n",
      "2020-06-10 12:22:46,366 - june.simulator - INFO - Date = 2020-03-28 09:00:00, number of deaths =  0, number of infected = 838\n",
      "2020-06-10 12:22:46,881 - june.simulator - INFO - Date = 2020-03-29 00:00:00, number of deaths =  0, number of infected = 913\n",
      "2020-06-10 12:22:47,610 - june.simulator - INFO - Date = 2020-03-29 03:00:00, number of deaths =  0, number of infected = 918\n",
      "2020-06-10 12:22:48,115 - june.simulator - INFO - Date = 2020-03-29 06:00:00, number of deaths =  0, number of infected = 927\n",
      "2020-06-10 12:22:48,467 - june.simulator - INFO - Date = 2020-03-29 09:00:00, number of deaths =  0, number of infected = 933\n",
      "2020-06-10 12:22:48,985 - june.simulator - INFO - Date = 2020-03-30 00:00:00, number of deaths =  0, number of infected = 1034\n",
      "2020-06-10 12:22:49,458 - june.simulator - INFO - Date = 2020-03-30 01:00:00, number of deaths =  0, number of infected = 1042\n",
      "2020-06-10 12:22:49,896 - june.simulator - INFO - Date = 2020-03-30 09:00:00, number of deaths =  0, number of infected = 1210\n",
      "2020-06-10 12:22:50,462 - june.simulator - INFO - Date = 2020-03-30 10:00:00, number of deaths =  0, number of infected = 1220\n",
      "2020-06-10 12:22:50,826 - june.simulator - INFO - Date = 2020-03-30 13:00:00, number of deaths =  0, number of infected = 1224\n",
      "2020-06-10 12:22:51,241 - june.simulator - INFO - Date = 2020-03-31 00:00:00, number of deaths =  0, number of infected = 1343\n",
      "2020-06-10 12:22:51,629 - june.simulator - INFO - Date = 2020-03-31 01:00:00, number of deaths =  0, number of infected = 1350\n",
      "2020-06-10 12:22:52,237 - june.simulator - INFO - Date = 2020-03-31 09:00:00, number of deaths =  0, number of infected = 1508\n",
      "2020-06-10 12:22:52,779 - june.simulator - INFO - Date = 2020-03-31 10:00:00, number of deaths =  0, number of infected = 1518\n",
      "2020-06-10 12:22:53,275 - june.simulator - INFO - Date = 2020-03-31 13:00:00, number of deaths =  0, number of infected = 1536\n",
      "2020-06-10 12:22:53,759 - june.simulator - INFO - Date = 2020-04-01 00:00:00, number of deaths =  0, number of infected = 1626\n",
      "2020-06-10 12:22:54,200 - june.simulator - INFO - Date = 2020-04-01 01:00:00, number of deaths =  0, number of infected = 1631\n",
      "2020-06-10 12:22:54,675 - june.simulator - INFO - Date = 2020-04-01 09:00:00, number of deaths =  0, number of infected = 1925\n",
      "2020-06-10 12:22:55,210 - june.simulator - INFO - Date = 2020-04-01 10:00:00, number of deaths =  0, number of infected = 1934\n",
      "2020-06-10 12:22:55,548 - june.simulator - INFO - Date = 2020-04-01 13:00:00, number of deaths =  0, number of infected = 1948\n",
      "2020-06-10 12:22:56,030 - june.simulator - INFO - Date = 2020-04-02 00:00:00, number of deaths =  0, number of infected = 2039\n",
      "2020-06-10 12:22:56,497 - june.simulator - INFO - Date = 2020-04-02 01:00:00, number of deaths =  0, number of infected = 2042\n",
      "2020-06-10 12:22:56,966 - june.simulator - INFO - Date = 2020-04-02 09:00:00, number of deaths =  0, number of infected = 2361\n",
      "2020-06-10 12:22:57,515 - june.simulator - INFO - Date = 2020-04-02 10:00:00, number of deaths =  0, number of infected = 2382\n",
      "2020-06-10 12:22:57,879 - june.simulator - INFO - Date = 2020-04-02 13:00:00, number of deaths =  0, number of infected = 2398\n",
      "2020-06-10 12:22:58,392 - june.simulator - INFO - Date = 2020-04-03 00:00:00, number of deaths =  0, number of infected = 2528\n",
      "2020-06-10 12:22:58,854 - june.simulator - INFO - Date = 2020-04-03 01:00:00, number of deaths =  0, number of infected = 2546\n",
      "2020-06-10 12:22:59,374 - june.simulator - INFO - Date = 2020-04-03 09:00:00, number of deaths =  0, number of infected = 2982\n"
     ]
    },
    {
     "name": "stdout",
     "output_type": "stream",
     "text": [
      "2020-06-10 12:22:59,949 - june.simulator - INFO - Date = 2020-04-03 10:00:00, number of deaths =  0, number of infected = 2999\n",
      "2020-06-10 12:23:00,310 - june.simulator - INFO - Date = 2020-04-03 13:00:00, number of deaths =  0, number of infected = 3016\n",
      "2020-06-10 12:23:00,966 - june.simulator - INFO - Date = 2020-04-04 00:00:00, number of deaths =  0, number of infected = 3190\n",
      "2020-06-10 12:23:01,467 - june.simulator - INFO - Date = 2020-04-04 03:00:00, number of deaths =  0, number of infected = 3216\n",
      "2020-06-10 12:23:02,056 - june.simulator - INFO - Date = 2020-04-04 06:00:00, number of deaths =  1, number of infected = 3236\n",
      "2020-06-10 12:23:02,373 - june.simulator - INFO - Date = 2020-04-04 09:00:00, number of deaths =  1, number of infected = 3264\n",
      "2020-06-10 12:23:02,984 - june.simulator - INFO - Date = 2020-04-05 00:00:00, number of deaths =  1, number of infected = 3603\n",
      "2020-06-10 12:23:03,393 - june.simulator - INFO - Date = 2020-04-05 03:00:00, number of deaths =  1, number of infected = 3637\n",
      "2020-06-10 12:23:03,832 - june.simulator - INFO - Date = 2020-04-05 06:00:00, number of deaths =  1, number of infected = 3673\n",
      "2020-06-10 12:23:04,151 - june.simulator - INFO - Date = 2020-04-05 09:00:00, number of deaths =  1, number of infected = 3699\n",
      "2020-06-10 12:23:04,798 - june.simulator - INFO - Date = 2020-04-06 00:00:00, number of deaths =  1, number of infected = 4151\n",
      "2020-06-10 12:23:05,217 - june.simulator - INFO - Date = 2020-04-06 01:00:00, number of deaths =  1, number of infected = 4192\n",
      "2020-06-10 12:23:05,902 - june.simulator - INFO - Date = 2020-04-06 09:00:00, number of deaths =  1, number of infected = 5206\n",
      "2020-06-10 12:23:06,406 - june.simulator - INFO - Date = 2020-04-06 10:00:00, number of deaths =  1, number of infected = 5247\n",
      "2020-06-10 12:23:06,760 - june.simulator - INFO - Date = 2020-04-06 13:00:00, number of deaths =  1, number of infected = 5298\n",
      "2020-06-10 12:23:07,352 - june.simulator - INFO - Date = 2020-04-07 00:00:00, number of deaths =  1, number of infected = 5717\n",
      "2020-06-10 12:23:07,781 - june.simulator - INFO - Date = 2020-04-07 01:00:00, number of deaths =  1, number of infected = 5746\n",
      "2020-06-10 12:23:08,408 - june.simulator - INFO - Date = 2020-04-07 09:00:00, number of deaths =  1, number of infected = 6630\n",
      "2020-06-10 12:23:08,935 - june.simulator - INFO - Date = 2020-04-07 10:00:00, number of deaths =  1, number of infected = 6666\n",
      "2020-06-10 12:23:09,304 - june.simulator - INFO - Date = 2020-04-07 13:00:00, number of deaths =  1, number of infected = 6708\n",
      "2020-06-10 12:23:09,863 - june.simulator - INFO - Date = 2020-04-08 00:00:00, number of deaths =  1, number of infected = 7039\n",
      "2020-06-10 12:23:10,316 - june.simulator - INFO - Date = 2020-04-08 01:00:00, number of deaths =  1, number of infected = 7065\n",
      "2020-06-10 12:23:10,957 - june.simulator - INFO - Date = 2020-04-08 09:00:00, number of deaths =  1, number of infected = 7829\n",
      "2020-06-10 12:23:11,502 - june.simulator - INFO - Date = 2020-04-08 10:00:00, number of deaths =  1, number of infected = 7847\n",
      "2020-06-10 12:23:11,855 - june.simulator - INFO - Date = 2020-04-08 13:00:00, number of deaths =  1, number of infected = 7880\n",
      "2020-06-10 12:23:12,378 - june.simulator - INFO - Date = 2020-04-09 00:00:00, number of deaths =  1, number of infected = 8082\n",
      "2020-06-10 12:23:13,381 - june.simulator - INFO - Date = 2020-04-09 01:00:00, number of deaths =  1, number of infected = 8112\n",
      "2020-06-10 12:23:14,177 - june.simulator - INFO - Date = 2020-04-09 09:00:00, number of deaths =  1, number of infected = 9002\n",
      "2020-06-10 12:23:14,784 - june.simulator - INFO - Date = 2020-04-09 10:00:00, number of deaths =  1, number of infected = 9048\n",
      "2020-06-10 12:23:15,227 - june.simulator - INFO - Date = 2020-04-09 13:00:00, number of deaths =  1, number of infected = 9104\n",
      "2020-06-10 12:23:15,904 - june.simulator - INFO - Date = 2020-04-10 00:00:00, number of deaths =  1, number of infected = 9593\n",
      "2020-06-10 12:23:16,462 - june.simulator - INFO - Date = 2020-04-10 01:00:00, number of deaths =  1, number of infected = 9651\n",
      "2020-06-10 12:23:17,315 - june.simulator - INFO - Date = 2020-04-10 09:00:00, number of deaths =  1, number of infected = 10586\n",
      "2020-06-10 12:23:17,950 - june.simulator - INFO - Date = 2020-04-10 10:00:00, number of deaths =  1, number of infected = 10653\n",
      "2020-06-10 12:23:18,363 - june.simulator - INFO - Date = 2020-04-10 13:00:00, number of deaths =  1, number of infected = 10719\n",
      "2020-06-10 12:23:19,154 - june.simulator - INFO - Date = 2020-04-11 00:00:00, number of deaths =  1, number of infected = 11255\n",
      "2020-06-10 12:23:19,748 - june.simulator - INFO - Date = 2020-04-11 03:00:00, number of deaths =  1, number of infected = 11323\n",
      "2020-06-10 12:23:20,342 - june.simulator - INFO - Date = 2020-04-11 06:00:00, number of deaths =  1, number of infected = 11399\n",
      "2020-06-10 12:23:20,826 - june.simulator - INFO - Date = 2020-04-11 09:00:00, number of deaths =  1, number of infected = 11471\n",
      "2020-06-10 12:23:21,708 - june.simulator - INFO - Date = 2020-04-12 00:00:00, number of deaths =  2, number of infected = 12262\n",
      "2020-06-10 12:23:22,286 - june.simulator - INFO - Date = 2020-04-12 03:00:00, number of deaths =  2, number of infected = 12328\n",
      "2020-06-10 12:23:22,907 - june.simulator - INFO - Date = 2020-04-12 06:00:00, number of deaths =  3, number of infected = 12378\n",
      "2020-06-10 12:23:23,451 - june.simulator - INFO - Date = 2020-04-12 09:00:00, number of deaths =  3, number of infected = 12435\n",
      "2020-06-10 12:23:24,424 - june.simulator - INFO - Date = 2020-04-13 00:00:00, number of deaths =  3, number of infected = 13221\n",
      "2020-06-10 12:23:25,033 - june.simulator - INFO - Date = 2020-04-13 01:00:00, number of deaths =  3, number of infected = 13277\n",
      "2020-06-10 12:23:26,072 - june.simulator - INFO - Date = 2020-04-13 09:00:00, number of deaths =  3, number of infected = 14391\n",
      "2020-06-10 12:23:26,718 - june.simulator - INFO - Date = 2020-04-13 10:00:00, number of deaths =  3, number of infected = 14449\n",
      "2020-06-10 12:23:27,239 - june.simulator - INFO - Date = 2020-04-13 13:00:00, number of deaths =  3, number of infected = 14507\n",
      "2020-06-10 12:23:27,923 - june.simulator - INFO - Date = 2020-04-14 00:00:00, number of deaths =  3, number of infected = 15047\n",
      "2020-06-10 12:23:28,581 - june.simulator - INFO - Date = 2020-04-14 01:00:00, number of deaths =  3, number of infected = 15096\n",
      "2020-06-10 12:23:29,389 - june.simulator - INFO - Date = 2020-04-14 09:00:00, number of deaths =  3, number of infected = 15997\n",
      "2020-06-10 12:23:29,978 - june.simulator - INFO - Date = 2020-04-14 10:00:00, number of deaths =  3, number of infected = 16025\n",
      "2020-06-10 12:23:30,457 - june.simulator - INFO - Date = 2020-04-14 13:00:00, number of deaths =  3, number of infected = 16064\n",
      "2020-06-10 12:23:31,179 - june.simulator - INFO - Date = 2020-04-15 00:00:00, number of deaths =  3, number of infected = 16381\n",
      "2020-06-10 12:23:31,758 - june.simulator - INFO - Date = 2020-04-15 01:00:00, number of deaths =  3, number of infected = 16408\n",
      "2020-06-10 12:23:32,596 - june.simulator - INFO - Date = 2020-04-15 09:00:00, number of deaths =  3, number of infected = 17156\n",
      "2020-06-10 12:23:33,244 - june.simulator - INFO - Date = 2020-04-15 10:00:00, number of deaths =  3, number of infected = 17177\n",
      "2020-06-10 12:23:33,860 - june.simulator - INFO - Date = 2020-04-15 13:00:00, number of deaths =  3, number of infected = 17232\n",
      "2020-06-10 12:23:34,566 - june.simulator - INFO - Date = 2020-04-16 00:00:00, number of deaths =  4, number of infected = 17365\n",
      "2020-06-10 12:23:35,156 - june.simulator - INFO - Date = 2020-04-16 01:00:00, number of deaths =  4, number of infected = 17383\n",
      "2020-06-10 12:23:36,079 - june.simulator - INFO - Date = 2020-04-16 09:00:00, number of deaths =  4, number of infected = 17984\n",
      "2020-06-10 12:23:36,735 - june.simulator - INFO - Date = 2020-04-16 10:00:00, number of deaths =  4, number of infected = 18013\n",
      "2020-06-10 12:23:37,273 - june.simulator - INFO - Date = 2020-04-16 13:00:00, number of deaths =  4, number of infected = 18056\n",
      "2020-06-10 12:23:37,954 - june.simulator - INFO - Date = 2020-04-17 00:00:00, number of deaths =  4, number of infected = 18291\n",
      "2020-06-10 12:23:38,547 - june.simulator - INFO - Date = 2020-04-17 01:00:00, number of deaths =  4, number of infected = 18311\n"
     ]
    },
    {
     "name": "stdout",
     "output_type": "stream",
     "text": [
      "2020-06-10 12:23:39,290 - june.simulator - INFO - Date = 2020-04-17 09:00:00, number of deaths =  6, number of infected = 18798\n",
      "2020-06-10 12:23:39,916 - june.simulator - INFO - Date = 2020-04-17 10:00:00, number of deaths =  6, number of infected = 18824\n",
      "2020-06-10 12:23:40,487 - june.simulator - INFO - Date = 2020-04-17 13:00:00, number of deaths =  7, number of infected = 18868\n",
      "2020-06-10 12:23:41,229 - june.simulator - INFO - Date = 2020-04-18 00:00:00, number of deaths =  7, number of infected = 19028\n",
      "2020-06-10 12:23:41,764 - june.simulator - INFO - Date = 2020-04-18 03:00:00, number of deaths =  7, number of infected = 19061\n",
      "2020-06-10 12:23:42,311 - june.simulator - INFO - Date = 2020-04-18 06:00:00, number of deaths =  7, number of infected = 19093\n",
      "2020-06-10 12:23:42,799 - june.simulator - INFO - Date = 2020-04-18 09:00:00, number of deaths =  7, number of infected = 19132\n",
      "2020-06-10 12:23:43,498 - june.simulator - INFO - Date = 2020-04-19 00:00:00, number of deaths =  8, number of infected = 19397\n",
      "2020-06-10 12:23:44,013 - june.simulator - INFO - Date = 2020-04-19 03:00:00, number of deaths =  8, number of infected = 19403\n",
      "2020-06-10 12:23:44,518 - june.simulator - INFO - Date = 2020-04-19 06:00:00, number of deaths =  8, number of infected = 19410\n",
      "2020-06-10 12:23:45,006 - june.simulator - INFO - Date = 2020-04-19 09:00:00, number of deaths =  8, number of infected = 19415\n",
      "2020-06-10 12:23:45,920 - june.simulator - INFO - Date = 2020-04-20 00:00:00, number of deaths =  9, number of infected = 19598\n",
      "2020-06-10 12:23:46,434 - june.simulator - INFO - Date = 2020-04-20 01:00:00, number of deaths =  9, number of infected = 19613\n",
      "2020-06-10 12:23:47,096 - june.simulator - INFO - Date = 2020-04-20 09:00:00, number of deaths =  9, number of infected = 19916\n",
      "2020-06-10 12:23:47,645 - june.simulator - INFO - Date = 2020-04-20 10:00:00, number of deaths =  9, number of infected = 19924\n",
      "2020-06-10 12:23:48,117 - june.simulator - INFO - Date = 2020-04-20 13:00:00, number of deaths =  9, number of infected = 19946\n",
      "2020-06-10 12:23:48,713 - june.simulator - INFO - Date = 2020-04-21 00:00:00, number of deaths =  9, number of infected = 20009\n",
      "2020-06-10 12:23:49,224 - june.simulator - INFO - Date = 2020-04-21 01:00:00, number of deaths =  9, number of infected = 20004\n",
      "2020-06-10 12:23:49,818 - june.simulator - INFO - Date = 2020-04-21 09:00:00, number of deaths =  9, number of infected = 20155\n",
      "2020-06-10 12:23:50,356 - june.simulator - INFO - Date = 2020-04-21 10:00:00, number of deaths =  11, number of infected = 20150\n",
      "2020-06-10 12:23:50,869 - june.simulator - INFO - Date = 2020-04-21 13:00:00, number of deaths =  11, number of infected = 20146\n",
      "2020-06-10 12:23:51,408 - june.simulator - INFO - Date = 2020-04-22 00:00:00, number of deaths =  15, number of infected = 20060\n",
      "2020-06-10 12:23:51,955 - june.simulator - INFO - Date = 2020-04-22 01:00:00, number of deaths =  15, number of infected = 20057\n",
      "2020-06-10 12:23:52,509 - june.simulator - INFO - Date = 2020-04-22 09:00:00, number of deaths =  18, number of infected = 20100\n",
      "2020-06-10 12:23:53,081 - june.simulator - INFO - Date = 2020-04-22 10:00:00, number of deaths =  18, number of infected = 20085\n",
      "2020-06-10 12:23:53,601 - june.simulator - INFO - Date = 2020-04-22 13:00:00, number of deaths =  20, number of infected = 20070\n",
      "2020-06-10 12:23:54,178 - june.simulator - INFO - Date = 2020-04-23 00:00:00, number of deaths =  21, number of infected = 19929\n",
      "2020-06-10 12:23:54,711 - june.simulator - INFO - Date = 2020-04-23 01:00:00, number of deaths =  21, number of infected = 19905\n",
      "2020-06-10 12:23:55,237 - june.simulator - INFO - Date = 2020-04-23 09:00:00, number of deaths =  23, number of infected = 19804\n",
      "2020-06-10 12:23:55,760 - june.simulator - INFO - Date = 2020-04-23 10:00:00, number of deaths =  24, number of infected = 19792\n",
      "2020-06-10 12:23:56,304 - june.simulator - INFO - Date = 2020-04-23 13:00:00, number of deaths =  24, number of infected = 19747\n",
      "2020-06-10 12:23:56,918 - june.simulator - INFO - Date = 2020-04-24 00:00:00, number of deaths =  25, number of infected = 19571\n",
      "2020-06-10 12:23:57,425 - june.simulator - INFO - Date = 2020-04-24 01:00:00, number of deaths =  25, number of infected = 19563\n",
      "2020-06-10 12:23:57,972 - june.simulator - INFO - Date = 2020-04-24 09:00:00, number of deaths =  26, number of infected = 19410\n",
      "2020-06-10 12:23:58,551 - june.simulator - INFO - Date = 2020-04-24 10:00:00, number of deaths =  26, number of infected = 19392\n",
      "2020-06-10 12:23:59,015 - june.simulator - INFO - Date = 2020-04-24 13:00:00, number of deaths =  27, number of infected = 19366\n",
      "2020-06-10 12:23:59,669 - june.simulator - INFO - Date = 2020-04-25 00:00:00, number of deaths =  28, number of infected = 19143\n",
      "2020-06-10 12:24:00,257 - june.simulator - INFO - Date = 2020-04-25 03:00:00, number of deaths =  28, number of infected = 19082\n",
      "2020-06-10 12:24:00,769 - june.simulator - INFO - Date = 2020-04-25 06:00:00, number of deaths =  28, number of infected = 19017\n",
      "2020-06-10 12:24:01,218 - june.simulator - INFO - Date = 2020-04-25 09:00:00, number of deaths =  29, number of infected = 18964\n",
      "2020-06-10 12:24:01,792 - june.simulator - INFO - Date = 2020-04-26 00:00:00, number of deaths =  31, number of infected = 18608\n",
      "2020-06-10 12:24:02,313 - june.simulator - INFO - Date = 2020-04-26 03:00:00, number of deaths =  32, number of infected = 18531\n",
      "2020-06-10 12:24:02,848 - june.simulator - INFO - Date = 2020-04-26 06:00:00, number of deaths =  32, number of infected = 18451\n",
      "2020-06-10 12:24:03,350 - june.simulator - INFO - Date = 2020-04-26 09:00:00, number of deaths =  34, number of infected = 18361\n",
      "2020-06-10 12:24:03,911 - june.simulator - INFO - Date = 2020-04-27 00:00:00, number of deaths =  35, number of infected = 17960\n",
      "2020-06-10 12:24:04,439 - june.simulator - INFO - Date = 2020-04-27 01:00:00, number of deaths =  36, number of infected = 17938\n",
      "2020-06-10 12:24:05,004 - june.simulator - INFO - Date = 2020-04-27 09:00:00, number of deaths =  36, number of infected = 17734\n",
      "2020-06-10 12:24:05,582 - june.simulator - INFO - Date = 2020-04-27 10:00:00, number of deaths =  36, number of infected = 17706\n",
      "2020-06-10 12:24:06,084 - june.simulator - INFO - Date = 2020-04-27 13:00:00, number of deaths =  36, number of infected = 17629\n",
      "2020-06-10 12:24:06,624 - june.simulator - INFO - Date = 2020-04-28 00:00:00, number of deaths =  38, number of infected = 17285\n",
      "2020-06-10 12:24:07,149 - june.simulator - INFO - Date = 2020-04-28 01:00:00, number of deaths =  38, number of infected = 17237\n",
      "2020-06-10 12:24:07,688 - june.simulator - INFO - Date = 2020-04-28 09:00:00, number of deaths =  38, number of infected = 16977\n",
      "2020-06-10 12:24:08,280 - june.simulator - INFO - Date = 2020-04-28 10:00:00, number of deaths =  38, number of infected = 16938\n",
      "2020-06-10 12:24:08,770 - june.simulator - INFO - Date = 2020-04-28 13:00:00, number of deaths =  39, number of infected = 16840\n",
      "2020-06-10 12:24:09,299 - june.simulator - INFO - Date = 2020-04-29 00:00:00, number of deaths =  41, number of infected = 16450\n",
      "2020-06-10 12:24:09,800 - june.simulator - INFO - Date = 2020-04-29 01:00:00, number of deaths =  42, number of infected = 16412\n",
      "2020-06-10 12:24:10,388 - june.simulator - INFO - Date = 2020-04-29 09:00:00, number of deaths =  42, number of infected = 16111\n",
      "2020-06-10 12:24:10,932 - june.simulator - INFO - Date = 2020-04-29 10:00:00, number of deaths =  42, number of infected = 16070\n",
      "2020-06-10 12:24:11,364 - june.simulator - INFO - Date = 2020-04-29 13:00:00, number of deaths =  42, number of infected = 15977\n",
      "2020-06-10 12:24:11,871 - june.simulator - INFO - Date = 2020-04-30 00:00:00, number of deaths =  43, number of infected = 15602\n",
      "2020-06-10 12:24:12,326 - june.simulator - INFO - Date = 2020-04-30 01:00:00, number of deaths =  43, number of infected = 15563\n",
      "2020-06-10 12:24:12,845 - june.simulator - INFO - Date = 2020-04-30 09:00:00, number of deaths =  43, number of infected = 15259\n",
      "2020-06-10 12:24:13,369 - june.simulator - INFO - Date = 2020-04-30 10:00:00, number of deaths =  43, number of infected = 15228\n",
      "2020-06-10 12:24:13,850 - june.simulator - INFO - Date = 2020-04-30 13:00:00, number of deaths =  43, number of infected = 15129\n"
     ]
    },
    {
     "name": "stdout",
     "output_type": "stream",
     "text": [
      "2020-06-10 12:24:14,366 - june.simulator - INFO - Date = 2020-05-01 00:00:00, number of deaths =  45, number of infected = 14696\n",
      "2020-06-10 12:24:14,862 - june.simulator - INFO - Date = 2020-05-01 01:00:00, number of deaths =  45, number of infected = 14651\n",
      "2020-06-10 12:24:15,363 - june.simulator - INFO - Date = 2020-05-01 09:00:00, number of deaths =  49, number of infected = 14322\n",
      "2020-06-10 12:24:15,885 - june.simulator - INFO - Date = 2020-05-01 10:00:00, number of deaths =  49, number of infected = 14275\n",
      "2020-06-10 12:24:16,359 - june.simulator - INFO - Date = 2020-05-01 13:00:00, number of deaths =  49, number of infected = 14171\n",
      "2020-06-10 12:24:16,899 - june.simulator - INFO - Date = 2020-05-02 00:00:00, number of deaths =  53, number of infected = 13706\n",
      "2020-06-10 12:24:17,408 - june.simulator - INFO - Date = 2020-05-02 03:00:00, number of deaths =  54, number of infected = 13592\n",
      "2020-06-10 12:24:17,891 - june.simulator - INFO - Date = 2020-05-02 06:00:00, number of deaths =  54, number of infected = 13474\n",
      "2020-06-10 12:24:18,333 - june.simulator - INFO - Date = 2020-05-02 09:00:00, number of deaths =  54, number of infected = 13357\n",
      "2020-06-10 12:24:18,835 - june.simulator - INFO - Date = 2020-05-03 00:00:00, number of deaths =  55, number of infected = 12734\n",
      "2020-06-10 12:24:19,299 - june.simulator - INFO - Date = 2020-05-03 03:00:00, number of deaths =  55, number of infected = 12608\n",
      "2020-06-10 12:24:19,773 - june.simulator - INFO - Date = 2020-05-03 06:00:00, number of deaths =  55, number of infected = 12499\n",
      "2020-06-10 12:24:20,218 - june.simulator - INFO - Date = 2020-05-03 09:00:00, number of deaths =  55, number of infected = 12375\n",
      "2020-06-10 12:24:20,671 - june.simulator - INFO - Date = 2020-05-04 00:00:00, number of deaths =  57, number of infected = 11732\n",
      "2020-06-10 12:24:21,147 - june.simulator - INFO - Date = 2020-05-04 01:00:00, number of deaths =  57, number of infected = 11696\n",
      "2020-06-10 12:24:21,591 - june.simulator - INFO - Date = 2020-05-04 09:00:00, number of deaths =  58, number of infected = 11341\n",
      "2020-06-10 12:24:22,080 - june.simulator - INFO - Date = 2020-05-04 10:00:00, number of deaths =  58, number of infected = 11293\n",
      "2020-06-10 12:24:22,499 - june.simulator - INFO - Date = 2020-05-04 13:00:00, number of deaths =  58, number of infected = 11173\n",
      "2020-06-10 12:24:22,960 - june.simulator - INFO - Date = 2020-05-05 00:00:00, number of deaths =  63, number of infected = 10728\n",
      "2020-06-10 12:24:23,382 - june.simulator - INFO - Date = 2020-05-05 01:00:00, number of deaths =  63, number of infected = 10683\n",
      "2020-06-10 12:24:23,781 - june.simulator - INFO - Date = 2020-05-05 09:00:00, number of deaths =  65, number of infected = 10330\n",
      "2020-06-10 12:24:24,253 - june.simulator - INFO - Date = 2020-05-05 10:00:00, number of deaths =  65, number of infected = 10278\n",
      "2020-06-10 12:24:24,617 - june.simulator - INFO - Date = 2020-05-05 13:00:00, number of deaths =  67, number of infected = 10135\n",
      "2020-06-10 12:24:25,108 - june.simulator - INFO - Date = 2020-05-06 00:00:00, number of deaths =  69, number of infected = 9653\n",
      "2020-06-10 12:24:25,671 - june.simulator - INFO - Date = 2020-05-06 01:00:00, number of deaths =  69, number of infected = 9616\n",
      "2020-06-10 12:24:26,078 - june.simulator - INFO - Date = 2020-05-06 09:00:00, number of deaths =  74, number of infected = 9254\n",
      "2020-06-10 12:24:26,479 - june.simulator - INFO - Date = 2020-05-06 10:00:00, number of deaths =  74, number of infected = 9211\n",
      "2020-06-10 12:24:26,860 - june.simulator - INFO - Date = 2020-05-06 13:00:00, number of deaths =  74, number of infected = 9080\n",
      "2020-06-10 12:24:27,267 - june.simulator - INFO - Date = 2020-05-07 00:00:00, number of deaths =  75, number of infected = 8634\n",
      "2020-06-10 12:24:27,660 - june.simulator - INFO - Date = 2020-05-07 01:00:00, number of deaths =  75, number of infected = 8601\n",
      "2020-06-10 12:24:28,031 - june.simulator - INFO - Date = 2020-05-07 09:00:00, number of deaths =  76, number of infected = 8287\n",
      "2020-06-10 12:24:28,487 - june.simulator - INFO - Date = 2020-05-07 10:00:00, number of deaths =  76, number of infected = 8250\n",
      "2020-06-10 12:24:28,836 - june.simulator - INFO - Date = 2020-05-07 13:00:00, number of deaths =  76, number of infected = 8138\n",
      "2020-06-10 12:24:29,247 - june.simulator - INFO - Date = 2020-05-08 00:00:00, number of deaths =  79, number of infected = 7705\n",
      "2020-06-10 12:24:29,655 - june.simulator - INFO - Date = 2020-05-08 01:00:00, number of deaths =  79, number of infected = 7659\n",
      "2020-06-10 12:24:30,052 - june.simulator - INFO - Date = 2020-05-08 09:00:00, number of deaths =  80, number of infected = 7358\n",
      "2020-06-10 12:24:30,488 - june.simulator - INFO - Date = 2020-05-08 10:00:00, number of deaths =  80, number of infected = 7324\n",
      "2020-06-10 12:24:30,827 - june.simulator - INFO - Date = 2020-05-08 13:00:00, number of deaths =  80, number of infected = 7205\n",
      "2020-06-10 12:24:31,251 - june.simulator - INFO - Date = 2020-05-09 00:00:00, number of deaths =  82, number of infected = 6799\n",
      "2020-06-10 12:24:31,644 - june.simulator - INFO - Date = 2020-05-09 03:00:00, number of deaths =  82, number of infected = 6678\n",
      "2020-06-10 12:24:32,059 - june.simulator - INFO - Date = 2020-05-09 06:00:00, number of deaths =  82, number of infected = 6574\n",
      "2020-06-10 12:24:32,359 - june.simulator - INFO - Date = 2020-05-09 09:00:00, number of deaths =  82, number of infected = 6473\n",
      "2020-06-10 12:24:32,772 - june.simulator - INFO - Date = 2020-05-10 00:00:00, number of deaths =  82, number of infected = 5962\n",
      "2020-06-10 12:24:33,112 - june.simulator - INFO - Date = 2020-05-10 03:00:00, number of deaths =  82, number of infected = 5856\n",
      "2020-06-10 12:24:33,451 - june.simulator - INFO - Date = 2020-05-10 06:00:00, number of deaths =  82, number of infected = 5758\n",
      "2020-06-10 12:24:33,764 - june.simulator - INFO - Date = 2020-05-10 09:00:00, number of deaths =  83, number of infected = 5670\n",
      "2020-06-10 12:24:34,116 - june.simulator - INFO - Date = 2020-05-11 00:00:00, number of deaths =  86, number of infected = 5209\n",
      "2020-06-10 12:24:34,454 - june.simulator - INFO - Date = 2020-05-11 01:00:00, number of deaths =  86, number of infected = 5191\n",
      "2020-06-10 12:24:34,798 - june.simulator - INFO - Date = 2020-05-11 09:00:00, number of deaths =  90, number of infected = 4940\n",
      "2020-06-10 12:24:35,208 - june.simulator - INFO - Date = 2020-05-11 10:00:00, number of deaths =  90, number of infected = 4910\n",
      "2020-06-10 12:24:35,507 - june.simulator - INFO - Date = 2020-05-11 13:00:00, number of deaths =  91, number of infected = 4815\n",
      "2020-06-10 12:24:35,878 - june.simulator - INFO - Date = 2020-05-12 00:00:00, number of deaths =  92, number of infected = 4506\n",
      "2020-06-10 12:24:36,214 - june.simulator - INFO - Date = 2020-05-12 01:00:00, number of deaths =  92, number of infected = 4483\n",
      "2020-06-10 12:24:36,561 - june.simulator - INFO - Date = 2020-05-12 09:00:00, number of deaths =  95, number of infected = 4269\n",
      "2020-06-10 12:24:36,961 - june.simulator - INFO - Date = 2020-05-12 10:00:00, number of deaths =  95, number of infected = 4243\n",
      "2020-06-10 12:24:37,266 - june.simulator - INFO - Date = 2020-05-12 13:00:00, number of deaths =  95, number of infected = 4156\n",
      "2020-06-10 12:24:37,630 - june.simulator - INFO - Date = 2020-05-13 00:00:00, number of deaths =  97, number of infected = 3854\n",
      "2020-06-10 12:24:37,972 - june.simulator - INFO - Date = 2020-05-13 01:00:00, number of deaths =  97, number of infected = 3827\n",
      "2020-06-10 12:24:38,337 - june.simulator - INFO - Date = 2020-05-13 09:00:00, number of deaths =  98, number of infected = 3627\n",
      "2020-06-10 12:24:38,717 - june.simulator - INFO - Date = 2020-05-13 10:00:00, number of deaths =  98, number of infected = 3609\n",
      "2020-06-10 12:24:39,006 - june.simulator - INFO - Date = 2020-05-13 13:00:00, number of deaths =  98, number of infected = 3539\n",
      "2020-06-10 12:24:39,345 - june.simulator - INFO - Date = 2020-05-14 00:00:00, number of deaths =  100, number of infected = 3280\n",
      "2020-06-10 12:24:39,626 - june.simulator - INFO - Date = 2020-05-14 01:00:00, number of deaths =  100, number of infected = 3259\n",
      "2020-06-10 12:24:39,924 - june.simulator - INFO - Date = 2020-05-14 09:00:00, number of deaths =  100, number of infected = 3060\n"
     ]
    },
    {
     "name": "stdout",
     "output_type": "stream",
     "text": [
      "2020-06-10 12:24:40,245 - june.simulator - INFO - Date = 2020-05-14 10:00:00, number of deaths =  100, number of infected = 3036\n",
      "2020-06-10 12:24:40,481 - june.simulator - INFO - Date = 2020-05-14 13:00:00, number of deaths =  101, number of infected = 2970\n",
      "2020-06-10 12:24:40,849 - june.simulator - INFO - Date = 2020-05-15 00:00:00, number of deaths =  103, number of infected = 2776\n",
      "2020-06-10 12:24:41,160 - june.simulator - INFO - Date = 2020-05-15 01:00:00, number of deaths =  103, number of infected = 2760\n",
      "2020-06-10 12:24:41,463 - june.simulator - INFO - Date = 2020-05-15 09:00:00, number of deaths =  104, number of infected = 2610\n",
      "2020-06-10 12:24:41,819 - june.simulator - INFO - Date = 2020-05-15 10:00:00, number of deaths =  104, number of infected = 2588\n",
      "2020-06-10 12:24:42,103 - june.simulator - INFO - Date = 2020-05-15 13:00:00, number of deaths =  104, number of infected = 2538\n",
      "2020-06-10 12:24:42,412 - june.simulator - INFO - Date = 2020-05-16 00:00:00, number of deaths =  104, number of infected = 2331\n",
      "CPU times: user 2min 46s, sys: 971 ms, total: 2min 47s\n",
      "Wall time: 2min 50s\n"
     ]
    }
   ],
   "source": [
    "%%time\n",
    "simulator.run()"
   ]
  },
  {
   "cell_type": "markdown",
   "metadata": {},
   "source": [
    "While the simulation runs (and afterwards) we can launch the visualization webpage by running\n",
    "```python june/visualizer.py path/to/results``` "
   ]
  },
  {
   "cell_type": "markdown",
   "metadata": {},
   "source": [
    "# Getting the results"
   ]
  },
  {
   "cell_type": "markdown",
   "metadata": {},
   "source": [
    "All results are stored in a json file specified in the ``save_path`` variable in the config file. We can also access it from ``world.logger`` directly."
   ]
  },
  {
   "cell_type": "code",
   "execution_count": 28,
   "metadata": {},
   "outputs": [],
   "source": [
    "import pandas as pd"
   ]
  },
  {
   "cell_type": "code",
   "execution_count": 29,
   "metadata": {},
   "outputs": [],
   "source": [
    "read = ReadLogger()"
   ]
  },
  {
   "cell_type": "markdown",
   "metadata": {},
   "source": [
    "## Hospital data and how it changed over time"
   ]
  },
  {
   "cell_type": "code",
   "execution_count": 30,
   "metadata": {},
   "outputs": [],
   "source": [
    "hospitals_df = read.load_hospital_capacity()"
   ]
  },
  {
   "cell_type": "code",
   "execution_count": 31,
   "metadata": {},
   "outputs": [
    {
     "data": {
      "text/html": [
       "<div>\n",
       "<style scoped>\n",
       "    .dataframe tbody tr th:only-of-type {\n",
       "        vertical-align: middle;\n",
       "    }\n",
       "\n",
       "    .dataframe tbody tr th {\n",
       "        vertical-align: top;\n",
       "    }\n",
       "\n",
       "    .dataframe thead th {\n",
       "        text-align: right;\n",
       "    }\n",
       "</style>\n",
       "<table border=\"1\" class=\"dataframe\">\n",
       "  <thead>\n",
       "    <tr style=\"text-align: right;\">\n",
       "      <th></th>\n",
       "      <th>time_stamp</th>\n",
       "      <th>id</th>\n",
       "      <th>n_patients</th>\n",
       "      <th>n_patients_icu</th>\n",
       "    </tr>\n",
       "  </thead>\n",
       "  <tbody>\n",
       "    <tr>\n",
       "      <th>0</th>\n",
       "      <td>2020-03-07T03:00:00.000000</td>\n",
       "      <td>0</td>\n",
       "      <td>0</td>\n",
       "      <td>0</td>\n",
       "    </tr>\n",
       "    <tr>\n",
       "      <th>0</th>\n",
       "      <td>2020-03-07T03:00:00.000000</td>\n",
       "      <td>1</td>\n",
       "      <td>0</td>\n",
       "      <td>0</td>\n",
       "    </tr>\n",
       "    <tr>\n",
       "      <th>1</th>\n",
       "      <td>2020-03-07T06:00:00.000000</td>\n",
       "      <td>0</td>\n",
       "      <td>0</td>\n",
       "      <td>0</td>\n",
       "    </tr>\n",
       "  </tbody>\n",
       "</table>\n",
       "</div>"
      ],
      "text/plain": [
       "                   time_stamp id n_patients n_patients_icu\n",
       "0  2020-03-07T03:00:00.000000  0          0              0\n",
       "0  2020-03-07T03:00:00.000000  1          0              0\n",
       "1  2020-03-07T06:00:00.000000  0          0              0"
      ]
     },
     "execution_count": 31,
     "metadata": {},
     "output_type": "execute_result"
    }
   ],
   "source": [
    "hospitals_df.head(3)"
   ]
  },
  {
   "cell_type": "code",
   "execution_count": 32,
   "metadata": {},
   "outputs": [],
   "source": [
    "hospitals_characteristics_df = read.load_hospital_characteristics()"
   ]
  },
  {
   "cell_type": "code",
   "execution_count": 33,
   "metadata": {},
   "outputs": [
    {
     "data": {
      "text/html": [
       "<div>\n",
       "<style scoped>\n",
       "    .dataframe tbody tr th:only-of-type {\n",
       "        vertical-align: middle;\n",
       "    }\n",
       "\n",
       "    .dataframe tbody tr th {\n",
       "        vertical-align: top;\n",
       "    }\n",
       "\n",
       "    .dataframe thead th {\n",
       "        text-align: right;\n",
       "    }\n",
       "</style>\n",
       "<table border=\"1\" class=\"dataframe\">\n",
       "  <thead>\n",
       "    <tr style=\"text-align: right;\">\n",
       "      <th></th>\n",
       "      <th>longitude</th>\n",
       "      <th>latitude</th>\n",
       "      <th>n_beds</th>\n",
       "      <th>n_icu_beds</th>\n",
       "    </tr>\n",
       "  </thead>\n",
       "  <tbody>\n",
       "    <tr>\n",
       "      <th>0</th>\n",
       "      <td>-1.59082</td>\n",
       "      <td>54.53125</td>\n",
       "      <td>128</td>\n",
       "      <td>4</td>\n",
       "    </tr>\n",
       "    <tr>\n",
       "      <th>1</th>\n",
       "      <td>-1.59082</td>\n",
       "      <td>54.53125</td>\n",
       "      <td>128</td>\n",
       "      <td>4</td>\n",
       "    </tr>\n",
       "  </tbody>\n",
       "</table>\n",
       "</div>"
      ],
      "text/plain": [
       "   longitude  latitude  n_beds  n_icu_beds\n",
       "0   -1.59082  54.53125     128           4\n",
       "1   -1.59082  54.53125     128           4"
      ]
     },
     "execution_count": 33,
     "metadata": {},
     "output_type": "execute_result"
    }
   ],
   "source": [
    "hospitals_characteristics_df"
   ]
  },
  {
   "cell_type": "markdown",
   "metadata": {},
   "source": [
    "## where did infections happen?"
   ]
  },
  {
   "cell_type": "code",
   "execution_count": 34,
   "metadata": {},
   "outputs": [],
   "source": [
    "loc_df = read.get_locations_infections()"
   ]
  },
  {
   "cell_type": "code",
   "execution_count": 35,
   "metadata": {},
   "outputs": [
    {
     "data": {
      "text/plain": [
       "Text(0.5, 0, 'location')"
      ]
     },
     "execution_count": 35,
     "metadata": {},
     "output_type": "execute_result"
    },
    {
     "data": {
      "image/png": "[encoded data removed]",
      "text/plain": [
       "<Figure size 432x288 with 1 Axes>"
      ]
     },
     "metadata": {
      "needs_background": "light"
     },
     "output_type": "display_data"
    }
   ],
   "source": [
    "import matplotlib.ticker as mtick\n",
    "\n",
    "ax = loc_df['percentage_infections'].sort_values().plot.bar()\n",
    "ax.yaxis.set_major_formatter(mtick.PercentFormatter())\n",
    "plt.ylabel('Percentage of infections at location')\n",
    "plt.xlabel('location')"
   ]
  },
  {
   "cell_type": "markdown",
   "metadata": {},
   "source": [
    "## rate of infection"
   ]
  },
  {
   "cell_type": "code",
   "execution_count": 36,
   "metadata": {},
   "outputs": [],
   "source": [
    "r_df = read.get_r()"
   ]
  },
  {
   "cell_type": "code",
   "execution_count": 37,
   "metadata": {},
   "outputs": [
    {
     "data": {
      "text/plain": [
       "Text(0, 0.5, 'R')"
      ]
     },
     "execution_count": 37,
     "metadata": {},
     "output_type": "execute_result"
    },
    {
     "data": {
      "image/png": "[encoded data removed]",
      "text/plain": [
       "<Figure size 432x288 with 1 Axes>"
      ]
     },
     "metadata": {
      "needs_background": "light"
     },
     "output_type": "display_data"
    }
   ],
   "source": [
    "r_df.plot()\n",
    "plt.axvspan(policies.social_distancing_start, \n",
    "            policies.social_distancing_end,\n",
    "            facecolor='y', alpha=0.2)\n",
    "plt.axhline(y=1, linestyle='dashed', color='gray')\n",
    "plt.xlabel('Date')\n",
    "plt.ylabel('R')"
   ]
  },
  {
   "cell_type": "markdown",
   "metadata": {},
   "source": [
    "## World infection curves, and by super area"
   ]
  },
  {
   "cell_type": "code",
   "execution_count": 38,
   "metadata": {},
   "outputs": [],
   "source": [
    "world_df = read.world_summary()"
   ]
  },
  {
   "cell_type": "code",
   "execution_count": 39,
   "metadata": {},
   "outputs": [
    {
     "data": {
      "text/plain": [
       "<matplotlib.legend.Legend at 0x7fecaa592100>"
      ]
     },
     "execution_count": 39,
     "metadata": {},
     "output_type": "execute_result"
    },
    {
     "data": {
      "image/png": "[encoded data removed]",
      "text/plain": [
       "<Figure size 432x288 with 1 Axes>"
      ]
     },
     "metadata": {
      "needs_background": "light"
     },
     "output_type": "display_data"
    }
   ],
   "source": [
    "world_df.plot()\n",
    "plt.axvspan(policies.social_distancing_start, \n",
    "            policies.social_distancing_end,\n",
    "            facecolor='y', alpha=0.2)\n",
    "plt.legend()"
   ]
  },
  {
   "cell_type": "code",
   "execution_count": 40,
   "metadata": {},
   "outputs": [],
   "source": [
    "area_df = read.super_area_summary()"
   ]
  },
  {
   "cell_type": "code",
   "execution_count": 41,
   "metadata": {},
   "outputs": [
    {
     "data": {
      "text/plain": [
       "<matplotlib.legend.Legend at 0x7fecaae253d0>"
      ]
     },
     "execution_count": 41,
     "metadata": {},
     "output_type": "execute_result"
    },
    {
     "data": {
      "image/png": "[encoded data removed]",
      "text/plain": [
       "<Figure size 432x288 with 1 Axes>"
      ]
     },
     "metadata": {
      "needs_background": "light"
     },
     "output_type": "display_data"
    }
   ],
   "source": [
    "area_df[area_df.super_area == \"E02002512\"].plot()\n",
    "plt.legend()"
   ]
  },
  {
   "cell_type": "code",
   "execution_count": 42,
   "metadata": {},
   "outputs": [
    {
     "data": {
      "text/plain": [
       "<matplotlib.legend.Legend at 0x7fecaa786820>"
      ]
     },
     "execution_count": 42,
     "metadata": {},
     "output_type": "execute_result"
    },
    {
     "data": {
      "image/png": "[encoded data removed]",
      "text/plain": [
       "<Figure size 432x288 with 1 Axes>"
      ]
     },
     "metadata": {
      "needs_background": "light"
     },
     "output_type": "display_data"
    }
   ],
   "source": [
    "area_df[area_df.super_area == \"E02001697\"].plot()\n",
    "plt.legend()"
   ]
  },
  {
   "cell_type": "markdown",
   "metadata": {},
   "source": [
    "## World infection curves per age group"
   ]
  },
  {
   "cell_type": "code",
   "execution_count": 43,
   "metadata": {},
   "outputs": [],
   "source": [
    "ages_df = read.age_summary([0,10,20,30,40,\n",
    "                  50,60,70,80,90,100])"
   ]
  },
  {
   "cell_type": "code",
   "execution_count": 44,
   "metadata": {},
   "outputs": [
    {
     "data": {
      "text/plain": [
       "<matplotlib.legend.Legend at 0x7fecaa786070>"
      ]
     },
     "execution_count": 44,
     "metadata": {},
     "output_type": "execute_result"
    },
    {
     "data": {
      "image/png": "[encoded data removed]",
      "text/plain": [
       "<Figure size 432x288 with 1 Axes>"
      ]
     },
     "metadata": {
      "needs_background": "light"
     },
     "output_type": "display_data"
    }
   ],
   "source": [
    "for name, group in ages_df.groupby('age_range'):\n",
    "    group['infected'].plot(label=name)\n",
    "plt.axvspan(policies.social_distancing_start, \n",
    "            policies.social_distancing_end,\n",
    "            facecolor='y', alpha=0.2)\n",
    "plt.legend()"
   ]
  },
  {
   "cell_type": "code",
   "execution_count": 45,
   "metadata": {},
   "outputs": [
    {
     "data": {
      "text/plain": [
       "<matplotlib.legend.Legend at 0x7fecaa96ec70>"
      ]
     },
     "execution_count": 45,
     "metadata": {},
     "output_type": "execute_result"
    },
    {
     "data": {
      "image/png": "[encoded data removed]",
      "text/plain": [
       "<Figure size 432x288 with 1 Axes>"
      ]
     },
     "metadata": {
      "needs_background": "light"
     },
     "output_type": "display_data"
    }
   ],
   "source": [
    "for name, group in ages_df.groupby('age_range'):\n",
    "    group['dead'].cumsum().plot(label=name)\n",
    "plt.legend()"
   ]
  },
  {
   "cell_type": "code",
   "execution_count": 46,
   "metadata": {},
   "outputs": [
    {
     "data": {
      "text/plain": [
       "<matplotlib.legend.Legend at 0x7fecaabff9d0>"
      ]
     },
     "execution_count": 46,
     "metadata": {},
     "output_type": "execute_result"
    },
    {
     "data": {
      "image/png": "[encoded data removed]",
      "text/plain": [
       "<Figure size 432x288 with 1 Axes>"
      ]
     },
     "metadata": {
      "needs_background": "light"
     },
     "output_type": "display_data"
    }
   ],
   "source": [
    "for name, group in ages_df.groupby('age_range'):\n",
    "    group['susceptible'].plot(label=name)\n",
    "plt.legend()"
   ]
  },
  {
   "cell_type": "markdown",
   "metadata": {},
   "source": [
    "## Draw some of the symptoms trajectories"
   ]
  },
  {
   "cell_type": "code",
   "execution_count": 47,
   "metadata": {},
   "outputs": [],
   "source": [
    "random_trajectories = read.draw_symptom_trajectories(window_length=200,\n",
    "                                        n_people=5)"
   ]
  },
  {
   "cell_type": "code",
   "execution_count": 48,
   "metadata": {},
   "outputs": [],
   "source": [
    "from june.infection import SymptomTag"
   ]
  },
  {
   "cell_type": "code",
   "execution_count": 49,
   "metadata": {},
   "outputs": [],
   "source": [
    "symptoms_values = [tag.value for tag in SymptomTag]\n",
    "symptoms_names = [tag.name for tag in SymptomTag]\n"
   ]
  },
  {
   "cell_type": "code",
   "execution_count": 50,
   "metadata": {},
   "outputs": [
    {
     "data": {
      "text/plain": [
       "Text(0.5, 0, 'Date')"
      ]
     },
     "execution_count": 50,
     "metadata": {},
     "output_type": "execute_result"
    },
    {
     "data": {
      "image/png": "[encoded data removed]",
      "text/plain": [
       "<Figure size 432x288 with 1 Axes>"
      ]
     },
     "metadata": {
      "needs_background": "light"
     },
     "output_type": "display_data"
    }
   ],
   "source": [
    "for df_person in random_trajectories:\n",
    "    df_person['symptoms'].plot()\n",
    "plt.ylabel('Symptoms Trajectory')\n",
    "_ = plt.yticks(symptoms_values, symptoms_names)\n",
    "plt.xlabel('Date')"
   ]
  },
  {
   "cell_type": "code",
   "execution_count": 51,
   "metadata": {},
   "outputs": [
    {
     "data": {
      "text/plain": [
       "Text(0.5, 0, 'Date')"
      ]
     },
     "execution_count": 51,
     "metadata": {},
     "output_type": "execute_result"
    },
    {
     "data": {
      "image/png": "[encoded data removed]",
      "text/plain": [
       "<Figure size 432x288 with 1 Axes>"
      ]
     },
     "metadata": {
      "needs_background": "light"
     },
     "output_type": "display_data"
    }
   ],
   "source": [
    "for df_person in random_trajectories:\n",
    "    df_person['n_secondary_infections'].plot()\n",
    "plt.ylabel('Number of secondary infections')\n",
    "\n",
    "plt.xlabel('Date')"
   ]
  },
  {
   "cell_type": "code",
   "execution_count": null,
   "metadata": {},
   "outputs": [],
   "source": []
  },
  {
   "cell_type": "code",
   "execution_count": null,
   "metadata": {},
   "outputs": [],
   "source": []
  },
  {
   "cell_type": "code",
   "execution_count": null,
   "metadata": {},
   "outputs": [],
   "source": []
  }
 ],
 "metadata": {
  "kernelspec": {
   "display_name": "Python 3",
   "language": "python",
   "name": "python3"
  },
  "language_info": {
   "codemirror_mode": {
    "name": "ipython",
    "version": 3
   },
   "file_extension": ".py",
   "mimetype": "text/x-python",
   "name": "python",
   "nbconvert_exporter": "python",
   "pygments_lexer": "ipython3",
   "version": "3.8.3"
  }
 },
 "nbformat": 4,
 "nbformat_minor": 4
}
