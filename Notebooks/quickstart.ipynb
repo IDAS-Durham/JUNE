{
 "cells": [
  {
   "cell_type": "code",
   "execution_count": 1,
   "metadata": {},
   "outputs": [],
   "source": [
    "%load_ext autoreload\n",
    "%autoreload 2"
   ]
  },
  {
   "cell_type": "code",
   "execution_count": 2,
   "metadata": {},
   "outputs": [],
   "source": [
    "import numpy as np\n",
    "import time\n",
    "from datetime import datetime\n",
    "import matplotlib.pyplot as plt\n",
    "import seaborn as sns\n",
    "sns.set_context('notebook')"
   ]
  },
  {
   "cell_type": "code",
   "execution_count": 3,
   "metadata": {},
   "outputs": [
    {
     "name": "stderr",
     "output_type": "stream",
     "text": [
      "No --data argument given - defaulting to:\n",
      "/home/arnau/code/JUNE/data\n",
      "No --configs argument given - defaulting to:\n",
      "/home/arnau/code/JUNE/configs\n"
     ]
    }
   ],
   "source": [
    "from june import World \n",
    "from june.demography.geography import Geography\n",
    "from june.demography import Demography\n",
    "from june.interaction import ContactAveraging\n",
    "from june.infection import Infection\n",
    "from june.infection.transmission import TransmissionConstant\n",
    "from june.groups import Hospitals, Schools, Companies, Households, CareHomes, Cemeteries, Universities\n",
    "from june.groups.leisure import generate_leisure_for_config, Cinemas, Pubs, Groceries\n",
    "from june.simulator import Simulator\n",
    "from june.infection_seed import InfectionSeed\n",
    "from june.policy import Policy, Policies\n",
    "from june import paths\n",
    "from june.hdf5_savers import load_geography_from_hdf5\n",
    "from june.logger.read_logger import ReadLogger\n",
    "from june.infection.infection import InfectionSelector\n",
    "from june.world import generate_world_from_hdf5, generate_world_from_geography"
   ]
  },
  {
   "cell_type": "markdown",
   "metadata": {},
   "source": [
    "# Initialize world\n",
    "\n",
    "To initialize a certain world, we need to add the different components we want to have in it. First we specify what super areas (msoa) we want to create. We have included these ones, because they are known to contain hospitals, schools, care homes, and companies.\n",
    "\n",
    "After creating the geography, we create the different components the worlds need to have such as care homes, companies ..."
   ]
  },
  {
   "cell_type": "code",
   "execution_count": 4,
   "metadata": {},
   "outputs": [],
   "source": [
    "CONFIG_PATH = \"../configs/config_example.yaml\""
   ]
  },
  {
   "cell_type": "code",
   "execution_count": 5,
   "metadata": {},
   "outputs": [
    {
     "name": "stdout",
     "output_type": "stream",
     "text": [
      "2020-07-14 18:08:43,196 - june.demography.geography - INFO - There are 129 areas and 5 super_areas in the world.\n",
      "2020-07-14 18:08:43,201 - june.groups.hospital - INFO - There are 1 hospitals in this geography.\n",
      "2020-07-14 18:08:43,259 - june.groups.school - INFO - There are 19 schools in this geography.\n",
      "2020-07-14 18:08:43,299 - june.groups.school - INFO - No school for the age 0 in this world.\n",
      "2020-07-14 18:08:43,302 - june.groups.school - INFO - No school for the age 1 in this world.\n",
      "2020-07-14 18:08:43,307 - june.groups.school - INFO - No school for the age 2 in this world.\n",
      "2020-07-14 18:08:43,588 - june.groups.carehome - INFO - There are 9 care_homes in this geography.\n",
      "2020-07-14 18:08:54,547 - june.distributors.worker_distributor - INFO - There are 0 who had to be told to stay real\n",
      "CPU times: user 36.1 s, sys: 1.16 s, total: 37.2 s\n",
      "Wall time: 37.6 s\n"
     ]
    }
   ],
   "source": [
    "%%time \n",
    "\n",
    "geography = Geography.from_file(\n",
    "        {\n",
    "            \"super_area\": [\n",
    "                \"E02003282\",\n",
    "                \"E02001720\",\n",
    "                #\"E00088544\",\n",
    "                \"E02002560\",\n",
    "                \"E02002559\",\n",
    "                \"E02004314\",\n",
    "            ]\n",
    "        }\n",
    ")\n",
    "\n",
    "geography.hospitals = Hospitals.for_geography(geography)\n",
    "geography.schools = Schools.for_geography(geography)\n",
    "geography.companies = Companies.for_geography(geography)\n",
    "geography.care_homes = CareHomes.for_geography(geography)\n",
    "geography.universities = Universities.for_super_areas(geography.super_areas)\n",
    "world = generate_world_from_geography(geography, include_households=True, include_commute=True)"
   ]
  },
  {
   "cell_type": "markdown",
   "metadata": {},
   "source": [
    "## Commute, travel and leisure"
   ]
  },
  {
   "cell_type": "code",
   "execution_count": 6,
   "metadata": {},
   "outputs": [],
   "source": [
    "world.pubs = Pubs.for_geography(geography)\n",
    "world.cinemas = Cinemas.for_geography(geography)\n",
    "world.groceries = Groceries.for_geography(geography)\n",
    "leisure = generate_leisure_for_config(world, config_filename=CONFIG_PATH)\n",
    "leisure.distribute_social_venues_to_households(world.households) # this assigns possible social venues to people."
   ]
  },
  {
   "cell_type": "markdown",
   "metadata": {},
   "source": [
    "We are also going to need some cemeteries...geography.cemeteries = Cemeteries()\n"
   ]
  },
  {
   "cell_type": "code",
   "execution_count": 7,
   "metadata": {},
   "outputs": [],
   "source": [
    "world.cemeteries = Cemeteries()"
   ]
  },
  {
   "cell_type": "code",
   "execution_count": 8,
   "metadata": {},
   "outputs": [
    {
     "data": {
      "text/plain": [
       "46784"
      ]
     },
     "execution_count": 8,
     "metadata": {},
     "output_type": "execute_result"
    }
   ],
   "source": [
    "len(world.people)"
   ]
  },
  {
   "cell_type": "markdown",
   "metadata": {},
   "source": [
    "### If it took a long time to run the previous commands, it might be a good idea to save the world to reuse it later."
   ]
  },
  {
   "cell_type": "code",
   "execution_count": 9,
   "metadata": {},
   "outputs": [],
   "source": [
    "world.to_hdf5(\"world.hdf5\")"
   ]
  },
  {
   "cell_type": "markdown",
   "metadata": {},
   "source": [
    "If we would like to load the world we saved, we just do"
   ]
  },
  {
   "cell_type": "code",
   "execution_count": 10,
   "metadata": {},
   "outputs": [
    {
     "name": "stdout",
     "output_type": "stream",
     "text": [
      "loading population from hdf5 .\n",
      "loading companies from hdf5 .\n",
      "loading households from hdf5 ."
     ]
    },
    {
     "name": "stderr",
     "output_type": "stream",
     "text": [
      "  0%|          | 0/46784 [00:00<?, ?it/s]"
     ]
    },
    {
     "name": "stdout",
     "output_type": "stream",
     "text": [
      "\n",
      "restoring world...\n"
     ]
    },
    {
     "name": "stderr",
     "output_type": "stream",
     "text": [
      "100%|██████████| 46784/46784 [00:01<00:00, 45962.94it/s]\n"
     ]
    }
   ],
   "source": [
    "world = generate_world_from_hdf5(\"world.hdf5\")"
   ]
  },
  {
   "cell_type": "code",
   "execution_count": 11,
   "metadata": {},
   "outputs": [
    {
     "data": {
      "text/plain": [
       "<june.groups.leisure.pub.Pubs at 0x7f34d06d6490>"
      ]
     },
     "execution_count": 11,
     "metadata": {},
     "output_type": "execute_result"
    }
   ],
   "source": [
    "world.pubs"
   ]
  },
  {
   "cell_type": "code",
   "execution_count": 12,
   "metadata": {},
   "outputs": [],
   "source": [
    "# and regenerate leisure in case we load it externally\n",
    "leisure = generate_leisure_for_config(world, CONFIG_PATH)"
   ]
  },
  {
   "cell_type": "markdown",
   "metadata": {},
   "source": [
    "you have now a beautiful pre-pandemic world. "
   ]
  },
  {
   "cell_type": "markdown",
   "metadata": {},
   "source": [
    "# Adding the infection"
   ]
  },
  {
   "cell_type": "markdown",
   "metadata": {},
   "source": [
    "Now, you can play around with different models of infections. The building blocks for an infection are: Transmission and Symptoms. For now, only SymptomsConstant and TransmissionConstant are in a state to be used."
   ]
  },
  {
   "cell_type": "code",
   "execution_count": 13,
   "metadata": {},
   "outputs": [],
   "source": [
    "selector = InfectionSelector.from_file()"
   ]
  },
  {
   "cell_type": "markdown",
   "metadata": {},
   "source": [
    "# Adding the interaction"
   ]
  },
  {
   "cell_type": "code",
   "execution_count": 14,
   "metadata": {},
   "outputs": [],
   "source": [
    "interaction = ContactAveraging.from_file(selector=selector)"
   ]
  },
  {
   "cell_type": "markdown",
   "metadata": {},
   "source": [
    "Beta are the intensities of the interaction taking place at the different groups"
   ]
  },
  {
   "cell_type": "code",
   "execution_count": 15,
   "metadata": {},
   "outputs": [
    {
     "data": {
      "text/plain": [
       "{'box': 1,\n",
       " 'pub': 0.1,\n",
       " 'grocery': 0.1,\n",
       " 'cinema': 0.1,\n",
       " 'commute_unit': 1.0,\n",
       " 'commute_city_unit': 1.0,\n",
       " 'hospital': 1.0,\n",
       " 'care_home': 1.0,\n",
       " 'company': 0.1,\n",
       " 'school': 0.1,\n",
       " 'household': 0.2,\n",
       " 'university': 0.01}"
      ]
     },
     "execution_count": 15,
     "metadata": {},
     "output_type": "execute_result"
    }
   ],
   "source": [
    "interaction.beta"
   ]
  },
  {
   "cell_type": "markdown",
   "metadata": {},
   "source": [
    "to modify these, simply do"
   ]
  },
  {
   "cell_type": "code",
   "execution_count": 16,
   "metadata": {},
   "outputs": [],
   "source": [
    "#interaction.beta['household'] =0.05\n",
    "#interaction.beta['company'] =0.05\n",
    "#interaction.beta['university'] =0.05\n",
    "#interaction.beta['school'] =0.05\n",
    "#interaction.beta['commute_unit'] =0.1\n",
    "#interaction.beta['commute_city_unit'] =0.1\n",
    "#interaction.beta['hospital'] =0.1\n",
    "\n",
    "#interaction.beta['care_home'] =0.1\n",
    "#interaction.beta['pub'] =0.01\n",
    "#interaction.beta['cinema'] =0.01\n",
    "#interaction.beta['grocery'] =0.01"
   ]
  },
  {
   "cell_type": "code",
   "execution_count": 17,
   "metadata": {},
   "outputs": [
    {
     "data": {
      "text/plain": [
       "{'box': 1,\n",
       " 'pub': 0.1,\n",
       " 'grocery': 0.1,\n",
       " 'cinema': 0.1,\n",
       " 'commute_unit': 1.0,\n",
       " 'commute_city_unit': 1.0,\n",
       " 'hospital': 1.0,\n",
       " 'care_home': 1.0,\n",
       " 'company': 0.1,\n",
       " 'school': 0.1,\n",
       " 'household': 0.2,\n",
       " 'university': 0.01}"
      ]
     },
     "execution_count": 17,
     "metadata": {},
     "output_type": "execute_result"
    }
   ],
   "source": [
    "interaction.beta"
   ]
  },
  {
   "cell_type": "markdown",
   "metadata": {},
   "source": [
    "moreover this interaction module uses contact matrices, that are different for different groups. These contact matrices shouldnt be modified for now. However they are a combination of conversational contact matrices, and physical contact matrices (see the BBC pandemic paper, from where these matrices are extracted https://www.medrxiv.org/content/10.1101/2020.02.16.20023754v2)\n",
    "\n",
    "There is a parameter, ``alpha`` ($\\alpha$), that combines these two matrices in the following way,\n",
    "\n",
    "\n",
    "$\\beta M \\left(1 + (\\alpha -1) \\right) P$\n",
    "\n",
    "where $\\beta$ is the intensity of the interaction, and $P$ the physical contact matrix. A larger $\\alpha$ produces more physical contacts. It is an overall number, non dependent of the particular group.\n"
   ]
  },
  {
   "cell_type": "code",
   "execution_count": 18,
   "metadata": {},
   "outputs": [
    {
     "data": {
      "text/plain": [
       "2.0"
      ]
     },
     "execution_count": 18,
     "metadata": {},
     "output_type": "execute_result"
    }
   ],
   "source": [
    "interaction.alpha_physical"
   ]
  },
  {
   "cell_type": "code",
   "execution_count": 19,
   "metadata": {},
   "outputs": [],
   "source": [
    "interaction.alpha_physical /= 2"
   ]
  },
  {
   "cell_type": "code",
   "execution_count": 20,
   "metadata": {},
   "outputs": [
    {
     "data": {
      "text/plain": [
       "1.0"
      ]
     },
     "execution_count": 20,
     "metadata": {},
     "output_type": "execute_result"
    }
   ],
   "source": [
    "interaction.alpha_physical"
   ]
  },
  {
   "cell_type": "markdown",
   "metadata": {},
   "source": [
    "# Seed the disease"
   ]
  },
  {
   "cell_type": "markdown",
   "metadata": {},
   "source": [
    "There are two options implemented in the seed at the moment, either you specify the number of cases and these are then homogeneously distributed by population to the different areas, or you use UK data on cases per region. For now use the first case."
   ]
  },
  {
   "cell_type": "code",
   "execution_count": 21,
   "metadata": {},
   "outputs": [],
   "source": [
    "infection_seed = InfectionSeed(world.super_areas, selector,)"
   ]
  },
  {
   "cell_type": "code",
   "execution_count": 22,
   "metadata": {},
   "outputs": [],
   "source": [
    "n_cases = 50\n",
    "infection_seed.unleash_virus(n_cases) # play around with the initial number of cases"
   ]
  },
  {
   "cell_type": "markdown",
   "metadata": {},
   "source": [
    "# Set policies"
   ]
  },
  {
   "cell_type": "code",
   "execution_count": 23,
   "metadata": {},
   "outputs": [],
   "source": [
    "policies = Policies.from_file()"
   ]
  },
  {
   "cell_type": "markdown",
   "metadata": {},
   "source": [
    "# Run the simulation"
   ]
  },
  {
   "cell_type": "markdown",
   "metadata": {},
   "source": [
    "Since the timer configuration is a bit cumbersome, it is read from the config file at ``configs/config_example.yaml``"
   ]
  },
  {
   "cell_type": "code",
   "execution_count": 24,
   "metadata": {},
   "outputs": [],
   "source": [
    "simulator = Simulator.from_file(\n",
    "     world, interaction, selector, \n",
    "    config_filename = CONFIG_PATH,\n",
    "    leisure = leisure,\n",
    "    policies = policies\n",
    ")"
   ]
  },
  {
   "cell_type": "code",
   "execution_count": null,
   "metadata": {
    "scrolled": true
   },
   "outputs": [
    {
     "name": "stdout",
     "output_type": "stream",
     "text": [
      "2020-07-14 18:09:42,959 - june.simulator - INFO - Starting group_dynamics for 250 days at day 0\n",
      "2020-07-14 18:09:42,960 - june.simulator - INFO - starting the loop ..., at 0 days, to run for 250 days\n",
      "2020-07-14 18:09:44,353 - june.simulator - INFO - Date = 2020-03-01 04:00:00, number of deaths =  0, number of infected = 50\n",
      "2020-07-14 18:09:45,243 - june.simulator - INFO - Date = 2020-03-01 08:00:00, number of deaths =  0, number of infected = 50\n",
      "2020-07-14 18:09:45,765 - june.simulator - INFO - Date = 2020-03-01 12:00:00, number of deaths =  0, number of infected = 50\n",
      "2020-07-14 18:09:46,419 - june.simulator - INFO - Date = 2020-03-02 00:00:00, number of deaths =  0, number of infected = 50\n",
      "2020-07-14 18:09:46,991 - june.simulator - INFO - Date = 2020-03-02 01:00:00, number of deaths =  0, number of infected = 50\n",
      "2020-07-14 18:09:47,462 - june.simulator - INFO - Date = 2020-03-02 05:00:00, number of deaths =  0, number of infected = 52\n",
      "2020-07-14 18:09:47,903 - june.simulator - INFO - Date = 2020-03-02 09:00:00, number of deaths =  0, number of infected = 54\n",
      "2020-07-14 18:09:48,724 - june.simulator - INFO - Date = 2020-03-02 10:00:00, number of deaths =  0, number of infected = 54\n",
      "2020-07-14 18:09:49,258 - june.simulator - INFO - Date = 2020-03-02 13:00:00, number of deaths =  0, number of infected = 55\n",
      "2020-07-14 18:09:49,845 - june.simulator - INFO - Date = 2020-03-03 00:00:00, number of deaths =  0, number of infected = 61\n",
      "2020-07-14 18:09:50,419 - june.simulator - INFO - Date = 2020-03-03 01:00:00, number of deaths =  0, number of infected = 61\n",
      "2020-07-14 18:09:50,904 - june.simulator - INFO - Date = 2020-03-03 05:00:00, number of deaths =  0, number of infected = 61\n",
      "2020-07-14 18:09:51,311 - june.simulator - INFO - Date = 2020-03-03 09:00:00, number of deaths =  0, number of infected = 64\n",
      "2020-07-14 18:09:52,105 - june.simulator - INFO - Date = 2020-03-03 10:00:00, number of deaths =  0, number of infected = 66\n",
      "2020-07-14 18:09:52,609 - june.simulator - INFO - Date = 2020-03-03 13:00:00, number of deaths =  0, number of infected = 69\n",
      "2020-07-14 18:09:53,188 - june.simulator - INFO - Date = 2020-03-04 00:00:00, number of deaths =  0, number of infected = 79\n",
      "2020-07-14 18:09:53,798 - june.simulator - INFO - Date = 2020-03-04 01:00:00, number of deaths =  0, number of infected = 79\n",
      "2020-07-14 18:09:54,284 - june.simulator - INFO - Date = 2020-03-04 05:00:00, number of deaths =  0, number of infected = 84\n",
      "2020-07-14 18:09:54,735 - june.simulator - INFO - Date = 2020-03-04 09:00:00, number of deaths =  0, number of infected = 93\n",
      "2020-07-14 18:09:55,539 - june.simulator - INFO - Date = 2020-03-04 10:00:00, number of deaths =  0, number of infected = 94\n",
      "2020-07-14 18:09:56,096 - june.simulator - INFO - Date = 2020-03-04 13:00:00, number of deaths =  0, number of infected = 95\n",
      "2020-07-14 18:09:56,669 - june.simulator - INFO - Date = 2020-03-05 00:00:00, number of deaths =  0, number of infected = 109\n",
      "2020-07-14 18:09:57,259 - june.simulator - INFO - Date = 2020-03-05 01:00:00, number of deaths =  0, number of infected = 111\n",
      "2020-07-14 18:09:57,739 - june.simulator - INFO - Date = 2020-03-05 05:00:00, number of deaths =  0, number of infected = 118\n",
      "2020-07-14 18:09:58,172 - june.simulator - INFO - Date = 2020-03-05 09:00:00, number of deaths =  0, number of infected = 125\n",
      "2020-07-14 18:09:58,934 - june.simulator - INFO - Date = 2020-03-05 10:00:00, number of deaths =  0, number of infected = 129\n",
      "2020-07-14 18:09:59,461 - june.simulator - INFO - Date = 2020-03-05 13:00:00, number of deaths =  0, number of infected = 135\n",
      "2020-07-14 18:10:00,064 - june.simulator - INFO - Date = 2020-03-06 00:00:00, number of deaths =  0, number of infected = 148\n",
      "2020-07-14 18:10:00,777 - june.simulator - INFO - Date = 2020-03-06 01:00:00, number of deaths =  0, number of infected = 149\n",
      "2020-07-14 18:10:01,307 - june.simulator - INFO - Date = 2020-03-06 05:00:00, number of deaths =  0, number of infected = 164\n",
      "2020-07-14 18:10:01,762 - june.simulator - INFO - Date = 2020-03-06 09:00:00, number of deaths =  0, number of infected = 177\n",
      "2020-07-14 18:10:02,553 - june.simulator - INFO - Date = 2020-03-06 10:00:00, number of deaths =  0, number of infected = 179\n",
      "2020-07-14 18:10:03,089 - june.simulator - INFO - Date = 2020-03-06 13:00:00, number of deaths =  0, number of infected = 186\n",
      "2020-07-14 18:10:03,872 - june.simulator - INFO - Date = 2020-03-07 00:00:00, number of deaths =  0, number of infected = 210\n",
      "2020-07-14 18:10:04,641 - june.simulator - INFO - Date = 2020-03-07 04:00:00, number of deaths =  0, number of infected = 223\n",
      "2020-07-14 18:10:05,375 - june.simulator - INFO - Date = 2020-03-07 08:00:00, number of deaths =  0, number of infected = 233\n",
      "2020-07-14 18:10:05,942 - june.simulator - INFO - Date = 2020-03-07 12:00:00, number of deaths =  0, number of infected = 242\n",
      "2020-07-14 18:10:06,731 - june.simulator - INFO - Date = 2020-03-08 00:00:00, number of deaths =  0, number of infected = 265\n",
      "2020-07-14 18:10:07,549 - june.simulator - INFO - Date = 2020-03-08 04:00:00, number of deaths =  0, number of infected = 275\n",
      "2020-07-14 18:10:08,423 - june.simulator - INFO - Date = 2020-03-08 08:00:00, number of deaths =  0, number of infected = 282\n",
      "2020-07-14 18:10:09,098 - june.simulator - INFO - Date = 2020-03-08 12:00:00, number of deaths =  0, number of infected = 295\n",
      "2020-07-14 18:10:09,808 - june.simulator - INFO - Date = 2020-03-09 00:00:00, number of deaths =  0, number of infected = 318\n",
      "2020-07-14 18:10:10,517 - june.simulator - INFO - Date = 2020-03-09 01:00:00, number of deaths =  0, number of infected = 319\n",
      "2020-07-14 18:10:11,232 - june.simulator - INFO - Date = 2020-03-09 05:00:00, number of deaths =  0, number of infected = 365\n",
      "2020-07-14 18:10:11,863 - june.simulator - INFO - Date = 2020-03-09 09:00:00, number of deaths =  0, number of infected = 402\n",
      "2020-07-14 18:10:12,799 - june.simulator - INFO - Date = 2020-03-09 10:00:00, number of deaths =  0, number of infected = 403\n",
      "2020-07-14 18:10:13,365 - june.simulator - INFO - Date = 2020-03-09 13:00:00, number of deaths =  0, number of infected = 419\n",
      "2020-07-14 18:10:13,982 - june.simulator - INFO - Date = 2020-03-10 00:00:00, number of deaths =  0, number of infected = 443\n",
      "2020-07-14 18:10:14,566 - june.simulator - INFO - Date = 2020-03-10 01:00:00, number of deaths =  0, number of infected = 445\n",
      "2020-07-14 18:10:15,157 - june.simulator - INFO - Date = 2020-03-10 05:00:00, number of deaths =  0, number of infected = 498\n",
      "2020-07-14 18:10:15,771 - june.simulator - INFO - Date = 2020-03-10 09:00:00, number of deaths =  0, number of infected = 546\n",
      "2020-07-14 18:10:16,574 - june.simulator - INFO - Date = 2020-03-10 10:00:00, number of deaths =  0, number of infected = 549\n",
      "2020-07-14 18:10:17,120 - june.simulator - INFO - Date = 2020-03-10 13:00:00, number of deaths =  0, number of infected = 563\n",
      "2020-07-14 18:10:17,793 - june.simulator - INFO - Date = 2020-03-11 00:00:00, number of deaths =  0, number of infected = 605\n",
      "2020-07-14 18:10:18,401 - june.simulator - INFO - Date = 2020-03-11 01:00:00, number of deaths =  0, number of infected = 605\n",
      "2020-07-14 18:10:19,464 - june.simulator - INFO - Date = 2020-03-11 05:00:00, number of deaths =  0, number of infected = 684\n",
      "2020-07-14 18:10:19,965 - june.simulator - INFO - Date = 2020-03-11 09:00:00, number of deaths =  0, number of infected = 712\n",
      "2020-07-14 18:10:20,754 - june.simulator - INFO - Date = 2020-03-11 10:00:00, number of deaths =  0, number of infected = 713\n",
      "2020-07-14 18:10:21,439 - june.simulator - INFO - Date = 2020-03-11 13:00:00, number of deaths =  0, number of infected = 776\n",
      "2020-07-14 18:10:22,084 - june.simulator - INFO - Date = 2020-03-12 00:00:00, number of deaths =  0, number of infected = 838\n",
      "2020-07-14 18:10:22,672 - june.simulator - INFO - Date = 2020-03-12 01:00:00, number of deaths =  0, number of infected = 844\n",
      "2020-07-14 18:10:23,228 - june.simulator - INFO - Date = 2020-03-12 05:00:00, number of deaths =  0, number of infected = 871\n",
      "2020-07-14 18:10:23,721 - june.simulator - INFO - Date = 2020-03-12 09:00:00, number of deaths =  0, number of infected = 896\n",
      "2020-07-14 18:10:24,492 - june.simulator - INFO - Date = 2020-03-12 10:00:00, number of deaths =  0, number of infected = 905\n",
      "2020-07-14 18:10:25,027 - june.simulator - INFO - Date = 2020-03-12 13:00:00, number of deaths =  0, number of infected = 923\n",
      "2020-07-14 18:10:25,904 - june.simulator - INFO - Date = 2020-03-13 00:00:00, number of deaths =  0, number of infected = 976\n",
      "2020-07-14 18:10:26,515 - june.simulator - INFO - Date = 2020-03-13 01:00:00, number of deaths =  0, number of infected = 981\n",
      "2020-07-14 18:10:27,090 - june.simulator - INFO - Date = 2020-03-13 05:00:00, number of deaths =  0, number of infected = 1017\n",
      "2020-07-14 18:10:27,663 - june.simulator - INFO - Date = 2020-03-13 09:00:00, number of deaths =  0, number of infected = 1063\n",
      "2020-07-14 18:10:28,412 - june.simulator - INFO - Date = 2020-03-13 10:00:00, number of deaths =  0, number of infected = 1077\n",
      "2020-07-14 18:10:29,055 - june.simulator - INFO - Date = 2020-03-13 13:00:00, number of deaths =  0, number of infected = 1124\n",
      "2020-07-14 18:10:29,978 - june.simulator - INFO - Date = 2020-03-14 00:00:00, number of deaths =  0, number of infected = 1195\n",
      "2020-07-14 18:10:30,815 - june.simulator - INFO - Date = 2020-03-14 04:00:00, number of deaths =  0, number of infected = 1231\n",
      "2020-07-14 18:10:31,639 - june.simulator - INFO - Date = 2020-03-14 08:00:00, number of deaths =  0, number of infected = 1269\n",
      "2020-07-14 18:10:32,291 - june.simulator - INFO - Date = 2020-03-14 12:00:00, number of deaths =  0, number of infected = 1308\n",
      "2020-07-14 18:10:33,193 - june.simulator - INFO - Date = 2020-03-15 00:00:00, number of deaths =  0, number of infected = 1387\n",
      "2020-07-14 18:10:34,019 - june.simulator - INFO - Date = 2020-03-15 04:00:00, number of deaths =  0, number of infected = 1423\n",
      "2020-07-14 18:10:34,853 - june.simulator - INFO - Date = 2020-03-15 08:00:00, number of deaths =  0, number of infected = 1474\n",
      "2020-07-14 18:10:35,498 - june.simulator - INFO - Date = 2020-03-15 12:00:00, number of deaths =  0, number of infected = 1523\n",
      "2020-07-14 18:10:36,485 - june.simulator - INFO - Date = 2020-03-16 00:00:00, number of deaths =  0, number of infected = 1605\n",
      "2020-07-14 18:10:37,513 - june.simulator - INFO - Date = 2020-03-16 01:00:00, number of deaths =  0, number of infected = 1612\n",
      "2020-07-14 18:10:38,453 - june.simulator - INFO - Date = 2020-03-16 05:00:00, number of deaths =  0, number of infected = 1655\n",
      "2020-07-14 18:10:39,476 - june.simulator - INFO - Date = 2020-03-16 09:00:00, number of deaths =  0, number of infected = 1697\n",
      "2020-07-14 18:10:40,820 - june.simulator - INFO - Date = 2020-03-16 10:00:00, number of deaths =  0, number of infected = 1719\n",
      "2020-07-14 18:10:41,849 - june.simulator - INFO - Date = 2020-03-16 13:00:00, number of deaths =  0, number of infected = 1750\n",
      "2020-07-14 18:10:43,065 - june.simulator - INFO - Date = 2020-03-17 00:00:00, number of deaths =  0, number of infected = 1842\n",
      "2020-07-14 18:10:44,023 - june.simulator - INFO - Date = 2020-03-17 01:00:00, number of deaths =  0, number of infected = 1857\n",
      "2020-07-14 18:10:45,084 - june.simulator - INFO - Date = 2020-03-17 05:00:00, number of deaths =  0, number of infected = 1903\n",
      "2020-07-14 18:10:46,249 - june.simulator - INFO - Date = 2020-03-17 09:00:00, number of deaths =  0, number of infected = 1961\n",
      "2020-07-14 18:10:47,366 - june.simulator - INFO - Date = 2020-03-17 10:00:00, number of deaths =  0, number of infected = 1974\n",
      "2020-07-14 18:10:48,382 - june.simulator - INFO - Date = 2020-03-17 13:00:00, number of deaths =  0, number of infected = 2044\n",
      "2020-07-14 18:10:49,584 - june.simulator - INFO - Date = 2020-03-18 00:00:00, number of deaths =  0, number of infected = 2133\n",
      "2020-07-14 18:10:50,610 - june.simulator - INFO - Date = 2020-03-18 01:00:00, number of deaths =  0, number of infected = 2148\n",
      "2020-07-14 18:10:52,290 - june.simulator - INFO - Date = 2020-03-18 05:00:00, number of deaths =  0, number of infected = 2220\n"
     ]
    }
   ],
   "source": [
    "%%time\n",
    "simulator.run()"
   ]
  },
  {
   "cell_type": "markdown",
   "metadata": {},
   "source": [
    "While the simulation runs (and afterwards) we can launch the visualization webpage by running\n",
    "```python june/visualizer.py path/to/results``` "
   ]
  },
  {
   "cell_type": "markdown",
   "metadata": {},
   "source": [
    "# Getting the results"
   ]
  },
  {
   "cell_type": "markdown",
   "metadata": {},
   "source": [
    "All results are stored in a json file specified in the ``save_path`` variable in the config file. We can also access it from ``world.logger`` directly."
   ]
  },
  {
   "cell_type": "code",
   "execution_count": null,
   "metadata": {},
   "outputs": [],
   "source": [
    "import pandas as pd"
   ]
  },
  {
   "cell_type": "code",
   "execution_count": null,
   "metadata": {},
   "outputs": [],
   "source": [
    "read = ReadLogger()"
   ]
  },
  {
   "cell_type": "markdown",
   "metadata": {},
   "source": [
    "## Hospital data and how it changed over time"
   ]
  },
  {
   "cell_type": "code",
   "execution_count": null,
   "metadata": {},
   "outputs": [],
   "source": [
    "hospitals_df = read.load_hospital_capacity()"
   ]
  },
  {
   "cell_type": "code",
   "execution_count": null,
   "metadata": {},
   "outputs": [],
   "source": [
    "hospitals_df.head(3)"
   ]
  },
  {
   "cell_type": "code",
   "execution_count": null,
   "metadata": {},
   "outputs": [],
   "source": [
    "hospitals_characteristics_df = read.load_hospital_characteristics()"
   ]
  },
  {
   "cell_type": "code",
   "execution_count": null,
   "metadata": {},
   "outputs": [],
   "source": [
    "hospitals_characteristics_df"
   ]
  },
  {
   "cell_type": "markdown",
   "metadata": {},
   "source": [
    "## where did infections happen?"
   ]
  },
  {
   "cell_type": "code",
   "execution_count": null,
   "metadata": {},
   "outputs": [],
   "source": [
    "loc_df = read.get_locations_infections()"
   ]
  },
  {
   "cell_type": "code",
   "execution_count": null,
   "metadata": {},
   "outputs": [],
   "source": [
    "locations_per_day = read.locations_df.groupby(pd.Grouper(freq='D')).sum()"
   ]
  },
  {
   "cell_type": "code",
   "execution_count": null,
   "metadata": {},
   "outputs": [],
   "source": [
    "all_infection_places = set(locations_per_day.location.sum())"
   ]
  },
  {
   "cell_type": "code",
   "execution_count": null,
   "metadata": {},
   "outputs": [],
   "source": [
    "def n_infections(row, infection_place):\n",
    "    return sum([row.counts[i] for i, x in enumerate(row.location) if x == infection_place])\n"
   ]
  },
  {
   "cell_type": "code",
   "execution_count": null,
   "metadata": {},
   "outputs": [],
   "source": [
    "for infection_place in all_infection_places:\n",
    "    locations_per_day[str(infection_place)] = locations_per_day.apply(\n",
    "        lambda x: n_infections(x, infection_place),\n",
    "        axis=1\n",
    "    )"
   ]
  },
  {
   "cell_type": "code",
   "execution_count": null,
   "metadata": {},
   "outputs": [],
   "source": [
    "locations_per_day = locations_per_day.drop(columns=['location',\n",
    "                                                    'counts'])"
   ]
  },
  {
   "cell_type": "code",
   "execution_count": null,
   "metadata": {},
   "outputs": [],
   "source": [
    "locations_per_day = locations_per_day.div(\n",
    "    locations_per_day.sum(axis=1), axis=0\n",
    ")\n"
   ]
  },
  {
   "cell_type": "code",
   "execution_count": null,
   "metadata": {},
   "outputs": [],
   "source": [
    "locations_per_day.plot.area( alpha=0.5)\n",
    "plt.legend(bbox_to_anchor=(1,1))\n",
    "plt.ylabel('Percent of infections')"
   ]
  },
  {
   "cell_type": "code",
   "execution_count": null,
   "metadata": {},
   "outputs": [],
   "source": [
    "from matplotlib import cm\n",
    "cmap = cm.get_cmap('Spectral') # Colour map (there are many others)\n",
    "\n",
    "locations_per_day.plot(figsize=(30,8), logy=True, ylim=(1e-3, 1), cmap=cmap)"
   ]
  },
  {
   "cell_type": "code",
   "execution_count": null,
   "metadata": {},
   "outputs": [],
   "source": [
    "import matplotlib.ticker as mtick\n",
    "\n",
    "ax = loc_df['percentage_infections'].sort_values().plot.bar()\n",
    "ax.yaxis.set_major_formatter(mtick.PercentFormatter())\n",
    "plt.ylabel('Percentage of infections at location')\n",
    "plt.xlabel('location')\n",
    "#plt.yscale('log')"
   ]
  },
  {
   "cell_type": "markdown",
   "metadata": {},
   "source": [
    "## rate of infection"
   ]
  },
  {
   "cell_type": "code",
   "execution_count": null,
   "metadata": {},
   "outputs": [],
   "source": [
    "r_df = read.get_r()"
   ]
  },
  {
   "cell_type": "code",
   "execution_count": null,
   "metadata": {},
   "outputs": [],
   "source": [
    "r_df.plot()\n",
    "plt.axvspan(policies.social_distancing_start, \n",
    "            policies.social_distancing_end,\n",
    "            facecolor='y', alpha=0.2)\n",
    "plt.axhline(y=1, linestyle='dashed', color='gray')\n",
    "plt.xlabel('Date')\n",
    "plt.yscale('log')\n",
    "plt.ylabel('R')"
   ]
  },
  {
   "cell_type": "markdown",
   "metadata": {},
   "source": [
    "## World infection curves, and by super area"
   ]
  },
  {
   "cell_type": "code",
   "execution_count": null,
   "metadata": {},
   "outputs": [],
   "source": [
    "world_df = read.world_summary()"
   ]
  },
  {
   "cell_type": "code",
   "execution_count": null,
   "metadata": {},
   "outputs": [],
   "source": [
    "import matplotlib.pyplot as plt\n",
    " \n",
    "plt.style.use(['science','notebook'])\n",
    "plt.style.reload_library()"
   ]
  },
  {
   "cell_type": "code",
   "execution_count": null,
   "metadata": {},
   "outputs": [],
   "source": [
    "import matplotlib as mpl\n",
    "mpl.rcParams['figure.dpi'] = 300"
   ]
  },
  {
   "cell_type": "code",
   "execution_count": null,
   "metadata": {},
   "outputs": [],
   "source": [
    "fig, ax = plt.subplots()\n",
    "world_df['infected'].plot(ax=ax)\n",
    "ax.axvspan(policies.social_distancing_start, \n",
    "            policies.social_distancing_end,\n",
    "            facecolor='y', alpha=0.2)\n",
    "ax.set_ylabel('# Infected')\n",
    "ax.set_xlabel('Date')"
   ]
  },
  {
   "cell_type": "code",
   "execution_count": null,
   "metadata": {},
   "outputs": [],
   "source": [
    "world_df.plot()\n",
    "plt.axvspan(policies.social_distancing_start, \n",
    "            policies.social_distancing_end,\n",
    "            facecolor='y', alpha=0.2)\n",
    "plt.legend(bbox_to_anchor=(1,1))\n"
   ]
  },
  {
   "cell_type": "code",
   "execution_count": null,
   "metadata": {},
   "outputs": [],
   "source": [
    "area_df = read.super_area_summary()"
   ]
  },
  {
   "cell_type": "code",
   "execution_count": null,
   "metadata": {},
   "outputs": [],
   "source": [
    "area_df[area_df.super_area == \"E02003282\"].plot()\n",
    "plt.legend(bbox_to_anchor=(1,1))\n",
    "\n"
   ]
  },
  {
   "cell_type": "markdown",
   "metadata": {},
   "source": [
    "## World infection curves per age group"
   ]
  },
  {
   "cell_type": "code",
   "execution_count": null,
   "metadata": {},
   "outputs": [],
   "source": [
    "ages_df = read.age_summary([0,10,20,30,40,\n",
    "                  50,60,70,80,90,100])"
   ]
  },
  {
   "cell_type": "code",
   "execution_count": null,
   "metadata": {},
   "outputs": [],
   "source": [
    "for name, group in ages_df.groupby('age_range'):\n",
    "    group['infected'].plot(label=name)\n",
    "plt.axvspan(policies.social_distancing_start, \n",
    "            policies.social_distancing_end,\n",
    "            facecolor='y', alpha=0.2)\n",
    "plt.legend(bbox_to_anchor=(1,1))\n"
   ]
  },
  {
   "cell_type": "code",
   "execution_count": null,
   "metadata": {},
   "outputs": [],
   "source": [
    "for name, group in ages_df.groupby('age_range'):\n",
    "    group['dead'].cumsum().plot(label=name)\n",
    "plt.legend()"
   ]
  },
  {
   "cell_type": "code",
   "execution_count": null,
   "metadata": {},
   "outputs": [],
   "source": [
    "for name, group in ages_df.groupby('age_range'):\n",
    "    group['susceptible'].plot(label=name)\n",
    "plt.legend()"
   ]
  },
  {
   "cell_type": "code",
   "execution_count": null,
   "metadata": {},
   "outputs": [],
   "source": [
    "for name, group in ages_df.groupby('age_range'):\n",
    "    group['hospital_admissions'].cumsum().plot(label=name)\n",
    "plt.legend()"
   ]
  },
  {
   "cell_type": "code",
   "execution_count": null,
   "metadata": {},
   "outputs": [],
   "source": [
    "for name, group in ages_df.groupby('age_range'):\n",
    "    group['intensive_care_admissions'].cumsum().plot(label=name)\n",
    "plt.legend()"
   ]
  },
  {
   "cell_type": "markdown",
   "metadata": {},
   "source": [
    "## Draw some of the symptoms trajectories"
   ]
  },
  {
   "cell_type": "code",
   "execution_count": null,
   "metadata": {},
   "outputs": [],
   "source": [
    "random_trajectories = read.draw_symptom_trajectories(window_length=600,\n",
    "                                        n_people=10)"
   ]
  },
  {
   "cell_type": "code",
   "execution_count": null,
   "metadata": {},
   "outputs": [],
   "source": [
    "from june.infection import SymptomTag"
   ]
  },
  {
   "cell_type": "code",
   "execution_count": null,
   "metadata": {},
   "outputs": [],
   "source": [
    "symptoms_values = [tag.value for tag in SymptomTag]\n",
    "symptoms_names = [tag.name for tag in SymptomTag]\n"
   ]
  },
  {
   "cell_type": "code",
   "execution_count": null,
   "metadata": {},
   "outputs": [],
   "source": [
    "for df_person in random_trajectories:\n",
    "    df_person['symptoms'].plot()\n",
    "plt.ylabel('Symptoms Trajectory')\n",
    "_ = plt.yticks(symptoms_values, symptoms_names)\n",
    "plt.xlabel('Date')"
   ]
  },
  {
   "cell_type": "code",
   "execution_count": null,
   "metadata": {},
   "outputs": [],
   "source": [
    "for df_person in random_trajectories:\n",
    "    df_person['n_secondary_infections'].plot()\n",
    "plt.ylabel('Number of secondary infections')\n",
    "\n",
    "plt.xlabel('Date')"
   ]
  },
  {
   "cell_type": "code",
   "execution_count": null,
   "metadata": {},
   "outputs": [],
   "source": []
  },
  {
   "cell_type": "code",
   "execution_count": null,
   "metadata": {},
   "outputs": [],
   "source": []
  },
  {
   "cell_type": "code",
   "execution_count": null,
   "metadata": {},
   "outputs": [],
   "source": []
  },
  {
   "cell_type": "code",
   "execution_count": null,
   "metadata": {},
   "outputs": [],
   "source": []
  },
  {
   "cell_type": "code",
   "execution_count": null,
   "metadata": {},
   "outputs": [],
   "source": []
  }
 ],
 "metadata": {
  "kernelspec": {
   "display_name": "Python 3",
   "language": "python",
   "name": "python3"
  },
  "language_info": {
   "codemirror_mode": {
    "name": "ipython",
    "version": 3
   },
   "file_extension": ".py",
   "mimetype": "text/x-python",
   "name": "python",
   "nbconvert_exporter": "python",
   "pygments_lexer": "ipython3",
   "version": "3.8.3"
  }
 },
 "nbformat": 4,
 "nbformat_minor": 4
}
