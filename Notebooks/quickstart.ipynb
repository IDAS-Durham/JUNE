{
 "cells": [
  {
   "cell_type": "code",
   "execution_count": 1,
   "metadata": {},
   "outputs": [],
   "source": [
    "%load_ext autoreload\n",
    "%autoreload 2"
   ]
  },
  {
   "cell_type": "code",
   "execution_count": 2,
   "metadata": {},
   "outputs": [],
   "source": [
    "import numpy as np\n",
    "import time\n",
    "from datetime import datetime\n",
    "import matplotlib.pyplot as plt\n",
    " \n",
    "plt.style.use(['science','notebook'])\n",
    "plt.style.reload_library()"
   ]
  },
  {
   "cell_type": "code",
   "execution_count": 3,
   "metadata": {},
   "outputs": [
    {
     "name": "stderr",
     "output_type": "stream",
     "text": [
      "No --data argument given - defaulting to:\n",
      "/home/florpi/JUNE/data\n",
      "No --configs argument given - defaulting to:\n",
      "/home/florpi/JUNE/configs\n"
     ]
    }
   ],
   "source": [
    "from june import World \n",
    "from june.demography.geography import Geography\n",
    "from june.demography import Demography\n",
    "from june.interaction import Interaction\n",
    "from june.infection import Infection, HealthIndexGenerator, InfectionSelector\n",
    "from june.infection.transmission import TransmissionConstant\n",
    "from june.groups import Hospitals, Schools, Companies, Households, CareHomes, Cemeteries, Universities\n",
    "from june.groups.leisure import generate_leisure_for_config, Cinemas, Pubs, Groceries\n",
    "from june.simulator import Simulator\n",
    "from june.infection_seed import InfectionSeed\n",
    "from june.policy import Policy, Policies\n",
    "from june import paths\n",
    "from june.hdf5_savers import load_geography_from_hdf5\n",
    "from june.logger.read_logger import ReadLogger\n",
    "from june.world import generate_world_from_geography\n",
    "from june.hdf5_savers import generate_world_from_hdf5"
   ]
  },
  {
   "cell_type": "markdown",
   "metadata": {},
   "source": [
    "# Initialize world\n",
    "\n",
    "To initialize a certain world, we need to add the different components we want to have in it. First we specify what super areas (msoa) we want to create. We have included these ones, because they are known to contain hospitals, schools, care homes, and companies.\n",
    "\n",
    "After creating the geography, we create the different components the worlds need to have such as care homes, companies ..."
   ]
  },
  {
   "cell_type": "code",
   "execution_count": 4,
   "metadata": {},
   "outputs": [],
   "source": [
    "CONFIG_PATH = paths.configs_path / \"config_example.yaml\""
   ]
  },
  {
   "cell_type": "code",
   "execution_count": 5,
   "metadata": {
    "scrolled": false
   },
   "outputs": [
    {
     "name": "stdout",
     "output_type": "stream",
     "text": [
      "2020-08-31 16:52:17,798 - june.demography.geography - INFO - There are 162 areas and 6 super_areas in the world.\n",
      "2020-08-31 16:52:17,812 - june.groups.hospital - INFO - There are 1 hospitals in this geography.\n",
      "2020-08-31 16:52:17,902 - june.groups.school - INFO - There are 26 schools in this geography.\n",
      "2020-08-31 16:52:17,969 - june.groups.school - INFO - No school for the age 0 in this world.\n",
      "2020-08-31 16:52:17,976 - june.groups.school - INFO - No school for the age 1 in this world.\n",
      "2020-08-31 16:52:17,980 - june.groups.school - INFO - No school for the age 2 in this world.\n",
      "2020-08-31 16:52:18,446 - june.groups.carehome - INFO - There are 11 care_homes in this geography.\n",
      "2020-08-31 16:52:39,008 - numexpr.utils - INFO - NumExpr defaulting to 4 threads.\n",
      "2020-08-31 16:52:47,921 - june.distributors.worker_distributor - INFO - There are 0 who had to be told to stay real\n",
      "2020-08-31 16:53:21,045 - june.groups.commute.commutehub_distributor - INFO - Distributing people to commute hubs in 11 commute cities.\n",
      "2020-08-31 16:53:21,046 - june.groups.commute.commutehub_distributor - INFO - Birmingham : 0 people commute in, 0 commute out.\n",
      "2020-08-31 16:53:21,047 - june.groups.commute.commutehub_distributor - INFO - Bristol : 0 people commute in, 0 commute out.\n",
      "2020-08-31 16:53:21,055 - june.groups.commute.commutehub_distributor - INFO - Cardiff : 0 people commute in, 0 commute out.\n",
      "2020-08-31 16:53:21,056 - june.groups.commute.commutehub_distributor - INFO - Leeds : 0 people commute in, 0 commute out.\n",
      "2020-08-31 16:53:21,061 - june.groups.commute.commutehub_distributor - INFO - Leicester : 0 people commute in, 0 commute out.\n",
      "2020-08-31 16:53:21,062 - june.groups.commute.commutehub_distributor - INFO - Liverpool : 0 people commute in, 0 commute out.\n",
      "2020-08-31 16:53:21,063 - june.groups.commute.commutehub_distributor - INFO - Manchester : 0 people commute in, 0 commute out.\n",
      "2020-08-31 16:53:21,074 - june.groups.commute.commutehub_distributor - INFO - Newcastle : 211 people commute in, 221 commute out.\n",
      "2020-08-31 16:53:21,113 - june.groups.commute.commutehub_distributor - INFO - Nottingham : 0 people commute in, 0 commute out.\n",
      "2020-08-31 16:53:21,114 - june.groups.commute.commutehub_distributor - INFO - Sheffield : 0 people commute in, 0 commute out.\n",
      "2020-08-31 16:53:21,115 - june.groups.commute.commutehub_distributor - INFO - London : 0 people commute in, 0 commute out.\n",
      "CPU times: user 1min 1s, sys: 2.27 s, total: 1min 3s\n",
      "Wall time: 1min 5s\n"
     ]
    }
   ],
   "source": [
    "%%time \n",
    "\n",
    "geography = Geography.from_file(\n",
    "        {\n",
    "            \"super_area\": [\n",
    "                \"E02003282\",\n",
    "                \"E02003283\",\n",
    "                \"E02001720\",\n",
    "                \"E02002560\",\n",
    "                \"E02002559\",\n",
    "                \"E02004314\",\n",
    "            ]\n",
    "        }\n",
    ")\n",
    "\n",
    "geography.hospitals = Hospitals.for_geography(geography)\n",
    "geography.schools = Schools.for_geography(geography)\n",
    "geography.companies = Companies.for_geography(geography)\n",
    "geography.care_homes = CareHomes.for_geography(geography)\n",
    "geography.universities = Universities.for_super_areas(geography.super_areas)\n",
    "world = generate_world_from_geography(geography, include_households=True, include_commute=True)\n"
   ]
  },
  {
   "cell_type": "markdown",
   "metadata": {},
   "source": [
    "## Commute, travel and leisure"
   ]
  },
  {
   "cell_type": "code",
   "execution_count": 6,
   "metadata": {},
   "outputs": [
    {
     "name": "stdout",
     "output_type": "stream",
     "text": [
      "2020-08-31 16:53:23,095 - june.groups.leisure.leisure - INFO - Distributing social venues to households\n",
      "2020-08-31 16:53:23,096 - june.groups.leisure.leisure - INFO - Distributed in 0 of 20498 households.\n"
     ]
    }
   ],
   "source": [
    "world.pubs = Pubs.for_geography(geography)\n",
    "world.cinemas = Cinemas.for_geography(geography)\n",
    "world.groceries = Groceries.for_geography(geography)\n",
    "leisure = generate_leisure_for_config(world, config_filename=CONFIG_PATH)\n",
    "leisure.distribute_social_venues_to_households(world.households, super_areas=world.super_areas) # this assigns possible social venues to people."
   ]
  },
  {
   "cell_type": "markdown",
   "metadata": {},
   "source": [
    "We are also going to need some cemeteries...geography.cemeteries = Cemeteries()\n"
   ]
  },
  {
   "cell_type": "code",
   "execution_count": 7,
   "metadata": {},
   "outputs": [],
   "source": [
    "world.cemeteries = Cemeteries()"
   ]
  },
  {
   "cell_type": "code",
   "execution_count": 8,
   "metadata": {},
   "outputs": [
    {
     "data": {
      "text/plain": [
       "57259"
      ]
     },
     "execution_count": 8,
     "metadata": {},
     "output_type": "execute_result"
    }
   ],
   "source": [
    "len(world.people)"
   ]
  },
  {
   "cell_type": "markdown",
   "metadata": {},
   "source": [
    "### If it took a long time to run the previous commands, it might be a good idea to save the world to reuse it later."
   ]
  },
  {
   "cell_type": "code",
   "execution_count": 9,
   "metadata": {},
   "outputs": [
    {
     "name": "stdout",
     "output_type": "stream",
     "text": [
      "2020-08-31 16:53:36,319 - june.hdf5_savers.world_saver - INFO - saving world to HDF5\n",
      "2020-08-31 16:53:37,745 - june.hdf5_savers.world_saver - INFO - saving hospitals...\n",
      "2020-08-31 16:53:37,750 - june.hdf5_savers.world_saver - INFO - saving schools...\n",
      "2020-08-31 16:53:37,759 - june.hdf5_savers.world_saver - INFO - saving companies...\n",
      "2020-08-31 16:53:37,773 - june.hdf5_savers.world_saver - INFO - saving households...\n",
      "2020-08-31 16:53:38,676 - june.hdf5_savers.world_saver - INFO - saving care homes...\n",
      "2020-08-31 16:53:38,679 - june.hdf5_savers.world_saver - INFO - saving commute cities...\n",
      "2020-08-31 16:53:38,685 - june.hdf5_savers.world_saver - INFO - saving commute hubs...\n",
      "2020-08-31 16:53:38,690 - june.hdf5_savers.world_saver - INFO - saving universities...\n",
      "2020-08-31 16:53:38,694 - june.hdf5_savers.world_saver - INFO - saving social venues...\n"
     ]
    }
   ],
   "source": [
    "world.to_hdf5(\"world.hdf5\")"
   ]
  },
  {
   "cell_type": "markdown",
   "metadata": {},
   "source": [
    "If we would like to load the world we saved, we just do"
   ]
  },
  {
   "cell_type": "code",
   "execution_count": 10,
   "metadata": {},
   "outputs": [
    {
     "name": "stdout",
     "output_type": "stream",
     "text": [
      "2020-08-31 16:53:38,741 - june.hdf5_savers.world_saver - INFO - loading world from HDF5\n",
      "2020-08-31 16:53:38,750 - june.hdf5_savers.world_saver - INFO - loading hospitals...\n",
      "2020-08-31 16:53:38,757 - june.hdf5_savers.world_saver - INFO - loading schools...\n",
      "2020-08-31 16:53:38,766 - june.hdf5_savers.world_saver - INFO - loading companies...\n",
      "2020-08-31 16:53:38,788 - june.hdf5_savers.world_saver - INFO - loading care homes...\n",
      "2020-08-31 16:53:38,792 - june.hdf5_savers.world_saver - INFO - loading universities...\n",
      "2020-08-31 16:53:38,797 - june.hdf5_savers.world_saver - INFO - loading commute cities...\n",
      "2020-08-31 16:53:38,829 - june.hdf5_savers.world_saver - INFO - loading commute hubs...\n",
      "2020-08-31 16:53:38,914 - june.hdf5_savers.world_saver - INFO - loading households...\n",
      "2020-08-31 16:53:39,473 - june.hdf5_savers.world_saver - INFO - loading population...\n",
      "2020-08-31 16:53:40,069 - june.hdf5_savers.world_saver - INFO - loading social venues...\n",
      "2020-08-31 16:53:40,081 - june.hdf5_savers.world_saver - INFO - restoring world...\n",
      "2020-08-31 16:53:40,085 - june.hdf5_savers.world_saver - INFO - restoring population...\n",
      "2020-08-31 16:53:50,091 - june.hdf5_savers.world_saver - INFO - restoring households...\n",
      "2020-08-31 16:53:53,220 - june.hdf5_savers.world_saver - INFO - restoring care homes...\n",
      "2020-08-31 16:53:53,224 - june.hdf5_savers.world_saver - INFO - restoring hospitals...\n",
      "2020-08-31 16:53:53,230 - june.hdf5_savers.world_saver - INFO - restoring commute...\n",
      "2020-08-31 16:53:53,234 - june.hdf5_savers.world_saver - INFO - restoring companies...\n",
      "2020-08-31 16:53:53,245 - june.hdf5_savers.world_saver - INFO - restoring schools...\n",
      "2020-08-31 16:53:53,249 - june.hdf5_savers.world_saver - INFO - restoring unis...\n",
      "2020-08-31 16:53:53,252 - june.hdf5_savers.world_saver - INFO - restoring social venues...\n"
     ]
    }
   ],
   "source": [
    "world = generate_world_from_hdf5(\"world.hdf5\")"
   ]
  },
  {
   "cell_type": "code",
   "execution_count": 11,
   "metadata": {},
   "outputs": [],
   "source": [
    "# and regenerate leisure in case we load it externally\n",
    "leisure = generate_leisure_for_config(world, CONFIG_PATH)"
   ]
  },
  {
   "cell_type": "markdown",
   "metadata": {},
   "source": [
    "you have now a beautiful pre-pandemic world. "
   ]
  },
  {
   "cell_type": "markdown",
   "metadata": {},
   "source": [
    "# Adding the infection"
   ]
  },
  {
   "cell_type": "markdown",
   "metadata": {},
   "source": [
    "The module in charge of infecting people is called the ``InfectionSelector``, which gives people a transmission time profile and a symptoms trajectory based on their age and sex (through the health index generator)"
   ]
  },
  {
   "cell_type": "code",
   "execution_count": 12,
   "metadata": {},
   "outputs": [],
   "source": [
    "health_index_generator = HealthIndexGenerator.from_file(asymptomatic_ratio=0.2)\n",
    "selector = InfectionSelector.from_file(\n",
    "        health_index_generator=health_index_generator,\n",
    "        transmission_config_path=paths.configs_path / 'defaults/transmission/XNExp.yaml'\n",
    ")"
   ]
  },
  {
   "cell_type": "markdown",
   "metadata": {},
   "source": [
    "# Adding the interaction"
   ]
  },
  {
   "cell_type": "code",
   "execution_count": 13,
   "metadata": {},
   "outputs": [],
   "source": [
    "interaction = Interaction.from_file()"
   ]
  },
  {
   "cell_type": "markdown",
   "metadata": {},
   "source": [
    "Beta are the intensities of the interaction taking place at the different groups"
   ]
  },
  {
   "cell_type": "code",
   "execution_count": 14,
   "metadata": {},
   "outputs": [],
   "source": [
    "for key in interaction.beta.keys():\n",
    "    interaction.beta[key] *= 0.2"
   ]
  },
  {
   "cell_type": "code",
   "execution_count": 15,
   "metadata": {},
   "outputs": [
    {
     "data": {
      "text/plain": [
       "{'box': 0.2,\n",
       " 'pub': 0.1,\n",
       " 'grocery': 0.05,\n",
       " 'cinema': 0.05,\n",
       " 'commute_unit': 0.1,\n",
       " 'commute_city_unit': 0.1,\n",
       " 'hospital': 0.010000000000000002,\n",
       " 'care_home': 0.24,\n",
       " 'company': 0.16000000000000003,\n",
       " 'school': 0.16000000000000003,\n",
       " 'household': 0.2,\n",
       " 'university': 0.1}"
      ]
     },
     "execution_count": 15,
     "metadata": {},
     "output_type": "execute_result"
    }
   ],
   "source": [
    "interaction.beta"
   ]
  },
  {
   "cell_type": "markdown",
   "metadata": {},
   "source": [
    "moreover this interaction module uses contact matrices, that are different for different groups. These contact matrices shouldnt be modified for now. However they are a combination of conversational contact matrices, and physical contact matrices (see the BBC pandemic paper, from where these matrices are extracted https://www.medrxiv.org/content/10.1101/2020.02.16.20023754v2)\n",
    "\n",
    "There is a parameter, ``alpha`` ($\\alpha$), that combines these two matrices in the following way,\n",
    "\n",
    "\n",
    "$\\beta M \\left(1 + (\\alpha -1) \\right) P$\n",
    "\n",
    "where $\\beta$ is the intensity of the interaction, and $P$ the physical contact matrix. A larger $\\alpha$ produces more physical contacts. It is an overall number, non dependent of the particular group.\n"
   ]
  },
  {
   "cell_type": "code",
   "execution_count": 16,
   "metadata": {},
   "outputs": [
    {
     "data": {
      "text/plain": [
       "2.0"
      ]
     },
     "execution_count": 16,
     "metadata": {},
     "output_type": "execute_result"
    }
   ],
   "source": [
    "interaction.alpha_physical"
   ]
  },
  {
   "cell_type": "markdown",
   "metadata": {},
   "source": [
    "# Seed the disease"
   ]
  },
  {
   "cell_type": "markdown",
   "metadata": {},
   "source": [
    "There are two options implemented in the seed at the moment, either you specify the number of cases and these are then homogeneously distributed by population to the different areas, or you use UK data on cases per region. For now use the first case."
   ]
  },
  {
   "cell_type": "code",
   "execution_count": 17,
   "metadata": {},
   "outputs": [],
   "source": [
    "infection_seed = InfectionSeed(\n",
    "    world.super_areas, selector,\n",
    ")"
   ]
  },
  {
   "cell_type": "code",
   "execution_count": 18,
   "metadata": {},
   "outputs": [],
   "source": [
    "n_cases = 50\n",
    "infection_seed.unleash_virus(n_cases) # play around with the initial number of cases"
   ]
  },
  {
   "cell_type": "markdown",
   "metadata": {},
   "source": [
    "# Set policies"
   ]
  },
  {
   "cell_type": "code",
   "execution_count": 19,
   "metadata": {},
   "outputs": [],
   "source": [
    "policies = Policies.from_file()"
   ]
  },
  {
   "cell_type": "code",
   "execution_count": 20,
   "metadata": {},
   "outputs": [
    {
     "data": {
      "text/plain": [
       "<june.policy.policy.Policies at 0x7f85e910ae20>"
      ]
     },
     "execution_count": 20,
     "metadata": {},
     "output_type": "execute_result"
    }
   ],
   "source": [
    "policies"
   ]
  },
  {
   "cell_type": "markdown",
   "metadata": {},
   "source": [
    "# Run the simulation"
   ]
  },
  {
   "cell_type": "markdown",
   "metadata": {},
   "source": [
    "The simulator is the main module in charge of running the simulation. It coordinates the ``ActivityManager`` which is responsible of allocating people to the right groups given the current timestep, it updates the health status of the population, and it runs the interaction over the different groups. All of these modules can be modified by policies at any given time."
   ]
  },
  {
   "cell_type": "markdown",
   "metadata": {},
   "source": [
    "Since the timer configuration is a bit cumbersome, it is read from the config file at ``configs/config_example.yaml``"
   ]
  },
  {
   "cell_type": "code",
   "execution_count": 21,
   "metadata": {},
   "outputs": [],
   "source": [
    "simulator = Simulator.from_file(\n",
    "    world=world,\n",
    "    infection_selector=selector,\n",
    "    interaction=interaction, \n",
    "    config_filename = CONFIG_PATH,\n",
    "    leisure = leisure,\n",
    "    policies = policies\n",
    ")"
   ]
  },
  {
   "cell_type": "code",
   "execution_count": null,
   "metadata": {
    "scrolled": true
   },
   "outputs": [
    {
     "name": "stdout",
     "output_type": "stream",
     "text": [
      "2020-08-31 16:53:55,751 - june.simulator - INFO - Starting group_dynamics for 40 days at day 0\n",
      "2020-08-31 16:53:55,752 - june.simulator - INFO - starting the loop ..., at 0 days, to run for 40 days\n",
      "2020-08-31 16:53:58,078 - june.simulator - INFO - Date = 2020-03-01 00:00:00, number of deaths =  0, number of infected = 50\n",
      "2020-08-31 16:53:59,610 - june.simulator - INFO - Date = 2020-03-01 04:00:00, number of deaths =  0, number of infected = 50\n",
      "2020-08-31 16:54:00,916 - june.simulator - INFO - Date = 2020-03-01 08:00:00, number of deaths =  0, number of infected = 50\n",
      "2020-08-31 16:54:01,455 - june.simulator - INFO - Date = 2020-03-01 12:00:00, number of deaths =  0, number of infected = 50\n",
      "2020-08-31 16:54:02,009 - june.simulator - INFO - Date = 2020-03-02 00:00:00, number of deaths =  0, number of infected = 50\n",
      "2020-08-31 16:54:02,733 - june.simulator - INFO - Date = 2020-03-02 01:00:00, number of deaths =  0, number of infected = 50\n",
      "2020-08-31 16:54:03,842 - june.simulator - INFO - Date = 2020-03-02 09:00:00, number of deaths =  0, number of infected = 53\n",
      "2020-08-31 16:54:04,948 - june.simulator - INFO - Date = 2020-03-02 10:00:00, number of deaths =  0, number of infected = 54\n",
      "2020-08-31 16:54:05,424 - june.simulator - INFO - Date = 2020-03-02 13:00:00, number of deaths =  0, number of infected = 54\n",
      "2020-08-31 16:54:06,004 - june.simulator - INFO - Date = 2020-03-03 00:00:00, number of deaths =  0, number of infected = 55\n",
      "2020-08-31 16:54:06,924 - june.simulator - INFO - Date = 2020-03-03 01:00:00, number of deaths =  0, number of infected = 55\n",
      "2020-08-31 16:54:07,937 - june.simulator - INFO - Date = 2020-03-03 09:00:00, number of deaths =  0, number of infected = 58\n",
      "2020-08-31 16:54:08,934 - june.simulator - INFO - Date = 2020-03-03 10:00:00, number of deaths =  0, number of infected = 58\n",
      "2020-08-31 16:54:09,376 - june.simulator - INFO - Date = 2020-03-03 13:00:00, number of deaths =  0, number of infected = 59\n",
      "2020-08-31 16:54:09,851 - june.simulator - INFO - Date = 2020-03-04 00:00:00, number of deaths =  0, number of infected = 65\n",
      "2020-08-31 16:54:10,615 - june.simulator - INFO - Date = 2020-03-04 01:00:00, number of deaths =  0, number of infected = 66\n",
      "2020-08-31 16:54:11,835 - june.simulator - INFO - Date = 2020-03-04 09:00:00, number of deaths =  0, number of infected = 74\n",
      "2020-08-31 16:54:12,869 - june.simulator - INFO - Date = 2020-03-04 10:00:00, number of deaths =  0, number of infected = 75\n",
      "2020-08-31 16:54:13,363 - june.simulator - INFO - Date = 2020-03-04 13:00:00, number of deaths =  0, number of infected = 76\n",
      "2020-08-31 16:54:13,901 - june.simulator - INFO - Date = 2020-03-05 00:00:00, number of deaths =  0, number of infected = 82\n",
      "2020-08-31 16:54:14,486 - june.simulator - INFO - Date = 2020-03-05 01:00:00, number of deaths =  0, number of infected = 82\n",
      "2020-08-31 16:54:14,993 - june.simulator - INFO - Date = 2020-03-05 09:00:00, number of deaths =  0, number of infected = 93\n",
      "2020-08-31 16:54:16,012 - june.simulator - INFO - Date = 2020-03-05 10:00:00, number of deaths =  0, number of infected = 96\n",
      "2020-08-31 16:54:16,408 - june.simulator - INFO - Date = 2020-03-05 13:00:00, number of deaths =  0, number of infected = 99\n",
      "2020-08-31 16:54:16,848 - june.simulator - INFO - Date = 2020-03-06 00:00:00, number of deaths =  0, number of infected = 106\n",
      "2020-08-31 16:54:17,391 - june.simulator - INFO - Date = 2020-03-06 01:00:00, number of deaths =  0, number of infected = 107\n",
      "2020-08-31 16:54:18,294 - june.simulator - INFO - Date = 2020-03-06 09:00:00, number of deaths =  0, number of infected = 121\n",
      "2020-08-31 16:54:19,563 - june.simulator - INFO - Date = 2020-03-06 10:00:00, number of deaths =  0, number of infected = 121\n",
      "2020-08-31 16:54:19,964 - june.simulator - INFO - Date = 2020-03-06 13:00:00, number of deaths =  0, number of infected = 121\n",
      "2020-08-31 16:54:21,135 - june.simulator - INFO - Date = 2020-03-07 00:00:00, number of deaths =  0, number of infected = 129\n",
      "2020-08-31 16:54:22,123 - june.simulator - INFO - Date = 2020-03-07 04:00:00, number of deaths =  0, number of infected = 132\n",
      "2020-08-31 16:54:23,121 - june.simulator - INFO - Date = 2020-03-07 08:00:00, number of deaths =  0, number of infected = 133\n",
      "2020-08-31 16:54:23,547 - june.simulator - INFO - Date = 2020-03-07 12:00:00, number of deaths =  0, number of infected = 138\n",
      "2020-08-31 16:54:24,438 - june.simulator - INFO - Date = 2020-03-08 00:00:00, number of deaths =  0, number of infected = 150\n",
      "2020-08-31 16:54:25,676 - june.simulator - INFO - Date = 2020-03-08 04:00:00, number of deaths =  0, number of infected = 155\n",
      "2020-08-31 16:54:26,809 - june.simulator - INFO - Date = 2020-03-08 08:00:00, number of deaths =  0, number of infected = 158\n",
      "2020-08-31 16:54:27,223 - june.simulator - INFO - Date = 2020-03-08 12:00:00, number of deaths =  0, number of infected = 162\n",
      "2020-08-31 16:54:27,637 - june.simulator - INFO - Date = 2020-03-09 00:00:00, number of deaths =  0, number of infected = 169\n",
      "2020-08-31 16:54:28,187 - june.simulator - INFO - Date = 2020-03-09 01:00:00, number of deaths =  0, number of infected = 169\n",
      "2020-08-31 16:54:28,920 - june.simulator - INFO - Date = 2020-03-09 09:00:00, number of deaths =  0, number of infected = 192\n",
      "2020-08-31 16:54:29,890 - june.simulator - INFO - Date = 2020-03-09 10:00:00, number of deaths =  0, number of infected = 195\n",
      "2020-08-31 16:54:30,272 - june.simulator - INFO - Date = 2020-03-09 13:00:00, number of deaths =  0, number of infected = 197\n",
      "2020-08-31 16:54:30,696 - june.simulator - INFO - Date = 2020-03-10 00:00:00, number of deaths =  0, number of infected = 207\n",
      "2020-08-31 16:54:31,301 - june.simulator - INFO - Date = 2020-03-10 01:00:00, number of deaths =  0, number of infected = 209\n"
     ]
    }
   ],
   "source": [
    "%%time\n",
    "simulator.run()"
   ]
  },
  {
   "cell_type": "markdown",
   "metadata": {},
   "source": [
    "While the simulation runs (and afterwards) we can launch the visualization webpage by running\n",
    "```python june/visualizer.py path/to/results``` "
   ]
  },
  {
   "cell_type": "markdown",
   "metadata": {},
   "source": [
    "# Getting the results"
   ]
  },
  {
   "cell_type": "markdown",
   "metadata": {},
   "source": [
    "All results are stored in a json file specified in the ``save_path`` variable in the config file. We can also access it from ``world.logger`` directly."
   ]
  },
  {
   "cell_type": "code",
   "execution_count": null,
   "metadata": {},
   "outputs": [],
   "source": [
    "import pandas as pd"
   ]
  },
  {
   "cell_type": "code",
   "execution_count": null,
   "metadata": {},
   "outputs": [],
   "source": [
    "%%time\n",
    "read = ReadLogger()"
   ]
  },
  {
   "cell_type": "markdown",
   "metadata": {},
   "source": [
    "## Hospital data and how it changed over time"
   ]
  },
  {
   "cell_type": "code",
   "execution_count": null,
   "metadata": {},
   "outputs": [],
   "source": [
    "hospitals_characteristics_df = read.load_hospital_characteristics()"
   ]
  },
  {
   "cell_type": "code",
   "execution_count": null,
   "metadata": {},
   "outputs": [],
   "source": [
    "hospitals_characteristics_df"
   ]
  },
  {
   "cell_type": "code",
   "execution_count": null,
   "metadata": {
    "scrolled": true
   },
   "outputs": [],
   "source": [
    "hospitals_df = read.load_hospital_capacity()"
   ]
  },
  {
   "cell_type": "code",
   "execution_count": null,
   "metadata": {},
   "outputs": [],
   "source": [
    "hospitals_df"
   ]
  },
  {
   "cell_type": "markdown",
   "metadata": {},
   "source": [
    "## where did infections happen?"
   ]
  },
  {
   "cell_type": "code",
   "execution_count": null,
   "metadata": {},
   "outputs": [],
   "source": [
    "infection_locations = read.get_locations_infections()"
   ]
  },
  {
   "cell_type": "code",
   "execution_count": null,
   "metadata": {},
   "outputs": [],
   "source": [
    "unique_locations, counts_locations = np.unique(\n",
    "                np.array(infection_locations),\n",
    "                return_counts=True)\n",
    "\n",
    "location_counts_df = pd.DataFrame(\n",
    "    {'locations': unique_locations,\n",
    "    'counts': counts_locations}\n",
    ")\n",
    "location_counts_df.set_index('locations', inplace=True)"
   ]
  },
  {
   "cell_type": "code",
   "execution_count": null,
   "metadata": {},
   "outputs": [],
   "source": [
    "location_counts_df['percent_infections']= 100*(location_counts_df['counts'])/location_counts_df.values.sum()"
   ]
  },
  {
   "cell_type": "code",
   "execution_count": null,
   "metadata": {},
   "outputs": [],
   "source": [
    "import matplotlib.ticker as mtick\n",
    "\n",
    "ax = location_counts_df['percent_infections'].sort_values().plot.bar()\n",
    "ax.yaxis.set_major_formatter(mtick.PercentFormatter())\n",
    "plt.ylabel('Percentage of infections at location')\n",
    "plt.xlabel('location')\n"
   ]
  },
  {
   "cell_type": "code",
   "execution_count": null,
   "metadata": {},
   "outputs": [],
   "source": [
    "# Find outbreaks"
   ]
  },
  {
   "cell_type": "code",
   "execution_count": null,
   "metadata": {},
   "outputs": [],
   "source": [
    "unique_id, count_id =  np.unique(\n",
    "        np.array(read.locations_df['location_id'].sum()),\n",
    "        return_counts=True\n",
    ")"
   ]
  },
  {
   "cell_type": "code",
   "execution_count": null,
   "metadata": {},
   "outputs": [],
   "source": [
    "unique_id[np.argsort(count_id)[-5:]]"
   ]
  },
  {
   "cell_type": "code",
   "execution_count": null,
   "metadata": {},
   "outputs": [],
   "source": [
    "count_id[np.argsort(count_id)[-5:]]"
   ]
  },
  {
   "cell_type": "code",
   "execution_count": null,
   "metadata": {},
   "outputs": [],
   "source": [
    "weekly_infections=read.locations_df.resample('W').sum()"
   ]
  },
  {
   "cell_type": "code",
   "execution_count": null,
   "metadata": {},
   "outputs": [],
   "source": [
    "for location in unique_locations:\n",
    "    weekly_infections[str(location)] = weekly_infections.apply(\n",
    "        lambda x: x.location.count(str(location)), axis=1\n",
    "    )"
   ]
  },
  {
   "cell_type": "code",
   "execution_count": null,
   "metadata": {},
   "outputs": [],
   "source": [
    "weekly_infections.iloc[:,3:].plot()"
   ]
  },
  {
   "cell_type": "code",
   "execution_count": null,
   "metadata": {},
   "outputs": [],
   "source": [
    "for location in unique_locations:\n",
    "    read.locations_df[str(location)] = read.locations_df.apply(\n",
    "        lambda x: x.location.count(str(location)), axis=1\n",
    "    )"
   ]
  },
  {
   "cell_type": "code",
   "execution_count": null,
   "metadata": {},
   "outputs": [],
   "source": [
    "read.locations_df.index = pd.to_datetime(read.locations_df.index)\n"
   ]
  },
  {
   "cell_type": "code",
   "execution_count": null,
   "metadata": {},
   "outputs": [],
   "source": [
    "read.locations_df.iloc[:,3:].plot()"
   ]
  },
  {
   "cell_type": "markdown",
   "metadata": {},
   "source": [
    "## rate of infection"
   ]
  },
  {
   "cell_type": "code",
   "execution_count": null,
   "metadata": {},
   "outputs": [],
   "source": [
    "r_df = read.get_r()"
   ]
  },
  {
   "cell_type": "code",
   "execution_count": null,
   "metadata": {},
   "outputs": [],
   "source": [
    "from june.policy import SocialDistancing\n",
    "r_df.plot()\n",
    "colors = [\"yellow\", \"orange\", 'blue']\n",
    "for policy in policies.policies:\n",
    "    if isinstance(policy, SocialDistancing):\n",
    "        plt.axvspan(policy.start_time, \n",
    "                policy.end_time,\n",
    "                facecolor=colors.pop(),\n",
    "                alpha=0.2)\n",
    "plt.axhline(y=1, linestyle='dashed', color='gray')\n",
    "plt.xlabel('Date')\n",
    "plt.ylim(0,3)\n",
    "plt.ylabel('R')"
   ]
  },
  {
   "cell_type": "markdown",
   "metadata": {},
   "source": [
    "## World infection curves, and by super area"
   ]
  },
  {
   "cell_type": "code",
   "execution_count": null,
   "metadata": {},
   "outputs": [],
   "source": [
    "%%time\n",
    "world_df = read.world_summary()"
   ]
  },
  {
   "cell_type": "code",
   "execution_count": null,
   "metadata": {},
   "outputs": [],
   "source": [
    "fig, ax = plt.subplots()\n",
    "world_df['daily_infections'].resample('D').sum().plot(ax=ax)\n",
    "for policy in policies.policies:\n",
    "    plt.axvspan(policy.start_time, \n",
    "                policy.end_time,\n",
    "                alpha=0.01)\n",
    "plt.axvline('2020-03-23',\n",
    "           linestyle='dashed',\n",
    "           color='indianred')\n",
    "ax.set_ylabel('# daily infections')\n",
    "ax.set_xlabel('Date')"
   ]
  },
  {
   "cell_type": "code",
   "execution_count": null,
   "metadata": {},
   "outputs": [],
   "source": [
    "fig, ax = plt.subplots()\n",
    "world_df['daily_hospital_admissions'].resample('D').sum().plot(ax=ax)\n",
    "\n",
    "plt.axvline('2020-04-01',\n",
    "           linestyle='dashed',\n",
    "           color='indianred')\n",
    "ax.set_ylabel('# daily hospital admissions')\n",
    "ax.set_xlabel('Date')"
   ]
  },
  {
   "cell_type": "code",
   "execution_count": null,
   "metadata": {},
   "outputs": [],
   "source": [
    "fig, ax = plt.subplots()\n",
    "world_df['current_infected'].plot(ax=ax)\n",
    "\n",
    "ax.set_ylabel('# Infected')\n",
    "ax.set_xlabel('Date')"
   ]
  },
  {
   "cell_type": "code",
   "execution_count": null,
   "metadata": {},
   "outputs": [],
   "source": [
    "world_df.plot()\n",
    "\n",
    "plt.legend(bbox_to_anchor=(1,1))\n"
   ]
  },
  {
   "cell_type": "code",
   "execution_count": null,
   "metadata": {},
   "outputs": [],
   "source": [
    "%%time\n",
    "run_summary = read.run_summary()"
   ]
  },
  {
   "cell_type": "code",
   "execution_count": null,
   "metadata": {},
   "outputs": [],
   "source": [
    "regional_run_summary = run_summary.groupby(['region', run_summary.index]).sum()"
   ]
  },
  {
   "cell_type": "code",
   "execution_count": null,
   "metadata": {},
   "outputs": [],
   "source": [
    "regional_run_summary"
   ]
  },
  {
   "cell_type": "code",
   "execution_count": null,
   "metadata": {},
   "outputs": [],
   "source": [
    "#regional_run_summary.loc['East of England']['daily_infections'].plot(label='East of England')\n",
    "regional_run_summary.loc['North East']['daily_infections'].plot(label='North East')\n",
    "plt.legend()"
   ]
  },
  {
   "cell_type": "markdown",
   "metadata": {},
   "source": [
    "## World infection curves per age group"
   ]
  },
  {
   "cell_type": "code",
   "execution_count": null,
   "metadata": {},
   "outputs": [],
   "source": [
    "%%time\n",
    "ages_df = read.age_summary([0,10,20,30,40,\n",
    "                  50,60,70,80,90,100])"
   ]
  },
  {
   "cell_type": "code",
   "execution_count": null,
   "metadata": {},
   "outputs": [],
   "source": [
    "for name, group in ages_df.groupby('age_range'):\n",
    "    group['current_infected'].plot(label=name)\n",
    "colors = [\"yellow\", \"orange\",\"blue\"]\n",
    "for policy in policies.policies:\n",
    "    if isinstance(policy, SocialDistancing):\n",
    "        plt.axvspan(policy.start_time, \n",
    "                policy.end_time,\n",
    "                facecolor=colors.pop(), alpha=0.2)\n",
    "plt.legend(bbox_to_anchor=(1,1))\n"
   ]
  },
  {
   "cell_type": "markdown",
   "metadata": {},
   "source": [
    "## Draw some of the symptoms trajectories"
   ]
  },
  {
   "cell_type": "code",
   "execution_count": null,
   "metadata": {},
   "outputs": [],
   "source": [
    "random_trajectories = read.draw_symptom_trajectories(window_length=600,\n",
    "                                        n_people=10)"
   ]
  },
  {
   "cell_type": "code",
   "execution_count": null,
   "metadata": {},
   "outputs": [],
   "source": [
    "from june.infection import SymptomTag"
   ]
  },
  {
   "cell_type": "code",
   "execution_count": null,
   "metadata": {},
   "outputs": [],
   "source": [
    "symptoms_values = [tag.value for tag in SymptomTag]\n",
    "symptoms_names = [tag.name for tag in SymptomTag]\n"
   ]
  },
  {
   "cell_type": "code",
   "execution_count": null,
   "metadata": {},
   "outputs": [],
   "source": [
    "for df_person in random_trajectories:\n",
    "    df_person['symptoms'].plot()\n",
    "plt.ylabel('Symptoms Trajectory')\n",
    "_ = plt.yticks(symptoms_values, symptoms_names)\n",
    "plt.xlabel('Date')"
   ]
  },
  {
   "cell_type": "code",
   "execution_count": null,
   "metadata": {},
   "outputs": [],
   "source": [
    "for df_person in random_trajectories:\n",
    "    df_person['n_secondary_infections'].plot()\n",
    "plt.ylabel('Number of secondary infections')\n",
    "\n",
    "plt.xlabel('Date')"
   ]
  },
  {
   "cell_type": "code",
   "execution_count": null,
   "metadata": {},
   "outputs": [],
   "source": []
  },
  {
   "cell_type": "code",
   "execution_count": null,
   "metadata": {},
   "outputs": [],
   "source": []
  }
 ],
 "metadata": {
  "kernelspec": {
   "display_name": "Python 3",
   "language": "python",
   "name": "python3"
  },
  "language_info": {
   "codemirror_mode": {
    "name": "ipython",
    "version": 3
   },
   "file_extension": ".py",
   "mimetype": "text/x-python",
   "name": "python",
   "nbconvert_exporter": "python",
   "pygments_lexer": "ipython3",
   "version": "3.8.3"
  }
 },
 "nbformat": 4,
 "nbformat_minor": 4
}
