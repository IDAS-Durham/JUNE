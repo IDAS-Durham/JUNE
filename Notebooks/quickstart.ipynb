{
 "cells": [
  {
   "cell_type": "code",
   "execution_count": 1,
   "metadata": {},
   "outputs": [],
   "source": [
    "%load_ext autoreload\n",
    "%autoreload 2"
   ]
  },
  {
   "cell_type": "code",
   "execution_count": 2,
   "metadata": {},
   "outputs": [],
   "source": [
    "import numpy as np\n",
    "import time\n",
    "from datetime import datetime\n",
    "import matplotlib.pyplot as plt\n",
    "import seaborn as sns\n",
    "sns.set_context('notebook')"
   ]
  },
  {
   "cell_type": "code",
   "execution_count": 3,
   "metadata": {},
   "outputs": [
    {
     "name": "stderr",
     "output_type": "stream",
     "text": [
      "No --data argument given - defaulting to:\n",
      "/home/arnau/code/JUNE/data\n",
      "No --configs argument given - defaulting to:\n",
      "/home/arnau/code/JUNE/configs\n"
     ]
    }
   ],
   "source": [
    "from june import World \n",
    "from june.demography.geography import Geography\n",
    "from june.demography import Demography\n",
    "from june.interaction import ContactAveraging\n",
    "from june.infection import Infection\n",
    "from june.infection.transmission import TransmissionConstant\n",
    "from june.groups import Hospitals, Schools, Companies, Households, CareHomes, Cemeteries, Universities\n",
    "from june.groups.leisure import leisure, Cinemas, Pubs, Groceries\n",
    "from june.simulator import Simulator\n",
    "from june.seed import Seed\n",
    "from june.policy import Policy, Policies\n",
    "from june import paths\n",
    "from june.logger.read_logger import ReadLogger\n",
    "from june.infection.infection import InfectionSelector\n",
    "from june.world import generate_world_from_hdf5, generate_world_from_geography"
   ]
  },
  {
   "cell_type": "markdown",
   "metadata": {},
   "source": [
    "# Initialize world\n",
    "\n",
    "To initialize a certain world, we need to add the different components we want to have in it. First we specify what super areas (msoa) we want to create. We have included these ones, because they are known to contain hospitals, schools, care homes, and companies.\n",
    "\n",
    "After creating the geography, we create the different components the worlds need to have such as care homes, companies ..."
   ]
  },
  {
   "cell_type": "code",
   "execution_count": 4,
   "metadata": {},
   "outputs": [
    {
     "name": "stdout",
     "output_type": "stream",
     "text": [
      "2020-06-24 08:41:00,092 - june.demography.geography - INFO - There are 129 areas and 5 super_areas in the world.\n",
      "2020-06-24 08:41:00,098 - june.groups.hospital - INFO - There are 1 hospitals in this geography.\n",
      "2020-06-24 08:41:00,142 - june.groups.school - INFO - There are 19 schools in this geography.\n",
      "2020-06-24 08:41:00,166 - june.groups.school - INFO - No school for the age 0 in this world.\n",
      "2020-06-24 08:41:00,170 - june.groups.school - INFO - No school for the age 1 in this world.\n",
      "2020-06-24 08:41:00,173 - june.groups.school - INFO - No school for the age 2 in this world.\n",
      "2020-06-24 08:41:00,437 - june.groups.carehome - INFO - There are 9 care_homes in this geography.\n",
      "2020-06-24 08:41:11,861 - june.distributors.worker_distributor - INFO - There are 0 who had to be told to stay real\n",
      "CPU times: user 35.2 s, sys: 1.99 s, total: 37.2 s\n",
      "Wall time: 38.1 s\n"
     ]
    }
   ],
   "source": [
    "%%time \n",
    "\n",
    "geography = Geography.from_file(\n",
    "        {\n",
    "            \"super_area\": [\n",
    "                \"E02003282\",\n",
    "                \"E02001720\",\n",
    "                \"E00088544\",\n",
    "                \"E02002560\",\n",
    "                \"E02002559\",\n",
    "                \"E02004314\",\n",
    "            ]\n",
    "        }\n",
    ")\n",
    "\n",
    "geography.hospitals = Hospitals.for_geography(geography)\n",
    "geography.schools = Schools.for_geography(geography)\n",
    "geography.companies = Companies.for_geography(geography)\n",
    "geography.care_homes = CareHomes.for_geography(geography)\n",
    "geography.universities = Universities.for_super_areas(geography.super_areas)\n",
    "world = generate_world_from_geography(geography, include_households=True, include_commute=True)\n"
   ]
  },
  {
   "cell_type": "code",
   "execution_count": null,
   "metadata": {},
   "outputs": [],
   "source": []
  },
  {
   "cell_type": "code",
   "execution_count": 5,
   "metadata": {},
   "outputs": [
    {
     "data": {
      "text/plain": [
       "46784"
      ]
     },
     "execution_count": 5,
     "metadata": {},
     "output_type": "execute_result"
    }
   ],
   "source": [
    "len(world.people)"
   ]
  },
  {
   "cell_type": "markdown",
   "metadata": {},
   "source": [
    "### If it took a long time to run the previous command, it might be a good idea to save the world to reuse it later."
   ]
  },
  {
   "cell_type": "code",
   "execution_count": 6,
   "metadata": {},
   "outputs": [],
   "source": [
    "#world.to_hdf5(\"world.hdf5\")"
   ]
  },
  {
   "cell_type": "markdown",
   "metadata": {},
   "source": [
    "If we would like to load the world we saved, we just do"
   ]
  },
  {
   "cell_type": "code",
   "execution_count": 7,
   "metadata": {},
   "outputs": [],
   "source": [
    "#world = generate_world_from_hdf5(\"world.hdf5\")"
   ]
  },
  {
   "cell_type": "markdown",
   "metadata": {},
   "source": [
    "you have now a beautiful pre-pandemic world. "
   ]
  },
  {
   "cell_type": "markdown",
   "metadata": {},
   "source": [
    "## Commute, travel and leisure"
   ]
  },
  {
   "cell_type": "markdown",
   "metadata": {},
   "source": [
    "We can add cinemas, pubs, groceries, etc. as well as commute in major cities with"
   ]
  },
  {
   "cell_type": "code",
   "execution_count": 8,
   "metadata": {},
   "outputs": [],
   "source": [
    "# leisure\n",
    "world.cinemas = Cinemas.for_geography(geography)\n",
    "world.pubs = Pubs.for_geography(geography)\n",
    "world.groceries = Groceries.for_super_areas(world.super_areas,\n",
    "                                            venues_per_capita=1/500)"
   ]
  },
  {
   "cell_type": "code",
   "execution_count": 9,
   "metadata": {},
   "outputs": [],
   "source": [
    "# commute\n",
    "#world.initialise_commuting()"
   ]
  },
  {
   "cell_type": "markdown",
   "metadata": {},
   "source": [
    "We are also going to need some cemeteries...geography.cemeteries = Cemeteries()\n"
   ]
  },
  {
   "cell_type": "code",
   "execution_count": 10,
   "metadata": {},
   "outputs": [],
   "source": [
    "world.cemeteries = Cemeteries()"
   ]
  },
  {
   "cell_type": "markdown",
   "metadata": {},
   "source": [
    "# Adding the infection"
   ]
  },
  {
   "cell_type": "markdown",
   "metadata": {},
   "source": [
    "Now, you can play around with different models of infections. The building blocks for an infection are: Transmission and Symptoms. For now, only SymptomsConstant and TransmissionConstant are in a state to be used."
   ]
  },
  {
   "cell_type": "code",
   "execution_count": 11,
   "metadata": {},
   "outputs": [],
   "source": [
    "selector = InfectionSelector.from_file()"
   ]
  },
  {
   "cell_type": "code",
   "execution_count": 12,
   "metadata": {},
   "outputs": [
    {
     "data": {
      "text/plain": [
       "<june.infection.infection.InfectionSelector at 0x7f7bb2ecb850>"
      ]
     },
     "execution_count": 12,
     "metadata": {},
     "output_type": "execute_result"
    }
   ],
   "source": [
    "selector"
   ]
  },
  {
   "cell_type": "markdown",
   "metadata": {},
   "source": [
    "# Adding the interaction"
   ]
  },
  {
   "cell_type": "code",
   "execution_count": 13,
   "metadata": {},
   "outputs": [],
   "source": [
    "interaction = ContactAveraging.from_file(selector=selector)\n",
    "#interaction = DefaultInteraction.from_file(selector=selector)"
   ]
  },
  {
   "cell_type": "markdown",
   "metadata": {},
   "source": [
    "Beta are the intensities of the interaction taking place at the different groups"
   ]
  },
  {
   "cell_type": "code",
   "execution_count": 14,
   "metadata": {},
   "outputs": [
    {
     "data": {
      "text/plain": [
       "{'box': 1,\n",
       " 'pub': 0.1,\n",
       " 'grocery': 0.1,\n",
       " 'cinema': 0.1,\n",
       " 'commute_unit': 1.0,\n",
       " 'commute_city_unit': 1.0,\n",
       " 'hospital': 1.0,\n",
       " 'care_home': 1.0,\n",
       " 'company': 0.1,\n",
       " 'school': 0.1,\n",
       " 'household': 0.2,\n",
       " 'university': 0.01}"
      ]
     },
     "execution_count": 14,
     "metadata": {},
     "output_type": "execute_result"
    }
   ],
   "source": [
    "interaction.beta"
   ]
  },
  {
   "cell_type": "markdown",
   "metadata": {},
   "source": [
    "to modify these, simply do"
   ]
  },
  {
   "cell_type": "code",
   "execution_count": 15,
   "metadata": {},
   "outputs": [],
   "source": [
    "interaction.beta['household'] *= 2"
   ]
  },
  {
   "cell_type": "code",
   "execution_count": 16,
   "metadata": {},
   "outputs": [
    {
     "data": {
      "text/plain": [
       "{'box': 1,\n",
       " 'pub': 0.1,\n",
       " 'grocery': 0.1,\n",
       " 'cinema': 0.1,\n",
       " 'commute_unit': 1.0,\n",
       " 'commute_city_unit': 1.0,\n",
       " 'hospital': 1.0,\n",
       " 'care_home': 1.0,\n",
       " 'company': 0.1,\n",
       " 'school': 0.1,\n",
       " 'household': 0.4,\n",
       " 'university': 0.01}"
      ]
     },
     "execution_count": 16,
     "metadata": {},
     "output_type": "execute_result"
    }
   ],
   "source": [
    "interaction.beta"
   ]
  },
  {
   "cell_type": "markdown",
   "metadata": {},
   "source": [
    "moreover this interaction module uses contact matrices, that are different for different groups. These contact matrices shouldnt be modified for now. However they are a combination of conversational contact matrices, and physical contact matrices (see the BBC pandemic paper, from where these matrices are extracted https://www.medrxiv.org/content/10.1101/2020.02.16.20023754v2)\n",
    "\n",
    "There is a parameter, ``alpha`` ($\\alpha$), that combines these two matrices in the following way,\n",
    "\n",
    "\n",
    "$\\beta M \\left(1 + (\\alpha -1) \\right) P$\n",
    "\n",
    "where $\\beta$ is the intensity of the interaction, and $P$ the physical contact matrix. A larger $\\alpha$ produces more physical contacts. It is an overall number, non dependent of the particular group.\n"
   ]
  },
  {
   "cell_type": "code",
   "execution_count": 17,
   "metadata": {},
   "outputs": [
    {
     "data": {
      "text/plain": [
       "2.0"
      ]
     },
     "execution_count": 17,
     "metadata": {},
     "output_type": "execute_result"
    }
   ],
   "source": [
    "interaction.alpha_physical"
   ]
  },
  {
   "cell_type": "code",
   "execution_count": 18,
   "metadata": {},
   "outputs": [],
   "source": [
    "interaction.alpha_physical /= 2"
   ]
  },
  {
   "cell_type": "code",
   "execution_count": 19,
   "metadata": {},
   "outputs": [
    {
     "data": {
      "text/plain": [
       "1.0"
      ]
     },
     "execution_count": 19,
     "metadata": {},
     "output_type": "execute_result"
    }
   ],
   "source": [
    "interaction.alpha_physical"
   ]
  },
  {
   "cell_type": "markdown",
   "metadata": {},
   "source": [
    "# Seed the disease"
   ]
  },
  {
   "cell_type": "markdown",
   "metadata": {},
   "source": [
    "There are two options implemented in the seed at the moment, either you specify the number of cases and these are then homogeneously distributed by population to the different areas, or you use UK data on cases per region. For now use the first case."
   ]
  },
  {
   "cell_type": "code",
   "execution_count": 20,
   "metadata": {},
   "outputs": [],
   "source": [
    "seed = Seed(world.super_areas, selector,)"
   ]
  },
  {
   "cell_type": "code",
   "execution_count": 21,
   "metadata": {},
   "outputs": [],
   "source": [
    "n_cases = 50\n",
    "seed.unleash_virus(n_cases) # play around with the initial number of cases"
   ]
  },
  {
   "cell_type": "markdown",
   "metadata": {},
   "source": [
    "# Set policies"
   ]
  },
  {
   "cell_type": "code",
   "execution_count": 22,
   "metadata": {},
   "outputs": [],
   "source": [
    "policies = Policies.from_file()"
   ]
  },
  {
   "cell_type": "markdown",
   "metadata": {},
   "source": [
    "# Run the simulation"
   ]
  },
  {
   "cell_type": "markdown",
   "metadata": {},
   "source": [
    "Since the timer configuration is a bit cumbersome, it is read from the config file at ``configs/config_example.yaml``"
   ]
  },
  {
   "cell_type": "code",
   "execution_count": 23,
   "metadata": {},
   "outputs": [],
   "source": [
    "CONFIG_PATH = \"../configs/config_example.yaml\"\n",
    "\n",
    "leisure_instance = leisure.generate_leisure_for_config(\n",
    "world=world, config_filename = CONFIG_PATH\n",
    ")\n",
    "simulator = Simulator.from_file(\n",
    "     world, interaction, selector, \n",
    "    config_filename = CONFIG_PATH,\n",
    "    leisure = leisure_instance,\n",
    "    policies = policies\n",
    ")"
   ]
  },
  {
   "cell_type": "code",
   "execution_count": null,
   "metadata": {
    "scrolled": true
   },
   "outputs": [
    {
     "name": "stdout",
     "output_type": "stream",
     "text": [
      "2020-06-24 08:41:39,912 - june.simulator - INFO - Starting group_dynamics for 200 days at day 0\n",
      "2020-06-24 08:41:39,913 - june.simulator - INFO - starting the loop ..., at 0 days, to run for 200 days\n",
      "2020-06-24 08:41:44,630 - june.simulator - INFO - Date = 2020-03-07 04:00:00, number of deaths =  0, number of infected = 50\n",
      "2020-06-24 08:41:48,651 - june.simulator - INFO - Date = 2020-03-07 08:00:00, number of deaths =  0, number of infected = 50\n",
      "2020-06-24 08:41:49,577 - june.simulator - INFO - Date = 2020-03-07 12:00:00, number of deaths =  0, number of infected = 50\n",
      "2020-06-24 08:41:53,691 - june.simulator - INFO - Date = 2020-03-08 00:00:00, number of deaths =  0, number of infected = 50\n",
      "2020-06-24 08:41:57,428 - june.simulator - INFO - Date = 2020-03-08 04:00:00, number of deaths =  0, number of infected = 50\n",
      "2020-06-24 08:42:01,157 - june.simulator - INFO - Date = 2020-03-08 08:00:00, number of deaths =  0, number of infected = 50\n",
      "2020-06-24 08:42:02,066 - june.simulator - INFO - Date = 2020-03-08 12:00:00, number of deaths =  0, number of infected = 50\n",
      "2020-06-24 08:42:03,127 - june.simulator - INFO - Date = 2020-03-09 00:00:00, number of deaths =  0, number of infected = 50\n",
      "2020-06-24 08:42:04,516 - june.simulator - INFO - Date = 2020-03-09 01:00:00, number of deaths =  0, number of infected = 50\n",
      "2020-06-24 08:42:05,763 - june.simulator - INFO - Date = 2020-03-09 05:00:00, number of deaths =  0, number of infected = 50\n",
      "2020-06-24 08:42:06,591 - june.simulator - INFO - Date = 2020-03-09 09:00:00, number of deaths =  0, number of infected = 50\n",
      "2020-06-24 08:42:09,853 - june.simulator - INFO - Date = 2020-03-09 10:00:00, number of deaths =  0, number of infected = 50\n",
      "2020-06-24 08:42:10,783 - june.simulator - INFO - Date = 2020-03-09 13:00:00, number of deaths =  0, number of infected = 50\n",
      "2020-06-24 08:42:11,745 - june.simulator - INFO - Date = 2020-03-10 00:00:00, number of deaths =  0, number of infected = 50\n",
      "2020-06-24 08:42:13,125 - june.simulator - INFO - Date = 2020-03-10 01:00:00, number of deaths =  0, number of infected = 50\n",
      "2020-06-24 08:42:14,355 - june.simulator - INFO - Date = 2020-03-10 05:00:00, number of deaths =  0, number of infected = 50\n",
      "2020-06-24 08:42:15,191 - june.simulator - INFO - Date = 2020-03-10 09:00:00, number of deaths =  0, number of infected = 50\n",
      "2020-06-24 08:42:18,528 - june.simulator - INFO - Date = 2020-03-10 10:00:00, number of deaths =  0, number of infected = 50\n",
      "2020-06-24 08:42:19,412 - june.simulator - INFO - Date = 2020-03-10 13:00:00, number of deaths =  0, number of infected = 50\n",
      "2020-06-24 08:42:20,370 - june.simulator - INFO - Date = 2020-03-11 00:00:00, number of deaths =  0, number of infected = 50\n",
      "2020-06-24 08:42:21,860 - june.simulator - INFO - Date = 2020-03-11 01:00:00, number of deaths =  0, number of infected = 51\n",
      "2020-06-24 08:42:23,247 - june.simulator - INFO - Date = 2020-03-11 05:00:00, number of deaths =  0, number of infected = 54\n",
      "2020-06-24 08:42:24,081 - june.simulator - INFO - Date = 2020-03-11 09:00:00, number of deaths =  0, number of infected = 57\n",
      "2020-06-24 08:42:27,431 - june.simulator - INFO - Date = 2020-03-11 10:00:00, number of deaths =  0, number of infected = 60\n",
      "2020-06-24 08:42:28,341 - june.simulator - INFO - Date = 2020-03-11 13:00:00, number of deaths =  0, number of infected = 64\n",
      "2020-06-24 08:42:29,322 - june.simulator - INFO - Date = 2020-03-12 00:00:00, number of deaths =  0, number of infected = 89\n",
      "2020-06-24 08:42:30,675 - june.simulator - INFO - Date = 2020-03-12 01:00:00, number of deaths =  0, number of infected = 91\n",
      "2020-06-24 08:42:31,902 - june.simulator - INFO - Date = 2020-03-12 05:00:00, number of deaths =  0, number of infected = 94\n",
      "2020-06-24 08:42:32,712 - june.simulator - INFO - Date = 2020-03-12 09:00:00, number of deaths =  0, number of infected = 97\n",
      "2020-06-24 08:42:35,932 - june.simulator - INFO - Date = 2020-03-12 10:00:00, number of deaths =  0, number of infected = 97\n",
      "2020-06-24 08:42:36,806 - june.simulator - INFO - Date = 2020-03-12 13:00:00, number of deaths =  0, number of infected = 100\n",
      "2020-06-24 08:42:37,775 - june.simulator - INFO - Date = 2020-03-13 00:00:00, number of deaths =  0, number of infected = 123\n",
      "2020-06-24 08:42:39,128 - june.simulator - INFO - Date = 2020-03-13 01:00:00, number of deaths =  0, number of infected = 125\n",
      "2020-06-24 08:42:40,371 - june.simulator - INFO - Date = 2020-03-13 05:00:00, number of deaths =  0, number of infected = 129\n",
      "2020-06-24 08:42:41,200 - june.simulator - INFO - Date = 2020-03-13 09:00:00, number of deaths =  0, number of infected = 135\n",
      "2020-06-24 08:42:44,546 - june.simulator - INFO - Date = 2020-03-13 10:00:00, number of deaths =  0, number of infected = 139\n",
      "2020-06-24 08:42:45,500 - june.simulator - INFO - Date = 2020-03-13 13:00:00, number of deaths =  0, number of infected = 148\n",
      "2020-06-24 08:42:49,382 - june.simulator - INFO - Date = 2020-03-14 00:00:00, number of deaths =  0, number of infected = 165\n",
      "2020-06-24 08:42:53,192 - june.simulator - INFO - Date = 2020-03-14 04:00:00, number of deaths =  0, number of infected = 168\n",
      "2020-06-24 08:42:57,246 - june.simulator - INFO - Date = 2020-03-14 08:00:00, number of deaths =  0, number of infected = 176\n",
      "2020-06-24 08:42:58,166 - june.simulator - INFO - Date = 2020-03-14 12:00:00, number of deaths =  0, number of infected = 185\n",
      "2020-06-24 08:43:01,882 - june.simulator - INFO - Date = 2020-03-15 00:00:00, number of deaths =  0, number of infected = 202\n",
      "2020-06-24 08:43:05,865 - june.simulator - INFO - Date = 2020-03-15 04:00:00, number of deaths =  0, number of infected = 213\n",
      "2020-06-24 08:43:09,647 - june.simulator - INFO - Date = 2020-03-15 08:00:00, number of deaths =  0, number of infected = 221\n",
      "2020-06-24 08:43:10,632 - june.simulator - INFO - Date = 2020-03-15 12:00:00, number of deaths =  0, number of infected = 234\n",
      "2020-06-24 08:43:12,248 - june.simulator - INFO - Date = 2020-03-16 00:00:00, number of deaths =  0, number of infected = 244\n",
      "2020-06-24 08:43:15,328 - june.simulator - INFO - Date = 2020-03-16 01:00:00, number of deaths =  0, number of infected = 246\n",
      "2020-06-24 08:43:18,692 - june.simulator - INFO - Date = 2020-03-16 05:00:00, number of deaths =  0, number of infected = 471\n",
      "2020-06-24 08:43:20,685 - june.simulator - INFO - Date = 2020-03-16 09:00:00, number of deaths =  0, number of infected = 492\n",
      "2020-06-24 08:43:28,603 - june.simulator - INFO - Date = 2020-03-16 10:00:00, number of deaths =  0, number of infected = 495\n",
      "2020-06-24 08:43:31,314 - june.simulator - INFO - Date = 2020-03-16 13:00:00, number of deaths =  0, number of infected = 505\n",
      "2020-06-24 08:43:33,823 - june.simulator - INFO - Date = 2020-03-17 00:00:00, number of deaths =  0, number of infected = 538\n",
      "2020-06-24 08:43:37,373 - june.simulator - INFO - Date = 2020-03-17 01:00:00, number of deaths =  0, number of infected = 540\n",
      "2020-06-24 08:43:41,624 - june.simulator - INFO - Date = 2020-03-17 05:00:00, number of deaths =  0, number of infected = 549\n",
      "2020-06-24 08:43:43,565 - june.simulator - INFO - Date = 2020-03-17 09:00:00, number of deaths =  0, number of infected = 551\n",
      "2020-06-24 08:43:48,276 - june.simulator - INFO - Date = 2020-03-17 10:00:00, number of deaths =  0, number of infected = 554\n",
      "2020-06-24 08:43:50,763 - june.simulator - INFO - Date = 2020-03-17 13:00:00, number of deaths =  0, number of infected = 566\n",
      "2020-06-24 08:43:52,756 - june.simulator - INFO - Date = 2020-03-18 00:00:00, number of deaths =  0, number of infected = 593\n",
      "2020-06-24 08:43:56,672 - june.simulator - INFO - Date = 2020-03-18 01:00:00, number of deaths =  0, number of infected = 597\n",
      "2020-06-24 08:44:01,833 - june.simulator - INFO - Date = 2020-03-18 05:00:00, number of deaths =  0, number of infected = 609\n",
      "2020-06-24 08:44:06,952 - june.simulator - INFO - Date = 2020-03-18 09:00:00, number of deaths =  0, number of infected = 614\n",
      "2020-06-24 08:44:14,746 - june.simulator - INFO - Date = 2020-03-18 10:00:00, number of deaths =  0, number of infected = 617\n",
      "2020-06-24 08:44:16,459 - june.simulator - INFO - Date = 2020-03-18 13:00:00, number of deaths =  0, number of infected = 624\n",
      "2020-06-24 08:44:19,351 - june.simulator - INFO - Date = 2020-03-19 00:00:00, number of deaths =  0, number of infected = 656\n",
      "2020-06-24 08:44:23,008 - june.simulator - INFO - Date = 2020-03-19 01:00:00, number of deaths =  0, number of infected = 669\n",
      "2020-06-24 08:44:26,201 - june.simulator - INFO - Date = 2020-03-19 05:00:00, number of deaths =  0, number of infected = 678\n",
      "2020-06-24 08:44:27,834 - june.simulator - INFO - Date = 2020-03-19 09:00:00, number of deaths =  0, number of infected = 689\n",
      "2020-06-24 08:44:32,278 - june.simulator - INFO - Date = 2020-03-19 10:00:00, number of deaths =  0, number of infected = 700\n",
      "2020-06-24 08:44:33,915 - june.simulator - INFO - Date = 2020-03-19 13:00:00, number of deaths =  0, number of infected = 728\n",
      "2020-06-24 08:44:35,815 - june.simulator - INFO - Date = 2020-03-20 00:00:00, number of deaths =  0, number of infected = 852\n",
      "2020-06-24 08:44:44,904 - june.simulator - INFO - Date = 2020-03-20 01:00:00, number of deaths =  0, number of infected = 859\n",
      "2020-06-24 08:44:51,133 - june.simulator - INFO - Date = 2020-03-20 05:00:00, number of deaths =  0, number of infected = 882\n",
      "2020-06-24 08:44:52,897 - june.simulator - INFO - Date = 2020-03-20 09:00:00, number of deaths =  0, number of infected = 904\n",
      "2020-06-24 08:44:57,464 - june.simulator - INFO - Date = 2020-03-20 10:00:00, number of deaths =  0, number of infected = 926\n",
      "2020-06-24 08:44:59,180 - june.simulator - INFO - Date = 2020-03-20 13:00:00, number of deaths =  0, number of infected = 955\n",
      "2020-06-24 08:45:02,448 - june.simulator - INFO - Date = 2020-03-21 00:00:00, number of deaths =  0, number of infected = 1082\n",
      "2020-06-24 08:45:05,539 - june.simulator - INFO - Date = 2020-03-21 04:00:00, number of deaths =  0, number of infected = 1125\n",
      "2020-06-24 08:45:08,640 - june.simulator - INFO - Date = 2020-03-21 08:00:00, number of deaths =  0, number of infected = 1163\n",
      "2020-06-24 08:45:10,247 - june.simulator - INFO - Date = 2020-03-21 12:00:00, number of deaths =  0, number of infected = 1198\n",
      "2020-06-24 08:45:13,380 - june.simulator - INFO - Date = 2020-03-22 00:00:00, number of deaths =  0, number of infected = 1304\n",
      "2020-06-24 08:45:16,653 - june.simulator - INFO - Date = 2020-03-22 04:00:00, number of deaths =  0, number of infected = 1327\n",
      "2020-06-24 08:45:19,751 - june.simulator - INFO - Date = 2020-03-22 08:00:00, number of deaths =  0, number of infected = 1360\n",
      "2020-06-24 08:45:21,495 - june.simulator - INFO - Date = 2020-03-22 12:00:00, number of deaths =  0, number of infected = 1392\n",
      "2020-06-24 08:45:24,168 - june.simulator - INFO - Date = 2020-03-23 00:00:00, number of deaths =  0, number of infected = 1475\n",
      "2020-06-24 08:45:28,142 - june.simulator - INFO - Date = 2020-03-23 01:00:00, number of deaths =  0, number of infected = 1486\n",
      "2020-06-24 08:45:31,651 - june.simulator - INFO - Date = 2020-03-23 05:00:00, number of deaths =  1, number of infected = 1503\n",
      "2020-06-24 08:45:33,540 - june.simulator - INFO - Date = 2020-03-23 09:00:00, number of deaths =  1, number of infected = 1518\n",
      "2020-06-24 08:45:36,910 - june.simulator - INFO - Date = 2020-03-23 10:00:00, number of deaths =  1, number of infected = 1530\n",
      "2020-06-24 08:45:38,892 - june.simulator - INFO - Date = 2020-03-23 13:00:00, number of deaths =  1, number of infected = 1552\n",
      "2020-06-24 08:45:41,017 - june.simulator - INFO - Date = 2020-03-24 00:00:00, number of deaths =  1, number of infected = 1603\n",
      "2020-06-24 08:45:44,932 - june.simulator - INFO - Date = 2020-03-24 01:00:00, number of deaths =  1, number of infected = 1618\n",
      "2020-06-24 08:45:48,888 - june.simulator - INFO - Date = 2020-03-24 05:00:00, number of deaths =  1, number of infected = 1643\n",
      "2020-06-24 08:45:50,890 - june.simulator - INFO - Date = 2020-03-24 09:00:00, number of deaths =  1, number of infected = 1655\n",
      "2020-06-24 08:45:55,016 - june.simulator - INFO - Date = 2020-03-24 10:00:00, number of deaths =  1, number of infected = 1666\n",
      "2020-06-24 08:46:01,499 - june.simulator - INFO - Date = 2020-03-24 13:00:00, number of deaths =  1, number of infected = 1686\n",
      "2020-06-24 08:46:06,190 - june.simulator - INFO - Date = 2020-03-25 00:00:00, number of deaths =  1, number of infected = 1742\n",
      "2020-06-24 08:46:10,574 - june.simulator - INFO - Date = 2020-03-25 01:00:00, number of deaths =  1, number of infected = 1752\n",
      "2020-06-24 08:46:14,758 - june.simulator - INFO - Date = 2020-03-25 05:00:00, number of deaths =  1, number of infected = 1779\n",
      "2020-06-24 08:46:17,182 - june.simulator - INFO - Date = 2020-03-25 09:00:00, number of deaths =  1, number of infected = 1798\n",
      "2020-06-24 08:46:22,373 - june.simulator - INFO - Date = 2020-03-25 10:00:00, number of deaths =  1, number of infected = 1810\n",
      "2020-06-24 08:46:26,230 - june.simulator - INFO - Date = 2020-03-25 13:00:00, number of deaths =  1, number of infected = 1826\n",
      "2020-06-24 08:46:30,786 - june.simulator - INFO - Date = 2020-03-26 00:00:00, number of deaths =  1, number of infected = 1864\n",
      "2020-06-24 08:46:39,525 - june.simulator - INFO - Date = 2020-03-26 01:00:00, number of deaths =  1, number of infected = 1871\n"
     ]
    }
   ],
   "source": [
    "%%time\n",
    "simulator.run()"
   ]
  },
  {
   "cell_type": "markdown",
   "metadata": {},
   "source": [
    "While the simulation runs (and afterwards) we can launch the visualization webpage by running\n",
    "```python june/visualizer.py path/to/results``` "
   ]
  },
  {
   "cell_type": "markdown",
   "metadata": {},
   "source": [
    "# Getting the results"
   ]
  },
  {
   "cell_type": "markdown",
   "metadata": {},
   "source": [
    "All results are stored in a json file specified in the ``save_path`` variable in the config file. We can also access it from ``world.logger`` directly."
   ]
  },
  {
   "cell_type": "code",
   "execution_count": null,
   "metadata": {},
   "outputs": [],
   "source": [
    "import pandas as pd"
   ]
  },
  {
   "cell_type": "code",
   "execution_count": null,
   "metadata": {},
   "outputs": [],
   "source": [
    "read = ReadLogger()"
   ]
  },
  {
   "cell_type": "markdown",
   "metadata": {},
   "source": [
    "## Hospital data and how it changed over time"
   ]
  },
  {
   "cell_type": "code",
   "execution_count": null,
   "metadata": {},
   "outputs": [],
   "source": [
    "hospitals_df = read.load_hospital_capacity()"
   ]
  },
  {
   "cell_type": "code",
   "execution_count": null,
   "metadata": {},
   "outputs": [],
   "source": [
    "hospitals_df.head(3)"
   ]
  },
  {
   "cell_type": "code",
   "execution_count": null,
   "metadata": {},
   "outputs": [],
   "source": [
    "hospitals_characteristics_df = read.load_hospital_characteristics()"
   ]
  },
  {
   "cell_type": "code",
   "execution_count": null,
   "metadata": {},
   "outputs": [],
   "source": [
    "hospitals_characteristics_df"
   ]
  },
  {
   "cell_type": "markdown",
   "metadata": {},
   "source": [
    "## where did infections happen?"
   ]
  },
  {
   "cell_type": "code",
   "execution_count": null,
   "metadata": {},
   "outputs": [],
   "source": [
    "loc_df = read.get_locations_infections()"
   ]
  },
  {
   "cell_type": "code",
   "execution_count": null,
   "metadata": {},
   "outputs": [],
   "source": [
    "locations_per_day = read.locations_df.groupby(pd.Grouper(freq='D')).sum()"
   ]
  },
  {
   "cell_type": "code",
   "execution_count": null,
   "metadata": {},
   "outputs": [],
   "source": [
    "all_infection_places = set(locations_per_day.location.sum())"
   ]
  },
  {
   "cell_type": "code",
   "execution_count": null,
   "metadata": {},
   "outputs": [],
   "source": [
    "def n_infections(row, infection_place):\n",
    "    return sum([row.counts[i] for i, x in enumerate(row.location) if x == infection_place])\n"
   ]
  },
  {
   "cell_type": "code",
   "execution_count": null,
   "metadata": {},
   "outputs": [],
   "source": [
    "for infection_place in all_infection_places:\n",
    "    locations_per_day[str(infection_place)] = locations_per_day.apply(\n",
    "        lambda x: n_infections(x, infection_place),\n",
    "        axis=1\n",
    "    )"
   ]
  },
  {
   "cell_type": "code",
   "execution_count": null,
   "metadata": {},
   "outputs": [],
   "source": [
    "locations_per_day = locations_per_day.drop(columns=['location',\n",
    "                                                    'counts'])"
   ]
  },
  {
   "cell_type": "code",
   "execution_count": null,
   "metadata": {},
   "outputs": [],
   "source": [
    "locations_per_day = locations_per_day.div(\n",
    "    locations_per_day.sum(axis=1), axis=0\n",
    ")\n"
   ]
  },
  {
   "cell_type": "code",
   "execution_count": null,
   "metadata": {},
   "outputs": [],
   "source": [
    "locations_per_day.plot.area( alpha=0.5)\n",
    "plt.legend(bbox_to_anchor=(1,1))\n",
    "plt.ylabel('Percent of infections')"
   ]
  },
  {
   "cell_type": "code",
   "execution_count": null,
   "metadata": {},
   "outputs": [],
   "source": [
    "import matplotlib.ticker as mtick\n",
    "\n",
    "ax = loc_df['percentage_infections'].sort_values().plot.bar()\n",
    "ax.yaxis.set_major_formatter(mtick.PercentFormatter())\n",
    "plt.ylabel('Percentage of infections at location')\n",
    "plt.xlabel('location')\n",
    "#plt.yscale('log')"
   ]
  },
  {
   "cell_type": "markdown",
   "metadata": {},
   "source": [
    "## rate of infection"
   ]
  },
  {
   "cell_type": "code",
   "execution_count": null,
   "metadata": {},
   "outputs": [],
   "source": [
    "r_df = read.get_r()"
   ]
  },
  {
   "cell_type": "code",
   "execution_count": null,
   "metadata": {},
   "outputs": [],
   "source": [
    "r_df.plot()\n",
    "plt.axvspan(policies.social_distancing_start, \n",
    "            policies.social_distancing_end,\n",
    "            facecolor='y', alpha=0.2)\n",
    "plt.axhline(y=1, linestyle='dashed', color='gray')\n",
    "plt.xlabel('Date')\n",
    "plt.ylabel('R')"
   ]
  },
  {
   "cell_type": "markdown",
   "metadata": {},
   "source": [
    "## World infection curves, and by super area"
   ]
  },
  {
   "cell_type": "code",
   "execution_count": null,
   "metadata": {},
   "outputs": [],
   "source": [
    "world_df = read.world_summary()"
   ]
  },
  {
   "cell_type": "code",
   "execution_count": null,
   "metadata": {},
   "outputs": [],
   "source": [
    "world_df['infected'].plot()\n",
    "plt.axvspan(policies.social_distancing_start, \n",
    "            policies.social_distancing_end,\n",
    "            facecolor='y', alpha=0.2)\n",
    "plt.ylabel('# Infected')"
   ]
  },
  {
   "cell_type": "code",
   "execution_count": null,
   "metadata": {},
   "outputs": [],
   "source": [
    "world_df.plot()\n",
    "plt.axvspan(policies.social_distancing_start, \n",
    "            policies.social_distancing_end,\n",
    "            facecolor='y', alpha=0.2)\n",
    "plt.legend(bbox_to_anchor=(1,1))\n"
   ]
  },
  {
   "cell_type": "code",
   "execution_count": null,
   "metadata": {},
   "outputs": [],
   "source": [
    "area_df = read.super_area_summary()"
   ]
  },
  {
   "cell_type": "code",
   "execution_count": null,
   "metadata": {},
   "outputs": [],
   "source": [
    "area_df[area_df.super_area == \"E02003282\"].plot()\n",
    "plt.legend(bbox_to_anchor=(1,1))\n",
    "\n"
   ]
  },
  {
   "cell_type": "markdown",
   "metadata": {},
   "source": [
    "## World infection curves per age group"
   ]
  },
  {
   "cell_type": "code",
   "execution_count": null,
   "metadata": {},
   "outputs": [],
   "source": [
    "ages_df = read.age_summary([0,10,20,30,40,\n",
    "                  50,60,70,80,90,100])"
   ]
  },
  {
   "cell_type": "code",
   "execution_count": null,
   "metadata": {},
   "outputs": [],
   "source": [
    "for name, group in ages_df.groupby('age_range'):\n",
    "    group['infected'].plot(label=name)\n",
    "plt.axvspan(policies.social_distancing_start, \n",
    "            policies.social_distancing_end,\n",
    "            facecolor='y', alpha=0.2)\n",
    "plt.legend(bbox_to_anchor=(1,1))\n"
   ]
  },
  {
   "cell_type": "code",
   "execution_count": null,
   "metadata": {},
   "outputs": [],
   "source": [
    "for name, group in ages_df.groupby('age_range'):\n",
    "    group['dead'].cumsum().plot(label=name)\n",
    "plt.legend()"
   ]
  },
  {
   "cell_type": "code",
   "execution_count": null,
   "metadata": {},
   "outputs": [],
   "source": [
    "for name, group in ages_df.groupby('age_range'):\n",
    "    group['susceptible'].plot(label=name)\n",
    "plt.legend()"
   ]
  },
  {
   "cell_type": "code",
   "execution_count": null,
   "metadata": {},
   "outputs": [],
   "source": [
    "for name, group in ages_df.groupby('age_range'):\n",
    "    group['hospital_admissions'].cumsum().plot(label=name)\n",
    "plt.legend()"
   ]
  },
  {
   "cell_type": "code",
   "execution_count": null,
   "metadata": {},
   "outputs": [],
   "source": [
    "for name, group in ages_df.groupby('age_range'):\n",
    "    group['intensive_care_admissions'].cumsum().plot(label=name)\n",
    "plt.legend()"
   ]
  },
  {
   "cell_type": "markdown",
   "metadata": {},
   "source": [
    "## Draw some of the symptoms trajectories"
   ]
  },
  {
   "cell_type": "code",
   "execution_count": null,
   "metadata": {},
   "outputs": [],
   "source": [
    "random_trajectories = read.draw_symptom_trajectories(window_length=600,\n",
    "                                        n_people=10)"
   ]
  },
  {
   "cell_type": "code",
   "execution_count": null,
   "metadata": {},
   "outputs": [],
   "source": [
    "from june.infection import SymptomTag"
   ]
  },
  {
   "cell_type": "code",
   "execution_count": null,
   "metadata": {},
   "outputs": [],
   "source": [
    "symptoms_values = [tag.value for tag in SymptomTag]\n",
    "symptoms_names = [tag.name for tag in SymptomTag]\n"
   ]
  },
  {
   "cell_type": "code",
   "execution_count": null,
   "metadata": {},
   "outputs": [],
   "source": [
    "for df_person in random_trajectories:\n",
    "    df_person['symptoms'].plot()\n",
    "plt.ylabel('Symptoms Trajectory')\n",
    "_ = plt.yticks(symptoms_values, symptoms_names)\n",
    "plt.xlabel('Date')"
   ]
  },
  {
   "cell_type": "code",
   "execution_count": null,
   "metadata": {},
   "outputs": [],
   "source": [
    "for df_person in random_trajectories:\n",
    "    df_person['n_secondary_infections'].plot()\n",
    "plt.ylabel('Number of secondary infections')\n",
    "\n",
    "plt.xlabel('Date')"
   ]
  },
  {
   "cell_type": "code",
   "execution_count": null,
   "metadata": {},
   "outputs": [],
   "source": []
  }
 ],
 "metadata": {
  "kernelspec": {
   "display_name": "Python 3",
   "language": "python",
   "name": "python3"
  },
  "language_info": {
   "codemirror_mode": {
    "name": "ipython",
    "version": 3
   },
   "file_extension": ".py",
   "mimetype": "text/x-python",
   "name": "python",
   "nbconvert_exporter": "python",
   "pygments_lexer": "ipython3",
   "version": "3.8.3"
  }
 },
 "nbformat": 4,
 "nbformat_minor": 4
}
