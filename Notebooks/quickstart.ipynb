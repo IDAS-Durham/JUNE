{
 "cells": [
  {
   "cell_type": "code",
   "execution_count": 1,
   "metadata": {},
   "outputs": [],
   "source": [
    "%load_ext autoreload\n",
    "%autoreload 2"
   ]
  },
  {
   "cell_type": "code",
   "execution_count": 2,
   "metadata": {},
   "outputs": [],
   "source": [
    "import numpy as np\n",
    "import time\n",
    "from datetime import datetime\n",
    "import matplotlib.pyplot as plt\n",
    "import seaborn as sns\n",
    "sns.set_context('notebook')"
   ]
  },
  {
   "cell_type": "code",
   "execution_count": 3,
   "metadata": {},
   "outputs": [],
   "source": [
    "from june import World \n",
    "from june.demography.geography import Geography\n",
    "from june.demography import Demography\n",
    "from june.interaction import ContactAveraging\n",
    "from june.infection import Infection\n",
    "from june.infection.transmission import TransmissionConstant\n",
    "from june.groups import Hospitals, Schools, Companies, Households, CareHomes, Cemeteries, Universities\n",
    "from june.groups.leisure import leisure, Cinemas, Pubs, Groceries\n",
    "from june.simulator import Simulator\n",
    "from june.seed import Seed\n",
    "from june.policy import Policy, Policies\n",
    "from june import paths\n",
    "from june.hdf5_savers import load_geography_from_hdf5\n",
    "from june.logger.read_logger import ReadLogger\n",
    "from june.infection.infection import InfectionSelector\n",
    "from june.world import generate_world_from_hdf5, generate_world_from_geography"
   ]
  },
  {
   "cell_type": "markdown",
   "metadata": {},
   "source": [
    "# Initialize world\n",
    "\n",
    "To initialize a certain world, we need to add the different components we want to have in it. First we specify what super areas (msoa) we want to create. We have included these ones, because they are known to contain hospitals, schools, care homes, and companies.\n",
    "\n",
    "After creating the geography, we create the different components the worlds need to have such as care homes, companies ..."
   ]
  },
  {
   "cell_type": "code",
   "execution_count": 4,
   "metadata": {},
   "outputs": [
    {
     "name": "stdout",
     "output_type": "stream",
     "text": [
      "2020-06-25 15:02:53,733 - june.demography.geography - INFO - There are 129 areas and 5 super_areas in the world.\n",
      "2020-06-25 15:02:53,739 - june.groups.hospital - INFO - There are 1 hospitals in this geography.\n",
      "2020-06-25 15:02:53,792 - june.groups.school - INFO - There are 19 schools in this geography.\n",
      "2020-06-25 15:02:53,822 - june.groups.school - INFO - No school for the age 0 in this world.\n",
      "2020-06-25 15:02:53,825 - june.groups.school - INFO - No school for the age 1 in this world.\n",
      "2020-06-25 15:02:53,829 - june.groups.school - INFO - No school for the age 2 in this world.\n",
      "2020-06-25 15:02:54,031 - june.groups.carehome - INFO - There are 9 care_homes in this geography.\n",
      "2020-06-25 15:03:01,206 - june.distributors.worker_distributor - INFO - There are 0 who had to be told to stay real\n",
      "CPU times: user 26.4 s, sys: 832 ms, total: 27.2 s\n",
      "Wall time: 27.3 s\n"
     ]
    }
   ],
   "source": [
    "%%time \n",
    "\n",
    "geography = Geography.from_file(\n",
    "        {\n",
    "            \"super_area\": [\n",
    "                \"E02003282\",\n",
    "                \"E02001720\",\n",
    "                \"E00088544\",\n",
    "                \"E02002560\",\n",
    "                \"E02002559\",\n",
    "                \"E02004314\",\n",
    "            ]\n",
    "        }\n",
    ")\n",
    "\n",
    "geography.hospitals = Hospitals.for_geography(geography)\n",
    "geography.schools = Schools.for_geography(geography)\n",
    "geography.companies = Companies.for_geography(geography)\n",
    "geography.care_homes = CareHomes.for_geography(geography)\n",
    "geography.universities = Universities.for_super_areas(geography.super_areas)\n",
    "world = generate_world_from_geography(geography, include_households=True, include_commute=True)\n"
   ]
  },
  {
   "cell_type": "code",
   "execution_count": 5,
   "metadata": {},
   "outputs": [
    {
     "data": {
      "text/plain": [
       "46784"
      ]
     },
     "execution_count": 5,
     "metadata": {},
     "output_type": "execute_result"
    }
   ],
   "source": [
    "len(world.people)"
   ]
  },
  {
   "cell_type": "markdown",
   "metadata": {},
   "source": [
    "### If it took a long time to run the previous command, it might be a good idea to save the world to reuse it later."
   ]
  },
  {
   "cell_type": "code",
   "execution_count": 6,
   "metadata": {},
   "outputs": [],
   "source": [
    "world.to_hdf5(\"world.hdf5\")"
   ]
  },
  {
   "cell_type": "markdown",
   "metadata": {},
   "source": [
    "If we would like to load the world we saved, we just do"
   ]
  },
  {
   "cell_type": "code",
   "execution_count": 7,
   "metadata": {},
   "outputs": [
    {
     "name": "stdout",
     "output_type": "stream",
     "text": [
      "Loaded chunk 0 of 1\n",
      "Loaded chunk 0 of 1\n"
     ]
    },
    {
     "name": "stderr",
     "output_type": "stream",
     "text": [
      "100%|██████████| 46784/46784 [00:00<00:00, 137090.53it/s]\n"
     ]
    }
   ],
   "source": [
    "world = generate_world_from_hdf5(\"world.hdf5\")"
   ]
  },
  {
   "cell_type": "markdown",
   "metadata": {},
   "source": [
    "you have now a beautiful pre-pandemic world. "
   ]
  },
  {
   "cell_type": "markdown",
   "metadata": {},
   "source": [
    "## Commute, travel and leisure"
   ]
  },
  {
   "cell_type": "markdown",
   "metadata": {},
   "source": [
    "We can add cinemas, pubs, groceries, etc. as well as commute in major cities with"
   ]
  },
  {
   "cell_type": "code",
   "execution_count": 8,
   "metadata": {},
   "outputs": [],
   "source": [
    "# leisure\n",
    "geography = load_geography_from_hdf5(\"world.hdf5\")\n",
    "world.cinemas = Cinemas.for_geography(geography)\n",
    "world.pubs = Pubs.for_geography(geography)\n",
    "world.groceries = Groceries.for_super_areas(world.super_areas,\n",
    "                                            venues_per_capita=1/500)"
   ]
  },
  {
   "cell_type": "markdown",
   "metadata": {},
   "source": [
    "We are also going to need some cemeteries...geography.cemeteries = Cemeteries()\n"
   ]
  },
  {
   "cell_type": "code",
   "execution_count": 9,
   "metadata": {},
   "outputs": [],
   "source": [
    "world.cemeteries = Cemeteries()"
   ]
  },
  {
   "cell_type": "markdown",
   "metadata": {},
   "source": [
    "# Adding the infection"
   ]
  },
  {
   "cell_type": "markdown",
   "metadata": {},
   "source": [
    "Now, you can play around with different models of infections. The building blocks for an infection are: Transmission and Symptoms. For now, only SymptomsConstant and TransmissionConstant are in a state to be used."
   ]
  },
  {
   "cell_type": "code",
   "execution_count": 10,
   "metadata": {},
   "outputs": [],
   "source": [
    "selector = InfectionSelector.from_file()"
   ]
  },
  {
   "cell_type": "markdown",
   "metadata": {},
   "source": [
    "# Adding the interaction"
   ]
  },
  {
   "cell_type": "code",
   "execution_count": 11,
   "metadata": {},
   "outputs": [],
   "source": [
    "interaction = ContactAveraging.from_file(selector=selector)"
   ]
  },
  {
   "cell_type": "markdown",
   "metadata": {},
   "source": [
    "Beta are the intensities of the interaction taking place at the different groups"
   ]
  },
  {
   "cell_type": "code",
   "execution_count": 12,
   "metadata": {},
   "outputs": [
    {
     "data": {
      "text/plain": [
       "{'box': 1,\n",
       " 'pub': 0.1,\n",
       " 'grocery': 0.1,\n",
       " 'cinema': 0.1,\n",
       " 'commute_unit': 1.0,\n",
       " 'commute_city_unit': 1.0,\n",
       " 'hospital': 1.0,\n",
       " 'care_home': 1.0,\n",
       " 'company': 0.1,\n",
       " 'school': 0.1,\n",
       " 'household': 0.2,\n",
       " 'university': 0.01}"
      ]
     },
     "execution_count": 12,
     "metadata": {},
     "output_type": "execute_result"
    }
   ],
   "source": [
    "interaction.beta"
   ]
  },
  {
   "cell_type": "markdown",
   "metadata": {},
   "source": [
    "to modify these, simply do"
   ]
  },
  {
   "cell_type": "code",
   "execution_count": 13,
   "metadata": {},
   "outputs": [],
   "source": [
    "interaction.beta['household'] *= 2"
   ]
  },
  {
   "cell_type": "code",
   "execution_count": 14,
   "metadata": {},
   "outputs": [
    {
     "data": {
      "text/plain": [
       "{'box': 1,\n",
       " 'pub': 0.1,\n",
       " 'grocery': 0.1,\n",
       " 'cinema': 0.1,\n",
       " 'commute_unit': 1.0,\n",
       " 'commute_city_unit': 1.0,\n",
       " 'hospital': 1.0,\n",
       " 'care_home': 1.0,\n",
       " 'company': 0.1,\n",
       " 'school': 0.1,\n",
       " 'household': 0.4,\n",
       " 'university': 0.01}"
      ]
     },
     "execution_count": 14,
     "metadata": {},
     "output_type": "execute_result"
    }
   ],
   "source": [
    "interaction.beta"
   ]
  },
  {
   "cell_type": "markdown",
   "metadata": {},
   "source": [
    "moreover this interaction module uses contact matrices, that are different for different groups. These contact matrices shouldnt be modified for now. However they are a combination of conversational contact matrices, and physical contact matrices (see the BBC pandemic paper, from where these matrices are extracted https://www.medrxiv.org/content/10.1101/2020.02.16.20023754v2)\n",
    "\n",
    "There is a parameter, ``alpha`` ($\\alpha$), that combines these two matrices in the following way,\n",
    "\n",
    "\n",
    "$\\beta M \\left(1 + (\\alpha -1) \\right) P$\n",
    "\n",
    "where $\\beta$ is the intensity of the interaction, and $P$ the physical contact matrix. A larger $\\alpha$ produces more physical contacts. It is an overall number, non dependent of the particular group.\n"
   ]
  },
  {
   "cell_type": "code",
   "execution_count": 15,
   "metadata": {},
   "outputs": [
    {
     "data": {
      "text/plain": [
       "2.0"
      ]
     },
     "execution_count": 15,
     "metadata": {},
     "output_type": "execute_result"
    }
   ],
   "source": [
    "interaction.alpha_physical"
   ]
  },
  {
   "cell_type": "code",
   "execution_count": 16,
   "metadata": {},
   "outputs": [],
   "source": [
    "interaction.alpha_physical /= 2"
   ]
  },
  {
   "cell_type": "code",
   "execution_count": 17,
   "metadata": {},
   "outputs": [
    {
     "data": {
      "text/plain": [
       "1.0"
      ]
     },
     "execution_count": 17,
     "metadata": {},
     "output_type": "execute_result"
    }
   ],
   "source": [
    "interaction.alpha_physical"
   ]
  },
  {
   "cell_type": "markdown",
   "metadata": {},
   "source": [
    "# Seed the disease"
   ]
  },
  {
   "cell_type": "markdown",
   "metadata": {},
   "source": [
    "There are two options implemented in the seed at the moment, either you specify the number of cases and these are then homogeneously distributed by population to the different areas, or you use UK data on cases per region. For now use the first case."
   ]
  },
  {
   "cell_type": "code",
   "execution_count": 18,
   "metadata": {},
   "outputs": [],
   "source": [
    "seed = Seed(world.super_areas, selector,)"
   ]
  },
  {
   "cell_type": "code",
   "execution_count": 19,
   "metadata": {},
   "outputs": [],
   "source": [
    "n_cases = 50\n",
    "seed.unleash_virus(n_cases) # play around with the initial number of cases"
   ]
  },
  {
   "cell_type": "markdown",
   "metadata": {},
   "source": [
    "# Set policies"
   ]
  },
  {
   "cell_type": "code",
   "execution_count": 20,
   "metadata": {},
   "outputs": [],
   "source": [
    "policies = Policies.from_file()"
   ]
  },
  {
   "cell_type": "markdown",
   "metadata": {},
   "source": [
    "# Run the simulation"
   ]
  },
  {
   "cell_type": "markdown",
   "metadata": {},
   "source": [
    "Since the timer configuration is a bit cumbersome, it is read from the config file at ``configs/config_example.yaml``"
   ]
  },
  {
   "cell_type": "code",
   "execution_count": 21,
   "metadata": {},
   "outputs": [],
   "source": [
    "CONFIG_PATH = \"../configs/config_example.yaml\"\n",
    "\n",
    "leisure_instance = leisure.generate_leisure_for_config(\n",
    "world=world, config_filename = CONFIG_PATH\n",
    ")\n",
    "simulator = Simulator.from_file(\n",
    "     world, interaction, selector, \n",
    "    config_filename = CONFIG_PATH,\n",
    "    leisure = leisure_instance,\n",
    "    policies = policies\n",
    ")"
   ]
  },
  {
   "cell_type": "code",
   "execution_count": null,
   "metadata": {
    "scrolled": true
   },
   "outputs": [
    {
     "name": "stdout",
     "output_type": "stream",
     "text": [
      "2020-06-25 15:04:18,840 - june.simulator - INFO - Starting group_dynamics for 200 days at day 0\n",
      "2020-06-25 15:04:18,841 - june.simulator - INFO - starting the loop ..., at 0 days, to run for 200 days\n",
      "2020-06-25 15:04:19,901 - june.simulator - INFO - Date = 2020-03-07 04:00:00, number of deaths =  0, number of infected = 50\n",
      "2020-06-25 15:04:20,557 - june.simulator - INFO - Date = 2020-03-07 08:00:00, number of deaths =  0, number of infected = 50\n",
      "2020-06-25 15:04:20,910 - june.simulator - INFO - Date = 2020-03-07 12:00:00, number of deaths =  0, number of infected = 50\n",
      "2020-06-25 15:04:21,529 - june.simulator - INFO - Date = 2020-03-08 00:00:00, number of deaths =  0, number of infected = 50\n",
      "2020-06-25 15:04:22,144 - june.simulator - INFO - Date = 2020-03-08 04:00:00, number of deaths =  0, number of infected = 50\n",
      "2020-06-25 15:04:22,642 - june.simulator - INFO - Date = 2020-03-08 08:00:00, number of deaths =  0, number of infected = 50\n",
      "2020-06-25 15:04:22,987 - june.simulator - INFO - Date = 2020-03-08 12:00:00, number of deaths =  0, number of infected = 50\n",
      "2020-06-25 15:04:23,379 - june.simulator - INFO - Date = 2020-03-09 00:00:00, number of deaths =  0, number of infected = 50\n",
      "2020-06-25 15:04:23,810 - june.simulator - INFO - Date = 2020-03-09 01:00:00, number of deaths =  0, number of infected = 50\n",
      "2020-06-25 15:04:24,143 - june.simulator - INFO - Date = 2020-03-09 05:00:00, number of deaths =  0, number of infected = 50\n",
      "2020-06-25 15:04:24,437 - june.simulator - INFO - Date = 2020-03-09 09:00:00, number of deaths =  0, number of infected = 50\n",
      "2020-06-25 15:04:24,981 - june.simulator - INFO - Date = 2020-03-09 10:00:00, number of deaths =  0, number of infected = 50\n",
      "2020-06-25 15:04:25,358 - june.simulator - INFO - Date = 2020-03-09 13:00:00, number of deaths =  0, number of infected = 50\n",
      "2020-06-25 15:04:25,748 - june.simulator - INFO - Date = 2020-03-10 00:00:00, number of deaths =  0, number of infected = 50\n",
      "2020-06-25 15:04:26,148 - june.simulator - INFO - Date = 2020-03-10 01:00:00, number of deaths =  0, number of infected = 50\n",
      "2020-06-25 15:04:26,497 - june.simulator - INFO - Date = 2020-03-10 05:00:00, number of deaths =  0, number of infected = 50\n",
      "2020-06-25 15:04:26,806 - june.simulator - INFO - Date = 2020-03-10 09:00:00, number of deaths =  0, number of infected = 50\n",
      "2020-06-25 15:04:27,296 - june.simulator - INFO - Date = 2020-03-10 10:00:00, number of deaths =  0, number of infected = 50\n",
      "2020-06-25 15:04:27,632 - june.simulator - INFO - Date = 2020-03-10 13:00:00, number of deaths =  0, number of infected = 50\n",
      "2020-06-25 15:04:28,029 - june.simulator - INFO - Date = 2020-03-11 00:00:00, number of deaths =  0, number of infected = 50\n",
      "2020-06-25 15:04:28,420 - june.simulator - INFO - Date = 2020-03-11 01:00:00, number of deaths =  0, number of infected = 52\n",
      "2020-06-25 15:04:28,743 - june.simulator - INFO - Date = 2020-03-11 05:00:00, number of deaths =  0, number of infected = 52\n",
      "2020-06-25 15:04:29,051 - june.simulator - INFO - Date = 2020-03-11 09:00:00, number of deaths =  0, number of infected = 53\n",
      "2020-06-25 15:04:29,599 - june.simulator - INFO - Date = 2020-03-11 10:00:00, number of deaths =  0, number of infected = 56\n",
      "2020-06-25 15:04:29,974 - june.simulator - INFO - Date = 2020-03-11 13:00:00, number of deaths =  0, number of infected = 62\n",
      "2020-06-25 15:04:30,356 - june.simulator - INFO - Date = 2020-03-12 00:00:00, number of deaths =  0, number of infected = 80\n",
      "2020-06-25 15:04:30,844 - june.simulator - INFO - Date = 2020-03-12 01:00:00, number of deaths =  0, number of infected = 83\n",
      "2020-06-25 15:04:31,200 - june.simulator - INFO - Date = 2020-03-12 05:00:00, number of deaths =  0, number of infected = 87\n",
      "2020-06-25 15:04:31,499 - june.simulator - INFO - Date = 2020-03-12 09:00:00, number of deaths =  0, number of infected = 88\n",
      "2020-06-25 15:04:32,099 - june.simulator - INFO - Date = 2020-03-12 10:00:00, number of deaths =  0, number of infected = 92\n",
      "2020-06-25 15:04:32,487 - june.simulator - INFO - Date = 2020-03-12 13:00:00, number of deaths =  0, number of infected = 96\n",
      "2020-06-25 15:04:32,927 - june.simulator - INFO - Date = 2020-03-13 00:00:00, number of deaths =  0, number of infected = 113\n",
      "2020-06-25 15:04:33,397 - june.simulator - INFO - Date = 2020-03-13 01:00:00, number of deaths =  0, number of infected = 119\n",
      "2020-06-25 15:04:33,761 - june.simulator - INFO - Date = 2020-03-13 05:00:00, number of deaths =  0, number of infected = 124\n",
      "2020-06-25 15:04:34,088 - june.simulator - INFO - Date = 2020-03-13 09:00:00, number of deaths =  0, number of infected = 132\n",
      "2020-06-25 15:04:34,665 - june.simulator - INFO - Date = 2020-03-13 10:00:00, number of deaths =  0, number of infected = 137\n",
      "2020-06-25 15:04:35,069 - june.simulator - INFO - Date = 2020-03-13 13:00:00, number of deaths =  0, number of infected = 142\n",
      "2020-06-25 15:04:35,642 - june.simulator - INFO - Date = 2020-03-14 00:00:00, number of deaths =  0, number of infected = 154\n",
      "2020-06-25 15:04:36,173 - june.simulator - INFO - Date = 2020-03-14 04:00:00, number of deaths =  0, number of infected = 162\n",
      "2020-06-25 15:04:36,694 - june.simulator - INFO - Date = 2020-03-14 08:00:00, number of deaths =  0, number of infected = 169\n",
      "2020-06-25 15:04:37,035 - june.simulator - INFO - Date = 2020-03-14 12:00:00, number of deaths =  0, number of infected = 176\n",
      "2020-06-25 15:04:37,575 - june.simulator - INFO - Date = 2020-03-15 00:00:00, number of deaths =  0, number of infected = 189\n",
      "2020-06-25 15:04:38,077 - june.simulator - INFO - Date = 2020-03-15 04:00:00, number of deaths =  0, number of infected = 197\n",
      "2020-06-25 15:04:38,600 - june.simulator - INFO - Date = 2020-03-15 08:00:00, number of deaths =  0, number of infected = 205\n",
      "2020-06-25 15:04:38,980 - june.simulator - INFO - Date = 2020-03-15 12:00:00, number of deaths =  0, number of infected = 213\n",
      "2020-06-25 15:04:39,685 - june.simulator - INFO - Date = 2020-03-16 00:00:00, number of deaths =  0, number of infected = 227\n",
      "2020-06-25 15:04:40,363 - june.simulator - INFO - Date = 2020-03-16 01:00:00, number of deaths =  0, number of infected = 229\n",
      "2020-06-25 15:04:41,160 - june.simulator - INFO - Date = 2020-03-16 05:00:00, number of deaths =  0, number of infected = 232\n",
      "2020-06-25 15:04:42,069 - june.simulator - INFO - Date = 2020-03-16 09:00:00, number of deaths =  0, number of infected = 234\n",
      "2020-06-25 15:04:43,065 - june.simulator - INFO - Date = 2020-03-16 10:00:00, number of deaths =  0, number of infected = 236\n",
      "2020-06-25 15:04:43,649 - june.simulator - INFO - Date = 2020-03-16 13:00:00, number of deaths =  0, number of infected = 241\n",
      "2020-06-25 15:04:44,257 - june.simulator - INFO - Date = 2020-03-17 00:00:00, number of deaths =  0, number of infected = 262\n",
      "2020-06-25 15:04:44,932 - june.simulator - INFO - Date = 2020-03-17 01:00:00, number of deaths =  0, number of infected = 267\n",
      "2020-06-25 15:04:45,537 - june.simulator - INFO - Date = 2020-03-17 05:00:00, number of deaths =  0, number of infected = 270\n",
      "2020-06-25 15:04:46,062 - june.simulator - INFO - Date = 2020-03-17 09:00:00, number of deaths =  0, number of infected = 283\n",
      "2020-06-25 15:04:46,847 - june.simulator - INFO - Date = 2020-03-17 10:00:00, number of deaths =  0, number of infected = 289\n",
      "2020-06-25 15:04:47,732 - june.simulator - INFO - Date = 2020-03-17 13:00:00, number of deaths =  0, number of infected = 298\n",
      "2020-06-25 15:04:48,895 - june.simulator - INFO - Date = 2020-03-18 00:00:00, number of deaths =  0, number of infected = 324\n",
      "2020-06-25 15:04:50,207 - june.simulator - INFO - Date = 2020-03-18 01:00:00, number of deaths =  0, number of infected = 331\n",
      "2020-06-25 15:04:51,160 - june.simulator - INFO - Date = 2020-03-18 05:00:00, number of deaths =  0, number of infected = 333\n",
      "2020-06-25 15:04:51,707 - june.simulator - INFO - Date = 2020-03-18 09:00:00, number of deaths =  0, number of infected = 337\n",
      "2020-06-25 15:04:52,477 - june.simulator - INFO - Date = 2020-03-18 10:00:00, number of deaths =  0, number of infected = 343\n",
      "2020-06-25 15:04:53,190 - june.simulator - INFO - Date = 2020-03-18 13:00:00, number of deaths =  0, number of infected = 349\n",
      "2020-06-25 15:04:53,937 - june.simulator - INFO - Date = 2020-03-19 00:00:00, number of deaths =  0, number of infected = 377\n",
      "2020-06-25 15:04:55,061 - june.simulator - INFO - Date = 2020-03-19 01:00:00, number of deaths =  0, number of infected = 385\n",
      "2020-06-25 15:04:56,242 - june.simulator - INFO - Date = 2020-03-19 05:00:00, number of deaths =  0, number of infected = 392\n",
      "2020-06-25 15:04:57,051 - june.simulator - INFO - Date = 2020-03-19 09:00:00, number of deaths =  0, number of infected = 399\n",
      "2020-06-25 15:04:57,871 - june.simulator - INFO - Date = 2020-03-19 10:00:00, number of deaths =  0, number of infected = 405\n",
      "2020-06-25 15:04:58,499 - june.simulator - INFO - Date = 2020-03-19 13:00:00, number of deaths =  0, number of infected = 412\n",
      "2020-06-25 15:04:59,241 - june.simulator - INFO - Date = 2020-03-20 00:00:00, number of deaths =  0, number of infected = 448\n",
      "2020-06-25 15:05:00,493 - june.simulator - INFO - Date = 2020-03-20 01:00:00, number of deaths =  0, number of infected = 456\n",
      "2020-06-25 15:05:02,061 - june.simulator - INFO - Date = 2020-03-20 05:00:00, number of deaths =  0, number of infected = 469\n",
      "2020-06-25 15:05:02,926 - june.simulator - INFO - Date = 2020-03-20 09:00:00, number of deaths =  0, number of infected = 481\n",
      "2020-06-25 15:05:04,105 - june.simulator - INFO - Date = 2020-03-20 10:00:00, number of deaths =  0, number of infected = 491\n",
      "2020-06-25 15:05:04,727 - june.simulator - INFO - Date = 2020-03-20 13:00:00, number of deaths =  0, number of infected = 497\n",
      "2020-06-25 15:05:05,603 - june.simulator - INFO - Date = 2020-03-21 00:00:00, number of deaths =  0, number of infected = 528\n",
      "2020-06-25 15:05:06,324 - june.simulator - INFO - Date = 2020-03-21 04:00:00, number of deaths =  0, number of infected = 543\n",
      "2020-06-25 15:05:07,100 - june.simulator - INFO - Date = 2020-03-21 08:00:00, number of deaths =  0, number of infected = 551\n",
      "2020-06-25 15:05:07,763 - june.simulator - INFO - Date = 2020-03-21 12:00:00, number of deaths =  0, number of infected = 567\n",
      "2020-06-25 15:05:08,604 - june.simulator - INFO - Date = 2020-03-22 00:00:00, number of deaths =  0, number of infected = 607\n",
      "2020-06-25 15:05:09,373 - june.simulator - INFO - Date = 2020-03-22 04:00:00, number of deaths =  0, number of infected = 622\n",
      "2020-06-25 15:05:10,127 - june.simulator - INFO - Date = 2020-03-22 08:00:00, number of deaths =  0, number of infected = 632\n",
      "2020-06-25 15:05:10,754 - june.simulator - INFO - Date = 2020-03-22 12:00:00, number of deaths =  0, number of infected = 637\n",
      "2020-06-25 15:05:11,367 - june.simulator - INFO - Date = 2020-03-23 00:00:00, number of deaths =  0, number of infected = 675\n",
      "2020-06-25 15:05:12,122 - june.simulator - INFO - Date = 2020-03-23 01:00:00, number of deaths =  0, number of infected = 697\n",
      "2020-06-25 15:05:12,868 - june.simulator - INFO - Date = 2020-03-23 05:00:00, number of deaths =  0, number of infected = 716\n",
      "2020-06-25 15:05:13,518 - june.simulator - INFO - Date = 2020-03-23 09:00:00, number of deaths =  0, number of infected = 729\n",
      "2020-06-25 15:05:14,256 - june.simulator - INFO - Date = 2020-03-23 10:00:00, number of deaths =  0, number of infected = 745\n",
      "2020-06-25 15:05:14,876 - june.simulator - INFO - Date = 2020-03-23 13:00:00, number of deaths =  0, number of infected = 750\n",
      "2020-06-25 15:05:15,583 - june.simulator - INFO - Date = 2020-03-24 00:00:00, number of deaths =  0, number of infected = 788\n",
      "2020-06-25 15:05:16,306 - june.simulator - INFO - Date = 2020-03-24 01:00:00, number of deaths =  0, number of infected = 804\n",
      "2020-06-25 15:05:17,043 - june.simulator - INFO - Date = 2020-03-24 05:00:00, number of deaths =  0, number of infected = 820\n",
      "2020-06-25 15:05:17,681 - june.simulator - INFO - Date = 2020-03-24 09:00:00, number of deaths =  0, number of infected = 838\n",
      "2020-06-25 15:05:18,431 - june.simulator - INFO - Date = 2020-03-24 10:00:00, number of deaths =  0, number of infected = 853\n",
      "2020-06-25 15:05:19,096 - june.simulator - INFO - Date = 2020-03-24 13:00:00, number of deaths =  0, number of infected = 862\n",
      "2020-06-25 15:05:19,726 - june.simulator - INFO - Date = 2020-03-25 00:00:00, number of deaths =  0, number of infected = 906\n",
      "2020-06-25 15:05:20,463 - june.simulator - INFO - Date = 2020-03-25 01:00:00, number of deaths =  0, number of infected = 923\n",
      "2020-06-25 15:05:21,200 - june.simulator - INFO - Date = 2020-03-25 05:00:00, number of deaths =  0, number of infected = 939\n",
      "2020-06-25 15:05:21,988 - june.simulator - INFO - Date = 2020-03-25 09:00:00, number of deaths =  0, number of infected = 957\n",
      "2020-06-25 15:05:22,887 - june.simulator - INFO - Date = 2020-03-25 10:00:00, number of deaths =  0, number of infected = 966\n",
      "2020-06-25 15:05:23,517 - june.simulator - INFO - Date = 2020-03-25 13:00:00, number of deaths =  0, number of infected = 981\n",
      "2020-06-25 15:05:24,165 - june.simulator - INFO - Date = 2020-03-26 00:00:00, number of deaths =  1, number of infected = 1018\n",
      "2020-06-25 15:05:25,020 - june.simulator - INFO - Date = 2020-03-26 01:00:00, number of deaths =  1, number of infected = 1031\n",
      "2020-06-25 15:05:25,760 - june.simulator - INFO - Date = 2020-03-26 05:00:00, number of deaths =  1, number of infected = 1057\n",
      "2020-06-25 15:05:26,548 - june.simulator - INFO - Date = 2020-03-26 09:00:00, number of deaths =  1, number of infected = 1075\n",
      "2020-06-25 15:05:27,416 - june.simulator - INFO - Date = 2020-03-26 10:00:00, number of deaths =  1, number of infected = 1086\n",
      "2020-06-25 15:05:28,030 - june.simulator - INFO - Date = 2020-03-26 13:00:00, number of deaths =  1, number of infected = 1096\n",
      "2020-06-25 15:05:28,682 - june.simulator - INFO - Date = 2020-03-27 00:00:00, number of deaths =  1, number of infected = 1151\n",
      "2020-06-25 15:05:29,464 - june.simulator - INFO - Date = 2020-03-27 01:00:00, number of deaths =  1, number of infected = 1165\n",
      "2020-06-25 15:05:30,246 - june.simulator - INFO - Date = 2020-03-27 05:00:00, number of deaths =  1, number of infected = 1186\n",
      "2020-06-25 15:05:30,851 - june.simulator - INFO - Date = 2020-03-27 09:00:00, number of deaths =  1, number of infected = 1205\n",
      "2020-06-25 15:05:31,758 - june.simulator - INFO - Date = 2020-03-27 10:00:00, number of deaths =  1, number of infected = 1217\n",
      "2020-06-25 15:05:32,620 - june.simulator - INFO - Date = 2020-03-27 13:00:00, number of deaths =  1, number of infected = 1232\n",
      "2020-06-25 15:05:33,404 - june.simulator - INFO - Date = 2020-03-28 00:00:00, number of deaths =  1, number of infected = 1273\n",
      "2020-06-25 15:05:34,146 - june.simulator - INFO - Date = 2020-03-28 04:00:00, number of deaths =  1, number of infected = 1295\n",
      "2020-06-25 15:05:34,961 - june.simulator - INFO - Date = 2020-03-28 08:00:00, number of deaths =  1, number of infected = 1318\n",
      "2020-06-25 15:05:35,694 - june.simulator - INFO - Date = 2020-03-28 12:00:00, number of deaths =  1, number of infected = 1331\n",
      "2020-06-25 15:05:36,541 - june.simulator - INFO - Date = 2020-03-29 00:00:00, number of deaths =  1, number of infected = 1384\n",
      "2020-06-25 15:05:37,311 - june.simulator - INFO - Date = 2020-03-29 04:00:00, number of deaths =  1, number of infected = 1408\n",
      "2020-06-25 15:05:38,185 - june.simulator - INFO - Date = 2020-03-29 08:00:00, number of deaths =  1, number of infected = 1432\n",
      "2020-06-25 15:05:38,886 - june.simulator - INFO - Date = 2020-03-29 12:00:00, number of deaths =  1, number of infected = 1444\n",
      "2020-06-25 15:05:39,562 - june.simulator - INFO - Date = 2020-03-30 00:00:00, number of deaths =  1, number of infected = 1503\n",
      "2020-06-25 15:05:40,496 - june.simulator - INFO - Date = 2020-03-30 01:00:00, number of deaths =  1, number of infected = 1515\n",
      "2020-06-25 15:05:41,501 - june.simulator - INFO - Date = 2020-03-30 05:00:00, number of deaths =  1, number of infected = 1545\n",
      "2020-06-25 15:05:42,391 - june.simulator - INFO - Date = 2020-03-30 09:00:00, number of deaths =  1, number of infected = 1569\n",
      "2020-06-25 15:05:43,208 - june.simulator - INFO - Date = 2020-03-30 10:00:00, number of deaths =  1, number of infected = 1582\n",
      "2020-06-25 15:05:44,028 - june.simulator - INFO - Date = 2020-03-30 13:00:00, number of deaths =  1, number of infected = 1595\n",
      "2020-06-25 15:05:44,767 - june.simulator - INFO - Date = 2020-03-31 00:00:00, number of deaths =  1, number of infected = 1645\n",
      "2020-06-25 15:05:45,521 - june.simulator - INFO - Date = 2020-03-31 01:00:00, number of deaths =  1, number of infected = 1652\n",
      "2020-06-25 15:05:46,374 - june.simulator - INFO - Date = 2020-03-31 05:00:00, number of deaths =  1, number of infected = 1688\n",
      "2020-06-25 15:05:47,038 - june.simulator - INFO - Date = 2020-03-31 09:00:00, number of deaths =  1, number of infected = 1873\n",
      "2020-06-25 15:05:47,778 - june.simulator - INFO - Date = 2020-03-31 10:00:00, number of deaths =  1, number of infected = 1876\n",
      "2020-06-25 15:05:48,438 - june.simulator - INFO - Date = 2020-03-31 13:00:00, number of deaths =  1, number of infected = 1902\n",
      "2020-06-25 15:05:49,117 - june.simulator - INFO - Date = 2020-04-01 00:00:00, number of deaths =  1, number of infected = 1950\n",
      "2020-06-25 15:05:49,903 - june.simulator - INFO - Date = 2020-04-01 01:00:00, number of deaths =  1, number of infected = 1960\n",
      "2020-06-25 15:05:50,786 - june.simulator - INFO - Date = 2020-04-01 05:00:00, number of deaths =  1, number of infected = 2007\n",
      "2020-06-25 15:05:51,428 - june.simulator - INFO - Date = 2020-04-01 09:00:00, number of deaths =  1, number of infected = 2035\n",
      "2020-06-25 15:05:52,199 - june.simulator - INFO - Date = 2020-04-01 10:00:00, number of deaths =  1, number of infected = 2041\n",
      "2020-06-25 15:05:53,243 - june.simulator - INFO - Date = 2020-04-01 13:00:00, number of deaths =  1, number of infected = 2063\n",
      "2020-06-25 15:05:54,084 - june.simulator - INFO - Date = 2020-04-02 00:00:00, number of deaths =  1, number of infected = 2100\n",
      "2020-06-25 15:05:55,332 - june.simulator - INFO - Date = 2020-04-02 01:00:00, number of deaths =  1, number of infected = 2103\n",
      "2020-06-25 15:05:56,245 - june.simulator - INFO - Date = 2020-04-02 05:00:00, number of deaths =  1, number of infected = 2122\n",
      "2020-06-25 15:05:56,978 - june.simulator - INFO - Date = 2020-04-02 09:00:00, number of deaths =  1, number of infected = 2139\n",
      "2020-06-25 15:05:57,794 - june.simulator - INFO - Date = 2020-04-02 10:00:00, number of deaths =  1, number of infected = 2142\n",
      "2020-06-25 15:05:58,562 - june.simulator - INFO - Date = 2020-04-02 13:00:00, number of deaths =  1, number of infected = 2164\n",
      "2020-06-25 15:06:00,160 - june.simulator - INFO - Date = 2020-04-03 00:00:00, number of deaths =  1, number of infected = 2206\n",
      "2020-06-25 15:06:01,271 - june.simulator - INFO - Date = 2020-04-03 01:00:00, number of deaths =  1, number of infected = 2214\n",
      "2020-06-25 15:06:02,139 - june.simulator - INFO - Date = 2020-04-03 05:00:00, number of deaths =  1, number of infected = 2240\n",
      "2020-06-25 15:06:02,857 - june.simulator - INFO - Date = 2020-04-03 09:00:00, number of deaths =  1, number of infected = 2261\n",
      "2020-06-25 15:06:03,687 - june.simulator - INFO - Date = 2020-04-03 10:00:00, number of deaths =  1, number of infected = 2271\n",
      "2020-06-25 15:06:04,379 - june.simulator - INFO - Date = 2020-04-03 13:00:00, number of deaths =  1, number of infected = 2300\n",
      "2020-06-25 15:06:05,454 - june.simulator - INFO - Date = 2020-04-04 00:00:00, number of deaths =  1, number of infected = 2413\n",
      "2020-06-25 15:06:06,322 - june.simulator - INFO - Date = 2020-04-04 04:00:00, number of deaths =  1, number of infected = 2473\n",
      "2020-06-25 15:06:07,329 - june.simulator - INFO - Date = 2020-04-04 08:00:00, number of deaths =  1, number of infected = 2513\n",
      "2020-06-25 15:06:08,183 - june.simulator - INFO - Date = 2020-04-04 12:00:00, number of deaths =  1, number of infected = 2558\n",
      "2020-06-25 15:06:09,074 - june.simulator - INFO - Date = 2020-04-05 00:00:00, number of deaths =  1, number of infected = 2659\n",
      "2020-06-25 15:06:09,999 - june.simulator - INFO - Date = 2020-04-05 04:00:00, number of deaths =  1, number of infected = 2699\n",
      "2020-06-25 15:06:10,996 - june.simulator - INFO - Date = 2020-04-05 08:00:00, number of deaths =  1, number of infected = 2728\n",
      "2020-06-25 15:06:11,795 - june.simulator - INFO - Date = 2020-04-05 12:00:00, number of deaths =  1, number of infected = 2772\n",
      "2020-06-25 15:06:12,623 - june.simulator - INFO - Date = 2020-04-06 00:00:00, number of deaths =  2, number of infected = 2881\n",
      "2020-06-25 15:06:13,414 - june.simulator - INFO - Date = 2020-04-06 01:00:00, number of deaths =  2, number of infected = 2895\n",
      "2020-06-25 15:06:14,254 - june.simulator - INFO - Date = 2020-04-06 05:00:00, number of deaths =  2, number of infected = 2921\n",
      "2020-06-25 15:06:14,884 - june.simulator - INFO - Date = 2020-04-06 09:00:00, number of deaths =  2, number of infected = 2946\n",
      "2020-06-25 15:06:15,722 - june.simulator - INFO - Date = 2020-04-06 10:00:00, number of deaths =  2, number of infected = 2952\n",
      "2020-06-25 15:06:16,349 - june.simulator - INFO - Date = 2020-04-06 13:00:00, number of deaths =  2, number of infected = 2977\n",
      "2020-06-25 15:06:17,118 - june.simulator - INFO - Date = 2020-04-07 00:00:00, number of deaths =  2, number of infected = 3034\n",
      "2020-06-25 15:06:17,945 - june.simulator - INFO - Date = 2020-04-07 01:00:00, number of deaths =  2, number of infected = 3040\n",
      "2020-06-25 15:06:18,788 - june.simulator - INFO - Date = 2020-04-07 05:00:00, number of deaths =  2, number of infected = 3056\n",
      "2020-06-25 15:06:19,554 - june.simulator - INFO - Date = 2020-04-07 09:00:00, number of deaths =  2, number of infected = 3085\n",
      "2020-06-25 15:06:20,798 - june.simulator - INFO - Date = 2020-04-07 10:00:00, number of deaths =  2, number of infected = 3089\n",
      "2020-06-25 15:06:21,687 - june.simulator - INFO - Date = 2020-04-07 13:00:00, number of deaths =  2, number of infected = 3116\n",
      "2020-06-25 15:06:22,599 - june.simulator - INFO - Date = 2020-04-08 00:00:00, number of deaths =  2, number of infected = 3172\n",
      "2020-06-25 15:06:23,711 - june.simulator - INFO - Date = 2020-04-08 01:00:00, number of deaths =  2, number of infected = 3175\n",
      "2020-06-25 15:06:24,924 - june.simulator - INFO - Date = 2020-04-08 05:00:00, number of deaths =  2, number of infected = 3199\n",
      "2020-06-25 15:06:25,902 - june.simulator - INFO - Date = 2020-04-08 09:00:00, number of deaths =  2, number of infected = 3221\n",
      "2020-06-25 15:06:27,034 - june.simulator - INFO - Date = 2020-04-08 10:00:00, number of deaths =  2, number of infected = 3227\n",
      "2020-06-25 15:06:27,932 - june.simulator - INFO - Date = 2020-04-08 13:00:00, number of deaths =  2, number of infected = 3253\n",
      "2020-06-25 15:06:29,089 - june.simulator - INFO - Date = 2020-04-09 00:00:00, number of deaths =  2, number of infected = 3305\n",
      "2020-06-25 15:06:30,244 - june.simulator - INFO - Date = 2020-04-09 01:00:00, number of deaths =  2, number of infected = 3310\n",
      "2020-06-25 15:06:31,702 - june.simulator - INFO - Date = 2020-04-09 05:00:00, number of deaths =  2, number of infected = 3337\n",
      "2020-06-25 15:06:32,822 - june.simulator - INFO - Date = 2020-04-09 09:00:00, number of deaths =  2, number of infected = 3372\n",
      "2020-06-25 15:06:34,049 - june.simulator - INFO - Date = 2020-04-09 10:00:00, number of deaths =  2, number of infected = 3387\n",
      "2020-06-25 15:06:35,111 - june.simulator - INFO - Date = 2020-04-09 13:00:00, number of deaths =  2, number of infected = 3410\n",
      "2020-06-25 15:06:36,183 - june.simulator - INFO - Date = 2020-04-10 00:00:00, number of deaths =  2, number of infected = 3469\n",
      "2020-06-25 15:06:37,294 - june.simulator - INFO - Date = 2020-04-10 01:00:00, number of deaths =  2, number of infected = 3470\n",
      "2020-06-25 15:06:38,398 - june.simulator - INFO - Date = 2020-04-10 05:00:00, number of deaths =  2, number of infected = 3501\n",
      "2020-06-25 15:06:39,323 - june.simulator - INFO - Date = 2020-04-10 09:00:00, number of deaths =  3, number of infected = 3533\n",
      "2020-06-25 15:06:40,371 - june.simulator - INFO - Date = 2020-04-10 10:00:00, number of deaths =  3, number of infected = 3539\n",
      "2020-06-25 15:06:41,243 - june.simulator - INFO - Date = 2020-04-10 13:00:00, number of deaths =  3, number of infected = 3559\n",
      "2020-06-25 15:06:42,377 - june.simulator - INFO - Date = 2020-04-11 00:00:00, number of deaths =  3, number of infected = 3615\n",
      "2020-06-25 15:06:43,273 - june.simulator - INFO - Date = 2020-04-11 04:00:00, number of deaths =  3, number of infected = 3642\n",
      "2020-06-25 15:06:44,326 - june.simulator - INFO - Date = 2020-04-11 08:00:00, number of deaths =  3, number of infected = 3681\n",
      "2020-06-25 15:06:45,200 - june.simulator - INFO - Date = 2020-04-11 12:00:00, number of deaths =  3, number of infected = 3706\n",
      "2020-06-25 15:06:46,259 - june.simulator - INFO - Date = 2020-04-12 00:00:00, number of deaths =  3, number of infected = 3753\n",
      "2020-06-25 15:06:47,331 - june.simulator - INFO - Date = 2020-04-12 04:00:00, number of deaths =  3, number of infected = 3769\n",
      "2020-06-25 15:06:48,399 - june.simulator - INFO - Date = 2020-04-12 08:00:00, number of deaths =  3, number of infected = 3792\n",
      "2020-06-25 15:06:49,298 - june.simulator - INFO - Date = 2020-04-12 12:00:00, number of deaths =  3, number of infected = 3818\n",
      "2020-06-25 15:06:50,150 - june.simulator - INFO - Date = 2020-04-13 00:00:00, number of deaths =  3, number of infected = 3872\n",
      "2020-06-25 15:06:51,136 - june.simulator - INFO - Date = 2020-04-13 01:00:00, number of deaths =  3, number of infected = 3873\n",
      "2020-06-25 15:06:51,985 - june.simulator - INFO - Date = 2020-04-13 05:00:00, number of deaths =  3, number of infected = 3901\n",
      "2020-06-25 15:06:52,762 - june.simulator - INFO - Date = 2020-04-13 09:00:00, number of deaths =  3, number of infected = 3927\n",
      "2020-06-25 15:06:53,595 - june.simulator - INFO - Date = 2020-04-13 10:00:00, number of deaths =  3, number of infected = 3939\n",
      "2020-06-25 15:06:54,360 - june.simulator - INFO - Date = 2020-04-13 13:00:00, number of deaths =  3, number of infected = 3957\n",
      "2020-06-25 15:06:55,069 - june.simulator - INFO - Date = 2020-04-14 00:00:00, number of deaths =  3, number of infected = 4007\n",
      "2020-06-25 15:06:55,914 - june.simulator - INFO - Date = 2020-04-14 01:00:00, number of deaths =  3, number of infected = 4020\n",
      "2020-06-25 15:06:56,828 - june.simulator - INFO - Date = 2020-04-14 05:00:00, number of deaths =  3, number of infected = 4054\n",
      "2020-06-25 15:06:57,553 - june.simulator - INFO - Date = 2020-04-14 09:00:00, number of deaths =  3, number of infected = 4086\n",
      "2020-06-25 15:06:58,389 - june.simulator - INFO - Date = 2020-04-14 10:00:00, number of deaths =  3, number of infected = 4095\n",
      "2020-06-25 15:06:59,070 - june.simulator - INFO - Date = 2020-04-14 13:00:00, number of deaths =  3, number of infected = 4107\n",
      "2020-06-25 15:06:59,781 - june.simulator - INFO - Date = 2020-04-15 00:00:00, number of deaths =  3, number of infected = 4163\n",
      "2020-06-25 15:07:00,622 - june.simulator - INFO - Date = 2020-04-15 01:00:00, number of deaths =  3, number of infected = 4170\n",
      "2020-06-25 15:07:01,475 - june.simulator - INFO - Date = 2020-04-15 05:00:00, number of deaths =  3, number of infected = 4200\n",
      "2020-06-25 15:07:02,183 - june.simulator - INFO - Date = 2020-04-15 09:00:00, number of deaths =  3, number of infected = 4228\n",
      "2020-06-25 15:07:03,003 - june.simulator - INFO - Date = 2020-04-15 10:00:00, number of deaths =  3, number of infected = 4236\n",
      "2020-06-25 15:07:03,778 - june.simulator - INFO - Date = 2020-04-15 13:00:00, number of deaths =  3, number of infected = 4258\n",
      "2020-06-25 15:07:04,516 - june.simulator - INFO - Date = 2020-04-16 00:00:00, number of deaths =  3, number of infected = 4314\n",
      "2020-06-25 15:07:05,436 - june.simulator - INFO - Date = 2020-04-16 01:00:00, number of deaths =  3, number of infected = 4322\n",
      "2020-06-25 15:07:06,280 - june.simulator - INFO - Date = 2020-04-16 05:00:00, number of deaths =  3, number of infected = 4345\n",
      "2020-06-25 15:07:07,002 - june.simulator - INFO - Date = 2020-04-16 09:00:00, number of deaths =  3, number of infected = 4383\n",
      "2020-06-25 15:07:07,804 - june.simulator - INFO - Date = 2020-04-16 10:00:00, number of deaths =  3, number of infected = 4390\n",
      "2020-06-25 15:07:08,497 - june.simulator - INFO - Date = 2020-04-16 13:00:00, number of deaths =  3, number of infected = 4398\n",
      "2020-06-25 15:07:09,210 - june.simulator - INFO - Date = 2020-04-17 00:00:00, number of deaths =  3, number of infected = 4444\n",
      "2020-06-25 15:07:10,103 - june.simulator - INFO - Date = 2020-04-17 01:00:00, number of deaths =  3, number of infected = 4456\n",
      "2020-06-25 15:07:10,943 - june.simulator - INFO - Date = 2020-04-17 05:00:00, number of deaths =  3, number of infected = 4484\n",
      "2020-06-25 15:07:11,653 - june.simulator - INFO - Date = 2020-04-17 09:00:00, number of deaths =  3, number of infected = 4506\n",
      "2020-06-25 15:07:12,475 - june.simulator - INFO - Date = 2020-04-17 10:00:00, number of deaths =  3, number of infected = 4527\n",
      "2020-06-25 15:07:13,179 - june.simulator - INFO - Date = 2020-04-17 13:00:00, number of deaths =  3, number of infected = 4557\n",
      "2020-06-25 15:07:14,040 - june.simulator - INFO - Date = 2020-04-18 00:00:00, number of deaths =  3, number of infected = 4598\n",
      "2020-06-25 15:07:14,951 - june.simulator - INFO - Date = 2020-04-18 04:00:00, number of deaths =  3, number of infected = 4611\n",
      "2020-06-25 15:07:15,782 - june.simulator - INFO - Date = 2020-04-18 08:00:00, number of deaths =  3, number of infected = 4648\n",
      "2020-06-25 15:07:16,463 - june.simulator - INFO - Date = 2020-04-18 12:00:00, number of deaths =  3, number of infected = 4673\n",
      "2020-06-25 15:07:17,326 - june.simulator - INFO - Date = 2020-04-19 00:00:00, number of deaths =  3, number of infected = 4712\n",
      "2020-06-25 15:07:18,158 - june.simulator - INFO - Date = 2020-04-19 04:00:00, number of deaths =  3, number of infected = 4752\n",
      "2020-06-25 15:07:18,998 - june.simulator - INFO - Date = 2020-04-19 08:00:00, number of deaths =  3, number of infected = 4789\n",
      "2020-06-25 15:07:19,738 - june.simulator - INFO - Date = 2020-04-19 12:00:00, number of deaths =  3, number of infected = 4819\n",
      "2020-06-25 15:07:20,471 - june.simulator - INFO - Date = 2020-04-20 00:00:00, number of deaths =  3, number of infected = 4865\n",
      "2020-06-25 15:07:21,335 - june.simulator - INFO - Date = 2020-04-20 01:00:00, number of deaths =  3, number of infected = 4876\n",
      "2020-06-25 15:07:22,196 - june.simulator - INFO - Date = 2020-04-20 05:00:00, number of deaths =  3, number of infected = 4906\n",
      "2020-06-25 15:07:22,911 - june.simulator - INFO - Date = 2020-04-20 09:00:00, number of deaths =  4, number of infected = 4931\n",
      "2020-06-25 15:07:23,715 - june.simulator - INFO - Date = 2020-04-20 10:00:00, number of deaths =  4, number of infected = 4951\n",
      "2020-06-25 15:07:24,427 - june.simulator - INFO - Date = 2020-04-20 13:00:00, number of deaths =  4, number of infected = 4968\n",
      "2020-06-25 15:07:25,157 - june.simulator - INFO - Date = 2020-04-21 00:00:00, number of deaths =  4, number of infected = 5019\n",
      "2020-06-25 15:07:26,095 - june.simulator - INFO - Date = 2020-04-21 01:00:00, number of deaths =  4, number of infected = 5028\n",
      "2020-06-25 15:07:26,960 - june.simulator - INFO - Date = 2020-04-21 05:00:00, number of deaths =  4, number of infected = 5056\n",
      "2020-06-25 15:07:27,654 - june.simulator - INFO - Date = 2020-04-21 09:00:00, number of deaths =  5, number of infected = 5100\n",
      "2020-06-25 15:07:28,483 - june.simulator - INFO - Date = 2020-04-21 10:00:00, number of deaths =  5, number of infected = 5110\n",
      "2020-06-25 15:07:29,203 - june.simulator - INFO - Date = 2020-04-21 13:00:00, number of deaths =  5, number of infected = 5113\n",
      "2020-06-25 15:07:29,919 - june.simulator - INFO - Date = 2020-04-22 00:00:00, number of deaths =  6, number of infected = 5158\n",
      "2020-06-25 15:07:30,777 - june.simulator - INFO - Date = 2020-04-22 01:00:00, number of deaths =  6, number of infected = 5173\n",
      "2020-06-25 15:07:31,620 - june.simulator - INFO - Date = 2020-04-22 05:00:00, number of deaths =  6, number of infected = 5207\n",
      "2020-06-25 15:07:32,334 - june.simulator - INFO - Date = 2020-04-22 09:00:00, number of deaths =  6, number of infected = 5215\n",
      "2020-06-25 15:07:33,233 - june.simulator - INFO - Date = 2020-04-22 10:00:00, number of deaths =  7, number of infected = 5226\n",
      "2020-06-25 15:07:33,909 - june.simulator - INFO - Date = 2020-04-22 13:00:00, number of deaths =  8, number of infected = 5240\n",
      "2020-06-25 15:07:34,619 - june.simulator - INFO - Date = 2020-04-23 00:00:00, number of deaths =  8, number of infected = 5253\n",
      "2020-06-25 15:07:35,480 - june.simulator - INFO - Date = 2020-04-23 01:00:00, number of deaths =  8, number of infected = 5260\n",
      "2020-06-25 15:07:36,326 - june.simulator - INFO - Date = 2020-04-23 05:00:00, number of deaths =  8, number of infected = 5284\n",
      "2020-06-25 15:07:37,010 - june.simulator - INFO - Date = 2020-04-23 09:00:00, number of deaths =  8, number of infected = 5328\n",
      "2020-06-25 15:07:37,818 - june.simulator - INFO - Date = 2020-04-23 10:00:00, number of deaths =  9, number of infected = 5339\n",
      "2020-06-25 15:07:38,598 - june.simulator - INFO - Date = 2020-04-23 13:00:00, number of deaths =  9, number of infected = 5346\n",
      "2020-06-25 15:07:39,309 - june.simulator - INFO - Date = 2020-04-24 00:00:00, number of deaths =  9, number of infected = 5362\n",
      "2020-06-25 15:07:40,164 - june.simulator - INFO - Date = 2020-04-24 01:00:00, number of deaths =  9, number of infected = 5364\n",
      "2020-06-25 15:07:40,986 - june.simulator - INFO - Date = 2020-04-24 05:00:00, number of deaths =  10, number of infected = 5387\n",
      "2020-06-25 15:07:41,695 - june.simulator - INFO - Date = 2020-04-24 09:00:00, number of deaths =  10, number of infected = 5435\n",
      "2020-06-25 15:07:42,592 - june.simulator - INFO - Date = 2020-04-24 10:00:00, number of deaths =  10, number of infected = 5449\n",
      "2020-06-25 15:07:43,300 - june.simulator - INFO - Date = 2020-04-24 13:00:00, number of deaths =  10, number of infected = 5478\n",
      "2020-06-25 15:07:44,150 - june.simulator - INFO - Date = 2020-04-25 00:00:00, number of deaths =  10, number of infected = 5533\n",
      "2020-06-25 15:07:44,990 - june.simulator - INFO - Date = 2020-04-25 04:00:00, number of deaths =  10, number of infected = 5559\n",
      "2020-06-25 15:07:45,850 - june.simulator - INFO - Date = 2020-04-25 08:00:00, number of deaths =  10, number of infected = 5584\n",
      "2020-06-25 15:07:46,539 - june.simulator - INFO - Date = 2020-04-25 12:00:00, number of deaths =  10, number of infected = 5622\n",
      "2020-06-25 15:07:47,385 - june.simulator - INFO - Date = 2020-04-26 00:00:00, number of deaths =  11, number of infected = 5645\n",
      "2020-06-25 15:07:48,188 - june.simulator - INFO - Date = 2020-04-26 04:00:00, number of deaths =  11, number of infected = 5665\n",
      "2020-06-25 15:07:49,133 - june.simulator - INFO - Date = 2020-04-26 08:00:00, number of deaths =  11, number of infected = 5685\n",
      "2020-06-25 15:07:49,864 - june.simulator - INFO - Date = 2020-04-26 12:00:00, number of deaths =  11, number of infected = 5707\n",
      "2020-06-25 15:07:50,593 - june.simulator - INFO - Date = 2020-04-27 00:00:00, number of deaths =  11, number of infected = 5749\n",
      "2020-06-25 15:07:51,584 - june.simulator - INFO - Date = 2020-04-27 01:00:00, number of deaths =  11, number of infected = 5774\n",
      "2020-06-25 15:07:52,624 - june.simulator - INFO - Date = 2020-04-27 05:00:00, number of deaths =  11, number of infected = 5793\n",
      "2020-06-25 15:07:53,430 - june.simulator - INFO - Date = 2020-04-27 09:00:00, number of deaths =  11, number of infected = 5809\n",
      "2020-06-25 15:07:54,299 - june.simulator - INFO - Date = 2020-04-27 10:00:00, number of deaths =  11, number of infected = 5818\n",
      "2020-06-25 15:07:54,977 - june.simulator - INFO - Date = 2020-04-27 13:00:00, number of deaths =  11, number of infected = 5832\n",
      "2020-06-25 15:07:55,695 - june.simulator - INFO - Date = 2020-04-28 00:00:00, number of deaths =  12, number of infected = 5841\n",
      "2020-06-25 15:07:56,518 - june.simulator - INFO - Date = 2020-04-28 01:00:00, number of deaths =  12, number of infected = 5856\n",
      "2020-06-25 15:07:57,360 - june.simulator - INFO - Date = 2020-04-28 05:00:00, number of deaths =  12, number of infected = 5881\n",
      "2020-06-25 15:07:58,107 - june.simulator - INFO - Date = 2020-04-28 09:00:00, number of deaths =  12, number of infected = 5898\n",
      "2020-06-25 15:07:59,009 - june.simulator - INFO - Date = 2020-04-28 10:00:00, number of deaths =  12, number of infected = 5907\n",
      "2020-06-25 15:07:59,696 - june.simulator - INFO - Date = 2020-04-28 13:00:00, number of deaths =  12, number of infected = 5910\n",
      "2020-06-25 15:08:00,469 - june.simulator - INFO - Date = 2020-04-29 00:00:00, number of deaths =  13, number of infected = 5915\n",
      "2020-06-25 15:08:01,338 - june.simulator - INFO - Date = 2020-04-29 01:00:00, number of deaths =  13, number of infected = 5922\n",
      "2020-06-25 15:08:02,215 - june.simulator - INFO - Date = 2020-04-29 05:00:00, number of deaths =  14, number of infected = 5936\n",
      "2020-06-25 15:08:02,935 - june.simulator - INFO - Date = 2020-04-29 09:00:00, number of deaths =  14, number of infected = 5966\n",
      "2020-06-25 15:08:03,742 - june.simulator - INFO - Date = 2020-04-29 10:00:00, number of deaths =  14, number of infected = 5979\n",
      "2020-06-25 15:08:04,483 - june.simulator - INFO - Date = 2020-04-29 13:00:00, number of deaths =  14, number of infected = 5994\n",
      "2020-06-25 15:08:05,198 - june.simulator - INFO - Date = 2020-04-30 00:00:00, number of deaths =  14, number of infected = 6030\n",
      "2020-06-25 15:08:06,025 - june.simulator - INFO - Date = 2020-04-30 01:00:00, number of deaths =  14, number of infected = 6034\n",
      "2020-06-25 15:08:06,846 - june.simulator - INFO - Date = 2020-04-30 05:00:00, number of deaths =  14, number of infected = 6060\n",
      "2020-06-25 15:08:07,576 - june.simulator - INFO - Date = 2020-04-30 09:00:00, number of deaths =  14, number of infected = 6076\n",
      "2020-06-25 15:08:08,420 - june.simulator - INFO - Date = 2020-04-30 10:00:00, number of deaths =  14, number of infected = 6078\n",
      "2020-06-25 15:08:09,131 - june.simulator - INFO - Date = 2020-04-30 13:00:00, number of deaths =  14, number of infected = 6107\n",
      "2020-06-25 15:08:09,940 - june.simulator - INFO - Date = 2020-05-01 00:00:00, number of deaths =  14, number of infected = 6130\n",
      "2020-06-25 15:08:10,786 - june.simulator - INFO - Date = 2020-05-01 01:00:00, number of deaths =  14, number of infected = 6134\n",
      "2020-06-25 15:08:11,649 - june.simulator - INFO - Date = 2020-05-01 05:00:00, number of deaths =  14, number of infected = 6154\n",
      "2020-06-25 15:08:12,413 - june.simulator - INFO - Date = 2020-05-01 09:00:00, number of deaths =  14, number of infected = 6180\n",
      "2020-06-25 15:08:13,267 - june.simulator - INFO - Date = 2020-05-01 10:00:00, number of deaths =  14, number of infected = 6184\n",
      "2020-06-25 15:08:13,947 - june.simulator - INFO - Date = 2020-05-01 13:00:00, number of deaths =  14, number of infected = 6202\n",
      "2020-06-25 15:08:14,813 - june.simulator - INFO - Date = 2020-05-02 00:00:00, number of deaths =  16, number of infected = 6213\n",
      "2020-06-25 15:08:15,667 - june.simulator - INFO - Date = 2020-05-02 04:00:00, number of deaths =  16, number of infected = 6229\n",
      "2020-06-25 15:08:16,486 - june.simulator - INFO - Date = 2020-05-02 08:00:00, number of deaths =  16, number of infected = 6253\n",
      "2020-06-25 15:08:17,202 - june.simulator - INFO - Date = 2020-05-02 12:00:00, number of deaths =  16, number of infected = 6276\n",
      "2020-06-25 15:08:18,047 - june.simulator - INFO - Date = 2020-05-03 00:00:00, number of deaths =  17, number of infected = 6291\n",
      "2020-06-25 15:08:18,883 - june.simulator - INFO - Date = 2020-05-03 04:00:00, number of deaths =  17, number of infected = 6313\n",
      "2020-06-25 15:08:19,752 - june.simulator - INFO - Date = 2020-05-03 08:00:00, number of deaths =  17, number of infected = 6327\n",
      "2020-06-25 15:08:20,543 - june.simulator - INFO - Date = 2020-05-03 12:00:00, number of deaths =  17, number of infected = 6350\n",
      "2020-06-25 15:08:21,270 - june.simulator - INFO - Date = 2020-05-04 00:00:00, number of deaths =  18, number of infected = 6342\n",
      "2020-06-25 15:08:22,114 - june.simulator - INFO - Date = 2020-05-04 01:00:00, number of deaths =  18, number of infected = 6335\n",
      "2020-06-25 15:08:22,962 - june.simulator - INFO - Date = 2020-05-04 05:00:00, number of deaths =  18, number of infected = 6346\n",
      "2020-06-25 15:08:23,666 - june.simulator - INFO - Date = 2020-05-04 09:00:00, number of deaths =  18, number of infected = 6368\n",
      "2020-06-25 15:08:24,464 - june.simulator - INFO - Date = 2020-05-04 10:00:00, number of deaths =  18, number of infected = 6364\n",
      "2020-06-25 15:08:25,167 - june.simulator - INFO - Date = 2020-05-04 13:00:00, number of deaths =  18, number of infected = 6380\n",
      "2020-06-25 15:08:25,889 - june.simulator - INFO - Date = 2020-05-05 00:00:00, number of deaths =  18, number of infected = 6385\n",
      "2020-06-25 15:08:26,719 - june.simulator - INFO - Date = 2020-05-05 01:00:00, number of deaths =  18, number of infected = 6386\n",
      "2020-06-25 15:08:27,666 - june.simulator - INFO - Date = 2020-05-05 05:00:00, number of deaths =  18, number of infected = 6395\n",
      "2020-06-25 15:08:28,354 - june.simulator - INFO - Date = 2020-05-05 09:00:00, number of deaths =  18, number of infected = 6405\n",
      "2020-06-25 15:08:29,214 - june.simulator - INFO - Date = 2020-05-05 10:00:00, number of deaths =  18, number of infected = 6401\n",
      "2020-06-25 15:08:29,904 - june.simulator - INFO - Date = 2020-05-05 13:00:00, number of deaths =  18, number of infected = 6411\n",
      "2020-06-25 15:08:30,748 - june.simulator - INFO - Date = 2020-05-06 00:00:00, number of deaths =  18, number of infected = 6441\n",
      "2020-06-25 15:08:31,611 - june.simulator - INFO - Date = 2020-05-06 01:00:00, number of deaths =  18, number of infected = 6442\n",
      "2020-06-25 15:08:32,533 - june.simulator - INFO - Date = 2020-05-06 05:00:00, number of deaths =  18, number of infected = 6443\n",
      "2020-06-25 15:08:33,251 - june.simulator - INFO - Date = 2020-05-06 09:00:00, number of deaths =  18, number of infected = 6440\n",
      "2020-06-25 15:08:34,084 - june.simulator - INFO - Date = 2020-05-06 10:00:00, number of deaths =  18, number of infected = 6436\n",
      "2020-06-25 15:08:34,769 - june.simulator - INFO - Date = 2020-05-06 13:00:00, number of deaths =  18, number of infected = 6433\n",
      "2020-06-25 15:08:35,514 - june.simulator - INFO - Date = 2020-05-07 00:00:00, number of deaths =  18, number of infected = 6429\n",
      "2020-06-25 15:08:36,369 - june.simulator - INFO - Date = 2020-05-07 01:00:00, number of deaths =  18, number of infected = 6420\n",
      "2020-06-25 15:08:37,205 - june.simulator - INFO - Date = 2020-05-07 05:00:00, number of deaths =  18, number of infected = 6415\n",
      "2020-06-25 15:08:37,916 - june.simulator - INFO - Date = 2020-05-07 09:00:00, number of deaths =  18, number of infected = 6429\n",
      "2020-06-25 15:08:38,778 - june.simulator - INFO - Date = 2020-05-07 10:00:00, number of deaths =  18, number of infected = 6429\n",
      "2020-06-25 15:08:39,599 - june.simulator - INFO - Date = 2020-05-07 13:00:00, number of deaths =  18, number of infected = 6427\n",
      "2020-06-25 15:08:40,326 - june.simulator - INFO - Date = 2020-05-08 00:00:00, number of deaths =  18, number of infected = 6377\n",
      "2020-06-25 15:08:41,503 - june.simulator - INFO - Date = 2020-05-08 01:00:00, number of deaths =  18, number of infected = 6364\n",
      "2020-06-25 15:08:42,545 - june.simulator - INFO - Date = 2020-05-08 05:00:00, number of deaths =  18, number of infected = 6363\n",
      "2020-06-25 15:08:43,225 - june.simulator - INFO - Date = 2020-05-08 09:00:00, number of deaths =  18, number of infected = 6351\n",
      "2020-06-25 15:08:44,028 - june.simulator - INFO - Date = 2020-05-08 10:00:00, number of deaths =  18, number of infected = 6349\n",
      "2020-06-25 15:08:44,714 - june.simulator - INFO - Date = 2020-05-08 13:00:00, number of deaths =  18, number of infected = 6340\n",
      "2020-06-25 15:08:45,519 - june.simulator - INFO - Date = 2020-05-09 00:00:00, number of deaths =  18, number of infected = 6283\n",
      "2020-06-25 15:08:46,305 - june.simulator - INFO - Date = 2020-05-09 04:00:00, number of deaths =  18, number of infected = 6283\n",
      "2020-06-25 15:08:47,110 - june.simulator - INFO - Date = 2020-05-09 08:00:00, number of deaths =  18, number of infected = 6272\n",
      "2020-06-25 15:08:47,783 - june.simulator - INFO - Date = 2020-05-09 12:00:00, number of deaths =  18, number of infected = 6257\n",
      "2020-06-25 15:08:48,665 - june.simulator - INFO - Date = 2020-05-10 00:00:00, number of deaths =  18, number of infected = 6185\n",
      "2020-06-25 15:08:49,493 - june.simulator - INFO - Date = 2020-05-10 04:00:00, number of deaths =  18, number of infected = 6176\n",
      "2020-06-25 15:08:50,388 - june.simulator - INFO - Date = 2020-05-10 08:00:00, number of deaths =  18, number of infected = 6178\n",
      "2020-06-25 15:08:51,073 - june.simulator - INFO - Date = 2020-05-10 12:00:00, number of deaths =  18, number of infected = 6155\n",
      "2020-06-25 15:08:51,818 - june.simulator - INFO - Date = 2020-05-11 00:00:00, number of deaths =  18, number of infected = 6095\n",
      "2020-06-25 15:08:52,649 - june.simulator - INFO - Date = 2020-05-11 01:00:00, number of deaths =  18, number of infected = 6084\n",
      "2020-06-25 15:08:53,483 - june.simulator - INFO - Date = 2020-05-11 05:00:00, number of deaths =  18, number of infected = 6063\n",
      "2020-06-25 15:08:54,173 - june.simulator - INFO - Date = 2020-05-11 09:00:00, number of deaths =  18, number of infected = 6055\n",
      "2020-06-25 15:08:54,974 - june.simulator - INFO - Date = 2020-05-11 10:00:00, number of deaths =  18, number of infected = 6051\n",
      "2020-06-25 15:08:55,658 - june.simulator - INFO - Date = 2020-05-11 13:00:00, number of deaths =  18, number of infected = 6036\n",
      "2020-06-25 15:08:56,383 - june.simulator - INFO - Date = 2020-05-12 00:00:00, number of deaths =  19, number of infected = 5967\n",
      "2020-06-25 15:08:57,202 - june.simulator - INFO - Date = 2020-05-12 01:00:00, number of deaths =  19, number of infected = 5959\n",
      "2020-06-25 15:08:58,139 - june.simulator - INFO - Date = 2020-05-12 05:00:00, number of deaths =  19, number of infected = 5928\n",
      "2020-06-25 15:08:58,793 - june.simulator - INFO - Date = 2020-05-12 09:00:00, number of deaths =  19, number of infected = 5914\n",
      "2020-06-25 15:08:59,596 - june.simulator - INFO - Date = 2020-05-12 10:00:00, number of deaths =  19, number of infected = 5910\n",
      "2020-06-25 15:09:00,350 - june.simulator - INFO - Date = 2020-05-12 13:00:00, number of deaths =  19, number of infected = 5902\n",
      "2020-06-25 15:09:01,394 - june.simulator - INFO - Date = 2020-05-13 00:00:00, number of deaths =  19, number of infected = 5797\n",
      "2020-06-25 15:09:02,540 - june.simulator - INFO - Date = 2020-05-13 01:00:00, number of deaths =  19, number of infected = 5790\n",
      "2020-06-25 15:09:03,658 - june.simulator - INFO - Date = 2020-05-13 05:00:00, number of deaths =  19, number of infected = 5774\n",
      "2020-06-25 15:09:04,768 - june.simulator - INFO - Date = 2020-05-13 09:00:00, number of deaths =  19, number of infected = 5759\n",
      "2020-06-25 15:09:05,903 - june.simulator - INFO - Date = 2020-05-13 10:00:00, number of deaths =  19, number of infected = 5747\n",
      "2020-06-25 15:09:06,852 - june.simulator - INFO - Date = 2020-05-13 13:00:00, number of deaths =  19, number of infected = 5704\n",
      "2020-06-25 15:09:07,803 - june.simulator - INFO - Date = 2020-05-14 00:00:00, number of deaths =  19, number of infected = 5620\n",
      "2020-06-25 15:09:08,849 - june.simulator - INFO - Date = 2020-05-14 01:00:00, number of deaths =  19, number of infected = 5614\n",
      "2020-06-25 15:09:09,924 - june.simulator - INFO - Date = 2020-05-14 05:00:00, number of deaths =  19, number of infected = 5595\n",
      "2020-06-25 15:09:11,034 - june.simulator - INFO - Date = 2020-05-14 09:00:00, number of deaths =  19, number of infected = 5574\n",
      "2020-06-25 15:09:12,112 - june.simulator - INFO - Date = 2020-05-14 10:00:00, number of deaths =  19, number of infected = 5564\n",
      "2020-06-25 15:09:13,010 - june.simulator - INFO - Date = 2020-05-14 13:00:00, number of deaths =  19, number of infected = 5542\n",
      "2020-06-25 15:09:13,967 - june.simulator - INFO - Date = 2020-05-15 00:00:00, number of deaths =  19, number of infected = 5448\n",
      "2020-06-25 15:09:15,114 - june.simulator - INFO - Date = 2020-05-15 01:00:00, number of deaths =  19, number of infected = 5437\n",
      "2020-06-25 15:09:16,203 - june.simulator - INFO - Date = 2020-05-15 05:00:00, number of deaths =  19, number of infected = 5411\n",
      "2020-06-25 15:09:17,178 - june.simulator - INFO - Date = 2020-05-15 09:00:00, number of deaths =  19, number of infected = 5400\n",
      "2020-06-25 15:09:18,027 - june.simulator - INFO - Date = 2020-05-15 10:00:00, number of deaths =  19, number of infected = 5386\n",
      "2020-06-25 15:09:18,743 - june.simulator - INFO - Date = 2020-05-15 13:00:00, number of deaths =  19, number of infected = 5359\n",
      "2020-06-25 15:09:19,602 - june.simulator - INFO - Date = 2020-05-16 00:00:00, number of deaths =  19, number of infected = 5286\n",
      "2020-06-25 15:09:20,548 - june.simulator - INFO - Date = 2020-05-16 04:00:00, number of deaths =  19, number of infected = 5258\n",
      "2020-06-25 15:09:21,383 - june.simulator - INFO - Date = 2020-05-16 08:00:00, number of deaths =  20, number of infected = 5227\n",
      "2020-06-25 15:09:22,085 - june.simulator - INFO - Date = 2020-05-16 12:00:00, number of deaths =  20, number of infected = 5198\n",
      "2020-06-25 15:09:22,913 - june.simulator - INFO - Date = 2020-05-17 00:00:00, number of deaths =  21, number of infected = 5103\n",
      "2020-06-25 15:09:23,724 - june.simulator - INFO - Date = 2020-05-17 04:00:00, number of deaths =  21, number of infected = 5070\n",
      "2020-06-25 15:09:24,868 - june.simulator - INFO - Date = 2020-05-17 08:00:00, number of deaths =  21, number of infected = 5022\n",
      "2020-06-25 15:09:25,685 - june.simulator - INFO - Date = 2020-05-17 12:00:00, number of deaths =  21, number of infected = 4987\n",
      "2020-06-25 15:09:26,663 - june.simulator - INFO - Date = 2020-05-18 00:00:00, number of deaths =  21, number of infected = 4891\n",
      "2020-06-25 15:09:27,802 - june.simulator - INFO - Date = 2020-05-18 01:00:00, number of deaths =  21, number of infected = 4887\n",
      "2020-06-25 15:09:28,868 - june.simulator - INFO - Date = 2020-05-18 05:00:00, number of deaths =  21, number of infected = 4870\n",
      "2020-06-25 15:09:29,819 - june.simulator - INFO - Date = 2020-05-18 09:00:00, number of deaths =  21, number of infected = 4845\n",
      "2020-06-25 15:09:30,869 - june.simulator - INFO - Date = 2020-05-18 10:00:00, number of deaths =  21, number of infected = 4844\n",
      "2020-06-25 15:09:32,086 - june.simulator - INFO - Date = 2020-05-18 13:00:00, number of deaths =  21, number of infected = 4821\n",
      "2020-06-25 15:09:33,090 - june.simulator - INFO - Date = 2020-05-19 00:00:00, number of deaths =  21, number of infected = 4733\n",
      "2020-06-25 15:09:34,190 - june.simulator - INFO - Date = 2020-05-19 01:00:00, number of deaths =  21, number of infected = 4722\n",
      "2020-06-25 15:09:35,369 - june.simulator - INFO - Date = 2020-05-19 05:00:00, number of deaths =  21, number of infected = 4698\n",
      "2020-06-25 15:09:36,345 - june.simulator - INFO - Date = 2020-05-19 09:00:00, number of deaths =  21, number of infected = 4667\n",
      "2020-06-25 15:09:37,246 - june.simulator - INFO - Date = 2020-05-19 10:00:00, number of deaths =  21, number of infected = 4655\n",
      "2020-06-25 15:09:37,956 - june.simulator - INFO - Date = 2020-05-19 13:00:00, number of deaths =  21, number of infected = 4624\n",
      "2020-06-25 15:09:38,681 - june.simulator - INFO - Date = 2020-05-20 00:00:00, number of deaths =  22, number of infected = 4514\n",
      "2020-06-25 15:09:41,251 - june.simulator - INFO - Date = 2020-05-20 01:00:00, number of deaths =  22, number of infected = 4505\n",
      "2020-06-25 15:09:42,091 - june.simulator - INFO - Date = 2020-05-20 05:00:00, number of deaths =  22, number of infected = 4473\n",
      "2020-06-25 15:09:42,865 - june.simulator - INFO - Date = 2020-05-20 09:00:00, number of deaths =  22, number of infected = 4463\n",
      "2020-06-25 15:09:44,016 - june.simulator - INFO - Date = 2020-05-20 10:00:00, number of deaths =  23, number of infected = 4445\n",
      "2020-06-25 15:09:44,933 - june.simulator - INFO - Date = 2020-05-20 13:00:00, number of deaths =  23, number of infected = 4420\n",
      "2020-06-25 15:09:46,104 - june.simulator - INFO - Date = 2020-05-21 00:00:00, number of deaths =  23, number of infected = 4302\n",
      "2020-06-25 15:09:47,279 - june.simulator - INFO - Date = 2020-05-21 01:00:00, number of deaths =  23, number of infected = 4295\n",
      "2020-06-25 15:09:48,402 - june.simulator - INFO - Date = 2020-05-21 05:00:00, number of deaths =  24, number of infected = 4255\n",
      "2020-06-25 15:09:49,236 - june.simulator - INFO - Date = 2020-05-21 09:00:00, number of deaths =  24, number of infected = 4226\n",
      "2020-06-25 15:09:50,099 - june.simulator - INFO - Date = 2020-05-21 10:00:00, number of deaths =  24, number of infected = 4211\n",
      "2020-06-25 15:09:50,793 - june.simulator - INFO - Date = 2020-05-21 13:00:00, number of deaths =  24, number of infected = 4181\n",
      "2020-06-25 15:09:51,635 - june.simulator - INFO - Date = 2020-05-22 00:00:00, number of deaths =  24, number of infected = 4076\n",
      "2020-06-25 15:09:52,502 - june.simulator - INFO - Date = 2020-05-22 01:00:00, number of deaths =  25, number of infected = 4064\n",
      "2020-06-25 15:09:53,343 - june.simulator - INFO - Date = 2020-05-22 05:00:00, number of deaths =  25, number of infected = 4026\n",
      "2020-06-25 15:09:54,060 - june.simulator - INFO - Date = 2020-05-22 09:00:00, number of deaths =  25, number of infected = 3985\n",
      "2020-06-25 15:09:54,892 - june.simulator - INFO - Date = 2020-05-22 10:00:00, number of deaths =  25, number of infected = 3978\n",
      "2020-06-25 15:09:55,569 - june.simulator - INFO - Date = 2020-05-22 13:00:00, number of deaths =  25, number of infected = 3945\n",
      "2020-06-25 15:09:56,390 - june.simulator - INFO - Date = 2020-05-23 00:00:00, number of deaths =  25, number of infected = 3855\n",
      "2020-06-25 15:09:57,409 - june.simulator - INFO - Date = 2020-05-23 04:00:00, number of deaths =  25, number of infected = 3833\n",
      "2020-06-25 15:09:58,552 - june.simulator - INFO - Date = 2020-05-23 08:00:00, number of deaths =  25, number of infected = 3788\n",
      "2020-06-25 15:09:59,451 - june.simulator - INFO - Date = 2020-05-23 12:00:00, number of deaths =  25, number of infected = 3761\n",
      "2020-06-25 15:10:00,435 - june.simulator - INFO - Date = 2020-05-24 00:00:00, number of deaths =  26, number of infected = 3661\n",
      "2020-06-25 15:10:01,513 - june.simulator - INFO - Date = 2020-05-24 04:00:00, number of deaths =  26, number of infected = 3623\n",
      "2020-06-25 15:10:02,653 - june.simulator - INFO - Date = 2020-05-24 08:00:00, number of deaths =  26, number of infected = 3580\n",
      "2020-06-25 15:10:03,432 - june.simulator - INFO - Date = 2020-05-24 12:00:00, number of deaths =  26, number of infected = 3540\n",
      "2020-06-25 15:10:04,229 - june.simulator - INFO - Date = 2020-05-25 00:00:00, number of deaths =  26, number of infected = 3426\n",
      "2020-06-25 15:10:05,193 - june.simulator - INFO - Date = 2020-05-25 01:00:00, number of deaths =  26, number of infected = 3416\n",
      "2020-06-25 15:10:06,029 - june.simulator - INFO - Date = 2020-05-25 05:00:00, number of deaths =  26, number of infected = 3379\n",
      "2020-06-25 15:10:06,736 - june.simulator - INFO - Date = 2020-05-25 09:00:00, number of deaths =  26, number of infected = 3347\n",
      "2020-06-25 15:10:07,680 - june.simulator - INFO - Date = 2020-05-25 10:00:00, number of deaths =  26, number of infected = 3335\n",
      "2020-06-25 15:10:08,425 - june.simulator - INFO - Date = 2020-05-25 13:00:00, number of deaths =  26, number of infected = 3318\n",
      "2020-06-25 15:10:09,250 - june.simulator - INFO - Date = 2020-05-26 00:00:00, number of deaths =  26, number of infected = 3210\n",
      "2020-06-25 15:10:10,158 - june.simulator - INFO - Date = 2020-05-26 01:00:00, number of deaths =  26, number of infected = 3212\n",
      "2020-06-25 15:10:11,020 - june.simulator - INFO - Date = 2020-05-26 05:00:00, number of deaths =  26, number of infected = 3182\n",
      "2020-06-25 15:10:11,678 - june.simulator - INFO - Date = 2020-05-26 09:00:00, number of deaths =  26, number of infected = 3158\n",
      "2020-06-25 15:10:12,504 - june.simulator - INFO - Date = 2020-05-26 10:00:00, number of deaths =  26, number of infected = 3151\n",
      "2020-06-25 15:10:13,130 - june.simulator - INFO - Date = 2020-05-26 13:00:00, number of deaths =  26, number of infected = 3122\n",
      "2020-06-25 15:10:13,800 - june.simulator - INFO - Date = 2020-05-27 00:00:00, number of deaths =  26, number of infected = 3039\n",
      "2020-06-25 15:10:14,798 - june.simulator - INFO - Date = 2020-05-27 01:00:00, number of deaths =  26, number of infected = 3029\n",
      "2020-06-25 15:10:15,659 - june.simulator - INFO - Date = 2020-05-27 05:00:00, number of deaths =  26, number of infected = 2989\n",
      "2020-06-25 15:10:16,420 - june.simulator - INFO - Date = 2020-05-27 09:00:00, number of deaths =  26, number of infected = 2942\n",
      "2020-06-25 15:10:17,217 - june.simulator - INFO - Date = 2020-05-27 10:00:00, number of deaths =  26, number of infected = 2934\n",
      "2020-06-25 15:10:17,956 - june.simulator - INFO - Date = 2020-05-27 13:00:00, number of deaths =  27, number of infected = 2906\n",
      "2020-06-25 15:10:18,705 - june.simulator - INFO - Date = 2020-05-28 00:00:00, number of deaths =  27, number of infected = 2813\n",
      "2020-06-25 15:10:19,646 - june.simulator - INFO - Date = 2020-05-28 01:00:00, number of deaths =  27, number of infected = 2809\n",
      "2020-06-25 15:10:21,092 - june.simulator - INFO - Date = 2020-05-28 05:00:00, number of deaths =  28, number of infected = 2786\n",
      "2020-06-25 15:10:22,188 - june.simulator - INFO - Date = 2020-05-28 09:00:00, number of deaths =  29, number of infected = 2740\n",
      "2020-06-25 15:10:23,456 - june.simulator - INFO - Date = 2020-05-28 10:00:00, number of deaths =  29, number of infected = 2740\n",
      "2020-06-25 15:10:24,553 - june.simulator - INFO - Date = 2020-05-28 13:00:00, number of deaths =  29, number of infected = 2712\n",
      "2020-06-25 15:10:25,686 - june.simulator - INFO - Date = 2020-05-29 00:00:00, number of deaths =  29, number of infected = 2631\n",
      "2020-06-25 15:10:27,004 - june.simulator - INFO - Date = 2020-05-29 01:00:00, number of deaths =  29, number of infected = 2625\n",
      "2020-06-25 15:10:28,135 - june.simulator - INFO - Date = 2020-05-29 05:00:00, number of deaths =  29, number of infected = 2596\n",
      "2020-06-25 15:10:28,808 - june.simulator - INFO - Date = 2020-05-29 09:00:00, number of deaths =  29, number of infected = 2576\n",
      "2020-06-25 15:10:29,621 - june.simulator - INFO - Date = 2020-05-29 10:00:00, number of deaths =  29, number of infected = 2563\n",
      "2020-06-25 15:10:30,304 - june.simulator - INFO - Date = 2020-05-29 13:00:00, number of deaths =  29, number of infected = 2547\n",
      "2020-06-25 15:10:31,166 - june.simulator - INFO - Date = 2020-05-30 00:00:00, number of deaths =  31, number of infected = 2459\n",
      "2020-06-25 15:10:32,020 - june.simulator - INFO - Date = 2020-05-30 04:00:00, number of deaths =  31, number of infected = 2423\n",
      "2020-06-25 15:10:32,899 - june.simulator - INFO - Date = 2020-05-30 08:00:00, number of deaths =  32, number of infected = 2397\n",
      "2020-06-25 15:10:33,577 - june.simulator - INFO - Date = 2020-05-30 12:00:00, number of deaths =  32, number of infected = 2361\n",
      "2020-06-25 15:10:34,454 - june.simulator - INFO - Date = 2020-05-31 00:00:00, number of deaths =  32, number of infected = 2263\n",
      "2020-06-25 15:10:35,351 - june.simulator - INFO - Date = 2020-05-31 04:00:00, number of deaths =  32, number of infected = 2235\n",
      "2020-06-25 15:10:36,151 - june.simulator - INFO - Date = 2020-05-31 08:00:00, number of deaths =  32, number of infected = 2200\n",
      "2020-06-25 15:10:36,809 - june.simulator - INFO - Date = 2020-05-31 12:00:00, number of deaths =  32, number of infected = 2177\n",
      "2020-06-25 15:10:37,493 - june.simulator - INFO - Date = 2020-06-01 00:00:00, number of deaths =  33, number of infected = 2100\n",
      "2020-06-25 15:10:38,330 - june.simulator - INFO - Date = 2020-06-01 01:00:00, number of deaths =  33, number of infected = 2092\n",
      "2020-06-25 15:10:39,147 - june.simulator - INFO - Date = 2020-06-01 05:00:00, number of deaths =  33, number of infected = 2071\n",
      "2020-06-25 15:10:39,836 - june.simulator - INFO - Date = 2020-06-01 09:00:00, number of deaths =  33, number of infected = 2037\n",
      "2020-06-25 15:10:40,770 - june.simulator - INFO - Date = 2020-06-01 10:00:00, number of deaths =  33, number of infected = 2034\n",
      "2020-06-25 15:10:41,424 - june.simulator - INFO - Date = 2020-06-01 13:00:00, number of deaths =  33, number of infected = 2014\n",
      "2020-06-25 15:10:42,127 - june.simulator - INFO - Date = 2020-06-02 00:00:00, number of deaths =  33, number of infected = 1947\n",
      "2020-06-25 15:10:43,095 - june.simulator - INFO - Date = 2020-06-02 01:00:00, number of deaths =  33, number of infected = 1942\n",
      "2020-06-25 15:10:43,919 - june.simulator - INFO - Date = 2020-06-02 05:00:00, number of deaths =  33, number of infected = 1920\n",
      "2020-06-25 15:10:44,611 - june.simulator - INFO - Date = 2020-06-02 09:00:00, number of deaths =  33, number of infected = 1910\n",
      "2020-06-25 15:10:45,397 - june.simulator - INFO - Date = 2020-06-02 10:00:00, number of deaths =  33, number of infected = 1903\n",
      "2020-06-25 15:10:46,066 - june.simulator - INFO - Date = 2020-06-02 13:00:00, number of deaths =  33, number of infected = 1884\n",
      "2020-06-25 15:10:46,784 - june.simulator - INFO - Date = 2020-06-03 00:00:00, number of deaths =  34, number of infected = 1824\n",
      "2020-06-25 15:10:47,618 - june.simulator - INFO - Date = 2020-06-03 01:00:00, number of deaths =  34, number of infected = 1820\n",
      "2020-06-25 15:10:48,453 - june.simulator - INFO - Date = 2020-06-03 05:00:00, number of deaths =  34, number of infected = 1803\n",
      "2020-06-25 15:10:49,236 - june.simulator - INFO - Date = 2020-06-03 09:00:00, number of deaths =  34, number of infected = 1780\n",
      "2020-06-25 15:10:50,067 - june.simulator - INFO - Date = 2020-06-03 10:00:00, number of deaths =  34, number of infected = 1777\n",
      "2020-06-25 15:10:50,765 - june.simulator - INFO - Date = 2020-06-03 13:00:00, number of deaths =  34, number of infected = 1762\n",
      "2020-06-25 15:10:51,463 - june.simulator - INFO - Date = 2020-06-04 00:00:00, number of deaths =  34, number of infected = 1694\n",
      "2020-06-25 15:10:52,279 - june.simulator - INFO - Date = 2020-06-04 01:00:00, number of deaths =  34, number of infected = 1690\n",
      "2020-06-25 15:10:53,136 - june.simulator - INFO - Date = 2020-06-04 05:00:00, number of deaths =  34, number of infected = 1680\n",
      "2020-06-25 15:10:53,789 - june.simulator - INFO - Date = 2020-06-04 09:00:00, number of deaths =  35, number of infected = 1656\n",
      "2020-06-25 15:10:54,607 - june.simulator - INFO - Date = 2020-06-04 10:00:00, number of deaths =  35, number of infected = 1652\n",
      "2020-06-25 15:10:55,279 - june.simulator - INFO - Date = 2020-06-04 13:00:00, number of deaths =  35, number of infected = 1631\n",
      "2020-06-25 15:10:55,986 - june.simulator - INFO - Date = 2020-06-05 00:00:00, number of deaths =  35, number of infected = 1571\n",
      "2020-06-25 15:10:56,922 - june.simulator - INFO - Date = 2020-06-05 01:00:00, number of deaths =  36, number of infected = 1564\n",
      "2020-06-25 15:10:57,883 - june.simulator - INFO - Date = 2020-06-05 05:00:00, number of deaths =  36, number of infected = 1542\n",
      "2020-06-25 15:10:58,541 - june.simulator - INFO - Date = 2020-06-05 09:00:00, number of deaths =  36, number of infected = 1522\n",
      "2020-06-25 15:10:59,363 - june.simulator - INFO - Date = 2020-06-05 10:00:00, number of deaths =  36, number of infected = 1520\n",
      "2020-06-25 15:11:00,022 - june.simulator - INFO - Date = 2020-06-05 13:00:00, number of deaths =  36, number of infected = 1512\n",
      "2020-06-25 15:11:00,874 - june.simulator - INFO - Date = 2020-06-06 00:00:00, number of deaths =  36, number of infected = 1456\n",
      "2020-06-25 15:11:01,699 - june.simulator - INFO - Date = 2020-06-06 04:00:00, number of deaths =  36, number of infected = 1438\n",
      "2020-06-25 15:11:02,505 - june.simulator - INFO - Date = 2020-06-06 08:00:00, number of deaths =  36, number of infected = 1426\n",
      "2020-06-25 15:11:03,324 - june.simulator - INFO - Date = 2020-06-06 12:00:00, number of deaths =  36, number of infected = 1396\n",
      "2020-06-25 15:11:04,118 - june.simulator - INFO - Date = 2020-06-07 00:00:00, number of deaths =  36, number of infected = 1350\n",
      "2020-06-25 15:11:04,939 - june.simulator - INFO - Date = 2020-06-07 04:00:00, number of deaths =  36, number of infected = 1320\n",
      "2020-06-25 15:11:05,740 - june.simulator - INFO - Date = 2020-06-07 08:00:00, number of deaths =  36, number of infected = 1304\n",
      "2020-06-25 15:11:06,381 - june.simulator - INFO - Date = 2020-06-07 12:00:00, number of deaths =  36, number of infected = 1287\n",
      "2020-06-25 15:11:07,075 - june.simulator - INFO - Date = 2020-06-08 00:00:00, number of deaths =  36, number of infected = 1244\n",
      "2020-06-25 15:11:07,873 - june.simulator - INFO - Date = 2020-06-08 01:00:00, number of deaths =  36, number of infected = 1241\n",
      "2020-06-25 15:11:08,689 - june.simulator - INFO - Date = 2020-06-08 05:00:00, number of deaths =  36, number of infected = 1230\n",
      "2020-06-25 15:11:09,340 - june.simulator - INFO - Date = 2020-06-08 09:00:00, number of deaths =  36, number of infected = 1215\n",
      "2020-06-25 15:11:10,255 - june.simulator - INFO - Date = 2020-06-08 10:00:00, number of deaths =  36, number of infected = 1208\n",
      "2020-06-25 15:11:10,900 - june.simulator - INFO - Date = 2020-06-08 13:00:00, number of deaths =  36, number of infected = 1200\n",
      "2020-06-25 15:11:11,585 - june.simulator - INFO - Date = 2020-06-09 00:00:00, number of deaths =  36, number of infected = 1164\n",
      "2020-06-25 15:11:12,454 - june.simulator - INFO - Date = 2020-06-09 01:00:00, number of deaths =  36, number of infected = 1159\n",
      "2020-06-25 15:11:13,258 - june.simulator - INFO - Date = 2020-06-09 05:00:00, number of deaths =  36, number of infected = 1157\n",
      "2020-06-25 15:11:13,904 - june.simulator - INFO - Date = 2020-06-09 09:00:00, number of deaths =  36, number of infected = 1140\n",
      "2020-06-25 15:11:14,761 - june.simulator - INFO - Date = 2020-06-09 10:00:00, number of deaths =  36, number of infected = 1141\n",
      "2020-06-25 15:11:15,630 - june.simulator - INFO - Date = 2020-06-09 13:00:00, number of deaths =  36, number of infected = 1135\n",
      "2020-06-25 15:11:16,302 - june.simulator - INFO - Date = 2020-06-10 00:00:00, number of deaths =  36, number of infected = 1085\n",
      "2020-06-25 15:11:17,212 - june.simulator - INFO - Date = 2020-06-10 01:00:00, number of deaths =  36, number of infected = 1079\n",
      "2020-06-25 15:11:18,029 - june.simulator - INFO - Date = 2020-06-10 05:00:00, number of deaths =  36, number of infected = 1071\n",
      "2020-06-25 15:11:18,722 - june.simulator - INFO - Date = 2020-06-10 09:00:00, number of deaths =  36, number of infected = 1056\n",
      "2020-06-25 15:11:19,524 - june.simulator - INFO - Date = 2020-06-10 10:00:00, number of deaths =  36, number of infected = 1053\n",
      "2020-06-25 15:11:20,181 - june.simulator - INFO - Date = 2020-06-10 13:00:00, number of deaths =  36, number of infected = 1047\n",
      "2020-06-25 15:11:20,876 - june.simulator - INFO - Date = 2020-06-11 00:00:00, number of deaths =  36, number of infected = 1008\n",
      "2020-06-25 15:11:21,706 - june.simulator - INFO - Date = 2020-06-11 01:00:00, number of deaths =  36, number of infected = 1008\n",
      "2020-06-25 15:11:22,614 - june.simulator - INFO - Date = 2020-06-11 05:00:00, number of deaths =  36, number of infected = 992\n",
      "2020-06-25 15:11:23,290 - june.simulator - INFO - Date = 2020-06-11 09:00:00, number of deaths =  36, number of infected = 985\n",
      "2020-06-25 15:11:24,091 - june.simulator - INFO - Date = 2020-06-11 10:00:00, number of deaths =  36, number of infected = 984\n",
      "2020-06-25 15:11:24,767 - june.simulator - INFO - Date = 2020-06-11 13:00:00, number of deaths =  36, number of infected = 971\n",
      "2020-06-25 15:11:25,429 - june.simulator - INFO - Date = 2020-06-12 00:00:00, number of deaths =  36, number of infected = 939\n",
      "2020-06-25 15:11:26,281 - june.simulator - INFO - Date = 2020-06-12 01:00:00, number of deaths =  36, number of infected = 938\n",
      "2020-06-25 15:11:27,087 - june.simulator - INFO - Date = 2020-06-12 05:00:00, number of deaths =  36, number of infected = 926\n",
      "2020-06-25 15:11:27,893 - june.simulator - INFO - Date = 2020-06-12 09:00:00, number of deaths =  36, number of infected = 922\n",
      "2020-06-25 15:11:28,697 - june.simulator - INFO - Date = 2020-06-12 10:00:00, number of deaths =  36, number of infected = 922\n",
      "2020-06-25 15:11:29,337 - june.simulator - INFO - Date = 2020-06-12 13:00:00, number of deaths =  37, number of infected = 910\n",
      "2020-06-25 15:11:30,180 - june.simulator - INFO - Date = 2020-06-13 00:00:00, number of deaths =  37, number of infected = 877\n",
      "2020-06-25 15:11:31,001 - june.simulator - INFO - Date = 2020-06-13 04:00:00, number of deaths =  37, number of infected = 864\n",
      "2020-06-25 15:11:31,925 - june.simulator - INFO - Date = 2020-06-13 08:00:00, number of deaths =  37, number of infected = 853\n",
      "2020-06-25 15:11:32,608 - june.simulator - INFO - Date = 2020-06-13 12:00:00, number of deaths =  37, number of infected = 844\n",
      "2020-06-25 15:11:33,425 - june.simulator - INFO - Date = 2020-06-14 00:00:00, number of deaths =  37, number of infected = 813\n",
      "2020-06-25 15:11:34,280 - june.simulator - INFO - Date = 2020-06-14 04:00:00, number of deaths =  37, number of infected = 806\n",
      "2020-06-25 15:11:35,193 - june.simulator - INFO - Date = 2020-06-14 08:00:00, number of deaths =  37, number of infected = 795\n",
      "2020-06-25 15:11:35,857 - june.simulator - INFO - Date = 2020-06-14 12:00:00, number of deaths =  37, number of infected = 786\n",
      "2020-06-25 15:11:36,549 - june.simulator - INFO - Date = 2020-06-15 00:00:00, number of deaths =  37, number of infected = 762\n",
      "2020-06-25 15:11:37,378 - june.simulator - INFO - Date = 2020-06-15 01:00:00, number of deaths =  37, number of infected = 760\n",
      "2020-06-25 15:11:38,191 - june.simulator - INFO - Date = 2020-06-15 05:00:00, number of deaths =  37, number of infected = 746\n",
      "2020-06-25 15:11:38,850 - june.simulator - INFO - Date = 2020-06-15 09:00:00, number of deaths =  37, number of infected = 732\n",
      "2020-06-25 15:11:39,681 - june.simulator - INFO - Date = 2020-06-15 10:00:00, number of deaths =  37, number of infected = 727\n",
      "2020-06-25 15:11:40,431 - june.simulator - INFO - Date = 2020-06-15 13:00:00, number of deaths =  37, number of infected = 713\n",
      "2020-06-25 15:11:41,138 - june.simulator - INFO - Date = 2020-06-16 00:00:00, number of deaths =  37, number of infected = 684\n",
      "2020-06-25 15:11:42,029 - june.simulator - INFO - Date = 2020-06-16 01:00:00, number of deaths =  37, number of infected = 680\n",
      "2020-06-25 15:11:42,903 - june.simulator - INFO - Date = 2020-06-16 05:00:00, number of deaths =  37, number of infected = 673\n",
      "2020-06-25 15:11:43,591 - june.simulator - INFO - Date = 2020-06-16 09:00:00, number of deaths =  37, number of infected = 661\n",
      "2020-06-25 15:11:44,398 - june.simulator - INFO - Date = 2020-06-16 10:00:00, number of deaths =  37, number of infected = 659\n",
      "2020-06-25 15:11:45,023 - june.simulator - INFO - Date = 2020-06-16 13:00:00, number of deaths =  37, number of infected = 649\n",
      "2020-06-25 15:11:45,757 - june.simulator - INFO - Date = 2020-06-17 00:00:00, number of deaths =  37, number of infected = 633\n",
      "2020-06-25 15:11:46,582 - june.simulator - INFO - Date = 2020-06-17 01:00:00, number of deaths =  37, number of infected = 629\n",
      "2020-06-25 15:11:47,503 - june.simulator - INFO - Date = 2020-06-17 05:00:00, number of deaths =  37, number of infected = 624\n",
      "2020-06-25 15:11:48,162 - june.simulator - INFO - Date = 2020-06-17 09:00:00, number of deaths =  37, number of infected = 622\n",
      "2020-06-25 15:11:48,928 - june.simulator - INFO - Date = 2020-06-17 10:00:00, number of deaths =  37, number of infected = 621\n",
      "2020-06-25 15:11:49,590 - june.simulator - INFO - Date = 2020-06-17 13:00:00, number of deaths =  37, number of infected = 616\n",
      "2020-06-25 15:11:50,248 - june.simulator - INFO - Date = 2020-06-18 00:00:00, number of deaths =  37, number of infected = 591\n",
      "2020-06-25 15:11:51,078 - june.simulator - INFO - Date = 2020-06-18 01:00:00, number of deaths =  37, number of infected = 590\n",
      "2020-06-25 15:11:51,873 - june.simulator - INFO - Date = 2020-06-18 05:00:00, number of deaths =  37, number of infected = 585\n",
      "2020-06-25 15:11:52,647 - june.simulator - INFO - Date = 2020-06-18 09:00:00, number of deaths =  37, number of infected = 579\n",
      "2020-06-25 15:11:53,423 - june.simulator - INFO - Date = 2020-06-18 10:00:00, number of deaths =  37, number of infected = 576\n",
      "2020-06-25 15:11:54,069 - june.simulator - INFO - Date = 2020-06-18 13:00:00, number of deaths =  37, number of infected = 573\n",
      "2020-06-25 15:11:54,759 - june.simulator - INFO - Date = 2020-06-19 00:00:00, number of deaths =  37, number of infected = 551\n",
      "2020-06-25 15:11:55,593 - june.simulator - INFO - Date = 2020-06-19 01:00:00, number of deaths =  37, number of infected = 548\n",
      "2020-06-25 15:11:56,424 - june.simulator - INFO - Date = 2020-06-19 05:00:00, number of deaths =  38, number of infected = 539\n",
      "2020-06-25 15:11:57,103 - june.simulator - INFO - Date = 2020-06-19 09:00:00, number of deaths =  38, number of infected = 534\n",
      "2020-06-25 15:11:57,964 - june.simulator - INFO - Date = 2020-06-19 10:00:00, number of deaths =  38, number of infected = 531\n",
      "2020-06-25 15:11:58,610 - june.simulator - INFO - Date = 2020-06-19 13:00:00, number of deaths =  38, number of infected = 527\n",
      "2020-06-25 15:11:59,527 - june.simulator - INFO - Date = 2020-06-20 00:00:00, number of deaths =  38, number of infected = 507\n",
      "2020-06-25 15:12:00,344 - june.simulator - INFO - Date = 2020-06-20 04:00:00, number of deaths =  38, number of infected = 503\n",
      "2020-06-25 15:12:01,165 - june.simulator - INFO - Date = 2020-06-20 08:00:00, number of deaths =  38, number of infected = 498\n",
      "2020-06-25 15:12:01,802 - june.simulator - INFO - Date = 2020-06-20 12:00:00, number of deaths =  38, number of infected = 492\n",
      "2020-06-25 15:12:02,667 - june.simulator - INFO - Date = 2020-06-21 00:00:00, number of deaths =  38, number of infected = 476\n",
      "2020-06-25 15:12:03,520 - june.simulator - INFO - Date = 2020-06-21 04:00:00, number of deaths =  38, number of infected = 469\n",
      "2020-06-25 15:12:04,338 - june.simulator - INFO - Date = 2020-06-21 08:00:00, number of deaths =  38, number of infected = 463\n",
      "2020-06-25 15:12:05,115 - june.simulator - INFO - Date = 2020-06-21 12:00:00, number of deaths =  38, number of infected = 460\n",
      "2020-06-25 15:12:05,778 - june.simulator - INFO - Date = 2020-06-22 00:00:00, number of deaths =  38, number of infected = 433\n",
      "2020-06-25 15:12:06,609 - june.simulator - INFO - Date = 2020-06-22 01:00:00, number of deaths =  38, number of infected = 432\n",
      "2020-06-25 15:12:07,466 - june.simulator - INFO - Date = 2020-06-22 05:00:00, number of deaths =  38, number of infected = 425\n",
      "2020-06-25 15:12:08,129 - june.simulator - INFO - Date = 2020-06-22 09:00:00, number of deaths =  38, number of infected = 420\n",
      "2020-06-25 15:12:09,010 - june.simulator - INFO - Date = 2020-06-22 10:00:00, number of deaths =  38, number of infected = 420\n",
      "2020-06-25 15:12:09,695 - june.simulator - INFO - Date = 2020-06-22 13:00:00, number of deaths =  38, number of infected = 413\n",
      "2020-06-25 15:12:10,377 - june.simulator - INFO - Date = 2020-06-23 00:00:00, number of deaths =  38, number of infected = 395\n",
      "2020-06-25 15:12:11,277 - june.simulator - INFO - Date = 2020-06-23 01:00:00, number of deaths =  38, number of infected = 395\n",
      "2020-06-25 15:12:12,062 - june.simulator - INFO - Date = 2020-06-23 05:00:00, number of deaths =  38, number of infected = 392\n",
      "2020-06-25 15:12:12,740 - june.simulator - INFO - Date = 2020-06-23 09:00:00, number of deaths =  38, number of infected = 390\n",
      "2020-06-25 15:12:13,524 - june.simulator - INFO - Date = 2020-06-23 10:00:00, number of deaths =  38, number of infected = 386\n",
      "2020-06-25 15:12:14,205 - june.simulator - INFO - Date = 2020-06-23 13:00:00, number of deaths =  38, number of infected = 384\n",
      "2020-06-25 15:12:14,910 - june.simulator - INFO - Date = 2020-06-24 00:00:00, number of deaths =  38, number of infected = 367\n",
      "2020-06-25 15:12:15,883 - june.simulator - INFO - Date = 2020-06-24 01:00:00, number of deaths =  38, number of infected = 366\n",
      "2020-06-25 15:12:16,721 - june.simulator - INFO - Date = 2020-06-24 05:00:00, number of deaths =  38, number of infected = 361\n",
      "2020-06-25 15:12:17,409 - june.simulator - INFO - Date = 2020-06-24 09:00:00, number of deaths =  38, number of infected = 357\n",
      "2020-06-25 15:12:18,233 - june.simulator - INFO - Date = 2020-06-24 10:00:00, number of deaths =  38, number of infected = 357\n",
      "2020-06-25 15:12:18,912 - june.simulator - INFO - Date = 2020-06-24 13:00:00, number of deaths =  38, number of infected = 352\n",
      "2020-06-25 15:12:19,600 - june.simulator - INFO - Date = 2020-06-25 00:00:00, number of deaths =  38, number of infected = 341\n",
      "2020-06-25 15:12:20,415 - june.simulator - INFO - Date = 2020-06-25 01:00:00, number of deaths =  38, number of infected = 338\n",
      "2020-06-25 15:12:21,230 - june.simulator - INFO - Date = 2020-06-25 05:00:00, number of deaths =  38, number of infected = 331\n",
      "2020-06-25 15:12:22,070 - june.simulator - INFO - Date = 2020-06-25 09:00:00, number of deaths =  38, number of infected = 325\n",
      "2020-06-25 15:12:22,859 - june.simulator - INFO - Date = 2020-06-25 10:00:00, number of deaths =  38, number of infected = 325\n",
      "2020-06-25 15:12:23,498 - june.simulator - INFO - Date = 2020-06-25 13:00:00, number of deaths =  38, number of infected = 317\n",
      "2020-06-25 15:12:24,205 - june.simulator - INFO - Date = 2020-06-26 00:00:00, number of deaths =  38, number of infected = 309\n",
      "2020-06-25 15:12:25,050 - june.simulator - INFO - Date = 2020-06-26 01:00:00, number of deaths =  38, number of infected = 307\n",
      "2020-06-25 15:12:25,957 - june.simulator - INFO - Date = 2020-06-26 05:00:00, number of deaths =  38, number of infected = 303\n",
      "2020-06-25 15:12:26,726 - june.simulator - INFO - Date = 2020-06-26 09:00:00, number of deaths =  38, number of infected = 298\n",
      "2020-06-25 15:12:27,541 - june.simulator - INFO - Date = 2020-06-26 10:00:00, number of deaths =  38, number of infected = 296\n",
      "2020-06-25 15:12:28,209 - june.simulator - INFO - Date = 2020-06-26 13:00:00, number of deaths =  38, number of infected = 295\n",
      "2020-06-25 15:12:29,003 - june.simulator - INFO - Date = 2020-06-27 00:00:00, number of deaths =  38, number of infected = 285\n",
      "2020-06-25 15:12:29,879 - june.simulator - INFO - Date = 2020-06-27 04:00:00, number of deaths =  38, number of infected = 284\n",
      "2020-06-25 15:12:30,697 - june.simulator - INFO - Date = 2020-06-27 08:00:00, number of deaths =  38, number of infected = 283\n",
      "2020-06-25 15:12:31,344 - june.simulator - INFO - Date = 2020-06-27 12:00:00, number of deaths =  38, number of infected = 278\n",
      "2020-06-25 15:12:32,160 - june.simulator - INFO - Date = 2020-06-28 00:00:00, number of deaths =  38, number of infected = 273\n",
      "2020-06-25 15:12:33,036 - june.simulator - INFO - Date = 2020-06-28 04:00:00, number of deaths =  38, number of infected = 267\n",
      "2020-06-25 15:12:33,850 - june.simulator - INFO - Date = 2020-06-28 08:00:00, number of deaths =  38, number of infected = 264\n",
      "2020-06-25 15:12:34,475 - june.simulator - INFO - Date = 2020-06-28 12:00:00, number of deaths =  38, number of infected = 260\n",
      "2020-06-25 15:12:35,135 - june.simulator - INFO - Date = 2020-06-29 00:00:00, number of deaths =  38, number of infected = 250\n",
      "2020-06-25 15:12:35,964 - june.simulator - INFO - Date = 2020-06-29 01:00:00, number of deaths =  38, number of infected = 246\n",
      "2020-06-25 15:12:36,859 - june.simulator - INFO - Date = 2020-06-29 05:00:00, number of deaths =  38, number of infected = 243\n",
      "2020-06-25 15:12:37,677 - june.simulator - INFO - Date = 2020-06-29 09:00:00, number of deaths =  38, number of infected = 239\n",
      "2020-06-25 15:12:38,509 - june.simulator - INFO - Date = 2020-06-29 10:00:00, number of deaths =  38, number of infected = 239\n",
      "2020-06-25 15:12:39,168 - june.simulator - INFO - Date = 2020-06-29 13:00:00, number of deaths =  38, number of infected = 234\n",
      "2020-06-25 15:12:39,836 - june.simulator - INFO - Date = 2020-06-30 00:00:00, number of deaths =  38, number of infected = 222\n",
      "2020-06-25 15:12:40,666 - june.simulator - INFO - Date = 2020-06-30 01:00:00, number of deaths =  38, number of infected = 222\n",
      "2020-06-25 15:12:41,457 - june.simulator - INFO - Date = 2020-06-30 05:00:00, number of deaths =  38, number of infected = 220\n",
      "2020-06-25 15:12:42,204 - june.simulator - INFO - Date = 2020-06-30 09:00:00, number of deaths =  38, number of infected = 218\n",
      "2020-06-25 15:12:42,993 - june.simulator - INFO - Date = 2020-06-30 10:00:00, number of deaths =  38, number of infected = 217\n",
      "2020-06-25 15:12:43,880 - june.simulator - INFO - Date = 2020-06-30 13:00:00, number of deaths =  38, number of infected = 212\n",
      "2020-06-25 15:12:44,750 - june.simulator - INFO - Date = 2020-07-01 00:00:00, number of deaths =  38, number of infected = 204\n",
      "2020-06-25 15:12:45,976 - june.simulator - INFO - Date = 2020-07-01 01:00:00, number of deaths =  38, number of infected = 203\n",
      "2020-06-25 15:12:46,848 - june.simulator - INFO - Date = 2020-07-01 05:00:00, number of deaths =  38, number of infected = 200\n",
      "2020-06-25 15:12:47,488 - june.simulator - INFO - Date = 2020-07-01 09:00:00, number of deaths =  38, number of infected = 199\n",
      "2020-06-25 15:12:48,352 - june.simulator - INFO - Date = 2020-07-01 10:00:00, number of deaths =  38, number of infected = 199\n",
      "2020-06-25 15:12:49,093 - june.simulator - INFO - Date = 2020-07-01 13:00:00, number of deaths =  38, number of infected = 195\n",
      "2020-06-25 15:12:49,938 - june.simulator - INFO - Date = 2020-07-02 00:00:00, number of deaths =  38, number of infected = 193\n",
      "2020-06-25 15:12:50,864 - june.simulator - INFO - Date = 2020-07-02 01:00:00, number of deaths =  38, number of infected = 190\n",
      "2020-06-25 15:12:51,758 - june.simulator - INFO - Date = 2020-07-02 05:00:00, number of deaths =  38, number of infected = 189\n",
      "2020-06-25 15:12:52,477 - june.simulator - INFO - Date = 2020-07-02 09:00:00, number of deaths =  38, number of infected = 189\n",
      "2020-06-25 15:12:53,288 - june.simulator - INFO - Date = 2020-07-02 10:00:00, number of deaths =  38, number of infected = 187\n",
      "2020-06-25 15:12:53,969 - june.simulator - INFO - Date = 2020-07-02 13:00:00, number of deaths =  38, number of infected = 184\n",
      "2020-06-25 15:12:54,683 - june.simulator - INFO - Date = 2020-07-03 00:00:00, number of deaths =  38, number of infected = 179\n",
      "2020-06-25 15:12:55,511 - june.simulator - INFO - Date = 2020-07-03 01:00:00, number of deaths =  38, number of infected = 180\n",
      "2020-06-25 15:12:56,296 - june.simulator - INFO - Date = 2020-07-03 05:00:00, number of deaths =  38, number of infected = 179\n",
      "2020-06-25 15:12:56,976 - june.simulator - INFO - Date = 2020-07-03 09:00:00, number of deaths =  38, number of infected = 173\n",
      "2020-06-25 15:12:57,924 - june.simulator - INFO - Date = 2020-07-03 10:00:00, number of deaths =  38, number of infected = 172\n",
      "2020-06-25 15:12:58,561 - june.simulator - INFO - Date = 2020-07-03 13:00:00, number of deaths =  38, number of infected = 172\n",
      "2020-06-25 15:12:59,398 - june.simulator - INFO - Date = 2020-07-04 00:00:00, number of deaths =  38, number of infected = 170\n",
      "2020-06-25 15:12:59,983 - june.simulator - INFO - Date = 2020-07-04 04:00:00, number of deaths =  38, number of infected = 165\n",
      "2020-06-25 15:13:00,563 - june.simulator - INFO - Date = 2020-07-04 08:00:00, number of deaths =  38, number of infected = 169\n",
      "2020-06-25 15:13:00,977 - june.simulator - INFO - Date = 2020-07-04 12:00:00, number of deaths =  38, number of infected = 169\n",
      "2020-06-25 15:13:01,589 - june.simulator - INFO - Date = 2020-07-05 00:00:00, number of deaths =  38, number of infected = 156\n",
      "2020-06-25 15:13:02,200 - june.simulator - INFO - Date = 2020-07-05 04:00:00, number of deaths =  38, number of infected = 156\n",
      "2020-06-25 15:13:02,900 - june.simulator - INFO - Date = 2020-07-05 08:00:00, number of deaths =  38, number of infected = 158\n",
      "2020-06-25 15:13:03,324 - june.simulator - INFO - Date = 2020-07-05 12:00:00, number of deaths =  38, number of infected = 157\n",
      "2020-06-25 15:13:03,836 - june.simulator - INFO - Date = 2020-07-06 00:00:00, number of deaths =  38, number of infected = 154\n",
      "2020-06-25 15:13:04,384 - june.simulator - INFO - Date = 2020-07-06 01:00:00, number of deaths =  38, number of infected = 154\n",
      "2020-06-25 15:13:04,782 - june.simulator - INFO - Date = 2020-07-06 05:00:00, number of deaths =  38, number of infected = 153\n",
      "2020-06-25 15:13:05,128 - june.simulator - INFO - Date = 2020-07-06 09:00:00, number of deaths =  38, number of infected = 154\n",
      "2020-06-25 15:13:05,691 - june.simulator - INFO - Date = 2020-07-06 10:00:00, number of deaths =  38, number of infected = 153\n",
      "2020-06-25 15:13:06,120 - june.simulator - INFO - Date = 2020-07-06 13:00:00, number of deaths =  38, number of infected = 154\n",
      "2020-06-25 15:13:06,576 - june.simulator - INFO - Date = 2020-07-07 00:00:00, number of deaths =  38, number of infected = 151\n",
      "2020-06-25 15:13:07,065 - june.simulator - INFO - Date = 2020-07-07 01:00:00, number of deaths =  38, number of infected = 150\n",
      "2020-06-25 15:13:07,464 - june.simulator - INFO - Date = 2020-07-07 05:00:00, number of deaths =  38, number of infected = 155\n",
      "2020-06-25 15:13:07,828 - june.simulator - INFO - Date = 2020-07-07 09:00:00, number of deaths =  38, number of infected = 156\n",
      "2020-06-25 15:13:08,465 - june.simulator - INFO - Date = 2020-07-07 10:00:00, number of deaths =  38, number of infected = 155\n",
      "2020-06-25 15:13:08,913 - june.simulator - INFO - Date = 2020-07-07 13:00:00, number of deaths =  38, number of infected = 155\n",
      "2020-06-25 15:13:09,371 - june.simulator - INFO - Date = 2020-07-08 00:00:00, number of deaths =  38, number of infected = 149\n",
      "2020-06-25 15:13:09,873 - june.simulator - INFO - Date = 2020-07-08 01:00:00, number of deaths =  38, number of infected = 148\n",
      "2020-06-25 15:13:10,259 - june.simulator - INFO - Date = 2020-07-08 05:00:00, number of deaths =  38, number of infected = 149\n",
      "2020-06-25 15:13:10,609 - june.simulator - INFO - Date = 2020-07-08 09:00:00, number of deaths =  38, number of infected = 149\n",
      "2020-06-25 15:13:11,233 - june.simulator - INFO - Date = 2020-07-08 10:00:00, number of deaths =  38, number of infected = 149\n",
      "2020-06-25 15:13:11,670 - june.simulator - INFO - Date = 2020-07-08 13:00:00, number of deaths =  38, number of infected = 152\n",
      "2020-06-25 15:13:12,586 - june.simulator - INFO - Date = 2020-07-09 00:00:00, number of deaths =  38, number of infected = 151\n",
      "2020-06-25 15:13:13,293 - june.simulator - INFO - Date = 2020-07-09 01:00:00, number of deaths =  38, number of infected = 151\n",
      "2020-06-25 15:13:13,868 - june.simulator - INFO - Date = 2020-07-09 05:00:00, number of deaths =  38, number of infected = 153\n",
      "2020-06-25 15:13:14,330 - june.simulator - INFO - Date = 2020-07-09 09:00:00, number of deaths =  38, number of infected = 151\n",
      "2020-06-25 15:13:15,225 - june.simulator - INFO - Date = 2020-07-09 10:00:00, number of deaths =  38, number of infected = 151\n",
      "2020-06-25 15:13:15,815 - june.simulator - INFO - Date = 2020-07-09 13:00:00, number of deaths =  38, number of infected = 150\n",
      "2020-06-25 15:13:16,365 - june.simulator - INFO - Date = 2020-07-10 00:00:00, number of deaths =  38, number of infected = 149\n",
      "2020-06-25 15:13:16,859 - june.simulator - INFO - Date = 2020-07-10 01:00:00, number of deaths =  38, number of infected = 149\n",
      "2020-06-25 15:13:17,245 - june.simulator - INFO - Date = 2020-07-10 05:00:00, number of deaths =  38, number of infected = 149\n",
      "2020-06-25 15:13:17,593 - june.simulator - INFO - Date = 2020-07-10 09:00:00, number of deaths =  38, number of infected = 153\n",
      "2020-06-25 15:13:18,322 - june.simulator - INFO - Date = 2020-07-10 10:00:00, number of deaths =  38, number of infected = 152\n",
      "2020-06-25 15:13:18,749 - june.simulator - INFO - Date = 2020-07-10 13:00:00, number of deaths =  38, number of infected = 155\n",
      "2020-06-25 15:13:19,379 - june.simulator - INFO - Date = 2020-07-11 00:00:00, number of deaths =  38, number of infected = 158\n",
      "2020-06-25 15:13:20,013 - june.simulator - INFO - Date = 2020-07-11 04:00:00, number of deaths =  38, number of infected = 162\n",
      "2020-06-25 15:13:20,625 - june.simulator - INFO - Date = 2020-07-11 08:00:00, number of deaths =  38, number of infected = 166\n",
      "2020-06-25 15:13:21,048 - june.simulator - INFO - Date = 2020-07-11 12:00:00, number of deaths =  38, number of infected = 165\n",
      "2020-06-25 15:13:21,955 - june.simulator - INFO - Date = 2020-07-12 00:00:00, number of deaths =  38, number of infected = 173\n",
      "2020-06-25 15:13:22,683 - june.simulator - INFO - Date = 2020-07-12 04:00:00, number of deaths =  38, number of infected = 175\n",
      "2020-06-25 15:13:23,315 - june.simulator - INFO - Date = 2020-07-12 08:00:00, number of deaths =  38, number of infected = 181\n",
      "2020-06-25 15:13:23,750 - june.simulator - INFO - Date = 2020-07-12 12:00:00, number of deaths =  38, number of infected = 190\n",
      "2020-06-25 15:13:24,204 - june.simulator - INFO - Date = 2020-07-13 00:00:00, number of deaths =  38, number of infected = 201\n",
      "2020-06-25 15:13:24,684 - june.simulator - INFO - Date = 2020-07-13 01:00:00, number of deaths =  38, number of infected = 202\n",
      "2020-06-25 15:13:25,065 - june.simulator - INFO - Date = 2020-07-13 05:00:00, number of deaths =  38, number of infected = 208\n",
      "2020-06-25 15:13:25,511 - june.simulator - INFO - Date = 2020-07-13 09:00:00, number of deaths =  38, number of infected = 213\n",
      "2020-06-25 15:13:26,157 - june.simulator - INFO - Date = 2020-07-13 10:00:00, number of deaths =  38, number of infected = 215\n",
      "2020-06-25 15:13:26,582 - june.simulator - INFO - Date = 2020-07-13 13:00:00, number of deaths =  38, number of infected = 216\n",
      "2020-06-25 15:13:27,037 - june.simulator - INFO - Date = 2020-07-14 00:00:00, number of deaths =  38, number of infected = 219\n",
      "2020-06-25 15:13:27,528 - june.simulator - INFO - Date = 2020-07-14 01:00:00, number of deaths =  38, number of infected = 221\n",
      "2020-06-25 15:13:27,911 - june.simulator - INFO - Date = 2020-07-14 05:00:00, number of deaths =  38, number of infected = 224\n",
      "2020-06-25 15:13:28,265 - june.simulator - INFO - Date = 2020-07-14 09:00:00, number of deaths =  38, number of infected = 234\n",
      "2020-06-25 15:13:28,987 - june.simulator - INFO - Date = 2020-07-14 10:00:00, number of deaths =  38, number of infected = 236\n",
      "2020-06-25 15:13:29,426 - june.simulator - INFO - Date = 2020-07-14 13:00:00, number of deaths =  38, number of infected = 240\n",
      "2020-06-25 15:13:29,866 - june.simulator - INFO - Date = 2020-07-15 00:00:00, number of deaths =  38, number of infected = 243\n",
      "2020-06-25 15:13:30,353 - june.simulator - INFO - Date = 2020-07-15 01:00:00, number of deaths =  38, number of infected = 245\n",
      "2020-06-25 15:13:30,760 - june.simulator - INFO - Date = 2020-07-15 05:00:00, number of deaths =  38, number of infected = 254\n",
      "2020-06-25 15:13:31,154 - june.simulator - INFO - Date = 2020-07-15 09:00:00, number of deaths =  38, number of infected = 258\n",
      "2020-06-25 15:13:31,859 - june.simulator - INFO - Date = 2020-07-15 10:00:00, number of deaths =  38, number of infected = 258\n",
      "2020-06-25 15:13:32,315 - june.simulator - INFO - Date = 2020-07-15 13:00:00, number of deaths =  38, number of infected = 261\n",
      "2020-06-25 15:13:32,768 - june.simulator - INFO - Date = 2020-07-16 00:00:00, number of deaths =  38, number of infected = 273\n",
      "2020-06-25 15:13:33,236 - june.simulator - INFO - Date = 2020-07-16 01:00:00, number of deaths =  38, number of infected = 276\n",
      "2020-06-25 15:13:33,621 - june.simulator - INFO - Date = 2020-07-16 05:00:00, number of deaths =  38, number of infected = 286\n",
      "2020-06-25 15:13:33,987 - june.simulator - INFO - Date = 2020-07-16 09:00:00, number of deaths =  38, number of infected = 291\n",
      "2020-06-25 15:13:34,580 - june.simulator - INFO - Date = 2020-07-16 10:00:00, number of deaths =  38, number of infected = 291\n",
      "2020-06-25 15:13:35,082 - june.simulator - INFO - Date = 2020-07-16 13:00:00, number of deaths =  38, number of infected = 295\n",
      "2020-06-25 15:13:35,586 - june.simulator - INFO - Date = 2020-07-17 00:00:00, number of deaths =  38, number of infected = 310\n",
      "2020-06-25 15:13:36,055 - june.simulator - INFO - Date = 2020-07-17 01:00:00, number of deaths =  38, number of infected = 313\n",
      "2020-06-25 15:13:36,433 - june.simulator - INFO - Date = 2020-07-17 05:00:00, number of deaths =  38, number of infected = 320\n",
      "2020-06-25 15:13:36,791 - june.simulator - INFO - Date = 2020-07-17 09:00:00, number of deaths =  38, number of infected = 332\n",
      "2020-06-25 15:13:37,477 - june.simulator - INFO - Date = 2020-07-17 10:00:00, number of deaths =  38, number of infected = 332\n",
      "2020-06-25 15:13:37,979 - june.simulator - INFO - Date = 2020-07-17 13:00:00, number of deaths =  38, number of infected = 341\n",
      "2020-06-25 15:13:38,640 - june.simulator - INFO - Date = 2020-07-18 00:00:00, number of deaths =  38, number of infected = 355\n",
      "2020-06-25 15:13:39,295 - june.simulator - INFO - Date = 2020-07-18 04:00:00, number of deaths =  38, number of infected = 366\n",
      "2020-06-25 15:13:39,914 - june.simulator - INFO - Date = 2020-07-18 08:00:00, number of deaths =  38, number of infected = 376\n",
      "2020-06-25 15:13:40,418 - june.simulator - INFO - Date = 2020-07-18 12:00:00, number of deaths =  38, number of infected = 397\n",
      "2020-06-25 15:13:41,077 - june.simulator - INFO - Date = 2020-07-19 00:00:00, number of deaths =  38, number of infected = 415\n",
      "2020-06-25 15:13:41,720 - june.simulator - INFO - Date = 2020-07-19 04:00:00, number of deaths =  38, number of infected = 430\n",
      "2020-06-25 15:13:42,454 - june.simulator - INFO - Date = 2020-07-19 08:00:00, number of deaths =  38, number of infected = 444\n",
      "2020-06-25 15:13:42,895 - june.simulator - INFO - Date = 2020-07-19 12:00:00, number of deaths =  38, number of infected = 460\n",
      "2020-06-25 15:13:43,384 - june.simulator - INFO - Date = 2020-07-20 00:00:00, number of deaths =  38, number of infected = 486\n",
      "2020-06-25 15:13:43,889 - june.simulator - INFO - Date = 2020-07-20 01:00:00, number of deaths =  38, number of infected = 489\n",
      "2020-06-25 15:13:44,276 - june.simulator - INFO - Date = 2020-07-20 05:00:00, number of deaths =  38, number of infected = 525\n",
      "2020-06-25 15:13:44,640 - june.simulator - INFO - Date = 2020-07-20 09:00:00, number of deaths =  38, number of infected = 543\n",
      "2020-06-25 15:13:45,379 - june.simulator - INFO - Date = 2020-07-20 10:00:00, number of deaths =  38, number of infected = 544\n",
      "2020-06-25 15:13:45,801 - june.simulator - INFO - Date = 2020-07-20 13:00:00, number of deaths =  38, number of infected = 551\n",
      "2020-06-25 15:13:46,271 - june.simulator - INFO - Date = 2020-07-21 00:00:00, number of deaths =  38, number of infected = 581\n",
      "2020-06-25 15:13:46,759 - june.simulator - INFO - Date = 2020-07-21 01:00:00, number of deaths =  38, number of infected = 583\n",
      "2020-06-25 15:13:47,162 - june.simulator - INFO - Date = 2020-07-21 05:00:00, number of deaths =  38, number of infected = 603\n",
      "2020-06-25 15:13:47,577 - june.simulator - INFO - Date = 2020-07-21 09:00:00, number of deaths =  38, number of infected = 631\n",
      "2020-06-25 15:13:48,177 - june.simulator - INFO - Date = 2020-07-21 10:00:00, number of deaths =  38, number of infected = 637\n",
      "2020-06-25 15:13:48,704 - june.simulator - INFO - Date = 2020-07-21 13:00:00, number of deaths =  38, number of infected = 648\n",
      "2020-06-25 15:13:49,190 - june.simulator - INFO - Date = 2020-07-22 00:00:00, number of deaths =  38, number of infected = 667\n",
      "2020-06-25 15:13:49,720 - june.simulator - INFO - Date = 2020-07-22 01:00:00, number of deaths =  38, number of infected = 669\n",
      "2020-06-25 15:13:50,129 - june.simulator - INFO - Date = 2020-07-22 05:00:00, number of deaths =  38, number of infected = 695\n",
      "2020-06-25 15:13:50,503 - june.simulator - INFO - Date = 2020-07-22 09:00:00, number of deaths =  38, number of infected = 719\n",
      "2020-06-25 15:13:51,127 - june.simulator - INFO - Date = 2020-07-22 10:00:00, number of deaths =  38, number of infected = 721\n",
      "2020-06-25 15:13:51,637 - june.simulator - INFO - Date = 2020-07-22 13:00:00, number of deaths =  38, number of infected = 741\n",
      "2020-06-25 15:13:52,117 - june.simulator - INFO - Date = 2020-07-23 00:00:00, number of deaths =  38, number of infected = 765\n",
      "2020-06-25 15:13:52,707 - june.simulator - INFO - Date = 2020-07-23 01:00:00, number of deaths =  38, number of infected = 768\n",
      "2020-06-25 15:13:53,104 - june.simulator - INFO - Date = 2020-07-23 05:00:00, number of deaths =  38, number of infected = 809\n",
      "2020-06-25 15:13:53,499 - june.simulator - INFO - Date = 2020-07-23 09:00:00, number of deaths =  38, number of infected = 844\n",
      "2020-06-25 15:13:54,126 - june.simulator - INFO - Date = 2020-07-23 10:00:00, number of deaths =  38, number of infected = 848\n",
      "2020-06-25 15:13:54,644 - june.simulator - INFO - Date = 2020-07-23 13:00:00, number of deaths =  38, number of infected = 875\n",
      "2020-06-25 15:13:55,152 - june.simulator - INFO - Date = 2020-07-24 00:00:00, number of deaths =  38, number of infected = 935\n",
      "2020-06-25 15:13:55,646 - june.simulator - INFO - Date = 2020-07-24 01:00:00, number of deaths =  38, number of infected = 943\n",
      "2020-06-25 15:13:56,096 - june.simulator - INFO - Date = 2020-07-24 05:00:00, number of deaths =  38, number of infected = 987\n",
      "2020-06-25 15:13:56,480 - june.simulator - INFO - Date = 2020-07-24 09:00:00, number of deaths =  38, number of infected = 1012\n",
      "2020-06-25 15:13:57,166 - june.simulator - INFO - Date = 2020-07-24 10:00:00, number of deaths =  38, number of infected = 1021\n",
      "2020-06-25 15:13:57,618 - june.simulator - INFO - Date = 2020-07-24 13:00:00, number of deaths =  38, number of infected = 1045\n",
      "2020-06-25 15:13:58,490 - june.simulator - INFO - Date = 2020-07-25 00:00:00, number of deaths =  38, number of infected = 1123\n",
      "2020-06-25 15:13:59,125 - june.simulator - INFO - Date = 2020-07-25 04:00:00, number of deaths =  38, number of infected = 1159\n",
      "2020-06-25 15:13:59,748 - june.simulator - INFO - Date = 2020-07-25 08:00:00, number of deaths =  38, number of infected = 1212\n",
      "2020-06-25 15:14:00,220 - june.simulator - INFO - Date = 2020-07-25 12:00:00, number of deaths =  38, number of infected = 1252\n",
      "2020-06-25 15:14:00,907 - june.simulator - INFO - Date = 2020-07-26 00:00:00, number of deaths =  38, number of infected = 1334\n",
      "2020-06-25 15:14:01,636 - june.simulator - INFO - Date = 2020-07-26 04:00:00, number of deaths =  38, number of infected = 1384\n",
      "2020-06-25 15:14:02,291 - june.simulator - INFO - Date = 2020-07-26 08:00:00, number of deaths =  38, number of infected = 1440\n",
      "2020-06-25 15:14:02,738 - june.simulator - INFO - Date = 2020-07-26 12:00:00, number of deaths =  38, number of infected = 1502\n",
      "2020-06-25 15:14:03,242 - june.simulator - INFO - Date = 2020-07-27 00:00:00, number of deaths =  39, number of infected = 1596\n",
      "2020-06-25 15:14:03,721 - june.simulator - INFO - Date = 2020-07-27 01:00:00, number of deaths =  39, number of infected = 1605\n",
      "2020-06-25 15:14:04,168 - june.simulator - INFO - Date = 2020-07-27 05:00:00, number of deaths =  39, number of infected = 1685\n",
      "2020-06-25 15:14:04,607 - june.simulator - INFO - Date = 2020-07-27 09:00:00, number of deaths =  39, number of infected = 1754\n",
      "2020-06-25 15:14:05,299 - june.simulator - INFO - Date = 2020-07-27 10:00:00, number of deaths =  39, number of infected = 1768\n",
      "2020-06-25 15:14:05,766 - june.simulator - INFO - Date = 2020-07-27 13:00:00, number of deaths =  39, number of infected = 1827\n",
      "2020-06-25 15:14:06,287 - june.simulator - INFO - Date = 2020-07-28 00:00:00, number of deaths =  39, number of infected = 1932\n",
      "2020-06-25 15:14:06,752 - june.simulator - INFO - Date = 2020-07-28 01:00:00, number of deaths =  39, number of infected = 1940\n",
      "2020-06-25 15:14:07,189 - june.simulator - INFO - Date = 2020-07-28 05:00:00, number of deaths =  39, number of infected = 2036\n",
      "2020-06-25 15:14:07,617 - june.simulator - INFO - Date = 2020-07-28 09:00:00, number of deaths =  39, number of infected = 2119\n",
      "2020-06-25 15:14:08,442 - june.simulator - INFO - Date = 2020-07-28 10:00:00, number of deaths =  39, number of infected = 2132\n",
      "2020-06-25 15:14:09,067 - june.simulator - INFO - Date = 2020-07-28 13:00:00, number of deaths =  39, number of infected = 2173\n",
      "2020-06-25 15:14:09,562 - june.simulator - INFO - Date = 2020-07-29 00:00:00, number of deaths =  39, number of infected = 2251\n",
      "2020-06-25 15:14:10,082 - june.simulator - INFO - Date = 2020-07-29 01:00:00, number of deaths =  39, number of infected = 2263\n",
      "2020-06-25 15:14:10,553 - june.simulator - INFO - Date = 2020-07-29 05:00:00, number of deaths =  39, number of infected = 2364\n",
      "2020-06-25 15:14:10,964 - june.simulator - INFO - Date = 2020-07-29 09:00:00, number of deaths =  39, number of infected = 2458\n",
      "2020-06-25 15:14:11,680 - june.simulator - INFO - Date = 2020-07-29 10:00:00, number of deaths =  39, number of infected = 2471\n",
      "2020-06-25 15:14:12,174 - june.simulator - INFO - Date = 2020-07-29 13:00:00, number of deaths =  39, number of infected = 2530\n",
      "2020-06-25 15:14:12,789 - june.simulator - INFO - Date = 2020-07-30 00:00:00, number of deaths =  39, number of infected = 2616\n",
      "2020-06-25 15:14:13,277 - june.simulator - INFO - Date = 2020-07-30 01:00:00, number of deaths =  39, number of infected = 2630\n",
      "2020-06-25 15:14:13,723 - june.simulator - INFO - Date = 2020-07-30 05:00:00, number of deaths =  39, number of infected = 2718\n",
      "2020-06-25 15:14:14,211 - june.simulator - INFO - Date = 2020-07-30 09:00:00, number of deaths =  39, number of infected = 2832\n",
      "2020-06-25 15:14:14,911 - june.simulator - INFO - Date = 2020-07-30 10:00:00, number of deaths =  39, number of infected = 2847\n",
      "2020-06-25 15:14:15,431 - june.simulator - INFO - Date = 2020-07-30 13:00:00, number of deaths =  39, number of infected = 2923\n",
      "2020-06-25 15:14:15,968 - june.simulator - INFO - Date = 2020-07-31 00:00:00, number of deaths =  39, number of infected = 3052\n",
      "2020-06-25 15:14:16,494 - june.simulator - INFO - Date = 2020-07-31 01:00:00, number of deaths =  39, number of infected = 3072\n",
      "2020-06-25 15:14:16,923 - june.simulator - INFO - Date = 2020-07-31 05:00:00, number of deaths =  39, number of infected = 3206\n",
      "2020-06-25 15:14:17,375 - june.simulator - INFO - Date = 2020-07-31 09:00:00, number of deaths =  39, number of infected = 3330\n",
      "2020-06-25 15:14:18,136 - june.simulator - INFO - Date = 2020-07-31 10:00:00, number of deaths =  39, number of infected = 3354\n",
      "2020-06-25 15:14:18,632 - june.simulator - INFO - Date = 2020-07-31 13:00:00, number of deaths =  39, number of infected = 3429\n",
      "2020-06-25 15:14:19,449 - june.simulator - INFO - Date = 2020-08-01 00:00:00, number of deaths =  39, number of infected = 3607\n",
      "2020-06-25 15:14:20,160 - june.simulator - INFO - Date = 2020-08-01 04:00:00, number of deaths =  39, number of infected = 3749\n",
      "2020-06-25 15:14:20,914 - june.simulator - INFO - Date = 2020-08-01 08:00:00, number of deaths =  39, number of infected = 3861\n",
      "2020-06-25 15:14:21,400 - june.simulator - INFO - Date = 2020-08-01 12:00:00, number of deaths =  39, number of infected = 3997\n",
      "2020-06-25 15:14:22,221 - june.simulator - INFO - Date = 2020-08-02 00:00:00, number of deaths =  39, number of infected = 4197\n",
      "2020-06-25 15:14:23,080 - june.simulator - INFO - Date = 2020-08-02 04:00:00, number of deaths =  39, number of infected = 4344\n",
      "2020-06-25 15:14:23,818 - june.simulator - INFO - Date = 2020-08-02 08:00:00, number of deaths =  39, number of infected = 4490\n",
      "2020-06-25 15:14:24,289 - june.simulator - INFO - Date = 2020-08-02 12:00:00, number of deaths =  39, number of infected = 4649\n",
      "2020-06-25 15:14:24,901 - june.simulator - INFO - Date = 2020-08-03 00:00:00, number of deaths =  39, number of infected = 4891\n",
      "2020-06-25 15:14:25,471 - june.simulator - INFO - Date = 2020-08-03 01:00:00, number of deaths =  39, number of infected = 4914\n",
      "2020-06-25 15:14:26,036 - june.simulator - INFO - Date = 2020-08-03 05:00:00, number of deaths =  39, number of infected = 5096\n",
      "2020-06-25 15:14:26,492 - june.simulator - INFO - Date = 2020-08-03 09:00:00, number of deaths =  39, number of infected = 5318\n",
      "2020-06-25 15:14:27,180 - june.simulator - INFO - Date = 2020-08-03 10:00:00, number of deaths =  39, number of infected = 5341\n",
      "2020-06-25 15:14:27,727 - june.simulator - INFO - Date = 2020-08-03 13:00:00, number of deaths =  39, number of infected = 5470\n",
      "2020-06-25 15:14:28,335 - june.simulator - INFO - Date = 2020-08-04 00:00:00, number of deaths =  41, number of infected = 5747\n",
      "2020-06-25 15:14:29,061 - june.simulator - INFO - Date = 2020-08-04 01:00:00, number of deaths =  41, number of infected = 5765\n",
      "2020-06-25 15:14:30,076 - june.simulator - INFO - Date = 2020-08-04 05:00:00, number of deaths =  41, number of infected = 5963\n",
      "2020-06-25 15:14:31,124 - june.simulator - INFO - Date = 2020-08-04 09:00:00, number of deaths =  42, number of infected = 6187\n",
      "2020-06-25 15:14:31,911 - june.simulator - INFO - Date = 2020-08-04 10:00:00, number of deaths =  42, number of infected = 6216\n",
      "2020-06-25 15:14:32,452 - june.simulator - INFO - Date = 2020-08-04 13:00:00, number of deaths =  42, number of infected = 6353\n",
      "2020-06-25 15:14:33,054 - june.simulator - INFO - Date = 2020-08-05 00:00:00, number of deaths =  42, number of infected = 6604\n",
      "2020-06-25 15:14:33,714 - june.simulator - INFO - Date = 2020-08-05 01:00:00, number of deaths =  42, number of infected = 6631\n",
      "2020-06-25 15:14:34,272 - june.simulator - INFO - Date = 2020-08-05 05:00:00, number of deaths =  42, number of infected = 6886\n",
      "2020-06-25 15:14:34,758 - june.simulator - INFO - Date = 2020-08-05 09:00:00, number of deaths =  42, number of infected = 7123\n",
      "2020-06-25 15:14:35,464 - june.simulator - INFO - Date = 2020-08-05 10:00:00, number of deaths =  42, number of infected = 7148\n",
      "2020-06-25 15:14:36,007 - june.simulator - INFO - Date = 2020-08-05 13:00:00, number of deaths =  42, number of infected = 7260\n",
      "2020-06-25 15:14:36,646 - june.simulator - INFO - Date = 2020-08-06 00:00:00, number of deaths =  42, number of infected = 7543\n",
      "2020-06-25 15:14:37,215 - june.simulator - INFO - Date = 2020-08-06 01:00:00, number of deaths =  42, number of infected = 7566\n",
      "2020-06-25 15:14:37,856 - june.simulator - INFO - Date = 2020-08-06 05:00:00, number of deaths =  42, number of infected = 7817\n",
      "2020-06-25 15:14:38,419 - june.simulator - INFO - Date = 2020-08-06 09:00:00, number of deaths =  42, number of infected = 8087\n",
      "2020-06-25 15:14:39,148 - june.simulator - INFO - Date = 2020-08-06 10:00:00, number of deaths =  42, number of infected = 8121\n",
      "2020-06-25 15:14:39,707 - june.simulator - INFO - Date = 2020-08-06 13:00:00, number of deaths =  42, number of infected = 8294\n",
      "2020-06-25 15:14:40,315 - june.simulator - INFO - Date = 2020-08-07 00:00:00, number of deaths =  42, number of infected = 8620\n",
      "2020-06-25 15:14:40,991 - june.simulator - INFO - Date = 2020-08-07 01:00:00, number of deaths =  42, number of infected = 8646\n",
      "2020-06-25 15:14:41,583 - june.simulator - INFO - Date = 2020-08-07 05:00:00, number of deaths =  42, number of infected = 8935\n",
      "2020-06-25 15:14:42,092 - june.simulator - INFO - Date = 2020-08-07 09:00:00, number of deaths =  43, number of infected = 9237\n",
      "2020-06-25 15:14:42,869 - june.simulator - INFO - Date = 2020-08-07 10:00:00, number of deaths =  43, number of infected = 9270\n",
      "2020-06-25 15:14:43,505 - june.simulator - INFO - Date = 2020-08-07 13:00:00, number of deaths =  43, number of infected = 9476\n",
      "2020-06-25 15:14:44,373 - june.simulator - INFO - Date = 2020-08-08 00:00:00, number of deaths =  43, number of infected = 9860\n",
      "2020-06-25 15:14:47,133 - june.simulator - INFO - Date = 2020-08-08 04:00:00, number of deaths =  43, number of infected = 10146\n",
      "2020-06-25 15:14:48,033 - june.simulator - INFO - Date = 2020-08-08 08:00:00, number of deaths =  43, number of infected = 10408\n",
      "2020-06-25 15:14:48,570 - june.simulator - INFO - Date = 2020-08-08 12:00:00, number of deaths =  43, number of infected = 10685\n",
      "2020-06-25 15:14:49,458 - june.simulator - INFO - Date = 2020-08-09 00:00:00, number of deaths =  44, number of infected = 11117\n",
      "2020-06-25 15:14:50,268 - june.simulator - INFO - Date = 2020-08-09 04:00:00, number of deaths =  44, number of infected = 11398\n",
      "2020-06-25 15:14:51,363 - june.simulator - INFO - Date = 2020-08-09 08:00:00, number of deaths =  44, number of infected = 11676\n",
      "2020-06-25 15:14:51,990 - june.simulator - INFO - Date = 2020-08-09 12:00:00, number of deaths =  44, number of infected = 11932\n",
      "2020-06-25 15:14:52,816 - june.simulator - INFO - Date = 2020-08-10 00:00:00, number of deaths =  45, number of infected = 12316\n",
      "2020-06-25 15:14:53,580 - june.simulator - INFO - Date = 2020-08-10 01:00:00, number of deaths =  46, number of infected = 12356\n",
      "2020-06-25 15:14:54,446 - june.simulator - INFO - Date = 2020-08-10 05:00:00, number of deaths =  46, number of infected = 12698\n",
      "2020-06-25 15:14:55,139 - june.simulator - INFO - Date = 2020-08-10 09:00:00, number of deaths =  46, number of infected = 13019\n",
      "2020-06-25 15:14:55,942 - june.simulator - INFO - Date = 2020-08-10 10:00:00, number of deaths =  46, number of infected = 13064\n",
      "2020-06-25 15:14:56,926 - june.simulator - INFO - Date = 2020-08-10 13:00:00, number of deaths =  46, number of infected = 13282\n",
      "2020-06-25 15:14:58,249 - june.simulator - INFO - Date = 2020-08-11 00:00:00, number of deaths =  48, number of infected = 13729\n",
      "2020-06-25 15:14:58,877 - june.simulator - INFO - Date = 2020-08-11 01:00:00, number of deaths =  48, number of infected = 13784\n",
      "2020-06-25 15:14:59,544 - june.simulator - INFO - Date = 2020-08-11 05:00:00, number of deaths =  48, number of infected = 14130\n",
      "2020-06-25 15:15:00,234 - june.simulator - INFO - Date = 2020-08-11 09:00:00, number of deaths =  48, number of infected = 14445\n",
      "2020-06-25 15:15:01,167 - june.simulator - INFO - Date = 2020-08-11 10:00:00, number of deaths =  48, number of infected = 14494\n",
      "2020-06-25 15:15:01,787 - june.simulator - INFO - Date = 2020-08-11 13:00:00, number of deaths =  48, number of infected = 14701\n",
      "2020-06-25 15:15:02,559 - june.simulator - INFO - Date = 2020-08-12 00:00:00, number of deaths =  48, number of infected = 15081\n",
      "2020-06-25 15:15:03,162 - june.simulator - INFO - Date = 2020-08-12 01:00:00, number of deaths =  48, number of infected = 15109\n",
      "2020-06-25 15:15:03,888 - june.simulator - INFO - Date = 2020-08-12 05:00:00, number of deaths =  48, number of infected = 15408\n",
      "2020-06-25 15:15:04,513 - june.simulator - INFO - Date = 2020-08-12 09:00:00, number of deaths =  49, number of infected = 15735\n",
      "2020-06-25 15:15:05,327 - june.simulator - INFO - Date = 2020-08-12 10:00:00, number of deaths =  49, number of infected = 15779\n",
      "2020-06-25 15:15:05,926 - june.simulator - INFO - Date = 2020-08-12 13:00:00, number of deaths =  49, number of infected = 15953\n",
      "2020-06-25 15:15:06,616 - june.simulator - INFO - Date = 2020-08-13 00:00:00, number of deaths =  49, number of infected = 16270\n",
      "2020-06-25 15:15:07,394 - june.simulator - INFO - Date = 2020-08-13 01:00:00, number of deaths =  49, number of infected = 16302\n",
      "2020-06-25 15:15:07,973 - june.simulator - INFO - Date = 2020-08-13 05:00:00, number of deaths =  49, number of infected = 16613\n",
      "2020-06-25 15:15:08,580 - june.simulator - INFO - Date = 2020-08-13 09:00:00, number of deaths =  51, number of infected = 16908\n",
      "2020-06-25 15:15:09,381 - june.simulator - INFO - Date = 2020-08-13 10:00:00, number of deaths =  51, number of infected = 16939\n",
      "2020-06-25 15:15:10,278 - june.simulator - INFO - Date = 2020-08-13 13:00:00, number of deaths =  52, number of infected = 17172\n",
      "2020-06-25 15:15:11,085 - june.simulator - INFO - Date = 2020-08-14 00:00:00, number of deaths =  54, number of infected = 17485\n",
      "2020-06-25 15:15:11,859 - june.simulator - INFO - Date = 2020-08-14 01:00:00, number of deaths =  54, number of infected = 17521\n",
      "2020-06-25 15:15:12,553 - june.simulator - INFO - Date = 2020-08-14 05:00:00, number of deaths =  54, number of infected = 17844\n",
      "2020-06-25 15:15:13,228 - june.simulator - INFO - Date = 2020-08-14 09:00:00, number of deaths =  54, number of infected = 18101\n",
      "2020-06-25 15:15:14,101 - june.simulator - INFO - Date = 2020-08-14 10:00:00, number of deaths =  54, number of infected = 18144\n",
      "2020-06-25 15:15:14,798 - june.simulator - INFO - Date = 2020-08-14 13:00:00, number of deaths =  54, number of infected = 18365\n",
      "2020-06-25 15:15:15,645 - june.simulator - INFO - Date = 2020-08-15 00:00:00, number of deaths =  55, number of infected = 18702\n",
      "2020-06-25 15:15:16,622 - june.simulator - INFO - Date = 2020-08-15 04:00:00, number of deaths =  56, number of infected = 18986\n",
      "2020-06-25 15:15:17,423 - june.simulator - INFO - Date = 2020-08-15 08:00:00, number of deaths =  56, number of infected = 19274\n",
      "2020-06-25 15:15:18,115 - june.simulator - INFO - Date = 2020-08-15 12:00:00, number of deaths =  56, number of infected = 19571\n",
      "2020-06-25 15:15:18,963 - june.simulator - INFO - Date = 2020-08-16 00:00:00, number of deaths =  58, number of infected = 19832\n",
      "2020-06-25 15:15:19,793 - june.simulator - INFO - Date = 2020-08-16 04:00:00, number of deaths =  59, number of infected = 20067\n",
      "2020-06-25 15:15:21,192 - june.simulator - INFO - Date = 2020-08-16 08:00:00, number of deaths =  59, number of infected = 20308\n",
      "2020-06-25 15:15:22,058 - june.simulator - INFO - Date = 2020-08-16 12:00:00, number of deaths =  60, number of infected = 20569\n",
      "2020-06-25 15:15:22,717 - june.simulator - INFO - Date = 2020-08-17 00:00:00, number of deaths =  61, number of infected = 20767\n",
      "2020-06-25 15:15:23,431 - june.simulator - INFO - Date = 2020-08-17 01:00:00, number of deaths =  61, number of infected = 20788\n",
      "2020-06-25 15:15:24,505 - june.simulator - INFO - Date = 2020-08-17 05:00:00, number of deaths =  62, number of infected = 21001\n",
      "2020-06-25 15:15:25,176 - june.simulator - INFO - Date = 2020-08-17 09:00:00, number of deaths =  62, number of infected = 21191\n",
      "2020-06-25 15:15:25,924 - june.simulator - INFO - Date = 2020-08-17 10:00:00, number of deaths =  62, number of infected = 21222\n",
      "2020-06-25 15:15:26,543 - june.simulator - INFO - Date = 2020-08-17 13:00:00, number of deaths =  63, number of infected = 21384\n",
      "2020-06-25 15:15:27,252 - june.simulator - INFO - Date = 2020-08-18 00:00:00, number of deaths =  64, number of infected = 21539\n",
      "2020-06-25 15:15:27,962 - june.simulator - INFO - Date = 2020-08-18 01:00:00, number of deaths =  64, number of infected = 21557\n",
      "2020-06-25 15:15:28,636 - june.simulator - INFO - Date = 2020-08-18 05:00:00, number of deaths =  65, number of infected = 21718\n",
      "2020-06-25 15:15:29,286 - june.simulator - INFO - Date = 2020-08-18 09:00:00, number of deaths =  65, number of infected = 21849\n",
      "2020-06-25 15:15:30,060 - june.simulator - INFO - Date = 2020-08-18 10:00:00, number of deaths =  65, number of infected = 21869\n",
      "2020-06-25 15:15:30,718 - june.simulator - INFO - Date = 2020-08-18 13:00:00, number of deaths =  66, number of infected = 22028\n",
      "2020-06-25 15:15:31,381 - june.simulator - INFO - Date = 2020-08-19 00:00:00, number of deaths =  67, number of infected = 22141\n",
      "2020-06-25 15:15:32,028 - june.simulator - INFO - Date = 2020-08-19 01:00:00, number of deaths =  67, number of infected = 22138\n",
      "2020-06-25 15:15:32,724 - june.simulator - INFO - Date = 2020-08-19 05:00:00, number of deaths =  70, number of infected = 22289\n",
      "2020-06-25 15:15:33,353 - june.simulator - INFO - Date = 2020-08-19 09:00:00, number of deaths =  71, number of infected = 22374\n",
      "2020-06-25 15:15:34,063 - june.simulator - INFO - Date = 2020-08-19 10:00:00, number of deaths =  71, number of infected = 22381\n",
      "2020-06-25 15:15:34,611 - june.simulator - INFO - Date = 2020-08-19 13:00:00, number of deaths =  73, number of infected = 22484\n",
      "2020-06-25 15:15:35,303 - june.simulator - INFO - Date = 2020-08-20 00:00:00, number of deaths =  73, number of infected = 22537\n",
      "2020-06-25 15:15:35,950 - june.simulator - INFO - Date = 2020-08-20 01:00:00, number of deaths =  73, number of infected = 22549\n",
      "2020-06-25 15:15:36,596 - june.simulator - INFO - Date = 2020-08-20 05:00:00, number of deaths =  74, number of infected = 22682\n",
      "2020-06-25 15:15:37,197 - june.simulator - INFO - Date = 2020-08-20 09:00:00, number of deaths =  74, number of infected = 22757\n",
      "2020-06-25 15:15:37,940 - june.simulator - INFO - Date = 2020-08-20 10:00:00, number of deaths =  75, number of infected = 22770\n",
      "2020-06-25 15:15:38,519 - june.simulator - INFO - Date = 2020-08-20 13:00:00, number of deaths =  76, number of infected = 22852\n",
      "2020-06-25 15:15:39,123 - june.simulator - INFO - Date = 2020-08-21 00:00:00, number of deaths =  79, number of infected = 22869\n",
      "2020-06-25 15:15:39,748 - june.simulator - INFO - Date = 2020-08-21 01:00:00, number of deaths =  79, number of infected = 22882\n",
      "2020-06-25 15:15:40,599 - june.simulator - INFO - Date = 2020-08-21 05:00:00, number of deaths =  79, number of infected = 22963\n",
      "2020-06-25 15:15:41,362 - june.simulator - INFO - Date = 2020-08-21 09:00:00, number of deaths =  81, number of infected = 23024\n",
      "2020-06-25 15:15:42,036 - june.simulator - INFO - Date = 2020-08-21 10:00:00, number of deaths =  81, number of infected = 23029\n",
      "2020-06-25 15:15:42,707 - june.simulator - INFO - Date = 2020-08-21 13:00:00, number of deaths =  83, number of infected = 23089\n",
      "2020-06-25 15:15:43,533 - june.simulator - INFO - Date = 2020-08-22 00:00:00, number of deaths =  85, number of infected = 23060\n",
      "2020-06-25 15:15:44,417 - june.simulator - INFO - Date = 2020-08-22 04:00:00, number of deaths =  85, number of infected = 23177\n",
      "2020-06-25 15:15:45,198 - june.simulator - INFO - Date = 2020-08-22 08:00:00, number of deaths =  85, number of infected = 23263\n",
      "2020-06-25 15:15:45,814 - june.simulator - INFO - Date = 2020-08-22 12:00:00, number of deaths =  86, number of infected = 23336\n",
      "2020-06-25 15:15:46,520 - june.simulator - INFO - Date = 2020-08-23 00:00:00, number of deaths =  87, number of infected = 23270\n",
      "2020-06-25 15:15:47,198 - june.simulator - INFO - Date = 2020-08-23 04:00:00, number of deaths =  87, number of infected = 23306\n",
      "2020-06-25 15:15:47,940 - june.simulator - INFO - Date = 2020-08-23 08:00:00, number of deaths =  87, number of infected = 23356\n",
      "2020-06-25 15:15:48,491 - june.simulator - INFO - Date = 2020-08-23 12:00:00, number of deaths =  89, number of infected = 23381\n",
      "2020-06-25 15:15:49,046 - june.simulator - INFO - Date = 2020-08-24 00:00:00, number of deaths =  92, number of infected = 23182\n",
      "2020-06-25 15:15:49,594 - june.simulator - INFO - Date = 2020-08-24 01:00:00, number of deaths =  92, number of infected = 23173\n",
      "2020-06-25 15:15:50,187 - june.simulator - INFO - Date = 2020-08-24 05:00:00, number of deaths =  92, number of infected = 23153\n",
      "2020-06-25 15:15:50,748 - june.simulator - INFO - Date = 2020-08-24 09:00:00, number of deaths =  92, number of infected = 23103\n",
      "2020-06-25 15:15:51,374 - june.simulator - INFO - Date = 2020-08-24 10:00:00, number of deaths =  92, number of infected = 23090\n",
      "2020-06-25 15:15:52,005 - june.simulator - INFO - Date = 2020-08-24 13:00:00, number of deaths =  93, number of infected = 23089\n",
      "2020-06-25 15:15:52,631 - june.simulator - INFO - Date = 2020-08-25 00:00:00, number of deaths =  96, number of infected = 22860\n",
      "2020-06-25 15:15:53,197 - june.simulator - INFO - Date = 2020-08-25 01:00:00, number of deaths =  96, number of infected = 22847\n",
      "2020-06-25 15:15:53,764 - june.simulator - INFO - Date = 2020-08-25 05:00:00, number of deaths =  96, number of infected = 22790\n",
      "2020-06-25 15:15:54,281 - june.simulator - INFO - Date = 2020-08-25 09:00:00, number of deaths =  96, number of infected = 22728\n",
      "2020-06-25 15:15:54,935 - june.simulator - INFO - Date = 2020-08-25 10:00:00, number of deaths =  96, number of infected = 22701\n",
      "2020-06-25 15:15:55,461 - june.simulator - INFO - Date = 2020-08-25 13:00:00, number of deaths =  97, number of infected = 22687\n",
      "2020-06-25 15:15:56,027 - june.simulator - INFO - Date = 2020-08-26 00:00:00, number of deaths =  100, number of infected = 22443\n",
      "2020-06-25 15:15:56,567 - june.simulator - INFO - Date = 2020-08-26 01:00:00, number of deaths =  100, number of infected = 22425\n",
      "2020-06-25 15:15:57,138 - june.simulator - INFO - Date = 2020-08-26 05:00:00, number of deaths =  100, number of infected = 22354\n",
      "2020-06-25 15:15:57,669 - june.simulator - INFO - Date = 2020-08-26 09:00:00, number of deaths =  102, number of infected = 22292\n",
      "2020-06-25 15:15:58,294 - june.simulator - INFO - Date = 2020-08-26 10:00:00, number of deaths =  103, number of infected = 22266\n",
      "2020-06-25 15:15:58,849 - june.simulator - INFO - Date = 2020-08-26 13:00:00, number of deaths =  104, number of infected = 22226\n",
      "2020-06-25 15:15:59,399 - june.simulator - INFO - Date = 2020-08-27 00:00:00, number of deaths =  109, number of infected = 21952\n",
      "2020-06-25 15:15:59,917 - june.simulator - INFO - Date = 2020-08-27 01:00:00, number of deaths =  109, number of infected = 21929\n",
      "2020-06-25 15:16:00,438 - june.simulator - INFO - Date = 2020-08-27 05:00:00, number of deaths =  109, number of infected = 21867\n",
      "2020-06-25 15:16:00,949 - june.simulator - INFO - Date = 2020-08-27 09:00:00, number of deaths =  109, number of infected = 21771\n",
      "2020-06-25 15:16:01,596 - june.simulator - INFO - Date = 2020-08-27 10:00:00, number of deaths =  109, number of infected = 21743\n",
      "2020-06-25 15:16:02,105 - june.simulator - INFO - Date = 2020-08-27 13:00:00, number of deaths =  109, number of infected = 21705\n",
      "2020-06-25 15:16:02,696 - june.simulator - INFO - Date = 2020-08-28 00:00:00, number of deaths =  111, number of infected = 21384\n",
      "2020-06-25 15:16:03,244 - june.simulator - INFO - Date = 2020-08-28 01:00:00, number of deaths =  111, number of infected = 21355\n",
      "2020-06-25 15:16:03,818 - june.simulator - INFO - Date = 2020-08-28 05:00:00, number of deaths =  115, number of infected = 21253\n",
      "2020-06-25 15:16:04,341 - june.simulator - INFO - Date = 2020-08-28 09:00:00, number of deaths =  116, number of infected = 21143\n",
      "2020-06-25 15:16:04,967 - june.simulator - INFO - Date = 2020-08-28 10:00:00, number of deaths =  116, number of infected = 21102\n",
      "2020-06-25 15:16:05,465 - june.simulator - INFO - Date = 2020-08-28 13:00:00, number of deaths =  116, number of infected = 21012\n",
      "2020-06-25 15:16:06,200 - june.simulator - INFO - Date = 2020-08-29 00:00:00, number of deaths =  120, number of infected = 20622\n",
      "2020-06-25 15:16:06,967 - june.simulator - INFO - Date = 2020-08-29 04:00:00, number of deaths =  120, number of infected = 20512\n",
      "2020-06-25 15:16:07,637 - june.simulator - INFO - Date = 2020-08-29 08:00:00, number of deaths =  120, number of infected = 20387\n",
      "2020-06-25 15:16:08,196 - june.simulator - INFO - Date = 2020-08-29 12:00:00, number of deaths =  120, number of infected = 20276\n",
      "2020-06-25 15:16:08,901 - june.simulator - INFO - Date = 2020-08-30 00:00:00, number of deaths =  123, number of infected = 19871\n",
      "2020-06-25 15:16:09,563 - june.simulator - INFO - Date = 2020-08-30 04:00:00, number of deaths =  123, number of infected = 19750\n",
      "2020-06-25 15:16:10,208 - june.simulator - INFO - Date = 2020-08-30 08:00:00, number of deaths =  123, number of infected = 19612\n",
      "2020-06-25 15:16:10,706 - june.simulator - INFO - Date = 2020-08-30 12:00:00, number of deaths =  123, number of infected = 19463\n",
      "2020-06-25 15:16:11,235 - june.simulator - INFO - Date = 2020-08-31 00:00:00, number of deaths =  130, number of infected = 18986\n",
      "2020-06-25 15:16:11,767 - june.simulator - INFO - Date = 2020-08-31 01:00:00, number of deaths =  130, number of infected = 18949\n",
      "2020-06-25 15:16:12,298 - june.simulator - INFO - Date = 2020-08-31 05:00:00, number of deaths =  130, number of infected = 18808\n",
      "2020-06-25 15:16:12,840 - june.simulator - INFO - Date = 2020-08-31 09:00:00, number of deaths =  131, number of infected = 18651\n",
      "2020-06-25 15:16:13,500 - june.simulator - INFO - Date = 2020-08-31 10:00:00, number of deaths =  132, number of infected = 18607\n",
      "2020-06-25 15:16:14,003 - june.simulator - INFO - Date = 2020-08-31 13:00:00, number of deaths =  133, number of infected = 18502\n",
      "2020-06-25 15:16:14,553 - june.simulator - INFO - Date = 2020-09-01 00:00:00, number of deaths =  137, number of infected = 18030\n",
      "2020-06-25 15:16:15,088 - june.simulator - INFO - Date = 2020-09-01 01:00:00, number of deaths =  138, number of infected = 17971\n",
      "2020-06-25 15:16:15,613 - june.simulator - INFO - Date = 2020-09-01 05:00:00, number of deaths =  140, number of infected = 17796\n",
      "2020-06-25 15:16:16,095 - june.simulator - INFO - Date = 2020-09-01 09:00:00, number of deaths =  140, number of infected = 17639\n",
      "2020-06-25 15:16:16,788 - june.simulator - INFO - Date = 2020-09-01 10:00:00, number of deaths =  140, number of infected = 17594\n",
      "2020-06-25 15:16:17,298 - june.simulator - INFO - Date = 2020-09-01 13:00:00, number of deaths =  140, number of infected = 17460\n",
      "2020-06-25 15:16:17,794 - june.simulator - INFO - Date = 2020-09-02 00:00:00, number of deaths =  142, number of infected = 16990\n",
      "2020-06-25 15:16:18,313 - june.simulator - INFO - Date = 2020-09-02 01:00:00, number of deaths =  142, number of infected = 16948\n",
      "2020-06-25 15:16:18,818 - june.simulator - INFO - Date = 2020-09-02 05:00:00, number of deaths =  142, number of infected = 16803\n",
      "2020-06-25 15:16:19,311 - june.simulator - INFO - Date = 2020-09-02 09:00:00, number of deaths =  142, number of infected = 16655\n",
      "2020-06-25 15:16:19,939 - june.simulator - INFO - Date = 2020-09-02 10:00:00, number of deaths =  142, number of infected = 16601\n",
      "2020-06-25 15:16:20,431 - june.simulator - INFO - Date = 2020-09-02 13:00:00, number of deaths =  142, number of infected = 16500\n",
      "2020-06-25 15:16:20,936 - june.simulator - INFO - Date = 2020-09-03 00:00:00, number of deaths =  146, number of infected = 15974\n",
      "2020-06-25 15:16:21,458 - june.simulator - INFO - Date = 2020-09-03 01:00:00, number of deaths =  146, number of infected = 15925\n",
      "2020-06-25 15:16:21,933 - june.simulator - INFO - Date = 2020-09-03 05:00:00, number of deaths =  146, number of infected = 15755\n",
      "2020-06-25 15:16:22,409 - june.simulator - INFO - Date = 2020-09-03 09:00:00, number of deaths =  147, number of infected = 15559\n"
     ]
    }
   ],
   "source": [
    "%%time\n",
    "simulator.run()"
   ]
  },
  {
   "cell_type": "markdown",
   "metadata": {},
   "source": [
    "While the simulation runs (and afterwards) we can launch the visualization webpage by running\n",
    "```python june/visualizer.py path/to/results``` "
   ]
  },
  {
   "cell_type": "markdown",
   "metadata": {},
   "source": [
    "# Getting the results"
   ]
  },
  {
   "cell_type": "markdown",
   "metadata": {},
   "source": [
    "All results are stored in a json file specified in the ``save_path`` variable in the config file. We can also access it from ``world.logger`` directly."
   ]
  },
  {
   "cell_type": "code",
   "execution_count": null,
   "metadata": {},
   "outputs": [],
   "source": [
    "import pandas as pd"
   ]
  },
  {
   "cell_type": "code",
   "execution_count": null,
   "metadata": {},
   "outputs": [],
   "source": [
    "read = ReadLogger()"
   ]
  },
  {
   "cell_type": "markdown",
   "metadata": {},
   "source": [
    "## Hospital data and how it changed over time"
   ]
  },
  {
   "cell_type": "code",
   "execution_count": null,
   "metadata": {},
   "outputs": [],
   "source": [
    "hospitals_df = read.load_hospital_capacity()"
   ]
  },
  {
   "cell_type": "code",
   "execution_count": null,
   "metadata": {},
   "outputs": [],
   "source": [
    "hospitals_df.head(3)"
   ]
  },
  {
   "cell_type": "code",
   "execution_count": null,
   "metadata": {},
   "outputs": [],
   "source": [
    "hospitals_characteristics_df = read.load_hospital_characteristics()"
   ]
  },
  {
   "cell_type": "code",
   "execution_count": null,
   "metadata": {},
   "outputs": [],
   "source": [
    "hospitals_characteristics_df"
   ]
  },
  {
   "cell_type": "markdown",
   "metadata": {},
   "source": [
    "## where did infections happen?"
   ]
  },
  {
   "cell_type": "code",
   "execution_count": null,
   "metadata": {},
   "outputs": [],
   "source": [
    "loc_df = read.get_locations_infections()"
   ]
  },
  {
   "cell_type": "code",
   "execution_count": null,
   "metadata": {},
   "outputs": [],
   "source": [
    "locations_per_day = read.locations_df.groupby(pd.Grouper(freq='D')).sum()"
   ]
  },
  {
   "cell_type": "code",
   "execution_count": null,
   "metadata": {},
   "outputs": [],
   "source": [
    "all_infection_places = set(locations_per_day.location.sum())"
   ]
  },
  {
   "cell_type": "code",
   "execution_count": null,
   "metadata": {},
   "outputs": [],
   "source": [
    "def n_infections(row, infection_place):\n",
    "    return sum([row.counts[i] for i, x in enumerate(row.location) if x == infection_place])\n"
   ]
  },
  {
   "cell_type": "code",
   "execution_count": null,
   "metadata": {},
   "outputs": [],
   "source": [
    "for infection_place in all_infection_places:\n",
    "    locations_per_day[str(infection_place)] = locations_per_day.apply(\n",
    "        lambda x: n_infections(x, infection_place),\n",
    "        axis=1\n",
    "    )"
   ]
  },
  {
   "cell_type": "code",
   "execution_count": null,
   "metadata": {},
   "outputs": [],
   "source": [
    "locations_per_day = locations_per_day.drop(columns=['location',\n",
    "                                                    'counts'])"
   ]
  },
  {
   "cell_type": "code",
   "execution_count": null,
   "metadata": {},
   "outputs": [],
   "source": [
    "locations_per_day = locations_per_day.div(\n",
    "    locations_per_day.sum(axis=1), axis=0\n",
    ")\n"
   ]
  },
  {
   "cell_type": "code",
   "execution_count": null,
   "metadata": {},
   "outputs": [],
   "source": [
    "locations_per_day.plot.area( alpha=0.5)\n",
    "plt.legend(bbox_to_anchor=(1,1))\n",
    "plt.ylabel('Percent of infections')"
   ]
  },
  {
   "cell_type": "code",
   "execution_count": null,
   "metadata": {},
   "outputs": [],
   "source": [
    "import matplotlib.ticker as mtick\n",
    "\n",
    "ax = loc_df['percentage_infections'].sort_values().plot.bar()\n",
    "ax.yaxis.set_major_formatter(mtick.PercentFormatter())\n",
    "plt.ylabel('Percentage of infections at location')\n",
    "plt.xlabel('location')\n",
    "#plt.yscale('log')"
   ]
  },
  {
   "cell_type": "markdown",
   "metadata": {},
   "source": [
    "## rate of infection"
   ]
  },
  {
   "cell_type": "code",
   "execution_count": null,
   "metadata": {},
   "outputs": [],
   "source": [
    "r_df = read.get_r()"
   ]
  },
  {
   "cell_type": "code",
   "execution_count": null,
   "metadata": {},
   "outputs": [],
   "source": [
    "r_df.plot()\n",
    "plt.axvspan(policies.social_distancing_start, \n",
    "            policies.social_distancing_end,\n",
    "            facecolor='y', alpha=0.2)\n",
    "plt.axhline(y=1, linestyle='dashed', color='gray')\n",
    "plt.xlabel('Date')\n",
    "plt.ylabel('R')"
   ]
  },
  {
   "cell_type": "markdown",
   "metadata": {},
   "source": [
    "## World infection curves, and by super area"
   ]
  },
  {
   "cell_type": "code",
   "execution_count": null,
   "metadata": {},
   "outputs": [],
   "source": [
    "world_df = read.world_summary()"
   ]
  },
  {
   "cell_type": "code",
   "execution_count": null,
   "metadata": {},
   "outputs": [],
   "source": [
    "world_df['infected'].plot()\n",
    "plt.axvspan(policies.social_distancing_start, \n",
    "            policies.social_distancing_end,\n",
    "            facecolor='y', alpha=0.2)\n",
    "plt.ylabel('# Infected')"
   ]
  },
  {
   "cell_type": "code",
   "execution_count": null,
   "metadata": {},
   "outputs": [],
   "source": [
    "world_df.plot()\n",
    "plt.axvspan(policies.social_distancing_start, \n",
    "            policies.social_distancing_end,\n",
    "            facecolor='y', alpha=0.2)\n",
    "plt.legend(bbox_to_anchor=(1,1))\n"
   ]
  },
  {
   "cell_type": "code",
   "execution_count": null,
   "metadata": {},
   "outputs": [],
   "source": [
    "area_df = read.super_area_summary()"
   ]
  },
  {
   "cell_type": "code",
   "execution_count": null,
   "metadata": {},
   "outputs": [],
   "source": [
    "area_df[area_df.super_area == \"E02003282\"].plot()\n",
    "plt.legend(bbox_to_anchor=(1,1))\n",
    "\n"
   ]
  },
  {
   "cell_type": "markdown",
   "metadata": {},
   "source": [
    "## World infection curves per age group"
   ]
  },
  {
   "cell_type": "code",
   "execution_count": null,
   "metadata": {},
   "outputs": [],
   "source": [
    "ages_df = read.age_summary([0,10,20,30,40,\n",
    "                  50,60,70,80,90,100])"
   ]
  },
  {
   "cell_type": "code",
   "execution_count": null,
   "metadata": {},
   "outputs": [],
   "source": [
    "for name, group in ages_df.groupby('age_range'):\n",
    "    group['infected'].plot(label=name)\n",
    "plt.axvspan(policies.social_distancing_start, \n",
    "            policies.social_distancing_end,\n",
    "            facecolor='y', alpha=0.2)\n",
    "plt.legend(bbox_to_anchor=(1,1))\n"
   ]
  },
  {
   "cell_type": "code",
   "execution_count": null,
   "metadata": {},
   "outputs": [],
   "source": [
    "for name, group in ages_df.groupby('age_range'):\n",
    "    group['dead'].cumsum().plot(label=name)\n",
    "plt.legend()"
   ]
  },
  {
   "cell_type": "code",
   "execution_count": null,
   "metadata": {},
   "outputs": [],
   "source": [
    "for name, group in ages_df.groupby('age_range'):\n",
    "    group['susceptible'].plot(label=name)\n",
    "plt.legend()"
   ]
  },
  {
   "cell_type": "code",
   "execution_count": null,
   "metadata": {},
   "outputs": [],
   "source": [
    "for name, group in ages_df.groupby('age_range'):\n",
    "    group['hospital_admissions'].cumsum().plot(label=name)\n",
    "plt.legend()"
   ]
  },
  {
   "cell_type": "code",
   "execution_count": null,
   "metadata": {},
   "outputs": [],
   "source": [
    "for name, group in ages_df.groupby('age_range'):\n",
    "    group['intensive_care_admissions'].cumsum().plot(label=name)\n",
    "plt.legend()"
   ]
  },
  {
   "cell_type": "markdown",
   "metadata": {},
   "source": [
    "## Draw some of the symptoms trajectories"
   ]
  },
  {
   "cell_type": "code",
   "execution_count": null,
   "metadata": {},
   "outputs": [],
   "source": [
    "random_trajectories = read.draw_symptom_trajectories(window_length=600,\n",
    "                                        n_people=10)"
   ]
  },
  {
   "cell_type": "code",
   "execution_count": null,
   "metadata": {},
   "outputs": [],
   "source": [
    "from june.infection import SymptomTag"
   ]
  },
  {
   "cell_type": "code",
   "execution_count": null,
   "metadata": {},
   "outputs": [],
   "source": [
    "symptoms_values = [tag.value for tag in SymptomTag]\n",
    "symptoms_names = [tag.name for tag in SymptomTag]\n"
   ]
  },
  {
   "cell_type": "code",
   "execution_count": null,
   "metadata": {},
   "outputs": [],
   "source": [
    "for df_person in random_trajectories:\n",
    "    df_person['symptoms'].plot()\n",
    "plt.ylabel('Symptoms Trajectory')\n",
    "_ = plt.yticks(symptoms_values, symptoms_names)\n",
    "plt.xlabel('Date')"
   ]
  },
  {
   "cell_type": "code",
   "execution_count": null,
   "metadata": {},
   "outputs": [],
   "source": [
    "for df_person in random_trajectories:\n",
    "    df_person['n_secondary_infections'].plot()\n",
    "plt.ylabel('Number of secondary infections')\n",
    "\n",
    "plt.xlabel('Date')"
   ]
  },
  {
   "cell_type": "code",
   "execution_count": null,
   "metadata": {},
   "outputs": [],
   "source": []
  }
 ],
 "metadata": {
  "kernelspec": {
   "display_name": "Python 3",
   "language": "python",
   "name": "python3"
  },
  "language_info": {
   "codemirror_mode": {
    "name": "ipython",
    "version": 3
   },
   "file_extension": ".py",
   "mimetype": "text/x-python",
   "name": "python",
   "nbconvert_exporter": "python",
   "pygments_lexer": "ipython3",
   "version": "3.8.3"
  }
 },
 "nbformat": 4,
 "nbformat_minor": 4
}
