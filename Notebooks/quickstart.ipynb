{
 "cells": [
  {
   "cell_type": "code",
   "execution_count": 1,
   "metadata": {},
   "outputs": [],
   "source": [
    "%load_ext autoreload\n",
    "%autoreload 2"
   ]
  },
  {
   "cell_type": "code",
   "execution_count": 2,
   "metadata": {},
   "outputs": [],
   "source": [
    "import numpy as np\n",
    "import time\n",
    "from datetime import datetime\n",
    "import matplotlib.pyplot as plt\n",
    "import seaborn as sns\n",
    "sns.set_context('notebook')"
   ]
  },
  {
   "cell_type": "code",
   "execution_count": 3,
   "metadata": {},
   "outputs": [
    {
     "name": "stderr",
     "output_type": "stream",
     "text": [
      "No --data argument given - defaulting to:\n",
      "/home/arnau/code/JUNE/data\n",
      "No --configs argument given - defaulting to:\n",
      "/home/arnau/code/JUNE/configs\n"
     ]
    }
   ],
   "source": [
    "from june import World \n",
    "from june.demography.geography import Geography\n",
    "from june.demography import Demography\n",
    "from june.interaction import ContactAveraging\n",
    "from june.infection import Infection\n",
    "from june.infection.transmission import TransmissionConstant\n",
    "from june.groups import Hospitals, Schools, Companies, Households, CareHomes, Cemeteries, Universities\n",
    "from june.groups.leisure import generate_leisure_for_config, Cinemas, Pubs, Groceries\n",
    "from june.simulator import Simulator\n",
    "from june.infection_seed import InfectionSeed\n",
    "from june.policy import Policy, Policies\n",
    "from june import paths\n",
    "from june.hdf5_savers import load_geography_from_hdf5\n",
    "from june.logger.read_logger import ReadLogger\n",
    "from june.infection.infection import InfectionSelector\n",
    "from june.world import generate_world_from_hdf5, generate_world_from_geography"
   ]
  },
  {
   "cell_type": "markdown",
   "metadata": {},
   "source": [
    "# Initialize world\n",
    "\n",
    "To initialize a certain world, we need to add the different components we want to have in it. First we specify what super areas (msoa) we want to create. We have included these ones, because they are known to contain hospitals, schools, care homes, and companies.\n",
    "\n",
    "After creating the geography, we create the different components the worlds need to have such as care homes, companies ..."
   ]
  },
  {
   "cell_type": "code",
   "execution_count": 4,
   "metadata": {},
   "outputs": [],
   "source": [
    "CONFIG_PATH = \"../configs/config_example.yaml\""
   ]
  },
  {
   "cell_type": "code",
   "execution_count": 5,
   "metadata": {},
   "outputs": [
    {
     "name": "stdout",
     "output_type": "stream",
     "text": [
      "2020-07-10 19:30:07,486 - june.demography.geography - INFO - There are 129 areas and 5 super_areas in the world.\n",
      "2020-07-10 19:30:07,514 - june.groups.hospital - INFO - There are 1 hospitals in this geography.\n",
      "2020-07-10 19:30:07,760 - june.groups.school - INFO - There are 19 schools in this geography.\n",
      "2020-07-10 19:30:07,862 - june.groups.school - INFO - No school for the age 0 in this world.\n",
      "2020-07-10 19:30:07,870 - june.groups.school - INFO - No school for the age 1 in this world.\n",
      "2020-07-10 19:30:07,879 - june.groups.school - INFO - No school for the age 2 in this world.\n",
      "2020-07-10 19:30:08,834 - june.groups.carehome - INFO - There are 9 care_homes in this geography.\n",
      "2020-07-10 19:30:47,202 - june.distributors.worker_distributor - INFO - There are 0 who had to be told to stay real\n",
      "CPU times: user 1min 20s, sys: 2.89 s, total: 1min 23s\n",
      "Wall time: 2min 55s\n"
     ]
    }
   ],
   "source": [
    "%%time \n",
    "\n",
    "geography = Geography.from_file(\n",
    "        {\n",
    "            \"super_area\": [\n",
    "                \"E02003282\",\n",
    "                \"E02001720\",\n",
    "                \"E00088544\",\n",
    "                \"E02002560\",\n",
    "                \"E02002559\",\n",
    "                \"E02004314\",\n",
    "            ]\n",
    "        }\n",
    ")\n",
    "\n",
    "geography.hospitals = Hospitals.for_geography(geography)\n",
    "geography.schools = Schools.for_geography(geography)\n",
    "geography.companies = Companies.for_geography(geography)\n",
    "geography.care_homes = CareHomes.for_geography(geography)\n",
    "geography.universities = Universities.for_super_areas(geography.super_areas)\n",
    "world = generate_world_from_geography(geography, include_households=True, include_commute=True)"
   ]
  },
  {
   "cell_type": "markdown",
   "metadata": {},
   "source": [
    "## Commute, travel and leisure"
   ]
  },
  {
   "cell_type": "code",
   "execution_count": 6,
   "metadata": {},
   "outputs": [],
   "source": [
    "world.pubs = Pubs.for_geography(geography)\n",
    "world.cinemas = Cinemas.for_geography(geography)\n",
    "world.groceries = Groceries.for_geography(geography)\n",
    "leisure = generate_leisure_for_config(world, config_filename=CONFIG_PATH)\n",
    "leisure.distribute_social_venues_to_households(world.households) # this assigns possible social venues to people."
   ]
  },
  {
   "cell_type": "markdown",
   "metadata": {},
   "source": [
    "We are also going to need some cemeteries...geography.cemeteries = Cemeteries()\n"
   ]
  },
  {
   "cell_type": "code",
   "execution_count": 7,
   "metadata": {},
   "outputs": [],
   "source": [
    "world.cemeteries = Cemeteries()"
   ]
  },
  {
   "cell_type": "code",
   "execution_count": 8,
   "metadata": {},
   "outputs": [
    {
     "data": {
      "text/plain": [
       "46784"
      ]
     },
     "execution_count": 8,
     "metadata": {},
     "output_type": "execute_result"
    }
   ],
   "source": [
    "len(world.people)"
   ]
  },
  {
   "cell_type": "markdown",
   "metadata": {},
   "source": [
    "### If it took a long time to run the previous commands, it might be a good idea to save the world to reuse it later."
   ]
  },
  {
   "cell_type": "code",
   "execution_count": 9,
   "metadata": {},
   "outputs": [],
   "source": [
    "world.to_hdf5(\"world.hdf5\")"
   ]
  },
  {
   "cell_type": "markdown",
   "metadata": {},
   "source": [
    "If we would like to load the world we saved, we just do"
   ]
  },
  {
   "cell_type": "code",
   "execution_count": 10,
   "metadata": {},
   "outputs": [
    {
     "name": "stdout",
     "output_type": "stream",
     "text": [
      "loading population from hdf5 .\n",
      "loading companies from hdf5 .\n",
      "loading households from hdf5 .\n"
     ]
    },
    {
     "name": "stderr",
     "output_type": "stream",
     "text": [
      "  6%|▌         | 2643/46784 [00:00<00:01, 26427.13it/s]"
     ]
    },
    {
     "name": "stdout",
     "output_type": "stream",
     "text": [
      "restoring world...\n"
     ]
    },
    {
     "name": "stderr",
     "output_type": "stream",
     "text": [
      "100%|██████████| 46784/46784 [00:05<00:00, 8034.00it/s] \n"
     ]
    }
   ],
   "source": [
    "world = generate_world_from_hdf5(\"world.hdf5\")"
   ]
  },
  {
   "cell_type": "code",
   "execution_count": 11,
   "metadata": {},
   "outputs": [
    {
     "data": {
      "text/plain": [
       "<june.groups.leisure.pub.Pubs at 0x7fc01444d250>"
      ]
     },
     "execution_count": 11,
     "metadata": {},
     "output_type": "execute_result"
    }
   ],
   "source": [
    "world.pubs"
   ]
  },
  {
   "cell_type": "code",
   "execution_count": 12,
   "metadata": {},
   "outputs": [],
   "source": [
    "# and regenerate leisure in case we load it externally\n",
    "leisure = generate_leisure_for_config(world, CONFIG_PATH)"
   ]
  },
  {
   "cell_type": "markdown",
   "metadata": {},
   "source": [
    "you have now a beautiful pre-pandemic world. "
   ]
  },
  {
   "cell_type": "markdown",
   "metadata": {},
   "source": [
    "# Adding the infection"
   ]
  },
  {
   "cell_type": "markdown",
   "metadata": {},
   "source": [
    "Now, you can play around with different models of infections. The building blocks for an infection are: Transmission and Symptoms. For now, only SymptomsConstant and TransmissionConstant are in a state to be used."
   ]
  },
  {
   "cell_type": "code",
   "execution_count": 13,
   "metadata": {},
   "outputs": [],
   "source": [
    "selector = InfectionSelector.from_file()"
   ]
  },
  {
   "cell_type": "markdown",
   "metadata": {},
   "source": [
    "# Adding the interaction"
   ]
  },
  {
   "cell_type": "code",
   "execution_count": 14,
   "metadata": {},
   "outputs": [],
   "source": [
    "interaction = ContactAveraging.from_file(selector=selector)"
   ]
  },
  {
   "cell_type": "markdown",
   "metadata": {},
   "source": [
    "Beta are the intensities of the interaction taking place at the different groups"
   ]
  },
  {
   "cell_type": "code",
   "execution_count": 15,
   "metadata": {},
   "outputs": [
    {
     "data": {
      "text/plain": [
       "{'box': 1,\n",
       " 'pub': 0.1,\n",
       " 'grocery': 0.1,\n",
       " 'cinema': 0.1,\n",
       " 'commute_unit': 1.0,\n",
       " 'commute_city_unit': 1.0,\n",
       " 'hospital': 1.0,\n",
       " 'care_home': 1.0,\n",
       " 'company': 0.1,\n",
       " 'school': 0.1,\n",
       " 'household': 0.2,\n",
       " 'university': 0.01}"
      ]
     },
     "execution_count": 15,
     "metadata": {},
     "output_type": "execute_result"
    }
   ],
   "source": [
    "interaction.beta"
   ]
  },
  {
   "cell_type": "markdown",
   "metadata": {},
   "source": [
    "to modify these, simply do"
   ]
  },
  {
   "cell_type": "code",
   "execution_count": 16,
   "metadata": {},
   "outputs": [],
   "source": [
    "interaction.beta['household'] *= 2"
   ]
  },
  {
   "cell_type": "code",
   "execution_count": 17,
   "metadata": {},
   "outputs": [
    {
     "data": {
      "text/plain": [
       "{'box': 1,\n",
       " 'pub': 0.1,\n",
       " 'grocery': 0.1,\n",
       " 'cinema': 0.1,\n",
       " 'commute_unit': 1.0,\n",
       " 'commute_city_unit': 1.0,\n",
       " 'hospital': 1.0,\n",
       " 'care_home': 1.0,\n",
       " 'company': 0.1,\n",
       " 'school': 0.1,\n",
       " 'household': 0.4,\n",
       " 'university': 0.01}"
      ]
     },
     "execution_count": 17,
     "metadata": {},
     "output_type": "execute_result"
    }
   ],
   "source": [
    "interaction.beta"
   ]
  },
  {
   "cell_type": "markdown",
   "metadata": {},
   "source": [
    "moreover this interaction module uses contact matrices, that are different for different groups. These contact matrices shouldnt be modified for now. However they are a combination of conversational contact matrices, and physical contact matrices (see the BBC pandemic paper, from where these matrices are extracted https://www.medrxiv.org/content/10.1101/2020.02.16.20023754v2)\n",
    "\n",
    "There is a parameter, ``alpha`` ($\\alpha$), that combines these two matrices in the following way,\n",
    "\n",
    "\n",
    "$\\beta M \\left(1 + (\\alpha -1) \\right) P$\n",
    "\n",
    "where $\\beta$ is the intensity of the interaction, and $P$ the physical contact matrix. A larger $\\alpha$ produces more physical contacts. It is an overall number, non dependent of the particular group.\n"
   ]
  },
  {
   "cell_type": "code",
   "execution_count": 18,
   "metadata": {},
   "outputs": [
    {
     "data": {
      "text/plain": [
       "2.0"
      ]
     },
     "execution_count": 18,
     "metadata": {},
     "output_type": "execute_result"
    }
   ],
   "source": [
    "interaction.alpha_physical"
   ]
  },
  {
   "cell_type": "code",
   "execution_count": 19,
   "metadata": {},
   "outputs": [],
   "source": [
    "interaction.alpha_physical /= 2"
   ]
  },
  {
   "cell_type": "code",
   "execution_count": 20,
   "metadata": {},
   "outputs": [
    {
     "data": {
      "text/plain": [
       "1.0"
      ]
     },
     "execution_count": 20,
     "metadata": {},
     "output_type": "execute_result"
    }
   ],
   "source": [
    "interaction.alpha_physical"
   ]
  },
  {
   "cell_type": "markdown",
   "metadata": {},
   "source": [
    "# Seed the disease"
   ]
  },
  {
   "cell_type": "markdown",
   "metadata": {},
   "source": [
    "There are two options implemented in the seed at the moment, either you specify the number of cases and these are then homogeneously distributed by population to the different areas, or you use UK data on cases per region. For now use the first case."
   ]
  },
  {
   "cell_type": "code",
   "execution_count": 21,
   "metadata": {},
   "outputs": [],
   "source": [
    "infection_seed = InfectionSeed(world.super_areas, selector,)"
   ]
  },
  {
   "cell_type": "code",
   "execution_count": 22,
   "metadata": {},
   "outputs": [],
   "source": [
    "n_cases = 50\n",
    "infection_seed.unleash_virus(n_cases) # play around with the initial number of cases"
   ]
  },
  {
   "cell_type": "markdown",
   "metadata": {},
   "source": [
    "# Set policies"
   ]
  },
  {
   "cell_type": "code",
   "execution_count": 23,
   "metadata": {},
   "outputs": [],
   "source": [
    "policies = Policies.from_file()"
   ]
  },
  {
   "cell_type": "markdown",
   "metadata": {},
   "source": [
    "# Run the simulation"
   ]
  },
  {
   "cell_type": "markdown",
   "metadata": {},
   "source": [
    "Since the timer configuration is a bit cumbersome, it is read from the config file at ``configs/config_example.yaml``"
   ]
  },
  {
   "cell_type": "code",
   "execution_count": 24,
   "metadata": {},
   "outputs": [],
   "source": [
    "simulator = Simulator.from_file(\n",
    "     world, interaction, selector, \n",
    "    config_filename = CONFIG_PATH,\n",
    "    leisure = leisure,\n",
    "    policies = policies\n",
    ")"
   ]
  },
  {
   "cell_type": "code",
   "execution_count": null,
   "metadata": {
    "scrolled": true
   },
   "outputs": [
    {
     "name": "stdout",
     "output_type": "stream",
     "text": [
      "2020-07-10 19:34:50,215 - june.simulator - INFO - Starting group_dynamics for 200 days at day 0\n",
      "2020-07-10 19:34:50,218 - june.simulator - INFO - starting the loop ..., at 0 days, to run for 200 days\n",
      "2020-07-10 19:34:56,533 - june.simulator - INFO - Date = 2020-03-01 04:00:00, number of deaths =  0, number of infected = 50\n",
      "2020-07-10 19:35:01,232 - june.simulator - INFO - Date = 2020-03-01 08:00:00, number of deaths =  0, number of infected = 50\n",
      "2020-07-10 19:35:04,406 - june.simulator - INFO - Date = 2020-03-01 12:00:00, number of deaths =  0, number of infected = 50\n",
      "2020-07-10 19:35:07,842 - june.simulator - INFO - Date = 2020-03-02 00:00:00, number of deaths =  0, number of infected = 50\n",
      "2020-07-10 19:35:11,443 - june.simulator - INFO - Date = 2020-03-02 01:00:00, number of deaths =  0, number of infected = 50\n",
      "2020-07-10 19:35:14,658 - june.simulator - INFO - Date = 2020-03-02 05:00:00, number of deaths =  0, number of infected = 50\n",
      "2020-07-10 19:35:17,389 - june.simulator - INFO - Date = 2020-03-02 09:00:00, number of deaths =  0, number of infected = 50\n",
      "2020-07-10 19:35:22,574 - june.simulator - INFO - Date = 2020-03-02 10:00:00, number of deaths =  0, number of infected = 50\n",
      "2020-07-10 19:35:25,104 - june.simulator - INFO - Date = 2020-03-02 13:00:00, number of deaths =  0, number of infected = 50\n",
      "2020-07-10 19:35:29,215 - june.simulator - INFO - Date = 2020-03-03 00:00:00, number of deaths =  0, number of infected = 50\n",
      "2020-07-10 19:35:32,342 - june.simulator - INFO - Date = 2020-03-03 01:00:00, number of deaths =  0, number of infected = 50\n",
      "2020-07-10 19:35:35,385 - june.simulator - INFO - Date = 2020-03-03 05:00:00, number of deaths =  0, number of infected = 50\n",
      "2020-07-10 19:35:37,807 - june.simulator - INFO - Date = 2020-03-03 09:00:00, number of deaths =  0, number of infected = 50\n",
      "2020-07-10 19:35:43,174 - june.simulator - INFO - Date = 2020-03-03 10:00:00, number of deaths =  0, number of infected = 50\n",
      "2020-07-10 19:35:46,687 - june.simulator - INFO - Date = 2020-03-03 13:00:00, number of deaths =  0, number of infected = 50\n",
      "2020-07-10 19:35:49,419 - june.simulator - INFO - Date = 2020-03-04 00:00:00, number of deaths =  0, number of infected = 50\n",
      "2020-07-10 19:35:54,310 - june.simulator - INFO - Date = 2020-03-04 01:00:00, number of deaths =  0, number of infected = 50\n",
      "2020-07-10 19:35:57,442 - june.simulator - INFO - Date = 2020-03-04 05:00:00, number of deaths =  0, number of infected = 50\n",
      "2020-07-10 19:35:59,645 - june.simulator - INFO - Date = 2020-03-04 09:00:00, number of deaths =  0, number of infected = 50\n",
      "2020-07-10 19:36:04,628 - june.simulator - INFO - Date = 2020-03-04 10:00:00, number of deaths =  0, number of infected = 50\n",
      "2020-07-10 19:36:08,026 - june.simulator - INFO - Date = 2020-03-04 13:00:00, number of deaths =  0, number of infected = 50\n",
      "2020-07-10 19:36:11,969 - june.simulator - INFO - Date = 2020-03-05 00:00:00, number of deaths =  0, number of infected = 50\n",
      "2020-07-10 19:36:15,222 - june.simulator - INFO - Date = 2020-03-05 01:00:00, number of deaths =  0, number of infected = 52\n",
      "2020-07-10 19:36:17,132 - june.simulator - INFO - Date = 2020-03-05 05:00:00, number of deaths =  0, number of infected = 55\n",
      "2020-07-10 19:36:19,456 - june.simulator - INFO - Date = 2020-03-05 09:00:00, number of deaths =  0, number of infected = 55\n",
      "2020-07-10 19:36:24,262 - june.simulator - INFO - Date = 2020-03-05 10:00:00, number of deaths =  0, number of infected = 57\n",
      "2020-07-10 19:36:26,783 - june.simulator - INFO - Date = 2020-03-05 13:00:00, number of deaths =  0, number of infected = 63\n",
      "2020-07-10 19:36:30,424 - june.simulator - INFO - Date = 2020-03-06 00:00:00, number of deaths =  0, number of infected = 81\n",
      "2020-07-10 19:36:33,933 - june.simulator - INFO - Date = 2020-03-06 01:00:00, number of deaths =  0, number of infected = 83\n",
      "2020-07-10 19:36:36,765 - june.simulator - INFO - Date = 2020-03-06 05:00:00, number of deaths =  0, number of infected = 86\n",
      "2020-07-10 19:36:38,801 - june.simulator - INFO - Date = 2020-03-06 09:00:00, number of deaths =  0, number of infected = 92\n",
      "2020-07-10 19:36:43,674 - june.simulator - INFO - Date = 2020-03-06 10:00:00, number of deaths =  0, number of infected = 92\n",
      "2020-07-10 19:36:46,555 - june.simulator - INFO - Date = 2020-03-06 13:00:00, number of deaths =  0, number of infected = 101\n",
      "2020-07-10 19:36:51,326 - june.simulator - INFO - Date = 2020-03-07 00:00:00, number of deaths =  0, number of infected = 120\n",
      "2020-07-10 19:36:56,248 - june.simulator - INFO - Date = 2020-03-07 04:00:00, number of deaths =  0, number of infected = 124\n",
      "2020-07-10 19:37:00,597 - june.simulator - INFO - Date = 2020-03-07 08:00:00, number of deaths =  0, number of infected = 132\n",
      "2020-07-10 19:37:03,675 - june.simulator - INFO - Date = 2020-03-07 12:00:00, number of deaths =  0, number of infected = 141\n",
      "2020-07-10 19:37:07,376 - june.simulator - INFO - Date = 2020-03-08 00:00:00, number of deaths =  0, number of infected = 159\n",
      "2020-07-10 19:37:11,174 - june.simulator - INFO - Date = 2020-03-08 04:00:00, number of deaths =  0, number of infected = 201\n",
      "2020-07-10 19:37:14,908 - june.simulator - INFO - Date = 2020-03-08 08:00:00, number of deaths =  0, number of infected = 213\n",
      "2020-07-10 19:37:17,755 - june.simulator - INFO - Date = 2020-03-08 12:00:00, number of deaths =  0, number of infected = 215\n",
      "2020-07-10 19:37:20,936 - june.simulator - INFO - Date = 2020-03-09 00:00:00, number of deaths =  0, number of infected = 223\n",
      "2020-07-10 19:37:24,552 - june.simulator - INFO - Date = 2020-03-09 01:00:00, number of deaths =  0, number of infected = 225\n",
      "2020-07-10 19:37:27,506 - june.simulator - INFO - Date = 2020-03-09 05:00:00, number of deaths =  0, number of infected = 239\n",
      "2020-07-10 19:37:30,753 - june.simulator - INFO - Date = 2020-03-09 09:00:00, number of deaths =  0, number of infected = 255\n",
      "2020-07-10 19:37:35,226 - june.simulator - INFO - Date = 2020-03-09 10:00:00, number of deaths =  0, number of infected = 256\n",
      "2020-07-10 19:37:38,841 - june.simulator - INFO - Date = 2020-03-09 13:00:00, number of deaths =  0, number of infected = 263\n",
      "2020-07-10 19:37:43,052 - june.simulator - INFO - Date = 2020-03-10 00:00:00, number of deaths =  0, number of infected = 280\n",
      "2020-07-10 19:37:46,474 - june.simulator - INFO - Date = 2020-03-10 01:00:00, number of deaths =  0, number of infected = 280\n",
      "2020-07-10 19:37:49,132 - june.simulator - INFO - Date = 2020-03-10 05:00:00, number of deaths =  0, number of infected = 303\n",
      "2020-07-10 19:37:51,594 - june.simulator - INFO - Date = 2020-03-10 09:00:00, number of deaths =  0, number of infected = 329\n",
      "2020-07-10 19:37:56,334 - june.simulator - INFO - Date = 2020-03-10 10:00:00, number of deaths =  0, number of infected = 330\n",
      "2020-07-10 19:37:59,515 - june.simulator - INFO - Date = 2020-03-10 13:00:00, number of deaths =  0, number of infected = 334\n",
      "2020-07-10 19:38:03,179 - june.simulator - INFO - Date = 2020-03-11 00:00:00, number of deaths =  0, number of infected = 348\n",
      "2020-07-10 19:38:06,152 - june.simulator - INFO - Date = 2020-03-11 01:00:00, number of deaths =  0, number of infected = 349\n",
      "2020-07-10 19:38:08,575 - june.simulator - INFO - Date = 2020-03-11 05:00:00, number of deaths =  0, number of infected = 374\n",
      "2020-07-10 19:38:10,437 - june.simulator - INFO - Date = 2020-03-11 09:00:00, number of deaths =  0, number of infected = 397\n",
      "2020-07-10 19:38:14,541 - june.simulator - INFO - Date = 2020-03-11 10:00:00, number of deaths =  0, number of infected = 399\n",
      "2020-07-10 19:38:17,298 - june.simulator - INFO - Date = 2020-03-11 13:00:00, number of deaths =  0, number of infected = 415\n",
      "2020-07-10 19:38:20,645 - june.simulator - INFO - Date = 2020-03-12 00:00:00, number of deaths =  0, number of infected = 437\n",
      "2020-07-10 19:38:24,818 - june.simulator - INFO - Date = 2020-03-12 01:00:00, number of deaths =  0, number of infected = 440\n",
      "2020-07-10 19:38:27,547 - june.simulator - INFO - Date = 2020-03-12 05:00:00, number of deaths =  0, number of infected = 487\n",
      "2020-07-10 19:38:29,771 - june.simulator - INFO - Date = 2020-03-12 09:00:00, number of deaths =  0, number of infected = 518\n",
      "2020-07-10 19:38:34,081 - june.simulator - INFO - Date = 2020-03-12 10:00:00, number of deaths =  0, number of infected = 524\n",
      "2020-07-10 19:38:36,618 - june.simulator - INFO - Date = 2020-03-12 13:00:00, number of deaths =  0, number of infected = 569\n",
      "2020-07-10 19:38:39,683 - june.simulator - INFO - Date = 2020-03-13 00:00:00, number of deaths =  0, number of infected = 614\n",
      "2020-07-10 19:38:42,488 - june.simulator - INFO - Date = 2020-03-13 01:00:00, number of deaths =  0, number of infected = 622\n",
      "2020-07-10 19:38:44,804 - june.simulator - INFO - Date = 2020-03-13 05:00:00, number of deaths =  0, number of infected = 671\n",
      "2020-07-10 19:38:46,897 - june.simulator - INFO - Date = 2020-03-13 09:00:00, number of deaths =  0, number of infected = 724\n",
      "2020-07-10 19:38:52,093 - june.simulator - INFO - Date = 2020-03-13 10:00:00, number of deaths =  0, number of infected = 737\n",
      "2020-07-10 19:38:55,868 - june.simulator - INFO - Date = 2020-03-13 13:00:00, number of deaths =  0, number of infected = 754\n",
      "2020-07-10 19:39:00,185 - june.simulator - INFO - Date = 2020-03-14 00:00:00, number of deaths =  0, number of infected = 819\n",
      "2020-07-10 19:39:03,334 - june.simulator - INFO - Date = 2020-03-14 04:00:00, number of deaths =  0, number of infected = 848\n",
      "2020-07-10 19:39:06,823 - june.simulator - INFO - Date = 2020-03-14 08:00:00, number of deaths =  0, number of infected = 878\n",
      "2020-07-10 19:39:09,329 - june.simulator - INFO - Date = 2020-03-14 12:00:00, number of deaths =  0, number of infected = 913\n",
      "2020-07-10 19:39:12,957 - june.simulator - INFO - Date = 2020-03-15 00:00:00, number of deaths =  0, number of infected = 999\n",
      "2020-07-10 19:39:16,469 - june.simulator - INFO - Date = 2020-03-15 04:00:00, number of deaths =  0, number of infected = 1039\n",
      "2020-07-10 19:39:20,451 - june.simulator - INFO - Date = 2020-03-15 08:00:00, number of deaths =  0, number of infected = 1076\n",
      "2020-07-10 19:39:23,798 - june.simulator - INFO - Date = 2020-03-15 12:00:00, number of deaths =  0, number of infected = 1116\n",
      "2020-07-10 19:39:27,187 - june.simulator - INFO - Date = 2020-03-16 00:00:00, number of deaths =  0, number of infected = 1197\n",
      "2020-07-10 19:39:32,062 - june.simulator - INFO - Date = 2020-03-16 01:00:00, number of deaths =  0, number of infected = 1207\n",
      "2020-07-10 19:39:37,567 - june.simulator - INFO - Date = 2020-03-16 05:00:00, number of deaths =  0, number of infected = 1464\n",
      "2020-07-10 19:39:42,388 - june.simulator - INFO - Date = 2020-03-16 09:00:00, number of deaths =  0, number of infected = 1505\n",
      "2020-07-10 19:39:48,787 - june.simulator - INFO - Date = 2020-03-16 10:00:00, number of deaths =  0, number of infected = 1515\n",
      "2020-07-10 19:39:52,663 - june.simulator - INFO - Date = 2020-03-16 13:00:00, number of deaths =  0, number of infected = 1559\n",
      "2020-07-10 19:39:57,992 - june.simulator - INFO - Date = 2020-03-17 00:00:00, number of deaths =  0, number of infected = 1670\n",
      "2020-07-10 19:40:03,175 - june.simulator - INFO - Date = 2020-03-17 01:00:00, number of deaths =  0, number of infected = 1680\n",
      "2020-07-10 19:40:07,593 - june.simulator - INFO - Date = 2020-03-17 05:00:00, number of deaths =  0, number of infected = 1744\n",
      "2020-07-10 19:40:11,349 - june.simulator - INFO - Date = 2020-03-17 09:00:00, number of deaths =  0, number of infected = 1783\n",
      "2020-07-10 19:40:15,582 - june.simulator - INFO - Date = 2020-03-17 10:00:00, number of deaths =  0, number of infected = 1790\n",
      "2020-07-10 19:40:19,856 - june.simulator - INFO - Date = 2020-03-17 13:00:00, number of deaths =  0, number of infected = 1860\n",
      "2020-07-10 19:40:25,194 - june.simulator - INFO - Date = 2020-03-18 00:00:00, number of deaths =  0, number of infected = 2004\n",
      "2020-07-10 19:40:30,242 - june.simulator - INFO - Date = 2020-03-18 01:00:00, number of deaths =  0, number of infected = 2012\n",
      "2020-07-10 19:40:34,514 - june.simulator - INFO - Date = 2020-03-18 05:00:00, number of deaths =  0, number of infected = 2067\n",
      "2020-07-10 19:40:38,156 - june.simulator - INFO - Date = 2020-03-18 09:00:00, number of deaths =  0, number of infected = 2127\n",
      "2020-07-10 19:40:43,617 - june.simulator - INFO - Date = 2020-03-18 10:00:00, number of deaths =  0, number of infected = 2136\n",
      "2020-07-10 19:40:48,346 - june.simulator - INFO - Date = 2020-03-18 13:00:00, number of deaths =  0, number of infected = 2190\n",
      "2020-07-10 19:40:52,587 - june.simulator - INFO - Date = 2020-03-19 00:00:00, number of deaths =  0, number of infected = 2272\n",
      "2020-07-10 19:40:57,505 - june.simulator - INFO - Date = 2020-03-19 01:00:00, number of deaths =  0, number of infected = 2293\n",
      "2020-07-10 19:41:03,037 - june.simulator - INFO - Date = 2020-03-19 05:00:00, number of deaths =  0, number of infected = 2397\n",
      "2020-07-10 19:41:06,348 - june.simulator - INFO - Date = 2020-03-19 09:00:00, number of deaths =  0, number of infected = 2460\n",
      "2020-07-10 19:41:12,317 - june.simulator - INFO - Date = 2020-03-19 10:00:00, number of deaths =  0, number of infected = 2480\n",
      "2020-07-10 19:41:16,282 - june.simulator - INFO - Date = 2020-03-19 13:00:00, number of deaths =  0, number of infected = 2571\n",
      "2020-07-10 19:41:21,899 - june.simulator - INFO - Date = 2020-03-20 00:00:00, number of deaths =  0, number of infected = 2762\n",
      "2020-07-10 19:41:28,538 - june.simulator - INFO - Date = 2020-03-20 01:00:00, number of deaths =  0, number of infected = 2790\n",
      "2020-07-10 19:41:34,939 - june.simulator - INFO - Date = 2020-03-20 05:00:00, number of deaths =  0, number of infected = 2923\n",
      "2020-07-10 19:41:40,136 - june.simulator - INFO - Date = 2020-03-20 09:00:00, number of deaths =  0, number of infected = 3034\n",
      "2020-07-10 19:41:45,866 - june.simulator - INFO - Date = 2020-03-20 10:00:00, number of deaths =  0, number of infected = 3056\n",
      "2020-07-10 19:41:51,946 - june.simulator - INFO - Date = 2020-03-20 13:00:00, number of deaths =  0, number of infected = 3151\n",
      "2020-07-10 19:41:59,735 - june.simulator - INFO - Date = 2020-03-21 00:00:00, number of deaths =  0, number of infected = 3368\n",
      "2020-07-10 19:42:06,834 - june.simulator - INFO - Date = 2020-03-21 04:00:00, number of deaths =  0, number of infected = 3474\n",
      "2020-07-10 19:42:12,947 - june.simulator - INFO - Date = 2020-03-21 08:00:00, number of deaths =  0, number of infected = 3582\n",
      "2020-07-10 19:42:17,854 - june.simulator - INFO - Date = 2020-03-21 12:00:00, number of deaths =  0, number of infected = 3686\n",
      "2020-07-10 19:42:24,216 - june.simulator - INFO - Date = 2020-03-22 00:00:00, number of deaths =  0, number of infected = 3887\n",
      "2020-07-10 19:42:29,122 - june.simulator - INFO - Date = 2020-03-22 04:00:00, number of deaths =  0, number of infected = 3984\n",
      "2020-07-10 19:42:35,092 - june.simulator - INFO - Date = 2020-03-22 08:00:00, number of deaths =  0, number of infected = 4077\n",
      "2020-07-10 19:42:39,843 - june.simulator - INFO - Date = 2020-03-22 12:00:00, number of deaths =  0, number of infected = 4167\n",
      "2020-07-10 19:42:45,156 - june.simulator - INFO - Date = 2020-03-23 00:00:00, number of deaths =  0, number of infected = 4380\n",
      "2020-07-10 19:42:51,508 - june.simulator - INFO - Date = 2020-03-23 01:00:00, number of deaths =  0, number of infected = 4404\n",
      "2020-07-10 19:42:58,182 - june.simulator - INFO - Date = 2020-03-23 05:00:00, number of deaths =  1, number of infected = 4515\n",
      "2020-07-10 19:43:03,355 - june.simulator - INFO - Date = 2020-03-23 09:00:00, number of deaths =  1, number of infected = 4626\n",
      "2020-07-10 19:43:11,169 - june.simulator - INFO - Date = 2020-03-23 10:00:00, number of deaths =  1, number of infected = 4652\n",
      "2020-07-10 19:43:16,524 - june.simulator - INFO - Date = 2020-03-23 13:00:00, number of deaths =  1, number of infected = 4749\n",
      "2020-07-10 19:43:21,546 - june.simulator - INFO - Date = 2020-03-24 00:00:00, number of deaths =  1, number of infected = 4947\n",
      "2020-07-10 19:43:26,799 - june.simulator - INFO - Date = 2020-03-24 01:00:00, number of deaths =  1, number of infected = 4972\n",
      "2020-07-10 19:43:31,953 - june.simulator - INFO - Date = 2020-03-24 05:00:00, number of deaths =  1, number of infected = 5087\n",
      "2020-07-10 19:43:36,878 - june.simulator - INFO - Date = 2020-03-24 09:00:00, number of deaths =  1, number of infected = 5225\n",
      "2020-07-10 19:43:44,200 - june.simulator - INFO - Date = 2020-03-24 10:00:00, number of deaths =  1, number of infected = 5250\n",
      "2020-07-10 19:43:49,534 - june.simulator - INFO - Date = 2020-03-24 13:00:00, number of deaths =  1, number of infected = 5348\n",
      "2020-07-10 19:43:56,062 - june.simulator - INFO - Date = 2020-03-25 00:00:00, number of deaths =  1, number of infected = 5539\n",
      "2020-07-10 19:44:03,485 - june.simulator - INFO - Date = 2020-03-25 01:00:00, number of deaths =  1, number of infected = 5561\n",
      "2020-07-10 19:44:11,068 - june.simulator - INFO - Date = 2020-03-25 05:00:00, number of deaths =  1, number of infected = 5720\n",
      "2020-07-10 19:44:16,969 - june.simulator - INFO - Date = 2020-03-25 09:00:00, number of deaths =  1, number of infected = 5861\n",
      "2020-07-10 19:44:24,817 - june.simulator - INFO - Date = 2020-03-25 10:00:00, number of deaths =  1, number of infected = 5888\n",
      "2020-07-10 19:44:32,019 - june.simulator - INFO - Date = 2020-03-25 13:00:00, number of deaths =  1, number of infected = 5975\n",
      "2020-07-10 19:44:37,603 - june.simulator - INFO - Date = 2020-03-26 00:00:00, number of deaths =  2, number of infected = 6134\n",
      "2020-07-10 19:44:43,800 - june.simulator - INFO - Date = 2020-03-26 01:00:00, number of deaths =  2, number of infected = 6160\n",
      "2020-07-10 19:44:50,228 - june.simulator - INFO - Date = 2020-03-26 05:00:00, number of deaths =  2, number of infected = 6290\n",
      "2020-07-10 19:44:56,545 - june.simulator - INFO - Date = 2020-03-26 09:00:00, number of deaths =  2, number of infected = 6429\n",
      "2020-07-10 19:45:03,297 - june.simulator - INFO - Date = 2020-03-26 10:00:00, number of deaths =  3, number of infected = 6457\n",
      "2020-07-10 19:45:07,900 - june.simulator - INFO - Date = 2020-03-26 13:00:00, number of deaths =  4, number of infected = 6537\n",
      "2020-07-10 19:45:12,737 - june.simulator - INFO - Date = 2020-03-27 00:00:00, number of deaths =  5, number of infected = 6707\n",
      "2020-07-10 19:45:18,401 - june.simulator - INFO - Date = 2020-03-27 01:00:00, number of deaths =  5, number of infected = 6735\n",
      "2020-07-10 19:45:24,937 - june.simulator - INFO - Date = 2020-03-27 05:00:00, number of deaths =  5, number of infected = 6876\n",
      "2020-07-10 19:45:30,879 - june.simulator - INFO - Date = 2020-03-27 09:00:00, number of deaths =  6, number of infected = 7033\n",
      "2020-07-10 19:45:36,920 - june.simulator - INFO - Date = 2020-03-27 10:00:00, number of deaths =  6, number of infected = 7067\n",
      "2020-07-10 19:45:42,407 - june.simulator - INFO - Date = 2020-03-27 13:00:00, number of deaths =  6, number of infected = 7178\n",
      "2020-07-10 19:45:48,111 - june.simulator - INFO - Date = 2020-03-28 00:00:00, number of deaths =  6, number of infected = 7357\n",
      "2020-07-10 19:45:53,773 - june.simulator - INFO - Date = 2020-03-28 04:00:00, number of deaths =  6, number of infected = 7484\n",
      "2020-07-10 19:45:59,952 - june.simulator - INFO - Date = 2020-03-28 08:00:00, number of deaths =  6, number of infected = 7615\n",
      "2020-07-10 19:46:06,398 - june.simulator - INFO - Date = 2020-03-28 12:00:00, number of deaths =  6, number of infected = 7740\n",
      "2020-07-10 19:46:14,656 - june.simulator - INFO - Date = 2020-03-29 00:00:00, number of deaths =  6, number of infected = 7985\n",
      "2020-07-10 19:46:20,381 - june.simulator - INFO - Date = 2020-03-29 04:00:00, number of deaths =  6, number of infected = 8147\n",
      "2020-07-10 19:46:25,784 - june.simulator - INFO - Date = 2020-03-29 08:00:00, number of deaths =  6, number of infected = 8271\n",
      "2020-07-10 19:46:31,683 - june.simulator - INFO - Date = 2020-03-29 12:00:00, number of deaths =  6, number of infected = 8412\n",
      "2020-07-10 19:46:36,418 - june.simulator - INFO - Date = 2020-03-30 00:00:00, number of deaths =  7, number of infected = 8685\n",
      "2020-07-10 19:46:42,875 - june.simulator - INFO - Date = 2020-03-30 01:00:00, number of deaths =  8, number of infected = 8727\n",
      "2020-07-10 19:46:48,790 - june.simulator - INFO - Date = 2020-03-30 05:00:00, number of deaths =  9, number of infected = 8914\n",
      "2020-07-10 19:46:55,505 - june.simulator - INFO - Date = 2020-03-30 09:00:00, number of deaths =  10, number of infected = 9115\n",
      "2020-07-10 19:47:01,938 - june.simulator - INFO - Date = 2020-03-30 10:00:00, number of deaths =  11, number of infected = 9172\n",
      "2020-07-10 19:47:06,934 - june.simulator - INFO - Date = 2020-03-30 13:00:00, number of deaths =  11, number of infected = 9294\n",
      "2020-07-10 19:47:12,428 - june.simulator - INFO - Date = 2020-03-31 00:00:00, number of deaths =  15, number of infected = 9539\n",
      "2020-07-10 19:47:18,066 - june.simulator - INFO - Date = 2020-03-31 01:00:00, number of deaths =  15, number of infected = 9590\n",
      "2020-07-10 19:47:23,544 - june.simulator - INFO - Date = 2020-03-31 05:00:00, number of deaths =  15, number of infected = 9785\n",
      "2020-07-10 19:47:27,744 - june.simulator - INFO - Date = 2020-03-31 09:00:00, number of deaths =  15, number of infected = 9999\n",
      "2020-07-10 19:47:32,590 - june.simulator - INFO - Date = 2020-03-31 10:00:00, number of deaths =  15, number of infected = 10043\n",
      "2020-07-10 19:47:37,621 - june.simulator - INFO - Date = 2020-03-31 13:00:00, number of deaths =  15, number of infected = 10184\n",
      "2020-07-10 19:47:42,744 - june.simulator - INFO - Date = 2020-04-01 00:00:00, number of deaths =  16, number of infected = 10426\n",
      "2020-07-10 19:47:48,568 - june.simulator - INFO - Date = 2020-04-01 01:00:00, number of deaths =  16, number of infected = 10474\n",
      "2020-07-10 19:47:54,708 - june.simulator - INFO - Date = 2020-04-01 05:00:00, number of deaths =  16, number of infected = 10703\n",
      "2020-07-10 19:48:00,227 - june.simulator - INFO - Date = 2020-04-01 09:00:00, number of deaths =  18, number of infected = 10905\n",
      "2020-07-10 19:48:08,157 - june.simulator - INFO - Date = 2020-04-01 10:00:00, number of deaths =  18, number of infected = 10942\n",
      "2020-07-10 19:48:13,109 - june.simulator - INFO - Date = 2020-04-01 13:00:00, number of deaths =  18, number of infected = 11062\n",
      "2020-07-10 19:48:18,343 - june.simulator - INFO - Date = 2020-04-02 00:00:00, number of deaths =  19, number of infected = 11284\n",
      "2020-07-10 19:48:24,955 - june.simulator - INFO - Date = 2020-04-02 01:00:00, number of deaths =  19, number of infected = 11319\n",
      "2020-07-10 19:48:31,682 - june.simulator - INFO - Date = 2020-04-02 05:00:00, number of deaths =  19, number of infected = 11501\n",
      "2020-07-10 19:48:38,876 - june.simulator - INFO - Date = 2020-04-02 09:00:00, number of deaths =  20, number of infected = 11691\n",
      "2020-07-10 19:48:47,227 - june.simulator - INFO - Date = 2020-04-02 10:00:00, number of deaths =  20, number of infected = 11725\n",
      "2020-07-10 19:48:52,636 - june.simulator - INFO - Date = 2020-04-02 13:00:00, number of deaths =  20, number of infected = 11855\n",
      "2020-07-10 19:48:57,952 - june.simulator - INFO - Date = 2020-04-03 00:00:00, number of deaths =  22, number of infected = 12149\n",
      "2020-07-10 19:49:04,426 - june.simulator - INFO - Date = 2020-04-03 01:00:00, number of deaths =  22, number of infected = 12187\n",
      "2020-07-10 19:49:10,989 - june.simulator - INFO - Date = 2020-04-03 05:00:00, number of deaths =  22, number of infected = 12386\n",
      "2020-07-10 19:49:16,815 - june.simulator - INFO - Date = 2020-04-03 09:00:00, number of deaths =  22, number of infected = 12621\n",
      "2020-07-10 19:49:23,841 - june.simulator - INFO - Date = 2020-04-03 10:00:00, number of deaths =  22, number of infected = 12670\n",
      "2020-07-10 19:49:28,232 - june.simulator - INFO - Date = 2020-04-03 13:00:00, number of deaths =  22, number of infected = 12816\n",
      "2020-07-10 19:49:34,243 - june.simulator - INFO - Date = 2020-04-04 00:00:00, number of deaths =  23, number of infected = 13095\n",
      "2020-07-10 19:49:40,523 - june.simulator - INFO - Date = 2020-04-04 04:00:00, number of deaths =  23, number of infected = 13263\n",
      "2020-07-10 19:49:45,887 - june.simulator - INFO - Date = 2020-04-04 08:00:00, number of deaths =  24, number of infected = 13467\n",
      "2020-07-10 19:49:51,364 - june.simulator - INFO - Date = 2020-04-04 12:00:00, number of deaths =  24, number of infected = 13661\n",
      "2020-07-10 19:49:57,664 - june.simulator - INFO - Date = 2020-04-05 00:00:00, number of deaths =  26, number of infected = 13956\n",
      "2020-07-10 19:50:04,654 - june.simulator - INFO - Date = 2020-04-05 04:00:00, number of deaths =  26, number of infected = 14157\n",
      "2020-07-10 19:50:11,817 - june.simulator - INFO - Date = 2020-04-05 08:00:00, number of deaths =  26, number of infected = 14344\n",
      "2020-07-10 19:50:17,645 - june.simulator - INFO - Date = 2020-04-05 12:00:00, number of deaths =  26, number of infected = 14526\n"
     ]
    }
   ],
   "source": [
    "%%time\n",
    "simulator.run()"
   ]
  },
  {
   "cell_type": "markdown",
   "metadata": {},
   "source": [
    "While the simulation runs (and afterwards) we can launch the visualization webpage by running\n",
    "```python june/visualizer.py path/to/results``` "
   ]
  },
  {
   "cell_type": "markdown",
   "metadata": {},
   "source": [
    "# Getting the results"
   ]
  },
  {
   "cell_type": "markdown",
   "metadata": {},
   "source": [
    "All results are stored in a json file specified in the ``save_path`` variable in the config file. We can also access it from ``world.logger`` directly."
   ]
  },
  {
   "cell_type": "code",
   "execution_count": null,
   "metadata": {},
   "outputs": [],
   "source": [
    "import pandas as pd"
   ]
  },
  {
   "cell_type": "code",
   "execution_count": null,
   "metadata": {},
   "outputs": [],
   "source": [
    "read = ReadLogger()"
   ]
  },
  {
   "cell_type": "code",
   "execution_count": null,
   "metadata": {},
   "outputs": [],
   "source": []
  },
  {
   "cell_type": "markdown",
   "metadata": {},
   "source": [
    "## Hospital data and how it changed over time"
   ]
  },
  {
   "cell_type": "code",
   "execution_count": null,
   "metadata": {},
   "outputs": [],
   "source": [
    "hospitals_df = read.load_hospital_capacity()"
   ]
  },
  {
   "cell_type": "code",
   "execution_count": null,
   "metadata": {},
   "outputs": [],
   "source": [
    "hospitals_df.head(3)"
   ]
  },
  {
   "cell_type": "code",
   "execution_count": null,
   "metadata": {},
   "outputs": [],
   "source": [
    "hospitals_characteristics_df = read.load_hospital_characteristics()"
   ]
  },
  {
   "cell_type": "code",
   "execution_count": null,
   "metadata": {},
   "outputs": [],
   "source": [
    "hospitals_characteristics_df"
   ]
  },
  {
   "cell_type": "markdown",
   "metadata": {},
   "source": [
    "## where did infections happen?"
   ]
  },
  {
   "cell_type": "code",
   "execution_count": null,
   "metadata": {},
   "outputs": [],
   "source": [
    "loc_df = read.get_locations_infections()"
   ]
  },
  {
   "cell_type": "code",
   "execution_count": null,
   "metadata": {},
   "outputs": [],
   "source": [
    "locations_per_day = read.locations_df.groupby(pd.Grouper(freq='D')).sum()"
   ]
  },
  {
   "cell_type": "code",
   "execution_count": null,
   "metadata": {},
   "outputs": [],
   "source": [
    "all_infection_places = set(locations_per_day.location.sum())"
   ]
  },
  {
   "cell_type": "code",
   "execution_count": null,
   "metadata": {},
   "outputs": [],
   "source": [
    "def n_infections(row, infection_place):\n",
    "    return sum([row.counts[i] for i, x in enumerate(row.location) if x == infection_place])\n"
   ]
  },
  {
   "cell_type": "code",
   "execution_count": null,
   "metadata": {},
   "outputs": [],
   "source": [
    "for infection_place in all_infection_places:\n",
    "    locations_per_day[str(infection_place)] = locations_per_day.apply(\n",
    "        lambda x: n_infections(x, infection_place),\n",
    "        axis=1\n",
    "    )"
   ]
  },
  {
   "cell_type": "code",
   "execution_count": null,
   "metadata": {},
   "outputs": [],
   "source": [
    "locations_per_day = locations_per_day.drop(columns=['location',\n",
    "                                                    'counts'])"
   ]
  },
  {
   "cell_type": "code",
   "execution_count": null,
   "metadata": {},
   "outputs": [],
   "source": [
    "locations_per_day = locations_per_day.div(\n",
    "    locations_per_day.sum(axis=1), axis=0\n",
    ")\n"
   ]
  },
  {
   "cell_type": "code",
   "execution_count": null,
   "metadata": {},
   "outputs": [],
   "source": [
    "locations_per_day.plot.area( alpha=0.5)\n",
    "plt.legend(bbox_to_anchor=(1,1))\n",
    "plt.ylabel('Percent of infections')"
   ]
  },
  {
   "cell_type": "code",
   "execution_count": null,
   "metadata": {},
   "outputs": [],
   "source": [
    "from matplotlib import cm\n",
    "cmap = cm.get_cmap('Spectral') # Colour map (there are many others)\n",
    "\n",
    "locations_per_day.plot(figsize=(30,8), logy=True, ylim=(1e-3, 1), cmap=cmap)"
   ]
  },
  {
   "cell_type": "code",
   "execution_count": null,
   "metadata": {},
   "outputs": [],
   "source": [
    "import matplotlib.ticker as mtick\n",
    "\n",
    "ax = loc_df['percentage_infections'].sort_values().plot.bar()\n",
    "ax.yaxis.set_major_formatter(mtick.PercentFormatter())\n",
    "plt.ylabel('Percentage of infections at location')\n",
    "plt.xlabel('location')\n",
    "#plt.yscale('log')"
   ]
  },
  {
   "cell_type": "markdown",
   "metadata": {},
   "source": [
    "## rate of infection"
   ]
  },
  {
   "cell_type": "code",
   "execution_count": null,
   "metadata": {},
   "outputs": [],
   "source": [
    "r_df = read.get_r()"
   ]
  },
  {
   "cell_type": "code",
   "execution_count": null,
   "metadata": {},
   "outputs": [],
   "source": [
    "r_df.plot()\n",
    "plt.axvspan(policies.social_distancing_start, \n",
    "            policies.social_distancing_end,\n",
    "            facecolor='y', alpha=0.2)\n",
    "plt.axhline(y=1, linestyle='dashed', color='gray')\n",
    "plt.xlabel('Date')\n",
    "plt.yscale('log')\n",
    "plt.ylabel('R')"
   ]
  },
  {
   "cell_type": "markdown",
   "metadata": {},
   "source": [
    "## World infection curves, and by super area"
   ]
  },
  {
   "cell_type": "code",
   "execution_count": null,
   "metadata": {},
   "outputs": [],
   "source": [
    "world_df = read.world_summary()"
   ]
  },
  {
   "cell_type": "code",
   "execution_count": null,
   "metadata": {},
   "outputs": [],
   "source": [
    "fig, ax = plt.subplots()\n",
    "world_df['infected'].plot(ax=ax)\n",
    "ax.axvspan(policies.social_distancing_start, \n",
    "            policies.social_distancing_end,\n",
    "            facecolor='y', alpha=0.2)\n",
    "ax.set_ylabel('# Infected')"
   ]
  },
  {
   "cell_type": "code",
   "execution_count": null,
   "metadata": {},
   "outputs": [],
   "source": [
    "world_df.plot()\n",
    "plt.axvspan(policies.social_distancing_start, \n",
    "            policies.social_distancing_end,\n",
    "            facecolor='y', alpha=0.2)\n",
    "plt.legend(bbox_to_anchor=(1,1))\n"
   ]
  },
  {
   "cell_type": "code",
   "execution_count": null,
   "metadata": {},
   "outputs": [],
   "source": [
    "area_df = read.super_area_summary()"
   ]
  },
  {
   "cell_type": "code",
   "execution_count": null,
   "metadata": {},
   "outputs": [],
   "source": [
    "area_df[area_df.super_area == \"E02003282\"].plot()\n",
    "plt.legend(bbox_to_anchor=(1,1))\n",
    "\n"
   ]
  },
  {
   "cell_type": "markdown",
   "metadata": {},
   "source": [
    "## World infection curves per age group"
   ]
  },
  {
   "cell_type": "code",
   "execution_count": null,
   "metadata": {},
   "outputs": [],
   "source": [
    "ages_df = read.age_summary([0,10,20,30,40,\n",
    "                  50,60,70,80,90,100])"
   ]
  },
  {
   "cell_type": "code",
   "execution_count": null,
   "metadata": {},
   "outputs": [],
   "source": [
    "for name, group in ages_df.groupby('age_range'):\n",
    "    group['infected'].plot(label=name)\n",
    "plt.axvspan(policies.social_distancing_start, \n",
    "            policies.social_distancing_end,\n",
    "            facecolor='y', alpha=0.2)\n",
    "plt.legend(bbox_to_anchor=(1,1))\n"
   ]
  },
  {
   "cell_type": "code",
   "execution_count": null,
   "metadata": {},
   "outputs": [],
   "source": [
    "for name, group in ages_df.groupby('age_range'):\n",
    "    group['dead'].cumsum().plot(label=name)\n",
    "plt.legend()"
   ]
  },
  {
   "cell_type": "code",
   "execution_count": null,
   "metadata": {},
   "outputs": [],
   "source": [
    "for name, group in ages_df.groupby('age_range'):\n",
    "    group['susceptible'].plot(label=name)\n",
    "plt.legend()"
   ]
  },
  {
   "cell_type": "code",
   "execution_count": null,
   "metadata": {},
   "outputs": [],
   "source": [
    "for name, group in ages_df.groupby('age_range'):\n",
    "    group['hospital_admissions'].cumsum().plot(label=name)\n",
    "plt.legend()"
   ]
  },
  {
   "cell_type": "code",
   "execution_count": null,
   "metadata": {},
   "outputs": [],
   "source": [
    "for name, group in ages_df.groupby('age_range'):\n",
    "    group['intensive_care_admissions'].cumsum().plot(label=name)\n",
    "plt.legend()"
   ]
  },
  {
   "cell_type": "markdown",
   "metadata": {},
   "source": [
    "## Draw some of the symptoms trajectories"
   ]
  },
  {
   "cell_type": "code",
   "execution_count": null,
   "metadata": {},
   "outputs": [],
   "source": [
    "random_trajectories = read.draw_symptom_trajectories(window_length=600,\n",
    "                                        n_people=10)"
   ]
  },
  {
   "cell_type": "code",
   "execution_count": null,
   "metadata": {},
   "outputs": [],
   "source": [
    "from june.infection import SymptomTag"
   ]
  },
  {
   "cell_type": "code",
   "execution_count": null,
   "metadata": {},
   "outputs": [],
   "source": [
    "symptoms_values = [tag.value for tag in SymptomTag]\n",
    "symptoms_names = [tag.name for tag in SymptomTag]\n"
   ]
  },
  {
   "cell_type": "code",
   "execution_count": null,
   "metadata": {},
   "outputs": [],
   "source": [
    "for df_person in random_trajectories:\n",
    "    df_person['symptoms'].plot()\n",
    "plt.ylabel('Symptoms Trajectory')\n",
    "_ = plt.yticks(symptoms_values, symptoms_names)\n",
    "plt.xlabel('Date')"
   ]
  },
  {
   "cell_type": "code",
   "execution_count": null,
   "metadata": {},
   "outputs": [],
   "source": [
    "for df_person in random_trajectories:\n",
    "    df_person['n_secondary_infections'].plot()\n",
    "plt.ylabel('Number of secondary infections')\n",
    "\n",
    "plt.xlabel('Date')"
   ]
  },
  {
   "cell_type": "code",
   "execution_count": null,
   "metadata": {},
   "outputs": [],
   "source": []
  },
  {
   "cell_type": "code",
   "execution_count": null,
   "metadata": {},
   "outputs": [],
   "source": []
  },
  {
   "cell_type": "code",
   "execution_count": null,
   "metadata": {},
   "outputs": [],
   "source": []
  },
  {
   "cell_type": "code",
   "execution_count": null,
   "metadata": {},
   "outputs": [],
   "source": []
  }
 ],
 "metadata": {
  "kernelspec": {
   "display_name": "Python 3",
   "language": "python",
   "name": "python3"
  },
  "language_info": {
   "codemirror_mode": {
    "name": "ipython",
    "version": 3
   },
   "file_extension": ".py",
   "mimetype": "text/x-python",
   "name": "python",
   "nbconvert_exporter": "python",
   "pygments_lexer": "ipython3",
   "version": "3.8.3"
  }
 },
 "nbformat": 4,
 "nbformat_minor": 4
}
