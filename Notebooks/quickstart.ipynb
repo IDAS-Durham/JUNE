{
 "cells": [
  {
   "cell_type": "code",
   "execution_count": 1,
   "metadata": {},
   "outputs": [],
   "source": [
    "%load_ext autoreload\n",
    "%autoreload 2"
   ]
  },
  {
   "cell_type": "code",
   "execution_count": 2,
   "metadata": {},
   "outputs": [],
   "source": [
    "import numpy as np\n",
    "import time\n",
    "from datetime import datetime\n",
    "import matplotlib.pyplot as plt\n",
    "import seaborn as sns\n",
    "sns.set_context('notebook')"
   ]
  },
  {
   "cell_type": "code",
   "execution_count": 3,
   "metadata": {},
   "outputs": [
    {
     "name": "stderr",
     "output_type": "stream",
     "text": [
      "No --data argument given - defaulting to:\n",
      "/home/arnau/code/JUNE/data\n",
      "No --configs argument given - defaulting to:\n",
      "/home/arnau/code/JUNE/configs\n"
     ]
    }
   ],
   "source": [
    "from june import World \n",
    "from june.demography.geography import Geography\n",
    "from june.demography import Demography\n",
    "from june.interaction import ContactAveraging\n",
    "from june.infection import Infection\n",
    "from june.infection.transmission import TransmissionConstant\n",
    "from june.groups import Hospitals, Schools, Companies, Households, CareHomes, Cemeteries, Universities\n",
    "from june.groups.leisure import leisure, Cinemas, Pubs, Groceries\n",
    "from june.simulator import Simulator\n",
    "from june.seed import Seed\n",
    "from june.policy import Policy, Policies\n",
    "from june import paths\n",
    "from june.hdf5_savers import load_geography_from_hdf5\n",
    "from june.logger.read_logger import ReadLogger\n",
    "from june.infection.infection import InfectionSelector\n",
    "from june.world import generate_world_from_hdf5, generate_world_from_geography"
   ]
  },
  {
   "cell_type": "markdown",
   "metadata": {},
   "source": [
    "# Initialize world\n",
    "\n",
    "To initialize a certain world, we need to add the different components we want to have in it. First we specify what super areas (msoa) we want to create. We have included these ones, because they are known to contain hospitals, schools, care homes, and companies.\n",
    "\n",
    "After creating the geography, we create the different components the worlds need to have such as care homes, companies ..."
   ]
  },
  {
   "cell_type": "code",
   "execution_count": 4,
   "metadata": {},
   "outputs": [
    {
     "name": "stdout",
     "output_type": "stream",
     "text": [
      "2020-06-27 01:04:50,595 - june.demography.geography - INFO - There are 129 areas and 5 super_areas in the world.\n",
      "2020-06-27 01:04:50,599 - june.groups.hospital - INFO - There are 1 hospitals in this geography.\n",
      "2020-06-27 01:04:50,646 - june.groups.school - INFO - There are 19 schools in this geography.\n",
      "2020-06-27 01:04:50,669 - june.groups.school - INFO - No school for the age 0 in this world.\n",
      "2020-06-27 01:04:50,672 - june.groups.school - INFO - No school for the age 1 in this world.\n",
      "2020-06-27 01:04:50,675 - june.groups.school - INFO - No school for the age 2 in this world.\n",
      "2020-06-27 01:04:50,912 - june.groups.carehome - INFO - There are 9 care_homes in this geography.\n",
      "2020-06-27 01:05:00,095 - june.distributors.worker_distributor - INFO - There are 0 who had to be told to stay real\n",
      "CPU times: user 31.8 s, sys: 1.18 s, total: 33 s\n",
      "Wall time: 33 s\n"
     ]
    }
   ],
   "source": [
    "%%time \n",
    "\n",
    "geography = Geography.from_file(\n",
    "        {\n",
    "            \"super_area\": [\n",
    "                \"E02003282\",\n",
    "                \"E02001720\",\n",
    "                \"E00088544\",\n",
    "                \"E02002560\",\n",
    "                \"E02002559\",\n",
    "                \"E02004314\",\n",
    "            ]\n",
    "        }\n",
    ")\n",
    "\n",
    "geography.hospitals = Hospitals.for_geography(geography)\n",
    "geography.schools = Schools.for_geography(geography)\n",
    "geography.companies = Companies.for_geography(geography)\n",
    "geography.care_homes = CareHomes.for_geography(geography)\n",
    "geography.universities = Universities.for_super_areas(geography.super_areas)\n",
    "world = generate_world_from_geography(geography, include_households=True, include_commute=True)\n"
   ]
  },
  {
   "cell_type": "code",
   "execution_count": 5,
   "metadata": {},
   "outputs": [
    {
     "data": {
      "text/plain": [
       "46784"
      ]
     },
     "execution_count": 5,
     "metadata": {},
     "output_type": "execute_result"
    }
   ],
   "source": [
    "len(world.people)"
   ]
  },
  {
   "cell_type": "markdown",
   "metadata": {},
   "source": [
    "### If it took a long time to run the previous command, it might be a good idea to save the world to reuse it later."
   ]
  },
  {
   "cell_type": "code",
   "execution_count": 6,
   "metadata": {},
   "outputs": [],
   "source": [
    "#world.to_hdf5(\"world.hdf5\")"
   ]
  },
  {
   "cell_type": "markdown",
   "metadata": {},
   "source": [
    "If we would like to load the world we saved, we just do"
   ]
  },
  {
   "cell_type": "code",
   "execution_count": 7,
   "metadata": {},
   "outputs": [],
   "source": [
    "#world = generate_world_from_hdf5(\"world.hdf5\")"
   ]
  },
  {
   "cell_type": "markdown",
   "metadata": {},
   "source": [
    "you have now a beautiful pre-pandemic world. "
   ]
  },
  {
   "cell_type": "markdown",
   "metadata": {},
   "source": [
    "## Commute, travel and leisure"
   ]
  },
  {
   "cell_type": "markdown",
   "metadata": {},
   "source": [
    "We can add cinemas, pubs, groceries, etc. as well as commute in major cities with"
   ]
  },
  {
   "cell_type": "code",
   "execution_count": 8,
   "metadata": {},
   "outputs": [],
   "source": [
    "# leisure\n",
    "geography = load_geography_from_hdf5(\"world.hdf5\")\n",
    "world.cinemas = Cinemas.for_geography(geography)\n",
    "world.pubs = Pubs.for_geography(geography)\n",
    "world.groceries = Groceries.for_super_areas(world.super_areas,\n",
    "                                            venues_per_capita=1/500)"
   ]
  },
  {
   "cell_type": "markdown",
   "metadata": {},
   "source": [
    "We are also going to need some cemeteries...geography.cemeteries = Cemeteries()\n"
   ]
  },
  {
   "cell_type": "code",
   "execution_count": 9,
   "metadata": {},
   "outputs": [],
   "source": [
    "world.cemeteries = Cemeteries()"
   ]
  },
  {
   "cell_type": "markdown",
   "metadata": {},
   "source": [
    "# Adding the infection"
   ]
  },
  {
   "cell_type": "markdown",
   "metadata": {},
   "source": [
    "Now, you can play around with different models of infections. The building blocks for an infection are: Transmission and Symptoms. For now, only SymptomsConstant and TransmissionConstant are in a state to be used."
   ]
  },
  {
   "cell_type": "code",
   "execution_count": 10,
   "metadata": {},
   "outputs": [],
   "source": [
    "selector = InfectionSelector.from_file()"
   ]
  },
  {
   "cell_type": "markdown",
   "metadata": {},
   "source": [
    "# Adding the interaction"
   ]
  },
  {
   "cell_type": "code",
   "execution_count": 11,
   "metadata": {},
   "outputs": [],
   "source": [
    "interaction = ContactAveraging.from_file(selector=selector)"
   ]
  },
  {
   "cell_type": "markdown",
   "metadata": {},
   "source": [
    "Beta are the intensities of the interaction taking place at the different groups"
   ]
  },
  {
   "cell_type": "code",
   "execution_count": 12,
   "metadata": {},
   "outputs": [
    {
     "data": {
      "text/plain": [
       "{'box': 1,\n",
       " 'pub': 0.1,\n",
       " 'grocery': 0.1,\n",
       " 'cinema': 0.1,\n",
       " 'commute_unit': 1.0,\n",
       " 'commute_city_unit': 1.0,\n",
       " 'hospital': 1.0,\n",
       " 'care_home': 1.0,\n",
       " 'company': 0.1,\n",
       " 'school': 0.1,\n",
       " 'household': 0.2,\n",
       " 'university': 0.01}"
      ]
     },
     "execution_count": 12,
     "metadata": {},
     "output_type": "execute_result"
    }
   ],
   "source": [
    "interaction.beta"
   ]
  },
  {
   "cell_type": "markdown",
   "metadata": {},
   "source": [
    "to modify these, simply do"
   ]
  },
  {
   "cell_type": "code",
   "execution_count": 13,
   "metadata": {},
   "outputs": [],
   "source": [
    "interaction.beta['household'] *= 2"
   ]
  },
  {
   "cell_type": "code",
   "execution_count": 14,
   "metadata": {},
   "outputs": [
    {
     "data": {
      "text/plain": [
       "{'box': 1,\n",
       " 'pub': 0.1,\n",
       " 'grocery': 0.1,\n",
       " 'cinema': 0.1,\n",
       " 'commute_unit': 1.0,\n",
       " 'commute_city_unit': 1.0,\n",
       " 'hospital': 1.0,\n",
       " 'care_home': 1.0,\n",
       " 'company': 0.1,\n",
       " 'school': 0.1,\n",
       " 'household': 0.4,\n",
       " 'university': 0.01}"
      ]
     },
     "execution_count": 14,
     "metadata": {},
     "output_type": "execute_result"
    }
   ],
   "source": [
    "interaction.beta"
   ]
  },
  {
   "cell_type": "markdown",
   "metadata": {},
   "source": [
    "moreover this interaction module uses contact matrices, that are different for different groups. These contact matrices shouldnt be modified for now. However they are a combination of conversational contact matrices, and physical contact matrices (see the BBC pandemic paper, from where these matrices are extracted https://www.medrxiv.org/content/10.1101/2020.02.16.20023754v2)\n",
    "\n",
    "There is a parameter, ``alpha`` ($\\alpha$), that combines these two matrices in the following way,\n",
    "\n",
    "\n",
    "$\\beta M \\left(1 + (\\alpha -1) \\right) P$\n",
    "\n",
    "where $\\beta$ is the intensity of the interaction, and $P$ the physical contact matrix. A larger $\\alpha$ produces more physical contacts. It is an overall number, non dependent of the particular group.\n"
   ]
  },
  {
   "cell_type": "code",
   "execution_count": 15,
   "metadata": {},
   "outputs": [
    {
     "data": {
      "text/plain": [
       "2.0"
      ]
     },
     "execution_count": 15,
     "metadata": {},
     "output_type": "execute_result"
    }
   ],
   "source": [
    "interaction.alpha_physical"
   ]
  },
  {
   "cell_type": "code",
   "execution_count": 16,
   "metadata": {},
   "outputs": [],
   "source": [
    "interaction.alpha_physical /= 2"
   ]
  },
  {
   "cell_type": "code",
   "execution_count": 17,
   "metadata": {},
   "outputs": [
    {
     "data": {
      "text/plain": [
       "1.0"
      ]
     },
     "execution_count": 17,
     "metadata": {},
     "output_type": "execute_result"
    }
   ],
   "source": [
    "interaction.alpha_physical"
   ]
  },
  {
   "cell_type": "markdown",
   "metadata": {},
   "source": [
    "# Seed the disease"
   ]
  },
  {
   "cell_type": "markdown",
   "metadata": {},
   "source": [
    "There are two options implemented in the seed at the moment, either you specify the number of cases and these are then homogeneously distributed by population to the different areas, or you use UK data on cases per region. For now use the first case."
   ]
  },
  {
   "cell_type": "code",
   "execution_count": 18,
   "metadata": {},
   "outputs": [],
   "source": [
    "seed = Seed(world.super_areas, selector,)"
   ]
  },
  {
   "cell_type": "code",
   "execution_count": 19,
   "metadata": {},
   "outputs": [],
   "source": [
    "n_cases = 50\n",
    "seed.unleash_virus(n_cases) # play around with the initial number of cases"
   ]
  },
  {
   "cell_type": "markdown",
   "metadata": {},
   "source": [
    "# Set policies"
   ]
  },
  {
   "cell_type": "code",
   "execution_count": 21,
   "metadata": {},
   "outputs": [],
   "source": [
    "policies = Policies.from_file()"
   ]
  },
  {
   "cell_type": "markdown",
   "metadata": {},
   "source": [
    "# Run the simulation"
   ]
  },
  {
   "cell_type": "markdown",
   "metadata": {},
   "source": [
    "Since the timer configuration is a bit cumbersome, it is read from the config file at ``configs/config_example.yaml``"
   ]
  },
  {
   "cell_type": "code",
   "execution_count": 22,
   "metadata": {},
   "outputs": [],
   "source": [
    "CONFIG_PATH = \"../configs/config_example.yaml\"\n",
    "\n",
    "leisure_instance = leisure.generate_leisure_for_config(\n",
    "world=world, config_filename = CONFIG_PATH\n",
    ")\n",
    "simulator = Simulator.from_file(\n",
    "     world, interaction, selector, \n",
    "    config_filename = CONFIG_PATH,\n",
    "    leisure = leisure_instance,\n",
    "    policies = policies\n",
    ")"
   ]
  },
  {
   "cell_type": "code",
   "execution_count": 23,
   "metadata": {
    "scrolled": true
   },
   "outputs": [
    {
     "name": "stdout",
     "output_type": "stream",
     "text": [
      "2020-06-27 01:06:04,935 - june.simulator - INFO - Starting group_dynamics for 200 days at day 0\n",
      "2020-06-27 01:06:04,936 - june.simulator - INFO - starting the loop ..., at 0 days, to run for 200 days\n",
      "2020-06-27 01:06:06,093 - june.simulator - INFO - Date = 2020-03-07 04:00:00, number of deaths =  0, number of infected = 50\n",
      "2020-06-27 01:06:06,875 - june.simulator - INFO - Date = 2020-03-07 08:00:00, number of deaths =  0, number of infected = 50\n",
      "2020-06-27 01:06:07,299 - june.simulator - INFO - Date = 2020-03-07 12:00:00, number of deaths =  0, number of infected = 50\n",
      "2020-06-27 01:06:07,989 - june.simulator - INFO - Date = 2020-03-08 00:00:00, number of deaths =  0, number of infected = 50\n",
      "2020-06-27 01:06:08,596 - june.simulator - INFO - Date = 2020-03-08 04:00:00, number of deaths =  0, number of infected = 50\n",
      "2020-06-27 01:06:09,216 - june.simulator - INFO - Date = 2020-03-08 08:00:00, number of deaths =  0, number of infected = 50\n",
      "2020-06-27 01:06:09,605 - june.simulator - INFO - Date = 2020-03-08 12:00:00, number of deaths =  0, number of infected = 50\n",
      "2020-06-27 01:06:10,084 - june.simulator - INFO - Date = 2020-03-09 00:00:00, number of deaths =  0, number of infected = 50\n",
      "2020-06-27 01:06:10,568 - june.simulator - INFO - Date = 2020-03-09 01:00:00, number of deaths =  0, number of infected = 50\n",
      "2020-06-27 01:06:10,947 - june.simulator - INFO - Date = 2020-03-09 05:00:00, number of deaths =  0, number of infected = 50\n",
      "2020-06-27 01:06:11,294 - june.simulator - INFO - Date = 2020-03-09 09:00:00, number of deaths =  0, number of infected = 50\n",
      "2020-06-27 01:06:11,906 - june.simulator - INFO - Date = 2020-03-09 10:00:00, number of deaths =  0, number of infected = 50\n",
      "2020-06-27 01:06:12,331 - june.simulator - INFO - Date = 2020-03-09 13:00:00, number of deaths =  0, number of infected = 50\n",
      "2020-06-27 01:06:12,779 - june.simulator - INFO - Date = 2020-03-10 00:00:00, number of deaths =  0, number of infected = 50\n",
      "2020-06-27 01:06:13,282 - june.simulator - INFO - Date = 2020-03-10 01:00:00, number of deaths =  0, number of infected = 50\n",
      "2020-06-27 01:06:13,671 - june.simulator - INFO - Date = 2020-03-10 05:00:00, number of deaths =  0, number of infected = 50\n",
      "2020-06-27 01:06:14,038 - june.simulator - INFO - Date = 2020-03-10 09:00:00, number of deaths =  0, number of infected = 50\n",
      "2020-06-27 01:06:14,666 - june.simulator - INFO - Date = 2020-03-10 10:00:00, number of deaths =  0, number of infected = 50\n",
      "2020-06-27 01:06:15,099 - june.simulator - INFO - Date = 2020-03-10 13:00:00, number of deaths =  0, number of infected = 50\n",
      "2020-06-27 01:06:15,579 - june.simulator - INFO - Date = 2020-03-11 00:00:00, number of deaths =  0, number of infected = 50\n",
      "2020-06-27 01:06:16,091 - june.simulator - INFO - Date = 2020-03-11 01:00:00, number of deaths =  0, number of infected = 50\n",
      "2020-06-27 01:06:16,469 - june.simulator - INFO - Date = 2020-03-11 05:00:00, number of deaths =  0, number of infected = 53\n",
      "2020-06-27 01:06:16,836 - june.simulator - INFO - Date = 2020-03-11 09:00:00, number of deaths =  0, number of infected = 54\n",
      "2020-06-27 01:06:17,442 - june.simulator - INFO - Date = 2020-03-11 10:00:00, number of deaths =  0, number of infected = 57\n",
      "2020-06-27 01:06:17,860 - june.simulator - INFO - Date = 2020-03-11 13:00:00, number of deaths =  0, number of infected = 62\n",
      "2020-06-27 01:06:18,338 - june.simulator - INFO - Date = 2020-03-12 00:00:00, number of deaths =  0, number of infected = 78\n",
      "2020-06-27 01:06:18,902 - june.simulator - INFO - Date = 2020-03-12 01:00:00, number of deaths =  0, number of infected = 82\n",
      "2020-06-27 01:06:19,291 - june.simulator - INFO - Date = 2020-03-12 05:00:00, number of deaths =  0, number of infected = 84\n",
      "2020-06-27 01:06:19,658 - june.simulator - INFO - Date = 2020-03-12 09:00:00, number of deaths =  0, number of infected = 90\n",
      "2020-06-27 01:06:20,298 - june.simulator - INFO - Date = 2020-03-12 10:00:00, number of deaths =  0, number of infected = 96\n",
      "2020-06-27 01:06:20,724 - june.simulator - INFO - Date = 2020-03-12 13:00:00, number of deaths =  0, number of infected = 103\n",
      "2020-06-27 01:06:21,242 - june.simulator - INFO - Date = 2020-03-13 00:00:00, number of deaths =  0, number of infected = 127\n",
      "2020-06-27 01:06:21,797 - june.simulator - INFO - Date = 2020-03-13 01:00:00, number of deaths =  0, number of infected = 129\n",
      "2020-06-27 01:06:22,172 - june.simulator - INFO - Date = 2020-03-13 05:00:00, number of deaths =  0, number of infected = 132\n",
      "2020-06-27 01:06:22,530 - june.simulator - INFO - Date = 2020-03-13 09:00:00, number of deaths =  0, number of infected = 138\n",
      "2020-06-27 01:06:23,215 - june.simulator - INFO - Date = 2020-03-13 10:00:00, number of deaths =  0, number of infected = 144\n",
      "2020-06-27 01:06:23,628 - june.simulator - INFO - Date = 2020-03-13 13:00:00, number of deaths =  0, number of infected = 151\n",
      "2020-06-27 01:06:24,336 - june.simulator - INFO - Date = 2020-03-14 00:00:00, number of deaths =  0, number of infected = 166\n",
      "2020-06-27 01:06:24,906 - june.simulator - INFO - Date = 2020-03-14 04:00:00, number of deaths =  0, number of infected = 172\n",
      "2020-06-27 01:06:25,544 - june.simulator - INFO - Date = 2020-03-14 08:00:00, number of deaths =  0, number of infected = 182\n",
      "2020-06-27 01:06:25,986 - june.simulator - INFO - Date = 2020-03-14 12:00:00, number of deaths =  0, number of infected = 186\n",
      "2020-06-27 01:06:26,700 - june.simulator - INFO - Date = 2020-03-15 00:00:00, number of deaths =  0, number of infected = 206\n",
      "2020-06-27 01:06:27,322 - june.simulator - INFO - Date = 2020-03-15 04:00:00, number of deaths =  0, number of infected = 215\n",
      "2020-06-27 01:06:27,922 - june.simulator - INFO - Date = 2020-03-15 08:00:00, number of deaths =  0, number of infected = 222\n",
      "2020-06-27 01:06:28,335 - june.simulator - INFO - Date = 2020-03-15 12:00:00, number of deaths =  0, number of infected = 241\n",
      "2020-06-27 01:06:28,882 - june.simulator - INFO - Date = 2020-03-16 00:00:00, number of deaths =  0, number of infected = 256\n",
      "2020-06-27 01:06:29,407 - june.simulator - INFO - Date = 2020-03-16 01:00:00, number of deaths =  0, number of infected = 261\n",
      "2020-06-27 01:06:29,838 - june.simulator - INFO - Date = 2020-03-16 05:00:00, number of deaths =  0, number of infected = 504\n",
      "2020-06-27 01:06:30,213 - june.simulator - INFO - Date = 2020-03-16 09:00:00, number of deaths =  0, number of infected = 509\n",
      "2020-06-27 01:06:30,862 - june.simulator - INFO - Date = 2020-03-16 10:00:00, number of deaths =  0, number of infected = 515\n",
      "2020-06-27 01:06:31,343 - june.simulator - INFO - Date = 2020-03-16 13:00:00, number of deaths =  0, number of infected = 523\n",
      "2020-06-27 01:06:31,866 - june.simulator - INFO - Date = 2020-03-17 00:00:00, number of deaths =  0, number of infected = 548\n",
      "2020-06-27 01:06:32,348 - june.simulator - INFO - Date = 2020-03-17 01:00:00, number of deaths =  0, number of infected = 554\n",
      "2020-06-27 01:06:32,755 - june.simulator - INFO - Date = 2020-03-17 05:00:00, number of deaths =  0, number of infected = 557\n",
      "2020-06-27 01:06:33,123 - june.simulator - INFO - Date = 2020-03-17 09:00:00, number of deaths =  0, number of infected = 560\n",
      "2020-06-27 01:06:33,767 - june.simulator - INFO - Date = 2020-03-17 10:00:00, number of deaths =  0, number of infected = 570\n",
      "2020-06-27 01:06:34,235 - june.simulator - INFO - Date = 2020-03-17 13:00:00, number of deaths =  0, number of infected = 616\n",
      "2020-06-27 01:06:34,771 - june.simulator - INFO - Date = 2020-03-18 00:00:00, number of deaths =  0, number of infected = 640\n",
      "2020-06-27 01:06:35,284 - june.simulator - INFO - Date = 2020-03-18 01:00:00, number of deaths =  0, number of infected = 648\n",
      "2020-06-27 01:06:35,682 - june.simulator - INFO - Date = 2020-03-18 05:00:00, number of deaths =  0, number of infected = 649\n",
      "2020-06-27 01:06:36,056 - june.simulator - INFO - Date = 2020-03-18 09:00:00, number of deaths =  0, number of infected = 657\n",
      "2020-06-27 01:06:36,704 - june.simulator - INFO - Date = 2020-03-18 10:00:00, number of deaths =  0, number of infected = 666\n",
      "2020-06-27 01:06:37,174 - june.simulator - INFO - Date = 2020-03-18 13:00:00, number of deaths =  0, number of infected = 675\n",
      "2020-06-27 01:06:37,667 - june.simulator - INFO - Date = 2020-03-19 00:00:00, number of deaths =  0, number of infected = 708\n",
      "2020-06-27 01:06:38,236 - june.simulator - INFO - Date = 2020-03-19 01:00:00, number of deaths =  0, number of infected = 725\n",
      "2020-06-27 01:06:38,651 - june.simulator - INFO - Date = 2020-03-19 05:00:00, number of deaths =  0, number of infected = 731\n",
      "2020-06-27 01:06:39,025 - june.simulator - INFO - Date = 2020-03-19 09:00:00, number of deaths =  0, number of infected = 738\n",
      "2020-06-27 01:06:39,704 - june.simulator - INFO - Date = 2020-03-19 10:00:00, number of deaths =  0, number of infected = 753\n",
      "2020-06-27 01:06:40,175 - june.simulator - INFO - Date = 2020-03-19 13:00:00, number of deaths =  0, number of infected = 797\n",
      "2020-06-27 01:06:40,697 - june.simulator - INFO - Date = 2020-03-20 00:00:00, number of deaths =  0, number of infected = 919\n",
      "2020-06-27 01:06:41,216 - june.simulator - INFO - Date = 2020-03-20 01:00:00, number of deaths =  0, number of infected = 937\n",
      "2020-06-27 01:06:41,618 - june.simulator - INFO - Date = 2020-03-20 05:00:00, number of deaths =  0, number of infected = 948\n",
      "2020-06-27 01:06:42,005 - june.simulator - INFO - Date = 2020-03-20 09:00:00, number of deaths =  0, number of infected = 958\n",
      "2020-06-27 01:06:42,708 - june.simulator - INFO - Date = 2020-03-20 10:00:00, number of deaths =  0, number of infected = 978\n",
      "2020-06-27 01:06:43,156 - june.simulator - INFO - Date = 2020-03-20 13:00:00, number of deaths =  0, number of infected = 1016\n",
      "2020-06-27 01:06:43,837 - june.simulator - INFO - Date = 2020-03-21 00:00:00, number of deaths =  0, number of infected = 1150\n",
      "2020-06-27 01:06:44,473 - june.simulator - INFO - Date = 2020-03-21 04:00:00, number of deaths =  0, number of infected = 1190\n",
      "2020-06-27 01:06:45,129 - june.simulator - INFO - Date = 2020-03-21 08:00:00, number of deaths =  0, number of infected = 1239\n",
      "2020-06-27 01:06:45,594 - june.simulator - INFO - Date = 2020-03-21 12:00:00, number of deaths =  0, number of infected = 1295\n",
      "2020-06-27 01:06:46,311 - june.simulator - INFO - Date = 2020-03-22 00:00:00, number of deaths =  0, number of infected = 1409\n",
      "2020-06-27 01:06:46,988 - june.simulator - INFO - Date = 2020-03-22 04:00:00, number of deaths =  0, number of infected = 1452\n",
      "2020-06-27 01:06:47,635 - june.simulator - INFO - Date = 2020-03-22 08:00:00, number of deaths =  0, number of infected = 1502\n",
      "2020-06-27 01:06:48,105 - june.simulator - INFO - Date = 2020-03-22 12:00:00, number of deaths =  0, number of infected = 1545\n",
      "2020-06-27 01:06:48,731 - june.simulator - INFO - Date = 2020-03-23 00:00:00, number of deaths =  0, number of infected = 1643\n",
      "2020-06-27 01:06:49,333 - june.simulator - INFO - Date = 2020-03-23 01:00:00, number of deaths =  0, number of infected = 1665\n",
      "2020-06-27 01:06:49,760 - june.simulator - INFO - Date = 2020-03-23 05:00:00, number of deaths =  0, number of infected = 1687\n",
      "2020-06-27 01:06:50,133 - june.simulator - INFO - Date = 2020-03-23 09:00:00, number of deaths =  0, number of infected = 1700\n",
      "2020-06-27 01:06:50,783 - june.simulator - INFO - Date = 2020-03-23 10:00:00, number of deaths =  0, number of infected = 1725\n",
      "2020-06-27 01:06:51,292 - june.simulator - INFO - Date = 2020-03-23 13:00:00, number of deaths =  0, number of infected = 1764\n",
      "2020-06-27 01:06:51,826 - june.simulator - INFO - Date = 2020-03-24 00:00:00, number of deaths =  0, number of infected = 1853\n",
      "2020-06-27 01:06:52,353 - june.simulator - INFO - Date = 2020-03-24 01:00:00, number of deaths =  0, number of infected = 1886\n",
      "2020-06-27 01:06:52,824 - june.simulator - INFO - Date = 2020-03-24 05:00:00, number of deaths =  0, number of infected = 1905\n",
      "2020-06-27 01:06:53,338 - june.simulator - INFO - Date = 2020-03-24 09:00:00, number of deaths =  0, number of infected = 1927\n",
      "2020-06-27 01:06:54,096 - june.simulator - INFO - Date = 2020-03-24 10:00:00, number of deaths =  0, number of infected = 1948\n",
      "2020-06-27 01:06:54,606 - june.simulator - INFO - Date = 2020-03-24 13:00:00, number of deaths =  0, number of infected = 1989\n",
      "2020-06-27 01:06:55,188 - june.simulator - INFO - Date = 2020-03-25 00:00:00, number of deaths =  0, number of infected = 2075\n",
      "2020-06-27 01:06:55,765 - june.simulator - INFO - Date = 2020-03-25 01:00:00, number of deaths =  0, number of infected = 2101\n",
      "2020-06-27 01:06:56,212 - june.simulator - INFO - Date = 2020-03-25 05:00:00, number of deaths =  0, number of infected = 2123\n",
      "2020-06-27 01:06:56,668 - june.simulator - INFO - Date = 2020-03-25 09:00:00, number of deaths =  0, number of infected = 2152\n",
      "2020-06-27 01:06:57,382 - june.simulator - INFO - Date = 2020-03-25 10:00:00, number of deaths =  0, number of infected = 2174\n",
      "2020-06-27 01:06:57,896 - june.simulator - INFO - Date = 2020-03-25 13:00:00, number of deaths =  0, number of infected = 2214\n",
      "2020-06-27 01:06:58,452 - june.simulator - INFO - Date = 2020-03-26 00:00:00, number of deaths =  0, number of infected = 2311\n",
      "2020-06-27 01:06:59,020 - june.simulator - INFO - Date = 2020-03-26 01:00:00, number of deaths =  0, number of infected = 2326\n",
      "2020-06-27 01:06:59,459 - june.simulator - INFO - Date = 2020-03-26 05:00:00, number of deaths =  0, number of infected = 2354\n",
      "2020-06-27 01:06:59,850 - june.simulator - INFO - Date = 2020-03-26 09:00:00, number of deaths =  0, number of infected = 2389\n",
      "2020-06-27 01:07:00,547 - june.simulator - INFO - Date = 2020-03-26 10:00:00, number of deaths =  0, number of infected = 2412\n",
      "2020-06-27 01:07:01,040 - june.simulator - INFO - Date = 2020-03-26 13:00:00, number of deaths =  1, number of infected = 2474\n",
      "2020-06-27 01:07:01,630 - june.simulator - INFO - Date = 2020-03-27 00:00:00, number of deaths =  1, number of infected = 2587\n",
      "2020-06-27 01:07:02,174 - june.simulator - INFO - Date = 2020-03-27 01:00:00, number of deaths =  1, number of infected = 2605\n",
      "2020-06-27 01:07:02,636 - june.simulator - INFO - Date = 2020-03-27 05:00:00, number of deaths =  1, number of infected = 2638\n",
      "2020-06-27 01:07:03,051 - june.simulator - INFO - Date = 2020-03-27 09:00:00, number of deaths =  1, number of infected = 2659\n",
      "2020-06-27 01:07:03,815 - june.simulator - INFO - Date = 2020-03-27 10:00:00, number of deaths =  2, number of infected = 2680\n",
      "2020-06-27 01:07:04,320 - june.simulator - INFO - Date = 2020-03-27 13:00:00, number of deaths =  2, number of infected = 2722\n",
      "2020-06-27 01:07:05,087 - june.simulator - INFO - Date = 2020-03-28 00:00:00, number of deaths =  3, number of infected = 2846\n",
      "2020-06-27 01:07:06,049 - june.simulator - INFO - Date = 2020-03-28 04:00:00, number of deaths =  3, number of infected = 2917\n",
      "2020-06-27 01:07:06,812 - june.simulator - INFO - Date = 2020-03-28 08:00:00, number of deaths =  3, number of infected = 2985\n",
      "2020-06-27 01:07:07,436 - june.simulator - INFO - Date = 2020-03-28 12:00:00, number of deaths =  3, number of infected = 3044\n",
      "2020-06-27 01:07:08,241 - june.simulator - INFO - Date = 2020-03-29 00:00:00, number of deaths =  3, number of infected = 3181\n",
      "2020-06-27 01:07:09,040 - june.simulator - INFO - Date = 2020-03-29 04:00:00, number of deaths =  3, number of infected = 3283\n",
      "2020-06-27 01:07:09,819 - june.simulator - INFO - Date = 2020-03-29 08:00:00, number of deaths =  3, number of infected = 3344\n",
      "2020-06-27 01:07:10,389 - june.simulator - INFO - Date = 2020-03-29 12:00:00, number of deaths =  3, number of infected = 3409\n",
      "2020-06-27 01:07:11,027 - june.simulator - INFO - Date = 2020-03-30 00:00:00, number of deaths =  3, number of infected = 3545\n",
      "2020-06-27 01:07:11,680 - june.simulator - INFO - Date = 2020-03-30 01:00:00, number of deaths =  3, number of infected = 3574\n",
      "2020-06-27 01:07:12,199 - june.simulator - INFO - Date = 2020-03-30 05:00:00, number of deaths =  3, number of infected = 3607\n",
      "2020-06-27 01:07:12,716 - june.simulator - INFO - Date = 2020-03-30 09:00:00, number of deaths =  3, number of infected = 3651\n",
      "2020-06-27 01:07:13,519 - june.simulator - INFO - Date = 2020-03-30 10:00:00, number of deaths =  3, number of infected = 3684\n",
      "2020-06-27 01:07:14,186 - june.simulator - INFO - Date = 2020-03-30 13:00:00, number of deaths =  3, number of infected = 3735\n",
      "2020-06-27 01:07:14,855 - june.simulator - INFO - Date = 2020-03-31 00:00:00, number of deaths =  3, number of infected = 3887\n",
      "2020-06-27 01:07:15,567 - june.simulator - INFO - Date = 2020-03-31 01:00:00, number of deaths =  3, number of infected = 3907\n",
      "2020-06-27 01:07:16,127 - june.simulator - INFO - Date = 2020-03-31 05:00:00, number of deaths =  3, number of infected = 3951\n",
      "2020-06-27 01:07:16,645 - june.simulator - INFO - Date = 2020-03-31 09:00:00, number of deaths =  3, number of infected = 4009\n",
      "2020-06-27 01:07:17,586 - june.simulator - INFO - Date = 2020-03-31 10:00:00, number of deaths =  3, number of infected = 4027\n",
      "2020-06-27 01:07:18,239 - june.simulator - INFO - Date = 2020-03-31 13:00:00, number of deaths =  3, number of infected = 4097\n",
      "2020-06-27 01:07:18,965 - june.simulator - INFO - Date = 2020-04-01 00:00:00, number of deaths =  4, number of infected = 4269\n",
      "2020-06-27 01:07:19,684 - june.simulator - INFO - Date = 2020-04-01 01:00:00, number of deaths =  4, number of infected = 4288\n",
      "2020-06-27 01:07:20,344 - june.simulator - INFO - Date = 2020-04-01 05:00:00, number of deaths =  4, number of infected = 4321\n",
      "2020-06-27 01:07:20,841 - june.simulator - INFO - Date = 2020-04-01 09:00:00, number of deaths =  4, number of infected = 4372\n",
      "2020-06-27 01:07:21,730 - june.simulator - INFO - Date = 2020-04-01 10:00:00, number of deaths =  6, number of infected = 4386\n",
      "2020-06-27 01:07:22,328 - june.simulator - INFO - Date = 2020-04-01 13:00:00, number of deaths =  6, number of infected = 4451\n",
      "2020-06-27 01:07:22,943 - june.simulator - INFO - Date = 2020-04-02 00:00:00, number of deaths =  6, number of infected = 4615\n",
      "2020-06-27 01:07:23,562 - june.simulator - INFO - Date = 2020-04-02 01:00:00, number of deaths =  6, number of infected = 4637\n",
      "2020-06-27 01:07:24,132 - june.simulator - INFO - Date = 2020-04-02 05:00:00, number of deaths =  6, number of infected = 4680\n",
      "2020-06-27 01:07:24,583 - june.simulator - INFO - Date = 2020-04-02 09:00:00, number of deaths =  6, number of infected = 4720\n",
      "2020-06-27 01:07:25,379 - june.simulator - INFO - Date = 2020-04-02 10:00:00, number of deaths =  6, number of infected = 4758\n",
      "2020-06-27 01:07:25,901 - june.simulator - INFO - Date = 2020-04-02 13:00:00, number of deaths =  6, number of infected = 4850\n",
      "2020-06-27 01:07:26,509 - june.simulator - INFO - Date = 2020-04-03 00:00:00, number of deaths =  6, number of infected = 5033\n",
      "2020-06-27 01:07:27,131 - june.simulator - INFO - Date = 2020-04-03 01:00:00, number of deaths =  6, number of infected = 5060\n",
      "2020-06-27 01:07:27,636 - june.simulator - INFO - Date = 2020-04-03 05:00:00, number of deaths =  7, number of infected = 5105\n",
      "2020-06-27 01:07:28,073 - june.simulator - INFO - Date = 2020-04-03 09:00:00, number of deaths =  7, number of infected = 5177\n",
      "2020-06-27 01:07:28,785 - june.simulator - INFO - Date = 2020-04-03 10:00:00, number of deaths =  7, number of infected = 5202\n",
      "2020-06-27 01:07:29,319 - june.simulator - INFO - Date = 2020-04-03 13:00:00, number of deaths =  7, number of infected = 5291\n",
      "2020-06-27 01:07:30,200 - june.simulator - INFO - Date = 2020-04-04 00:00:00, number of deaths =  8, number of infected = 5510\n",
      "2020-06-27 01:07:30,922 - june.simulator - INFO - Date = 2020-04-04 04:00:00, number of deaths =  8, number of infected = 5615\n",
      "2020-06-27 01:07:31,820 - june.simulator - INFO - Date = 2020-04-04 08:00:00, number of deaths =  8, number of infected = 5733\n",
      "2020-06-27 01:07:32,445 - june.simulator - INFO - Date = 2020-04-04 12:00:00, number of deaths =  8, number of infected = 5858\n",
      "2020-06-27 01:07:33,368 - june.simulator - INFO - Date = 2020-04-05 00:00:00, number of deaths =  11, number of infected = 6057\n",
      "2020-06-27 01:07:34,319 - june.simulator - INFO - Date = 2020-04-05 04:00:00, number of deaths =  11, number of infected = 6179\n",
      "2020-06-27 01:07:35,167 - june.simulator - INFO - Date = 2020-04-05 08:00:00, number of deaths =  11, number of infected = 6275\n",
      "2020-06-27 01:07:35,798 - june.simulator - INFO - Date = 2020-04-05 12:00:00, number of deaths =  11, number of infected = 6364\n",
      "2020-06-27 01:07:36,549 - june.simulator - INFO - Date = 2020-04-06 00:00:00, number of deaths =  11, number of infected = 6610\n",
      "2020-06-27 01:07:37,249 - june.simulator - INFO - Date = 2020-04-06 01:00:00, number of deaths =  11, number of infected = 6638\n",
      "2020-06-27 01:07:37,856 - june.simulator - INFO - Date = 2020-04-06 05:00:00, number of deaths =  13, number of infected = 6692\n",
      "2020-06-27 01:07:38,514 - june.simulator - INFO - Date = 2020-04-06 09:00:00, number of deaths =  13, number of infected = 6737\n",
      "2020-06-27 01:07:39,486 - june.simulator - INFO - Date = 2020-04-06 10:00:00, number of deaths =  14, number of infected = 6770\n",
      "2020-06-27 01:07:40,222 - june.simulator - INFO - Date = 2020-04-06 13:00:00, number of deaths =  15, number of infected = 6864\n",
      "2020-06-27 01:07:40,988 - june.simulator - INFO - Date = 2020-04-07 00:00:00, number of deaths =  16, number of infected = 7103\n",
      "2020-06-27 01:07:41,807 - june.simulator - INFO - Date = 2020-04-07 01:00:00, number of deaths =  16, number of infected = 7136\n",
      "2020-06-27 01:07:42,432 - june.simulator - INFO - Date = 2020-04-07 05:00:00, number of deaths =  17, number of infected = 7205\n",
      "2020-06-27 01:07:43,114 - june.simulator - INFO - Date = 2020-04-07 09:00:00, number of deaths =  17, number of infected = 7264\n",
      "2020-06-27 01:07:44,123 - june.simulator - INFO - Date = 2020-04-07 10:00:00, number of deaths =  17, number of infected = 7313\n",
      "2020-06-27 01:07:44,878 - june.simulator - INFO - Date = 2020-04-07 13:00:00, number of deaths =  17, number of infected = 7409\n",
      "2020-06-27 01:07:45,714 - june.simulator - INFO - Date = 2020-04-08 00:00:00, number of deaths =  18, number of infected = 7695\n",
      "2020-06-27 01:07:46,465 - june.simulator - INFO - Date = 2020-04-08 01:00:00, number of deaths =  18, number of infected = 7724\n",
      "2020-06-27 01:07:47,118 - june.simulator - INFO - Date = 2020-04-08 05:00:00, number of deaths =  18, number of infected = 7782\n",
      "2020-06-27 01:07:47,802 - june.simulator - INFO - Date = 2020-04-08 09:00:00, number of deaths =  18, number of infected = 7862\n",
      "2020-06-27 01:07:48,633 - june.simulator - INFO - Date = 2020-04-08 10:00:00, number of deaths =  18, number of infected = 7897\n",
      "2020-06-27 01:07:49,277 - june.simulator - INFO - Date = 2020-04-08 13:00:00, number of deaths =  18, number of infected = 7999\n",
      "2020-06-27 01:07:49,913 - june.simulator - INFO - Date = 2020-04-09 00:00:00, number of deaths =  21, number of infected = 8285\n",
      "2020-06-27 01:07:50,614 - june.simulator - INFO - Date = 2020-04-09 01:00:00, number of deaths =  21, number of infected = 8319\n",
      "2020-06-27 01:07:51,160 - june.simulator - INFO - Date = 2020-04-09 05:00:00, number of deaths =  22, number of infected = 8390\n",
      "2020-06-27 01:07:51,695 - june.simulator - INFO - Date = 2020-04-09 09:00:00, number of deaths =  22, number of infected = 8450\n",
      "2020-06-27 01:07:52,512 - june.simulator - INFO - Date = 2020-04-09 10:00:00, number of deaths =  22, number of infected = 8491\n",
      "2020-06-27 01:07:53,269 - june.simulator - INFO - Date = 2020-04-09 13:00:00, number of deaths =  22, number of infected = 8603\n",
      "2020-06-27 01:07:53,975 - june.simulator - INFO - Date = 2020-04-10 00:00:00, number of deaths =  22, number of infected = 8930\n",
      "2020-06-27 01:07:54,879 - june.simulator - INFO - Date = 2020-04-10 01:00:00, number of deaths =  22, number of infected = 8962\n",
      "2020-06-27 01:07:55,685 - june.simulator - INFO - Date = 2020-04-10 05:00:00, number of deaths =  22, number of infected = 9043\n",
      "2020-06-27 01:07:56,313 - june.simulator - INFO - Date = 2020-04-10 09:00:00, number of deaths =  24, number of infected = 9110\n",
      "2020-06-27 01:07:57,246 - june.simulator - INFO - Date = 2020-04-10 10:00:00, number of deaths =  25, number of infected = 9153\n"
     ]
    },
    {
     "ename": "SimulatorError",
     "evalue": "Number of people active 46785 does not match the total people number 46784",
     "output_type": "error",
     "traceback": [
      "\u001b[0;31m---------------------------------------------------------------------------\u001b[0m",
      "\u001b[0;31mSimulatorError\u001b[0m                            Traceback (most recent call last)",
      "\u001b[0;32m<timed eval>\u001b[0m in \u001b[0;36m<module>\u001b[0;34m\u001b[0m\n",
      "\u001b[0;32m~/code/JUNE/june/simulator.py\u001b[0m in \u001b[0;36mrun\u001b[0;34m(self)\u001b[0m\n\u001b[1;32m    605\u001b[0m                 \u001b[0;32mif\u001b[0m \u001b[0;34m(\u001b[0m\u001b[0mtime\u001b[0m \u001b[0;34m>=\u001b[0m \u001b[0mself\u001b[0m\u001b[0;34m.\u001b[0m\u001b[0mseed\u001b[0m\u001b[0;34m.\u001b[0m\u001b[0mmin_date\u001b[0m\u001b[0;34m)\u001b[0m \u001b[0;32mand\u001b[0m \u001b[0;34m(\u001b[0m\u001b[0mtime\u001b[0m \u001b[0;34m<=\u001b[0m \u001b[0mself\u001b[0m\u001b[0;34m.\u001b[0m\u001b[0mseed\u001b[0m\u001b[0;34m.\u001b[0m\u001b[0mmax_date\u001b[0m\u001b[0;34m)\u001b[0m\u001b[0;34m:\u001b[0m\u001b[0;34m\u001b[0m\u001b[0;34m\u001b[0m\u001b[0m\n\u001b[1;32m    606\u001b[0m                     \u001b[0mself\u001b[0m\u001b[0;34m.\u001b[0m\u001b[0mseed\u001b[0m\u001b[0;34m.\u001b[0m\u001b[0munleash_virus_per_region\u001b[0m\u001b[0;34m(\u001b[0m\u001b[0mtime\u001b[0m\u001b[0;34m)\u001b[0m\u001b[0;34m\u001b[0m\u001b[0;34m\u001b[0m\u001b[0m\n\u001b[0;32m--> 607\u001b[0;31m             \u001b[0mself\u001b[0m\u001b[0;34m.\u001b[0m\u001b[0mdo_timestep\u001b[0m\u001b[0;34m(\u001b[0m\u001b[0;34m)\u001b[0m\u001b[0;34m\u001b[0m\u001b[0;34m\u001b[0m\u001b[0m\n\u001b[0m\u001b[1;32m    608\u001b[0m \u001b[0;34m\u001b[0m\u001b[0m\n\u001b[1;32m    609\u001b[0m \u001b[0;34m\u001b[0m\u001b[0m\n",
      "\u001b[0;32m~/code/JUNE/june/simulator.py\u001b[0m in \u001b[0;36mdo_timestep\u001b[0;34m(self)\u001b[0m\n\u001b[1;32m    567\u001b[0m \u001b[0;34m\u001b[0m\u001b[0m\n\u001b[1;32m    568\u001b[0m         \u001b[0;32mif\u001b[0m \u001b[0mn_people\u001b[0m \u001b[0;34m!=\u001b[0m \u001b[0mlen\u001b[0m\u001b[0;34m(\u001b[0m\u001b[0mself\u001b[0m\u001b[0;34m.\u001b[0m\u001b[0mworld\u001b[0m\u001b[0;34m.\u001b[0m\u001b[0mpeople\u001b[0m\u001b[0;34m.\u001b[0m\u001b[0mmembers\u001b[0m\u001b[0;34m)\u001b[0m\u001b[0;34m:\u001b[0m\u001b[0;34m\u001b[0m\u001b[0;34m\u001b[0m\u001b[0m\n\u001b[0;32m--> 569\u001b[0;31m             raise SimulatorError(\n\u001b[0m\u001b[1;32m    570\u001b[0m                 \u001b[0;34mf\"Number of people active {n_people} does not match \"\u001b[0m\u001b[0;34m\u001b[0m\u001b[0;34m\u001b[0m\u001b[0m\n\u001b[1;32m    571\u001b[0m                 \u001b[0;34mf\"the total people number {len(self.world.people.members)}\"\u001b[0m\u001b[0;34m\u001b[0m\u001b[0;34m\u001b[0m\u001b[0m\n",
      "\u001b[0;31mSimulatorError\u001b[0m: Number of people active 46785 does not match the total people number 46784"
     ]
    }
   ],
   "source": [
    "%%time\n",
    "simulator.run()"
   ]
  },
  {
   "cell_type": "markdown",
   "metadata": {},
   "source": [
    "While the simulation runs (and afterwards) we can launch the visualization webpage by running\n",
    "```python june/visualizer.py path/to/results``` "
   ]
  },
  {
   "cell_type": "markdown",
   "metadata": {},
   "source": [
    "# Getting the results"
   ]
  },
  {
   "cell_type": "markdown",
   "metadata": {},
   "source": [
    "All results are stored in a json file specified in the ``save_path`` variable in the config file. We can also access it from ``world.logger`` directly."
   ]
  },
  {
   "cell_type": "code",
   "execution_count": null,
   "metadata": {},
   "outputs": [],
   "source": [
    "import pandas as pd"
   ]
  },
  {
   "cell_type": "code",
   "execution_count": null,
   "metadata": {},
   "outputs": [],
   "source": [
    "read = ReadLogger()"
   ]
  },
  {
   "cell_type": "markdown",
   "metadata": {},
   "source": [
    "## Hospital data and how it changed over time"
   ]
  },
  {
   "cell_type": "code",
   "execution_count": null,
   "metadata": {},
   "outputs": [],
   "source": [
    "hospitals_df = read.load_hospital_capacity()"
   ]
  },
  {
   "cell_type": "code",
   "execution_count": null,
   "metadata": {},
   "outputs": [],
   "source": [
    "hospitals_df.head(3)"
   ]
  },
  {
   "cell_type": "code",
   "execution_count": null,
   "metadata": {},
   "outputs": [],
   "source": [
    "hospitals_characteristics_df = read.load_hospital_characteristics()"
   ]
  },
  {
   "cell_type": "code",
   "execution_count": null,
   "metadata": {},
   "outputs": [],
   "source": [
    "hospitals_characteristics_df"
   ]
  },
  {
   "cell_type": "markdown",
   "metadata": {},
   "source": [
    "## where did infections happen?"
   ]
  },
  {
   "cell_type": "code",
   "execution_count": null,
   "metadata": {},
   "outputs": [],
   "source": [
    "loc_df = read.get_locations_infections()"
   ]
  },
  {
   "cell_type": "code",
   "execution_count": null,
   "metadata": {},
   "outputs": [],
   "source": [
    "locations_per_day = read.locations_df.groupby(pd.Grouper(freq='D')).sum()"
   ]
  },
  {
   "cell_type": "code",
   "execution_count": null,
   "metadata": {},
   "outputs": [],
   "source": [
    "all_infection_places = set(locations_per_day.location.sum())"
   ]
  },
  {
   "cell_type": "code",
   "execution_count": null,
   "metadata": {},
   "outputs": [],
   "source": [
    "def n_infections(row, infection_place):\n",
    "    return sum([row.counts[i] for i, x in enumerate(row.location) if x == infection_place])\n"
   ]
  },
  {
   "cell_type": "code",
   "execution_count": null,
   "metadata": {},
   "outputs": [],
   "source": [
    "for infection_place in all_infection_places:\n",
    "    locations_per_day[str(infection_place)] = locations_per_day.apply(\n",
    "        lambda x: n_infections(x, infection_place),\n",
    "        axis=1\n",
    "    )"
   ]
  },
  {
   "cell_type": "code",
   "execution_count": null,
   "metadata": {},
   "outputs": [],
   "source": [
    "locations_per_day = locations_per_day.drop(columns=['location',\n",
    "                                                    'counts'])"
   ]
  },
  {
   "cell_type": "code",
   "execution_count": null,
   "metadata": {},
   "outputs": [],
   "source": [
    "locations_per_day = locations_per_day.div(\n",
    "    locations_per_day.sum(axis=1), axis=0\n",
    ")\n"
   ]
  },
  {
   "cell_type": "code",
   "execution_count": null,
   "metadata": {},
   "outputs": [],
   "source": [
    "locations_per_day.plot.area( alpha=0.5)\n",
    "plt.legend(bbox_to_anchor=(1,1))\n",
    "plt.ylabel('Percent of infections')"
   ]
  },
  {
   "cell_type": "code",
   "execution_count": null,
   "metadata": {},
   "outputs": [],
   "source": [
    "locations_per_day.plot(figsize=(30,8), logy=True)"
   ]
  },
  {
   "cell_type": "code",
   "execution_count": null,
   "metadata": {},
   "outputs": [],
   "source": [
    "import matplotlib.ticker as mtick\n",
    "\n",
    "ax = loc_df['percentage_infections'].sort_values().plot.bar()\n",
    "ax.yaxis.set_major_formatter(mtick.PercentFormatter())\n",
    "plt.ylabel('Percentage of infections at location')\n",
    "plt.xlabel('location')\n",
    "#plt.yscale('log')"
   ]
  },
  {
   "cell_type": "markdown",
   "metadata": {},
   "source": [
    "## rate of infection"
   ]
  },
  {
   "cell_type": "code",
   "execution_count": null,
   "metadata": {},
   "outputs": [],
   "source": [
    "r_df = read.get_r()"
   ]
  },
  {
   "cell_type": "code",
   "execution_count": null,
   "metadata": {},
   "outputs": [],
   "source": [
    "r_df.plot()\n",
    "plt.axvspan(policies.social_distancing_start, \n",
    "            policies.social_distancing_end,\n",
    "            facecolor='y', alpha=0.2)\n",
    "plt.axhline(y=1, linestyle='dashed', color='gray')\n",
    "plt.xlabel('Date')\n",
    "plt.ylabel('R')"
   ]
  },
  {
   "cell_type": "markdown",
   "metadata": {},
   "source": [
    "## World infection curves, and by super area"
   ]
  },
  {
   "cell_type": "code",
   "execution_count": null,
   "metadata": {},
   "outputs": [],
   "source": [
    "world_df = read.world_summary()"
   ]
  },
  {
   "cell_type": "code",
   "execution_count": null,
   "metadata": {},
   "outputs": [],
   "source": [
    "fig, ax = plt.subplots()\n",
    "world_df['infected'].plot(ax=ax)\n",
    "ax.axvspan(policies.social_distancing_start, \n",
    "            policies.social_distancing_end,\n",
    "            facecolor='y', alpha=0.2)\n",
    "plot_policy_dates(ax, policies)\n",
    "ax.set_ylabel('# Infected')"
   ]
  },
  {
   "cell_type": "code",
   "execution_count": null,
   "metadata": {},
   "outputs": [],
   "source": [
    "world_df.plot()\n",
    "plt.axvspan(policies.social_distancing_start, \n",
    "            policies.social_distancing_end,\n",
    "            facecolor='y', alpha=0.2)\n",
    "plt.legend(bbox_to_anchor=(1,1))\n"
   ]
  },
  {
   "cell_type": "code",
   "execution_count": null,
   "metadata": {},
   "outputs": [],
   "source": [
    "area_df = read.super_area_summary()"
   ]
  },
  {
   "cell_type": "code",
   "execution_count": null,
   "metadata": {},
   "outputs": [],
   "source": [
    "area_df[area_df.super_area == \"E02003282\"].plot()\n",
    "plt.legend(bbox_to_anchor=(1,1))\n",
    "\n"
   ]
  },
  {
   "cell_type": "markdown",
   "metadata": {},
   "source": [
    "## World infection curves per age group"
   ]
  },
  {
   "cell_type": "code",
   "execution_count": null,
   "metadata": {},
   "outputs": [],
   "source": [
    "ages_df = read.age_summary([0,10,20,30,40,\n",
    "                  50,60,70,80,90,100])"
   ]
  },
  {
   "cell_type": "code",
   "execution_count": null,
   "metadata": {},
   "outputs": [],
   "source": [
    "for name, group in ages_df.groupby('age_range'):\n",
    "    group['infected'].plot(label=name)\n",
    "plt.axvspan(policies.social_distancing_start, \n",
    "            policies.social_distancing_end,\n",
    "            facecolor='y', alpha=0.2)\n",
    "plt.legend(bbox_to_anchor=(1,1))\n"
   ]
  },
  {
   "cell_type": "code",
   "execution_count": null,
   "metadata": {},
   "outputs": [],
   "source": [
    "for name, group in ages_df.groupby('age_range'):\n",
    "    group['dead'].cumsum().plot(label=name)\n",
    "plt.legend()"
   ]
  },
  {
   "cell_type": "code",
   "execution_count": null,
   "metadata": {},
   "outputs": [],
   "source": [
    "for name, group in ages_df.groupby('age_range'):\n",
    "    group['susceptible'].plot(label=name)\n",
    "plt.legend()"
   ]
  },
  {
   "cell_type": "code",
   "execution_count": null,
   "metadata": {},
   "outputs": [],
   "source": [
    "for name, group in ages_df.groupby('age_range'):\n",
    "    group['hospital_admissions'].cumsum().plot(label=name)\n",
    "plt.legend()"
   ]
  },
  {
   "cell_type": "code",
   "execution_count": null,
   "metadata": {},
   "outputs": [],
   "source": [
    "for name, group in ages_df.groupby('age_range'):\n",
    "    group['intensive_care_admissions'].cumsum().plot(label=name)\n",
    "plt.legend()"
   ]
  },
  {
   "cell_type": "markdown",
   "metadata": {},
   "source": [
    "## Draw some of the symptoms trajectories"
   ]
  },
  {
   "cell_type": "code",
   "execution_count": null,
   "metadata": {},
   "outputs": [],
   "source": [
    "random_trajectories = read.draw_symptom_trajectories(window_length=600,\n",
    "                                        n_people=10)"
   ]
  },
  {
   "cell_type": "code",
   "execution_count": null,
   "metadata": {},
   "outputs": [],
   "source": [
    "from june.infection import SymptomTag"
   ]
  },
  {
   "cell_type": "code",
   "execution_count": null,
   "metadata": {},
   "outputs": [],
   "source": [
    "symptoms_values = [tag.value for tag in SymptomTag]\n",
    "symptoms_names = [tag.name for tag in SymptomTag]\n"
   ]
  },
  {
   "cell_type": "code",
   "execution_count": null,
   "metadata": {},
   "outputs": [],
   "source": [
    "for df_person in random_trajectories:\n",
    "    df_person['symptoms'].plot()\n",
    "plt.ylabel('Symptoms Trajectory')\n",
    "_ = plt.yticks(symptoms_values, symptoms_names)\n",
    "plt.xlabel('Date')"
   ]
  },
  {
   "cell_type": "code",
   "execution_count": null,
   "metadata": {},
   "outputs": [],
   "source": [
    "for df_person in random_trajectories:\n",
    "    df_person['n_secondary_infections'].plot()\n",
    "plt.ylabel('Number of secondary infections')\n",
    "\n",
    "plt.xlabel('Date')"
   ]
  },
  {
   "cell_type": "code",
   "execution_count": null,
   "metadata": {},
   "outputs": [],
   "source": []
  }
 ],
 "metadata": {
  "kernelspec": {
   "display_name": "Python 3",
   "language": "python",
   "name": "python3"
  },
  "language_info": {
   "codemirror_mode": {
    "name": "ipython",
    "version": 3
   },
   "file_extension": ".py",
   "mimetype": "text/x-python",
   "name": "python",
   "nbconvert_exporter": "python",
   "pygments_lexer": "ipython3",
   "version": "3.8.3"
  }
 },
 "nbformat": 4,
 "nbformat_minor": 4
}
