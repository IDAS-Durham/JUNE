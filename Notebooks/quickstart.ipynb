{
 "cells": [
  {
   "cell_type": "code",
   "execution_count": 1,
   "metadata": {},
   "outputs": [],
   "source": [
    "import numpy as np\n",
    "import time\n",
    "from datetime import datetime\n",
    "import matplotlib.pyplot as plt\n",
    "import pandas as pd"
   ]
  },
  {
   "cell_type": "code",
   "execution_count": 2,
   "metadata": {},
   "outputs": [
    {
     "name": "stderr",
     "output_type": "stream",
     "text": [
      "No --data argument given - defaulting to:\n",
      "/home/arnau/code/JUNE/data\n",
      "No --configs argument given - defaulting to:\n",
      "/home/arnau/code/JUNE/june/configs\n",
      "INFO:numexpr.utils:NumExpr defaulting to 4 threads.\n"
     ]
    }
   ],
   "source": [
    "from june import World \n",
    "from june.geography import Geography\n",
    "from june.demography import Demography\n",
    "from june.interaction import Interaction\n",
    "from june.infection import Infection, InfectionSelector\n",
    "from june.infection.health_index import Data2Rates\n",
    "from june.infection.health_index.health_index import HealthIndexGenerator\n",
    "from june.infection.transmission import TransmissionConstant\n",
    "from june.groups import Hospitals, Schools, Companies, Households, CareHomes, Cemeteries, Universities\n",
    "from june.groups.leisure import generate_leisure_for_config, Cinemas, Pubs, Groceries\n",
    "from june.groups.travel import *\n",
    "from june.simulator import Simulator\n",
    "from june.infection_seed import InfectionSeed\n",
    "from june.policy import Policy, Policies\n",
    "from june import paths\n",
    "from june.hdf5_savers import load_geography_from_hdf5\n",
    "from june.records import Record, RecordReader\n",
    "\n",
    "from june.world import generate_world_from_geography\n",
    "from june.hdf5_savers import generate_world_from_hdf5"
   ]
  },
  {
   "cell_type": "markdown",
   "metadata": {},
   "source": [
    "# Initialize world\n",
    "\n",
    "To initialize a certain world, we need to add the different components we want to have in it. First we specify what super areas (msoa) we want to create. We have included these ones, because they are known to contain hospitals, schools, care homes, and companies.\n",
    "\n",
    "After creating the geography, we create the different components the worlds need to have such as care homes, companies ..."
   ]
  },
  {
   "cell_type": "code",
   "execution_count": 3,
   "metadata": {},
   "outputs": [],
   "source": [
    "CONFIG_PATH = paths.configs_path / \"config_example.yaml\""
   ]
  },
  {
   "cell_type": "code",
   "execution_count": 4,
   "metadata": {},
   "outputs": [
    {
     "name": "stdout",
     "output_type": "stream",
     "text": [
      "2020-12-15 11:06:25,467 - june.geography.geography - INFO - There are 67 areas and 2 super_areas and 1 in the world.\n",
      "2020-12-15 11:06:25,472 - hospitals - INFO - There are 1 hospitals in this geography.\n",
      "2020-12-15 11:06:25,528 - schools - INFO - There are 7 schools in this geography.\n",
      "2020-12-15 11:06:25,539 - schools - INFO - No school for the age 0 in this world.\n",
      "2020-12-15 11:06:25,542 - schools - INFO - No school for the age 1 in this world.\n",
      "2020-12-15 11:06:25,567 - schools - INFO - No school for the age 12 in this world.\n",
      "2020-12-15 11:06:25,570 - schools - INFO - No school for the age 13 in this world.\n",
      "2020-12-15 11:06:25,897 - care_homes - INFO - There are 4 care_homes in this geography.\n",
      "2020-12-15 11:06:25,948 - universities - INFO - There are 3 universities in this world.\n",
      "2020-12-15 11:06:30,271 - world - INFO - Populating areas\n",
      "2020-12-15 11:06:30,517 - world - INFO - Areas populated. This world's population is: 19199\n",
      "2020-12-15 11:06:32,481 - worker_distributor - INFO - Distributing workers to super areas...\n",
      "2020-12-15 11:06:33,078 - worker_distributor - INFO - Workers distributed.\n",
      "2020-12-15 11:06:33,526 - care_home_distributor - INFO - Populating care homes\n",
      "2020-12-15 11:06:33,528 - care_home_distributor - INFO - This world has 78 people living in care homes.\n",
      "2020-12-15 11:06:33,538 - household_distributor - INFO - Distributing people to households\n",
      "2020-12-15 11:06:34,841 - household_distributor - INFO - People assigned to households. There are 9123 households in this world.\n",
      "2020-12-15 11:06:34,842 - school_distributor - INFO - Distributing kids to schools\n",
      "2020-12-15 11:06:34,843 - school_distributor - INFO - Distributed kids in 0 of 67 areas.\n",
      "2020-12-15 11:06:35,164 - school_distributor - INFO - Kids distributed to schools\n",
      "2020-12-15 11:06:35,171 - university_distributor - INFO - Distributing students to universities\n",
      "2020-12-15 11:06:36,235 - university_distributor - INFO - University 10001282 has 4257 students.\n",
      "2020-12-15 11:06:36,235 - university_distributor - INFO - University 10007159 has 0 students.\n",
      "2020-12-15 11:06:36,236 - university_distributor - INFO - University 10007799 has 4257 students.\n",
      "2020-12-15 11:06:36,240 - hospital_distributor - INFO - Distributing medics to hospitals\n",
      "2020-12-15 11:06:36,242 - hospital_distributor - INFO - Medics distributed to hospitals\n",
      "2020-12-15 11:06:36,243 - company_distributor - INFO - Distributing workers to companies\n",
      "2020-12-15 11:06:36,244 - company_distributor - INFO - Distributed workers to companies in 0 of 2 super areas.\n",
      "2020-12-15 11:06:36,321 - company_distributor - INFO - Workers distributed to companies\n",
      "CPU times: user 10.6 s, sys: 510 ms, total: 11.1 s\n",
      "Wall time: 11.2 s\n"
     ]
    }
   ],
   "source": [
    "%%time \n",
    "\n",
    "geography = Geography.from_file(\n",
    "{\n",
    "    \"super_area\": [\"E02001731\", \"E02002566\"]})\n",
    "\n",
    "geography.hospitals = Hospitals.for_geography(geography)\n",
    "geography.schools = Schools.for_geography(geography)\n",
    "geography.companies = Companies.for_geography(geography)\n",
    "geography.care_homes = CareHomes.for_geography(geography)\n",
    "geography.universities = Universities.for_geography(geography)\n",
    "world = generate_world_from_geography(geography, include_households=True)\n"
   ]
  },
  {
   "cell_type": "markdown",
   "metadata": {},
   "source": [
    "## Commute, travel and leisure"
   ]
  },
  {
   "cell_type": "code",
   "execution_count": 5,
   "metadata": {},
   "outputs": [
    {
     "name": "stdout",
     "output_type": "stream",
     "text": [
      "2020-12-15 11:06:37,143 - social_venue - INFO - Domain 0 has 2963 pubs(s)\n",
      "2020-12-15 11:06:37,156 - social_venue - INFO - Domain 0 has 14 cinemas(s)\n",
      "2020-12-15 11:06:37,372 - social_venue - INFO - Domain 0 has 834 groceries(s)\n",
      "2020-12-15 11:06:37,390 - leisure - INFO - Linking households for visits\n",
      "2020-12-15 11:06:37,558 - leisure - INFO - Done\n",
      "2020-12-15 11:06:37,559 - leisure - INFO - Linking households with care homes for visits\n",
      "2020-12-15 11:06:37,603 - leisure - INFO - Done\n",
      "2020-12-15 11:06:37,604 - leisure - INFO - Distributing social venues to areas\n",
      "2020-12-15 11:06:37,604 - leisure - INFO - Distributed in 0 of 67 areas.\n",
      "2020-12-15 11:06:37,682 - leisure - INFO - Distributed in 67 of 67 areas.\n",
      "CPU times: user 1.34 s, sys: 6.86 ms, total: 1.35 s\n",
      "Wall time: 1.35 s\n"
     ]
    }
   ],
   "source": [
    "%%time\n",
    "\n",
    "world.pubs = Pubs.for_geography(geography)\n",
    "world.cinemas = Cinemas.for_geography(geography)\n",
    "world.groceries = Groceries.for_geography(geography)\n",
    "leisure = generate_leisure_for_config(world, config_filename=CONFIG_PATH)\n",
    "leisure.distribute_social_venues_to_areas(\n",
    "    areas=world.areas, super_areas=world.super_areas\n",
    ")\n"
   ]
  },
  {
   "cell_type": "code",
   "execution_count": 6,
   "metadata": {},
   "outputs": [
    {
     "name": "stdout",
     "output_type": "stream",
     "text": [
      "2020-12-15 11:06:37,691 - travel - INFO - Initialising commute...\n",
      "2020-12-15 11:06:37,692 - travel - INFO - Creating cities...\n",
      "2020-12-15 11:06:37,700 - travel - INFO - This world has 2 cities, with names\n",
      "['Newcastle upon Tyne', 'Darlington']\n",
      "2020-12-15 11:06:37,700 - travel - INFO - Determining people mode of transport\n",
      "2020-12-15 11:06:43,632 - travel - INFO - Mode of transport allocated in 0 of 67 areas.\n",
      "2020-12-15 11:06:43,651 - travel - INFO - Mode of transport determined for everyone.\n",
      "2020-12-15 11:06:43,778 - travel - INFO - Assigning commuters to stations...\n",
      "2020-12-15 11:06:43,779 - travel - INFO - Assigned 0 of 19199 potential commuters...\n",
      "2020-12-15 11:06:43,784 - travel - INFO - Commuters assigned\n",
      "2020-12-15 11:06:43,784 - travel - INFO - City Newcastle upon Tyne has 920 internal and 186 external commuters.\n",
      "2020-12-15 11:06:43,787 - travel - INFO - Creating stations...\n",
      "2020-12-15 11:06:43,790 - travel - INFO - City Newcastle upon Tyne has 1 city and 4 inter city stations.\n",
      "2020-12-15 11:06:43,791 - travel - INFO - Creating transport units for the population\n",
      "2020-12-15 11:06:43,792 - travel - INFO - City Newcastle upon Tyne has 42 city train carriages.\n",
      "2020-12-15 11:06:43,793 - travel - INFO - City Newcastle upon Tyne has 9 inter-city train carriages.\n",
      "2020-12-15 11:06:43,794 - travel - INFO - Cities' transport initialised\n"
     ]
    }
   ],
   "source": [
    "# initialise commuting travel\n",
    "travel = Travel()\n",
    "travel.initialise_commute(world)"
   ]
  },
  {
   "cell_type": "markdown",
   "metadata": {},
   "source": [
    "We are also going to need some cemeteries...\n"
   ]
  },
  {
   "cell_type": "code",
   "execution_count": 7,
   "metadata": {},
   "outputs": [],
   "source": [
    "world.cemeteries = Cemeteries()"
   ]
  },
  {
   "cell_type": "markdown",
   "metadata": {},
   "source": [
    "### If it took a long time to run the previous commands, it might be a good idea to save the world to reuse it later."
   ]
  },
  {
   "cell_type": "code",
   "execution_count": 8,
   "metadata": {
    "scrolled": true
   },
   "outputs": [
    {
     "name": "stdout",
     "output_type": "stream",
     "text": [
      "2020-12-15 11:06:43,813 - world_saver - INFO - saving world to HDF5\n",
      "2020-12-15 11:06:43,827 - world_saver - INFO - saving population...\n",
      "2020-12-15 11:06:44,264 - world_saver - INFO - saving hospitals...\n",
      "2020-12-15 11:06:44,267 - world_saver - INFO - saving schools...\n",
      "2020-12-15 11:06:44,273 - world_saver - INFO - saving companies...\n",
      "2020-12-15 11:06:44,287 - world_saver - INFO - saving households...\n",
      "2020-12-15 11:06:44,419 - world_saver - INFO - saving care homes...\n",
      "2020-12-15 11:06:44,421 - world_saver - INFO - saving cities...\n",
      "2020-12-15 11:06:44,425 - world_saver - INFO - saving stations...\n",
      "2020-12-15 11:06:44,429 - world_saver - INFO - saving universities...\n",
      "2020-12-15 11:06:44,432 - world_saver - INFO - saving social venues...\n"
     ]
    }
   ],
   "source": [
    "world.to_hdf5(\"world.hdf5\")"
   ]
  },
  {
   "cell_type": "markdown",
   "metadata": {},
   "source": [
    "If we would like to load the world we saved, we just do"
   ]
  },
  {
   "cell_type": "code",
   "execution_count": 9,
   "metadata": {},
   "outputs": [
    {
     "name": "stdout",
     "output_type": "stream",
     "text": [
      "2020-12-15 11:06:44,446 - world_saver - INFO - loading world from HDF5\n",
      "2020-12-15 11:06:44,454 - world_saver - INFO - loading hospitals...\n",
      "2020-12-15 11:06:44,459 - world_saver - INFO - loading schools...\n",
      "2020-12-15 11:06:44,466 - company_saver - INFO - loading companies...\n",
      "2020-12-15 11:06:44,467 - company_saver - INFO - Companies chunk 0 of 1\n",
      "2020-12-15 11:06:44,493 - world_saver - INFO - loading care homes...\n",
      "2020-12-15 11:06:44,496 - world_saver - INFO - loading universities...\n",
      "2020-12-15 11:06:44,500 - world_saver - INFO - loading cities...\n",
      "2020-12-15 11:06:44,503 - world_saver - INFO - loading stations...\n",
      "2020-12-15 11:06:44,507 - household_saver - INFO - loading households...\n",
      "2020-12-15 11:06:44,508 - household_saver - INFO - Loaded chunk 0 of 1\n",
      "2020-12-15 11:06:44,699 - population saver - INFO - loading population...\n",
      "2020-12-15 11:06:44,700 - population saver - INFO - Loaded chunk 0 of 1\n",
      "2020-12-15 11:06:44,816 - world_saver - INFO - loading social venues...\n",
      "2020-12-15 11:06:44,818 - social_venue - INFO - Domain 0 has 14 cinemas(s)\n",
      "2020-12-15 11:06:44,825 - social_venue - INFO - Domain 0 has 834 groceries(s)\n",
      "2020-12-15 11:06:44,841 - social_venue - INFO - Domain 0 has 2963 pubs(s)\n",
      "2020-12-15 11:06:44,850 - world_saver - INFO - restoring world...\n",
      "2020-12-15 11:06:44,857 - population saver - INFO - restoring population...\n",
      "2020-12-15 11:06:44,858 - population saver - INFO - Restored chunk 0 of 1\n",
      "2020-12-15 11:06:45,101 - household_saver - INFO - restoring households...\n",
      "2020-12-15 11:06:45,102 - household_saver - INFO - Restored chunk 0 of 1\n",
      "2020-12-15 11:06:45,187 - world_saver - INFO - restoring care homes...\n",
      "2020-12-15 11:06:45,188 - world_saver - INFO - restoring hospitals...\n",
      "2020-12-15 11:06:45,191 - world_saver - INFO - restoring commute...\n",
      "2020-12-15 11:06:45,196 - world_saver - INFO - restoring companies...\n",
      "2020-12-15 11:06:45,202 - world_saver - INFO - restoring schools...\n",
      "2020-12-15 11:06:45,205 - world_saver - INFO - restoring unis...\n",
      "2020-12-15 11:06:45,207 - world_saver - INFO - restoring social venues...\n"
     ]
    }
   ],
   "source": [
    "world = generate_world_from_hdf5(\"world.hdf5\")"
   ]
  },
  {
   "cell_type": "code",
   "execution_count": 10,
   "metadata": {},
   "outputs": [],
   "source": [
    "# and regenerate leisure in case we load it externally\n",
    "leisure = generate_leisure_for_config(world, CONFIG_PATH)\n",
    "# create travel as well\n",
    "travel = Travel()"
   ]
  },
  {
   "cell_type": "markdown",
   "metadata": {},
   "source": [
    "you have now a beautiful pre-pandemic world. "
   ]
  },
  {
   "cell_type": "markdown",
   "metadata": {},
   "source": [
    "# Adding the infection"
   ]
  },
  {
   "cell_type": "markdown",
   "metadata": {},
   "source": [
    "The module in charge of infecting people is called the ``InfectionSelector``, which gives people a transmission time profile and a symptoms trajectory based on their age and sex (through the health index generator)"
   ]
  },
  {
   "cell_type": "code",
   "execution_count": 11,
   "metadata": {},
   "outputs": [],
   "source": [
    "selector = InfectionSelector.from_file()"
   ]
  },
  {
   "cell_type": "markdown",
   "metadata": {},
   "source": [
    "# Adding the interaction"
   ]
  },
  {
   "cell_type": "code",
   "execution_count": 12,
   "metadata": {},
   "outputs": [],
   "source": [
    "interaction = Interaction.from_file(population=world.people)"
   ]
  },
  {
   "cell_type": "markdown",
   "metadata": {},
   "source": [
    "Beta are the intensities of the interaction taking place at the different groups"
   ]
  },
  {
   "cell_type": "code",
   "execution_count": 13,
   "metadata": {},
   "outputs": [
    {
     "data": {
      "text/plain": [
       "{'box': 1,\n",
       " 'pub': 0.42941,\n",
       " 'grocery': 0.04137,\n",
       " 'cinema': 0.157461,\n",
       " 'city_transport': 0.107969,\n",
       " 'inter_city_transport': 0.383,\n",
       " 'hospital': 0.1168,\n",
       " 'care_home': 0.28,\n",
       " 'company': 0.371,\n",
       " 'school': 0.07,\n",
       " 'household': 0.208,\n",
       " 'household_visits': 0.208,\n",
       " 'care_visits': 0.208,\n",
       " 'university': 0.306}"
      ]
     },
     "execution_count": 13,
     "metadata": {},
     "output_type": "execute_result"
    }
   ],
   "source": [
    "interaction.betas"
   ]
  },
  {
   "cell_type": "markdown",
   "metadata": {},
   "source": [
    "Moreover, this interaction module uses contact matrices, that are different for different groups. These contact matrices shouldnt be modified for now. However they are a combination of conversational contact matrices, and physical contact matrices (see the BBC pandemic paper, from where these matrices are extracted https://www.medrxiv.org/content/10.1101/2020.02.16.20023754v2)\n",
    "\n",
    "There is a parameter, ``alpha`` ($\\alpha$), that combines these two matrices in the following way,\n",
    "\n",
    "\n",
    "$\\beta M \\left(1 + (\\alpha -1) \\right) P$\n",
    "\n",
    "where $\\beta$ is the intensity of the interaction, and $P$ the physical contact matrix. A larger $\\alpha$ produces more physical contacts. It is an overall number, non dependent of the particular group.\n"
   ]
  },
  {
   "cell_type": "code",
   "execution_count": 14,
   "metadata": {},
   "outputs": [
    {
     "data": {
      "text/plain": [
       "2.0"
      ]
     },
     "execution_count": 14,
     "metadata": {},
     "output_type": "execute_result"
    }
   ],
   "source": [
    "interaction.alpha_physical"
   ]
  },
  {
   "cell_type": "markdown",
   "metadata": {},
   "source": [
    "# Seed the disease"
   ]
  },
  {
   "cell_type": "markdown",
   "metadata": {},
   "source": [
    "There are two options implemented in the seed at the moment, either you specify the number of cases and these are then homogeneously distributed by population to the different areas, or you use UK data on cases per region. For now use the first case."
   ]
  },
  {
   "cell_type": "code",
   "execution_count": 15,
   "metadata": {},
   "outputs": [],
   "source": [
    "infection_seed = InfectionSeed(\n",
    "    world, selector,\n",
    ")"
   ]
  },
  {
   "cell_type": "code",
   "execution_count": 16,
   "metadata": {},
   "outputs": [],
   "source": [
    "n_cases = 50\n",
    "infection_seed.unleash_virus(\n",
    "    population=world.people,\n",
    "    n_cases=n_cases) # play around with the initial number of cases"
   ]
  },
  {
   "cell_type": "markdown",
   "metadata": {},
   "source": [
    "# Set policies"
   ]
  },
  {
   "cell_type": "code",
   "execution_count": 17,
   "metadata": {},
   "outputs": [],
   "source": [
    "policies = Policies.from_file()"
   ]
  },
  {
   "cell_type": "markdown",
   "metadata": {},
   "source": [
    "We can have a look at one of the policies"
   ]
  },
  {
   "cell_type": "code",
   "execution_count": 18,
   "metadata": {},
   "outputs": [
    {
     "name": "stdout",
     "output_type": "stream",
     "text": [
      "{'spec': 'close_companies', 'start_time': datetime.datetime(2020, 3, 20, 0, 0), 'end_time': datetime.datetime(2020, 3, 27, 0, 0), 'policy_type': 'individual', 'policy_subtype': 'skip_activity', 'activities_to_remove': ['primary_activity', 'commute'], 'full_closure': False, 'avoid_work_probability': 0.29, 'furlough_probability': 0.04, 'key_probability': 0.19}\n"
     ]
    }
   ],
   "source": [
    "print(policies.individual_policies[8].__dict__)"
   ]
  },
  {
   "cell_type": "markdown",
   "metadata": {},
   "source": [
    "# Run the simulation"
   ]
  },
  {
   "cell_type": "markdown",
   "metadata": {},
   "source": [
    "The first thing we need is a place where to save our simulation results. For that we can use the record class,\n",
    "and pass it to the simulator."
   ]
  },
  {
   "cell_type": "code",
   "execution_count": 19,
   "metadata": {},
   "outputs": [],
   "source": [
    "record = Record(    \n",
    "    record_path = 'results',    \n",
    "    record_static_data=True,\n",
    ") "
   ]
  },
  {
   "cell_type": "code",
   "execution_count": 20,
   "metadata": {},
   "outputs": [],
   "source": [
    "record.static_data(world=world)"
   ]
  },
  {
   "cell_type": "markdown",
   "metadata": {},
   "source": [
    "The simulator is the main module in charge of running the simulation. It coordinates the ``ActivityManager`` which is responsible of allocating people to the right groups given the current timestep, it updates the health status of the population, and it runs the interaction over the different groups. All of these modules can be modified by policies at any given time."
   ]
  },
  {
   "cell_type": "markdown",
   "metadata": {},
   "source": [
    "Since the timer configuration is a bit cumbersome, it is read from the config file at https://github.com/IDAS-Durham/JUNE/blob/master/june/configs/config_example.yaml"
   ]
  },
  {
   "cell_type": "code",
   "execution_count": 21,
   "metadata": {},
   "outputs": [],
   "source": [
    "simulator = Simulator.from_file(\n",
    "    world=world,\n",
    "    infection_selector=selector,\n",
    "    interaction=interaction, \n",
    "    config_filename = CONFIG_PATH,\n",
    "    leisure = leisure,\n",
    "    travel = travel,\n",
    "    record=record,\n",
    "    policies = policies\n",
    ")"
   ]
  },
  {
   "cell_type": "code",
   "execution_count": 22,
   "metadata": {
    "scrolled": true
   },
   "outputs": [
    {
     "name": "stdout",
     "output_type": "stream",
     "text": [
      "2020-12-15 11:06:45,920 - simulator - INFO - Starting simulation for 30 days at day 2020-03-01 00:00:00, to run for 30 days\n",
      "2020-12-15 11:06:46,106 - simulator - INFO - ==================== timestep ====================\n",
      "2020-12-15 11:06:46,269 - activity_manager - INFO - CMS: People COMS for rank 0/1 - 3.5919947549700737e-06,3.337860107421875e-06 - 2020-03-01 00:00:00\n",
      "2020-12-15 11:06:46,272 - simulator - INFO - Info for rank 0, Date = 2020-03-01 00:00:00, number of deaths =  0, number of infected = 50\n",
      "2020-12-15 11:06:46,354 - simulator - INFO - CMS: Infection COMS-v2 for rank 0/1(2) 0.00017968099564313889,0.0001785755157470703 - 2020-03-01 00:00:00\n",
      "2020-12-15 11:06:46,470 - simulator - INFO - CMS: Timestep for rank 0/1 - 0.36237740601063706, 0.3623783588409424 - 2020-03-01 00:00:00\n",
      "\n",
      "2020-12-15 11:06:46,471 - simulator - INFO - ==================== timestep ====================\n",
      "2020-12-15 11:06:46,623 - activity_manager - INFO - CMS: People COMS for rank 0/1 - 3.649009158834815e-06,3.0994415283203125e-06 - 2020-03-01 04:00:00\n",
      "2020-12-15 11:06:46,627 - simulator - INFO - Info for rank 0, Date = 2020-03-01 04:00:00, number of deaths =  0, number of infected = 50\n",
      "2020-12-15 11:06:46,749 - simulator - INFO - CMS: Infection COMS-v2 for rank 0/1(2) 0.00010302098235115409,0.00010275840759277344 - 2020-03-01 04:00:00\n",
      "2020-12-15 11:06:46,795 - simulator - INFO - CMS: Timestep for rank 0/1 - 0.3233898360049352, 0.3233911991119385 - 2020-03-01 04:00:00\n",
      "\n",
      "2020-12-15 11:06:46,796 - simulator - INFO - ==================== timestep ====================\n",
      "2020-12-15 11:06:46,945 - activity_manager - INFO - CMS: People COMS for rank 0/1 - 4.28801286034286e-06,3.814697265625e-06 - 2020-03-01 08:00:00\n",
      "2020-12-15 11:06:46,949 - simulator - INFO - Info for rank 0, Date = 2020-03-01 08:00:00, number of deaths =  0, number of infected = 51\n",
      "2020-12-15 11:06:47,035 - simulator - INFO - CMS: Infection COMS-v2 for rank 0/1(2) 0.00011524700676091015,0.00011491775512695312 - 2020-03-01 08:00:00\n",
      "2020-12-15 11:06:47,113 - simulator - INFO - CMS: Timestep for rank 0/1 - 0.3165030740201473, 0.31650400161743164 - 2020-03-01 08:00:00\n",
      "\n",
      "2020-12-15 11:06:47,114 - simulator - INFO - ==================== timestep ====================\n",
      "2020-12-15 11:06:47,207 - activity_manager - INFO - CMS: People COMS for rank 0/1 - 7.317983545362949e-06,6.4373016357421875e-06 - 2020-03-01 12:00:00\n",
      "2020-12-15 11:06:47,215 - simulator - INFO - Info for rank 0, Date = 2020-03-01 12:00:00, number of deaths =  0, number of infected = 52\n",
      "2020-12-15 11:06:47,328 - simulator - INFO - CMS: Infection COMS-v2 for rank 0/1(2) 0.00019834001432172954,0.00019812583923339844 - 2020-03-01 12:00:00\n",
      "2020-12-15 11:06:47,398 - simulator - INFO - CMS: Timestep for rank 0/1 - 0.279117984988261, 0.27911901473999023 - 2020-03-01 12:00:00\n",
      "\n",
      "2020-12-15 11:06:47,399 - simulator - INFO - ==================== timestep ====================\n",
      "2020-12-15 11:06:47,533 - activity_manager - INFO - CMS: People COMS for rank 0/1 - 4.923000233247876e-06,4.291534423828125e-06 - 2020-03-02 00:00:00\n",
      "2020-12-15 11:06:47,536 - simulator - INFO - Info for rank 0, Date = 2020-03-02 00:00:00, number of deaths =  0, number of infected = 53\n",
      "2020-12-15 11:06:47,599 - simulator - INFO - CMS: Infection COMS-v2 for rank 0/1(2) 0.00011692699627019465,0.0001163482666015625 - 2020-03-02 00:00:00\n",
      "2020-12-15 11:06:47,643 - simulator - INFO - CMS: Timestep for rank 0/1 - 0.24295903800521046, 0.24295949935913086 - 2020-03-02 00:00:00\n",
      "\n",
      "2020-12-15 11:06:47,643 - simulator - INFO - ==================== timestep ====================\n",
      "2020-12-15 11:06:47,712 - activity_manager - INFO - CMS: People COMS for rank 0/1 - 3.891007509082556e-06,3.0994415283203125e-06 - 2020-03-02 01:00:00\n",
      "2020-12-15 11:06:47,715 - simulator - INFO - Info for rank 0, Date = 2020-03-02 01:00:00, number of deaths =  0, number of infected = 53\n",
      "2020-12-15 11:06:48,463 - simulator - INFO - CMS: Infection COMS-v2 for rank 0/1(2) 0.00011446001008152962,0.00011396408081054688 - 2020-03-02 01:00:00\n",
      "2020-12-15 11:06:48,504 - simulator - INFO - CMS: Timestep for rank 0/1 - 0.8607117290084716, 0.8607132434844971 - 2020-03-02 01:00:00\n",
      "\n",
      "2020-12-15 11:06:48,505 - simulator - INFO - ==================== timestep ====================\n",
      "2020-12-15 11:06:48,573 - activity_manager - INFO - CMS: People COMS for rank 0/1 - 4.211993655189872e-06,3.5762786865234375e-06 - 2020-03-02 09:00:00\n",
      "2020-12-15 11:06:48,575 - simulator - INFO - Info for rank 0, Date = 2020-03-02 09:00:00, number of deaths =  0, number of infected = 59\n",
      "2020-12-15 11:06:48,637 - simulator - INFO - CMS: Infection COMS-v2 for rank 0/1(2) 0.00012661999789997935,0.000125885009765625 - 2020-03-02 09:00:00\n",
      "2020-12-15 11:06:48,676 - simulator - INFO - CMS: Timestep for rank 0/1 - 0.1702197259874083, 0.17022013664245605 - 2020-03-02 09:00:00\n",
      "\n",
      "2020-12-15 11:06:48,677 - simulator - INFO - ==================== timestep ====================\n",
      "2020-12-15 11:06:48,820 - activity_manager - INFO - CMS: People COMS for rank 0/1 - 3.442983143031597e-06,3.0994415283203125e-06 - 2020-03-02 10:00:00\n",
      "2020-12-15 11:06:48,822 - simulator - INFO - Info for rank 0, Date = 2020-03-02 10:00:00, number of deaths =  0, number of infected = 59\n",
      "2020-12-15 11:06:48,890 - simulator - INFO - CMS: Infection COMS-v2 for rank 0/1(2) 0.00010601000394672155,0.00010609626770019531 - 2020-03-02 10:00:00\n",
      "2020-12-15 11:06:48,934 - simulator - INFO - CMS: Timestep for rank 0/1 - 0.2564733359904494, 0.2564737796783447 - 2020-03-02 10:00:00\n",
      "\n",
      "2020-12-15 11:06:48,934 - simulator - INFO - ==================== timestep ====================\n",
      "2020-12-15 11:06:48,987 - activity_manager - INFO - CMS: People COMS for rank 0/1 - 5.262991180643439e-06,5.0067901611328125e-06 - 2020-03-02 13:00:00\n",
      "2020-12-15 11:06:48,989 - simulator - INFO - Info for rank 0, Date = 2020-03-02 13:00:00, number of deaths =  0, number of infected = 62\n",
      "2020-12-15 11:06:49,053 - simulator - INFO - CMS: Infection COMS-v2 for rank 0/1(2) 0.0001071720034815371,0.00010704994201660156 - 2020-03-02 13:00:00\n",
      "2020-12-15 11:06:49,094 - simulator - INFO - CMS: Timestep for rank 0/1 - 0.15911940901423804, 0.1591203212738037 - 2020-03-02 13:00:00\n",
      "\n",
      "2020-12-15 11:06:49,095 - simulator - INFO - ==================== timestep ====================\n",
      "2020-12-15 11:06:49,186 - activity_manager - INFO - CMS: People COMS for rank 0/1 - 4.241999704390764e-06,3.5762786865234375e-06 - 2020-03-03 00:00:00\n",
      "2020-12-15 11:06:49,189 - simulator - INFO - Info for rank 0, Date = 2020-03-03 00:00:00, number of deaths =  0, number of infected = 65\n",
      "2020-12-15 11:06:49,271 - simulator - INFO - CMS: Infection COMS-v2 for rank 0/1(2) 0.00019292498473078012,0.00019288063049316406 - 2020-03-03 00:00:00\n",
      "2020-12-15 11:06:49,326 - simulator - INFO - CMS: Timestep for rank 0/1 - 0.23037925199605525, 0.23037981986999512 - 2020-03-03 00:00:00\n",
      "\n",
      "2020-12-15 11:06:49,327 - simulator - INFO - ==================== timestep ====================\n",
      "2020-12-15 11:06:49,432 - activity_manager - INFO - CMS: People COMS for rank 0/1 - 5.0140079110860825e-06,4.76837158203125e-06 - 2020-03-03 01:00:00\n",
      "2020-12-15 11:06:49,436 - simulator - INFO - Info for rank 0, Date = 2020-03-03 01:00:00, number of deaths =  0, number of infected = 65\n",
      "2020-12-15 11:06:50,038 - simulator - INFO - CMS: Infection COMS-v2 for rank 0/1(2) 0.00017052999464794993,0.00016999244689941406 - 2020-03-03 01:00:00\n",
      "2020-12-15 11:06:50,110 - simulator - INFO - CMS: Timestep for rank 0/1 - 0.7826537090004422, 0.7826542854309082 - 2020-03-03 01:00:00\n",
      "\n",
      "2020-12-15 11:06:50,111 - simulator - INFO - ==================== timestep ====================\n",
      "2020-12-15 11:06:50,204 - activity_manager - INFO - CMS: People COMS for rank 0/1 - 5.828012945130467e-06,5.0067901611328125e-06 - 2020-03-03 09:00:00\n",
      "2020-12-15 11:06:50,216 - simulator - INFO - Info for rank 0, Date = 2020-03-03 09:00:00, number of deaths =  0, number of infected = 70\n",
      "2020-12-15 11:06:50,282 - simulator - INFO - CMS: Infection COMS-v2 for rank 0/1(2) 0.00011139101115986705,0.00011110305786132812 - 2020-03-03 09:00:00\n",
      "2020-12-15 11:06:50,326 - simulator - INFO - CMS: Timestep for rank 0/1 - 0.20756369299488142, 0.2075638771057129 - 2020-03-03 09:00:00\n",
      "\n",
      "2020-12-15 11:06:50,326 - simulator - INFO - ==================== timestep ====================\n",
      "2020-12-15 11:06:50,494 - activity_manager - INFO - CMS: People COMS for rank 0/1 - 4.98400186188519e-06,4.291534423828125e-06 - 2020-03-03 10:00:00\n",
      "2020-12-15 11:06:50,497 - simulator - INFO - Info for rank 0, Date = 2020-03-03 10:00:00, number of deaths =  0, number of infected = 71\n",
      "2020-12-15 11:06:50,574 - simulator - INFO - CMS: Infection COMS-v2 for rank 0/1(2) 0.00010914698941633105,0.0001087188720703125 - 2020-03-03 10:00:00\n",
      "2020-12-15 11:06:50,625 - simulator - INFO - CMS: Timestep for rank 0/1 - 0.2981564090005122, 0.2981572151184082 - 2020-03-03 10:00:00\n",
      "\n",
      "2020-12-15 11:06:50,626 - simulator - INFO - ==================== timestep ====================\n",
      "2020-12-15 11:06:50,680 - activity_manager - INFO - CMS: People COMS for rank 0/1 - 5.2349932957440615e-06,4.5299530029296875e-06 - 2020-03-03 13:00:00\n",
      "2020-12-15 11:06:50,683 - simulator - INFO - Info for rank 0, Date = 2020-03-03 13:00:00, number of deaths =  0, number of infected = 73\n",
      "2020-12-15 11:06:50,759 - simulator - INFO - CMS: Infection COMS-v2 for rank 0/1(2) 0.00015009200433269143,0.00014972686767578125 - 2020-03-03 13:00:00\n",
      "2020-12-15 11:06:50,802 - simulator - INFO - CMS: Timestep for rank 0/1 - 0.17513575701741502, 0.17513656616210938 - 2020-03-03 13:00:00\n",
      "\n",
      "2020-12-15 11:06:50,802 - simulator - INFO - ==================== timestep ====================\n",
      "2020-12-15 11:06:50,861 - activity_manager - INFO - CMS: People COMS for rank 0/1 - 3.874010872095823e-06,3.0994415283203125e-06 - 2020-03-04 00:00:00\n",
      "2020-12-15 11:06:50,863 - simulator - INFO - Info for rank 0, Date = 2020-03-04 00:00:00, number of deaths =  0, number of infected = 80\n",
      "2020-12-15 11:06:50,928 - simulator - INFO - CMS: Infection COMS-v2 for rank 0/1(2) 0.00012321400572545826,0.00012254714965820312 - 2020-03-04 00:00:00\n",
      "2020-12-15 11:06:50,969 - simulator - INFO - CMS: Timestep for rank 0/1 - 0.16617790699820034, 0.16617822647094727 - 2020-03-04 00:00:00\n",
      "\n",
      "2020-12-15 11:06:50,970 - simulator - INFO - ==================== timestep ====================\n",
      "2020-12-15 11:06:51,039 - activity_manager - INFO - CMS: People COMS for rank 0/1 - 3.481021849438548e-06,3.0994415283203125e-06 - 2020-03-04 01:00:00\n",
      "2020-12-15 11:06:51,042 - simulator - INFO - Info for rank 0, Date = 2020-03-04 01:00:00, number of deaths =  0, number of infected = 80\n",
      "2020-12-15 11:06:51,328 - simulator - INFO - CMS: Infection COMS-v2 for rank 0/1(2) 0.00011255900608375669,0.0001125335693359375 - 2020-03-04 01:00:00\n",
      "2020-12-15 11:06:51,365 - simulator - INFO - CMS: Timestep for rank 0/1 - 0.39528173499275, 0.3952820301055908 - 2020-03-04 01:00:00\n",
      "\n",
      "2020-12-15 11:06:51,366 - simulator - INFO - ==================== timestep ====================\n",
      "2020-12-15 11:06:51,420 - activity_manager - INFO - CMS: People COMS for rank 0/1 - 3.730005118995905e-06,3.0994415283203125e-06 - 2020-03-04 09:00:00\n",
      "2020-12-15 11:06:51,422 - simulator - INFO - Info for rank 0, Date = 2020-03-04 09:00:00, number of deaths =  0, number of infected = 89\n",
      "2020-12-15 11:06:51,502 - simulator - INFO - CMS: Infection COMS-v2 for rank 0/1(2) 0.00010943200322799385,0.00010919570922851562 - 2020-03-04 09:00:00\n",
      "2020-12-15 11:06:51,558 - simulator - INFO - CMS: Timestep for rank 0/1 - 0.19154840099508874, 0.19154930114746094 - 2020-03-04 09:00:00\n",
      "\n",
      "2020-12-15 11:06:51,559 - simulator - INFO - ==================== timestep ====================\n",
      "2020-12-15 11:06:51,736 - activity_manager - INFO - CMS: People COMS for rank 0/1 - 3.1339877750724554e-06,2.86102294921875e-06 - 2020-03-04 10:00:00\n",
      "2020-12-15 11:06:51,740 - simulator - INFO - Info for rank 0, Date = 2020-03-04 10:00:00, number of deaths =  0, number of infected = 90\n",
      "2020-12-15 11:06:51,812 - simulator - INFO - CMS: Infection COMS-v2 for rank 0/1(2) 0.00012386299204081297,0.0001232624053955078 - 2020-03-04 10:00:00\n",
      "2020-12-15 11:06:51,856 - simulator - INFO - CMS: Timestep for rank 0/1 - 0.29433890801738016, 0.294339656829834 - 2020-03-04 10:00:00\n",
      "\n",
      "2020-12-15 11:06:51,856 - simulator - INFO - ==================== timestep ====================\n",
      "2020-12-15 11:06:51,908 - activity_manager - INFO - CMS: People COMS for rank 0/1 - 4.426983650773764e-06,3.814697265625e-06 - 2020-03-04 13:00:00\n",
      "2020-12-15 11:06:51,910 - simulator - INFO - Info for rank 0, Date = 2020-03-04 13:00:00, number of deaths =  0, number of infected = 90\n",
      "2020-12-15 11:06:51,980 - simulator - INFO - CMS: Infection COMS-v2 for rank 0/1(2) 0.0001145040150731802,0.00011396408081054688 - 2020-03-04 13:00:00\n",
      "2020-12-15 11:06:52,024 - simulator - INFO - CMS: Timestep for rank 0/1 - 0.16706503098248504, 0.16706562042236328 - 2020-03-04 13:00:00\n",
      "\n",
      "2020-12-15 11:06:52,024 - simulator - INFO - ==================== timestep ====================\n",
      "2020-12-15 11:06:52,080 - activity_manager - INFO - CMS: People COMS for rank 0/1 - 4.319008439779282e-06,3.5762786865234375e-06 - 2020-03-05 00:00:00\n",
      "2020-12-15 11:06:52,082 - simulator - INFO - Info for rank 0, Date = 2020-03-05 00:00:00, number of deaths =  0, number of infected = 90\n",
      "2020-12-15 11:06:52,147 - simulator - INFO - CMS: Infection COMS-v2 for rank 0/1(2) 0.00010919600026682019,0.0001087188720703125 - 2020-03-05 00:00:00\n",
      "2020-12-15 11:06:52,191 - simulator - INFO - CMS: Timestep for rank 0/1 - 0.16550579899922013, 0.16550660133361816 - 2020-03-05 00:00:00\n",
      "\n",
      "2020-12-15 11:06:52,192 - simulator - INFO - ==================== timestep ====================\n",
      "2020-12-15 11:06:52,256 - activity_manager - INFO - CMS: People COMS for rank 0/1 - 3.3940013963729143e-06,3.0994415283203125e-06 - 2020-03-05 01:00:00\n",
      "2020-12-15 11:06:52,258 - simulator - INFO - Info for rank 0, Date = 2020-03-05 01:00:00, number of deaths =  0, number of infected = 91\n",
      "2020-12-15 11:06:52,353 - simulator - INFO - CMS: Infection COMS-v2 for rank 0/1(2) 0.00013472102000378072,0.0001342296600341797 - 2020-03-05 01:00:00\n",
      "2020-12-15 11:06:52,396 - simulator - INFO - CMS: Timestep for rank 0/1 - 0.20378238902776502, 0.2037830352783203 - 2020-03-05 01:00:00\n",
      "\n",
      "2020-12-15 11:06:52,397 - simulator - INFO - ==================== timestep ====================\n",
      "2020-12-15 11:06:52,450 - activity_manager - INFO - CMS: People COMS for rank 0/1 - 3.8199941627681255e-06,2.86102294921875e-06 - 2020-03-05 09:00:00\n",
      "2020-12-15 11:06:52,452 - simulator - INFO - Info for rank 0, Date = 2020-03-05 09:00:00, number of deaths =  0, number of infected = 99\n",
      "2020-12-15 11:06:52,528 - simulator - INFO - CMS: Infection COMS-v2 for rank 0/1(2) 0.00013374502304941416,0.000133514404296875 - 2020-03-05 09:00:00\n",
      "2020-12-15 11:06:52,578 - simulator - INFO - CMS: Timestep for rank 0/1 - 0.18082134702126496, 0.18082165718078613 - 2020-03-05 09:00:00\n",
      "\n",
      "2020-12-15 11:06:52,578 - simulator - INFO - ==================== timestep ====================\n",
      "2020-12-15 11:06:52,743 - activity_manager - INFO - CMS: People COMS for rank 0/1 - 3.549008397385478e-06,3.0994415283203125e-06 - 2020-03-05 10:00:00\n",
      "2020-12-15 11:06:52,746 - simulator - INFO - Info for rank 0, Date = 2020-03-05 10:00:00, number of deaths =  0, number of infected = 100\n",
      "2020-12-15 11:06:52,824 - simulator - INFO - CMS: Infection COMS-v2 for rank 0/1(2) 0.00011410799925215542,0.00011396408081054688 - 2020-03-05 10:00:00\n",
      "2020-12-15 11:06:53,015 - simulator - INFO - CMS: Timestep for rank 0/1 - 0.4360579479834996, 0.43605852127075195 - 2020-03-05 10:00:00\n",
      "\n",
      "2020-12-15 11:06:53,016 - simulator - INFO - ==================== timestep ====================\n",
      "2020-12-15 11:06:53,065 - activity_manager - INFO - CMS: People COMS for rank 0/1 - 5.609006620943546e-06,5.245208740234375e-06 - 2020-03-05 13:00:00\n",
      "2020-12-15 11:06:53,067 - simulator - INFO - Info for rank 0, Date = 2020-03-05 13:00:00, number of deaths =  0, number of infected = 102\n",
      "2020-12-15 11:06:53,139 - simulator - INFO - CMS: Infection COMS-v2 for rank 0/1(2) 0.00015843499568291008,0.00015783309936523438 - 2020-03-05 13:00:00\n",
      "2020-12-15 11:06:53,187 - simulator - INFO - CMS: Timestep for rank 0/1 - 0.17049403602140956, 0.17049479484558105 - 2020-03-05 13:00:00\n",
      "\n",
      "2020-12-15 11:06:53,188 - simulator - INFO - ==================== timestep ====================\n",
      "2020-12-15 11:06:53,260 - activity_manager - INFO - CMS: People COMS for rank 0/1 - 7.234979420900345e-06,6.4373016357421875e-06 - 2020-03-06 00:00:00\n",
      "2020-12-15 11:06:53,264 - simulator - INFO - Info for rank 0, Date = 2020-03-06 00:00:00, number of deaths =  0, number of infected = 109\n",
      "2020-12-15 11:06:53,344 - simulator - INFO - CMS: Infection COMS-v2 for rank 0/1(2) 0.00019636197248473763,0.00019621849060058594 - 2020-03-06 00:00:00\n",
      "2020-12-15 11:06:53,389 - simulator - INFO - CMS: Timestep for rank 0/1 - 0.20065006698132493, 0.20065069198608398 - 2020-03-06 00:00:00\n",
      "\n",
      "2020-12-15 11:06:53,390 - simulator - INFO - ==================== timestep ====================\n",
      "2020-12-15 11:06:53,465 - activity_manager - INFO - CMS: People COMS for rank 0/1 - 3.283988917246461e-06,2.86102294921875e-06 - 2020-03-06 01:00:00\n",
      "2020-12-15 11:06:53,469 - simulator - INFO - Info for rank 0, Date = 2020-03-06 01:00:00, number of deaths =  0, number of infected = 112\n",
      "2020-12-15 11:06:53,594 - simulator - INFO - CMS: Infection COMS-v2 for rank 0/1(2) 0.00014094699872657657,0.00014019012451171875 - 2020-03-06 01:00:00\n",
      "2020-12-15 11:06:53,646 - simulator - INFO - CMS: Timestep for rank 0/1 - 0.25583248399198055, 0.25583362579345703 - 2020-03-06 01:00:00\n",
      "\n",
      "2020-12-15 11:06:53,647 - simulator - INFO - ==================== timestep ====================\n",
      "2020-12-15 11:06:53,709 - activity_manager - INFO - CMS: People COMS for rank 0/1 - 6.280984962359071e-06,5.245208740234375e-06 - 2020-03-06 09:00:00\n",
      "2020-12-15 11:06:53,713 - simulator - INFO - Info for rank 0, Date = 2020-03-06 09:00:00, number of deaths =  0, number of infected = 123\n",
      "2020-12-15 11:06:53,794 - simulator - INFO - CMS: Infection COMS-v2 for rank 0/1(2) 0.0001327230129390955,0.0001323223114013672 - 2020-03-06 09:00:00\n",
      "2020-12-15 11:06:53,838 - simulator - INFO - CMS: Timestep for rank 0/1 - 0.19009243900654837, 0.1900928020477295 - 2020-03-06 09:00:00\n",
      "\n",
      "2020-12-15 11:06:53,838 - simulator - INFO - ==================== timestep ====================\n",
      "2020-12-15 11:06:54,014 - activity_manager - INFO - CMS: People COMS for rank 0/1 - 3.838998964056373e-06,3.337860107421875e-06 - 2020-03-06 10:00:00\n",
      "2020-12-15 11:06:54,016 - simulator - INFO - Info for rank 0, Date = 2020-03-06 10:00:00, number of deaths =  0, number of infected = 123\n",
      "2020-12-15 11:06:54,132 - simulator - INFO - CMS: Infection COMS-v2 for rank 0/1(2) 0.00010724298772402108,0.00010704994201660156 - 2020-03-06 10:00:00\n",
      "2020-12-15 11:06:54,174 - simulator - INFO - CMS: Timestep for rank 0/1 - 0.3348879920085892, 0.3348884582519531 - 2020-03-06 10:00:00\n",
      "\n",
      "2020-12-15 11:06:54,174 - simulator - INFO - ==================== timestep ====================\n",
      "2020-12-15 11:06:54,221 - activity_manager - INFO - CMS: People COMS for rank 0/1 - 4.924979293718934e-06,4.5299530029296875e-06 - 2020-03-06 13:00:00\n",
      "2020-12-15 11:06:54,224 - simulator - INFO - Info for rank 0, Date = 2020-03-06 13:00:00, number of deaths =  0, number of infected = 125\n",
      "2020-12-15 11:06:54,300 - simulator - INFO - CMS: Infection COMS-v2 for rank 0/1(2) 0.00010468499385751784,0.0001049041748046875 - 2020-03-06 13:00:00\n",
      "2020-12-15 11:06:54,341 - simulator - INFO - CMS: Timestep for rank 0/1 - 0.16663428000174463, 0.16663479804992676 - 2020-03-06 13:00:00\n",
      "\n",
      "2020-12-15 11:06:54,342 - simulator - INFO - ==================== timestep ====================\n",
      "2020-12-15 11:06:54,491 - activity_manager - INFO - CMS: People COMS for rank 0/1 - 3.7400168366730213e-06,3.0994415283203125e-06 - 2020-03-07 00:00:00\n",
      "2020-12-15 11:06:54,494 - simulator - INFO - Info for rank 0, Date = 2020-03-07 00:00:00, number of deaths =  0, number of infected = 129\n",
      "2020-12-15 11:06:54,581 - simulator - INFO - CMS: Infection COMS-v2 for rank 0/1(2) 0.00012250000145286322,0.00012230873107910156 - 2020-03-07 00:00:00\n",
      "2020-12-15 11:06:54,627 - simulator - INFO - CMS: Timestep for rank 0/1 - 0.2844250159978401, 0.2844254970550537 - 2020-03-07 00:00:00\n",
      "\n",
      "2020-12-15 11:06:54,628 - simulator - INFO - ==================== timestep ====================\n",
      "2020-12-15 11:06:54,881 - activity_manager - INFO - CMS: People COMS for rank 0/1 - 3.838998964056373e-06,3.337860107421875e-06 - 2020-03-07 04:00:00\n",
      "2020-12-15 11:06:54,885 - simulator - INFO - Info for rank 0, Date = 2020-03-07 04:00:00, number of deaths =  0, number of infected = 133\n",
      "2020-12-15 11:06:54,989 - simulator - INFO - CMS: Infection COMS-v2 for rank 0/1(2) 0.00011872101458720863,0.00011849403381347656 - 2020-03-07 04:00:00\n",
      "2020-12-15 11:06:55,034 - simulator - INFO - CMS: Timestep for rank 0/1 - 0.4050881300063338, 0.4050886631011963 - 2020-03-07 04:00:00\n",
      "\n",
      "2020-12-15 11:06:55,035 - simulator - INFO - ==================== timestep ====================\n",
      "2020-12-15 11:06:55,195 - activity_manager - INFO - CMS: People COMS for rank 0/1 - 4.071014700457454e-06,3.5762786865234375e-06 - 2020-03-07 08:00:00\n",
      "2020-12-15 11:06:55,197 - simulator - INFO - Info for rank 0, Date = 2020-03-07 08:00:00, number of deaths =  0, number of infected = 139\n",
      "2020-12-15 11:06:55,271 - simulator - INFO - CMS: Infection COMS-v2 for rank 0/1(2) 0.0001138380030170083,0.00011372566223144531 - 2020-03-07 08:00:00\n",
      "2020-12-15 11:06:55,316 - simulator - INFO - CMS: Timestep for rank 0/1 - 0.2805450299929362, 0.280545711517334 - 2020-03-07 08:00:00\n",
      "\n",
      "2020-12-15 11:06:55,316 - simulator - INFO - ==================== timestep ====================\n",
      "2020-12-15 11:06:55,362 - activity_manager - INFO - CMS: People COMS for rank 0/1 - 5.003996193408966e-06,4.291534423828125e-06 - 2020-03-07 12:00:00\n",
      "2020-12-15 11:06:55,364 - simulator - INFO - Info for rank 0, Date = 2020-03-07 12:00:00, number of deaths =  0, number of infected = 143\n",
      "2020-12-15 11:06:55,431 - simulator - INFO - CMS: Infection COMS-v2 for rank 0/1(2) 0.00010558500071056187,0.00010538101196289062 - 2020-03-07 12:00:00\n",
      "2020-12-15 11:06:55,509 - simulator - INFO - CMS: Timestep for rank 0/1 - 0.19204781501321122, 0.1920487880706787 - 2020-03-07 12:00:00\n",
      "\n",
      "2020-12-15 11:06:55,509 - simulator - INFO - ==================== timestep ====================\n",
      "2020-12-15 11:06:55,726 - activity_manager - INFO - CMS: People COMS for rank 0/1 - 3.845983883365989e-06,3.0994415283203125e-06 - 2020-03-08 00:00:00\n",
      "2020-12-15 11:06:55,729 - simulator - INFO - Info for rank 0, Date = 2020-03-08 00:00:00, number of deaths =  0, number of infected = 146\n",
      "2020-12-15 11:06:55,803 - simulator - INFO - CMS: Infection COMS-v2 for rank 0/1(2) 0.00010287901386618614,0.00010251998901367188 - 2020-03-08 00:00:00\n",
      "2020-12-15 11:06:55,844 - simulator - INFO - CMS: Timestep for rank 0/1 - 0.3335832449956797, 0.33358335494995117 - 2020-03-08 00:00:00\n",
      "\n",
      "2020-12-15 11:06:55,845 - simulator - INFO - ==================== timestep ====================\n",
      "2020-12-15 11:06:55,996 - activity_manager - INFO - CMS: People COMS for rank 0/1 - 3.8860016502439976e-06,3.5762786865234375e-06 - 2020-03-08 04:00:00\n",
      "2020-12-15 11:06:56,001 - simulator - INFO - Info for rank 0, Date = 2020-03-08 04:00:00, number of deaths =  0, number of infected = 148\n",
      "2020-12-15 11:06:56,082 - simulator - INFO - CMS: Infection COMS-v2 for rank 0/1(2) 0.0001085620024241507,0.00010824203491210938 - 2020-03-08 04:00:00\n",
      "2020-12-15 11:06:56,132 - simulator - INFO - CMS: Timestep for rank 0/1 - 0.2866517220099922, 0.2866528034210205 - 2020-03-08 04:00:00\n",
      "\n",
      "2020-12-15 11:06:56,132 - simulator - INFO - ==================== timestep ====================\n",
      "2020-12-15 11:06:56,291 - activity_manager - INFO - CMS: People COMS for rank 0/1 - 4.0669983718544245e-06,3.814697265625e-06 - 2020-03-08 08:00:00\n",
      "2020-12-15 11:06:56,295 - simulator - INFO - Info for rank 0, Date = 2020-03-08 08:00:00, number of deaths =  0, number of infected = 150\n",
      "2020-12-15 11:06:56,370 - simulator - INFO - CMS: Infection COMS-v2 for rank 0/1(2) 0.00010168401058763266,0.0001010894775390625 - 2020-03-08 08:00:00\n",
      "2020-12-15 11:06:56,411 - simulator - INFO - CMS: Timestep for rank 0/1 - 0.2786329890077468, 0.27863335609436035 - 2020-03-08 08:00:00\n",
      "\n",
      "2020-12-15 11:06:56,412 - simulator - INFO - ==================== timestep ====================\n",
      "2020-12-15 11:06:56,453 - activity_manager - INFO - CMS: People COMS for rank 0/1 - 5.516019882634282e-06,4.5299530029296875e-06 - 2020-03-08 12:00:00\n",
      "2020-12-15 11:06:56,455 - simulator - INFO - Info for rank 0, Date = 2020-03-08 12:00:00, number of deaths =  0, number of infected = 153\n",
      "2020-12-15 11:06:56,522 - simulator - INFO - CMS: Infection COMS-v2 for rank 0/1(2) 0.00010527201811783016,0.00010514259338378906 - 2020-03-08 12:00:00\n",
      "2020-12-15 11:06:56,561 - simulator - INFO - CMS: Timestep for rank 0/1 - 0.1485074749798514, 0.14850735664367676 - 2020-03-08 12:00:00\n",
      "\n",
      "2020-12-15 11:06:56,562 - simulator - INFO - ==================== timestep ====================\n",
      "2020-12-15 11:06:56,620 - activity_manager - INFO - CMS: People COMS for rank 0/1 - 3.455992555245757e-06,2.86102294921875e-06 - 2020-03-09 00:00:00\n",
      "2020-12-15 11:06:56,623 - simulator - INFO - Info for rank 0, Date = 2020-03-09 00:00:00, number of deaths =  0, number of infected = 156\n",
      "2020-12-15 11:06:56,693 - simulator - INFO - CMS: Infection COMS-v2 for rank 0/1(2) 0.0001389539975207299,0.0001385211944580078 - 2020-03-09 00:00:00\n",
      "2020-12-15 11:06:56,739 - simulator - INFO - CMS: Timestep for rank 0/1 - 0.17708790299366228, 0.17708826065063477 - 2020-03-09 00:00:00\n",
      "\n",
      "2020-12-15 11:06:56,740 - simulator - INFO - ==================== timestep ====================\n",
      "2020-12-15 11:06:56,809 - activity_manager - INFO - CMS: People COMS for rank 0/1 - 4.314002580940723e-06,3.337860107421875e-06 - 2020-03-09 01:00:00\n",
      "2020-12-15 11:06:56,813 - simulator - INFO - Info for rank 0, Date = 2020-03-09 01:00:00, number of deaths =  0, number of infected = 156\n",
      "2020-12-15 11:06:57,152 - simulator - INFO - CMS: Infection COMS-v2 for rank 0/1(2) 0.0001261180150322616,0.000125885009765625 - 2020-03-09 01:00:00\n",
      "2020-12-15 11:06:57,208 - simulator - INFO - CMS: Timestep for rank 0/1 - 0.46813685999950394, 0.4681375026702881 - 2020-03-09 01:00:00\n",
      "\n",
      "2020-12-15 11:06:57,209 - simulator - INFO - ==================== timestep ====================\n",
      "2020-12-15 11:06:57,298 - activity_manager - INFO - CMS: People COMS for rank 0/1 - 4.514993634074926e-06,3.814697265625e-06 - 2020-03-09 09:00:00\n",
      "2020-12-15 11:06:57,301 - simulator - INFO - Info for rank 0, Date = 2020-03-09 09:00:00, number of deaths =  0, number of infected = 177\n",
      "2020-12-15 11:06:57,397 - simulator - INFO - CMS: Infection COMS-v2 for rank 0/1(2) 0.0001343869953416288,0.00013399124145507812 - 2020-03-09 09:00:00\n",
      "2020-12-15 11:06:57,449 - simulator - INFO - CMS: Timestep for rank 0/1 - 0.23927548600477166, 0.23927664756774902 - 2020-03-09 09:00:00\n",
      "\n",
      "2020-12-15 11:06:57,450 - simulator - INFO - ==================== timestep ====================\n",
      "2020-12-15 11:06:57,713 - activity_manager - INFO - CMS: People COMS for rank 0/1 - 5.242996849119663e-06,4.5299530029296875e-06 - 2020-03-09 10:00:00\n",
      "2020-12-15 11:06:57,717 - simulator - INFO - Info for rank 0, Date = 2020-03-09 10:00:00, number of deaths =  0, number of infected = 178\n",
      "2020-12-15 11:06:57,829 - simulator - INFO - CMS: Infection COMS-v2 for rank 0/1(2) 0.00014873399049974978,0.00014853477478027344 - 2020-03-09 10:00:00\n",
      "2020-12-15 11:06:57,897 - simulator - INFO - CMS: Timestep for rank 0/1 - 0.4465636929962784, 0.4465646743774414 - 2020-03-09 10:00:00\n",
      "\n",
      "2020-12-15 11:06:57,899 - simulator - INFO - ==================== timestep ====================\n",
      "2020-12-15 11:06:57,999 - activity_manager - INFO - CMS: People COMS for rank 0/1 - 7.151014870032668e-06,6.198883056640625e-06 - 2020-03-09 13:00:00\n",
      "2020-12-15 11:06:58,003 - simulator - INFO - Info for rank 0, Date = 2020-03-09 13:00:00, number of deaths =  0, number of infected = 183\n",
      "2020-12-15 11:06:58,102 - simulator - INFO - CMS: Infection COMS-v2 for rank 0/1(2) 0.00020212697563692927,0.00020170211791992188 - 2020-03-09 13:00:00\n",
      "2020-12-15 11:06:58,164 - simulator - INFO - CMS: Timestep for rank 0/1 - 0.26439699198817834, 0.26439785957336426 - 2020-03-09 13:00:00\n",
      "\n",
      "2020-12-15 11:06:58,164 - simulator - INFO - ==================== timestep ====================\n",
      "2020-12-15 11:06:58,233 - activity_manager - INFO - CMS: People COMS for rank 0/1 - 4.905014066025615e-06,4.0531158447265625e-06 - 2020-03-10 00:00:00\n",
      "2020-12-15 11:06:58,236 - simulator - INFO - Info for rank 0, Date = 2020-03-10 00:00:00, number of deaths =  0, number of infected = 187\n",
      "2020-12-15 11:06:58,312 - simulator - INFO - CMS: Infection COMS-v2 for rank 0/1(2) 0.00010976099292747676,0.00010991096496582031 - 2020-03-10 00:00:00\n",
      "2020-12-15 11:06:58,358 - simulator - INFO - CMS: Timestep for rank 0/1 - 0.19313865099684335, 0.19313931465148926 - 2020-03-10 00:00:00\n",
      "\n",
      "2020-12-15 11:06:58,359 - simulator - INFO - ==================== timestep ====================\n",
      "2020-12-15 11:06:58,425 - activity_manager - INFO - CMS: People COMS for rank 0/1 - 3.60200647264719e-06,3.337860107421875e-06 - 2020-03-10 01:00:00\n",
      "2020-12-15 11:06:58,430 - simulator - INFO - Info for rank 0, Date = 2020-03-10 01:00:00, number of deaths =  0, number of infected = 189\n",
      "2020-12-15 11:06:58,533 - simulator - INFO - CMS: Infection COMS-v2 for rank 0/1(2) 0.00010212900815531611,0.00010204315185546875 - 2020-03-10 01:00:00\n",
      "2020-12-15 11:06:58,574 - simulator - INFO - CMS: Timestep for rank 0/1 - 0.21417352199205197, 0.2141740322113037 - 2020-03-10 01:00:00\n",
      "\n",
      "2020-12-15 11:06:58,574 - simulator - INFO - ==================== timestep ====================\n",
      "2020-12-15 11:06:58,634 - activity_manager - INFO - CMS: People COMS for rank 0/1 - 3.510998794808984e-06,3.0994415283203125e-06 - 2020-03-10 09:00:00\n",
      "2020-12-15 11:06:58,637 - simulator - INFO - Info for rank 0, Date = 2020-03-10 09:00:00, number of deaths =  0, number of infected = 210\n",
      "2020-12-15 11:06:58,708 - simulator - INFO - CMS: Infection COMS-v2 for rank 0/1(2) 0.0001240230049006641,0.00012373924255371094 - 2020-03-10 09:00:00\n",
      "2020-12-15 11:06:58,751 - simulator - INFO - CMS: Timestep for rank 0/1 - 0.17593584099086002, 0.17593622207641602 - 2020-03-10 09:00:00\n",
      "\n",
      "2020-12-15 11:06:58,752 - simulator - INFO - ==================== timestep ====================\n",
      "2020-12-15 11:06:58,906 - activity_manager - INFO - CMS: People COMS for rank 0/1 - 3.637978807091713e-06,3.0994415283203125e-06 - 2020-03-10 10:00:00\n",
      "2020-12-15 11:06:58,908 - simulator - INFO - Info for rank 0, Date = 2020-03-10 10:00:00, number of deaths =  0, number of infected = 210\n",
      "2020-12-15 11:06:58,986 - simulator - INFO - CMS: Infection COMS-v2 for rank 0/1(2) 0.00013592999312095344,0.0001354217529296875 - 2020-03-10 10:00:00\n",
      "2020-12-15 11:06:59,031 - simulator - INFO - CMS: Timestep for rank 0/1 - 0.2784016719961073, 0.27840232849121094 - 2020-03-10 10:00:00\n",
      "\n",
      "2020-12-15 11:06:59,032 - simulator - INFO - ==================== timestep ====================\n",
      "2020-12-15 11:06:59,089 - activity_manager - INFO - CMS: People COMS for rank 0/1 - 6.2689941842108965e-06,5.0067901611328125e-06 - 2020-03-10 13:00:00\n",
      "2020-12-15 11:06:59,092 - simulator - INFO - Info for rank 0, Date = 2020-03-10 13:00:00, number of deaths =  0, number of infected = 210\n",
      "2020-12-15 11:06:59,160 - simulator - INFO - CMS: Infection COMS-v2 for rank 0/1(2) 0.00010467300307936966,0.00010442733764648438 - 2020-03-10 13:00:00\n",
      "2020-12-15 11:06:59,205 - simulator - INFO - CMS: Timestep for rank 0/1 - 0.17246508097741753, 0.17246532440185547 - 2020-03-10 13:00:00\n",
      "\n",
      "2020-12-15 11:06:59,205 - simulator - INFO - ==================== timestep ====================\n",
      "2020-12-15 11:06:59,261 - activity_manager - INFO - CMS: People COMS for rank 0/1 - 4.193978384137154e-06,3.337860107421875e-06 - 2020-03-11 00:00:00\n",
      "2020-12-15 11:06:59,264 - simulator - INFO - Info for rank 0, Date = 2020-03-11 00:00:00, number of deaths =  0, number of infected = 216\n",
      "2020-12-15 11:06:59,339 - simulator - INFO - CMS: Infection COMS-v2 for rank 0/1(2) 0.0001126280112657696,0.00011205673217773438 - 2020-03-11 00:00:00\n",
      "2020-12-15 11:06:59,385 - simulator - INFO - CMS: Timestep for rank 0/1 - 0.17938961801701225, 0.17939066886901855 - 2020-03-11 00:00:00\n",
      "\n",
      "2020-12-15 11:06:59,386 - simulator - INFO - ==================== timestep ====================\n",
      "2020-12-15 11:06:59,462 - activity_manager - INFO - CMS: People COMS for rank 0/1 - 4.849018296226859e-06,4.0531158447265625e-06 - 2020-03-11 01:00:00\n",
      "2020-12-15 11:06:59,464 - simulator - INFO - Info for rank 0, Date = 2020-03-11 01:00:00, number of deaths =  0, number of infected = 217\n",
      "2020-12-15 11:06:59,621 - simulator - INFO - CMS: Infection COMS-v2 for rank 0/1(2) 0.00010900298366323113,0.00010895729064941406 - 2020-03-11 01:00:00\n",
      "2020-12-15 11:06:59,664 - simulator - INFO - CMS: Timestep for rank 0/1 - 0.2782069999957457, 0.27820825576782227 - 2020-03-11 01:00:00\n",
      "\n",
      "2020-12-15 11:06:59,666 - simulator - INFO - ==================== timestep ====================\n",
      "2020-12-15 11:06:59,724 - activity_manager - INFO - CMS: People COMS for rank 0/1 - 4.191009793430567e-06,3.5762786865234375e-06 - 2020-03-11 09:00:00\n",
      "2020-12-15 11:06:59,726 - simulator - INFO - Info for rank 0, Date = 2020-03-11 09:00:00, number of deaths =  0, number of infected = 248\n",
      "2020-12-15 11:06:59,795 - simulator - INFO - CMS: Infection COMS-v2 for rank 0/1(2) 0.000138773990329355,0.00013828277587890625 - 2020-03-11 09:00:00\n",
      "2020-12-15 11:06:59,851 - simulator - INFO - CMS: Timestep for rank 0/1 - 0.1849715269927401, 0.18497204780578613 - 2020-03-11 09:00:00\n",
      "\n",
      "2020-12-15 11:06:59,852 - simulator - INFO - ==================== timestep ====================\n",
      "2020-12-15 11:07:00,050 - activity_manager - INFO - CMS: People COMS for rank 0/1 - 5.420006345957518e-06,4.76837158203125e-06 - 2020-03-11 10:00:00\n",
      "2020-12-15 11:07:00,054 - simulator - INFO - Info for rank 0, Date = 2020-03-11 10:00:00, number of deaths =  0, number of infected = 248\n",
      "2020-12-15 11:07:00,184 - simulator - INFO - CMS: Infection COMS-v2 for rank 0/1(2) 0.00012455598334781826,0.0001239776611328125 - 2020-03-11 10:00:00\n",
      "2020-12-15 11:07:00,233 - simulator - INFO - CMS: Timestep for rank 0/1 - 0.38034879200858995, 0.38034939765930176 - 2020-03-11 10:00:00\n",
      "\n",
      "2020-12-15 11:07:00,234 - simulator - INFO - ==================== timestep ====================\n",
      "2020-12-15 11:07:00,280 - activity_manager - INFO - CMS: People COMS for rank 0/1 - 4.764995537698269e-06,4.0531158447265625e-06 - 2020-03-11 13:00:00\n",
      "2020-12-15 11:07:00,282 - simulator - INFO - Info for rank 0, Date = 2020-03-11 13:00:00, number of deaths =  0, number of infected = 256\n",
      "2020-12-15 11:07:00,394 - simulator - INFO - CMS: Infection COMS-v2 for rank 0/1(2) 0.00015390600310638547,0.0001537799835205078 - 2020-03-11 13:00:00\n",
      "2020-12-15 11:07:00,459 - simulator - INFO - CMS: Timestep for rank 0/1 - 0.22533880101400428, 0.22533941268920898 - 2020-03-11 13:00:00\n",
      "\n",
      "2020-12-15 11:07:00,460 - simulator - INFO - ==================== timestep ====================\n",
      "2020-12-15 11:07:00,519 - activity_manager - INFO - CMS: People COMS for rank 0/1 - 4.322006134316325e-06,3.5762786865234375e-06 - 2020-03-12 00:00:00\n",
      "2020-12-15 11:07:00,521 - simulator - INFO - Info for rank 0, Date = 2020-03-12 00:00:00, number of deaths =  0, number of infected = 263\n",
      "2020-12-15 11:07:00,590 - simulator - INFO - CMS: Infection COMS-v2 for rank 0/1(2) 0.0001227669999934733,0.00012230873107910156 - 2020-03-12 00:00:00\n",
      "2020-12-15 11:07:00,634 - simulator - INFO - CMS: Timestep for rank 0/1 - 0.17319534000125714, 0.17319631576538086 - 2020-03-12 00:00:00\n",
      "\n",
      "2020-12-15 11:07:00,634 - simulator - INFO - ==================== timestep ====================\n",
      "2020-12-15 11:07:00,699 - activity_manager - INFO - CMS: People COMS for rank 0/1 - 4.015018930658698e-06,3.5762786865234375e-06 - 2020-03-12 01:00:00\n",
      "2020-12-15 11:07:00,703 - simulator - INFO - Info for rank 0, Date = 2020-03-12 01:00:00, number of deaths =  0, number of infected = 263\n",
      "2020-12-15 11:07:00,805 - simulator - INFO - CMS: Infection COMS-v2 for rank 0/1(2) 0.00018389898468740284,0.0001838207244873047 - 2020-03-12 01:00:00\n",
      "2020-12-15 11:07:00,866 - simulator - INFO - CMS: Timestep for rank 0/1 - 0.23128241201629862, 0.23128366470336914 - 2020-03-12 01:00:00\n",
      "\n",
      "2020-12-15 11:07:00,867 - simulator - INFO - ==================== timestep ====================\n",
      "2020-12-15 11:07:00,948 - activity_manager - INFO - CMS: People COMS for rank 0/1 - 5.058012902736664e-06,4.291534423828125e-06 - 2020-03-12 09:00:00\n",
      "2020-12-15 11:07:00,950 - simulator - INFO - Info for rank 0, Date = 2020-03-12 09:00:00, number of deaths =  0, number of infected = 304\n",
      "2020-12-15 11:07:01,041 - simulator - INFO - CMS: Infection COMS-v2 for rank 0/1(2) 0.00017077499069273472,0.00017023086547851562 - 2020-03-12 09:00:00\n",
      "2020-12-15 11:07:01,099 - simulator - INFO - CMS: Timestep for rank 0/1 - 0.23165440402226523, 0.23165559768676758 - 2020-03-12 09:00:00\n",
      "\n",
      "2020-12-15 11:07:01,100 - simulator - INFO - ==================== timestep ====================\n",
      "2020-12-15 11:07:01,271 - activity_manager - INFO - CMS: People COMS for rank 0/1 - 5.137990228831768e-06,4.5299530029296875e-06 - 2020-03-12 10:00:00\n",
      "2020-12-15 11:07:01,276 - simulator - INFO - Info for rank 0, Date = 2020-03-12 10:00:00, number of deaths =  0, number of infected = 305\n",
      "2020-12-15 11:07:01,443 - simulator - INFO - CMS: Infection COMS-v2 for rank 0/1(2) 0.00011306299711577594,0.00011277198791503906 - 2020-03-12 10:00:00\n",
      "2020-12-15 11:07:01,486 - simulator - INFO - CMS: Timestep for rank 0/1 - 0.3853038609959185, 0.38530397415161133 - 2020-03-12 10:00:00\n",
      "\n",
      "2020-12-15 11:07:01,487 - simulator - INFO - ==================== timestep ====================\n",
      "2020-12-15 11:07:01,532 - activity_manager - INFO - CMS: People COMS for rank 0/1 - 5.256006261333823e-06,4.291534423828125e-06 - 2020-03-12 13:00:00\n",
      "2020-12-15 11:07:01,536 - simulator - INFO - Info for rank 0, Date = 2020-03-12 13:00:00, number of deaths =  0, number of infected = 306\n",
      "2020-12-15 11:07:01,622 - simulator - INFO - CMS: Infection COMS-v2 for rank 0/1(2) 0.00011975297820754349,0.00011920928955078125 - 2020-03-12 13:00:00\n",
      "2020-12-15 11:07:01,671 - simulator - INFO - CMS: Timestep for rank 0/1 - 0.18356368600507267, 0.1835641860961914 - 2020-03-12 13:00:00\n",
      "\n",
      "2020-12-15 11:07:01,671 - simulator - INFO - ==================== timestep ====================\n",
      "2020-12-15 11:07:01,730 - activity_manager - INFO - CMS: People COMS for rank 0/1 - 4.102999810129404e-06,3.337860107421875e-06 - 2020-03-13 00:00:00\n",
      "2020-12-15 11:07:01,732 - simulator - INFO - Info for rank 0, Date = 2020-03-13 00:00:00, number of deaths =  0, number of infected = 316\n",
      "2020-12-15 11:07:01,799 - simulator - INFO - CMS: Infection COMS-v2 for rank 0/1(2) 0.00010907300747931004,0.0001087188720703125 - 2020-03-13 00:00:00\n",
      "2020-12-15 11:07:01,842 - simulator - INFO - CMS: Timestep for rank 0/1 - 0.16923244600184262, 0.16923284530639648 - 2020-03-13 00:00:00\n",
      "\n",
      "2020-12-15 11:07:01,842 - simulator - INFO - ==================== timestep ====================\n",
      "2020-12-15 11:07:01,906 - activity_manager - INFO - CMS: People COMS for rank 0/1 - 3.649998689070344e-06,2.86102294921875e-06 - 2020-03-13 01:00:00\n",
      "2020-12-15 11:07:01,911 - simulator - INFO - Info for rank 0, Date = 2020-03-13 01:00:00, number of deaths =  0, number of infected = 317\n",
      "2020-12-15 11:07:02,034 - simulator - INFO - CMS: Infection COMS-v2 for rank 0/1(2) 0.00014220899902284145,0.0001418590545654297 - 2020-03-13 01:00:00\n",
      "2020-12-15 11:07:02,077 - simulator - INFO - CMS: Timestep for rank 0/1 - 0.2346628429950215, 0.234663724899292 - 2020-03-13 01:00:00\n",
      "\n",
      "2020-12-15 11:07:02,078 - simulator - INFO - ==================== timestep ====================\n",
      "2020-12-15 11:07:02,137 - activity_manager - INFO - CMS: People COMS for rank 0/1 - 4.124012775719166e-06,3.5762786865234375e-06 - 2020-03-13 09:00:00\n",
      "2020-12-15 11:07:02,139 - simulator - INFO - Info for rank 0, Date = 2020-03-13 09:00:00, number of deaths =  0, number of infected = 358\n",
      "2020-12-15 11:07:02,217 - simulator - INFO - CMS: Infection COMS-v2 for rank 0/1(2) 0.00010886401287280023,0.00010848045349121094 - 2020-03-13 09:00:00\n",
      "2020-12-15 11:07:02,259 - simulator - INFO - CMS: Timestep for rank 0/1 - 0.180219636997208, 0.1802201271057129 - 2020-03-13 09:00:00\n",
      "\n",
      "2020-12-15 11:07:02,259 - simulator - INFO - ==================== timestep ====================\n",
      "2020-12-15 11:07:02,426 - activity_manager - INFO - CMS: People COMS for rank 0/1 - 3.6190031096339226e-06,3.0994415283203125e-06 - 2020-03-13 10:00:00\n",
      "2020-12-15 11:07:02,431 - simulator - INFO - Info for rank 0, Date = 2020-03-13 10:00:00, number of deaths =  0, number of infected = 359\n",
      "2020-12-15 11:07:02,516 - simulator - INFO - CMS: Infection COMS-v2 for rank 0/1(2) 0.00010815999121405184,0.00010800361633300781 - 2020-03-13 10:00:00\n",
      "2020-12-15 11:07:02,562 - simulator - INFO - CMS: Timestep for rank 0/1 - 0.3019861310021952, 0.3019866943359375 - 2020-03-13 10:00:00\n",
      "\n",
      "2020-12-15 11:07:02,562 - simulator - INFO - ==================== timestep ====================\n",
      "2020-12-15 11:07:02,608 - activity_manager - INFO - CMS: People COMS for rank 0/1 - 4.928006092086434e-06,4.5299530029296875e-06 - 2020-03-13 13:00:00\n",
      "2020-12-15 11:07:02,610 - simulator - INFO - Info for rank 0, Date = 2020-03-13 13:00:00, number of deaths =  0, number of infected = 364\n",
      "2020-12-15 11:07:02,689 - simulator - INFO - CMS: Infection COMS-v2 for rank 0/1(2) 0.00011943001300096512,0.00011944770812988281 - 2020-03-13 13:00:00\n",
      "2020-12-15 11:07:02,743 - simulator - INFO - CMS: Timestep for rank 0/1 - 0.1803110939799808, 0.1803121566772461 - 2020-03-13 13:00:00\n",
      "\n",
      "2020-12-15 11:07:02,744 - simulator - INFO - ==================== timestep ====================\n",
      "2020-12-15 11:07:02,886 - activity_manager - INFO - CMS: People COMS for rank 0/1 - 3.630004357546568e-06,3.0994415283203125e-06 - 2020-03-14 00:00:00\n",
      "2020-12-15 11:07:02,888 - simulator - INFO - Info for rank 0, Date = 2020-03-14 00:00:00, number of deaths =  0, number of infected = 369\n",
      "2020-12-15 11:07:02,973 - simulator - INFO - CMS: Infection COMS-v2 for rank 0/1(2) 0.00011831399751827121,0.00011849403381347656 - 2020-03-14 00:00:00\n",
      "2020-12-15 11:07:03,021 - simulator - INFO - CMS: Timestep for rank 0/1 - 0.27712921000784263, 0.2771303653717041 - 2020-03-14 00:00:00\n",
      "\n",
      "2020-12-15 11:07:03,022 - simulator - INFO - ==================== timestep ====================\n",
      "2020-12-15 11:07:03,171 - activity_manager - INFO - CMS: People COMS for rank 0/1 - 4.1879829950630665e-06,3.5762786865234375e-06 - 2020-03-14 04:00:00\n",
      "2020-12-15 11:07:03,174 - simulator - INFO - Info for rank 0, Date = 2020-03-14 04:00:00, number of deaths =  0, number of infected = 375\n",
      "2020-12-15 11:07:03,262 - simulator - INFO - CMS: Infection COMS-v2 for rank 0/1(2) 0.000104957987787202,0.00010466575622558594 - 2020-03-14 04:00:00\n",
      "2020-12-15 11:07:03,309 - simulator - INFO - CMS: Timestep for rank 0/1 - 0.28610463699442334, 0.2861051559448242 - 2020-03-14 04:00:00\n",
      "\n",
      "2020-12-15 11:07:03,309 - simulator - INFO - ==================== timestep ====================\n",
      "2020-12-15 11:07:03,469 - activity_manager - INFO - CMS: People COMS for rank 0/1 - 4.016008460894227e-06,3.337860107421875e-06 - 2020-03-14 08:00:00\n",
      "2020-12-15 11:07:03,472 - simulator - INFO - Info for rank 0, Date = 2020-03-14 08:00:00, number of deaths =  0, number of infected = 381\n",
      "2020-12-15 11:07:03,553 - simulator - INFO - CMS: Infection COMS-v2 for rank 0/1(2) 0.00011468701995909214,0.00011444091796875 - 2020-03-14 08:00:00\n",
      "2020-12-15 11:07:03,595 - simulator - INFO - CMS: Timestep for rank 0/1 - 0.28596046901657246, 0.2859609127044678 - 2020-03-14 08:00:00\n",
      "\n",
      "2020-12-15 11:07:03,596 - simulator - INFO - ==================== timestep ====================\n",
      "2020-12-15 11:07:03,645 - activity_manager - INFO - CMS: People COMS for rank 0/1 - 3.845983883365989e-06,3.0994415283203125e-06 - 2020-03-14 12:00:00\n",
      "2020-12-15 11:07:03,648 - simulator - INFO - Info for rank 0, Date = 2020-03-14 12:00:00, number of deaths =  0, number of infected = 387\n",
      "2020-12-15 11:07:03,719 - simulator - INFO - CMS: Infection COMS-v2 for rank 0/1(2) 0.00010670500341802835,0.00010633468627929688 - 2020-03-14 12:00:00\n",
      "2020-12-15 11:07:03,760 - simulator - INFO - CMS: Timestep for rank 0/1 - 0.16368529401370324, 0.16368579864501953 - 2020-03-14 12:00:00\n",
      "\n",
      "2020-12-15 11:07:03,761 - simulator - INFO - ==================== timestep ====================\n",
      "2020-12-15 11:07:03,907 - activity_manager - INFO - CMS: People COMS for rank 0/1 - 3.522000042721629e-06,3.0994415283203125e-06 - 2020-03-15 00:00:00\n",
      "2020-12-15 11:07:03,911 - simulator - INFO - Info for rank 0, Date = 2020-03-15 00:00:00, number of deaths =  0, number of infected = 392\n",
      "2020-12-15 11:07:03,997 - simulator - INFO - CMS: Infection COMS-v2 for rank 0/1(2) 0.00016089700511656702,0.00016021728515625 - 2020-03-15 00:00:00\n",
      "2020-12-15 11:07:04,056 - simulator - INFO - CMS: Timestep for rank 0/1 - 0.2949406339903362, 0.29494142532348633 - 2020-03-15 00:00:00\n",
      "\n",
      "2020-12-15 11:07:04,057 - simulator - INFO - ==================== timestep ====================\n",
      "2020-12-15 11:07:04,246 - activity_manager - INFO - CMS: People COMS for rank 0/1 - 3.8080033846199512e-06,3.337860107421875e-06 - 2020-03-15 04:00:00\n",
      "2020-12-15 11:07:04,249 - simulator - INFO - Info for rank 0, Date = 2020-03-15 04:00:00, number of deaths =  0, number of infected = 401\n",
      "2020-12-15 11:07:04,337 - simulator - INFO - CMS: Infection COMS-v2 for rank 0/1(2) 0.0001232009963132441,0.00012302398681640625 - 2020-03-15 04:00:00\n",
      "2020-12-15 11:07:04,393 - simulator - INFO - CMS: Timestep for rank 0/1 - 0.33544725898536853, 0.3354487419128418 - 2020-03-15 04:00:00\n",
      "\n",
      "2020-12-15 11:07:04,393 - simulator - INFO - ==================== timestep ====================\n",
      "2020-12-15 11:07:04,588 - activity_manager - INFO - CMS: People COMS for rank 0/1 - 4.244997398927808e-06,3.814697265625e-06 - 2020-03-15 08:00:00\n",
      "2020-12-15 11:07:04,592 - simulator - INFO - Info for rank 0, Date = 2020-03-15 08:00:00, number of deaths =  0, number of infected = 408\n",
      "2020-12-15 11:07:04,674 - simulator - INFO - CMS: Infection COMS-v2 for rank 0/1(2) 0.00010733300587162375,0.00010704994201660156 - 2020-03-15 08:00:00\n",
      "2020-12-15 11:07:04,736 - simulator - INFO - CMS: Timestep for rank 0/1 - 0.34202432198799215, 0.3420250415802002 - 2020-03-15 08:00:00\n",
      "\n",
      "2020-12-15 11:07:04,737 - simulator - INFO - ==================== timestep ====================\n",
      "2020-12-15 11:07:04,814 - activity_manager - INFO - CMS: People COMS for rank 0/1 - 5.848996806889772e-06,5.245208740234375e-06 - 2020-03-15 12:00:00\n",
      "2020-12-15 11:07:04,816 - simulator - INFO - Info for rank 0, Date = 2020-03-15 12:00:00, number of deaths =  0, number of infected = 411\n",
      "2020-12-15 11:07:04,910 - simulator - INFO - CMS: Infection COMS-v2 for rank 0/1(2) 0.00015131299733184278,0.00015115737915039062 - 2020-03-15 12:00:00\n",
      "2020-12-15 11:07:04,964 - simulator - INFO - CMS: Timestep for rank 0/1 - 0.22351482100202702, 0.22351598739624023 - 2020-03-15 12:00:00\n",
      "\n",
      "2020-12-15 11:07:04,965 - simulator - INFO - Saving simulation checkpoint at 2020-03-16\n",
      "2020-12-15 11:07:05,000 - simulator - INFO - ==================== timestep ====================\n",
      "2020-12-15 11:07:05,151 - activity_manager - INFO - CMS: People COMS for rank 0/1 - 3.716006176546216e-06,3.0994415283203125e-06 - 2020-03-16 00:00:00\n",
      "2020-12-15 11:07:05,153 - simulator - INFO - Info for rank 0, Date = 2020-03-16 00:00:00, number of deaths =  0, number of infected = 422\n",
      "2020-12-15 11:07:05,228 - simulator - INFO - CMS: Infection COMS-v2 for rank 0/1(2) 0.00011772199650295079,0.00011730194091796875 - 2020-03-16 00:00:00\n",
      "2020-12-15 11:07:05,278 - simulator - INFO - CMS: Timestep for rank 0/1 - 0.27735134901013225, 0.27735209465026855 - 2020-03-16 00:00:00\n",
      "\n",
      "2020-12-15 11:07:05,279 - simulator - INFO - ==================== timestep ====================\n",
      "2020-12-15 11:07:05,449 - activity_manager - INFO - CMS: People COMS for rank 0/1 - 3.822991857305169e-06,3.0994415283203125e-06 - 2020-03-16 01:00:00\n",
      "2020-12-15 11:07:05,453 - simulator - INFO - Info for rank 0, Date = 2020-03-16 01:00:00, number of deaths =  0, number of infected = 423\n",
      "2020-12-15 11:07:05,558 - simulator - INFO - CMS: Infection COMS-v2 for rank 0/1(2) 0.00010798600851558149,0.00010752677917480469 - 2020-03-16 01:00:00\n",
      "2020-12-15 11:07:05,602 - simulator - INFO - CMS: Timestep for rank 0/1 - 0.32244184499722905, 0.32244253158569336 - 2020-03-16 01:00:00\n",
      "\n",
      "2020-12-15 11:07:05,602 - simulator - INFO - ==================== timestep ====================\n",
      "2020-12-15 11:07:05,752 - activity_manager - INFO - CMS: People COMS for rank 0/1 - 4.49499930255115e-06,3.5762786865234375e-06 - 2020-03-16 09:00:00\n",
      "2020-12-15 11:07:05,755 - simulator - INFO - Info for rank 0, Date = 2020-03-16 09:00:00, number of deaths =  0, number of infected = 466\n",
      "2020-12-15 11:07:05,827 - simulator - INFO - CMS: Infection COMS-v2 for rank 0/1(2) 0.00012405298184603453,0.0001239776611328125 - 2020-03-16 09:00:00\n",
      "2020-12-15 11:07:05,871 - simulator - INFO - CMS: Timestep for rank 0/1 - 0.2677747249836102, 0.2677748203277588 - 2020-03-16 09:00:00\n",
      "\n",
      "2020-12-15 11:07:05,871 - simulator - INFO - ==================== timestep ====================\n",
      "2020-12-15 11:07:06,124 - activity_manager - INFO - CMS: People COMS for rank 0/1 - 3.893976099789143e-06,3.5762786865234375e-06 - 2020-03-16 10:00:00\n",
      "2020-12-15 11:07:06,128 - simulator - INFO - Info for rank 0, Date = 2020-03-16 10:00:00, number of deaths =  0, number of infected = 466\n",
      "2020-12-15 11:07:06,205 - simulator - INFO - CMS: Infection COMS-v2 for rank 0/1(2) 0.00010130897862836719,0.0001010894775390625 - 2020-03-16 10:00:00\n",
      "2020-12-15 11:07:06,253 - simulator - INFO - CMS: Timestep for rank 0/1 - 0.38086927999393083, 0.38086962699890137 - 2020-03-16 10:00:00\n",
      "\n",
      "2020-12-15 11:07:06,253 - simulator - INFO - ==================== timestep ====================\n",
      "2020-12-15 11:07:06,387 - activity_manager - INFO - CMS: People COMS for rank 0/1 - 4.04199818149209e-06,3.5762786865234375e-06 - 2020-03-16 13:00:00\n",
      "2020-12-15 11:07:06,390 - simulator - INFO - Info for rank 0, Date = 2020-03-16 13:00:00, number of deaths =  0, number of infected = 472\n",
      "2020-12-15 11:07:06,459 - simulator - INFO - CMS: Infection COMS-v2 for rank 0/1(2) 0.00010577001376077533,0.00010561943054199219 - 2020-03-16 13:00:00\n",
      "2020-12-15 11:07:06,505 - simulator - INFO - CMS: Timestep for rank 0/1 - 0.2512107260117773, 0.25121116638183594 - 2020-03-16 13:00:00\n",
      "\n",
      "2020-12-15 11:07:06,506 - simulator - INFO - ==================== timestep ====================\n",
      "2020-12-15 11:07:06,651 - activity_manager - INFO - CMS: People COMS for rank 0/1 - 3.630993887782097e-06,3.337860107421875e-06 - 2020-03-17 00:00:00\n",
      "2020-12-15 11:07:06,653 - simulator - INFO - Info for rank 0, Date = 2020-03-17 00:00:00, number of deaths =  0, number of infected = 478\n",
      "2020-12-15 11:07:06,723 - simulator - INFO - CMS: Infection COMS-v2 for rank 0/1(2) 0.00012120397877879441,0.00012087821960449219 - 2020-03-17 00:00:00\n",
      "2020-12-15 11:07:06,764 - simulator - INFO - CMS: Timestep for rank 0/1 - 0.25808567699277773, 0.2580864429473877 - 2020-03-17 00:00:00\n",
      "\n",
      "2020-12-15 11:07:06,765 - simulator - INFO - ==================== timestep ====================\n",
      "2020-12-15 11:07:06,936 - activity_manager - INFO - CMS: People COMS for rank 0/1 - 3.816996468231082e-06,3.0994415283203125e-06 - 2020-03-17 01:00:00\n",
      "2020-12-15 11:07:06,939 - simulator - INFO - Info for rank 0, Date = 2020-03-17 01:00:00, number of deaths =  0, number of infected = 477\n",
      "2020-12-15 11:07:07,050 - simulator - INFO - CMS: Infection COMS-v2 for rank 0/1(2) 0.00010462701902724802,0.00010418891906738281 - 2020-03-17 01:00:00\n",
      "2020-12-15 11:07:07,091 - simulator - INFO - CMS: Timestep for rank 0/1 - 0.325628272985341, 0.32562899589538574 - 2020-03-17 01:00:00\n",
      "\n",
      "2020-12-15 11:07:07,092 - simulator - INFO - ==================== timestep ====================\n",
      "2020-12-15 11:07:07,244 - activity_manager - INFO - CMS: People COMS for rank 0/1 - 4.143017577007413e-06,3.5762786865234375e-06 - 2020-03-17 09:00:00\n",
      "2020-12-15 11:07:07,246 - simulator - INFO - Info for rank 0, Date = 2020-03-17 09:00:00, number of deaths =  0, number of infected = 513\n",
      "2020-12-15 11:07:07,309 - simulator - INFO - CMS: Infection COMS-v2 for rank 0/1(2) 0.00010771100642159581,0.00010704994201660156 - 2020-03-17 09:00:00\n",
      "2020-12-15 11:07:07,363 - simulator - INFO - CMS: Timestep for rank 0/1 - 0.27096240798709914, 0.2709629535675049 - 2020-03-17 09:00:00\n",
      "\n",
      "2020-12-15 11:07:07,364 - simulator - INFO - ==================== timestep ====================\n",
      "2020-12-15 11:07:07,630 - activity_manager - INFO - CMS: People COMS for rank 0/1 - 3.6619894672185183e-06,3.0994415283203125e-06 - 2020-03-17 10:00:00\n",
      "2020-12-15 11:07:07,633 - simulator - INFO - Info for rank 0, Date = 2020-03-17 10:00:00, number of deaths =  0, number of infected = 514\n",
      "2020-12-15 11:07:07,710 - simulator - INFO - CMS: Infection COMS-v2 for rank 0/1(2) 0.00010872900020331144,0.00010848045349121094 - 2020-03-17 10:00:00\n",
      "2020-12-15 11:07:07,752 - simulator - INFO - CMS: Timestep for rank 0/1 - 0.38737121000303887, 0.3873717784881592 - 2020-03-17 10:00:00\n",
      "\n",
      "2020-12-15 11:07:07,752 - simulator - INFO - ==================== timestep ====================\n",
      "2020-12-15 11:07:07,882 - activity_manager - INFO - CMS: People COMS for rank 0/1 - 3.721012035384774e-06,3.0994415283203125e-06 - 2020-03-17 13:00:00\n",
      "2020-12-15 11:07:07,884 - simulator - INFO - Info for rank 0, Date = 2020-03-17 13:00:00, number of deaths =  0, number of infected = 520\n",
      "2020-12-15 11:07:07,958 - simulator - INFO - CMS: Infection COMS-v2 for rank 0/1(2) 0.00022929901024326682,0.00022912025451660156 - 2020-03-17 13:00:00\n",
      "2020-12-15 11:07:08,009 - simulator - INFO - CMS: Timestep for rank 0/1 - 0.25653296400560066, 0.2565336227416992 - 2020-03-17 13:00:00\n",
      "\n",
      "2020-12-15 11:07:08,010 - simulator - INFO - ==================== timestep ====================\n",
      "2020-12-15 11:07:08,151 - activity_manager - INFO - CMS: People COMS for rank 0/1 - 4.002999048680067e-06,3.5762786865234375e-06 - 2020-03-18 00:00:00\n",
      "2020-12-15 11:07:08,154 - simulator - INFO - Info for rank 0, Date = 2020-03-18 00:00:00, number of deaths =  0, number of infected = 525\n",
      "2020-12-15 11:07:08,227 - simulator - INFO - CMS: Infection COMS-v2 for rank 0/1(2) 0.0001223450235556811,0.0001220703125 - 2020-03-18 00:00:00\n",
      "2020-12-15 11:07:08,271 - simulator - INFO - CMS: Timestep for rank 0/1 - 0.2608351540111471, 0.2608351707458496 - 2020-03-18 00:00:00\n",
      "\n",
      "2020-12-15 11:07:08,272 - simulator - INFO - ==================== timestep ====================\n",
      "2020-12-15 11:07:08,456 - activity_manager - INFO - CMS: People COMS for rank 0/1 - 3.814988303929567e-06,3.337860107421875e-06 - 2020-03-18 01:00:00\n",
      "2020-12-15 11:07:08,461 - simulator - INFO - Info for rank 0, Date = 2020-03-18 01:00:00, number of deaths =  0, number of infected = 525\n",
      "2020-12-15 11:07:08,565 - simulator - INFO - CMS: Infection COMS-v2 for rank 0/1(2) 0.00011139200069010258,0.00011110305786132812 - 2020-03-18 01:00:00\n",
      "2020-12-15 11:07:08,609 - simulator - INFO - CMS: Timestep for rank 0/1 - 0.337141210999107, 0.3371422290802002 - 2020-03-18 01:00:00\n",
      "\n",
      "2020-12-15 11:07:08,610 - simulator - INFO - ==================== timestep ====================\n",
      "2020-12-15 11:07:08,759 - activity_manager - INFO - CMS: People COMS for rank 0/1 - 3.810011548921466e-06,3.337860107421875e-06 - 2020-03-18 09:00:00\n",
      "2020-12-15 11:07:08,761 - simulator - INFO - Info for rank 0, Date = 2020-03-18 09:00:00, number of deaths =  0, number of infected = 570\n",
      "2020-12-15 11:07:08,828 - simulator - INFO - CMS: Infection COMS-v2 for rank 0/1(2) 0.00010348000796511769,0.00010323524475097656 - 2020-03-18 09:00:00\n",
      "2020-12-15 11:07:08,870 - simulator - INFO - CMS: Timestep for rank 0/1 - 0.25919029797660187, 0.25919079780578613 - 2020-03-18 09:00:00\n",
      "\n",
      "2020-12-15 11:07:08,870 - simulator - INFO - ==================== timestep ====================\n",
      "2020-12-15 11:07:09,133 - activity_manager - INFO - CMS: People COMS for rank 0/1 - 3.782013664022088e-06,3.337860107421875e-06 - 2020-03-18 10:00:00\n",
      "2020-12-15 11:07:09,135 - simulator - INFO - Info for rank 0, Date = 2020-03-18 10:00:00, number of deaths =  0, number of infected = 573\n",
      "2020-12-15 11:07:09,221 - simulator - INFO - CMS: Infection COMS-v2 for rank 0/1(2) 0.00015267700655385852,0.00015234947204589844 - 2020-03-18 10:00:00\n",
      "2020-12-15 11:07:09,267 - simulator - INFO - CMS: Timestep for rank 0/1 - 0.39602600599755533, 0.3960270881652832 - 2020-03-18 10:00:00\n",
      "\n",
      "2020-12-15 11:07:09,267 - simulator - INFO - ==================== timestep ====================\n",
      "2020-12-15 11:07:09,400 - activity_manager - INFO - CMS: People COMS for rank 0/1 - 5.145004251971841e-06,4.5299530029296875e-06 - 2020-03-18 13:00:00\n",
      "2020-12-15 11:07:09,403 - simulator - INFO - Info for rank 0, Date = 2020-03-18 13:00:00, number of deaths =  0, number of infected = 579\n",
      "2020-12-15 11:07:09,487 - simulator - INFO - CMS: Infection COMS-v2 for rank 0/1(2) 0.00010481302160769701,0.00010466575622558594 - 2020-03-18 13:00:00\n",
      "2020-12-15 11:07:09,532 - simulator - INFO - CMS: Timestep for rank 0/1 - 0.26435626999591477, 0.2643570899963379 - 2020-03-18 13:00:00\n",
      "\n",
      "2020-12-15 11:07:09,533 - simulator - INFO - ==================== timestep ====================\n",
      "2020-12-15 11:07:09,680 - activity_manager - INFO - CMS: People COMS for rank 0/1 - 3.919005393981934e-06,3.5762786865234375e-06 - 2020-03-19 00:00:00\n",
      "2020-12-15 11:07:09,682 - simulator - INFO - Info for rank 0, Date = 2020-03-19 00:00:00, number of deaths =  0, number of infected = 591\n",
      "2020-12-15 11:07:09,750 - simulator - INFO - CMS: Infection COMS-v2 for rank 0/1(2) 0.00012094998965039849,0.00012040138244628906 - 2020-03-19 00:00:00\n",
      "2020-12-15 11:07:09,793 - simulator - INFO - CMS: Timestep for rank 0/1 - 0.2593372470000759, 0.2593374252319336 - 2020-03-19 00:00:00\n",
      "\n",
      "2020-12-15 11:07:09,793 - simulator - INFO - ==================== timestep ====================\n",
      "2020-12-15 11:07:09,951 - activity_manager - INFO - CMS: People COMS for rank 0/1 - 4.014989826828241e-06,2.86102294921875e-06 - 2020-03-19 01:00:00\n",
      "2020-12-15 11:07:09,953 - simulator - INFO - Info for rank 0, Date = 2020-03-19 01:00:00, number of deaths =  0, number of infected = 591\n",
      "2020-12-15 11:07:10,070 - simulator - INFO - CMS: Infection COMS-v2 for rank 0/1(2) 0.00010574699263088405,0.00010538101196289062 - 2020-03-19 01:00:00\n",
      "2020-12-15 11:07:10,110 - simulator - INFO - CMS: Timestep for rank 0/1 - 0.31593964298372157, 0.31594014167785645 - 2020-03-19 01:00:00\n",
      "\n",
      "2020-12-15 11:07:10,111 - simulator - INFO - ==================== timestep ====================\n",
      "2020-12-15 11:07:10,262 - activity_manager - INFO - CMS: People COMS for rank 0/1 - 5.339999916031957e-06,4.76837158203125e-06 - 2020-03-19 09:00:00\n",
      "2020-12-15 11:07:10,265 - simulator - INFO - Info for rank 0, Date = 2020-03-19 09:00:00, number of deaths =  0, number of infected = 645\n",
      "2020-12-15 11:07:10,337 - simulator - INFO - CMS: Infection COMS-v2 for rank 0/1(2) 0.0001270929933525622,0.00012683868408203125 - 2020-03-19 09:00:00\n",
      "2020-12-15 11:07:10,383 - simulator - INFO - CMS: Timestep for rank 0/1 - 0.27218353998614475, 0.272183895111084 - 2020-03-19 09:00:00\n",
      "\n",
      "2020-12-15 11:07:10,384 - simulator - INFO - ==================== timestep ====================\n",
      "2020-12-15 11:07:10,654 - activity_manager - INFO - CMS: People COMS for rank 0/1 - 3.581022610887885e-06,3.0994415283203125e-06 - 2020-03-19 10:00:00\n",
      "2020-12-15 11:07:10,658 - simulator - INFO - Info for rank 0, Date = 2020-03-19 10:00:00, number of deaths =  0, number of infected = 645\n",
      "2020-12-15 11:07:10,737 - simulator - INFO - CMS: Infection COMS-v2 for rank 0/1(2) 0.00010713201481848955,0.00010704994201660156 - 2020-03-19 10:00:00\n",
      "2020-12-15 11:07:10,781 - simulator - INFO - CMS: Timestep for rank 0/1 - 0.3963995609956328, 0.39640021324157715 - 2020-03-19 10:00:00\n",
      "\n",
      "2020-12-15 11:07:10,781 - simulator - INFO - ==================== timestep ====================\n",
      "2020-12-15 11:07:10,912 - activity_manager - INFO - CMS: People COMS for rank 0/1 - 4.1530001908540726e-06,3.5762786865234375e-06 - 2020-03-19 13:00:00\n",
      "2020-12-15 11:07:10,914 - simulator - INFO - Info for rank 0, Date = 2020-03-19 13:00:00, number of deaths =  0, number of infected = 650\n",
      "2020-12-15 11:07:10,986 - simulator - INFO - CMS: Infection COMS-v2 for rank 0/1(2) 0.00010289097554050386,0.00010251998901367188 - 2020-03-19 13:00:00\n",
      "2020-12-15 11:07:11,031 - simulator - INFO - CMS: Timestep for rank 0/1 - 0.2495637079991866, 0.24956417083740234 - 2020-03-19 13:00:00\n",
      "\n",
      "2020-12-15 11:07:11,032 - simulator - INFO - ==================== timestep ====================\n",
      "2020-12-15 11:07:11,204 - activity_manager - INFO - CMS: People COMS for rank 0/1 - 3.0589872039854527e-06,2.86102294921875e-06 - 2020-03-20 00:00:00\n",
      "2020-12-15 11:07:11,206 - simulator - INFO - Info for rank 0, Date = 2020-03-20 00:00:00, number of deaths =  0, number of infected = 660\n",
      "2020-12-15 11:07:11,275 - simulator - INFO - CMS: Infection COMS-v2 for rank 0/1(2) 0.0001246070023626089,0.00012421607971191406 - 2020-03-20 00:00:00\n",
      "2020-12-15 11:07:11,319 - simulator - INFO - CMS: Timestep for rank 0/1 - 0.2869110250030644, 0.2869114875793457 - 2020-03-20 00:00:00\n",
      "\n",
      "2020-12-15 11:07:11,320 - simulator - INFO - ==================== timestep ====================\n",
      "2020-12-15 11:07:11,568 - activity_manager - INFO - CMS: People COMS for rank 0/1 - 5.365000106394291e-06,4.0531158447265625e-06 - 2020-03-20 01:00:00\n",
      "2020-12-15 11:07:11,570 - simulator - INFO - Info for rank 0, Date = 2020-03-20 01:00:00, number of deaths =  0, number of infected = 660\n",
      "2020-12-15 11:07:11,712 - simulator - INFO - CMS: Infection COMS-v2 for rank 0/1(2) 0.00010392398689873517,0.00010371208190917969 - 2020-03-20 01:00:00\n",
      "2020-12-15 11:07:11,759 - simulator - INFO - CMS: Timestep for rank 0/1 - 0.43835168599616736, 0.4383530616760254 - 2020-03-20 01:00:00\n",
      "\n",
      "2020-12-15 11:07:11,760 - simulator - INFO - ==================== timestep ====================\n",
      "2020-12-15 11:07:11,936 - activity_manager - INFO - CMS: People COMS for rank 0/1 - 4.108995199203491e-06,3.337860107421875e-06 - 2020-03-20 09:00:00\n",
      "2020-12-15 11:07:11,938 - simulator - INFO - Info for rank 0, Date = 2020-03-20 09:00:00, number of deaths =  0, number of infected = 688\n",
      "2020-12-15 11:07:12,012 - simulator - INFO - CMS: Infection COMS-v2 for rank 0/1(2) 0.00012086599599570036,0.00012063980102539062 - 2020-03-20 09:00:00\n",
      "2020-12-15 11:07:12,056 - simulator - INFO - CMS: Timestep for rank 0/1 - 0.29532846200163476, 0.29532933235168457 - 2020-03-20 09:00:00\n",
      "\n",
      "2020-12-15 11:07:12,057 - simulator - INFO - ==================== timestep ====================\n",
      "2020-12-15 11:07:12,344 - activity_manager - INFO - CMS: People COMS for rank 0/1 - 3.9869919419288635e-06,3.5762786865234375e-06 - 2020-03-20 10:00:00\n",
      "2020-12-15 11:07:12,347 - simulator - INFO - Info for rank 0, Date = 2020-03-20 10:00:00, number of deaths =  0, number of infected = 687\n",
      "2020-12-15 11:07:12,426 - simulator - INFO - CMS: Infection COMS-v2 for rank 0/1(2) 0.00010819899034686387,0.00010800361633300781 - 2020-03-20 10:00:00\n",
      "2020-12-15 11:07:12,472 - simulator - INFO - CMS: Timestep for rank 0/1 - 0.41437098997994326, 0.4143714904785156 - 2020-03-20 10:00:00\n",
      "\n",
      "2020-12-15 11:07:12,472 - simulator - INFO - ==================== timestep ====================\n",
      "2020-12-15 11:07:12,649 - activity_manager - INFO - CMS: People COMS for rank 0/1 - 5.453999619930983e-06,4.0531158447265625e-06 - 2020-03-20 13:00:00\n",
      "2020-12-15 11:07:12,651 - simulator - INFO - Info for rank 0, Date = 2020-03-20 13:00:00, number of deaths =  0, number of infected = 694\n",
      "2020-12-15 11:07:12,729 - simulator - INFO - CMS: Infection COMS-v2 for rank 0/1(2) 0.00010317101259715855,0.00010275840759277344 - 2020-03-20 13:00:00\n",
      "2020-12-15 11:07:12,774 - simulator - INFO - CMS: Timestep for rank 0/1 - 0.30088400101521984, 0.3008842468261719 - 2020-03-20 13:00:00\n",
      "\n",
      "2020-12-15 11:07:12,774 - simulator - INFO - ==================== timestep ====================\n",
      "2020-12-15 11:07:13,031 - activity_manager - INFO - CMS: People COMS for rank 0/1 - 3.8660073187202215e-06,3.337860107421875e-06 - 2020-03-21 00:00:00\n",
      "2020-12-15 11:07:13,035 - simulator - INFO - Info for rank 0, Date = 2020-03-21 00:00:00, number of deaths =  0, number of infected = 703\n",
      "2020-12-15 11:07:13,122 - simulator - INFO - CMS: Infection COMS-v2 for rank 0/1(2) 0.00010395501158200204,0.00010347366333007812 - 2020-03-21 00:00:00\n",
      "2020-12-15 11:07:13,166 - simulator - INFO - CMS: Timestep for rank 0/1 - 0.39145888001075946, 0.39145970344543457 - 2020-03-21 00:00:00\n",
      "\n",
      "2020-12-15 11:07:13,167 - simulator - INFO - ==================== timestep ====================\n",
      "2020-12-15 11:07:13,428 - activity_manager - INFO - CMS: People COMS for rank 0/1 - 3.389024641364813e-06,2.6226043701171875e-06 - 2020-03-21 04:00:00\n",
      "2020-12-15 11:07:13,433 - simulator - INFO - Info for rank 0, Date = 2020-03-21 04:00:00, number of deaths =  0, number of infected = 708\n",
      "2020-12-15 11:07:13,520 - simulator - INFO - CMS: Infection COMS-v2 for rank 0/1(2) 0.00010331001249141991,0.00010275840759277344 - 2020-03-21 04:00:00\n",
      "2020-12-15 11:07:13,564 - simulator - INFO - CMS: Timestep for rank 0/1 - 0.3968918949831277, 0.3968925476074219 - 2020-03-21 04:00:00\n",
      "\n",
      "2020-12-15 11:07:13,565 - simulator - INFO - ==================== timestep ====================\n",
      "2020-12-15 11:07:13,834 - activity_manager - INFO - CMS: People COMS for rank 0/1 - 3.6240089684724808e-06,3.0994415283203125e-06 - 2020-03-21 08:00:00\n",
      "2020-12-15 11:07:13,839 - simulator - INFO - Info for rank 0, Date = 2020-03-21 08:00:00, number of deaths =  0, number of infected = 711\n",
      "2020-12-15 11:07:13,923 - simulator - INFO - CMS: Infection COMS-v2 for rank 0/1(2) 0.00010196701623499393,0.00010156631469726562 - 2020-03-21 08:00:00\n",
      "2020-12-15 11:07:13,971 - simulator - INFO - CMS: Timestep for rank 0/1 - 0.4058649649959989, 0.4058659076690674 - 2020-03-21 08:00:00\n",
      "\n",
      "2020-12-15 11:07:13,972 - simulator - INFO - ==================== timestep ====================\n",
      "2020-12-15 11:07:14,127 - activity_manager - INFO - CMS: People COMS for rank 0/1 - 4.395988071337342e-06,4.0531158447265625e-06 - 2020-03-21 12:00:00\n",
      "2020-12-15 11:07:14,129 - simulator - INFO - Info for rank 0, Date = 2020-03-21 12:00:00, number of deaths =  0, number of infected = 716\n",
      "2020-12-15 11:07:14,203 - simulator - INFO - CMS: Infection COMS-v2 for rank 0/1(2) 0.00013707199832424521,0.00013637542724609375 - 2020-03-21 12:00:00\n",
      "2020-12-15 11:07:14,246 - simulator - INFO - CMS: Timestep for rank 0/1 - 0.27390977198956534, 0.2739102840423584 - 2020-03-21 12:00:00\n",
      "\n",
      "2020-12-15 11:07:14,247 - simulator - INFO - ==================== timestep ====================\n",
      "2020-12-15 11:07:14,511 - activity_manager - INFO - CMS: People COMS for rank 0/1 - 3.9130100049078465e-06,3.337860107421875e-06 - 2020-03-22 00:00:00\n",
      "2020-12-15 11:07:14,515 - simulator - INFO - Info for rank 0, Date = 2020-03-22 00:00:00, number of deaths =  0, number of infected = 729\n",
      "2020-12-15 11:07:14,611 - simulator - INFO - CMS: Infection COMS-v2 for rank 0/1(2) 0.00010878400644287467,0.00010848045349121094 - 2020-03-22 00:00:00\n",
      "2020-12-15 11:07:14,658 - simulator - INFO - CMS: Timestep for rank 0/1 - 0.41046993297641166, 0.41047072410583496 - 2020-03-22 00:00:00\n",
      "\n",
      "2020-12-15 11:07:14,658 - simulator - INFO - ==================== timestep ====================\n",
      "2020-12-15 11:07:14,906 - activity_manager - INFO - CMS: People COMS for rank 0/1 - 3.264984115958214e-06,2.86102294921875e-06 - 2020-03-22 04:00:00\n",
      "2020-12-15 11:07:14,908 - simulator - INFO - Info for rank 0, Date = 2020-03-22 04:00:00, number of deaths =  0, number of infected = 730\n",
      "2020-12-15 11:07:14,990 - simulator - INFO - CMS: Infection COMS-v2 for rank 0/1(2) 0.00010592100443318486,0.00010538101196289062 - 2020-03-22 04:00:00\n",
      "2020-12-15 11:07:15,035 - simulator - INFO - CMS: Timestep for rank 0/1 - 0.37625976698473096, 0.37626028060913086 - 2020-03-22 04:00:00\n",
      "\n",
      "2020-12-15 11:07:15,036 - simulator - INFO - ==================== timestep ====================\n",
      "2020-12-15 11:07:15,315 - activity_manager - INFO - CMS: People COMS for rank 0/1 - 3.730994649231434e-06,3.337860107421875e-06 - 2020-03-22 08:00:00\n",
      "2020-12-15 11:07:15,317 - simulator - INFO - Info for rank 0, Date = 2020-03-22 08:00:00, number of deaths =  0, number of infected = 737\n",
      "2020-12-15 11:07:15,425 - simulator - INFO - CMS: Infection COMS-v2 for rank 0/1(2) 0.0001497310004197061,0.0001499652862548828 - 2020-03-22 08:00:00\n",
      "2020-12-15 11:07:15,474 - simulator - INFO - CMS: Timestep for rank 0/1 - 0.43744497300940566, 0.43744587898254395 - 2020-03-22 08:00:00\n",
      "\n",
      "2020-12-15 11:07:15,474 - simulator - INFO - ==================== timestep ====================\n",
      "2020-12-15 11:07:15,675 - activity_manager - INFO - CMS: People COMS for rank 0/1 - 5.9010053519159555e-06,5.4836273193359375e-06 - 2020-03-22 12:00:00\n",
      "2020-12-15 11:07:15,680 - simulator - INFO - Info for rank 0, Date = 2020-03-22 12:00:00, number of deaths =  0, number of infected = 736\n",
      "2020-12-15 11:07:15,822 - simulator - INFO - CMS: Infection COMS-v2 for rank 0/1(2) 0.00011071201879531145,0.00011014938354492188 - 2020-03-22 12:00:00\n",
      "2020-12-15 11:07:15,866 - simulator - INFO - CMS: Timestep for rank 0/1 - 0.39113749997341074, 0.39113807678222656 - 2020-03-22 12:00:00\n",
      "\n",
      "2020-12-15 11:07:15,867 - simulator - INFO - ==================== timestep ====================\n",
      "2020-12-15 11:07:16,055 - activity_manager - INFO - CMS: People COMS for rank 0/1 - 4.0669983718544245e-06,3.5762786865234375e-06 - 2020-03-23 00:00:00\n",
      "2020-12-15 11:07:16,057 - simulator - INFO - Info for rank 0, Date = 2020-03-23 00:00:00, number of deaths =  0, number of infected = 747\n",
      "2020-12-15 11:07:16,156 - simulator - INFO - CMS: Infection COMS-v2 for rank 0/1(2) 0.00011431498569436371,0.00011420249938964844 - 2020-03-23 00:00:00\n",
      "2020-12-15 11:07:16,218 - simulator - INFO - CMS: Timestep for rank 0/1 - 0.3512181359983515, 0.35121893882751465 - 2020-03-23 00:00:00\n",
      "\n",
      "2020-12-15 11:07:16,219 - simulator - INFO - ==================== timestep ====================\n",
      "2020-12-15 11:07:16,515 - activity_manager - INFO - CMS: People COMS for rank 0/1 - 3.450986696407199e-06,3.0994415283203125e-06 - 2020-03-23 01:00:00\n",
      "2020-12-15 11:07:16,517 - simulator - INFO - Info for rank 0, Date = 2020-03-23 01:00:00, number of deaths =  0, number of infected = 749\n",
      "2020-12-15 11:07:16,647 - simulator - INFO - CMS: Infection COMS-v2 for rank 0/1(2) 0.00018381400150246918,0.00018358230590820312 - 2020-03-23 01:00:00\n",
      "2020-12-15 11:07:16,724 - simulator - INFO - CMS: Timestep for rank 0/1 - 0.5035893519816454, 0.5035901069641113 - 2020-03-23 01:00:00\n",
      "\n",
      "2020-12-15 11:07:16,725 - simulator - INFO - ==================== timestep ====================\n",
      "2020-12-15 11:07:17,010 - activity_manager - INFO - CMS: People COMS for rank 0/1 - 5.235022399574518e-06,4.0531158447265625e-06 - 2020-03-23 09:00:00\n",
      "2020-12-15 11:07:17,013 - simulator - INFO - Info for rank 0, Date = 2020-03-23 09:00:00, number of deaths =  0, number of infected = 777\n",
      "2020-12-15 11:07:17,111 - simulator - INFO - CMS: Infection COMS-v2 for rank 0/1(2) 0.00012977098231203854,0.00012946128845214844 - 2020-03-23 09:00:00\n",
      "2020-12-15 11:07:17,166 - simulator - INFO - CMS: Timestep for rank 0/1 - 0.4405756210035179, 0.44057583808898926 - 2020-03-23 09:00:00\n",
      "\n",
      "2020-12-15 11:07:17,167 - simulator - INFO - ==================== timestep ====================\n",
      "2020-12-15 11:07:17,570 - activity_manager - INFO - CMS: People COMS for rank 0/1 - 3.872002707794309e-06,3.337860107421875e-06 - 2020-03-23 10:00:00\n",
      "2020-12-15 11:07:17,573 - simulator - INFO - Info for rank 0, Date = 2020-03-23 10:00:00, number of deaths =  0, number of infected = 777\n",
      "2020-12-15 11:07:17,700 - simulator - INFO - CMS: Infection COMS-v2 for rank 0/1(2) 0.00016801099991425872,0.0001678466796875 - 2020-03-23 10:00:00\n",
      "2020-12-15 11:07:17,780 - simulator - INFO - CMS: Timestep for rank 0/1 - 0.6094870759989135, 0.6094882488250732 - 2020-03-23 10:00:00\n",
      "\n",
      "2020-12-15 11:07:17,781 - simulator - INFO - ==================== timestep ====================\n",
      "2020-12-15 11:07:18,035 - activity_manager - INFO - CMS: People COMS for rank 0/1 - 4.5330089051276445e-06,4.0531158447265625e-06 - 2020-03-23 13:00:00\n",
      "2020-12-15 11:07:18,039 - simulator - INFO - Info for rank 0, Date = 2020-03-23 13:00:00, number of deaths =  0, number of infected = 780\n",
      "2020-12-15 11:07:18,153 - simulator - INFO - CMS: Infection COMS-v2 for rank 0/1(2) 0.00013792101526632905,0.00013756752014160156 - 2020-03-23 13:00:00\n",
      "2020-12-15 11:07:18,213 - simulator - INFO - CMS: Timestep for rank 0/1 - 0.4311658689985052, 0.4311668872833252 - 2020-03-23 13:00:00\n",
      "\n",
      "2020-12-15 11:07:18,214 - simulator - INFO - ==================== timestep ====================\n",
      "2020-12-15 11:07:18,515 - activity_manager - INFO - CMS: People COMS for rank 0/1 - 3.915978595614433e-06,3.5762786865234375e-06 - 2020-03-24 00:00:00\n",
      "2020-12-15 11:07:18,518 - simulator - INFO - Info for rank 0, Date = 2020-03-24 00:00:00, number of deaths =  0, number of infected = 793\n",
      "2020-12-15 11:07:18,617 - simulator - INFO - CMS: Infection COMS-v2 for rank 0/1(2) 0.00012769200839102268,0.0001277923583984375 - 2020-03-24 00:00:00\n",
      "2020-12-15 11:07:18,671 - simulator - INFO - CMS: Timestep for rank 0/1 - 0.456649486994138, 0.4566504955291748 - 2020-03-24 00:00:00\n",
      "\n",
      "2020-12-15 11:07:18,672 - simulator - INFO - ==================== timestep ====================\n",
      "2020-12-15 11:07:18,939 - activity_manager - INFO - CMS: People COMS for rank 0/1 - 4.044006345793605e-06,3.5762786865234375e-06 - 2020-03-24 01:00:00\n",
      "2020-12-15 11:07:18,943 - simulator - INFO - Info for rank 0, Date = 2020-03-24 01:00:00, number of deaths =  0, number of infected = 794\n",
      "2020-12-15 11:07:19,065 - simulator - INFO - CMS: Infection COMS-v2 for rank 0/1(2) 0.00011342301149852574,0.00011324882507324219 - 2020-03-24 01:00:00\n",
      "2020-12-15 11:07:19,115 - simulator - INFO - CMS: Timestep for rank 0/1 - 0.4427185020176694, 0.4427189826965332 - 2020-03-24 01:00:00\n",
      "\n",
      "2020-12-15 11:07:19,116 - simulator - INFO - ==================== timestep ====================\n",
      "2020-12-15 11:07:19,367 - activity_manager - INFO - CMS: People COMS for rank 0/1 - 5.32402191311121e-06,4.5299530029296875e-06 - 2020-03-24 09:00:00\n",
      "2020-12-15 11:07:19,372 - simulator - INFO - Info for rank 0, Date = 2020-03-24 09:00:00, number of deaths =  0, number of infected = 808\n",
      "2020-12-15 11:07:19,490 - simulator - INFO - CMS: Infection COMS-v2 for rank 0/1(2) 0.0001575909845996648,0.00015735626220703125 - 2020-03-24 09:00:00\n",
      "2020-12-15 11:07:19,560 - simulator - INFO - CMS: Timestep for rank 0/1 - 0.44314834801480174, 0.4431488513946533 - 2020-03-24 09:00:00\n",
      "\n",
      "2020-12-15 11:07:19,560 - simulator - INFO - ==================== timestep ====================\n",
      "2020-12-15 11:07:19,828 - activity_manager - INFO - CMS: People COMS for rank 0/1 - 4.2409810703247786e-06,3.814697265625e-06 - 2020-03-24 10:00:00\n",
      "2020-12-15 11:07:19,830 - simulator - INFO - Info for rank 0, Date = 2020-03-24 10:00:00, number of deaths =  0, number of infected = 808\n",
      "2020-12-15 11:07:19,941 - simulator - INFO - CMS: Infection COMS-v2 for rank 0/1(2) 0.00017621699953451753,0.0001761913299560547 - 2020-03-24 10:00:00\n",
      "2020-12-15 11:07:20,040 - simulator - INFO - CMS: Timestep for rank 0/1 - 0.4794467669853475, 0.4794478416442871 - 2020-03-24 10:00:00\n",
      "\n",
      "2020-12-15 11:07:20,043 - simulator - INFO - ==================== timestep ====================\n",
      "2020-12-15 11:07:20,267 - activity_manager - INFO - CMS: People COMS for rank 0/1 - 4.726985935121775e-06,4.0531158447265625e-06 - 2020-03-24 13:00:00\n",
      "2020-12-15 11:07:20,270 - simulator - INFO - Info for rank 0, Date = 2020-03-24 13:00:00, number of deaths =  0, number of infected = 808\n",
      "2020-12-15 11:07:20,367 - simulator - INFO - CMS: Infection COMS-v2 for rank 0/1(2) 0.00010616600047796965,0.00010561943054199219 - 2020-03-24 13:00:00\n",
      "2020-12-15 11:07:20,422 - simulator - INFO - CMS: Timestep for rank 0/1 - 0.37785856999107637, 0.37785935401916504 - 2020-03-24 13:00:00\n",
      "\n",
      "2020-12-15 11:07:20,423 - simulator - INFO - ==================== timestep ====================\n",
      "2020-12-15 11:07:20,686 - activity_manager - INFO - CMS: People COMS for rank 0/1 - 7.318012649193406e-06,6.4373016357421875e-06 - 2020-03-25 00:00:00\n",
      "2020-12-15 11:07:20,693 - simulator - INFO - Info for rank 0, Date = 2020-03-25 00:00:00, number of deaths =  0, number of infected = 818\n",
      "2020-12-15 11:07:20,875 - simulator - INFO - CMS: Infection COMS-v2 for rank 0/1(2) 0.00020208398927934468,0.0002014636993408203 - 2020-03-25 00:00:00\n",
      "2020-12-15 11:07:20,996 - simulator - INFO - CMS: Timestep for rank 0/1 - 0.5722600870067254, 0.572260856628418 - 2020-03-25 00:00:00\n",
      "\n",
      "2020-12-15 11:07:20,997 - simulator - INFO - ==================== timestep ====================\n",
      "2020-12-15 11:07:21,272 - activity_manager - INFO - CMS: People COMS for rank 0/1 - 3.757013473659754e-06,3.337860107421875e-06 - 2020-03-25 01:00:00\n",
      "2020-12-15 11:07:21,277 - simulator - INFO - Info for rank 0, Date = 2020-03-25 01:00:00, number of deaths =  0, number of infected = 819\n",
      "2020-12-15 11:07:21,407 - simulator - INFO - CMS: Infection COMS-v2 for rank 0/1(2) 0.00014111900236457586,0.00014090538024902344 - 2020-03-25 01:00:00\n",
      "2020-12-15 11:07:21,471 - simulator - INFO - CMS: Timestep for rank 0/1 - 0.4733873350196518, 0.4733879566192627 - 2020-03-25 01:00:00\n",
      "\n",
      "2020-12-15 11:07:21,472 - simulator - INFO - ==================== timestep ====================\n",
      "2020-12-15 11:07:21,727 - activity_manager - INFO - CMS: People COMS for rank 0/1 - 4.739005817100406e-06,4.291534423828125e-06 - 2020-03-25 09:00:00\n",
      "2020-12-15 11:07:21,730 - simulator - INFO - Info for rank 0, Date = 2020-03-25 09:00:00, number of deaths =  0, number of infected = 831\n",
      "2020-12-15 11:07:21,830 - simulator - INFO - CMS: Infection COMS-v2 for rank 0/1(2) 0.00016750700888223946,0.00016689300537109375 - 2020-03-25 09:00:00\n",
      "2020-12-15 11:07:21,923 - simulator - INFO - CMS: Timestep for rank 0/1 - 0.4499931540049147, 0.4499940872192383 - 2020-03-25 09:00:00\n",
      "\n",
      "2020-12-15 11:07:21,924 - simulator - INFO - ==================== timestep ====================\n",
      "2020-12-15 11:07:22,350 - activity_manager - INFO - CMS: People COMS for rank 0/1 - 3.917986759915948e-06,3.337860107421875e-06 - 2020-03-25 10:00:00\n",
      "2020-12-15 11:07:22,353 - simulator - INFO - Info for rank 0, Date = 2020-03-25 10:00:00, number of deaths =  0, number of infected = 830\n",
      "2020-12-15 11:07:22,461 - simulator - INFO - CMS: Infection COMS-v2 for rank 0/1(2) 0.0001801229955162853,0.00017976760864257812 - 2020-03-25 10:00:00\n",
      "2020-12-15 11:07:22,521 - simulator - INFO - CMS: Timestep for rank 0/1 - 0.5970372750016395, 0.5970377922058105 - 2020-03-25 10:00:00\n",
      "\n",
      "2020-12-15 11:07:22,522 - simulator - INFO - ==================== timestep ====================\n",
      "2020-12-15 11:07:22,714 - activity_manager - INFO - CMS: People COMS for rank 0/1 - 4.736008122563362e-06,4.291534423828125e-06 - 2020-03-25 13:00:00\n",
      "2020-12-15 11:07:22,716 - simulator - INFO - Info for rank 0, Date = 2020-03-25 13:00:00, number of deaths =  0, number of infected = 831\n",
      "2020-12-15 11:07:22,801 - simulator - INFO - CMS: Infection COMS-v2 for rank 0/1(2) 0.00010859599569812417,0.00010848045349121094 - 2020-03-25 13:00:00\n",
      "2020-12-15 11:07:22,851 - simulator - INFO - CMS: Timestep for rank 0/1 - 0.32838354699197225, 0.3283839225769043 - 2020-03-25 13:00:00\n",
      "\n",
      "2020-12-15 11:07:22,852 - simulator - INFO - ==================== timestep ====================\n",
      "2020-12-15 11:07:23,089 - activity_manager - INFO - CMS: People COMS for rank 0/1 - 4.131987225264311e-06,3.5762786865234375e-06 - 2020-03-26 00:00:00\n",
      "2020-12-15 11:07:23,092 - simulator - INFO - Info for rank 0, Date = 2020-03-26 00:00:00, number of deaths =  0, number of infected = 836\n",
      "2020-12-15 11:07:23,211 - simulator - INFO - CMS: Infection COMS-v2 for rank 0/1(2) 0.00014461198588833213,0.0001442432403564453 - 2020-03-26 00:00:00\n",
      "2020-12-15 11:07:23,274 - simulator - INFO - CMS: Timestep for rank 0/1 - 0.42162680099136196, 0.4216277599334717 - 2020-03-26 00:00:00\n",
      "\n",
      "2020-12-15 11:07:23,275 - simulator - INFO - ==================== timestep ====================\n",
      "2020-12-15 11:07:23,631 - activity_manager - INFO - CMS: People COMS for rank 0/1 - 3.7269783206284046e-06,3.337860107421875e-06 - 2020-03-26 01:00:00\n",
      "2020-12-15 11:07:23,636 - simulator - INFO - Info for rank 0, Date = 2020-03-26 01:00:00, number of deaths =  0, number of infected = 835\n",
      "2020-12-15 11:07:23,812 - simulator - INFO - CMS: Infection COMS-v2 for rank 0/1(2) 0.0001856940216384828,0.00018525123596191406 - 2020-03-26 01:00:00\n",
      "2020-12-15 11:07:23,887 - simulator - INFO - CMS: Timestep for rank 0/1 - 0.6107094309991226, 0.6107103824615479 - 2020-03-26 01:00:00\n",
      "\n",
      "2020-12-15 11:07:23,888 - simulator - INFO - ==================== timestep ====================\n",
      "2020-12-15 11:07:24,245 - activity_manager - INFO - CMS: People COMS for rank 0/1 - 6.185000529512763e-06,5.245208740234375e-06 - 2020-03-26 09:00:00\n",
      "2020-12-15 11:07:24,250 - simulator - INFO - Info for rank 0, Date = 2020-03-26 09:00:00, number of deaths =  0, number of infected = 844\n",
      "2020-12-15 11:07:24,360 - simulator - INFO - CMS: Infection COMS-v2 for rank 0/1(2) 0.00013052899157628417,0.00012993812561035156 - 2020-03-26 09:00:00\n",
      "2020-12-15 11:07:24,415 - simulator - INFO - CMS: Timestep for rank 0/1 - 0.52177144199959, 0.5217716693878174 - 2020-03-26 09:00:00\n",
      "\n",
      "2020-12-15 11:07:24,416 - simulator - INFO - ==================== timestep ====================\n",
      "2020-12-15 11:07:24,655 - activity_manager - INFO - CMS: People COMS for rank 0/1 - 3.870984073728323e-06,3.337860107421875e-06 - 2020-03-26 10:00:00\n",
      "2020-12-15 11:07:24,660 - simulator - INFO - Info for rank 0, Date = 2020-03-26 10:00:00, number of deaths =  0, number of infected = 843\n",
      "2020-12-15 11:07:24,840 - simulator - INFO - CMS: Infection COMS-v2 for rank 0/1(2) 0.00017451398889534175,0.00017404556274414062 - 2020-03-26 10:00:00\n",
      "2020-12-15 11:07:24,915 - simulator - INFO - CMS: Timestep for rank 0/1 - 0.49900836500455625, 0.4990091323852539 - 2020-03-26 10:00:00\n",
      "\n",
      "2020-12-15 11:07:24,916 - simulator - INFO - ==================== timestep ====================\n",
      "2020-12-15 11:07:25,167 - activity_manager - INFO - CMS: People COMS for rank 0/1 - 5.15900319442153e-06,4.291534423828125e-06 - 2020-03-26 13:00:00\n",
      "2020-12-15 11:07:25,171 - simulator - INFO - Info for rank 0, Date = 2020-03-26 13:00:00, number of deaths =  1, number of infected = 843\n",
      "2020-12-15 11:07:25,317 - simulator - INFO - CMS: Infection COMS-v2 for rank 0/1(2) 0.00012334302300587296,0.00012302398681640625 - 2020-03-26 13:00:00\n",
      "2020-12-15 11:07:25,392 - simulator - INFO - CMS: Timestep for rank 0/1 - 0.47538729701773264, 0.4753880500793457 - 2020-03-26 13:00:00\n",
      "\n",
      "2020-12-15 11:07:25,393 - simulator - INFO - ==================== timestep ====================\n",
      "2020-12-15 11:07:25,647 - activity_manager - INFO - CMS: People COMS for rank 0/1 - 5.595997208729386e-06,5.0067901611328125e-06 - 2020-03-27 00:00:00\n",
      "2020-12-15 11:07:25,650 - simulator - INFO - Info for rank 0, Date = 2020-03-27 00:00:00, number of deaths =  1, number of infected = 841\n",
      "2020-12-15 11:07:25,751 - simulator - INFO - CMS: Infection COMS-v2 for rank 0/1(2) 0.00011214701225981116,0.00011157989501953125 - 2020-03-27 00:00:00\n",
      "2020-12-15 11:07:25,811 - simulator - INFO - CMS: Timestep for rank 0/1 - 0.41635630698874593, 0.41635680198669434 - 2020-03-27 00:00:00\n",
      "\n",
      "2020-12-15 11:07:25,812 - simulator - INFO - ==================== timestep ====================\n",
      "2020-12-15 11:07:26,184 - activity_manager - INFO - CMS: People COMS for rank 0/1 - 4.956003976985812e-06,4.0531158447265625e-06 - 2020-03-27 01:00:00\n",
      "2020-12-15 11:07:26,189 - simulator - INFO - Info for rank 0, Date = 2020-03-27 01:00:00, number of deaths =  1, number of infected = 840\n",
      "2020-12-15 11:07:26,348 - simulator - INFO - CMS: Infection COMS-v2 for rank 0/1(2) 0.000220232002902776,0.0002200603485107422 - 2020-03-27 01:00:00\n",
      "2020-12-15 11:07:26,428 - simulator - INFO - CMS: Timestep for rank 0/1 - 0.6147766670037527, 0.6147770881652832 - 2020-03-27 01:00:00\n",
      "\n",
      "2020-12-15 11:07:26,429 - simulator - INFO - ==================== timestep ====================\n",
      "2020-12-15 11:07:26,619 - activity_manager - INFO - CMS: People COMS for rank 0/1 - 5.586014594882727e-06,5.0067901611328125e-06 - 2020-03-27 09:00:00\n",
      "2020-12-15 11:07:26,622 - simulator - INFO - Info for rank 0, Date = 2020-03-27 09:00:00, number of deaths =  1, number of infected = 841\n",
      "2020-12-15 11:07:26,704 - simulator - INFO - CMS: Infection COMS-v2 for rank 0/1(2) 0.00011450602323748171,0.00011420249938964844 - 2020-03-27 09:00:00\n",
      "2020-12-15 11:07:26,750 - simulator - INFO - CMS: Timestep for rank 0/1 - 0.32077183297951706, 0.3207724094390869 - 2020-03-27 09:00:00\n",
      "\n",
      "2020-12-15 11:07:26,750 - simulator - INFO - ==================== timestep ====================\n",
      "2020-12-15 11:07:27,069 - activity_manager - INFO - CMS: People COMS for rank 0/1 - 4.070025170221925e-06,3.5762786865234375e-06 - 2020-03-27 10:00:00\n",
      "2020-12-15 11:07:27,074 - simulator - INFO - Info for rank 0, Date = 2020-03-27 10:00:00, number of deaths =  1, number of infected = 841\n",
      "2020-12-15 11:07:27,237 - simulator - INFO - CMS: Infection COMS-v2 for rank 0/1(2) 0.0001911320141516626,0.00019073486328125 - 2020-03-27 10:00:00\n",
      "2020-12-15 11:07:27,313 - simulator - INFO - CMS: Timestep for rank 0/1 - 0.5618466259911656, 0.5618472099304199 - 2020-03-27 10:00:00\n",
      "\n",
      "2020-12-15 11:07:27,313 - simulator - INFO - ==================== timestep ====================\n",
      "2020-12-15 11:07:27,631 - activity_manager - INFO - CMS: People COMS for rank 0/1 - 5.356996553018689e-06,4.76837158203125e-06 - 2020-03-27 13:00:00\n",
      "2020-12-15 11:07:27,636 - simulator - INFO - Info for rank 0, Date = 2020-03-27 13:00:00, number of deaths =  1, number of infected = 839\n",
      "2020-12-15 11:07:27,739 - simulator - INFO - CMS: Infection COMS-v2 for rank 0/1(2) 0.0001264109741896391,0.00012612342834472656 - 2020-03-27 13:00:00\n",
      "2020-12-15 11:07:27,790 - simulator - INFO - CMS: Timestep for rank 0/1 - 0.4741645259782672, 0.4741649627685547 - 2020-03-27 13:00:00\n",
      "\n",
      "2020-12-15 11:07:27,790 - simulator - INFO - ==================== timestep ====================\n",
      "2020-12-15 11:07:28,043 - activity_manager - INFO - CMS: People COMS for rank 0/1 - 3.847992047667503e-06,3.0994415283203125e-06 - 2020-03-28 00:00:00\n",
      "2020-12-15 11:07:28,047 - simulator - INFO - Info for rank 0, Date = 2020-03-28 00:00:00, number of deaths =  1, number of infected = 842\n",
      "2020-12-15 11:07:28,135 - simulator - INFO - CMS: Infection COMS-v2 for rank 0/1(2) 0.0001033240114338696,0.00010323524475097656 - 2020-03-28 00:00:00\n",
      "2020-12-15 11:07:28,184 - simulator - INFO - CMS: Timestep for rank 0/1 - 0.3934938720194623, 0.3934946060180664 - 2020-03-28 00:00:00\n",
      "\n",
      "2020-12-15 11:07:28,185 - simulator - INFO - ==================== timestep ====================\n",
      "2020-12-15 11:07:28,427 - activity_manager - INFO - CMS: People COMS for rank 0/1 - 3.863009624183178e-06,3.337860107421875e-06 - 2020-03-28 04:00:00\n",
      "2020-12-15 11:07:28,432 - simulator - INFO - Info for rank 0, Date = 2020-03-28 04:00:00, number of deaths =  1, number of infected = 846\n",
      "2020-12-15 11:07:28,524 - simulator - INFO - CMS: Infection COMS-v2 for rank 0/1(2) 0.0001474210002925247,0.00014710426330566406 - 2020-03-28 04:00:00\n",
      "2020-12-15 11:07:28,680 - simulator - INFO - CMS: Timestep for rank 0/1 - 0.4946052670129575, 0.49460625648498535 - 2020-03-28 04:00:00\n",
      "\n",
      "2020-12-15 11:07:28,681 - simulator - INFO - ==================== timestep ====================\n",
      "2020-12-15 11:07:28,964 - activity_manager - INFO - CMS: People COMS for rank 0/1 - 5.579000571742654e-06,4.76837158203125e-06 - 2020-03-28 08:00:00\n",
      "2020-12-15 11:07:28,972 - simulator - INFO - Info for rank 0, Date = 2020-03-28 08:00:00, number of deaths =  1, number of infected = 843\n",
      "2020-12-15 11:07:29,119 - simulator - INFO - CMS: Infection COMS-v2 for rank 0/1(2) 0.00016015200526453555,0.00015997886657714844 - 2020-03-28 08:00:00\n",
      "2020-12-15 11:07:29,221 - simulator - INFO - CMS: Timestep for rank 0/1 - 0.5388912649941631, 0.5388922691345215 - 2020-03-28 08:00:00\n",
      "\n",
      "2020-12-15 11:07:29,221 - simulator - INFO - ==================== timestep ====================\n",
      "2020-12-15 11:07:29,459 - activity_manager - INFO - CMS: People COMS for rank 0/1 - 5.0009984988719225e-06,4.0531158447265625e-06 - 2020-03-28 12:00:00\n",
      "2020-12-15 11:07:29,462 - simulator - INFO - Info for rank 0, Date = 2020-03-28 12:00:00, number of deaths =  1, number of infected = 846\n",
      "2020-12-15 11:07:29,579 - simulator - INFO - CMS: Infection COMS-v2 for rank 0/1(2) 0.00011218897998332977,0.00011181831359863281 - 2020-03-28 12:00:00\n",
      "2020-12-15 11:07:29,673 - simulator - INFO - CMS: Timestep for rank 0/1 - 0.45108735997928306, 0.45108819007873535 - 2020-03-28 12:00:00\n",
      "\n",
      "2020-12-15 11:07:29,674 - simulator - INFO - ==================== timestep ====================\n",
      "2020-12-15 11:07:29,924 - activity_manager - INFO - CMS: People COMS for rank 0/1 - 5.102017894387245e-06,4.5299530029296875e-06 - 2020-03-29 00:00:00\n",
      "2020-12-15 11:07:29,927 - simulator - INFO - Info for rank 0, Date = 2020-03-29 00:00:00, number of deaths =  1, number of infected = 847\n",
      "2020-12-15 11:07:30,062 - simulator - INFO - CMS: Infection COMS-v2 for rank 0/1(2) 0.00017280402244068682,0.0001723766326904297 - 2020-03-29 00:00:00\n",
      "2020-12-15 11:07:30,148 - simulator - INFO - CMS: Timestep for rank 0/1 - 0.4723219150037039, 0.4723227024078369 - 2020-03-29 00:00:00\n",
      "\n",
      "2020-12-15 11:07:30,148 - simulator - INFO - ==================== timestep ====================\n",
      "2020-12-15 11:07:30,478 - activity_manager - INFO - CMS: People COMS for rank 0/1 - 3.58899706043303e-06,2.86102294921875e-06 - 2020-03-29 04:00:00\n",
      "2020-12-15 11:07:30,481 - simulator - INFO - Info for rank 0, Date = 2020-03-29 04:00:00, number of deaths =  1, number of infected = 843\n",
      "2020-12-15 11:07:30,570 - simulator - INFO - CMS: Infection COMS-v2 for rank 0/1(2) 0.00012548401718959212,0.0001251697540283203 - 2020-03-29 04:00:00\n",
      "2020-12-15 11:07:30,637 - simulator - INFO - CMS: Timestep for rank 0/1 - 0.4884684619901236, 0.48846983909606934 - 2020-03-29 04:00:00\n",
      "\n",
      "2020-12-15 11:07:30,638 - simulator - INFO - ==================== timestep ====================\n",
      "2020-12-15 11:07:30,932 - activity_manager - INFO - CMS: People COMS for rank 0/1 - 3.7520076148211956e-06,3.337860107421875e-06 - 2020-03-29 08:00:00\n",
      "2020-12-15 11:07:30,935 - simulator - INFO - Info for rank 0, Date = 2020-03-29 08:00:00, number of deaths =  1, number of infected = 840\n",
      "2020-12-15 11:07:31,052 - simulator - INFO - CMS: Infection COMS-v2 for rank 0/1(2) 0.00011574299423955381,0.00011539459228515625 - 2020-03-29 08:00:00\n",
      "2020-12-15 11:07:31,141 - simulator - INFO - CMS: Timestep for rank 0/1 - 0.5023606060130987, 0.502361536026001 - 2020-03-29 08:00:00\n",
      "\n",
      "2020-12-15 11:07:31,142 - simulator - INFO - ==================== timestep ====================\n",
      "2020-12-15 11:07:31,432 - activity_manager - INFO - CMS: People COMS for rank 0/1 - 5.733978468924761e-06,5.0067901611328125e-06 - 2020-03-29 12:00:00\n",
      "2020-12-15 11:07:31,438 - simulator - INFO - Info for rank 0, Date = 2020-03-29 12:00:00, number of deaths =  1, number of infected = 841\n",
      "2020-12-15 11:07:31,548 - simulator - INFO - CMS: Infection COMS-v2 for rank 0/1(2) 0.0001128160220105201,0.0001125335693359375 - 2020-03-29 12:00:00\n",
      "2020-12-15 11:07:31,598 - simulator - INFO - CMS: Timestep for rank 0/1 - 0.45576056398567744, 0.455761194229126 - 2020-03-29 12:00:00\n",
      "\n",
      "2020-12-15 11:07:31,599 - simulator - INFO - ==================== timestep ====================\n",
      "2020-12-15 11:07:31,818 - activity_manager - INFO - CMS: People COMS for rank 0/1 - 4.255998646840453e-06,3.814697265625e-06 - 2020-03-30 00:00:00\n",
      "2020-12-15 11:07:31,822 - simulator - INFO - Info for rank 0, Date = 2020-03-30 00:00:00, number of deaths =  1, number of infected = 838\n",
      "2020-12-15 11:07:31,987 - simulator - INFO - CMS: Infection COMS-v2 for rank 0/1(2) 0.00017271400429308414,0.000171661376953125 - 2020-03-30 00:00:00\n",
      "2020-12-15 11:07:32,081 - simulator - INFO - CMS: Timestep for rank 0/1 - 0.48105615700478666, 0.48105740547180176 - 2020-03-30 00:00:00\n",
      "\n",
      "2020-12-15 11:07:32,082 - simulator - INFO - ==================== timestep ====================\n",
      "2020-12-15 11:07:32,368 - activity_manager - INFO - CMS: People COMS for rank 0/1 - 3.5980192478746176e-06,2.86102294921875e-06 - 2020-03-30 01:00:00\n",
      "2020-12-15 11:07:32,371 - simulator - INFO - Info for rank 0, Date = 2020-03-30 01:00:00, number of deaths =  1, number of infected = 838\n",
      "2020-12-15 11:07:32,485 - simulator - INFO - CMS: Infection COMS-v2 for rank 0/1(2) 0.0002129589847754687,0.00021266937255859375 - 2020-03-30 01:00:00\n",
      "2020-12-15 11:07:32,581 - simulator - INFO - CMS: Timestep for rank 0/1 - 0.4989768379891757, 0.4989776611328125 - 2020-03-30 01:00:00\n",
      "\n",
      "2020-12-15 11:07:32,582 - simulator - INFO - ==================== timestep ====================\n",
      "2020-12-15 11:07:32,789 - activity_manager - INFO - CMS: People COMS for rank 0/1 - 3.333028871566057e-06,3.0994415283203125e-06 - 2020-03-30 09:00:00\n",
      "2020-12-15 11:07:32,791 - simulator - INFO - Info for rank 0, Date = 2020-03-30 09:00:00, number of deaths =  1, number of infected = 839\n",
      "2020-12-15 11:07:32,865 - simulator - INFO - CMS: Infection COMS-v2 for rank 0/1(2) 0.00010852102423086762,0.00010848045349121094 - 2020-03-30 09:00:00\n",
      "2020-12-15 11:07:32,929 - simulator - INFO - CMS: Timestep for rank 0/1 - 0.34680645799380727, 0.34680771827697754 - 2020-03-30 09:00:00\n",
      "\n",
      "2020-12-15 11:07:32,930 - simulator - INFO - ==================== timestep ====================\n",
      "2020-12-15 11:07:33,210 - activity_manager - INFO - CMS: People COMS for rank 0/1 - 5.066016456112266e-06,4.291534423828125e-06 - 2020-03-30 10:00:00\n",
      "2020-12-15 11:07:33,215 - simulator - INFO - Info for rank 0, Date = 2020-03-30 10:00:00, number of deaths =  1, number of infected = 839\n",
      "2020-12-15 11:07:33,410 - simulator - INFO - CMS: Infection COMS-v2 for rank 0/1(2) 0.0001551120076328516,0.00015473365783691406 - 2020-03-30 10:00:00\n",
      "2020-12-15 11:07:33,497 - simulator - INFO - CMS: Timestep for rank 0/1 - 0.562431910977466, 0.5624325275421143 - 2020-03-30 10:00:00\n",
      "\n",
      "2020-12-15 11:07:33,499 - simulator - INFO - ==================== timestep ====================\n",
      "2020-12-15 11:07:33,702 - activity_manager - INFO - CMS: People COMS for rank 0/1 - 4.408007953315973e-06,3.814697265625e-06 - 2020-03-30 13:00:00\n",
      "2020-12-15 11:07:33,705 - simulator - INFO - Info for rank 0, Date = 2020-03-30 13:00:00, number of deaths =  1, number of infected = 839\n",
      "2020-12-15 11:07:33,797 - simulator - INFO - CMS: Infection COMS-v2 for rank 0/1(2) 0.0001119410153478384,0.00011157989501953125 - 2020-03-30 13:00:00\n",
      "2020-12-15 11:07:33,842 - simulator - INFO - CMS: Timestep for rank 0/1 - 0.33985097700497136, 0.33985114097595215 - 2020-03-30 13:00:00\n",
      "\n",
      "CPU times: user 47.5 s, sys: 1.03 s, total: 48.5 s\n",
      "Wall time: 47.9 s\n"
     ]
    }
   ],
   "source": [
    "%%time\n",
    "simulator.run()"
   ]
  },
  {
   "cell_type": "code",
   "execution_count": 23,
   "metadata": {},
   "outputs": [
    {
     "name": "stdout",
     "output_type": "stream",
     "text": [
      "/home/arnau/code/JUNE/Notebooks\n"
     ]
    }
   ],
   "source": [
    "!pwd"
   ]
  },
  {
   "cell_type": "markdown",
   "metadata": {},
   "source": [
    "While the simulation runs (and afterwards) we can launch the visualization webpage by running\n",
    "```python june/visualizer.py path/to/results``` "
   ]
  },
  {
   "cell_type": "markdown",
   "metadata": {},
   "source": [
    "# Getting the results"
   ]
  },
  {
   "cell_type": "markdown",
   "metadata": {},
   "source": [
    "The record saves a lot of information about the simulation, and it can be a bit overwhelming to look at everyting.\n",
    "In the results folder (if you didn't change the path), we have a few extra contents:\n"
   ]
  },
  {
   "cell_type": "code",
   "execution_count": 24,
   "metadata": {},
   "outputs": [
    {
     "name": "stdout",
     "output_type": "stream",
     "text": [
      "checkpoints  config.yaml  june_record.h5  policies.txt\tsummary.csv\n"
     ]
    }
   ],
   "source": [
    "!ls results"
   ]
  },
  {
   "cell_type": "markdown",
   "metadata": {},
   "source": [
    "Checkpoints would allow us to resume the simulation later, and the config and policies are there to remember what you used to run the code.\n",
    "The ``summary.csv`` is useful to have a first glance at results:"
   ]
  },
  {
   "cell_type": "code",
   "execution_count": 25,
   "metadata": {},
   "outputs": [
    {
     "data": {
      "text/html": [
       "<div>\n",
       "<style scoped>\n",
       "    .dataframe tbody tr th:only-of-type {\n",
       "        vertical-align: middle;\n",
       "    }\n",
       "\n",
       "    .dataframe tbody tr th {\n",
       "        vertical-align: top;\n",
       "    }\n",
       "\n",
       "    .dataframe thead th {\n",
       "        text-align: right;\n",
       "    }\n",
       "</style>\n",
       "<table border=\"1\" class=\"dataframe\">\n",
       "  <thead>\n",
       "    <tr style=\"text-align: right;\">\n",
       "      <th></th>\n",
       "      <th>region</th>\n",
       "      <th>current_infected</th>\n",
       "      <th>daily_infected</th>\n",
       "      <th>current_recovered</th>\n",
       "      <th>daily_recovered</th>\n",
       "      <th>current_hospitalised</th>\n",
       "      <th>daily_hospitalised</th>\n",
       "      <th>current_intensive_care</th>\n",
       "      <th>daily_intensive_care</th>\n",
       "      <th>current_susceptible</th>\n",
       "      <th>daily_hospital_deaths</th>\n",
       "      <th>daily_deaths</th>\n",
       "    </tr>\n",
       "    <tr>\n",
       "      <th>time_stamp</th>\n",
       "      <th></th>\n",
       "      <th></th>\n",
       "      <th></th>\n",
       "      <th></th>\n",
       "      <th></th>\n",
       "      <th></th>\n",
       "      <th></th>\n",
       "      <th></th>\n",
       "      <th></th>\n",
       "      <th></th>\n",
       "      <th></th>\n",
       "      <th></th>\n",
       "    </tr>\n",
       "  </thead>\n",
       "  <tbody>\n",
       "    <tr>\n",
       "      <th>2020-03-01</th>\n",
       "      <td>North East</td>\n",
       "      <td>50</td>\n",
       "      <td>0</td>\n",
       "      <td>0</td>\n",
       "      <td>0</td>\n",
       "      <td>0</td>\n",
       "      <td>0</td>\n",
       "      <td>0</td>\n",
       "      <td>0</td>\n",
       "      <td>19149</td>\n",
       "      <td>0</td>\n",
       "      <td>0</td>\n",
       "    </tr>\n",
       "    <tr>\n",
       "      <th>2020-03-01</th>\n",
       "      <td>North East</td>\n",
       "      <td>51</td>\n",
       "      <td>1</td>\n",
       "      <td>0</td>\n",
       "      <td>0</td>\n",
       "      <td>0</td>\n",
       "      <td>0</td>\n",
       "      <td>0</td>\n",
       "      <td>0</td>\n",
       "      <td>19148</td>\n",
       "      <td>0</td>\n",
       "      <td>0</td>\n",
       "    </tr>\n",
       "    <tr>\n",
       "      <th>2020-03-01</th>\n",
       "      <td>North East</td>\n",
       "      <td>52</td>\n",
       "      <td>1</td>\n",
       "      <td>0</td>\n",
       "      <td>0</td>\n",
       "      <td>0</td>\n",
       "      <td>0</td>\n",
       "      <td>0</td>\n",
       "      <td>0</td>\n",
       "      <td>19147</td>\n",
       "      <td>0</td>\n",
       "      <td>0</td>\n",
       "    </tr>\n",
       "    <tr>\n",
       "      <th>2020-03-01</th>\n",
       "      <td>North East</td>\n",
       "      <td>53</td>\n",
       "      <td>1</td>\n",
       "      <td>0</td>\n",
       "      <td>0</td>\n",
       "      <td>0</td>\n",
       "      <td>0</td>\n",
       "      <td>0</td>\n",
       "      <td>0</td>\n",
       "      <td>19146</td>\n",
       "      <td>0</td>\n",
       "      <td>0</td>\n",
       "    </tr>\n",
       "    <tr>\n",
       "      <th>2020-03-02</th>\n",
       "      <td>North East</td>\n",
       "      <td>53</td>\n",
       "      <td>0</td>\n",
       "      <td>0</td>\n",
       "      <td>0</td>\n",
       "      <td>0</td>\n",
       "      <td>0</td>\n",
       "      <td>0</td>\n",
       "      <td>0</td>\n",
       "      <td>19146</td>\n",
       "      <td>0</td>\n",
       "      <td>0</td>\n",
       "    </tr>\n",
       "  </tbody>\n",
       "</table>\n",
       "</div>"
      ],
      "text/plain": [
       "                region  current_infected  daily_infected  current_recovered  \\\n",
       "time_stamp                                                                    \n",
       "2020-03-01  North East                50               0                  0   \n",
       "2020-03-01  North East                51               1                  0   \n",
       "2020-03-01  North East                52               1                  0   \n",
       "2020-03-01  North East                53               1                  0   \n",
       "2020-03-02  North East                53               0                  0   \n",
       "\n",
       "            daily_recovered  current_hospitalised  daily_hospitalised  \\\n",
       "time_stamp                                                              \n",
       "2020-03-01                0                     0                   0   \n",
       "2020-03-01                0                     0                   0   \n",
       "2020-03-01                0                     0                   0   \n",
       "2020-03-01                0                     0                   0   \n",
       "2020-03-02                0                     0                   0   \n",
       "\n",
       "            current_intensive_care  daily_intensive_care  current_susceptible  \\\n",
       "time_stamp                                                                      \n",
       "2020-03-01                       0                     0                19149   \n",
       "2020-03-01                       0                     0                19148   \n",
       "2020-03-01                       0                     0                19147   \n",
       "2020-03-01                       0                     0                19146   \n",
       "2020-03-02                       0                     0                19146   \n",
       "\n",
       "            daily_hospital_deaths  daily_deaths  \n",
       "time_stamp                                       \n",
       "2020-03-01                      0             0  \n",
       "2020-03-01                      0             0  \n",
       "2020-03-01                      0             0  \n",
       "2020-03-01                      0             0  \n",
       "2020-03-02                      0             0  "
      ]
     },
     "execution_count": 25,
     "metadata": {},
     "output_type": "execute_result"
    }
   ],
   "source": [
    "summary = pd.read_csv(\"results/summary.csv\", index_col=0)\n",
    "summary.head()"
   ]
  },
  {
   "cell_type": "code",
   "execution_count": 26,
   "metadata": {},
   "outputs": [
    {
     "name": "stderr",
     "output_type": "stream",
     "text": [
      "/home/arnau/.local/lib/python3.8/site-packages/pandas/plotting/_matplotlib/core.py:1235: UserWarning: FixedFormatter should only be used together with FixedLocator\n",
      "  ax.set_xticklabels(xticklabels)\n"
     ]
    },
    {
     "data": {
      "text/plain": [
       "<AxesSubplot:xlabel='time_stamp'>"
      ]
     },
     "execution_count": 26,
     "metadata": {},
     "output_type": "execute_result"
    },
    {
     "data": {
      "image/png": "[encoded data removed]",
      "text/plain": [
       "<Figure size 432x288 with 1 Axes>"
      ]
     },
     "metadata": {
      "needs_background": "light"
     },
     "output_type": "display_data"
    }
   ],
   "source": [
    "summary.plot(y=\"daily_infected\")"
   ]
  },
  {
   "cell_type": "markdown",
   "metadata": {},
   "source": [
    "If we want to get the full details, we can read the record:"
   ]
  },
  {
   "cell_type": "code",
   "execution_count": 27,
   "metadata": {},
   "outputs": [],
   "source": [
    "read = RecordReader(\"./results\")"
   ]
  },
  {
   "cell_type": "code",
   "execution_count": 28,
   "metadata": {},
   "outputs": [
    {
     "data": {
      "text/html": [
       "<div>\n",
       "<style scoped>\n",
       "    .dataframe tbody tr th:only-of-type {\n",
       "        vertical-align: middle;\n",
       "    }\n",
       "\n",
       "    .dataframe tbody tr th {\n",
       "        vertical-align: top;\n",
       "    }\n",
       "\n",
       "    .dataframe thead th {\n",
       "        text-align: right;\n",
       "    }\n",
       "</style>\n",
       "<table border=\"1\" class=\"dataframe\">\n",
       "  <thead>\n",
       "    <tr style=\"text-align: right;\">\n",
       "      <th></th>\n",
       "      <th>region</th>\n",
       "      <th>current_infected</th>\n",
       "      <th>daily_infected</th>\n",
       "      <th>current_recovered</th>\n",
       "      <th>daily_recovered</th>\n",
       "      <th>current_hospitalised</th>\n",
       "      <th>daily_hospitalised</th>\n",
       "      <th>current_intensive_care</th>\n",
       "      <th>daily_intensive_care</th>\n",
       "      <th>current_susceptible</th>\n",
       "      <th>daily_hospital_deaths</th>\n",
       "      <th>daily_deaths</th>\n",
       "    </tr>\n",
       "    <tr>\n",
       "      <th>time_stamp</th>\n",
       "      <th></th>\n",
       "      <th></th>\n",
       "      <th></th>\n",
       "      <th></th>\n",
       "      <th></th>\n",
       "      <th></th>\n",
       "      <th></th>\n",
       "      <th></th>\n",
       "      <th></th>\n",
       "      <th></th>\n",
       "      <th></th>\n",
       "      <th></th>\n",
       "    </tr>\n",
       "  </thead>\n",
       "  <tbody>\n",
       "    <tr>\n",
       "      <th>2020-03-01</th>\n",
       "      <td>North East</td>\n",
       "      <td>51.5</td>\n",
       "      <td>3</td>\n",
       "      <td>0.0</td>\n",
       "      <td>0</td>\n",
       "      <td>0.0</td>\n",
       "      <td>0</td>\n",
       "      <td>0.0</td>\n",
       "      <td>0</td>\n",
       "      <td>19147.5</td>\n",
       "      <td>0</td>\n",
       "      <td>0</td>\n",
       "    </tr>\n",
       "    <tr>\n",
       "      <th>2020-03-02</th>\n",
       "      <td>North East</td>\n",
       "      <td>59.6</td>\n",
       "      <td>12</td>\n",
       "      <td>0.0</td>\n",
       "      <td>0</td>\n",
       "      <td>0.0</td>\n",
       "      <td>0</td>\n",
       "      <td>0.0</td>\n",
       "      <td>0</td>\n",
       "      <td>19139.4</td>\n",
       "      <td>0</td>\n",
       "      <td>0</td>\n",
       "    </tr>\n",
       "    <tr>\n",
       "      <th>2020-03-03</th>\n",
       "      <td>North East</td>\n",
       "      <td>71.8</td>\n",
       "      <td>15</td>\n",
       "      <td>0.0</td>\n",
       "      <td>0</td>\n",
       "      <td>0.0</td>\n",
       "      <td>0</td>\n",
       "      <td>0.0</td>\n",
       "      <td>0</td>\n",
       "      <td>19127.2</td>\n",
       "      <td>0</td>\n",
       "      <td>0</td>\n",
       "    </tr>\n",
       "  </tbody>\n",
       "</table>\n",
       "</div>"
      ],
      "text/plain": [
       "                region  current_infected  daily_infected  current_recovered  \\\n",
       "time_stamp                                                                    \n",
       "2020-03-01  North East              51.5               3                0.0   \n",
       "2020-03-02  North East              59.6              12                0.0   \n",
       "2020-03-03  North East              71.8              15                0.0   \n",
       "\n",
       "            daily_recovered  current_hospitalised  daily_hospitalised  \\\n",
       "time_stamp                                                              \n",
       "2020-03-01                0                   0.0                   0   \n",
       "2020-03-02                0                   0.0                   0   \n",
       "2020-03-03                0                   0.0                   0   \n",
       "\n",
       "            current_intensive_care  daily_intensive_care  current_susceptible  \\\n",
       "time_stamp                                                                      \n",
       "2020-03-01                     0.0                     0              19147.5   \n",
       "2020-03-02                     0.0                     0              19139.4   \n",
       "2020-03-03                     0.0                     0              19127.2   \n",
       "\n",
       "            daily_hospital_deaths  daily_deaths  \n",
       "time_stamp                                       \n",
       "2020-03-01                      0             0  \n",
       "2020-03-02                      0             0  \n",
       "2020-03-03                      0             0  "
      ]
     },
     "execution_count": 28,
     "metadata": {},
     "output_type": "execute_result"
    }
   ],
   "source": [
    "read.regional_summary.head(3) # this is the equivalent of the summary.csv"
   ]
  },
  {
   "cell_type": "markdown",
   "metadata": {},
   "source": [
    "# Asking questions to the records"
   ]
  },
  {
   "cell_type": "markdown",
   "metadata": {},
   "source": [
    "## Useful infections and death tables"
   ]
  },
  {
   "cell_type": "code",
   "execution_count": 29,
   "metadata": {},
   "outputs": [
    {
     "name": "stdout",
     "output_type": "stream",
     "text": [
      "2020-12-15 11:07:34,391 - june.records.records_reader - INFO - Loading infections table\n",
      "2020-12-15 11:07:34,402 - june.records.records_reader - INFO - Loading population table\n",
      "2020-12-15 11:07:34,444 - june.records.records_reader - INFO - Merging infection and population tables\n",
      "2020-12-15 11:07:34,448 - june.records.records_reader - INFO - Loading geography table\n",
      "2020-12-15 11:07:34,466 - june.records.records_reader - INFO - Mergeing infection and geography tables\n"
     ]
    }
   ],
   "source": [
    "infections_df = read.get_table_with_extras('infections',\n",
    "                                           'infected_ids')"
   ]
  },
  {
   "cell_type": "code",
   "execution_count": 30,
   "metadata": {},
   "outputs": [
    {
     "data": {
      "text/html": [
       "<div>\n",
       "<style scoped>\n",
       "    .dataframe tbody tr th:only-of-type {\n",
       "        vertical-align: middle;\n",
       "    }\n",
       "\n",
       "    .dataframe tbody tr th {\n",
       "        vertical-align: top;\n",
       "    }\n",
       "\n",
       "    .dataframe thead th {\n",
       "        text-align: right;\n",
       "    }\n",
       "</style>\n",
       "<table border=\"1\" class=\"dataframe\">\n",
       "  <thead>\n",
       "    <tr style=\"text-align: right;\">\n",
       "      <th></th>\n",
       "      <th>timestamp</th>\n",
       "      <th>location_ids</th>\n",
       "      <th>infector_ids</th>\n",
       "      <th>location_specs</th>\n",
       "      <th>region_names</th>\n",
       "      <th>age</th>\n",
       "      <th>socioeconomic_index</th>\n",
       "      <th>primary_activity_id</th>\n",
       "      <th>residence_id</th>\n",
       "      <th>area_id</th>\n",
       "      <th>sex</th>\n",
       "      <th>ethnicity</th>\n",
       "      <th>primary_activity_type</th>\n",
       "      <th>residence_type</th>\n",
       "      <th>super_area_id</th>\n",
       "      <th>name_area</th>\n",
       "      <th>region_id</th>\n",
       "      <th>name_super_area</th>\n",
       "      <th>name_region</th>\n",
       "    </tr>\n",
       "  </thead>\n",
       "  <tbody>\n",
       "    <tr>\n",
       "      <th>16989</th>\n",
       "      <td>2020-03-01</td>\n",
       "      <td>8181</td>\n",
       "      <td>16984</td>\n",
       "      <td>household</td>\n",
       "      <td>North East</td>\n",
       "      <td>25</td>\n",
       "      <td>4</td>\n",
       "      <td>0</td>\n",
       "      <td>8181</td>\n",
       "      <td>58</td>\n",
       "      <td>f</td>\n",
       "      <td>D</td>\n",
       "      <td>university</td>\n",
       "      <td>household</td>\n",
       "      <td>0</td>\n",
       "      <td>E00175558</td>\n",
       "      <td>0</td>\n",
       "      <td>E02001731</td>\n",
       "      <td>North East</td>\n",
       "    </tr>\n",
       "    <tr>\n",
       "      <th>17035</th>\n",
       "      <td>2020-03-02</td>\n",
       "      <td>6</td>\n",
       "      <td>9788</td>\n",
       "      <td>school</td>\n",
       "      <td>North East</td>\n",
       "      <td>30</td>\n",
       "      <td>4</td>\n",
       "      <td>6</td>\n",
       "      <td>8225</td>\n",
       "      <td>58</td>\n",
       "      <td>f</td>\n",
       "      <td>C</td>\n",
       "      <td>school</td>\n",
       "      <td>household</td>\n",
       "      <td>0</td>\n",
       "      <td>E00175558</td>\n",
       "      <td>0</td>\n",
       "      <td>E02001731</td>\n",
       "      <td>North East</td>\n",
       "    </tr>\n",
       "    <tr>\n",
       "      <th>16960</th>\n",
       "      <td>2020-03-07</td>\n",
       "      <td>8181</td>\n",
       "      <td>16989</td>\n",
       "      <td>household</td>\n",
       "      <td>North East</td>\n",
       "      <td>23</td>\n",
       "      <td>4</td>\n",
       "      <td>0</td>\n",
       "      <td>8181</td>\n",
       "      <td>58</td>\n",
       "      <td>m</td>\n",
       "      <td>E</td>\n",
       "      <td>university</td>\n",
       "      <td>household</td>\n",
       "      <td>0</td>\n",
       "      <td>E00175558</td>\n",
       "      <td>0</td>\n",
       "      <td>E02001731</td>\n",
       "      <td>North East</td>\n",
       "    </tr>\n",
       "    <tr>\n",
       "      <th>17019</th>\n",
       "      <td>2020-03-12</td>\n",
       "      <td>6</td>\n",
       "      <td>10058</td>\n",
       "      <td>school</td>\n",
       "      <td>North East</td>\n",
       "      <td>28</td>\n",
       "      <td>4</td>\n",
       "      <td>6</td>\n",
       "      <td>8243</td>\n",
       "      <td>58</td>\n",
       "      <td>f</td>\n",
       "      <td>A</td>\n",
       "      <td>school</td>\n",
       "      <td>household</td>\n",
       "      <td>0</td>\n",
       "      <td>E00175558</td>\n",
       "      <td>0</td>\n",
       "      <td>E02001731</td>\n",
       "      <td>North East</td>\n",
       "    </tr>\n",
       "    <tr>\n",
       "      <th>16906</th>\n",
       "      <td>2020-03-17</td>\n",
       "      <td>0</td>\n",
       "      <td>1674</td>\n",
       "      <td>university</td>\n",
       "      <td>North East</td>\n",
       "      <td>21</td>\n",
       "      <td>4</td>\n",
       "      <td>0</td>\n",
       "      <td>8278</td>\n",
       "      <td>58</td>\n",
       "      <td>m</td>\n",
       "      <td>A</td>\n",
       "      <td>university</td>\n",
       "      <td>household</td>\n",
       "      <td>0</td>\n",
       "      <td>E00175558</td>\n",
       "      <td>0</td>\n",
       "      <td>E02001731</td>\n",
       "      <td>North East</td>\n",
       "    </tr>\n",
       "    <tr>\n",
       "      <th>16938</th>\n",
       "      <td>2020-03-24</td>\n",
       "      <td>8278</td>\n",
       "      <td>16906</td>\n",
       "      <td>household</td>\n",
       "      <td>North East</td>\n",
       "      <td>22</td>\n",
       "      <td>4</td>\n",
       "      <td>0</td>\n",
       "      <td>8278</td>\n",
       "      <td>58</td>\n",
       "      <td>m</td>\n",
       "      <td>C</td>\n",
       "      <td>university</td>\n",
       "      <td>household</td>\n",
       "      <td>0</td>\n",
       "      <td>E00175558</td>\n",
       "      <td>0</td>\n",
       "      <td>E02001731</td>\n",
       "      <td>North East</td>\n",
       "    </tr>\n",
       "    <tr>\n",
       "      <th>8021</th>\n",
       "      <td>2020-03-01</td>\n",
       "      <td>3420</td>\n",
       "      <td>8006</td>\n",
       "      <td>household</td>\n",
       "      <td>North East</td>\n",
       "      <td>54</td>\n",
       "      <td>4</td>\n",
       "      <td>0</td>\n",
       "      <td>3420</td>\n",
       "      <td>26</td>\n",
       "      <td>m</td>\n",
       "      <td>A</td>\n",
       "      <td>company</td>\n",
       "      <td>household</td>\n",
       "      <td>0</td>\n",
       "      <td>E00042826</td>\n",
       "      <td>0</td>\n",
       "      <td>E02001731</td>\n",
       "      <td>North East</td>\n",
       "    </tr>\n",
       "    <tr>\n",
       "      <th>7851</th>\n",
       "      <td>2020-03-11</td>\n",
       "      <td>2490</td>\n",
       "      <td>8021</td>\n",
       "      <td>pub</td>\n",
       "      <td>North East</td>\n",
       "      <td>25</td>\n",
       "      <td>4</td>\n",
       "      <td>0</td>\n",
       "      <td>3369</td>\n",
       "      <td>26</td>\n",
       "      <td>m</td>\n",
       "      <td>E</td>\n",
       "      <td>university</td>\n",
       "      <td>household</td>\n",
       "      <td>0</td>\n",
       "      <td>E00042826</td>\n",
       "      <td>0</td>\n",
       "      <td>E02001731</td>\n",
       "      <td>North East</td>\n",
       "    </tr>\n",
       "    <tr>\n",
       "      <th>7972</th>\n",
       "      <td>2020-03-11</td>\n",
       "      <td>2490</td>\n",
       "      <td>8021</td>\n",
       "      <td>pub</td>\n",
       "      <td>North East</td>\n",
       "      <td>34</td>\n",
       "      <td>4</td>\n",
       "      <td>42</td>\n",
       "      <td>3461</td>\n",
       "      <td>26</td>\n",
       "      <td>m</td>\n",
       "      <td>E</td>\n",
       "      <td>company</td>\n",
       "      <td>household</td>\n",
       "      <td>0</td>\n",
       "      <td>E00042826</td>\n",
       "      <td>0</td>\n",
       "      <td>E02001731</td>\n",
       "      <td>North East</td>\n",
       "    </tr>\n",
       "    <tr>\n",
       "      <th>7996</th>\n",
       "      <td>2020-03-12</td>\n",
       "      <td>0</td>\n",
       "      <td>12689</td>\n",
       "      <td>hospital</td>\n",
       "      <td>North East</td>\n",
       "      <td>39</td>\n",
       "      <td>4</td>\n",
       "      <td>0</td>\n",
       "      <td>3441</td>\n",
       "      <td>26</td>\n",
       "      <td>m</td>\n",
       "      <td>A</td>\n",
       "      <td>hospital</td>\n",
       "      <td>household</td>\n",
       "      <td>0</td>\n",
       "      <td>E00042826</td>\n",
       "      <td>0</td>\n",
       "      <td>E02001731</td>\n",
       "      <td>North East</td>\n",
       "    </tr>\n",
       "  </tbody>\n",
       "</table>\n",
       "</div>"
      ],
      "text/plain": [
       "       timestamp  location_ids  infector_ids location_specs region_names  age  \\\n",
       "16989 2020-03-01          8181         16984      household   North East   25   \n",
       "17035 2020-03-02             6          9788         school   North East   30   \n",
       "16960 2020-03-07          8181         16989      household   North East   23   \n",
       "17019 2020-03-12             6         10058         school   North East   28   \n",
       "16906 2020-03-17             0          1674     university   North East   21   \n",
       "16938 2020-03-24          8278         16906      household   North East   22   \n",
       "8021  2020-03-01          3420          8006      household   North East   54   \n",
       "7851  2020-03-11          2490          8021            pub   North East   25   \n",
       "7972  2020-03-11          2490          8021            pub   North East   34   \n",
       "7996  2020-03-12             0         12689       hospital   North East   39   \n",
       "\n",
       "       socioeconomic_index  primary_activity_id  residence_id  area_id sex  \\\n",
       "16989                    4                    0          8181       58   f   \n",
       "17035                    4                    6          8225       58   f   \n",
       "16960                    4                    0          8181       58   m   \n",
       "17019                    4                    6          8243       58   f   \n",
       "16906                    4                    0          8278       58   m   \n",
       "16938                    4                    0          8278       58   m   \n",
       "8021                     4                    0          3420       26   m   \n",
       "7851                     4                    0          3369       26   m   \n",
       "7972                     4                   42          3461       26   m   \n",
       "7996                     4                    0          3441       26   m   \n",
       "\n",
       "      ethnicity primary_activity_type residence_type  super_area_id  \\\n",
       "16989         D            university      household              0   \n",
       "17035         C                school      household              0   \n",
       "16960         E            university      household              0   \n",
       "17019         A                school      household              0   \n",
       "16906         A            university      household              0   \n",
       "16938         C            university      household              0   \n",
       "8021          A               company      household              0   \n",
       "7851          E            university      household              0   \n",
       "7972          E               company      household              0   \n",
       "7996          A              hospital      household              0   \n",
       "\n",
       "       name_area  region_id name_super_area name_region  \n",
       "16989  E00175558          0       E02001731  North East  \n",
       "17035  E00175558          0       E02001731  North East  \n",
       "16960  E00175558          0       E02001731  North East  \n",
       "17019  E00175558          0       E02001731  North East  \n",
       "16906  E00175558          0       E02001731  North East  \n",
       "16938  E00175558          0       E02001731  North East  \n",
       "8021   E00042826          0       E02001731  North East  \n",
       "7851   E00042826          0       E02001731  North East  \n",
       "7972   E00042826          0       E02001731  North East  \n",
       "7996   E00042826          0       E02001731  North East  "
      ]
     },
     "execution_count": 30,
     "metadata": {},
     "output_type": "execute_result"
    }
   ],
   "source": [
    "infections_df.head(10)"
   ]
  },
  {
   "cell_type": "code",
   "execution_count": 31,
   "metadata": {},
   "outputs": [
    {
     "name": "stdout",
     "output_type": "stream",
     "text": [
      "2020-12-15 11:07:34,501 - june.records.records_reader - INFO - Loading deaths table\n",
      "2020-12-15 11:07:34,507 - june.records.records_reader - INFO - Loading population table\n",
      "2020-12-15 11:07:34,545 - june.records.records_reader - INFO - Merging infection and population tables\n",
      "2020-12-15 11:07:34,548 - june.records.records_reader - INFO - Loading geography table\n",
      "2020-12-15 11:07:34,571 - june.records.records_reader - INFO - Mergeing infection and geography tables\n"
     ]
    }
   ],
   "source": [
    "deaths_df = read.get_table_with_extras('deaths', \n",
    "                                       'dead_person_ids')"
   ]
  },
  {
   "cell_type": "code",
   "execution_count": 32,
   "metadata": {},
   "outputs": [
    {
     "data": {
      "text/html": [
       "<div>\n",
       "<style scoped>\n",
       "    .dataframe tbody tr th:only-of-type {\n",
       "        vertical-align: middle;\n",
       "    }\n",
       "\n",
       "    .dataframe tbody tr th {\n",
       "        vertical-align: top;\n",
       "    }\n",
       "\n",
       "    .dataframe thead th {\n",
       "        text-align: right;\n",
       "    }\n",
       "</style>\n",
       "<table border=\"1\" class=\"dataframe\">\n",
       "  <thead>\n",
       "    <tr style=\"text-align: right;\">\n",
       "      <th></th>\n",
       "      <th>timestamp</th>\n",
       "      <th>location_ids</th>\n",
       "      <th>location_specs</th>\n",
       "      <th>age</th>\n",
       "      <th>socioeconomic_index</th>\n",
       "      <th>primary_activity_id</th>\n",
       "      <th>residence_id</th>\n",
       "      <th>area_id</th>\n",
       "      <th>sex</th>\n",
       "      <th>ethnicity</th>\n",
       "      <th>primary_activity_type</th>\n",
       "      <th>residence_type</th>\n",
       "      <th>super_area_id</th>\n",
       "      <th>name_area</th>\n",
       "      <th>region_id</th>\n",
       "      <th>name_super_area</th>\n",
       "      <th>name_region</th>\n",
       "    </tr>\n",
       "  </thead>\n",
       "  <tbody>\n",
       "    <tr>\n",
       "      <th>11440</th>\n",
       "      <td>2020-03-26</td>\n",
       "      <td>5420</td>\n",
       "      <td>household</td>\n",
       "      <td>58</td>\n",
       "      <td>1</td>\n",
       "      <td>0</td>\n",
       "      <td>5420</td>\n",
       "      <td>38</td>\n",
       "      <td>m</td>\n",
       "      <td>A</td>\n",
       "      <td>hospital</td>\n",
       "      <td>household</td>\n",
       "      <td>1</td>\n",
       "      <td>E00062070</td>\n",
       "      <td>0</td>\n",
       "      <td>E02002566</td>\n",
       "      <td>North East</td>\n",
       "    </tr>\n",
       "  </tbody>\n",
       "</table>\n",
       "</div>"
      ],
      "text/plain": [
       "       timestamp  location_ids location_specs  age  socioeconomic_index  \\\n",
       "11440 2020-03-26          5420      household   58                    1   \n",
       "\n",
       "       primary_activity_id  residence_id  area_id sex ethnicity  \\\n",
       "11440                    0          5420       38   m         A   \n",
       "\n",
       "      primary_activity_type residence_type  super_area_id  name_area  \\\n",
       "11440              hospital      household              1  E00062070   \n",
       "\n",
       "       region_id name_super_area name_region  \n",
       "11440          0       E02002566  North East  "
      ]
     },
     "execution_count": 32,
     "metadata": {},
     "output_type": "execute_result"
    }
   ],
   "source": [
    "deaths_df.head(10)"
   ]
  },
  {
   "cell_type": "markdown",
   "metadata": {},
   "source": [
    "## Sero-prevalence by age"
   ]
  },
  {
   "cell_type": "code",
   "execution_count": 33,
   "metadata": {},
   "outputs": [],
   "source": [
    "age_bins = (0,20,60,100)"
   ]
  },
  {
   "cell_type": "code",
   "execution_count": 34,
   "metadata": {},
   "outputs": [],
   "source": [
    "infected_by_age = infections_df.groupby([pd.cut(infections_df['age'],\n",
    "            bins=age_bins), 'timestamp']).size()"
   ]
  },
  {
   "cell_type": "code",
   "execution_count": 35,
   "metadata": {},
   "outputs": [],
   "source": [
    "people_df = read.table_to_df('population')"
   ]
  },
  {
   "cell_type": "code",
   "execution_count": 36,
   "metadata": {},
   "outputs": [],
   "source": [
    "n_by_age = people_df.groupby(pd.cut(people_df['age'],\n",
    "            bins=age_bins)).size()"
   ]
  },
  {
   "cell_type": "code",
   "execution_count": 37,
   "metadata": {},
   "outputs": [
    {
     "data": {
      "text/plain": [
       "<matplotlib.legend.Legend at 0x7f3b911196a0>"
      ]
     },
     "execution_count": 37,
     "metadata": {},
     "output_type": "execute_result"
    },
    {
     "data": {
      "image/png": "[encoded data removed]",
      "text/plain": [
       "<Figure size 432x288 with 1 Axes>"
      ]
     },
     "metadata": {
      "needs_background": "light"
     },
     "output_type": "display_data"
    }
   ],
   "source": [
    "(100*infected_by_age/n_by_age).xs(10).cumsum().plot(label='0,20')\n",
    "(100*infected_by_age/n_by_age).xs(30).cumsum().plot(label='20,60')\n",
    "(100*infected_by_age/n_by_age).xs(70).cumsum().plot(label='60,100')\n",
    "plt.ylabel(\"Seroprevalence\")\n",
    "plt.legend()"
   ]
  },
  {
   "cell_type": "markdown",
   "metadata": {},
   "source": [
    "## Care home deaths in hospital"
   ]
  },
  {
   "cell_type": "code",
   "execution_count": 38,
   "metadata": {},
   "outputs": [],
   "source": [
    "care_home_deaths_hospital = deaths_df[\n",
    "    (deaths_df['location_specs'] == 'hospital') \n",
    "    & (deaths_df['residence_type'] == 'care_home')\n",
    "]\n",
    "care_home_deaths_hospital=care_home_deaths_hospital.groupby(\n",
    "    ['name_region', 'timestamp']\n",
    ").size()"
   ]
  },
  {
   "cell_type": "code",
   "execution_count": 39,
   "metadata": {},
   "outputs": [
    {
     "ename": "TypeError",
     "evalue": "no numeric data to plot",
     "output_type": "error",
     "traceback": [
      "\u001b[0;31m---------------------------------------------------------------------------\u001b[0m",
      "\u001b[0;31mTypeError\u001b[0m                                 Traceback (most recent call last)",
      "\u001b[0;32m<ipython-input-39-4876106f6c15>\u001b[0m in \u001b[0;36m<module>\u001b[0;34m\u001b[0m\n\u001b[1;32m      1\u001b[0m \u001b[0;31m# this may fail if your simulation doesn't have care home deaths\u001b[0m\u001b[0;34m\u001b[0m\u001b[0;34m\u001b[0m\u001b[0;34m\u001b[0m\u001b[0m\n\u001b[0;32m----> 2\u001b[0;31m \u001b[0mcare_home_deaths_hospital\u001b[0m\u001b[0;34m.\u001b[0m\u001b[0munstack\u001b[0m\u001b[0;34m(\u001b[0m\u001b[0mlevel\u001b[0m\u001b[0;34m=\u001b[0m\u001b[0;36m0\u001b[0m\u001b[0;34m)\u001b[0m\u001b[0;34m.\u001b[0m\u001b[0mplot\u001b[0m\u001b[0;34m(\u001b[0m\u001b[0;34m)\u001b[0m\u001b[0;34m\u001b[0m\u001b[0;34m\u001b[0m\u001b[0m\n\u001b[0m",
      "\u001b[0;32m~/.local/lib/python3.8/site-packages/pandas/plotting/_core.py\u001b[0m in \u001b[0;36m__call__\u001b[0;34m(self, *args, **kwargs)\u001b[0m\n\u001b[1;32m    947\u001b[0m                     \u001b[0mdata\u001b[0m\u001b[0;34m.\u001b[0m\u001b[0mcolumns\u001b[0m \u001b[0;34m=\u001b[0m \u001b[0mlabel_name\u001b[0m\u001b[0;34m\u001b[0m\u001b[0;34m\u001b[0m\u001b[0m\n\u001b[1;32m    948\u001b[0m \u001b[0;34m\u001b[0m\u001b[0m\n\u001b[0;32m--> 949\u001b[0;31m         \u001b[0;32mreturn\u001b[0m \u001b[0mplot_backend\u001b[0m\u001b[0;34m.\u001b[0m\u001b[0mplot\u001b[0m\u001b[0;34m(\u001b[0m\u001b[0mdata\u001b[0m\u001b[0;34m,\u001b[0m \u001b[0mkind\u001b[0m\u001b[0;34m=\u001b[0m\u001b[0mkind\u001b[0m\u001b[0;34m,\u001b[0m \u001b[0;34m**\u001b[0m\u001b[0mkwargs\u001b[0m\u001b[0;34m)\u001b[0m\u001b[0;34m\u001b[0m\u001b[0;34m\u001b[0m\u001b[0m\n\u001b[0m\u001b[1;32m    950\u001b[0m \u001b[0;34m\u001b[0m\u001b[0m\n\u001b[1;32m    951\u001b[0m     \u001b[0m__call__\u001b[0m\u001b[0;34m.\u001b[0m\u001b[0m__doc__\u001b[0m \u001b[0;34m=\u001b[0m \u001b[0m__doc__\u001b[0m\u001b[0;34m\u001b[0m\u001b[0;34m\u001b[0m\u001b[0m\n",
      "\u001b[0;32m~/.local/lib/python3.8/site-packages/pandas/plotting/_matplotlib/__init__.py\u001b[0m in \u001b[0;36mplot\u001b[0;34m(data, kind, **kwargs)\u001b[0m\n\u001b[1;32m     59\u001b[0m             \u001b[0mkwargs\u001b[0m\u001b[0;34m[\u001b[0m\u001b[0;34m\"ax\"\u001b[0m\u001b[0;34m]\u001b[0m \u001b[0;34m=\u001b[0m \u001b[0mgetattr\u001b[0m\u001b[0;34m(\u001b[0m\u001b[0max\u001b[0m\u001b[0;34m,\u001b[0m \u001b[0;34m\"left_ax\"\u001b[0m\u001b[0;34m,\u001b[0m \u001b[0max\u001b[0m\u001b[0;34m)\u001b[0m\u001b[0;34m\u001b[0m\u001b[0;34m\u001b[0m\u001b[0m\n\u001b[1;32m     60\u001b[0m     \u001b[0mplot_obj\u001b[0m \u001b[0;34m=\u001b[0m \u001b[0mPLOT_CLASSES\u001b[0m\u001b[0;34m[\u001b[0m\u001b[0mkind\u001b[0m\u001b[0;34m]\u001b[0m\u001b[0;34m(\u001b[0m\u001b[0mdata\u001b[0m\u001b[0;34m,\u001b[0m \u001b[0;34m**\u001b[0m\u001b[0mkwargs\u001b[0m\u001b[0;34m)\u001b[0m\u001b[0;34m\u001b[0m\u001b[0;34m\u001b[0m\u001b[0m\n\u001b[0;32m---> 61\u001b[0;31m     \u001b[0mplot_obj\u001b[0m\u001b[0;34m.\u001b[0m\u001b[0mgenerate\u001b[0m\u001b[0;34m(\u001b[0m\u001b[0;34m)\u001b[0m\u001b[0;34m\u001b[0m\u001b[0;34m\u001b[0m\u001b[0m\n\u001b[0m\u001b[1;32m     62\u001b[0m     \u001b[0mplot_obj\u001b[0m\u001b[0;34m.\u001b[0m\u001b[0mdraw\u001b[0m\u001b[0;34m(\u001b[0m\u001b[0;34m)\u001b[0m\u001b[0;34m\u001b[0m\u001b[0;34m\u001b[0m\u001b[0m\n\u001b[1;32m     63\u001b[0m     \u001b[0;32mreturn\u001b[0m \u001b[0mplot_obj\u001b[0m\u001b[0;34m.\u001b[0m\u001b[0mresult\u001b[0m\u001b[0;34m\u001b[0m\u001b[0;34m\u001b[0m\u001b[0m\n",
      "\u001b[0;32m~/.local/lib/python3.8/site-packages/pandas/plotting/_matplotlib/core.py\u001b[0m in \u001b[0;36mgenerate\u001b[0;34m(self)\u001b[0m\n\u001b[1;32m    267\u001b[0m     \u001b[0;32mdef\u001b[0m \u001b[0mgenerate\u001b[0m\u001b[0;34m(\u001b[0m\u001b[0mself\u001b[0m\u001b[0;34m)\u001b[0m\u001b[0;34m:\u001b[0m\u001b[0;34m\u001b[0m\u001b[0;34m\u001b[0m\u001b[0m\n\u001b[1;32m    268\u001b[0m         \u001b[0mself\u001b[0m\u001b[0;34m.\u001b[0m\u001b[0m_args_adjust\u001b[0m\u001b[0;34m(\u001b[0m\u001b[0;34m)\u001b[0m\u001b[0;34m\u001b[0m\u001b[0;34m\u001b[0m\u001b[0m\n\u001b[0;32m--> 269\u001b[0;31m         \u001b[0mself\u001b[0m\u001b[0;34m.\u001b[0m\u001b[0m_compute_plot_data\u001b[0m\u001b[0;34m(\u001b[0m\u001b[0;34m)\u001b[0m\u001b[0;34m\u001b[0m\u001b[0;34m\u001b[0m\u001b[0m\n\u001b[0m\u001b[1;32m    270\u001b[0m         \u001b[0mself\u001b[0m\u001b[0;34m.\u001b[0m\u001b[0m_setup_subplots\u001b[0m\u001b[0;34m(\u001b[0m\u001b[0;34m)\u001b[0m\u001b[0;34m\u001b[0m\u001b[0;34m\u001b[0m\u001b[0m\n\u001b[1;32m    271\u001b[0m         \u001b[0mself\u001b[0m\u001b[0;34m.\u001b[0m\u001b[0m_make_plot\u001b[0m\u001b[0;34m(\u001b[0m\u001b[0;34m)\u001b[0m\u001b[0;34m\u001b[0m\u001b[0;34m\u001b[0m\u001b[0m\n",
      "\u001b[0;32m~/.local/lib/python3.8/site-packages/pandas/plotting/_matplotlib/core.py\u001b[0m in \u001b[0;36m_compute_plot_data\u001b[0;34m(self)\u001b[0m\n\u001b[1;32m    416\u001b[0m         \u001b[0;31m# no non-numeric frames or series allowed\u001b[0m\u001b[0;34m\u001b[0m\u001b[0;34m\u001b[0m\u001b[0;34m\u001b[0m\u001b[0m\n\u001b[1;32m    417\u001b[0m         \u001b[0;32mif\u001b[0m \u001b[0mis_empty\u001b[0m\u001b[0;34m:\u001b[0m\u001b[0;34m\u001b[0m\u001b[0;34m\u001b[0m\u001b[0m\n\u001b[0;32m--> 418\u001b[0;31m             \u001b[0;32mraise\u001b[0m \u001b[0mTypeError\u001b[0m\u001b[0;34m(\u001b[0m\u001b[0;34m\"no numeric data to plot\"\u001b[0m\u001b[0;34m)\u001b[0m\u001b[0;34m\u001b[0m\u001b[0;34m\u001b[0m\u001b[0m\n\u001b[0m\u001b[1;32m    419\u001b[0m \u001b[0;34m\u001b[0m\u001b[0m\n\u001b[1;32m    420\u001b[0m         \u001b[0;31m# GH25587: cast ExtensionArray of pandas (IntegerArray, etc.) to\u001b[0m\u001b[0;34m\u001b[0m\u001b[0;34m\u001b[0m\u001b[0;34m\u001b[0m\u001b[0m\n",
      "\u001b[0;31mTypeError\u001b[0m: no numeric data to plot"
     ]
    }
   ],
   "source": [
    "# this may fail if your simulation doesn't have care home deaths\n",
    "care_home_deaths_hospital.unstack(level=0).plot()\n"
   ]
  },
  {
   "cell_type": "markdown",
   "metadata": {},
   "source": [
    "## Where people get infected as a function of time"
   ]
  },
  {
   "cell_type": "code",
   "execution_count": null,
   "metadata": {},
   "outputs": [],
   "source": [
    "locations_df = infections_df.groupby(['location_specs', \n",
    "                                'timestamp']).size()"
   ]
  },
  {
   "cell_type": "code",
   "execution_count": null,
   "metadata": {},
   "outputs": [],
   "source": [
    "ax = locations_df.unstack(level=0).plot()\n",
    "ax.legend(loc=\"center left\", bbox_to_anchor=(1,0.5))"
   ]
  },
  {
   "cell_type": "code",
   "execution_count": null,
   "metadata": {},
   "outputs": [],
   "source": [
    "import matplotlib.ticker as mtick\n",
    "location_counts_df = locations_df.groupby('location_specs').size()\n",
    "location_counts_df = 100*location_counts_df / location_counts_df.sum()\n",
    "ax = location_counts_df.sort_values().plot.bar()\n",
    "ax.yaxis.set_major_formatter(mtick.PercentFormatter())\n",
    "plt.ylabel('Percentage of infections at location')\n",
    "plt.xlabel('location')\n"
   ]
  },
  {
   "cell_type": "markdown",
   "metadata": {},
   "source": [
    "## Where people of certain age get infected as a function of time"
   ]
  },
  {
   "cell_type": "code",
   "execution_count": null,
   "metadata": {},
   "outputs": [],
   "source": [
    "old_locations_df = infections_df[\n",
    "    infections_df.age > 65\n",
    "].groupby(['location_specs', 'timestamp']).size()"
   ]
  },
  {
   "cell_type": "code",
   "execution_count": null,
   "metadata": {},
   "outputs": [],
   "source": [
    "old_locations_df.unstack(level=0).plot()"
   ]
  },
  {
   "cell_type": "markdown",
   "metadata": {},
   "source": [
    "## Infections in households as a function of their size."
   ]
  },
  {
   "cell_type": "code",
   "execution_count": null,
   "metadata": {},
   "outputs": [],
   "source": [
    "household_people = people_df[\n",
    "    people_df['residence_type'] == 'household'\n",
    "]"
   ]
  },
  {
   "cell_type": "code",
   "execution_count": null,
   "metadata": {},
   "outputs": [],
   "source": [
    "household_people.loc[:,'household_size'] = household_sizes.loc[\n",
    "    household_people['residence_id']\n",
    "].copy(deep=True).values"
   ]
  },
  {
   "cell_type": "code",
   "execution_count": null,
   "metadata": {},
   "outputs": [],
   "source": [
    "household_people['household_size'].hist() # in units of people"
   ]
  },
  {
   "cell_type": "code",
   "execution_count": null,
   "metadata": {},
   "outputs": [],
   "source": [
    "household_infections_df = infections_df.merge(\n",
    "    household_people['household_size'], \n",
    "    left_index=True, right_index=True, how='inner'\n",
    ")"
   ]
  },
  {
   "cell_type": "code",
   "execution_count": null,
   "metadata": {},
   "outputs": [],
   "source": [
    "(household_infections_df.groupby(\n",
    "    'household_size'\n",
    ").size()/household_people.groupby('household_size').size()).plot.bar()\n",
    "plt.xlabel('Household size')\n",
    "plt.ylabel('% of people infected by household size')\n",
    "plt.xlim(0,8)"
   ]
  },
  {
   "cell_type": "markdown",
   "metadata": {},
   "source": [
    "## How many households have everyone infected?"
   ]
  },
  {
   "cell_type": "code",
   "execution_count": null,
   "metadata": {},
   "outputs": [],
   "source": [
    "n_infected_by_household = infections_df[\n",
    "    infections_df['residence_type'] == 'household'\n",
    "].groupby('residence_id').size()"
   ]
  },
  {
   "cell_type": "code",
   "execution_count": null,
   "metadata": {},
   "outputs": [],
   "source": [
    "n_total_in_household = household_people[\n",
    "    household_people['residence_id'].isin(\n",
    "        n_infected_by_household.index\n",
    "    )\n",
    "].groupby('residence_id').size()"
   ]
  },
  {
   "cell_type": "code",
   "execution_count": null,
   "metadata": {},
   "outputs": [],
   "source": [
    "(n_infected_by_household/n_total_in_household).hist()\n",
    "plt.xlabel('% of the household infected')"
   ]
  },
  {
   "cell_type": "markdown",
   "metadata": {},
   "source": [
    "## Percentage of infected per care home"
   ]
  },
  {
   "cell_type": "code",
   "execution_count": null,
   "metadata": {},
   "outputs": [],
   "source": [
    "n_infected_by_carehome = infections_df[\n",
    "    infections_df['residence_type'] == 'care_home'\n",
    "].groupby(\n",
    "    'residence_id'\n",
    ").size()"
   ]
  },
  {
   "cell_type": "code",
   "execution_count": null,
   "metadata": {},
   "outputs": [],
   "source": [
    "n_total_in_carehome = people_df[\n",
    "    (people_df['residence_type'] == 'care_home') \n",
    "    & (people_df['residence_id'].isin(n_infected_by_carehome.index))  \n",
    "].groupby('residence_id').size()"
   ]
  },
  {
   "cell_type": "code",
   "execution_count": null,
   "metadata": {},
   "outputs": [],
   "source": [
    "(n_infected_by_carehome/n_total_in_carehome).hist()\n",
    "plt.xlabel('% of the care home infected')"
   ]
  },
  {
   "cell_type": "code",
   "execution_count": null,
   "metadata": {},
   "outputs": [],
   "source": [
    "# from all care homes, how many got at least one case?"
   ]
  },
  {
   "cell_type": "code",
   "execution_count": null,
   "metadata": {},
   "outputs": [],
   "source": [
    "n_total_care_homes = people_df[\n",
    "    (people_df['residence_type'] == 'care_home') \n",
    "]['residence_id'].nunique()"
   ]
  },
  {
   "cell_type": "code",
   "execution_count": null,
   "metadata": {},
   "outputs": [],
   "source": [
    "n_total_care_homes"
   ]
  },
  {
   "cell_type": "code",
   "execution_count": null,
   "metadata": {},
   "outputs": [],
   "source": [
    "care_homes_with_infected = infections_df[\n",
    "    (infections_df['residence_type'] == 'care_home') \n",
    "]['residence_id'].nunique()"
   ]
  },
  {
   "cell_type": "code",
   "execution_count": null,
   "metadata": {},
   "outputs": [],
   "source": [
    "care_homes_with_infected/n_total_care_homes"
   ]
  }
 ],
 "metadata": {
  "kernelspec": {
   "display_name": "Python 3",
   "language": "python",
   "name": "python3"
  },
  "language_info": {
   "codemirror_mode": {
    "name": "ipython",
    "version": 3
   },
   "file_extension": ".py",
   "mimetype": "text/x-python",
   "name": "python",
   "nbconvert_exporter": "python",
   "pygments_lexer": "ipython3",
   "version": "3.8.6"
  },
  "nbdime-conflicts": {
   "local_diff": [
    {
     "diff": [
      {
       "diff": [
        {
         "key": 0,
         "op": "addrange",
         "valuelist": [
          "3.8.3"
         ]
        },
        {
         "key": 0,
         "length": 1,
         "op": "removerange"
        }
       ],
       "key": "version",
       "op": "patch"
      }
     ],
     "key": "language_info",
     "op": "patch"
    }
   ],
   "remote_diff": [
    {
     "diff": [
      {
       "diff": [
        {
         "key": 0,
         "op": "addrange",
         "valuelist": [
          "3.8.5"
         ]
        },
        {
         "key": 0,
         "length": 1,
         "op": "removerange"
        }
       ],
       "key": "version",
       "op": "patch"
      }
     ],
     "key": "language_info",
     "op": "patch"
    }
   ]
  }
 },
 "nbformat": 4,
 "nbformat_minor": 4
}
