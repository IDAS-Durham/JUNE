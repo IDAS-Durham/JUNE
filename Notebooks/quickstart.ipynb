{
 "cells": [
  {
   "cell_type": "code",
   "execution_count": 1,
   "metadata": {},
   "outputs": [],
   "source": [
    "%load_ext autoreload\n",
    "%autoreload 2"
   ]
  },
  {
   "cell_type": "code",
   "execution_count": 2,
   "metadata": {},
   "outputs": [],
   "source": [
    "import warnings\n",
    "warnings.filterwarnings('ignore')"
   ]
  },
  {
   "cell_type": "code",
   "execution_count": 3,
   "metadata": {},
   "outputs": [],
   "source": [
    "import numpy as np\n",
    "import time\n",
    "import matplotlib.pyplot as plt"
   ]
  },
  {
   "cell_type": "code",
   "execution_count": 4,
   "metadata": {},
   "outputs": [
    {
     "name": "stderr",
     "output_type": "stream",
     "text": [
      "No --data argument given - defaulting to:\n",
      "/home/florpi/JUNE/data\n",
      "No --configs argument given - defaulting to:\n",
      "/home/florpi/JUNE/configs\n"
     ]
    }
   ],
   "source": [
    "from june import World \n",
    "from june.demography.geography import Geography\n",
    "from june.demography import Demography\n",
    "from june.interaction import DefaultInteraction\n",
    "from june.infection import Infection\n",
    "from june.infection.symptoms import SymptomsConstant\n",
    "from june.infection.transmission import TransmissionConstant\n",
    "from june.groups import Hospitals, Schools, Companies, Households, CareHomes, Cemeteries\n",
    "from june.groups.leisure import Cinemas, Pubs, Groceries\n",
    "from june.simulator import Simulator\n",
    "from june.seed import Seed\n",
    "from june import paths\n",
    "from june.infection.infection import InfectionSelector"
   ]
  },
  {
   "cell_type": "markdown",
   "metadata": {},
   "source": [
    "# Initialize world\n",
    "\n",
    "To initialize a certain world, we need to add the different components we want to have in it. First we specify what super areas (msoa) we want to create. We have included these ones, because they are known to contain hospitals, schools, care homes, and companies.\n",
    "\n",
    "After creating the geography, we create the different components the worlds need to have such as care homes, companies ..."
   ]
  },
  {
   "cell_type": "code",
   "execution_count": 5,
   "metadata": {},
   "outputs": [
    {
     "name": "stdout",
     "output_type": "stream",
     "text": [
      "populating the world's geography with the specified demography...\n",
      "CPU times: user 24.9 s, sys: 974 ms, total: 25.9 s\n",
      "Wall time: 26 s\n"
     ]
    }
   ],
   "source": [
    "%%time\n",
    "geography = Geography.from_file({\n",
    "                                \"msoa\":  [\"E02001720\",\n",
    "                                          \"E00088544\", \n",
    "                                          \"E02002560\", \n",
    "                                          \"E02002559\"]\n",
    "                                }\n",
    "                                )\n",
    "\n",
    "geography.hospitals = Hospitals.for_geography(geography)\n",
    "geography.schools = Schools.for_geography(geography)\n",
    "geography.cemeteries = Cemeteries()\n",
    "geography.companies = Companies.for_geography(geography)\n",
    "geography.care_homes = CareHomes.for_geography(geography)\n",
    "demography = Demography.for_geography(geography)\n",
    "world = World(geography, demography, include_households=True,\n",
    "             include_commute=True)\n",
    "world.cinemas = Cinemas.for_geography(geography)\n",
    "world.pubs = Pubs.for_geography(geography)\n",
    "world.groceries = Groceries.for_super_areas(geography.super_areas,\n",
    "                                            venues_per_capita=1/500)"
   ]
  },
  {
   "cell_type": "markdown",
   "metadata": {},
   "source": [
    "### If it took a long time to run the previous command, it might be a good idea to save the world in a pickle object to reuse it later."
   ]
  },
  {
   "cell_type": "code",
   "execution_count": 6,
   "metadata": {},
   "outputs": [],
   "source": [
    "#world.to_pickle(\"world.pkl\")"
   ]
  },
  {
   "cell_type": "markdown",
   "metadata": {},
   "source": [
    "If we would like to load the world we saved, we just do"
   ]
  },
  {
   "cell_type": "code",
   "execution_count": 7,
   "metadata": {},
   "outputs": [],
   "source": [
    "#world = World.from_pickle(\"world.pkl\")"
   ]
  },
  {
   "cell_type": "markdown",
   "metadata": {},
   "source": [
    "you have now a beautiful pre-pandemic world. "
   ]
  },
  {
   "cell_type": "markdown",
   "metadata": {},
   "source": [
    "# Adding the infection"
   ]
  },
  {
   "cell_type": "markdown",
   "metadata": {},
   "source": [
    "Now, you can play around with different models of infections. The building blocks for an infection are: Transmission and Symptoms. For now, only SymptomsConstant and TransmissionConstant are in a state to be used."
   ]
  },
  {
   "cell_type": "code",
   "execution_count": 8,
   "metadata": {},
   "outputs": [],
   "source": [
    "#selector_config = paths.configs_path / \"defaults/infection/InfectionConstant.yaml\"\n",
    "\n",
    "selector = InfectionSelector.from_file()"
   ]
  },
  {
   "cell_type": "code",
   "execution_count": 9,
   "metadata": {},
   "outputs": [
    {
     "data": {
      "text/plain": [
       "<june.infection.infection.InfectionSelector at 0x7f1c92c44a30>"
      ]
     },
     "execution_count": 9,
     "metadata": {},
     "output_type": "execute_result"
    }
   ],
   "source": [
    "selector"
   ]
  },
  {
   "cell_type": "markdown",
   "metadata": {},
   "source": [
    "# Adding the interaction"
   ]
  },
  {
   "cell_type": "code",
   "execution_count": 10,
   "metadata": {},
   "outputs": [],
   "source": [
    "interaction = DefaultInteraction.from_file(selector=selector)"
   ]
  },
  {
   "cell_type": "markdown",
   "metadata": {},
   "source": [
    "Beta are the intensities of the interaction taking place at the different groups"
   ]
  },
  {
   "cell_type": "code",
   "execution_count": 11,
   "metadata": {},
   "outputs": [
    {
     "data": {
      "text/plain": [
       "{'box': 1,\n",
       " 'pub': 1,\n",
       " 'grocery': 1,\n",
       " 'cinema': 1,\n",
       " 'commute_unit': 1,\n",
       " 'commute_city_unit': 1,\n",
       " 'hospital': 1.0,\n",
       " 'care_home': 1.0,\n",
       " 'company': 1.0,\n",
       " 'school': 1.0,\n",
       " 'household': 1.0}"
      ]
     },
     "execution_count": 11,
     "metadata": {},
     "output_type": "execute_result"
    }
   ],
   "source": [
    "interaction.beta"
   ]
  },
  {
   "cell_type": "markdown",
   "metadata": {},
   "source": [
    "to modify these, simply do"
   ]
  },
  {
   "cell_type": "code",
   "execution_count": 12,
   "metadata": {},
   "outputs": [],
   "source": [
    "interaction.beta['household'] *= 2"
   ]
  },
  {
   "cell_type": "code",
   "execution_count": 13,
   "metadata": {},
   "outputs": [
    {
     "data": {
      "text/plain": [
       "{'box': 1,\n",
       " 'pub': 1,\n",
       " 'grocery': 1,\n",
       " 'cinema': 1,\n",
       " 'commute_unit': 1,\n",
       " 'commute_city_unit': 1,\n",
       " 'hospital': 1.0,\n",
       " 'care_home': 1.0,\n",
       " 'company': 1.0,\n",
       " 'school': 1.0,\n",
       " 'household': 2.0}"
      ]
     },
     "execution_count": 13,
     "metadata": {},
     "output_type": "execute_result"
    }
   ],
   "source": [
    "interaction.beta"
   ]
  },
  {
   "cell_type": "markdown",
   "metadata": {},
   "source": [
    "moreover this interaction module uses contact matrices, that are different for different groups. These contact matrices shouldnt be modified for now. However they are a combination of conversational contact matrices, and physical contact matrices (see the BBC pandemic paper, from where these matrices are extracted https://www.medrxiv.org/content/10.1101/2020.02.16.20023754v2)\n",
    "\n",
    "There is a parameter, ``alpha`` ($\\alpha$), that combines these two matrices in the following way,\n",
    "\n",
    "\n",
    "$\\beta M \\left(1 + (\\alpha -1) \\right) P$\n",
    "\n",
    "where $\\beta$ is the intensity of the interaction, and $P$ the physical contact matrix. A larger $\\alpha$ produces more physical contacts. It is an overall number, non dependent of the particular group.\n"
   ]
  },
  {
   "cell_type": "code",
   "execution_count": 14,
   "metadata": {},
   "outputs": [
    {
     "data": {
      "text/plain": [
       "2.0"
      ]
     },
     "execution_count": 14,
     "metadata": {},
     "output_type": "execute_result"
    }
   ],
   "source": [
    "interaction.alpha"
   ]
  },
  {
   "cell_type": "code",
   "execution_count": 15,
   "metadata": {},
   "outputs": [],
   "source": [
    "interaction.alpha /= 2"
   ]
  },
  {
   "cell_type": "code",
   "execution_count": 16,
   "metadata": {},
   "outputs": [
    {
     "data": {
      "text/plain": [
       "1.0"
      ]
     },
     "execution_count": 16,
     "metadata": {},
     "output_type": "execute_result"
    }
   ],
   "source": [
    "interaction.alpha"
   ]
  },
  {
   "cell_type": "markdown",
   "metadata": {},
   "source": [
    "# Seed the disease"
   ]
  },
  {
   "cell_type": "markdown",
   "metadata": {},
   "source": [
    "There are two options implemented in the seed at the moment, either you specify the number of cases and these are then homogeneously distributed by population to the different areas, or you use UK data on cases per region. For now use the first case."
   ]
  },
  {
   "cell_type": "code",
   "execution_count": 17,
   "metadata": {},
   "outputs": [],
   "source": [
    "seed = Seed(world.super_areas, selector,)"
   ]
  },
  {
   "cell_type": "code",
   "execution_count": 18,
   "metadata": {},
   "outputs": [],
   "source": [
    "n_cases = 500\n",
    "seed.unleash_virus(n_cases) # play around with the initial number of cases"
   ]
  },
  {
   "cell_type": "markdown",
   "metadata": {},
   "source": [
    "# Run the simulation"
   ]
  },
  {
   "cell_type": "markdown",
   "metadata": {},
   "source": [
    "Since the timer configuration is a bit cumbersome, it is read from the config file at ``configs/config_example.yaml``"
   ]
  },
  {
   "cell_type": "code",
   "execution_count": 21,
   "metadata": {},
   "outputs": [],
   "source": [
    "CONFIG_PATH = \"../configs/config_example.yaml\"\n",
    "\n",
    "simulator = Simulator.from_file(\n",
    "     world, interaction, selector, \n",
    "    config_filename = CONFIG_PATH\n",
    ")"
   ]
  },
  {
   "cell_type": "code",
   "execution_count": 22,
   "metadata": {},
   "outputs": [],
   "source": [
    "# %%time\n",
    "simulator.run()"
   ]
  },
  {
   "cell_type": "markdown",
   "metadata": {},
   "source": [
    "# Getting the results"
   ]
  },
  {
   "cell_type": "markdown",
   "metadata": {},
   "source": [
    "All results are stored in a json file specified in the ``save_path`` variable in the config file. We can also access it from ``world.logger`` directly."
   ]
  },
  {
   "cell_type": "code",
   "execution_count": 34,
   "metadata": {},
   "outputs": [],
   "source": [
    "from june.logger.read_logger import ReadLogger\n",
    "import seaborn as sns\n",
    "sns.set_context('notebook')"
   ]
  },
  {
   "cell_type": "code",
   "execution_count": null,
   "metadata": {},
   "outputs": [],
   "source": []
  },
  {
   "cell_type": "code",
   "execution_count": 35,
   "metadata": {},
   "outputs": [],
   "source": [
    "read = ReadLogger()"
   ]
  },
  {
   "cell_type": "code",
   "execution_count": 36,
   "metadata": {},
   "outputs": [],
   "source": [
    "read.infected_data()"
   ]
  },
  {
   "cell_type": "code",
   "execution_count": 37,
   "metadata": {},
   "outputs": [
    {
     "data": {
      "text/html": [
       "<div>\n",
       "<style scoped>\n",
       "    .dataframe tbody tr th:only-of-type {\n",
       "        vertical-align: middle;\n",
       "    }\n",
       "\n",
       "    .dataframe tbody tr th {\n",
       "        vertical-align: top;\n",
       "    }\n",
       "\n",
       "    .dataframe thead th {\n",
       "        text-align: right;\n",
       "    }\n",
       "</style>\n",
       "<table border=\"1\" class=\"dataframe\">\n",
       "  <thead>\n",
       "    <tr style=\"text-align: right;\">\n",
       "      <th></th>\n",
       "      <th>infected_id</th>\n",
       "      <th>symptoms</th>\n",
       "      <th>recovered</th>\n",
       "      <th>dead</th>\n",
       "      <th>infected</th>\n",
       "      <th>susceptible</th>\n",
       "    </tr>\n",
       "    <tr>\n",
       "      <th>time_stamp</th>\n",
       "      <th></th>\n",
       "      <th></th>\n",
       "      <th></th>\n",
       "      <th></th>\n",
       "      <th></th>\n",
       "      <th></th>\n",
       "    </tr>\n",
       "  </thead>\n",
       "  <tbody>\n",
       "    <tr>\n",
       "      <th>2020-03-10 10:00:00</th>\n",
       "      <td>[14, 30, 69, 103, 106, 154, 200, 203, 243, 340...</td>\n",
       "      <td>[1, 1, 1, 1, 1, 1, 1, 1, 1, 1, 1, 1, 1, 1, 1, ...</td>\n",
       "      <td>0</td>\n",
       "      <td>0</td>\n",
       "      <td>498</td>\n",
       "      <td>24067</td>\n",
       "    </tr>\n",
       "    <tr>\n",
       "      <th>2020-03-10 12:00:00</th>\n",
       "      <td>[14, 30, 69, 103, 106, 154, 200, 203, 243, 340...</td>\n",
       "      <td>[0, 0, 0, 0, 0, 0, 0, 0, 0, 0, 0, 0, 0, 0, 0, ...</td>\n",
       "      <td>0</td>\n",
       "      <td>0</td>\n",
       "      <td>498</td>\n",
       "      <td>24067</td>\n",
       "    </tr>\n",
       "    <tr>\n",
       "      <th>2020-03-11 00:00:00</th>\n",
       "      <td>[14, 30, 69, 103, 106, 154, 200, 203, 243, 340...</td>\n",
       "      <td>[1, 1, 1, 1, 1, 1, 1, 1, 1, 1, 1, 1, 1, 1, 1, ...</td>\n",
       "      <td>0</td>\n",
       "      <td>0</td>\n",
       "      <td>498</td>\n",
       "      <td>24067</td>\n",
       "    </tr>\n",
       "    <tr>\n",
       "      <th>2020-03-11 10:00:00</th>\n",
       "      <td>[14, 30, 69, 103, 106, 154, 200, 203, 243, 340...</td>\n",
       "      <td>[1, 1, 1, 1, 1, 1, 1, 1, 1, 1, 1, 1, 1, 1, 1, ...</td>\n",
       "      <td>0</td>\n",
       "      <td>0</td>\n",
       "      <td>498</td>\n",
       "      <td>24067</td>\n",
       "    </tr>\n",
       "    <tr>\n",
       "      <th>2020-03-11 12:00:00</th>\n",
       "      <td>[14, 30, 69, 103, 106, 154, 200, 203, 243, 340...</td>\n",
       "      <td>[1, 1, 1, 1, 1, 1, 1, 1, 1, 1, 1, 1, 1, 1, 1, ...</td>\n",
       "      <td>0</td>\n",
       "      <td>0</td>\n",
       "      <td>498</td>\n",
       "      <td>24067</td>\n",
       "    </tr>\n",
       "    <tr>\n",
       "      <th>...</th>\n",
       "      <td>...</td>\n",
       "      <td>...</td>\n",
       "      <td>...</td>\n",
       "      <td>...</td>\n",
       "      <td>...</td>\n",
       "      <td>...</td>\n",
       "    </tr>\n",
       "    <tr>\n",
       "      <th>2020-04-07 12:00:00</th>\n",
       "      <td>[0, 1, 2, 3, 4, 6, 7, 8, 9, 10, 11, 12, 13, 14...</td>\n",
       "      <td>[2, 3, 3, 4, 2, 2, 2, 4, 4, 2, 5, 4, 3, 4, 2, ...</td>\n",
       "      <td>1880</td>\n",
       "      <td>14</td>\n",
       "      <td>21435</td>\n",
       "      <td>1236</td>\n",
       "    </tr>\n",
       "    <tr>\n",
       "      <th>2020-04-08 00:00:00</th>\n",
       "      <td>[0, 1, 2, 3, 4, 5, 6, 7, 8, 9, 10, 11, 12, 13,...</td>\n",
       "      <td>[2, 4, 3, 4, 2, 1, 2, 2, 4, 4, 2, 5, 4, 3, 4, ...</td>\n",
       "      <td>2375</td>\n",
       "      <td>15</td>\n",
       "      <td>20969</td>\n",
       "      <td>1206</td>\n",
       "    </tr>\n",
       "    <tr>\n",
       "      <th>2020-04-08 10:00:00</th>\n",
       "      <td>[0, 1, 2, 3, 4, 5, 6, 7, 8, 9, 10, 11, 12, 13,...</td>\n",
       "      <td>[2, 4, 3, 4, 2, 1, 2, 2, 4, 4, 2, 5, 4, 3, 4, ...</td>\n",
       "      <td>2375</td>\n",
       "      <td>15</td>\n",
       "      <td>20976</td>\n",
       "      <td>1199</td>\n",
       "    </tr>\n",
       "    <tr>\n",
       "      <th>2020-04-08 12:00:00</th>\n",
       "      <td>[0, 1, 2, 3, 4, 5, 6, 7, 8, 9, 10, 11, 12, 13,...</td>\n",
       "      <td>[2, 4, 3, 4, 2, 1, 2, 2, 4, 4, 8, 5, 4, 4, 4, ...</td>\n",
       "      <td>2597</td>\n",
       "      <td>17</td>\n",
       "      <td>20780</td>\n",
       "      <td>1171</td>\n",
       "    </tr>\n",
       "    <tr>\n",
       "      <th>2020-04-09 00:00:00</th>\n",
       "      <td>[0, 1, 2, 3, 4, 5, 6, 7, 8, 9, 11, 12, 13, 14,...</td>\n",
       "      <td>[2, 4, 3, 4, 2, 1, 2, 2, 4, 4, 5, 4, 4, 4, 2, ...</td>\n",
       "      <td>2829</td>\n",
       "      <td>21</td>\n",
       "      <td>20569</td>\n",
       "      <td>1146</td>\n",
       "    </tr>\n",
       "  </tbody>\n",
       "</table>\n",
       "<p>82 rows × 6 columns</p>\n",
       "</div>"
      ],
      "text/plain": [
       "                                                           infected_id  \\\n",
       "time_stamp                                                               \n",
       "2020-03-10 10:00:00  [14, 30, 69, 103, 106, 154, 200, 203, 243, 340...   \n",
       "2020-03-10 12:00:00  [14, 30, 69, 103, 106, 154, 200, 203, 243, 340...   \n",
       "2020-03-11 00:00:00  [14, 30, 69, 103, 106, 154, 200, 203, 243, 340...   \n",
       "2020-03-11 10:00:00  [14, 30, 69, 103, 106, 154, 200, 203, 243, 340...   \n",
       "2020-03-11 12:00:00  [14, 30, 69, 103, 106, 154, 200, 203, 243, 340...   \n",
       "...                                                                ...   \n",
       "2020-04-07 12:00:00  [0, 1, 2, 3, 4, 6, 7, 8, 9, 10, 11, 12, 13, 14...   \n",
       "2020-04-08 00:00:00  [0, 1, 2, 3, 4, 5, 6, 7, 8, 9, 10, 11, 12, 13,...   \n",
       "2020-04-08 10:00:00  [0, 1, 2, 3, 4, 5, 6, 7, 8, 9, 10, 11, 12, 13,...   \n",
       "2020-04-08 12:00:00  [0, 1, 2, 3, 4, 5, 6, 7, 8, 9, 10, 11, 12, 13,...   \n",
       "2020-04-09 00:00:00  [0, 1, 2, 3, 4, 5, 6, 7, 8, 9, 11, 12, 13, 14,...   \n",
       "\n",
       "                                                              symptoms  \\\n",
       "time_stamp                                                               \n",
       "2020-03-10 10:00:00  [1, 1, 1, 1, 1, 1, 1, 1, 1, 1, 1, 1, 1, 1, 1, ...   \n",
       "2020-03-10 12:00:00  [0, 0, 0, 0, 0, 0, 0, 0, 0, 0, 0, 0, 0, 0, 0, ...   \n",
       "2020-03-11 00:00:00  [1, 1, 1, 1, 1, 1, 1, 1, 1, 1, 1, 1, 1, 1, 1, ...   \n",
       "2020-03-11 10:00:00  [1, 1, 1, 1, 1, 1, 1, 1, 1, 1, 1, 1, 1, 1, 1, ...   \n",
       "2020-03-11 12:00:00  [1, 1, 1, 1, 1, 1, 1, 1, 1, 1, 1, 1, 1, 1, 1, ...   \n",
       "...                                                                ...   \n",
       "2020-04-07 12:00:00  [2, 3, 3, 4, 2, 2, 2, 4, 4, 2, 5, 4, 3, 4, 2, ...   \n",
       "2020-04-08 00:00:00  [2, 4, 3, 4, 2, 1, 2, 2, 4, 4, 2, 5, 4, 3, 4, ...   \n",
       "2020-04-08 10:00:00  [2, 4, 3, 4, 2, 1, 2, 2, 4, 4, 2, 5, 4, 3, 4, ...   \n",
       "2020-04-08 12:00:00  [2, 4, 3, 4, 2, 1, 2, 2, 4, 4, 8, 5, 4, 4, 4, ...   \n",
       "2020-04-09 00:00:00  [2, 4, 3, 4, 2, 1, 2, 2, 4, 4, 5, 4, 4, 4, 2, ...   \n",
       "\n",
       "                     recovered  dead  infected  susceptible  \n",
       "time_stamp                                                   \n",
       "2020-03-10 10:00:00          0     0       498        24067  \n",
       "2020-03-10 12:00:00          0     0       498        24067  \n",
       "2020-03-11 00:00:00          0     0       498        24067  \n",
       "2020-03-11 10:00:00          0     0       498        24067  \n",
       "2020-03-11 12:00:00          0     0       498        24067  \n",
       "...                        ...   ...       ...          ...  \n",
       "2020-04-07 12:00:00       1880    14     21435         1236  \n",
       "2020-04-08 00:00:00       2375    15     20969         1206  \n",
       "2020-04-08 10:00:00       2375    15     20976         1199  \n",
       "2020-04-08 12:00:00       2597    17     20780         1171  \n",
       "2020-04-09 00:00:00       2829    21     20569         1146  \n",
       "\n",
       "[82 rows x 6 columns]"
      ]
     },
     "execution_count": 37,
     "metadata": {},
     "output_type": "execute_result"
    }
   ],
   "source": [
    "read.infections_df"
   ]
  },
  {
   "cell_type": "code",
   "execution_count": null,
   "metadata": {},
   "outputs": [],
   "source": [
    "read.infections_df['real_infected'] = read.infections_df.apply(\n",
    "                lambda x: len(x.symptoms[(x.symptoms < 7)]), axis=1\n",
    ")"
   ]
  },
  {
   "cell_type": "code",
   "execution_count": null,
   "metadata": {},
   "outputs": [],
   "source": []
  },
  {
   "cell_type": "code",
   "execution_count": 38,
   "metadata": {},
   "outputs": [],
   "source": [
    "n_susceptible = 0\n",
    "for person in simulator.world.people:\n",
    "    if person.susceptible:\n",
    "        n_susceptible += 1\n",
    "        "
   ]
  },
  {
   "cell_type": "code",
   "execution_count": 39,
   "metadata": {
    "scrolled": true
   },
   "outputs": [],
   "source": [
    "n_recovered = 0\n",
    "for person in simulator.world.people:\n",
    "    if person.recovered:\n",
    "        n_recovered += 1"
   ]
  },
  {
   "cell_type": "code",
   "execution_count": 40,
   "metadata": {},
   "outputs": [],
   "source": [
    "for person in simulator.world.people:\n",
    "    if person.dead and person.susceptible:\n",
    "        print('fck')"
   ]
  },
  {
   "cell_type": "code",
   "execution_count": 41,
   "metadata": {},
   "outputs": [],
   "source": [
    "n_infected = 0\n",
    "for person in simulator.world.people:\n",
    "    if person.infected:\n",
    "        n_infected += 1"
   ]
  },
  {
   "cell_type": "code",
   "execution_count": 42,
   "metadata": {},
   "outputs": [],
   "source": [
    "n_dead = 0\n",
    "for person in simulator.world.people:\n",
    "    if person.dead:\n",
    "        n_dead += 1"
   ]
  },
  {
   "cell_type": "code",
   "execution_count": 43,
   "metadata": {},
   "outputs": [
    {
     "data": {
      "text/plain": [
       "21"
      ]
     },
     "execution_count": 43,
     "metadata": {},
     "output_type": "execute_result"
    }
   ],
   "source": [
    "n_dead"
   ]
  },
  {
   "cell_type": "code",
   "execution_count": 44,
   "metadata": {},
   "outputs": [
    {
     "data": {
      "text/plain": [
       "20569"
      ]
     },
     "execution_count": 44,
     "metadata": {},
     "output_type": "execute_result"
    }
   ],
   "source": [
    "n_infected"
   ]
  },
  {
   "cell_type": "code",
   "execution_count": 45,
   "metadata": {},
   "outputs": [
    {
     "data": {
      "text/plain": [
       "2829"
      ]
     },
     "execution_count": 45,
     "metadata": {},
     "output_type": "execute_result"
    }
   ],
   "source": [
    "n_recovered"
   ]
  },
  {
   "cell_type": "code",
   "execution_count": 46,
   "metadata": {},
   "outputs": [
    {
     "data": {
      "text/plain": [
       "1146"
      ]
     },
     "execution_count": 46,
     "metadata": {},
     "output_type": "execute_result"
    }
   ],
   "source": [
    "n_susceptible"
   ]
  },
  {
   "cell_type": "code",
   "execution_count": 47,
   "metadata": {},
   "outputs": [
    {
     "data": {
      "text/plain": [
       "1146"
      ]
     },
     "execution_count": 47,
     "metadata": {},
     "output_type": "execute_result"
    }
   ],
   "source": [
    "read.n_people - n_recovered - n_infected - n_dead"
   ]
  },
  {
   "cell_type": "code",
   "execution_count": 48,
   "metadata": {},
   "outputs": [
    {
     "data": {
      "text/html": [
       "<div>\n",
       "<style scoped>\n",
       "    .dataframe tbody tr th:only-of-type {\n",
       "        vertical-align: middle;\n",
       "    }\n",
       "\n",
       "    .dataframe tbody tr th {\n",
       "        vertical-align: top;\n",
       "    }\n",
       "\n",
       "    .dataframe thead th {\n",
       "        text-align: right;\n",
       "    }\n",
       "</style>\n",
       "<table border=\"1\" class=\"dataframe\">\n",
       "  <thead>\n",
       "    <tr style=\"text-align: right;\">\n",
       "      <th></th>\n",
       "      <th>infected_id</th>\n",
       "      <th>symptoms</th>\n",
       "      <th>recovered</th>\n",
       "      <th>dead</th>\n",
       "      <th>infected</th>\n",
       "      <th>susceptible</th>\n",
       "    </tr>\n",
       "    <tr>\n",
       "      <th>time_stamp</th>\n",
       "      <th></th>\n",
       "      <th></th>\n",
       "      <th></th>\n",
       "      <th></th>\n",
       "      <th></th>\n",
       "      <th></th>\n",
       "    </tr>\n",
       "  </thead>\n",
       "  <tbody>\n",
       "    <tr>\n",
       "      <th>2020-03-10 10:00:00</th>\n",
       "      <td>[14, 30, 69, 103, 106, 154, 200, 203, 243, 340...</td>\n",
       "      <td>[1, 1, 1, 1, 1, 1, 1, 1, 1, 1, 1, 1, 1, 1, 1, ...</td>\n",
       "      <td>0</td>\n",
       "      <td>0</td>\n",
       "      <td>498</td>\n",
       "      <td>24067</td>\n",
       "    </tr>\n",
       "    <tr>\n",
       "      <th>2020-03-10 12:00:00</th>\n",
       "      <td>[14, 30, 69, 103, 106, 154, 200, 203, 243, 340...</td>\n",
       "      <td>[0, 0, 0, 0, 0, 0, 0, 0, 0, 0, 0, 0, 0, 0, 0, ...</td>\n",
       "      <td>0</td>\n",
       "      <td>0</td>\n",
       "      <td>498</td>\n",
       "      <td>24067</td>\n",
       "    </tr>\n",
       "    <tr>\n",
       "      <th>2020-03-11 00:00:00</th>\n",
       "      <td>[14, 30, 69, 103, 106, 154, 200, 203, 243, 340...</td>\n",
       "      <td>[1, 1, 1, 1, 1, 1, 1, 1, 1, 1, 1, 1, 1, 1, 1, ...</td>\n",
       "      <td>0</td>\n",
       "      <td>0</td>\n",
       "      <td>498</td>\n",
       "      <td>24067</td>\n",
       "    </tr>\n",
       "    <tr>\n",
       "      <th>2020-03-11 10:00:00</th>\n",
       "      <td>[14, 30, 69, 103, 106, 154, 200, 203, 243, 340...</td>\n",
       "      <td>[1, 1, 1, 1, 1, 1, 1, 1, 1, 1, 1, 1, 1, 1, 1, ...</td>\n",
       "      <td>0</td>\n",
       "      <td>0</td>\n",
       "      <td>498</td>\n",
       "      <td>24067</td>\n",
       "    </tr>\n",
       "    <tr>\n",
       "      <th>2020-03-11 12:00:00</th>\n",
       "      <td>[14, 30, 69, 103, 106, 154, 200, 203, 243, 340...</td>\n",
       "      <td>[1, 1, 1, 1, 1, 1, 1, 1, 1, 1, 1, 1, 1, 1, 1, ...</td>\n",
       "      <td>0</td>\n",
       "      <td>0</td>\n",
       "      <td>498</td>\n",
       "      <td>24067</td>\n",
       "    </tr>\n",
       "    <tr>\n",
       "      <th>...</th>\n",
       "      <td>...</td>\n",
       "      <td>...</td>\n",
       "      <td>...</td>\n",
       "      <td>...</td>\n",
       "      <td>...</td>\n",
       "      <td>...</td>\n",
       "    </tr>\n",
       "    <tr>\n",
       "      <th>2020-04-07 12:00:00</th>\n",
       "      <td>[0, 1, 2, 3, 4, 6, 7, 8, 9, 10, 11, 12, 13, 14...</td>\n",
       "      <td>[2, 3, 3, 4, 2, 2, 2, 4, 4, 2, 5, 4, 3, 4, 2, ...</td>\n",
       "      <td>1880</td>\n",
       "      <td>14</td>\n",
       "      <td>21435</td>\n",
       "      <td>1236</td>\n",
       "    </tr>\n",
       "    <tr>\n",
       "      <th>2020-04-08 00:00:00</th>\n",
       "      <td>[0, 1, 2, 3, 4, 5, 6, 7, 8, 9, 10, 11, 12, 13,...</td>\n",
       "      <td>[2, 4, 3, 4, 2, 1, 2, 2, 4, 4, 2, 5, 4, 3, 4, ...</td>\n",
       "      <td>2375</td>\n",
       "      <td>15</td>\n",
       "      <td>20969</td>\n",
       "      <td>1206</td>\n",
       "    </tr>\n",
       "    <tr>\n",
       "      <th>2020-04-08 10:00:00</th>\n",
       "      <td>[0, 1, 2, 3, 4, 5, 6, 7, 8, 9, 10, 11, 12, 13,...</td>\n",
       "      <td>[2, 4, 3, 4, 2, 1, 2, 2, 4, 4, 2, 5, 4, 3, 4, ...</td>\n",
       "      <td>2375</td>\n",
       "      <td>15</td>\n",
       "      <td>20976</td>\n",
       "      <td>1199</td>\n",
       "    </tr>\n",
       "    <tr>\n",
       "      <th>2020-04-08 12:00:00</th>\n",
       "      <td>[0, 1, 2, 3, 4, 5, 6, 7, 8, 9, 10, 11, 12, 13,...</td>\n",
       "      <td>[2, 4, 3, 4, 2, 1, 2, 2, 4, 4, 8, 5, 4, 4, 4, ...</td>\n",
       "      <td>2597</td>\n",
       "      <td>17</td>\n",
       "      <td>20780</td>\n",
       "      <td>1171</td>\n",
       "    </tr>\n",
       "    <tr>\n",
       "      <th>2020-04-09 00:00:00</th>\n",
       "      <td>[0, 1, 2, 3, 4, 5, 6, 7, 8, 9, 11, 12, 13, 14,...</td>\n",
       "      <td>[2, 4, 3, 4, 2, 1, 2, 2, 4, 4, 5, 4, 4, 4, 2, ...</td>\n",
       "      <td>2829</td>\n",
       "      <td>21</td>\n",
       "      <td>20569</td>\n",
       "      <td>1146</td>\n",
       "    </tr>\n",
       "  </tbody>\n",
       "</table>\n",
       "<p>82 rows × 6 columns</p>\n",
       "</div>"
      ],
      "text/plain": [
       "                                                           infected_id  \\\n",
       "time_stamp                                                               \n",
       "2020-03-10 10:00:00  [14, 30, 69, 103, 106, 154, 200, 203, 243, 340...   \n",
       "2020-03-10 12:00:00  [14, 30, 69, 103, 106, 154, 200, 203, 243, 340...   \n",
       "2020-03-11 00:00:00  [14, 30, 69, 103, 106, 154, 200, 203, 243, 340...   \n",
       "2020-03-11 10:00:00  [14, 30, 69, 103, 106, 154, 200, 203, 243, 340...   \n",
       "2020-03-11 12:00:00  [14, 30, 69, 103, 106, 154, 200, 203, 243, 340...   \n",
       "...                                                                ...   \n",
       "2020-04-07 12:00:00  [0, 1, 2, 3, 4, 6, 7, 8, 9, 10, 11, 12, 13, 14...   \n",
       "2020-04-08 00:00:00  [0, 1, 2, 3, 4, 5, 6, 7, 8, 9, 10, 11, 12, 13,...   \n",
       "2020-04-08 10:00:00  [0, 1, 2, 3, 4, 5, 6, 7, 8, 9, 10, 11, 12, 13,...   \n",
       "2020-04-08 12:00:00  [0, 1, 2, 3, 4, 5, 6, 7, 8, 9, 10, 11, 12, 13,...   \n",
       "2020-04-09 00:00:00  [0, 1, 2, 3, 4, 5, 6, 7, 8, 9, 11, 12, 13, 14,...   \n",
       "\n",
       "                                                              symptoms  \\\n",
       "time_stamp                                                               \n",
       "2020-03-10 10:00:00  [1, 1, 1, 1, 1, 1, 1, 1, 1, 1, 1, 1, 1, 1, 1, ...   \n",
       "2020-03-10 12:00:00  [0, 0, 0, 0, 0, 0, 0, 0, 0, 0, 0, 0, 0, 0, 0, ...   \n",
       "2020-03-11 00:00:00  [1, 1, 1, 1, 1, 1, 1, 1, 1, 1, 1, 1, 1, 1, 1, ...   \n",
       "2020-03-11 10:00:00  [1, 1, 1, 1, 1, 1, 1, 1, 1, 1, 1, 1, 1, 1, 1, ...   \n",
       "2020-03-11 12:00:00  [1, 1, 1, 1, 1, 1, 1, 1, 1, 1, 1, 1, 1, 1, 1, ...   \n",
       "...                                                                ...   \n",
       "2020-04-07 12:00:00  [2, 3, 3, 4, 2, 2, 2, 4, 4, 2, 5, 4, 3, 4, 2, ...   \n",
       "2020-04-08 00:00:00  [2, 4, 3, 4, 2, 1, 2, 2, 4, 4, 2, 5, 4, 3, 4, ...   \n",
       "2020-04-08 10:00:00  [2, 4, 3, 4, 2, 1, 2, 2, 4, 4, 2, 5, 4, 3, 4, ...   \n",
       "2020-04-08 12:00:00  [2, 4, 3, 4, 2, 1, 2, 2, 4, 4, 8, 5, 4, 4, 4, ...   \n",
       "2020-04-09 00:00:00  [2, 4, 3, 4, 2, 1, 2, 2, 4, 4, 5, 4, 4, 4, 2, ...   \n",
       "\n",
       "                     recovered  dead  infected  susceptible  \n",
       "time_stamp                                                   \n",
       "2020-03-10 10:00:00          0     0       498        24067  \n",
       "2020-03-10 12:00:00          0     0       498        24067  \n",
       "2020-03-11 00:00:00          0     0       498        24067  \n",
       "2020-03-11 10:00:00          0     0       498        24067  \n",
       "2020-03-11 12:00:00          0     0       498        24067  \n",
       "...                        ...   ...       ...          ...  \n",
       "2020-04-07 12:00:00       1880    14     21435         1236  \n",
       "2020-04-08 00:00:00       2375    15     20969         1206  \n",
       "2020-04-08 10:00:00       2375    15     20976         1199  \n",
       "2020-04-08 12:00:00       2597    17     20780         1171  \n",
       "2020-04-09 00:00:00       2829    21     20569         1146  \n",
       "\n",
       "[82 rows x 6 columns]"
      ]
     },
     "execution_count": 48,
     "metadata": {},
     "output_type": "execute_result"
    }
   ],
   "source": [
    "read.infections_df"
   ]
  },
  {
   "cell_type": "code",
   "execution_count": 49,
   "metadata": {},
   "outputs": [
    {
     "data": {
      "text/plain": [
       "<matplotlib.legend.Legend at 0x7f1c716cc520>"
      ]
     },
     "execution_count": 49,
     "metadata": {},
     "output_type": "execute_result"
    },
    {
     "data": {
      "image/png": "[encoded data removed]",
      "text/plain": [
       "<Figure size 432x288 with 1 Axes>"
      ]
     },
     "metadata": {
      "needs_background": "light"
     },
     "output_type": "display_data"
    }
   ],
   "source": [
    "read.infections_df[['infected','recovered', 'dead', 'susceptible']].plot()\n",
    "plt.legend()"
   ]
  },
  {
   "cell_type": "code",
   "execution_count": 66,
   "metadata": {},
   "outputs": [],
   "source": [
    "random_trajectories = read.draw_random_trajectories(100)"
   ]
  },
  {
   "cell_type": "code",
   "execution_count": 67,
   "metadata": {},
   "outputs": [
    {
     "data": {
      "text/plain": [
       "Text(0.5, 0, 'Date')"
      ]
     },
     "execution_count": 67,
     "metadata": {},
     "output_type": "execute_result"
    },
    {
     "data": {
      "image/png": "[encoded data removed]",
      "text/plain": [
       "<Figure size 432x288 with 1 Axes>"
      ]
     },
     "metadata": {
      "needs_background": "light"
     },
     "output_type": "display_data"
    }
   ],
   "source": [
    "for df_person in random_trajectories:\n",
    "    df_person['symptoms'].plot()\n",
    "plt.ylabel('Symptoms Trajectory')\n",
    "symptoms = ['healthy','infected', 'asymptomatic',\n",
    "            'influenza','pneumonia', 'hospitalised',\n",
    "           'intensive_care', 'dead', 'recovered']\n",
    "_ = plt.yticks(range(len(symptoms)), symptoms)\n",
    "plt.xlabel('Date')"
   ]
  },
  {
   "cell_type": "code",
   "execution_count": 68,
   "metadata": {},
   "outputs": [
    {
     "data": {
      "text/html": [
       "<div>\n",
       "<style scoped>\n",
       "    .dataframe tbody tr th:only-of-type {\n",
       "        vertical-align: middle;\n",
       "    }\n",
       "\n",
       "    .dataframe tbody tr th {\n",
       "        vertical-align: top;\n",
       "    }\n",
       "\n",
       "    .dataframe thead th {\n",
       "        text-align: right;\n",
       "    }\n",
       "</style>\n",
       "<table border=\"1\" class=\"dataframe\">\n",
       "  <thead>\n",
       "    <tr style=\"text-align: right;\">\n",
       "      <th></th>\n",
       "      <th>infected_id</th>\n",
       "      <th>symptoms</th>\n",
       "      <th>infected</th>\n",
       "      <th>recovered</th>\n",
       "      <th>dead</th>\n",
       "      <th>susceptible</th>\n",
       "      <th>real_infected</th>\n",
       "    </tr>\n",
       "    <tr>\n",
       "      <th>time_stamp</th>\n",
       "      <th></th>\n",
       "      <th></th>\n",
       "      <th></th>\n",
       "      <th></th>\n",
       "      <th></th>\n",
       "      <th></th>\n",
       "      <th></th>\n",
       "    </tr>\n",
       "  </thead>\n",
       "  <tbody>\n",
       "    <tr>\n",
       "      <th>2020-03-31 10:00:00</th>\n",
       "      <td>2358</td>\n",
       "      <td>2</td>\n",
       "      <td>21436</td>\n",
       "      <td>438</td>\n",
       "      <td>4</td>\n",
       "      <td>2687</td>\n",
       "      <td>21436</td>\n",
       "    </tr>\n",
       "    <tr>\n",
       "      <th>2020-03-31 12:00:00</th>\n",
       "      <td>2358</td>\n",
       "      <td>2</td>\n",
       "      <td>21644</td>\n",
       "      <td>438</td>\n",
       "      <td>4</td>\n",
       "      <td>2479</td>\n",
       "      <td>21644</td>\n",
       "    </tr>\n",
       "    <tr>\n",
       "      <th>2020-04-01 00:00:00</th>\n",
       "      <td>2358</td>\n",
       "      <td>2</td>\n",
       "      <td>21855</td>\n",
       "      <td>438</td>\n",
       "      <td>4</td>\n",
       "      <td>2268</td>\n",
       "      <td>21855</td>\n",
       "    </tr>\n",
       "    <tr>\n",
       "      <th>2020-04-01 10:00:00</th>\n",
       "      <td>2358</td>\n",
       "      <td>2</td>\n",
       "      <td>21889</td>\n",
       "      <td>438</td>\n",
       "      <td>4</td>\n",
       "      <td>2234</td>\n",
       "      <td>21889</td>\n",
       "    </tr>\n",
       "    <tr>\n",
       "      <th>2020-04-01 12:00:00</th>\n",
       "      <td>2358</td>\n",
       "      <td>2</td>\n",
       "      <td>22052</td>\n",
       "      <td>438</td>\n",
       "      <td>4</td>\n",
       "      <td>2071</td>\n",
       "      <td>22052</td>\n",
       "    </tr>\n",
       "    <tr>\n",
       "      <th>2020-04-02 00:00:00</th>\n",
       "      <td>2358</td>\n",
       "      <td>2</td>\n",
       "      <td>22153</td>\n",
       "      <td>486</td>\n",
       "      <td>6</td>\n",
       "      <td>1970</td>\n",
       "      <td>22103</td>\n",
       "    </tr>\n",
       "    <tr>\n",
       "      <th>2020-04-02 10:00:00</th>\n",
       "      <td>2358</td>\n",
       "      <td>2</td>\n",
       "      <td>22188</td>\n",
       "      <td>534</td>\n",
       "      <td>6</td>\n",
       "      <td>1885</td>\n",
       "      <td>22140</td>\n",
       "    </tr>\n",
       "    <tr>\n",
       "      <th>2020-04-02 12:00:00</th>\n",
       "      <td>2358</td>\n",
       "      <td>2</td>\n",
       "      <td>22253</td>\n",
       "      <td>620</td>\n",
       "      <td>6</td>\n",
       "      <td>1772</td>\n",
       "      <td>22167</td>\n",
       "    </tr>\n",
       "    <tr>\n",
       "      <th>2020-04-03 00:00:00</th>\n",
       "      <td>2358</td>\n",
       "      <td>2</td>\n",
       "      <td>22322</td>\n",
       "      <td>777</td>\n",
       "      <td>6</td>\n",
       "      <td>1617</td>\n",
       "      <td>22165</td>\n",
       "    </tr>\n",
       "    <tr>\n",
       "      <th>2020-04-03 10:00:00</th>\n",
       "      <td>2358</td>\n",
       "      <td>2</td>\n",
       "      <td>22257</td>\n",
       "      <td>848</td>\n",
       "      <td>6</td>\n",
       "      <td>1525</td>\n",
       "      <td>22186</td>\n",
       "    </tr>\n",
       "    <tr>\n",
       "      <th>2020-04-03 12:00:00</th>\n",
       "      <td>2358</td>\n",
       "      <td>8</td>\n",
       "      <td>22244</td>\n",
       "      <td>931</td>\n",
       "      <td>8</td>\n",
       "      <td>1467</td>\n",
       "      <td>22159</td>\n",
       "    </tr>\n",
       "    <tr>\n",
       "      <th>2020-04-04 00:00:00</th>\n",
       "      <td>2358</td>\n",
       "      <td>8</td>\n",
       "      <td>22524</td>\n",
       "      <td>1236</td>\n",
       "      <td>9</td>\n",
       "      <td>1102</td>\n",
       "      <td>22218</td>\n",
       "    </tr>\n",
       "  </tbody>\n",
       "</table>\n",
       "</div>"
      ],
      "text/plain": [
       "                    infected_id symptoms  infected  recovered  dead  \\\n",
       "time_stamp                                                            \n",
       "2020-03-31 10:00:00        2358        2     21436        438     4   \n",
       "2020-03-31 12:00:00        2358        2     21644        438     4   \n",
       "2020-04-01 00:00:00        2358        2     21855        438     4   \n",
       "2020-04-01 10:00:00        2358        2     21889        438     4   \n",
       "2020-04-01 12:00:00        2358        2     22052        438     4   \n",
       "2020-04-02 00:00:00        2358        2     22153        486     6   \n",
       "2020-04-02 10:00:00        2358        2     22188        534     6   \n",
       "2020-04-02 12:00:00        2358        2     22253        620     6   \n",
       "2020-04-03 00:00:00        2358        2     22322        777     6   \n",
       "2020-04-03 10:00:00        2358        2     22257        848     6   \n",
       "2020-04-03 12:00:00        2358        8     22244        931     8   \n",
       "2020-04-04 00:00:00        2358        8     22524       1236     9   \n",
       "\n",
       "                     susceptible  real_infected  \n",
       "time_stamp                                       \n",
       "2020-03-31 10:00:00         2687          21436  \n",
       "2020-03-31 12:00:00         2479          21644  \n",
       "2020-04-01 00:00:00         2268          21855  \n",
       "2020-04-01 10:00:00         2234          21889  \n",
       "2020-04-01 12:00:00         2071          22052  \n",
       "2020-04-02 00:00:00         1970          22103  \n",
       "2020-04-02 10:00:00         1885          22140  \n",
       "2020-04-02 12:00:00         1772          22167  \n",
       "2020-04-03 00:00:00         1617          22165  \n",
       "2020-04-03 10:00:00         1525          22186  \n",
       "2020-04-03 12:00:00         1467          22159  \n",
       "2020-04-04 00:00:00         1102          22218  "
      ]
     },
     "execution_count": 68,
     "metadata": {},
     "output_type": "execute_result"
    }
   ],
   "source": [
    "random_trajectories[1]"
   ]
  },
  {
   "cell_type": "code",
   "execution_count": 43,
   "metadata": {},
   "outputs": [
    {
     "data": {
      "text/plain": [
       "29"
      ]
     },
     "execution_count": 43,
     "metadata": {},
     "output_type": "execute_result"
    }
   ],
   "source": [
    "len(simulator.world.cemeteries.members[0].people)"
   ]
  },
  {
   "cell_type": "code",
   "execution_count": 34,
   "metadata": {},
   "outputs": [
    {
     "name": "stdout",
     "output_type": "stream",
     "text": [
      "False\n",
      "False\n",
      "False\n",
      "False\n",
      "False\n",
      "False\n",
      "False\n",
      "False\n",
      "False\n",
      "False\n",
      "False\n",
      "False\n",
      "False\n",
      "False\n",
      "False\n",
      "False\n",
      "False\n",
      "False\n",
      "False\n",
      "False\n",
      "False\n",
      "False\n",
      "False\n",
      "False\n",
      "False\n",
      "False\n",
      "False\n",
      "False\n",
      "False\n",
      "False\n",
      "False\n",
      "False\n",
      "False\n",
      "False\n",
      "False\n",
      "False\n",
      "False\n",
      "False\n",
      "False\n",
      "False\n",
      "False\n",
      "False\n",
      "False\n",
      "False\n",
      "False\n",
      "False\n",
      "False\n",
      "False\n",
      "False\n",
      "False\n",
      "False\n",
      "False\n",
      "False\n",
      "True\n",
      "False\n",
      "False\n",
      "False\n",
      "False\n",
      "False\n",
      "False\n",
      "False\n",
      "False\n",
      "False\n",
      "False\n",
      "True\n",
      "True\n",
      "False\n",
      "False\n",
      "True\n",
      "True\n",
      "False\n",
      "True\n",
      "False\n",
      "False\n",
      "False\n",
      "True\n",
      "False\n",
      "False\n",
      "True\n",
      "False\n",
      "True\n",
      "True\n"
     ]
    }
   ],
   "source": [
    "for index, row in read.infections_df.iterrows():\n",
    "    print(7 in row['symptoms'])"
   ]
  },
  {
   "cell_type": "code",
   "execution_count": null,
   "metadata": {},
   "outputs": [],
   "source": []
  },
  {
   "cell_type": "code",
   "execution_count": null,
   "metadata": {},
   "outputs": [],
   "source": []
  },
  {
   "cell_type": "code",
   "execution_count": 60,
   "metadata": {},
   "outputs": [],
   "source": [
    "infections_df['infected'] = infections_df.apply(lambda x: len(x['infected_id']), axis=1)"
   ]
  },
  {
   "cell_type": "code",
   "execution_count": 61,
   "metadata": {},
   "outputs": [],
   "source": [
    "#infections_df['cummulative_infections'] = len((infections_df['infected_id'].cumsum().apply(set)))"
   ]
  },
  {
   "cell_type": "code",
   "execution_count": 48,
   "metadata": {},
   "outputs": [
    {
     "data": {
      "text/plain": [
       "498"
      ]
     },
     "execution_count": 48,
     "metadata": {},
     "output_type": "execute_result"
    }
   ],
   "source": [
    "len(set(infections_df['infected_id'].cumsum().loc['2020-03-10 10:00:00']))"
   ]
  },
  {
   "cell_type": "code",
   "execution_count": 46,
   "metadata": {},
   "outputs": [
    {
     "data": {
      "text/html": [
       "<div>\n",
       "<style scoped>\n",
       "    .dataframe tbody tr th:only-of-type {\n",
       "        vertical-align: middle;\n",
       "    }\n",
       "\n",
       "    .dataframe tbody tr th {\n",
       "        vertical-align: top;\n",
       "    }\n",
       "\n",
       "    .dataframe thead th {\n",
       "        text-align: right;\n",
       "    }\n",
       "</style>\n",
       "<table border=\"1\" class=\"dataframe\">\n",
       "  <thead>\n",
       "    <tr style=\"text-align: right;\">\n",
       "      <th></th>\n",
       "      <th>infected_id</th>\n",
       "      <th>symptoms</th>\n",
       "      <th>infected</th>\n",
       "    </tr>\n",
       "    <tr>\n",
       "      <th>time_stamp</th>\n",
       "      <th></th>\n",
       "      <th></th>\n",
       "      <th></th>\n",
       "    </tr>\n",
       "  </thead>\n",
       "  <tbody>\n",
       "    <tr>\n",
       "      <th>2020-04-08 12:00:00</th>\n",
       "      <td>[0, 1, 2, 3, 4, 6, 7, 8, 11, 12, 13, 14, 15, 1...</td>\n",
       "      <td>[2, 4, 3, 1, 3, 3, 4, 2, 4, 3, 2, 2, 3, 2, 3, ...</td>\n",
       "      <td>21018</td>\n",
       "    </tr>\n",
       "    <tr>\n",
       "      <th>2020-04-09 00:00:00</th>\n",
       "      <td>[0, 1, 2, 3, 4, 6, 7, 8, 10, 11, 12, 13, 14, 1...</td>\n",
       "      <td>[2, 4, 3, 1, 3, 3, 4, 2, 1, 4, 3, 2, 2, 3, 2, ...</td>\n",
       "      <td>21043</td>\n",
       "    </tr>\n",
       "  </tbody>\n",
       "</table>\n",
       "</div>"
      ],
      "text/plain": [
       "                                                           infected_id  \\\n",
       "time_stamp                                                               \n",
       "2020-04-08 12:00:00  [0, 1, 2, 3, 4, 6, 7, 8, 11, 12, 13, 14, 15, 1...   \n",
       "2020-04-09 00:00:00  [0, 1, 2, 3, 4, 6, 7, 8, 10, 11, 12, 13, 14, 1...   \n",
       "\n",
       "                                                              symptoms  \\\n",
       "time_stamp                                                               \n",
       "2020-04-08 12:00:00  [2, 4, 3, 1, 3, 3, 4, 2, 4, 3, 2, 2, 3, 2, 3, ...   \n",
       "2020-04-09 00:00:00  [2, 4, 3, 1, 3, 3, 4, 2, 1, 4, 3, 2, 2, 3, 2, ...   \n",
       "\n",
       "                     infected  \n",
       "time_stamp                     \n",
       "2020-04-08 12:00:00     21018  \n",
       "2020-04-09 00:00:00     21043  "
      ]
     },
     "execution_count": 46,
     "metadata": {},
     "output_type": "execute_result"
    }
   ],
   "source": [
    "infections_df.tail(2)"
   ]
  },
  {
   "cell_type": "code",
   "execution_count": 49,
   "metadata": {},
   "outputs": [
    {
     "data": {
      "text/plain": [
       "23372"
      ]
     },
     "execution_count": 49,
     "metadata": {},
     "output_type": "execute_result"
    }
   ],
   "source": [
    "len(set(infections_df['infected_id'].cumsum().loc['2020-04-09 00:00:00']))"
   ]
  },
  {
   "cell_type": "code",
   "execution_count": 34,
   "metadata": {},
   "outputs": [
    {
     "data": {
      "text/plain": [
       "<matplotlib.axes._subplots.AxesSubplot at 0x7f9fb4144d00>"
      ]
     },
     "execution_count": 34,
     "metadata": {},
     "output_type": "execute_result"
    },
    {
     "data": {
      "image/png": "[encoded data removed]",
      "text/plain": [
       "<Figure size 432x288 with 1 Axes>"
      ]
     },
     "metadata": {
      "needs_background": "light"
     },
     "output_type": "display_data"
    }
   ],
   "source": [
    "infections_df['infected'].plot()"
   ]
  },
  {
   "cell_type": "code",
   "execution_count": 27,
   "metadata": {},
   "outputs": [
    {
     "data": {
      "text/plain": [
       "(array([8842.,    0.,    0.,    0.,    0., 5997.,    0.,    0.,    0.,\n",
       "        9726.]),\n",
       " array([0. , 0.2, 0.4, 0.6, 0.8, 1. , 1.2, 1.4, 1.6, 1.8, 2. ]),\n",
       " <a list of 10 Patch objects>)"
      ]
     },
     "execution_count": 27,
     "metadata": {},
     "output_type": "execute_result"
    },
    {
     "data": {
      "image/png": "[encoded data removed]",
      "text/plain": [
       "<Figure size 432x288 with 1 Axes>"
      ]
     },
     "metadata": {
      "needs_background": "light"
     },
     "output_type": "display_data"
    }
   ],
   "source": [
    "plt.hist(read.super_areas)"
   ]
  },
  {
   "cell_type": "code",
   "execution_count": null,
   "metadata": {},
   "outputs": [],
   "source": []
  },
  {
   "cell_type": "code",
   "execution_count": null,
   "metadata": {},
   "outputs": [],
   "source": []
  },
  {
   "cell_type": "code",
   "execution_count": null,
   "metadata": {},
   "outputs": [],
   "source": []
  },
  {
   "cell_type": "code",
   "execution_count": 43,
   "metadata": {},
   "outputs": [],
   "source": [
    "outputs = ReadLogger.from_logger(simulator.logger)"
   ]
  },
  {
   "cell_type": "code",
   "execution_count": 99,
   "metadata": {},
   "outputs": [
    {
     "name": "stdout",
     "output_type": "stream",
     "text": [
      "CPU times: user 15.4 s, sys: 28.5 ms, total: 15.4 s\n",
      "Wall time: 15.6 s\n"
     ]
    }
   ],
   "source": [
    "%%time\n",
    "daily_df = outputs.daily_to_dataframe()"
   ]
  },
  {
   "cell_type": "code",
   "execution_count": 101,
   "metadata": {},
   "outputs": [
    {
     "data": {
      "text/plain": [
       "83"
      ]
     },
     "execution_count": 101,
     "metadata": {},
     "output_type": "execute_result"
    }
   ],
   "source": [
    "len(outputs.daily_dict)"
   ]
  },
  {
   "cell_type": "code",
   "execution_count": 98,
   "metadata": {},
   "outputs": [
    {
     "data": {
      "text/html": [
       "<div>\n",
       "<style scoped>\n",
       "    .dataframe tbody tr th:only-of-type {\n",
       "        vertical-align: middle;\n",
       "    }\n",
       "\n",
       "    .dataframe tbody tr th {\n",
       "        vertical-align: top;\n",
       "    }\n",
       "\n",
       "    .dataframe thead th {\n",
       "        text-align: right;\n",
       "    }\n",
       "</style>\n",
       "<table border=\"1\" class=\"dataframe\">\n",
       "  <thead>\n",
       "    <tr style=\"text-align: right;\">\n",
       "      <th></th>\n",
       "      <th>area</th>\n",
       "      <th>infected_f_0_4</th>\n",
       "      <th>recovered_f_0_4</th>\n",
       "      <th>susceptible_f_0_4</th>\n",
       "      <th>hospitalised_f_0_4</th>\n",
       "      <th>intensive_care_f_0_4</th>\n",
       "      <th>dead_f_0_4</th>\n",
       "      <th>infected_f_5_18</th>\n",
       "      <th>recovered_f_5_18</th>\n",
       "      <th>susceptible_f_5_18</th>\n",
       "      <th>...</th>\n",
       "      <th>susceptible_m_30_64</th>\n",
       "      <th>hospitalised_m_30_64</th>\n",
       "      <th>intensive_care_m_30_64</th>\n",
       "      <th>dead_m_30_64</th>\n",
       "      <th>infected_m_65_99</th>\n",
       "      <th>recovered_m_65_99</th>\n",
       "      <th>susceptible_m_65_99</th>\n",
       "      <th>hospitalised_m_65_99</th>\n",
       "      <th>intensive_care_m_65_99</th>\n",
       "      <th>dead_m_65_99</th>\n",
       "    </tr>\n",
       "    <tr>\n",
       "      <th>time_stamp</th>\n",
       "      <th></th>\n",
       "      <th></th>\n",
       "      <th></th>\n",
       "      <th></th>\n",
       "      <th></th>\n",
       "      <th></th>\n",
       "      <th></th>\n",
       "      <th></th>\n",
       "      <th></th>\n",
       "      <th></th>\n",
       "      <th></th>\n",
       "      <th></th>\n",
       "      <th></th>\n",
       "      <th></th>\n",
       "      <th></th>\n",
       "      <th></th>\n",
       "      <th></th>\n",
       "      <th></th>\n",
       "      <th></th>\n",
       "      <th></th>\n",
       "      <th></th>\n",
       "    </tr>\n",
       "  </thead>\n",
       "  <tbody>\n",
       "    <tr>\n",
       "      <th>2020-03-10 00:00:00</th>\n",
       "      <td>E00062207</td>\n",
       "      <td>0</td>\n",
       "      <td>0</td>\n",
       "      <td>7</td>\n",
       "      <td>0</td>\n",
       "      <td>0</td>\n",
       "      <td>0</td>\n",
       "      <td>1</td>\n",
       "      <td>0</td>\n",
       "      <td>15</td>\n",
       "      <td>...</td>\n",
       "      <td>75</td>\n",
       "      <td>0</td>\n",
       "      <td>0</td>\n",
       "      <td>0</td>\n",
       "      <td>1</td>\n",
       "      <td>0</td>\n",
       "      <td>18</td>\n",
       "      <td>0</td>\n",
       "      <td>0</td>\n",
       "      <td>0</td>\n",
       "    </tr>\n",
       "    <tr>\n",
       "      <th>2020-03-10 00:00:00</th>\n",
       "      <td>E00062382</td>\n",
       "      <td>0</td>\n",
       "      <td>0</td>\n",
       "      <td>7</td>\n",
       "      <td>0</td>\n",
       "      <td>0</td>\n",
       "      <td>0</td>\n",
       "      <td>0</td>\n",
       "      <td>0</td>\n",
       "      <td>18</td>\n",
       "      <td>...</td>\n",
       "      <td>57</td>\n",
       "      <td>0</td>\n",
       "      <td>0</td>\n",
       "      <td>0</td>\n",
       "      <td>0</td>\n",
       "      <td>0</td>\n",
       "      <td>19</td>\n",
       "      <td>0</td>\n",
       "      <td>0</td>\n",
       "      <td>0</td>\n",
       "    </tr>\n",
       "    <tr>\n",
       "      <th>2020-03-10 00:00:00</th>\n",
       "      <td>E00062386</td>\n",
       "      <td>0</td>\n",
       "      <td>0</td>\n",
       "      <td>3</td>\n",
       "      <td>0</td>\n",
       "      <td>0</td>\n",
       "      <td>0</td>\n",
       "      <td>0</td>\n",
       "      <td>0</td>\n",
       "      <td>17</td>\n",
       "      <td>...</td>\n",
       "      <td>56</td>\n",
       "      <td>0</td>\n",
       "      <td>0</td>\n",
       "      <td>0</td>\n",
       "      <td>0</td>\n",
       "      <td>0</td>\n",
       "      <td>31</td>\n",
       "      <td>0</td>\n",
       "      <td>0</td>\n",
       "      <td>0</td>\n",
       "    </tr>\n",
       "    <tr>\n",
       "      <th>2020-03-10 00:00:00</th>\n",
       "      <td>E00062385</td>\n",
       "      <td>0</td>\n",
       "      <td>0</td>\n",
       "      <td>4</td>\n",
       "      <td>0</td>\n",
       "      <td>0</td>\n",
       "      <td>0</td>\n",
       "      <td>0</td>\n",
       "      <td>0</td>\n",
       "      <td>18</td>\n",
       "      <td>...</td>\n",
       "      <td>89</td>\n",
       "      <td>0</td>\n",
       "      <td>0</td>\n",
       "      <td>0</td>\n",
       "      <td>2</td>\n",
       "      <td>0</td>\n",
       "      <td>52</td>\n",
       "      <td>0</td>\n",
       "      <td>0</td>\n",
       "      <td>0</td>\n",
       "    </tr>\n",
       "    <tr>\n",
       "      <th>2020-03-10 00:00:00</th>\n",
       "      <td>E00062380</td>\n",
       "      <td>0</td>\n",
       "      <td>0</td>\n",
       "      <td>4</td>\n",
       "      <td>0</td>\n",
       "      <td>0</td>\n",
       "      <td>0</td>\n",
       "      <td>0</td>\n",
       "      <td>0</td>\n",
       "      <td>12</td>\n",
       "      <td>...</td>\n",
       "      <td>41</td>\n",
       "      <td>0</td>\n",
       "      <td>0</td>\n",
       "      <td>0</td>\n",
       "      <td>0</td>\n",
       "      <td>0</td>\n",
       "      <td>16</td>\n",
       "      <td>0</td>\n",
       "      <td>0</td>\n",
       "      <td>0</td>\n",
       "    </tr>\n",
       "    <tr>\n",
       "      <th>...</th>\n",
       "      <td>...</td>\n",
       "      <td>...</td>\n",
       "      <td>...</td>\n",
       "      <td>...</td>\n",
       "      <td>...</td>\n",
       "      <td>...</td>\n",
       "      <td>...</td>\n",
       "      <td>...</td>\n",
       "      <td>...</td>\n",
       "      <td>...</td>\n",
       "      <td>...</td>\n",
       "      <td>...</td>\n",
       "      <td>...</td>\n",
       "      <td>...</td>\n",
       "      <td>...</td>\n",
       "      <td>...</td>\n",
       "      <td>...</td>\n",
       "      <td>...</td>\n",
       "      <td>...</td>\n",
       "      <td>...</td>\n",
       "      <td>...</td>\n",
       "    </tr>\n",
       "    <tr>\n",
       "      <th>2020-03-10 12:00:00</th>\n",
       "      <td>E00042446</td>\n",
       "      <td>0</td>\n",
       "      <td>0</td>\n",
       "      <td>2</td>\n",
       "      <td>0</td>\n",
       "      <td>0</td>\n",
       "      <td>0</td>\n",
       "      <td>0</td>\n",
       "      <td>0</td>\n",
       "      <td>13</td>\n",
       "      <td>...</td>\n",
       "      <td>26</td>\n",
       "      <td>0</td>\n",
       "      <td>0</td>\n",
       "      <td>0</td>\n",
       "      <td>0</td>\n",
       "      <td>0</td>\n",
       "      <td>6</td>\n",
       "      <td>0</td>\n",
       "      <td>0</td>\n",
       "      <td>0</td>\n",
       "    </tr>\n",
       "    <tr>\n",
       "      <th>2020-03-10 12:00:00</th>\n",
       "      <td>E00042475</td>\n",
       "      <td>0</td>\n",
       "      <td>0</td>\n",
       "      <td>0</td>\n",
       "      <td>0</td>\n",
       "      <td>0</td>\n",
       "      <td>0</td>\n",
       "      <td>0</td>\n",
       "      <td>0</td>\n",
       "      <td>5</td>\n",
       "      <td>...</td>\n",
       "      <td>22</td>\n",
       "      <td>0</td>\n",
       "      <td>0</td>\n",
       "      <td>0</td>\n",
       "      <td>0</td>\n",
       "      <td>0</td>\n",
       "      <td>1</td>\n",
       "      <td>0</td>\n",
       "      <td>0</td>\n",
       "      <td>0</td>\n",
       "    </tr>\n",
       "    <tr>\n",
       "      <th>2020-03-10 12:00:00</th>\n",
       "      <td>E00042447</td>\n",
       "      <td>0</td>\n",
       "      <td>0</td>\n",
       "      <td>3</td>\n",
       "      <td>0</td>\n",
       "      <td>0</td>\n",
       "      <td>0</td>\n",
       "      <td>0</td>\n",
       "      <td>0</td>\n",
       "      <td>1</td>\n",
       "      <td>...</td>\n",
       "      <td>29</td>\n",
       "      <td>0</td>\n",
       "      <td>0</td>\n",
       "      <td>0</td>\n",
       "      <td>0</td>\n",
       "      <td>0</td>\n",
       "      <td>1</td>\n",
       "      <td>0</td>\n",
       "      <td>0</td>\n",
       "      <td>0</td>\n",
       "    </tr>\n",
       "    <tr>\n",
       "      <th>2020-03-10 12:00:00</th>\n",
       "      <td>E00042477</td>\n",
       "      <td>0</td>\n",
       "      <td>0</td>\n",
       "      <td>2</td>\n",
       "      <td>0</td>\n",
       "      <td>0</td>\n",
       "      <td>0</td>\n",
       "      <td>0</td>\n",
       "      <td>0</td>\n",
       "      <td>7</td>\n",
       "      <td>...</td>\n",
       "      <td>18</td>\n",
       "      <td>0</td>\n",
       "      <td>0</td>\n",
       "      <td>0</td>\n",
       "      <td>0</td>\n",
       "      <td>0</td>\n",
       "      <td>3</td>\n",
       "      <td>0</td>\n",
       "      <td>0</td>\n",
       "      <td>0</td>\n",
       "    </tr>\n",
       "    <tr>\n",
       "      <th>2020-03-10 12:00:00</th>\n",
       "      <td>E00042444</td>\n",
       "      <td>0</td>\n",
       "      <td>0</td>\n",
       "      <td>1</td>\n",
       "      <td>0</td>\n",
       "      <td>0</td>\n",
       "      <td>0</td>\n",
       "      <td>0</td>\n",
       "      <td>0</td>\n",
       "      <td>1</td>\n",
       "      <td>...</td>\n",
       "      <td>28</td>\n",
       "      <td>0</td>\n",
       "      <td>0</td>\n",
       "      <td>0</td>\n",
       "      <td>0</td>\n",
       "      <td>0</td>\n",
       "      <td>2</td>\n",
       "      <td>0</td>\n",
       "      <td>0</td>\n",
       "      <td>0</td>\n",
       "    </tr>\n",
       "  </tbody>\n",
       "</table>\n",
       "<p>228 rows × 61 columns</p>\n",
       "</div>"
      ],
      "text/plain": [
       "                          area infected_f_0_4 recovered_f_0_4  \\\n",
       "time_stamp                                                      \n",
       "2020-03-10 00:00:00  E00062207              0               0   \n",
       "2020-03-10 00:00:00  E00062382              0               0   \n",
       "2020-03-10 00:00:00  E00062386              0               0   \n",
       "2020-03-10 00:00:00  E00062385              0               0   \n",
       "2020-03-10 00:00:00  E00062380              0               0   \n",
       "...                        ...            ...             ...   \n",
       "2020-03-10 12:00:00  E00042446              0               0   \n",
       "2020-03-10 12:00:00  E00042475              0               0   \n",
       "2020-03-10 12:00:00  E00042447              0               0   \n",
       "2020-03-10 12:00:00  E00042477              0               0   \n",
       "2020-03-10 12:00:00  E00042444              0               0   \n",
       "\n",
       "                    susceptible_f_0_4 hospitalised_f_0_4 intensive_care_f_0_4  \\\n",
       "time_stamp                                                                      \n",
       "2020-03-10 00:00:00                 7                  0                    0   \n",
       "2020-03-10 00:00:00                 7                  0                    0   \n",
       "2020-03-10 00:00:00                 3                  0                    0   \n",
       "2020-03-10 00:00:00                 4                  0                    0   \n",
       "2020-03-10 00:00:00                 4                  0                    0   \n",
       "...                               ...                ...                  ...   \n",
       "2020-03-10 12:00:00                 2                  0                    0   \n",
       "2020-03-10 12:00:00                 0                  0                    0   \n",
       "2020-03-10 12:00:00                 3                  0                    0   \n",
       "2020-03-10 12:00:00                 2                  0                    0   \n",
       "2020-03-10 12:00:00                 1                  0                    0   \n",
       "\n",
       "                    dead_f_0_4 infected_f_5_18 recovered_f_5_18  \\\n",
       "time_stamp                                                        \n",
       "2020-03-10 00:00:00          0               1                0   \n",
       "2020-03-10 00:00:00          0               0                0   \n",
       "2020-03-10 00:00:00          0               0                0   \n",
       "2020-03-10 00:00:00          0               0                0   \n",
       "2020-03-10 00:00:00          0               0                0   \n",
       "...                        ...             ...              ...   \n",
       "2020-03-10 12:00:00          0               0                0   \n",
       "2020-03-10 12:00:00          0               0                0   \n",
       "2020-03-10 12:00:00          0               0                0   \n",
       "2020-03-10 12:00:00          0               0                0   \n",
       "2020-03-10 12:00:00          0               0                0   \n",
       "\n",
       "                    susceptible_f_5_18  ... susceptible_m_30_64  \\\n",
       "time_stamp                              ...                       \n",
       "2020-03-10 00:00:00                 15  ...                  75   \n",
       "2020-03-10 00:00:00                 18  ...                  57   \n",
       "2020-03-10 00:00:00                 17  ...                  56   \n",
       "2020-03-10 00:00:00                 18  ...                  89   \n",
       "2020-03-10 00:00:00                 12  ...                  41   \n",
       "...                                ...  ...                 ...   \n",
       "2020-03-10 12:00:00                 13  ...                  26   \n",
       "2020-03-10 12:00:00                  5  ...                  22   \n",
       "2020-03-10 12:00:00                  1  ...                  29   \n",
       "2020-03-10 12:00:00                  7  ...                  18   \n",
       "2020-03-10 12:00:00                  1  ...                  28   \n",
       "\n",
       "                    hospitalised_m_30_64 intensive_care_m_30_64 dead_m_30_64  \\\n",
       "time_stamp                                                                     \n",
       "2020-03-10 00:00:00                    0                      0            0   \n",
       "2020-03-10 00:00:00                    0                      0            0   \n",
       "2020-03-10 00:00:00                    0                      0            0   \n",
       "2020-03-10 00:00:00                    0                      0            0   \n",
       "2020-03-10 00:00:00                    0                      0            0   \n",
       "...                                  ...                    ...          ...   \n",
       "2020-03-10 12:00:00                    0                      0            0   \n",
       "2020-03-10 12:00:00                    0                      0            0   \n",
       "2020-03-10 12:00:00                    0                      0            0   \n",
       "2020-03-10 12:00:00                    0                      0            0   \n",
       "2020-03-10 12:00:00                    0                      0            0   \n",
       "\n",
       "                    infected_m_65_99 recovered_m_65_99 susceptible_m_65_99  \\\n",
       "time_stamp                                                                   \n",
       "2020-03-10 00:00:00                1                 0                  18   \n",
       "2020-03-10 00:00:00                0                 0                  19   \n",
       "2020-03-10 00:00:00                0                 0                  31   \n",
       "2020-03-10 00:00:00                2                 0                  52   \n",
       "2020-03-10 00:00:00                0                 0                  16   \n",
       "...                              ...               ...                 ...   \n",
       "2020-03-10 12:00:00                0                 0                   6   \n",
       "2020-03-10 12:00:00                0                 0                   1   \n",
       "2020-03-10 12:00:00                0                 0                   1   \n",
       "2020-03-10 12:00:00                0                 0                   3   \n",
       "2020-03-10 12:00:00                0                 0                   2   \n",
       "\n",
       "                    hospitalised_m_65_99 intensive_care_m_65_99 dead_m_65_99  \n",
       "time_stamp                                                                    \n",
       "2020-03-10 00:00:00                    0                      0            0  \n",
       "2020-03-10 00:00:00                    0                      0            0  \n",
       "2020-03-10 00:00:00                    0                      0            0  \n",
       "2020-03-10 00:00:00                    0                      0            0  \n",
       "2020-03-10 00:00:00                    0                      0            0  \n",
       "...                                  ...                    ...          ...  \n",
       "2020-03-10 12:00:00                    0                      0            0  \n",
       "2020-03-10 12:00:00                    0                      0            0  \n",
       "2020-03-10 12:00:00                    0                      0            0  \n",
       "2020-03-10 12:00:00                    0                      0            0  \n",
       "2020-03-10 12:00:00                    0                      0            0  \n",
       "\n",
       "[228 rows x 61 columns]"
      ]
     },
     "execution_count": 98,
     "metadata": {},
     "output_type": "execute_result"
    }
   ],
   "source": [
    "daily_df.loc['2020-03-10']"
   ]
  },
  {
   "cell_type": "code",
   "execution_count": 44,
   "metadata": {},
   "outputs": [],
   "source": [
    "daily_df = outputs.world_full_summary()\n",
    "age_df = outputs.world_per_age()"
   ]
  },
  {
   "cell_type": "code",
   "execution_count": 95,
   "metadata": {},
   "outputs": [
    {
     "data": {
      "text/plain": [
       "<matplotlib.axes._subplots.AxesSubplot at 0x7f6d795c98b0>"
      ]
     },
     "execution_count": 95,
     "metadata": {},
     "output_type": "execute_result"
    },
    {
     "data": {
      "image/png": "[encoded data removed]",
      "text/plain": [
       "<Figure size 432x288 with 1 Axes>"
      ]
     },
     "metadata": {
      "needs_background": "light"
     },
     "output_type": "display_data"
    }
   ],
   "source": [
    "age_df.filter(regex='susceptible*').plot()"
   ]
  },
  {
   "cell_type": "code",
   "execution_count": 46,
   "metadata": {},
   "outputs": [
    {
     "data": {
      "text/plain": [
       "<matplotlib.axes._subplots.AxesSubplot at 0x7f6d7a0051c0>"
      ]
     },
     "execution_count": 46,
     "metadata": {},
     "output_type": "execute_result"
    },
    {
     "data": {
      "image/png": "[encoded data removed]",
      "text/plain": [
       "<Figure size 432x288 with 1 Axes>"
      ]
     },
     "metadata": {
      "needs_background": "light"
     },
     "output_type": "display_data"
    }
   ],
   "source": [
    "age_df.filter(regex='infected*').plot()"
   ]
  },
  {
   "cell_type": "code",
   "execution_count": 47,
   "metadata": {},
   "outputs": [],
   "source": [
    "short_df = outputs.world_short_summary()"
   ]
  },
  {
   "cell_type": "code",
   "execution_count": 48,
   "metadata": {},
   "outputs": [
    {
     "data": {
      "text/plain": [
       "<matplotlib.axes._subplots.AxesSubplot at 0x7f6d7a0e1040>"
      ]
     },
     "execution_count": 48,
     "metadata": {},
     "output_type": "execute_result"
    },
    {
     "data": {
      "image/png": "[encoded data removed]",
      "text/plain": [
       "<Figure size 432x288 with 1 Axes>"
      ]
     },
     "metadata": {
      "needs_background": "light"
     },
     "output_type": "display_data"
    }
   ],
   "source": [
    "short_df.plot()"
   ]
  },
  {
   "cell_type": "code",
   "execution_count": 49,
   "metadata": {
    "scrolled": true
   },
   "outputs": [
    {
     "data": {
      "text/plain": [
       "<matplotlib.axes._subplots.AxesSubplot at 0x7f6d7a6008b0>"
      ]
     },
     "execution_count": 49,
     "metadata": {},
     "output_type": "execute_result"
    },
    {
     "data": {
      "image/png": "[encoded data removed]",
      "text/plain": [
       "<Figure size 432x288 with 1 Axes>"
      ]
     },
     "metadata": {
      "needs_background": "light"
     },
     "output_type": "display_data"
    }
   ],
   "source": [
    "short_df.plot(logy=True)"
   ]
  },
  {
   "cell_type": "code",
   "execution_count": 53,
   "metadata": {},
   "outputs": [],
   "source": [
    "n_pubs = len(world.pubs.members)"
   ]
  },
  {
   "cell_type": "code",
   "execution_count": 80,
   "metadata": {},
   "outputs": [],
   "source": [
    "def get_number_buildings(location):\n",
    "    plural = location.name + 's'\n",
    "    if location.name == 'grocery':\n",
    "        plural = 'groceries'\n",
    "    elif location.name == 'company':\n",
    "        plural = 'companies'\n",
    "    elif location.name == 'commute_unit':\n",
    "        plural = 'commuteunits'\n",
    "    elif location.name == 'commutecity_unit':\n",
    "        plural = 'commutecityunits'\n",
    "    return len(getattr(world, plural).members)\n",
    "    "
   ]
  },
  {
   "cell_type": "code",
   "execution_count": 81,
   "metadata": {},
   "outputs": [
    {
     "data": {
      "text/plain": [
       "<june.groups.commute.commuteunit.CommuteUnits at 0x7f6d6a43be20>"
      ]
     },
     "execution_count": 81,
     "metadata": {},
     "output_type": "execute_result"
    }
   ],
   "source": [
    "simulator.world.commuteunits"
   ]
  },
  {
   "cell_type": "code",
   "execution_count": 86,
   "metadata": {},
   "outputs": [],
   "source": [
    "locations_df = outputs.locations_to_dataframe()\n"
   ]
  },
  {
   "cell_type": "code",
   "execution_count": 87,
   "metadata": {},
   "outputs": [],
   "source": [
    "locations_df['n_buildings'] = locations_df.apply(\n",
    "    lambda x: get_number_buildings(x),\n",
    "    axis=1)"
   ]
  },
  {
   "cell_type": "code",
   "execution_count": 88,
   "metadata": {},
   "outputs": [],
   "source": [
    "locations_df['average'] = locations_df['location'] / locations_df['n_buildings']\n"
   ]
  },
  {
   "cell_type": "code",
   "execution_count": 92,
   "metadata": {},
   "outputs": [
    {
     "data": {
      "text/plain": [
       "Text(0, 0.5, 'Number of infections at location')"
      ]
     },
     "execution_count": 92,
     "metadata": {},
     "output_type": "execute_result"
    },
    {
     "data": {
      "image/png": "[encoded data removed]",
      "text/plain": [
       "<Figure size 432x288 with 1 Axes>"
      ]
     },
     "metadata": {
      "needs_background": "light"
     },
     "output_type": "display_data"
    }
   ],
   "source": [
    "locations_df['location'].sort_values().plot.bar()\n",
    "plt.ylabel('Number of infections at location')"
   ]
  },
  {
   "cell_type": "code",
   "execution_count": 91,
   "metadata": {},
   "outputs": [
    {
     "data": {
      "text/plain": [
       "Text(0, 0.5, 'Number of average infections at location')"
      ]
     },
     "execution_count": 91,
     "metadata": {},
     "output_type": "execute_result"
    },
    {
     "data": {
      "image/png": "[encoded data removed]",
      "text/plain": [
       "<Figure size 432x288 with 1 Axes>"
      ]
     },
     "metadata": {
      "needs_background": "light"
     },
     "output_type": "display_data"
    }
   ],
   "source": [
    "\n",
    "locations_df['average'].sort_values().plot.bar()\n",
    "plt.ylabel('Number of average infections at location')"
   ]
  },
  {
   "cell_type": "code",
   "execution_count": 27,
   "metadata": {},
   "outputs": [],
   "source": [
    "trajectories_df = outputs.trajectories_to_dataframe()"
   ]
  },
  {
   "cell_type": "code",
   "execution_count": 49,
   "metadata": {},
   "outputs": [
    {
     "data": {
      "image/png": "[encoded data removed]",
      "text/plain": [
       "<Figure size 432x288 with 1 Axes>"
      ]
     },
     "metadata": {
      "needs_background": "light"
     },
     "output_type": "display_data"
    }
   ],
   "source": [
    "\n",
    "for key, df_person in trajectories_df.groupby('ID'):\n",
    "    df_person['symptoms'].plot()\n",
    "plt.ylabel('Symptoms Trajectory')\n",
    "symptoms = ['healthy','infected', 'asymptomatic',\n",
    "            'influenza','pneumonia', 'hospitalised',\n",
    "           'intensive_care', 'dead', 'recovereed']\n",
    "_ = plt.yticks(range(len(symptoms)), symptoms)"
   ]
  },
  {
   "cell_type": "code",
   "execution_count": null,
   "metadata": {},
   "outputs": [],
   "source": []
  },
  {
   "cell_type": "code",
   "execution_count": null,
   "metadata": {},
   "outputs": [],
   "source": []
  },
  {
   "cell_type": "code",
   "execution_count": null,
   "metadata": {},
   "outputs": [],
   "source": []
  },
  {
   "cell_type": "code",
   "execution_count": null,
   "metadata": {},
   "outputs": [],
   "source": []
  },
  {
   "cell_type": "code",
   "execution_count": 27,
   "metadata": {},
   "outputs": [
    {
     "data": {
      "image/png": "[encoded data removed]",
      "text/plain": [
       "<Figure size 432x288 with 1 Axes>"
      ]
     },
     "metadata": {
      "needs_background": "light"
     },
     "output_type": "display_data"
    }
   ],
   "source": [
    "fig = simulator.logger.plot_cumulative_fraction()"
   ]
  },
  {
   "cell_type": "code",
   "execution_count": 29,
   "metadata": {},
   "outputs": [
    {
     "data": {
      "image/png": "[encoded data removed]",
      "text/plain": [
       "<Figure size 432x288 with 1 Axes>"
      ]
     },
     "metadata": {
      "needs_background": "light"
     },
     "output_type": "display_data"
    }
   ],
   "source": [
    "fig = simulator.logger.plot_infection_location()\n"
   ]
  },
  {
   "cell_type": "code",
   "execution_count": null,
   "metadata": {},
   "outputs": [],
   "source": [
    "fig = simulator.logger.plot_R()\n",
    "#TODO: Needs to be fixed"
   ]
  },
  {
   "cell_type": "code",
   "execution_count": null,
   "metadata": {},
   "outputs": [],
   "source": []
  }
 ],
 "metadata": {
  "kernelspec": {
   "display_name": "Python 3",
   "language": "python",
   "name": "python3"
  },
  "language_info": {
   "codemirror_mode": {
    "name": "ipython",
    "version": 3
   },
   "file_extension": ".py",
   "mimetype": "text/x-python",
   "name": "python",
   "nbconvert_exporter": "python",
   "pygments_lexer": "ipython3",
   "version": "3.8.2"
  }
 },
 "nbformat": 4,
 "nbformat_minor": 4
}
