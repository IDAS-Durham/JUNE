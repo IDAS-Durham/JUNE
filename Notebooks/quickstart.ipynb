{
 "cells": [
  {
   "cell_type": "code",
   "execution_count": 1,
   "metadata": {},
   "outputs": [],
   "source": [
    "%load_ext autoreload\n",
    "%autoreload 2"
   ]
  },
  {
   "cell_type": "code",
   "execution_count": 2,
   "metadata": {},
   "outputs": [],
   "source": [
    "import numpy as np\n",
    "import time\n",
    "from datetime import datetime\n",
    "import matplotlib.pyplot as plt\n",
    "import seaborn as sns\n",
    "sns.set_context('notebook')"
   ]
  },
  {
   "cell_type": "code",
   "execution_count": 3,
   "metadata": {},
   "outputs": [
    {
     "name": "stderr",
     "output_type": "stream",
     "text": [
      "No --data argument given - defaulting to:\n",
      "/home/arnau/code/JUNE/data\n",
      "No --configs argument given - defaulting to:\n",
      "/home/arnau/code/JUNE/configs\n"
     ]
    }
   ],
   "source": [
    "from june import World \n",
    "from june.demography.geography import Geography\n",
    "from june.demography import Demography\n",
    "from june.interaction import ContactAveraging\n",
    "from june.infection import Infection\n",
    "from june.infection.transmission import TransmissionConstant\n",
    "from june.groups import Hospitals, Schools, Companies, Households, CareHomes, Cemeteries, Universities\n",
    "from june.groups.leisure import generate_leisure_for_config, Cinemas, Pubs, Groceries\n",
    "from june.simulator import Simulator\n",
    "from june.infection_seed import InfectionSeed\n",
    "from june.policy import Policy, Policies\n",
    "from june import paths\n",
    "from june.hdf5_savers import load_geography_from_hdf5\n",
    "from june.logger.read_logger import ReadLogger\n",
    "from june.infection.infection import InfectionSelector\n",
    "from june.world import generate_world_from_hdf5, generate_world_from_geography"
   ]
  },
  {
   "cell_type": "markdown",
   "metadata": {},
   "source": [
    "# Initialize world\n",
    "\n",
    "To initialize a certain world, we need to add the different components we want to have in it. First we specify what super areas (msoa) we want to create. We have included these ones, because they are known to contain hospitals, schools, care homes, and companies.\n",
    "\n",
    "After creating the geography, we create the different components the worlds need to have such as care homes, companies ..."
   ]
  },
  {
   "cell_type": "code",
   "execution_count": 4,
   "metadata": {},
   "outputs": [],
   "source": [
    "CONFIG_PATH = \"../configs/config_example.yaml\""
   ]
  },
  {
   "cell_type": "code",
   "execution_count": 5,
   "metadata": {},
   "outputs": [
    {
     "name": "stdout",
     "output_type": "stream",
     "text": [
      "2020-07-03 17:30:29,795 - june.demography.geography - INFO - There are 129 areas and 5 super_areas in the world.\n",
      "2020-07-03 17:30:29,804 - june.groups.hospital - INFO - There are 1 hospitals in this geography.\n",
      "2020-07-03 17:30:29,870 - june.groups.school - INFO - There are 19 schools in this geography.\n",
      "2020-07-03 17:30:29,905 - june.groups.school - INFO - No school for the age 0 in this world.\n",
      "2020-07-03 17:30:29,909 - june.groups.school - INFO - No school for the age 1 in this world.\n",
      "2020-07-03 17:30:29,911 - june.groups.school - INFO - No school for the age 2 in this world.\n",
      "2020-07-03 17:30:30,211 - june.groups.carehome - INFO - There are 9 care_homes in this geography.\n",
      "2020-07-03 17:30:42,106 - june.distributors.worker_distributor - INFO - There are 0 who had to be told to stay real\n",
      "CPU times: user 40.8 s, sys: 1.53 s, total: 42.4 s\n",
      "Wall time: 43.2 s\n"
     ]
    }
   ],
   "source": [
    "%%time \n",
    "\n",
    "geography = Geography.from_file(\n",
    "        {\n",
    "            \"super_area\": [\n",
    "                \"E02003282\",\n",
    "                \"E02001720\",\n",
    "                \"E00088544\",\n",
    "                \"E02002560\",\n",
    "                \"E02002559\",\n",
    "                \"E02004314\",\n",
    "            ]\n",
    "        }\n",
    ")\n",
    "\n",
    "geography.hospitals = Hospitals.for_geography(geography)\n",
    "geography.schools = Schools.for_geography(geography)\n",
    "geography.companies = Companies.for_geography(geography)\n",
    "geography.care_homes = CareHomes.for_geography(geography)\n",
    "geography.universities = Universities.for_super_areas(geography.super_areas)\n",
    "world = generate_world_from_geography(geography, include_households=True, include_commute=True)"
   ]
  },
  {
   "cell_type": "markdown",
   "metadata": {},
   "source": [
    "## Commute, travel and leisure"
   ]
  },
  {
   "cell_type": "code",
   "execution_count": 6,
   "metadata": {},
   "outputs": [],
   "source": [
    "world.pubs = Pubs.for_geography(geography)\n",
    "world.cinemas = Cinemas.for_geography(geography)\n",
    "world.groceries = Groceries.for_geography(geography)\n",
    "leisure = generate_leisure_for_config(world, config_filename=CONFIG_PATH)\n",
    "leisure.distribute_social_venues_to_households(world.households) # this assigns possible social venues to people."
   ]
  },
  {
   "cell_type": "markdown",
   "metadata": {},
   "source": [
    "We are also going to need some cemeteries...geography.cemeteries = Cemeteries()\n"
   ]
  },
  {
   "cell_type": "code",
   "execution_count": 7,
   "metadata": {},
   "outputs": [],
   "source": [
    "world.cemeteries = Cemeteries()"
   ]
  },
  {
   "cell_type": "code",
   "execution_count": 8,
   "metadata": {},
   "outputs": [
    {
     "data": {
      "text/plain": [
       "46784"
      ]
     },
     "execution_count": 8,
     "metadata": {},
     "output_type": "execute_result"
    }
   ],
   "source": [
    "len(world.people)"
   ]
  },
  {
   "cell_type": "markdown",
   "metadata": {},
   "source": [
    "### If it took a long time to run the previous commands, it might be a good idea to save the world to reuse it later."
   ]
  },
  {
   "cell_type": "code",
   "execution_count": 9,
   "metadata": {},
   "outputs": [],
   "source": [
    "world.to_hdf5(\"world.hdf5\")"
   ]
  },
  {
   "cell_type": "markdown",
   "metadata": {},
   "source": [
    "If we would like to load the world we saved, we just do"
   ]
  },
  {
   "cell_type": "code",
   "execution_count": 10,
   "metadata": {},
   "outputs": [
    {
     "name": "stdout",
     "output_type": "stream",
     "text": [
      "loading population from hdf5 .\n",
      "loading companies from hdf5 .\n",
      "loading households from hdf5 ."
     ]
    },
    {
     "name": "stderr",
     "output_type": "stream",
     "text": [
      "  0%|          | 0/46784 [00:00<?, ?it/s]"
     ]
    },
    {
     "name": "stdout",
     "output_type": "stream",
     "text": [
      "\n",
      "restoring world...\n"
     ]
    },
    {
     "name": "stderr",
     "output_type": "stream",
     "text": [
      "100%|██████████| 46784/46784 [00:01<00:00, 38524.31it/s]\n"
     ]
    }
   ],
   "source": [
    "world = generate_world_from_hdf5(\"world.hdf5\")"
   ]
  },
  {
   "cell_type": "code",
   "execution_count": 11,
   "metadata": {},
   "outputs": [
    {
     "data": {
      "text/plain": [
       "<june.groups.leisure.pub.Pubs at 0x7f5433961850>"
      ]
     },
     "execution_count": 11,
     "metadata": {},
     "output_type": "execute_result"
    }
   ],
   "source": [
    "world.pubs"
   ]
  },
  {
   "cell_type": "code",
   "execution_count": 12,
   "metadata": {},
   "outputs": [],
   "source": [
    "# and regenerate leisure in case we load it externally\n",
    "leisure = generate_leisure_for_config(world, CONFIG_PATH)"
   ]
  },
  {
   "cell_type": "markdown",
   "metadata": {},
   "source": [
    "you have now a beautiful pre-pandemic world. "
   ]
  },
  {
   "cell_type": "markdown",
   "metadata": {},
   "source": [
    "# Adding the infection"
   ]
  },
  {
   "cell_type": "markdown",
   "metadata": {},
   "source": [
    "Now, you can play around with different models of infections. The building blocks for an infection are: Transmission and Symptoms. For now, only SymptomsConstant and TransmissionConstant are in a state to be used."
   ]
  },
  {
   "cell_type": "code",
   "execution_count": 13,
   "metadata": {},
   "outputs": [],
   "source": [
    "selector = InfectionSelector.from_file()"
   ]
  },
  {
   "cell_type": "markdown",
   "metadata": {},
   "source": [
    "# Adding the interaction"
   ]
  },
  {
   "cell_type": "code",
   "execution_count": 14,
   "metadata": {},
   "outputs": [],
   "source": [
    "interaction = ContactAveraging.from_file(selector=selector)"
   ]
  },
  {
   "cell_type": "markdown",
   "metadata": {},
   "source": [
    "Beta are the intensities of the interaction taking place at the different groups"
   ]
  },
  {
   "cell_type": "code",
   "execution_count": 15,
   "metadata": {},
   "outputs": [
    {
     "data": {
      "text/plain": [
       "{'box': 1,\n",
       " 'pub': 0.1,\n",
       " 'grocery': 0.1,\n",
       " 'cinema': 0.1,\n",
       " 'commute_unit': 1.0,\n",
       " 'commute_city_unit': 1.0,\n",
       " 'hospital': 1.0,\n",
       " 'care_home': 1.0,\n",
       " 'company': 0.1,\n",
       " 'school': 0.1,\n",
       " 'household': 0.2,\n",
       " 'university': 0.01}"
      ]
     },
     "execution_count": 15,
     "metadata": {},
     "output_type": "execute_result"
    }
   ],
   "source": [
    "interaction.beta"
   ]
  },
  {
   "cell_type": "markdown",
   "metadata": {},
   "source": [
    "to modify these, simply do"
   ]
  },
  {
   "cell_type": "code",
   "execution_count": 16,
   "metadata": {},
   "outputs": [],
   "source": [
    "interaction.beta['household'] *= 2"
   ]
  },
  {
   "cell_type": "code",
   "execution_count": 17,
   "metadata": {},
   "outputs": [
    {
     "data": {
      "text/plain": [
       "{'box': 1,\n",
       " 'pub': 0.1,\n",
       " 'grocery': 0.1,\n",
       " 'cinema': 0.1,\n",
       " 'commute_unit': 1.0,\n",
       " 'commute_city_unit': 1.0,\n",
       " 'hospital': 1.0,\n",
       " 'care_home': 1.0,\n",
       " 'company': 0.1,\n",
       " 'school': 0.1,\n",
       " 'household': 0.4,\n",
       " 'university': 0.01}"
      ]
     },
     "execution_count": 17,
     "metadata": {},
     "output_type": "execute_result"
    }
   ],
   "source": [
    "interaction.beta"
   ]
  },
  {
   "cell_type": "markdown",
   "metadata": {},
   "source": [
    "moreover this interaction module uses contact matrices, that are different for different groups. These contact matrices shouldnt be modified for now. However they are a combination of conversational contact matrices, and physical contact matrices (see the BBC pandemic paper, from where these matrices are extracted https://www.medrxiv.org/content/10.1101/2020.02.16.20023754v2)\n",
    "\n",
    "There is a parameter, ``alpha`` ($\\alpha$), that combines these two matrices in the following way,\n",
    "\n",
    "\n",
    "$\\beta M \\left(1 + (\\alpha -1) \\right) P$\n",
    "\n",
    "where $\\beta$ is the intensity of the interaction, and $P$ the physical contact matrix. A larger $\\alpha$ produces more physical contacts. It is an overall number, non dependent of the particular group.\n"
   ]
  },
  {
   "cell_type": "code",
   "execution_count": 18,
   "metadata": {},
   "outputs": [
    {
     "data": {
      "text/plain": [
       "2.0"
      ]
     },
     "execution_count": 18,
     "metadata": {},
     "output_type": "execute_result"
    }
   ],
   "source": [
    "interaction.alpha_physical"
   ]
  },
  {
   "cell_type": "code",
   "execution_count": 19,
   "metadata": {},
   "outputs": [],
   "source": [
    "interaction.alpha_physical /= 2"
   ]
  },
  {
   "cell_type": "code",
   "execution_count": 20,
   "metadata": {},
   "outputs": [
    {
     "data": {
      "text/plain": [
       "1.0"
      ]
     },
     "execution_count": 20,
     "metadata": {},
     "output_type": "execute_result"
    }
   ],
   "source": [
    "interaction.alpha_physical"
   ]
  },
  {
   "cell_type": "markdown",
   "metadata": {},
   "source": [
    "# Seed the disease"
   ]
  },
  {
   "cell_type": "markdown",
   "metadata": {},
   "source": [
    "There are two options implemented in the seed at the moment, either you specify the number of cases and these are then homogeneously distributed by population to the different areas, or you use UK data on cases per region. For now use the first case."
   ]
  },
  {
   "cell_type": "code",
   "execution_count": 21,
   "metadata": {},
   "outputs": [],
   "source": [
    "infection_seed = InfectionSeed(world.super_areas, selector,)"
   ]
  },
  {
   "cell_type": "code",
   "execution_count": 22,
   "metadata": {},
   "outputs": [],
   "source": [
    "n_cases = 50\n",
    "infection_seed.unleash_virus(n_cases) # play around with the initial number of cases"
   ]
  },
  {
   "cell_type": "markdown",
   "metadata": {},
   "source": [
    "# Set policies"
   ]
  },
  {
   "cell_type": "code",
   "execution_count": 23,
   "metadata": {},
   "outputs": [],
   "source": [
    "policies = Policies.from_file()"
   ]
  },
  {
   "cell_type": "markdown",
   "metadata": {},
   "source": [
    "# Run the simulation"
   ]
  },
  {
   "cell_type": "markdown",
   "metadata": {},
   "source": [
    "Since the timer configuration is a bit cumbersome, it is read from the config file at ``configs/config_example.yaml``"
   ]
  },
  {
   "cell_type": "code",
   "execution_count": 24,
   "metadata": {},
   "outputs": [],
   "source": [
    "simulator = Simulator.from_file(\n",
    "     world, interaction, selector, \n",
    "    config_filename = CONFIG_PATH,\n",
    "    leisure = leisure,\n",
    "    policies = policies\n",
    ")"
   ]
  },
  {
   "cell_type": "code",
   "execution_count": null,
   "metadata": {
    "scrolled": true
   },
   "outputs": [
    {
     "name": "stdout",
     "output_type": "stream",
     "text": [
      "2020-07-03 17:31:39,259 - june.simulator - INFO - Starting group_dynamics for 200 days at day 0\n",
      "2020-07-03 17:31:39,261 - june.simulator - INFO - starting the loop ..., at 0 days, to run for 200 days\n",
      "2020-07-03 17:31:41,122 - june.simulator - INFO - Date = 2020-03-01 04:00:00, number of deaths =  0, number of infected = 50\n",
      "2020-07-03 17:31:42,398 - june.simulator - INFO - Date = 2020-03-01 08:00:00, number of deaths =  0, number of infected = 50\n",
      "2020-07-03 17:31:43,421 - june.simulator - INFO - Date = 2020-03-01 12:00:00, number of deaths =  0, number of infected = 50\n",
      "2020-07-03 17:31:44,156 - june.simulator - INFO - Date = 2020-03-02 00:00:00, number of deaths =  0, number of infected = 50\n",
      "2020-07-03 17:31:45,109 - june.simulator - INFO - Date = 2020-03-02 01:00:00, number of deaths =  0, number of infected = 50\n",
      "2020-07-03 17:31:45,889 - june.simulator - INFO - Date = 2020-03-02 05:00:00, number of deaths =  0, number of infected = 50\n",
      "2020-07-03 17:31:46,405 - june.simulator - INFO - Date = 2020-03-02 09:00:00, number of deaths =  0, number of infected = 50\n",
      "2020-07-03 17:31:47,419 - june.simulator - INFO - Date = 2020-03-02 10:00:00, number of deaths =  0, number of infected = 50\n",
      "2020-07-03 17:31:48,060 - june.simulator - INFO - Date = 2020-03-02 13:00:00, number of deaths =  0, number of infected = 50\n",
      "2020-07-03 17:31:48,819 - june.simulator - INFO - Date = 2020-03-03 00:00:00, number of deaths =  0, number of infected = 50\n",
      "2020-07-03 17:31:49,560 - june.simulator - INFO - Date = 2020-03-03 01:00:00, number of deaths =  0, number of infected = 50\n",
      "2020-07-03 17:31:50,115 - june.simulator - INFO - Date = 2020-03-03 05:00:00, number of deaths =  0, number of infected = 50\n",
      "2020-07-03 17:31:50,678 - june.simulator - INFO - Date = 2020-03-03 09:00:00, number of deaths =  0, number of infected = 50\n",
      "2020-07-03 17:31:51,529 - june.simulator - INFO - Date = 2020-03-03 10:00:00, number of deaths =  0, number of infected = 50\n",
      "2020-07-03 17:31:52,130 - june.simulator - INFO - Date = 2020-03-03 13:00:00, number of deaths =  0, number of infected = 50\n",
      "2020-07-03 17:31:52,817 - june.simulator - INFO - Date = 2020-03-04 00:00:00, number of deaths =  0, number of infected = 50\n",
      "2020-07-03 17:31:53,551 - june.simulator - INFO - Date = 2020-03-04 01:00:00, number of deaths =  0, number of infected = 50\n",
      "2020-07-03 17:31:54,128 - june.simulator - INFO - Date = 2020-03-04 05:00:00, number of deaths =  0, number of infected = 50\n",
      "2020-07-03 17:31:54,547 - june.simulator - INFO - Date = 2020-03-04 09:00:00, number of deaths =  0, number of infected = 50\n",
      "2020-07-03 17:31:55,400 - june.simulator - INFO - Date = 2020-03-04 10:00:00, number of deaths =  0, number of infected = 50\n",
      "2020-07-03 17:31:55,994 - june.simulator - INFO - Date = 2020-03-04 13:00:00, number of deaths =  0, number of infected = 50\n",
      "2020-07-03 17:31:56,538 - june.simulator - INFO - Date = 2020-03-05 00:00:00, number of deaths =  0, number of infected = 50\n",
      "2020-07-03 17:31:57,242 - june.simulator - INFO - Date = 2020-03-05 01:00:00, number of deaths =  0, number of infected = 50\n",
      "2020-07-03 17:31:57,701 - june.simulator - INFO - Date = 2020-03-05 05:00:00, number of deaths =  0, number of infected = 51\n",
      "2020-07-03 17:31:58,141 - june.simulator - INFO - Date = 2020-03-05 09:00:00, number of deaths =  0, number of infected = 54\n",
      "2020-07-03 17:31:58,940 - june.simulator - INFO - Date = 2020-03-05 10:00:00, number of deaths =  0, number of infected = 56\n",
      "2020-07-03 17:31:59,466 - june.simulator - INFO - Date = 2020-03-05 13:00:00, number of deaths =  0, number of infected = 59\n",
      "2020-07-03 17:32:00,062 - june.simulator - INFO - Date = 2020-03-06 00:00:00, number of deaths =  0, number of infected = 83\n",
      "2020-07-03 17:32:00,701 - june.simulator - INFO - Date = 2020-03-06 01:00:00, number of deaths =  0, number of infected = 84\n",
      "2020-07-03 17:32:01,239 - june.simulator - INFO - Date = 2020-03-06 05:00:00, number of deaths =  0, number of infected = 91\n",
      "2020-07-03 17:32:01,726 - june.simulator - INFO - Date = 2020-03-06 09:00:00, number of deaths =  0, number of infected = 97\n",
      "2020-07-03 17:32:02,681 - june.simulator - INFO - Date = 2020-03-06 10:00:00, number of deaths =  0, number of infected = 101\n",
      "2020-07-03 17:32:03,220 - june.simulator - INFO - Date = 2020-03-06 13:00:00, number of deaths =  0, number of infected = 105\n",
      "2020-07-03 17:32:04,006 - june.simulator - INFO - Date = 2020-03-07 00:00:00, number of deaths =  0, number of infected = 126\n",
      "2020-07-03 17:32:04,847 - june.simulator - INFO - Date = 2020-03-07 04:00:00, number of deaths =  0, number of infected = 135\n",
      "2020-07-03 17:32:06,036 - june.simulator - INFO - Date = 2020-03-07 08:00:00, number of deaths =  0, number of infected = 144\n",
      "2020-07-03 17:32:06,661 - june.simulator - INFO - Date = 2020-03-07 12:00:00, number of deaths =  0, number of infected = 155\n",
      "2020-07-03 17:32:07,476 - june.simulator - INFO - Date = 2020-03-08 00:00:00, number of deaths =  0, number of infected = 168\n",
      "2020-07-03 17:32:08,436 - june.simulator - INFO - Date = 2020-03-08 04:00:00, number of deaths =  0, number of infected = 173\n",
      "2020-07-03 17:32:09,625 - june.simulator - INFO - Date = 2020-03-08 08:00:00, number of deaths =  0, number of infected = 179\n",
      "2020-07-03 17:32:10,420 - june.simulator - INFO - Date = 2020-03-08 12:00:00, number of deaths =  0, number of infected = 186\n",
      "2020-07-03 17:32:11,229 - june.simulator - INFO - Date = 2020-03-09 00:00:00, number of deaths =  0, number of infected = 196\n",
      "2020-07-03 17:32:11,953 - june.simulator - INFO - Date = 2020-03-09 01:00:00, number of deaths =  0, number of infected = 200\n",
      "2020-07-03 17:32:12,700 - june.simulator - INFO - Date = 2020-03-09 05:00:00, number of deaths =  0, number of infected = 214\n",
      "2020-07-03 17:32:13,388 - june.simulator - INFO - Date = 2020-03-09 09:00:00, number of deaths =  0, number of infected = 231\n",
      "2020-07-03 17:32:14,584 - june.simulator - INFO - Date = 2020-03-09 10:00:00, number of deaths =  0, number of infected = 239\n",
      "2020-07-03 17:32:15,163 - june.simulator - INFO - Date = 2020-03-09 13:00:00, number of deaths =  0, number of infected = 245\n",
      "2020-07-03 17:32:15,736 - june.simulator - INFO - Date = 2020-03-10 00:00:00, number of deaths =  0, number of infected = 257\n",
      "2020-07-03 17:32:16,407 - june.simulator - INFO - Date = 2020-03-10 01:00:00, number of deaths =  0, number of infected = 261\n",
      "2020-07-03 17:32:16,920 - june.simulator - INFO - Date = 2020-03-10 05:00:00, number of deaths =  0, number of infected = 270\n",
      "2020-07-03 17:32:17,368 - june.simulator - INFO - Date = 2020-03-10 09:00:00, number of deaths =  0, number of infected = 290\n",
      "2020-07-03 17:32:18,160 - june.simulator - INFO - Date = 2020-03-10 10:00:00, number of deaths =  0, number of infected = 295\n",
      "2020-07-03 17:32:18,718 - june.simulator - INFO - Date = 2020-03-10 13:00:00, number of deaths =  0, number of infected = 312\n",
      "2020-07-03 17:32:19,376 - june.simulator - INFO - Date = 2020-03-11 00:00:00, number of deaths =  0, number of infected = 333\n",
      "2020-07-03 17:32:20,014 - june.simulator - INFO - Date = 2020-03-11 01:00:00, number of deaths =  0, number of infected = 338\n",
      "2020-07-03 17:32:20,492 - june.simulator - INFO - Date = 2020-03-11 05:00:00, number of deaths =  0, number of infected = 358\n",
      "2020-07-03 17:32:20,957 - june.simulator - INFO - Date = 2020-03-11 09:00:00, number of deaths =  0, number of infected = 390\n",
      "2020-07-03 17:32:21,765 - june.simulator - INFO - Date = 2020-03-11 10:00:00, number of deaths =  0, number of infected = 396\n",
      "2020-07-03 17:32:22,334 - june.simulator - INFO - Date = 2020-03-11 13:00:00, number of deaths =  0, number of infected = 407\n",
      "2020-07-03 17:32:22,882 - june.simulator - INFO - Date = 2020-03-12 00:00:00, number of deaths =  0, number of infected = 433\n",
      "2020-07-03 17:32:23,581 - june.simulator - INFO - Date = 2020-03-12 01:00:00, number of deaths =  0, number of infected = 449\n",
      "2020-07-03 17:32:24,052 - june.simulator - INFO - Date = 2020-03-12 05:00:00, number of deaths =  0, number of infected = 478\n",
      "2020-07-03 17:32:24,514 - june.simulator - INFO - Date = 2020-03-12 09:00:00, number of deaths =  0, number of infected = 497\n",
      "2020-07-03 17:32:25,345 - june.simulator - INFO - Date = 2020-03-12 10:00:00, number of deaths =  0, number of infected = 513\n",
      "2020-07-03 17:32:25,883 - june.simulator - INFO - Date = 2020-03-12 13:00:00, number of deaths =  0, number of infected = 528\n",
      "2020-07-03 17:32:26,441 - june.simulator - INFO - Date = 2020-03-13 00:00:00, number of deaths =  0, number of infected = 566\n",
      "2020-07-03 17:32:27,102 - june.simulator - INFO - Date = 2020-03-13 01:00:00, number of deaths =  0, number of infected = 588\n",
      "2020-07-03 17:32:27,622 - june.simulator - INFO - Date = 2020-03-13 05:00:00, number of deaths =  0, number of infected = 622\n",
      "2020-07-03 17:32:28,108 - june.simulator - INFO - Date = 2020-03-13 09:00:00, number of deaths =  0, number of infected = 658\n",
      "2020-07-03 17:32:28,992 - june.simulator - INFO - Date = 2020-03-13 10:00:00, number of deaths =  0, number of infected = 687\n",
      "2020-07-03 17:32:29,592 - june.simulator - INFO - Date = 2020-03-13 13:00:00, number of deaths =  0, number of infected = 709\n",
      "2020-07-03 17:32:30,419 - june.simulator - INFO - Date = 2020-03-14 00:00:00, number of deaths =  0, number of infected = 759\n",
      "2020-07-03 17:32:31,166 - june.simulator - INFO - Date = 2020-03-14 04:00:00, number of deaths =  0, number of infected = 803\n",
      "2020-07-03 17:32:31,979 - june.simulator - INFO - Date = 2020-03-14 08:00:00, number of deaths =  0, number of infected = 835\n",
      "2020-07-03 17:32:32,515 - june.simulator - INFO - Date = 2020-03-14 12:00:00, number of deaths =  0, number of infected = 868\n",
      "2020-07-03 17:32:33,260 - june.simulator - INFO - Date = 2020-03-15 00:00:00, number of deaths =  0, number of infected = 943\n",
      "2020-07-03 17:32:34,343 - june.simulator - INFO - Date = 2020-03-15 04:00:00, number of deaths =  0, number of infected = 979\n",
      "2020-07-03 17:32:35,068 - june.simulator - INFO - Date = 2020-03-15 08:00:00, number of deaths =  0, number of infected = 1021\n",
      "2020-07-03 17:32:35,626 - june.simulator - INFO - Date = 2020-03-15 12:00:00, number of deaths =  0, number of infected = 1062\n",
      "2020-07-03 17:32:36,511 - june.simulator - INFO - Date = 2020-03-16 00:00:00, number of deaths =  0, number of infected = 1140\n",
      "2020-07-03 17:32:37,808 - june.simulator - INFO - Date = 2020-03-16 01:00:00, number of deaths =  0, number of infected = 1157\n",
      "2020-07-03 17:32:38,826 - june.simulator - INFO - Date = 2020-03-16 05:00:00, number of deaths =  0, number of infected = 1428\n",
      "2020-07-03 17:32:40,022 - june.simulator - INFO - Date = 2020-03-16 09:00:00, number of deaths =  0, number of infected = 1465\n",
      "2020-07-03 17:32:41,465 - june.simulator - INFO - Date = 2020-03-16 10:00:00, number of deaths =  0, number of infected = 1480\n",
      "2020-07-03 17:32:42,472 - june.simulator - INFO - Date = 2020-03-16 13:00:00, number of deaths =  0, number of infected = 1523\n",
      "2020-07-03 17:32:43,389 - june.simulator - INFO - Date = 2020-03-17 00:00:00, number of deaths =  0, number of infected = 1633\n",
      "2020-07-03 17:32:44,542 - june.simulator - INFO - Date = 2020-03-17 01:00:00, number of deaths =  0, number of infected = 1669\n",
      "2020-07-03 17:32:45,687 - june.simulator - INFO - Date = 2020-03-17 05:00:00, number of deaths =  0, number of infected = 1712\n",
      "2020-07-03 17:32:46,497 - june.simulator - INFO - Date = 2020-03-17 09:00:00, number of deaths =  0, number of infected = 1755\n",
      "2020-07-03 17:32:47,743 - june.simulator - INFO - Date = 2020-03-17 10:00:00, number of deaths =  0, number of infected = 1781\n",
      "2020-07-03 17:32:48,663 - june.simulator - INFO - Date = 2020-03-17 13:00:00, number of deaths =  0, number of infected = 1827\n",
      "2020-07-03 17:32:49,745 - june.simulator - INFO - Date = 2020-03-18 00:00:00, number of deaths =  1, number of infected = 1940\n",
      "2020-07-03 17:32:50,925 - june.simulator - INFO - Date = 2020-03-18 01:00:00, number of deaths =  1, number of infected = 1971\n",
      "2020-07-03 17:32:52,644 - june.simulator - INFO - Date = 2020-03-18 05:00:00, number of deaths =  1, number of infected = 2017\n",
      "2020-07-03 17:32:53,476 - june.simulator - INFO - Date = 2020-03-18 09:00:00, number of deaths =  1, number of infected = 2056\n",
      "2020-07-03 17:32:54,665 - june.simulator - INFO - Date = 2020-03-18 10:00:00, number of deaths =  1, number of infected = 2086\n",
      "2020-07-03 17:32:55,488 - june.simulator - INFO - Date = 2020-03-18 13:00:00, number of deaths =  1, number of infected = 2129\n",
      "2020-07-03 17:32:56,319 - june.simulator - INFO - Date = 2020-03-19 00:00:00, number of deaths =  1, number of infected = 2238\n",
      "2020-07-03 17:32:57,367 - june.simulator - INFO - Date = 2020-03-19 01:00:00, number of deaths =  1, number of infected = 2267\n",
      "2020-07-03 17:32:58,358 - june.simulator - INFO - Date = 2020-03-19 05:00:00, number of deaths =  1, number of infected = 2318\n",
      "2020-07-03 17:32:59,118 - june.simulator - INFO - Date = 2020-03-19 09:00:00, number of deaths =  1, number of infected = 2378\n",
      "2020-07-03 17:33:00,208 - june.simulator - INFO - Date = 2020-03-19 10:00:00, number of deaths =  1, number of infected = 2420\n",
      "2020-07-03 17:33:01,134 - june.simulator - INFO - Date = 2020-03-19 13:00:00, number of deaths =  1, number of infected = 2527\n",
      "2020-07-03 17:33:02,241 - june.simulator - INFO - Date = 2020-03-20 00:00:00, number of deaths =  1, number of infected = 2724\n",
      "2020-07-03 17:33:03,610 - june.simulator - INFO - Date = 2020-03-20 01:00:00, number of deaths =  1, number of infected = 2760\n",
      "2020-07-03 17:33:04,791 - june.simulator - INFO - Date = 2020-03-20 05:00:00, number of deaths =  1, number of infected = 2835\n",
      "2020-07-03 17:33:05,738 - june.simulator - INFO - Date = 2020-03-20 09:00:00, number of deaths =  1, number of infected = 2905\n",
      "2020-07-03 17:33:07,014 - june.simulator - INFO - Date = 2020-03-20 10:00:00, number of deaths =  1, number of infected = 2938\n",
      "2020-07-03 17:33:08,086 - june.simulator - INFO - Date = 2020-03-20 13:00:00, number of deaths =  1, number of infected = 3032\n",
      "2020-07-03 17:33:09,340 - june.simulator - INFO - Date = 2020-03-21 00:00:00, number of deaths =  1, number of infected = 3259\n",
      "2020-07-03 17:33:10,530 - june.simulator - INFO - Date = 2020-03-21 04:00:00, number of deaths =  1, number of infected = 3348\n",
      "2020-07-03 17:33:11,780 - june.simulator - INFO - Date = 2020-03-21 08:00:00, number of deaths =  1, number of infected = 3440\n",
      "2020-07-03 17:33:12,744 - june.simulator - INFO - Date = 2020-03-21 12:00:00, number of deaths =  1, number of infected = 3539\n",
      "2020-07-03 17:33:13,992 - june.simulator - INFO - Date = 2020-03-22 00:00:00, number of deaths =  1, number of infected = 3748\n",
      "2020-07-03 17:33:15,206 - june.simulator - INFO - Date = 2020-03-22 04:00:00, number of deaths =  1, number of infected = 3847\n",
      "2020-07-03 17:33:16,659 - june.simulator - INFO - Date = 2020-03-22 08:00:00, number of deaths =  1, number of infected = 3937\n",
      "2020-07-03 17:33:17,839 - june.simulator - INFO - Date = 2020-03-22 12:00:00, number of deaths =  1, number of infected = 4019\n",
      "2020-07-03 17:33:18,874 - june.simulator - INFO - Date = 2020-03-23 00:00:00, number of deaths =  1, number of infected = 4199\n",
      "2020-07-03 17:33:20,219 - june.simulator - INFO - Date = 2020-03-23 01:00:00, number of deaths =  1, number of infected = 4230\n",
      "2020-07-03 17:33:21,582 - june.simulator - INFO - Date = 2020-03-23 05:00:00, number of deaths =  1, number of infected = 4336\n",
      "2020-07-03 17:33:22,725 - june.simulator - INFO - Date = 2020-03-23 09:00:00, number of deaths =  1, number of infected = 4456\n",
      "2020-07-03 17:33:24,008 - june.simulator - INFO - Date = 2020-03-23 10:00:00, number of deaths =  1, number of infected = 4482\n",
      "2020-07-03 17:33:25,001 - june.simulator - INFO - Date = 2020-03-23 13:00:00, number of deaths =  1, number of infected = 4569\n",
      "2020-07-03 17:33:25,995 - june.simulator - INFO - Date = 2020-03-24 00:00:00, number of deaths =  2, number of infected = 4772\n",
      "2020-07-03 17:33:27,177 - june.simulator - INFO - Date = 2020-03-24 01:00:00, number of deaths =  2, number of infected = 4793\n",
      "2020-07-03 17:33:28,452 - june.simulator - INFO - Date = 2020-03-24 05:00:00, number of deaths =  2, number of infected = 4903\n",
      "2020-07-03 17:33:29,551 - june.simulator - INFO - Date = 2020-03-24 09:00:00, number of deaths =  3, number of infected = 5017\n",
      "2020-07-03 17:33:30,869 - june.simulator - INFO - Date = 2020-03-24 10:00:00, number of deaths =  3, number of infected = 5039\n",
      "2020-07-03 17:33:31,831 - june.simulator - INFO - Date = 2020-03-24 13:00:00, number of deaths =  3, number of infected = 5114\n",
      "2020-07-03 17:33:32,840 - june.simulator - INFO - Date = 2020-03-25 00:00:00, number of deaths =  3, number of infected = 5297\n",
      "2020-07-03 17:33:34,022 - june.simulator - INFO - Date = 2020-03-25 01:00:00, number of deaths =  3, number of infected = 5316\n",
      "2020-07-03 17:33:35,237 - june.simulator - INFO - Date = 2020-03-25 05:00:00, number of deaths =  3, number of infected = 5446\n",
      "2020-07-03 17:33:36,340 - june.simulator - INFO - Date = 2020-03-25 09:00:00, number of deaths =  3, number of infected = 5563\n",
      "2020-07-03 17:33:37,809 - june.simulator - INFO - Date = 2020-03-25 10:00:00, number of deaths =  3, number of infected = 5584\n",
      "2020-07-03 17:33:38,912 - june.simulator - INFO - Date = 2020-03-25 13:00:00, number of deaths =  3, number of infected = 5660\n",
      "2020-07-03 17:33:40,145 - june.simulator - INFO - Date = 2020-03-26 00:00:00, number of deaths =  4, number of infected = 5821\n",
      "2020-07-03 17:33:41,522 - june.simulator - INFO - Date = 2020-03-26 01:00:00, number of deaths =  4, number of infected = 5839\n",
      "2020-07-03 17:33:42,992 - june.simulator - INFO - Date = 2020-03-26 05:00:00, number of deaths =  5, number of infected = 5969\n",
      "2020-07-03 17:33:43,981 - june.simulator - INFO - Date = 2020-03-26 09:00:00, number of deaths =  5, number of infected = 6098\n",
      "2020-07-03 17:33:45,329 - june.simulator - INFO - Date = 2020-03-26 10:00:00, number of deaths =  5, number of infected = 6108\n",
      "2020-07-03 17:33:46,769 - june.simulator - INFO - Date = 2020-03-26 13:00:00, number of deaths =  5, number of infected = 6196\n",
      "2020-07-03 17:33:48,132 - june.simulator - INFO - Date = 2020-03-27 00:00:00, number of deaths =  5, number of infected = 6401\n",
      "2020-07-03 17:33:49,379 - june.simulator - INFO - Date = 2020-03-27 01:00:00, number of deaths =  5, number of infected = 6420\n",
      "2020-07-03 17:33:50,887 - june.simulator - INFO - Date = 2020-03-27 05:00:00, number of deaths =  5, number of infected = 6562\n",
      "2020-07-03 17:33:52,234 - june.simulator - INFO - Date = 2020-03-27 09:00:00, number of deaths =  5, number of infected = 6704\n",
      "2020-07-03 17:33:53,931 - june.simulator - INFO - Date = 2020-03-27 10:00:00, number of deaths =  5, number of infected = 6722\n",
      "2020-07-03 17:33:55,096 - june.simulator - INFO - Date = 2020-03-27 13:00:00, number of deaths =  5, number of infected = 6817\n",
      "2020-07-03 17:33:56,969 - june.simulator - INFO - Date = 2020-03-28 00:00:00, number of deaths =  6, number of infected = 7037\n",
      "2020-07-03 17:33:58,395 - june.simulator - INFO - Date = 2020-03-28 04:00:00, number of deaths =  7, number of infected = 7157\n",
      "2020-07-03 17:33:59,944 - june.simulator - INFO - Date = 2020-03-28 08:00:00, number of deaths =  7, number of infected = 7277\n",
      "2020-07-03 17:34:01,177 - june.simulator - INFO - Date = 2020-03-28 12:00:00, number of deaths =  7, number of infected = 7411\n",
      "2020-07-03 17:34:02,667 - june.simulator - INFO - Date = 2020-03-29 00:00:00, number of deaths =  9, number of infected = 7623\n",
      "2020-07-03 17:34:04,567 - june.simulator - INFO - Date = 2020-03-29 04:00:00, number of deaths =  11, number of infected = 7733\n",
      "2020-07-03 17:34:06,097 - june.simulator - INFO - Date = 2020-03-29 08:00:00, number of deaths =  11, number of infected = 7844\n",
      "2020-07-03 17:34:07,346 - june.simulator - INFO - Date = 2020-03-29 12:00:00, number of deaths =  11, number of infected = 7955\n",
      "2020-07-03 17:34:08,673 - june.simulator - INFO - Date = 2020-03-30 00:00:00, number of deaths =  12, number of infected = 8194\n",
      "2020-07-03 17:34:10,131 - june.simulator - INFO - Date = 2020-03-30 01:00:00, number of deaths =  12, number of infected = 8218\n",
      "2020-07-03 17:34:11,723 - june.simulator - INFO - Date = 2020-03-30 05:00:00, number of deaths =  12, number of infected = 8394\n",
      "2020-07-03 17:34:13,271 - june.simulator - INFO - Date = 2020-03-30 09:00:00, number of deaths =  12, number of infected = 8568\n",
      "2020-07-03 17:34:14,984 - june.simulator - INFO - Date = 2020-03-30 10:00:00, number of deaths =  12, number of infected = 8591\n",
      "2020-07-03 17:34:16,360 - june.simulator - INFO - Date = 2020-03-30 13:00:00, number of deaths =  12, number of infected = 8688\n",
      "2020-07-03 17:34:17,955 - june.simulator - INFO - Date = 2020-03-31 00:00:00, number of deaths =  12, number of infected = 8930\n",
      "2020-07-03 17:34:19,820 - june.simulator - INFO - Date = 2020-03-31 01:00:00, number of deaths =  13, number of infected = 8961\n",
      "2020-07-03 17:34:21,864 - june.simulator - INFO - Date = 2020-03-31 05:00:00, number of deaths =  13, number of infected = 9109\n",
      "2020-07-03 17:34:23,566 - june.simulator - INFO - Date = 2020-03-31 09:00:00, number of deaths =  13, number of infected = 9259\n",
      "2020-07-03 17:34:25,252 - june.simulator - INFO - Date = 2020-03-31 10:00:00, number of deaths =  13, number of infected = 9281\n",
      "2020-07-03 17:34:26,620 - june.simulator - INFO - Date = 2020-03-31 13:00:00, number of deaths =  13, number of infected = 9368\n",
      "2020-07-03 17:34:28,305 - june.simulator - INFO - Date = 2020-04-01 00:00:00, number of deaths =  13, number of infected = 9589\n",
      "2020-07-03 17:34:30,158 - june.simulator - INFO - Date = 2020-04-01 01:00:00, number of deaths =  13, number of infected = 9604\n",
      "2020-07-03 17:34:31,977 - june.simulator - INFO - Date = 2020-04-01 05:00:00, number of deaths =  13, number of infected = 9789\n",
      "2020-07-03 17:34:33,384 - june.simulator - INFO - Date = 2020-04-01 09:00:00, number of deaths =  13, number of infected = 9966\n",
      "2020-07-03 17:34:35,251 - june.simulator - INFO - Date = 2020-04-01 10:00:00, number of deaths =  13, number of infected = 9980\n",
      "2020-07-03 17:34:36,659 - june.simulator - INFO - Date = 2020-04-01 13:00:00, number of deaths =  13, number of infected = 10063\n",
      "2020-07-03 17:34:38,078 - june.simulator - INFO - Date = 2020-04-02 00:00:00, number of deaths =  13, number of infected = 10247\n",
      "2020-07-03 17:34:39,951 - june.simulator - INFO - Date = 2020-04-02 01:00:00, number of deaths =  13, number of infected = 10257\n",
      "2020-07-03 17:34:41,933 - june.simulator - INFO - Date = 2020-04-02 05:00:00, number of deaths =  13, number of infected = 10365\n",
      "2020-07-03 17:34:43,712 - june.simulator - INFO - Date = 2020-04-02 09:00:00, number of deaths =  14, number of infected = 10499\n",
      "2020-07-03 17:34:45,865 - june.simulator - INFO - Date = 2020-04-02 10:00:00, number of deaths =  14, number of infected = 10518\n",
      "2020-07-03 17:34:47,496 - june.simulator - INFO - Date = 2020-04-02 13:00:00, number of deaths =  15, number of infected = 10623\n",
      "2020-07-03 17:34:49,080 - june.simulator - INFO - Date = 2020-04-03 00:00:00, number of deaths =  15, number of infected = 10814\n",
      "2020-07-03 17:34:50,837 - june.simulator - INFO - Date = 2020-04-03 01:00:00, number of deaths =  15, number of infected = 10837\n",
      "2020-07-03 17:34:52,739 - june.simulator - INFO - Date = 2020-04-03 05:00:00, number of deaths =  15, number of infected = 10993\n",
      "2020-07-03 17:34:54,303 - june.simulator - INFO - Date = 2020-04-03 09:00:00, number of deaths =  16, number of infected = 11141\n",
      "2020-07-03 17:34:56,171 - june.simulator - INFO - Date = 2020-04-03 10:00:00, number of deaths =  16, number of infected = 11170\n",
      "2020-07-03 17:34:57,702 - june.simulator - INFO - Date = 2020-04-03 13:00:00, number of deaths =  17, number of infected = 11285\n",
      "2020-07-03 17:34:59,759 - june.simulator - INFO - Date = 2020-04-04 00:00:00, number of deaths =  19, number of infected = 11485\n",
      "2020-07-03 17:35:01,508 - june.simulator - INFO - Date = 2020-04-04 04:00:00, number of deaths =  20, number of infected = 11578\n",
      "2020-07-03 17:35:02,901 - june.simulator - INFO - Date = 2020-04-04 08:00:00, number of deaths =  20, number of infected = 11681\n",
      "2020-07-03 17:35:04,098 - june.simulator - INFO - Date = 2020-04-04 12:00:00, number of deaths =  22, number of infected = 11790\n",
      "2020-07-03 17:35:05,643 - june.simulator - INFO - Date = 2020-04-05 00:00:00, number of deaths =  23, number of infected = 11994\n",
      "2020-07-03 17:35:07,247 - june.simulator - INFO - Date = 2020-04-05 04:00:00, number of deaths =  24, number of infected = 12117\n",
      "2020-07-03 17:35:08,974 - june.simulator - INFO - Date = 2020-04-05 08:00:00, number of deaths =  24, number of infected = 12221\n",
      "2020-07-03 17:35:10,335 - june.simulator - INFO - Date = 2020-04-05 12:00:00, number of deaths =  24, number of infected = 12338\n",
      "2020-07-03 17:35:11,568 - june.simulator - INFO - Date = 2020-04-06 00:00:00, number of deaths =  25, number of infected = 12482\n",
      "2020-07-03 17:35:12,830 - june.simulator - INFO - Date = 2020-04-06 01:00:00, number of deaths =  25, number of infected = 12507\n",
      "2020-07-03 17:35:14,151 - june.simulator - INFO - Date = 2020-04-06 05:00:00, number of deaths =  25, number of infected = 12667\n",
      "2020-07-03 17:35:15,402 - june.simulator - INFO - Date = 2020-04-06 09:00:00, number of deaths =  25, number of infected = 12794\n",
      "2020-07-03 17:35:16,836 - june.simulator - INFO - Date = 2020-04-06 10:00:00, number of deaths =  25, number of infected = 12808\n",
      "2020-07-03 17:35:18,039 - june.simulator - INFO - Date = 2020-04-06 13:00:00, number of deaths =  25, number of infected = 12905\n",
      "2020-07-03 17:35:19,207 - june.simulator - INFO - Date = 2020-04-07 00:00:00, number of deaths =  26, number of infected = 13044\n",
      "2020-07-03 17:35:20,444 - june.simulator - INFO - Date = 2020-04-07 01:00:00, number of deaths =  26, number of infected = 13057\n",
      "2020-07-03 17:35:21,680 - june.simulator - INFO - Date = 2020-04-07 05:00:00, number of deaths =  26, number of infected = 13203\n",
      "2020-07-03 17:35:22,888 - june.simulator - INFO - Date = 2020-04-07 09:00:00, number of deaths =  27, number of infected = 13357\n",
      "2020-07-03 17:35:24,177 - june.simulator - INFO - Date = 2020-04-07 10:00:00, number of deaths =  27, number of infected = 13361\n",
      "2020-07-03 17:35:25,219 - june.simulator - INFO - Date = 2020-04-07 13:00:00, number of deaths =  27, number of infected = 13444\n",
      "2020-07-03 17:35:26,279 - june.simulator - INFO - Date = 2020-04-08 00:00:00, number of deaths =  30, number of infected = 13539\n",
      "2020-07-03 17:35:27,551 - june.simulator - INFO - Date = 2020-04-08 01:00:00, number of deaths =  30, number of infected = 13544\n",
      "2020-07-03 17:35:29,082 - june.simulator - INFO - Date = 2020-04-08 05:00:00, number of deaths =  31, number of infected = 13717\n",
      "2020-07-03 17:35:30,450 - june.simulator - INFO - Date = 2020-04-08 09:00:00, number of deaths =  32, number of infected = 13869\n",
      "2020-07-03 17:35:32,221 - june.simulator - INFO - Date = 2020-04-08 10:00:00, number of deaths =  32, number of infected = 13875\n",
      "2020-07-03 17:35:33,387 - june.simulator - INFO - Date = 2020-04-08 13:00:00, number of deaths =  32, number of infected = 13949\n",
      "2020-07-03 17:35:34,592 - june.simulator - INFO - Date = 2020-04-09 00:00:00, number of deaths =  32, number of infected = 13996\n",
      "2020-07-03 17:35:36,105 - june.simulator - INFO - Date = 2020-04-09 01:00:00, number of deaths =  32, number of infected = 13997\n",
      "2020-07-03 17:35:37,655 - june.simulator - INFO - Date = 2020-04-09 05:00:00, number of deaths =  32, number of infected = 14160\n",
      "2020-07-03 17:35:38,930 - june.simulator - INFO - Date = 2020-04-09 09:00:00, number of deaths =  33, number of infected = 14295\n",
      "2020-07-03 17:35:40,341 - june.simulator - INFO - Date = 2020-04-09 10:00:00, number of deaths =  34, number of infected = 14294\n",
      "2020-07-03 17:35:41,466 - june.simulator - INFO - Date = 2020-04-09 13:00:00, number of deaths =  35, number of infected = 14367\n",
      "2020-07-03 17:35:42,814 - june.simulator - INFO - Date = 2020-04-10 00:00:00, number of deaths =  37, number of infected = 14394\n",
      "2020-07-03 17:35:44,295 - june.simulator - INFO - Date = 2020-04-10 01:00:00, number of deaths =  37, number of infected = 14398\n",
      "2020-07-03 17:35:46,019 - june.simulator - INFO - Date = 2020-04-10 05:00:00, number of deaths =  37, number of infected = 14513\n",
      "2020-07-03 17:35:47,155 - june.simulator - INFO - Date = 2020-04-10 09:00:00, number of deaths =  37, number of infected = 14641\n",
      "2020-07-03 17:35:48,747 - june.simulator - INFO - Date = 2020-04-10 10:00:00, number of deaths =  38, number of infected = 14654\n",
      "2020-07-03 17:35:49,936 - june.simulator - INFO - Date = 2020-04-10 13:00:00, number of deaths =  38, number of infected = 14717\n",
      "2020-07-03 17:35:51,372 - june.simulator - INFO - Date = 2020-04-11 00:00:00, number of deaths =  41, number of infected = 14785\n",
      "2020-07-03 17:35:52,915 - june.simulator - INFO - Date = 2020-04-11 04:00:00, number of deaths =  41, number of infected = 14848\n",
      "2020-07-03 17:35:54,467 - june.simulator - INFO - Date = 2020-04-11 08:00:00, number of deaths =  41, number of infected = 14937\n",
      "2020-07-03 17:35:55,708 - june.simulator - INFO - Date = 2020-04-11 12:00:00, number of deaths =  42, number of infected = 15002\n",
      "2020-07-03 17:35:57,133 - june.simulator - INFO - Date = 2020-04-12 00:00:00, number of deaths =  43, number of infected = 14990\n",
      "2020-07-03 17:35:58,475 - june.simulator - INFO - Date = 2020-04-12 04:00:00, number of deaths =  43, number of infected = 15057\n",
      "2020-07-03 17:35:59,812 - june.simulator - INFO - Date = 2020-04-12 08:00:00, number of deaths =  43, number of infected = 15116\n",
      "2020-07-03 17:36:01,036 - june.simulator - INFO - Date = 2020-04-12 12:00:00, number of deaths =  44, number of infected = 15200\n",
      "2020-07-03 17:36:02,343 - june.simulator - INFO - Date = 2020-04-13 00:00:00, number of deaths =  46, number of infected = 15140\n",
      "2020-07-03 17:36:03,690 - june.simulator - INFO - Date = 2020-04-13 01:00:00, number of deaths =  46, number of infected = 15139\n",
      "2020-07-03 17:36:05,076 - june.simulator - INFO - Date = 2020-04-13 05:00:00, number of deaths =  46, number of infected = 15222\n",
      "2020-07-03 17:36:06,162 - june.simulator - INFO - Date = 2020-04-13 09:00:00, number of deaths =  46, number of infected = 15322\n",
      "2020-07-03 17:36:07,513 - june.simulator - INFO - Date = 2020-04-13 10:00:00, number of deaths =  46, number of infected = 15316\n",
      "2020-07-03 17:36:08,651 - june.simulator - INFO - Date = 2020-04-13 13:00:00, number of deaths =  46, number of infected = 15369\n",
      "2020-07-03 17:36:09,815 - june.simulator - INFO - Date = 2020-04-14 00:00:00, number of deaths =  47, number of infected = 15379\n",
      "2020-07-03 17:36:11,133 - june.simulator - INFO - Date = 2020-04-14 01:00:00, number of deaths =  47, number of infected = 15381\n",
      "2020-07-03 17:36:12,536 - june.simulator - INFO - Date = 2020-04-14 05:00:00, number of deaths =  47, number of infected = 15481\n",
      "2020-07-03 17:36:13,631 - june.simulator - INFO - Date = 2020-04-14 09:00:00, number of deaths =  47, number of infected = 15547\n",
      "2020-07-03 17:36:14,889 - june.simulator - INFO - Date = 2020-04-14 10:00:00, number of deaths =  47, number of infected = 15539\n",
      "2020-07-03 17:36:15,965 - june.simulator - INFO - Date = 2020-04-14 13:00:00, number of deaths =  47, number of infected = 15577\n",
      "2020-07-03 17:36:17,135 - june.simulator - INFO - Date = 2020-04-15 00:00:00, number of deaths =  49, number of infected = 15519\n",
      "2020-07-03 17:36:18,433 - june.simulator - INFO - Date = 2020-04-15 01:00:00, number of deaths =  49, number of infected = 15508\n",
      "2020-07-03 17:36:19,785 - june.simulator - INFO - Date = 2020-04-15 05:00:00, number of deaths =  49, number of infected = 15561\n",
      "2020-07-03 17:36:20,908 - june.simulator - INFO - Date = 2020-04-15 09:00:00, number of deaths =  49, number of infected = 15647\n",
      "2020-07-03 17:36:22,238 - june.simulator - INFO - Date = 2020-04-15 10:00:00, number of deaths =  49, number of infected = 15631\n",
      "2020-07-03 17:36:23,355 - june.simulator - INFO - Date = 2020-04-15 13:00:00, number of deaths =  49, number of infected = 15669\n",
      "2020-07-03 17:36:24,544 - june.simulator - INFO - Date = 2020-04-16 00:00:00, number of deaths =  52, number of infected = 15536\n",
      "2020-07-03 17:36:25,890 - june.simulator - INFO - Date = 2020-04-16 01:00:00, number of deaths =  52, number of infected = 15532\n",
      "2020-07-03 17:36:27,360 - june.simulator - INFO - Date = 2020-04-16 05:00:00, number of deaths =  52, number of infected = 15575\n",
      "2020-07-03 17:36:28,547 - june.simulator - INFO - Date = 2020-04-16 09:00:00, number of deaths =  52, number of infected = 15636\n",
      "2020-07-03 17:36:29,847 - june.simulator - INFO - Date = 2020-04-16 10:00:00, number of deaths =  52, number of infected = 15625\n",
      "2020-07-03 17:36:30,933 - june.simulator - INFO - Date = 2020-04-16 13:00:00, number of deaths =  52, number of infected = 15649\n",
      "2020-07-03 17:36:32,082 - june.simulator - INFO - Date = 2020-04-17 00:00:00, number of deaths =  52, number of infected = 15530\n",
      "2020-07-03 17:36:33,371 - june.simulator - INFO - Date = 2020-04-17 01:00:00, number of deaths =  52, number of infected = 15528\n",
      "2020-07-03 17:36:34,789 - june.simulator - INFO - Date = 2020-04-17 05:00:00, number of deaths =  55, number of infected = 15576\n",
      "2020-07-03 17:36:35,924 - june.simulator - INFO - Date = 2020-04-17 09:00:00, number of deaths =  56, number of infected = 15600\n",
      "2020-07-03 17:36:37,232 - june.simulator - INFO - Date = 2020-04-17 10:00:00, number of deaths =  56, number of infected = 15587\n",
      "2020-07-03 17:36:38,303 - june.simulator - INFO - Date = 2020-04-17 13:00:00, number of deaths =  57, number of infected = 15577\n",
      "2020-07-03 17:36:39,509 - june.simulator - INFO - Date = 2020-04-18 00:00:00, number of deaths =  59, number of infected = 15427\n",
      "2020-07-03 17:36:40,711 - june.simulator - INFO - Date = 2020-04-18 04:00:00, number of deaths =  61, number of infected = 15455\n",
      "2020-07-03 17:36:41,952 - june.simulator - INFO - Date = 2020-04-18 08:00:00, number of deaths =  63, number of infected = 15454\n",
      "2020-07-03 17:36:43,099 - june.simulator - INFO - Date = 2020-04-18 12:00:00, number of deaths =  64, number of infected = 15464\n",
      "2020-07-03 17:36:44,528 - june.simulator - INFO - Date = 2020-04-19 00:00:00, number of deaths =  68, number of infected = 15313\n",
      "2020-07-03 17:36:45,889 - june.simulator - INFO - Date = 2020-04-19 04:00:00, number of deaths =  68, number of infected = 15327\n",
      "2020-07-03 17:36:47,185 - june.simulator - INFO - Date = 2020-04-19 08:00:00, number of deaths =  70, number of infected = 15331\n",
      "2020-07-03 17:36:48,327 - june.simulator - INFO - Date = 2020-04-19 12:00:00, number of deaths =  71, number of infected = 15311\n",
      "2020-07-03 17:36:49,490 - june.simulator - INFO - Date = 2020-04-20 00:00:00, number of deaths =  72, number of infected = 15160\n",
      "2020-07-03 17:36:50,654 - june.simulator - INFO - Date = 2020-04-20 01:00:00, number of deaths =  72, number of infected = 15161\n",
      "2020-07-03 17:36:51,935 - june.simulator - INFO - Date = 2020-04-20 05:00:00, number of deaths =  74, number of infected = 15195\n",
      "2020-07-03 17:36:52,977 - june.simulator - INFO - Date = 2020-04-20 09:00:00, number of deaths =  75, number of infected = 15207\n",
      "2020-07-03 17:36:54,223 - june.simulator - INFO - Date = 2020-04-20 10:00:00, number of deaths =  76, number of infected = 15196\n",
      "2020-07-03 17:36:55,288 - june.simulator - INFO - Date = 2020-04-20 13:00:00, number of deaths =  78, number of infected = 15198\n",
      "2020-07-03 17:36:56,404 - june.simulator - INFO - Date = 2020-04-21 00:00:00, number of deaths =  80, number of infected = 15038\n",
      "2020-07-03 17:36:57,571 - june.simulator - INFO - Date = 2020-04-21 01:00:00, number of deaths =  81, number of infected = 15026\n",
      "2020-07-03 17:36:58,850 - june.simulator - INFO - Date = 2020-04-21 05:00:00, number of deaths =  82, number of infected = 15063\n",
      "2020-07-03 17:36:59,883 - june.simulator - INFO - Date = 2020-04-21 09:00:00, number of deaths =  83, number of infected = 15086\n",
      "2020-07-03 17:37:01,073 - june.simulator - INFO - Date = 2020-04-21 10:00:00, number of deaths =  83, number of infected = 15070\n",
      "2020-07-03 17:37:02,075 - june.simulator - INFO - Date = 2020-04-21 13:00:00, number of deaths =  84, number of infected = 15068\n",
      "2020-07-03 17:37:03,129 - june.simulator - INFO - Date = 2020-04-22 00:00:00, number of deaths =  87, number of infected = 14874\n",
      "2020-07-03 17:37:04,270 - june.simulator - INFO - Date = 2020-04-22 01:00:00, number of deaths =  87, number of infected = 14861\n",
      "2020-07-03 17:37:05,524 - june.simulator - INFO - Date = 2020-04-22 05:00:00, number of deaths =  89, number of infected = 14883\n",
      "2020-07-03 17:37:06,711 - june.simulator - INFO - Date = 2020-04-22 09:00:00, number of deaths =  90, number of infected = 14862\n",
      "2020-07-03 17:37:08,116 - june.simulator - INFO - Date = 2020-04-22 10:00:00, number of deaths =  90, number of infected = 14854\n",
      "2020-07-03 17:37:09,347 - june.simulator - INFO - Date = 2020-04-22 13:00:00, number of deaths =  91, number of infected = 14818\n",
      "2020-07-03 17:37:10,541 - june.simulator - INFO - Date = 2020-04-23 00:00:00, number of deaths =  91, number of infected = 14587\n",
      "2020-07-03 17:37:11,729 - june.simulator - INFO - Date = 2020-04-23 01:00:00, number of deaths =  91, number of infected = 14568\n",
      "2020-07-03 17:37:13,052 - june.simulator - INFO - Date = 2020-04-23 05:00:00, number of deaths =  92, number of infected = 14547\n",
      "2020-07-03 17:37:14,027 - june.simulator - INFO - Date = 2020-04-23 09:00:00, number of deaths =  93, number of infected = 14534\n",
      "2020-07-03 17:37:15,521 - june.simulator - INFO - Date = 2020-04-23 10:00:00, number of deaths =  93, number of infected = 14514\n",
      "2020-07-03 17:37:16,708 - june.simulator - INFO - Date = 2020-04-23 13:00:00, number of deaths =  93, number of infected = 14519\n",
      "2020-07-03 17:37:17,842 - june.simulator - INFO - Date = 2020-04-24 00:00:00, number of deaths =  95, number of infected = 14284\n",
      "2020-07-03 17:37:19,143 - june.simulator - INFO - Date = 2020-04-24 01:00:00, number of deaths =  95, number of infected = 14268\n",
      "2020-07-03 17:37:20,654 - june.simulator - INFO - Date = 2020-04-24 05:00:00, number of deaths =  96, number of infected = 14276\n",
      "2020-07-03 17:37:21,935 - june.simulator - INFO - Date = 2020-04-24 09:00:00, number of deaths =  96, number of infected = 14256\n",
      "2020-07-03 17:37:23,633 - june.simulator - INFO - Date = 2020-04-24 10:00:00, number of deaths =  96, number of infected = 14232\n",
      "2020-07-03 17:37:24,776 - june.simulator - INFO - Date = 2020-04-24 13:00:00, number of deaths =  96, number of infected = 14199\n",
      "2020-07-03 17:37:26,111 - june.simulator - INFO - Date = 2020-04-25 00:00:00, number of deaths =  98, number of infected = 13946\n",
      "2020-07-03 17:37:27,327 - june.simulator - INFO - Date = 2020-04-25 04:00:00, number of deaths =  99, number of infected = 13888\n",
      "2020-07-03 17:37:28,534 - june.simulator - INFO - Date = 2020-04-25 08:00:00, number of deaths =  99, number of infected = 13852\n",
      "2020-07-03 17:37:29,577 - june.simulator - INFO - Date = 2020-04-25 12:00:00, number of deaths =  99, number of infected = 13751\n",
      "2020-07-03 17:37:30,931 - june.simulator - INFO - Date = 2020-04-26 00:00:00, number of deaths =  102, number of infected = 13516\n",
      "2020-07-03 17:37:32,166 - june.simulator - INFO - Date = 2020-04-26 04:00:00, number of deaths =  102, number of infected = 13477\n",
      "2020-07-03 17:37:33,413 - june.simulator - INFO - Date = 2020-04-26 08:00:00, number of deaths =  104, number of infected = 13431\n",
      "2020-07-03 17:37:34,478 - june.simulator - INFO - Date = 2020-04-26 12:00:00, number of deaths =  104, number of infected = 13398\n",
      "2020-07-03 17:37:35,702 - june.simulator - INFO - Date = 2020-04-27 00:00:00, number of deaths =  105, number of infected = 13140\n",
      "2020-07-03 17:37:37,020 - june.simulator - INFO - Date = 2020-04-27 01:00:00, number of deaths =  105, number of infected = 13119\n",
      "2020-07-03 17:37:38,494 - june.simulator - INFO - Date = 2020-04-27 05:00:00, number of deaths =  106, number of infected = 13054\n",
      "2020-07-03 17:37:39,611 - june.simulator - INFO - Date = 2020-04-27 09:00:00, number of deaths =  107, number of infected = 13012\n",
      "2020-07-03 17:37:41,214 - june.simulator - INFO - Date = 2020-04-27 10:00:00, number of deaths =  107, number of infected = 13002\n",
      "2020-07-03 17:37:42,341 - june.simulator - INFO - Date = 2020-04-27 13:00:00, number of deaths =  109, number of infected = 12974\n",
      "2020-07-03 17:37:43,504 - june.simulator - INFO - Date = 2020-04-28 00:00:00, number of deaths =  111, number of infected = 12742\n",
      "2020-07-03 17:37:44,883 - june.simulator - INFO - Date = 2020-04-28 01:00:00, number of deaths =  111, number of infected = 12724\n",
      "2020-07-03 17:37:46,439 - june.simulator - INFO - Date = 2020-04-28 05:00:00, number of deaths =  112, number of infected = 12659\n",
      "2020-07-03 17:37:47,676 - june.simulator - INFO - Date = 2020-04-28 09:00:00, number of deaths =  113, number of infected = 12601\n",
      "2020-07-03 17:37:49,078 - june.simulator - INFO - Date = 2020-04-28 10:00:00, number of deaths =  114, number of infected = 12585\n",
      "2020-07-03 17:37:50,256 - june.simulator - INFO - Date = 2020-04-28 13:00:00, number of deaths =  114, number of infected = 12533\n",
      "2020-07-03 17:37:51,375 - june.simulator - INFO - Date = 2020-04-29 00:00:00, number of deaths =  118, number of infected = 12257\n",
      "2020-07-03 17:37:52,838 - june.simulator - INFO - Date = 2020-04-29 01:00:00, number of deaths =  118, number of infected = 12239\n",
      "2020-07-03 17:37:54,161 - june.simulator - INFO - Date = 2020-04-29 05:00:00, number of deaths =  120, number of infected = 12181\n",
      "2020-07-03 17:37:55,351 - june.simulator - INFO - Date = 2020-04-29 09:00:00, number of deaths =  121, number of infected = 12122\n",
      "2020-07-03 17:37:56,750 - june.simulator - INFO - Date = 2020-04-29 10:00:00, number of deaths =  121, number of infected = 12104\n",
      "2020-07-03 17:37:57,904 - june.simulator - INFO - Date = 2020-04-29 13:00:00, number of deaths =  121, number of infected = 12058\n",
      "2020-07-03 17:37:59,084 - june.simulator - INFO - Date = 2020-04-30 00:00:00, number of deaths =  125, number of infected = 11815\n",
      "2020-07-03 17:38:00,340 - june.simulator - INFO - Date = 2020-04-30 01:00:00, number of deaths =  125, number of infected = 11794\n",
      "2020-07-03 17:38:01,634 - june.simulator - INFO - Date = 2020-04-30 05:00:00, number of deaths =  127, number of infected = 11752\n",
      "2020-07-03 17:38:02,727 - june.simulator - INFO - Date = 2020-04-30 09:00:00, number of deaths =  127, number of infected = 11722\n",
      "2020-07-03 17:38:03,996 - june.simulator - INFO - Date = 2020-04-30 10:00:00, number of deaths =  127, number of infected = 11687\n",
      "2020-07-03 17:38:05,066 - june.simulator - INFO - Date = 2020-04-30 13:00:00, number of deaths =  127, number of infected = 11678\n",
      "2020-07-03 17:38:06,118 - june.simulator - INFO - Date = 2020-05-01 00:00:00, number of deaths =  131, number of infected = 11396\n",
      "2020-07-03 17:38:07,368 - june.simulator - INFO - Date = 2020-05-01 01:00:00, number of deaths =  131, number of infected = 11381\n",
      "2020-07-03 17:38:08,756 - june.simulator - INFO - Date = 2020-05-01 05:00:00, number of deaths =  131, number of infected = 11329\n",
      "2020-07-03 17:38:09,823 - june.simulator - INFO - Date = 2020-05-01 09:00:00, number of deaths =  134, number of infected = 11265\n",
      "2020-07-03 17:38:11,144 - june.simulator - INFO - Date = 2020-05-01 10:00:00, number of deaths =  134, number of infected = 11243\n",
      "2020-07-03 17:38:12,386 - june.simulator - INFO - Date = 2020-05-01 13:00:00, number of deaths =  134, number of infected = 11200\n",
      "2020-07-03 17:38:13,830 - june.simulator - INFO - Date = 2020-05-02 00:00:00, number of deaths =  137, number of infected = 10930\n",
      "2020-07-03 17:38:14,990 - june.simulator - INFO - Date = 2020-05-02 04:00:00, number of deaths =  137, number of infected = 10871\n",
      "2020-07-03 17:38:16,307 - june.simulator - INFO - Date = 2020-05-02 08:00:00, number of deaths =  137, number of infected = 10814\n",
      "2020-07-03 17:38:17,371 - june.simulator - INFO - Date = 2020-05-02 12:00:00, number of deaths =  139, number of infected = 10772\n",
      "2020-07-03 17:38:18,723 - june.simulator - INFO - Date = 2020-05-03 00:00:00, number of deaths =  142, number of infected = 10488\n",
      "2020-07-03 17:38:20,048 - june.simulator - INFO - Date = 2020-05-03 04:00:00, number of deaths =  144, number of infected = 10467\n",
      "2020-07-03 17:38:21,384 - june.simulator - INFO - Date = 2020-05-03 08:00:00, number of deaths =  144, number of infected = 10417\n",
      "2020-07-03 17:38:22,492 - june.simulator - INFO - Date = 2020-05-03 12:00:00, number of deaths =  145, number of infected = 10364\n",
      "2020-07-03 17:38:23,577 - june.simulator - INFO - Date = 2020-05-04 00:00:00, number of deaths =  146, number of infected = 10092\n",
      "2020-07-03 17:38:24,838 - june.simulator - INFO - Date = 2020-05-04 01:00:00, number of deaths =  147, number of infected = 10068\n",
      "2020-07-03 17:38:26,083 - june.simulator - INFO - Date = 2020-05-04 05:00:00, number of deaths =  149, number of infected = 10028\n",
      "2020-07-03 17:38:27,131 - june.simulator - INFO - Date = 2020-05-04 09:00:00, number of deaths =  149, number of infected = 9981\n",
      "2020-07-03 17:38:28,325 - june.simulator - INFO - Date = 2020-05-04 10:00:00, number of deaths =  149, number of infected = 9961\n",
      "2020-07-03 17:38:29,319 - june.simulator - INFO - Date = 2020-05-04 13:00:00, number of deaths =  149, number of infected = 9915\n",
      "2020-07-03 17:38:30,280 - june.simulator - INFO - Date = 2020-05-05 00:00:00, number of deaths =  150, number of infected = 9655\n",
      "2020-07-03 17:38:31,502 - june.simulator - INFO - Date = 2020-05-05 01:00:00, number of deaths =  150, number of infected = 9634\n",
      "2020-07-03 17:38:32,805 - june.simulator - INFO - Date = 2020-05-05 05:00:00, number of deaths =  150, number of infected = 9619\n",
      "2020-07-03 17:38:33,963 - june.simulator - INFO - Date = 2020-05-05 09:00:00, number of deaths =  150, number of infected = 9593\n",
      "2020-07-03 17:38:35,347 - june.simulator - INFO - Date = 2020-05-05 10:00:00, number of deaths =  150, number of infected = 9574\n",
      "2020-07-03 17:38:36,457 - june.simulator - INFO - Date = 2020-05-05 13:00:00, number of deaths =  150, number of infected = 9540\n",
      "2020-07-03 17:38:37,410 - june.simulator - INFO - Date = 2020-05-06 00:00:00, number of deaths =  151, number of infected = 9295\n",
      "2020-07-03 17:38:38,673 - june.simulator - INFO - Date = 2020-05-06 01:00:00, number of deaths =  152, number of infected = 9271\n",
      "2020-07-03 17:38:39,852 - june.simulator - INFO - Date = 2020-05-06 05:00:00, number of deaths =  154, number of infected = 9232\n",
      "2020-07-03 17:38:40,870 - june.simulator - INFO - Date = 2020-05-06 09:00:00, number of deaths =  155, number of infected = 9186\n",
      "2020-07-03 17:38:42,083 - june.simulator - INFO - Date = 2020-05-06 10:00:00, number of deaths =  156, number of infected = 9159\n",
      "2020-07-03 17:38:43,108 - june.simulator - INFO - Date = 2020-05-06 13:00:00, number of deaths =  157, number of infected = 9100\n",
      "2020-07-03 17:38:44,158 - june.simulator - INFO - Date = 2020-05-07 00:00:00, number of deaths =  157, number of infected = 8833\n",
      "2020-07-03 17:38:45,663 - june.simulator - INFO - Date = 2020-05-07 01:00:00, number of deaths =  158, number of infected = 8809\n",
      "2020-07-03 17:38:46,959 - june.simulator - INFO - Date = 2020-05-07 05:00:00, number of deaths =  159, number of infected = 8750\n",
      "2020-07-03 17:38:48,010 - june.simulator - INFO - Date = 2020-05-07 09:00:00, number of deaths =  160, number of infected = 8715\n",
      "2020-07-03 17:38:49,397 - june.simulator - INFO - Date = 2020-05-07 10:00:00, number of deaths =  160, number of infected = 8704\n",
      "2020-07-03 17:38:50,364 - june.simulator - INFO - Date = 2020-05-07 13:00:00, number of deaths =  161, number of infected = 8660\n",
      "2020-07-03 17:38:51,398 - june.simulator - INFO - Date = 2020-05-08 00:00:00, number of deaths =  165, number of infected = 8449\n",
      "2020-07-03 17:38:52,605 - june.simulator - INFO - Date = 2020-05-08 01:00:00, number of deaths =  166, number of infected = 8432\n",
      "2020-07-03 17:38:53,784 - june.simulator - INFO - Date = 2020-05-08 05:00:00, number of deaths =  168, number of infected = 8389\n",
      "2020-07-03 17:38:54,809 - june.simulator - INFO - Date = 2020-05-08 09:00:00, number of deaths =  170, number of infected = 8341\n",
      "2020-07-03 17:38:56,082 - june.simulator - INFO - Date = 2020-05-08 10:00:00, number of deaths =  170, number of infected = 8329\n",
      "2020-07-03 17:38:57,116 - june.simulator - INFO - Date = 2020-05-08 13:00:00, number of deaths =  170, number of infected = 8292\n",
      "2020-07-03 17:38:58,403 - june.simulator - INFO - Date = 2020-05-09 00:00:00, number of deaths =  171, number of infected = 8067\n",
      "2020-07-03 17:38:59,635 - june.simulator - INFO - Date = 2020-05-09 04:00:00, number of deaths =  172, number of infected = 8018\n",
      "2020-07-03 17:39:00,754 - june.simulator - INFO - Date = 2020-05-09 08:00:00, number of deaths =  172, number of infected = 7948\n",
      "2020-07-03 17:39:01,785 - june.simulator - INFO - Date = 2020-05-09 12:00:00, number of deaths =  173, number of infected = 7893\n",
      "2020-07-03 17:39:03,110 - june.simulator - INFO - Date = 2020-05-10 00:00:00, number of deaths =  179, number of infected = 7689\n",
      "2020-07-03 17:39:04,393 - june.simulator - INFO - Date = 2020-05-10 04:00:00, number of deaths =  180, number of infected = 7638\n",
      "2020-07-03 17:39:05,654 - june.simulator - INFO - Date = 2020-05-10 08:00:00, number of deaths =  180, number of infected = 7572\n",
      "2020-07-03 17:39:06,637 - june.simulator - INFO - Date = 2020-05-10 12:00:00, number of deaths =  180, number of infected = 7505\n",
      "2020-07-03 17:39:07,732 - june.simulator - INFO - Date = 2020-05-11 00:00:00, number of deaths =  182, number of infected = 7278\n",
      "2020-07-03 17:39:09,057 - june.simulator - INFO - Date = 2020-05-11 01:00:00, number of deaths =  182, number of infected = 7267\n",
      "2020-07-03 17:39:10,337 - june.simulator - INFO - Date = 2020-05-11 05:00:00, number of deaths =  182, number of infected = 7237\n",
      "2020-07-03 17:39:11,358 - june.simulator - INFO - Date = 2020-05-11 09:00:00, number of deaths =  182, number of infected = 7222\n",
      "2020-07-03 17:39:12,611 - june.simulator - INFO - Date = 2020-05-11 10:00:00, number of deaths =  183, number of infected = 7214\n",
      "2020-07-03 17:39:13,579 - june.simulator - INFO - Date = 2020-05-11 13:00:00, number of deaths =  183, number of infected = 7175\n",
      "2020-07-03 17:39:14,602 - june.simulator - INFO - Date = 2020-05-12 00:00:00, number of deaths =  184, number of infected = 6991\n",
      "2020-07-03 17:39:15,911 - june.simulator - INFO - Date = 2020-05-12 01:00:00, number of deaths =  184, number of infected = 6976\n",
      "2020-07-03 17:39:17,278 - june.simulator - INFO - Date = 2020-05-12 05:00:00, number of deaths =  186, number of infected = 6950\n",
      "2020-07-03 17:39:18,238 - june.simulator - INFO - Date = 2020-05-12 09:00:00, number of deaths =  187, number of infected = 6912\n",
      "2020-07-03 17:39:19,538 - june.simulator - INFO - Date = 2020-05-12 10:00:00, number of deaths =  187, number of infected = 6900\n",
      "2020-07-03 17:39:20,567 - june.simulator - INFO - Date = 2020-05-12 13:00:00, number of deaths =  187, number of infected = 6868\n",
      "2020-07-03 17:39:21,568 - june.simulator - INFO - Date = 2020-05-13 00:00:00, number of deaths =  188, number of infected = 6671\n",
      "2020-07-03 17:39:22,841 - june.simulator - INFO - Date = 2020-05-13 01:00:00, number of deaths =  188, number of infected = 6659\n",
      "2020-07-03 17:39:24,013 - june.simulator - INFO - Date = 2020-05-13 05:00:00, number of deaths =  189, number of infected = 6629\n",
      "2020-07-03 17:39:24,902 - june.simulator - INFO - Date = 2020-05-13 09:00:00, number of deaths =  189, number of infected = 6601\n",
      "2020-07-03 17:39:26,078 - june.simulator - INFO - Date = 2020-05-13 10:00:00, number of deaths =  190, number of infected = 6587\n",
      "2020-07-03 17:39:27,067 - june.simulator - INFO - Date = 2020-05-13 13:00:00, number of deaths =  190, number of infected = 6551\n",
      "2020-07-03 17:39:28,095 - june.simulator - INFO - Date = 2020-05-14 00:00:00, number of deaths =  194, number of infected = 6351\n",
      "2020-07-03 17:39:29,372 - june.simulator - INFO - Date = 2020-05-14 01:00:00, number of deaths =  194, number of infected = 6340\n",
      "2020-07-03 17:39:30,692 - june.simulator - INFO - Date = 2020-05-14 05:00:00, number of deaths =  195, number of infected = 6302\n",
      "2020-07-03 17:39:31,716 - june.simulator - INFO - Date = 2020-05-14 09:00:00, number of deaths =  195, number of infected = 6272\n",
      "2020-07-03 17:39:32,961 - june.simulator - INFO - Date = 2020-05-14 10:00:00, number of deaths =  195, number of infected = 6260\n",
      "2020-07-03 17:39:33,921 - june.simulator - INFO - Date = 2020-05-14 13:00:00, number of deaths =  196, number of infected = 6240\n",
      "2020-07-03 17:39:34,960 - june.simulator - INFO - Date = 2020-05-15 00:00:00, number of deaths =  200, number of infected = 6042\n",
      "2020-07-03 17:39:36,487 - june.simulator - INFO - Date = 2020-05-15 01:00:00, number of deaths =  200, number of infected = 6025\n",
      "2020-07-03 17:39:37,922 - june.simulator - INFO - Date = 2020-05-15 05:00:00, number of deaths =  200, number of infected = 5984\n",
      "2020-07-03 17:39:39,060 - june.simulator - INFO - Date = 2020-05-15 09:00:00, number of deaths =  200, number of infected = 5938\n",
      "2020-07-03 17:39:40,867 - june.simulator - INFO - Date = 2020-05-15 10:00:00, number of deaths =  201, number of infected = 5925\n",
      "2020-07-03 17:39:42,032 - june.simulator - INFO - Date = 2020-05-15 13:00:00, number of deaths =  202, number of infected = 5895\n",
      "2020-07-03 17:39:43,205 - june.simulator - INFO - Date = 2020-05-16 00:00:00, number of deaths =  203, number of infected = 5729\n",
      "2020-07-03 17:39:44,485 - june.simulator - INFO - Date = 2020-05-16 04:00:00, number of deaths =  203, number of infected = 5697\n",
      "2020-07-03 17:39:45,567 - june.simulator - INFO - Date = 2020-05-16 08:00:00, number of deaths =  204, number of infected = 5670\n",
      "2020-07-03 17:39:46,494 - june.simulator - INFO - Date = 2020-05-16 12:00:00, number of deaths =  204, number of infected = 5622\n",
      "2020-07-03 17:39:47,718 - june.simulator - INFO - Date = 2020-05-17 00:00:00, number of deaths =  205, number of infected = 5464\n",
      "2020-07-03 17:39:48,871 - june.simulator - INFO - Date = 2020-05-17 04:00:00, number of deaths =  206, number of infected = 5429\n",
      "2020-07-03 17:39:49,930 - june.simulator - INFO - Date = 2020-05-17 08:00:00, number of deaths =  206, number of infected = 5394\n",
      "2020-07-03 17:39:50,839 - june.simulator - INFO - Date = 2020-05-17 12:00:00, number of deaths =  206, number of infected = 5355\n",
      "2020-07-03 17:39:51,728 - june.simulator - INFO - Date = 2020-05-18 00:00:00, number of deaths =  207, number of infected = 5206\n",
      "2020-07-03 17:39:52,803 - june.simulator - INFO - Date = 2020-05-18 01:00:00, number of deaths =  207, number of infected = 5195\n",
      "2020-07-03 17:39:53,885 - june.simulator - INFO - Date = 2020-05-18 05:00:00, number of deaths =  207, number of infected = 5153\n",
      "2020-07-03 17:39:54,741 - june.simulator - INFO - Date = 2020-05-18 09:00:00, number of deaths =  208, number of infected = 5113\n",
      "2020-07-03 17:39:55,859 - june.simulator - INFO - Date = 2020-05-18 10:00:00, number of deaths =  208, number of infected = 5093\n",
      "2020-07-03 17:39:56,791 - june.simulator - INFO - Date = 2020-05-18 13:00:00, number of deaths =  209, number of infected = 5076\n",
      "2020-07-03 17:39:57,798 - june.simulator - INFO - Date = 2020-05-19 00:00:00, number of deaths =  210, number of infected = 4902\n",
      "2020-07-03 17:39:59,042 - june.simulator - INFO - Date = 2020-05-19 01:00:00, number of deaths =  210, number of infected = 4892\n",
      "2020-07-03 17:40:00,353 - june.simulator - INFO - Date = 2020-05-19 05:00:00, number of deaths =  211, number of infected = 4866\n",
      "2020-07-03 17:40:01,302 - june.simulator - INFO - Date = 2020-05-19 09:00:00, number of deaths =  213, number of infected = 4843\n",
      "2020-07-03 17:40:02,477 - june.simulator - INFO - Date = 2020-05-19 10:00:00, number of deaths =  213, number of infected = 4829\n",
      "2020-07-03 17:40:03,319 - june.simulator - INFO - Date = 2020-05-19 13:00:00, number of deaths =  213, number of infected = 4798\n",
      "2020-07-03 17:40:04,151 - june.simulator - INFO - Date = 2020-05-20 00:00:00, number of deaths =  214, number of infected = 4679\n",
      "2020-07-03 17:40:05,315 - june.simulator - INFO - Date = 2020-05-20 01:00:00, number of deaths =  214, number of infected = 4667\n",
      "2020-07-03 17:40:06,519 - june.simulator - INFO - Date = 2020-05-20 05:00:00, number of deaths =  215, number of infected = 4649\n",
      "2020-07-03 17:40:07,503 - june.simulator - INFO - Date = 2020-05-20 09:00:00, number of deaths =  215, number of infected = 4623\n",
      "2020-07-03 17:40:08,904 - june.simulator - INFO - Date = 2020-05-20 10:00:00, number of deaths =  215, number of infected = 4616\n",
      "2020-07-03 17:40:09,952 - june.simulator - INFO - Date = 2020-05-20 13:00:00, number of deaths =  215, number of infected = 4595\n",
      "2020-07-03 17:40:11,039 - june.simulator - INFO - Date = 2020-05-21 00:00:00, number of deaths =  217, number of infected = 4462\n",
      "2020-07-03 17:40:12,284 - june.simulator - INFO - Date = 2020-05-21 01:00:00, number of deaths =  218, number of infected = 4448\n",
      "2020-07-03 17:40:13,560 - june.simulator - INFO - Date = 2020-05-21 05:00:00, number of deaths =  218, number of infected = 4419\n",
      "2020-07-03 17:40:14,763 - june.simulator - INFO - Date = 2020-05-21 09:00:00, number of deaths =  219, number of infected = 4388\n",
      "2020-07-03 17:40:16,281 - june.simulator - INFO - Date = 2020-05-21 10:00:00, number of deaths =  220, number of infected = 4376\n",
      "2020-07-03 17:40:17,336 - june.simulator - INFO - Date = 2020-05-21 13:00:00, number of deaths =  220, number of infected = 4361\n",
      "2020-07-03 17:40:18,437 - june.simulator - INFO - Date = 2020-05-22 00:00:00, number of deaths =  220, number of infected = 4243\n",
      "2020-07-03 17:40:19,624 - june.simulator - INFO - Date = 2020-05-22 01:00:00, number of deaths =  220, number of infected = 4230\n",
      "2020-07-03 17:40:20,865 - june.simulator - INFO - Date = 2020-05-22 05:00:00, number of deaths =  220, number of infected = 4202\n",
      "2020-07-03 17:40:21,798 - june.simulator - INFO - Date = 2020-05-22 09:00:00, number of deaths =  220, number of infected = 4174\n",
      "2020-07-03 17:40:23,028 - june.simulator - INFO - Date = 2020-05-22 10:00:00, number of deaths =  220, number of infected = 4163\n",
      "2020-07-03 17:40:23,895 - june.simulator - INFO - Date = 2020-05-22 13:00:00, number of deaths =  220, number of infected = 4157\n",
      "2020-07-03 17:40:24,983 - june.simulator - INFO - Date = 2020-05-23 00:00:00, number of deaths =  223, number of infected = 4054\n",
      "2020-07-03 17:40:26,002 - june.simulator - INFO - Date = 2020-05-23 04:00:00, number of deaths =  223, number of infected = 4021\n",
      "2020-07-03 17:40:27,103 - june.simulator - INFO - Date = 2020-05-23 08:00:00, number of deaths =  223, number of infected = 3989\n",
      "2020-07-03 17:40:28,054 - june.simulator - INFO - Date = 2020-05-23 12:00:00, number of deaths =  223, number of infected = 3975\n",
      "2020-07-03 17:40:29,259 - june.simulator - INFO - Date = 2020-05-24 00:00:00, number of deaths =  224, number of infected = 3839\n",
      "2020-07-03 17:40:30,437 - june.simulator - INFO - Date = 2020-05-24 04:00:00, number of deaths =  224, number of infected = 3819\n",
      "2020-07-03 17:40:31,785 - june.simulator - INFO - Date = 2020-05-24 08:00:00, number of deaths =  225, number of infected = 3785\n",
      "2020-07-03 17:40:32,819 - june.simulator - INFO - Date = 2020-05-24 12:00:00, number of deaths =  225, number of infected = 3754\n",
      "2020-07-03 17:40:34,086 - june.simulator - INFO - Date = 2020-05-25 00:00:00, number of deaths =  226, number of infected = 3646\n",
      "2020-07-03 17:40:35,263 - june.simulator - INFO - Date = 2020-05-25 01:00:00, number of deaths =  226, number of infected = 3636\n",
      "2020-07-03 17:40:36,718 - june.simulator - INFO - Date = 2020-05-25 05:00:00, number of deaths =  228, number of infected = 3615\n",
      "2020-07-03 17:40:37,652 - june.simulator - INFO - Date = 2020-05-25 09:00:00, number of deaths =  229, number of infected = 3600\n",
      "2020-07-03 17:40:39,165 - june.simulator - INFO - Date = 2020-05-25 10:00:00, number of deaths =  229, number of infected = 3597\n",
      "2020-07-03 17:40:40,727 - june.simulator - INFO - Date = 2020-05-25 13:00:00, number of deaths =  229, number of infected = 3589\n",
      "2020-07-03 17:40:42,532 - june.simulator - INFO - Date = 2020-05-26 00:00:00, number of deaths =  230, number of infected = 3496\n",
      "2020-07-03 17:40:44,146 - june.simulator - INFO - Date = 2020-05-26 01:00:00, number of deaths =  230, number of infected = 3491\n",
      "2020-07-03 17:40:45,716 - june.simulator - INFO - Date = 2020-05-26 05:00:00, number of deaths =  232, number of infected = 3463\n",
      "2020-07-03 17:40:46,776 - june.simulator - INFO - Date = 2020-05-26 09:00:00, number of deaths =  233, number of infected = 3442\n",
      "2020-07-03 17:40:48,158 - june.simulator - INFO - Date = 2020-05-26 10:00:00, number of deaths =  233, number of infected = 3430\n",
      "2020-07-03 17:40:49,187 - june.simulator - INFO - Date = 2020-05-26 13:00:00, number of deaths =  233, number of infected = 3416\n",
      "2020-07-03 17:40:50,164 - june.simulator - INFO - Date = 2020-05-27 00:00:00, number of deaths =  233, number of infected = 3321\n",
      "2020-07-03 17:40:51,442 - june.simulator - INFO - Date = 2020-05-27 01:00:00, number of deaths =  233, number of infected = 3314\n",
      "2020-07-03 17:40:52,851 - june.simulator - INFO - Date = 2020-05-27 05:00:00, number of deaths =  233, number of infected = 3284\n",
      "2020-07-03 17:40:53,925 - june.simulator - INFO - Date = 2020-05-27 09:00:00, number of deaths =  234, number of infected = 3252\n",
      "2020-07-03 17:40:55,215 - june.simulator - INFO - Date = 2020-05-27 10:00:00, number of deaths =  234, number of infected = 3248\n",
      "2020-07-03 17:40:56,167 - june.simulator - INFO - Date = 2020-05-27 13:00:00, number of deaths =  234, number of infected = 3231\n",
      "2020-07-03 17:40:57,151 - june.simulator - INFO - Date = 2020-05-28 00:00:00, number of deaths =  234, number of infected = 3136\n",
      "2020-07-03 17:40:58,247 - june.simulator - INFO - Date = 2020-05-28 01:00:00, number of deaths =  234, number of infected = 3131\n",
      "2020-07-03 17:40:59,556 - june.simulator - INFO - Date = 2020-05-28 05:00:00, number of deaths =  234, number of infected = 3105\n",
      "2020-07-03 17:41:00,565 - june.simulator - INFO - Date = 2020-05-28 09:00:00, number of deaths =  234, number of infected = 3079\n",
      "2020-07-03 17:41:01,838 - june.simulator - INFO - Date = 2020-05-28 10:00:00, number of deaths =  234, number of infected = 3072\n",
      "2020-07-03 17:41:02,809 - june.simulator - INFO - Date = 2020-05-28 13:00:00, number of deaths =  234, number of infected = 3061\n",
      "2020-07-03 17:41:03,656 - june.simulator - INFO - Date = 2020-05-29 00:00:00, number of deaths =  235, number of infected = 2969\n",
      "2020-07-03 17:41:04,724 - june.simulator - INFO - Date = 2020-05-29 01:00:00, number of deaths =  236, number of infected = 2963\n",
      "2020-07-03 17:41:05,861 - june.simulator - INFO - Date = 2020-05-29 05:00:00, number of deaths =  236, number of infected = 2946\n",
      "2020-07-03 17:41:06,771 - june.simulator - INFO - Date = 2020-05-29 09:00:00, number of deaths =  236, number of infected = 2897\n",
      "2020-07-03 17:41:07,971 - june.simulator - INFO - Date = 2020-05-29 10:00:00, number of deaths =  236, number of infected = 2891\n",
      "2020-07-03 17:41:08,938 - june.simulator - INFO - Date = 2020-05-29 13:00:00, number of deaths =  236, number of infected = 2873\n",
      "2020-07-03 17:41:10,042 - june.simulator - INFO - Date = 2020-05-30 00:00:00, number of deaths =  236, number of infected = 2794\n",
      "2020-07-03 17:41:11,162 - june.simulator - INFO - Date = 2020-05-30 04:00:00, number of deaths =  236, number of infected = 2771\n",
      "2020-07-03 17:41:12,171 - june.simulator - INFO - Date = 2020-05-30 08:00:00, number of deaths =  236, number of infected = 2758\n",
      "2020-07-03 17:41:13,350 - june.simulator - INFO - Date = 2020-05-30 12:00:00, number of deaths =  236, number of infected = 2734\n",
      "2020-07-03 17:41:14,579 - june.simulator - INFO - Date = 2020-05-31 00:00:00, number of deaths =  236, number of infected = 2632\n",
      "2020-07-03 17:41:16,025 - june.simulator - INFO - Date = 2020-05-31 04:00:00, number of deaths =  236, number of infected = 2611\n",
      "2020-07-03 17:41:17,137 - june.simulator - INFO - Date = 2020-05-31 08:00:00, number of deaths =  236, number of infected = 2592\n",
      "2020-07-03 17:41:18,042 - june.simulator - INFO - Date = 2020-05-31 12:00:00, number of deaths =  236, number of infected = 2578\n",
      "2020-07-03 17:41:19,451 - june.simulator - INFO - Date = 2020-06-01 00:00:00, number of deaths =  236, number of infected = 2500\n",
      "2020-07-03 17:41:21,309 - june.simulator - INFO - Date = 2020-06-01 01:00:00, number of deaths =  236, number of infected = 2491\n",
      "2020-07-03 17:41:22,636 - june.simulator - INFO - Date = 2020-06-01 05:00:00, number of deaths =  236, number of infected = 2478\n",
      "2020-07-03 17:41:23,665 - june.simulator - INFO - Date = 2020-06-01 09:00:00, number of deaths =  236, number of infected = 2452\n",
      "2020-07-03 17:41:25,199 - june.simulator - INFO - Date = 2020-06-01 10:00:00, number of deaths =  236, number of infected = 2446\n",
      "2020-07-03 17:41:27,195 - june.simulator - INFO - Date = 2020-06-01 13:00:00, number of deaths =  236, number of infected = 2434\n",
      "2020-07-03 17:41:30,143 - june.simulator - INFO - Date = 2020-06-02 00:00:00, number of deaths =  237, number of infected = 2366\n",
      "2020-07-03 17:41:39,293 - june.simulator - INFO - Date = 2020-06-02 01:00:00, number of deaths =  237, number of infected = 2362\n",
      "2020-07-03 17:41:42,061 - june.simulator - INFO - Date = 2020-06-02 05:00:00, number of deaths =  237, number of infected = 2356\n",
      "2020-07-03 17:41:43,110 - june.simulator - INFO - Date = 2020-06-02 09:00:00, number of deaths =  237, number of infected = 2336\n",
      "2020-07-03 17:41:44,256 - june.simulator - INFO - Date = 2020-06-02 10:00:00, number of deaths =  237, number of infected = 2332\n",
      "2020-07-03 17:41:45,076 - june.simulator - INFO - Date = 2020-06-02 13:00:00, number of deaths =  237, number of infected = 2320\n",
      "2020-07-03 17:41:45,905 - june.simulator - INFO - Date = 2020-06-03 00:00:00, number of deaths =  238, number of infected = 2237\n",
      "2020-07-03 17:41:46,978 - june.simulator - INFO - Date = 2020-06-03 01:00:00, number of deaths =  238, number of infected = 2229\n",
      "2020-07-03 17:41:48,118 - june.simulator - INFO - Date = 2020-06-03 05:00:00, number of deaths =  238, number of infected = 2216\n",
      "2020-07-03 17:41:49,132 - june.simulator - INFO - Date = 2020-06-03 09:00:00, number of deaths =  238, number of infected = 2202\n",
      "2020-07-03 17:41:50,363 - june.simulator - INFO - Date = 2020-06-03 10:00:00, number of deaths =  238, number of infected = 2199\n",
      "2020-07-03 17:41:51,532 - june.simulator - INFO - Date = 2020-06-03 13:00:00, number of deaths =  238, number of infected = 2180\n",
      "2020-07-03 17:41:52,415 - june.simulator - INFO - Date = 2020-06-04 00:00:00, number of deaths =  238, number of infected = 2113\n",
      "2020-07-03 17:41:54,030 - june.simulator - INFO - Date = 2020-06-04 01:00:00, number of deaths =  238, number of infected = 2105\n",
      "2020-07-03 17:41:55,446 - june.simulator - INFO - Date = 2020-06-04 05:00:00, number of deaths =  239, number of infected = 2081\n",
      "2020-07-03 17:41:56,368 - june.simulator - INFO - Date = 2020-06-04 09:00:00, number of deaths =  239, number of infected = 2068\n",
      "2020-07-03 17:41:57,647 - june.simulator - INFO - Date = 2020-06-04 10:00:00, number of deaths =  239, number of infected = 2060\n",
      "2020-07-03 17:41:58,579 - june.simulator - INFO - Date = 2020-06-04 13:00:00, number of deaths =  239, number of infected = 2056\n",
      "2020-07-03 17:41:59,408 - june.simulator - INFO - Date = 2020-06-05 00:00:00, number of deaths =  239, number of infected = 1986\n",
      "2020-07-03 17:42:00,469 - june.simulator - INFO - Date = 2020-06-05 01:00:00, number of deaths =  239, number of infected = 1983\n",
      "2020-07-03 17:42:01,623 - june.simulator - INFO - Date = 2020-06-05 05:00:00, number of deaths =  240, number of infected = 1972\n",
      "2020-07-03 17:42:02,620 - june.simulator - INFO - Date = 2020-06-05 09:00:00, number of deaths =  241, number of infected = 1951\n",
      "2020-07-03 17:42:04,598 - june.simulator - INFO - Date = 2020-06-05 10:00:00, number of deaths =  241, number of infected = 1944\n",
      "2020-07-03 17:42:05,886 - june.simulator - INFO - Date = 2020-06-05 13:00:00, number of deaths =  241, number of infected = 1936\n",
      "2020-07-03 17:42:07,435 - june.simulator - INFO - Date = 2020-06-06 00:00:00, number of deaths =  243, number of infected = 1875\n",
      "2020-07-03 17:42:09,071 - june.simulator - INFO - Date = 2020-06-06 04:00:00, number of deaths =  243, number of infected = 1850\n",
      "2020-07-03 17:42:10,357 - june.simulator - INFO - Date = 2020-06-06 08:00:00, number of deaths =  243, number of infected = 1839\n",
      "2020-07-03 17:42:11,375 - june.simulator - INFO - Date = 2020-06-06 12:00:00, number of deaths =  244, number of infected = 1831\n",
      "2020-07-03 17:42:12,730 - june.simulator - INFO - Date = 2020-06-07 00:00:00, number of deaths =  244, number of infected = 1762\n",
      "2020-07-03 17:42:14,199 - june.simulator - INFO - Date = 2020-06-07 04:00:00, number of deaths =  245, number of infected = 1741\n",
      "2020-07-03 17:42:15,307 - june.simulator - INFO - Date = 2020-06-07 08:00:00, number of deaths =  246, number of infected = 1718\n",
      "2020-07-03 17:42:16,226 - june.simulator - INFO - Date = 2020-06-07 12:00:00, number of deaths =  246, number of infected = 1700\n",
      "2020-07-03 17:42:17,214 - june.simulator - INFO - Date = 2020-06-08 00:00:00, number of deaths =  246, number of infected = 1637\n",
      "2020-07-03 17:42:18,396 - june.simulator - INFO - Date = 2020-06-08 01:00:00, number of deaths =  246, number of infected = 1634\n",
      "2020-07-03 17:42:19,644 - june.simulator - INFO - Date = 2020-06-08 05:00:00, number of deaths =  246, number of infected = 1616\n"
     ]
    }
   ],
   "source": [
    "%%time\n",
    "simulator.run()"
   ]
  },
  {
   "cell_type": "markdown",
   "metadata": {},
   "source": [
    "While the simulation runs (and afterwards) we can launch the visualization webpage by running\n",
    "```python june/visualizer.py path/to/results``` "
   ]
  },
  {
   "cell_type": "markdown",
   "metadata": {},
   "source": [
    "# Getting the results"
   ]
  },
  {
   "cell_type": "markdown",
   "metadata": {},
   "source": [
    "All results are stored in a json file specified in the ``save_path`` variable in the config file. We can also access it from ``world.logger`` directly."
   ]
  },
  {
   "cell_type": "code",
   "execution_count": null,
   "metadata": {},
   "outputs": [],
   "source": [
    "import pandas as pd"
   ]
  },
  {
   "cell_type": "code",
   "execution_count": null,
   "metadata": {},
   "outputs": [],
   "source": [
    "read = ReadLogger()"
   ]
  },
  {
   "cell_type": "markdown",
   "metadata": {},
   "source": [
    "## Hospital data and how it changed over time"
   ]
  },
  {
   "cell_type": "code",
   "execution_count": null,
   "metadata": {},
   "outputs": [],
   "source": [
    "hospitals_df = read.load_hospital_capacity()"
   ]
  },
  {
   "cell_type": "code",
   "execution_count": null,
   "metadata": {},
   "outputs": [],
   "source": [
    "hospitals_df.head(3)"
   ]
  },
  {
   "cell_type": "code",
   "execution_count": null,
   "metadata": {},
   "outputs": [],
   "source": [
    "hospitals_characteristics_df = read.load_hospital_characteristics()"
   ]
  },
  {
   "cell_type": "code",
   "execution_count": null,
   "metadata": {},
   "outputs": [],
   "source": [
    "hospitals_characteristics_df"
   ]
  },
  {
   "cell_type": "markdown",
   "metadata": {},
   "source": [
    "## where did infections happen?"
   ]
  },
  {
   "cell_type": "code",
   "execution_count": null,
   "metadata": {},
   "outputs": [],
   "source": [
    "loc_df = read.get_locations_infections()"
   ]
  },
  {
   "cell_type": "code",
   "execution_count": null,
   "metadata": {},
   "outputs": [],
   "source": [
    "locations_per_day = read.locations_df.groupby(pd.Grouper(freq='D')).sum()"
   ]
  },
  {
   "cell_type": "code",
   "execution_count": null,
   "metadata": {},
   "outputs": [],
   "source": [
    "all_infection_places = set(locations_per_day.location.sum())"
   ]
  },
  {
   "cell_type": "code",
   "execution_count": null,
   "metadata": {},
   "outputs": [],
   "source": [
    "def n_infections(row, infection_place):\n",
    "    return sum([row.counts[i] for i, x in enumerate(row.location) if x == infection_place])\n"
   ]
  },
  {
   "cell_type": "code",
   "execution_count": null,
   "metadata": {},
   "outputs": [],
   "source": [
    "for infection_place in all_infection_places:\n",
    "    locations_per_day[str(infection_place)] = locations_per_day.apply(\n",
    "        lambda x: n_infections(x, infection_place),\n",
    "        axis=1\n",
    "    )"
   ]
  },
  {
   "cell_type": "code",
   "execution_count": null,
   "metadata": {},
   "outputs": [],
   "source": [
    "locations_per_day = locations_per_day.drop(columns=['location',\n",
    "                                                    'counts'])"
   ]
  },
  {
   "cell_type": "code",
   "execution_count": null,
   "metadata": {},
   "outputs": [],
   "source": [
    "locations_per_day = locations_per_day.div(\n",
    "    locations_per_day.sum(axis=1), axis=0\n",
    ")\n"
   ]
  },
  {
   "cell_type": "code",
   "execution_count": null,
   "metadata": {},
   "outputs": [],
   "source": [
    "locations_per_day.plot.area( alpha=0.5)\n",
    "plt.legend(bbox_to_anchor=(1,1))\n",
    "plt.ylabel('Percent of infections')"
   ]
  },
  {
   "cell_type": "code",
   "execution_count": null,
   "metadata": {},
   "outputs": [],
   "source": [
    "from matplotlib import cm\n",
    "cmap = cm.get_cmap('Spectral') # Colour map (there are many others)\n",
    "\n",
    "locations_per_day.plot(figsize=(30,8), logy=True, ylim=(1e-3, 1), cmap=cmap)"
   ]
  },
  {
   "cell_type": "code",
   "execution_count": null,
   "metadata": {},
   "outputs": [],
   "source": [
    "import matplotlib.ticker as mtick\n",
    "\n",
    "ax = loc_df['percentage_infections'].sort_values().plot.bar()\n",
    "ax.yaxis.set_major_formatter(mtick.PercentFormatter())\n",
    "plt.ylabel('Percentage of infections at location')\n",
    "plt.xlabel('location')\n",
    "#plt.yscale('log')"
   ]
  },
  {
   "cell_type": "markdown",
   "metadata": {},
   "source": [
    "## rate of infection"
   ]
  },
  {
   "cell_type": "code",
   "execution_count": null,
   "metadata": {},
   "outputs": [],
   "source": [
    "r_df = read.get_r()"
   ]
  },
  {
   "cell_type": "code",
   "execution_count": null,
   "metadata": {},
   "outputs": [],
   "source": [
    "r_df.plot()\n",
    "plt.axvspan(policies.social_distancing_start, \n",
    "            policies.social_distancing_end,\n",
    "            facecolor='y', alpha=0.2)\n",
    "plt.axhline(y=1, linestyle='dashed', color='gray')\n",
    "plt.xlabel('Date')\n",
    "plt.yscale('log')\n",
    "plt.ylabel('R')"
   ]
  },
  {
   "cell_type": "markdown",
   "metadata": {},
   "source": [
    "## World infection curves, and by super area"
   ]
  },
  {
   "cell_type": "code",
   "execution_count": null,
   "metadata": {},
   "outputs": [],
   "source": [
    "world_df = read.world_summary()"
   ]
  },
  {
   "cell_type": "code",
   "execution_count": null,
   "metadata": {},
   "outputs": [],
   "source": [
    "fig, ax = plt.subplots()\n",
    "world_df['infected'].plot(ax=ax)\n",
    "ax.axvspan(policies.social_distancing_start, \n",
    "            policies.social_distancing_end,\n",
    "            facecolor='y', alpha=0.2)\n",
    "ax.set_ylabel('# Infected')"
   ]
  },
  {
   "cell_type": "code",
   "execution_count": null,
   "metadata": {},
   "outputs": [],
   "source": [
    "world_df.plot()\n",
    "plt.axvspan(policies.social_distancing_start, \n",
    "            policies.social_distancing_end,\n",
    "            facecolor='y', alpha=0.2)\n",
    "plt.legend(bbox_to_anchor=(1,1))\n"
   ]
  },
  {
   "cell_type": "code",
   "execution_count": null,
   "metadata": {},
   "outputs": [],
   "source": [
    "area_df = read.super_area_summary()"
   ]
  },
  {
   "cell_type": "code",
   "execution_count": null,
   "metadata": {},
   "outputs": [],
   "source": [
    "area_df[area_df.super_area == \"E02003282\"].plot()\n",
    "plt.legend(bbox_to_anchor=(1,1))\n",
    "\n"
   ]
  },
  {
   "cell_type": "markdown",
   "metadata": {},
   "source": [
    "## World infection curves per age group"
   ]
  },
  {
   "cell_type": "code",
   "execution_count": null,
   "metadata": {},
   "outputs": [],
   "source": [
    "ages_df = read.age_summary([0,10,20,30,40,\n",
    "                  50,60,70,80,90,100])"
   ]
  },
  {
   "cell_type": "code",
   "execution_count": null,
   "metadata": {},
   "outputs": [],
   "source": [
    "for name, group in ages_df.groupby('age_range'):\n",
    "    group['infected'].plot(label=name)\n",
    "plt.axvspan(policies.social_distancing_start, \n",
    "            policies.social_distancing_end,\n",
    "            facecolor='y', alpha=0.2)\n",
    "plt.legend(bbox_to_anchor=(1,1))\n"
   ]
  },
  {
   "cell_type": "code",
   "execution_count": null,
   "metadata": {},
   "outputs": [],
   "source": [
    "for name, group in ages_df.groupby('age_range'):\n",
    "    group['dead'].cumsum().plot(label=name)\n",
    "plt.legend()"
   ]
  },
  {
   "cell_type": "code",
   "execution_count": null,
   "metadata": {},
   "outputs": [],
   "source": [
    "for name, group in ages_df.groupby('age_range'):\n",
    "    group['susceptible'].plot(label=name)\n",
    "plt.legend()"
   ]
  },
  {
   "cell_type": "code",
   "execution_count": null,
   "metadata": {},
   "outputs": [],
   "source": [
    "for name, group in ages_df.groupby('age_range'):\n",
    "    group['hospital_admissions'].cumsum().plot(label=name)\n",
    "plt.legend()"
   ]
  },
  {
   "cell_type": "code",
   "execution_count": null,
   "metadata": {},
   "outputs": [],
   "source": [
    "for name, group in ages_df.groupby('age_range'):\n",
    "    group['intensive_care_admissions'].cumsum().plot(label=name)\n",
    "plt.legend()"
   ]
  },
  {
   "cell_type": "markdown",
   "metadata": {},
   "source": [
    "## Draw some of the symptoms trajectories"
   ]
  },
  {
   "cell_type": "code",
   "execution_count": null,
   "metadata": {},
   "outputs": [],
   "source": [
    "random_trajectories = read.draw_symptom_trajectories(window_length=600,\n",
    "                                        n_people=10)"
   ]
  },
  {
   "cell_type": "code",
   "execution_count": null,
   "metadata": {},
   "outputs": [],
   "source": [
    "from june.infection import SymptomTag"
   ]
  },
  {
   "cell_type": "code",
   "execution_count": null,
   "metadata": {},
   "outputs": [],
   "source": [
    "symptoms_values = [tag.value for tag in SymptomTag]\n",
    "symptoms_names = [tag.name for tag in SymptomTag]\n"
   ]
  },
  {
   "cell_type": "code",
   "execution_count": null,
   "metadata": {},
   "outputs": [],
   "source": [
    "for df_person in random_trajectories:\n",
    "    df_person['symptoms'].plot()\n",
    "plt.ylabel('Symptoms Trajectory')\n",
    "_ = plt.yticks(symptoms_values, symptoms_names)\n",
    "plt.xlabel('Date')"
   ]
  },
  {
   "cell_type": "code",
   "execution_count": null,
   "metadata": {},
   "outputs": [],
   "source": [
    "for df_person in random_trajectories:\n",
    "    df_person['n_secondary_infections'].plot()\n",
    "plt.ylabel('Number of secondary infections')\n",
    "\n",
    "plt.xlabel('Date')"
   ]
  },
  {
   "cell_type": "code",
   "execution_count": null,
   "metadata": {},
   "outputs": [],
   "source": []
  },
  {
   "cell_type": "code",
   "execution_count": null,
   "metadata": {},
   "outputs": [],
   "source": []
  },
  {
   "cell_type": "code",
   "execution_count": null,
   "metadata": {},
   "outputs": [],
   "source": []
  },
  {
   "cell_type": "code",
   "execution_count": null,
   "metadata": {},
   "outputs": [],
   "source": []
  },
  {
   "cell_type": "code",
   "execution_count": null,
   "metadata": {},
   "outputs": [],
   "source": []
  }
 ],
 "metadata": {
  "kernelspec": {
   "display_name": "Python 3",
   "language": "python",
   "name": "python3"
  },
  "language_info": {
   "codemirror_mode": {
    "name": "ipython",
    "version": 3
   },
   "file_extension": ".py",
   "mimetype": "text/x-python",
   "name": "python",
   "nbconvert_exporter": "python",
   "pygments_lexer": "ipython3",
   "version": "3.8.3"
  }
 },
 "nbformat": 4,
 "nbformat_minor": 4
}
