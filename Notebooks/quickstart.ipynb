{
 "cells": [
  {
   "cell_type": "code",
   "execution_count": 1,
   "metadata": {},
   "outputs": [],
   "source": [
    "%load_ext autoreload\n",
    "%autoreload 2"
   ]
  },
  {
   "cell_type": "code",
   "execution_count": 2,
   "metadata": {},
   "outputs": [],
   "source": [
    "import numpy as np\n",
    "import time\n",
    "from datetime import datetime\n",
    "import matplotlib.pyplot as plt\n",
    "import seaborn as sns\n",
    "sns.set_context('notebook')"
   ]
  },
  {
   "cell_type": "code",
   "execution_count": 3,
   "metadata": {},
   "outputs": [
    {
     "name": "stderr",
     "output_type": "stream",
     "text": [
      "No --data argument given - defaulting to:\n",
      "/home/florpi/JUNE/data\n",
      "No --configs argument given - defaulting to:\n",
      "/home/florpi/JUNE/configs\n"
     ]
    }
   ],
   "source": [
    "from june import World \n",
    "from june.demography.geography import Geography\n",
    "from june.demography import Demography\n",
    "from june.interaction import ContactAveraging\n",
    "from june.infection import Infection, HealthIndexGenerator\n",
    "from june.infection.transmission import TransmissionConstant\n",
    "from june.groups import Hospitals, Schools, Companies, Households, CareHomes, Cemeteries, Universities\n",
    "from june.groups.leisure import generate_leisure_for_config, Cinemas, Pubs, Groceries\n",
    "from june.simulator import Simulator\n",
    "from june.infection_seed import InfectionSeed\n",
    "from june.policy import Policy, Policies\n",
    "from june import paths\n",
    "from june.hdf5_savers import load_geography_from_hdf5\n",
    "from june.logger.read_logger import ReadLogger\n",
    "from june.infection.infection import InfectionSelector\n",
    "from june.world import generate_world_from_hdf5, generate_world_from_geography"
   ]
  },
  {
   "cell_type": "markdown",
   "metadata": {},
   "source": [
    "# Initialize world\n",
    "\n",
    "To initialize a certain world, we need to add the different components we want to have in it. First we specify what super areas (msoa) we want to create. We have included these ones, because they are known to contain hospitals, schools, care homes, and companies.\n",
    "\n",
    "After creating the geography, we create the different components the worlds need to have such as care homes, companies ..."
   ]
  },
  {
   "cell_type": "code",
   "execution_count": 4,
   "metadata": {},
   "outputs": [],
   "source": [
    "CONFIG_PATH = \"../configs/config_example.yaml\""
   ]
  },
  {
   "cell_type": "code",
   "execution_count": 5,
   "metadata": {},
   "outputs": [
    {
     "name": "stdout",
     "output_type": "stream",
     "text": [
      "2020-07-21 18:04:37,800 - june.demography.geography - INFO - There are 129 areas and 5 super_areas in the world.\n",
      "2020-07-21 18:04:37,808 - june.groups.hospital - INFO - There are 1 hospitals in this geography.\n",
      "2020-07-21 18:04:37,873 - june.groups.school - INFO - There are 19 schools in this geography.\n",
      "2020-07-21 18:04:37,923 - june.groups.school - INFO - No school for the age 0 in this world.\n",
      "2020-07-21 18:04:37,928 - june.groups.school - INFO - No school for the age 1 in this world.\n",
      "2020-07-21 18:04:37,934 - june.groups.school - INFO - No school for the age 2 in this world.\n",
      "2020-07-21 18:04:38,304 - june.groups.carehome - INFO - There are 9 care_homes in this geography.\n",
      "2020-07-21 18:04:47,234 - numexpr.utils - INFO - NumExpr defaulting to 4 threads.\n",
      "2020-07-21 18:04:53,427 - june.distributors.worker_distributor - INFO - There are 0 who had to be told to stay real\n",
      "CPU times: user 41 s, sys: 2 s, total: 43 s\n",
      "Wall time: 44.5 s\n"
     ]
    }
   ],
   "source": [
    "%%time \n",
    "\n",
    "geography = Geography.from_file(\n",
    "        {\n",
    "            \"super_area\": [\n",
    "                \"E02003282\",\n",
    "                \"E02001720\",\n",
    "                \"E02002560\",\n",
    "                \"E02002559\",\n",
    "                \"E02004314\",\n",
    "            ]\n",
    "        }\n",
    ")\n",
    "\n",
    "geography.hospitals = Hospitals.for_geography(geography)\n",
    "geography.schools = Schools.for_geography(geography)\n",
    "geography.companies = Companies.for_geography(geography)\n",
    "geography.care_homes = CareHomes.for_geography(geography)\n",
    "geography.universities = Universities.for_super_areas(geography.super_areas)\n",
    "world = generate_world_from_geography(geography, include_households=True, include_commute=True)"
   ]
  },
  {
   "cell_type": "markdown",
   "metadata": {},
   "source": [
    "## Commute, travel and leisure"
   ]
  },
  {
   "cell_type": "code",
   "execution_count": 6,
   "metadata": {},
   "outputs": [],
   "source": [
    "world.pubs = Pubs.for_geography(geography)\n",
    "world.cinemas = Cinemas.for_geography(geography)\n",
    "world.groceries = Groceries.for_geography(geography)\n",
    "leisure = generate_leisure_for_config(world, config_filename=CONFIG_PATH)\n",
    "leisure.distribute_social_venues_to_households(world.households) # this assigns possible social venues to people."
   ]
  },
  {
   "cell_type": "markdown",
   "metadata": {},
   "source": [
    "We are also going to need some cemeteries...geography.cemeteries = Cemeteries()\n"
   ]
  },
  {
   "cell_type": "code",
   "execution_count": 7,
   "metadata": {},
   "outputs": [],
   "source": [
    "world.cemeteries = Cemeteries()"
   ]
  },
  {
   "cell_type": "code",
   "execution_count": 8,
   "metadata": {},
   "outputs": [
    {
     "data": {
      "text/plain": [
       "46784"
      ]
     },
     "execution_count": 8,
     "metadata": {},
     "output_type": "execute_result"
    }
   ],
   "source": [
    "len(world.people)"
   ]
  },
  {
   "cell_type": "markdown",
   "metadata": {},
   "source": [
    "### If it took a long time to run the previous commands, it might be a good idea to save the world to reuse it later."
   ]
  },
  {
   "cell_type": "code",
   "execution_count": 9,
   "metadata": {},
   "outputs": [],
   "source": [
    "world.to_hdf5(\"world.hdf5\")"
   ]
  },
  {
   "cell_type": "markdown",
   "metadata": {},
   "source": [
    "If we would like to load the world we saved, we just do"
   ]
  },
  {
   "cell_type": "code",
   "execution_count": 10,
   "metadata": {},
   "outputs": [
    {
     "name": "stdout",
     "output_type": "stream",
     "text": [
      "loading population from hdf5 .\n",
      "loading companies from hdf5 .\n",
      "loading households from hdf5 ."
     ]
    },
    {
     "name": "stderr",
     "output_type": "stream",
     "text": [
      "\r",
      "  0%|          | 0/46784 [00:00<?, ?it/s]"
     ]
    },
    {
     "name": "stdout",
     "output_type": "stream",
     "text": [
      "\n",
      "restoring world...\n"
     ]
    },
    {
     "name": "stderr",
     "output_type": "stream",
     "text": [
      "100%|██████████| 46784/46784 [00:01<00:00, 41528.16it/s]\n"
     ]
    }
   ],
   "source": [
    "world = generate_world_from_hdf5(\"world.hdf5\")"
   ]
  },
  {
   "cell_type": "code",
   "execution_count": 11,
   "metadata": {},
   "outputs": [
    {
     "data": {
      "text/plain": [
       "<june.groups.leisure.pub.Pubs at 0x7f8f31d9cb20>"
      ]
     },
     "execution_count": 11,
     "metadata": {},
     "output_type": "execute_result"
    }
   ],
   "source": [
    "world.pubs"
   ]
  },
  {
   "cell_type": "code",
   "execution_count": 12,
   "metadata": {},
   "outputs": [],
   "source": [
    "# and regenerate leisure in case we load it externally\n",
    "leisure = generate_leisure_for_config(world, CONFIG_PATH)"
   ]
  },
  {
   "cell_type": "markdown",
   "metadata": {},
   "source": [
    "you have now a beautiful pre-pandemic world. "
   ]
  },
  {
   "cell_type": "markdown",
   "metadata": {},
   "source": [
    "# Adding the infection"
   ]
  },
  {
   "cell_type": "markdown",
   "metadata": {},
   "source": [
    "Now, you can play around with different models of infections. The building blocks for an infection are: Transmission and Symptoms. For now, only SymptomsConstant and TransmissionConstant are in a state to be used."
   ]
  },
  {
   "cell_type": "code",
   "execution_count": 13,
   "metadata": {},
   "outputs": [],
   "source": [
    "health_index_generator = HealthIndexGenerator.from_file(asymptomatic_ratio=0.2)\n",
    "selector = InfectionSelector.from_file(health_index_generator=health_index_generator)"
   ]
  },
  {
   "cell_type": "code",
   "execution_count": 14,
   "metadata": {},
   "outputs": [
    {
     "data": {
      "text/plain": [
       "0.2"
      ]
     },
     "execution_count": 14,
     "metadata": {},
     "output_type": "execute_result"
    }
   ],
   "source": [
    "selector.health_index_generator.asymptomatic_ratio"
   ]
  },
  {
   "cell_type": "markdown",
   "metadata": {},
   "source": [
    "# Adding the interaction"
   ]
  },
  {
   "cell_type": "code",
   "execution_count": 15,
   "metadata": {},
   "outputs": [],
   "source": [
    "interaction = ContactAveraging.from_file(selector=selector)"
   ]
  },
  {
   "cell_type": "markdown",
   "metadata": {},
   "source": [
    "Beta are the intensities of the interaction taking place at the different groups"
   ]
  },
  {
   "cell_type": "code",
   "execution_count": 16,
   "metadata": {},
   "outputs": [
    {
     "data": {
      "text/plain": [
       "{'box': 1,\n",
       " 'pub': 0.1,\n",
       " 'grocery': 0.1,\n",
       " 'cinema': 0.1,\n",
       " 'commute_unit': 1.0,\n",
       " 'commute_city_unit': 1.0,\n",
       " 'hospital': 1.0,\n",
       " 'care_home': 1.0,\n",
       " 'company': 0.1,\n",
       " 'school': 0.1,\n",
       " 'household': 0.2,\n",
       " 'university': 0.01}"
      ]
     },
     "execution_count": 16,
     "metadata": {},
     "output_type": "execute_result"
    }
   ],
   "source": [
    "interaction.beta"
   ]
  },
  {
   "cell_type": "markdown",
   "metadata": {},
   "source": [
    "to modify these, simply do"
   ]
  },
  {
   "cell_type": "code",
   "execution_count": 17,
   "metadata": {},
   "outputs": [],
   "source": [
    "for key in interaction.beta.keys():\n",
    "    interaction.beta[key] *= 2"
   ]
  },
  {
   "cell_type": "code",
   "execution_count": 18,
   "metadata": {},
   "outputs": [
    {
     "data": {
      "text/plain": [
       "{'box': 2,\n",
       " 'pub': 0.2,\n",
       " 'grocery': 0.2,\n",
       " 'cinema': 0.2,\n",
       " 'commute_unit': 2.0,\n",
       " 'commute_city_unit': 2.0,\n",
       " 'hospital': 2.0,\n",
       " 'care_home': 2.0,\n",
       " 'company': 0.2,\n",
       " 'school': 0.2,\n",
       " 'household': 0.4,\n",
       " 'university': 0.02}"
      ]
     },
     "execution_count": 18,
     "metadata": {},
     "output_type": "execute_result"
    }
   ],
   "source": [
    "interaction.beta"
   ]
  },
  {
   "cell_type": "markdown",
   "metadata": {},
   "source": [
    "moreover this interaction module uses contact matrices, that are different for different groups. These contact matrices shouldnt be modified for now. However they are a combination of conversational contact matrices, and physical contact matrices (see the BBC pandemic paper, from where these matrices are extracted https://www.medrxiv.org/content/10.1101/2020.02.16.20023754v2)\n",
    "\n",
    "There is a parameter, ``alpha`` ($\\alpha$), that combines these two matrices in the following way,\n",
    "\n",
    "\n",
    "$\\beta M \\left(1 + (\\alpha -1) \\right) P$\n",
    "\n",
    "where $\\beta$ is the intensity of the interaction, and $P$ the physical contact matrix. A larger $\\alpha$ produces more physical contacts. It is an overall number, non dependent of the particular group.\n"
   ]
  },
  {
   "cell_type": "code",
   "execution_count": 19,
   "metadata": {},
   "outputs": [
    {
     "data": {
      "text/plain": [
       "2.0"
      ]
     },
     "execution_count": 19,
     "metadata": {},
     "output_type": "execute_result"
    }
   ],
   "source": [
    "interaction.alpha_physical"
   ]
  },
  {
   "cell_type": "markdown",
   "metadata": {},
   "source": [
    "# Seed the disease"
   ]
  },
  {
   "cell_type": "markdown",
   "metadata": {},
   "source": [
    "There are two options implemented in the seed at the moment, either you specify the number of cases and these are then homogeneously distributed by population to the different areas, or you use UK data on cases per region. For now use the first case."
   ]
  },
  {
   "cell_type": "code",
   "execution_count": 20,
   "metadata": {},
   "outputs": [],
   "source": [
    "infection_seed = InfectionSeed(\n",
    "    world.super_areas, selector,\n",
    ")"
   ]
  },
  {
   "cell_type": "code",
   "execution_count": 21,
   "metadata": {},
   "outputs": [],
   "source": [
    "n_cases = 50\n",
    "infection_seed.unleash_virus(n_cases) # play around with the initial number of cases"
   ]
  },
  {
   "cell_type": "markdown",
   "metadata": {},
   "source": [
    "# Set policies"
   ]
  },
  {
   "cell_type": "code",
   "execution_count": 22,
   "metadata": {},
   "outputs": [],
   "source": [
    "policies = Policies.from_file()"
   ]
  },
  {
   "cell_type": "markdown",
   "metadata": {},
   "source": [
    "# Run the simulation"
   ]
  },
  {
   "cell_type": "markdown",
   "metadata": {},
   "source": [
    "Since the timer configuration is a bit cumbersome, it is read from the config file at ``configs/config_example.yaml``"
   ]
  },
  {
   "cell_type": "code",
   "execution_count": 23,
   "metadata": {},
   "outputs": [],
   "source": [
    "simulator = Simulator.from_file(\n",
    "     world, interaction, \n",
    "    config_filename = CONFIG_PATH,\n",
    "    leisure = leisure,\n",
    "    policies = policies\n",
    ")"
   ]
  },
  {
   "cell_type": "code",
   "execution_count": 24,
   "metadata": {
    "scrolled": true
   },
   "outputs": [
    {
     "name": "stdout",
     "output_type": "stream",
     "text": [
      "2020-07-21 18:05:47,653 - june.simulator - INFO - Starting group_dynamics for 250 days at day 0\n",
      "2020-07-21 18:05:47,655 - june.simulator - INFO - starting the loop ..., at 0 days, to run for 250 days\n",
      "2020-07-21 18:05:49,164 - june.simulator - INFO - Date = 2020-03-01 04:00:00, number of deaths =  0, number of infected = 50\n",
      "2020-07-21 18:05:50,166 - june.simulator - INFO - Date = 2020-03-01 08:00:00, number of deaths =  0, number of infected = 50\n",
      "2020-07-21 18:05:50,768 - june.simulator - INFO - Date = 2020-03-01 12:00:00, number of deaths =  0, number of infected = 50\n",
      "2020-07-21 18:05:51,450 - june.simulator - INFO - Date = 2020-03-02 00:00:00, number of deaths =  0, number of infected = 50\n",
      "2020-07-21 18:05:52,101 - june.simulator - INFO - Date = 2020-03-02 01:00:00, number of deaths =  0, number of infected = 51\n",
      "2020-07-21 18:05:52,570 - june.simulator - INFO - Date = 2020-03-02 09:00:00, number of deaths =  0, number of infected = 52\n",
      "2020-07-21 18:05:53,584 - june.simulator - INFO - Date = 2020-03-02 10:00:00, number of deaths =  0, number of infected = 52\n",
      "2020-07-21 18:05:54,201 - june.simulator - INFO - Date = 2020-03-02 13:00:00, number of deaths =  0, number of infected = 53\n",
      "2020-07-21 18:05:54,897 - june.simulator - INFO - Date = 2020-03-03 00:00:00, number of deaths =  0, number of infected = 59\n",
      "2020-07-21 18:05:55,646 - june.simulator - INFO - Date = 2020-03-03 01:00:00, number of deaths =  0, number of infected = 59\n",
      "2020-07-21 18:05:56,131 - june.simulator - INFO - Date = 2020-03-03 09:00:00, number of deaths =  0, number of infected = 63\n",
      "2020-07-21 18:05:56,963 - june.simulator - INFO - Date = 2020-03-03 10:00:00, number of deaths =  0, number of infected = 63\n",
      "2020-07-21 18:05:57,554 - june.simulator - INFO - Date = 2020-03-03 13:00:00, number of deaths =  0, number of infected = 65\n",
      "2020-07-21 18:05:58,239 - june.simulator - INFO - Date = 2020-03-04 00:00:00, number of deaths =  0, number of infected = 72\n",
      "2020-07-21 18:05:58,966 - june.simulator - INFO - Date = 2020-03-04 01:00:00, number of deaths =  0, number of infected = 72\n",
      "2020-07-21 18:05:59,451 - june.simulator - INFO - Date = 2020-03-04 09:00:00, number of deaths =  0, number of infected = 77\n",
      "2020-07-21 18:06:00,472 - june.simulator - INFO - Date = 2020-03-04 10:00:00, number of deaths =  0, number of infected = 78\n",
      "2020-07-21 18:06:01,088 - june.simulator - INFO - Date = 2020-03-04 13:00:00, number of deaths =  0, number of infected = 78\n",
      "2020-07-21 18:06:01,785 - june.simulator - INFO - Date = 2020-03-05 00:00:00, number of deaths =  0, number of infected = 87\n",
      "2020-07-21 18:06:02,530 - june.simulator - INFO - Date = 2020-03-05 01:00:00, number of deaths =  0, number of infected = 88\n",
      "2020-07-21 18:06:03,046 - june.simulator - INFO - Date = 2020-03-05 09:00:00, number of deaths =  0, number of infected = 98\n",
      "2020-07-21 18:06:04,056 - june.simulator - INFO - Date = 2020-03-05 10:00:00, number of deaths =  0, number of infected = 99\n",
      "2020-07-21 18:06:04,646 - june.simulator - INFO - Date = 2020-03-05 13:00:00, number of deaths =  0, number of infected = 102\n",
      "2020-07-21 18:06:05,252 - june.simulator - INFO - Date = 2020-03-06 00:00:00, number of deaths =  0, number of infected = 119\n",
      "2020-07-21 18:06:05,914 - june.simulator - INFO - Date = 2020-03-06 01:00:00, number of deaths =  0, number of infected = 120\n",
      "2020-07-21 18:06:06,395 - june.simulator - INFO - Date = 2020-03-06 09:00:00, number of deaths =  0, number of infected = 131\n",
      "2020-07-21 18:06:07,207 - june.simulator - INFO - Date = 2020-03-06 10:00:00, number of deaths =  0, number of infected = 132\n",
      "2020-07-21 18:06:07,757 - june.simulator - INFO - Date = 2020-03-06 13:00:00, number of deaths =  0, number of infected = 134\n",
      "2020-07-21 18:06:08,766 - june.simulator - INFO - Date = 2020-03-07 00:00:00, number of deaths =  0, number of infected = 152\n",
      "2020-07-21 18:06:09,771 - june.simulator - INFO - Date = 2020-03-07 04:00:00, number of deaths =  0, number of infected = 160\n",
      "2020-07-21 18:06:10,745 - june.simulator - INFO - Date = 2020-03-07 08:00:00, number of deaths =  0, number of infected = 167\n",
      "2020-07-21 18:06:11,400 - june.simulator - INFO - Date = 2020-03-07 12:00:00, number of deaths =  0, number of infected = 172\n",
      "2020-07-21 18:06:12,335 - june.simulator - INFO - Date = 2020-03-08 00:00:00, number of deaths =  0, number of infected = 187\n",
      "2020-07-21 18:06:13,132 - june.simulator - INFO - Date = 2020-03-08 04:00:00, number of deaths =  0, number of infected = 196\n",
      "2020-07-21 18:06:13,977 - june.simulator - INFO - Date = 2020-03-08 08:00:00, number of deaths =  0, number of infected = 206\n",
      "2020-07-21 18:06:14,569 - june.simulator - INFO - Date = 2020-03-08 12:00:00, number of deaths =  0, number of infected = 218\n",
      "2020-07-21 18:06:15,250 - june.simulator - INFO - Date = 2020-03-09 00:00:00, number of deaths =  0, number of infected = 243\n",
      "2020-07-21 18:06:15,980 - june.simulator - INFO - Date = 2020-03-09 01:00:00, number of deaths =  0, number of infected = 245\n",
      "2020-07-21 18:06:16,578 - june.simulator - INFO - Date = 2020-03-09 09:00:00, number of deaths =  0, number of infected = 287\n",
      "2020-07-21 18:06:17,373 - june.simulator - INFO - Date = 2020-03-09 10:00:00, number of deaths =  0, number of infected = 288\n",
      "2020-07-21 18:06:17,944 - june.simulator - INFO - Date = 2020-03-09 13:00:00, number of deaths =  0, number of infected = 298\n",
      "2020-07-21 18:06:18,647 - june.simulator - INFO - Date = 2020-03-10 00:00:00, number of deaths =  0, number of infected = 327\n",
      "2020-07-21 18:06:19,392 - june.simulator - INFO - Date = 2020-03-10 01:00:00, number of deaths =  0, number of infected = 330\n",
      "2020-07-21 18:06:19,986 - june.simulator - INFO - Date = 2020-03-10 09:00:00, number of deaths =  0, number of infected = 361\n",
      "2020-07-21 18:06:20,982 - june.simulator - INFO - Date = 2020-03-10 10:00:00, number of deaths =  0, number of infected = 364\n",
      "2020-07-21 18:06:21,618 - june.simulator - INFO - Date = 2020-03-10 13:00:00, number of deaths =  0, number of infected = 374\n",
      "2020-07-21 18:06:22,302 - june.simulator - INFO - Date = 2020-03-11 00:00:00, number of deaths =  0, number of infected = 402\n",
      "2020-07-21 18:06:22,923 - june.simulator - INFO - Date = 2020-03-11 01:00:00, number of deaths =  0, number of infected = 405\n",
      "2020-07-21 18:06:23,537 - june.simulator - INFO - Date = 2020-03-11 09:00:00, number of deaths =  0, number of infected = 453\n",
      "2020-07-21 18:06:24,405 - june.simulator - INFO - Date = 2020-03-11 10:00:00, number of deaths =  0, number of infected = 464\n",
      "2020-07-21 18:06:25,006 - june.simulator - INFO - Date = 2020-03-11 13:00:00, number of deaths =  0, number of infected = 485\n",
      "2020-07-21 18:06:25,674 - june.simulator - INFO - Date = 2020-03-12 00:00:00, number of deaths =  0, number of infected = 516\n",
      "2020-07-21 18:06:26,493 - june.simulator - INFO - Date = 2020-03-12 01:00:00, number of deaths =  0, number of infected = 529\n",
      "2020-07-21 18:06:27,152 - june.simulator - INFO - Date = 2020-03-12 09:00:00, number of deaths =  0, number of infected = 596\n",
      "2020-07-21 18:06:28,023 - june.simulator - INFO - Date = 2020-03-12 10:00:00, number of deaths =  0, number of infected = 613\n",
      "2020-07-21 18:06:28,688 - june.simulator - INFO - Date = 2020-03-12 13:00:00, number of deaths =  0, number of infected = 624\n",
      "2020-07-21 18:06:29,548 - june.simulator - INFO - Date = 2020-03-13 00:00:00, number of deaths =  0, number of infected = 673\n",
      "2020-07-21 18:06:30,313 - june.simulator - INFO - Date = 2020-03-13 01:00:00, number of deaths =  0, number of infected = 705\n",
      "2020-07-21 18:06:31,731 - june.simulator - INFO - Date = 2020-03-13 09:00:00, number of deaths =  0, number of infected = 827\n",
      "2020-07-21 18:06:32,860 - june.simulator - INFO - Date = 2020-03-13 10:00:00, number of deaths =  0, number of infected = 856\n",
      "2020-07-21 18:06:33,646 - june.simulator - INFO - Date = 2020-03-13 13:00:00, number of deaths =  0, number of infected = 887\n",
      "2020-07-21 18:06:34,827 - june.simulator - INFO - Date = 2020-03-14 00:00:00, number of deaths =  0, number of infected = 955\n",
      "2020-07-21 18:06:35,951 - june.simulator - INFO - Date = 2020-03-14 04:00:00, number of deaths =  0, number of infected = 986\n",
      "2020-07-21 18:06:37,096 - june.simulator - INFO - Date = 2020-03-14 08:00:00, number of deaths =  0, number of infected = 1030\n"
     ]
    },
    {
     "name": "stdout",
     "output_type": "stream",
     "text": [
      "2020-07-21 18:06:37,789 - june.simulator - INFO - Date = 2020-03-14 12:00:00, number of deaths =  0, number of infected = 1073\n",
      "2020-07-21 18:06:39,072 - june.simulator - INFO - Date = 2020-03-15 00:00:00, number of deaths =  0, number of infected = 1143\n",
      "2020-07-21 18:06:40,131 - june.simulator - INFO - Date = 2020-03-15 04:00:00, number of deaths =  0, number of infected = 1196\n",
      "2020-07-21 18:06:41,117 - june.simulator - INFO - Date = 2020-03-15 08:00:00, number of deaths =  0, number of infected = 1243\n",
      "2020-07-21 18:06:41,844 - june.simulator - INFO - Date = 2020-03-15 12:00:00, number of deaths =  0, number of infected = 1294\n",
      "2020-07-21 18:06:43,038 - june.simulator - INFO - Date = 2020-03-16 00:00:00, number of deaths =  0, number of infected = 1392\n",
      "2020-07-21 18:06:44,380 - june.simulator - INFO - Date = 2020-03-16 01:00:00, number of deaths =  0, number of infected = 1451\n",
      "2020-07-21 18:06:45,418 - june.simulator - INFO - Date = 2020-03-16 09:00:00, number of deaths =  0, number of infected = 1539\n",
      "2020-07-21 18:06:46,731 - june.simulator - INFO - Date = 2020-03-16 10:00:00, number of deaths =  0, number of infected = 1594\n",
      "2020-07-21 18:06:47,762 - june.simulator - INFO - Date = 2020-03-16 13:00:00, number of deaths =  0, number of infected = 1656\n",
      "2020-07-21 18:06:48,916 - june.simulator - INFO - Date = 2020-03-17 00:00:00, number of deaths =  0, number of infected = 1736\n",
      "2020-07-21 18:06:50,363 - june.simulator - INFO - Date = 2020-03-17 01:00:00, number of deaths =  1, number of infected = 1777\n",
      "2020-07-21 18:06:51,590 - june.simulator - INFO - Date = 2020-03-17 09:00:00, number of deaths =  1, number of infected = 1861\n",
      "2020-07-21 18:06:52,878 - june.simulator - INFO - Date = 2020-03-17 10:00:00, number of deaths =  1, number of infected = 1914\n",
      "2020-07-21 18:06:53,893 - june.simulator - INFO - Date = 2020-03-17 13:00:00, number of deaths =  1, number of infected = 1973\n",
      "2020-07-21 18:06:55,282 - june.simulator - INFO - Date = 2020-03-18 00:00:00, number of deaths =  1, number of infected = 2068\n",
      "2020-07-21 18:06:56,384 - june.simulator - INFO - Date = 2020-03-18 01:00:00, number of deaths =  1, number of infected = 2107\n",
      "2020-07-21 18:06:57,492 - june.simulator - INFO - Date = 2020-03-18 09:00:00, number of deaths =  1, number of infected = 2193\n",
      "2020-07-21 18:06:58,919 - june.simulator - INFO - Date = 2020-03-18 10:00:00, number of deaths =  1, number of infected = 2236\n",
      "2020-07-21 18:07:00,096 - june.simulator - INFO - Date = 2020-03-18 13:00:00, number of deaths =  1, number of infected = 2274\n",
      "2020-07-21 18:07:01,416 - june.simulator - INFO - Date = 2020-03-19 00:00:00, number of deaths =  1, number of infected = 2414\n",
      "2020-07-21 18:07:02,566 - june.simulator - INFO - Date = 2020-03-19 01:00:00, number of deaths =  1, number of infected = 2439\n",
      "2020-07-21 18:07:04,052 - june.simulator - INFO - Date = 2020-03-19 09:00:00, number of deaths =  1, number of infected = 2584\n",
      "2020-07-21 18:07:05,629 - june.simulator - INFO - Date = 2020-03-19 10:00:00, number of deaths =  1, number of infected = 2618\n",
      "2020-07-21 18:07:07,017 - june.simulator - INFO - Date = 2020-03-19 13:00:00, number of deaths =  1, number of infected = 2679\n",
      "2020-07-21 18:07:08,855 - june.simulator - INFO - Date = 2020-03-20 00:00:00, number of deaths =  1, number of infected = 2832\n",
      "2020-07-21 18:07:10,586 - june.simulator - INFO - Date = 2020-03-20 01:00:00, number of deaths =  1, number of infected = 2850\n",
      "2020-07-21 18:07:12,484 - june.simulator - INFO - Date = 2020-03-20 09:00:00, number of deaths =  1, number of infected = 3028\n",
      "2020-07-21 18:07:14,479 - june.simulator - INFO - Date = 2020-03-20 10:00:00, number of deaths =  1, number of infected = 3041\n",
      "2020-07-21 18:07:15,777 - june.simulator - INFO - Date = 2020-03-20 13:00:00, number of deaths =  1, number of infected = 3092\n",
      "2020-07-21 18:07:17,905 - june.simulator - INFO - Date = 2020-03-21 00:00:00, number of deaths =  1, number of infected = 3278\n",
      "2020-07-21 18:07:19,654 - june.simulator - INFO - Date = 2020-03-21 04:00:00, number of deaths =  1, number of infected = 3342\n",
      "2020-07-21 18:07:21,111 - june.simulator - INFO - Date = 2020-03-21 08:00:00, number of deaths =  1, number of infected = 3418\n",
      "2020-07-21 18:07:22,374 - june.simulator - INFO - Date = 2020-03-21 12:00:00, number of deaths =  1, number of infected = 3482\n",
      "2020-07-21 18:07:24,196 - june.simulator - INFO - Date = 2020-03-22 00:00:00, number of deaths =  1, number of infected = 3662\n",
      "2020-07-21 18:07:25,642 - june.simulator - INFO - Date = 2020-03-22 04:00:00, number of deaths =  1, number of infected = 3728\n",
      "2020-07-21 18:07:27,104 - june.simulator - INFO - Date = 2020-03-22 08:00:00, number of deaths =  1, number of infected = 3800\n",
      "2020-07-21 18:07:28,312 - june.simulator - INFO - Date = 2020-03-22 12:00:00, number of deaths =  2, number of infected = 3862\n",
      "2020-07-21 18:07:29,836 - june.simulator - INFO - Date = 2020-03-23 00:00:00, number of deaths =  2, number of infected = 3998\n",
      "2020-07-21 18:07:31,222 - june.simulator - INFO - Date = 2020-03-23 01:00:00, number of deaths =  2, number of infected = 4020\n",
      "2020-07-21 18:07:32,706 - june.simulator - INFO - Date = 2020-03-23 09:00:00, number of deaths =  2, number of infected = 4192\n",
      "2020-07-21 18:07:33,751 - june.simulator - INFO - Date = 2020-03-23 10:00:00, number of deaths =  2, number of infected = 4202\n",
      "2020-07-21 18:07:34,769 - june.simulator - INFO - Date = 2020-03-23 13:00:00, number of deaths =  2, number of infected = 4254\n",
      "2020-07-21 18:07:36,246 - june.simulator - INFO - Date = 2020-03-24 00:00:00, number of deaths =  2, number of infected = 4431\n",
      "2020-07-21 18:07:37,667 - june.simulator - INFO - Date = 2020-03-24 01:00:00, number of deaths =  2, number of infected = 4448\n",
      "2020-07-21 18:07:39,287 - june.simulator - INFO - Date = 2020-03-24 09:00:00, number of deaths =  3, number of infected = 4624\n",
      "2020-07-21 18:07:40,373 - june.simulator - INFO - Date = 2020-03-24 10:00:00, number of deaths =  3, number of infected = 4639\n",
      "2020-07-21 18:07:41,386 - june.simulator - INFO - Date = 2020-03-24 13:00:00, number of deaths =  3, number of infected = 4690\n",
      "2020-07-21 18:07:42,656 - june.simulator - INFO - Date = 2020-03-25 00:00:00, number of deaths =  3, number of infected = 4813\n",
      "2020-07-21 18:07:43,854 - june.simulator - INFO - Date = 2020-03-25 01:00:00, number of deaths =  3, number of infected = 4829\n",
      "2020-07-21 18:07:45,453 - june.simulator - INFO - Date = 2020-03-25 09:00:00, number of deaths =  3, number of infected = 4976\n",
      "2020-07-21 18:07:46,734 - june.simulator - INFO - Date = 2020-03-25 10:00:00, number of deaths =  3, number of infected = 4985\n",
      "2020-07-21 18:07:47,889 - june.simulator - INFO - Date = 2020-03-25 13:00:00, number of deaths =  3, number of infected = 5044\n",
      "2020-07-21 18:07:49,360 - june.simulator - INFO - Date = 2020-03-26 00:00:00, number of deaths =  4, number of infected = 5211\n",
      "2020-07-21 18:07:50,840 - june.simulator - INFO - Date = 2020-03-26 01:00:00, number of deaths =  4, number of infected = 5225\n",
      "2020-07-21 18:07:52,734 - june.simulator - INFO - Date = 2020-03-26 09:00:00, number of deaths =  4, number of infected = 5392\n",
      "2020-07-21 18:07:53,841 - june.simulator - INFO - Date = 2020-03-26 10:00:00, number of deaths =  4, number of infected = 5402\n",
      "2020-07-21 18:07:55,024 - june.simulator - INFO - Date = 2020-03-26 13:00:00, number of deaths =  4, number of infected = 5458\n",
      "2020-07-21 18:07:56,481 - june.simulator - INFO - Date = 2020-03-27 00:00:00, number of deaths =  4, number of infected = 5612\n",
      "2020-07-21 18:07:57,661 - june.simulator - INFO - Date = 2020-03-27 01:00:00, number of deaths =  4, number of infected = 5628\n",
      "2020-07-21 18:07:59,318 - june.simulator - INFO - Date = 2020-03-27 09:00:00, number of deaths =  4, number of infected = 5784\n",
      "2020-07-21 18:08:00,519 - june.simulator - INFO - Date = 2020-03-27 10:00:00, number of deaths =  4, number of infected = 5797\n",
      "2020-07-21 18:08:01,587 - june.simulator - INFO - Date = 2020-03-27 13:00:00, number of deaths =  4, number of infected = 5854\n",
      "2020-07-21 18:08:03,280 - june.simulator - INFO - Date = 2020-03-28 00:00:00, number of deaths =  4, number of infected = 6027\n",
      "2020-07-21 18:08:04,550 - june.simulator - INFO - Date = 2020-03-28 04:00:00, number of deaths =  4, number of infected = 6093\n"
     ]
    },
    {
     "name": "stdout",
     "output_type": "stream",
     "text": [
      "2020-07-21 18:08:05,792 - june.simulator - INFO - Date = 2020-03-28 08:00:00, number of deaths =  4, number of infected = 6148\n",
      "2020-07-21 18:08:06,904 - june.simulator - INFO - Date = 2020-03-28 12:00:00, number of deaths =  4, number of infected = 6199\n",
      "2020-07-21 18:08:08,784 - june.simulator - INFO - Date = 2020-03-29 00:00:00, number of deaths =  5, number of infected = 6370\n",
      "2020-07-21 18:08:10,086 - june.simulator - INFO - Date = 2020-03-29 04:00:00, number of deaths =  5, number of infected = 6434\n",
      "2020-07-21 18:08:11,330 - june.simulator - INFO - Date = 2020-03-29 08:00:00, number of deaths =  5, number of infected = 6479\n",
      "2020-07-21 18:08:12,624 - june.simulator - INFO - Date = 2020-03-29 12:00:00, number of deaths =  5, number of infected = 6539\n",
      "2020-07-21 18:08:14,198 - june.simulator - INFO - Date = 2020-03-30 00:00:00, number of deaths =  5, number of infected = 6654\n",
      "2020-07-21 18:08:15,589 - june.simulator - INFO - Date = 2020-03-30 01:00:00, number of deaths =  5, number of infected = 6663\n",
      "2020-07-21 18:08:17,144 - june.simulator - INFO - Date = 2020-03-30 09:00:00, number of deaths =  6, number of infected = 6788\n",
      "2020-07-21 18:08:18,481 - june.simulator - INFO - Date = 2020-03-30 10:00:00, number of deaths =  6, number of infected = 6803\n",
      "2020-07-21 18:08:19,748 - june.simulator - INFO - Date = 2020-03-30 13:00:00, number of deaths =  6, number of infected = 6852\n",
      "2020-07-21 18:08:21,308 - june.simulator - INFO - Date = 2020-03-31 00:00:00, number of deaths =  6, number of infected = 6944\n",
      "2020-07-21 18:08:22,710 - june.simulator - INFO - Date = 2020-03-31 01:00:00, number of deaths =  6, number of infected = 6956\n",
      "2020-07-21 18:08:24,319 - june.simulator - INFO - Date = 2020-03-31 09:00:00, number of deaths =  7, number of infected = 7088\n",
      "2020-07-21 18:08:25,649 - june.simulator - INFO - Date = 2020-03-31 10:00:00, number of deaths =  7, number of infected = 7094\n",
      "2020-07-21 18:08:26,894 - june.simulator - INFO - Date = 2020-03-31 13:00:00, number of deaths =  7, number of infected = 7137\n",
      "2020-07-21 18:08:28,403 - june.simulator - INFO - Date = 2020-04-01 00:00:00, number of deaths =  8, number of infected = 7232\n",
      "2020-07-21 18:08:29,759 - june.simulator - INFO - Date = 2020-04-01 01:00:00, number of deaths =  8, number of infected = 7243\n",
      "2020-07-21 18:08:31,276 - june.simulator - INFO - Date = 2020-04-01 09:00:00, number of deaths =  8, number of infected = 7368\n",
      "2020-07-21 18:08:32,439 - june.simulator - INFO - Date = 2020-04-01 10:00:00, number of deaths =  8, number of infected = 7378\n",
      "2020-07-21 18:08:33,530 - june.simulator - INFO - Date = 2020-04-01 13:00:00, number of deaths =  8, number of infected = 7426\n",
      "2020-07-21 18:08:35,277 - june.simulator - INFO - Date = 2020-04-02 00:00:00, number of deaths =  8, number of infected = 7531\n",
      "2020-07-21 18:08:36,522 - june.simulator - INFO - Date = 2020-04-02 01:00:00, number of deaths =  9, number of infected = 7550\n",
      "2020-07-21 18:08:37,950 - june.simulator - INFO - Date = 2020-04-02 09:00:00, number of deaths =  9, number of infected = 7674\n",
      "2020-07-21 18:08:39,096 - june.simulator - INFO - Date = 2020-04-02 10:00:00, number of deaths =  9, number of infected = 7687\n",
      "2020-07-21 18:08:40,094 - june.simulator - INFO - Date = 2020-04-02 13:00:00, number of deaths =  9, number of infected = 7707\n",
      "2020-07-21 18:08:41,695 - june.simulator - INFO - Date = 2020-04-03 00:00:00, number of deaths =  12, number of infected = 7777\n",
      "2020-07-21 18:08:42,962 - june.simulator - INFO - Date = 2020-04-03 01:00:00, number of deaths =  12, number of infected = 7776\n",
      "2020-07-21 18:08:44,276 - june.simulator - INFO - Date = 2020-04-03 09:00:00, number of deaths =  12, number of infected = 7858\n",
      "2020-07-21 18:08:45,384 - june.simulator - INFO - Date = 2020-04-03 10:00:00, number of deaths =  13, number of infected = 7870\n",
      "2020-07-21 18:08:46,453 - june.simulator - INFO - Date = 2020-04-03 13:00:00, number of deaths =  13, number of infected = 7898\n",
      "2020-07-21 18:08:48,132 - june.simulator - INFO - Date = 2020-04-04 00:00:00, number of deaths =  13, number of infected = 7998\n",
      "2020-07-21 18:08:49,616 - june.simulator - INFO - Date = 2020-04-04 04:00:00, number of deaths =  13, number of infected = 8037\n",
      "2020-07-21 18:08:50,910 - june.simulator - INFO - Date = 2020-04-04 08:00:00, number of deaths =  13, number of infected = 8073\n",
      "2020-07-21 18:08:52,202 - june.simulator - INFO - Date = 2020-04-04 12:00:00, number of deaths =  13, number of infected = 8118\n",
      "2020-07-21 18:08:54,023 - june.simulator - INFO - Date = 2020-04-05 00:00:00, number of deaths =  14, number of infected = 8159\n",
      "2020-07-21 18:08:55,559 - june.simulator - INFO - Date = 2020-04-05 04:00:00, number of deaths =  15, number of infected = 8189\n",
      "2020-07-21 18:08:57,033 - june.simulator - INFO - Date = 2020-04-05 08:00:00, number of deaths =  16, number of infected = 8223\n",
      "2020-07-21 18:08:58,072 - june.simulator - INFO - Date = 2020-04-05 12:00:00, number of deaths =  16, number of infected = 8238\n",
      "2020-07-21 18:08:59,495 - june.simulator - INFO - Date = 2020-04-06 00:00:00, number of deaths =  17, number of infected = 8270\n",
      "2020-07-21 18:09:00,891 - june.simulator - INFO - Date = 2020-04-06 01:00:00, number of deaths =  17, number of infected = 8278\n",
      "2020-07-21 18:09:02,369 - june.simulator - INFO - Date = 2020-04-06 09:00:00, number of deaths =  19, number of infected = 8319\n",
      "2020-07-21 18:09:03,499 - june.simulator - INFO - Date = 2020-04-06 10:00:00, number of deaths =  19, number of infected = 8320\n",
      "2020-07-21 18:09:04,485 - june.simulator - INFO - Date = 2020-04-06 13:00:00, number of deaths =  19, number of infected = 8334\n",
      "2020-07-21 18:09:05,816 - june.simulator - INFO - Date = 2020-04-07 00:00:00, number of deaths =  20, number of infected = 8370\n",
      "2020-07-21 18:09:06,991 - june.simulator - INFO - Date = 2020-04-07 01:00:00, number of deaths =  20, number of infected = 8378\n",
      "2020-07-21 18:09:08,295 - june.simulator - INFO - Date = 2020-04-07 09:00:00, number of deaths =  21, number of infected = 8427\n",
      "2020-07-21 18:09:09,442 - june.simulator - INFO - Date = 2020-04-07 10:00:00, number of deaths =  21, number of infected = 8434\n",
      "2020-07-21 18:09:10,474 - june.simulator - INFO - Date = 2020-04-07 13:00:00, number of deaths =  21, number of infected = 8432\n",
      "2020-07-21 18:09:11,766 - june.simulator - INFO - Date = 2020-04-08 00:00:00, number of deaths =  21, number of infected = 8442\n",
      "2020-07-21 18:09:12,937 - june.simulator - INFO - Date = 2020-04-08 01:00:00, number of deaths =  21, number of infected = 8445\n",
      "2020-07-21 18:09:14,209 - june.simulator - INFO - Date = 2020-04-08 09:00:00, number of deaths =  21, number of infected = 8453\n",
      "2020-07-21 18:09:15,324 - june.simulator - INFO - Date = 2020-04-08 10:00:00, number of deaths =  21, number of infected = 8453\n",
      "2020-07-21 18:09:16,500 - june.simulator - INFO - Date = 2020-04-08 13:00:00, number of deaths =  21, number of infected = 8465\n",
      "2020-07-21 18:09:17,948 - june.simulator - INFO - Date = 2020-04-09 00:00:00, number of deaths =  21, number of infected = 8438\n",
      "2020-07-21 18:09:19,109 - june.simulator - INFO - Date = 2020-04-09 01:00:00, number of deaths =  21, number of infected = 8432\n",
      "2020-07-21 18:09:20,532 - june.simulator - INFO - Date = 2020-04-09 09:00:00, number of deaths =  21, number of infected = 8491\n",
      "2020-07-21 18:09:21,652 - june.simulator - INFO - Date = 2020-04-09 10:00:00, number of deaths =  21, number of infected = 8485\n",
      "2020-07-21 18:09:22,832 - june.simulator - INFO - Date = 2020-04-09 13:00:00, number of deaths =  21, number of infected = 8491\n",
      "2020-07-21 18:09:24,090 - june.simulator - INFO - Date = 2020-04-10 00:00:00, number of deaths =  24, number of infected = 8456\n",
      "2020-07-21 18:09:25,596 - june.simulator - INFO - Date = 2020-04-10 01:00:00, number of deaths =  24, number of infected = 8454\n",
      "2020-07-21 18:09:26,859 - june.simulator - INFO - Date = 2020-04-10 09:00:00, number of deaths =  25, number of infected = 8471\n",
      "2020-07-21 18:09:27,911 - june.simulator - INFO - Date = 2020-04-10 10:00:00, number of deaths =  25, number of infected = 8453\n",
      "2020-07-21 18:09:29,140 - june.simulator - INFO - Date = 2020-04-10 13:00:00, number of deaths =  25, number of infected = 8445\n",
      "2020-07-21 18:09:30,838 - june.simulator - INFO - Date = 2020-04-11 00:00:00, number of deaths =  27, number of infected = 8382\n"
     ]
    },
    {
     "name": "stdout",
     "output_type": "stream",
     "text": [
      "2020-07-21 18:09:32,209 - june.simulator - INFO - Date = 2020-04-11 04:00:00, number of deaths =  27, number of infected = 8376\n",
      "2020-07-21 18:09:33,448 - june.simulator - INFO - Date = 2020-04-11 08:00:00, number of deaths =  27, number of infected = 8378\n",
      "2020-07-21 18:09:34,520 - june.simulator - INFO - Date = 2020-04-11 12:00:00, number of deaths =  27, number of infected = 8381\n",
      "2020-07-21 18:09:35,916 - june.simulator - INFO - Date = 2020-04-12 00:00:00, number of deaths =  28, number of infected = 8306\n",
      "2020-07-21 18:09:37,266 - june.simulator - INFO - Date = 2020-04-12 04:00:00, number of deaths =  28, number of infected = 8293\n",
      "2020-07-21 18:09:38,640 - june.simulator - INFO - Date = 2020-04-12 08:00:00, number of deaths =  28, number of infected = 8282\n",
      "2020-07-21 18:09:39,632 - june.simulator - INFO - Date = 2020-04-12 12:00:00, number of deaths =  29, number of infected = 8252\n",
      "2020-07-21 18:09:41,047 - june.simulator - INFO - Date = 2020-04-13 00:00:00, number of deaths =  29, number of infected = 8192\n",
      "2020-07-21 18:09:42,356 - june.simulator - INFO - Date = 2020-04-13 01:00:00, number of deaths =  29, number of infected = 8186\n",
      "2020-07-21 18:09:43,837 - june.simulator - INFO - Date = 2020-04-13 09:00:00, number of deaths =  30, number of infected = 8161\n",
      "2020-07-21 18:09:44,891 - june.simulator - INFO - Date = 2020-04-13 10:00:00, number of deaths =  30, number of infected = 8146\n",
      "2020-07-21 18:09:45,984 - june.simulator - INFO - Date = 2020-04-13 13:00:00, number of deaths =  30, number of infected = 8150\n",
      "2020-07-21 18:09:47,421 - june.simulator - INFO - Date = 2020-04-14 00:00:00, number of deaths =  30, number of infected = 8067\n",
      "2020-07-21 18:09:49,104 - june.simulator - INFO - Date = 2020-04-14 01:00:00, number of deaths =  30, number of infected = 8059\n",
      "2020-07-21 18:09:50,856 - june.simulator - INFO - Date = 2020-04-14 09:00:00, number of deaths =  32, number of infected = 8022\n",
      "2020-07-21 18:09:52,456 - june.simulator - INFO - Date = 2020-04-14 10:00:00, number of deaths =  32, number of infected = 8013\n",
      "2020-07-21 18:09:53,719 - june.simulator - INFO - Date = 2020-04-14 13:00:00, number of deaths =  32, number of infected = 7993\n",
      "2020-07-21 18:09:55,381 - june.simulator - INFO - Date = 2020-04-15 00:00:00, number of deaths =  33, number of infected = 7901\n",
      "2020-07-21 18:09:57,168 - june.simulator - INFO - Date = 2020-04-15 01:00:00, number of deaths =  33, number of infected = 7897\n",
      "2020-07-21 18:09:58,755 - june.simulator - INFO - Date = 2020-04-15 09:00:00, number of deaths =  33, number of infected = 7868\n",
      "2020-07-21 18:10:00,338 - june.simulator - INFO - Date = 2020-04-15 10:00:00, number of deaths =  33, number of infected = 7858\n",
      "2020-07-21 18:10:01,877 - june.simulator - INFO - Date = 2020-04-15 13:00:00, number of deaths =  33, number of infected = 7855\n",
      "2020-07-21 18:10:03,170 - june.simulator - INFO - Date = 2020-04-16 00:00:00, number of deaths =  33, number of infected = 7731\n",
      "2020-07-21 18:10:04,501 - june.simulator - INFO - Date = 2020-04-16 01:00:00, number of deaths =  33, number of infected = 7716\n",
      "2020-07-21 18:10:06,329 - june.simulator - INFO - Date = 2020-04-16 09:00:00, number of deaths =  34, number of infected = 7668\n",
      "2020-07-21 18:10:07,720 - june.simulator - INFO - Date = 2020-04-16 10:00:00, number of deaths =  34, number of infected = 7654\n",
      "2020-07-21 18:10:09,080 - june.simulator - INFO - Date = 2020-04-16 13:00:00, number of deaths =  34, number of infected = 7634\n",
      "2020-07-21 18:10:10,435 - june.simulator - INFO - Date = 2020-04-17 00:00:00, number of deaths =  34, number of infected = 7522\n",
      "2020-07-21 18:10:11,695 - june.simulator - INFO - Date = 2020-04-17 01:00:00, number of deaths =  34, number of infected = 7511\n",
      "2020-07-21 18:10:13,086 - june.simulator - INFO - Date = 2020-04-17 09:00:00, number of deaths =  34, number of infected = 7450\n",
      "2020-07-21 18:10:14,369 - june.simulator - INFO - Date = 2020-04-17 10:00:00, number of deaths =  34, number of infected = 7441\n",
      "2020-07-21 18:10:15,618 - june.simulator - INFO - Date = 2020-04-17 13:00:00, number of deaths =  34, number of infected = 7416\n",
      "2020-07-21 18:10:17,167 - june.simulator - INFO - Date = 2020-04-18 00:00:00, number of deaths =  35, number of infected = 7272\n",
      "2020-07-21 18:10:18,679 - june.simulator - INFO - Date = 2020-04-18 04:00:00, number of deaths =  35, number of infected = 7227\n",
      "2020-07-21 18:10:20,756 - june.simulator - INFO - Date = 2020-04-18 08:00:00, number of deaths =  35, number of infected = 7184\n",
      "2020-07-21 18:10:22,056 - june.simulator - INFO - Date = 2020-04-18 12:00:00, number of deaths =  35, number of infected = 7151\n",
      "2020-07-21 18:10:23,606 - june.simulator - INFO - Date = 2020-04-19 00:00:00, number of deaths =  35, number of infected = 7016\n",
      "2020-07-21 18:10:25,266 - june.simulator - INFO - Date = 2020-04-19 04:00:00, number of deaths =  35, number of infected = 6986\n",
      "2020-07-21 18:10:26,618 - june.simulator - INFO - Date = 2020-04-19 08:00:00, number of deaths =  35, number of infected = 6940\n",
      "2020-07-21 18:10:27,769 - june.simulator - INFO - Date = 2020-04-19 12:00:00, number of deaths =  35, number of infected = 6892\n",
      "2020-07-21 18:10:29,511 - june.simulator - INFO - Date = 2020-04-20 00:00:00, number of deaths =  36, number of infected = 6756\n",
      "2020-07-21 18:10:31,670 - june.simulator - INFO - Date = 2020-04-20 01:00:00, number of deaths =  37, number of infected = 6744\n",
      "2020-07-21 18:10:33,338 - june.simulator - INFO - Date = 2020-04-20 09:00:00, number of deaths =  37, number of infected = 6663\n",
      "2020-07-21 18:10:34,725 - june.simulator - INFO - Date = 2020-04-20 10:00:00, number of deaths =  37, number of infected = 6653\n",
      "2020-07-21 18:10:35,815 - june.simulator - INFO - Date = 2020-04-20 13:00:00, number of deaths =  37, number of infected = 6632\n",
      "2020-07-21 18:10:36,875 - june.simulator - INFO - Date = 2020-04-21 00:00:00, number of deaths =  37, number of infected = 6508\n",
      "2020-07-21 18:10:38,009 - june.simulator - INFO - Date = 2020-04-21 01:00:00, number of deaths =  37, number of infected = 6500\n",
      "2020-07-21 18:10:39,092 - june.simulator - INFO - Date = 2020-04-21 09:00:00, number of deaths =  37, number of infected = 6462\n",
      "2020-07-21 18:10:40,185 - june.simulator - INFO - Date = 2020-04-21 10:00:00, number of deaths =  37, number of infected = 6452\n",
      "2020-07-21 18:10:41,080 - june.simulator - INFO - Date = 2020-04-21 13:00:00, number of deaths =  38, number of infected = 6420\n",
      "2020-07-21 18:10:42,162 - june.simulator - INFO - Date = 2020-04-22 00:00:00, number of deaths =  38, number of infected = 6304\n",
      "2020-07-21 18:10:43,277 - june.simulator - INFO - Date = 2020-04-22 01:00:00, number of deaths =  38, number of infected = 6292\n",
      "2020-07-21 18:10:44,335 - june.simulator - INFO - Date = 2020-04-22 09:00:00, number of deaths =  38, number of infected = 6217\n",
      "2020-07-21 18:10:45,516 - june.simulator - INFO - Date = 2020-04-22 10:00:00, number of deaths =  38, number of infected = 6200\n",
      "2020-07-21 18:10:46,435 - june.simulator - INFO - Date = 2020-04-22 13:00:00, number of deaths =  39, number of infected = 6176\n",
      "2020-07-21 18:10:47,487 - june.simulator - INFO - Date = 2020-04-23 00:00:00, number of deaths =  39, number of infected = 6031\n",
      "2020-07-21 18:10:48,642 - june.simulator - INFO - Date = 2020-04-23 01:00:00, number of deaths =  39, number of infected = 6014\n",
      "2020-07-21 18:10:49,711 - june.simulator - INFO - Date = 2020-04-23 09:00:00, number of deaths =  40, number of infected = 5953\n",
      "2020-07-21 18:10:50,956 - june.simulator - INFO - Date = 2020-04-23 10:00:00, number of deaths =  41, number of infected = 5942\n",
      "2020-07-21 18:10:51,885 - june.simulator - INFO - Date = 2020-04-23 13:00:00, number of deaths =  41, number of infected = 5921\n",
      "2020-07-21 18:10:52,868 - june.simulator - INFO - Date = 2020-04-24 00:00:00, number of deaths =  42, number of infected = 5792\n",
      "2020-07-21 18:10:53,960 - june.simulator - INFO - Date = 2020-04-24 01:00:00, number of deaths =  42, number of infected = 5790\n",
      "2020-07-21 18:10:55,005 - june.simulator - INFO - Date = 2020-04-24 09:00:00, number of deaths =  43, number of infected = 5706\n",
      "2020-07-21 18:10:56,127 - june.simulator - INFO - Date = 2020-04-24 10:00:00, number of deaths =  43, number of infected = 5688\n",
      "2020-07-21 18:10:57,103 - june.simulator - INFO - Date = 2020-04-24 13:00:00, number of deaths =  43, number of infected = 5660\n"
     ]
    },
    {
     "name": "stdout",
     "output_type": "stream",
     "text": [
      "2020-07-21 18:10:58,542 - june.simulator - INFO - Date = 2020-04-25 00:00:00, number of deaths =  44, number of infected = 5532\n",
      "2020-07-21 18:10:59,841 - june.simulator - INFO - Date = 2020-04-25 04:00:00, number of deaths =  44, number of infected = 5484\n",
      "2020-07-21 18:11:01,094 - june.simulator - INFO - Date = 2020-04-25 08:00:00, number of deaths =  44, number of infected = 5437\n",
      "2020-07-21 18:11:02,044 - june.simulator - INFO - Date = 2020-04-25 12:00:00, number of deaths =  44, number of infected = 5396\n",
      "2020-07-21 18:11:03,208 - june.simulator - INFO - Date = 2020-04-26 00:00:00, number of deaths =  47, number of infected = 5258\n",
      "2020-07-21 18:11:04,261 - june.simulator - INFO - Date = 2020-04-26 04:00:00, number of deaths =  47, number of infected = 5215\n",
      "2020-07-21 18:11:05,366 - june.simulator - INFO - Date = 2020-04-26 08:00:00, number of deaths =  47, number of infected = 5191\n",
      "2020-07-21 18:11:06,418 - june.simulator - INFO - Date = 2020-04-26 12:00:00, number of deaths =  47, number of infected = 5151\n",
      "2020-07-21 18:11:07,629 - june.simulator - INFO - Date = 2020-04-27 00:00:00, number of deaths =  47, number of infected = 5047\n",
      "2020-07-21 18:11:09,230 - june.simulator - INFO - Date = 2020-04-27 01:00:00, number of deaths =  47, number of infected = 5039\n",
      "2020-07-21 18:11:10,822 - june.simulator - INFO - Date = 2020-04-27 09:00:00, number of deaths =  47, number of infected = 5021\n",
      "2020-07-21 18:11:12,307 - june.simulator - INFO - Date = 2020-04-27 10:00:00, number of deaths =  47, number of infected = 5013\n",
      "2020-07-21 18:11:13,308 - june.simulator - INFO - Date = 2020-04-27 13:00:00, number of deaths =  47, number of infected = 4979\n",
      "2020-07-21 18:11:14,685 - june.simulator - INFO - Date = 2020-04-28 00:00:00, number of deaths =  49, number of infected = 4868\n",
      "2020-07-21 18:11:15,997 - june.simulator - INFO - Date = 2020-04-28 01:00:00, number of deaths =  49, number of infected = 4854\n",
      "2020-07-21 18:11:17,390 - june.simulator - INFO - Date = 2020-04-28 09:00:00, number of deaths =  49, number of infected = 4845\n",
      "2020-07-21 18:11:18,618 - june.simulator - INFO - Date = 2020-04-28 10:00:00, number of deaths =  49, number of infected = 4837\n",
      "2020-07-21 18:11:19,679 - june.simulator - INFO - Date = 2020-04-28 13:00:00, number of deaths =  50, number of infected = 4809\n",
      "2020-07-21 18:11:20,806 - june.simulator - INFO - Date = 2020-04-29 00:00:00, number of deaths =  50, number of infected = 4691\n",
      "2020-07-21 18:11:22,150 - june.simulator - INFO - Date = 2020-04-29 01:00:00, number of deaths =  50, number of infected = 4685\n",
      "2020-07-21 18:11:23,557 - june.simulator - INFO - Date = 2020-04-29 09:00:00, number of deaths =  51, number of infected = 4625\n",
      "2020-07-21 18:11:24,578 - june.simulator - INFO - Date = 2020-04-29 10:00:00, number of deaths =  51, number of infected = 4616\n",
      "2020-07-21 18:11:25,455 - june.simulator - INFO - Date = 2020-04-29 13:00:00, number of deaths =  51, number of infected = 4592\n",
      "2020-07-21 18:11:26,496 - june.simulator - INFO - Date = 2020-04-30 00:00:00, number of deaths =  51, number of infected = 4504\n",
      "2020-07-21 18:11:27,608 - june.simulator - INFO - Date = 2020-04-30 01:00:00, number of deaths =  51, number of infected = 4486\n",
      "2020-07-21 18:11:28,623 - june.simulator - INFO - Date = 2020-04-30 09:00:00, number of deaths =  51, number of infected = 4451\n",
      "2020-07-21 18:11:29,647 - june.simulator - INFO - Date = 2020-04-30 10:00:00, number of deaths =  51, number of infected = 4441\n",
      "2020-07-21 18:11:30,523 - june.simulator - INFO - Date = 2020-04-30 13:00:00, number of deaths =  51, number of infected = 4416\n",
      "2020-07-21 18:11:31,526 - june.simulator - INFO - Date = 2020-05-01 00:00:00, number of deaths =  51, number of infected = 4321\n",
      "2020-07-21 18:11:32,594 - june.simulator - INFO - Date = 2020-05-01 01:00:00, number of deaths =  51, number of infected = 4307\n",
      "2020-07-21 18:11:33,725 - june.simulator - INFO - Date = 2020-05-01 09:00:00, number of deaths =  51, number of infected = 4258\n",
      "2020-07-21 18:11:34,901 - june.simulator - INFO - Date = 2020-05-01 10:00:00, number of deaths =  51, number of infected = 4242\n",
      "2020-07-21 18:11:35,750 - june.simulator - INFO - Date = 2020-05-01 13:00:00, number of deaths =  51, number of infected = 4212\n",
      "2020-07-21 18:11:36,892 - june.simulator - INFO - Date = 2020-05-02 00:00:00, number of deaths =  52, number of infected = 4109\n",
      "2020-07-21 18:11:37,903 - june.simulator - INFO - Date = 2020-05-02 04:00:00, number of deaths =  52, number of infected = 4075\n",
      "2020-07-21 18:11:38,954 - june.simulator - INFO - Date = 2020-05-02 08:00:00, number of deaths =  52, number of infected = 4050\n",
      "2020-07-21 18:11:39,802 - june.simulator - INFO - Date = 2020-05-02 12:00:00, number of deaths =  52, number of infected = 4021\n",
      "2020-07-21 18:11:41,003 - june.simulator - INFO - Date = 2020-05-03 00:00:00, number of deaths =  53, number of infected = 3933\n",
      "2020-07-21 18:11:42,052 - june.simulator - INFO - Date = 2020-05-03 04:00:00, number of deaths =  53, number of infected = 3895\n",
      "2020-07-21 18:11:43,281 - june.simulator - INFO - Date = 2020-05-03 08:00:00, number of deaths =  53, number of infected = 3881\n",
      "2020-07-21 18:11:44,149 - june.simulator - INFO - Date = 2020-05-03 12:00:00, number of deaths =  53, number of infected = 3850\n",
      "2020-07-21 18:11:45,197 - june.simulator - INFO - Date = 2020-05-04 00:00:00, number of deaths =  54, number of infected = 3774\n",
      "2020-07-21 18:11:46,480 - june.simulator - INFO - Date = 2020-05-04 01:00:00, number of deaths =  54, number of infected = 3768\n",
      "2020-07-21 18:11:47,422 - june.simulator - INFO - Date = 2020-05-04 09:00:00, number of deaths =  54, number of infected = 3711\n",
      "2020-07-21 18:11:48,438 - june.simulator - INFO - Date = 2020-05-04 10:00:00, number of deaths =  54, number of infected = 3704\n",
      "2020-07-21 18:11:49,266 - june.simulator - INFO - Date = 2020-05-04 13:00:00, number of deaths =  54, number of infected = 3684\n",
      "2020-07-21 18:11:50,225 - june.simulator - INFO - Date = 2020-05-05 00:00:00, number of deaths =  54, number of infected = 3582\n",
      "2020-07-21 18:11:51,271 - june.simulator - INFO - Date = 2020-05-05 01:00:00, number of deaths =  54, number of infected = 3572\n",
      "2020-07-21 18:11:52,207 - june.simulator - INFO - Date = 2020-05-05 09:00:00, number of deaths =  54, number of infected = 3539\n",
      "2020-07-21 18:11:53,399 - june.simulator - INFO - Date = 2020-05-05 10:00:00, number of deaths =  54, number of infected = 3534\n",
      "2020-07-21 18:11:54,230 - june.simulator - INFO - Date = 2020-05-05 13:00:00, number of deaths =  55, number of infected = 3519\n",
      "2020-07-21 18:11:55,284 - june.simulator - INFO - Date = 2020-05-06 00:00:00, number of deaths =  55, number of infected = 3438\n",
      "2020-07-21 18:11:56,914 - june.simulator - INFO - Date = 2020-05-06 01:00:00, number of deaths =  55, number of infected = 3429\n",
      "2020-07-21 18:11:58,101 - june.simulator - INFO - Date = 2020-05-06 09:00:00, number of deaths =  55, number of infected = 3373\n",
      "2020-07-21 18:11:59,632 - june.simulator - INFO - Date = 2020-05-06 10:00:00, number of deaths =  55, number of infected = 3373\n",
      "2020-07-21 18:12:00,677 - june.simulator - INFO - Date = 2020-05-06 13:00:00, number of deaths =  55, number of infected = 3354\n",
      "2020-07-21 18:12:01,997 - june.simulator - INFO - Date = 2020-05-07 00:00:00, number of deaths =  55, number of infected = 3288\n",
      "2020-07-21 18:12:03,472 - june.simulator - INFO - Date = 2020-05-07 01:00:00, number of deaths =  55, number of infected = 3281\n",
      "2020-07-21 18:12:04,708 - june.simulator - INFO - Date = 2020-05-07 09:00:00, number of deaths =  55, number of infected = 3239\n",
      "2020-07-21 18:12:06,371 - june.simulator - INFO - Date = 2020-05-07 10:00:00, number of deaths =  55, number of infected = 3231\n",
      "2020-07-21 18:12:07,716 - june.simulator - INFO - Date = 2020-05-07 13:00:00, number of deaths =  55, number of infected = 3203\n",
      "2020-07-21 18:12:09,355 - june.simulator - INFO - Date = 2020-05-08 00:00:00, number of deaths =  55, number of infected = 3140\n",
      "2020-07-21 18:12:11,102 - june.simulator - INFO - Date = 2020-05-08 01:00:00, number of deaths =  55, number of infected = 3134\n",
      "2020-07-21 18:12:12,146 - june.simulator - INFO - Date = 2020-05-08 09:00:00, number of deaths =  56, number of infected = 3089\n",
      "2020-07-21 18:12:13,189 - june.simulator - INFO - Date = 2020-05-08 10:00:00, number of deaths =  56, number of infected = 3088\n"
     ]
    },
    {
     "name": "stdout",
     "output_type": "stream",
     "text": [
      "2020-07-21 18:12:14,197 - june.simulator - INFO - Date = 2020-05-08 13:00:00, number of deaths =  56, number of infected = 3065\n",
      "2020-07-21 18:12:15,554 - june.simulator - INFO - Date = 2020-05-09 00:00:00, number of deaths =  56, number of infected = 3002\n",
      "2020-07-21 18:12:16,626 - june.simulator - INFO - Date = 2020-05-09 04:00:00, number of deaths =  56, number of infected = 2985\n",
      "2020-07-21 18:12:17,787 - june.simulator - INFO - Date = 2020-05-09 08:00:00, number of deaths =  56, number of infected = 2975\n",
      "2020-07-21 18:12:18,654 - june.simulator - INFO - Date = 2020-05-09 12:00:00, number of deaths =  56, number of infected = 2962\n",
      "2020-07-21 18:12:19,905 - june.simulator - INFO - Date = 2020-05-10 00:00:00, number of deaths =  56, number of infected = 2918\n",
      "2020-07-21 18:12:21,149 - june.simulator - INFO - Date = 2020-05-10 04:00:00, number of deaths =  56, number of infected = 2904\n",
      "2020-07-21 18:12:22,387 - june.simulator - INFO - Date = 2020-05-10 08:00:00, number of deaths =  56, number of infected = 2881\n",
      "2020-07-21 18:12:23,402 - june.simulator - INFO - Date = 2020-05-10 12:00:00, number of deaths =  56, number of infected = 2868\n",
      "2020-07-21 18:12:24,469 - june.simulator - INFO - Date = 2020-05-11 00:00:00, number of deaths =  56, number of infected = 2817\n",
      "2020-07-21 18:12:25,532 - june.simulator - INFO - Date = 2020-05-11 01:00:00, number of deaths =  56, number of infected = 2811\n",
      "2020-07-21 18:12:26,533 - june.simulator - INFO - Date = 2020-05-11 09:00:00, number of deaths =  56, number of infected = 2779\n",
      "2020-07-21 18:12:27,610 - june.simulator - INFO - Date = 2020-05-11 10:00:00, number of deaths =  56, number of infected = 2773\n",
      "2020-07-21 18:12:28,490 - june.simulator - INFO - Date = 2020-05-11 13:00:00, number of deaths =  56, number of infected = 2761\n",
      "2020-07-21 18:12:29,587 - june.simulator - INFO - Date = 2020-05-12 00:00:00, number of deaths =  56, number of infected = 2735\n",
      "2020-07-21 18:12:30,863 - june.simulator - INFO - Date = 2020-05-12 01:00:00, number of deaths =  56, number of infected = 2732\n",
      "2020-07-21 18:12:31,955 - june.simulator - INFO - Date = 2020-05-12 09:00:00, number of deaths =  56, number of infected = 2696\n",
      "2020-07-21 18:12:33,274 - june.simulator - INFO - Date = 2020-05-12 10:00:00, number of deaths =  56, number of infected = 2697\n",
      "2020-07-21 18:12:34,526 - june.simulator - INFO - Date = 2020-05-12 13:00:00, number of deaths =  56, number of infected = 2690\n",
      "2020-07-21 18:12:35,550 - june.simulator - INFO - Date = 2020-05-13 00:00:00, number of deaths =  56, number of infected = 2644\n",
      "2020-07-21 18:12:36,765 - june.simulator - INFO - Date = 2020-05-13 01:00:00, number of deaths =  56, number of infected = 2642\n",
      "2020-07-21 18:12:37,799 - june.simulator - INFO - Date = 2020-05-13 09:00:00, number of deaths =  56, number of infected = 2624\n",
      "2020-07-21 18:12:38,803 - june.simulator - INFO - Date = 2020-05-13 10:00:00, number of deaths =  56, number of infected = 2617\n",
      "2020-07-21 18:12:39,754 - june.simulator - INFO - Date = 2020-05-13 13:00:00, number of deaths =  56, number of infected = 2601\n",
      "2020-07-21 18:12:40,685 - june.simulator - INFO - Date = 2020-05-14 00:00:00, number of deaths =  56, number of infected = 2551\n",
      "2020-07-21 18:12:42,064 - june.simulator - INFO - Date = 2020-05-14 01:00:00, number of deaths =  56, number of infected = 2549\n",
      "2020-07-21 18:12:43,415 - june.simulator - INFO - Date = 2020-05-14 09:00:00, number of deaths =  56, number of infected = 2529\n",
      "2020-07-21 18:12:44,785 - june.simulator - INFO - Date = 2020-05-14 10:00:00, number of deaths =  56, number of infected = 2523\n",
      "2020-07-21 18:12:45,618 - june.simulator - INFO - Date = 2020-05-14 13:00:00, number of deaths =  56, number of infected = 2515\n",
      "2020-07-21 18:12:46,538 - june.simulator - INFO - Date = 2020-05-15 00:00:00, number of deaths =  56, number of infected = 2488\n",
      "2020-07-21 18:12:47,649 - june.simulator - INFO - Date = 2020-05-15 01:00:00, number of deaths =  56, number of infected = 2486\n",
      "2020-07-21 18:12:48,669 - june.simulator - INFO - Date = 2020-05-15 09:00:00, number of deaths =  56, number of infected = 2451\n",
      "2020-07-21 18:12:49,812 - june.simulator - INFO - Date = 2020-05-15 10:00:00, number of deaths =  56, number of infected = 2443\n",
      "2020-07-21 18:12:50,764 - june.simulator - INFO - Date = 2020-05-15 13:00:00, number of deaths =  56, number of infected = 2435\n",
      "2020-07-21 18:12:51,945 - june.simulator - INFO - Date = 2020-05-16 00:00:00, number of deaths =  56, number of infected = 2402\n",
      "2020-07-21 18:12:53,422 - june.simulator - INFO - Date = 2020-05-16 04:00:00, number of deaths =  56, number of infected = 2397\n",
      "2020-07-21 18:12:54,737 - june.simulator - INFO - Date = 2020-05-16 08:00:00, number of deaths =  56, number of infected = 2380\n",
      "2020-07-21 18:12:55,819 - june.simulator - INFO - Date = 2020-05-16 12:00:00, number of deaths =  56, number of infected = 2369\n",
      "2020-07-21 18:12:57,263 - june.simulator - INFO - Date = 2020-05-17 00:00:00, number of deaths =  56, number of infected = 2328\n",
      "2020-07-21 18:12:58,389 - june.simulator - INFO - Date = 2020-05-17 04:00:00, number of deaths =  56, number of infected = 2317\n",
      "2020-07-21 18:12:59,916 - june.simulator - INFO - Date = 2020-05-17 08:00:00, number of deaths =  56, number of infected = 2320\n",
      "2020-07-21 18:13:00,797 - june.simulator - INFO - Date = 2020-05-17 12:00:00, number of deaths =  56, number of infected = 2309\n",
      "2020-07-21 18:13:02,016 - june.simulator - INFO - Date = 2020-05-18 00:00:00, number of deaths =  56, number of infected = 2267\n",
      "2020-07-21 18:13:03,527 - june.simulator - INFO - Date = 2020-05-18 01:00:00, number of deaths =  56, number of infected = 2264\n",
      "2020-07-21 18:13:04,810 - june.simulator - INFO - Date = 2020-05-18 09:00:00, number of deaths =  56, number of infected = 2255\n",
      "2020-07-21 18:13:06,120 - june.simulator - INFO - Date = 2020-05-18 10:00:00, number of deaths =  56, number of infected = 2255\n",
      "2020-07-21 18:13:06,994 - june.simulator - INFO - Date = 2020-05-18 13:00:00, number of deaths =  56, number of infected = 2244\n",
      "2020-07-21 18:13:07,971 - june.simulator - INFO - Date = 2020-05-19 00:00:00, number of deaths =  56, number of infected = 2213\n",
      "2020-07-21 18:13:09,061 - june.simulator - INFO - Date = 2020-05-19 01:00:00, number of deaths =  56, number of infected = 2204\n",
      "2020-07-21 18:13:09,975 - june.simulator - INFO - Date = 2020-05-19 09:00:00, number of deaths =  56, number of infected = 2189\n",
      "2020-07-21 18:13:11,007 - june.simulator - INFO - Date = 2020-05-19 10:00:00, number of deaths =  56, number of infected = 2186\n",
      "2020-07-21 18:13:11,965 - june.simulator - INFO - Date = 2020-05-19 13:00:00, number of deaths =  56, number of infected = 2166\n",
      "2020-07-21 18:13:13,101 - june.simulator - INFO - Date = 2020-05-20 00:00:00, number of deaths =  56, number of infected = 2122\n",
      "2020-07-21 18:13:14,412 - june.simulator - INFO - Date = 2020-05-20 01:00:00, number of deaths =  56, number of infected = 2119\n",
      "2020-07-21 18:13:15,468 - june.simulator - INFO - Date = 2020-05-20 09:00:00, number of deaths =  56, number of infected = 2105\n",
      "2020-07-21 18:13:16,479 - june.simulator - INFO - Date = 2020-05-20 10:00:00, number of deaths =  56, number of infected = 2102\n",
      "2020-07-21 18:13:17,430 - june.simulator - INFO - Date = 2020-05-20 13:00:00, number of deaths =  56, number of infected = 2099\n",
      "2020-07-21 18:13:18,483 - june.simulator - INFO - Date = 2020-05-21 00:00:00, number of deaths =  56, number of infected = 2065\n",
      "2020-07-21 18:13:19,681 - june.simulator - INFO - Date = 2020-05-21 01:00:00, number of deaths =  56, number of infected = 2061\n",
      "2020-07-21 18:13:20,618 - june.simulator - INFO - Date = 2020-05-21 09:00:00, number of deaths =  56, number of infected = 2035\n",
      "2020-07-21 18:13:21,645 - june.simulator - INFO - Date = 2020-05-21 10:00:00, number of deaths =  56, number of infected = 2032\n",
      "2020-07-21 18:13:22,455 - june.simulator - INFO - Date = 2020-05-21 13:00:00, number of deaths =  56, number of infected = 2024\n",
      "2020-07-21 18:13:23,434 - june.simulator - INFO - Date = 2020-05-22 00:00:00, number of deaths =  56, number of infected = 1978\n",
      "2020-07-21 18:13:24,731 - june.simulator - INFO - Date = 2020-05-22 01:00:00, number of deaths =  56, number of infected = 1976\n",
      "2020-07-21 18:13:25,814 - june.simulator - INFO - Date = 2020-05-22 09:00:00, number of deaths =  56, number of infected = 1966\n"
     ]
    },
    {
     "name": "stdout",
     "output_type": "stream",
     "text": [
      "2020-07-21 18:13:26,885 - june.simulator - INFO - Date = 2020-05-22 10:00:00, number of deaths =  56, number of infected = 1962\n",
      "2020-07-21 18:13:27,872 - june.simulator - INFO - Date = 2020-05-22 13:00:00, number of deaths =  56, number of infected = 1949\n",
      "2020-07-21 18:13:29,069 - june.simulator - INFO - Date = 2020-05-23 00:00:00, number of deaths =  56, number of infected = 1918\n",
      "2020-07-21 18:13:30,143 - june.simulator - INFO - Date = 2020-05-23 04:00:00, number of deaths =  56, number of infected = 1913\n",
      "2020-07-21 18:13:31,418 - june.simulator - INFO - Date = 2020-05-23 08:00:00, number of deaths =  56, number of infected = 1897\n",
      "2020-07-21 18:13:32,377 - june.simulator - INFO - Date = 2020-05-23 12:00:00, number of deaths =  56, number of infected = 1897\n",
      "2020-07-21 18:13:33,688 - june.simulator - INFO - Date = 2020-05-24 00:00:00, number of deaths =  56, number of infected = 1828\n",
      "2020-07-21 18:13:34,921 - june.simulator - INFO - Date = 2020-05-24 04:00:00, number of deaths =  56, number of infected = 1816\n",
      "2020-07-21 18:13:35,987 - june.simulator - INFO - Date = 2020-05-24 08:00:00, number of deaths =  56, number of infected = 1809\n",
      "2020-07-21 18:13:36,893 - june.simulator - INFO - Date = 2020-05-24 12:00:00, number of deaths =  56, number of infected = 1792\n",
      "2020-07-21 18:13:37,873 - june.simulator - INFO - Date = 2020-05-25 00:00:00, number of deaths =  56, number of infected = 1752\n",
      "2020-07-21 18:13:38,974 - june.simulator - INFO - Date = 2020-05-25 01:00:00, number of deaths =  56, number of infected = 1747\n",
      "2020-07-21 18:13:40,079 - june.simulator - INFO - Date = 2020-05-25 09:00:00, number of deaths =  56, number of infected = 1728\n",
      "2020-07-21 18:13:41,310 - june.simulator - INFO - Date = 2020-05-25 10:00:00, number of deaths =  56, number of infected = 1728\n",
      "2020-07-21 18:13:42,311 - june.simulator - INFO - Date = 2020-05-25 13:00:00, number of deaths =  56, number of infected = 1722\n",
      "2020-07-21 18:13:43,390 - june.simulator - INFO - Date = 2020-05-26 00:00:00, number of deaths =  56, number of infected = 1702\n",
      "2020-07-21 18:13:44,776 - june.simulator - INFO - Date = 2020-05-26 01:00:00, number of deaths =  56, number of infected = 1702\n",
      "2020-07-21 18:13:45,687 - june.simulator - INFO - Date = 2020-05-26 09:00:00, number of deaths =  56, number of infected = 1684\n",
      "2020-07-21 18:13:46,900 - june.simulator - INFO - Date = 2020-05-26 10:00:00, number of deaths =  56, number of infected = 1683\n",
      "2020-07-21 18:13:47,881 - june.simulator - INFO - Date = 2020-05-26 13:00:00, number of deaths =  56, number of infected = 1677\n",
      "2020-07-21 18:13:48,875 - june.simulator - INFO - Date = 2020-05-27 00:00:00, number of deaths =  56, number of infected = 1645\n",
      "2020-07-21 18:13:50,022 - june.simulator - INFO - Date = 2020-05-27 01:00:00, number of deaths =  56, number of infected = 1641\n",
      "2020-07-21 18:13:51,053 - june.simulator - INFO - Date = 2020-05-27 09:00:00, number of deaths =  56, number of infected = 1620\n",
      "2020-07-21 18:13:52,042 - june.simulator - INFO - Date = 2020-05-27 10:00:00, number of deaths =  56, number of infected = 1618\n",
      "2020-07-21 18:13:52,932 - june.simulator - INFO - Date = 2020-05-27 13:00:00, number of deaths =  56, number of infected = 1608\n",
      "2020-07-21 18:13:53,934 - june.simulator - INFO - Date = 2020-05-28 00:00:00, number of deaths =  56, number of infected = 1565\n",
      "2020-07-21 18:13:55,188 - june.simulator - INFO - Date = 2020-05-28 01:00:00, number of deaths =  56, number of infected = 1562\n",
      "2020-07-21 18:13:56,187 - june.simulator - INFO - Date = 2020-05-28 09:00:00, number of deaths =  56, number of infected = 1545\n",
      "2020-07-21 18:13:57,183 - june.simulator - INFO - Date = 2020-05-28 10:00:00, number of deaths =  56, number of infected = 1542\n",
      "2020-07-21 18:13:57,988 - june.simulator - INFO - Date = 2020-05-28 13:00:00, number of deaths =  56, number of infected = 1533\n",
      "2020-07-21 18:13:58,863 - june.simulator - INFO - Date = 2020-05-29 00:00:00, number of deaths =  56, number of infected = 1489\n",
      "2020-07-21 18:13:59,923 - june.simulator - INFO - Date = 2020-05-29 01:00:00, number of deaths =  56, number of infected = 1487\n",
      "2020-07-21 18:14:00,797 - june.simulator - INFO - Date = 2020-05-29 09:00:00, number of deaths =  56, number of infected = 1473\n",
      "2020-07-21 18:14:01,797 - june.simulator - INFO - Date = 2020-05-29 10:00:00, number of deaths =  56, number of infected = 1467\n",
      "2020-07-21 18:14:02,575 - june.simulator - INFO - Date = 2020-05-29 13:00:00, number of deaths =  56, number of infected = 1456\n",
      "2020-07-21 18:14:03,666 - june.simulator - INFO - Date = 2020-05-30 00:00:00, number of deaths =  56, number of infected = 1436\n",
      "2020-07-21 18:14:04,812 - june.simulator - INFO - Date = 2020-05-30 04:00:00, number of deaths =  56, number of infected = 1432\n",
      "2020-07-21 18:14:05,985 - june.simulator - INFO - Date = 2020-05-30 08:00:00, number of deaths =  56, number of infected = 1416\n",
      "2020-07-21 18:14:06,823 - june.simulator - INFO - Date = 2020-05-30 12:00:00, number of deaths =  56, number of infected = 1406\n",
      "2020-07-21 18:14:08,008 - june.simulator - INFO - Date = 2020-05-31 00:00:00, number of deaths =  56, number of infected = 1375\n",
      "2020-07-21 18:14:09,071 - june.simulator - INFO - Date = 2020-05-31 04:00:00, number of deaths =  56, number of infected = 1369\n",
      "2020-07-21 18:14:10,051 - june.simulator - INFO - Date = 2020-05-31 08:00:00, number of deaths =  56, number of infected = 1361\n",
      "2020-07-21 18:14:10,833 - june.simulator - INFO - Date = 2020-05-31 12:00:00, number of deaths =  56, number of infected = 1352\n",
      "2020-07-21 18:14:11,668 - june.simulator - INFO - Date = 2020-06-01 00:00:00, number of deaths =  56, number of infected = 1318\n",
      "2020-07-21 18:14:12,727 - june.simulator - INFO - Date = 2020-06-01 01:00:00, number of deaths =  56, number of infected = 1316\n",
      "2020-07-21 18:14:13,801 - june.simulator - INFO - Date = 2020-06-01 09:00:00, number of deaths =  57, number of infected = 1311\n",
      "2020-07-21 18:14:15,399 - june.simulator - INFO - Date = 2020-06-01 10:00:00, number of deaths =  57, number of infected = 1312\n",
      "2020-07-21 18:14:16,568 - june.simulator - INFO - Date = 2020-06-01 13:00:00, number of deaths =  57, number of infected = 1312\n",
      "2020-07-21 18:14:17,815 - june.simulator - INFO - Date = 2020-06-02 00:00:00, number of deaths =  57, number of infected = 1283\n",
      "2020-07-21 18:14:19,443 - june.simulator - INFO - Date = 2020-06-02 01:00:00, number of deaths =  57, number of infected = 1280\n",
      "2020-07-21 18:14:20,304 - june.simulator - INFO - Date = 2020-06-02 09:00:00, number of deaths =  57, number of infected = 1265\n",
      "2020-07-21 18:14:21,440 - june.simulator - INFO - Date = 2020-06-02 10:00:00, number of deaths =  57, number of infected = 1263\n",
      "2020-07-21 18:14:22,316 - june.simulator - INFO - Date = 2020-06-02 13:00:00, number of deaths =  57, number of infected = 1258\n",
      "2020-07-21 18:14:23,315 - june.simulator - INFO - Date = 2020-06-03 00:00:00, number of deaths =  58, number of infected = 1247\n",
      "2020-07-21 18:14:24,665 - june.simulator - INFO - Date = 2020-06-03 01:00:00, number of deaths =  58, number of infected = 1245\n",
      "2020-07-21 18:14:25,791 - june.simulator - INFO - Date = 2020-06-03 09:00:00, number of deaths =  58, number of infected = 1227\n",
      "2020-07-21 18:14:27,275 - june.simulator - INFO - Date = 2020-06-03 10:00:00, number of deaths =  58, number of infected = 1228\n",
      "2020-07-21 18:14:28,537 - june.simulator - INFO - Date = 2020-06-03 13:00:00, number of deaths =  58, number of infected = 1220\n",
      "2020-07-21 18:14:29,835 - june.simulator - INFO - Date = 2020-06-04 00:00:00, number of deaths =  58, number of infected = 1190\n",
      "2020-07-21 18:14:31,168 - june.simulator - INFO - Date = 2020-06-04 01:00:00, number of deaths =  58, number of infected = 1188\n",
      "2020-07-21 18:14:32,189 - june.simulator - INFO - Date = 2020-06-04 09:00:00, number of deaths =  58, number of infected = 1171\n",
      "2020-07-21 18:14:33,224 - june.simulator - INFO - Date = 2020-06-04 10:00:00, number of deaths =  58, number of infected = 1172\n",
      "2020-07-21 18:14:34,080 - june.simulator - INFO - Date = 2020-06-04 13:00:00, number of deaths =  58, number of infected = 1159\n",
      "2020-07-21 18:14:34,927 - june.simulator - INFO - Date = 2020-06-05 00:00:00, number of deaths =  58, number of infected = 1138\n",
      "2020-07-21 18:14:36,198 - june.simulator - INFO - Date = 2020-06-05 01:00:00, number of deaths =  58, number of infected = 1136\n"
     ]
    },
    {
     "name": "stdout",
     "output_type": "stream",
     "text": [
      "2020-07-21 18:14:37,194 - june.simulator - INFO - Date = 2020-06-05 09:00:00, number of deaths =  58, number of infected = 1133\n",
      "2020-07-21 18:14:38,167 - june.simulator - INFO - Date = 2020-06-05 10:00:00, number of deaths =  58, number of infected = 1130\n",
      "2020-07-21 18:14:38,917 - june.simulator - INFO - Date = 2020-06-05 13:00:00, number of deaths =  58, number of infected = 1127\n",
      "2020-07-21 18:14:40,036 - june.simulator - INFO - Date = 2020-06-06 00:00:00, number of deaths =  58, number of infected = 1107\n",
      "2020-07-21 18:14:41,163 - june.simulator - INFO - Date = 2020-06-06 04:00:00, number of deaths =  58, number of infected = 1103\n",
      "2020-07-21 18:14:42,259 - june.simulator - INFO - Date = 2020-06-06 08:00:00, number of deaths =  58, number of infected = 1089\n",
      "2020-07-21 18:14:43,116 - june.simulator - INFO - Date = 2020-06-06 12:00:00, number of deaths =  58, number of infected = 1112\n",
      "2020-07-21 18:14:44,137 - june.simulator - INFO - Date = 2020-06-07 00:00:00, number of deaths =  58, number of infected = 1089\n",
      "2020-07-21 18:14:45,118 - june.simulator - INFO - Date = 2020-06-07 04:00:00, number of deaths =  58, number of infected = 1089\n",
      "2020-07-21 18:14:46,095 - june.simulator - INFO - Date = 2020-06-07 08:00:00, number of deaths =  58, number of infected = 1088\n",
      "2020-07-21 18:14:46,970 - june.simulator - INFO - Date = 2020-06-07 12:00:00, number of deaths =  58, number of infected = 1081\n",
      "2020-07-21 18:14:47,738 - june.simulator - INFO - Date = 2020-06-08 00:00:00, number of deaths =  58, number of infected = 1054\n",
      "2020-07-21 18:14:48,889 - june.simulator - INFO - Date = 2020-06-08 01:00:00, number of deaths =  58, number of infected = 1050\n",
      "2020-07-21 18:14:49,715 - june.simulator - INFO - Date = 2020-06-08 09:00:00, number of deaths =  58, number of infected = 1052\n",
      "2020-07-21 18:14:50,683 - june.simulator - INFO - Date = 2020-06-08 10:00:00, number of deaths =  58, number of infected = 1050\n",
      "2020-07-21 18:14:51,541 - june.simulator - INFO - Date = 2020-06-08 13:00:00, number of deaths =  58, number of infected = 1042\n",
      "2020-07-21 18:14:52,326 - june.simulator - INFO - Date = 2020-06-09 00:00:00, number of deaths =  59, number of infected = 1026\n",
      "2020-07-21 18:14:53,478 - june.simulator - INFO - Date = 2020-06-09 01:00:00, number of deaths =  59, number of infected = 1024\n",
      "2020-07-21 18:14:54,371 - june.simulator - INFO - Date = 2020-06-09 09:00:00, number of deaths =  59, number of infected = 1021\n",
      "2020-07-21 18:14:55,501 - june.simulator - INFO - Date = 2020-06-09 10:00:00, number of deaths =  59, number of infected = 1019\n",
      "2020-07-21 18:14:56,334 - june.simulator - INFO - Date = 2020-06-09 13:00:00, number of deaths =  59, number of infected = 1016\n",
      "2020-07-21 18:14:57,349 - june.simulator - INFO - Date = 2020-06-10 00:00:00, number of deaths =  59, number of infected = 1003\n",
      "2020-07-21 18:15:01,182 - june.simulator - INFO - Date = 2020-06-10 01:00:00, number of deaths =  59, number of infected = 1000\n",
      "2020-07-21 18:15:02,288 - june.simulator - INFO - Date = 2020-06-10 09:00:00, number of deaths =  59, number of infected = 995\n",
      "2020-07-21 18:15:03,313 - june.simulator - INFO - Date = 2020-06-10 10:00:00, number of deaths =  59, number of infected = 993\n",
      "2020-07-21 18:15:04,124 - june.simulator - INFO - Date = 2020-06-10 13:00:00, number of deaths =  59, number of infected = 989\n",
      "2020-07-21 18:15:04,887 - june.simulator - INFO - Date = 2020-06-11 00:00:00, number of deaths =  59, number of infected = 979\n",
      "2020-07-21 18:15:06,019 - june.simulator - INFO - Date = 2020-06-11 01:00:00, number of deaths =  59, number of infected = 976\n",
      "2020-07-21 18:15:06,874 - june.simulator - INFO - Date = 2020-06-11 09:00:00, number of deaths =  59, number of infected = 968\n",
      "2020-07-21 18:15:07,855 - june.simulator - INFO - Date = 2020-06-11 10:00:00, number of deaths =  59, number of infected = 968\n",
      "2020-07-21 18:15:08,916 - june.simulator - INFO - Date = 2020-06-11 13:00:00, number of deaths =  59, number of infected = 970\n",
      "2020-07-21 18:15:09,887 - june.simulator - INFO - Date = 2020-06-12 00:00:00, number of deaths =  59, number of infected = 952\n",
      "2020-07-21 18:15:11,574 - june.simulator - INFO - Date = 2020-06-12 01:00:00, number of deaths =  59, number of infected = 951\n",
      "2020-07-21 18:15:12,788 - june.simulator - INFO - Date = 2020-06-12 09:00:00, number of deaths =  59, number of infected = 939\n",
      "2020-07-21 18:15:14,008 - june.simulator - INFO - Date = 2020-06-12 10:00:00, number of deaths =  59, number of infected = 941\n",
      "2020-07-21 18:15:14,925 - june.simulator - INFO - Date = 2020-06-12 13:00:00, number of deaths =  59, number of infected = 938\n",
      "2020-07-21 18:15:16,110 - june.simulator - INFO - Date = 2020-06-13 00:00:00, number of deaths =  59, number of infected = 921\n",
      "2020-07-21 18:15:17,117 - june.simulator - INFO - Date = 2020-06-13 04:00:00, number of deaths =  59, number of infected = 916\n",
      "2020-07-21 18:15:18,182 - june.simulator - INFO - Date = 2020-06-13 08:00:00, number of deaths =  59, number of infected = 904\n",
      "2020-07-21 18:15:19,047 - june.simulator - INFO - Date = 2020-06-13 12:00:00, number of deaths =  59, number of infected = 895\n",
      "2020-07-21 18:15:20,228 - june.simulator - INFO - Date = 2020-06-14 00:00:00, number of deaths =  59, number of infected = 879\n",
      "2020-07-21 18:15:21,619 - june.simulator - INFO - Date = 2020-06-14 04:00:00, number of deaths =  59, number of infected = 878\n",
      "2020-07-21 18:15:22,589 - june.simulator - INFO - Date = 2020-06-14 08:00:00, number of deaths =  59, number of infected = 868\n",
      "2020-07-21 18:15:23,306 - june.simulator - INFO - Date = 2020-06-14 12:00:00, number of deaths =  59, number of infected = 862\n",
      "2020-07-21 18:15:24,121 - june.simulator - INFO - Date = 2020-06-15 00:00:00, number of deaths =  59, number of infected = 846\n",
      "2020-07-21 18:15:25,301 - june.simulator - INFO - Date = 2020-06-15 01:00:00, number of deaths =  59, number of infected = 843\n",
      "2020-07-21 18:15:26,055 - june.simulator - INFO - Date = 2020-06-15 09:00:00, number of deaths =  59, number of infected = 838\n",
      "2020-07-21 18:15:27,020 - june.simulator - INFO - Date = 2020-06-15 10:00:00, number of deaths =  59, number of infected = 837\n",
      "2020-07-21 18:15:27,810 - june.simulator - INFO - Date = 2020-06-15 13:00:00, number of deaths =  59, number of infected = 832\n",
      "2020-07-21 18:15:28,701 - june.simulator - INFO - Date = 2020-06-16 00:00:00, number of deaths =  59, number of infected = 825\n",
      "2020-07-21 18:15:29,664 - june.simulator - INFO - Date = 2020-06-16 01:00:00, number of deaths =  59, number of infected = 823\n",
      "2020-07-21 18:15:30,510 - june.simulator - INFO - Date = 2020-06-16 09:00:00, number of deaths =  59, number of infected = 829\n",
      "2020-07-21 18:15:31,611 - june.simulator - INFO - Date = 2020-06-16 10:00:00, number of deaths =  59, number of infected = 828\n",
      "2020-07-21 18:15:32,399 - june.simulator - INFO - Date = 2020-06-16 13:00:00, number of deaths =  59, number of infected = 829\n",
      "2020-07-21 18:15:33,134 - june.simulator - INFO - Date = 2020-06-17 00:00:00, number of deaths =  60, number of infected = 815\n",
      "2020-07-21 18:15:34,122 - june.simulator - INFO - Date = 2020-06-17 01:00:00, number of deaths =  60, number of infected = 814\n",
      "2020-07-21 18:15:34,846 - june.simulator - INFO - Date = 2020-06-17 09:00:00, number of deaths =  62, number of infected = 806\n",
      "2020-07-21 18:15:35,744 - june.simulator - INFO - Date = 2020-06-17 10:00:00, number of deaths =  62, number of infected = 805\n",
      "2020-07-21 18:15:36,468 - june.simulator - INFO - Date = 2020-06-17 13:00:00, number of deaths =  62, number of infected = 803\n",
      "2020-07-21 18:15:37,190 - june.simulator - INFO - Date = 2020-06-18 00:00:00, number of deaths =  62, number of infected = 785\n",
      "2020-07-21 18:15:38,158 - june.simulator - INFO - Date = 2020-06-18 01:00:00, number of deaths =  62, number of infected = 784\n",
      "2020-07-21 18:15:38,879 - june.simulator - INFO - Date = 2020-06-18 09:00:00, number of deaths =  62, number of infected = 780\n",
      "2020-07-21 18:15:39,806 - june.simulator - INFO - Date = 2020-06-18 10:00:00, number of deaths =  62, number of infected = 780\n",
      "2020-07-21 18:15:40,515 - june.simulator - INFO - Date = 2020-06-18 13:00:00, number of deaths =  62, number of infected = 780\n",
      "2020-07-21 18:15:41,245 - june.simulator - INFO - Date = 2020-06-19 00:00:00, number of deaths =  62, number of infected = 769\n"
     ]
    },
    {
     "name": "stdout",
     "output_type": "stream",
     "text": [
      "2020-07-21 18:15:42,412 - june.simulator - INFO - Date = 2020-06-19 01:00:00, number of deaths =  62, number of infected = 768\n",
      "2020-07-21 18:15:43,146 - june.simulator - INFO - Date = 2020-06-19 09:00:00, number of deaths =  62, number of infected = 763\n",
      "2020-07-21 18:15:44,164 - june.simulator - INFO - Date = 2020-06-19 10:00:00, number of deaths =  62, number of infected = 762\n",
      "2020-07-21 18:15:44,882 - june.simulator - INFO - Date = 2020-06-19 13:00:00, number of deaths =  62, number of infected = 759\n",
      "2020-07-21 18:15:45,781 - june.simulator - INFO - Date = 2020-06-20 00:00:00, number of deaths =  62, number of infected = 738\n",
      "2020-07-21 18:15:46,837 - june.simulator - INFO - Date = 2020-06-20 04:00:00, number of deaths =  62, number of infected = 733\n",
      "2020-07-21 18:15:47,908 - june.simulator - INFO - Date = 2020-06-20 08:00:00, number of deaths =  62, number of infected = 729\n",
      "2020-07-21 18:15:48,612 - june.simulator - INFO - Date = 2020-06-20 12:00:00, number of deaths =  62, number of infected = 728\n",
      "2020-07-21 18:15:49,577 - june.simulator - INFO - Date = 2020-06-21 00:00:00, number of deaths =  62, number of infected = 716\n",
      "2020-07-21 18:15:50,446 - june.simulator - INFO - Date = 2020-06-21 04:00:00, number of deaths =  62, number of infected = 714\n",
      "2020-07-21 18:15:51,322 - june.simulator - INFO - Date = 2020-06-21 08:00:00, number of deaths =  63, number of infected = 705\n",
      "2020-07-21 18:15:51,979 - june.simulator - INFO - Date = 2020-06-21 12:00:00, number of deaths =  63, number of infected = 697\n",
      "2020-07-21 18:15:52,701 - june.simulator - INFO - Date = 2020-06-22 00:00:00, number of deaths =  63, number of infected = 689\n",
      "2020-07-21 18:15:53,851 - june.simulator - INFO - Date = 2020-06-22 01:00:00, number of deaths =  63, number of infected = 689\n",
      "2020-07-21 18:15:54,583 - june.simulator - INFO - Date = 2020-06-22 09:00:00, number of deaths =  63, number of infected = 682\n",
      "2020-07-21 18:15:55,474 - june.simulator - INFO - Date = 2020-06-22 10:00:00, number of deaths =  63, number of infected = 679\n",
      "2020-07-21 18:15:56,200 - june.simulator - INFO - Date = 2020-06-22 13:00:00, number of deaths =  63, number of infected = 679\n",
      "2020-07-21 18:15:57,048 - june.simulator - INFO - Date = 2020-06-23 00:00:00, number of deaths =  63, number of infected = 660\n",
      "2020-07-21 18:15:58,215 - june.simulator - INFO - Date = 2020-06-23 01:00:00, number of deaths =  63, number of infected = 660\n",
      "2020-07-21 18:15:58,941 - june.simulator - INFO - Date = 2020-06-23 09:00:00, number of deaths =  63, number of infected = 651\n",
      "2020-07-21 18:16:00,003 - june.simulator - INFO - Date = 2020-06-23 10:00:00, number of deaths =  63, number of infected = 651\n",
      "2020-07-21 18:16:00,674 - june.simulator - INFO - Date = 2020-06-23 13:00:00, number of deaths =  63, number of infected = 644\n",
      "2020-07-21 18:16:01,380 - june.simulator - INFO - Date = 2020-06-24 00:00:00, number of deaths =  64, number of infected = 626\n",
      "2020-07-21 18:16:02,357 - june.simulator - INFO - Date = 2020-06-24 01:00:00, number of deaths =  64, number of infected = 627\n",
      "2020-07-21 18:16:03,081 - june.simulator - INFO - Date = 2020-06-24 09:00:00, number of deaths =  64, number of infected = 633\n",
      "2020-07-21 18:16:04,135 - june.simulator - INFO - Date = 2020-06-24 10:00:00, number of deaths =  64, number of infected = 630\n",
      "2020-07-21 18:16:04,826 - june.simulator - INFO - Date = 2020-06-24 13:00:00, number of deaths =  64, number of infected = 632\n",
      "2020-07-21 18:16:05,564 - june.simulator - INFO - Date = 2020-06-25 00:00:00, number of deaths =  64, number of infected = 621\n",
      "2020-07-21 18:16:06,678 - june.simulator - INFO - Date = 2020-06-25 01:00:00, number of deaths =  64, number of infected = 616\n",
      "2020-07-21 18:16:07,430 - june.simulator - INFO - Date = 2020-06-25 09:00:00, number of deaths =  64, number of infected = 615\n",
      "2020-07-21 18:16:08,330 - june.simulator - INFO - Date = 2020-06-25 10:00:00, number of deaths =  64, number of infected = 612\n",
      "2020-07-21 18:16:09,004 - june.simulator - INFO - Date = 2020-06-25 13:00:00, number of deaths =  64, number of infected = 610\n",
      "2020-07-21 18:16:09,769 - june.simulator - INFO - Date = 2020-06-26 00:00:00, number of deaths =  65, number of infected = 597\n",
      "2020-07-21 18:16:10,923 - june.simulator - INFO - Date = 2020-06-26 01:00:00, number of deaths =  65, number of infected = 597\n",
      "2020-07-21 18:16:11,783 - june.simulator - INFO - Date = 2020-06-26 09:00:00, number of deaths =  65, number of infected = 591\n",
      "2020-07-21 18:16:12,860 - june.simulator - INFO - Date = 2020-06-26 10:00:00, number of deaths =  65, number of infected = 590\n",
      "2020-07-21 18:16:13,516 - june.simulator - INFO - Date = 2020-06-26 13:00:00, number of deaths =  65, number of infected = 583\n",
      "2020-07-21 18:16:14,415 - june.simulator - INFO - Date = 2020-06-27 00:00:00, number of deaths =  65, number of infected = 566\n",
      "2020-07-21 18:16:15,434 - june.simulator - INFO - Date = 2020-06-27 04:00:00, number of deaths =  65, number of infected = 569\n",
      "2020-07-21 18:16:16,506 - june.simulator - INFO - Date = 2020-06-27 08:00:00, number of deaths =  65, number of infected = 570\n",
      "2020-07-21 18:16:17,397 - june.simulator - INFO - Date = 2020-06-27 12:00:00, number of deaths =  65, number of infected = 570\n",
      "2020-07-21 18:16:18,700 - june.simulator - INFO - Date = 2020-06-28 00:00:00, number of deaths =  65, number of infected = 551\n",
      "2020-07-21 18:16:19,668 - june.simulator - INFO - Date = 2020-06-28 04:00:00, number of deaths =  65, number of infected = 547\n",
      "2020-07-21 18:16:20,834 - june.simulator - INFO - Date = 2020-06-28 08:00:00, number of deaths =  65, number of infected = 547\n",
      "2020-07-21 18:16:21,632 - june.simulator - INFO - Date = 2020-06-28 12:00:00, number of deaths =  65, number of infected = 546\n",
      "2020-07-21 18:16:22,502 - june.simulator - INFO - Date = 2020-06-29 00:00:00, number of deaths =  65, number of infected = 538\n",
      "2020-07-21 18:16:23,695 - june.simulator - INFO - Date = 2020-06-29 01:00:00, number of deaths =  65, number of infected = 538\n",
      "2020-07-21 18:16:24,568 - june.simulator - INFO - Date = 2020-06-29 09:00:00, number of deaths =  65, number of infected = 537\n",
      "2020-07-21 18:16:25,703 - june.simulator - INFO - Date = 2020-06-29 10:00:00, number of deaths =  65, number of infected = 535\n",
      "2020-07-21 18:16:26,451 - june.simulator - INFO - Date = 2020-06-29 13:00:00, number of deaths =  65, number of infected = 535\n",
      "2020-07-21 18:16:27,147 - june.simulator - INFO - Date = 2020-06-30 00:00:00, number of deaths =  65, number of infected = 514\n",
      "2020-07-21 18:16:28,205 - june.simulator - INFO - Date = 2020-06-30 01:00:00, number of deaths =  65, number of infected = 514\n",
      "2020-07-21 18:16:28,977 - june.simulator - INFO - Date = 2020-06-30 09:00:00, number of deaths =  65, number of infected = 509\n",
      "2020-07-21 18:16:29,856 - june.simulator - INFO - Date = 2020-06-30 10:00:00, number of deaths =  65, number of infected = 508\n",
      "2020-07-21 18:16:30,542 - june.simulator - INFO - Date = 2020-06-30 13:00:00, number of deaths =  65, number of infected = 503\n",
      "2020-07-21 18:16:31,245 - june.simulator - INFO - Date = 2020-07-01 00:00:00, number of deaths =  65, number of infected = 489\n",
      "2020-07-21 18:16:32,496 - june.simulator - INFO - Date = 2020-07-01 01:00:00, number of deaths =  65, number of infected = 488\n",
      "2020-07-21 18:16:33,205 - june.simulator - INFO - Date = 2020-07-01 09:00:00, number of deaths =  65, number of infected = 479\n",
      "2020-07-21 18:16:34,126 - june.simulator - INFO - Date = 2020-07-01 10:00:00, number of deaths =  65, number of infected = 478\n",
      "2020-07-21 18:16:34,812 - june.simulator - INFO - Date = 2020-07-01 13:00:00, number of deaths =  65, number of infected = 478\n",
      "2020-07-21 18:16:35,627 - june.simulator - INFO - Date = 2020-07-02 00:00:00, number of deaths =  65, number of infected = 465\n",
      "2020-07-21 18:16:36,784 - june.simulator - INFO - Date = 2020-07-02 01:00:00, number of deaths =  65, number of infected = 462\n",
      "2020-07-21 18:16:37,644 - june.simulator - INFO - Date = 2020-07-02 09:00:00, number of deaths =  65, number of infected = 466\n",
      "2020-07-21 18:16:38,607 - june.simulator - INFO - Date = 2020-07-02 10:00:00, number of deaths =  65, number of infected = 465\n",
      "2020-07-21 18:16:39,659 - june.simulator - INFO - Date = 2020-07-02 13:00:00, number of deaths =  65, number of infected = 461\n"
     ]
    },
    {
     "name": "stdout",
     "output_type": "stream",
     "text": [
      "2020-07-21 18:16:40,526 - june.simulator - INFO - Date = 2020-07-03 00:00:00, number of deaths =  65, number of infected = 451\n",
      "2020-07-21 18:16:41,477 - june.simulator - INFO - Date = 2020-07-03 01:00:00, number of deaths =  65, number of infected = 448\n",
      "2020-07-21 18:16:42,188 - june.simulator - INFO - Date = 2020-07-03 09:00:00, number of deaths =  65, number of infected = 444\n",
      "2020-07-21 18:16:43,219 - june.simulator - INFO - Date = 2020-07-03 10:00:00, number of deaths =  65, number of infected = 440\n",
      "2020-07-21 18:16:44,004 - june.simulator - INFO - Date = 2020-07-03 13:00:00, number of deaths =  65, number of infected = 438\n",
      "2020-07-21 18:16:44,881 - june.simulator - INFO - Date = 2020-07-04 00:00:00, number of deaths =  65, number of infected = 429\n",
      "2020-07-21 18:16:45,683 - june.simulator - INFO - Date = 2020-07-04 04:00:00, number of deaths =  65, number of infected = 428\n",
      "2020-07-21 18:16:46,449 - june.simulator - INFO - Date = 2020-07-04 08:00:00, number of deaths =  65, number of infected = 425\n",
      "2020-07-21 18:16:46,995 - june.simulator - INFO - Date = 2020-07-04 12:00:00, number of deaths =  65, number of infected = 429\n",
      "2020-07-21 18:16:47,801 - june.simulator - INFO - Date = 2020-07-05 00:00:00, number of deaths =  65, number of infected = 419\n",
      "2020-07-21 18:16:48,599 - june.simulator - INFO - Date = 2020-07-05 04:00:00, number of deaths =  65, number of infected = 420\n",
      "2020-07-21 18:16:49,377 - june.simulator - INFO - Date = 2020-07-05 08:00:00, number of deaths =  65, number of infected = 417\n",
      "2020-07-21 18:16:49,885 - june.simulator - INFO - Date = 2020-07-05 12:00:00, number of deaths =  65, number of infected = 411\n",
      "2020-07-21 18:16:50,511 - june.simulator - INFO - Date = 2020-07-06 00:00:00, number of deaths =  65, number of infected = 397\n",
      "2020-07-21 18:16:51,261 - june.simulator - INFO - Date = 2020-07-06 01:00:00, number of deaths =  65, number of infected = 397\n",
      "2020-07-21 18:16:51,787 - june.simulator - INFO - Date = 2020-07-06 09:00:00, number of deaths =  65, number of infected = 400\n",
      "2020-07-21 18:16:52,586 - june.simulator - INFO - Date = 2020-07-06 10:00:00, number of deaths =  65, number of infected = 400\n",
      "2020-07-21 18:16:53,186 - june.simulator - INFO - Date = 2020-07-06 13:00:00, number of deaths =  65, number of infected = 403\n",
      "2020-07-21 18:16:53,836 - june.simulator - INFO - Date = 2020-07-07 00:00:00, number of deaths =  65, number of infected = 395\n",
      "2020-07-21 18:16:54,730 - june.simulator - INFO - Date = 2020-07-07 01:00:00, number of deaths =  65, number of infected = 393\n",
      "2020-07-21 18:16:55,321 - june.simulator - INFO - Date = 2020-07-07 09:00:00, number of deaths =  65, number of infected = 396\n",
      "2020-07-21 18:16:56,299 - june.simulator - INFO - Date = 2020-07-07 10:00:00, number of deaths =  65, number of infected = 397\n",
      "2020-07-21 18:16:56,893 - june.simulator - INFO - Date = 2020-07-07 13:00:00, number of deaths =  65, number of infected = 394\n",
      "2020-07-21 18:16:57,531 - june.simulator - INFO - Date = 2020-07-08 00:00:00, number of deaths =  65, number of infected = 386\n",
      "2020-07-21 18:16:58,444 - june.simulator - INFO - Date = 2020-07-08 01:00:00, number of deaths =  65, number of infected = 386\n",
      "2020-07-21 18:16:59,029 - june.simulator - INFO - Date = 2020-07-08 09:00:00, number of deaths =  65, number of infected = 389\n",
      "2020-07-21 18:16:59,994 - june.simulator - INFO - Date = 2020-07-08 10:00:00, number of deaths =  65, number of infected = 389\n",
      "2020-07-21 18:17:00,516 - june.simulator - INFO - Date = 2020-07-08 13:00:00, number of deaths =  65, number of infected = 390\n",
      "2020-07-21 18:17:01,074 - june.simulator - INFO - Date = 2020-07-09 00:00:00, number of deaths =  65, number of infected = 384\n",
      "2020-07-21 18:17:01,844 - june.simulator - INFO - Date = 2020-07-09 01:00:00, number of deaths =  65, number of infected = 381\n",
      "2020-07-21 18:17:02,414 - june.simulator - INFO - Date = 2020-07-09 09:00:00, number of deaths =  65, number of infected = 382\n",
      "2020-07-21 18:17:03,374 - june.simulator - INFO - Date = 2020-07-09 10:00:00, number of deaths =  65, number of infected = 381\n",
      "2020-07-21 18:17:04,011 - june.simulator - INFO - Date = 2020-07-09 13:00:00, number of deaths =  65, number of infected = 385\n",
      "2020-07-21 18:17:04,631 - june.simulator - INFO - Date = 2020-07-10 00:00:00, number of deaths =  65, number of infected = 375\n",
      "2020-07-21 18:17:05,482 - june.simulator - INFO - Date = 2020-07-10 01:00:00, number of deaths =  65, number of infected = 373\n",
      "2020-07-21 18:17:06,126 - june.simulator - INFO - Date = 2020-07-10 09:00:00, number of deaths =  65, number of infected = 375\n",
      "2020-07-21 18:17:07,020 - june.simulator - INFO - Date = 2020-07-10 10:00:00, number of deaths =  65, number of infected = 375\n",
      "2020-07-21 18:17:07,623 - june.simulator - INFO - Date = 2020-07-10 13:00:00, number of deaths =  65, number of infected = 377\n",
      "2020-07-21 18:17:08,600 - june.simulator - INFO - Date = 2020-07-11 00:00:00, number of deaths =  65, number of infected = 375\n",
      "2020-07-21 18:17:09,392 - june.simulator - INFO - Date = 2020-07-11 04:00:00, number of deaths =  65, number of infected = 375\n",
      "2020-07-21 18:17:10,265 - june.simulator - INFO - Date = 2020-07-11 08:00:00, number of deaths =  65, number of infected = 374\n",
      "2020-07-21 18:17:10,892 - june.simulator - INFO - Date = 2020-07-11 12:00:00, number of deaths =  65, number of infected = 380\n",
      "2020-07-21 18:17:11,858 - june.simulator - INFO - Date = 2020-07-12 00:00:00, number of deaths =  65, number of infected = 377\n",
      "2020-07-21 18:17:12,652 - june.simulator - INFO - Date = 2020-07-12 04:00:00, number of deaths =  65, number of infected = 378\n",
      "2020-07-21 18:17:13,524 - june.simulator - INFO - Date = 2020-07-12 08:00:00, number of deaths =  65, number of infected = 373\n",
      "2020-07-21 18:17:14,069 - june.simulator - INFO - Date = 2020-07-12 12:00:00, number of deaths =  65, number of infected = 374\n",
      "2020-07-21 18:17:14,633 - june.simulator - INFO - Date = 2020-07-13 00:00:00, number of deaths =  65, number of infected = 367\n",
      "2020-07-21 18:17:15,461 - june.simulator - INFO - Date = 2020-07-13 01:00:00, number of deaths =  65, number of infected = 368\n",
      "2020-07-21 18:17:16,006 - june.simulator - INFO - Date = 2020-07-13 09:00:00, number of deaths =  65, number of infected = 383\n",
      "2020-07-21 18:17:16,949 - june.simulator - INFO - Date = 2020-07-13 10:00:00, number of deaths =  65, number of infected = 384\n",
      "2020-07-21 18:17:17,470 - june.simulator - INFO - Date = 2020-07-13 13:00:00, number of deaths =  65, number of infected = 382\n",
      "2020-07-21 18:17:18,080 - june.simulator - INFO - Date = 2020-07-14 00:00:00, number of deaths =  65, number of infected = 384\n",
      "2020-07-21 18:17:19,029 - june.simulator - INFO - Date = 2020-07-14 01:00:00, number of deaths =  65, number of infected = 384\n",
      "2020-07-21 18:17:19,641 - june.simulator - INFO - Date = 2020-07-14 09:00:00, number of deaths =  65, number of infected = 388\n",
      "2020-07-21 18:17:20,560 - june.simulator - INFO - Date = 2020-07-14 10:00:00, number of deaths =  65, number of infected = 390\n",
      "2020-07-21 18:17:21,229 - june.simulator - INFO - Date = 2020-07-14 13:00:00, number of deaths =  65, number of infected = 392\n",
      "2020-07-21 18:17:22,249 - june.simulator - INFO - Date = 2020-07-15 00:00:00, number of deaths =  65, number of infected = 397\n",
      "2020-07-21 18:17:23,201 - june.simulator - INFO - Date = 2020-07-15 01:00:00, number of deaths =  65, number of infected = 397\n",
      "2020-07-21 18:17:23,840 - june.simulator - INFO - Date = 2020-07-15 09:00:00, number of deaths =  65, number of infected = 401\n",
      "2020-07-21 18:17:24,810 - june.simulator - INFO - Date = 2020-07-15 10:00:00, number of deaths =  65, number of infected = 400\n",
      "2020-07-21 18:17:25,405 - june.simulator - INFO - Date = 2020-07-15 13:00:00, number of deaths =  65, number of infected = 406\n",
      "2020-07-21 18:17:26,089 - june.simulator - INFO - Date = 2020-07-16 00:00:00, number of deaths =  65, number of infected = 413\n",
      "2020-07-21 18:17:26,895 - june.simulator - INFO - Date = 2020-07-16 01:00:00, number of deaths =  65, number of infected = 413\n",
      "2020-07-21 18:17:27,514 - june.simulator - INFO - Date = 2020-07-16 09:00:00, number of deaths =  65, number of infected = 423\n",
      "2020-07-21 18:17:28,530 - june.simulator - INFO - Date = 2020-07-16 10:00:00, number of deaths =  65, number of infected = 424\n"
     ]
    },
    {
     "name": "stdout",
     "output_type": "stream",
     "text": [
      "2020-07-21 18:17:29,114 - june.simulator - INFO - Date = 2020-07-16 13:00:00, number of deaths =  65, number of infected = 428\n",
      "2020-07-21 18:17:29,745 - june.simulator - INFO - Date = 2020-07-17 00:00:00, number of deaths =  65, number of infected = 415\n",
      "2020-07-21 18:17:30,711 - june.simulator - INFO - Date = 2020-07-17 01:00:00, number of deaths =  65, number of infected = 417\n",
      "2020-07-21 18:17:31,399 - june.simulator - INFO - Date = 2020-07-17 09:00:00, number of deaths =  65, number of infected = 434\n",
      "2020-07-21 18:17:32,339 - june.simulator - INFO - Date = 2020-07-17 10:00:00, number of deaths =  65, number of infected = 437\n",
      "2020-07-21 18:17:32,976 - june.simulator - INFO - Date = 2020-07-17 13:00:00, number of deaths =  65, number of infected = 436\n",
      "2020-07-21 18:17:34,146 - june.simulator - INFO - Date = 2020-07-18 00:00:00, number of deaths =  65, number of infected = 437\n",
      "2020-07-21 18:17:35,169 - june.simulator - INFO - Date = 2020-07-18 04:00:00, number of deaths =  65, number of infected = 439\n",
      "2020-07-21 18:17:35,988 - june.simulator - INFO - Date = 2020-07-18 08:00:00, number of deaths =  65, number of infected = 441\n",
      "2020-07-21 18:17:36,686 - june.simulator - INFO - Date = 2020-07-18 12:00:00, number of deaths =  65, number of infected = 443\n",
      "2020-07-21 18:17:37,632 - june.simulator - INFO - Date = 2020-07-19 00:00:00, number of deaths =  65, number of infected = 450\n",
      "2020-07-21 18:17:38,522 - june.simulator - INFO - Date = 2020-07-19 04:00:00, number of deaths =  65, number of infected = 453\n",
      "2020-07-21 18:17:39,464 - june.simulator - INFO - Date = 2020-07-19 08:00:00, number of deaths =  65, number of infected = 454\n",
      "2020-07-21 18:17:40,030 - june.simulator - INFO - Date = 2020-07-19 12:00:00, number of deaths =  65, number of infected = 458\n",
      "2020-07-21 18:17:40,655 - june.simulator - INFO - Date = 2020-07-20 00:00:00, number of deaths =  65, number of infected = 460\n",
      "2020-07-21 18:17:41,571 - june.simulator - INFO - Date = 2020-07-20 01:00:00, number of deaths =  65, number of infected = 461\n",
      "2020-07-21 18:17:42,101 - june.simulator - INFO - Date = 2020-07-20 09:00:00, number of deaths =  65, number of infected = 473\n",
      "2020-07-21 18:17:42,931 - june.simulator - INFO - Date = 2020-07-20 10:00:00, number of deaths =  65, number of infected = 475\n",
      "2020-07-21 18:17:43,558 - june.simulator - INFO - Date = 2020-07-20 13:00:00, number of deaths =  65, number of infected = 481\n",
      "2020-07-21 18:17:44,357 - june.simulator - INFO - Date = 2020-07-21 00:00:00, number of deaths =  65, number of infected = 491\n",
      "2020-07-21 18:17:45,396 - june.simulator - INFO - Date = 2020-07-21 01:00:00, number of deaths =  65, number of infected = 495\n",
      "2020-07-21 18:17:46,023 - june.simulator - INFO - Date = 2020-07-21 09:00:00, number of deaths =  65, number of infected = 506\n",
      "2020-07-21 18:17:47,042 - june.simulator - INFO - Date = 2020-07-21 10:00:00, number of deaths =  65, number of infected = 505\n",
      "2020-07-21 18:17:47,739 - june.simulator - INFO - Date = 2020-07-21 13:00:00, number of deaths =  65, number of infected = 511\n",
      "2020-07-21 18:17:48,523 - june.simulator - INFO - Date = 2020-07-22 00:00:00, number of deaths =  65, number of infected = 522\n",
      "2020-07-21 18:17:49,584 - june.simulator - INFO - Date = 2020-07-22 01:00:00, number of deaths =  65, number of infected = 523\n",
      "2020-07-21 18:17:50,304 - june.simulator - INFO - Date = 2020-07-22 09:00:00, number of deaths =  65, number of infected = 540\n",
      "2020-07-21 18:17:51,394 - june.simulator - INFO - Date = 2020-07-22 10:00:00, number of deaths =  65, number of infected = 540\n",
      "2020-07-21 18:17:52,163 - june.simulator - INFO - Date = 2020-07-22 13:00:00, number of deaths =  65, number of infected = 539\n",
      "2020-07-21 18:17:53,004 - june.simulator - INFO - Date = 2020-07-23 00:00:00, number of deaths =  65, number of infected = 554\n",
      "2020-07-21 18:17:53,977 - june.simulator - INFO - Date = 2020-07-23 01:00:00, number of deaths =  65, number of infected = 554\n",
      "2020-07-21 18:17:54,758 - june.simulator - INFO - Date = 2020-07-23 09:00:00, number of deaths =  65, number of infected = 579\n",
      "2020-07-21 18:17:55,743 - june.simulator - INFO - Date = 2020-07-23 10:00:00, number of deaths =  65, number of infected = 581\n",
      "2020-07-21 18:17:56,361 - june.simulator - INFO - Date = 2020-07-23 13:00:00, number of deaths =  65, number of infected = 583\n",
      "2020-07-21 18:17:56,973 - june.simulator - INFO - Date = 2020-07-24 00:00:00, number of deaths =  65, number of infected = 598\n",
      "2020-07-21 18:17:57,777 - june.simulator - INFO - Date = 2020-07-24 01:00:00, number of deaths =  65, number of infected = 599\n",
      "2020-07-21 18:17:58,360 - june.simulator - INFO - Date = 2020-07-24 09:00:00, number of deaths =  65, number of infected = 610\n",
      "2020-07-21 18:17:59,295 - june.simulator - INFO - Date = 2020-07-24 10:00:00, number of deaths =  65, number of infected = 612\n",
      "2020-07-21 18:17:59,896 - june.simulator - INFO - Date = 2020-07-24 13:00:00, number of deaths =  65, number of infected = 621\n",
      "2020-07-21 18:18:00,745 - june.simulator - INFO - Date = 2020-07-25 00:00:00, number of deaths =  66, number of infected = 634\n",
      "2020-07-21 18:18:01,558 - june.simulator - INFO - Date = 2020-07-25 04:00:00, number of deaths =  66, number of infected = 643\n",
      "2020-07-21 18:18:02,413 - june.simulator - INFO - Date = 2020-07-25 08:00:00, number of deaths =  66, number of infected = 655\n",
      "2020-07-21 18:18:02,978 - june.simulator - INFO - Date = 2020-07-25 12:00:00, number of deaths =  66, number of infected = 666\n",
      "2020-07-21 18:18:03,812 - june.simulator - INFO - Date = 2020-07-26 00:00:00, number of deaths =  66, number of infected = 674\n",
      "2020-07-21 18:18:04,721 - june.simulator - INFO - Date = 2020-07-26 04:00:00, number of deaths =  66, number of infected = 680\n",
      "2020-07-21 18:18:05,776 - june.simulator - INFO - Date = 2020-07-26 08:00:00, number of deaths =  66, number of infected = 689\n",
      "2020-07-21 18:18:06,325 - june.simulator - INFO - Date = 2020-07-26 12:00:00, number of deaths =  66, number of infected = 693\n",
      "2020-07-21 18:18:07,005 - june.simulator - INFO - Date = 2020-07-27 00:00:00, number of deaths =  66, number of infected = 692\n",
      "2020-07-21 18:18:07,908 - june.simulator - INFO - Date = 2020-07-27 01:00:00, number of deaths =  66, number of infected = 693\n",
      "2020-07-21 18:18:08,542 - june.simulator - INFO - Date = 2020-07-27 09:00:00, number of deaths =  67, number of infected = 724\n",
      "2020-07-21 18:18:09,468 - june.simulator - INFO - Date = 2020-07-27 10:00:00, number of deaths =  67, number of infected = 727\n",
      "2020-07-21 18:18:09,995 - june.simulator - INFO - Date = 2020-07-27 13:00:00, number of deaths =  67, number of infected = 731\n",
      "2020-07-21 18:18:10,635 - june.simulator - INFO - Date = 2020-07-28 00:00:00, number of deaths =  67, number of infected = 747\n",
      "2020-07-21 18:18:11,587 - june.simulator - INFO - Date = 2020-07-28 01:00:00, number of deaths =  67, number of infected = 747\n",
      "2020-07-21 18:18:12,229 - june.simulator - INFO - Date = 2020-07-28 09:00:00, number of deaths =  67, number of infected = 776\n",
      "2020-07-21 18:18:13,082 - june.simulator - INFO - Date = 2020-07-28 10:00:00, number of deaths =  67, number of infected = 777\n",
      "2020-07-21 18:18:13,661 - june.simulator - INFO - Date = 2020-07-28 13:00:00, number of deaths =  67, number of infected = 783\n",
      "2020-07-21 18:18:14,309 - june.simulator - INFO - Date = 2020-07-29 00:00:00, number of deaths =  67, number of infected = 792\n",
      "2020-07-21 18:18:15,206 - june.simulator - INFO - Date = 2020-07-29 01:00:00, number of deaths =  67, number of infected = 793\n",
      "2020-07-21 18:18:15,846 - june.simulator - INFO - Date = 2020-07-29 09:00:00, number of deaths =  67, number of infected = 824\n",
      "2020-07-21 18:18:16,703 - june.simulator - INFO - Date = 2020-07-29 10:00:00, number of deaths =  67, number of infected = 828\n",
      "2020-07-21 18:18:17,299 - june.simulator - INFO - Date = 2020-07-29 13:00:00, number of deaths =  67, number of infected = 835\n",
      "2020-07-21 18:18:17,986 - june.simulator - INFO - Date = 2020-07-30 00:00:00, number of deaths =  67, number of infected = 861\n",
      "2020-07-21 18:18:18,778 - june.simulator - INFO - Date = 2020-07-30 01:00:00, number of deaths =  67, number of infected = 860\n",
      "2020-07-21 18:18:19,431 - june.simulator - INFO - Date = 2020-07-30 09:00:00, number of deaths =  67, number of infected = 888\n"
     ]
    },
    {
     "name": "stdout",
     "output_type": "stream",
     "text": [
      "2020-07-21 18:18:20,283 - june.simulator - INFO - Date = 2020-07-30 10:00:00, number of deaths =  67, number of infected = 889\n",
      "2020-07-21 18:18:20,894 - june.simulator - INFO - Date = 2020-07-30 13:00:00, number of deaths =  67, number of infected = 899\n",
      "2020-07-21 18:18:21,505 - june.simulator - INFO - Date = 2020-07-31 00:00:00, number of deaths =  67, number of infected = 906\n",
      "2020-07-21 18:18:22,231 - june.simulator - INFO - Date = 2020-07-31 01:00:00, number of deaths =  67, number of infected = 909\n",
      "2020-07-21 18:18:22,888 - june.simulator - INFO - Date = 2020-07-31 09:00:00, number of deaths =  67, number of infected = 942\n",
      "2020-07-21 18:18:23,732 - june.simulator - INFO - Date = 2020-07-31 10:00:00, number of deaths =  67, number of infected = 943\n",
      "2020-07-21 18:18:24,259 - june.simulator - INFO - Date = 2020-07-31 13:00:00, number of deaths =  67, number of infected = 950\n",
      "2020-07-21 18:18:25,286 - june.simulator - INFO - Date = 2020-08-01 00:00:00, number of deaths =  67, number of infected = 960\n",
      "2020-07-21 18:18:26,140 - june.simulator - INFO - Date = 2020-08-01 04:00:00, number of deaths =  67, number of infected = 965\n",
      "2020-07-21 18:18:26,983 - june.simulator - INFO - Date = 2020-08-01 08:00:00, number of deaths =  67, number of infected = 986\n",
      "2020-07-21 18:18:27,683 - june.simulator - INFO - Date = 2020-08-01 12:00:00, number of deaths =  67, number of infected = 1004\n",
      "2020-07-21 18:18:28,741 - june.simulator - INFO - Date = 2020-08-02 00:00:00, number of deaths =  68, number of infected = 1029\n",
      "2020-07-21 18:18:29,787 - june.simulator - INFO - Date = 2020-08-02 04:00:00, number of deaths =  68, number of infected = 1042\n",
      "2020-07-21 18:18:30,810 - june.simulator - INFO - Date = 2020-08-02 08:00:00, number of deaths =  68, number of infected = 1052\n",
      "2020-07-21 18:18:31,435 - june.simulator - INFO - Date = 2020-08-02 12:00:00, number of deaths =  68, number of infected = 1059\n",
      "2020-07-21 18:18:32,103 - june.simulator - INFO - Date = 2020-08-03 00:00:00, number of deaths =  68, number of infected = 1073\n",
      "2020-07-21 18:18:33,005 - june.simulator - INFO - Date = 2020-08-03 01:00:00, number of deaths =  68, number of infected = 1074\n",
      "2020-07-21 18:18:33,712 - june.simulator - INFO - Date = 2020-08-03 09:00:00, number of deaths =  68, number of infected = 1113\n",
      "2020-07-21 18:18:34,558 - june.simulator - INFO - Date = 2020-08-03 10:00:00, number of deaths =  68, number of infected = 1114\n",
      "2020-07-21 18:18:35,162 - june.simulator - INFO - Date = 2020-08-03 13:00:00, number of deaths =  68, number of infected = 1129\n",
      "2020-07-21 18:18:35,828 - june.simulator - INFO - Date = 2020-08-04 00:00:00, number of deaths =  68, number of infected = 1142\n",
      "2020-07-21 18:18:36,644 - june.simulator - INFO - Date = 2020-08-04 01:00:00, number of deaths =  68, number of infected = 1142\n",
      "2020-07-21 18:18:37,323 - june.simulator - INFO - Date = 2020-08-04 09:00:00, number of deaths =  68, number of infected = 1180\n",
      "2020-07-21 18:18:38,160 - june.simulator - INFO - Date = 2020-08-04 10:00:00, number of deaths =  68, number of infected = 1184\n",
      "2020-07-21 18:18:38,783 - june.simulator - INFO - Date = 2020-08-04 13:00:00, number of deaths =  68, number of infected = 1204\n",
      "2020-07-21 18:18:39,478 - june.simulator - INFO - Date = 2020-08-05 00:00:00, number of deaths =  68, number of infected = 1221\n",
      "2020-07-21 18:18:40,257 - june.simulator - INFO - Date = 2020-08-05 01:00:00, number of deaths =  68, number of infected = 1217\n",
      "2020-07-21 18:18:40,885 - june.simulator - INFO - Date = 2020-08-05 09:00:00, number of deaths =  68, number of infected = 1244\n",
      "2020-07-21 18:18:41,834 - june.simulator - INFO - Date = 2020-08-05 10:00:00, number of deaths =  68, number of infected = 1246\n",
      "2020-07-21 18:18:42,426 - june.simulator - INFO - Date = 2020-08-05 13:00:00, number of deaths =  68, number of infected = 1258\n",
      "2020-07-21 18:18:43,190 - june.simulator - INFO - Date = 2020-08-06 00:00:00, number of deaths =  68, number of infected = 1288\n",
      "2020-07-21 18:18:43,972 - june.simulator - INFO - Date = 2020-08-06 01:00:00, number of deaths =  68, number of infected = 1293\n",
      "2020-07-21 18:18:44,655 - june.simulator - INFO - Date = 2020-08-06 09:00:00, number of deaths =  68, number of infected = 1318\n",
      "2020-07-21 18:18:45,678 - june.simulator - INFO - Date = 2020-08-06 10:00:00, number of deaths =  68, number of infected = 1318\n",
      "2020-07-21 18:18:46,427 - june.simulator - INFO - Date = 2020-08-06 13:00:00, number of deaths =  68, number of infected = 1342\n",
      "2020-07-21 18:18:47,204 - june.simulator - INFO - Date = 2020-08-07 00:00:00, number of deaths =  69, number of infected = 1358\n",
      "2020-07-21 18:18:47,990 - june.simulator - INFO - Date = 2020-08-07 01:00:00, number of deaths =  69, number of infected = 1361\n",
      "2020-07-21 18:18:48,704 - june.simulator - INFO - Date = 2020-08-07 09:00:00, number of deaths =  69, number of infected = 1395\n",
      "2020-07-21 18:18:49,572 - june.simulator - INFO - Date = 2020-08-07 10:00:00, number of deaths =  69, number of infected = 1399\n",
      "2020-07-21 18:18:50,232 - june.simulator - INFO - Date = 2020-08-07 13:00:00, number of deaths =  69, number of infected = 1421\n",
      "2020-07-21 18:18:51,250 - june.simulator - INFO - Date = 2020-08-08 00:00:00, number of deaths =  69, number of infected = 1451\n",
      "2020-07-21 18:18:52,270 - june.simulator - INFO - Date = 2020-08-08 04:00:00, number of deaths =  69, number of infected = 1470\n",
      "2020-07-21 18:18:53,365 - june.simulator - INFO - Date = 2020-08-08 08:00:00, number of deaths =  69, number of infected = 1489\n",
      "2020-07-21 18:18:54,052 - june.simulator - INFO - Date = 2020-08-08 12:00:00, number of deaths =  69, number of infected = 1511\n",
      "2020-07-21 18:18:55,161 - june.simulator - INFO - Date = 2020-08-09 00:00:00, number of deaths =  69, number of infected = 1523\n",
      "2020-07-21 18:18:56,220 - june.simulator - INFO - Date = 2020-08-09 04:00:00, number of deaths =  69, number of infected = 1540\n",
      "2020-07-21 18:18:57,337 - june.simulator - INFO - Date = 2020-08-09 08:00:00, number of deaths =  70, number of infected = 1551\n",
      "2020-07-21 18:18:58,060 - june.simulator - INFO - Date = 2020-08-09 12:00:00, number of deaths =  70, number of infected = 1565\n",
      "2020-07-21 18:18:58,830 - june.simulator - INFO - Date = 2020-08-10 00:00:00, number of deaths =  70, number of infected = 1577\n",
      "2020-07-21 18:18:59,791 - june.simulator - INFO - Date = 2020-08-10 01:00:00, number of deaths =  70, number of infected = 1576\n",
      "2020-07-21 18:19:00,542 - june.simulator - INFO - Date = 2020-08-10 09:00:00, number of deaths =  70, number of infected = 1623\n",
      "2020-07-21 18:19:01,490 - june.simulator - INFO - Date = 2020-08-10 10:00:00, number of deaths =  70, number of infected = 1625\n",
      "2020-07-21 18:19:02,162 - june.simulator - INFO - Date = 2020-08-10 13:00:00, number of deaths =  70, number of infected = 1643\n",
      "2020-07-21 18:19:02,870 - june.simulator - INFO - Date = 2020-08-11 00:00:00, number of deaths =  71, number of infected = 1660\n",
      "2020-07-21 18:19:03,698 - june.simulator - INFO - Date = 2020-08-11 01:00:00, number of deaths =  71, number of infected = 1660\n",
      "2020-07-21 18:19:04,379 - june.simulator - INFO - Date = 2020-08-11 09:00:00, number of deaths =  71, number of infected = 1702\n",
      "2020-07-21 18:19:05,196 - june.simulator - INFO - Date = 2020-08-11 10:00:00, number of deaths =  71, number of infected = 1704\n",
      "2020-07-21 18:19:05,802 - june.simulator - INFO - Date = 2020-08-11 13:00:00, number of deaths =  71, number of infected = 1714\n",
      "2020-07-21 18:19:06,467 - june.simulator - INFO - Date = 2020-08-12 00:00:00, number of deaths =  71, number of infected = 1736\n",
      "2020-07-21 18:19:07,308 - june.simulator - INFO - Date = 2020-08-12 01:00:00, number of deaths =  71, number of infected = 1738\n",
      "2020-07-21 18:19:08,084 - june.simulator - INFO - Date = 2020-08-12 09:00:00, number of deaths =  71, number of infected = 1770\n",
      "2020-07-21 18:19:09,055 - june.simulator - INFO - Date = 2020-08-12 10:00:00, number of deaths =  71, number of infected = 1774\n",
      "2020-07-21 18:19:09,738 - june.simulator - INFO - Date = 2020-08-12 13:00:00, number of deaths =  71, number of infected = 1786\n",
      "2020-07-21 18:19:10,533 - june.simulator - INFO - Date = 2020-08-13 00:00:00, number of deaths =  72, number of infected = 1804\n",
      "2020-07-21 18:19:11,451 - june.simulator - INFO - Date = 2020-08-13 01:00:00, number of deaths =  72, number of infected = 1805\n"
     ]
    },
    {
     "name": "stdout",
     "output_type": "stream",
     "text": [
      "2020-07-21 18:19:12,176 - june.simulator - INFO - Date = 2020-08-13 09:00:00, number of deaths =  72, number of infected = 1857\n",
      "2020-07-21 18:19:13,107 - june.simulator - INFO - Date = 2020-08-13 10:00:00, number of deaths =  73, number of infected = 1859\n",
      "2020-07-21 18:19:13,796 - june.simulator - INFO - Date = 2020-08-13 13:00:00, number of deaths =  73, number of infected = 1874\n",
      "2020-07-21 18:19:14,611 - june.simulator - INFO - Date = 2020-08-14 00:00:00, number of deaths =  73, number of infected = 1899\n",
      "2020-07-21 18:19:15,586 - june.simulator - INFO - Date = 2020-08-14 01:00:00, number of deaths =  73, number of infected = 1906\n",
      "2020-07-21 18:19:16,759 - june.simulator - INFO - Date = 2020-08-14 09:00:00, number of deaths =  73, number of infected = 1950\n",
      "2020-07-21 18:19:17,812 - june.simulator - INFO - Date = 2020-08-14 10:00:00, number of deaths =  73, number of infected = 1951\n",
      "2020-07-21 18:19:18,582 - june.simulator - INFO - Date = 2020-08-14 13:00:00, number of deaths =  73, number of infected = 1967\n",
      "2020-07-21 18:19:19,545 - june.simulator - INFO - Date = 2020-08-15 00:00:00, number of deaths =  73, number of infected = 1981\n",
      "2020-07-21 18:19:20,446 - june.simulator - INFO - Date = 2020-08-15 04:00:00, number of deaths =  73, number of infected = 1994\n",
      "2020-07-21 18:19:21,474 - june.simulator - INFO - Date = 2020-08-15 08:00:00, number of deaths =  73, number of infected = 2014\n",
      "2020-07-21 18:19:22,089 - june.simulator - INFO - Date = 2020-08-15 12:00:00, number of deaths =  73, number of infected = 2020\n",
      "2020-07-21 18:19:23,205 - june.simulator - INFO - Date = 2020-08-16 00:00:00, number of deaths =  73, number of infected = 2044\n",
      "2020-07-21 18:19:24,261 - june.simulator - INFO - Date = 2020-08-16 04:00:00, number of deaths =  73, number of infected = 2058\n",
      "2020-07-21 18:19:25,276 - june.simulator - INFO - Date = 2020-08-16 08:00:00, number of deaths =  73, number of infected = 2071\n",
      "2020-07-21 18:19:25,971 - june.simulator - INFO - Date = 2020-08-16 12:00:00, number of deaths =  73, number of infected = 2084\n",
      "2020-07-21 18:19:26,777 - june.simulator - INFO - Date = 2020-08-17 00:00:00, number of deaths =  73, number of infected = 2099\n",
      "2020-07-21 18:19:27,705 - june.simulator - INFO - Date = 2020-08-17 01:00:00, number of deaths =  73, number of infected = 2099\n",
      "2020-07-21 18:19:28,502 - june.simulator - INFO - Date = 2020-08-17 09:00:00, number of deaths =  73, number of infected = 2137\n",
      "2020-07-21 18:19:29,489 - june.simulator - INFO - Date = 2020-08-17 10:00:00, number of deaths =  73, number of infected = 2136\n",
      "2020-07-21 18:19:30,205 - june.simulator - INFO - Date = 2020-08-17 13:00:00, number of deaths =  73, number of infected = 2153\n",
      "2020-07-21 18:19:31,081 - june.simulator - INFO - Date = 2020-08-18 00:00:00, number of deaths =  73, number of infected = 2182\n",
      "2020-07-21 18:19:32,042 - june.simulator - INFO - Date = 2020-08-18 01:00:00, number of deaths =  73, number of infected = 2184\n",
      "2020-07-21 18:19:32,851 - june.simulator - INFO - Date = 2020-08-18 09:00:00, number of deaths =  73, number of infected = 2222\n",
      "2020-07-21 18:19:33,896 - june.simulator - INFO - Date = 2020-08-18 10:00:00, number of deaths =  73, number of infected = 2225\n",
      "2020-07-21 18:19:34,606 - june.simulator - INFO - Date = 2020-08-18 13:00:00, number of deaths =  73, number of infected = 2239\n",
      "2020-07-21 18:19:35,522 - june.simulator - INFO - Date = 2020-08-19 00:00:00, number of deaths =  73, number of infected = 2275\n",
      "2020-07-21 18:19:36,482 - june.simulator - INFO - Date = 2020-08-19 01:00:00, number of deaths =  73, number of infected = 2277\n",
      "2020-07-21 18:19:37,371 - june.simulator - INFO - Date = 2020-08-19 09:00:00, number of deaths =  73, number of infected = 2330\n",
      "2020-07-21 18:19:38,169 - june.simulator - INFO - Date = 2020-08-19 10:00:00, number of deaths =  73, number of infected = 2334\n",
      "2020-07-21 18:19:38,831 - june.simulator - INFO - Date = 2020-08-19 13:00:00, number of deaths =  73, number of infected = 2346\n",
      "2020-07-21 18:19:39,712 - june.simulator - INFO - Date = 2020-08-20 00:00:00, number of deaths =  73, number of infected = 2374\n",
      "2020-07-21 18:19:40,762 - june.simulator - INFO - Date = 2020-08-20 01:00:00, number of deaths =  73, number of infected = 2378\n",
      "2020-07-21 18:19:41,716 - june.simulator - INFO - Date = 2020-08-20 09:00:00, number of deaths =  73, number of infected = 2433\n",
      "2020-07-21 18:19:42,822 - june.simulator - INFO - Date = 2020-08-20 10:00:00, number of deaths =  73, number of infected = 2431\n",
      "2020-07-21 18:19:43,461 - june.simulator - INFO - Date = 2020-08-20 13:00:00, number of deaths =  73, number of infected = 2444\n",
      "2020-07-21 18:19:44,245 - june.simulator - INFO - Date = 2020-08-21 00:00:00, number of deaths =  73, number of infected = 2481\n",
      "2020-07-21 18:19:45,041 - june.simulator - INFO - Date = 2020-08-21 01:00:00, number of deaths =  73, number of infected = 2484\n",
      "2020-07-21 18:19:45,797 - june.simulator - INFO - Date = 2020-08-21 09:00:00, number of deaths =  73, number of infected = 2533\n",
      "2020-07-21 18:19:46,636 - june.simulator - INFO - Date = 2020-08-21 10:00:00, number of deaths =  73, number of infected = 2536\n",
      "2020-07-21 18:19:47,216 - june.simulator - INFO - Date = 2020-08-21 13:00:00, number of deaths =  73, number of infected = 2552\n",
      "2020-07-21 18:19:48,373 - june.simulator - INFO - Date = 2020-08-22 00:00:00, number of deaths =  73, number of infected = 2572\n",
      "2020-07-21 18:19:49,310 - june.simulator - INFO - Date = 2020-08-22 04:00:00, number of deaths =  73, number of infected = 2585\n",
      "2020-07-21 18:19:50,306 - june.simulator - INFO - Date = 2020-08-22 08:00:00, number of deaths =  73, number of infected = 2615\n",
      "2020-07-21 18:19:51,085 - june.simulator - INFO - Date = 2020-08-22 12:00:00, number of deaths =  73, number of infected = 2628\n",
      "2020-07-21 18:19:52,226 - june.simulator - INFO - Date = 2020-08-23 00:00:00, number of deaths =  73, number of infected = 2645\n",
      "2020-07-21 18:19:53,398 - june.simulator - INFO - Date = 2020-08-23 04:00:00, number of deaths =  73, number of infected = 2669\n",
      "2020-07-21 18:19:54,279 - june.simulator - INFO - Date = 2020-08-23 08:00:00, number of deaths =  73, number of infected = 2682\n",
      "2020-07-21 18:19:55,022 - june.simulator - INFO - Date = 2020-08-23 12:00:00, number of deaths =  73, number of infected = 2700\n",
      "2020-07-21 18:19:55,887 - june.simulator - INFO - Date = 2020-08-24 00:00:00, number of deaths =  73, number of infected = 2714\n",
      "2020-07-21 18:19:56,837 - june.simulator - INFO - Date = 2020-08-24 01:00:00, number of deaths =  73, number of infected = 2711\n",
      "2020-07-21 18:19:57,745 - june.simulator - INFO - Date = 2020-08-24 09:00:00, number of deaths =  73, number of infected = 2766\n",
      "2020-07-21 18:19:58,578 - june.simulator - INFO - Date = 2020-08-24 10:00:00, number of deaths =  73, number of infected = 2766\n",
      "2020-07-21 18:19:59,179 - june.simulator - INFO - Date = 2020-08-24 13:00:00, number of deaths =  73, number of infected = 2777\n",
      "2020-07-21 18:19:59,908 - june.simulator - INFO - Date = 2020-08-25 00:00:00, number of deaths =  73, number of infected = 2793\n",
      "2020-07-21 18:20:00,672 - june.simulator - INFO - Date = 2020-08-25 01:00:00, number of deaths =  73, number of infected = 2790\n",
      "2020-07-21 18:20:01,379 - june.simulator - INFO - Date = 2020-08-25 09:00:00, number of deaths =  73, number of infected = 2831\n",
      "2020-07-21 18:20:02,231 - june.simulator - INFO - Date = 2020-08-25 10:00:00, number of deaths =  73, number of infected = 2833\n",
      "2020-07-21 18:20:02,794 - june.simulator - INFO - Date = 2020-08-25 13:00:00, number of deaths =  73, number of infected = 2847\n",
      "2020-07-21 18:20:03,633 - june.simulator - INFO - Date = 2020-08-26 00:00:00, number of deaths =  73, number of infected = 2873\n",
      "2020-07-21 18:20:04,420 - june.simulator - INFO - Date = 2020-08-26 01:00:00, number of deaths =  73, number of infected = 2873\n",
      "2020-07-21 18:20:05,160 - june.simulator - INFO - Date = 2020-08-26 09:00:00, number of deaths =  73, number of infected = 2917\n",
      "2020-07-21 18:20:05,978 - june.simulator - INFO - Date = 2020-08-26 10:00:00, number of deaths =  73, number of infected = 2919\n",
      "2020-07-21 18:20:06,603 - june.simulator - INFO - Date = 2020-08-26 13:00:00, number of deaths =  73, number of infected = 2932\n",
      "2020-07-21 18:20:07,351 - june.simulator - INFO - Date = 2020-08-27 00:00:00, number of deaths =  73, number of infected = 2952\n"
     ]
    },
    {
     "name": "stdout",
     "output_type": "stream",
     "text": [
      "2020-07-21 18:20:08,113 - june.simulator - INFO - Date = 2020-08-27 01:00:00, number of deaths =  73, number of infected = 2950\n",
      "2020-07-21 18:20:08,850 - june.simulator - INFO - Date = 2020-08-27 09:00:00, number of deaths =  73, number of infected = 2984\n",
      "2020-07-21 18:20:09,928 - june.simulator - INFO - Date = 2020-08-27 10:00:00, number of deaths =  73, number of infected = 2988\n",
      "2020-07-21 18:20:11,094 - june.simulator - INFO - Date = 2020-08-27 13:00:00, number of deaths =  73, number of infected = 2995\n",
      "2020-07-21 18:20:12,224 - june.simulator - INFO - Date = 2020-08-28 00:00:00, number of deaths =  73, number of infected = 3021\n",
      "2020-07-21 18:20:13,256 - june.simulator - INFO - Date = 2020-08-28 01:00:00, number of deaths =  73, number of infected = 3028\n",
      "2020-07-21 18:20:14,309 - june.simulator - INFO - Date = 2020-08-28 09:00:00, number of deaths =  74, number of infected = 3078\n",
      "2020-07-21 18:20:15,401 - june.simulator - INFO - Date = 2020-08-28 10:00:00, number of deaths =  74, number of infected = 3078\n",
      "2020-07-21 18:20:16,143 - june.simulator - INFO - Date = 2020-08-28 13:00:00, number of deaths =  74, number of infected = 3084\n",
      "2020-07-21 18:20:17,213 - june.simulator - INFO - Date = 2020-08-29 00:00:00, number of deaths =  74, number of infected = 3101\n",
      "2020-07-21 18:20:18,350 - june.simulator - INFO - Date = 2020-08-29 04:00:00, number of deaths =  74, number of infected = 3112\n",
      "2020-07-21 18:20:19,548 - june.simulator - INFO - Date = 2020-08-29 08:00:00, number of deaths =  74, number of infected = 3135\n",
      "2020-07-21 18:20:20,227 - june.simulator - INFO - Date = 2020-08-29 12:00:00, number of deaths =  74, number of infected = 3154\n",
      "2020-07-21 18:20:21,429 - june.simulator - INFO - Date = 2020-08-30 00:00:00, number of deaths =  74, number of infected = 3162\n",
      "2020-07-21 18:20:22,321 - june.simulator - INFO - Date = 2020-08-30 04:00:00, number of deaths =  74, number of infected = 3174\n",
      "2020-07-21 18:20:23,291 - june.simulator - INFO - Date = 2020-08-30 08:00:00, number of deaths =  74, number of infected = 3188\n",
      "2020-07-21 18:20:23,915 - june.simulator - INFO - Date = 2020-08-30 12:00:00, number of deaths =  74, number of infected = 3197\n",
      "2020-07-21 18:20:24,735 - june.simulator - INFO - Date = 2020-08-31 00:00:00, number of deaths =  74, number of infected = 3198\n",
      "2020-07-21 18:20:25,563 - june.simulator - INFO - Date = 2020-08-31 01:00:00, number of deaths =  74, number of infected = 3200\n",
      "2020-07-21 18:20:26,303 - june.simulator - INFO - Date = 2020-08-31 09:00:00, number of deaths =  74, number of infected = 3230\n",
      "2020-07-21 18:20:27,481 - june.simulator - INFO - Date = 2020-08-31 10:00:00, number of deaths =  74, number of infected = 3236\n",
      "2020-07-21 18:20:28,148 - june.simulator - INFO - Date = 2020-08-31 13:00:00, number of deaths =  74, number of infected = 3252\n",
      "2020-07-21 18:20:28,913 - june.simulator - INFO - Date = 2020-09-01 00:00:00, number of deaths =  75, number of infected = 3264\n",
      "2020-07-21 18:20:29,770 - june.simulator - INFO - Date = 2020-09-01 01:00:00, number of deaths =  75, number of infected = 3264\n",
      "2020-07-21 18:20:30,629 - june.simulator - INFO - Date = 2020-09-01 09:00:00, number of deaths =  75, number of infected = 3320\n",
      "2020-07-21 18:20:31,717 - june.simulator - INFO - Date = 2020-09-01 10:00:00, number of deaths =  75, number of infected = 3319\n",
      "2020-07-21 18:20:32,354 - june.simulator - INFO - Date = 2020-09-01 13:00:00, number of deaths =  75, number of infected = 3323\n",
      "2020-07-21 18:20:33,238 - june.simulator - INFO - Date = 2020-09-02 00:00:00, number of deaths =  75, number of infected = 3321\n",
      "2020-07-21 18:20:34,216 - june.simulator - INFO - Date = 2020-09-02 01:00:00, number of deaths =  75, number of infected = 3325\n",
      "2020-07-21 18:20:35,037 - june.simulator - INFO - Date = 2020-09-02 09:00:00, number of deaths =  75, number of infected = 3357\n",
      "2020-07-21 18:20:36,076 - june.simulator - INFO - Date = 2020-09-02 10:00:00, number of deaths =  75, number of infected = 3360\n",
      "2020-07-21 18:20:36,831 - june.simulator - INFO - Date = 2020-09-02 13:00:00, number of deaths =  75, number of infected = 3378\n",
      "2020-07-21 18:20:37,621 - june.simulator - INFO - Date = 2020-09-03 00:00:00, number of deaths =  75, number of infected = 3399\n",
      "2020-07-21 18:20:38,557 - june.simulator - INFO - Date = 2020-09-03 01:00:00, number of deaths =  75, number of infected = 3403\n",
      "2020-07-21 18:20:39,466 - june.simulator - INFO - Date = 2020-09-03 09:00:00, number of deaths =  75, number of infected = 3458\n",
      "2020-07-21 18:20:40,580 - june.simulator - INFO - Date = 2020-09-03 10:00:00, number of deaths =  75, number of infected = 3464\n",
      "2020-07-21 18:20:41,218 - june.simulator - INFO - Date = 2020-09-03 13:00:00, number of deaths =  75, number of infected = 3476\n",
      "2020-07-21 18:20:42,127 - june.simulator - INFO - Date = 2020-09-04 00:00:00, number of deaths =  75, number of infected = 3491\n",
      "2020-07-21 18:20:42,944 - june.simulator - INFO - Date = 2020-09-04 01:00:00, number of deaths =  75, number of infected = 3486\n",
      "2020-07-21 18:20:43,716 - june.simulator - INFO - Date = 2020-09-04 09:00:00, number of deaths =  75, number of infected = 3516\n",
      "2020-07-21 18:20:44,517 - june.simulator - INFO - Date = 2020-09-04 10:00:00, number of deaths =  75, number of infected = 3515\n",
      "2020-07-21 18:20:45,185 - june.simulator - INFO - Date = 2020-09-04 13:00:00, number of deaths =  75, number of infected = 3532\n",
      "2020-07-21 18:20:46,186 - june.simulator - INFO - Date = 2020-09-05 00:00:00, number of deaths =  75, number of infected = 3530\n",
      "2020-07-21 18:20:47,196 - june.simulator - INFO - Date = 2020-09-05 04:00:00, number of deaths =  75, number of infected = 3530\n",
      "2020-07-21 18:20:48,260 - june.simulator - INFO - Date = 2020-09-05 08:00:00, number of deaths =  75, number of infected = 3558\n",
      "2020-07-21 18:20:48,931 - june.simulator - INFO - Date = 2020-09-05 12:00:00, number of deaths =  75, number of infected = 3570\n",
      "2020-07-21 18:20:49,964 - june.simulator - INFO - Date = 2020-09-06 00:00:00, number of deaths =  75, number of infected = 3570\n",
      "2020-07-21 18:20:50,820 - june.simulator - INFO - Date = 2020-09-06 04:00:00, number of deaths =  75, number of infected = 3575\n",
      "2020-07-21 18:20:51,716 - june.simulator - INFO - Date = 2020-09-06 08:00:00, number of deaths =  75, number of infected = 3586\n",
      "2020-07-21 18:20:52,361 - june.simulator - INFO - Date = 2020-09-06 12:00:00, number of deaths =  75, number of infected = 3602\n",
      "2020-07-21 18:20:53,167 - june.simulator - INFO - Date = 2020-09-07 00:00:00, number of deaths =  75, number of infected = 3616\n",
      "2020-07-21 18:20:53,979 - june.simulator - INFO - Date = 2020-09-07 01:00:00, number of deaths =  75, number of infected = 3616\n",
      "2020-07-21 18:20:54,831 - june.simulator - INFO - Date = 2020-09-07 09:00:00, number of deaths =  76, number of infected = 3646\n",
      "2020-07-21 18:20:55,681 - june.simulator - INFO - Date = 2020-09-07 10:00:00, number of deaths =  76, number of infected = 3644\n",
      "2020-07-21 18:20:56,371 - june.simulator - INFO - Date = 2020-09-07 13:00:00, number of deaths =  76, number of infected = 3649\n",
      "2020-07-21 18:20:57,262 - june.simulator - INFO - Date = 2020-09-08 00:00:00, number of deaths =  76, number of infected = 3660\n",
      "2020-07-21 18:20:58,021 - june.simulator - INFO - Date = 2020-09-08 01:00:00, number of deaths =  76, number of infected = 3660\n",
      "2020-07-21 18:20:58,806 - june.simulator - INFO - Date = 2020-09-08 09:00:00, number of deaths =  76, number of infected = 3695\n",
      "2020-07-21 18:20:59,610 - june.simulator - INFO - Date = 2020-09-08 10:00:00, number of deaths =  76, number of infected = 3687\n",
      "2020-07-21 18:21:00,212 - june.simulator - INFO - Date = 2020-09-08 13:00:00, number of deaths =  76, number of infected = 3692\n",
      "2020-07-21 18:21:00,951 - june.simulator - INFO - Date = 2020-09-09 00:00:00, number of deaths =  76, number of infected = 3701\n",
      "2020-07-21 18:21:01,799 - june.simulator - INFO - Date = 2020-09-09 01:00:00, number of deaths =  76, number of infected = 3703\n",
      "2020-07-21 18:21:02,601 - june.simulator - INFO - Date = 2020-09-09 09:00:00, number of deaths =  76, number of infected = 3740\n",
      "2020-07-21 18:21:03,397 - june.simulator - INFO - Date = 2020-09-09 10:00:00, number of deaths =  76, number of infected = 3746\n",
      "2020-07-21 18:21:04,074 - june.simulator - INFO - Date = 2020-09-09 13:00:00, number of deaths =  76, number of infected = 3746\n"
     ]
    },
    {
     "name": "stdout",
     "output_type": "stream",
     "text": [
      "2020-07-21 18:21:04,967 - june.simulator - INFO - Date = 2020-09-10 00:00:00, number of deaths =  76, number of infected = 3747\n",
      "2020-07-21 18:21:06,037 - june.simulator - INFO - Date = 2020-09-10 01:00:00, number of deaths =  76, number of infected = 3749\n",
      "2020-07-21 18:21:06,910 - june.simulator - INFO - Date = 2020-09-10 09:00:00, number of deaths =  76, number of infected = 3791\n",
      "2020-07-21 18:21:07,932 - june.simulator - INFO - Date = 2020-09-10 10:00:00, number of deaths =  76, number of infected = 3784\n",
      "2020-07-21 18:21:08,595 - june.simulator - INFO - Date = 2020-09-10 13:00:00, number of deaths =  76, number of infected = 3797\n",
      "2020-07-21 18:21:09,467 - june.simulator - INFO - Date = 2020-09-11 00:00:00, number of deaths =  76, number of infected = 3797\n",
      "2020-07-21 18:21:10,487 - june.simulator - INFO - Date = 2020-09-11 01:00:00, number of deaths =  76, number of infected = 3800\n",
      "2020-07-21 18:21:11,424 - june.simulator - INFO - Date = 2020-09-11 09:00:00, number of deaths =  78, number of infected = 3838\n",
      "2020-07-21 18:21:12,444 - june.simulator - INFO - Date = 2020-09-11 10:00:00, number of deaths =  78, number of infected = 3846\n",
      "2020-07-21 18:21:13,173 - june.simulator - INFO - Date = 2020-09-11 13:00:00, number of deaths =  78, number of infected = 3861\n",
      "2020-07-21 18:21:14,411 - june.simulator - INFO - Date = 2020-09-12 00:00:00, number of deaths =  79, number of infected = 3883\n",
      "2020-07-21 18:21:15,393 - june.simulator - INFO - Date = 2020-09-12 04:00:00, number of deaths =  79, number of infected = 3898\n",
      "2020-07-21 18:21:16,459 - june.simulator - INFO - Date = 2020-09-12 08:00:00, number of deaths =  79, number of infected = 3910\n",
      "2020-07-21 18:21:17,168 - june.simulator - INFO - Date = 2020-09-12 12:00:00, number of deaths =  79, number of infected = 3920\n",
      "2020-07-21 18:21:18,247 - june.simulator - INFO - Date = 2020-09-13 00:00:00, number of deaths =  82, number of infected = 3919\n",
      "2020-07-21 18:21:19,528 - june.simulator - INFO - Date = 2020-09-13 04:00:00, number of deaths =  82, number of infected = 3929\n",
      "2020-07-21 18:21:20,630 - june.simulator - INFO - Date = 2020-09-13 08:00:00, number of deaths =  82, number of infected = 3936\n",
      "2020-07-21 18:21:21,358 - june.simulator - INFO - Date = 2020-09-13 12:00:00, number of deaths =  82, number of infected = 3934\n",
      "2020-07-21 18:21:22,255 - june.simulator - INFO - Date = 2020-09-14 00:00:00, number of deaths =  83, number of infected = 3927\n",
      "2020-07-21 18:21:23,230 - june.simulator - INFO - Date = 2020-09-14 01:00:00, number of deaths =  83, number of infected = 3932\n",
      "2020-07-21 18:21:24,105 - june.simulator - INFO - Date = 2020-09-14 09:00:00, number of deaths =  84, number of infected = 3968\n",
      "2020-07-21 18:21:24,927 - june.simulator - INFO - Date = 2020-09-14 10:00:00, number of deaths =  84, number of infected = 3962\n",
      "2020-07-21 18:21:25,546 - june.simulator - INFO - Date = 2020-09-14 13:00:00, number of deaths =  84, number of infected = 3969\n",
      "2020-07-21 18:21:26,419 - june.simulator - INFO - Date = 2020-09-15 00:00:00, number of deaths =  84, number of infected = 3953\n",
      "2020-07-21 18:21:27,353 - june.simulator - INFO - Date = 2020-09-15 01:00:00, number of deaths =  84, number of infected = 3952\n",
      "2020-07-21 18:21:28,088 - june.simulator - INFO - Date = 2020-09-15 09:00:00, number of deaths =  84, number of infected = 3968\n",
      "2020-07-21 18:21:29,045 - june.simulator - INFO - Date = 2020-09-15 10:00:00, number of deaths =  84, number of infected = 3967\n",
      "2020-07-21 18:21:29,724 - june.simulator - INFO - Date = 2020-09-15 13:00:00, number of deaths =  84, number of infected = 3974\n",
      "2020-07-21 18:21:30,927 - june.simulator - INFO - Date = 2020-09-16 00:00:00, number of deaths =  84, number of infected = 3958\n",
      "2020-07-21 18:21:31,818 - june.simulator - INFO - Date = 2020-09-16 01:00:00, number of deaths =  84, number of infected = 3961\n",
      "2020-07-21 18:21:32,571 - june.simulator - INFO - Date = 2020-09-16 09:00:00, number of deaths =  84, number of infected = 3969\n",
      "2020-07-21 18:21:35,685 - june.simulator - INFO - Date = 2020-09-16 10:00:00, number of deaths =  84, number of infected = 3967\n",
      "2020-07-21 18:21:36,488 - june.simulator - INFO - Date = 2020-09-16 13:00:00, number of deaths =  84, number of infected = 3965\n",
      "2020-07-21 18:21:37,197 - june.simulator - INFO - Date = 2020-09-17 00:00:00, number of deaths =  84, number of infected = 3939\n",
      "2020-07-21 18:21:37,989 - june.simulator - INFO - Date = 2020-09-17 01:00:00, number of deaths =  84, number of infected = 3946\n",
      "2020-07-21 18:21:39,010 - june.simulator - INFO - Date = 2020-09-17 09:00:00, number of deaths =  84, number of infected = 3949\n",
      "2020-07-21 18:21:40,036 - june.simulator - INFO - Date = 2020-09-17 10:00:00, number of deaths =  84, number of infected = 3953\n",
      "2020-07-21 18:21:40,739 - june.simulator - INFO - Date = 2020-09-17 13:00:00, number of deaths =  84, number of infected = 3958\n",
      "2020-07-21 18:21:41,491 - june.simulator - INFO - Date = 2020-09-18 00:00:00, number of deaths =  84, number of infected = 3948\n",
      "2020-07-21 18:21:42,265 - june.simulator - INFO - Date = 2020-09-18 01:00:00, number of deaths =  84, number of infected = 3947\n",
      "2020-07-21 18:21:43,024 - june.simulator - INFO - Date = 2020-09-18 09:00:00, number of deaths =  84, number of infected = 3964\n",
      "2020-07-21 18:21:44,005 - june.simulator - INFO - Date = 2020-09-18 10:00:00, number of deaths =  84, number of infected = 3962\n",
      "2020-07-21 18:21:44,707 - june.simulator - INFO - Date = 2020-09-18 13:00:00, number of deaths =  84, number of infected = 3966\n",
      "2020-07-21 18:21:45,923 - june.simulator - INFO - Date = 2020-09-19 00:00:00, number of deaths =  85, number of infected = 3947\n",
      "2020-07-21 18:21:46,974 - june.simulator - INFO - Date = 2020-09-19 04:00:00, number of deaths =  85, number of infected = 3955\n",
      "2020-07-21 18:21:47,916 - june.simulator - INFO - Date = 2020-09-19 08:00:00, number of deaths =  85, number of infected = 3965\n",
      "2020-07-21 18:21:48,656 - june.simulator - INFO - Date = 2020-09-19 12:00:00, number of deaths =  85, number of infected = 3969\n",
      "2020-07-21 18:21:49,807 - june.simulator - INFO - Date = 2020-09-20 00:00:00, number of deaths =  86, number of infected = 3953\n",
      "2020-07-21 18:21:50,716 - june.simulator - INFO - Date = 2020-09-20 04:00:00, number of deaths =  87, number of infected = 3948\n",
      "2020-07-21 18:21:51,782 - june.simulator - INFO - Date = 2020-09-20 08:00:00, number of deaths =  87, number of infected = 3964\n",
      "2020-07-21 18:21:52,381 - june.simulator - INFO - Date = 2020-09-20 12:00:00, number of deaths =  87, number of infected = 3959\n",
      "2020-07-21 18:21:53,243 - june.simulator - INFO - Date = 2020-09-21 00:00:00, number of deaths =  87, number of infected = 3938\n",
      "2020-07-21 18:21:54,022 - june.simulator - INFO - Date = 2020-09-21 01:00:00, number of deaths =  87, number of infected = 3940\n",
      "2020-07-21 18:21:54,911 - june.simulator - INFO - Date = 2020-09-21 09:00:00, number of deaths =  87, number of infected = 3965\n",
      "2020-07-21 18:21:55,713 - june.simulator - INFO - Date = 2020-09-21 10:00:00, number of deaths =  87, number of infected = 3965\n",
      "2020-07-21 18:21:56,299 - june.simulator - INFO - Date = 2020-09-21 13:00:00, number of deaths =  87, number of infected = 3958\n",
      "2020-07-21 18:21:57,040 - june.simulator - INFO - Date = 2020-09-22 00:00:00, number of deaths =  87, number of infected = 3924\n",
      "2020-07-21 18:21:57,804 - june.simulator - INFO - Date = 2020-09-22 01:00:00, number of deaths =  87, number of infected = 3920\n",
      "2020-07-21 18:21:58,597 - june.simulator - INFO - Date = 2020-09-22 09:00:00, number of deaths =  87, number of infected = 3945\n",
      "2020-07-21 18:21:59,407 - june.simulator - INFO - Date = 2020-09-22 10:00:00, number of deaths =  87, number of infected = 3945\n",
      "2020-07-21 18:22:00,019 - june.simulator - INFO - Date = 2020-09-22 13:00:00, number of deaths =  87, number of infected = 3953\n",
      "2020-07-21 18:22:00,831 - june.simulator - INFO - Date = 2020-09-23 00:00:00, number of deaths =  87, number of infected = 3927\n",
      "2020-07-21 18:22:01,593 - june.simulator - INFO - Date = 2020-09-23 01:00:00, number of deaths =  87, number of infected = 3928\n",
      "2020-07-21 18:22:02,287 - june.simulator - INFO - Date = 2020-09-23 09:00:00, number of deaths =  87, number of infected = 3940\n",
      "2020-07-21 18:22:03,109 - june.simulator - INFO - Date = 2020-09-23 10:00:00, number of deaths =  87, number of infected = 3945\n"
     ]
    },
    {
     "name": "stdout",
     "output_type": "stream",
     "text": [
      "2020-07-21 18:22:03,705 - june.simulator - INFO - Date = 2020-09-23 13:00:00, number of deaths =  87, number of infected = 3951\n",
      "2020-07-21 18:22:04,602 - june.simulator - INFO - Date = 2020-09-24 00:00:00, number of deaths =  88, number of infected = 3937\n",
      "2020-07-21 18:22:05,502 - june.simulator - INFO - Date = 2020-09-24 01:00:00, number of deaths =  88, number of infected = 3932\n",
      "2020-07-21 18:22:06,383 - june.simulator - INFO - Date = 2020-09-24 09:00:00, number of deaths =  89, number of infected = 3931\n",
      "2020-07-21 18:22:07,204 - june.simulator - INFO - Date = 2020-09-24 10:00:00, number of deaths =  89, number of infected = 3930\n",
      "2020-07-21 18:22:07,779 - june.simulator - INFO - Date = 2020-09-24 13:00:00, number of deaths =  89, number of infected = 3929\n",
      "2020-07-21 18:22:08,507 - june.simulator - INFO - Date = 2020-09-25 00:00:00, number of deaths =  90, number of infected = 3905\n",
      "2020-07-21 18:22:09,420 - june.simulator - INFO - Date = 2020-09-25 01:00:00, number of deaths =  90, number of infected = 3899\n",
      "2020-07-21 18:22:10,192 - june.simulator - INFO - Date = 2020-09-25 09:00:00, number of deaths =  90, number of infected = 3904\n",
      "2020-07-21 18:22:11,026 - june.simulator - INFO - Date = 2020-09-25 10:00:00, number of deaths =  90, number of infected = 3908\n",
      "2020-07-21 18:22:11,655 - june.simulator - INFO - Date = 2020-09-25 13:00:00, number of deaths =  90, number of infected = 3921\n",
      "2020-07-21 18:22:12,742 - june.simulator - INFO - Date = 2020-09-26 00:00:00, number of deaths =  90, number of infected = 3905\n",
      "2020-07-21 18:22:13,748 - june.simulator - INFO - Date = 2020-09-26 04:00:00, number of deaths =  91, number of infected = 3898\n",
      "2020-07-21 18:22:14,631 - june.simulator - INFO - Date = 2020-09-26 08:00:00, number of deaths =  91, number of infected = 3911\n",
      "2020-07-21 18:22:15,247 - june.simulator - INFO - Date = 2020-09-26 12:00:00, number of deaths =  91, number of infected = 3915\n",
      "2020-07-21 18:22:16,239 - june.simulator - INFO - Date = 2020-09-27 00:00:00, number of deaths =  91, number of infected = 3901\n",
      "2020-07-21 18:22:17,280 - june.simulator - INFO - Date = 2020-09-27 04:00:00, number of deaths =  91, number of infected = 3904\n",
      "2020-07-21 18:22:18,189 - june.simulator - INFO - Date = 2020-09-27 08:00:00, number of deaths =  91, number of infected = 3898\n",
      "2020-07-21 18:22:18,864 - june.simulator - INFO - Date = 2020-09-27 12:00:00, number of deaths =  92, number of infected = 3892\n",
      "2020-07-21 18:22:19,629 - june.simulator - INFO - Date = 2020-09-28 00:00:00, number of deaths =  92, number of infected = 3844\n",
      "2020-07-21 18:22:20,399 - june.simulator - INFO - Date = 2020-09-28 01:00:00, number of deaths =  92, number of infected = 3845\n",
      "2020-07-21 18:22:21,069 - june.simulator - INFO - Date = 2020-09-28 09:00:00, number of deaths =  92, number of infected = 3836\n",
      "2020-07-21 18:22:21,882 - june.simulator - INFO - Date = 2020-09-28 10:00:00, number of deaths =  92, number of infected = 3836\n",
      "2020-07-21 18:22:22,542 - june.simulator - INFO - Date = 2020-09-28 13:00:00, number of deaths =  92, number of infected = 3829\n",
      "2020-07-21 18:22:23,249 - june.simulator - INFO - Date = 2020-09-29 00:00:00, number of deaths =  92, number of infected = 3788\n",
      "2020-07-21 18:22:24,016 - june.simulator - INFO - Date = 2020-09-29 01:00:00, number of deaths =  92, number of infected = 3785\n",
      "2020-07-21 18:22:24,726 - june.simulator - INFO - Date = 2020-09-29 09:00:00, number of deaths =  93, number of infected = 3790\n",
      "2020-07-21 18:22:25,680 - june.simulator - INFO - Date = 2020-09-29 10:00:00, number of deaths =  93, number of infected = 3787\n",
      "2020-07-21 18:22:26,304 - june.simulator - INFO - Date = 2020-09-29 13:00:00, number of deaths =  93, number of infected = 3789\n",
      "2020-07-21 18:22:27,045 - june.simulator - INFO - Date = 2020-09-30 00:00:00, number of deaths =  93, number of infected = 3762\n",
      "2020-07-21 18:22:27,900 - june.simulator - INFO - Date = 2020-09-30 01:00:00, number of deaths =  93, number of infected = 3756\n",
      "2020-07-21 18:22:28,764 - june.simulator - INFO - Date = 2020-09-30 09:00:00, number of deaths =  93, number of infected = 3784\n",
      "2020-07-21 18:22:29,761 - june.simulator - INFO - Date = 2020-09-30 10:00:00, number of deaths =  93, number of infected = 3783\n",
      "2020-07-21 18:22:30,436 - june.simulator - INFO - Date = 2020-09-30 13:00:00, number of deaths =  93, number of infected = 3793\n",
      "2020-07-21 18:22:31,222 - june.simulator - INFO - Date = 2020-10-01 00:00:00, number of deaths =  93, number of infected = 3778\n",
      "2020-07-21 18:22:31,824 - june.simulator - INFO - Date = 2020-10-01 01:00:00, number of deaths =  93, number of infected = 3773\n",
      "2020-07-21 18:22:32,432 - june.simulator - INFO - Date = 2020-10-01 09:00:00, number of deaths =  93, number of infected = 3755\n",
      "2020-07-21 18:22:33,341 - june.simulator - INFO - Date = 2020-10-01 10:00:00, number of deaths =  93, number of infected = 3758\n",
      "2020-07-21 18:22:33,914 - june.simulator - INFO - Date = 2020-10-01 13:00:00, number of deaths =  93, number of infected = 3753\n",
      "2020-07-21 18:22:34,522 - june.simulator - INFO - Date = 2020-10-02 00:00:00, number of deaths =  94, number of infected = 3706\n",
      "2020-07-21 18:22:35,064 - june.simulator - INFO - Date = 2020-10-02 01:00:00, number of deaths =  94, number of infected = 3704\n",
      "2020-07-21 18:22:35,621 - june.simulator - INFO - Date = 2020-10-02 09:00:00, number of deaths =  94, number of infected = 3693\n",
      "2020-07-21 18:22:36,354 - june.simulator - INFO - Date = 2020-10-02 10:00:00, number of deaths =  94, number of infected = 3691\n",
      "2020-07-21 18:22:36,990 - june.simulator - INFO - Date = 2020-10-02 13:00:00, number of deaths =  94, number of infected = 3685\n",
      "2020-07-21 18:22:37,913 - june.simulator - INFO - Date = 2020-10-03 00:00:00, number of deaths =  96, number of infected = 3667\n",
      "2020-07-21 18:22:38,861 - june.simulator - INFO - Date = 2020-10-03 04:00:00, number of deaths =  96, number of infected = 3654\n",
      "2020-07-21 18:22:39,805 - june.simulator - INFO - Date = 2020-10-03 08:00:00, number of deaths =  96, number of infected = 3641\n",
      "2020-07-21 18:22:40,439 - june.simulator - INFO - Date = 2020-10-03 12:00:00, number of deaths =  96, number of infected = 3626\n",
      "2020-07-21 18:22:41,502 - june.simulator - INFO - Date = 2020-10-04 00:00:00, number of deaths =  97, number of infected = 3603\n",
      "2020-07-21 18:22:42,306 - june.simulator - INFO - Date = 2020-10-04 04:00:00, number of deaths =  97, number of infected = 3603\n",
      "2020-07-21 18:22:43,116 - june.simulator - INFO - Date = 2020-10-04 08:00:00, number of deaths =  97, number of infected = 3583\n",
      "2020-07-21 18:22:43,696 - june.simulator - INFO - Date = 2020-10-04 12:00:00, number of deaths =  97, number of infected = 3582\n",
      "2020-07-21 18:22:44,398 - june.simulator - INFO - Date = 2020-10-05 00:00:00, number of deaths =  97, number of infected = 3522\n",
      "2020-07-21 18:22:44,982 - june.simulator - INFO - Date = 2020-10-05 01:00:00, number of deaths =  97, number of infected = 3523\n",
      "2020-07-21 18:22:45,599 - june.simulator - INFO - Date = 2020-10-05 09:00:00, number of deaths =  98, number of infected = 3509\n",
      "2020-07-21 18:22:46,483 - june.simulator - INFO - Date = 2020-10-05 10:00:00, number of deaths =  98, number of infected = 3507\n",
      "2020-07-21 18:22:47,008 - june.simulator - INFO - Date = 2020-10-05 13:00:00, number of deaths =  98, number of infected = 3503\n",
      "2020-07-21 18:22:47,715 - june.simulator - INFO - Date = 2020-10-06 00:00:00, number of deaths =  98, number of infected = 3462\n",
      "2020-07-21 18:22:48,302 - june.simulator - INFO - Date = 2020-10-06 01:00:00, number of deaths =  98, number of infected = 3463\n",
      "2020-07-21 18:22:48,910 - june.simulator - INFO - Date = 2020-10-06 09:00:00, number of deaths =  98, number of infected = 3446\n",
      "2020-07-21 18:22:49,595 - june.simulator - INFO - Date = 2020-10-06 10:00:00, number of deaths =  98, number of infected = 3435\n",
      "2020-07-21 18:22:50,093 - june.simulator - INFO - Date = 2020-10-06 13:00:00, number of deaths =  98, number of infected = 3425\n",
      "2020-07-21 18:22:51,185 - june.simulator - INFO - Date = 2020-10-07 00:00:00, number of deaths =  98, number of infected = 3414\n",
      "2020-07-21 18:22:51,834 - june.simulator - INFO - Date = 2020-10-07 01:00:00, number of deaths =  98, number of infected = 3404\n",
      "2020-07-21 18:22:52,375 - june.simulator - INFO - Date = 2020-10-07 09:00:00, number of deaths =  98, number of infected = 3391\n"
     ]
    },
    {
     "name": "stdout",
     "output_type": "stream",
     "text": [
      "2020-07-21 18:22:53,100 - june.simulator - INFO - Date = 2020-10-07 10:00:00, number of deaths =  98, number of infected = 3390\n",
      "2020-07-21 18:22:53,580 - june.simulator - INFO - Date = 2020-10-07 13:00:00, number of deaths =  98, number of infected = 3384\n",
      "2020-07-21 18:22:54,226 - june.simulator - INFO - Date = 2020-10-08 00:00:00, number of deaths =  99, number of infected = 3354\n",
      "2020-07-21 18:22:54,750 - june.simulator - INFO - Date = 2020-10-08 01:00:00, number of deaths =  99, number of infected = 3347\n",
      "2020-07-21 18:22:55,386 - june.simulator - INFO - Date = 2020-10-08 09:00:00, number of deaths =  99, number of infected = 3334\n",
      "2020-07-21 18:22:56,088 - june.simulator - INFO - Date = 2020-10-08 10:00:00, number of deaths =  99, number of infected = 3331\n",
      "2020-07-21 18:22:56,681 - june.simulator - INFO - Date = 2020-10-08 13:00:00, number of deaths =  99, number of infected = 3330\n",
      "2020-07-21 18:22:57,331 - june.simulator - INFO - Date = 2020-10-09 00:00:00, number of deaths =  100, number of infected = 3268\n",
      "2020-07-21 18:22:57,980 - june.simulator - INFO - Date = 2020-10-09 01:00:00, number of deaths =  100, number of infected = 3264\n",
      "2020-07-21 18:22:58,513 - june.simulator - INFO - Date = 2020-10-09 09:00:00, number of deaths =  101, number of infected = 3251\n",
      "2020-07-21 18:22:59,257 - june.simulator - INFO - Date = 2020-10-09 10:00:00, number of deaths =  101, number of infected = 3245\n",
      "2020-07-21 18:22:59,761 - june.simulator - INFO - Date = 2020-10-09 13:00:00, number of deaths =  101, number of infected = 3234\n",
      "2020-07-21 18:23:00,693 - june.simulator - INFO - Date = 2020-10-10 00:00:00, number of deaths =  101, number of infected = 3193\n",
      "2020-07-21 18:23:01,621 - june.simulator - INFO - Date = 2020-10-10 04:00:00, number of deaths =  101, number of infected = 3183\n",
      "2020-07-21 18:23:02,533 - june.simulator - INFO - Date = 2020-10-10 08:00:00, number of deaths =  101, number of infected = 3181\n",
      "2020-07-21 18:23:03,128 - june.simulator - INFO - Date = 2020-10-10 12:00:00, number of deaths =  101, number of infected = 3181\n",
      "2020-07-21 18:23:04,122 - june.simulator - INFO - Date = 2020-10-11 00:00:00, number of deaths =  102, number of infected = 3142\n",
      "2020-07-21 18:23:05,019 - june.simulator - INFO - Date = 2020-10-11 04:00:00, number of deaths =  102, number of infected = 3141\n",
      "2020-07-21 18:23:05,771 - june.simulator - INFO - Date = 2020-10-11 08:00:00, number of deaths =  102, number of infected = 3133\n",
      "2020-07-21 18:23:06,287 - june.simulator - INFO - Date = 2020-10-11 12:00:00, number of deaths =  102, number of infected = 3114\n",
      "2020-07-21 18:23:06,791 - june.simulator - INFO - Date = 2020-10-12 00:00:00, number of deaths =  102, number of infected = 3045\n",
      "2020-07-21 18:23:07,358 - june.simulator - INFO - Date = 2020-10-12 01:00:00, number of deaths =  102, number of infected = 3042\n",
      "2020-07-21 18:23:07,896 - june.simulator - INFO - Date = 2020-10-12 09:00:00, number of deaths =  102, number of infected = 3023\n",
      "2020-07-21 18:23:08,619 - june.simulator - INFO - Date = 2020-10-12 10:00:00, number of deaths =  102, number of infected = 3017\n",
      "2020-07-21 18:23:09,109 - june.simulator - INFO - Date = 2020-10-12 13:00:00, number of deaths =  102, number of infected = 3008\n",
      "2020-07-21 18:23:09,760 - june.simulator - INFO - Date = 2020-10-13 00:00:00, number of deaths =  102, number of infected = 2977\n",
      "2020-07-21 18:23:10,382 - june.simulator - INFO - Date = 2020-10-13 01:00:00, number of deaths =  102, number of infected = 2976\n",
      "2020-07-21 18:23:10,934 - june.simulator - INFO - Date = 2020-10-13 09:00:00, number of deaths =  102, number of infected = 2963\n",
      "2020-07-21 18:23:11,641 - june.simulator - INFO - Date = 2020-10-13 10:00:00, number of deaths =  102, number of infected = 2959\n",
      "2020-07-21 18:23:12,110 - june.simulator - INFO - Date = 2020-10-13 13:00:00, number of deaths =  102, number of infected = 2941\n",
      "2020-07-21 18:23:12,705 - june.simulator - INFO - Date = 2020-10-14 00:00:00, number of deaths =  102, number of infected = 2895\n",
      "2020-07-21 18:23:13,252 - june.simulator - INFO - Date = 2020-10-14 01:00:00, number of deaths =  102, number of infected = 2892\n",
      "2020-07-21 18:23:13,813 - june.simulator - INFO - Date = 2020-10-14 09:00:00, number of deaths =  102, number of infected = 2855\n",
      "2020-07-21 18:23:14,637 - june.simulator - INFO - Date = 2020-10-14 10:00:00, number of deaths =  102, number of infected = 2852\n",
      "2020-07-21 18:23:15,186 - june.simulator - INFO - Date = 2020-10-14 13:00:00, number of deaths =  102, number of infected = 2836\n",
      "2020-07-21 18:23:15,848 - june.simulator - INFO - Date = 2020-10-15 00:00:00, number of deaths =  102, number of infected = 2807\n",
      "2020-07-21 18:23:16,431 - june.simulator - INFO - Date = 2020-10-15 01:00:00, number of deaths =  102, number of infected = 2812\n",
      "2020-07-21 18:23:16,937 - june.simulator - INFO - Date = 2020-10-15 09:00:00, number of deaths =  102, number of infected = 2808\n",
      "2020-07-21 18:23:17,715 - june.simulator - INFO - Date = 2020-10-15 10:00:00, number of deaths =  102, number of infected = 2801\n",
      "2020-07-21 18:23:18,225 - june.simulator - INFO - Date = 2020-10-15 13:00:00, number of deaths =  103, number of infected = 2792\n",
      "2020-07-21 18:23:18,872 - june.simulator - INFO - Date = 2020-10-16 00:00:00, number of deaths =  103, number of infected = 2741\n",
      "2020-07-21 18:23:19,520 - june.simulator - INFO - Date = 2020-10-16 01:00:00, number of deaths =  103, number of infected = 2736\n",
      "2020-07-21 18:23:19,966 - june.simulator - INFO - Date = 2020-10-16 09:00:00, number of deaths =  103, number of infected = 2708\n",
      "2020-07-21 18:23:20,663 - june.simulator - INFO - Date = 2020-10-16 10:00:00, number of deaths =  103, number of infected = 2702\n",
      "2020-07-21 18:23:21,156 - june.simulator - INFO - Date = 2020-10-16 13:00:00, number of deaths =  103, number of infected = 2697\n",
      "2020-07-21 18:23:21,934 - june.simulator - INFO - Date = 2020-10-17 00:00:00, number of deaths =  103, number of infected = 2656\n",
      "2020-07-21 18:23:22,638 - june.simulator - INFO - Date = 2020-10-17 04:00:00, number of deaths =  103, number of infected = 2637\n",
      "2020-07-21 18:23:23,390 - june.simulator - INFO - Date = 2020-10-17 08:00:00, number of deaths =  104, number of infected = 2635\n",
      "2020-07-21 18:23:23,851 - june.simulator - INFO - Date = 2020-10-17 12:00:00, number of deaths =  104, number of infected = 2619\n",
      "2020-07-21 18:23:24,746 - june.simulator - INFO - Date = 2020-10-18 00:00:00, number of deaths =  104, number of infected = 2567\n",
      "2020-07-21 18:23:25,494 - june.simulator - INFO - Date = 2020-10-18 04:00:00, number of deaths =  104, number of infected = 2548\n",
      "2020-07-21 18:23:26,211 - june.simulator - INFO - Date = 2020-10-18 08:00:00, number of deaths =  104, number of infected = 2537\n",
      "2020-07-21 18:23:26,661 - june.simulator - INFO - Date = 2020-10-18 12:00:00, number of deaths =  104, number of infected = 2530\n",
      "2020-07-21 18:23:27,183 - june.simulator - INFO - Date = 2020-10-19 00:00:00, number of deaths =  104, number of infected = 2475\n",
      "2020-07-21 18:23:27,701 - june.simulator - INFO - Date = 2020-10-19 01:00:00, number of deaths =  104, number of infected = 2474\n",
      "2020-07-21 18:23:28,194 - june.simulator - INFO - Date = 2020-10-19 09:00:00, number of deaths =  104, number of infected = 2453\n",
      "2020-07-21 18:23:28,902 - june.simulator - INFO - Date = 2020-10-19 10:00:00, number of deaths =  105, number of infected = 2449\n",
      "2020-07-21 18:23:29,343 - june.simulator - INFO - Date = 2020-10-19 13:00:00, number of deaths =  105, number of infected = 2439\n",
      "2020-07-21 18:23:29,892 - june.simulator - INFO - Date = 2020-10-20 00:00:00, number of deaths =  106, number of infected = 2398\n",
      "2020-07-21 18:23:30,414 - june.simulator - INFO - Date = 2020-10-20 01:00:00, number of deaths =  106, number of infected = 2393\n",
      "2020-07-21 18:23:30,920 - june.simulator - INFO - Date = 2020-10-20 09:00:00, number of deaths =  106, number of infected = 2369\n",
      "2020-07-21 18:23:31,798 - june.simulator - INFO - Date = 2020-10-20 10:00:00, number of deaths =  106, number of infected = 2369\n",
      "2020-07-21 18:23:32,237 - june.simulator - INFO - Date = 2020-10-20 13:00:00, number of deaths =  106, number of infected = 2352\n",
      "2020-07-21 18:23:32,814 - june.simulator - INFO - Date = 2020-10-21 00:00:00, number of deaths =  106, number of infected = 2307\n"
     ]
    },
    {
     "name": "stdout",
     "output_type": "stream",
     "text": [
      "2020-07-21 18:23:33,322 - june.simulator - INFO - Date = 2020-10-21 01:00:00, number of deaths =  106, number of infected = 2304\n",
      "2020-07-21 18:23:33,793 - june.simulator - INFO - Date = 2020-10-21 09:00:00, number of deaths =  106, number of infected = 2281\n",
      "2020-07-21 18:23:34,498 - june.simulator - INFO - Date = 2020-10-21 10:00:00, number of deaths =  106, number of infected = 2278\n",
      "2020-07-21 18:23:34,980 - june.simulator - INFO - Date = 2020-10-21 13:00:00, number of deaths =  106, number of infected = 2271\n",
      "2020-07-21 18:23:35,501 - june.simulator - INFO - Date = 2020-10-22 00:00:00, number of deaths =  107, number of infected = 2206\n",
      "2020-07-21 18:23:36,021 - june.simulator - INFO - Date = 2020-10-22 01:00:00, number of deaths =  107, number of infected = 2204\n",
      "2020-07-21 18:23:36,472 - june.simulator - INFO - Date = 2020-10-22 09:00:00, number of deaths =  107, number of infected = 2179\n",
      "2020-07-21 18:23:37,152 - june.simulator - INFO - Date = 2020-10-22 10:00:00, number of deaths =  107, number of infected = 2172\n",
      "2020-07-21 18:23:37,640 - june.simulator - INFO - Date = 2020-10-22 13:00:00, number of deaths =  107, number of infected = 2161\n",
      "2020-07-21 18:23:38,214 - june.simulator - INFO - Date = 2020-10-23 00:00:00, number of deaths =  107, number of infected = 2112\n",
      "2020-07-21 18:23:38,840 - june.simulator - INFO - Date = 2020-10-23 01:00:00, number of deaths =  107, number of infected = 2111\n",
      "2020-07-21 18:23:39,373 - june.simulator - INFO - Date = 2020-10-23 09:00:00, number of deaths =  107, number of infected = 2091\n",
      "2020-07-21 18:23:40,068 - june.simulator - INFO - Date = 2020-10-23 10:00:00, number of deaths =  107, number of infected = 2086\n",
      "2020-07-21 18:23:40,500 - june.simulator - INFO - Date = 2020-10-23 13:00:00, number of deaths =  107, number of infected = 2083\n",
      "2020-07-21 18:23:41,234 - june.simulator - INFO - Date = 2020-10-24 00:00:00, number of deaths =  107, number of infected = 2019\n",
      "2020-07-21 18:23:41,887 - june.simulator - INFO - Date = 2020-10-24 04:00:00, number of deaths =  107, number of infected = 1999\n",
      "2020-07-21 18:23:42,561 - june.simulator - INFO - Date = 2020-10-24 08:00:00, number of deaths =  107, number of infected = 1987\n",
      "2020-07-21 18:23:43,097 - june.simulator - INFO - Date = 2020-10-24 12:00:00, number of deaths =  107, number of infected = 1978\n",
      "2020-07-21 18:23:43,973 - june.simulator - INFO - Date = 2020-10-25 00:00:00, number of deaths =  107, number of infected = 1938\n",
      "2020-07-21 18:23:44,762 - june.simulator - INFO - Date = 2020-10-25 04:00:00, number of deaths =  107, number of infected = 1917\n",
      "2020-07-21 18:23:45,469 - june.simulator - INFO - Date = 2020-10-25 08:00:00, number of deaths =  108, number of infected = 1912\n",
      "2020-07-21 18:23:45,891 - june.simulator - INFO - Date = 2020-10-25 12:00:00, number of deaths =  108, number of infected = 1905\n",
      "2020-07-21 18:23:46,390 - june.simulator - INFO - Date = 2020-10-26 00:00:00, number of deaths =  108, number of infected = 1862\n",
      "2020-07-21 18:23:47,013 - june.simulator - INFO - Date = 2020-10-26 01:00:00, number of deaths =  108, number of infected = 1858\n",
      "2020-07-21 18:23:47,524 - june.simulator - INFO - Date = 2020-10-26 09:00:00, number of deaths =  109, number of infected = 1839\n",
      "2020-07-21 18:23:48,386 - june.simulator - INFO - Date = 2020-10-26 10:00:00, number of deaths =  109, number of infected = 1839\n",
      "2020-07-21 18:23:48,914 - june.simulator - INFO - Date = 2020-10-26 13:00:00, number of deaths =  109, number of infected = 1838\n",
      "2020-07-21 18:23:49,485 - june.simulator - INFO - Date = 2020-10-27 00:00:00, number of deaths =  109, number of infected = 1790\n",
      "2020-07-21 18:23:49,979 - june.simulator - INFO - Date = 2020-10-27 01:00:00, number of deaths =  109, number of infected = 1784\n",
      "2020-07-21 18:23:50,466 - june.simulator - INFO - Date = 2020-10-27 09:00:00, number of deaths =  109, number of infected = 1770\n",
      "2020-07-21 18:23:51,150 - june.simulator - INFO - Date = 2020-10-27 10:00:00, number of deaths =  109, number of infected = 1768\n",
      "2020-07-21 18:23:51,642 - june.simulator - INFO - Date = 2020-10-27 13:00:00, number of deaths =  109, number of infected = 1754\n",
      "2020-07-21 18:23:52,203 - june.simulator - INFO - Date = 2020-10-28 00:00:00, number of deaths =  111, number of infected = 1708\n",
      "2020-07-21 18:23:52,813 - june.simulator - INFO - Date = 2020-10-28 01:00:00, number of deaths =  111, number of infected = 1705\n",
      "2020-07-21 18:23:53,292 - june.simulator - INFO - Date = 2020-10-28 09:00:00, number of deaths =  111, number of infected = 1676\n",
      "2020-07-21 18:23:54,033 - june.simulator - INFO - Date = 2020-10-28 10:00:00, number of deaths =  111, number of infected = 1670\n",
      "2020-07-21 18:23:54,515 - june.simulator - INFO - Date = 2020-10-28 13:00:00, number of deaths =  111, number of infected = 1664\n",
      "2020-07-21 18:23:55,027 - june.simulator - INFO - Date = 2020-10-29 00:00:00, number of deaths =  112, number of infected = 1631\n",
      "2020-07-21 18:23:55,636 - june.simulator - INFO - Date = 2020-10-29 01:00:00, number of deaths =  112, number of infected = 1629\n",
      "2020-07-21 18:23:56,144 - june.simulator - INFO - Date = 2020-10-29 09:00:00, number of deaths =  112, number of infected = 1617\n",
      "2020-07-21 18:23:56,947 - june.simulator - INFO - Date = 2020-10-29 10:00:00, number of deaths =  112, number of infected = 1613\n",
      "2020-07-21 18:23:57,461 - june.simulator - INFO - Date = 2020-10-29 13:00:00, number of deaths =  112, number of infected = 1606\n",
      "2020-07-21 18:23:58,031 - june.simulator - INFO - Date = 2020-10-30 00:00:00, number of deaths =  112, number of infected = 1562\n",
      "2020-07-21 18:23:58,552 - june.simulator - INFO - Date = 2020-10-30 01:00:00, number of deaths =  112, number of infected = 1563\n",
      "2020-07-21 18:23:58,997 - june.simulator - INFO - Date = 2020-10-30 09:00:00, number of deaths =  113, number of infected = 1554\n",
      "2020-07-21 18:23:59,780 - june.simulator - INFO - Date = 2020-10-30 10:00:00, number of deaths =  113, number of infected = 1552\n",
      "2020-07-21 18:24:00,208 - june.simulator - INFO - Date = 2020-10-30 13:00:00, number of deaths =  113, number of infected = 1542\n",
      "2020-07-21 18:24:00,917 - june.simulator - INFO - Date = 2020-10-31 00:00:00, number of deaths =  113, number of infected = 1508\n",
      "2020-07-21 18:24:01,592 - june.simulator - INFO - Date = 2020-10-31 04:00:00, number of deaths =  113, number of infected = 1496\n",
      "2020-07-21 18:24:02,407 - june.simulator - INFO - Date = 2020-10-31 08:00:00, number of deaths =  113, number of infected = 1489\n",
      "2020-07-21 18:24:02,936 - june.simulator - INFO - Date = 2020-10-31 12:00:00, number of deaths =  113, number of infected = 1480\n",
      "2020-07-21 18:24:03,774 - june.simulator - INFO - Date = 2020-11-01 00:00:00, number of deaths =  113, number of infected = 1426\n",
      "2020-07-21 18:24:04,574 - june.simulator - INFO - Date = 2020-11-01 04:00:00, number of deaths =  113, number of infected = 1417\n",
      "2020-07-21 18:24:05,280 - june.simulator - INFO - Date = 2020-11-01 08:00:00, number of deaths =  113, number of infected = 1406\n",
      "2020-07-21 18:24:05,720 - june.simulator - INFO - Date = 2020-11-01 12:00:00, number of deaths =  113, number of infected = 1404\n",
      "2020-07-21 18:24:06,241 - june.simulator - INFO - Date = 2020-11-02 00:00:00, number of deaths =  113, number of infected = 1371\n",
      "2020-07-21 18:24:06,745 - june.simulator - INFO - Date = 2020-11-02 01:00:00, number of deaths =  113, number of infected = 1370\n",
      "2020-07-21 18:24:07,164 - june.simulator - INFO - Date = 2020-11-02 09:00:00, number of deaths =  113, number of infected = 1346\n",
      "2020-07-21 18:24:08,001 - june.simulator - INFO - Date = 2020-11-02 10:00:00, number of deaths =  113, number of infected = 1343\n",
      "2020-07-21 18:24:08,516 - june.simulator - INFO - Date = 2020-11-02 13:00:00, number of deaths =  113, number of infected = 1338\n",
      "2020-07-21 18:24:09,101 - june.simulator - INFO - Date = 2020-11-03 00:00:00, number of deaths =  113, number of infected = 1305\n",
      "2020-07-21 18:24:09,614 - june.simulator - INFO - Date = 2020-11-03 01:00:00, number of deaths =  113, number of infected = 1305\n",
      "2020-07-21 18:24:10,006 - june.simulator - INFO - Date = 2020-11-03 09:00:00, number of deaths =  113, number of infected = 1284\n",
      "2020-07-21 18:24:10,690 - june.simulator - INFO - Date = 2020-11-03 10:00:00, number of deaths =  113, number of infected = 1285\n"
     ]
    },
    {
     "name": "stdout",
     "output_type": "stream",
     "text": [
      "2020-07-21 18:24:11,121 - june.simulator - INFO - Date = 2020-11-03 13:00:00, number of deaths =  113, number of infected = 1279\n",
      "2020-07-21 18:24:11,628 - june.simulator - INFO - Date = 2020-11-04 00:00:00, number of deaths =  113, number of infected = 1256\n",
      "2020-07-21 18:24:12,138 - june.simulator - INFO - Date = 2020-11-04 01:00:00, number of deaths =  113, number of infected = 1252\n",
      "2020-07-21 18:24:12,566 - june.simulator - INFO - Date = 2020-11-04 09:00:00, number of deaths =  113, number of infected = 1243\n",
      "2020-07-21 18:24:13,340 - june.simulator - INFO - Date = 2020-11-04 10:00:00, number of deaths =  113, number of infected = 1245\n",
      "2020-07-21 18:24:13,767 - june.simulator - INFO - Date = 2020-11-04 13:00:00, number of deaths =  113, number of infected = 1240\n",
      "2020-07-21 18:24:14,316 - june.simulator - INFO - Date = 2020-11-05 00:00:00, number of deaths =  113, number of infected = 1240\n",
      "2020-07-21 18:24:14,813 - june.simulator - INFO - Date = 2020-11-05 01:00:00, number of deaths =  113, number of infected = 1240\n",
      "2020-07-21 18:24:15,207 - june.simulator - INFO - Date = 2020-11-05 09:00:00, number of deaths =  113, number of infected = 1223\n",
      "2020-07-21 18:24:15,976 - june.simulator - INFO - Date = 2020-11-05 10:00:00, number of deaths =  113, number of infected = 1223\n",
      "2020-07-21 18:24:16,407 - june.simulator - INFO - Date = 2020-11-05 13:00:00, number of deaths =  113, number of infected = 1214\n",
      "2020-07-21 18:24:16,876 - june.simulator - INFO - Date = 2020-11-06 00:00:00, number of deaths =  113, number of infected = 1182\n",
      "CPU times: user 18min 1s, sys: 6.03 s, total: 18min 7s\n",
      "Wall time: 18min 29s\n"
     ]
    }
   ],
   "source": [
    "%%time\n",
    "simulator.run()"
   ]
  },
  {
   "cell_type": "markdown",
   "metadata": {},
   "source": [
    "While the simulation runs (and afterwards) we can launch the visualization webpage by running\n",
    "```python june/visualizer.py path/to/results``` "
   ]
  },
  {
   "cell_type": "markdown",
   "metadata": {},
   "source": [
    "# Getting the results"
   ]
  },
  {
   "cell_type": "markdown",
   "metadata": {},
   "source": [
    "All results are stored in a json file specified in the ``save_path`` variable in the config file. We can also access it from ``world.logger`` directly."
   ]
  },
  {
   "cell_type": "code",
   "execution_count": 25,
   "metadata": {},
   "outputs": [],
   "source": [
    "import pandas as pd"
   ]
  },
  {
   "cell_type": "code",
   "execution_count": 26,
   "metadata": {},
   "outputs": [],
   "source": [
    "read = ReadLogger()"
   ]
  },
  {
   "cell_type": "markdown",
   "metadata": {},
   "source": [
    "## Hospital data and how it changed over time"
   ]
  },
  {
   "cell_type": "code",
   "execution_count": 27,
   "metadata": {},
   "outputs": [],
   "source": [
    "hospitals_df = read.load_hospital_capacity()"
   ]
  },
  {
   "cell_type": "code",
   "execution_count": 28,
   "metadata": {},
   "outputs": [
    {
     "data": {
      "text/html": [
       "<div>\n",
       "<style scoped>\n",
       "    .dataframe tbody tr th:only-of-type {\n",
       "        vertical-align: middle;\n",
       "    }\n",
       "\n",
       "    .dataframe tbody tr th {\n",
       "        vertical-align: top;\n",
       "    }\n",
       "\n",
       "    .dataframe thead th {\n",
       "        text-align: right;\n",
       "    }\n",
       "</style>\n",
       "<table border=\"1\" class=\"dataframe\">\n",
       "  <thead>\n",
       "    <tr style=\"text-align: right;\">\n",
       "      <th></th>\n",
       "      <th>time_stamp</th>\n",
       "      <th>id</th>\n",
       "      <th>n_patients</th>\n",
       "      <th>n_patients_icu</th>\n",
       "    </tr>\n",
       "  </thead>\n",
       "  <tbody>\n",
       "    <tr>\n",
       "      <th>0</th>\n",
       "      <td>2020-03-01T04:00:00.000000</td>\n",
       "      <td>0</td>\n",
       "      <td>0</td>\n",
       "      <td>0</td>\n",
       "    </tr>\n",
       "    <tr>\n",
       "      <th>1</th>\n",
       "      <td>2020-03-01T08:00:00.000000</td>\n",
       "      <td>0</td>\n",
       "      <td>0</td>\n",
       "      <td>0</td>\n",
       "    </tr>\n",
       "    <tr>\n",
       "      <th>2</th>\n",
       "      <td>2020-03-01T12:00:00.000000</td>\n",
       "      <td>0</td>\n",
       "      <td>0</td>\n",
       "      <td>0</td>\n",
       "    </tr>\n",
       "  </tbody>\n",
       "</table>\n",
       "</div>"
      ],
      "text/plain": [
       "                   time_stamp id n_patients n_patients_icu\n",
       "0  2020-03-01T04:00:00.000000  0          0              0\n",
       "1  2020-03-01T08:00:00.000000  0          0              0\n",
       "2  2020-03-01T12:00:00.000000  0          0              0"
      ]
     },
     "execution_count": 28,
     "metadata": {},
     "output_type": "execute_result"
    }
   ],
   "source": [
    "hospitals_df.head(3)"
   ]
  },
  {
   "cell_type": "code",
   "execution_count": 29,
   "metadata": {},
   "outputs": [],
   "source": [
    "hospitals_characteristics_df = read.load_hospital_characteristics()"
   ]
  },
  {
   "cell_type": "code",
   "execution_count": 30,
   "metadata": {},
   "outputs": [
    {
     "data": {
      "text/html": [
       "<div>\n",
       "<style scoped>\n",
       "    .dataframe tbody tr th:only-of-type {\n",
       "        vertical-align: middle;\n",
       "    }\n",
       "\n",
       "    .dataframe tbody tr th {\n",
       "        vertical-align: top;\n",
       "    }\n",
       "\n",
       "    .dataframe thead th {\n",
       "        text-align: right;\n",
       "    }\n",
       "</style>\n",
       "<table border=\"1\" class=\"dataframe\">\n",
       "  <thead>\n",
       "    <tr style=\"text-align: right;\">\n",
       "      <th></th>\n",
       "      <th>longitude</th>\n",
       "      <th>latitude</th>\n",
       "      <th>n_beds</th>\n",
       "      <th>n_icu_beds</th>\n",
       "      <th>trust_code</th>\n",
       "    </tr>\n",
       "  </thead>\n",
       "  <tbody>\n",
       "    <tr>\n",
       "      <th>0</th>\n",
       "      <td>0.688477</td>\n",
       "      <td>51.5625</td>\n",
       "      <td>2115</td>\n",
       "      <td>296</td>\n",
       "      <td>RAJ</td>\n",
       "    </tr>\n",
       "  </tbody>\n",
       "</table>\n",
       "</div>"
      ],
      "text/plain": [
       "   longitude  latitude  n_beds  n_icu_beds trust_code\n",
       "0   0.688477   51.5625    2115         296        RAJ"
      ]
     },
     "execution_count": 30,
     "metadata": {},
     "output_type": "execute_result"
    }
   ],
   "source": [
    "hospitals_characteristics_df"
   ]
  },
  {
   "cell_type": "markdown",
   "metadata": {},
   "source": [
    "## where did infections happen?"
   ]
  },
  {
   "cell_type": "code",
   "execution_count": null,
   "metadata": {},
   "outputs": [],
   "source": [
    "loc_df = read.get_locations_infections()"
   ]
  },
  {
   "cell_type": "code",
   "execution_count": null,
   "metadata": {},
   "outputs": [],
   "source": [
    "locations_per_day = read.locations_df.groupby(pd.Grouper(freq='D')).sum()"
   ]
  },
  {
   "cell_type": "code",
   "execution_count": null,
   "metadata": {},
   "outputs": [],
   "source": [
    "all_infection_places = set(locations_per_day.location.sum())"
   ]
  },
  {
   "cell_type": "code",
   "execution_count": null,
   "metadata": {},
   "outputs": [],
   "source": [
    "def n_infections(row, infection_place):\n",
    "    return sum([row.counts[i] for i, x in enumerate(row.location) if x == infection_place])\n"
   ]
  },
  {
   "cell_type": "code",
   "execution_count": null,
   "metadata": {},
   "outputs": [],
   "source": [
    "for infection_place in all_infection_places:\n",
    "    locations_per_day[str(infection_place)] = locations_per_day.apply(\n",
    "        lambda x: n_infections(x, infection_place),\n",
    "        axis=1\n",
    "    )"
   ]
  },
  {
   "cell_type": "code",
   "execution_count": null,
   "metadata": {},
   "outputs": [],
   "source": [
    "locations_per_day = locations_per_day.drop(columns=['location',\n",
    "                                                    'counts'])"
   ]
  },
  {
   "cell_type": "code",
   "execution_count": null,
   "metadata": {},
   "outputs": [],
   "source": [
    "locations_per_day = locations_per_day.div(\n",
    "    locations_per_day.sum(axis=1), axis=0\n",
    ")\n"
   ]
  },
  {
   "cell_type": "code",
   "execution_count": null,
   "metadata": {},
   "outputs": [],
   "source": [
    "locations_per_day.plot.area( alpha=0.5)\n",
    "plt.legend(bbox_to_anchor=(1,1))\n",
    "plt.ylabel('Percent of infections')"
   ]
  },
  {
   "cell_type": "code",
   "execution_count": null,
   "metadata": {},
   "outputs": [],
   "source": [
    "from matplotlib import cm\n",
    "cmap = cm.get_cmap('Spectral') # Colour map (there are many others)\n",
    "\n",
    "locations_per_day.plot(figsize=(30,8), logy=True, ylim=(1e-3, 1), cmap=cmap)"
   ]
  },
  {
   "cell_type": "code",
   "execution_count": null,
   "metadata": {},
   "outputs": [],
   "source": [
    "import matplotlib.ticker as mtick\n",
    "\n",
    "ax = loc_df['percentage_infections'].sort_values().plot.bar()\n",
    "ax.yaxis.set_major_formatter(mtick.PercentFormatter())\n",
    "plt.ylabel('Percentage of infections at location')\n",
    "plt.xlabel('location')\n",
    "#plt.yscale('log')"
   ]
  },
  {
   "cell_type": "markdown",
   "metadata": {},
   "source": [
    "## rate of infection"
   ]
  },
  {
   "cell_type": "code",
   "execution_count": null,
   "metadata": {},
   "outputs": [],
   "source": [
    "r_df = read.get_r()"
   ]
  },
  {
   "cell_type": "code",
   "execution_count": null,
   "metadata": {},
   "outputs": [],
   "source": [
    "from june.policy import SocialDistancing\n",
    "r_df.plot()\n",
    "colors = [\"yellow\", \"orange\"]\n",
    "for policy in policies.policies:\n",
    "    if isinstance(policy, SocialDistancing):\n",
    "        plt.axvspan(policy.start_time, \n",
    "                policy.end_time,\n",
    "                facecolor=colors.pop(), alpha=0.2)\n",
    "plt.axhline(y=1, linestyle='dashed', color='gray')\n",
    "plt.xlabel('Date')\n",
    "plt.yscale('log')\n",
    "plt.ylabel('R')"
   ]
  },
  {
   "cell_type": "markdown",
   "metadata": {},
   "source": [
    "## World infection curves, and by super area"
   ]
  },
  {
   "cell_type": "code",
   "execution_count": null,
   "metadata": {},
   "outputs": [],
   "source": [
    "world_df = read.world_summary()"
   ]
  },
  {
   "cell_type": "code",
   "execution_count": null,
   "metadata": {},
   "outputs": [],
   "source": [
    "#import matplotlib.pyplot as plt\n",
    " \n",
    "#plt.style.use(['science','notebook'])\n",
    "#plt.style.reload_library()"
   ]
  },
  {
   "cell_type": "code",
   "execution_count": null,
   "metadata": {},
   "outputs": [],
   "source": [
    "import matplotlib as mpl\n",
    "mpl.rcParams['figure.dpi'] = 300"
   ]
  },
  {
   "cell_type": "code",
   "execution_count": null,
   "metadata": {},
   "outputs": [],
   "source": [
    "fig, ax = plt.subplots()\n",
    "world_df['new_infections'].resample('D').sum().plot(ax=ax)\n",
    "colors = [\"yellow\", \"orange\"]\n",
    "for policy in policies.policies:\n",
    "    if isinstance(policy, SocialDistancing):\n",
    "        plt.axvspan(policy.start_time, \n",
    "                policy.end_time,\n",
    "                facecolor=colors.pop(), alpha=0.2)\n",
    "plt.axvline('2020-03-23',\n",
    "           linestyle='dashed',\n",
    "           color='indianred')\n",
    "ax.set_ylabel('# new infections')\n",
    "ax.set_xlabel('Date')"
   ]
  },
  {
   "cell_type": "code",
   "execution_count": null,
   "metadata": {},
   "outputs": [],
   "source": [
    "fig, ax = plt.subplots()\n",
    "(world_df['hospital_admissions']+world_df['intensive_care_admissions']).resample('D').sum().plot(ax=ax)\n",
    "colors = [\"yellow\", \"orange\"]\n",
    "for policy in policies.polici-es:\n",
    "    if isinstance(policy, SocialDistancing):\n",
    "        plt.axvspan(policy.start_time, \n",
    "                policy.end_time,\n",
    "                facecolor=colors.pop(), alpha=0.2)\n",
    "plt.axvline('2020-04-01',\n",
    "           linestyle='dashed',\n",
    "           color='indianred')\n",
    "ax.set_ylabel('# hospital admissions')\n",
    "ax.set_xlabel('Date')"
   ]
  },
  {
   "cell_type": "code",
   "execution_count": null,
   "metadata": {},
   "outputs": [],
   "source": [
    "fig, ax = plt.subplots()\n",
    "world_df['infected'].plot(ax=ax)\n",
    "colors = [\"yellow\", \"orange\"]\n",
    "for policy in policies.policies:\n",
    "    if isinstance(policy, SocialDistancing):\n",
    "        plt.axvspan(policy.start_time, \n",
    "                policy.end_time,\n",
    "                facecolor=colors.pop(), alpha=0.2)\n",
    "ax.set_ylabel('# Infected')\n",
    "ax.set_xlabel('Date')"
   ]
  },
  {
   "cell_type": "code",
   "execution_count": null,
   "metadata": {},
   "outputs": [],
   "source": [
    "world_df.plot()\n",
    "colors = [\"yellow\", \"orange\"]\n",
    "for policy in policies.policies:\n",
    "    if isinstance(policy, SocialDistancing):\n",
    "        plt.axvspan(policy.start_time, \n",
    "                policy.end_time,\n",
    "                facecolor=colors.pop(), alpha=0.2)\n",
    "plt.legend(bbox_to_anchor=(1,1))\n"
   ]
  },
  {
   "cell_type": "code",
   "execution_count": null,
   "metadata": {},
   "outputs": [],
   "source": [
    "area_df = read.super_area_summary()"
   ]
  },
  {
   "cell_type": "code",
   "execution_count": null,
   "metadata": {},
   "outputs": [],
   "source": [
    "area_df[area_df.super_area == \"E02003282\"].plot()\n",
    "plt.legend(bbox_to_anchor=(1,1))\n",
    "\n"
   ]
  },
  {
   "cell_type": "markdown",
   "metadata": {},
   "source": [
    "## World infection curves per age group"
   ]
  },
  {
   "cell_type": "code",
   "execution_count": null,
   "metadata": {},
   "outputs": [],
   "source": [
    "ages_df = read.age_summary([0,10,20,30,40,\n",
    "                  50,60,70,80,90,100])"
   ]
  },
  {
   "cell_type": "code",
   "execution_count": null,
   "metadata": {},
   "outputs": [],
   "source": [
    "for name, group in ages_df.groupby('age_range'):\n",
    "    group['infected'].plot(label=name)\n",
    "colors = [\"yellow\", \"orange\"]\n",
    "for policy in policies.policies:\n",
    "    if isinstance(policy, SocialDistancing):\n",
    "        plt.axvspan(policy.start_time, \n",
    "                policy.end_time,\n",
    "                facecolor=colors.pop(), alpha=0.2)\n",
    "plt.legend(bbox_to_anchor=(1,1))\n"
   ]
  },
  {
   "cell_type": "code",
   "execution_count": null,
   "metadata": {},
   "outputs": [],
   "source": [
    "for name, group in ages_df.groupby('age_range'):\n",
    "    group['dead'].cumsum().plot(label=name)\n",
    "plt.legend()"
   ]
  },
  {
   "cell_type": "code",
   "execution_count": null,
   "metadata": {},
   "outputs": [],
   "source": [
    "for name, group in ages_df.groupby('age_range'):\n",
    "    group['susceptible'].plot(label=name)\n",
    "plt.legend()"
   ]
  },
  {
   "cell_type": "code",
   "execution_count": null,
   "metadata": {},
   "outputs": [],
   "source": [
    "for name, group in ages_df.groupby('age_range'):\n",
    "    group['hospital_admissions'].cumsum().plot(label=name)\n",
    "plt.legend()"
   ]
  },
  {
   "cell_type": "code",
   "execution_count": null,
   "metadata": {},
   "outputs": [],
   "source": [
    "for name, group in ages_df.groupby('age_range'):\n",
    "    group['intensive_care_admissions'].cumsum().plot(label=name)\n",
    "plt.legend()"
   ]
  },
  {
   "cell_type": "markdown",
   "metadata": {},
   "source": [
    "## Draw some of the symptoms trajectories"
   ]
  },
  {
   "cell_type": "code",
   "execution_count": null,
   "metadata": {},
   "outputs": [],
   "source": [
    "random_trajectories = read.draw_symptom_trajectories(window_length=600,\n",
    "                                        n_people=10)"
   ]
  },
  {
   "cell_type": "code",
   "execution_count": null,
   "metadata": {},
   "outputs": [],
   "source": [
    "from june.infection import SymptomTag"
   ]
  },
  {
   "cell_type": "code",
   "execution_count": null,
   "metadata": {},
   "outputs": [],
   "source": [
    "symptoms_values = [tag.value for tag in SymptomTag]\n",
    "symptoms_names = [tag.name for tag in SymptomTag]\n"
   ]
  },
  {
   "cell_type": "code",
   "execution_count": null,
   "metadata": {},
   "outputs": [],
   "source": [
    "for df_person in random_trajectories:\n",
    "    df_person['symptoms'].plot()\n",
    "plt.ylabel('Symptoms Trajectory')\n",
    "_ = plt.yticks(symptoms_values, symptoms_names)\n",
    "plt.xlabel('Date')"
   ]
  },
  {
   "cell_type": "code",
   "execution_count": null,
   "metadata": {},
   "outputs": [],
   "source": [
    "for df_person in random_trajectories:\n",
    "    df_person['n_secondary_infections'].plot()\n",
    "plt.ylabel('Number of secondary infections')\n",
    "\n",
    "plt.xlabel('Date')"
   ]
  },
  {
   "cell_type": "code",
   "execution_count": null,
   "metadata": {},
   "outputs": [],
   "source": []
  }
 ],
 "metadata": {
  "kernelspec": {
   "display_name": "Python 3",
   "language": "python",
   "name": "python3"
  },
  "language_info": {
   "codemirror_mode": {
    "name": "ipython",
    "version": 3
   },
   "file_extension": ".py",
   "mimetype": "text/x-python",
   "name": "python",
   "nbconvert_exporter": "python",
   "pygments_lexer": "ipython3",
   "version": "3.8.3"
  }
 },
 "nbformat": 4,
 "nbformat_minor": 4
}
