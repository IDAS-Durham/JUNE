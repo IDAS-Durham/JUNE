{
 "cells": [
  {
   "cell_type": "code",
   "execution_count": 1,
   "metadata": {},
   "outputs": [],
   "source": [
    "%load_ext autoreload\n",
    "%autoreload 2"
   ]
  },
  {
   "cell_type": "code",
   "execution_count": 2,
   "metadata": {},
   "outputs": [],
   "source": [
    "import numpy as np\n",
    "import time\n",
    "from datetime import datetime\n",
    "import matplotlib.pyplot as plt\n",
    "\n",
    " \n",
    "plt.style.use(['science','notebook'])\n",
    "plt.style.reload_library()"
   ]
  },
  {
   "cell_type": "code",
   "execution_count": 3,
   "metadata": {},
   "outputs": [
    {
     "name": "stderr",
     "output_type": "stream",
     "text": [
      "No --data argument given - defaulting to:\n",
      "/home/florpi/JUNE/data\n",
      "No --configs argument given - defaulting to:\n",
      "/home/florpi/JUNE/june/configs\n",
      "INFO:numexpr.utils:NumExpr defaulting to 4 threads.\n"
     ]
    }
   ],
   "source": [
    "from june import World \n",
    "from june.geography import Geography\n",
    "from june.demography import Demography\n",
    "from june.interaction import Interaction\n",
    "from june.infection import Infection, HealthIndexGenerator, InfectionSelector\n",
    "from june.infection.transmission import TransmissionConstant\n",
    "from june.groups import Hospitals, Schools, Companies, Households, CareHomes, Cemeteries, Universities\n",
    "from june.groups.leisure import generate_leisure_for_config, Cinemas, Pubs, Groceries\n",
    "from june.groups.travel import *\n",
    "from june.simulator import Simulator\n",
    "from june.infection_seed import InfectionSeed\n",
    "from june.policy import Policy, Policies\n",
    "from june import paths\n",
    "from june.hdf5_savers import load_geography_from_hdf5\n",
    "from june.records import Record, RecordReader\n",
    "\n",
    "from june.world import generate_world_from_geography\n",
    "from june.hdf5_savers import generate_world_from_hdf5"
   ]
  },
  {
   "cell_type": "markdown",
   "metadata": {},
   "source": [
    "# Initialize world\n",
    "\n",
    "To initialize a certain world, we need to add the different components we want to have in it. First we specify what super areas (msoa) we want to create. We have included these ones, because they are known to contain hospitals, schools, care homes, and companies.\n",
    "\n",
    "After creating the geography, we create the different components the worlds need to have such as care homes, companies ..."
   ]
  },
  {
   "cell_type": "code",
   "execution_count": 4,
   "metadata": {},
   "outputs": [],
   "source": [
    "CONFIG_PATH = paths.configs_path / \"config_example.yaml\""
   ]
  },
  {
   "cell_type": "code",
   "execution_count": 8,
   "metadata": {},
   "outputs": [
    {
     "name": "stdout",
     "output_type": "stream",
     "text": [
      "2020-11-01 16:46:02,708 - june.geography.geography - INFO - There are 151 areas and 5 super_areas and 3 in the world.\n",
      "2020-11-01 16:46:02,714 - hospitals - INFO - There are 1 hospitals in this geography.\n",
      "2020-11-01 16:46:02,765 - schools - INFO - There are 16 schools in this geography.\n",
      "2020-11-01 16:46:02,815 - schools - INFO - No school for the age 0 in this world.\n",
      "2020-11-01 16:46:02,825 - schools - INFO - No school for the age 1 in this world.\n",
      "2020-11-01 16:46:03,120 - care_homes - INFO - There are 14 care_homes in this geography.\n",
      "2020-11-01 16:46:09,186 - world - INFO - Populating areas\n",
      "2020-11-01 16:46:09,764 - world - INFO - Areas populated. This world's population is: 44314\n",
      "2020-11-01 16:46:12,116 - worker_distributor - INFO - Distributing workers to super areas...\n",
      "2020-11-01 16:46:13,656 - worker_distributor - INFO - Workers distributed.\n",
      "2020-11-01 16:46:14,517 - care_home_distributor - INFO - Populating care homes\n",
      "2020-11-01 16:46:14,524 - care_home_distributor - INFO - This world has 246 people living in care homes.\n",
      "2020-11-01 16:46:14,537 - household_distributor - INFO - Distributing people to households\n",
      "2020-11-01 16:46:18,601 - household_distributor - INFO - People assigned to households. There are 20614 households in this world.\n",
      "2020-11-01 16:46:18,605 - school_distributor - INFO - Distributing kids to schools\n",
      "2020-11-01 16:46:18,606 - school_distributor - INFO - Distributed kids in 0 of 151 areas.\n",
      "2020-11-01 16:46:19,634 - school_distributor - INFO - Kids distributed to schools\n",
      "2020-11-01 16:46:19,690 - hospital_distributor - INFO - Distributing medics to hospitals\n",
      "2020-11-01 16:46:19,693 - hospital_distributor - INFO - Medics distributed to hospitals\n",
      "2020-11-01 16:46:19,695 - company_distributor - INFO - Distributing workers to companies\n",
      "2020-11-01 16:46:19,696 - company_distributor - INFO - Distributed workers to companies in 0 of 5 super areas.\n",
      "2020-11-01 16:46:19,935 - company_distributor - INFO - Workers distributed to companies\n",
      "CPU times: user 16.7 s, sys: 852 ms, total: 17.5 s\n",
      "Wall time: 17.6 s\n"
     ]
    }
   ],
   "source": [
    "%%time \n",
    "\n",
    "geography = Geography.from_file(\n",
    "{\n",
    "    \"super_area\": [\"E02001731\", \"E02002566\",\"E02004935\",\"E02000134\", \"E02004987\"]\n",
    "}\n",
    ")\n",
    "\n",
    "geography.hospitals = Hospitals.for_geography(geography)\n",
    "geography.schools = Schools.for_geography(geography)\n",
    "geography.companies = Companies.for_geography(geography)\n",
    "geography.care_homes = CareHomes.for_geography(geography)\n",
    "#geography.universities = Universities.for_super_areas(geography.super_areas)\n",
    "world = generate_world_from_geography(geography, include_households=True)\n"
   ]
  },
  {
   "cell_type": "markdown",
   "metadata": {},
   "source": [
    "## Commute, travel and leisure"
   ]
  },
  {
   "cell_type": "code",
   "execution_count": 9,
   "metadata": {},
   "outputs": [
    {
     "name": "stdout",
     "output_type": "stream",
     "text": [
      "2020-11-01 16:46:24,849 - social_venue - INFO - Domain 0 has 12888 pubs(s)\n",
      "2020-11-01 16:46:24,920 - social_venue - INFO - Domain 0 has 60 cinemas(s)\n",
      "2020-11-01 16:46:26,392 - social_venue - INFO - Domain 0 has 3136 groceries(s)\n",
      "2020-11-01 16:46:26,451 - leisure - INFO - Linking households for visits\n",
      "2020-11-01 16:46:27,262 - leisure - INFO - Done\n",
      "2020-11-01 16:46:27,263 - leisure - INFO - Linking households with care homes for visits\n",
      "2020-11-01 16:46:27,387 - leisure - INFO - Done\n",
      "2020-11-01 16:46:27,388 - leisure - INFO - Distributing social venues to areas\n",
      "2020-11-01 16:46:27,389 - leisure - INFO - Distributed in 0 of 151 areas.\n",
      "2020-11-01 16:46:27,830 - leisure - INFO - Distributed in 151 of 151 areas.\n",
      "CPU times: user 7.73 s, sys: 68.6 ms, total: 7.79 s\n",
      "Wall time: 7.86 s\n"
     ]
    }
   ],
   "source": [
    "%%time\n",
    "\n",
    "world.pubs = Pubs.for_geography(geography)\n",
    "world.cinemas = Cinemas.for_geography(geography)\n",
    "world.groceries = Groceries.for_geography(geography)\n",
    "leisure = generate_leisure_for_config(world, config_filename=CONFIG_PATH)\n",
    "leisure.distribute_social_venues_to_areas(\n",
    "    areas=world.areas, super_areas=world.super_areas\n",
    ")\n"
   ]
  },
  {
   "cell_type": "code",
   "execution_count": 10,
   "metadata": {},
   "outputs": [
    {
     "name": "stdout",
     "output_type": "stream",
     "text": [
      "2020-11-01 16:46:27,871 - travel - INFO - Initialising commute...\n",
      "2020-11-01 16:46:27,872 - travel - INFO - Creating cities...\n",
      "2020-11-01 16:46:27,885 - travel - INFO - This world has 4 cities, with names\n",
      "['London', 'Newcastle upon Tyne', 'Darlington', 'St Albans']\n",
      "2020-11-01 16:46:27,890 - travel - INFO - Determining people mode of transport\n",
      "2020-11-01 16:46:36,903 - travel - INFO - Mode of transport allocated in 0 of 151 areas.\n",
      "2020-11-01 16:46:36,991 - travel - INFO - Mode of transport determined for everyone.\n",
      "2020-11-01 16:46:37,249 - travel - INFO - Assigning commuters to stations...\n",
      "2020-11-01 16:46:37,250 - travel - INFO - Assigned 0 of 44314 potential commuters...\n",
      "2020-11-01 16:46:37,273 - travel - INFO - Commuters assigned\n",
      "2020-11-01 16:46:37,274 - travel - INFO - City London has 742 internal and 797 external commuters.\n",
      "2020-11-01 16:46:37,275 - travel - INFO - City Newcastle upon Tyne has 1085 internal and 1031 external commuters.\n",
      "2020-11-01 16:46:37,279 - travel - INFO - Creating stations...\n",
      "2020-11-01 16:46:37,282 - travel - INFO - City London has 1 city and 8 inter city stations.\n",
      "2020-11-01 16:46:37,285 - travel - INFO - City Newcastle upon Tyne has 1 city and 4 inter city stations.\n",
      "2020-11-01 16:46:37,291 - travel - INFO - Creating transport units for the population\n",
      "2020-11-01 16:46:37,292 - travel - INFO - City London has 15 city train carriages.\n",
      "2020-11-01 16:46:37,294 - travel - INFO - City London has 16 inter-city train carriages.\n",
      "2020-11-01 16:46:37,295 - travel - INFO - City Newcastle upon Tyne has 50 city train carriages.\n",
      "2020-11-01 16:46:37,297 - travel - INFO - City Newcastle upon Tyne has 48 inter-city train carriages.\n",
      "2020-11-01 16:46:37,298 - travel - INFO - Cities' transport initialised\n"
     ]
    }
   ],
   "source": [
    "# initialise commuting travel\n",
    "travel = Travel()\n",
    "travel.initialise_commute(world)"
   ]
  },
  {
   "cell_type": "markdown",
   "metadata": {},
   "source": [
    "We are also going to need some cemeteries...\n"
   ]
  },
  {
   "cell_type": "code",
   "execution_count": 11,
   "metadata": {},
   "outputs": [],
   "source": [
    "world.cemeteries = Cemeteries()"
   ]
  },
  {
   "cell_type": "code",
   "execution_count": 12,
   "metadata": {},
   "outputs": [
    {
     "data": {
      "text/plain": [
       "44314"
      ]
     },
     "execution_count": 12,
     "metadata": {},
     "output_type": "execute_result"
    }
   ],
   "source": [
    "len(world.people)"
   ]
  },
  {
   "cell_type": "markdown",
   "metadata": {},
   "source": [
    "### If it took a long time to run the previous commands, it might be a good idea to save the world to reuse it later."
   ]
  },
  {
   "cell_type": "code",
   "execution_count": 13,
   "metadata": {
    "scrolled": true
   },
   "outputs": [
    {
     "name": "stdout",
     "output_type": "stream",
     "text": [
      "2020-11-01 16:46:37,434 - world_saver - INFO - saving world to HDF5\n",
      "2020-11-01 16:46:37,459 - world_saver - INFO - saving population...\n",
      "2020-11-01 16:46:38,898 - world_saver - INFO - saving hospitals...\n",
      "2020-11-01 16:46:38,903 - world_saver - INFO - saving schools...\n",
      "2020-11-01 16:46:38,912 - world_saver - INFO - saving companies...\n",
      "2020-11-01 16:46:38,945 - world_saver - INFO - saving households...\n",
      "2020-11-01 16:46:39,302 - world_saver - INFO - saving care homes...\n",
      "2020-11-01 16:46:39,306 - world_saver - INFO - saving cities...\n",
      "2020-11-01 16:46:39,313 - world_saver - INFO - saving stations...\n",
      "2020-11-01 16:46:39,319 - world_saver - INFO - saving social venues...\n"
     ]
    }
   ],
   "source": [
    "world.to_hdf5(\"world.hdf5\")"
   ]
  },
  {
   "cell_type": "markdown",
   "metadata": {},
   "source": [
    "If we would like to load the world we saved, we just do"
   ]
  },
  {
   "cell_type": "code",
   "execution_count": 14,
   "metadata": {},
   "outputs": [
    {
     "name": "stdout",
     "output_type": "stream",
     "text": [
      "2020-11-01 16:46:39,435 - world_saver - INFO - loading world from HDF5\n",
      "2020-11-01 16:46:39,459 - world_saver - INFO - loading hospitals...\n",
      "2020-11-01 16:46:39,468 - world_saver - INFO - loading schools...\n",
      "2020-11-01 16:46:39,480 - company_saver - INFO - loading companies...\n",
      "2020-11-01 16:46:39,482 - company_saver - INFO - Companies chunk 0 of 1\n",
      "2020-11-01 16:46:39,595 - world_saver - INFO - loading care homes...\n",
      "2020-11-01 16:46:39,600 - world_saver - INFO - loading cities...\n",
      "2020-11-01 16:46:39,611 - world_saver - INFO - loading stations...\n",
      "2020-11-01 16:46:39,630 - household_saver - INFO - loading households...\n",
      "2020-11-01 16:46:39,634 - household_saver - INFO - Loaded chunk 0 of 1\n",
      "2020-11-01 16:46:39,908 - population saver - INFO - loading population...\n",
      "2020-11-01 16:46:39,909 - population saver - INFO - Loaded chunk 0 of 1\n",
      "2020-11-01 16:46:40,328 - world_saver - INFO - loading social venues...\n",
      "2020-11-01 16:46:40,334 - social_venue - INFO - Domain 0 has 60 cinemas(s)\n",
      "2020-11-01 16:46:40,389 - social_venue - INFO - Domain 0 has 3136 groceries(s)\n",
      "2020-11-01 16:46:40,506 - social_venue - INFO - Domain 0 has 12888 pubs(s)\n",
      "2020-11-01 16:46:40,542 - world_saver - INFO - restoring world...\n",
      "2020-11-01 16:46:40,566 - population saver - INFO - restoring population...\n",
      "2020-11-01 16:46:40,567 - population saver - INFO - Restored chunk 0 of 1\n",
      "2020-11-01 16:46:41,294 - household_saver - INFO - restoring households...\n",
      "2020-11-01 16:46:41,295 - household_saver - INFO - Restored chunk 0 of 1\n",
      "2020-11-01 16:46:41,563 - world_saver - INFO - restoring care homes...\n",
      "2020-11-01 16:46:41,567 - world_saver - INFO - restoring hospitals...\n",
      "2020-11-01 16:46:41,580 - world_saver - INFO - restoring commute...\n",
      "2020-11-01 16:46:41,593 - world_saver - INFO - restoring companies...\n",
      "2020-11-01 16:46:41,626 - world_saver - INFO - restoring schools...\n",
      "2020-11-01 16:46:41,631 - world_saver - INFO - restoring social venues...\n"
     ]
    }
   ],
   "source": [
    "world = generate_world_from_hdf5(\"world.hdf5\")"
   ]
  },
  {
   "cell_type": "code",
   "execution_count": 15,
   "metadata": {},
   "outputs": [],
   "source": [
    "# and regenerate leisure in case we load it externally\n",
    "leisure = generate_leisure_for_config(world, CONFIG_PATH)\n",
    "# create travel as well\n",
    "travel = Travel()"
   ]
  },
  {
   "cell_type": "markdown",
   "metadata": {},
   "source": [
    "you have now a beautiful pre-pandemic world. "
   ]
  },
  {
   "cell_type": "markdown",
   "metadata": {},
   "source": [
    "# Adding the infection"
   ]
  },
  {
   "cell_type": "markdown",
   "metadata": {},
   "source": [
    "The module in charge of infecting people is called the ``InfectionSelector``, which gives people a transmission time profile and a symptoms trajectory based on their age and sex (through the health index generator)"
   ]
  },
  {
   "cell_type": "code",
   "execution_count": 16,
   "metadata": {},
   "outputs": [],
   "source": [
    "health_index_generator = HealthIndexGenerator.from_file(asymptomatic_ratio=0.2)\n",
    "selector = InfectionSelector.from_file(\n",
    "        health_index_generator=health_index_generator,\n",
    "        transmission_config_path=paths.configs_path / 'defaults/transmission/XNExp.yaml'\n",
    ")"
   ]
  },
  {
   "cell_type": "markdown",
   "metadata": {},
   "source": [
    "# Adding the interaction"
   ]
  },
  {
   "cell_type": "code",
   "execution_count": 17,
   "metadata": {},
   "outputs": [],
   "source": [
    "interaction = Interaction.from_file(population=world.people)"
   ]
  },
  {
   "cell_type": "markdown",
   "metadata": {},
   "source": [
    "Beta are the intensities of the interaction taking place at the different groups"
   ]
  },
  {
   "cell_type": "code",
   "execution_count": 18,
   "metadata": {},
   "outputs": [
    {
     "data": {
      "text/plain": [
       "{'box': 1,\n",
       " 'pub': 0.42941,\n",
       " 'grocery': 0.04137,\n",
       " 'cinema': 0.157461,\n",
       " 'city_transport': 0.107969,\n",
       " 'inter_city_transport': 0.383,\n",
       " 'hospital': 0.1168,\n",
       " 'care_home': 0.28,\n",
       " 'company': 0.371,\n",
       " 'school': 0.07,\n",
       " 'household': 0.208,\n",
       " 'university': 0.306}"
      ]
     },
     "execution_count": 18,
     "metadata": {},
     "output_type": "execute_result"
    }
   ],
   "source": [
    "interaction.beta"
   ]
  },
  {
   "cell_type": "markdown",
   "metadata": {},
   "source": [
    "moreover this interaction module uses contact matrices, that are different for different groups. These contact matrices shouldnt be modified for now. However they are a combination of conversational contact matrices, and physical contact matrices (see the BBC pandemic paper, from where these matrices are extracted https://www.medrxiv.org/content/10.1101/2020.02.16.20023754v2)\n",
    "\n",
    "There is a parameter, ``alpha`` ($\\alpha$), that combines these two matrices in the following way,\n",
    "\n",
    "\n",
    "$\\beta M \\left(1 + (\\alpha -1) \\right) P$\n",
    "\n",
    "where $\\beta$ is the intensity of the interaction, and $P$ the physical contact matrix. A larger $\\alpha$ produces more physical contacts. It is an overall number, non dependent of the particular group.\n"
   ]
  },
  {
   "cell_type": "code",
   "execution_count": 19,
   "metadata": {},
   "outputs": [
    {
     "data": {
      "text/plain": [
       "2.0"
      ]
     },
     "execution_count": 19,
     "metadata": {},
     "output_type": "execute_result"
    }
   ],
   "source": [
    "interaction.alpha_physical"
   ]
  },
  {
   "cell_type": "markdown",
   "metadata": {},
   "source": [
    "# Seed the disease"
   ]
  },
  {
   "cell_type": "markdown",
   "metadata": {},
   "source": [
    "There are two options implemented in the seed at the moment, either you specify the number of cases and these are then homogeneously distributed by population to the different areas, or you use UK data on cases per region. For now use the first case."
   ]
  },
  {
   "cell_type": "code",
   "execution_count": 20,
   "metadata": {},
   "outputs": [],
   "source": [
    "infection_seed = InfectionSeed(\n",
    "    world, selector,\n",
    ")"
   ]
  },
  {
   "cell_type": "code",
   "execution_count": 21,
   "metadata": {},
   "outputs": [],
   "source": [
    "n_cases = 50\n",
    "infection_seed.unleash_virus(\n",
    "    population=world.people,\n",
    "    n_cases=n_cases) # play around with the initial number of cases"
   ]
  },
  {
   "cell_type": "markdown",
   "metadata": {},
   "source": [
    "# Set policies"
   ]
  },
  {
   "cell_type": "code",
   "execution_count": 22,
   "metadata": {},
   "outputs": [],
   "source": [
    "policies = Policies.from_file()"
   ]
  },
  {
   "cell_type": "markdown",
   "metadata": {},
   "source": [
    "We can have a look at one of the policies"
   ]
  },
  {
   "cell_type": "code",
   "execution_count": 23,
   "metadata": {},
   "outputs": [
    {
     "name": "stdout",
     "output_type": "stream",
     "text": [
      "{'spec': 'limit_long_commute', 'start_time': datetime.datetime(1000, 1, 1, 0, 0), 'end_time': datetime.datetime(9999, 1, 1, 0, 0), 'policy_type': 'individual', 'policy_subtype': 'skip_activity', 'activities_to_remove': ['primary_activity', 'commute'], 'going_to_work_probability': 0.2}\n"
     ]
    }
   ],
   "source": [
    "print(policies.individual_policies[1].__dict__)"
   ]
  },
  {
   "cell_type": "markdown",
   "metadata": {},
   "source": [
    "# Run the simulation"
   ]
  },
  {
   "cell_type": "markdown",
   "metadata": {},
   "source": [
    "The simulator is the main module in charge of running the simulation. It coordinates the ``ActivityManager`` which is responsible of allocating people to the right groups given the current timestep, it updates the health status of the population, and it runs the interaction over the different groups. All of these modules can be modified by policies at any given time."
   ]
  },
  {
   "cell_type": "markdown",
   "metadata": {},
   "source": [
    "Since the timer configuration is a bit cumbersome, it is read from the config file at ``configs/config_example.yaml``"
   ]
  },
  {
   "cell_type": "code",
   "execution_count": 24,
   "metadata": {},
   "outputs": [],
   "source": [
    "record = Record(    \n",
    "    record_path = 'results',    \n",
    "    record_static_data=True,\n",
    ") "
   ]
  },
  {
   "cell_type": "code",
   "execution_count": 25,
   "metadata": {},
   "outputs": [],
   "source": [
    "record.static_data(world=world)"
   ]
  },
  {
   "cell_type": "code",
   "execution_count": 30,
   "metadata": {},
   "outputs": [],
   "source": [
    "simulator = Simulator.from_file(\n",
    "    world=world,\n",
    "    infection_selector=selector,\n",
    "    interaction=interaction, \n",
    "    config_filename = CONFIG_PATH,\n",
    "    leisure = leisure,\n",
    "    travel = travel,\n",
    "    record=record,\n",
    "    policies = policies\n",
    ")"
   ]
  },
  {
   "cell_type": "code",
   "execution_count": null,
   "metadata": {
    "scrolled": false
   },
   "outputs": [
    {
     "name": "stdout",
     "output_type": "stream",
     "text": [
      "2020-11-01 16:48:20,253 - simulator - INFO - Starting simulation for 30 days at day 2020-03-01 00:00:00, to run for 30 days\n",
      "2020-11-01 16:48:20,500 - simulator - INFO - ==================== timestep ====================\n",
      "2020-11-01 16:48:21,046 - activity_manager - INFO - CMS: People COMS for rank 0/1 - 4.837987944483757e-06,4.0531158447265625e-06 - 2020-03-01 00:00:00\n",
      "2020-11-01 16:48:21,052 - simulator - INFO - Info for rank 0, Date = 2020-03-01 00:00:00, number of deaths =  0, number of infected = 488\n",
      "2020-11-01 16:48:21,306 - simulator - INFO - CMS: Infection COMS-v2 for rank 0/1(2) 0.0001253569935215637,0.00012493133544921875 - 2020-03-01 00:00:00\n",
      "2020-11-01 16:48:21,421 - simulator - INFO - CMS: Timestep for rank 0/1 - 0.9192704309971305, 0.9192705154418945 - 2020-03-01 00:00:00\n",
      "\n",
      "2020-11-01 16:48:21,422 - simulator - INFO - ==================== timestep ====================\n",
      "2020-11-01 16:48:21,829 - activity_manager - INFO - CMS: People COMS for rank 0/1 - 4.538000212050974e-06,4.0531158447265625e-06 - 2020-03-01 04:00:00\n",
      "2020-11-01 16:48:21,835 - simulator - INFO - Info for rank 0, Date = 2020-03-01 04:00:00, number of deaths =  0, number of infected = 515\n",
      "2020-11-01 16:48:22,060 - simulator - INFO - CMS: Infection COMS-v2 for rank 0/1(2) 0.00013059099728707224,0.00013017654418945312 - 2020-03-01 04:00:00\n",
      "2020-11-01 16:48:22,193 - simulator - INFO - CMS: Timestep for rank 0/1 - 0.7704035839997232, 0.7704043388366699 - 2020-03-01 04:00:00\n",
      "\n",
      "2020-11-01 16:48:22,194 - simulator - INFO - ==================== timestep ====================\n",
      "2020-11-01 16:48:22,790 - activity_manager - INFO - CMS: People COMS for rank 0/1 - 3.421009751036763e-06,3.0994415283203125e-06 - 2020-03-01 08:00:00\n",
      "2020-11-01 16:48:22,796 - simulator - INFO - Info for rank 0, Date = 2020-03-01 08:00:00, number of deaths =  0, number of infected = 517\n",
      "2020-11-01 16:48:23,025 - simulator - INFO - CMS: Infection COMS-v2 for rank 0/1(2) 0.0001417760067852214,0.00014138221740722656 - 2020-03-01 08:00:00\n",
      "2020-11-01 16:48:23,135 - simulator - INFO - CMS: Timestep for rank 0/1 - 0.9394930019916501, 0.9394934177398682 - 2020-03-01 08:00:00\n",
      "\n",
      "2020-11-01 16:48:23,136 - simulator - INFO - ==================== timestep ====================\n",
      "2020-11-01 16:48:23,383 - activity_manager - INFO - CMS: People COMS for rank 0/1 - 2.5761008146218956e-05,2.1457672119140625e-05 - 2020-03-01 12:00:00\n",
      "2020-11-01 16:48:23,396 - simulator - INFO - Info for rank 0, Date = 2020-03-01 12:00:00, number of deaths =  0, number of infected = 517\n",
      "2020-11-01 16:48:23,691 - simulator - INFO - CMS: Infection COMS-v2 for rank 0/1(2) 0.00013286899775266647,0.0001323223114013672 - 2020-03-01 12:00:00\n",
      "2020-11-01 16:48:23,810 - simulator - INFO - CMS: Timestep for rank 0/1 - 0.6735476320027374, 0.6735479831695557 - 2020-03-01 12:00:00\n",
      "\n",
      "2020-11-01 16:48:23,811 - simulator - INFO - ==================== timestep ====================\n",
      "2020-11-01 16:48:24,043 - activity_manager - INFO - CMS: People COMS for rank 0/1 - 5.380003130994737e-06,4.5299530029296875e-06 - 2020-03-02 00:00:00\n",
      "2020-11-01 16:48:24,048 - simulator - INFO - Info for rank 0, Date = 2020-03-02 00:00:00, number of deaths =  0, number of infected = 518\n",
      "2020-11-01 16:48:24,252 - simulator - INFO - CMS: Infection COMS-v2 for rank 0/1(2) 0.0001810910034691915,0.0001804828643798828 - 2020-03-02 00:00:00\n",
      "2020-11-01 16:48:24,370 - simulator - INFO - CMS: Timestep for rank 0/1 - 0.5577803060004953, 0.5577809810638428 - 2020-03-02 00:00:00\n",
      "\n",
      "2020-11-01 16:48:24,370 - simulator - INFO - ==================== timestep ====================\n",
      "2020-11-01 16:48:24,677 - activity_manager - INFO - CMS: People COMS for rank 0/1 - 3.890992957167327e-06,3.5762786865234375e-06 - 2020-03-02 01:00:00\n",
      "2020-11-01 16:48:24,683 - simulator - INFO - Info for rank 0, Date = 2020-03-02 01:00:00, number of deaths =  0, number of infected = 520\n",
      "2020-11-01 16:48:25,065 - simulator - INFO - CMS: Infection COMS-v2 for rank 0/1(2) 0.0001371730031678453,0.00013685226440429688 - 2020-03-02 01:00:00\n",
      "2020-11-01 16:48:25,219 - simulator - INFO - CMS: Timestep for rank 0/1 - 0.8477566170040518, 0.8477587699890137 - 2020-03-02 01:00:00\n",
      "\n",
      "2020-11-01 16:48:25,220 - simulator - INFO - ==================== timestep ====================\n",
      "2020-11-01 16:48:25,567 - activity_manager - INFO - CMS: People COMS for rank 0/1 - 4.76899731438607e-06,4.291534423828125e-06 - 2020-03-02 09:00:00\n",
      "2020-11-01 16:48:25,573 - simulator - INFO - Info for rank 0, Date = 2020-03-02 09:00:00, number of deaths =  0, number of infected = 536\n",
      "2020-11-01 16:48:25,819 - simulator - INFO - CMS: Infection COMS-v2 for rank 0/1(2) 0.00019664100545924157,0.00019598007202148438 - 2020-03-02 09:00:00\n",
      "2020-11-01 16:48:26,008 - simulator - INFO - CMS: Timestep for rank 0/1 - 0.7825530300033279, 0.7825527191162109 - 2020-03-02 09:00:00\n",
      "\n",
      "2020-11-01 16:48:26,014 - simulator - INFO - ==================== timestep ====================\n",
      "2020-11-01 16:48:26,568 - activity_manager - INFO - CMS: People COMS for rank 0/1 - 4.56201087217778e-06,4.0531158447265625e-06 - 2020-03-02 10:00:00\n",
      "2020-11-01 16:48:26,584 - simulator - INFO - Info for rank 0, Date = 2020-03-02 10:00:00, number of deaths =  0, number of infected = 536\n",
      "2020-11-01 16:48:26,968 - simulator - INFO - CMS: Infection COMS-v2 for rank 0/1(2) 0.00021321400708984584,0.0002129077911376953 - 2020-03-02 10:00:00\n",
      "2020-11-01 16:48:27,175 - simulator - INFO - CMS: Timestep for rank 0/1 - 1.1570363489881856, 1.1570372581481934 - 2020-03-02 10:00:00\n",
      "\n",
      "2020-11-01 16:48:27,176 - simulator - INFO - ==================== timestep ====================\n",
      "2020-11-01 16:48:27,488 - activity_manager - INFO - CMS: People COMS for rank 0/1 - 5.068010068498552e-06,4.291534423828125e-06 - 2020-03-02 13:00:00\n",
      "2020-11-01 16:48:27,494 - simulator - INFO - Info for rank 0, Date = 2020-03-02 13:00:00, number of deaths =  0, number of infected = 540\n",
      "2020-11-01 16:48:27,732 - simulator - INFO - CMS: Infection COMS-v2 for rank 0/1(2) 0.000984074009465985,0.000985860824584961 - 2020-03-02 13:00:00\n",
      "2020-11-01 16:48:27,934 - simulator - INFO - CMS: Timestep for rank 0/1 - 0.7564576129952911, 0.7564585208892822 - 2020-03-02 13:00:00\n",
      "\n",
      "2020-11-01 16:48:27,935 - simulator - INFO - ==================== timestep ====================\n",
      "2020-11-01 16:48:28,389 - activity_manager - INFO - CMS: People COMS for rank 0/1 - 3.692010068334639e-06,3.337860107421875e-06 - 2020-03-03 00:00:00\n",
      "2020-11-01 16:48:28,396 - simulator - INFO - Info for rank 0, Date = 2020-03-03 00:00:00, number of deaths =  0, number of infected = 543\n",
      "2020-11-01 16:48:28,695 - simulator - INFO - CMS: Infection COMS-v2 for rank 0/1(2) 0.0001271419896511361,0.00012683868408203125 - 2020-03-03 00:00:00\n",
      "2020-11-01 16:48:28,858 - simulator - INFO - CMS: Timestep for rank 0/1 - 0.9202359210030409, 0.9202377796173096 - 2020-03-03 00:00:00\n",
      "\n",
      "2020-11-01 16:48:28,859 - simulator - INFO - ==================== timestep ====================\n",
      "2020-11-01 16:48:29,190 - activity_manager - INFO - CMS: People COMS for rank 0/1 - 4.945002729073167e-06,4.0531158447265625e-06 - 2020-03-03 01:00:00\n",
      "2020-11-01 16:48:29,195 - simulator - INFO - Info for rank 0, Date = 2020-03-03 01:00:00, number of deaths =  0, number of infected = 544\n",
      "2020-11-01 16:48:29,561 - simulator - INFO - CMS: Infection COMS-v2 for rank 0/1(2) 0.00013050599955022335,0.00013017654418945312 - 2020-03-03 01:00:00\n",
      "2020-11-01 16:48:29,726 - simulator - INFO - CMS: Timestep for rank 0/1 - 0.8663441950047854, 0.8663420677185059 - 2020-03-03 01:00:00\n",
      "\n",
      "2020-11-01 16:48:29,727 - simulator - INFO - ==================== timestep ====================\n",
      "2020-11-01 16:48:30,016 - activity_manager - INFO - CMS: People COMS for rank 0/1 - 5.78700564801693e-06,4.76837158203125e-06 - 2020-03-03 09:00:00\n",
      "2020-11-01 16:48:30,023 - simulator - INFO - Info for rank 0, Date = 2020-03-03 09:00:00, number of deaths =  0, number of infected = 581\n",
      "2020-11-01 16:48:30,353 - simulator - INFO - CMS: Infection COMS-v2 for rank 0/1(2) 0.00012734299525618553,0.0001266002655029297 - 2020-03-03 09:00:00\n",
      "2020-11-01 16:48:30,487 - simulator - INFO - CMS: Timestep for rank 0/1 - 0.7588240830082214, 0.7588248252868652 - 2020-03-03 09:00:00\n",
      "\n",
      "2020-11-01 16:48:30,487 - simulator - INFO - ==================== timestep ====================\n"
     ]
    },
    {
     "name": "stdout",
     "output_type": "stream",
     "text": [
      "2020-11-01 16:48:31,209 - activity_manager - INFO - CMS: People COMS for rank 0/1 - 4.150002496317029e-06,3.814697265625e-06 - 2020-03-03 10:00:00\n",
      "2020-11-01 16:48:31,215 - simulator - INFO - Info for rank 0, Date = 2020-03-03 10:00:00, number of deaths =  0, number of infected = 584\n",
      "2020-11-01 16:48:31,491 - simulator - INFO - CMS: Infection COMS-v2 for rank 0/1(2) 0.00025388300127815455,0.0002536773681640625 - 2020-03-03 10:00:00\n",
      "2020-11-01 16:48:31,638 - simulator - INFO - CMS: Timestep for rank 0/1 - 1.1497294830041938, 1.1497325897216797 - 2020-03-03 10:00:00\n",
      "\n",
      "2020-11-01 16:48:31,639 - simulator - INFO - ==================== timestep ====================\n",
      "2020-11-01 16:48:31,891 - activity_manager - INFO - CMS: People COMS for rank 0/1 - 8.107002940960228e-06,7.62939453125e-06 - 2020-03-03 13:00:00\n",
      "2020-11-01 16:48:31,900 - simulator - INFO - Info for rank 0, Date = 2020-03-03 13:00:00, number of deaths =  0, number of infected = 590\n",
      "2020-11-01 16:48:32,131 - simulator - INFO - CMS: Infection COMS-v2 for rank 0/1(2) 0.0001343000039923936,0.000133514404296875 - 2020-03-03 13:00:00\n",
      "2020-11-01 16:48:32,301 - simulator - INFO - CMS: Timestep for rank 0/1 - 0.6613634370005457, 0.6613640785217285 - 2020-03-03 13:00:00\n",
      "\n",
      "2020-11-01 16:48:32,302 - simulator - INFO - ==================== timestep ====================\n",
      "2020-11-01 16:48:32,566 - activity_manager - INFO - CMS: People COMS for rank 0/1 - 6.767004379071295e-06,5.9604644775390625e-06 - 2020-03-04 00:00:00\n",
      "2020-11-01 16:48:32,580 - simulator - INFO - Info for rank 0, Date = 2020-03-04 00:00:00, number of deaths =  0, number of infected = 603\n",
      "2020-11-01 16:48:32,820 - simulator - INFO - CMS: Infection COMS-v2 for rank 0/1(2) 0.00014536100206896663,0.00014519691467285156 - 2020-03-04 00:00:00\n",
      "2020-11-01 16:48:32,943 - simulator - INFO - CMS: Timestep for rank 0/1 - 0.6397596760070883, 0.6397602558135986 - 2020-03-04 00:00:00\n",
      "\n",
      "2020-11-01 16:48:32,943 - simulator - INFO - ==================== timestep ====================\n",
      "2020-11-01 16:48:33,257 - activity_manager - INFO - CMS: People COMS for rank 0/1 - 9.216993930749595e-06,8.106231689453125e-06 - 2020-03-04 01:00:00\n",
      "2020-11-01 16:48:33,269 - simulator - INFO - Info for rank 0, Date = 2020-03-04 01:00:00, number of deaths =  0, number of infected = 603\n",
      "2020-11-01 16:48:33,577 - simulator - INFO - CMS: Infection COMS-v2 for rank 0/1(2) 0.00012378700193949044,0.0001232624053955078 - 2020-03-04 01:00:00\n",
      "2020-11-01 16:48:33,697 - simulator - INFO - CMS: Timestep for rank 0/1 - 0.7532937780051725, 0.7532944679260254 - 2020-03-04 01:00:00\n",
      "\n",
      "2020-11-01 16:48:33,698 - simulator - INFO - ==================== timestep ====================\n",
      "2020-11-01 16:48:33,948 - activity_manager - INFO - CMS: People COMS for rank 0/1 - 3.553999704308808e-06,3.5762786865234375e-06 - 2020-03-04 09:00:00\n",
      "2020-11-01 16:48:33,955 - simulator - INFO - Info for rank 0, Date = 2020-03-04 09:00:00, number of deaths =  0, number of infected = 741\n",
      "2020-11-01 16:48:34,143 - simulator - INFO - CMS: Infection COMS-v2 for rank 0/1(2) 0.00012862500443588942,0.00012826919555664062 - 2020-03-04 09:00:00\n",
      "2020-11-01 16:48:34,307 - simulator - INFO - CMS: Timestep for rank 0/1 - 0.6084342399990419, 0.6084356307983398 - 2020-03-04 09:00:00\n",
      "\n",
      "2020-11-01 16:48:34,308 - simulator - INFO - ==================== timestep ====================\n",
      "2020-11-01 16:48:34,958 - activity_manager - INFO - CMS: People COMS for rank 0/1 - 4.298010026104748e-06,3.814697265625e-06 - 2020-03-04 10:00:00\n",
      "2020-11-01 16:48:34,964 - simulator - INFO - Info for rank 0, Date = 2020-03-04 10:00:00, number of deaths =  0, number of infected = 746\n",
      "2020-11-01 16:48:35,364 - simulator - INFO - CMS: Infection COMS-v2 for rank 0/1(2) 0.0001361640024697408,0.0001361370086669922 - 2020-03-04 10:00:00\n",
      "2020-11-01 16:48:35,499 - simulator - INFO - CMS: Timestep for rank 0/1 - 1.189828018003027, 1.189828872680664 - 2020-03-04 10:00:00\n",
      "\n",
      "2020-11-01 16:48:35,500 - simulator - INFO - ==================== timestep ====================\n",
      "2020-11-01 16:48:35,690 - activity_manager - INFO - CMS: People COMS for rank 0/1 - 4.972011083737016e-06,4.76837158203125e-06 - 2020-03-04 13:00:00\n",
      "2020-11-01 16:48:35,696 - simulator - INFO - Info for rank 0, Date = 2020-03-04 13:00:00, number of deaths =  0, number of infected = 759\n",
      "2020-11-01 16:48:35,927 - simulator - INFO - CMS: Infection COMS-v2 for rank 0/1(2) 0.0002738780021900311,0.0002579689025878906 - 2020-03-04 13:00:00\n",
      "2020-11-01 16:48:36,094 - simulator - INFO - CMS: Timestep for rank 0/1 - 0.5934388199966634, 0.5934391021728516 - 2020-03-04 13:00:00\n",
      "\n",
      "2020-11-01 16:48:36,095 - simulator - INFO - ==================== timestep ====================\n",
      "2020-11-01 16:48:36,342 - activity_manager - INFO - CMS: People COMS for rank 0/1 - 4.939996870234609e-06,4.291534423828125e-06 - 2020-03-05 00:00:00\n",
      "2020-11-01 16:48:36,349 - simulator - INFO - Info for rank 0, Date = 2020-03-05 00:00:00, number of deaths =  0, number of infected = 785\n",
      "2020-11-01 16:48:36,567 - simulator - INFO - CMS: Infection COMS-v2 for rank 0/1(2) 0.0001252189977094531,0.0001246929168701172 - 2020-03-05 00:00:00\n",
      "2020-11-01 16:48:36,735 - simulator - INFO - CMS: Timestep for rank 0/1 - 0.6395634799991967, 0.639564037322998 - 2020-03-05 00:00:00\n",
      "\n",
      "2020-11-01 16:48:36,736 - simulator - INFO - ==================== timestep ====================\n",
      "2020-11-01 16:48:37,078 - activity_manager - INFO - CMS: People COMS for rank 0/1 - 3.744004061445594e-06,3.337860107421875e-06 - 2020-03-05 01:00:00\n",
      "2020-11-01 16:48:37,084 - simulator - INFO - Info for rank 0, Date = 2020-03-05 01:00:00, number of deaths =  0, number of infected = 795\n",
      "2020-11-01 16:48:37,989 - simulator - INFO - CMS: Infection COMS-v2 for rank 0/1(2) 0.00013061100617051125,0.0001304149627685547 - 2020-03-05 01:00:00\n",
      "2020-11-01 16:48:38,107 - simulator - INFO - CMS: Timestep for rank 0/1 - 1.3671924400114221, 1.3671927452087402 - 2020-03-05 01:00:00\n",
      "\n",
      "2020-11-01 16:48:38,108 - simulator - INFO - ==================== timestep ====================\n",
      "2020-11-01 16:48:38,352 - activity_manager - INFO - CMS: People COMS for rank 0/1 - 7.009002729319036e-06,5.9604644775390625e-06 - 2020-03-05 09:00:00\n",
      "2020-11-01 16:48:38,361 - simulator - INFO - Info for rank 0, Date = 2020-03-05 09:00:00, number of deaths =  0, number of infected = 931\n",
      "2020-11-01 16:48:38,664 - simulator - INFO - CMS: Infection COMS-v2 for rank 0/1(2) 0.00014046099386177957,0.0001399517059326172 - 2020-03-05 09:00:00\n",
      "2020-11-01 16:48:38,809 - simulator - INFO - CMS: Timestep for rank 0/1 - 0.7013708620070247, 0.7013726234436035 - 2020-03-05 09:00:00\n",
      "\n",
      "2020-11-01 16:48:38,812 - simulator - INFO - ==================== timestep ====================\n",
      "2020-11-01 16:48:39,361 - activity_manager - INFO - CMS: People COMS for rank 0/1 - 5.128997145220637e-06,4.5299530029296875e-06 - 2020-03-05 10:00:00\n",
      "2020-11-01 16:48:39,369 - simulator - INFO - Info for rank 0, Date = 2020-03-05 10:00:00, number of deaths =  0, number of infected = 938\n",
      "2020-11-01 16:48:39,647 - simulator - INFO - CMS: Infection COMS-v2 for rank 0/1(2) 0.00014217299758456647,0.0001418590545654297 - 2020-03-05 10:00:00\n",
      "2020-11-01 16:48:39,793 - simulator - INFO - CMS: Timestep for rank 0/1 - 0.9708456529915566, 0.97084641456604 - 2020-03-05 10:00:00\n",
      "\n",
      "2020-11-01 16:48:39,794 - simulator - INFO - ==================== timestep ====================\n",
      "2020-11-01 16:48:40,005 - activity_manager - INFO - CMS: People COMS for rank 0/1 - 9.25500353332609e-06,8.58306884765625e-06 - 2020-03-05 13:00:00\n",
      "2020-11-01 16:48:40,011 - simulator - INFO - Info for rank 0, Date = 2020-03-05 13:00:00, number of deaths =  0, number of infected = 963\n",
      "2020-11-01 16:48:40,276 - simulator - INFO - CMS: Infection COMS-v2 for rank 0/1(2) 0.00019211499602533877,0.00019121170043945312 - 2020-03-05 13:00:00\n",
      "2020-11-01 16:48:40,433 - simulator - INFO - CMS: Timestep for rank 0/1 - 0.6384604579943698, 0.6384615898132324 - 2020-03-05 13:00:00\n",
      "\n",
      "2020-11-01 16:48:40,433 - simulator - INFO - ==================== timestep ====================\n",
      "2020-11-01 16:48:40,692 - activity_manager - INFO - CMS: People COMS for rank 0/1 - 4.965986590832472e-06,4.0531158447265625e-06 - 2020-03-06 00:00:00\n",
      "2020-11-01 16:48:40,698 - simulator - INFO - Info for rank 0, Date = 2020-03-06 00:00:00, number of deaths =  0, number of infected = 1005\n"
     ]
    },
    {
     "name": "stdout",
     "output_type": "stream",
     "text": [
      "2020-11-01 16:48:40,916 - simulator - INFO - CMS: Infection COMS-v2 for rank 0/1(2) 0.0001357160072075203,0.00013494491577148438 - 2020-03-06 00:00:00\n",
      "2020-11-01 16:48:41,051 - simulator - INFO - CMS: Timestep for rank 0/1 - 0.6172755859879544, 0.6172771453857422 - 2020-03-06 00:00:00\n",
      "\n",
      "2020-11-01 16:48:41,053 - simulator - INFO - ==================== timestep ====================\n",
      "2020-11-01 16:48:41,367 - activity_manager - INFO - CMS: People COMS for rank 0/1 - 5.3440016927197576e-06,4.5299530029296875e-06 - 2020-03-06 01:00:00\n",
      "2020-11-01 16:48:41,374 - simulator - INFO - Info for rank 0, Date = 2020-03-06 01:00:00, number of deaths =  0, number of infected = 1019\n",
      "2020-11-01 16:48:41,739 - simulator - INFO - CMS: Infection COMS-v2 for rank 0/1(2) 0.0003870069922413677,0.00039076805114746094 - 2020-03-06 01:00:00\n",
      "2020-11-01 16:48:41,898 - simulator - INFO - CMS: Timestep for rank 0/1 - 0.8417852989950916, 0.8417859077453613 - 2020-03-06 01:00:00\n",
      "\n",
      "2020-11-01 16:48:41,899 - simulator - INFO - ==================== timestep ====================\n",
      "2020-11-01 16:48:42,179 - activity_manager - INFO - CMS: People COMS for rank 0/1 - 1.5133002307265997e-05,1.2159347534179688e-05 - 2020-03-06 09:00:00\n",
      "2020-11-01 16:48:42,190 - simulator - INFO - Info for rank 0, Date = 2020-03-06 09:00:00, number of deaths =  0, number of infected = 1216\n",
      "2020-11-01 16:48:42,562 - simulator - INFO - CMS: Infection COMS-v2 for rank 0/1(2) 0.00020645599579438567,0.00020623207092285156 - 2020-03-06 09:00:00\n",
      "2020-11-01 16:48:42,772 - simulator - INFO - CMS: Timestep for rank 0/1 - 0.8720998539938591, 0.8721005916595459 - 2020-03-06 09:00:00\n",
      "\n",
      "2020-11-01 16:48:42,773 - simulator - INFO - ==================== timestep ====================\n",
      "2020-11-01 16:48:43,537 - activity_manager - INFO - CMS: People COMS for rank 0/1 - 7.166003342717886e-06,5.9604644775390625e-06 - 2020-03-06 10:00:00\n",
      "2020-11-01 16:48:43,565 - simulator - INFO - Info for rank 0, Date = 2020-03-06 10:00:00, number of deaths =  0, number of infected = 1229\n",
      "2020-11-01 16:48:43,938 - simulator - INFO - CMS: Infection COMS-v2 for rank 0/1(2) 0.0002370790025452152,0.00023674964904785156 - 2020-03-06 10:00:00\n",
      "2020-11-01 16:48:44,145 - simulator - INFO - CMS: Timestep for rank 0/1 - 1.3707906650088262, 1.370790958404541 - 2020-03-06 10:00:00\n",
      "\n",
      "2020-11-01 16:48:44,146 - simulator - INFO - ==================== timestep ====================\n",
      "2020-11-01 16:48:44,324 - activity_manager - INFO - CMS: People COMS for rank 0/1 - 6.050002411939204e-06,5.245208740234375e-06 - 2020-03-06 13:00:00\n",
      "2020-11-01 16:48:44,330 - simulator - INFO - Info for rank 0, Date = 2020-03-06 13:00:00, number of deaths =  0, number of infected = 1264\n",
      "2020-11-01 16:48:44,626 - simulator - INFO - CMS: Infection COMS-v2 for rank 0/1(2) 0.00023048299772199243,0.0002300739288330078 - 2020-03-06 13:00:00\n",
      "2020-11-01 16:48:44,809 - simulator - INFO - CMS: Timestep for rank 0/1 - 0.6617074020032305, 0.6617090702056885 - 2020-03-06 13:00:00\n",
      "\n",
      "2020-11-01 16:48:44,810 - simulator - INFO - ==================== timestep ====================\n",
      "2020-11-01 16:48:45,467 - activity_manager - INFO - CMS: People COMS for rank 0/1 - 4.674002411775291e-06,4.0531158447265625e-06 - 2020-03-07 00:00:00\n",
      "2020-11-01 16:48:45,476 - simulator - INFO - Info for rank 0, Date = 2020-03-07 00:00:00, number of deaths =  0, number of infected = 1316\n",
      "2020-11-01 16:48:45,884 - simulator - INFO - CMS: Infection COMS-v2 for rank 0/1(2) 0.00017033200128935277,0.00016999244689941406 - 2020-03-07 00:00:00\n",
      "2020-11-01 16:48:46,055 - simulator - INFO - CMS: Timestep for rank 0/1 - 1.2420264190004673, 1.2420275211334229 - 2020-03-07 00:00:00\n",
      "\n",
      "2020-11-01 16:48:46,058 - simulator - INFO - ==================== timestep ====================\n",
      "2020-11-01 16:48:46,592 - activity_manager - INFO - CMS: People COMS for rank 0/1 - 3.76399839296937e-06,3.0994415283203125e-06 - 2020-03-07 04:00:00\n",
      "2020-11-01 16:48:46,599 - simulator - INFO - Info for rank 0, Date = 2020-03-07 04:00:00, number of deaths =  0, number of infected = 1354\n",
      "2020-11-01 16:48:46,894 - simulator - INFO - CMS: Infection COMS-v2 for rank 0/1(2) 0.00013143599790055305,0.0001308917999267578 - 2020-03-07 04:00:00\n",
      "2020-11-01 16:48:47,098 - simulator - INFO - CMS: Timestep for rank 0/1 - 1.037729791001766, 1.037729024887085 - 2020-03-07 04:00:00\n",
      "\n",
      "2020-11-01 16:48:47,098 - simulator - INFO - ==================== timestep ====================\n",
      "2020-11-01 16:48:47,547 - activity_manager - INFO - CMS: People COMS for rank 0/1 - 4.099987563677132e-06,3.337860107421875e-06 - 2020-03-07 08:00:00\n",
      "2020-11-01 16:48:47,554 - simulator - INFO - Info for rank 0, Date = 2020-03-07 08:00:00, number of deaths =  0, number of infected = 1416\n",
      "2020-11-01 16:48:47,805 - simulator - INFO - CMS: Infection COMS-v2 for rank 0/1(2) 0.00012145799701102078,0.00012087821960449219 - 2020-03-07 08:00:00\n",
      "2020-11-01 16:48:47,929 - simulator - INFO - CMS: Timestep for rank 0/1 - 0.82611955399625, 0.8261196613311768 - 2020-03-07 08:00:00\n",
      "\n",
      "2020-11-01 16:48:47,930 - simulator - INFO - ==================== timestep ====================\n",
      "2020-11-01 16:48:48,102 - activity_manager - INFO - CMS: People COMS for rank 0/1 - 5.096997483633459e-06,4.5299530029296875e-06 - 2020-03-07 12:00:00\n",
      "2020-11-01 16:48:48,107 - simulator - INFO - Info for rank 0, Date = 2020-03-07 12:00:00, number of deaths =  0, number of infected = 1486\n",
      "2020-11-01 16:48:48,334 - simulator - INFO - CMS: Infection COMS-v2 for rank 0/1(2) 0.0002701170014915988,0.00026988983154296875 - 2020-03-07 12:00:00\n",
      "2020-11-01 16:48:48,531 - simulator - INFO - CMS: Timestep for rank 0/1 - 0.6005450590018881, 0.6005501747131348 - 2020-03-07 12:00:00\n",
      "\n",
      "2020-11-01 16:48:48,532 - simulator - INFO - ==================== timestep ====================\n",
      "2020-11-01 16:48:49,028 - activity_manager - INFO - CMS: People COMS for rank 0/1 - 3.749999450519681e-06,3.0994415283203125e-06 - 2020-03-08 00:00:00\n",
      "2020-11-01 16:48:49,034 - simulator - INFO - Info for rank 0, Date = 2020-03-08 00:00:00, number of deaths =  0, number of infected = 1565\n",
      "2020-11-01 16:48:49,310 - simulator - INFO - CMS: Infection COMS-v2 for rank 0/1(2) 0.00014919799286872149,0.000148773193359375 - 2020-03-08 00:00:00\n",
      "2020-11-01 16:48:49,436 - simulator - INFO - CMS: Timestep for rank 0/1 - 0.9034436350048054, 0.9034440517425537 - 2020-03-08 00:00:00\n",
      "\n",
      "2020-11-01 16:48:49,437 - simulator - INFO - ==================== timestep ====================\n",
      "2020-11-01 16:48:49,903 - activity_manager - INFO - CMS: People COMS for rank 0/1 - 4.85898635815829e-06,4.291534423828125e-06 - 2020-03-08 04:00:00\n",
      "2020-11-01 16:48:49,909 - simulator - INFO - Info for rank 0, Date = 2020-03-08 04:00:00, number of deaths =  0, number of infected = 1626\n",
      "2020-11-01 16:48:50,212 - simulator - INFO - CMS: Infection COMS-v2 for rank 0/1(2) 0.00012855100794695318,0.00012826919555664062 - 2020-03-08 04:00:00\n",
      "2020-11-01 16:48:50,359 - simulator - INFO - CMS: Timestep for rank 0/1 - 0.9214884999964852, 0.9214890003204346 - 2020-03-08 04:00:00\n",
      "\n",
      "2020-11-01 16:48:50,360 - simulator - INFO - ==================== timestep ====================\n",
      "2020-11-01 16:48:50,894 - activity_manager - INFO - CMS: People COMS for rank 0/1 - 4.058005288243294e-06,3.0994415283203125e-06 - 2020-03-08 08:00:00\n",
      "2020-11-01 16:48:50,900 - simulator - INFO - Info for rank 0, Date = 2020-03-08 08:00:00, number of deaths =  0, number of infected = 1701\n",
      "2020-11-01 16:48:51,240 - simulator - INFO - CMS: Infection COMS-v2 for rank 0/1(2) 0.0001269430067623034,0.0001266002655029297 - 2020-03-08 08:00:00\n",
      "2020-11-01 16:48:51,378 - simulator - INFO - CMS: Timestep for rank 0/1 - 1.0176271310047014, 1.017627239227295 - 2020-03-08 08:00:00\n",
      "\n",
      "2020-11-01 16:48:51,379 - simulator - INFO - ==================== timestep ====================\n",
      "2020-11-01 16:48:51,579 - activity_manager - INFO - CMS: People COMS for rank 0/1 - 5.149995558895171e-06,4.76837158203125e-06 - 2020-03-08 12:00:00\n",
      "2020-11-01 16:48:51,584 - simulator - INFO - Info for rank 0, Date = 2020-03-08 12:00:00, number of deaths =  0, number of infected = 1794\n",
      "2020-11-01 16:48:51,882 - simulator - INFO - CMS: Infection COMS-v2 for rank 0/1(2) 0.00015704400721006095,0.00015687942504882812 - 2020-03-08 12:00:00\n"
     ]
    },
    {
     "name": "stdout",
     "output_type": "stream",
     "text": [
      "2020-11-01 16:48:52,042 - simulator - INFO - CMS: Timestep for rank 0/1 - 0.6618557080073515, 0.6618564128875732 - 2020-03-08 12:00:00\n",
      "\n",
      "2020-11-01 16:48:52,042 - simulator - INFO - ==================== timestep ====================\n",
      "2020-11-01 16:48:52,305 - activity_manager - INFO - CMS: People COMS for rank 0/1 - 6.540009053424001e-06,5.7220458984375e-06 - 2020-03-09 00:00:00\n",
      "2020-11-01 16:48:52,317 - simulator - INFO - Info for rank 0, Date = 2020-03-09 00:00:00, number of deaths =  0, number of infected = 1887\n",
      "2020-11-01 16:48:52,565 - simulator - INFO - CMS: Infection COMS-v2 for rank 0/1(2) 0.00017142300202976912,0.00017070770263671875 - 2020-03-09 00:00:00\n",
      "2020-11-01 16:48:52,744 - simulator - INFO - CMS: Timestep for rank 0/1 - 0.701261402995442, 0.7012619972229004 - 2020-03-09 00:00:00\n",
      "\n",
      "2020-11-01 16:48:52,745 - simulator - INFO - ==================== timestep ====================\n",
      "2020-11-01 16:48:53,103 - activity_manager - INFO - CMS: People COMS for rank 0/1 - 6.517002475447953e-06,5.4836273193359375e-06 - 2020-03-09 01:00:00\n",
      "2020-11-01 16:48:53,111 - simulator - INFO - Info for rank 0, Date = 2020-03-09 01:00:00, number of deaths =  0, number of infected = 1930\n",
      "2020-11-01 16:48:54,026 - simulator - INFO - CMS: Infection COMS-v2 for rank 0/1(2) 0.00012556600267998874,0.0001251697540283203 - 2020-03-09 01:00:00\n",
      "2020-11-01 16:48:54,175 - simulator - INFO - CMS: Timestep for rank 0/1 - 1.4289927969948621, 1.4289932250976562 - 2020-03-09 01:00:00\n",
      "\n",
      "2020-11-01 16:48:54,176 - simulator - INFO - ==================== timestep ====================\n",
      "2020-11-01 16:48:54,444 - activity_manager - INFO - CMS: People COMS for rank 0/1 - 4.696004907600582e-06,4.0531158447265625e-06 - 2020-03-09 09:00:00\n",
      "2020-11-01 16:48:54,450 - simulator - INFO - Info for rank 0, Date = 2020-03-09 09:00:00, number of deaths =  0, number of infected = 2459\n",
      "2020-11-01 16:48:54,778 - simulator - INFO - CMS: Infection COMS-v2 for rank 0/1(2) 0.00012442500155884773,0.00012421607971191406 - 2020-03-09 09:00:00\n",
      "2020-11-01 16:48:54,928 - simulator - INFO - CMS: Timestep for rank 0/1 - 0.7511039319942938, 0.7511048316955566 - 2020-03-09 09:00:00\n",
      "\n",
      "2020-11-01 16:48:54,928 - simulator - INFO - ==================== timestep ====================\n",
      "2020-11-01 16:48:55,755 - activity_manager - INFO - CMS: People COMS for rank 0/1 - 4.227011231705546e-06,3.5762786865234375e-06 - 2020-03-09 10:00:00\n",
      "2020-11-01 16:48:55,768 - simulator - INFO - Info for rank 0, Date = 2020-03-09 10:00:00, number of deaths =  0, number of infected = 2511\n",
      "2020-11-01 16:48:56,193 - simulator - INFO - CMS: Infection COMS-v2 for rank 0/1(2) 0.00019594701007008553,0.00019598007202148438 - 2020-03-09 10:00:00\n",
      "2020-11-01 16:48:56,374 - simulator - INFO - CMS: Timestep for rank 0/1 - 1.444801367004402, 1.4448020458221436 - 2020-03-09 10:00:00\n",
      "\n",
      "2020-11-01 16:48:56,376 - simulator - INFO - ==================== timestep ====================\n",
      "2020-11-01 16:48:56,657 - activity_manager - INFO - CMS: People COMS for rank 0/1 - 7.565002306364477e-06,6.4373016357421875e-06 - 2020-03-09 13:00:00\n",
      "2020-11-01 16:48:56,667 - simulator - INFO - Info for rank 0, Date = 2020-03-09 13:00:00, number of deaths =  0, number of infected = 2595\n",
      "2020-11-01 16:48:57,077 - simulator - INFO - CMS: Infection COMS-v2 for rank 0/1(2) 0.00017833500169217587,0.0001780986785888672 - 2020-03-09 13:00:00\n",
      "2020-11-01 16:48:57,318 - simulator - INFO - CMS: Timestep for rank 0/1 - 0.9332748840097338, 0.9332747459411621 - 2020-03-09 13:00:00\n",
      "\n",
      "2020-11-01 16:48:57,319 - simulator - INFO - ==================== timestep ====================\n",
      "2020-11-01 16:48:57,713 - activity_manager - INFO - CMS: People COMS for rank 0/1 - 4.649002221412957e-06,3.814697265625e-06 - 2020-03-10 00:00:00\n",
      "2020-11-01 16:48:57,723 - simulator - INFO - Info for rank 0, Date = 2020-03-10 00:00:00, number of deaths =  0, number of infected = 2711\n",
      "2020-11-01 16:48:58,042 - simulator - INFO - CMS: Infection COMS-v2 for rank 0/1(2) 0.00013356099952943623,0.000133514404296875 - 2020-03-10 00:00:00\n",
      "2020-11-01 16:48:58,230 - simulator - INFO - CMS: Timestep for rank 0/1 - 0.9097337669954868, 0.9097344875335693 - 2020-03-10 00:00:00\n",
      "\n",
      "2020-11-01 16:48:58,235 - simulator - INFO - ==================== timestep ====================\n",
      "2020-11-01 16:48:58,681 - activity_manager - INFO - CMS: People COMS for rank 0/1 - 6.043002940714359e-06,5.7220458984375e-06 - 2020-03-10 01:00:00\n",
      "2020-11-01 16:48:58,692 - simulator - INFO - Info for rank 0, Date = 2020-03-10 01:00:00, number of deaths =  0, number of infected = 2764\n",
      "2020-11-01 16:48:59,462 - simulator - INFO - CMS: Infection COMS-v2 for rank 0/1(2) 0.00018461600120645016,0.0001842975616455078 - 2020-03-10 01:00:00\n",
      "2020-11-01 16:48:59,711 - simulator - INFO - CMS: Timestep for rank 0/1 - 1.468851073004771, 1.4688520431518555 - 2020-03-10 01:00:00\n",
      "\n",
      "2020-11-01 16:48:59,712 - simulator - INFO - ==================== timestep ====================\n",
      "2020-11-01 16:49:00,127 - activity_manager - INFO - CMS: People COMS for rank 0/1 - 7.0160022005438805e-06,5.4836273193359375e-06 - 2020-03-10 09:00:00\n",
      "2020-11-01 16:49:00,134 - simulator - INFO - Info for rank 0, Date = 2020-03-10 09:00:00, number of deaths =  0, number of infected = 3398\n",
      "2020-11-01 16:49:00,492 - simulator - INFO - CMS: Infection COMS-v2 for rank 0/1(2) 0.00015100400196388364,0.0001506805419921875 - 2020-03-10 09:00:00\n",
      "2020-11-01 16:49:00,668 - simulator - INFO - CMS: Timestep for rank 0/1 - 0.9548824069934199, 0.9548830986022949 - 2020-03-10 09:00:00\n",
      "\n",
      "2020-11-01 16:49:00,669 - simulator - INFO - ==================== timestep ====================\n",
      "2020-11-01 16:49:01,158 - activity_manager - INFO - CMS: People COMS for rank 0/1 - 3.936002030968666e-06,3.337860107421875e-06 - 2020-03-10 10:00:00\n",
      "2020-11-01 16:49:01,164 - simulator - INFO - Info for rank 0, Date = 2020-03-10 10:00:00, number of deaths =  0, number of infected = 3456\n",
      "2020-11-01 16:49:01,477 - simulator - INFO - CMS: Infection COMS-v2 for rank 0/1(2) 0.00014067799202166498,0.00014019012451171875 - 2020-03-10 10:00:00\n",
      "2020-11-01 16:49:01,623 - simulator - INFO - CMS: Timestep for rank 0/1 - 0.9533336489985231, 0.9533345699310303 - 2020-03-10 10:00:00\n",
      "\n",
      "2020-11-01 16:49:01,624 - simulator - INFO - ==================== timestep ====================\n",
      "2020-11-01 16:49:01,794 - activity_manager - INFO - CMS: People COMS for rank 0/1 - 6.652000593021512e-06,5.9604644775390625e-06 - 2020-03-10 13:00:00\n",
      "2020-11-01 16:49:01,800 - simulator - INFO - Info for rank 0, Date = 2020-03-10 13:00:00, number of deaths =  0, number of infected = 3563\n",
      "2020-11-01 16:49:02,028 - simulator - INFO - CMS: Infection COMS-v2 for rank 0/1(2) 0.0002008170122280717,0.00020051002502441406 - 2020-03-10 13:00:00\n",
      "2020-11-01 16:49:02,184 - simulator - INFO - CMS: Timestep for rank 0/1 - 0.5596173639933113, 0.5596177577972412 - 2020-03-10 13:00:00\n",
      "\n",
      "2020-11-01 16:49:02,185 - simulator - INFO - ==================== timestep ====================\n",
      "2020-11-01 16:49:02,412 - activity_manager - INFO - CMS: People COMS for rank 0/1 - 5.216003046371043e-06,4.5299530029296875e-06 - 2020-03-11 00:00:00\n",
      "2020-11-01 16:49:02,418 - simulator - INFO - Info for rank 0, Date = 2020-03-11 00:00:00, number of deaths =  1, number of infected = 3712\n",
      "2020-11-01 16:49:02,695 - simulator - INFO - CMS: Infection COMS-v2 for rank 0/1(2) 0.00013565600966103375,0.0001354217529296875 - 2020-03-11 00:00:00\n",
      "2020-11-01 16:49:02,846 - simulator - INFO - CMS: Timestep for rank 0/1 - 0.6605901279981481, 0.660590648651123 - 2020-03-11 00:00:00\n",
      "\n",
      "2020-11-01 16:49:02,847 - simulator - INFO - ==================== timestep ====================\n",
      "2020-11-01 16:49:03,124 - activity_manager - INFO - CMS: People COMS for rank 0/1 - 5.436988431029022e-06,4.76837158203125e-06 - 2020-03-11 01:00:00\n",
      "2020-11-01 16:49:03,131 - simulator - INFO - Info for rank 0, Date = 2020-03-11 01:00:00, number of deaths =  1, number of infected = 3772\n",
      "2020-11-01 16:49:03,640 - simulator - INFO - CMS: Infection COMS-v2 for rank 0/1(2) 0.00017550599295645952,0.00017523765563964844 - 2020-03-11 01:00:00\n",
      "2020-11-01 16:49:03,811 - simulator - INFO - CMS: Timestep for rank 0/1 - 0.963272530992981, 0.9632737636566162 - 2020-03-11 01:00:00\n",
      "\n"
     ]
    },
    {
     "name": "stdout",
     "output_type": "stream",
     "text": [
      "2020-11-01 16:49:03,812 - simulator - INFO - ==================== timestep ====================\n",
      "2020-11-01 16:49:04,089 - activity_manager - INFO - CMS: People COMS for rank 0/1 - 6.583999493159354e-06,5.7220458984375e-06 - 2020-03-11 09:00:00\n",
      "2020-11-01 16:49:04,095 - simulator - INFO - Info for rank 0, Date = 2020-03-11 09:00:00, number of deaths =  2, number of infected = 4577\n",
      "2020-11-01 16:49:04,634 - simulator - INFO - CMS: Infection COMS-v2 for rank 0/1(2) 0.0001393529964843765,0.00013899803161621094 - 2020-03-11 09:00:00\n",
      "2020-11-01 16:49:04,774 - simulator - INFO - CMS: Timestep for rank 0/1 - 0.9616012869955739, 0.961601972579956 - 2020-03-11 09:00:00\n",
      "\n",
      "2020-11-01 16:49:04,775 - simulator - INFO - ==================== timestep ====================\n",
      "2020-11-01 16:49:05,371 - activity_manager - INFO - CMS: People COMS for rank 0/1 - 4.956993507221341e-06,4.0531158447265625e-06 - 2020-03-11 10:00:00\n",
      "2020-11-01 16:49:05,377 - simulator - INFO - Info for rank 0, Date = 2020-03-11 10:00:00, number of deaths =  2, number of infected = 4660\n",
      "2020-11-01 16:49:05,639 - simulator - INFO - CMS: Infection COMS-v2 for rank 0/1(2) 0.00011574500240385532,0.00011515617370605469 - 2020-03-11 10:00:00\n",
      "2020-11-01 16:49:05,760 - simulator - INFO - CMS: Timestep for rank 0/1 - 0.9846169470110908, 0.9846172332763672 - 2020-03-11 10:00:00\n",
      "\n",
      "2020-11-01 16:49:05,761 - simulator - INFO - ==================== timestep ====================\n",
      "2020-11-01 16:49:05,907 - activity_manager - INFO - CMS: People COMS for rank 0/1 - 5.892012268304825e-06,5.0067901611328125e-06 - 2020-03-11 13:00:00\n",
      "2020-11-01 16:49:05,913 - simulator - INFO - Info for rank 0, Date = 2020-03-11 13:00:00, number of deaths =  2, number of infected = 4797\n",
      "2020-11-01 16:49:06,217 - simulator - INFO - CMS: Infection COMS-v2 for rank 0/1(2) 0.00012125699140597135,0.00012111663818359375 - 2020-03-11 13:00:00\n",
      "2020-11-01 16:49:06,340 - simulator - INFO - CMS: Timestep for rank 0/1 - 0.5785259929980384, 0.578526496887207 - 2020-03-11 13:00:00\n",
      "\n",
      "2020-11-01 16:49:06,341 - simulator - INFO - ==================== timestep ====================\n",
      "2020-11-01 16:49:06,527 - activity_manager - INFO - CMS: People COMS for rank 0/1 - 5.337002221494913e-06,4.76837158203125e-06 - 2020-03-12 00:00:00\n",
      "2020-11-01 16:49:06,533 - simulator - INFO - Info for rank 0, Date = 2020-03-12 00:00:00, number of deaths =  2, number of infected = 5019\n",
      "2020-11-01 16:49:06,800 - simulator - INFO - CMS: Infection COMS-v2 for rank 0/1(2) 0.0001720930013107136,0.00017189979553222656 - 2020-03-12 00:00:00\n",
      "2020-11-01 16:49:06,942 - simulator - INFO - CMS: Timestep for rank 0/1 - 0.6006187739985762, 0.6006197929382324 - 2020-03-12 00:00:00\n",
      "\n",
      "2020-11-01 16:49:06,943 - simulator - INFO - ==================== timestep ====================\n",
      "2020-11-01 16:49:07,183 - activity_manager - INFO - CMS: People COMS for rank 0/1 - 5.021007382310927e-06,4.5299530029296875e-06 - 2020-03-12 01:00:00\n",
      "2020-11-01 16:49:07,190 - simulator - INFO - Info for rank 0, Date = 2020-03-12 01:00:00, number of deaths =  2, number of infected = 5112\n",
      "2020-11-01 16:49:07,687 - simulator - INFO - CMS: Infection COMS-v2 for rank 0/1(2) 0.00012832399806939065,0.0001277923583984375 - 2020-03-12 01:00:00\n",
      "2020-11-01 16:49:07,926 - simulator - INFO - CMS: Timestep for rank 0/1 - 0.9827844569954323, 0.9827854633331299 - 2020-03-12 01:00:00\n",
      "\n",
      "2020-11-01 16:49:07,927 - simulator - INFO - ==================== timestep ====================\n",
      "2020-11-01 16:49:08,160 - activity_manager - INFO - CMS: People COMS for rank 0/1 - 5.222987965680659e-06,4.5299530029296875e-06 - 2020-03-12 09:00:00\n",
      "2020-11-01 16:49:08,166 - simulator - INFO - Info for rank 0, Date = 2020-03-12 09:00:00, number of deaths =  2, number of infected = 6161\n",
      "2020-11-01 16:49:08,413 - simulator - INFO - CMS: Infection COMS-v2 for rank 0/1(2) 0.00011743399954866618,0.00011730194091796875 - 2020-03-12 09:00:00\n",
      "2020-11-01 16:49:08,576 - simulator - INFO - CMS: Timestep for rank 0/1 - 0.6481375139992451, 0.6481378078460693 - 2020-03-12 09:00:00\n",
      "\n",
      "2020-11-01 16:49:08,577 - simulator - INFO - ==================== timestep ====================\n",
      "2020-11-01 16:49:09,127 - activity_manager - INFO - CMS: People COMS for rank 0/1 - 4.746994818560779e-06,4.291534423828125e-06 - 2020-03-12 10:00:00\n",
      "2020-11-01 16:49:09,140 - simulator - INFO - Info for rank 0, Date = 2020-03-12 10:00:00, number of deaths =  2, number of infected = 6274\n",
      "2020-11-01 16:49:09,450 - simulator - INFO - CMS: Infection COMS-v2 for rank 0/1(2) 0.00012526199861895293,0.0001251697540283203 - 2020-03-12 10:00:00\n",
      "2020-11-01 16:49:09,629 - simulator - INFO - CMS: Timestep for rank 0/1 - 1.0516968849988189, 1.0516977310180664 - 2020-03-12 10:00:00\n",
      "\n",
      "2020-11-01 16:49:09,630 - simulator - INFO - ==================== timestep ====================\n",
      "2020-11-01 16:49:09,798 - activity_manager - INFO - CMS: People COMS for rank 0/1 - 6.160989869385958e-06,5.7220458984375e-06 - 2020-03-12 13:00:00\n",
      "2020-11-01 16:49:09,804 - simulator - INFO - Info for rank 0, Date = 2020-03-12 13:00:00, number of deaths =  2, number of infected = 6463\n",
      "2020-11-01 16:49:10,080 - simulator - INFO - CMS: Infection COMS-v2 for rank 0/1(2) 0.00020915799541398883,0.00020885467529296875 - 2020-03-12 13:00:00\n",
      "2020-11-01 16:49:10,233 - simulator - INFO - CMS: Timestep for rank 0/1 - 0.6026488100033021, 0.602649450302124 - 2020-03-12 13:00:00\n",
      "\n",
      "2020-11-01 16:49:10,234 - simulator - INFO - ==================== timestep ====================\n",
      "2020-11-01 16:49:10,421 - activity_manager - INFO - CMS: People COMS for rank 0/1 - 5.355002940632403e-06,4.5299530029296875e-06 - 2020-03-13 00:00:00\n",
      "2020-11-01 16:49:10,427 - simulator - INFO - Info for rank 0, Date = 2020-03-13 00:00:00, number of deaths =  2, number of infected = 6791\n",
      "2020-11-01 16:49:10,650 - simulator - INFO - CMS: Infection COMS-v2 for rank 0/1(2) 0.00020296599541325122,0.00020265579223632812 - 2020-03-13 00:00:00\n",
      "2020-11-01 16:49:10,787 - simulator - INFO - CMS: Timestep for rank 0/1 - 0.5527528940001503, 0.5527536869049072 - 2020-03-13 00:00:00\n",
      "\n",
      "2020-11-01 16:49:10,788 - simulator - INFO - ==================== timestep ====================\n",
      "2020-11-01 16:49:11,033 - activity_manager - INFO - CMS: People COMS for rank 0/1 - 4.770001396536827e-06,4.291534423828125e-06 - 2020-03-13 01:00:00\n",
      "2020-11-01 16:49:11,039 - simulator - INFO - Info for rank 0, Date = 2020-03-13 01:00:00, number of deaths =  3, number of infected = 6922\n",
      "2020-11-01 16:49:11,592 - simulator - INFO - CMS: Infection COMS-v2 for rank 0/1(2) 0.00012900700676254928,0.0001285076141357422 - 2020-03-13 01:00:00\n",
      "2020-11-01 16:49:11,741 - simulator - INFO - CMS: Timestep for rank 0/1 - 0.9522540379985003, 0.9522545337677002 - 2020-03-13 01:00:00\n",
      "\n",
      "2020-11-01 16:49:11,741 - simulator - INFO - ==================== timestep ====================\n",
      "2020-11-01 16:49:11,916 - activity_manager - INFO - CMS: People COMS for rank 0/1 - 5.2779942052438855e-06,4.291534423828125e-06 - 2020-03-13 09:00:00\n",
      "2020-11-01 16:49:11,922 - simulator - INFO - Info for rank 0, Date = 2020-03-13 09:00:00, number of deaths =  4, number of infected = 8093\n",
      "2020-11-01 16:49:12,160 - simulator - INFO - CMS: Infection COMS-v2 for rank 0/1(2) 0.00013426000077743083,0.00013375282287597656 - 2020-03-13 09:00:00\n",
      "2020-11-01 16:49:12,310 - simulator - INFO - CMS: Timestep for rank 0/1 - 0.5676063680002699, 0.5676071643829346 - 2020-03-13 09:00:00\n",
      "\n",
      "2020-11-01 16:49:12,310 - simulator - INFO - ==================== timestep ====================\n",
      "2020-11-01 16:49:12,781 - activity_manager - INFO - CMS: People COMS for rank 0/1 - 4.775007255375385e-06,3.814697265625e-06 - 2020-03-13 10:00:00\n",
      "2020-11-01 16:49:12,787 - simulator - INFO - Info for rank 0, Date = 2020-03-13 10:00:00, number of deaths =  4, number of infected = 8254\n",
      "2020-11-01 16:49:13,074 - simulator - INFO - CMS: Infection COMS-v2 for rank 0/1(2) 0.00012573999993037432,0.0001251697540283203 - 2020-03-13 10:00:00\n",
      "2020-11-01 16:49:13,216 - simulator - INFO - CMS: Timestep for rank 0/1 - 0.9054250100016361, 0.9054257869720459 - 2020-03-13 10:00:00\n",
      "\n",
      "2020-11-01 16:49:13,217 - simulator - INFO - ==================== timestep ====================\n",
      "2020-11-01 16:49:13,377 - activity_manager - INFO - CMS: People COMS for rank 0/1 - 5.859998054802418e-06,5.0067901611328125e-06 - 2020-03-13 13:00:00\n"
     ]
    },
    {
     "name": "stdout",
     "output_type": "stream",
     "text": [
      "2020-11-01 16:49:13,384 - simulator - INFO - Info for rank 0, Date = 2020-03-13 13:00:00, number of deaths =  4, number of infected = 8488\n",
      "2020-11-01 16:49:13,672 - simulator - INFO - CMS: Infection COMS-v2 for rank 0/1(2) 0.00016922900977078825,0.0001685619354248047 - 2020-03-13 13:00:00\n",
      "2020-11-01 16:49:13,836 - simulator - INFO - CMS: Timestep for rank 0/1 - 0.6189798550039995, 0.6189804077148438 - 2020-03-13 13:00:00\n",
      "\n",
      "2020-11-01 16:49:13,837 - simulator - INFO - ==================== timestep ====================\n",
      "2020-11-01 16:49:14,254 - activity_manager - INFO - CMS: People COMS for rank 0/1 - 3.883993485942483e-06,3.337860107421875e-06 - 2020-03-14 00:00:00\n",
      "2020-11-01 16:49:14,262 - simulator - INFO - Info for rank 0, Date = 2020-03-14 00:00:00, number of deaths =  6, number of infected = 8886\n",
      "2020-11-01 16:49:14,592 - simulator - INFO - CMS: Infection COMS-v2 for rank 0/1(2) 0.00012412300566211343,0.00012350082397460938 - 2020-03-14 00:00:00\n",
      "2020-11-01 16:49:14,735 - simulator - INFO - CMS: Timestep for rank 0/1 - 0.8977314060030039, 0.8977322578430176 - 2020-03-14 00:00:00\n",
      "\n",
      "2020-11-01 16:49:14,736 - simulator - INFO - ==================== timestep ====================\n",
      "2020-11-01 16:49:15,147 - activity_manager - INFO - CMS: People COMS for rank 0/1 - 4.893998266197741e-06,4.5299530029296875e-06 - 2020-03-14 04:00:00\n",
      "2020-11-01 16:49:15,153 - simulator - INFO - Info for rank 0, Date = 2020-03-14 04:00:00, number of deaths =  6, number of infected = 9226\n",
      "2020-11-01 16:49:15,488 - simulator - INFO - CMS: Infection COMS-v2 for rank 0/1(2) 0.00011918399832211435,0.00011873245239257812 - 2020-03-14 04:00:00\n",
      "2020-11-01 16:49:15,658 - simulator - INFO - CMS: Timestep for rank 0/1 - 0.9215275940077845, 0.9215285778045654 - 2020-03-14 04:00:00\n",
      "\n",
      "2020-11-01 16:49:15,659 - simulator - INFO - ==================== timestep ====================\n",
      "2020-11-01 16:49:16,077 - activity_manager - INFO - CMS: People COMS for rank 0/1 - 5.142006557434797e-06,4.5299530029296875e-06 - 2020-03-14 08:00:00\n",
      "2020-11-01 16:49:16,085 - simulator - INFO - Info for rank 0, Date = 2020-03-14 08:00:00, number of deaths =  7, number of infected = 9522\n",
      "2020-11-01 16:49:16,407 - simulator - INFO - CMS: Infection COMS-v2 for rank 0/1(2) 0.00012565399811137468,0.00012564659118652344 - 2020-03-14 08:00:00\n",
      "2020-11-01 16:49:16,556 - simulator - INFO - CMS: Timestep for rank 0/1 - 0.8972114850039361, 0.8972122669219971 - 2020-03-14 08:00:00\n",
      "\n",
      "2020-11-01 16:49:16,557 - simulator - INFO - ==================== timestep ====================\n",
      "2020-11-01 16:49:16,696 - activity_manager - INFO - CMS: People COMS for rank 0/1 - 6.26700057182461e-06,5.0067901611328125e-06 - 2020-03-14 12:00:00\n",
      "2020-11-01 16:49:16,702 - simulator - INFO - Info for rank 0, Date = 2020-03-14 12:00:00, number of deaths =  7, number of infected = 9830\n",
      "2020-11-01 16:49:17,009 - simulator - INFO - CMS: Infection COMS-v2 for rank 0/1(2) 0.00016944701201282442,0.0001690387725830078 - 2020-03-14 12:00:00\n",
      "2020-11-01 16:49:17,175 - simulator - INFO - CMS: Timestep for rank 0/1 - 0.6171465539955534, 0.6171474456787109 - 2020-03-14 12:00:00\n",
      "\n"
     ]
    }
   ],
   "source": [
    "%%time\n",
    "simulator.run()"
   ]
  },
  {
   "cell_type": "markdown",
   "metadata": {},
   "source": [
    "While the simulation runs (and afterwards) we can launch the visualization webpage by running\n",
    "```python june/visualizer.py path/to/results``` "
   ]
  },
  {
   "cell_type": "markdown",
   "metadata": {},
   "source": [
    "# Getting the results"
   ]
  },
  {
   "cell_type": "markdown",
   "metadata": {},
   "source": [
    "All results are stored in a json file specified in the ``record.record_path`` folder. Summaries are found under ``summary.csv``"
   ]
  },
  {
   "cell_type": "code",
   "execution_count": null,
   "metadata": {},
   "outputs": [],
   "source": [
    "import pandas as pd"
   ]
  },
  {
   "cell_type": "code",
   "execution_count": null,
   "metadata": {},
   "outputs": [],
   "source": [
    "read = RecordReader()"
   ]
  },
  {
   "cell_type": "markdown",
   "metadata": {},
   "source": [
    "## Contains summaries with regional information"
   ]
  },
  {
   "cell_type": "code",
   "execution_count": null,
   "metadata": {},
   "outputs": [],
   "source": [
    "read.regional_summary.head(3)"
   ]
  },
  {
   "cell_type": "code",
   "execution_count": null,
   "metadata": {},
   "outputs": [],
   "source": [
    "read.regional_summary['daily_intensive_care'].sum()"
   ]
  },
  {
   "cell_type": "code",
   "execution_count": null,
   "metadata": {},
   "outputs": [],
   "source": [
    "for region in read.regional_summary['region'].unique():\n",
    "    read.regional_summary[\n",
    "        read.regional_summary['region'] == region\n",
    "    ]['current_infected'].plot()\n",
    "    read.regional_summary[\n",
    "        read.regional_summary['region'] == region\n",
    "    ]['current_susceptible'].plot()\n",
    "    plt.title(region)\n",
    "    plt.show()"
   ]
  },
  {
   "cell_type": "code",
   "execution_count": null,
   "metadata": {},
   "outputs": [],
   "source": [
    "read.world_summary['current_infected'].plot()\n",
    "read.world_summary['current_susceptible'].plot()"
   ]
  },
  {
   "cell_type": "markdown",
   "metadata": {},
   "source": [
    "# Asking questions to the records"
   ]
  },
  {
   "cell_type": "markdown",
   "metadata": {},
   "source": [
    "## Sero-prevalence by age"
   ]
  },
  {
   "cell_type": "code",
   "execution_count": null,
   "metadata": {},
   "outputs": [],
   "source": [
    "infections_df = read.get_table_with_extras('infections',\n",
    "                                           'infected_ids')"
   ]
  },
  {
   "cell_type": "code",
   "execution_count": null,
   "metadata": {},
   "outputs": [],
   "source": [
    "deaths_df = read.get_table_with_extras('deaths', \n",
    "                                       'dead_person_ids')"
   ]
  },
  {
   "cell_type": "code",
   "execution_count": null,
   "metadata": {},
   "outputs": [],
   "source": [
    "age_bins = (0,20,60,100)"
   ]
  },
  {
   "cell_type": "code",
   "execution_count": null,
   "metadata": {},
   "outputs": [],
   "source": [
    "infected_by_age = infections_df.groupby([pd.cut(infections_df['age'],\n",
    "            bins=age_bins), 'timestamp']).size()"
   ]
  },
  {
   "cell_type": "code",
   "execution_count": null,
   "metadata": {},
   "outputs": [],
   "source": [
    "people_df = read.table_to_df('population')"
   ]
  },
  {
   "cell_type": "code",
   "execution_count": null,
   "metadata": {},
   "outputs": [],
   "source": [
    "n_by_age = people_df.groupby(pd.cut(people_df['age'],\n",
    "            bins=age_bins)).size()"
   ]
  },
  {
   "cell_type": "code",
   "execution_count": null,
   "metadata": {},
   "outputs": [],
   "source": [
    "(100*infected_by_age/n_by_age).xs(10).cumsum().plot(label='0,20')\n",
    "(100*infected_by_age/n_by_age).xs(30).cumsum().plot(label='20,60')\n",
    "(100*infected_by_age/n_by_age).xs(70).cumsum().plot(label='60,100')\n",
    "plt.legend()"
   ]
  },
  {
   "cell_type": "markdown",
   "metadata": {},
   "source": [
    "## Care home deaths in hospital"
   ]
  },
  {
   "cell_type": "code",
   "execution_count": null,
   "metadata": {},
   "outputs": [],
   "source": [
    "care_home_deaths_hospital = deaths_df[\n",
    "    (deaths_df['location_specs'] == 'hospital') \n",
    "    & (deaths_df['residence_type'] == 'care_home')\n",
    "]\n",
    "care_home_deaths_hospital=care_home_deaths_hospital.groupby(\n",
    "    ['name_region', 'timestamp']\n",
    ").size()"
   ]
  },
  {
   "cell_type": "code",
   "execution_count": null,
   "metadata": {},
   "outputs": [],
   "source": [
    "care_home_deaths_hospital.unstack(level=0).plot()\n"
   ]
  },
  {
   "cell_type": "markdown",
   "metadata": {},
   "source": [
    "## Where people get infected as a function of time"
   ]
  },
  {
   "cell_type": "code",
   "execution_count": null,
   "metadata": {},
   "outputs": [],
   "source": [
    "locations_df = infections_df.groupby(['location_specs', \n",
    "                                'timestamp']).size()"
   ]
  },
  {
   "cell_type": "code",
   "execution_count": null,
   "metadata": {},
   "outputs": [],
   "source": [
    "locations_df.unstack(level=0).plot()"
   ]
  },
  {
   "cell_type": "code",
   "execution_count": null,
   "metadata": {},
   "outputs": [],
   "source": [
    "import matplotlib.ticker as mtick\n",
    "location_counts_df = locations_df.groupby('location_specs').size()\n",
    "location_counts_df = 100*location_counts_df / location_counts_df.sum()\n",
    "ax = location_counts_df.sort_values().plot.bar()\n",
    "ax.yaxis.set_major_formatter(mtick.PercentFormatter())\n",
    "plt.ylabel('Percentage of infections at location')\n",
    "plt.xlabel('location')\n"
   ]
  },
  {
   "cell_type": "markdown",
   "metadata": {},
   "source": [
    "## Where people of certain age get infected as a function of time"
   ]
  },
  {
   "cell_type": "code",
   "execution_count": null,
   "metadata": {},
   "outputs": [],
   "source": [
    "old_locations_df = infections_df[\n",
    "    infections_df.age > 65\n",
    "].groupby(['location_specs', 'timestamp']).size()"
   ]
  },
  {
   "cell_type": "code",
   "execution_count": null,
   "metadata": {},
   "outputs": [],
   "source": [
    "old_locations_df.unstack(level=0).plot()"
   ]
  },
  {
   "cell_type": "markdown",
   "metadata": {},
   "source": [
    "## Prevalence by household size"
   ]
  },
  {
   "cell_type": "code",
   "execution_count": null,
   "metadata": {},
   "outputs": [],
   "source": [
    "household_people = people_df[\n",
    "    people_df['residence_type'] == 'household'\n",
    "]"
   ]
  },
  {
   "cell_type": "code",
   "execution_count": null,
   "metadata": {},
   "outputs": [],
   "source": [
    "household_sizes = household_people.groupby('residence_id').size()"
   ]
  },
  {
   "cell_type": "code",
   "execution_count": null,
   "metadata": {},
   "outputs": [],
   "source": [
    "household_sizes.hist() # in units of households"
   ]
  },
  {
   "cell_type": "code",
   "execution_count": null,
   "metadata": {},
   "outputs": [],
   "source": [
    "household_people.loc[:,'household_size'] = household_sizes.loc[\n",
    "    household_people['residence_id']\n",
    "].copy(deep=True).values"
   ]
  },
  {
   "cell_type": "code",
   "execution_count": null,
   "metadata": {},
   "outputs": [],
   "source": [
    "household_people['household_size'].hist() # in units of people"
   ]
  },
  {
   "cell_type": "code",
   "execution_count": null,
   "metadata": {},
   "outputs": [],
   "source": [
    "household_infections_df = infections_df.merge(\n",
    "    household_people['household_size'], \n",
    "    left_index=True, right_index=True, how='inner'\n",
    ")"
   ]
  },
  {
   "cell_type": "code",
   "execution_count": null,
   "metadata": {},
   "outputs": [],
   "source": [
    "(household_infections_df.groupby(\n",
    "    'household_size'\n",
    ").size()/household_people.groupby('household_size').size()).plot()\n",
    "plt.xlabel('Household size')\n",
    "plt.ylabel('% of people infected by household size')\n",
    "plt.xlim(0,8)"
   ]
  },
  {
   "cell_type": "code",
   "execution_count": null,
   "metadata": {},
   "outputs": [],
   "source": [
    "# How many households have everyone infected?"
   ]
  },
  {
   "cell_type": "code",
   "execution_count": null,
   "metadata": {},
   "outputs": [],
   "source": [
    "n_infected_by_household = infections_df[\n",
    "    infections_df['residence_type'] == 'household'\n",
    "].groupby('residence_id').size()"
   ]
  },
  {
   "cell_type": "code",
   "execution_count": null,
   "metadata": {},
   "outputs": [],
   "source": [
    "n_total_in_household = household_people[\n",
    "    household_people['residence_id'].isin(\n",
    "        n_infected_by_household.index\n",
    "    )\n",
    "].groupby('residence_id').size()"
   ]
  },
  {
   "cell_type": "code",
   "execution_count": null,
   "metadata": {},
   "outputs": [],
   "source": [
    "(n_infected_by_household/n_total_in_household).hist()\n",
    "plt.xlabel('% of the household infected')"
   ]
  },
  {
   "cell_type": "markdown",
   "metadata": {},
   "source": [
    "## Percentage of infected per care home"
   ]
  },
  {
   "cell_type": "code",
   "execution_count": null,
   "metadata": {},
   "outputs": [],
   "source": [
    "n_infected_by_carehome = infections_df[\n",
    "    infections_df['residence_type'] == 'care_home'\n",
    "].groupby(\n",
    "    'residence_id'\n",
    ").size()"
   ]
  },
  {
   "cell_type": "code",
   "execution_count": null,
   "metadata": {},
   "outputs": [],
   "source": [
    "n_total_in_carehome = people_df[\n",
    "    (people_df['residence_type'] == 'care_home') \n",
    "    & (people_df['residence_id'].isin(n_infected_by_carehome.index))  \n",
    "].groupby('residence_id').size()"
   ]
  },
  {
   "cell_type": "code",
   "execution_count": null,
   "metadata": {},
   "outputs": [],
   "source": [
    "(n_infected_by_carehome/n_total_in_carehome).hist()\n",
    "plt.xlabel('% of the care home infected')"
   ]
  },
  {
   "cell_type": "code",
   "execution_count": null,
   "metadata": {},
   "outputs": [],
   "source": [
    "# from all care homes, how many got at least one case?"
   ]
  },
  {
   "cell_type": "code",
   "execution_count": null,
   "metadata": {},
   "outputs": [],
   "source": [
    "n_total_care_homes = people_df[\n",
    "    (people_df['residence_type'] == 'care_home') \n",
    "]['residence_id'].nunique()"
   ]
  },
  {
   "cell_type": "code",
   "execution_count": null,
   "metadata": {},
   "outputs": [],
   "source": [
    "n_total_care_homes"
   ]
  },
  {
   "cell_type": "code",
   "execution_count": null,
   "metadata": {},
   "outputs": [],
   "source": [
    "care_homes_with_infected = infections_df[\n",
    "    (infections_df['residence_type'] == 'care_home') \n",
    "]['residence_id'].nunique()"
   ]
  },
  {
   "cell_type": "code",
   "execution_count": null,
   "metadata": {},
   "outputs": [],
   "source": [
    "care_homes_with_infected/n_total_care_homes"
   ]
  },
  {
   "cell_type": "code",
   "execution_count": null,
   "metadata": {},
   "outputs": [],
   "source": []
  },
  {
   "cell_type": "code",
   "execution_count": null,
   "metadata": {},
   "outputs": [],
   "source": []
  },
  {
   "cell_type": "code",
   "execution_count": null,
   "metadata": {},
   "outputs": [],
   "source": []
  }
 ],
 "metadata": {
  "kernelspec": {
   "display_name": "Python 3",
   "language": "python",
   "name": "python3"
  },
  "language_info": {
   "codemirror_mode": {
    "name": "ipython",
    "version": 3
   },
   "file_extension": ".py",
   "mimetype": "text/x-python",
   "name": "python",
   "nbconvert_exporter": "python",
   "pygments_lexer": "ipython3",
   "version": "3.8.3"
  },
  "nbdime-conflicts": {
   "local_diff": [
    {
     "diff": [
      {
       "diff": [
        {
         "key": 0,
         "op": "addrange",
         "valuelist": [
          "3.8.3"
         ]
        },
        {
         "key": 0,
         "length": 1,
         "op": "removerange"
        }
       ],
       "key": "version",
       "op": "patch"
      }
     ],
     "key": "language_info",
     "op": "patch"
    }
   ],
   "remote_diff": [
    {
     "diff": [
      {
       "diff": [
        {
         "key": 0,
         "op": "addrange",
         "valuelist": [
          "3.8.5"
         ]
        },
        {
         "key": 0,
         "length": 1,
         "op": "removerange"
        }
       ],
       "key": "version",
       "op": "patch"
      }
     ],
     "key": "language_info",
     "op": "patch"
    }
   ]
  }
 },
 "nbformat": 4,
 "nbformat_minor": 4
}
