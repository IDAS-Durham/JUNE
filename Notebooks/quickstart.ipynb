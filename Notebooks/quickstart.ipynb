{
 "cells": [
  {
   "cell_type": "code",
   "execution_count": 1,
   "metadata": {},
   "outputs": [],
   "source": [
    "%load_ext autoreload\n",
    "%autoreload 2"
   ]
  },
  {
   "cell_type": "code",
   "execution_count": 2,
   "metadata": {},
   "outputs": [],
   "source": [
    "import numpy as np\n",
    "import time\n",
    "from datetime import datetime\n",
    "import matplotlib.pyplot as plt\n",
    " \n",
    "plt.style.use(['science','notebook'])\n",
    "plt.style.reload_library()"
   ]
  },
  {
   "cell_type": "code",
   "execution_count": 3,
   "metadata": {},
   "outputs": [
    {
     "name": "stderr",
     "output_type": "stream",
     "text": [
      "No --data argument given - defaulting to:\n",
      "/home/florpi/JUNE/data\n",
      "No --configs argument given - defaulting to:\n",
      "/home/florpi/JUNE/configs\n"
     ]
    }
   ],
   "source": [
    "from june import World \n",
    "from june.demography.geography import Geography\n",
    "from june.demography import Demography\n",
    "from june.interaction import Interaction\n",
    "from june.infection import Infection, HealthIndexGenerator, InfectionSelector\n",
    "from june.infection.transmission import TransmissionConstant\n",
    "from june.groups import Hospitals, Schools, Companies, Households, CareHomes, Cemeteries, Universities\n",
    "from june.groups.leisure import generate_leisure_for_config, Cinemas, Pubs, Groceries\n",
    "from june.simulator import Simulator\n",
    "from june.infection_seed import InfectionSeed\n",
    "from june.policy import Policy, Policies\n",
    "from june import paths\n",
    "from june.hdf5_savers import load_geography_from_hdf5\n",
    "from june.logger.read_logger import ReadLogger\n",
    "from june.world import generate_world_from_geography\n",
    "from june.hdf5_savers import generate_world_from_hdf5"
   ]
  },
  {
   "cell_type": "markdown",
   "metadata": {},
   "source": [
    "# Initialize world\n",
    "\n",
    "To initialize a certain world, we need to add the different components we want to have in it. First we specify what super areas (msoa) we want to create. We have included these ones, because they are known to contain hospitals, schools, care homes, and companies.\n",
    "\n",
    "After creating the geography, we create the different components the worlds need to have such as care homes, companies ..."
   ]
  },
  {
   "cell_type": "code",
   "execution_count": 4,
   "metadata": {},
   "outputs": [],
   "source": [
    "CONFIG_PATH = paths.configs_path / \"config_example.yaml\""
   ]
  },
  {
   "cell_type": "code",
   "execution_count": 5,
   "metadata": {
    "scrolled": false
   },
   "outputs": [
    {
     "name": "stdout",
     "output_type": "stream",
     "text": [
      "2020-08-30 10:30:01,250 - june.demography.geography - INFO - There are 162 areas and 6 super_areas in the world.\n",
      "2020-08-30 10:30:01,255 - june.groups.hospital - INFO - There are 1 hospitals in this geography.\n",
      "2020-08-30 10:30:01,318 - june.groups.school - INFO - There are 26 schools in this geography.\n",
      "2020-08-30 10:30:01,370 - june.groups.school - INFO - No school for the age 0 in this world.\n",
      "2020-08-30 10:30:01,373 - june.groups.school - INFO - No school for the age 1 in this world.\n",
      "2020-08-30 10:30:01,376 - june.groups.school - INFO - No school for the age 2 in this world.\n",
      "2020-08-30 10:30:01,655 - june.groups.carehome - INFO - There are 11 care_homes in this geography.\n",
      "2020-08-30 10:30:15,112 - numexpr.utils - INFO - NumExpr defaulting to 4 threads.\n",
      "2020-08-30 10:30:20,500 - june.distributors.worker_distributor - INFO - There are 0 who had to be told to stay real\n",
      "2020-08-30 10:30:40,946 - june.groups.commute.commutehub_distributor - INFO - Distributing people to commute hubs in 11 commute cities.\n",
      "2020-08-30 10:30:40,947 - june.groups.commute.commutehub_distributor - INFO - Birmingham : 0 people commute in, 0 commute out.\n",
      "2020-08-30 10:30:40,948 - june.groups.commute.commutehub_distributor - INFO - Bristol : 0 people commute in, 0 commute out.\n",
      "2020-08-30 10:30:40,948 - june.groups.commute.commutehub_distributor - INFO - Cardiff : 0 people commute in, 0 commute out.\n",
      "2020-08-30 10:30:40,949 - june.groups.commute.commutehub_distributor - INFO - Leeds : 0 people commute in, 0 commute out.\n",
      "2020-08-30 10:30:40,950 - june.groups.commute.commutehub_distributor - INFO - Leicester : 0 people commute in, 0 commute out.\n",
      "2020-08-30 10:30:40,950 - june.groups.commute.commutehub_distributor - INFO - Liverpool : 0 people commute in, 0 commute out.\n",
      "2020-08-30 10:30:40,951 - june.groups.commute.commutehub_distributor - INFO - Manchester : 0 people commute in, 0 commute out.\n",
      "2020-08-30 10:30:40,955 - june.groups.commute.commutehub_distributor - INFO - Newcastle : 205 people commute in, 213 commute out.\n",
      "2020-08-30 10:30:40,981 - june.groups.commute.commutehub_distributor - INFO - Nottingham : 0 people commute in, 0 commute out.\n",
      "2020-08-30 10:30:40,982 - june.groups.commute.commutehub_distributor - INFO - Sheffield : 0 people commute in, 0 commute out.\n",
      "2020-08-30 10:30:40,983 - june.groups.commute.commutehub_distributor - INFO - London : 0 people commute in, 0 commute out.\n",
      "CPU times: user 39.3 s, sys: 1.6 s, total: 40.9 s\n",
      "Wall time: 41 s\n"
     ]
    }
   ],
   "source": [
    "%%time \n",
    "\n",
    "geography = Geography.from_file(\n",
    "        {\n",
    "            \"super_area\": [\n",
    "                \"E02003282\",\n",
    "                \"E02003283\",\n",
    "                \"E02001720\",\n",
    "                \"E02002560\",\n",
    "                \"E02002559\",\n",
    "                \"E02004314\",\n",
    "            ]\n",
    "        }\n",
    ")\n",
    "\n",
    "geography.hospitals = Hospitals.for_geography(geography)\n",
    "geography.schools = Schools.for_geography(geography)\n",
    "geography.companies = Companies.for_geography(geography)\n",
    "geography.care_homes = CareHomes.for_geography(geography)\n",
    "geography.universities = Universities.for_super_areas(geography.super_areas)\n",
    "world = generate_world_from_geography(geography, include_households=True, include_commute=True)\n"
   ]
  },
  {
   "cell_type": "markdown",
   "metadata": {},
   "source": [
    "## Commute, travel and leisure"
   ]
  },
  {
   "cell_type": "code",
   "execution_count": 6,
   "metadata": {},
   "outputs": [
    {
     "name": "stdout",
     "output_type": "stream",
     "text": [
      "2020-08-30 10:30:42,287 - june.groups.leisure.leisure - INFO - Distributing social venues to households\n",
      "2020-08-30 10:30:42,288 - june.groups.leisure.leisure - INFO - Distributed in 0 of 20498 households.\n"
     ]
    }
   ],
   "source": [
    "world.pubs = Pubs.for_geography(geography)\n",
    "world.cinemas = Cinemas.for_geography(geography)\n",
    "world.groceries = Groceries.for_geography(geography)\n",
    "leisure = generate_leisure_for_config(world, config_filename=CONFIG_PATH)\n",
    "leisure.distribute_social_venues_to_households(world.households, super_areas=world.super_areas) # this assigns possible social venues to people."
   ]
  },
  {
   "cell_type": "markdown",
   "metadata": {},
   "source": [
    "We are also going to need some cemeteries...geography.cemeteries = Cemeteries()\n"
   ]
  },
  {
   "cell_type": "code",
   "execution_count": 7,
   "metadata": {},
   "outputs": [],
   "source": [
    "world.cemeteries = Cemeteries()"
   ]
  },
  {
   "cell_type": "code",
   "execution_count": 8,
   "metadata": {},
   "outputs": [
    {
     "data": {
      "text/plain": [
       "57259"
      ]
     },
     "execution_count": 8,
     "metadata": {},
     "output_type": "execute_result"
    }
   ],
   "source": [
    "len(world.people)"
   ]
  },
  {
   "cell_type": "markdown",
   "metadata": {},
   "source": [
    "### If it took a long time to run the previous commands, it might be a good idea to save the world to reuse it later."
   ]
  },
  {
   "cell_type": "code",
   "execution_count": 9,
   "metadata": {},
   "outputs": [
    {
     "name": "stdout",
     "output_type": "stream",
     "text": [
      "2020-08-30 10:30:50,311 - june.hdf5_savers.world_saver - INFO - saving world to HDF5\n",
      "2020-08-30 10:30:51,191 - june.hdf5_savers.world_saver - INFO - saving hospitals...\n",
      "2020-08-30 10:30:51,193 - june.hdf5_savers.world_saver - INFO - saving schools...\n",
      "2020-08-30 10:30:51,199 - june.hdf5_savers.world_saver - INFO - saving companies...\n",
      "2020-08-30 10:30:51,205 - june.hdf5_savers.world_saver - INFO - saving households...\n",
      "2020-08-30 10:30:51,776 - june.hdf5_savers.world_saver - INFO - saving care homes...\n",
      "2020-08-30 10:30:51,779 - june.hdf5_savers.world_saver - INFO - saving commute cities...\n",
      "2020-08-30 10:30:51,783 - june.hdf5_savers.world_saver - INFO - saving commute hubs...\n",
      "2020-08-30 10:30:51,790 - june.hdf5_savers.world_saver - INFO - saving universities...\n",
      "2020-08-30 10:30:51,795 - june.hdf5_savers.world_saver - INFO - saving social venues...\n"
     ]
    }
   ],
   "source": [
    "world.to_hdf5(\"world.hdf5\")"
   ]
  },
  {
   "cell_type": "markdown",
   "metadata": {},
   "source": [
    "If we would like to load the world we saved, we just do"
   ]
  },
  {
   "cell_type": "code",
   "execution_count": 10,
   "metadata": {},
   "outputs": [
    {
     "name": "stdout",
     "output_type": "stream",
     "text": [
      "2020-08-30 10:30:51,839 - june.hdf5_savers.world_saver - INFO - loading world from HDF5\n",
      "2020-08-30 10:30:51,847 - june.hdf5_savers.world_saver - INFO - loading hospitals...\n",
      "2020-08-30 10:30:51,851 - june.hdf5_savers.world_saver - INFO - loading schools...\n",
      "2020-08-30 10:30:51,860 - june.hdf5_savers.world_saver - INFO - loading companies...\n",
      "2020-08-30 10:30:51,893 - june.hdf5_savers.world_saver - INFO - loading care homes...\n",
      "2020-08-30 10:30:51,903 - june.hdf5_savers.world_saver - INFO - loading universities...\n",
      "2020-08-30 10:30:51,908 - june.hdf5_savers.world_saver - INFO - loading commute cities...\n",
      "2020-08-30 10:30:51,940 - june.hdf5_savers.world_saver - INFO - loading commute hubs...\n",
      "2020-08-30 10:30:52,046 - june.hdf5_savers.world_saver - INFO - loading households...\n",
      "2020-08-30 10:30:52,478 - june.hdf5_savers.world_saver - INFO - loading population...\n",
      "2020-08-30 10:30:52,847 - june.hdf5_savers.world_saver - INFO - loading social venues...\n",
      "2020-08-30 10:30:52,855 - june.hdf5_savers.world_saver - INFO - restoring world...\n",
      "2020-08-30 10:30:52,857 - june.hdf5_savers.world_saver - INFO - restoring population...\n",
      "2020-08-30 10:30:58,341 - june.hdf5_savers.world_saver - INFO - restoring households...\n",
      "2020-08-30 10:30:59,848 - june.hdf5_savers.world_saver - INFO - restoring care homes...\n",
      "2020-08-30 10:30:59,850 - june.hdf5_savers.world_saver - INFO - restoring hospitals...\n",
      "2020-08-30 10:30:59,852 - june.hdf5_savers.world_saver - INFO - restoring commute...\n",
      "2020-08-30 10:30:59,855 - june.hdf5_savers.world_saver - INFO - restoring companies...\n",
      "2020-08-30 10:30:59,861 - june.hdf5_savers.world_saver - INFO - restoring schools...\n",
      "2020-08-30 10:30:59,864 - june.hdf5_savers.world_saver - INFO - restoring unis...\n",
      "2020-08-30 10:30:59,867 - june.hdf5_savers.world_saver - INFO - restoring social venues...\n"
     ]
    }
   ],
   "source": [
    "world = generate_world_from_hdf5(\"world.hdf5\")"
   ]
  },
  {
   "cell_type": "code",
   "execution_count": 11,
   "metadata": {},
   "outputs": [],
   "source": [
    "# and regenerate leisure in case we load it externally\n",
    "leisure = generate_leisure_for_config(world, CONFIG_PATH)"
   ]
  },
  {
   "cell_type": "markdown",
   "metadata": {},
   "source": [
    "you have now a beautiful pre-pandemic world. "
   ]
  },
  {
   "cell_type": "markdown",
   "metadata": {},
   "source": [
    "# Adding the infection"
   ]
  },
  {
   "cell_type": "markdown",
   "metadata": {},
   "source": [
    "The module in charge of infecting people is called the ``InfectionSelector``, which gives people a transmission time profile and a symptoms trajectory based on their age and sex (through the health index generator)"
   ]
  },
  {
   "cell_type": "code",
   "execution_count": 12,
   "metadata": {},
   "outputs": [],
   "source": [
    "health_index_generator = HealthIndexGenerator.from_file(asymptomatic_ratio=0.2)\n",
    "selector = InfectionSelector.from_file(\n",
    "        health_index_generator=health_index_generator,\n",
    "        transmission_config_path=paths.configs_path / 'defaults/transmission/XNExp.yaml'\n",
    ")"
   ]
  },
  {
   "cell_type": "markdown",
   "metadata": {},
   "source": [
    "# Adding the interaction"
   ]
  },
  {
   "cell_type": "code",
   "execution_count": 13,
   "metadata": {},
   "outputs": [],
   "source": [
    "interaction = Interaction.from_file()"
   ]
  },
  {
   "cell_type": "markdown",
   "metadata": {},
   "source": [
    "Beta are the intensities of the interaction taking place at the different groups"
   ]
  },
  {
   "cell_type": "code",
   "execution_count": 14,
   "metadata": {},
   "outputs": [],
   "source": [
    "for key in interaction.beta.keys():\n",
    "    interaction.beta[key] *= 0.2"
   ]
  },
  {
   "cell_type": "code",
   "execution_count": 15,
   "metadata": {},
   "outputs": [
    {
     "data": {
      "text/plain": [
       "{'box': 0.2,\n",
       " 'pub': 0.1,\n",
       " 'grocery': 0.05,\n",
       " 'cinema': 0.05,\n",
       " 'commute_unit': 0.1,\n",
       " 'commute_city_unit': 0.1,\n",
       " 'hospital': 0.010000000000000002,\n",
       " 'care_home': 0.24,\n",
       " 'company': 0.16000000000000003,\n",
       " 'school': 0.16000000000000003,\n",
       " 'household': 0.2,\n",
       " 'university': 0.1}"
      ]
     },
     "execution_count": 15,
     "metadata": {},
     "output_type": "execute_result"
    }
   ],
   "source": [
    "interaction.beta"
   ]
  },
  {
   "cell_type": "markdown",
   "metadata": {},
   "source": [
    "moreover this interaction module uses contact matrices, that are different for different groups. These contact matrices shouldnt be modified for now. However they are a combination of conversational contact matrices, and physical contact matrices (see the BBC pandemic paper, from where these matrices are extracted https://www.medrxiv.org/content/10.1101/2020.02.16.20023754v2)\n",
    "\n",
    "There is a parameter, ``alpha`` ($\\alpha$), that combines these two matrices in the following way,\n",
    "\n",
    "\n",
    "$\\beta M \\left(1 + (\\alpha -1) \\right) P$\n",
    "\n",
    "where $\\beta$ is the intensity of the interaction, and $P$ the physical contact matrix. A larger $\\alpha$ produces more physical contacts. It is an overall number, non dependent of the particular group.\n"
   ]
  },
  {
   "cell_type": "code",
   "execution_count": 16,
   "metadata": {},
   "outputs": [
    {
     "data": {
      "text/plain": [
       "2.0"
      ]
     },
     "execution_count": 16,
     "metadata": {},
     "output_type": "execute_result"
    }
   ],
   "source": [
    "interaction.alpha_physical"
   ]
  },
  {
   "cell_type": "markdown",
   "metadata": {},
   "source": [
    "# Seed the disease"
   ]
  },
  {
   "cell_type": "markdown",
   "metadata": {},
   "source": [
    "There are two options implemented in the seed at the moment, either you specify the number of cases and these are then homogeneously distributed by population to the different areas, or you use UK data on cases per region. For now use the first case."
   ]
  },
  {
   "cell_type": "code",
   "execution_count": 17,
   "metadata": {},
   "outputs": [],
   "source": [
    "infection_seed = InfectionSeed(\n",
    "    world.super_areas, selector,\n",
    ")"
   ]
  },
  {
   "cell_type": "code",
   "execution_count": 18,
   "metadata": {},
   "outputs": [],
   "source": [
    "n_cases = 50\n",
    "infection_seed.unleash_virus(n_cases) # play around with the initial number of cases"
   ]
  },
  {
   "cell_type": "markdown",
   "metadata": {},
   "source": [
    "# Set policies"
   ]
  },
  {
   "cell_type": "code",
   "execution_count": 19,
   "metadata": {},
   "outputs": [],
   "source": [
    "policies = Policies.from_file()"
   ]
  },
  {
   "cell_type": "code",
   "execution_count": 20,
   "metadata": {},
   "outputs": [
    {
     "data": {
      "text/plain": [
       "<june.policy.policy.Policies at 0x7feaf0e6d8b0>"
      ]
     },
     "execution_count": 20,
     "metadata": {},
     "output_type": "execute_result"
    }
   ],
   "source": [
    "policies"
   ]
  },
  {
   "cell_type": "markdown",
   "metadata": {},
   "source": [
    "# Run the simulation"
   ]
  },
  {
   "cell_type": "markdown",
   "metadata": {},
   "source": [
    "The simulator is the main module in charge of running the simulation. It coordinates the ``ActivityManager`` which is responsible of allocating people to the right groups given the current timestep, it updates the health status of the population, and it runs the interaction over the different groups. All of these modules can be modified by policies at any given time."
   ]
  },
  {
   "cell_type": "markdown",
   "metadata": {},
   "source": [
    "Since the timer configuration is a bit cumbersome, it is read from the config file at ``configs/config_example.yaml``"
   ]
  },
  {
   "cell_type": "code",
   "execution_count": 21,
   "metadata": {},
   "outputs": [],
   "source": [
    "simulator = Simulator.from_file(\n",
    "    world=world,\n",
    "    infection_selector=selector,\n",
    "    interaction=interaction, \n",
    "    config_filename = CONFIG_PATH,\n",
    "    leisure = leisure,\n",
    "    policies = policies\n",
    ")"
   ]
  },
  {
   "cell_type": "code",
   "execution_count": 22,
   "metadata": {
    "scrolled": true
   },
   "outputs": [
    {
     "name": "stdout",
     "output_type": "stream",
     "text": [
      "2020-08-30 10:31:01,234 - june.simulator - INFO - Starting group_dynamics for 250 days at day 0\n",
      "2020-08-30 10:31:01,234 - june.simulator - INFO - starting the loop ..., at 0 days, to run for 250 days\n",
      "2020-08-30 10:31:02,404 - june.simulator - INFO - Date = 2020-03-01 00:00:00, number of deaths =  0, number of infected = 50\n",
      "2020-08-30 10:31:03,067 - june.simulator - INFO - Date = 2020-03-01 04:00:00, number of deaths =  0, number of infected = 50\n",
      "2020-08-30 10:31:03,630 - june.simulator - INFO - Date = 2020-03-01 08:00:00, number of deaths =  0, number of infected = 50\n",
      "2020-08-30 10:31:03,883 - june.simulator - INFO - Date = 2020-03-01 12:00:00, number of deaths =  0, number of infected = 50\n",
      "2020-08-30 10:31:04,157 - june.simulator - INFO - Date = 2020-03-02 00:00:00, number of deaths =  0, number of infected = 50\n",
      "2020-08-30 10:31:04,544 - june.simulator - INFO - Date = 2020-03-02 01:00:00, number of deaths =  0, number of infected = 50\n",
      "2020-08-30 10:31:04,829 - june.simulator - INFO - Date = 2020-03-02 09:00:00, number of deaths =  0, number of infected = 51\n",
      "2020-08-30 10:31:05,457 - june.simulator - INFO - Date = 2020-03-02 10:00:00, number of deaths =  0, number of infected = 51\n",
      "2020-08-30 10:31:05,717 - june.simulator - INFO - Date = 2020-03-02 13:00:00, number of deaths =  0, number of infected = 51\n",
      "2020-08-30 10:31:05,990 - june.simulator - INFO - Date = 2020-03-03 00:00:00, number of deaths =  0, number of infected = 52\n",
      "2020-08-30 10:31:06,375 - june.simulator - INFO - Date = 2020-03-03 01:00:00, number of deaths =  0, number of infected = 52\n",
      "2020-08-30 10:31:06,898 - june.simulator - INFO - Date = 2020-03-03 09:00:00, number of deaths =  0, number of infected = 59\n",
      "2020-08-30 10:31:07,525 - june.simulator - INFO - Date = 2020-03-03 10:00:00, number of deaths =  0, number of infected = 60\n",
      "2020-08-30 10:31:07,774 - june.simulator - INFO - Date = 2020-03-03 13:00:00, number of deaths =  0, number of infected = 61\n",
      "2020-08-30 10:31:08,060 - june.simulator - INFO - Date = 2020-03-04 00:00:00, number of deaths =  0, number of infected = 64\n",
      "2020-08-30 10:31:08,451 - june.simulator - INFO - Date = 2020-03-04 01:00:00, number of deaths =  0, number of infected = 64\n",
      "2020-08-30 10:31:09,418 - june.simulator - INFO - Date = 2020-03-04 09:00:00, number of deaths =  0, number of infected = 71\n",
      "2020-08-30 10:31:10,035 - june.simulator - INFO - Date = 2020-03-04 10:00:00, number of deaths =  0, number of infected = 71\n",
      "2020-08-30 10:31:10,291 - june.simulator - INFO - Date = 2020-03-04 13:00:00, number of deaths =  0, number of infected = 73\n",
      "2020-08-30 10:31:10,580 - june.simulator - INFO - Date = 2020-03-05 00:00:00, number of deaths =  0, number of infected = 76\n",
      "2020-08-30 10:31:10,930 - june.simulator - INFO - Date = 2020-03-05 01:00:00, number of deaths =  0, number of infected = 78\n",
      "2020-08-30 10:31:11,694 - june.simulator - INFO - Date = 2020-03-05 09:00:00, number of deaths =  0, number of infected = 91\n",
      "2020-08-30 10:31:12,420 - june.simulator - INFO - Date = 2020-03-05 10:00:00, number of deaths =  0, number of infected = 91\n",
      "2020-08-30 10:31:12,810 - june.simulator - INFO - Date = 2020-03-05 13:00:00, number of deaths =  0, number of infected = 91\n",
      "2020-08-30 10:31:13,280 - june.simulator - INFO - Date = 2020-03-06 00:00:00, number of deaths =  0, number of infected = 98\n",
      "2020-08-30 10:31:13,771 - june.simulator - INFO - Date = 2020-03-06 01:00:00, number of deaths =  0, number of infected = 99\n",
      "2020-08-30 10:31:14,327 - june.simulator - INFO - Date = 2020-03-06 09:00:00, number of deaths =  0, number of infected = 126\n",
      "2020-08-30 10:31:15,204 - june.simulator - INFO - Date = 2020-03-06 10:00:00, number of deaths =  0, number of infected = 127\n",
      "2020-08-30 10:31:15,500 - june.simulator - INFO - Date = 2020-03-06 13:00:00, number of deaths =  0, number of infected = 133\n",
      "2020-08-30 10:31:16,129 - june.simulator - INFO - Date = 2020-03-07 00:00:00, number of deaths =  0, number of infected = 143\n",
      "2020-08-30 10:31:16,713 - june.simulator - INFO - Date = 2020-03-07 04:00:00, number of deaths =  0, number of infected = 146\n",
      "2020-08-30 10:31:17,315 - june.simulator - INFO - Date = 2020-03-07 08:00:00, number of deaths =  0, number of infected = 150\n",
      "2020-08-30 10:31:17,590 - june.simulator - INFO - Date = 2020-03-07 12:00:00, number of deaths =  0, number of infected = 155\n",
      "2020-08-30 10:31:18,208 - june.simulator - INFO - Date = 2020-03-08 00:00:00, number of deaths =  0, number of infected = 167\n",
      "2020-08-30 10:31:18,838 - june.simulator - INFO - Date = 2020-03-08 04:00:00, number of deaths =  0, number of infected = 172\n",
      "2020-08-30 10:31:19,492 - june.simulator - INFO - Date = 2020-03-08 08:00:00, number of deaths =  0, number of infected = 173\n",
      "2020-08-30 10:31:19,748 - june.simulator - INFO - Date = 2020-03-08 12:00:00, number of deaths =  0, number of infected = 176\n",
      "2020-08-30 10:31:20,060 - june.simulator - INFO - Date = 2020-03-09 00:00:00, number of deaths =  0, number of infected = 185\n",
      "2020-08-30 10:31:20,449 - june.simulator - INFO - Date = 2020-03-09 01:00:00, number of deaths =  0, number of infected = 185\n",
      "2020-08-30 10:31:21,575 - june.simulator - INFO - Date = 2020-03-09 09:00:00, number of deaths =  0, number of infected = 209\n",
      "2020-08-30 10:31:22,205 - june.simulator - INFO - Date = 2020-03-09 10:00:00, number of deaths =  0, number of infected = 209\n",
      "2020-08-30 10:31:22,496 - june.simulator - INFO - Date = 2020-03-09 13:00:00, number of deaths =  0, number of infected = 210\n",
      "2020-08-30 10:31:22,801 - june.simulator - INFO - Date = 2020-03-10 00:00:00, number of deaths =  0, number of infected = 214\n",
      "2020-08-30 10:31:23,168 - june.simulator - INFO - Date = 2020-03-10 01:00:00, number of deaths =  0, number of infected = 214\n",
      "2020-08-30 10:31:23,450 - june.simulator - INFO - Date = 2020-03-10 09:00:00, number of deaths =  0, number of infected = 252\n",
      "2020-08-30 10:31:24,089 - june.simulator - INFO - Date = 2020-03-10 10:00:00, number of deaths =  0, number of infected = 256\n",
      "2020-08-30 10:31:24,374 - june.simulator - INFO - Date = 2020-03-10 13:00:00, number of deaths =  0, number of infected = 261\n",
      "2020-08-30 10:31:24,666 - june.simulator - INFO - Date = 2020-03-11 00:00:00, number of deaths =  0, number of infected = 268\n",
      "2020-08-30 10:31:25,073 - june.simulator - INFO - Date = 2020-03-11 01:00:00, number of deaths =  0, number of infected = 270\n",
      "2020-08-30 10:31:25,380 - june.simulator - INFO - Date = 2020-03-11 09:00:00, number of deaths =  0, number of infected = 317\n",
      "2020-08-30 10:31:26,090 - june.simulator - INFO - Date = 2020-03-11 10:00:00, number of deaths =  0, number of infected = 320\n",
      "2020-08-30 10:31:26,372 - june.simulator - INFO - Date = 2020-03-11 13:00:00, number of deaths =  0, number of infected = 324\n",
      "2020-08-30 10:31:26,693 - june.simulator - INFO - Date = 2020-03-12 00:00:00, number of deaths =  0, number of infected = 339\n",
      "2020-08-30 10:31:27,091 - june.simulator - INFO - Date = 2020-03-12 01:00:00, number of deaths =  0, number of infected = 340\n",
      "2020-08-30 10:31:27,824 - june.simulator - INFO - Date = 2020-03-12 09:00:00, number of deaths =  0, number of infected = 372\n",
      "2020-08-30 10:31:28,479 - june.simulator - INFO - Date = 2020-03-12 10:00:00, number of deaths =  0, number of infected = 373\n",
      "2020-08-30 10:31:28,747 - june.simulator - INFO - Date = 2020-03-12 13:00:00, number of deaths =  0, number of infected = 378\n",
      "2020-08-30 10:31:29,041 - june.simulator - INFO - Date = 2020-03-13 00:00:00, number of deaths =  0, number of infected = 396\n",
      "2020-08-30 10:31:29,422 - june.simulator - INFO - Date = 2020-03-13 01:00:00, number of deaths =  0, number of infected = 398\n",
      "2020-08-30 10:31:29,984 - june.simulator - INFO - Date = 2020-03-13 09:00:00, number of deaths =  0, number of infected = 456\n",
      "2020-08-30 10:31:30,628 - june.simulator - INFO - Date = 2020-03-13 10:00:00, number of deaths =  0, number of infected = 459\n",
      "2020-08-30 10:31:30,897 - june.simulator - INFO - Date = 2020-03-13 13:00:00, number of deaths =  0, number of infected = 471\n",
      "2020-08-30 10:31:31,518 - june.simulator - INFO - Date = 2020-03-14 00:00:00, number of deaths =  0, number of infected = 494\n",
      "2020-08-30 10:31:32,171 - june.simulator - INFO - Date = 2020-03-14 04:00:00, number of deaths =  0, number of infected = 508\n"
     ]
    },
    {
     "name": "stdout",
     "output_type": "stream",
     "text": [
      "2020-08-30 10:31:32,799 - june.simulator - INFO - Date = 2020-03-14 08:00:00, number of deaths =  0, number of infected = 516\n",
      "2020-08-30 10:31:33,096 - june.simulator - INFO - Date = 2020-03-14 12:00:00, number of deaths =  0, number of infected = 525\n",
      "2020-08-30 10:31:33,707 - june.simulator - INFO - Date = 2020-03-15 00:00:00, number of deaths =  0, number of infected = 557\n",
      "2020-08-30 10:31:34,277 - june.simulator - INFO - Date = 2020-03-15 04:00:00, number of deaths =  0, number of infected = 570\n",
      "2020-08-30 10:31:34,867 - june.simulator - INFO - Date = 2020-03-15 08:00:00, number of deaths =  0, number of infected = 583\n",
      "2020-08-30 10:31:35,135 - june.simulator - INFO - Date = 2020-03-15 12:00:00, number of deaths =  0, number of infected = 599\n",
      "2020-08-30 10:31:35,628 - june.simulator - INFO - Date = 2020-03-16 00:00:00, number of deaths =  0, number of infected = 638\n",
      "2020-08-30 10:31:36,262 - june.simulator - INFO - Date = 2020-03-16 01:00:00, number of deaths =  0, number of infected = 641\n",
      "2020-08-30 10:31:37,192 - june.simulator - INFO - Date = 2020-03-16 09:00:00, number of deaths =  0, number of infected = 707\n",
      "2020-08-30 10:31:38,040 - june.simulator - INFO - Date = 2020-03-16 10:00:00, number of deaths =  0, number of infected = 712\n",
      "2020-08-30 10:31:38,531 - june.simulator - INFO - Date = 2020-03-16 13:00:00, number of deaths =  0, number of infected = 721\n",
      "2020-08-30 10:31:39,050 - june.simulator - INFO - Date = 2020-03-17 00:00:00, number of deaths =  0, number of infected = 752\n",
      "2020-08-30 10:31:39,725 - june.simulator - INFO - Date = 2020-03-17 01:00:00, number of deaths =  0, number of infected = 756\n",
      "2020-08-30 10:31:40,240 - june.simulator - INFO - Date = 2020-03-17 09:00:00, number of deaths =  0, number of infected = 819\n",
      "2020-08-30 10:31:41,148 - june.simulator - INFO - Date = 2020-03-17 10:00:00, number of deaths =  0, number of infected = 823\n",
      "2020-08-30 10:31:41,612 - june.simulator - INFO - Date = 2020-03-17 13:00:00, number of deaths =  0, number of infected = 833\n",
      "2020-08-30 10:31:42,087 - june.simulator - INFO - Date = 2020-03-18 00:00:00, number of deaths =  0, number of infected = 858\n",
      "2020-08-30 10:31:42,723 - june.simulator - INFO - Date = 2020-03-18 01:00:00, number of deaths =  0, number of infected = 863\n",
      "2020-08-30 10:31:43,284 - june.simulator - INFO - Date = 2020-03-18 09:00:00, number of deaths =  0, number of infected = 960\n",
      "2020-08-30 10:31:44,107 - june.simulator - INFO - Date = 2020-03-18 10:00:00, number of deaths =  0, number of infected = 965\n",
      "2020-08-30 10:31:44,585 - june.simulator - INFO - Date = 2020-03-18 13:00:00, number of deaths =  0, number of infected = 971\n",
      "2020-08-30 10:31:45,093 - june.simulator - INFO - Date = 2020-03-19 00:00:00, number of deaths =  0, number of infected = 1010\n",
      "2020-08-30 10:31:45,730 - june.simulator - INFO - Date = 2020-03-19 01:00:00, number of deaths =  0, number of infected = 1012\n",
      "2020-08-30 10:31:46,234 - june.simulator - INFO - Date = 2020-03-19 09:00:00, number of deaths =  0, number of infected = 1116\n",
      "2020-08-30 10:31:47,073 - june.simulator - INFO - Date = 2020-03-19 10:00:00, number of deaths =  0, number of infected = 1121\n",
      "2020-08-30 10:31:47,584 - june.simulator - INFO - Date = 2020-03-19 13:00:00, number of deaths =  0, number of infected = 1135\n",
      "2020-08-30 10:31:48,236 - june.simulator - INFO - Date = 2020-03-20 00:00:00, number of deaths =  0, number of infected = 1181\n",
      "2020-08-30 10:31:49,314 - june.simulator - INFO - Date = 2020-03-20 01:00:00, number of deaths =  0, number of infected = 1184\n",
      "2020-08-30 10:31:50,044 - june.simulator - INFO - Date = 2020-03-20 09:00:00, number of deaths =  0, number of infected = 1237\n",
      "2020-08-30 10:31:51,076 - june.simulator - INFO - Date = 2020-03-20 10:00:00, number of deaths =  0, number of infected = 1243\n",
      "2020-08-30 10:31:51,724 - june.simulator - INFO - Date = 2020-03-20 13:00:00, number of deaths =  0, number of infected = 1259\n",
      "2020-08-30 10:31:52,674 - june.simulator - INFO - Date = 2020-03-21 00:00:00, number of deaths =  0, number of infected = 1305\n",
      "2020-08-30 10:31:53,603 - june.simulator - INFO - Date = 2020-03-21 04:00:00, number of deaths =  0, number of infected = 1323\n",
      "2020-08-30 10:31:54,504 - june.simulator - INFO - Date = 2020-03-21 08:00:00, number of deaths =  0, number of infected = 1340\n",
      "2020-08-30 10:31:55,121 - june.simulator - INFO - Date = 2020-03-21 12:00:00, number of deaths =  0, number of infected = 1355\n",
      "2020-08-30 10:31:56,047 - june.simulator - INFO - Date = 2020-03-22 00:00:00, number of deaths =  0, number of infected = 1402\n",
      "2020-08-30 10:31:56,989 - june.simulator - INFO - Date = 2020-03-22 04:00:00, number of deaths =  0, number of infected = 1424\n",
      "2020-08-30 10:31:58,022 - june.simulator - INFO - Date = 2020-03-22 08:00:00, number of deaths =  0, number of infected = 1460\n",
      "2020-08-30 10:31:58,691 - june.simulator - INFO - Date = 2020-03-22 12:00:00, number of deaths =  0, number of infected = 1483\n",
      "2020-08-30 10:31:59,393 - june.simulator - INFO - Date = 2020-03-23 00:00:00, number of deaths =  0, number of infected = 1525\n",
      "2020-08-30 10:32:00,433 - june.simulator - INFO - Date = 2020-03-23 01:00:00, number of deaths =  0, number of infected = 1531\n",
      "2020-08-30 10:32:01,346 - june.simulator - INFO - Date = 2020-03-23 09:00:00, number of deaths =  0, number of infected = 1589\n",
      "2020-08-30 10:32:02,728 - june.simulator - INFO - Date = 2020-03-23 10:00:00, number of deaths =  0, number of infected = 1592\n",
      "2020-08-30 10:32:03,478 - june.simulator - INFO - Date = 2020-03-23 13:00:00, number of deaths =  0, number of infected = 1606\n",
      "2020-08-30 10:32:04,252 - june.simulator - INFO - Date = 2020-03-24 00:00:00, number of deaths =  0, number of infected = 1671\n",
      "2020-08-30 10:32:05,670 - june.simulator - INFO - Date = 2020-03-24 01:00:00, number of deaths =  0, number of infected = 1675\n",
      "2020-08-30 10:32:06,668 - june.simulator - INFO - Date = 2020-03-24 09:00:00, number of deaths =  0, number of infected = 1719\n",
      "2020-08-30 10:32:07,875 - june.simulator - INFO - Date = 2020-03-24 10:00:00, number of deaths =  0, number of infected = 1721\n",
      "2020-08-30 10:32:08,832 - june.simulator - INFO - Date = 2020-03-24 13:00:00, number of deaths =  0, number of infected = 1727\n",
      "2020-08-30 10:32:09,810 - june.simulator - INFO - Date = 2020-03-25 00:00:00, number of deaths =  0, number of infected = 1772\n",
      "2020-08-30 10:32:10,760 - june.simulator - INFO - Date = 2020-03-25 01:00:00, number of deaths =  0, number of infected = 1775\n",
      "2020-08-30 10:32:11,444 - june.simulator - INFO - Date = 2020-03-25 09:00:00, number of deaths =  0, number of infected = 1818\n",
      "2020-08-30 10:32:12,293 - june.simulator - INFO - Date = 2020-03-25 10:00:00, number of deaths =  0, number of infected = 1820\n",
      "2020-08-30 10:32:12,933 - june.simulator - INFO - Date = 2020-03-25 13:00:00, number of deaths =  0, number of infected = 1834\n",
      "2020-08-30 10:32:13,640 - june.simulator - INFO - Date = 2020-03-26 00:00:00, number of deaths =  0, number of infected = 1858\n",
      "2020-08-30 10:32:14,629 - june.simulator - INFO - Date = 2020-03-26 01:00:00, number of deaths =  0, number of infected = 1859\n",
      "2020-08-30 10:32:15,309 - june.simulator - INFO - Date = 2020-03-26 09:00:00, number of deaths =  0, number of infected = 1895\n",
      "2020-08-30 10:32:16,367 - june.simulator - INFO - Date = 2020-03-26 10:00:00, number of deaths =  0, number of infected = 1897\n",
      "2020-08-30 10:32:16,984 - june.simulator - INFO - Date = 2020-03-26 13:00:00, number of deaths =  0, number of infected = 1908\n",
      "2020-08-30 10:32:17,642 - june.simulator - INFO - Date = 2020-03-27 00:00:00, number of deaths =  0, number of infected = 1953\n",
      "2020-08-30 10:32:18,665 - june.simulator - INFO - Date = 2020-03-27 01:00:00, number of deaths =  0, number of infected = 1953\n",
      "2020-08-30 10:32:19,334 - june.simulator - INFO - Date = 2020-03-27 09:00:00, number of deaths =  0, number of infected = 1993\n",
      "2020-08-30 10:32:20,199 - june.simulator - INFO - Date = 2020-03-27 10:00:00, number of deaths =  0, number of infected = 1998\n",
      "2020-08-30 10:32:20,839 - june.simulator - INFO - Date = 2020-03-27 13:00:00, number of deaths =  0, number of infected = 2008\n",
      "2020-08-30 10:32:21,704 - june.simulator - INFO - Date = 2020-03-28 00:00:00, number of deaths =  0, number of infected = 2027\n"
     ]
    },
    {
     "name": "stdout",
     "output_type": "stream",
     "text": [
      "2020-08-30 10:32:22,545 - june.simulator - INFO - Date = 2020-03-28 04:00:00, number of deaths =  0, number of infected = 2043\n",
      "2020-08-30 10:32:23,466 - june.simulator - INFO - Date = 2020-03-28 08:00:00, number of deaths =  0, number of infected = 2052\n",
      "2020-08-30 10:32:24,084 - june.simulator - INFO - Date = 2020-03-28 12:00:00, number of deaths =  0, number of infected = 2057\n",
      "2020-08-30 10:32:24,916 - june.simulator - INFO - Date = 2020-03-29 00:00:00, number of deaths =  0, number of infected = 2081\n",
      "2020-08-30 10:32:25,788 - june.simulator - INFO - Date = 2020-03-29 04:00:00, number of deaths =  0, number of infected = 2085\n",
      "2020-08-30 10:32:26,801 - june.simulator - INFO - Date = 2020-03-29 08:00:00, number of deaths =  0, number of infected = 2092\n",
      "2020-08-30 10:32:27,618 - june.simulator - INFO - Date = 2020-03-29 12:00:00, number of deaths =  0, number of infected = 2108\n",
      "2020-08-30 10:32:28,369 - june.simulator - INFO - Date = 2020-03-30 00:00:00, number of deaths =  0, number of infected = 2134\n",
      "2020-08-30 10:32:29,497 - june.simulator - INFO - Date = 2020-03-30 01:00:00, number of deaths =  0, number of infected = 2135\n",
      "2020-08-30 10:32:30,229 - june.simulator - INFO - Date = 2020-03-30 09:00:00, number of deaths =  0, number of infected = 2149\n",
      "2020-08-30 10:32:31,127 - june.simulator - INFO - Date = 2020-03-30 10:00:00, number of deaths =  0, number of infected = 2150\n",
      "2020-08-30 10:32:31,834 - june.simulator - INFO - Date = 2020-03-30 13:00:00, number of deaths =  0, number of infected = 2157\n",
      "2020-08-30 10:32:32,606 - june.simulator - INFO - Date = 2020-03-31 00:00:00, number of deaths =  0, number of infected = 2173\n",
      "2020-08-30 10:32:33,958 - june.simulator - INFO - Date = 2020-03-31 01:00:00, number of deaths =  0, number of infected = 2172\n",
      "2020-08-30 10:32:34,783 - june.simulator - INFO - Date = 2020-03-31 09:00:00, number of deaths =  1, number of infected = 2195\n",
      "2020-08-30 10:32:35,806 - june.simulator - INFO - Date = 2020-03-31 10:00:00, number of deaths =  1, number of infected = 2196\n",
      "2020-08-30 10:32:36,448 - june.simulator - INFO - Date = 2020-03-31 13:00:00, number of deaths =  1, number of infected = 2200\n",
      "2020-08-30 10:32:37,263 - june.simulator - INFO - Date = 2020-04-01 00:00:00, number of deaths =  1, number of infected = 2202\n",
      "2020-08-30 10:32:38,550 - june.simulator - INFO - Date = 2020-04-01 01:00:00, number of deaths =  1, number of infected = 2205\n",
      "2020-08-30 10:32:39,392 - june.simulator - INFO - Date = 2020-04-01 09:00:00, number of deaths =  1, number of infected = 2204\n",
      "2020-08-30 10:32:40,823 - june.simulator - INFO - Date = 2020-04-01 10:00:00, number of deaths =  1, number of infected = 2207\n",
      "2020-08-30 10:32:41,643 - june.simulator - INFO - Date = 2020-04-01 13:00:00, number of deaths =  1, number of infected = 2212\n",
      "2020-08-30 10:32:42,385 - june.simulator - INFO - Date = 2020-04-02 00:00:00, number of deaths =  2, number of infected = 2209\n",
      "2020-08-30 10:32:43,354 - june.simulator - INFO - Date = 2020-04-02 01:00:00, number of deaths =  2, number of infected = 2205\n",
      "2020-08-30 10:32:44,088 - june.simulator - INFO - Date = 2020-04-02 09:00:00, number of deaths =  2, number of infected = 2209\n",
      "2020-08-30 10:32:45,039 - june.simulator - INFO - Date = 2020-04-02 10:00:00, number of deaths =  2, number of infected = 2206\n",
      "2020-08-30 10:32:45,784 - june.simulator - INFO - Date = 2020-04-02 13:00:00, number of deaths =  2, number of infected = 2205\n",
      "2020-08-30 10:32:46,464 - june.simulator - INFO - Date = 2020-04-03 00:00:00, number of deaths =  3, number of infected = 2198\n",
      "2020-08-30 10:32:47,459 - june.simulator - INFO - Date = 2020-04-03 01:00:00, number of deaths =  3, number of infected = 2200\n",
      "2020-08-30 10:32:48,132 - june.simulator - INFO - Date = 2020-04-03 09:00:00, number of deaths =  3, number of infected = 2191\n",
      "2020-08-30 10:32:49,018 - june.simulator - INFO - Date = 2020-04-03 10:00:00, number of deaths =  3, number of infected = 2189\n",
      "2020-08-30 10:32:49,683 - june.simulator - INFO - Date = 2020-04-03 13:00:00, number of deaths =  3, number of infected = 2197\n",
      "2020-08-30 10:32:50,554 - june.simulator - INFO - Date = 2020-04-04 00:00:00, number of deaths =  3, number of infected = 2189\n",
      "2020-08-30 10:32:51,538 - june.simulator - INFO - Date = 2020-04-04 04:00:00, number of deaths =  3, number of infected = 2187\n",
      "2020-08-30 10:32:52,470 - june.simulator - INFO - Date = 2020-04-04 08:00:00, number of deaths =  3, number of infected = 2185\n",
      "2020-08-30 10:32:53,164 - june.simulator - INFO - Date = 2020-04-04 12:00:00, number of deaths =  3, number of infected = 2178\n",
      "2020-08-30 10:32:54,096 - june.simulator - INFO - Date = 2020-04-05 00:00:00, number of deaths =  3, number of infected = 2145\n",
      "2020-08-30 10:32:55,086 - june.simulator - INFO - Date = 2020-04-05 04:00:00, number of deaths =  3, number of infected = 2137\n",
      "2020-08-30 10:32:55,950 - june.simulator - INFO - Date = 2020-04-05 08:00:00, number of deaths =  3, number of infected = 2136\n",
      "2020-08-30 10:32:56,628 - june.simulator - INFO - Date = 2020-04-05 12:00:00, number of deaths =  3, number of infected = 2124\n",
      "2020-08-30 10:32:57,267 - june.simulator - INFO - Date = 2020-04-06 00:00:00, number of deaths =  3, number of infected = 2095\n",
      "2020-08-30 10:32:58,279 - june.simulator - INFO - Date = 2020-04-06 01:00:00, number of deaths =  3, number of infected = 2095\n",
      "2020-08-30 10:32:58,936 - june.simulator - INFO - Date = 2020-04-06 09:00:00, number of deaths =  3, number of infected = 2075\n",
      "2020-08-30 10:32:59,901 - june.simulator - INFO - Date = 2020-04-06 10:00:00, number of deaths =  3, number of infected = 2073\n",
      "2020-08-30 10:33:00,600 - june.simulator - INFO - Date = 2020-04-06 13:00:00, number of deaths =  3, number of infected = 2059\n",
      "2020-08-30 10:33:01,324 - june.simulator - INFO - Date = 2020-04-07 00:00:00, number of deaths =  3, number of infected = 2037\n",
      "2020-08-30 10:33:02,360 - june.simulator - INFO - Date = 2020-04-07 01:00:00, number of deaths =  3, number of infected = 2034\n",
      "2020-08-30 10:33:03,052 - june.simulator - INFO - Date = 2020-04-07 09:00:00, number of deaths =  3, number of infected = 2020\n",
      "2020-08-30 10:33:03,934 - june.simulator - INFO - Date = 2020-04-07 10:00:00, number of deaths =  3, number of infected = 2016\n",
      "2020-08-30 10:33:04,611 - june.simulator - INFO - Date = 2020-04-07 13:00:00, number of deaths =  3, number of infected = 2010\n",
      "2020-08-30 10:33:05,278 - june.simulator - INFO - Date = 2020-04-08 00:00:00, number of deaths =  3, number of infected = 1978\n",
      "2020-08-30 10:33:06,268 - june.simulator - INFO - Date = 2020-04-08 01:00:00, number of deaths =  3, number of infected = 1974\n",
      "2020-08-30 10:33:06,941 - june.simulator - INFO - Date = 2020-04-08 09:00:00, number of deaths =  3, number of infected = 1940\n",
      "2020-08-30 10:33:07,825 - june.simulator - INFO - Date = 2020-04-08 10:00:00, number of deaths =  3, number of infected = 1938\n",
      "2020-08-30 10:33:08,458 - june.simulator - INFO - Date = 2020-04-08 13:00:00, number of deaths =  3, number of infected = 1931\n",
      "2020-08-30 10:33:09,109 - june.simulator - INFO - Date = 2020-04-09 00:00:00, number of deaths =  4, number of infected = 1897\n",
      "2020-08-30 10:33:10,089 - june.simulator - INFO - Date = 2020-04-09 01:00:00, number of deaths =  4, number of infected = 1893\n",
      "2020-08-30 10:33:10,755 - june.simulator - INFO - Date = 2020-04-09 09:00:00, number of deaths =  4, number of infected = 1870\n",
      "2020-08-30 10:33:11,589 - june.simulator - INFO - Date = 2020-04-09 10:00:00, number of deaths =  4, number of infected = 1870\n",
      "2020-08-30 10:33:12,223 - june.simulator - INFO - Date = 2020-04-09 13:00:00, number of deaths =  5, number of infected = 1858\n",
      "2020-08-30 10:33:12,886 - june.simulator - INFO - Date = 2020-04-10 00:00:00, number of deaths =  5, number of infected = 1810\n",
      "2020-08-30 10:33:13,968 - june.simulator - INFO - Date = 2020-04-10 01:00:00, number of deaths =  5, number of infected = 1803\n",
      "2020-08-30 10:33:14,640 - june.simulator - INFO - Date = 2020-04-10 09:00:00, number of deaths =  5, number of infected = 1782\n",
      "2020-08-30 10:33:15,516 - june.simulator - INFO - Date = 2020-04-10 10:00:00, number of deaths =  6, number of infected = 1776\n",
      "2020-08-30 10:33:16,185 - june.simulator - INFO - Date = 2020-04-10 13:00:00, number of deaths =  6, number of infected = 1762\n"
     ]
    },
    {
     "name": "stdout",
     "output_type": "stream",
     "text": [
      "2020-08-30 10:33:17,022 - june.simulator - INFO - Date = 2020-04-11 00:00:00, number of deaths =  6, number of infected = 1724\n",
      "2020-08-30 10:33:17,861 - june.simulator - INFO - Date = 2020-04-11 04:00:00, number of deaths =  6, number of infected = 1702\n",
      "2020-08-30 10:33:18,727 - june.simulator - INFO - Date = 2020-04-11 08:00:00, number of deaths =  6, number of infected = 1690\n",
      "2020-08-30 10:33:19,387 - june.simulator - INFO - Date = 2020-04-11 12:00:00, number of deaths =  6, number of infected = 1677\n",
      "2020-08-30 10:33:20,239 - june.simulator - INFO - Date = 2020-04-12 00:00:00, number of deaths =  6, number of infected = 1635\n",
      "2020-08-30 10:33:21,114 - june.simulator - INFO - Date = 2020-04-12 04:00:00, number of deaths =  6, number of infected = 1604\n",
      "2020-08-30 10:33:21,953 - june.simulator - INFO - Date = 2020-04-12 08:00:00, number of deaths =  6, number of infected = 1592\n",
      "2020-08-30 10:33:22,598 - june.simulator - INFO - Date = 2020-04-12 12:00:00, number of deaths =  7, number of infected = 1583\n",
      "2020-08-30 10:33:23,250 - june.simulator - INFO - Date = 2020-04-13 00:00:00, number of deaths =  8, number of infected = 1536\n",
      "2020-08-30 10:33:24,181 - june.simulator - INFO - Date = 2020-04-13 01:00:00, number of deaths =  8, number of infected = 1534\n",
      "2020-08-30 10:33:24,845 - june.simulator - INFO - Date = 2020-04-13 09:00:00, number of deaths =  8, number of infected = 1508\n",
      "2020-08-30 10:33:25,770 - june.simulator - INFO - Date = 2020-04-13 10:00:00, number of deaths =  8, number of infected = 1506\n",
      "2020-08-30 10:33:26,395 - june.simulator - INFO - Date = 2020-04-13 13:00:00, number of deaths =  9, number of infected = 1492\n",
      "2020-08-30 10:33:27,021 - june.simulator - INFO - Date = 2020-04-14 00:00:00, number of deaths =  9, number of infected = 1437\n",
      "2020-08-30 10:33:27,991 - june.simulator - INFO - Date = 2020-04-14 01:00:00, number of deaths =  9, number of infected = 1435\n",
      "2020-08-30 10:33:28,636 - june.simulator - INFO - Date = 2020-04-14 09:00:00, number of deaths =  9, number of infected = 1408\n",
      "2020-08-30 10:33:29,564 - june.simulator - INFO - Date = 2020-04-14 10:00:00, number of deaths =  9, number of infected = 1406\n",
      "2020-08-30 10:33:30,202 - june.simulator - INFO - Date = 2020-04-14 13:00:00, number of deaths =  9, number of infected = 1393\n",
      "2020-08-30 10:33:30,868 - june.simulator - INFO - Date = 2020-04-15 00:00:00, number of deaths =  9, number of infected = 1354\n",
      "2020-08-30 10:33:31,900 - june.simulator - INFO - Date = 2020-04-15 01:00:00, number of deaths =  9, number of infected = 1348\n",
      "2020-08-30 10:33:32,584 - june.simulator - INFO - Date = 2020-04-15 09:00:00, number of deaths =  9, number of infected = 1304\n",
      "2020-08-30 10:33:33,566 - june.simulator - INFO - Date = 2020-04-15 10:00:00, number of deaths =  9, number of infected = 1302\n",
      "2020-08-30 10:33:34,240 - june.simulator - INFO - Date = 2020-04-15 13:00:00, number of deaths =  9, number of infected = 1284\n",
      "2020-08-30 10:33:34,886 - june.simulator - INFO - Date = 2020-04-16 00:00:00, number of deaths =  9, number of infected = 1221\n",
      "2020-08-30 10:33:35,895 - june.simulator - INFO - Date = 2020-04-16 01:00:00, number of deaths =  9, number of infected = 1220\n",
      "2020-08-30 10:33:36,567 - june.simulator - INFO - Date = 2020-04-16 09:00:00, number of deaths =  9, number of infected = 1188\n",
      "2020-08-30 10:33:37,441 - june.simulator - INFO - Date = 2020-04-16 10:00:00, number of deaths =  9, number of infected = 1184\n",
      "2020-08-30 10:33:38,057 - june.simulator - INFO - Date = 2020-04-16 13:00:00, number of deaths =  9, number of infected = 1170\n",
      "2020-08-30 10:33:38,695 - june.simulator - INFO - Date = 2020-04-17 00:00:00, number of deaths =  9, number of infected = 1123\n",
      "2020-08-30 10:33:39,638 - june.simulator - INFO - Date = 2020-04-17 01:00:00, number of deaths =  9, number of infected = 1119\n",
      "2020-08-30 10:33:40,300 - june.simulator - INFO - Date = 2020-04-17 09:00:00, number of deaths =  9, number of infected = 1098\n",
      "2020-08-30 10:33:41,209 - june.simulator - INFO - Date = 2020-04-17 10:00:00, number of deaths =  9, number of infected = 1095\n",
      "2020-08-30 10:33:41,870 - june.simulator - INFO - Date = 2020-04-17 13:00:00, number of deaths =  9, number of infected = 1083\n",
      "2020-08-30 10:33:42,725 - june.simulator - INFO - Date = 2020-04-18 00:00:00, number of deaths =  9, number of infected = 1047\n",
      "2020-08-30 10:33:43,606 - june.simulator - INFO - Date = 2020-04-18 04:00:00, number of deaths =  9, number of infected = 1037\n",
      "2020-08-30 10:33:44,478 - june.simulator - INFO - Date = 2020-04-18 08:00:00, number of deaths =  9, number of infected = 1018\n",
      "2020-08-30 10:33:45,116 - june.simulator - INFO - Date = 2020-04-18 12:00:00, number of deaths =  9, number of infected = 1012\n",
      "2020-08-30 10:33:45,968 - june.simulator - INFO - Date = 2020-04-19 00:00:00, number of deaths =  9, number of infected = 974\n",
      "2020-08-30 10:33:46,835 - june.simulator - INFO - Date = 2020-04-19 04:00:00, number of deaths =  9, number of infected = 960\n",
      "2020-08-30 10:33:47,691 - june.simulator - INFO - Date = 2020-04-19 08:00:00, number of deaths =  9, number of infected = 949\n",
      "2020-08-30 10:33:48,290 - june.simulator - INFO - Date = 2020-04-19 12:00:00, number of deaths =  9, number of infected = 936\n",
      "2020-08-30 10:33:48,915 - june.simulator - INFO - Date = 2020-04-20 00:00:00, number of deaths =  9, number of infected = 893\n",
      "2020-08-30 10:33:49,970 - june.simulator - INFO - Date = 2020-04-20 01:00:00, number of deaths =  9, number of infected = 885\n",
      "2020-08-30 10:33:50,607 - june.simulator - INFO - Date = 2020-04-20 09:00:00, number of deaths =  9, number of infected = 870\n",
      "2020-08-30 10:33:51,463 - june.simulator - INFO - Date = 2020-04-20 10:00:00, number of deaths =  10, number of infected = 862\n",
      "2020-08-30 10:33:52,126 - june.simulator - INFO - Date = 2020-04-20 13:00:00, number of deaths =  10, number of infected = 843\n",
      "2020-08-30 10:33:52,763 - june.simulator - INFO - Date = 2020-04-21 00:00:00, number of deaths =  10, number of infected = 799\n",
      "2020-08-30 10:33:53,757 - june.simulator - INFO - Date = 2020-04-21 01:00:00, number of deaths =  10, number of infected = 798\n",
      "2020-08-30 10:33:54,379 - june.simulator - INFO - Date = 2020-04-21 09:00:00, number of deaths =  10, number of infected = 774\n",
      "2020-08-30 10:33:55,285 - june.simulator - INFO - Date = 2020-04-21 10:00:00, number of deaths =  10, number of infected = 773\n",
      "2020-08-30 10:33:55,907 - june.simulator - INFO - Date = 2020-04-21 13:00:00, number of deaths =  10, number of infected = 769\n",
      "2020-08-30 10:33:56,547 - june.simulator - INFO - Date = 2020-04-22 00:00:00, number of deaths =  10, number of infected = 742\n",
      "2020-08-30 10:33:57,499 - june.simulator - INFO - Date = 2020-04-22 01:00:00, number of deaths =  10, number of infected = 740\n",
      "2020-08-30 10:33:58,173 - june.simulator - INFO - Date = 2020-04-22 09:00:00, number of deaths =  10, number of infected = 732\n",
      "2020-08-30 10:33:59,036 - june.simulator - INFO - Date = 2020-04-22 10:00:00, number of deaths =  10, number of infected = 731\n",
      "2020-08-30 10:33:59,671 - june.simulator - INFO - Date = 2020-04-22 13:00:00, number of deaths =  10, number of infected = 725\n",
      "2020-08-30 10:34:00,300 - june.simulator - INFO - Date = 2020-04-23 00:00:00, number of deaths =  10, number of infected = 702\n",
      "2020-08-30 10:34:01,262 - june.simulator - INFO - Date = 2020-04-23 01:00:00, number of deaths =  10, number of infected = 702\n",
      "2020-08-30 10:34:01,876 - june.simulator - INFO - Date = 2020-04-23 09:00:00, number of deaths =  11, number of infected = 689\n",
      "2020-08-30 10:34:02,752 - june.simulator - INFO - Date = 2020-04-23 10:00:00, number of deaths =  11, number of infected = 685\n",
      "2020-08-30 10:34:03,359 - june.simulator - INFO - Date = 2020-04-23 13:00:00, number of deaths =  11, number of infected = 672\n",
      "2020-08-30 10:34:03,971 - june.simulator - INFO - Date = 2020-04-24 00:00:00, number of deaths =  12, number of infected = 653\n",
      "2020-08-30 10:34:04,913 - june.simulator - INFO - Date = 2020-04-24 01:00:00, number of deaths =  12, number of infected = 652\n",
      "2020-08-30 10:34:05,530 - june.simulator - INFO - Date = 2020-04-24 09:00:00, number of deaths =  12, number of infected = 642\n",
      "2020-08-30 10:34:06,392 - june.simulator - INFO - Date = 2020-04-24 10:00:00, number of deaths =  12, number of infected = 641\n"
     ]
    },
    {
     "name": "stdout",
     "output_type": "stream",
     "text": [
      "2020-08-30 10:34:06,998 - june.simulator - INFO - Date = 2020-04-24 13:00:00, number of deaths =  12, number of infected = 636\n",
      "2020-08-30 10:34:07,845 - june.simulator - INFO - Date = 2020-04-25 00:00:00, number of deaths =  12, number of infected = 623\n",
      "2020-08-30 10:34:08,711 - june.simulator - INFO - Date = 2020-04-25 04:00:00, number of deaths =  12, number of infected = 618\n",
      "2020-08-30 10:34:09,540 - june.simulator - INFO - Date = 2020-04-25 08:00:00, number of deaths =  12, number of infected = 616\n",
      "2020-08-30 10:34:10,174 - june.simulator - INFO - Date = 2020-04-25 12:00:00, number of deaths =  12, number of infected = 603\n",
      "2020-08-30 10:34:11,034 - june.simulator - INFO - Date = 2020-04-26 00:00:00, number of deaths =  12, number of infected = 580\n",
      "2020-08-30 10:34:11,863 - june.simulator - INFO - Date = 2020-04-26 04:00:00, number of deaths =  12, number of infected = 573\n",
      "2020-08-30 10:34:12,726 - june.simulator - INFO - Date = 2020-04-26 08:00:00, number of deaths =  12, number of infected = 569\n",
      "2020-08-30 10:34:13,331 - june.simulator - INFO - Date = 2020-04-26 12:00:00, number of deaths =  12, number of infected = 564\n",
      "2020-08-30 10:34:14,000 - june.simulator - INFO - Date = 2020-04-27 00:00:00, number of deaths =  12, number of infected = 552\n",
      "2020-08-30 10:34:14,981 - june.simulator - INFO - Date = 2020-04-27 01:00:00, number of deaths =  12, number of infected = 553\n",
      "2020-08-30 10:34:15,615 - june.simulator - INFO - Date = 2020-04-27 09:00:00, number of deaths =  12, number of infected = 554\n",
      "2020-08-30 10:34:16,502 - june.simulator - INFO - Date = 2020-04-27 10:00:00, number of deaths =  12, number of infected = 554\n",
      "2020-08-30 10:34:17,108 - june.simulator - INFO - Date = 2020-04-27 13:00:00, number of deaths =  12, number of infected = 550\n",
      "2020-08-30 10:34:17,740 - june.simulator - INFO - Date = 2020-04-28 00:00:00, number of deaths =  12, number of infected = 544\n",
      "2020-08-30 10:34:18,760 - june.simulator - INFO - Date = 2020-04-28 01:00:00, number of deaths =  12, number of infected = 544\n",
      "2020-08-30 10:34:19,408 - june.simulator - INFO - Date = 2020-04-28 09:00:00, number of deaths =  12, number of infected = 544\n",
      "2020-08-30 10:34:20,299 - june.simulator - INFO - Date = 2020-04-28 10:00:00, number of deaths =  12, number of infected = 543\n",
      "2020-08-30 10:34:20,908 - june.simulator - INFO - Date = 2020-04-28 13:00:00, number of deaths =  12, number of infected = 538\n",
      "2020-08-30 10:34:21,517 - june.simulator - INFO - Date = 2020-04-29 00:00:00, number of deaths =  12, number of infected = 534\n",
      "2020-08-30 10:34:22,477 - june.simulator - INFO - Date = 2020-04-29 01:00:00, number of deaths =  12, number of infected = 534\n",
      "2020-08-30 10:34:23,102 - june.simulator - INFO - Date = 2020-04-29 09:00:00, number of deaths =  12, number of infected = 527\n",
      "2020-08-30 10:34:23,996 - june.simulator - INFO - Date = 2020-04-29 10:00:00, number of deaths =  12, number of infected = 525\n",
      "2020-08-30 10:34:24,617 - june.simulator - INFO - Date = 2020-04-29 13:00:00, number of deaths =  12, number of infected = 518\n",
      "2020-08-30 10:34:25,243 - june.simulator - INFO - Date = 2020-04-30 00:00:00, number of deaths =  13, number of infected = 509\n",
      "2020-08-30 10:34:26,200 - june.simulator - INFO - Date = 2020-04-30 01:00:00, number of deaths =  13, number of infected = 507\n",
      "2020-08-30 10:34:26,818 - june.simulator - INFO - Date = 2020-04-30 09:00:00, number of deaths =  13, number of infected = 508\n",
      "2020-08-30 10:34:27,656 - june.simulator - INFO - Date = 2020-04-30 10:00:00, number of deaths =  13, number of infected = 507\n",
      "2020-08-30 10:34:28,255 - june.simulator - INFO - Date = 2020-04-30 13:00:00, number of deaths =  13, number of infected = 505\n",
      "2020-08-30 10:34:28,911 - june.simulator - INFO - Date = 2020-05-01 00:00:00, number of deaths =  13, number of infected = 499\n",
      "2020-08-30 10:34:29,931 - june.simulator - INFO - Date = 2020-05-01 01:00:00, number of deaths =  13, number of infected = 498\n",
      "2020-08-30 10:34:30,601 - june.simulator - INFO - Date = 2020-05-01 09:00:00, number of deaths =  13, number of infected = 493\n",
      "2020-08-30 10:34:31,479 - june.simulator - INFO - Date = 2020-05-01 10:00:00, number of deaths =  13, number of infected = 491\n",
      "2020-08-30 10:34:32,082 - june.simulator - INFO - Date = 2020-05-01 13:00:00, number of deaths =  13, number of infected = 493\n",
      "2020-08-30 10:34:32,945 - june.simulator - INFO - Date = 2020-05-02 00:00:00, number of deaths =  13, number of infected = 487\n",
      "2020-08-30 10:34:33,825 - june.simulator - INFO - Date = 2020-05-02 04:00:00, number of deaths =  13, number of infected = 483\n",
      "2020-08-30 10:34:34,678 - june.simulator - INFO - Date = 2020-05-02 08:00:00, number of deaths =  13, number of infected = 479\n",
      "2020-08-30 10:34:35,302 - june.simulator - INFO - Date = 2020-05-02 12:00:00, number of deaths =  13, number of infected = 474\n",
      "2020-08-30 10:34:36,166 - june.simulator - INFO - Date = 2020-05-03 00:00:00, number of deaths =  13, number of infected = 474\n",
      "2020-08-30 10:34:37,003 - june.simulator - INFO - Date = 2020-05-03 04:00:00, number of deaths =  13, number of infected = 475\n",
      "2020-08-30 10:34:37,839 - june.simulator - INFO - Date = 2020-05-03 08:00:00, number of deaths =  13, number of infected = 473\n",
      "2020-08-30 10:34:38,430 - june.simulator - INFO - Date = 2020-05-03 12:00:00, number of deaths =  13, number of infected = 469\n",
      "2020-08-30 10:34:39,057 - june.simulator - INFO - Date = 2020-05-04 00:00:00, number of deaths =  13, number of infected = 465\n",
      "2020-08-30 10:34:40,082 - june.simulator - INFO - Date = 2020-05-04 01:00:00, number of deaths =  13, number of infected = 464\n",
      "2020-08-30 10:34:40,704 - june.simulator - INFO - Date = 2020-05-04 09:00:00, number of deaths =  13, number of infected = 456\n",
      "2020-08-30 10:34:41,564 - june.simulator - INFO - Date = 2020-05-04 10:00:00, number of deaths =  13, number of infected = 456\n",
      "2020-08-30 10:34:42,175 - june.simulator - INFO - Date = 2020-05-04 13:00:00, number of deaths =  13, number of infected = 453\n",
      "2020-08-30 10:34:42,795 - june.simulator - INFO - Date = 2020-05-05 00:00:00, number of deaths =  13, number of infected = 452\n",
      "2020-08-30 10:34:43,784 - june.simulator - INFO - Date = 2020-05-05 01:00:00, number of deaths =  13, number of infected = 451\n",
      "2020-08-30 10:34:44,399 - june.simulator - INFO - Date = 2020-05-05 09:00:00, number of deaths =  13, number of infected = 443\n",
      "2020-08-30 10:34:45,307 - june.simulator - INFO - Date = 2020-05-05 10:00:00, number of deaths =  13, number of infected = 442\n",
      "2020-08-30 10:34:45,921 - june.simulator - INFO - Date = 2020-05-05 13:00:00, number of deaths =  13, number of infected = 440\n",
      "2020-08-30 10:34:46,558 - june.simulator - INFO - Date = 2020-05-06 00:00:00, number of deaths =  13, number of infected = 432\n",
      "2020-08-30 10:34:47,534 - june.simulator - INFO - Date = 2020-05-06 01:00:00, number of deaths =  13, number of infected = 432\n",
      "2020-08-30 10:34:48,177 - june.simulator - INFO - Date = 2020-05-06 09:00:00, number of deaths =  13, number of infected = 427\n",
      "2020-08-30 10:34:49,072 - june.simulator - INFO - Date = 2020-05-06 10:00:00, number of deaths =  13, number of infected = 427\n",
      "2020-08-30 10:34:49,698 - june.simulator - INFO - Date = 2020-05-06 13:00:00, number of deaths =  13, number of infected = 428\n",
      "2020-08-30 10:34:50,346 - june.simulator - INFO - Date = 2020-05-07 00:00:00, number of deaths =  14, number of infected = 426\n",
      "2020-08-30 10:34:51,326 - june.simulator - INFO - Date = 2020-05-07 01:00:00, number of deaths =  14, number of infected = 425\n",
      "2020-08-30 10:34:51,978 - june.simulator - INFO - Date = 2020-05-07 09:00:00, number of deaths =  14, number of infected = 424\n",
      "2020-08-30 10:34:52,851 - june.simulator - INFO - Date = 2020-05-07 10:00:00, number of deaths =  14, number of infected = 422\n",
      "2020-08-30 10:34:53,485 - june.simulator - INFO - Date = 2020-05-07 13:00:00, number of deaths =  14, number of infected = 421\n",
      "2020-08-30 10:34:54,130 - june.simulator - INFO - Date = 2020-05-08 00:00:00, number of deaths =  14, number of infected = 423\n",
      "2020-08-30 10:34:55,138 - june.simulator - INFO - Date = 2020-05-08 01:00:00, number of deaths =  14, number of infected = 423\n",
      "2020-08-30 10:34:55,795 - june.simulator - INFO - Date = 2020-05-08 09:00:00, number of deaths =  14, number of infected = 415\n"
     ]
    },
    {
     "name": "stdout",
     "output_type": "stream",
     "text": [
      "2020-08-30 10:34:56,682 - june.simulator - INFO - Date = 2020-05-08 10:00:00, number of deaths =  14, number of infected = 416\n",
      "2020-08-30 10:34:57,289 - june.simulator - INFO - Date = 2020-05-08 13:00:00, number of deaths =  14, number of infected = 413\n",
      "2020-08-30 10:34:58,122 - june.simulator - INFO - Date = 2020-05-09 00:00:00, number of deaths =  14, number of infected = 413\n",
      "2020-08-30 10:34:58,981 - june.simulator - INFO - Date = 2020-05-09 04:00:00, number of deaths =  14, number of infected = 411\n",
      "2020-08-30 10:34:59,819 - june.simulator - INFO - Date = 2020-05-09 08:00:00, number of deaths =  14, number of infected = 408\n",
      "2020-08-30 10:35:00,446 - june.simulator - INFO - Date = 2020-05-09 12:00:00, number of deaths =  14, number of infected = 407\n",
      "2020-08-30 10:35:01,338 - june.simulator - INFO - Date = 2020-05-10 00:00:00, number of deaths =  14, number of infected = 399\n",
      "2020-08-30 10:35:02,191 - june.simulator - INFO - Date = 2020-05-10 04:00:00, number of deaths =  14, number of infected = 398\n",
      "2020-08-30 10:35:03,036 - june.simulator - INFO - Date = 2020-05-10 08:00:00, number of deaths =  14, number of infected = 397\n",
      "2020-08-30 10:35:03,686 - june.simulator - INFO - Date = 2020-05-10 12:00:00, number of deaths =  14, number of infected = 396\n",
      "2020-08-30 10:35:04,325 - june.simulator - INFO - Date = 2020-05-11 00:00:00, number of deaths =  14, number of infected = 393\n",
      "2020-08-30 10:35:05,319 - june.simulator - INFO - Date = 2020-05-11 01:00:00, number of deaths =  14, number of infected = 393\n",
      "2020-08-30 10:35:05,990 - june.simulator - INFO - Date = 2020-05-11 09:00:00, number of deaths =  14, number of infected = 390\n",
      "2020-08-30 10:35:06,884 - june.simulator - INFO - Date = 2020-05-11 10:00:00, number of deaths =  14, number of infected = 390\n",
      "2020-08-30 10:35:07,481 - june.simulator - INFO - Date = 2020-05-11 13:00:00, number of deaths =  14, number of infected = 391\n",
      "2020-08-30 10:35:08,123 - june.simulator - INFO - Date = 2020-05-12 00:00:00, number of deaths =  14, number of infected = 382\n",
      "2020-08-30 10:35:09,124 - june.simulator - INFO - Date = 2020-05-12 01:00:00, number of deaths =  14, number of infected = 382\n",
      "2020-08-30 10:35:09,736 - june.simulator - INFO - Date = 2020-05-12 09:00:00, number of deaths =  14, number of infected = 378\n",
      "2020-08-30 10:35:10,583 - june.simulator - INFO - Date = 2020-05-12 10:00:00, number of deaths =  14, number of infected = 377\n",
      "2020-08-30 10:35:11,188 - june.simulator - INFO - Date = 2020-05-12 13:00:00, number of deaths =  14, number of infected = 377\n",
      "2020-08-30 10:35:11,857 - june.simulator - INFO - Date = 2020-05-13 00:00:00, number of deaths =  14, number of infected = 371\n",
      "2020-08-30 10:35:12,837 - june.simulator - INFO - Date = 2020-05-13 01:00:00, number of deaths =  14, number of infected = 370\n",
      "2020-08-30 10:35:13,472 - june.simulator - INFO - Date = 2020-05-13 09:00:00, number of deaths =  14, number of infected = 364\n",
      "2020-08-30 10:35:14,361 - june.simulator - INFO - Date = 2020-05-13 10:00:00, number of deaths =  14, number of infected = 365\n",
      "2020-08-30 10:35:15,008 - june.simulator - INFO - Date = 2020-05-13 13:00:00, number of deaths =  14, number of infected = 367\n",
      "2020-08-30 10:35:15,653 - june.simulator - INFO - Date = 2020-05-14 00:00:00, number of deaths =  14, number of infected = 364\n",
      "2020-08-30 10:35:16,658 - june.simulator - INFO - Date = 2020-05-14 01:00:00, number of deaths =  14, number of infected = 366\n",
      "2020-08-30 10:35:17,323 - june.simulator - INFO - Date = 2020-05-14 09:00:00, number of deaths =  14, number of infected = 365\n",
      "2020-08-30 10:35:18,181 - june.simulator - INFO - Date = 2020-05-14 10:00:00, number of deaths =  14, number of infected = 365\n",
      "2020-08-30 10:35:18,790 - june.simulator - INFO - Date = 2020-05-14 13:00:00, number of deaths =  14, number of infected = 364\n",
      "2020-08-30 10:35:19,416 - june.simulator - INFO - Date = 2020-05-15 00:00:00, number of deaths =  14, number of infected = 357\n",
      "2020-08-30 10:35:20,452 - june.simulator - INFO - Date = 2020-05-15 01:00:00, number of deaths =  14, number of infected = 357\n",
      "2020-08-30 10:35:21,073 - june.simulator - INFO - Date = 2020-05-15 09:00:00, number of deaths =  14, number of infected = 357\n",
      "2020-08-30 10:35:21,966 - june.simulator - INFO - Date = 2020-05-15 10:00:00, number of deaths =  14, number of infected = 356\n",
      "2020-08-30 10:35:22,583 - june.simulator - INFO - Date = 2020-05-15 13:00:00, number of deaths =  14, number of infected = 355\n",
      "2020-08-30 10:35:23,448 - june.simulator - INFO - Date = 2020-05-16 00:00:00, number of deaths =  14, number of infected = 349\n",
      "2020-08-30 10:35:24,331 - june.simulator - INFO - Date = 2020-05-16 04:00:00, number of deaths =  14, number of infected = 346\n",
      "2020-08-30 10:35:25,164 - june.simulator - INFO - Date = 2020-05-16 08:00:00, number of deaths =  14, number of infected = 346\n",
      "2020-08-30 10:35:25,778 - june.simulator - INFO - Date = 2020-05-16 12:00:00, number of deaths =  14, number of infected = 341\n",
      "2020-08-30 10:35:26,656 - june.simulator - INFO - Date = 2020-05-17 00:00:00, number of deaths =  14, number of infected = 339\n",
      "2020-08-30 10:35:27,508 - june.simulator - INFO - Date = 2020-05-17 04:00:00, number of deaths =  14, number of infected = 337\n",
      "2020-08-30 10:35:28,353 - june.simulator - INFO - Date = 2020-05-17 08:00:00, number of deaths =  14, number of infected = 334\n",
      "2020-08-30 10:35:28,953 - june.simulator - INFO - Date = 2020-05-17 12:00:00, number of deaths =  14, number of infected = 332\n",
      "2020-08-30 10:35:29,621 - june.simulator - INFO - Date = 2020-05-18 00:00:00, number of deaths =  14, number of infected = 324\n",
      "2020-08-30 10:35:30,671 - june.simulator - INFO - Date = 2020-05-18 01:00:00, number of deaths =  14, number of infected = 325\n",
      "2020-08-30 10:35:31,333 - june.simulator - INFO - Date = 2020-05-18 09:00:00, number of deaths =  14, number of infected = 317\n",
      "2020-08-30 10:35:32,313 - june.simulator - INFO - Date = 2020-05-18 10:00:00, number of deaths =  14, number of infected = 316\n",
      "2020-08-30 10:35:33,023 - june.simulator - INFO - Date = 2020-05-18 13:00:00, number of deaths =  14, number of infected = 317\n",
      "2020-08-30 10:35:33,743 - june.simulator - INFO - Date = 2020-05-19 00:00:00, number of deaths =  14, number of infected = 309\n",
      "2020-08-30 10:35:34,784 - june.simulator - INFO - Date = 2020-05-19 01:00:00, number of deaths =  14, number of infected = 310\n",
      "2020-08-30 10:35:35,413 - june.simulator - INFO - Date = 2020-05-19 09:00:00, number of deaths =  14, number of infected = 307\n",
      "2020-08-30 10:35:36,312 - june.simulator - INFO - Date = 2020-05-19 10:00:00, number of deaths =  14, number of infected = 308\n",
      "2020-08-30 10:35:36,909 - june.simulator - INFO - Date = 2020-05-19 13:00:00, number of deaths =  14, number of infected = 305\n",
      "2020-08-30 10:35:37,533 - june.simulator - INFO - Date = 2020-05-20 00:00:00, number of deaths =  14, number of infected = 303\n",
      "2020-08-30 10:35:38,544 - june.simulator - INFO - Date = 2020-05-20 01:00:00, number of deaths =  14, number of infected = 302\n",
      "2020-08-30 10:35:39,198 - june.simulator - INFO - Date = 2020-05-20 09:00:00, number of deaths =  14, number of infected = 294\n",
      "2020-08-30 10:35:40,099 - june.simulator - INFO - Date = 2020-05-20 10:00:00, number of deaths =  14, number of infected = 295\n",
      "2020-08-30 10:35:40,724 - june.simulator - INFO - Date = 2020-05-20 13:00:00, number of deaths =  14, number of infected = 293\n",
      "2020-08-30 10:35:41,361 - june.simulator - INFO - Date = 2020-05-21 00:00:00, number of deaths =  14, number of infected = 283\n",
      "2020-08-30 10:35:42,333 - june.simulator - INFO - Date = 2020-05-21 01:00:00, number of deaths =  14, number of infected = 283\n",
      "2020-08-30 10:35:42,950 - june.simulator - INFO - Date = 2020-05-21 09:00:00, number of deaths =  14, number of infected = 279\n",
      "2020-08-30 10:35:43,870 - june.simulator - INFO - Date = 2020-05-21 10:00:00, number of deaths =  14, number of infected = 278\n",
      "2020-08-30 10:35:44,509 - june.simulator - INFO - Date = 2020-05-21 13:00:00, number of deaths =  14, number of infected = 278\n",
      "2020-08-30 10:35:45,149 - june.simulator - INFO - Date = 2020-05-22 00:00:00, number of deaths =  14, number of infected = 277\n",
      "2020-08-30 10:35:46,176 - june.simulator - INFO - Date = 2020-05-22 01:00:00, number of deaths =  14, number of infected = 275\n"
     ]
    },
    {
     "name": "stdout",
     "output_type": "stream",
     "text": [
      "2020-08-30 10:35:46,799 - june.simulator - INFO - Date = 2020-05-22 09:00:00, number of deaths =  14, number of infected = 270\n",
      "2020-08-30 10:35:47,703 - june.simulator - INFO - Date = 2020-05-22 10:00:00, number of deaths =  14, number of infected = 269\n",
      "2020-08-30 10:35:48,415 - june.simulator - INFO - Date = 2020-05-22 13:00:00, number of deaths =  14, number of infected = 267\n",
      "2020-08-30 10:35:49,367 - june.simulator - INFO - Date = 2020-05-23 00:00:00, number of deaths =  14, number of infected = 258\n",
      "2020-08-30 10:35:50,407 - june.simulator - INFO - Date = 2020-05-23 04:00:00, number of deaths =  14, number of infected = 257\n",
      "2020-08-30 10:35:51,311 - june.simulator - INFO - Date = 2020-05-23 08:00:00, number of deaths =  14, number of infected = 255\n",
      "2020-08-30 10:35:51,976 - june.simulator - INFO - Date = 2020-05-23 12:00:00, number of deaths =  14, number of infected = 250\n",
      "2020-08-30 10:35:52,878 - june.simulator - INFO - Date = 2020-05-24 00:00:00, number of deaths =  14, number of infected = 251\n",
      "2020-08-30 10:35:53,821 - june.simulator - INFO - Date = 2020-05-24 04:00:00, number of deaths =  14, number of infected = 250\n",
      "2020-08-30 10:35:54,731 - june.simulator - INFO - Date = 2020-05-24 08:00:00, number of deaths =  14, number of infected = 248\n",
      "2020-08-30 10:35:55,366 - june.simulator - INFO - Date = 2020-05-24 12:00:00, number of deaths =  14, number of infected = 247\n",
      "2020-08-30 10:35:55,986 - june.simulator - INFO - Date = 2020-05-25 00:00:00, number of deaths =  14, number of infected = 237\n",
      "2020-08-30 10:35:56,988 - june.simulator - INFO - Date = 2020-05-25 01:00:00, number of deaths =  14, number of infected = 235\n",
      "2020-08-30 10:35:57,647 - june.simulator - INFO - Date = 2020-05-25 09:00:00, number of deaths =  14, number of infected = 230\n",
      "2020-08-30 10:35:58,506 - june.simulator - INFO - Date = 2020-05-25 10:00:00, number of deaths =  14, number of infected = 230\n",
      "2020-08-30 10:35:59,124 - june.simulator - INFO - Date = 2020-05-25 13:00:00, number of deaths =  14, number of infected = 228\n",
      "2020-08-30 10:35:59,796 - june.simulator - INFO - Date = 2020-05-26 00:00:00, number of deaths =  14, number of infected = 223\n",
      "2020-08-30 10:36:00,733 - june.simulator - INFO - Date = 2020-05-26 01:00:00, number of deaths =  14, number of infected = 223\n",
      "2020-08-30 10:36:01,356 - june.simulator - INFO - Date = 2020-05-26 09:00:00, number of deaths =  14, number of infected = 222\n",
      "2020-08-30 10:36:02,235 - june.simulator - INFO - Date = 2020-05-26 10:00:00, number of deaths =  14, number of infected = 222\n",
      "2020-08-30 10:36:02,854 - june.simulator - INFO - Date = 2020-05-26 13:00:00, number of deaths =  14, number of infected = 219\n",
      "2020-08-30 10:36:03,500 - june.simulator - INFO - Date = 2020-05-27 00:00:00, number of deaths =  14, number of infected = 215\n",
      "2020-08-30 10:36:04,525 - june.simulator - INFO - Date = 2020-05-27 01:00:00, number of deaths =  14, number of infected = 213\n",
      "2020-08-30 10:36:05,167 - june.simulator - INFO - Date = 2020-05-27 09:00:00, number of deaths =  14, number of infected = 211\n",
      "2020-08-30 10:36:06,018 - june.simulator - INFO - Date = 2020-05-27 10:00:00, number of deaths =  14, number of infected = 210\n",
      "2020-08-30 10:36:06,638 - june.simulator - INFO - Date = 2020-05-27 13:00:00, number of deaths =  14, number of infected = 208\n",
      "2020-08-30 10:36:07,264 - june.simulator - INFO - Date = 2020-05-28 00:00:00, number of deaths =  14, number of infected = 202\n",
      "2020-08-30 10:36:08,239 - june.simulator - INFO - Date = 2020-05-28 01:00:00, number of deaths =  14, number of infected = 202\n",
      "2020-08-30 10:36:08,863 - june.simulator - INFO - Date = 2020-05-28 09:00:00, number of deaths =  14, number of infected = 198\n",
      "2020-08-30 10:36:09,745 - june.simulator - INFO - Date = 2020-05-28 10:00:00, number of deaths =  14, number of infected = 196\n",
      "2020-08-30 10:36:10,370 - june.simulator - INFO - Date = 2020-05-28 13:00:00, number of deaths =  14, number of infected = 194\n",
      "2020-08-30 10:36:10,977 - june.simulator - INFO - Date = 2020-05-29 00:00:00, number of deaths =  14, number of infected = 193\n",
      "2020-08-30 10:36:11,971 - june.simulator - INFO - Date = 2020-05-29 01:00:00, number of deaths =  14, number of infected = 193\n",
      "2020-08-30 10:36:12,595 - june.simulator - INFO - Date = 2020-05-29 09:00:00, number of deaths =  14, number of infected = 191\n",
      "2020-08-30 10:36:13,482 - june.simulator - INFO - Date = 2020-05-29 10:00:00, number of deaths =  14, number of infected = 191\n",
      "2020-08-30 10:36:14,096 - june.simulator - INFO - Date = 2020-05-29 13:00:00, number of deaths =  14, number of infected = 186\n",
      "2020-08-30 10:36:14,926 - june.simulator - INFO - Date = 2020-05-30 00:00:00, number of deaths =  14, number of infected = 178\n",
      "2020-08-30 10:36:15,808 - june.simulator - INFO - Date = 2020-05-30 04:00:00, number of deaths =  14, number of infected = 176\n",
      "2020-08-30 10:36:16,673 - june.simulator - INFO - Date = 2020-05-30 08:00:00, number of deaths =  14, number of infected = 175\n",
      "2020-08-30 10:36:17,293 - june.simulator - INFO - Date = 2020-05-30 12:00:00, number of deaths =  14, number of infected = 172\n",
      "2020-08-30 10:36:18,166 - june.simulator - INFO - Date = 2020-05-31 00:00:00, number of deaths =  14, number of infected = 168\n",
      "2020-08-30 10:36:19,033 - june.simulator - INFO - Date = 2020-05-31 04:00:00, number of deaths =  14, number of infected = 164\n",
      "2020-08-30 10:36:19,889 - june.simulator - INFO - Date = 2020-05-31 08:00:00, number of deaths =  14, number of infected = 161\n",
      "2020-08-30 10:36:20,504 - june.simulator - INFO - Date = 2020-05-31 12:00:00, number of deaths =  14, number of infected = 161\n",
      "2020-08-30 10:36:21,151 - june.simulator - INFO - Date = 2020-06-01 00:00:00, number of deaths =  14, number of infected = 156\n",
      "2020-08-30 10:36:22,241 - june.simulator - INFO - Date = 2020-06-01 01:00:00, number of deaths =  14, number of infected = 156\n",
      "2020-08-30 10:36:22,906 - june.simulator - INFO - Date = 2020-06-01 09:00:00, number of deaths =  14, number of infected = 157\n",
      "2020-08-30 10:36:23,761 - june.simulator - INFO - Date = 2020-06-01 10:00:00, number of deaths =  14, number of infected = 157\n",
      "2020-08-30 10:36:24,357 - june.simulator - INFO - Date = 2020-06-01 13:00:00, number of deaths =  14, number of infected = 153\n",
      "2020-08-30 10:36:25,039 - june.simulator - INFO - Date = 2020-06-02 00:00:00, number of deaths =  14, number of infected = 149\n",
      "2020-08-30 10:36:26,056 - june.simulator - INFO - Date = 2020-06-02 01:00:00, number of deaths =  14, number of infected = 149\n",
      "2020-08-30 10:36:26,684 - june.simulator - INFO - Date = 2020-06-02 09:00:00, number of deaths =  14, number of infected = 146\n",
      "2020-08-30 10:36:27,524 - june.simulator - INFO - Date = 2020-06-02 10:00:00, number of deaths =  14, number of infected = 146\n",
      "2020-08-30 10:36:28,123 - june.simulator - INFO - Date = 2020-06-02 13:00:00, number of deaths =  14, number of infected = 144\n",
      "2020-08-30 10:36:28,794 - june.simulator - INFO - Date = 2020-06-03 00:00:00, number of deaths =  14, number of infected = 140\n",
      "2020-08-30 10:36:29,758 - june.simulator - INFO - Date = 2020-06-03 01:00:00, number of deaths =  14, number of infected = 140\n",
      "2020-08-30 10:36:30,384 - june.simulator - INFO - Date = 2020-06-03 09:00:00, number of deaths =  14, number of infected = 135\n",
      "2020-08-30 10:36:31,278 - june.simulator - INFO - Date = 2020-06-03 10:00:00, number of deaths =  14, number of infected = 133\n",
      "2020-08-30 10:36:31,906 - june.simulator - INFO - Date = 2020-06-03 13:00:00, number of deaths =  14, number of infected = 133\n",
      "2020-08-30 10:36:32,521 - june.simulator - INFO - Date = 2020-06-04 00:00:00, number of deaths =  14, number of infected = 129\n",
      "2020-08-30 10:36:33,485 - june.simulator - INFO - Date = 2020-06-04 01:00:00, number of deaths =  14, number of infected = 129\n",
      "2020-08-30 10:36:34,107 - june.simulator - INFO - Date = 2020-06-04 09:00:00, number of deaths =  14, number of infected = 125\n",
      "2020-08-30 10:36:34,964 - june.simulator - INFO - Date = 2020-06-04 10:00:00, number of deaths =  14, number of infected = 125\n",
      "2020-08-30 10:36:35,599 - june.simulator - INFO - Date = 2020-06-04 13:00:00, number of deaths =  14, number of infected = 125\n",
      "2020-08-30 10:36:36,263 - june.simulator - INFO - Date = 2020-06-05 00:00:00, number of deaths =  14, number of infected = 121\n"
     ]
    },
    {
     "name": "stdout",
     "output_type": "stream",
     "text": [
      "2020-08-30 10:36:37,275 - june.simulator - INFO - Date = 2020-06-05 01:00:00, number of deaths =  14, number of infected = 121\n",
      "2020-08-30 10:36:37,880 - june.simulator - INFO - Date = 2020-06-05 09:00:00, number of deaths =  14, number of infected = 122\n",
      "2020-08-30 10:36:38,723 - june.simulator - INFO - Date = 2020-06-05 10:00:00, number of deaths =  14, number of infected = 120\n",
      "2020-08-30 10:36:39,337 - june.simulator - INFO - Date = 2020-06-05 13:00:00, number of deaths =  14, number of infected = 121\n",
      "2020-08-30 10:36:40,157 - june.simulator - INFO - Date = 2020-06-06 00:00:00, number of deaths =  14, number of infected = 121\n",
      "2020-08-30 10:36:41,012 - june.simulator - INFO - Date = 2020-06-06 04:00:00, number of deaths =  14, number of infected = 120\n",
      "2020-08-30 10:36:41,865 - june.simulator - INFO - Date = 2020-06-06 08:00:00, number of deaths =  14, number of infected = 120\n",
      "2020-08-30 10:36:42,472 - june.simulator - INFO - Date = 2020-06-06 12:00:00, number of deaths =  14, number of infected = 119\n",
      "2020-08-30 10:36:43,325 - june.simulator - INFO - Date = 2020-06-07 00:00:00, number of deaths =  14, number of infected = 115\n",
      "2020-08-30 10:36:44,148 - june.simulator - INFO - Date = 2020-06-07 04:00:00, number of deaths =  14, number of infected = 113\n",
      "2020-08-30 10:36:45,017 - june.simulator - INFO - Date = 2020-06-07 08:00:00, number of deaths =  14, number of infected = 113\n",
      "2020-08-30 10:36:45,626 - june.simulator - INFO - Date = 2020-06-07 12:00:00, number of deaths =  14, number of infected = 113\n",
      "2020-08-30 10:36:46,234 - june.simulator - INFO - Date = 2020-06-08 00:00:00, number of deaths =  14, number of infected = 106\n",
      "2020-08-30 10:36:47,235 - june.simulator - INFO - Date = 2020-06-08 01:00:00, number of deaths =  14, number of infected = 106\n",
      "2020-08-30 10:36:47,888 - june.simulator - INFO - Date = 2020-06-08 09:00:00, number of deaths =  14, number of infected = 106\n",
      "2020-08-30 10:36:48,820 - june.simulator - INFO - Date = 2020-06-08 10:00:00, number of deaths =  14, number of infected = 107\n",
      "2020-08-30 10:36:49,448 - june.simulator - INFO - Date = 2020-06-08 13:00:00, number of deaths =  14, number of infected = 106\n",
      "2020-08-30 10:36:50,093 - june.simulator - INFO - Date = 2020-06-09 00:00:00, number of deaths =  14, number of infected = 105\n",
      "2020-08-30 10:36:51,087 - june.simulator - INFO - Date = 2020-06-09 01:00:00, number of deaths =  14, number of infected = 105\n",
      "2020-08-30 10:36:51,735 - june.simulator - INFO - Date = 2020-06-09 09:00:00, number of deaths =  14, number of infected = 101\n",
      "2020-08-30 10:36:52,615 - june.simulator - INFO - Date = 2020-06-09 10:00:00, number of deaths =  14, number of infected = 101\n",
      "2020-08-30 10:36:53,250 - june.simulator - INFO - Date = 2020-06-09 13:00:00, number of deaths =  14, number of infected = 98\n",
      "2020-08-30 10:36:53,901 - june.simulator - INFO - Date = 2020-06-10 00:00:00, number of deaths =  14, number of infected = 95\n",
      "2020-08-30 10:36:54,881 - june.simulator - INFO - Date = 2020-06-10 01:00:00, number of deaths =  14, number of infected = 95\n",
      "2020-08-30 10:36:55,488 - june.simulator - INFO - Date = 2020-06-10 09:00:00, number of deaths =  14, number of infected = 95\n",
      "2020-08-30 10:36:56,328 - june.simulator - INFO - Date = 2020-06-10 10:00:00, number of deaths =  14, number of infected = 94\n",
      "2020-08-30 10:36:56,955 - june.simulator - INFO - Date = 2020-06-10 13:00:00, number of deaths =  14, number of infected = 95\n",
      "2020-08-30 10:36:57,578 - june.simulator - INFO - Date = 2020-06-11 00:00:00, number of deaths =  14, number of infected = 93\n",
      "2020-08-30 10:36:58,590 - june.simulator - INFO - Date = 2020-06-11 01:00:00, number of deaths =  14, number of infected = 93\n",
      "2020-08-30 10:36:59,217 - june.simulator - INFO - Date = 2020-06-11 09:00:00, number of deaths =  14, number of infected = 91\n",
      "2020-08-30 10:37:00,110 - june.simulator - INFO - Date = 2020-06-11 10:00:00, number of deaths =  14, number of infected = 90\n",
      "2020-08-30 10:37:00,719 - june.simulator - INFO - Date = 2020-06-11 13:00:00, number of deaths =  14, number of infected = 92\n",
      "2020-08-30 10:37:01,349 - june.simulator - INFO - Date = 2020-06-12 00:00:00, number of deaths =  14, number of infected = 92\n",
      "2020-08-30 10:37:02,339 - june.simulator - INFO - Date = 2020-06-12 01:00:00, number of deaths =  14, number of infected = 93\n",
      "2020-08-30 10:37:02,964 - june.simulator - INFO - Date = 2020-06-12 09:00:00, number of deaths =  14, number of infected = 88\n",
      "2020-08-30 10:37:03,829 - june.simulator - INFO - Date = 2020-06-12 10:00:00, number of deaths =  14, number of infected = 88\n",
      "2020-08-30 10:37:04,442 - june.simulator - INFO - Date = 2020-06-12 13:00:00, number of deaths =  14, number of infected = 87\n",
      "2020-08-30 10:37:05,345 - june.simulator - INFO - Date = 2020-06-13 00:00:00, number of deaths =  14, number of infected = 87\n",
      "2020-08-30 10:37:06,204 - june.simulator - INFO - Date = 2020-06-13 04:00:00, number of deaths =  14, number of infected = 87\n",
      "2020-08-30 10:37:07,039 - june.simulator - INFO - Date = 2020-06-13 08:00:00, number of deaths =  14, number of infected = 87\n",
      "2020-08-30 10:37:07,636 - june.simulator - INFO - Date = 2020-06-13 12:00:00, number of deaths =  14, number of infected = 86\n",
      "2020-08-30 10:37:08,527 - june.simulator - INFO - Date = 2020-06-14 00:00:00, number of deaths =  14, number of infected = 85\n",
      "2020-08-30 10:37:09,348 - june.simulator - INFO - Date = 2020-06-14 04:00:00, number of deaths =  14, number of infected = 84\n",
      "2020-08-30 10:37:10,214 - june.simulator - INFO - Date = 2020-06-14 08:00:00, number of deaths =  14, number of infected = 85\n",
      "2020-08-30 10:37:10,855 - june.simulator - INFO - Date = 2020-06-14 12:00:00, number of deaths =  14, number of infected = 85\n",
      "2020-08-30 10:37:11,493 - june.simulator - INFO - Date = 2020-06-15 00:00:00, number of deaths =  14, number of infected = 81\n",
      "2020-08-30 10:37:12,496 - june.simulator - INFO - Date = 2020-06-15 01:00:00, number of deaths =  14, number of infected = 82\n",
      "2020-08-30 10:37:13,136 - june.simulator - INFO - Date = 2020-06-15 09:00:00, number of deaths =  14, number of infected = 82\n",
      "2020-08-30 10:37:13,989 - june.simulator - INFO - Date = 2020-06-15 10:00:00, number of deaths =  14, number of infected = 82\n",
      "2020-08-30 10:37:14,630 - june.simulator - INFO - Date = 2020-06-15 13:00:00, number of deaths =  14, number of infected = 82\n",
      "2020-08-30 10:37:15,292 - june.simulator - INFO - Date = 2020-06-16 00:00:00, number of deaths =  14, number of infected = 78\n",
      "2020-08-30 10:37:16,270 - june.simulator - INFO - Date = 2020-06-16 01:00:00, number of deaths =  14, number of infected = 77\n",
      "2020-08-30 10:37:16,916 - june.simulator - INFO - Date = 2020-06-16 09:00:00, number of deaths =  14, number of infected = 75\n",
      "2020-08-30 10:37:17,776 - june.simulator - INFO - Date = 2020-06-16 10:00:00, number of deaths =  14, number of infected = 75\n",
      "2020-08-30 10:37:18,418 - june.simulator - INFO - Date = 2020-06-16 13:00:00, number of deaths =  14, number of infected = 75\n",
      "2020-08-30 10:37:19,057 - june.simulator - INFO - Date = 2020-06-17 00:00:00, number of deaths =  14, number of infected = 71\n",
      "2020-08-30 10:37:20,024 - june.simulator - INFO - Date = 2020-06-17 01:00:00, number of deaths =  14, number of infected = 72\n",
      "2020-08-30 10:37:20,651 - june.simulator - INFO - Date = 2020-06-17 09:00:00, number of deaths =  14, number of infected = 72\n",
      "2020-08-30 10:37:21,502 - june.simulator - INFO - Date = 2020-06-17 10:00:00, number of deaths =  14, number of infected = 72\n",
      "2020-08-30 10:37:22,099 - june.simulator - INFO - Date = 2020-06-17 13:00:00, number of deaths =  14, number of infected = 71\n",
      "2020-08-30 10:37:22,725 - june.simulator - INFO - Date = 2020-06-18 00:00:00, number of deaths =  14, number of infected = 69\n",
      "2020-08-30 10:37:23,737 - june.simulator - INFO - Date = 2020-06-18 01:00:00, number of deaths =  14, number of infected = 69\n",
      "2020-08-30 10:37:24,415 - june.simulator - INFO - Date = 2020-06-18 09:00:00, number of deaths =  14, number of infected = 69\n",
      "2020-08-30 10:37:25,252 - june.simulator - INFO - Date = 2020-06-18 10:00:00, number of deaths =  14, number of infected = 70\n",
      "2020-08-30 10:37:25,845 - june.simulator - INFO - Date = 2020-06-18 13:00:00, number of deaths =  14, number of infected = 69\n"
     ]
    },
    {
     "name": "stdout",
     "output_type": "stream",
     "text": [
      "2020-08-30 10:37:26,482 - june.simulator - INFO - Date = 2020-06-19 00:00:00, number of deaths =  14, number of infected = 68\n",
      "2020-08-30 10:37:27,455 - june.simulator - INFO - Date = 2020-06-19 01:00:00, number of deaths =  14, number of infected = 68\n",
      "2020-08-30 10:37:28,064 - june.simulator - INFO - Date = 2020-06-19 09:00:00, number of deaths =  14, number of infected = 67\n",
      "2020-08-30 10:37:28,932 - june.simulator - INFO - Date = 2020-06-19 10:00:00, number of deaths =  14, number of infected = 67\n",
      "2020-08-30 10:37:29,619 - june.simulator - INFO - Date = 2020-06-19 13:00:00, number of deaths =  14, number of infected = 67\n",
      "2020-08-30 10:37:30,521 - june.simulator - INFO - Date = 2020-06-20 00:00:00, number of deaths =  14, number of infected = 65\n",
      "2020-08-30 10:37:31,471 - june.simulator - INFO - Date = 2020-06-20 04:00:00, number of deaths =  14, number of infected = 65\n",
      "2020-08-30 10:37:32,360 - june.simulator - INFO - Date = 2020-06-20 08:00:00, number of deaths =  14, number of infected = 65\n",
      "2020-08-30 10:37:32,977 - june.simulator - INFO - Date = 2020-06-20 12:00:00, number of deaths =  14, number of infected = 65\n",
      "2020-08-30 10:37:33,859 - june.simulator - INFO - Date = 2020-06-21 00:00:00, number of deaths =  14, number of infected = 66\n",
      "2020-08-30 10:37:34,803 - june.simulator - INFO - Date = 2020-06-21 04:00:00, number of deaths =  14, number of infected = 66\n",
      "2020-08-30 10:37:35,670 - june.simulator - INFO - Date = 2020-06-21 08:00:00, number of deaths =  14, number of infected = 63\n",
      "2020-08-30 10:37:36,276 - june.simulator - INFO - Date = 2020-06-21 12:00:00, number of deaths =  14, number of infected = 63\n",
      "2020-08-30 10:37:36,915 - june.simulator - INFO - Date = 2020-06-22 00:00:00, number of deaths =  14, number of infected = 60\n",
      "2020-08-30 10:37:37,962 - june.simulator - INFO - Date = 2020-06-22 01:00:00, number of deaths =  14, number of infected = 60\n",
      "2020-08-30 10:37:38,686 - june.simulator - INFO - Date = 2020-06-22 09:00:00, number of deaths =  14, number of infected = 61\n",
      "2020-08-30 10:37:39,566 - june.simulator - INFO - Date = 2020-06-22 10:00:00, number of deaths =  14, number of infected = 61\n",
      "2020-08-30 10:37:40,157 - june.simulator - INFO - Date = 2020-06-22 13:00:00, number of deaths =  14, number of infected = 61\n",
      "2020-08-30 10:37:40,804 - june.simulator - INFO - Date = 2020-06-23 00:00:00, number of deaths =  14, number of infected = 60\n",
      "2020-08-30 10:37:41,800 - june.simulator - INFO - Date = 2020-06-23 01:00:00, number of deaths =  14, number of infected = 60\n",
      "2020-08-30 10:37:42,483 - june.simulator - INFO - Date = 2020-06-23 09:00:00, number of deaths =  14, number of infected = 62\n",
      "2020-08-30 10:37:43,396 - june.simulator - INFO - Date = 2020-06-23 10:00:00, number of deaths =  14, number of infected = 62\n",
      "2020-08-30 10:37:44,027 - june.simulator - INFO - Date = 2020-06-23 13:00:00, number of deaths =  14, number of infected = 61\n",
      "2020-08-30 10:37:44,703 - june.simulator - INFO - Date = 2020-06-24 00:00:00, number of deaths =  14, number of infected = 60\n",
      "2020-08-30 10:37:45,707 - june.simulator - INFO - Date = 2020-06-24 01:00:00, number of deaths =  14, number of infected = 61\n",
      "2020-08-30 10:37:46,381 - june.simulator - INFO - Date = 2020-06-24 09:00:00, number of deaths =  14, number of infected = 58\n",
      "2020-08-30 10:37:47,265 - june.simulator - INFO - Date = 2020-06-24 10:00:00, number of deaths =  14, number of infected = 58\n",
      "2020-08-30 10:37:47,909 - june.simulator - INFO - Date = 2020-06-24 13:00:00, number of deaths =  14, number of infected = 57\n",
      "2020-08-30 10:37:48,534 - june.simulator - INFO - Date = 2020-06-25 00:00:00, number of deaths =  14, number of infected = 58\n",
      "2020-08-30 10:37:49,496 - june.simulator - INFO - Date = 2020-06-25 01:00:00, number of deaths =  14, number of infected = 58\n",
      "2020-08-30 10:37:50,188 - june.simulator - INFO - Date = 2020-06-25 09:00:00, number of deaths =  14, number of infected = 56\n",
      "2020-08-30 10:37:51,064 - june.simulator - INFO - Date = 2020-06-25 10:00:00, number of deaths =  14, number of infected = 56\n",
      "2020-08-30 10:37:51,709 - june.simulator - INFO - Date = 2020-06-25 13:00:00, number of deaths =  14, number of infected = 54\n",
      "2020-08-30 10:37:52,371 - june.simulator - INFO - Date = 2020-06-26 00:00:00, number of deaths =  14, number of infected = 53\n",
      "2020-08-30 10:37:53,392 - june.simulator - INFO - Date = 2020-06-26 01:00:00, number of deaths =  14, number of infected = 53\n",
      "2020-08-30 10:37:54,060 - june.simulator - INFO - Date = 2020-06-26 09:00:00, number of deaths =  14, number of infected = 53\n",
      "2020-08-30 10:37:54,997 - june.simulator - INFO - Date = 2020-06-26 10:00:00, number of deaths =  14, number of infected = 53\n",
      "2020-08-30 10:37:55,701 - june.simulator - INFO - Date = 2020-06-26 13:00:00, number of deaths =  14, number of infected = 53\n",
      "2020-08-30 10:37:56,641 - june.simulator - INFO - Date = 2020-06-27 00:00:00, number of deaths =  14, number of infected = 53\n",
      "2020-08-30 10:37:57,558 - june.simulator - INFO - Date = 2020-06-27 04:00:00, number of deaths =  14, number of infected = 52\n",
      "2020-08-30 10:37:58,424 - june.simulator - INFO - Date = 2020-06-27 08:00:00, number of deaths =  14, number of infected = 51\n",
      "2020-08-30 10:37:59,051 - june.simulator - INFO - Date = 2020-06-27 12:00:00, number of deaths =  14, number of infected = 52\n",
      "2020-08-30 10:37:59,916 - june.simulator - INFO - Date = 2020-06-28 00:00:00, number of deaths =  14, number of infected = 52\n",
      "2020-08-30 10:38:00,796 - june.simulator - INFO - Date = 2020-06-28 04:00:00, number of deaths =  14, number of infected = 52\n",
      "2020-08-30 10:38:01,674 - june.simulator - INFO - Date = 2020-06-28 08:00:00, number of deaths =  14, number of infected = 52\n",
      "2020-08-30 10:38:02,376 - june.simulator - INFO - Date = 2020-06-28 12:00:00, number of deaths =  14, number of infected = 52\n",
      "2020-08-30 10:38:03,052 - june.simulator - INFO - Date = 2020-06-29 00:00:00, number of deaths =  14, number of infected = 48\n",
      "2020-08-30 10:38:04,160 - june.simulator - INFO - Date = 2020-06-29 01:00:00, number of deaths =  14, number of infected = 48\n",
      "2020-08-30 10:38:04,934 - june.simulator - INFO - Date = 2020-06-29 09:00:00, number of deaths =  14, number of infected = 47\n",
      "2020-08-30 10:38:05,832 - june.simulator - INFO - Date = 2020-06-29 10:00:00, number of deaths =  14, number of infected = 47\n",
      "2020-08-30 10:38:06,455 - june.simulator - INFO - Date = 2020-06-29 13:00:00, number of deaths =  14, number of infected = 47\n",
      "2020-08-30 10:38:07,123 - june.simulator - INFO - Date = 2020-06-30 00:00:00, number of deaths =  14, number of infected = 48\n",
      "2020-08-30 10:38:08,236 - june.simulator - INFO - Date = 2020-06-30 01:00:00, number of deaths =  14, number of infected = 48\n",
      "2020-08-30 10:38:08,881 - june.simulator - INFO - Date = 2020-06-30 09:00:00, number of deaths =  14, number of infected = 50\n",
      "2020-08-30 10:38:09,772 - june.simulator - INFO - Date = 2020-06-30 10:00:00, number of deaths =  14, number of infected = 50\n",
      "2020-08-30 10:38:10,394 - june.simulator - INFO - Date = 2020-06-30 13:00:00, number of deaths =  14, number of infected = 51\n",
      "2020-08-30 10:38:11,077 - june.simulator - INFO - Date = 2020-07-01 00:00:00, number of deaths =  14, number of infected = 50\n",
      "2020-08-30 10:38:12,059 - june.simulator - INFO - Date = 2020-07-01 01:00:00, number of deaths =  14, number of infected = 50\n",
      "2020-08-30 10:38:12,823 - june.simulator - INFO - Date = 2020-07-01 09:00:00, number of deaths =  14, number of infected = 49\n",
      "2020-08-30 10:38:13,845 - june.simulator - INFO - Date = 2020-07-01 10:00:00, number of deaths =  14, number of infected = 49\n",
      "2020-08-30 10:38:14,492 - june.simulator - INFO - Date = 2020-07-01 13:00:00, number of deaths =  14, number of infected = 49\n",
      "2020-08-30 10:38:15,165 - june.simulator - INFO - Date = 2020-07-02 00:00:00, number of deaths =  14, number of infected = 48\n",
      "2020-08-30 10:38:16,106 - june.simulator - INFO - Date = 2020-07-02 01:00:00, number of deaths =  14, number of infected = 48\n",
      "2020-08-30 10:38:16,740 - june.simulator - INFO - Date = 2020-07-02 09:00:00, number of deaths =  14, number of infected = 49\n",
      "2020-08-30 10:38:17,636 - june.simulator - INFO - Date = 2020-07-02 10:00:00, number of deaths =  14, number of infected = 49\n",
      "2020-08-30 10:38:18,268 - june.simulator - INFO - Date = 2020-07-02 13:00:00, number of deaths =  14, number of infected = 48\n"
     ]
    },
    {
     "name": "stdout",
     "output_type": "stream",
     "text": [
      "2020-08-30 10:38:18,901 - june.simulator - INFO - Date = 2020-07-03 00:00:00, number of deaths =  14, number of infected = 47\n",
      "2020-08-30 10:38:19,917 - june.simulator - INFO - Date = 2020-07-03 01:00:00, number of deaths =  14, number of infected = 49\n",
      "2020-08-30 10:38:20,584 - june.simulator - INFO - Date = 2020-07-03 09:00:00, number of deaths =  14, number of infected = 47\n",
      "2020-08-30 10:38:21,463 - june.simulator - INFO - Date = 2020-07-03 10:00:00, number of deaths =  14, number of infected = 47\n",
      "2020-08-30 10:38:22,087 - june.simulator - INFO - Date = 2020-07-03 13:00:00, number of deaths =  14, number of infected = 46\n",
      "2020-08-30 10:38:23,001 - june.simulator - INFO - Date = 2020-07-04 00:00:00, number of deaths =  14, number of infected = 46\n",
      "2020-08-30 10:38:23,952 - june.simulator - INFO - Date = 2020-07-04 04:00:00, number of deaths =  14, number of infected = 46\n",
      "2020-08-30 10:38:24,897 - june.simulator - INFO - Date = 2020-07-04 08:00:00, number of deaths =  14, number of infected = 47\n",
      "2020-08-30 10:38:25,507 - june.simulator - INFO - Date = 2020-07-04 12:00:00, number of deaths =  14, number of infected = 47\n",
      "2020-08-30 10:38:25,657 - june.simulator - INFO - Saving simulation checkpoint at 2020-07-05\n",
      "2020-08-30 10:38:26,618 - june.simulator - INFO - Date = 2020-07-05 00:00:00, number of deaths =  14, number of infected = 48\n",
      "2020-08-30 10:38:27,509 - june.simulator - INFO - Date = 2020-07-05 04:00:00, number of deaths =  14, number of infected = 47\n",
      "2020-08-30 10:38:28,409 - june.simulator - INFO - Date = 2020-07-05 08:00:00, number of deaths =  14, number of infected = 46\n",
      "2020-08-30 10:38:29,012 - june.simulator - INFO - Date = 2020-07-05 12:00:00, number of deaths =  14, number of infected = 45\n",
      "2020-08-30 10:38:29,621 - june.simulator - INFO - Date = 2020-07-06 00:00:00, number of deaths =  14, number of infected = 45\n",
      "2020-08-30 10:38:30,581 - june.simulator - INFO - Date = 2020-07-06 01:00:00, number of deaths =  14, number of infected = 45\n",
      "2020-08-30 10:38:31,235 - june.simulator - INFO - Date = 2020-07-06 09:00:00, number of deaths =  14, number of infected = 45\n",
      "2020-08-30 10:38:32,165 - june.simulator - INFO - Date = 2020-07-06 10:00:00, number of deaths =  14, number of infected = 45\n",
      "2020-08-30 10:38:32,780 - june.simulator - INFO - Date = 2020-07-06 13:00:00, number of deaths =  14, number of infected = 44\n",
      "2020-08-30 10:38:33,435 - june.simulator - INFO - Date = 2020-07-07 00:00:00, number of deaths =  14, number of infected = 43\n",
      "2020-08-30 10:38:34,418 - june.simulator - INFO - Date = 2020-07-07 01:00:00, number of deaths =  14, number of infected = 43\n",
      "2020-08-30 10:38:35,039 - june.simulator - INFO - Date = 2020-07-07 09:00:00, number of deaths =  14, number of infected = 40\n",
      "2020-08-30 10:38:35,946 - june.simulator - INFO - Date = 2020-07-07 10:00:00, number of deaths =  14, number of infected = 40\n",
      "2020-08-30 10:38:36,532 - june.simulator - INFO - Date = 2020-07-07 13:00:00, number of deaths =  14, number of infected = 40\n",
      "2020-08-30 10:38:37,171 - june.simulator - INFO - Date = 2020-07-08 00:00:00, number of deaths =  14, number of infected = 38\n",
      "2020-08-30 10:38:38,139 - june.simulator - INFO - Date = 2020-07-08 01:00:00, number of deaths =  14, number of infected = 38\n",
      "2020-08-30 10:38:38,786 - june.simulator - INFO - Date = 2020-07-08 09:00:00, number of deaths =  14, number of infected = 37\n",
      "2020-08-30 10:38:39,764 - june.simulator - INFO - Date = 2020-07-08 10:00:00, number of deaths =  14, number of infected = 37\n",
      "2020-08-30 10:38:40,365 - june.simulator - INFO - Date = 2020-07-08 13:00:00, number of deaths =  14, number of infected = 38\n",
      "2020-08-30 10:38:41,019 - june.simulator - INFO - Date = 2020-07-09 00:00:00, number of deaths =  14, number of infected = 37\n",
      "2020-08-30 10:38:42,128 - june.simulator - INFO - Date = 2020-07-09 01:00:00, number of deaths =  14, number of infected = 37\n",
      "2020-08-30 10:38:42,766 - june.simulator - INFO - Date = 2020-07-09 09:00:00, number of deaths =  14, number of infected = 36\n",
      "2020-08-30 10:38:43,759 - june.simulator - INFO - Date = 2020-07-09 10:00:00, number of deaths =  14, number of infected = 36\n",
      "2020-08-30 10:38:44,389 - june.simulator - INFO - Date = 2020-07-09 13:00:00, number of deaths =  14, number of infected = 34\n",
      "2020-08-30 10:38:45,061 - june.simulator - INFO - Date = 2020-07-10 00:00:00, number of deaths =  14, number of infected = 34\n",
      "2020-08-30 10:38:46,072 - june.simulator - INFO - Date = 2020-07-10 01:00:00, number of deaths =  14, number of infected = 34\n",
      "2020-08-30 10:38:46,714 - june.simulator - INFO - Date = 2020-07-10 09:00:00, number of deaths =  14, number of infected = 35\n",
      "2020-08-30 10:38:47,632 - june.simulator - INFO - Date = 2020-07-10 10:00:00, number of deaths =  14, number of infected = 35\n",
      "2020-08-30 10:38:48,237 - june.simulator - INFO - Date = 2020-07-10 13:00:00, number of deaths =  14, number of infected = 35\n",
      "2020-08-30 10:38:49,161 - june.simulator - INFO - Date = 2020-07-11 00:00:00, number of deaths =  14, number of infected = 34\n",
      "2020-08-30 10:38:50,059 - june.simulator - INFO - Date = 2020-07-11 04:00:00, number of deaths =  14, number of infected = 34\n",
      "2020-08-30 10:38:50,954 - june.simulator - INFO - Date = 2020-07-11 08:00:00, number of deaths =  14, number of infected = 34\n",
      "2020-08-30 10:38:51,581 - june.simulator - INFO - Date = 2020-07-11 12:00:00, number of deaths =  14, number of infected = 33\n",
      "2020-08-30 10:38:52,534 - june.simulator - INFO - Date = 2020-07-12 00:00:00, number of deaths =  14, number of infected = 33\n",
      "2020-08-30 10:38:53,414 - june.simulator - INFO - Date = 2020-07-12 04:00:00, number of deaths =  14, number of infected = 33\n",
      "2020-08-30 10:38:54,394 - june.simulator - INFO - Date = 2020-07-12 08:00:00, number of deaths =  14, number of infected = 33\n",
      "2020-08-30 10:38:55,039 - june.simulator - INFO - Date = 2020-07-12 12:00:00, number of deaths =  14, number of infected = 32\n",
      "2020-08-30 10:38:55,736 - june.simulator - INFO - Date = 2020-07-13 00:00:00, number of deaths =  14, number of infected = 32\n",
      "2020-08-30 10:38:56,796 - june.simulator - INFO - Date = 2020-07-13 01:00:00, number of deaths =  14, number of infected = 32\n",
      "2020-08-30 10:38:57,468 - june.simulator - INFO - Date = 2020-07-13 09:00:00, number of deaths =  14, number of infected = 30\n",
      "2020-08-30 10:38:58,556 - june.simulator - INFO - Date = 2020-07-13 10:00:00, number of deaths =  14, number of infected = 30\n",
      "2020-08-30 10:38:59,207 - june.simulator - INFO - Date = 2020-07-13 13:00:00, number of deaths =  14, number of infected = 30\n",
      "2020-08-30 10:38:59,840 - june.simulator - INFO - Date = 2020-07-14 00:00:00, number of deaths =  14, number of infected = 30\n",
      "2020-08-30 10:39:00,905 - june.simulator - INFO - Date = 2020-07-14 01:00:00, number of deaths =  14, number of infected = 30\n",
      "2020-08-30 10:39:01,577 - june.simulator - INFO - Date = 2020-07-14 09:00:00, number of deaths =  14, number of infected = 31\n",
      "2020-08-30 10:39:02,569 - june.simulator - INFO - Date = 2020-07-14 10:00:00, number of deaths =  14, number of infected = 31\n",
      "2020-08-30 10:39:03,165 - june.simulator - INFO - Date = 2020-07-14 13:00:00, number of deaths =  14, number of infected = 32\n",
      "2020-08-30 10:39:03,799 - june.simulator - INFO - Date = 2020-07-15 00:00:00, number of deaths =  14, number of infected = 33\n",
      "2020-08-30 10:39:04,905 - june.simulator - INFO - Date = 2020-07-15 01:00:00, number of deaths =  14, number of infected = 33\n",
      "2020-08-30 10:39:05,597 - june.simulator - INFO - Date = 2020-07-15 09:00:00, number of deaths =  14, number of infected = 33\n",
      "2020-08-30 10:39:06,598 - june.simulator - INFO - Date = 2020-07-15 10:00:00, number of deaths =  14, number of infected = 32\n",
      "2020-08-30 10:39:07,224 - june.simulator - INFO - Date = 2020-07-15 13:00:00, number of deaths =  14, number of infected = 32\n",
      "2020-08-30 10:39:07,899 - june.simulator - INFO - Date = 2020-07-16 00:00:00, number of deaths =  14, number of infected = 31\n",
      "2020-08-30 10:39:08,968 - june.simulator - INFO - Date = 2020-07-16 01:00:00, number of deaths =  14, number of infected = 31\n",
      "2020-08-30 10:39:09,629 - june.simulator - INFO - Date = 2020-07-16 09:00:00, number of deaths =  14, number of infected = 30\n",
      "2020-08-30 10:39:10,568 - june.simulator - INFO - Date = 2020-07-16 10:00:00, number of deaths =  14, number of infected = 30\n"
     ]
    },
    {
     "name": "stdout",
     "output_type": "stream",
     "text": [
      "2020-08-30 10:39:11,180 - june.simulator - INFO - Date = 2020-07-16 13:00:00, number of deaths =  14, number of infected = 30\n",
      "2020-08-30 10:39:11,826 - june.simulator - INFO - Date = 2020-07-17 00:00:00, number of deaths =  14, number of infected = 29\n",
      "2020-08-30 10:39:12,856 - june.simulator - INFO - Date = 2020-07-17 01:00:00, number of deaths =  14, number of infected = 29\n",
      "2020-08-30 10:39:13,516 - june.simulator - INFO - Date = 2020-07-17 09:00:00, number of deaths =  14, number of infected = 29\n",
      "2020-08-30 10:39:14,439 - june.simulator - INFO - Date = 2020-07-17 10:00:00, number of deaths =  14, number of infected = 29\n",
      "2020-08-30 10:39:15,058 - june.simulator - INFO - Date = 2020-07-17 13:00:00, number of deaths =  14, number of infected = 28\n",
      "2020-08-30 10:39:16,001 - june.simulator - INFO - Date = 2020-07-18 00:00:00, number of deaths =  14, number of infected = 30\n",
      "2020-08-30 10:39:16,901 - june.simulator - INFO - Date = 2020-07-18 04:00:00, number of deaths =  14, number of infected = 30\n",
      "2020-08-30 10:39:17,845 - june.simulator - INFO - Date = 2020-07-18 08:00:00, number of deaths =  14, number of infected = 30\n",
      "2020-08-30 10:39:18,482 - june.simulator - INFO - Date = 2020-07-18 12:00:00, number of deaths =  14, number of infected = 31\n",
      "2020-08-30 10:39:19,400 - june.simulator - INFO - Date = 2020-07-19 00:00:00, number of deaths =  14, number of infected = 30\n",
      "2020-08-30 10:39:20,297 - june.simulator - INFO - Date = 2020-07-19 04:00:00, number of deaths =  14, number of infected = 30\n",
      "2020-08-30 10:39:21,207 - june.simulator - INFO - Date = 2020-07-19 08:00:00, number of deaths =  14, number of infected = 30\n",
      "2020-08-30 10:39:21,807 - june.simulator - INFO - Date = 2020-07-19 12:00:00, number of deaths =  14, number of infected = 30\n",
      "2020-08-30 10:39:22,449 - june.simulator - INFO - Date = 2020-07-20 00:00:00, number of deaths =  14, number of infected = 31\n",
      "2020-08-30 10:39:23,492 - june.simulator - INFO - Date = 2020-07-20 01:00:00, number of deaths =  14, number of infected = 31\n",
      "2020-08-30 10:39:24,088 - june.simulator - INFO - Date = 2020-07-20 09:00:00, number of deaths =  14, number of infected = 30\n",
      "2020-08-30 10:39:25,049 - june.simulator - INFO - Date = 2020-07-20 10:00:00, number of deaths =  14, number of infected = 30\n",
      "2020-08-30 10:39:25,704 - june.simulator - INFO - Date = 2020-07-20 13:00:00, number of deaths =  14, number of infected = 30\n",
      "2020-08-30 10:39:26,354 - june.simulator - INFO - Date = 2020-07-21 00:00:00, number of deaths =  14, number of infected = 32\n",
      "2020-08-30 10:39:27,378 - june.simulator - INFO - Date = 2020-07-21 01:00:00, number of deaths =  14, number of infected = 32\n",
      "2020-08-30 10:39:28,017 - june.simulator - INFO - Date = 2020-07-21 09:00:00, number of deaths =  14, number of infected = 34\n",
      "2020-08-30 10:39:28,913 - june.simulator - INFO - Date = 2020-07-21 10:00:00, number of deaths =  14, number of infected = 34\n",
      "2020-08-30 10:39:29,502 - june.simulator - INFO - Date = 2020-07-21 13:00:00, number of deaths =  14, number of infected = 34\n",
      "2020-08-30 10:39:30,119 - june.simulator - INFO - Date = 2020-07-22 00:00:00, number of deaths =  14, number of infected = 31\n",
      "2020-08-30 10:39:31,101 - june.simulator - INFO - Date = 2020-07-22 01:00:00, number of deaths =  14, number of infected = 31\n",
      "2020-08-30 10:39:31,740 - june.simulator - INFO - Date = 2020-07-22 09:00:00, number of deaths =  14, number of infected = 32\n",
      "2020-08-30 10:39:32,696 - june.simulator - INFO - Date = 2020-07-22 10:00:00, number of deaths =  14, number of infected = 32\n",
      "2020-08-30 10:39:33,327 - june.simulator - INFO - Date = 2020-07-22 13:00:00, number of deaths =  14, number of infected = 31\n",
      "2020-08-30 10:39:33,952 - june.simulator - INFO - Date = 2020-07-23 00:00:00, number of deaths =  14, number of infected = 30\n",
      "2020-08-30 10:39:34,959 - june.simulator - INFO - Date = 2020-07-23 01:00:00, number of deaths =  14, number of infected = 30\n",
      "2020-08-30 10:39:35,619 - june.simulator - INFO - Date = 2020-07-23 09:00:00, number of deaths =  14, number of infected = 30\n",
      "2020-08-30 10:39:36,581 - june.simulator - INFO - Date = 2020-07-23 10:00:00, number of deaths =  14, number of infected = 30\n",
      "2020-08-30 10:39:37,194 - june.simulator - INFO - Date = 2020-07-23 13:00:00, number of deaths =  14, number of infected = 30\n",
      "2020-08-30 10:39:37,839 - june.simulator - INFO - Date = 2020-07-24 00:00:00, number of deaths =  14, number of infected = 31\n",
      "2020-08-30 10:39:38,847 - june.simulator - INFO - Date = 2020-07-24 01:00:00, number of deaths =  14, number of infected = 31\n",
      "2020-08-30 10:39:39,473 - june.simulator - INFO - Date = 2020-07-24 09:00:00, number of deaths =  14, number of infected = 31\n",
      "2020-08-30 10:39:40,468 - june.simulator - INFO - Date = 2020-07-24 10:00:00, number of deaths =  14, number of infected = 31\n",
      "2020-08-30 10:39:41,098 - june.simulator - INFO - Date = 2020-07-24 13:00:00, number of deaths =  14, number of infected = 33\n",
      "2020-08-30 10:39:41,964 - june.simulator - INFO - Date = 2020-07-25 00:00:00, number of deaths =  14, number of infected = 32\n",
      "2020-08-30 10:39:42,884 - june.simulator - INFO - Date = 2020-07-25 04:00:00, number of deaths =  14, number of infected = 32\n",
      "2020-08-30 10:39:43,824 - june.simulator - INFO - Date = 2020-07-25 08:00:00, number of deaths =  14, number of infected = 35\n",
      "2020-08-30 10:39:44,429 - june.simulator - INFO - Date = 2020-07-25 12:00:00, number of deaths =  14, number of infected = 35\n",
      "2020-08-30 10:39:45,300 - june.simulator - INFO - Date = 2020-07-26 00:00:00, number of deaths =  14, number of infected = 35\n",
      "2020-08-30 10:39:46,344 - june.simulator - INFO - Date = 2020-07-26 04:00:00, number of deaths =  14, number of infected = 35\n",
      "2020-08-30 10:39:47,330 - june.simulator - INFO - Date = 2020-07-26 08:00:00, number of deaths =  14, number of infected = 35\n",
      "2020-08-30 10:39:47,971 - june.simulator - INFO - Date = 2020-07-26 12:00:00, number of deaths =  14, number of infected = 34\n",
      "2020-08-30 10:39:48,653 - june.simulator - INFO - Date = 2020-07-27 00:00:00, number of deaths =  14, number of infected = 34\n",
      "2020-08-30 10:39:49,633 - june.simulator - INFO - Date = 2020-07-27 01:00:00, number of deaths =  14, number of infected = 34\n",
      "2020-08-30 10:39:50,307 - june.simulator - INFO - Date = 2020-07-27 09:00:00, number of deaths =  14, number of infected = 35\n",
      "2020-08-30 10:39:51,328 - june.simulator - INFO - Date = 2020-07-27 10:00:00, number of deaths =  14, number of infected = 35\n",
      "2020-08-30 10:39:51,994 - june.simulator - INFO - Date = 2020-07-27 13:00:00, number of deaths =  14, number of infected = 36\n",
      "2020-08-30 10:39:52,627 - june.simulator - INFO - Date = 2020-07-28 00:00:00, number of deaths =  14, number of infected = 37\n",
      "2020-08-30 10:39:53,643 - june.simulator - INFO - Date = 2020-07-28 01:00:00, number of deaths =  14, number of infected = 37\n",
      "2020-08-30 10:39:54,265 - june.simulator - INFO - Date = 2020-07-28 09:00:00, number of deaths =  14, number of infected = 38\n",
      "2020-08-30 10:39:55,215 - june.simulator - INFO - Date = 2020-07-28 10:00:00, number of deaths =  14, number of infected = 38\n",
      "2020-08-30 10:39:55,873 - june.simulator - INFO - Date = 2020-07-28 13:00:00, number of deaths =  14, number of infected = 38\n",
      "2020-08-30 10:39:56,557 - june.simulator - INFO - Date = 2020-07-29 00:00:00, number of deaths =  14, number of infected = 39\n",
      "2020-08-30 10:39:57,539 - june.simulator - INFO - Date = 2020-07-29 01:00:00, number of deaths =  14, number of infected = 38\n",
      "2020-08-30 10:39:58,175 - june.simulator - INFO - Date = 2020-07-29 09:00:00, number of deaths =  14, number of infected = 38\n",
      "2020-08-30 10:39:59,065 - june.simulator - INFO - Date = 2020-07-29 10:00:00, number of deaths =  14, number of infected = 38\n",
      "2020-08-30 10:39:59,664 - june.simulator - INFO - Date = 2020-07-29 13:00:00, number of deaths =  14, number of infected = 37\n",
      "2020-08-30 10:40:00,292 - june.simulator - INFO - Date = 2020-07-30 00:00:00, number of deaths =  14, number of infected = 37\n",
      "2020-08-30 10:40:01,426 - june.simulator - INFO - Date = 2020-07-30 01:00:00, number of deaths =  14, number of infected = 37\n",
      "2020-08-30 10:40:02,060 - june.simulator - INFO - Date = 2020-07-30 09:00:00, number of deaths =  14, number of infected = 37\n",
      "2020-08-30 10:40:03,082 - june.simulator - INFO - Date = 2020-07-30 10:00:00, number of deaths =  14, number of infected = 37\n"
     ]
    },
    {
     "name": "stdout",
     "output_type": "stream",
     "text": [
      "2020-08-30 10:40:03,750 - june.simulator - INFO - Date = 2020-07-30 13:00:00, number of deaths =  14, number of infected = 37\n",
      "2020-08-30 10:40:04,423 - june.simulator - INFO - Date = 2020-07-31 00:00:00, number of deaths =  14, number of infected = 35\n",
      "2020-08-30 10:40:05,395 - june.simulator - INFO - Date = 2020-07-31 01:00:00, number of deaths =  14, number of infected = 35\n",
      "2020-08-30 10:40:06,085 - june.simulator - INFO - Date = 2020-07-31 09:00:00, number of deaths =  14, number of infected = 36\n",
      "2020-08-30 10:40:07,167 - june.simulator - INFO - Date = 2020-07-31 10:00:00, number of deaths =  14, number of infected = 35\n",
      "2020-08-30 10:40:07,871 - june.simulator - INFO - Date = 2020-07-31 13:00:00, number of deaths =  14, number of infected = 35\n",
      "2020-08-30 10:40:08,927 - june.simulator - INFO - Date = 2020-08-01 00:00:00, number of deaths =  14, number of infected = 38\n",
      "2020-08-30 10:40:09,930 - june.simulator - INFO - Date = 2020-08-01 04:00:00, number of deaths =  14, number of infected = 38\n",
      "2020-08-30 10:40:10,859 - june.simulator - INFO - Date = 2020-08-01 08:00:00, number of deaths =  14, number of infected = 38\n",
      "2020-08-30 10:40:11,445 - june.simulator - INFO - Date = 2020-08-01 12:00:00, number of deaths =  14, number of infected = 39\n",
      "2020-08-30 10:40:12,433 - june.simulator - INFO - Date = 2020-08-02 00:00:00, number of deaths =  14, number of infected = 39\n",
      "2020-08-30 10:40:13,372 - june.simulator - INFO - Date = 2020-08-02 04:00:00, number of deaths =  14, number of infected = 39\n",
      "2020-08-30 10:40:14,275 - june.simulator - INFO - Date = 2020-08-02 08:00:00, number of deaths =  14, number of infected = 40\n",
      "2020-08-30 10:40:14,849 - june.simulator - INFO - Date = 2020-08-02 12:00:00, number of deaths =  14, number of infected = 40\n",
      "2020-08-30 10:40:15,461 - june.simulator - INFO - Date = 2020-08-03 00:00:00, number of deaths =  14, number of infected = 41\n",
      "2020-08-30 10:40:16,424 - june.simulator - INFO - Date = 2020-08-03 01:00:00, number of deaths =  14, number of infected = 41\n",
      "2020-08-30 10:40:17,086 - june.simulator - INFO - Date = 2020-08-03 09:00:00, number of deaths =  14, number of infected = 41\n",
      "2020-08-30 10:40:18,091 - june.simulator - INFO - Date = 2020-08-03 10:00:00, number of deaths =  14, number of infected = 41\n",
      "2020-08-30 10:40:18,679 - june.simulator - INFO - Date = 2020-08-03 13:00:00, number of deaths =  14, number of infected = 41\n",
      "2020-08-30 10:40:19,297 - june.simulator - INFO - Date = 2020-08-04 00:00:00, number of deaths =  14, number of infected = 40\n",
      "2020-08-30 10:40:20,319 - june.simulator - INFO - Date = 2020-08-04 01:00:00, number of deaths =  14, number of infected = 40\n",
      "2020-08-30 10:40:20,935 - june.simulator - INFO - Date = 2020-08-04 09:00:00, number of deaths =  14, number of infected = 41\n",
      "2020-08-30 10:40:21,847 - june.simulator - INFO - Date = 2020-08-04 10:00:00, number of deaths =  14, number of infected = 41\n",
      "2020-08-30 10:40:22,404 - june.simulator - INFO - Date = 2020-08-04 13:00:00, number of deaths =  14, number of infected = 41\n",
      "2020-08-30 10:40:23,033 - june.simulator - INFO - Date = 2020-08-05 00:00:00, number of deaths =  14, number of infected = 42\n",
      "2020-08-30 10:40:24,119 - june.simulator - INFO - Date = 2020-08-05 01:00:00, number of deaths =  14, number of infected = 42\n",
      "2020-08-30 10:40:24,743 - june.simulator - INFO - Date = 2020-08-05 09:00:00, number of deaths =  14, number of infected = 44\n",
      "2020-08-30 10:40:25,699 - june.simulator - INFO - Date = 2020-08-05 10:00:00, number of deaths =  14, number of infected = 43\n",
      "2020-08-30 10:40:26,283 - june.simulator - INFO - Date = 2020-08-05 13:00:00, number of deaths =  14, number of infected = 43\n",
      "2020-08-30 10:40:26,899 - june.simulator - INFO - Date = 2020-08-06 00:00:00, number of deaths =  14, number of infected = 44\n",
      "2020-08-30 10:40:27,917 - june.simulator - INFO - Date = 2020-08-06 01:00:00, number of deaths =  14, number of infected = 45\n",
      "2020-08-30 10:40:28,547 - june.simulator - INFO - Date = 2020-08-06 09:00:00, number of deaths =  14, number of infected = 46\n",
      "2020-08-30 10:40:29,510 - june.simulator - INFO - Date = 2020-08-06 10:00:00, number of deaths =  14, number of infected = 46\n",
      "2020-08-30 10:40:30,093 - june.simulator - INFO - Date = 2020-08-06 13:00:00, number of deaths =  14, number of infected = 46\n",
      "2020-08-30 10:40:30,720 - june.simulator - INFO - Date = 2020-08-07 00:00:00, number of deaths =  14, number of infected = 46\n",
      "2020-08-30 10:40:31,753 - june.simulator - INFO - Date = 2020-08-07 01:00:00, number of deaths =  14, number of infected = 46\n",
      "2020-08-30 10:40:32,385 - june.simulator - INFO - Date = 2020-08-07 09:00:00, number of deaths =  14, number of infected = 45\n",
      "2020-08-30 10:40:33,380 - june.simulator - INFO - Date = 2020-08-07 10:00:00, number of deaths =  14, number of infected = 45\n",
      "2020-08-30 10:40:34,008 - june.simulator - INFO - Date = 2020-08-07 13:00:00, number of deaths =  14, number of infected = 45\n",
      "2020-08-30 10:40:34,907 - june.simulator - INFO - Date = 2020-08-08 00:00:00, number of deaths =  14, number of infected = 47\n",
      "2020-08-30 10:40:35,849 - june.simulator - INFO - Date = 2020-08-08 04:00:00, number of deaths =  14, number of infected = 47\n",
      "2020-08-30 10:40:36,806 - june.simulator - INFO - Date = 2020-08-08 08:00:00, number of deaths =  14, number of infected = 47\n",
      "2020-08-30 10:40:37,409 - june.simulator - INFO - Date = 2020-08-08 12:00:00, number of deaths =  14, number of infected = 47\n",
      "2020-08-30 10:40:38,327 - june.simulator - INFO - Date = 2020-08-09 00:00:00, number of deaths =  14, number of infected = 47\n",
      "2020-08-30 10:40:39,255 - june.simulator - INFO - Date = 2020-08-09 04:00:00, number of deaths =  14, number of infected = 48\n",
      "2020-08-30 10:40:40,256 - june.simulator - INFO - Date = 2020-08-09 08:00:00, number of deaths =  14, number of infected = 49\n",
      "2020-08-30 10:40:40,885 - june.simulator - INFO - Date = 2020-08-09 12:00:00, number of deaths =  14, number of infected = 51\n",
      "2020-08-30 10:40:41,538 - june.simulator - INFO - Date = 2020-08-10 00:00:00, number of deaths =  14, number of infected = 49\n",
      "2020-08-30 10:40:42,701 - june.simulator - INFO - Date = 2020-08-10 01:00:00, number of deaths =  14, number of infected = 50\n",
      "2020-08-30 10:40:43,345 - june.simulator - INFO - Date = 2020-08-10 09:00:00, number of deaths =  14, number of infected = 51\n",
      "2020-08-30 10:40:44,267 - june.simulator - INFO - Date = 2020-08-10 10:00:00, number of deaths =  14, number of infected = 51\n",
      "2020-08-30 10:40:44,838 - june.simulator - INFO - Date = 2020-08-10 13:00:00, number of deaths =  14, number of infected = 51\n",
      "2020-08-30 10:40:45,458 - june.simulator - INFO - Date = 2020-08-11 00:00:00, number of deaths =  14, number of infected = 53\n",
      "2020-08-30 10:40:46,490 - june.simulator - INFO - Date = 2020-08-11 01:00:00, number of deaths =  14, number of infected = 53\n",
      "2020-08-30 10:40:47,125 - june.simulator - INFO - Date = 2020-08-11 09:00:00, number of deaths =  14, number of infected = 52\n",
      "2020-08-30 10:40:48,065 - june.simulator - INFO - Date = 2020-08-11 10:00:00, number of deaths =  14, number of infected = 52\n",
      "2020-08-30 10:40:48,644 - june.simulator - INFO - Date = 2020-08-11 13:00:00, number of deaths =  14, number of infected = 52\n",
      "2020-08-30 10:40:49,231 - june.simulator - INFO - Date = 2020-08-12 00:00:00, number of deaths =  14, number of infected = 54\n",
      "2020-08-30 10:40:50,238 - june.simulator - INFO - Date = 2020-08-12 01:00:00, number of deaths =  14, number of infected = 55\n",
      "2020-08-30 10:40:50,866 - june.simulator - INFO - Date = 2020-08-12 09:00:00, number of deaths =  14, number of infected = 55\n",
      "2020-08-30 10:40:51,785 - june.simulator - INFO - Date = 2020-08-12 10:00:00, number of deaths =  14, number of infected = 55\n",
      "2020-08-30 10:40:52,400 - june.simulator - INFO - Date = 2020-08-12 13:00:00, number of deaths =  14, number of infected = 54\n",
      "2020-08-30 10:40:53,029 - june.simulator - INFO - Date = 2020-08-13 00:00:00, number of deaths =  14, number of infected = 52\n",
      "2020-08-30 10:40:54,048 - june.simulator - INFO - Date = 2020-08-13 01:00:00, number of deaths =  14, number of infected = 52\n",
      "2020-08-30 10:40:54,675 - june.simulator - INFO - Date = 2020-08-13 09:00:00, number of deaths =  14, number of infected = 55\n",
      "2020-08-30 10:40:55,630 - june.simulator - INFO - Date = 2020-08-13 10:00:00, number of deaths =  14, number of infected = 56\n"
     ]
    },
    {
     "name": "stdout",
     "output_type": "stream",
     "text": [
      "2020-08-30 10:40:56,215 - june.simulator - INFO - Date = 2020-08-13 13:00:00, number of deaths =  14, number of infected = 56\n",
      "2020-08-30 10:40:56,844 - june.simulator - INFO - Date = 2020-08-14 00:00:00, number of deaths =  14, number of infected = 56\n",
      "2020-08-30 10:40:57,807 - june.simulator - INFO - Date = 2020-08-14 01:00:00, number of deaths =  14, number of infected = 57\n",
      "2020-08-30 10:40:58,473 - june.simulator - INFO - Date = 2020-08-14 09:00:00, number of deaths =  14, number of infected = 56\n",
      "2020-08-30 10:40:59,545 - june.simulator - INFO - Date = 2020-08-14 10:00:00, number of deaths =  14, number of infected = 56\n",
      "2020-08-30 10:41:00,131 - june.simulator - INFO - Date = 2020-08-14 13:00:00, number of deaths =  14, number of infected = 53\n",
      "2020-08-30 10:41:01,047 - june.simulator - INFO - Date = 2020-08-15 00:00:00, number of deaths =  14, number of infected = 57\n",
      "2020-08-30 10:41:01,996 - june.simulator - INFO - Date = 2020-08-15 04:00:00, number of deaths =  14, number of infected = 56\n",
      "2020-08-30 10:41:02,870 - june.simulator - INFO - Date = 2020-08-15 08:00:00, number of deaths =  14, number of infected = 56\n",
      "2020-08-30 10:41:03,452 - june.simulator - INFO - Date = 2020-08-15 12:00:00, number of deaths =  14, number of infected = 55\n",
      "2020-08-30 10:41:04,366 - june.simulator - INFO - Date = 2020-08-16 00:00:00, number of deaths =  14, number of infected = 57\n",
      "2020-08-30 10:41:05,255 - june.simulator - INFO - Date = 2020-08-16 04:00:00, number of deaths =  14, number of infected = 57\n",
      "2020-08-30 10:41:06,159 - june.simulator - INFO - Date = 2020-08-16 08:00:00, number of deaths =  14, number of infected = 56\n",
      "2020-08-30 10:41:06,719 - june.simulator - INFO - Date = 2020-08-16 12:00:00, number of deaths =  14, number of infected = 56\n",
      "2020-08-30 10:41:07,299 - june.simulator - INFO - Date = 2020-08-17 00:00:00, number of deaths =  14, number of infected = 56\n",
      "2020-08-30 10:41:08,312 - june.simulator - INFO - Date = 2020-08-17 01:00:00, number of deaths =  14, number of infected = 56\n",
      "2020-08-30 10:41:08,958 - june.simulator - INFO - Date = 2020-08-17 09:00:00, number of deaths =  14, number of infected = 59\n",
      "2020-08-30 10:41:09,920 - june.simulator - INFO - Date = 2020-08-17 10:00:00, number of deaths =  14, number of infected = 60\n",
      "2020-08-30 10:41:10,524 - june.simulator - INFO - Date = 2020-08-17 13:00:00, number of deaths =  14, number of infected = 60\n",
      "2020-08-30 10:41:11,176 - june.simulator - INFO - Date = 2020-08-18 00:00:00, number of deaths =  14, number of infected = 60\n",
      "2020-08-30 10:41:12,196 - june.simulator - INFO - Date = 2020-08-18 01:00:00, number of deaths =  14, number of infected = 59\n",
      "2020-08-30 10:41:12,788 - june.simulator - INFO - Date = 2020-08-18 09:00:00, number of deaths =  14, number of infected = 60\n",
      "2020-08-30 10:41:13,718 - june.simulator - INFO - Date = 2020-08-18 10:00:00, number of deaths =  14, number of infected = 60\n",
      "2020-08-30 10:41:14,285 - june.simulator - INFO - Date = 2020-08-18 13:00:00, number of deaths =  14, number of infected = 60\n",
      "2020-08-30 10:41:14,898 - june.simulator - INFO - Date = 2020-08-19 00:00:00, number of deaths =  14, number of infected = 57\n",
      "2020-08-30 10:41:15,884 - june.simulator - INFO - Date = 2020-08-19 01:00:00, number of deaths =  14, number of infected = 57\n",
      "2020-08-30 10:41:16,474 - june.simulator - INFO - Date = 2020-08-19 09:00:00, number of deaths =  14, number of infected = 57\n",
      "2020-08-30 10:41:17,447 - june.simulator - INFO - Date = 2020-08-19 10:00:00, number of deaths =  14, number of infected = 57\n",
      "2020-08-30 10:41:18,014 - june.simulator - INFO - Date = 2020-08-19 13:00:00, number of deaths =  14, number of infected = 55\n",
      "2020-08-30 10:41:18,600 - june.simulator - INFO - Date = 2020-08-20 00:00:00, number of deaths =  14, number of infected = 55\n",
      "2020-08-30 10:41:19,578 - june.simulator - INFO - Date = 2020-08-20 01:00:00, number of deaths =  14, number of infected = 55\n",
      "2020-08-30 10:41:20,231 - june.simulator - INFO - Date = 2020-08-20 09:00:00, number of deaths =  14, number of infected = 55\n",
      "2020-08-30 10:41:21,181 - june.simulator - INFO - Date = 2020-08-20 10:00:00, number of deaths =  14, number of infected = 55\n",
      "2020-08-30 10:41:21,774 - june.simulator - INFO - Date = 2020-08-20 13:00:00, number of deaths =  14, number of infected = 56\n",
      "2020-08-30 10:41:22,372 - june.simulator - INFO - Date = 2020-08-21 00:00:00, number of deaths =  14, number of infected = 57\n",
      "2020-08-30 10:41:23,385 - june.simulator - INFO - Date = 2020-08-21 01:00:00, number of deaths =  14, number of infected = 58\n",
      "2020-08-30 10:41:24,014 - june.simulator - INFO - Date = 2020-08-21 09:00:00, number of deaths =  14, number of infected = 58\n",
      "2020-08-30 10:41:24,938 - june.simulator - INFO - Date = 2020-08-21 10:00:00, number of deaths =  14, number of infected = 58\n",
      "2020-08-30 10:41:25,527 - june.simulator - INFO - Date = 2020-08-21 13:00:00, number of deaths =  14, number of infected = 58\n",
      "2020-08-30 10:41:26,442 - june.simulator - INFO - Date = 2020-08-22 00:00:00, number of deaths =  14, number of infected = 60\n",
      "2020-08-30 10:41:27,322 - june.simulator - INFO - Date = 2020-08-22 04:00:00, number of deaths =  14, number of infected = 60\n",
      "2020-08-30 10:41:28,192 - june.simulator - INFO - Date = 2020-08-22 08:00:00, number of deaths =  14, number of infected = 60\n",
      "2020-08-30 10:41:28,779 - june.simulator - INFO - Date = 2020-08-22 12:00:00, number of deaths =  14, number of infected = 60\n",
      "2020-08-30 10:41:29,693 - june.simulator - INFO - Date = 2020-08-23 00:00:00, number of deaths =  14, number of infected = 60\n",
      "2020-08-30 10:41:30,552 - june.simulator - INFO - Date = 2020-08-23 04:00:00, number of deaths =  14, number of infected = 60\n",
      "2020-08-30 10:41:31,444 - june.simulator - INFO - Date = 2020-08-23 08:00:00, number of deaths =  14, number of infected = 59\n",
      "2020-08-30 10:41:32,048 - june.simulator - INFO - Date = 2020-08-23 12:00:00, number of deaths =  14, number of infected = 59\n",
      "2020-08-30 10:41:32,649 - june.simulator - INFO - Date = 2020-08-24 00:00:00, number of deaths =  14, number of infected = 59\n",
      "2020-08-30 10:41:33,664 - june.simulator - INFO - Date = 2020-08-24 01:00:00, number of deaths =  14, number of infected = 59\n",
      "2020-08-30 10:41:34,308 - june.simulator - INFO - Date = 2020-08-24 09:00:00, number of deaths =  14, number of infected = 59\n",
      "2020-08-30 10:41:35,256 - june.simulator - INFO - Date = 2020-08-24 10:00:00, number of deaths =  14, number of infected = 59\n",
      "2020-08-30 10:41:35,857 - june.simulator - INFO - Date = 2020-08-24 13:00:00, number of deaths =  14, number of infected = 59\n",
      "2020-08-30 10:41:36,459 - june.simulator - INFO - Date = 2020-08-25 00:00:00, number of deaths =  14, number of infected = 59\n",
      "2020-08-30 10:41:37,452 - june.simulator - INFO - Date = 2020-08-25 01:00:00, number of deaths =  14, number of infected = 59\n",
      "2020-08-30 10:41:38,112 - june.simulator - INFO - Date = 2020-08-25 09:00:00, number of deaths =  14, number of infected = 61\n",
      "2020-08-30 10:41:39,225 - june.simulator - INFO - Date = 2020-08-25 10:00:00, number of deaths =  14, number of infected = 61\n",
      "2020-08-30 10:41:39,836 - june.simulator - INFO - Date = 2020-08-25 13:00:00, number of deaths =  14, number of infected = 61\n",
      "2020-08-30 10:41:40,583 - june.simulator - INFO - Date = 2020-08-26 00:00:00, number of deaths =  14, number of infected = 63\n",
      "2020-08-30 10:41:42,016 - june.simulator - INFO - Date = 2020-08-26 01:00:00, number of deaths =  14, number of infected = 64\n",
      "2020-08-30 10:41:42,666 - june.simulator - INFO - Date = 2020-08-26 09:00:00, number of deaths =  14, number of infected = 64\n",
      "2020-08-30 10:41:43,715 - june.simulator - INFO - Date = 2020-08-26 10:00:00, number of deaths =  14, number of infected = 64\n",
      "2020-08-30 10:41:44,332 - june.simulator - INFO - Date = 2020-08-26 13:00:00, number of deaths =  14, number of infected = 64\n",
      "2020-08-30 10:41:44,964 - june.simulator - INFO - Date = 2020-08-27 00:00:00, number of deaths =  14, number of infected = 64\n",
      "2020-08-30 10:41:46,655 - june.simulator - INFO - Date = 2020-08-27 01:00:00, number of deaths =  14, number of infected = 64\n",
      "2020-08-30 10:41:47,698 - june.simulator - INFO - Date = 2020-08-27 09:00:00, number of deaths =  14, number of infected = 65\n",
      "2020-08-30 10:41:48,934 - june.simulator - INFO - Date = 2020-08-27 10:00:00, number of deaths =  14, number of infected = 65\n"
     ]
    },
    {
     "name": "stdout",
     "output_type": "stream",
     "text": [
      "2020-08-30 10:41:49,967 - june.simulator - INFO - Date = 2020-08-27 13:00:00, number of deaths =  14, number of infected = 64\n",
      "2020-08-30 10:41:50,629 - june.simulator - INFO - Date = 2020-08-28 00:00:00, number of deaths =  14, number of infected = 62\n",
      "2020-08-30 10:41:51,651 - june.simulator - INFO - Date = 2020-08-28 01:00:00, number of deaths =  14, number of infected = 62\n",
      "2020-08-30 10:41:52,348 - june.simulator - INFO - Date = 2020-08-28 09:00:00, number of deaths =  14, number of infected = 61\n",
      "2020-08-30 10:41:53,353 - june.simulator - INFO - Date = 2020-08-28 10:00:00, number of deaths =  14, number of infected = 61\n",
      "2020-08-30 10:41:54,352 - june.simulator - INFO - Date = 2020-08-28 13:00:00, number of deaths =  14, number of infected = 61\n",
      "2020-08-30 10:41:55,716 - june.simulator - INFO - Date = 2020-08-29 00:00:00, number of deaths =  14, number of infected = 61\n",
      "2020-08-30 10:41:56,699 - june.simulator - INFO - Date = 2020-08-29 04:00:00, number of deaths =  14, number of infected = 60\n",
      "2020-08-30 10:41:57,698 - june.simulator - INFO - Date = 2020-08-29 08:00:00, number of deaths =  14, number of infected = 60\n",
      "2020-08-30 10:41:58,397 - june.simulator - INFO - Date = 2020-08-29 12:00:00, number of deaths =  14, number of infected = 61\n",
      "2020-08-30 10:41:59,602 - june.simulator - INFO - Date = 2020-08-30 00:00:00, number of deaths =  14, number of infected = 60\n",
      "2020-08-30 10:42:01,092 - june.simulator - INFO - Date = 2020-08-30 04:00:00, number of deaths =  14, number of infected = 59\n",
      "2020-08-30 10:42:02,587 - june.simulator - INFO - Date = 2020-08-30 08:00:00, number of deaths =  14, number of infected = 59\n",
      "2020-08-30 10:42:03,415 - june.simulator - INFO - Date = 2020-08-30 12:00:00, number of deaths =  14, number of infected = 59\n",
      "2020-08-30 10:42:04,392 - june.simulator - INFO - Date = 2020-08-31 00:00:00, number of deaths =  14, number of infected = 56\n",
      "2020-08-30 10:42:05,498 - june.simulator - INFO - Date = 2020-08-31 01:00:00, number of deaths =  14, number of infected = 56\n",
      "2020-08-30 10:42:06,196 - june.simulator - INFO - Date = 2020-08-31 09:00:00, number of deaths =  14, number of infected = 55\n",
      "2020-08-30 10:42:07,341 - june.simulator - INFO - Date = 2020-08-31 10:00:00, number of deaths =  14, number of infected = 55\n",
      "2020-08-30 10:42:07,983 - june.simulator - INFO - Date = 2020-08-31 13:00:00, number of deaths =  14, number of infected = 55\n",
      "2020-08-30 10:42:08,558 - june.simulator - INFO - Date = 2020-09-01 00:00:00, number of deaths =  14, number of infected = 57\n",
      "2020-08-30 10:42:09,449 - june.simulator - INFO - Date = 2020-09-01 01:00:00, number of deaths =  14, number of infected = 57\n",
      "2020-08-30 10:42:09,984 - june.simulator - INFO - Date = 2020-09-01 09:00:00, number of deaths =  14, number of infected = 58\n",
      "2020-08-30 10:42:10,847 - june.simulator - INFO - Date = 2020-09-01 10:00:00, number of deaths =  14, number of infected = 58\n",
      "2020-08-30 10:42:11,362 - june.simulator - INFO - Date = 2020-09-01 13:00:00, number of deaths =  14, number of infected = 57\n",
      "2020-08-30 10:42:11,896 - june.simulator - INFO - Date = 2020-09-02 00:00:00, number of deaths =  14, number of infected = 57\n",
      "2020-08-30 10:42:12,751 - june.simulator - INFO - Date = 2020-09-02 01:00:00, number of deaths =  14, number of infected = 57\n",
      "2020-08-30 10:42:13,302 - june.simulator - INFO - Date = 2020-09-02 09:00:00, number of deaths =  14, number of infected = 59\n",
      "2020-08-30 10:42:14,120 - june.simulator - INFO - Date = 2020-09-02 10:00:00, number of deaths =  14, number of infected = 59\n",
      "2020-08-30 10:42:14,657 - june.simulator - INFO - Date = 2020-09-02 13:00:00, number of deaths =  14, number of infected = 59\n",
      "2020-08-30 10:42:15,261 - june.simulator - INFO - Date = 2020-09-03 00:00:00, number of deaths =  14, number of infected = 61\n",
      "2020-08-30 10:42:16,298 - june.simulator - INFO - Date = 2020-09-03 01:00:00, number of deaths =  14, number of infected = 61\n",
      "2020-08-30 10:42:16,916 - june.simulator - INFO - Date = 2020-09-03 09:00:00, number of deaths =  14, number of infected = 63\n",
      "2020-08-30 10:42:18,019 - june.simulator - INFO - Date = 2020-09-03 10:00:00, number of deaths =  14, number of infected = 63\n",
      "2020-08-30 10:42:18,609 - june.simulator - INFO - Date = 2020-09-03 13:00:00, number of deaths =  14, number of infected = 64\n",
      "2020-08-30 10:42:19,135 - june.simulator - INFO - Date = 2020-09-04 00:00:00, number of deaths =  14, number of infected = 64\n",
      "2020-08-30 10:42:20,004 - june.simulator - INFO - Date = 2020-09-04 01:00:00, number of deaths =  14, number of infected = 64\n",
      "2020-08-30 10:42:20,530 - june.simulator - INFO - Date = 2020-09-04 09:00:00, number of deaths =  14, number of infected = 64\n",
      "2020-08-30 10:42:21,386 - june.simulator - INFO - Date = 2020-09-04 10:00:00, number of deaths =  14, number of infected = 64\n",
      "2020-08-30 10:42:21,899 - june.simulator - INFO - Date = 2020-09-04 13:00:00, number of deaths =  14, number of infected = 65\n",
      "2020-08-30 10:42:22,715 - june.simulator - INFO - Date = 2020-09-05 00:00:00, number of deaths =  14, number of infected = 65\n",
      "2020-08-30 10:42:23,499 - june.simulator - INFO - Date = 2020-09-05 04:00:00, number of deaths =  14, number of infected = 68\n",
      "2020-08-30 10:42:24,274 - june.simulator - INFO - Date = 2020-09-05 08:00:00, number of deaths =  14, number of infected = 66\n",
      "2020-08-30 10:42:24,758 - june.simulator - INFO - Date = 2020-09-05 12:00:00, number of deaths =  14, number of infected = 67\n",
      "2020-08-30 10:42:25,542 - june.simulator - INFO - Date = 2020-09-06 00:00:00, number of deaths =  14, number of infected = 66\n",
      "2020-08-30 10:42:26,354 - june.simulator - INFO - Date = 2020-09-06 04:00:00, number of deaths =  14, number of infected = 67\n",
      "2020-08-30 10:42:27,141 - june.simulator - INFO - Date = 2020-09-06 08:00:00, number of deaths =  14, number of infected = 66\n",
      "2020-08-30 10:42:27,635 - june.simulator - INFO - Date = 2020-09-06 12:00:00, number of deaths =  14, number of infected = 64\n",
      "2020-08-30 10:42:28,172 - june.simulator - INFO - Date = 2020-09-07 00:00:00, number of deaths =  14, number of infected = 65\n",
      "2020-08-30 10:42:29,025 - june.simulator - INFO - Date = 2020-09-07 01:00:00, number of deaths =  14, number of infected = 65\n",
      "2020-08-30 10:42:29,691 - june.simulator - INFO - Date = 2020-09-07 09:00:00, number of deaths =  14, number of infected = 71\n",
      "2020-08-30 10:42:30,499 - june.simulator - INFO - Date = 2020-09-07 10:00:00, number of deaths =  14, number of infected = 71\n",
      "2020-08-30 10:42:31,043 - june.simulator - INFO - Date = 2020-09-07 13:00:00, number of deaths =  14, number of infected = 71\n",
      "2020-08-30 10:42:31,542 - june.simulator - INFO - Date = 2020-09-08 00:00:00, number of deaths =  14, number of infected = 70\n",
      "2020-08-30 10:42:32,395 - june.simulator - INFO - Date = 2020-09-08 01:00:00, number of deaths =  14, number of infected = 70\n",
      "2020-08-30 10:42:32,902 - june.simulator - INFO - Date = 2020-09-08 09:00:00, number of deaths =  14, number of infected = 71\n",
      "2020-08-30 10:42:33,725 - june.simulator - INFO - Date = 2020-09-08 10:00:00, number of deaths =  14, number of infected = 71\n",
      "2020-08-30 10:42:34,236 - june.simulator - INFO - Date = 2020-09-08 13:00:00, number of deaths =  14, number of infected = 71\n",
      "2020-08-30 10:42:34,780 - june.simulator - INFO - Date = 2020-09-09 00:00:00, number of deaths =  14, number of infected = 72\n",
      "2020-08-30 10:42:35,677 - june.simulator - INFO - Date = 2020-09-09 01:00:00, number of deaths =  14, number of infected = 72\n",
      "2020-08-30 10:42:36,230 - june.simulator - INFO - Date = 2020-09-09 09:00:00, number of deaths =  14, number of infected = 75\n",
      "2020-08-30 10:42:37,066 - june.simulator - INFO - Date = 2020-09-09 10:00:00, number of deaths =  14, number of infected = 74\n",
      "2020-08-30 10:42:37,569 - june.simulator - INFO - Date = 2020-09-09 13:00:00, number of deaths =  14, number of infected = 75\n",
      "2020-08-30 10:42:38,206 - june.simulator - INFO - Date = 2020-09-10 00:00:00, number of deaths =  14, number of infected = 79\n",
      "2020-08-30 10:42:39,216 - june.simulator - INFO - Date = 2020-09-10 01:00:00, number of deaths =  14, number of infected = 79\n",
      "2020-08-30 10:42:39,996 - june.simulator - INFO - Date = 2020-09-10 09:00:00, number of deaths =  14, number of infected = 79\n",
      "2020-08-30 10:42:41,043 - june.simulator - INFO - Date = 2020-09-10 10:00:00, number of deaths =  14, number of infected = 79\n"
     ]
    },
    {
     "name": "stdout",
     "output_type": "stream",
     "text": [
      "2020-08-30 10:42:41,613 - june.simulator - INFO - Date = 2020-09-10 13:00:00, number of deaths =  14, number of infected = 79\n",
      "2020-08-30 10:42:42,197 - june.simulator - INFO - Date = 2020-09-11 00:00:00, number of deaths =  14, number of infected = 79\n",
      "2020-08-30 10:42:43,154 - june.simulator - INFO - Date = 2020-09-11 01:00:00, number of deaths =  14, number of infected = 79\n",
      "2020-08-30 10:42:43,701 - june.simulator - INFO - Date = 2020-09-11 09:00:00, number of deaths =  14, number of infected = 84\n",
      "2020-08-30 10:42:45,192 - june.simulator - INFO - Date = 2020-09-11 10:00:00, number of deaths =  14, number of infected = 84\n",
      "2020-08-30 10:42:46,137 - june.simulator - INFO - Date = 2020-09-11 13:00:00, number of deaths =  14, number of infected = 84\n",
      "2020-08-30 10:42:47,021 - june.simulator - INFO - Date = 2020-09-12 00:00:00, number of deaths =  14, number of infected = 86\n",
      "2020-08-30 10:42:47,854 - june.simulator - INFO - Date = 2020-09-12 04:00:00, number of deaths =  14, number of infected = 87\n",
      "2020-08-30 10:42:48,696 - june.simulator - INFO - Date = 2020-09-12 08:00:00, number of deaths =  14, number of infected = 89\n",
      "2020-08-30 10:42:49,223 - june.simulator - INFO - Date = 2020-09-12 12:00:00, number of deaths =  14, number of infected = 88\n",
      "2020-08-30 10:42:50,090 - june.simulator - INFO - Date = 2020-09-13 00:00:00, number of deaths =  14, number of infected = 90\n",
      "2020-08-30 10:42:51,020 - june.simulator - INFO - Date = 2020-09-13 04:00:00, number of deaths =  14, number of infected = 93\n",
      "2020-08-30 10:42:51,964 - june.simulator - INFO - Date = 2020-09-13 08:00:00, number of deaths =  14, number of infected = 92\n",
      "2020-08-30 10:42:52,489 - june.simulator - INFO - Date = 2020-09-13 12:00:00, number of deaths =  14, number of infected = 93\n",
      "2020-08-30 10:42:53,043 - june.simulator - INFO - Date = 2020-09-14 00:00:00, number of deaths =  14, number of infected = 94\n",
      "2020-08-30 10:42:53,914 - june.simulator - INFO - Date = 2020-09-14 01:00:00, number of deaths =  14, number of infected = 94\n",
      "2020-08-30 10:42:54,446 - june.simulator - INFO - Date = 2020-09-14 09:00:00, number of deaths =  14, number of infected = 95\n",
      "2020-08-30 10:42:56,024 - june.simulator - INFO - Date = 2020-09-14 10:00:00, number of deaths =  14, number of infected = 95\n",
      "2020-08-30 10:42:56,816 - june.simulator - INFO - Date = 2020-09-14 13:00:00, number of deaths =  14, number of infected = 95\n",
      "2020-08-30 10:42:57,391 - june.simulator - INFO - Date = 2020-09-15 00:00:00, number of deaths =  14, number of infected = 99\n",
      "2020-08-30 10:42:58,288 - june.simulator - INFO - Date = 2020-09-15 01:00:00, number of deaths =  14, number of infected = 99\n",
      "2020-08-30 10:42:58,850 - june.simulator - INFO - Date = 2020-09-15 09:00:00, number of deaths =  14, number of infected = 100\n",
      "2020-08-30 10:42:59,714 - june.simulator - INFO - Date = 2020-09-15 10:00:00, number of deaths =  14, number of infected = 100\n",
      "2020-08-30 10:43:00,250 - june.simulator - INFO - Date = 2020-09-15 13:00:00, number of deaths =  14, number of infected = 100\n",
      "2020-08-30 10:43:00,751 - june.simulator - INFO - Date = 2020-09-16 00:00:00, number of deaths =  14, number of infected = 100\n",
      "2020-08-30 10:43:01,620 - june.simulator - INFO - Date = 2020-09-16 01:00:00, number of deaths =  14, number of infected = 100\n",
      "2020-08-30 10:43:02,200 - june.simulator - INFO - Date = 2020-09-16 09:00:00, number of deaths =  14, number of infected = 101\n",
      "2020-08-30 10:43:03,093 - june.simulator - INFO - Date = 2020-09-16 10:00:00, number of deaths =  14, number of infected = 101\n",
      "2020-08-30 10:43:03,585 - june.simulator - INFO - Date = 2020-09-16 13:00:00, number of deaths =  14, number of infected = 101\n",
      "2020-08-30 10:43:04,143 - june.simulator - INFO - Date = 2020-09-17 00:00:00, number of deaths =  14, number of infected = 103\n",
      "2020-08-30 10:43:05,094 - june.simulator - INFO - Date = 2020-09-17 01:00:00, number of deaths =  14, number of infected = 103\n",
      "2020-08-30 10:43:05,956 - june.simulator - INFO - Date = 2020-09-17 09:00:00, number of deaths =  14, number of infected = 101\n",
      "2020-08-30 10:43:07,030 - june.simulator - INFO - Date = 2020-09-17 10:00:00, number of deaths =  14, number of infected = 101\n",
      "2020-08-30 10:43:07,553 - june.simulator - INFO - Date = 2020-09-17 13:00:00, number of deaths =  14, number of infected = 101\n",
      "2020-08-30 10:43:08,107 - june.simulator - INFO - Date = 2020-09-18 00:00:00, number of deaths =  14, number of infected = 104\n",
      "2020-08-30 10:43:09,496 - june.simulator - INFO - Date = 2020-09-18 01:00:00, number of deaths =  14, number of infected = 104\n",
      "2020-08-30 10:43:10,247 - june.simulator - INFO - Date = 2020-09-18 09:00:00, number of deaths =  14, number of infected = 104\n",
      "2020-08-30 10:43:11,768 - june.simulator - INFO - Date = 2020-09-18 10:00:00, number of deaths =  14, number of infected = 104\n",
      "2020-08-30 10:43:12,285 - june.simulator - INFO - Date = 2020-09-18 13:00:00, number of deaths =  14, number of infected = 104\n",
      "2020-08-30 10:43:13,133 - june.simulator - INFO - Date = 2020-09-19 00:00:00, number of deaths =  14, number of infected = 107\n",
      "2020-08-30 10:43:14,046 - june.simulator - INFO - Date = 2020-09-19 04:00:00, number of deaths =  14, number of infected = 108\n",
      "2020-08-30 10:43:14,972 - june.simulator - INFO - Date = 2020-09-19 08:00:00, number of deaths =  14, number of infected = 109\n",
      "2020-08-30 10:43:15,511 - june.simulator - INFO - Date = 2020-09-19 12:00:00, number of deaths =  14, number of infected = 109\n",
      "2020-08-30 10:43:16,373 - june.simulator - INFO - Date = 2020-09-20 00:00:00, number of deaths =  14, number of infected = 107\n",
      "2020-08-30 10:43:17,532 - june.simulator - INFO - Date = 2020-09-20 04:00:00, number of deaths =  14, number of infected = 107\n",
      "2020-08-30 10:43:18,950 - june.simulator - INFO - Date = 2020-09-20 08:00:00, number of deaths =  14, number of infected = 106\n",
      "2020-08-30 10:43:19,757 - june.simulator - INFO - Date = 2020-09-20 12:00:00, number of deaths =  14, number of infected = 107\n",
      "2020-08-30 10:43:20,464 - june.simulator - INFO - Date = 2020-09-21 00:00:00, number of deaths =  14, number of infected = 108\n",
      "2020-08-30 10:43:21,949 - june.simulator - INFO - Date = 2020-09-21 01:00:00, number of deaths =  14, number of infected = 108\n",
      "2020-08-30 10:43:22,625 - june.simulator - INFO - Date = 2020-09-21 09:00:00, number of deaths =  14, number of infected = 108\n",
      "2020-08-30 10:43:23,680 - june.simulator - INFO - Date = 2020-09-21 10:00:00, number of deaths =  14, number of infected = 108\n",
      "2020-08-30 10:43:24,205 - june.simulator - INFO - Date = 2020-09-21 13:00:00, number of deaths =  14, number of infected = 108\n",
      "2020-08-30 10:43:24,790 - june.simulator - INFO - Date = 2020-09-22 00:00:00, number of deaths =  14, number of infected = 106\n",
      "2020-08-30 10:43:25,732 - june.simulator - INFO - Date = 2020-09-22 01:00:00, number of deaths =  14, number of infected = 106\n",
      "2020-08-30 10:43:26,367 - june.simulator - INFO - Date = 2020-09-22 09:00:00, number of deaths =  14, number of infected = 106\n",
      "2020-08-30 10:43:27,211 - june.simulator - INFO - Date = 2020-09-22 10:00:00, number of deaths =  14, number of infected = 106\n",
      "2020-08-30 10:43:27,736 - june.simulator - INFO - Date = 2020-09-22 13:00:00, number of deaths =  14, number of infected = 104\n",
      "2020-08-30 10:43:28,265 - june.simulator - INFO - Date = 2020-09-23 00:00:00, number of deaths =  14, number of infected = 102\n",
      "2020-08-30 10:43:29,133 - june.simulator - INFO - Date = 2020-09-23 01:00:00, number of deaths =  14, number of infected = 102\n",
      "2020-08-30 10:43:29,647 - june.simulator - INFO - Date = 2020-09-23 09:00:00, number of deaths =  14, number of infected = 102\n",
      "2020-08-30 10:43:30,473 - june.simulator - INFO - Date = 2020-09-23 10:00:00, number of deaths =  14, number of infected = 101\n",
      "2020-08-30 10:43:31,029 - june.simulator - INFO - Date = 2020-09-23 13:00:00, number of deaths =  14, number of infected = 101\n",
      "2020-08-30 10:43:31,706 - june.simulator - INFO - Date = 2020-09-24 00:00:00, number of deaths =  14, number of infected = 100\n",
      "2020-08-30 10:43:32,752 - june.simulator - INFO - Date = 2020-09-24 01:00:00, number of deaths =  14, number of infected = 100\n",
      "2020-08-30 10:43:33,421 - june.simulator - INFO - Date = 2020-09-24 09:00:00, number of deaths =  14, number of infected = 97\n"
     ]
    },
    {
     "name": "stdout",
     "output_type": "stream",
     "text": [
      "2020-08-30 10:43:34,390 - june.simulator - INFO - Date = 2020-09-24 10:00:00, number of deaths =  14, number of infected = 95\n",
      "2020-08-30 10:43:34,915 - june.simulator - INFO - Date = 2020-09-24 13:00:00, number of deaths =  14, number of infected = 95\n",
      "2020-08-30 10:43:35,463 - june.simulator - INFO - Date = 2020-09-25 00:00:00, number of deaths =  14, number of infected = 93\n",
      "2020-08-30 10:43:36,354 - june.simulator - INFO - Date = 2020-09-25 01:00:00, number of deaths =  14, number of infected = 93\n",
      "2020-08-30 10:43:36,910 - june.simulator - INFO - Date = 2020-09-25 09:00:00, number of deaths =  14, number of infected = 90\n",
      "2020-08-30 10:43:37,749 - june.simulator - INFO - Date = 2020-09-25 10:00:00, number of deaths =  14, number of infected = 89\n",
      "2020-08-30 10:43:38,266 - june.simulator - INFO - Date = 2020-09-25 13:00:00, number of deaths =  14, number of infected = 89\n",
      "2020-08-30 10:43:39,077 - june.simulator - INFO - Date = 2020-09-26 00:00:00, number of deaths =  14, number of infected = 86\n",
      "2020-08-30 10:43:40,002 - june.simulator - INFO - Date = 2020-09-26 04:00:00, number of deaths =  14, number of infected = 85\n",
      "2020-08-30 10:43:40,964 - june.simulator - INFO - Date = 2020-09-26 08:00:00, number of deaths =  14, number of infected = 85\n",
      "2020-08-30 10:43:41,535 - june.simulator - INFO - Date = 2020-09-26 12:00:00, number of deaths =  14, number of infected = 85\n",
      "2020-08-30 10:43:42,574 - june.simulator - INFO - Date = 2020-09-27 00:00:00, number of deaths =  14, number of infected = 85\n",
      "2020-08-30 10:43:43,558 - june.simulator - INFO - Date = 2020-09-27 04:00:00, number of deaths =  14, number of infected = 85\n",
      "2020-08-30 10:43:44,563 - june.simulator - INFO - Date = 2020-09-27 08:00:00, number of deaths =  14, number of infected = 85\n",
      "2020-08-30 10:43:45,075 - june.simulator - INFO - Date = 2020-09-27 12:00:00, number of deaths =  14, number of infected = 85\n",
      "2020-08-30 10:43:45,901 - june.simulator - INFO - Date = 2020-09-28 00:00:00, number of deaths =  14, number of infected = 83\n",
      "2020-08-30 10:43:46,764 - june.simulator - INFO - Date = 2020-09-28 01:00:00, number of deaths =  14, number of infected = 82\n",
      "2020-08-30 10:43:47,309 - june.simulator - INFO - Date = 2020-09-28 09:00:00, number of deaths =  14, number of infected = 81\n",
      "2020-08-30 10:43:48,178 - june.simulator - INFO - Date = 2020-09-28 10:00:00, number of deaths =  14, number of infected = 80\n",
      "2020-08-30 10:43:48,675 - june.simulator - INFO - Date = 2020-09-28 13:00:00, number of deaths =  14, number of infected = 79\n",
      "2020-08-30 10:43:49,212 - june.simulator - INFO - Date = 2020-09-29 00:00:00, number of deaths =  14, number of infected = 79\n",
      "2020-08-30 10:43:50,141 - june.simulator - INFO - Date = 2020-09-29 01:00:00, number of deaths =  14, number of infected = 78\n",
      "2020-08-30 10:43:50,671 - june.simulator - INFO - Date = 2020-09-29 09:00:00, number of deaths =  14, number of infected = 76\n",
      "2020-08-30 10:43:51,493 - june.simulator - INFO - Date = 2020-09-29 10:00:00, number of deaths =  14, number of infected = 76\n",
      "2020-08-30 10:43:52,037 - june.simulator - INFO - Date = 2020-09-29 13:00:00, number of deaths =  14, number of infected = 76\n",
      "2020-08-30 10:43:52,565 - june.simulator - INFO - Date = 2020-09-30 00:00:00, number of deaths =  14, number of infected = 72\n",
      "2020-08-30 10:43:53,440 - june.simulator - INFO - Date = 2020-09-30 01:00:00, number of deaths =  14, number of infected = 72\n",
      "2020-08-30 10:43:53,962 - june.simulator - INFO - Date = 2020-09-30 09:00:00, number of deaths =  14, number of infected = 72\n",
      "2020-08-30 10:43:54,867 - june.simulator - INFO - Date = 2020-09-30 10:00:00, number of deaths =  14, number of infected = 72\n",
      "2020-08-30 10:43:55,356 - june.simulator - INFO - Date = 2020-09-30 13:00:00, number of deaths =  14, number of infected = 72\n",
      "2020-08-30 10:43:55,901 - june.simulator - INFO - Date = 2020-10-01 00:00:00, number of deaths =  14, number of infected = 67\n",
      "2020-08-30 10:43:56,773 - june.simulator - INFO - Date = 2020-10-01 01:00:00, number of deaths =  14, number of infected = 67\n",
      "2020-08-30 10:43:57,294 - june.simulator - INFO - Date = 2020-10-01 09:00:00, number of deaths =  14, number of infected = 64\n",
      "2020-08-30 10:43:58,148 - june.simulator - INFO - Date = 2020-10-01 10:00:00, number of deaths =  14, number of infected = 64\n",
      "2020-08-30 10:43:58,642 - june.simulator - INFO - Date = 2020-10-01 13:00:00, number of deaths =  14, number of infected = 64\n",
      "2020-08-30 10:43:59,189 - june.simulator - INFO - Date = 2020-10-02 00:00:00, number of deaths =  14, number of infected = 63\n",
      "2020-08-30 10:44:00,044 - june.simulator - INFO - Date = 2020-10-02 01:00:00, number of deaths =  14, number of infected = 62\n",
      "2020-08-30 10:44:00,565 - june.simulator - INFO - Date = 2020-10-02 09:00:00, number of deaths =  14, number of infected = 60\n",
      "2020-08-30 10:44:01,497 - june.simulator - INFO - Date = 2020-10-02 10:00:00, number of deaths =  14, number of infected = 60\n",
      "2020-08-30 10:44:02,030 - june.simulator - INFO - Date = 2020-10-02 13:00:00, number of deaths =  14, number of infected = 60\n",
      "2020-08-30 10:44:02,855 - june.simulator - INFO - Date = 2020-10-03 00:00:00, number of deaths =  14, number of infected = 58\n",
      "2020-08-30 10:44:03,678 - june.simulator - INFO - Date = 2020-10-03 04:00:00, number of deaths =  14, number of infected = 58\n",
      "2020-08-30 10:44:04,508 - june.simulator - INFO - Date = 2020-10-03 08:00:00, number of deaths =  14, number of infected = 57\n",
      "2020-08-30 10:44:05,021 - june.simulator - INFO - Date = 2020-10-03 12:00:00, number of deaths =  14, number of infected = 56\n",
      "2020-08-30 10:44:05,850 - june.simulator - INFO - Date = 2020-10-04 00:00:00, number of deaths =  14, number of infected = 52\n",
      "2020-08-30 10:44:06,656 - june.simulator - INFO - Date = 2020-10-04 04:00:00, number of deaths =  14, number of infected = 50\n",
      "2020-08-30 10:44:08,063 - june.simulator - INFO - Date = 2020-10-04 08:00:00, number of deaths =  14, number of infected = 48\n",
      "2020-08-30 10:44:08,665 - june.simulator - INFO - Date = 2020-10-04 12:00:00, number of deaths =  14, number of infected = 46\n",
      "2020-08-30 10:44:09,338 - june.simulator - INFO - Date = 2020-10-05 00:00:00, number of deaths =  14, number of infected = 42\n"
     ]
    },
    {
     "ename": "KeyboardInterrupt",
     "evalue": "",
     "output_type": "error",
     "traceback": [
      "\u001b[0;31m---------------------------------------------------------------------------\u001b[0m",
      "\u001b[0;31mKeyboardInterrupt\u001b[0m                         Traceback (most recent call last)",
      "\u001b[0;32m<timed eval>\u001b[0m in \u001b[0;36m<module>\u001b[0;34m\u001b[0m\n",
      "\u001b[0;32m~/JUNE/june/simulator.py\u001b[0m in \u001b[0;36mrun\u001b[0;34m(self)\u001b[0m\n\u001b[1;32m    466\u001b[0m                 ):\n\u001b[1;32m    467\u001b[0m                     \u001b[0mself\u001b[0m\u001b[0;34m.\u001b[0m\u001b[0minfection_seed\u001b[0m\u001b[0;34m.\u001b[0m\u001b[0munleash_virus_per_region\u001b[0m\u001b[0;34m(\u001b[0m\u001b[0mself\u001b[0m\u001b[0;34m.\u001b[0m\u001b[0mtimer\u001b[0m\u001b[0;34m.\u001b[0m\u001b[0mdate\u001b[0m\u001b[0;34m)\u001b[0m\u001b[0;34m\u001b[0m\u001b[0;34m\u001b[0m\u001b[0m\n\u001b[0;32m--> 468\u001b[0;31m             \u001b[0mself\u001b[0m\u001b[0;34m.\u001b[0m\u001b[0mdo_timestep\u001b[0m\u001b[0;34m(\u001b[0m\u001b[0;34m)\u001b[0m\u001b[0;34m\u001b[0m\u001b[0;34m\u001b[0m\u001b[0m\n\u001b[0m\u001b[1;32m    469\u001b[0m             if (\n\u001b[1;32m    470\u001b[0m                 \u001b[0mself\u001b[0m\u001b[0;34m.\u001b[0m\u001b[0mtimer\u001b[0m\u001b[0;34m.\u001b[0m\u001b[0mdate\u001b[0m\u001b[0;34m.\u001b[0m\u001b[0mdate\u001b[0m\u001b[0;34m(\u001b[0m\u001b[0;34m)\u001b[0m \u001b[0;32min\u001b[0m \u001b[0mself\u001b[0m\u001b[0;34m.\u001b[0m\u001b[0mcheckpoint_dates\u001b[0m\u001b[0;34m\u001b[0m\u001b[0;34m\u001b[0m\u001b[0m\n",
      "\u001b[0;32m~/JUNE/june/simulator.py\u001b[0m in \u001b[0;36mdo_timestep\u001b[0;34m(self)\u001b[0m\n\u001b[1;32m    368\u001b[0m             \u001b[0mlogger\u001b[0m\u001b[0;34m.\u001b[0m\u001b[0minfo\u001b[0m\u001b[0;34m(\u001b[0m\u001b[0;34m\"==== do_timestep(): no active groups found. ====\"\u001b[0m\u001b[0;34m)\u001b[0m\u001b[0;34m\u001b[0m\u001b[0;34m\u001b[0m\u001b[0m\n\u001b[1;32m    369\u001b[0m             \u001b[0;32mreturn\u001b[0m\u001b[0;34m\u001b[0m\u001b[0;34m\u001b[0m\u001b[0m\n\u001b[0;32m--> 370\u001b[0;31m         \u001b[0mself\u001b[0m\u001b[0;34m.\u001b[0m\u001b[0mactivity_manager\u001b[0m\u001b[0;34m.\u001b[0m\u001b[0mdo_timestep\u001b[0m\u001b[0;34m(\u001b[0m\u001b[0;34m)\u001b[0m\u001b[0;34m\u001b[0m\u001b[0;34m\u001b[0m\u001b[0m\n\u001b[0m\u001b[1;32m    371\u001b[0m \u001b[0;34m\u001b[0m\u001b[0m\n\u001b[1;32m    372\u001b[0m         \u001b[0mactive_groups\u001b[0m \u001b[0;34m=\u001b[0m \u001b[0mself\u001b[0m\u001b[0;34m.\u001b[0m\u001b[0mactivity_manager\u001b[0m\u001b[0;34m.\u001b[0m\u001b[0mactive_groups\u001b[0m\u001b[0;34m\u001b[0m\u001b[0;34m\u001b[0m\u001b[0m\n",
      "\u001b[0;32m~/JUNE/june/activity/activity_manager.py\u001b[0m in \u001b[0;36mdo_timestep\u001b[0;34m(self)\u001b[0m\n\u001b[1;32m    229\u001b[0m                 \u001b[0mworking_hours\u001b[0m\u001b[0;34m=\u001b[0m \u001b[0;34m\"primary_activity\"\u001b[0m \u001b[0;32min\u001b[0m \u001b[0mactivities\u001b[0m\u001b[0;34m\u001b[0m\u001b[0;34m\u001b[0m\u001b[0m\n\u001b[1;32m    230\u001b[0m             )\n\u001b[0;32m--> 231\u001b[0;31m         self.move_people_to_active_subgroups(\n\u001b[0m\u001b[1;32m    232\u001b[0m             \u001b[0mactivities\u001b[0m\u001b[0;34m,\u001b[0m \u001b[0mself\u001b[0m\u001b[0;34m.\u001b[0m\u001b[0mtimer\u001b[0m\u001b[0;34m.\u001b[0m\u001b[0mdate\u001b[0m\u001b[0;34m,\u001b[0m \u001b[0mself\u001b[0m\u001b[0;34m.\u001b[0m\u001b[0mtimer\u001b[0m\u001b[0;34m.\u001b[0m\u001b[0mnow\u001b[0m\u001b[0;34m,\u001b[0m\u001b[0;34m\u001b[0m\u001b[0;34m\u001b[0m\u001b[0m\n\u001b[1;32m    233\u001b[0m         )\n",
      "\u001b[0;32m~/JUNE/june/activity/activity_manager.py\u001b[0m in \u001b[0;36mmove_people_to_active_subgroups\u001b[0;34m(self, activities, date, days_from_start)\u001b[0m\n\u001b[1;32m    263\u001b[0m                 \u001b[0mrandom_ratio\u001b[0m\u001b[0;34m=\u001b[0m\u001b[0mself\u001b[0m\u001b[0;34m.\u001b[0m\u001b[0mrandom_ratio\u001b[0m\u001b[0;34m,\u001b[0m\u001b[0;34m\u001b[0m\u001b[0;34m\u001b[0m\u001b[0m\n\u001b[1;32m    264\u001b[0m             )\n\u001b[0;32m--> 265\u001b[0;31m             \u001b[0mself\u001b[0m\u001b[0;34m.\u001b[0m\u001b[0mmove_to_active_subgroup\u001b[0m\u001b[0;34m(\u001b[0m\u001b[0mallowed_activities\u001b[0m\u001b[0;34m,\u001b[0m \u001b[0mperson\u001b[0m\u001b[0;34m)\u001b[0m\u001b[0;34m\u001b[0m\u001b[0;34m\u001b[0m\u001b[0m\n\u001b[0m",
      "\u001b[0;32m~/JUNE/june/activity/activity_manager.py\u001b[0m in \u001b[0;36mmove_to_active_subgroup\u001b[0;34m(self, activities, person)\u001b[0m\n\u001b[1;32m    187\u001b[0m                 )\n\u001b[1;32m    188\u001b[0m             \u001b[0;32melse\u001b[0m\u001b[0;34m:\u001b[0m\u001b[0;34m\u001b[0m\u001b[0;34m\u001b[0m\u001b[0m\n\u001b[0;32m--> 189\u001b[0;31m                 \u001b[0msubgroup\u001b[0m \u001b[0;34m=\u001b[0m \u001b[0mself\u001b[0m\u001b[0;34m.\u001b[0m\u001b[0mget_personal_subgroup\u001b[0m\u001b[0;34m(\u001b[0m\u001b[0mperson\u001b[0m\u001b[0;34m=\u001b[0m\u001b[0mperson\u001b[0m\u001b[0;34m,\u001b[0m \u001b[0mactivity\u001b[0m\u001b[0;34m=\u001b[0m\u001b[0mactivity\u001b[0m\u001b[0;34m)\u001b[0m\u001b[0;34m\u001b[0m\u001b[0;34m\u001b[0m\u001b[0m\n\u001b[0m\u001b[1;32m    190\u001b[0m             \u001b[0;32mif\u001b[0m \u001b[0msubgroup\u001b[0m \u001b[0;32mis\u001b[0m \u001b[0;32mnot\u001b[0m \u001b[0;32mNone\u001b[0m\u001b[0;34m:\u001b[0m\u001b[0;34m\u001b[0m\u001b[0;34m\u001b[0m\u001b[0m\n\u001b[1;32m    191\u001b[0m                 \u001b[0msubgroup\u001b[0m\u001b[0;34m.\u001b[0m\u001b[0mappend\u001b[0m\u001b[0;34m(\u001b[0m\u001b[0mperson\u001b[0m\u001b[0;34m)\u001b[0m\u001b[0;34m\u001b[0m\u001b[0;34m\u001b[0m\u001b[0m\n",
      "\u001b[0;32m~/JUNE/june/activity/activity_manager.py\u001b[0m in \u001b[0;36mget_personal_subgroup\u001b[0;34m(self, person, activity)\u001b[0m\n\u001b[1;32m    209\u001b[0m         \u001b[0mSubgroup\u001b[0m \u001b[0;32mfor\u001b[0m \u001b[0mactivity\u001b[0m\u001b[0;34m\u001b[0m\u001b[0;34m\u001b[0m\u001b[0m\n\u001b[1;32m    210\u001b[0m         \"\"\"\n\u001b[0;32m--> 211\u001b[0;31m         \u001b[0;32mreturn\u001b[0m \u001b[0mgetattr\u001b[0m\u001b[0;34m(\u001b[0m\u001b[0mperson\u001b[0m\u001b[0;34m,\u001b[0m \u001b[0mactivity\u001b[0m\u001b[0;34m)\u001b[0m\u001b[0;34m\u001b[0m\u001b[0;34m\u001b[0m\u001b[0m\n\u001b[0m\u001b[1;32m    212\u001b[0m \u001b[0;34m\u001b[0m\u001b[0m\n\u001b[1;32m    213\u001b[0m     \u001b[0;32mdef\u001b[0m \u001b[0mdo_timestep\u001b[0m\u001b[0;34m(\u001b[0m\u001b[0mself\u001b[0m\u001b[0;34m)\u001b[0m\u001b[0;34m:\u001b[0m\u001b[0;34m\u001b[0m\u001b[0;34m\u001b[0m\u001b[0m\n",
      "\u001b[0;31mKeyboardInterrupt\u001b[0m: "
     ]
    }
   ],
   "source": [
    "%%time\n",
    "simulator.run()"
   ]
  },
  {
   "cell_type": "markdown",
   "metadata": {},
   "source": [
    "While the simulation runs (and afterwards) we can launch the visualization webpage by running\n",
    "```python june/visualizer.py path/to/results``` "
   ]
  },
  {
   "cell_type": "markdown",
   "metadata": {},
   "source": [
    "# Getting the results"
   ]
  },
  {
   "cell_type": "markdown",
   "metadata": {},
   "source": [
    "All results are stored in a json file specified in the ``save_path`` variable in the config file. We can also access it from ``world.logger`` directly."
   ]
  },
  {
   "cell_type": "code",
   "execution_count": 23,
   "metadata": {},
   "outputs": [],
   "source": [
    "import pandas as pd"
   ]
  },
  {
   "cell_type": "code",
   "execution_count": 63,
   "metadata": {},
   "outputs": [],
   "source": [
    "read = ReadLogger()"
   ]
  },
  {
   "cell_type": "markdown",
   "metadata": {},
   "source": [
    "## Hospital data and how it changed over time"
   ]
  },
  {
   "cell_type": "code",
   "execution_count": 64,
   "metadata": {},
   "outputs": [],
   "source": [
    "hospitals_df = read.load_hospital_capacity()"
   ]
  },
  {
   "cell_type": "code",
   "execution_count": 65,
   "metadata": {},
   "outputs": [
    {
     "data": {
      "text/html": [
       "<div>\n",
       "<style scoped>\n",
       "    .dataframe tbody tr th:only-of-type {\n",
       "        vertical-align: middle;\n",
       "    }\n",
       "\n",
       "    .dataframe tbody tr th {\n",
       "        vertical-align: top;\n",
       "    }\n",
       "\n",
       "    .dataframe thead th {\n",
       "        text-align: right;\n",
       "    }\n",
       "</style>\n",
       "<table border=\"1\" class=\"dataframe\">\n",
       "  <thead>\n",
       "    <tr style=\"text-align: right;\">\n",
       "      <th></th>\n",
       "      <th>time_stamp</th>\n",
       "      <th>id</th>\n",
       "      <th>n_patients</th>\n",
       "      <th>n_patients_icu</th>\n",
       "    </tr>\n",
       "  </thead>\n",
       "  <tbody>\n",
       "    <tr>\n",
       "      <th>0</th>\n",
       "      <td>2020-03-01T00:00:00.000000</td>\n",
       "      <td>0</td>\n",
       "      <td>0</td>\n",
       "      <td>0</td>\n",
       "    </tr>\n",
       "    <tr>\n",
       "      <th>1</th>\n",
       "      <td>2020-03-01T04:00:00.000000</td>\n",
       "      <td>0</td>\n",
       "      <td>0</td>\n",
       "      <td>0</td>\n",
       "    </tr>\n",
       "    <tr>\n",
       "      <th>2</th>\n",
       "      <td>2020-03-01T08:00:00.000000</td>\n",
       "      <td>0</td>\n",
       "      <td>0</td>\n",
       "      <td>0</td>\n",
       "    </tr>\n",
       "  </tbody>\n",
       "</table>\n",
       "</div>"
      ],
      "text/plain": [
       "                   time_stamp id n_patients n_patients_icu\n",
       "0  2020-03-01T00:00:00.000000  0          0              0\n",
       "1  2020-03-01T04:00:00.000000  0          0              0\n",
       "2  2020-03-01T08:00:00.000000  0          0              0"
      ]
     },
     "execution_count": 65,
     "metadata": {},
     "output_type": "execute_result"
    }
   ],
   "source": [
    "hospitals_df.head(3)"
   ]
  },
  {
   "cell_type": "code",
   "execution_count": 66,
   "metadata": {},
   "outputs": [],
   "source": [
    "hospitals_characteristics_df = read.load_hospital_characteristics()"
   ]
  },
  {
   "cell_type": "code",
   "execution_count": 67,
   "metadata": {},
   "outputs": [
    {
     "data": {
      "text/html": [
       "<div>\n",
       "<style scoped>\n",
       "    .dataframe tbody tr th:only-of-type {\n",
       "        vertical-align: middle;\n",
       "    }\n",
       "\n",
       "    .dataframe tbody tr th {\n",
       "        vertical-align: top;\n",
       "    }\n",
       "\n",
       "    .dataframe thead th {\n",
       "        text-align: right;\n",
       "    }\n",
       "</style>\n",
       "<table border=\"1\" class=\"dataframe\">\n",
       "  <thead>\n",
       "    <tr style=\"text-align: right;\">\n",
       "      <th></th>\n",
       "      <th>longitude</th>\n",
       "      <th>latitude</th>\n",
       "      <th>n_beds</th>\n",
       "      <th>n_icu_beds</th>\n",
       "      <th>trust_code</th>\n",
       "    </tr>\n",
       "  </thead>\n",
       "  <tbody>\n",
       "    <tr>\n",
       "      <th>0</th>\n",
       "      <td>0.688477</td>\n",
       "      <td>51.5625</td>\n",
       "      <td>2115</td>\n",
       "      <td>296</td>\n",
       "      <td>RAJ</td>\n",
       "    </tr>\n",
       "  </tbody>\n",
       "</table>\n",
       "</div>"
      ],
      "text/plain": [
       "   longitude  latitude  n_beds  n_icu_beds trust_code\n",
       "0   0.688477   51.5625    2115         296        RAJ"
      ]
     },
     "execution_count": 67,
     "metadata": {},
     "output_type": "execute_result"
    }
   ],
   "source": [
    "hospitals_characteristics_df"
   ]
  },
  {
   "cell_type": "markdown",
   "metadata": {},
   "source": [
    "## where did infections happen?"
   ]
  },
  {
   "cell_type": "code",
   "execution_count": 68,
   "metadata": {},
   "outputs": [],
   "source": [
    "infection_locations = read.get_locations_infections()"
   ]
  },
  {
   "cell_type": "code",
   "execution_count": 69,
   "metadata": {},
   "outputs": [],
   "source": [
    "unique_locations, counts_locations = np.unique(\n",
    "                np.array(infection_locations),\n",
    "                return_counts=True)\n",
    "\n",
    "location_counts_df = pd.DataFrame(\n",
    "    {'locations': unique_locations,\n",
    "    'counts': counts_locations}\n",
    ")\n",
    "location_counts_df.set_index('locations', inplace=True)"
   ]
  },
  {
   "cell_type": "code",
   "execution_count": 70,
   "metadata": {},
   "outputs": [],
   "source": [
    "location_counts_df['percent_infections']= 100*(location_counts_df['counts'])/location_counts_df.values.sum()"
   ]
  },
  {
   "cell_type": "code",
   "execution_count": 71,
   "metadata": {},
   "outputs": [
    {
     "data": {
      "text/plain": [
       "Text(0.5, 0, 'location')"
      ]
     },
     "execution_count": 71,
     "metadata": {},
     "output_type": "execute_result"
    },
    {
     "data": {
      "image/png": "[encoded data removed]",
      "text/plain": [
       "<Figure size 576x432 with 1 Axes>"
      ]
     },
     "metadata": {
      "needs_background": "light"
     },
     "output_type": "display_data"
    }
   ],
   "source": [
    "import matplotlib.ticker as mtick\n",
    "\n",
    "ax = location_counts_df['percent_infections'].sort_values().plot.bar()\n",
    "ax.yaxis.set_major_formatter(mtick.PercentFormatter())\n",
    "plt.ylabel('Percentage of infections at location')\n",
    "plt.xlabel('location')\n"
   ]
  },
  {
   "cell_type": "code",
   "execution_count": 72,
   "metadata": {},
   "outputs": [],
   "source": [
    "# Check where people of different ages get infected\n"
   ]
  },
  {
   "cell_type": "code",
   "execution_count": 73,
   "metadata": {},
   "outputs": [],
   "source": [
    "# Find outbreaks"
   ]
  },
  {
   "cell_type": "code",
   "execution_count": 74,
   "metadata": {},
   "outputs": [],
   "source": [
    "unique_id, count_id =  np.unique(\n",
    "        np.array(read.locations_df['location_id'].sum()),\n",
    "        return_counts=True\n",
    ")"
   ]
  },
  {
   "cell_type": "code",
   "execution_count": 75,
   "metadata": {},
   "outputs": [
    {
     "data": {
      "text/plain": [
       "array(['hospital_0', 'care_home_5', 'school_7', 'university_0',\n",
       "       'school_25'], dtype='<U15')"
      ]
     },
     "execution_count": 75,
     "metadata": {},
     "output_type": "execute_result"
    }
   ],
   "source": [
    "unique_id[np.argsort(count_id)[-5:]]"
   ]
  },
  {
   "cell_type": "code",
   "execution_count": 76,
   "metadata": {},
   "outputs": [
    {
     "data": {
      "text/plain": [
       "array([ 37,  40,  65,  66, 169])"
      ]
     },
     "execution_count": 76,
     "metadata": {},
     "output_type": "execute_result"
    }
   ],
   "source": [
    "count_id[np.argsort(count_id)[-5:]]"
   ]
  },
  {
   "cell_type": "code",
   "execution_count": 77,
   "metadata": {},
   "outputs": [],
   "source": [
    "#loc_flat = read.locations_df.apply(lambda x: x.explode() if x.name in ['location', 'new_infected_ids', 'super_areas'] else x)\n",
    "#loc_flat = loc_flat.dropna()\n",
    "#area_group = loc_flat.groupby('super_areas')\n",
    "#for name, df in area_group:\n",
    "#    display(df['location'])\n"
   ]
  },
  {
   "cell_type": "code",
   "execution_count": 78,
   "metadata": {},
   "outputs": [],
   "source": [
    "weekly_infections=read.locations_df.resample('W').sum()"
   ]
  },
  {
   "cell_type": "code",
   "execution_count": 79,
   "metadata": {},
   "outputs": [],
   "source": [
    "for location in unique_locations:\n",
    "    weekly_infections[str(location)] = weekly_infections.apply(\n",
    "        lambda x: x.location.count(str(location)), axis=1\n",
    "    )"
   ]
  },
  {
   "cell_type": "code",
   "execution_count": 80,
   "metadata": {},
   "outputs": [
    {
     "data": {
      "text/plain": [
       "<matplotlib.axes._subplots.AxesSubplot at 0x7feae89c6a00>"
      ]
     },
     "execution_count": 80,
     "metadata": {},
     "output_type": "execute_result"
    },
    {
     "data": {
      "image/png": "[encoded data removed]",
      "text/plain": [
       "<Figure size 576x432 with 1 Axes>"
      ]
     },
     "metadata": {
      "needs_background": "light"
     },
     "output_type": "display_data"
    }
   ],
   "source": [
    "weekly_infections.iloc[:,3:].plot()"
   ]
  },
  {
   "cell_type": "code",
   "execution_count": 81,
   "metadata": {},
   "outputs": [],
   "source": [
    "for location in unique_locations:\n",
    "    read.locations_df[str(location)] = read.locations_df.apply(\n",
    "        lambda x: x.location.count(str(location)), axis=1\n",
    "    )"
   ]
  },
  {
   "cell_type": "code",
   "execution_count": 82,
   "metadata": {},
   "outputs": [],
   "source": [
    "read.locations_df.index = pd.to_datetime(read.locations_df.index)\n"
   ]
  },
  {
   "cell_type": "code",
   "execution_count": 83,
   "metadata": {},
   "outputs": [
    {
     "data": {
      "text/plain": [
       "<matplotlib.axes._subplots.AxesSubplot at 0x7feae87557c0>"
      ]
     },
     "execution_count": 83,
     "metadata": {},
     "output_type": "execute_result"
    },
    {
     "data": {
      "image/png": "[encoded data removed]",
      "text/plain": [
       "<Figure size 576x432 with 1 Axes>"
      ]
     },
     "metadata": {
      "needs_background": "light"
     },
     "output_type": "display_data"
    }
   ],
   "source": [
    "read.locations_df.iloc[:,3:].plot()"
   ]
  },
  {
   "cell_type": "markdown",
   "metadata": {},
   "source": [
    "## rate of infection"
   ]
  },
  {
   "cell_type": "code",
   "execution_count": 84,
   "metadata": {},
   "outputs": [
    {
     "name": "stderr",
     "output_type": "stream",
     "text": [
      "/home/florpi/.local/lib/python3.8/site-packages/numpy/core/fromnumeric.py:3334: RuntimeWarning: Mean of empty slice.\n",
      "  return _methods._mean(a, axis=axis, dtype=dtype,\n",
      "/home/florpi/.local/lib/python3.8/site-packages/numpy/core/_methods.py:161: RuntimeWarning: invalid value encountered in double_scalars\n",
      "  ret = ret.dtype.type(ret / rcount)\n"
     ]
    }
   ],
   "source": [
    "r_df = read.get_r()"
   ]
  },
  {
   "cell_type": "code",
   "execution_count": 85,
   "metadata": {},
   "outputs": [
    {
     "data": {
      "text/plain": [
       "Text(0, 0.5, 'R')"
      ]
     },
     "execution_count": 85,
     "metadata": {},
     "output_type": "execute_result"
    },
    {
     "data": {
      "image/png": "[encoded data removed]",
      "text/plain": [
       "<Figure size 576x432 with 1 Axes>"
      ]
     },
     "metadata": {
      "needs_background": "light"
     },
     "output_type": "display_data"
    }
   ],
   "source": [
    "from june.policy import SocialDistancing\n",
    "r_df.plot()\n",
    "colors = [\"yellow\", \"orange\", 'blue']\n",
    "for policy in policies.policies:\n",
    "    if isinstance(policy, SocialDistancing):\n",
    "        plt.axvspan(policy.start_time, \n",
    "                policy.end_time,\n",
    "                facecolor=colors.pop(),\n",
    "                alpha=0.2)\n",
    "plt.axhline(y=1, linestyle='dashed', color='gray')\n",
    "plt.xlabel('Date')\n",
    "plt.ylim(0,3)\n",
    "plt.ylabel('R')"
   ]
  },
  {
   "cell_type": "markdown",
   "metadata": {},
   "source": [
    "## World infection curves, and by super area"
   ]
  },
  {
   "cell_type": "code",
   "execution_count": 135,
   "metadata": {},
   "outputs": [
    {
     "name": "stdout",
     "output_type": "stream",
     "text": [
      "CPU times: user 922 ms, sys: 3.32 ms, total: 926 ms\n",
      "Wall time: 930 ms\n"
     ]
    }
   ],
   "source": [
    "%%time\n",
    "world_df = read.world_summary()"
   ]
  },
  {
   "cell_type": "code",
   "execution_count": 87,
   "metadata": {},
   "outputs": [
    {
     "data": {
      "text/plain": [
       "Text(0.5, 0, 'Date')"
      ]
     },
     "execution_count": 87,
     "metadata": {},
     "output_type": "execute_result"
    },
    {
     "data": {
      "image/png": "[encoded data removed]",
      "text/plain": [
       "<Figure size 576x432 with 1 Axes>"
      ]
     },
     "metadata": {
      "needs_background": "light"
     },
     "output_type": "display_data"
    }
   ],
   "source": [
    "fig, ax = plt.subplots()\n",
    "world_df['daily_infections'].resample('D').sum().plot(ax=ax)\n",
    "for policy in policies.policies:\n",
    "    plt.axvspan(policy.start_time, \n",
    "                policy.end_time,\n",
    "                alpha=0.01)\n",
    "plt.axvline('2020-03-23',\n",
    "           linestyle='dashed',\n",
    "           color='indianred')\n",
    "ax.set_ylabel('# daily infections')\n",
    "ax.set_xlabel('Date')"
   ]
  },
  {
   "cell_type": "code",
   "execution_count": 88,
   "metadata": {},
   "outputs": [
    {
     "data": {
      "text/plain": [
       "Text(0.5, 0, 'Date')"
      ]
     },
     "execution_count": 88,
     "metadata": {},
     "output_type": "execute_result"
    },
    {
     "data": {
      "image/png": "[encoded data removed]",
      "text/plain": [
       "<Figure size 576x432 with 1 Axes>"
      ]
     },
     "metadata": {
      "needs_background": "light"
     },
     "output_type": "display_data"
    }
   ],
   "source": [
    "fig, ax = plt.subplots()\n",
    "world_df['daily_hospital_admissions'].resample('D').sum().plot(ax=ax)\n",
    "\n",
    "plt.axvline('2020-04-01',\n",
    "           linestyle='dashed',\n",
    "           color='indianred')\n",
    "ax.set_ylabel('# daily hospital admissions')\n",
    "ax.set_xlabel('Date')"
   ]
  },
  {
   "cell_type": "code",
   "execution_count": 89,
   "metadata": {},
   "outputs": [
    {
     "data": {
      "text/plain": [
       "Text(0.5, 0, 'Date')"
      ]
     },
     "execution_count": 89,
     "metadata": {},
     "output_type": "execute_result"
    },
    {
     "data": {
      "image/png": "[encoded data removed]",
      "text/plain": [
       "<Figure size 576x432 with 1 Axes>"
      ]
     },
     "metadata": {
      "needs_background": "light"
     },
     "output_type": "display_data"
    }
   ],
   "source": [
    "fig, ax = plt.subplots()\n",
    "world_df['current_infected'].plot(ax=ax)\n",
    "\n",
    "ax.set_ylabel('# Infected')\n",
    "ax.set_xlabel('Date')"
   ]
  },
  {
   "cell_type": "code",
   "execution_count": 90,
   "metadata": {},
   "outputs": [
    {
     "data": {
      "text/plain": [
       "<matplotlib.legend.Legend at 0x7feae7f815b0>"
      ]
     },
     "execution_count": 90,
     "metadata": {},
     "output_type": "execute_result"
    },
    {
     "data": {
      "image/png": "[encoded data removed]",
      "text/plain": [
       "<Figure size 576x432 with 1 Axes>"
      ]
     },
     "metadata": {
      "needs_background": "light"
     },
     "output_type": "display_data"
    }
   ],
   "source": [
    "world_df.plot()\n",
    "\n",
    "plt.legend(bbox_to_anchor=(1,1))\n"
   ]
  },
  {
   "cell_type": "code",
   "execution_count": 91,
   "metadata": {},
   "outputs": [],
   "source": [
    "#loc_flat = read.locations_df.apply(lambda x: x.explode() if x.name in ['location', 'new_infected_ids', 'super_areas'] else x)\n",
    "#loc_flat = loc_flat.dropna()\n",
    "#area_group = loc_flat.groupby('super_areas')\n",
    "#for name, df in area_group:\n",
    "#    display(df['location'])\n"
   ]
  },
  {
   "cell_type": "code",
   "execution_count": 132,
   "metadata": {},
   "outputs": [],
   "source": [
    "read = ReadLogger()"
   ]
  },
  {
   "cell_type": "code",
   "execution_count": 133,
   "metadata": {},
   "outputs": [
    {
     "name": "stdout",
     "output_type": "stream",
     "text": [
      "CPU times: user 3.3 s, sys: 0 ns, total: 3.3 s\n",
      "Wall time: 3.33 s\n"
     ]
    }
   ],
   "source": [
    "%%time\n",
    "\n",
    "area_df = read.super_area_summary()"
   ]
  },
  {
   "cell_type": "code",
   "execution_count": 134,
   "metadata": {},
   "outputs": [
    {
     "name": "stdout",
     "output_type": "stream",
     "text": [
      "9726\n",
      "8842\n",
      "5997\n",
      "9971\n",
      "10475\n",
      "12248\n",
      "CPU times: user 3.19 s, sys: 9.8 ms, total: 3.2 s\n",
      "Wall time: 3.21 s\n"
     ]
    }
   ],
   "source": [
    "%%time\n",
    "\n",
    "unique_super_areas = np.unique(read.super_areas)\n",
    "for area in unique_super_areas:\n",
    "    area_df = pd.DataFrame() \n",
    "    print(np.sum(read.super_areas == area))\n",
    "    area_df[\"symptoms\"] = read.infections_df.apply( \n",
    "           lambda x: x.symptoms[x.super_areas == area], axis=1 \n",
    "    )\n",
    "    area_df[\"infected_id\"] = read.infections_df.apply(\n",
    "        lambda x: x.infected_id[x.super_areas == area], axis=1  \n",
    "    )\n",
    "    area_df = read.process_symptoms(area_df, n_people_in_area)"
   ]
  },
  {
   "cell_type": "code",
   "execution_count": 108,
   "metadata": {},
   "outputs": [],
   "source": [
    "test_df = read.infections_df[['infected_id',\n",
    "                              'symptoms', 'super_areas']]\n",
    "flat_df = test_df.apply(lambda x: x.explode() if x.name in ['infected_id', 'symptoms', 'super_areas'] else x)"
   ]
  },
  {
   "cell_type": "code",
   "execution_count": 109,
   "metadata": {},
   "outputs": [
    {
     "data": {
      "text/html": [
       "<div>\n",
       "<style scoped>\n",
       "    .dataframe tbody tr th:only-of-type {\n",
       "        vertical-align: middle;\n",
       "    }\n",
       "\n",
       "    .dataframe tbody tr th {\n",
       "        vertical-align: top;\n",
       "    }\n",
       "\n",
       "    .dataframe thead th {\n",
       "        text-align: right;\n",
       "    }\n",
       "</style>\n",
       "<table border=\"1\" class=\"dataframe\">\n",
       "  <thead>\n",
       "    <tr style=\"text-align: right;\">\n",
       "      <th></th>\n",
       "      <th>infected_id</th>\n",
       "      <th>symptoms</th>\n",
       "      <th>super_areas</th>\n",
       "    </tr>\n",
       "    <tr>\n",
       "      <th>time_stamp</th>\n",
       "      <th></th>\n",
       "      <th></th>\n",
       "      <th></th>\n",
       "    </tr>\n",
       "  </thead>\n",
       "  <tbody>\n",
       "    <tr>\n",
       "      <th>2020-03-01 00:00:00</th>\n",
       "      <td>[126, 3009, 3375, 5071, 5590, 10308, 11167, 11...</td>\n",
       "      <td>[-1, -1, -1, -1, -1, -1, -1, -1, -1, -1, -1, -...</td>\n",
       "      <td>[E02004314, E02004314, E02004314, E02004314, E...</td>\n",
       "    </tr>\n",
       "    <tr>\n",
       "      <th>2020-03-01 04:00:00</th>\n",
       "      <td>[126, 3009, 3375, 5071, 5590, 10308, 11167, 11...</td>\n",
       "      <td>[-1, -1, -1, -1, -1, -1, -1, -1, -1, -1, -1, -...</td>\n",
       "      <td>[E02004314, E02004314, E02004314, E02004314, E...</td>\n",
       "    </tr>\n",
       "  </tbody>\n",
       "</table>\n",
       "</div>"
      ],
      "text/plain": [
       "                                                           infected_id  \\\n",
       "time_stamp                                                               \n",
       "2020-03-01 00:00:00  [126, 3009, 3375, 5071, 5590, 10308, 11167, 11...   \n",
       "2020-03-01 04:00:00  [126, 3009, 3375, 5071, 5590, 10308, 11167, 11...   \n",
       "\n",
       "                                                              symptoms  \\\n",
       "time_stamp                                                               \n",
       "2020-03-01 00:00:00  [-1, -1, -1, -1, -1, -1, -1, -1, -1, -1, -1, -...   \n",
       "2020-03-01 04:00:00  [-1, -1, -1, -1, -1, -1, -1, -1, -1, -1, -1, -...   \n",
       "\n",
       "                                                           super_areas  \n",
       "time_stamp                                                              \n",
       "2020-03-01 00:00:00  [E02004314, E02004314, E02004314, E02004314, E...  \n",
       "2020-03-01 04:00:00  [E02004314, E02004314, E02004314, E02004314, E...  "
      ]
     },
     "execution_count": 109,
     "metadata": {},
     "output_type": "execute_result"
    }
   ],
   "source": [
    "test_df.head(2)"
   ]
  },
  {
   "cell_type": "code",
   "execution_count": 93,
   "metadata": {},
   "outputs": [
    {
     "name": "stdout",
     "output_type": "stream",
     "text": [
      "CPU times: user 18.3 s, sys: 79.3 ms, total: 18.4 s\n",
      "Wall time: 18.5 s\n"
     ]
    }
   ],
   "source": [
    "%%time\n",
    "test_df = read.infections_df[['infected_id',\n",
    "                              'symptoms', 'super_areas']]\n",
    "flat_df = test_df.apply(lambda x: x.explode() if x.name in ['infected_id', 'symptoms', 'super_areas'] else x)\n",
    "grouped_flat_df = flat_df.groupby('super_areas')\n",
    "area_dfs = []\n",
    "for name, df in grouped_flat_df:\n",
    "    n_people_in_area = list(read.super_areas).count(name)\n",
    "    grouped_df = df.groupby(df.index)\n",
    "    area_df = grouped_df['infected_id'].apply(np.array).to_frame('infected_id')\n",
    "    area_df['symptoms'] = grouped_df['symptoms'].apply(np.array)\n",
    "    area_dfs.append(read.process_symptoms(area_df,\n",
    "                                 n_people=n_people_in_area).head(2))\n"
   ]
  },
  {
   "cell_type": "code",
   "execution_count": 99,
   "metadata": {},
   "outputs": [
    {
     "data": {
      "text/html": [
       "<div>\n",
       "<style scoped>\n",
       "    .dataframe tbody tr th:only-of-type {\n",
       "        vertical-align: middle;\n",
       "    }\n",
       "\n",
       "    .dataframe tbody tr th {\n",
       "        vertical-align: top;\n",
       "    }\n",
       "\n",
       "    .dataframe thead th {\n",
       "        text-align: right;\n",
       "    }\n",
       "</style>\n",
       "<table border=\"1\" class=\"dataframe\">\n",
       "  <thead>\n",
       "    <tr style=\"text-align: right;\">\n",
       "      <th></th>\n",
       "      <th>daily_recovered</th>\n",
       "      <th>daily_deaths_home</th>\n",
       "      <th>daily_deaths_hospital</th>\n",
       "      <th>daily_deaths_icu</th>\n",
       "      <th>daily_deaths</th>\n",
       "      <th>current_infected</th>\n",
       "      <th>current_dead</th>\n",
       "      <th>current_recovered</th>\n",
       "      <th>current_susceptible</th>\n",
       "      <th>current_hospitalised</th>\n",
       "      <th>current_intensive_care</th>\n",
       "      <th>daily_hospital_admissions</th>\n",
       "      <th>daily_intensive_care_admissions</th>\n",
       "      <th>daily_infections</th>\n",
       "      <th>super_area</th>\n",
       "    </tr>\n",
       "    <tr>\n",
       "      <th>time_stamp</th>\n",
       "      <th></th>\n",
       "      <th></th>\n",
       "      <th></th>\n",
       "      <th></th>\n",
       "      <th></th>\n",
       "      <th></th>\n",
       "      <th></th>\n",
       "      <th></th>\n",
       "      <th></th>\n",
       "      <th></th>\n",
       "      <th></th>\n",
       "      <th></th>\n",
       "      <th></th>\n",
       "      <th></th>\n",
       "      <th></th>\n",
       "    </tr>\n",
       "  </thead>\n",
       "  <tbody>\n",
       "    <tr>\n",
       "      <th>2020-03-01 00:00:00</th>\n",
       "      <td>0</td>\n",
       "      <td>0</td>\n",
       "      <td>0</td>\n",
       "      <td>0</td>\n",
       "      <td>0</td>\n",
       "      <td>8</td>\n",
       "      <td>0</td>\n",
       "      <td>0</td>\n",
       "      <td>9718</td>\n",
       "      <td>0</td>\n",
       "      <td>0</td>\n",
       "      <td>0</td>\n",
       "      <td>0</td>\n",
       "      <td>8</td>\n",
       "      <td>E02001720</td>\n",
       "    </tr>\n",
       "    <tr>\n",
       "      <th>2020-03-01 04:00:00</th>\n",
       "      <td>0</td>\n",
       "      <td>0</td>\n",
       "      <td>0</td>\n",
       "      <td>0</td>\n",
       "      <td>0</td>\n",
       "      <td>8</td>\n",
       "      <td>0</td>\n",
       "      <td>0</td>\n",
       "      <td>9718</td>\n",
       "      <td>0</td>\n",
       "      <td>0</td>\n",
       "      <td>0</td>\n",
       "      <td>0</td>\n",
       "      <td>0</td>\n",
       "      <td>E02001720</td>\n",
       "    </tr>\n",
       "    <tr>\n",
       "      <th>2020-03-01 08:00:00</th>\n",
       "      <td>0</td>\n",
       "      <td>0</td>\n",
       "      <td>0</td>\n",
       "      <td>0</td>\n",
       "      <td>0</td>\n",
       "      <td>8</td>\n",
       "      <td>0</td>\n",
       "      <td>0</td>\n",
       "      <td>9718</td>\n",
       "      <td>0</td>\n",
       "      <td>0</td>\n",
       "      <td>0</td>\n",
       "      <td>0</td>\n",
       "      <td>0</td>\n",
       "      <td>E02001720</td>\n",
       "    </tr>\n",
       "  </tbody>\n",
       "</table>\n",
       "</div>"
      ],
      "text/plain": [
       "                     daily_recovered  daily_deaths_home  \\\n",
       "time_stamp                                                \n",
       "2020-03-01 00:00:00                0                  0   \n",
       "2020-03-01 04:00:00                0                  0   \n",
       "2020-03-01 08:00:00                0                  0   \n",
       "\n",
       "                     daily_deaths_hospital  daily_deaths_icu  daily_deaths  \\\n",
       "time_stamp                                                                   \n",
       "2020-03-01 00:00:00                      0                 0             0   \n",
       "2020-03-01 04:00:00                      0                 0             0   \n",
       "2020-03-01 08:00:00                      0                 0             0   \n",
       "\n",
       "                     current_infected  current_dead  current_recovered  \\\n",
       "time_stamp                                                               \n",
       "2020-03-01 00:00:00                 8             0                  0   \n",
       "2020-03-01 04:00:00                 8             0                  0   \n",
       "2020-03-01 08:00:00                 8             0                  0   \n",
       "\n",
       "                     current_susceptible  current_hospitalised  \\\n",
       "time_stamp                                                       \n",
       "2020-03-01 00:00:00                 9718                     0   \n",
       "2020-03-01 04:00:00                 9718                     0   \n",
       "2020-03-01 08:00:00                 9718                     0   \n",
       "\n",
       "                     current_intensive_care  daily_hospital_admissions  \\\n",
       "time_stamp                                                               \n",
       "2020-03-01 00:00:00                       0                          0   \n",
       "2020-03-01 04:00:00                       0                          0   \n",
       "2020-03-01 08:00:00                       0                          0   \n",
       "\n",
       "                     daily_intensive_care_admissions  daily_infections  \\\n",
       "time_stamp                                                               \n",
       "2020-03-01 00:00:00                                0                 8   \n",
       "2020-03-01 04:00:00                                0                 0   \n",
       "2020-03-01 08:00:00                                0                 0   \n",
       "\n",
       "                    super_area  \n",
       "time_stamp                      \n",
       "2020-03-01 00:00:00  E02001720  \n",
       "2020-03-01 04:00:00  E02001720  \n",
       "2020-03-01 08:00:00  E02001720  "
      ]
     },
     "execution_count": 99,
     "metadata": {},
     "output_type": "execute_result"
    }
   ],
   "source": [
    "area_df_slow.head(3)"
   ]
  },
  {
   "cell_type": "code",
   "execution_count": 100,
   "metadata": {},
   "outputs": [
    {
     "data": {
      "text/html": [
       "<div>\n",
       "<style scoped>\n",
       "    .dataframe tbody tr th:only-of-type {\n",
       "        vertical-align: middle;\n",
       "    }\n",
       "\n",
       "    .dataframe tbody tr th {\n",
       "        vertical-align: top;\n",
       "    }\n",
       "\n",
       "    .dataframe thead th {\n",
       "        text-align: right;\n",
       "    }\n",
       "</style>\n",
       "<table border=\"1\" class=\"dataframe\">\n",
       "  <thead>\n",
       "    <tr style=\"text-align: right;\">\n",
       "      <th></th>\n",
       "      <th>daily_recovered</th>\n",
       "      <th>daily_deaths_home</th>\n",
       "      <th>daily_deaths_hospital</th>\n",
       "      <th>daily_deaths_icu</th>\n",
       "      <th>daily_deaths</th>\n",
       "      <th>current_infected</th>\n",
       "      <th>current_dead</th>\n",
       "      <th>current_recovered</th>\n",
       "      <th>current_susceptible</th>\n",
       "      <th>current_hospitalised</th>\n",
       "      <th>current_intensive_care</th>\n",
       "      <th>daily_hospital_admissions</th>\n",
       "      <th>daily_intensive_care_admissions</th>\n",
       "      <th>daily_infections</th>\n",
       "    </tr>\n",
       "    <tr>\n",
       "      <th>time_stamp</th>\n",
       "      <th></th>\n",
       "      <th></th>\n",
       "      <th></th>\n",
       "      <th></th>\n",
       "      <th></th>\n",
       "      <th></th>\n",
       "      <th></th>\n",
       "      <th></th>\n",
       "      <th></th>\n",
       "      <th></th>\n",
       "      <th></th>\n",
       "      <th></th>\n",
       "      <th></th>\n",
       "      <th></th>\n",
       "    </tr>\n",
       "  </thead>\n",
       "  <tbody>\n",
       "    <tr>\n",
       "      <th>2020-03-01 00:00:00</th>\n",
       "      <td>0</td>\n",
       "      <td>0</td>\n",
       "      <td>0</td>\n",
       "      <td>0</td>\n",
       "      <td>0</td>\n",
       "      <td>8</td>\n",
       "      <td>0</td>\n",
       "      <td>0</td>\n",
       "      <td>9718</td>\n",
       "      <td>0</td>\n",
       "      <td>0</td>\n",
       "      <td>0</td>\n",
       "      <td>0</td>\n",
       "      <td>8</td>\n",
       "    </tr>\n",
       "    <tr>\n",
       "      <th>2020-03-01 04:00:00</th>\n",
       "      <td>0</td>\n",
       "      <td>0</td>\n",
       "      <td>0</td>\n",
       "      <td>0</td>\n",
       "      <td>0</td>\n",
       "      <td>8</td>\n",
       "      <td>0</td>\n",
       "      <td>0</td>\n",
       "      <td>9718</td>\n",
       "      <td>0</td>\n",
       "      <td>0</td>\n",
       "      <td>0</td>\n",
       "      <td>0</td>\n",
       "      <td>0</td>\n",
       "    </tr>\n",
       "    <tr>\n",
       "      <th>2020-03-01 00:00:00</th>\n",
       "      <td>0</td>\n",
       "      <td>0</td>\n",
       "      <td>0</td>\n",
       "      <td>0</td>\n",
       "      <td>0</td>\n",
       "      <td>8</td>\n",
       "      <td>0</td>\n",
       "      <td>0</td>\n",
       "      <td>8834</td>\n",
       "      <td>0</td>\n",
       "      <td>0</td>\n",
       "      <td>0</td>\n",
       "      <td>0</td>\n",
       "      <td>8</td>\n",
       "    </tr>\n",
       "  </tbody>\n",
       "</table>\n",
       "</div>"
      ],
      "text/plain": [
       "                     daily_recovered  daily_deaths_home  \\\n",
       "time_stamp                                                \n",
       "2020-03-01 00:00:00                0                  0   \n",
       "2020-03-01 04:00:00                0                  0   \n",
       "2020-03-01 00:00:00                0                  0   \n",
       "\n",
       "                     daily_deaths_hospital  daily_deaths_icu  daily_deaths  \\\n",
       "time_stamp                                                                   \n",
       "2020-03-01 00:00:00                      0                 0             0   \n",
       "2020-03-01 04:00:00                      0                 0             0   \n",
       "2020-03-01 00:00:00                      0                 0             0   \n",
       "\n",
       "                     current_infected  current_dead  current_recovered  \\\n",
       "time_stamp                                                               \n",
       "2020-03-01 00:00:00                 8             0                  0   \n",
       "2020-03-01 04:00:00                 8             0                  0   \n",
       "2020-03-01 00:00:00                 8             0                  0   \n",
       "\n",
       "                     current_susceptible  current_hospitalised  \\\n",
       "time_stamp                                                       \n",
       "2020-03-01 00:00:00                 9718                     0   \n",
       "2020-03-01 04:00:00                 9718                     0   \n",
       "2020-03-01 00:00:00                 8834                     0   \n",
       "\n",
       "                     current_intensive_care  daily_hospital_admissions  \\\n",
       "time_stamp                                                               \n",
       "2020-03-01 00:00:00                       0                          0   \n",
       "2020-03-01 04:00:00                       0                          0   \n",
       "2020-03-01 00:00:00                       0                          0   \n",
       "\n",
       "                     daily_intensive_care_admissions  daily_infections  \n",
       "time_stamp                                                              \n",
       "2020-03-01 00:00:00                                0                 8  \n",
       "2020-03-01 04:00:00                                0                 0  \n",
       "2020-03-01 00:00:00                                0                 8  "
      ]
     },
     "execution_count": 100,
     "metadata": {},
     "output_type": "execute_result"
    }
   ],
   "source": [
    "area_df_faster.head(3)"
   ]
  },
  {
   "cell_type": "code",
   "execution_count": null,
   "metadata": {},
   "outputs": [],
   "source": [
    "type(read.infections_df['infected_id'].iloc[0])"
   ]
  },
  {
   "cell_type": "code",
   "execution_count": null,
   "metadata": {},
   "outputs": [],
   "source": [
    "type(read.infections_df['symptoms'].iloc[0])"
   ]
  },
  {
   "cell_type": "code",
   "execution_count": null,
   "metadata": {},
   "outputs": [],
   "source": [
    "area_df['super_area']"
   ]
  },
  {
   "cell_type": "code",
   "execution_count": null,
   "metadata": {},
   "outputs": [],
   "source": [
    "area_df[area_df.super_area == \"E02003282\"].plot()\n",
    "plt.legend(bbox_to_anchor=(1,1))"
   ]
  },
  {
   "cell_type": "markdown",
   "metadata": {},
   "source": [
    "## World infection curves per age group"
   ]
  },
  {
   "cell_type": "code",
   "execution_count": null,
   "metadata": {},
   "outputs": [],
   "source": [
    "ages_df = read.age_summary([0,10,20,30,40,\n",
    "                  50,60,70,80,90,100])"
   ]
  },
  {
   "cell_type": "code",
   "execution_count": null,
   "metadata": {},
   "outputs": [],
   "source": [
    "for name, group in ages_df.groupby('age_range'):\n",
    "    group['infected'].plot(label=name)\n",
    "colors = [\"yellow\", \"orange\"]\n",
    "for policy in policies.policies:\n",
    "    if isinstance(policy, SocialDistancing):\n",
    "        plt.axvspan(policy.start_time, \n",
    "                policy.end_time,\n",
    "                facecolor=colors.pop(), alpha=0.2)\n",
    "plt.legend(bbox_to_anchor=(1,1))\n"
   ]
  },
  {
   "cell_type": "code",
   "execution_count": null,
   "metadata": {},
   "outputs": [],
   "source": [
    "for name, group in ages_df.groupby('age_range'):\n",
    "    group['dead'].cumsum().plot(label=name)\n",
    "plt.legend()"
   ]
  },
  {
   "cell_type": "code",
   "execution_count": null,
   "metadata": {},
   "outputs": [],
   "source": [
    "for name, group in ages_df.groupby('age_range'):\n",
    "    group['susceptible'].plot(label=name)\n",
    "plt.legend()"
   ]
  },
  {
   "cell_type": "code",
   "execution_count": null,
   "metadata": {},
   "outputs": [],
   "source": [
    "for name, group in ages_df.groupby('age_range'):\n",
    "    group['hospital_admissions'].cumsum().plot(label=name)\n",
    "plt.legend()"
   ]
  },
  {
   "cell_type": "code",
   "execution_count": null,
   "metadata": {},
   "outputs": [],
   "source": [
    "for name, group in ages_df.groupby('age_range'):\n",
    "    group['intensive_care_admissions'].cumsum().plot(label=name)\n",
    "plt.legend()"
   ]
  },
  {
   "cell_type": "markdown",
   "metadata": {},
   "source": [
    "## Draw some of the symptoms trajectories"
   ]
  },
  {
   "cell_type": "code",
   "execution_count": null,
   "metadata": {},
   "outputs": [],
   "source": [
    "random_trajectories = read.draw_symptom_trajectories(window_length=600,\n",
    "                                        n_people=10)"
   ]
  },
  {
   "cell_type": "code",
   "execution_count": null,
   "metadata": {},
   "outputs": [],
   "source": [
    "from june.infection import SymptomTag"
   ]
  },
  {
   "cell_type": "code",
   "execution_count": null,
   "metadata": {},
   "outputs": [],
   "source": [
    "symptoms_values = [tag.value for tag in SymptomTag]\n",
    "symptoms_names = [tag.name for tag in SymptomTag]\n"
   ]
  },
  {
   "cell_type": "code",
   "execution_count": null,
   "metadata": {},
   "outputs": [],
   "source": [
    "for df_person in random_trajectories:\n",
    "    df_person['symptoms'].plot()\n",
    "plt.ylabel('Symptoms Trajectory')\n",
    "_ = plt.yticks(symptoms_values, symptoms_names)\n",
    "plt.xlabel('Date')"
   ]
  },
  {
   "cell_type": "code",
   "execution_count": null,
   "metadata": {},
   "outputs": [],
   "source": [
    "for df_person in random_trajectories:\n",
    "    df_person['n_secondary_infections'].plot()\n",
    "plt.ylabel('Number of secondary infections')\n",
    "\n",
    "plt.xlabel('Date')"
   ]
  },
  {
   "cell_type": "code",
   "execution_count": null,
   "metadata": {},
   "outputs": [],
   "source": [
    "person.primary_activity.group.spec"
   ]
  },
  {
   "cell_type": "code",
   "execution_count": null,
   "metadata": {},
   "outputs": [],
   "source": []
  },
  {
   "cell_type": "code",
   "execution_count": null,
   "metadata": {},
   "outputs": [],
   "source": []
  },
  {
   "cell_type": "code",
   "execution_count": null,
   "metadata": {},
   "outputs": [],
   "source": []
  },
  {
   "cell_type": "code",
   "execution_count": null,
   "metadata": {},
   "outputs": [],
   "source": []
  },
  {
   "cell_type": "code",
   "execution_count": null,
   "metadata": {},
   "outputs": [],
   "source": []
  },
  {
   "cell_type": "code",
   "execution_count": 196,
   "metadata": {},
   "outputs": [],
   "source": [
    "from june.infection import SymptomTag"
   ]
  },
  {
   "cell_type": "code",
   "execution_count": 265,
   "metadata": {},
   "outputs": [],
   "source": [
    "read = ReadLogger()"
   ]
  },
  {
   "cell_type": "code",
   "execution_count": 266,
   "metadata": {},
   "outputs": [],
   "source": [
    "test = read.infections_df[['symptoms', 'infected_id']]"
   ]
  },
  {
   "cell_type": "code",
   "execution_count": 273,
   "metadata": {},
   "outputs": [
    {
     "data": {
      "text/html": [
       "<div>\n",
       "<style scoped>\n",
       "    .dataframe tbody tr th:only-of-type {\n",
       "        vertical-align: middle;\n",
       "    }\n",
       "\n",
       "    .dataframe tbody tr th {\n",
       "        vertical-align: top;\n",
       "    }\n",
       "\n",
       "    .dataframe thead th {\n",
       "        text-align: right;\n",
       "    }\n",
       "</style>\n",
       "<table border=\"1\" class=\"dataframe\">\n",
       "  <thead>\n",
       "    <tr style=\"text-align: right;\">\n",
       "      <th></th>\n",
       "      <th>symptoms</th>\n",
       "      <th>infected_id</th>\n",
       "    </tr>\n",
       "    <tr>\n",
       "      <th>time_stamp</th>\n",
       "      <th></th>\n",
       "      <th></th>\n",
       "    </tr>\n",
       "  </thead>\n",
       "  <tbody>\n",
       "    <tr>\n",
       "      <th>2020-10-04 12:00:00</th>\n",
       "      <td>[1, -3, 0, 1, 1, 1, 1, 1, -3, 0, 1, 1, 1, 0, 2...</td>\n",
       "      <td>[3619, 10637, 10978, 14592, 14593, 28458, 3190...</td>\n",
       "    </tr>\n",
       "    <tr>\n",
       "      <th>2020-10-05 00:00:00</th>\n",
       "      <td>[1, 0, 1, 1, 1, 1, 1, 0, 1, 1, 1, 0, 2, 0, 1, ...</td>\n",
       "      <td>[3619, 10978, 14592, 14593, 28458, 31906, 4864...</td>\n",
       "    </tr>\n",
       "  </tbody>\n",
       "</table>\n",
       "</div>"
      ],
      "text/plain": [
       "                                                              symptoms  \\\n",
       "time_stamp                                                               \n",
       "2020-10-04 12:00:00  [1, -3, 0, 1, 1, 1, 1, 1, -3, 0, 1, 1, 1, 0, 2...   \n",
       "2020-10-05 00:00:00  [1, 0, 1, 1, 1, 1, 1, 0, 1, 1, 1, 0, 2, 0, 1, ...   \n",
       "\n",
       "                                                           infected_id  \n",
       "time_stamp                                                              \n",
       "2020-10-04 12:00:00  [3619, 10637, 10978, 14592, 14593, 28458, 3190...  \n",
       "2020-10-05 00:00:00  [3619, 10978, 14592, 14593, 28458, 31906, 4864...  "
      ]
     },
     "execution_count": 273,
     "metadata": {},
     "output_type": "execute_result"
    }
   ],
   "source": [
    "test.tail(2)"
   ]
  },
  {
   "cell_type": "code",
   "execution_count": 274,
   "metadata": {},
   "outputs": [],
   "source": [
    "flat_df = test.apply(lambda x: x.explode() if x.name in ['infected_id', 'symptoms'] else x,axis=0)\n"
   ]
  },
  {
   "cell_type": "code",
   "execution_count": 275,
   "metadata": {},
   "outputs": [
    {
     "data": {
      "text/html": [
       "<div>\n",
       "<style scoped>\n",
       "    .dataframe tbody tr th:only-of-type {\n",
       "        vertical-align: middle;\n",
       "    }\n",
       "\n",
       "    .dataframe tbody tr th {\n",
       "        vertical-align: top;\n",
       "    }\n",
       "\n",
       "    .dataframe thead th {\n",
       "        text-align: right;\n",
       "    }\n",
       "</style>\n",
       "<table border=\"1\" class=\"dataframe\">\n",
       "  <thead>\n",
       "    <tr style=\"text-align: right;\">\n",
       "      <th></th>\n",
       "      <th>symptoms</th>\n",
       "      <th>infected_id</th>\n",
       "    </tr>\n",
       "    <tr>\n",
       "      <th>time_stamp</th>\n",
       "      <th></th>\n",
       "      <th></th>\n",
       "    </tr>\n",
       "  </thead>\n",
       "  <tbody>\n",
       "    <tr>\n",
       "      <th>2020-10-05</th>\n",
       "      <td>1</td>\n",
       "      <td>57110</td>\n",
       "    </tr>\n",
       "    <tr>\n",
       "      <th>2020-10-05</th>\n",
       "      <td>0</td>\n",
       "      <td>57124</td>\n",
       "    </tr>\n",
       "  </tbody>\n",
       "</table>\n",
       "</div>"
      ],
      "text/plain": [
       "           symptoms infected_id\n",
       "time_stamp                     \n",
       "2020-10-05        1       57110\n",
       "2020-10-05        0       57124"
      ]
     },
     "execution_count": 275,
     "metadata": {},
     "output_type": "execute_result"
    }
   ],
   "source": [
    "flat_df.tail(2)"
   ]
  },
  {
   "cell_type": "code",
   "execution_count": 276,
   "metadata": {},
   "outputs": [],
   "source": [
    "hospitalised_df = flat_df[(flat_df['symptoms'] == 3)].drop_duplicates(keep='first')"
   ]
  },
  {
   "cell_type": "code",
   "execution_count": 278,
   "metadata": {},
   "outputs": [
    {
     "data": {
      "text/html": [
       "<div>\n",
       "<style scoped>\n",
       "    .dataframe tbody tr th:only-of-type {\n",
       "        vertical-align: middle;\n",
       "    }\n",
       "\n",
       "    .dataframe tbody tr th {\n",
       "        vertical-align: top;\n",
       "    }\n",
       "\n",
       "    .dataframe thead th {\n",
       "        text-align: right;\n",
       "    }\n",
       "</style>\n",
       "<table border=\"1\" class=\"dataframe\">\n",
       "  <thead>\n",
       "    <tr style=\"text-align: right;\">\n",
       "      <th></th>\n",
       "      <th>symptoms</th>\n",
       "      <th>infected_id</th>\n",
       "    </tr>\n",
       "    <tr>\n",
       "      <th>time_stamp</th>\n",
       "      <th></th>\n",
       "      <th></th>\n",
       "    </tr>\n",
       "  </thead>\n",
       "  <tbody>\n",
       "    <tr>\n",
       "      <th>2020-07-01 10:00:00</th>\n",
       "      <td>3</td>\n",
       "      <td>25989</td>\n",
       "    </tr>\n",
       "    <tr>\n",
       "      <th>2020-07-01 13:00:00</th>\n",
       "      <td>3</td>\n",
       "      <td>25989</td>\n",
       "    </tr>\n",
       "  </tbody>\n",
       "</table>\n",
       "</div>"
      ],
      "text/plain": [
       "                    symptoms infected_id\n",
       "time_stamp                              \n",
       "2020-07-01 10:00:00        3       25989\n",
       "2020-07-01 13:00:00        3       25989"
      ]
     },
     "execution_count": 278,
     "metadata": {},
     "output_type": "execute_result"
    }
   ],
   "source": [
    "flat_df[(flat_df['symptoms'] == 3)].tail(2)"
   ]
  },
  {
   "cell_type": "code",
   "execution_count": 279,
   "metadata": {},
   "outputs": [
    {
     "data": {
      "text/plain": [
       "Timestamp('2020-10-05 00:00:00')"
      ]
     },
     "execution_count": 279,
     "metadata": {},
     "output_type": "execute_result"
    }
   ],
   "source": [
    "flat_df.index.max()"
   ]
  },
  {
   "cell_type": "code",
   "execution_count": 280,
   "metadata": {},
   "outputs": [
    {
     "data": {
      "text/plain": [
       "Timestamp('2020-07-01 13:00:00')"
      ]
     },
     "execution_count": 280,
     "metadata": {},
     "output_type": "execute_result"
    }
   ],
   "source": [
    "flat_df[(flat_df['symptoms'] == 3)].index.max()"
   ]
  },
  {
   "cell_type": "code",
   "execution_count": 272,
   "metadata": {},
   "outputs": [
    {
     "data": {
      "text/html": [
       "<div>\n",
       "<style scoped>\n",
       "    .dataframe tbody tr th:only-of-type {\n",
       "        vertical-align: middle;\n",
       "    }\n",
       "\n",
       "    .dataframe tbody tr th {\n",
       "        vertical-align: top;\n",
       "    }\n",
       "\n",
       "    .dataframe thead th {\n",
       "        text-align: right;\n",
       "    }\n",
       "</style>\n",
       "<table border=\"1\" class=\"dataframe\">\n",
       "  <thead>\n",
       "    <tr style=\"text-align: right;\">\n",
       "      <th></th>\n",
       "      <th>symptoms</th>\n",
       "      <th>infected_id</th>\n",
       "    </tr>\n",
       "    <tr>\n",
       "      <th>time_stamp</th>\n",
       "      <th></th>\n",
       "      <th></th>\n",
       "    </tr>\n",
       "  </thead>\n",
       "  <tbody>\n",
       "    <tr>\n",
       "      <th>2020-05-09 12:00:00</th>\n",
       "      <td>3</td>\n",
       "      <td>2639</td>\n",
       "    </tr>\n",
       "    <tr>\n",
       "      <th>2020-06-06 12:00:00</th>\n",
       "      <td>3</td>\n",
       "      <td>3129</td>\n",
       "    </tr>\n",
       "  </tbody>\n",
       "</table>\n",
       "</div>"
      ],
      "text/plain": [
       "                    symptoms infected_id\n",
       "time_stamp                              \n",
       "2020-05-09 12:00:00        3        2639\n",
       "2020-06-06 12:00:00        3        3129"
      ]
     },
     "execution_count": 272,
     "metadata": {},
     "output_type": "execute_result"
    }
   ],
   "source": [
    "hospitalised_df.tail(2)"
   ]
  },
  {
   "cell_type": "code",
   "execution_count": 283,
   "metadata": {},
   "outputs": [
    {
     "data": {
      "text/plain": [
       "time_stamp        2020-08-17T13:00:00.000000\n",
       "id                                         0\n",
       "n_patients                                36\n",
       "n_patients_icu                             0\n",
       "Name: 800, dtype: object"
      ]
     },
     "execution_count": 283,
     "metadata": {},
     "output_type": "execute_result"
    }
   ],
   "source": [
    "hospitals_df.iloc[800]"
   ]
  },
  {
   "cell_type": "code",
   "execution_count": 289,
   "metadata": {},
   "outputs": [],
   "source": [
    "hospitals_df.set_index(pd.to_datetime(hospitals_df['time_stamp']), inplace=True)"
   ]
  },
  {
   "cell_type": "code",
   "execution_count": 263,
   "metadata": {},
   "outputs": [
    {
     "data": {
      "text/plain": [
       "<matplotlib.axes._subplots.AxesSubplot at 0x7feae1a485e0>"
      ]
     },
     "execution_count": 263,
     "metadata": {},
     "output_type": "execute_result"
    },
    {
     "data": {
      "image/png": "[encoded data removed]",
      "text/plain": [
       "<Figure size 576x432 with 1 Axes>"
      ]
     },
     "metadata": {
      "needs_background": "light"
     },
     "output_type": "display_data"
    }
   ],
   "source": [
    "fig,ax=plt.subplots()\n",
    "hospitalised_df.groupby(hospitalised_df.index).size().resample('D').sum().plot(ax=ax)\n",
    "world_df['daily_hospital_admissions'].resample('D').sum().plot(ax=ax,\n",
    "                                                              linestyle='dashed')\n"
   ]
  }
 ],
 "metadata": {
  "kernelspec": {
   "display_name": "Python 3",
   "language": "python",
   "name": "python3"
  },
  "language_info": {
   "codemirror_mode": {
    "name": "ipython",
    "version": 3
   },
   "file_extension": ".py",
   "mimetype": "text/x-python",
   "name": "python",
   "nbconvert_exporter": "python",
   "pygments_lexer": "ipython3",
   "version": "3.8.3"
  }
 },
 "nbformat": 4,
 "nbformat_minor": 4
}
