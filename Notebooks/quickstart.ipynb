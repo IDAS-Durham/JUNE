{
 "cells": [
  {
   "cell_type": "code",
   "execution_count": 1,
   "metadata": {},
   "outputs": [],
   "source": [
    "%load_ext autoreload\n",
    "%autoreload 2"
   ]
  },
  {
   "cell_type": "code",
   "execution_count": 2,
   "metadata": {},
   "outputs": [],
   "source": [
    "import warnings\n",
    "warnings.filterwarnings('ignore')"
   ]
  },
  {
   "cell_type": "code",
   "execution_count": 3,
   "metadata": {},
   "outputs": [],
   "source": [
    "import numpy as np\n",
    "import time\n",
    "from datetime import datetime\n",
    "import matplotlib.pyplot as plt\n",
    "import seaborn as sns\n",
    "sns.set_context('notebook')"
   ]
  },
  {
   "cell_type": "code",
   "execution_count": 4,
   "metadata": {},
   "outputs": [
    {
     "name": "stderr",
     "output_type": "stream",
     "text": [
      "No --data argument given - defaulting to:\n",
      "/home/arnau/code/JUNE/data\n",
      "No --configs argument given - defaulting to:\n",
      "/home/arnau/code/JUNE/configs\n"
     ]
    }
   ],
   "source": [
    "from june import World \n",
    "from june.demography.geography import Geography\n",
    "from june.demography import Demography\n",
    "from june.interaction import ContactAveraging\n",
    "from june.infection import Infection\n",
    "from june.infection.symptoms import SymptomsConstant\n",
    "from june.infection.transmission import TransmissionConstant\n",
    "from june.groups import Hospitals, Schools, Companies, Households, CareHomes, Cemeteries, Universities\n",
    "from june.groups.leisure import Cinemas, Pubs, Groceries\n",
    "from june.simulator import Simulator\n",
    "from june.seed import Seed\n",
    "from june.policy import Policy, Policies\n",
    "from june import paths\n",
    "from june.logger.read_logger import ReadLogger\n",
    "from june.infection.infection import InfectionSelector\n",
    "from june.world import generate_world_from_hdf5, generate_world_from_geography"
   ]
  },
  {
   "cell_type": "markdown",
   "metadata": {},
   "source": [
    "# Initialize world\n",
    "\n",
    "To initialize a certain world, we need to add the different components we want to have in it. First we specify what super areas (msoa) we want to create. We have included these ones, because they are known to contain hospitals, schools, care homes, and companies.\n",
    "\n",
    "After creating the geography, we create the different components the worlds need to have such as care homes, companies ..."
   ]
  },
  {
   "cell_type": "code",
   "execution_count": 5,
   "metadata": {},
   "outputs": [
    {
     "name": "stdout",
     "output_type": "stream",
     "text": [
      "2020-06-12 00:23:07,228 - june.demography.geography - INFO - There are 76 areas and 3 super_areas in the world.\n",
      "2020-06-12 00:23:07,234 - june.groups.hospital - INFO - There are 2 hospitals in this geography.\n",
      "2020-06-12 00:23:07,285 - june.groups.school - INFO - There are 10 schools in this geography.\n",
      "2020-06-12 00:23:07,300 - june.groups.school - INFO - No school for the age 0 in this world.\n",
      "2020-06-12 00:23:07,302 - june.groups.school - INFO - No school for the age 1 in this world.\n",
      "2020-06-12 00:23:07,309 - june.groups.school - INFO - No school for the age 2 in this world.\n",
      "2020-06-12 00:23:07,526 - june.groups.carehome - INFO - There are 2 care_homes in this geography.\n",
      "2020-06-12 00:23:15,452 - june.distributors.worker_distributor - INFO - There are 0 who had to be told to stay real\n",
      "CPU times: user 8.56 s, sys: 619 ms, total: 9.18 s\n",
      "Wall time: 9.25 s\n"
     ]
    }
   ],
   "source": [
    "%%time\n",
    "geography = Geography.from_file({\n",
    "                                \"super_area\": \n",
    "                                          [\"E02001720\",\n",
    "                                          \"E00088544\", \n",
    "                                          \"E02002560\", \n",
    "                                          \"E02002559\"]\n",
    "                                }\n",
    "                                )\n",
    "\n",
    "geography.hospitals = Hospitals.for_geography(geography)\n",
    "geography.schools = Schools.for_geography(geography)\n",
    "geography.companies = Companies.for_geography(geography)\n",
    "geography.care_homes = CareHomes.for_geography(geography)\n",
    "geography.universities = Universities.for_super_areas(geography.super_areas)\n",
    "world = generate_world_from_geography(geography, include_households=True)\n"
   ]
  },
  {
   "cell_type": "markdown",
   "metadata": {},
   "source": [
    "### If it took a long time to run the previous command, it might be a good idea to save the world to reuse it later."
   ]
  },
  {
   "cell_type": "code",
   "execution_count": 6,
   "metadata": {},
   "outputs": [],
   "source": [
    "#world.to_hdf5(\"world.hdf5\")"
   ]
  },
  {
   "cell_type": "markdown",
   "metadata": {},
   "source": [
    "If we would like to load the world we saved, we just do"
   ]
  },
  {
   "cell_type": "code",
   "execution_count": 7,
   "metadata": {},
   "outputs": [],
   "source": [
    "#world = generate_world_from_hdf5(\"world.hdf5\")"
   ]
  },
  {
   "cell_type": "markdown",
   "metadata": {},
   "source": [
    "you have now a beautiful pre-pandemic world. "
   ]
  },
  {
   "cell_type": "markdown",
   "metadata": {},
   "source": [
    "## Commute, travel and leisure"
   ]
  },
  {
   "cell_type": "markdown",
   "metadata": {},
   "source": [
    "We can add cinemas, pubs, groceries, etc. as well as commute in major cities with"
   ]
  },
  {
   "cell_type": "code",
   "execution_count": 8,
   "metadata": {},
   "outputs": [],
   "source": [
    "# leisure\n",
    "world.cinemas = Cinemas.for_geography(geography)\n",
    "world.pubs = Pubs.for_geography(geography)\n",
    "world.groceries = Groceries.for_super_areas(world.super_areas,\n",
    "                                            venues_per_capita=1/500)"
   ]
  },
  {
   "cell_type": "code",
   "execution_count": 9,
   "metadata": {},
   "outputs": [],
   "source": [
    "# commute\n",
    "world.initialise_commuting()"
   ]
  },
  {
   "cell_type": "markdown",
   "metadata": {},
   "source": [
    "We are also going to need some cemeteries...geography.cemeteries = Cemeteries()\n"
   ]
  },
  {
   "cell_type": "code",
   "execution_count": 10,
   "metadata": {},
   "outputs": [],
   "source": [
    "world.cemeteries = Cemeteries()"
   ]
  },
  {
   "cell_type": "markdown",
   "metadata": {},
   "source": [
    "# Adding the infection"
   ]
  },
  {
   "cell_type": "markdown",
   "metadata": {},
   "source": [
    "Now, you can play around with different models of infections. The building blocks for an infection are: Transmission and Symptoms. For now, only SymptomsConstant and TransmissionConstant are in a state to be used."
   ]
  },
  {
   "cell_type": "code",
   "execution_count": 11,
   "metadata": {},
   "outputs": [],
   "source": [
    "selector = InfectionSelector.from_file()"
   ]
  },
  {
   "cell_type": "code",
   "execution_count": 12,
   "metadata": {},
   "outputs": [
    {
     "data": {
      "text/plain": [
       "<june.infection.infection.InfectionSelector at 0x7f45378ce3a0>"
      ]
     },
     "execution_count": 12,
     "metadata": {},
     "output_type": "execute_result"
    }
   ],
   "source": [
    "selector"
   ]
  },
  {
   "cell_type": "markdown",
   "metadata": {},
   "source": [
    "# Adding the interaction"
   ]
  },
  {
   "cell_type": "code",
   "execution_count": 13,
   "metadata": {},
   "outputs": [],
   "source": [
    "interaction = ContactAveraging.from_file(selector=selector)\n",
    "#interaction = DefaultInteraction.from_file(selector=selector)"
   ]
  },
  {
   "cell_type": "markdown",
   "metadata": {},
   "source": [
    "Beta are the intensities of the interaction taking place at the different groups"
   ]
  },
  {
   "cell_type": "code",
   "execution_count": 14,
   "metadata": {},
   "outputs": [
    {
     "data": {
      "text/plain": [
       "{'box': 1,\n",
       " 'pub': 0.1,\n",
       " 'grocery': 0.1,\n",
       " 'cinema': 0.1,\n",
       " 'commute_unit': 0.5,\n",
       " 'commute_city_unit': 0.5,\n",
       " 'hospital': 0.5,\n",
       " 'care_home': 0.5,\n",
       " 'company': 0.5,\n",
       " 'school': 0.5,\n",
       " 'household': 0.5,\n",
       " 'university': 0.5}"
      ]
     },
     "execution_count": 14,
     "metadata": {},
     "output_type": "execute_result"
    }
   ],
   "source": [
    "interaction.beta"
   ]
  },
  {
   "cell_type": "markdown",
   "metadata": {},
   "source": [
    "to modify these, simply do"
   ]
  },
  {
   "cell_type": "code",
   "execution_count": 15,
   "metadata": {},
   "outputs": [],
   "source": [
    "interaction.beta['household'] *= 2"
   ]
  },
  {
   "cell_type": "code",
   "execution_count": 16,
   "metadata": {},
   "outputs": [
    {
     "data": {
      "text/plain": [
       "{'box': 1,\n",
       " 'pub': 0.1,\n",
       " 'grocery': 0.1,\n",
       " 'cinema': 0.1,\n",
       " 'commute_unit': 0.5,\n",
       " 'commute_city_unit': 0.5,\n",
       " 'hospital': 0.5,\n",
       " 'care_home': 0.5,\n",
       " 'company': 0.5,\n",
       " 'school': 0.5,\n",
       " 'household': 1.0,\n",
       " 'university': 0.5}"
      ]
     },
     "execution_count": 16,
     "metadata": {},
     "output_type": "execute_result"
    }
   ],
   "source": [
    "interaction.beta"
   ]
  },
  {
   "cell_type": "markdown",
   "metadata": {},
   "source": [
    "moreover this interaction module uses contact matrices, that are different for different groups. These contact matrices shouldnt be modified for now. However they are a combination of conversational contact matrices, and physical contact matrices (see the BBC pandemic paper, from where these matrices are extracted https://www.medrxiv.org/content/10.1101/2020.02.16.20023754v2)\n",
    "\n",
    "There is a parameter, ``alpha`` ($\\alpha$), that combines these two matrices in the following way,\n",
    "\n",
    "\n",
    "$\\beta M \\left(1 + (\\alpha -1) \\right) P$\n",
    "\n",
    "where $\\beta$ is the intensity of the interaction, and $P$ the physical contact matrix. A larger $\\alpha$ produces more physical contacts. It is an overall number, non dependent of the particular group.\n"
   ]
  },
  {
   "cell_type": "code",
   "execution_count": 17,
   "metadata": {},
   "outputs": [
    {
     "data": {
      "text/plain": [
       "2.0"
      ]
     },
     "execution_count": 17,
     "metadata": {},
     "output_type": "execute_result"
    }
   ],
   "source": [
    "interaction.alpha_physical"
   ]
  },
  {
   "cell_type": "code",
   "execution_count": 18,
   "metadata": {},
   "outputs": [],
   "source": [
    "interaction.alpha_physical /= 2"
   ]
  },
  {
   "cell_type": "code",
   "execution_count": 19,
   "metadata": {},
   "outputs": [
    {
     "data": {
      "text/plain": [
       "1.0"
      ]
     },
     "execution_count": 19,
     "metadata": {},
     "output_type": "execute_result"
    }
   ],
   "source": [
    "interaction.alpha_physical"
   ]
  },
  {
   "cell_type": "markdown",
   "metadata": {},
   "source": [
    "# Seed the disease"
   ]
  },
  {
   "cell_type": "markdown",
   "metadata": {},
   "source": [
    "There are two options implemented in the seed at the moment, either you specify the number of cases and these are then homogeneously distributed by population to the different areas, or you use UK data on cases per region. For now use the first case."
   ]
  },
  {
   "cell_type": "code",
   "execution_count": 20,
   "metadata": {},
   "outputs": [],
   "source": [
    "seed = Seed(world.super_areas, selector,)"
   ]
  },
  {
   "cell_type": "code",
   "execution_count": 21,
   "metadata": {},
   "outputs": [],
   "source": [
    "n_cases = 10\n",
    "seed.unleash_virus(n_cases) # play around with the initial number of cases"
   ]
  },
  {
   "cell_type": "markdown",
   "metadata": {},
   "source": [
    "# Set policies"
   ]
  },
  {
   "cell_type": "code",
   "execution_count": 22,
   "metadata": {},
   "outputs": [],
   "source": [
    "social_distance = Policy(policy=\"social_distance\",\n",
    "                         start_time=datetime(2020, 3, 25), \n",
    "                         end_time=datetime(2020, 4, 1))"
   ]
  },
  {
   "cell_type": "code",
   "execution_count": 23,
   "metadata": {},
   "outputs": [],
   "source": [
    "policies = Policies.from_file([social_distance])"
   ]
  },
  {
   "cell_type": "code",
   "execution_count": 24,
   "metadata": {},
   "outputs": [
    {
     "data": {
      "text/plain": [
       "{'alpha factor': 1.0,\n",
       " 'beta factor': {'box': 0.5,\n",
       "  'pub': 0.5,\n",
       "  'grocery': 0.5,\n",
       "  'cinema': 0.5,\n",
       "  'commute_unit': 0.5,\n",
       "  'commute_city_unit': 0.5,\n",
       "  'hospital': 0.5,\n",
       "  'care_home': 0.5,\n",
       "  'company': 0.5,\n",
       "  'school': 0.5,\n",
       "  'household': 1.0}}"
      ]
     },
     "execution_count": 24,
     "metadata": {},
     "output_type": "execute_result"
    }
   ],
   "source": [
    "policies.config['social distancing']"
   ]
  },
  {
   "cell_type": "markdown",
   "metadata": {},
   "source": [
    "# Run the simulation"
   ]
  },
  {
   "cell_type": "markdown",
   "metadata": {},
   "source": [
    "Since the timer configuration is a bit cumbersome, it is read from the config file at ``configs/config_example.yaml``"
   ]
  },
  {
   "cell_type": "code",
   "execution_count": 25,
   "metadata": {},
   "outputs": [],
   "source": [
    "CONFIG_PATH = \"../configs/config_example.yaml\"\n",
    "\n",
    "simulator = Simulator.from_file(\n",
    "     world, interaction, selector, \n",
    "    config_filename = CONFIG_PATH,\n",
    "    policies = policies\n",
    ")"
   ]
  },
  {
   "cell_type": "code",
   "execution_count": 26,
   "metadata": {},
   "outputs": [],
   "source": [
    "simulator.timer.reset()"
   ]
  },
  {
   "cell_type": "code",
   "execution_count": 27,
   "metadata": {
    "scrolled": true
   },
   "outputs": [
    {
     "name": "stdout",
     "output_type": "stream",
     "text": [
      "2020-06-12 00:23:33,774 - june.simulator - INFO - Starting group_dynamics for 70 days at day 0\n",
      "2020-06-12 00:23:33,775 - june.simulator - INFO - starting the loop ..., at 0 days, to run for 70 days\n",
      "2020-06-12 00:23:35,349 - june.simulator - INFO - Date = 2020-03-07 03:00:00, number of deaths =  0, number of infected = 10\n",
      "2020-06-12 00:23:36,260 - june.simulator - INFO - Date = 2020-03-07 06:00:00, number of deaths =  0, number of infected = 10\n",
      "2020-06-12 00:23:36,557 - june.simulator - INFO - Date = 2020-03-07 09:00:00, number of deaths =  0, number of infected = 10\n",
      "2020-06-12 00:23:37,323 - june.simulator - INFO - Date = 2020-03-08 00:00:00, number of deaths =  0, number of infected = 10\n",
      "2020-06-12 00:23:37,946 - june.simulator - INFO - Date = 2020-03-08 03:00:00, number of deaths =  0, number of infected = 10\n",
      "2020-06-12 00:23:38,611 - june.simulator - INFO - Date = 2020-03-08 06:00:00, number of deaths =  0, number of infected = 10\n",
      "2020-06-12 00:23:38,837 - june.simulator - INFO - Date = 2020-03-08 09:00:00, number of deaths =  0, number of infected = 10\n",
      "2020-06-12 00:23:39,111 - june.simulator - INFO - Date = 2020-03-09 00:00:00, number of deaths =  0, number of infected = 10\n",
      "2020-06-12 00:23:39,350 - june.simulator - INFO - Date = 2020-03-09 01:00:00, number of deaths =  0, number of infected = 10\n",
      "2020-06-12 00:23:39,521 - june.simulator - INFO - Date = 2020-03-09 09:00:00, number of deaths =  0, number of infected = 10\n",
      "2020-06-12 00:23:39,979 - june.simulator - INFO - Date = 2020-03-09 10:00:00, number of deaths =  0, number of infected = 10\n",
      "2020-06-12 00:23:40,187 - june.simulator - INFO - Date = 2020-03-09 13:00:00, number of deaths =  0, number of infected = 10\n",
      "2020-06-12 00:23:40,418 - june.simulator - INFO - Date = 2020-03-10 00:00:00, number of deaths =  0, number of infected = 10\n",
      "2020-06-12 00:23:40,636 - june.simulator - INFO - Date = 2020-03-10 01:00:00, number of deaths =  0, number of infected = 10\n",
      "2020-06-12 00:23:40,815 - june.simulator - INFO - Date = 2020-03-10 09:00:00, number of deaths =  0, number of infected = 10\n",
      "2020-06-12 00:23:41,271 - june.simulator - INFO - Date = 2020-03-10 10:00:00, number of deaths =  0, number of infected = 10\n",
      "2020-06-12 00:23:41,472 - june.simulator - INFO - Date = 2020-03-10 13:00:00, number of deaths =  0, number of infected = 10\n",
      "2020-06-12 00:23:41,766 - june.simulator - INFO - Date = 2020-03-11 00:00:00, number of deaths =  0, number of infected = 10\n",
      "2020-06-12 00:23:42,019 - june.simulator - INFO - Date = 2020-03-11 01:00:00, number of deaths =  0, number of infected = 11\n",
      "2020-06-12 00:23:42,202 - june.simulator - INFO - Date = 2020-03-11 09:00:00, number of deaths =  0, number of infected = 12\n",
      "2020-06-12 00:23:42,595 - june.simulator - INFO - Date = 2020-03-11 10:00:00, number of deaths =  0, number of infected = 13\n",
      "2020-06-12 00:23:42,790 - june.simulator - INFO - Date = 2020-03-11 13:00:00, number of deaths =  0, number of infected = 14\n",
      "2020-06-12 00:23:43,033 - june.simulator - INFO - Date = 2020-03-12 00:00:00, number of deaths =  0, number of infected = 19\n",
      "2020-06-12 00:23:43,292 - june.simulator - INFO - Date = 2020-03-12 01:00:00, number of deaths =  0, number of infected = 20\n",
      "2020-06-12 00:23:43,480 - june.simulator - INFO - Date = 2020-03-12 09:00:00, number of deaths =  0, number of infected = 23\n",
      "2020-06-12 00:23:43,896 - june.simulator - INFO - Date = 2020-03-12 10:00:00, number of deaths =  0, number of infected = 23\n",
      "2020-06-12 00:23:44,099 - june.simulator - INFO - Date = 2020-03-12 13:00:00, number of deaths =  0, number of infected = 23\n",
      "2020-06-12 00:23:44,362 - june.simulator - INFO - Date = 2020-03-13 00:00:00, number of deaths =  0, number of infected = 25\n",
      "2020-06-12 00:23:44,609 - june.simulator - INFO - Date = 2020-03-13 01:00:00, number of deaths =  0, number of infected = 26\n",
      "2020-06-12 00:23:44,825 - june.simulator - INFO - Date = 2020-03-13 09:00:00, number of deaths =  0, number of infected = 29\n",
      "2020-06-12 00:23:45,364 - june.simulator - INFO - Date = 2020-03-13 10:00:00, number of deaths =  0, number of infected = 29\n",
      "2020-06-12 00:23:45,566 - june.simulator - INFO - Date = 2020-03-13 13:00:00, number of deaths =  0, number of infected = 29\n",
      "2020-06-12 00:23:46,050 - june.simulator - INFO - Date = 2020-03-14 00:00:00, number of deaths =  0, number of infected = 30\n",
      "2020-06-12 00:23:46,554 - june.simulator - INFO - Date = 2020-03-14 03:00:00, number of deaths =  0, number of infected = 30\n",
      "2020-06-12 00:23:47,082 - june.simulator - INFO - Date = 2020-03-14 06:00:00, number of deaths =  0, number of infected = 33\n",
      "2020-06-12 00:23:47,301 - june.simulator - INFO - Date = 2020-03-14 09:00:00, number of deaths =  0, number of infected = 35\n",
      "2020-06-12 00:23:47,761 - june.simulator - INFO - Date = 2020-03-15 00:00:00, number of deaths =  0, number of infected = 36\n",
      "2020-06-12 00:23:48,170 - june.simulator - INFO - Date = 2020-03-15 03:00:00, number of deaths =  0, number of infected = 37\n",
      "2020-06-12 00:23:48,548 - june.simulator - INFO - Date = 2020-03-15 06:00:00, number of deaths =  0, number of infected = 38\n",
      "2020-06-12 00:23:48,732 - june.simulator - INFO - Date = 2020-03-15 09:00:00, number of deaths =  0, number of infected = 38\n",
      "2020-06-12 00:23:48,982 - june.simulator - INFO - Date = 2020-03-16 00:00:00, number of deaths =  0, number of infected = 41\n",
      "2020-06-12 00:23:49,228 - june.simulator - INFO - Date = 2020-03-16 01:00:00, number of deaths =  0, number of infected = 41\n",
      "2020-06-12 00:23:49,427 - june.simulator - INFO - Date = 2020-03-16 09:00:00, number of deaths =  0, number of infected = 47\n",
      "2020-06-12 00:23:49,781 - june.simulator - INFO - Date = 2020-03-16 10:00:00, number of deaths =  0, number of infected = 48\n",
      "2020-06-12 00:23:49,963 - june.simulator - INFO - Date = 2020-03-16 13:00:00, number of deaths =  0, number of infected = 48\n",
      "2020-06-12 00:23:50,231 - june.simulator - INFO - Date = 2020-03-17 00:00:00, number of deaths =  0, number of infected = 58\n",
      "2020-06-12 00:23:50,455 - june.simulator - INFO - Date = 2020-03-17 01:00:00, number of deaths =  0, number of infected = 58\n",
      "2020-06-12 00:23:50,653 - june.simulator - INFO - Date = 2020-03-17 09:00:00, number of deaths =  0, number of infected = 70\n",
      "2020-06-12 00:23:51,016 - june.simulator - INFO - Date = 2020-03-17 10:00:00, number of deaths =  0, number of infected = 71\n",
      "2020-06-12 00:23:51,234 - june.simulator - INFO - Date = 2020-03-17 13:00:00, number of deaths =  0, number of infected = 74\n",
      "2020-06-12 00:23:51,486 - june.simulator - INFO - Date = 2020-03-18 00:00:00, number of deaths =  0, number of infected = 79\n",
      "2020-06-12 00:23:51,725 - june.simulator - INFO - Date = 2020-03-18 01:00:00, number of deaths =  0, number of infected = 80\n",
      "2020-06-12 00:23:51,913 - june.simulator - INFO - Date = 2020-03-18 09:00:00, number of deaths =  0, number of infected = 96\n",
      "2020-06-12 00:23:52,280 - june.simulator - INFO - Date = 2020-03-18 10:00:00, number of deaths =  0, number of infected = 96\n",
      "2020-06-12 00:23:52,465 - june.simulator - INFO - Date = 2020-03-18 13:00:00, number of deaths =  0, number of infected = 96\n",
      "2020-06-12 00:23:52,718 - june.simulator - INFO - Date = 2020-03-19 00:00:00, number of deaths =  0, number of infected = 101\n",
      "2020-06-12 00:23:52,942 - june.simulator - INFO - Date = 2020-03-19 01:00:00, number of deaths =  0, number of infected = 102\n",
      "2020-06-12 00:23:53,128 - june.simulator - INFO - Date = 2020-03-19 09:00:00, number of deaths =  0, number of infected = 132\n",
      "2020-06-12 00:23:53,487 - june.simulator - INFO - Date = 2020-03-19 10:00:00, number of deaths =  0, number of infected = 132\n",
      "2020-06-12 00:23:53,677 - june.simulator - INFO - Date = 2020-03-19 13:00:00, number of deaths =  0, number of infected = 132\n",
      "2020-06-12 00:23:53,941 - june.simulator - INFO - Date = 2020-03-20 00:00:00, number of deaths =  0, number of infected = 134\n",
      "2020-06-12 00:23:54,206 - june.simulator - INFO - Date = 2020-03-20 01:00:00, number of deaths =  0, number of infected = 137\n",
      "2020-06-12 00:23:54,401 - june.simulator - INFO - Date = 2020-03-20 09:00:00, number of deaths =  0, number of infected = 160\n",
      "2020-06-12 00:23:54,742 - june.simulator - INFO - Date = 2020-03-20 10:00:00, number of deaths =  0, number of infected = 160\n",
      "2020-06-12 00:23:54,922 - june.simulator - INFO - Date = 2020-03-20 13:00:00, number of deaths =  0, number of infected = 162\n",
      "2020-06-12 00:23:55,321 - june.simulator - INFO - Date = 2020-03-21 00:00:00, number of deaths =  0, number of infected = 171\n",
      "2020-06-12 00:23:55,648 - june.simulator - INFO - Date = 2020-03-21 03:00:00, number of deaths =  0, number of infected = 173\n",
      "2020-06-12 00:23:55,988 - june.simulator - INFO - Date = 2020-03-21 06:00:00, number of deaths =  0, number of infected = 175\n",
      "2020-06-12 00:23:56,169 - june.simulator - INFO - Date = 2020-03-21 09:00:00, number of deaths =  0, number of infected = 178\n",
      "2020-06-12 00:23:56,528 - june.simulator - INFO - Date = 2020-03-22 00:00:00, number of deaths =  0, number of infected = 197\n",
      "2020-06-12 00:23:56,821 - june.simulator - INFO - Date = 2020-03-22 03:00:00, number of deaths =  0, number of infected = 201\n",
      "2020-06-12 00:23:57,099 - june.simulator - INFO - Date = 2020-03-22 06:00:00, number of deaths =  0, number of infected = 203\n",
      "2020-06-12 00:23:57,282 - june.simulator - INFO - Date = 2020-03-22 09:00:00, number of deaths =  0, number of infected = 207\n",
      "2020-06-12 00:23:57,553 - june.simulator - INFO - Date = 2020-03-23 00:00:00, number of deaths =  0, number of infected = 249\n",
      "2020-06-12 00:23:57,781 - june.simulator - INFO - Date = 2020-03-23 01:00:00, number of deaths =  0, number of infected = 251\n",
      "2020-06-12 00:23:57,974 - june.simulator - INFO - Date = 2020-03-23 09:00:00, number of deaths =  0, number of infected = 346\n",
      "2020-06-12 00:23:58,288 - june.simulator - INFO - Date = 2020-03-23 10:00:00, number of deaths =  0, number of infected = 350\n",
      "2020-06-12 00:23:58,468 - june.simulator - INFO - Date = 2020-03-23 13:00:00, number of deaths =  0, number of infected = 355\n",
      "2020-06-12 00:23:58,730 - june.simulator - INFO - Date = 2020-03-24 00:00:00, number of deaths =  0, number of infected = 399\n",
      "2020-06-12 00:23:58,960 - june.simulator - INFO - Date = 2020-03-24 01:00:00, number of deaths =  0, number of infected = 401\n",
      "2020-06-12 00:23:59,175 - june.simulator - INFO - Date = 2020-03-24 09:00:00, number of deaths =  0, number of infected = 543\n",
      "2020-06-12 00:23:59,534 - june.simulator - INFO - Date = 2020-03-24 10:00:00, number of deaths =  0, number of infected = 546\n",
      "2020-06-12 00:23:59,704 - june.simulator - INFO - Date = 2020-03-24 13:00:00, number of deaths =  0, number of infected = 549\n",
      "2020-06-12 00:23:59,972 - june.simulator - INFO - Date = 2020-03-25 00:00:00, number of deaths =  0, number of infected = 575\n",
      "2020-06-12 00:24:00,188 - june.simulator - INFO - Date = 2020-03-25 01:00:00, number of deaths =  0, number of infected = 579\n"
     ]
    },
    {
     "ename": "KeyError",
     "evalue": "'university'",
     "output_type": "error",
     "traceback": [
      "\u001b[0;31m---------------------------------------------------------------------------\u001b[0m",
      "\u001b[0;31mKeyError\u001b[0m                                  Traceback (most recent call last)",
      "\u001b[0;32m<timed eval>\u001b[0m in \u001b[0;36m<module>\u001b[0;34m\u001b[0m\n",
      "\u001b[0;32m~/code/JUNE/june/simulator.py\u001b[0m in \u001b[0;36mrun\u001b[0;34m(self, save)\u001b[0m\n\u001b[1;32m    585\u001b[0m                 \u001b[0;32mif\u001b[0m \u001b[0;34m(\u001b[0m\u001b[0mtime\u001b[0m \u001b[0;34m>=\u001b[0m \u001b[0mself\u001b[0m\u001b[0;34m.\u001b[0m\u001b[0mseed\u001b[0m\u001b[0;34m.\u001b[0m\u001b[0mmin_date\u001b[0m\u001b[0;34m)\u001b[0m \u001b[0;32mand\u001b[0m \u001b[0;34m(\u001b[0m\u001b[0mtime\u001b[0m \u001b[0;34m<=\u001b[0m \u001b[0mself\u001b[0m\u001b[0;34m.\u001b[0m\u001b[0mseed\u001b[0m\u001b[0;34m.\u001b[0m\u001b[0mmax_date\u001b[0m\u001b[0;34m)\u001b[0m\u001b[0;34m:\u001b[0m\u001b[0;34m\u001b[0m\u001b[0;34m\u001b[0m\u001b[0m\n\u001b[1;32m    586\u001b[0m                     \u001b[0mself\u001b[0m\u001b[0;34m.\u001b[0m\u001b[0mseed\u001b[0m\u001b[0;34m.\u001b[0m\u001b[0munleash_virus_per_region\u001b[0m\u001b[0;34m(\u001b[0m\u001b[0mtime\u001b[0m\u001b[0;34m)\u001b[0m\u001b[0;34m\u001b[0m\u001b[0;34m\u001b[0m\u001b[0m\n\u001b[0;32m--> 587\u001b[0;31m             \u001b[0mself\u001b[0m\u001b[0;34m.\u001b[0m\u001b[0mdo_timestep\u001b[0m\u001b[0;34m(\u001b[0m\u001b[0;34m)\u001b[0m\u001b[0;34m\u001b[0m\u001b[0;34m\u001b[0m\u001b[0m\n\u001b[0m\u001b[1;32m    588\u001b[0m         \u001b[0;31m# Save the world\u001b[0m\u001b[0;34m\u001b[0m\u001b[0;34m\u001b[0m\u001b[0;34m\u001b[0m\u001b[0m\n\u001b[1;32m    589\u001b[0m         \u001b[0;32mif\u001b[0m \u001b[0msave\u001b[0m\u001b[0;34m:\u001b[0m\u001b[0;34m\u001b[0m\u001b[0;34m\u001b[0m\u001b[0m\n",
      "\u001b[0;32m~/code/JUNE/june/simulator.py\u001b[0m in \u001b[0;36mdo_timestep\u001b[0;34m(self)\u001b[0m\n\u001b[1;32m    535\u001b[0m \u001b[0;34m\u001b[0m\u001b[0m\n\u001b[1;32m    536\u001b[0m         \u001b[0;32mif\u001b[0m \u001b[0mself\u001b[0m\u001b[0;34m.\u001b[0m\u001b[0mpolicies\u001b[0m\u001b[0;34m.\u001b[0m\u001b[0msocial_distancing\u001b[0m \u001b[0;32mand\u001b[0m \u001b[0mself\u001b[0m\u001b[0;34m.\u001b[0m\u001b[0mpolicies\u001b[0m\u001b[0;34m.\u001b[0m\u001b[0msocial_distancing_start\u001b[0m \u001b[0;34m<\u001b[0m \u001b[0mself\u001b[0m\u001b[0;34m.\u001b[0m\u001b[0mtimer\u001b[0m\u001b[0;34m.\u001b[0m\u001b[0mdate\u001b[0m \u001b[0;34m<\u001b[0m \u001b[0mself\u001b[0m\u001b[0;34m.\u001b[0m\u001b[0mpolicies\u001b[0m\u001b[0;34m.\u001b[0m\u001b[0msocial_distancing_end\u001b[0m\u001b[0;34m:\u001b[0m\u001b[0;34m\u001b[0m\u001b[0;34m\u001b[0m\u001b[0m\n\u001b[0;32m--> 537\u001b[0;31m             \u001b[0mself\u001b[0m\u001b[0;34m.\u001b[0m\u001b[0minteraction\u001b[0m\u001b[0;34m.\u001b[0m\u001b[0malpha_physical\u001b[0m\u001b[0;34m,\u001b[0m \u001b[0mself\u001b[0m\u001b[0;34m.\u001b[0m\u001b[0minteraction\u001b[0m\u001b[0;34m.\u001b[0m\u001b[0mbeta\u001b[0m \u001b[0;34m=\u001b[0m \u001b[0mself\u001b[0m\u001b[0;34m.\u001b[0m\u001b[0mpolicies\u001b[0m\u001b[0;34m.\u001b[0m\u001b[0msocial_distancing_policy\u001b[0m\u001b[0;34m(\u001b[0m\u001b[0mself\u001b[0m\u001b[0;34m.\u001b[0m\u001b[0malpha_copy\u001b[0m\u001b[0;34m,\u001b[0m \u001b[0mself\u001b[0m\u001b[0;34m.\u001b[0m\u001b[0mbeta_copy\u001b[0m\u001b[0;34m,\u001b[0m \u001b[0mself\u001b[0m\u001b[0;34m.\u001b[0m\u001b[0mtimer\u001b[0m\u001b[0;34m.\u001b[0m\u001b[0mnow\u001b[0m\u001b[0;34m)\u001b[0m\u001b[0;34m\u001b[0m\u001b[0;34m\u001b[0m\u001b[0m\n\u001b[0m\u001b[1;32m    538\u001b[0m         \u001b[0;32melse\u001b[0m\u001b[0;34m:\u001b[0m\u001b[0;34m\u001b[0m\u001b[0;34m\u001b[0m\u001b[0m\n\u001b[1;32m    539\u001b[0m             \u001b[0mself\u001b[0m\u001b[0;34m.\u001b[0m\u001b[0minteraction\u001b[0m\u001b[0;34m.\u001b[0m\u001b[0malpha_physical\u001b[0m \u001b[0;34m=\u001b[0m \u001b[0mself\u001b[0m\u001b[0;34m.\u001b[0m\u001b[0malpha_copy\u001b[0m\u001b[0;34m\u001b[0m\u001b[0;34m\u001b[0m\u001b[0m\n",
      "\u001b[0;32m~/code/JUNE/june/policy.py\u001b[0m in \u001b[0;36msocial_distancing_policy\u001b[0;34m(self, alpha, betas, time)\u001b[0m\n\u001b[1;32m     95\u001b[0m                     \u001b[0mbetas_new\u001b[0m\u001b[0;34m[\u001b[0m\u001b[0mgroup\u001b[0m\u001b[0;34m]\u001b[0m \u001b[0;34m=\u001b[0m \u001b[0mbetas_new\u001b[0m\u001b[0;34m[\u001b[0m\u001b[0mgroup\u001b[0m\u001b[0;34m]\u001b[0m \u001b[0;34m*\u001b[0m \u001b[0;36m0.5\u001b[0m\u001b[0;34m\u001b[0m\u001b[0;34m\u001b[0m\u001b[0m\n\u001b[1;32m     96\u001b[0m             \u001b[0;32melse\u001b[0m\u001b[0;34m:\u001b[0m\u001b[0;34m\u001b[0m\u001b[0;34m\u001b[0m\u001b[0m\n\u001b[0;32m---> 97\u001b[0;31m                 \u001b[0mbetas_new\u001b[0m\u001b[0;34m[\u001b[0m\u001b[0mgroup\u001b[0m\u001b[0;34m]\u001b[0m \u001b[0;34m=\u001b[0m \u001b[0mbetas_new\u001b[0m\u001b[0;34m[\u001b[0m\u001b[0mgroup\u001b[0m\u001b[0;34m]\u001b[0m \u001b[0;34m*\u001b[0m \u001b[0mself\u001b[0m\u001b[0;34m.\u001b[0m\u001b[0mconfig\u001b[0m\u001b[0;34m[\u001b[0m\u001b[0;34m'social distancing'\u001b[0m\u001b[0;34m]\u001b[0m\u001b[0;34m[\u001b[0m\u001b[0;34m'beta factor'\u001b[0m\u001b[0;34m]\u001b[0m\u001b[0;34m[\u001b[0m\u001b[0mgroup\u001b[0m\u001b[0;34m]\u001b[0m\u001b[0;34m\u001b[0m\u001b[0;34m\u001b[0m\u001b[0m\n\u001b[0m\u001b[1;32m     98\u001b[0m \u001b[0;34m\u001b[0m\u001b[0m\n\u001b[1;32m     99\u001b[0m         \u001b[0;32mreturn\u001b[0m \u001b[0malpha_new\u001b[0m\u001b[0;34m,\u001b[0m \u001b[0mbetas_new\u001b[0m\u001b[0;34m\u001b[0m\u001b[0;34m\u001b[0m\u001b[0m\n",
      "\u001b[0;31mKeyError\u001b[0m: 'university'"
     ]
    }
   ],
   "source": [
    "%%time\n",
    "simulator.run()"
   ]
  },
  {
   "cell_type": "markdown",
   "metadata": {},
   "source": [
    "While the simulation runs (and afterwards) we can launch the visualization webpage by running\n",
    "```python june/visualizer.py path/to/results``` "
   ]
  },
  {
   "cell_type": "markdown",
   "metadata": {},
   "source": [
    "# Getting the results"
   ]
  },
  {
   "cell_type": "markdown",
   "metadata": {},
   "source": [
    "All results are stored in a json file specified in the ``save_path`` variable in the config file. We can also access it from ``world.logger`` directly."
   ]
  },
  {
   "cell_type": "code",
   "execution_count": 28,
   "metadata": {},
   "outputs": [],
   "source": [
    "import pandas as pd"
   ]
  },
  {
   "cell_type": "code",
   "execution_count": 29,
   "metadata": {},
   "outputs": [],
   "source": [
    "read = ReadLogger()"
   ]
  },
  {
   "cell_type": "markdown",
   "metadata": {},
   "source": [
    "## Hospital data and how it changed over time"
   ]
  },
  {
   "cell_type": "code",
   "execution_count": 30,
   "metadata": {},
   "outputs": [],
   "source": [
    "hospitals_df = read.load_hospital_capacity()"
   ]
  },
  {
   "cell_type": "code",
   "execution_count": 31,
   "metadata": {},
   "outputs": [
    {
     "data": {
      "text/html": [
       "<div>\n",
       "<style scoped>\n",
       "    .dataframe tbody tr th:only-of-type {\n",
       "        vertical-align: middle;\n",
       "    }\n",
       "\n",
       "    .dataframe tbody tr th {\n",
       "        vertical-align: top;\n",
       "    }\n",
       "\n",
       "    .dataframe thead th {\n",
       "        text-align: right;\n",
       "    }\n",
       "</style>\n",
       "<table border=\"1\" class=\"dataframe\">\n",
       "  <thead>\n",
       "    <tr style=\"text-align: right;\">\n",
       "      <th></th>\n",
       "      <th>time_stamp</th>\n",
       "      <th>id</th>\n",
       "      <th>n_patients</th>\n",
       "      <th>n_patients_icu</th>\n",
       "    </tr>\n",
       "  </thead>\n",
       "  <tbody>\n",
       "    <tr>\n",
       "      <th>0</th>\n",
       "      <td>2020-03-07T03:00:00.000000</td>\n",
       "      <td>0</td>\n",
       "      <td>0</td>\n",
       "      <td>0</td>\n",
       "    </tr>\n",
       "    <tr>\n",
       "      <th>0</th>\n",
       "      <td>2020-03-07T03:00:00.000000</td>\n",
       "      <td>1</td>\n",
       "      <td>0</td>\n",
       "      <td>0</td>\n",
       "    </tr>\n",
       "    <tr>\n",
       "      <th>1</th>\n",
       "      <td>2020-03-07T06:00:00.000000</td>\n",
       "      <td>0</td>\n",
       "      <td>0</td>\n",
       "      <td>0</td>\n",
       "    </tr>\n",
       "  </tbody>\n",
       "</table>\n",
       "</div>"
      ],
      "text/plain": [
       "                   time_stamp id n_patients n_patients_icu\n",
       "0  2020-03-07T03:00:00.000000  0          0              0\n",
       "0  2020-03-07T03:00:00.000000  1          0              0\n",
       "1  2020-03-07T06:00:00.000000  0          0              0"
      ]
     },
     "execution_count": 31,
     "metadata": {},
     "output_type": "execute_result"
    }
   ],
   "source": [
    "hospitals_df.head(3)"
   ]
  },
  {
   "cell_type": "code",
   "execution_count": 32,
   "metadata": {},
   "outputs": [],
   "source": [
    "hospitals_characteristics_df = read.load_hospital_characteristics()"
   ]
  },
  {
   "cell_type": "code",
   "execution_count": 33,
   "metadata": {},
   "outputs": [
    {
     "data": {
      "text/html": [
       "<div>\n",
       "<style scoped>\n",
       "    .dataframe tbody tr th:only-of-type {\n",
       "        vertical-align: middle;\n",
       "    }\n",
       "\n",
       "    .dataframe tbody tr th {\n",
       "        vertical-align: top;\n",
       "    }\n",
       "\n",
       "    .dataframe thead th {\n",
       "        text-align: right;\n",
       "    }\n",
       "</style>\n",
       "<table border=\"1\" class=\"dataframe\">\n",
       "  <thead>\n",
       "    <tr style=\"text-align: right;\">\n",
       "      <th></th>\n",
       "      <th>longitude</th>\n",
       "      <th>latitude</th>\n",
       "      <th>n_beds</th>\n",
       "      <th>n_icu_beds</th>\n",
       "    </tr>\n",
       "  </thead>\n",
       "  <tbody>\n",
       "    <tr>\n",
       "      <th>0</th>\n",
       "      <td>-1.59082</td>\n",
       "      <td>54.53125</td>\n",
       "      <td>128</td>\n",
       "      <td>4</td>\n",
       "    </tr>\n",
       "    <tr>\n",
       "      <th>1</th>\n",
       "      <td>-1.59082</td>\n",
       "      <td>54.53125</td>\n",
       "      <td>128</td>\n",
       "      <td>4</td>\n",
       "    </tr>\n",
       "  </tbody>\n",
       "</table>\n",
       "</div>"
      ],
      "text/plain": [
       "   longitude  latitude  n_beds  n_icu_beds\n",
       "0   -1.59082  54.53125     128           4\n",
       "1   -1.59082  54.53125     128           4"
      ]
     },
     "execution_count": 33,
     "metadata": {},
     "output_type": "execute_result"
    }
   ],
   "source": [
    "hospitals_characteristics_df"
   ]
  },
  {
   "cell_type": "markdown",
   "metadata": {},
   "source": [
    "## where did infections happen?"
   ]
  },
  {
   "cell_type": "code",
   "execution_count": 34,
   "metadata": {},
   "outputs": [],
   "source": [
    "loc_df = read.get_locations_infections()"
   ]
  },
  {
   "cell_type": "code",
   "execution_count": 35,
   "metadata": {},
   "outputs": [
    {
     "data": {
      "text/plain": [
       "Text(0.5, 0, 'location')"
      ]
     },
     "execution_count": 35,
     "metadata": {},
     "output_type": "execute_result"
    },
    {
     "data": {
      "image/png": "[encoded data removed]",
      "text/plain": [
       "<Figure size 432x288 with 1 Axes>"
      ]
     },
     "metadata": {
      "needs_background": "light"
     },
     "output_type": "display_data"
    }
   ],
   "source": [
    "import matplotlib.ticker as mtick\n",
    "\n",
    "ax = loc_df['percentage_infections'].sort_values().plot.bar()\n",
    "ax.yaxis.set_major_formatter(mtick.PercentFormatter())\n",
    "plt.ylabel('Percentage of infections at location')\n",
    "plt.xlabel('location')"
   ]
  },
  {
   "cell_type": "markdown",
   "metadata": {},
   "source": [
    "## rate of infection"
   ]
  },
  {
   "cell_type": "code",
   "execution_count": 36,
   "metadata": {},
   "outputs": [],
   "source": [
    "r_df = read.get_r()"
   ]
  },
  {
   "cell_type": "code",
   "execution_count": 37,
   "metadata": {},
   "outputs": [
    {
     "data": {
      "text/plain": [
       "Text(0, 0.5, 'R')"
      ]
     },
     "execution_count": 37,
     "metadata": {},
     "output_type": "execute_result"
    },
    {
     "data": {
      "image/png": "[encoded data removed]",
      "text/plain": [
       "<Figure size 432x288 with 1 Axes>"
      ]
     },
     "metadata": {
      "needs_background": "light"
     },
     "output_type": "display_data"
    }
   ],
   "source": [
    "r_df.plot()\n",
    "plt.axvspan(policies.social_distancing_start, \n",
    "            policies.social_distancing_end,\n",
    "            facecolor='y', alpha=0.2)\n",
    "plt.axhline(y=1, linestyle='dashed', color='gray')\n",
    "plt.xlabel('Date')\n",
    "plt.ylabel('R')"
   ]
  },
  {
   "cell_type": "markdown",
   "metadata": {},
   "source": [
    "## World infection curves, and by super area"
   ]
  },
  {
   "cell_type": "code",
   "execution_count": 38,
   "metadata": {},
   "outputs": [],
   "source": [
    "world_df = read.world_summary()"
   ]
  },
  {
   "cell_type": "code",
   "execution_count": 39,
   "metadata": {},
   "outputs": [
    {
     "data": {
      "text/plain": [
       "<matplotlib.legend.Legend at 0x7f45447d65e0>"
      ]
     },
     "execution_count": 39,
     "metadata": {},
     "output_type": "execute_result"
    },
    {
     "data": {
      "image/png": "[encoded data removed]",
      "text/plain": [
       "<Figure size 432x288 with 1 Axes>"
      ]
     },
     "metadata": {
      "needs_background": "light"
     },
     "output_type": "display_data"
    }
   ],
   "source": [
    "world_df.plot()\n",
    "plt.axvspan(policies.social_distancing_start, \n",
    "            policies.social_distancing_end,\n",
    "            facecolor='y', alpha=0.2)\n",
    "plt.legend()"
   ]
  },
  {
   "cell_type": "code",
   "execution_count": 40,
   "metadata": {},
   "outputs": [],
   "source": [
    "area_df = read.super_area_summary()"
   ]
  },
  {
   "cell_type": "code",
   "execution_count": 41,
   "metadata": {},
   "outputs": [
    {
     "data": {
      "text/plain": [
       "<matplotlib.legend.Legend at 0x7f4544acb7f0>"
      ]
     },
     "execution_count": 41,
     "metadata": {},
     "output_type": "execute_result"
    },
    {
     "data": {
      "image/png": "[encoded data removed]",
      "text/plain": [
       "<Figure size 432x288 with 1 Axes>"
      ]
     },
     "metadata": {
      "needs_background": "light"
     },
     "output_type": "display_data"
    }
   ],
   "source": [
    "area_df[area_df.super_area == \"E02002512\"].plot()\n",
    "plt.legend()"
   ]
  },
  {
   "cell_type": "code",
   "execution_count": 42,
   "metadata": {},
   "outputs": [
    {
     "data": {
      "text/plain": [
       "<matplotlib.legend.Legend at 0x7f45649fe7c0>"
      ]
     },
     "execution_count": 42,
     "metadata": {},
     "output_type": "execute_result"
    },
    {
     "data": {
      "image/png": "[encoded data removed]",
      "text/plain": [
       "<Figure size 432x288 with 1 Axes>"
      ]
     },
     "metadata": {
      "needs_background": "light"
     },
     "output_type": "display_data"
    }
   ],
   "source": [
    "area_df[area_df.super_area == \"E02001697\"].plot()\n",
    "plt.legend()"
   ]
  },
  {
   "cell_type": "markdown",
   "metadata": {},
   "source": [
    "## World infection curves per age group"
   ]
  },
  {
   "cell_type": "code",
   "execution_count": 43,
   "metadata": {},
   "outputs": [],
   "source": [
    "ages_df = read.age_summary([0,10,20,30,40,\n",
    "                  50,60,70,80,90,100])"
   ]
  },
  {
   "cell_type": "code",
   "execution_count": 44,
   "metadata": {},
   "outputs": [
    {
     "data": {
      "text/plain": [
       "<matplotlib.legend.Legend at 0x7f4564a07340>"
      ]
     },
     "execution_count": 44,
     "metadata": {},
     "output_type": "execute_result"
    },
    {
     "data": {
      "image/png": "[encoded data removed]",
      "text/plain": [
       "<Figure size 432x288 with 1 Axes>"
      ]
     },
     "metadata": {
      "needs_background": "light"
     },
     "output_type": "display_data"
    }
   ],
   "source": [
    "for name, group in ages_df.groupby('age_range'):\n",
    "    group['infected'].plot(label=name)\n",
    "plt.axvspan(policies.social_distancing_start, \n",
    "            policies.social_distancing_end,\n",
    "            facecolor='y', alpha=0.2)\n",
    "plt.legend()"
   ]
  },
  {
   "cell_type": "code",
   "execution_count": 45,
   "metadata": {},
   "outputs": [
    {
     "data": {
      "text/plain": [
       "<matplotlib.legend.Legend at 0x7f4544010640>"
      ]
     },
     "execution_count": 45,
     "metadata": {},
     "output_type": "execute_result"
    },
    {
     "data": {
      "image/png": "[encoded data removed]",
      "text/plain": [
       "<Figure size 432x288 with 1 Axes>"
      ]
     },
     "metadata": {
      "needs_background": "light"
     },
     "output_type": "display_data"
    }
   ],
   "source": [
    "for name, group in ages_df.groupby('age_range'):\n",
    "    group['dead'].cumsum().plot(label=name)\n",
    "plt.legend()"
   ]
  },
  {
   "cell_type": "code",
   "execution_count": 46,
   "metadata": {},
   "outputs": [
    {
     "data": {
      "text/plain": [
       "<matplotlib.legend.Legend at 0x7f4544be70a0>"
      ]
     },
     "execution_count": 46,
     "metadata": {},
     "output_type": "execute_result"
    },
    {
     "data": {
      "image/png": "[encoded data removed]",
      "text/plain": [
       "<Figure size 432x288 with 1 Axes>"
      ]
     },
     "metadata": {
      "needs_background": "light"
     },
     "output_type": "display_data"
    }
   ],
   "source": [
    "for name, group in ages_df.groupby('age_range'):\n",
    "    group['susceptible'].plot(label=name)\n",
    "plt.legend()"
   ]
  },
  {
   "cell_type": "markdown",
   "metadata": {},
   "source": [
    "## Draw some of the symptoms trajectories"
   ]
  },
  {
   "cell_type": "code",
   "execution_count": 47,
   "metadata": {},
   "outputs": [],
   "source": [
    "random_trajectories = read.draw_symptom_trajectories(window_length=200,\n",
    "                                        n_people=5)"
   ]
  },
  {
   "cell_type": "code",
   "execution_count": 48,
   "metadata": {},
   "outputs": [],
   "source": [
    "from june.infection import SymptomTag"
   ]
  },
  {
   "cell_type": "code",
   "execution_count": 49,
   "metadata": {},
   "outputs": [],
   "source": [
    "symptoms_values = [tag.value for tag in SymptomTag]\n",
    "symptoms_names = [tag.name for tag in SymptomTag]\n"
   ]
  },
  {
   "cell_type": "code",
   "execution_count": 50,
   "metadata": {},
   "outputs": [
    {
     "data": {
      "text/plain": [
       "Text(0.5, 0, 'Date')"
      ]
     },
     "execution_count": 50,
     "metadata": {},
     "output_type": "execute_result"
    },
    {
     "data": {
      "image/png": "[encoded data removed]",
      "text/plain": [
       "<Figure size 432x288 with 1 Axes>"
      ]
     },
     "metadata": {
      "needs_background": "light"
     },
     "output_type": "display_data"
    }
   ],
   "source": [
    "for df_person in random_trajectories:\n",
    "    df_person['symptoms'].plot()\n",
    "plt.ylabel('Symptoms Trajectory')\n",
    "_ = plt.yticks(symptoms_values, symptoms_names)\n",
    "plt.xlabel('Date')"
   ]
  },
  {
   "cell_type": "code",
   "execution_count": 51,
   "metadata": {},
   "outputs": [
    {
     "data": {
      "text/plain": [
       "Text(0.5, 0, 'Date')"
      ]
     },
     "execution_count": 51,
     "metadata": {},
     "output_type": "execute_result"
    },
    {
     "data": {
      "image/png": "[encoded data removed]",
      "text/plain": [
       "<Figure size 432x288 with 1 Axes>"
      ]
     },
     "metadata": {
      "needs_background": "light"
     },
     "output_type": "display_data"
    }
   ],
   "source": [
    "for df_person in random_trajectories:\n",
    "    df_person['n_secondary_infections'].plot()\n",
    "plt.ylabel('Number of secondary infections')\n",
    "\n",
    "plt.xlabel('Date')"
   ]
  },
  {
   "cell_type": "code",
   "execution_count": null,
   "metadata": {},
   "outputs": [],
   "source": []
  },
  {
   "cell_type": "code",
   "execution_count": null,
   "metadata": {},
   "outputs": [],
   "source": []
  },
  {
   "cell_type": "code",
   "execution_count": null,
   "metadata": {},
   "outputs": [],
   "source": []
  }
 ],
 "metadata": {
  "kernelspec": {
   "display_name": "Python 3",
   "language": "python",
   "name": "python3"
  },
  "language_info": {
   "codemirror_mode": {
    "name": "ipython",
    "version": 3
   },
   "file_extension": ".py",
   "mimetype": "text/x-python",
   "name": "python",
   "nbconvert_exporter": "python",
   "pygments_lexer": "ipython3",
   "version": "3.8.3"
  }
 },
 "nbformat": 4,
 "nbformat_minor": 4
}
