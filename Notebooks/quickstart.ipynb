{
 "cells": [
  {
   "cell_type": "code",
   "execution_count": 1,
   "metadata": {},
   "outputs": [],
   "source": [
    "%load_ext autoreload\n",
    "%autoreload 2"
   ]
  },
  {
   "cell_type": "code",
   "execution_count": 2,
   "metadata": {},
   "outputs": [],
   "source": [
    "import numpy as np\n",
    "import time\n",
    "from datetime import datetime\n",
    "import matplotlib.pyplot as plt\n",
    "import seaborn as sns\n",
    "sns.set_context('notebook')"
   ]
  },
  {
   "cell_type": "code",
   "execution_count": 3,
   "metadata": {},
   "outputs": [
    {
     "name": "stderr",
     "output_type": "stream",
     "text": [
      "No --data argument given - defaulting to:\n",
      "/home/florpi/JUNE/data\n",
      "No --configs argument given - defaulting to:\n",
      "/home/florpi/JUNE/configs\n"
     ]
    }
   ],
   "source": [
    "from june import World \n",
    "from june.demography.geography import Geography\n",
    "from june.demography import Demography\n",
    "from june.interaction import Interaction\n",
    "from june.infection import Infection, HealthIndexGenerator, InfectionSelector\n",
    "from june.infection.transmission import TransmissionConstant\n",
    "from june.groups import Hospitals, Schools, Companies, Households, CareHomes, Cemeteries, Universities\n",
    "from june.groups.leisure import generate_leisure_for_config, Cinemas, Pubs, Groceries\n",
    "from june.simulator import Simulator\n",
    "from june.infection_seed import InfectionSeed\n",
    "from june.policy import Policy, Policies\n",
    "from june import paths\n",
    "from june.hdf5_savers import load_geography_from_hdf5\n",
    "from june.logger.read_logger import ReadLogger\n",
    "from june.world import generate_world_from_geography\n",
    "from june.hdf5_savers import generate_world_from_hdf5"
   ]
  },
  {
   "cell_type": "markdown",
   "metadata": {},
   "source": [
    "# Initialize world\n",
    "\n",
    "To initialize a certain world, we need to add the different components we want to have in it. First we specify what super areas (msoa) we want to create. We have included these ones, because they are known to contain hospitals, schools, care homes, and companies.\n",
    "\n",
    "After creating the geography, we create the different components the worlds need to have such as care homes, companies ..."
   ]
  },
  {
   "cell_type": "code",
   "execution_count": 4,
   "metadata": {},
   "outputs": [],
   "source": [
    "CONFIG_PATH = paths.configs_path / \"config_example.yaml\""
   ]
  },
  {
   "cell_type": "code",
   "execution_count": 5,
   "metadata": {},
   "outputs": [
    {
     "name": "stdout",
     "output_type": "stream",
     "text": [
      "2020-08-29 09:51:12,812 - june.demography.geography - INFO - There are 129 areas and 5 super_areas in the world.\n",
      "2020-08-29 09:51:12,831 - june.groups.hospital - INFO - There are 1 hospitals in this geography.\n",
      "2020-08-29 09:51:12,921 - june.groups.school - INFO - There are 19 schools in this geography.\n",
      "2020-08-29 09:51:12,955 - june.groups.school - INFO - No school for the age 0 in this world.\n",
      "2020-08-29 09:51:12,960 - june.groups.school - INFO - No school for the age 1 in this world.\n",
      "2020-08-29 09:51:12,964 - june.groups.school - INFO - No school for the age 2 in this world.\n",
      "2020-08-29 09:51:13,292 - june.groups.carehome - INFO - There are 9 care_homes in this geography.\n",
      "2020-08-29 09:51:25,075 - numexpr.utils - INFO - NumExpr defaulting to 4 threads.\n",
      "2020-08-29 09:51:29,991 - june.distributors.worker_distributor - INFO - There are 0 who had to be told to stay real\n",
      "2020-08-29 09:51:53,839 - june.groups.commute.commutehub_distributor - INFO - Distributing people to commute hubs in 11 commute cities.\n",
      "2020-08-29 09:51:53,841 - june.groups.commute.commutehub_distributor - INFO - Birmingham : 0 people commute in, 0 commute out.\n",
      "2020-08-29 09:51:53,842 - june.groups.commute.commutehub_distributor - INFO - Bristol : 0 people commute in, 0 commute out.\n",
      "2020-08-29 09:51:53,843 - june.groups.commute.commutehub_distributor - INFO - Cardiff : 0 people commute in, 0 commute out.\n",
      "2020-08-29 09:51:53,844 - june.groups.commute.commutehub_distributor - INFO - Leeds : 0 people commute in, 0 commute out.\n",
      "2020-08-29 09:51:53,850 - june.groups.commute.commutehub_distributor - INFO - Leicester : 0 people commute in, 0 commute out.\n",
      "2020-08-29 09:51:53,852 - june.groups.commute.commutehub_distributor - INFO - Liverpool : 0 people commute in, 0 commute out.\n",
      "2020-08-29 09:51:53,853 - june.groups.commute.commutehub_distributor - INFO - Manchester : 0 people commute in, 0 commute out.\n",
      "2020-08-29 09:51:53,863 - june.groups.commute.commutehub_distributor - INFO - Newcastle : 227 people commute in, 173 commute out.\n",
      "2020-08-29 09:51:53,894 - june.groups.commute.commutehub_distributor - INFO - Nottingham : 0 people commute in, 0 commute out.\n",
      "2020-08-29 09:51:53,896 - june.groups.commute.commutehub_distributor - INFO - Sheffield : 0 people commute in, 0 commute out.\n",
      "2020-08-29 09:51:53,897 - june.groups.commute.commutehub_distributor - INFO - London : 0 people commute in, 0 commute out.\n",
      "CPU times: user 40.3 s, sys: 1.55 s, total: 41.9 s\n",
      "Wall time: 42.5 s\n"
     ]
    }
   ],
   "source": [
    "%%time \n",
    "\n",
    "geography = Geography.from_file(\n",
    "        {\n",
    "            \"super_area\": [\n",
    "                \"E02003282\",\n",
    "                \"E02001720\",\n",
    "                \"E02002560\",\n",
    "                \"E02002559\",\n",
    "                \"E02004314\",\n",
    "            ]\n",
    "        }\n",
    ")\n",
    "\n",
    "geography.hospitals = Hospitals.for_geography(geography)\n",
    "geography.schools = Schools.for_geography(geography)\n",
    "geography.companies = Companies.for_geography(geography)\n",
    "geography.care_homes = CareHomes.for_geography(geography)\n",
    "geography.universities = Universities.for_super_areas(geography.super_areas)\n",
    "world = generate_world_from_geography(geography, include_households=True, include_commute=True)"
   ]
  },
  {
   "cell_type": "markdown",
   "metadata": {},
   "source": [
    "## Commute, travel and leisure"
   ]
  },
  {
   "cell_type": "code",
   "execution_count": 6,
   "metadata": {},
   "outputs": [
    {
     "name": "stdout",
     "output_type": "stream",
     "text": [
      "2020-08-29 09:51:55,192 - june.groups.leisure.leisure - INFO - Distributing social venues to households\n",
      "2020-08-29 09:51:55,193 - june.groups.leisure.leisure - INFO - Distributed in 0 of 16223 households.\n"
     ]
    }
   ],
   "source": [
    "world.pubs = Pubs.for_geography(geography)\n",
    "world.cinemas = Cinemas.for_geography(geography)\n",
    "world.groceries = Groceries.for_geography(geography)\n",
    "leisure = generate_leisure_for_config(world, config_filename=CONFIG_PATH)\n",
    "leisure.distribute_social_venues_to_households(world.households, super_areas=world.super_areas) # this assigns possible social venues to people."
   ]
  },
  {
   "cell_type": "markdown",
   "metadata": {},
   "source": [
    "We are also going to need some cemeteries...geography.cemeteries = Cemeteries()\n"
   ]
  },
  {
   "cell_type": "code",
   "execution_count": 7,
   "metadata": {},
   "outputs": [],
   "source": [
    "world.cemeteries = Cemeteries()"
   ]
  },
  {
   "cell_type": "code",
   "execution_count": 8,
   "metadata": {},
   "outputs": [
    {
     "data": {
      "text/plain": [
       "46784"
      ]
     },
     "execution_count": 8,
     "metadata": {},
     "output_type": "execute_result"
    }
   ],
   "source": [
    "len(world.people)"
   ]
  },
  {
   "cell_type": "markdown",
   "metadata": {},
   "source": [
    "### If it took a long time to run the previous commands, it might be a good idea to save the world to reuse it later."
   ]
  },
  {
   "cell_type": "code",
   "execution_count": 9,
   "metadata": {},
   "outputs": [
    {
     "name": "stdout",
     "output_type": "stream",
     "text": [
      "2020-08-29 09:52:03,626 - june.hdf5_savers.world_saver - INFO - saving world to HDF5\n",
      "2020-08-29 09:52:04,521 - june.hdf5_savers.world_saver - INFO - saving hospitals...\n",
      "2020-08-29 09:52:04,524 - june.hdf5_savers.world_saver - INFO - saving schools...\n",
      "2020-08-29 09:52:04,530 - june.hdf5_savers.world_saver - INFO - saving companies...\n",
      "2020-08-29 09:52:04,537 - june.hdf5_savers.world_saver - INFO - saving households...\n",
      "2020-08-29 09:52:05,158 - june.hdf5_savers.world_saver - INFO - saving care homes...\n",
      "2020-08-29 09:52:05,161 - june.hdf5_savers.world_saver - INFO - saving commute cities...\n",
      "2020-08-29 09:52:05,165 - june.hdf5_savers.world_saver - INFO - saving commute hubs...\n",
      "2020-08-29 09:52:05,170 - june.hdf5_savers.world_saver - INFO - saving universities...\n",
      "2020-08-29 09:52:05,174 - june.hdf5_savers.world_saver - INFO - saving social venues...\n"
     ]
    }
   ],
   "source": [
    "world.to_hdf5(\"world.hdf5\")"
   ]
  },
  {
   "cell_type": "markdown",
   "metadata": {},
   "source": [
    "If we would like to load the world we saved, we just do"
   ]
  },
  {
   "cell_type": "code",
   "execution_count": 10,
   "metadata": {},
   "outputs": [
    {
     "name": "stdout",
     "output_type": "stream",
     "text": [
      "2020-08-29 09:52:05,218 - june.hdf5_savers.world_saver - INFO - loading world from HDF5\n",
      "2020-08-29 09:52:05,233 - june.hdf5_savers.world_saver - INFO - loading hospitals...\n",
      "2020-08-29 09:52:05,238 - june.hdf5_savers.world_saver - INFO - loading schools...\n",
      "2020-08-29 09:52:05,251 - june.hdf5_savers.world_saver - INFO - loading companies...\n",
      "2020-08-29 09:52:05,294 - june.hdf5_savers.world_saver - INFO - loading care homes...\n",
      "2020-08-29 09:52:05,304 - june.hdf5_savers.world_saver - INFO - loading universities...\n",
      "2020-08-29 09:52:05,309 - june.hdf5_savers.world_saver - INFO - loading commute cities...\n",
      "2020-08-29 09:52:05,348 - june.hdf5_savers.world_saver - INFO - loading commute hubs...\n",
      "2020-08-29 09:52:05,522 - june.hdf5_savers.world_saver - INFO - loading households...\n",
      "2020-08-29 09:52:06,077 - june.hdf5_savers.world_saver - INFO - loading population...\n",
      "2020-08-29 09:52:06,386 - june.hdf5_savers.world_saver - INFO - loading social venues...\n",
      "2020-08-29 09:52:06,392 - june.hdf5_savers.world_saver - INFO - restoring world...\n",
      "2020-08-29 09:52:06,395 - june.hdf5_savers.world_saver - INFO - restoring population...\n",
      "2020-08-29 09:52:11,082 - june.hdf5_savers.world_saver - INFO - restoring households...\n",
      "2020-08-29 09:52:12,160 - june.hdf5_savers.world_saver - INFO - restoring care homes...\n",
      "2020-08-29 09:52:12,163 - june.hdf5_savers.world_saver - INFO - restoring hospitals...\n",
      "2020-08-29 09:52:12,165 - june.hdf5_savers.world_saver - INFO - restoring commute...\n",
      "2020-08-29 09:52:12,168 - june.hdf5_savers.world_saver - INFO - restoring companies...\n",
      "2020-08-29 09:52:12,173 - june.hdf5_savers.world_saver - INFO - restoring schools...\n",
      "2020-08-29 09:52:12,176 - june.hdf5_savers.world_saver - INFO - restoring unis...\n",
      "2020-08-29 09:52:12,179 - june.hdf5_savers.world_saver - INFO - restoring social venues...\n"
     ]
    }
   ],
   "source": [
    "world = generate_world_from_hdf5(\"world.hdf5\")"
   ]
  },
  {
   "cell_type": "code",
   "execution_count": 11,
   "metadata": {},
   "outputs": [],
   "source": [
    "# and regenerate leisure in case we load it externally\n",
    "leisure = generate_leisure_for_config(world, CONFIG_PATH)"
   ]
  },
  {
   "cell_type": "markdown",
   "metadata": {},
   "source": [
    "you have now a beautiful pre-pandemic world. "
   ]
  },
  {
   "cell_type": "markdown",
   "metadata": {},
   "source": [
    "# Adding the infection"
   ]
  },
  {
   "cell_type": "markdown",
   "metadata": {},
   "source": [
    "The module in charge of infecting people is called the ``InfectionSelector``, which gives people a transmission time profile and a symptoms trajectory based on their age and sex (through the health index generator)"
   ]
  },
  {
   "cell_type": "code",
   "execution_count": 12,
   "metadata": {},
   "outputs": [],
   "source": [
    "health_index_generator = HealthIndexGenerator.from_file(asymptomatic_ratio=0.3)\n",
    "selector = InfectionSelector.from_file(\n",
    "        health_index_generator=health_index_generator,\n",
    "        transmission_config_path=paths.configs_path / 'defaults/transmission/XNExp.yaml'\n",
    ")"
   ]
  },
  {
   "cell_type": "markdown",
   "metadata": {},
   "source": [
    "# Adding the interaction"
   ]
  },
  {
   "cell_type": "code",
   "execution_count": 13,
   "metadata": {},
   "outputs": [],
   "source": [
    "interaction = Interaction.from_file()"
   ]
  },
  {
   "cell_type": "markdown",
   "metadata": {},
   "source": [
    "Beta are the intensities of the interaction taking place at the different groups"
   ]
  },
  {
   "cell_type": "code",
   "execution_count": 14,
   "metadata": {},
   "outputs": [],
   "source": [
    "interaction.beta['pub'] = 0.1\n",
    "interaction.beta['grocery'] = 0.01\n",
    "interaction.beta['cinema'] = 0.01\n",
    "interaction.beta['commute_unit'] = 0.01\n",
    "interaction.beta['commute_city_unit'] = 0.1\n",
    "interaction.beta['hospital'] = 0.1\n",
    "interaction.beta['care_home'] = 0.5\n",
    "interaction.beta['company'] = 0.3\n",
    "interaction.beta['school'] = 0.3\n",
    "interaction.beta['household'] = 0.4\n",
    "interaction.beta['university'] = 0.1\n",
    "\n"
   ]
  },
  {
   "cell_type": "code",
   "execution_count": 15,
   "metadata": {},
   "outputs": [
    {
     "data": {
      "text/plain": [
       "{'box': 1,\n",
       " 'pub': 0.1,\n",
       " 'grocery': 0.01,\n",
       " 'cinema': 0.01,\n",
       " 'commute_unit': 0.01,\n",
       " 'commute_city_unit': 0.1,\n",
       " 'hospital': 0.1,\n",
       " 'care_home': 0.5,\n",
       " 'company': 0.3,\n",
       " 'school': 0.3,\n",
       " 'household': 0.4,\n",
       " 'university': 0.1}"
      ]
     },
     "execution_count": 15,
     "metadata": {},
     "output_type": "execute_result"
    }
   ],
   "source": [
    "interaction.beta"
   ]
  },
  {
   "cell_type": "markdown",
   "metadata": {},
   "source": [
    "moreover this interaction module uses contact matrices, that are different for different groups. These contact matrices shouldnt be modified for now. However they are a combination of conversational contact matrices, and physical contact matrices (see the BBC pandemic paper, from where these matrices are extracted https://www.medrxiv.org/content/10.1101/2020.02.16.20023754v2)\n",
    "\n",
    "There is a parameter, ``alpha`` ($\\alpha$), that combines these two matrices in the following way,\n",
    "\n",
    "\n",
    "$\\beta M \\left(1 + (\\alpha -1) \\right) P$\n",
    "\n",
    "where $\\beta$ is the intensity of the interaction, and $P$ the physical contact matrix. A larger $\\alpha$ produces more physical contacts. It is an overall number, non dependent of the particular group.\n"
   ]
  },
  {
   "cell_type": "code",
   "execution_count": 16,
   "metadata": {},
   "outputs": [
    {
     "data": {
      "text/plain": [
       "2.0"
      ]
     },
     "execution_count": 16,
     "metadata": {},
     "output_type": "execute_result"
    }
   ],
   "source": [
    "interaction.alpha_physical"
   ]
  },
  {
   "cell_type": "markdown",
   "metadata": {},
   "source": [
    "# Seed the disease"
   ]
  },
  {
   "cell_type": "markdown",
   "metadata": {},
   "source": [
    "There are two options implemented in the seed at the moment, either you specify the number of cases and these are then homogeneously distributed by population to the different areas, or you use UK data on cases per region. For now use the first case."
   ]
  },
  {
   "cell_type": "code",
   "execution_count": 17,
   "metadata": {},
   "outputs": [],
   "source": [
    "infection_seed = InfectionSeed(\n",
    "    world.super_areas, selector,\n",
    ")"
   ]
  },
  {
   "cell_type": "code",
   "execution_count": 18,
   "metadata": {},
   "outputs": [],
   "source": [
    "n_cases = 50\n",
    "infection_seed.unleash_virus(n_cases) # play around with the initial number of cases"
   ]
  },
  {
   "cell_type": "markdown",
   "metadata": {},
   "source": [
    "# Set policies"
   ]
  },
  {
   "cell_type": "code",
   "execution_count": 19,
   "metadata": {},
   "outputs": [],
   "source": [
    "policies = Policies.from_file()"
   ]
  },
  {
   "cell_type": "code",
   "execution_count": 20,
   "metadata": {},
   "outputs": [
    {
     "data": {
      "text/plain": [
       "<june.policy.policy.Policies at 0x7f45660d4e50>"
      ]
     },
     "execution_count": 20,
     "metadata": {},
     "output_type": "execute_result"
    }
   ],
   "source": [
    "policies"
   ]
  },
  {
   "cell_type": "markdown",
   "metadata": {},
   "source": [
    "# Run the simulation"
   ]
  },
  {
   "cell_type": "markdown",
   "metadata": {},
   "source": [
    "The simulator is the main module in charge of running the simulation. It coordinates the ``ActivityManager`` which is responsible of allocating people to the right groups given the current timestep, it updates the health status of the population, and it runs the interaction over the different groups. All of these modules can be modified by policies at any given time."
   ]
  },
  {
   "cell_type": "markdown",
   "metadata": {},
   "source": [
    "Since the timer configuration is a bit cumbersome, it is read from the config file at ``configs/config_example.yaml``"
   ]
  },
  {
   "cell_type": "code",
   "execution_count": 21,
   "metadata": {},
   "outputs": [],
   "source": [
    "simulator = Simulator.from_file(\n",
    "    world=world,\n",
    "    infection_selector=selector,\n",
    "    interaction=interaction, \n",
    "    config_filename = CONFIG_PATH,\n",
    "    leisure = leisure,\n",
    "    policies = policies\n",
    ")"
   ]
  },
  {
   "cell_type": "code",
   "execution_count": null,
   "metadata": {
    "scrolled": true
   },
   "outputs": [
    {
     "name": "stdout",
     "output_type": "stream",
     "text": [
      "2020-08-29 09:52:13,616 - june.simulator - INFO - Starting group_dynamics for 250 days at day 0\n",
      "2020-08-29 09:52:13,617 - june.simulator - INFO - starting the loop ..., at 0 days, to run for 250 days\n",
      "2020-08-29 09:52:14,733 - june.simulator - INFO - Date = 2020-03-01 00:00:00, number of deaths =  0, number of infected = 50\n",
      "2020-08-29 09:52:15,277 - june.simulator - INFO - Date = 2020-03-01 04:00:00, number of deaths =  0, number of infected = 50\n",
      "2020-08-29 09:52:15,750 - june.simulator - INFO - Date = 2020-03-01 08:00:00, number of deaths =  0, number of infected = 50\n",
      "2020-08-29 09:52:15,966 - june.simulator - INFO - Date = 2020-03-01 12:00:00, number of deaths =  0, number of infected = 50\n",
      "2020-08-29 09:52:16,194 - june.simulator - INFO - Date = 2020-03-02 00:00:00, number of deaths =  0, number of infected = 52\n",
      "2020-08-29 09:52:16,492 - june.simulator - INFO - Date = 2020-03-02 01:00:00, number of deaths =  0, number of infected = 53\n",
      "2020-08-29 09:52:16,712 - june.simulator - INFO - Date = 2020-03-02 09:00:00, number of deaths =  0, number of infected = 53\n",
      "2020-08-29 09:52:17,269 - june.simulator - INFO - Date = 2020-03-02 10:00:00, number of deaths =  0, number of infected = 53\n",
      "2020-08-29 09:52:17,487 - june.simulator - INFO - Date = 2020-03-02 13:00:00, number of deaths =  0, number of infected = 53\n",
      "2020-08-29 09:52:17,718 - june.simulator - INFO - Date = 2020-03-03 00:00:00, number of deaths =  0, number of infected = 56\n",
      "2020-08-29 09:52:18,044 - june.simulator - INFO - Date = 2020-03-03 01:00:00, number of deaths =  0, number of infected = 57\n",
      "2020-08-29 09:52:19,228 - june.simulator - INFO - Date = 2020-03-03 09:00:00, number of deaths =  0, number of infected = 63\n",
      "2020-08-29 09:52:19,726 - june.simulator - INFO - Date = 2020-03-03 10:00:00, number of deaths =  0, number of infected = 63\n",
      "2020-08-29 09:52:19,932 - june.simulator - INFO - Date = 2020-03-03 13:00:00, number of deaths =  0, number of infected = 63\n",
      "2020-08-29 09:52:20,156 - june.simulator - INFO - Date = 2020-03-04 00:00:00, number of deaths =  0, number of infected = 72\n",
      "2020-08-29 09:52:20,450 - june.simulator - INFO - Date = 2020-03-04 01:00:00, number of deaths =  0, number of infected = 73\n",
      "2020-08-29 09:52:20,684 - june.simulator - INFO - Date = 2020-03-04 09:00:00, number of deaths =  0, number of infected = 90\n",
      "2020-08-29 09:52:21,150 - june.simulator - INFO - Date = 2020-03-04 10:00:00, number of deaths =  0, number of infected = 91\n",
      "2020-08-29 09:52:21,362 - june.simulator - INFO - Date = 2020-03-04 13:00:00, number of deaths =  0, number of infected = 93\n",
      "2020-08-29 09:52:21,599 - june.simulator - INFO - Date = 2020-03-05 00:00:00, number of deaths =  0, number of infected = 103\n",
      "2020-08-29 09:52:21,889 - june.simulator - INFO - Date = 2020-03-05 01:00:00, number of deaths =  0, number of infected = 104\n",
      "2020-08-29 09:52:22,387 - june.simulator - INFO - Date = 2020-03-05 09:00:00, number of deaths =  0, number of infected = 127\n",
      "2020-08-29 09:52:22,870 - june.simulator - INFO - Date = 2020-03-05 10:00:00, number of deaths =  0, number of infected = 128\n",
      "2020-08-29 09:52:23,089 - june.simulator - INFO - Date = 2020-03-05 13:00:00, number of deaths =  0, number of infected = 131\n",
      "2020-08-29 09:52:23,316 - june.simulator - INFO - Date = 2020-03-06 00:00:00, number of deaths =  0, number of infected = 141\n",
      "2020-08-29 09:52:23,602 - june.simulator - INFO - Date = 2020-03-06 01:00:00, number of deaths =  0, number of infected = 141\n",
      "2020-08-29 09:52:24,173 - june.simulator - INFO - Date = 2020-03-06 09:00:00, number of deaths =  0, number of infected = 179\n",
      "2020-08-29 09:52:24,676 - june.simulator - INFO - Date = 2020-03-06 10:00:00, number of deaths =  0, number of infected = 181\n",
      "2020-08-29 09:52:24,913 - june.simulator - INFO - Date = 2020-03-06 13:00:00, number of deaths =  0, number of infected = 187\n",
      "2020-08-29 09:52:25,522 - june.simulator - INFO - Date = 2020-03-07 00:00:00, number of deaths =  0, number of infected = 201\n",
      "2020-08-29 09:52:26,011 - june.simulator - INFO - Date = 2020-03-07 04:00:00, number of deaths =  0, number of infected = 207\n",
      "2020-08-29 09:52:26,534 - june.simulator - INFO - Date = 2020-03-07 08:00:00, number of deaths =  0, number of infected = 220\n",
      "2020-08-29 09:52:26,775 - june.simulator - INFO - Date = 2020-03-07 12:00:00, number of deaths =  0, number of infected = 224\n",
      "2020-08-29 09:52:27,333 - june.simulator - INFO - Date = 2020-03-08 00:00:00, number of deaths =  0, number of infected = 229\n",
      "2020-08-29 09:52:27,891 - june.simulator - INFO - Date = 2020-03-08 04:00:00, number of deaths =  0, number of infected = 238\n",
      "2020-08-29 09:52:28,441 - june.simulator - INFO - Date = 2020-03-08 08:00:00, number of deaths =  0, number of infected = 258\n",
      "2020-08-29 09:52:28,720 - june.simulator - INFO - Date = 2020-03-08 12:00:00, number of deaths =  0, number of infected = 263\n",
      "2020-08-29 09:52:28,962 - june.simulator - INFO - Date = 2020-03-09 00:00:00, number of deaths =  0, number of infected = 283\n",
      "2020-08-29 09:52:29,334 - june.simulator - INFO - Date = 2020-03-09 01:00:00, number of deaths =  0, number of infected = 285\n",
      "2020-08-29 09:52:30,021 - june.simulator - INFO - Date = 2020-03-09 09:00:00, number of deaths =  0, number of infected = 369\n",
      "2020-08-29 09:52:30,577 - june.simulator - INFO - Date = 2020-03-09 10:00:00, number of deaths =  0, number of infected = 372\n",
      "2020-08-29 09:52:30,879 - june.simulator - INFO - Date = 2020-03-09 13:00:00, number of deaths =  0, number of infected = 381\n",
      "2020-08-29 09:52:31,129 - june.simulator - INFO - Date = 2020-03-10 00:00:00, number of deaths =  0, number of infected = 410\n",
      "2020-08-29 09:52:31,425 - june.simulator - INFO - Date = 2020-03-10 01:00:00, number of deaths =  0, number of infected = 412\n",
      "2020-08-29 09:52:31,681 - june.simulator - INFO - Date = 2020-03-10 09:00:00, number of deaths =  0, number of infected = 512\n",
      "2020-08-29 09:52:32,203 - june.simulator - INFO - Date = 2020-03-10 10:00:00, number of deaths =  0, number of infected = 515\n",
      "2020-08-29 09:52:32,492 - june.simulator - INFO - Date = 2020-03-10 13:00:00, number of deaths =  0, number of infected = 524\n",
      "2020-08-29 09:52:32,741 - june.simulator - INFO - Date = 2020-03-11 00:00:00, number of deaths =  0, number of infected = 571\n",
      "2020-08-29 09:52:33,060 - june.simulator - INFO - Date = 2020-03-11 01:00:00, number of deaths =  0, number of infected = 576\n",
      "2020-08-29 09:52:33,884 - june.simulator - INFO - Date = 2020-03-11 09:00:00, number of deaths =  0, number of infected = 774\n",
      "2020-08-29 09:52:34,421 - june.simulator - INFO - Date = 2020-03-11 10:00:00, number of deaths =  0, number of infected = 781\n",
      "2020-08-29 09:52:34,691 - june.simulator - INFO - Date = 2020-03-11 13:00:00, number of deaths =  0, number of infected = 804\n",
      "2020-08-29 09:52:34,987 - june.simulator - INFO - Date = 2020-03-12 00:00:00, number of deaths =  0, number of infected = 880\n",
      "2020-08-29 09:52:35,320 - june.simulator - INFO - Date = 2020-03-12 01:00:00, number of deaths =  0, number of infected = 887\n",
      "2020-08-29 09:52:35,684 - june.simulator - INFO - Date = 2020-03-12 09:00:00, number of deaths =  0, number of infected = 1108\n",
      "2020-08-29 09:52:36,181 - june.simulator - INFO - Date = 2020-03-12 10:00:00, number of deaths =  0, number of infected = 1115\n",
      "2020-08-29 09:52:36,540 - june.simulator - INFO - Date = 2020-03-12 13:00:00, number of deaths =  0, number of infected = 1139\n",
      "2020-08-29 09:52:36,854 - june.simulator - INFO - Date = 2020-03-13 00:00:00, number of deaths =  0, number of infected = 1216\n",
      "2020-08-29 09:52:37,201 - june.simulator - INFO - Date = 2020-03-13 01:00:00, number of deaths =  0, number of infected = 1223\n",
      "2020-08-29 09:52:37,651 - june.simulator - INFO - Date = 2020-03-13 09:00:00, number of deaths =  0, number of infected = 1520\n",
      "2020-08-29 09:52:38,380 - june.simulator - INFO - Date = 2020-03-13 10:00:00, number of deaths =  0, number of infected = 1532\n",
      "2020-08-29 09:52:38,656 - june.simulator - INFO - Date = 2020-03-13 13:00:00, number of deaths =  0, number of infected = 1577\n",
      "2020-08-29 09:52:39,293 - june.simulator - INFO - Date = 2020-03-14 00:00:00, number of deaths =  0, number of infected = 1707\n",
      "2020-08-29 09:52:39,918 - june.simulator - INFO - Date = 2020-03-14 04:00:00, number of deaths =  0, number of infected = 1763\n"
     ]
    },
    {
     "name": "stdout",
     "output_type": "stream",
     "text": [
      "2020-08-29 09:52:40,568 - june.simulator - INFO - Date = 2020-03-14 08:00:00, number of deaths =  0, number of infected = 1833\n",
      "2020-08-29 09:52:40,824 - june.simulator - INFO - Date = 2020-03-14 12:00:00, number of deaths =  0, number of infected = 1891\n",
      "2020-08-29 09:52:41,368 - june.simulator - INFO - Date = 2020-03-15 00:00:00, number of deaths =  0, number of infected = 2045\n",
      "2020-08-29 09:52:41,896 - june.simulator - INFO - Date = 2020-03-15 04:00:00, number of deaths =  0, number of infected = 2108\n",
      "2020-08-29 09:52:42,463 - june.simulator - INFO - Date = 2020-03-15 08:00:00, number of deaths =  0, number of infected = 2161\n",
      "2020-08-29 09:52:42,891 - june.simulator - INFO - Date = 2020-03-15 12:00:00, number of deaths =  0, number of infected = 2228\n",
      "2020-08-29 09:52:43,372 - june.simulator - INFO - Date = 2020-03-16 00:00:00, number of deaths =  0, number of infected = 2393\n",
      "2020-08-29 09:52:43,928 - june.simulator - INFO - Date = 2020-03-16 01:00:00, number of deaths =  0, number of infected = 2407\n",
      "2020-08-29 09:52:45,482 - june.simulator - INFO - Date = 2020-03-16 09:00:00, number of deaths =  0, number of infected = 2933\n",
      "2020-08-29 09:52:46,184 - june.simulator - INFO - Date = 2020-03-16 10:00:00, number of deaths =  0, number of infected = 2944\n",
      "2020-08-29 09:52:46,612 - june.simulator - INFO - Date = 2020-03-16 13:00:00, number of deaths =  0, number of infected = 3001\n",
      "2020-08-29 09:52:47,300 - june.simulator - INFO - Date = 2020-03-17 00:00:00, number of deaths =  0, number of infected = 3193\n",
      "2020-08-29 09:52:47,865 - june.simulator - INFO - Date = 2020-03-17 01:00:00, number of deaths =  0, number of infected = 3212\n",
      "2020-08-29 09:52:48,417 - june.simulator - INFO - Date = 2020-03-17 09:00:00, number of deaths =  1, number of infected = 3818\n",
      "2020-08-29 09:52:49,135 - june.simulator - INFO - Date = 2020-03-17 10:00:00, number of deaths =  1, number of infected = 3847\n",
      "2020-08-29 09:52:49,567 - june.simulator - INFO - Date = 2020-03-17 13:00:00, number of deaths =  1, number of infected = 3914\n",
      "2020-08-29 09:52:50,074 - june.simulator - INFO - Date = 2020-03-18 00:00:00, number of deaths =  1, number of infected = 4180\n",
      "2020-08-29 09:52:50,609 - june.simulator - INFO - Date = 2020-03-18 01:00:00, number of deaths =  1, number of infected = 4205\n",
      "2020-08-29 09:52:51,205 - june.simulator - INFO - Date = 2020-03-18 09:00:00, number of deaths =  1, number of infected = 4827\n",
      "2020-08-29 09:52:52,197 - june.simulator - INFO - Date = 2020-03-18 10:00:00, number of deaths =  1, number of infected = 4859\n",
      "2020-08-29 09:52:52,765 - june.simulator - INFO - Date = 2020-03-18 13:00:00, number of deaths =  1, number of infected = 4957\n",
      "2020-08-29 09:52:53,366 - june.simulator - INFO - Date = 2020-03-19 00:00:00, number of deaths =  1, number of infected = 5287\n",
      "2020-08-29 09:52:54,004 - june.simulator - INFO - Date = 2020-03-19 01:00:00, number of deaths =  1, number of infected = 5323\n",
      "2020-08-29 09:52:54,627 - june.simulator - INFO - Date = 2020-03-19 09:00:00, number of deaths =  1, number of infected = 6031\n",
      "2020-08-29 09:52:55,510 - june.simulator - INFO - Date = 2020-03-19 10:00:00, number of deaths =  1, number of infected = 6070\n",
      "2020-08-29 09:52:56,062 - june.simulator - INFO - Date = 2020-03-19 13:00:00, number of deaths =  1, number of infected = 6201\n",
      "2020-08-29 09:52:56,737 - june.simulator - INFO - Date = 2020-03-20 00:00:00, number of deaths =  1, number of infected = 6607\n",
      "2020-08-29 09:52:57,776 - june.simulator - INFO - Date = 2020-03-20 01:00:00, number of deaths =  1, number of infected = 6650\n",
      "2020-08-29 09:52:58,602 - june.simulator - INFO - Date = 2020-03-20 09:00:00, number of deaths =  1, number of infected = 7063\n",
      "2020-08-29 09:52:59,612 - june.simulator - INFO - Date = 2020-03-20 10:00:00, number of deaths =  1, number of infected = 7094\n",
      "2020-08-29 09:53:00,258 - june.simulator - INFO - Date = 2020-03-20 13:00:00, number of deaths =  1, number of infected = 7230\n",
      "2020-08-29 09:53:01,201 - june.simulator - INFO - Date = 2020-03-21 00:00:00, number of deaths =  2, number of infected = 7628\n",
      "2020-08-29 09:53:02,194 - june.simulator - INFO - Date = 2020-03-21 04:00:00, number of deaths =  2, number of infected = 7795\n",
      "2020-08-29 09:53:03,209 - june.simulator - INFO - Date = 2020-03-21 08:00:00, number of deaths =  2, number of infected = 7981\n",
      "2020-08-29 09:53:03,964 - june.simulator - INFO - Date = 2020-03-21 12:00:00, number of deaths =  2, number of infected = 8154\n",
      "2020-08-29 09:53:05,039 - june.simulator - INFO - Date = 2020-03-22 00:00:00, number of deaths =  3, number of infected = 8617\n"
     ]
    }
   ],
   "source": [
    "%%time\n",
    "simulator.run()"
   ]
  },
  {
   "cell_type": "markdown",
   "metadata": {},
   "source": [
    "While the simulation runs (and afterwards) we can launch the visualization webpage by running\n",
    "```python june/visualizer.py path/to/results``` "
   ]
  },
  {
   "cell_type": "markdown",
   "metadata": {},
   "source": [
    "# Getting the results"
   ]
  },
  {
   "cell_type": "markdown",
   "metadata": {},
   "source": [
    "All results are stored in a json file specified in the ``save_path`` variable in the config file. We can also access it from ``world.logger`` directly."
   ]
  },
  {
   "cell_type": "code",
   "execution_count": null,
   "metadata": {},
   "outputs": [],
   "source": [
    "import pandas as pd"
   ]
  },
  {
   "cell_type": "code",
   "execution_count": null,
   "metadata": {},
   "outputs": [],
   "source": [
    "read = ReadLogger()"
   ]
  },
  {
   "cell_type": "markdown",
   "metadata": {},
   "source": [
    "## Hospital data and how it changed over time"
   ]
  },
  {
   "cell_type": "code",
   "execution_count": null,
   "metadata": {},
   "outputs": [],
   "source": [
    "hospitals_df = read.load_hospital_capacity()"
   ]
  },
  {
   "cell_type": "code",
   "execution_count": null,
   "metadata": {},
   "outputs": [],
   "source": [
    "hospitals_df.head(3)"
   ]
  },
  {
   "cell_type": "code",
   "execution_count": null,
   "metadata": {},
   "outputs": [],
   "source": [
    "hospitals_characteristics_df = read.load_hospital_characteristics()"
   ]
  },
  {
   "cell_type": "code",
   "execution_count": null,
   "metadata": {},
   "outputs": [],
   "source": [
    "hospitals_characteristics_df"
   ]
  },
  {
   "cell_type": "markdown",
   "metadata": {},
   "source": [
    "## where did infections happen?"
   ]
  },
  {
   "cell_type": "code",
   "execution_count": null,
   "metadata": {},
   "outputs": [],
   "source": [
    "loc_df = read.get_locations_infections()"
   ]
  },
  {
   "cell_type": "code",
   "execution_count": null,
   "metadata": {},
   "outputs": [],
   "source": [
    "locations_per_day = read.locations_df.groupby(pd.Grouper(freq='D')).sum()"
   ]
  },
  {
   "cell_type": "code",
   "execution_count": null,
   "metadata": {},
   "outputs": [],
   "source": [
    "all_infection_places = set(locations_per_day.location.sum())"
   ]
  },
  {
   "cell_type": "code",
   "execution_count": null,
   "metadata": {},
   "outputs": [],
   "source": [
    "def n_infections(row, infection_place):\n",
    "    return sum([row.counts[i] for i, x in enumerate(row.location) if x == infection_place])\n"
   ]
  },
  {
   "cell_type": "code",
   "execution_count": null,
   "metadata": {},
   "outputs": [],
   "source": [
    "for infection_place in all_infection_places:\n",
    "    locations_per_day[str(infection_place)] = locations_per_day.apply(\n",
    "        lambda x: n_infections(x, infection_place),\n",
    "        axis=1\n",
    "    )"
   ]
  },
  {
   "cell_type": "code",
   "execution_count": null,
   "metadata": {},
   "outputs": [],
   "source": [
    "locations_per_day = locations_per_day.drop(columns=['location',\n",
    "                                                    'counts'])"
   ]
  },
  {
   "cell_type": "code",
   "execution_count": null,
   "metadata": {},
   "outputs": [],
   "source": [
    "locations_per_day = locations_per_day.div(\n",
    "    locations_per_day.sum(axis=1), axis=0\n",
    ")\n"
   ]
  },
  {
   "cell_type": "code",
   "execution_count": null,
   "metadata": {},
   "outputs": [],
   "source": [
    "import matplotlib as mpl\n",
    "mpl.rcParams['figure.dpi'] = 100"
   ]
  },
  {
   "cell_type": "code",
   "execution_count": null,
   "metadata": {},
   "outputs": [],
   "source": [
    "locations_per_day.plot.area( alpha=0.5)\n",
    "plt.legend(bbox_to_anchor=(1,1))\n",
    "plt.ylabel('Percent of infections')"
   ]
  },
  {
   "cell_type": "code",
   "execution_count": null,
   "metadata": {},
   "outputs": [],
   "source": [
    "from matplotlib import cm\n",
    "cmap = cm.get_cmap('Spectral') # Colour map (there are many others)\n",
    "\n",
    "locations_per_day.plot(figsize=(30,8), logy=True, ylim=(1e-3, 1), cmap=cmap)"
   ]
  },
  {
   "cell_type": "code",
   "execution_count": null,
   "metadata": {},
   "outputs": [],
   "source": [
    "import matplotlib.ticker as mtick\n",
    "\n",
    "ax = loc_df['percentage_infections'].sort_values().plot.bar()\n",
    "ax.yaxis.set_major_formatter(mtick.PercentFormatter())\n",
    "plt.ylabel('Percentage of infections at location')\n",
    "plt.xlabel('location')\n",
    "#plt.yscale('log')"
   ]
  },
  {
   "cell_type": "markdown",
   "metadata": {},
   "source": [
    "## rate of infection"
   ]
  },
  {
   "cell_type": "code",
   "execution_count": null,
   "metadata": {},
   "outputs": [],
   "source": [
    "r_df = read.get_r()"
   ]
  },
  {
   "cell_type": "code",
   "execution_count": null,
   "metadata": {},
   "outputs": [],
   "source": [
    "from june.policy import SocialDistancing\n",
    "r_df.plot()\n",
    "colors = [\"yellow\", \"orange\", 'blue']\n",
    "for policy in policies.policies:\n",
    "    if isinstance(policy, SocialDistancing):\n",
    "        plt.axvspan(policy.start_time, \n",
    "                policy.end_time,\n",
    "                facecolor=colors.pop(),\n",
    "                alpha=0.2)\n",
    "plt.axhline(y=1, linestyle='dashed', color='gray')\n",
    "plt.xlabel('Date')\n",
    "plt.ylim(0,3)\n",
    "plt.ylabel('R')"
   ]
  },
  {
   "cell_type": "markdown",
   "metadata": {},
   "source": [
    "## World infection curves, and by super area"
   ]
  },
  {
   "cell_type": "code",
   "execution_count": null,
   "metadata": {},
   "outputs": [],
   "source": [
    "world_df = read.world_summary()"
   ]
  },
  {
   "cell_type": "code",
   "execution_count": null,
   "metadata": {},
   "outputs": [],
   "source": [
    "world_df['new_infections'].sum()/len(world.people)"
   ]
  },
  {
   "cell_type": "code",
   "execution_count": null,
   "metadata": {},
   "outputs": [],
   "source": [
    "len(world.people)"
   ]
  },
  {
   "cell_type": "code",
   "execution_count": null,
   "metadata": {},
   "outputs": [],
   "source": [
    "fig, ax = plt.subplots()\n",
    "world_df['new_infections'].resample('D').sum().plot(ax=ax)\n",
    "for policy in policies.policies:\n",
    "    plt.axvspan(policy.start_time, \n",
    "                policy.end_time,\n",
    "                alpha=0.01)\n",
    "plt.axvline('2020-03-23',\n",
    "           linestyle='dashed',\n",
    "           color='indianred')\n",
    "ax.set_ylabel('# new infections')\n",
    "ax.set_xlabel('Date')"
   ]
  },
  {
   "cell_type": "code",
   "execution_count": null,
   "metadata": {},
   "outputs": [],
   "source": [
    "fig, ax = plt.subplots()\n",
    "(world_df['hospital_admissions']+world_df['intensive_care_admissions']).resample('D').sum().plot(ax=ax)\n",
    "colors = [\"yellow\", \"orange\"]\n",
    "for policy in policies.policies:\n",
    "    if isinstance(policy, SocialDistancing):\n",
    "        plt.axvspan(policy.start_time, \n",
    "                policy.end_time,\n",
    "                facecolor=colors.pop(), alpha=0.2)\n",
    "plt.axvline('2020-04-01',\n",
    "           linestyle='dashed',\n",
    "           color='indianred')\n",
    "ax.set_ylabel('# hospital admissions')\n",
    "ax.set_xlabel('Date')"
   ]
  },
  {
   "cell_type": "code",
   "execution_count": null,
   "metadata": {},
   "outputs": [],
   "source": [
    "fig, ax = plt.subplots()\n",
    "world_df['infected'].plot(ax=ax)\n",
    "colors = [\"yellow\", \"orange\"]\n",
    "for policy in policies.policies:\n",
    "    if isinstance(policy, SocialDistancing):\n",
    "        plt.axvspan(policy.start_time, \n",
    "                policy.end_time,\n",
    "                facecolor=colors.pop(), alpha=0.2)\n",
    "ax.set_ylabel('# Infected')\n",
    "ax.set_xlabel('Date')"
   ]
  },
  {
   "cell_type": "code",
   "execution_count": null,
   "metadata": {},
   "outputs": [],
   "source": [
    "world_df.plot()\n",
    "colors = [\"yellow\", \"orange\"]\n",
    "for policy in policies.policies:\n",
    "    if isinstance(policy, SocialDistancing):\n",
    "        plt.axvspan(policy.start_time, \n",
    "                policy.end_time,\n",
    "                facecolor=colors.pop(), alpha=0.2)\n",
    "plt.legend(bbox_to_anchor=(1,1))\n"
   ]
  },
  {
   "cell_type": "code",
   "execution_count": null,
   "metadata": {},
   "outputs": [],
   "source": [
    "area_df = read.super_area_summary()"
   ]
  },
  {
   "cell_type": "code",
   "execution_count": null,
   "metadata": {},
   "outputs": [],
   "source": [
    "area_df[area_df.super_area == \"E02003282\"].plot()\n",
    "plt.legend(bbox_to_anchor=(1,1))"
   ]
  },
  {
   "cell_type": "markdown",
   "metadata": {},
   "source": [
    "## World infection curves per age group"
   ]
  },
  {
   "cell_type": "code",
   "execution_count": null,
   "metadata": {},
   "outputs": [],
   "source": [
    "ages_df = read.age_summary([0,10,20,30,40,\n",
    "                  50,60,70,80,90,100])"
   ]
  },
  {
   "cell_type": "code",
   "execution_count": null,
   "metadata": {},
   "outputs": [],
   "source": [
    "for name, group in ages_df.groupby('age_range'):\n",
    "    group['infected'].plot(label=name)\n",
    "colors = [\"yellow\", \"orange\"]\n",
    "for policy in policies.policies:\n",
    "    if isinstance(policy, SocialDistancing):\n",
    "        plt.axvspan(policy.start_time, \n",
    "                policy.end_time,\n",
    "                facecolor=colors.pop(), alpha=0.2)\n",
    "plt.legend(bbox_to_anchor=(1,1))\n"
   ]
  },
  {
   "cell_type": "code",
   "execution_count": null,
   "metadata": {},
   "outputs": [],
   "source": [
    "for name, group in ages_df.groupby('age_range'):\n",
    "    group['dead'].cumsum().plot(label=name)\n",
    "plt.legend()"
   ]
  },
  {
   "cell_type": "code",
   "execution_count": null,
   "metadata": {},
   "outputs": [],
   "source": [
    "for name, group in ages_df.groupby('age_range'):\n",
    "    group['susceptible'].plot(label=name)\n",
    "plt.legend()"
   ]
  },
  {
   "cell_type": "code",
   "execution_count": null,
   "metadata": {},
   "outputs": [],
   "source": [
    "for name, group in ages_df.groupby('age_range'):\n",
    "    group['hospital_admissions'].cumsum().plot(label=name)\n",
    "plt.legend()"
   ]
  },
  {
   "cell_type": "code",
   "execution_count": null,
   "metadata": {},
   "outputs": [],
   "source": [
    "for name, group in ages_df.groupby('age_range'):\n",
    "    group['intensive_care_admissions'].cumsum().plot(label=name)\n",
    "plt.legend()"
   ]
  },
  {
   "cell_type": "markdown",
   "metadata": {},
   "source": [
    "## Draw some of the symptoms trajectories"
   ]
  },
  {
   "cell_type": "code",
   "execution_count": null,
   "metadata": {},
   "outputs": [],
   "source": [
    "random_trajectories = read.draw_symptom_trajectories(window_length=600,\n",
    "                                        n_people=10)"
   ]
  },
  {
   "cell_type": "code",
   "execution_count": null,
   "metadata": {},
   "outputs": [],
   "source": [
    "from june.infection import SymptomTag"
   ]
  },
  {
   "cell_type": "code",
   "execution_count": null,
   "metadata": {},
   "outputs": [],
   "source": [
    "symptoms_values = [tag.value for tag in SymptomTag]\n",
    "symptoms_names = [tag.name for tag in SymptomTag]\n"
   ]
  },
  {
   "cell_type": "code",
   "execution_count": null,
   "metadata": {},
   "outputs": [],
   "source": [
    "for df_person in random_trajectories:\n",
    "    df_person['symptoms'].plot()\n",
    "plt.ylabel('Symptoms Trajectory')\n",
    "_ = plt.yticks(symptoms_values, symptoms_names)\n",
    "plt.xlabel('Date')"
   ]
  },
  {
   "cell_type": "code",
   "execution_count": null,
   "metadata": {},
   "outputs": [],
   "source": [
    "for df_person in random_trajectories:\n",
    "    df_person['n_secondary_infections'].plot()\n",
    "plt.ylabel('Number of secondary infections')\n",
    "\n",
    "plt.xlabel('Date')"
   ]
  },
  {
   "cell_type": "code",
   "execution_count": null,
   "metadata": {},
   "outputs": [],
   "source": [
    "person.primary_activity.group.spec"
   ]
  },
  {
   "cell_type": "code",
   "execution_count": null,
   "metadata": {},
   "outputs": [],
   "source": []
  }
 ],
 "metadata": {
  "kernelspec": {
   "display_name": "Python 3",
   "language": "python",
   "name": "python3"
  },
  "language_info": {
   "codemirror_mode": {
    "name": "ipython",
    "version": 3
   },
   "file_extension": ".py",
   "mimetype": "text/x-python",
   "name": "python",
   "nbconvert_exporter": "python",
   "pygments_lexer": "ipython3",
   "version": "3.8.3"
  }
 },
 "nbformat": 4,
 "nbformat_minor": 4
}
