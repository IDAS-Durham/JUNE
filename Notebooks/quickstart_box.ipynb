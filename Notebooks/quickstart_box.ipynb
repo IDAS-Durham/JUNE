{
 "cells": [
  {
   "cell_type": "markdown",
   "metadata": {},
   "source": [
    "# Running the simulation in a box"
   ]
  },
  {
   "cell_type": "markdown",
   "metadata": {},
   "source": [
    "### Import module, if this fails read setup in the readme file"
   ]
  },
  {
   "cell_type": "code",
   "execution_count": 1,
   "metadata": {},
   "outputs": [],
   "source": [
    "from june import World"
   ]
  },
  {
   "cell_type": "markdown",
   "metadata": {},
   "source": [
    "We have two options: Initialize a box with random people or take a distribution from the census.\n",
    "To take a certain region we do:"
   ]
  },
  {
   "cell_type": "code",
   "execution_count": 6,
   "metadata": {},
   "outputs": [
    {
     "name": "stdout",
     "output_type": "stream",
     "text": [
      "Initializing world...\n",
      "Reading inputs...\n",
      "Setting up box mode...\n",
      "Done.\n"
     ]
    }
   ],
   "source": [
    "world = World(box_mode=True, box_region=\"NorthEast\")"
   ]
  },
  {
   "cell_type": "markdown",
   "metadata": {},
   "source": [
    "While a box with random people can be created with:"
   ]
  },
  {
   "cell_type": "code",
   "execution_count": 7,
   "metadata": {},
   "outputs": [
    {
     "name": "stdout",
     "output_type": "stream",
     "text": [
      "Initializing world...\n",
      "Reading inputs...\n",
      "Setting up box mode...\n",
      "Done.\n"
     ]
    }
   ],
   "source": [
    "world = World(box_mode=True, box_n_people=2000)"
   ]
  },
  {
   "cell_type": "markdown",
   "metadata": {},
   "source": [
    "### *Note* To change other parameters, e.g., the transmission class, create a config file similar to ``conifgs/config_boxmode_example.yaml`` "
   ]
  },
  {
   "cell_type": "code",
   "execution_count": 11,
   "metadata": {},
   "outputs": [
    {
     "name": "stdout",
     "output_type": "stream",
     "text": [
      "Initializing world...\n",
      "Reading inputs...\n",
      "Setting up box mode...\n",
      "Done.\n"
     ]
    }
   ],
   "source": [
    "world = World(\"../configs/config_boxmode_example.yaml\", box_mode=True, box_n_people = 3000)"
   ]
  },
  {
   "cell_type": "markdown",
   "metadata": {},
   "source": [
    "### The simulation can then be started with the ``covid_dynamics`` command. All parameters are taken from the config file"
   ]
  },
  {
   "cell_type": "code",
   "execution_count": 12,
   "metadata": {},
   "outputs": [
    {
     "name": "stdout",
     "output_type": "stream",
     "text": [
      "Starting group_dynamics for  50  days at day 1\n",
      "starting the loop ..., at  1  days, to run for  50  days\n"
     ]
    }
   ],
   "source": [
    "world.group_dynamics()"
   ]
  },
  {
   "cell_type": "markdown",
   "metadata": {},
   "source": [
    "### The people in the world can be accessed using"
   ]
  },
  {
   "cell_type": "code",
   "execution_count": null,
   "metadata": {},
   "outputs": [],
   "source": [
    "person = world.people.members[0]"
   ]
  },
  {
   "cell_type": "markdown",
   "metadata": {},
   "source": [
    "### Each person carries a ``health_information`` object"
   ]
  },
  {
   "cell_type": "code",
   "execution_count": null,
   "metadata": {},
   "outputs": [],
   "source": [
    "person.health_information.infected"
   ]
  },
  {
   "cell_type": "code",
   "execution_count": null,
   "metadata": {},
   "outputs": [],
   "source": [
    "person.health_information.recovered"
   ]
  },
  {
   "cell_type": "code",
   "execution_count": null,
   "metadata": {},
   "outputs": [],
   "source": [
    "person.health_information.susceptible"
   ]
  },
  {
   "cell_type": "markdown",
   "metadata": {},
   "source": [
    "### There is a logger that automatically tracks relevant information"
   ]
  },
  {
   "cell_type": "code",
   "execution_count": 10,
   "metadata": {},
   "outputs": [
    {
     "data": {
      "text/plain": [
       "(<Figure size 432x288 with 1 Axes>,\n",
       " <matplotlib.axes._subplots.AxesSubplot at 0x7fb9650cab20>)"
      ]
     },
     "execution_count": 10,
     "metadata": {},
     "output_type": "execute_result"
    },
    {
     "data": {
      "image/png": "[encoded data removed]",
      "text/plain": [
       "<Figure size 432x288 with 1 Axes>"
      ]
     },
     "metadata": {
      "needs_background": "light"
     },
     "output_type": "display_data"
    }
   ],
   "source": [
    "world.logger.plot_infection_curves_per_day()"
   ]
  },
  {
   "cell_type": "code",
   "execution_count": 11,
   "metadata": {},
   "outputs": [
    {
     "data": {
      "text/plain": [
       "{'world': {1: {'susceptible': 4798, 'infected': 95, 'recovered': 5},\n",
       "  1.3333333333333333: {'susceptible': 4796, 'infected': 80, 'recovered': 22},\n",
       "  2.0: {'susceptible': 4794, 'infected': 80, 'recovered': 24},\n",
       "  2.3333333333333335: {'susceptible': 4791, 'infected': 81, 'recovered': 26},\n",
       "  3.0: {'susceptible': 4790, 'infected': 81, 'recovered': 27},\n",
       "  3.3333333333333335: {'susceptible': 4783, 'infected': 82, 'recovered': 33},\n",
       "  4.0: {'susceptible': 4782, 'infected': 80, 'recovered': 36},\n",
       "  4.333333333333333: {'susceptible': 4779, 'infected': 78, 'recovered': 41},\n",
       "  5.0: {'susceptible': 4777, 'infected': 76, 'recovered': 45},\n",
       "  5.333333333333333: {'susceptible': 4776, 'infected': 72, 'recovered': 50},\n",
       "  6.0: {'susceptible': 4776, 'infected': 68, 'recovered': 54},\n",
       "  7.0: {'susceptible': 4774, 'infected': 66, 'recovered': 58},\n",
       "  8.0: {'susceptible': 4772, 'infected': 62, 'recovered': 64},\n",
       "  8.333333333333334: {'susceptible': 4768, 'infected': 59, 'recovered': 71},\n",
       "  9.0: {'susceptible': 4767, 'infected': 57, 'recovered': 74},\n",
       "  9.333333333333334: {'susceptible': 4764, 'infected': 57, 'recovered': 77},\n",
       "  10.0: {'susceptible': 4763, 'infected': 56, 'recovered': 79},\n",
       "  10.333333333333334: {'susceptible': 4762, 'infected': 54, 'recovered': 82},\n",
       "  11.0: {'susceptible': 4761, 'infected': 53, 'recovered': 84},\n",
       "  11.333333333333334: {'susceptible': 4760, 'infected': 47, 'recovered': 91},\n",
       "  12.0: {'susceptible': 4760, 'infected': 45, 'recovered': 93},\n",
       "  12.333333333333334: {'susceptible': 4759, 'infected': 42, 'recovered': 97},\n",
       "  13.0: {'susceptible': 4757, 'infected': 42, 'recovered': 99},\n",
       "  14.0: {'susceptible': 4756, 'infected': 40, 'recovered': 102},\n",
       "  15.0: {'susceptible': 4754, 'infected': 38, 'recovered': 106},\n",
       "  15.333333333333334: {'susceptible': 4752, 'infected': 36, 'recovered': 110},\n",
       "  16.0: {'susceptible': 4752, 'infected': 33, 'recovered': 113},\n",
       "  16.333333333333332: {'susceptible': 4749, 'infected': 35, 'recovered': 114},\n",
       "  17.0: {'susceptible': 4749, 'infected': 33, 'recovered': 116},\n",
       "  17.333333333333332: {'susceptible': 4749, 'infected': 31, 'recovered': 118},\n",
       "  18.0: {'susceptible': 4748, 'infected': 32, 'recovered': 118},\n",
       "  18.333333333333332: {'susceptible': 4747, 'infected': 33, 'recovered': 118},\n",
       "  19.0: {'susceptible': 4746, 'infected': 34, 'recovered': 118},\n",
       "  19.333333333333332: {'susceptible': 4746, 'infected': 33, 'recovered': 119},\n",
       "  20.0: {'susceptible': 4745, 'infected': 33, 'recovered': 120},\n",
       "  21.0: {'susceptible': 4743, 'infected': 34, 'recovered': 121},\n",
       "  22.0: {'susceptible': 4743, 'infected': 31, 'recovered': 124},\n",
       "  22.333333333333332: {'susceptible': 4743, 'infected': 26, 'recovered': 129},\n",
       "  23.0: {'susceptible': 4743, 'infected': 22, 'recovered': 133},\n",
       "  23.333333333333332: {'susceptible': 4743, 'infected': 22, 'recovered': 133},\n",
       "  24.0: {'susceptible': 4743, 'infected': 22, 'recovered': 133},\n",
       "  24.333333333333332: {'susceptible': 4741, 'infected': 21, 'recovered': 136},\n",
       "  25.0: {'susceptible': 4740, 'infected': 22, 'recovered': 136},\n",
       "  25.333333333333332: {'susceptible': 4739, 'infected': 23, 'recovered': 136},\n",
       "  26.0: {'susceptible': 4739, 'infected': 23, 'recovered': 136},\n",
       "  26.333333333333332: {'susceptible': 4738, 'infected': 23, 'recovered': 137},\n",
       "  27.0: {'susceptible': 4738, 'infected': 22, 'recovered': 138},\n",
       "  28.0: {'susceptible': 4738, 'infected': 20, 'recovered': 140},\n",
       "  29.0: {'susceptible': 4737, 'infected': 20, 'recovered': 141},\n",
       "  29.333333333333332: {'susceptible': 4736, 'infected': 21, 'recovered': 141},\n",
       "  30.0: {'susceptible': 4735, 'infected': 20, 'recovered': 143},\n",
       "  30.333333333333332: {'susceptible': 4735, 'infected': 20, 'recovered': 143},\n",
       "  31.0: {'susceptible': 4735, 'infected': 19, 'recovered': 144},\n",
       "  31.333333333333332: {'susceptible': 4734, 'infected': 18, 'recovered': 146},\n",
       "  32.0: {'susceptible': 4733, 'infected': 19, 'recovered': 146},\n",
       "  32.333333333333336: {'susceptible': 4733, 'infected': 19, 'recovered': 146},\n",
       "  33.0: {'susceptible': 4733, 'infected': 19, 'recovered': 146},\n",
       "  33.333333333333336: {'susceptible': 4733, 'infected': 19, 'recovered': 146},\n",
       "  34.0: {'susceptible': 4732, 'infected': 20, 'recovered': 146},\n",
       "  35.0: {'susceptible': 4728, 'infected': 24, 'recovered': 146},\n",
       "  36.0: {'susceptible': 4727, 'infected': 24, 'recovered': 147},\n",
       "  36.333333333333336: {'susceptible': 4725, 'infected': 24, 'recovered': 149},\n",
       "  37.0: {'susceptible': 4725, 'infected': 23, 'recovered': 150},\n",
       "  37.333333333333336: {'susceptible': 4725, 'infected': 21, 'recovered': 152},\n",
       "  38.0: {'susceptible': 4725, 'infected': 20, 'recovered': 153},\n",
       "  38.333333333333336: {'susceptible': 4722, 'infected': 21, 'recovered': 155},\n",
       "  39.0: {'susceptible': 4721, 'infected': 22, 'recovered': 155},\n",
       "  39.333333333333336: {'susceptible': 4721, 'infected': 21, 'recovered': 156},\n",
       "  40.0: {'susceptible': 4720, 'infected': 21, 'recovered': 157},\n",
       "  40.333333333333336: {'susceptible': 4717, 'infected': 24, 'recovered': 157},\n",
       "  41.0: {'susceptible': 4716, 'infected': 24, 'recovered': 158},\n",
       "  42.0: {'susceptible': 4716, 'infected': 22, 'recovered': 160},\n",
       "  43.0: {'susceptible': 4715, 'infected': 21, 'recovered': 162},\n",
       "  43.333333333333336: {'susceptible': 4714, 'infected': 19, 'recovered': 165},\n",
       "  44.0: {'susceptible': 4714, 'infected': 18, 'recovered': 166},\n",
       "  44.333333333333336: {'susceptible': 4712, 'infected': 19, 'recovered': 167},\n",
       "  45.0: {'susceptible': 4712, 'infected': 17, 'recovered': 169},\n",
       "  45.333333333333336: {'susceptible': 4712, 'infected': 16, 'recovered': 170},\n",
       "  46.0: {'susceptible': 4711, 'infected': 17, 'recovered': 170},\n",
       "  46.333333333333336: {'susceptible': 4711, 'infected': 15, 'recovered': 172},\n",
       "  47.0: {'susceptible': 4710, 'infected': 15, 'recovered': 173},\n",
       "  47.333333333333336: {'susceptible': 4707, 'infected': 15, 'recovered': 176},\n",
       "  48.0: {'susceptible': 4706, 'infected': 15, 'recovered': 177},\n",
       "  49.0: {'susceptible': 4705, 'infected': 14, 'recovered': 179},\n",
       "  50.0: {'susceptible': 4705, 'infected': 13, 'recovered': 180}}}"
      ]
     },
     "execution_count": 11,
     "metadata": {},
     "output_type": "execute_result"
    }
   ],
   "source": [
    "world.logger.data_dict"
   ]
  },
  {
   "cell_type": "code",
   "execution_count": null,
   "metadata": {},
   "outputs": [],
   "source": []
  }
 ],
 "metadata": {
  "kernelspec": {
   "display_name": "Python 3",
   "language": "python",
   "name": "python3"
  },
  "language_info": {
   "codemirror_mode": {
    "name": "ipython",
    "version": 3
   },
   "file_extension": ".py",
   "mimetype": "text/x-python",
   "name": "python",
   "nbconvert_exporter": "python",
   "pygments_lexer": "ipython3",
   "version": "3.8.2"
  }
 },
 "nbformat": 4,
 "nbformat_minor": 4
}
